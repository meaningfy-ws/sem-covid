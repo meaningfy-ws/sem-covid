{
 "cells": [
  {
   "cell_type": "code",
   "execution_count": 68,
   "metadata": {
    "collapsed": true
   },
   "outputs": [
    {
     "ename": "ModuleNotFoundError",
     "evalue": "No module named 'airflow'",
     "output_type": "error",
     "traceback": [
      "\u001B[0;31m---------------------------------------------------------------------------\u001B[0m",
      "\u001B[0;31mModuleNotFoundError\u001B[0m                       Traceback (most recent call last)",
      "\u001B[0;32m<ipython-input-68-55a501de11f9>\u001B[0m in \u001B[0;36m<module>\u001B[0;34m\u001B[0m\n\u001B[1;32m      4\u001B[0m \u001B[0;34m\u001B[0m\u001B[0m\n\u001B[1;32m      5\u001B[0m \u001B[0;32mimport\u001B[0m \u001B[0mpandas\u001B[0m \u001B[0;32mas\u001B[0m \u001B[0mpd\u001B[0m\u001B[0;34m\u001B[0m\u001B[0;34m\u001B[0m\u001B[0m\n\u001B[0;32m----> 6\u001B[0;31m \u001B[0;32mfrom\u001B[0m \u001B[0mairflow\u001B[0m \u001B[0;32mimport\u001B[0m \u001B[0mDAG\u001B[0m\u001B[0;34m\u001B[0m\u001B[0;34m\u001B[0m\u001B[0m\n\u001B[0m\u001B[1;32m      7\u001B[0m \u001B[0;34m\u001B[0m\u001B[0m\n\u001B[1;32m      8\u001B[0m \u001B[0msys\u001B[0m\u001B[0;34m.\u001B[0m\u001B[0mpath\u001B[0m\u001B[0;34m.\u001B[0m\u001B[0mappend\u001B[0m\u001B[0;34m(\u001B[0m\u001B[0;34m\"/home/jovyan/work/sem-covid/\"\u001B[0m\u001B[0;34m)\u001B[0m\u001B[0;34m\u001B[0m\u001B[0;34m\u001B[0m\u001B[0m\n",
      "\u001B[0;31mModuleNotFoundError\u001B[0m: No module named 'airflow'"
     ]
    }
   ],
   "source": [
    "import abc\n",
    "import sys\n",
    "from abc import abstractmethod\n",
    "\n",
    "import pandas as pd\n",
    "from airflow import DAG\n",
    "from airflow.operators.python import PythonOperator\n",
    "\n",
    "sys.path.append(\"/home/jovyan/work/sem-covid/\")\n",
    "sys.path = list(set(sys.path))\n",
    "import os\n",
    "\n",
    "os.getcwd()\n",
    "os.chdir('/home/jovyan/work/sem-covid/')\n",
    "from sem_covid.services.sc_wrangling.json_transformer import transform_pwdb"
   ]
  },
  {
   "cell_type": "code",
   "execution_count": 63,
   "outputs": [],
   "source": [
    "class DagPipeline(abc.ABC):\n",
    "\n",
    "    @abstractmethod\n",
    "    def get_steps(self) -> list:\n",
    "        pass\n",
    "\n",
    "\n",
    "class DagStep:\n",
    "    def __init__(self, dag_pipeline: DagPipeline, dag_pipeline_step):\n",
    "        self.dag_pipeline = dag_pipeline\n",
    "        self.dag_pipeline_step = dag_pipeline_step\n",
    "\n",
    "    @abstractmethod\n",
    "    def __call__(self, *args, **kwargs):\n",
    "        pass\n",
    "\n",
    "\n",
    "class ObjectStateManager(abc.ABC):\n",
    "\n",
    "    @abstractmethod\n",
    "    def save_object_state(self, obj: object):\n",
    "        pass\n",
    "\n",
    "    @abstractmethod\n",
    "    def load_object_state(self) -> object:\n",
    "        pass\n",
    "\n",
    "\n",
    "class DagPipelineManager:\n",
    "    def __init__(self, dag_pipeline: DagPipeline, object_state_manager: ObjectStateManager = None):\n",
    "        self.dag_pipeline = dag_pipeline\n",
    "        self.object_state_manager = object_state_manager\n",
    "\n",
    "    def create_step(self, dag_pipeline_step, stateful: bool = False) -> DagStep:\n",
    "        if stateful:\n",
    "            assert self.object_state_manager is not None\n",
    "            return StatefulDagStep(self.dag_pipeline, dag_pipeline_step, self.object_state_manager)\n",
    "        else:\n",
    "            return StatelessDagStep(self.dag_pipeline, dag_pipeline_step)\n",
    "\n",
    "\n",
    "class StatefulDagStep(DagStep):\n",
    "    def __init__(self, dag_pipeline: DagPipeline, dag_pipeline_step, object_state_manager: ObjectStateManager):\n",
    "        super().__init__(dag_pipeline, dag_pipeline_step)\n",
    "        self.object_state_manager = object_state_manager\n",
    "\n",
    "    def __call__(self, *args, **kwargs):\n",
    "        self.dag_pipeline = self.object_state_manager.load_object_state()\n",
    "        getattr(self.dag_pipeline, self.dag_pipeline_step.__name__)(*args, **kwargs)\n",
    "        self.object_state_manager.save_object_state(self.dag_pipeline)\n",
    "\n",
    "\n",
    "class StatelessDagStep(DagStep):\n",
    "    def __call__(self, *args, **kwargs):\n",
    "        getattr(self.dag_pipeline, self.dag_pipeline_step.__name__)(*args, **kwargs)"
   ],
   "metadata": {
    "collapsed": false,
    "pycharm": {
     "name": "#%%\n"
    }
   }
  },
  {
   "cell_type": "code",
   "execution_count": null,
   "outputs": [],
   "source": [
    "class DagFactory:\n",
    "\n",
    "    def __init__(self, dag_manager: DagPipelineManager, dag_name: str, default_args: dict):\n",
    "        self.dag_name = dag_name\n",
    "        self.default_args = default_args\n",
    "        self.dag_manager = dag_manager\n",
    "\n",
    "    def create(self):\n",
    "        dag_steps = self.dag_manager.dag_pipeline.get_steps()\n",
    "\n",
    "        with DAG(self.dag_name, default_args=self.default_args, schedule_interval=\"@once\", max_active_runs=1,\n",
    "                 concurrency=4) as dag:\n",
    "            current_step = PythonOperator(task_id= dag_steps[0].__name__,\n",
    "                                       python_callable=self.dag_manager.create_step(dag_steps[0]), retries=1, dag=dag)\n",
    "            for dag_step in dag_steps[1:]:\n",
    "                next_step = PythonOperator(task_id=dag_step.__name__,\n",
    "                                       python_callable=self.dag_manager.create_step(dag_step), retries=1, dag=dag)\n",
    "                current_step >> next_step\n",
    "                current_step = next_step\n",
    "\n",
    "\n"
   ],
   "metadata": {
    "collapsed": false,
    "pycharm": {
     "name": "#%%\n"
    }
   }
  },
  {
   "cell_type": "code",
   "execution_count": 61,
   "outputs": [],
   "source": [
    "class A(DagPipeline):\n",
    "    def __init__(self, param1):\n",
    "        self.state = param1\n",
    "\n",
    "    def say_hello(self):\n",
    "        print(\"Hello\", self.state)\n",
    "\n",
    "    def say_chao(self):\n",
    "        print(\"Bye Bye\", self.state + 1)\n",
    "\n",
    "    def get_steps(self) -> list:\n",
    "        return [self.say_hello, self.say_chao]"
   ],
   "metadata": {
    "collapsed": false,
    "pycharm": {
     "name": "#%%\n"
    }
   }
  },
  {
   "cell_type": "code",
   "execution_count": 70,
   "outputs": [
    {
     "name": "stdout",
     "output_type": "stream",
     "text": [
      "I have context without state save!\n",
      "Hello 1013\n",
      "I have context without state save!\n",
      "Bye Bye 1014\n"
     ]
    }
   ],
   "source": [
    "a = A(1013)\n",
    "dag_pipeline_manager = DagPipelineManager(a)\n",
    "\n",
    "steps = a.get_steps()\n",
    "\n",
    "for step in steps:\n",
    "    my_step = dag_pipeline_manager.create_step(step)\n",
    "    my_step()\n",
    "\n"
   ],
   "metadata": {
    "collapsed": false,
    "pycharm": {
     "name": "#%%\n"
    }
   }
  },
  {
   "cell_type": "code",
   "execution_count": 4,
   "outputs": [
    {
     "name": "stdout",
     "output_type": "stream",
     "text": [
      "Hello\n"
     ]
    }
   ],
   "source": [
    "def create_stateless_dag():\n",
    "    pass\n",
    "\n",
    "\n",
    "def create_stateful_dag():\n",
    "    pass\n",
    "\n"
   ],
   "metadata": {
    "collapsed": false,
    "pycharm": {
     "name": "#%%\n"
    }
   }
  }
 ],
 "metadata": {
  "kernelspec": {
   "display_name": "Python 3",
   "language": "python",
   "name": "python3"
  },
  "language_info": {
   "codemirror_mode": {
    "name": "ipython",
    "version": 2
   },
   "file_extension": ".py",
   "mimetype": "text/x-python",
   "name": "python",
   "nbconvert_exporter": "python",
   "pygments_lexer": "ipython2",
   "version": "2.7.6"
  }
 },
 "nbformat": 4,
 "nbformat_minor": 0
}