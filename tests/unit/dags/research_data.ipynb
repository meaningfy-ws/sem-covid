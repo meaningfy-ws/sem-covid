{
 "cells": [
  {
   "cell_type": "code",
   "execution_count": 2,
   "metadata": {
    "collapsed": true
   },
   "outputs": [],
   "source": [
    "import sys\n",
    "\n",
    "import pandas as pd\n",
    "\n",
    "sys.path.append(\"/home/jovyan/work/sem-covid/\")\n",
    "sys.path = list(set(sys.path))\n",
    "import os\n",
    "\n",
    "os.getcwd()\n",
    "os.chdir('/home/jovyan/work/sem-covid/')\n",
    "from sem_covid import config\n",
    "import json\n",
    "import numpy as np\n",
    "\n",
    "from sem_covid.services.store_registry import StoreRegistry, store_registry"
   ]
  },
  {
   "cell_type": "code",
   "execution_count": 4,
   "outputs": [],
   "source": [
    "es_store = store_registry.es_index_store()\n"
   ],
   "metadata": {
    "collapsed": false,
    "pycharm": {
     "name": "#%%\n"
    }
   }
  },
  {
   "cell_type": "code",
   "execution_count": 5,
   "outputs": [
    {
     "name": "stderr",
     "output_type": "stream",
     "text": [
      "100% (1288 of 1288) |####################| Elapsed Time: 0:00:00 Time:  0:00:00\n",
      "100% (2818 of 2818) |####################| Elapsed Time: 0:00:00 Time:  0:00:00\n",
      "100% (210 of 210) |######################| Elapsed Time: 0:00:00 Time:  0:00:00\n",
      "100% (1859 of 1859) |####################| Elapsed Time: 0:00:00 Time:  0:00:00\n"
     ]
    }
   ],
   "source": [
    "pwdb_df=es_store.get_dataframe(index_name=config.PWDB_ELASTIC_SEARCH_INDEX_NAME)\n",
    "eu_cellar_df = es_store.get_dataframe(index_name=config.EU_CELLAR_ELASTIC_SEARCH_INDEX_NAME)\n",
    "eu_timeline_df = es_store.get_dataframe(index_name=config.EU_TIMELINE_ELASTIC_SEARCH_INDEX_NAME)\n",
    "ir_timeline_df = es_store.get_dataframe(index_name=config.IRELAND_TIMELINE_ELASTIC_SEARCH_INDEX_NAME)\n",
    "\n",
    "\n"
   ],
   "metadata": {
    "collapsed": false,
    "pycharm": {
     "name": "#%%\n"
    }
   }
  },
  {
   "cell_type": "code",
   "execution_count": 4,
   "outputs": [
    {
     "data": {
      "text/plain": "Index(['month_name', 'date', 'title', 'abstract', 'presscorner_links',\n       'all_links', 'detail_link', 'detail_type', 'detail_date',\n       'detail_location', 'detail_content', 'detail_title', 'detail_pdf_link',\n       'press_contacts', 'topics', 'for_more_information_links'],\n      dtype='object')"
     },
     "execution_count": 4,
     "metadata": {},
     "output_type": "execute_result"
    }
   ],
   "source": [
    "eu_timeline_df.columns"
   ],
   "metadata": {
    "collapsed": false,
    "pycharm": {
     "name": "#%%\n"
    }
   }
  },
  {
   "cell_type": "code",
   "execution_count": 164,
   "outputs": [
    {
     "name": "stdout",
     "output_type": "stream",
     "text": [
      "['date', 'detail_date']\n"
     ]
    }
   ],
   "source": [
    "eu_timeline_df[['month_name', 'date', 'detail_date']]\n",
    "date_columns = [col for col in eu_timeline_df.columns if 'date' in col]\n",
    "print(date_columns)\n"
   ],
   "metadata": {
    "collapsed": false,
    "pycharm": {
     "name": "#%%\n"
    }
   }
  },
  {
   "cell_type": "code",
   "execution_count": 163,
   "outputs": [
    {
     "data": {
      "text/plain": "                                                       month_name        date  \\\n_id                                                                             \n01dc34ca5f6bfa5316012d6f89a4256b8d2ce6e3a12210b...   January 2021  2021-01-28   \n04d776c061243576ffc1e1c5a724d41ecca2ed12339b2ff...      June 2021  2021-06-22   \n04eb55005a803c7353e5d5ed339d7f3a72cc8da6e49f2b8...      June 2020  2020-06-16   \n073e22ec2b44a5f2f6289f09dc954ecd6ca6cbb4a4b33ff...     April 2020  2020-04-15   \n0a3650bef3282d09d971dd92dc01570b7ecbdb67a4bdd0f...  December 2020  2020-12-18   \n...                                                           ...         ...   \nfa793c764aaf89c283f747036c9d73fd66f0a7e3692be56...      June 2021  2021-06-29   \nfb9c4d1634da94c73fd529b44ec40057c28a5c925a8b8e7...     March 2020  2020-03-13   \nfbad1d421cf80d3e0e4c6b6d3d60a2a6ec8bed4ee19e07c...   January 2021  2021-01-28   \nfbeff236835d3cfd394f9c9fd5b63eb524c9cdab6e68c93...      July 2020  2020-07-06   \nffbf6d305594c49b6f5d4d66f56e674f1d953833ba9fdce...      June 2021  2021-06-23   \n\n                                                   detail_date  \n_id                                                             \n01dc34ca5f6bfa5316012d6f89a4256b8d2ce6e3a12210b...         NaN  \n04d776c061243576ffc1e1c5a724d41ecca2ed12339b2ff...  2021-06-22  \n04eb55005a803c7353e5d5ed339d7f3a72cc8da6e49f2b8...  2020-06-17  \n073e22ec2b44a5f2f6289f09dc954ecd6ca6cbb4a4b33ff...  2020-04-15  \n0a3650bef3282d09d971dd92dc01570b7ecbdb67a4bdd0f...         NaN  \n...                                                        ...  \nfa793c764aaf89c283f747036c9d73fd66f0a7e3692be56...  2021-06-29  \nfb9c4d1634da94c73fd529b44ec40057c28a5c925a8b8e7...  2020-03-13  \nfbad1d421cf80d3e0e4c6b6d3d60a2a6ec8bed4ee19e07c...  2020-03-19  \nfbeff236835d3cfd394f9c9fd5b63eb524c9cdab6e68c93...  2020-07-06  \nffbf6d305594c49b6f5d4d66f56e674f1d953833ba9fdce...  2021-06-23  \n\n[210 rows x 3 columns]",
      "text/html": "<div>\n<style scoped>\n    .dataframe tbody tr th:only-of-type {\n        vertical-align: middle;\n    }\n\n    .dataframe tbody tr th {\n        vertical-align: top;\n    }\n\n    .dataframe thead th {\n        text-align: right;\n    }\n</style>\n<table border=\"1\" class=\"dataframe\">\n  <thead>\n    <tr style=\"text-align: right;\">\n      <th></th>\n      <th>month_name</th>\n      <th>date</th>\n      <th>detail_date</th>\n    </tr>\n    <tr>\n      <th>_id</th>\n      <th></th>\n      <th></th>\n      <th></th>\n    </tr>\n  </thead>\n  <tbody>\n    <tr>\n      <th>01dc34ca5f6bfa5316012d6f89a4256b8d2ce6e3a12210b0406903dd15bf36ac</th>\n      <td>January 2021</td>\n      <td>2021-01-28</td>\n      <td>NaN</td>\n    </tr>\n    <tr>\n      <th>04d776c061243576ffc1e1c5a724d41ecca2ed12339b2ff473c5aa2ff1a071c7</th>\n      <td>June 2021</td>\n      <td>2021-06-22</td>\n      <td>2021-06-22</td>\n    </tr>\n    <tr>\n      <th>04eb55005a803c7353e5d5ed339d7f3a72cc8da6e49f2b8b152bf8fb40a1398f</th>\n      <td>June 2020</td>\n      <td>2020-06-16</td>\n      <td>2020-06-17</td>\n    </tr>\n    <tr>\n      <th>073e22ec2b44a5f2f6289f09dc954ecd6ca6cbb4a4b33ffd88c3c150572569c0</th>\n      <td>April 2020</td>\n      <td>2020-04-15</td>\n      <td>2020-04-15</td>\n    </tr>\n    <tr>\n      <th>0a3650bef3282d09d971dd92dc01570b7ecbdb67a4bdd0ff1c8cf8443a06b937</th>\n      <td>December 2020</td>\n      <td>2020-12-18</td>\n      <td>NaN</td>\n    </tr>\n    <tr>\n      <th>...</th>\n      <td>...</td>\n      <td>...</td>\n      <td>...</td>\n    </tr>\n    <tr>\n      <th>fa793c764aaf89c283f747036c9d73fd66f0a7e3692be56b8ac985610bef2417</th>\n      <td>June 2021</td>\n      <td>2021-06-29</td>\n      <td>2021-06-29</td>\n    </tr>\n    <tr>\n      <th>fb9c4d1634da94c73fd529b44ec40057c28a5c925a8b8e71d73c49e5a815784d</th>\n      <td>March 2020</td>\n      <td>2020-03-13</td>\n      <td>2020-03-13</td>\n    </tr>\n    <tr>\n      <th>fbad1d421cf80d3e0e4c6b6d3d60a2a6ec8bed4ee19e07cd15d963fa74352420</th>\n      <td>January 2021</td>\n      <td>2021-01-28</td>\n      <td>2020-03-19</td>\n    </tr>\n    <tr>\n      <th>fbeff236835d3cfd394f9c9fd5b63eb524c9cdab6e68c9370758f3e35592973e</th>\n      <td>July 2020</td>\n      <td>2020-07-06</td>\n      <td>2020-07-06</td>\n    </tr>\n    <tr>\n      <th>ffbf6d305594c49b6f5d4d66f56e674f1d953833ba9fdceed84d72370c884653</th>\n      <td>June 2021</td>\n      <td>2021-06-23</td>\n      <td>2021-06-23</td>\n    </tr>\n  </tbody>\n</table>\n<p>210 rows × 3 columns</p>\n</div>"
     },
     "execution_count": 163,
     "metadata": {},
     "output_type": "execute_result"
    }
   ],
   "source": [
    "# combine colums into a new column date and transform\n",
    "\n",
    "#eu_timeline_df['month_name'] = eu_timeline_df['month_name'].map(lambda x: x.split(\" \")[1])\n",
    "eu_timeline_df['date'] = eu_timeline_df['date'].astype(str) + \" \" + eu_timeline_df['month_name'].map(lambda x: x.split(\" \")[1]).astype(str)\n",
    "eu_timeline_df.date = pd.to_datetime(eu_timeline_df.date).dt.strftime('%Y-%m-%d')\n",
    "eu_timeline_df.detail_date = pd.to_datetime(eu_timeline_df.detail_date).dt.strftime('%Y-%m-%d')\n",
    "eu_timeline_df[['month_name', 'date', 'detail_date']]"
   ],
   "metadata": {
    "collapsed": false,
    "pycharm": {
     "name": "#%%\n"
    }
   }
  },
  {
   "cell_type": "code",
   "execution_count": 10,
   "outputs": [
    {
     "data": {
      "text/plain": "Index(['keyword', 'page_type', 'page_link', 'department_data',\n       'published_date', 'updated_date', 'title', 'content', 'content_links',\n       'campaigns_links', 'part_of_links', 'documents'],\n      dtype='object')"
     },
     "execution_count": 10,
     "metadata": {},
     "output_type": "execute_result"
    }
   ],
   "source": [
    "ir_timeline_df.columns"
   ],
   "metadata": {
    "collapsed": false,
    "pycharm": {
     "name": "#%%\n"
    }
   }
  },
  {
   "cell_type": "code",
   "execution_count": 165,
   "outputs": [
    {
     "data": {
      "text/plain": "                                                      published_date  \\\n_id                                                                    \n003ea2a9313db86a3e0b9cd272d4dd861ed92cfab3a5d12...  17 February 2021   \n004a77d6db5f3be729b4b3d8b7eb0ccb564defb037a0edc...  31 December 2020   \n005af836e8f7b1d03afe563d254632972036a1fbd6092b7...     19 April 2020   \n007344aa53333e390623e94ff899bd949ecc9f75a73937f...   21 October 2020   \n00ab798bb7ed96ce3b93b9a3488522a58853bcaaf1bfa1b...  18 December 2020   \n...                                                              ...   \nff02d332755586b0a04038d07386167ad32b504eeb60058...   30 October 2020   \nff474a2f55ba0a59240e4e986870ba12be9f2238bec4f4f...   5 February 2021   \nff4ea2ef933287c4125d898245e878ae9fcb1b356b3c60d...   22 January 2021   \nff82338ae7c8129669562babc1c0d7a893a9c59f6d2bd00...     20 March 2020   \nffef06958ad76786347e3aa545351f708105f6db826708b...       24 May 2021   \n\n                                                        updated_date  \n_id                                                                   \n003ea2a9313db86a3e0b9cd272d4dd861ed92cfab3a5d12...  17 February 2021  \n004a77d6db5f3be729b4b3d8b7eb0ccb564defb037a0edc...     22 April 2021  \n005af836e8f7b1d03afe563d254632972036a1fbd6092b7...     19 April 2020  \n007344aa53333e390623e94ff899bd949ecc9f75a73937f...   21 October 2020  \n00ab798bb7ed96ce3b93b9a3488522a58853bcaaf1bfa1b...  18 December 2020  \n...                                                              ...  \nff02d332755586b0a04038d07386167ad32b504eeb60058...   30 October 2020  \nff474a2f55ba0a59240e4e986870ba12be9f2238bec4f4f...   8 February 2021  \nff4ea2ef933287c4125d898245e878ae9fcb1b356b3c60d...   23 January 2021  \nff82338ae7c8129669562babc1c0d7a893a9c59f6d2bd00...     20 March 2020  \nffef06958ad76786347e3aa545351f708105f6db826708b...       1 June 2021  \n\n[1859 rows x 2 columns]",
      "text/html": "<div>\n<style scoped>\n    .dataframe tbody tr th:only-of-type {\n        vertical-align: middle;\n    }\n\n    .dataframe tbody tr th {\n        vertical-align: top;\n    }\n\n    .dataframe thead th {\n        text-align: right;\n    }\n</style>\n<table border=\"1\" class=\"dataframe\">\n  <thead>\n    <tr style=\"text-align: right;\">\n      <th></th>\n      <th>published_date</th>\n      <th>updated_date</th>\n    </tr>\n    <tr>\n      <th>_id</th>\n      <th></th>\n      <th></th>\n    </tr>\n  </thead>\n  <tbody>\n    <tr>\n      <th>003ea2a9313db86a3e0b9cd272d4dd861ed92cfab3a5d120725211cc113b1f93</th>\n      <td>17 February 2021</td>\n      <td>17 February 2021</td>\n    </tr>\n    <tr>\n      <th>004a77d6db5f3be729b4b3d8b7eb0ccb564defb037a0edcba96eb5c164d87a37</th>\n      <td>31 December 2020</td>\n      <td>22 April 2021</td>\n    </tr>\n    <tr>\n      <th>005af836e8f7b1d03afe563d254632972036a1fbd6092b7965fe8b09a73e516b</th>\n      <td>19 April 2020</td>\n      <td>19 April 2020</td>\n    </tr>\n    <tr>\n      <th>007344aa53333e390623e94ff899bd949ecc9f75a73937fdbcc9eebe6ffa6879</th>\n      <td>21 October 2020</td>\n      <td>21 October 2020</td>\n    </tr>\n    <tr>\n      <th>00ab798bb7ed96ce3b93b9a3488522a58853bcaaf1bfa1bcf05fd8ffd8af0ce1</th>\n      <td>18 December 2020</td>\n      <td>18 December 2020</td>\n    </tr>\n    <tr>\n      <th>...</th>\n      <td>...</td>\n      <td>...</td>\n    </tr>\n    <tr>\n      <th>ff02d332755586b0a04038d07386167ad32b504eeb60058e5ab9ac927ba750b3</th>\n      <td>30 October 2020</td>\n      <td>30 October 2020</td>\n    </tr>\n    <tr>\n      <th>ff474a2f55ba0a59240e4e986870ba12be9f2238bec4f4f8ca2c9c712172ed43</th>\n      <td>5 February 2021</td>\n      <td>8 February 2021</td>\n    </tr>\n    <tr>\n      <th>ff4ea2ef933287c4125d898245e878ae9fcb1b356b3c60de288dd97020bdd3a5</th>\n      <td>22 January 2021</td>\n      <td>23 January 2021</td>\n    </tr>\n    <tr>\n      <th>ff82338ae7c8129669562babc1c0d7a893a9c59f6d2bd00cefe853539721367e</th>\n      <td>20 March 2020</td>\n      <td>20 March 2020</td>\n    </tr>\n    <tr>\n      <th>ffef06958ad76786347e3aa545351f708105f6db826708b4523cd16ea150e702</th>\n      <td>24 May 2021</td>\n      <td>1 June 2021</td>\n    </tr>\n  </tbody>\n</table>\n<p>1859 rows × 2 columns</p>\n</div>"
     },
     "execution_count": 165,
     "metadata": {},
     "output_type": "execute_result"
    }
   ],
   "source": [
    "ir_timeline_df[['published_date','updated_date']]"
   ],
   "metadata": {
    "collapsed": false,
    "pycharm": {
     "name": "#%%\n"
    }
   }
  },
  {
   "cell_type": "code",
   "execution_count": 166,
   "outputs": [
    {
     "data": {
      "text/plain": "                                                   published_date updated_date\n_id                                                                           \n003ea2a9313db86a3e0b9cd272d4dd861ed92cfab3a5d12...     2021-02-17   2021-02-17\n004a77d6db5f3be729b4b3d8b7eb0ccb564defb037a0edc...     2020-12-31   2021-04-22\n005af836e8f7b1d03afe563d254632972036a1fbd6092b7...     2020-04-19   2020-04-19\n007344aa53333e390623e94ff899bd949ecc9f75a73937f...     2020-10-21   2020-10-21\n00ab798bb7ed96ce3b93b9a3488522a58853bcaaf1bfa1b...     2020-12-18   2020-12-18\n...                                                           ...          ...\nff02d332755586b0a04038d07386167ad32b504eeb60058...     2020-10-30   2020-10-30\nff474a2f55ba0a59240e4e986870ba12be9f2238bec4f4f...     2021-02-05   2021-02-08\nff4ea2ef933287c4125d898245e878ae9fcb1b356b3c60d...     2021-01-22   2021-01-23\nff82338ae7c8129669562babc1c0d7a893a9c59f6d2bd00...     2020-03-20   2020-03-20\nffef06958ad76786347e3aa545351f708105f6db826708b...     2021-05-24   2021-06-01\n\n[1859 rows x 2 columns]",
      "text/html": "<div>\n<style scoped>\n    .dataframe tbody tr th:only-of-type {\n        vertical-align: middle;\n    }\n\n    .dataframe tbody tr th {\n        vertical-align: top;\n    }\n\n    .dataframe thead th {\n        text-align: right;\n    }\n</style>\n<table border=\"1\" class=\"dataframe\">\n  <thead>\n    <tr style=\"text-align: right;\">\n      <th></th>\n      <th>published_date</th>\n      <th>updated_date</th>\n    </tr>\n    <tr>\n      <th>_id</th>\n      <th></th>\n      <th></th>\n    </tr>\n  </thead>\n  <tbody>\n    <tr>\n      <th>003ea2a9313db86a3e0b9cd272d4dd861ed92cfab3a5d120725211cc113b1f93</th>\n      <td>2021-02-17</td>\n      <td>2021-02-17</td>\n    </tr>\n    <tr>\n      <th>004a77d6db5f3be729b4b3d8b7eb0ccb564defb037a0edcba96eb5c164d87a37</th>\n      <td>2020-12-31</td>\n      <td>2021-04-22</td>\n    </tr>\n    <tr>\n      <th>005af836e8f7b1d03afe563d254632972036a1fbd6092b7965fe8b09a73e516b</th>\n      <td>2020-04-19</td>\n      <td>2020-04-19</td>\n    </tr>\n    <tr>\n      <th>007344aa53333e390623e94ff899bd949ecc9f75a73937fdbcc9eebe6ffa6879</th>\n      <td>2020-10-21</td>\n      <td>2020-10-21</td>\n    </tr>\n    <tr>\n      <th>00ab798bb7ed96ce3b93b9a3488522a58853bcaaf1bfa1bcf05fd8ffd8af0ce1</th>\n      <td>2020-12-18</td>\n      <td>2020-12-18</td>\n    </tr>\n    <tr>\n      <th>...</th>\n      <td>...</td>\n      <td>...</td>\n    </tr>\n    <tr>\n      <th>ff02d332755586b0a04038d07386167ad32b504eeb60058e5ab9ac927ba750b3</th>\n      <td>2020-10-30</td>\n      <td>2020-10-30</td>\n    </tr>\n    <tr>\n      <th>ff474a2f55ba0a59240e4e986870ba12be9f2238bec4f4f8ca2c9c712172ed43</th>\n      <td>2021-02-05</td>\n      <td>2021-02-08</td>\n    </tr>\n    <tr>\n      <th>ff4ea2ef933287c4125d898245e878ae9fcb1b356b3c60de288dd97020bdd3a5</th>\n      <td>2021-01-22</td>\n      <td>2021-01-23</td>\n    </tr>\n    <tr>\n      <th>ff82338ae7c8129669562babc1c0d7a893a9c59f6d2bd00cefe853539721367e</th>\n      <td>2020-03-20</td>\n      <td>2020-03-20</td>\n    </tr>\n    <tr>\n      <th>ffef06958ad76786347e3aa545351f708105f6db826708b4523cd16ea150e702</th>\n      <td>2021-05-24</td>\n      <td>2021-06-01</td>\n    </tr>\n  </tbody>\n</table>\n<p>1859 rows × 2 columns</p>\n</div>"
     },
     "execution_count": 166,
     "metadata": {},
     "output_type": "execute_result"
    }
   ],
   "source": [
    "date_columns = [col for col in ir_timeline_df.columns if 'date' in col]\n",
    "for date_column in date_columns:\n",
    "    ir_timeline_df[date_column] = ir_timeline_df[date_column].apply(\n",
    "        lambda x: pd.to_datetime(x, errors='coerce', yearfirst=True).date() if x else None).replace(\n",
    "        {np.nan: None})\n",
    "\n",
    "ir_timeline_df[['published_date','updated_date']]"
   ],
   "metadata": {
    "collapsed": false,
    "pycharm": {
     "name": "#%%\n"
    }
   }
  },
  {
   "cell_type": "code",
   "execution_count": 13,
   "outputs": [
    {
     "data": {
      "text/plain": "                                                   published_date updated_date\n_id                                                                           \n003ea2a9313db86a3e0b9cd272d4dd861ed92cfab3a5d12...     2021-02-17   2021-02-17\n004a77d6db5f3be729b4b3d8b7eb0ccb564defb037a0edc...     2020-12-31   2021-04-22\n005af836e8f7b1d03afe563d254632972036a1fbd6092b7...     2020-04-19   2020-04-19\n007344aa53333e390623e94ff899bd949ecc9f75a73937f...     2020-10-21   2020-10-21\n00ab798bb7ed96ce3b93b9a3488522a58853bcaaf1bfa1b...     2020-12-18   2020-12-18\n...                                                           ...          ...\nff02d332755586b0a04038d07386167ad32b504eeb60058...     2020-10-30   2020-10-30\nff474a2f55ba0a59240e4e986870ba12be9f2238bec4f4f...     2021-02-05   2021-02-08\nff4ea2ef933287c4125d898245e878ae9fcb1b356b3c60d...     2021-01-22   2021-01-23\nff82338ae7c8129669562babc1c0d7a893a9c59f6d2bd00...     2020-03-20   2020-03-20\nffef06958ad76786347e3aa545351f708105f6db826708b...     2021-05-24   2021-06-01\n\n[1859 rows x 2 columns]",
      "text/html": "<div>\n<style scoped>\n    .dataframe tbody tr th:only-of-type {\n        vertical-align: middle;\n    }\n\n    .dataframe tbody tr th {\n        vertical-align: top;\n    }\n\n    .dataframe thead th {\n        text-align: right;\n    }\n</style>\n<table border=\"1\" class=\"dataframe\">\n  <thead>\n    <tr style=\"text-align: right;\">\n      <th></th>\n      <th>published_date</th>\n      <th>updated_date</th>\n    </tr>\n    <tr>\n      <th>_id</th>\n      <th></th>\n      <th></th>\n    </tr>\n  </thead>\n  <tbody>\n    <tr>\n      <th>003ea2a9313db86a3e0b9cd272d4dd861ed92cfab3a5d120725211cc113b1f93</th>\n      <td>2021-02-17</td>\n      <td>2021-02-17</td>\n    </tr>\n    <tr>\n      <th>004a77d6db5f3be729b4b3d8b7eb0ccb564defb037a0edcba96eb5c164d87a37</th>\n      <td>2020-12-31</td>\n      <td>2021-04-22</td>\n    </tr>\n    <tr>\n      <th>005af836e8f7b1d03afe563d254632972036a1fbd6092b7965fe8b09a73e516b</th>\n      <td>2020-04-19</td>\n      <td>2020-04-19</td>\n    </tr>\n    <tr>\n      <th>007344aa53333e390623e94ff899bd949ecc9f75a73937fdbcc9eebe6ffa6879</th>\n      <td>2020-10-21</td>\n      <td>2020-10-21</td>\n    </tr>\n    <tr>\n      <th>00ab798bb7ed96ce3b93b9a3488522a58853bcaaf1bfa1bcf05fd8ffd8af0ce1</th>\n      <td>2020-12-18</td>\n      <td>2020-12-18</td>\n    </tr>\n    <tr>\n      <th>...</th>\n      <td>...</td>\n      <td>...</td>\n    </tr>\n    <tr>\n      <th>ff02d332755586b0a04038d07386167ad32b504eeb60058e5ab9ac927ba750b3</th>\n      <td>2020-10-30</td>\n      <td>2020-10-30</td>\n    </tr>\n    <tr>\n      <th>ff474a2f55ba0a59240e4e986870ba12be9f2238bec4f4f8ca2c9c712172ed43</th>\n      <td>2021-02-05</td>\n      <td>2021-02-08</td>\n    </tr>\n    <tr>\n      <th>ff4ea2ef933287c4125d898245e878ae9fcb1b356b3c60de288dd97020bdd3a5</th>\n      <td>2021-01-22</td>\n      <td>2021-01-23</td>\n    </tr>\n    <tr>\n      <th>ff82338ae7c8129669562babc1c0d7a893a9c59f6d2bd00cefe853539721367e</th>\n      <td>2020-03-20</td>\n      <td>2020-03-20</td>\n    </tr>\n    <tr>\n      <th>ffef06958ad76786347e3aa545351f708105f6db826708b4523cd16ea150e702</th>\n      <td>2021-05-24</td>\n      <td>2021-06-01</td>\n    </tr>\n  </tbody>\n</table>\n<p>1859 rows × 2 columns</p>\n</div>"
     },
     "execution_count": 13,
     "metadata": {},
     "output_type": "execute_result"
    }
   ],
   "source": [
    "ir_timeline_df.published_date = pd.to_datetime(ir_timeline_df.published_date).dt.strftime('%Y-%m-%d')\n",
    "ir_timeline_df.updated_date = pd.to_datetime(ir_timeline_df.updated_date).dt.strftime('%Y-%m-%d')\n",
    "ir_timeline_df[['published_date','updated_date']]"
   ],
   "metadata": {
    "collapsed": false,
    "pycharm": {
     "name": "#%%\n"
    }
   }
  },
  {
   "cell_type": "code",
   "execution_count": 108,
   "outputs": [
    {
     "data": {
      "text/plain": "Index(['identifier', 'title', 'title_national_language', 'country',\n       'start_date', 'end_date', 'date_type', 'type_of_measure',\n       'status_of_regulation', 'category', 'subcategory', 'creation_date',\n       'background_info_description', 'content_of_measure_description',\n       'use_of_measure_description', 'actors', 'target_groups', 'funding',\n       'involvement_of_social_partners_description',\n       'social_partner_involvement_form', 'social_partner_role',\n       'is_sector_specific', 'private_or_public_sector',\n       'is_occupation_specific', 'sectors', 'occupations', 'sources'],\n      dtype='object')"
     },
     "execution_count": 108,
     "metadata": {},
     "output_type": "execute_result"
    }
   ],
   "source": [
    "pwdb_df.columns\n"
   ],
   "metadata": {
    "collapsed": false,
    "pycharm": {
     "name": "#%%\n"
    }
   }
  },
  {
   "cell_type": "code",
   "execution_count": 155,
   "outputs": [
    {
     "data": {
      "text/plain": "                                                    start_date    end_date  \\\n_id                                                                          \nadc5c75937bc7f7198f534d08b85bd50c9521bfd3f319a0...  10/20/2020        None   \n2372d71eb9ad6e6a70982e02bbe802db004ed49d91b2264...  05/06/2020  05/31/2021   \n8735e268191e9e5cbd3d2a44ca53d297e31746b5f1e24b9...  08/25/2020        None   \n18bcd22116c46919e03a3345f793c3859855227ac942e69...  03/01/2020  08/31/2020   \nb94d8aa95fbdeb1bb832b01fbe5d6e9bf9fc36fceb14f7b...  01/01/2021        None   \n...                                                        ...         ...   \ncb014a456b14c3621dd318a12e611f70c2a9636be9fe181...  03/18/2020  01/31/2021   \nd233b17dc2b98f14269c2b22be78d93ec5ccf2a0013b86f...  05/20/2020        None   \n77d7e3c52aaf78bdfb1a1667641db1293bbff862440c547...  03/17/2020        None   \nbe8e21b382b63dd838087d7864e4d49a4807d9cc5d71aaa...  07/01/2020  12/31/2021   \nc434820f8f8c0b1447ba2f6f62aed177b9597532d7fcd15...  09/03/2020        None   \n\n                                                   creation_date  \n_id                                                               \nadc5c75937bc7f7198f534d08b85bd50c9521bfd3f319a0...    11/02/2020  \n2372d71eb9ad6e6a70982e02bbe802db004ed49d91b2264...    07/09/2020  \n8735e268191e9e5cbd3d2a44ca53d297e31746b5f1e24b9...    10/24/2020  \n18bcd22116c46919e03a3345f793c3859855227ac942e69...    04/06/2020  \nb94d8aa95fbdeb1bb832b01fbe5d6e9bf9fc36fceb14f7b...    12/31/2020  \n...                                                          ...  \ncb014a456b14c3621dd318a12e611f70c2a9636be9fe181...    04/13/2020  \nd233b17dc2b98f14269c2b22be78d93ec5ccf2a0013b86f...    07/13/2020  \n77d7e3c52aaf78bdfb1a1667641db1293bbff862440c547...    04/21/2020  \nbe8e21b382b63dd838087d7864e4d49a4807d9cc5d71aaa...    10/01/2020  \nc434820f8f8c0b1447ba2f6f62aed177b9597532d7fcd15...    09/15/2020  \n\n[1288 rows x 3 columns]",
      "text/html": "<div>\n<style scoped>\n    .dataframe tbody tr th:only-of-type {\n        vertical-align: middle;\n    }\n\n    .dataframe tbody tr th {\n        vertical-align: top;\n    }\n\n    .dataframe thead th {\n        text-align: right;\n    }\n</style>\n<table border=\"1\" class=\"dataframe\">\n  <thead>\n    <tr style=\"text-align: right;\">\n      <th></th>\n      <th>start_date</th>\n      <th>end_date</th>\n      <th>creation_date</th>\n    </tr>\n    <tr>\n      <th>_id</th>\n      <th></th>\n      <th></th>\n      <th></th>\n    </tr>\n  </thead>\n  <tbody>\n    <tr>\n      <th>adc5c75937bc7f7198f534d08b85bd50c9521bfd3f319a090932b5d0bae54de0</th>\n      <td>10/20/2020</td>\n      <td>None</td>\n      <td>11/02/2020</td>\n    </tr>\n    <tr>\n      <th>2372d71eb9ad6e6a70982e02bbe802db004ed49d91b2264c0a2e8e41571002cc</th>\n      <td>05/06/2020</td>\n      <td>05/31/2021</td>\n      <td>07/09/2020</td>\n    </tr>\n    <tr>\n      <th>8735e268191e9e5cbd3d2a44ca53d297e31746b5f1e24b941db6225a25848353</th>\n      <td>08/25/2020</td>\n      <td>None</td>\n      <td>10/24/2020</td>\n    </tr>\n    <tr>\n      <th>18bcd22116c46919e03a3345f793c3859855227ac942e69dd13cbfcd588e1044</th>\n      <td>03/01/2020</td>\n      <td>08/31/2020</td>\n      <td>04/06/2020</td>\n    </tr>\n    <tr>\n      <th>b94d8aa95fbdeb1bb832b01fbe5d6e9bf9fc36fceb14f7ba370a963f472fe35b</th>\n      <td>01/01/2021</td>\n      <td>None</td>\n      <td>12/31/2020</td>\n    </tr>\n    <tr>\n      <th>...</th>\n      <td>...</td>\n      <td>...</td>\n      <td>...</td>\n    </tr>\n    <tr>\n      <th>cb014a456b14c3621dd318a12e611f70c2a9636be9fe181072bd4bf5917a40fa</th>\n      <td>03/18/2020</td>\n      <td>01/31/2021</td>\n      <td>04/13/2020</td>\n    </tr>\n    <tr>\n      <th>d233b17dc2b98f14269c2b22be78d93ec5ccf2a0013b86f09175c69353c5800b</th>\n      <td>05/20/2020</td>\n      <td>None</td>\n      <td>07/13/2020</td>\n    </tr>\n    <tr>\n      <th>77d7e3c52aaf78bdfb1a1667641db1293bbff862440c547fc3f6e8ab4fbd0d4e</th>\n      <td>03/17/2020</td>\n      <td>None</td>\n      <td>04/21/2020</td>\n    </tr>\n    <tr>\n      <th>be8e21b382b63dd838087d7864e4d49a4807d9cc5d71aaa82577383ece92c581</th>\n      <td>07/01/2020</td>\n      <td>12/31/2021</td>\n      <td>10/01/2020</td>\n    </tr>\n    <tr>\n      <th>c434820f8f8c0b1447ba2f6f62aed177b9597532d7fcd156c6f556532dd7d11e</th>\n      <td>09/03/2020</td>\n      <td>None</td>\n      <td>09/15/2020</td>\n    </tr>\n  </tbody>\n</table>\n<p>1288 rows × 3 columns</p>\n</div>"
     },
     "execution_count": 155,
     "metadata": {},
     "output_type": "execute_result"
    }
   ],
   "source": [
    "pwdb_df[['start_date', 'end_date', 'creation_date']]\n"
   ],
   "metadata": {
    "collapsed": false,
    "pycharm": {
     "name": "#%%\n"
    }
   }
  },
  {
   "cell_type": "code",
   "execution_count": 157,
   "outputs": [
    {
     "data": {
      "text/plain": "                                                    start_date    end_date  \\\n_id                                                                          \nadc5c75937bc7f7198f534d08b85bd50c9521bfd3f319a0...  2020-10-20        None   \n2372d71eb9ad6e6a70982e02bbe802db004ed49d91b2264...  2020-05-06  2021-05-31   \n8735e268191e9e5cbd3d2a44ca53d297e31746b5f1e24b9...  2020-08-25        None   \n18bcd22116c46919e03a3345f793c3859855227ac942e69...  2020-03-01  2020-08-31   \nb94d8aa95fbdeb1bb832b01fbe5d6e9bf9fc36fceb14f7b...  2021-01-01        None   \n...                                                        ...         ...   \ncb014a456b14c3621dd318a12e611f70c2a9636be9fe181...  2020-03-18  2021-01-31   \nd233b17dc2b98f14269c2b22be78d93ec5ccf2a0013b86f...  2020-05-20        None   \n77d7e3c52aaf78bdfb1a1667641db1293bbff862440c547...  2020-03-17        None   \nbe8e21b382b63dd838087d7864e4d49a4807d9cc5d71aaa...  2020-07-01  2021-12-31   \nc434820f8f8c0b1447ba2f6f62aed177b9597532d7fcd15...  2020-09-03        None   \n\n                                                   creation_date  \n_id                                                               \nadc5c75937bc7f7198f534d08b85bd50c9521bfd3f319a0...    2020-11-02  \n2372d71eb9ad6e6a70982e02bbe802db004ed49d91b2264...    2020-07-09  \n8735e268191e9e5cbd3d2a44ca53d297e31746b5f1e24b9...    2020-10-24  \n18bcd22116c46919e03a3345f793c3859855227ac942e69...    2020-04-06  \nb94d8aa95fbdeb1bb832b01fbe5d6e9bf9fc36fceb14f7b...    2020-12-31  \n...                                                          ...  \ncb014a456b14c3621dd318a12e611f70c2a9636be9fe181...    2020-04-13  \nd233b17dc2b98f14269c2b22be78d93ec5ccf2a0013b86f...    2020-07-13  \n77d7e3c52aaf78bdfb1a1667641db1293bbff862440c547...    2020-04-21  \nbe8e21b382b63dd838087d7864e4d49a4807d9cc5d71aaa...    2020-10-01  \nc434820f8f8c0b1447ba2f6f62aed177b9597532d7fcd15...    2020-09-15  \n\n[1288 rows x 3 columns]",
      "text/html": "<div>\n<style scoped>\n    .dataframe tbody tr th:only-of-type {\n        vertical-align: middle;\n    }\n\n    .dataframe tbody tr th {\n        vertical-align: top;\n    }\n\n    .dataframe thead th {\n        text-align: right;\n    }\n</style>\n<table border=\"1\" class=\"dataframe\">\n  <thead>\n    <tr style=\"text-align: right;\">\n      <th></th>\n      <th>start_date</th>\n      <th>end_date</th>\n      <th>creation_date</th>\n    </tr>\n    <tr>\n      <th>_id</th>\n      <th></th>\n      <th></th>\n      <th></th>\n    </tr>\n  </thead>\n  <tbody>\n    <tr>\n      <th>adc5c75937bc7f7198f534d08b85bd50c9521bfd3f319a090932b5d0bae54de0</th>\n      <td>2020-10-20</td>\n      <td>None</td>\n      <td>2020-11-02</td>\n    </tr>\n    <tr>\n      <th>2372d71eb9ad6e6a70982e02bbe802db004ed49d91b2264c0a2e8e41571002cc</th>\n      <td>2020-05-06</td>\n      <td>2021-05-31</td>\n      <td>2020-07-09</td>\n    </tr>\n    <tr>\n      <th>8735e268191e9e5cbd3d2a44ca53d297e31746b5f1e24b941db6225a25848353</th>\n      <td>2020-08-25</td>\n      <td>None</td>\n      <td>2020-10-24</td>\n    </tr>\n    <tr>\n      <th>18bcd22116c46919e03a3345f793c3859855227ac942e69dd13cbfcd588e1044</th>\n      <td>2020-03-01</td>\n      <td>2020-08-31</td>\n      <td>2020-04-06</td>\n    </tr>\n    <tr>\n      <th>b94d8aa95fbdeb1bb832b01fbe5d6e9bf9fc36fceb14f7ba370a963f472fe35b</th>\n      <td>2021-01-01</td>\n      <td>None</td>\n      <td>2020-12-31</td>\n    </tr>\n    <tr>\n      <th>...</th>\n      <td>...</td>\n      <td>...</td>\n      <td>...</td>\n    </tr>\n    <tr>\n      <th>cb014a456b14c3621dd318a12e611f70c2a9636be9fe181072bd4bf5917a40fa</th>\n      <td>2020-03-18</td>\n      <td>2021-01-31</td>\n      <td>2020-04-13</td>\n    </tr>\n    <tr>\n      <th>d233b17dc2b98f14269c2b22be78d93ec5ccf2a0013b86f09175c69353c5800b</th>\n      <td>2020-05-20</td>\n      <td>None</td>\n      <td>2020-07-13</td>\n    </tr>\n    <tr>\n      <th>77d7e3c52aaf78bdfb1a1667641db1293bbff862440c547fc3f6e8ab4fbd0d4e</th>\n      <td>2020-03-17</td>\n      <td>None</td>\n      <td>2020-04-21</td>\n    </tr>\n    <tr>\n      <th>be8e21b382b63dd838087d7864e4d49a4807d9cc5d71aaa82577383ece92c581</th>\n      <td>2020-07-01</td>\n      <td>2021-12-31</td>\n      <td>2020-10-01</td>\n    </tr>\n    <tr>\n      <th>c434820f8f8c0b1447ba2f6f62aed177b9597532d7fcd156c6f556532dd7d11e</th>\n      <td>2020-09-03</td>\n      <td>None</td>\n      <td>2020-09-15</td>\n    </tr>\n  </tbody>\n</table>\n<p>1288 rows × 3 columns</p>\n</div>"
     },
     "execution_count": 157,
     "metadata": {},
     "output_type": "execute_result"
    }
   ],
   "source": [
    "DATES_COLUMNS = ['start_date', 'end_date', 'creation_date']\n",
    "for date_column in DATES_COLUMNS:\n",
    "    pwdb_df[date_column] = pwdb_df[date_column].apply(\n",
    "        lambda x: pd.to_datetime(x, errors='coerce', yearfirst=True).date() if x else None).replace(\n",
    "        {np.nan: None})\n",
    "pwdb_df[['start_date', 'end_date', 'creation_date']]"
   ],
   "metadata": {
    "collapsed": false,
    "pycharm": {
     "name": "#%%\n"
    }
   }
  },
  {
   "cell_type": "code",
   "execution_count": 114,
   "outputs": [
    {
     "data": {
      "text/plain": "                                                    start_date    end_date  \\\n_id                                                                          \nadc5c75937bc7f7198f534d08b85bd50c9521bfd3f319a0...  2020-10-20         NaN   \n2372d71eb9ad6e6a70982e02bbe802db004ed49d91b2264...  2020-05-06  2021-05-31   \n8735e268191e9e5cbd3d2a44ca53d297e31746b5f1e24b9...  2020-08-25         NaN   \n18bcd22116c46919e03a3345f793c3859855227ac942e69...  2020-03-01  2020-08-31   \nb94d8aa95fbdeb1bb832b01fbe5d6e9bf9fc36fceb14f7b...  2021-01-01         NaN   \n...                                                        ...         ...   \ncb014a456b14c3621dd318a12e611f70c2a9636be9fe181...  2020-03-18  2021-01-31   \nd233b17dc2b98f14269c2b22be78d93ec5ccf2a0013b86f...  2020-05-20         NaN   \n77d7e3c52aaf78bdfb1a1667641db1293bbff862440c547...  2020-03-17         NaN   \nbe8e21b382b63dd838087d7864e4d49a4807d9cc5d71aaa...  2020-07-01  2021-12-31   \nc434820f8f8c0b1447ba2f6f62aed177b9597532d7fcd15...  2020-09-03         NaN   \n\n                                                   creation_date  \n_id                                                               \nadc5c75937bc7f7198f534d08b85bd50c9521bfd3f319a0...    2020-11-02  \n2372d71eb9ad6e6a70982e02bbe802db004ed49d91b2264...    2020-07-09  \n8735e268191e9e5cbd3d2a44ca53d297e31746b5f1e24b9...    2020-10-24  \n18bcd22116c46919e03a3345f793c3859855227ac942e69...    2020-04-06  \nb94d8aa95fbdeb1bb832b01fbe5d6e9bf9fc36fceb14f7b...    2020-12-31  \n...                                                          ...  \ncb014a456b14c3621dd318a12e611f70c2a9636be9fe181...    2020-04-13  \nd233b17dc2b98f14269c2b22be78d93ec5ccf2a0013b86f...    2020-07-13  \n77d7e3c52aaf78bdfb1a1667641db1293bbff862440c547...    2020-04-21  \nbe8e21b382b63dd838087d7864e4d49a4807d9cc5d71aaa...    2020-10-01  \nc434820f8f8c0b1447ba2f6f62aed177b9597532d7fcd15...    2020-09-15  \n\n[1288 rows x 3 columns]",
      "text/html": "<div>\n<style scoped>\n    .dataframe tbody tr th:only-of-type {\n        vertical-align: middle;\n    }\n\n    .dataframe tbody tr th {\n        vertical-align: top;\n    }\n\n    .dataframe thead th {\n        text-align: right;\n    }\n</style>\n<table border=\"1\" class=\"dataframe\">\n  <thead>\n    <tr style=\"text-align: right;\">\n      <th></th>\n      <th>start_date</th>\n      <th>end_date</th>\n      <th>creation_date</th>\n    </tr>\n    <tr>\n      <th>_id</th>\n      <th></th>\n      <th></th>\n      <th></th>\n    </tr>\n  </thead>\n  <tbody>\n    <tr>\n      <th>adc5c75937bc7f7198f534d08b85bd50c9521bfd3f319a090932b5d0bae54de0</th>\n      <td>2020-10-20</td>\n      <td>NaN</td>\n      <td>2020-11-02</td>\n    </tr>\n    <tr>\n      <th>2372d71eb9ad6e6a70982e02bbe802db004ed49d91b2264c0a2e8e41571002cc</th>\n      <td>2020-05-06</td>\n      <td>2021-05-31</td>\n      <td>2020-07-09</td>\n    </tr>\n    <tr>\n      <th>8735e268191e9e5cbd3d2a44ca53d297e31746b5f1e24b941db6225a25848353</th>\n      <td>2020-08-25</td>\n      <td>NaN</td>\n      <td>2020-10-24</td>\n    </tr>\n    <tr>\n      <th>18bcd22116c46919e03a3345f793c3859855227ac942e69dd13cbfcd588e1044</th>\n      <td>2020-03-01</td>\n      <td>2020-08-31</td>\n      <td>2020-04-06</td>\n    </tr>\n    <tr>\n      <th>b94d8aa95fbdeb1bb832b01fbe5d6e9bf9fc36fceb14f7ba370a963f472fe35b</th>\n      <td>2021-01-01</td>\n      <td>NaN</td>\n      <td>2020-12-31</td>\n    </tr>\n    <tr>\n      <th>...</th>\n      <td>...</td>\n      <td>...</td>\n      <td>...</td>\n    </tr>\n    <tr>\n      <th>cb014a456b14c3621dd318a12e611f70c2a9636be9fe181072bd4bf5917a40fa</th>\n      <td>2020-03-18</td>\n      <td>2021-01-31</td>\n      <td>2020-04-13</td>\n    </tr>\n    <tr>\n      <th>d233b17dc2b98f14269c2b22be78d93ec5ccf2a0013b86f09175c69353c5800b</th>\n      <td>2020-05-20</td>\n      <td>NaN</td>\n      <td>2020-07-13</td>\n    </tr>\n    <tr>\n      <th>77d7e3c52aaf78bdfb1a1667641db1293bbff862440c547fc3f6e8ab4fbd0d4e</th>\n      <td>2020-03-17</td>\n      <td>NaN</td>\n      <td>2020-04-21</td>\n    </tr>\n    <tr>\n      <th>be8e21b382b63dd838087d7864e4d49a4807d9cc5d71aaa82577383ece92c581</th>\n      <td>2020-07-01</td>\n      <td>2021-12-31</td>\n      <td>2020-10-01</td>\n    </tr>\n    <tr>\n      <th>c434820f8f8c0b1447ba2f6f62aed177b9597532d7fcd156c6f556532dd7d11e</th>\n      <td>2020-09-03</td>\n      <td>NaN</td>\n      <td>2020-09-15</td>\n    </tr>\n  </tbody>\n</table>\n<p>1288 rows × 3 columns</p>\n</div>"
     },
     "execution_count": 114,
     "metadata": {},
     "output_type": "execute_result"
    }
   ],
   "source": [
    "pwdb_df.start_date = pd.to_datetime(pwdb_df.start_date).dt.strftime('%Y-%m-%d')\n",
    "pwdb_df.end_date = pd.to_datetime(pwdb_df.end_date).dt.strftime('%Y-%m-%d')\n",
    "pwdb_df.creation_date = pd.to_datetime(pwdb_df.creation_date).dt.strftime('%Y-%m-%d')\n",
    "pwdb_df[['start_date', 'end_date', 'creation_date']]\n"
   ],
   "metadata": {
    "collapsed": false,
    "pycharm": {
     "name": "#%%\n"
    }
   }
  },
  {
   "cell_type": "code",
   "execution_count": 197,
   "outputs": [
    {
     "data": {
      "text/plain": "Index(['work', 'title', 'cdm_types', 'cdm_type_labels', 'resource_types',\n       'resource_type_labels', 'eurovoc_concepts', 'eurovoc_concept_labels',\n       'subject_matters', 'subject_matter_labels', 'directory_codes',\n       'directory_codes_labels', 'celex_numbers', 'legal_elis', 'id_documents',\n       'same_as_uris', 'authors', 'author_labels', 'full_ojs', 'oj_sectors',\n       'internal_comments', 'is_in_force', 'dates_document', 'dates_created',\n       'legal_dates_entry_into_force', 'legal_dates_signature', 'manifs_pdf',\n       'manifs_html', 'pdfs_to_download', 'htmls_to_download', 'dossiers',\n       'related_works', 'work_sequences', 'eu_cellar_core',\n       'eu_cellar_extended', 'metadata', 'content_path', 'content',\n       'language'],\n      dtype='object')"
     },
     "execution_count": 197,
     "metadata": {},
     "output_type": "execute_result"
    }
   ],
   "source": [
    "eu_cellar_df.columns"
   ],
   "metadata": {
    "collapsed": false,
    "pycharm": {
     "name": "#%%\n"
    }
   }
  },
  {
   "cell_type": "code",
   "execution_count": 244,
   "outputs": [
    {
     "name": "stdout",
     "output_type": "stream",
     "text": [
      "['dates_document', 'dates_created', 'legal_dates_entry_into_force', 'legal_dates_signature']\n"
     ]
    }
   ],
   "source": [
    "eu_cellar_df[['dates_document', 'dates_created', 'legal_dates_entry_into_force', 'legal_dates_signature']]\n",
    "\n",
    "date_columns = [col for col in eu_cellar_df.columns if 'date' in col]\n",
    "print(date_columns)"
   ],
   "metadata": {
    "collapsed": false,
    "pycharm": {
     "name": "#%%\n"
    }
   }
  },
  {
   "cell_type": "code",
   "execution_count": 152,
   "outputs": [
    {
     "data": {
      "text/plain": "                                                   dates_document  \\\n_id                                                                 \n096cf675f70416b2e41772ca7c7e2d9e47b036fd61761f6...     2020-08-24   \n098a92d90aed3b1c860da75a07011e016ffd6b932bedb84...     2020-11-12   \n097445974db4fa8b72c8795530e3c0cfbeaa4399e1cddbf...     2020-10-23   \n09a99dc1b9074fe57ab5aee6544d724ce890983416548ad...     2020-05-25   \n099891adb9d1f50f2ee91ca1a4a38f5acad656f8f9c48f6...     2021-04-21   \n...                                                           ...   \n7f78f989ecbe6f02cf7b35c58620f734285c0bcf930675f...     2021-04-14   \n0d03875f957d8d5485570408d9ed5cdd3734de99ba1a85d...     2020-10-29   \n0d5371d3179b60985fb0f25ba8954ee1807f720dc7adbdd...     2021-03-11   \n0d4ab1728064e73ec6ee121b1112cc0084d0159bec1aaaa...     2020-05-20   \n0d497204a50e17efc9565e654866383416443e390ea4fb0...     2020-04-15   \n\n                                                   dates_created  \\\n_id                                                                \n096cf675f70416b2e41772ca7c7e2d9e47b036fd61761f6...          None   \n098a92d90aed3b1c860da75a07011e016ffd6b932bedb84...          None   \n097445974db4fa8b72c8795530e3c0cfbeaa4399e1cddbf...          None   \n09a99dc1b9074fe57ab5aee6544d724ce890983416548ad...          None   \n099891adb9d1f50f2ee91ca1a4a38f5acad656f8f9c48f6...          None   \n...                                                          ...   \n7f78f989ecbe6f02cf7b35c58620f734285c0bcf930675f...          None   \n0d03875f957d8d5485570408d9ed5cdd3734de99ba1a85d...          None   \n0d5371d3179b60985fb0f25ba8954ee1807f720dc7adbdd...          None   \n0d4ab1728064e73ec6ee121b1112cc0084d0159bec1aaaa...          None   \n0d497204a50e17efc9565e654866383416443e390ea4fb0...          None   \n\n                                                   legal_dates_entry_into_force  \\\n_id                                                                               \n096cf675f70416b2e41772ca7c7e2d9e47b036fd61761f6...                         None   \n098a92d90aed3b1c860da75a07011e016ffd6b932bedb84...                   2020-12-03   \n097445974db4fa8b72c8795530e3c0cfbeaa4399e1cddbf...                         None   \n09a99dc1b9074fe57ab5aee6544d724ce890983416548ad...                         None   \n099891adb9d1f50f2ee91ca1a4a38f5acad656f8f9c48f6...                         None   \n...                                                                         ...   \n7f78f989ecbe6f02cf7b35c58620f734285c0bcf930675f...                         None   \n0d03875f957d8d5485570408d9ed5cdd3734de99ba1a85d...                         None   \n0d5371d3179b60985fb0f25ba8954ee1807f720dc7adbdd...                         None   \n0d4ab1728064e73ec6ee121b1112cc0084d0159bec1aaaa...                         None   \n0d497204a50e17efc9565e654866383416443e390ea4fb0...                         None   \n\n                                                   legal_dates_signature  \n_id                                                                       \n096cf675f70416b2e41772ca7c7e2d9e47b036fd61761f6...                  None  \n098a92d90aed3b1c860da75a07011e016ffd6b932bedb84...                  None  \n097445974db4fa8b72c8795530e3c0cfbeaa4399e1cddbf...                  None  \n09a99dc1b9074fe57ab5aee6544d724ce890983416548ad...                  None  \n099891adb9d1f50f2ee91ca1a4a38f5acad656f8f9c48f6...                  None  \n...                                                                  ...  \n7f78f989ecbe6f02cf7b35c58620f734285c0bcf930675f...                  None  \n0d03875f957d8d5485570408d9ed5cdd3734de99ba1a85d...                  None  \n0d5371d3179b60985fb0f25ba8954ee1807f720dc7adbdd...                  None  \n0d4ab1728064e73ec6ee121b1112cc0084d0159bec1aaaa...                  None  \n0d497204a50e17efc9565e654866383416443e390ea4fb0...                  None  \n\n[2818 rows x 4 columns]",
      "text/html": "<div>\n<style scoped>\n    .dataframe tbody tr th:only-of-type {\n        vertical-align: middle;\n    }\n\n    .dataframe tbody tr th {\n        vertical-align: top;\n    }\n\n    .dataframe thead th {\n        text-align: right;\n    }\n</style>\n<table border=\"1\" class=\"dataframe\">\n  <thead>\n    <tr style=\"text-align: right;\">\n      <th></th>\n      <th>dates_document</th>\n      <th>dates_created</th>\n      <th>legal_dates_entry_into_force</th>\n      <th>legal_dates_signature</th>\n    </tr>\n    <tr>\n      <th>_id</th>\n      <th></th>\n      <th></th>\n      <th></th>\n      <th></th>\n    </tr>\n  </thead>\n  <tbody>\n    <tr>\n      <th>096cf675f70416b2e41772ca7c7e2d9e47b036fd61761f6e271d51b205d0bc50</th>\n      <td>2020-08-24</td>\n      <td>None</td>\n      <td>None</td>\n      <td>None</td>\n    </tr>\n    <tr>\n      <th>098a92d90aed3b1c860da75a07011e016ffd6b932bedb844d57d4aeb722ee691</th>\n      <td>2020-11-12</td>\n      <td>None</td>\n      <td>2020-12-03</td>\n      <td>None</td>\n    </tr>\n    <tr>\n      <th>097445974db4fa8b72c8795530e3c0cfbeaa4399e1cddbfdc5a8c4e463fd6bcf</th>\n      <td>2020-10-23</td>\n      <td>None</td>\n      <td>None</td>\n      <td>None</td>\n    </tr>\n    <tr>\n      <th>09a99dc1b9074fe57ab5aee6544d724ce890983416548addf972829a932708da</th>\n      <td>2020-05-25</td>\n      <td>None</td>\n      <td>None</td>\n      <td>None</td>\n    </tr>\n    <tr>\n      <th>099891adb9d1f50f2ee91ca1a4a38f5acad656f8f9c48f659f6be310fb0cbfc3</th>\n      <td>2021-04-21</td>\n      <td>None</td>\n      <td>None</td>\n      <td>None</td>\n    </tr>\n    <tr>\n      <th>...</th>\n      <td>...</td>\n      <td>...</td>\n      <td>...</td>\n      <td>...</td>\n    </tr>\n    <tr>\n      <th>7f78f989ecbe6f02cf7b35c58620f734285c0bcf930675fb33881c74935b9edb</th>\n      <td>2021-04-14</td>\n      <td>None</td>\n      <td>None</td>\n      <td>None</td>\n    </tr>\n    <tr>\n      <th>0d03875f957d8d5485570408d9ed5cdd3734de99ba1a85d5ce17c328c133ec1e</th>\n      <td>2020-10-29</td>\n      <td>None</td>\n      <td>None</td>\n      <td>None</td>\n    </tr>\n    <tr>\n      <th>0d5371d3179b60985fb0f25ba8954ee1807f720dc7adbdd0e9c581a8d1f120f0</th>\n      <td>2021-03-11</td>\n      <td>None</td>\n      <td>None</td>\n      <td>None</td>\n    </tr>\n    <tr>\n      <th>0d4ab1728064e73ec6ee121b1112cc0084d0159bec1aaaa71b71186327da87b4</th>\n      <td>2020-05-20</td>\n      <td>None</td>\n      <td>None</td>\n      <td>None</td>\n    </tr>\n    <tr>\n      <th>0d497204a50e17efc9565e654866383416443e390ea4fb0e7f61ac9f6354d108</th>\n      <td>2020-04-15</td>\n      <td>None</td>\n      <td>None</td>\n      <td>None</td>\n    </tr>\n  </tbody>\n</table>\n<p>2818 rows × 4 columns</p>\n</div>"
     },
     "execution_count": 152,
     "metadata": {},
     "output_type": "execute_result"
    }
   ],
   "source": [
    "DATES_COLUMNS = ['dates_document', 'dates_created', 'legal_dates_entry_into_force', 'legal_dates_signature']\n",
    "for date_column in DATES_COLUMNS:\n",
    "    eu_cellar_df[date_column] = eu_cellar_df[date_column].apply(\n",
    "        lambda x: pd.to_datetime(x[0], errors='coerce', yearfirst=True).date() if x else None).replace(\n",
    "        {np.nan: None})\n",
    "\n",
    "eu_cellar_df[['dates_document', 'dates_created', 'legal_dates_entry_into_force', 'legal_dates_signature']]\n"
   ],
   "metadata": {
    "collapsed": false,
    "pycharm": {
     "name": "#%%\n"
    }
   }
  },
  {
   "cell_type": "code",
   "execution_count": 46,
   "outputs": [],
   "source": [
    "eu_cellar_df.dates_created.apply(\n",
    "        lambda x: pd.to_datetime(x[0], errors='coerce', yearfirst=True).date() if x else None).replace(\n",
    "        {np.nan: None}).apply(lambda x: str(x) if x else None)"
   ],
   "metadata": {
    "collapsed": false,
    "pycharm": {
     "name": "#%%\n"
    }
   }
  },
  {
   "cell_type": "code",
   "execution_count": 135,
   "outputs": [
    {
     "data": {
      "text/plain": "_id\n096cf675f70416b2e41772ca7c7e2d9e47b036fd61761f6e271d51b205d0bc50          None\n098a92d90aed3b1c860da75a07011e016ffd6b932bedb844d57d4aeb722ee691    2020-12-03\n097445974db4fa8b72c8795530e3c0cfbeaa4399e1cddbfdc5a8c4e463fd6bcf          None\n09a99dc1b9074fe57ab5aee6544d724ce890983416548addf972829a932708da          None\n099891adb9d1f50f2ee91ca1a4a38f5acad656f8f9c48f659f6be310fb0cbfc3          None\n                                                                       ...    \n7f78f989ecbe6f02cf7b35c58620f734285c0bcf930675fb33881c74935b9edb          None\n0d03875f957d8d5485570408d9ed5cdd3734de99ba1a85d5ce17c328c133ec1e          None\n0d5371d3179b60985fb0f25ba8954ee1807f720dc7adbdd0e9c581a8d1f120f0          None\n0d4ab1728064e73ec6ee121b1112cc0084d0159bec1aaaa71b71186327da87b4          None\n0d497204a50e17efc9565e654866383416443e390ea4fb0e7f61ac9f6354d108          None\nName: legal_dates_entry_into_force, Length: 2818, dtype: object"
     },
     "execution_count": 135,
     "metadata": {},
     "output_type": "execute_result"
    }
   ],
   "source": [
    "#eu_cellar_df.dates_created.apply(lambda x: str(x) if x else None)\n",
    "# eu_cellar_df.legal_dates_entry_into_force.apply(lambda x: str(x) if x else None)\n",
    "#eu_cellar_df.legal_dates_entry_into_force = eu_cellar_df.legal_dates_entry_into_force.apply(lambda x: pd.to_datetime(x[0], errors = 'raise', yearfirst=True).strftime('%Y-%m-%d') if x else None)\n",
    "eu_cellar_df.legal_dates_entry_into_force = eu_cellar_df.legal_dates_entry_into_force.apply(lambda x: pd.to_datetime(x[0], errors = 'coerce', yearfirst=True).date() if x else None).replace({np.nan: None})\n",
    "eu_cellar_df.legal_dates_entry_into_force"
   ],
   "metadata": {
    "collapsed": false,
    "pycharm": {
     "name": "#%%\n"
    }
   }
  },
  {
   "cell_type": "code",
   "execution_count": 53,
   "outputs": [
    {
     "data": {
      "text/plain": "_id\n096cf675f70416b2e41772ca7c7e2d9e47b036fd61761f6e271d51b205d0bc50          None\n098a92d90aed3b1c860da75a07011e016ffd6b932bedb844d57d4aeb722ee691    2020-12-03\n097445974db4fa8b72c8795530e3c0cfbeaa4399e1cddbfdc5a8c4e463fd6bcf          None\n09a99dc1b9074fe57ab5aee6544d724ce890983416548addf972829a932708da          None\n099891adb9d1f50f2ee91ca1a4a38f5acad656f8f9c48f659f6be310fb0cbfc3          None\n                                                                       ...    \n7f78f989ecbe6f02cf7b35c58620f734285c0bcf930675fb33881c74935b9edb          None\n0d03875f957d8d5485570408d9ed5cdd3734de99ba1a85d5ce17c328c133ec1e          None\n0d5371d3179b60985fb0f25ba8954ee1807f720dc7adbdd0e9c581a8d1f120f0          None\n0d4ab1728064e73ec6ee121b1112cc0084d0159bec1aaaa71b71186327da87b4          None\n0d497204a50e17efc9565e654866383416443e390ea4fb0e7f61ac9f6354d108          None\nName: legal_dates_entry_into_force, Length: 2818, dtype: object"
     },
     "execution_count": 53,
     "metadata": {},
     "output_type": "execute_result"
    }
   ],
   "source": [
    "eu_cellar_df.legal_dates_entry_into_force = eu_cellar_df.legal_dates_entry_into_force.apply(lambda x: x[0] if x else None)\n",
    "eu_cellar_df.legal_dates_entry_into_force\n",
    "#eu_cellar_df.legal_dates_entry_into_force = pd.to_datetime(eu_cellar_df.legal_dates_entry_into_force).dt.strftime('%Y-%m-%d')\n",
    "#eu_cellar_df.legal_dates_entry_into_force"
   ],
   "metadata": {
    "collapsed": false,
    "pycharm": {
     "name": "#%%\n"
    }
   }
  },
  {
   "cell_type": "code",
   "execution_count": 73,
   "outputs": [
    {
     "ename": "AttributeError",
     "evalue": "Can only use .dt accessor with datetimelike values",
     "output_type": "error",
     "traceback": [
      "\u001B[0;31m---------------------------------------------------------------------------\u001B[0m",
      "\u001B[0;31mAttributeError\u001B[0m                            Traceback (most recent call last)",
      "\u001B[0;32m/tmp/ipykernel_21749/3125656068.py\u001B[0m in \u001B[0;36m<module>\u001B[0;34m\u001B[0m\n\u001B[0;32m----> 1\u001B[0;31m \u001B[0meu_cellar_df\u001B[0m\u001B[0;34m.\u001B[0m\u001B[0mlegal_dates_entry_into_force\u001B[0m \u001B[0;34m=\u001B[0m \u001B[0mpd\u001B[0m\u001B[0;34m.\u001B[0m\u001B[0mto_datetime\u001B[0m\u001B[0;34m(\u001B[0m\u001B[0meu_cellar_df\u001B[0m\u001B[0;34m.\u001B[0m\u001B[0mlegal_dates_entry_into_force\u001B[0m\u001B[0;34m,\u001B[0m \u001B[0merrors\u001B[0m \u001B[0;34m=\u001B[0m \u001B[0;34m'ignore'\u001B[0m\u001B[0;34m)\u001B[0m\u001B[0;34m.\u001B[0m\u001B[0mdt\u001B[0m\u001B[0;34m.\u001B[0m\u001B[0mstrftime\u001B[0m\u001B[0;34m(\u001B[0m\u001B[0;34m'%Y-%m-%d'\u001B[0m\u001B[0;34m)\u001B[0m\u001B[0;34m\u001B[0m\u001B[0;34m\u001B[0m\u001B[0m\n\u001B[0m\u001B[1;32m      2\u001B[0m \u001B[0meu_cellar_df\u001B[0m\u001B[0;34m.\u001B[0m\u001B[0mlegal_dates_entry_into_force\u001B[0m\u001B[0;34m\u001B[0m\u001B[0;34m\u001B[0m\u001B[0m\n",
      "\u001B[0;32m/opt/conda/lib/python3.8/site-packages/pandas/core/generic.py\u001B[0m in \u001B[0;36m__getattr__\u001B[0;34m(self, name)\u001B[0m\n\u001B[1;32m   5476\u001B[0m         ):\n\u001B[1;32m   5477\u001B[0m             \u001B[0;32mreturn\u001B[0m \u001B[0mself\u001B[0m\u001B[0;34m[\u001B[0m\u001B[0mname\u001B[0m\u001B[0;34m]\u001B[0m\u001B[0;34m\u001B[0m\u001B[0;34m\u001B[0m\u001B[0m\n\u001B[0;32m-> 5478\u001B[0;31m         \u001B[0;32mreturn\u001B[0m \u001B[0mobject\u001B[0m\u001B[0;34m.\u001B[0m\u001B[0m__getattribute__\u001B[0m\u001B[0;34m(\u001B[0m\u001B[0mself\u001B[0m\u001B[0;34m,\u001B[0m \u001B[0mname\u001B[0m\u001B[0;34m)\u001B[0m\u001B[0;34m\u001B[0m\u001B[0;34m\u001B[0m\u001B[0m\n\u001B[0m\u001B[1;32m   5479\u001B[0m \u001B[0;34m\u001B[0m\u001B[0m\n\u001B[1;32m   5480\u001B[0m     \u001B[0;32mdef\u001B[0m \u001B[0m__setattr__\u001B[0m\u001B[0;34m(\u001B[0m\u001B[0mself\u001B[0m\u001B[0;34m,\u001B[0m \u001B[0mname\u001B[0m\u001B[0;34m:\u001B[0m \u001B[0mstr\u001B[0m\u001B[0;34m,\u001B[0m \u001B[0mvalue\u001B[0m\u001B[0;34m)\u001B[0m \u001B[0;34m->\u001B[0m \u001B[0;32mNone\u001B[0m\u001B[0;34m:\u001B[0m\u001B[0;34m\u001B[0m\u001B[0;34m\u001B[0m\u001B[0m\n",
      "\u001B[0;32m/opt/conda/lib/python3.8/site-packages/pandas/core/accessor.py\u001B[0m in \u001B[0;36m__get__\u001B[0;34m(self, obj, cls)\u001B[0m\n\u001B[1;32m    179\u001B[0m             \u001B[0;31m# we're accessing the attribute of the class, i.e., Dataset.geo\u001B[0m\u001B[0;34m\u001B[0m\u001B[0;34m\u001B[0m\u001B[0;34m\u001B[0m\u001B[0m\n\u001B[1;32m    180\u001B[0m             \u001B[0;32mreturn\u001B[0m \u001B[0mself\u001B[0m\u001B[0;34m.\u001B[0m\u001B[0m_accessor\u001B[0m\u001B[0;34m\u001B[0m\u001B[0;34m\u001B[0m\u001B[0m\n\u001B[0;32m--> 181\u001B[0;31m         \u001B[0maccessor_obj\u001B[0m \u001B[0;34m=\u001B[0m \u001B[0mself\u001B[0m\u001B[0;34m.\u001B[0m\u001B[0m_accessor\u001B[0m\u001B[0;34m(\u001B[0m\u001B[0mobj\u001B[0m\u001B[0;34m)\u001B[0m\u001B[0;34m\u001B[0m\u001B[0;34m\u001B[0m\u001B[0m\n\u001B[0m\u001B[1;32m    182\u001B[0m         \u001B[0;31m# Replace the property with the accessor object. Inspired by:\u001B[0m\u001B[0;34m\u001B[0m\u001B[0;34m\u001B[0m\u001B[0;34m\u001B[0m\u001B[0m\n\u001B[1;32m    183\u001B[0m         \u001B[0;31m# https://www.pydanny.com/cached-property.html\u001B[0m\u001B[0;34m\u001B[0m\u001B[0;34m\u001B[0m\u001B[0;34m\u001B[0m\u001B[0m\n",
      "\u001B[0;32m/opt/conda/lib/python3.8/site-packages/pandas/core/indexes/accessors.py\u001B[0m in \u001B[0;36m__new__\u001B[0;34m(cls, data)\u001B[0m\n\u001B[1;32m    504\u001B[0m             \u001B[0;32mreturn\u001B[0m \u001B[0mPeriodProperties\u001B[0m\u001B[0;34m(\u001B[0m\u001B[0mdata\u001B[0m\u001B[0;34m,\u001B[0m \u001B[0morig\u001B[0m\u001B[0;34m)\u001B[0m\u001B[0;34m\u001B[0m\u001B[0;34m\u001B[0m\u001B[0m\n\u001B[1;32m    505\u001B[0m \u001B[0;34m\u001B[0m\u001B[0m\n\u001B[0;32m--> 506\u001B[0;31m         \u001B[0;32mraise\u001B[0m \u001B[0mAttributeError\u001B[0m\u001B[0;34m(\u001B[0m\u001B[0;34m\"Can only use .dt accessor with datetimelike values\"\u001B[0m\u001B[0;34m)\u001B[0m\u001B[0;34m\u001B[0m\u001B[0;34m\u001B[0m\u001B[0m\n\u001B[0m",
      "\u001B[0;31mAttributeError\u001B[0m: Can only use .dt accessor with datetimelike values"
     ]
    }
   ],
   "source": [
    "eu_cellar_df.legal_dates_entry_into_force = pd.to_datetime(eu_cellar_df.legal_dates_entry_into_force, errors = 'coerce').dt.strftime('%Y-%m-%d')\n",
    "eu_cellar_df.legal_dates_entry_into_force"
   ],
   "metadata": {
    "collapsed": false,
    "pycharm": {
     "name": "#%%\n"
    }
   }
  },
  {
   "cell_type": "code",
   "execution_count": 63,
   "outputs": [
    {
     "data": {
      "text/plain": "_id\n096cf675f70416b2e41772ca7c7e2d9e47b036fd61761f6e271d51b205d0bc50   NaN\n098a92d90aed3b1c860da75a07011e016ffd6b932bedb844d57d4aeb722ee691   NaN\n097445974db4fa8b72c8795530e3c0cfbeaa4399e1cddbfdc5a8c4e463fd6bcf   NaN\n09a99dc1b9074fe57ab5aee6544d724ce890983416548addf972829a932708da   NaN\n099891adb9d1f50f2ee91ca1a4a38f5acad656f8f9c48f659f6be310fb0cbfc3   NaN\n                                                                    ..\n7f78f989ecbe6f02cf7b35c58620f734285c0bcf930675fb33881c74935b9edb   NaN\n0d03875f957d8d5485570408d9ed5cdd3734de99ba1a85d5ce17c328c133ec1e   NaN\n0d5371d3179b60985fb0f25ba8954ee1807f720dc7adbdd0e9c581a8d1f120f0   NaN\n0d4ab1728064e73ec6ee121b1112cc0084d0159bec1aaaa71b71186327da87b4   NaN\n0d497204a50e17efc9565e654866383416443e390ea4fb0e7f61ac9f6354d108   NaN\nName: dates_created, Length: 2818, dtype: float64"
     },
     "execution_count": 63,
     "metadata": {},
     "output_type": "execute_result"
    }
   ],
   "source": [
    "eu_cellar_df.dates_created = eu_cellar_df.dates_created.apply(lambda x: x[0] if x else None)\n",
    "eu_cellar_df.dates_created\n",
    "eu_cellar_df.dates_created = pd.to_datetime(eu_cellar_df.dates_created).dt.strftime('%Y-%m-%d')\n",
    "eu_cellar_df.dates_created\n",
    "\n"
   ],
   "metadata": {
    "collapsed": false,
    "pycharm": {
     "name": "#%%\n"
    }
   }
  },
  {
   "cell_type": "code",
   "execution_count": 67,
   "outputs": [
    {
     "data": {
      "text/plain": "_id\n096cf675f70416b2e41772ca7c7e2d9e47b036fd61761f6e271d51b205d0bc50    None\n098a92d90aed3b1c860da75a07011e016ffd6b932bedb844d57d4aeb722ee691    None\n097445974db4fa8b72c8795530e3c0cfbeaa4399e1cddbfdc5a8c4e463fd6bcf    None\n09a99dc1b9074fe57ab5aee6544d724ce890983416548addf972829a932708da    None\n099891adb9d1f50f2ee91ca1a4a38f5acad656f8f9c48f659f6be310fb0cbfc3    None\n                                                                    ... \n7f78f989ecbe6f02cf7b35c58620f734285c0bcf930675fb33881c74935b9edb    None\n0d03875f957d8d5485570408d9ed5cdd3734de99ba1a85d5ce17c328c133ec1e    None\n0d5371d3179b60985fb0f25ba8954ee1807f720dc7adbdd0e9c581a8d1f120f0    None\n0d4ab1728064e73ec6ee121b1112cc0084d0159bec1aaaa71b71186327da87b4    None\n0d497204a50e17efc9565e654866383416443e390ea4fb0e7f61ac9f6354d108    None\nName: dates_created, Length: 2818, dtype: object"
     },
     "execution_count": 67,
     "metadata": {},
     "output_type": "execute_result"
    }
   ],
   "source": [
    "eu_cellar_df.dates_created = eu_cellar_df.dates_created.replace({np.nan: None})\n",
    "eu_cellar_df.dates_created\n"
   ],
   "metadata": {
    "collapsed": false,
    "pycharm": {
     "name": "#%%\n"
    }
   }
  }
 ],
 "metadata": {
  "kernelspec": {
   "display_name": "Python 3",
   "language": "python",
   "name": "python3"
  },
  "language_info": {
   "codemirror_mode": {
    "name": "ipython",
    "version": 2
   },
   "file_extension": ".py",
   "mimetype": "text/x-python",
   "name": "python",
   "nbconvert_exporter": "python",
   "pygments_lexer": "ipython2",
   "version": "2.7.6"
  }
 },
 "nbformat": 4,
 "nbformat_minor": 0
}