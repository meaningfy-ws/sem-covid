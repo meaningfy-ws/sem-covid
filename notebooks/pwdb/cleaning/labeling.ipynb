{
 "cells": [
  {
   "cell_type": "code",
   "execution_count": 1,
   "metadata": {
    "collapsed": true
   },
   "outputs": [],
   "source": [
    "# Ignore warnings\n",
    "import warnings\n",
    "warnings.filterwarnings('ignore')\n",
    "\n",
    "import pathlib\n",
    "DATA_FOLDER = pathlib.Path(\"/home/jovyan/work/Dan/data\")\n",
    "SRC_FOLDER = pathlib.Path(\"/home/jovyan/work/Dan/src\")\n",
    "\n",
    "\n",
    "import pandas as pd"
   ]
  },
  {
   "cell_type": "code",
   "execution_count": 2,
   "outputs": [
    {
     "data": {
      "text/plain": "                           Concatinated Data (clean)  \\\n0  [hardship, case, fund, safety, net, selfemploy...   \n1  [state, support, tourism, access, financeas, t...   \n2  [bank, guarantees, smes, oneperson, enterprise...   \n3  [emergency, measures, relating, shorttime, wor...   \n4  [airbus, agreement, making, unworked, hours, p...   \n\n                                         Category  \\\n0        Income protection beyond short-time work   \n1            Supporting businesses to stay afloat   \n2            Supporting businesses to stay afloat   \n3             Employment protection and retention   \n4  Protection of workers, adaptation of workplace   \n\n                               Type of measure  \\\n0  Legislations or other statutory regulations   \n1  Legislations or other statutory regulations   \n2  Legislations or other statutory regulations   \n3  Legislations or other statutory regulations   \n4              Bipartite collective agreements   \n\n                                       Target groups  \n0  One person or microenterprises, Self-employed,...  \n1             SMEs, Sector specific set of companies  \n2               One person or microenterprises, SMEs  \n3  Employees in standard employment, Other groups...  \n4  Employees in standard employment, Larger corpo...  ",
      "text/html": "<div>\n<style scoped>\n    .dataframe tbody tr th:only-of-type {\n        vertical-align: middle;\n    }\n\n    .dataframe tbody tr th {\n        vertical-align: top;\n    }\n\n    .dataframe thead th {\n        text-align: right;\n    }\n</style>\n<table border=\"1\" class=\"dataframe\">\n  <thead>\n    <tr style=\"text-align: right;\">\n      <th></th>\n      <th>Concatinated Data (clean)</th>\n      <th>Category</th>\n      <th>Type of measure</th>\n      <th>Target groups</th>\n    </tr>\n  </thead>\n  <tbody>\n    <tr>\n      <th>0</th>\n      <td>[hardship, case, fund, safety, net, selfemploy...</td>\n      <td>Income protection beyond short-time work</td>\n      <td>Legislations or other statutory regulations</td>\n      <td>One person or microenterprises, Self-employed,...</td>\n    </tr>\n    <tr>\n      <th>1</th>\n      <td>[state, support, tourism, access, financeas, t...</td>\n      <td>Supporting businesses to stay afloat</td>\n      <td>Legislations or other statutory regulations</td>\n      <td>SMEs, Sector specific set of companies</td>\n    </tr>\n    <tr>\n      <th>2</th>\n      <td>[bank, guarantees, smes, oneperson, enterprise...</td>\n      <td>Supporting businesses to stay afloat</td>\n      <td>Legislations or other statutory regulations</td>\n      <td>One person or microenterprises, SMEs</td>\n    </tr>\n    <tr>\n      <th>3</th>\n      <td>[emergency, measures, relating, shorttime, wor...</td>\n      <td>Employment protection and retention</td>\n      <td>Legislations or other statutory regulations</td>\n      <td>Employees in standard employment, Other groups...</td>\n    </tr>\n    <tr>\n      <th>4</th>\n      <td>[airbus, agreement, making, unworked, hours, p...</td>\n      <td>Protection of workers, adaptation of workplace</td>\n      <td>Bipartite collective agreements</td>\n      <td>Employees in standard employment, Larger corpo...</td>\n    </tr>\n  </tbody>\n</table>\n</div>"
     },
     "execution_count": 2,
     "metadata": {},
     "output_type": "execute_result"
    }
   ],
   "source": [
    "PATH = DATA_FOLDER / \"pwdb/pickle/df.pkl\"\n",
    "\n",
    "df = pd.read_pickle(PATH)\n",
    "df1 = df[['Concatinated Data (clean)', 'Category', 'Type of measure', 'Target groups']]\n",
    "df1.head()"
   ],
   "metadata": {
    "collapsed": false,
    "pycharm": {
     "name": "#%%\n"
    }
   }
  },
  {
   "cell_type": "markdown",
   "source": [
    "## Type of measure"
   ],
   "metadata": {
    "collapsed": false,
    "pycharm": {
     "name": "#%% md\n"
    }
   }
  },
  {
   "cell_type": "code",
   "execution_count": 3,
   "outputs": [
    {
     "data": {
      "text/plain": "Legislations or other statutory regulations    658\nOther initiatives or policies                  121\nBipartite collective agreements                 69\nNon-binding recommendations or other texts      46\nCompany practices                               24\nTripartite agreements                           17\nName: Type of measure, dtype: int64"
     },
     "execution_count": 3,
     "metadata": {},
     "output_type": "execute_result"
    }
   ],
   "source": [
    "df1['Type of measure'].value_counts()"
   ],
   "metadata": {
    "collapsed": false,
    "pycharm": {
     "name": "#%%\n"
    }
   }
  },
  {
   "cell_type": "code",
   "execution_count": 4,
   "outputs": [
    {
     "data": {
      "text/plain": "Concatinated Data (clean)    0\nCategory                     0\nType of measure              0\nTarget groups                0\ndtype: int64"
     },
     "execution_count": 4,
     "metadata": {},
     "output_type": "execute_result"
    }
   ],
   "source": [
    "df1.isna().sum()"
   ],
   "metadata": {
    "collapsed": false,
    "pycharm": {
     "name": "#%%\n"
    }
   }
  },
  {
   "cell_type": "code",
   "source": [
    "df1.replace(\n",
    "    to_replace={\"Type of measure\": {\n",
    "        'Legislations or other statutory regulations': 0,\n",
    "        'Other initiatives or policies': 1,\n",
    "        'Bipartite collective agreements': 2,\n",
    "        'Non-binding recommendations or other texts': 3,\n",
    "        'Company practices': 4,\n",
    "        'Tripartite agreements': 5\n",
    "    }}, inplace=True)"
   ],
   "metadata": {
    "collapsed": false,
    "pycharm": {
     "name": "#%%\n"
    }
   },
   "execution_count": 5,
   "outputs": []
  },
  {
   "cell_type": "code",
   "execution_count": 6,
   "outputs": [
    {
     "data": {
      "text/plain": "                           Concatinated Data (clean)  \\\n0  [hardship, case, fund, safety, net, selfemploy...   \n1  [state, support, tourism, access, financeas, t...   \n2  [bank, guarantees, smes, oneperson, enterprise...   \n3  [emergency, measures, relating, shorttime, wor...   \n4  [airbus, agreement, making, unworked, hours, p...   \n\n                                         Category  Type of measure  \\\n0        Income protection beyond short-time work                0   \n1            Supporting businesses to stay afloat                0   \n2            Supporting businesses to stay afloat                0   \n3             Employment protection and retention                0   \n4  Protection of workers, adaptation of workplace                2   \n\n                                       Target groups  \n0  One person or microenterprises, Self-employed,...  \n1             SMEs, Sector specific set of companies  \n2               One person or microenterprises, SMEs  \n3  Employees in standard employment, Other groups...  \n4  Employees in standard employment, Larger corpo...  ",
      "text/html": "<div>\n<style scoped>\n    .dataframe tbody tr th:only-of-type {\n        vertical-align: middle;\n    }\n\n    .dataframe tbody tr th {\n        vertical-align: top;\n    }\n\n    .dataframe thead th {\n        text-align: right;\n    }\n</style>\n<table border=\"1\" class=\"dataframe\">\n  <thead>\n    <tr style=\"text-align: right;\">\n      <th></th>\n      <th>Concatinated Data (clean)</th>\n      <th>Category</th>\n      <th>Type of measure</th>\n      <th>Target groups</th>\n    </tr>\n  </thead>\n  <tbody>\n    <tr>\n      <th>0</th>\n      <td>[hardship, case, fund, safety, net, selfemploy...</td>\n      <td>Income protection beyond short-time work</td>\n      <td>0</td>\n      <td>One person or microenterprises, Self-employed,...</td>\n    </tr>\n    <tr>\n      <th>1</th>\n      <td>[state, support, tourism, access, financeas, t...</td>\n      <td>Supporting businesses to stay afloat</td>\n      <td>0</td>\n      <td>SMEs, Sector specific set of companies</td>\n    </tr>\n    <tr>\n      <th>2</th>\n      <td>[bank, guarantees, smes, oneperson, enterprise...</td>\n      <td>Supporting businesses to stay afloat</td>\n      <td>0</td>\n      <td>One person or microenterprises, SMEs</td>\n    </tr>\n    <tr>\n      <th>3</th>\n      <td>[emergency, measures, relating, shorttime, wor...</td>\n      <td>Employment protection and retention</td>\n      <td>0</td>\n      <td>Employees in standard employment, Other groups...</td>\n    </tr>\n    <tr>\n      <th>4</th>\n      <td>[airbus, agreement, making, unworked, hours, p...</td>\n      <td>Protection of workers, adaptation of workplace</td>\n      <td>2</td>\n      <td>Employees in standard employment, Larger corpo...</td>\n    </tr>\n  </tbody>\n</table>\n</div>"
     },
     "execution_count": 6,
     "metadata": {},
     "output_type": "execute_result"
    }
   ],
   "source": [
    "df1.head()"
   ],
   "metadata": {
    "collapsed": false,
    "pycharm": {
     "name": "#%%\n"
    }
   }
  },
  {
   "cell_type": "code",
   "execution_count": 7,
   "outputs": [
    {
     "data": {
      "text/plain": "0    658\n1    121\n2     69\n3     46\n4     24\n5     17\nName: Type of measure, dtype: int64"
     },
     "execution_count": 7,
     "metadata": {},
     "output_type": "execute_result"
    }
   ],
   "source": [
    "df1['Type of measure'].value_counts()"
   ],
   "metadata": {
    "collapsed": false,
    "pycharm": {
     "name": "#%%\n"
    }
   }
  },
  {
   "cell_type": "markdown",
   "source": [
    "## Category"
   ],
   "metadata": {
    "collapsed": false,
    "pycharm": {
     "name": "#%% md\n"
    }
   }
  },
  {
   "cell_type": "code",
   "execution_count": 8,
   "outputs": [
    {
     "data": {
      "text/plain": "Supporting businesses to stay afloat                               282\nIncome protection beyond short-time work                           129\nProtection of workers, adaptation of workplace                     112\nPromoting the economic, labour market and social recovery          105\nEnsuring business continuity and support for essential services     90\nEmployment protection and retention                                 88\nMeasures to prevent social hardship                                 72\nSupporting businesses to get back to normal                         33\nReorientation of business activities                                24\nName: Category, dtype: int64"
     },
     "execution_count": 8,
     "metadata": {},
     "output_type": "execute_result"
    }
   ],
   "source": [
    "df1['Category'].value_counts()"
   ],
   "metadata": {
    "collapsed": false,
    "pycharm": {
     "name": "#%%\n"
    }
   }
  },
  {
   "cell_type": "code",
   "execution_count": 9,
   "outputs": [
    {
     "data": {
      "text/plain": "Concatinated Data (clean)    0\nCategory                     0\nType of measure              0\nTarget groups                0\ndtype: int64"
     },
     "execution_count": 9,
     "metadata": {},
     "output_type": "execute_result"
    }
   ],
   "source": [
    "df1.isna().sum()"
   ],
   "metadata": {
    "collapsed": false,
    "pycharm": {
     "name": "#%%\n"
    }
   }
  },
  {
   "cell_type": "code",
   "execution_count": 10,
   "outputs": [],
   "source": [
    "df1.replace(\n",
    "    to_replace={\"Category\": {\n",
    "        'Supporting businesses to stay afloat': 0,\n",
    "        'Other': 1,\n",
    "        'Income protection beyond short-time work': 2,\n",
    "        'Protection of workers, adaptation of workplace': 3,\n",
    "        'Promoting the economic, labour market and social recovery': 4,\n",
    "        'Ensuring business continuity and support for essential services': 5,\n",
    "        'Employment protection and retention': 6,\n",
    "        'Measures to prevent social hardship': 7,\n",
    "        'Supporting businesses to get back to normal': 8,\n",
    "        'Reorientation of business activities': 9\n",
    "    }}, inplace=True)\n"
   ],
   "metadata": {
    "collapsed": false,
    "pycharm": {
     "name": "#%%\n"
    }
   }
  },
  {
   "cell_type": "code",
   "execution_count": 11,
   "outputs": [
    {
     "data": {
      "text/plain": "                           Concatinated Data (clean)  Category  \\\n0  [hardship, case, fund, safety, net, selfemploy...         2   \n1  [state, support, tourism, access, financeas, t...         0   \n2  [bank, guarantees, smes, oneperson, enterprise...         0   \n3  [emergency, measures, relating, shorttime, wor...         6   \n4  [airbus, agreement, making, unworked, hours, p...         3   \n\n   Type of measure                                      Target groups  \n0                0  One person or microenterprises, Self-employed,...  \n1                0             SMEs, Sector specific set of companies  \n2                0               One person or microenterprises, SMEs  \n3                0  Employees in standard employment, Other groups...  \n4                2  Employees in standard employment, Larger corpo...  ",
      "text/html": "<div>\n<style scoped>\n    .dataframe tbody tr th:only-of-type {\n        vertical-align: middle;\n    }\n\n    .dataframe tbody tr th {\n        vertical-align: top;\n    }\n\n    .dataframe thead th {\n        text-align: right;\n    }\n</style>\n<table border=\"1\" class=\"dataframe\">\n  <thead>\n    <tr style=\"text-align: right;\">\n      <th></th>\n      <th>Concatinated Data (clean)</th>\n      <th>Category</th>\n      <th>Type of measure</th>\n      <th>Target groups</th>\n    </tr>\n  </thead>\n  <tbody>\n    <tr>\n      <th>0</th>\n      <td>[hardship, case, fund, safety, net, selfemploy...</td>\n      <td>2</td>\n      <td>0</td>\n      <td>One person or microenterprises, Self-employed,...</td>\n    </tr>\n    <tr>\n      <th>1</th>\n      <td>[state, support, tourism, access, financeas, t...</td>\n      <td>0</td>\n      <td>0</td>\n      <td>SMEs, Sector specific set of companies</td>\n    </tr>\n    <tr>\n      <th>2</th>\n      <td>[bank, guarantees, smes, oneperson, enterprise...</td>\n      <td>0</td>\n      <td>0</td>\n      <td>One person or microenterprises, SMEs</td>\n    </tr>\n    <tr>\n      <th>3</th>\n      <td>[emergency, measures, relating, shorttime, wor...</td>\n      <td>6</td>\n      <td>0</td>\n      <td>Employees in standard employment, Other groups...</td>\n    </tr>\n    <tr>\n      <th>4</th>\n      <td>[airbus, agreement, making, unworked, hours, p...</td>\n      <td>3</td>\n      <td>2</td>\n      <td>Employees in standard employment, Larger corpo...</td>\n    </tr>\n  </tbody>\n</table>\n</div>"
     },
     "execution_count": 11,
     "metadata": {},
     "output_type": "execute_result"
    }
   ],
   "source": [
    "df1.head()"
   ],
   "metadata": {
    "collapsed": false,
    "pycharm": {
     "name": "#%%\n"
    }
   }
  },
  {
   "cell_type": "markdown",
   "source": [
    "## Target groups"
   ],
   "metadata": {
    "collapsed": false,
    "pycharm": {
     "name": "#%% md\n"
    }
   }
  },
  {
   "cell_type": "code",
   "execution_count": 12,
   "outputs": [
    {
     "data": {
      "text/plain": "                                                                              238\nEmployees in standard employment                                               86\nSector specific set of companies                                               85\nSelf-employed                                                                  31\nUnemployed                                                                     28\n                                                                             ... \nLarger corporations, SMEs, Sector specific set of companies                     1\nDisabled, Older citizens, Parents                                               1\nParticular professions, Seasonal workers, Sector specific set of companies      1\nOther businesses, Particular professions                                        1\nOther groups of workers, Self-employed, Unemployed                              1\nName: Target groups, Length: 203, dtype: int64"
     },
     "execution_count": 12,
     "metadata": {},
     "output_type": "execute_result"
    }
   ],
   "source": [
    "df1['Target groups'].value_counts()"
   ],
   "metadata": {
    "collapsed": false,
    "pycharm": {
     "name": "#%%\n"
    }
   }
  },
  {
   "cell_type": "code",
   "execution_count": 13,
   "outputs": [],
   "source": [
    "def multi_label_column_to_binary_columns(df, column):\n",
    "    \"\"\"\n",
    "        assuming that the column contains array objects,\n",
    "        returns a new dataframe with binary columns (True/False)\n",
    "        indicating presence of each distinct array element.\n",
    "\n",
    "        :df: the pandas DataFrame\n",
    "        :column: the column with array values\n",
    "        :return: a new DataFrame with binary columns\n",
    "    \"\"\"\n",
    "    s = df[column].str.replace(\"'\", '').str.split(',').explode().to_frame()\n",
    "    cols = s[column].drop_duplicates(keep=\"first\").tolist()\n",
    "    df2 = pd.concat([df, pd.crosstab(s.index, s[column])[cols]], axis=1)\n",
    "\n",
    "    return df2"
   ],
   "metadata": {
    "collapsed": false,
    "pycharm": {
     "name": "#%%\n"
    }
   }
  },
  {
   "cell_type": "code",
   "execution_count": 14,
   "outputs": [
    {
     "data": {
      "text/plain": "                           Concatinated Data (clean)  Category  \\\n0  [hardship, case, fund, safety, net, selfemploy...         2   \n1  [state, support, tourism, access, financeas, t...         0   \n2  [bank, guarantees, smes, oneperson, enterprise...         0   \n3  [emergency, measures, relating, shorttime, wor...         6   \n4  [airbus, agreement, making, unworked, hours, p...         3   \n\n   Type of measure                                      Target groups  \\\n0                0  One person or microenterprises, Self-employed,...   \n1                0             SMEs, Sector specific set of companies   \n2                0               One person or microenterprises, SMEs   \n3                0  Employees in standard employment, Other groups...   \n4                2  Employees in standard employment, Larger corpo...   \n\n   One person or microenterprises   Self-employed   Solo-self-employed  SMEs  \\\n0                               1               1                    1     0   \n1                               0               0                    0     1   \n2                               1               0                    0     0   \n3                               0               0                    0     0   \n4                               0               0                    0     0   \n\n    Sector specific set of companies   SMEs  ...  \\\n0                                  0      0  ...   \n1                                  1      0  ...   \n2                                  0      1  ...   \n3                                  0      0  ...   \n4                                  0      0  ...   \n\n    Youth (18-25) in employment  Workers in care facilities  \\\n0                             0                           0   \n1                             0                           0   \n2                             0                           0   \n3                             0                           0   \n4                             0                           0   \n\n   Older people in employment (aged 55+)   Undeclared workers  \\\n0                                      0                    0   \n1                                      0                    0   \n2                                      0                    0   \n3                                      0                    0   \n4                                      0                    0   \n\n   The COVID-19 risk group   Other groups of citizens   Disabled workers  \\\n0                        0                          0                  0   \n1                        0                          0                  0   \n2                        0                          0                  0   \n3                        0                          0                  0   \n4                        0                          0                  0   \n\n   Youth (18-25) in employment   Female workers  Contractors of a company  \n0                            0                0                         0  \n1                            0                0                         0  \n2                            0                0                         0  \n3                            0                0                         0  \n4                            0                0                         0  \n\n[5 rows x 74 columns]",
      "text/html": "<div>\n<style scoped>\n    .dataframe tbody tr th:only-of-type {\n        vertical-align: middle;\n    }\n\n    .dataframe tbody tr th {\n        vertical-align: top;\n    }\n\n    .dataframe thead th {\n        text-align: right;\n    }\n</style>\n<table border=\"1\" class=\"dataframe\">\n  <thead>\n    <tr style=\"text-align: right;\">\n      <th></th>\n      <th>Concatinated Data (clean)</th>\n      <th>Category</th>\n      <th>Type of measure</th>\n      <th>Target groups</th>\n      <th>One person or microenterprises</th>\n      <th>Self-employed</th>\n      <th>Solo-self-employed</th>\n      <th>SMEs</th>\n      <th>Sector specific set of companies</th>\n      <th>SMEs</th>\n      <th>...</th>\n      <th>Youth (18-25) in employment</th>\n      <th>Workers in care facilities</th>\n      <th>Older people in employment (aged 55+)</th>\n      <th>Undeclared workers</th>\n      <th>The COVID-19 risk group</th>\n      <th>Other groups of citizens</th>\n      <th>Disabled workers</th>\n      <th>Youth (18-25) in employment</th>\n      <th>Female workers</th>\n      <th>Contractors of a company</th>\n    </tr>\n  </thead>\n  <tbody>\n    <tr>\n      <th>0</th>\n      <td>[hardship, case, fund, safety, net, selfemploy...</td>\n      <td>2</td>\n      <td>0</td>\n      <td>One person or microenterprises, Self-employed,...</td>\n      <td>1</td>\n      <td>1</td>\n      <td>1</td>\n      <td>0</td>\n      <td>0</td>\n      <td>0</td>\n      <td>...</td>\n      <td>0</td>\n      <td>0</td>\n      <td>0</td>\n      <td>0</td>\n      <td>0</td>\n      <td>0</td>\n      <td>0</td>\n      <td>0</td>\n      <td>0</td>\n      <td>0</td>\n    </tr>\n    <tr>\n      <th>1</th>\n      <td>[state, support, tourism, access, financeas, t...</td>\n      <td>0</td>\n      <td>0</td>\n      <td>SMEs, Sector specific set of companies</td>\n      <td>0</td>\n      <td>0</td>\n      <td>0</td>\n      <td>1</td>\n      <td>1</td>\n      <td>0</td>\n      <td>...</td>\n      <td>0</td>\n      <td>0</td>\n      <td>0</td>\n      <td>0</td>\n      <td>0</td>\n      <td>0</td>\n      <td>0</td>\n      <td>0</td>\n      <td>0</td>\n      <td>0</td>\n    </tr>\n    <tr>\n      <th>2</th>\n      <td>[bank, guarantees, smes, oneperson, enterprise...</td>\n      <td>0</td>\n      <td>0</td>\n      <td>One person or microenterprises, SMEs</td>\n      <td>1</td>\n      <td>0</td>\n      <td>0</td>\n      <td>0</td>\n      <td>0</td>\n      <td>1</td>\n      <td>...</td>\n      <td>0</td>\n      <td>0</td>\n      <td>0</td>\n      <td>0</td>\n      <td>0</td>\n      <td>0</td>\n      <td>0</td>\n      <td>0</td>\n      <td>0</td>\n      <td>0</td>\n    </tr>\n    <tr>\n      <th>3</th>\n      <td>[emergency, measures, relating, shorttime, wor...</td>\n      <td>6</td>\n      <td>0</td>\n      <td>Employees in standard employment, Other groups...</td>\n      <td>0</td>\n      <td>0</td>\n      <td>0</td>\n      <td>0</td>\n      <td>0</td>\n      <td>0</td>\n      <td>...</td>\n      <td>0</td>\n      <td>0</td>\n      <td>0</td>\n      <td>0</td>\n      <td>0</td>\n      <td>0</td>\n      <td>0</td>\n      <td>0</td>\n      <td>0</td>\n      <td>0</td>\n    </tr>\n    <tr>\n      <th>4</th>\n      <td>[airbus, agreement, making, unworked, hours, p...</td>\n      <td>3</td>\n      <td>2</td>\n      <td>Employees in standard employment, Larger corpo...</td>\n      <td>0</td>\n      <td>0</td>\n      <td>0</td>\n      <td>0</td>\n      <td>0</td>\n      <td>0</td>\n      <td>...</td>\n      <td>0</td>\n      <td>0</td>\n      <td>0</td>\n      <td>0</td>\n      <td>0</td>\n      <td>0</td>\n      <td>0</td>\n      <td>0</td>\n      <td>0</td>\n      <td>0</td>\n    </tr>\n  </tbody>\n</table>\n<p>5 rows × 74 columns</p>\n</div>"
     },
     "execution_count": 14,
     "metadata": {},
     "output_type": "execute_result"
    }
   ],
   "source": [
    "df2 = multi_label_column_to_binary_columns(df1, 'Target groups')\n",
    "df2.head()\n"
   ],
   "metadata": {
    "collapsed": false,
    "pycharm": {
     "name": "#%%\n"
    }
   }
  },
  {
   "cell_type": "code",
   "execution_count": 15,
   "outputs": [],
   "source": [
    "#df2.to_pickle(DATA_FOLDER / \"pwdb/pickle/df_columns_labels.pkl\")\n"
   ],
   "metadata": {
    "collapsed": false,
    "pycharm": {
     "name": "#%%\n"
    }
   }
  }
 ],
 "metadata": {
  "kernelspec": {
   "display_name": "Python 3",
   "language": "python",
   "name": "python3"
  },
  "language_info": {
   "codemirror_mode": {
    "name": "ipython",
    "version": 2
   },
   "file_extension": ".py",
   "mimetype": "text/x-python",
   "name": "python",
   "nbconvert_exporter": "python",
   "pygments_lexer": "ipython2",
   "version": "2.7.6"
  }
 },
 "nbformat": 4,
 "nbformat_minor": 0
}