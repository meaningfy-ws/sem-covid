{
 "cells": [
  {
   "cell_type": "markdown",
   "source": [
    "    TODO: create labels for subcategory and\n",
    "          target groups classes and subclasses"
   ],
   "metadata": {
    "collapsed": false,
    "pycharm": {
     "name": "#%% md\n"
    }
   }
  },
  {
   "cell_type": "code",
   "execution_count": 156,
   "metadata": {
    "collapsed": true
   },
   "outputs": [],
   "source": [
    "# Ignore warnings\n",
    "import warnings\n",
    "warnings.filterwarnings('ignore')\n",
    "\n",
    "# Reusable classes\n",
    "import sys\n",
    "sys.path.append(\"/home/jovyan/work/Dan/upload/src/\")\n",
    "\n",
    "# Data path\n",
    "import pathlib\n",
    "DATA_FOLDER = pathlib.Path(\"/home/jovyan/work/Dan/data\")\n",
    "PATH = DATA_FOLDER / \"pwdb/pickle/df.pkl\"\n",
    "\n",
    "# Data manipulation\n",
    "import pandas as pd\n",
    "from pandas import DataFrame\n",
    "\n",
    "# Change multi label columns to binary columns\n",
    "from feature_selector import multi_label_column_to_binary_columns"
   ]
  },
  {
   "cell_type": "markdown",
   "source": [
    "## Read data"
   ],
   "metadata": {
    "collapsed": false,
    "pycharm": {
     "name": "#%% md\n"
    }
   }
  },
  {
   "cell_type": "code",
   "execution_count": 157,
   "outputs": [
    {
     "data": {
      "text/plain": "                                               Title  \\\n0   Hardship case fund: Safety net for self-employed   \n1      State support for tourism - Access to finance   \n2  Bank guarantees for SMEs and one-person enterp...   \n3  Emergency measures relating to short-time working   \n4  Airbus agreement for making up unworked hours ...   \n\n                              Background information  \\\n0  As part of the €4 billion fund to mitigate the...   \n1  As the tourism industry was among the first se...   \n2  On 4 March, following consultation of the soci...   \n3  Link to case FR-2020-10/462\\r\\r\\rAn ordinance ...   \n4  On 20 March, the Airbus Group signed an agreem...   \n\n                                  Content of measure  \\\n0  The support is a one-off payment and does not ...   \n1  Initially, bank guarantees amounting to €100 m...   \n2  The measure is targeted at small and medium si...   \n3  The new ordinance guarantees partial time work...   \n4  This agreement qualifies as unworked time the ...   \n\n                                         Category  \\\n0        Income protection beyond short-time work   \n1            Supporting businesses to stay afloat   \n2            Supporting businesses to stay afloat   \n3             Employment protection and retention   \n4  Protection of workers, adaptation of workplace   \n\n                                         Subcategory  \\\n0  Extensions of  income support to workers not c...   \n1                                  Access to finance   \n2                                  Access to finance   \n3  Income support for people in employment (e.g. ...   \n4      Changes of working hours or work arrangements   \n\n                               Type of measure  \\\n0  Legislations or other statutory regulations   \n1  Legislations or other statutory regulations   \n2  Legislations or other statutory regulations   \n3  Legislations or other statutory regulations   \n4              Bipartite collective agreements   \n\n                                       Target groups  \\\n0  One person or microenterprises|Self-employed|S...   \n1              SMEs|Sector specific set of companies   \n2                One person or microenterprises|SMEs   \n3  Employees in standard employment|Other groups ...   \n4  Employees in standard employment|Larger corpor...   \n\n                                   Concatenated Data  \\\n0  Hardship case fund: Safety net for self-employ...   \n1  State support for tourism - Access to financeA...   \n2  Bank guarantees for SMEs and one-person enterp...   \n3  Emergency measures relating to short-time work...   \n4  Airbus agreement for making up unworked hours ...   \n\n                           Concatenated Data (clean)  \n0  [hardship, case, fund, safety, net, selfemploy...  \n1  [state, support, tourism, access, financeas, t...  \n2  [bank, guarantees, smes, oneperson, enterprise...  \n3  [emergency, measures, relating, shorttime, wor...  \n4  [airbus, agreement, making, unworked, hours, p...  ",
      "text/html": "<div>\n<style scoped>\n    .dataframe tbody tr th:only-of-type {\n        vertical-align: middle;\n    }\n\n    .dataframe tbody tr th {\n        vertical-align: top;\n    }\n\n    .dataframe thead th {\n        text-align: right;\n    }\n</style>\n<table border=\"1\" class=\"dataframe\">\n  <thead>\n    <tr style=\"text-align: right;\">\n      <th></th>\n      <th>Title</th>\n      <th>Background information</th>\n      <th>Content of measure</th>\n      <th>Category</th>\n      <th>Subcategory</th>\n      <th>Type of measure</th>\n      <th>Target groups</th>\n      <th>Concatenated Data</th>\n      <th>Concatenated Data (clean)</th>\n    </tr>\n  </thead>\n  <tbody>\n    <tr>\n      <th>0</th>\n      <td>Hardship case fund: Safety net for self-employed</td>\n      <td>As part of the €4 billion fund to mitigate the...</td>\n      <td>The support is a one-off payment and does not ...</td>\n      <td>Income protection beyond short-time work</td>\n      <td>Extensions of  income support to workers not c...</td>\n      <td>Legislations or other statutory regulations</td>\n      <td>One person or microenterprises|Self-employed|S...</td>\n      <td>Hardship case fund: Safety net for self-employ...</td>\n      <td>[hardship, case, fund, safety, net, selfemploy...</td>\n    </tr>\n    <tr>\n      <th>1</th>\n      <td>State support for tourism - Access to finance</td>\n      <td>As the tourism industry was among the first se...</td>\n      <td>Initially, bank guarantees amounting to €100 m...</td>\n      <td>Supporting businesses to stay afloat</td>\n      <td>Access to finance</td>\n      <td>Legislations or other statutory regulations</td>\n      <td>SMEs|Sector specific set of companies</td>\n      <td>State support for tourism - Access to financeA...</td>\n      <td>[state, support, tourism, access, financeas, t...</td>\n    </tr>\n    <tr>\n      <th>2</th>\n      <td>Bank guarantees for SMEs and one-person enterp...</td>\n      <td>On 4 March, following consultation of the soci...</td>\n      <td>The measure is targeted at small and medium si...</td>\n      <td>Supporting businesses to stay afloat</td>\n      <td>Access to finance</td>\n      <td>Legislations or other statutory regulations</td>\n      <td>One person or microenterprises|SMEs</td>\n      <td>Bank guarantees for SMEs and one-person enterp...</td>\n      <td>[bank, guarantees, smes, oneperson, enterprise...</td>\n    </tr>\n    <tr>\n      <th>3</th>\n      <td>Emergency measures relating to short-time working</td>\n      <td>Link to case FR-2020-10/462\\r\\r\\rAn ordinance ...</td>\n      <td>The new ordinance guarantees partial time work...</td>\n      <td>Employment protection and retention</td>\n      <td>Income support for people in employment (e.g. ...</td>\n      <td>Legislations or other statutory regulations</td>\n      <td>Employees in standard employment|Other groups ...</td>\n      <td>Emergency measures relating to short-time work...</td>\n      <td>[emergency, measures, relating, shorttime, wor...</td>\n    </tr>\n    <tr>\n      <th>4</th>\n      <td>Airbus agreement for making up unworked hours ...</td>\n      <td>On 20 March, the Airbus Group signed an agreem...</td>\n      <td>This agreement qualifies as unworked time the ...</td>\n      <td>Protection of workers, adaptation of workplace</td>\n      <td>Changes of working hours or work arrangements</td>\n      <td>Bipartite collective agreements</td>\n      <td>Employees in standard employment|Larger corpor...</td>\n      <td>Airbus agreement for making up unworked hours ...</td>\n      <td>[airbus, agreement, making, unworked, hours, p...</td>\n    </tr>\n  </tbody>\n</table>\n</div>"
     },
     "execution_count": 157,
     "metadata": {},
     "output_type": "execute_result"
    }
   ],
   "source": [
    "df = pd.read_pickle(PATH)\n",
    "df1 = df[['Concatenated Data (clean)', 'Category', 'Subcategory', 'Type of measure', 'Target groups']]\n",
    "df.head()\n"
   ],
   "metadata": {
    "collapsed": false,
    "pycharm": {
     "name": "#%%\n"
    }
   }
  },
  {
   "cell_type": "markdown",
   "source": [
    "## Type of measure"
   ],
   "metadata": {
    "collapsed": false,
    "pycharm": {
     "name": "#%% md\n"
    }
   }
  },
  {
   "cell_type": "code",
   "execution_count": 158,
   "outputs": [
    {
     "data": {
      "text/plain": "Legislations or other statutory regulations    658\nOther initiatives or policies                  121\nBipartite collective agreements                 69\nNon-binding recommendations or other texts      46\nCompany practices                               24\nTripartite agreements                           17\nName: Type of measure, dtype: int64"
     },
     "execution_count": 158,
     "metadata": {},
     "output_type": "execute_result"
    }
   ],
   "source": [
    "# Count column values\n",
    "df1['Type of measure'].value_counts()"
   ],
   "metadata": {
    "collapsed": false,
    "pycharm": {
     "name": "#%%\n"
    }
   }
  },
  {
   "cell_type": "code",
   "execution_count": 159,
   "outputs": [
    {
     "data": {
      "text/plain": "Concatenated Data (clean)    0\nCategory                     0\nSubcategory                  0\nType of measure              0\nTarget groups                0\ndtype: int64"
     },
     "execution_count": 159,
     "metadata": {},
     "output_type": "execute_result"
    }
   ],
   "source": [
    "# Sum of NaN values\n",
    "df1.isna().sum()"
   ],
   "metadata": {
    "collapsed": false,
    "pycharm": {
     "name": "#%%\n"
    }
   }
  },
  {
   "cell_type": "code",
   "source": [
    "# Replace values with numbers\n",
    "df1.replace(\n",
    "    to_replace={\"Type of measure\": {\n",
    "        'Legislations or other statutory regulations': 0,\n",
    "        'Other initiatives or policies': 1,\n",
    "        'Bipartite collective agreements': 2,\n",
    "        'Non-binding recommendations or other texts': 3,\n",
    "        'Company practices': 4,\n",
    "        'Tripartite agreements': 5\n",
    "    }}, inplace=True)"
   ],
   "metadata": {
    "collapsed": false,
    "pycharm": {
     "name": "#%%\n"
    }
   },
   "execution_count": 160,
   "outputs": []
  },
  {
   "cell_type": "code",
   "execution_count": 161,
   "outputs": [
    {
     "data": {
      "text/plain": "                           Concatenated Data (clean)  \\\n0  [hardship, case, fund, safety, net, selfemploy...   \n1  [state, support, tourism, access, financeas, t...   \n2  [bank, guarantees, smes, oneperson, enterprise...   \n3  [emergency, measures, relating, shorttime, wor...   \n4  [airbus, agreement, making, unworked, hours, p...   \n\n                                         Category  \\\n0        Income protection beyond short-time work   \n1            Supporting businesses to stay afloat   \n2            Supporting businesses to stay afloat   \n3             Employment protection and retention   \n4  Protection of workers, adaptation of workplace   \n\n                                         Subcategory  Type of measure  \\\n0  Extensions of  income support to workers not c...                0   \n1                                  Access to finance                0   \n2                                  Access to finance                0   \n3  Income support for people in employment (e.g. ...                0   \n4      Changes of working hours or work arrangements                2   \n\n                                       Target groups  \n0  One person or microenterprises|Self-employed|S...  \n1              SMEs|Sector specific set of companies  \n2                One person or microenterprises|SMEs  \n3  Employees in standard employment|Other groups ...  \n4  Employees in standard employment|Larger corpor...  ",
      "text/html": "<div>\n<style scoped>\n    .dataframe tbody tr th:only-of-type {\n        vertical-align: middle;\n    }\n\n    .dataframe tbody tr th {\n        vertical-align: top;\n    }\n\n    .dataframe thead th {\n        text-align: right;\n    }\n</style>\n<table border=\"1\" class=\"dataframe\">\n  <thead>\n    <tr style=\"text-align: right;\">\n      <th></th>\n      <th>Concatenated Data (clean)</th>\n      <th>Category</th>\n      <th>Subcategory</th>\n      <th>Type of measure</th>\n      <th>Target groups</th>\n    </tr>\n  </thead>\n  <tbody>\n    <tr>\n      <th>0</th>\n      <td>[hardship, case, fund, safety, net, selfemploy...</td>\n      <td>Income protection beyond short-time work</td>\n      <td>Extensions of  income support to workers not c...</td>\n      <td>0</td>\n      <td>One person or microenterprises|Self-employed|S...</td>\n    </tr>\n    <tr>\n      <th>1</th>\n      <td>[state, support, tourism, access, financeas, t...</td>\n      <td>Supporting businesses to stay afloat</td>\n      <td>Access to finance</td>\n      <td>0</td>\n      <td>SMEs|Sector specific set of companies</td>\n    </tr>\n    <tr>\n      <th>2</th>\n      <td>[bank, guarantees, smes, oneperson, enterprise...</td>\n      <td>Supporting businesses to stay afloat</td>\n      <td>Access to finance</td>\n      <td>0</td>\n      <td>One person or microenterprises|SMEs</td>\n    </tr>\n    <tr>\n      <th>3</th>\n      <td>[emergency, measures, relating, shorttime, wor...</td>\n      <td>Employment protection and retention</td>\n      <td>Income support for people in employment (e.g. ...</td>\n      <td>0</td>\n      <td>Employees in standard employment|Other groups ...</td>\n    </tr>\n    <tr>\n      <th>4</th>\n      <td>[airbus, agreement, making, unworked, hours, p...</td>\n      <td>Protection of workers, adaptation of workplace</td>\n      <td>Changes of working hours or work arrangements</td>\n      <td>2</td>\n      <td>Employees in standard employment|Larger corpor...</td>\n    </tr>\n  </tbody>\n</table>\n</div>"
     },
     "execution_count": 161,
     "metadata": {},
     "output_type": "execute_result"
    }
   ],
   "source": [
    "df1.head()"
   ],
   "metadata": {
    "collapsed": false,
    "pycharm": {
     "name": "#%%\n"
    }
   }
  },
  {
   "cell_type": "markdown",
   "source": [
    "## Category"
   ],
   "metadata": {
    "collapsed": false,
    "pycharm": {
     "name": "#%% md\n"
    }
   }
  },
  {
   "cell_type": "code",
   "execution_count": 162,
   "outputs": [
    {
     "data": {
      "text/plain": "Supporting businesses to stay afloat                               282\nIncome protection beyond short-time work                           129\nProtection of workers, adaptation of workplace                     112\nPromoting the economic, labour market and social recovery          105\nEnsuring business continuity and support for essential services     90\nEmployment protection and retention                                 88\nMeasures to prevent social hardship                                 72\nSupporting businesses to get back to normal                         33\nReorientation of business activities                                24\nName: Category, dtype: int64"
     },
     "execution_count": 162,
     "metadata": {},
     "output_type": "execute_result"
    }
   ],
   "source": [
    "# Count column values\n",
    "df1['Category'].value_counts()"
   ],
   "metadata": {
    "collapsed": false,
    "pycharm": {
     "name": "#%%\n"
    }
   }
  },
  {
   "cell_type": "code",
   "execution_count": 163,
   "outputs": [
    {
     "data": {
      "text/plain": "Concatenated Data (clean)    0\nCategory                     0\nSubcategory                  0\nType of measure              0\nTarget groups                0\ndtype: int64"
     },
     "execution_count": 163,
     "metadata": {},
     "output_type": "execute_result"
    }
   ],
   "source": [
    "# Sum of NaN values\n",
    "df1.isna().sum()"
   ],
   "metadata": {
    "collapsed": false,
    "pycharm": {
     "name": "#%%\n"
    }
   }
  },
  {
   "cell_type": "code",
   "execution_count": 164,
   "outputs": [],
   "source": [
    "# Replace values with numbers\n",
    "df1.replace(\n",
    "    to_replace={\"Category\": {\n",
    "        'Supporting businesses to stay afloat': 0,\n",
    "        'Other': 1,\n",
    "        'Income protection beyond short-time work': 2,\n",
    "        'Protection of workers, adaptation of workplace': 3,\n",
    "        'Promoting the economic, labour market and social recovery': 4,\n",
    "        'Ensuring business continuity and support for essential services': 5,\n",
    "        'Employment protection and retention': 6,\n",
    "        'Measures to prevent social hardship': 7,\n",
    "        'Supporting businesses to get back to normal': 8,\n",
    "        'Reorientation of business activities': 9\n",
    "    }}, inplace=True)"
   ],
   "metadata": {
    "collapsed": false,
    "pycharm": {
     "name": "#%%\n"
    }
   }
  },
  {
   "cell_type": "code",
   "execution_count": 165,
   "outputs": [
    {
     "data": {
      "text/plain": "                           Concatenated Data (clean)  Category  \\\n0  [hardship, case, fund, safety, net, selfemploy...         2   \n1  [state, support, tourism, access, financeas, t...         0   \n2  [bank, guarantees, smes, oneperson, enterprise...         0   \n3  [emergency, measures, relating, shorttime, wor...         6   \n4  [airbus, agreement, making, unworked, hours, p...         3   \n\n                                         Subcategory  Type of measure  \\\n0  Extensions of  income support to workers not c...                0   \n1                                  Access to finance                0   \n2                                  Access to finance                0   \n3  Income support for people in employment (e.g. ...                0   \n4      Changes of working hours or work arrangements                2   \n\n                                       Target groups  \n0  One person or microenterprises|Self-employed|S...  \n1              SMEs|Sector specific set of companies  \n2                One person or microenterprises|SMEs  \n3  Employees in standard employment|Other groups ...  \n4  Employees in standard employment|Larger corpor...  ",
      "text/html": "<div>\n<style scoped>\n    .dataframe tbody tr th:only-of-type {\n        vertical-align: middle;\n    }\n\n    .dataframe tbody tr th {\n        vertical-align: top;\n    }\n\n    .dataframe thead th {\n        text-align: right;\n    }\n</style>\n<table border=\"1\" class=\"dataframe\">\n  <thead>\n    <tr style=\"text-align: right;\">\n      <th></th>\n      <th>Concatenated Data (clean)</th>\n      <th>Category</th>\n      <th>Subcategory</th>\n      <th>Type of measure</th>\n      <th>Target groups</th>\n    </tr>\n  </thead>\n  <tbody>\n    <tr>\n      <th>0</th>\n      <td>[hardship, case, fund, safety, net, selfemploy...</td>\n      <td>2</td>\n      <td>Extensions of  income support to workers not c...</td>\n      <td>0</td>\n      <td>One person or microenterprises|Self-employed|S...</td>\n    </tr>\n    <tr>\n      <th>1</th>\n      <td>[state, support, tourism, access, financeas, t...</td>\n      <td>0</td>\n      <td>Access to finance</td>\n      <td>0</td>\n      <td>SMEs|Sector specific set of companies</td>\n    </tr>\n    <tr>\n      <th>2</th>\n      <td>[bank, guarantees, smes, oneperson, enterprise...</td>\n      <td>0</td>\n      <td>Access to finance</td>\n      <td>0</td>\n      <td>One person or microenterprises|SMEs</td>\n    </tr>\n    <tr>\n      <th>3</th>\n      <td>[emergency, measures, relating, shorttime, wor...</td>\n      <td>6</td>\n      <td>Income support for people in employment (e.g. ...</td>\n      <td>0</td>\n      <td>Employees in standard employment|Other groups ...</td>\n    </tr>\n    <tr>\n      <th>4</th>\n      <td>[airbus, agreement, making, unworked, hours, p...</td>\n      <td>3</td>\n      <td>Changes of working hours or work arrangements</td>\n      <td>2</td>\n      <td>Employees in standard employment|Larger corpor...</td>\n    </tr>\n  </tbody>\n</table>\n</div>"
     },
     "execution_count": 165,
     "metadata": {},
     "output_type": "execute_result"
    }
   ],
   "source": [
    "df1.head()"
   ],
   "metadata": {
    "collapsed": false,
    "pycharm": {
     "name": "#%%\n"
    }
   }
  },
  {
   "cell_type": "markdown",
   "source": [
    "## Subcategory\n"
   ],
   "metadata": {
    "collapsed": false,
    "pycharm": {
     "name": "#%% md\n"
    }
   }
  },
  {
   "cell_type": "code",
   "execution_count": 166,
   "outputs": [],
   "source": [
    "df1.replace(\n",
    "    to_replace={\"Subcategory\": {\n",
    "        'Access to finance': 0,\n",
    "         'Access to healthcare': 1,\n",
    "         'Active labour market policies, incl. subsidised job creation': 2,\n",
    "         'Change of production/innovation': 3,\n",
    "         'Change of work arrangements (working time, rota schemes)': 4,\n",
    "         'Changes in work organisation': 5,\n",
    "         'Changes of management approach': 6,\n",
    "         'Changes of working hours or work arrangements': 7,\n",
    "         'Creation of platforms for businesses aimed at customer': 8,\n",
    "         'Deferral of payments or liabilities': 9,\n",
    "         'Direct subsidies (full or partial)': 10,\n",
    "         'Enhancing employability and training': 11,\n",
    "         'Extensions of  income support to workers not covered by any kind of protection scheme': 12,\n",
    "         'Flexibilisation and security': 13,\n",
    "         'Income support for people in employment (e.g. short-time work)': 14,\n",
    "         'Income support for unemployed': 15,\n",
    "         'Keeping a safe home': 16,\n",
    "         'Matching / networking': 17,\n",
    "         'Measures to support a gradual relaunch of work': 18,\n",
    "         'Mobilisation of a larger workforce': 19,\n",
    "         'Occupational health and safety': 20,\n",
    "         'Other': 21,\n",
    "         'Paid sick leave': 22,\n",
    "         'Preventing over-indebtedness': 23,\n",
    "         'Protection of vulnerable groups (beyond employment support)': 24,\n",
    "         'Provision of services in kind (e.g. food vouchers)': 25,\n",
    "         'Remuneration and rewards for workers in essential services': 26,\n",
    "         'Rescue procedures in case of insolvency or adaptation of insolvency regulation': 26,\n",
    "         'Smoothing frictions or reallocation of workers': 27,\n",
    "         'Support for parents and carers (financial or in kind)': 28,\n",
    "         'Support for spending, stimulus packages': 29,\n",
    "         'Teleworking arrangements, remote working': 30,\n",
    "         'Transfer or redeployment of workers ':  31,\n",
    "         'Wage flexibility ': 32,\n",
    "         'Well-being of workers': 33,\n",
    "         'Working time and working time flexibility': 34\n",
    "    }}, inplace=True )"
   ],
   "metadata": {
    "collapsed": false,
    "pycharm": {
     "name": "#%%\n"
    }
   }
  },
  {
   "cell_type": "code",
   "execution_count": 167,
   "outputs": [
    {
     "data": {
      "text/plain": "                           Concatenated Data (clean)  Category  Subcategory  \\\n0  [hardship, case, fund, safety, net, selfemploy...         2           12   \n1  [state, support, tourism, access, financeas, t...         0            0   \n2  [bank, guarantees, smes, oneperson, enterprise...         0            0   \n3  [emergency, measures, relating, shorttime, wor...         6           14   \n4  [airbus, agreement, making, unworked, hours, p...         3            7   \n\n   Type of measure                                      Target groups  \n0                0  One person or microenterprises|Self-employed|S...  \n1                0              SMEs|Sector specific set of companies  \n2                0                One person or microenterprises|SMEs  \n3                0  Employees in standard employment|Other groups ...  \n4                2  Employees in standard employment|Larger corpor...  ",
      "text/html": "<div>\n<style scoped>\n    .dataframe tbody tr th:only-of-type {\n        vertical-align: middle;\n    }\n\n    .dataframe tbody tr th {\n        vertical-align: top;\n    }\n\n    .dataframe thead th {\n        text-align: right;\n    }\n</style>\n<table border=\"1\" class=\"dataframe\">\n  <thead>\n    <tr style=\"text-align: right;\">\n      <th></th>\n      <th>Concatenated Data (clean)</th>\n      <th>Category</th>\n      <th>Subcategory</th>\n      <th>Type of measure</th>\n      <th>Target groups</th>\n    </tr>\n  </thead>\n  <tbody>\n    <tr>\n      <th>0</th>\n      <td>[hardship, case, fund, safety, net, selfemploy...</td>\n      <td>2</td>\n      <td>12</td>\n      <td>0</td>\n      <td>One person or microenterprises|Self-employed|S...</td>\n    </tr>\n    <tr>\n      <th>1</th>\n      <td>[state, support, tourism, access, financeas, t...</td>\n      <td>0</td>\n      <td>0</td>\n      <td>0</td>\n      <td>SMEs|Sector specific set of companies</td>\n    </tr>\n    <tr>\n      <th>2</th>\n      <td>[bank, guarantees, smes, oneperson, enterprise...</td>\n      <td>0</td>\n      <td>0</td>\n      <td>0</td>\n      <td>One person or microenterprises|SMEs</td>\n    </tr>\n    <tr>\n      <th>3</th>\n      <td>[emergency, measures, relating, shorttime, wor...</td>\n      <td>6</td>\n      <td>14</td>\n      <td>0</td>\n      <td>Employees in standard employment|Other groups ...</td>\n    </tr>\n    <tr>\n      <th>4</th>\n      <td>[airbus, agreement, making, unworked, hours, p...</td>\n      <td>3</td>\n      <td>7</td>\n      <td>2</td>\n      <td>Employees in standard employment|Larger corpor...</td>\n    </tr>\n  </tbody>\n</table>\n</div>"
     },
     "execution_count": 167,
     "metadata": {},
     "output_type": "execute_result"
    }
   ],
   "source": [
    "df1.head()"
   ],
   "metadata": {
    "collapsed": false,
    "pycharm": {
     "name": "#%%\n"
    }
   }
  },
  {
   "cell_type": "markdown",
   "source": [
    "## Target groups (Subclasses)"
   ],
   "metadata": {
    "collapsed": false,
    "pycharm": {
     "name": "#%% md\n"
    }
   }
  },
  {
   "cell_type": "code",
   "execution_count": 168,
   "outputs": [
    {
     "data": {
      "text/plain": "                                                                                                         238\nEmployees in standard employment                                                                          86\nSector specific set of companies                                                                          85\nSelf-employed                                                                                             31\nUnemployed                                                                                                28\n                                                                                                        ... \nMigrants|Older people in employment (aged 55+)|Other groups of workers|Youth (18-25) in employment         1\nOne person or microenterprises|Other businesses|Sector specific set of companies|Solo-self-employed        1\nOne person or microenterprises|SMEs|Sector specific set of companies|Self-employed|Solo-self-employed      1\nDisabled|Older citizens|Other groups of workers|The COVID-19 risk group|Unemployed                         1\nOlder citizens                                                                                             1\nName: Target groups, Length: 203, dtype: int64"
     },
     "execution_count": 168,
     "metadata": {},
     "output_type": "execute_result"
    }
   ],
   "source": [
    "# Count column values\n",
    "df1['Target groups'].value_counts()"
   ],
   "metadata": {
    "collapsed": false,
    "pycharm": {
     "name": "#%%\n"
    }
   }
  },
  {
   "cell_type": "code",
   "execution_count": 169,
   "outputs": [
    {
     "data": {
      "text/plain": "                           Concatenated Data (clean)  Category  Subcategory  \\\n0  [hardship, case, fund, safety, net, selfemploy...         2           12   \n1  [state, support, tourism, access, financeas, t...         0            0   \n2  [bank, guarantees, smes, oneperson, enterprise...         0            0   \n3  [emergency, measures, relating, shorttime, wor...         6           14   \n4  [airbus, agreement, making, unworked, hours, p...         3            7   \n\n   Type of measure                                      Target groups  \\\n0                0  One person or microenterprises|Self-employed|S...   \n1                0              SMEs|Sector specific set of companies   \n2                0                One person or microenterprises|SMEs   \n3                0  Employees in standard employment|Other groups ...   \n4                2  Employees in standard employment|Larger corpor...   \n\n   One person or microenterprises|Self-employed|Solo-self-employed  \\\n0                                                  1                 \n1                                                  0                 \n2                                                  0                 \n3                                                  0                 \n4                                                  0                 \n\n   SMEs|Sector specific set of companies  One person or microenterprises|SMEs  \\\n0                                      0                                    0   \n1                                      1                                    0   \n2                                      0                                    1   \n3                                      0                                    0   \n4                                      0                                    0   \n\n   Employees in standard employment|Other groups of workers  \\\n0                                                  0          \n1                                                  0          \n2                                                  0          \n3                                                  1          \n4                                                  0          \n\n   Employees in standard employment|Larger corporations  ...  \\\n0                                                  0     ...   \n1                                                  0     ...   \n2                                                  0     ...   \n3                                                  0     ...   \n4                                                  1     ...   \n\n   Companies providing essential services|Employees in standard employment|Workers in essential services  \\\n0                                                  0                                                       \n1                                                  0                                                       \n2                                                  0                                                       \n3                                                  0                                                       \n4                                                  0                                                       \n\n   Employees in standard employment|One person or microenterprises|SMEs  \\\n0                                                  0                      \n1                                                  0                      \n2                                                  0                      \n3                                                  0                      \n4                                                  0                      \n\n   Employees in standard employment|Larger corporations|Other businesses  \\\n0                                                  0                       \n1                                                  0                       \n2                                                  0                       \n3                                                  0                       \n4                                                  0                       \n\n   Children (minors)|Disabled|Older citizens|Parents|SMEs|Single parents|Single parents in employment|The COVID-19 risk group|Workers in care facilities|Workers in essential services  \\\n0                                                  0                                                                                                                                     \n1                                                  0                                                                                                                                     \n2                                                  0                                                                                                                                     \n3                                                  0                                                                                                                                     \n4                                                  0                                                                                                                                     \n\n   Employees in standard employment|Workers in care facilities|Workers in non-standard forms of employment  \\\n0                                                  0                                                         \n1                                                  0                                                         \n2                                                  0                                                         \n3                                                  0                                                         \n4                                                  0                                                         \n\n   Companies providing essential services|Workers in essential services  \\\n0                                                  0                      \n1                                                  0                      \n2                                                  0                      \n3                                                  0                      \n4                                                  0                      \n\n   Contractors of a company  Other businesses|Unemployed  \\\n0                         0                            0   \n1                         0                            0   \n2                         0                            0   \n3                         0                            0   \n4                         0                            0   \n\n   Seasonal workers|Workers in non-standard forms of employment  \\\n0                                                  0              \n1                                                  0              \n2                                                  0              \n3                                                  0              \n4                                                  0              \n\n   Employees in standard employment|Particular professions  \n0                                                  0        \n1                                                  0        \n2                                                  0        \n3                                                  0        \n4                                                  0        \n\n[5 rows x 208 columns]",
      "text/html": "<div>\n<style scoped>\n    .dataframe tbody tr th:only-of-type {\n        vertical-align: middle;\n    }\n\n    .dataframe tbody tr th {\n        vertical-align: top;\n    }\n\n    .dataframe thead th {\n        text-align: right;\n    }\n</style>\n<table border=\"1\" class=\"dataframe\">\n  <thead>\n    <tr style=\"text-align: right;\">\n      <th></th>\n      <th>Concatenated Data (clean)</th>\n      <th>Category</th>\n      <th>Subcategory</th>\n      <th>Type of measure</th>\n      <th>Target groups</th>\n      <th>One person or microenterprises|Self-employed|Solo-self-employed</th>\n      <th>SMEs|Sector specific set of companies</th>\n      <th>One person or microenterprises|SMEs</th>\n      <th>Employees in standard employment|Other groups of workers</th>\n      <th>Employees in standard employment|Larger corporations</th>\n      <th>...</th>\n      <th>Companies providing essential services|Employees in standard employment|Workers in essential services</th>\n      <th>Employees in standard employment|One person or microenterprises|SMEs</th>\n      <th>Employees in standard employment|Larger corporations|Other businesses</th>\n      <th>Children (minors)|Disabled|Older citizens|Parents|SMEs|Single parents|Single parents in employment|The COVID-19 risk group|Workers in care facilities|Workers in essential services</th>\n      <th>Employees in standard employment|Workers in care facilities|Workers in non-standard forms of employment</th>\n      <th>Companies providing essential services|Workers in essential services</th>\n      <th>Contractors of a company</th>\n      <th>Other businesses|Unemployed</th>\n      <th>Seasonal workers|Workers in non-standard forms of employment</th>\n      <th>Employees in standard employment|Particular professions</th>\n    </tr>\n  </thead>\n  <tbody>\n    <tr>\n      <th>0</th>\n      <td>[hardship, case, fund, safety, net, selfemploy...</td>\n      <td>2</td>\n      <td>12</td>\n      <td>0</td>\n      <td>One person or microenterprises|Self-employed|S...</td>\n      <td>1</td>\n      <td>0</td>\n      <td>0</td>\n      <td>0</td>\n      <td>0</td>\n      <td>...</td>\n      <td>0</td>\n      <td>0</td>\n      <td>0</td>\n      <td>0</td>\n      <td>0</td>\n      <td>0</td>\n      <td>0</td>\n      <td>0</td>\n      <td>0</td>\n      <td>0</td>\n    </tr>\n    <tr>\n      <th>1</th>\n      <td>[state, support, tourism, access, financeas, t...</td>\n      <td>0</td>\n      <td>0</td>\n      <td>0</td>\n      <td>SMEs|Sector specific set of companies</td>\n      <td>0</td>\n      <td>1</td>\n      <td>0</td>\n      <td>0</td>\n      <td>0</td>\n      <td>...</td>\n      <td>0</td>\n      <td>0</td>\n      <td>0</td>\n      <td>0</td>\n      <td>0</td>\n      <td>0</td>\n      <td>0</td>\n      <td>0</td>\n      <td>0</td>\n      <td>0</td>\n    </tr>\n    <tr>\n      <th>2</th>\n      <td>[bank, guarantees, smes, oneperson, enterprise...</td>\n      <td>0</td>\n      <td>0</td>\n      <td>0</td>\n      <td>One person or microenterprises|SMEs</td>\n      <td>0</td>\n      <td>0</td>\n      <td>1</td>\n      <td>0</td>\n      <td>0</td>\n      <td>...</td>\n      <td>0</td>\n      <td>0</td>\n      <td>0</td>\n      <td>0</td>\n      <td>0</td>\n      <td>0</td>\n      <td>0</td>\n      <td>0</td>\n      <td>0</td>\n      <td>0</td>\n    </tr>\n    <tr>\n      <th>3</th>\n      <td>[emergency, measures, relating, shorttime, wor...</td>\n      <td>6</td>\n      <td>14</td>\n      <td>0</td>\n      <td>Employees in standard employment|Other groups ...</td>\n      <td>0</td>\n      <td>0</td>\n      <td>0</td>\n      <td>1</td>\n      <td>0</td>\n      <td>...</td>\n      <td>0</td>\n      <td>0</td>\n      <td>0</td>\n      <td>0</td>\n      <td>0</td>\n      <td>0</td>\n      <td>0</td>\n      <td>0</td>\n      <td>0</td>\n      <td>0</td>\n    </tr>\n    <tr>\n      <th>4</th>\n      <td>[airbus, agreement, making, unworked, hours, p...</td>\n      <td>3</td>\n      <td>7</td>\n      <td>2</td>\n      <td>Employees in standard employment|Larger corpor...</td>\n      <td>0</td>\n      <td>0</td>\n      <td>0</td>\n      <td>0</td>\n      <td>1</td>\n      <td>...</td>\n      <td>0</td>\n      <td>0</td>\n      <td>0</td>\n      <td>0</td>\n      <td>0</td>\n      <td>0</td>\n      <td>0</td>\n      <td>0</td>\n      <td>0</td>\n      <td>0</td>\n    </tr>\n  </tbody>\n</table>\n<p>5 rows × 208 columns</p>\n</div>"
     },
     "execution_count": 169,
     "metadata": {},
     "output_type": "execute_result"
    }
   ],
   "source": [
    "df2 = multi_label_column_to_binary_columns(df1, 'Target groups')\n",
    "df2.head()\n"
   ],
   "metadata": {
    "collapsed": false,
    "pycharm": {
     "name": "#%%\n"
    }
   }
  },
  {
   "cell_type": "markdown",
   "source": [
    "## Target groups (Classes)"
   ],
   "metadata": {
    "collapsed": false,
    "pycharm": {
     "name": "#%% md\n"
    }
   }
  },
  {
   "cell_type": "code",
   "execution_count": 170,
   "outputs": [],
   "source": [
    "target_groups_values = df2['Target groups']\n",
    "\n",
    "Businesses = ['Companies providing essential services','Contractors of a company',\n",
    "              'Larger corporations', 'One person or microenterprises','Other businesses',\n",
    "              'SMEs','Sector specific set of companies', 'Solo-self-employed','Start-ups']\n",
    "\n",
    "Citizens = ['Children (minors)','Disabled','Migrants','Older citizens',\n",
    "            'Other groups of citizens','Parents', 'People in care facilities','Refugees',\n",
    "            'Single parents','The COVID-19 risk group','Women', 'Youth (18-25)']\n",
    "\n",
    "Workers = ['Cross-border commuters','Disabled workers','Employees in standard employment',\n",
    "           'Female workers', 'Migrants in employment','Older people in employment (aged 55+)',\n",
    "           'Other groups of workers', 'Parents in employment','Particular professions',\n",
    "           'Platform workers','Posted workers','Refugees in employment','Seasonal workers',\n",
    "           'Self-employed','Single parents in employment','The COVID-19 risk group at the workplace',\n",
    "           'Undeclared workers','Unemployed','Workers in care facilities',\n",
    "           'Workers in essential services','Workers in non-standard forms of employment',\n",
    "           'Youth (18-25) in employment']"
   ],
   "metadata": {
    "collapsed": false,
    "pycharm": {
     "name": "#%%\n"
    }
   }
  },
  {
   "cell_type": "code",
   "execution_count": 171,
   "outputs": [],
   "source": [
    "df2['Businesses'] = target_groups_values.str.contains('|'.join(Businesses))\n",
    "df2['Citizens'] = target_groups_values.str.contains('|'.join(Workers))\n",
    "df2['Workers'] = target_groups_values.str.contains('|'.join(Workers))\n",
    "df2.replace({True: 1, False: 0}, inplace=True)"
   ],
   "metadata": {
    "collapsed": false,
    "pycharm": {
     "name": "#%%\n"
    }
   }
  },
  {
   "cell_type": "code",
   "execution_count": 174,
   "outputs": [
    {
     "data": {
      "text/plain": "                           Concatenated Data (clean)  Category  Subcategory  \\\n0  [hardship, case, fund, safety, net, selfemploy...         2           12   \n1  [state, support, tourism, access, financeas, t...         0            0   \n2  [bank, guarantees, smes, oneperson, enterprise...         0            0   \n3  [emergency, measures, relating, shorttime, wor...         6           14   \n4  [airbus, agreement, making, unworked, hours, p...         3            7   \n\n   Type of measure                                      Target groups  \\\n0                0  One person or microenterprises|Self-employed|S...   \n1                0              SMEs|Sector specific set of companies   \n2                0                One person or microenterprises|SMEs   \n3                0  Employees in standard employment|Other groups ...   \n4                2  Employees in standard employment|Larger corpor...   \n\n   One person or microenterprises|Self-employed|Solo-self-employed  \\\n0                                                  1                 \n1                                                  0                 \n2                                                  0                 \n3                                                  0                 \n4                                                  0                 \n\n   SMEs|Sector specific set of companies  One person or microenterprises|SMEs  \\\n0                                      0                                    0   \n1                                      1                                    0   \n2                                      0                                    1   \n3                                      0                                    0   \n4                                      0                                    0   \n\n   Employees in standard employment|Other groups of workers  \\\n0                                                  0          \n1                                                  0          \n2                                                  0          \n3                                                  1          \n4                                                  0          \n\n   Employees in standard employment|Larger corporations  ...  \\\n0                                                  0     ...   \n1                                                  0     ...   \n2                                                  0     ...   \n3                                                  0     ...   \n4                                                  1     ...   \n\n   Children (minors)|Disabled|Older citizens|Parents|SMEs|Single parents|Single parents in employment|The COVID-19 risk group|Workers in care facilities|Workers in essential services  \\\n0                                                  0                                                                                                                                     \n1                                                  0                                                                                                                                     \n2                                                  0                                                                                                                                     \n3                                                  0                                                                                                                                     \n4                                                  0                                                                                                                                     \n\n   Employees in standard employment|Workers in care facilities|Workers in non-standard forms of employment  \\\n0                                                  0                                                         \n1                                                  0                                                         \n2                                                  0                                                         \n3                                                  0                                                         \n4                                                  0                                                         \n\n   Companies providing essential services|Workers in essential services  \\\n0                                                  0                      \n1                                                  0                      \n2                                                  0                      \n3                                                  0                      \n4                                                  0                      \n\n   Contractors of a company  Other businesses|Unemployed  \\\n0                         0                            0   \n1                         0                            0   \n2                         0                            0   \n3                         0                            0   \n4                         0                            0   \n\n   Seasonal workers|Workers in non-standard forms of employment  \\\n0                                                  0              \n1                                                  0              \n2                                                  0              \n3                                                  0              \n4                                                  0              \n\n   Employees in standard employment|Particular professions  Businesses  \\\n0                                                  0                 1   \n1                                                  0                 1   \n2                                                  0                 1   \n3                                                  0                 0   \n4                                                  0                 1   \n\n   Citizens  Workers  \n0         1        1  \n1         0        0  \n2         0        0  \n3         1        1  \n4         1        1  \n\n[5 rows x 211 columns]",
      "text/html": "<div>\n<style scoped>\n    .dataframe tbody tr th:only-of-type {\n        vertical-align: middle;\n    }\n\n    .dataframe tbody tr th {\n        vertical-align: top;\n    }\n\n    .dataframe thead th {\n        text-align: right;\n    }\n</style>\n<table border=\"1\" class=\"dataframe\">\n  <thead>\n    <tr style=\"text-align: right;\">\n      <th></th>\n      <th>Concatenated Data (clean)</th>\n      <th>Category</th>\n      <th>Subcategory</th>\n      <th>Type of measure</th>\n      <th>Target groups</th>\n      <th>One person or microenterprises|Self-employed|Solo-self-employed</th>\n      <th>SMEs|Sector specific set of companies</th>\n      <th>One person or microenterprises|SMEs</th>\n      <th>Employees in standard employment|Other groups of workers</th>\n      <th>Employees in standard employment|Larger corporations</th>\n      <th>...</th>\n      <th>Children (minors)|Disabled|Older citizens|Parents|SMEs|Single parents|Single parents in employment|The COVID-19 risk group|Workers in care facilities|Workers in essential services</th>\n      <th>Employees in standard employment|Workers in care facilities|Workers in non-standard forms of employment</th>\n      <th>Companies providing essential services|Workers in essential services</th>\n      <th>Contractors of a company</th>\n      <th>Other businesses|Unemployed</th>\n      <th>Seasonal workers|Workers in non-standard forms of employment</th>\n      <th>Employees in standard employment|Particular professions</th>\n      <th>Businesses</th>\n      <th>Citizens</th>\n      <th>Workers</th>\n    </tr>\n  </thead>\n  <tbody>\n    <tr>\n      <th>0</th>\n      <td>[hardship, case, fund, safety, net, selfemploy...</td>\n      <td>2</td>\n      <td>12</td>\n      <td>0</td>\n      <td>One person or microenterprises|Self-employed|S...</td>\n      <td>1</td>\n      <td>0</td>\n      <td>0</td>\n      <td>0</td>\n      <td>0</td>\n      <td>...</td>\n      <td>0</td>\n      <td>0</td>\n      <td>0</td>\n      <td>0</td>\n      <td>0</td>\n      <td>0</td>\n      <td>0</td>\n      <td>1</td>\n      <td>1</td>\n      <td>1</td>\n    </tr>\n    <tr>\n      <th>1</th>\n      <td>[state, support, tourism, access, financeas, t...</td>\n      <td>0</td>\n      <td>0</td>\n      <td>0</td>\n      <td>SMEs|Sector specific set of companies</td>\n      <td>0</td>\n      <td>1</td>\n      <td>0</td>\n      <td>0</td>\n      <td>0</td>\n      <td>...</td>\n      <td>0</td>\n      <td>0</td>\n      <td>0</td>\n      <td>0</td>\n      <td>0</td>\n      <td>0</td>\n      <td>0</td>\n      <td>1</td>\n      <td>0</td>\n      <td>0</td>\n    </tr>\n    <tr>\n      <th>2</th>\n      <td>[bank, guarantees, smes, oneperson, enterprise...</td>\n      <td>0</td>\n      <td>0</td>\n      <td>0</td>\n      <td>One person or microenterprises|SMEs</td>\n      <td>0</td>\n      <td>0</td>\n      <td>1</td>\n      <td>0</td>\n      <td>0</td>\n      <td>...</td>\n      <td>0</td>\n      <td>0</td>\n      <td>0</td>\n      <td>0</td>\n      <td>0</td>\n      <td>0</td>\n      <td>0</td>\n      <td>1</td>\n      <td>0</td>\n      <td>0</td>\n    </tr>\n    <tr>\n      <th>3</th>\n      <td>[emergency, measures, relating, shorttime, wor...</td>\n      <td>6</td>\n      <td>14</td>\n      <td>0</td>\n      <td>Employees in standard employment|Other groups ...</td>\n      <td>0</td>\n      <td>0</td>\n      <td>0</td>\n      <td>1</td>\n      <td>0</td>\n      <td>...</td>\n      <td>0</td>\n      <td>0</td>\n      <td>0</td>\n      <td>0</td>\n      <td>0</td>\n      <td>0</td>\n      <td>0</td>\n      <td>0</td>\n      <td>1</td>\n      <td>1</td>\n    </tr>\n    <tr>\n      <th>4</th>\n      <td>[airbus, agreement, making, unworked, hours, p...</td>\n      <td>3</td>\n      <td>7</td>\n      <td>2</td>\n      <td>Employees in standard employment|Larger corpor...</td>\n      <td>0</td>\n      <td>0</td>\n      <td>0</td>\n      <td>0</td>\n      <td>1</td>\n      <td>...</td>\n      <td>0</td>\n      <td>0</td>\n      <td>0</td>\n      <td>0</td>\n      <td>0</td>\n      <td>0</td>\n      <td>0</td>\n      <td>1</td>\n      <td>1</td>\n      <td>1</td>\n    </tr>\n  </tbody>\n</table>\n<p>5 rows × 211 columns</p>\n</div>"
     },
     "execution_count": 174,
     "metadata": {},
     "output_type": "execute_result"
    }
   ],
   "source": [
    "df2.head()"
   ],
   "metadata": {
    "collapsed": false,
    "pycharm": {
     "name": "#%%\n"
    }
   }
  },
  {
   "cell_type": "code",
   "execution_count": 176,
   "outputs": [],
   "source": [
    "#df2.to_pickle(DATA_FOLDER / \"pwdb/pickle/df_columns_labels.pkl\")"
   ],
   "metadata": {
    "collapsed": false,
    "pycharm": {
     "name": "#%%\n"
    }
   }
  },
  {
   "cell_type": "code",
   "execution_count": 173,
   "outputs": [],
   "source": [],
   "metadata": {
    "collapsed": false,
    "pycharm": {
     "name": "#%%\n"
    }
   }
  }
 ],
 "metadata": {
  "kernelspec": {
   "display_name": "Python 3",
   "language": "python",
   "name": "python3"
  },
  "language_info": {
   "codemirror_mode": {
    "name": "ipython",
    "version": 2
   },
   "file_extension": ".py",
   "mimetype": "text/x-python",
   "name": "python",
   "nbconvert_exporter": "python",
   "pygments_lexer": "ipython2",
   "version": "2.7.6"
  }
 },
 "nbformat": 4,
 "nbformat_minor": 0
}