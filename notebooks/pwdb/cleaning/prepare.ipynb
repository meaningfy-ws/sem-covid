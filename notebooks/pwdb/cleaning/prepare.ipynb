{
 "cells": [
  {
   "cell_type": "code",
   "execution_count": 1,
   "outputs": [
    {
     "ename": "ModuleNotFoundError",
     "evalue": "No module named 'jq'",
     "output_type": "error",
     "traceback": [
      "\u001B[0;31m---------------------------------------------------------------------------\u001B[0m",
      "\u001B[0;31mModuleNotFoundError\u001B[0m                       Traceback (most recent call last)",
      "\u001B[0;32m<ipython-input-1-d2ca1755c345>\u001B[0m in \u001B[0;36m<module>\u001B[0;34m\u001B[0m\n\u001B[1;32m     18\u001B[0m \u001B[0;34m\u001B[0m\u001B[0m\n\u001B[1;32m     19\u001B[0m \u001B[0;31m# lightweight and flexible JSON processor\u001B[0m\u001B[0;34m\u001B[0m\u001B[0;34m\u001B[0m\u001B[0;34m\u001B[0m\u001B[0m\n\u001B[0;32m---> 20\u001B[0;31m \u001B[0;32mimport\u001B[0m \u001B[0mjq\u001B[0m\u001B[0;34m\u001B[0m\u001B[0;34m\u001B[0m\u001B[0m\n\u001B[0m\u001B[1;32m     21\u001B[0m \u001B[0;34m\u001B[0m\u001B[0m\n",
      "\u001B[0;31mModuleNotFoundError\u001B[0m: No module named 'jq'"
     ]
    }
   ],
   "source": [
    "# Ignore warnings\n",
    "import warnings\n",
    "warnings.filterwarnings('ignore')\n",
    "\n",
    "import re\n",
    "import string\n",
    "\n",
    "import json\n",
    "import pathlib\n",
    "\n",
    "DATA_FOLDER = pathlib.Path(\"/home/jovyan/work/Dan/data\")\n",
    "JSON_FILE = DATA_FOLDER / \"covid19db.json\"\n",
    "\n",
    "# Data manipulation\n",
    "import pandas as pd\n",
    "\n",
    "from nltk.corpus import stopwords\n",
    "\n",
    "# lightweight and flexible JSON processor\n",
    "import jq"
   ],
   "metadata": {
    "collapsed": false,
    "pycharm": {
     "name": "#%%\n"
    }
   }
  },
  {
   "cell_type": "code",
   "execution_count": 2,
   "outputs": [],
   "source": [
    "with open(JSON_FILE) as file:\n",
    "    content = file.read()\n",
    "    data = json.loads(content)"
   ],
   "metadata": {
    "collapsed": false,
    "pycharm": {
     "name": "#%%\n"
    }
   }
  },
  {
   "cell_type": "code",
   "execution_count": 3,
   "outputs": [],
   "source": [
    "transformation_rules = '''{\n",
    "\"Identifier\": .recordId,\n",
    "\"Title\": .fieldData.title,\n",
    "\"Title (national language)\": .fieldData.title_nationalLanguage,\n",
    "\"Country\": .fieldData.calc_country,\n",
    "\"Start date\": .fieldData.d_startDate,\n",
    "\"End date\": .fieldData.d_endDate,\n",
    "\"Date type\": .fieldData.dateType,\n",
    "\"Type of measure\": .fieldData.calc_type,\n",
    "\"Status of regulation\": .fieldData.statusOfRegulation,\n",
    "\"Category\": .fieldData.calc_minorCategory,\n",
    "\"Subcategory\": .fieldData.calc_subMinorCategory,\n",
    "\"Case added\": .fieldData.calc_creationDay,\n",
    "\"Background information\": .fieldData.descriptionBackgroundInfo,\n",
    "\"Content of measure\": .fieldData.descriptionContentOfMeasure,\n",
    "\"Use of measure\": .fieldData.descriptionUseOfMeasure,\n",
    "\"Actors\": [.portalData.actors[] |  .\"actors::name\" ],\n",
    "\"Target groups\": [.portalData.targetGroups[] | .\"targetGroups::name\"],\n",
    "\"Funding\": [.portalData.funding[] | .\"funding::name\" ],\n",
    "\"Views of social partners\": .fieldData.descriptionInvolvementOfSocialPartners,\n",
    "\"Form of social partner involvement\": .fieldData.socialPartnerform,\n",
    "\"Role of social partners\": .fieldData.socialPartnerrole,\n",
    "\"Is sector specific\": .fieldData.isSector,\n",
    "\"Private or public sector\": .fieldData.sector_privateOrPublic,\n",
    "\"Is occupation specific\": .fieldData.isOccupation,\n",
    "\"Sectors\": [.portalData.sectors[] | .\"sectors::name\" ],\n",
    "\"Occupations\": [.portalData.occupations[] | .],\n",
    "\"Sources\": [.portalData.sources[] | .\"sources::url\" ],\n",
    "}'''\n",
    "\n",
    "jq_transformation_program = (\".[] | \"+str(transformation_rules)).replace(\"\\n\",\"\")\n",
    "transformer = jq.compile(jq_transformation_program)"
   ],
   "metadata": {
    "collapsed": false,
    "pycharm": {
     "name": "#%%\n"
    }
   }
  },
  {
   "cell_type": "code",
   "execution_count": 4,
   "outputs": [],
   "source": [
    "new_data = transformer.input(data).all()\n",
    "df_new = pd.DataFrame.from_records(new_data)"
   ],
   "metadata": {
    "collapsed": false,
    "pycharm": {
     "name": "#%%\n"
    }
   }
  },
  {
   "cell_type": "code",
   "execution_count": 5,
   "outputs": [],
   "source": [
    "def reduce_array_column(df, column, new_column=None):\n",
    "    \"\"\"\n",
    "        assuming that the column contains array objects,\n",
    "        reduces thse arrays to a string of concatenated values\n",
    "        :df: the pandas DataFrame\n",
    "        :column: the column with array values\n",
    "        :new_column: the new column where the concatenated strings are placed;\n",
    "                     If the new_column is None then the original column is replaced\n",
    "    \"\"\"\n",
    "\n",
    "    if new_column:\n",
    "        df[new_column] = df[column].apply( lambda x: \", \".join(sorted(x)) )\n",
    "    else:\n",
    "        df[column] = df[column].apply( lambda x: \", \".join(sorted(x)))\n",
    "    return df"
   ],
   "metadata": {
    "collapsed": false,
    "pycharm": {
     "name": "#%%\n"
    }
   }
  },
  {
   "cell_type": "code",
   "execution_count": 6,
   "outputs": [
    {
     "data": {
      "text/plain": "    Identifier                                              Title  \\\n0           95   Hardship case fund: Safety net for self-employed   \n1           96      State support for tourism - Access to finance   \n2           98  Bank guarantees for SMEs and one-person enterp...   \n3          100  Emergency measures relating to short-time working   \n4          101  Airbus agreement for making up unworked hours ...   \n..         ...                                                ...   \n930       1599                  Taxation measures for enterprises   \n931       1607                                        Winwin-loan   \n932       1608  Support measures for businesses closed since N...   \n933       1609     New loans available to enterprises in Brussels   \n934       1610                 Financial support for teleworkers    \n\n                             Title (national language)      Country  \\\n0    Härtefall-Fonds: Sicherheitnetz für Selbststän...      Austria   \n1            Massnahmenpaket fuer den Tourismus - Bank      Austria   \n2    AWS Überbrückungsfinanzierung/garantie fuer EP...      Austria   \n3    Mesures d'urgence en matière d'activité partielle       France   \n4    un accord chez Airbus pour organiser la récupé...       France   \n..                                                 ...          ...   \n930                     Belastingmaatregelen bedrijven  Netherlands   \n931                                       Winwinlening      Belgium   \n932  Ondersteunende maatregelen voor ondernemingen ...      Belgium   \n933  Nieuwe kredieten beschikbaar voor Brusselse on...      Belgium   \n934         Suport financiar angajatilor din telemunca      Romania   \n\n     Start date    End date   Date type  \\\n0    03/27/2020  04/30/2021   Temporary   \n1    03/06/2020  12/31/2020   Temporary   \n2    03/04/2020              Open ended   \n3    03/27/2020              Open ended   \n4    03/31/2020  12/31/2020   Temporary   \n..          ...         ...         ...   \n930  10/01/2020              Open ended   \n931  10/06/2020              Open ended   \n932  11/02/2020              Open ended   \n933  05/13/2020              Open ended   \n934  01/01/2021               Temporary   \n\n                                 Type of measure  \\\n0    Legislations or other statutory regulations   \n1    Legislations or other statutory regulations   \n2    Legislations or other statutory regulations   \n3    Legislations or other statutory regulations   \n4                Bipartite collective agreements   \n..                                           ...   \n930  Legislations or other statutory regulations   \n931  Legislations or other statutory regulations   \n932  Legislations or other statutory regulations   \n933  Legislations or other statutory regulations   \n934  Legislations or other statutory regulations   \n\n                           Status of regulation  \\\n0                         Entirely new measure    \n1    New aspects included into existing measure   \n2                         Entirely new measure    \n3    New aspects included into existing measure   \n4                         Entirely new measure    \n..                                          ...   \n930  New aspects included into existing measure   \n931  New aspects included into existing measure   \n932                       Entirely new measure    \n933                       Entirely new measure    \n934                       Entirely new measure    \n\n                                           Category  ...  \\\n0          Income protection beyond short-time work  ...   \n1              Supporting businesses to stay afloat  ...   \n2              Supporting businesses to stay afloat  ...   \n3               Employment protection and retention  ...   \n4    Protection of workers, adaptation of workplace  ...   \n..                                              ...  ...   \n930            Supporting businesses to stay afloat  ...   \n931            Supporting businesses to stay afloat  ...   \n932            Supporting businesses to stay afloat  ...   \n933            Supporting businesses to stay afloat  ...   \n934  Protection of workers, adaptation of workplace  ...   \n\n                                           Funding  \\\n0                                 [National funds]   \n1                                 [National funds]   \n2                                 [National funds]   \n3                                 [National funds]   \n4                    [No special funding required]   \n..                                             ...   \n930  [National funds, No special funding required]   \n931                        [Regional funds, Other]   \n932                               [Regional funds]   \n933                               [Regional funds]   \n934                                    [Companies]   \n\n                              Views of social partners  \\\n0           The Federal Economic Chamber was involved.   \n1                  The social partners were consulted.   \n2                                            consulted   \n3                                                        \n4                                                        \n..                                                 ...   \n930  Employer’s organisations and trade unions are ...   \n931  No clear indication of the involvement of the ...   \n932  The involvement of the social partners is not ...   \n933  The involvement of the social partners is not ...   \n934  The exact involvement of social partners is un...   \n\n    Form of social partner involvement Role of social partners  \\\n0                                 None                    None   \n1                                 None                    None   \n2                                 None                    None   \n3                                 None                    None   \n4                                 None                    None   \n..                                 ...                     ...   \n930                               None                    None   \n931                               None                    None   \n932                               None                    None   \n933                               None                    None   \n934                               None                    None   \n\n    Is sector specific Private or public sector Is occupation specific  \\\n0                   No            Not specified                     No   \n1                  Yes            Not specified                     No   \n2                   No            Not specified                     No   \n3                   No            Not specified                     No   \n4                  Yes            Not specified                     No   \n..                 ...                      ...                    ...   \n930                 No            Not specified                     No   \n931                 No      Only private sector                     No   \n932                 No      Only private sector                     No   \n933                Yes      Only private sector                     No   \n934                 No            Not specified                     No   \n\n                                               Sectors Occupations  \\\n0                                                   []          []   \n1    [Accommodation, Food and beverage service acti...          []   \n2                                                   []          []   \n3                                                   []          []   \n4           [Manufacture of other transport equipment]          []   \n..                                                 ...         ...   \n930                                                 []          []   \n931                                                 []          []   \n932                                                 []          []   \n933  [Accommodation, Food and beverage service acti...          []   \n934                                                 []          []   \n\n                                               Sources  \n0    [https://www.wko.at/service/haertefall-fonds-e...  \n1    [https://orf.at/stories/3159574/, https://www....  \n2    [https://www.wko.at/service/coronavirus-ueberb...  \n3    [https://www.legifrance.gouv.fr/affichTexte.do...  \n4    [https://news.industriall-europe.eu/content/do...  \n..                                                 ...  \n930  [https://www.rijksoverheid.nl/onderwerpen/bela...  \n931  [https://www.vlaio.be/nl/subsidies-financierin...  \n932  [http://economie.wallonie.be/content/nouvelles...  \n933  [https://1819.brussels/nl/blog/financeinvestbr...  \n934  [http://legislatie.just.ro/Public/DetaliiDocum...  \n\n[935 rows x 27 columns]",
      "text/html": "<div>\n<style scoped>\n    .dataframe tbody tr th:only-of-type {\n        vertical-align: middle;\n    }\n\n    .dataframe tbody tr th {\n        vertical-align: top;\n    }\n\n    .dataframe thead th {\n        text-align: right;\n    }\n</style>\n<table border=\"1\" class=\"dataframe\">\n  <thead>\n    <tr style=\"text-align: right;\">\n      <th></th>\n      <th>Identifier</th>\n      <th>Title</th>\n      <th>Title (national language)</th>\n      <th>Country</th>\n      <th>Start date</th>\n      <th>End date</th>\n      <th>Date type</th>\n      <th>Type of measure</th>\n      <th>Status of regulation</th>\n      <th>Category</th>\n      <th>...</th>\n      <th>Funding</th>\n      <th>Views of social partners</th>\n      <th>Form of social partner involvement</th>\n      <th>Role of social partners</th>\n      <th>Is sector specific</th>\n      <th>Private or public sector</th>\n      <th>Is occupation specific</th>\n      <th>Sectors</th>\n      <th>Occupations</th>\n      <th>Sources</th>\n    </tr>\n  </thead>\n  <tbody>\n    <tr>\n      <th>0</th>\n      <td>95</td>\n      <td>Hardship case fund: Safety net for self-employed</td>\n      <td>Härtefall-Fonds: Sicherheitnetz für Selbststän...</td>\n      <td>Austria</td>\n      <td>03/27/2020</td>\n      <td>04/30/2021</td>\n      <td>Temporary</td>\n      <td>Legislations or other statutory regulations</td>\n      <td>Entirely new measure</td>\n      <td>Income protection beyond short-time work</td>\n      <td>...</td>\n      <td>[National funds]</td>\n      <td>The Federal Economic Chamber was involved.</td>\n      <td>None</td>\n      <td>None</td>\n      <td>No</td>\n      <td>Not specified</td>\n      <td>No</td>\n      <td>[]</td>\n      <td>[]</td>\n      <td>[https://www.wko.at/service/haertefall-fonds-e...</td>\n    </tr>\n    <tr>\n      <th>1</th>\n      <td>96</td>\n      <td>State support for tourism - Access to finance</td>\n      <td>Massnahmenpaket fuer den Tourismus - Bank</td>\n      <td>Austria</td>\n      <td>03/06/2020</td>\n      <td>12/31/2020</td>\n      <td>Temporary</td>\n      <td>Legislations or other statutory regulations</td>\n      <td>New aspects included into existing measure</td>\n      <td>Supporting businesses to stay afloat</td>\n      <td>...</td>\n      <td>[National funds]</td>\n      <td>The social partners were consulted.</td>\n      <td>None</td>\n      <td>None</td>\n      <td>Yes</td>\n      <td>Not specified</td>\n      <td>No</td>\n      <td>[Accommodation, Food and beverage service acti...</td>\n      <td>[]</td>\n      <td>[https://orf.at/stories/3159574/, https://www....</td>\n    </tr>\n    <tr>\n      <th>2</th>\n      <td>98</td>\n      <td>Bank guarantees for SMEs and one-person enterp...</td>\n      <td>AWS Überbrückungsfinanzierung/garantie fuer EP...</td>\n      <td>Austria</td>\n      <td>03/04/2020</td>\n      <td></td>\n      <td>Open ended</td>\n      <td>Legislations or other statutory regulations</td>\n      <td>Entirely new measure</td>\n      <td>Supporting businesses to stay afloat</td>\n      <td>...</td>\n      <td>[National funds]</td>\n      <td>consulted</td>\n      <td>None</td>\n      <td>None</td>\n      <td>No</td>\n      <td>Not specified</td>\n      <td>No</td>\n      <td>[]</td>\n      <td>[]</td>\n      <td>[https://www.wko.at/service/coronavirus-ueberb...</td>\n    </tr>\n    <tr>\n      <th>3</th>\n      <td>100</td>\n      <td>Emergency measures relating to short-time working</td>\n      <td>Mesures d'urgence en matière d'activité partielle</td>\n      <td>France</td>\n      <td>03/27/2020</td>\n      <td></td>\n      <td>Open ended</td>\n      <td>Legislations or other statutory regulations</td>\n      <td>New aspects included into existing measure</td>\n      <td>Employment protection and retention</td>\n      <td>...</td>\n      <td>[National funds]</td>\n      <td></td>\n      <td>None</td>\n      <td>None</td>\n      <td>No</td>\n      <td>Not specified</td>\n      <td>No</td>\n      <td>[]</td>\n      <td>[]</td>\n      <td>[https://www.legifrance.gouv.fr/affichTexte.do...</td>\n    </tr>\n    <tr>\n      <th>4</th>\n      <td>101</td>\n      <td>Airbus agreement for making up unworked hours ...</td>\n      <td>un accord chez Airbus pour organiser la récupé...</td>\n      <td>France</td>\n      <td>03/31/2020</td>\n      <td>12/31/2020</td>\n      <td>Temporary</td>\n      <td>Bipartite collective agreements</td>\n      <td>Entirely new measure</td>\n      <td>Protection of workers, adaptation of workplace</td>\n      <td>...</td>\n      <td>[No special funding required]</td>\n      <td></td>\n      <td>None</td>\n      <td>None</td>\n      <td>Yes</td>\n      <td>Not specified</td>\n      <td>No</td>\n      <td>[Manufacture of other transport equipment]</td>\n      <td>[]</td>\n      <td>[https://news.industriall-europe.eu/content/do...</td>\n    </tr>\n    <tr>\n      <th>...</th>\n      <td>...</td>\n      <td>...</td>\n      <td>...</td>\n      <td>...</td>\n      <td>...</td>\n      <td>...</td>\n      <td>...</td>\n      <td>...</td>\n      <td>...</td>\n      <td>...</td>\n      <td>...</td>\n      <td>...</td>\n      <td>...</td>\n      <td>...</td>\n      <td>...</td>\n      <td>...</td>\n      <td>...</td>\n      <td>...</td>\n      <td>...</td>\n      <td>...</td>\n      <td>...</td>\n    </tr>\n    <tr>\n      <th>930</th>\n      <td>1599</td>\n      <td>Taxation measures for enterprises</td>\n      <td>Belastingmaatregelen bedrijven</td>\n      <td>Netherlands</td>\n      <td>10/01/2020</td>\n      <td></td>\n      <td>Open ended</td>\n      <td>Legislations or other statutory regulations</td>\n      <td>New aspects included into existing measure</td>\n      <td>Supporting businesses to stay afloat</td>\n      <td>...</td>\n      <td>[National funds, No special funding required]</td>\n      <td>Employer’s organisations and trade unions are ...</td>\n      <td>None</td>\n      <td>None</td>\n      <td>No</td>\n      <td>Not specified</td>\n      <td>No</td>\n      <td>[]</td>\n      <td>[]</td>\n      <td>[https://www.rijksoverheid.nl/onderwerpen/bela...</td>\n    </tr>\n    <tr>\n      <th>931</th>\n      <td>1607</td>\n      <td>Winwin-loan</td>\n      <td>Winwinlening</td>\n      <td>Belgium</td>\n      <td>10/06/2020</td>\n      <td></td>\n      <td>Open ended</td>\n      <td>Legislations or other statutory regulations</td>\n      <td>New aspects included into existing measure</td>\n      <td>Supporting businesses to stay afloat</td>\n      <td>...</td>\n      <td>[Regional funds, Other]</td>\n      <td>No clear indication of the involvement of the ...</td>\n      <td>None</td>\n      <td>None</td>\n      <td>No</td>\n      <td>Only private sector</td>\n      <td>No</td>\n      <td>[]</td>\n      <td>[]</td>\n      <td>[https://www.vlaio.be/nl/subsidies-financierin...</td>\n    </tr>\n    <tr>\n      <th>932</th>\n      <td>1608</td>\n      <td>Support measures for businesses closed since N...</td>\n      <td>Ondersteunende maatregelen voor ondernemingen ...</td>\n      <td>Belgium</td>\n      <td>11/02/2020</td>\n      <td></td>\n      <td>Open ended</td>\n      <td>Legislations or other statutory regulations</td>\n      <td>Entirely new measure</td>\n      <td>Supporting businesses to stay afloat</td>\n      <td>...</td>\n      <td>[Regional funds]</td>\n      <td>The involvement of the social partners is not ...</td>\n      <td>None</td>\n      <td>None</td>\n      <td>No</td>\n      <td>Only private sector</td>\n      <td>No</td>\n      <td>[]</td>\n      <td>[]</td>\n      <td>[http://economie.wallonie.be/content/nouvelles...</td>\n    </tr>\n    <tr>\n      <th>933</th>\n      <td>1609</td>\n      <td>New loans available to enterprises in Brussels</td>\n      <td>Nieuwe kredieten beschikbaar voor Brusselse on...</td>\n      <td>Belgium</td>\n      <td>05/13/2020</td>\n      <td></td>\n      <td>Open ended</td>\n      <td>Legislations or other statutory regulations</td>\n      <td>Entirely new measure</td>\n      <td>Supporting businesses to stay afloat</td>\n      <td>...</td>\n      <td>[Regional funds]</td>\n      <td>The involvement of the social partners is not ...</td>\n      <td>None</td>\n      <td>None</td>\n      <td>Yes</td>\n      <td>Only private sector</td>\n      <td>No</td>\n      <td>[Accommodation, Food and beverage service acti...</td>\n      <td>[]</td>\n      <td>[https://1819.brussels/nl/blog/financeinvestbr...</td>\n    </tr>\n    <tr>\n      <th>934</th>\n      <td>1610</td>\n      <td>Financial support for teleworkers</td>\n      <td>Suport financiar angajatilor din telemunca</td>\n      <td>Romania</td>\n      <td>01/01/2021</td>\n      <td></td>\n      <td>Temporary</td>\n      <td>Legislations or other statutory regulations</td>\n      <td>Entirely new measure</td>\n      <td>Protection of workers, adaptation of workplace</td>\n      <td>...</td>\n      <td>[Companies]</td>\n      <td>The exact involvement of social partners is un...</td>\n      <td>None</td>\n      <td>None</td>\n      <td>No</td>\n      <td>Not specified</td>\n      <td>No</td>\n      <td>[]</td>\n      <td>[]</td>\n      <td>[http://legislatie.just.ro/Public/DetaliiDocum...</td>\n    </tr>\n  </tbody>\n</table>\n<p>935 rows × 27 columns</p>\n</div>"
     },
     "execution_count": 6,
     "metadata": {},
     "output_type": "execute_result"
    }
   ],
   "source": [
    "reduce_array_column(df_new,\"Target groups\")"
   ],
   "metadata": {
    "collapsed": false,
    "pycharm": {
     "name": "#%%\n"
    }
   }
  },
  {
   "cell_type": "code",
   "execution_count": 8,
   "outputs": [],
   "source": [
    "#df_new.to_pickle(DATA_FOLDER / \"pwdb/pickle/df_full.pkl\")"
   ],
   "metadata": {
    "collapsed": false,
    "pycharm": {
     "name": "#%%\n"
    }
   }
  },
  {
   "cell_type": "code",
   "execution_count": 148,
   "outputs": [
    {
     "data": {
      "text/plain": "                                               Title  \\\n0   Hardship case fund: Safety net for self-employed   \n1      State support for tourism - Access to finance   \n2  Bank guarantees for SMEs and one-person enterp...   \n3  Emergency measures relating to short-time working   \n4  Airbus agreement for making up unworked hours ...   \n\n                              Background information  \\\n0  As part of the €4 billion fund to mitigate the...   \n1  As the tourism industry was among the first se...   \n2  On 4 March, following consultation of the soci...   \n3  Link to case FR-2020-10/462\\r\\r\\rAn ordinance ...   \n4  On 20 March, the Airbus Group signed an agreem...   \n\n                                  Content of measure  \\\n0  The support is a one-off payment and does not ...   \n1  Initially, bank guarantees amounting to €100 m...   \n2  The measure is targeted at small and medium si...   \n3  The new ordinance guarantees partial time work...   \n4  This agreement qualifies as unworked time the ...   \n\n                                         Category  \\\n0        Income protection beyond short-time work   \n1            Supporting businesses to stay afloat   \n2            Supporting businesses to stay afloat   \n3             Employment protection and retention   \n4  Protection of workers, adaptation of workplace   \n\n                               Type of measure  \\\n0  Legislations or other statutory regulations   \n1  Legislations or other statutory regulations   \n2  Legislations or other statutory regulations   \n3  Legislations or other statutory regulations   \n4              Bipartite collective agreements   \n\n                                       Target groups  \n0  One person or microenterprises, Self-employed,...  \n1             SMEs, Sector specific set of companies  \n2               One person or microenterprises, SMEs  \n3  Employees in standard employment, Other groups...  \n4  Employees in standard employment, Larger corpo...  ",
      "text/html": "<div>\n<style scoped>\n    .dataframe tbody tr th:only-of-type {\n        vertical-align: middle;\n    }\n\n    .dataframe tbody tr th {\n        vertical-align: top;\n    }\n\n    .dataframe thead th {\n        text-align: right;\n    }\n</style>\n<table border=\"1\" class=\"dataframe\">\n  <thead>\n    <tr style=\"text-align: right;\">\n      <th></th>\n      <th>Title</th>\n      <th>Background information</th>\n      <th>Content of measure</th>\n      <th>Category</th>\n      <th>Type of measure</th>\n      <th>Target groups</th>\n    </tr>\n  </thead>\n  <tbody>\n    <tr>\n      <th>0</th>\n      <td>Hardship case fund: Safety net for self-employed</td>\n      <td>As part of the €4 billion fund to mitigate the...</td>\n      <td>The support is a one-off payment and does not ...</td>\n      <td>Income protection beyond short-time work</td>\n      <td>Legislations or other statutory regulations</td>\n      <td>One person or microenterprises, Self-employed,...</td>\n    </tr>\n    <tr>\n      <th>1</th>\n      <td>State support for tourism - Access to finance</td>\n      <td>As the tourism industry was among the first se...</td>\n      <td>Initially, bank guarantees amounting to €100 m...</td>\n      <td>Supporting businesses to stay afloat</td>\n      <td>Legislations or other statutory regulations</td>\n      <td>SMEs, Sector specific set of companies</td>\n    </tr>\n    <tr>\n      <th>2</th>\n      <td>Bank guarantees for SMEs and one-person enterp...</td>\n      <td>On 4 March, following consultation of the soci...</td>\n      <td>The measure is targeted at small and medium si...</td>\n      <td>Supporting businesses to stay afloat</td>\n      <td>Legislations or other statutory regulations</td>\n      <td>One person or microenterprises, SMEs</td>\n    </tr>\n    <tr>\n      <th>3</th>\n      <td>Emergency measures relating to short-time working</td>\n      <td>Link to case FR-2020-10/462\\r\\r\\rAn ordinance ...</td>\n      <td>The new ordinance guarantees partial time work...</td>\n      <td>Employment protection and retention</td>\n      <td>Legislations or other statutory regulations</td>\n      <td>Employees in standard employment, Other groups...</td>\n    </tr>\n    <tr>\n      <th>4</th>\n      <td>Airbus agreement for making up unworked hours ...</td>\n      <td>On 20 March, the Airbus Group signed an agreem...</td>\n      <td>This agreement qualifies as unworked time the ...</td>\n      <td>Protection of workers, adaptation of workplace</td>\n      <td>Bipartite collective agreements</td>\n      <td>Employees in standard employment, Larger corpo...</td>\n    </tr>\n  </tbody>\n</table>\n</div>"
     },
     "execution_count": 148,
     "metadata": {},
     "output_type": "execute_result"
    }
   ],
   "source": [
    "df = df_new[['Title', 'Background information', 'Content of measure',\n",
    "             'Category', 'Type of measure', 'Target groups']]\n",
    "df.head()"
   ],
   "metadata": {
    "collapsed": false,
    "pycharm": {
     "name": "#%%\n"
    }
   }
  },
  {
   "cell_type": "code",
   "execution_count": 149,
   "outputs": [],
   "source": [
    "df_columns = df['Title'].map(str) + df['Background information'].map(str) + df['Content of measure'].map(str)\n",
    "df_columns = pd.DataFrame(df_columns, columns=['Concatinate Data'])\n",
    "df['Concatinated Data'] = df_columns"
   ],
   "metadata": {
    "collapsed": false,
    "pycharm": {
     "name": "#%%\n"
    }
   }
  },
  {
   "cell_type": "code",
   "execution_count": 150,
   "outputs": [
    {
     "data": {
      "text/plain": "                                               Title  \\\n0   Hardship case fund: Safety net for self-employed   \n1      State support for tourism - Access to finance   \n2  Bank guarantees for SMEs and one-person enterp...   \n3  Emergency measures relating to short-time working   \n4  Airbus agreement for making up unworked hours ...   \n\n                              Background information  \\\n0  As part of the €4 billion fund to mitigate the...   \n1  As the tourism industry was among the first se...   \n2  On 4 March, following consultation of the soci...   \n3  Link to case FR-2020-10/462\\r\\r\\rAn ordinance ...   \n4  On 20 March, the Airbus Group signed an agreem...   \n\n                                  Content of measure  \\\n0  The support is a one-off payment and does not ...   \n1  Initially, bank guarantees amounting to €100 m...   \n2  The measure is targeted at small and medium si...   \n3  The new ordinance guarantees partial time work...   \n4  This agreement qualifies as unworked time the ...   \n\n                                         Category  \\\n0        Income protection beyond short-time work   \n1            Supporting businesses to stay afloat   \n2            Supporting businesses to stay afloat   \n3             Employment protection and retention   \n4  Protection of workers, adaptation of workplace   \n\n                               Type of measure  \\\n0  Legislations or other statutory regulations   \n1  Legislations or other statutory regulations   \n2  Legislations or other statutory regulations   \n3  Legislations or other statutory regulations   \n4              Bipartite collective agreements   \n\n                                       Target groups  \\\n0  One person or microenterprises, Self-employed,...   \n1             SMEs, Sector specific set of companies   \n2               One person or microenterprises, SMEs   \n3  Employees in standard employment, Other groups...   \n4  Employees in standard employment, Larger corpo...   \n\n                                   Concatinated Data  \n0  Hardship case fund: Safety net for self-employ...  \n1  State support for tourism - Access to financeA...  \n2  Bank guarantees for SMEs and one-person enterp...  \n3  Emergency measures relating to short-time work...  \n4  Airbus agreement for making up unworked hours ...  ",
      "text/html": "<div>\n<style scoped>\n    .dataframe tbody tr th:only-of-type {\n        vertical-align: middle;\n    }\n\n    .dataframe tbody tr th {\n        vertical-align: top;\n    }\n\n    .dataframe thead th {\n        text-align: right;\n    }\n</style>\n<table border=\"1\" class=\"dataframe\">\n  <thead>\n    <tr style=\"text-align: right;\">\n      <th></th>\n      <th>Title</th>\n      <th>Background information</th>\n      <th>Content of measure</th>\n      <th>Category</th>\n      <th>Type of measure</th>\n      <th>Target groups</th>\n      <th>Concatinated Data</th>\n    </tr>\n  </thead>\n  <tbody>\n    <tr>\n      <th>0</th>\n      <td>Hardship case fund: Safety net for self-employed</td>\n      <td>As part of the €4 billion fund to mitigate the...</td>\n      <td>The support is a one-off payment and does not ...</td>\n      <td>Income protection beyond short-time work</td>\n      <td>Legislations or other statutory regulations</td>\n      <td>One person or microenterprises, Self-employed,...</td>\n      <td>Hardship case fund: Safety net for self-employ...</td>\n    </tr>\n    <tr>\n      <th>1</th>\n      <td>State support for tourism - Access to finance</td>\n      <td>As the tourism industry was among the first se...</td>\n      <td>Initially, bank guarantees amounting to €100 m...</td>\n      <td>Supporting businesses to stay afloat</td>\n      <td>Legislations or other statutory regulations</td>\n      <td>SMEs, Sector specific set of companies</td>\n      <td>State support for tourism - Access to financeA...</td>\n    </tr>\n    <tr>\n      <th>2</th>\n      <td>Bank guarantees for SMEs and one-person enterp...</td>\n      <td>On 4 March, following consultation of the soci...</td>\n      <td>The measure is targeted at small and medium si...</td>\n      <td>Supporting businesses to stay afloat</td>\n      <td>Legislations or other statutory regulations</td>\n      <td>One person or microenterprises, SMEs</td>\n      <td>Bank guarantees for SMEs and one-person enterp...</td>\n    </tr>\n    <tr>\n      <th>3</th>\n      <td>Emergency measures relating to short-time working</td>\n      <td>Link to case FR-2020-10/462\\r\\r\\rAn ordinance ...</td>\n      <td>The new ordinance guarantees partial time work...</td>\n      <td>Employment protection and retention</td>\n      <td>Legislations or other statutory regulations</td>\n      <td>Employees in standard employment, Other groups...</td>\n      <td>Emergency measures relating to short-time work...</td>\n    </tr>\n    <tr>\n      <th>4</th>\n      <td>Airbus agreement for making up unworked hours ...</td>\n      <td>On 20 March, the Airbus Group signed an agreem...</td>\n      <td>This agreement qualifies as unworked time the ...</td>\n      <td>Protection of workers, adaptation of workplace</td>\n      <td>Bipartite collective agreements</td>\n      <td>Employees in standard employment, Larger corpo...</td>\n      <td>Airbus agreement for making up unworked hours ...</td>\n    </tr>\n  </tbody>\n</table>\n</div>"
     },
     "execution_count": 150,
     "metadata": {},
     "output_type": "execute_result"
    }
   ],
   "source": [
    "df.head()\n"
   ],
   "metadata": {
    "collapsed": false,
    "pycharm": {
     "name": "#%%\n"
    }
   }
  },
  {
   "cell_type": "code",
   "execution_count": 151,
   "outputs": [],
   "source": [
    "def cleaning(text):\n",
    "    \"\"\"cleaner function\"\"\"\n",
    "    stopword = stopwords.words('english')\n",
    "    # set text to lowercase\n",
    "    text = text.lower()\n",
    "    # remove links\n",
    "    text = re.sub(r\"^https?:\\/\\/.*[\\r\\n]*\", '', text)\n",
    "    # remove \"new line\" symbol\n",
    "    text = re.sub('\\n', '', text)\n",
    "    # Match every decimal digits and every character marked as letters in Unicode database\n",
    "    text = re.sub('\\w*\\d\\w*', '', text)\n",
    "    # Delete square brackets\n",
    "    text = re.sub('\\[.*?\\]', '', text)\n",
    "    text = re.sub('[‘’“”…]', '', text)\n",
    "    # remove punctuation\n",
    "    text = re.sub('[%s]' % re.escape(string.punctuation), '', text)\n",
    "    text = ''.join(text)\n",
    "    text = re.split('\\W+', text)\n",
    "    text = [word for word in text if word not in stopword]\n",
    "\n",
    "    return text"
   ],
   "metadata": {
    "collapsed": false,
    "pycharm": {
     "name": "#%%\n"
    }
   }
  },
  {
   "cell_type": "code",
   "execution_count": 152,
   "outputs": [],
   "source": [
    "clean = lambda x: cleaning(x)\n",
    "df['Concatinated Data (clean)'] = df['Concatinated Data'].apply(clean)"
   ],
   "metadata": {
    "collapsed": false,
    "pycharm": {
     "name": "#%%\n"
    }
   }
  },
  {
   "cell_type": "code",
   "execution_count": 153,
   "outputs": [
    {
     "data": {
      "text/plain": "                                               Title  \\\n0   Hardship case fund: Safety net for self-employed   \n1      State support for tourism - Access to finance   \n2  Bank guarantees for SMEs and one-person enterp...   \n3  Emergency measures relating to short-time working   \n4  Airbus agreement for making up unworked hours ...   \n\n                              Background information  \\\n0  As part of the €4 billion fund to mitigate the...   \n1  As the tourism industry was among the first se...   \n2  On 4 March, following consultation of the soci...   \n3  Link to case FR-2020-10/462\\r\\r\\rAn ordinance ...   \n4  On 20 March, the Airbus Group signed an agreem...   \n\n                                  Content of measure  \\\n0  The support is a one-off payment and does not ...   \n1  Initially, bank guarantees amounting to €100 m...   \n2  The measure is targeted at small and medium si...   \n3  The new ordinance guarantees partial time work...   \n4  This agreement qualifies as unworked time the ...   \n\n                                         Category  \\\n0        Income protection beyond short-time work   \n1            Supporting businesses to stay afloat   \n2            Supporting businesses to stay afloat   \n3             Employment protection and retention   \n4  Protection of workers, adaptation of workplace   \n\n                               Type of measure  \\\n0  Legislations or other statutory regulations   \n1  Legislations or other statutory regulations   \n2  Legislations or other statutory regulations   \n3  Legislations or other statutory regulations   \n4              Bipartite collective agreements   \n\n                                       Target groups  \\\n0  One person or microenterprises, Self-employed,...   \n1             SMEs, Sector specific set of companies   \n2               One person or microenterprises, SMEs   \n3  Employees in standard employment, Other groups...   \n4  Employees in standard employment, Larger corpo...   \n\n                                   Concatinated Data  \\\n0  Hardship case fund: Safety net for self-employ...   \n1  State support for tourism - Access to financeA...   \n2  Bank guarantees for SMEs and one-person enterp...   \n3  Emergency measures relating to short-time work...   \n4  Airbus agreement for making up unworked hours ...   \n\n                           Concatinated Data (clean)  \n0  [hardship, case, fund, safety, net, selfemploy...  \n1  [state, support, tourism, access, financeas, t...  \n2  [bank, guarantees, smes, oneperson, enterprise...  \n3  [emergency, measures, relating, shorttime, wor...  \n4  [airbus, agreement, making, unworked, hours, p...  ",
      "text/html": "<div>\n<style scoped>\n    .dataframe tbody tr th:only-of-type {\n        vertical-align: middle;\n    }\n\n    .dataframe tbody tr th {\n        vertical-align: top;\n    }\n\n    .dataframe thead th {\n        text-align: right;\n    }\n</style>\n<table border=\"1\" class=\"dataframe\">\n  <thead>\n    <tr style=\"text-align: right;\">\n      <th></th>\n      <th>Title</th>\n      <th>Background information</th>\n      <th>Content of measure</th>\n      <th>Category</th>\n      <th>Type of measure</th>\n      <th>Target groups</th>\n      <th>Concatinated Data</th>\n      <th>Concatinated Data (clean)</th>\n    </tr>\n  </thead>\n  <tbody>\n    <tr>\n      <th>0</th>\n      <td>Hardship case fund: Safety net for self-employed</td>\n      <td>As part of the €4 billion fund to mitigate the...</td>\n      <td>The support is a one-off payment and does not ...</td>\n      <td>Income protection beyond short-time work</td>\n      <td>Legislations or other statutory regulations</td>\n      <td>One person or microenterprises, Self-employed,...</td>\n      <td>Hardship case fund: Safety net for self-employ...</td>\n      <td>[hardship, case, fund, safety, net, selfemploy...</td>\n    </tr>\n    <tr>\n      <th>1</th>\n      <td>State support for tourism - Access to finance</td>\n      <td>As the tourism industry was among the first se...</td>\n      <td>Initially, bank guarantees amounting to €100 m...</td>\n      <td>Supporting businesses to stay afloat</td>\n      <td>Legislations or other statutory regulations</td>\n      <td>SMEs, Sector specific set of companies</td>\n      <td>State support for tourism - Access to financeA...</td>\n      <td>[state, support, tourism, access, financeas, t...</td>\n    </tr>\n    <tr>\n      <th>2</th>\n      <td>Bank guarantees for SMEs and one-person enterp...</td>\n      <td>On 4 March, following consultation of the soci...</td>\n      <td>The measure is targeted at small and medium si...</td>\n      <td>Supporting businesses to stay afloat</td>\n      <td>Legislations or other statutory regulations</td>\n      <td>One person or microenterprises, SMEs</td>\n      <td>Bank guarantees for SMEs and one-person enterp...</td>\n      <td>[bank, guarantees, smes, oneperson, enterprise...</td>\n    </tr>\n    <tr>\n      <th>3</th>\n      <td>Emergency measures relating to short-time working</td>\n      <td>Link to case FR-2020-10/462\\r\\r\\rAn ordinance ...</td>\n      <td>The new ordinance guarantees partial time work...</td>\n      <td>Employment protection and retention</td>\n      <td>Legislations or other statutory regulations</td>\n      <td>Employees in standard employment, Other groups...</td>\n      <td>Emergency measures relating to short-time work...</td>\n      <td>[emergency, measures, relating, shorttime, wor...</td>\n    </tr>\n    <tr>\n      <th>4</th>\n      <td>Airbus agreement for making up unworked hours ...</td>\n      <td>On 20 March, the Airbus Group signed an agreem...</td>\n      <td>This agreement qualifies as unworked time the ...</td>\n      <td>Protection of workers, adaptation of workplace</td>\n      <td>Bipartite collective agreements</td>\n      <td>Employees in standard employment, Larger corpo...</td>\n      <td>Airbus agreement for making up unworked hours ...</td>\n      <td>[airbus, agreement, making, unworked, hours, p...</td>\n    </tr>\n  </tbody>\n</table>\n</div>"
     },
     "execution_count": 153,
     "metadata": {},
     "output_type": "execute_result"
    }
   ],
   "source": [
    "df.head()\n"
   ],
   "metadata": {
    "collapsed": false,
    "pycharm": {
     "name": "#%%\n"
    }
   }
  },
  {
   "cell_type": "code",
   "execution_count": 156,
   "outputs": [],
   "source": [
    "#df.to_pickle(DATA_FOLDER / \"pwdb/pickle/df.pkl\")"
   ],
   "metadata": {
    "collapsed": false,
    "pycharm": {
     "name": "#%%\n"
    }
   }
  },
  {
   "cell_type": "code",
   "execution_count": null,
   "outputs": [],
   "source": [],
   "metadata": {
    "collapsed": false,
    "pycharm": {
     "name": "#%%\n"
    }
   }
  }
 ],
 "metadata": {
  "kernelspec": {
   "display_name": "Python 3",
   "language": "python",
   "name": "python3"
  },
  "language_info": {
   "codemirror_mode": {
    "name": "ipython",
    "version": 2
   },
   "file_extension": ".py",
   "mimetype": "text/x-python",
   "name": "python",
   "nbconvert_exporter": "python",
   "pygments_lexer": "ipython2",
   "version": "2.7.6"
  }
 },
 "nbformat": 4,
 "nbformat_minor": 0
}