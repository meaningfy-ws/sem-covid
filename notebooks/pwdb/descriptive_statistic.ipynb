{
 "cells": [
  {
   "cell_type": "code",
   "execution_count": 53,
   "metadata": {
    "collapsed": true
   },
   "outputs": [],
   "source": [
    "# Ignore warnings\n",
    "import warnings\n",
    "warnings.filterwarnings('ignore')\n",
    "\n",
    "import pathlib\n",
    "DATA_FOLDER = pathlib.Path(\"/home/jovyan/work/Dan/data\")\n",
    "\n",
    "import matplotlib.pyplot as plt\n",
    "plt.rcParams[\"figure.figsize\"] = (20,10)\n",
    "plt.rcParams.update({'font.size': 15})\n",
    "\n",
    "import pandas as pd\n",
    "import numpy as np"
   ]
  },
  {
   "cell_type": "markdown",
   "source": [
    "The data is pretty accurate, but there are some damaged columns with NaN data, or there are empty at all. <br>\n",
    "About our experiments, there was not big problems, because the data we chose was pretty accurate, except for one column. <br>\n",
    "Here are the chosen classifier columns:\n"
   ],
   "metadata": {
    "collapsed": false,
    "pycharm": {
     "name": "#%% md\n"
    }
   }
  },
  {
   "cell_type": "code",
   "execution_count": 54,
   "outputs": [
    {
     "data": {
      "text/plain": "                    columns\n0               Subcategory\n1                  Category\n2             Target groups\n3                   Sectors\n4               Occupations\n5           Type of measure\n6  Private or public sector",
      "text/html": "<div>\n<style scoped>\n    .dataframe tbody tr th:only-of-type {\n        vertical-align: middle;\n    }\n\n    .dataframe tbody tr th {\n        vertical-align: top;\n    }\n\n    .dataframe thead th {\n        text-align: right;\n    }\n</style>\n<table border=\"1\" class=\"dataframe\">\n  <thead>\n    <tr style=\"text-align: right;\">\n      <th></th>\n      <th>columns</th>\n    </tr>\n  </thead>\n  <tbody>\n    <tr>\n      <th>0</th>\n      <td>Subcategory</td>\n    </tr>\n    <tr>\n      <th>1</th>\n      <td>Category</td>\n    </tr>\n    <tr>\n      <th>2</th>\n      <td>Target groups</td>\n    </tr>\n    <tr>\n      <th>3</th>\n      <td>Sectors</td>\n    </tr>\n    <tr>\n      <th>4</th>\n      <td>Occupations</td>\n    </tr>\n    <tr>\n      <th>5</th>\n      <td>Type of measure</td>\n    </tr>\n    <tr>\n      <th>6</th>\n      <td>Private or public sector</td>\n    </tr>\n  </tbody>\n</table>\n</div>"
     },
     "execution_count": 54,
     "metadata": {},
     "output_type": "execute_result"
    }
   ],
   "source": [
    "PATH = pathlib.Path(DATA_FOLDER / 'pwdb/pickle/df_full.pkl')\n",
    "\n",
    "df = pd.read_pickle(PATH)\n",
    "df1 = df[['Subcategory','Category','Target groups', 'Type of measure','Private or public sector']]\n",
    "\n",
    "d = {'columns': ['Subcategory','Category','Target groups','Sectors','Occupations','Type of measure','Private or public sector']}\n",
    "df_columns = pd.DataFrame(data=d)\n",
    "df_columns"
   ],
   "metadata": {
    "collapsed": false,
    "pycharm": {
     "name": "#%%\n"
    }
   }
  },
  {
   "cell_type": "markdown",
   "source": [
    "### Missing Values"
   ],
   "metadata": {
    "collapsed": false,
    "pycharm": {
     "name": "#%% md\n"
    }
   }
  },
  {
   "cell_type": "code",
   "execution_count": 55,
   "outputs": [],
   "source": [
    "df.replace('', np.nan, regex=True, inplace=True)"
   ],
   "metadata": {
    "collapsed": false,
    "pycharm": {
     "name": "#%%\n"
    }
   }
  },
  {
   "cell_type": "markdown",
   "source": [
    "The main problem is NaN values. Some columns are 100% missing, or have a decent amount of missing values.\n",
    "\n",
    "\n"
   ],
   "metadata": {
    "collapsed": false,
    "pycharm": {
     "name": "#%% md\n"
    }
   }
  },
  {
   "cell_type": "code",
   "execution_count": 56,
   "outputs": [
    {
     "data": {
      "text/plain": "                                    Missing  Percentage\nRole of social partners                 935    100.00 %\nForm of social partner involvement      935    100.00 %\nEnd date                                379     40.53 %\nTarget groups                           238     25.45 %\nViews of social partners                148     15.83 %\nTitle (national language)                50      5.35 %\nStatus of regulation                      5      0.53 %\nIdentifier                                0      0.00 %\nActors                                    0      0.00 %\nOccupations                               0      0.00 %\nSectors                                   0      0.00 %\nIs occupation specific                    0      0.00 %\nPrivate or public sector                  0      0.00 %\nIs sector specific                        0      0.00 %\nFunding                                   0      0.00 %\nContent of measure                        0      0.00 %\nUse of measure                            0      0.00 %\nTitle                                     0      0.00 %\nBackground information                    0      0.00 %\nCase added                                0      0.00 %\nSubcategory                               0      0.00 %\nCategory                                  0      0.00 %\nType of measure                           0      0.00 %\nDate type                                 0      0.00 %\nStart date                                0      0.00 %\nCountry                                   0      0.00 %\nSources                                   0      0.00 %",
      "text/html": "<div>\n<style scoped>\n    .dataframe tbody tr th:only-of-type {\n        vertical-align: middle;\n    }\n\n    .dataframe tbody tr th {\n        vertical-align: top;\n    }\n\n    .dataframe thead th {\n        text-align: right;\n    }\n</style>\n<table border=\"1\" class=\"dataframe\">\n  <thead>\n    <tr style=\"text-align: right;\">\n      <th></th>\n      <th>Missing</th>\n      <th>Percentage</th>\n    </tr>\n  </thead>\n  <tbody>\n    <tr>\n      <th>Role of social partners</th>\n      <td>935</td>\n      <td>100.00 %</td>\n    </tr>\n    <tr>\n      <th>Form of social partner involvement</th>\n      <td>935</td>\n      <td>100.00 %</td>\n    </tr>\n    <tr>\n      <th>End date</th>\n      <td>379</td>\n      <td>40.53 %</td>\n    </tr>\n    <tr>\n      <th>Target groups</th>\n      <td>238</td>\n      <td>25.45 %</td>\n    </tr>\n    <tr>\n      <th>Views of social partners</th>\n      <td>148</td>\n      <td>15.83 %</td>\n    </tr>\n    <tr>\n      <th>Title (national language)</th>\n      <td>50</td>\n      <td>5.35 %</td>\n    </tr>\n    <tr>\n      <th>Status of regulation</th>\n      <td>5</td>\n      <td>0.53 %</td>\n    </tr>\n    <tr>\n      <th>Identifier</th>\n      <td>0</td>\n      <td>0.00 %</td>\n    </tr>\n    <tr>\n      <th>Actors</th>\n      <td>0</td>\n      <td>0.00 %</td>\n    </tr>\n    <tr>\n      <th>Occupations</th>\n      <td>0</td>\n      <td>0.00 %</td>\n    </tr>\n    <tr>\n      <th>Sectors</th>\n      <td>0</td>\n      <td>0.00 %</td>\n    </tr>\n    <tr>\n      <th>Is occupation specific</th>\n      <td>0</td>\n      <td>0.00 %</td>\n    </tr>\n    <tr>\n      <th>Private or public sector</th>\n      <td>0</td>\n      <td>0.00 %</td>\n    </tr>\n    <tr>\n      <th>Is sector specific</th>\n      <td>0</td>\n      <td>0.00 %</td>\n    </tr>\n    <tr>\n      <th>Funding</th>\n      <td>0</td>\n      <td>0.00 %</td>\n    </tr>\n    <tr>\n      <th>Content of measure</th>\n      <td>0</td>\n      <td>0.00 %</td>\n    </tr>\n    <tr>\n      <th>Use of measure</th>\n      <td>0</td>\n      <td>0.00 %</td>\n    </tr>\n    <tr>\n      <th>Title</th>\n      <td>0</td>\n      <td>0.00 %</td>\n    </tr>\n    <tr>\n      <th>Background information</th>\n      <td>0</td>\n      <td>0.00 %</td>\n    </tr>\n    <tr>\n      <th>Case added</th>\n      <td>0</td>\n      <td>0.00 %</td>\n    </tr>\n    <tr>\n      <th>Subcategory</th>\n      <td>0</td>\n      <td>0.00 %</td>\n    </tr>\n    <tr>\n      <th>Category</th>\n      <td>0</td>\n      <td>0.00 %</td>\n    </tr>\n    <tr>\n      <th>Type of measure</th>\n      <td>0</td>\n      <td>0.00 %</td>\n    </tr>\n    <tr>\n      <th>Date type</th>\n      <td>0</td>\n      <td>0.00 %</td>\n    </tr>\n    <tr>\n      <th>Start date</th>\n      <td>0</td>\n      <td>0.00 %</td>\n    </tr>\n    <tr>\n      <th>Country</th>\n      <td>0</td>\n      <td>0.00 %</td>\n    </tr>\n    <tr>\n      <th>Sources</th>\n      <td>0</td>\n      <td>0.00 %</td>\n    </tr>\n  </tbody>\n</table>\n</div>"
     },
     "execution_count": 56,
     "metadata": {},
     "output_type": "execute_result"
    }
   ],
   "source": [
    "df_na = pd.DataFrame(df.isnull().sum(), columns=[\"Missing\"])\n",
    "df_na[\"Percentage\"] = df_na[\"Missing\"] / df.shape[0] * 100\n",
    "df_na.sort_values(by='Missing', ascending=False)"
   ],
   "metadata": {
    "collapsed": false,
    "pycharm": {
     "name": "#%%\n"
    }
   }
  },
  {
   "cell_type": "markdown",
   "source": [
    "We managed to work with 3 classifier labels: Type of measure, Category, Target groups. <br>\n",
    "The data is very unstable. There are dominant labels that contains most of data. <br>\n",
    "Overweight data:"
   ],
   "metadata": {
    "collapsed": false,
    "pycharm": {
     "name": "#%% md\n"
    }
   }
  },
  {
   "cell_type": "code",
   "execution_count": 57,
   "outputs": [],
   "source": [
    "def data_graphic(x, y, title, xlabel, ylabel):\n",
    "    \"\"\"\n",
    "    :param x: coordinates of the bars\n",
    "    :param y: the height of the bar\n",
    "    :param title: graphic's title\n",
    "    :param xlabel: the label text\n",
    "    :param ylabel: the label text\n",
    "    \"\"\"\n",
    "    plt.title(title)\n",
    "    plt.xlabel(xlabel)\n",
    "    plt.ylabel(ylabel)\n",
    "    plt.bar(x, y)\n",
    "    plt.xticks(x, '')"
   ],
   "metadata": {
    "collapsed": false,
    "pycharm": {
     "name": "#%%\n"
    }
   }
  },
  {
   "cell_type": "markdown",
   "source": [
    "## Type of measure\n",
    "### Frequency table\n"
   ],
   "metadata": {
    "collapsed": false,
    "pycharm": {
     "name": "#%% md\n"
    }
   }
  },
  {
   "cell_type": "code",
   "execution_count": 58,
   "outputs": [
    {
     "data": {
      "text/plain": "                                         index  Frequency\n0  Legislations or other statutory regulations    70.37 %\n1                Other initiatives or policies    12.94 %\n2              Bipartite collective agreements     7.38 %\n3   Non-binding recommendations or other texts     4.92 %\n4                            Company practices     2.57 %\n5                        Tripartite agreements     1.82 %",
      "text/html": "<div>\n<style scoped>\n    .dataframe tbody tr th:only-of-type {\n        vertical-align: middle;\n    }\n\n    .dataframe tbody tr th {\n        vertical-align: top;\n    }\n\n    .dataframe thead th {\n        text-align: right;\n    }\n</style>\n<table border=\"1\" class=\"dataframe\">\n  <thead>\n    <tr style=\"text-align: right;\">\n      <th></th>\n      <th>index</th>\n      <th>Frequency</th>\n    </tr>\n  </thead>\n  <tbody>\n    <tr>\n      <th>0</th>\n      <td>Legislations or other statutory regulations</td>\n      <td>70.37 %</td>\n    </tr>\n    <tr>\n      <th>1</th>\n      <td>Other initiatives or policies</td>\n      <td>12.94 %</td>\n    </tr>\n    <tr>\n      <th>2</th>\n      <td>Bipartite collective agreements</td>\n      <td>7.38 %</td>\n    </tr>\n    <tr>\n      <th>3</th>\n      <td>Non-binding recommendations or other texts</td>\n      <td>4.92 %</td>\n    </tr>\n    <tr>\n      <th>4</th>\n      <td>Company practices</td>\n      <td>2.57 %</td>\n    </tr>\n    <tr>\n      <th>5</th>\n      <td>Tripartite agreements</td>\n      <td>1.82 %</td>\n    </tr>\n  </tbody>\n</table>\n</div>"
     },
     "execution_count": 58,
     "metadata": {},
     "output_type": "execute_result"
    }
   ],
   "source": [
    "pd.options.display.float_format = '{:,.2f} %'.format\n",
    "tom_count = df['Type of measure'].value_counts()\n",
    "data_tom = df['Type of measure'].unique()\n",
    "vc_tom = df['Type of measure'].value_counts()\n",
    "df_tom = pd.DataFrame(df, columns=['Type of measure'])\n",
    "df_tom = vc_tom / df['Type of measure'].shape[0] * 100\n",
    "df_tom_table = pd.DataFrame({'Frequency': df_tom})\n",
    "df_tom_table = df_tom_table.reset_index()\n",
    "df_tom_table\n"
   ],
   "metadata": {
    "collapsed": false,
    "pycharm": {
     "name": "#%%\n"
    }
   }
  },
  {
   "cell_type": "code",
   "execution_count": 59,
   "outputs": [
    {
     "data": {
      "text/plain": "<Figure size 1440x720 with 1 Axes>",
      "image/png": "[encoded data removed]"
     },
     "metadata": {
      "needs_background": "light"
     },
     "output_type": "display_data"
    }
   ],
   "source": [
    "data_graphic(df_tom_table['index'],\n",
    "             df_tom_table['Frequency'],\n",
    "             'Type of Measure Frequency',\n",
    "             'Index',\n",
    "             'Frequency')\n"
   ],
   "metadata": {
    "collapsed": false,
    "pycharm": {
     "name": "#%%\n"
    }
   }
  },
  {
   "cell_type": "markdown",
   "source": [
    "### Value table"
   ],
   "metadata": {
    "collapsed": false,
    "pycharm": {
     "name": "#%% md\n"
    }
   }
  },
  {
   "cell_type": "code",
   "execution_count": 60,
   "outputs": [
    {
     "data": {
      "text/plain": "                                         index  Values\n0  Legislations or other statutory regulations     658\n1                Other initiatives or policies     121\n2              Bipartite collective agreements      69\n3   Non-binding recommendations or other texts      46\n4                            Company practices      24\n5                        Tripartite agreements      17",
      "text/html": "<div>\n<style scoped>\n    .dataframe tbody tr th:only-of-type {\n        vertical-align: middle;\n    }\n\n    .dataframe tbody tr th {\n        vertical-align: top;\n    }\n\n    .dataframe thead th {\n        text-align: right;\n    }\n</style>\n<table border=\"1\" class=\"dataframe\">\n  <thead>\n    <tr style=\"text-align: right;\">\n      <th></th>\n      <th>index</th>\n      <th>Values</th>\n    </tr>\n  </thead>\n  <tbody>\n    <tr>\n      <th>0</th>\n      <td>Legislations or other statutory regulations</td>\n      <td>658</td>\n    </tr>\n    <tr>\n      <th>1</th>\n      <td>Other initiatives or policies</td>\n      <td>121</td>\n    </tr>\n    <tr>\n      <th>2</th>\n      <td>Bipartite collective agreements</td>\n      <td>69</td>\n    </tr>\n    <tr>\n      <th>3</th>\n      <td>Non-binding recommendations or other texts</td>\n      <td>46</td>\n    </tr>\n    <tr>\n      <th>4</th>\n      <td>Company practices</td>\n      <td>24</td>\n    </tr>\n    <tr>\n      <th>5</th>\n      <td>Tripartite agreements</td>\n      <td>17</td>\n    </tr>\n  </tbody>\n</table>\n</div>"
     },
     "execution_count": 60,
     "metadata": {},
     "output_type": "execute_result"
    }
   ],
   "source": [
    "df_tom_table_values = pd.DataFrame({'Values': tom_count})\n",
    "df_tom_table_values = df_tom_table_values.reset_index()\n",
    "df_tom_table_values"
   ],
   "metadata": {
    "collapsed": false,
    "pycharm": {
     "name": "#%%\n"
    }
   }
  },
  {
   "cell_type": "code",
   "execution_count": 61,
   "outputs": [
    {
     "data": {
      "text/plain": "<Figure size 1440x720 with 1 Axes>",
      "image/png": "[encoded data removed]"
     },
     "metadata": {
      "needs_background": "light"
     },
     "output_type": "display_data"
    }
   ],
   "source": [
    "data_graphic(df_tom_table_values['index'],\n",
    "             df_tom_table_values['Values'],\n",
    "             'Type of Measure Frequency',\n",
    "             'Index',\n",
    "             'Frequency')"
   ],
   "metadata": {
    "collapsed": false,
    "pycharm": {
     "name": "#%%\n"
    }
   }
  },
  {
   "cell_type": "markdown",
   "source": [
    "## Category\n",
    "### Frequency table\n"
   ],
   "metadata": {
    "collapsed": false,
    "pycharm": {
     "name": "#%% md\n"
    }
   }
  },
  {
   "cell_type": "code",
   "execution_count": 62,
   "outputs": [
    {
     "data": {
      "text/plain": "                                               index  Frequency\n0               Supporting businesses to stay afloat    30.16 %\n1           Income protection beyond short-time work    13.80 %\n2     Protection of workers, adaptation of workplace    11.98 %\n3  Promoting the economic, labour market and soci...    11.23 %\n4  Ensuring business continuity and support for e...     9.63 %\n5                Employment protection and retention     9.41 %\n6                Measures to prevent social hardship     7.70 %\n7        Supporting businesses to get back to normal     3.53 %\n8               Reorientation of business activities     2.57 %",
      "text/html": "<div>\n<style scoped>\n    .dataframe tbody tr th:only-of-type {\n        vertical-align: middle;\n    }\n\n    .dataframe tbody tr th {\n        vertical-align: top;\n    }\n\n    .dataframe thead th {\n        text-align: right;\n    }\n</style>\n<table border=\"1\" class=\"dataframe\">\n  <thead>\n    <tr style=\"text-align: right;\">\n      <th></th>\n      <th>index</th>\n      <th>Frequency</th>\n    </tr>\n  </thead>\n  <tbody>\n    <tr>\n      <th>0</th>\n      <td>Supporting businesses to stay afloat</td>\n      <td>30.16 %</td>\n    </tr>\n    <tr>\n      <th>1</th>\n      <td>Income protection beyond short-time work</td>\n      <td>13.80 %</td>\n    </tr>\n    <tr>\n      <th>2</th>\n      <td>Protection of workers, adaptation of workplace</td>\n      <td>11.98 %</td>\n    </tr>\n    <tr>\n      <th>3</th>\n      <td>Promoting the economic, labour market and soci...</td>\n      <td>11.23 %</td>\n    </tr>\n    <tr>\n      <th>4</th>\n      <td>Ensuring business continuity and support for e...</td>\n      <td>9.63 %</td>\n    </tr>\n    <tr>\n      <th>5</th>\n      <td>Employment protection and retention</td>\n      <td>9.41 %</td>\n    </tr>\n    <tr>\n      <th>6</th>\n      <td>Measures to prevent social hardship</td>\n      <td>7.70 %</td>\n    </tr>\n    <tr>\n      <th>7</th>\n      <td>Supporting businesses to get back to normal</td>\n      <td>3.53 %</td>\n    </tr>\n    <tr>\n      <th>8</th>\n      <td>Reorientation of business activities</td>\n      <td>2.57 %</td>\n    </tr>\n  </tbody>\n</table>\n</div>"
     },
     "execution_count": 62,
     "metadata": {},
     "output_type": "execute_result"
    }
   ],
   "source": [
    "pd.options.display.float_format = '{:,.2f} %'.format\n",
    "cat_count = df['Category'].value_counts()\n",
    "cat_data = df['Category'].unique()\n",
    "vc_cat = df['Category'].value_counts()\n",
    "df_cat = pd.DataFrame(df, columns=['Category'])\n",
    "df_cat = vc_cat / df['Category'].shape[0] * 100\n",
    "df_cat_table = pd.DataFrame({'Frequency': df_cat})\n",
    "df_cat_table = df_cat_table.reset_index()\n",
    "df_cat_table"
   ],
   "metadata": {
    "collapsed": false,
    "pycharm": {
     "name": "#%%\n"
    }
   }
  },
  {
   "cell_type": "code",
   "execution_count": 70,
   "outputs": [
    {
     "data": {
      "text/plain": "<Figure size 1440x720 with 1 Axes>",
      "image/png": "[encoded data removed]"
     },
     "metadata": {
      "needs_background": "light"
     },
     "output_type": "display_data"
    }
   ],
   "source": [
    "data_graphic(df_cat_table['index'],\n",
    "             df_cat_table['Frequency'],\n",
    "             'Category Frequency',\n",
    "             'Index',\n",
    "             'Frequency')"
   ],
   "metadata": {
    "collapsed": false,
    "pycharm": {
     "name": "#%%\n"
    }
   }
  },
  {
   "cell_type": "markdown",
   "source": [
    "### Value table\n"
   ],
   "metadata": {
    "collapsed": false,
    "pycharm": {
     "name": "#%% md\n"
    }
   }
  },
  {
   "cell_type": "code",
   "execution_count": 64,
   "outputs": [
    {
     "data": {
      "text/plain": "                                               index  Values\n0               Supporting businesses to stay afloat     282\n1           Income protection beyond short-time work     129\n2     Protection of workers, adaptation of workplace     112\n3  Promoting the economic, labour market and soci...     105\n4  Ensuring business continuity and support for e...      90\n5                Employment protection and retention      88\n6                Measures to prevent social hardship      72\n7        Supporting businesses to get back to normal      33\n8               Reorientation of business activities      24",
      "text/html": "<div>\n<style scoped>\n    .dataframe tbody tr th:only-of-type {\n        vertical-align: middle;\n    }\n\n    .dataframe tbody tr th {\n        vertical-align: top;\n    }\n\n    .dataframe thead th {\n        text-align: right;\n    }\n</style>\n<table border=\"1\" class=\"dataframe\">\n  <thead>\n    <tr style=\"text-align: right;\">\n      <th></th>\n      <th>index</th>\n      <th>Values</th>\n    </tr>\n  </thead>\n  <tbody>\n    <tr>\n      <th>0</th>\n      <td>Supporting businesses to stay afloat</td>\n      <td>282</td>\n    </tr>\n    <tr>\n      <th>1</th>\n      <td>Income protection beyond short-time work</td>\n      <td>129</td>\n    </tr>\n    <tr>\n      <th>2</th>\n      <td>Protection of workers, adaptation of workplace</td>\n      <td>112</td>\n    </tr>\n    <tr>\n      <th>3</th>\n      <td>Promoting the economic, labour market and soci...</td>\n      <td>105</td>\n    </tr>\n    <tr>\n      <th>4</th>\n      <td>Ensuring business continuity and support for e...</td>\n      <td>90</td>\n    </tr>\n    <tr>\n      <th>5</th>\n      <td>Employment protection and retention</td>\n      <td>88</td>\n    </tr>\n    <tr>\n      <th>6</th>\n      <td>Measures to prevent social hardship</td>\n      <td>72</td>\n    </tr>\n    <tr>\n      <th>7</th>\n      <td>Supporting businesses to get back to normal</td>\n      <td>33</td>\n    </tr>\n    <tr>\n      <th>8</th>\n      <td>Reorientation of business activities</td>\n      <td>24</td>\n    </tr>\n  </tbody>\n</table>\n</div>"
     },
     "execution_count": 64,
     "metadata": {},
     "output_type": "execute_result"
    }
   ],
   "source": [
    "df_cat_table_values = pd.DataFrame({'Values': cat_count})\n",
    "df_cat_table_values = df_cat_table_values.reset_index()\n",
    "df_cat_table_values"
   ],
   "metadata": {
    "collapsed": false,
    "pycharm": {
     "name": "#%%\n"
    }
   }
  },
  {
   "cell_type": "code",
   "execution_count": 71,
   "outputs": [
    {
     "data": {
      "text/plain": "<Figure size 1440x720 with 1 Axes>",
      "image/png": "[encoded data removed]"
     },
     "metadata": {
      "needs_background": "light"
     },
     "output_type": "display_data"
    }
   ],
   "source": [
    "data_graphic(df_cat_table_values['index'],\n",
    "             df_cat_table_values['Values'],\n",
    "             'Category Frequency',\n",
    "             'Index',\n",
    "             'Frequency')"
   ],
   "metadata": {
    "collapsed": false,
    "pycharm": {
     "name": "#%%\n"
    }
   }
  },
  {
   "cell_type": "markdown",
   "source": [
    "## Target groups\n",
    "### Frequency table\n"
   ],
   "metadata": {
    "collapsed": false,
    "pycharm": {
     "name": "#%% md\n"
    }
   }
  },
  {
   "cell_type": "code",
   "execution_count": 66,
   "outputs": [
    {
     "data": {
      "text/plain": "                                                 index  Frequency\n0                     Employees in standard employment     9.20 %\n1                     Sector specific set of companies     9.09 %\n2                                        Self-employed     3.32 %\n3                                           Unemployed     2.99 %\n4                                                 SMEs     2.67 %\n..                                                 ...        ...\n197  Disabled, Disabled workers, Other businesses, ...     0.11 %\n198                                  Children (minors)     0.11 %\n199  Employees in standard employment, Other groups...     0.11 %\n200        Sector specific set of companies, Start-ups     0.11 %\n201  Disabled workers, One person or microenterpris...     0.11 %\n\n[202 rows x 2 columns]",
      "text/html": "<div>\n<style scoped>\n    .dataframe tbody tr th:only-of-type {\n        vertical-align: middle;\n    }\n\n    .dataframe tbody tr th {\n        vertical-align: top;\n    }\n\n    .dataframe thead th {\n        text-align: right;\n    }\n</style>\n<table border=\"1\" class=\"dataframe\">\n  <thead>\n    <tr style=\"text-align: right;\">\n      <th></th>\n      <th>index</th>\n      <th>Frequency</th>\n    </tr>\n  </thead>\n  <tbody>\n    <tr>\n      <th>0</th>\n      <td>Employees in standard employment</td>\n      <td>9.20 %</td>\n    </tr>\n    <tr>\n      <th>1</th>\n      <td>Sector specific set of companies</td>\n      <td>9.09 %</td>\n    </tr>\n    <tr>\n      <th>2</th>\n      <td>Self-employed</td>\n      <td>3.32 %</td>\n    </tr>\n    <tr>\n      <th>3</th>\n      <td>Unemployed</td>\n      <td>2.99 %</td>\n    </tr>\n    <tr>\n      <th>4</th>\n      <td>SMEs</td>\n      <td>2.67 %</td>\n    </tr>\n    <tr>\n      <th>...</th>\n      <td>...</td>\n      <td>...</td>\n    </tr>\n    <tr>\n      <th>197</th>\n      <td>Disabled, Disabled workers, Other businesses, ...</td>\n      <td>0.11 %</td>\n    </tr>\n    <tr>\n      <th>198</th>\n      <td>Children (minors)</td>\n      <td>0.11 %</td>\n    </tr>\n    <tr>\n      <th>199</th>\n      <td>Employees in standard employment, Other groups...</td>\n      <td>0.11 %</td>\n    </tr>\n    <tr>\n      <th>200</th>\n      <td>Sector specific set of companies, Start-ups</td>\n      <td>0.11 %</td>\n    </tr>\n    <tr>\n      <th>201</th>\n      <td>Disabled workers, One person or microenterpris...</td>\n      <td>0.11 %</td>\n    </tr>\n  </tbody>\n</table>\n<p>202 rows × 2 columns</p>\n</div>"
     },
     "execution_count": 66,
     "metadata": {},
     "output_type": "execute_result"
    }
   ],
   "source": [
    "pd.options.display.float_format = '{:,.2f} %'.format\n",
    "tg_count = df['Target groups'].value_counts()\n",
    "tg_data = df['Target groups'].unique()\n",
    "vc_tg = df['Target groups'].value_counts()\n",
    "df_tg = pd.DataFrame(df, columns=['Target groups'])\n",
    "df_tg = vc_tg / df['Target groups'].shape[0] * 100\n",
    "df_tg_table = pd.DataFrame({'Frequency': df_tg})\n",
    "df_tg_table = df_tg_table.reset_index()\n",
    "df_tg_table"
   ],
   "metadata": {
    "collapsed": false,
    "pycharm": {
     "name": "#%%\n"
    }
   }
  },
  {
   "cell_type": "code",
   "execution_count": 69,
   "outputs": [
    {
     "data": {
      "text/plain": "<Figure size 1440x720 with 1 Axes>",
      "image/png": "[encoded data removed]"
     },
     "metadata": {
      "needs_background": "light"
     },
     "output_type": "display_data"
    }
   ],
   "source": [
    "data_graphic(df_tg_table['index'],\n",
    "             df_tg_table['Frequency'],\n",
    "             'Target groups Frequency',\n",
    "             'Index',\n",
    "             'Frequency')"
   ],
   "metadata": {
    "collapsed": false,
    "pycharm": {
     "name": "#%%\n"
    }
   }
  },
  {
   "cell_type": "markdown",
   "source": [
    "### Value table\n"
   ],
   "metadata": {
    "collapsed": false,
    "pycharm": {
     "name": "#%% md\n"
    }
   }
  },
  {
   "cell_type": "code",
   "execution_count": 78,
   "outputs": [
    {
     "data": {
      "text/plain": "                                                 index  Values\n0                     Employees in standard employment      86\n1                     Sector specific set of companies      85\n2                                        Self-employed      31\n3                                           Unemployed      28\n4                                                 SMEs      25\n..                                                 ...     ...\n197  Disabled, Disabled workers, Other businesses, ...       1\n198                                  Children (minors)       1\n199  Employees in standard employment, Other groups...       1\n200        Sector specific set of companies, Start-ups       1\n201  Disabled workers, One person or microenterpris...       1\n\n[202 rows x 2 columns]",
      "text/html": "<div>\n<style scoped>\n    .dataframe tbody tr th:only-of-type {\n        vertical-align: middle;\n    }\n\n    .dataframe tbody tr th {\n        vertical-align: top;\n    }\n\n    .dataframe thead th {\n        text-align: right;\n    }\n</style>\n<table border=\"1\" class=\"dataframe\">\n  <thead>\n    <tr style=\"text-align: right;\">\n      <th></th>\n      <th>index</th>\n      <th>Values</th>\n    </tr>\n  </thead>\n  <tbody>\n    <tr>\n      <th>0</th>\n      <td>Employees in standard employment</td>\n      <td>86</td>\n    </tr>\n    <tr>\n      <th>1</th>\n      <td>Sector specific set of companies</td>\n      <td>85</td>\n    </tr>\n    <tr>\n      <th>2</th>\n      <td>Self-employed</td>\n      <td>31</td>\n    </tr>\n    <tr>\n      <th>3</th>\n      <td>Unemployed</td>\n      <td>28</td>\n    </tr>\n    <tr>\n      <th>4</th>\n      <td>SMEs</td>\n      <td>25</td>\n    </tr>\n    <tr>\n      <th>...</th>\n      <td>...</td>\n      <td>...</td>\n    </tr>\n    <tr>\n      <th>197</th>\n      <td>Disabled, Disabled workers, Other businesses, ...</td>\n      <td>1</td>\n    </tr>\n    <tr>\n      <th>198</th>\n      <td>Children (minors)</td>\n      <td>1</td>\n    </tr>\n    <tr>\n      <th>199</th>\n      <td>Employees in standard employment, Other groups...</td>\n      <td>1</td>\n    </tr>\n    <tr>\n      <th>200</th>\n      <td>Sector specific set of companies, Start-ups</td>\n      <td>1</td>\n    </tr>\n    <tr>\n      <th>201</th>\n      <td>Disabled workers, One person or microenterpris...</td>\n      <td>1</td>\n    </tr>\n  </tbody>\n</table>\n<p>202 rows × 2 columns</p>\n</div>"
     },
     "execution_count": 78,
     "metadata": {},
     "output_type": "execute_result"
    }
   ],
   "source": [
    "df_tg_table_values = pd.DataFrame({'Values': tg_count})\n",
    "df_tg_table_values = df_tg_table_values.reset_index()\n",
    "df_tg_table_values"
   ],
   "metadata": {
    "collapsed": false,
    "pycharm": {
     "name": "#%%\n"
    }
   }
  },
  {
   "cell_type": "code",
   "execution_count": 80,
   "outputs": [
    {
     "data": {
      "text/plain": "<Figure size 1440x720 with 1 Axes>",
      "image/png": "[encoded data removed]"
     },
     "metadata": {
      "needs_background": "light"
     },
     "output_type": "display_data"
    }
   ],
   "source": [
    "data_graphic(df_tg_table_values['index'],\n",
    "             df_tg_table_values['Values'],\n",
    "             'Target groups Values',\n",
    "             'Index',\n",
    "             'Values')"
   ],
   "metadata": {
    "collapsed": false,
    "pycharm": {
     "name": "#%%\n"
    }
   }
  },
  {
   "cell_type": "markdown",
   "source": [
    "NaN values statistic in:\n"
   ],
   "metadata": {
    "collapsed": false,
    "pycharm": {
     "name": "#%% md\n"
    }
   }
  },
  {
   "cell_type": "code",
   "execution_count": 81,
   "outputs": [
    {
     "data": {
      "text/plain": "                 Missing  Percentage\nType of measure        0      0.00 %\nCategory               0      0.00 %\nTarget groups        238     25.45 %",
      "text/html": "<div>\n<style scoped>\n    .dataframe tbody tr th:only-of-type {\n        vertical-align: middle;\n    }\n\n    .dataframe tbody tr th {\n        vertical-align: top;\n    }\n\n    .dataframe thead th {\n        text-align: right;\n    }\n</style>\n<table border=\"1\" class=\"dataframe\">\n  <thead>\n    <tr style=\"text-align: right;\">\n      <th></th>\n      <th>Missing</th>\n      <th>Percentage</th>\n    </tr>\n  </thead>\n  <tbody>\n    <tr>\n      <th>Type of measure</th>\n      <td>0</td>\n      <td>0.00 %</td>\n    </tr>\n    <tr>\n      <th>Category</th>\n      <td>0</td>\n      <td>0.00 %</td>\n    </tr>\n    <tr>\n      <th>Target groups</th>\n      <td>238</td>\n      <td>25.45 %</td>\n    </tr>\n  </tbody>\n</table>\n</div>"
     },
     "execution_count": 81,
     "metadata": {},
     "output_type": "execute_result"
    }
   ],
   "source": [
    "selected =  ['Category', 'Target groups','Type of measure']\n",
    "df_na[df_na.index.isin(selected)]"
   ],
   "metadata": {
    "collapsed": false,
    "pycharm": {
     "name": "#%%\n"
    }
   }
  },
  {
   "cell_type": "markdown",
   "source": [
    "to train the model we chose:\n",
    "* title\n",
    "* descriptionBackgroundInfo\n",
    "* descriptionUseOfMeasure\n",
    "\n",
    "We used SVM algorithm for Type of measure and Category columns, and KNeighborsClassifier for target groups. As I mentioned, because of unstable data the model is for from\n",
    "perfection. Through our prediction, we can say that SVM is not the best algorithm working with given labels.\n",
    "What about target group? The results are pretty good for the data we have."
   ],
   "metadata": {
    "collapsed": false,
    "pycharm": {
     "name": "#%% md\n"
    }
   }
  },
  {
   "cell_type": "code",
   "execution_count": null,
   "outputs": [],
   "source": [],
   "metadata": {
    "collapsed": false,
    "pycharm": {
     "name": "#%%\n"
    }
   }
  }
 ],
 "metadata": {
  "kernelspec": {
   "display_name": "Python 3",
   "language": "python",
   "name": "python3"
  },
  "language_info": {
   "codemirror_mode": {
    "name": "ipython",
    "version": 2
   },
   "file_extension": ".py",
   "mimetype": "text/x-python",
   "name": "python",
   "nbconvert_exporter": "python",
   "pygments_lexer": "ipython2",
   "version": "2.7.6"
  }
 },
 "nbformat": 4,
 "nbformat_minor": 0
}