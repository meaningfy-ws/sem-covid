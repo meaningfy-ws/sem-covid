{
 "cells": [
  {
   "cell_type": "code",
   "execution_count": 2,
   "metadata": {
    "collapsed": true
   },
   "outputs": [],
   "source": [
    "# Ignore warnings\n",
    "import warnings\n",
    "warnings.filterwarnings('ignore')\n",
    "\n",
    "# Data path\n",
    "import pathlib\n",
    "FOLDER = pathlib.Path(\"/home/jovyan/work/upload/\")\n",
    "\n",
    "# Reusable classes\n",
    "import sys\n",
    "sys.path.append(\"/home/jovyan/work/upload/ml-experiments/sc_wrangling\")\n",
    "\n",
    "\n",
    "# Math stuff\n",
    "import numpy as np\n",
    "from numpy import ndarray\n",
    "\n",
    "# Data visualisation\n",
    "import pandas as pd\n",
    "from pandas import DataFrame\n",
    "\n",
    "# Vectorize algotrithm\n",
    "from gensim.models import Word2Vec"
   ]
  },
  {
   "cell_type": "code",
   "execution_count": 3,
   "outputs": [
    {
     "data": {
      "text/plain": "0      [hardship, case, fund, safety, net, selfemploy...\n1      [state, support, tourism, access, financeas, t...\n2      [bank, guarantees, smes, oneperson, enterprise...\n3      [emergency, measures, relating, shorttime, wor...\n4      [airbus, agreement, making, unworked, hours, p...\n                             ...                        \n930    [taxation, measures, enterprisesas, consequenc...\n931    [winwinloanthe, winwin, loan, system, encourag...\n932    [support, measures, businesses, closed, since,...\n933    [new, loans, available, enterprises, brusselst...\n934    [financial, support, teleworkers, increase, te...\nName: Concatenated Data (clean), Length: 935, dtype: object"
     },
     "execution_count": 3,
     "metadata": {},
     "output_type": "execute_result"
    }
   ],
   "source": [
    "# Open pickle file and read data\n",
    "PATH = FOLDER / 'data/pickle/df_columns_labels.pkl'\n",
    "df = pd.read_pickle(PATH)\n",
    "# Set which data we want to use to train word2vec model\n",
    "columns = df['Concatenated Data (clean)']\n",
    "columns"
   ],
   "metadata": {
    "collapsed": false,
    "pycharm": {
     "name": "#%%\n"
    }
   }
  },
  {
   "cell_type": "code",
   "execution_count": 4,
   "outputs": [],
   "source": [
    "# Insert our data and set minimal word count to 10, and size of each word to 300 vectors\n",
    "dfVec = Word2Vec(columns, window=5, min_count=10, size=300)\n",
    "w2v_dict = {w: vec for w, vec in zip(dfVec.wv.index2word, dfVec.wv.syn0)}\n",
    "w2v = dfVec.wv.syn0"
   ],
   "metadata": {
    "collapsed": false,
    "pycharm": {
     "name": "#%%\n"
    }
   }
  },
  {
   "cell_type": "code",
   "execution_count": 5,
   "outputs": [
    {
     "data": {
      "text/plain": "[('crisis', 0.9922922849655151),\n ('pandemic', 0.9920089840888977),\n ('measures', 0.9890611171722412),\n ('economic', 0.9716485738754272),\n ('government', 0.9535880088806152),\n ('affected', 0.9518156051635742),\n ('health', 0.9476697444915771),\n ('emergency', 0.9345644116401672),\n ('spread', 0.9243130087852478),\n ('package', 0.9217209219932556)]"
     },
     "execution_count": 5,
     "metadata": {},
     "output_type": "execute_result"
    }
   ],
   "source": [
    "# Test the result\n",
    "dfVec.most_similar('covid')\n"
   ],
   "metadata": {
    "collapsed": false,
    "pycharm": {
     "name": "#%%\n"
    }
   }
  },
  {
   "cell_type": "code",
   "execution_count": 6,
   "outputs": [
    {
     "data": {
      "text/plain": "[('crisis', 0.9843559265136719),\n ('measures', 0.9838157296180725),\n ('pandemic', 0.9815863370895386),\n ('government', 0.9609742760658264),\n ('affected', 0.9603107571601868),\n ('public', 0.9580501317977905),\n ('sector', 0.9558342099189758),\n ('emergency', 0.9487753510475159),\n ('spread', 0.9479717016220093),\n ('act', 0.9477647542953491)]"
     },
     "execution_count": 6,
     "metadata": {},
     "output_type": "execute_result"
    }
   ],
   "source": [
    "dfVec.wv.most_similar_cosmul(positive=['covid', 'health'], negative=['economic'])"
   ],
   "metadata": {
    "collapsed": false,
    "pycharm": {
     "name": "#%%\n"
    }
   }
  },
  {
   "cell_type": "code",
   "execution_count": 7,
   "outputs": [
    {
     "name": "stdout",
     "output_type": "stream",
     "text": [
      "covid\n"
     ]
    }
   ],
   "source": [
    "print(dfVec.wv.doesnt_match(\"covid costs legal\".split()))"
   ],
   "metadata": {
    "collapsed": false,
    "pycharm": {
     "name": "#%%\n"
    }
   }
  },
  {
   "cell_type": "code",
   "execution_count": 9,
   "outputs": [],
   "source": [
    "# Save our trained model\n",
    "# dfVec.save('/home/jovyan/work/upload/data/df.model')"
   ],
   "metadata": {
    "collapsed": false,
    "pycharm": {
     "name": "#%%\n"
    }
   }
  },
  {
   "cell_type": "code",
   "execution_count": null,
   "outputs": [],
   "source": [],
   "metadata": {
    "collapsed": false,
    "pycharm": {
     "name": "#%%\n"
    }
   }
  }
 ],
 "metadata": {
  "kernelspec": {
   "display_name": "Python 3",
   "language": "python",
   "name": "python3"
  },
  "language_info": {
   "codemirror_mode": {
    "name": "ipython",
    "version": 2
   },
   "file_extension": ".py",
   "mimetype": "text/x-python",
   "name": "python",
   "nbconvert_exporter": "python",
   "pygments_lexer": "ipython2",
   "version": "2.7.6"
  }
 },
 "nbformat": 4,
 "nbformat_minor": 0
}