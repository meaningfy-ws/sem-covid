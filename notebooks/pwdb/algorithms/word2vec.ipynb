{
 "cells": [
  {
   "cell_type": "code",
   "execution_count": 1,
   "metadata": {
    "collapsed": true
   },
   "outputs": [],
   "source": [
    "# Ignore warnings\n",
    "import warnings\n",
    "warnings.filterwarnings('ignore')\n",
    "\n",
    "# Data path\n",
    "import pathlib\n",
    "DATA_FOLDER = pathlib.Path(\"/home/jovyan/work/Dan/data\")\n",
    "\n",
    "import sys\n",
    "sys.path.append('/home/jovyan/work/Dan/upload/src/')\n",
    "\n",
    "# Math stuff\n",
    "import numpy as np\n",
    "from numpy import ndarray\n",
    "\n",
    "# Data visualisation\n",
    "import pandas as pd\n",
    "from pandas import DataFrame\n",
    "\n",
    "# Vectorize algotrithm\n",
    "from gensim.models import Word2Vec\n",
    "\n",
    "# Multidimensional space visualizer\n",
    "from sklearn.manifold import TSNE\n",
    "\n",
    "# Graphic visualization libraries\n",
    "# Bokeh --\n",
    "import bokeh.plotting as bp\n",
    "from bokeh.models import HoverTool, BoxSelectTool\n",
    "from bokeh.plotting import figure, show, output_notebook\n",
    "\n",
    "# Plotly\n",
    "import plotly.express as px\n"
   ]
  },
  {
   "cell_type": "code",
   "execution_count": 2,
   "outputs": [
    {
     "data": {
      "text/plain": "0      [hardship, case, fund, safety, net, selfemploy...\n1      [state, support, tourism, access, financeas, t...\n2      [bank, guarantees, smes, oneperson, enterprise...\n3      [emergency, measures, relating, shorttime, wor...\n4      [airbus, agreement, making, unworked, hours, p...\n                             ...                        \n930    [taxation, measures, enterprisesas, consequenc...\n931    [winwinloanthe, winwin, loan, system, encourag...\n932    [support, measures, businesses, closed, since,...\n933    [new, loans, available, enterprises, brusselst...\n934    [financial, support, teleworkers, increase, te...\nName: Concatenated Data (clean), Length: 935, dtype: object"
     },
     "execution_count": 2,
     "metadata": {},
     "output_type": "execute_result"
    }
   ],
   "source": [
    "# Open pickle file and read data\n",
    "PATH = DATA_FOLDER / 'pwdb/pickle/df_columns_labels.pkl'\n",
    "df = pd.read_pickle(PATH)\n",
    "# Set which data we want to use to train word2vec model\n",
    "columns = df['Concatenated Data (clean)']\n",
    "columns"
   ],
   "metadata": {
    "collapsed": false,
    "pycharm": {
     "name": "#%%\n"
    }
   }
  },
  {
   "cell_type": "code",
   "execution_count": 3,
   "outputs": [],
   "source": [
    "# Insert our data and set minimal word count to 10, and size of each word to 300 vectors\n",
    "dfVec = Word2Vec(columns, window=5, min_count=10, size=300)\n",
    "w2v_dict = {w: vec for w, vec in zip(dfVec.wv.index2word, dfVec.wv.syn0)}\n",
    "w2v = dfVec.wv.syn0"
   ],
   "metadata": {
    "collapsed": false,
    "pycharm": {
     "name": "#%%\n"
    }
   }
  },
  {
   "cell_type": "code",
   "execution_count": 4,
   "outputs": [
    {
     "data": {
      "text/plain": "[('pandemic', 0.9931578040122986),\n ('crisis', 0.9928868412971497),\n ('measures', 0.9882986545562744),\n ('economic', 0.9727696776390076),\n ('affected', 0.9532006978988647),\n ('government', 0.9519243836402893),\n ('health', 0.947557806968689),\n ('emergency', 0.9286361336708069),\n ('spread', 0.9258859753608704),\n ('coronavirus', 0.918663740158081)]"
     },
     "execution_count": 4,
     "metadata": {},
     "output_type": "execute_result"
    }
   ],
   "source": [
    "# Test the result\n",
    "dfVec.most_similar('covid')\n"
   ],
   "metadata": {
    "collapsed": false,
    "pycharm": {
     "name": "#%%\n"
    }
   }
  },
  {
   "cell_type": "code",
   "execution_count": 5,
   "outputs": [
    {
     "data": {
      "text/plain": "[('crisis', 0.9850180149078369),\n ('measures', 0.983648419380188),\n ('pandemic', 0.9828519821166992),\n ('affected', 0.9613243937492371),\n ('government', 0.9601290822029114),\n ('public', 0.9562671780586243),\n ('sector', 0.9558254480361938),\n ('spread', 0.9493266344070435),\n ('act', 0.9464930295944214),\n ('emergency', 0.9463182687759399)]"
     },
     "execution_count": 5,
     "metadata": {},
     "output_type": "execute_result"
    }
   ],
   "source": [
    "dfVec.wv.most_similar_cosmul(positive=['covid', 'health'], negative=['economic'])"
   ],
   "metadata": {
    "collapsed": false,
    "pycharm": {
     "name": "#%%\n"
    }
   }
  },
  {
   "cell_type": "code",
   "execution_count": 6,
   "outputs": [
    {
     "name": "stdout",
     "output_type": "stream",
     "text": [
      "covid\n"
     ]
    }
   ],
   "source": [
    "print(dfVec.wv.doesnt_match(\"covid costs legal\".split()))"
   ],
   "metadata": {
    "collapsed": false,
    "pycharm": {
     "name": "#%%\n"
    }
   }
  },
  {
   "cell_type": "code",
   "execution_count": 14,
   "outputs": [],
   "source": [
    "# Save our trained model\n",
    "# dfVec.save('/home/jovyan/work/Dan/data/pwdb/word2vec/df.model')\n"
   ],
   "metadata": {
    "collapsed": false,
    "pycharm": {
     "name": "#%%\n"
    }
   }
  }
 ],
 "metadata": {
  "kernelspec": {
   "display_name": "Python 3",
   "language": "python",
   "name": "python3"
  },
  "language_info": {
   "codemirror_mode": {
    "name": "ipython",
    "version": 2
   },
   "file_extension": ".py",
   "mimetype": "text/x-python",
   "name": "python",
   "nbconvert_exporter": "python",
   "pygments_lexer": "ipython2",
   "version": "2.7.6"
  }
 },
 "nbformat": 4,
 "nbformat_minor": 0
}