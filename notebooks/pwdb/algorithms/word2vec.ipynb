{
 "cells": [
  {
   "cell_type": "code",
   "execution_count": 1,
   "metadata": {
    "collapsed": true
   },
   "outputs": [],
   "source": [
    "# Ignore warnings\n",
    "import warnings\n",
    "warnings.filterwarnings('ignore')\n",
    "\n",
    "# Data path\n",
    "import pathlib\n",
    "DATA_FOLDER = pathlib.Path(\"/home/jovyan/work/Dan/data\")\n",
    "\n",
    "# Data visualisation\n",
    "import pandas as pd\n",
    "\n",
    "# Vectorize algotrithm\n",
    "from gensim.models import Word2Vec\n"
   ]
  },
  {
   "cell_type": "code",
   "execution_count": 2,
   "outputs": [
    {
     "data": {
      "text/plain": "0      [hardship, case, fund, safety, net, selfemploy...\n1      [state, support, tourism, access, financeas, t...\n2      [bank, guarantees, smes, oneperson, enterprise...\n3      [emergency, measures, relating, shorttime, wor...\n4      [airbus, agreement, making, unworked, hours, p...\n                             ...                        \n930    [taxation, measures, enterprisesas, consequenc...\n931    [winwinloanthe, winwin, loan, system, encourag...\n932    [support, measures, businesses, closed, since,...\n933    [new, loans, available, enterprises, brusselst...\n934    [financial, support, teleworkers, increase, te...\nName: Concatenated Data (clean), Length: 935, dtype: object"
     },
     "execution_count": 2,
     "metadata": {},
     "output_type": "execute_result"
    }
   ],
   "source": [
    "# Open pickle file and read data\n",
    "PATH = DATA_FOLDER / 'pwdb/pickle/df_columns_labels.pkl'\n",
    "df = pd.read_pickle(PATH)\n",
    "# Set which data we want to use to train word2vec model\n",
    "columns = df['Concatenated Data (clean)']\n",
    "columns"
   ],
   "metadata": {
    "collapsed": false,
    "pycharm": {
     "name": "#%%\n"
    }
   }
  },
  {
   "cell_type": "code",
   "execution_count": 3,
   "outputs": [],
   "source": [
    "# Insert our data and set minimal word count to 10, and size of each word to 300 vectors\n",
    "dfVec = Word2Vec(columns, window=5, min_count=10, size=300)\n",
    "w2v_dict = {w: vec for w, vec in zip(dfVec.wv.index2word, dfVec.wv.syn0)}\n",
    "w2v = dfVec.wv.syn0"
   ],
   "metadata": {
    "collapsed": false,
    "pycharm": {
     "name": "#%%\n"
    }
   }
  },
  {
   "cell_type": "code",
   "execution_count": 4,
   "outputs": [
    {
     "data": {
      "text/plain": "[('established', 0.9997254014015198),\n ('cabinet', 0.9996880888938904),\n ('parliament', 0.9995955228805542),\n ('amended', 0.9995614886283875),\n ('declaration', 0.9995083808898926),\n ('published', 0.9995009899139404),\n ('introduces', 0.999493420124054),\n ('czech', 0.9994755387306213),\n ('series', 0.999431312084198),\n ('croatia', 0.9994305968284607)]"
     },
     "execution_count": 4,
     "metadata": {},
     "output_type": "execute_result"
    }
   ],
   "source": [
    "# Test the result\n",
    "dfVec.most_similar('president')"
   ],
   "metadata": {
    "collapsed": false,
    "pycharm": {
     "name": "#%%\n"
    }
   }
  },
  {
   "cell_type": "code",
   "execution_count": 18,
   "outputs": [],
   "source": [
    "# Save our trained model\n",
    "# dfVec.save('/home/jovyan/work/Dan/data/pwdb/word2vec/df.model')"
   ],
   "metadata": {
    "collapsed": false,
    "pycharm": {
     "name": "#%%\n"
    }
   }
  }
 ],
 "metadata": {
  "kernelspec": {
   "display_name": "Python 3",
   "language": "python",
   "name": "python3"
  },
  "language_info": {
   "codemirror_mode": {
    "name": "ipython",
    "version": 2
   },
   "file_extension": ".py",
   "mimetype": "text/x-python",
   "name": "python",
   "nbconvert_exporter": "python",
   "pygments_lexer": "ipython2",
   "version": "2.7.6"
  }
 },
 "nbformat": 4,
 "nbformat_minor": 0
}