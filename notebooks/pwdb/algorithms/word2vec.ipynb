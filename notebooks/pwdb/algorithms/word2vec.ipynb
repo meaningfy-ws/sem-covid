{
 "cells": [
  {
   "cell_type": "code",
   "execution_count": 1,
   "metadata": {
    "collapsed": true
   },
   "outputs": [],
   "source": [
    "# Ignore warnings\n",
    "import warnings\n",
    "warnings.filterwarnings('ignore')\n",
    "\n",
    "# Data path\n",
    "import pathlib\n",
    "DATA_FOLDER = pathlib.Path(\"/home/jovyan/work/Dan/data\")\n",
    "\n",
    "import sys\n",
    "sys.path.append('/home/jovyan/work/Dan/upload/src/')\n",
    "\n",
    "# Math stuff\n",
    "import numpy as np\n",
    "from numpy import ndarray\n",
    "\n",
    "# Data visualisation\n",
    "import pandas as pd\n",
    "from pandas import DataFrame\n",
    "\n",
    "# Vectorize algotrithm\n",
    "from gensim.models import Word2Vec\n",
    "\n",
    "# Multidimensional space visualizer\n",
    "from sklearn.manifold import TSNE\n",
    "\n",
    "# Graphic visualization libraries\n",
    "# Bokeh --\n",
    "import bokeh.plotting as bp\n",
    "from bokeh.models import HoverTool, BoxSelectTool\n",
    "from bokeh.plotting import figure, show, output_notebook\n",
    "\n",
    "# Plotly\n",
    "import plotly.express as px\n"
   ]
  },
  {
   "cell_type": "code",
   "execution_count": 2,
   "outputs": [
    {
     "data": {
      "text/plain": "0      [hardship, case, fund, safety, net, selfemploy...\n1      [state, support, tourism, access, financeas, t...\n2      [bank, guarantees, smes, oneperson, enterprise...\n3      [emergency, measures, relating, shorttime, wor...\n4      [airbus, agreement, making, unworked, hours, p...\n                             ...                        \n930    [taxation, measures, enterprisesas, consequenc...\n931    [winwinloanthe, winwin, loan, system, encourag...\n932    [support, measures, businesses, closed, since,...\n933    [new, loans, available, enterprises, brusselst...\n934    [financial, support, teleworkers, increase, te...\nName: Concatenated Data (clean), Length: 935, dtype: object"
     },
     "execution_count": 2,
     "metadata": {},
     "output_type": "execute_result"
    }
   ],
   "source": [
    "# Open pickle file and read data\n",
    "PATH = DATA_FOLDER / 'pwdb/pickle/df_columns_labels.pkl'\n",
    "df = pd.read_pickle(PATH)\n",
    "# Set which data we want to use to train word2vec model\n",
    "columns = df['Concatenated Data (clean)']\n",
    "columns"
   ],
   "metadata": {
    "collapsed": false,
    "pycharm": {
     "name": "#%%\n"
    }
   }
  },
  {
   "cell_type": "code",
   "execution_count": 3,
   "outputs": [],
   "source": [
    "# Insert our data and set minimal word count to 10, and size of each word to 300 vectors\n",
    "dfVec = Word2Vec(columns, window=5, min_count=10, size=300)\n",
    "w2v_dict = {w: vec for w, vec in zip(dfVec.wv.index2word, dfVec.wv.syn0)}\n",
    "w2v = dfVec.wv.syn0"
   ],
   "metadata": {
    "collapsed": false,
    "pycharm": {
     "name": "#%%\n"
    }
   }
  },
  {
   "cell_type": "code",
   "execution_count": 4,
   "outputs": [
    {
     "data": {
      "text/plain": "[('pandemic', 0.9931578040122986),\n ('crisis', 0.9928868412971497),\n ('measures', 0.9882986545562744),\n ('economic', 0.9727696776390076),\n ('affected', 0.9532006978988647),\n ('government', 0.9519243836402893),\n ('health', 0.947557806968689),\n ('emergency', 0.9286361336708069),\n ('spread', 0.9258859753608704),\n ('coronavirus', 0.918663740158081)]"
     },
     "execution_count": 4,
     "metadata": {},
     "output_type": "execute_result"
    }
   ],
   "source": [
    "# Test the result\n",
    "dfVec.most_similar('covid')\n"
   ],
   "metadata": {
    "collapsed": false,
    "pycharm": {
     "name": "#%%\n"
    }
   }
  },
  {
   "cell_type": "code",
   "execution_count": 5,
   "outputs": [
    {
     "data": {
      "text/plain": "[('crisis', 0.9850180149078369),\n ('measures', 0.983648419380188),\n ('pandemic', 0.9828519821166992),\n ('affected', 0.9613243937492371),\n ('government', 0.9601290822029114),\n ('public', 0.9562671780586243),\n ('sector', 0.9558254480361938),\n ('spread', 0.9493266344070435),\n ('act', 0.9464930295944214),\n ('emergency', 0.9463182687759399)]"
     },
     "execution_count": 5,
     "metadata": {},
     "output_type": "execute_result"
    }
   ],
   "source": [
    "dfVec.wv.most_similar_cosmul(positive=['covid', 'health'], negative=['economic'])"
   ],
   "metadata": {
    "collapsed": false,
    "pycharm": {
     "name": "#%%\n"
    }
   }
  },
  {
   "cell_type": "code",
   "execution_count": 6,
   "outputs": [
    {
     "name": "stdout",
     "output_type": "stream",
     "text": [
      "covid\n"
     ]
    }
   ],
   "source": [
    "print(dfVec.wv.doesnt_match(\"covid costs legal\".split()))"
   ],
   "metadata": {
    "collapsed": false,
    "pycharm": {
     "name": "#%%\n"
    }
   }
  },
  {
   "cell_type": "markdown",
   "source": [
    "## Visualizing Word Embeddings using t-SNE\n"
   ],
   "metadata": {
    "collapsed": false,
    "pycharm": {
     "name": "#%% md\n"
    }
   }
  },
  {
   "cell_type": "code",
   "execution_count": 7,
   "outputs": [],
   "source": [
    "# Set words and their vectors in two different lists\n",
    "# Word list\n",
    "labels = []\n",
    "# Vectors list\n",
    "tokens = []\n",
    "\n",
    "for word in dfVec.wv.vocab:\n",
    "    tokens.append(dfVec[word])\n",
    "    labels.append(word)"
   ],
   "metadata": {
    "collapsed": false,
    "pycharm": {
     "name": "#%%\n"
    }
   }
  },
  {
   "cell_type": "markdown",
   "source": [
    "### Fit t-SNE model for all words"
   ],
   "metadata": {
    "collapsed": false,
    "pycharm": {
     "name": "#%% md\n"
    }
   }
  },
  {
   "cell_type": "code",
   "execution_count": 8,
   "outputs": [],
   "source": [
    "\"\"\"\n",
    ":perplexity: The number of nearest neighbors that is used in other manifold learning algorithms\n",
    ":n_components: Dimension of the embedded space\n",
    ":init: Initialization of embedding\n",
    ":n_iter: Maxim number of iterations for the optimization (!!! At least 250 !!!)\n",
    ":random_state: Determines the random number generator\n",
    "\"\"\"\n",
    "tsne_model_all_words = TSNE(perplexity=40, n_components=2, init='pca', n_iter=2500, random_state=32)\n",
    "fit_all_words = tsne_model_all_words.fit_transform(tokens)"
   ],
   "metadata": {
    "collapsed": false,
    "pycharm": {
     "name": "#%%\n"
    }
   }
  },
  {
   "cell_type": "markdown",
   "source": [
    "#### Bokeh"
   ],
   "metadata": {
    "collapsed": false,
    "pycharm": {
     "name": "#%% md\n"
    }
   }
  },
  {
   "cell_type": "code",
   "execution_count": 9,
   "outputs": [
    {
     "data": {
      "text/html": "\n    <div class=\"bk-root\">\n        <a href=\"https://bokeh.org\" target=\"_blank\" class=\"bk-logo bk-logo-small bk-logo-notebook\"></a>\n        <span id=\"1001\">Loading BokehJS ...</span>\n    </div>"
     },
     "metadata": {},
     "output_type": "display_data"
    },
    {
     "data": {
      "application/javascript": "\n(function(root) {\n  function now() {\n    return new Date();\n  }\n\n  var force = true;\n\n  if (typeof root._bokeh_onload_callbacks === \"undefined\" || force === true) {\n    root._bokeh_onload_callbacks = [];\n    root._bokeh_is_loading = undefined;\n  }\n\n  var JS_MIME_TYPE = 'application/javascript';\n  var HTML_MIME_TYPE = 'text/html';\n  var EXEC_MIME_TYPE = 'application/vnd.bokehjs_exec.v0+json';\n  var CLASS_NAME = 'output_bokeh rendered_html';\n\n  /**\n   * Render data to the DOM node\n   */\n  function render(props, node) {\n    var script = document.createElement(\"script\");\n    node.appendChild(script);\n  }\n\n  /**\n   * Handle when an output is cleared or removed\n   */\n  function handleClearOutput(event, handle) {\n    var cell = handle.cell;\n\n    var id = cell.output_area._bokeh_element_id;\n    var server_id = cell.output_area._bokeh_server_id;\n    // Clean up Bokeh references\n    if (id != null && id in Bokeh.index) {\n      Bokeh.index[id].model.document.clear();\n      delete Bokeh.index[id];\n    }\n\n    if (server_id !== undefined) {\n      // Clean up Bokeh references\n      var cmd = \"from bokeh.io.state import curstate; print(curstate().uuid_to_server['\" + server_id + \"'].get_sessions()[0].document.roots[0]._id)\";\n      cell.notebook.kernel.execute(cmd, {\n        iopub: {\n          output: function(msg) {\n            var id = msg.content.text.trim();\n            if (id in Bokeh.index) {\n              Bokeh.index[id].model.document.clear();\n              delete Bokeh.index[id];\n            }\n          }\n        }\n      });\n      // Destroy server and session\n      var cmd = \"import bokeh.io.notebook as ion; ion.destroy_server('\" + server_id + \"')\";\n      cell.notebook.kernel.execute(cmd);\n    }\n  }\n\n  /**\n   * Handle when a new output is added\n   */\n  function handleAddOutput(event, handle) {\n    var output_area = handle.output_area;\n    var output = handle.output;\n\n    // limit handleAddOutput to display_data with EXEC_MIME_TYPE content only\n    if ((output.output_type != \"display_data\") || (!output.data.hasOwnProperty(EXEC_MIME_TYPE))) {\n      return\n    }\n\n    var toinsert = output_area.element.find(\".\" + CLASS_NAME.split(' ')[0]);\n\n    if (output.metadata[EXEC_MIME_TYPE][\"id\"] !== undefined) {\n      toinsert[toinsert.length - 1].firstChild.textContent = output.data[JS_MIME_TYPE];\n      // store reference to embed id on output_area\n      output_area._bokeh_element_id = output.metadata[EXEC_MIME_TYPE][\"id\"];\n    }\n    if (output.metadata[EXEC_MIME_TYPE][\"server_id\"] !== undefined) {\n      var bk_div = document.createElement(\"div\");\n      bk_div.innerHTML = output.data[HTML_MIME_TYPE];\n      var script_attrs = bk_div.children[0].attributes;\n      for (var i = 0; i < script_attrs.length; i++) {\n        toinsert[toinsert.length - 1].firstChild.setAttribute(script_attrs[i].name, script_attrs[i].value);\n        toinsert[toinsert.length - 1].firstChild.textContent = bk_div.children[0].textContent\n      }\n      // store reference to server id on output_area\n      output_area._bokeh_server_id = output.metadata[EXEC_MIME_TYPE][\"server_id\"];\n    }\n  }\n\n  function register_renderer(events, OutputArea) {\n\n    function append_mime(data, metadata, element) {\n      // create a DOM node to render to\n      var toinsert = this.create_output_subarea(\n        metadata,\n        CLASS_NAME,\n        EXEC_MIME_TYPE\n      );\n      this.keyboard_manager.register_events(toinsert);\n      // Render to node\n      var props = {data: data, metadata: metadata[EXEC_MIME_TYPE]};\n      render(props, toinsert[toinsert.length - 1]);\n      element.append(toinsert);\n      return toinsert\n    }\n\n    /* Handle when an output is cleared or removed */\n    events.on('clear_output.CodeCell', handleClearOutput);\n    events.on('delete.Cell', handleClearOutput);\n\n    /* Handle when a new output is added */\n    events.on('output_added.OutputArea', handleAddOutput);\n\n    /**\n     * Register the mime type and append_mime function with output_area\n     */\n    OutputArea.prototype.register_mime_type(EXEC_MIME_TYPE, append_mime, {\n      /* Is output safe? */\n      safe: true,\n      /* Index of renderer in `output_area.display_order` */\n      index: 0\n    });\n  }\n\n  // register the mime type if in Jupyter Notebook environment and previously unregistered\n  if (root.Jupyter !== undefined) {\n    var events = require('base/js/events');\n    var OutputArea = require('notebook/js/outputarea').OutputArea;\n\n    if (OutputArea.prototype.mime_types().indexOf(EXEC_MIME_TYPE) == -1) {\n      register_renderer(events, OutputArea);\n    }\n  }\n\n  \n  if (typeof (root._bokeh_timeout) === \"undefined\" || force === true) {\n    root._bokeh_timeout = Date.now() + 5000;\n    root._bokeh_failed_load = false;\n  }\n\n  var NB_LOAD_WARNING = {'data': {'text/html':\n     \"<div style='background-color: #fdd'>\\n\"+\n     \"<p>\\n\"+\n     \"BokehJS does not appear to have successfully loaded. If loading BokehJS from CDN, this \\n\"+\n     \"may be due to a slow or bad network connection. Possible fixes:\\n\"+\n     \"</p>\\n\"+\n     \"<ul>\\n\"+\n     \"<li>re-rerun `output_notebook()` to attempt to load from CDN again, or</li>\\n\"+\n     \"<li>use INLINE resources instead, as so:</li>\\n\"+\n     \"</ul>\\n\"+\n     \"<code>\\n\"+\n     \"from bokeh.resources import INLINE\\n\"+\n     \"output_notebook(resources=INLINE)\\n\"+\n     \"</code>\\n\"+\n     \"</div>\"}};\n\n  function display_loaded() {\n    var el = document.getElementById(\"1001\");\n    if (el != null) {\n      el.textContent = \"BokehJS is loading...\";\n    }\n    if (root.Bokeh !== undefined) {\n      if (el != null) {\n        el.textContent = \"BokehJS \" + root.Bokeh.version + \" successfully loaded.\";\n      }\n    } else if (Date.now() < root._bokeh_timeout) {\n      setTimeout(display_loaded, 100)\n    }\n  }\n\n\n  function run_callbacks() {\n    try {\n      root._bokeh_onload_callbacks.forEach(function(callback) {\n        if (callback != null)\n          callback();\n      });\n    } finally {\n      delete root._bokeh_onload_callbacks\n    }\n    console.debug(\"Bokeh: all callbacks have finished\");\n  }\n\n  function load_libs(css_urls, js_urls, callback) {\n    if (css_urls == null) css_urls = [];\n    if (js_urls == null) js_urls = [];\n\n    root._bokeh_onload_callbacks.push(callback);\n    if (root._bokeh_is_loading > 0) {\n      console.debug(\"Bokeh: BokehJS is being loaded, scheduling callback at\", now());\n      return null;\n    }\n    if (js_urls == null || js_urls.length === 0) {\n      run_callbacks();\n      return null;\n    }\n    console.debug(\"Bokeh: BokehJS not loaded, scheduling load and callback at\", now());\n    root._bokeh_is_loading = css_urls.length + js_urls.length;\n\n    function on_load() {\n      root._bokeh_is_loading--;\n      if (root._bokeh_is_loading === 0) {\n        console.debug(\"Bokeh: all BokehJS libraries/stylesheets loaded\");\n        run_callbacks()\n      }\n    }\n\n    function on_error() {\n      console.error(\"failed to load \" + url);\n    }\n\n    for (var i = 0; i < css_urls.length; i++) {\n      var url = css_urls[i];\n      const element = document.createElement(\"link\");\n      element.onload = on_load;\n      element.onerror = on_error;\n      element.rel = \"stylesheet\";\n      element.type = \"text/css\";\n      element.href = url;\n      console.debug(\"Bokeh: injecting link tag for BokehJS stylesheet: \", url);\n      document.body.appendChild(element);\n    }\n\n    const hashes = {\"https://cdn.bokeh.org/bokeh/release/bokeh-2.2.3.min.js\": \"T2yuo9Oe71Cz/I4X9Ac5+gpEa5a8PpJCDlqKYO0CfAuEszu1JrXLl8YugMqYe3sM\", \"https://cdn.bokeh.org/bokeh/release/bokeh-widgets-2.2.3.min.js\": \"98GDGJ0kOMCUMUePhksaQ/GYgB3+NH9h996V88sh3aOiUNX3N+fLXAtry6xctSZ6\", \"https://cdn.bokeh.org/bokeh/release/bokeh-tables-2.2.3.min.js\": \"89bArO+nlbP3sgakeHjCo1JYxYR5wufVgA3IbUvDY+K7w4zyxJqssu7wVnfeKCq8\"};\n\n    for (var i = 0; i < js_urls.length; i++) {\n      var url = js_urls[i];\n      var element = document.createElement('script');\n      element.onload = on_load;\n      element.onerror = on_error;\n      element.async = false;\n      element.src = url;\n      if (url in hashes) {\n        element.crossOrigin = \"anonymous\";\n        element.integrity = \"sha384-\" + hashes[url];\n      }\n      console.debug(\"Bokeh: injecting script tag for BokehJS library: \", url);\n      document.head.appendChild(element);\n    }\n  };\n\n  function inject_raw_css(css) {\n    const element = document.createElement(\"style\");\n    element.appendChild(document.createTextNode(css));\n    document.body.appendChild(element);\n  }\n\n  \n  var js_urls = [\"https://cdn.bokeh.org/bokeh/release/bokeh-2.2.3.min.js\", \"https://cdn.bokeh.org/bokeh/release/bokeh-widgets-2.2.3.min.js\", \"https://cdn.bokeh.org/bokeh/release/bokeh-tables-2.2.3.min.js\"];\n  var css_urls = [];\n  \n\n  var inline_js = [\n    function(Bokeh) {\n      Bokeh.set_log_level(\"info\");\n    },\n    function(Bokeh) {\n    \n    \n    }\n  ];\n\n  function run_inline_js() {\n    \n    if (root.Bokeh !== undefined || force === true) {\n      \n    for (var i = 0; i < inline_js.length; i++) {\n      inline_js[i].call(root, root.Bokeh);\n    }\n    if (force === true) {\n        display_loaded();\n      }} else if (Date.now() < root._bokeh_timeout) {\n      setTimeout(run_inline_js, 100);\n    } else if (!root._bokeh_failed_load) {\n      console.log(\"Bokeh: BokehJS failed to load within specified timeout.\");\n      root._bokeh_failed_load = true;\n    } else if (force !== true) {\n      var cell = $(document.getElementById(\"1001\")).parents('.cell').data().cell;\n      cell.output_area.append_execute_result(NB_LOAD_WARNING)\n    }\n\n  }\n\n  if (root._bokeh_is_loading === 0) {\n    console.debug(\"Bokeh: BokehJS loaded, going straight to plotting\");\n    run_inline_js();\n  } else {\n    load_libs(css_urls, js_urls, function() {\n      console.debug(\"Bokeh: BokehJS plotting callback run at\", now());\n      run_inline_js();\n    });\n  }\n}(window));",
      "application/vnd.bokehjs_load.v0+json": "\n(function(root) {\n  function now() {\n    return new Date();\n  }\n\n  var force = true;\n\n  if (typeof root._bokeh_onload_callbacks === \"undefined\" || force === true) {\n    root._bokeh_onload_callbacks = [];\n    root._bokeh_is_loading = undefined;\n  }\n\n  \n\n  \n  if (typeof (root._bokeh_timeout) === \"undefined\" || force === true) {\n    root._bokeh_timeout = Date.now() + 5000;\n    root._bokeh_failed_load = false;\n  }\n\n  var NB_LOAD_WARNING = {'data': {'text/html':\n     \"<div style='background-color: #fdd'>\\n\"+\n     \"<p>\\n\"+\n     \"BokehJS does not appear to have successfully loaded. If loading BokehJS from CDN, this \\n\"+\n     \"may be due to a slow or bad network connection. Possible fixes:\\n\"+\n     \"</p>\\n\"+\n     \"<ul>\\n\"+\n     \"<li>re-rerun `output_notebook()` to attempt to load from CDN again, or</li>\\n\"+\n     \"<li>use INLINE resources instead, as so:</li>\\n\"+\n     \"</ul>\\n\"+\n     \"<code>\\n\"+\n     \"from bokeh.resources import INLINE\\n\"+\n     \"output_notebook(resources=INLINE)\\n\"+\n     \"</code>\\n\"+\n     \"</div>\"}};\n\n  function display_loaded() {\n    var el = document.getElementById(\"1001\");\n    if (el != null) {\n      el.textContent = \"BokehJS is loading...\";\n    }\n    if (root.Bokeh !== undefined) {\n      if (el != null) {\n        el.textContent = \"BokehJS \" + root.Bokeh.version + \" successfully loaded.\";\n      }\n    } else if (Date.now() < root._bokeh_timeout) {\n      setTimeout(display_loaded, 100)\n    }\n  }\n\n\n  function run_callbacks() {\n    try {\n      root._bokeh_onload_callbacks.forEach(function(callback) {\n        if (callback != null)\n          callback();\n      });\n    } finally {\n      delete root._bokeh_onload_callbacks\n    }\n    console.debug(\"Bokeh: all callbacks have finished\");\n  }\n\n  function load_libs(css_urls, js_urls, callback) {\n    if (css_urls == null) css_urls = [];\n    if (js_urls == null) js_urls = [];\n\n    root._bokeh_onload_callbacks.push(callback);\n    if (root._bokeh_is_loading > 0) {\n      console.debug(\"Bokeh: BokehJS is being loaded, scheduling callback at\", now());\n      return null;\n    }\n    if (js_urls == null || js_urls.length === 0) {\n      run_callbacks();\n      return null;\n    }\n    console.debug(\"Bokeh: BokehJS not loaded, scheduling load and callback at\", now());\n    root._bokeh_is_loading = css_urls.length + js_urls.length;\n\n    function on_load() {\n      root._bokeh_is_loading--;\n      if (root._bokeh_is_loading === 0) {\n        console.debug(\"Bokeh: all BokehJS libraries/stylesheets loaded\");\n        run_callbacks()\n      }\n    }\n\n    function on_error() {\n      console.error(\"failed to load \" + url);\n    }\n\n    for (var i = 0; i < css_urls.length; i++) {\n      var url = css_urls[i];\n      const element = document.createElement(\"link\");\n      element.onload = on_load;\n      element.onerror = on_error;\n      element.rel = \"stylesheet\";\n      element.type = \"text/css\";\n      element.href = url;\n      console.debug(\"Bokeh: injecting link tag for BokehJS stylesheet: \", url);\n      document.body.appendChild(element);\n    }\n\n    const hashes = {\"https://cdn.bokeh.org/bokeh/release/bokeh-2.2.3.min.js\": \"T2yuo9Oe71Cz/I4X9Ac5+gpEa5a8PpJCDlqKYO0CfAuEszu1JrXLl8YugMqYe3sM\", \"https://cdn.bokeh.org/bokeh/release/bokeh-widgets-2.2.3.min.js\": \"98GDGJ0kOMCUMUePhksaQ/GYgB3+NH9h996V88sh3aOiUNX3N+fLXAtry6xctSZ6\", \"https://cdn.bokeh.org/bokeh/release/bokeh-tables-2.2.3.min.js\": \"89bArO+nlbP3sgakeHjCo1JYxYR5wufVgA3IbUvDY+K7w4zyxJqssu7wVnfeKCq8\"};\n\n    for (var i = 0; i < js_urls.length; i++) {\n      var url = js_urls[i];\n      var element = document.createElement('script');\n      element.onload = on_load;\n      element.onerror = on_error;\n      element.async = false;\n      element.src = url;\n      if (url in hashes) {\n        element.crossOrigin = \"anonymous\";\n        element.integrity = \"sha384-\" + hashes[url];\n      }\n      console.debug(\"Bokeh: injecting script tag for BokehJS library: \", url);\n      document.head.appendChild(element);\n    }\n  };\n\n  function inject_raw_css(css) {\n    const element = document.createElement(\"style\");\n    element.appendChild(document.createTextNode(css));\n    document.body.appendChild(element);\n  }\n\n  \n  var js_urls = [\"https://cdn.bokeh.org/bokeh/release/bokeh-2.2.3.min.js\", \"https://cdn.bokeh.org/bokeh/release/bokeh-widgets-2.2.3.min.js\", \"https://cdn.bokeh.org/bokeh/release/bokeh-tables-2.2.3.min.js\"];\n  var css_urls = [];\n  \n\n  var inline_js = [\n    function(Bokeh) {\n      Bokeh.set_log_level(\"info\");\n    },\n    function(Bokeh) {\n    \n    \n    }\n  ];\n\n  function run_inline_js() {\n    \n    if (root.Bokeh !== undefined || force === true) {\n      \n    for (var i = 0; i < inline_js.length; i++) {\n      inline_js[i].call(root, root.Bokeh);\n    }\n    if (force === true) {\n        display_loaded();\n      }} else if (Date.now() < root._bokeh_timeout) {\n      setTimeout(run_inline_js, 100);\n    } else if (!root._bokeh_failed_load) {\n      console.log(\"Bokeh: BokehJS failed to load within specified timeout.\");\n      root._bokeh_failed_load = true;\n    } else if (force !== true) {\n      var cell = $(document.getElementById(\"1001\")).parents('.cell').data().cell;\n      cell.output_area.append_execute_result(NB_LOAD_WARNING)\n    }\n\n  }\n\n  if (root._bokeh_is_loading === 0) {\n    console.debug(\"Bokeh: BokehJS loaded, going straight to plotting\");\n    run_inline_js();\n  } else {\n    load_libs(css_urls, js_urls, function() {\n      console.debug(\"Bokeh: BokehJS plotting callback run at\", now());\n      run_inline_js();\n    });\n  }\n}(window));"
     },
     "metadata": {},
     "output_type": "display_data"
    },
    {
     "data": {
      "text/html": "\n\n\n\n\n\n  <div class=\"bk-root\" id=\"03d1a1c6-b236-4357-ad36-1928c46b3ecd\" data-root-id=\"1002\"></div>\n"
     },
     "metadata": {},
     "output_type": "display_data"
    },
    {
     "data": {
      "application/javascript": "(function(root) {\n  function embed_document(root) {\n    \n  var docs_json = {\"f63bd02b-9e38-4902-8aac-d2b031dd70bf\":{\"roots\":{\"references\":[{\"attributes\":{\"min_border\":1,\"plot_width\":700,\"renderers\":[{\"id\":\"1029\"}],\"title\":{\"id\":\"1003\"},\"toolbar\":{\"id\":\"1019\"},\"x_range\":{\"id\":\"1005\"},\"x_scale\":{\"id\":\"1009\"},\"y_range\":{\"id\":\"1007\"},\"y_scale\":{\"id\":\"1011\"}},\"id\":\"1002\",\"subtype\":\"Figure\",\"type\":\"Plot\"},{\"attributes\":{\"data_source\":{\"id\":\"1025\"},\"glyph\":{\"id\":\"1027\"},\"hover_glyph\":null,\"muted_glyph\":null,\"nonselection_glyph\":{\"id\":\"1028\"},\"selection_glyph\":null,\"view\":{\"id\":\"1030\"}},\"id\":\"1029\",\"type\":\"GlyphRenderer\"},{\"attributes\":{},\"id\":\"1013\",\"type\":\"PanTool\"},{\"attributes\":{},\"id\":\"1014\",\"type\":\"WheelZoomTool\"},{\"attributes\":{\"fill_color\":{\"value\":\"#1f77b4\"},\"line_color\":{\"value\":\"#1f77b4\"},\"x\":{\"field\":\"x\"},\"y\":{\"field\":\"y\"}},\"id\":\"1027\",\"type\":\"Scatter\"},{\"attributes\":{},\"id\":\"1007\",\"type\":\"DataRange1d\"},{\"attributes\":{\"active_drag\":\"auto\",\"active_inspect\":\"auto\",\"active_multi\":null,\"active_scroll\":\"auto\",\"active_tap\":\"auto\",\"tools\":[{\"id\":\"1013\"},{\"id\":\"1014\"},{\"id\":\"1015\"},{\"id\":\"1016\"},{\"id\":\"1017\"}]},\"id\":\"1019\",\"type\":\"Toolbar\"},{\"attributes\":{\"overlay\":{\"id\":\"1018\"}},\"id\":\"1015\",\"type\":\"BoxZoomTool\"},{\"attributes\":{},\"id\":\"1016\",\"type\":\"ResetTool\"},{\"attributes\":{\"callback\":null,\"tooltips\":[[\"word\",\"@words\"]]},\"id\":\"1017\",\"type\":\"HoverTool\"},{\"attributes\":{\"source\":{\"id\":\"1025\"}},\"id\":\"1030\",\"type\":\"CDSView\"},{\"attributes\":{\"fill_alpha\":{\"value\":0.1},\"fill_color\":{\"value\":\"#1f77b4\"},\"line_alpha\":{\"value\":0.1},\"line_color\":{\"value\":\"#1f77b4\"},\"x\":{\"field\":\"x\"},\"y\":{\"field\":\"y\"}},\"id\":\"1028\",\"type\":\"Scatter\"},{\"attributes\":{},\"id\":\"1011\",\"type\":\"LinearScale\"},{\"attributes\":{\"data\":{\"index\":[0,1,2,3,4,5,6,7,8,9,10,11,12,13,14,15,16,17,18,19,20,21,22,23,24,25,26,27,28,29,30,31,32,33,34,35,36,37,38,39,40,41,42,43,44,45,46,47,48,49,50,51,52,53,54,55,56,57,58,59,60,61,62,63,64,65,66,67,68,69,70,71,72,73,74,75,76,77,78,79,80,81,82,83,84,85,86,87,88,89,90,91,92,93,94,95,96,97,98,99,100,101,102,103,104,105,106,107,108,109,110,111,112,113,114,115,116,117,118,119,120,121,122,123,124,125,126,127,128,129,130,131,132,133,134,135,136,137,138,139,140,141,142,143,144,145,146,147,148,149,150,151,152,153,154,155,156,157,158,159,160,161,162,163,164,165,166,167,168,169,170,171,172,173,174,175,176,177,178,179,180,181,182,183,184,185,186,187,188,189,190,191,192,193,194,195,196,197,198,199,200,201,202,203,204,205,206,207,208,209,210,211,212,213,214,215,216,217,218,219,220,221,222,223,224,225,226,227,228,229,230,231,232,233,234,235,236,237,238,239,240,241,242,243,244,245,246,247,248,249,250,251,252,253,254,255,256,257,258,259,260,261,262,263,264,265,266,267,268,269,270,271,272,273,274,275,276,277,278,279,280,281,282,283,284,285,286,287,288,289,290,291,292,293,294,295,296,297,298,299,300,301,302,303,304,305,306,307,308,309,310,311,312,313,314,315,316,317,318,319,320,321,322,323,324,325,326,327,328,329,330,331,332,333,334,335,336,337,338,339,340,341,342,343,344,345,346,347,348,349,350,351,352,353,354,355,356,357,358,359,360,361,362,363,364,365,366,367,368,369,370,371,372,373,374,375,376,377,378,379,380,381,382,383,384,385,386,387,388,389,390,391,392,393,394,395,396,397,398,399,400,401,402,403,404,405,406,407,408,409,410,411,412,413,414,415,416,417,418,419,420,421,422,423,424,425,426,427,428,429,430,431,432,433,434,435,436,437,438,439,440,441,442,443,444,445,446,447,448,449,450,451,452,453,454,455,456,457,458,459,460,461,462,463,464,465,466,467,468,469,470,471,472,473,474,475,476,477,478,479,480,481,482,483,484,485,486,487,488,489,490,491,492,493,494,495,496,497,498,499,500,501,502,503,504,505,506,507,508,509,510,511,512,513,514,515,516,517,518,519,520,521,522,523,524,525,526,527,528,529,530,531,532,533,534,535,536,537,538,539,540,541,542,543,544,545,546,547,548,549,550,551,552,553,554,555,556,557,558,559,560,561,562,563,564,565,566,567,568,569,570,571,572,573,574,575,576,577,578,579,580,581,582,583,584,585,586,587,588,589,590,591,592,593,594,595,596,597,598,599,600,601,602,603,604,605,606,607,608,609,610,611,612,613,614,615,616,617,618,619,620,621,622,623,624,625,626,627,628,629,630,631,632,633,634,635,636,637,638,639,640,641,642,643,644,645,646,647,648,649,650,651,652,653,654,655,656,657,658,659,660,661,662,663,664,665,666,667,668,669,670,671,672,673,674,675,676,677,678,679,680,681,682,683,684,685,686,687,688,689,690,691,692,693,694,695,696,697,698,699,700,701,702,703,704,705,706,707,708,709,710,711,712,713,714,715,716,717,718,719,720,721,722,723,724,725,726,727,728,729,730,731,732,733,734,735,736,737,738,739,740,741,742,743,744,745,746,747,748,749,750,751,752,753,754,755,756,757,758,759,760,761,762,763,764,765,766,767,768,769,770,771,772,773,774,775,776,777,778,779,780,781,782,783,784,785,786,787,788,789,790,791,792,793,794,795,796,797,798,799,800,801,802,803,804,805,806,807,808,809,810,811,812,813,814,815,816,817,818,819,820,821,822,823,824,825,826,827,828,829,830,831,832,833,834,835,836,837,838,839,840,841,842,843,844,845,846,847,848,849,850,851,852,853,854,855,856,857,858,859,860,861,862,863,864,865,866,867,868,869,870,871,872,873,874,875,876,877,878,879,880,881,882,883,884,885,886,887,888,889,890,891,892,893,894,895,896,897,898,899,900,901,902,903,904,905,906,907,908,909,910,911,912,913,914,915,916,917,918,919,920,921,922,923,924,925,926,927,928,929,930,931,932,933,934,935,936,937,938,939,940,941,942,943,944,945,946,947,948,949,950,951,952,953,954,955,956,957,958,959,960,961,962,963,964,965,966,967,968,969,970,971,972,973,974,975,976,977,978,979,980,981,982,983,984,985,986,987,988,989,990,991,992,993,994,995,996,997,998,999,1000,1001,1002,1003,1004,1005,1006,1007,1008,1009,1010,1011,1012,1013,1014,1015,1016,1017,1018,1019,1020,1021,1022,1023,1024,1025,1026,1027,1028,1029,1030,1031,1032,1033,1034,1035,1036,1037,1038,1039,1040,1041,1042,1043,1044,1045,1046,1047,1048,1049,1050,1051,1052,1053,1054,1055,1056,1057,1058,1059,1060,1061,1062,1063,1064,1065,1066,1067,1068,1069,1070,1071,1072,1073,1074,1075,1076,1077,1078,1079,1080,1081,1082,1083,1084,1085,1086,1087,1088,1089,1090,1091,1092,1093,1094,1095,1096,1097,1098,1099,1100,1101,1102,1103,1104,1105,1106,1107,1108,1109,1110,1111,1112,1113,1114,1115,1116,1117,1118,1119,1120,1121,1122,1123,1124,1125,1126,1127,1128,1129,1130,1131,1132,1133,1134,1135,1136,1137,1138,1139,1140,1141,1142,1143,1144,1145,1146,1147,1148,1149,1150,1151,1152,1153,1154,1155,1156,1157,1158,1159,1160,1161,1162,1163,1164,1165,1166,1167,1168,1169,1170,1171,1172,1173,1174,1175,1176,1177,1178,1179,1180,1181,1182,1183,1184,1185,1186,1187,1188,1189,1190,1191,1192,1193,1194,1195,1196,1197,1198,1199,1200,1201,1202,1203,1204,1205,1206,1207,1208,1209,1210,1211,1212,1213,1214,1215,1216,1217,1218,1219,1220,1221,1222,1223,1224,1225,1226,1227,1228,1229,1230,1231,1232,1233,1234,1235,1236,1237,1238,1239,1240,1241,1242,1243,1244,1245,1246,1247,1248,1249,1250,1251,1252,1253,1254,1255,1256,1257,1258,1259,1260,1261,1262,1263,1264,1265,1266,1267,1268,1269,1270,1271,1272,1273,1274,1275,1276,1277,1278,1279,1280,1281,1282,1283,1284,1285,1286,1287,1288,1289,1290,1291,1292,1293,1294,1295,1296,1297,1298,1299,1300,1301,1302,1303,1304,1305,1306,1307,1308,1309,1310,1311,1312,1313,1314,1315,1316,1317,1318,1319,1320,1321,1322,1323,1324,1325,1326,1327,1328,1329,1330,1331,1332,1333,1334,1335,1336,1337,1338,1339,1340,1341,1342,1343,1344,1345,1346,1347,1348,1349,1350,1351,1352,1353,1354,1355,1356,1357,1358,1359,1360,1361,1362,1363,1364,1365,1366,1367,1368,1369,1370,1371,1372,1373,1374,1375,1376,1377,1378,1379,1380,1381,1382,1383,1384,1385,1386,1387,1388,1389,1390,1391,1392,1393,1394,1395,1396,1397,1398,1399,1400,1401,1402,1403,1404,1405,1406,1407,1408,1409,1410,1411,1412,1413,1414,1415,1416,1417,1418,1419,1420,1421,1422,1423,1424,1425,1426,1427,1428,1429,1430,1431,1432,1433,1434,1435,1436,1437,1438,1439,1440,1441,1442,1443,1444,1445,1446,1447,1448,1449,1450,1451,1452,1453,1454,1455,1456,1457,1458,1459,1460,1461,1462,1463,1464,1465,1466,1467,1468,1469,1470,1471,1472,1473,1474,1475,1476,1477,1478,1479,1480,1481,1482,1483,1484,1485,1486,1487,1488,1489,1490,1491,1492,1493,1494,1495,1496,1497,1498,1499,1500,1501,1502,1503,1504,1505,1506,1507,1508,1509,1510,1511,1512,1513,1514,1515,1516,1517,1518,1519,1520,1521,1522,1523,1524,1525,1526,1527,1528,1529,1530,1531,1532,1533,1534,1535,1536,1537,1538,1539,1540,1541,1542,1543,1544,1545,1546,1547,1548,1549,1550,1551,1552,1553,1554,1555,1556,1557,1558,1559,1560,1561,1562,1563,1564,1565,1566,1567,1568,1569,1570,1571,1572,1573,1574,1575,1576,1577,1578,1579,1580,1581,1582,1583,1584,1585,1586,1587,1588,1589,1590,1591,1592,1593,1594,1595,1596,1597,1598,1599,1600,1601,1602,1603,1604,1605,1606,1607,1608,1609,1610,1611,1612,1613,1614,1615,1616,1617,1618,1619,1620,1621,1622,1623,1624,1625,1626,1627,1628,1629,1630,1631,1632,1633,1634,1635,1636,1637,1638,1639,1640,1641,1642,1643,1644,1645,1646,1647,1648,1649,1650,1651,1652,1653,1654,1655,1656,1657,1658,1659,1660,1661,1662,1663,1664,1665,1666,1667,1668,1669,1670,1671,1672,1673,1674,1675,1676,1677,1678,1679,1680,1681,1682,1683,1684,1685,1686,1687,1688,1689,1690,1691,1692,1693,1694,1695,1696,1697,1698,1699,1700,1701,1702,1703,1704,1705,1706,1707,1708,1709,1710,1711,1712,1713,1714,1715,1716,1717,1718,1719,1720,1721,1722,1723,1724,1725,1726,1727,1728,1729,1730,1731,1732,1733,1734,1735,1736,1737,1738,1739,1740,1741,1742,1743,1744,1745,1746,1747,1748,1749,1750,1751,1752,1753,1754,1755,1756,1757,1758,1759,1760,1761,1762,1763,1764,1765,1766,1767,1768,1769,1770,1771,1772,1773,1774,1775,1776,1777,1778,1779,1780,1781,1782,1783,1784,1785,1786,1787,1788,1789,1790,1791,1792,1793,1794,1795,1796,1797,1798,1799,1800,1801,1802,1803,1804,1805,1806,1807,1808,1809,1810,1811,1812,1813,1814,1815,1816,1817,1818,1819,1820,1821,1822,1823,1824,1825,1826,1827,1828,1829,1830,1831,1832,1833,1834,1835,1836,1837,1838,1839,1840,1841,1842,1843,1844,1845,1846,1847,1848,1849,1850,1851,1852,1853,1854,1855,1856,1857,1858,1859,1860,1861,1862,1863,1864,1865,1866,1867,1868,1869,1870,1871,1872,1873,1874,1875,1876,1877,1878,1879,1880,1881,1882,1883,1884,1885,1886,1887,1888,1889,1890,1891,1892,1893,1894,1895,1896,1897,1898,1899,1900,1901,1902,1903,1904,1905,1906,1907,1908,1909,1910,1911,1912,1913,1914,1915,1916,1917,1918,1919,1920,1921,1922,1923,1924,1925,1926,1927,1928,1929,1930,1931,1932,1933,1934,1935,1936,1937,1938,1939,1940,1941,1942,1943,1944,1945,1946,1947,1948,1949,1950,1951,1952,1953,1954,1955,1956,1957,1958,1959,1960,1961,1962,1963,1964,1965,1966,1967,1968,1969,1970,1971,1972,1973,1974,1975,1976,1977,1978,1979,1980,1981,1982,1983,1984,1985,1986,1987,1988,1989,1990,1991,1992,1993,1994,1995,1996,1997,1998,1999,2000,2001,2002,2003,2004,2005,2006,2007,2008,2009,2010,2011,2012,2013,2014,2015,2016,2017,2018,2019,2020,2021,2022,2023,2024,2025,2026,2027,2028,2029,2030,2031,2032,2033,2034,2035,2036,2037,2038,2039,2040,2041,2042,2043,2044,2045,2046,2047,2048,2049,2050,2051,2052,2053,2054,2055,2056,2057,2058,2059,2060,2061,2062,2063,2064,2065,2066,2067,2068,2069,2070,2071,2072,2073,2074,2075,2076,2077,2078,2079,2080,2081,2082,2083,2084,2085,2086,2087,2088,2089,2090,2091,2092,2093,2094,2095,2096,2097,2098,2099,2100,2101,2102,2103,2104,2105,2106,2107,2108,2109,2110,2111,2112,2113,2114,2115,2116,2117,2118,2119,2120,2121,2122,2123,2124,2125,2126,2127,2128,2129,2130,2131,2132,2133,2134,2135,2136,2137,2138,2139,2140,2141,2142,2143,2144,2145,2146,2147,2148,2149,2150,2151,2152,2153,2154,2155,2156,2157,2158,2159,2160,2161,2162,2163,2164,2165,2166,2167,2168,2169,2170,2171,2172,2173,2174,2175,2176,2177,2178,2179,2180,2181,2182,2183,2184,2185,2186,2187,2188,2189,2190,2191,2192,2193,2194,2195,2196,2197,2198,2199,2200,2201,2202,2203,2204,2205,2206,2207,2208,2209,2210,2211,2212,2213,2214,2215,2216,2217,2218,2219,2220,2221,2222,2223,2224,2225,2226,2227,2228,2229,2230,2231,2232,2233,2234,2235,2236,2237,2238,2239,2240,2241,2242,2243,2244,2245,2246,2247,2248,2249,2250,2251,2252,2253,2254,2255,2256,2257,2258,2259,2260,2261,2262,2263,2264,2265,2266,2267,2268,2269,2270,2271,2272,2273,2274,2275,2276,2277,2278,2279,2280,2281,2282,2283,2284,2285],\"words\":[\"hardship\",\"case\",\"fund\",\"safety\",\"net\",\"part\",\"billion\",\"mitigate\",\"effects\",\"corona\",\"crisis\",\"austrian\",\"national\",\"government\",\"social\",\"partners\",\"presented\",\"march\",\"also\",\"two\",\"funds\",\"one\",\"selfemployed\",\"person\",\"companies\",\"businesses\",\"complementary\",\"measures\",\"see\",\"target\",\"groups\",\"would\",\"able\",\"profit\",\"shorttime\",\"working\",\"schemes\",\"support\",\"oneoff\",\"payment\",\"paid\",\"back\",\"addition\",\"affected\",\"owners\",\"may\",\"obtain\",\"emergency\",\"payments\",\"cannot\",\"divided\",\"phase\",\"applications\",\"possible\",\"april\",\"eligible\",\"prove\",\"longer\",\"cover\",\"costs\",\"ordered\",\"ban\",\"entry\",\"due\",\"covid\",\"drop\",\"sales\",\"least\",\"compared\",\"month\",\"previous\",\"year\",\"amount\",\"funding\",\"income\",\"upper\",\"threshold\",\"grant\",\"last\",\"tax\",\"assessment\",\"available\",\"applies\",\"enterprises\",\"including\",\"agricultural\",\"forestry\",\"private\",\"accommodation\",\"rents\",\"freelance\",\"workers\",\"start\",\"depends\",\"loss\",\"maximum\",\"per\",\"three\",\"months\",\"small\",\"less\",\"ten\",\"employees\",\"liberal\",\"professions\",\"group\",\"negotiations\",\"currently\",\"ongoing\",\"applicants\",\"regardless\",\"whether\",\"application\",\"already\",\"submitted\",\"total\",\"general\",\"january\",\"\",\"state\",\"tourism\",\"access\",\"industry\",\"among\",\"first\",\"sectors\",\"closure\",\"travel\",\"restrictions\",\"following\",\"dialogue\",\"announced\",\"package\",\"help\",\"ensure\",\"liquidity\",\"medium\",\"operating\",\"well\",\"related\",\"business\",\"activities\",\"ie\",\"transport\",\"services\",\"next\",\"measure\",\"work\",\"subsidy\",\"fixed\",\"initially\",\"bank\",\"guarantees\",\"amounting\",\"million\",\"foreseen\",\"increased\",\"around\",\"issuing\",\"administration\",\"fee\",\"provision\",\"covered\",\"financial\",\"administered\",\"specialised\",\"regional\",\"states\",\"declared\",\"taking\",\"interest\",\"loans\",\"banks\",\"keep\",\"rates\",\"low\",\"administrative\",\"simplified\",\"via\",\"online\",\"form\",\"holding\",\"called\",\"repayment\",\"outstanding\",\"capital\",\"upon\",\"smes\",\"consultation\",\"stay\",\"afloat\",\"objective\",\"ease\",\"financing\",\"credits\",\"whose\",\"revenues\",\"profits\",\"stop\",\"orders\",\"changes\",\"economic\",\"environment\",\"consequence\",\"newly\",\"process\",\"implemented\",\"targeted\",\"turnover\",\"balance\",\"sum\",\"separate\",\"set\",\"different\",\"institution\",\"guarantee\",\"supports\",\"short\",\"term\",\"loan\",\"duration\",\"exceed\",\"years\",\"company\",\"request\",\"decision\",\"taken\",\"public\",\"service\",\"significantly\",\"expanded\",\"immediate\",\"effect\",\"governments\",\"aid\",\"immediately\",\"include\",\"rate\",\"amounts\",\"relating\",\"ordinance\",\"published\",\"official\",\"temporarily\",\"rules\",\"certain\",\"parttime\",\"apprentices\",\"individuals\",\"professional\",\"training\",\"contracts\",\"compensated\",\"system\",\"normally\",\"excluded\",\"home\",\"period\",\"protected\",\"eg\",\"staff\",\"representatives\",\"new\",\"partial\",\"time\",\"rights\",\"minimum\",\"monthly\",\"remuneration\",\"fulltime\",\"contract\",\"usual\",\"follow\",\"course\",\"employer\",\"programmes\",\"agreed\",\"employers\",\"force\",\"receive\",\"applied\",\"establishment\",\"department\",\"employee\",\"assigned\",\"result\",\"end\",\"health\",\"agreement\",\"put\",\"airbus\",\"making\",\"hours\",\"production\",\"suspension\",\"signed\",\"concerning\",\"days\",\"pandemic\",\"sets\",\"regime\",\"defines\",\"arrangements\",\"gradual\",\"resumption\",\"activity\",\"line\",\"needs\",\"companys\",\"individual\",\"worked\",\"weeks\",\"collective\",\"limitation\",\"head\",\"human\",\"resources\",\"france\",\"trade\",\"unions\",\"organisations\",\"level\",\"recovery\",\"andor\",\"holidays\",\"planned\",\"managers\",\"according\",\"calendar\",\"june\",\"way\",\"derogation\",\"recover\",\"lost\",\"using\",\"leave\",\"concerned\",\"statutory\",\"etc\",\"entities\",\"possibility\",\"open\",\"manager\",\"remaining\",\"half\",\"use\",\"beyond\",\"temporary\",\"italian\",\"article\",\"law\",\"decree\",\"suspended\",\"proceedings\",\"dismissals\",\"layoffs\",\"based\",\"productive\",\"reasons\",\"prevent\",\"wide\",\"workforce\",\"carry\",\"lockdown\",\"italy\",\"outbreak\",\"later\",\"extended\",\"august\",\"adoption\",\"initiated\",\"february\",\"final\",\"date\",\"apply\",\"still\",\"dismissal\",\"enter\",\"ones\",\"art\",\"smart\",\"particular\",\"performance\",\"allowing\",\"premises\",\"outside\",\"instance\",\"spaces\",\"clients\",\"cope\",\"prime\",\"ministers\",\"conditions\",\"agile\",\"goal\",\"encourage\",\"employ\",\"job\",\"scheme\",\"continuity\",\"n\",\"without\",\"required\",\"normal\",\"contains\",\"significant\",\"like\",\"implementing\",\"right\",\"moreover\",\"specifies\",\"obligations\",\"electronic\",\"remotely\",\"provided\",\"converted\",\"issue\",\"disabilities\",\"disability\",\"family\",\"unit\",\"compatible\",\"requests\",\"priority\",\"given\",\"sector\",\"reduced\",\"capacity\",\"danone\",\"jobs\",\"salaries\",\"president\",\"wages\",\"employment\",\"said\",\"bonus\",\"site\",\"proposed\",\"plan\",\"made\",\"masks\",\"water\",\"l\",\"guaranteed\",\"euros\",\"food\",\"people\",\"products\",\"medical\",\"event\",\"unemployment\",\"supply\",\"move\",\"whole\",\"compensate\",\"lose\",\"forced\",\"limit\",\"pays\",\"provide\",\"extension\",\"protection\",\"extraordinary\",\"legislation\",\"existing\",\"benefits\",\"content\",\"extending\",\"royal\",\"mainly\",\"follows\",\"proposals\",\"benefit\",\"recognised\",\"even\",\"contribution\",\"heshe\",\"entitlement\",\"receiving\",\"allowance\",\"establishes\",\"dismissed\",\"insurance\",\"necessary\",\"furthermore\",\"received\",\"circumstances\",\"regarding\",\"order\",\"periods\",\"established\",\"reduction\",\"causes\",\"ask\",\"platform\",\"essential\",\"hotels\",\"combat\",\"virus\",\"website\",\"aim\",\"providing\",\"looking\",\"regions\",\"establishments\",\"special\",\"exceptions\",\"register\",\"look\",\"section\",\"hotel\",\"federal\",\"chamber\",\"issued\",\"exception\",\"keeping\",\"regulation\",\"four\",\"enables\",\"within\",\"difficulties\",\"long\",\"used\",\"great\",\"extent\",\"example\",\"protect\",\"negative\",\"impacts\",\"labour\",\"negotiated\",\"current\",\"full\",\"almost\",\"pay\",\"actual\",\"standard\",\"must\",\"average\",\"collectively\",\"thus\",\"context\",\"six\",\"five\",\"take\",\"place\",\"week\",\"another\",\"important\",\"point\",\"note\",\"overtime\",\"persons\",\"registered\",\"disabled\",\"act\",\"security\",\"pes\",\"model\",\"reimbursed\",\"wage\",\"deduction\",\"existence\",\"degree\",\"notice\",\"subsidies\",\"interestfree\",\"sme\",\"prepared\",\"ministry\",\"czech\",\"republic\",\"ministerstvo\",\"\\u010desk\\u00e9\",\"republiky\",\"development\",\"managed\",\"allow\",\"basic\",\"operational\",\"expenses\",\"acquisition\",\"assets\",\"expenditures\",\"programme\",\"czk\",\"approx\",\"call\",\"opened\",\"granted\",\"expenditure\",\"maturity\",\"deferred\",\"fees\",\"associated\",\"processing\",\"granting\",\"early\",\"contractual\",\"delayed\",\"cancelled\",\"spread\",\"coronavirus\",\"infection\",\"recognition\",\"entrepreneurs\",\"recipients\",\"market\",\"finland\",\"entitled\",\"finnish\",\"regulated\",\"aimed\",\"unemployed\",\"entering\",\"qualify\",\"earningsrelated\",\"major\",\"impact\",\"entrepreneurial\",\"pressure\",\"caused\",\"parliament\",\"approved\",\"amendment\",\"give\",\"met\",\"ended\",\"entrepreneur\",\"continue\",\"retroactively\",\"day\",\"ii\",\"termination\",\"introduced\",\"risk\",\"bankruptcy\",\"connection\",\"run\",\"offered\",\"iii\",\"enterprise\",\"innovation\",\"competitiveness\",\"program\",\"permission\",\"except\",\"region\",\"anticovid\",\"included\",\"supported\",\"list\",\"however\",\"logistics\",\"manufacturing\",\"commercial\",\"could\",\"limited\",\"intended\",\"rent\",\"financed\",\"eu\",\"structural\",\"therefore\",\"implementation\",\"projects\",\"city\",\"shortened\",\"facilitate\",\"fast\",\"adaptation\",\"demand\",\"amendments\",\"responsible\",\"amended\",\"many\",\"agreements\",\"regulate\",\"regulations\",\"laid\",\"shall\",\"accordance\",\"chapter\",\"approximately\",\"members\",\"organisation\",\"confederation\",\"industries\",\"adapted\",\"legislative\",\"covers\",\"need\",\"lay\",\"personnel\",\"potential\",\"offer\",\"either\",\"permanently\",\"suitable\",\"applicable\",\"direct\",\"aspects\",\"involved\",\"considering\",\"salary\",\"whereas\",\"allows\",\"faster\",\"adapt\",\"plans\",\"layoff\",\"duty\",\"cooperation\",\"undertakings\",\"decreased\",\"scope\",\"personal\",\"municipalities\",\"transfer\",\"restaurants\",\"association\",\"slovakia\",\"closed\",\"operation\",\"meet\",\"higher\",\"avoid\",\"resulted\",\"redundancy\",\"side\",\"high\",\"started\",\"restaurant\",\"framework\",\"hisher\",\"shared\",\"file\",\"created\",\"information\",\"fixedterm\",\"unless\",\"permanent\",\"make\",\"situation\",\"provisions\",\"informed\",\"involve\",\"makes\",\"easier\",\"supplement\",\"provides\",\"view\",\"turn\",\"obliged\",\"specific\",\"impacted\",\"industrial\",\"relations\",\"operate\",\"severely\",\"hit\",\"suspend\",\"operations\",\"listed\",\"malta\",\"annex\",\"b\",\"equivalent\",\"respectively\",\"gozo\",\"employed\",\"rise\",\"july\",\"previously\",\"updated\",\"c\",\"pensioners\",\"students\",\"since\",\"considered\",\"trial\",\"productionrelated\",\"define\",\"grounds\",\"cancellation\",\"relationship\",\"legal\",\"accepted\",\"terminate\",\"connected\",\"rapid\",\"cases\",\"cancel\",\"reason\",\"seeks\",\"reemployment\",\"obligation\",\"nine\",\"former\",\"hire\",\"positions\",\"similar\",\"terminated\",\"past\",\"depending\",\"length\",\"shorter\",\"longterm\",\"return\",\"launched\",\"annual\",\"allocated\",\"supplementary\",\"budget\",\"grants\",\"stateowned\",\"research\",\"tourist\",\"creative\",\"performing\",\"chains\",\"negatively\",\"types\",\"study\",\"ways\",\"organise\",\"preliminary\",\"project\",\"create\",\"solutions\",\"additional\",\"substantial\",\"economy\",\"several\",\"initiatives\",\"save\",\"clear\",\"contributory\",\"additionally\",\"agency\",\"became\",\"future\",\"pension\",\"child\",\"parental\",\"care\",\"children\",\"school\",\"close\",\"schools\",\"problem\",\"parents\",\"advised\",\"elderly\",\"relatives\",\"greater\",\"needed\",\"remain\",\"age\",\"go\",\"unable\",\"entity\",\"adjusted\",\"consideration\",\"increase\",\"number\",\"card\",\"commission\",\"assistance\",\"deductions\",\"suffer\",\"absence\",\"whilst\",\"dependent\",\"biological\",\"medicines\",\"hospital\",\"disease\",\"condition\",\"failure\",\"works\",\"yet\",\"reached\",\"retirement\",\"quarantine\",\"policy\",\"diagnosed\",\"contact\",\"response\",\"lump\",\"worth\",\"came\",\"entitlements\",\"legally\",\"member\",\"mandatory\",\"living\",\"house\",\"workplace\",\"documentation\",\"determine\",\"eligibility\",\"facilitating\",\"effort\",\"reduce\",\"transmission\",\"position\",\"transition\",\"offering\",\"opportunity\",\"prior\",\"change\",\"invest\",\"technology\",\"teleworking\",\"partially\",\"telework\",\"undertaking\",\"cost\",\"active\",\"incurred\",\"address\",\"role\",\"solution\",\"deferral\",\"improve\",\"provisional\",\"taxes\",\"vat\",\"contributions\",\"charged\",\"regards\",\"suffered\",\"originally\",\"forms\",\"expected\",\"deadlines\",\"incentive\",\"primarily\",\"aims\",\"hospitality\",\"entertainment\",\"settled\",\"equal\",\"installments\",\"quarterly\",\"returns\",\"quarter\",\"initiative\",\"comply\",\"december\",\"entered\",\"postponed\",\"greek\",\"october\",\"specifically\",\"debts\",\"deadline\",\"hold\",\"installment\",\"dates\",\"virtue\",\"ceased\",\"natural\",\"lease\",\"estate\",\"authorities\",\"latter\",\"code\",\"dismiss\",\"liabilities\",\"instalments\",\"till\",\"finance\",\"property\",\"residence\",\"primary\",\"dealing\",\"entrepreneurship\",\"party\",\"partnership\",\"student\",\"interrupted\",\"purposes\",\"relation\",\"exempted\",\"paying\",\"exemption\",\"exclusively\",\"mentioned\",\"residential\",\"concern\",\"interruption\",\"imposed\",\"contingency\",\"adverse\",\"press\",\"urgent\",\"consequences\",\"society\",\"smooth\",\"functioning\",\"pending\",\"refund\",\"subject\",\"concerns\",\"claims\",\"type\",\"taxation\",\"beneficiary\",\"sanitary\",\"protective\",\"face\",\"serious\",\"lack\",\"equipment\",\"country\",\"meetings\",\"held\",\"decided\",\"covidrelated\",\"materials\",\"located\",\"customers\",\"replace\",\"changing\",\"decline\",\"demands\",\"competent\",\"body\",\"concluded\",\"compensation\",\"every\",\"losses\",\"office\",\"delay\",\"account\",\"perform\",\"profession\",\"agriculture\",\"acts\",\"doctors\",\"selfemployment\",\"main\",\"subsidiary\",\"beneficiaries\",\"declaration\",\"anticrisis\",\"adopted\",\"stabilisation\",\"wave\",\"spring\",\"packages\",\"second\",\"selected\",\"enable\",\"postpone\",\"interests\",\"offices\",\"ability\",\"duties\",\"waiver\",\"late\",\"submission\",\"corporate\",\"latest\",\"control\",\"statement\",\"arising\",\"advance\",\"introduction\",\"means\",\"generated\",\"september\",\"restricted\",\"effective\",\"mostly\",\"live\",\"includes\",\"road\",\"delivery\",\"goods\",\"taxpayers\",\"assessed\",\"recent\",\"others\",\"discount\",\"settlement\",\"subsequent\",\"laws\",\"numbers\",\"freelancers\",\"basis\",\"towards\",\"foreign\",\"ministerial\",\"relevant\",\"retain\",\"november\",\"croatian\",\"passed\",\"series\",\"amending\",\"og\",\"introducing\",\"life\",\"citizens\",\"value\",\"referred\",\"paragraph\",\"affect\",\"authorized\",\"criteria\",\"procedures\",\"option\",\"stipulated\",\"epidemic\",\"claim\",\"recorded\",\"hrk\",\"decrease\",\"preceding\",\"likely\",\"starting\",\"exceptionally\",\"achieved\",\"supplies\",\"base\",\"added\",\"compulsory\",\"liability\",\"instructions\",\"defer\",\"statements\",\"exempt\",\"sick\",\"subsequently\",\"incapacity\",\"sickness\",\"coll\",\"labor\",\"local\",\"receives\",\"directly\",\"insured\",\"illness\",\"quarantined\",\"times\",\"isolation\",\"supporting\",\"instrument\",\"carried\",\"maintaining\",\"maintenance\",\"despite\",\"difficult\",\"maintain\",\"affairs\",\"center\",\"slovak\",\"applicant\",\"earnings\",\"initiate\",\"hired\",\"corresponds\",\"cushion\",\"distancing\",\"jobseekers\",\"finding\",\"seven\",\"find\",\"sustain\",\"original\",\"nursing\",\"regard\",\"expansion\",\"facilities\",\"parent\",\"far\",\"extends\",\"treatment\",\"expires\",\"ends\",\"doctor\",\"requires\",\"facility\",\"daily\",\"postponement\",\"contacts\",\"retail\",\"selling\",\"healthcare\",\"aids\",\"pharmacies\",\"agencies\",\"operators\",\"catering\",\"stations\",\"media\",\"shops\",\"usually\",\"prevented\",\"relief\",\"revenue\",\"rather\",\"options\",\"comparison\",\"cyprus\",\"budgetary\",\"nature\",\"vulnerable\",\"excluding\",\"stage\",\"allowances\",\"wednesday\",\"cabinet\",\"minister\",\"undertakes\",\"technical\",\"flexible\",\"household\",\"participate\",\"partner\",\"single\",\"exceptional\",\"decreelaw\",\"g\",\"respond\",\"defined\",\"protecting\",\"redundancies\",\"complete\",\"halt\",\"reference\",\"resolution\",\"council\",\"determined\",\"mechanism\",\"modalities\",\"introduces\",\"present\",\"prohibition\",\"distribution\",\"payable\",\"vary\",\"lithuania\",\"preventing\",\"returning\",\"abroad\",\"infected\",\"sickleave\",\"certificate\",\"third\",\"education\",\"idle\",\"educational\",\"centres\",\"centre\",\"area\",\"premiums\",\"report\",\"e\",\"difference\",\"real\",\"premium\",\"consists\",\"described\",\"prevention\",\"suppression\",\"threat\",\"valid\",\"thereof\",\"gross\",\"calculated\",\"data\",\"respective\",\"export\",\"volume\",\"investments\",\"debt\",\"relationships\",\"adopt\",\"remote\",\"specified\",\"parties\",\"worker\",\"schedule\",\"weekly\",\"rest\",\"night\",\"agree\",\"otherwise\",\"xiii\",\"functions\",\"infectious\",\"instead\",\"board\",\"documents\",\"socalled\",\"rule\",\"might\",\"introduce\",\"send\",\"becomes\",\"completed\",\"followed\",\"question\",\"traders\",\"managing\",\"permit\",\"aiming\",\"moment\",\"takes\",\"lumpsum\",\"status\",\"occupation\",\"grandducal\",\"assist\",\"sole\",\"joint\",\"plus\",\"pensions\",\"whenever\",\"setting\",\"requested\",\"situations\",\"workplaces\",\"validity\",\"allowed\",\"performed\",\"breaks\",\"organization\",\"areas\",\"leading\",\"levels\",\"larger\",\"especially\",\"population\",\"applying\",\"epidemiological\",\"terms\",\"staggered\",\"contagion\",\"establishing\",\"unilaterally\",\"importance\",\"du\",\"mars\",\"portant\",\"de\",\"le\",\"r\\u00e8glement\",\"la\",\"microenterprises\",\"en\",\"mediumsized\",\"found\",\"size\",\"criterion\",\"suspending\",\"xii\",\"returned\",\"stipulates\",\"inform\",\"writing\",\"consent\",\"suspends\",\"network\",\"ministries\",\"communication\",\"collaboration\",\"communities\",\"join\",\"asked\",\"questions\",\"eur\",\"store\",\"volunteers\",\"powers\",\"authority\",\"renewed\",\"power\",\"reinforce\",\"articles\",\"namely\",\"speed\",\"processes\",\"mobility\",\"experts\",\"recruitment\",\"external\",\"vocational\",\"organised\",\"become\",\"lithuanian\",\"bill\",\"adding\",\"procedure\",\"flatrate\",\"lower\",\"independent\",\"professionals\",\"linked\",\"duly\",\"governing\",\"expiry\",\"automatically\",\"croatia\",\"units\",\"institute\",\"users\",\"bodies\",\"institutes\",\"overcome\",\"reconstruction\",\"hbor\",\"investment\",\"hamagbicro\",\"preserve\",\"moratorium\",\"credit\",\"approval\",\"grace\",\"principal\",\"increasing\",\"suppliers\",\"exporters\",\"allocation\",\"micro\",\"limits\",\"civil\",\"armed\",\"forces\",\"action\",\"p\",\"reintegration\",\"medicine\",\"retention\",\"refers\",\"sectoral\",\"encouraging\",\"everyone\",\"undertake\",\"completely\",\"written\",\"proportion\",\"membership\",\"renters\",\"rooms\",\"farms\",\"extra\",\"losing\",\"lot\",\"impossible\",\"share\",\"estonian\",\"wish\",\"subsidized\",\"cut\",\"addresses\",\"welfare\",\"insurances\",\"sport\",\"centers\",\"thematic\",\"clubs\",\"requirement\",\"participation\",\"employing\",\"shares\",\"calculation\",\"purpose\",\"highest\",\"results\",\"regular\",\"arrangement\",\"inspectorate\",\"principle\",\"corresponding\",\"participating\",\"inclusion\",\"emprego\",\"forma\\u00e7\\u00e3o\",\"profissional\",\"iefp\",\"index\",\"parts\",\"ip\",\"developed\",\"distance\",\"concession\",\"land\",\"camps\",\"manner\",\"construction\",\"conversion\",\"gazette\",\"determining\",\"estimated\",\"solo\",\"estonia\",\"seen\",\"arrears\",\"money\",\"fully\",\"leasing\",\"savings\",\"promoting\",\"energy\",\"efficiency\",\"renewable\",\"experiencing\",\"reimbursement\",\"borrowers\",\"compensations\",\"respect\",\"engaged\",\"freight\",\"purchase\",\"vehicles\",\"transportation\",\"farmers\",\"lines\",\"minimis\",\"ceiling\",\"exceeding\",\"remains\",\"burden\",\"changed\",\"commerce\",\"headquarters\",\"gatherings\",\"cultural\",\"events\",\"various\",\"preparation\",\"culture\",\"trades\",\"crafts\",\"particularly\",\"participants\",\"fourth\",\"submit\",\"behalf\",\"cause\",\"benefiting\",\"deliver\",\"autonomous\",\"issues\",\"aged\",\"fall\",\"categories\",\"qualified\",\"financially\",\"opportunities\",\"foundation\",\"rural\",\"smaller\",\"scale\",\"offers\",\"secure\",\"requirements\",\"sustainable\",\"difficulty\",\"double\",\"justified\",\"large\",\"together\",\"forest\",\"common\",\"associations\",\"charge\",\"distributed\",\"improved\",\"rescue\",\"fewer\",\"german\",\"risks\",\"european\",\"broader\",\"directed\",\"easing\",\"burdens\",\"startup\",\"insolvency\",\"exceeds\",\"borne\",\"institutions\",\"took\",\"gambling\",\"marketing\",\"artistic\",\"meant\",\"audiovisual\",\"arts\",\"design\",\"relaxed\",\"analysis\",\"combating\",\"range\",\"purchasing\",\"definition\",\"young\",\"childcare\",\"raise\",\"problems\",\"helping\",\"hand\",\"sharing\",\"tool\",\"coming\",\"tasks\",\"free\",\"experience\",\"phone\",\"advice\",\"matter\",\"much\",\"repaid\",\"preservation\",\"location\",\"tourists\",\"safe\",\"majority\",\"summer\",\"achieve\",\"decent\",\"seriously\",\"growth\",\"microentrepreneurs\",\"cofinancing\",\"decisions\",\"percentage\",\"aforementioned\",\"field\",\"music\",\"sports\",\"stabilise\",\"firms\",\"seek\",\"bear\",\"seasonal\",\"throughout\",\"decide\",\"prolongation\",\"departments\",\"accordingly\",\"hospitals\",\"servants\",\"mortgage\",\"housing\",\"consumer\",\"lender\",\"residents\",\"repayments\",\"holders\",\"nurses\",\"increases\",\"diseases\",\"belonging\",\"responsibility\",\"workload\",\"reserve\",\"passengers\",\"trip\",\"tour\",\"alternative\",\"starts\",\"ensuring\",\"expense\",\"operator\",\"accept\",\"incomes\",\"resulting\",\"thousands\",\"indemnity\",\"ron\",\"entire\",\"geo\",\"meaning\",\"physical\",\"require\",\"compliance\",\"fiscal\",\"entirely\",\"email\",\"best\",\"volunteer\",\"details\",\"symptoms\",\"practice\",\"continued\",\"beginning\",\"ill\",\"exposed\",\"bonuses\",\"municipal\",\"recommendation\",\"families\",\"although\",\"award\",\"budgets\",\"mortgages\",\"borrower\",\"debtor\",\"client\",\"deferment\",\"holiday\",\"extend\",\"continues\",\"overall\",\"favourable\",\"poverty\",\"objectives\",\"policies\",\"obtained\",\"shift\",\"hard\",\"discussions\",\"covering\",\"severe\",\"landlord\",\"deal\",\"internet\",\"space\",\"campaign\",\"facing\",\"buy\",\"closures\",\"charges\",\"passenger\",\"international\",\"crew\",\"rehabilitation\",\"appropriate\",\"adequate\",\"fulfill\",\"released\",\"obligatory\",\"contain\",\"page\",\"dedicated\",\"startups\",\"traditional\",\"instruments\",\"expand\",\"venture\",\"innovative\",\"develop\",\"investors\",\"idea\",\"equity\",\"replacement\",\"material\",\"presence\",\"announcement\",\"older\",\"nonresidential\",\"come\",\"teams\",\"regulates\",\"artists\",\"owned\",\"producers\",\"openended\",\"shortages\",\"mean\",\"possibilities\",\"spreading\",\"easter\",\"cash\",\"stores\",\"teaching\",\"identified\",\"infrastructure\",\"management\",\"guaranteeing\",\"evaluation\",\"test\",\"renewal\",\"enforcement\",\"foreclosure\",\"court\",\"banking\",\"promotion\",\"internal\",\"collateral\",\"consecutive\",\"consider\",\"approve\",\"sources\",\"regularly\",\"implement\",\"creditors\",\"organizations\",\"central\",\"intervention\",\"ziuzeop\",\"alleviate\",\"get\",\"kindergartens\",\"border\",\"modified\",\"faced\",\"better\",\"reducing\",\"conducted\",\"bargaining\",\"flexibility\",\"choose\",\"councils\",\"mobile\",\"sent\",\"vehicle\",\"soon\",\"show\",\"aviation\",\"ordinary\",\"integration\",\"reductions\",\"domestic\",\"spending\",\"proposal\",\"romanian\",\"background\",\"recommendations\",\"left\",\"courses\",\"continuous\",\"telecommunications\",\"television\",\"gas\",\"electricity\",\"flemish\",\"inactivity\",\"combination\",\"sufficient\",\"consumption\",\"collection\",\"secondary\",\"nonprofit\",\"interventions\",\"targeting\",\"metal\",\"challenges\",\"digitalisation\",\"transformation\",\"growing\",\"global\",\"round\",\"solidarity\",\"build\",\"twelve\",\"exemptions\",\"deemed\",\"rental\",\"electric\",\"driving\",\"brussels\",\"across\",\"europe\",\"countries\",\"practical\",\"key\",\"creates\",\"derived\",\"socially\",\"trainees\",\"accidents\",\"apoios\",\"ias\",\"coordinated\",\"always\",\"thermal\",\"price\",\"treasury\",\"addressed\",\"bond\",\"tools\",\"cessation\",\"finally\",\"foundations\",\"customer\",\"done\",\"territory\",\"notably\",\"opening\",\"accounts\",\"representative\",\"sarscov\",\"majeure\",\"laidoff\",\"letter\",\"funded\",\"demonstrate\",\"interim\",\"attention\",\"assembly\",\"reported\",\"union\",\"occupational\",\"lead\",\"creation\",\"detailed\",\"gloves\",\"availability\",\"cleaning\",\"disinfection\",\"license\",\"slovenia\",\"preventive\",\"taxable\",\"markets\",\"onetime\",\"retired\",\"varies\",\"contained\",\"manage\",\"hourly\",\"transferred\",\"strengthen\",\"carrying\",\"generally\",\"suspected\",\"reward\",\"spent\",\"youth\",\"providers\",\"adult\",\"actions\",\"psychological\",\"digital\",\"mental\",\"interior\",\"guidance\",\"initial\",\"focused\",\"alcohol\",\"homes\",\"protocol\",\"containment\",\"devices\",\"limiting\",\"movement\",\"sites\",\"committee\",\"monitoring\",\"reach\",\"meal\",\"vouchers\",\"austria\",\"shortage\",\"meat\",\"interested\",\"voluntary\",\"unpaid\",\"internships\",\"frame\",\"civilian\",\"classified\",\"lenders\",\"coverage\",\"draft\",\"nr\",\"\\u00e0\",\"luxembourg\",\"et\",\"reserved\",\"germany\",\"counteract\",\"old\",\"circular\",\"guidelines\",\"onwards\",\"structure\",\"shortterm\",\"acquire\",\"confinement\",\"technicians\",\"creating\",\"vital\",\"apprenticeship\",\"governmental\",\"restructuring\",\"elements\",\"livestock\",\"produced\",\"gives\",\"authorised\",\"sell\",\"hygiene\",\"proper\",\"waste\",\"systems\",\"exchange\",\"contribute\",\"sunday\",\"today\",\"restart\",\"acquired\",\"branch\",\"placed\",\"leaves\",\"focus\",\"organisational\",\"bgn\",\"bulgarian\",\"gdp\",\"prohibited\",\"households\",\"establish\",\"estimates\",\"sign\",\"conclude\",\"receipt\",\"percent\",\"targets\",\"lending\",\"tested\",\"homeless\",\"bulgaria\",\"cant\",\"bills\",\"exclusion\",\"consumers\",\"maintained\",\"exercise\",\"community\",\"indicated\",\"multiple\",\"represents\",\"stoppage\",\"waiting\",\"programs\",\"urban\",\"technological\",\"practices\",\"step\",\"improving\",\"largest\",\"prepare\",\"efforts\",\"alarm\",\"points\",\"cbils\",\"meeting\",\"uk\",\"gbp\",\"invoice\",\"continuing\",\"delivered\",\"british\",\"accredited\",\"approach\",\"provider\",\"chancellor\",\"england\",\"stated\",\"designed\",\"often\",\"strong\",\"coordination\",\"absent\",\"ssp\",\"secretary\",\"strategy\",\"comes\",\"qualifying\",\"enhanced\",\"payroll\",\"shield\",\"consist\",\"ustawa\",\"z\",\"dnia\",\"r\",\"innych\",\"oraz\",\"eight\",\"experienced\",\"drivers\",\"cabin\",\"air\",\"patients\",\"quickly\",\"jobseeker\",\"hmrc\",\"good\",\"fact\",\"certificates\",\"sections\",\"workthe\",\"critical\",\"subsidised\",\"da\",\"promote\",\"carers\",\"gave\",\"adjustment\",\"places\",\"text\",\"httpsstaticeurofoundeuropaeucaseseshtmlutmsourceexternaldashboardutmmediumpowerbiutmcampaigncovid\",\"vienna\",\"wien\",\"conference\",\"sure\",\"expired\",\"om\",\"raised\",\"sek\",\"cuts\",\"aside\",\"swedish\",\"telephone\",\"landlords\",\"known\",\"tenants\",\"tenant\",\"calls\",\"drawn\",\"structures\",\"fight\",\"regulatory\",\"developments\",\"post\",\"green\",\"utilities\",\"heating\",\"political\",\"reports\",\"violence\",\"ensured\",\"police\",\"hour\",\"women\",\"shifts\",\"romania\",\"alone\",\"top\",\"nhs\",\"discuss\",\"want\",\"guide\",\"verdi\",\"skilled\",\"danish\",\"dkk\",\"cent\",\"denmark\",\"advantage\",\"principles\",\"executive\",\"expressed\",\"spain\",\"vulnerability\",\"accompanying\",\"habitual\",\"memorandum\",\"transitory\",\"helps\",\"administrations\",\"publicly\",\"commitment\",\"lasts\",\"hiring\",\"anyone\",\"proposes\",\"combined\",\"employeesthe\",\"break\",\"peak\",\"registration\",\"along\",\"pandemicthe\",\"huf\",\"twice\",\"chain\",\"canceled\",\"earlier\",\"led\",\"appears\",\"campaigns\",\"climate\",\"altum\",\"incl\",\"pln\",\"nace\",\"safeguard\",\"document\",\"named\",\"voucher\",\"greece\",\"athens\",\"buildings\",\"team\",\"positive\",\"strengthening\",\"sectorthe\",\"learning\",\"knowledge\",\"skills\",\"pursuant\",\"guides\",\"infections\",\"environmental\",\"teachers\",\"qualification\",\"performances\",\"workshops\",\"shields\",\"latvian\",\"involves\",\"qualifications\",\"norwegian\",\"nok\",\"flights\",\"airlines\",\"airport\",\"restoration\",\"norway\",\"building\",\"representing\",\"workstudy\",\"cfdt\",\"cfecgc\",\"quality\",\"dutch\",\"netherlands\",\"signatories\",\"badly\",\"science\",\"explaining\",\"heritage\",\"sustainability\",\"apprentice\",\"source\",\"accessing\",\"ireland\",\"strategic\",\"seeking\",\"boost\",\"developing\",\"activated\",\"organising\",\"tests\",\"axes\",\"reactivation\",\"sale\",\"tables\",\"stimulate\",\"incentives\",\"tripartite\",\"airline\",\"alert\",\"amongst\",\"goals\",\"testing\",\"modality\",\"improvement\",\"enforceable\",\"federation\",\"cse\",\"stimulus\",\"screening\",\"topics\",\"osh\",\"ativarpt\",\"programa\",\"lo\",\"stat\",\"internship\",\"trainee\",\"phs\",\"read\",\"cbi\",\"bus\",\"tuc\",\"violations\",\"tsl\",\"employability\",\"redeployment\",\"stimulating\",\"impairment\",\"facetoface\",\"maszsz\",\"registry\"],\"x\":{\"__ndarray__\":\"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\",\"dtype\":\"float32\",\"order\":\"little\",\"shape\":[2286]},\"y\":{\"__ndarray__\":\"FfIuv42taEDgzfvACs3gwZ9BjUF/nZfBx5nwwERRMcGRa9jBHAGswdqM9cGfwdJBxL2TweRN6MFC9NfBc+7Qwd/nFUHQP6fBbywtwUPAKkFRvhzBOt4rQSTd8r9A4+RAAYLJwYxOxMGmxJdB+Wj0wTcHNEG/RwlCJuVYweflccHpa1w/c3IewZCva0G0SxFBwzKtQMBzxcF26YJBHhfFQL83L0GHg9dBg2m6wImm48GkjrlBIo7pQLtkv0EtEePBT0/RwAQl/D9ZXqbAXnnYQeTyCEFZYVzBOzNrP1mUoUBNnKDBv4dEQfWV2D/zro9Ao58uQT1dqEGgf7xBL5jbwcAn+MGKLYbBGK0bQe80NUFV2YdBcQZDQYkLBkEKgDBBBu5NQfWBv8CQw7tANyVTwcjNCcGm0rJA0CQAQfuio0DciM1BoV3RwIGy3j92fr/B22JbwY3cNEE9EejBAjWLwXQSq8C5TaS/nQRLwelahME3XblA/OHEwEiKPb8mO01BXOFIQd05QEHoNUtBcLW7wWSLt0BohmhBEm8LQXx4eUGInb1BsApqwUFJiUHyj0zAh+iIQSSwlEEV+ddBMlCpQXLeSUDrOS3AE1uSQZmgL0ESfYfBTYpoQMULkECYT7PB5IK4wcMcV8ECb63BY/5Hwas200A6JM/BLMm0QRiUZMFVLWzBjshbwfKi/0GBkKLBGYziwWmGysF7rpPB/uUywZ/GqD8ViN4/o8SkwRvfwsHR0rzBWn/LwSl6YUHx9bjBkoPiwdWxOkFZYKHBiFU+waSPJEEIcXdBVMcOv89RDMHXPjs9toMzQZpSRkGHsKXBpoMqQKXUH0Fzp8pBNVYGwcZwqkBw/03BFnbJP2ypusFYizZBQzGGwY7ZjcF2g2XB1c5QQWr3jEArgyZBT3qavq5vIMGOaCJB7epMQdaI/kG/lYlBz2qJwT5akkDtQG7Bdmcpwdj5YsDDZi5B5AaEQfnEs8FEa+7AOhCMQGtAL8FORoZBRb+JQRUt/sEVYyFBVsWBwZwELsF7nmnB0iKgwMerdUF5v8pBBvrJwDyw2cFOrGvBzc/vwd2DT0Fa7BBCxLm8PrcYH8GMxADBxHwZQr4avkCvxs5BZD0xQZsWkcGbJUbBbqhnwUMGtEFiIRW+4oa7QS3Ic0EY0qBA2dlBQdh7xUDN5oxBouU8QQDqWUCBjmZABxhNwa82msF/3ePBXxuOwbPxEUIEoRXBhSwQQiBFGEHIsmzAtJP6wCYuGcHzEkXBQOIdQTcaVUHIEhlC5PDCwJRXCMGLgI9B5toowaomOcH+7z/BEoCsQWvzkEGs03HAywGKwJ5IlMBW0yLBGb5FwY56ZMHIYNFBB3vFwY7LQ8HozjpBAi2OQbYvDsAP3UTBbAqhQbgPm8GlRZBAOF8RQZVY6cD2+SxBCK4wQRAEm0CtSYdBDUCrQJq6ukErdIJBwyCPP9YkAkH8kDdB3CNoPozFVcFiDD7B8kIVQaGEqMCbyApApjMCQpPpDkEsrCnB5ZfHwd16CkBzMvLBiRo7weD8jUEa2pvAB/wFQkHgMkERwYXBmLyTwBiMBUEyzxi/KF47QXtl9MEfSQ5CO1bSQAA7EcGHQJdBwEIFQvuPuMFWR4bBhosFQlWjUMGMqatB4QGwPyGPikEJqq5AZEI6wXugKEFXCXVBm44VQssxOkEs5zZAcVfcwSxSuMEqt5/BqXd6wZa8n8FNDFZAYUekQefoEEFxh7NBygsxwUXAoEFBi9pA88vnQLChIcGbNmBB8Gr2QXQGB0H6YiBBWcTDQTgnwEEHAcvAKrCIwOKzOb/qUbu+ivDFQC53rUEY5rNBivogwXWCdr9RpoPBdZyswOtonsE6a8/BwULLwdtMqcD3NRxBKcOewC5Gt0FRZ+7A8BE9wTS6d7+edCPB6Giowfj9uUDZnz1B5SfMvo51mL5sQcPBW92YvllLkEC+HajA+ZHPwJaoCsHHiEBBuwoAwUQcdkCnQfc/Z9TMQD/8H8EDWaNBcQHlwcm1WsHiPOdBooZowXRokEEdQdnAL8ErQaHpFULdBwZCMZCcweyRAULTs6O/vOUAwkKQ0sClujDBhssNwbk5QkE4SBjAMIxOQfoi1sBPYLrAFj4fQL7NwsHr6GFAOzXWwHmpd0E1vJzBULYewfNExUEEMQTBcLR/wD92CsH78KNBYCXIQCZDq0EAStRB1VZYwJ+di8GlvopB5YWrwO/assAXANk8L7acQU56tsElj4tBpAwOQgoyxD9z8uPB4ZMHQSwM4kFtX7RBCCemwVq2f0EoiwZCH0VzQQBhjcBTId5BtW1vQM5SBELTvgRCQ+qHwd2/eMGhg41BE5W1QDkLbUEiBbRBi8KEwWSMIMFV7VbBA6cSwUfmeMELZ01APEUlQJmc/MAI30xBqTG8QX2KSEF03fdAQyUEQo+vikDt2n9BVyJXwZScskDVxYvBm3ekwFMzN8EmH13BVJUnwLpvs0GafavBzhQCwdvl/0FtKhpCZ0f5wcINIkF7IsZBm/0ZQZtQikBpZJHBOMh7QbUHo0FzHBZB63QJQhbeTcFtbwLA0TSfwfuWj0Hv8ohBz/4BwQAWP8FYEcXB1JovQT79lMHlPgBB4e6lwaedwsBkbiM51XFhwecXCEI81/9BupWUwZJblECtK6bBwmyZwIktK8E0h/9Bp3OQQcSKT8FUYGI+95q8QUzlkcHKchfAwXrmQdzmT8HvKWTBu3SWwQPFq0G65qvB+iydwWW1jEEyA03BoLQ4QHK4qsBNTdpA4nbvwLixkMHsGFXBNX5DPxMxA0GCHxhBoq7XwQTr3MEgmazBQemRwfy/cUHmI97B4Nb3QKB5wUFB1YLARYsEQTDxFkEeKwzBFcnwwDsKkMEpRCdBEih5QU8bpsBthmLBivsNQQduEUAAAThAjmnHQWa0qMETDWtBlHBCwM7z074H575A7sXiwYOMDMAsJWXBoWD0QSDYicArvTJBTJiMwbrtpMDJW7FBN4WOQcHPHsC+dJfBp4c5QeyuuEGNrdHBuCo9QcS/ssF/14e/HOjpwSSv9cHNaqzBaV15QQwLwMCBCKtAVNcwwSszIcAvtb5BjK/CQc6tWkFrm63Btk5VQdzqU0FBaAPBgHlwwQo8AUFhNkrA0P1Bwdf2wEEGB5RBJFrXQbslo0HTZdxBdxysQYcfxEAbtBxBJF3cQYLR3MF/4eDBqi+2wDlssUE5SSfB4b7RQYXfv8HmgqRBqbDUQPcxxkHqJAlC6CmpwZFsRMDIU7M/2ZGgwX51rkHz8QlCsHbFwb8G38DUx6Y//7A0weWrCcEeIFrBzETsQbDc00FAb77AqRGkQZ9necERdsrAEvuLwf/kGkHWO+m/YG+3Qf1mS8E+A53BUcCQQQL/BUKht8tBUdaBQYvSAsLWNyLA+S8nwUNNlMH6LC7B1OiwQbWr2EHOjQpCRIeXQSXZRz9oHglBFqLNQHWnbsA3T0LBtcMEQnipHcENhcvAlVwoQOLWkMAxVYA/TXFOQBJ8YMH0ujbB/P4YwYPNxj86tGW+YtcHQkhMasGGQDZBDITgwWwnC0LBBbFB/CHXvyTBPkEnTQlCoYetwZzuPsHa+6tBCRxpwXyg3UGebalAO+rXwDh66MHRL3y/xSOBwVPz+sAoXIzBmOwFP++CHcCTH0XBTnPPQBZCm8GlHEtAqCNDwXVIB0IGdwo/CiwNQVAnvEEWFqfBJOgnQZTri8BBO0e/QfoVQicOssFzVAxBCzdnwbAyjUEDZb3BSi6ZwVUmp8AYo7lBRQOUwdNQBEIdDMY/rJuRwYJsD0KKMgvBt70CQs/pg0GhA+I/z/6AwRrlasE1pJDA+RaIP/Y0b0B/Sq2//0Vqv4ZJt0FxdpzBC462wX4lTUEXkeNBL6xEwS2QED5HCq5BvmSOwVd1rL9O/qtBqK+XwWphyEFQ9bRBT9xAQeDWU8HqL8vBuQZ+wSw/7MFQ1vzA9TwEQgk4vkGLEMZBIPVEwTTdOkGpEZvBmg7dQXfDl8GLgwDC5CuUQZGKncH+Ya1B29kvwLA9PsHjj9NBxKr3QIab1MFurHHB55zRwUNBdcDN9Y1B4OJMwd+ZmcFTA9NAlezevwJZBL7Vf5JBe5e9QTAfwcGKixzBj6eVQJgEDsG/9gRBNSqxwUFA0kEO1tPBMh2ewdOFLcHCAZJBkK4hwUyTwj2rLr4/aes0wZLgq0G0/hnBm2UYQdvc6EECBwDC2CjKQHY4tb4NWIrA05mGvtJxlT0KFsTBtwiOQd3chsH9psVBLT2HQdxla8FYzVjBRfYJvu1+F8H10plANbkEQY2WqkHO/FTBQRLqwDKpSEBY6JzB2L6Av8YZh79iUqbAYoWMQVl698Hqbe3AntneQVDUY8GhJGzBKFuTQdSgRMAcvBxAXu74QdTrE0K0KDZAXx1+wUFIz8H8CWjBaVeTP8Do9cGIJ61BK5VCQYvAhkELbI3ApbaJwDH7aD8LHxa+Yx1bQHtumUHD1IPB49eoQGX7gT/CuJZB003CwO19b0GIo6JAI0iiQXk7E0JnaRtBXUCzQfBcPT5b8+9BT4/rQJGU1T+oRRdC+doywDx/2UApSbZAZIW9wERsrUAS1J5BgRZjQXS4jsC4RdtB0o6twUaOpkE7UV7BG1KbQe+IgMEXkFjB2ACYQePCG0HnX9pAJN9EwXa4AkJY6BZCXYSSQRQEccDVwjhAWMCbwWfIi8FzPg1ApNBEwVOau0Ea6cPBHHkdQd97lMGIVxHBJuSKwF7AGEFN9qPA5sOZwVtx7MC0gAtBqXGPwbLIB0G4AJdBOTG2wdSX5MAb0QXBd3eDQcyVr0EVit3Bh3khQXtFvkFwco1BmR15QbRHhEEely/BXf57QaXAFj8JV4TBOXuwQDmzcj/SJm5BY9w2wSGotcCcSV5B8DktQUaUOEHIhSHBcnCIQcGbl0C6lvO/OFmKwesa88GYlOrBZ/KrweJeY8E69MhBoNEowXSUIkFki/NBEBFUwW677sHYFP7BGqBSwFkCykBVHq1BMbmEwUMJokHUpsBBReSZP5lcK0FX2pVAA6+swcUswkFYguDBPZ0awO4xAUJkqM7B4Oy2QUH27T+4SjTBe+asQTCAskHj3XRBXemMQRgfEcDECcPBZAhjwVyrRkFHIwrBAbPWQVyZxkHDGnfBWQd7wVtyRMFOhYNBGmTeQIbEa8HC9PvBJaTmP67n4r/J8AxAER4XwOzf38EGlwxCrZcHQv0lWEELOsBADSfCQVRw00H6O92/fMLoQdUh0MFv25jBcaQPQtGql0HLrdjBaRszQSnitsDhbNjBUujLwDTGxcDgH8VBTJqdwGLZXUGFy4FAlXMPQodPGcH+VXY/Fu/AQeBmwEFrEfHB6W10QbwCncGXjhZCM5cxQRGGwcDsvCnBZBHlQcfdl8Gg67nA/McoQY/Dj8Hgx8XBOdy5QQK7xME55qBBZB33QaM6qsGj+LzBxcEdQa9y2EGYnvBALuCdQQ93DkFgSDy/WmYzwbETikAXKpTBNt4tQTEh3r96xohBWp34QCGo98By9Y3BIMj/Pxhynz+LUKBB4l4YQg5Fx8FHKAPCFOYCQpkY9D61v4PB5f9/weqLpMG/CwBCKnCGQWBoFcEnegZCB0ECwJ4lqsE/zaFB3HnHQSnIZsAe2MxBfmeVwZP8WUBtzHVB1ipzwdwswkF72vlBo1gTweIqmcD530hAGnnhQOLuC0IYS+LBFUKTwLNmJcGlQJRBi/YVQr2Su8AMmYHBH1qtwOz4n8A1AQVCaeSXwRFI48COqlfBMmPZQfWGrcETIRJCUny9P6xaxEHPUoJBcowAwEAt/cD1JwzB+0mbQMgS98Cg7QVCtKQWQVjpAULLzcbBa+1gwTEgkkFpKEnB8v/dP9iDqkFEHLVBpiOswXf3Jj+Z7si/nJyUP3IPHcHRbHDBA6U7wfQ9zEHFz4jBh6aNQTWyikGbHDvBVMzwwcKGwkGtDxDB/camwRUUPUHmO3RBauXLQUEl2UH1svrAiYGCP1Q+h8Fss4JB0jZ6wEbO0EB1p15AkMehQV5/rUAqygXCWwJgQCzoSMHUaqdBwauRQRrbeMFM3J9Bk7L4QNZ5NkCtUdpBJC+7PmPwmcFyQpxAvD4XQg58skA6tLnBuT4JQiZQTEE92wLCT0Y5wVkgF0D57bVBX8WEwcXSe8FxKLbAt4FlwYFNp7/fXNDB0pwOwCt0tUF1Wk5BcQKBwYSvskHZsatBtYwOQtQYCkJGqrrBAGE7wSaHWEH1yUDBzDuzwdVE6MHN8OFB56FywW+iIMEn357BvU32QWvcnkFJZj7BEgNwwcE1wcCM5qJAY56rvw71hkFPebJAIkK9QTFPP0E0uIhBoi1qQQUg28HY5rNBe8G7QY8VokFB7DfA6x0AQOom30ESi7HBOgBlwesx5MF+K1ZAfPTlP5SFWsF3KIDB6aV0wdLAuUGbL2BBAu+dQdDNwsFMZOzBcJ4RQkIT3UHIc0FBdy/rQXBBqkEPnaBBcmuCwW3/skBwssVBs1YJQu6/KkHctprBFdqBwW9bZ8A+w81BocyQQa0ahEG7npnBaTXAQUvZf0Gnptg/gVimv+QG8EEgrmTBPPLtP84Tr0HZGzdBnJvkwOleFkFIh8PBGnCKwalElkFsHHnBxZKIQW73BcESyI3BOKJHwUTmpkHfYA1C0csLQsFZ5kD5cJDBvH3XQZ2mFkL4sGXB36SMQSrZ+UATusxB4+ViQUXEj8GjNZBBIq2lwSBNFEEnXdNBhlCIQcFKo0EssqNB1RnVQT6cmEB6EuLAyBg2wQbUBEGaD4TBUlr/wbXoHEJMUoXBbQksQUU3aUAcfCHBWCGiQVxqfEGqOUhBmYKZQaCWKMFRywPC1rppQAwM0kEDy55BwyOxQRtHcEFo3vPBs7FlQevHB0BgPZDAo0edwclm0kGiWIDBbwbAP9gWJcGbUR3B1D8eQCAUR8H21WrBiZOMwYM4hMDnwI3AB5fMQS6pY0HX4ANC2LgGQpDBskHMwCFBph0CwbSg4MBtY/BB1wy3QT3yg0EKLTy/+VRjv/e5jMGr0hJBt3ppQSbaHsHDxYI/AhaRwW8r38HYtfRBBT2YwLLfGcGdouNBokpXQUs0AMIfJM7AVFqIQWm15sH2W7++VkLfQQzf48GmdPw+7azywSrzzsFwl2/BTPJfQWd4s8HSpm5BfP7UwJp49kCMGZ4/cSpiQSmdTEFHBeHAxI6bQZstQMC5b6nBOYAev8sEZUGXHGXB3oCjwe5EukDwHtjBz40RQVjlBULr/+DB+sgOwfhDSEFOp+nA8TadwbJnZ0FosgFBHnm1QTdUAcI/BopAedLyQPQvGEIhyojB4syGQdbYlUHv3aJBqqERQvJyB0ILtMjB4A1qwY+oD8AptgdAG5KxwR8z7kEI3VVBzA2cwQtqRsAAegfBQ5r4wF/9SkHaiiBA2MhcP2BroEEMVkfBA5oCQB/WsUHGg5NBU8TrPzAf50HQRbBAcFTrwZHpFELaCLrBlFVAwDs87MGP/CxBfc8VwfCB2UHsO/nBBbrkwHOPCMGxqN0/Dm/IQVbog8HpprJBUo+HwTrI0MHEGpRBX2KkPwvddMDPy6q/qsSwwc5vr8AmQ3zAToVjQatGvEFuxsE+z6b1wcx+rECOLLxBtOokwQiJncE/mpvBqVvUwbWVzUEw4IvBmc2NwRiyg0HqTKNBKG3PwQ+onEDr3URBv8ukQXC0DcGVFF5BLJY9QZfCZMGHVuBB9hoNwTacF7/qOR9CmgXMweU1zMEofb/Ad3m8wfCdtsHOUpJBkYfCQPsGvMF/nZ3BvaGXQZ2bFkDy+jpBPfqfQY/awkDZQI3BGm2uQZD/I0G1caNBKKVhwfX4icEjJ7vA+p9uQYYTWkFwjqxB4j6qwOJ4/EFVuobBSrYWQXaZhkGeHE9BRRzTwf0xDcGlYifBXQsOweOiesFwKcfBFxcBwtJE6r/a0N2/INJ2wfFEkkHrmbfB8IfIQSq5gUH3PGLB4fumwFunw0Hkf4LBQtHMwV6BacEgqBBC9Ty5QQLcAkASHgPBc8baQSCVokDvz+3BYyWHQaHVuUHfqr5BZXoOQiTIpsEDfOdB73pRQRgahcDWUrXBCBvTwb8LBsEs3j5BeZsJQbhd3EFvnajBV5poP9SpGELO/lZBFXAGwXRdicET4YLAxZ3kwN4DrcE7p3LBKYvUQdTZtsHhKQ6/tH07Qeri0D+nKYzBcVKMvxq0tkH9dxvAPw3ZQfK8z8GfKJTByOUNQU0Mx0EF2pPBjJHBwW/KqcGRT5c/Bxu8QQgjvz9xufFB+5ijQQpyyUEzoW7AkXgjwQ4/zj9epoFBwxYSQhpOuEDfRc9B+b76vgnEXMEbL9LBQRDPQWqZIkEgjQdChx+owYVanL+6Rf697LLZwCLiFT+gNTxBhCVVwOwIxkHr04bBazRLwQwA5MFxzaVBJbebQR1Sy8Gxg63BbErjwfivAkJOcuPAHSuoQRgoYkHwWpxBQ9ZwQY+L1sEhrd/BknVDQf9RukGMsibBrTwzQd7+ecGLkORBeeipQQPKD77jrZrBCT52QWh+lT8UZMFB/cilwY4yFUIRoJjB5Nn0weYsrEEGDbvAI0yewPxUkcH/p/ZBoj62wccA10Gw+ZfAUk2xwa2es8HbqMw9IsKlQeJ6pEEveLHB71jAQc3/hMFmGwZCVH+KwU6i+0Ht+eBBY0cFQrSODkG1/cxBOy22QapMlsB24qbBgZOGwTEWrcFoQ9fAgogaQibMQ8FdhU3BNa0eQX9qfMFAlFzBtP1Ywd98j0EeY8nBy0IzwTI30UFYdRlCZB9vQei2o8GKZ9dA8mYbQenU6sFXTCvBTdwqQXOHQ8BAFkxB5monQRst+sDzU6dAkkRIQFZ2g8HHcf5B/YgXQetthsGBw6dBNXd9wUifqcGhzV5ByhKAwdPEIMEgsKBBOoDIQXODoMFM6dLBgrfWQc3XxsGskplBfkwxwdqFt8EISFLB0lueweJrrMFYjN/BRJiLQbaupkHTPMnBPjQEQeHD4kEwr4HBSE5RQZ0Rb8DEucnAvY59wTqt1sBIEZvBXs6CQZaboEGGVJHAwnUoQL4d/0BLCkDB427/wL9TCUIdap5BlJmDwX0Kn8Hst53BHtF4wVRljkEuoq9BSDoYQShBssEhaJU/h28JQv6fo8FskBZBfffzwQXHosFFSYpBvXMTQt0Sz0GCdnHAQ9gBQmFmEkIpDsdBlpuNQKCJnUFZ8dTBX3zPwTPh2sElb0bBOL6ywc2gAEI8ZtNAb3tYwcE7h0G4j+RAYPoOweFKNcFB7h5AxJFnwUcMl8E8tm7A4n7vwcLHVsG0/QHBfDzJQRrbpME9ZoLBaV8GQRIOCkIrcP1B+JAVwWCdkMFZrP/A7COgwfJTtcHuSVLBzMnSQbu9tcGdXlnBoOt+v4W/EUIn6XnBCAwuwaOIa0CKDpRB1PWPwRryLsHdWRVCLnOIQbhBnsFKgxFCHcmAwbvkTMEvR4HAJUXEQb8zusDRuLLBjc2NQdNdIkElVRfBfGXhwU4jQUGFaqTBgH/2wQ52AMJX8PBA9UBBP1+KqcGxJMdAiiK0wUrGC0GvG8PATdW+wcRLH0IocohBDbNnwZTS3EHcAhfB+gXoQXJ9asFXYJrBlrxQQegS+EHp+WJBquoNQkbDksEngrhBimbBv3yRl0Hqu+7Bw54iQNxc6sDciMRBioHlQa0wsUEex88/1zNPwasf40Hlnq9BN65/QCvXZMFCS3fAeBXzQQd/wMHN5KLBypbIwRX6T8GSX83Bbb3MwT+kh0HQgQHCFn7kwR+q0cGpWujBN+BNQVzrYMHw6ZNANnSqwGGRyUFo9lJBB2XSv0ZUVEFQuLfB0meGwYC0BkFvWIk/NhiYQTq0/EFgeLFBbhkzv0uKxEFIejZBx9WgP0nAvMHNv19AVHyywaQavEF2n6HB46yowTkY2MHCkKDBKPquQDesAkJC6czBTlOVQZmxm0GFF65BnErdwVIMo8GjH46/aV7swYNU6kHH30u+ExA8wGIiCkFaJgRC6NVxQGOsP8GvmgdCe0rgwDZEk0G827xBFAb0wRXJscG4CdHBfXLAwdcNksGlHoVAX7vSwP2UvMEMkKXBMDQzwQrrg0H4Y7DBTsgqQWhhsUGJXHfBkUyEwdTA8UGpARbBGcKhwUqmfsHUIOnBXb/owUDOakF6fstBrKRsP4S9mMDISQxAE24UPiFW6UCCZ4zBapUNQv83DUKof4JBozX3Pvk75MGTq4PAmwvzweLDicFCbNO+XTSxQdYLPT9lIKXBp2eFQYlmlcAL+Ke/U1CywYvw9kALC+7BCNksQOJhB0Iu5MhBDiiHwVPpKcEt5uFAeQOcQcuYocFNbQRBkc6UwWAAFkGDMeDAlBiUQUQBYkHXISLBtzG4wZZqT8DGqM7Box5uQUQmQT+FoPW/4THvwT4wx8FsfbVB71mYwYpdlkE3MalBccP9P6bhtkHS/StB7xv6wNvblMAC7mrAL5JZwQlTscBSe9vB5q/GwQktwkFA/r3BPU+dQS6gp0EH95fBA0e2wdIAAsCu8KtBHxOOwfqEBUJN0M3BrbY/wRChuUHJ9u/ACHm0QfGjYr5KhaXBYyGswTLQRkFvCxTBr4CDwboiiUEuyPpBB+3qwdrZqEEcnNPAdtl4QKWgD0FhqJpBl3rTwcVwg8EfNztBvzWOQeEJzcAvNwHB674+P4jjj8HgbCXAyOfYwU/aBELWpqhBvY5owW+1oEGUopPBk6eTQV2dMsH2iDc/dWqwwb0cscG601C/qSWWQQNb68DY4ahB4w9RwfuIG0BMlQxCQzMtPwwl2sF0m7bBMjnjwSnUjMHx58bBKMuywWfHnMFiP89BwvgaQm11p0E4PcHAHdgaQZsTysHxb9PBep58wWyQ38E6mlZBI3mxwfRhq8BQkl1BvGs9QQoC60HN8urBAiyKvkcr5EGpC5bBc11VwU2XssGPhtvBqLbPQbPh1sAf14rBrvipQe9INEBCe97BBHCqQUALUsHVzFHANGqrwRjTqsGjhYfBEQAKwWj3BkFi9J9BxIe4wC93mUEhNuTBshjFwHQ8NkF6WYrBp14UQlaI2UEg4WJBsAjDQJrdAUKSx+LBmMi1vvan8sCT6qDBeq1IQfU0ksFH+/k/G4zqwRT2pMEsysVB7KOnwb6Z08H5vCzBUx1BQZupzEBTbbpBVceCQUoPgsGru1rBxSGfQRL2qsHhSW/Bi3eMwM9qL0H12dBBaX59QREvb8FVh9jBKmvZQSFp7METB1NBbLefQd7hE0KBlanBmTCLwe/N8UC76kDB+mSswRfSDcFa5zvBz2U7wdajjr9rMWtAE6O0wazc6kAeP9PAPUJMwXlhGsFIwavBu64EQhhnsEFFTKLBOuk0QUxMAcCCyH/AETeIQCYk1UF0RANC+JSOwUcQNEFpxcLBCfX1wevqtUEbqTC/2q+qQerUgMAhG5rB6gABQm0z2sGlPY9Bw1i1QQXCr0H+bBLBxHMuP0nR2kDsCJ9BVv5Sweqn0cF80qHB1DvWP5G5xMEeSqpBVjVFQdZy/ECdr8RBKCJSQXN3xkEeeVu/KFnDwXJ7sUFE/9JBKq1FwD/ccUHTqqpBmrwDwgHKvkFzLJJAyX37QHBnp0HoV51B7ggaQkq4vsEcdQFCBVqKwa4G8D2GTQxCO1+IQV6eCL+xYE3BcgfUwfQsv8EKi0HBuiOOQVntYUGyNpXBqWCLwRrogMFJEdu/V3q/wX7D2MHIMeg/CtSoQcPlPsHk5orBiA7bweyan8FFWP9B1lO3QWHDQ0BMhgTB4AdwQb0Za0F6GV3B8vcxQSTDFEHTVZ7BJ83jwZ/yrUEXIeDB5OXLwXw618GyzEXBaibXQWP5kkF8cwVCQI/Twa+sKEHLgXvBTPqxwS0QF8Cw7cPAUWa2QR5JZMHJVNLA1yuzwYjEWUAMMBNCvdfUwQCOFUJIEptB5qypwMs9BcJfdH1Buf5YwXn/p8H/5bhBLxsSQu2kAkB+9SfBs96Xv3zsCMEm850/5qyuv64EgkBscmvBfbPvwXf2dMHIx4bBnbBJwc9m78DbA09BuE+2QfhimEFluprBR9CdQVxF5cHUR83BYlSNwdTe7sE4YTXBq2q8wTme08HGai/A\",\"dtype\":\"float32\",\"order\":\"little\",\"shape\":[2286]}},\"selected\":{\"id\":\"1033\"},\"selection_policy\":{\"id\":\"1032\"}},\"id\":\"1025\",\"type\":\"ColumnDataSource\"},{\"attributes\":{\"text\":\"Words' plot from PWDB data\"},\"id\":\"1003\",\"type\":\"Title\"},{\"attributes\":{\"bottom_units\":\"screen\",\"fill_alpha\":0.5,\"fill_color\":\"lightgrey\",\"left_units\":\"screen\",\"level\":\"overlay\",\"line_alpha\":1.0,\"line_color\":\"black\",\"line_dash\":[4,4],\"line_width\":2,\"right_units\":\"screen\",\"top_units\":\"screen\"},\"id\":\"1018\",\"type\":\"BoxAnnotation\"},{\"attributes\":{},\"id\":\"1005\",\"type\":\"DataRange1d\"},{\"attributes\":{},\"id\":\"1033\",\"type\":\"Selection\"},{\"attributes\":{},\"id\":\"1009\",\"type\":\"LinearScale\"},{\"attributes\":{},\"id\":\"1032\",\"type\":\"UnionRenderers\"}],\"root_ids\":[\"1002\"]},\"title\":\"Bokeh Application\",\"version\":\"2.2.3\"}};\n  var render_items = [{\"docid\":\"f63bd02b-9e38-4902-8aac-d2b031dd70bf\",\"root_ids\":[\"1002\"],\"roots\":{\"1002\":\"03d1a1c6-b236-4357-ad36-1928c46b3ecd\"}}];\n  root.Bokeh.embed.embed_items_notebook(docs_json, render_items);\n\n  }\n  if (root.Bokeh !== undefined) {\n    embed_document(root);\n  } else {\n    var attempts = 0;\n    var timer = setInterval(function(root) {\n      if (root.Bokeh !== undefined) {\n        clearInterval(timer);\n        embed_document(root);\n      } else {\n        attempts++;\n        if (attempts > 100) {\n          clearInterval(timer);\n          console.log(\"Bokeh: ERROR: Unable to run BokehJS code because BokehJS library is missing\");\n        }\n      }\n    }, 10, root)\n  }\n})(window);",
      "application/vnd.bokehjs_exec.v0+json": ""
     },
     "metadata": {
      "application/vnd.bokehjs_exec.v0+json": {
       "id": "1002"
      }
     },
     "output_type": "display_data"
    }
   ],
   "source": [
    "# display Bokeh plots inline\n",
    "output_notebook()\n",
    "# plot configuration\n",
    "bokeh_figure = bp.figure(plot_width=700, plot_height=600, title=\"Words' plot from PWDB data\",\n",
    "                       tools = \"pan, wheel_zoom, box_zoom, reset, hover\",\n",
    "                       x_axis_type=None, y_axis_type=None, min_border=1)\n",
    "# Create DataFrame for tokens and labels that we have\n",
    "df_all_words = pd.DataFrame(fit_all_words, columns=['x', 'y'])\n",
    "df_all_words['words'] = list(dfVec.wv.vocab.keys())\n",
    "# Create scatter plot\n",
    "bokeh_figure.scatter(x='x', y='y', source=df_all_words)\n",
    "hover = bokeh_figure.select(dict(type=HoverTool))\n",
    "hover.tooltips={\"word\": \"@words\"}\n",
    "show(bokeh_figure)"
   ],
   "metadata": {
    "collapsed": false,
    "pycharm": {
     "name": "#%%\n"
    }
   }
  },
  {
   "cell_type": "markdown",
   "source": [
    "### Fit t-SNE model for specific words"
   ],
   "metadata": {
    "collapsed": false,
    "pycharm": {
     "name": "#%% md\n"
    }
   }
  },
  {
   "cell_type": "code",
   "execution_count": 10,
   "outputs": [],
   "source": [
    "# key words we will use as base\n",
    "key_words = ['president', 'covid', 'economic',\n",
    "             'country', 'workers', 'health',\n",
    "             'crisis', 'tax', 'law',\n",
    "             'costs', 'legal', 'companys',\n",
    "             'manufacturing', 'property']\n",
    "\n",
    "# vectors of each word selected\n",
    "embedding_clusters = []\n",
    "# words selected, based on key words\n",
    "word_clusters = []\n",
    "\n",
    "# for every key word we find most similar\n",
    "# words and set them into lists\n",
    "for word in key_words:\n",
    "    embedding = []\n",
    "    words = []\n",
    "\n",
    "    for similar_word, word_vector in dfVec.most_similar(word, topn=30):\n",
    "        words.append(similar_word)\n",
    "        embedding.append(dfVec[similar_word])\n",
    "\n",
    "    embedding_clusters.append(embedding)\n",
    "    word_clusters.append(words)\n",
    "\n"
   ],
   "metadata": {
    "collapsed": false,
    "pycharm": {
     "name": "#%%\n"
    }
   }
  },
  {
   "cell_type": "code",
   "execution_count": 11,
   "outputs": [],
   "source": [
    "# Transform clusters into NumPy Array\n",
    "embedding_clusters = np.array(embedding_clusters)\n",
    "# Declare every axis of the embedding cluster\n",
    "axis_0, axis_1, axis_2 = embedding_clusters.shape\n",
    "\"\"\"\n",
    ":perplexity: The number of nearest neighbors that is used in other manifold learning algorithms\n",
    ":n_components: Dimension of the embedded space\n",
    ":init: Initialization of embedding\n",
    ":n_iter: Maxim number of iterations for the optimization (!!! At least 250 !!!)\n",
    ":random_state: Determines the random number generator\n",
    "\"\"\"\n",
    "tsne_model_specific_words = TSNE(perplexity=15, n_components=2, init='pca', n_iter=3500, random_state=32)\n",
    "fit_specific_words = tsne_model_specific_words.fit_transform(embedding_clusters.reshape(axis_0 * axis_1, axis_2))\n"
   ],
   "metadata": {
    "collapsed": false,
    "pycharm": {
     "name": "#%%\n"
    }
   }
  },
  {
   "cell_type": "code",
   "execution_count": 61,
   "outputs": [
    {
     "data": {
      "text/plain": "        words     clusters\n0   president  established\n0   president      cabinet\n0   president   parliament\n0   president      amended\n0   president    published\n..        ...          ...\n13   property      process\n13   property            à\n13   property        parts\n13   property    documents\n13   property        owned\n\n[420 rows x 2 columns]",
      "text/html": "<div>\n<style scoped>\n    .dataframe tbody tr th:only-of-type {\n        vertical-align: middle;\n    }\n\n    .dataframe tbody tr th {\n        vertical-align: top;\n    }\n\n    .dataframe thead th {\n        text-align: right;\n    }\n</style>\n<table border=\"1\" class=\"dataframe\">\n  <thead>\n    <tr style=\"text-align: right;\">\n      <th></th>\n      <th>words</th>\n      <th>clusters</th>\n    </tr>\n  </thead>\n  <tbody>\n    <tr>\n      <th>0</th>\n      <td>president</td>\n      <td>established</td>\n    </tr>\n    <tr>\n      <th>0</th>\n      <td>president</td>\n      <td>cabinet</td>\n    </tr>\n    <tr>\n      <th>0</th>\n      <td>president</td>\n      <td>parliament</td>\n    </tr>\n    <tr>\n      <th>0</th>\n      <td>president</td>\n      <td>amended</td>\n    </tr>\n    <tr>\n      <th>0</th>\n      <td>president</td>\n      <td>published</td>\n    </tr>\n    <tr>\n      <th>...</th>\n      <td>...</td>\n      <td>...</td>\n    </tr>\n    <tr>\n      <th>13</th>\n      <td>property</td>\n      <td>process</td>\n    </tr>\n    <tr>\n      <th>13</th>\n      <td>property</td>\n      <td>à</td>\n    </tr>\n    <tr>\n      <th>13</th>\n      <td>property</td>\n      <td>parts</td>\n    </tr>\n    <tr>\n      <th>13</th>\n      <td>property</td>\n      <td>documents</td>\n    </tr>\n    <tr>\n      <th>13</th>\n      <td>property</td>\n      <td>owned</td>\n    </tr>\n  </tbody>\n</table>\n<p>420 rows × 2 columns</p>\n</div>"
     },
     "execution_count": 61,
     "metadata": {},
     "output_type": "execute_result"
    }
   ],
   "source": [
    "# Create DataFrame for words and clusters of the specific words\n",
    "data = {'words': key_words, 'clusters': word_clusters}\n",
    "df_specific_words = pd.DataFrame(data, columns=['words', 'clusters'])\n",
    "# Explode cluster column\n",
    "df_specific_words_exploded = df_specific_words.explode('clusters')\n",
    "\n",
    "df_specific_words_exploded"
   ],
   "metadata": {
    "collapsed": false,
    "pycharm": {
     "name": "#%%\n"
    }
   }
  },
  {
   "cell_type": "code",
   "execution_count": 67,
   "outputs": [
    {
     "data": {
      "application/vnd.plotly.v1+json": {
       "config": {
        "plotlyServerURL": "https://plot.ly"
       },
       "data": [
        {
         "hovertemplate": "<b>%{hovertext}</b><br><br>words=president<br>0=%{x}<br>1=%{y}<extra></extra>",
         "hovertext": [
          "established",
          "cabinet",
          "parliament",
          "amended",
          "published",
          "croatia",
          "czech",
          "introduces",
          "series",
          "framework",
          "amongst",
          "declaration",
          "virtue",
          "wednesday",
          "cooperation",
          "regulations",
          "decided",
          "prime",
          "passed",
          "provides",
          "gazette",
          "decision",
          "country",
          "determining",
          "implemented",
          "adopt",
          "circular",
          "ziuzeop",
          "lithuania",
          "ordinance"
         ],
         "legendgroup": "president",
         "marker": {
          "color": "#636efa",
          "symbol": "circle"
         },
         "mode": "markers",
         "name": "president",
         "orientation": "v",
         "showlegend": true,
         "type": "scatter",
         "x": [
          151.5637664794922,
          -200.97720336914062,
          38.938045501708984,
          -242.72447204589844,
          37.351741790771484,
          -76.64804077148438,
          -126.16606903076172,
          -213.58070373535156,
          -104.46481323242188,
          -61.46543502807617,
          -122.6044692993164,
          -209.1433563232422,
          -247.53578186035156,
          -70.66056060791016,
          -283.7370300292969,
          106.72444152832031,
          2.8367085456848145,
          -114.5549545288086,
          -295.69500732421875,
          82.34693145751953,
          -92.83617401123047,
          90.11754608154297,
          65.56507110595703,
          -108.64808654785156,
          25.916316986083984,
          -128.24630737304688,
          -228.87693786621094,
          -94.63346862792969,
          3.0669302940368652,
          19.95583724975586
         ],
         "xaxis": "x",
         "y": [
          263.9347839355469,
          0.6619641780853271,
          200.2427520751953,
          -51.23686981201172,
          186.56381225585938,
          126.21129608154297,
          29.63086700439453,
          -250.597412109375,
          62.89382553100586,
          130.54652404785156,
          -345.4109802246094,
          -9.19224739074707,
          -222.36839294433594,
          -406.890625,
          -183.0602264404297,
          240.46087646484375,
          163.22665405273438,
          -331.3769226074219,
          -153.40017700195312,
          204.3791961669922,
          -363.2198791503906,
          246.67529296875,
          204.41575622558594,
          -346.5919494628906,
          175.1914825439453,
          -330.9118347167969,
          -241.4089813232422,
          -345.90936279296875,
          181.2528839111328,
          148.25204467773438
         ],
         "yaxis": "y"
        },
        {
         "hovertemplate": "<b>%{hovertext}</b><br><br>words=covid<br>0=%{x}<br>1=%{y}<extra></extra>",
         "hovertext": [
          "pandemic",
          "crisis",
          "measures",
          "economic",
          "affected",
          "government",
          "health",
          "emergency",
          "spread",
          "coronavirus",
          "sector",
          "due",
          "package",
          "effects",
          "consequences",
          "act",
          "public",
          "caused",
          "labour",
          "safety",
          "companies",
          "economy",
          "outbreak",
          "help",
          "impact",
          "law",
          "mitigate",
          "support",
          "activities",
          "situation"
         ],
         "legendgroup": "covid",
         "marker": {
          "color": "#EF553B",
          "symbol": "circle"
         },
         "mode": "markers",
         "name": "covid",
         "orientation": "v",
         "showlegend": true,
         "type": "scatter",
         "x": [
          557.5551147460938,
          559.4380493164062,
          535.7628173828125,
          510.53216552734375,
          243.78988647460938,
          291.4140625,
          490.60345458984375,
          329.5459289550781,
          226.83706665039062,
          299.2270812988281,
          417.7828063964844,
          244.85414123535156,
          325.9432373046875,
          186.07669067382812,
          196.030517578125,
          348.54449462890625,
          400.91278076171875,
          29.98429298400879,
          353.439208984375,
          372.56512451171875,
          198.0033416748047,
          240.41680908203125,
          121.1355972290039,
          205.43939208984375,
          152.1134490966797,
          320.2548828125,
          4.873959541320801,
          173.68031311035156,
          226.56427001953125,
          221.4038848876953
         ],
         "xaxis": "x",
         "y": [
          -167.9654541015625,
          -186.98004150390625,
          -180.3628387451172,
          -159.6624298095703,
          -295.5429382324219,
          -303.12261962890625,
          -116.6893310546875,
          -275.5011901855469,
          -242.16836547851562,
          -208.10528564453125,
          44.7037467956543,
          -220.2631072998047,
          -236.22230529785156,
          -228.9936065673828,
          -211.62318420410156,
          -145.83694458007812,
          56.832523345947266,
          6.190510272979736,
          23.070466995239258,
          79.162841796875,
          -68.96418762207031,
          -20.952131271362305,
          21.79659652709961,
          -39.79714584350586,
          26.30904769897461,
          -85.85501861572266,
          24.968551635742188,
          -70.58819580078125,
          0.6304304599761963,
          59.026222229003906
         ],
         "yaxis": "y"
        },
        {
         "hovertemplate": "<b>%{hovertext}</b><br><br>words=economic<br>0=%{x}<br>1=%{y}<extra></extra>",
         "hovertext": [
          "measures",
          "crisis",
          "government",
          "affected",
          "pandemic",
          "spread",
          "emergency",
          "sector",
          "coronavirus",
          "health",
          "package",
          "effects",
          "act",
          "due",
          "consequences",
          "public",
          "covid",
          "caused",
          "labour",
          "safety",
          "economy",
          "impact",
          "outbreak",
          "help",
          "companies",
          "law",
          "mitigate",
          "activities",
          "services",
          "ministry"
         ],
         "legendgroup": "economic",
         "marker": {
          "color": "#00cc96",
          "symbol": "circle"
         },
         "mode": "markers",
         "name": "economic",
         "orientation": "v",
         "showlegend": true,
         "type": "scatter",
         "x": [
          536.0107421875,
          547.4244384765625,
          291.4140625,
          243.78988647460938,
          557.5551147460938,
          226.83706665039062,
          329.5459289550781,
          414.4171142578125,
          299.2270812988281,
          480.5486145019531,
          325.9432373046875,
          186.9719696044922,
          348.54449462890625,
          244.85414123535156,
          201.86392211914062,
          400.91278076171875,
          585.877197265625,
          29.98429298400879,
          353.439208984375,
          372.56512451171875,
          251.66294860839844,
          153.93690490722656,
          129.49842834472656,
          205.43939208984375,
          198.0033416748047,
          320.2548828125,
          8.250875473022461,
          211.97930908203125,
          403.92291259765625,
          275.16302490234375
         ],
         "xaxis": "x",
         "y": [
          -163.29843139648438,
          -197.1645050048828,
          -303.12261962890625,
          -295.5429382324219,
          -167.9654541015625,
          -242.16836547851562,
          -275.5011901855469,
          32.2310676574707,
          -208.10528564453125,
          -123.61137390136719,
          -236.22230529785156,
          -243.26190185546875,
          -145.83694458007812,
          -220.2631072998047,
          -229.04608154296875,
          56.832523345947266,
          -190.10227966308594,
          6.190510272979736,
          23.070466995239258,
          79.162841796875,
          -27.66370964050293,
          12.839885711669922,
          -4.856533050537109,
          -39.79714584350586,
          -68.96418762207031,
          -85.85501861572266,
          9.655104637145996,
          -4.5918192863464355,
          85.4917984008789,
          0.9856922030448914
         ],
         "yaxis": "y"
        },
        {
         "hovertemplate": "<b>%{hovertext}</b><br><br>words=country<br>0=%{x}<br>1=%{y}<extra></extra>",
         "hovertext": [
          "implemented",
          "direct",
          "field",
          "includes",
          "assist",
          "danish",
          "designed",
          "promote",
          "restaurants",
          "firms",
          "prepared",
          "chamber",
          "significant",
          "problems",
          "commerce",
          "decided",
          "provides",
          "various",
          "main",
          "facilitate",
          "initiative",
          "published",
          "situations",
          "existing",
          "policies",
          "croatian",
          "risks",
          "implement",
          "amongst",
          "finnish"
         ],
         "legendgroup": "country",
         "marker": {
          "color": "#ab63fa",
          "symbol": "circle"
         },
         "mode": "markers",
         "name": "country",
         "orientation": "v",
         "showlegend": true,
         "type": "scatter",
         "x": [
          38.32163619995117,
          0.4336940050125122,
          -288.97796630859375,
          63.510623931884766,
          -304.5103759765625,
          -127.16490936279297,
          -142.9474639892578,
          23.55183982849121,
          -77.88636779785156,
          -229.40789794921875,
          -256.20623779296875,
          94.96782684326172,
          53.16176986694336,
          -115.4969711303711,
          -137.85545349121094,
          15.228358268737793,
          79.53560638427734,
          -254.5033416748047,
          138.4507598876953,
          -132.9397430419922,
          -64.25846099853516,
          50.27113342285156,
          -48.45915985107422,
          105.50921630859375,
          -241.49916076660156,
          21.47121810913086,
          -299.86419677734375,
          -117.99824523925781,
          -100.84154510498047,
          -269.07086181640625
         ],
         "xaxis": "x",
         "y": [
          169.5897674560547,
          148.58389282226562,
          -168.48736572265625,
          221.30824279785156,
          -165.7944793701172,
          48.704673767089844,
          51.62700271606445,
          203.16445922851562,
          111.70865631103516,
          -57.54768753051758,
          -212.0532684326172,
          229.1291046142578,
          211.87759399414062,
          41.44817352294922,
          38.27559280395508,
          161.5753631591797,
          217.0482940673828,
          -79.92189025878906,
          269.6343994140625,
          62.11330795288086,
          115.32615661621094,
          186.292724609375,
          124.47708129882812,
          254.5223846435547,
          -67.1454086303711,
          189.24636840820312,
          -179.56015014648438,
          64.8992691040039,
          -330.52874755859375,
          -204.25286865234375
         ],
         "yaxis": "y"
        },
        {
         "hovertemplate": "<b>%{hovertext}</b><br><br>words=workers<br>0=%{x}<br>1=%{y}<extra></extra>",
         "hovertext": [
          "care",
          "temporary",
          "protection",
          "occupational",
          "private",
          "service",
          "essential",
          "unions",
          "protect",
          "ensure",
          "employers",
          "union",
          "rescue",
          "risk",
          "well",
          "necessary",
          "protocol",
          "infection",
          "many",
          "infectious",
          "organisations",
          "transport",
          "need",
          "concerning",
          "prevention",
          "medical",
          "among",
          "disease",
          "partners",
          "professionals"
         ],
         "legendgroup": "workers",
         "marker": {
          "color": "#FFA15A",
          "symbol": "circle"
         },
         "mode": "markers",
         "name": "workers",
         "orientation": "v",
         "showlegend": true,
         "type": "scatter",
         "x": [
          137.5507354736328,
          140.36300659179688,
          126.22479248046875,
          162.358154296875,
          121.41148376464844,
          152.98683166503906,
          103.60456848144531,
          233.01097106933594,
          -78.30644989013672,
          165.5561981201172,
          135.34091186523438,
          231.86126708984375,
          -99.08100128173828,
          186.4246063232422,
          201.2158660888672,
          185.30322265625,
          -20.356096267700195,
          -12.282044410705566,
          197.07968139648438,
          -63.26538848876953,
          177.76150512695312,
          211.46263122558594,
          174.5535125732422,
          -52.67955017089844,
          108.52327728271484,
          133.7119903564453,
          90.86236572265625,
          -92.67756652832031,
          296.2945556640625,
          -68.46485900878906
         ],
         "xaxis": "x",
         "y": [
          190.3509979248047,
          155.1479949951172,
          157.19093322753906,
          190.12953186035156,
          171.824462890625,
          201.58218383789062,
          172.80490112304688,
          188.62232971191406,
          49.92542266845703,
          211.60128784179688,
          233.58416748046875,
          173.65248107910156,
          -376.4012145996094,
          213.4065704345703,
          205.40768432617188,
          194.12782287597656,
          127.70973205566406,
          118.0950698852539,
          184.4354248046875,
          -429.63751220703125,
          182.01547241210938,
          168.56593322753906,
          201.1501922607422,
          99.63060760498047,
          149.31878662109375,
          249.4008026123047,
          165.42144775390625,
          37.103763580322266,
          54.33434295654297,
          99.39030456542969
         ],
         "yaxis": "y"
        },
        {
         "hovertemplate": "<b>%{hovertext}</b><br><br>words=health<br>0=%{x}<br>1=%{y}<extra></extra>",
         "hovertext": [
          "economic",
          "public",
          "sector",
          "measures",
          "crisis",
          "safety",
          "pandemic",
          "affected",
          "act",
          "labour",
          "government",
          "services",
          "spread",
          "coronavirus",
          "effects",
          "covid",
          "due",
          "consequences",
          "package",
          "emergency",
          "trade",
          "caused",
          "social",
          "impact",
          "law",
          "order",
          "ministry",
          "economy",
          "activities",
          "help"
         ],
         "legendgroup": "health",
         "marker": {
          "color": "#19d3f3",
          "symbol": "circle"
         },
         "mode": "markers",
         "name": "health",
         "orientation": "v",
         "showlegend": true,
         "type": "scatter",
         "x": [
          506.7293701171875,
          400.91278076171875,
          429.40460205078125,
          535.7628173828125,
          559.4380493164062,
          372.56512451171875,
          557.5551147460938,
          243.78988647460938,
          348.54449462890625,
          343.7756652832031,
          291.4140625,
          403.92291259765625,
          226.83706665039062,
          299.2270812988281,
          177.47996520996094,
          578.6070556640625,
          244.85414123535156,
          201.86392211914062,
          340.37451171875,
          316.73974609375,
          347.38519287109375,
          11.043435096740723,
          316.1687316894531,
          138.72695922851562,
          320.2548828125,
          181.71322631835938,
          275.16302490234375,
          234.48818969726562,
          211.97930908203125,
          205.43939208984375
         ],
         "xaxis": "x",
         "y": [
          -171.6650390625,
          56.832523345947266,
          50.01461410522461,
          -180.3628387451172,
          -186.98004150390625,
          79.162841796875,
          -167.9654541015625,
          -295.5429382324219,
          -145.83694458007812,
          32.861083984375,
          -303.12261962890625,
          85.4917984008789,
          -242.16836547851562,
          -208.10528564453125,
          -216.3282470703125,
          -203.98179626464844,
          -220.2631072998047,
          -229.04608154296875,
          -241.44781494140625,
          -269.4808654785156,
          97.73748779296875,
          -9.743500709533691,
          50.434818267822266,
          26.056838989257812,
          -85.85501861572266,
          39.236976623535156,
          0.9856922030448914,
          -32.1453857421875,
          -4.5918192863464355,
          -39.79714584350586
         ],
         "yaxis": "y"
        },
        {
         "hovertemplate": "<b>%{hovertext}</b><br><br>words=crisis<br>0=%{x}<br>1=%{y}<extra></extra>",
         "hovertext": [
          "pandemic",
          "measures",
          "covid",
          "economic",
          "affected",
          "government",
          "health",
          "spread",
          "emergency",
          "coronavirus",
          "sector",
          "due",
          "package",
          "effects",
          "consequences",
          "act",
          "public",
          "caused",
          "labour",
          "safety",
          "economy",
          "companies",
          "outbreak",
          "help",
          "impact",
          "law",
          "mitigate",
          "activities",
          "situation",
          "support"
         ],
         "legendgroup": "crisis",
         "marker": {
          "color": "#FF6692",
          "symbol": "circle"
         },
         "mode": "markers",
         "name": "crisis",
         "orientation": "v",
         "showlegend": true,
         "type": "scatter",
         "x": [
          557.5551147460938,
          535.7628173828125,
          578.6070556640625,
          506.7293701171875,
          231.0323944091797,
          302.246337890625,
          490.60345458984375,
          214.53460693359375,
          318.0776672363281,
          311.6568603515625,
          428.3171691894531,
          244.85414123535156,
          337.86181640625,
          177.47996520996094,
          196.030517578125,
          333.3331604003906,
          400.91278076171875,
          26.803508758544922,
          353.439208984375,
          369.8096618652344,
          236.61721801757812,
          198.0033416748047,
          120.1351089477539,
          205.43939208984375,
          140.01121520996094,
          320.2548828125,
          8.250875473022461,
          214.70559692382812,
          230.4302215576172,
          174.5982666015625
         ],
         "xaxis": "x",
         "y": [
          -167.9654541015625,
          -180.3628387451172,
          -203.98179626464844,
          -171.6650390625,
          -301.6671142578125,
          -312.39154052734375,
          -116.6893310546875,
          -253.6067352294922,
          -283.022216796875,
          -198.7689666748047,
          35.65211486816406,
          -220.2631072998047,
          -226.56536865234375,
          -216.3282470703125,
          -211.62318420410156,
          -144.70301818847656,
          56.832523345947266,
          -9.880690574645996,
          23.070466995239258,
          65.42047882080078,
          -44.98903274536133,
          -68.96418762207031,
          6.8247575759887695,
          -39.79714584350586,
          12.624146461486816,
          -85.85501861572266,
          9.655104637145996,
          10.496089935302734,
          49.928348541259766,
          -59.00364685058594
         ],
         "yaxis": "y"
        },
        {
         "hovertemplate": "<b>%{hovertext}</b><br><br>words=tax<br>0=%{x}<br>1=%{y}<extra></extra>",
         "hovertext": [
          "income",
          "payment",
          "grant",
          "approx",
          "czk",
          "repayment",
          "costs",
          "amounts",
          "revenue",
          "received",
          "dkk",
          "eligible",
          "june",
          "turnover",
          "depends",
          "huf",
          "taxes",
          "bgn",
          "ron",
          "interest",
          "maturity",
          "december",
          "preceding",
          "",
          "calculated",
          "additional",
          "compared",
          "twelve",
          "grace",
          "basic"
         ],
         "legendgroup": "tax",
         "marker": {
          "color": "#B6E880",
          "symbol": "circle"
         },
         "mode": "markers",
         "name": "tax",
         "orientation": "v",
         "showlegend": true,
         "type": "scatter",
         "x": [
          -232.0648651123047,
          -238.68995666503906,
          -216.1629180908203,
          -294.3612976074219,
          -278.0611877441406,
          -291.8507995605469,
          -192.32806396484375,
          -268.7033386230469,
          -169.0137939453125,
          -293.54022216796875,
          -131.67718505859375,
          -207.98391723632812,
          -229.8875274658203,
          -231.74501037597656,
          -50.51787185668945,
          -372.93353271484375,
          -290.20538330078125,
          -387.53826904296875,
          -375.1398010253906,
          -210.04251098632812,
          -33.05400848388672,
          -216.6323699951172,
          -36.90788650512695,
          -185.66946411132812,
          -351.28533935546875,
          -186.61166381835938,
          -301.1348876953125,
          -44.38951110839844,
          -39.63398361206055,
          -194.21351623535156
         ],
         "xaxis": "x",
         "y": [
          472.8956604003906,
          462.78424072265625,
          428.8016662597656,
          294.0395812988281,
          303.68096923828125,
          257.01904296875,
          462.46063232421875,
          290.37884521484375,
          417.1849365234375,
          229.6529083251953,
          -231.76747131347656,
          449.1835632324219,
          389.14959716796875,
          415.06231689453125,
          -366.0755615234375,
          23.229656219482422,
          214.88839721679688,
          20.46700668334961,
          5.0387654304504395,
          475.3609313964844,
          -344.1959228515625,
          400.8279113769531,
          -358.6283264160156,
          447.5516357421875,
          55.75821304321289,
          409.74822998046875,
          243.2754364013672,
          -422.1635437011719,
          -407.91180419921875,
          388.23284912109375
         ],
         "yaxis": "y"
        },
        {
         "hovertemplate": "<b>%{hovertext}</b><br><br>words=law<br>0=%{x}<br>1=%{y}<extra></extra>",
         "hovertext": [
          "decree",
          "act",
          "adopted",
          "ministry",
          "economy",
          "suppression",
          "deal",
          "mitigate",
          "minister",
          "impact",
          "address",
          "situation",
          "related",
          "order",
          "outbreak",
          "consequences",
          "effects",
          "caused",
          "result",
          "activities",
          "negative",
          "context",
          "counteract",
          "impacts",
          "coronavirus",
          "package",
          "sectors",
          "epidemic",
          "cushion",
          "spread"
         ],
         "legendgroup": "law",
         "marker": {
          "color": "#FF97FF",
          "symbol": "circle"
         },
         "mode": "markers",
         "name": "law",
         "orientation": "v",
         "showlegend": true,
         "type": "scatter",
         "x": [
          311.8907775878906,
          333.3331604003906,
          174.85733032226562,
          271.38629150390625,
          248.80877685546875,
          -87.29776000976562,
          -72.37568664550781,
          8.250875473022461,
          220.9661407470703,
          147.67880249023438,
          24.47688102722168,
          218.6038360595703,
          170.9446563720703,
          189.0148162841797,
          120.1351089477539,
          211.70205688476562,
          172.3487091064453,
          26.803508758544922,
          206.9595489501953,
          214.70559692382812,
          -67.4901351928711,
          106.93295288085938,
          -76.18626403808594,
          -112.4328384399414,
          311.6568603515625,
          337.86181640625,
          233.98306274414062,
          33.12367248535156,
          -86.2396240234375,
          214.53460693359375
         ],
         "xaxis": "x",
         "y": [
          -68.01107788085938,
          -144.70301818847656,
          4.313474655151367,
          13.176827430725098,
          -40.12306213378906,
          -414.3228759765625,
          9.965428352355957,
          9.655104637145996,
          157.43038940429688,
          0.7455310225486755,
          27.084171295166016,
          45.315006256103516,
          19.852739334106445,
          30.81179428100586,
          6.8247575759887695,
          -215.16683959960938,
          -233.77012634277344,
          -9.880690574645996,
          54.80790710449219,
          10.496089935302734,
          19.637165069580078,
          134.66421508789062,
          -422.16278076171875,
          -368.7429504394531,
          -198.7689666748047,
          -226.56536865234375,
          19.516508102416992,
          37.33384323120117,
          -399.9632873535156,
          -253.6067352294922
         ],
         "yaxis": "y"
        },
        {
         "hovertemplate": "<b>%{hovertext}</b><br><br>words=costs<br>0=%{x}<br>1=%{y}<extra></extra>",
         "hovertext": [
          "czk",
          "amounts",
          "ron",
          "grant",
          "approx",
          "eligible",
          "",
          "depends",
          "term",
          "payable",
          "fixed",
          "turnover",
          "received",
          "huf",
          "additional",
          "revenue",
          "calculated",
          "twelve",
          "lower",
          "depending",
          "maturity",
          "dkk",
          "value",
          "exceeding",
          "cover",
          "repayment",
          "sek",
          "december",
          "less",
          "double"
         ],
         "legendgroup": "costs",
         "marker": {
          "color": "#FECB52",
          "symbol": "circle"
         },
         "mode": "markers",
         "name": "costs",
         "orientation": "v",
         "showlegend": true,
         "type": "scatter",
         "x": [
          -278.0611877441406,
          -282.0146179199219,
          -375.1398010253906,
          -224.28077697753906,
          -293.54425048828125,
          -207.98391723632812,
          -185.66946411132812,
          -50.51787185668945,
          -208.93704223632812,
          -359.1232604980469,
          -295.26055908203125,
          -231.74501037597656,
          -285.1598205566406,
          -362.7763671875,
          -186.61166381835938,
          -179.772705078125,
          -351.28533935546875,
          -52.318572998046875,
          -269.92730712890625,
          -307.41436767578125,
          -46.21470260620117,
          -120.38169860839844,
          -166.5015411376953,
          -123.75008392333984,
          -175.55030822753906,
          -306.5365905761719,
          -277.1465759277344,
          -205.07040405273438,
          -200.3537139892578,
          -55.79716873168945
         ],
         "xaxis": "x",
         "y": [
          303.68096923828125,
          285.6893005371094,
          5.0387654304504395,
          437.89276123046875,
          307.6971435546875,
          449.1835632324219,
          447.5516357421875,
          -366.0755615234375,
          389.36663818359375,
          33.1180419921875,
          273.6588134765625,
          415.06231689453125,
          239.40252685546875,
          16.07990074157715,
          409.74822998046875,
          425.70159912109375,
          55.75821304321289,
          -400.5273132324219,
          275.3072204589844,
          230.73516845703125,
          -344.05963134765625,
          -230.7565155029297,
          432.3905029296875,
          -246.50718688964844,
          395.7763366699219,
          258.9346618652344,
          223.69212341308594,
          404.1940002441406,
          433.43487548828125,
          -414.1477966308594
         ],
         "yaxis": "y"
        },
        {
         "hovertemplate": "<b>%{hovertext}</b><br><br>words=legal<br>0=%{x}<br>1=%{y}<extra></extra>",
         "hovertext": [
          "regime",
          "therefore",
          "residence",
          "contact",
          "doctors",
          "sets",
          "performance",
          "follow",
          "model",
          "regulated",
          "body",
          "recognition",
          "covered",
          "whenever",
          "masks",
          "return",
          "process",
          "using",
          "condition",
          "negotiations",
          "better",
          "professional",
          "flexibility",
          "organised",
          "grounds",
          "cabin",
          "considered",
          "introduce",
          "httpsstaticeurofoundeuropaeucaseseshtmlutmsourceexternaldashboardutmmediumpowerbiutmcampaigncovid",
          "proceedings"
         ],
         "legendgroup": "legal",
         "marker": {
          "color": "#636efa",
          "symbol": "circle"
         },
         "mode": "markers",
         "name": "legal",
         "orientation": "v",
         "showlegend": true,
         "type": "scatter",
         "x": [
          -93.20708465576172,
          106.01148986816406,
          -109.5442123413086,
          -50.82039260864258,
          -122.3721694946289,
          -286.65106201171875,
          -217.30270385742188,
          -204.21829223632812,
          -275.5174560546875,
          -274.9857177734375,
          -143.62551879882812,
          -232.84352111816406,
          -37.69827651977539,
          -266.1920471191406,
          -217.24542236328125,
          93.2829360961914,
          83.52301788330078,
          -135.0375213623047,
          -100.08440399169922,
          -218.61639404296875,
          -138.2903594970703,
          64.18024444580078,
          -209.47744750976562,
          -114.23070526123047,
          -75.73628997802734,
          -226.797119140625,
          -125.3486557006836,
          -175.07200622558594,
          -78.40643310546875,
          -156.9667510986328
         ],
         "xaxis": "x",
         "y": [
          191.79257202148438,
          293.61376953125,
          192.62806701660156,
          229.44309997558594,
          177.63951110839844,
          -29.778751373291016,
          70.08912658691406,
          -202.74594116210938,
          -114.6012191772461,
          -19.532140731811523,
          151.66165161132812,
          -171.08865356445312,
          236.52532958984375,
          -124.10665130615234,
          83.5890884399414,
          298.4614562988281,
          281.76416015625,
          185.8187713623047,
          207.8651580810547,
          -200.3796844482422,
          170.5352325439453,
          276.5417175292969,
          -188.99964904785156,
          -314.3444519042969,
          -364.87042236328125,
          -186.791015625,
          162.77230834960938,
          -257.36627197265625,
          -350.6215515136719,
          160.39862060546875
         ],
         "yaxis": "y"
        },
        {
         "hovertemplate": "<b>%{hovertext}</b><br><br>words=companys<br>0=%{x}<br>1=%{y}<extra></extra>",
         "hovertext": [
          "meet",
          "greater",
          "balance",
          "test",
          "assessed",
          "still",
          "summer",
          "previously",
          "sales",
          "required",
          "regularly",
          "submit",
          "type",
          "duty",
          "share",
          "participation",
          "landlord",
          "break",
          "profit",
          "assessment",
          "refund",
          "phase",
          "possibility",
          "money",
          "addition",
          "vehicle",
          "start",
          "usually",
          "experienced",
          "categories"
         ],
         "legendgroup": "companys",
         "marker": {
          "color": "#EF553B",
          "symbol": "circle"
         },
         "mode": "markers",
         "name": "companys",
         "orientation": "v",
         "showlegend": true,
         "type": "scatter",
         "x": [
          -33.8005485534668,
          -254.3303680419922,
          -298.7897033691406,
          -239.26283264160156,
          -155.69430541992188,
          -83.68904113769531,
          -303.4728088378906,
          -245.921142578125,
          -120.65553283691406,
          74.7342529296875,
          -196.03118896484375,
          -313.3048400878906,
          -174.18426513671875,
          -125.08978271484375,
          -175.04713439941406,
          -72.5321044921875,
          -235.66517639160156,
          -136.1499786376953,
          -138.68968200683594,
          -321.8992614746094,
          -187.9322052001953,
          -318.80572509765625,
          47.83725357055664,
          -307.7607116699219,
          82.24217224121094,
          -64.3069076538086,
          -68.1393814086914,
          -242.75624084472656,
          -144.00428771972656,
          -306.7121276855469
         ],
         "xaxis": "x",
         "y": [
          256.2098083496094,
          73.2782974243164,
          14.135204315185547,
          78.95266723632812,
          -250.77206420898438,
          235.0675506591797,
          -4.141369342803955,
          90.27000427246094,
          223.4431610107422,
          299.2977600097656,
          -175.1207733154297,
          6.6616339683532715,
          -223.1181182861328,
          -305.076416015625,
          -201.3461456298828,
          227.30213928222656,
          -141.74346923828125,
          -290.8620300292969,
          -275.7207946777344,
          -26.52044105529785,
          -195.80752563476562,
          -11.423260688781738,
          288.5626525878906,
          24.465049743652344,
          313.4288330078125,
          -355.16717529296875,
          241.3214569091797,
          -128.2866668701172,
          -262.90185546875,
          -19.32349967956543
         ],
         "yaxis": "y"
        },
        {
         "hovertemplate": "<b>%{hovertext}</b><br><br>words=manufacturing<br>0=%{x}<br>1=%{y}<extra></extra>",
         "hovertext": [
          "demand",
          "different",
          "air",
          "road",
          "tour",
          "mainly",
          "include",
          "performing",
          "shops",
          "improve",
          "creation",
          "develop",
          "communication",
          "hotels",
          "primarily",
          "processing",
          "tourist",
          "operations",
          "via",
          "goal",
          "states",
          "register",
          "rapid",
          "focus",
          "fact",
          "international",
          "region",
          "together",
          "similar",
          "producers"
         ],
         "legendgroup": "manufacturing",
         "marker": {
          "color": "#00cc96",
          "symbol": "circle"
         },
         "mode": "markers",
         "name": "manufacturing",
         "orientation": "v",
         "showlegend": true,
         "type": "scatter",
         "x": [
          -235.955810546875,
          122.8917007446289,
          13.874953269958496,
          -227.1514434814453,
          -157.81182861328125,
          -243.10296630859375,
          90.92561340332031,
          -196.34487915039062,
          -232.00611877441406,
          -170.811279296875,
          27.2777099609375,
          -133.39785766601562,
          -258.04681396484375,
          -250.43785095214844,
          -269.5208740234375,
          -216.93807983398438,
          -2.351562738418579,
          -142.4345245361328,
          -93.86308288574219,
          -164.828125,
          113.43284606933594,
          -247.93397521972656,
          -222.16629028320312,
          -280.0927734375,
          -273.03204345703125,
          -261.79180908203125,
          -265.29046630859375,
          -81.75655364990234,
          -209.19020080566406,
          -280.7449951171875
         ],
         "xaxis": "x",
         "y": [
          15.021063804626465,
          280.70599365234375,
          236.28387451171875,
          -213.181396484375,
          112.01026153564453,
          -15.059355735778809,
          262.6573486328125,
          59.96275329589844,
          -0.871347963809967,
          106.46192932128906,
          244.91188049316406,
          132.945068359375,
          -19.062061309814453,
          -32.39777755737305,
          -159.96112060546875,
          23.039447784423828,
          237.69760131835938,
          124.03148651123047,
          161.68771362304688,
          93.97749328613281,
          271.4677429199219,
          0.5462244749069214,
          9.731697082519531,
          -151.8560333251953,
          -48.499881744384766,
          -57.35767364501953,
          -36.3221321105957,
          170.5743408203125,
          56.02075958251953,
          -137.85113525390625
         ],
         "yaxis": "y"
        },
        {
         "hovertemplate": "<b>%{hovertext}</b><br><br>words=property<br>0=%{x}<br>1=%{y}<extra></extra>",
         "hovertext": [
          "tenants",
          "buildings",
          "proceedings",
          "although",
          "andor",
          "fiscal",
          "early",
          "future",
          "currently",
          "purchase",
          "operate",
          "postponement",
          "cancellation",
          "residence",
          "deadlines",
          "premises",
          "formação",
          "position",
          "see",
          "incurred",
          "profissional",
          "ability",
          "deliver",
          "voucher",
          "planned",
          "process",
          "à",
          "parts",
          "documents",
          "owned"
         ],
         "legendgroup": "property",
         "marker": {
          "color": "#ab63fa",
          "symbol": "circle"
         },
         "mode": "markers",
         "name": "property",
         "orientation": "v",
         "showlegend": true,
         "type": "scatter",
         "x": [
          -171.96165466308594,
          -286.099609375,
          -156.9667510986328,
          -262.60546875,
          -79.04035949707031,
          -250.58087158203125,
          -227.5503387451172,
          -22.11178207397461,
          48.97338104248047,
          -201.32803344726562,
          -218.48463439941406,
          -157.60104370117188,
          -160.1136474609375,
          -104.61526489257812,
          -172.51943969726562,
          -161.56207275390625,
          -209.7053680419922,
          -204.5381622314453,
          -176.2239532470703,
          -195.98696899414062,
          -194.7037353515625,
          -175.3141326904297,
          -191.87522888183594,
          -121.57585144042969,
          -156.14395141601562,
          83.52301788330078,
          -188.0057373046875,
          -266.0790710449219,
          -188.21768188476562,
          -282.0854797363281
         ],
         "xaxis": "x",
         "y": [
          151.00840759277344,
          -59.934539794921875,
          160.39862060546875,
          -142.7378387451172,
          208.1385040283203,
          -152.61546325683594,
          36.113861083984375,
          239.20281982421875,
          270.9338684082031,
          76.07147216796875,
          -173.02857971191406,
          -281.90850830078125,
          -267.35394287109375,
          180.6766357421875,
          -274.98406982421875,
          135.02993774414062,
          -217.52767944335938,
          92.94214630126953,
          135.89503479003906,
          110.05719757080078,
          -218.61892700195312,
          -242.3263702392578,
          -234.0693817138672,
          202.02352905273438,
          177.06155395507812,
          281.76416015625,
          -250.38270568847656,
          -4.099015235900879,
          91.83956909179688,
          -80.52357482910156
         ],
         "yaxis": "y"
        }
       ],
       "layout": {
        "legend": {
         "title": {
          "text": "words"
         },
         "tracegroupgap": 0
        },
        "margin": {
         "t": 60
        },
        "template": {
         "data": {
          "bar": [
           {
            "error_x": {
             "color": "#2a3f5f"
            },
            "error_y": {
             "color": "#2a3f5f"
            },
            "marker": {
             "line": {
              "color": "#E5ECF6",
              "width": 0.5
             }
            },
            "type": "bar"
           }
          ],
          "barpolar": [
           {
            "marker": {
             "line": {
              "color": "#E5ECF6",
              "width": 0.5
             }
            },
            "type": "barpolar"
           }
          ],
          "carpet": [
           {
            "aaxis": {
             "endlinecolor": "#2a3f5f",
             "gridcolor": "white",
             "linecolor": "white",
             "minorgridcolor": "white",
             "startlinecolor": "#2a3f5f"
            },
            "baxis": {
             "endlinecolor": "#2a3f5f",
             "gridcolor": "white",
             "linecolor": "white",
             "minorgridcolor": "white",
             "startlinecolor": "#2a3f5f"
            },
            "type": "carpet"
           }
          ],
          "choropleth": [
           {
            "colorbar": {
             "outlinewidth": 0,
             "ticks": ""
            },
            "type": "choropleth"
           }
          ],
          "contour": [
           {
            "colorbar": {
             "outlinewidth": 0,
             "ticks": ""
            },
            "colorscale": [
             [
              0.0,
              "#0d0887"
             ],
             [
              0.1111111111111111,
              "#46039f"
             ],
             [
              0.2222222222222222,
              "#7201a8"
             ],
             [
              0.3333333333333333,
              "#9c179e"
             ],
             [
              0.4444444444444444,
              "#bd3786"
             ],
             [
              0.5555555555555556,
              "#d8576b"
             ],
             [
              0.6666666666666666,
              "#ed7953"
             ],
             [
              0.7777777777777778,
              "#fb9f3a"
             ],
             [
              0.8888888888888888,
              "#fdca26"
             ],
             [
              1.0,
              "#f0f921"
             ]
            ],
            "type": "contour"
           }
          ],
          "contourcarpet": [
           {
            "colorbar": {
             "outlinewidth": 0,
             "ticks": ""
            },
            "type": "contourcarpet"
           }
          ],
          "heatmap": [
           {
            "colorbar": {
             "outlinewidth": 0,
             "ticks": ""
            },
            "colorscale": [
             [
              0.0,
              "#0d0887"
             ],
             [
              0.1111111111111111,
              "#46039f"
             ],
             [
              0.2222222222222222,
              "#7201a8"
             ],
             [
              0.3333333333333333,
              "#9c179e"
             ],
             [
              0.4444444444444444,
              "#bd3786"
             ],
             [
              0.5555555555555556,
              "#d8576b"
             ],
             [
              0.6666666666666666,
              "#ed7953"
             ],
             [
              0.7777777777777778,
              "#fb9f3a"
             ],
             [
              0.8888888888888888,
              "#fdca26"
             ],
             [
              1.0,
              "#f0f921"
             ]
            ],
            "type": "heatmap"
           }
          ],
          "heatmapgl": [
           {
            "colorbar": {
             "outlinewidth": 0,
             "ticks": ""
            },
            "colorscale": [
             [
              0.0,
              "#0d0887"
             ],
             [
              0.1111111111111111,
              "#46039f"
             ],
             [
              0.2222222222222222,
              "#7201a8"
             ],
             [
              0.3333333333333333,
              "#9c179e"
             ],
             [
              0.4444444444444444,
              "#bd3786"
             ],
             [
              0.5555555555555556,
              "#d8576b"
             ],
             [
              0.6666666666666666,
              "#ed7953"
             ],
             [
              0.7777777777777778,
              "#fb9f3a"
             ],
             [
              0.8888888888888888,
              "#fdca26"
             ],
             [
              1.0,
              "#f0f921"
             ]
            ],
            "type": "heatmapgl"
           }
          ],
          "histogram": [
           {
            "marker": {
             "colorbar": {
              "outlinewidth": 0,
              "ticks": ""
             }
            },
            "type": "histogram"
           }
          ],
          "histogram2d": [
           {
            "colorbar": {
             "outlinewidth": 0,
             "ticks": ""
            },
            "colorscale": [
             [
              0.0,
              "#0d0887"
             ],
             [
              0.1111111111111111,
              "#46039f"
             ],
             [
              0.2222222222222222,
              "#7201a8"
             ],
             [
              0.3333333333333333,
              "#9c179e"
             ],
             [
              0.4444444444444444,
              "#bd3786"
             ],
             [
              0.5555555555555556,
              "#d8576b"
             ],
             [
              0.6666666666666666,
              "#ed7953"
             ],
             [
              0.7777777777777778,
              "#fb9f3a"
             ],
             [
              0.8888888888888888,
              "#fdca26"
             ],
             [
              1.0,
              "#f0f921"
             ]
            ],
            "type": "histogram2d"
           }
          ],
          "histogram2dcontour": [
           {
            "colorbar": {
             "outlinewidth": 0,
             "ticks": ""
            },
            "colorscale": [
             [
              0.0,
              "#0d0887"
             ],
             [
              0.1111111111111111,
              "#46039f"
             ],
             [
              0.2222222222222222,
              "#7201a8"
             ],
             [
              0.3333333333333333,
              "#9c179e"
             ],
             [
              0.4444444444444444,
              "#bd3786"
             ],
             [
              0.5555555555555556,
              "#d8576b"
             ],
             [
              0.6666666666666666,
              "#ed7953"
             ],
             [
              0.7777777777777778,
              "#fb9f3a"
             ],
             [
              0.8888888888888888,
              "#fdca26"
             ],
             [
              1.0,
              "#f0f921"
             ]
            ],
            "type": "histogram2dcontour"
           }
          ],
          "mesh3d": [
           {
            "colorbar": {
             "outlinewidth": 0,
             "ticks": ""
            },
            "type": "mesh3d"
           }
          ],
          "parcoords": [
           {
            "line": {
             "colorbar": {
              "outlinewidth": 0,
              "ticks": ""
             }
            },
            "type": "parcoords"
           }
          ],
          "pie": [
           {
            "automargin": true,
            "type": "pie"
           }
          ],
          "scatter": [
           {
            "marker": {
             "colorbar": {
              "outlinewidth": 0,
              "ticks": ""
             }
            },
            "type": "scatter"
           }
          ],
          "scatter3d": [
           {
            "line": {
             "colorbar": {
              "outlinewidth": 0,
              "ticks": ""
             }
            },
            "marker": {
             "colorbar": {
              "outlinewidth": 0,
              "ticks": ""
             }
            },
            "type": "scatter3d"
           }
          ],
          "scattercarpet": [
           {
            "marker": {
             "colorbar": {
              "outlinewidth": 0,
              "ticks": ""
             }
            },
            "type": "scattercarpet"
           }
          ],
          "scattergeo": [
           {
            "marker": {
             "colorbar": {
              "outlinewidth": 0,
              "ticks": ""
             }
            },
            "type": "scattergeo"
           }
          ],
          "scattergl": [
           {
            "marker": {
             "colorbar": {
              "outlinewidth": 0,
              "ticks": ""
             }
            },
            "type": "scattergl"
           }
          ],
          "scattermapbox": [
           {
            "marker": {
             "colorbar": {
              "outlinewidth": 0,
              "ticks": ""
             }
            },
            "type": "scattermapbox"
           }
          ],
          "scatterpolar": [
           {
            "marker": {
             "colorbar": {
              "outlinewidth": 0,
              "ticks": ""
             }
            },
            "type": "scatterpolar"
           }
          ],
          "scatterpolargl": [
           {
            "marker": {
             "colorbar": {
              "outlinewidth": 0,
              "ticks": ""
             }
            },
            "type": "scatterpolargl"
           }
          ],
          "scatterternary": [
           {
            "marker": {
             "colorbar": {
              "outlinewidth": 0,
              "ticks": ""
             }
            },
            "type": "scatterternary"
           }
          ],
          "surface": [
           {
            "colorbar": {
             "outlinewidth": 0,
             "ticks": ""
            },
            "colorscale": [
             [
              0.0,
              "#0d0887"
             ],
             [
              0.1111111111111111,
              "#46039f"
             ],
             [
              0.2222222222222222,
              "#7201a8"
             ],
             [
              0.3333333333333333,
              "#9c179e"
             ],
             [
              0.4444444444444444,
              "#bd3786"
             ],
             [
              0.5555555555555556,
              "#d8576b"
             ],
             [
              0.6666666666666666,
              "#ed7953"
             ],
             [
              0.7777777777777778,
              "#fb9f3a"
             ],
             [
              0.8888888888888888,
              "#fdca26"
             ],
             [
              1.0,
              "#f0f921"
             ]
            ],
            "type": "surface"
           }
          ],
          "table": [
           {
            "cells": {
             "fill": {
              "color": "#EBF0F8"
             },
             "line": {
              "color": "white"
             }
            },
            "header": {
             "fill": {
              "color": "#C8D4E3"
             },
             "line": {
              "color": "white"
             }
            },
            "type": "table"
           }
          ]
         },
         "layout": {
          "annotationdefaults": {
           "arrowcolor": "#2a3f5f",
           "arrowhead": 0,
           "arrowwidth": 1
          },
          "autotypenumbers": "strict",
          "coloraxis": {
           "colorbar": {
            "outlinewidth": 0,
            "ticks": ""
           }
          },
          "colorscale": {
           "diverging": [
            [
             0,
             "#8e0152"
            ],
            [
             0.1,
             "#c51b7d"
            ],
            [
             0.2,
             "#de77ae"
            ],
            [
             0.3,
             "#f1b6da"
            ],
            [
             0.4,
             "#fde0ef"
            ],
            [
             0.5,
             "#f7f7f7"
            ],
            [
             0.6,
             "#e6f5d0"
            ],
            [
             0.7,
             "#b8e186"
            ],
            [
             0.8,
             "#7fbc41"
            ],
            [
             0.9,
             "#4d9221"
            ],
            [
             1,
             "#276419"
            ]
           ],
           "sequential": [
            [
             0.0,
             "#0d0887"
            ],
            [
             0.1111111111111111,
             "#46039f"
            ],
            [
             0.2222222222222222,
             "#7201a8"
            ],
            [
             0.3333333333333333,
             "#9c179e"
            ],
            [
             0.4444444444444444,
             "#bd3786"
            ],
            [
             0.5555555555555556,
             "#d8576b"
            ],
            [
             0.6666666666666666,
             "#ed7953"
            ],
            [
             0.7777777777777778,
             "#fb9f3a"
            ],
            [
             0.8888888888888888,
             "#fdca26"
            ],
            [
             1.0,
             "#f0f921"
            ]
           ],
           "sequentialminus": [
            [
             0.0,
             "#0d0887"
            ],
            [
             0.1111111111111111,
             "#46039f"
            ],
            [
             0.2222222222222222,
             "#7201a8"
            ],
            [
             0.3333333333333333,
             "#9c179e"
            ],
            [
             0.4444444444444444,
             "#bd3786"
            ],
            [
             0.5555555555555556,
             "#d8576b"
            ],
            [
             0.6666666666666666,
             "#ed7953"
            ],
            [
             0.7777777777777778,
             "#fb9f3a"
            ],
            [
             0.8888888888888888,
             "#fdca26"
            ],
            [
             1.0,
             "#f0f921"
            ]
           ]
          },
          "colorway": [
           "#636efa",
           "#EF553B",
           "#00cc96",
           "#ab63fa",
           "#FFA15A",
           "#19d3f3",
           "#FF6692",
           "#B6E880",
           "#FF97FF",
           "#FECB52"
          ],
          "font": {
           "color": "#2a3f5f"
          },
          "geo": {
           "bgcolor": "white",
           "lakecolor": "white",
           "landcolor": "#E5ECF6",
           "showlakes": true,
           "showland": true,
           "subunitcolor": "white"
          },
          "hoverlabel": {
           "align": "left"
          },
          "hovermode": "closest",
          "mapbox": {
           "style": "light"
          },
          "paper_bgcolor": "white",
          "plot_bgcolor": "#E5ECF6",
          "polar": {
           "angularaxis": {
            "gridcolor": "white",
            "linecolor": "white",
            "ticks": ""
           },
           "bgcolor": "#E5ECF6",
           "radialaxis": {
            "gridcolor": "white",
            "linecolor": "white",
            "ticks": ""
           }
          },
          "scene": {
           "xaxis": {
            "backgroundcolor": "#E5ECF6",
            "gridcolor": "white",
            "gridwidth": 2,
            "linecolor": "white",
            "showbackground": true,
            "ticks": "",
            "zerolinecolor": "white"
           },
           "yaxis": {
            "backgroundcolor": "#E5ECF6",
            "gridcolor": "white",
            "gridwidth": 2,
            "linecolor": "white",
            "showbackground": true,
            "ticks": "",
            "zerolinecolor": "white"
           },
           "zaxis": {
            "backgroundcolor": "#E5ECF6",
            "gridcolor": "white",
            "gridwidth": 2,
            "linecolor": "white",
            "showbackground": true,
            "ticks": "",
            "zerolinecolor": "white"
           }
          },
          "shapedefaults": {
           "line": {
            "color": "#2a3f5f"
           }
          },
          "ternary": {
           "aaxis": {
            "gridcolor": "white",
            "linecolor": "white",
            "ticks": ""
           },
           "baxis": {
            "gridcolor": "white",
            "linecolor": "white",
            "ticks": ""
           },
           "bgcolor": "#E5ECF6",
           "caxis": {
            "gridcolor": "white",
            "linecolor": "white",
            "ticks": ""
           }
          },
          "title": {
           "x": 0.05
          },
          "xaxis": {
           "automargin": true,
           "gridcolor": "white",
           "linecolor": "white",
           "ticks": "",
           "title": {
            "standoff": 15
           },
           "zerolinecolor": "white",
           "zerolinewidth": 2
          },
          "yaxis": {
           "automargin": true,
           "gridcolor": "white",
           "linecolor": "white",
           "ticks": "",
           "title": {
            "standoff": 15
           },
           "zerolinecolor": "white",
           "zerolinewidth": 2
          }
         }
        },
        "xaxis": {
         "anchor": "y",
         "domain": [
          0.0,
          1.0
         ],
         "title": {
          "text": "0"
         }
        },
        "yaxis": {
         "anchor": "x",
         "domain": [
          0.0,
          1.0
         ],
         "title": {
          "text": "1"
         }
        }
       }
      },
      "text/html": "<div>                            <div id=\"5a5d9705-d76a-4508-9b50-7664a7a29db3\" class=\"plotly-graph-div\" style=\"height:525px; width:100%;\"></div>            <script type=\"text/javascript\">                require([\"plotly\"], function(Plotly) {                    window.PLOTLYENV=window.PLOTLYENV || {};                                    if (document.getElementById(\"5a5d9705-d76a-4508-9b50-7664a7a29db3\")) {                    Plotly.newPlot(                        \"5a5d9705-d76a-4508-9b50-7664a7a29db3\",                        [{\"hovertemplate\": \"<b>%{hovertext}</b><br><br>words=president<br>0=%{x}<br>1=%{y}<extra></extra>\", \"hovertext\": [\"established\", \"cabinet\", \"parliament\", \"amended\", \"published\", \"croatia\", \"czech\", \"introduces\", \"series\", \"framework\", \"amongst\", \"declaration\", \"virtue\", \"wednesday\", \"cooperation\", \"regulations\", \"decided\", \"prime\", \"passed\", \"provides\", \"gazette\", \"decision\", \"country\", \"determining\", \"implemented\", \"adopt\", \"circular\", \"ziuzeop\", \"lithuania\", \"ordinance\"], \"legendgroup\": \"president\", \"marker\": {\"color\": \"#636efa\", \"symbol\": \"circle\"}, \"mode\": \"markers\", \"name\": \"president\", \"orientation\": \"v\", \"showlegend\": true, \"type\": \"scatter\", \"x\": [151.5637664794922, -200.97720336914062, 38.938045501708984, -242.72447204589844, 37.351741790771484, -76.64804077148438, -126.16606903076172, -213.58070373535156, -104.46481323242188, -61.46543502807617, -122.6044692993164, -209.1433563232422, -247.53578186035156, -70.66056060791016, -283.7370300292969, 106.72444152832031, 2.8367085456848145, -114.5549545288086, -295.69500732421875, 82.34693145751953, -92.83617401123047, 90.11754608154297, 65.56507110595703, -108.64808654785156, 25.916316986083984, -128.24630737304688, -228.87693786621094, -94.63346862792969, 3.0669302940368652, 19.95583724975586], \"xaxis\": \"x\", \"y\": [263.9347839355469, 0.6619641780853271, 200.2427520751953, -51.23686981201172, 186.56381225585938, 126.21129608154297, 29.63086700439453, -250.597412109375, 62.89382553100586, 130.54652404785156, -345.4109802246094, -9.19224739074707, -222.36839294433594, -406.890625, -183.0602264404297, 240.46087646484375, 163.22665405273438, -331.3769226074219, -153.40017700195312, 204.3791961669922, -363.2198791503906, 246.67529296875, 204.41575622558594, -346.5919494628906, 175.1914825439453, -330.9118347167969, -241.4089813232422, -345.90936279296875, 181.2528839111328, 148.25204467773438], \"yaxis\": \"y\"}, {\"hovertemplate\": \"<b>%{hovertext}</b><br><br>words=covid<br>0=%{x}<br>1=%{y}<extra></extra>\", \"hovertext\": [\"pandemic\", \"crisis\", \"measures\", \"economic\", \"affected\", \"government\", \"health\", \"emergency\", \"spread\", \"coronavirus\", \"sector\", \"due\", \"package\", \"effects\", \"consequences\", \"act\", \"public\", \"caused\", \"labour\", \"safety\", \"companies\", \"economy\", \"outbreak\", \"help\", \"impact\", \"law\", \"mitigate\", \"support\", \"activities\", \"situation\"], \"legendgroup\": \"covid\", \"marker\": {\"color\": \"#EF553B\", \"symbol\": \"circle\"}, \"mode\": \"markers\", \"name\": \"covid\", \"orientation\": \"v\", \"showlegend\": true, \"type\": \"scatter\", \"x\": [557.5551147460938, 559.4380493164062, 535.7628173828125, 510.53216552734375, 243.78988647460938, 291.4140625, 490.60345458984375, 329.5459289550781, 226.83706665039062, 299.2270812988281, 417.7828063964844, 244.85414123535156, 325.9432373046875, 186.07669067382812, 196.030517578125, 348.54449462890625, 400.91278076171875, 29.98429298400879, 353.439208984375, 372.56512451171875, 198.0033416748047, 240.41680908203125, 121.1355972290039, 205.43939208984375, 152.1134490966797, 320.2548828125, 4.873959541320801, 173.68031311035156, 226.56427001953125, 221.4038848876953], \"xaxis\": \"x\", \"y\": [-167.9654541015625, -186.98004150390625, -180.3628387451172, -159.6624298095703, -295.5429382324219, -303.12261962890625, -116.6893310546875, -275.5011901855469, -242.16836547851562, -208.10528564453125, 44.7037467956543, -220.2631072998047, -236.22230529785156, -228.9936065673828, -211.62318420410156, -145.83694458007812, 56.832523345947266, 6.190510272979736, 23.070466995239258, 79.162841796875, -68.96418762207031, -20.952131271362305, 21.79659652709961, -39.79714584350586, 26.30904769897461, -85.85501861572266, 24.968551635742188, -70.58819580078125, 0.6304304599761963, 59.026222229003906], \"yaxis\": \"y\"}, {\"hovertemplate\": \"<b>%{hovertext}</b><br><br>words=economic<br>0=%{x}<br>1=%{y}<extra></extra>\", \"hovertext\": [\"measures\", \"crisis\", \"government\", \"affected\", \"pandemic\", \"spread\", \"emergency\", \"sector\", \"coronavirus\", \"health\", \"package\", \"effects\", \"act\", \"due\", \"consequences\", \"public\", \"covid\", \"caused\", \"labour\", \"safety\", \"economy\", \"impact\", \"outbreak\", \"help\", \"companies\", \"law\", \"mitigate\", \"activities\", \"services\", \"ministry\"], \"legendgroup\": \"economic\", \"marker\": {\"color\": \"#00cc96\", \"symbol\": \"circle\"}, \"mode\": \"markers\", \"name\": \"economic\", \"orientation\": \"v\", \"showlegend\": true, \"type\": \"scatter\", \"x\": [536.0107421875, 547.4244384765625, 291.4140625, 243.78988647460938, 557.5551147460938, 226.83706665039062, 329.5459289550781, 414.4171142578125, 299.2270812988281, 480.5486145019531, 325.9432373046875, 186.9719696044922, 348.54449462890625, 244.85414123535156, 201.86392211914062, 400.91278076171875, 585.877197265625, 29.98429298400879, 353.439208984375, 372.56512451171875, 251.66294860839844, 153.93690490722656, 129.49842834472656, 205.43939208984375, 198.0033416748047, 320.2548828125, 8.250875473022461, 211.97930908203125, 403.92291259765625, 275.16302490234375], \"xaxis\": \"x\", \"y\": [-163.29843139648438, -197.1645050048828, -303.12261962890625, -295.5429382324219, -167.9654541015625, -242.16836547851562, -275.5011901855469, 32.2310676574707, -208.10528564453125, -123.61137390136719, -236.22230529785156, -243.26190185546875, -145.83694458007812, -220.2631072998047, -229.04608154296875, 56.832523345947266, -190.10227966308594, 6.190510272979736, 23.070466995239258, 79.162841796875, -27.66370964050293, 12.839885711669922, -4.856533050537109, -39.79714584350586, -68.96418762207031, -85.85501861572266, 9.655104637145996, -4.5918192863464355, 85.4917984008789, 0.9856922030448914], \"yaxis\": \"y\"}, {\"hovertemplate\": \"<b>%{hovertext}</b><br><br>words=country<br>0=%{x}<br>1=%{y}<extra></extra>\", \"hovertext\": [\"implemented\", \"direct\", \"field\", \"includes\", \"assist\", \"danish\", \"designed\", \"promote\", \"restaurants\", \"firms\", \"prepared\", \"chamber\", \"significant\", \"problems\", \"commerce\", \"decided\", \"provides\", \"various\", \"main\", \"facilitate\", \"initiative\", \"published\", \"situations\", \"existing\", \"policies\", \"croatian\", \"risks\", \"implement\", \"amongst\", \"finnish\"], \"legendgroup\": \"country\", \"marker\": {\"color\": \"#ab63fa\", \"symbol\": \"circle\"}, \"mode\": \"markers\", \"name\": \"country\", \"orientation\": \"v\", \"showlegend\": true, \"type\": \"scatter\", \"x\": [38.32163619995117, 0.4336940050125122, -288.97796630859375, 63.510623931884766, -304.5103759765625, -127.16490936279297, -142.9474639892578, 23.55183982849121, -77.88636779785156, -229.40789794921875, -256.20623779296875, 94.96782684326172, 53.16176986694336, -115.4969711303711, -137.85545349121094, 15.228358268737793, 79.53560638427734, -254.5033416748047, 138.4507598876953, -132.9397430419922, -64.25846099853516, 50.27113342285156, -48.45915985107422, 105.50921630859375, -241.49916076660156, 21.47121810913086, -299.86419677734375, -117.99824523925781, -100.84154510498047, -269.07086181640625], \"xaxis\": \"x\", \"y\": [169.5897674560547, 148.58389282226562, -168.48736572265625, 221.30824279785156, -165.7944793701172, 48.704673767089844, 51.62700271606445, 203.16445922851562, 111.70865631103516, -57.54768753051758, -212.0532684326172, 229.1291046142578, 211.87759399414062, 41.44817352294922, 38.27559280395508, 161.5753631591797, 217.0482940673828, -79.92189025878906, 269.6343994140625, 62.11330795288086, 115.32615661621094, 186.292724609375, 124.47708129882812, 254.5223846435547, -67.1454086303711, 189.24636840820312, -179.56015014648438, 64.8992691040039, -330.52874755859375, -204.25286865234375], \"yaxis\": \"y\"}, {\"hovertemplate\": \"<b>%{hovertext}</b><br><br>words=workers<br>0=%{x}<br>1=%{y}<extra></extra>\", \"hovertext\": [\"care\", \"temporary\", \"protection\", \"occupational\", \"private\", \"service\", \"essential\", \"unions\", \"protect\", \"ensure\", \"employers\", \"union\", \"rescue\", \"risk\", \"well\", \"necessary\", \"protocol\", \"infection\", \"many\", \"infectious\", \"organisations\", \"transport\", \"need\", \"concerning\", \"prevention\", \"medical\", \"among\", \"disease\", \"partners\", \"professionals\"], \"legendgroup\": \"workers\", \"marker\": {\"color\": \"#FFA15A\", \"symbol\": \"circle\"}, \"mode\": \"markers\", \"name\": \"workers\", \"orientation\": \"v\", \"showlegend\": true, \"type\": \"scatter\", \"x\": [137.5507354736328, 140.36300659179688, 126.22479248046875, 162.358154296875, 121.41148376464844, 152.98683166503906, 103.60456848144531, 233.01097106933594, -78.30644989013672, 165.5561981201172, 135.34091186523438, 231.86126708984375, -99.08100128173828, 186.4246063232422, 201.2158660888672, 185.30322265625, -20.356096267700195, -12.282044410705566, 197.07968139648438, -63.26538848876953, 177.76150512695312, 211.46263122558594, 174.5535125732422, -52.67955017089844, 108.52327728271484, 133.7119903564453, 90.86236572265625, -92.67756652832031, 296.2945556640625, -68.46485900878906], \"xaxis\": \"x\", \"y\": [190.3509979248047, 155.1479949951172, 157.19093322753906, 190.12953186035156, 171.824462890625, 201.58218383789062, 172.80490112304688, 188.62232971191406, 49.92542266845703, 211.60128784179688, 233.58416748046875, 173.65248107910156, -376.4012145996094, 213.4065704345703, 205.40768432617188, 194.12782287597656, 127.70973205566406, 118.0950698852539, 184.4354248046875, -429.63751220703125, 182.01547241210938, 168.56593322753906, 201.1501922607422, 99.63060760498047, 149.31878662109375, 249.4008026123047, 165.42144775390625, 37.103763580322266, 54.33434295654297, 99.39030456542969], \"yaxis\": \"y\"}, {\"hovertemplate\": \"<b>%{hovertext}</b><br><br>words=health<br>0=%{x}<br>1=%{y}<extra></extra>\", \"hovertext\": [\"economic\", \"public\", \"sector\", \"measures\", \"crisis\", \"safety\", \"pandemic\", \"affected\", \"act\", \"labour\", \"government\", \"services\", \"spread\", \"coronavirus\", \"effects\", \"covid\", \"due\", \"consequences\", \"package\", \"emergency\", \"trade\", \"caused\", \"social\", \"impact\", \"law\", \"order\", \"ministry\", \"economy\", \"activities\", \"help\"], \"legendgroup\": \"health\", \"marker\": {\"color\": \"#19d3f3\", \"symbol\": \"circle\"}, \"mode\": \"markers\", \"name\": \"health\", \"orientation\": \"v\", \"showlegend\": true, \"type\": \"scatter\", \"x\": [506.7293701171875, 400.91278076171875, 429.40460205078125, 535.7628173828125, 559.4380493164062, 372.56512451171875, 557.5551147460938, 243.78988647460938, 348.54449462890625, 343.7756652832031, 291.4140625, 403.92291259765625, 226.83706665039062, 299.2270812988281, 177.47996520996094, 578.6070556640625, 244.85414123535156, 201.86392211914062, 340.37451171875, 316.73974609375, 347.38519287109375, 11.043435096740723, 316.1687316894531, 138.72695922851562, 320.2548828125, 181.71322631835938, 275.16302490234375, 234.48818969726562, 211.97930908203125, 205.43939208984375], \"xaxis\": \"x\", \"y\": [-171.6650390625, 56.832523345947266, 50.01461410522461, -180.3628387451172, -186.98004150390625, 79.162841796875, -167.9654541015625, -295.5429382324219, -145.83694458007812, 32.861083984375, -303.12261962890625, 85.4917984008789, -242.16836547851562, -208.10528564453125, -216.3282470703125, -203.98179626464844, -220.2631072998047, -229.04608154296875, -241.44781494140625, -269.4808654785156, 97.73748779296875, -9.743500709533691, 50.434818267822266, 26.056838989257812, -85.85501861572266, 39.236976623535156, 0.9856922030448914, -32.1453857421875, -4.5918192863464355, -39.79714584350586], \"yaxis\": \"y\"}, {\"hovertemplate\": \"<b>%{hovertext}</b><br><br>words=crisis<br>0=%{x}<br>1=%{y}<extra></extra>\", \"hovertext\": [\"pandemic\", \"measures\", \"covid\", \"economic\", \"affected\", \"government\", \"health\", \"spread\", \"emergency\", \"coronavirus\", \"sector\", \"due\", \"package\", \"effects\", \"consequences\", \"act\", \"public\", \"caused\", \"labour\", \"safety\", \"economy\", \"companies\", \"outbreak\", \"help\", \"impact\", \"law\", \"mitigate\", \"activities\", \"situation\", \"support\"], \"legendgroup\": \"crisis\", \"marker\": {\"color\": \"#FF6692\", \"symbol\": \"circle\"}, \"mode\": \"markers\", \"name\": \"crisis\", \"orientation\": \"v\", \"showlegend\": true, \"type\": \"scatter\", \"x\": [557.5551147460938, 535.7628173828125, 578.6070556640625, 506.7293701171875, 231.0323944091797, 302.246337890625, 490.60345458984375, 214.53460693359375, 318.0776672363281, 311.6568603515625, 428.3171691894531, 244.85414123535156, 337.86181640625, 177.47996520996094, 196.030517578125, 333.3331604003906, 400.91278076171875, 26.803508758544922, 353.439208984375, 369.8096618652344, 236.61721801757812, 198.0033416748047, 120.1351089477539, 205.43939208984375, 140.01121520996094, 320.2548828125, 8.250875473022461, 214.70559692382812, 230.4302215576172, 174.5982666015625], \"xaxis\": \"x\", \"y\": [-167.9654541015625, -180.3628387451172, -203.98179626464844, -171.6650390625, -301.6671142578125, -312.39154052734375, -116.6893310546875, -253.6067352294922, -283.022216796875, -198.7689666748047, 35.65211486816406, -220.2631072998047, -226.56536865234375, -216.3282470703125, -211.62318420410156, -144.70301818847656, 56.832523345947266, -9.880690574645996, 23.070466995239258, 65.42047882080078, -44.98903274536133, -68.96418762207031, 6.8247575759887695, -39.79714584350586, 12.624146461486816, -85.85501861572266, 9.655104637145996, 10.496089935302734, 49.928348541259766, -59.00364685058594], \"yaxis\": \"y\"}, {\"hovertemplate\": \"<b>%{hovertext}</b><br><br>words=tax<br>0=%{x}<br>1=%{y}<extra></extra>\", \"hovertext\": [\"income\", \"payment\", \"grant\", \"approx\", \"czk\", \"repayment\", \"costs\", \"amounts\", \"revenue\", \"received\", \"dkk\", \"eligible\", \"june\", \"turnover\", \"depends\", \"huf\", \"taxes\", \"bgn\", \"ron\", \"interest\", \"maturity\", \"december\", \"preceding\", \"\", \"calculated\", \"additional\", \"compared\", \"twelve\", \"grace\", \"basic\"], \"legendgroup\": \"tax\", \"marker\": {\"color\": \"#B6E880\", \"symbol\": \"circle\"}, \"mode\": \"markers\", \"name\": \"tax\", \"orientation\": \"v\", \"showlegend\": true, \"type\": \"scatter\", \"x\": [-232.0648651123047, -238.68995666503906, -216.1629180908203, -294.3612976074219, -278.0611877441406, -291.8507995605469, -192.32806396484375, -268.7033386230469, -169.0137939453125, -293.54022216796875, -131.67718505859375, -207.98391723632812, -229.8875274658203, -231.74501037597656, -50.51787185668945, -372.93353271484375, -290.20538330078125, -387.53826904296875, -375.1398010253906, -210.04251098632812, -33.05400848388672, -216.6323699951172, -36.90788650512695, -185.66946411132812, -351.28533935546875, -186.61166381835938, -301.1348876953125, -44.38951110839844, -39.63398361206055, -194.21351623535156], \"xaxis\": \"x\", \"y\": [472.8956604003906, 462.78424072265625, 428.8016662597656, 294.0395812988281, 303.68096923828125, 257.01904296875, 462.46063232421875, 290.37884521484375, 417.1849365234375, 229.6529083251953, -231.76747131347656, 449.1835632324219, 389.14959716796875, 415.06231689453125, -366.0755615234375, 23.229656219482422, 214.88839721679688, 20.46700668334961, 5.0387654304504395, 475.3609313964844, -344.1959228515625, 400.8279113769531, -358.6283264160156, 447.5516357421875, 55.75821304321289, 409.74822998046875, 243.2754364013672, -422.1635437011719, -407.91180419921875, 388.23284912109375], \"yaxis\": \"y\"}, {\"hovertemplate\": \"<b>%{hovertext}</b><br><br>words=law<br>0=%{x}<br>1=%{y}<extra></extra>\", \"hovertext\": [\"decree\", \"act\", \"adopted\", \"ministry\", \"economy\", \"suppression\", \"deal\", \"mitigate\", \"minister\", \"impact\", \"address\", \"situation\", \"related\", \"order\", \"outbreak\", \"consequences\", \"effects\", \"caused\", \"result\", \"activities\", \"negative\", \"context\", \"counteract\", \"impacts\", \"coronavirus\", \"package\", \"sectors\", \"epidemic\", \"cushion\", \"spread\"], \"legendgroup\": \"law\", \"marker\": {\"color\": \"#FF97FF\", \"symbol\": \"circle\"}, \"mode\": \"markers\", \"name\": \"law\", \"orientation\": \"v\", \"showlegend\": true, \"type\": \"scatter\", \"x\": [311.8907775878906, 333.3331604003906, 174.85733032226562, 271.38629150390625, 248.80877685546875, -87.29776000976562, -72.37568664550781, 8.250875473022461, 220.9661407470703, 147.67880249023438, 24.47688102722168, 218.6038360595703, 170.9446563720703, 189.0148162841797, 120.1351089477539, 211.70205688476562, 172.3487091064453, 26.803508758544922, 206.9595489501953, 214.70559692382812, -67.4901351928711, 106.93295288085938, -76.18626403808594, -112.4328384399414, 311.6568603515625, 337.86181640625, 233.98306274414062, 33.12367248535156, -86.2396240234375, 214.53460693359375], \"xaxis\": \"x\", \"y\": [-68.01107788085938, -144.70301818847656, 4.313474655151367, 13.176827430725098, -40.12306213378906, -414.3228759765625, 9.965428352355957, 9.655104637145996, 157.43038940429688, 0.7455310225486755, 27.084171295166016, 45.315006256103516, 19.852739334106445, 30.81179428100586, 6.8247575759887695, -215.16683959960938, -233.77012634277344, -9.880690574645996, 54.80790710449219, 10.496089935302734, 19.637165069580078, 134.66421508789062, -422.16278076171875, -368.7429504394531, -198.7689666748047, -226.56536865234375, 19.516508102416992, 37.33384323120117, -399.9632873535156, -253.6067352294922], \"yaxis\": \"y\"}, {\"hovertemplate\": \"<b>%{hovertext}</b><br><br>words=costs<br>0=%{x}<br>1=%{y}<extra></extra>\", \"hovertext\": [\"czk\", \"amounts\", \"ron\", \"grant\", \"approx\", \"eligible\", \"\", \"depends\", \"term\", \"payable\", \"fixed\", \"turnover\", \"received\", \"huf\", \"additional\", \"revenue\", \"calculated\", \"twelve\", \"lower\", \"depending\", \"maturity\", \"dkk\", \"value\", \"exceeding\", \"cover\", \"repayment\", \"sek\", \"december\", \"less\", \"double\"], \"legendgroup\": \"costs\", \"marker\": {\"color\": \"#FECB52\", \"symbol\": \"circle\"}, \"mode\": \"markers\", \"name\": \"costs\", \"orientation\": \"v\", \"showlegend\": true, \"type\": \"scatter\", \"x\": [-278.0611877441406, -282.0146179199219, -375.1398010253906, -224.28077697753906, -293.54425048828125, -207.98391723632812, -185.66946411132812, -50.51787185668945, -208.93704223632812, -359.1232604980469, -295.26055908203125, -231.74501037597656, -285.1598205566406, -362.7763671875, -186.61166381835938, -179.772705078125, -351.28533935546875, -52.318572998046875, -269.92730712890625, -307.41436767578125, -46.21470260620117, -120.38169860839844, -166.5015411376953, -123.75008392333984, -175.55030822753906, -306.5365905761719, -277.1465759277344, -205.07040405273438, -200.3537139892578, -55.79716873168945], \"xaxis\": \"x\", \"y\": [303.68096923828125, 285.6893005371094, 5.0387654304504395, 437.89276123046875, 307.6971435546875, 449.1835632324219, 447.5516357421875, -366.0755615234375, 389.36663818359375, 33.1180419921875, 273.6588134765625, 415.06231689453125, 239.40252685546875, 16.07990074157715, 409.74822998046875, 425.70159912109375, 55.75821304321289, -400.5273132324219, 275.3072204589844, 230.73516845703125, -344.05963134765625, -230.7565155029297, 432.3905029296875, -246.50718688964844, 395.7763366699219, 258.9346618652344, 223.69212341308594, 404.1940002441406, 433.43487548828125, -414.1477966308594], \"yaxis\": \"y\"}, {\"hovertemplate\": \"<b>%{hovertext}</b><br><br>words=legal<br>0=%{x}<br>1=%{y}<extra></extra>\", \"hovertext\": [\"regime\", \"therefore\", \"residence\", \"contact\", \"doctors\", \"sets\", \"performance\", \"follow\", \"model\", \"regulated\", \"body\", \"recognition\", \"covered\", \"whenever\", \"masks\", \"return\", \"process\", \"using\", \"condition\", \"negotiations\", \"better\", \"professional\", \"flexibility\", \"organised\", \"grounds\", \"cabin\", \"considered\", \"introduce\", \"httpsstaticeurofoundeuropaeucaseseshtmlutmsourceexternaldashboardutmmediumpowerbiutmcampaigncovid\", \"proceedings\"], \"legendgroup\": \"legal\", \"marker\": {\"color\": \"#636efa\", \"symbol\": \"circle\"}, \"mode\": \"markers\", \"name\": \"legal\", \"orientation\": \"v\", \"showlegend\": true, \"type\": \"scatter\", \"x\": [-93.20708465576172, 106.01148986816406, -109.5442123413086, -50.82039260864258, -122.3721694946289, -286.65106201171875, -217.30270385742188, -204.21829223632812, -275.5174560546875, -274.9857177734375, -143.62551879882812, -232.84352111816406, -37.69827651977539, -266.1920471191406, -217.24542236328125, 93.2829360961914, 83.52301788330078, -135.0375213623047, -100.08440399169922, -218.61639404296875, -138.2903594970703, 64.18024444580078, -209.47744750976562, -114.23070526123047, -75.73628997802734, -226.797119140625, -125.3486557006836, -175.07200622558594, -78.40643310546875, -156.9667510986328], \"xaxis\": \"x\", \"y\": [191.79257202148438, 293.61376953125, 192.62806701660156, 229.44309997558594, 177.63951110839844, -29.778751373291016, 70.08912658691406, -202.74594116210938, -114.6012191772461, -19.532140731811523, 151.66165161132812, -171.08865356445312, 236.52532958984375, -124.10665130615234, 83.5890884399414, 298.4614562988281, 281.76416015625, 185.8187713623047, 207.8651580810547, -200.3796844482422, 170.5352325439453, 276.5417175292969, -188.99964904785156, -314.3444519042969, -364.87042236328125, -186.791015625, 162.77230834960938, -257.36627197265625, -350.6215515136719, 160.39862060546875], \"yaxis\": \"y\"}, {\"hovertemplate\": \"<b>%{hovertext}</b><br><br>words=companys<br>0=%{x}<br>1=%{y}<extra></extra>\", \"hovertext\": [\"meet\", \"greater\", \"balance\", \"test\", \"assessed\", \"still\", \"summer\", \"previously\", \"sales\", \"required\", \"regularly\", \"submit\", \"type\", \"duty\", \"share\", \"participation\", \"landlord\", \"break\", \"profit\", \"assessment\", \"refund\", \"phase\", \"possibility\", \"money\", \"addition\", \"vehicle\", \"start\", \"usually\", \"experienced\", \"categories\"], \"legendgroup\": \"companys\", \"marker\": {\"color\": \"#EF553B\", \"symbol\": \"circle\"}, \"mode\": \"markers\", \"name\": \"companys\", \"orientation\": \"v\", \"showlegend\": true, \"type\": \"scatter\", \"x\": [-33.8005485534668, -254.3303680419922, -298.7897033691406, -239.26283264160156, -155.69430541992188, -83.68904113769531, -303.4728088378906, -245.921142578125, -120.65553283691406, 74.7342529296875, -196.03118896484375, -313.3048400878906, -174.18426513671875, -125.08978271484375, -175.04713439941406, -72.5321044921875, -235.66517639160156, -136.1499786376953, -138.68968200683594, -321.8992614746094, -187.9322052001953, -318.80572509765625, 47.83725357055664, -307.7607116699219, 82.24217224121094, -64.3069076538086, -68.1393814086914, -242.75624084472656, -144.00428771972656, -306.7121276855469], \"xaxis\": \"x\", \"y\": [256.2098083496094, 73.2782974243164, 14.135204315185547, 78.95266723632812, -250.77206420898438, 235.0675506591797, -4.141369342803955, 90.27000427246094, 223.4431610107422, 299.2977600097656, -175.1207733154297, 6.6616339683532715, -223.1181182861328, -305.076416015625, -201.3461456298828, 227.30213928222656, -141.74346923828125, -290.8620300292969, -275.7207946777344, -26.52044105529785, -195.80752563476562, -11.423260688781738, 288.5626525878906, 24.465049743652344, 313.4288330078125, -355.16717529296875, 241.3214569091797, -128.2866668701172, -262.90185546875, -19.32349967956543], \"yaxis\": \"y\"}, {\"hovertemplate\": \"<b>%{hovertext}</b><br><br>words=manufacturing<br>0=%{x}<br>1=%{y}<extra></extra>\", \"hovertext\": [\"demand\", \"different\", \"air\", \"road\", \"tour\", \"mainly\", \"include\", \"performing\", \"shops\", \"improve\", \"creation\", \"develop\", \"communication\", \"hotels\", \"primarily\", \"processing\", \"tourist\", \"operations\", \"via\", \"goal\", \"states\", \"register\", \"rapid\", \"focus\", \"fact\", \"international\", \"region\", \"together\", \"similar\", \"producers\"], \"legendgroup\": \"manufacturing\", \"marker\": {\"color\": \"#00cc96\", \"symbol\": \"circle\"}, \"mode\": \"markers\", \"name\": \"manufacturing\", \"orientation\": \"v\", \"showlegend\": true, \"type\": \"scatter\", \"x\": [-235.955810546875, 122.8917007446289, 13.874953269958496, -227.1514434814453, -157.81182861328125, -243.10296630859375, 90.92561340332031, -196.34487915039062, -232.00611877441406, -170.811279296875, 27.2777099609375, -133.39785766601562, -258.04681396484375, -250.43785095214844, -269.5208740234375, -216.93807983398438, -2.351562738418579, -142.4345245361328, -93.86308288574219, -164.828125, 113.43284606933594, -247.93397521972656, -222.16629028320312, -280.0927734375, -273.03204345703125, -261.79180908203125, -265.29046630859375, -81.75655364990234, -209.19020080566406, -280.7449951171875], \"xaxis\": \"x\", \"y\": [15.021063804626465, 280.70599365234375, 236.28387451171875, -213.181396484375, 112.01026153564453, -15.059355735778809, 262.6573486328125, 59.96275329589844, -0.871347963809967, 106.46192932128906, 244.91188049316406, 132.945068359375, -19.062061309814453, -32.39777755737305, -159.96112060546875, 23.039447784423828, 237.69760131835938, 124.03148651123047, 161.68771362304688, 93.97749328613281, 271.4677429199219, 0.5462244749069214, 9.731697082519531, -151.8560333251953, -48.499881744384766, -57.35767364501953, -36.3221321105957, 170.5743408203125, 56.02075958251953, -137.85113525390625], \"yaxis\": \"y\"}, {\"hovertemplate\": \"<b>%{hovertext}</b><br><br>words=property<br>0=%{x}<br>1=%{y}<extra></extra>\", \"hovertext\": [\"tenants\", \"buildings\", \"proceedings\", \"although\", \"andor\", \"fiscal\", \"early\", \"future\", \"currently\", \"purchase\", \"operate\", \"postponement\", \"cancellation\", \"residence\", \"deadlines\", \"premises\", \"forma\\u00e7\\u00e3o\", \"position\", \"see\", \"incurred\", \"profissional\", \"ability\", \"deliver\", \"voucher\", \"planned\", \"process\", \"\\u00e0\", \"parts\", \"documents\", \"owned\"], \"legendgroup\": \"property\", \"marker\": {\"color\": \"#ab63fa\", \"symbol\": \"circle\"}, \"mode\": \"markers\", \"name\": \"property\", \"orientation\": \"v\", \"showlegend\": true, \"type\": \"scatter\", \"x\": [-171.96165466308594, -286.099609375, -156.9667510986328, -262.60546875, -79.04035949707031, -250.58087158203125, -227.5503387451172, -22.11178207397461, 48.97338104248047, -201.32803344726562, -218.48463439941406, -157.60104370117188, -160.1136474609375, -104.61526489257812, -172.51943969726562, -161.56207275390625, -209.7053680419922, -204.5381622314453, -176.2239532470703, -195.98696899414062, -194.7037353515625, -175.3141326904297, -191.87522888183594, -121.57585144042969, -156.14395141601562, 83.52301788330078, -188.0057373046875, -266.0790710449219, -188.21768188476562, -282.0854797363281], \"xaxis\": \"x\", \"y\": [151.00840759277344, -59.934539794921875, 160.39862060546875, -142.7378387451172, 208.1385040283203, -152.61546325683594, 36.113861083984375, 239.20281982421875, 270.9338684082031, 76.07147216796875, -173.02857971191406, -281.90850830078125, -267.35394287109375, 180.6766357421875, -274.98406982421875, 135.02993774414062, -217.52767944335938, 92.94214630126953, 135.89503479003906, 110.05719757080078, -218.61892700195312, -242.3263702392578, -234.0693817138672, 202.02352905273438, 177.06155395507812, 281.76416015625, -250.38270568847656, -4.099015235900879, 91.83956909179688, -80.52357482910156], \"yaxis\": \"y\"}],                        {\"legend\": {\"title\": {\"text\": \"words\"}, \"tracegroupgap\": 0}, \"margin\": {\"t\": 60}, \"template\": {\"data\": {\"bar\": [{\"error_x\": {\"color\": \"#2a3f5f\"}, \"error_y\": {\"color\": \"#2a3f5f\"}, \"marker\": {\"line\": {\"color\": \"#E5ECF6\", \"width\": 0.5}}, \"type\": \"bar\"}], \"barpolar\": [{\"marker\": {\"line\": {\"color\": \"#E5ECF6\", \"width\": 0.5}}, \"type\": \"barpolar\"}], \"carpet\": [{\"aaxis\": {\"endlinecolor\": \"#2a3f5f\", \"gridcolor\": \"white\", \"linecolor\": \"white\", \"minorgridcolor\": \"white\", \"startlinecolor\": \"#2a3f5f\"}, \"baxis\": {\"endlinecolor\": \"#2a3f5f\", \"gridcolor\": \"white\", \"linecolor\": \"white\", \"minorgridcolor\": \"white\", \"startlinecolor\": \"#2a3f5f\"}, \"type\": \"carpet\"}], \"choropleth\": [{\"colorbar\": {\"outlinewidth\": 0, \"ticks\": \"\"}, \"type\": \"choropleth\"}], \"contour\": [{\"colorbar\": {\"outlinewidth\": 0, \"ticks\": \"\"}, \"colorscale\": [[0.0, \"#0d0887\"], [0.1111111111111111, \"#46039f\"], [0.2222222222222222, \"#7201a8\"], [0.3333333333333333, \"#9c179e\"], [0.4444444444444444, \"#bd3786\"], [0.5555555555555556, \"#d8576b\"], [0.6666666666666666, \"#ed7953\"], [0.7777777777777778, \"#fb9f3a\"], [0.8888888888888888, \"#fdca26\"], [1.0, \"#f0f921\"]], \"type\": \"contour\"}], \"contourcarpet\": [{\"colorbar\": {\"outlinewidth\": 0, \"ticks\": \"\"}, \"type\": \"contourcarpet\"}], \"heatmap\": [{\"colorbar\": {\"outlinewidth\": 0, \"ticks\": \"\"}, \"colorscale\": [[0.0, \"#0d0887\"], [0.1111111111111111, \"#46039f\"], [0.2222222222222222, \"#7201a8\"], [0.3333333333333333, \"#9c179e\"], [0.4444444444444444, \"#bd3786\"], [0.5555555555555556, \"#d8576b\"], [0.6666666666666666, \"#ed7953\"], [0.7777777777777778, \"#fb9f3a\"], [0.8888888888888888, \"#fdca26\"], [1.0, \"#f0f921\"]], \"type\": \"heatmap\"}], \"heatmapgl\": [{\"colorbar\": {\"outlinewidth\": 0, \"ticks\": \"\"}, \"colorscale\": [[0.0, \"#0d0887\"], [0.1111111111111111, \"#46039f\"], [0.2222222222222222, \"#7201a8\"], [0.3333333333333333, \"#9c179e\"], [0.4444444444444444, \"#bd3786\"], [0.5555555555555556, \"#d8576b\"], [0.6666666666666666, \"#ed7953\"], [0.7777777777777778, \"#fb9f3a\"], [0.8888888888888888, \"#fdca26\"], [1.0, \"#f0f921\"]], \"type\": \"heatmapgl\"}], \"histogram\": [{\"marker\": {\"colorbar\": {\"outlinewidth\": 0, \"ticks\": \"\"}}, \"type\": \"histogram\"}], \"histogram2d\": [{\"colorbar\": {\"outlinewidth\": 0, \"ticks\": \"\"}, \"colorscale\": [[0.0, \"#0d0887\"], [0.1111111111111111, \"#46039f\"], [0.2222222222222222, \"#7201a8\"], [0.3333333333333333, \"#9c179e\"], [0.4444444444444444, \"#bd3786\"], [0.5555555555555556, \"#d8576b\"], [0.6666666666666666, \"#ed7953\"], [0.7777777777777778, \"#fb9f3a\"], [0.8888888888888888, \"#fdca26\"], [1.0, \"#f0f921\"]], \"type\": \"histogram2d\"}], \"histogram2dcontour\": [{\"colorbar\": {\"outlinewidth\": 0, \"ticks\": \"\"}, \"colorscale\": [[0.0, \"#0d0887\"], [0.1111111111111111, \"#46039f\"], [0.2222222222222222, \"#7201a8\"], [0.3333333333333333, \"#9c179e\"], [0.4444444444444444, \"#bd3786\"], [0.5555555555555556, \"#d8576b\"], [0.6666666666666666, \"#ed7953\"], [0.7777777777777778, \"#fb9f3a\"], [0.8888888888888888, \"#fdca26\"], [1.0, \"#f0f921\"]], \"type\": \"histogram2dcontour\"}], \"mesh3d\": [{\"colorbar\": {\"outlinewidth\": 0, \"ticks\": \"\"}, \"type\": \"mesh3d\"}], \"parcoords\": [{\"line\": {\"colorbar\": {\"outlinewidth\": 0, \"ticks\": \"\"}}, \"type\": \"parcoords\"}], \"pie\": [{\"automargin\": true, \"type\": \"pie\"}], \"scatter\": [{\"marker\": {\"colorbar\": {\"outlinewidth\": 0, \"ticks\": \"\"}}, \"type\": \"scatter\"}], \"scatter3d\": [{\"line\": {\"colorbar\": {\"outlinewidth\": 0, \"ticks\": \"\"}}, \"marker\": {\"colorbar\": {\"outlinewidth\": 0, \"ticks\": \"\"}}, \"type\": \"scatter3d\"}], \"scattercarpet\": [{\"marker\": {\"colorbar\": {\"outlinewidth\": 0, \"ticks\": \"\"}}, \"type\": \"scattercarpet\"}], \"scattergeo\": [{\"marker\": {\"colorbar\": {\"outlinewidth\": 0, \"ticks\": \"\"}}, \"type\": \"scattergeo\"}], \"scattergl\": [{\"marker\": {\"colorbar\": {\"outlinewidth\": 0, \"ticks\": \"\"}}, \"type\": \"scattergl\"}], \"scattermapbox\": [{\"marker\": {\"colorbar\": {\"outlinewidth\": 0, \"ticks\": \"\"}}, \"type\": \"scattermapbox\"}], \"scatterpolar\": [{\"marker\": {\"colorbar\": {\"outlinewidth\": 0, \"ticks\": \"\"}}, \"type\": \"scatterpolar\"}], \"scatterpolargl\": [{\"marker\": {\"colorbar\": {\"outlinewidth\": 0, \"ticks\": \"\"}}, \"type\": \"scatterpolargl\"}], \"scatterternary\": [{\"marker\": {\"colorbar\": {\"outlinewidth\": 0, \"ticks\": \"\"}}, \"type\": \"scatterternary\"}], \"surface\": [{\"colorbar\": {\"outlinewidth\": 0, \"ticks\": \"\"}, \"colorscale\": [[0.0, \"#0d0887\"], [0.1111111111111111, \"#46039f\"], [0.2222222222222222, \"#7201a8\"], [0.3333333333333333, \"#9c179e\"], [0.4444444444444444, \"#bd3786\"], [0.5555555555555556, \"#d8576b\"], [0.6666666666666666, \"#ed7953\"], [0.7777777777777778, \"#fb9f3a\"], [0.8888888888888888, \"#fdca26\"], [1.0, \"#f0f921\"]], \"type\": \"surface\"}], \"table\": [{\"cells\": {\"fill\": {\"color\": \"#EBF0F8\"}, \"line\": {\"color\": \"white\"}}, \"header\": {\"fill\": {\"color\": \"#C8D4E3\"}, \"line\": {\"color\": \"white\"}}, \"type\": \"table\"}]}, \"layout\": {\"annotationdefaults\": {\"arrowcolor\": \"#2a3f5f\", \"arrowhead\": 0, \"arrowwidth\": 1}, \"autotypenumbers\": \"strict\", \"coloraxis\": {\"colorbar\": {\"outlinewidth\": 0, \"ticks\": \"\"}}, \"colorscale\": {\"diverging\": [[0, \"#8e0152\"], [0.1, \"#c51b7d\"], [0.2, \"#de77ae\"], [0.3, \"#f1b6da\"], [0.4, \"#fde0ef\"], [0.5, \"#f7f7f7\"], [0.6, \"#e6f5d0\"], [0.7, \"#b8e186\"], [0.8, \"#7fbc41\"], [0.9, \"#4d9221\"], [1, \"#276419\"]], \"sequential\": [[0.0, \"#0d0887\"], [0.1111111111111111, \"#46039f\"], [0.2222222222222222, \"#7201a8\"], [0.3333333333333333, \"#9c179e\"], [0.4444444444444444, \"#bd3786\"], [0.5555555555555556, \"#d8576b\"], [0.6666666666666666, \"#ed7953\"], [0.7777777777777778, \"#fb9f3a\"], [0.8888888888888888, \"#fdca26\"], [1.0, \"#f0f921\"]], \"sequentialminus\": [[0.0, \"#0d0887\"], [0.1111111111111111, \"#46039f\"], [0.2222222222222222, \"#7201a8\"], [0.3333333333333333, \"#9c179e\"], [0.4444444444444444, \"#bd3786\"], [0.5555555555555556, \"#d8576b\"], [0.6666666666666666, \"#ed7953\"], [0.7777777777777778, \"#fb9f3a\"], [0.8888888888888888, \"#fdca26\"], [1.0, \"#f0f921\"]]}, \"colorway\": [\"#636efa\", \"#EF553B\", \"#00cc96\", \"#ab63fa\", \"#FFA15A\", \"#19d3f3\", \"#FF6692\", \"#B6E880\", \"#FF97FF\", \"#FECB52\"], \"font\": {\"color\": \"#2a3f5f\"}, \"geo\": {\"bgcolor\": \"white\", \"lakecolor\": \"white\", \"landcolor\": \"#E5ECF6\", \"showlakes\": true, \"showland\": true, \"subunitcolor\": \"white\"}, \"hoverlabel\": {\"align\": \"left\"}, \"hovermode\": \"closest\", \"mapbox\": {\"style\": \"light\"}, \"paper_bgcolor\": \"white\", \"plot_bgcolor\": \"#E5ECF6\", \"polar\": {\"angularaxis\": {\"gridcolor\": \"white\", \"linecolor\": \"white\", \"ticks\": \"\"}, \"bgcolor\": \"#E5ECF6\", \"radialaxis\": {\"gridcolor\": \"white\", \"linecolor\": \"white\", \"ticks\": \"\"}}, \"scene\": {\"xaxis\": {\"backgroundcolor\": \"#E5ECF6\", \"gridcolor\": \"white\", \"gridwidth\": 2, \"linecolor\": \"white\", \"showbackground\": true, \"ticks\": \"\", \"zerolinecolor\": \"white\"}, \"yaxis\": {\"backgroundcolor\": \"#E5ECF6\", \"gridcolor\": \"white\", \"gridwidth\": 2, \"linecolor\": \"white\", \"showbackground\": true, \"ticks\": \"\", \"zerolinecolor\": \"white\"}, \"zaxis\": {\"backgroundcolor\": \"#E5ECF6\", \"gridcolor\": \"white\", \"gridwidth\": 2, \"linecolor\": \"white\", \"showbackground\": true, \"ticks\": \"\", \"zerolinecolor\": \"white\"}}, \"shapedefaults\": {\"line\": {\"color\": \"#2a3f5f\"}}, \"ternary\": {\"aaxis\": {\"gridcolor\": \"white\", \"linecolor\": \"white\", \"ticks\": \"\"}, \"baxis\": {\"gridcolor\": \"white\", \"linecolor\": \"white\", \"ticks\": \"\"}, \"bgcolor\": \"#E5ECF6\", \"caxis\": {\"gridcolor\": \"white\", \"linecolor\": \"white\", \"ticks\": \"\"}}, \"title\": {\"x\": 0.05}, \"xaxis\": {\"automargin\": true, \"gridcolor\": \"white\", \"linecolor\": \"white\", \"ticks\": \"\", \"title\": {\"standoff\": 15}, \"zerolinecolor\": \"white\", \"zerolinewidth\": 2}, \"yaxis\": {\"automargin\": true, \"gridcolor\": \"white\", \"linecolor\": \"white\", \"ticks\": \"\", \"title\": {\"standoff\": 15}, \"zerolinecolor\": \"white\", \"zerolinewidth\": 2}}}, \"xaxis\": {\"anchor\": \"y\", \"domain\": [0.0, 1.0], \"title\": {\"text\": \"0\"}}, \"yaxis\": {\"anchor\": \"x\", \"domain\": [0.0, 1.0], \"title\": {\"text\": \"1\"}}},                        {\"responsive\": true}                    ).then(function(){\n                            \nvar gd = document.getElementById('5a5d9705-d76a-4508-9b50-7664a7a29db3');\nvar x = new MutationObserver(function (mutations, observer) {{\n        var display = window.getComputedStyle(gd).display;\n        if (!display || display === 'none') {{\n            console.log([gd, 'removed!']);\n            Plotly.purge(gd);\n            observer.disconnect();\n        }}\n}});\n\n// Listen for the removal of the full notebook cells\nvar notebookContainer = gd.closest('#notebook-container');\nif (notebookContainer) {{\n    x.observe(notebookContainer, {childList: true});\n}}\n\n// Listen for the clearing of the current output cell\nvar outputEl = gd.closest('.output');\nif (outputEl) {{\n    x.observe(outputEl, {childList: true});\n}}\n\n                        })                };                });            </script>        </div>"
     },
     "metadata": {},
     "output_type": "display_data"
    }
   ],
   "source": [
    "# Scatter plot of specific words clusters\n",
    "px.scatter(fit_specific_words, x=0, y=1,\n",
    "           color=df_specific_words_exploded.words,\n",
    "           labels={'color': 'words'},\n",
    "           hover_name=df_specific_words_exploded.clusters\n",
    "           )"
   ],
   "metadata": {
    "collapsed": false,
    "pycharm": {
     "name": "#%%\n"
    }
   }
  },
  {
   "cell_type": "code",
   "execution_count": 14,
   "outputs": [],
   "source": [
    "# Save our trained model\n",
    "# dfVec.save('/home/jovyan/work/Dan/data/pwdb/word2vec/df.model')"
   ],
   "metadata": {
    "collapsed": false,
    "pycharm": {
     "name": "#%%\n"
    }
   }
  },
  {
   "cell_type": "code",
   "execution_count": 14,
   "outputs": [],
   "source": [
    "\"\"\"\n",
    "1. for each cluster create 2 plots:\n",
    "    - zoom in cluster\n",
    "    - care pune clusterul in context la intreg spatiului de word embedding (\n",
    "        determinam dim. min max pe axa y p/u toate word embedding )\n",
    "\n",
    "\"\"\""
   ],
   "metadata": {
    "collapsed": false,
    "pycharm": {
     "name": "#%%\n"
    }
   }
  }
 ],
 "metadata": {
  "kernelspec": {
   "display_name": "Python 3",
   "language": "python",
   "name": "python3"
  },
  "language_info": {
   "codemirror_mode": {
    "name": "ipython",
    "version": 2
   },
   "file_extension": ".py",
   "mimetype": "text/x-python",
   "name": "python",
   "nbconvert_exporter": "python",
   "pygments_lexer": "ipython2",
   "version": "2.7.6"
  }
 },
 "nbformat": 4,
 "nbformat_minor": 0
}