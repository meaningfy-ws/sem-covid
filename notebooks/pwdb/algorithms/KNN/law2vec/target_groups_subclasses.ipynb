{
 "cells": [
  {
   "cell_type": "code",
   "metadata": {
    "collapsed": true,
    "pycharm": {
     "name": "#%%\n"
    }
   },
   "source": [
    "# Ignore warnings\n",
    "import warnings\n",
    "warnings.filterwarnings('ignore')\n",
    "\n",
    "# Reusable classes\n",
    "import sys\n",
    "sys.path.append(\"/home/jovyan/work/upload/ml-experiments/sc_wrangling\")\n",
    "\n",
    "# Data path\n",
    "import pathlib\n",
    "FOLDER = pathlib.Path(\"/home/jovyan/work/upload/\")\n",
    "TABLE_PATH = FOLDER / 'data/pickle/df_columns_labels.pkl'\n",
    "LAW2VEC_PATH = FOLDER / 'data/law2vec/Law2Vec.200d.txt'\n",
    "\n",
    "# Math stuff\n",
    "import numpy as np\n",
    "from numpy.core.records import ndarray\n",
    "\n",
    "# Data visualisation\n",
    "import pandas as pd\n",
    "from pandas import Series\n",
    "\n",
    "# Vectorize algotrithm\n",
    "from gensim.models import Word2Vec, KeyedVectors\n",
    "\n",
    "# Support Vector Classifier Algorithm\n",
    "from sklearn.neighbors import KNeighborsClassifier as KNC\n",
    "\n",
    "# Intermediate steps of the pipeline must be ‘transforms’,\n",
    "# that is, they must implement fit and transform methods.\n",
    "from sklearn.pipeline import Pipeline\n",
    "\n",
    "# Splitting data into train and test\n",
    "from sklearn.model_selection import train_test_split\n",
    "\n",
    "# Metrics Evaluation Methods\n",
    "from evaluation_metrics import model_evaluation_metrics"
   ],
   "execution_count": 1,
   "outputs": []
  },
  {
   "cell_type": "code",
   "execution_count": 57,
   "outputs": [
    {
     "data": {
      "text/plain": "                           Concatenated Data (clean)  Category  Subcategory  \\\n0  [hardship, case, fund, safety, net, selfemploy...         2           12   \n1  [state, support, tourism, access, financeas, t...         0            0   \n2  [bank, guarantees, smes, oneperson, enterprise...         0            0   \n3  [emergency, measures, relating, shorttime, wor...         6           14   \n4  [airbus, agreement, making, unworked, hours, p...         3            7   \n\n   Type of measure                                      Target groups  \\\n0                0  One person or microenterprises|Self-employed|S...   \n1                0              SMEs|Sector specific set of companies   \n2                0                One person or microenterprises|SMEs   \n3                0  Employees in standard employment|Other groups ...   \n4                2  Employees in standard employment|Larger corpor...   \n\n   One person or microenterprises|Self-employed|Solo-self-employed  \\\n0                                                  1                 \n1                                                  0                 \n2                                                  0                 \n3                                                  0                 \n4                                                  0                 \n\n   SMEs|Sector specific set of companies  One person or microenterprises|SMEs  \\\n0                                      0                                    0   \n1                                      1                                    0   \n2                                      0                                    1   \n3                                      0                                    0   \n4                                      0                                    0   \n\n   Employees in standard employment|Other groups of workers  \\\n0                                                  0          \n1                                                  0          \n2                                                  0          \n3                                                  1          \n4                                                  0          \n\n   Employees in standard employment|Larger corporations  ...  \\\n0                                                  0     ...   \n1                                                  0     ...   \n2                                                  0     ...   \n3                                                  0     ...   \n4                                                  1     ...   \n\n   Children (minors)|Disabled|Older citizens|Parents|SMEs|Single parents|Single parents in employment|The COVID-19 risk group|Workers in care facilities|Workers in essential services  \\\n0                                                  0                                                                                                                                     \n1                                                  0                                                                                                                                     \n2                                                  0                                                                                                                                     \n3                                                  0                                                                                                                                     \n4                                                  0                                                                                                                                     \n\n   Employees in standard employment|Workers in care facilities|Workers in non-standard forms of employment  \\\n0                                                  0                                                         \n1                                                  0                                                         \n2                                                  0                                                         \n3                                                  0                                                         \n4                                                  0                                                         \n\n   Companies providing essential services|Workers in essential services  \\\n0                                                  0                      \n1                                                  0                      \n2                                                  0                      \n3                                                  0                      \n4                                                  0                      \n\n   Contractors of a company  Other businesses|Unemployed  \\\n0                         0                            0   \n1                         0                            0   \n2                         0                            0   \n3                         0                            0   \n4                         0                            0   \n\n   Seasonal workers|Workers in non-standard forms of employment  \\\n0                                                  0              \n1                                                  0              \n2                                                  0              \n3                                                  0              \n4                                                  0              \n\n   Employees in standard employment|Particular professions  Businesses  \\\n0                                                  0                 1   \n1                                                  0                 1   \n2                                                  0                 1   \n3                                                  0                 0   \n4                                                  0                 1   \n\n   Citizens  Workers  \n0         1        1  \n1         0        0  \n2         0        0  \n3         1        1  \n4         1        1  \n\n[5 rows x 211 columns]",
      "text/html": "<div>\n<style scoped>\n    .dataframe tbody tr th:only-of-type {\n        vertical-align: middle;\n    }\n\n    .dataframe tbody tr th {\n        vertical-align: top;\n    }\n\n    .dataframe thead th {\n        text-align: right;\n    }\n</style>\n<table border=\"1\" class=\"dataframe\">\n  <thead>\n    <tr style=\"text-align: right;\">\n      <th></th>\n      <th>Concatenated Data (clean)</th>\n      <th>Category</th>\n      <th>Subcategory</th>\n      <th>Type of measure</th>\n      <th>Target groups</th>\n      <th>One person or microenterprises|Self-employed|Solo-self-employed</th>\n      <th>SMEs|Sector specific set of companies</th>\n      <th>One person or microenterprises|SMEs</th>\n      <th>Employees in standard employment|Other groups of workers</th>\n      <th>Employees in standard employment|Larger corporations</th>\n      <th>...</th>\n      <th>Children (minors)|Disabled|Older citizens|Parents|SMEs|Single parents|Single parents in employment|The COVID-19 risk group|Workers in care facilities|Workers in essential services</th>\n      <th>Employees in standard employment|Workers in care facilities|Workers in non-standard forms of employment</th>\n      <th>Companies providing essential services|Workers in essential services</th>\n      <th>Contractors of a company</th>\n      <th>Other businesses|Unemployed</th>\n      <th>Seasonal workers|Workers in non-standard forms of employment</th>\n      <th>Employees in standard employment|Particular professions</th>\n      <th>Businesses</th>\n      <th>Citizens</th>\n      <th>Workers</th>\n    </tr>\n  </thead>\n  <tbody>\n    <tr>\n      <th>0</th>\n      <td>[hardship, case, fund, safety, net, selfemploy...</td>\n      <td>2</td>\n      <td>12</td>\n      <td>0</td>\n      <td>One person or microenterprises|Self-employed|S...</td>\n      <td>1</td>\n      <td>0</td>\n      <td>0</td>\n      <td>0</td>\n      <td>0</td>\n      <td>...</td>\n      <td>0</td>\n      <td>0</td>\n      <td>0</td>\n      <td>0</td>\n      <td>0</td>\n      <td>0</td>\n      <td>0</td>\n      <td>1</td>\n      <td>1</td>\n      <td>1</td>\n    </tr>\n    <tr>\n      <th>1</th>\n      <td>[state, support, tourism, access, financeas, t...</td>\n      <td>0</td>\n      <td>0</td>\n      <td>0</td>\n      <td>SMEs|Sector specific set of companies</td>\n      <td>0</td>\n      <td>1</td>\n      <td>0</td>\n      <td>0</td>\n      <td>0</td>\n      <td>...</td>\n      <td>0</td>\n      <td>0</td>\n      <td>0</td>\n      <td>0</td>\n      <td>0</td>\n      <td>0</td>\n      <td>0</td>\n      <td>1</td>\n      <td>0</td>\n      <td>0</td>\n    </tr>\n    <tr>\n      <th>2</th>\n      <td>[bank, guarantees, smes, oneperson, enterprise...</td>\n      <td>0</td>\n      <td>0</td>\n      <td>0</td>\n      <td>One person or microenterprises|SMEs</td>\n      <td>0</td>\n      <td>0</td>\n      <td>1</td>\n      <td>0</td>\n      <td>0</td>\n      <td>...</td>\n      <td>0</td>\n      <td>0</td>\n      <td>0</td>\n      <td>0</td>\n      <td>0</td>\n      <td>0</td>\n      <td>0</td>\n      <td>1</td>\n      <td>0</td>\n      <td>0</td>\n    </tr>\n    <tr>\n      <th>3</th>\n      <td>[emergency, measures, relating, shorttime, wor...</td>\n      <td>6</td>\n      <td>14</td>\n      <td>0</td>\n      <td>Employees in standard employment|Other groups ...</td>\n      <td>0</td>\n      <td>0</td>\n      <td>0</td>\n      <td>1</td>\n      <td>0</td>\n      <td>...</td>\n      <td>0</td>\n      <td>0</td>\n      <td>0</td>\n      <td>0</td>\n      <td>0</td>\n      <td>0</td>\n      <td>0</td>\n      <td>0</td>\n      <td>1</td>\n      <td>1</td>\n    </tr>\n    <tr>\n      <th>4</th>\n      <td>[airbus, agreement, making, unworked, hours, p...</td>\n      <td>3</td>\n      <td>7</td>\n      <td>2</td>\n      <td>Employees in standard employment|Larger corpor...</td>\n      <td>0</td>\n      <td>0</td>\n      <td>0</td>\n      <td>0</td>\n      <td>1</td>\n      <td>...</td>\n      <td>0</td>\n      <td>0</td>\n      <td>0</td>\n      <td>0</td>\n      <td>0</td>\n      <td>0</td>\n      <td>0</td>\n      <td>1</td>\n      <td>1</td>\n      <td>1</td>\n    </tr>\n  </tbody>\n</table>\n<p>5 rows × 211 columns</p>\n</div>"
     },
     "execution_count": 57,
     "metadata": {},
     "output_type": "execute_result"
    }
   ],
   "source": [
    "# Read data\n",
    "df = pd.read_pickle(TABLE_PATH)\n",
    "df.head()"
   ],
   "metadata": {
    "collapsed": false,
    "pycharm": {
     "name": "#%%\n"
    }
   }
  },
  {
   "cell_type": "code",
   "source": [
    "# Independent data\n",
    "columns = df['Concatenated Data (clean)']\n",
    "# Label data\n",
    "target_groups_subclasses = df[df.columns[5:208]]"
   ],
   "metadata": {
    "collapsed": false,
    "pycharm": {
     "name": "#%%\n"
    }
   },
   "execution_count": 58,
   "outputs": []
  },
  {
   "cell_type": "markdown",
   "source": [
    "## word2vec model"
   ],
   "metadata": {
    "collapsed": false,
    "pycharm": {
     "name": "#%% md\n"
    }
   }
  },
  {
   "cell_type": "code",
   "source": [
    "# Load a word2vec model stored in the C *text* format.\n",
    "model = KeyedVectors.load_word2vec_format(LAW2VEC_PATH, binary=False)\n",
    "l2v_dict = {w: vec for w, vec in zip(model.wv.index2word, model.wv.syn0)}"
   ],
   "metadata": {
    "collapsed": false,
    "pycharm": {
     "name": "#%%\n"
    }
   },
   "execution_count": 49,
   "outputs": []
  },
  {
   "cell_type": "code",
   "execution_count": 50,
   "outputs": [],
   "source": [
    "class MeanEmbeddingVectorizer(object):\n",
    "    \"\"\"Calculate the mean of each word\"\"\"\n",
    "    def __init__(self, word2vec):\n",
    "        self.word2vec = word2vec\n",
    "        if len(word2vec)>0:\n",
    "            self.dim=len(word2vec[next(iter(l2v_dict))])\n",
    "        else:\n",
    "            self.dim=0\n",
    "\n",
    "    def fit(self, X, y):\n",
    "        return self\n",
    "\n",
    "    def transform(self, X):\n",
    "        return np.array([\n",
    "            np.mean([self.word2vec[w] for w in words if w in self.word2vec]\n",
    "                    or [np.zeros(self.dim)], axis=0) for words in X]\n",
    "        )"
   ],
   "metadata": {
    "collapsed": false,
    "pycharm": {
     "name": "#%%\n"
    }
   }
  },
  {
   "cell_type": "code",
   "execution_count": 51,
   "outputs": [],
   "source": [
    "# Use pipes to implement steps of fit and transform method\n",
    "knn_l2v = Pipeline([\n",
    "    # Add the words we want to mean\n",
    "    (\"word2vec vectorizer\", MeanEmbeddingVectorizer(l2v_dict)),\n",
    "    # Use KNN algorithm\n",
    "    (\"KNN\", KNC())])"
   ],
   "metadata": {
    "collapsed": false,
    "pycharm": {
     "name": "#%%\n"
    }
   }
  },
  {
   "cell_type": "markdown",
   "source": [
    "## Train SVM Model"
   ],
   "metadata": {
    "collapsed": false,
    "pycharm": {
     "name": "#%% md\n"
    }
   }
  },
  {
   "cell_type": "code",
   "source": [
    "# Split data into test and train sets\n",
    "# Where \"train\" contains 70% of data and \"test\" - 30%\n",
    "X_train, X_test, y_train, y_test = train_test_split(\n",
    "    columns, target_groups_subclasses, random_state=42, test_size=0.3, shuffle=True)"
   ],
   "metadata": {
    "collapsed": false,
    "pycharm": {
     "name": "#%%\n"
    }
   },
   "execution_count": 52,
   "outputs": []
  },
  {
   "cell_type": "code",
   "execution_count": 53,
   "outputs": [
    {
     "data": {
      "text/plain": "Pipeline(steps=[('word2vec vectorizer',\n                 <__main__.MeanEmbeddingVectorizer object at 0x7f9ae97a2cd0>),\n                ('KNN', KNeighborsClassifier())])"
     },
     "execution_count": 53,
     "metadata": {},
     "output_type": "execute_result"
    }
   ],
   "source": [
    "# Fit KNN model with out train data\n",
    "knn_l2v.fit(X_train, y_train)"
   ],
   "metadata": {
    "collapsed": false,
    "pycharm": {
     "name": "#%%\n"
    }
   }
  },
  {
   "cell_type": "code",
   "execution_count": 54,
   "outputs": [
    {
     "data": {
      "text/plain": "array([[0, 0, 0, ..., 0, 0, 0],\n       [0, 0, 0, ..., 0, 0, 0],\n       [0, 0, 0, ..., 0, 0, 0],\n       ...,\n       [0, 0, 0, ..., 0, 0, 0],\n       [0, 0, 0, ..., 0, 0, 0],\n       [0, 0, 0, ..., 0, 0, 0]])"
     },
     "execution_count": 54,
     "metadata": {},
     "output_type": "execute_result"
    }
   ],
   "source": [
    "# KNN prediction based on test data\n",
    "prediction = knn_l2v.predict(X_test)\n",
    "prediction"
   ],
   "metadata": {
    "collapsed": false,
    "pycharm": {
     "name": "#%%\n"
    }
   }
  },
  {
   "cell_type": "markdown",
   "source": [
    "## Evaluation"
   ],
   "metadata": {
    "collapsed": false,
    "pycharm": {
     "name": "#%% md\n"
    }
   }
  },
  {
   "cell_type": "code",
   "execution_count": 55,
   "outputs": [
    {
     "data": {
      "text/plain": "    Evaluation Metrics  Target groups\n0             Accuracy       0.153025\n1           Precission       0.011563\n2               Recall       0.009495\n3             F1 Score       0.009629\n4  Mean Absolute Error       0.005066\n5   Mean Squared Error       0.005066",
      "text/html": "<div>\n<style scoped>\n    .dataframe tbody tr th:only-of-type {\n        vertical-align: middle;\n    }\n\n    .dataframe tbody tr th {\n        vertical-align: top;\n    }\n\n    .dataframe thead th {\n        text-align: right;\n    }\n</style>\n<table border=\"1\" class=\"dataframe\">\n  <thead>\n    <tr style=\"text-align: right;\">\n      <th></th>\n      <th>Evaluation Metrics</th>\n      <th>Target groups</th>\n    </tr>\n  </thead>\n  <tbody>\n    <tr>\n      <th>0</th>\n      <td>Accuracy</td>\n      <td>0.153025</td>\n    </tr>\n    <tr>\n      <th>1</th>\n      <td>Precission</td>\n      <td>0.011563</td>\n    </tr>\n    <tr>\n      <th>2</th>\n      <td>Recall</td>\n      <td>0.009495</td>\n    </tr>\n    <tr>\n      <th>3</th>\n      <td>F1 Score</td>\n      <td>0.009629</td>\n    </tr>\n    <tr>\n      <th>4</th>\n      <td>Mean Absolute Error</td>\n      <td>0.005066</td>\n    </tr>\n    <tr>\n      <th>5</th>\n      <td>Mean Squared Error</td>\n      <td>0.005066</td>\n    </tr>\n  </tbody>\n</table>\n</div>"
     },
     "execution_count": 55,
     "metadata": {},
     "output_type": "execute_result"
    }
   ],
   "source": [
    "model_evaluation_metrics(y_test, prediction, 'Target groups')"
   ],
   "metadata": {
    "collapsed": false,
    "pycharm": {
     "name": "#%%\n"
    }
   }
  },
  {
   "cell_type": "code",
   "execution_count": null,
   "outputs": [],
   "source": [],
   "metadata": {
    "collapsed": false,
    "pycharm": {
     "name": "#%%\n"
    }
   }
  }
 ],
 "metadata": {
  "kernelspec": {
   "display_name": "Python 3",
   "language": "python",
   "name": "python3"
  },
  "language_info": {
   "codemirror_mode": {
    "name": "ipython",
    "version": 2
   },
   "file_extension": ".py",
   "mimetype": "text/x-python",
   "name": "python",
   "nbconvert_exporter": "python",
   "pygments_lexer": "ipython2",
   "version": "2.7.6"
  }
 },
 "nbformat": 4,
 "nbformat_minor": 0
}