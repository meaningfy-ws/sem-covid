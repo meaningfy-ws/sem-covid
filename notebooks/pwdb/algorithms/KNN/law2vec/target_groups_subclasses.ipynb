{
 "cells": [
  {
   "cell_type": "code",
   "metadata": {
    "collapsed": true,
    "pycharm": {
     "name": "#%%\n"
    }
   },
   "source": [
    "# Ignore warnings\n",
    "import warnings\n",
    "warnings.filterwarnings('ignore')\n",
    "\n",
    "# Reusable classes\n",
    "import sys\n",
    "sys.path.append(\"/home/jovyan/work/upload/ml-experiments/sc_wrangling\")\n",
    "\n",
    "# Data path\n",
    "import pathlib\n",
    "FOLDER = pathlib.Path(\"/home/jovyan/work/upload/\")\n",
    "TABLE_PATH = FOLDER / 'data/pickle/df_columns_labels.pkl'\n",
    "LAW2VEC_PATH = FOLDER / 'data/law2vec/Law2Vec.200d.txt'\n",
    "\n",
    "# compress the trained model\n",
    "import pickle\n",
    "SAVED_MODEL_PATH = pathlib.Path('/home/jovyan/work/upload/data/trained_models')\n",
    "\n",
    "# Manage ML lifecycle\n",
    "import mlflow\n",
    "from mlflow import log_params, set_tags, log_metrics, log_artifact\n",
    "MLFLOW_TRACKING_URI = 'http://srv.meaningfy.ws:8989'\n",
    "\n",
    "# Math stuff\n",
    "import numpy as np\n",
    "from numpy.core.records import ndarray\n",
    "\n",
    "# Data visualisation\n",
    "import pandas as pd\n",
    "from pandas import Series\n",
    "\n",
    "# Vectorize algotrithm\n",
    "from gensim.models import Word2Vec, KeyedVectors\n",
    "\n",
    "# Support Vector Classifier Algorithm\n",
    "from sklearn.neighbors import KNeighborsClassifier as KNC\n",
    "# :n_neighbors: represents the number of neighbors to use for k-neighbors queries\n",
    "N_NEIGHBORS=3\n",
    "P=2\n",
    "\n",
    "# Intermediate steps of the pipeline must be ‘transforms’,\n",
    "# that is, they must implement fit and transform methods.\n",
    "from sklearn.pipeline import Pipeline\n",
    "\n",
    "# Splitting data into train and test\n",
    "from sklearn.model_selection import train_test_split\n",
    "RANDOM_STATE = 42\n",
    "# Where \"train\" contains 70% of data and \"test\" - 30%\n",
    "TEST_SIZE = 0.3\n",
    "SHUFFLE = True\n",
    "\n",
    "# Mean embedding function\n",
    "from mean_vectorizer import MeanEmbeddingVectorizer\n",
    "\n",
    "# Metrics Evaluation Methods\n",
    "from evaluation_metrics import model_evaluation_metrics\n",
    "\n",
    "# Transform DataFrame to dictionary\n",
    "from dictionary_transformation import series_pair_to_dict"
   ],
   "execution_count": 1,
   "outputs": []
  },
  {
   "cell_type": "code",
   "execution_count": 2,
   "outputs": [
    {
     "data": {
      "text/plain": "                           Concatenated Data (clean)  Category  Subcategory  \\\n0  [hardship, case, fund, safety, net, selfemploy...         2           12   \n1  [state, support, tourism, access, financeas, t...         0            0   \n2  [bank, guarantees, smes, oneperson, enterprise...         0            0   \n3  [emergency, measures, relating, shorttime, wor...         6           14   \n4  [airbus, agreement, making, unworked, hours, p...         3            7   \n\n   Type of measure                                      Target groups  \\\n0                0  One person or microenterprises|Self-employed|S...   \n1                0              SMEs|Sector specific set of companies   \n2                0                One person or microenterprises|SMEs   \n3                0  Employees in standard employment|Other groups ...   \n4                2  Employees in standard employment|Larger corpor...   \n\n   One person or microenterprises|Self-employed|Solo-self-employed  \\\n0                                                  1                 \n1                                                  0                 \n2                                                  0                 \n3                                                  0                 \n4                                                  0                 \n\n   SMEs|Sector specific set of companies  One person or microenterprises|SMEs  \\\n0                                      0                                    0   \n1                                      1                                    0   \n2                                      0                                    1   \n3                                      0                                    0   \n4                                      0                                    0   \n\n   Employees in standard employment|Other groups of workers  \\\n0                                                  0          \n1                                                  0          \n2                                                  0          \n3                                                  1          \n4                                                  0          \n\n   Employees in standard employment|Larger corporations  ...  \\\n0                                                  0     ...   \n1                                                  0     ...   \n2                                                  0     ...   \n3                                                  0     ...   \n4                                                  1     ...   \n\n   Children (minors)|Disabled|Older citizens|Parents|SMEs|Single parents|Single parents in employment|The COVID-19 risk group|Workers in care facilities|Workers in essential services  \\\n0                                                  0                                                                                                                                     \n1                                                  0                                                                                                                                     \n2                                                  0                                                                                                                                     \n3                                                  0                                                                                                                                     \n4                                                  0                                                                                                                                     \n\n   Employees in standard employment|Workers in care facilities|Workers in non-standard forms of employment  \\\n0                                                  0                                                         \n1                                                  0                                                         \n2                                                  0                                                         \n3                                                  0                                                         \n4                                                  0                                                         \n\n   Companies providing essential services|Workers in essential services  \\\n0                                                  0                      \n1                                                  0                      \n2                                                  0                      \n3                                                  0                      \n4                                                  0                      \n\n   Contractors of a company  Other businesses|Unemployed  \\\n0                         0                            0   \n1                         0                            0   \n2                         0                            0   \n3                         0                            0   \n4                         0                            0   \n\n   Seasonal workers|Workers in non-standard forms of employment  \\\n0                                                  0              \n1                                                  0              \n2                                                  0              \n3                                                  0              \n4                                                  0              \n\n   Employees in standard employment|Particular professions  Businesses  \\\n0                                                  0                 1   \n1                                                  0                 1   \n2                                                  0                 1   \n3                                                  0                 0   \n4                                                  0                 1   \n\n   Citizens  Workers  \n0         1        1  \n1         0        0  \n2         0        0  \n3         1        1  \n4         1        1  \n\n[5 rows x 211 columns]",
      "text/html": "<div>\n<style scoped>\n    .dataframe tbody tr th:only-of-type {\n        vertical-align: middle;\n    }\n\n    .dataframe tbody tr th {\n        vertical-align: top;\n    }\n\n    .dataframe thead th {\n        text-align: right;\n    }\n</style>\n<table border=\"1\" class=\"dataframe\">\n  <thead>\n    <tr style=\"text-align: right;\">\n      <th></th>\n      <th>Concatenated Data (clean)</th>\n      <th>Category</th>\n      <th>Subcategory</th>\n      <th>Type of measure</th>\n      <th>Target groups</th>\n      <th>One person or microenterprises|Self-employed|Solo-self-employed</th>\n      <th>SMEs|Sector specific set of companies</th>\n      <th>One person or microenterprises|SMEs</th>\n      <th>Employees in standard employment|Other groups of workers</th>\n      <th>Employees in standard employment|Larger corporations</th>\n      <th>...</th>\n      <th>Children (minors)|Disabled|Older citizens|Parents|SMEs|Single parents|Single parents in employment|The COVID-19 risk group|Workers in care facilities|Workers in essential services</th>\n      <th>Employees in standard employment|Workers in care facilities|Workers in non-standard forms of employment</th>\n      <th>Companies providing essential services|Workers in essential services</th>\n      <th>Contractors of a company</th>\n      <th>Other businesses|Unemployed</th>\n      <th>Seasonal workers|Workers in non-standard forms of employment</th>\n      <th>Employees in standard employment|Particular professions</th>\n      <th>Businesses</th>\n      <th>Citizens</th>\n      <th>Workers</th>\n    </tr>\n  </thead>\n  <tbody>\n    <tr>\n      <th>0</th>\n      <td>[hardship, case, fund, safety, net, selfemploy...</td>\n      <td>2</td>\n      <td>12</td>\n      <td>0</td>\n      <td>One person or microenterprises|Self-employed|S...</td>\n      <td>1</td>\n      <td>0</td>\n      <td>0</td>\n      <td>0</td>\n      <td>0</td>\n      <td>...</td>\n      <td>0</td>\n      <td>0</td>\n      <td>0</td>\n      <td>0</td>\n      <td>0</td>\n      <td>0</td>\n      <td>0</td>\n      <td>1</td>\n      <td>1</td>\n      <td>1</td>\n    </tr>\n    <tr>\n      <th>1</th>\n      <td>[state, support, tourism, access, financeas, t...</td>\n      <td>0</td>\n      <td>0</td>\n      <td>0</td>\n      <td>SMEs|Sector specific set of companies</td>\n      <td>0</td>\n      <td>1</td>\n      <td>0</td>\n      <td>0</td>\n      <td>0</td>\n      <td>...</td>\n      <td>0</td>\n      <td>0</td>\n      <td>0</td>\n      <td>0</td>\n      <td>0</td>\n      <td>0</td>\n      <td>0</td>\n      <td>1</td>\n      <td>0</td>\n      <td>0</td>\n    </tr>\n    <tr>\n      <th>2</th>\n      <td>[bank, guarantees, smes, oneperson, enterprise...</td>\n      <td>0</td>\n      <td>0</td>\n      <td>0</td>\n      <td>One person or microenterprises|SMEs</td>\n      <td>0</td>\n      <td>0</td>\n      <td>1</td>\n      <td>0</td>\n      <td>0</td>\n      <td>...</td>\n      <td>0</td>\n      <td>0</td>\n      <td>0</td>\n      <td>0</td>\n      <td>0</td>\n      <td>0</td>\n      <td>0</td>\n      <td>1</td>\n      <td>0</td>\n      <td>0</td>\n    </tr>\n    <tr>\n      <th>3</th>\n      <td>[emergency, measures, relating, shorttime, wor...</td>\n      <td>6</td>\n      <td>14</td>\n      <td>0</td>\n      <td>Employees in standard employment|Other groups ...</td>\n      <td>0</td>\n      <td>0</td>\n      <td>0</td>\n      <td>1</td>\n      <td>0</td>\n      <td>...</td>\n      <td>0</td>\n      <td>0</td>\n      <td>0</td>\n      <td>0</td>\n      <td>0</td>\n      <td>0</td>\n      <td>0</td>\n      <td>0</td>\n      <td>1</td>\n      <td>1</td>\n    </tr>\n    <tr>\n      <th>4</th>\n      <td>[airbus, agreement, making, unworked, hours, p...</td>\n      <td>3</td>\n      <td>7</td>\n      <td>2</td>\n      <td>Employees in standard employment|Larger corpor...</td>\n      <td>0</td>\n      <td>0</td>\n      <td>0</td>\n      <td>0</td>\n      <td>1</td>\n      <td>...</td>\n      <td>0</td>\n      <td>0</td>\n      <td>0</td>\n      <td>0</td>\n      <td>0</td>\n      <td>0</td>\n      <td>0</td>\n      <td>1</td>\n      <td>1</td>\n      <td>1</td>\n    </tr>\n  </tbody>\n</table>\n<p>5 rows × 211 columns</p>\n</div>"
     },
     "execution_count": 2,
     "metadata": {},
     "output_type": "execute_result"
    }
   ],
   "source": [
    "# Read data\n",
    "df = pd.read_pickle(TABLE_PATH)\n",
    "df.head()"
   ],
   "metadata": {
    "collapsed": false,
    "pycharm": {
     "name": "#%%\n"
    }
   }
  },
  {
   "cell_type": "code",
   "source": [
    "# Independent data\n",
    "columns = df['Concatenated Data (clean)']\n",
    "# Label data\n",
    "target_groups_subclasses = df[df.columns[5:208]]"
   ],
   "metadata": {
    "collapsed": false,
    "pycharm": {
     "name": "#%%\n"
    }
   },
   "execution_count": 3,
   "outputs": []
  },
  {
   "cell_type": "markdown",
   "source": [
    "## word2vec model"
   ],
   "metadata": {
    "collapsed": false,
    "pycharm": {
     "name": "#%% md\n"
    }
   }
  },
  {
   "cell_type": "code",
   "source": [
    "# Load a word2vec model stored in the C *text* format.\n",
    "model = KeyedVectors.load_word2vec_format(LAW2VEC_PATH, binary=False)\n",
    "l2v_dict = {w: vec for w, vec in zip(model.wv.index2word, model.wv.syn0)}"
   ],
   "metadata": {
    "collapsed": false,
    "pycharm": {
     "name": "#%%\n"
    }
   },
   "execution_count": 4,
   "outputs": []
  },
  {
   "cell_type": "code",
   "execution_count": 5,
   "outputs": [],
   "source": [
    "# Use pipes to implement steps of fit and transform method\n",
    "knn_l2v = Pipeline([\n",
    "    # Add the words we want to mean\n",
    "    (\"word2vec vectorizer\", MeanEmbeddingVectorizer(l2v_dict)),\n",
    "    # Use KNN algorithm\n",
    "    (\"KNN\", KNC(n_neighbors=N_NEIGHBORS, p=P))])"
   ],
   "metadata": {
    "collapsed": false,
    "pycharm": {
     "name": "#%%\n"
    }
   }
  },
  {
   "cell_type": "markdown",
   "source": [
    "## Train SVM Model"
   ],
   "metadata": {
    "collapsed": false,
    "pycharm": {
     "name": "#%% md\n"
    }
   }
  },
  {
   "cell_type": "code",
   "source": [
    "# Split data into test and train sets\n",
    "# Where \"train\" contains 70% of data and \"test\" - 30%\n",
    "X_train, X_test, y_train, y_test = train_test_split(\n",
    "    columns, target_groups_subclasses, random_state=RANDOM_STATE, test_size=TEST_SIZE, shuffle=SHUFFLE)"
   ],
   "metadata": {
    "collapsed": false,
    "pycharm": {
     "name": "#%%\n"
    }
   },
   "execution_count": 6,
   "outputs": []
  },
  {
   "cell_type": "code",
   "execution_count": 7,
   "outputs": [
    {
     "data": {
      "text/plain": "Pipeline(steps=[('word2vec vectorizer',\n                 <mean_vectorizer.MeanEmbeddingVectorizer object at 0x7f5be542a910>),\n                ('KNN', KNeighborsClassifier(n_neighbors=3))])"
     },
     "execution_count": 7,
     "metadata": {},
     "output_type": "execute_result"
    }
   ],
   "source": [
    "# Fit KNN model with out train data\n",
    "knn_l2v.fit(X_train, y_train)"
   ],
   "metadata": {
    "collapsed": false,
    "pycharm": {
     "name": "#%%\n"
    }
   }
  },
  {
   "cell_type": "markdown",
   "source": [
    "### Save the model into pickle file"
   ],
   "metadata": {
    "collapsed": false
   }
  },
  {
   "cell_type": "code",
   "execution_count": 8,
   "outputs": [],
   "source": [
    "with open(SAVED_MODEL_PATH / 'target_groups_subclasses_knn_law2vec.pkl', 'wb') as pickle_model:\n",
    "    pickle.dump(knn_l2v, pickle_model)"
   ],
   "metadata": {
    "collapsed": false,
    "pycharm": {
     "name": "#%%\n"
    }
   }
  },
  {
   "cell_type": "code",
   "execution_count": 9,
   "outputs": [
    {
     "data": {
      "text/plain": "0.345565749235474"
     },
     "execution_count": 9,
     "metadata": {},
     "output_type": "execute_result"
    }
   ],
   "source": [
    "# Model Evaluation\n",
    "knn_l2v.score(X_train, y_train)"
   ],
   "metadata": {
    "collapsed": false,
    "pycharm": {
     "name": "#%%\n"
    }
   }
  },
  {
   "cell_type": "code",
   "execution_count": 10,
   "outputs": [
    {
     "data": {
      "text/plain": "array([[0, 0, 0, ..., 0, 0, 0],\n       [0, 0, 0, ..., 0, 0, 0],\n       [0, 0, 0, ..., 0, 0, 0],\n       ...,\n       [0, 0, 0, ..., 0, 0, 0],\n       [0, 0, 0, ..., 0, 0, 0],\n       [0, 0, 0, ..., 0, 0, 0]])"
     },
     "execution_count": 10,
     "metadata": {},
     "output_type": "execute_result"
    }
   ],
   "source": [
    "# KNN prediction based on test data\n",
    "prediction = knn_l2v.predict(X_test)\n",
    "prediction"
   ],
   "metadata": {
    "collapsed": false,
    "pycharm": {
     "name": "#%%\n"
    }
   }
  },
  {
   "cell_type": "markdown",
   "source": [
    "## Evaluation"
   ],
   "metadata": {
    "collapsed": false,
    "pycharm": {
     "name": "#%% md\n"
    }
   }
  },
  {
   "cell_type": "code",
   "execution_count": 11,
   "outputs": [
    {
     "data": {
      "text/plain": "         Metric Labels  Metric values\n0             Accuracy       0.167260\n1            Precision       0.018636\n2               Recall       0.011683\n3             F1-Score       0.013200\n4  Mean Absolute Error       0.005277\n5   Mean Squared Error       0.005277",
      "text/html": "<div>\n<style scoped>\n    .dataframe tbody tr th:only-of-type {\n        vertical-align: middle;\n    }\n\n    .dataframe tbody tr th {\n        vertical-align: top;\n    }\n\n    .dataframe thead th {\n        text-align: right;\n    }\n</style>\n<table border=\"1\" class=\"dataframe\">\n  <thead>\n    <tr style=\"text-align: right;\">\n      <th></th>\n      <th>Metric Labels</th>\n      <th>Metric values</th>\n    </tr>\n  </thead>\n  <tbody>\n    <tr>\n      <th>0</th>\n      <td>Accuracy</td>\n      <td>0.167260</td>\n    </tr>\n    <tr>\n      <th>1</th>\n      <td>Precision</td>\n      <td>0.018636</td>\n    </tr>\n    <tr>\n      <th>2</th>\n      <td>Recall</td>\n      <td>0.011683</td>\n    </tr>\n    <tr>\n      <th>3</th>\n      <td>F1-Score</td>\n      <td>0.013200</td>\n    </tr>\n    <tr>\n      <th>4</th>\n      <td>Mean Absolute Error</td>\n      <td>0.005277</td>\n    </tr>\n    <tr>\n      <th>5</th>\n      <td>Mean Squared Error</td>\n      <td>0.005277</td>\n    </tr>\n  </tbody>\n</table>\n</div>"
     },
     "execution_count": 11,
     "metadata": {},
     "output_type": "execute_result"
    }
   ],
   "source": [
    "evaluation = model_evaluation_metrics(y_test, prediction)\n",
    "evaluation"
   ],
   "metadata": {
    "collapsed": false,
    "pycharm": {
     "name": "#%%\n"
    }
   }
  },
  {
   "cell_type": "code",
   "execution_count": 12,
   "outputs": [
    {
     "data": {
      "text/plain": "{'Accuracy': 0.16725978647686832,\n 'Precision': 0.018635806813146714,\n 'Recall': 0.011682910619908287,\n 'F1-Score': 0.013199562683644172,\n 'Mean Absolute Error': 0.005276721070069947,\n 'Mean Squared Error': 0.005276721070069947}"
     },
     "execution_count": 12,
     "metadata": {},
     "output_type": "execute_result"
    }
   ],
   "source": [
    "transformation = series_pair_to_dict(evaluation, 'Metric Labels', 'Metric values')\n",
    "transformation"
   ],
   "metadata": {
    "collapsed": false,
    "pycharm": {
     "name": "#%%\n"
    }
   }
  },
  {
   "cell_type": "code",
   "execution_count": 13,
   "outputs": [],
   "source": [
    "\n",
    "mlflow.set_tracking_uri(MLFLOW_TRACKING_URI)\n",
    "mlflow.set_experiment(experiment_name=\"Target group Subclasses (KNN, Law2Vec)\")\n",
    "\n",
    "with mlflow.start_run():\n",
    "\n",
    "    parameters = {\"Language model\": 'law2vec',\n",
    "                  \"Random state\": RANDOM_STATE,\n",
    "                  \"Test size\": TEST_SIZE,\n",
    "                  \"n_neighbours\": N_NEIGHBORS,\n",
    "                  \"p\": P}\n",
    "    log_params(parameters)\n",
    "\n",
    "    log_metrics(transformation)\n",
    "\n",
    "    log_artifact('/home/jovyan/work/upload/data/trained_models/target_groups_subclasses_knn_law2vec.pkl')\n",
    "\n"
   ],
   "metadata": {
    "collapsed": false,
    "pycharm": {
     "name": "#%%\n"
    }
   }
  }
 ],
 "metadata": {
  "kernelspec": {
   "display_name": "Python 3",
   "language": "python",
   "name": "python3"
  },
  "language_info": {
   "codemirror_mode": {
    "name": "ipython",
    "version": 2
   },
   "file_extension": ".py",
   "mimetype": "text/x-python",
   "name": "python",
   "nbconvert_exporter": "python",
   "pygments_lexer": "ipython2",
   "version": "2.7.6"
  }
 },
 "nbformat": 4,
 "nbformat_minor": 0
}