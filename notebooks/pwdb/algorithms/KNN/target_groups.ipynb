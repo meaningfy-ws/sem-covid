{
 "cells": [
  {
   "cell_type": "code",
   "execution_count": 11,
   "metadata": {
    "collapsed": true
   },
   "outputs": [],
   "source": [
    "# Ignore warnings\n",
    "import warnings\n",
    "warnings.filterwarnings('ignore')\n",
    "\n",
    "import pathlib\n",
    "DATA_FOLDER = pathlib.Path(\"/home/jovyan/work/Dan/data\")\n",
    "TABLE_PATH = DATA_FOLDER / 'pwdb/pickle/df_columns_labels.pkl'\n",
    "\n",
    "# Math stuff\n",
    "import numpy as np\n",
    "\n",
    "# Data visualisation\n",
    "import pandas as pd\n",
    "\n",
    "# Vectorize algotrithm\n",
    "from gensim.models import Word2Vec\n",
    "\n",
    "# Support Vector Classifier Algorithm\n",
    "from sklearn.neighbors import KNeighborsClassifier as KNC\n",
    "\n",
    "# Intermediate steps of the pipeline must be ‘transforms’,\n",
    "# that is, they must implement fit and transform methods.\n",
    "from sklearn.pipeline import Pipeline\n",
    "\n",
    "# Splitting data into train and test\n",
    "from sklearn.model_selection import train_test_split\n",
    "\n",
    "# Metrics Evaluation Methods\n",
    "from sklearn.metrics import (confusion_matrix, f1_score, precision_score, accuracy_score,\n",
    "                             recall_score, log_loss, mean_squared_error, mean_absolute_error)"
   ]
  },
  {
   "cell_type": "code",
   "execution_count": 2,
   "outputs": [
    {
     "data": {
      "text/plain": "                           Concatinated Data (clean)  Category  \\\n0  [hardship, case, fund, safety, net, selfemploy...         2   \n1  [state, support, tourism, access, financeas, t...         0   \n2  [bank, guarantees, smes, oneperson, enterprise...         0   \n3  [emergency, measures, relating, shorttime, wor...         6   \n4  [airbus, agreement, making, unworked, hours, p...         3   \n\n   Type of measure                                      Target groups  \\\n0                0  One person or microenterprises, Self-employed,...   \n1                0             SMEs, Sector specific set of companies   \n2                0               One person or microenterprises, SMEs   \n3                0  Employees in standard employment, Other groups...   \n4                2  Employees in standard employment, Larger corpo...   \n\n   One person or microenterprises   Self-employed   Solo-self-employed  SMEs  \\\n0                               1               1                    1     0   \n1                               0               0                    0     1   \n2                               1               0                    0     0   \n3                               0               0                    0     0   \n4                               0               0                    0     0   \n\n    Sector specific set of companies   SMEs  ...  \\\n0                                  0      0  ...   \n1                                  1      0  ...   \n2                                  0      1  ...   \n3                                  0      0  ...   \n4                                  0      0  ...   \n\n    Youth (18-25) in employment  Workers in care facilities  \\\n0                             0                           0   \n1                             0                           0   \n2                             0                           0   \n3                             0                           0   \n4                             0                           0   \n\n   Older people in employment (aged 55+)   Undeclared workers  \\\n0                                      0                    0   \n1                                      0                    0   \n2                                      0                    0   \n3                                      0                    0   \n4                                      0                    0   \n\n   The COVID-19 risk group   Other groups of citizens   Disabled workers  \\\n0                        0                          0                  0   \n1                        0                          0                  0   \n2                        0                          0                  0   \n3                        0                          0                  0   \n4                        0                          0                  0   \n\n   Youth (18-25) in employment   Female workers  Contractors of a company  \n0                            0                0                         0  \n1                            0                0                         0  \n2                            0                0                         0  \n3                            0                0                         0  \n4                            0                0                         0  \n\n[5 rows x 74 columns]",
      "text/html": "<div>\n<style scoped>\n    .dataframe tbody tr th:only-of-type {\n        vertical-align: middle;\n    }\n\n    .dataframe tbody tr th {\n        vertical-align: top;\n    }\n\n    .dataframe thead th {\n        text-align: right;\n    }\n</style>\n<table border=\"1\" class=\"dataframe\">\n  <thead>\n    <tr style=\"text-align: right;\">\n      <th></th>\n      <th>Concatinated Data (clean)</th>\n      <th>Category</th>\n      <th>Type of measure</th>\n      <th>Target groups</th>\n      <th>One person or microenterprises</th>\n      <th>Self-employed</th>\n      <th>Solo-self-employed</th>\n      <th>SMEs</th>\n      <th>Sector specific set of companies</th>\n      <th>SMEs</th>\n      <th>...</th>\n      <th>Youth (18-25) in employment</th>\n      <th>Workers in care facilities</th>\n      <th>Older people in employment (aged 55+)</th>\n      <th>Undeclared workers</th>\n      <th>The COVID-19 risk group</th>\n      <th>Other groups of citizens</th>\n      <th>Disabled workers</th>\n      <th>Youth (18-25) in employment</th>\n      <th>Female workers</th>\n      <th>Contractors of a company</th>\n    </tr>\n  </thead>\n  <tbody>\n    <tr>\n      <th>0</th>\n      <td>[hardship, case, fund, safety, net, selfemploy...</td>\n      <td>2</td>\n      <td>0</td>\n      <td>One person or microenterprises, Self-employed,...</td>\n      <td>1</td>\n      <td>1</td>\n      <td>1</td>\n      <td>0</td>\n      <td>0</td>\n      <td>0</td>\n      <td>...</td>\n      <td>0</td>\n      <td>0</td>\n      <td>0</td>\n      <td>0</td>\n      <td>0</td>\n      <td>0</td>\n      <td>0</td>\n      <td>0</td>\n      <td>0</td>\n      <td>0</td>\n    </tr>\n    <tr>\n      <th>1</th>\n      <td>[state, support, tourism, access, financeas, t...</td>\n      <td>0</td>\n      <td>0</td>\n      <td>SMEs, Sector specific set of companies</td>\n      <td>0</td>\n      <td>0</td>\n      <td>0</td>\n      <td>1</td>\n      <td>1</td>\n      <td>0</td>\n      <td>...</td>\n      <td>0</td>\n      <td>0</td>\n      <td>0</td>\n      <td>0</td>\n      <td>0</td>\n      <td>0</td>\n      <td>0</td>\n      <td>0</td>\n      <td>0</td>\n      <td>0</td>\n    </tr>\n    <tr>\n      <th>2</th>\n      <td>[bank, guarantees, smes, oneperson, enterprise...</td>\n      <td>0</td>\n      <td>0</td>\n      <td>One person or microenterprises, SMEs</td>\n      <td>1</td>\n      <td>0</td>\n      <td>0</td>\n      <td>0</td>\n      <td>0</td>\n      <td>1</td>\n      <td>...</td>\n      <td>0</td>\n      <td>0</td>\n      <td>0</td>\n      <td>0</td>\n      <td>0</td>\n      <td>0</td>\n      <td>0</td>\n      <td>0</td>\n      <td>0</td>\n      <td>0</td>\n    </tr>\n    <tr>\n      <th>3</th>\n      <td>[emergency, measures, relating, shorttime, wor...</td>\n      <td>6</td>\n      <td>0</td>\n      <td>Employees in standard employment, Other groups...</td>\n      <td>0</td>\n      <td>0</td>\n      <td>0</td>\n      <td>0</td>\n      <td>0</td>\n      <td>0</td>\n      <td>...</td>\n      <td>0</td>\n      <td>0</td>\n      <td>0</td>\n      <td>0</td>\n      <td>0</td>\n      <td>0</td>\n      <td>0</td>\n      <td>0</td>\n      <td>0</td>\n      <td>0</td>\n    </tr>\n    <tr>\n      <th>4</th>\n      <td>[airbus, agreement, making, unworked, hours, p...</td>\n      <td>3</td>\n      <td>2</td>\n      <td>Employees in standard employment, Larger corpo...</td>\n      <td>0</td>\n      <td>0</td>\n      <td>0</td>\n      <td>0</td>\n      <td>0</td>\n      <td>0</td>\n      <td>...</td>\n      <td>0</td>\n      <td>0</td>\n      <td>0</td>\n      <td>0</td>\n      <td>0</td>\n      <td>0</td>\n      <td>0</td>\n      <td>0</td>\n      <td>0</td>\n      <td>0</td>\n    </tr>\n  </tbody>\n</table>\n<p>5 rows × 74 columns</p>\n</div>"
     },
     "execution_count": 2,
     "metadata": {},
     "output_type": "execute_result"
    }
   ],
   "source": [
    "# read data\n",
    "df = pd.read_pickle(TABLE_PATH)\n",
    "df.head()"
   ],
   "metadata": {
    "collapsed": false,
    "pycharm": {
     "name": "#%%\n"
    }
   }
  },
  {
   "cell_type": "code",
   "execution_count": 14,
   "outputs": [],
   "source": [
    "# Idependent data\n",
    "columns = df['Concatinated Data (clean)']\n",
    "# Label data\n",
    "target_groups = df[df.columns[4:]]"
   ],
   "metadata": {
    "collapsed": false,
    "pycharm": {
     "name": "#%%\n"
    }
   }
  },
  {
   "cell_type": "code",
   "execution_count": 8,
   "outputs": [],
   "source": [
    "# Insert our data and set minimal word count to 10, and size of each word to 300 vectors\n",
    "model = Word2Vec.load('/home/jovyan/work/Dan/data/pwdb/word2vec/df.model')\n",
    "w2v_dict = {w: vec for w, vec in zip(model.wv.index2word, model.wv.syn0)}\n"
   ],
   "metadata": {
    "collapsed": false,
    "pycharm": {
     "name": "#%%\n"
    }
   }
  },
  {
   "cell_type": "code",
   "execution_count": 9,
   "outputs": [],
   "source": [
    "class MeanEmbeddingVectorizer(object):\n",
    "    \"\"\"Calculate the mean of each word\"\"\"\n",
    "    def __init__(self, word2vec):\n",
    "        self.word2vec = word2vec\n",
    "        if len(word2vec)>0:\n",
    "            self.dim=len(word2vec[next(iter(w2v_dict))])\n",
    "        else:\n",
    "            self.dim=0\n",
    "\n",
    "    def fit(self, X, y):\n",
    "        return self\n",
    "\n",
    "    def transform(self, X):\n",
    "        return np.array([\n",
    "            np.mean([self.word2vec[w] for w in words if w in self.word2vec]\n",
    "                    or [np.zeros(self.dim)], axis=0) for words in X]\n",
    "        )"
   ],
   "metadata": {
    "collapsed": false,
    "pycharm": {
     "name": "#%%\n"
    }
   }
  },
  {
   "cell_type": "code",
   "execution_count": 12,
   "outputs": [],
   "source": [
    "# Use pipes to implement steps of fit and transform method\n",
    "knn_w2v = Pipeline([\n",
    "    # Add the words we want to mean\n",
    "    (\"word2vec vectorizer\", MeanEmbeddingVectorizer(w2v_dict)),\n",
    "    # Use SVC algorithm\n",
    "    (\"KNN\", KNC())])"
   ],
   "metadata": {
    "collapsed": false,
    "pycharm": {
     "name": "#%%\n"
    }
   }
  },
  {
   "cell_type": "code",
   "execution_count": 15,
   "outputs": [],
   "source": [
    "X_train, X_test, y_train, y_test = train_test_split(\n",
    "    columns, target_groups, random_state=42, test_size=0.3, shuffle=True)"
   ],
   "metadata": {
    "collapsed": false,
    "pycharm": {
     "name": "#%%\n"
    }
   }
  },
  {
   "cell_type": "code",
   "execution_count": 19,
   "outputs": [
    {
     "data": {
      "text/plain": "Pipeline(steps=[('word2vec vectorizer',\n                 <__main__.MeanEmbeddingVectorizer object at 0x7fc104a06430>),\n                ('KNN', KNeighborsClassifier())])"
     },
     "execution_count": 19,
     "metadata": {},
     "output_type": "execute_result"
    }
   ],
   "source": [
    "knn_w2v.fit(X_train, y_train)\n"
   ],
   "metadata": {
    "collapsed": false,
    "pycharm": {
     "name": "#%%\n"
    }
   }
  },
  {
   "cell_type": "code",
   "execution_count": 21,
   "outputs": [
    {
     "data": {
      "text/plain": "array([[0, 0, 0, ..., 0, 0, 0],\n       [0, 0, 0, ..., 0, 0, 0],\n       [1, 0, 0, ..., 0, 0, 0],\n       ...,\n       [0, 0, 0, ..., 0, 0, 0],\n       [1, 0, 0, ..., 0, 0, 0],\n       [0, 0, 0, ..., 0, 0, 0]])"
     },
     "execution_count": 21,
     "metadata": {},
     "output_type": "execute_result"
    }
   ],
   "source": [
    "prediction = knn_w2v.predict(X_test)\n",
    "prediction"
   ],
   "metadata": {
    "collapsed": false,
    "pycharm": {
     "name": "#%%\n"
    }
   }
  },
  {
   "cell_type": "code",
   "execution_count": 22,
   "outputs": [],
   "source": [
    "class EvaluationMetrics:\n",
    "    def __init__(self, actual, prediction):\n",
    "        self.actual = actual\n",
    "        self.prediction = prediction\n",
    "\n",
    "    def confusion_matrix(self):\n",
    "        matrix = confusion_matrix(self.actual, self.prediction)\n",
    "        return matrix\n",
    "\n",
    "    def evaluation(self, column):\n",
    "        accuracy = accuracy_score(self.actual, self.prediction)\n",
    "        precision = precision_score(self.actual, self.prediction, average=\"macro\")\n",
    "        recall = recall_score(self.actual, self.prediction, average=\"macro\")\n",
    "        f1 = f1_score(self.actual, self.prediction, average=\"macro\")\n",
    "        mae = mean_absolute_error(self.actual, self.prediction)\n",
    "        mse = mean_squared_error(self.actual, self.prediction)\n",
    "\n",
    "        evaluate_metrics = pd.DataFrame({'Evaluation Metrics': ['Accuracy', 'Precission', 'Recall',\n",
    "                                                                'F1 Score', 'Mean Absolute Error',\n",
    "                                                                'Mean Squared Error'],\n",
    "                                         column: [accuracy, precision, recall, f1, mae, mse]})\n",
    "\n",
    "        return evaluate_metrics"
   ],
   "metadata": {
    "collapsed": false,
    "pycharm": {
     "name": "#%%\n"
    }
   }
  },
  {
   "cell_type": "code",
   "execution_count": 25,
   "outputs": [
    {
     "data": {
      "text/plain": "    Evaluation Metrics  Target groups\n0             Accuracy       0.067616\n1           Precission       0.031674\n2               Recall       0.009911\n3             F1 Score       0.013355\n4  Mean Absolute Error       0.023081\n5   Mean Squared Error       0.023081",
      "text/html": "<div>\n<style scoped>\n    .dataframe tbody tr th:only-of-type {\n        vertical-align: middle;\n    }\n\n    .dataframe tbody tr th {\n        vertical-align: top;\n    }\n\n    .dataframe thead th {\n        text-align: right;\n    }\n</style>\n<table border=\"1\" class=\"dataframe\">\n  <thead>\n    <tr style=\"text-align: right;\">\n      <th></th>\n      <th>Evaluation Metrics</th>\n      <th>Target groups</th>\n    </tr>\n  </thead>\n  <tbody>\n    <tr>\n      <th>0</th>\n      <td>Accuracy</td>\n      <td>0.067616</td>\n    </tr>\n    <tr>\n      <th>1</th>\n      <td>Precission</td>\n      <td>0.031674</td>\n    </tr>\n    <tr>\n      <th>2</th>\n      <td>Recall</td>\n      <td>0.009911</td>\n    </tr>\n    <tr>\n      <th>3</th>\n      <td>F1 Score</td>\n      <td>0.013355</td>\n    </tr>\n    <tr>\n      <th>4</th>\n      <td>Mean Absolute Error</td>\n      <td>0.023081</td>\n    </tr>\n    <tr>\n      <th>5</th>\n      <td>Mean Squared Error</td>\n      <td>0.023081</td>\n    </tr>\n  </tbody>\n</table>\n</div>"
     },
     "execution_count": 25,
     "metadata": {},
     "output_type": "execute_result"
    }
   ],
   "source": [
    "evaluate = EvaluationMetrics(y_test, prediction)\n",
    "evaluate.evaluation(\"Target groups\")"
   ],
   "metadata": {
    "collapsed": false,
    "pycharm": {
     "name": "#%%\n"
    }
   }
  },
  {
   "cell_type": "code",
   "execution_count": null,
   "outputs": [],
   "source": [],
   "metadata": {
    "collapsed": false,
    "pycharm": {
     "name": "#%%\n"
    }
   }
  }
 ],
 "metadata": {
  "kernelspec": {
   "display_name": "Python 3",
   "language": "python",
   "name": "python3"
  },
  "language_info": {
   "codemirror_mode": {
    "name": "ipython",
    "version": 2
   },
   "file_extension": ".py",
   "mimetype": "text/x-python",
   "name": "python",
   "nbconvert_exporter": "python",
   "pygments_lexer": "ipython2",
   "version": "2.7.6"
  }
 },
 "nbformat": 4,
 "nbformat_minor": 0
}