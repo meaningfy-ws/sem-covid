{
 "cells": [
  {
   "cell_type": "code",
   "metadata": {
    "collapsed": true,
    "pycharm": {
     "name": "#%%\n"
    }
   },
   "source": [
    "# Ignore warnings\n",
    "import warnings\n",
    "warnings.filterwarnings('ignore')\n",
    "\n",
    "# Reusable classes\n",
    "import sys\n",
    "sys.path.append(\"/home/jovyan/work/upload/ml-experiments/sc_wrangling\")\n",
    "\n",
    "# Data path\n",
    "import pathlib\n",
    "FOLDER = pathlib.Path(\"/home/jovyan/work/upload/\")\n",
    "TABLE_PATH = FOLDER / 'data/pickle/df_columns_labels.pkl'\n",
    "LAW2VEC_PATH = FOLDER / 'data/law2vec/Law2Vec.200d.txt'\n",
    "\n",
    "# Manage ML lifecycle\n",
    "import mlflow\n",
    "from mlflow import log_params, set_tags, log_metrics\n",
    "MLFLOW_TRACKING_URI = 'http://srv.meaningfy.ws:8989'\n",
    "\n",
    "# Math stuff\n",
    "import numpy as np\n",
    "\n",
    "# Data visualisation\n",
    "import pandas as pd\n",
    "\n",
    "# Vectorize algotrithm\n",
    "from gensim.models import Word2Vec, KeyedVectors\n",
    "\n",
    "# Support Vector Classifier Algorithm\n",
    "from sklearn.svm import SVC\n",
    "# :gamma: is a parameter for non linear hyperplanes. The higher the gamma\n",
    "#         value it tries to exactly fit the training data set.\n",
    "GAMMA = 1\n",
    "# :C: is the penalty parameter of the error term. It controls the trade\n",
    "#     off between smooth decision boundary and classifying the training points correctly.\n",
    "#     !!! Increasing C values may lead to overfitting the training data. !!!\n",
    "C = 5\n",
    "\n",
    "# Intermediate steps of the pipeline must be ‘transforms’,\n",
    "# that is, they must implement fit and transform methods.\n",
    "from sklearn.pipeline import Pipeline\n",
    "\n",
    "# Splitting data into train and test\n",
    "from sklearn.model_selection import train_test_split\n",
    "RANDOM_STATE = 42\n",
    "# Where \"train\" contains 70% of data and \"test\" - 30%\n",
    "TEST_SIZE = 0.3\n",
    "SHUFFLE = True\n",
    "\n",
    "# Mean embedding function\n",
    "from mean_vectorizer import MeanEmbeddingVectorizer\n",
    "\n",
    "# Metrics Evaluation Methods\n",
    "from evaluation_metrics import model_evaluation_metrics\n",
    "\n",
    "# Transform DataFrame to dictionary\n",
    "from dictionary_transformation import series_pair_to_dict"
   ],
   "execution_count": 1,
   "outputs": []
  },
  {
   "cell_type": "code",
   "source": [
    "# Read data\n",
    "df = pd.read_pickle(TABLE_PATH)\n",
    "# Independent data\n",
    "columns = df['Concatenated Data (clean)']\n",
    "# Label data\n",
    "category = df['Category']"
   ],
   "metadata": {
    "collapsed": false,
    "pycharm": {
     "name": "#%%\n"
    }
   },
   "execution_count": 2,
   "outputs": []
  },
  {
   "cell_type": "markdown",
   "source": [
    "## law2vec model"
   ],
   "metadata": {
    "collapsed": false,
    "pycharm": {
     "name": "#%% md\n"
    }
   }
  },
  {
   "cell_type": "code",
   "source": [
    "# Load a word2vec model stored in the C *text* format.\n",
    "model = KeyedVectors.load_word2vec_format(LAW2VEC_PATH, binary=False)\n",
    "l2v_dict = {w: vec for w, vec in zip(model.wv.index2word, model.wv.syn0)}\n"
   ],
   "metadata": {
    "collapsed": false,
    "pycharm": {
     "name": "#%%\n"
    }
   },
   "execution_count": 3,
   "outputs": []
  },
  {
   "cell_type": "code",
   "execution_count": 4,
   "outputs": [],
   "source": [
    "# Use pipes to implement steps of fit and transform method\n",
    "svm_l2v = Pipeline([\n",
    "    # Add the words we want to mean\n",
    "    (\"law2vec vectorizer\", MeanEmbeddingVectorizer(l2v_dict)),\n",
    "    # Use SVC algorithm\n",
    "    (\"SVM\", SVC(gamma=GAMMA, C=C))])"
   ],
   "metadata": {
    "collapsed": false,
    "pycharm": {
     "name": "#%%\n"
    }
   }
  },
  {
   "cell_type": "markdown",
   "source": [
    "## Train SVM Model"
   ],
   "metadata": {
    "collapsed": false,
    "pycharm": {
     "name": "#%% md\n"
    }
   }
  },
  {
   "cell_type": "code",
   "source": [
    "# split data into test and train sets\n",
    "# where \"train\" contains 70% of data and \"test\" - 30%\n",
    "X_train, X_test, y_train, y_test = train_test_split(\n",
    "    columns, category, random_state=RANDOM_STATE, test_size=TEST_SIZE, shuffle=SHUFFLE)\n"
   ],
   "metadata": {
    "collapsed": false,
    "pycharm": {
     "name": "#%%\n"
    }
   },
   "execution_count": 5,
   "outputs": []
  },
  {
   "cell_type": "code",
   "execution_count": 6,
   "outputs": [
    {
     "data": {
      "text/plain": "Pipeline(steps=[('law2vec vectorizer',\n                 <mean_vectorizer.MeanEmbeddingVectorizer object at 0x7f9a70362370>),\n                ('SVM', SVC(C=5, gamma=1))])"
     },
     "execution_count": 6,
     "metadata": {},
     "output_type": "execute_result"
    }
   ],
   "source": [
    "# Fit SVM model with out train data\n",
    "svm_l2v.fit(X_train, y_train)"
   ],
   "metadata": {
    "collapsed": false,
    "pycharm": {
     "name": "#%%\n"
    }
   }
  },
  {
   "cell_type": "code",
   "execution_count": 7,
   "outputs": [
    {
     "data": {
      "text/plain": "0.9740061162079511"
     },
     "execution_count": 7,
     "metadata": {},
     "output_type": "execute_result"
    }
   ],
   "source": [
    "# Model Evaluation\n",
    "svm_l2v.score(X_train, y_train)"
   ],
   "metadata": {
    "collapsed": false,
    "pycharm": {
     "name": "#%%\n"
    }
   }
  },
  {
   "cell_type": "code",
   "execution_count": 8,
   "outputs": [
    {
     "data": {
      "text/plain": "array([0, 8, 0, 4, 3, 0, 0, 0, 0, 2, 0, 2, 0, 0, 0, 4, 7, 3, 0, 0, 6, 0,\n       0, 0, 2, 7, 0, 4, 2, 3, 7, 6, 6, 0, 0, 3, 4, 7, 4, 0, 5, 7, 5, 5,\n       6, 4, 3, 3, 7, 3, 5, 5, 6, 5, 2, 6, 0, 6, 2, 0, 4, 4, 0, 4, 0, 0,\n       7, 6, 3, 0, 4, 0, 0, 0, 3, 0, 2, 6, 2, 3, 7, 2, 0, 0, 0, 0, 0, 0,\n       6, 0, 4, 0, 0, 6, 3, 4, 0, 0, 0, 0, 4, 0, 6, 4, 6, 0, 0, 3, 0, 4,\n       4, 0, 0, 0, 6, 2, 4, 3, 0, 0, 0, 6, 0, 2, 5, 5, 6, 0, 6, 3, 0, 0,\n       0, 0, 0, 4, 0, 0, 4, 0, 5, 3, 5, 3, 4, 7, 7, 0, 2, 3, 0, 2, 3, 2,\n       2, 4, 0, 0, 5, 0, 0, 3, 6, 6, 2, 0, 3, 0, 2, 0, 4, 5, 3, 2, 3, 0,\n       0, 0, 6, 0, 0, 5, 6, 0, 0, 0, 0, 9, 4, 0, 0, 5, 2, 7, 5, 5, 2, 0,\n       8, 3, 3, 2, 0, 6, 7, 6, 5, 2, 0, 5, 6, 0, 0, 3, 0, 0, 0, 7, 2, 0,\n       0, 7, 3, 3, 3, 0, 4, 4, 6, 6, 2, 0, 5, 0, 6, 9, 0, 5, 3, 0, 0, 2,\n       5, 3, 0, 0, 2, 0, 2, 0, 0, 6, 3, 6, 5, 5, 3, 8, 4, 4, 2, 4, 4, 3,\n       3, 0, 7, 0, 0, 6, 7, 2, 3, 5, 2, 2, 0, 2, 0, 0, 4])"
     },
     "execution_count": 8,
     "metadata": {},
     "output_type": "execute_result"
    }
   ],
   "source": [
    "# SVM prediction based on test data\n",
    "prediction = svm_l2v.predict(X_test)\n",
    "prediction"
   ],
   "metadata": {
    "collapsed": false,
    "pycharm": {
     "name": "#%%\n"
    }
   }
  },
  {
   "cell_type": "markdown",
   "source": [
    "## Evaluation"
   ],
   "metadata": {
    "collapsed": false,
    "pycharm": {
     "name": "#%% md\n"
    }
   }
  },
  {
   "cell_type": "code",
   "source": [
    "evaluation = model_evaluation_metrics(y_test, prediction)\n",
    "evaluation"
   ],
   "metadata": {
    "collapsed": false,
    "pycharm": {
     "name": "#%%\n"
    }
   },
   "execution_count": 10,
   "outputs": [
    {
     "data": {
      "text/plain": "         Metric Labels  Metric values\n0             Accuracy       0.683274\n1            Precision       0.705795\n2               Recall       0.572693\n3             F1-Score       0.598628\n4  Mean Absolute Error       1.220641\n5   Mean Squared Error       5.960854",
      "text/html": "<div>\n<style scoped>\n    .dataframe tbody tr th:only-of-type {\n        vertical-align: middle;\n    }\n\n    .dataframe tbody tr th {\n        vertical-align: top;\n    }\n\n    .dataframe thead th {\n        text-align: right;\n    }\n</style>\n<table border=\"1\" class=\"dataframe\">\n  <thead>\n    <tr style=\"text-align: right;\">\n      <th></th>\n      <th>Metric Labels</th>\n      <th>Metric values</th>\n    </tr>\n  </thead>\n  <tbody>\n    <tr>\n      <th>0</th>\n      <td>Accuracy</td>\n      <td>0.683274</td>\n    </tr>\n    <tr>\n      <th>1</th>\n      <td>Precision</td>\n      <td>0.705795</td>\n    </tr>\n    <tr>\n      <th>2</th>\n      <td>Recall</td>\n      <td>0.572693</td>\n    </tr>\n    <tr>\n      <th>3</th>\n      <td>F1-Score</td>\n      <td>0.598628</td>\n    </tr>\n    <tr>\n      <th>4</th>\n      <td>Mean Absolute Error</td>\n      <td>1.220641</td>\n    </tr>\n    <tr>\n      <th>5</th>\n      <td>Mean Squared Error</td>\n      <td>5.960854</td>\n    </tr>\n  </tbody>\n</table>\n</div>"
     },
     "execution_count": 10,
     "metadata": {},
     "output_type": "execute_result"
    }
   ]
  },
  {
   "cell_type": "code",
   "execution_count": 11,
   "outputs": [
    {
     "data": {
      "text/plain": "{'Accuracy': 0.6832740213523132,\n 'Precision': 0.7057946216203097,\n 'Recall': 0.5726933026721079,\n 'F1-Score': 0.5986282879345141,\n 'Mean Absolute Error': 1.2206405693950177,\n 'Mean Squared Error': 5.960854092526691}"
     },
     "execution_count": 11,
     "metadata": {},
     "output_type": "execute_result"
    }
   ],
   "source": [
    "# Transform columns data to dict to use in MLFlow\n",
    "transformation = series_pair_to_dict(evaluation, 'Metric Labels', 'Metric values')\n",
    "transformation"
   ],
   "metadata": {
    "collapsed": false,
    "pycharm": {
     "name": "#%%\n"
    }
   }
  },
  {
   "cell_type": "code",
   "execution_count": 12,
   "outputs": [],
   "source": [
    "mlflow.set_tracking_uri(MLFLOW_TRACKING_URI)\n",
    "mlflow.set_experiment(experiment_name=\"Category (Law2Vec)\")\n",
    "\n",
    "with mlflow.start_run():\n",
    "\n",
    "    parameters = {\"Language model\": 'law2vec',\n",
    "                  \"Random state\": RANDOM_STATE,\n",
    "                  \"Test size\": TEST_SIZE,\n",
    "                  \"Shuffle\": SHUFFLE,\n",
    "                  \"Gamma\": GAMMA,\n",
    "                  \"C\": C}\n",
    "    log_params(parameters)\n",
    "\n",
    "    log_metrics(transformation)"
   ],
   "metadata": {
    "collapsed": false,
    "pycharm": {
     "name": "#%%\n"
    }
   }
  }
 ],
 "metadata": {
  "kernelspec": {
   "display_name": "Python 3",
   "language": "python",
   "name": "python3"
  },
  "language_info": {
   "codemirror_mode": {
    "name": "ipython",
    "version": 2
   },
   "file_extension": ".py",
   "mimetype": "text/x-python",
   "name": "python",
   "nbconvert_exporter": "python",
   "pygments_lexer": "ipython2",
   "version": "2.7.6"
  }
 },
 "nbformat": 4,
 "nbformat_minor": 0
}