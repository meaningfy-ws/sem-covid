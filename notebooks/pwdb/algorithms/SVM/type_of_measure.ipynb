{
 "cells": [
  {
   "cell_type": "code",
   "execution_count": 24,
   "metadata": {
    "collapsed": true
   },
   "outputs": [],
   "source": [
    "# Ignore warnings\n",
    "import warnings\n",
    "warnings.filterwarnings('ignore')\n",
    "\n",
    "# Reusable classes\n",
    "import sys\n",
    "sys.path.append(\"/home/jovyan/work/Dan/upload/src/\")\n",
    "\n",
    "# Data path\n",
    "import pathlib\n",
    "DATA_FOLDER = pathlib.Path(\"/home/jovyan/work/Dan/data\")\n",
    "TABLE_PATH = DATA_FOLDER / 'pwdb/pickle/df_columns_labels.pkl'\n",
    "\n",
    "# Math stuff\n",
    "import numpy as np\n",
    "from numpy.core.records import ndarray\n",
    "\n",
    "# Data visualisation\n",
    "import pandas as pd\n",
    "from pandas import Series\n",
    "\n",
    "# Vectorize algotrithm\n",
    "from gensim.models import Word2Vec\n",
    "\n",
    "# Support Vector Classifier Algorithm\n",
    "from sklearn.svm import SVC\n",
    "\n",
    "# Intermediate steps of the pipeline must be ‘transforms’,\n",
    "# that is, they must implement fit and transform methods.\n",
    "from sklearn.pipeline import Pipeline\n",
    "\n",
    "# Splitting data into train and test\n",
    "from sklearn.model_selection import train_test_split\n",
    "\n",
    "# Metrics Evaluation Methods\n",
    "from evaluation_metrics import model_evaluation_metrics"
   ]
  },
  {
   "cell_type": "code",
   "execution_count": 25,
   "outputs": [
    {
     "data": {
      "text/plain": "                           Concatenated Data (clean)  Category  \\\n0  [hardship, case, fund, safety, net, selfemploy...         2   \n1  [state, support, tourism, access, financeas, t...         0   \n2  [bank, guarantees, smes, oneperson, enterprise...         0   \n3  [emergency, measures, relating, shorttime, wor...         6   \n4  [airbus, agreement, making, unworked, hours, p...         3   \n\n   Type of measure                                      Target groups  \\\n0                0  One person or microenterprises|Self-employed|S...   \n1                0              SMEs|Sector specific set of companies   \n2                0                One person or microenterprises|SMEs   \n3                0  Employees in standard employment|Other groups ...   \n4                2  Employees in standard employment|Larger corpor...   \n\n   One person or microenterprises|Self-employed|Solo-self-employed  \\\n0                                                  1                 \n1                                                  0                 \n2                                                  0                 \n3                                                  0                 \n4                                                  0                 \n\n   SMEs|Sector specific set of companies  One person or microenterprises|SMEs  \\\n0                                      0                                    0   \n1                                      1                                    0   \n2                                      0                                    1   \n3                                      0                                    0   \n4                                      0                                    0   \n\n   Employees in standard employment|Other groups of workers  \\\n0                                                  0          \n1                                                  0          \n2                                                  0          \n3                                                  1          \n4                                                  0          \n\n   Employees in standard employment|Larger corporations  \\\n0                                                  0      \n1                                                  0      \n2                                                  0      \n3                                                  0      \n4                                                  1      \n\n   Employees in standard employment  ...  \\\n0                                 0  ...   \n1                                 0  ...   \n2                                 0  ...   \n3                                 0  ...   \n4                                 0  ...   \n\n   Companies providing essential services|Employees in standard employment|Workers in essential services  \\\n0                                                  0                                                       \n1                                                  0                                                       \n2                                                  0                                                       \n3                                                  0                                                       \n4                                                  0                                                       \n\n   Employees in standard employment|One person or microenterprises|SMEs  \\\n0                                                  0                      \n1                                                  0                      \n2                                                  0                      \n3                                                  0                      \n4                                                  0                      \n\n   Employees in standard employment|Larger corporations|Other businesses  \\\n0                                                  0                       \n1                                                  0                       \n2                                                  0                       \n3                                                  0                       \n4                                                  0                       \n\n   Children (minors)|Disabled|Older citizens|Parents|SMEs|Single parents|Single parents in employment|The COVID-19 risk group|Workers in care facilities|Workers in essential services  \\\n0                                                  0                                                                                                                                     \n1                                                  0                                                                                                                                     \n2                                                  0                                                                                                                                     \n3                                                  0                                                                                                                                     \n4                                                  0                                                                                                                                     \n\n   Employees in standard employment|Workers in care facilities|Workers in non-standard forms of employment  \\\n0                                                  0                                                         \n1                                                  0                                                         \n2                                                  0                                                         \n3                                                  0                                                         \n4                                                  0                                                         \n\n   Companies providing essential services|Workers in essential services  \\\n0                                                  0                      \n1                                                  0                      \n2                                                  0                      \n3                                                  0                      \n4                                                  0                      \n\n   Contractors of a company  Other businesses|Unemployed  \\\n0                         0                            0   \n1                         0                            0   \n2                         0                            0   \n3                         0                            0   \n4                         0                            0   \n\n   Seasonal workers|Workers in non-standard forms of employment  \\\n0                                                  0              \n1                                                  0              \n2                                                  0              \n3                                                  0              \n4                                                  0              \n\n   Employees in standard employment|Particular professions  \n0                                                  0        \n1                                                  0        \n2                                                  0        \n3                                                  0        \n4                                                  0        \n\n[5 rows x 207 columns]",
      "text/html": "<div>\n<style scoped>\n    .dataframe tbody tr th:only-of-type {\n        vertical-align: middle;\n    }\n\n    .dataframe tbody tr th {\n        vertical-align: top;\n    }\n\n    .dataframe thead th {\n        text-align: right;\n    }\n</style>\n<table border=\"1\" class=\"dataframe\">\n  <thead>\n    <tr style=\"text-align: right;\">\n      <th></th>\n      <th>Concatenated Data (clean)</th>\n      <th>Category</th>\n      <th>Type of measure</th>\n      <th>Target groups</th>\n      <th>One person or microenterprises|Self-employed|Solo-self-employed</th>\n      <th>SMEs|Sector specific set of companies</th>\n      <th>One person or microenterprises|SMEs</th>\n      <th>Employees in standard employment|Other groups of workers</th>\n      <th>Employees in standard employment|Larger corporations</th>\n      <th>Employees in standard employment</th>\n      <th>...</th>\n      <th>Companies providing essential services|Employees in standard employment|Workers in essential services</th>\n      <th>Employees in standard employment|One person or microenterprises|SMEs</th>\n      <th>Employees in standard employment|Larger corporations|Other businesses</th>\n      <th>Children (minors)|Disabled|Older citizens|Parents|SMEs|Single parents|Single parents in employment|The COVID-19 risk group|Workers in care facilities|Workers in essential services</th>\n      <th>Employees in standard employment|Workers in care facilities|Workers in non-standard forms of employment</th>\n      <th>Companies providing essential services|Workers in essential services</th>\n      <th>Contractors of a company</th>\n      <th>Other businesses|Unemployed</th>\n      <th>Seasonal workers|Workers in non-standard forms of employment</th>\n      <th>Employees in standard employment|Particular professions</th>\n    </tr>\n  </thead>\n  <tbody>\n    <tr>\n      <th>0</th>\n      <td>[hardship, case, fund, safety, net, selfemploy...</td>\n      <td>2</td>\n      <td>0</td>\n      <td>One person or microenterprises|Self-employed|S...</td>\n      <td>1</td>\n      <td>0</td>\n      <td>0</td>\n      <td>0</td>\n      <td>0</td>\n      <td>0</td>\n      <td>...</td>\n      <td>0</td>\n      <td>0</td>\n      <td>0</td>\n      <td>0</td>\n      <td>0</td>\n      <td>0</td>\n      <td>0</td>\n      <td>0</td>\n      <td>0</td>\n      <td>0</td>\n    </tr>\n    <tr>\n      <th>1</th>\n      <td>[state, support, tourism, access, financeas, t...</td>\n      <td>0</td>\n      <td>0</td>\n      <td>SMEs|Sector specific set of companies</td>\n      <td>0</td>\n      <td>1</td>\n      <td>0</td>\n      <td>0</td>\n      <td>0</td>\n      <td>0</td>\n      <td>...</td>\n      <td>0</td>\n      <td>0</td>\n      <td>0</td>\n      <td>0</td>\n      <td>0</td>\n      <td>0</td>\n      <td>0</td>\n      <td>0</td>\n      <td>0</td>\n      <td>0</td>\n    </tr>\n    <tr>\n      <th>2</th>\n      <td>[bank, guarantees, smes, oneperson, enterprise...</td>\n      <td>0</td>\n      <td>0</td>\n      <td>One person or microenterprises|SMEs</td>\n      <td>0</td>\n      <td>0</td>\n      <td>1</td>\n      <td>0</td>\n      <td>0</td>\n      <td>0</td>\n      <td>...</td>\n      <td>0</td>\n      <td>0</td>\n      <td>0</td>\n      <td>0</td>\n      <td>0</td>\n      <td>0</td>\n      <td>0</td>\n      <td>0</td>\n      <td>0</td>\n      <td>0</td>\n    </tr>\n    <tr>\n      <th>3</th>\n      <td>[emergency, measures, relating, shorttime, wor...</td>\n      <td>6</td>\n      <td>0</td>\n      <td>Employees in standard employment|Other groups ...</td>\n      <td>0</td>\n      <td>0</td>\n      <td>0</td>\n      <td>1</td>\n      <td>0</td>\n      <td>0</td>\n      <td>...</td>\n      <td>0</td>\n      <td>0</td>\n      <td>0</td>\n      <td>0</td>\n      <td>0</td>\n      <td>0</td>\n      <td>0</td>\n      <td>0</td>\n      <td>0</td>\n      <td>0</td>\n    </tr>\n    <tr>\n      <th>4</th>\n      <td>[airbus, agreement, making, unworked, hours, p...</td>\n      <td>3</td>\n      <td>2</td>\n      <td>Employees in standard employment|Larger corpor...</td>\n      <td>0</td>\n      <td>0</td>\n      <td>0</td>\n      <td>0</td>\n      <td>1</td>\n      <td>0</td>\n      <td>...</td>\n      <td>0</td>\n      <td>0</td>\n      <td>0</td>\n      <td>0</td>\n      <td>0</td>\n      <td>0</td>\n      <td>0</td>\n      <td>0</td>\n      <td>0</td>\n      <td>0</td>\n    </tr>\n  </tbody>\n</table>\n<p>5 rows × 207 columns</p>\n</div>"
     },
     "execution_count": 25,
     "metadata": {},
     "output_type": "execute_result"
    }
   ],
   "source": [
    "# Read data\n",
    "df = pd.read_pickle(TABLE_PATH)\n",
    "df.head()"
   ],
   "metadata": {
    "collapsed": false,
    "pycharm": {
     "name": "#%%\n"
    }
   }
  },
  {
   "cell_type": "code",
   "execution_count": 27,
   "outputs": [],
   "source": [
    "# Independent data\n",
    "columns = df['Concatenated Data (clean)']\n",
    "# Label data\n",
    "category = df['Type of measure']"
   ],
   "metadata": {
    "collapsed": false,
    "pycharm": {
     "name": "#%%\n"
    }
   }
  },
  {
   "cell_type": "markdown",
   "source": [
    "## word2vec model"
   ],
   "metadata": {
    "collapsed": false,
    "pycharm": {
     "name": "#%% md\n"
    }
   }
  },
  {
   "cell_type": "code",
   "execution_count": 28,
   "outputs": [],
   "source": [
    "# Insert our data and set minimal word count to 10, and size of each word to 300 vectors\n",
    "model = Word2Vec.load('/home/jovyan/work/Dan/data/pwdb/word2vec/df.model')\n",
    "w2v_dict = {w: vec for w, vec in zip(model.wv.index2word, model.wv.syn0)}"
   ],
   "metadata": {
    "collapsed": false,
    "pycharm": {
     "name": "#%%\n"
    }
   }
  },
  {
   "cell_type": "code",
   "execution_count": 29,
   "outputs": [],
   "source": [
    "class MeanEmbeddingVectorizer(object):\n",
    "    \"\"\"Calculate the mean of each word\"\"\"\n",
    "    def __init__(self, word2vec):\n",
    "        self.word2vec = word2vec\n",
    "        if len(word2vec)>0:\n",
    "            self.dim=len(word2vec[next(iter(w2v_dict))])\n",
    "        else:\n",
    "            self.dim=0\n",
    "\n",
    "    def fit(self, X, y):\n",
    "        return self\n",
    "\n",
    "    def transform(self, X):\n",
    "        return np.array([\n",
    "            np.mean([self.word2vec[w] for w in words if w in self.word2vec]\n",
    "                    or [np.zeros(self.dim)], axis=0) for words in X]\n",
    "        )\n"
   ],
   "metadata": {
    "collapsed": false,
    "pycharm": {
     "name": "#%%\n"
    }
   }
  },
  {
   "cell_type": "code",
   "execution_count": 30,
   "outputs": [],
   "source": [
    "# Use pipes to implement steps of fit and transform method\n",
    "svm_w2v = Pipeline([\n",
    "    # Add the words we want to mean\n",
    "    (\"word2vec vectorizer\", MeanEmbeddingVectorizer(w2v_dict)),\n",
    "    # Use SVC algorithm\n",
    "    (\"SVM\", SVC())])"
   ],
   "metadata": {
    "collapsed": false,
    "pycharm": {
     "name": "#%%\n"
    }
   }
  },
  {
   "cell_type": "markdown",
   "source": [
    "## Train SVM Model"
   ],
   "metadata": {
    "collapsed": false,
    "pycharm": {
     "name": "#%% md\n"
    }
   }
  },
  {
   "cell_type": "code",
   "execution_count": 31,
   "outputs": [],
   "source": [
    "# Split data into test and train sets\n",
    "# Where \"train\" contains 70% of data and \"test\" - 30%\n",
    "X_train, X_test, y_train, y_test = train_test_split(\n",
    "    columns, category, random_state=42, test_size=0.3, shuffle=True)"
   ],
   "metadata": {
    "collapsed": false,
    "pycharm": {
     "name": "#%%\n"
    }
   }
  },
  {
   "cell_type": "code",
   "execution_count": 32,
   "outputs": [
    {
     "data": {
      "text/plain": "Pipeline(steps=[('word2vec vectorizer',\n                 <__main__.MeanEmbeddingVectorizer object at 0x7fd05c382970>),\n                ('SVM', SVC())])"
     },
     "execution_count": 32,
     "metadata": {},
     "output_type": "execute_result"
    }
   ],
   "source": [
    "# Fit SVM model with out train data\n",
    "svm_w2v.fit(X_train, y_train)"
   ],
   "metadata": {
    "collapsed": false,
    "pycharm": {
     "name": "#%%\n"
    }
   }
  },
  {
   "cell_type": "code",
   "execution_count": 34,
   "outputs": [
    {
     "data": {
      "text/plain": "array([0, 0, 0, 0, 0, 0, 0, 0, 0, 0, 0, 0, 0, 0, 0, 0, 0, 0, 0, 0, 0, 0,\n       0, 0, 0, 0, 0, 0, 0, 0, 0, 0, 0, 0, 0, 0, 0, 0, 0, 0, 0, 0, 0, 0,\n       0, 0, 0, 0, 0, 0, 0, 0, 0, 0, 0, 0, 0, 0, 0, 0, 0, 0, 0, 0, 0, 0,\n       0, 0, 0, 0, 0, 0, 0, 0, 0, 0, 0, 0, 0, 0, 0, 0, 0, 0, 0, 0, 0, 0,\n       0, 0, 0, 0, 0, 0, 0, 0, 0, 0, 0, 0, 0, 0, 0, 0, 0, 0, 0, 0, 0, 0,\n       0, 0, 0, 0, 0, 0, 0, 0, 0, 0, 0, 0, 0, 0, 0, 0, 0, 0, 0, 0, 0, 0,\n       0, 0, 0, 0, 0, 0, 0, 0, 0, 0, 0, 0, 0, 0, 0, 0, 0, 0, 0, 0, 0, 0,\n       0, 0, 0, 0, 0, 0, 0, 0, 0, 0, 0, 0, 0, 0, 0, 0, 0, 0, 0, 0, 0, 0,\n       0, 0, 0, 0, 0, 0, 0, 0, 0, 0, 0, 0, 0, 0, 0, 0, 0, 0, 0, 0, 0, 0,\n       0, 0, 0, 0, 0, 0, 0, 0, 0, 0, 0, 0, 0, 0, 0, 0, 0, 0, 0, 0, 0, 0,\n       0, 0, 0, 0, 0, 0, 0, 0, 0, 0, 0, 0, 0, 0, 0, 0, 0, 0, 0, 0, 0, 0,\n       0, 0, 0, 0, 0, 0, 0, 0, 0, 0, 0, 0, 0, 0, 0, 0, 0, 0, 0, 0, 0, 0,\n       0, 0, 0, 0, 0, 0, 0, 0, 0, 0, 0, 0, 0, 0, 0, 0, 0])"
     },
     "execution_count": 34,
     "metadata": {},
     "output_type": "execute_result"
    }
   ],
   "source": [
    "# SVM prediction based on test data\n",
    "prediction = svm_w2v.predict(X_test)\n",
    "prediction"
   ],
   "metadata": {
    "collapsed": false,
    "pycharm": {
     "name": "#%%\n"
    }
   }
  },
  {
   "cell_type": "markdown",
   "source": [
    "## Evaluation"
   ],
   "metadata": {
    "collapsed": false,
    "pycharm": {
     "name": "#%% md\n"
    }
   }
  },
  {
   "cell_type": "code",
   "execution_count": 35,
   "outputs": [
    {
     "data": {
      "text/plain": "    Evaluation Metrics  Type of measure\n0             Accuracy         0.715302\n1           Precission         0.119217\n2               Recall         0.166667\n3             F1 Score         0.139004\n4  Mean Absolute Error         0.608541\n5   Mean Squared Error         1.782918",
      "text/html": "<div>\n<style scoped>\n    .dataframe tbody tr th:only-of-type {\n        vertical-align: middle;\n    }\n\n    .dataframe tbody tr th {\n        vertical-align: top;\n    }\n\n    .dataframe thead th {\n        text-align: right;\n    }\n</style>\n<table border=\"1\" class=\"dataframe\">\n  <thead>\n    <tr style=\"text-align: right;\">\n      <th></th>\n      <th>Evaluation Metrics</th>\n      <th>Type of measure</th>\n    </tr>\n  </thead>\n  <tbody>\n    <tr>\n      <th>0</th>\n      <td>Accuracy</td>\n      <td>0.715302</td>\n    </tr>\n    <tr>\n      <th>1</th>\n      <td>Precission</td>\n      <td>0.119217</td>\n    </tr>\n    <tr>\n      <th>2</th>\n      <td>Recall</td>\n      <td>0.166667</td>\n    </tr>\n    <tr>\n      <th>3</th>\n      <td>F1 Score</td>\n      <td>0.139004</td>\n    </tr>\n    <tr>\n      <th>4</th>\n      <td>Mean Absolute Error</td>\n      <td>0.608541</td>\n    </tr>\n    <tr>\n      <th>5</th>\n      <td>Mean Squared Error</td>\n      <td>1.782918</td>\n    </tr>\n  </tbody>\n</table>\n</div>"
     },
     "execution_count": 35,
     "metadata": {},
     "output_type": "execute_result"
    }
   ],
   "source": [
    "# View evaluation metrics table\n",
    "model_evaluation_metrics(y_test, prediction, 'Type of measure')\n"
   ],
   "metadata": {
    "collapsed": false,
    "pycharm": {
     "name": "#%%\n"
    }
   }
  }
 ],
 "metadata": {
  "kernelspec": {
   "display_name": "Python 3",
   "language": "python",
   "name": "python3"
  },
  "language_info": {
   "codemirror_mode": {
    "name": "ipython",
    "version": 2
   },
   "file_extension": ".py",
   "mimetype": "text/x-python",
   "name": "python",
   "nbconvert_exporter": "python",
   "pygments_lexer": "ipython2",
   "version": "2.7.6"
  }
 },
 "nbformat": 4,
 "nbformat_minor": 0
}