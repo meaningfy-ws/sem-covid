{
 "cells": [
  {
   "cell_type": "markdown",
   "metadata": {
    "collapsed": true,
    "pycharm": {
     "name": "#%% md\n"
    }
   },
   "source": [
    "# EDA on categorical data"
   ]
  },
  {
   "cell_type": "code",
   "execution_count": null,
   "outputs": [],
   "source": [
    "def get_list_from_series(series : pd.Series):\n",
    "    result_list = []\n",
    "    for elements in series:\n",
    "        if type(elements)==list:\n",
    "            for element in elements:\n",
    "               result_list.append(element)\n",
    "    return result_list"
   ],
   "metadata": {
    "collapsed": false,
    "pycharm": {
     "name": "#%%\n"
    }
   }
  },
  {
   "cell_type": "code",
   "execution_count": null,
   "outputs": [],
   "source": [
    "def prepare_series_from_dataframe(df : pd.DataFrame):\n",
    "    result_dict = {}\n",
    "    columns = df.columns\n",
    "    for column in columns:\n",
    "        if type(df[column]) == pd.Series:\n",
    "            if type(df[column][0]) == list:\n",
    "                tmp_list = get_list_from_series(df[column])\n",
    "                result_dict[column]=tmp_list\n",
    "    return result_dict"
   ],
   "metadata": {
    "collapsed": false,
    "pycharm": {
     "name": "#%%\n"
    }
   }
  },
  {
   "cell_type": "code",
   "execution_count": null,
   "outputs": [],
   "source": [
    "def eda_on_categorical_data(df : pd.DataFrame):\n",
    "    prepared_data = prepare_series_from_dataframe(df)\n",
    "    plots = []\n",
    "    pbar = tqdm(prepared_data.keys())\n",
    "    for key in pbar:\n",
    "        pbar.set_description('Eda on categorical data : ',str(key))\n",
    "        if type(prepared_data[key])!=dict:\n",
    "            try:\n",
    "                duplicate_dict = Counter(prepared_data[key])\n",
    "                duplicate_dict = dict(sorted(duplicate_dict.items(), key=lambda item: item[1],reverse=True))\n",
    "                column_stat = pd.DataFrame({'Data':duplicate_dict.keys(),'Count':duplicate_dict.values()})\n",
    "                plots.append(px.bar(column_stat,x='Data',y='Count',title=key))\n",
    "                plots.append(px.pie(column_stat,names='Data',values='Count',title=key))\n",
    "            except:\n",
    "                print('Some error for categorial data : ',key)\n",
    "    return plots"
   ],
   "metadata": {
    "collapsed": false,
    "pycharm": {
     "name": "#%%\n"
    }
   }
  }
 ],
 "metadata": {
  "kernelspec": {
   "display_name": "Python 3",
   "language": "python",
   "name": "python3"
  },
  "language_info": {
   "codemirror_mode": {
    "name": "ipython",
    "version": 2
   },
   "file_extension": ".py",
   "mimetype": "text/x-python",
   "name": "python",
   "nbconvert_exporter": "python",
   "pygments_lexer": "ipython2",
   "version": "2.7.6"
  }
 },
 "nbformat": 4,
 "nbformat_minor": 0
}