{
 "cells": [
  {
   "cell_type": "markdown",
   "metadata": {
    "collapsed": true,
    "pycharm": {
     "name": "#%% md\n"
    }
   },
   "source": [
    "## Import libraries"
   ]
  },
  {
   "cell_type": "code",
   "execution_count": 56,
   "outputs": [],
   "source": [
    "import pathlib as path\n",
    "import pandas as pd\n",
    "import plotly.express as px\n",
    "from collections import  Counter\n",
    "import scipy.stats as stats\n",
    "from IPython.display import display, Markdown"
   ],
   "metadata": {
    "collapsed": false,
    "pycharm": {
     "name": "#%%\n"
    }
   }
  },
  {
   "cell_type": "markdown",
   "source": [
    "## Define constants"
   ],
   "metadata": {
    "collapsed": false,
    "pycharm": {
     "name": "#%% md\n"
    }
   }
  },
  {
   "cell_type": "code",
   "execution_count": 57,
   "outputs": [
    {
     "name": "stdout",
     "output_type": "stream",
     "text": [
      "Work with distant directory.\n"
     ]
    }
   ],
   "source": [
    "LOCAL_FOLDER = path.Path(\"/mnt/c/Users/Professional/Desktop/Works/MEANING/Sem-Covid19/data/\")\n",
    "\n",
    "SERVER_FOLDER  = path.Path(\"/home/jovyan/data/\")\n",
    "\n",
    "WORK_DIR = \"\"\n",
    "if SERVER_FOLDER.exists():\n",
    "    WORK_DIR = SERVER_FOLDER\n",
    "    print(\"Work with distant directory.\")\n",
    "elif LOCAL_FOLDER.exists():\n",
    "    WORK_DIR = LOCAL_FOLDER\n",
    "    print(\"Work with local directory.\")\n",
    "else:\n",
    "    print(\"ERROR: Invalid directory!\")\n",
    "\n",
    "SRC_CORE_FILE_NAME = \"eurlex.json\"\n",
    "SRC_EXT_FILE_NAME = \"eurlex-extended.json\"\n",
    "SRC_CORE_FILE_PATH = WORK_DIR / SRC_CORE_FILE_NAME\n",
    "SRC_EXT_FILE_PATH = WORK_DIR / SRC_EXT_FILE_NAME"
   ],
   "metadata": {
    "collapsed": false,
    "pycharm": {
     "name": "#%%\n"
    }
   }
  },
  {
   "cell_type": "markdown",
   "source": [
    "## Load data sets Cellar core and Cellar Extended"
   ],
   "metadata": {
    "collapsed": false,
    "pycharm": {
     "name": "#%% md\n"
    }
   }
  },
  {
   "cell_type": "code",
   "execution_count": 58,
   "outputs": [],
   "source": [
    "if SRC_CORE_FILE_PATH.exists():\n",
    "    df_core = pd.read_json(SRC_CORE_FILE_PATH)\n",
    "else:\n",
    "    print(\"Source path for core dataset is invalid!\")\n",
    "\n",
    "if SRC_EXT_FILE_PATH.exists():\n",
    "    df_ext = pd.read_json(SRC_EXT_FILE_PATH)\n",
    "else:\n",
    "    print(\"Source path for extended dataset is invalid!\")"
   ],
   "metadata": {
    "collapsed": false,
    "pycharm": {
     "name": "#%%\n"
    }
   }
  },
  {
   "cell_type": "markdown",
   "source": [
    "## Analyze collision rate between Cellar core and extend datasets"
   ],
   "metadata": {
    "collapsed": false,
    "pycharm": {
     "name": "#%% md\n"
    }
   }
  },
  {
   "cell_type": "code",
   "execution_count": 59,
   "outputs": [
    {
     "data": {
      "text/plain": "<IPython.core.display.Markdown object>",
      "text/markdown": "Collision between Cellar core and extend datastet is 93.62%"
     },
     "metadata": {},
     "output_type": "display_data"
    }
   ],
   "source": [
    "work_id_core = df_core[\"work\"]\n",
    "work_id_ext = df_ext[\"work\"]\n",
    "set_core = set(work_id_core)\n",
    "set_ext = set(work_id_ext)\n",
    "set_common = set_core.intersection(set_ext)\n",
    "collision_rate = round(100*len(set_common)/len(set_core),2)\n",
    "display(Markdown(f\"Collision between Cellar core and extend datastet is {collision_rate}%\"))"
   ],
   "metadata": {
    "collapsed": false,
    "pycharm": {
     "name": "#%%\n"
    }
   }
  },
  {
   "cell_type": "markdown",
   "source": [
    "## Analyze difference between collision rows"
   ],
   "metadata": {
    "collapsed": false,
    "pycharm": {
     "name": "#%% md\n"
    }
   }
  },
  {
   "cell_type": "code",
   "execution_count": 75,
   "outputs": [
    {
     "name": "stdout",
     "output_type": "stream",
     "text": [
      "------------------------\n",
      "338                 Slovakia\n",
      "338       commercial vehicle\n",
      "338                 epidemic\n",
      "338       infectious disease\n",
      "338            motor vehicle\n",
      "338              road safety\n",
      "338     roadworthiness tests\n",
      "338    technical regulations\n",
      "Name: eurovoc_concept_labels, dtype: object\n",
      "868              epidemic\n",
      "868    infectious disease\n",
      "Name: eurovoc_concept_labels, dtype: object\n",
      "------------------------\n",
      "------------------------\n",
      "338    http://eurovoc.europa.eu/1759\n",
      "338    http://eurovoc.europa.eu/3117\n",
      "338    http://eurovoc.europa.eu/3641\n",
      "338    http://eurovoc.europa.eu/4047\n",
      "338    http://eurovoc.europa.eu/4654\n",
      "338    http://eurovoc.europa.eu/4658\n",
      "338    http://eurovoc.europa.eu/5859\n",
      "338     http://eurovoc.europa.eu/837\n",
      "Name: eurovoc_concepts, dtype: object\n",
      "868    http://eurovoc.europa.eu/1759\n",
      "868     http://eurovoc.europa.eu/837\n",
      "Name: eurovoc_concepts, dtype: object\n",
      "------------------------\n",
      "Columns with difference is :  {'eurovoc_concept_labels', 'eurovoc_concepts'}\n"
     ]
    }
   ],
   "source": [
    "common_columns = set(df_core.columns).intersection(set(df_ext.columns))\n",
    "slice_core = df_core[common_columns]\n",
    "slice_ext = df_ext[common_columns]\n",
    "column_with_difference = set()\n",
    "for column in common_columns:\n",
    "    for work_id in set_common:\n",
    "        row_core = slice_core.loc[slice_core[\"work\"]==work_id]\n",
    "        row_ext = slice_ext.loc[slice_ext[\"work\"]==work_id]\n",
    "        a = row_core[column].explode()\n",
    "        b = row_ext[column].explode()\n",
    "        if Counter(a) != Counter(b):\n",
    "            print(\"------------------------\")\n",
    "            print(a)\n",
    "            print(b)\n",
    "            print(\"------------------------\")\n",
    "            column_with_difference.add(column)\n",
    "            break\n",
    "\n",
    "print(\"Columns with difference is : \",column_with_difference)\n"
   ],
   "metadata": {
    "collapsed": false,
    "pycharm": {
     "name": "#%%\n"
    }
   }
  },
  {
   "cell_type": "markdown",
   "source": [
    "# The result of this analysis is :\n",
    "- The collision between Cellar core and Cellar Extended is 93.62%.\n",
    "- We can easily combine Cellar core and Cellar extended datasets.\n",
    "It is only a matter of time before we need to keep in mind\n",
    "that for columns ({'eurovoc_concept_labels', 'eurovoc_concepts'})\n",
    "it is necessary to combine them by the set joining operation.\n"
   ],
   "metadata": {
    "collapsed": false,
    "pycharm": {
     "name": "#%% md\n",
     "is_executing": true
    }
   }
  }
 ],
 "metadata": {
  "kernelspec": {
   "display_name": "Python 3",
   "language": "python",
   "name": "python3"
  },
  "language_info": {
   "codemirror_mode": {
    "name": "ipython",
    "version": 2
   },
   "file_extension": ".py",
   "mimetype": "text/x-python",
   "name": "python",
   "nbconvert_exporter": "python",
   "pygments_lexer": "ipython2",
   "version": "2.7.6"
  }
 },
 "nbformat": 4,
 "nbformat_minor": 0
}