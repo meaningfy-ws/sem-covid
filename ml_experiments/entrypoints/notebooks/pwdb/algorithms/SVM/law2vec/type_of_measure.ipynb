{
 "cells": [
  {
   "cell_type": "code",
   "execution_count": 14,
   "outputs": [],
   "source": [
    "# Ignore warnings\n",
    "import warnings\n",
    "warnings.filterwarnings('ignore')\n",
    "\n",
    "# Reusable classes\n",
    "import sys\n",
    "sys.path.append(\"/home/jovyan/work/upload/ml-experiments/sc_wrangling\")\n",
    "\n",
    "# Data path\n",
    "import pathlib\n",
    "FOLDER = pathlib.Path(\"/home/jovyan/work/upload/\")\n",
    "TABLE_PATH = FOLDER / 'data/pickle/df_columns_labels.pkl'\n",
    "LAW2VEC_PATH = FOLDER / 'data/law2vec/Law2Vec.200d.txt'\n",
    "\n",
    "# compress the trained model\n",
    "import pickle\n",
    "SAVED_MODEL_PATH = pathlib.Path('/home/jovyan/work/upload/data/trained_models')\n",
    "\n",
    "# Math stuff\n",
    "import numpy as np\n",
    "from numpy.core.records import ndarray\n",
    "\n",
    "# Manage ML lifecycle\n",
    "import mlflow\n",
    "from mlflow import log_params, set_tags, log_metrics, log_artifact\n",
    "MLFLOW_TRACKING_URI = 'http://srv.meaningfy.ws:8989'\n",
    "\n",
    "# Data visualisation\n",
    "import pandas as pd\n",
    "from pandas import Series\n",
    "\n",
    "# Vectorize algotrithm\n",
    "from gensim.models import Word2Vec, KeyedVectors\n",
    "\n",
    "# Support Vector Classifier Algorithm\n",
    "from sklearn.svm import SVC\n",
    "# :gamma: is a parameter for non linear hyperplanes. The higher the gamma\n",
    "#         value it tries to exactly fit the training data set.\n",
    "GAMMA = 1\n",
    "# :C: is the penalty parameter of the error term. It controls the trade\n",
    "#     off between smooth decision boundary and classifying the training points correctly.\n",
    "#     !!! Increasing C values may lead to overfitting the training data. !!!\n",
    "C = 5\n",
    "\n",
    "# Intermediate steps of the pipeline must be ‘transforms’,\n",
    "# that is, they must implement fit and transform methods.\n",
    "from sklearn.pipeline import Pipeline\n",
    "\n",
    "# Splitting data into train and test\n",
    "from sklearn.model_selection import train_test_split\n",
    "RANDOM_STATE = 42\n",
    "# Where \"train\" contains 70% of data and \"test\" - 30%\n",
    "TEST_SIZE = 0.3\n",
    "SHUFFLE = True\n",
    "\n",
    "# Mean embedding function\n",
    "from mean_vectorizer import MeanEmbeddingVectorizer\n",
    "\n",
    "# Metrics Evaluation Methods\n",
    "from evaluation_metrics import model_evaluation_metrics\n",
    "\n",
    "# Transform DataFrame to dictionary\n",
    "from dictionary_transformation import series_pair_to_dict"
   ],
   "metadata": {
    "collapsed": false,
    "pycharm": {
     "name": "#%%\n"
    }
   }
  },
  {
   "cell_type": "code",
   "execution_count": 2,
   "outputs": [],
   "source": [
    "# Read data\n",
    "df = pd.read_pickle(TABLE_PATH)\n",
    "# Independent data\n",
    "columns = df['Concatenated Data (clean)']\n",
    "# Label data\n",
    "category = df['Type of measure']"
   ],
   "metadata": {
    "collapsed": false,
    "pycharm": {
     "name": "#%%\n"
    }
   }
  },
  {
   "cell_type": "markdown",
   "source": [
    "## law2vec model"
   ],
   "metadata": {
    "collapsed": false
   }
  },
  {
   "cell_type": "code",
   "execution_count": 3,
   "outputs": [],
   "source": [
    "# Load a word2vec model stored in the C *text* format.\n",
    "model = KeyedVectors.load_word2vec_format(LAW2VEC_PATH, binary=False)\n",
    "l2v_dict = {w: vec for w, vec in zip(model.wv.index2word, model.wv.syn0)}"
   ],
   "metadata": {
    "collapsed": false,
    "pycharm": {
     "name": "#%%\n"
    }
   }
  },
  {
   "cell_type": "code",
   "execution_count": 4,
   "outputs": [],
   "source": [
    "# Use pipes to implement steps of fit and transform method\n",
    "svm_l2v = Pipeline([\n",
    "    # Add the words we want to mean\n",
    "    (\"law2vec vectorizer\", MeanEmbeddingVectorizer(l2v_dict)),\n",
    "    # Use SVC algorithm\n",
    "    (\"SVM\", SVC(gamma=1, C=5))])"
   ],
   "metadata": {
    "collapsed": false,
    "pycharm": {
     "name": "#%%\n"
    }
   }
  },
  {
   "cell_type": "markdown",
   "source": [
    "## Train SVM Model"
   ],
   "metadata": {
    "collapsed": false
   }
  },
  {
   "cell_type": "code",
   "execution_count": 5,
   "outputs": [],
   "source": [
    "# split data into test and train sets\n",
    "X_train, X_test, y_train, y_test = train_test_split(\n",
    "    columns, category, random_state=RANDOM_STATE, test_size=TEST_SIZE, shuffle=SHUFFLE)"
   ],
   "metadata": {
    "collapsed": false,
    "pycharm": {
     "name": "#%%\n"
    }
   }
  },
  {
   "cell_type": "code",
   "execution_count": 6,
   "outputs": [
    {
     "data": {
      "text/plain": "Pipeline(steps=[('law2vec vectorizer',\n                 <mean_vectorizer.MeanEmbeddingVectorizer object at 0x7f9209bd12e0>),\n                ('SVM', SVC(C=5, gamma=1))])"
     },
     "execution_count": 6,
     "metadata": {},
     "output_type": "execute_result"
    }
   ],
   "source": [
    "# Fit SVM model with out train data\n",
    "svm_l2v.fit(X_train, y_train)"
   ],
   "metadata": {
    "collapsed": false,
    "pycharm": {
     "name": "#%%\n"
    }
   }
  },
  {
   "cell_type": "markdown",
   "source": [
    "### Save the model into pickle file"
   ],
   "metadata": {
    "collapsed": false
   }
  },
  {
   "cell_type": "code",
   "execution_count": 7,
   "outputs": [],
   "source": [
    "with open(SAVED_MODEL_PATH / 'type_of_measure_svm_law2vec.pkl', 'wb') as pickle_model:\n",
    "    pickle.dump(svm_l2v, pickle_model)"
   ],
   "metadata": {
    "collapsed": false,
    "pycharm": {
     "name": "#%%\n"
    }
   }
  },
  {
   "cell_type": "code",
   "execution_count": 9,
   "outputs": [
    {
     "data": {
      "text/plain": "0.963302752293578"
     },
     "execution_count": 9,
     "metadata": {},
     "output_type": "execute_result"
    }
   ],
   "source": [
    "# Model Evaluation\n",
    "svm_l2v.score(X_train, y_train)"
   ],
   "metadata": {
    "collapsed": false,
    "pycharm": {
     "name": "#%%\n"
    }
   }
  },
  {
   "cell_type": "code",
   "execution_count": 10,
   "outputs": [
    {
     "data": {
      "text/plain": "array([0, 0, 0, 0, 1, 0, 0, 0, 1, 0, 0, 0, 0, 0, 1, 3, 0, 1, 1, 0, 2, 0,\n       0, 0, 0, 0, 0, 3, 0, 0, 0, 0, 0, 0, 0, 2, 1, 0, 0, 0, 0, 0, 0, 0,\n       0, 0, 0, 2, 0, 0, 2, 0, 2, 2, 0, 2, 0, 0, 0, 0, 2, 0, 0, 0, 0, 0,\n       0, 2, 0, 0, 5, 0, 0, 0, 2, 0, 0, 0, 0, 1, 0, 0, 0, 0, 0, 0, 0, 1,\n       2, 0, 0, 0, 0, 0, 4, 0, 0, 0, 0, 0, 0, 1, 0, 1, 0, 0, 0, 1, 0, 1,\n       0, 0, 0, 3, 0, 0, 0, 1, 0, 0, 0, 0, 0, 0, 0, 0, 0, 0, 0, 1, 0, 0,\n       0, 0, 0, 2, 0, 0, 1, 0, 0, 0, 2, 0, 2, 0, 1, 0, 0, 0, 0, 0, 1, 0,\n       0, 0, 0, 0, 0, 1, 0, 1, 0, 0, 0, 0, 2, 0, 0, 0, 0, 1, 0, 0, 0, 0,\n       0, 0, 0, 0, 0, 0, 0, 0, 0, 0, 0, 0, 0, 0, 0, 1, 0, 1, 0, 0, 0, 0,\n       3, 0, 0, 0, 0, 0, 0, 0, 0, 0, 0, 0, 2, 0, 0, 0, 0, 0, 1, 0, 0, 0,\n       0, 0, 0, 2, 2, 0, 3, 0, 0, 2, 0, 0, 0, 0, 0, 4, 0, 0, 0, 0, 0, 0,\n       1, 3, 0, 0, 1, 0, 4, 0, 0, 0, 1, 0, 0, 0, 1, 1, 0, 0, 0, 0, 1, 0,\n       0, 0, 0, 0, 0, 0, 0, 0, 0, 0, 0, 0, 0, 0, 0, 0, 0])"
     },
     "execution_count": 10,
     "metadata": {},
     "output_type": "execute_result"
    }
   ],
   "source": [
    "# SVM prediction based on test data\n",
    "prediction = svm_l2v.predict(X_test)\n",
    "prediction"
   ],
   "metadata": {
    "collapsed": false,
    "pycharm": {
     "name": "#%%\n"
    }
   }
  },
  {
   "cell_type": "markdown",
   "source": [
    "## Evaluation"
   ],
   "metadata": {
    "collapsed": false
   }
  },
  {
   "cell_type": "code",
   "execution_count": 11,
   "outputs": [
    {
     "data": {
      "text/plain": "         Metric Labels  Metric values\n0             Accuracy       0.818505\n1            Precision       0.682853\n2               Recall       0.456966\n3             F1-Score       0.500542\n4  Mean Absolute Error       0.373665\n5   Mean Squared Error       1.021352",
      "text/html": "<div>\n<style scoped>\n    .dataframe tbody tr th:only-of-type {\n        vertical-align: middle;\n    }\n\n    .dataframe tbody tr th {\n        vertical-align: top;\n    }\n\n    .dataframe thead th {\n        text-align: right;\n    }\n</style>\n<table border=\"1\" class=\"dataframe\">\n  <thead>\n    <tr style=\"text-align: right;\">\n      <th></th>\n      <th>Metric Labels</th>\n      <th>Metric values</th>\n    </tr>\n  </thead>\n  <tbody>\n    <tr>\n      <th>0</th>\n      <td>Accuracy</td>\n      <td>0.818505</td>\n    </tr>\n    <tr>\n      <th>1</th>\n      <td>Precision</td>\n      <td>0.682853</td>\n    </tr>\n    <tr>\n      <th>2</th>\n      <td>Recall</td>\n      <td>0.456966</td>\n    </tr>\n    <tr>\n      <th>3</th>\n      <td>F1-Score</td>\n      <td>0.500542</td>\n    </tr>\n    <tr>\n      <th>4</th>\n      <td>Mean Absolute Error</td>\n      <td>0.373665</td>\n    </tr>\n    <tr>\n      <th>5</th>\n      <td>Mean Squared Error</td>\n      <td>1.021352</td>\n    </tr>\n  </tbody>\n</table>\n</div>"
     },
     "execution_count": 11,
     "metadata": {},
     "output_type": "execute_result"
    }
   ],
   "source": [
    "evaluation = model_evaluation_metrics(y_test, prediction)\n",
    "evaluation"
   ],
   "metadata": {
    "collapsed": false,
    "pycharm": {
     "name": "#%%\n"
    }
   }
  },
  {
   "cell_type": "code",
   "execution_count": 12,
   "outputs": [
    {
     "data": {
      "text/plain": "{'Accuracy': 0.8185053380782918,\n 'Precision': 0.6828529818954893,\n 'Recall': 0.4569662509961017,\n 'F1-Score': 0.5005423698264986,\n 'Mean Absolute Error': 0.3736654804270463,\n 'Mean Squared Error': 1.0213523131672597}"
     },
     "execution_count": 12,
     "metadata": {},
     "output_type": "execute_result"
    }
   ],
   "source": [
    "transformation = series_pair_to_dict(evaluation, 'Metric Labels', 'Metric values')\n",
    "transformation\n"
   ],
   "metadata": {
    "collapsed": false,
    "pycharm": {
     "name": "#%%\n"
    }
   }
  },
  {
   "cell_type": "code",
   "execution_count": 15,
   "outputs": [],
   "source": [
    "mlflow.set_tracking_uri(MLFLOW_TRACKING_URI)\n",
    "mlflow.set_experiment(experiment_name=\"Type of measure (SVM, Law2Vec)\")\n",
    "\n",
    "with mlflow.start_run():\n",
    "\n",
    "    parameters = {\"Language model\": 'law2vec',\n",
    "                  \"Random state\": RANDOM_STATE,\n",
    "                  \"Test size\": TEST_SIZE,\n",
    "                  \"Shuffle\": SHUFFLE,\n",
    "                  \"Gamma\": GAMMA,\n",
    "                  \"C\": C}\n",
    "    log_params(parameters)\n",
    "\n",
    "    log_metrics(transformation)\n",
    "\n",
    "    log_artifact('/home/jovyan/work/upload/data/trained_models/type_of_measure_svm_law2vec.pkl')"
   ],
   "metadata": {
    "collapsed": false,
    "pycharm": {
     "name": "#%%\n"
    }
   }
  },
  {
   "cell_type": "code",
   "execution_count": null,
   "outputs": [],
   "source": [],
   "metadata": {
    "collapsed": false,
    "pycharm": {
     "name": "#%%\n"
    }
   }
  }
 ],
 "metadata": {
  "kernelspec": {
   "display_name": "Python 3",
   "language": "python",
   "name": "python3"
  },
  "language_info": {
   "codemirror_mode": {
    "name": "ipython",
    "version": 2
   },
   "file_extension": ".py",
   "mimetype": "text/x-python",
   "name": "python",
   "nbconvert_exporter": "python",
   "pygments_lexer": "ipython2",
   "version": "2.7.6"
  }
 },
 "nbformat": 4,
 "nbformat_minor": 0
}