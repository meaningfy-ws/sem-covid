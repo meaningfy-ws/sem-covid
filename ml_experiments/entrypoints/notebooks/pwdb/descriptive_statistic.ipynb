{
 "cells": [
  {
   "cell_type": "code",
   "execution_count": 1,
   "metadata": {
    "collapsed": true
   },
   "outputs": [
    {
     "data": {
      "text/html": "        <script type=\"text/javascript\">\n        window.PlotlyConfig = {MathJaxConfig: 'local'};\n        if (window.MathJax) {MathJax.Hub.Config({SVG: {font: \"STIX-Web\"}});}\n        if (typeof require !== 'undefined') {\n        require.undef(\"plotly\");\n        requirejs.config({\n            paths: {\n                'plotly': ['https://cdn.plot.ly/plotly-latest.min']\n            }\n        });\n        require(['plotly'], function(Plotly) {\n            window._Plotly = Plotly;\n        });\n        }\n        </script>\n        "
     },
     "metadata": {},
     "output_type": "display_data"
    }
   ],
   "source": [
    "# Ignore warnings\n",
    "import warnings\n",
    "warnings.filterwarnings('ignore')\n",
    "\n",
    "# Data path\n",
    "import pathlib\n",
    "FOLDER = pathlib.Path(\"/home/jovyan/work/upload/\")\n",
    "\n",
    "import plotly as pl\n",
    "import plotly.graph_objs as go\n",
    "from plotly.offline import iplot, init_notebook_mode\n",
    "import ipywidgets as widgets\n",
    "init_notebook_mode(connected=True)\n",
    "\n",
    "import matplotlib.pyplot as plt\n",
    "plt.rcParams[\"figure.figsize\"] = (20,10)\n",
    "plt.rcParams.update({'font.size': 15})\n",
    "\n",
    "import pandas as pd\n",
    "from pandas import DataFrame\n",
    "import numpy as np"
   ]
  },
  {
   "cell_type": "markdown",
   "source": [
    "The data is pretty accurate, but there are some damaged columns with NaN data, or there are empty at all. <br>\n",
    "About our experiments, there was not big problems, because the data we chose was pretty accurate, except for one column. <br>\n",
    "Here are the chosen classifier columns:\n"
   ],
   "metadata": {
    "collapsed": false,
    "pycharm": {
     "name": "#%% md\n"
    }
   }
  },
  {
   "cell_type": "code",
   "execution_count": 4,
   "outputs": [
    {
     "data": {
      "text/plain": "                    columns\n0               Subcategory\n1                  Category\n2             Target groups\n3                   Sectors\n4               Occupations\n5           Type of measure\n6  Private or public sector",
      "text/html": "<div>\n<style scoped>\n    .dataframe tbody tr th:only-of-type {\n        vertical-align: middle;\n    }\n\n    .dataframe tbody tr th {\n        vertical-align: top;\n    }\n\n    .dataframe thead th {\n        text-align: right;\n    }\n</style>\n<table border=\"1\" class=\"dataframe\">\n  <thead>\n    <tr style=\"text-align: right;\">\n      <th></th>\n      <th>columns</th>\n    </tr>\n  </thead>\n  <tbody>\n    <tr>\n      <th>0</th>\n      <td>Subcategory</td>\n    </tr>\n    <tr>\n      <th>1</th>\n      <td>Category</td>\n    </tr>\n    <tr>\n      <th>2</th>\n      <td>Target groups</td>\n    </tr>\n    <tr>\n      <th>3</th>\n      <td>Sectors</td>\n    </tr>\n    <tr>\n      <th>4</th>\n      <td>Occupations</td>\n    </tr>\n    <tr>\n      <th>5</th>\n      <td>Type of measure</td>\n    </tr>\n    <tr>\n      <th>6</th>\n      <td>Private or public sector</td>\n    </tr>\n  </tbody>\n</table>\n</div>"
     },
     "execution_count": 4,
     "metadata": {},
     "output_type": "execute_result"
    }
   ],
   "source": [
    "PATH = pathlib.Path(FOLDER / 'data/pickle/df_full.pkl')\n",
    "\n",
    "df = pd.read_pickle(PATH)\n",
    "df1 = df[['Subcategory','Category','Target groups', 'Type of measure','Private or public sector']]\n",
    "\n",
    "d = {'columns': ['Subcategory','Category','Target groups','Sectors','Occupations','Type of measure','Private or public sector']}\n",
    "df_columns = pd.DataFrame(data=d)\n",
    "df_columns"
   ],
   "metadata": {
    "collapsed": false,
    "pycharm": {
     "name": "#%%\n"
    }
   }
  },
  {
   "cell_type": "markdown",
   "source": [
    "### Missing Values"
   ],
   "metadata": {
    "collapsed": false,
    "pycharm": {
     "name": "#%% md\n"
    }
   }
  },
  {
   "cell_type": "code",
   "execution_count": 35,
   "outputs": [],
   "source": [
    "df.replace('', np.nan, regex=True, inplace=True)"
   ],
   "metadata": {
    "collapsed": false,
    "pycharm": {
     "name": "#%%\n"
    }
   }
  },
  {
   "cell_type": "markdown",
   "source": [
    "The main problem is NaN values. Some columns are 100% missing, or have a decent amount of missing values.\n",
    "\n",
    "\n"
   ],
   "metadata": {
    "collapsed": false,
    "pycharm": {
     "name": "#%% md\n"
    }
   }
  },
  {
   "cell_type": "code",
   "execution_count": 36,
   "outputs": [
    {
     "data": {
      "text/plain": "                                    Missing  Percentage\nRole of social partners                 935    100.00 %\nForm of social partner involvement      935    100.00 %\nEnd date                                379     40.53 %\nTarget groups                           238     25.45 %\nViews of social partners                148     15.83 %\nTitle (national language)                50      5.35 %\nStatus of regulation                      5      0.53 %\nIdentifier                                0      0.00 %\nActors                                    0      0.00 %\nOccupations                               0      0.00 %\nSectors                                   0      0.00 %\nIs occupation specific                    0      0.00 %\nPrivate or public sector                  0      0.00 %\nIs sector specific                        0      0.00 %\nFunding                                   0      0.00 %\nContent of measure                        0      0.00 %\nUse of measure                            0      0.00 %\nTitle                                     0      0.00 %\nBackground information                    0      0.00 %\nCase added                                0      0.00 %\nSubcategory                               0      0.00 %\nCategory                                  0      0.00 %\nType of measure                           0      0.00 %\nDate type                                 0      0.00 %\nStart date                                0      0.00 %\nCountry                                   0      0.00 %\nSources                                   0      0.00 %",
      "text/html": "<div>\n<style scoped>\n    .dataframe tbody tr th:only-of-type {\n        vertical-align: middle;\n    }\n\n    .dataframe tbody tr th {\n        vertical-align: top;\n    }\n\n    .dataframe thead th {\n        text-align: right;\n    }\n</style>\n<table border=\"1\" class=\"dataframe\">\n  <thead>\n    <tr style=\"text-align: right;\">\n      <th></th>\n      <th>Missing</th>\n      <th>Percentage</th>\n    </tr>\n  </thead>\n  <tbody>\n    <tr>\n      <th>Role of social partners</th>\n      <td>935</td>\n      <td>100.00 %</td>\n    </tr>\n    <tr>\n      <th>Form of social partner involvement</th>\n      <td>935</td>\n      <td>100.00 %</td>\n    </tr>\n    <tr>\n      <th>End date</th>\n      <td>379</td>\n      <td>40.53 %</td>\n    </tr>\n    <tr>\n      <th>Target groups</th>\n      <td>238</td>\n      <td>25.45 %</td>\n    </tr>\n    <tr>\n      <th>Views of social partners</th>\n      <td>148</td>\n      <td>15.83 %</td>\n    </tr>\n    <tr>\n      <th>Title (national language)</th>\n      <td>50</td>\n      <td>5.35 %</td>\n    </tr>\n    <tr>\n      <th>Status of regulation</th>\n      <td>5</td>\n      <td>0.53 %</td>\n    </tr>\n    <tr>\n      <th>Identifier</th>\n      <td>0</td>\n      <td>0.00 %</td>\n    </tr>\n    <tr>\n      <th>Actors</th>\n      <td>0</td>\n      <td>0.00 %</td>\n    </tr>\n    <tr>\n      <th>Occupations</th>\n      <td>0</td>\n      <td>0.00 %</td>\n    </tr>\n    <tr>\n      <th>Sectors</th>\n      <td>0</td>\n      <td>0.00 %</td>\n    </tr>\n    <tr>\n      <th>Is occupation specific</th>\n      <td>0</td>\n      <td>0.00 %</td>\n    </tr>\n    <tr>\n      <th>Private or public sector</th>\n      <td>0</td>\n      <td>0.00 %</td>\n    </tr>\n    <tr>\n      <th>Is sector specific</th>\n      <td>0</td>\n      <td>0.00 %</td>\n    </tr>\n    <tr>\n      <th>Funding</th>\n      <td>0</td>\n      <td>0.00 %</td>\n    </tr>\n    <tr>\n      <th>Content of measure</th>\n      <td>0</td>\n      <td>0.00 %</td>\n    </tr>\n    <tr>\n      <th>Use of measure</th>\n      <td>0</td>\n      <td>0.00 %</td>\n    </tr>\n    <tr>\n      <th>Title</th>\n      <td>0</td>\n      <td>0.00 %</td>\n    </tr>\n    <tr>\n      <th>Background information</th>\n      <td>0</td>\n      <td>0.00 %</td>\n    </tr>\n    <tr>\n      <th>Case added</th>\n      <td>0</td>\n      <td>0.00 %</td>\n    </tr>\n    <tr>\n      <th>Subcategory</th>\n      <td>0</td>\n      <td>0.00 %</td>\n    </tr>\n    <tr>\n      <th>Category</th>\n      <td>0</td>\n      <td>0.00 %</td>\n    </tr>\n    <tr>\n      <th>Type of measure</th>\n      <td>0</td>\n      <td>0.00 %</td>\n    </tr>\n    <tr>\n      <th>Date type</th>\n      <td>0</td>\n      <td>0.00 %</td>\n    </tr>\n    <tr>\n      <th>Start date</th>\n      <td>0</td>\n      <td>0.00 %</td>\n    </tr>\n    <tr>\n      <th>Country</th>\n      <td>0</td>\n      <td>0.00 %</td>\n    </tr>\n    <tr>\n      <th>Sources</th>\n      <td>0</td>\n      <td>0.00 %</td>\n    </tr>\n  </tbody>\n</table>\n</div>"
     },
     "execution_count": 36,
     "metadata": {},
     "output_type": "execute_result"
    }
   ],
   "source": [
    "df_na = pd.DataFrame(df.isnull().sum(), columns=[\"Missing\"])\n",
    "df_na[\"Percentage\"] = df_na[\"Missing\"] / df.shape[0] * 100\n",
    "df_na.sort_values(by='Missing', ascending=False)"
   ],
   "metadata": {
    "collapsed": false,
    "pycharm": {
     "name": "#%%\n"
    }
   }
  },
  {
   "cell_type": "markdown",
   "source": [
    "We managed to work with 3 classifier labels: Type of measure, Category, Target groups. <br>\n",
    "The data is very unstable. There are dominant labels that contains most of data. <br>\n",
    "Overweight data:"
   ],
   "metadata": {
    "collapsed": false,
    "pycharm": {
     "name": "#%% md\n"
    }
   }
  },
  {
   "cell_type": "code",
   "execution_count": 38,
   "outputs": [],
   "source": [
    "def plotly_bar_chart_graphic(chart_title: str, x_axis: DataFrame, y_axis: DataFrame,\n",
    "                             x_axis_title: str, y_axis_title: str):\n",
    "    \"\"\"\n",
    "    assuming we want to represent in graphic chart specific data\n",
    "    :chart_title: graphic title\n",
    "    :x_axis: our DataFrame we will use as x axis\n",
    "    :y_axis: our DataFrame we will use as y axis\n",
    "    :x_axis_title: the title for our x axis\n",
    "    :y_axis_title: the title for our y axis\n",
    "    :return: bar chart graphic\n",
    "    \"\"\"\n",
    "    layout = {\"title\": chart_title,\n",
    "              \"xaxis\": {\"title\": x_axis_title},\n",
    "              \"yaxis\": {\"title\": y_axis_title}}\n",
    "\n",
    "    trace = go.Bar(x = x_axis,\n",
    "                   y = y_axis)\n",
    "\n",
    "    figure = go.Figure(data=trace, layout=layout)\n",
    "    iplot(figure)"
   ],
   "metadata": {
    "collapsed": false,
    "pycharm": {
     "name": "#%%\n"
    }
   }
  },
  {
   "cell_type": "markdown",
   "source": [
    "## Type of measure\n",
    "### Frequency table\n"
   ],
   "metadata": {
    "collapsed": false,
    "pycharm": {
     "name": "#%% md\n"
    }
   }
  },
  {
   "cell_type": "code",
   "execution_count": 39,
   "outputs": [
    {
     "data": {
      "text/plain": "                                         index  Frequency\n0  Legislations or other statutory regulations    70.37 %\n1                Other initiatives or policies    12.94 %\n2              Bipartite collective agreements     7.38 %\n3   Non-binding recommendations or other texts     4.92 %\n4                            Company practices     2.57 %\n5                        Tripartite agreements     1.82 %",
      "text/html": "<div>\n<style scoped>\n    .dataframe tbody tr th:only-of-type {\n        vertical-align: middle;\n    }\n\n    .dataframe tbody tr th {\n        vertical-align: top;\n    }\n\n    .dataframe thead th {\n        text-align: right;\n    }\n</style>\n<table border=\"1\" class=\"dataframe\">\n  <thead>\n    <tr style=\"text-align: right;\">\n      <th></th>\n      <th>index</th>\n      <th>Frequency</th>\n    </tr>\n  </thead>\n  <tbody>\n    <tr>\n      <th>0</th>\n      <td>Legislations or other statutory regulations</td>\n      <td>70.37 %</td>\n    </tr>\n    <tr>\n      <th>1</th>\n      <td>Other initiatives or policies</td>\n      <td>12.94 %</td>\n    </tr>\n    <tr>\n      <th>2</th>\n      <td>Bipartite collective agreements</td>\n      <td>7.38 %</td>\n    </tr>\n    <tr>\n      <th>3</th>\n      <td>Non-binding recommendations or other texts</td>\n      <td>4.92 %</td>\n    </tr>\n    <tr>\n      <th>4</th>\n      <td>Company practices</td>\n      <td>2.57 %</td>\n    </tr>\n    <tr>\n      <th>5</th>\n      <td>Tripartite agreements</td>\n      <td>1.82 %</td>\n    </tr>\n  </tbody>\n</table>\n</div>"
     },
     "execution_count": 39,
     "metadata": {},
     "output_type": "execute_result"
    }
   ],
   "source": [
    "pd.options.display.float_format = '{:,.2f} %'.format\n",
    "tom_count = df['Type of measure'].value_counts()\n",
    "data_tom = df['Type of measure'].unique()\n",
    "vc_tom = df['Type of measure'].value_counts()\n",
    "df_tom = pd.DataFrame(df, columns=['Type of measure'])\n",
    "df_tom = vc_tom / df['Type of measure'].shape[0] * 100\n",
    "df_tom_table = pd.DataFrame({'Frequency': df_tom})\n",
    "df_tom_table = df_tom_table.reset_index()\n",
    "df_tom_table"
   ],
   "metadata": {
    "collapsed": false,
    "pycharm": {
     "name": "#%%\n"
    }
   }
  },
  {
   "cell_type": "code",
   "execution_count": 40,
   "outputs": [
    {
     "data": {
      "application/vnd.plotly.v1+json": {
       "config": {
        "linkText": "Export to plot.ly",
        "plotlyServerURL": "https://plot.ly",
        "showLink": false
       },
       "data": [
        {
         "type": "bar",
         "x": [
          "Legislations or other statutory regulations",
          "Other initiatives or policies",
          "Bipartite collective agreements",
          "Non-binding recommendations or other texts",
          "Company practices",
          "Tripartite agreements"
         ],
         "y": [
          70.37433155080214,
          12.941176470588237,
          7.379679144385026,
          4.919786096256685,
          2.5668449197860963,
          1.8181818181818181
         ]
        }
       ],
       "layout": {
        "template": {
         "data": {
          "bar": [
           {
            "error_x": {
             "color": "#2a3f5f"
            },
            "error_y": {
             "color": "#2a3f5f"
            },
            "marker": {
             "line": {
              "color": "#E5ECF6",
              "width": 0.5
             }
            },
            "type": "bar"
           }
          ],
          "barpolar": [
           {
            "marker": {
             "line": {
              "color": "#E5ECF6",
              "width": 0.5
             }
            },
            "type": "barpolar"
           }
          ],
          "carpet": [
           {
            "aaxis": {
             "endlinecolor": "#2a3f5f",
             "gridcolor": "white",
             "linecolor": "white",
             "minorgridcolor": "white",
             "startlinecolor": "#2a3f5f"
            },
            "baxis": {
             "endlinecolor": "#2a3f5f",
             "gridcolor": "white",
             "linecolor": "white",
             "minorgridcolor": "white",
             "startlinecolor": "#2a3f5f"
            },
            "type": "carpet"
           }
          ],
          "choropleth": [
           {
            "colorbar": {
             "outlinewidth": 0,
             "ticks": ""
            },
            "type": "choropleth"
           }
          ],
          "contour": [
           {
            "colorbar": {
             "outlinewidth": 0,
             "ticks": ""
            },
            "colorscale": [
             [
              0.0,
              "#0d0887"
             ],
             [
              0.1111111111111111,
              "#46039f"
             ],
             [
              0.2222222222222222,
              "#7201a8"
             ],
             [
              0.3333333333333333,
              "#9c179e"
             ],
             [
              0.4444444444444444,
              "#bd3786"
             ],
             [
              0.5555555555555556,
              "#d8576b"
             ],
             [
              0.6666666666666666,
              "#ed7953"
             ],
             [
              0.7777777777777778,
              "#fb9f3a"
             ],
             [
              0.8888888888888888,
              "#fdca26"
             ],
             [
              1.0,
              "#f0f921"
             ]
            ],
            "type": "contour"
           }
          ],
          "contourcarpet": [
           {
            "colorbar": {
             "outlinewidth": 0,
             "ticks": ""
            },
            "type": "contourcarpet"
           }
          ],
          "heatmap": [
           {
            "colorbar": {
             "outlinewidth": 0,
             "ticks": ""
            },
            "colorscale": [
             [
              0.0,
              "#0d0887"
             ],
             [
              0.1111111111111111,
              "#46039f"
             ],
             [
              0.2222222222222222,
              "#7201a8"
             ],
             [
              0.3333333333333333,
              "#9c179e"
             ],
             [
              0.4444444444444444,
              "#bd3786"
             ],
             [
              0.5555555555555556,
              "#d8576b"
             ],
             [
              0.6666666666666666,
              "#ed7953"
             ],
             [
              0.7777777777777778,
              "#fb9f3a"
             ],
             [
              0.8888888888888888,
              "#fdca26"
             ],
             [
              1.0,
              "#f0f921"
             ]
            ],
            "type": "heatmap"
           }
          ],
          "heatmapgl": [
           {
            "colorbar": {
             "outlinewidth": 0,
             "ticks": ""
            },
            "colorscale": [
             [
              0.0,
              "#0d0887"
             ],
             [
              0.1111111111111111,
              "#46039f"
             ],
             [
              0.2222222222222222,
              "#7201a8"
             ],
             [
              0.3333333333333333,
              "#9c179e"
             ],
             [
              0.4444444444444444,
              "#bd3786"
             ],
             [
              0.5555555555555556,
              "#d8576b"
             ],
             [
              0.6666666666666666,
              "#ed7953"
             ],
             [
              0.7777777777777778,
              "#fb9f3a"
             ],
             [
              0.8888888888888888,
              "#fdca26"
             ],
             [
              1.0,
              "#f0f921"
             ]
            ],
            "type": "heatmapgl"
           }
          ],
          "histogram": [
           {
            "marker": {
             "colorbar": {
              "outlinewidth": 0,
              "ticks": ""
             }
            },
            "type": "histogram"
           }
          ],
          "histogram2d": [
           {
            "colorbar": {
             "outlinewidth": 0,
             "ticks": ""
            },
            "colorscale": [
             [
              0.0,
              "#0d0887"
             ],
             [
              0.1111111111111111,
              "#46039f"
             ],
             [
              0.2222222222222222,
              "#7201a8"
             ],
             [
              0.3333333333333333,
              "#9c179e"
             ],
             [
              0.4444444444444444,
              "#bd3786"
             ],
             [
              0.5555555555555556,
              "#d8576b"
             ],
             [
              0.6666666666666666,
              "#ed7953"
             ],
             [
              0.7777777777777778,
              "#fb9f3a"
             ],
             [
              0.8888888888888888,
              "#fdca26"
             ],
             [
              1.0,
              "#f0f921"
             ]
            ],
            "type": "histogram2d"
           }
          ],
          "histogram2dcontour": [
           {
            "colorbar": {
             "outlinewidth": 0,
             "ticks": ""
            },
            "colorscale": [
             [
              0.0,
              "#0d0887"
             ],
             [
              0.1111111111111111,
              "#46039f"
             ],
             [
              0.2222222222222222,
              "#7201a8"
             ],
             [
              0.3333333333333333,
              "#9c179e"
             ],
             [
              0.4444444444444444,
              "#bd3786"
             ],
             [
              0.5555555555555556,
              "#d8576b"
             ],
             [
              0.6666666666666666,
              "#ed7953"
             ],
             [
              0.7777777777777778,
              "#fb9f3a"
             ],
             [
              0.8888888888888888,
              "#fdca26"
             ],
             [
              1.0,
              "#f0f921"
             ]
            ],
            "type": "histogram2dcontour"
           }
          ],
          "mesh3d": [
           {
            "colorbar": {
             "outlinewidth": 0,
             "ticks": ""
            },
            "type": "mesh3d"
           }
          ],
          "parcoords": [
           {
            "line": {
             "colorbar": {
              "outlinewidth": 0,
              "ticks": ""
             }
            },
            "type": "parcoords"
           }
          ],
          "pie": [
           {
            "automargin": true,
            "type": "pie"
           }
          ],
          "scatter": [
           {
            "marker": {
             "colorbar": {
              "outlinewidth": 0,
              "ticks": ""
             }
            },
            "type": "scatter"
           }
          ],
          "scatter3d": [
           {
            "line": {
             "colorbar": {
              "outlinewidth": 0,
              "ticks": ""
             }
            },
            "marker": {
             "colorbar": {
              "outlinewidth": 0,
              "ticks": ""
             }
            },
            "type": "scatter3d"
           }
          ],
          "scattercarpet": [
           {
            "marker": {
             "colorbar": {
              "outlinewidth": 0,
              "ticks": ""
             }
            },
            "type": "scattercarpet"
           }
          ],
          "scattergeo": [
           {
            "marker": {
             "colorbar": {
              "outlinewidth": 0,
              "ticks": ""
             }
            },
            "type": "scattergeo"
           }
          ],
          "scattergl": [
           {
            "marker": {
             "colorbar": {
              "outlinewidth": 0,
              "ticks": ""
             }
            },
            "type": "scattergl"
           }
          ],
          "scattermapbox": [
           {
            "marker": {
             "colorbar": {
              "outlinewidth": 0,
              "ticks": ""
             }
            },
            "type": "scattermapbox"
           }
          ],
          "scatterpolar": [
           {
            "marker": {
             "colorbar": {
              "outlinewidth": 0,
              "ticks": ""
             }
            },
            "type": "scatterpolar"
           }
          ],
          "scatterpolargl": [
           {
            "marker": {
             "colorbar": {
              "outlinewidth": 0,
              "ticks": ""
             }
            },
            "type": "scatterpolargl"
           }
          ],
          "scatterternary": [
           {
            "marker": {
             "colorbar": {
              "outlinewidth": 0,
              "ticks": ""
             }
            },
            "type": "scatterternary"
           }
          ],
          "surface": [
           {
            "colorbar": {
             "outlinewidth": 0,
             "ticks": ""
            },
            "colorscale": [
             [
              0.0,
              "#0d0887"
             ],
             [
              0.1111111111111111,
              "#46039f"
             ],
             [
              0.2222222222222222,
              "#7201a8"
             ],
             [
              0.3333333333333333,
              "#9c179e"
             ],
             [
              0.4444444444444444,
              "#bd3786"
             ],
             [
              0.5555555555555556,
              "#d8576b"
             ],
             [
              0.6666666666666666,
              "#ed7953"
             ],
             [
              0.7777777777777778,
              "#fb9f3a"
             ],
             [
              0.8888888888888888,
              "#fdca26"
             ],
             [
              1.0,
              "#f0f921"
             ]
            ],
            "type": "surface"
           }
          ],
          "table": [
           {
            "cells": {
             "fill": {
              "color": "#EBF0F8"
             },
             "line": {
              "color": "white"
             }
            },
            "header": {
             "fill": {
              "color": "#C8D4E3"
             },
             "line": {
              "color": "white"
             }
            },
            "type": "table"
           }
          ]
         },
         "layout": {
          "annotationdefaults": {
           "arrowcolor": "#2a3f5f",
           "arrowhead": 0,
           "arrowwidth": 1
          },
          "autotypenumbers": "strict",
          "coloraxis": {
           "colorbar": {
            "outlinewidth": 0,
            "ticks": ""
           }
          },
          "colorscale": {
           "diverging": [
            [
             0,
             "#8e0152"
            ],
            [
             0.1,
             "#c51b7d"
            ],
            [
             0.2,
             "#de77ae"
            ],
            [
             0.3,
             "#f1b6da"
            ],
            [
             0.4,
             "#fde0ef"
            ],
            [
             0.5,
             "#f7f7f7"
            ],
            [
             0.6,
             "#e6f5d0"
            ],
            [
             0.7,
             "#b8e186"
            ],
            [
             0.8,
             "#7fbc41"
            ],
            [
             0.9,
             "#4d9221"
            ],
            [
             1,
             "#276419"
            ]
           ],
           "sequential": [
            [
             0.0,
             "#0d0887"
            ],
            [
             0.1111111111111111,
             "#46039f"
            ],
            [
             0.2222222222222222,
             "#7201a8"
            ],
            [
             0.3333333333333333,
             "#9c179e"
            ],
            [
             0.4444444444444444,
             "#bd3786"
            ],
            [
             0.5555555555555556,
             "#d8576b"
            ],
            [
             0.6666666666666666,
             "#ed7953"
            ],
            [
             0.7777777777777778,
             "#fb9f3a"
            ],
            [
             0.8888888888888888,
             "#fdca26"
            ],
            [
             1.0,
             "#f0f921"
            ]
           ],
           "sequentialminus": [
            [
             0.0,
             "#0d0887"
            ],
            [
             0.1111111111111111,
             "#46039f"
            ],
            [
             0.2222222222222222,
             "#7201a8"
            ],
            [
             0.3333333333333333,
             "#9c179e"
            ],
            [
             0.4444444444444444,
             "#bd3786"
            ],
            [
             0.5555555555555556,
             "#d8576b"
            ],
            [
             0.6666666666666666,
             "#ed7953"
            ],
            [
             0.7777777777777778,
             "#fb9f3a"
            ],
            [
             0.8888888888888888,
             "#fdca26"
            ],
            [
             1.0,
             "#f0f921"
            ]
           ]
          },
          "colorway": [
           "#636efa",
           "#EF553B",
           "#00cc96",
           "#ab63fa",
           "#FFA15A",
           "#19d3f3",
           "#FF6692",
           "#B6E880",
           "#FF97FF",
           "#FECB52"
          ],
          "font": {
           "color": "#2a3f5f"
          },
          "geo": {
           "bgcolor": "white",
           "lakecolor": "white",
           "landcolor": "#E5ECF6",
           "showlakes": true,
           "showland": true,
           "subunitcolor": "white"
          },
          "hoverlabel": {
           "align": "left"
          },
          "hovermode": "closest",
          "mapbox": {
           "style": "light"
          },
          "paper_bgcolor": "white",
          "plot_bgcolor": "#E5ECF6",
          "polar": {
           "angularaxis": {
            "gridcolor": "white",
            "linecolor": "white",
            "ticks": ""
           },
           "bgcolor": "#E5ECF6",
           "radialaxis": {
            "gridcolor": "white",
            "linecolor": "white",
            "ticks": ""
           }
          },
          "scene": {
           "xaxis": {
            "backgroundcolor": "#E5ECF6",
            "gridcolor": "white",
            "gridwidth": 2,
            "linecolor": "white",
            "showbackground": true,
            "ticks": "",
            "zerolinecolor": "white"
           },
           "yaxis": {
            "backgroundcolor": "#E5ECF6",
            "gridcolor": "white",
            "gridwidth": 2,
            "linecolor": "white",
            "showbackground": true,
            "ticks": "",
            "zerolinecolor": "white"
           },
           "zaxis": {
            "backgroundcolor": "#E5ECF6",
            "gridcolor": "white",
            "gridwidth": 2,
            "linecolor": "white",
            "showbackground": true,
            "ticks": "",
            "zerolinecolor": "white"
           }
          },
          "shapedefaults": {
           "line": {
            "color": "#2a3f5f"
           }
          },
          "ternary": {
           "aaxis": {
            "gridcolor": "white",
            "linecolor": "white",
            "ticks": ""
           },
           "baxis": {
            "gridcolor": "white",
            "linecolor": "white",
            "ticks": ""
           },
           "bgcolor": "#E5ECF6",
           "caxis": {
            "gridcolor": "white",
            "linecolor": "white",
            "ticks": ""
           }
          },
          "title": {
           "x": 0.05
          },
          "xaxis": {
           "automargin": true,
           "gridcolor": "white",
           "linecolor": "white",
           "ticks": "",
           "title": {
            "standoff": 15
           },
           "zerolinecolor": "white",
           "zerolinewidth": 2
          },
          "yaxis": {
           "automargin": true,
           "gridcolor": "white",
           "linecolor": "white",
           "ticks": "",
           "title": {
            "standoff": 15
           },
           "zerolinecolor": "white",
           "zerolinewidth": 2
          }
         }
        },
        "title": {
         "text": "Type of measure frequency"
        },
        "xaxis": {
         "title": {
          "text": "Index"
         }
        },
        "yaxis": {
         "title": {
          "text": "Frequency"
         }
        }
       }
      },
      "text/html": "<div>                            <div id=\"61b20dc7-37d4-4103-97b6-1b4a02dc2b60\" class=\"plotly-graph-div\" style=\"height:525px; width:100%;\"></div>            <script type=\"text/javascript\">                require([\"plotly\"], function(Plotly) {                    window.PLOTLYENV=window.PLOTLYENV || {};                                    if (document.getElementById(\"61b20dc7-37d4-4103-97b6-1b4a02dc2b60\")) {                    Plotly.newPlot(                        \"61b20dc7-37d4-4103-97b6-1b4a02dc2b60\",                        [{\"type\": \"bar\", \"x\": [\"Legislations or other statutory regulations\", \"Other initiatives or policies\", \"Bipartite collective agreements\", \"Non-binding recommendations or other texts\", \"Company practices\", \"Tripartite agreements\"], \"y\": [70.37433155080214, 12.941176470588237, 7.379679144385026, 4.919786096256685, 2.5668449197860963, 1.8181818181818181]}],                        {\"template\": {\"data\": {\"bar\": [{\"error_x\": {\"color\": \"#2a3f5f\"}, \"error_y\": {\"color\": \"#2a3f5f\"}, \"marker\": {\"line\": {\"color\": \"#E5ECF6\", \"width\": 0.5}}, \"type\": \"bar\"}], \"barpolar\": [{\"marker\": {\"line\": {\"color\": \"#E5ECF6\", \"width\": 0.5}}, \"type\": \"barpolar\"}], \"carpet\": [{\"aaxis\": {\"endlinecolor\": \"#2a3f5f\", \"gridcolor\": \"white\", \"linecolor\": \"white\", \"minorgridcolor\": \"white\", \"startlinecolor\": \"#2a3f5f\"}, \"baxis\": {\"endlinecolor\": \"#2a3f5f\", \"gridcolor\": \"white\", \"linecolor\": \"white\", \"minorgridcolor\": \"white\", \"startlinecolor\": \"#2a3f5f\"}, \"type\": \"carpet\"}], \"choropleth\": [{\"colorbar\": {\"outlinewidth\": 0, \"ticks\": \"\"}, \"type\": \"choropleth\"}], \"contour\": [{\"colorbar\": {\"outlinewidth\": 0, \"ticks\": \"\"}, \"colorscale\": [[0.0, \"#0d0887\"], [0.1111111111111111, \"#46039f\"], [0.2222222222222222, \"#7201a8\"], [0.3333333333333333, \"#9c179e\"], [0.4444444444444444, \"#bd3786\"], [0.5555555555555556, \"#d8576b\"], [0.6666666666666666, \"#ed7953\"], [0.7777777777777778, \"#fb9f3a\"], [0.8888888888888888, \"#fdca26\"], [1.0, \"#f0f921\"]], \"type\": \"contour\"}], \"contourcarpet\": [{\"colorbar\": {\"outlinewidth\": 0, \"ticks\": \"\"}, \"type\": \"contourcarpet\"}], \"heatmap\": [{\"colorbar\": {\"outlinewidth\": 0, \"ticks\": \"\"}, \"colorscale\": [[0.0, \"#0d0887\"], [0.1111111111111111, \"#46039f\"], [0.2222222222222222, \"#7201a8\"], [0.3333333333333333, \"#9c179e\"], [0.4444444444444444, \"#bd3786\"], [0.5555555555555556, \"#d8576b\"], [0.6666666666666666, \"#ed7953\"], [0.7777777777777778, \"#fb9f3a\"], [0.8888888888888888, \"#fdca26\"], [1.0, \"#f0f921\"]], \"type\": \"heatmap\"}], \"heatmapgl\": [{\"colorbar\": {\"outlinewidth\": 0, \"ticks\": \"\"}, \"colorscale\": [[0.0, \"#0d0887\"], [0.1111111111111111, \"#46039f\"], [0.2222222222222222, \"#7201a8\"], [0.3333333333333333, \"#9c179e\"], [0.4444444444444444, \"#bd3786\"], [0.5555555555555556, \"#d8576b\"], [0.6666666666666666, \"#ed7953\"], [0.7777777777777778, \"#fb9f3a\"], [0.8888888888888888, \"#fdca26\"], [1.0, \"#f0f921\"]], \"type\": \"heatmapgl\"}], \"histogram\": [{\"marker\": {\"colorbar\": {\"outlinewidth\": 0, \"ticks\": \"\"}}, \"type\": \"histogram\"}], \"histogram2d\": [{\"colorbar\": {\"outlinewidth\": 0, \"ticks\": \"\"}, \"colorscale\": [[0.0, \"#0d0887\"], [0.1111111111111111, \"#46039f\"], [0.2222222222222222, \"#7201a8\"], [0.3333333333333333, \"#9c179e\"], [0.4444444444444444, \"#bd3786\"], [0.5555555555555556, \"#d8576b\"], [0.6666666666666666, \"#ed7953\"], [0.7777777777777778, \"#fb9f3a\"], [0.8888888888888888, \"#fdca26\"], [1.0, \"#f0f921\"]], \"type\": \"histogram2d\"}], \"histogram2dcontour\": [{\"colorbar\": {\"outlinewidth\": 0, \"ticks\": \"\"}, \"colorscale\": [[0.0, \"#0d0887\"], [0.1111111111111111, \"#46039f\"], [0.2222222222222222, \"#7201a8\"], [0.3333333333333333, \"#9c179e\"], [0.4444444444444444, \"#bd3786\"], [0.5555555555555556, \"#d8576b\"], [0.6666666666666666, \"#ed7953\"], [0.7777777777777778, \"#fb9f3a\"], [0.8888888888888888, \"#fdca26\"], [1.0, \"#f0f921\"]], \"type\": \"histogram2dcontour\"}], \"mesh3d\": [{\"colorbar\": {\"outlinewidth\": 0, \"ticks\": \"\"}, \"type\": \"mesh3d\"}], \"parcoords\": [{\"line\": {\"colorbar\": {\"outlinewidth\": 0, \"ticks\": \"\"}}, \"type\": \"parcoords\"}], \"pie\": [{\"automargin\": true, \"type\": \"pie\"}], \"scatter\": [{\"marker\": {\"colorbar\": {\"outlinewidth\": 0, \"ticks\": \"\"}}, \"type\": \"scatter\"}], \"scatter3d\": [{\"line\": {\"colorbar\": {\"outlinewidth\": 0, \"ticks\": \"\"}}, \"marker\": {\"colorbar\": {\"outlinewidth\": 0, \"ticks\": \"\"}}, \"type\": \"scatter3d\"}], \"scattercarpet\": [{\"marker\": {\"colorbar\": {\"outlinewidth\": 0, \"ticks\": \"\"}}, \"type\": \"scattercarpet\"}], \"scattergeo\": [{\"marker\": {\"colorbar\": {\"outlinewidth\": 0, \"ticks\": \"\"}}, \"type\": \"scattergeo\"}], \"scattergl\": [{\"marker\": {\"colorbar\": {\"outlinewidth\": 0, \"ticks\": \"\"}}, \"type\": \"scattergl\"}], \"scattermapbox\": [{\"marker\": {\"colorbar\": {\"outlinewidth\": 0, \"ticks\": \"\"}}, \"type\": \"scattermapbox\"}], \"scatterpolar\": [{\"marker\": {\"colorbar\": {\"outlinewidth\": 0, \"ticks\": \"\"}}, \"type\": \"scatterpolar\"}], \"scatterpolargl\": [{\"marker\": {\"colorbar\": {\"outlinewidth\": 0, \"ticks\": \"\"}}, \"type\": \"scatterpolargl\"}], \"scatterternary\": [{\"marker\": {\"colorbar\": {\"outlinewidth\": 0, \"ticks\": \"\"}}, \"type\": \"scatterternary\"}], \"surface\": [{\"colorbar\": {\"outlinewidth\": 0, \"ticks\": \"\"}, \"colorscale\": [[0.0, \"#0d0887\"], [0.1111111111111111, \"#46039f\"], [0.2222222222222222, \"#7201a8\"], [0.3333333333333333, \"#9c179e\"], [0.4444444444444444, \"#bd3786\"], [0.5555555555555556, \"#d8576b\"], [0.6666666666666666, \"#ed7953\"], [0.7777777777777778, \"#fb9f3a\"], [0.8888888888888888, \"#fdca26\"], [1.0, \"#f0f921\"]], \"type\": \"surface\"}], \"table\": [{\"cells\": {\"fill\": {\"color\": \"#EBF0F8\"}, \"line\": {\"color\": \"white\"}}, \"header\": {\"fill\": {\"color\": \"#C8D4E3\"}, \"line\": {\"color\": \"white\"}}, \"type\": \"table\"}]}, \"layout\": {\"annotationdefaults\": {\"arrowcolor\": \"#2a3f5f\", \"arrowhead\": 0, \"arrowwidth\": 1}, \"autotypenumbers\": \"strict\", \"coloraxis\": {\"colorbar\": {\"outlinewidth\": 0, \"ticks\": \"\"}}, \"colorscale\": {\"diverging\": [[0, \"#8e0152\"], [0.1, \"#c51b7d\"], [0.2, \"#de77ae\"], [0.3, \"#f1b6da\"], [0.4, \"#fde0ef\"], [0.5, \"#f7f7f7\"], [0.6, \"#e6f5d0\"], [0.7, \"#b8e186\"], [0.8, \"#7fbc41\"], [0.9, \"#4d9221\"], [1, \"#276419\"]], \"sequential\": [[0.0, \"#0d0887\"], [0.1111111111111111, \"#46039f\"], [0.2222222222222222, \"#7201a8\"], [0.3333333333333333, \"#9c179e\"], [0.4444444444444444, \"#bd3786\"], [0.5555555555555556, \"#d8576b\"], [0.6666666666666666, \"#ed7953\"], [0.7777777777777778, \"#fb9f3a\"], [0.8888888888888888, \"#fdca26\"], [1.0, \"#f0f921\"]], \"sequentialminus\": [[0.0, \"#0d0887\"], [0.1111111111111111, \"#46039f\"], [0.2222222222222222, \"#7201a8\"], [0.3333333333333333, \"#9c179e\"], [0.4444444444444444, \"#bd3786\"], [0.5555555555555556, \"#d8576b\"], [0.6666666666666666, \"#ed7953\"], [0.7777777777777778, \"#fb9f3a\"], [0.8888888888888888, \"#fdca26\"], [1.0, \"#f0f921\"]]}, \"colorway\": [\"#636efa\", \"#EF553B\", \"#00cc96\", \"#ab63fa\", \"#FFA15A\", \"#19d3f3\", \"#FF6692\", \"#B6E880\", \"#FF97FF\", \"#FECB52\"], \"font\": {\"color\": \"#2a3f5f\"}, \"geo\": {\"bgcolor\": \"white\", \"lakecolor\": \"white\", \"landcolor\": \"#E5ECF6\", \"showlakes\": true, \"showland\": true, \"subunitcolor\": \"white\"}, \"hoverlabel\": {\"align\": \"left\"}, \"hovermode\": \"closest\", \"mapbox\": {\"style\": \"light\"}, \"paper_bgcolor\": \"white\", \"plot_bgcolor\": \"#E5ECF6\", \"polar\": {\"angularaxis\": {\"gridcolor\": \"white\", \"linecolor\": \"white\", \"ticks\": \"\"}, \"bgcolor\": \"#E5ECF6\", \"radialaxis\": {\"gridcolor\": \"white\", \"linecolor\": \"white\", \"ticks\": \"\"}}, \"scene\": {\"xaxis\": {\"backgroundcolor\": \"#E5ECF6\", \"gridcolor\": \"white\", \"gridwidth\": 2, \"linecolor\": \"white\", \"showbackground\": true, \"ticks\": \"\", \"zerolinecolor\": \"white\"}, \"yaxis\": {\"backgroundcolor\": \"#E5ECF6\", \"gridcolor\": \"white\", \"gridwidth\": 2, \"linecolor\": \"white\", \"showbackground\": true, \"ticks\": \"\", \"zerolinecolor\": \"white\"}, \"zaxis\": {\"backgroundcolor\": \"#E5ECF6\", \"gridcolor\": \"white\", \"gridwidth\": 2, \"linecolor\": \"white\", \"showbackground\": true, \"ticks\": \"\", \"zerolinecolor\": \"white\"}}, \"shapedefaults\": {\"line\": {\"color\": \"#2a3f5f\"}}, \"ternary\": {\"aaxis\": {\"gridcolor\": \"white\", \"linecolor\": \"white\", \"ticks\": \"\"}, \"baxis\": {\"gridcolor\": \"white\", \"linecolor\": \"white\", \"ticks\": \"\"}, \"bgcolor\": \"#E5ECF6\", \"caxis\": {\"gridcolor\": \"white\", \"linecolor\": \"white\", \"ticks\": \"\"}}, \"title\": {\"x\": 0.05}, \"xaxis\": {\"automargin\": true, \"gridcolor\": \"white\", \"linecolor\": \"white\", \"ticks\": \"\", \"title\": {\"standoff\": 15}, \"zerolinecolor\": \"white\", \"zerolinewidth\": 2}, \"yaxis\": {\"automargin\": true, \"gridcolor\": \"white\", \"linecolor\": \"white\", \"ticks\": \"\", \"title\": {\"standoff\": 15}, \"zerolinecolor\": \"white\", \"zerolinewidth\": 2}}}, \"title\": {\"text\": \"Type of measure frequency\"}, \"xaxis\": {\"title\": {\"text\": \"Index\"}}, \"yaxis\": {\"title\": {\"text\": \"Frequency\"}}},                        {\"responsive\": true}                    ).then(function(){\n                            \nvar gd = document.getElementById('61b20dc7-37d4-4103-97b6-1b4a02dc2b60');\nvar x = new MutationObserver(function (mutations, observer) {{\n        var display = window.getComputedStyle(gd).display;\n        if (!display || display === 'none') {{\n            console.log([gd, 'removed!']);\n            Plotly.purge(gd);\n            observer.disconnect();\n        }}\n}});\n\n// Listen for the removal of the full notebook cells\nvar notebookContainer = gd.closest('#notebook-container');\nif (notebookContainer) {{\n    x.observe(notebookContainer, {childList: true});\n}}\n\n// Listen for the clearing of the current output cell\nvar outputEl = gd.closest('.output');\nif (outputEl) {{\n    x.observe(outputEl, {childList: true});\n}}\n\n                        })                };                });            </script>        </div>"
     },
     "metadata": {},
     "output_type": "display_data"
    }
   ],
   "source": [
    "plotly_bar_chart_graphic(\"Type of measure frequency\", df_tom_table['index'],\n",
    "                         df_tom_table['Frequency'], \"Index\", \"Frequency\")"
   ],
   "metadata": {
    "collapsed": false,
    "pycharm": {
     "name": "#%%\n"
    }
   }
  },
  {
   "cell_type": "markdown",
   "source": [
    "### Value table"
   ],
   "metadata": {
    "collapsed": false,
    "pycharm": {
     "name": "#%% md\n"
    }
   }
  },
  {
   "cell_type": "code",
   "execution_count": 41,
   "outputs": [
    {
     "data": {
      "text/plain": "                                         index  Values\n0  Legislations or other statutory regulations     658\n1                Other initiatives or policies     121\n2              Bipartite collective agreements      69\n3   Non-binding recommendations or other texts      46\n4                            Company practices      24\n5                        Tripartite agreements      17",
      "text/html": "<div>\n<style scoped>\n    .dataframe tbody tr th:only-of-type {\n        vertical-align: middle;\n    }\n\n    .dataframe tbody tr th {\n        vertical-align: top;\n    }\n\n    .dataframe thead th {\n        text-align: right;\n    }\n</style>\n<table border=\"1\" class=\"dataframe\">\n  <thead>\n    <tr style=\"text-align: right;\">\n      <th></th>\n      <th>index</th>\n      <th>Values</th>\n    </tr>\n  </thead>\n  <tbody>\n    <tr>\n      <th>0</th>\n      <td>Legislations or other statutory regulations</td>\n      <td>658</td>\n    </tr>\n    <tr>\n      <th>1</th>\n      <td>Other initiatives or policies</td>\n      <td>121</td>\n    </tr>\n    <tr>\n      <th>2</th>\n      <td>Bipartite collective agreements</td>\n      <td>69</td>\n    </tr>\n    <tr>\n      <th>3</th>\n      <td>Non-binding recommendations or other texts</td>\n      <td>46</td>\n    </tr>\n    <tr>\n      <th>4</th>\n      <td>Company practices</td>\n      <td>24</td>\n    </tr>\n    <tr>\n      <th>5</th>\n      <td>Tripartite agreements</td>\n      <td>17</td>\n    </tr>\n  </tbody>\n</table>\n</div>"
     },
     "execution_count": 41,
     "metadata": {},
     "output_type": "execute_result"
    }
   ],
   "source": [
    "df_tom_table_values = pd.DataFrame({'Values': tom_count})\n",
    "df_tom_table_values = df_tom_table_values.reset_index()\n",
    "df_tom_table_values"
   ],
   "metadata": {
    "collapsed": false,
    "pycharm": {
     "name": "#%%\n"
    }
   }
  },
  {
   "cell_type": "code",
   "execution_count": 42,
   "outputs": [
    {
     "data": {
      "application/vnd.plotly.v1+json": {
       "config": {
        "linkText": "Export to plot.ly",
        "plotlyServerURL": "https://plot.ly",
        "showLink": false
       },
       "data": [
        {
         "type": "bar",
         "x": [
          "Legislations or other statutory regulations",
          "Other initiatives or policies",
          "Bipartite collective agreements",
          "Non-binding recommendations or other texts",
          "Company practices",
          "Tripartite agreements"
         ],
         "y": [
          658,
          121,
          69,
          46,
          24,
          17
         ]
        }
       ],
       "layout": {
        "template": {
         "data": {
          "bar": [
           {
            "error_x": {
             "color": "#2a3f5f"
            },
            "error_y": {
             "color": "#2a3f5f"
            },
            "marker": {
             "line": {
              "color": "#E5ECF6",
              "width": 0.5
             }
            },
            "type": "bar"
           }
          ],
          "barpolar": [
           {
            "marker": {
             "line": {
              "color": "#E5ECF6",
              "width": 0.5
             }
            },
            "type": "barpolar"
           }
          ],
          "carpet": [
           {
            "aaxis": {
             "endlinecolor": "#2a3f5f",
             "gridcolor": "white",
             "linecolor": "white",
             "minorgridcolor": "white",
             "startlinecolor": "#2a3f5f"
            },
            "baxis": {
             "endlinecolor": "#2a3f5f",
             "gridcolor": "white",
             "linecolor": "white",
             "minorgridcolor": "white",
             "startlinecolor": "#2a3f5f"
            },
            "type": "carpet"
           }
          ],
          "choropleth": [
           {
            "colorbar": {
             "outlinewidth": 0,
             "ticks": ""
            },
            "type": "choropleth"
           }
          ],
          "contour": [
           {
            "colorbar": {
             "outlinewidth": 0,
             "ticks": ""
            },
            "colorscale": [
             [
              0.0,
              "#0d0887"
             ],
             [
              0.1111111111111111,
              "#46039f"
             ],
             [
              0.2222222222222222,
              "#7201a8"
             ],
             [
              0.3333333333333333,
              "#9c179e"
             ],
             [
              0.4444444444444444,
              "#bd3786"
             ],
             [
              0.5555555555555556,
              "#d8576b"
             ],
             [
              0.6666666666666666,
              "#ed7953"
             ],
             [
              0.7777777777777778,
              "#fb9f3a"
             ],
             [
              0.8888888888888888,
              "#fdca26"
             ],
             [
              1.0,
              "#f0f921"
             ]
            ],
            "type": "contour"
           }
          ],
          "contourcarpet": [
           {
            "colorbar": {
             "outlinewidth": 0,
             "ticks": ""
            },
            "type": "contourcarpet"
           }
          ],
          "heatmap": [
           {
            "colorbar": {
             "outlinewidth": 0,
             "ticks": ""
            },
            "colorscale": [
             [
              0.0,
              "#0d0887"
             ],
             [
              0.1111111111111111,
              "#46039f"
             ],
             [
              0.2222222222222222,
              "#7201a8"
             ],
             [
              0.3333333333333333,
              "#9c179e"
             ],
             [
              0.4444444444444444,
              "#bd3786"
             ],
             [
              0.5555555555555556,
              "#d8576b"
             ],
             [
              0.6666666666666666,
              "#ed7953"
             ],
             [
              0.7777777777777778,
              "#fb9f3a"
             ],
             [
              0.8888888888888888,
              "#fdca26"
             ],
             [
              1.0,
              "#f0f921"
             ]
            ],
            "type": "heatmap"
           }
          ],
          "heatmapgl": [
           {
            "colorbar": {
             "outlinewidth": 0,
             "ticks": ""
            },
            "colorscale": [
             [
              0.0,
              "#0d0887"
             ],
             [
              0.1111111111111111,
              "#46039f"
             ],
             [
              0.2222222222222222,
              "#7201a8"
             ],
             [
              0.3333333333333333,
              "#9c179e"
             ],
             [
              0.4444444444444444,
              "#bd3786"
             ],
             [
              0.5555555555555556,
              "#d8576b"
             ],
             [
              0.6666666666666666,
              "#ed7953"
             ],
             [
              0.7777777777777778,
              "#fb9f3a"
             ],
             [
              0.8888888888888888,
              "#fdca26"
             ],
             [
              1.0,
              "#f0f921"
             ]
            ],
            "type": "heatmapgl"
           }
          ],
          "histogram": [
           {
            "marker": {
             "colorbar": {
              "outlinewidth": 0,
              "ticks": ""
             }
            },
            "type": "histogram"
           }
          ],
          "histogram2d": [
           {
            "colorbar": {
             "outlinewidth": 0,
             "ticks": ""
            },
            "colorscale": [
             [
              0.0,
              "#0d0887"
             ],
             [
              0.1111111111111111,
              "#46039f"
             ],
             [
              0.2222222222222222,
              "#7201a8"
             ],
             [
              0.3333333333333333,
              "#9c179e"
             ],
             [
              0.4444444444444444,
              "#bd3786"
             ],
             [
              0.5555555555555556,
              "#d8576b"
             ],
             [
              0.6666666666666666,
              "#ed7953"
             ],
             [
              0.7777777777777778,
              "#fb9f3a"
             ],
             [
              0.8888888888888888,
              "#fdca26"
             ],
             [
              1.0,
              "#f0f921"
             ]
            ],
            "type": "histogram2d"
           }
          ],
          "histogram2dcontour": [
           {
            "colorbar": {
             "outlinewidth": 0,
             "ticks": ""
            },
            "colorscale": [
             [
              0.0,
              "#0d0887"
             ],
             [
              0.1111111111111111,
              "#46039f"
             ],
             [
              0.2222222222222222,
              "#7201a8"
             ],
             [
              0.3333333333333333,
              "#9c179e"
             ],
             [
              0.4444444444444444,
              "#bd3786"
             ],
             [
              0.5555555555555556,
              "#d8576b"
             ],
             [
              0.6666666666666666,
              "#ed7953"
             ],
             [
              0.7777777777777778,
              "#fb9f3a"
             ],
             [
              0.8888888888888888,
              "#fdca26"
             ],
             [
              1.0,
              "#f0f921"
             ]
            ],
            "type": "histogram2dcontour"
           }
          ],
          "mesh3d": [
           {
            "colorbar": {
             "outlinewidth": 0,
             "ticks": ""
            },
            "type": "mesh3d"
           }
          ],
          "parcoords": [
           {
            "line": {
             "colorbar": {
              "outlinewidth": 0,
              "ticks": ""
             }
            },
            "type": "parcoords"
           }
          ],
          "pie": [
           {
            "automargin": true,
            "type": "pie"
           }
          ],
          "scatter": [
           {
            "marker": {
             "colorbar": {
              "outlinewidth": 0,
              "ticks": ""
             }
            },
            "type": "scatter"
           }
          ],
          "scatter3d": [
           {
            "line": {
             "colorbar": {
              "outlinewidth": 0,
              "ticks": ""
             }
            },
            "marker": {
             "colorbar": {
              "outlinewidth": 0,
              "ticks": ""
             }
            },
            "type": "scatter3d"
           }
          ],
          "scattercarpet": [
           {
            "marker": {
             "colorbar": {
              "outlinewidth": 0,
              "ticks": ""
             }
            },
            "type": "scattercarpet"
           }
          ],
          "scattergeo": [
           {
            "marker": {
             "colorbar": {
              "outlinewidth": 0,
              "ticks": ""
             }
            },
            "type": "scattergeo"
           }
          ],
          "scattergl": [
           {
            "marker": {
             "colorbar": {
              "outlinewidth": 0,
              "ticks": ""
             }
            },
            "type": "scattergl"
           }
          ],
          "scattermapbox": [
           {
            "marker": {
             "colorbar": {
              "outlinewidth": 0,
              "ticks": ""
             }
            },
            "type": "scattermapbox"
           }
          ],
          "scatterpolar": [
           {
            "marker": {
             "colorbar": {
              "outlinewidth": 0,
              "ticks": ""
             }
            },
            "type": "scatterpolar"
           }
          ],
          "scatterpolargl": [
           {
            "marker": {
             "colorbar": {
              "outlinewidth": 0,
              "ticks": ""
             }
            },
            "type": "scatterpolargl"
           }
          ],
          "scatterternary": [
           {
            "marker": {
             "colorbar": {
              "outlinewidth": 0,
              "ticks": ""
             }
            },
            "type": "scatterternary"
           }
          ],
          "surface": [
           {
            "colorbar": {
             "outlinewidth": 0,
             "ticks": ""
            },
            "colorscale": [
             [
              0.0,
              "#0d0887"
             ],
             [
              0.1111111111111111,
              "#46039f"
             ],
             [
              0.2222222222222222,
              "#7201a8"
             ],
             [
              0.3333333333333333,
              "#9c179e"
             ],
             [
              0.4444444444444444,
              "#bd3786"
             ],
             [
              0.5555555555555556,
              "#d8576b"
             ],
             [
              0.6666666666666666,
              "#ed7953"
             ],
             [
              0.7777777777777778,
              "#fb9f3a"
             ],
             [
              0.8888888888888888,
              "#fdca26"
             ],
             [
              1.0,
              "#f0f921"
             ]
            ],
            "type": "surface"
           }
          ],
          "table": [
           {
            "cells": {
             "fill": {
              "color": "#EBF0F8"
             },
             "line": {
              "color": "white"
             }
            },
            "header": {
             "fill": {
              "color": "#C8D4E3"
             },
             "line": {
              "color": "white"
             }
            },
            "type": "table"
           }
          ]
         },
         "layout": {
          "annotationdefaults": {
           "arrowcolor": "#2a3f5f",
           "arrowhead": 0,
           "arrowwidth": 1
          },
          "autotypenumbers": "strict",
          "coloraxis": {
           "colorbar": {
            "outlinewidth": 0,
            "ticks": ""
           }
          },
          "colorscale": {
           "diverging": [
            [
             0,
             "#8e0152"
            ],
            [
             0.1,
             "#c51b7d"
            ],
            [
             0.2,
             "#de77ae"
            ],
            [
             0.3,
             "#f1b6da"
            ],
            [
             0.4,
             "#fde0ef"
            ],
            [
             0.5,
             "#f7f7f7"
            ],
            [
             0.6,
             "#e6f5d0"
            ],
            [
             0.7,
             "#b8e186"
            ],
            [
             0.8,
             "#7fbc41"
            ],
            [
             0.9,
             "#4d9221"
            ],
            [
             1,
             "#276419"
            ]
           ],
           "sequential": [
            [
             0.0,
             "#0d0887"
            ],
            [
             0.1111111111111111,
             "#46039f"
            ],
            [
             0.2222222222222222,
             "#7201a8"
            ],
            [
             0.3333333333333333,
             "#9c179e"
            ],
            [
             0.4444444444444444,
             "#bd3786"
            ],
            [
             0.5555555555555556,
             "#d8576b"
            ],
            [
             0.6666666666666666,
             "#ed7953"
            ],
            [
             0.7777777777777778,
             "#fb9f3a"
            ],
            [
             0.8888888888888888,
             "#fdca26"
            ],
            [
             1.0,
             "#f0f921"
            ]
           ],
           "sequentialminus": [
            [
             0.0,
             "#0d0887"
            ],
            [
             0.1111111111111111,
             "#46039f"
            ],
            [
             0.2222222222222222,
             "#7201a8"
            ],
            [
             0.3333333333333333,
             "#9c179e"
            ],
            [
             0.4444444444444444,
             "#bd3786"
            ],
            [
             0.5555555555555556,
             "#d8576b"
            ],
            [
             0.6666666666666666,
             "#ed7953"
            ],
            [
             0.7777777777777778,
             "#fb9f3a"
            ],
            [
             0.8888888888888888,
             "#fdca26"
            ],
            [
             1.0,
             "#f0f921"
            ]
           ]
          },
          "colorway": [
           "#636efa",
           "#EF553B",
           "#00cc96",
           "#ab63fa",
           "#FFA15A",
           "#19d3f3",
           "#FF6692",
           "#B6E880",
           "#FF97FF",
           "#FECB52"
          ],
          "font": {
           "color": "#2a3f5f"
          },
          "geo": {
           "bgcolor": "white",
           "lakecolor": "white",
           "landcolor": "#E5ECF6",
           "showlakes": true,
           "showland": true,
           "subunitcolor": "white"
          },
          "hoverlabel": {
           "align": "left"
          },
          "hovermode": "closest",
          "mapbox": {
           "style": "light"
          },
          "paper_bgcolor": "white",
          "plot_bgcolor": "#E5ECF6",
          "polar": {
           "angularaxis": {
            "gridcolor": "white",
            "linecolor": "white",
            "ticks": ""
           },
           "bgcolor": "#E5ECF6",
           "radialaxis": {
            "gridcolor": "white",
            "linecolor": "white",
            "ticks": ""
           }
          },
          "scene": {
           "xaxis": {
            "backgroundcolor": "#E5ECF6",
            "gridcolor": "white",
            "gridwidth": 2,
            "linecolor": "white",
            "showbackground": true,
            "ticks": "",
            "zerolinecolor": "white"
           },
           "yaxis": {
            "backgroundcolor": "#E5ECF6",
            "gridcolor": "white",
            "gridwidth": 2,
            "linecolor": "white",
            "showbackground": true,
            "ticks": "",
            "zerolinecolor": "white"
           },
           "zaxis": {
            "backgroundcolor": "#E5ECF6",
            "gridcolor": "white",
            "gridwidth": 2,
            "linecolor": "white",
            "showbackground": true,
            "ticks": "",
            "zerolinecolor": "white"
           }
          },
          "shapedefaults": {
           "line": {
            "color": "#2a3f5f"
           }
          },
          "ternary": {
           "aaxis": {
            "gridcolor": "white",
            "linecolor": "white",
            "ticks": ""
           },
           "baxis": {
            "gridcolor": "white",
            "linecolor": "white",
            "ticks": ""
           },
           "bgcolor": "#E5ECF6",
           "caxis": {
            "gridcolor": "white",
            "linecolor": "white",
            "ticks": ""
           }
          },
          "title": {
           "x": 0.05
          },
          "xaxis": {
           "automargin": true,
           "gridcolor": "white",
           "linecolor": "white",
           "ticks": "",
           "title": {
            "standoff": 15
           },
           "zerolinecolor": "white",
           "zerolinewidth": 2
          },
          "yaxis": {
           "automargin": true,
           "gridcolor": "white",
           "linecolor": "white",
           "ticks": "",
           "title": {
            "standoff": 15
           },
           "zerolinecolor": "white",
           "zerolinewidth": 2
          }
         }
        },
        "title": {
         "text": "Type of Measure Values"
        },
        "xaxis": {
         "title": {
          "text": "Index"
         }
        },
        "yaxis": {
         "title": {
          "text": "Values"
         }
        }
       }
      },
      "text/html": "<div>                            <div id=\"73d0a5fd-5cd0-4f82-aa96-d76f3524f444\" class=\"plotly-graph-div\" style=\"height:525px; width:100%;\"></div>            <script type=\"text/javascript\">                require([\"plotly\"], function(Plotly) {                    window.PLOTLYENV=window.PLOTLYENV || {};                                    if (document.getElementById(\"73d0a5fd-5cd0-4f82-aa96-d76f3524f444\")) {                    Plotly.newPlot(                        \"73d0a5fd-5cd0-4f82-aa96-d76f3524f444\",                        [{\"type\": \"bar\", \"x\": [\"Legislations or other statutory regulations\", \"Other initiatives or policies\", \"Bipartite collective agreements\", \"Non-binding recommendations or other texts\", \"Company practices\", \"Tripartite agreements\"], \"y\": [658, 121, 69, 46, 24, 17]}],                        {\"template\": {\"data\": {\"bar\": [{\"error_x\": {\"color\": \"#2a3f5f\"}, \"error_y\": {\"color\": \"#2a3f5f\"}, \"marker\": {\"line\": {\"color\": \"#E5ECF6\", \"width\": 0.5}}, \"type\": \"bar\"}], \"barpolar\": [{\"marker\": {\"line\": {\"color\": \"#E5ECF6\", \"width\": 0.5}}, \"type\": \"barpolar\"}], \"carpet\": [{\"aaxis\": {\"endlinecolor\": \"#2a3f5f\", \"gridcolor\": \"white\", \"linecolor\": \"white\", \"minorgridcolor\": \"white\", \"startlinecolor\": \"#2a3f5f\"}, \"baxis\": {\"endlinecolor\": \"#2a3f5f\", \"gridcolor\": \"white\", \"linecolor\": \"white\", \"minorgridcolor\": \"white\", \"startlinecolor\": \"#2a3f5f\"}, \"type\": \"carpet\"}], \"choropleth\": [{\"colorbar\": {\"outlinewidth\": 0, \"ticks\": \"\"}, \"type\": \"choropleth\"}], \"contour\": [{\"colorbar\": {\"outlinewidth\": 0, \"ticks\": \"\"}, \"colorscale\": [[0.0, \"#0d0887\"], [0.1111111111111111, \"#46039f\"], [0.2222222222222222, \"#7201a8\"], [0.3333333333333333, \"#9c179e\"], [0.4444444444444444, \"#bd3786\"], [0.5555555555555556, \"#d8576b\"], [0.6666666666666666, \"#ed7953\"], [0.7777777777777778, \"#fb9f3a\"], [0.8888888888888888, \"#fdca26\"], [1.0, \"#f0f921\"]], \"type\": \"contour\"}], \"contourcarpet\": [{\"colorbar\": {\"outlinewidth\": 0, \"ticks\": \"\"}, \"type\": \"contourcarpet\"}], \"heatmap\": [{\"colorbar\": {\"outlinewidth\": 0, \"ticks\": \"\"}, \"colorscale\": [[0.0, \"#0d0887\"], [0.1111111111111111, \"#46039f\"], [0.2222222222222222, \"#7201a8\"], [0.3333333333333333, \"#9c179e\"], [0.4444444444444444, \"#bd3786\"], [0.5555555555555556, \"#d8576b\"], [0.6666666666666666, \"#ed7953\"], [0.7777777777777778, \"#fb9f3a\"], [0.8888888888888888, \"#fdca26\"], [1.0, \"#f0f921\"]], \"type\": \"heatmap\"}], \"heatmapgl\": [{\"colorbar\": {\"outlinewidth\": 0, \"ticks\": \"\"}, \"colorscale\": [[0.0, \"#0d0887\"], [0.1111111111111111, \"#46039f\"], [0.2222222222222222, \"#7201a8\"], [0.3333333333333333, \"#9c179e\"], [0.4444444444444444, \"#bd3786\"], [0.5555555555555556, \"#d8576b\"], [0.6666666666666666, \"#ed7953\"], [0.7777777777777778, \"#fb9f3a\"], [0.8888888888888888, \"#fdca26\"], [1.0, \"#f0f921\"]], \"type\": \"heatmapgl\"}], \"histogram\": [{\"marker\": {\"colorbar\": {\"outlinewidth\": 0, \"ticks\": \"\"}}, \"type\": \"histogram\"}], \"histogram2d\": [{\"colorbar\": {\"outlinewidth\": 0, \"ticks\": \"\"}, \"colorscale\": [[0.0, \"#0d0887\"], [0.1111111111111111, \"#46039f\"], [0.2222222222222222, \"#7201a8\"], [0.3333333333333333, \"#9c179e\"], [0.4444444444444444, \"#bd3786\"], [0.5555555555555556, \"#d8576b\"], [0.6666666666666666, \"#ed7953\"], [0.7777777777777778, \"#fb9f3a\"], [0.8888888888888888, \"#fdca26\"], [1.0, \"#f0f921\"]], \"type\": \"histogram2d\"}], \"histogram2dcontour\": [{\"colorbar\": {\"outlinewidth\": 0, \"ticks\": \"\"}, \"colorscale\": [[0.0, \"#0d0887\"], [0.1111111111111111, \"#46039f\"], [0.2222222222222222, \"#7201a8\"], [0.3333333333333333, \"#9c179e\"], [0.4444444444444444, \"#bd3786\"], [0.5555555555555556, \"#d8576b\"], [0.6666666666666666, \"#ed7953\"], [0.7777777777777778, \"#fb9f3a\"], [0.8888888888888888, \"#fdca26\"], [1.0, \"#f0f921\"]], \"type\": \"histogram2dcontour\"}], \"mesh3d\": [{\"colorbar\": {\"outlinewidth\": 0, \"ticks\": \"\"}, \"type\": \"mesh3d\"}], \"parcoords\": [{\"line\": {\"colorbar\": {\"outlinewidth\": 0, \"ticks\": \"\"}}, \"type\": \"parcoords\"}], \"pie\": [{\"automargin\": true, \"type\": \"pie\"}], \"scatter\": [{\"marker\": {\"colorbar\": {\"outlinewidth\": 0, \"ticks\": \"\"}}, \"type\": \"scatter\"}], \"scatter3d\": [{\"line\": {\"colorbar\": {\"outlinewidth\": 0, \"ticks\": \"\"}}, \"marker\": {\"colorbar\": {\"outlinewidth\": 0, \"ticks\": \"\"}}, \"type\": \"scatter3d\"}], \"scattercarpet\": [{\"marker\": {\"colorbar\": {\"outlinewidth\": 0, \"ticks\": \"\"}}, \"type\": \"scattercarpet\"}], \"scattergeo\": [{\"marker\": {\"colorbar\": {\"outlinewidth\": 0, \"ticks\": \"\"}}, \"type\": \"scattergeo\"}], \"scattergl\": [{\"marker\": {\"colorbar\": {\"outlinewidth\": 0, \"ticks\": \"\"}}, \"type\": \"scattergl\"}], \"scattermapbox\": [{\"marker\": {\"colorbar\": {\"outlinewidth\": 0, \"ticks\": \"\"}}, \"type\": \"scattermapbox\"}], \"scatterpolar\": [{\"marker\": {\"colorbar\": {\"outlinewidth\": 0, \"ticks\": \"\"}}, \"type\": \"scatterpolar\"}], \"scatterpolargl\": [{\"marker\": {\"colorbar\": {\"outlinewidth\": 0, \"ticks\": \"\"}}, \"type\": \"scatterpolargl\"}], \"scatterternary\": [{\"marker\": {\"colorbar\": {\"outlinewidth\": 0, \"ticks\": \"\"}}, \"type\": \"scatterternary\"}], \"surface\": [{\"colorbar\": {\"outlinewidth\": 0, \"ticks\": \"\"}, \"colorscale\": [[0.0, \"#0d0887\"], [0.1111111111111111, \"#46039f\"], [0.2222222222222222, \"#7201a8\"], [0.3333333333333333, \"#9c179e\"], [0.4444444444444444, \"#bd3786\"], [0.5555555555555556, \"#d8576b\"], [0.6666666666666666, \"#ed7953\"], [0.7777777777777778, \"#fb9f3a\"], [0.8888888888888888, \"#fdca26\"], [1.0, \"#f0f921\"]], \"type\": \"surface\"}], \"table\": [{\"cells\": {\"fill\": {\"color\": \"#EBF0F8\"}, \"line\": {\"color\": \"white\"}}, \"header\": {\"fill\": {\"color\": \"#C8D4E3\"}, \"line\": {\"color\": \"white\"}}, \"type\": \"table\"}]}, \"layout\": {\"annotationdefaults\": {\"arrowcolor\": \"#2a3f5f\", \"arrowhead\": 0, \"arrowwidth\": 1}, \"autotypenumbers\": \"strict\", \"coloraxis\": {\"colorbar\": {\"outlinewidth\": 0, \"ticks\": \"\"}}, \"colorscale\": {\"diverging\": [[0, \"#8e0152\"], [0.1, \"#c51b7d\"], [0.2, \"#de77ae\"], [0.3, \"#f1b6da\"], [0.4, \"#fde0ef\"], [0.5, \"#f7f7f7\"], [0.6, \"#e6f5d0\"], [0.7, \"#b8e186\"], [0.8, \"#7fbc41\"], [0.9, \"#4d9221\"], [1, \"#276419\"]], \"sequential\": [[0.0, \"#0d0887\"], [0.1111111111111111, \"#46039f\"], [0.2222222222222222, \"#7201a8\"], [0.3333333333333333, \"#9c179e\"], [0.4444444444444444, \"#bd3786\"], [0.5555555555555556, \"#d8576b\"], [0.6666666666666666, \"#ed7953\"], [0.7777777777777778, \"#fb9f3a\"], [0.8888888888888888, \"#fdca26\"], [1.0, \"#f0f921\"]], \"sequentialminus\": [[0.0, \"#0d0887\"], [0.1111111111111111, \"#46039f\"], [0.2222222222222222, \"#7201a8\"], [0.3333333333333333, \"#9c179e\"], [0.4444444444444444, \"#bd3786\"], [0.5555555555555556, \"#d8576b\"], [0.6666666666666666, \"#ed7953\"], [0.7777777777777778, \"#fb9f3a\"], [0.8888888888888888, \"#fdca26\"], [1.0, \"#f0f921\"]]}, \"colorway\": [\"#636efa\", \"#EF553B\", \"#00cc96\", \"#ab63fa\", \"#FFA15A\", \"#19d3f3\", \"#FF6692\", \"#B6E880\", \"#FF97FF\", \"#FECB52\"], \"font\": {\"color\": \"#2a3f5f\"}, \"geo\": {\"bgcolor\": \"white\", \"lakecolor\": \"white\", \"landcolor\": \"#E5ECF6\", \"showlakes\": true, \"showland\": true, \"subunitcolor\": \"white\"}, \"hoverlabel\": {\"align\": \"left\"}, \"hovermode\": \"closest\", \"mapbox\": {\"style\": \"light\"}, \"paper_bgcolor\": \"white\", \"plot_bgcolor\": \"#E5ECF6\", \"polar\": {\"angularaxis\": {\"gridcolor\": \"white\", \"linecolor\": \"white\", \"ticks\": \"\"}, \"bgcolor\": \"#E5ECF6\", \"radialaxis\": {\"gridcolor\": \"white\", \"linecolor\": \"white\", \"ticks\": \"\"}}, \"scene\": {\"xaxis\": {\"backgroundcolor\": \"#E5ECF6\", \"gridcolor\": \"white\", \"gridwidth\": 2, \"linecolor\": \"white\", \"showbackground\": true, \"ticks\": \"\", \"zerolinecolor\": \"white\"}, \"yaxis\": {\"backgroundcolor\": \"#E5ECF6\", \"gridcolor\": \"white\", \"gridwidth\": 2, \"linecolor\": \"white\", \"showbackground\": true, \"ticks\": \"\", \"zerolinecolor\": \"white\"}, \"zaxis\": {\"backgroundcolor\": \"#E5ECF6\", \"gridcolor\": \"white\", \"gridwidth\": 2, \"linecolor\": \"white\", \"showbackground\": true, \"ticks\": \"\", \"zerolinecolor\": \"white\"}}, \"shapedefaults\": {\"line\": {\"color\": \"#2a3f5f\"}}, \"ternary\": {\"aaxis\": {\"gridcolor\": \"white\", \"linecolor\": \"white\", \"ticks\": \"\"}, \"baxis\": {\"gridcolor\": \"white\", \"linecolor\": \"white\", \"ticks\": \"\"}, \"bgcolor\": \"#E5ECF6\", \"caxis\": {\"gridcolor\": \"white\", \"linecolor\": \"white\", \"ticks\": \"\"}}, \"title\": {\"x\": 0.05}, \"xaxis\": {\"automargin\": true, \"gridcolor\": \"white\", \"linecolor\": \"white\", \"ticks\": \"\", \"title\": {\"standoff\": 15}, \"zerolinecolor\": \"white\", \"zerolinewidth\": 2}, \"yaxis\": {\"automargin\": true, \"gridcolor\": \"white\", \"linecolor\": \"white\", \"ticks\": \"\", \"title\": {\"standoff\": 15}, \"zerolinecolor\": \"white\", \"zerolinewidth\": 2}}}, \"title\": {\"text\": \"Type of Measure Values\"}, \"xaxis\": {\"title\": {\"text\": \"Index\"}}, \"yaxis\": {\"title\": {\"text\": \"Values\"}}},                        {\"responsive\": true}                    ).then(function(){\n                            \nvar gd = document.getElementById('73d0a5fd-5cd0-4f82-aa96-d76f3524f444');\nvar x = new MutationObserver(function (mutations, observer) {{\n        var display = window.getComputedStyle(gd).display;\n        if (!display || display === 'none') {{\n            console.log([gd, 'removed!']);\n            Plotly.purge(gd);\n            observer.disconnect();\n        }}\n}});\n\n// Listen for the removal of the full notebook cells\nvar notebookContainer = gd.closest('#notebook-container');\nif (notebookContainer) {{\n    x.observe(notebookContainer, {childList: true});\n}}\n\n// Listen for the clearing of the current output cell\nvar outputEl = gd.closest('.output');\nif (outputEl) {{\n    x.observe(outputEl, {childList: true});\n}}\n\n                        })                };                });            </script>        </div>"
     },
     "metadata": {},
     "output_type": "display_data"
    }
   ],
   "source": [
    "plotly_bar_chart_graphic(\"Type of Measure Values\", df_tom_table_values['index'],\n",
    "                         df_tom_table_values['Values'], \"Index\", \"Values\")"
   ],
   "metadata": {
    "collapsed": false,
    "pycharm": {
     "name": "#%%\n"
    }
   }
  },
  {
   "cell_type": "markdown",
   "source": [
    "## Category\n",
    "### Frequency table\n"
   ],
   "metadata": {
    "collapsed": false,
    "pycharm": {
     "name": "#%% md\n"
    }
   }
  },
  {
   "cell_type": "code",
   "execution_count": 11,
   "outputs": [
    {
     "data": {
      "text/plain": "                                               index  Frequency\n0               Supporting businesses to stay afloat    30.16 %\n1           Income protection beyond short-time work    13.80 %\n2     Protection of workers, adaptation of workplace    11.98 %\n3  Promoting the economic, labour market and soci...    11.23 %\n4  Ensuring business continuity and support for e...     9.63 %\n5                Employment protection and retention     9.41 %\n6                Measures to prevent social hardship     7.70 %\n7        Supporting businesses to get back to normal     3.53 %\n8               Reorientation of business activities     2.57 %",
      "text/html": "<div>\n<style scoped>\n    .dataframe tbody tr th:only-of-type {\n        vertical-align: middle;\n    }\n\n    .dataframe tbody tr th {\n        vertical-align: top;\n    }\n\n    .dataframe thead th {\n        text-align: right;\n    }\n</style>\n<table border=\"1\" class=\"dataframe\">\n  <thead>\n    <tr style=\"text-align: right;\">\n      <th></th>\n      <th>index</th>\n      <th>Frequency</th>\n    </tr>\n  </thead>\n  <tbody>\n    <tr>\n      <th>0</th>\n      <td>Supporting businesses to stay afloat</td>\n      <td>30.16 %</td>\n    </tr>\n    <tr>\n      <th>1</th>\n      <td>Income protection beyond short-time work</td>\n      <td>13.80 %</td>\n    </tr>\n    <tr>\n      <th>2</th>\n      <td>Protection of workers, adaptation of workplace</td>\n      <td>11.98 %</td>\n    </tr>\n    <tr>\n      <th>3</th>\n      <td>Promoting the economic, labour market and soci...</td>\n      <td>11.23 %</td>\n    </tr>\n    <tr>\n      <th>4</th>\n      <td>Ensuring business continuity and support for e...</td>\n      <td>9.63 %</td>\n    </tr>\n    <tr>\n      <th>5</th>\n      <td>Employment protection and retention</td>\n      <td>9.41 %</td>\n    </tr>\n    <tr>\n      <th>6</th>\n      <td>Measures to prevent social hardship</td>\n      <td>7.70 %</td>\n    </tr>\n    <tr>\n      <th>7</th>\n      <td>Supporting businesses to get back to normal</td>\n      <td>3.53 %</td>\n    </tr>\n    <tr>\n      <th>8</th>\n      <td>Reorientation of business activities</td>\n      <td>2.57 %</td>\n    </tr>\n  </tbody>\n</table>\n</div>"
     },
     "execution_count": 11,
     "metadata": {},
     "output_type": "execute_result"
    }
   ],
   "source": [
    "pd.options.display.float_format = '{:,.2f} %'.format\n",
    "cat_count = df['Category'].value_counts()\n",
    "cat_data = df['Category'].unique()\n",
    "vc_cat = df['Category'].value_counts()\n",
    "df_cat = pd.DataFrame(df, columns=['Category'])\n",
    "df_cat = vc_cat / df['Category'].shape[0] * 100\n",
    "df_cat_table = pd.DataFrame({'Frequency': df_cat})\n",
    "df_cat_table = df_cat_table.reset_index()\n",
    "df_cat_table"
   ],
   "metadata": {
    "collapsed": false,
    "pycharm": {
     "name": "#%%\n"
    }
   }
  },
  {
   "cell_type": "code",
   "execution_count": 45,
   "outputs": [
    {
     "data": {
      "application/vnd.plotly.v1+json": {
       "config": {
        "linkText": "Export to plot.ly",
        "plotlyServerURL": "https://plot.ly",
        "showLink": false
       },
       "data": [
        {
         "type": "bar",
         "x": [
          "Supporting businesses to stay afloat",
          "Income protection beyond short-time work",
          "Protection of workers, adaptation of workplace",
          "Promoting the economic, labour market and social recovery",
          "Ensuring business continuity and support for essential services",
          "Employment protection and retention",
          "Measures to prevent social hardship",
          "Supporting businesses to get back to normal",
          "Reorientation of business activities"
         ],
         "y": [
          30.160427807486627,
          13.796791443850267,
          11.97860962566845,
          11.229946524064172,
          9.62566844919786,
          9.411764705882353,
          7.700534759358289,
          3.5294117647058822,
          2.5668449197860963
         ]
        }
       ],
       "layout": {
        "template": {
         "data": {
          "bar": [
           {
            "error_x": {
             "color": "#2a3f5f"
            },
            "error_y": {
             "color": "#2a3f5f"
            },
            "marker": {
             "line": {
              "color": "#E5ECF6",
              "width": 0.5
             }
            },
            "type": "bar"
           }
          ],
          "barpolar": [
           {
            "marker": {
             "line": {
              "color": "#E5ECF6",
              "width": 0.5
             }
            },
            "type": "barpolar"
           }
          ],
          "carpet": [
           {
            "aaxis": {
             "endlinecolor": "#2a3f5f",
             "gridcolor": "white",
             "linecolor": "white",
             "minorgridcolor": "white",
             "startlinecolor": "#2a3f5f"
            },
            "baxis": {
             "endlinecolor": "#2a3f5f",
             "gridcolor": "white",
             "linecolor": "white",
             "minorgridcolor": "white",
             "startlinecolor": "#2a3f5f"
            },
            "type": "carpet"
           }
          ],
          "choropleth": [
           {
            "colorbar": {
             "outlinewidth": 0,
             "ticks": ""
            },
            "type": "choropleth"
           }
          ],
          "contour": [
           {
            "colorbar": {
             "outlinewidth": 0,
             "ticks": ""
            },
            "colorscale": [
             [
              0.0,
              "#0d0887"
             ],
             [
              0.1111111111111111,
              "#46039f"
             ],
             [
              0.2222222222222222,
              "#7201a8"
             ],
             [
              0.3333333333333333,
              "#9c179e"
             ],
             [
              0.4444444444444444,
              "#bd3786"
             ],
             [
              0.5555555555555556,
              "#d8576b"
             ],
             [
              0.6666666666666666,
              "#ed7953"
             ],
             [
              0.7777777777777778,
              "#fb9f3a"
             ],
             [
              0.8888888888888888,
              "#fdca26"
             ],
             [
              1.0,
              "#f0f921"
             ]
            ],
            "type": "contour"
           }
          ],
          "contourcarpet": [
           {
            "colorbar": {
             "outlinewidth": 0,
             "ticks": ""
            },
            "type": "contourcarpet"
           }
          ],
          "heatmap": [
           {
            "colorbar": {
             "outlinewidth": 0,
             "ticks": ""
            },
            "colorscale": [
             [
              0.0,
              "#0d0887"
             ],
             [
              0.1111111111111111,
              "#46039f"
             ],
             [
              0.2222222222222222,
              "#7201a8"
             ],
             [
              0.3333333333333333,
              "#9c179e"
             ],
             [
              0.4444444444444444,
              "#bd3786"
             ],
             [
              0.5555555555555556,
              "#d8576b"
             ],
             [
              0.6666666666666666,
              "#ed7953"
             ],
             [
              0.7777777777777778,
              "#fb9f3a"
             ],
             [
              0.8888888888888888,
              "#fdca26"
             ],
             [
              1.0,
              "#f0f921"
             ]
            ],
            "type": "heatmap"
           }
          ],
          "heatmapgl": [
           {
            "colorbar": {
             "outlinewidth": 0,
             "ticks": ""
            },
            "colorscale": [
             [
              0.0,
              "#0d0887"
             ],
             [
              0.1111111111111111,
              "#46039f"
             ],
             [
              0.2222222222222222,
              "#7201a8"
             ],
             [
              0.3333333333333333,
              "#9c179e"
             ],
             [
              0.4444444444444444,
              "#bd3786"
             ],
             [
              0.5555555555555556,
              "#d8576b"
             ],
             [
              0.6666666666666666,
              "#ed7953"
             ],
             [
              0.7777777777777778,
              "#fb9f3a"
             ],
             [
              0.8888888888888888,
              "#fdca26"
             ],
             [
              1.0,
              "#f0f921"
             ]
            ],
            "type": "heatmapgl"
           }
          ],
          "histogram": [
           {
            "marker": {
             "colorbar": {
              "outlinewidth": 0,
              "ticks": ""
             }
            },
            "type": "histogram"
           }
          ],
          "histogram2d": [
           {
            "colorbar": {
             "outlinewidth": 0,
             "ticks": ""
            },
            "colorscale": [
             [
              0.0,
              "#0d0887"
             ],
             [
              0.1111111111111111,
              "#46039f"
             ],
             [
              0.2222222222222222,
              "#7201a8"
             ],
             [
              0.3333333333333333,
              "#9c179e"
             ],
             [
              0.4444444444444444,
              "#bd3786"
             ],
             [
              0.5555555555555556,
              "#d8576b"
             ],
             [
              0.6666666666666666,
              "#ed7953"
             ],
             [
              0.7777777777777778,
              "#fb9f3a"
             ],
             [
              0.8888888888888888,
              "#fdca26"
             ],
             [
              1.0,
              "#f0f921"
             ]
            ],
            "type": "histogram2d"
           }
          ],
          "histogram2dcontour": [
           {
            "colorbar": {
             "outlinewidth": 0,
             "ticks": ""
            },
            "colorscale": [
             [
              0.0,
              "#0d0887"
             ],
             [
              0.1111111111111111,
              "#46039f"
             ],
             [
              0.2222222222222222,
              "#7201a8"
             ],
             [
              0.3333333333333333,
              "#9c179e"
             ],
             [
              0.4444444444444444,
              "#bd3786"
             ],
             [
              0.5555555555555556,
              "#d8576b"
             ],
             [
              0.6666666666666666,
              "#ed7953"
             ],
             [
              0.7777777777777778,
              "#fb9f3a"
             ],
             [
              0.8888888888888888,
              "#fdca26"
             ],
             [
              1.0,
              "#f0f921"
             ]
            ],
            "type": "histogram2dcontour"
           }
          ],
          "mesh3d": [
           {
            "colorbar": {
             "outlinewidth": 0,
             "ticks": ""
            },
            "type": "mesh3d"
           }
          ],
          "parcoords": [
           {
            "line": {
             "colorbar": {
              "outlinewidth": 0,
              "ticks": ""
             }
            },
            "type": "parcoords"
           }
          ],
          "pie": [
           {
            "automargin": true,
            "type": "pie"
           }
          ],
          "scatter": [
           {
            "marker": {
             "colorbar": {
              "outlinewidth": 0,
              "ticks": ""
             }
            },
            "type": "scatter"
           }
          ],
          "scatter3d": [
           {
            "line": {
             "colorbar": {
              "outlinewidth": 0,
              "ticks": ""
             }
            },
            "marker": {
             "colorbar": {
              "outlinewidth": 0,
              "ticks": ""
             }
            },
            "type": "scatter3d"
           }
          ],
          "scattercarpet": [
           {
            "marker": {
             "colorbar": {
              "outlinewidth": 0,
              "ticks": ""
             }
            },
            "type": "scattercarpet"
           }
          ],
          "scattergeo": [
           {
            "marker": {
             "colorbar": {
              "outlinewidth": 0,
              "ticks": ""
             }
            },
            "type": "scattergeo"
           }
          ],
          "scattergl": [
           {
            "marker": {
             "colorbar": {
              "outlinewidth": 0,
              "ticks": ""
             }
            },
            "type": "scattergl"
           }
          ],
          "scattermapbox": [
           {
            "marker": {
             "colorbar": {
              "outlinewidth": 0,
              "ticks": ""
             }
            },
            "type": "scattermapbox"
           }
          ],
          "scatterpolar": [
           {
            "marker": {
             "colorbar": {
              "outlinewidth": 0,
              "ticks": ""
             }
            },
            "type": "scatterpolar"
           }
          ],
          "scatterpolargl": [
           {
            "marker": {
             "colorbar": {
              "outlinewidth": 0,
              "ticks": ""
             }
            },
            "type": "scatterpolargl"
           }
          ],
          "scatterternary": [
           {
            "marker": {
             "colorbar": {
              "outlinewidth": 0,
              "ticks": ""
             }
            },
            "type": "scatterternary"
           }
          ],
          "surface": [
           {
            "colorbar": {
             "outlinewidth": 0,
             "ticks": ""
            },
            "colorscale": [
             [
              0.0,
              "#0d0887"
             ],
             [
              0.1111111111111111,
              "#46039f"
             ],
             [
              0.2222222222222222,
              "#7201a8"
             ],
             [
              0.3333333333333333,
              "#9c179e"
             ],
             [
              0.4444444444444444,
              "#bd3786"
             ],
             [
              0.5555555555555556,
              "#d8576b"
             ],
             [
              0.6666666666666666,
              "#ed7953"
             ],
             [
              0.7777777777777778,
              "#fb9f3a"
             ],
             [
              0.8888888888888888,
              "#fdca26"
             ],
             [
              1.0,
              "#f0f921"
             ]
            ],
            "type": "surface"
           }
          ],
          "table": [
           {
            "cells": {
             "fill": {
              "color": "#EBF0F8"
             },
             "line": {
              "color": "white"
             }
            },
            "header": {
             "fill": {
              "color": "#C8D4E3"
             },
             "line": {
              "color": "white"
             }
            },
            "type": "table"
           }
          ]
         },
         "layout": {
          "annotationdefaults": {
           "arrowcolor": "#2a3f5f",
           "arrowhead": 0,
           "arrowwidth": 1
          },
          "autotypenumbers": "strict",
          "coloraxis": {
           "colorbar": {
            "outlinewidth": 0,
            "ticks": ""
           }
          },
          "colorscale": {
           "diverging": [
            [
             0,
             "#8e0152"
            ],
            [
             0.1,
             "#c51b7d"
            ],
            [
             0.2,
             "#de77ae"
            ],
            [
             0.3,
             "#f1b6da"
            ],
            [
             0.4,
             "#fde0ef"
            ],
            [
             0.5,
             "#f7f7f7"
            ],
            [
             0.6,
             "#e6f5d0"
            ],
            [
             0.7,
             "#b8e186"
            ],
            [
             0.8,
             "#7fbc41"
            ],
            [
             0.9,
             "#4d9221"
            ],
            [
             1,
             "#276419"
            ]
           ],
           "sequential": [
            [
             0.0,
             "#0d0887"
            ],
            [
             0.1111111111111111,
             "#46039f"
            ],
            [
             0.2222222222222222,
             "#7201a8"
            ],
            [
             0.3333333333333333,
             "#9c179e"
            ],
            [
             0.4444444444444444,
             "#bd3786"
            ],
            [
             0.5555555555555556,
             "#d8576b"
            ],
            [
             0.6666666666666666,
             "#ed7953"
            ],
            [
             0.7777777777777778,
             "#fb9f3a"
            ],
            [
             0.8888888888888888,
             "#fdca26"
            ],
            [
             1.0,
             "#f0f921"
            ]
           ],
           "sequentialminus": [
            [
             0.0,
             "#0d0887"
            ],
            [
             0.1111111111111111,
             "#46039f"
            ],
            [
             0.2222222222222222,
             "#7201a8"
            ],
            [
             0.3333333333333333,
             "#9c179e"
            ],
            [
             0.4444444444444444,
             "#bd3786"
            ],
            [
             0.5555555555555556,
             "#d8576b"
            ],
            [
             0.6666666666666666,
             "#ed7953"
            ],
            [
             0.7777777777777778,
             "#fb9f3a"
            ],
            [
             0.8888888888888888,
             "#fdca26"
            ],
            [
             1.0,
             "#f0f921"
            ]
           ]
          },
          "colorway": [
           "#636efa",
           "#EF553B",
           "#00cc96",
           "#ab63fa",
           "#FFA15A",
           "#19d3f3",
           "#FF6692",
           "#B6E880",
           "#FF97FF",
           "#FECB52"
          ],
          "font": {
           "color": "#2a3f5f"
          },
          "geo": {
           "bgcolor": "white",
           "lakecolor": "white",
           "landcolor": "#E5ECF6",
           "showlakes": true,
           "showland": true,
           "subunitcolor": "white"
          },
          "hoverlabel": {
           "align": "left"
          },
          "hovermode": "closest",
          "mapbox": {
           "style": "light"
          },
          "paper_bgcolor": "white",
          "plot_bgcolor": "#E5ECF6",
          "polar": {
           "angularaxis": {
            "gridcolor": "white",
            "linecolor": "white",
            "ticks": ""
           },
           "bgcolor": "#E5ECF6",
           "radialaxis": {
            "gridcolor": "white",
            "linecolor": "white",
            "ticks": ""
           }
          },
          "scene": {
           "xaxis": {
            "backgroundcolor": "#E5ECF6",
            "gridcolor": "white",
            "gridwidth": 2,
            "linecolor": "white",
            "showbackground": true,
            "ticks": "",
            "zerolinecolor": "white"
           },
           "yaxis": {
            "backgroundcolor": "#E5ECF6",
            "gridcolor": "white",
            "gridwidth": 2,
            "linecolor": "white",
            "showbackground": true,
            "ticks": "",
            "zerolinecolor": "white"
           },
           "zaxis": {
            "backgroundcolor": "#E5ECF6",
            "gridcolor": "white",
            "gridwidth": 2,
            "linecolor": "white",
            "showbackground": true,
            "ticks": "",
            "zerolinecolor": "white"
           }
          },
          "shapedefaults": {
           "line": {
            "color": "#2a3f5f"
           }
          },
          "ternary": {
           "aaxis": {
            "gridcolor": "white",
            "linecolor": "white",
            "ticks": ""
           },
           "baxis": {
            "gridcolor": "white",
            "linecolor": "white",
            "ticks": ""
           },
           "bgcolor": "#E5ECF6",
           "caxis": {
            "gridcolor": "white",
            "linecolor": "white",
            "ticks": ""
           }
          },
          "title": {
           "x": 0.05
          },
          "xaxis": {
           "automargin": true,
           "gridcolor": "white",
           "linecolor": "white",
           "ticks": "",
           "title": {
            "standoff": 15
           },
           "zerolinecolor": "white",
           "zerolinewidth": 2
          },
          "yaxis": {
           "automargin": true,
           "gridcolor": "white",
           "linecolor": "white",
           "ticks": "",
           "title": {
            "standoff": 15
           },
           "zerolinecolor": "white",
           "zerolinewidth": 2
          }
         }
        },
        "title": {
         "text": "Type of measure frequency"
        },
        "xaxis": {
         "title": {
          "text": "Index"
         }
        },
        "yaxis": {
         "title": {
          "text": "Frequency"
         }
        }
       }
      },
      "text/html": "<div>                            <div id=\"213a4924-0650-4b41-8349-941ffea0b555\" class=\"plotly-graph-div\" style=\"height:525px; width:100%;\"></div>            <script type=\"text/javascript\">                require([\"plotly\"], function(Plotly) {                    window.PLOTLYENV=window.PLOTLYENV || {};                                    if (document.getElementById(\"213a4924-0650-4b41-8349-941ffea0b555\")) {                    Plotly.newPlot(                        \"213a4924-0650-4b41-8349-941ffea0b555\",                        [{\"type\": \"bar\", \"x\": [\"Supporting businesses to stay afloat\", \"Income protection beyond short-time work\", \"Protection of workers, adaptation of workplace\", \"Promoting the economic, labour market and social recovery\", \"Ensuring business continuity and support for essential services\", \"Employment protection and retention\", \"Measures to prevent social hardship\", \"Supporting businesses to get back to normal\", \"Reorientation of business activities\"], \"y\": [30.160427807486627, 13.796791443850267, 11.97860962566845, 11.229946524064172, 9.62566844919786, 9.411764705882353, 7.700534759358289, 3.5294117647058822, 2.5668449197860963]}],                        {\"template\": {\"data\": {\"bar\": [{\"error_x\": {\"color\": \"#2a3f5f\"}, \"error_y\": {\"color\": \"#2a3f5f\"}, \"marker\": {\"line\": {\"color\": \"#E5ECF6\", \"width\": 0.5}}, \"type\": \"bar\"}], \"barpolar\": [{\"marker\": {\"line\": {\"color\": \"#E5ECF6\", \"width\": 0.5}}, \"type\": \"barpolar\"}], \"carpet\": [{\"aaxis\": {\"endlinecolor\": \"#2a3f5f\", \"gridcolor\": \"white\", \"linecolor\": \"white\", \"minorgridcolor\": \"white\", \"startlinecolor\": \"#2a3f5f\"}, \"baxis\": {\"endlinecolor\": \"#2a3f5f\", \"gridcolor\": \"white\", \"linecolor\": \"white\", \"minorgridcolor\": \"white\", \"startlinecolor\": \"#2a3f5f\"}, \"type\": \"carpet\"}], \"choropleth\": [{\"colorbar\": {\"outlinewidth\": 0, \"ticks\": \"\"}, \"type\": \"choropleth\"}], \"contour\": [{\"colorbar\": {\"outlinewidth\": 0, \"ticks\": \"\"}, \"colorscale\": [[0.0, \"#0d0887\"], [0.1111111111111111, \"#46039f\"], [0.2222222222222222, \"#7201a8\"], [0.3333333333333333, \"#9c179e\"], [0.4444444444444444, \"#bd3786\"], [0.5555555555555556, \"#d8576b\"], [0.6666666666666666, \"#ed7953\"], [0.7777777777777778, \"#fb9f3a\"], [0.8888888888888888, \"#fdca26\"], [1.0, \"#f0f921\"]], \"type\": \"contour\"}], \"contourcarpet\": [{\"colorbar\": {\"outlinewidth\": 0, \"ticks\": \"\"}, \"type\": \"contourcarpet\"}], \"heatmap\": [{\"colorbar\": {\"outlinewidth\": 0, \"ticks\": \"\"}, \"colorscale\": [[0.0, \"#0d0887\"], [0.1111111111111111, \"#46039f\"], [0.2222222222222222, \"#7201a8\"], [0.3333333333333333, \"#9c179e\"], [0.4444444444444444, \"#bd3786\"], [0.5555555555555556, \"#d8576b\"], [0.6666666666666666, \"#ed7953\"], [0.7777777777777778, \"#fb9f3a\"], [0.8888888888888888, \"#fdca26\"], [1.0, \"#f0f921\"]], \"type\": \"heatmap\"}], \"heatmapgl\": [{\"colorbar\": {\"outlinewidth\": 0, \"ticks\": \"\"}, \"colorscale\": [[0.0, \"#0d0887\"], [0.1111111111111111, \"#46039f\"], [0.2222222222222222, \"#7201a8\"], [0.3333333333333333, \"#9c179e\"], [0.4444444444444444, \"#bd3786\"], [0.5555555555555556, \"#d8576b\"], [0.6666666666666666, \"#ed7953\"], [0.7777777777777778, \"#fb9f3a\"], [0.8888888888888888, \"#fdca26\"], [1.0, \"#f0f921\"]], \"type\": \"heatmapgl\"}], \"histogram\": [{\"marker\": {\"colorbar\": {\"outlinewidth\": 0, \"ticks\": \"\"}}, \"type\": \"histogram\"}], \"histogram2d\": [{\"colorbar\": {\"outlinewidth\": 0, \"ticks\": \"\"}, \"colorscale\": [[0.0, \"#0d0887\"], [0.1111111111111111, \"#46039f\"], [0.2222222222222222, \"#7201a8\"], [0.3333333333333333, \"#9c179e\"], [0.4444444444444444, \"#bd3786\"], [0.5555555555555556, \"#d8576b\"], [0.6666666666666666, \"#ed7953\"], [0.7777777777777778, \"#fb9f3a\"], [0.8888888888888888, \"#fdca26\"], [1.0, \"#f0f921\"]], \"type\": \"histogram2d\"}], \"histogram2dcontour\": [{\"colorbar\": {\"outlinewidth\": 0, \"ticks\": \"\"}, \"colorscale\": [[0.0, \"#0d0887\"], [0.1111111111111111, \"#46039f\"], [0.2222222222222222, \"#7201a8\"], [0.3333333333333333, \"#9c179e\"], [0.4444444444444444, \"#bd3786\"], [0.5555555555555556, \"#d8576b\"], [0.6666666666666666, \"#ed7953\"], [0.7777777777777778, \"#fb9f3a\"], [0.8888888888888888, \"#fdca26\"], [1.0, \"#f0f921\"]], \"type\": \"histogram2dcontour\"}], \"mesh3d\": [{\"colorbar\": {\"outlinewidth\": 0, \"ticks\": \"\"}, \"type\": \"mesh3d\"}], \"parcoords\": [{\"line\": {\"colorbar\": {\"outlinewidth\": 0, \"ticks\": \"\"}}, \"type\": \"parcoords\"}], \"pie\": [{\"automargin\": true, \"type\": \"pie\"}], \"scatter\": [{\"marker\": {\"colorbar\": {\"outlinewidth\": 0, \"ticks\": \"\"}}, \"type\": \"scatter\"}], \"scatter3d\": [{\"line\": {\"colorbar\": {\"outlinewidth\": 0, \"ticks\": \"\"}}, \"marker\": {\"colorbar\": {\"outlinewidth\": 0, \"ticks\": \"\"}}, \"type\": \"scatter3d\"}], \"scattercarpet\": [{\"marker\": {\"colorbar\": {\"outlinewidth\": 0, \"ticks\": \"\"}}, \"type\": \"scattercarpet\"}], \"scattergeo\": [{\"marker\": {\"colorbar\": {\"outlinewidth\": 0, \"ticks\": \"\"}}, \"type\": \"scattergeo\"}], \"scattergl\": [{\"marker\": {\"colorbar\": {\"outlinewidth\": 0, \"ticks\": \"\"}}, \"type\": \"scattergl\"}], \"scattermapbox\": [{\"marker\": {\"colorbar\": {\"outlinewidth\": 0, \"ticks\": \"\"}}, \"type\": \"scattermapbox\"}], \"scatterpolar\": [{\"marker\": {\"colorbar\": {\"outlinewidth\": 0, \"ticks\": \"\"}}, \"type\": \"scatterpolar\"}], \"scatterpolargl\": [{\"marker\": {\"colorbar\": {\"outlinewidth\": 0, \"ticks\": \"\"}}, \"type\": \"scatterpolargl\"}], \"scatterternary\": [{\"marker\": {\"colorbar\": {\"outlinewidth\": 0, \"ticks\": \"\"}}, \"type\": \"scatterternary\"}], \"surface\": [{\"colorbar\": {\"outlinewidth\": 0, \"ticks\": \"\"}, \"colorscale\": [[0.0, \"#0d0887\"], [0.1111111111111111, \"#46039f\"], [0.2222222222222222, \"#7201a8\"], [0.3333333333333333, \"#9c179e\"], [0.4444444444444444, \"#bd3786\"], [0.5555555555555556, \"#d8576b\"], [0.6666666666666666, \"#ed7953\"], [0.7777777777777778, \"#fb9f3a\"], [0.8888888888888888, \"#fdca26\"], [1.0, \"#f0f921\"]], \"type\": \"surface\"}], \"table\": [{\"cells\": {\"fill\": {\"color\": \"#EBF0F8\"}, \"line\": {\"color\": \"white\"}}, \"header\": {\"fill\": {\"color\": \"#C8D4E3\"}, \"line\": {\"color\": \"white\"}}, \"type\": \"table\"}]}, \"layout\": {\"annotationdefaults\": {\"arrowcolor\": \"#2a3f5f\", \"arrowhead\": 0, \"arrowwidth\": 1}, \"autotypenumbers\": \"strict\", \"coloraxis\": {\"colorbar\": {\"outlinewidth\": 0, \"ticks\": \"\"}}, \"colorscale\": {\"diverging\": [[0, \"#8e0152\"], [0.1, \"#c51b7d\"], [0.2, \"#de77ae\"], [0.3, \"#f1b6da\"], [0.4, \"#fde0ef\"], [0.5, \"#f7f7f7\"], [0.6, \"#e6f5d0\"], [0.7, \"#b8e186\"], [0.8, \"#7fbc41\"], [0.9, \"#4d9221\"], [1, \"#276419\"]], \"sequential\": [[0.0, \"#0d0887\"], [0.1111111111111111, \"#46039f\"], [0.2222222222222222, \"#7201a8\"], [0.3333333333333333, \"#9c179e\"], [0.4444444444444444, \"#bd3786\"], [0.5555555555555556, \"#d8576b\"], [0.6666666666666666, \"#ed7953\"], [0.7777777777777778, \"#fb9f3a\"], [0.8888888888888888, \"#fdca26\"], [1.0, \"#f0f921\"]], \"sequentialminus\": [[0.0, \"#0d0887\"], [0.1111111111111111, \"#46039f\"], [0.2222222222222222, \"#7201a8\"], [0.3333333333333333, \"#9c179e\"], [0.4444444444444444, \"#bd3786\"], [0.5555555555555556, \"#d8576b\"], [0.6666666666666666, \"#ed7953\"], [0.7777777777777778, \"#fb9f3a\"], [0.8888888888888888, \"#fdca26\"], [1.0, \"#f0f921\"]]}, \"colorway\": [\"#636efa\", \"#EF553B\", \"#00cc96\", \"#ab63fa\", \"#FFA15A\", \"#19d3f3\", \"#FF6692\", \"#B6E880\", \"#FF97FF\", \"#FECB52\"], \"font\": {\"color\": \"#2a3f5f\"}, \"geo\": {\"bgcolor\": \"white\", \"lakecolor\": \"white\", \"landcolor\": \"#E5ECF6\", \"showlakes\": true, \"showland\": true, \"subunitcolor\": \"white\"}, \"hoverlabel\": {\"align\": \"left\"}, \"hovermode\": \"closest\", \"mapbox\": {\"style\": \"light\"}, \"paper_bgcolor\": \"white\", \"plot_bgcolor\": \"#E5ECF6\", \"polar\": {\"angularaxis\": {\"gridcolor\": \"white\", \"linecolor\": \"white\", \"ticks\": \"\"}, \"bgcolor\": \"#E5ECF6\", \"radialaxis\": {\"gridcolor\": \"white\", \"linecolor\": \"white\", \"ticks\": \"\"}}, \"scene\": {\"xaxis\": {\"backgroundcolor\": \"#E5ECF6\", \"gridcolor\": \"white\", \"gridwidth\": 2, \"linecolor\": \"white\", \"showbackground\": true, \"ticks\": \"\", \"zerolinecolor\": \"white\"}, \"yaxis\": {\"backgroundcolor\": \"#E5ECF6\", \"gridcolor\": \"white\", \"gridwidth\": 2, \"linecolor\": \"white\", \"showbackground\": true, \"ticks\": \"\", \"zerolinecolor\": \"white\"}, \"zaxis\": {\"backgroundcolor\": \"#E5ECF6\", \"gridcolor\": \"white\", \"gridwidth\": 2, \"linecolor\": \"white\", \"showbackground\": true, \"ticks\": \"\", \"zerolinecolor\": \"white\"}}, \"shapedefaults\": {\"line\": {\"color\": \"#2a3f5f\"}}, \"ternary\": {\"aaxis\": {\"gridcolor\": \"white\", \"linecolor\": \"white\", \"ticks\": \"\"}, \"baxis\": {\"gridcolor\": \"white\", \"linecolor\": \"white\", \"ticks\": \"\"}, \"bgcolor\": \"#E5ECF6\", \"caxis\": {\"gridcolor\": \"white\", \"linecolor\": \"white\", \"ticks\": \"\"}}, \"title\": {\"x\": 0.05}, \"xaxis\": {\"automargin\": true, \"gridcolor\": \"white\", \"linecolor\": \"white\", \"ticks\": \"\", \"title\": {\"standoff\": 15}, \"zerolinecolor\": \"white\", \"zerolinewidth\": 2}, \"yaxis\": {\"automargin\": true, \"gridcolor\": \"white\", \"linecolor\": \"white\", \"ticks\": \"\", \"title\": {\"standoff\": 15}, \"zerolinecolor\": \"white\", \"zerolinewidth\": 2}}}, \"title\": {\"text\": \"Type of measure frequency\"}, \"xaxis\": {\"title\": {\"text\": \"Index\"}}, \"yaxis\": {\"title\": {\"text\": \"Frequency\"}}},                        {\"responsive\": true}                    ).then(function(){\n                            \nvar gd = document.getElementById('213a4924-0650-4b41-8349-941ffea0b555');\nvar x = new MutationObserver(function (mutations, observer) {{\n        var display = window.getComputedStyle(gd).display;\n        if (!display || display === 'none') {{\n            console.log([gd, 'removed!']);\n            Plotly.purge(gd);\n            observer.disconnect();\n        }}\n}});\n\n// Listen for the removal of the full notebook cells\nvar notebookContainer = gd.closest('#notebook-container');\nif (notebookContainer) {{\n    x.observe(notebookContainer, {childList: true});\n}}\n\n// Listen for the clearing of the current output cell\nvar outputEl = gd.closest('.output');\nif (outputEl) {{\n    x.observe(outputEl, {childList: true});\n}}\n\n                        })                };                });            </script>        </div>"
     },
     "metadata": {},
     "output_type": "display_data"
    }
   ],
   "source": [
    "plotly_bar_chart_graphic(\"Type of measure frequency\", df_cat_table['index'],\n",
    "                         df_cat_table['Frequency'], \"Index\", \"Frequency\")"
   ],
   "metadata": {
    "collapsed": false,
    "pycharm": {
     "name": "#%%\n"
    }
   }
  },
  {
   "cell_type": "markdown",
   "source": [
    "### Value table\n"
   ],
   "metadata": {
    "collapsed": false,
    "pycharm": {
     "name": "#%% md\n"
    }
   }
  },
  {
   "cell_type": "code",
   "execution_count": 13,
   "outputs": [
    {
     "data": {
      "text/plain": "                                               index  Values\n0               Supporting businesses to stay afloat     282\n1           Income protection beyond short-time work     129\n2     Protection of workers, adaptation of workplace     112\n3  Promoting the economic, labour market and soci...     105\n4  Ensuring business continuity and support for e...      90\n5                Employment protection and retention      88\n6                Measures to prevent social hardship      72\n7        Supporting businesses to get back to normal      33\n8               Reorientation of business activities      24",
      "text/html": "<div>\n<style scoped>\n    .dataframe tbody tr th:only-of-type {\n        vertical-align: middle;\n    }\n\n    .dataframe tbody tr th {\n        vertical-align: top;\n    }\n\n    .dataframe thead th {\n        text-align: right;\n    }\n</style>\n<table border=\"1\" class=\"dataframe\">\n  <thead>\n    <tr style=\"text-align: right;\">\n      <th></th>\n      <th>index</th>\n      <th>Values</th>\n    </tr>\n  </thead>\n  <tbody>\n    <tr>\n      <th>0</th>\n      <td>Supporting businesses to stay afloat</td>\n      <td>282</td>\n    </tr>\n    <tr>\n      <th>1</th>\n      <td>Income protection beyond short-time work</td>\n      <td>129</td>\n    </tr>\n    <tr>\n      <th>2</th>\n      <td>Protection of workers, adaptation of workplace</td>\n      <td>112</td>\n    </tr>\n    <tr>\n      <th>3</th>\n      <td>Promoting the economic, labour market and soci...</td>\n      <td>105</td>\n    </tr>\n    <tr>\n      <th>4</th>\n      <td>Ensuring business continuity and support for e...</td>\n      <td>90</td>\n    </tr>\n    <tr>\n      <th>5</th>\n      <td>Employment protection and retention</td>\n      <td>88</td>\n    </tr>\n    <tr>\n      <th>6</th>\n      <td>Measures to prevent social hardship</td>\n      <td>72</td>\n    </tr>\n    <tr>\n      <th>7</th>\n      <td>Supporting businesses to get back to normal</td>\n      <td>33</td>\n    </tr>\n    <tr>\n      <th>8</th>\n      <td>Reorientation of business activities</td>\n      <td>24</td>\n    </tr>\n  </tbody>\n</table>\n</div>"
     },
     "execution_count": 13,
     "metadata": {},
     "output_type": "execute_result"
    }
   ],
   "source": [
    "df_cat_table_values = pd.DataFrame({'Values': cat_count})\n",
    "df_cat_table_values = df_cat_table_values.reset_index()\n",
    "df_cat_table_values"
   ],
   "metadata": {
    "collapsed": false,
    "pycharm": {
     "name": "#%%\n"
    }
   }
  },
  {
   "cell_type": "code",
   "execution_count": 46,
   "outputs": [
    {
     "data": {
      "application/vnd.plotly.v1+json": {
       "config": {
        "linkText": "Export to plot.ly",
        "plotlyServerURL": "https://plot.ly",
        "showLink": false
       },
       "data": [
        {
         "type": "bar",
         "x": [
          "Supporting businesses to stay afloat",
          "Income protection beyond short-time work",
          "Protection of workers, adaptation of workplace",
          "Promoting the economic, labour market and social recovery",
          "Ensuring business continuity and support for essential services",
          "Employment protection and retention",
          "Measures to prevent social hardship",
          "Supporting businesses to get back to normal",
          "Reorientation of business activities"
         ],
         "y": [
          282,
          129,
          112,
          105,
          90,
          88,
          72,
          33,
          24
         ]
        }
       ],
       "layout": {
        "template": {
         "data": {
          "bar": [
           {
            "error_x": {
             "color": "#2a3f5f"
            },
            "error_y": {
             "color": "#2a3f5f"
            },
            "marker": {
             "line": {
              "color": "#E5ECF6",
              "width": 0.5
             }
            },
            "type": "bar"
           }
          ],
          "barpolar": [
           {
            "marker": {
             "line": {
              "color": "#E5ECF6",
              "width": 0.5
             }
            },
            "type": "barpolar"
           }
          ],
          "carpet": [
           {
            "aaxis": {
             "endlinecolor": "#2a3f5f",
             "gridcolor": "white",
             "linecolor": "white",
             "minorgridcolor": "white",
             "startlinecolor": "#2a3f5f"
            },
            "baxis": {
             "endlinecolor": "#2a3f5f",
             "gridcolor": "white",
             "linecolor": "white",
             "minorgridcolor": "white",
             "startlinecolor": "#2a3f5f"
            },
            "type": "carpet"
           }
          ],
          "choropleth": [
           {
            "colorbar": {
             "outlinewidth": 0,
             "ticks": ""
            },
            "type": "choropleth"
           }
          ],
          "contour": [
           {
            "colorbar": {
             "outlinewidth": 0,
             "ticks": ""
            },
            "colorscale": [
             [
              0.0,
              "#0d0887"
             ],
             [
              0.1111111111111111,
              "#46039f"
             ],
             [
              0.2222222222222222,
              "#7201a8"
             ],
             [
              0.3333333333333333,
              "#9c179e"
             ],
             [
              0.4444444444444444,
              "#bd3786"
             ],
             [
              0.5555555555555556,
              "#d8576b"
             ],
             [
              0.6666666666666666,
              "#ed7953"
             ],
             [
              0.7777777777777778,
              "#fb9f3a"
             ],
             [
              0.8888888888888888,
              "#fdca26"
             ],
             [
              1.0,
              "#f0f921"
             ]
            ],
            "type": "contour"
           }
          ],
          "contourcarpet": [
           {
            "colorbar": {
             "outlinewidth": 0,
             "ticks": ""
            },
            "type": "contourcarpet"
           }
          ],
          "heatmap": [
           {
            "colorbar": {
             "outlinewidth": 0,
             "ticks": ""
            },
            "colorscale": [
             [
              0.0,
              "#0d0887"
             ],
             [
              0.1111111111111111,
              "#46039f"
             ],
             [
              0.2222222222222222,
              "#7201a8"
             ],
             [
              0.3333333333333333,
              "#9c179e"
             ],
             [
              0.4444444444444444,
              "#bd3786"
             ],
             [
              0.5555555555555556,
              "#d8576b"
             ],
             [
              0.6666666666666666,
              "#ed7953"
             ],
             [
              0.7777777777777778,
              "#fb9f3a"
             ],
             [
              0.8888888888888888,
              "#fdca26"
             ],
             [
              1.0,
              "#f0f921"
             ]
            ],
            "type": "heatmap"
           }
          ],
          "heatmapgl": [
           {
            "colorbar": {
             "outlinewidth": 0,
             "ticks": ""
            },
            "colorscale": [
             [
              0.0,
              "#0d0887"
             ],
             [
              0.1111111111111111,
              "#46039f"
             ],
             [
              0.2222222222222222,
              "#7201a8"
             ],
             [
              0.3333333333333333,
              "#9c179e"
             ],
             [
              0.4444444444444444,
              "#bd3786"
             ],
             [
              0.5555555555555556,
              "#d8576b"
             ],
             [
              0.6666666666666666,
              "#ed7953"
             ],
             [
              0.7777777777777778,
              "#fb9f3a"
             ],
             [
              0.8888888888888888,
              "#fdca26"
             ],
             [
              1.0,
              "#f0f921"
             ]
            ],
            "type": "heatmapgl"
           }
          ],
          "histogram": [
           {
            "marker": {
             "colorbar": {
              "outlinewidth": 0,
              "ticks": ""
             }
            },
            "type": "histogram"
           }
          ],
          "histogram2d": [
           {
            "colorbar": {
             "outlinewidth": 0,
             "ticks": ""
            },
            "colorscale": [
             [
              0.0,
              "#0d0887"
             ],
             [
              0.1111111111111111,
              "#46039f"
             ],
             [
              0.2222222222222222,
              "#7201a8"
             ],
             [
              0.3333333333333333,
              "#9c179e"
             ],
             [
              0.4444444444444444,
              "#bd3786"
             ],
             [
              0.5555555555555556,
              "#d8576b"
             ],
             [
              0.6666666666666666,
              "#ed7953"
             ],
             [
              0.7777777777777778,
              "#fb9f3a"
             ],
             [
              0.8888888888888888,
              "#fdca26"
             ],
             [
              1.0,
              "#f0f921"
             ]
            ],
            "type": "histogram2d"
           }
          ],
          "histogram2dcontour": [
           {
            "colorbar": {
             "outlinewidth": 0,
             "ticks": ""
            },
            "colorscale": [
             [
              0.0,
              "#0d0887"
             ],
             [
              0.1111111111111111,
              "#46039f"
             ],
             [
              0.2222222222222222,
              "#7201a8"
             ],
             [
              0.3333333333333333,
              "#9c179e"
             ],
             [
              0.4444444444444444,
              "#bd3786"
             ],
             [
              0.5555555555555556,
              "#d8576b"
             ],
             [
              0.6666666666666666,
              "#ed7953"
             ],
             [
              0.7777777777777778,
              "#fb9f3a"
             ],
             [
              0.8888888888888888,
              "#fdca26"
             ],
             [
              1.0,
              "#f0f921"
             ]
            ],
            "type": "histogram2dcontour"
           }
          ],
          "mesh3d": [
           {
            "colorbar": {
             "outlinewidth": 0,
             "ticks": ""
            },
            "type": "mesh3d"
           }
          ],
          "parcoords": [
           {
            "line": {
             "colorbar": {
              "outlinewidth": 0,
              "ticks": ""
             }
            },
            "type": "parcoords"
           }
          ],
          "pie": [
           {
            "automargin": true,
            "type": "pie"
           }
          ],
          "scatter": [
           {
            "marker": {
             "colorbar": {
              "outlinewidth": 0,
              "ticks": ""
             }
            },
            "type": "scatter"
           }
          ],
          "scatter3d": [
           {
            "line": {
             "colorbar": {
              "outlinewidth": 0,
              "ticks": ""
             }
            },
            "marker": {
             "colorbar": {
              "outlinewidth": 0,
              "ticks": ""
             }
            },
            "type": "scatter3d"
           }
          ],
          "scattercarpet": [
           {
            "marker": {
             "colorbar": {
              "outlinewidth": 0,
              "ticks": ""
             }
            },
            "type": "scattercarpet"
           }
          ],
          "scattergeo": [
           {
            "marker": {
             "colorbar": {
              "outlinewidth": 0,
              "ticks": ""
             }
            },
            "type": "scattergeo"
           }
          ],
          "scattergl": [
           {
            "marker": {
             "colorbar": {
              "outlinewidth": 0,
              "ticks": ""
             }
            },
            "type": "scattergl"
           }
          ],
          "scattermapbox": [
           {
            "marker": {
             "colorbar": {
              "outlinewidth": 0,
              "ticks": ""
             }
            },
            "type": "scattermapbox"
           }
          ],
          "scatterpolar": [
           {
            "marker": {
             "colorbar": {
              "outlinewidth": 0,
              "ticks": ""
             }
            },
            "type": "scatterpolar"
           }
          ],
          "scatterpolargl": [
           {
            "marker": {
             "colorbar": {
              "outlinewidth": 0,
              "ticks": ""
             }
            },
            "type": "scatterpolargl"
           }
          ],
          "scatterternary": [
           {
            "marker": {
             "colorbar": {
              "outlinewidth": 0,
              "ticks": ""
             }
            },
            "type": "scatterternary"
           }
          ],
          "surface": [
           {
            "colorbar": {
             "outlinewidth": 0,
             "ticks": ""
            },
            "colorscale": [
             [
              0.0,
              "#0d0887"
             ],
             [
              0.1111111111111111,
              "#46039f"
             ],
             [
              0.2222222222222222,
              "#7201a8"
             ],
             [
              0.3333333333333333,
              "#9c179e"
             ],
             [
              0.4444444444444444,
              "#bd3786"
             ],
             [
              0.5555555555555556,
              "#d8576b"
             ],
             [
              0.6666666666666666,
              "#ed7953"
             ],
             [
              0.7777777777777778,
              "#fb9f3a"
             ],
             [
              0.8888888888888888,
              "#fdca26"
             ],
             [
              1.0,
              "#f0f921"
             ]
            ],
            "type": "surface"
           }
          ],
          "table": [
           {
            "cells": {
             "fill": {
              "color": "#EBF0F8"
             },
             "line": {
              "color": "white"
             }
            },
            "header": {
             "fill": {
              "color": "#C8D4E3"
             },
             "line": {
              "color": "white"
             }
            },
            "type": "table"
           }
          ]
         },
         "layout": {
          "annotationdefaults": {
           "arrowcolor": "#2a3f5f",
           "arrowhead": 0,
           "arrowwidth": 1
          },
          "autotypenumbers": "strict",
          "coloraxis": {
           "colorbar": {
            "outlinewidth": 0,
            "ticks": ""
           }
          },
          "colorscale": {
           "diverging": [
            [
             0,
             "#8e0152"
            ],
            [
             0.1,
             "#c51b7d"
            ],
            [
             0.2,
             "#de77ae"
            ],
            [
             0.3,
             "#f1b6da"
            ],
            [
             0.4,
             "#fde0ef"
            ],
            [
             0.5,
             "#f7f7f7"
            ],
            [
             0.6,
             "#e6f5d0"
            ],
            [
             0.7,
             "#b8e186"
            ],
            [
             0.8,
             "#7fbc41"
            ],
            [
             0.9,
             "#4d9221"
            ],
            [
             1,
             "#276419"
            ]
           ],
           "sequential": [
            [
             0.0,
             "#0d0887"
            ],
            [
             0.1111111111111111,
             "#46039f"
            ],
            [
             0.2222222222222222,
             "#7201a8"
            ],
            [
             0.3333333333333333,
             "#9c179e"
            ],
            [
             0.4444444444444444,
             "#bd3786"
            ],
            [
             0.5555555555555556,
             "#d8576b"
            ],
            [
             0.6666666666666666,
             "#ed7953"
            ],
            [
             0.7777777777777778,
             "#fb9f3a"
            ],
            [
             0.8888888888888888,
             "#fdca26"
            ],
            [
             1.0,
             "#f0f921"
            ]
           ],
           "sequentialminus": [
            [
             0.0,
             "#0d0887"
            ],
            [
             0.1111111111111111,
             "#46039f"
            ],
            [
             0.2222222222222222,
             "#7201a8"
            ],
            [
             0.3333333333333333,
             "#9c179e"
            ],
            [
             0.4444444444444444,
             "#bd3786"
            ],
            [
             0.5555555555555556,
             "#d8576b"
            ],
            [
             0.6666666666666666,
             "#ed7953"
            ],
            [
             0.7777777777777778,
             "#fb9f3a"
            ],
            [
             0.8888888888888888,
             "#fdca26"
            ],
            [
             1.0,
             "#f0f921"
            ]
           ]
          },
          "colorway": [
           "#636efa",
           "#EF553B",
           "#00cc96",
           "#ab63fa",
           "#FFA15A",
           "#19d3f3",
           "#FF6692",
           "#B6E880",
           "#FF97FF",
           "#FECB52"
          ],
          "font": {
           "color": "#2a3f5f"
          },
          "geo": {
           "bgcolor": "white",
           "lakecolor": "white",
           "landcolor": "#E5ECF6",
           "showlakes": true,
           "showland": true,
           "subunitcolor": "white"
          },
          "hoverlabel": {
           "align": "left"
          },
          "hovermode": "closest",
          "mapbox": {
           "style": "light"
          },
          "paper_bgcolor": "white",
          "plot_bgcolor": "#E5ECF6",
          "polar": {
           "angularaxis": {
            "gridcolor": "white",
            "linecolor": "white",
            "ticks": ""
           },
           "bgcolor": "#E5ECF6",
           "radialaxis": {
            "gridcolor": "white",
            "linecolor": "white",
            "ticks": ""
           }
          },
          "scene": {
           "xaxis": {
            "backgroundcolor": "#E5ECF6",
            "gridcolor": "white",
            "gridwidth": 2,
            "linecolor": "white",
            "showbackground": true,
            "ticks": "",
            "zerolinecolor": "white"
           },
           "yaxis": {
            "backgroundcolor": "#E5ECF6",
            "gridcolor": "white",
            "gridwidth": 2,
            "linecolor": "white",
            "showbackground": true,
            "ticks": "",
            "zerolinecolor": "white"
           },
           "zaxis": {
            "backgroundcolor": "#E5ECF6",
            "gridcolor": "white",
            "gridwidth": 2,
            "linecolor": "white",
            "showbackground": true,
            "ticks": "",
            "zerolinecolor": "white"
           }
          },
          "shapedefaults": {
           "line": {
            "color": "#2a3f5f"
           }
          },
          "ternary": {
           "aaxis": {
            "gridcolor": "white",
            "linecolor": "white",
            "ticks": ""
           },
           "baxis": {
            "gridcolor": "white",
            "linecolor": "white",
            "ticks": ""
           },
           "bgcolor": "#E5ECF6",
           "caxis": {
            "gridcolor": "white",
            "linecolor": "white",
            "ticks": ""
           }
          },
          "title": {
           "x": 0.05
          },
          "xaxis": {
           "automargin": true,
           "gridcolor": "white",
           "linecolor": "white",
           "ticks": "",
           "title": {
            "standoff": 15
           },
           "zerolinecolor": "white",
           "zerolinewidth": 2
          },
          "yaxis": {
           "automargin": true,
           "gridcolor": "white",
           "linecolor": "white",
           "ticks": "",
           "title": {
            "standoff": 15
           },
           "zerolinecolor": "white",
           "zerolinewidth": 2
          }
         }
        },
        "title": {
         "text": "Type of Measure Values"
        },
        "xaxis": {
         "title": {
          "text": "Index"
         }
        },
        "yaxis": {
         "title": {
          "text": "Values"
         }
        }
       }
      },
      "text/html": "<div>                            <div id=\"76ece9e0-10eb-44e4-b65a-853edf918c71\" class=\"plotly-graph-div\" style=\"height:525px; width:100%;\"></div>            <script type=\"text/javascript\">                require([\"plotly\"], function(Plotly) {                    window.PLOTLYENV=window.PLOTLYENV || {};                                    if (document.getElementById(\"76ece9e0-10eb-44e4-b65a-853edf918c71\")) {                    Plotly.newPlot(                        \"76ece9e0-10eb-44e4-b65a-853edf918c71\",                        [{\"type\": \"bar\", \"x\": [\"Supporting businesses to stay afloat\", \"Income protection beyond short-time work\", \"Protection of workers, adaptation of workplace\", \"Promoting the economic, labour market and social recovery\", \"Ensuring business continuity and support for essential services\", \"Employment protection and retention\", \"Measures to prevent social hardship\", \"Supporting businesses to get back to normal\", \"Reorientation of business activities\"], \"y\": [282, 129, 112, 105, 90, 88, 72, 33, 24]}],                        {\"template\": {\"data\": {\"bar\": [{\"error_x\": {\"color\": \"#2a3f5f\"}, \"error_y\": {\"color\": \"#2a3f5f\"}, \"marker\": {\"line\": {\"color\": \"#E5ECF6\", \"width\": 0.5}}, \"type\": \"bar\"}], \"barpolar\": [{\"marker\": {\"line\": {\"color\": \"#E5ECF6\", \"width\": 0.5}}, \"type\": \"barpolar\"}], \"carpet\": [{\"aaxis\": {\"endlinecolor\": \"#2a3f5f\", \"gridcolor\": \"white\", \"linecolor\": \"white\", \"minorgridcolor\": \"white\", \"startlinecolor\": \"#2a3f5f\"}, \"baxis\": {\"endlinecolor\": \"#2a3f5f\", \"gridcolor\": \"white\", \"linecolor\": \"white\", \"minorgridcolor\": \"white\", \"startlinecolor\": \"#2a3f5f\"}, \"type\": \"carpet\"}], \"choropleth\": [{\"colorbar\": {\"outlinewidth\": 0, \"ticks\": \"\"}, \"type\": \"choropleth\"}], \"contour\": [{\"colorbar\": {\"outlinewidth\": 0, \"ticks\": \"\"}, \"colorscale\": [[0.0, \"#0d0887\"], [0.1111111111111111, \"#46039f\"], [0.2222222222222222, \"#7201a8\"], [0.3333333333333333, \"#9c179e\"], [0.4444444444444444, \"#bd3786\"], [0.5555555555555556, \"#d8576b\"], [0.6666666666666666, \"#ed7953\"], [0.7777777777777778, \"#fb9f3a\"], [0.8888888888888888, \"#fdca26\"], [1.0, \"#f0f921\"]], \"type\": \"contour\"}], \"contourcarpet\": [{\"colorbar\": {\"outlinewidth\": 0, \"ticks\": \"\"}, \"type\": \"contourcarpet\"}], \"heatmap\": [{\"colorbar\": {\"outlinewidth\": 0, \"ticks\": \"\"}, \"colorscale\": [[0.0, \"#0d0887\"], [0.1111111111111111, \"#46039f\"], [0.2222222222222222, \"#7201a8\"], [0.3333333333333333, \"#9c179e\"], [0.4444444444444444, \"#bd3786\"], [0.5555555555555556, \"#d8576b\"], [0.6666666666666666, \"#ed7953\"], [0.7777777777777778, \"#fb9f3a\"], [0.8888888888888888, \"#fdca26\"], [1.0, \"#f0f921\"]], \"type\": \"heatmap\"}], \"heatmapgl\": [{\"colorbar\": {\"outlinewidth\": 0, \"ticks\": \"\"}, \"colorscale\": [[0.0, \"#0d0887\"], [0.1111111111111111, \"#46039f\"], [0.2222222222222222, \"#7201a8\"], [0.3333333333333333, \"#9c179e\"], [0.4444444444444444, \"#bd3786\"], [0.5555555555555556, \"#d8576b\"], [0.6666666666666666, \"#ed7953\"], [0.7777777777777778, \"#fb9f3a\"], [0.8888888888888888, \"#fdca26\"], [1.0, \"#f0f921\"]], \"type\": \"heatmapgl\"}], \"histogram\": [{\"marker\": {\"colorbar\": {\"outlinewidth\": 0, \"ticks\": \"\"}}, \"type\": \"histogram\"}], \"histogram2d\": [{\"colorbar\": {\"outlinewidth\": 0, \"ticks\": \"\"}, \"colorscale\": [[0.0, \"#0d0887\"], [0.1111111111111111, \"#46039f\"], [0.2222222222222222, \"#7201a8\"], [0.3333333333333333, \"#9c179e\"], [0.4444444444444444, \"#bd3786\"], [0.5555555555555556, \"#d8576b\"], [0.6666666666666666, \"#ed7953\"], [0.7777777777777778, \"#fb9f3a\"], [0.8888888888888888, \"#fdca26\"], [1.0, \"#f0f921\"]], \"type\": \"histogram2d\"}], \"histogram2dcontour\": [{\"colorbar\": {\"outlinewidth\": 0, \"ticks\": \"\"}, \"colorscale\": [[0.0, \"#0d0887\"], [0.1111111111111111, \"#46039f\"], [0.2222222222222222, \"#7201a8\"], [0.3333333333333333, \"#9c179e\"], [0.4444444444444444, \"#bd3786\"], [0.5555555555555556, \"#d8576b\"], [0.6666666666666666, \"#ed7953\"], [0.7777777777777778, \"#fb9f3a\"], [0.8888888888888888, \"#fdca26\"], [1.0, \"#f0f921\"]], \"type\": \"histogram2dcontour\"}], \"mesh3d\": [{\"colorbar\": {\"outlinewidth\": 0, \"ticks\": \"\"}, \"type\": \"mesh3d\"}], \"parcoords\": [{\"line\": {\"colorbar\": {\"outlinewidth\": 0, \"ticks\": \"\"}}, \"type\": \"parcoords\"}], \"pie\": [{\"automargin\": true, \"type\": \"pie\"}], \"scatter\": [{\"marker\": {\"colorbar\": {\"outlinewidth\": 0, \"ticks\": \"\"}}, \"type\": \"scatter\"}], \"scatter3d\": [{\"line\": {\"colorbar\": {\"outlinewidth\": 0, \"ticks\": \"\"}}, \"marker\": {\"colorbar\": {\"outlinewidth\": 0, \"ticks\": \"\"}}, \"type\": \"scatter3d\"}], \"scattercarpet\": [{\"marker\": {\"colorbar\": {\"outlinewidth\": 0, \"ticks\": \"\"}}, \"type\": \"scattercarpet\"}], \"scattergeo\": [{\"marker\": {\"colorbar\": {\"outlinewidth\": 0, \"ticks\": \"\"}}, \"type\": \"scattergeo\"}], \"scattergl\": [{\"marker\": {\"colorbar\": {\"outlinewidth\": 0, \"ticks\": \"\"}}, \"type\": \"scattergl\"}], \"scattermapbox\": [{\"marker\": {\"colorbar\": {\"outlinewidth\": 0, \"ticks\": \"\"}}, \"type\": \"scattermapbox\"}], \"scatterpolar\": [{\"marker\": {\"colorbar\": {\"outlinewidth\": 0, \"ticks\": \"\"}}, \"type\": \"scatterpolar\"}], \"scatterpolargl\": [{\"marker\": {\"colorbar\": {\"outlinewidth\": 0, \"ticks\": \"\"}}, \"type\": \"scatterpolargl\"}], \"scatterternary\": [{\"marker\": {\"colorbar\": {\"outlinewidth\": 0, \"ticks\": \"\"}}, \"type\": \"scatterternary\"}], \"surface\": [{\"colorbar\": {\"outlinewidth\": 0, \"ticks\": \"\"}, \"colorscale\": [[0.0, \"#0d0887\"], [0.1111111111111111, \"#46039f\"], [0.2222222222222222, \"#7201a8\"], [0.3333333333333333, \"#9c179e\"], [0.4444444444444444, \"#bd3786\"], [0.5555555555555556, \"#d8576b\"], [0.6666666666666666, \"#ed7953\"], [0.7777777777777778, \"#fb9f3a\"], [0.8888888888888888, \"#fdca26\"], [1.0, \"#f0f921\"]], \"type\": \"surface\"}], \"table\": [{\"cells\": {\"fill\": {\"color\": \"#EBF0F8\"}, \"line\": {\"color\": \"white\"}}, \"header\": {\"fill\": {\"color\": \"#C8D4E3\"}, \"line\": {\"color\": \"white\"}}, \"type\": \"table\"}]}, \"layout\": {\"annotationdefaults\": {\"arrowcolor\": \"#2a3f5f\", \"arrowhead\": 0, \"arrowwidth\": 1}, \"autotypenumbers\": \"strict\", \"coloraxis\": {\"colorbar\": {\"outlinewidth\": 0, \"ticks\": \"\"}}, \"colorscale\": {\"diverging\": [[0, \"#8e0152\"], [0.1, \"#c51b7d\"], [0.2, \"#de77ae\"], [0.3, \"#f1b6da\"], [0.4, \"#fde0ef\"], [0.5, \"#f7f7f7\"], [0.6, \"#e6f5d0\"], [0.7, \"#b8e186\"], [0.8, \"#7fbc41\"], [0.9, \"#4d9221\"], [1, \"#276419\"]], \"sequential\": [[0.0, \"#0d0887\"], [0.1111111111111111, \"#46039f\"], [0.2222222222222222, \"#7201a8\"], [0.3333333333333333, \"#9c179e\"], [0.4444444444444444, \"#bd3786\"], [0.5555555555555556, \"#d8576b\"], [0.6666666666666666, \"#ed7953\"], [0.7777777777777778, \"#fb9f3a\"], [0.8888888888888888, \"#fdca26\"], [1.0, \"#f0f921\"]], \"sequentialminus\": [[0.0, \"#0d0887\"], [0.1111111111111111, \"#46039f\"], [0.2222222222222222, \"#7201a8\"], [0.3333333333333333, \"#9c179e\"], [0.4444444444444444, \"#bd3786\"], [0.5555555555555556, \"#d8576b\"], [0.6666666666666666, \"#ed7953\"], [0.7777777777777778, \"#fb9f3a\"], [0.8888888888888888, \"#fdca26\"], [1.0, \"#f0f921\"]]}, \"colorway\": [\"#636efa\", \"#EF553B\", \"#00cc96\", \"#ab63fa\", \"#FFA15A\", \"#19d3f3\", \"#FF6692\", \"#B6E880\", \"#FF97FF\", \"#FECB52\"], \"font\": {\"color\": \"#2a3f5f\"}, \"geo\": {\"bgcolor\": \"white\", \"lakecolor\": \"white\", \"landcolor\": \"#E5ECF6\", \"showlakes\": true, \"showland\": true, \"subunitcolor\": \"white\"}, \"hoverlabel\": {\"align\": \"left\"}, \"hovermode\": \"closest\", \"mapbox\": {\"style\": \"light\"}, \"paper_bgcolor\": \"white\", \"plot_bgcolor\": \"#E5ECF6\", \"polar\": {\"angularaxis\": {\"gridcolor\": \"white\", \"linecolor\": \"white\", \"ticks\": \"\"}, \"bgcolor\": \"#E5ECF6\", \"radialaxis\": {\"gridcolor\": \"white\", \"linecolor\": \"white\", \"ticks\": \"\"}}, \"scene\": {\"xaxis\": {\"backgroundcolor\": \"#E5ECF6\", \"gridcolor\": \"white\", \"gridwidth\": 2, \"linecolor\": \"white\", \"showbackground\": true, \"ticks\": \"\", \"zerolinecolor\": \"white\"}, \"yaxis\": {\"backgroundcolor\": \"#E5ECF6\", \"gridcolor\": \"white\", \"gridwidth\": 2, \"linecolor\": \"white\", \"showbackground\": true, \"ticks\": \"\", \"zerolinecolor\": \"white\"}, \"zaxis\": {\"backgroundcolor\": \"#E5ECF6\", \"gridcolor\": \"white\", \"gridwidth\": 2, \"linecolor\": \"white\", \"showbackground\": true, \"ticks\": \"\", \"zerolinecolor\": \"white\"}}, \"shapedefaults\": {\"line\": {\"color\": \"#2a3f5f\"}}, \"ternary\": {\"aaxis\": {\"gridcolor\": \"white\", \"linecolor\": \"white\", \"ticks\": \"\"}, \"baxis\": {\"gridcolor\": \"white\", \"linecolor\": \"white\", \"ticks\": \"\"}, \"bgcolor\": \"#E5ECF6\", \"caxis\": {\"gridcolor\": \"white\", \"linecolor\": \"white\", \"ticks\": \"\"}}, \"title\": {\"x\": 0.05}, \"xaxis\": {\"automargin\": true, \"gridcolor\": \"white\", \"linecolor\": \"white\", \"ticks\": \"\", \"title\": {\"standoff\": 15}, \"zerolinecolor\": \"white\", \"zerolinewidth\": 2}, \"yaxis\": {\"automargin\": true, \"gridcolor\": \"white\", \"linecolor\": \"white\", \"ticks\": \"\", \"title\": {\"standoff\": 15}, \"zerolinecolor\": \"white\", \"zerolinewidth\": 2}}}, \"title\": {\"text\": \"Type of Measure Values\"}, \"xaxis\": {\"title\": {\"text\": \"Index\"}}, \"yaxis\": {\"title\": {\"text\": \"Values\"}}},                        {\"responsive\": true}                    ).then(function(){\n                            \nvar gd = document.getElementById('76ece9e0-10eb-44e4-b65a-853edf918c71');\nvar x = new MutationObserver(function (mutations, observer) {{\n        var display = window.getComputedStyle(gd).display;\n        if (!display || display === 'none') {{\n            console.log([gd, 'removed!']);\n            Plotly.purge(gd);\n            observer.disconnect();\n        }}\n}});\n\n// Listen for the removal of the full notebook cells\nvar notebookContainer = gd.closest('#notebook-container');\nif (notebookContainer) {{\n    x.observe(notebookContainer, {childList: true});\n}}\n\n// Listen for the clearing of the current output cell\nvar outputEl = gd.closest('.output');\nif (outputEl) {{\n    x.observe(outputEl, {childList: true});\n}}\n\n                        })                };                });            </script>        </div>"
     },
     "metadata": {},
     "output_type": "display_data"
    }
   ],
   "source": [
    "plotly_bar_chart_graphic(\"Type of Measure Values\", df_cat_table_values['index'],\n",
    "                         df_cat_table_values['Values'], \"Index\", \"Values\")"
   ],
   "metadata": {
    "collapsed": false,
    "pycharm": {
     "name": "#%%\n"
    }
   }
  },
  {
   "cell_type": "markdown",
   "source": [
    "## Target groups\n",
    "### Frequency table\n"
   ],
   "metadata": {
    "collapsed": false,
    "pycharm": {
     "name": "#%% md\n"
    }
   }
  },
  {
   "cell_type": "code",
   "execution_count": 15,
   "outputs": [
    {
     "data": {
      "text/plain": "                                                 index  Frequency\n0                     Employees in standard employment     9.20 %\n1                     Sector specific set of companies     9.09 %\n2                                        Self-employed     3.32 %\n3                                           Unemployed     2.99 %\n4                                                 SMEs     2.67 %\n..                                                 ...        ...\n197  Employees in standard employment, SMEs, Sector...     0.11 %\n198  One person or microenterprises, Self-employed,...     0.11 %\n199  Parents in employment, Single parents in emplo...     0.11 %\n200  Children (minors), Parents in employment, Sing...     0.11 %\n201            Other groups of citizens, Youth (18-25)     0.11 %\n\n[202 rows x 2 columns]",
      "text/html": "<div>\n<style scoped>\n    .dataframe tbody tr th:only-of-type {\n        vertical-align: middle;\n    }\n\n    .dataframe tbody tr th {\n        vertical-align: top;\n    }\n\n    .dataframe thead th {\n        text-align: right;\n    }\n</style>\n<table border=\"1\" class=\"dataframe\">\n  <thead>\n    <tr style=\"text-align: right;\">\n      <th></th>\n      <th>index</th>\n      <th>Frequency</th>\n    </tr>\n  </thead>\n  <tbody>\n    <tr>\n      <th>0</th>\n      <td>Employees in standard employment</td>\n      <td>9.20 %</td>\n    </tr>\n    <tr>\n      <th>1</th>\n      <td>Sector specific set of companies</td>\n      <td>9.09 %</td>\n    </tr>\n    <tr>\n      <th>2</th>\n      <td>Self-employed</td>\n      <td>3.32 %</td>\n    </tr>\n    <tr>\n      <th>3</th>\n      <td>Unemployed</td>\n      <td>2.99 %</td>\n    </tr>\n    <tr>\n      <th>4</th>\n      <td>SMEs</td>\n      <td>2.67 %</td>\n    </tr>\n    <tr>\n      <th>...</th>\n      <td>...</td>\n      <td>...</td>\n    </tr>\n    <tr>\n      <th>197</th>\n      <td>Employees in standard employment, SMEs, Sector...</td>\n      <td>0.11 %</td>\n    </tr>\n    <tr>\n      <th>198</th>\n      <td>One person or microenterprises, Self-employed,...</td>\n      <td>0.11 %</td>\n    </tr>\n    <tr>\n      <th>199</th>\n      <td>Parents in employment, Single parents in emplo...</td>\n      <td>0.11 %</td>\n    </tr>\n    <tr>\n      <th>200</th>\n      <td>Children (minors), Parents in employment, Sing...</td>\n      <td>0.11 %</td>\n    </tr>\n    <tr>\n      <th>201</th>\n      <td>Other groups of citizens, Youth (18-25)</td>\n      <td>0.11 %</td>\n    </tr>\n  </tbody>\n</table>\n<p>202 rows × 2 columns</p>\n</div>"
     },
     "execution_count": 15,
     "metadata": {},
     "output_type": "execute_result"
    }
   ],
   "source": [
    "pd.options.display.float_format = '{:,.2f} %'.format\n",
    "tg_count = df['Target groups'].value_counts()\n",
    "tg_data = df['Target groups'].unique()\n",
    "vc_tg = df['Target groups'].value_counts()\n",
    "df_tg = pd.DataFrame(df, columns=['Target groups'])\n",
    "df_tg = vc_tg / df['Target groups'].shape[0] * 100\n",
    "df_tg_table = pd.DataFrame({'Frequency': df_tg})\n",
    "df_tg_table = df_tg_table.reset_index()\n",
    "df_tg_table"
   ],
   "metadata": {
    "collapsed": false,
    "pycharm": {
     "name": "#%%\n"
    }
   }
  },
  {
   "cell_type": "code",
   "execution_count": 43,
   "outputs": [
    {
     "data": {
      "application/vnd.plotly.v1+json": {
       "config": {
        "linkText": "Export to plot.ly",
        "plotlyServerURL": "https://plot.ly",
        "showLink": false
       },
       "data": [
        {
         "type": "bar",
         "x": [
          "Employees in standard employment",
          "Sector specific set of companies",
          "Self-employed",
          "Unemployed",
          "SMEs",
          "Particular professions",
          "Employees in standard employment, Workers in non-standard forms of employment",
          "Other groups of citizens",
          "Disabled workers",
          "Particular professions, Sector specific set of companies",
          "Other groups of workers",
          "Employees in standard employment, Sector specific set of companies",
          "One person or microenterprises",
          "Other businesses",
          "Employees in standard employment, Unemployed",
          "Larger corporations",
          "One person or microenterprises, SMEs",
          "Employees in standard employment, Self-employed",
          "Parents in employment",
          "SMEs, Sector specific set of companies",
          "One person or microenterprises, Self-employed, Solo-self-employed",
          "Companies providing essential services",
          "Parents",
          "Companies providing essential services, Employees in standard employment, Workers in care facilities, Workers in essential services",
          "One person or microenterprises, Solo-self-employed",
          "Employees in standard employment, Other groups of workers",
          "Employees in standard employment, Parents in employment",
          "One person or microenterprises, SMEs, Solo-self-employed",
          "Employees in standard employment, Larger corporations",
          "Employees in standard employment, Workers in care facilities, Workers in essential services",
          "Particular professions, Self-employed",
          "Solo-self-employed",
          "Workers in essential services",
          "Workers in non-standard forms of employment",
          "Particular professions, Workers in care facilities",
          "Disabled, Disabled workers",
          "Disabled",
          "Seasonal workers",
          "Start-ups",
          "The COVID-19 risk group at the workplace",
          "One person or microenterprises, SMEs, Self-employed, Solo-self-employed",
          "Other groups of workers, Sector specific set of companies",
          "One person or microenterprises, SMEs, Self-employed",
          "Migrants in employment",
          "Other businesses, SMEs",
          "Larger corporations, SMEs",
          "Employees in standard employment, Workers in non-standard forms of employment, Youth (18-25) in employment",
          "SMEs, Start-ups",
          "Employees in standard employment, Other businesses",
          "Workers in care facilities",
          "Sector specific set of companies, Unemployed",
          "Employees in standard employment, Particular professions, Workers in non-standard forms of employment",
          "Other groups of workers, Youth (18-25) in employment",
          "Particular professions, Sector specific set of companies, Self-employed",
          "Other businesses, Other groups of workers",
          "Unemployed, Youth (18-25)",
          "Other groups of citizens, The COVID-19 risk group",
          "Self-employed, Workers in non-standard forms of employment",
          "Sector specific set of companies, Self-employed",
          "Larger corporations, Other businesses",
          "Disabled workers, The COVID-19 risk group at the workplace",
          "Employees in standard employment, Parents in employment, Self-employed",
          "Other groups of workers, Workers in essential services",
          "One person or microenterprises, SMEs, Sector specific set of companies",
          "Particular professions, Unemployed",
          "Particular professions, Workers in care facilities, Workers in essential services",
          "One person or microenterprises, SMEs, Start-ups",
          "One person or microenterprises, SMEs, Sector specific set of companies, Solo-self-employed",
          "Disabled workers, Other groups of workers",
          "Other businesses, Sector specific set of companies",
          "Unemployed, Youth (18-25) in employment",
          "Disabled, Older citizens",
          "Companies providing essential services, Other businesses",
          "Youth (18-25) in employment",
          "Older citizens, The COVID-19 risk group",
          "Cross-border commuters, Seasonal workers",
          "Particular professions, Workers in essential services",
          "Employees in standard employment, Other groups of workers, Self-employed",
          "Children (minors), Disabled, Older citizens, Parents, SMEs, Single parents, Single parents in employment, The COVID-19 risk group, Workers in care facilities, Workers in essential services",
          "Disabled, Older citizens, Other groups of workers, The COVID-19 risk group, Unemployed",
          "Disabled, Older citizens, Parents, Youth (18-25)",
          "Migrants, Refugees",
          "Companies providing essential services, Employees in standard employment, Workers in essential services",
          "Self-employed, The COVID-19 risk group at the workplace, Workers in non-standard forms of employment",
          "Companies providing essential services, SMEs, Sector specific set of companies",
          "Particular professions, People in care facilities, Unemployed, Youth (18-25)",
          "Sector specific set of companies, Workers in non-standard forms of employment",
          "Parents in employment, Self-employed, Unemployed",
          "Disabled workers, Other businesses",
          "Sector specific set of companies, Undeclared workers",
          "One person or microenterprises, Other businesses, Sector specific set of companies, Solo-self-employed",
          "Larger corporations, Other businesses, SMEs",
          "Children (minors), Sector specific set of companies, Youth (18-25)",
          "One person or microenterprises, Particular professions, Sector specific set of companies, Self-employed, Solo-self-employed",
          "One person or microenterprises, Start-ups",
          "Employees in standard employment, Larger corporations, Other businesses",
          "Companies providing essential services, Larger corporations",
          "One person or microenterprises, SMEs, Sector specific set of companies, Self-employed, Solo-self-employed",
          "Disabled workers, Sector specific set of companies",
          "Companies providing essential services, Workers in care facilities",
          "Other businesses, Particular professions",
          "Disabled, Disabled workers, Older citizens, Older people in employment (aged 55+), Unemployed",
          "Older citizens, Other groups of citizens",
          "Particular professions, Posted workers, Seasonal workers",
          "Disabled, Disabled workers, The COVID-19 risk group, The COVID-19 risk group at the workplace",
          "Self-employed, Undeclared workers",
          "Employees in standard employment, SMEs, Unemployed, Youth (18-25) in employment",
          "Children (minors), Parents, Particular professions, Workers in essential services",
          "Parents, Single parents",
          "Employees in standard employment, Particular professions, People in care facilities, The COVID-19 risk group",
          "Children (minors), Parents, Unemployed",
          "Disabled, Older citizens, Self-employed, Unemployed, Youth (18-25)",
          "Companies providing essential services, Sector specific set of companies",
          "Employees in standard employment, Sector specific set of companies, Workers in non-standard forms of employment",
          "The COVID-19 risk group, The COVID-19 risk group at the workplace",
          "One person or microenterprises, Other businesses, Self-employed, Solo-self-employed",
          "Larger corporations, One person or microenterprises, SMEs, Self-employed, Start-ups",
          "SMEs, Solo-self-employed",
          "Employees in standard employment, SMEs",
          "Children (minors), Sector specific set of companies",
          "Particular professions, Platform workers, Seasonal workers, Self-employed, Workers in non-standard forms of employment",
          "Larger corporations, Sector specific set of companies",
          "Women",
          "Particular professions, Self-employed, Workers in non-standard forms of employment",
          "Parents, Parents in employment, Single parents in employment",
          "Other groups of workers, The COVID-19 risk group at the workplace",
          "Other groups of workers, Unemployed",
          "Contractors of a company",
          "Cross-border commuters, Posted workers",
          "Employees in standard employment, Particular professions",
          "Cross-border commuters",
          "Other groups of workers, Self-employed, Unemployed",
          "Disabled, Older citizens, Other groups of citizens",
          "Larger corporations, One person or microenterprises, SMEs, Solo-self-employed",
          "Employees in standard employment, Other groups of workers, Workers in non-standard forms of employment",
          "Children (minors), Disabled, Employees in standard employment, Parents, Self-employed, Single parents, Workers in non-standard forms of employment",
          "Migrants in employment, Posted workers, Seasonal workers",
          "Employees in standard employment, Parents in employment, Self-employed, Workers in non-standard forms of employment",
          "Employees in standard employment, Workers in essential services",
          "Employees in standard employment, Older people in employment (aged 55+)",
          "Other groups of workers, Self-employed, Solo-self-employed",
          "Companies providing essential services, Particular professions, Sector specific set of companies, The COVID-19 risk group at the workplace, Workers in care facilities, Workers in essential services",
          "Seasonal workers, Sector specific set of companies",
          "Migrants, Older people in employment (aged 55+), Other groups of workers, Youth (18-25) in employment",
          "Disabled, Disabled workers, Other businesses, Other groups of workers",
          "Seasonal workers, Unemployed, Workers in non-standard forms of employment",
          "Older citizens",
          "Employees in standard employment, Larger corporations, Other businesses, Unemployed",
          "SMEs, Self-employed",
          "Disabled workers, Female workers, Other groups of workers, Unemployed",
          "Employees in standard employment, Other businesses, Sector specific set of companies, Workers in non-standard forms of employment",
          "Employees in standard employment, Particular professions, Self-employed",
          "Parents, Parents in employment",
          "Other businesses, Solo-self-employed",
          "Larger corporations, SMEs, Start-ups",
          "Disabled, Unemployed",
          "One person or microenterprises, Sector specific set of companies, Solo-self-employed",
          "Older citizens, Youth (18-25)",
          "Larger corporations, SMEs, Sector specific set of companies",
          "Employees in standard employment, Sector specific set of companies, Unemployed",
          "Disabled, Older citizens, The COVID-19 risk group",
          "Older people in employment (aged 55+)",
          "Employees in standard employment, Workers in care facilities, Workers in non-standard forms of employment",
          "Larger corporations, One person or microenterprises, SMEs",
          "Migrants, Sector specific set of companies, Workers in non-standard forms of employment",
          "Employees in standard employment, Particular professions, Sector specific set of companies, Self-employed",
          "Workers in care facilities, Workers in essential services",
          "Companies providing essential services, Workers in care facilities, Workers in essential services",
          "Other businesses, Particular professions, Sector specific set of companies",
          "Larger corporations, Particular professions",
          "Particular professions, Workers in non-standard forms of employment",
          "Particular professions, Seasonal workers, Sector specific set of companies",
          "Companies providing essential services, Employees in standard employment, Particular professions, Sector specific set of companies, Workers in essential services",
          "Companies providing essential services, Sector specific set of companies, Start-ups",
          "Children (minors), Youth (18-25)",
          "Employees in standard employment, Seasonal workers",
          "Children (minors), Disabled, Disabled workers, People in care facilities",
          "Disabled, Older citizens, Parents",
          "Self-employed, Unemployed",
          "Particular professions, Self-employed, Solo-self-employed",
          "Children (minors)",
          "Children (minors), Women",
          "Self-employed, Solo-self-employed",
          "Companies providing essential services, Workers in essential services",
          "Employees in standard employment, Self-employed, The COVID-19 risk group at the workplace",
          "Employees in standard employment, One person or microenterprises, SMEs",
          "Seasonal workers, Workers in non-standard forms of employment",
          "Companies providing essential services, Employees in standard employment, Sector specific set of companies, Workers in care facilities, Workers in essential services",
          "Sector specific set of companies, Start-ups",
          "Other groups of workers, Self-employed",
          "Other groups of workers, Unemployed, Youth (18-25)",
          "Other businesses, Unemployed",
          "Disabled, Employees in standard employment, Older citizens, Parents, Parents in employment",
          "Disabled workers, One person or microenterprises, Self-employed, Solo-self-employed",
          "Disabled, Parents",
          "Disabled, Older citizens, People in care facilities, Single parents",
          "Other groups of workers, Particular professions",
          "Employees in standard employment, SMEs, Sector specific set of companies",
          "One person or microenterprises, Self-employed, Solo-self-employed, Unemployed",
          "Parents in employment, Single parents in employment",
          "Children (minors), Parents in employment, Single parents in employment",
          "Other groups of citizens, Youth (18-25)"
         ],
         "y": [
          9.197860962566844,
          9.090909090909092,
          3.3155080213903747,
          2.9946524064171123,
          2.6737967914438503,
          2.0320855614973263,
          1.7112299465240641,
          1.6042780748663104,
          1.3903743315508021,
          1.1764705882352942,
          1.1764705882352942,
          1.1764705882352942,
          1.06951871657754,
          0.9625668449197862,
          0.8556149732620321,
          0.8556149732620321,
          0.8556149732620321,
          0.7486631016042781,
          0.7486631016042781,
          0.6417112299465241,
          0.6417112299465241,
          0.6417112299465241,
          0.53475935828877,
          0.53475935828877,
          0.53475935828877,
          0.42780748663101603,
          0.42780748663101603,
          0.42780748663101603,
          0.42780748663101603,
          0.42780748663101603,
          0.42780748663101603,
          0.42780748663101603,
          0.42780748663101603,
          0.42780748663101603,
          0.42780748663101603,
          0.32085561497326204,
          0.32085561497326204,
          0.32085561497326204,
          0.32085561497326204,
          0.32085561497326204,
          0.32085561497326204,
          0.32085561497326204,
          0.32085561497326204,
          0.32085561497326204,
          0.32085561497326204,
          0.21390374331550802,
          0.21390374331550802,
          0.21390374331550802,
          0.21390374331550802,
          0.21390374331550802,
          0.21390374331550802,
          0.21390374331550802,
          0.21390374331550802,
          0.21390374331550802,
          0.21390374331550802,
          0.21390374331550802,
          0.21390374331550802,
          0.21390374331550802,
          0.21390374331550802,
          0.21390374331550802,
          0.21390374331550802,
          0.21390374331550802,
          0.21390374331550802,
          0.21390374331550802,
          0.21390374331550802,
          0.21390374331550802,
          0.21390374331550802,
          0.21390374331550802,
          0.21390374331550802,
          0.21390374331550802,
          0.21390374331550802,
          0.21390374331550802,
          0.21390374331550802,
          0.21390374331550802,
          0.10695187165775401,
          0.10695187165775401,
          0.10695187165775401,
          0.10695187165775401,
          0.10695187165775401,
          0.10695187165775401,
          0.10695187165775401,
          0.10695187165775401,
          0.10695187165775401,
          0.10695187165775401,
          0.10695187165775401,
          0.10695187165775401,
          0.10695187165775401,
          0.10695187165775401,
          0.10695187165775401,
          0.10695187165775401,
          0.10695187165775401,
          0.10695187165775401,
          0.10695187165775401,
          0.10695187165775401,
          0.10695187165775401,
          0.10695187165775401,
          0.10695187165775401,
          0.10695187165775401,
          0.10695187165775401,
          0.10695187165775401,
          0.10695187165775401,
          0.10695187165775401,
          0.10695187165775401,
          0.10695187165775401,
          0.10695187165775401,
          0.10695187165775401,
          0.10695187165775401,
          0.10695187165775401,
          0.10695187165775401,
          0.10695187165775401,
          0.10695187165775401,
          0.10695187165775401,
          0.10695187165775401,
          0.10695187165775401,
          0.10695187165775401,
          0.10695187165775401,
          0.10695187165775401,
          0.10695187165775401,
          0.10695187165775401,
          0.10695187165775401,
          0.10695187165775401,
          0.10695187165775401,
          0.10695187165775401,
          0.10695187165775401,
          0.10695187165775401,
          0.10695187165775401,
          0.10695187165775401,
          0.10695187165775401,
          0.10695187165775401,
          0.10695187165775401,
          0.10695187165775401,
          0.10695187165775401,
          0.10695187165775401,
          0.10695187165775401,
          0.10695187165775401,
          0.10695187165775401,
          0.10695187165775401,
          0.10695187165775401,
          0.10695187165775401,
          0.10695187165775401,
          0.10695187165775401,
          0.10695187165775401,
          0.10695187165775401,
          0.10695187165775401,
          0.10695187165775401,
          0.10695187165775401,
          0.10695187165775401,
          0.10695187165775401,
          0.10695187165775401,
          0.10695187165775401,
          0.10695187165775401,
          0.10695187165775401,
          0.10695187165775401,
          0.10695187165775401,
          0.10695187165775401,
          0.10695187165775401,
          0.10695187165775401,
          0.10695187165775401,
          0.10695187165775401,
          0.10695187165775401,
          0.10695187165775401,
          0.10695187165775401,
          0.10695187165775401,
          0.10695187165775401,
          0.10695187165775401,
          0.10695187165775401,
          0.10695187165775401,
          0.10695187165775401,
          0.10695187165775401,
          0.10695187165775401,
          0.10695187165775401,
          0.10695187165775401,
          0.10695187165775401,
          0.10695187165775401,
          0.10695187165775401,
          0.10695187165775401,
          0.10695187165775401,
          0.10695187165775401,
          0.10695187165775401,
          0.10695187165775401,
          0.10695187165775401,
          0.10695187165775401,
          0.10695187165775401,
          0.10695187165775401,
          0.10695187165775401,
          0.10695187165775401,
          0.10695187165775401,
          0.10695187165775401,
          0.10695187165775401,
          0.10695187165775401,
          0.10695187165775401,
          0.10695187165775401,
          0.10695187165775401,
          0.10695187165775401,
          0.10695187165775401,
          0.10695187165775401,
          0.10695187165775401,
          0.10695187165775401,
          0.10695187165775401,
          0.10695187165775401,
          0.10695187165775401,
          0.10695187165775401
         ]
        }
       ],
       "layout": {
        "template": {
         "data": {
          "bar": [
           {
            "error_x": {
             "color": "#2a3f5f"
            },
            "error_y": {
             "color": "#2a3f5f"
            },
            "marker": {
             "line": {
              "color": "#E5ECF6",
              "width": 0.5
             }
            },
            "type": "bar"
           }
          ],
          "barpolar": [
           {
            "marker": {
             "line": {
              "color": "#E5ECF6",
              "width": 0.5
             }
            },
            "type": "barpolar"
           }
          ],
          "carpet": [
           {
            "aaxis": {
             "endlinecolor": "#2a3f5f",
             "gridcolor": "white",
             "linecolor": "white",
             "minorgridcolor": "white",
             "startlinecolor": "#2a3f5f"
            },
            "baxis": {
             "endlinecolor": "#2a3f5f",
             "gridcolor": "white",
             "linecolor": "white",
             "minorgridcolor": "white",
             "startlinecolor": "#2a3f5f"
            },
            "type": "carpet"
           }
          ],
          "choropleth": [
           {
            "colorbar": {
             "outlinewidth": 0,
             "ticks": ""
            },
            "type": "choropleth"
           }
          ],
          "contour": [
           {
            "colorbar": {
             "outlinewidth": 0,
             "ticks": ""
            },
            "colorscale": [
             [
              0.0,
              "#0d0887"
             ],
             [
              0.1111111111111111,
              "#46039f"
             ],
             [
              0.2222222222222222,
              "#7201a8"
             ],
             [
              0.3333333333333333,
              "#9c179e"
             ],
             [
              0.4444444444444444,
              "#bd3786"
             ],
             [
              0.5555555555555556,
              "#d8576b"
             ],
             [
              0.6666666666666666,
              "#ed7953"
             ],
             [
              0.7777777777777778,
              "#fb9f3a"
             ],
             [
              0.8888888888888888,
              "#fdca26"
             ],
             [
              1.0,
              "#f0f921"
             ]
            ],
            "type": "contour"
           }
          ],
          "contourcarpet": [
           {
            "colorbar": {
             "outlinewidth": 0,
             "ticks": ""
            },
            "type": "contourcarpet"
           }
          ],
          "heatmap": [
           {
            "colorbar": {
             "outlinewidth": 0,
             "ticks": ""
            },
            "colorscale": [
             [
              0.0,
              "#0d0887"
             ],
             [
              0.1111111111111111,
              "#46039f"
             ],
             [
              0.2222222222222222,
              "#7201a8"
             ],
             [
              0.3333333333333333,
              "#9c179e"
             ],
             [
              0.4444444444444444,
              "#bd3786"
             ],
             [
              0.5555555555555556,
              "#d8576b"
             ],
             [
              0.6666666666666666,
              "#ed7953"
             ],
             [
              0.7777777777777778,
              "#fb9f3a"
             ],
             [
              0.8888888888888888,
              "#fdca26"
             ],
             [
              1.0,
              "#f0f921"
             ]
            ],
            "type": "heatmap"
           }
          ],
          "heatmapgl": [
           {
            "colorbar": {
             "outlinewidth": 0,
             "ticks": ""
            },
            "colorscale": [
             [
              0.0,
              "#0d0887"
             ],
             [
              0.1111111111111111,
              "#46039f"
             ],
             [
              0.2222222222222222,
              "#7201a8"
             ],
             [
              0.3333333333333333,
              "#9c179e"
             ],
             [
              0.4444444444444444,
              "#bd3786"
             ],
             [
              0.5555555555555556,
              "#d8576b"
             ],
             [
              0.6666666666666666,
              "#ed7953"
             ],
             [
              0.7777777777777778,
              "#fb9f3a"
             ],
             [
              0.8888888888888888,
              "#fdca26"
             ],
             [
              1.0,
              "#f0f921"
             ]
            ],
            "type": "heatmapgl"
           }
          ],
          "histogram": [
           {
            "marker": {
             "colorbar": {
              "outlinewidth": 0,
              "ticks": ""
             }
            },
            "type": "histogram"
           }
          ],
          "histogram2d": [
           {
            "colorbar": {
             "outlinewidth": 0,
             "ticks": ""
            },
            "colorscale": [
             [
              0.0,
              "#0d0887"
             ],
             [
              0.1111111111111111,
              "#46039f"
             ],
             [
              0.2222222222222222,
              "#7201a8"
             ],
             [
              0.3333333333333333,
              "#9c179e"
             ],
             [
              0.4444444444444444,
              "#bd3786"
             ],
             [
              0.5555555555555556,
              "#d8576b"
             ],
             [
              0.6666666666666666,
              "#ed7953"
             ],
             [
              0.7777777777777778,
              "#fb9f3a"
             ],
             [
              0.8888888888888888,
              "#fdca26"
             ],
             [
              1.0,
              "#f0f921"
             ]
            ],
            "type": "histogram2d"
           }
          ],
          "histogram2dcontour": [
           {
            "colorbar": {
             "outlinewidth": 0,
             "ticks": ""
            },
            "colorscale": [
             [
              0.0,
              "#0d0887"
             ],
             [
              0.1111111111111111,
              "#46039f"
             ],
             [
              0.2222222222222222,
              "#7201a8"
             ],
             [
              0.3333333333333333,
              "#9c179e"
             ],
             [
              0.4444444444444444,
              "#bd3786"
             ],
             [
              0.5555555555555556,
              "#d8576b"
             ],
             [
              0.6666666666666666,
              "#ed7953"
             ],
             [
              0.7777777777777778,
              "#fb9f3a"
             ],
             [
              0.8888888888888888,
              "#fdca26"
             ],
             [
              1.0,
              "#f0f921"
             ]
            ],
            "type": "histogram2dcontour"
           }
          ],
          "mesh3d": [
           {
            "colorbar": {
             "outlinewidth": 0,
             "ticks": ""
            },
            "type": "mesh3d"
           }
          ],
          "parcoords": [
           {
            "line": {
             "colorbar": {
              "outlinewidth": 0,
              "ticks": ""
             }
            },
            "type": "parcoords"
           }
          ],
          "pie": [
           {
            "automargin": true,
            "type": "pie"
           }
          ],
          "scatter": [
           {
            "marker": {
             "colorbar": {
              "outlinewidth": 0,
              "ticks": ""
             }
            },
            "type": "scatter"
           }
          ],
          "scatter3d": [
           {
            "line": {
             "colorbar": {
              "outlinewidth": 0,
              "ticks": ""
             }
            },
            "marker": {
             "colorbar": {
              "outlinewidth": 0,
              "ticks": ""
             }
            },
            "type": "scatter3d"
           }
          ],
          "scattercarpet": [
           {
            "marker": {
             "colorbar": {
              "outlinewidth": 0,
              "ticks": ""
             }
            },
            "type": "scattercarpet"
           }
          ],
          "scattergeo": [
           {
            "marker": {
             "colorbar": {
              "outlinewidth": 0,
              "ticks": ""
             }
            },
            "type": "scattergeo"
           }
          ],
          "scattergl": [
           {
            "marker": {
             "colorbar": {
              "outlinewidth": 0,
              "ticks": ""
             }
            },
            "type": "scattergl"
           }
          ],
          "scattermapbox": [
           {
            "marker": {
             "colorbar": {
              "outlinewidth": 0,
              "ticks": ""
             }
            },
            "type": "scattermapbox"
           }
          ],
          "scatterpolar": [
           {
            "marker": {
             "colorbar": {
              "outlinewidth": 0,
              "ticks": ""
             }
            },
            "type": "scatterpolar"
           }
          ],
          "scatterpolargl": [
           {
            "marker": {
             "colorbar": {
              "outlinewidth": 0,
              "ticks": ""
             }
            },
            "type": "scatterpolargl"
           }
          ],
          "scatterternary": [
           {
            "marker": {
             "colorbar": {
              "outlinewidth": 0,
              "ticks": ""
             }
            },
            "type": "scatterternary"
           }
          ],
          "surface": [
           {
            "colorbar": {
             "outlinewidth": 0,
             "ticks": ""
            },
            "colorscale": [
             [
              0.0,
              "#0d0887"
             ],
             [
              0.1111111111111111,
              "#46039f"
             ],
             [
              0.2222222222222222,
              "#7201a8"
             ],
             [
              0.3333333333333333,
              "#9c179e"
             ],
             [
              0.4444444444444444,
              "#bd3786"
             ],
             [
              0.5555555555555556,
              "#d8576b"
             ],
             [
              0.6666666666666666,
              "#ed7953"
             ],
             [
              0.7777777777777778,
              "#fb9f3a"
             ],
             [
              0.8888888888888888,
              "#fdca26"
             ],
             [
              1.0,
              "#f0f921"
             ]
            ],
            "type": "surface"
           }
          ],
          "table": [
           {
            "cells": {
             "fill": {
              "color": "#EBF0F8"
             },
             "line": {
              "color": "white"
             }
            },
            "header": {
             "fill": {
              "color": "#C8D4E3"
             },
             "line": {
              "color": "white"
             }
            },
            "type": "table"
           }
          ]
         },
         "layout": {
          "annotationdefaults": {
           "arrowcolor": "#2a3f5f",
           "arrowhead": 0,
           "arrowwidth": 1
          },
          "autotypenumbers": "strict",
          "coloraxis": {
           "colorbar": {
            "outlinewidth": 0,
            "ticks": ""
           }
          },
          "colorscale": {
           "diverging": [
            [
             0,
             "#8e0152"
            ],
            [
             0.1,
             "#c51b7d"
            ],
            [
             0.2,
             "#de77ae"
            ],
            [
             0.3,
             "#f1b6da"
            ],
            [
             0.4,
             "#fde0ef"
            ],
            [
             0.5,
             "#f7f7f7"
            ],
            [
             0.6,
             "#e6f5d0"
            ],
            [
             0.7,
             "#b8e186"
            ],
            [
             0.8,
             "#7fbc41"
            ],
            [
             0.9,
             "#4d9221"
            ],
            [
             1,
             "#276419"
            ]
           ],
           "sequential": [
            [
             0.0,
             "#0d0887"
            ],
            [
             0.1111111111111111,
             "#46039f"
            ],
            [
             0.2222222222222222,
             "#7201a8"
            ],
            [
             0.3333333333333333,
             "#9c179e"
            ],
            [
             0.4444444444444444,
             "#bd3786"
            ],
            [
             0.5555555555555556,
             "#d8576b"
            ],
            [
             0.6666666666666666,
             "#ed7953"
            ],
            [
             0.7777777777777778,
             "#fb9f3a"
            ],
            [
             0.8888888888888888,
             "#fdca26"
            ],
            [
             1.0,
             "#f0f921"
            ]
           ],
           "sequentialminus": [
            [
             0.0,
             "#0d0887"
            ],
            [
             0.1111111111111111,
             "#46039f"
            ],
            [
             0.2222222222222222,
             "#7201a8"
            ],
            [
             0.3333333333333333,
             "#9c179e"
            ],
            [
             0.4444444444444444,
             "#bd3786"
            ],
            [
             0.5555555555555556,
             "#d8576b"
            ],
            [
             0.6666666666666666,
             "#ed7953"
            ],
            [
             0.7777777777777778,
             "#fb9f3a"
            ],
            [
             0.8888888888888888,
             "#fdca26"
            ],
            [
             1.0,
             "#f0f921"
            ]
           ]
          },
          "colorway": [
           "#636efa",
           "#EF553B",
           "#00cc96",
           "#ab63fa",
           "#FFA15A",
           "#19d3f3",
           "#FF6692",
           "#B6E880",
           "#FF97FF",
           "#FECB52"
          ],
          "font": {
           "color": "#2a3f5f"
          },
          "geo": {
           "bgcolor": "white",
           "lakecolor": "white",
           "landcolor": "#E5ECF6",
           "showlakes": true,
           "showland": true,
           "subunitcolor": "white"
          },
          "hoverlabel": {
           "align": "left"
          },
          "hovermode": "closest",
          "mapbox": {
           "style": "light"
          },
          "paper_bgcolor": "white",
          "plot_bgcolor": "#E5ECF6",
          "polar": {
           "angularaxis": {
            "gridcolor": "white",
            "linecolor": "white",
            "ticks": ""
           },
           "bgcolor": "#E5ECF6",
           "radialaxis": {
            "gridcolor": "white",
            "linecolor": "white",
            "ticks": ""
           }
          },
          "scene": {
           "xaxis": {
            "backgroundcolor": "#E5ECF6",
            "gridcolor": "white",
            "gridwidth": 2,
            "linecolor": "white",
            "showbackground": true,
            "ticks": "",
            "zerolinecolor": "white"
           },
           "yaxis": {
            "backgroundcolor": "#E5ECF6",
            "gridcolor": "white",
            "gridwidth": 2,
            "linecolor": "white",
            "showbackground": true,
            "ticks": "",
            "zerolinecolor": "white"
           },
           "zaxis": {
            "backgroundcolor": "#E5ECF6",
            "gridcolor": "white",
            "gridwidth": 2,
            "linecolor": "white",
            "showbackground": true,
            "ticks": "",
            "zerolinecolor": "white"
           }
          },
          "shapedefaults": {
           "line": {
            "color": "#2a3f5f"
           }
          },
          "ternary": {
           "aaxis": {
            "gridcolor": "white",
            "linecolor": "white",
            "ticks": ""
           },
           "baxis": {
            "gridcolor": "white",
            "linecolor": "white",
            "ticks": ""
           },
           "bgcolor": "#E5ECF6",
           "caxis": {
            "gridcolor": "white",
            "linecolor": "white",
            "ticks": ""
           }
          },
          "title": {
           "x": 0.05
          },
          "xaxis": {
           "automargin": true,
           "gridcolor": "white",
           "linecolor": "white",
           "ticks": "",
           "title": {
            "standoff": 15
           },
           "zerolinecolor": "white",
           "zerolinewidth": 2
          },
          "yaxis": {
           "automargin": true,
           "gridcolor": "white",
           "linecolor": "white",
           "ticks": "",
           "title": {
            "standoff": 15
           },
           "zerolinecolor": "white",
           "zerolinewidth": 2
          }
         }
        },
        "title": {
         "text": "Type of measure frequency"
        },
        "xaxis": {
         "title": {
          "text": "Index"
         }
        },
        "yaxis": {
         "title": {
          "text": "Frequency"
         }
        }
       }
      },
      "text/html": "<div>                            <div id=\"c4352890-5099-4fc6-b955-13baee684135\" class=\"plotly-graph-div\" style=\"height:525px; width:100%;\"></div>            <script type=\"text/javascript\">                require([\"plotly\"], function(Plotly) {                    window.PLOTLYENV=window.PLOTLYENV || {};                                    if (document.getElementById(\"c4352890-5099-4fc6-b955-13baee684135\")) {                    Plotly.newPlot(                        \"c4352890-5099-4fc6-b955-13baee684135\",                        [{\"type\": \"bar\", \"x\": [\"Employees in standard employment\", \"Sector specific set of companies\", \"Self-employed\", \"Unemployed\", \"SMEs\", \"Particular professions\", \"Employees in standard employment, Workers in non-standard forms of employment\", \"Other groups of citizens\", \"Disabled workers\", \"Particular professions, Sector specific set of companies\", \"Other groups of workers\", \"Employees in standard employment, Sector specific set of companies\", \"One person or microenterprises\", \"Other businesses\", \"Employees in standard employment, Unemployed\", \"Larger corporations\", \"One person or microenterprises, SMEs\", \"Employees in standard employment, Self-employed\", \"Parents in employment\", \"SMEs, Sector specific set of companies\", \"One person or microenterprises, Self-employed, Solo-self-employed\", \"Companies providing essential services\", \"Parents\", \"Companies providing essential services, Employees in standard employment, Workers in care facilities, Workers in essential services\", \"One person or microenterprises, Solo-self-employed\", \"Employees in standard employment, Other groups of workers\", \"Employees in standard employment, Parents in employment\", \"One person or microenterprises, SMEs, Solo-self-employed\", \"Employees in standard employment, Larger corporations\", \"Employees in standard employment, Workers in care facilities, Workers in essential services\", \"Particular professions, Self-employed\", \"Solo-self-employed\", \"Workers in essential services\", \"Workers in non-standard forms of employment\", \"Particular professions, Workers in care facilities\", \"Disabled, Disabled workers\", \"Disabled\", \"Seasonal workers\", \"Start-ups\", \"The COVID-19 risk group at the workplace\", \"One person or microenterprises, SMEs, Self-employed, Solo-self-employed\", \"Other groups of workers, Sector specific set of companies\", \"One person or microenterprises, SMEs, Self-employed\", \"Migrants in employment\", \"Other businesses, SMEs\", \"Larger corporations, SMEs\", \"Employees in standard employment, Workers in non-standard forms of employment, Youth (18-25) in employment\", \"SMEs, Start-ups\", \"Employees in standard employment, Other businesses\", \"Workers in care facilities\", \"Sector specific set of companies, Unemployed\", \"Employees in standard employment, Particular professions, Workers in non-standard forms of employment\", \"Other groups of workers, Youth (18-25) in employment\", \"Particular professions, Sector specific set of companies, Self-employed\", \"Other businesses, Other groups of workers\", \"Unemployed, Youth (18-25)\", \"Other groups of citizens, The COVID-19 risk group\", \"Self-employed, Workers in non-standard forms of employment\", \"Sector specific set of companies, Self-employed\", \"Larger corporations, Other businesses\", \"Disabled workers, The COVID-19 risk group at the workplace\", \"Employees in standard employment, Parents in employment, Self-employed\", \"Other groups of workers, Workers in essential services\", \"One person or microenterprises, SMEs, Sector specific set of companies\", \"Particular professions, Unemployed\", \"Particular professions, Workers in care facilities, Workers in essential services\", \"One person or microenterprises, SMEs, Start-ups\", \"One person or microenterprises, SMEs, Sector specific set of companies, Solo-self-employed\", \"Disabled workers, Other groups of workers\", \"Other businesses, Sector specific set of companies\", \"Unemployed, Youth (18-25) in employment\", \"Disabled, Older citizens\", \"Companies providing essential services, Other businesses\", \"Youth (18-25) in employment\", \"Older citizens, The COVID-19 risk group\", \"Cross-border commuters, Seasonal workers\", \"Particular professions, Workers in essential services\", \"Employees in standard employment, Other groups of workers, Self-employed\", \"Children (minors), Disabled, Older citizens, Parents, SMEs, Single parents, Single parents in employment, The COVID-19 risk group, Workers in care facilities, Workers in essential services\", \"Disabled, Older citizens, Other groups of workers, The COVID-19 risk group, Unemployed\", \"Disabled, Older citizens, Parents, Youth (18-25)\", \"Migrants, Refugees\", \"Companies providing essential services, Employees in standard employment, Workers in essential services\", \"Self-employed, The COVID-19 risk group at the workplace, Workers in non-standard forms of employment\", \"Companies providing essential services, SMEs, Sector specific set of companies\", \"Particular professions, People in care facilities, Unemployed, Youth (18-25)\", \"Sector specific set of companies, Workers in non-standard forms of employment\", \"Parents in employment, Self-employed, Unemployed\", \"Disabled workers, Other businesses\", \"Sector specific set of companies, Undeclared workers\", \"One person or microenterprises, Other businesses, Sector specific set of companies, Solo-self-employed\", \"Larger corporations, Other businesses, SMEs\", \"Children (minors), Sector specific set of companies, Youth (18-25)\", \"One person or microenterprises, Particular professions, Sector specific set of companies, Self-employed, Solo-self-employed\", \"One person or microenterprises, Start-ups\", \"Employees in standard employment, Larger corporations, Other businesses\", \"Companies providing essential services, Larger corporations\", \"One person or microenterprises, SMEs, Sector specific set of companies, Self-employed, Solo-self-employed\", \"Disabled workers, Sector specific set of companies\", \"Companies providing essential services, Workers in care facilities\", \"Other businesses, Particular professions\", \"Disabled, Disabled workers, Older citizens, Older people in employment (aged 55+), Unemployed\", \"Older citizens, Other groups of citizens\", \"Particular professions, Posted workers, Seasonal workers\", \"Disabled, Disabled workers, The COVID-19 risk group, The COVID-19 risk group at the workplace\", \"Self-employed, Undeclared workers\", \"Employees in standard employment, SMEs, Unemployed, Youth (18-25) in employment\", \"Children (minors), Parents, Particular professions, Workers in essential services\", \"Parents, Single parents\", \"Employees in standard employment, Particular professions, People in care facilities, The COVID-19 risk group\", \"Children (minors), Parents, Unemployed\", \"Disabled, Older citizens, Self-employed, Unemployed, Youth (18-25)\", \"Companies providing essential services, Sector specific set of companies\", \"Employees in standard employment, Sector specific set of companies, Workers in non-standard forms of employment\", \"The COVID-19 risk group, The COVID-19 risk group at the workplace\", \"One person or microenterprises, Other businesses, Self-employed, Solo-self-employed\", \"Larger corporations, One person or microenterprises, SMEs, Self-employed, Start-ups\", \"SMEs, Solo-self-employed\", \"Employees in standard employment, SMEs\", \"Children (minors), Sector specific set of companies\", \"Particular professions, Platform workers, Seasonal workers, Self-employed, Workers in non-standard forms of employment\", \"Larger corporations, Sector specific set of companies\", \"Women\", \"Particular professions, Self-employed, Workers in non-standard forms of employment\", \"Parents, Parents in employment, Single parents in employment\", \"Other groups of workers, The COVID-19 risk group at the workplace\", \"Other groups of workers, Unemployed\", \"Contractors of a company\", \"Cross-border commuters, Posted workers\", \"Employees in standard employment, Particular professions\", \"Cross-border commuters\", \"Other groups of workers, Self-employed, Unemployed\", \"Disabled, Older citizens, Other groups of citizens\", \"Larger corporations, One person or microenterprises, SMEs, Solo-self-employed\", \"Employees in standard employment, Other groups of workers, Workers in non-standard forms of employment\", \"Children (minors), Disabled, Employees in standard employment, Parents, Self-employed, Single parents, Workers in non-standard forms of employment\", \"Migrants in employment, Posted workers, Seasonal workers\", \"Employees in standard employment, Parents in employment, Self-employed, Workers in non-standard forms of employment\", \"Employees in standard employment, Workers in essential services\", \"Employees in standard employment, Older people in employment (aged 55+)\", \"Other groups of workers, Self-employed, Solo-self-employed\", \"Companies providing essential services, Particular professions, Sector specific set of companies, The COVID-19 risk group at the workplace, Workers in care facilities, Workers in essential services\", \"Seasonal workers, Sector specific set of companies\", \"Migrants, Older people in employment (aged 55+), Other groups of workers, Youth (18-25) in employment\", \"Disabled, Disabled workers, Other businesses, Other groups of workers\", \"Seasonal workers, Unemployed, Workers in non-standard forms of employment\", \"Older citizens\", \"Employees in standard employment, Larger corporations, Other businesses, Unemployed\", \"SMEs, Self-employed\", \"Disabled workers, Female workers, Other groups of workers, Unemployed\", \"Employees in standard employment, Other businesses, Sector specific set of companies, Workers in non-standard forms of employment\", \"Employees in standard employment, Particular professions, Self-employed\", \"Parents, Parents in employment\", \"Other businesses, Solo-self-employed\", \"Larger corporations, SMEs, Start-ups\", \"Disabled, Unemployed\", \"One person or microenterprises, Sector specific set of companies, Solo-self-employed\", \"Older citizens, Youth (18-25)\", \"Larger corporations, SMEs, Sector specific set of companies\", \"Employees in standard employment, Sector specific set of companies, Unemployed\", \"Disabled, Older citizens, The COVID-19 risk group\", \"Older people in employment (aged 55+)\", \"Employees in standard employment, Workers in care facilities, Workers in non-standard forms of employment\", \"Larger corporations, One person or microenterprises, SMEs\", \"Migrants, Sector specific set of companies, Workers in non-standard forms of employment\", \"Employees in standard employment, Particular professions, Sector specific set of companies, Self-employed\", \"Workers in care facilities, Workers in essential services\", \"Companies providing essential services, Workers in care facilities, Workers in essential services\", \"Other businesses, Particular professions, Sector specific set of companies\", \"Larger corporations, Particular professions\", \"Particular professions, Workers in non-standard forms of employment\", \"Particular professions, Seasonal workers, Sector specific set of companies\", \"Companies providing essential services, Employees in standard employment, Particular professions, Sector specific set of companies, Workers in essential services\", \"Companies providing essential services, Sector specific set of companies, Start-ups\", \"Children (minors), Youth (18-25)\", \"Employees in standard employment, Seasonal workers\", \"Children (minors), Disabled, Disabled workers, People in care facilities\", \"Disabled, Older citizens, Parents\", \"Self-employed, Unemployed\", \"Particular professions, Self-employed, Solo-self-employed\", \"Children (minors)\", \"Children (minors), Women\", \"Self-employed, Solo-self-employed\", \"Companies providing essential services, Workers in essential services\", \"Employees in standard employment, Self-employed, The COVID-19 risk group at the workplace\", \"Employees in standard employment, One person or microenterprises, SMEs\", \"Seasonal workers, Workers in non-standard forms of employment\", \"Companies providing essential services, Employees in standard employment, Sector specific set of companies, Workers in care facilities, Workers in essential services\", \"Sector specific set of companies, Start-ups\", \"Other groups of workers, Self-employed\", \"Other groups of workers, Unemployed, Youth (18-25)\", \"Other businesses, Unemployed\", \"Disabled, Employees in standard employment, Older citizens, Parents, Parents in employment\", \"Disabled workers, One person or microenterprises, Self-employed, Solo-self-employed\", \"Disabled, Parents\", \"Disabled, Older citizens, People in care facilities, Single parents\", \"Other groups of workers, Particular professions\", \"Employees in standard employment, SMEs, Sector specific set of companies\", \"One person or microenterprises, Self-employed, Solo-self-employed, Unemployed\", \"Parents in employment, Single parents in employment\", \"Children (minors), Parents in employment, Single parents in employment\", \"Other groups of citizens, Youth (18-25)\"], \"y\": [9.197860962566844, 9.090909090909092, 3.3155080213903747, 2.9946524064171123, 2.6737967914438503, 2.0320855614973263, 1.7112299465240641, 1.6042780748663104, 1.3903743315508021, 1.1764705882352942, 1.1764705882352942, 1.1764705882352942, 1.06951871657754, 0.9625668449197862, 0.8556149732620321, 0.8556149732620321, 0.8556149732620321, 0.7486631016042781, 0.7486631016042781, 0.6417112299465241, 0.6417112299465241, 0.6417112299465241, 0.53475935828877, 0.53475935828877, 0.53475935828877, 0.42780748663101603, 0.42780748663101603, 0.42780748663101603, 0.42780748663101603, 0.42780748663101603, 0.42780748663101603, 0.42780748663101603, 0.42780748663101603, 0.42780748663101603, 0.42780748663101603, 0.32085561497326204, 0.32085561497326204, 0.32085561497326204, 0.32085561497326204, 0.32085561497326204, 0.32085561497326204, 0.32085561497326204, 0.32085561497326204, 0.32085561497326204, 0.32085561497326204, 0.21390374331550802, 0.21390374331550802, 0.21390374331550802, 0.21390374331550802, 0.21390374331550802, 0.21390374331550802, 0.21390374331550802, 0.21390374331550802, 0.21390374331550802, 0.21390374331550802, 0.21390374331550802, 0.21390374331550802, 0.21390374331550802, 0.21390374331550802, 0.21390374331550802, 0.21390374331550802, 0.21390374331550802, 0.21390374331550802, 0.21390374331550802, 0.21390374331550802, 0.21390374331550802, 0.21390374331550802, 0.21390374331550802, 0.21390374331550802, 0.21390374331550802, 0.21390374331550802, 0.21390374331550802, 0.21390374331550802, 0.21390374331550802, 0.10695187165775401, 0.10695187165775401, 0.10695187165775401, 0.10695187165775401, 0.10695187165775401, 0.10695187165775401, 0.10695187165775401, 0.10695187165775401, 0.10695187165775401, 0.10695187165775401, 0.10695187165775401, 0.10695187165775401, 0.10695187165775401, 0.10695187165775401, 0.10695187165775401, 0.10695187165775401, 0.10695187165775401, 0.10695187165775401, 0.10695187165775401, 0.10695187165775401, 0.10695187165775401, 0.10695187165775401, 0.10695187165775401, 0.10695187165775401, 0.10695187165775401, 0.10695187165775401, 0.10695187165775401, 0.10695187165775401, 0.10695187165775401, 0.10695187165775401, 0.10695187165775401, 0.10695187165775401, 0.10695187165775401, 0.10695187165775401, 0.10695187165775401, 0.10695187165775401, 0.10695187165775401, 0.10695187165775401, 0.10695187165775401, 0.10695187165775401, 0.10695187165775401, 0.10695187165775401, 0.10695187165775401, 0.10695187165775401, 0.10695187165775401, 0.10695187165775401, 0.10695187165775401, 0.10695187165775401, 0.10695187165775401, 0.10695187165775401, 0.10695187165775401, 0.10695187165775401, 0.10695187165775401, 0.10695187165775401, 0.10695187165775401, 0.10695187165775401, 0.10695187165775401, 0.10695187165775401, 0.10695187165775401, 0.10695187165775401, 0.10695187165775401, 0.10695187165775401, 0.10695187165775401, 0.10695187165775401, 0.10695187165775401, 0.10695187165775401, 0.10695187165775401, 0.10695187165775401, 0.10695187165775401, 0.10695187165775401, 0.10695187165775401, 0.10695187165775401, 0.10695187165775401, 0.10695187165775401, 0.10695187165775401, 0.10695187165775401, 0.10695187165775401, 0.10695187165775401, 0.10695187165775401, 0.10695187165775401, 0.10695187165775401, 0.10695187165775401, 0.10695187165775401, 0.10695187165775401, 0.10695187165775401, 0.10695187165775401, 0.10695187165775401, 0.10695187165775401, 0.10695187165775401, 0.10695187165775401, 0.10695187165775401, 0.10695187165775401, 0.10695187165775401, 0.10695187165775401, 0.10695187165775401, 0.10695187165775401, 0.10695187165775401, 0.10695187165775401, 0.10695187165775401, 0.10695187165775401, 0.10695187165775401, 0.10695187165775401, 0.10695187165775401, 0.10695187165775401, 0.10695187165775401, 0.10695187165775401, 0.10695187165775401, 0.10695187165775401, 0.10695187165775401, 0.10695187165775401, 0.10695187165775401, 0.10695187165775401, 0.10695187165775401, 0.10695187165775401, 0.10695187165775401, 0.10695187165775401, 0.10695187165775401, 0.10695187165775401, 0.10695187165775401, 0.10695187165775401, 0.10695187165775401, 0.10695187165775401, 0.10695187165775401, 0.10695187165775401, 0.10695187165775401, 0.10695187165775401, 0.10695187165775401, 0.10695187165775401]}],                        {\"template\": {\"data\": {\"bar\": [{\"error_x\": {\"color\": \"#2a3f5f\"}, \"error_y\": {\"color\": \"#2a3f5f\"}, \"marker\": {\"line\": {\"color\": \"#E5ECF6\", \"width\": 0.5}}, \"type\": \"bar\"}], \"barpolar\": [{\"marker\": {\"line\": {\"color\": \"#E5ECF6\", \"width\": 0.5}}, \"type\": \"barpolar\"}], \"carpet\": [{\"aaxis\": {\"endlinecolor\": \"#2a3f5f\", \"gridcolor\": \"white\", \"linecolor\": \"white\", \"minorgridcolor\": \"white\", \"startlinecolor\": \"#2a3f5f\"}, \"baxis\": {\"endlinecolor\": \"#2a3f5f\", \"gridcolor\": \"white\", \"linecolor\": \"white\", \"minorgridcolor\": \"white\", \"startlinecolor\": \"#2a3f5f\"}, \"type\": \"carpet\"}], \"choropleth\": [{\"colorbar\": {\"outlinewidth\": 0, \"ticks\": \"\"}, \"type\": \"choropleth\"}], \"contour\": [{\"colorbar\": {\"outlinewidth\": 0, \"ticks\": \"\"}, \"colorscale\": [[0.0, \"#0d0887\"], [0.1111111111111111, \"#46039f\"], [0.2222222222222222, \"#7201a8\"], [0.3333333333333333, \"#9c179e\"], [0.4444444444444444, \"#bd3786\"], [0.5555555555555556, \"#d8576b\"], [0.6666666666666666, \"#ed7953\"], [0.7777777777777778, \"#fb9f3a\"], [0.8888888888888888, \"#fdca26\"], [1.0, \"#f0f921\"]], \"type\": \"contour\"}], \"contourcarpet\": [{\"colorbar\": {\"outlinewidth\": 0, \"ticks\": \"\"}, \"type\": \"contourcarpet\"}], \"heatmap\": [{\"colorbar\": {\"outlinewidth\": 0, \"ticks\": \"\"}, \"colorscale\": [[0.0, \"#0d0887\"], [0.1111111111111111, \"#46039f\"], [0.2222222222222222, \"#7201a8\"], [0.3333333333333333, \"#9c179e\"], [0.4444444444444444, \"#bd3786\"], [0.5555555555555556, \"#d8576b\"], [0.6666666666666666, \"#ed7953\"], [0.7777777777777778, \"#fb9f3a\"], [0.8888888888888888, \"#fdca26\"], [1.0, \"#f0f921\"]], \"type\": \"heatmap\"}], \"heatmapgl\": [{\"colorbar\": {\"outlinewidth\": 0, \"ticks\": \"\"}, \"colorscale\": [[0.0, \"#0d0887\"], [0.1111111111111111, \"#46039f\"], [0.2222222222222222, \"#7201a8\"], [0.3333333333333333, \"#9c179e\"], [0.4444444444444444, \"#bd3786\"], [0.5555555555555556, \"#d8576b\"], [0.6666666666666666, \"#ed7953\"], [0.7777777777777778, \"#fb9f3a\"], [0.8888888888888888, \"#fdca26\"], [1.0, \"#f0f921\"]], \"type\": \"heatmapgl\"}], \"histogram\": [{\"marker\": {\"colorbar\": {\"outlinewidth\": 0, \"ticks\": \"\"}}, \"type\": \"histogram\"}], \"histogram2d\": [{\"colorbar\": {\"outlinewidth\": 0, \"ticks\": \"\"}, \"colorscale\": [[0.0, \"#0d0887\"], [0.1111111111111111, \"#46039f\"], [0.2222222222222222, \"#7201a8\"], [0.3333333333333333, \"#9c179e\"], [0.4444444444444444, \"#bd3786\"], [0.5555555555555556, \"#d8576b\"], [0.6666666666666666, \"#ed7953\"], [0.7777777777777778, \"#fb9f3a\"], [0.8888888888888888, \"#fdca26\"], [1.0, \"#f0f921\"]], \"type\": \"histogram2d\"}], \"histogram2dcontour\": [{\"colorbar\": {\"outlinewidth\": 0, \"ticks\": \"\"}, \"colorscale\": [[0.0, \"#0d0887\"], [0.1111111111111111, \"#46039f\"], [0.2222222222222222, \"#7201a8\"], [0.3333333333333333, \"#9c179e\"], [0.4444444444444444, \"#bd3786\"], [0.5555555555555556, \"#d8576b\"], [0.6666666666666666, \"#ed7953\"], [0.7777777777777778, \"#fb9f3a\"], [0.8888888888888888, \"#fdca26\"], [1.0, \"#f0f921\"]], \"type\": \"histogram2dcontour\"}], \"mesh3d\": [{\"colorbar\": {\"outlinewidth\": 0, \"ticks\": \"\"}, \"type\": \"mesh3d\"}], \"parcoords\": [{\"line\": {\"colorbar\": {\"outlinewidth\": 0, \"ticks\": \"\"}}, \"type\": \"parcoords\"}], \"pie\": [{\"automargin\": true, \"type\": \"pie\"}], \"scatter\": [{\"marker\": {\"colorbar\": {\"outlinewidth\": 0, \"ticks\": \"\"}}, \"type\": \"scatter\"}], \"scatter3d\": [{\"line\": {\"colorbar\": {\"outlinewidth\": 0, \"ticks\": \"\"}}, \"marker\": {\"colorbar\": {\"outlinewidth\": 0, \"ticks\": \"\"}}, \"type\": \"scatter3d\"}], \"scattercarpet\": [{\"marker\": {\"colorbar\": {\"outlinewidth\": 0, \"ticks\": \"\"}}, \"type\": \"scattercarpet\"}], \"scattergeo\": [{\"marker\": {\"colorbar\": {\"outlinewidth\": 0, \"ticks\": \"\"}}, \"type\": \"scattergeo\"}], \"scattergl\": [{\"marker\": {\"colorbar\": {\"outlinewidth\": 0, \"ticks\": \"\"}}, \"type\": \"scattergl\"}], \"scattermapbox\": [{\"marker\": {\"colorbar\": {\"outlinewidth\": 0, \"ticks\": \"\"}}, \"type\": \"scattermapbox\"}], \"scatterpolar\": [{\"marker\": {\"colorbar\": {\"outlinewidth\": 0, \"ticks\": \"\"}}, \"type\": \"scatterpolar\"}], \"scatterpolargl\": [{\"marker\": {\"colorbar\": {\"outlinewidth\": 0, \"ticks\": \"\"}}, \"type\": \"scatterpolargl\"}], \"scatterternary\": [{\"marker\": {\"colorbar\": {\"outlinewidth\": 0, \"ticks\": \"\"}}, \"type\": \"scatterternary\"}], \"surface\": [{\"colorbar\": {\"outlinewidth\": 0, \"ticks\": \"\"}, \"colorscale\": [[0.0, \"#0d0887\"], [0.1111111111111111, \"#46039f\"], [0.2222222222222222, \"#7201a8\"], [0.3333333333333333, \"#9c179e\"], [0.4444444444444444, \"#bd3786\"], [0.5555555555555556, \"#d8576b\"], [0.6666666666666666, \"#ed7953\"], [0.7777777777777778, \"#fb9f3a\"], [0.8888888888888888, \"#fdca26\"], [1.0, \"#f0f921\"]], \"type\": \"surface\"}], \"table\": [{\"cells\": {\"fill\": {\"color\": \"#EBF0F8\"}, \"line\": {\"color\": \"white\"}}, \"header\": {\"fill\": {\"color\": \"#C8D4E3\"}, \"line\": {\"color\": \"white\"}}, \"type\": \"table\"}]}, \"layout\": {\"annotationdefaults\": {\"arrowcolor\": \"#2a3f5f\", \"arrowhead\": 0, \"arrowwidth\": 1}, \"autotypenumbers\": \"strict\", \"coloraxis\": {\"colorbar\": {\"outlinewidth\": 0, \"ticks\": \"\"}}, \"colorscale\": {\"diverging\": [[0, \"#8e0152\"], [0.1, \"#c51b7d\"], [0.2, \"#de77ae\"], [0.3, \"#f1b6da\"], [0.4, \"#fde0ef\"], [0.5, \"#f7f7f7\"], [0.6, \"#e6f5d0\"], [0.7, \"#b8e186\"], [0.8, \"#7fbc41\"], [0.9, \"#4d9221\"], [1, \"#276419\"]], \"sequential\": [[0.0, \"#0d0887\"], [0.1111111111111111, \"#46039f\"], [0.2222222222222222, \"#7201a8\"], [0.3333333333333333, \"#9c179e\"], [0.4444444444444444, \"#bd3786\"], [0.5555555555555556, \"#d8576b\"], [0.6666666666666666, \"#ed7953\"], [0.7777777777777778, \"#fb9f3a\"], [0.8888888888888888, \"#fdca26\"], [1.0, \"#f0f921\"]], \"sequentialminus\": [[0.0, \"#0d0887\"], [0.1111111111111111, \"#46039f\"], [0.2222222222222222, \"#7201a8\"], [0.3333333333333333, \"#9c179e\"], [0.4444444444444444, \"#bd3786\"], [0.5555555555555556, \"#d8576b\"], [0.6666666666666666, \"#ed7953\"], [0.7777777777777778, \"#fb9f3a\"], [0.8888888888888888, \"#fdca26\"], [1.0, \"#f0f921\"]]}, \"colorway\": [\"#636efa\", \"#EF553B\", \"#00cc96\", \"#ab63fa\", \"#FFA15A\", \"#19d3f3\", \"#FF6692\", \"#B6E880\", \"#FF97FF\", \"#FECB52\"], \"font\": {\"color\": \"#2a3f5f\"}, \"geo\": {\"bgcolor\": \"white\", \"lakecolor\": \"white\", \"landcolor\": \"#E5ECF6\", \"showlakes\": true, \"showland\": true, \"subunitcolor\": \"white\"}, \"hoverlabel\": {\"align\": \"left\"}, \"hovermode\": \"closest\", \"mapbox\": {\"style\": \"light\"}, \"paper_bgcolor\": \"white\", \"plot_bgcolor\": \"#E5ECF6\", \"polar\": {\"angularaxis\": {\"gridcolor\": \"white\", \"linecolor\": \"white\", \"ticks\": \"\"}, \"bgcolor\": \"#E5ECF6\", \"radialaxis\": {\"gridcolor\": \"white\", \"linecolor\": \"white\", \"ticks\": \"\"}}, \"scene\": {\"xaxis\": {\"backgroundcolor\": \"#E5ECF6\", \"gridcolor\": \"white\", \"gridwidth\": 2, \"linecolor\": \"white\", \"showbackground\": true, \"ticks\": \"\", \"zerolinecolor\": \"white\"}, \"yaxis\": {\"backgroundcolor\": \"#E5ECF6\", \"gridcolor\": \"white\", \"gridwidth\": 2, \"linecolor\": \"white\", \"showbackground\": true, \"ticks\": \"\", \"zerolinecolor\": \"white\"}, \"zaxis\": {\"backgroundcolor\": \"#E5ECF6\", \"gridcolor\": \"white\", \"gridwidth\": 2, \"linecolor\": \"white\", \"showbackground\": true, \"ticks\": \"\", \"zerolinecolor\": \"white\"}}, \"shapedefaults\": {\"line\": {\"color\": \"#2a3f5f\"}}, \"ternary\": {\"aaxis\": {\"gridcolor\": \"white\", \"linecolor\": \"white\", \"ticks\": \"\"}, \"baxis\": {\"gridcolor\": \"white\", \"linecolor\": \"white\", \"ticks\": \"\"}, \"bgcolor\": \"#E5ECF6\", \"caxis\": {\"gridcolor\": \"white\", \"linecolor\": \"white\", \"ticks\": \"\"}}, \"title\": {\"x\": 0.05}, \"xaxis\": {\"automargin\": true, \"gridcolor\": \"white\", \"linecolor\": \"white\", \"ticks\": \"\", \"title\": {\"standoff\": 15}, \"zerolinecolor\": \"white\", \"zerolinewidth\": 2}, \"yaxis\": {\"automargin\": true, \"gridcolor\": \"white\", \"linecolor\": \"white\", \"ticks\": \"\", \"title\": {\"standoff\": 15}, \"zerolinecolor\": \"white\", \"zerolinewidth\": 2}}}, \"title\": {\"text\": \"Type of measure frequency\"}, \"xaxis\": {\"title\": {\"text\": \"Index\"}}, \"yaxis\": {\"title\": {\"text\": \"Frequency\"}}},                        {\"responsive\": true}                    ).then(function(){\n                            \nvar gd = document.getElementById('c4352890-5099-4fc6-b955-13baee684135');\nvar x = new MutationObserver(function (mutations, observer) {{\n        var display = window.getComputedStyle(gd).display;\n        if (!display || display === 'none') {{\n            console.log([gd, 'removed!']);\n            Plotly.purge(gd);\n            observer.disconnect();\n        }}\n}});\n\n// Listen for the removal of the full notebook cells\nvar notebookContainer = gd.closest('#notebook-container');\nif (notebookContainer) {{\n    x.observe(notebookContainer, {childList: true});\n}}\n\n// Listen for the clearing of the current output cell\nvar outputEl = gd.closest('.output');\nif (outputEl) {{\n    x.observe(outputEl, {childList: true});\n}}\n\n                        })                };                });            </script>        </div>"
     },
     "metadata": {},
     "output_type": "display_data"
    }
   ],
   "source": [
    "plotly_bar_chart_graphic(\"Type of measure frequency\", df_tg_table['index'],\n",
    "                         df_tg_table['Frequency'], \"Index\", \"Frequency\")"
   ],
   "metadata": {
    "collapsed": false,
    "pycharm": {
     "name": "#%%\n"
    }
   }
  },
  {
   "cell_type": "markdown",
   "source": [
    "### Value table\n"
   ],
   "metadata": {
    "collapsed": false,
    "pycharm": {
     "name": "#%% md\n"
    }
   }
  },
  {
   "cell_type": "code",
   "execution_count": 17,
   "outputs": [
    {
     "data": {
      "text/plain": "                                                 index  Values\n0                     Employees in standard employment      86\n1                     Sector specific set of companies      85\n2                                        Self-employed      31\n3                                           Unemployed      28\n4                                                 SMEs      25\n..                                                 ...     ...\n197  Employees in standard employment, SMEs, Sector...       1\n198  One person or microenterprises, Self-employed,...       1\n199  Parents in employment, Single parents in emplo...       1\n200  Children (minors), Parents in employment, Sing...       1\n201            Other groups of citizens, Youth (18-25)       1\n\n[202 rows x 2 columns]",
      "text/html": "<div>\n<style scoped>\n    .dataframe tbody tr th:only-of-type {\n        vertical-align: middle;\n    }\n\n    .dataframe tbody tr th {\n        vertical-align: top;\n    }\n\n    .dataframe thead th {\n        text-align: right;\n    }\n</style>\n<table border=\"1\" class=\"dataframe\">\n  <thead>\n    <tr style=\"text-align: right;\">\n      <th></th>\n      <th>index</th>\n      <th>Values</th>\n    </tr>\n  </thead>\n  <tbody>\n    <tr>\n      <th>0</th>\n      <td>Employees in standard employment</td>\n      <td>86</td>\n    </tr>\n    <tr>\n      <th>1</th>\n      <td>Sector specific set of companies</td>\n      <td>85</td>\n    </tr>\n    <tr>\n      <th>2</th>\n      <td>Self-employed</td>\n      <td>31</td>\n    </tr>\n    <tr>\n      <th>3</th>\n      <td>Unemployed</td>\n      <td>28</td>\n    </tr>\n    <tr>\n      <th>4</th>\n      <td>SMEs</td>\n      <td>25</td>\n    </tr>\n    <tr>\n      <th>...</th>\n      <td>...</td>\n      <td>...</td>\n    </tr>\n    <tr>\n      <th>197</th>\n      <td>Employees in standard employment, SMEs, Sector...</td>\n      <td>1</td>\n    </tr>\n    <tr>\n      <th>198</th>\n      <td>One person or microenterprises, Self-employed,...</td>\n      <td>1</td>\n    </tr>\n    <tr>\n      <th>199</th>\n      <td>Parents in employment, Single parents in emplo...</td>\n      <td>1</td>\n    </tr>\n    <tr>\n      <th>200</th>\n      <td>Children (minors), Parents in employment, Sing...</td>\n      <td>1</td>\n    </tr>\n    <tr>\n      <th>201</th>\n      <td>Other groups of citizens, Youth (18-25)</td>\n      <td>1</td>\n    </tr>\n  </tbody>\n</table>\n<p>202 rows × 2 columns</p>\n</div>"
     },
     "execution_count": 17,
     "metadata": {},
     "output_type": "execute_result"
    }
   ],
   "source": [
    "df_tg_table_values = pd.DataFrame({'Values': tg_count})\n",
    "df_tg_table_values = df_tg_table_values.reset_index()\n",
    "df_tg_table_values"
   ],
   "metadata": {
    "collapsed": false,
    "pycharm": {
     "name": "#%%\n"
    }
   }
  },
  {
   "cell_type": "code",
   "execution_count": 44,
   "outputs": [
    {
     "data": {
      "application/vnd.plotly.v1+json": {
       "config": {
        "linkText": "Export to plot.ly",
        "plotlyServerURL": "https://plot.ly",
        "showLink": false
       },
       "data": [
        {
         "type": "bar",
         "x": [
          "Employees in standard employment",
          "Sector specific set of companies",
          "Self-employed",
          "Unemployed",
          "SMEs",
          "Particular professions",
          "Employees in standard employment, Workers in non-standard forms of employment",
          "Other groups of citizens",
          "Disabled workers",
          "Particular professions, Sector specific set of companies",
          "Other groups of workers",
          "Employees in standard employment, Sector specific set of companies",
          "One person or microenterprises",
          "Other businesses",
          "Employees in standard employment, Unemployed",
          "Larger corporations",
          "One person or microenterprises, SMEs",
          "Employees in standard employment, Self-employed",
          "Parents in employment",
          "SMEs, Sector specific set of companies",
          "One person or microenterprises, Self-employed, Solo-self-employed",
          "Companies providing essential services",
          "Parents",
          "Companies providing essential services, Employees in standard employment, Workers in care facilities, Workers in essential services",
          "One person or microenterprises, Solo-self-employed",
          "Employees in standard employment, Other groups of workers",
          "Employees in standard employment, Parents in employment",
          "One person or microenterprises, SMEs, Solo-self-employed",
          "Employees in standard employment, Larger corporations",
          "Employees in standard employment, Workers in care facilities, Workers in essential services",
          "Particular professions, Self-employed",
          "Solo-self-employed",
          "Workers in essential services",
          "Workers in non-standard forms of employment",
          "Particular professions, Workers in care facilities",
          "Disabled, Disabled workers",
          "Disabled",
          "Seasonal workers",
          "Start-ups",
          "The COVID-19 risk group at the workplace",
          "One person or microenterprises, SMEs, Self-employed, Solo-self-employed",
          "Other groups of workers, Sector specific set of companies",
          "One person or microenterprises, SMEs, Self-employed",
          "Migrants in employment",
          "Other businesses, SMEs",
          "Larger corporations, SMEs",
          "Employees in standard employment, Workers in non-standard forms of employment, Youth (18-25) in employment",
          "SMEs, Start-ups",
          "Employees in standard employment, Other businesses",
          "Workers in care facilities",
          "Sector specific set of companies, Unemployed",
          "Employees in standard employment, Particular professions, Workers in non-standard forms of employment",
          "Other groups of workers, Youth (18-25) in employment",
          "Particular professions, Sector specific set of companies, Self-employed",
          "Other businesses, Other groups of workers",
          "Unemployed, Youth (18-25)",
          "Other groups of citizens, The COVID-19 risk group",
          "Self-employed, Workers in non-standard forms of employment",
          "Sector specific set of companies, Self-employed",
          "Larger corporations, Other businesses",
          "Disabled workers, The COVID-19 risk group at the workplace",
          "Employees in standard employment, Parents in employment, Self-employed",
          "Other groups of workers, Workers in essential services",
          "One person or microenterprises, SMEs, Sector specific set of companies",
          "Particular professions, Unemployed",
          "Particular professions, Workers in care facilities, Workers in essential services",
          "One person or microenterprises, SMEs, Start-ups",
          "One person or microenterprises, SMEs, Sector specific set of companies, Solo-self-employed",
          "Disabled workers, Other groups of workers",
          "Other businesses, Sector specific set of companies",
          "Unemployed, Youth (18-25) in employment",
          "Disabled, Older citizens",
          "Companies providing essential services, Other businesses",
          "Youth (18-25) in employment",
          "Older citizens, The COVID-19 risk group",
          "Cross-border commuters, Seasonal workers",
          "Particular professions, Workers in essential services",
          "Employees in standard employment, Other groups of workers, Self-employed",
          "Children (minors), Disabled, Older citizens, Parents, SMEs, Single parents, Single parents in employment, The COVID-19 risk group, Workers in care facilities, Workers in essential services",
          "Disabled, Older citizens, Other groups of workers, The COVID-19 risk group, Unemployed",
          "Disabled, Older citizens, Parents, Youth (18-25)",
          "Migrants, Refugees",
          "Companies providing essential services, Employees in standard employment, Workers in essential services",
          "Self-employed, The COVID-19 risk group at the workplace, Workers in non-standard forms of employment",
          "Companies providing essential services, SMEs, Sector specific set of companies",
          "Particular professions, People in care facilities, Unemployed, Youth (18-25)",
          "Sector specific set of companies, Workers in non-standard forms of employment",
          "Parents in employment, Self-employed, Unemployed",
          "Disabled workers, Other businesses",
          "Sector specific set of companies, Undeclared workers",
          "One person or microenterprises, Other businesses, Sector specific set of companies, Solo-self-employed",
          "Larger corporations, Other businesses, SMEs",
          "Children (minors), Sector specific set of companies, Youth (18-25)",
          "One person or microenterprises, Particular professions, Sector specific set of companies, Self-employed, Solo-self-employed",
          "One person or microenterprises, Start-ups",
          "Employees in standard employment, Larger corporations, Other businesses",
          "Companies providing essential services, Larger corporations",
          "One person or microenterprises, SMEs, Sector specific set of companies, Self-employed, Solo-self-employed",
          "Disabled workers, Sector specific set of companies",
          "Companies providing essential services, Workers in care facilities",
          "Other businesses, Particular professions",
          "Disabled, Disabled workers, Older citizens, Older people in employment (aged 55+), Unemployed",
          "Older citizens, Other groups of citizens",
          "Particular professions, Posted workers, Seasonal workers",
          "Disabled, Disabled workers, The COVID-19 risk group, The COVID-19 risk group at the workplace",
          "Self-employed, Undeclared workers",
          "Employees in standard employment, SMEs, Unemployed, Youth (18-25) in employment",
          "Children (minors), Parents, Particular professions, Workers in essential services",
          "Parents, Single parents",
          "Employees in standard employment, Particular professions, People in care facilities, The COVID-19 risk group",
          "Children (minors), Parents, Unemployed",
          "Disabled, Older citizens, Self-employed, Unemployed, Youth (18-25)",
          "Companies providing essential services, Sector specific set of companies",
          "Employees in standard employment, Sector specific set of companies, Workers in non-standard forms of employment",
          "The COVID-19 risk group, The COVID-19 risk group at the workplace",
          "One person or microenterprises, Other businesses, Self-employed, Solo-self-employed",
          "Larger corporations, One person or microenterprises, SMEs, Self-employed, Start-ups",
          "SMEs, Solo-self-employed",
          "Employees in standard employment, SMEs",
          "Children (minors), Sector specific set of companies",
          "Particular professions, Platform workers, Seasonal workers, Self-employed, Workers in non-standard forms of employment",
          "Larger corporations, Sector specific set of companies",
          "Women",
          "Particular professions, Self-employed, Workers in non-standard forms of employment",
          "Parents, Parents in employment, Single parents in employment",
          "Other groups of workers, The COVID-19 risk group at the workplace",
          "Other groups of workers, Unemployed",
          "Contractors of a company",
          "Cross-border commuters, Posted workers",
          "Employees in standard employment, Particular professions",
          "Cross-border commuters",
          "Other groups of workers, Self-employed, Unemployed",
          "Disabled, Older citizens, Other groups of citizens",
          "Larger corporations, One person or microenterprises, SMEs, Solo-self-employed",
          "Employees in standard employment, Other groups of workers, Workers in non-standard forms of employment",
          "Children (minors), Disabled, Employees in standard employment, Parents, Self-employed, Single parents, Workers in non-standard forms of employment",
          "Migrants in employment, Posted workers, Seasonal workers",
          "Employees in standard employment, Parents in employment, Self-employed, Workers in non-standard forms of employment",
          "Employees in standard employment, Workers in essential services",
          "Employees in standard employment, Older people in employment (aged 55+)",
          "Other groups of workers, Self-employed, Solo-self-employed",
          "Companies providing essential services, Particular professions, Sector specific set of companies, The COVID-19 risk group at the workplace, Workers in care facilities, Workers in essential services",
          "Seasonal workers, Sector specific set of companies",
          "Migrants, Older people in employment (aged 55+), Other groups of workers, Youth (18-25) in employment",
          "Disabled, Disabled workers, Other businesses, Other groups of workers",
          "Seasonal workers, Unemployed, Workers in non-standard forms of employment",
          "Older citizens",
          "Employees in standard employment, Larger corporations, Other businesses, Unemployed",
          "SMEs, Self-employed",
          "Disabled workers, Female workers, Other groups of workers, Unemployed",
          "Employees in standard employment, Other businesses, Sector specific set of companies, Workers in non-standard forms of employment",
          "Employees in standard employment, Particular professions, Self-employed",
          "Parents, Parents in employment",
          "Other businesses, Solo-self-employed",
          "Larger corporations, SMEs, Start-ups",
          "Disabled, Unemployed",
          "One person or microenterprises, Sector specific set of companies, Solo-self-employed",
          "Older citizens, Youth (18-25)",
          "Larger corporations, SMEs, Sector specific set of companies",
          "Employees in standard employment, Sector specific set of companies, Unemployed",
          "Disabled, Older citizens, The COVID-19 risk group",
          "Older people in employment (aged 55+)",
          "Employees in standard employment, Workers in care facilities, Workers in non-standard forms of employment",
          "Larger corporations, One person or microenterprises, SMEs",
          "Migrants, Sector specific set of companies, Workers in non-standard forms of employment",
          "Employees in standard employment, Particular professions, Sector specific set of companies, Self-employed",
          "Workers in care facilities, Workers in essential services",
          "Companies providing essential services, Workers in care facilities, Workers in essential services",
          "Other businesses, Particular professions, Sector specific set of companies",
          "Larger corporations, Particular professions",
          "Particular professions, Workers in non-standard forms of employment",
          "Particular professions, Seasonal workers, Sector specific set of companies",
          "Companies providing essential services, Employees in standard employment, Particular professions, Sector specific set of companies, Workers in essential services",
          "Companies providing essential services, Sector specific set of companies, Start-ups",
          "Children (minors), Youth (18-25)",
          "Employees in standard employment, Seasonal workers",
          "Children (minors), Disabled, Disabled workers, People in care facilities",
          "Disabled, Older citizens, Parents",
          "Self-employed, Unemployed",
          "Particular professions, Self-employed, Solo-self-employed",
          "Children (minors)",
          "Children (minors), Women",
          "Self-employed, Solo-self-employed",
          "Companies providing essential services, Workers in essential services",
          "Employees in standard employment, Self-employed, The COVID-19 risk group at the workplace",
          "Employees in standard employment, One person or microenterprises, SMEs",
          "Seasonal workers, Workers in non-standard forms of employment",
          "Companies providing essential services, Employees in standard employment, Sector specific set of companies, Workers in care facilities, Workers in essential services",
          "Sector specific set of companies, Start-ups",
          "Other groups of workers, Self-employed",
          "Other groups of workers, Unemployed, Youth (18-25)",
          "Other businesses, Unemployed",
          "Disabled, Employees in standard employment, Older citizens, Parents, Parents in employment",
          "Disabled workers, One person or microenterprises, Self-employed, Solo-self-employed",
          "Disabled, Parents",
          "Disabled, Older citizens, People in care facilities, Single parents",
          "Other groups of workers, Particular professions",
          "Employees in standard employment, SMEs, Sector specific set of companies",
          "One person or microenterprises, Self-employed, Solo-self-employed, Unemployed",
          "Parents in employment, Single parents in employment",
          "Children (minors), Parents in employment, Single parents in employment",
          "Other groups of citizens, Youth (18-25)"
         ],
         "y": [
          86,
          85,
          31,
          28,
          25,
          19,
          16,
          15,
          13,
          11,
          11,
          11,
          10,
          9,
          8,
          8,
          8,
          7,
          7,
          6,
          6,
          6,
          5,
          5,
          5,
          4,
          4,
          4,
          4,
          4,
          4,
          4,
          4,
          4,
          4,
          3,
          3,
          3,
          3,
          3,
          3,
          3,
          3,
          3,
          3,
          2,
          2,
          2,
          2,
          2,
          2,
          2,
          2,
          2,
          2,
          2,
          2,
          2,
          2,
          2,
          2,
          2,
          2,
          2,
          2,
          2,
          2,
          2,
          2,
          2,
          2,
          2,
          2,
          2,
          1,
          1,
          1,
          1,
          1,
          1,
          1,
          1,
          1,
          1,
          1,
          1,
          1,
          1,
          1,
          1,
          1,
          1,
          1,
          1,
          1,
          1,
          1,
          1,
          1,
          1,
          1,
          1,
          1,
          1,
          1,
          1,
          1,
          1,
          1,
          1,
          1,
          1,
          1,
          1,
          1,
          1,
          1,
          1,
          1,
          1,
          1,
          1,
          1,
          1,
          1,
          1,
          1,
          1,
          1,
          1,
          1,
          1,
          1,
          1,
          1,
          1,
          1,
          1,
          1,
          1,
          1,
          1,
          1,
          1,
          1,
          1,
          1,
          1,
          1,
          1,
          1,
          1,
          1,
          1,
          1,
          1,
          1,
          1,
          1,
          1,
          1,
          1,
          1,
          1,
          1,
          1,
          1,
          1,
          1,
          1,
          1,
          1,
          1,
          1,
          1,
          1,
          1,
          1,
          1,
          1,
          1,
          1,
          1,
          1,
          1,
          1,
          1,
          1,
          1,
          1,
          1,
          1,
          1,
          1,
          1,
          1,
          1,
          1,
          1,
          1,
          1,
          1
         ]
        }
       ],
       "layout": {
        "template": {
         "data": {
          "bar": [
           {
            "error_x": {
             "color": "#2a3f5f"
            },
            "error_y": {
             "color": "#2a3f5f"
            },
            "marker": {
             "line": {
              "color": "#E5ECF6",
              "width": 0.5
             }
            },
            "type": "bar"
           }
          ],
          "barpolar": [
           {
            "marker": {
             "line": {
              "color": "#E5ECF6",
              "width": 0.5
             }
            },
            "type": "barpolar"
           }
          ],
          "carpet": [
           {
            "aaxis": {
             "endlinecolor": "#2a3f5f",
             "gridcolor": "white",
             "linecolor": "white",
             "minorgridcolor": "white",
             "startlinecolor": "#2a3f5f"
            },
            "baxis": {
             "endlinecolor": "#2a3f5f",
             "gridcolor": "white",
             "linecolor": "white",
             "minorgridcolor": "white",
             "startlinecolor": "#2a3f5f"
            },
            "type": "carpet"
           }
          ],
          "choropleth": [
           {
            "colorbar": {
             "outlinewidth": 0,
             "ticks": ""
            },
            "type": "choropleth"
           }
          ],
          "contour": [
           {
            "colorbar": {
             "outlinewidth": 0,
             "ticks": ""
            },
            "colorscale": [
             [
              0.0,
              "#0d0887"
             ],
             [
              0.1111111111111111,
              "#46039f"
             ],
             [
              0.2222222222222222,
              "#7201a8"
             ],
             [
              0.3333333333333333,
              "#9c179e"
             ],
             [
              0.4444444444444444,
              "#bd3786"
             ],
             [
              0.5555555555555556,
              "#d8576b"
             ],
             [
              0.6666666666666666,
              "#ed7953"
             ],
             [
              0.7777777777777778,
              "#fb9f3a"
             ],
             [
              0.8888888888888888,
              "#fdca26"
             ],
             [
              1.0,
              "#f0f921"
             ]
            ],
            "type": "contour"
           }
          ],
          "contourcarpet": [
           {
            "colorbar": {
             "outlinewidth": 0,
             "ticks": ""
            },
            "type": "contourcarpet"
           }
          ],
          "heatmap": [
           {
            "colorbar": {
             "outlinewidth": 0,
             "ticks": ""
            },
            "colorscale": [
             [
              0.0,
              "#0d0887"
             ],
             [
              0.1111111111111111,
              "#46039f"
             ],
             [
              0.2222222222222222,
              "#7201a8"
             ],
             [
              0.3333333333333333,
              "#9c179e"
             ],
             [
              0.4444444444444444,
              "#bd3786"
             ],
             [
              0.5555555555555556,
              "#d8576b"
             ],
             [
              0.6666666666666666,
              "#ed7953"
             ],
             [
              0.7777777777777778,
              "#fb9f3a"
             ],
             [
              0.8888888888888888,
              "#fdca26"
             ],
             [
              1.0,
              "#f0f921"
             ]
            ],
            "type": "heatmap"
           }
          ],
          "heatmapgl": [
           {
            "colorbar": {
             "outlinewidth": 0,
             "ticks": ""
            },
            "colorscale": [
             [
              0.0,
              "#0d0887"
             ],
             [
              0.1111111111111111,
              "#46039f"
             ],
             [
              0.2222222222222222,
              "#7201a8"
             ],
             [
              0.3333333333333333,
              "#9c179e"
             ],
             [
              0.4444444444444444,
              "#bd3786"
             ],
             [
              0.5555555555555556,
              "#d8576b"
             ],
             [
              0.6666666666666666,
              "#ed7953"
             ],
             [
              0.7777777777777778,
              "#fb9f3a"
             ],
             [
              0.8888888888888888,
              "#fdca26"
             ],
             [
              1.0,
              "#f0f921"
             ]
            ],
            "type": "heatmapgl"
           }
          ],
          "histogram": [
           {
            "marker": {
             "colorbar": {
              "outlinewidth": 0,
              "ticks": ""
             }
            },
            "type": "histogram"
           }
          ],
          "histogram2d": [
           {
            "colorbar": {
             "outlinewidth": 0,
             "ticks": ""
            },
            "colorscale": [
             [
              0.0,
              "#0d0887"
             ],
             [
              0.1111111111111111,
              "#46039f"
             ],
             [
              0.2222222222222222,
              "#7201a8"
             ],
             [
              0.3333333333333333,
              "#9c179e"
             ],
             [
              0.4444444444444444,
              "#bd3786"
             ],
             [
              0.5555555555555556,
              "#d8576b"
             ],
             [
              0.6666666666666666,
              "#ed7953"
             ],
             [
              0.7777777777777778,
              "#fb9f3a"
             ],
             [
              0.8888888888888888,
              "#fdca26"
             ],
             [
              1.0,
              "#f0f921"
             ]
            ],
            "type": "histogram2d"
           }
          ],
          "histogram2dcontour": [
           {
            "colorbar": {
             "outlinewidth": 0,
             "ticks": ""
            },
            "colorscale": [
             [
              0.0,
              "#0d0887"
             ],
             [
              0.1111111111111111,
              "#46039f"
             ],
             [
              0.2222222222222222,
              "#7201a8"
             ],
             [
              0.3333333333333333,
              "#9c179e"
             ],
             [
              0.4444444444444444,
              "#bd3786"
             ],
             [
              0.5555555555555556,
              "#d8576b"
             ],
             [
              0.6666666666666666,
              "#ed7953"
             ],
             [
              0.7777777777777778,
              "#fb9f3a"
             ],
             [
              0.8888888888888888,
              "#fdca26"
             ],
             [
              1.0,
              "#f0f921"
             ]
            ],
            "type": "histogram2dcontour"
           }
          ],
          "mesh3d": [
           {
            "colorbar": {
             "outlinewidth": 0,
             "ticks": ""
            },
            "type": "mesh3d"
           }
          ],
          "parcoords": [
           {
            "line": {
             "colorbar": {
              "outlinewidth": 0,
              "ticks": ""
             }
            },
            "type": "parcoords"
           }
          ],
          "pie": [
           {
            "automargin": true,
            "type": "pie"
           }
          ],
          "scatter": [
           {
            "marker": {
             "colorbar": {
              "outlinewidth": 0,
              "ticks": ""
             }
            },
            "type": "scatter"
           }
          ],
          "scatter3d": [
           {
            "line": {
             "colorbar": {
              "outlinewidth": 0,
              "ticks": ""
             }
            },
            "marker": {
             "colorbar": {
              "outlinewidth": 0,
              "ticks": ""
             }
            },
            "type": "scatter3d"
           }
          ],
          "scattercarpet": [
           {
            "marker": {
             "colorbar": {
              "outlinewidth": 0,
              "ticks": ""
             }
            },
            "type": "scattercarpet"
           }
          ],
          "scattergeo": [
           {
            "marker": {
             "colorbar": {
              "outlinewidth": 0,
              "ticks": ""
             }
            },
            "type": "scattergeo"
           }
          ],
          "scattergl": [
           {
            "marker": {
             "colorbar": {
              "outlinewidth": 0,
              "ticks": ""
             }
            },
            "type": "scattergl"
           }
          ],
          "scattermapbox": [
           {
            "marker": {
             "colorbar": {
              "outlinewidth": 0,
              "ticks": ""
             }
            },
            "type": "scattermapbox"
           }
          ],
          "scatterpolar": [
           {
            "marker": {
             "colorbar": {
              "outlinewidth": 0,
              "ticks": ""
             }
            },
            "type": "scatterpolar"
           }
          ],
          "scatterpolargl": [
           {
            "marker": {
             "colorbar": {
              "outlinewidth": 0,
              "ticks": ""
             }
            },
            "type": "scatterpolargl"
           }
          ],
          "scatterternary": [
           {
            "marker": {
             "colorbar": {
              "outlinewidth": 0,
              "ticks": ""
             }
            },
            "type": "scatterternary"
           }
          ],
          "surface": [
           {
            "colorbar": {
             "outlinewidth": 0,
             "ticks": ""
            },
            "colorscale": [
             [
              0.0,
              "#0d0887"
             ],
             [
              0.1111111111111111,
              "#46039f"
             ],
             [
              0.2222222222222222,
              "#7201a8"
             ],
             [
              0.3333333333333333,
              "#9c179e"
             ],
             [
              0.4444444444444444,
              "#bd3786"
             ],
             [
              0.5555555555555556,
              "#d8576b"
             ],
             [
              0.6666666666666666,
              "#ed7953"
             ],
             [
              0.7777777777777778,
              "#fb9f3a"
             ],
             [
              0.8888888888888888,
              "#fdca26"
             ],
             [
              1.0,
              "#f0f921"
             ]
            ],
            "type": "surface"
           }
          ],
          "table": [
           {
            "cells": {
             "fill": {
              "color": "#EBF0F8"
             },
             "line": {
              "color": "white"
             }
            },
            "header": {
             "fill": {
              "color": "#C8D4E3"
             },
             "line": {
              "color": "white"
             }
            },
            "type": "table"
           }
          ]
         },
         "layout": {
          "annotationdefaults": {
           "arrowcolor": "#2a3f5f",
           "arrowhead": 0,
           "arrowwidth": 1
          },
          "autotypenumbers": "strict",
          "coloraxis": {
           "colorbar": {
            "outlinewidth": 0,
            "ticks": ""
           }
          },
          "colorscale": {
           "diverging": [
            [
             0,
             "#8e0152"
            ],
            [
             0.1,
             "#c51b7d"
            ],
            [
             0.2,
             "#de77ae"
            ],
            [
             0.3,
             "#f1b6da"
            ],
            [
             0.4,
             "#fde0ef"
            ],
            [
             0.5,
             "#f7f7f7"
            ],
            [
             0.6,
             "#e6f5d0"
            ],
            [
             0.7,
             "#b8e186"
            ],
            [
             0.8,
             "#7fbc41"
            ],
            [
             0.9,
             "#4d9221"
            ],
            [
             1,
             "#276419"
            ]
           ],
           "sequential": [
            [
             0.0,
             "#0d0887"
            ],
            [
             0.1111111111111111,
             "#46039f"
            ],
            [
             0.2222222222222222,
             "#7201a8"
            ],
            [
             0.3333333333333333,
             "#9c179e"
            ],
            [
             0.4444444444444444,
             "#bd3786"
            ],
            [
             0.5555555555555556,
             "#d8576b"
            ],
            [
             0.6666666666666666,
             "#ed7953"
            ],
            [
             0.7777777777777778,
             "#fb9f3a"
            ],
            [
             0.8888888888888888,
             "#fdca26"
            ],
            [
             1.0,
             "#f0f921"
            ]
           ],
           "sequentialminus": [
            [
             0.0,
             "#0d0887"
            ],
            [
             0.1111111111111111,
             "#46039f"
            ],
            [
             0.2222222222222222,
             "#7201a8"
            ],
            [
             0.3333333333333333,
             "#9c179e"
            ],
            [
             0.4444444444444444,
             "#bd3786"
            ],
            [
             0.5555555555555556,
             "#d8576b"
            ],
            [
             0.6666666666666666,
             "#ed7953"
            ],
            [
             0.7777777777777778,
             "#fb9f3a"
            ],
            [
             0.8888888888888888,
             "#fdca26"
            ],
            [
             1.0,
             "#f0f921"
            ]
           ]
          },
          "colorway": [
           "#636efa",
           "#EF553B",
           "#00cc96",
           "#ab63fa",
           "#FFA15A",
           "#19d3f3",
           "#FF6692",
           "#B6E880",
           "#FF97FF",
           "#FECB52"
          ],
          "font": {
           "color": "#2a3f5f"
          },
          "geo": {
           "bgcolor": "white",
           "lakecolor": "white",
           "landcolor": "#E5ECF6",
           "showlakes": true,
           "showland": true,
           "subunitcolor": "white"
          },
          "hoverlabel": {
           "align": "left"
          },
          "hovermode": "closest",
          "mapbox": {
           "style": "light"
          },
          "paper_bgcolor": "white",
          "plot_bgcolor": "#E5ECF6",
          "polar": {
           "angularaxis": {
            "gridcolor": "white",
            "linecolor": "white",
            "ticks": ""
           },
           "bgcolor": "#E5ECF6",
           "radialaxis": {
            "gridcolor": "white",
            "linecolor": "white",
            "ticks": ""
           }
          },
          "scene": {
           "xaxis": {
            "backgroundcolor": "#E5ECF6",
            "gridcolor": "white",
            "gridwidth": 2,
            "linecolor": "white",
            "showbackground": true,
            "ticks": "",
            "zerolinecolor": "white"
           },
           "yaxis": {
            "backgroundcolor": "#E5ECF6",
            "gridcolor": "white",
            "gridwidth": 2,
            "linecolor": "white",
            "showbackground": true,
            "ticks": "",
            "zerolinecolor": "white"
           },
           "zaxis": {
            "backgroundcolor": "#E5ECF6",
            "gridcolor": "white",
            "gridwidth": 2,
            "linecolor": "white",
            "showbackground": true,
            "ticks": "",
            "zerolinecolor": "white"
           }
          },
          "shapedefaults": {
           "line": {
            "color": "#2a3f5f"
           }
          },
          "ternary": {
           "aaxis": {
            "gridcolor": "white",
            "linecolor": "white",
            "ticks": ""
           },
           "baxis": {
            "gridcolor": "white",
            "linecolor": "white",
            "ticks": ""
           },
           "bgcolor": "#E5ECF6",
           "caxis": {
            "gridcolor": "white",
            "linecolor": "white",
            "ticks": ""
           }
          },
          "title": {
           "x": 0.05
          },
          "xaxis": {
           "automargin": true,
           "gridcolor": "white",
           "linecolor": "white",
           "ticks": "",
           "title": {
            "standoff": 15
           },
           "zerolinecolor": "white",
           "zerolinewidth": 2
          },
          "yaxis": {
           "automargin": true,
           "gridcolor": "white",
           "linecolor": "white",
           "ticks": "",
           "title": {
            "standoff": 15
           },
           "zerolinecolor": "white",
           "zerolinewidth": 2
          }
         }
        },
        "title": {
         "text": "Type of Measure Values"
        },
        "xaxis": {
         "title": {
          "text": "Index"
         }
        },
        "yaxis": {
         "title": {
          "text": "Values"
         }
        }
       }
      },
      "text/html": "<div>                            <div id=\"fd5c8bed-e31c-4ac6-b9cb-d352ccb7a9c3\" class=\"plotly-graph-div\" style=\"height:525px; width:100%;\"></div>            <script type=\"text/javascript\">                require([\"plotly\"], function(Plotly) {                    window.PLOTLYENV=window.PLOTLYENV || {};                                    if (document.getElementById(\"fd5c8bed-e31c-4ac6-b9cb-d352ccb7a9c3\")) {                    Plotly.newPlot(                        \"fd5c8bed-e31c-4ac6-b9cb-d352ccb7a9c3\",                        [{\"type\": \"bar\", \"x\": [\"Employees in standard employment\", \"Sector specific set of companies\", \"Self-employed\", \"Unemployed\", \"SMEs\", \"Particular professions\", \"Employees in standard employment, Workers in non-standard forms of employment\", \"Other groups of citizens\", \"Disabled workers\", \"Particular professions, Sector specific set of companies\", \"Other groups of workers\", \"Employees in standard employment, Sector specific set of companies\", \"One person or microenterprises\", \"Other businesses\", \"Employees in standard employment, Unemployed\", \"Larger corporations\", \"One person or microenterprises, SMEs\", \"Employees in standard employment, Self-employed\", \"Parents in employment\", \"SMEs, Sector specific set of companies\", \"One person or microenterprises, Self-employed, Solo-self-employed\", \"Companies providing essential services\", \"Parents\", \"Companies providing essential services, Employees in standard employment, Workers in care facilities, Workers in essential services\", \"One person or microenterprises, Solo-self-employed\", \"Employees in standard employment, Other groups of workers\", \"Employees in standard employment, Parents in employment\", \"One person or microenterprises, SMEs, Solo-self-employed\", \"Employees in standard employment, Larger corporations\", \"Employees in standard employment, Workers in care facilities, Workers in essential services\", \"Particular professions, Self-employed\", \"Solo-self-employed\", \"Workers in essential services\", \"Workers in non-standard forms of employment\", \"Particular professions, Workers in care facilities\", \"Disabled, Disabled workers\", \"Disabled\", \"Seasonal workers\", \"Start-ups\", \"The COVID-19 risk group at the workplace\", \"One person or microenterprises, SMEs, Self-employed, Solo-self-employed\", \"Other groups of workers, Sector specific set of companies\", \"One person or microenterprises, SMEs, Self-employed\", \"Migrants in employment\", \"Other businesses, SMEs\", \"Larger corporations, SMEs\", \"Employees in standard employment, Workers in non-standard forms of employment, Youth (18-25) in employment\", \"SMEs, Start-ups\", \"Employees in standard employment, Other businesses\", \"Workers in care facilities\", \"Sector specific set of companies, Unemployed\", \"Employees in standard employment, Particular professions, Workers in non-standard forms of employment\", \"Other groups of workers, Youth (18-25) in employment\", \"Particular professions, Sector specific set of companies, Self-employed\", \"Other businesses, Other groups of workers\", \"Unemployed, Youth (18-25)\", \"Other groups of citizens, The COVID-19 risk group\", \"Self-employed, Workers in non-standard forms of employment\", \"Sector specific set of companies, Self-employed\", \"Larger corporations, Other businesses\", \"Disabled workers, The COVID-19 risk group at the workplace\", \"Employees in standard employment, Parents in employment, Self-employed\", \"Other groups of workers, Workers in essential services\", \"One person or microenterprises, SMEs, Sector specific set of companies\", \"Particular professions, Unemployed\", \"Particular professions, Workers in care facilities, Workers in essential services\", \"One person or microenterprises, SMEs, Start-ups\", \"One person or microenterprises, SMEs, Sector specific set of companies, Solo-self-employed\", \"Disabled workers, Other groups of workers\", \"Other businesses, Sector specific set of companies\", \"Unemployed, Youth (18-25) in employment\", \"Disabled, Older citizens\", \"Companies providing essential services, Other businesses\", \"Youth (18-25) in employment\", \"Older citizens, The COVID-19 risk group\", \"Cross-border commuters, Seasonal workers\", \"Particular professions, Workers in essential services\", \"Employees in standard employment, Other groups of workers, Self-employed\", \"Children (minors), Disabled, Older citizens, Parents, SMEs, Single parents, Single parents in employment, The COVID-19 risk group, Workers in care facilities, Workers in essential services\", \"Disabled, Older citizens, Other groups of workers, The COVID-19 risk group, Unemployed\", \"Disabled, Older citizens, Parents, Youth (18-25)\", \"Migrants, Refugees\", \"Companies providing essential services, Employees in standard employment, Workers in essential services\", \"Self-employed, The COVID-19 risk group at the workplace, Workers in non-standard forms of employment\", \"Companies providing essential services, SMEs, Sector specific set of companies\", \"Particular professions, People in care facilities, Unemployed, Youth (18-25)\", \"Sector specific set of companies, Workers in non-standard forms of employment\", \"Parents in employment, Self-employed, Unemployed\", \"Disabled workers, Other businesses\", \"Sector specific set of companies, Undeclared workers\", \"One person or microenterprises, Other businesses, Sector specific set of companies, Solo-self-employed\", \"Larger corporations, Other businesses, SMEs\", \"Children (minors), Sector specific set of companies, Youth (18-25)\", \"One person or microenterprises, Particular professions, Sector specific set of companies, Self-employed, Solo-self-employed\", \"One person or microenterprises, Start-ups\", \"Employees in standard employment, Larger corporations, Other businesses\", \"Companies providing essential services, Larger corporations\", \"One person or microenterprises, SMEs, Sector specific set of companies, Self-employed, Solo-self-employed\", \"Disabled workers, Sector specific set of companies\", \"Companies providing essential services, Workers in care facilities\", \"Other businesses, Particular professions\", \"Disabled, Disabled workers, Older citizens, Older people in employment (aged 55+), Unemployed\", \"Older citizens, Other groups of citizens\", \"Particular professions, Posted workers, Seasonal workers\", \"Disabled, Disabled workers, The COVID-19 risk group, The COVID-19 risk group at the workplace\", \"Self-employed, Undeclared workers\", \"Employees in standard employment, SMEs, Unemployed, Youth (18-25) in employment\", \"Children (minors), Parents, Particular professions, Workers in essential services\", \"Parents, Single parents\", \"Employees in standard employment, Particular professions, People in care facilities, The COVID-19 risk group\", \"Children (minors), Parents, Unemployed\", \"Disabled, Older citizens, Self-employed, Unemployed, Youth (18-25)\", \"Companies providing essential services, Sector specific set of companies\", \"Employees in standard employment, Sector specific set of companies, Workers in non-standard forms of employment\", \"The COVID-19 risk group, The COVID-19 risk group at the workplace\", \"One person or microenterprises, Other businesses, Self-employed, Solo-self-employed\", \"Larger corporations, One person or microenterprises, SMEs, Self-employed, Start-ups\", \"SMEs, Solo-self-employed\", \"Employees in standard employment, SMEs\", \"Children (minors), Sector specific set of companies\", \"Particular professions, Platform workers, Seasonal workers, Self-employed, Workers in non-standard forms of employment\", \"Larger corporations, Sector specific set of companies\", \"Women\", \"Particular professions, Self-employed, Workers in non-standard forms of employment\", \"Parents, Parents in employment, Single parents in employment\", \"Other groups of workers, The COVID-19 risk group at the workplace\", \"Other groups of workers, Unemployed\", \"Contractors of a company\", \"Cross-border commuters, Posted workers\", \"Employees in standard employment, Particular professions\", \"Cross-border commuters\", \"Other groups of workers, Self-employed, Unemployed\", \"Disabled, Older citizens, Other groups of citizens\", \"Larger corporations, One person or microenterprises, SMEs, Solo-self-employed\", \"Employees in standard employment, Other groups of workers, Workers in non-standard forms of employment\", \"Children (minors), Disabled, Employees in standard employment, Parents, Self-employed, Single parents, Workers in non-standard forms of employment\", \"Migrants in employment, Posted workers, Seasonal workers\", \"Employees in standard employment, Parents in employment, Self-employed, Workers in non-standard forms of employment\", \"Employees in standard employment, Workers in essential services\", \"Employees in standard employment, Older people in employment (aged 55+)\", \"Other groups of workers, Self-employed, Solo-self-employed\", \"Companies providing essential services, Particular professions, Sector specific set of companies, The COVID-19 risk group at the workplace, Workers in care facilities, Workers in essential services\", \"Seasonal workers, Sector specific set of companies\", \"Migrants, Older people in employment (aged 55+), Other groups of workers, Youth (18-25) in employment\", \"Disabled, Disabled workers, Other businesses, Other groups of workers\", \"Seasonal workers, Unemployed, Workers in non-standard forms of employment\", \"Older citizens\", \"Employees in standard employment, Larger corporations, Other businesses, Unemployed\", \"SMEs, Self-employed\", \"Disabled workers, Female workers, Other groups of workers, Unemployed\", \"Employees in standard employment, Other businesses, Sector specific set of companies, Workers in non-standard forms of employment\", \"Employees in standard employment, Particular professions, Self-employed\", \"Parents, Parents in employment\", \"Other businesses, Solo-self-employed\", \"Larger corporations, SMEs, Start-ups\", \"Disabled, Unemployed\", \"One person or microenterprises, Sector specific set of companies, Solo-self-employed\", \"Older citizens, Youth (18-25)\", \"Larger corporations, SMEs, Sector specific set of companies\", \"Employees in standard employment, Sector specific set of companies, Unemployed\", \"Disabled, Older citizens, The COVID-19 risk group\", \"Older people in employment (aged 55+)\", \"Employees in standard employment, Workers in care facilities, Workers in non-standard forms of employment\", \"Larger corporations, One person or microenterprises, SMEs\", \"Migrants, Sector specific set of companies, Workers in non-standard forms of employment\", \"Employees in standard employment, Particular professions, Sector specific set of companies, Self-employed\", \"Workers in care facilities, Workers in essential services\", \"Companies providing essential services, Workers in care facilities, Workers in essential services\", \"Other businesses, Particular professions, Sector specific set of companies\", \"Larger corporations, Particular professions\", \"Particular professions, Workers in non-standard forms of employment\", \"Particular professions, Seasonal workers, Sector specific set of companies\", \"Companies providing essential services, Employees in standard employment, Particular professions, Sector specific set of companies, Workers in essential services\", \"Companies providing essential services, Sector specific set of companies, Start-ups\", \"Children (minors), Youth (18-25)\", \"Employees in standard employment, Seasonal workers\", \"Children (minors), Disabled, Disabled workers, People in care facilities\", \"Disabled, Older citizens, Parents\", \"Self-employed, Unemployed\", \"Particular professions, Self-employed, Solo-self-employed\", \"Children (minors)\", \"Children (minors), Women\", \"Self-employed, Solo-self-employed\", \"Companies providing essential services, Workers in essential services\", \"Employees in standard employment, Self-employed, The COVID-19 risk group at the workplace\", \"Employees in standard employment, One person or microenterprises, SMEs\", \"Seasonal workers, Workers in non-standard forms of employment\", \"Companies providing essential services, Employees in standard employment, Sector specific set of companies, Workers in care facilities, Workers in essential services\", \"Sector specific set of companies, Start-ups\", \"Other groups of workers, Self-employed\", \"Other groups of workers, Unemployed, Youth (18-25)\", \"Other businesses, Unemployed\", \"Disabled, Employees in standard employment, Older citizens, Parents, Parents in employment\", \"Disabled workers, One person or microenterprises, Self-employed, Solo-self-employed\", \"Disabled, Parents\", \"Disabled, Older citizens, People in care facilities, Single parents\", \"Other groups of workers, Particular professions\", \"Employees in standard employment, SMEs, Sector specific set of companies\", \"One person or microenterprises, Self-employed, Solo-self-employed, Unemployed\", \"Parents in employment, Single parents in employment\", \"Children (minors), Parents in employment, Single parents in employment\", \"Other groups of citizens, Youth (18-25)\"], \"y\": [86, 85, 31, 28, 25, 19, 16, 15, 13, 11, 11, 11, 10, 9, 8, 8, 8, 7, 7, 6, 6, 6, 5, 5, 5, 4, 4, 4, 4, 4, 4, 4, 4, 4, 4, 3, 3, 3, 3, 3, 3, 3, 3, 3, 3, 2, 2, 2, 2, 2, 2, 2, 2, 2, 2, 2, 2, 2, 2, 2, 2, 2, 2, 2, 2, 2, 2, 2, 2, 2, 2, 2, 2, 2, 1, 1, 1, 1, 1, 1, 1, 1, 1, 1, 1, 1, 1, 1, 1, 1, 1, 1, 1, 1, 1, 1, 1, 1, 1, 1, 1, 1, 1, 1, 1, 1, 1, 1, 1, 1, 1, 1, 1, 1, 1, 1, 1, 1, 1, 1, 1, 1, 1, 1, 1, 1, 1, 1, 1, 1, 1, 1, 1, 1, 1, 1, 1, 1, 1, 1, 1, 1, 1, 1, 1, 1, 1, 1, 1, 1, 1, 1, 1, 1, 1, 1, 1, 1, 1, 1, 1, 1, 1, 1, 1, 1, 1, 1, 1, 1, 1, 1, 1, 1, 1, 1, 1, 1, 1, 1, 1, 1, 1, 1, 1, 1, 1, 1, 1, 1, 1, 1, 1, 1, 1, 1, 1, 1, 1, 1, 1, 1]}],                        {\"template\": {\"data\": {\"bar\": [{\"error_x\": {\"color\": \"#2a3f5f\"}, \"error_y\": {\"color\": \"#2a3f5f\"}, \"marker\": {\"line\": {\"color\": \"#E5ECF6\", \"width\": 0.5}}, \"type\": \"bar\"}], \"barpolar\": [{\"marker\": {\"line\": {\"color\": \"#E5ECF6\", \"width\": 0.5}}, \"type\": \"barpolar\"}], \"carpet\": [{\"aaxis\": {\"endlinecolor\": \"#2a3f5f\", \"gridcolor\": \"white\", \"linecolor\": \"white\", \"minorgridcolor\": \"white\", \"startlinecolor\": \"#2a3f5f\"}, \"baxis\": {\"endlinecolor\": \"#2a3f5f\", \"gridcolor\": \"white\", \"linecolor\": \"white\", \"minorgridcolor\": \"white\", \"startlinecolor\": \"#2a3f5f\"}, \"type\": \"carpet\"}], \"choropleth\": [{\"colorbar\": {\"outlinewidth\": 0, \"ticks\": \"\"}, \"type\": \"choropleth\"}], \"contour\": [{\"colorbar\": {\"outlinewidth\": 0, \"ticks\": \"\"}, \"colorscale\": [[0.0, \"#0d0887\"], [0.1111111111111111, \"#46039f\"], [0.2222222222222222, \"#7201a8\"], [0.3333333333333333, \"#9c179e\"], [0.4444444444444444, \"#bd3786\"], [0.5555555555555556, \"#d8576b\"], [0.6666666666666666, \"#ed7953\"], [0.7777777777777778, \"#fb9f3a\"], [0.8888888888888888, \"#fdca26\"], [1.0, \"#f0f921\"]], \"type\": \"contour\"}], \"contourcarpet\": [{\"colorbar\": {\"outlinewidth\": 0, \"ticks\": \"\"}, \"type\": \"contourcarpet\"}], \"heatmap\": [{\"colorbar\": {\"outlinewidth\": 0, \"ticks\": \"\"}, \"colorscale\": [[0.0, \"#0d0887\"], [0.1111111111111111, \"#46039f\"], [0.2222222222222222, \"#7201a8\"], [0.3333333333333333, \"#9c179e\"], [0.4444444444444444, \"#bd3786\"], [0.5555555555555556, \"#d8576b\"], [0.6666666666666666, \"#ed7953\"], [0.7777777777777778, \"#fb9f3a\"], [0.8888888888888888, \"#fdca26\"], [1.0, \"#f0f921\"]], \"type\": \"heatmap\"}], \"heatmapgl\": [{\"colorbar\": {\"outlinewidth\": 0, \"ticks\": \"\"}, \"colorscale\": [[0.0, \"#0d0887\"], [0.1111111111111111, \"#46039f\"], [0.2222222222222222, \"#7201a8\"], [0.3333333333333333, \"#9c179e\"], [0.4444444444444444, \"#bd3786\"], [0.5555555555555556, \"#d8576b\"], [0.6666666666666666, \"#ed7953\"], [0.7777777777777778, \"#fb9f3a\"], [0.8888888888888888, \"#fdca26\"], [1.0, \"#f0f921\"]], \"type\": \"heatmapgl\"}], \"histogram\": [{\"marker\": {\"colorbar\": {\"outlinewidth\": 0, \"ticks\": \"\"}}, \"type\": \"histogram\"}], \"histogram2d\": [{\"colorbar\": {\"outlinewidth\": 0, \"ticks\": \"\"}, \"colorscale\": [[0.0, \"#0d0887\"], [0.1111111111111111, \"#46039f\"], [0.2222222222222222, \"#7201a8\"], [0.3333333333333333, \"#9c179e\"], [0.4444444444444444, \"#bd3786\"], [0.5555555555555556, \"#d8576b\"], [0.6666666666666666, \"#ed7953\"], [0.7777777777777778, \"#fb9f3a\"], [0.8888888888888888, \"#fdca26\"], [1.0, \"#f0f921\"]], \"type\": \"histogram2d\"}], \"histogram2dcontour\": [{\"colorbar\": {\"outlinewidth\": 0, \"ticks\": \"\"}, \"colorscale\": [[0.0, \"#0d0887\"], [0.1111111111111111, \"#46039f\"], [0.2222222222222222, \"#7201a8\"], [0.3333333333333333, \"#9c179e\"], [0.4444444444444444, \"#bd3786\"], [0.5555555555555556, \"#d8576b\"], [0.6666666666666666, \"#ed7953\"], [0.7777777777777778, \"#fb9f3a\"], [0.8888888888888888, \"#fdca26\"], [1.0, \"#f0f921\"]], \"type\": \"histogram2dcontour\"}], \"mesh3d\": [{\"colorbar\": {\"outlinewidth\": 0, \"ticks\": \"\"}, \"type\": \"mesh3d\"}], \"parcoords\": [{\"line\": {\"colorbar\": {\"outlinewidth\": 0, \"ticks\": \"\"}}, \"type\": \"parcoords\"}], \"pie\": [{\"automargin\": true, \"type\": \"pie\"}], \"scatter\": [{\"marker\": {\"colorbar\": {\"outlinewidth\": 0, \"ticks\": \"\"}}, \"type\": \"scatter\"}], \"scatter3d\": [{\"line\": {\"colorbar\": {\"outlinewidth\": 0, \"ticks\": \"\"}}, \"marker\": {\"colorbar\": {\"outlinewidth\": 0, \"ticks\": \"\"}}, \"type\": \"scatter3d\"}], \"scattercarpet\": [{\"marker\": {\"colorbar\": {\"outlinewidth\": 0, \"ticks\": \"\"}}, \"type\": \"scattercarpet\"}], \"scattergeo\": [{\"marker\": {\"colorbar\": {\"outlinewidth\": 0, \"ticks\": \"\"}}, \"type\": \"scattergeo\"}], \"scattergl\": [{\"marker\": {\"colorbar\": {\"outlinewidth\": 0, \"ticks\": \"\"}}, \"type\": \"scattergl\"}], \"scattermapbox\": [{\"marker\": {\"colorbar\": {\"outlinewidth\": 0, \"ticks\": \"\"}}, \"type\": \"scattermapbox\"}], \"scatterpolar\": [{\"marker\": {\"colorbar\": {\"outlinewidth\": 0, \"ticks\": \"\"}}, \"type\": \"scatterpolar\"}], \"scatterpolargl\": [{\"marker\": {\"colorbar\": {\"outlinewidth\": 0, \"ticks\": \"\"}}, \"type\": \"scatterpolargl\"}], \"scatterternary\": [{\"marker\": {\"colorbar\": {\"outlinewidth\": 0, \"ticks\": \"\"}}, \"type\": \"scatterternary\"}], \"surface\": [{\"colorbar\": {\"outlinewidth\": 0, \"ticks\": \"\"}, \"colorscale\": [[0.0, \"#0d0887\"], [0.1111111111111111, \"#46039f\"], [0.2222222222222222, \"#7201a8\"], [0.3333333333333333, \"#9c179e\"], [0.4444444444444444, \"#bd3786\"], [0.5555555555555556, \"#d8576b\"], [0.6666666666666666, \"#ed7953\"], [0.7777777777777778, \"#fb9f3a\"], [0.8888888888888888, \"#fdca26\"], [1.0, \"#f0f921\"]], \"type\": \"surface\"}], \"table\": [{\"cells\": {\"fill\": {\"color\": \"#EBF0F8\"}, \"line\": {\"color\": \"white\"}}, \"header\": {\"fill\": {\"color\": \"#C8D4E3\"}, \"line\": {\"color\": \"white\"}}, \"type\": \"table\"}]}, \"layout\": {\"annotationdefaults\": {\"arrowcolor\": \"#2a3f5f\", \"arrowhead\": 0, \"arrowwidth\": 1}, \"autotypenumbers\": \"strict\", \"coloraxis\": {\"colorbar\": {\"outlinewidth\": 0, \"ticks\": \"\"}}, \"colorscale\": {\"diverging\": [[0, \"#8e0152\"], [0.1, \"#c51b7d\"], [0.2, \"#de77ae\"], [0.3, \"#f1b6da\"], [0.4, \"#fde0ef\"], [0.5, \"#f7f7f7\"], [0.6, \"#e6f5d0\"], [0.7, \"#b8e186\"], [0.8, \"#7fbc41\"], [0.9, \"#4d9221\"], [1, \"#276419\"]], \"sequential\": [[0.0, \"#0d0887\"], [0.1111111111111111, \"#46039f\"], [0.2222222222222222, \"#7201a8\"], [0.3333333333333333, \"#9c179e\"], [0.4444444444444444, \"#bd3786\"], [0.5555555555555556, \"#d8576b\"], [0.6666666666666666, \"#ed7953\"], [0.7777777777777778, \"#fb9f3a\"], [0.8888888888888888, \"#fdca26\"], [1.0, \"#f0f921\"]], \"sequentialminus\": [[0.0, \"#0d0887\"], [0.1111111111111111, \"#46039f\"], [0.2222222222222222, \"#7201a8\"], [0.3333333333333333, \"#9c179e\"], [0.4444444444444444, \"#bd3786\"], [0.5555555555555556, \"#d8576b\"], [0.6666666666666666, \"#ed7953\"], [0.7777777777777778, \"#fb9f3a\"], [0.8888888888888888, \"#fdca26\"], [1.0, \"#f0f921\"]]}, \"colorway\": [\"#636efa\", \"#EF553B\", \"#00cc96\", \"#ab63fa\", \"#FFA15A\", \"#19d3f3\", \"#FF6692\", \"#B6E880\", \"#FF97FF\", \"#FECB52\"], \"font\": {\"color\": \"#2a3f5f\"}, \"geo\": {\"bgcolor\": \"white\", \"lakecolor\": \"white\", \"landcolor\": \"#E5ECF6\", \"showlakes\": true, \"showland\": true, \"subunitcolor\": \"white\"}, \"hoverlabel\": {\"align\": \"left\"}, \"hovermode\": \"closest\", \"mapbox\": {\"style\": \"light\"}, \"paper_bgcolor\": \"white\", \"plot_bgcolor\": \"#E5ECF6\", \"polar\": {\"angularaxis\": {\"gridcolor\": \"white\", \"linecolor\": \"white\", \"ticks\": \"\"}, \"bgcolor\": \"#E5ECF6\", \"radialaxis\": {\"gridcolor\": \"white\", \"linecolor\": \"white\", \"ticks\": \"\"}}, \"scene\": {\"xaxis\": {\"backgroundcolor\": \"#E5ECF6\", \"gridcolor\": \"white\", \"gridwidth\": 2, \"linecolor\": \"white\", \"showbackground\": true, \"ticks\": \"\", \"zerolinecolor\": \"white\"}, \"yaxis\": {\"backgroundcolor\": \"#E5ECF6\", \"gridcolor\": \"white\", \"gridwidth\": 2, \"linecolor\": \"white\", \"showbackground\": true, \"ticks\": \"\", \"zerolinecolor\": \"white\"}, \"zaxis\": {\"backgroundcolor\": \"#E5ECF6\", \"gridcolor\": \"white\", \"gridwidth\": 2, \"linecolor\": \"white\", \"showbackground\": true, \"ticks\": \"\", \"zerolinecolor\": \"white\"}}, \"shapedefaults\": {\"line\": {\"color\": \"#2a3f5f\"}}, \"ternary\": {\"aaxis\": {\"gridcolor\": \"white\", \"linecolor\": \"white\", \"ticks\": \"\"}, \"baxis\": {\"gridcolor\": \"white\", \"linecolor\": \"white\", \"ticks\": \"\"}, \"bgcolor\": \"#E5ECF6\", \"caxis\": {\"gridcolor\": \"white\", \"linecolor\": \"white\", \"ticks\": \"\"}}, \"title\": {\"x\": 0.05}, \"xaxis\": {\"automargin\": true, \"gridcolor\": \"white\", \"linecolor\": \"white\", \"ticks\": \"\", \"title\": {\"standoff\": 15}, \"zerolinecolor\": \"white\", \"zerolinewidth\": 2}, \"yaxis\": {\"automargin\": true, \"gridcolor\": \"white\", \"linecolor\": \"white\", \"ticks\": \"\", \"title\": {\"standoff\": 15}, \"zerolinecolor\": \"white\", \"zerolinewidth\": 2}}}, \"title\": {\"text\": \"Type of Measure Values\"}, \"xaxis\": {\"title\": {\"text\": \"Index\"}}, \"yaxis\": {\"title\": {\"text\": \"Values\"}}},                        {\"responsive\": true}                    ).then(function(){\n                            \nvar gd = document.getElementById('fd5c8bed-e31c-4ac6-b9cb-d352ccb7a9c3');\nvar x = new MutationObserver(function (mutations, observer) {{\n        var display = window.getComputedStyle(gd).display;\n        if (!display || display === 'none') {{\n            console.log([gd, 'removed!']);\n            Plotly.purge(gd);\n            observer.disconnect();\n        }}\n}});\n\n// Listen for the removal of the full notebook cells\nvar notebookContainer = gd.closest('#notebook-container');\nif (notebookContainer) {{\n    x.observe(notebookContainer, {childList: true});\n}}\n\n// Listen for the clearing of the current output cell\nvar outputEl = gd.closest('.output');\nif (outputEl) {{\n    x.observe(outputEl, {childList: true});\n}}\n\n                        })                };                });            </script>        </div>"
     },
     "metadata": {},
     "output_type": "display_data"
    }
   ],
   "source": [
    "plotly_bar_chart_graphic(\"Type of Measure Values\", df_tg_table_values['index'],\n",
    "                         df_tg_table_values['Values'], \"Index\", \"Values\")"
   ],
   "metadata": {
    "collapsed": false,
    "pycharm": {
     "name": "#%%\n"
    }
   }
  },
  {
   "cell_type": "markdown",
   "source": [
    "NaN values statistic in:\n"
   ],
   "metadata": {
    "collapsed": false,
    "pycharm": {
     "name": "#%% md\n"
    }
   }
  },
  {
   "cell_type": "code",
   "execution_count": 19,
   "outputs": [
    {
     "data": {
      "text/plain": "                 Missing  Percentage\nType of measure        0      0.00 %\nCategory               0      0.00 %\nTarget groups        238     25.45 %",
      "text/html": "<div>\n<style scoped>\n    .dataframe tbody tr th:only-of-type {\n        vertical-align: middle;\n    }\n\n    .dataframe tbody tr th {\n        vertical-align: top;\n    }\n\n    .dataframe thead th {\n        text-align: right;\n    }\n</style>\n<table border=\"1\" class=\"dataframe\">\n  <thead>\n    <tr style=\"text-align: right;\">\n      <th></th>\n      <th>Missing</th>\n      <th>Percentage</th>\n    </tr>\n  </thead>\n  <tbody>\n    <tr>\n      <th>Type of measure</th>\n      <td>0</td>\n      <td>0.00 %</td>\n    </tr>\n    <tr>\n      <th>Category</th>\n      <td>0</td>\n      <td>0.00 %</td>\n    </tr>\n    <tr>\n      <th>Target groups</th>\n      <td>238</td>\n      <td>25.45 %</td>\n    </tr>\n  </tbody>\n</table>\n</div>"
     },
     "execution_count": 19,
     "metadata": {},
     "output_type": "execute_result"
    }
   ],
   "source": [
    "selected =  ['Category', 'Target groups','Type of measure']\n",
    "df_na[df_na.index.isin(selected)]"
   ],
   "metadata": {
    "collapsed": false,
    "pycharm": {
     "name": "#%%\n"
    }
   }
  },
  {
   "cell_type": "markdown",
   "source": [
    "to train the model we chose:\n",
    "* title\n",
    "* descriptionBackgroundInfo\n",
    "* descriptionUseOfMeasure\n",
    "\n",
    "We used SVM algorithm for Type of measure and Category columns, and KNeighborsClassifier for target groups. As I mentioned, because of unstable data the model is for from\n",
    "perfection. Through our prediction, we can say that SVM is not the best algorithm working with given labels.\n",
    "What about target group? The results are pretty good for the data we have."
   ],
   "metadata": {
    "collapsed": false,
    "pycharm": {
     "name": "#%% md\n"
    }
   }
  }
 ],
 "metadata": {
  "kernelspec": {
   "display_name": "Python 3",
   "language": "python",
   "name": "python3"
  },
  "language_info": {
   "codemirror_mode": {
    "name": "ipython",
    "version": 2
   },
   "file_extension": ".py",
   "mimetype": "text/x-python",
   "name": "python",
   "nbconvert_exporter": "python",
   "pygments_lexer": "ipython2",
   "version": "2.7.6"
  }
 },
 "nbformat": 4,
 "nbformat_minor": 0
}