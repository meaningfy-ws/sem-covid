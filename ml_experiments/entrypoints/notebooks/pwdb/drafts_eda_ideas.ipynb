{
 "cells": [
  {
   "cell_type": "markdown",
   "source": [
    "# EDA on textual data"
   ],
   "metadata": {
    "collapsed": false,
    "pycharm": {
     "name": "#%% md\n"
    }
   }
  },
  {
   "cell_type": "code",
   "execution_count": null,
   "outputs": [],
   "source": [],
   "metadata": {
    "collapsed": false,
    "pycharm": {
     "name": "#%%\n"
    }
   }
  },
  {
   "cell_type": "code",
   "execution_count": null,
   "outputs": [],
   "source": [
    "def get_str_columns(df : pd.DataFrame):\n",
    "    column_names = []\n",
    "    for column in df.columns:\n",
    "        if type(df[column][0]) == str :\n",
    "            column_names.append(column)\n",
    "    return column_names\n"
   ],
   "metadata": {
    "collapsed": false,
    "pycharm": {
     "name": "#%%\n"
    }
   }
  },
  {
   "cell_type": "code",
   "execution_count": null,
   "outputs": [],
   "source": [
    "def plot_sentence_length_histogram(df : pd.DataFrame, title : str):\n",
    "    plots =[]\n",
    "    tmp_df = pd.Series(df.str.len())\n",
    "    plots.append(px.histogram(tmp_df,title='Sentence len for: '+title))\n",
    "    return plots\n"
   ],
   "metadata": {
    "collapsed": false,
    "pycharm": {
     "name": "#%%\n"
    }
   }
  },
  {
   "cell_type": "code",
   "execution_count": null,
   "outputs": [],
   "source": [
    "def plot_top_non_stopwords_barchart(text,title : str):\n",
    "    stop=set(stopwords.words('english'))\n",
    "    new= text.str.split()\n",
    "    new=new.values.tolist()\n",
    "    corpus=[]\n",
    "    plots = []\n",
    "    for element in new:\n",
    "        if isinstance(element,Iterable):\n",
    "            for word in element:\n",
    "                corpus.append(str.lower(word))\n",
    "    counter=Counter(corpus)\n",
    "    most=counter.most_common()\n",
    "    x, y=[], []\n",
    "    for word,count in most[:40]:\n",
    "        if word not in stop:\n",
    "            x.append(word)\n",
    "            y.append(count)\n",
    "\n",
    "    plots.append(px.bar(x=y,y=x,title='Word frec for : '+title))\n",
    "    return plots"
   ],
   "metadata": {
    "collapsed": false,
    "pycharm": {
     "name": "#%%\n"
    }
   }
  },
  {
   "cell_type": "code",
   "execution_count": null,
   "outputs": [],
   "source": [
    "def plot_top_ngrams_barchart(text,title : str ,n=2):\n",
    "    plots = []\n",
    "    try:\n",
    "        stop=set(stopwords.words('english'))\n",
    "\n",
    "        new= text.str.split()\n",
    "        new=new.values.tolist()\n",
    "        corpus=[]\n",
    "        for element in new:\n",
    "            if isinstance(element,Iterable):\n",
    "                for word in element:\n",
    "                    corpus.append(str.lower(str(word)))\n",
    "        def _get_top_ngram(corpus_local, n=None):\n",
    "            vec = CountVectorizer(ngram_range=(n, n)).fit(corpus_local)\n",
    "            bag_of_words = vec.transform(corpus_local)\n",
    "            sum_words = bag_of_words.sum(axis=0)\n",
    "            words_freq = [(word, sum_words[0, idx])\n",
    "                          for word, idx in vec.vocabulary_.items()]\n",
    "            words_freq =sorted(words_freq, key = lambda x: x[1], reverse=True)\n",
    "            return words_freq[:10]\n",
    "\n",
    "        top_n_bigrams=_get_top_ngram(corpus,n)[:10]\n",
    "        x,y=map(list,zip(*top_n_bigrams))\n",
    "        plots.append(px.bar(x=y,y=x,title='Top '+str(n)+' grams : '+title))\n",
    "    except:\n",
    "        print(\"Some error for textual data : \",title)\n",
    "    return plots\n"
   ],
   "metadata": {
    "collapsed": false,
    "pycharm": {
     "name": "#%%\n"
    }
   }
  },
  {
   "cell_type": "code",
   "execution_count": null,
   "outputs": [],
   "source": [
    "def plot_named_entity_barchart(text,title:str):\n",
    "    nlp = spacy.load(\"en_core_web_sm\")\n",
    "    ent = []\n",
    "    plots = []\n",
    "    for row in text:\n",
    "        if type(row) == str:\n",
    "            doc = nlp(row)\n",
    "            for e in doc.ents:\n",
    "                ent.append(e.label_)\n",
    "    if ent:\n",
    "        counter=Counter(ent)\n",
    "        count=counter.most_common()\n",
    "        x,y=map(list,zip(*count))\n",
    "        plots.append(px.bar(x=y,y=x,title='Named entity : '+title))\n",
    "    return plots"
   ],
   "metadata": {
    "collapsed": false,
    "pycharm": {
     "name": "#%%\n"
    }
   }
  },
  {
   "cell_type": "code",
   "execution_count": null,
   "outputs": [],
   "source": [
    "def plot_most_common_named_entity_barchart(text,title, entity=\"ORG\"):\n",
    "    nlp = spacy.load(\"en_core_web_sm\")\n",
    "    ent = []\n",
    "    plots = []\n",
    "    for row in text:\n",
    "        if type(row) == str:\n",
    "            doc = nlp(row)\n",
    "            for e in doc.ents:\n",
    "                if e.label_ == entity:\n",
    "                    ent.append(str.lower(e.text))\n",
    "    if ent:\n",
    "        counter=Counter(ent)\n",
    "        count=counter.most_common(10)\n",
    "        x,y=map(list,zip(*count))\n",
    "        plots.append(px.bar(x=y,y=x,title='Most common named entity ['+entity+'] : '+title))\n",
    "    return plots"
   ],
   "metadata": {
    "collapsed": false,
    "pycharm": {
     "name": "#%%\n"
    }
   }
  },
  {
   "cell_type": "code",
   "execution_count": null,
   "outputs": [],
   "source": [
    "def plot_most_common_noun_phrases_barchart(text,title):\n",
    "    nlp = spacy.load(\"en_core_web_sm\")\n",
    "    ent = []\n",
    "    plots = []\n",
    "    for row in text:\n",
    "        if type(row) == str:\n",
    "            doc = nlp(row)\n",
    "            doc.cats\n",
    "            for noun_phrase in doc.noun_chunks:\n",
    "                    ent.append(str.lower(noun_phrase.text))\n",
    "    if ent:\n",
    "        counter=Counter(ent)\n",
    "        count=counter.most_common(10)\n",
    "        x,y=map(list,zip(*count))\n",
    "        plots.append(px.bar(x=y,y=x,title='Most common noun phrases: '+title))\n",
    "    return plots"
   ],
   "metadata": {
    "collapsed": false,
    "pycharm": {
     "name": "#%%\n"
    }
   }
  },
  {
   "cell_type": "code",
   "execution_count": null,
   "outputs": [],
   "source": [
    "def eda_on_text_data(df: pd.DataFrame):\n",
    "    str_column_names = get_str_columns(df)\n",
    "    plots = []\n",
    "    pbar = tqdm(str_column_names)\n",
    "    for column_name in pbar:\n",
    "        pbar.set_description('Eda on text data : ',column_name)\n",
    "        with concurrent.futures.ThreadPoolExecutor() as executor:\n",
    "            futures = []\n",
    "            #plot_sentence_length_histogram(df[column_name],column_name)\n",
    "            futures.append(executor.submit(plot_top_non_stopwords_barchart,df[column_name],column_name))\n",
    "            #futures.append(executor.submit(plot_top_ngrams_barchart,df[column_name],column_name,3))\n",
    "            #futures.append(executor.submit(plot_named_entity_barchart,df[column_name],column_name))\n",
    "            #futures.append(executor.submit(plot_most_common_named_entity_barchart,df[column_name],column_name,'ORG'))\n",
    "            #futures.append(executor.submit(plot_most_common_noun_phrases_barchart,df[column_name],column_name))\n",
    "            for future in concurrent.futures.as_completed(futures):\n",
    "                plots+=future.result()\n",
    "    return plots"
   ],
   "metadata": {
    "collapsed": false,
    "pycharm": {
     "name": "#%%\n"
    }
   }
  },
  {
   "cell_type": "code",
   "execution_count": null,
   "outputs": [],
   "source": [
    "def execute_eda(src_path : path.PosixPath, output_path:path.PosixPath):\n",
    "    if src_path.exists():\n",
    "        df = pd.read_json(src_path)\n",
    "        specific_categorical_columns= ['country', 'category', 'subcategory',\n",
    "        'actors', 'target_groups', 'funding','sectors']\n",
    "        specific_textual_columns= ['title',\n",
    "       'background_info_description', 'content_of_measure_description',\n",
    "        'use_of_measure_description','involvement_of_social_partners_description']\n",
    "        plots = []\n",
    "        with concurrent.futures.ThreadPoolExecutor() as executor:\n",
    "            futures = [executor.submit(eda_on_categorical_data,df[specific_categorical_columns]),\n",
    "                       executor.submit(eda_on_text_data,df[specific_textual_columns])]\n",
    "            for future in concurrent.futures.as_completed(futures):\n",
    "                plots+=future.result()\n",
    "        pbar = tqdm(plots)\n",
    "        if output_path is not None:\n",
    "            if output_path.exists():\n",
    "                with open(output_path,'w') as f:\n",
    "                    pbar.set_description('Generate HTML report.')\n",
    "                    for plot in pbar:\n",
    "                        f.write(plot.to_html(full_html=False,include_plotlyjs='cdn'))\n",
    "            else:\n",
    "                print('This output_path:',output_path,'is invalid!')\n",
    "        else:\n",
    "             pbar.set_description('Render plots in jupyter notebook.')\n",
    "             for plot in pbar:\n",
    "                plot.show()\n",
    "    else:\n",
    "        print('This src_path:',src_path,'is invalid!')\n"
   ],
   "metadata": {
    "collapsed": false,
    "pycharm": {
     "name": "#%%\n"
    }
   }
  },
  {
   "cell_type": "code",
   "execution_count": null,
   "outputs": [],
   "source": [
    "class EdaPWDB():\n",
    "    def __init__(self, src_path : path.PosixPath):\n",
    "        if src_path.exists():\n",
    "            self.plots = []\n",
    "            self.df = pd.read_json(src_path)\n",
    "            self.df ['title', 'country', 'category', 'subcategory',\n",
    "       'background_info_description', 'content_of_measure_description',\n",
    "        'use_of_measure_description','involvement_of_social_partners_description',\n",
    "        'actors', 'target_groups', 'funding'].head(1)\n",
    "        else:\n",
    "            print('This src_path:',src_path,'is invalid!')\n",
    "    def execute(self):\n",
    "        specific_categorical_columns= ['country', 'category', 'subcategory',\n",
    "        'actors', 'target_groups', 'funding']\n",
    "        specific_textual_columns= ['title',\n",
    "       'background_info_description', 'content_of_measure_description',\n",
    "        'use_of_measure_description','involvement_of_social_partners_description']\n",
    "        self.df[specific_textual_columns].head(1)\n",
    "        with concurrent.futures.ThreadPoolExecutor() as executor:\n",
    "            futures = [executor.submit(eda_on_categorical_data,self.df[specific_categorical_columns]),\n",
    "                       executor.submit(eda_on_text_data,self.df[specific_textual_columns])]\n",
    "            for future in concurrent.futures.as_completed(futures):\n",
    "                self.plots+=future.result()\n",
    "    def show(self):\n",
    "        progress_bar = tqdm(self.plots)\n",
    "        progress_bar.set_description('Render plots in jupyter notebook.')\n",
    "        for plot in progress_bar:\n",
    "            plot.show()\n",
    "    def export_to_html(self,output_path : path.PosixPath):\n",
    "        progress_bar = tqdm(self.plots)\n",
    "        with open(output_path,'w') as f:\n",
    "            progress_bar.set_description('Generate HTML report.')\n",
    "            for plot in progress_bar:\n",
    "               f.write(plot.to_html(full_html=False,include_plotlyjs='cdn'))\n",
    "\n"
   ],
   "metadata": {
    "collapsed": false,
    "pycharm": {
     "name": "#%%\n"
    }
   }
  },
  {
   "cell_type": "code",
   "execution_count": null,
   "outputs": [],
   "source": [
    "#execute_eda(SRC_FILE_PATH,None)\n"
   ],
   "metadata": {
    "collapsed": false,
    "pycharm": {
     "name": "#%%\n"
    }
   }
  },
  {
   "cell_type": "code",
   "execution_count": null,
   "outputs": [],
   "source": [
    "eda_pwdb = EdaPWDB(SRC_FILE_PATH)\n"
   ],
   "metadata": {
    "collapsed": false,
    "pycharm": {
     "name": "#%%\n"
    }
   }
  },
  {
   "cell_type": "code",
   "execution_count": null,
   "outputs": [],
   "source": [
    "eda_pwdb.execute()"
   ],
   "metadata": {
    "collapsed": false,
    "pycharm": {
     "name": "#%%\n"
    }
   }
  },
  {
   "cell_type": "code",
   "execution_count": null,
   "outputs": [],
   "source": [
    "#eda_pwdb.show()\n",
    "#eda_pwdb.export_to_html(OUTPUT_FILE_PATH)\n"
   ],
   "metadata": {
    "collapsed": false,
    "pycharm": {
     "name": "#%%\n"
    }
   }
  },
  {
   "cell_type": "markdown",
   "metadata": {
    "collapsed": true,
    "pycharm": {
     "name": "#%% md\n"
    }
   },
   "source": [
    "# EDA on categorical data"
   ]
  },
  {
   "cell_type": "code",
   "execution_count": null,
   "outputs": [],
   "source": [
    "def get_list_from_series(series : pd.Series):\n",
    "    result_list = []\n",
    "    for elements in series:\n",
    "        if type(elements)==list:\n",
    "            for element in elements:\n",
    "               result_list.append(element)\n",
    "    return result_list"
   ],
   "metadata": {
    "collapsed": false,
    "pycharm": {
     "name": "#%%\n"
    }
   }
  },
  {
   "cell_type": "code",
   "execution_count": null,
   "outputs": [],
   "source": [
    "def prepare_series_from_dataframe(df : pd.DataFrame):\n",
    "    result_dict = {}\n",
    "    columns = df.columns\n",
    "    for column in columns:\n",
    "        if type(df[column]) == pd.Series:\n",
    "            if type(df[column][0]) == list:\n",
    "                tmp_list = get_list_from_series(df[column])\n",
    "                result_dict[column]=tmp_list\n",
    "    return result_dict"
   ],
   "metadata": {
    "collapsed": false,
    "pycharm": {
     "name": "#%%\n"
    }
   }
  },
  {
   "cell_type": "code",
   "execution_count": null,
   "outputs": [],
   "source": [
    "def eda_on_categorical_data(df : pd.DataFrame):\n",
    "    prepared_data = prepare_series_from_dataframe(df)\n",
    "    plots = []\n",
    "    pbar = tqdm(prepared_data.keys())\n",
    "    for key in pbar:\n",
    "        pbar.set_description('Eda on categorical data : ',str(key))\n",
    "        if type(prepared_data[key])!=dict:\n",
    "            try:\n",
    "                duplicate_dict = Counter(prepared_data[key])\n",
    "                duplicate_dict = dict(sorted(duplicate_dict.items(), key=lambda item: item[1],reverse=True))\n",
    "                column_stat = pd.DataFrame({'Data':duplicate_dict.keys(),'Count':duplicate_dict.values()})\n",
    "                plots.append(px.bar(column_stat,x='Data',y='Count',title=key))\n",
    "                plots.append(px.pie(column_stat,names='Data',values='Count',title=key))\n",
    "            except:\n",
    "                print('Some error for categorial data : ',key)\n",
    "    return plots"
   ],
   "metadata": {
    "collapsed": false,
    "pycharm": {
     "name": "#%%\n"
    }
   }
  }
 ],
 "metadata": {
  "kernelspec": {
   "display_name": "Python 3",
   "language": "python",
   "name": "python3"
  },
  "language_info": {
   "codemirror_mode": {
    "name": "ipython",
    "version": 2
   },
   "file_extension": ".py",
   "mimetype": "text/x-python",
   "name": "python",
   "nbconvert_exporter": "python",
   "pygments_lexer": "ipython2",
   "version": "2.7.6"
  }
 },
 "nbformat": 4,
 "nbformat_minor": 0
}