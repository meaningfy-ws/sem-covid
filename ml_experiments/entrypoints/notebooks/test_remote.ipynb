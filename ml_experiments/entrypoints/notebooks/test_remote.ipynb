{
 "cells": [
  {
   "cell_type": "markdown",
   "source": [
    "#### Path adjustments hack\n",
    "The remotely deployed code must be available to the remote Jupyter Notebook server.\n",
    "To do so we simply add\n",
    " that path to the `sys.path` which is equivalent to setting\n",
    "the `PYTHONPATH` environment variable."
   ],
   "metadata": {
    "collapsed": false
   }
  },
  {
   "cell_type": "code",
   "execution_count": 7,
   "metadata": {
    "collapsed": true
   },
   "outputs": [
    {
     "data": {
      "text/plain": "['/home/jovyan',\n '/opt/conda/lib/python38.zip',\n '/opt/conda/lib/python3.8',\n '/opt/conda/lib/python3.8/lib-dynload',\n '',\n '/opt/conda/lib/python3.8/site-packages',\n '/opt/conda/lib/python3.8/site-packages/IPython/extensions',\n '/home/jovyan/.ipython',\n '/home/jovyan/work/upload/ml-experiments',\n '/home/jovyan/work/upload/ml-experiments',\n '/home/jovyan/work/upload/ml-experiments']"
     },
     "execution_count": 7,
     "metadata": {},
     "output_type": "execute_result"
    }
   ],
   "source": [
    "import sys\n",
    "REMOTE_HOME=\"/home/jovyan\"\n",
    "REMOTE_SYNC=REMOTE_HOME+\"/work/upload\"\n",
    "REMOTE_THIS_PROJECT=REMOTE_SYNC+\"/ml-experiments\"\n",
    "sys.path.append(REMOTE_THIS_PROJECT)\n",
    "sys.path"
   ]
  },
  {
   "cell_type": "code",
   "execution_count": 8,
   "outputs": [
    {
     "name": "stdout",
     "output_type": "stream",
     "text": [
      "['', 'dirty', 'textwith', 'httpsomedomainlink', 'strangecharacters', '']\n"
     ]
    }
   ],
   "source": [
    "import src.pwdb_transformer as transformer\n",
    "dirty_text = \"\"\" this is some dirty text\n",
    "with http://some.domain/link/ and strange\n",
    "characters ` ` ' \" '  ~ ~\"\"\"\n",
    "\n",
    "clean_text = transformer.cleaning(dirty_text)\n",
    "print(clean_text)\n"
   ],
   "metadata": {
    "collapsed": false,
    "pycharm": {
     "name": "#%%\n"
    }
   }
  }
 ],
 "metadata": {
  "kernelspec": {
   "display_name": "Python 3",
   "language": "python",
   "name": "python3"
  },
  "language_info": {
   "codemirror_mode": {
    "name": "ipython",
    "version": 2
   },
   "file_extension": ".py",
   "mimetype": "text/x-python",
   "name": "python",
   "nbconvert_exporter": "python",
   "pygments_lexer": "ipython2",
   "version": "2.7.6"
  }
 },
 "nbformat": 4,
 "nbformat_minor": 0
}