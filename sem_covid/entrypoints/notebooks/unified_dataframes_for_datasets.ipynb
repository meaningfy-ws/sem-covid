{
 "cells": [
  {
   "cell_type": "code",
   "execution_count": 33,
   "metadata": {
    "collapsed": true
   },
   "outputs": [],
   "source": [
    "import sys\n",
    "\n",
    "import pandas as pd\n",
    "\n",
    "sys.path.append(\"/home/jovyan/work/sem-covid/\")\n",
    "sys.path = list(set(sys.path))\n",
    "import os\n",
    "\n",
    "os.getcwd()\n",
    "os.chdir('/home/jovyan/work/sem-covid/')\n",
    "from sem_covid import config\n",
    "import json\n",
    "import numpy as np\n",
    "\n",
    "from sem_covid.services.store_registry import StoreRegistry, store_registry\n"
   ]
  },
  {
   "cell_type": "code",
   "execution_count": 34,
   "outputs": [],
   "source": [
    "es_store = store_registry.es_index_store()"
   ],
   "metadata": {
    "collapsed": false,
    "pycharm": {
     "name": "#%%\n"
    }
   }
  },
  {
   "cell_type": "code",
   "execution_count": 35,
   "outputs": [
    {
     "name": "stderr",
     "output_type": "stream",
     "text": [
      "100% (1288 of 1288) |####################| Elapsed Time: 0:00:00 Time:  0:00:00\n",
      "100% (2818 of 2818) |####################| Elapsed Time: 0:00:00 Time:  0:00:00\n",
      "100% (210 of 210) |######################| Elapsed Time: 0:00:00 Time:  0:00:00\n",
      "100% (1859 of 1859) |####################| Elapsed Time: 0:00:00 Time:  0:00:00\n"
     ]
    }
   ],
   "source": [
    "#Load dataframes from elastic\n",
    "pwdb_df=es_store.get_dataframe(index_name=config.PWDB_ELASTIC_SEARCH_INDEX_NAME)\n",
    "eu_cellar_df = es_store.get_dataframe(index_name=config.EU_CELLAR_ELASTIC_SEARCH_INDEX_NAME)\n",
    "eu_timeline_df = es_store.get_dataframe(index_name=config.EU_TIMELINE_ELASTIC_SEARCH_INDEX_NAME)\n",
    "ir_timeline_df = es_store.get_dataframe(index_name=config.IRELAND_TIMELINE_ELASTIC_SEARCH_INDEX_NAME)\n"
   ],
   "metadata": {
    "collapsed": false,
    "pycharm": {
     "name": "#%%\n"
    }
   }
  },
  {
   "cell_type": "code",
   "execution_count": 36,
   "outputs": [
    {
     "data": {
      "text/plain": "Index(['identifier', 'title', 'title_national_language', 'country',\n       'start_date', 'end_date', 'date_type', 'type_of_measure',\n       'status_of_regulation', 'category', 'subcategory', 'creation_date',\n       'background_info_description', 'content_of_measure_description',\n       'use_of_measure_description', 'actors', 'target_groups', 'funding',\n       'involvement_of_social_partners_description',\n       'social_partner_involvement_form', 'social_partner_role',\n       'is_sector_specific', 'private_or_public_sector',\n       'is_occupation_specific', 'sectors', 'occupations', 'sources'],\n      dtype='object')"
     },
     "execution_count": 36,
     "metadata": {},
     "output_type": "execute_result"
    }
   ],
   "source": [
    "# Print dataframe columns\n",
    "pwdb_df.columns\n"
   ],
   "metadata": {
    "collapsed": false,
    "pycharm": {
     "name": "#%%\n"
    }
   }
  },
  {
   "cell_type": "code",
   "execution_count": 37,
   "outputs": [
    {
     "name": "stdout",
     "output_type": "stream",
     "text": [
      "['background_info_description', 'content_of_measure_description', 'use_of_measure_description', 'involvement_of_social_partners_description']\n"
     ]
    }
   ],
   "source": [
    "# What are the textual columns in PWDB dataset\n",
    "textual_colums = [col for col in pwdb_df.columns if \"description\" in col]\n",
    "print(textual_colums)"
   ],
   "metadata": {
    "collapsed": false,
    "pycharm": {
     "name": "#%%\n"
    }
   }
  },
  {
   "cell_type": "code",
   "execution_count": 58,
   "outputs": [
    {
     "data": {
      "text/plain": "                                                                          background_info_description  \\\n_id                                                                                                     \nadc5c75937bc7f7198f534d08b85bd50c9521bfd3f319a0...  During the COVID-19 crisis, teleworking has be...   \n2372d71eb9ad6e6a70982e02bbe802db004ed49d91b2264...  In the face of the Corona crisis, employers ha...   \n8735e268191e9e5cbd3d2a44ca53d297e31746b5f1e24b9...  The Council of Ministers has agreed to authori...   \n18bcd22116c46919e03a3345f793c3859855227ac942e69...  The Act 136/2020 Coll., selected modifications...   \nb94d8aa95fbdeb1bb832b01fbe5d6e9bf9fc36fceb14f7b...  After the Financial Shield 1.0 was impelemente...   \n...                                                                                               ...   \ncb014a456b14c3621dd318a12e611f70c2a9636be9fe181...  During the period of validity of the extraordi...   \nd233b17dc2b98f14269c2b22be78d93ec5ccf2a0013b86f...  The Dutch government presented a package of em...   \n77d7e3c52aaf78bdfb1a1667641db1293bbff862440c547...  The case was initiated by the Dutch government...   \nbe8e21b382b63dd838087d7864e4d49a4807d9cc5d71aaa...  The measure is intended for businesses that ar...   \nc434820f8f8c0b1447ba2f6f62aed177b9597532d7fcd15...  Compared to other sectors, the construction se...   \n\n                                                                       content_of_measure_description  \\\n_id                                                                                                     \nadc5c75937bc7f7198f534d08b85bd50c9521bfd3f319a0...  Applied for a period of three years and coveri...   \n2372d71eb9ad6e6a70982e02bbe802db004ed49d91b2264...  The COVID-19 risk group regulation lists the m...   \n8735e268191e9e5cbd3d2a44ca53d297e31746b5f1e24b9...  In total, €136.3 million will be allocated to ...   \n18bcd22116c46919e03a3345f793c3859855227ac942e69...  Eligible are all self-employed persons perform...   \nb94d8aa95fbdeb1bb832b01fbe5d6e9bf9fc36fceb14f7b...  The main characteristics of the measure are as...   \n...                                                                                               ...   \ncb014a456b14c3621dd318a12e611f70c2a9636be9fe181...  Through this measure, the social security syst...   \nd233b17dc2b98f14269c2b22be78d93ec5ccf2a0013b86f...  This particular measure aims to provide extra ...   \n77d7e3c52aaf78bdfb1a1667641db1293bbff862440c547...  Enterprises (large and SMEs) need to offer gua...   \nbe8e21b382b63dd838087d7864e4d49a4807d9cc5d71aaa...  A company can reduce working hours collectivel...   \nc434820f8f8c0b1447ba2f6f62aed177b9597532d7fcd15...  On 3 September 2020, the arbitrator decided in...   \n\n                                                                           use_of_measure_description  \\\n_id                                                                                                     \nadc5c75937bc7f7198f534d08b85bd50c9521bfd3f319a0...  All employees in the private sector (with the ...   \n2372d71eb9ad6e6a70982e02bbe802db004ed49d91b2264...  According to information from the Minister fro...   \n8735e268191e9e5cbd3d2a44ca53d297e31746b5f1e24b9...                                 No data available.   \n18bcd22116c46919e03a3345f793c3859855227ac942e69...                                 Not available yet.   \nb94d8aa95fbdeb1bb832b01fbe5d6e9bf9fc36fceb14f7b...                                     Not known yet.   \n...                                                                                               ...   \ncb014a456b14c3621dd318a12e611f70c2a9636be9fe181...  There are no estimates as to the number of wor...   \nd233b17dc2b98f14269c2b22be78d93ec5ccf2a0013b86f...                      No information available yet.   \n77d7e3c52aaf78bdfb1a1667641db1293bbff862440c547...                          No information available.   \nbe8e21b382b63dd838087d7864e4d49a4807d9cc5d71aaa...        No data available on uptake of the measure.   \nc434820f8f8c0b1447ba2f6f62aed177b9597532d7fcd15...                             No data at this point.   \n\n                                                           involvement_of_social_partners_description  \n_id                                                                                                    \nadc5c75937bc7f7198f534d08b85bd50c9521bfd3f319a0...  The agreement is a social partner initiative w...  \n2372d71eb9ad6e6a70982e02bbe802db004ed49d91b2264...  The expert group which elaborated the definiti...  \n8735e268191e9e5cbd3d2a44ca53d297e31746b5f1e24b9...                            No involvement reported  \n18bcd22116c46919e03a3345f793c3859855227ac942e69...  Social partners, who are members of the tripar...  \nb94d8aa95fbdeb1bb832b01fbe5d6e9bf9fc36fceb14f7b...                                              None.  \n...                                                                                               ...  \ncb014a456b14c3621dd318a12e611f70c2a9636be9fe181...  Social partners were only consulted, but not i...  \nd233b17dc2b98f14269c2b22be78d93ec5ccf2a0013b86f...  The main peak level social partners have been ...  \n77d7e3c52aaf78bdfb1a1667641db1293bbff862440c547...  The main, national, level social partners have...  \nbe8e21b382b63dd838087d7864e4d49a4807d9cc5d71aaa...  It is unclear to what extent the social partne...  \nc434820f8f8c0b1447ba2f6f62aed177b9597532d7fcd15...  (1) The 2020 collective bargaining round took ...  \n\n[1288 rows x 4 columns]",
      "text/html": "<div>\n<style scoped>\n    .dataframe tbody tr th:only-of-type {\n        vertical-align: middle;\n    }\n\n    .dataframe tbody tr th {\n        vertical-align: top;\n    }\n\n    .dataframe thead th {\n        text-align: right;\n    }\n</style>\n<table border=\"1\" class=\"dataframe\">\n  <thead>\n    <tr style=\"text-align: right;\">\n      <th></th>\n      <th>background_info_description</th>\n      <th>content_of_measure_description</th>\n      <th>use_of_measure_description</th>\n      <th>involvement_of_social_partners_description</th>\n    </tr>\n    <tr>\n      <th>_id</th>\n      <th></th>\n      <th></th>\n      <th></th>\n      <th></th>\n    </tr>\n  </thead>\n  <tbody>\n    <tr>\n      <th>adc5c75937bc7f7198f534d08b85bd50c9521bfd3f319a090932b5d0bae54de0</th>\n      <td>During the COVID-19 crisis, teleworking has be...</td>\n      <td>Applied for a period of three years and coveri...</td>\n      <td>All employees in the private sector (with the ...</td>\n      <td>The agreement is a social partner initiative w...</td>\n    </tr>\n    <tr>\n      <th>2372d71eb9ad6e6a70982e02bbe802db004ed49d91b2264c0a2e8e41571002cc</th>\n      <td>In the face of the Corona crisis, employers ha...</td>\n      <td>The COVID-19 risk group regulation lists the m...</td>\n      <td>According to information from the Minister fro...</td>\n      <td>The expert group which elaborated the definiti...</td>\n    </tr>\n    <tr>\n      <th>8735e268191e9e5cbd3d2a44ca53d297e31746b5f1e24b941db6225a25848353</th>\n      <td>The Council of Ministers has agreed to authori...</td>\n      <td>In total, €136.3 million will be allocated to ...</td>\n      <td>No data available.</td>\n      <td>No involvement reported</td>\n    </tr>\n    <tr>\n      <th>18bcd22116c46919e03a3345f793c3859855227ac942e69dd13cbfcd588e1044</th>\n      <td>The Act 136/2020 Coll., selected modifications...</td>\n      <td>Eligible are all self-employed persons perform...</td>\n      <td>Not available yet.</td>\n      <td>Social partners, who are members of the tripar...</td>\n    </tr>\n    <tr>\n      <th>b94d8aa95fbdeb1bb832b01fbe5d6e9bf9fc36fceb14f7ba370a963f472fe35b</th>\n      <td>After the Financial Shield 1.0 was impelemente...</td>\n      <td>The main characteristics of the measure are as...</td>\n      <td>Not known yet.</td>\n      <td>None.</td>\n    </tr>\n    <tr>\n      <th>...</th>\n      <td>...</td>\n      <td>...</td>\n      <td>...</td>\n      <td>...</td>\n    </tr>\n    <tr>\n      <th>cb014a456b14c3621dd318a12e611f70c2a9636be9fe181072bd4bf5917a40fa</th>\n      <td>During the period of validity of the extraordi...</td>\n      <td>Through this measure, the social security syst...</td>\n      <td>There are no estimates as to the number of wor...</td>\n      <td>Social partners were only consulted, but not i...</td>\n    </tr>\n    <tr>\n      <th>d233b17dc2b98f14269c2b22be78d93ec5ccf2a0013b86f09175c69353c5800b</th>\n      <td>The Dutch government presented a package of em...</td>\n      <td>This particular measure aims to provide extra ...</td>\n      <td>No information available yet.</td>\n      <td>The main peak level social partners have been ...</td>\n    </tr>\n    <tr>\n      <th>77d7e3c52aaf78bdfb1a1667641db1293bbff862440c547fc3f6e8ab4fbd0d4e</th>\n      <td>The case was initiated by the Dutch government...</td>\n      <td>Enterprises (large and SMEs) need to offer gua...</td>\n      <td>No information available.</td>\n      <td>The main, national, level social partners have...</td>\n    </tr>\n    <tr>\n      <th>be8e21b382b63dd838087d7864e4d49a4807d9cc5d71aaa82577383ece92c581</th>\n      <td>The measure is intended for businesses that ar...</td>\n      <td>A company can reduce working hours collectivel...</td>\n      <td>No data available on uptake of the measure.</td>\n      <td>It is unclear to what extent the social partne...</td>\n    </tr>\n    <tr>\n      <th>c434820f8f8c0b1447ba2f6f62aed177b9597532d7fcd156c6f556532dd7d11e</th>\n      <td>Compared to other sectors, the construction se...</td>\n      <td>On 3 September 2020, the arbitrator decided in...</td>\n      <td>No data at this point.</td>\n      <td>(1) The 2020 collective bargaining round took ...</td>\n    </tr>\n  </tbody>\n</table>\n<p>1288 rows × 4 columns</p>\n</div>"
     },
     "execution_count": 58,
     "metadata": {},
     "output_type": "execute_result"
    }
   ],
   "source": [
    "# Print only textual columns\n",
    "pwdb_df[textual_colums]\n"
   ],
   "metadata": {
    "collapsed": false,
    "pycharm": {
     "name": "#%%\n"
    }
   }
  },
  {
   "cell_type": "code",
   "execution_count": 55,
   "outputs": [
    {
     "data": {
      "text/plain": "\"During the COVID-19 crisis, teleworking has been identified as a vital pillar to keep companies working and prevent social hardship. Discussions between the two representative social partners OGBL and LCGB and the employer association UEL, together with the Ministry of Work and Employment, led in a first instance to a joint assessment on teleworking at the level of the Economic and Social Council CES. From there, discussions continued between the social partners and an inter-professional agreement could have been signed between the social partners in October 2020.  Applied for a period of three years and covering all sectors in Luxembourg (with the exception of transport), the agreement provides a definition of teleworking: \\r\\r* Teleworking is identified as a form of organisational work, conducted by digital means and usually done at the company, but that is transferred to the location where the employee lives. \\r* The work is considered as teleworking when it is applied to occasional and exceptional circumstances, and when it remains below the 10% threshold of the annual working time. \\r* Teleworking is based on a written agreement between the employer and the employee, containing several compulsory elements, such as for example the location where telework takes place and the number of hours, and an employee can't be dismissed if he/she does not accept a teleworking scheme and an employer can't be made accountable if the employer refuses a teleworking scheme. \\r* The employer must also provide to the employee all the technical equipment to efficiently work under a teleworking scheme. \\r* The company staff delegation is regularly informed about the teleworking schemes.  All employees in the private sector (with the exception of transport sector) and covered by the Code of Work are concerned. The agreement is a social partner initiative within the Economic and Social Committee. The two representative trade unions OGBL and LCGB, as well as the employer association UEL signed the agreement. \""
     },
     "execution_count": 55,
     "metadata": {},
     "output_type": "execute_result"
    }
   ],
   "source": [
    "#Merge content of the textual columns into one new column\n",
    "pwdb_df[\"merged_content\"] = pwdb_df[textual_colums].apply(lambda row: ' '.join(row.values.astype(str)), axis=1)"
   ],
   "metadata": {
    "collapsed": false,
    "pycharm": {
     "name": "#%%\n"
    }
   }
  },
  {
   "cell_type": "code",
   "execution_count": 57,
   "outputs": [
    {
     "data": {
      "text/plain": "                                                    start_date    end_date  \\\n_id                                                                          \nadc5c75937bc7f7198f534d08b85bd50c9521bfd3f319a0...  10/20/2020        None   \n2372d71eb9ad6e6a70982e02bbe802db004ed49d91b2264...  05/06/2020  05/31/2021   \n8735e268191e9e5cbd3d2a44ca53d297e31746b5f1e24b9...  08/25/2020        None   \n18bcd22116c46919e03a3345f793c3859855227ac942e69...  03/01/2020  08/31/2020   \nb94d8aa95fbdeb1bb832b01fbe5d6e9bf9fc36fceb14f7b...  01/01/2021        None   \n...                                                        ...         ...   \ncb014a456b14c3621dd318a12e611f70c2a9636be9fe181...  03/18/2020  01/31/2021   \nd233b17dc2b98f14269c2b22be78d93ec5ccf2a0013b86f...  05/20/2020        None   \n77d7e3c52aaf78bdfb1a1667641db1293bbff862440c547...  03/17/2020        None   \nbe8e21b382b63dd838087d7864e4d49a4807d9cc5d71aaa...  07/01/2020  12/31/2021   \nc434820f8f8c0b1447ba2f6f62aed177b9597532d7fcd15...  09/03/2020        None   \n\n                                                     date_type creation_date  \n_id                                                                           \nadc5c75937bc7f7198f534d08b85bd50c9521bfd3f319a0...  Open ended    11/02/2020  \n2372d71eb9ad6e6a70982e02bbe802db004ed49d91b2264...   Temporary    07/09/2020  \n8735e268191e9e5cbd3d2a44ca53d297e31746b5f1e24b9...  Open ended    10/24/2020  \n18bcd22116c46919e03a3345f793c3859855227ac942e69...   Temporary    04/06/2020  \nb94d8aa95fbdeb1bb832b01fbe5d6e9bf9fc36fceb14f7b...   Temporary    12/31/2020  \n...                                                        ...           ...  \ncb014a456b14c3621dd318a12e611f70c2a9636be9fe181...   Temporary    04/13/2020  \nd233b17dc2b98f14269c2b22be78d93ec5ccf2a0013b86f...   Temporary    07/13/2020  \n77d7e3c52aaf78bdfb1a1667641db1293bbff862440c547...   Temporary    04/21/2020  \nbe8e21b382b63dd838087d7864e4d49a4807d9cc5d71aaa...  Open ended    10/01/2020  \nc434820f8f8c0b1447ba2f6f62aed177b9597532d7fcd15...   Temporary    09/15/2020  \n\n[1288 rows x 4 columns]",
      "text/html": "<div>\n<style scoped>\n    .dataframe tbody tr th:only-of-type {\n        vertical-align: middle;\n    }\n\n    .dataframe tbody tr th {\n        vertical-align: top;\n    }\n\n    .dataframe thead th {\n        text-align: right;\n    }\n</style>\n<table border=\"1\" class=\"dataframe\">\n  <thead>\n    <tr style=\"text-align: right;\">\n      <th></th>\n      <th>start_date</th>\n      <th>end_date</th>\n      <th>date_type</th>\n      <th>creation_date</th>\n    </tr>\n    <tr>\n      <th>_id</th>\n      <th></th>\n      <th></th>\n      <th></th>\n      <th></th>\n    </tr>\n  </thead>\n  <tbody>\n    <tr>\n      <th>adc5c75937bc7f7198f534d08b85bd50c9521bfd3f319a090932b5d0bae54de0</th>\n      <td>10/20/2020</td>\n      <td>None</td>\n      <td>Open ended</td>\n      <td>11/02/2020</td>\n    </tr>\n    <tr>\n      <th>2372d71eb9ad6e6a70982e02bbe802db004ed49d91b2264c0a2e8e41571002cc</th>\n      <td>05/06/2020</td>\n      <td>05/31/2021</td>\n      <td>Temporary</td>\n      <td>07/09/2020</td>\n    </tr>\n    <tr>\n      <th>8735e268191e9e5cbd3d2a44ca53d297e31746b5f1e24b941db6225a25848353</th>\n      <td>08/25/2020</td>\n      <td>None</td>\n      <td>Open ended</td>\n      <td>10/24/2020</td>\n    </tr>\n    <tr>\n      <th>18bcd22116c46919e03a3345f793c3859855227ac942e69dd13cbfcd588e1044</th>\n      <td>03/01/2020</td>\n      <td>08/31/2020</td>\n      <td>Temporary</td>\n      <td>04/06/2020</td>\n    </tr>\n    <tr>\n      <th>b94d8aa95fbdeb1bb832b01fbe5d6e9bf9fc36fceb14f7ba370a963f472fe35b</th>\n      <td>01/01/2021</td>\n      <td>None</td>\n      <td>Temporary</td>\n      <td>12/31/2020</td>\n    </tr>\n    <tr>\n      <th>...</th>\n      <td>...</td>\n      <td>...</td>\n      <td>...</td>\n      <td>...</td>\n    </tr>\n    <tr>\n      <th>cb014a456b14c3621dd318a12e611f70c2a9636be9fe181072bd4bf5917a40fa</th>\n      <td>03/18/2020</td>\n      <td>01/31/2021</td>\n      <td>Temporary</td>\n      <td>04/13/2020</td>\n    </tr>\n    <tr>\n      <th>d233b17dc2b98f14269c2b22be78d93ec5ccf2a0013b86f09175c69353c5800b</th>\n      <td>05/20/2020</td>\n      <td>None</td>\n      <td>Temporary</td>\n      <td>07/13/2020</td>\n    </tr>\n    <tr>\n      <th>77d7e3c52aaf78bdfb1a1667641db1293bbff862440c547fc3f6e8ab4fbd0d4e</th>\n      <td>03/17/2020</td>\n      <td>None</td>\n      <td>Temporary</td>\n      <td>04/21/2020</td>\n    </tr>\n    <tr>\n      <th>be8e21b382b63dd838087d7864e4d49a4807d9cc5d71aaa82577383ece92c581</th>\n      <td>07/01/2020</td>\n      <td>12/31/2021</td>\n      <td>Open ended</td>\n      <td>10/01/2020</td>\n    </tr>\n    <tr>\n      <th>c434820f8f8c0b1447ba2f6f62aed177b9597532d7fcd156c6f556532dd7d11e</th>\n      <td>09/03/2020</td>\n      <td>None</td>\n      <td>Temporary</td>\n      <td>09/15/2020</td>\n    </tr>\n  </tbody>\n</table>\n<p>1288 rows × 4 columns</p>\n</div>"
     },
     "execution_count": 57,
     "metadata": {},
     "output_type": "execute_result"
    }
   ],
   "source": [
    "#What are the columns that shows dates\n",
    "date_columns = [col for col in pwdb_df.columns if \"date\" in col]\n",
    "pwdb_df[date_columns]"
   ],
   "metadata": {
    "collapsed": false,
    "pycharm": {
     "name": "#%%\n"
    }
   }
  },
  {
   "cell_type": "code",
   "execution_count": 59,
   "outputs": [],
   "source": [
    "# Create new dataframe with the wanted content and columns from PWDB dataset\n",
    "tmp_pwdb_df = pd.DataFrame(pwdb_df[[\"creation_date\",\"title\",\"merged_content\"]])\n",
    "tmp_pwdb_df[\"doc_source\"]=\"pwdb\"\n"
   ],
   "metadata": {
    "collapsed": false,
    "pycharm": {
     "name": "#%%\n"
    }
   }
  },
  {
   "cell_type": "code",
   "execution_count": 60,
   "outputs": [
    {
     "data": {
      "text/plain": "                                                   creation_date  \\\n_id                                                                \nadc5c75937bc7f7198f534d08b85bd50c9521bfd3f319a0...    11/02/2020   \n2372d71eb9ad6e6a70982e02bbe802db004ed49d91b2264...    07/09/2020   \n8735e268191e9e5cbd3d2a44ca53d297e31746b5f1e24b9...    10/24/2020   \n18bcd22116c46919e03a3345f793c3859855227ac942e69...    04/06/2020   \nb94d8aa95fbdeb1bb832b01fbe5d6e9bf9fc36fceb14f7b...    12/31/2020   \n...                                                          ...   \ncb014a456b14c3621dd318a12e611f70c2a9636be9fe181...    04/13/2020   \nd233b17dc2b98f14269c2b22be78d93ec5ccf2a0013b86f...    07/13/2020   \n77d7e3c52aaf78bdfb1a1667641db1293bbff862440c547...    04/21/2020   \nbe8e21b382b63dd838087d7864e4d49a4807d9cc5d71aaa...    10/01/2020   \nc434820f8f8c0b1447ba2f6f62aed177b9597532d7fcd15...    09/15/2020   \n\n                                                                                                title  \\\n_id                                                                                                     \nadc5c75937bc7f7198f534d08b85bd50c9521bfd3f319a0...                  Agreement on a teleworking regime   \n2372d71eb9ad6e6a70982e02bbe802db004ed49d91b2264...  Special protection for COVID-19 risk groups at...   \n8735e268191e9e5cbd3d2a44ca53d297e31746b5f1e24b9...  Funds for innovative renewable projects in And...   \n18bcd22116c46919e03a3345f793c3859855227ac942e69...  Waiver of advance payments for social and heal...   \nb94d8aa95fbdeb1bb832b01fbe5d6e9bf9fc36fceb14f7b...  Financial Shield 2.0: Small and medium-sized e...   \n...                                                                                               ...   \ncb014a456b14c3621dd318a12e611f70c2a9636be9fe181...       Automatic extension of unemployment benefits   \nd233b17dc2b98f14269c2b22be78d93ec5ccf2a0013b86f...  Extra subsidies to institutions in the cultura...   \n77d7e3c52aaf78bdfb1a1667641db1293bbff862440c547...          Expanding business loan guarantee scheme    \nbe8e21b382b63dd838087d7864e4d49a4807d9cc5d71aaa...  Collective working time reduction for companie...   \nc434820f8f8c0b1447ba2f6f62aed177b9597532d7fcd15...          One-time premium for construction workers   \n\n                                                                                       merged_content  \\\n_id                                                                                                     \nadc5c75937bc7f7198f534d08b85bd50c9521bfd3f319a0...  During the COVID-19 crisis, teleworking has be...   \n2372d71eb9ad6e6a70982e02bbe802db004ed49d91b2264...  In the face of the Corona crisis, employers ha...   \n8735e268191e9e5cbd3d2a44ca53d297e31746b5f1e24b9...  The Council of Ministers has agreed to authori...   \n18bcd22116c46919e03a3345f793c3859855227ac942e69...  The Act 136/2020 Coll., selected modifications...   \nb94d8aa95fbdeb1bb832b01fbe5d6e9bf9fc36fceb14f7b...  After the Financial Shield 1.0 was impelemente...   \n...                                                                                               ...   \ncb014a456b14c3621dd318a12e611f70c2a9636be9fe181...  During the period of validity of the extraordi...   \nd233b17dc2b98f14269c2b22be78d93ec5ccf2a0013b86f...  The Dutch government presented a package of em...   \n77d7e3c52aaf78bdfb1a1667641db1293bbff862440c547...  The case was initiated by the Dutch government...   \nbe8e21b382b63dd838087d7864e4d49a4807d9cc5d71aaa...  The measure is intended for businesses that ar...   \nc434820f8f8c0b1447ba2f6f62aed177b9597532d7fcd15...  Compared to other sectors, the construction se...   \n\n                                                   doc_source  \n_id                                                            \nadc5c75937bc7f7198f534d08b85bd50c9521bfd3f319a0...       pwdb  \n2372d71eb9ad6e6a70982e02bbe802db004ed49d91b2264...       pwdb  \n8735e268191e9e5cbd3d2a44ca53d297e31746b5f1e24b9...       pwdb  \n18bcd22116c46919e03a3345f793c3859855227ac942e69...       pwdb  \nb94d8aa95fbdeb1bb832b01fbe5d6e9bf9fc36fceb14f7b...       pwdb  \n...                                                       ...  \ncb014a456b14c3621dd318a12e611f70c2a9636be9fe181...       pwdb  \nd233b17dc2b98f14269c2b22be78d93ec5ccf2a0013b86f...       pwdb  \n77d7e3c52aaf78bdfb1a1667641db1293bbff862440c547...       pwdb  \nbe8e21b382b63dd838087d7864e4d49a4807d9cc5d71aaa...       pwdb  \nc434820f8f8c0b1447ba2f6f62aed177b9597532d7fcd15...       pwdb  \n\n[1288 rows x 4 columns]",
      "text/html": "<div>\n<style scoped>\n    .dataframe tbody tr th:only-of-type {\n        vertical-align: middle;\n    }\n\n    .dataframe tbody tr th {\n        vertical-align: top;\n    }\n\n    .dataframe thead th {\n        text-align: right;\n    }\n</style>\n<table border=\"1\" class=\"dataframe\">\n  <thead>\n    <tr style=\"text-align: right;\">\n      <th></th>\n      <th>creation_date</th>\n      <th>title</th>\n      <th>merged_content</th>\n      <th>doc_source</th>\n    </tr>\n    <tr>\n      <th>_id</th>\n      <th></th>\n      <th></th>\n      <th></th>\n      <th></th>\n    </tr>\n  </thead>\n  <tbody>\n    <tr>\n      <th>adc5c75937bc7f7198f534d08b85bd50c9521bfd3f319a090932b5d0bae54de0</th>\n      <td>11/02/2020</td>\n      <td>Agreement on a teleworking regime</td>\n      <td>During the COVID-19 crisis, teleworking has be...</td>\n      <td>pwdb</td>\n    </tr>\n    <tr>\n      <th>2372d71eb9ad6e6a70982e02bbe802db004ed49d91b2264c0a2e8e41571002cc</th>\n      <td>07/09/2020</td>\n      <td>Special protection for COVID-19 risk groups at...</td>\n      <td>In the face of the Corona crisis, employers ha...</td>\n      <td>pwdb</td>\n    </tr>\n    <tr>\n      <th>8735e268191e9e5cbd3d2a44ca53d297e31746b5f1e24b941db6225a25848353</th>\n      <td>10/24/2020</td>\n      <td>Funds for innovative renewable projects in And...</td>\n      <td>The Council of Ministers has agreed to authori...</td>\n      <td>pwdb</td>\n    </tr>\n    <tr>\n      <th>18bcd22116c46919e03a3345f793c3859855227ac942e69dd13cbfcd588e1044</th>\n      <td>04/06/2020</td>\n      <td>Waiver of advance payments for social and heal...</td>\n      <td>The Act 136/2020 Coll., selected modifications...</td>\n      <td>pwdb</td>\n    </tr>\n    <tr>\n      <th>b94d8aa95fbdeb1bb832b01fbe5d6e9bf9fc36fceb14f7ba370a963f472fe35b</th>\n      <td>12/31/2020</td>\n      <td>Financial Shield 2.0: Small and medium-sized e...</td>\n      <td>After the Financial Shield 1.0 was impelemente...</td>\n      <td>pwdb</td>\n    </tr>\n    <tr>\n      <th>...</th>\n      <td>...</td>\n      <td>...</td>\n      <td>...</td>\n      <td>...</td>\n    </tr>\n    <tr>\n      <th>cb014a456b14c3621dd318a12e611f70c2a9636be9fe181072bd4bf5917a40fa</th>\n      <td>04/13/2020</td>\n      <td>Automatic extension of unemployment benefits</td>\n      <td>During the period of validity of the extraordi...</td>\n      <td>pwdb</td>\n    </tr>\n    <tr>\n      <th>d233b17dc2b98f14269c2b22be78d93ec5ccf2a0013b86f09175c69353c5800b</th>\n      <td>07/13/2020</td>\n      <td>Extra subsidies to institutions in the cultura...</td>\n      <td>The Dutch government presented a package of em...</td>\n      <td>pwdb</td>\n    </tr>\n    <tr>\n      <th>77d7e3c52aaf78bdfb1a1667641db1293bbff862440c547fc3f6e8ab4fbd0d4e</th>\n      <td>04/21/2020</td>\n      <td>Expanding business loan guarantee scheme</td>\n      <td>The case was initiated by the Dutch government...</td>\n      <td>pwdb</td>\n    </tr>\n    <tr>\n      <th>be8e21b382b63dd838087d7864e4d49a4807d9cc5d71aaa82577383ece92c581</th>\n      <td>10/01/2020</td>\n      <td>Collective working time reduction for companie...</td>\n      <td>The measure is intended for businesses that ar...</td>\n      <td>pwdb</td>\n    </tr>\n    <tr>\n      <th>c434820f8f8c0b1447ba2f6f62aed177b9597532d7fcd156c6f556532dd7d11e</th>\n      <td>09/15/2020</td>\n      <td>One-time premium for construction workers</td>\n      <td>Compared to other sectors, the construction se...</td>\n      <td>pwdb</td>\n    </tr>\n  </tbody>\n</table>\n<p>1288 rows × 4 columns</p>\n</div>"
     },
     "execution_count": 60,
     "metadata": {},
     "output_type": "execute_result"
    }
   ],
   "source": [
    "# See the newly created PWDB dataframe\n",
    "tmp_pwdb_df"
   ],
   "metadata": {
    "collapsed": false,
    "pycharm": {
     "name": "#%%\n"
    }
   }
  },
  {
   "cell_type": "code",
   "execution_count": 39,
   "outputs": [
    {
     "data": {
      "text/plain": "Index(['work', 'title', 'cdm_types', 'cdm_type_labels', 'resource_types',\n       'resource_type_labels', 'eurovoc_concepts', 'eurovoc_concept_labels',\n       'subject_matters', 'subject_matter_labels', 'directory_codes',\n       'directory_codes_labels', 'celex_numbers', 'legal_elis', 'id_documents',\n       'same_as_uris', 'authors', 'author_labels', 'full_ojs', 'oj_sectors',\n       'internal_comments', 'is_in_force', 'dates_document', 'dates_created',\n       'legal_dates_entry_into_force', 'legal_dates_signature', 'manifs_pdf',\n       'manifs_html', 'pdfs_to_download', 'htmls_to_download', 'dossiers',\n       'related_works', 'work_sequences', 'eu_cellar_core',\n       'eu_cellar_extended', 'metadata', 'content_path', 'content',\n       'language'],\n      dtype='object')"
     },
     "execution_count": 39,
     "metadata": {},
     "output_type": "execute_result"
    }
   ],
   "source": [
    "# Print dataframe columns\n",
    "eu_cellar_df.columns"
   ],
   "metadata": {
    "collapsed": false,
    "pycharm": {
     "name": "#%%\n"
    }
   }
  },
  {
   "cell_type": "code",
   "execution_count": 40,
   "outputs": [
    {
     "data": {
      "text/plain": "                                                   dates_document  \\\n_id                                                                 \n096cf675f70416b2e41772ca7c7e2d9e47b036fd61761f6...   [2020-08-24]   \n098a92d90aed3b1c860da75a07011e016ffd6b932bedb84...   [2020-11-12]   \n097445974db4fa8b72c8795530e3c0cfbeaa4399e1cddbf...   [2020-10-23]   \n09a99dc1b9074fe57ab5aee6544d724ce890983416548ad...   [2020-05-25]   \n099891adb9d1f50f2ee91ca1a4a38f5acad656f8f9c48f6...   [2021-04-21]   \n...                                                           ...   \n7f78f989ecbe6f02cf7b35c58620f734285c0bcf930675f...   [2021-04-14]   \n0d03875f957d8d5485570408d9ed5cdd3734de99ba1a85d...   [2020-10-29]   \n0d5371d3179b60985fb0f25ba8954ee1807f720dc7adbdd...   [2021-03-11]   \n0d4ab1728064e73ec6ee121b1112cc0084d0159bec1aaaa...   [2020-05-20]   \n0d497204a50e17efc9565e654866383416443e390ea4fb0...   [2020-04-15]   \n\n                                                   dates_created  \\\n_id                                                                \n096cf675f70416b2e41772ca7c7e2d9e47b036fd61761f6...          None   \n098a92d90aed3b1c860da75a07011e016ffd6b932bedb84...          None   \n097445974db4fa8b72c8795530e3c0cfbeaa4399e1cddbf...          None   \n09a99dc1b9074fe57ab5aee6544d724ce890983416548ad...          None   \n099891adb9d1f50f2ee91ca1a4a38f5acad656f8f9c48f6...          None   \n...                                                          ...   \n7f78f989ecbe6f02cf7b35c58620f734285c0bcf930675f...          None   \n0d03875f957d8d5485570408d9ed5cdd3734de99ba1a85d...          None   \n0d5371d3179b60985fb0f25ba8954ee1807f720dc7adbdd...          None   \n0d4ab1728064e73ec6ee121b1112cc0084d0159bec1aaaa...          None   \n0d497204a50e17efc9565e654866383416443e390ea4fb0...          None   \n\n                                                   legal_dates_entry_into_force  \\\n_id                                                                               \n096cf675f70416b2e41772ca7c7e2d9e47b036fd61761f6...                         None   \n098a92d90aed3b1c860da75a07011e016ffd6b932bedb84...                 [2020-12-03]   \n097445974db4fa8b72c8795530e3c0cfbeaa4399e1cddbf...                         None   \n09a99dc1b9074fe57ab5aee6544d724ce890983416548ad...                         None   \n099891adb9d1f50f2ee91ca1a4a38f5acad656f8f9c48f6...                         None   \n...                                                                         ...   \n7f78f989ecbe6f02cf7b35c58620f734285c0bcf930675f...                         None   \n0d03875f957d8d5485570408d9ed5cdd3734de99ba1a85d...                         None   \n0d5371d3179b60985fb0f25ba8954ee1807f720dc7adbdd...                         None   \n0d4ab1728064e73ec6ee121b1112cc0084d0159bec1aaaa...                         None   \n0d497204a50e17efc9565e654866383416443e390ea4fb0...                         None   \n\n                                                   legal_dates_signature  \n_id                                                                       \n096cf675f70416b2e41772ca7c7e2d9e47b036fd61761f6...                  None  \n098a92d90aed3b1c860da75a07011e016ffd6b932bedb84...                  None  \n097445974db4fa8b72c8795530e3c0cfbeaa4399e1cddbf...                  None  \n09a99dc1b9074fe57ab5aee6544d724ce890983416548ad...                  None  \n099891adb9d1f50f2ee91ca1a4a38f5acad656f8f9c48f6...                  None  \n...                                                                  ...  \n7f78f989ecbe6f02cf7b35c58620f734285c0bcf930675f...                  None  \n0d03875f957d8d5485570408d9ed5cdd3734de99ba1a85d...                  None  \n0d5371d3179b60985fb0f25ba8954ee1807f720dc7adbdd...                  None  \n0d4ab1728064e73ec6ee121b1112cc0084d0159bec1aaaa...                  None  \n0d497204a50e17efc9565e654866383416443e390ea4fb0...                  None  \n\n[2818 rows x 4 columns]",
      "text/html": "<div>\n<style scoped>\n    .dataframe tbody tr th:only-of-type {\n        vertical-align: middle;\n    }\n\n    .dataframe tbody tr th {\n        vertical-align: top;\n    }\n\n    .dataframe thead th {\n        text-align: right;\n    }\n</style>\n<table border=\"1\" class=\"dataframe\">\n  <thead>\n    <tr style=\"text-align: right;\">\n      <th></th>\n      <th>dates_document</th>\n      <th>dates_created</th>\n      <th>legal_dates_entry_into_force</th>\n      <th>legal_dates_signature</th>\n    </tr>\n    <tr>\n      <th>_id</th>\n      <th></th>\n      <th></th>\n      <th></th>\n      <th></th>\n    </tr>\n  </thead>\n  <tbody>\n    <tr>\n      <th>096cf675f70416b2e41772ca7c7e2d9e47b036fd61761f6e271d51b205d0bc50</th>\n      <td>[2020-08-24]</td>\n      <td>None</td>\n      <td>None</td>\n      <td>None</td>\n    </tr>\n    <tr>\n      <th>098a92d90aed3b1c860da75a07011e016ffd6b932bedb844d57d4aeb722ee691</th>\n      <td>[2020-11-12]</td>\n      <td>None</td>\n      <td>[2020-12-03]</td>\n      <td>None</td>\n    </tr>\n    <tr>\n      <th>097445974db4fa8b72c8795530e3c0cfbeaa4399e1cddbfdc5a8c4e463fd6bcf</th>\n      <td>[2020-10-23]</td>\n      <td>None</td>\n      <td>None</td>\n      <td>None</td>\n    </tr>\n    <tr>\n      <th>09a99dc1b9074fe57ab5aee6544d724ce890983416548addf972829a932708da</th>\n      <td>[2020-05-25]</td>\n      <td>None</td>\n      <td>None</td>\n      <td>None</td>\n    </tr>\n    <tr>\n      <th>099891adb9d1f50f2ee91ca1a4a38f5acad656f8f9c48f659f6be310fb0cbfc3</th>\n      <td>[2021-04-21]</td>\n      <td>None</td>\n      <td>None</td>\n      <td>None</td>\n    </tr>\n    <tr>\n      <th>...</th>\n      <td>...</td>\n      <td>...</td>\n      <td>...</td>\n      <td>...</td>\n    </tr>\n    <tr>\n      <th>7f78f989ecbe6f02cf7b35c58620f734285c0bcf930675fb33881c74935b9edb</th>\n      <td>[2021-04-14]</td>\n      <td>None</td>\n      <td>None</td>\n      <td>None</td>\n    </tr>\n    <tr>\n      <th>0d03875f957d8d5485570408d9ed5cdd3734de99ba1a85d5ce17c328c133ec1e</th>\n      <td>[2020-10-29]</td>\n      <td>None</td>\n      <td>None</td>\n      <td>None</td>\n    </tr>\n    <tr>\n      <th>0d5371d3179b60985fb0f25ba8954ee1807f720dc7adbdd0e9c581a8d1f120f0</th>\n      <td>[2021-03-11]</td>\n      <td>None</td>\n      <td>None</td>\n      <td>None</td>\n    </tr>\n    <tr>\n      <th>0d4ab1728064e73ec6ee121b1112cc0084d0159bec1aaaa71b71186327da87b4</th>\n      <td>[2020-05-20]</td>\n      <td>None</td>\n      <td>None</td>\n      <td>None</td>\n    </tr>\n    <tr>\n      <th>0d497204a50e17efc9565e654866383416443e390ea4fb0e7f61ac9f6354d108</th>\n      <td>[2020-04-15]</td>\n      <td>None</td>\n      <td>None</td>\n      <td>None</td>\n    </tr>\n  </tbody>\n</table>\n<p>2818 rows × 4 columns</p>\n</div>"
     },
     "execution_count": 40,
     "metadata": {},
     "output_type": "execute_result"
    }
   ],
   "source": [
    "#What are the columns that shows dates\n",
    "date_colums = [col for col in eu_cellar_df.columns if \"date\" in col]\n",
    "eu_cellar_df[date_colums]\n"
   ],
   "metadata": {
    "collapsed": false,
    "pycharm": {
     "name": "#%%\n"
    }
   }
  },
  {
   "cell_type": "code",
   "execution_count": 41,
   "outputs": [],
   "source": [
    "# Create new dataframe with the wanted content and columns from Cellar dataset\n",
    "tmp_cellar_df = pd.DataFrame(eu_cellar_df[[\"dates_document\",\"title\",\"content\"]])\n",
    "tmp_cellar_df[\"doc_source\"]=\"eu_cellar\""
   ],
   "metadata": {
    "collapsed": false,
    "pycharm": {
     "name": "#%%\n"
    }
   }
  },
  {
   "cell_type": "code",
   "execution_count": 43,
   "outputs": [
    {
     "data": {
      "text/plain": "                                                            Date  \\\n_id                                                                \n096cf675f70416b2e41772ca7c7e2d9e47b036fd61761f6...  [2020-08-24]   \n098a92d90aed3b1c860da75a07011e016ffd6b932bedb84...  [2020-11-12]   \n097445974db4fa8b72c8795530e3c0cfbeaa4399e1cddbf...  [2020-10-23]   \n09a99dc1b9074fe57ab5aee6544d724ce890983416548ad...  [2020-05-25]   \n099891adb9d1f50f2ee91ca1a4a38f5acad656f8f9c48f6...  [2021-04-21]   \n...                                                          ...   \n7f78f989ecbe6f02cf7b35c58620f734285c0bcf930675f...  [2021-04-14]   \n0d03875f957d8d5485570408d9ed5cdd3734de99ba1a85d...  [2020-10-29]   \n0d5371d3179b60985fb0f25ba8954ee1807f720dc7adbdd...  [2021-03-11]   \n0d4ab1728064e73ec6ee121b1112cc0084d0159bec1aaaa...  [2020-05-20]   \n0d497204a50e17efc9565e654866383416443e390ea4fb0...  [2020-04-15]   \n\n                                                                                                Title  \\\n_id                                                                                                     \n096cf675f70416b2e41772ca7c7e2d9e47b036fd61761f6...  Proposal for a COUNCIL IMPLEMENTING DECISION o...   \n098a92d90aed3b1c860da75a07011e016ffd6b932bedb84...                                               None   \n097445974db4fa8b72c8795530e3c0cfbeaa4399e1cddbf...                                               None   \n09a99dc1b9074fe57ab5aee6544d724ce890983416548ad...                                               None   \n099891adb9d1f50f2ee91ca1a4a38f5acad656f8f9c48f6...  Proposal for a REGULATION OF THE EUROPEAN PARL...   \n...                                                                                               ...   \n7f78f989ecbe6f02cf7b35c58620f734285c0bcf930675f...                                               None   \n0d03875f957d8d5485570408d9ed5cdd3734de99ba1a85d...                                               None   \n0d5371d3179b60985fb0f25ba8954ee1807f720dc7adbdd...                                               None   \n0d4ab1728064e73ec6ee121b1112cc0084d0159bec1aaaa...                                               None   \n0d497204a50e17efc9565e654866383416443e390ea4fb0...  COMMUNICATION FROM THE COMMISSION TO THE EUROP...   \n\n                                                                                              Content  \\\n_id                                                                                                     \n096cf675f70416b2e41772ca7c7e2d9e47b036fd61761f6...  IMMC.COM%282020%29470%20final.ENG.xhtml.1_EN_A...   \n098a92d90aed3b1c860da75a07011e016ffd6b932bedb84...                                                      \n097445974db4fa8b72c8795530e3c0cfbeaa4399e1cddbf...                                                      \n09a99dc1b9074fe57ab5aee6544d724ce890983416548ad...                                                      \n099891adb9d1f50f2ee91ca1a4a38f5acad656f8f9c48f6...  IMMC.COM%282021%29206%20final.ENG.xhtml.1_EN_A...   \n...                                                                                               ...   \n7f78f989ecbe6f02cf7b35c58620f734285c0bcf930675f...                                                      \n0d03875f957d8d5485570408d9ed5cdd3734de99ba1a85d...                                                      \n0d5371d3179b60985fb0f25ba8954ee1807f720dc7adbdd...                                                      \n0d4ab1728064e73ec6ee121b1112cc0084d0159bec1aaaa...                                                      \n0d497204a50e17efc9565e654866383416443e390ea4fb0...  IMMC.COM%282020%29125%20final.ENG.xhtml.1_EN_A...   \n\n                                                   Document_source  \n_id                                                                 \n096cf675f70416b2e41772ca7c7e2d9e47b036fd61761f6...       eu_cellar  \n098a92d90aed3b1c860da75a07011e016ffd6b932bedb84...       eu_cellar  \n097445974db4fa8b72c8795530e3c0cfbeaa4399e1cddbf...       eu_cellar  \n09a99dc1b9074fe57ab5aee6544d724ce890983416548ad...       eu_cellar  \n099891adb9d1f50f2ee91ca1a4a38f5acad656f8f9c48f6...       eu_cellar  \n...                                                            ...  \n7f78f989ecbe6f02cf7b35c58620f734285c0bcf930675f...       eu_cellar  \n0d03875f957d8d5485570408d9ed5cdd3734de99ba1a85d...       eu_cellar  \n0d5371d3179b60985fb0f25ba8954ee1807f720dc7adbdd...       eu_cellar  \n0d4ab1728064e73ec6ee121b1112cc0084d0159bec1aaaa...       eu_cellar  \n0d497204a50e17efc9565e654866383416443e390ea4fb0...       eu_cellar  \n\n[2818 rows x 4 columns]",
      "text/html": "<div>\n<style scoped>\n    .dataframe tbody tr th:only-of-type {\n        vertical-align: middle;\n    }\n\n    .dataframe tbody tr th {\n        vertical-align: top;\n    }\n\n    .dataframe thead th {\n        text-align: right;\n    }\n</style>\n<table border=\"1\" class=\"dataframe\">\n  <thead>\n    <tr style=\"text-align: right;\">\n      <th></th>\n      <th>Date</th>\n      <th>Title</th>\n      <th>Content</th>\n      <th>Document_source</th>\n    </tr>\n    <tr>\n      <th>_id</th>\n      <th></th>\n      <th></th>\n      <th></th>\n      <th></th>\n    </tr>\n  </thead>\n  <tbody>\n    <tr>\n      <th>096cf675f70416b2e41772ca7c7e2d9e47b036fd61761f6e271d51b205d0bc50</th>\n      <td>[2020-08-24]</td>\n      <td>Proposal for a COUNCIL IMPLEMENTING DECISION o...</td>\n      <td>IMMC.COM%282020%29470%20final.ENG.xhtml.1_EN_A...</td>\n      <td>eu_cellar</td>\n    </tr>\n    <tr>\n      <th>098a92d90aed3b1c860da75a07011e016ffd6b932bedb844d57d4aeb722ee691</th>\n      <td>[2020-11-12]</td>\n      <td>None</td>\n      <td></td>\n      <td>eu_cellar</td>\n    </tr>\n    <tr>\n      <th>097445974db4fa8b72c8795530e3c0cfbeaa4399e1cddbfdc5a8c4e463fd6bcf</th>\n      <td>[2020-10-23]</td>\n      <td>None</td>\n      <td></td>\n      <td>eu_cellar</td>\n    </tr>\n    <tr>\n      <th>09a99dc1b9074fe57ab5aee6544d724ce890983416548addf972829a932708da</th>\n      <td>[2020-05-25]</td>\n      <td>None</td>\n      <td></td>\n      <td>eu_cellar</td>\n    </tr>\n    <tr>\n      <th>099891adb9d1f50f2ee91ca1a4a38f5acad656f8f9c48f659f6be310fb0cbfc3</th>\n      <td>[2021-04-21]</td>\n      <td>Proposal for a REGULATION OF THE EUROPEAN PARL...</td>\n      <td>IMMC.COM%282021%29206%20final.ENG.xhtml.1_EN_A...</td>\n      <td>eu_cellar</td>\n    </tr>\n    <tr>\n      <th>...</th>\n      <td>...</td>\n      <td>...</td>\n      <td>...</td>\n      <td>...</td>\n    </tr>\n    <tr>\n      <th>7f78f989ecbe6f02cf7b35c58620f734285c0bcf930675fb33881c74935b9edb</th>\n      <td>[2021-04-14]</td>\n      <td>None</td>\n      <td></td>\n      <td>eu_cellar</td>\n    </tr>\n    <tr>\n      <th>0d03875f957d8d5485570408d9ed5cdd3734de99ba1a85d5ce17c328c133ec1e</th>\n      <td>[2020-10-29]</td>\n      <td>None</td>\n      <td></td>\n      <td>eu_cellar</td>\n    </tr>\n    <tr>\n      <th>0d5371d3179b60985fb0f25ba8954ee1807f720dc7adbdd0e9c581a8d1f120f0</th>\n      <td>[2021-03-11]</td>\n      <td>None</td>\n      <td></td>\n      <td>eu_cellar</td>\n    </tr>\n    <tr>\n      <th>0d4ab1728064e73ec6ee121b1112cc0084d0159bec1aaaa71b71186327da87b4</th>\n      <td>[2020-05-20]</td>\n      <td>None</td>\n      <td></td>\n      <td>eu_cellar</td>\n    </tr>\n    <tr>\n      <th>0d497204a50e17efc9565e654866383416443e390ea4fb0e7f61ac9f6354d108</th>\n      <td>[2020-04-15]</td>\n      <td>COMMUNICATION FROM THE COMMISSION TO THE EUROP...</td>\n      <td>IMMC.COM%282020%29125%20final.ENG.xhtml.1_EN_A...</td>\n      <td>eu_cellar</td>\n    </tr>\n  </tbody>\n</table>\n<p>2818 rows × 4 columns</p>\n</div>"
     },
     "execution_count": 43,
     "metadata": {},
     "output_type": "execute_result"
    }
   ],
   "source": [
    "# See the newly created Cellar dataframe\n",
    "tmp_cellar_df\n"
   ],
   "metadata": {
    "collapsed": false,
    "pycharm": {
     "name": "#%%\n"
    }
   }
  },
  {
   "cell_type": "code",
   "execution_count": 44,
   "outputs": [
    {
     "data": {
      "text/plain": "Index(['month_name', 'date', 'title', 'abstract', 'presscorner_links',\n       'all_links', 'detail_link', 'detail_type', 'detail_date',\n       'detail_location', 'detail_content', 'detail_title', 'detail_pdf_link',\n       'press_contacts', 'topics', 'for_more_information_links'],\n      dtype='object')"
     },
     "execution_count": 44,
     "metadata": {},
     "output_type": "execute_result"
    }
   ],
   "source": [
    "# Print dataframe columns\n",
    "eu_timeline_df.columns"
   ],
   "metadata": {
    "collapsed": false,
    "pycharm": {
     "name": "#%%\n"
    }
   }
  },
  {
   "cell_type": "code",
   "execution_count": 45,
   "outputs": [
    {
     "data": {
      "text/plain": "                                                           date    detail_date\n_id                                                                           \n01dc34ca5f6bfa5316012d6f89a4256b8d2ce6e3a12210b...   28 January            NaN\n04d776c061243576ffc1e1c5a724d41ecca2ed12339b2ff...      22 June   22 June 2021\n04eb55005a803c7353e5d5ed339d7f3a72cc8da6e49f2b8...      16 June   17 June 2020\n073e22ec2b44a5f2f6289f09dc954ecd6ca6cbb4a4b33ff...     15 April  15 April 2020\n0a3650bef3282d09d971dd92dc01570b7ecbdb67a4bdd0f...  18 December            NaN\n...                                                         ...            ...\nfa793c764aaf89c283f747036c9d73fd66f0a7e3692be56...      29 June   29 June 2021\nfb9c4d1634da94c73fd529b44ec40057c28a5c925a8b8e7...     13 March  13 March 2020\nfbad1d421cf80d3e0e4c6b6d3d60a2a6ec8bed4ee19e07c...   28 January  19 March 2020\nfbeff236835d3cfd394f9c9fd5b63eb524c9cdab6e68c93...       6 July    6 July 2020\nffbf6d305594c49b6f5d4d66f56e674f1d953833ba9fdce...      23 June   23 June 2021\n\n[210 rows x 2 columns]",
      "text/html": "<div>\n<style scoped>\n    .dataframe tbody tr th:only-of-type {\n        vertical-align: middle;\n    }\n\n    .dataframe tbody tr th {\n        vertical-align: top;\n    }\n\n    .dataframe thead th {\n        text-align: right;\n    }\n</style>\n<table border=\"1\" class=\"dataframe\">\n  <thead>\n    <tr style=\"text-align: right;\">\n      <th></th>\n      <th>date</th>\n      <th>detail_date</th>\n    </tr>\n    <tr>\n      <th>_id</th>\n      <th></th>\n      <th></th>\n    </tr>\n  </thead>\n  <tbody>\n    <tr>\n      <th>01dc34ca5f6bfa5316012d6f89a4256b8d2ce6e3a12210b0406903dd15bf36ac</th>\n      <td>28 January</td>\n      <td>NaN</td>\n    </tr>\n    <tr>\n      <th>04d776c061243576ffc1e1c5a724d41ecca2ed12339b2ff473c5aa2ff1a071c7</th>\n      <td>22 June</td>\n      <td>22 June 2021</td>\n    </tr>\n    <tr>\n      <th>04eb55005a803c7353e5d5ed339d7f3a72cc8da6e49f2b8b152bf8fb40a1398f</th>\n      <td>16 June</td>\n      <td>17 June 2020</td>\n    </tr>\n    <tr>\n      <th>073e22ec2b44a5f2f6289f09dc954ecd6ca6cbb4a4b33ffd88c3c150572569c0</th>\n      <td>15 April</td>\n      <td>15 April 2020</td>\n    </tr>\n    <tr>\n      <th>0a3650bef3282d09d971dd92dc01570b7ecbdb67a4bdd0ff1c8cf8443a06b937</th>\n      <td>18 December</td>\n      <td>NaN</td>\n    </tr>\n    <tr>\n      <th>...</th>\n      <td>...</td>\n      <td>...</td>\n    </tr>\n    <tr>\n      <th>fa793c764aaf89c283f747036c9d73fd66f0a7e3692be56b8ac985610bef2417</th>\n      <td>29 June</td>\n      <td>29 June 2021</td>\n    </tr>\n    <tr>\n      <th>fb9c4d1634da94c73fd529b44ec40057c28a5c925a8b8e71d73c49e5a815784d</th>\n      <td>13 March</td>\n      <td>13 March 2020</td>\n    </tr>\n    <tr>\n      <th>fbad1d421cf80d3e0e4c6b6d3d60a2a6ec8bed4ee19e07cd15d963fa74352420</th>\n      <td>28 January</td>\n      <td>19 March 2020</td>\n    </tr>\n    <tr>\n      <th>fbeff236835d3cfd394f9c9fd5b63eb524c9cdab6e68c9370758f3e35592973e</th>\n      <td>6 July</td>\n      <td>6 July 2020</td>\n    </tr>\n    <tr>\n      <th>ffbf6d305594c49b6f5d4d66f56e674f1d953833ba9fdceed84d72370c884653</th>\n      <td>23 June</td>\n      <td>23 June 2021</td>\n    </tr>\n  </tbody>\n</table>\n<p>210 rows × 2 columns</p>\n</div>"
     },
     "execution_count": 45,
     "metadata": {},
     "output_type": "execute_result"
    }
   ],
   "source": [
    "#What are the columns that shows dates\n",
    "date_columns = [col for col in eu_timeline_df.columns if \"date\" in col]\n",
    "eu_timeline_df[date_columns]\n"
   ],
   "metadata": {
    "collapsed": false,
    "pycharm": {
     "name": "#%%\n"
    }
   }
  },
  {
   "cell_type": "code",
   "execution_count": 46,
   "outputs": [],
   "source": [
    "# Create new dataframe with the wanted content and columns from EU timeline dataset\n",
    "tmp_eu_timeline_df=pd.DataFrame(eu_timeline_df[[\"date\", \"title\", \"detail_content\"]])\n",
    "tmp_eu_timeline_df[\"doc_source\"]=\"eu_timeline\""
   ],
   "metadata": {
    "collapsed": false,
    "pycharm": {
     "name": "#%%\n"
    }
   }
  },
  {
   "cell_type": "code",
   "execution_count": 47,
   "outputs": [
    {
     "data": {
      "text/plain": "                                                           date  \\\n_id                                                               \n01dc34ca5f6bfa5316012d6f89a4256b8d2ce6e3a12210b...   28 January   \n04d776c061243576ffc1e1c5a724d41ecca2ed12339b2ff...      22 June   \n04eb55005a803c7353e5d5ed339d7f3a72cc8da6e49f2b8...      16 June   \n073e22ec2b44a5f2f6289f09dc954ecd6ca6cbb4a4b33ff...     15 April   \n0a3650bef3282d09d971dd92dc01570b7ecbdb67a4bdd0f...  18 December   \n...                                                         ...   \nfa793c764aaf89c283f747036c9d73fd66f0a7e3692be56...      29 June   \nfb9c4d1634da94c73fd529b44ec40057c28a5c925a8b8e7...     13 March   \nfbad1d421cf80d3e0e4c6b6d3d60a2a6ec8bed4ee19e07c...   28 January   \nfbeff236835d3cfd394f9c9fd5b63eb524c9cdab6e68c93...       6 July   \nffbf6d305594c49b6f5d4d66f56e674f1d953833ba9fdce...      23 June   \n\n                                                                                                title  \\\n_id                                                                                                     \n01dc34ca5f6bfa5316012d6f89a4256b8d2ce6e3a12210b...  EU countries adopt guidelines on proof of vacc...   \n04d776c061243576ffc1e1c5a724d41ecca2ed12339b2ff...  Commission endorses Latvia's €1.8 billion reco...   \n04eb55005a803c7353e5d5ed339d7f3a72cc8da6e49f2b8...            Commission unveils EU vaccines strategy   \n073e22ec2b44a5f2f6289f09dc954ecd6ca6cbb4a4b33ff...  European roadmap shows path towards common lif...   \n0a3650bef3282d09d971dd92dc01570b7ecbdb67a4bdd0f...  Commission puts forward rules on rapid antigen...   \n...                                                                                               ...   \nfa793c764aaf89c283f747036c9d73fd66f0a7e3692be56...  Commission identifies five promising candidate...   \nfb9c4d1634da94c73fd529b44ec40057c28a5c925a8b8e7...  Setting out coordinated response to counter th...   \nfbad1d421cf80d3e0e4c6b6d3d60a2a6ec8bed4ee19e07c...  Prolonging State aid Temporary Framework to fu...   \nfbeff236835d3cfd394f9c9fd5b63eb524c9cdab6e68c93...  Commission and EIB provide CureVac with a €75 ...   \nffbf6d305594c49b6f5d4d66f56e674f1d953833ba9fdce...  Commission endorses France's €39.4 billion rec...   \n\n                                                                                       detail_content  \\\n_id                                                                                                     \n01dc34ca5f6bfa5316012d6f89a4256b8d2ce6e3a12210b...                                                NaN   \n04d776c061243576ffc1e1c5a724d41ecca2ed12339b2ff...  \\n\\n\\n\\n\\n\\n\\n\\nThe European Commission has to...   \n04eb55005a803c7353e5d5ed339d7f3a72cc8da6e49f2b8...  \\n\\n\\n\\n\\n\\n\\n\\nToday, to help protect people ...   \n073e22ec2b44a5f2f6289f09dc954ecd6ca6cbb4a4b33ff...  \\n\\n\\n\\n\\n\\n\\n\\nToday, the Commission, in coop...   \n0a3650bef3282d09d971dd92dc01570b7ecbdb67a4bdd0f...                                                NaN   \n...                                                                                               ...   \nfa793c764aaf89c283f747036c9d73fd66f0a7e3692be56...  \\n\\n\\n\\n\\n\\n\\n\\nThe EU Strategy on COVID-19 Th...   \nfb9c4d1634da94c73fd529b44ec40057c28a5c925a8b8e7...  \\n\\n\\n\\n\\n\\n\\n\\nCOVID-19 is a severe public he...   \nfbad1d421cf80d3e0e4c6b6d3d60a2a6ec8bed4ee19e07c...  \\n\\n\\n\\n\\n\\n\\n\\nThe European Commission has ad...   \nfbeff236835d3cfd394f9c9fd5b63eb524c9cdab6e68c93...                                \\n\\n\\n\\n\\n\\n\\n\\n \\n   \nffbf6d305594c49b6f5d4d66f56e674f1d953833ba9fdce...  \\n\\n\\n\\n\\n\\n\\n\\nThe European Commission has to...   \n\n                                                     doc_source  \n_id                                                              \n01dc34ca5f6bfa5316012d6f89a4256b8d2ce6e3a12210b...  eu_timeline  \n04d776c061243576ffc1e1c5a724d41ecca2ed12339b2ff...  eu_timeline  \n04eb55005a803c7353e5d5ed339d7f3a72cc8da6e49f2b8...  eu_timeline  \n073e22ec2b44a5f2f6289f09dc954ecd6ca6cbb4a4b33ff...  eu_timeline  \n0a3650bef3282d09d971dd92dc01570b7ecbdb67a4bdd0f...  eu_timeline  \n...                                                         ...  \nfa793c764aaf89c283f747036c9d73fd66f0a7e3692be56...  eu_timeline  \nfb9c4d1634da94c73fd529b44ec40057c28a5c925a8b8e7...  eu_timeline  \nfbad1d421cf80d3e0e4c6b6d3d60a2a6ec8bed4ee19e07c...  eu_timeline  \nfbeff236835d3cfd394f9c9fd5b63eb524c9cdab6e68c93...  eu_timeline  \nffbf6d305594c49b6f5d4d66f56e674f1d953833ba9fdce...  eu_timeline  \n\n[210 rows x 4 columns]",
      "text/html": "<div>\n<style scoped>\n    .dataframe tbody tr th:only-of-type {\n        vertical-align: middle;\n    }\n\n    .dataframe tbody tr th {\n        vertical-align: top;\n    }\n\n    .dataframe thead th {\n        text-align: right;\n    }\n</style>\n<table border=\"1\" class=\"dataframe\">\n  <thead>\n    <tr style=\"text-align: right;\">\n      <th></th>\n      <th>date</th>\n      <th>title</th>\n      <th>detail_content</th>\n      <th>doc_source</th>\n    </tr>\n    <tr>\n      <th>_id</th>\n      <th></th>\n      <th></th>\n      <th></th>\n      <th></th>\n    </tr>\n  </thead>\n  <tbody>\n    <tr>\n      <th>01dc34ca5f6bfa5316012d6f89a4256b8d2ce6e3a12210b0406903dd15bf36ac</th>\n      <td>28 January</td>\n      <td>EU countries adopt guidelines on proof of vacc...</td>\n      <td>NaN</td>\n      <td>eu_timeline</td>\n    </tr>\n    <tr>\n      <th>04d776c061243576ffc1e1c5a724d41ecca2ed12339b2ff473c5aa2ff1a071c7</th>\n      <td>22 June</td>\n      <td>Commission endorses Latvia's €1.8 billion reco...</td>\n      <td>\\n\\n\\n\\n\\n\\n\\n\\nThe European Commission has to...</td>\n      <td>eu_timeline</td>\n    </tr>\n    <tr>\n      <th>04eb55005a803c7353e5d5ed339d7f3a72cc8da6e49f2b8b152bf8fb40a1398f</th>\n      <td>16 June</td>\n      <td>Commission unveils EU vaccines strategy</td>\n      <td>\\n\\n\\n\\n\\n\\n\\n\\nToday, to help protect people ...</td>\n      <td>eu_timeline</td>\n    </tr>\n    <tr>\n      <th>073e22ec2b44a5f2f6289f09dc954ecd6ca6cbb4a4b33ffd88c3c150572569c0</th>\n      <td>15 April</td>\n      <td>European roadmap shows path towards common lif...</td>\n      <td>\\n\\n\\n\\n\\n\\n\\n\\nToday, the Commission, in coop...</td>\n      <td>eu_timeline</td>\n    </tr>\n    <tr>\n      <th>0a3650bef3282d09d971dd92dc01570b7ecbdb67a4bdd0ff1c8cf8443a06b937</th>\n      <td>18 December</td>\n      <td>Commission puts forward rules on rapid antigen...</td>\n      <td>NaN</td>\n      <td>eu_timeline</td>\n    </tr>\n    <tr>\n      <th>...</th>\n      <td>...</td>\n      <td>...</td>\n      <td>...</td>\n      <td>...</td>\n    </tr>\n    <tr>\n      <th>fa793c764aaf89c283f747036c9d73fd66f0a7e3692be56b8ac985610bef2417</th>\n      <td>29 June</td>\n      <td>Commission identifies five promising candidate...</td>\n      <td>\\n\\n\\n\\n\\n\\n\\n\\nThe EU Strategy on COVID-19 Th...</td>\n      <td>eu_timeline</td>\n    </tr>\n    <tr>\n      <th>fb9c4d1634da94c73fd529b44ec40057c28a5c925a8b8e71d73c49e5a815784d</th>\n      <td>13 March</td>\n      <td>Setting out coordinated response to counter th...</td>\n      <td>\\n\\n\\n\\n\\n\\n\\n\\nCOVID-19 is a severe public he...</td>\n      <td>eu_timeline</td>\n    </tr>\n    <tr>\n      <th>fbad1d421cf80d3e0e4c6b6d3d60a2a6ec8bed4ee19e07cd15d963fa74352420</th>\n      <td>28 January</td>\n      <td>Prolonging State aid Temporary Framework to fu...</td>\n      <td>\\n\\n\\n\\n\\n\\n\\n\\nThe European Commission has ad...</td>\n      <td>eu_timeline</td>\n    </tr>\n    <tr>\n      <th>fbeff236835d3cfd394f9c9fd5b63eb524c9cdab6e68c9370758f3e35592973e</th>\n      <td>6 July</td>\n      <td>Commission and EIB provide CureVac with a €75 ...</td>\n      <td>\\n\\n\\n\\n\\n\\n\\n\\n \\n</td>\n      <td>eu_timeline</td>\n    </tr>\n    <tr>\n      <th>ffbf6d305594c49b6f5d4d66f56e674f1d953833ba9fdceed84d72370c884653</th>\n      <td>23 June</td>\n      <td>Commission endorses France's €39.4 billion rec...</td>\n      <td>\\n\\n\\n\\n\\n\\n\\n\\nThe European Commission has to...</td>\n      <td>eu_timeline</td>\n    </tr>\n  </tbody>\n</table>\n<p>210 rows × 4 columns</p>\n</div>"
     },
     "execution_count": 47,
     "metadata": {},
     "output_type": "execute_result"
    }
   ],
   "source": [
    "# See the newly created EU timeline  dataframe\n",
    "tmp_eu_timeline_df"
   ],
   "metadata": {
    "collapsed": false,
    "pycharm": {
     "name": "#%%\n"
    }
   }
  },
  {
   "cell_type": "code",
   "execution_count": 48,
   "outputs": [
    {
     "data": {
      "text/plain": "Index(['keyword', 'page_type', 'page_link', 'department_data',\n       'published_date', 'updated_date', 'title', 'content', 'content_links',\n       'campaigns_links', 'part_of_links', 'documents'],\n      dtype='object')"
     },
     "execution_count": 48,
     "metadata": {},
     "output_type": "execute_result"
    }
   ],
   "source": [
    "# Print dataframe columns\n",
    "ir_timeline_df.columns\n"
   ],
   "metadata": {
    "collapsed": false,
    "pycharm": {
     "name": "#%%\n"
    }
   }
  },
  {
   "cell_type": "code",
   "execution_count": 49,
   "outputs": [
    {
     "data": {
      "text/plain": "                                                      published_date  \\\n_id                                                                    \n003ea2a9313db86a3e0b9cd272d4dd861ed92cfab3a5d12...  17 February 2021   \n004a77d6db5f3be729b4b3d8b7eb0ccb564defb037a0edc...  31 December 2020   \n005af836e8f7b1d03afe563d254632972036a1fbd6092b7...     19 April 2020   \n007344aa53333e390623e94ff899bd949ecc9f75a73937f...   21 October 2020   \n00ab798bb7ed96ce3b93b9a3488522a58853bcaaf1bfa1b...  18 December 2020   \n...                                                              ...   \nff02d332755586b0a04038d07386167ad32b504eeb60058...   30 October 2020   \nff474a2f55ba0a59240e4e986870ba12be9f2238bec4f4f...   5 February 2021   \nff4ea2ef933287c4125d898245e878ae9fcb1b356b3c60d...   22 January 2021   \nff82338ae7c8129669562babc1c0d7a893a9c59f6d2bd00...     20 March 2020   \nffef06958ad76786347e3aa545351f708105f6db826708b...       24 May 2021   \n\n                                                        updated_date  \n_id                                                                   \n003ea2a9313db86a3e0b9cd272d4dd861ed92cfab3a5d12...  17 February 2021  \n004a77d6db5f3be729b4b3d8b7eb0ccb564defb037a0edc...     22 April 2021  \n005af836e8f7b1d03afe563d254632972036a1fbd6092b7...     19 April 2020  \n007344aa53333e390623e94ff899bd949ecc9f75a73937f...   21 October 2020  \n00ab798bb7ed96ce3b93b9a3488522a58853bcaaf1bfa1b...  18 December 2020  \n...                                                              ...  \nff02d332755586b0a04038d07386167ad32b504eeb60058...   30 October 2020  \nff474a2f55ba0a59240e4e986870ba12be9f2238bec4f4f...   8 February 2021  \nff4ea2ef933287c4125d898245e878ae9fcb1b356b3c60d...   23 January 2021  \nff82338ae7c8129669562babc1c0d7a893a9c59f6d2bd00...     20 March 2020  \nffef06958ad76786347e3aa545351f708105f6db826708b...       1 June 2021  \n\n[1859 rows x 2 columns]",
      "text/html": "<div>\n<style scoped>\n    .dataframe tbody tr th:only-of-type {\n        vertical-align: middle;\n    }\n\n    .dataframe tbody tr th {\n        vertical-align: top;\n    }\n\n    .dataframe thead th {\n        text-align: right;\n    }\n</style>\n<table border=\"1\" class=\"dataframe\">\n  <thead>\n    <tr style=\"text-align: right;\">\n      <th></th>\n      <th>published_date</th>\n      <th>updated_date</th>\n    </tr>\n    <tr>\n      <th>_id</th>\n      <th></th>\n      <th></th>\n    </tr>\n  </thead>\n  <tbody>\n    <tr>\n      <th>003ea2a9313db86a3e0b9cd272d4dd861ed92cfab3a5d120725211cc113b1f93</th>\n      <td>17 February 2021</td>\n      <td>17 February 2021</td>\n    </tr>\n    <tr>\n      <th>004a77d6db5f3be729b4b3d8b7eb0ccb564defb037a0edcba96eb5c164d87a37</th>\n      <td>31 December 2020</td>\n      <td>22 April 2021</td>\n    </tr>\n    <tr>\n      <th>005af836e8f7b1d03afe563d254632972036a1fbd6092b7965fe8b09a73e516b</th>\n      <td>19 April 2020</td>\n      <td>19 April 2020</td>\n    </tr>\n    <tr>\n      <th>007344aa53333e390623e94ff899bd949ecc9f75a73937fdbcc9eebe6ffa6879</th>\n      <td>21 October 2020</td>\n      <td>21 October 2020</td>\n    </tr>\n    <tr>\n      <th>00ab798bb7ed96ce3b93b9a3488522a58853bcaaf1bfa1bcf05fd8ffd8af0ce1</th>\n      <td>18 December 2020</td>\n      <td>18 December 2020</td>\n    </tr>\n    <tr>\n      <th>...</th>\n      <td>...</td>\n      <td>...</td>\n    </tr>\n    <tr>\n      <th>ff02d332755586b0a04038d07386167ad32b504eeb60058e5ab9ac927ba750b3</th>\n      <td>30 October 2020</td>\n      <td>30 October 2020</td>\n    </tr>\n    <tr>\n      <th>ff474a2f55ba0a59240e4e986870ba12be9f2238bec4f4f8ca2c9c712172ed43</th>\n      <td>5 February 2021</td>\n      <td>8 February 2021</td>\n    </tr>\n    <tr>\n      <th>ff4ea2ef933287c4125d898245e878ae9fcb1b356b3c60de288dd97020bdd3a5</th>\n      <td>22 January 2021</td>\n      <td>23 January 2021</td>\n    </tr>\n    <tr>\n      <th>ff82338ae7c8129669562babc1c0d7a893a9c59f6d2bd00cefe853539721367e</th>\n      <td>20 March 2020</td>\n      <td>20 March 2020</td>\n    </tr>\n    <tr>\n      <th>ffef06958ad76786347e3aa545351f708105f6db826708b4523cd16ea150e702</th>\n      <td>24 May 2021</td>\n      <td>1 June 2021</td>\n    </tr>\n  </tbody>\n</table>\n<p>1859 rows × 2 columns</p>\n</div>"
     },
     "execution_count": 49,
     "metadata": {},
     "output_type": "execute_result"
    }
   ],
   "source": [
    "#What are the columns that shows dates\n",
    "date_columns = [col for col in ir_timeline_df.columns if \"date\" in col]\n",
    "ir_timeline_df[date_columns]\n",
    "\n"
   ],
   "metadata": {
    "collapsed": false,
    "pycharm": {
     "name": "#%%\n"
    }
   }
  },
  {
   "cell_type": "code",
   "execution_count": 50,
   "outputs": [],
   "source": [
    "# Create new dataframe with the wanted content and columns from Ireland timeline dataset\n",
    "tmp_ir_timeline_df=pd.DataFrame(ir_timeline_df[[\"published_date\", \"title\", \"content\"]])\n",
    "tmp_ir_timeline_df[\"doc_source\"]=\"ireland_timeline\""
   ],
   "metadata": {
    "collapsed": false,
    "pycharm": {
     "name": "#%%\n"
    }
   }
  },
  {
   "cell_type": "code",
   "execution_count": 51,
   "outputs": [
    {
     "data": {
      "text/plain": "                                                      published_date  \\\n_id                                                                    \n003ea2a9313db86a3e0b9cd272d4dd861ed92cfab3a5d12...  17 February 2021   \n004a77d6db5f3be729b4b3d8b7eb0ccb564defb037a0edc...  31 December 2020   \n005af836e8f7b1d03afe563d254632972036a1fbd6092b7...     19 April 2020   \n007344aa53333e390623e94ff899bd949ecc9f75a73937f...   21 October 2020   \n00ab798bb7ed96ce3b93b9a3488522a58853bcaaf1bfa1b...  18 December 2020   \n...                                                              ...   \nff02d332755586b0a04038d07386167ad32b504eeb60058...   30 October 2020   \nff474a2f55ba0a59240e4e986870ba12be9f2238bec4f4f...   5 February 2021   \nff4ea2ef933287c4125d898245e878ae9fcb1b356b3c60d...   22 January 2021   \nff82338ae7c8129669562babc1c0d7a893a9c59f6d2bd00...     20 March 2020   \nffef06958ad76786347e3aa545351f708105f6db826708b...       24 May 2021   \n\n                                                                                                title  \\\n_id                                                                                                     \n003ea2a9313db86a3e0b9cd272d4dd861ed92cfab3a5d12...  Briefing on the government's response to COVID...   \n004a77d6db5f3be729b4b3d8b7eb0ccb564defb037a0edc...         Air passenger rights in the European Union   \n005af836e8f7b1d03afe563d254632972036a1fbd6092b7...  Statement from the National Public Health Emer...   \n007344aa53333e390623e94ff899bd949ecc9f75a73937f...  Minister Hackett launches new training videos ...   \n00ab798bb7ed96ce3b93b9a3488522a58853bcaaf1bfa1b...  Decade of Centenaries - Minister Martin double...   \n...                                                                                               ...   \nff02d332755586b0a04038d07386167ad32b504eeb60058...  Minister for Health welcomes the EU Commission...   \nff474a2f55ba0a59240e4e986870ba12be9f2238bec4f4f...  Statement from the National Public Health Emer...   \nff4ea2ef933287c4125d898245e878ae9fcb1b356b3c60d...  Statement from the National Public Health Emer...   \nff82338ae7c8129669562babc1c0d7a893a9c59f6d2bd00...  Press Release on Civil Defence in the context ...   \nffef06958ad76786347e3aa545351f708105f6db826708b...  Minister O’Gorman launches ‘LGBTI+ Youth in Ir...   \n\n                                                                                              content  \\\n_id                                                                                                     \n003ea2a9313db86a3e0b9cd272d4dd861ed92cfab3a5d12...  \\n\\n\\n\\n\\n\\n\\n\\n\\n                \\n          ...   \n004a77d6db5f3be729b4b3d8b7eb0ccb564defb037a0edc...  \\n\\n\\n\\n\\n\\n\\n\\n\\n                \\n          ...   \n005af836e8f7b1d03afe563d254632972036a1fbd6092b7...  \\n\\n\\n\\n\\n\\n\\n\\n\\n                \\n          ...   \n007344aa53333e390623e94ff899bd949ecc9f75a73937f...  \\n\\n\\n\\n\\n\\n\\n\\n\\n                \\n          ...   \n00ab798bb7ed96ce3b93b9a3488522a58853bcaaf1bfa1b...  \\n\\n\\n\\n\\n\\n\\n\\n\\n                \\n          ...   \n...                                                                                               ...   \nff02d332755586b0a04038d07386167ad32b504eeb60058...  \\n\\n\\n\\n\\n\\n\\n\\n\\n                \\n          ...   \nff474a2f55ba0a59240e4e986870ba12be9f2238bec4f4f...  \\n\\n\\n\\n\\n\\n\\n\\n\\n                \\n          ...   \nff4ea2ef933287c4125d898245e878ae9fcb1b356b3c60d...  \\n\\n\\n\\n\\n\\n\\n\\n\\n                \\n          ...   \nff82338ae7c8129669562babc1c0d7a893a9c59f6d2bd00...  \\n\\n\\n\\n\\n\\n\\n\\n\\n                \\n          ...   \nffef06958ad76786347e3aa545351f708105f6db826708b...  \\n\\n\\n\\n\\n\\n\\n\\n\\n                \\n          ...   \n\n                                                          doc_source  \n_id                                                                   \n003ea2a9313db86a3e0b9cd272d4dd861ed92cfab3a5d12...  ireland_timeline  \n004a77d6db5f3be729b4b3d8b7eb0ccb564defb037a0edc...  ireland_timeline  \n005af836e8f7b1d03afe563d254632972036a1fbd6092b7...  ireland_timeline  \n007344aa53333e390623e94ff899bd949ecc9f75a73937f...  ireland_timeline  \n00ab798bb7ed96ce3b93b9a3488522a58853bcaaf1bfa1b...  ireland_timeline  \n...                                                              ...  \nff02d332755586b0a04038d07386167ad32b504eeb60058...  ireland_timeline  \nff474a2f55ba0a59240e4e986870ba12be9f2238bec4f4f...  ireland_timeline  \nff4ea2ef933287c4125d898245e878ae9fcb1b356b3c60d...  ireland_timeline  \nff82338ae7c8129669562babc1c0d7a893a9c59f6d2bd00...  ireland_timeline  \nffef06958ad76786347e3aa545351f708105f6db826708b...  ireland_timeline  \n\n[1859 rows x 4 columns]",
      "text/html": "<div>\n<style scoped>\n    .dataframe tbody tr th:only-of-type {\n        vertical-align: middle;\n    }\n\n    .dataframe tbody tr th {\n        vertical-align: top;\n    }\n\n    .dataframe thead th {\n        text-align: right;\n    }\n</style>\n<table border=\"1\" class=\"dataframe\">\n  <thead>\n    <tr style=\"text-align: right;\">\n      <th></th>\n      <th>published_date</th>\n      <th>title</th>\n      <th>content</th>\n      <th>doc_source</th>\n    </tr>\n    <tr>\n      <th>_id</th>\n      <th></th>\n      <th></th>\n      <th></th>\n      <th></th>\n    </tr>\n  </thead>\n  <tbody>\n    <tr>\n      <th>003ea2a9313db86a3e0b9cd272d4dd861ed92cfab3a5d120725211cc113b1f93</th>\n      <td>17 February 2021</td>\n      <td>Briefing on the government's response to COVID...</td>\n      <td>\\n\\n\\n\\n\\n\\n\\n\\n\\n                \\n          ...</td>\n      <td>ireland_timeline</td>\n    </tr>\n    <tr>\n      <th>004a77d6db5f3be729b4b3d8b7eb0ccb564defb037a0edcba96eb5c164d87a37</th>\n      <td>31 December 2020</td>\n      <td>Air passenger rights in the European Union</td>\n      <td>\\n\\n\\n\\n\\n\\n\\n\\n\\n                \\n          ...</td>\n      <td>ireland_timeline</td>\n    </tr>\n    <tr>\n      <th>005af836e8f7b1d03afe563d254632972036a1fbd6092b7965fe8b09a73e516b</th>\n      <td>19 April 2020</td>\n      <td>Statement from the National Public Health Emer...</td>\n      <td>\\n\\n\\n\\n\\n\\n\\n\\n\\n                \\n          ...</td>\n      <td>ireland_timeline</td>\n    </tr>\n    <tr>\n      <th>007344aa53333e390623e94ff899bd949ecc9f75a73937fdbcc9eebe6ffa6879</th>\n      <td>21 October 2020</td>\n      <td>Minister Hackett launches new training videos ...</td>\n      <td>\\n\\n\\n\\n\\n\\n\\n\\n\\n                \\n          ...</td>\n      <td>ireland_timeline</td>\n    </tr>\n    <tr>\n      <th>00ab798bb7ed96ce3b93b9a3488522a58853bcaaf1bfa1bcf05fd8ffd8af0ce1</th>\n      <td>18 December 2020</td>\n      <td>Decade of Centenaries - Minister Martin double...</td>\n      <td>\\n\\n\\n\\n\\n\\n\\n\\n\\n                \\n          ...</td>\n      <td>ireland_timeline</td>\n    </tr>\n    <tr>\n      <th>...</th>\n      <td>...</td>\n      <td>...</td>\n      <td>...</td>\n      <td>...</td>\n    </tr>\n    <tr>\n      <th>ff02d332755586b0a04038d07386167ad32b504eeb60058e5ab9ac927ba750b3</th>\n      <td>30 October 2020</td>\n      <td>Minister for Health welcomes the EU Commission...</td>\n      <td>\\n\\n\\n\\n\\n\\n\\n\\n\\n                \\n          ...</td>\n      <td>ireland_timeline</td>\n    </tr>\n    <tr>\n      <th>ff474a2f55ba0a59240e4e986870ba12be9f2238bec4f4f8ca2c9c712172ed43</th>\n      <td>5 February 2021</td>\n      <td>Statement from the National Public Health Emer...</td>\n      <td>\\n\\n\\n\\n\\n\\n\\n\\n\\n                \\n          ...</td>\n      <td>ireland_timeline</td>\n    </tr>\n    <tr>\n      <th>ff4ea2ef933287c4125d898245e878ae9fcb1b356b3c60de288dd97020bdd3a5</th>\n      <td>22 January 2021</td>\n      <td>Statement from the National Public Health Emer...</td>\n      <td>\\n\\n\\n\\n\\n\\n\\n\\n\\n                \\n          ...</td>\n      <td>ireland_timeline</td>\n    </tr>\n    <tr>\n      <th>ff82338ae7c8129669562babc1c0d7a893a9c59f6d2bd00cefe853539721367e</th>\n      <td>20 March 2020</td>\n      <td>Press Release on Civil Defence in the context ...</td>\n      <td>\\n\\n\\n\\n\\n\\n\\n\\n\\n                \\n          ...</td>\n      <td>ireland_timeline</td>\n    </tr>\n    <tr>\n      <th>ffef06958ad76786347e3aa545351f708105f6db826708b4523cd16ea150e702</th>\n      <td>24 May 2021</td>\n      <td>Minister O’Gorman launches ‘LGBTI+ Youth in Ir...</td>\n      <td>\\n\\n\\n\\n\\n\\n\\n\\n\\n                \\n          ...</td>\n      <td>ireland_timeline</td>\n    </tr>\n  </tbody>\n</table>\n<p>1859 rows × 4 columns</p>\n</div>"
     },
     "execution_count": 51,
     "metadata": {},
     "output_type": "execute_result"
    }
   ],
   "source": [
    "# See the newly created Ireland timeline  dataframe\n",
    "tmp_ir_timeline_df\n"
   ],
   "metadata": {
    "collapsed": false,
    "pycharm": {
     "name": "#%%\n"
    }
   }
  },
  {
   "cell_type": "code",
   "execution_count": 52,
   "outputs": [],
   "source": [
    "#Renaming columns in dataframes and dropping rows without content, title and date\n",
    "data_frames = [tmp_cellar_df, tmp_eu_timeline_df,tmp_ir_timeline_df,tmp_pwdb_df]\n",
    "for data_frame in data_frames:\n",
    "    data_frame.columns = [\"Date\", \"Title\", \"Content\", \"Document_source\"]\n",
    "    data_frame.dropna(subset=['Content'], inplace=True)\n",
    "    data_frame.dropna(subset=['Title'], inplace=True)\n",
    "    data_frame.dropna(subset=['Date'], inplace=True)\n"
   ],
   "metadata": {
    "collapsed": false,
    "pycharm": {
     "name": "#%%\n"
    }
   }
  },
  {
   "cell_type": "code",
   "execution_count": 53,
   "outputs": [
    {
     "data": {
      "text/plain": "                                                               Date  \\\n_id                                                                   \n096cf675f70416b2e41772ca7c7e2d9e47b036fd61761f6...     [2020-08-24]   \n099891adb9d1f50f2ee91ca1a4a38f5acad656f8f9c48f6...     [2021-04-21]   \n0a0ff5ceccb6615dee0f62334cf70dada64b6d814113b68...     [2020-05-19]   \n0ab9359aea9612ac321475299592db445c3a16d64bef690...     [2020-10-26]   \n0ae9ef04e65e1ea7d6effcc6f6a759eb7fa58e0e51bb484...     [2020-10-13]   \n...                                                             ...   \nff02d332755586b0a04038d07386167ad32b504eeb60058...  30 October 2020   \nff474a2f55ba0a59240e4e986870ba12be9f2238bec4f4f...  5 February 2021   \nff4ea2ef933287c4125d898245e878ae9fcb1b356b3c60d...  22 January 2021   \nff82338ae7c8129669562babc1c0d7a893a9c59f6d2bd00...    20 March 2020   \nffef06958ad76786347e3aa545351f708105f6db826708b...      24 May 2021   \n\n                                                                                                Title  \\\n_id                                                                                                     \n096cf675f70416b2e41772ca7c7e2d9e47b036fd61761f6...  Proposal for a COUNCIL IMPLEMENTING DECISION o...   \n099891adb9d1f50f2ee91ca1a4a38f5acad656f8f9c48f6...  Proposal for a REGULATION OF THE EUROPEAN PARL...   \n0a0ff5ceccb6615dee0f62334cf70dada64b6d814113b68...  Proposal for a COUNCIL DECISION amending Counc...   \n0ab9359aea9612ac321475299592db445c3a16d64bef690...  COMMUNICATION FROM THE COMMISSION TO THE EUROP...   \n0ae9ef04e65e1ea7d6effcc6f6a759eb7fa58e0e51bb484...  Proposal for a DECISION OF THE EUROPEAN PARLIA...   \n...                                                                                               ...   \nff02d332755586b0a04038d07386167ad32b504eeb60058...  Minister for Health welcomes the EU Commission...   \nff474a2f55ba0a59240e4e986870ba12be9f2238bec4f4f...  Statement from the National Public Health Emer...   \nff4ea2ef933287c4125d898245e878ae9fcb1b356b3c60d...  Statement from the National Public Health Emer...   \nff82338ae7c8129669562babc1c0d7a893a9c59f6d2bd00...  Press Release on Civil Defence in the context ...   \nffef06958ad76786347e3aa545351f708105f6db826708b...  Minister O’Gorman launches ‘LGBTI+ Youth in Ir...   \n\n                                                                                              Content  \\\n_id                                                                                                     \n096cf675f70416b2e41772ca7c7e2d9e47b036fd61761f6...  IMMC.COM%282020%29470%20final.ENG.xhtml.1_EN_A...   \n099891adb9d1f50f2ee91ca1a4a38f5acad656f8f9c48f6...  IMMC.COM%282021%29206%20final.ENG.xhtml.1_EN_A...   \n0a0ff5ceccb6615dee0f62334cf70dada64b6d814113b68...  IMMC.COM%282020%29219%20final.ENG.xhtml.2_EN_A...   \n0ab9359aea9612ac321475299592db445c3a16d64bef690...  IMMC.COM%282020%29669%20final.ENG.xhtml.1_EN_A...   \n0ae9ef04e65e1ea7d6effcc6f6a759eb7fa58e0e51bb484...  IMMC.COM%282020%29960%20final%2F2.ENG.xhtml.1_...   \n...                                                                                               ...   \nff02d332755586b0a04038d07386167ad32b504eeb60058...  \\n\\n\\n\\n\\n\\n\\n\\n\\n                \\n          ...   \nff474a2f55ba0a59240e4e986870ba12be9f2238bec4f4f...  \\n\\n\\n\\n\\n\\n\\n\\n\\n                \\n          ...   \nff4ea2ef933287c4125d898245e878ae9fcb1b356b3c60d...  \\n\\n\\n\\n\\n\\n\\n\\n\\n                \\n          ...   \nff82338ae7c8129669562babc1c0d7a893a9c59f6d2bd00...  \\n\\n\\n\\n\\n\\n\\n\\n\\n                \\n          ...   \nffef06958ad76786347e3aa545351f708105f6db826708b...  \\n\\n\\n\\n\\n\\n\\n\\n\\n                \\n          ...   \n\n                                                     Document_source  \n_id                                                                   \n096cf675f70416b2e41772ca7c7e2d9e47b036fd61761f6...         eu_cellar  \n099891adb9d1f50f2ee91ca1a4a38f5acad656f8f9c48f6...         eu_cellar  \n0a0ff5ceccb6615dee0f62334cf70dada64b6d814113b68...         eu_cellar  \n0ab9359aea9612ac321475299592db445c3a16d64bef690...         eu_cellar  \n0ae9ef04e65e1ea7d6effcc6f6a759eb7fa58e0e51bb484...         eu_cellar  \n...                                                              ...  \nff02d332755586b0a04038d07386167ad32b504eeb60058...  ireland_timeline  \nff474a2f55ba0a59240e4e986870ba12be9f2238bec4f4f...  ireland_timeline  \nff4ea2ef933287c4125d898245e878ae9fcb1b356b3c60d...  ireland_timeline  \nff82338ae7c8129669562babc1c0d7a893a9c59f6d2bd00...  ireland_timeline  \nffef06958ad76786347e3aa545351f708105f6db826708b...  ireland_timeline  \n\n[2679 rows x 4 columns]",
      "text/html": "<div>\n<style scoped>\n    .dataframe tbody tr th:only-of-type {\n        vertical-align: middle;\n    }\n\n    .dataframe tbody tr th {\n        vertical-align: top;\n    }\n\n    .dataframe thead th {\n        text-align: right;\n    }\n</style>\n<table border=\"1\" class=\"dataframe\">\n  <thead>\n    <tr style=\"text-align: right;\">\n      <th></th>\n      <th>Date</th>\n      <th>Title</th>\n      <th>Content</th>\n      <th>Document_source</th>\n    </tr>\n    <tr>\n      <th>_id</th>\n      <th></th>\n      <th></th>\n      <th></th>\n      <th></th>\n    </tr>\n  </thead>\n  <tbody>\n    <tr>\n      <th>096cf675f70416b2e41772ca7c7e2d9e47b036fd61761f6e271d51b205d0bc50</th>\n      <td>[2020-08-24]</td>\n      <td>Proposal for a COUNCIL IMPLEMENTING DECISION o...</td>\n      <td>IMMC.COM%282020%29470%20final.ENG.xhtml.1_EN_A...</td>\n      <td>eu_cellar</td>\n    </tr>\n    <tr>\n      <th>099891adb9d1f50f2ee91ca1a4a38f5acad656f8f9c48f659f6be310fb0cbfc3</th>\n      <td>[2021-04-21]</td>\n      <td>Proposal for a REGULATION OF THE EUROPEAN PARL...</td>\n      <td>IMMC.COM%282021%29206%20final.ENG.xhtml.1_EN_A...</td>\n      <td>eu_cellar</td>\n    </tr>\n    <tr>\n      <th>0a0ff5ceccb6615dee0f62334cf70dada64b6d814113b68d43edb4b077271b7c</th>\n      <td>[2020-05-19]</td>\n      <td>Proposal for a COUNCIL DECISION amending Counc...</td>\n      <td>IMMC.COM%282020%29219%20final.ENG.xhtml.2_EN_A...</td>\n      <td>eu_cellar</td>\n    </tr>\n    <tr>\n      <th>0ab9359aea9612ac321475299592db445c3a16d64bef6900435fe14f0f3866ca</th>\n      <td>[2020-10-26]</td>\n      <td>COMMUNICATION FROM THE COMMISSION TO THE EUROP...</td>\n      <td>IMMC.COM%282020%29669%20final.ENG.xhtml.1_EN_A...</td>\n      <td>eu_cellar</td>\n    </tr>\n    <tr>\n      <th>0ae9ef04e65e1ea7d6effcc6f6a759eb7fa58e0e51bb4844b42aaf68b15d6c0d</th>\n      <td>[2020-10-13]</td>\n      <td>Proposal for a DECISION OF THE EUROPEAN PARLIA...</td>\n      <td>IMMC.COM%282020%29960%20final%2F2.ENG.xhtml.1_...</td>\n      <td>eu_cellar</td>\n    </tr>\n    <tr>\n      <th>...</th>\n      <td>...</td>\n      <td>...</td>\n      <td>...</td>\n      <td>...</td>\n    </tr>\n    <tr>\n      <th>ff02d332755586b0a04038d07386167ad32b504eeb60058e5ab9ac927ba750b3</th>\n      <td>30 October 2020</td>\n      <td>Minister for Health welcomes the EU Commission...</td>\n      <td>\\n\\n\\n\\n\\n\\n\\n\\n\\n                \\n          ...</td>\n      <td>ireland_timeline</td>\n    </tr>\n    <tr>\n      <th>ff474a2f55ba0a59240e4e986870ba12be9f2238bec4f4f8ca2c9c712172ed43</th>\n      <td>5 February 2021</td>\n      <td>Statement from the National Public Health Emer...</td>\n      <td>\\n\\n\\n\\n\\n\\n\\n\\n\\n                \\n          ...</td>\n      <td>ireland_timeline</td>\n    </tr>\n    <tr>\n      <th>ff4ea2ef933287c4125d898245e878ae9fcb1b356b3c60de288dd97020bdd3a5</th>\n      <td>22 January 2021</td>\n      <td>Statement from the National Public Health Emer...</td>\n      <td>\\n\\n\\n\\n\\n\\n\\n\\n\\n                \\n          ...</td>\n      <td>ireland_timeline</td>\n    </tr>\n    <tr>\n      <th>ff82338ae7c8129669562babc1c0d7a893a9c59f6d2bd00cefe853539721367e</th>\n      <td>20 March 2020</td>\n      <td>Press Release on Civil Defence in the context ...</td>\n      <td>\\n\\n\\n\\n\\n\\n\\n\\n\\n                \\n          ...</td>\n      <td>ireland_timeline</td>\n    </tr>\n    <tr>\n      <th>ffef06958ad76786347e3aa545351f708105f6db826708b4523cd16ea150e702</th>\n      <td>24 May 2021</td>\n      <td>Minister O’Gorman launches ‘LGBTI+ Youth in Ir...</td>\n      <td>\\n\\n\\n\\n\\n\\n\\n\\n\\n                \\n          ...</td>\n      <td>ireland_timeline</td>\n    </tr>\n  </tbody>\n</table>\n<p>2679 rows × 4 columns</p>\n</div>"
     },
     "execution_count": 53,
     "metadata": {},
     "output_type": "execute_result"
    }
   ],
   "source": [
    "#Unified datasets dataframe\n",
    "unified_datasets_df = pd.DataFrame(pd.concat(data_frames))\n",
    "unified_datasets_df\n"
   ],
   "metadata": {
    "collapsed": false,
    "pycharm": {
     "name": "#%%\n"
    }
   }
  },
  {
   "cell_type": "code",
   "execution_count": null,
   "outputs": [],
   "source": [
    "#Upload to elastic\n",
    "store_registry.es_index_store().put_dataframe(index_name=\"ds_unified_datasets\", content=unified_datasets_df)\n"
   ],
   "metadata": {
    "collapsed": false,
    "pycharm": {
     "name": "#%%\n"
    }
   }
  }
 ],
 "metadata": {
  "kernelspec": {
   "display_name": "Python 3",
   "language": "python",
   "name": "python3"
  },
  "language_info": {
   "codemirror_mode": {
    "name": "ipython",
    "version": 2
   },
   "file_extension": ".py",
   "mimetype": "text/x-python",
   "name": "python",
   "nbconvert_exporter": "python",
   "pygments_lexer": "ipython2",
   "version": "2.7.6"
  }
 },
 "nbformat": 4,
 "nbformat_minor": 0
}