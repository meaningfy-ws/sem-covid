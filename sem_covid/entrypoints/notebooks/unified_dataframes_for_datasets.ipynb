{
 "cells": [
  {
   "cell_type": "code",
   "execution_count": 2,
   "metadata": {
    "collapsed": true
   },
   "outputs": [],
   "source": [
    "import sys\n",
    "\n",
    "import pandas as pd\n",
    "\n",
    "sys.path.append(\"/home/jovyan/work/sem-covid/\")\n",
    "sys.path = list(set(sys.path))\n",
    "import os\n",
    "\n",
    "os.getcwd()\n",
    "os.chdir('/home/jovyan/work/sem-covid/')\n",
    "from sem_covid import config\n",
    "import json\n",
    "import numpy as np\n",
    "import re\n",
    "from langdetect import detect, detect_langs, DetectorFactory\n",
    "\n",
    "DetectorFactory.seed = 0\n",
    "\n",
    "from sem_covid.services.store_registry import StoreRegistry, store_registry\n"
   ]
  },
  {
   "cell_type": "code",
   "execution_count": 41,
   "outputs": [
    {
     "name": "stdout",
     "output_type": "stream",
     "text": [
      "2\n"
     ]
    }
   ],
   "source": [
    "print(2)"
   ],
   "metadata": {
    "collapsed": false,
    "pycharm": {
     "name": "#%%\n"
    }
   }
  },
  {
   "cell_type": "code",
   "execution_count": 3,
   "outputs": [],
   "source": [
    "es_store = store_registry.es_index_store()\n",
    "\n"
   ],
   "metadata": {
    "collapsed": false,
    "pycharm": {
     "name": "#%%\n"
    }
   }
  },
  {
   "cell_type": "code",
   "execution_count": 4,
   "outputs": [
    {
     "name": "stderr",
     "output_type": "stream",
     "text": [
      "INFO:absl:Using /tmp/tfhub_modules to cache modules.\n"
     ]
    }
   ],
   "source": [
    "# create model for document embeddings\n",
    "from sem_covid.services.model_registry import embedding_registry\n",
    "\n",
    "emb_model = embedding_registry.sent2vec_universal_sent_encoding()\n"
   ],
   "metadata": {
    "collapsed": false,
    "pycharm": {
     "name": "#%%\n"
    }
   }
  },
  {
   "cell_type": "code",
   "execution_count": null,
   "outputs": [],
   "source": [
    "# create model for topic embeddings\n",
    "import mlflow\n",
    "\n",
    "EXPERIMENT_ID = '101'\n",
    "BUCKET_NAME = 'mlflow'\n",
    "\n",
    "best_run = mlflow.search_runs(\n",
    "    experiment_ids=EXPERIMENT_ID,\n",
    "    order_by=['parameters.freq_topic_minus_1 ASC']\n",
    ").iloc[0]\n",
    "\n",
    "\n",
    "\n",
    "bert_model = store_registry.minio_feature_store(BUCKET_NAME).get_features(\n",
    "    features_name=f'{EXPERIMENT_ID}/{best_run.run_id}/artifacts/model/model.pkl')\n",
    "\n"
   ],
   "metadata": {
    "collapsed": false,
    "pycharm": {
     "name": "#%%\n"
    }
   }
  },
  {
   "cell_type": "code",
   "execution_count": 5,
   "outputs": [],
   "source": [
    "def make_target_group_l1_column(dataset: pd.DataFrame):\n",
    "    for col in TARGET_GROUPS_L1:\n",
    "        dataset[col]=dataset[col].apply(lambda x: col if x == 1 else \"\" )\n",
    "\n",
    "    dataset[\"pwdb_target_group_l1\"] = dataset[TARGET_GROUPS_L1].apply(lambda row: ' '.join(row.values.astype(str)), axis=1)\\\n",
    "        .apply(lambda x: x.split())\n"
   ],
   "metadata": {
    "collapsed": false,
    "pycharm": {
     "name": "#%%\n"
    }
   }
  },
  {
   "cell_type": "code",
   "execution_count": 6,
   "outputs": [],
   "source": [
    "def make_document_embeddings_column(dataset: pd.DataFrame):\n",
    "    dataset[\"document_embeddings\"] = emb_model.encode(dataset.content.values)\n"
   ],
   "metadata": {
    "collapsed": false,
    "pycharm": {
     "name": "#%%\n"
    }
   }
  },
  {
   "cell_type": "code",
   "execution_count": null,
   "outputs": [],
   "source": [
    "def make_topic_embeddings_column(dataset: pd.DataFrame):\n",
    "    bert_probabilities = bert_model.transform(documents=dataset['content'],\n",
    "                                              embeddings=np.array(dataset[\"document_embeddings\"].values.tolist()).astype(\"float32\"))[1]\n",
    "    dataset['topic_based_embedding'] = bert_probabilities.tolist()"
   ],
   "metadata": {
    "collapsed": false,
    "pycharm": {
     "name": "#%%\n"
    }
   }
  },
  {
   "cell_type": "code",
   "execution_count": 7,
   "outputs": [],
   "source": [
    "def create_new_column_with_defined_value(dataset: pd.DataFrame, column_name: str, value=None, empty_array=False):\n",
    "    if empty_array:\n",
    "       dataset[column_name] = [np.empty(0,dtype=float)]*len(dataset)\n",
    "    else:\n",
    "        dataset[column_name] = value\n"
   ],
   "metadata": {
    "collapsed": false,
    "pycharm": {
     "name": "#%%\n"
    }
   }
  },
  {
   "cell_type": "code",
   "execution_count": 8,
   "outputs": [],
   "source": [
    "TARGET_GROUPS_L1 = [\"businesses\", \"workers\", \"citizens\"]\n",
    "COMMON_DATASET_COLUMNS = [\"title\",\"content\",\"date\",\"doc_source\",\"country\",\"pwdb_category\",\n",
    "                          \"pwdb_target_group_l1\",\"pwdb_funding\", \"pwdb_type_of_measure\",\n",
    "                          \"pwdb_actors\", \"document_embeddings\"]\n",
    "# to add topic_embeddings column\n",
    "SPECIFIC_DATASET_COLUMNS = [\"eu_cellar_subject_matter_labels\", \"eu_cellar_resource_type_labels\",\"eu_cellar_directory_code_labels\",\n",
    "                            \"eu_cellar_author_labels\", \"pwdb_target_group_l2\", \"ireland_keyword\", \"ireland_department_data\",\n",
    "                            \"ireland_campaign\", \"ireland_page_type\", \"eu_timeline_topic\"]"
   ],
   "metadata": {
    "collapsed": false,
    "pycharm": {
     "name": "#%%\n"
    }
   }
  },
  {
   "cell_type": "code",
   "execution_count": 45,
   "outputs": [
    {
     "name": "stderr",
     "output_type": "stream",
     "text": [
      "100% (1381 of 1381) |####################| Elapsed Time: 0:00:00 Time:  0:00:00\n",
      "100% (3175 of 3175) |####################| Elapsed Time: 0:00:01 Time:  0:00:01\n",
      "100% (225 of 225) |######################| Elapsed Time: 0:00:00 Time:  0:00:00\n",
      "100% (1921 of 1921) |####################| Elapsed Time: 0:00:00 Time:  0:00:00\n"
     ]
    }
   ],
   "source": [
    "#Load dataframes from elastic\n",
    "pwdb_df = es_store.get_dataframe(index_name=config.PWDB_ELASTIC_SEARCH_INDEX_NAME)\n",
    "eu_cellar_df = es_store.get_dataframe(index_name=config.EU_CELLAR_ELASTIC_SEARCH_INDEX_NAME + \"_enriched\")\n",
    "eu_timeline_df = es_store.get_dataframe(index_name=config.EU_TIMELINE_ELASTIC_SEARCH_INDEX_NAME + \"_enriched\")\n",
    "ir_timeline_df = es_store.get_dataframe(index_name=config.IRELAND_TIMELINE_ELASTIC_SEARCH_INDEX_NAME + \"_enriched\")\n",
    "\n"
   ],
   "metadata": {
    "collapsed": false,
    "pycharm": {
     "name": "#%%\n"
    }
   }
  },
  {
   "cell_type": "code",
   "execution_count": 10,
   "outputs": [
    {
     "data": {
      "text/plain": "_id\ntika/2ec585e04df9d361a951e7d26ce5d3ab06e4d17612e36ee84696c1451c972c4b    Temporary layoff scheme and reimbursement of r...\ntika/497730ad75916dd4a3174469d0946ccf6218adfd9513cfffb52038a3dce3fa8d    Protocol for the containment of the COVID-19 s...\ntika/5f74df01de688c3083e10eb50ebd865b081ee3595a662118c3d1d4ca1ad09bc2    ELY centres' business development aid to micro...\ntika/ae1904ac24001af20cfaf9ce898605e95122371e26ae96b7337d114098819c33    Regularisation of immigrants' presence on nati...\ntika/3bafed913ae25dd3152fec477a007abfa079507146ee1b7f8b0a9abad10dc2aa    Economic reactivation measures to face the imp...\n                                                                                               ...                        \ntika/330d076853d0731e295d75f70841b445e4bc45061a8ae1507766fa26d778cc6f    Government support to assist the sports sector...\ntika/ffaa29a24828dd01c81d66ece0f8f3c21451083be7a0b6d2f4ed954b9378b0e6    National public sector collective agreement 20...\ntika/3df93a8fb254187e8783d19760b465a98d88863e59a513b35a4d8062248e4190    Lifting of overtime work restrictions, extensi...\ntika/71fc1cad3a3a8b9de4da7080acc3a8251fa8ff8c5b7514f082f18c1cf69ab140    Exceptional regime suspending overtime limits ...\ntika/417384d22c3c6f1768aed95a928111a4652fd832c8d5ee38594ca661e53488ca    COVID-19: Income support for workers Key tax a...\nName: content, Length: 1381, dtype: object"
     },
     "execution_count": 10,
     "metadata": {},
     "output_type": "execute_result"
    }
   ],
   "source": [
    "#textual columns in PWDB dataset into one content column\n",
    "textual_columns = [col for col in pwdb_df.columns if \"description\" in col]\n",
    "textual_columns.insert(0,\"title\")\n",
    "pwdb_df[\"content\"] = pwdb_df[textual_columns].apply(lambda row: ' '.join(row.values.astype(str)), axis=1)\n",
    "pwdb_df[\"content\"]"
   ],
   "metadata": {
    "collapsed": false,
    "pycharm": {
     "name": "#%%\n"
    }
   }
  },
  {
   "cell_type": "code",
   "execution_count": 11,
   "outputs": [
    {
     "data": {
      "text/plain": "_id\ntika/2ec585e04df9d361a951e7d26ce5d3ab06e4d17612e36ee84696c1451c972c4b              []\ntika/497730ad75916dd4a3174469d0946ccf6218adfd9513cfffb52038a3dce3fa8d    [businesses]\ntika/5f74df01de688c3083e10eb50ebd865b081ee3595a662118c3d1d4ca1ad09bc2       [workers]\ntika/ae1904ac24001af20cfaf9ce898605e95122371e26ae96b7337d114098819c33      [citizens]\ntika/3bafed913ae25dd3152fec477a007abfa079507146ee1b7f8b0a9abad10dc2aa    [businesses]\n                                                                             ...     \ntika/330d076853d0731e295d75f70841b445e4bc45061a8ae1507766fa26d778cc6f    [businesses]\ntika/ffaa29a24828dd01c81d66ece0f8f3c21451083be7a0b6d2f4ed954b9378b0e6       [workers]\ntika/3df93a8fb254187e8783d19760b465a98d88863e59a513b35a4d8062248e4190       [workers]\ntika/71fc1cad3a3a8b9de4da7080acc3a8251fa8ff8c5b7514f082f18c1cf69ab140       [workers]\ntika/417384d22c3c6f1768aed95a928111a4652fd832c8d5ee38594ca661e53488ca              []\nName: pwdb_target_group_l1, Length: 1381, dtype: object"
     },
     "execution_count": 11,
     "metadata": {},
     "output_type": "execute_result"
    }
   ],
   "source": [
    "make_target_group_l1_column(pwdb_df)\n",
    "pwdb_df[\"pwdb_target_group_l1\"]"
   ],
   "metadata": {
    "collapsed": false,
    "pycharm": {
     "name": "#%%\n"
    }
   }
  },
  {
   "cell_type": "code",
   "execution_count": 12,
   "outputs": [
    {
     "data": {
      "text/plain": "_id\ntika/2ec585e04df9d361a951e7d26ce5d3ab06e4d17612e36ee84696c1451c972c4b    [-0.05382201448082924, -0.054840292781591415, ...\ntika/497730ad75916dd4a3174469d0946ccf6218adfd9513cfffb52038a3dce3fa8d    [0.043122436851263046, -0.008066767826676369, ...\ntika/5f74df01de688c3083e10eb50ebd865b081ee3595a662118c3d1d4ca1ad09bc2    [-0.011736772023141384, 0.05330539867281914, 0...\ntika/ae1904ac24001af20cfaf9ce898605e95122371e26ae96b7337d114098819c33    [-0.020241111516952515, -0.05406587943434715, ...\ntika/3bafed913ae25dd3152fec477a007abfa079507146ee1b7f8b0a9abad10dc2aa    [0.020759258419275284, 0.01490385364741087, 0....\n                                                                                               ...                        \ntika/330d076853d0731e295d75f70841b445e4bc45061a8ae1507766fa26d778cc6f    [-0.0541599802672863, -0.05460011959075928, -0...\ntika/ffaa29a24828dd01c81d66ece0f8f3c21451083be7a0b6d2f4ed954b9378b0e6    [0.014643954113125801, -0.05534055083990097, 0...\ntika/3df93a8fb254187e8783d19760b465a98d88863e59a513b35a4d8062248e4190    [-0.005776175297796726, -0.02555486187338829, ...\ntika/71fc1cad3a3a8b9de4da7080acc3a8251fa8ff8c5b7514f082f18c1cf69ab140    [0.024551253765821457, 0.005386184900999069, -...\ntika/417384d22c3c6f1768aed95a928111a4652fd832c8d5ee38594ca661e53488ca    [-0.05710729956626892, -0.057696014642715454, ...\nName: document_embeddings, Length: 1381, dtype: object"
     },
     "execution_count": 12,
     "metadata": {},
     "output_type": "execute_result"
    }
   ],
   "source": [
    "make_document_embeddings_column(pwdb_df)\n",
    "pwdb_df[\"document_embeddings\"]"
   ],
   "metadata": {
    "collapsed": false,
    "pycharm": {
     "name": "#%%\n"
    }
   }
  },
  {
   "cell_type": "code",
   "execution_count": 13,
   "outputs": [],
   "source": [
    "#pwdb_df[\"doc_source\"] = \"ds_pwdb\"\n",
    "create_new_column_with_defined_value(pwdb_df, \"doc_source\", \"ds_pwdb\")\n"
   ],
   "metadata": {
    "collapsed": false,
    "pycharm": {
     "name": "#%%\n"
    }
   }
  },
  {
   "cell_type": "code",
   "execution_count": 14,
   "outputs": [
    {
     "data": {
      "text/plain": "                                                   eu_cellar_subject_matter_labels  \\\n_id                                                                                  \ntika/2ec585e04df9d361a951e7d26ce5d3ab06e4d17612...                              []   \ntika/497730ad75916dd4a3174469d0946ccf6218adfd95...                              []   \ntika/5f74df01de688c3083e10eb50ebd865b081ee3595a...                              []   \ntika/ae1904ac24001af20cfaf9ce898605e95122371e26...                              []   \ntika/3bafed913ae25dd3152fec477a007abfa079507146...                              []   \n...                                                                            ...   \ntika/330d076853d0731e295d75f70841b445e4bc45061a...                              []   \ntika/ffaa29a24828dd01c81d66ece0f8f3c21451083be7...                              []   \ntika/3df93a8fb254187e8783d19760b465a98d88863e59...                              []   \ntika/71fc1cad3a3a8b9de4da7080acc3a8251fa8ff8c5b...                              []   \ntika/417384d22c3c6f1768aed95a928111a4652fd832c8...                              []   \n\n                                                   eu_cellar_resource_type_labels  \\\n_id                                                                                 \ntika/2ec585e04df9d361a951e7d26ce5d3ab06e4d17612...                             []   \ntika/497730ad75916dd4a3174469d0946ccf6218adfd95...                             []   \ntika/5f74df01de688c3083e10eb50ebd865b081ee3595a...                             []   \ntika/ae1904ac24001af20cfaf9ce898605e95122371e26...                             []   \ntika/3bafed913ae25dd3152fec477a007abfa079507146...                             []   \n...                                                                           ...   \ntika/330d076853d0731e295d75f70841b445e4bc45061a...                             []   \ntika/ffaa29a24828dd01c81d66ece0f8f3c21451083be7...                             []   \ntika/3df93a8fb254187e8783d19760b465a98d88863e59...                             []   \ntika/71fc1cad3a3a8b9de4da7080acc3a8251fa8ff8c5b...                             []   \ntika/417384d22c3c6f1768aed95a928111a4652fd832c8...                             []   \n\n                                                   eu_cellar_directory_code_labels  \\\n_id                                                                                  \ntika/2ec585e04df9d361a951e7d26ce5d3ab06e4d17612...                              []   \ntika/497730ad75916dd4a3174469d0946ccf6218adfd95...                              []   \ntika/5f74df01de688c3083e10eb50ebd865b081ee3595a...                              []   \ntika/ae1904ac24001af20cfaf9ce898605e95122371e26...                              []   \ntika/3bafed913ae25dd3152fec477a007abfa079507146...                              []   \n...                                                                            ...   \ntika/330d076853d0731e295d75f70841b445e4bc45061a...                              []   \ntika/ffaa29a24828dd01c81d66ece0f8f3c21451083be7...                              []   \ntika/3df93a8fb254187e8783d19760b465a98d88863e59...                              []   \ntika/71fc1cad3a3a8b9de4da7080acc3a8251fa8ff8c5b...                              []   \ntika/417384d22c3c6f1768aed95a928111a4652fd832c8...                              []   \n\n                                                   eu_cellar_author_labels  \\\n_id                                                                          \ntika/2ec585e04df9d361a951e7d26ce5d3ab06e4d17612...                      []   \ntika/497730ad75916dd4a3174469d0946ccf6218adfd95...                      []   \ntika/5f74df01de688c3083e10eb50ebd865b081ee3595a...                      []   \ntika/ae1904ac24001af20cfaf9ce898605e95122371e26...                      []   \ntika/3bafed913ae25dd3152fec477a007abfa079507146...                      []   \n...                                                                    ...   \ntika/330d076853d0731e295d75f70841b445e4bc45061a...                      []   \ntika/ffaa29a24828dd01c81d66ece0f8f3c21451083be7...                      []   \ntika/3df93a8fb254187e8783d19760b465a98d88863e59...                      []   \ntika/71fc1cad3a3a8b9de4da7080acc3a8251fa8ff8c5b...                      []   \ntika/417384d22c3c6f1768aed95a928111a4652fd832c8...                      []   \n\n                                                   pwdb_target_group_l2  \\\n_id                                                                       \ntika/2ec585e04df9d361a951e7d26ce5d3ab06e4d17612...                   []   \ntika/497730ad75916dd4a3174469d0946ccf6218adfd95...                   []   \ntika/5f74df01de688c3083e10eb50ebd865b081ee3595a...                   []   \ntika/ae1904ac24001af20cfaf9ce898605e95122371e26...                   []   \ntika/3bafed913ae25dd3152fec477a007abfa079507146...                   []   \n...                                                                 ...   \ntika/330d076853d0731e295d75f70841b445e4bc45061a...                   []   \ntika/ffaa29a24828dd01c81d66ece0f8f3c21451083be7...                   []   \ntika/3df93a8fb254187e8783d19760b465a98d88863e59...                   []   \ntika/71fc1cad3a3a8b9de4da7080acc3a8251fa8ff8c5b...                   []   \ntika/417384d22c3c6f1768aed95a928111a4652fd832c8...                   []   \n\n                                                   ireland_keyword  \\\n_id                                                                  \ntika/2ec585e04df9d361a951e7d26ce5d3ab06e4d17612...              []   \ntika/497730ad75916dd4a3174469d0946ccf6218adfd95...              []   \ntika/5f74df01de688c3083e10eb50ebd865b081ee3595a...              []   \ntika/ae1904ac24001af20cfaf9ce898605e95122371e26...              []   \ntika/3bafed913ae25dd3152fec477a007abfa079507146...              []   \n...                                                            ...   \ntika/330d076853d0731e295d75f70841b445e4bc45061a...              []   \ntika/ffaa29a24828dd01c81d66ece0f8f3c21451083be7...              []   \ntika/3df93a8fb254187e8783d19760b465a98d88863e59...              []   \ntika/71fc1cad3a3a8b9de4da7080acc3a8251fa8ff8c5b...              []   \ntika/417384d22c3c6f1768aed95a928111a4652fd832c8...              []   \n\n                                                   ireland_department_data  \\\n_id                                                                          \ntika/2ec585e04df9d361a951e7d26ce5d3ab06e4d17612...                      []   \ntika/497730ad75916dd4a3174469d0946ccf6218adfd95...                      []   \ntika/5f74df01de688c3083e10eb50ebd865b081ee3595a...                      []   \ntika/ae1904ac24001af20cfaf9ce898605e95122371e26...                      []   \ntika/3bafed913ae25dd3152fec477a007abfa079507146...                      []   \n...                                                                    ...   \ntika/330d076853d0731e295d75f70841b445e4bc45061a...                      []   \ntika/ffaa29a24828dd01c81d66ece0f8f3c21451083be7...                      []   \ntika/3df93a8fb254187e8783d19760b465a98d88863e59...                      []   \ntika/71fc1cad3a3a8b9de4da7080acc3a8251fa8ff8c5b...                      []   \ntika/417384d22c3c6f1768aed95a928111a4652fd832c8...                      []   \n\n                                                   ireland_campaign  \\\n_id                                                                   \ntika/2ec585e04df9d361a951e7d26ce5d3ab06e4d17612...               []   \ntika/497730ad75916dd4a3174469d0946ccf6218adfd95...               []   \ntika/5f74df01de688c3083e10eb50ebd865b081ee3595a...               []   \ntika/ae1904ac24001af20cfaf9ce898605e95122371e26...               []   \ntika/3bafed913ae25dd3152fec477a007abfa079507146...               []   \n...                                                             ...   \ntika/330d076853d0731e295d75f70841b445e4bc45061a...               []   \ntika/ffaa29a24828dd01c81d66ece0f8f3c21451083be7...               []   \ntika/3df93a8fb254187e8783d19760b465a98d88863e59...               []   \ntika/71fc1cad3a3a8b9de4da7080acc3a8251fa8ff8c5b...               []   \ntika/417384d22c3c6f1768aed95a928111a4652fd832c8...               []   \n\n                                                   ireland_page_type  \\\n_id                                                                    \ntika/2ec585e04df9d361a951e7d26ce5d3ab06e4d17612...                []   \ntika/497730ad75916dd4a3174469d0946ccf6218adfd95...                []   \ntika/5f74df01de688c3083e10eb50ebd865b081ee3595a...                []   \ntika/ae1904ac24001af20cfaf9ce898605e95122371e26...                []   \ntika/3bafed913ae25dd3152fec477a007abfa079507146...                []   \n...                                                              ...   \ntika/330d076853d0731e295d75f70841b445e4bc45061a...                []   \ntika/ffaa29a24828dd01c81d66ece0f8f3c21451083be7...                []   \ntika/3df93a8fb254187e8783d19760b465a98d88863e59...                []   \ntika/71fc1cad3a3a8b9de4da7080acc3a8251fa8ff8c5b...                []   \ntika/417384d22c3c6f1768aed95a928111a4652fd832c8...                []   \n\n                                                   eu_timeline_topic  \n_id                                                                   \ntika/2ec585e04df9d361a951e7d26ce5d3ab06e4d17612...                []  \ntika/497730ad75916dd4a3174469d0946ccf6218adfd95...                []  \ntika/5f74df01de688c3083e10eb50ebd865b081ee3595a...                []  \ntika/ae1904ac24001af20cfaf9ce898605e95122371e26...                []  \ntika/3bafed913ae25dd3152fec477a007abfa079507146...                []  \n...                                                              ...  \ntika/330d076853d0731e295d75f70841b445e4bc45061a...                []  \ntika/ffaa29a24828dd01c81d66ece0f8f3c21451083be7...                []  \ntika/3df93a8fb254187e8783d19760b465a98d88863e59...                []  \ntika/71fc1cad3a3a8b9de4da7080acc3a8251fa8ff8c5b...                []  \ntika/417384d22c3c6f1768aed95a928111a4652fd832c8...                []  \n\n[1381 rows x 10 columns]",
      "text/html": "<div>\n<style scoped>\n    .dataframe tbody tr th:only-of-type {\n        vertical-align: middle;\n    }\n\n    .dataframe tbody tr th {\n        vertical-align: top;\n    }\n\n    .dataframe thead th {\n        text-align: right;\n    }\n</style>\n<table border=\"1\" class=\"dataframe\">\n  <thead>\n    <tr style=\"text-align: right;\">\n      <th></th>\n      <th>eu_cellar_subject_matter_labels</th>\n      <th>eu_cellar_resource_type_labels</th>\n      <th>eu_cellar_directory_code_labels</th>\n      <th>eu_cellar_author_labels</th>\n      <th>pwdb_target_group_l2</th>\n      <th>ireland_keyword</th>\n      <th>ireland_department_data</th>\n      <th>ireland_campaign</th>\n      <th>ireland_page_type</th>\n      <th>eu_timeline_topic</th>\n    </tr>\n    <tr>\n      <th>_id</th>\n      <th></th>\n      <th></th>\n      <th></th>\n      <th></th>\n      <th></th>\n      <th></th>\n      <th></th>\n      <th></th>\n      <th></th>\n      <th></th>\n    </tr>\n  </thead>\n  <tbody>\n    <tr>\n      <th>tika/2ec585e04df9d361a951e7d26ce5d3ab06e4d17612e36ee84696c1451c972c4b</th>\n      <td>[]</td>\n      <td>[]</td>\n      <td>[]</td>\n      <td>[]</td>\n      <td>[]</td>\n      <td>[]</td>\n      <td>[]</td>\n      <td>[]</td>\n      <td>[]</td>\n      <td>[]</td>\n    </tr>\n    <tr>\n      <th>tika/497730ad75916dd4a3174469d0946ccf6218adfd9513cfffb52038a3dce3fa8d</th>\n      <td>[]</td>\n      <td>[]</td>\n      <td>[]</td>\n      <td>[]</td>\n      <td>[]</td>\n      <td>[]</td>\n      <td>[]</td>\n      <td>[]</td>\n      <td>[]</td>\n      <td>[]</td>\n    </tr>\n    <tr>\n      <th>tika/5f74df01de688c3083e10eb50ebd865b081ee3595a662118c3d1d4ca1ad09bc2</th>\n      <td>[]</td>\n      <td>[]</td>\n      <td>[]</td>\n      <td>[]</td>\n      <td>[]</td>\n      <td>[]</td>\n      <td>[]</td>\n      <td>[]</td>\n      <td>[]</td>\n      <td>[]</td>\n    </tr>\n    <tr>\n      <th>tika/ae1904ac24001af20cfaf9ce898605e95122371e26ae96b7337d114098819c33</th>\n      <td>[]</td>\n      <td>[]</td>\n      <td>[]</td>\n      <td>[]</td>\n      <td>[]</td>\n      <td>[]</td>\n      <td>[]</td>\n      <td>[]</td>\n      <td>[]</td>\n      <td>[]</td>\n    </tr>\n    <tr>\n      <th>tika/3bafed913ae25dd3152fec477a007abfa079507146ee1b7f8b0a9abad10dc2aa</th>\n      <td>[]</td>\n      <td>[]</td>\n      <td>[]</td>\n      <td>[]</td>\n      <td>[]</td>\n      <td>[]</td>\n      <td>[]</td>\n      <td>[]</td>\n      <td>[]</td>\n      <td>[]</td>\n    </tr>\n    <tr>\n      <th>...</th>\n      <td>...</td>\n      <td>...</td>\n      <td>...</td>\n      <td>...</td>\n      <td>...</td>\n      <td>...</td>\n      <td>...</td>\n      <td>...</td>\n      <td>...</td>\n      <td>...</td>\n    </tr>\n    <tr>\n      <th>tika/330d076853d0731e295d75f70841b445e4bc45061a8ae1507766fa26d778cc6f</th>\n      <td>[]</td>\n      <td>[]</td>\n      <td>[]</td>\n      <td>[]</td>\n      <td>[]</td>\n      <td>[]</td>\n      <td>[]</td>\n      <td>[]</td>\n      <td>[]</td>\n      <td>[]</td>\n    </tr>\n    <tr>\n      <th>tika/ffaa29a24828dd01c81d66ece0f8f3c21451083be7a0b6d2f4ed954b9378b0e6</th>\n      <td>[]</td>\n      <td>[]</td>\n      <td>[]</td>\n      <td>[]</td>\n      <td>[]</td>\n      <td>[]</td>\n      <td>[]</td>\n      <td>[]</td>\n      <td>[]</td>\n      <td>[]</td>\n    </tr>\n    <tr>\n      <th>tika/3df93a8fb254187e8783d19760b465a98d88863e59a513b35a4d8062248e4190</th>\n      <td>[]</td>\n      <td>[]</td>\n      <td>[]</td>\n      <td>[]</td>\n      <td>[]</td>\n      <td>[]</td>\n      <td>[]</td>\n      <td>[]</td>\n      <td>[]</td>\n      <td>[]</td>\n    </tr>\n    <tr>\n      <th>tika/71fc1cad3a3a8b9de4da7080acc3a8251fa8ff8c5b7514f082f18c1cf69ab140</th>\n      <td>[]</td>\n      <td>[]</td>\n      <td>[]</td>\n      <td>[]</td>\n      <td>[]</td>\n      <td>[]</td>\n      <td>[]</td>\n      <td>[]</td>\n      <td>[]</td>\n      <td>[]</td>\n    </tr>\n    <tr>\n      <th>tika/417384d22c3c6f1768aed95a928111a4652fd832c8d5ee38594ca661e53488ca</th>\n      <td>[]</td>\n      <td>[]</td>\n      <td>[]</td>\n      <td>[]</td>\n      <td>[]</td>\n      <td>[]</td>\n      <td>[]</td>\n      <td>[]</td>\n      <td>[]</td>\n      <td>[]</td>\n    </tr>\n  </tbody>\n</table>\n<p>1381 rows × 10 columns</p>\n</div>"
     },
     "execution_count": 14,
     "metadata": {},
     "output_type": "execute_result"
    }
   ],
   "source": [
    "# create specific dataset columns\n",
    "\n",
    "for column in SPECIFIC_DATASET_COLUMNS:\n",
    "    create_new_column_with_defined_value(pwdb_df,column_name=column,empty_array=True)\n",
    "\n",
    "pwdb_df[SPECIFIC_DATASET_COLUMNS]\n",
    "\n"
   ],
   "metadata": {
    "collapsed": false,
    "pycharm": {
     "name": "#%%\n"
    }
   }
  },
  {
   "cell_type": "code",
   "execution_count": 15,
   "outputs": [
    {
     "data": {
      "text/plain": "_id\ntika/2ec585e04df9d361a951e7d26ce5d3ab06e4d17612e36ee84696c1451c972c4b                                                   []\ntika/497730ad75916dd4a3174469d0946ccf6218adfd9513cfffb52038a3dce3fa8d                   [Sector specific set of companies]\ntika/5f74df01de688c3083e10eb50ebd865b081ee3595a662118c3d1d4ca1ad09bc2                                      [Self-employed]\ntika/ae1904ac24001af20cfaf9ce898605e95122371e26ae96b7337d114098819c33                                 [Migrants, Refugees]\ntika/3bafed913ae25dd3152fec477a007abfa079507146ee1b7f8b0a9abad10dc2aa                   [Sector specific set of companies]\n                                                                                               ...                        \ntika/330d076853d0731e295d75f70841b445e4bc45061a8ae1507766fa26d778cc6f                   [Sector specific set of companies]\ntika/ffaa29a24828dd01c81d66ece0f8f3c21451083be7a0b6d2f4ed954b9378b0e6                            [Other groups of workers]\ntika/3df93a8fb254187e8783d19760b465a98d88863e59a513b35a4d8062248e4190                   [Employees in standard employment]\ntika/71fc1cad3a3a8b9de4da7080acc3a8251fa8ff8c5b7514f082f18c1cf69ab140    [Other groups of workers, Workers in essential...\ntika/417384d22c3c6f1768aed95a928111a4652fd832c8d5ee38594ca661e53488ca                                                   []\nName: pwdb_target_group_l2, Length: 1381, dtype: object"
     },
     "execution_count": 15,
     "metadata": {},
     "output_type": "execute_result"
    }
   ],
   "source": [
    "#add values if the specific column exists in the current dataset\n",
    "pwdb_df[\"pwdb_target_group_l2\"] = pwdb_df[\"target_groups\"]\n",
    "pwdb_df[\"pwdb_target_group_l2\"]\n"
   ],
   "metadata": {
    "collapsed": false,
    "pycharm": {
     "name": "#%%\n"
    }
   }
  },
  {
   "cell_type": "code",
   "execution_count": 16,
   "outputs": [],
   "source": [
    "# rename columns in the current dataset and prepare new version for merging\n",
    "pwdb_df.rename(columns={\"category\": \"pwdb_category\", \"funding\": \"pwdb_funding\", \"type_of_measure\": \"pwdb_type_of_measure\"\n",
    "    , \"actors\": \"pwdb_actors\", \"start_date\": \"date\"}, inplace=True)\n",
    "\n",
    "tmp_pwdb_df = pd.DataFrame(pwdb_df[COMMON_DATASET_COLUMNS + SPECIFIC_DATASET_COLUMNS])"
   ],
   "metadata": {
    "collapsed": false,
    "pycharm": {
     "name": "#%%\n"
    }
   }
  },
  {
   "cell_type": "code",
   "execution_count": 17,
   "outputs": [
    {
     "name": "stdout",
     "output_type": "stream",
     "text": [
      "ready for merge\n"
     ]
    }
   ],
   "source": [
    "# Verify if the new version has all the necessary columns\n",
    "if tmp_pwdb_df.columns.tolist() == COMMON_DATASET_COLUMNS + SPECIFIC_DATASET_COLUMNS:\n",
    "    print(\"ready for merge\")\n",
    "else:\n",
    "    raise ValueError(\"Some columns are missing!! Not ready for merge\")"
   ],
   "metadata": {
    "collapsed": false,
    "pycharm": {
     "name": "#%%\n"
    }
   }
  },
  {
   "cell_type": "code",
   "execution_count": 323,
   "outputs": [
    {
     "data": {
      "text/plain": "_id\ntika/2ec585e04df9d361a951e7d26ce5d3ab06e4d17612e36ee84696c1451c972c4b    [-0.05382201448082924, -0.054840292781591415, ...\ntika/497730ad75916dd4a3174469d0946ccf6218adfd9513cfffb52038a3dce3fa8d    [0.043122436851263046, -0.008066767826676369, ...\ntika/5f74df01de688c3083e10eb50ebd865b081ee3595a662118c3d1d4ca1ad09bc2    [-0.011736772023141384, 0.05330539867281914, 0...\ntika/ae1904ac24001af20cfaf9ce898605e95122371e26ae96b7337d114098819c33    [-0.020241111516952515, -0.05406587943434715, ...\ntika/3bafed913ae25dd3152fec477a007abfa079507146ee1b7f8b0a9abad10dc2aa    [0.020759258419275284, 0.01490385364741087, 0....\n                                                                                               ...                        \ntika/330d076853d0731e295d75f70841b445e4bc45061a8ae1507766fa26d778cc6f    [-0.0541599802672863, -0.05460011959075928, -0...\ntika/ffaa29a24828dd01c81d66ece0f8f3c21451083be7a0b6d2f4ed954b9378b0e6    [0.014643954113125801, -0.05534055083990097, 0...\ntika/3df93a8fb254187e8783d19760b465a98d88863e59a513b35a4d8062248e4190    [-0.005776175297796726, -0.02555486187338829, ...\ntika/71fc1cad3a3a8b9de4da7080acc3a8251fa8ff8c5b7514f082f18c1cf69ab140    [0.024551253765821457, 0.005386184900999069, -...\ntika/417384d22c3c6f1768aed95a928111a4652fd832c8d5ee38594ca661e53488ca    [-0.05710729956626892, -0.057696014642715454, ...\nName: document_embeddings, Length: 1381, dtype: object"
     },
     "execution_count": 323,
     "metadata": {},
     "output_type": "execute_result"
    }
   ],
   "source": [
    "tmp_pwdb_df[\"document_embeddings\"]\n"
   ],
   "metadata": {
    "collapsed": false,
    "pycharm": {
     "name": "#%%\n"
    }
   }
  },
  {
   "cell_type": "code",
   "execution_count": 18,
   "outputs": [],
   "source": [
    "import mlflow\n",
    "\n",
    "EXPERIMENT_ID = '101'\n",
    "BUCKET_NAME = 'mlflow'\n",
    "\n",
    "best_run = mlflow.search_runs(\n",
    "    experiment_ids=EXPERIMENT_ID,\n",
    "    order_by=['parameters.freq_topic_minus_1 ASC']\n",
    ").iloc[0]\n",
    "\n",
    "\n",
    "\n",
    "bert_model = store_registry.minio_feature_store(BUCKET_NAME).get_features(\n",
    "    features_name=f'{EXPERIMENT_ID}/{best_run.run_id}/artifacts/model/model.pkl')\n"
   ],
   "metadata": {
    "collapsed": false,
    "pycharm": {
     "name": "#%%\n"
    }
   }
  },
  {
   "cell_type": "code",
   "execution_count": 19,
   "outputs": [
    {
     "data": {
      "text/plain": "_id\ntika/2ec585e04df9d361a951e7d26ce5d3ab06e4d17612e36ee84696c1451c972c4b    [-0.05382201448082924, -0.054840292781591415, ...\ntika/497730ad75916dd4a3174469d0946ccf6218adfd9513cfffb52038a3dce3fa8d    [0.043122436851263046, -0.008066767826676369, ...\ntika/5f74df01de688c3083e10eb50ebd865b081ee3595a662118c3d1d4ca1ad09bc2    [-0.011736772023141384, 0.05330539867281914, 0...\ntika/ae1904ac24001af20cfaf9ce898605e95122371e26ae96b7337d114098819c33    [-0.020241111516952515, -0.05406587943434715, ...\ntika/3bafed913ae25dd3152fec477a007abfa079507146ee1b7f8b0a9abad10dc2aa    [0.020759258419275284, 0.01490385364741087, 0....\n                                                                                               ...                        \ntika/330d076853d0731e295d75f70841b445e4bc45061a8ae1507766fa26d778cc6f    [-0.0541599802672863, -0.05460011959075928, -0...\ntika/ffaa29a24828dd01c81d66ece0f8f3c21451083be7a0b6d2f4ed954b9378b0e6    [0.014643954113125801, -0.05534055083990097, 0...\ntika/3df93a8fb254187e8783d19760b465a98d88863e59a513b35a4d8062248e4190    [-0.005776175297796726, -0.02555486187338829, ...\ntika/71fc1cad3a3a8b9de4da7080acc3a8251fa8ff8c5b7514f082f18c1cf69ab140    [0.024551253765821457, 0.005386184900999069, -...\ntika/417384d22c3c6f1768aed95a928111a4652fd832c8d5ee38594ca661e53488ca    [-0.05710729956626892, -0.057696014642715454, ...\nName: document_embeddings, Length: 1381, dtype: object"
     },
     "execution_count": 19,
     "metadata": {},
     "output_type": "execute_result"
    }
   ],
   "source": [
    "tmp_pwdb_df[\"document_embeddings\"]\n",
    "\n",
    "# type(tmp_pwdb_df[\"document_embeddings\"][0])"
   ],
   "metadata": {
    "collapsed": false,
    "pycharm": {
     "name": "#%%\n"
    }
   }
  },
  {
   "cell_type": "code",
   "execution_count": 39,
   "outputs": [],
   "source": [
    "bert_probabilities = bert_model.transform(documents=tmp_pwdb_df['content'], embeddings=np.array(tmp_pwdb_df[\"document_embeddings\"].values.tolist()).astype(\"float32\"))[1]\n",
    "tmp_pwdb_df['topic_based_embedding'] = bert_probabilities.tolist()\n"
   ],
   "metadata": {
    "collapsed": false,
    "pycharm": {
     "name": "#%%\n"
    }
   }
  },
  {
   "cell_type": "code",
   "execution_count": 40,
   "outputs": [
    {
     "data": {
      "text/plain": "_id\ntika/2ec585e04df9d361a951e7d26ce5d3ab06e4d17612e36ee84696c1451c972c4b    [0.001350240214914433, 0.00021572137051582428,...\ntika/497730ad75916dd4a3174469d0946ccf6218adfd9513cfffb52038a3dce3fa8d    [2.5057711177400634e-08, 2.790581625758431e-09...\ntika/5f74df01de688c3083e10eb50ebd865b081ee3595a662118c3d1d4ca1ad09bc2    [4.069156225100791e-12, 1.0782121587005009e-12...\ntika/ae1904ac24001af20cfaf9ce898605e95122371e26ae96b7337d114098819c33    [0.0002691530960288354, 3.1798562077396803e-06...\ntika/3bafed913ae25dd3152fec477a007abfa079507146ee1b7f8b0a9abad10dc2aa    [0.8514289137347775, 9.008173699930881e-80, 1....\n                                                                                               ...                        \ntika/330d076853d0731e295d75f70841b445e4bc45061a8ae1507766fa26d778cc6f    [1.6434957524531868e-16, 1.0385811220730888e-1...\ntika/ffaa29a24828dd01c81d66ece0f8f3c21451083be7a0b6d2f4ed954b9378b0e6    [0.026078051020881, 0.024558885443965266, 0.01...\ntika/3df93a8fb254187e8783d19760b465a98d88863e59a513b35a4d8062248e4190    [0.0009229340070591892, 0.0008577826290926186,...\ntika/71fc1cad3a3a8b9de4da7080acc3a8251fa8ff8c5b7514f082f18c1cf69ab140    [0.0003810207543779177, 0.00035300775245772576...\ntika/417384d22c3c6f1768aed95a928111a4652fd832c8d5ee38594ca661e53488ca    [2.0069465593407182e-52, 2.2506114383724722e-5...\nName: topic_based_embedding, Length: 1381, dtype: object"
     },
     "execution_count": 40,
     "metadata": {},
     "output_type": "execute_result"
    }
   ],
   "source": [
    "tmp_pwdb_df['topic_based_embedding']"
   ],
   "metadata": {
    "collapsed": false,
    "pycharm": {
     "name": "#%%\n"
    }
   }
  },
  {
   "cell_type": "code",
   "execution_count": 29,
   "outputs": [
    {
     "data": {
      "text/plain": "array([-0.05382201, -0.05484029, -0.00939105,  0.03606156, -0.02999368,\n        0.00056277,  0.01166629, -0.04972555,  0.04544508, -0.05484084,\n       -0.05408668,  0.02478002,  0.04701047, -0.0093147 , -0.00444791,\n       -0.05482116, -0.05476168,  0.01637614, -0.05382964,  0.05461138,\n       -0.05434485,  0.02192224,  0.05483181, -0.05231631, -0.00100611,\n        0.05478474, -0.05483991,  0.02949943,  0.03400396,  0.03548795,\n        0.05410358,  0.05062882,  0.05480984,  0.05316053, -0.0544694 ,\n       -0.03905037, -0.04640208, -0.05075841,  0.01201403, -0.03234813,\n       -0.00696255,  0.00849448, -0.01948846, -0.04986804, -0.04172122,\n       -0.0527373 ,  0.02757298,  0.05288697, -0.01026675, -0.05481278,\n       -0.05477301,  0.05395877, -0.05449239,  0.01846773,  0.0527554 ,\n       -0.04101624, -0.0543223 ,  0.04985623,  0.05415764, -0.05463103,\n        0.05148248,  0.03353117, -0.04902823, -0.05197769, -0.05073191,\n       -0.05343049,  0.05280374,  0.04891632, -0.00189262,  0.04899085,\n        0.01384727, -0.03967455,  0.05285113,  0.05231276, -0.04102925,\n       -0.05484086,  0.00191936, -0.05030321, -0.02635517,  0.0249497 ,\n        0.03847129,  0.01592964,  0.01874509, -0.02645765,  0.00264839,\n        0.05120049, -0.02540573,  0.0541334 , -0.02889373, -0.03267503,\n        0.02690239,  0.02782713, -0.05411354,  0.02420957,  0.00495036,\n       -0.05132261,  0.05386348,  0.05478438,  0.05475157, -0.05467513,\n       -0.05403242,  0.03538268, -0.05250999, -0.02906846, -0.05483784,\n       -0.04852921, -0.04867301,  0.04588354, -0.0174488 , -0.03110947,\n       -0.05405029, -0.02540294,  0.02804329, -0.0451536 , -0.01875357,\n        0.05166848, -0.05472212,  0.05114751, -0.02676515,  0.04466035,\n       -0.00747439,  0.05344639,  0.04717404,  0.0133644 ,  0.05215204,\n       -0.0486844 ,  0.05451794,  0.03277823,  0.05113739,  0.05315755,\n       -0.05484086, -0.04285807,  0.05476152, -0.05416569, -0.043649  ,\n       -0.04936716,  0.00977993, -0.04114582, -0.04315424,  0.05145286,\n       -0.04667886,  0.05484086, -0.05286647, -0.02177691, -0.05372792,\n       -0.05483589,  0.04580353, -0.05454461, -0.05088671,  0.01305561,\n       -0.05477357,  0.04475304, -0.05071095, -0.0449076 , -0.05186763,\n        0.05456677,  0.05418227,  0.03790815, -0.05480175, -0.0548369 ,\n        0.03646699, -0.02689393, -0.03725483,  0.00812266, -0.03972345,\n       -0.04797478,  0.05454765, -0.04575453, -0.04941571, -0.05422684,\n        0.05484084, -0.05481219, -0.0477398 ,  0.00161672, -0.05286873,\n       -0.0450396 , -0.05449102, -0.05398203, -0.05484083, -0.04669543,\n        0.02873785,  0.05290652, -0.05268187, -0.05233517,  0.05442453,\n       -0.05388276, -0.0540061 , -0.05327432,  0.02798901, -0.04604889,\n        0.01733531, -0.05460542, -0.04144297,  0.05172777,  0.04719255,\n        0.01540575, -0.04919491,  0.04656829, -0.04355377,  0.05098042,\n       -0.05268915,  0.05434415,  0.0534558 , -0.04141723,  0.05235308,\n       -0.0392902 ,  0.05382071,  0.05410995,  0.04713256,  0.01613183,\n       -0.04647487,  0.05484086, -0.03174167,  0.03692582, -0.05480609,\n       -0.05110065,  0.04600105,  0.05364518, -0.0453182 ,  0.04175922,\n        0.047319  , -0.04839191, -0.05484086, -0.04040927,  0.04513992,\n       -0.05472948, -0.05232436, -0.05398591,  0.05483032,  0.05233331,\n        0.0542316 ,  0.05371647,  0.05215489, -0.05484086,  0.01909639,\n        0.0456847 ,  0.05163038,  0.0210852 , -0.05445305,  0.00189921,\n        0.04985647,  0.04908177,  0.03721948, -0.05465154,  0.05403919,\n        0.03842652,  0.04153534, -0.03542285, -0.05218332,  0.04958859,\n        0.05483569,  0.03511033, -0.01448502,  0.0436854 ,  0.02690002,\n        0.01427638,  0.04369055,  0.05484086,  0.03274743,  0.05484058,\n       -0.03356307,  0.051121  ,  0.03892981,  0.0546807 , -0.04029607,\n        0.0506682 , -0.05483894, -0.0390674 ,  0.01972363,  0.05089205,\n       -0.05174604,  0.05480856, -0.04435341,  0.05474324,  0.00489709,\n       -0.05407624,  0.05050322, -0.04109167,  0.05483826, -0.0547788 ,\n        0.05387446, -0.03380217, -0.02991322,  0.05393213,  0.05484075,\n        0.03027796, -0.0168544 , -0.01621816, -0.03453596,  0.05184253,\n       -0.04978963,  0.00862001,  0.05483532,  0.00099485, -0.05117811,\n       -0.05439621, -0.00978566, -0.05231362,  0.05208066,  0.05481393,\n        0.04593135,  0.05452182,  0.04632633, -0.04394821, -0.03804445,\n        0.04729941, -0.00513191, -0.01184094,  0.0424394 ,  0.03192437,\n        0.0454884 , -0.05476926,  0.02352329, -0.01421455,  0.01874378,\n        0.0162293 ,  0.04735419,  0.00537416,  0.05483084, -0.053606  ,\n       -0.05481882,  0.00788328,  0.05190454, -0.03270681,  0.03723789,\n        0.04281735, -0.04615282, -0.04022281, -0.05484036, -0.032453  ,\n        0.04695622,  0.04889987,  0.03768488,  0.05482538,  0.05029521,\n        0.04414784,  0.04530294, -0.05161954,  0.05432486, -0.05258867,\n       -0.02638906,  0.04760019,  0.05457337,  0.05258145,  0.03567397,\n       -0.05083241, -0.05097105, -0.01963458, -0.05407361, -0.02454106,\n        0.04631568,  0.00932345,  0.05142294,  0.0006322 , -0.05484086,\n       -0.05484086, -0.05484086,  0.0046011 , -0.00847682,  0.00477449,\n        0.01681861,  0.04749132,  0.04686808,  0.05482137, -0.02991471,\n       -0.05114084,  0.05483754, -0.00013248,  0.05459645,  0.05477038,\n       -0.05117231,  0.05470274,  0.03428761, -0.04718596,  0.04586195,\n        0.03204422, -0.05048044, -0.03772692,  0.03152593, -0.05233061,\n        0.05482531,  0.02591165, -0.05479497,  0.01347203,  0.05017582,\n       -0.04926506, -0.05242795,  0.05375155,  0.01155122,  0.0169295 ,\n        0.03442197,  0.05470822,  0.05482058, -0.05382184, -0.05295587,\n       -0.05370177, -0.05387129, -0.02293659, -0.01882119, -0.05152556,\n       -0.05482707, -0.04572576,  0.04958965,  0.04354345, -0.05378902,\n        0.03427581, -0.05483155,  0.02856013, -0.04872896, -0.05325074,\n        0.05460186,  0.05292916, -0.0471547 ,  0.00125511,  0.03206337,\n        0.01624896,  0.05166719, -0.02706039, -0.05479714, -0.04857114,\n       -0.05306457,  0.05378783,  0.05404627, -0.03002204, -0.05450948,\n       -0.05479908,  0.01080916,  0.05484079, -0.04065327, -0.03326619,\n        0.05387035, -0.03643924,  0.01102387,  0.05484086, -0.03180711,\n       -0.0320336 , -0.01978506,  0.04508134, -0.05382042,  0.05376768,\n       -0.054361  ,  0.0059746 ,  0.00235954,  0.02332433, -0.05401616,\n       -0.05315385, -0.05250838, -0.05483571,  0.05103896,  0.05430368,\n        0.0497015 ,  0.05339656,  0.05281547, -0.02287341,  0.04656418,\n       -0.05483297,  0.02564483,  0.05484086, -0.05096125, -0.01665068,\n        0.00516876,  0.03245112, -0.05339408,  0.05428163, -0.04781285,\n        0.05053973,  0.02909255,  0.05287497, -0.00123367, -0.04652388,\n       -0.0546864 , -0.04921244, -0.01371015,  0.01451136,  0.05465093,\n       -0.05212111,  0.02100516, -0.05484086,  0.05357293,  0.04191263,\n       -0.0514125 ,  0.05481533, -0.05095491, -0.05484086, -0.03747987,\n        0.04956998,  0.05041283, -0.05307902, -0.01302812, -0.03202115,\n        0.02713624,  0.02259349, -0.05431809,  0.01108547,  0.01122783,\n        0.01931099,  0.05481723, -0.05460622, -0.05329346,  0.04496631,\n        0.02674912, -0.05378656, -0.04912568, -0.05484086,  0.05451506,\n       -0.0409589 , -0.03170423, -0.00509693,  0.03746657,  0.01674227,\n       -0.04394726,  0.02613191])"
     },
     "execution_count": 29,
     "metadata": {},
     "output_type": "execute_result"
    }
   ],
   "source": [
    "np.array(tmp_pwdb_df[\"document_embeddings\"].values.tolist())[0]\n"
   ],
   "metadata": {
    "collapsed": false,
    "pycharm": {
     "name": "#%%\n"
    }
   }
  },
  {
   "cell_type": "code",
   "execution_count": 35,
   "outputs": [
    {
     "data": {
      "text/plain": "{2051,\n 2052,\n 2054,\n 2055,\n 4103,\n 2057,\n 2056,\n 2058,\n 2060,\n 2061,\n 2063,\n 2065,\n 2066,\n 2068,\n 2069,\n 2071,\n 2072,\n 2073,\n 2074,\n 2078,\n 2081,\n 2083,\n 2084,\n 2088,\n 2094,\n 2096,\n 2097,\n 2100,\n 4149,\n 2102,\n 2103,\n 2105,\n 2106,\n 2107,\n 2111,\n 2115,\n 2116,\n 4164,\n 2120,\n 2123,\n 4173,\n 2126,\n 2128,\n 4178,\n 2131,\n 2132,\n 2133,\n 4182,\n 4184,\n 2137,\n 2139,\n 4188,\n 2141,\n 2142,\n 2143,\n 4192,\n 2144,\n 2146,\n 2147,\n 2148,\n 2149,\n 2151,\n 2153,\n 2154,\n 2155,\n 2157,\n 2158,\n 2159,\n 2161,\n 2162,\n 2163,\n 4210,\n 2164,\n 2171,\n 2173,\n 2175,\n 2177,\n 2178,\n 4227,\n 4226,\n 2181,\n 2182,\n 2183,\n 2184,\n 2186,\n 2187,\n 2188,\n 4234,\n 2190,\n 2191,\n 2194,\n 2195,\n 2196,\n 2199,\n 2202,\n 2203,\n 2204,\n 2206,\n 2207,\n 2208,\n 2209,\n 2210,\n 2213,\n 2214,\n 2217,\n 2219,\n 4269,\n 6318,\n 2223,\n 2224,\n 2225,\n 2222,\n 2227,\n 2230,\n 2231,\n 2232,\n 2234,\n 2235,\n 2236,\n 2240,\n 4289,\n 2241,\n 2246,\n 2250,\n 2251,\n 2252,\n 2254,\n 2256,\n 2257,\n 2258,\n 2260,\n 2261,\n 2262,\n 2263,\n 2265,\n 2266,\n 2267,\n 4314,\n 2269,\n 2272,\n 2273,\n 2276,\n 2279,\n 4329,\n 2286,\n 2287,\n 4337,\n 2291,\n 2293,\n 2295,\n 2297,\n 2300,\n 2301,\n 2303,\n 2306,\n 2307,\n 2309,\n 2313,\n 2315,\n 4363,\n 2317,\n 2316,\n 2320,\n 2321,\n 2322,\n 2325,\n 2326,\n 2327,\n 2330,\n 2331,\n 2334,\n 2335,\n 2336,\n 2338,\n 2341,\n 2342,\n 4391,\n 4393,\n 2348,\n 2350,\n 2351,\n 2352,\n 2353,\n 2354,\n 2356,\n 2360,\n 2361,\n 2362,\n 4413,\n 2367,\n 2369,\n 2373,\n 2375,\n 2376,\n 2377,\n 2379,\n 2380,\n 2381,\n 2382,\n 2383,\n 6480,\n 2388,\n 2390,\n 2391,\n 2399,\n 2402,\n 2403,\n 2404,\n 2405,\n 2406,\n 2407,\n 2408,\n 2412,\n 2413,\n 2420,\n 2422,\n 2423,\n 2425,\n 2426,\n 4476,\n 4477,\n 2429,\n 2430,\n 4479,\n 2433,\n 2434,\n 2428,\n 2436,\n 2447,\n 2448,\n 2451,\n 2453,\n 2454,\n 2456,\n 2457,\n 2459,\n 2460,\n 2462,\n 2465,\n 6562,\n 2466,\n 2468,\n 2469,\n 2470,\n 2471,\n 2472,\n 2473,\n 2475,\n 2476,\n 4526,\n 2482,\n 2483,\n 6581,\n 2489,\n 2491,\n 4540,\n 2493,\n 2496,\n 2497,\n 2500,\n 2501,\n 4548,\n 2502,\n 2504,\n 4551,\n 2509,\n 2511,\n 2512,\n 2514,\n 4562,\n 2516,\n 2515,\n 2519,\n 2522,\n 2523,\n 2527,\n 2528,\n 2529,\n 2532,\n 2535,\n 2536,\n 4586,\n 2539,\n 2540,\n 2538,\n 2545,\n 2546,\n 2549,\n 2554,\n 2555,\n 2556,\n 2558,\n 2559,\n 4607,\n 2564,\n 2565,\n 2566,\n 2567,\n 2568,\n 2569,\n 2571,\n 2574,\n 2140,\n 2576,\n 2579,\n 2580,\n 2583,\n 2584,\n 2585,\n 2586,\n 2591,\n 2592,\n 2594,\n 2602,\n 2603,\n 2605,\n 2606,\n 2607,\n 2608,\n 2611,\n 2613,\n 2615,\n 2619,\n 4670,\n 2622,\n 2623,\n 2626,\n 2629,\n 2630,\n 2633,\n 2636,\n 2638,\n 2648,\n 2650,\n 2651,\n 2656,\n 2658,\n 2659,\n 2664,\n 2665,\n 2667,\n 2668,\n 4719,\n 2672,\n 2671,\n 2674,\n 2682,\n 2685,\n 2688,\n 2690,\n 2693,\n 2695,\n 2696,\n 4746,\n 2701,\n 2702,\n 2703,\n 2705,\n 2708,\n 4756,\n 4758,\n 2711,\n 2715,\n 2716,\n 4767,\n 2720,\n 2721,\n 2724,\n 2725,\n 2726,\n 2728,\n 2729,\n 2732,\n 2737,\n 2738,\n 2739,\n 2740,\n 2749,\n 2750,\n 2751,\n 2757,\n 2758,\n 6854,\n 2761,\n 2762,\n 2763,\n 2764,\n 2766,\n 2768,\n 2769,\n 4825,\n 2778,\n 2780,\n 2781,\n 10973,\n 2783,\n 2784,\n 4830,\n 2786,\n 2787,\n 2789,\n 2790,\n 2792,\n 2793,\n 2795,\n 2797,\n 2798,\n 2801,\n 2802,\n 2804,\n 2808,\n 2809,\n 2815,\n 2821,\n 2823,\n 2824,\n 2825,\n 2828,\n 2829,\n 2831,\n 2834,\n 2838,\n 2840,\n 2844,\n 2850,\n 2861,\n 2864,\n 2866,\n 2867,\n 2868,\n 2870,\n 2871,\n 2874,\n 2879,\n 2881,\n 2886,\n 2890,\n 4944,\n 2900,\n 2903,\n 2912,\n 4963,\n 2918,\n 2920,\n 2922,\n 2933,\n 2940,\n 2941,\n 2946,\n 2952,\n 2953,\n 2957,\n 5006,\n 2959,\n 5016,\n 2973,\n 2976,\n 2980,\n 5031,\n 2984,\n 2987,\n 2989,\n 2990,\n 3000,\n 3011,\n 3014,\n 3016,\n 3020,\n 3023,\n 3028,\n 5077,\n 3031,\n 3032,\n 986,\n 3037,\n 3043,\n 3048,\n 3060,\n 3061,\n 3066,\n 3071,\n 5122,\n 3077,\n 7176,\n 3082,\n 5131,\n 3091,\n 3092,\n 3100,\n 3101,\n 3104,\n 3105,\n 3107,\n 3115,\n 5163,\n 1071,\n 1072,\n 3122,\n 3125,\n 1082,\n 5181,\n 1085,\n 1089,\n 3148,\n 3151,\n 3152,\n 5200,\n 3158,\n 1110,\n 3162,\n 5210,\n 1117,\n 5216,\n 3169,\n 3172,\n 3174,\n 3176,\n 1135,\n 1137,\n 3187,\n 3188,\n 1143,\n 3193,\n 3194,\n 3197,\n 1158,\n 3206,\n 3209,\n 3212,\n 1166,\n 1167,\n 3214,\n 5265,\n 3218,\n 3224,\n 3225,\n 3226,\n 1179,\n 1180,\n 3227,\n 1183,\n 1185,\n 1186,\n 3234,\n 1188,\n 5285,\n 3239,\n 3245,\n 1198,\n 1199,\n 3248,\n 1201,\n 3252,\n 1205,\n 3253,\n 3257,\n 1212,\n 3260,\n 3262,\n 1216,\n 3267,\n 3269,\n 3270,\n 1222,\n 1229,\n 1233,\n 3283,\n 1235,\n 1240,\n 3289,\n 3298,\n 1251,\n 3300,\n 1252,\n 1254,\n 3306,\n 1263,\n 3314,\n 1268,\n 3321,\n 3326,\n 5375,\n 3328,\n 1283,\n 5379,\n 3333,\n 3332,\n 1288,\n 5384,\n 1290,\n 1291,\n 1292,\n 1289,\n 1294,\n 1295,\n 3338,\n 1297,\n 1293,\n 1301,\n 1304,\n 1305,\n 3354,\n 3356,\n 1310,\n 1311,\n 1313,\n 1314,\n 1315,\n 3364,\n 5411,\n 1318,\n 3367,\n 1319,\n 1316,\n 3370,\n 1322,\n 1326,\n 1330,\n 1331,\n 1333,\n 1334,\n 3382,\n 3384,\n 1335,\n 1342,\n 1344,\n 1348,\n 1349,\n 3398,\n 1351,\n 3397,\n 5449,\n 1354,\n 1353,\n 3404,\n 1357,\n 1358,\n 1490,\n 3411,\n 3412,\n 1365,\n 1371,\n 1372,\n 3419,\n 1373,\n 1375,\n 1376,\n 3425,\n 1379,\n 1380,\n 1382,\n 3431,\n 1383,\n 1384,\n 1386,\n 3435,\n 1388,\n 1389,\n 1390,\n 1387,\n 1394,\n 3443,\n 3444,\n 1397,\n 1398,\n 1396,\n 1401,\n 1402,\n 1403,\n 1405,\n 1406,\n 1407,\n 1416,\n 3465,\n 3466,\n 1421,\n 1422,\n 1425,\n 5521,\n 1428,\n 3477,\n 3478,\n 1429,\n 5525,\n 1433,\n 1434,\n 3482,\n 3484,\n 3480,\n 1440,\n 1441,\n 1444,\n 1445,\n 5541,\n 1447,\n 1449,\n 3498,\n 1452,\n 1453,\n 1454,\n 1458,\n 1461,\n 1462,\n 1465,\n 1470,\n 5567,\n 1472,\n 1471,\n 1474,\n 1475,\n 1476,\n 3525,\n 1477,\n 1473,\n 1480,\n 1481,\n 1482,\n 1479,\n 3532,\n 1485,\n 3533,\n 1487,\n 3536,\n 1489,\n 3535,\n 3538,\n 1484,\n 1493,\n 1494,\n 1495,\n 1496,\n 1491,\n 3540,\n 1492,\n 1500,\n 1501,\n 1502,\n 1507,\n 3557,\n 1510,\n 1512,\n 1516,\n 1517,\n 1518,\n 3566,\n 1522,\n 1523,\n 3575,\n 1530,\n 3579,\n 1532,\n 1533,\n 1534,\n 1536,\n 1537,\n 5634,\n 1540,\n 1545,\n 3593,\n 1547,\n 1546,\n 1548,\n 1551,\n 5648,\n 1553,\n 3601,\n 1552,\n 3604,\n 1557,\n 1560,\n 1563,\n 1566,\n 1569,\n 1570,\n 1572,\n 5668,\n 3622,\n 1575,\n 1577,\n 1578,\n 1581,\n 3630,\n 1583,\n 1582,\n 1585,\n 1586,\n 3633,\n 1587,\n 1584,\n 1593,\n 1595,\n 3644,\n 1597,\n 1596,\n 1599,\n 1600,\n 5697,\n 1603,\n 1604,\n 1605,\n 1606,\n 1607,\n 1610,\n 1611,\n 1612,\n 1614,\n 1615,\n 1617,\n 1618,\n 3667,\n 1620,\n 1622,\n 1623,\n 1624,\n 3673,\n 1627,\n 1631,\n 1632,\n 1635,\n 1636,\n 1637,\n 5736,\n 1642,\n 1644,\n 1648,\n 1649,\n 1651,\n 1652,\n 3699,\n 3702,\n 1655,\n 1656,\n 1657,\n 1658,\n 1660,\n 1661,\n 1663,\n 3712,\n 1665,\n 3711,\n 3715,\n 1666,\n 1669,\n 1664,\n 1671,\n 5769,\n 1674,\n 1675,\n 1680,\n 1681,\n 1682,\n 1684,\n 1685,\n 1686,\n 1688,\n 3738,\n 1691,\n 1693,\n 1694,\n 1696,\n 1697,\n 1699,\n 1701,\n 1702,\n 1705,\n 1708,\n 1709,\n 1711,\n 1712,\n 1713,\n 1716,\n 1718,\n 1719,\n 1720,\n 5817,\n 1721,\n 3772,\n 1725,\n 1726,\n 1727,\n 1724,\n 1729,\n 1730,\n 3779,\n 1732,\n 1734,\n 3782,\n 1736,\n 3785,\n 1738,\n 1739,\n 1740,\n 1742,\n 1743,\n 3792,\n 1745,\n 1746,\n 1748,\n 5845,\n 3799,\n 1753,\n 1754,\n 1757,\n 1758,\n 3806,\n 1759,\n 1762,\n 1765,\n 1766,\n 1767,\n 1768,\n 3816,\n 1769,\n 1771,\n 1772,\n 3821,\n 1773,\n 1777,\n 1779,\n 1780,\n 1782,\n 1783,\n 1789,\n 1790,\n 1793,\n 1795,\n 1800,\n 1803,\n 1807,\n 5904,\n 1810,\n 1811,\n 1813,\n 3862,\n 1816,\n 1817,\n 1820,\n 1821,\n 1822,\n 1823,\n 1824,\n 1825,\n 1826,\n 1827,\n 1828,\n 1831,\n 3879,\n 1832,\n 1835,\n 1836,\n 1838,\n 1840,\n 1841,\n 1842,\n 1843,\n 1844,\n 1845,\n 1846,\n 1847,\n 1848,\n 3897,\n 3896,\n 1850,\n 1852,\n 1853,\n 1855,\n 3903,\n 1857,\n 1856,\n 1861,\n 1862,\n 1863,\n 1864,\n 1865,\n 1866,\n 1871,\n 1873,\n 1875,\n 1876,\n 1877,\n 1878,\n 1880,\n 1881,\n 1882,\n 3930,\n 1883,\n 1884,\n 1886,\n 1885,\n 1888,\n 1889,\n 1891,\n 1893,\n 1894,\n 1895,\n 1898,\n 1899,\n 1901,\n 1903,\n 1904,\n ...}"
     },
     "execution_count": 35,
     "metadata": {},
     "output_type": "execute_result"
    }
   ],
   "source": [
    "set(map(len,tmp_pwdb_df['document_embeddings'].values.tolist()))"
   ],
   "metadata": {
    "collapsed": false,
    "pycharm": {
     "name": "#%%\n"
    }
   }
  },
  {
   "cell_type": "code",
   "execution_count": 37,
   "outputs": [
    {
     "data": {
      "text/plain": "{False}"
     },
     "execution_count": 37,
     "metadata": {},
     "output_type": "execute_result"
    }
   ],
   "source": [
    "set(tmp_pwdb_df[\"content\"].apply(lambda x: len(x) < 10))\n"
   ],
   "metadata": {
    "collapsed": false,
    "pycharm": {
     "name": "#%%\n"
    }
   }
  },
  {
   "cell_type": "code",
   "execution_count": null,
   "outputs": [],
   "source": [
    "# tmp_pwdb_df[\"document_embeddings\"] = emb_model.encode(tmp_pwdb_df.content.values)\n",
    "# tmp_pwdb_df[\"document_embeddings\"]\n",
    "#\n"
   ],
   "metadata": {
    "collapsed": false,
    "pycharm": {
     "name": "#%%\n"
    }
   }
  },
  {
   "cell_type": "code",
   "execution_count": null,
   "outputs": [],
   "source": [
    "# # Create new dataframe with the wanted content and columns from PWDB dataset\n",
    "# tmp_pwdb_df = pd.DataFrame(pwdb_df[[\"creation_date\", \"title\", \"merged_content\"]])\n",
    "# tmp_pwdb_df[\"doc_source\"] = \"pwdb\"\n",
    "\n",
    "\n",
    "# # Print only textual columns\n",
    "# pwdb_df[textual_columns]\n",
    "#\n",
    "# #Merge content of the textual columns into one new column\n",
    "# pwdb_df[\"merged_content\"] = pwdb_df[textual_columns].apply(lambda row: ' '.join(row.values.astype(str)), axis=1)\n",
    "# pwdb_df[\"merged_content\"]\n",
    "#\n",
    "# #What are the columns that shows dates\n",
    "# date_columns = [col for col in pwdb_df.columns if \"date\" in col]\n",
    "# pwdb_df[date_columns]\n",
    "#\n",
    "# # Create new dataframe with the wanted content and columns from PWDB dataset\n",
    "# tmp_pwdb_df = pd.DataFrame(pwdb_df[[\"creation_date\", \"title\", \"merged_content\"]])\n",
    "# tmp_pwdb_df[\"doc_source\"] = \"pwdb\"\n",
    "#\n",
    "# # See the newly created PWDB dataframe\n",
    "# tmp_pwdb_df"
   ],
   "metadata": {
    "collapsed": false,
    "pycharm": {
     "name": "#%%\n"
    }
   }
  },
  {
   "cell_type": "code",
   "execution_count": 234,
   "outputs": [
    {
     "data": {
      "text/plain": "Index(['work', 'title', 'cdm_types', 'cdm_type_labels', 'resource_types',\n       'resource_type_labels', 'eurovoc_concepts', 'eurovoc_concept_labels',\n       'subject_matters', 'subject_matter_labels', 'directory_codes',\n       'directory_codes_labels', 'celex_numbers', 'legal_elis', 'id_documents',\n       'same_as_uris', 'authors', 'author_labels', 'full_ojs', 'oj_sectors',\n       'internal_comments', 'is_in_force', 'dates_document', 'dates_created',\n       'legal_dates_entry_into_force', 'legal_dates_signature', 'manifs_pdf',\n       'manifs_html', 'pdfs_to_download', 'htmls_to_download', 'dossiers',\n       'related_works', 'work_sequences', 'eu_cellar_core',\n       'eu_cellar_extended', 'metadata', 'content_path', 'content', 'language',\n       'businesses', 'citizens', 'workers', 'category', 'subcategory',\n       'type_of_measure', 'funding'],\n      dtype='object')"
     },
     "execution_count": 234,
     "metadata": {},
     "output_type": "execute_result"
    }
   ],
   "source": [
    "# Print dataframe columns\n",
    "eu_cellar_df.columns\n",
    "\n"
   ],
   "metadata": {
    "collapsed": false,
    "pycharm": {
     "name": "#%%\n"
    }
   }
  },
  {
   "cell_type": "code",
   "execution_count": 315,
   "outputs": [
    {
     "ename": "KeyboardInterrupt",
     "evalue": "",
     "output_type": "error",
     "traceback": [
      "\u001B[0;31m---------------------------------------------------------------------------\u001B[0m",
      "\u001B[0;31mKeyboardInterrupt\u001B[0m                         Traceback (most recent call last)",
      "\u001B[0;32m/tmp/ipykernel_213633/3597641917.py\u001B[0m in \u001B[0;36m<module>\u001B[0;34m\u001B[0m\n\u001B[1;32m      7\u001B[0m \u001B[0meu_cellar_df\u001B[0m\u001B[0;34m[\u001B[0m\u001B[0;34m\"content\"\u001B[0m\u001B[0;34m]\u001B[0m \u001B[0;34m=\u001B[0m \u001B[0meu_cellar_df\u001B[0m\u001B[0;34m[\u001B[0m\u001B[0;34m\"title\"\u001B[0m\u001B[0;34m]\u001B[0m\u001B[0;34m.\u001B[0m\u001B[0mreplace\u001B[0m\u001B[0;34m(\u001B[0m\u001B[0;34m{\u001B[0m\u001B[0;32mNone\u001B[0m\u001B[0;34m:\u001B[0m \u001B[0;34m\" \"\u001B[0m\u001B[0;34m}\u001B[0m\u001B[0;34m)\u001B[0m \u001B[0;34m+\u001B[0m \u001B[0meu_cellar_df\u001B[0m\u001B[0;34m[\u001B[0m\u001B[0;34m\"content\"\u001B[0m\u001B[0;34m]\u001B[0m\u001B[0;34m.\u001B[0m\u001B[0mreplace\u001B[0m\u001B[0;34m(\u001B[0m\u001B[0;34m{\u001B[0m\u001B[0;32mNone\u001B[0m\u001B[0;34m:\u001B[0m \u001B[0;34m\" \"\u001B[0m\u001B[0;34m}\u001B[0m\u001B[0;34m)\u001B[0m\u001B[0;34m\u001B[0m\u001B[0;34m\u001B[0m\u001B[0m\n\u001B[1;32m      8\u001B[0m \u001B[0;31m# eu_cellar_df[\"content\"].replace({np.nan: \" \"})\u001B[0m\u001B[0;34m\u001B[0m\u001B[0;34m\u001B[0m\u001B[0;34m\u001B[0m\u001B[0m\n\u001B[0;32m----> 9\u001B[0;31m \u001B[0mmake_document_embeddings_column\u001B[0m\u001B[0;34m(\u001B[0m\u001B[0meu_cellar_df\u001B[0m\u001B[0;34m)\u001B[0m\u001B[0;34m\u001B[0m\u001B[0;34m\u001B[0m\u001B[0m\n\u001B[0m\u001B[1;32m     10\u001B[0m \u001B[0;34m\u001B[0m\u001B[0m\n\u001B[1;32m     11\u001B[0m \u001B[0;31m# create specific dataset columns\u001B[0m\u001B[0;34m\u001B[0m\u001B[0;34m\u001B[0m\u001B[0;34m\u001B[0m\u001B[0m\n",
      "\u001B[0;32m/tmp/ipykernel_213633/3578932348.py\u001B[0m in \u001B[0;36mmake_document_embeddings_column\u001B[0;34m(dataset)\u001B[0m\n\u001B[1;32m      1\u001B[0m \u001B[0;32mdef\u001B[0m \u001B[0mmake_document_embeddings_column\u001B[0m\u001B[0;34m(\u001B[0m\u001B[0mdataset\u001B[0m\u001B[0;34m:\u001B[0m \u001B[0mpd\u001B[0m\u001B[0;34m.\u001B[0m\u001B[0mDataFrame\u001B[0m\u001B[0;34m)\u001B[0m\u001B[0;34m:\u001B[0m\u001B[0;34m\u001B[0m\u001B[0;34m\u001B[0m\u001B[0m\n\u001B[0;32m----> 2\u001B[0;31m     \u001B[0mdataset\u001B[0m\u001B[0;34m[\u001B[0m\u001B[0;34m\"document_embeddings\"\u001B[0m\u001B[0;34m]\u001B[0m \u001B[0;34m=\u001B[0m \u001B[0memb_model\u001B[0m\u001B[0;34m.\u001B[0m\u001B[0mencode\u001B[0m\u001B[0;34m(\u001B[0m\u001B[0mdataset\u001B[0m\u001B[0;34m.\u001B[0m\u001B[0mcontent\u001B[0m\u001B[0;34m.\u001B[0m\u001B[0mvalues\u001B[0m\u001B[0;34m)\u001B[0m\u001B[0;34m\u001B[0m\u001B[0;34m\u001B[0m\u001B[0m\n\u001B[0m\u001B[1;32m      3\u001B[0m \u001B[0;34m\u001B[0m\u001B[0m\n\u001B[1;32m      4\u001B[0m \u001B[0;34m\u001B[0m\u001B[0m\n",
      "\u001B[0;32m~/work/sem-covid/sem_covid/adapters/embedding_models.py\u001B[0m in \u001B[0;36mencode\u001B[0;34m(self, sentences)\u001B[0m\n\u001B[1;32m    267\u001B[0m                     \u001B[0;32mwith\u001B[0m \u001B[0ma\u001B[0m \u001B[0msentence\u001B[0m \u001B[0;32min\u001B[0m \u001B[0mthe\u001B[0m \u001B[0morder\u001B[0m \u001B[0mof\u001B[0m \u001B[0mthe\u001B[0m \u001B[0minput\u001B[0m \u001B[0mlist\u001B[0m\u001B[0;34m.\u001B[0m\u001B[0;34m\u001B[0m\u001B[0;34m\u001B[0m\u001B[0m\n\u001B[1;32m    268\u001B[0m         \"\"\"\n\u001B[0;32m--> 269\u001B[0;31m         \u001B[0;32mreturn\u001B[0m \u001B[0mself\u001B[0m\u001B[0;34m.\u001B[0m\u001B[0mmodel\u001B[0m\u001B[0;34m(\u001B[0m\u001B[0msentences\u001B[0m\u001B[0;34m)\u001B[0m\u001B[0;34m.\u001B[0m\u001B[0mnumpy\u001B[0m\u001B[0;34m(\u001B[0m\u001B[0;34m)\u001B[0m\u001B[0;34m.\u001B[0m\u001B[0mtolist\u001B[0m\u001B[0;34m(\u001B[0m\u001B[0;34m)\u001B[0m\u001B[0;34m\u001B[0m\u001B[0;34m\u001B[0m\u001B[0m\n\u001B[0m\u001B[1;32m    270\u001B[0m \u001B[0;34m\u001B[0m\u001B[0m\n\u001B[1;32m    271\u001B[0m \u001B[0;34m\u001B[0m\u001B[0m\n",
      "\u001B[0;32m/opt/conda/lib/python3.8/site-packages/tensorflow/python/saved_model/load.py\u001B[0m in \u001B[0;36m_call_attribute\u001B[0;34m(instance, *args, **kwargs)\u001B[0m\n\u001B[1;32m    668\u001B[0m \u001B[0;34m\u001B[0m\u001B[0m\n\u001B[1;32m    669\u001B[0m \u001B[0;32mdef\u001B[0m \u001B[0m_call_attribute\u001B[0m\u001B[0;34m(\u001B[0m\u001B[0minstance\u001B[0m\u001B[0;34m,\u001B[0m \u001B[0;34m*\u001B[0m\u001B[0margs\u001B[0m\u001B[0;34m,\u001B[0m \u001B[0;34m**\u001B[0m\u001B[0mkwargs\u001B[0m\u001B[0;34m)\u001B[0m\u001B[0;34m:\u001B[0m\u001B[0;34m\u001B[0m\u001B[0;34m\u001B[0m\u001B[0m\n\u001B[0;32m--> 670\u001B[0;31m   \u001B[0;32mreturn\u001B[0m \u001B[0minstance\u001B[0m\u001B[0;34m.\u001B[0m\u001B[0m__call__\u001B[0m\u001B[0;34m(\u001B[0m\u001B[0;34m*\u001B[0m\u001B[0margs\u001B[0m\u001B[0;34m,\u001B[0m \u001B[0;34m**\u001B[0m\u001B[0mkwargs\u001B[0m\u001B[0;34m)\u001B[0m\u001B[0;34m\u001B[0m\u001B[0;34m\u001B[0m\u001B[0m\n\u001B[0m\u001B[1;32m    671\u001B[0m \u001B[0;34m\u001B[0m\u001B[0m\n\u001B[1;32m    672\u001B[0m \u001B[0;34m\u001B[0m\u001B[0m\n",
      "\u001B[0;32m/opt/conda/lib/python3.8/site-packages/tensorflow/python/eager/def_function.py\u001B[0m in \u001B[0;36m__call__\u001B[0;34m(self, *args, **kwds)\u001B[0m\n\u001B[1;32m    887\u001B[0m \u001B[0;34m\u001B[0m\u001B[0m\n\u001B[1;32m    888\u001B[0m       \u001B[0;32mwith\u001B[0m \u001B[0mOptionalXlaContext\u001B[0m\u001B[0;34m(\u001B[0m\u001B[0mself\u001B[0m\u001B[0;34m.\u001B[0m\u001B[0m_jit_compile\u001B[0m\u001B[0;34m)\u001B[0m\u001B[0;34m:\u001B[0m\u001B[0;34m\u001B[0m\u001B[0;34m\u001B[0m\u001B[0m\n\u001B[0;32m--> 889\u001B[0;31m         \u001B[0mresult\u001B[0m \u001B[0;34m=\u001B[0m \u001B[0mself\u001B[0m\u001B[0;34m.\u001B[0m\u001B[0m_call\u001B[0m\u001B[0;34m(\u001B[0m\u001B[0;34m*\u001B[0m\u001B[0margs\u001B[0m\u001B[0;34m,\u001B[0m \u001B[0;34m**\u001B[0m\u001B[0mkwds\u001B[0m\u001B[0;34m)\u001B[0m\u001B[0;34m\u001B[0m\u001B[0;34m\u001B[0m\u001B[0m\n\u001B[0m\u001B[1;32m    890\u001B[0m \u001B[0;34m\u001B[0m\u001B[0m\n\u001B[1;32m    891\u001B[0m       \u001B[0mnew_tracing_count\u001B[0m \u001B[0;34m=\u001B[0m \u001B[0mself\u001B[0m\u001B[0;34m.\u001B[0m\u001B[0mexperimental_get_tracing_count\u001B[0m\u001B[0;34m(\u001B[0m\u001B[0;34m)\u001B[0m\u001B[0;34m\u001B[0m\u001B[0;34m\u001B[0m\u001B[0m\n",
      "\u001B[0;32m/opt/conda/lib/python3.8/site-packages/tensorflow/python/eager/def_function.py\u001B[0m in \u001B[0;36m_call\u001B[0;34m(self, *args, **kwds)\u001B[0m\n\u001B[1;32m    922\u001B[0m       \u001B[0;31m# In this case we have not created variables on the first call. So we can\u001B[0m\u001B[0;34m\u001B[0m\u001B[0;34m\u001B[0m\u001B[0;34m\u001B[0m\u001B[0m\n\u001B[1;32m    923\u001B[0m       \u001B[0;31m# run the first trace but we should fail if variables are created.\u001B[0m\u001B[0;34m\u001B[0m\u001B[0;34m\u001B[0m\u001B[0;34m\u001B[0m\u001B[0m\n\u001B[0;32m--> 924\u001B[0;31m       \u001B[0mresults\u001B[0m \u001B[0;34m=\u001B[0m \u001B[0mself\u001B[0m\u001B[0;34m.\u001B[0m\u001B[0m_stateful_fn\u001B[0m\u001B[0;34m(\u001B[0m\u001B[0;34m*\u001B[0m\u001B[0margs\u001B[0m\u001B[0;34m,\u001B[0m \u001B[0;34m**\u001B[0m\u001B[0mkwds\u001B[0m\u001B[0;34m)\u001B[0m\u001B[0;34m\u001B[0m\u001B[0;34m\u001B[0m\u001B[0m\n\u001B[0m\u001B[1;32m    925\u001B[0m       \u001B[0;32mif\u001B[0m \u001B[0mself\u001B[0m\u001B[0;34m.\u001B[0m\u001B[0m_created_variables\u001B[0m\u001B[0;34m:\u001B[0m\u001B[0;34m\u001B[0m\u001B[0;34m\u001B[0m\u001B[0m\n\u001B[1;32m    926\u001B[0m         raise ValueError(\"Creating variables on a non-first call to a function\"\n",
      "\u001B[0;32m/opt/conda/lib/python3.8/site-packages/tensorflow/python/eager/function.py\u001B[0m in \u001B[0;36m__call__\u001B[0;34m(self, *args, **kwargs)\u001B[0m\n\u001B[1;32m   3021\u001B[0m       (graph_function,\n\u001B[1;32m   3022\u001B[0m        filtered_flat_args) = self._maybe_define_function(args, kwargs)\n\u001B[0;32m-> 3023\u001B[0;31m     return graph_function._call_flat(\n\u001B[0m\u001B[1;32m   3024\u001B[0m         filtered_flat_args, captured_inputs=graph_function.captured_inputs)  # pylint: disable=protected-access\n\u001B[1;32m   3025\u001B[0m \u001B[0;34m\u001B[0m\u001B[0m\n",
      "\u001B[0;32m/opt/conda/lib/python3.8/site-packages/tensorflow/python/eager/function.py\u001B[0m in \u001B[0;36m_call_flat\u001B[0;34m(self, args, captured_inputs, cancellation_manager)\u001B[0m\n\u001B[1;32m   1958\u001B[0m         and executing_eagerly):\n\u001B[1;32m   1959\u001B[0m       \u001B[0;31m# No tape is watching; skip to running the function.\u001B[0m\u001B[0;34m\u001B[0m\u001B[0;34m\u001B[0m\u001B[0;34m\u001B[0m\u001B[0m\n\u001B[0;32m-> 1960\u001B[0;31m       return self._build_call_outputs(self._inference_function.call(\n\u001B[0m\u001B[1;32m   1961\u001B[0m           ctx, args, cancellation_manager=cancellation_manager))\n\u001B[1;32m   1962\u001B[0m     forward_backward = self._select_forward_and_backward_functions(\n",
      "\u001B[0;32m/opt/conda/lib/python3.8/site-packages/tensorflow/python/eager/function.py\u001B[0m in \u001B[0;36mcall\u001B[0;34m(self, ctx, args, cancellation_manager)\u001B[0m\n\u001B[1;32m    589\u001B[0m       \u001B[0;32mwith\u001B[0m \u001B[0m_InterpolateFunctionError\u001B[0m\u001B[0;34m(\u001B[0m\u001B[0mself\u001B[0m\u001B[0;34m)\u001B[0m\u001B[0;34m:\u001B[0m\u001B[0;34m\u001B[0m\u001B[0;34m\u001B[0m\u001B[0m\n\u001B[1;32m    590\u001B[0m         \u001B[0;32mif\u001B[0m \u001B[0mcancellation_manager\u001B[0m \u001B[0;32mis\u001B[0m \u001B[0;32mNone\u001B[0m\u001B[0;34m:\u001B[0m\u001B[0;34m\u001B[0m\u001B[0;34m\u001B[0m\u001B[0m\n\u001B[0;32m--> 591\u001B[0;31m           outputs = execute.execute(\n\u001B[0m\u001B[1;32m    592\u001B[0m               \u001B[0mstr\u001B[0m\u001B[0;34m(\u001B[0m\u001B[0mself\u001B[0m\u001B[0;34m.\u001B[0m\u001B[0msignature\u001B[0m\u001B[0;34m.\u001B[0m\u001B[0mname\u001B[0m\u001B[0;34m)\u001B[0m\u001B[0;34m,\u001B[0m\u001B[0;34m\u001B[0m\u001B[0;34m\u001B[0m\u001B[0m\n\u001B[1;32m    593\u001B[0m               \u001B[0mnum_outputs\u001B[0m\u001B[0;34m=\u001B[0m\u001B[0mself\u001B[0m\u001B[0;34m.\u001B[0m\u001B[0m_num_outputs\u001B[0m\u001B[0;34m,\u001B[0m\u001B[0;34m\u001B[0m\u001B[0;34m\u001B[0m\u001B[0m\n",
      "\u001B[0;32m/opt/conda/lib/python3.8/site-packages/tensorflow/python/eager/execute.py\u001B[0m in \u001B[0;36mquick_execute\u001B[0;34m(op_name, num_outputs, inputs, attrs, ctx, name)\u001B[0m\n\u001B[1;32m     57\u001B[0m   \u001B[0;32mtry\u001B[0m\u001B[0;34m:\u001B[0m\u001B[0;34m\u001B[0m\u001B[0;34m\u001B[0m\u001B[0m\n\u001B[1;32m     58\u001B[0m     \u001B[0mctx\u001B[0m\u001B[0;34m.\u001B[0m\u001B[0mensure_initialized\u001B[0m\u001B[0;34m(\u001B[0m\u001B[0;34m)\u001B[0m\u001B[0;34m\u001B[0m\u001B[0;34m\u001B[0m\u001B[0m\n\u001B[0;32m---> 59\u001B[0;31m     tensors = pywrap_tfe.TFE_Py_Execute(ctx._handle, device_name, op_name,\n\u001B[0m\u001B[1;32m     60\u001B[0m                                         inputs, attrs, num_outputs)\n\u001B[1;32m     61\u001B[0m   \u001B[0;32mexcept\u001B[0m \u001B[0mcore\u001B[0m\u001B[0;34m.\u001B[0m\u001B[0m_NotOkStatusException\u001B[0m \u001B[0;32mas\u001B[0m \u001B[0me\u001B[0m\u001B[0;34m:\u001B[0m\u001B[0;34m\u001B[0m\u001B[0;34m\u001B[0m\u001B[0m\n",
      "\u001B[0;31mKeyboardInterrupt\u001B[0m: "
     ]
    }
   ],
   "source": [
    "# create columns\n",
    "create_new_column_with_defined_value(eu_cellar_df,\"doc_source\", \"ds_eu_cellar\")\n",
    "create_new_column_with_defined_value(eu_cellar_df,\"country\", \"European Union\")\n",
    "create_new_column_with_defined_value(eu_cellar_df,\"pwdb_actors\", \"EU (Council, EC, EP)\")\n",
    "make_target_group_l1_column(eu_cellar_df)\n",
    "eu_cellar_df[\"date\"] = eu_cellar_df[\"dates_document\"]\n",
    "eu_cellar_df[\"content\"] = eu_cellar_df[\"title\"].replace({None: \" \"}) + eu_cellar_df[\"content\"].replace({None: \" \"})\n",
    "# eu_cellar_df[\"content\"].replace({np.nan: \" \"})\n",
    "make_document_embeddings_column(eu_cellar_df)\n",
    "\n",
    "# create specific dataset columns\n",
    "\n",
    "for column in SPECIFIC_DATASET_COLUMNS:\n",
    "    create_new_column_with_defined_value(eu_cellar_df,column_name=column,empty_array=True)\n",
    "\n",
    "eu_cellar_df[SPECIFIC_DATASET_COLUMNS]\n"
   ],
   "metadata": {
    "collapsed": false,
    "pycharm": {
     "name": "#%%\n"
    }
   }
  },
  {
   "cell_type": "code",
   "execution_count": 311,
   "outputs": [
    {
     "data": {
      "text/plain": "                        eu_cellar_subject_matter_labels  \\\n_id                                                       \n0     [Competition, Concentrations between undertaki...   \n1                          [Commercial policy, Dumping]   \n2     [Freedom of establishment, Internal market - P...   \n3                                     [Economic policy]   \n4     [Area of freedom, security and justice, Border...   \n...                                                 ...   \n3170                                                 []   \n3171                                                 []   \n3172                                                 []   \n3173  [Public health, Research and technological dev...   \n3174                                                 []   \n\n     eu_cellar_resource_type_labels eu_cellar_directory_code_labels  \\\n_id                                                                   \n0                   [Announcements]                              []   \n1          [Staff working document]                              []   \n2          [Legislative resolution]                              []   \n3                         [Opinion]                              []   \n4                  [Recommendation]                              []   \n...                             ...                             ...   \n3170         [Judicial information]                              []   \n3171                [Announcements]                              []   \n3172      [Corrigendum, Regulation]                              []   \n3173                   [Resolution]                              []   \n3174      [Proposal for a decision]                              []   \n\n                                eu_cellar_author_labels pwdb_target_group_l2  \\\n_id                                                                            \n0     [Directorate-General for Competition, European...                   []   \n1     [Directorate-General for Trade, European Commi...                   []   \n2     [Committee on Economic and Monetary Affairs, E...                   []   \n3                          [European Court of Auditors]                   []   \n4                       [Council of the European Union]                   []   \n...                                                 ...                  ...   \n3170                                 [Court of Justice]                   []   \n3171  [Directorate-General for Research and Innovati...                   []   \n3172  [Directorate-General for Translation, European...                   []   \n3173      [Committee on Petitions, European Parliament]                   []   \n3174  [Directorate-General for Mobility and Transpor...                   []   \n\n     ireland_keyword ireland_department_data ireland_campaign  \\\n_id                                                             \n0                 []                      []               []   \n1                 []                      []               []   \n2                 []                      []               []   \n3                 []                      []               []   \n4                 []                      []               []   \n...              ...                     ...              ...   \n3170              []                      []               []   \n3171              []                      []               []   \n3172              []                      []               []   \n3173              []                      []               []   \n3174              []                      []               []   \n\n     ireland_page_type eu_timeline_topic  \n_id                                       \n0                   []                []  \n1                   []                []  \n2                   []                []  \n3                   []                []  \n4                   []                []  \n...                ...               ...  \n3170                []                []  \n3171                []                []  \n3172                []                []  \n3173                []                []  \n3174                []                []  \n\n[3175 rows x 10 columns]",
      "text/html": "<div>\n<style scoped>\n    .dataframe tbody tr th:only-of-type {\n        vertical-align: middle;\n    }\n\n    .dataframe tbody tr th {\n        vertical-align: top;\n    }\n\n    .dataframe thead th {\n        text-align: right;\n    }\n</style>\n<table border=\"1\" class=\"dataframe\">\n  <thead>\n    <tr style=\"text-align: right;\">\n      <th></th>\n      <th>eu_cellar_subject_matter_labels</th>\n      <th>eu_cellar_resource_type_labels</th>\n      <th>eu_cellar_directory_code_labels</th>\n      <th>eu_cellar_author_labels</th>\n      <th>pwdb_target_group_l2</th>\n      <th>ireland_keyword</th>\n      <th>ireland_department_data</th>\n      <th>ireland_campaign</th>\n      <th>ireland_page_type</th>\n      <th>eu_timeline_topic</th>\n    </tr>\n    <tr>\n      <th>_id</th>\n      <th></th>\n      <th></th>\n      <th></th>\n      <th></th>\n      <th></th>\n      <th></th>\n      <th></th>\n      <th></th>\n      <th></th>\n      <th></th>\n    </tr>\n  </thead>\n  <tbody>\n    <tr>\n      <th>0</th>\n      <td>[Competition, Concentrations between undertaki...</td>\n      <td>[Announcements]</td>\n      <td>[]</td>\n      <td>[Directorate-General for Competition, European...</td>\n      <td>[]</td>\n      <td>[]</td>\n      <td>[]</td>\n      <td>[]</td>\n      <td>[]</td>\n      <td>[]</td>\n    </tr>\n    <tr>\n      <th>1</th>\n      <td>[Commercial policy, Dumping]</td>\n      <td>[Staff working document]</td>\n      <td>[]</td>\n      <td>[Directorate-General for Trade, European Commi...</td>\n      <td>[]</td>\n      <td>[]</td>\n      <td>[]</td>\n      <td>[]</td>\n      <td>[]</td>\n      <td>[]</td>\n    </tr>\n    <tr>\n      <th>2</th>\n      <td>[Freedom of establishment, Internal market - P...</td>\n      <td>[Legislative resolution]</td>\n      <td>[]</td>\n      <td>[Committee on Economic and Monetary Affairs, E...</td>\n      <td>[]</td>\n      <td>[]</td>\n      <td>[]</td>\n      <td>[]</td>\n      <td>[]</td>\n      <td>[]</td>\n    </tr>\n    <tr>\n      <th>3</th>\n      <td>[Economic policy]</td>\n      <td>[Opinion]</td>\n      <td>[]</td>\n      <td>[European Court of Auditors]</td>\n      <td>[]</td>\n      <td>[]</td>\n      <td>[]</td>\n      <td>[]</td>\n      <td>[]</td>\n      <td>[]</td>\n    </tr>\n    <tr>\n      <th>4</th>\n      <td>[Area of freedom, security and justice, Border...</td>\n      <td>[Recommendation]</td>\n      <td>[]</td>\n      <td>[Council of the European Union]</td>\n      <td>[]</td>\n      <td>[]</td>\n      <td>[]</td>\n      <td>[]</td>\n      <td>[]</td>\n      <td>[]</td>\n    </tr>\n    <tr>\n      <th>...</th>\n      <td>...</td>\n      <td>...</td>\n      <td>...</td>\n      <td>...</td>\n      <td>...</td>\n      <td>...</td>\n      <td>...</td>\n      <td>...</td>\n      <td>...</td>\n      <td>...</td>\n    </tr>\n    <tr>\n      <th>3170</th>\n      <td>[]</td>\n      <td>[Judicial information]</td>\n      <td>[]</td>\n      <td>[Court of Justice]</td>\n      <td>[]</td>\n      <td>[]</td>\n      <td>[]</td>\n      <td>[]</td>\n      <td>[]</td>\n      <td>[]</td>\n    </tr>\n    <tr>\n      <th>3171</th>\n      <td>[]</td>\n      <td>[Announcements]</td>\n      <td>[]</td>\n      <td>[Directorate-General for Research and Innovati...</td>\n      <td>[]</td>\n      <td>[]</td>\n      <td>[]</td>\n      <td>[]</td>\n      <td>[]</td>\n      <td>[]</td>\n    </tr>\n    <tr>\n      <th>3172</th>\n      <td>[]</td>\n      <td>[Corrigendum, Regulation]</td>\n      <td>[]</td>\n      <td>[Directorate-General for Translation, European...</td>\n      <td>[]</td>\n      <td>[]</td>\n      <td>[]</td>\n      <td>[]</td>\n      <td>[]</td>\n      <td>[]</td>\n    </tr>\n    <tr>\n      <th>3173</th>\n      <td>[Public health, Research and technological dev...</td>\n      <td>[Resolution]</td>\n      <td>[]</td>\n      <td>[Committee on Petitions, European Parliament]</td>\n      <td>[]</td>\n      <td>[]</td>\n      <td>[]</td>\n      <td>[]</td>\n      <td>[]</td>\n      <td>[]</td>\n    </tr>\n    <tr>\n      <th>3174</th>\n      <td>[]</td>\n      <td>[Proposal for a decision]</td>\n      <td>[]</td>\n      <td>[Directorate-General for Mobility and Transpor...</td>\n      <td>[]</td>\n      <td>[]</td>\n      <td>[]</td>\n      <td>[]</td>\n      <td>[]</td>\n      <td>[]</td>\n    </tr>\n  </tbody>\n</table>\n<p>3175 rows × 10 columns</p>\n</div>"
     },
     "execution_count": 311,
     "metadata": {},
     "output_type": "execute_result"
    }
   ],
   "source": [
    "eu_cellar_specific_columns = [\"subject_matter_labels\",\n",
    "                              \"resource_type_labels\",\n",
    "                              \"directory_codes_labels\",\n",
    "                              \"author_labels\"]\n",
    "for column_name in eu_cellar_specific_columns:\n",
    "    eu_cellar_df[\"eu_cellar_\" + column_name] = eu_cellar_df[column_name]\n",
    "    eu_cellar_df[\"eu_cellar_\" + column_name] = eu_cellar_df[\"eu_cellar_\" + column_name].apply(lambda x: x if x else [])\n"
   ],
   "metadata": {
    "collapsed": false,
    "pycharm": {
     "name": "#%%\n"
    }
   }
  },
  {
   "cell_type": "code",
   "execution_count": 316,
   "outputs": [
    {
     "ename": "KeyError",
     "evalue": "\"['pwdb_category', 'pwdb_funding', 'pwdb_type_of_measure'] not in index\"",
     "output_type": "error",
     "traceback": [
      "\u001B[0;31m---------------------------------------------------------------------------\u001B[0m",
      "\u001B[0;31mKeyError\u001B[0m                                  Traceback (most recent call last)",
      "\u001B[0;32m/tmp/ipykernel_213633/1939698405.py\u001B[0m in \u001B[0;36m<module>\u001B[0;34m\u001B[0m\n\u001B[0;32m----> 1\u001B[0;31m \u001B[0mtmp_eu_cellar_df\u001B[0m \u001B[0;34m=\u001B[0m \u001B[0mpd\u001B[0m\u001B[0;34m.\u001B[0m\u001B[0mDataFrame\u001B[0m\u001B[0;34m(\u001B[0m\u001B[0meu_cellar_df\u001B[0m\u001B[0;34m[\u001B[0m\u001B[0mCOMMON_DATASET_COLUMNS\u001B[0m \u001B[0;34m+\u001B[0m \u001B[0mSPECIFIC_DATASET_COLUMNS\u001B[0m\u001B[0;34m]\u001B[0m\u001B[0;34m)\u001B[0m\u001B[0;34m\u001B[0m\u001B[0;34m\u001B[0m\u001B[0m\n\u001B[0m\u001B[1;32m      2\u001B[0m \u001B[0;34m\u001B[0m\u001B[0m\n",
      "\u001B[0;32m/opt/conda/lib/python3.8/site-packages/pandas/core/frame.py\u001B[0m in \u001B[0;36m__getitem__\u001B[0;34m(self, key)\u001B[0m\n\u001B[1;32m   3459\u001B[0m         \u001B[0;34m>>\u001B[0m\u001B[0;34m>\u001B[0m \u001B[0mdf\u001B[0m\u001B[0;34m[\u001B[0m\u001B[0mdf\u001B[0m\u001B[0;34m.\u001B[0m\u001B[0mB\u001B[0m \u001B[0;34m==\u001B[0m \u001B[0mdf\u001B[0m\u001B[0;34m[\u001B[0m\u001B[0;34m'C C'\u001B[0m\u001B[0;34m]\u001B[0m\u001B[0;34m]\u001B[0m\u001B[0;34m\u001B[0m\u001B[0;34m\u001B[0m\u001B[0m\n\u001B[1;32m   3460\u001B[0m            \u001B[0mA\u001B[0m   \u001B[0mB\u001B[0m  \u001B[0mC\u001B[0m \u001B[0mC\u001B[0m\u001B[0;34m\u001B[0m\u001B[0;34m\u001B[0m\u001B[0m\n\u001B[0;32m-> 3461\u001B[0;31m         \u001B[0;36m0\u001B[0m  \u001B[0;36m1\u001B[0m  \u001B[0;36m10\u001B[0m   \u001B[0;36m10\u001B[0m\u001B[0;34m\u001B[0m\u001B[0;34m\u001B[0m\u001B[0m\n\u001B[0m\u001B[1;32m   3462\u001B[0m         \"\"\"\n\u001B[1;32m   3463\u001B[0m         \u001B[0minplace\u001B[0m \u001B[0;34m=\u001B[0m \u001B[0mvalidate_bool_kwarg\u001B[0m\u001B[0;34m(\u001B[0m\u001B[0minplace\u001B[0m\u001B[0;34m,\u001B[0m \u001B[0;34m\"inplace\"\u001B[0m\u001B[0;34m)\u001B[0m\u001B[0;34m\u001B[0m\u001B[0;34m\u001B[0m\u001B[0m\n",
      "\u001B[0;32m/opt/conda/lib/python3.8/site-packages/pandas/core/indexing.py\u001B[0m in \u001B[0;36m_get_listlike_indexer\u001B[0;34m(self, key, axis)\u001B[0m\n\u001B[1;32m   1312\u001B[0m             \u001B[0;31m# We (temporarily) allow for some missing keys with .loc, except in\u001B[0m\u001B[0;34m\u001B[0m\u001B[0;34m\u001B[0m\u001B[0;34m\u001B[0m\u001B[0m\n\u001B[1;32m   1313\u001B[0m             \u001B[0;31m# some cases (e.g. setting) in which \"raise_missing\" will be False\u001B[0m\u001B[0;34m\u001B[0m\u001B[0;34m\u001B[0m\u001B[0;34m\u001B[0m\u001B[0m\n\u001B[0;32m-> 1314\u001B[0;31m             \u001B[0;32mif\u001B[0m \u001B[0mraise_missing\u001B[0m\u001B[0;34m:\u001B[0m\u001B[0;34m\u001B[0m\u001B[0;34m\u001B[0m\u001B[0m\n\u001B[0m\u001B[1;32m   1315\u001B[0m                 \u001B[0mnot_found\u001B[0m \u001B[0;34m=\u001B[0m \u001B[0mlist\u001B[0m\u001B[0;34m(\u001B[0m\u001B[0mset\u001B[0m\u001B[0;34m(\u001B[0m\u001B[0mkey\u001B[0m\u001B[0;34m)\u001B[0m \u001B[0;34m-\u001B[0m \u001B[0mset\u001B[0m\u001B[0;34m(\u001B[0m\u001B[0max\u001B[0m\u001B[0;34m)\u001B[0m\u001B[0;34m)\u001B[0m\u001B[0;34m\u001B[0m\u001B[0;34m\u001B[0m\u001B[0m\n\u001B[1;32m   1316\u001B[0m                 \u001B[0;32mraise\u001B[0m \u001B[0mKeyError\u001B[0m\u001B[0;34m(\u001B[0m\u001B[0;34mf\"{not_found} not in index\"\u001B[0m\u001B[0;34m)\u001B[0m\u001B[0;34m\u001B[0m\u001B[0;34m\u001B[0m\u001B[0m\n",
      "\u001B[0;32m/opt/conda/lib/python3.8/site-packages/pandas/core/indexing.py\u001B[0m in \u001B[0;36m_validate_read_indexer\u001B[0;34m(self, key, indexer, axis)\u001B[0m\n\u001B[1;32m   1375\u001B[0m             \u001B[0;32mraise\u001B[0m \u001B[0mValueError\u001B[0m\u001B[0;34m(\u001B[0m\u001B[0;34mf\"Can only index by location with a [{self._valid_types}]\"\u001B[0m\u001B[0;34m)\u001B[0m\u001B[0;34m\u001B[0m\u001B[0;34m\u001B[0m\u001B[0m\n\u001B[1;32m   1376\u001B[0m \u001B[0;34m\u001B[0m\u001B[0m\n\u001B[0;32m-> 1377\u001B[0;31m     \u001B[0;32mdef\u001B[0m \u001B[0m_has_valid_setitem_indexer\u001B[0m\u001B[0;34m(\u001B[0m\u001B[0mself\u001B[0m\u001B[0;34m,\u001B[0m \u001B[0mindexer\u001B[0m\u001B[0;34m)\u001B[0m \u001B[0;34m->\u001B[0m \u001B[0mbool\u001B[0m\u001B[0;34m:\u001B[0m\u001B[0;34m\u001B[0m\u001B[0;34m\u001B[0m\u001B[0m\n\u001B[0m\u001B[1;32m   1378\u001B[0m         \"\"\"\n\u001B[1;32m   1379\u001B[0m         \u001B[0mValidate\u001B[0m \u001B[0mthat\u001B[0m \u001B[0ma\u001B[0m \u001B[0mpositional\u001B[0m \u001B[0mindexer\u001B[0m \u001B[0mcannot\u001B[0m \u001B[0menlarge\u001B[0m \u001B[0mits\u001B[0m \u001B[0mtarget\u001B[0m\u001B[0;34m\u001B[0m\u001B[0;34m\u001B[0m\u001B[0m\n",
      "\u001B[0;31mKeyError\u001B[0m: \"['pwdb_category', 'pwdb_funding', 'pwdb_type_of_measure'] not in index\""
     ]
    }
   ],
   "source": [
    "tmp_eu_cellar_df = pd.DataFrame(eu_cellar_df[COMMON_DATASET_COLUMNS + SPECIFIC_DATASET_COLUMNS])"
   ],
   "metadata": {
    "collapsed": false,
    "pycharm": {
     "name": "#%%\n"
    }
   }
  },
  {
   "cell_type": "code",
   "execution_count": 314,
   "outputs": [
    {
     "data": {
      "text/plain": "_id\n0       [Competition, Concentrations between undertaki...\n1                            [Commercial policy, Dumping]\n2       [Freedom of establishment, Internal market - P...\n3                                       [Economic policy]\n4       [Area of freedom, security and justice, Border...\n                              ...                        \n3170                                                   []\n3171                                                   []\n3172                                                   []\n3173    [Public health, Research and technological dev...\n3174                                                   []\nName: eu_cellar_subject_matter_labels, Length: 3175, dtype: object"
     },
     "execution_count": 314,
     "metadata": {},
     "output_type": "execute_result"
    }
   ],
   "source": [],
   "metadata": {
    "collapsed": false,
    "pycharm": {
     "name": "#%%\n"
    }
   }
  },
  {
   "cell_type": "code",
   "execution_count": null,
   "outputs": [],
   "source": [
    "# Verify if the new version has all the necessary columns\n",
    "if tmp_eu_cellar_df.columns.tolist() == COMMON_DATASET_COLUMNS + SPECIFIC_DATASET_COLUMNS:\n",
    "    print(\"ready for merge\")\n",
    "else:\n",
    "    raise ValueError(\"Some columns are missing!! Not ready for merge\")\n"
   ],
   "metadata": {
    "collapsed": false,
    "pycharm": {
     "name": "#%%\n"
    }
   }
  },
  {
   "cell_type": "code",
   "execution_count": 242,
   "outputs": [
    {
     "data": {
      "text/plain": "     dates_document dates_created legal_dates_entry_into_force  \\\n_id                                                              \n0        2020-01-30          None                         None   \n1        2021-08-30          None                         None   \n2        2020-06-18          None                         None   \n3        2020-09-07          None                         None   \n4        2021-05-20          None                         None   \n...             ...           ...                          ...   \n3170     2020-12-10          None                         None   \n3171     2021-02-24          None                         None   \n3172     2020-12-29          None                         None   \n3173     2020-06-18          None                         None   \n3174     2020-12-11          None                         None   \n\n     legal_dates_signature  \n_id                         \n0                     None  \n1                     None  \n2                     None  \n3                     None  \n4                     None  \n...                    ...  \n3170                  None  \n3171                  None  \n3172                  None  \n3173                  None  \n3174                  None  \n\n[3175 rows x 4 columns]",
      "text/html": "<div>\n<style scoped>\n    .dataframe tbody tr th:only-of-type {\n        vertical-align: middle;\n    }\n\n    .dataframe tbody tr th {\n        vertical-align: top;\n    }\n\n    .dataframe thead th {\n        text-align: right;\n    }\n</style>\n<table border=\"1\" class=\"dataframe\">\n  <thead>\n    <tr style=\"text-align: right;\">\n      <th></th>\n      <th>dates_document</th>\n      <th>dates_created</th>\n      <th>legal_dates_entry_into_force</th>\n      <th>legal_dates_signature</th>\n    </tr>\n    <tr>\n      <th>_id</th>\n      <th></th>\n      <th></th>\n      <th></th>\n      <th></th>\n    </tr>\n  </thead>\n  <tbody>\n    <tr>\n      <th>0</th>\n      <td>2020-01-30</td>\n      <td>None</td>\n      <td>None</td>\n      <td>None</td>\n    </tr>\n    <tr>\n      <th>1</th>\n      <td>2021-08-30</td>\n      <td>None</td>\n      <td>None</td>\n      <td>None</td>\n    </tr>\n    <tr>\n      <th>2</th>\n      <td>2020-06-18</td>\n      <td>None</td>\n      <td>None</td>\n      <td>None</td>\n    </tr>\n    <tr>\n      <th>3</th>\n      <td>2020-09-07</td>\n      <td>None</td>\n      <td>None</td>\n      <td>None</td>\n    </tr>\n    <tr>\n      <th>4</th>\n      <td>2021-05-20</td>\n      <td>None</td>\n      <td>None</td>\n      <td>None</td>\n    </tr>\n    <tr>\n      <th>...</th>\n      <td>...</td>\n      <td>...</td>\n      <td>...</td>\n      <td>...</td>\n    </tr>\n    <tr>\n      <th>3170</th>\n      <td>2020-12-10</td>\n      <td>None</td>\n      <td>None</td>\n      <td>None</td>\n    </tr>\n    <tr>\n      <th>3171</th>\n      <td>2021-02-24</td>\n      <td>None</td>\n      <td>None</td>\n      <td>None</td>\n    </tr>\n    <tr>\n      <th>3172</th>\n      <td>2020-12-29</td>\n      <td>None</td>\n      <td>None</td>\n      <td>None</td>\n    </tr>\n    <tr>\n      <th>3173</th>\n      <td>2020-06-18</td>\n      <td>None</td>\n      <td>None</td>\n      <td>None</td>\n    </tr>\n    <tr>\n      <th>3174</th>\n      <td>2020-12-11</td>\n      <td>None</td>\n      <td>None</td>\n      <td>None</td>\n    </tr>\n  </tbody>\n</table>\n<p>3175 rows × 4 columns</p>\n</div>"
     },
     "execution_count": 242,
     "metadata": {},
     "output_type": "execute_result"
    }
   ],
   "source": [
    "#What are the columns that shows dates\n",
    "date_colums = [col for col in eu_cellar_df.columns if \"date\" in col]\n",
    "eu_cellar_df[date_colums]\n"
   ],
   "metadata": {
    "collapsed": false,
    "pycharm": {
     "name": "#%%\n"
    }
   }
  },
  {
   "cell_type": "code",
   "execution_count": 13,
   "outputs": [],
   "source": [
    "# Create new dataframe with the wanted content and columns from Cellar dataset\n",
    "tmp_cellar_df = pd.DataFrame(eu_cellar_df[[\"dates_document\", \"title\", \"content\"]])\n",
    "tmp_cellar_df[\"doc_source\"] = \"eu_cellar\""
   ],
   "metadata": {
    "collapsed": false,
    "pycharm": {
     "name": "#%%\n"
    }
   }
  },
  {
   "cell_type": "code",
   "execution_count": 14,
   "outputs": [
    {
     "data": {
      "text/plain": "                                                   dates_document  \\\n_id                                                                 \n0e3d35dcad11d1d80f8fb1c35599be27fb3e864874ab1ac...     2020-01-30   \n39dac43e4fffa3fc60906f3563e4d1547aea4a0f94e17cd...     2021-08-30   \n00f65d205b8df943ae8acbd34b729c3da11da1646e7e324...     2020-06-18   \n002086bd15c9aba8b8b3cdf88498e25735cf66043ddab88...     2020-09-07   \n014589ceb95203c13ee4bd097ddf2f164657cb6aeb1650d...     2021-05-20   \n...                                                           ...   \n5d1566cde8e0ff00d5e907e551d9202c714e320039c2960...     2020-12-10   \nf63ec4df58c38a804c983d295869f22e89515ef32c68684...     2021-02-24   \n5c798a5a6aeb16a370e018faa10f1f79ce040d1adc8e0a2...     2020-12-29   \nf6334c565e8ab7de7306c50e94d8ef10c6cf38e8d39dc7d...     2020-06-18   \n5d09ed98966478b63e7e45ca3a1f2d2f88479f4034873b7...     2020-12-11   \n\n                                                                                                title  \\\n_id                                                                                                     \n0e3d35dcad11d1d80f8fb1c35599be27fb3e864874ab1ac...  Prior notification of a concentration (Case M....   \n39dac43e4fffa3fc60906f3563e4d1547aea4a0f94e17cd...  COMMISSION STAFF WORKING DOCUMENT […] Accompan...   \n00f65d205b8df943ae8acbd34b729c3da11da1646e7e324...  P9_TA(2020)0157 Amending Regulations (EU) No 5...   \n002086bd15c9aba8b8b3cdf88498e25735cf66043ddab88...  Opinion No 6/2020 (pursuant to Article 287(4) ...   \n014589ceb95203c13ee4bd097ddf2f164657cb6aeb1650d...  Council Recommendation (EU) 2021/816 20 May 20...   \n...                                                                                               ...   \n5d1566cde8e0ff00d5e907e551d9202c714e320039c2960...  Case C-774/19: Judgment of the Court (Sixth Ch...   \nf63ec4df58c38a804c983d295869f22e89515ef32c68684...  Calls for proposals and related activities und...   \n5c798a5a6aeb16a370e018faa10f1f79ce040d1adc8e0a2...                                               None   \nf6334c565e8ab7de7306c50e94d8ef10c6cf38e8d39dc7d...  European Parliament resolution of 18 June 2020...   \n5d09ed98966478b63e7e45ca3a1f2d2f88479f4034873b7...  Proposal for a COUNCIL DECISION on the positio...   \n\n                                                                                              content  \\\n_id                                                                                                     \n0e3d35dcad11d1d80f8fb1c35599be27fb3e864874ab1ac...  30.1.2020 EN Official Journal of the European ...   \n39dac43e4fffa3fc60906f3563e4d1547aea4a0f94e17cd...  EUROPEAN COMMISSION Brussels, 30.8.2021 SWD(20...   \n00f65d205b8df943ae8acbd34b729c3da11da1646e7e324...  8.9.2021 EN Official Journal of the European U...   \n002086bd15c9aba8b8b3cdf88498e25735cf66043ddab88...  20.10.2020 EN Official Journal of the European...   \n014589ceb95203c13ee4bd097ddf2f164657cb6aeb1650d...  21.5.2021 EN Official Journal of the European ...   \n...                                                                                               ...   \n5d1566cde8e0ff00d5e907e551d9202c714e320039c2960...  15.2.2021 EN Official Journal of the European ...   \nf63ec4df58c38a804c983d295869f22e89515ef32c68684...  24.2.2021 EN Official Journal of the European ...   \n5c798a5a6aeb16a370e018faa10f1f79ce040d1adc8e0a2...                                                      \nf6334c565e8ab7de7306c50e94d8ef10c6cf38e8d39dc7d...  8.9.2021 EN Official Journal of the European U...   \n5d09ed98966478b63e7e45ca3a1f2d2f88479f4034873b7...  EUROPEAN COMMISSION Brussels, 11.12.2020 COM(2...   \n\n                                                   doc_source  \n_id                                                            \n0e3d35dcad11d1d80f8fb1c35599be27fb3e864874ab1ac...  eu_cellar  \n39dac43e4fffa3fc60906f3563e4d1547aea4a0f94e17cd...  eu_cellar  \n00f65d205b8df943ae8acbd34b729c3da11da1646e7e324...  eu_cellar  \n002086bd15c9aba8b8b3cdf88498e25735cf66043ddab88...  eu_cellar  \n014589ceb95203c13ee4bd097ddf2f164657cb6aeb1650d...  eu_cellar  \n...                                                       ...  \n5d1566cde8e0ff00d5e907e551d9202c714e320039c2960...  eu_cellar  \nf63ec4df58c38a804c983d295869f22e89515ef32c68684...  eu_cellar  \n5c798a5a6aeb16a370e018faa10f1f79ce040d1adc8e0a2...  eu_cellar  \nf6334c565e8ab7de7306c50e94d8ef10c6cf38e8d39dc7d...  eu_cellar  \n5d09ed98966478b63e7e45ca3a1f2d2f88479f4034873b7...  eu_cellar  \n\n[3175 rows x 4 columns]",
      "text/html": "<div>\n<style scoped>\n    .dataframe tbody tr th:only-of-type {\n        vertical-align: middle;\n    }\n\n    .dataframe tbody tr th {\n        vertical-align: top;\n    }\n\n    .dataframe thead th {\n        text-align: right;\n    }\n</style>\n<table border=\"1\" class=\"dataframe\">\n  <thead>\n    <tr style=\"text-align: right;\">\n      <th></th>\n      <th>dates_document</th>\n      <th>title</th>\n      <th>content</th>\n      <th>doc_source</th>\n    </tr>\n    <tr>\n      <th>_id</th>\n      <th></th>\n      <th></th>\n      <th></th>\n      <th></th>\n    </tr>\n  </thead>\n  <tbody>\n    <tr>\n      <th>0e3d35dcad11d1d80f8fb1c35599be27fb3e864874ab1ac679fcd004723bc2e3</th>\n      <td>2020-01-30</td>\n      <td>Prior notification of a concentration (Case M....</td>\n      <td>30.1.2020 EN Official Journal of the European ...</td>\n      <td>eu_cellar</td>\n    </tr>\n    <tr>\n      <th>39dac43e4fffa3fc60906f3563e4d1547aea4a0f94e17cd28ec144b117e25df6</th>\n      <td>2021-08-30</td>\n      <td>COMMISSION STAFF WORKING DOCUMENT […] Accompan...</td>\n      <td>EUROPEAN COMMISSION Brussels, 30.8.2021 SWD(20...</td>\n      <td>eu_cellar</td>\n    </tr>\n    <tr>\n      <th>00f65d205b8df943ae8acbd34b729c3da11da1646e7e324a6c517f95f950a5d9</th>\n      <td>2020-06-18</td>\n      <td>P9_TA(2020)0157 Amending Regulations (EU) No 5...</td>\n      <td>8.9.2021 EN Official Journal of the European U...</td>\n      <td>eu_cellar</td>\n    </tr>\n    <tr>\n      <th>002086bd15c9aba8b8b3cdf88498e25735cf66043ddab8877aca317256615aff</th>\n      <td>2020-09-07</td>\n      <td>Opinion No 6/2020 (pursuant to Article 287(4) ...</td>\n      <td>20.10.2020 EN Official Journal of the European...</td>\n      <td>eu_cellar</td>\n    </tr>\n    <tr>\n      <th>014589ceb95203c13ee4bd097ddf2f164657cb6aeb1650db280b2d8c7a57977d</th>\n      <td>2021-05-20</td>\n      <td>Council Recommendation (EU) 2021/816 20 May 20...</td>\n      <td>21.5.2021 EN Official Journal of the European ...</td>\n      <td>eu_cellar</td>\n    </tr>\n    <tr>\n      <th>...</th>\n      <td>...</td>\n      <td>...</td>\n      <td>...</td>\n      <td>...</td>\n    </tr>\n    <tr>\n      <th>5d1566cde8e0ff00d5e907e551d9202c714e320039c29609324e0eb579395aa1</th>\n      <td>2020-12-10</td>\n      <td>Case C-774/19: Judgment of the Court (Sixth Ch...</td>\n      <td>15.2.2021 EN Official Journal of the European ...</td>\n      <td>eu_cellar</td>\n    </tr>\n    <tr>\n      <th>f63ec4df58c38a804c983d295869f22e89515ef32c686841d43b7a9618e106d9</th>\n      <td>2021-02-24</td>\n      <td>Calls for proposals and related activities und...</td>\n      <td>24.2.2021 EN Official Journal of the European ...</td>\n      <td>eu_cellar</td>\n    </tr>\n    <tr>\n      <th>5c798a5a6aeb16a370e018faa10f1f79ce040d1adc8e0a2c4d06470a3d20f52b</th>\n      <td>2020-12-29</td>\n      <td>None</td>\n      <td></td>\n      <td>eu_cellar</td>\n    </tr>\n    <tr>\n      <th>f6334c565e8ab7de7306c50e94d8ef10c6cf38e8d39dc7d3be72aa244c522f22</th>\n      <td>2020-06-18</td>\n      <td>European Parliament resolution of 18 June 2020...</td>\n      <td>8.9.2021 EN Official Journal of the European U...</td>\n      <td>eu_cellar</td>\n    </tr>\n    <tr>\n      <th>5d09ed98966478b63e7e45ca3a1f2d2f88479f4034873b75d6136f13e8d87c93</th>\n      <td>2020-12-11</td>\n      <td>Proposal for a COUNCIL DECISION on the positio...</td>\n      <td>EUROPEAN COMMISSION Brussels, 11.12.2020 COM(2...</td>\n      <td>eu_cellar</td>\n    </tr>\n  </tbody>\n</table>\n<p>3175 rows × 4 columns</p>\n</div>"
     },
     "execution_count": 14,
     "metadata": {},
     "output_type": "execute_result"
    }
   ],
   "source": [
    "# See the newly created Cellar dataframe\n",
    "tmp_cellar_df\n"
   ],
   "metadata": {
    "collapsed": false,
    "pycharm": {
     "name": "#%%\n"
    }
   }
  },
  {
   "cell_type": "code",
   "execution_count": 15,
   "outputs": [
    {
     "data": {
      "text/plain": "Index(['month_name', 'date', 'title', 'abstract', 'presscorner_links',\n       'all_links', 'detail_link', 'detail_type', 'detail_date',\n       'detail_location', 'detail_content', 'detail_title', 'detail_pdf_link',\n       'press_contacts', 'topics', 'for_more_information_links'],\n      dtype='object')"
     },
     "execution_count": 15,
     "metadata": {},
     "output_type": "execute_result"
    }
   ],
   "source": [
    "# Print dataframe columns\n",
    "eu_timeline_df.columns"
   ],
   "metadata": {
    "collapsed": false,
    "pycharm": {
     "name": "#%%\n"
    }
   }
  },
  {
   "cell_type": "code",
   "execution_count": 16,
   "outputs": [
    {
     "data": {
      "text/plain": "                                                          date detail_date\n_id                                                                       \n01dc34ca5f6bfa5316012d6f89a4256b8d2ce6e3a12210b...  2021-01-28         NaN\n04d776c061243576ffc1e1c5a724d41ecca2ed12339b2ff...  2021-06-22  2021-06-22\n04eb55005a803c7353e5d5ed339d7f3a72cc8da6e49f2b8...  2020-06-16  2020-06-17\n073e22ec2b44a5f2f6289f09dc954ecd6ca6cbb4a4b33ff...  2020-04-15  2020-04-15\n0a3650bef3282d09d971dd92dc01570b7ecbdb67a4bdd0f...  2020-12-18         NaN\n...                                                        ...         ...\nfa793c764aaf89c283f747036c9d73fd66f0a7e3692be56...  2021-06-29  2021-06-29\nfb9c4d1634da94c73fd529b44ec40057c28a5c925a8b8e7...  2020-03-13  2020-03-13\nfbad1d421cf80d3e0e4c6b6d3d60a2a6ec8bed4ee19e07c...  2021-01-28  2020-03-19\nfbeff236835d3cfd394f9c9fd5b63eb524c9cdab6e68c93...  2020-07-06  2020-07-06\nffbf6d305594c49b6f5d4d66f56e674f1d953833ba9fdce...  2021-06-23  2021-06-23\n\n[210 rows x 2 columns]",
      "text/html": "<div>\n<style scoped>\n    .dataframe tbody tr th:only-of-type {\n        vertical-align: middle;\n    }\n\n    .dataframe tbody tr th {\n        vertical-align: top;\n    }\n\n    .dataframe thead th {\n        text-align: right;\n    }\n</style>\n<table border=\"1\" class=\"dataframe\">\n  <thead>\n    <tr style=\"text-align: right;\">\n      <th></th>\n      <th>date</th>\n      <th>detail_date</th>\n    </tr>\n    <tr>\n      <th>_id</th>\n      <th></th>\n      <th></th>\n    </tr>\n  </thead>\n  <tbody>\n    <tr>\n      <th>01dc34ca5f6bfa5316012d6f89a4256b8d2ce6e3a12210b0406903dd15bf36ac</th>\n      <td>2021-01-28</td>\n      <td>NaN</td>\n    </tr>\n    <tr>\n      <th>04d776c061243576ffc1e1c5a724d41ecca2ed12339b2ff473c5aa2ff1a071c7</th>\n      <td>2021-06-22</td>\n      <td>2021-06-22</td>\n    </tr>\n    <tr>\n      <th>04eb55005a803c7353e5d5ed339d7f3a72cc8da6e49f2b8b152bf8fb40a1398f</th>\n      <td>2020-06-16</td>\n      <td>2020-06-17</td>\n    </tr>\n    <tr>\n      <th>073e22ec2b44a5f2f6289f09dc954ecd6ca6cbb4a4b33ffd88c3c150572569c0</th>\n      <td>2020-04-15</td>\n      <td>2020-04-15</td>\n    </tr>\n    <tr>\n      <th>0a3650bef3282d09d971dd92dc01570b7ecbdb67a4bdd0ff1c8cf8443a06b937</th>\n      <td>2020-12-18</td>\n      <td>NaN</td>\n    </tr>\n    <tr>\n      <th>...</th>\n      <td>...</td>\n      <td>...</td>\n    </tr>\n    <tr>\n      <th>fa793c764aaf89c283f747036c9d73fd66f0a7e3692be56b8ac985610bef2417</th>\n      <td>2021-06-29</td>\n      <td>2021-06-29</td>\n    </tr>\n    <tr>\n      <th>fb9c4d1634da94c73fd529b44ec40057c28a5c925a8b8e71d73c49e5a815784d</th>\n      <td>2020-03-13</td>\n      <td>2020-03-13</td>\n    </tr>\n    <tr>\n      <th>fbad1d421cf80d3e0e4c6b6d3d60a2a6ec8bed4ee19e07cd15d963fa74352420</th>\n      <td>2021-01-28</td>\n      <td>2020-03-19</td>\n    </tr>\n    <tr>\n      <th>fbeff236835d3cfd394f9c9fd5b63eb524c9cdab6e68c9370758f3e35592973e</th>\n      <td>2020-07-06</td>\n      <td>2020-07-06</td>\n    </tr>\n    <tr>\n      <th>ffbf6d305594c49b6f5d4d66f56e674f1d953833ba9fdceed84d72370c884653</th>\n      <td>2021-06-23</td>\n      <td>2021-06-23</td>\n    </tr>\n  </tbody>\n</table>\n<p>210 rows × 2 columns</p>\n</div>"
     },
     "execution_count": 16,
     "metadata": {},
     "output_type": "execute_result"
    }
   ],
   "source": [
    "#What are the columns that shows dates\n",
    "date_columns = [col for col in eu_timeline_df.columns if \"date\" in col]\n",
    "eu_timeline_df[date_columns]\n"
   ],
   "metadata": {
    "collapsed": false,
    "pycharm": {
     "name": "#%%\n"
    }
   }
  },
  {
   "cell_type": "code",
   "execution_count": 44,
   "outputs": [
    {
     "data": {
      "text/plain": "_id\n01dc34ca5f6bfa5316012d6f89a4256b8d2ce6e3a12210b0406903dd15bf36ac                                                  NaN\n04d776c061243576ffc1e1c5a724d41ecca2ed12339b2ff473c5aa2ff1a071c7    The European Commission has today adopted a po...\n04eb55005a803c7353e5d5ed339d7f3a72cc8da6e49f2b8b152bf8fb40a1398f    Today, to help protect people everywhere, the ...\n073e22ec2b44a5f2f6289f09dc954ecd6ca6cbb4a4b33ffd88c3c150572569c0    Today, the Commission, in cooperation with the...\n0a3650bef3282d09d971dd92dc01570b7ecbdb67a4bdd0ff1c8cf8443a06b937                                                  NaN\n                                                                                          ...                        \nfa793c764aaf89c283f747036c9d73fd66f0a7e3692be56b8ac985610bef2417    The EU Strategy on COVID-19 Therapeutics deliv...\nfb9c4d1634da94c73fd529b44ec40057c28a5c925a8b8e71d73c49e5a815784d    COVID-19 is a severe public health emergency f...\nfbad1d421cf80d3e0e4c6b6d3d60a2a6ec8bed4ee19e07cd15d963fa74352420    The European Commission has adopted a Temporar...\nfbeff236835d3cfd394f9c9fd5b63eb524c9cdab6e68c9370758f3e35592973e    European Investment Bank and CureVac sign 75 m...\nffbf6d305594c49b6f5d4d66f56e674f1d953833ba9fdceed84d72370c884653    The European Commission has today adopted a po...\nName: detail_content, Length: 225, dtype: object"
     },
     "execution_count": 44,
     "metadata": {},
     "output_type": "execute_result"
    }
   ],
   "source": [
    "eu_timeline_df[\"detail_content\"]"
   ],
   "metadata": {
    "collapsed": false,
    "pycharm": {
     "name": "#%%\n"
    }
   }
  },
  {
   "cell_type": "code",
   "execution_count": 17,
   "outputs": [],
   "source": [
    "# Create new dataframe with the wanted content and columns from EU timeline dataset\n",
    "tmp_eu_timeline_df = pd.DataFrame(eu_timeline_df[[\"date\", \"title\", \"detail_content\"]])\n",
    "tmp_eu_timeline_df[\"doc_source\"] = \"eu_timeline\""
   ],
   "metadata": {
    "collapsed": false,
    "pycharm": {
     "name": "#%%\n"
    }
   }
  },
  {
   "cell_type": "code",
   "execution_count": 18,
   "outputs": [
    {
     "data": {
      "text/plain": "                                                          date  \\\n_id                                                              \n01dc34ca5f6bfa5316012d6f89a4256b8d2ce6e3a12210b...  2021-01-28   \n04d776c061243576ffc1e1c5a724d41ecca2ed12339b2ff...  2021-06-22   \n04eb55005a803c7353e5d5ed339d7f3a72cc8da6e49f2b8...  2020-06-16   \n073e22ec2b44a5f2f6289f09dc954ecd6ca6cbb4a4b33ff...  2020-04-15   \n0a3650bef3282d09d971dd92dc01570b7ecbdb67a4bdd0f...  2020-12-18   \n...                                                        ...   \nfa793c764aaf89c283f747036c9d73fd66f0a7e3692be56...  2021-06-29   \nfb9c4d1634da94c73fd529b44ec40057c28a5c925a8b8e7...  2020-03-13   \nfbad1d421cf80d3e0e4c6b6d3d60a2a6ec8bed4ee19e07c...  2021-01-28   \nfbeff236835d3cfd394f9c9fd5b63eb524c9cdab6e68c93...  2020-07-06   \nffbf6d305594c49b6f5d4d66f56e674f1d953833ba9fdce...  2021-06-23   \n\n                                                                                                title  \\\n_id                                                                                                     \n01dc34ca5f6bfa5316012d6f89a4256b8d2ce6e3a12210b...  EU countries adopt guidelines on proof of vacc...   \n04d776c061243576ffc1e1c5a724d41ecca2ed12339b2ff...  Commission endorses Latvia's €1.8 billion reco...   \n04eb55005a803c7353e5d5ed339d7f3a72cc8da6e49f2b8...            Commission unveils EU vaccines strategy   \n073e22ec2b44a5f2f6289f09dc954ecd6ca6cbb4a4b33ff...  European roadmap shows path towards common lif...   \n0a3650bef3282d09d971dd92dc01570b7ecbdb67a4bdd0f...  Commission puts forward rules on rapid antigen...   \n...                                                                                               ...   \nfa793c764aaf89c283f747036c9d73fd66f0a7e3692be56...  Commission identifies five promising candidate...   \nfb9c4d1634da94c73fd529b44ec40057c28a5c925a8b8e7...  Setting out coordinated response to counter th...   \nfbad1d421cf80d3e0e4c6b6d3d60a2a6ec8bed4ee19e07c...  Prolonging State aid Temporary Framework to fu...   \nfbeff236835d3cfd394f9c9fd5b63eb524c9cdab6e68c93...  Commission and EIB provide CureVac with a €75 ...   \nffbf6d305594c49b6f5d4d66f56e674f1d953833ba9fdce...  Commission endorses France's €39.4 billion rec...   \n\n                                                                                       detail_content  \\\n_id                                                                                                     \n01dc34ca5f6bfa5316012d6f89a4256b8d2ce6e3a12210b...                                                NaN   \n04d776c061243576ffc1e1c5a724d41ecca2ed12339b2ff...  The European Commission has today adopted a po...   \n04eb55005a803c7353e5d5ed339d7f3a72cc8da6e49f2b8...  Today, to help protect people everywhere, the ...   \n073e22ec2b44a5f2f6289f09dc954ecd6ca6cbb4a4b33ff...  Today, the Commission, in cooperation with the...   \n0a3650bef3282d09d971dd92dc01570b7ecbdb67a4bdd0f...                                                NaN   \n...                                                                                               ...   \nfa793c764aaf89c283f747036c9d73fd66f0a7e3692be56...  The EU Strategy on COVID-19 Therapeutics deliv...   \nfb9c4d1634da94c73fd529b44ec40057c28a5c925a8b8e7...  COVID-19 is a severe public health emergency f...   \nfbad1d421cf80d3e0e4c6b6d3d60a2a6ec8bed4ee19e07c...              The European Commission has adopted a   \nfbeff236835d3cfd394f9c9fd5b63eb524c9cdab6e68c93...                                                      \nffbf6d305594c49b6f5d4d66f56e674f1d953833ba9fdce...  The European Commission has today adopted a po...   \n\n                                                     doc_source  \n_id                                                              \n01dc34ca5f6bfa5316012d6f89a4256b8d2ce6e3a12210b...  eu_timeline  \n04d776c061243576ffc1e1c5a724d41ecca2ed12339b2ff...  eu_timeline  \n04eb55005a803c7353e5d5ed339d7f3a72cc8da6e49f2b8...  eu_timeline  \n073e22ec2b44a5f2f6289f09dc954ecd6ca6cbb4a4b33ff...  eu_timeline  \n0a3650bef3282d09d971dd92dc01570b7ecbdb67a4bdd0f...  eu_timeline  \n...                                                         ...  \nfa793c764aaf89c283f747036c9d73fd66f0a7e3692be56...  eu_timeline  \nfb9c4d1634da94c73fd529b44ec40057c28a5c925a8b8e7...  eu_timeline  \nfbad1d421cf80d3e0e4c6b6d3d60a2a6ec8bed4ee19e07c...  eu_timeline  \nfbeff236835d3cfd394f9c9fd5b63eb524c9cdab6e68c93...  eu_timeline  \nffbf6d305594c49b6f5d4d66f56e674f1d953833ba9fdce...  eu_timeline  \n\n[210 rows x 4 columns]",
      "text/html": "<div>\n<style scoped>\n    .dataframe tbody tr th:only-of-type {\n        vertical-align: middle;\n    }\n\n    .dataframe tbody tr th {\n        vertical-align: top;\n    }\n\n    .dataframe thead th {\n        text-align: right;\n    }\n</style>\n<table border=\"1\" class=\"dataframe\">\n  <thead>\n    <tr style=\"text-align: right;\">\n      <th></th>\n      <th>date</th>\n      <th>title</th>\n      <th>detail_content</th>\n      <th>doc_source</th>\n    </tr>\n    <tr>\n      <th>_id</th>\n      <th></th>\n      <th></th>\n      <th></th>\n      <th></th>\n    </tr>\n  </thead>\n  <tbody>\n    <tr>\n      <th>01dc34ca5f6bfa5316012d6f89a4256b8d2ce6e3a12210b0406903dd15bf36ac</th>\n      <td>2021-01-28</td>\n      <td>EU countries adopt guidelines on proof of vacc...</td>\n      <td>NaN</td>\n      <td>eu_timeline</td>\n    </tr>\n    <tr>\n      <th>04d776c061243576ffc1e1c5a724d41ecca2ed12339b2ff473c5aa2ff1a071c7</th>\n      <td>2021-06-22</td>\n      <td>Commission endorses Latvia's €1.8 billion reco...</td>\n      <td>The European Commission has today adopted a po...</td>\n      <td>eu_timeline</td>\n    </tr>\n    <tr>\n      <th>04eb55005a803c7353e5d5ed339d7f3a72cc8da6e49f2b8b152bf8fb40a1398f</th>\n      <td>2020-06-16</td>\n      <td>Commission unveils EU vaccines strategy</td>\n      <td>Today, to help protect people everywhere, the ...</td>\n      <td>eu_timeline</td>\n    </tr>\n    <tr>\n      <th>073e22ec2b44a5f2f6289f09dc954ecd6ca6cbb4a4b33ffd88c3c150572569c0</th>\n      <td>2020-04-15</td>\n      <td>European roadmap shows path towards common lif...</td>\n      <td>Today, the Commission, in cooperation with the...</td>\n      <td>eu_timeline</td>\n    </tr>\n    <tr>\n      <th>0a3650bef3282d09d971dd92dc01570b7ecbdb67a4bdd0ff1c8cf8443a06b937</th>\n      <td>2020-12-18</td>\n      <td>Commission puts forward rules on rapid antigen...</td>\n      <td>NaN</td>\n      <td>eu_timeline</td>\n    </tr>\n    <tr>\n      <th>...</th>\n      <td>...</td>\n      <td>...</td>\n      <td>...</td>\n      <td>...</td>\n    </tr>\n    <tr>\n      <th>fa793c764aaf89c283f747036c9d73fd66f0a7e3692be56b8ac985610bef2417</th>\n      <td>2021-06-29</td>\n      <td>Commission identifies five promising candidate...</td>\n      <td>The EU Strategy on COVID-19 Therapeutics deliv...</td>\n      <td>eu_timeline</td>\n    </tr>\n    <tr>\n      <th>fb9c4d1634da94c73fd529b44ec40057c28a5c925a8b8e71d73c49e5a815784d</th>\n      <td>2020-03-13</td>\n      <td>Setting out coordinated response to counter th...</td>\n      <td>COVID-19 is a severe public health emergency f...</td>\n      <td>eu_timeline</td>\n    </tr>\n    <tr>\n      <th>fbad1d421cf80d3e0e4c6b6d3d60a2a6ec8bed4ee19e07cd15d963fa74352420</th>\n      <td>2021-01-28</td>\n      <td>Prolonging State aid Temporary Framework to fu...</td>\n      <td>The European Commission has adopted a</td>\n      <td>eu_timeline</td>\n    </tr>\n    <tr>\n      <th>fbeff236835d3cfd394f9c9fd5b63eb524c9cdab6e68c9370758f3e35592973e</th>\n      <td>2020-07-06</td>\n      <td>Commission and EIB provide CureVac with a €75 ...</td>\n      <td></td>\n      <td>eu_timeline</td>\n    </tr>\n    <tr>\n      <th>ffbf6d305594c49b6f5d4d66f56e674f1d953833ba9fdceed84d72370c884653</th>\n      <td>2021-06-23</td>\n      <td>Commission endorses France's €39.4 billion rec...</td>\n      <td>The European Commission has today adopted a po...</td>\n      <td>eu_timeline</td>\n    </tr>\n  </tbody>\n</table>\n<p>210 rows × 4 columns</p>\n</div>"
     },
     "execution_count": 18,
     "metadata": {},
     "output_type": "execute_result"
    }
   ],
   "source": [
    "# See the newly created EU timeline  dataframe\n",
    "tmp_eu_timeline_df"
   ],
   "metadata": {
    "collapsed": false,
    "pycharm": {
     "name": "#%%\n"
    }
   }
  },
  {
   "cell_type": "code",
   "execution_count": 19,
   "outputs": [
    {
     "data": {
      "text/plain": "Index(['keyword', 'page_type', 'page_link', 'department_data',\n       'published_date', 'updated_date', 'title', 'content', 'content_links',\n       'campaigns_links', 'part_of_links', 'documents'],\n      dtype='object')"
     },
     "execution_count": 19,
     "metadata": {},
     "output_type": "execute_result"
    }
   ],
   "source": [
    "# Print dataframe columns\n",
    "ir_timeline_df.columns\n",
    "\n"
   ],
   "metadata": {
    "collapsed": false,
    "pycharm": {
     "name": "#%%\n"
    }
   }
  },
  {
   "cell_type": "code",
   "execution_count": 20,
   "outputs": [
    {
     "data": {
      "text/plain": "                                                   published_date updated_date\n_id                                                                           \n41c0f398402f522980ec6e3ae49ef3b60b7139c1deb0ba7...     2021-03-24   2021-03-24\n41d85d20ea2ffeaba4c27e36def4c03986ad83679fb62a0...     2020-07-30   2020-07-30\n420468c03e6550d8111344aa4d28d7e7cfd70037b16f8ca...     2020-06-06   2020-06-06\n42081c8a3c63d62e4b0ef27f6a3386848b45d71665318ef...     2021-07-21   2021-07-23\n421dd88edfd80b1fbc6c350565455e1a218774c9d4f1d74...     2020-12-10   2020-12-11\n...                                                           ...          ...\nff4ea2ef933287c4125d898245e878ae9fcb1b356b3c60d...     2021-01-22   2021-01-23\nff7508dca9aaf53565b08dc6826102bff9176584afc245b...     2021-08-25   2021-08-27\nff82338ae7c8129669562babc1c0d7a893a9c59f6d2bd00...     2020-03-20   2020-03-20\nffef06958ad76786347e3aa545351f708105f6db826708b...     2021-05-24   2021-06-01\nfff7b98741a044543ea4dbfb02fd702386f1bdfbf84db6e...     2021-08-25   2021-08-26\n\n[1921 rows x 2 columns]",
      "text/html": "<div>\n<style scoped>\n    .dataframe tbody tr th:only-of-type {\n        vertical-align: middle;\n    }\n\n    .dataframe tbody tr th {\n        vertical-align: top;\n    }\n\n    .dataframe thead th {\n        text-align: right;\n    }\n</style>\n<table border=\"1\" class=\"dataframe\">\n  <thead>\n    <tr style=\"text-align: right;\">\n      <th></th>\n      <th>published_date</th>\n      <th>updated_date</th>\n    </tr>\n    <tr>\n      <th>_id</th>\n      <th></th>\n      <th></th>\n    </tr>\n  </thead>\n  <tbody>\n    <tr>\n      <th>41c0f398402f522980ec6e3ae49ef3b60b7139c1deb0ba75db830e77f62d5bdd</th>\n      <td>2021-03-24</td>\n      <td>2021-03-24</td>\n    </tr>\n    <tr>\n      <th>41d85d20ea2ffeaba4c27e36def4c03986ad83679fb62a07de6214abf0309ae1</th>\n      <td>2020-07-30</td>\n      <td>2020-07-30</td>\n    </tr>\n    <tr>\n      <th>420468c03e6550d8111344aa4d28d7e7cfd70037b16f8cab3451ff52d6bbd7b5</th>\n      <td>2020-06-06</td>\n      <td>2020-06-06</td>\n    </tr>\n    <tr>\n      <th>42081c8a3c63d62e4b0ef27f6a3386848b45d71665318ef14642649bb9b11b3e</th>\n      <td>2021-07-21</td>\n      <td>2021-07-23</td>\n    </tr>\n    <tr>\n      <th>421dd88edfd80b1fbc6c350565455e1a218774c9d4f1d74bbe2047d972187736</th>\n      <td>2020-12-10</td>\n      <td>2020-12-11</td>\n    </tr>\n    <tr>\n      <th>...</th>\n      <td>...</td>\n      <td>...</td>\n    </tr>\n    <tr>\n      <th>ff4ea2ef933287c4125d898245e878ae9fcb1b356b3c60de288dd97020bdd3a5</th>\n      <td>2021-01-22</td>\n      <td>2021-01-23</td>\n    </tr>\n    <tr>\n      <th>ff7508dca9aaf53565b08dc6826102bff9176584afc245b9947c18dae946506a</th>\n      <td>2021-08-25</td>\n      <td>2021-08-27</td>\n    </tr>\n    <tr>\n      <th>ff82338ae7c8129669562babc1c0d7a893a9c59f6d2bd00cefe853539721367e</th>\n      <td>2020-03-20</td>\n      <td>2020-03-20</td>\n    </tr>\n    <tr>\n      <th>ffef06958ad76786347e3aa545351f708105f6db826708b4523cd16ea150e702</th>\n      <td>2021-05-24</td>\n      <td>2021-06-01</td>\n    </tr>\n    <tr>\n      <th>fff7b98741a044543ea4dbfb02fd702386f1bdfbf84db6e9d110bd95d65c22d7</th>\n      <td>2021-08-25</td>\n      <td>2021-08-26</td>\n    </tr>\n  </tbody>\n</table>\n<p>1921 rows × 2 columns</p>\n</div>"
     },
     "execution_count": 20,
     "metadata": {},
     "output_type": "execute_result"
    }
   ],
   "source": [
    "#What are the columns that shows dates\n",
    "date_columns = [col for col in ir_timeline_df.columns if \"date\" in col]\n",
    "ir_timeline_df[date_columns]\n",
    "\n"
   ],
   "metadata": {
    "collapsed": false,
    "pycharm": {
     "name": "#%%\n"
    }
   }
  },
  {
   "cell_type": "code",
   "execution_count": 21,
   "outputs": [],
   "source": [
    "# Create new dataframe with the wanted content and columns from Ireland timeline dataset\n",
    "tmp_ir_timeline_df = pd.DataFrame(ir_timeline_df[[\"published_date\", \"title\", \"content\"]])\n",
    "tmp_ir_timeline_df[\"doc_source\"] = \"ireland_timeline\""
   ],
   "metadata": {
    "collapsed": false,
    "pycharm": {
     "name": "#%%\n"
    }
   }
  },
  {
   "cell_type": "code",
   "execution_count": 22,
   "outputs": [
    {
     "data": {
      "text/plain": "                                                   published_date  \\\n_id                                                                 \n41c0f398402f522980ec6e3ae49ef3b60b7139c1deb0ba7...     2021-03-24   \n41d85d20ea2ffeaba4c27e36def4c03986ad83679fb62a0...     2020-07-30   \n420468c03e6550d8111344aa4d28d7e7cfd70037b16f8ca...     2020-06-06   \n42081c8a3c63d62e4b0ef27f6a3386848b45d71665318ef...     2021-07-21   \n421dd88edfd80b1fbc6c350565455e1a218774c9d4f1d74...     2020-12-10   \n...                                                           ...   \nff4ea2ef933287c4125d898245e878ae9fcb1b356b3c60d...     2021-01-22   \nff7508dca9aaf53565b08dc6826102bff9176584afc245b...     2021-08-25   \nff82338ae7c8129669562babc1c0d7a893a9c59f6d2bd00...     2020-03-20   \nffef06958ad76786347e3aa545351f708105f6db826708b...     2021-05-24   \nfff7b98741a044543ea4dbfb02fd702386f1bdfbf84db6e...     2021-08-25   \n\n                                                                                                title  \\\n_id                                                                                                     \n41c0f398402f522980ec6e3ae49ef3b60b7139c1deb0ba7...  Statement by Minister for Education Norma Fole...   \n41d85d20ea2ffeaba4c27e36def4c03986ad83679fb62a0...  From pencil and paper to drones and satellites...   \n420468c03e6550d8111344aa4d28d7e7cfd70037b16f8ca...  Return to Sport Expert Group recommends furthe...   \n42081c8a3c63d62e4b0ef27f6a3386848b45d71665318ef...  Government to put “special focus” on Drogheda ...   \n421dd88edfd80b1fbc6c350565455e1a218774c9d4f1d74...  Statement from the National Public Health Emer...   \n...                                                                                               ...   \nff4ea2ef933287c4125d898245e878ae9fcb1b356b3c60d...  Statement from the National Public Health Emer...   \nff7508dca9aaf53565b08dc6826102bff9176584afc245b...  Ministers McConalogue and Heydon launch Code o...   \nff82338ae7c8129669562babc1c0d7a893a9c59f6d2bd00...  Press Release on Civil Defence in the context ...   \nffef06958ad76786347e3aa545351f708105f6db826708b...  Minister O’Gorman launches ‘LGBTI+ Youth in Ir...   \nfff7b98741a044543ea4dbfb02fd702386f1bdfbf84db6e...  Statement from the National Public Health Emer...   \n\n                                                                                              content  \\\n_id                                                                                                     \n41c0f398402f522980ec6e3ae49ef3b60b7139c1deb0ba7...  The State Examinations Commission is today iss...   \n41d85d20ea2ffeaba4c27e36def4c03986ad83679fb62a0...  July 31 2020 marks the 175th anniversary of th...   \n420468c03e6550d8111344aa4d28d7e7cfd70037b16f8ca...  The Minister for Transport, Tourism and Sport,...   \n42081c8a3c63d62e4b0ef27f6a3386848b45d71665318ef...  Government agrees that funding applications un...   \n421dd88edfd80b1fbc6c350565455e1a218774c9d4f1d74...  1. Hospital statistics 2. Gender of patients 3...   \n...                                                                                               ...   \nff4ea2ef933287c4125d898245e878ae9fcb1b356b3c60d...  The Health Protection Surveillance Centre has ...   \nff7508dca9aaf53565b08dc6826102bff9176584afc245b...  The Minister for Agriculture, Food and the Mar...   \nff82338ae7c8129669562babc1c0d7a893a9c59f6d2bd00...  Civil Defence (Cosaint Shibhialta) is a statut...   \nffef06958ad76786347e3aa545351f708105f6db826708b...  Minister for Children, Equality, Disability, I...   \nfff7b98741a044543ea4dbfb02fd702386f1bdfbf84db6e...  The Health Protection Surveillance Centre has ...   \n\n                                                          doc_source  \n_id                                                                   \n41c0f398402f522980ec6e3ae49ef3b60b7139c1deb0ba7...  ireland_timeline  \n41d85d20ea2ffeaba4c27e36def4c03986ad83679fb62a0...  ireland_timeline  \n420468c03e6550d8111344aa4d28d7e7cfd70037b16f8ca...  ireland_timeline  \n42081c8a3c63d62e4b0ef27f6a3386848b45d71665318ef...  ireland_timeline  \n421dd88edfd80b1fbc6c350565455e1a218774c9d4f1d74...  ireland_timeline  \n...                                                              ...  \nff4ea2ef933287c4125d898245e878ae9fcb1b356b3c60d...  ireland_timeline  \nff7508dca9aaf53565b08dc6826102bff9176584afc245b...  ireland_timeline  \nff82338ae7c8129669562babc1c0d7a893a9c59f6d2bd00...  ireland_timeline  \nffef06958ad76786347e3aa545351f708105f6db826708b...  ireland_timeline  \nfff7b98741a044543ea4dbfb02fd702386f1bdfbf84db6e...  ireland_timeline  \n\n[1921 rows x 4 columns]",
      "text/html": "<div>\n<style scoped>\n    .dataframe tbody tr th:only-of-type {\n        vertical-align: middle;\n    }\n\n    .dataframe tbody tr th {\n        vertical-align: top;\n    }\n\n    .dataframe thead th {\n        text-align: right;\n    }\n</style>\n<table border=\"1\" class=\"dataframe\">\n  <thead>\n    <tr style=\"text-align: right;\">\n      <th></th>\n      <th>published_date</th>\n      <th>title</th>\n      <th>content</th>\n      <th>doc_source</th>\n    </tr>\n    <tr>\n      <th>_id</th>\n      <th></th>\n      <th></th>\n      <th></th>\n      <th></th>\n    </tr>\n  </thead>\n  <tbody>\n    <tr>\n      <th>41c0f398402f522980ec6e3ae49ef3b60b7139c1deb0ba75db830e77f62d5bdd</th>\n      <td>2021-03-24</td>\n      <td>Statement by Minister for Education Norma Fole...</td>\n      <td>The State Examinations Commission is today iss...</td>\n      <td>ireland_timeline</td>\n    </tr>\n    <tr>\n      <th>41d85d20ea2ffeaba4c27e36def4c03986ad83679fb62a07de6214abf0309ae1</th>\n      <td>2020-07-30</td>\n      <td>From pencil and paper to drones and satellites...</td>\n      <td>July 31 2020 marks the 175th anniversary of th...</td>\n      <td>ireland_timeline</td>\n    </tr>\n    <tr>\n      <th>420468c03e6550d8111344aa4d28d7e7cfd70037b16f8cab3451ff52d6bbd7b5</th>\n      <td>2020-06-06</td>\n      <td>Return to Sport Expert Group recommends furthe...</td>\n      <td>The Minister for Transport, Tourism and Sport,...</td>\n      <td>ireland_timeline</td>\n    </tr>\n    <tr>\n      <th>42081c8a3c63d62e4b0ef27f6a3386848b45d71665318ef14642649bb9b11b3e</th>\n      <td>2021-07-21</td>\n      <td>Government to put “special focus” on Drogheda ...</td>\n      <td>Government agrees that funding applications un...</td>\n      <td>ireland_timeline</td>\n    </tr>\n    <tr>\n      <th>421dd88edfd80b1fbc6c350565455e1a218774c9d4f1d74bbe2047d972187736</th>\n      <td>2020-12-10</td>\n      <td>Statement from the National Public Health Emer...</td>\n      <td>1. Hospital statistics 2. Gender of patients 3...</td>\n      <td>ireland_timeline</td>\n    </tr>\n    <tr>\n      <th>...</th>\n      <td>...</td>\n      <td>...</td>\n      <td>...</td>\n      <td>...</td>\n    </tr>\n    <tr>\n      <th>ff4ea2ef933287c4125d898245e878ae9fcb1b356b3c60de288dd97020bdd3a5</th>\n      <td>2021-01-22</td>\n      <td>Statement from the National Public Health Emer...</td>\n      <td>The Health Protection Surveillance Centre has ...</td>\n      <td>ireland_timeline</td>\n    </tr>\n    <tr>\n      <th>ff7508dca9aaf53565b08dc6826102bff9176584afc245b9947c18dae946506a</th>\n      <td>2021-08-25</td>\n      <td>Ministers McConalogue and Heydon launch Code o...</td>\n      <td>The Minister for Agriculture, Food and the Mar...</td>\n      <td>ireland_timeline</td>\n    </tr>\n    <tr>\n      <th>ff82338ae7c8129669562babc1c0d7a893a9c59f6d2bd00cefe853539721367e</th>\n      <td>2020-03-20</td>\n      <td>Press Release on Civil Defence in the context ...</td>\n      <td>Civil Defence (Cosaint Shibhialta) is a statut...</td>\n      <td>ireland_timeline</td>\n    </tr>\n    <tr>\n      <th>ffef06958ad76786347e3aa545351f708105f6db826708b4523cd16ea150e702</th>\n      <td>2021-05-24</td>\n      <td>Minister O’Gorman launches ‘LGBTI+ Youth in Ir...</td>\n      <td>Minister for Children, Equality, Disability, I...</td>\n      <td>ireland_timeline</td>\n    </tr>\n    <tr>\n      <th>fff7b98741a044543ea4dbfb02fd702386f1bdfbf84db6e9d110bd95d65c22d7</th>\n      <td>2021-08-25</td>\n      <td>Statement from the National Public Health Emer...</td>\n      <td>The Health Protection Surveillance Centre has ...</td>\n      <td>ireland_timeline</td>\n    </tr>\n  </tbody>\n</table>\n<p>1921 rows × 4 columns</p>\n</div>"
     },
     "execution_count": 22,
     "metadata": {},
     "output_type": "execute_result"
    }
   ],
   "source": [
    "# See the newly created Ireland timeline  dataframe\n",
    "tmp_ir_timeline_df\n"
   ],
   "metadata": {
    "collapsed": false,
    "pycharm": {
     "name": "#%%\n"
    }
   }
  },
  {
   "cell_type": "code",
   "execution_count": 23,
   "outputs": [],
   "source": [
    "def replace_non_english_content(text):\n",
    "    if text is not None:\n",
    "        language = detect_langs(text)\n",
    "        language_details = str(language[0]).split(\":\")\n",
    "        if language_details[0] == \"en\" and float(language_details[1]) > 0.95:\n",
    "            return text\n",
    "        else:\n",
    "            return None\n",
    "\n",
    "\n"
   ],
   "metadata": {
    "collapsed": false,
    "pycharm": {
     "name": "#%%\n"
    }
   }
  },
  {
   "cell_type": "code",
   "execution_count": 24,
   "outputs": [],
   "source": [
    "#Renaming columns in dataframes and dropping rows without content, title and date\n",
    "data_frames = [tmp_cellar_df, tmp_eu_timeline_df, tmp_ir_timeline_df, tmp_pwdb_df]\n",
    "for data_frame in data_frames:\n",
    "    data_frame.columns = [\"Date\", \"Title\", \"Content\", \"Document_source\"]\n",
    "    data_frame[\"Content\"] = data_frame[\"Content\"].apply(lambda x: x if x != \"\" else None)\n",
    "    data_frame[\"Content\"] = data_frame[\"Content\"].replace({np.nan: None}).apply(lambda x: replace_non_english_content(x))\n",
    "    data_frame.dropna(subset=['Content', 'Title', 'Date'], how=\"any\", inplace=True)\n",
    "    # data_frame.dropna(subset=['Title'], inplace=True)\n",
    "    # data_frame.dropna(subset=['Date'], inplace=True)\n",
    "\n",
    "\n"
   ],
   "metadata": {
    "collapsed": false,
    "pycharm": {
     "name": "#%%\n"
    }
   }
  },
  {
   "cell_type": "code",
   "execution_count": 25,
   "outputs": [
    {
     "data": {
      "text/plain": "                                                          Date  \\\n_id                                                              \n0e3d35dcad11d1d80f8fb1c35599be27fb3e864874ab1ac...  2020-01-30   \n39dac43e4fffa3fc60906f3563e4d1547aea4a0f94e17cd...  2021-08-30   \n00f65d205b8df943ae8acbd34b729c3da11da1646e7e324...  2020-06-18   \n002086bd15c9aba8b8b3cdf88498e25735cf66043ddab88...  2020-09-07   \n014589ceb95203c13ee4bd097ddf2f164657cb6aeb1650d...  2021-05-20   \n...                                                        ...   \ntika/330d076853d0731e295d75f70841b445e4bc45061a...  2020-04-12   \ntika/ffaa29a24828dd01c81d66ece0f8f3c21451083be7...  2020-10-23   \ntika/3df93a8fb254187e8783d19760b465a98d88863e59...  2020-04-16   \ntika/71fc1cad3a3a8b9de4da7080acc3a8251fa8ff8c5b...  2020-04-06   \ntika/417384d22c3c6f1768aed95a928111a4652fd832c8...  2020-04-12   \n\n                                                                                                Title  \\\n_id                                                                                                     \n0e3d35dcad11d1d80f8fb1c35599be27fb3e864874ab1ac...  Prior notification of a concentration (Case M....   \n39dac43e4fffa3fc60906f3563e4d1547aea4a0f94e17cd...  COMMISSION STAFF WORKING DOCUMENT […] Accompan...   \n00f65d205b8df943ae8acbd34b729c3da11da1646e7e324...  P9_TA(2020)0157 Amending Regulations (EU) No 5...   \n002086bd15c9aba8b8b3cdf88498e25735cf66043ddab88...  Opinion No 6/2020 (pursuant to Article 287(4) ...   \n014589ceb95203c13ee4bd097ddf2f164657cb6aeb1650d...  Council Recommendation (EU) 2021/816 20 May 20...   \n...                                                                                               ...   \ntika/330d076853d0731e295d75f70841b445e4bc45061a...  Government support to assist the sports sector...   \ntika/ffaa29a24828dd01c81d66ece0f8f3c21451083be7...   National public sector collective agreement 2021   \ntika/3df93a8fb254187e8783d19760b465a98d88863e59...  Lifting of overtime work restrictions, extensi...   \ntika/71fc1cad3a3a8b9de4da7080acc3a8251fa8ff8c5b...     Exceptional regime suspending overtime limits    \ntika/417384d22c3c6f1768aed95a928111a4652fd832c8...               COVID-19: Income support for workers   \n\n                                                                                              Content  \\\n_id                                                                                                     \n0e3d35dcad11d1d80f8fb1c35599be27fb3e864874ab1ac...  30.1.2020 EN Official Journal of the European ...   \n39dac43e4fffa3fc60906f3563e4d1547aea4a0f94e17cd...  EUROPEAN COMMISSION Brussels, 30.8.2021 SWD(20...   \n00f65d205b8df943ae8acbd34b729c3da11da1646e7e324...  8.9.2021 EN Official Journal of the European U...   \n002086bd15c9aba8b8b3cdf88498e25735cf66043ddab88...  20.10.2020 EN Official Journal of the European...   \n014589ceb95203c13ee4bd097ddf2f164657cb6aeb1650d...  21.5.2021 EN Official Journal of the European ...   \n...                                                                                               ...   \ntika/330d076853d0731e295d75f70841b445e4bc45061a...  As sport events have been prohibited, the fina...   \ntika/ffaa29a24828dd01c81d66ece0f8f3c21451083be7...  On 16 October 2020, the Government of the Repu...   \ntika/3df93a8fb254187e8783d19760b465a98d88863e59...  The government with a Legislative Act  (Offici...   \ntika/71fc1cad3a3a8b9de4da7080acc3a8251fa8ff8c5b...  The Decree Law No. 10-A/2020 of 13 March, sett...   \ntika/417384d22c3c6f1768aed95a928111a4652fd832c8...  Key tax and spending measures have been implem...   \n\n                                                   Document_source  \n_id                                                                 \n0e3d35dcad11d1d80f8fb1c35599be27fb3e864874ab1ac...       eu_cellar  \n39dac43e4fffa3fc60906f3563e4d1547aea4a0f94e17cd...       eu_cellar  \n00f65d205b8df943ae8acbd34b729c3da11da1646e7e324...       eu_cellar  \n002086bd15c9aba8b8b3cdf88498e25735cf66043ddab88...       eu_cellar  \n014589ceb95203c13ee4bd097ddf2f164657cb6aeb1650d...       eu_cellar  \n...                                                            ...  \ntika/330d076853d0731e295d75f70841b445e4bc45061a...            pwdb  \ntika/ffaa29a24828dd01c81d66ece0f8f3c21451083be7...            pwdb  \ntika/3df93a8fb254187e8783d19760b465a98d88863e59...            pwdb  \ntika/71fc1cad3a3a8b9de4da7080acc3a8251fa8ff8c5b...            pwdb  \ntika/417384d22c3c6f1768aed95a928111a4652fd832c8...            pwdb  \n\n[6194 rows x 4 columns]",
      "text/html": "<div>\n<style scoped>\n    .dataframe tbody tr th:only-of-type {\n        vertical-align: middle;\n    }\n\n    .dataframe tbody tr th {\n        vertical-align: top;\n    }\n\n    .dataframe thead th {\n        text-align: right;\n    }\n</style>\n<table border=\"1\" class=\"dataframe\">\n  <thead>\n    <tr style=\"text-align: right;\">\n      <th></th>\n      <th>Date</th>\n      <th>Title</th>\n      <th>Content</th>\n      <th>Document_source</th>\n    </tr>\n    <tr>\n      <th>_id</th>\n      <th></th>\n      <th></th>\n      <th></th>\n      <th></th>\n    </tr>\n  </thead>\n  <tbody>\n    <tr>\n      <th>0e3d35dcad11d1d80f8fb1c35599be27fb3e864874ab1ac679fcd004723bc2e3</th>\n      <td>2020-01-30</td>\n      <td>Prior notification of a concentration (Case M....</td>\n      <td>30.1.2020 EN Official Journal of the European ...</td>\n      <td>eu_cellar</td>\n    </tr>\n    <tr>\n      <th>39dac43e4fffa3fc60906f3563e4d1547aea4a0f94e17cd28ec144b117e25df6</th>\n      <td>2021-08-30</td>\n      <td>COMMISSION STAFF WORKING DOCUMENT […] Accompan...</td>\n      <td>EUROPEAN COMMISSION Brussels, 30.8.2021 SWD(20...</td>\n      <td>eu_cellar</td>\n    </tr>\n    <tr>\n      <th>00f65d205b8df943ae8acbd34b729c3da11da1646e7e324a6c517f95f950a5d9</th>\n      <td>2020-06-18</td>\n      <td>P9_TA(2020)0157 Amending Regulations (EU) No 5...</td>\n      <td>8.9.2021 EN Official Journal of the European U...</td>\n      <td>eu_cellar</td>\n    </tr>\n    <tr>\n      <th>002086bd15c9aba8b8b3cdf88498e25735cf66043ddab8877aca317256615aff</th>\n      <td>2020-09-07</td>\n      <td>Opinion No 6/2020 (pursuant to Article 287(4) ...</td>\n      <td>20.10.2020 EN Official Journal of the European...</td>\n      <td>eu_cellar</td>\n    </tr>\n    <tr>\n      <th>014589ceb95203c13ee4bd097ddf2f164657cb6aeb1650db280b2d8c7a57977d</th>\n      <td>2021-05-20</td>\n      <td>Council Recommendation (EU) 2021/816 20 May 20...</td>\n      <td>21.5.2021 EN Official Journal of the European ...</td>\n      <td>eu_cellar</td>\n    </tr>\n    <tr>\n      <th>...</th>\n      <td>...</td>\n      <td>...</td>\n      <td>...</td>\n      <td>...</td>\n    </tr>\n    <tr>\n      <th>tika/330d076853d0731e295d75f70841b445e4bc45061a8ae1507766fa26d778cc6f</th>\n      <td>2020-04-12</td>\n      <td>Government support to assist the sports sector...</td>\n      <td>As sport events have been prohibited, the fina...</td>\n      <td>pwdb</td>\n    </tr>\n    <tr>\n      <th>tika/ffaa29a24828dd01c81d66ece0f8f3c21451083be7a0b6d2f4ed954b9378b0e6</th>\n      <td>2020-10-23</td>\n      <td>National public sector collective agreement 2021</td>\n      <td>On 16 October 2020, the Government of the Repu...</td>\n      <td>pwdb</td>\n    </tr>\n    <tr>\n      <th>tika/3df93a8fb254187e8783d19760b465a98d88863e59a513b35a4d8062248e4190</th>\n      <td>2020-04-16</td>\n      <td>Lifting of overtime work restrictions, extensi...</td>\n      <td>The government with a Legislative Act  (Offici...</td>\n      <td>pwdb</td>\n    </tr>\n    <tr>\n      <th>tika/71fc1cad3a3a8b9de4da7080acc3a8251fa8ff8c5b7514f082f18c1cf69ab140</th>\n      <td>2020-04-06</td>\n      <td>Exceptional regime suspending overtime limits</td>\n      <td>The Decree Law No. 10-A/2020 of 13 March, sett...</td>\n      <td>pwdb</td>\n    </tr>\n    <tr>\n      <th>tika/417384d22c3c6f1768aed95a928111a4652fd832c8d5ee38594ca661e53488ca</th>\n      <td>2020-04-12</td>\n      <td>COVID-19: Income support for workers</td>\n      <td>Key tax and spending measures have been implem...</td>\n      <td>pwdb</td>\n    </tr>\n  </tbody>\n</table>\n<p>6194 rows × 4 columns</p>\n</div>"
     },
     "execution_count": 25,
     "metadata": {},
     "output_type": "execute_result"
    }
   ],
   "source": [
    "#Unified datasets dataframe\n",
    "unified_datasets_df = pd.DataFrame(pd.concat(data_frames))\n",
    "unified_datasets_df\n",
    "\n",
    "\n"
   ],
   "metadata": {
    "collapsed": false,
    "pycharm": {
     "name": "#%%\n"
    }
   }
  },
  {
   "cell_type": "code",
   "execution_count": 27,
   "outputs": [
    {
     "name": "stderr",
     "output_type": "stream",
     "text": [
      " 98% (6116 of 6194) |################### | Elapsed Time: 0:00:00 ETA:   0:00:00"
     ]
    },
    {
     "data": {
      "text/plain": "6194"
     },
     "execution_count": 27,
     "metadata": {},
     "output_type": "execute_result"
    }
   ],
   "source": [
    "#Upload to elastic\n",
    "store_registry.es_index_store().put_dataframe(index_name=config.UNIFIED_DATASET_ELASTIC_SEARCH_INDEX_NAME,\n",
    "                                              content=unified_datasets_df)\n"
   ],
   "metadata": {
    "collapsed": false,
    "pycharm": {
     "name": "#%%\n"
    }
   }
  }
 ],
 "metadata": {
  "kernelspec": {
   "display_name": "Python 3",
   "language": "python",
   "name": "python3"
  },
  "language_info": {
   "codemirror_mode": {
    "name": "ipython",
    "version": 2
   },
   "file_extension": ".py",
   "mimetype": "text/x-python",
   "name": "python",
   "nbconvert_exporter": "python",
   "pygments_lexer": "ipython2",
   "version": "2.7.6"
  }
 },
 "nbformat": 4,
 "nbformat_minor": 0
}