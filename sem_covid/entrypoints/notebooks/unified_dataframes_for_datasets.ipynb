{
 "cells": [
  {
   "cell_type": "code",
   "execution_count": 2,
   "metadata": {
    "collapsed": true
   },
   "outputs": [],
   "source": [
    "import sys\n",
    "\n",
    "import pandas as pd\n",
    "\n",
    "sys.path.append(\"/home/jovyan/work/sem-covid/\")\n",
    "sys.path = list(set(sys.path))\n",
    "import os\n",
    "\n",
    "os.getcwd()\n",
    "os.chdir('/home/jovyan/work/sem-covid/')\n",
    "from sem_covid import config\n",
    "import json\n",
    "import numpy as np\n",
    "import re\n",
    "from langdetect import detect, detect_langs, DetectorFactory\n",
    "\n",
    "DetectorFactory.seed = 0\n",
    "\n",
    "from sem_covid.services.store_registry import StoreRegistry, store_registry\n",
    "\n"
   ]
  },
  {
   "cell_type": "code",
   "execution_count": 3,
   "outputs": [],
   "source": [
    "es_store = store_registry.es_index_store()\n",
    "\n"
   ],
   "metadata": {
    "collapsed": false,
    "pycharm": {
     "name": "#%%\n"
    }
   }
  },
  {
   "cell_type": "code",
   "execution_count": 4,
   "outputs": [
    {
     "name": "stderr",
     "output_type": "stream",
     "text": [
      "INFO:absl:Using /tmp/tfhub_modules to cache modules.\n"
     ]
    }
   ],
   "source": [
    "# create model for document embeddings\n",
    "from sem_covid.services.model_registry import embedding_registry\n",
    "\n",
    "emb_model = embedding_registry.sent2vec_universal_sent_encoding()\n"
   ],
   "metadata": {
    "collapsed": false,
    "pycharm": {
     "name": "#%%\n"
    }
   }
  },
  {
   "cell_type": "code",
   "execution_count": 5,
   "outputs": [],
   "source": [
    "# create model for topic embeddings\n",
    "import mlflow\n",
    "\n",
    "EXPERIMENT_ID = '101'\n",
    "BUCKET_NAME = 'mlflow'\n",
    "\n",
    "best_run = mlflow.search_runs(\n",
    "    experiment_ids=EXPERIMENT_ID,\n",
    "    order_by=['parameters.freq_topic_minus_1 ASC']\n",
    ").iloc[0]\n",
    "\n",
    "\n",
    "\n",
    "bert_model = store_registry.minio_feature_store(BUCKET_NAME).get_features(\n",
    "    features_name=f'{EXPERIMENT_ID}/{best_run.run_id}/artifacts/model/model.pkl')\n",
    "\n"
   ],
   "metadata": {
    "collapsed": false,
    "pycharm": {
     "name": "#%%\n"
    }
   }
  },
  {
   "cell_type": "code",
   "execution_count": 6,
   "outputs": [],
   "source": [
    "def make_target_group_l1_column(dataset: pd.DataFrame):\n",
    "    for col in TARGET_GROUPS_L1:\n",
    "        dataset[col]=dataset[col].apply(lambda x: col if x == 1 else \"\" )\n",
    "\n",
    "    dataset[\"pwdb_target_group_l1\"] = dataset[TARGET_GROUPS_L1].apply(lambda row: ' '.join(row.values.astype(str)), axis=1)\\\n",
    "        .apply(lambda x: x.split())\n"
   ],
   "metadata": {
    "collapsed": false,
    "pycharm": {
     "name": "#%%\n"
    }
   }
  },
  {
   "cell_type": "code",
   "execution_count": 7,
   "outputs": [],
   "source": [
    "def make_document_embeddings_column(dataset: pd.DataFrame):\n",
    "    dataset[\"document_embeddings\"] = emb_model.encode(dataset.content.values)\n"
   ],
   "metadata": {
    "collapsed": false,
    "pycharm": {
     "name": "#%%\n"
    }
   }
  },
  {
   "cell_type": "code",
   "execution_count": 25,
   "outputs": [],
   "source": [
    "def make_topic_embeddings_column(dataset: pd.DataFrame):\n",
    "    bert_probabilities = bert_model.transform(documents=dataset['content'],\n",
    "                                              embeddings=np.array(dataset[\"document_embeddings\"].values.tolist()).astype(\"float32\"))[1]\n",
    "    dataset['topic_embeddings'] = bert_probabilities.tolist()"
   ],
   "metadata": {
    "collapsed": false,
    "pycharm": {
     "name": "#%%\n"
    }
   }
  },
  {
   "cell_type": "code",
   "execution_count": 9,
   "outputs": [],
   "source": [
    "def create_new_column_with_defined_value(dataset: pd.DataFrame, column_name: str, value=None, empty_array=False):\n",
    "    if empty_array:\n",
    "       dataset[column_name] = [np.empty(0,dtype=float)]*len(dataset)\n",
    "    else:\n",
    "        dataset[column_name] = value\n"
   ],
   "metadata": {
    "collapsed": false,
    "pycharm": {
     "name": "#%%\n"
    }
   }
  },
  {
   "cell_type": "code",
   "execution_count": 12,
   "outputs": [],
   "source": [
    "TARGET_GROUPS_L1 = [\"businesses\", \"workers\", \"citizens\"]\n",
    "COMMON_DATASET_COLUMNS = [\"title\",\"content\",\"date\",\"doc_source\",\"country\",\"pwdb_category\",\n",
    "                          \"pwdb_target_group_l1\",\"pwdb_funding\", \"pwdb_type_of_measure\",\n",
    "                          \"pwdb_actors\", \"document_embeddings\", \"topic_embeddings\"]\n",
    "\n",
    "SPECIFIC_DATASET_COLUMNS = [\"eu_cellar_subject_matter_labels\", \"eu_cellar_resource_type_labels\",\"eu_cellar_directory_code_labels\",\n",
    "                            \"eu_cellar_author_labels\", \"pwdb_target_group_l2\", \"ireland_keyword\", \"ireland_department_data\",\n",
    "                            \"ireland_campaign\", \"ireland_page_type\", \"eu_timeline_topic\"]"
   ],
   "metadata": {
    "collapsed": false,
    "pycharm": {
     "name": "#%%\n"
    }
   }
  },
  {
   "cell_type": "code",
   "execution_count": 311,
   "outputs": [
    {
     "name": "stderr",
     "output_type": "stream",
     "text": [
      "100% (1381 of 1381) |####################| Elapsed Time: 0:00:00 Time:  0:00:00\n",
      "100% (3175 of 3175) |####################| Elapsed Time: 0:00:01 Time:  0:00:01\n",
      "100% (231 of 231) |######################| Elapsed Time: 0:00:00 Time:  0:00:00\n",
      "100% (1921 of 1921) |####################| Elapsed Time: 0:00:00 Time:  0:00:00\n"
     ]
    }
   ],
   "source": [
    "#Load dataframes from elastic\n",
    "pwdb_df = es_store.get_dataframe(index_name=config.PWDB_ELASTIC_SEARCH_INDEX_NAME)\n",
    "eu_cellar_df = es_store.get_dataframe(index_name=config.EU_CELLAR_ELASTIC_SEARCH_INDEX_NAME + \"_enriched\")\n",
    "eu_timeline_df = es_store.get_dataframe(index_name=config.EU_TIMELINE_ELASTIC_SEARCH_INDEX_NAME + \"_enriched\")\n",
    "ir_timeline_df = es_store.get_dataframe(index_name=config.IRELAND_TIMELINE_ELASTIC_SEARCH_INDEX_NAME + \"_enriched\")\n",
    "\n"
   ],
   "metadata": {
    "collapsed": false,
    "pycharm": {
     "name": "#%%\n"
    }
   }
  },
  {
   "cell_type": "code",
   "execution_count": 19,
   "outputs": [
    {
     "data": {
      "text/plain": "_id\ntika/2ec585e04df9d361a951e7d26ce5d3ab06e4d17612e36ee84696c1451c972c4b    Temporary layoff scheme and reimbursement of r...\ntika/497730ad75916dd4a3174469d0946ccf6218adfd9513cfffb52038a3dce3fa8d    Protocol for the containment of the COVID-19 s...\ntika/5f74df01de688c3083e10eb50ebd865b081ee3595a662118c3d1d4ca1ad09bc2    ELY centres' business development aid to micro...\ntika/ae1904ac24001af20cfaf9ce898605e95122371e26ae96b7337d114098819c33    Regularisation of immigrants' presence on nati...\ntika/3bafed913ae25dd3152fec477a007abfa079507146ee1b7f8b0a9abad10dc2aa    Economic reactivation measures to face the imp...\n                                                                                               ...                        \ntika/330d076853d0731e295d75f70841b445e4bc45061a8ae1507766fa26d778cc6f    Government support to assist the sports sector...\ntika/ffaa29a24828dd01c81d66ece0f8f3c21451083be7a0b6d2f4ed954b9378b0e6    National public sector collective agreement 20...\ntika/3df93a8fb254187e8783d19760b465a98d88863e59a513b35a4d8062248e4190    Lifting of overtime work restrictions, extensi...\ntika/71fc1cad3a3a8b9de4da7080acc3a8251fa8ff8c5b7514f082f18c1cf69ab140    Exceptional regime suspending overtime limits ...\ntika/417384d22c3c6f1768aed95a928111a4652fd832c8d5ee38594ca661e53488ca    COVID-19: Income support for workers Key tax a...\nName: content, Length: 1381, dtype: object"
     },
     "execution_count": 19,
     "metadata": {},
     "output_type": "execute_result"
    }
   ],
   "source": [
    "#textual columns in PWDB dataset into one content column\n",
    "textual_columns = [col for col in pwdb_df.columns if \"description\" in col]\n",
    "textual_columns.insert(0,\"title\")\n",
    "pwdb_df[\"content\"] = pwdb_df[textual_columns].apply(lambda row: ' '.join(row.values.astype(str)), axis=1)\n",
    "pwdb_df[\"content\"]"
   ],
   "metadata": {
    "collapsed": false,
    "pycharm": {
     "name": "#%%\n"
    }
   }
  },
  {
   "cell_type": "code",
   "execution_count": 20,
   "outputs": [],
   "source": [
    "# Create necessary columns\n",
    "make_target_group_l1_column(pwdb_df)\n",
    "make_document_embeddings_column(pwdb_df)\n",
    "make_topic_embeddings_column(pwdb_df)\n",
    "\n",
    "create_new_column_with_defined_value(pwdb_df, \"doc_source\", \"ds_pwdb\")\n",
    "\n",
    "# create specific dataset columns\n",
    "\n",
    "for column in SPECIFIC_DATASET_COLUMNS:\n",
    "    create_new_column_with_defined_value(pwdb_df,column_name=column,empty_array=True)\n",
    "\n"
   ],
   "metadata": {
    "collapsed": false,
    "pycharm": {
     "name": "#%%\n"
    }
   }
  },
  {
   "cell_type": "code",
   "execution_count": 21,
   "outputs": [],
   "source": [
    "#add values if the specific column exists in the current dataset\n",
    "pwdb_df[\"pwdb_target_group_l2\"] = pwdb_df[\"target_groups\"]\n",
    "\n"
   ],
   "metadata": {
    "collapsed": false,
    "pycharm": {
     "name": "#%%\n"
    }
   }
  },
  {
   "cell_type": "code",
   "execution_count": 22,
   "outputs": [],
   "source": [
    "# rename columns in the current dataset and prepare new version for merging\n",
    "pwdb_df.rename(columns={\"category\": \"pwdb_category\", \"funding\": \"pwdb_funding\", \"type_of_measure\": \"pwdb_type_of_measure\"\n",
    "    , \"actors\": \"pwdb_actors\", \"start_date\": \"date\"}, inplace=True)\n",
    "\n",
    "tmp_pwdb_df = pd.DataFrame(pwdb_df[COMMON_DATASET_COLUMNS + SPECIFIC_DATASET_COLUMNS])"
   ],
   "metadata": {
    "collapsed": false,
    "pycharm": {
     "name": "#%%\n"
    }
   }
  },
  {
   "cell_type": "code",
   "execution_count": 23,
   "outputs": [
    {
     "name": "stdout",
     "output_type": "stream",
     "text": [
      "ready for merge\n"
     ]
    }
   ],
   "source": [
    "# Verify if the new version has all the necessary columns\n",
    "if tmp_pwdb_df.columns.tolist() == COMMON_DATASET_COLUMNS + SPECIFIC_DATASET_COLUMNS:\n",
    "    print(\"ready for merge\")\n",
    "else:\n",
    "    raise ValueError(\"Some columns are missing!! Not ready for merge\")"
   ],
   "metadata": {
    "collapsed": false,
    "pycharm": {
     "name": "#%%\n"
    }
   }
  },
  {
   "cell_type": "code",
   "execution_count": null,
   "outputs": [],
   "source": [
    "# tmp_pwdb_df[\"document_embeddings\"]\n",
    "#\n",
    "#\n",
    "#\n",
    "#\n",
    "# import mlflow\n",
    "#\n",
    "# EXPERIMENT_ID = '101'\n",
    "# BUCKET_NAME = 'mlflow'\n",
    "#\n",
    "# best_run = mlflow.search_runs(\n",
    "#     experiment_ids=EXPERIMENT_ID,\n",
    "#     order_by=['parameters.freq_topic_minus_1 ASC']\n",
    "# ).iloc[0]\n",
    "#\n",
    "#\n",
    "#\n",
    "# bert_model = store_registry.minio_feature_store(BUCKET_NAME).get_features(\n",
    "#     features_name=f'{EXPERIMENT_ID}/{best_run.run_id}/artifacts/model/model.pkl')\n",
    "#\n",
    "#\n",
    "#\n",
    "# tmp_pwdb_df[\"document_embeddings\"]\n",
    "#\n",
    "# # type(tmp_pwdb_df[\"document_embeddings\"][0])\n",
    "#\n",
    "#\n",
    "# bert_probabilities = bert_model.transform(documents=tmp_pwdb_df['content'], embeddings=np.array(tmp_pwdb_df[\"document_embeddings\"].values.tolist()).astype(\"float32\"))[1]\n",
    "# tmp_pwdb_df['topic_based_embedding'] = bert_probabilities.tolist()\n",
    "#\n",
    "#\n",
    "#\n",
    "#\n",
    "# tmp_pwdb_df['topic_based_embedding']\n",
    "#\n",
    "#\n",
    "#\n",
    "# np.array(tmp_pwdb_df[\"document_embeddings\"].values.tolist())[0]\n",
    "#\n",
    "#\n",
    "#\n",
    "#\n",
    "# set(map(len,tmp_pwdb_df['document_embeddings'].values.tolist()))\n",
    "#\n",
    "#\n",
    "#\n",
    "# set(tmp_pwdb_df[\"content\"].apply(lambda x: len(x) < 10))\n"
   ],
   "metadata": {
    "collapsed": false,
    "pycharm": {
     "name": "#%%\n"
    }
   }
  },
  {
   "cell_type": "code",
   "execution_count": null,
   "outputs": [],
   "source": [
    "# tmp_pwdb_df[\"document_embeddings\"] = emb_model.encode(tmp_pwdb_df.content.values)\n",
    "# tmp_pwdb_df[\"document_embeddings\"]\n",
    "#\n"
   ],
   "metadata": {
    "collapsed": false,
    "pycharm": {
     "name": "#%%\n"
    }
   }
  },
  {
   "cell_type": "code",
   "execution_count": null,
   "outputs": [],
   "source": [
    "# # Create new dataframe with the wanted content and columns from PWDB dataset\n",
    "# tmp_pwdb_df = pd.DataFrame(pwdb_df[[\"creation_date\", \"title\", \"merged_content\"]])\n",
    "# tmp_pwdb_df[\"doc_source\"] = \"pwdb\"\n",
    "\n",
    "\n",
    "# # Print only textual columns\n",
    "# pwdb_df[textual_columns]\n",
    "#\n",
    "# #Merge content of the textual columns into one new column\n",
    "# pwdb_df[\"merged_content\"] = pwdb_df[textual_columns].apply(lambda row: ' '.join(row.values.astype(str)), axis=1)\n",
    "# pwdb_df[\"merged_content\"]\n",
    "#\n",
    "# #What are the columns that shows dates\n",
    "# date_columns = [col for col in pwdb_df.columns if \"date\" in col]\n",
    "# pwdb_df[date_columns]\n",
    "#\n",
    "# # Create new dataframe with the wanted content and columns from PWDB dataset\n",
    "# tmp_pwdb_df = pd.DataFrame(pwdb_df[[\"creation_date\", \"title\", \"merged_content\"]])\n",
    "# tmp_pwdb_df[\"doc_source\"] = \"pwdb\"\n",
    "#\n",
    "# # See the newly created PWDB dataframe\n",
    "# tmp_pwdb_df"
   ],
   "metadata": {
    "collapsed": false,
    "pycharm": {
     "name": "#%%\n"
    }
   }
  },
  {
   "cell_type": "code",
   "execution_count": 127,
   "outputs": [
    {
     "data": {
      "text/plain": "Index(['work', 'title', 'cdm_types', 'cdm_type_labels', 'resource_types',\n       'resource_type_labels', 'eurovoc_concepts', 'eurovoc_concept_labels',\n       'subject_matters', 'subject_matter_labels', 'directory_codes',\n       'directory_codes_labels', 'celex_numbers', 'legal_elis', 'id_documents',\n       'same_as_uris', 'authors', 'author_labels', 'full_ojs', 'oj_sectors',\n       'internal_comments', 'is_in_force', 'dates_document', 'dates_created',\n       'legal_dates_entry_into_force', 'legal_dates_signature', 'manifs_pdf',\n       'manifs_html', 'pdfs_to_download', 'htmls_to_download', 'dossiers',\n       'related_works', 'work_sequences', 'eu_cellar_core',\n       'eu_cellar_extended', 'metadata', 'content_path', 'content', 'language',\n       'businesses', 'citizens', 'workers', 'category', 'subcategory',\n       'type_of_measure', 'funding'],\n      dtype='object')"
     },
     "execution_count": 127,
     "metadata": {},
     "output_type": "execute_result"
    }
   ],
   "source": [
    "# Print dataframe columns\n",
    "eu_cellar_df.columns\n",
    "\n"
   ],
   "metadata": {
    "collapsed": false,
    "pycharm": {
     "name": "#%%\n"
    }
   }
  },
  {
   "cell_type": "code",
   "execution_count": 81,
   "outputs": [
    {
     "data": {
      "text/plain": "_id\n0       Prior notification of a concentration (Case M....\n1       COMMISSION STAFF WORKING DOCUMENT […] Accompan...\n2       P9_TA(2020)0157 Amending Regulations (EU) No 5...\n3       Opinion No 6/2020 (pursuant to Article 287(4) ...\n4       Council Recommendation (EU) 2021/816 20 May 20...\n                              ...                        \n3170    Case C-774/19: Judgment of the Court (Sixth Ch...\n3171    Calls for proposals and related activities und...\n3172                                                     \n3173    European Parliament resolution of 18 June 2020...\n3174    Proposal for a COUNCIL DECISION on the positio...\nLength: 3175, dtype: object"
     },
     "execution_count": 81,
     "metadata": {},
     "output_type": "execute_result"
    }
   ],
   "source": [
    "# eu_cellar_df[[\"title\", \"content\"]].agg(lambda x: \" \".join([item if item else \"\" for item in x]), axis=1)"
   ],
   "metadata": {
    "collapsed": false,
    "pycharm": {
     "name": "#%%\n"
    }
   }
  },
  {
   "cell_type": "code",
   "execution_count": 129,
   "outputs": [
    {
     "data": {
      "text/plain": "     eu_cellar_subject_matter_labels eu_cellar_resource_type_labels  \\\n_id                                                                   \n0                                 []                             []   \n1                                 []                             []   \n2                                 []                             []   \n3                                 []                             []   \n4                                 []                             []   \n...                              ...                            ...   \n3168                              []                             []   \n3170                              []                             []   \n3171                              []                             []   \n3173                              []                             []   \n3174                              []                             []   \n\n     eu_cellar_directory_code_labels eu_cellar_author_labels  \\\n_id                                                            \n0                                 []                      []   \n1                                 []                      []   \n2                                 []                      []   \n3                                 []                      []   \n4                                 []                      []   \n...                              ...                     ...   \n3168                              []                      []   \n3170                              []                      []   \n3171                              []                      []   \n3173                              []                      []   \n3174                              []                      []   \n\n     pwdb_target_group_l2 ireland_keyword ireland_department_data  \\\n_id                                                                 \n0                      []              []                      []   \n1                      []              []                      []   \n2                      []              []                      []   \n3                      []              []                      []   \n4                      []              []                      []   \n...                   ...             ...                     ...   \n3168                   []              []                      []   \n3170                   []              []                      []   \n3171                   []              []                      []   \n3173                   []              []                      []   \n3174                   []              []                      []   \n\n     ireland_campaign ireland_page_type eu_timeline_topic  \n_id                                                        \n0                  []                []                []  \n1                  []                []                []  \n2                  []                []                []  \n3                  []                []                []  \n4                  []                []                []  \n...               ...               ...               ...  \n3168               []                []                []  \n3170               []                []                []  \n3171               []                []                []  \n3173               []                []                []  \n3174               []                []                []  \n\n[2854 rows x 10 columns]",
      "text/html": "<div>\n<style scoped>\n    .dataframe tbody tr th:only-of-type {\n        vertical-align: middle;\n    }\n\n    .dataframe tbody tr th {\n        vertical-align: top;\n    }\n\n    .dataframe thead th {\n        text-align: right;\n    }\n</style>\n<table border=\"1\" class=\"dataframe\">\n  <thead>\n    <tr style=\"text-align: right;\">\n      <th></th>\n      <th>eu_cellar_subject_matter_labels</th>\n      <th>eu_cellar_resource_type_labels</th>\n      <th>eu_cellar_directory_code_labels</th>\n      <th>eu_cellar_author_labels</th>\n      <th>pwdb_target_group_l2</th>\n      <th>ireland_keyword</th>\n      <th>ireland_department_data</th>\n      <th>ireland_campaign</th>\n      <th>ireland_page_type</th>\n      <th>eu_timeline_topic</th>\n    </tr>\n    <tr>\n      <th>_id</th>\n      <th></th>\n      <th></th>\n      <th></th>\n      <th></th>\n      <th></th>\n      <th></th>\n      <th></th>\n      <th></th>\n      <th></th>\n      <th></th>\n    </tr>\n  </thead>\n  <tbody>\n    <tr>\n      <th>0</th>\n      <td>[]</td>\n      <td>[]</td>\n      <td>[]</td>\n      <td>[]</td>\n      <td>[]</td>\n      <td>[]</td>\n      <td>[]</td>\n      <td>[]</td>\n      <td>[]</td>\n      <td>[]</td>\n    </tr>\n    <tr>\n      <th>1</th>\n      <td>[]</td>\n      <td>[]</td>\n      <td>[]</td>\n      <td>[]</td>\n      <td>[]</td>\n      <td>[]</td>\n      <td>[]</td>\n      <td>[]</td>\n      <td>[]</td>\n      <td>[]</td>\n    </tr>\n    <tr>\n      <th>2</th>\n      <td>[]</td>\n      <td>[]</td>\n      <td>[]</td>\n      <td>[]</td>\n      <td>[]</td>\n      <td>[]</td>\n      <td>[]</td>\n      <td>[]</td>\n      <td>[]</td>\n      <td>[]</td>\n    </tr>\n    <tr>\n      <th>3</th>\n      <td>[]</td>\n      <td>[]</td>\n      <td>[]</td>\n      <td>[]</td>\n      <td>[]</td>\n      <td>[]</td>\n      <td>[]</td>\n      <td>[]</td>\n      <td>[]</td>\n      <td>[]</td>\n    </tr>\n    <tr>\n      <th>4</th>\n      <td>[]</td>\n      <td>[]</td>\n      <td>[]</td>\n      <td>[]</td>\n      <td>[]</td>\n      <td>[]</td>\n      <td>[]</td>\n      <td>[]</td>\n      <td>[]</td>\n      <td>[]</td>\n    </tr>\n    <tr>\n      <th>...</th>\n      <td>...</td>\n      <td>...</td>\n      <td>...</td>\n      <td>...</td>\n      <td>...</td>\n      <td>...</td>\n      <td>...</td>\n      <td>...</td>\n      <td>...</td>\n      <td>...</td>\n    </tr>\n    <tr>\n      <th>3168</th>\n      <td>[]</td>\n      <td>[]</td>\n      <td>[]</td>\n      <td>[]</td>\n      <td>[]</td>\n      <td>[]</td>\n      <td>[]</td>\n      <td>[]</td>\n      <td>[]</td>\n      <td>[]</td>\n    </tr>\n    <tr>\n      <th>3170</th>\n      <td>[]</td>\n      <td>[]</td>\n      <td>[]</td>\n      <td>[]</td>\n      <td>[]</td>\n      <td>[]</td>\n      <td>[]</td>\n      <td>[]</td>\n      <td>[]</td>\n      <td>[]</td>\n    </tr>\n    <tr>\n      <th>3171</th>\n      <td>[]</td>\n      <td>[]</td>\n      <td>[]</td>\n      <td>[]</td>\n      <td>[]</td>\n      <td>[]</td>\n      <td>[]</td>\n      <td>[]</td>\n      <td>[]</td>\n      <td>[]</td>\n    </tr>\n    <tr>\n      <th>3173</th>\n      <td>[]</td>\n      <td>[]</td>\n      <td>[]</td>\n      <td>[]</td>\n      <td>[]</td>\n      <td>[]</td>\n      <td>[]</td>\n      <td>[]</td>\n      <td>[]</td>\n      <td>[]</td>\n    </tr>\n    <tr>\n      <th>3174</th>\n      <td>[]</td>\n      <td>[]</td>\n      <td>[]</td>\n      <td>[]</td>\n      <td>[]</td>\n      <td>[]</td>\n      <td>[]</td>\n      <td>[]</td>\n      <td>[]</td>\n      <td>[]</td>\n    </tr>\n  </tbody>\n</table>\n<p>2854 rows × 10 columns</p>\n</div>"
     },
     "execution_count": 129,
     "metadata": {},
     "output_type": "execute_result"
    }
   ],
   "source": [
    "# create columns\n",
    "create_new_column_with_defined_value(eu_cellar_df,\"doc_source\", \"ds_eu_cellar\")\n",
    "create_new_column_with_defined_value(eu_cellar_df,\"country\", \"European Union\")\n",
    "create_new_column_with_defined_value(eu_cellar_df,\"pwdb_actors\", \"EU (Council, EC, EP)\")\n",
    "make_target_group_l1_column(eu_cellar_df)\n",
    "eu_cellar_df[\"date\"] = eu_cellar_df[\"dates_document\"]\n",
    "eu_cellar_df[\"content\"] = eu_cellar_df[\"title\"].replace({None: \"\"}) + eu_cellar_df[\"content\"].replace({None: \"\"})\n",
    "eu_cellar_df[\"content\"] = eu_cellar_df[\"content\"].replace({\"\":None})\n",
    "eu_cellar_df.dropna(subset=[\"content\"], inplace=True)\n",
    "\n",
    "make_document_embeddings_column(eu_cellar_df)\n",
    "make_topic_embeddings_column(eu_cellar_df)\n",
    "# create specific dataset columns\n",
    "\n",
    "for column in SPECIFIC_DATASET_COLUMNS:\n",
    "    create_new_column_with_defined_value(eu_cellar_df,column_name=column,empty_array=True)\n",
    "\n",
    "eu_cellar_df[SPECIFIC_DATASET_COLUMNS]\n",
    "\n"
   ],
   "metadata": {
    "collapsed": false,
    "pycharm": {
     "name": "#%%\n"
    }
   }
  },
  {
   "cell_type": "code",
   "execution_count": 130,
   "outputs": [],
   "source": [
    "#add values if the specific column exists in the current dataset\n",
    "eu_cellar_specific_columns = [\"subject_matter_labels\",\n",
    "                              \"resource_type_labels\",\n",
    "                              \"directory_codes_labels\",\n",
    "                              \"author_labels\"]\n",
    "for column_name in eu_cellar_specific_columns:\n",
    "    eu_cellar_df[\"eu_cellar_\" + column_name] = eu_cellar_df[column_name]\n",
    "    eu_cellar_df[\"eu_cellar_\" + column_name] = eu_cellar_df[\"eu_cellar_\" + column_name].apply(lambda x: x if x else [])\n"
   ],
   "metadata": {
    "collapsed": false,
    "pycharm": {
     "name": "#%%\n"
    }
   }
  },
  {
   "cell_type": "code",
   "execution_count": 131,
   "outputs": [],
   "source": [
    "# rename columns in the current dataset and prepare new version for merging\n",
    "eu_cellar_df.rename(columns={\"category\": \"pwdb_category\", \"funding\": \"pwdb_funding\", \"type_of_measure\": \"pwdb_type_of_measure\"\n",
    "    }, inplace=True)\n"
   ],
   "metadata": {
    "collapsed": false,
    "pycharm": {
     "name": "#%%\n"
    }
   }
  },
  {
   "cell_type": "code",
   "execution_count": 132,
   "outputs": [],
   "source": [
    "tmp_eu_cellar_df = pd.DataFrame(eu_cellar_df[COMMON_DATASET_COLUMNS + SPECIFIC_DATASET_COLUMNS])\n"
   ],
   "metadata": {
    "collapsed": false,
    "pycharm": {
     "name": "#%%\n"
    }
   }
  },
  {
   "cell_type": "code",
   "execution_count": 133,
   "outputs": [
    {
     "name": "stdout",
     "output_type": "stream",
     "text": [
      "ready for merge\n"
     ]
    }
   ],
   "source": [
    "# Verify if the new version has all the necessary columns\n",
    "if tmp_eu_cellar_df.columns.tolist() == COMMON_DATASET_COLUMNS + SPECIFIC_DATASET_COLUMNS:\n",
    "    print(\"ready for merge\")\n",
    "else:\n",
    "    raise ValueError(\"Some columns are missing!! Not ready for merge\")\n",
    "\n"
   ],
   "metadata": {
    "collapsed": false,
    "pycharm": {
     "name": "#%%\n"
    }
   }
  },
  {
   "cell_type": "code",
   "execution_count": 134,
   "outputs": [
    {
     "data": {
      "text/plain": "Index(['month_name', 'date', 'title', 'abstract', 'presscorner_links',\n       'all_links', 'detail_link', 'detail_type', 'detail_date',\n       'detail_location', 'detail_content', 'detail_title', 'detail_pdf_link',\n       'press_contacts', 'topics', 'for_more_information_links', 'businesses',\n       'citizens', 'workers', 'category', 'subcategory', 'type_of_measure',\n       'funding'],\n      dtype='object')"
     },
     "execution_count": 134,
     "metadata": {},
     "output_type": "execute_result"
    }
   ],
   "source": [
    "# Print dataframe columns\n",
    "eu_timeline_df.columns"
   ],
   "metadata": {
    "collapsed": false,
    "pycharm": {
     "name": "#%%\n"
    }
   }
  },
  {
   "cell_type": "code",
   "execution_count": 239,
   "outputs": [
    {
     "data": {
      "text/plain": "    eu_cellar_subject_matter_labels eu_cellar_resource_type_labels  \\\n_id                                                                  \n0                                []                             []   \n1                                []                             []   \n2                                []                             []   \n3                                []                             []   \n4                                []                             []   \n..                              ...                            ...   \n205                              []                             []   \n206                              []                             []   \n207                              []                             []   \n208                              []                             []   \n209                              []                             []   \n\n    eu_cellar_directory_code_labels eu_cellar_author_labels  \\\n_id                                                           \n0                                []                      []   \n1                                []                      []   \n2                                []                      []   \n3                                []                      []   \n4                                []                      []   \n..                              ...                     ...   \n205                              []                      []   \n206                              []                      []   \n207                              []                      []   \n208                              []                      []   \n209                              []                      []   \n\n    pwdb_target_group_l2 ireland_keyword ireland_department_data  \\\n_id                                                                \n0                     []              []                      []   \n1                     []              []                      []   \n2                     []              []                      []   \n3                     []              []                      []   \n4                     []              []                      []   \n..                   ...             ...                     ...   \n205                   []              []                      []   \n206                   []              []                      []   \n207                   []              []                      []   \n208                   []              []                      []   \n209                   []              []                      []   \n\n    ireland_campaign ireland_page_type eu_timeline_topic  \n_id                                                       \n0                 []                []                []  \n1                 []                []                []  \n2                 []                []                []  \n3                 []                []                []  \n4                 []                []                []  \n..               ...               ...               ...  \n205               []                []                []  \n206               []                []                []  \n207               []                []                []  \n208               []                []                []  \n209               []                []                []  \n\n[210 rows x 10 columns]",
      "text/html": "<div>\n<style scoped>\n    .dataframe tbody tr th:only-of-type {\n        vertical-align: middle;\n    }\n\n    .dataframe tbody tr th {\n        vertical-align: top;\n    }\n\n    .dataframe thead th {\n        text-align: right;\n    }\n</style>\n<table border=\"1\" class=\"dataframe\">\n  <thead>\n    <tr style=\"text-align: right;\">\n      <th></th>\n      <th>eu_cellar_subject_matter_labels</th>\n      <th>eu_cellar_resource_type_labels</th>\n      <th>eu_cellar_directory_code_labels</th>\n      <th>eu_cellar_author_labels</th>\n      <th>pwdb_target_group_l2</th>\n      <th>ireland_keyword</th>\n      <th>ireland_department_data</th>\n      <th>ireland_campaign</th>\n      <th>ireland_page_type</th>\n      <th>eu_timeline_topic</th>\n    </tr>\n    <tr>\n      <th>_id</th>\n      <th></th>\n      <th></th>\n      <th></th>\n      <th></th>\n      <th></th>\n      <th></th>\n      <th></th>\n      <th></th>\n      <th></th>\n      <th></th>\n    </tr>\n  </thead>\n  <tbody>\n    <tr>\n      <th>0</th>\n      <td>[]</td>\n      <td>[]</td>\n      <td>[]</td>\n      <td>[]</td>\n      <td>[]</td>\n      <td>[]</td>\n      <td>[]</td>\n      <td>[]</td>\n      <td>[]</td>\n      <td>[]</td>\n    </tr>\n    <tr>\n      <th>1</th>\n      <td>[]</td>\n      <td>[]</td>\n      <td>[]</td>\n      <td>[]</td>\n      <td>[]</td>\n      <td>[]</td>\n      <td>[]</td>\n      <td>[]</td>\n      <td>[]</td>\n      <td>[]</td>\n    </tr>\n    <tr>\n      <th>2</th>\n      <td>[]</td>\n      <td>[]</td>\n      <td>[]</td>\n      <td>[]</td>\n      <td>[]</td>\n      <td>[]</td>\n      <td>[]</td>\n      <td>[]</td>\n      <td>[]</td>\n      <td>[]</td>\n    </tr>\n    <tr>\n      <th>3</th>\n      <td>[]</td>\n      <td>[]</td>\n      <td>[]</td>\n      <td>[]</td>\n      <td>[]</td>\n      <td>[]</td>\n      <td>[]</td>\n      <td>[]</td>\n      <td>[]</td>\n      <td>[]</td>\n    </tr>\n    <tr>\n      <th>4</th>\n      <td>[]</td>\n      <td>[]</td>\n      <td>[]</td>\n      <td>[]</td>\n      <td>[]</td>\n      <td>[]</td>\n      <td>[]</td>\n      <td>[]</td>\n      <td>[]</td>\n      <td>[]</td>\n    </tr>\n    <tr>\n      <th>...</th>\n      <td>...</td>\n      <td>...</td>\n      <td>...</td>\n      <td>...</td>\n      <td>...</td>\n      <td>...</td>\n      <td>...</td>\n      <td>...</td>\n      <td>...</td>\n      <td>...</td>\n    </tr>\n    <tr>\n      <th>205</th>\n      <td>[]</td>\n      <td>[]</td>\n      <td>[]</td>\n      <td>[]</td>\n      <td>[]</td>\n      <td>[]</td>\n      <td>[]</td>\n      <td>[]</td>\n      <td>[]</td>\n      <td>[]</td>\n    </tr>\n    <tr>\n      <th>206</th>\n      <td>[]</td>\n      <td>[]</td>\n      <td>[]</td>\n      <td>[]</td>\n      <td>[]</td>\n      <td>[]</td>\n      <td>[]</td>\n      <td>[]</td>\n      <td>[]</td>\n      <td>[]</td>\n    </tr>\n    <tr>\n      <th>207</th>\n      <td>[]</td>\n      <td>[]</td>\n      <td>[]</td>\n      <td>[]</td>\n      <td>[]</td>\n      <td>[]</td>\n      <td>[]</td>\n      <td>[]</td>\n      <td>[]</td>\n      <td>[]</td>\n    </tr>\n    <tr>\n      <th>208</th>\n      <td>[]</td>\n      <td>[]</td>\n      <td>[]</td>\n      <td>[]</td>\n      <td>[]</td>\n      <td>[]</td>\n      <td>[]</td>\n      <td>[]</td>\n      <td>[]</td>\n      <td>[]</td>\n    </tr>\n    <tr>\n      <th>209</th>\n      <td>[]</td>\n      <td>[]</td>\n      <td>[]</td>\n      <td>[]</td>\n      <td>[]</td>\n      <td>[]</td>\n      <td>[]</td>\n      <td>[]</td>\n      <td>[]</td>\n      <td>[]</td>\n    </tr>\n  </tbody>\n</table>\n<p>210 rows × 10 columns</p>\n</div>"
     },
     "execution_count": 239,
     "metadata": {},
     "output_type": "execute_result"
    }
   ],
   "source": [
    "# create columns\n",
    "CONTENT_COLUMNS = [\"title\", \"abstract\", \"detail_content\"]\n",
    "eu_timeline_df[\"content\"] = eu_timeline_df[CONTENT_COLUMNS].apply(lambda row: ' '.join(row.values.astype(str)), axis=1)\n",
    "create_new_column_with_defined_value(eu_timeline_df,\"doc_source\", \"ds_eu_timeline\")\n",
    "create_new_column_with_defined_value(eu_timeline_df,\"country\", \"European Union\")\n",
    "create_new_column_with_defined_value(eu_timeline_df,\"pwdb_actors\", \"EU (Council, EC, EP)\")\n",
    "make_target_group_l1_column(eu_timeline_df)\n",
    "\n",
    "make_document_embeddings_column(eu_timeline_df)\n",
    "# make_topic_embeddings_column(eu_timeline_df)\n",
    "# create specific dataset columns\n",
    "\n",
    "for column in SPECIFIC_DATASET_COLUMNS:\n",
    "    create_new_column_with_defined_value(eu_timeline_df,column_name=column,empty_array=True)\n",
    "\n",
    "eu_timeline_df[SPECIFIC_DATASET_COLUMNS]"
   ],
   "metadata": {
    "collapsed": false,
    "pycharm": {
     "name": "#%%\n"
    }
   }
  },
  {
   "cell_type": "code",
   "execution_count": 225,
   "outputs": [],
   "source": [
    "eu_timeline_df[\"content\"] = eu_timeline_df[\"title\"].replace({None: \"\"}) + \\\n",
    "                            eu_timeline_df[\"abstract\"].replace({None: \"\"}) + \\\n",
    "                            eu_timeline_df[\"detail_content\"].replace({None: \"\"})"
   ],
   "metadata": {
    "collapsed": false,
    "pycharm": {
     "name": "#%%\n"
    }
   }
  },
  {
   "cell_type": "code",
   "execution_count": 259,
   "outputs": [],
   "source": [
    "tmp_df_timeline = pd.DataFrame(eu_timeline_df.head(50).copy())"
   ],
   "metadata": {
    "collapsed": false,
    "pycharm": {
     "name": "#%%\n"
    }
   }
  },
  {
   "cell_type": "code",
   "execution_count": 277,
   "outputs": [
    {
     "name": "stdout",
     "output_type": "stream",
     "text": [
      "EU countries adopt guidelines on proof of vaccination for medical purposesThe EU countries, with the support of the European Commission, adopted  . These guidelines aim to support the interoperability of vaccination certificates, meaning the contents of the vaccination certificates is uniform, and establish a minimum dataset for each certificate.\n",
      "________________________\n",
      "Commission endorses Latvia's €1.8 billion recovery and resilience planThe Commission adopted a   of Latvia's recovery and resilience plan, an important step towards the EU disbursing €1.8 billion in grants under the Recovery and Resilience Facility. It will play a key role in enabling Latvia emerge stronger from the COVID-19 pandemic.The European Commission has today adopted a positive assessment of Latvia's recovery and resilience plan. This is an important step towards the EU disbursing 1.8 billion in grants under the Recovery and Resilience Facility (RRF). This financing will support the implementation of the crucial investment and reform measures outlined in Latvia's recovery and resilience plan. It will play a key role in enabling Latvia emerge stronger from the COVID-19 pandemic.\n",
      "________________________\n",
      "Commission unveils EU vaccines strategyThe Commission   to accelerate the development, manufacturing and deployment of vaccines against COVID-19. An effective and safe vaccine against the virus is our best bet to achieve a permanent solution to the pandemic. With this strategy, the Commission will support efforts to accelerate the development and availability of safe and effective vaccines in a timeframe between 12 and 18 months, if not earlier.Today, to help protect people everywhere, the European Commission is presenting a\n",
      "________________________\n",
      "European roadmap shows path towards common lifting of containment measuresThe Commission, in cooperation with the President of the European Council, put forward a   to phase-out the containment measures due to the coronavirus outbreak. The roadmap lists principles and recommendations Member States should consider when planning to lift containment measures.Today, the Commission, in cooperation with the President of the European Council, has put forward a European\n",
      "________________________\n",
      "Commission puts forward rules on rapid antigen tests and secures 20 million tests for Member StatesThe Commission adopted a   on a common framework for the use, validation and mutual recognition of rapid antigen tests. Since the outbreak of the COVID-19 pandemic, diagnostic testing has been rapidly evolving, demonstrating its central role in outbreak control. The Commission has also signed a framework contract with Abbott and Roche allowing the purchase of over 20 million rapid antigen tests for up to €100 million, financed by the Emergency Support Instrument. From early 2021, these tests will be made available to EU countries, as part of the EU strategy to COVID-19 testing.\n",
      "________________________\n",
      "EU leaders agree on the recovery plan and multiannual financial framework for 2021-2027After four days of negotiations, EU leaders successfully agreed on the  . More than 50% of the long-term EU budget and Next Generation EU – a total of some EUR 1,8 trillion - will support modern policies and set Europe on path to a sustainable and resilient recovery.\n",
      "________________________\n",
      "Council adopts Recovery and Resilience FacilityThe Council   establishing the  , which lies at the heart of the EU’s recovery plan. It will make €672.5 billion in grants and loans available for public investment and reforms in the 27 EU countries to help them address the impact of the COVID-19 pandemic, to foster the green and digital transitions and to build resilient and inclusive societies. EU countries will receive support from the facility on the basis of their national recovery and resilience plans, which are currently under preparation.\n",
      "________________________\n",
      "Commission presents “Staying safe from COVID-19 during winter” strategyThe Commission adopted a   for sustainably managing the pandemic over the winter period. The strategy recommends continued vigilance and caution throughout the winter period and into 2021 when the roll out of safe and effective vaccines will occur. The Commission will then provide further guidance on a gradual and coordinated lifting of containment measures.\n",
      "________________________\n",
      "EU Strategy for the development and availability of therapeuticsThe European Commission has complemented the successful   with a   to support the development and availability of much-needed COVID-19 therapeutics, including for the treatment of ‘long COVID'.\n",
      "________________________\n",
      "Commitment to international cooperation reaffirmedParticipating in the extraordinary G20 Leaders' videoconference, President von der Leyen and the European Council President Charles Michel   that the EU was committed to international cooperation in tackling the pandemic and would continue to assist vulnerable countries and communities around the world.Today, Thursday, 26 March 2020, the President of the European Commission, Ursula\n",
      "________________________\n",
      "rescEU medical stockpile expands in four Member StatesBelgium, the Netherlands and Slovenia will become new host countries for  . In addition, a second medical reserve will be hosted by Germany – already a rescEU host country. In total, there are now nine countries hosting the common European stockpiles of medical equipment. This common European stock of lifesaving medical equipment is distributed across Europe at times of medical emergencies, for example when national health systems are overwhelmed by coronavirus patients.As of today, Belgium, the Netherlands and Slovenia will become new host countries for rescEU medical supplies. In addition, a second medical reserve will be hosted by Germany already a rescEU host country. In total, there are now nine countries hosting the common European stockpiles of medical equipment.\n",
      "________________________\n",
      "Commission authorises third safe and effective vaccine against COVID-19The European Commission granted a conditional marketing authorisation for the  , the third COVID-19 vaccine authorised in the EU. This authorisation follows a positive scientific recommendation based on a thorough assessment of the safety, effectiveness and quality of the vaccine by the European Medicines Agency and is endorsed by the Member States.Today, the European Commission has granted a conditional marketing authorisation (CMA) for the COVID19 vaccine developed by AstraZeneca, the third COVID-19 vaccine authorised in the EU.\n",
      "________________________\n",
      "EU solidarity with Western Balkans and Eastern NeighbourhoodThe Commission has   for the most immediate needs in the Eastern Neighbourhood countries, and will redirect the use of existing instruments worth up to EUR 700 million to help mitigate the socio-economic impact of the coronavirus crisis. Similarly, it announced up to EUR 38 million in   to tackle the health emergency, and reallocation of EUR 374 million to help the socio-economic recovery.As part of the global response to the coronavirus outbreak, the European Commission stands by Eastern partner countries and has reallocated 140 million for the most immediate needs in Armenia, Azerbaijan, Belarus, Georgia, the Republic of Moldova, and Ukraine. In addition, the Commission will also redirect the use of existing instruments worth up to 700 million to help mitigate the socio-economic impact of the coronavirus crisis.\n",
      "________________________\n",
      "Over 3 million vaccines doses shared via the EU Civil Protection MechanismFollowing new offers of assistance from EU Member States to countries in need, the Commission has so far supported the sharing of over 3 million COVID-19 vaccines with countries outside of the EU through the  .\n",
      "________________________\n",
      "European standards for medical supplies made freely availableThe European Committee for Standardization and the European Committee for Electrotechnical Standardization   for certain medical devices and personal protective equipment. This action will help both EU and third-country companies to swiftly start production and place products on the internal market more easily while ensuring a high degree of safety.In the context of the Coronavirus crisis, the Commission is working with industry and Member States to maximise the availability of masks, gloves, gowns and other medical supplies. Efforts include increasing production by existing manufacturers, facilitating imports and activating alternative ways of producing equipment.\n",
      "________________________\n",
      "Support for most vulnerable in Southern AfricaThe Commission is providing EUR 64.7 million in humanitarian aid for   to help support people in need dealing with the coronavirus pandemic, extreme weather conditions such as persistent drought in the region and other crises.The Commission is providing 64.7 million in humanitarian aid for countries in the southern Africa region to help support people in need dealing with the coronavirus pandemic, extreme weather conditions such as persistent drought in the region and other crises.\n",
      "________________________\n",
      "Commission endorses Ireland's recovery and resilience planThe Commission adopted a   of Ireland's recovery and resilience plan. This is an important step towards the EU disbursing €989 million in grants under the Recovery and Resilience Facility, that will support the implementation of the crucial investment and reform measures outlined in Ireland's recovery and resilience plan.The European Commission has today adopted a positive assessment of Ireland's recovery and resilience plan. This is an important step towards the EU disbursing 989 million in grants under the Recovery and Resilience Facility. This financing will support the implementation of the crucial investment and reform measures outlined in Ireland's recovery and resilience plan. It will enable Ireland to emerge stronger from the COVID-19 pandemic.\n",
      "________________________\n",
      "Enabling free movement of critical workersThe Commission issued   to ensure that mobile workers within the EU, in particular those in critical occupations to fight the coronavirus pandemic, can reach their workplace. Together with the   on the implementation of the temporary restriction on non-essential travel to the EU, this seeks to address practical concerns of citizens and companies affected by the measures taken to limit the spread of the coronavirus.Today, the Commission has issued new practical advice to ensure that mobile workers within the EU, in particular those in critical occupations to fight the coronavirus pandemic, can reach their workplace. This includes but is not limited to those working in the health care and food sectors, and other essential services like childcare, elderly care, and critical staff for utilities. Together with the\n",
      "________________________\n",
      "Ensuring supply of personal protective equipment in the EUThe Commission took steps to  , by requiring that exports of such equipment outside of the European Union are subject to an export authorisation by Member States.In its continuing efforts to protect citizens and to coordinate the response to COVID-19, the Commission has taken immediate steps to protect the availability of supplies of personal protective equipment (PPE), by requiring that exports of such equipment outside of the European Union are subject to an export authorisation by Member States.\n",
      "________________________\n",
      "Commission delivers first batch of 1.5 million masks from 10 million purchased to support EU healthcare workers will be delivered to 17 Member States and the UK to protect healthcare workers. This is part of a new Commission funded purchase of 10 million masks via the Emergency Support Instrument to provide direct support to Member States to mitigate the immediate consequences of the pandemic and anticipate the needs related to the exit and recovery.Over the coming days, 1.5 million medical masks will be delivered to 17 Member States and the UK to protect healthcare workers against coronavirus. This latest EU mask delivery is part of a new Commission funded purchase of 10 million masks via the\n",
      "________________________\n",
      "Commission endorses Croatia's recovery and resilience planThe Commission adopted a   of Croatia's recovery and resilience plan, which is an important step towards the EU disbursing €6.3 billion in grants under the Recovery and Resilience Facility. This financing will support the implementation of the crucial investment and reform measures outlined in Croatia's recovery and resilience plan.The European Commission has today adopted a positive assessment of Croatia's recovery and resilience plan. This is an important step towards the EU disbursing 6.3 billion in grants under the Recovery and Resilience Facility (RRF). This financing will support the implementation of the crucial investment and reform measures outlined in Croatia's recovery and resilience plan. It will play a key role in helping Croatia emerge stronger from the COVID-19 pandemic.\n",
      "________________________\n",
      "New assistance package to support vulnerable groups and address COVID-19 in North AfricaAs part of the EU's global response to the coronavirus outbreak, the EU - through its Emergency Trust Fund for Africa (EUTF) - has adopted a   to protect migrants, stabilise local communities and respond to COVID-19 in North Africa. This package includes EUR 80 million in new funds as well as EUR 30 million reallocated from non-contracted actions under the EUTF.Today, as part of the EU's global response to the coronavirus outbreak, the EU - through its Emergency Trust Fund for Africa (EUTF) - has adopted a new assistance package to protect migrants, stabilise local communities and respond to COVID-19 in North Africa. This package includes 80 million in new funds as well as 30 million reallocated from non-contracted actions under the EUTF.\n",
      "________________________\n",
      "Guidance to ensure full data protection standards of apps fighting the pandemicThe Commission published   on developing new apps that support the fight against coronavirus in relation to data protection. It aims to offer the framework to guarantee that citizens have sufficient protection of their personal data and limitation of intrusiveness while using such apps. This guidance is accompanying an  , also published on 16 April.EU Members States, supported by the Commission, have developed an\n",
      "________________________\n",
      "EU increases its contribution to COVAX FacilityThe EU has announced it will contribute an   to support the COVAX Facility to secure access to the future COVID-19 vaccine in low and middle-income countries. COVAX is the vaccines pillar of the Access to COVID-19 Tools (ACT) Accelerator, a global collaboration to accelerate the development, production, and equitable access to COVID-19 tests, treatments, and vaccines. The funds will complement the EUR 400 million in guarantees the EU already committed for COVAX, making the Union one of the leading donors.The European Union has announced today it will contribute an additional 100 million in grant funding to support the COVAX Facility to secure access to the future COVID-19 vaccine in low and middle-income countries. The funds will complement the 400 million in guarantees the EU already committed for COVAX, making the Union one of the leading donors. With this new contribution, the EU is further stepping up investment in support of the global recovery.\n",
      "________________________\n",
      "Fourth contract with pharmaceutical companies to ensure access to a potential vaccineThe Commission approved   BioNTech and Pfizer, which provides for the initial purchase of 200 million doses on behalf of all EU Member States, plus an option to request up to a further 100 million doses, to be supplied once a vaccine has proven to be safe and effective against COVID-19.Today, the European Commission approved a fourth contract with pharmaceutical companies BioNTech and Pfizer, which provides for the initial purchase of 200 million doses on behalf of all EU Member States, plus an option to request up to a further 100 million doses, to be supplied once a vaccine has proven to be safe and effective against COVID-19. Member States can decide to donate the vaccine to lower and middle-income countries or to re-direct it to other European countries.\n",
      "________________________\n",
      "EU dispatches additional rescEU masks to Croatia, Montenegro and North Macedonia  have been distributed to Croatia, Montenegro and North Macedonia from rescEU - the common European reserve of medical equipment set up this year to help countries affected by the coronavirus pandemic. At the same time, the EU continues to build up reserves of medical equipment.Coronavirus response: EU dispatches additional rescEU masks to Croatia, Montenegro and North Macedonia\n",
      "________________________\n",
      "Commission endorses Slovenia's €2.5 billion recovery and resilience planThe Commission adopted a   of Slovenia's recovery and resilience plan, a key step paving the way for the EU to disburse €1.8 billion in grants and €705 million in loans under the Recovery and Resilience Facility. This financing will play a key role in enabling Slovenia to emerge stronger from the COVID-19 pandemic.The European Commission has today adopted a positive assessment of Slovenia's recovery and resilience plan, a key step paving the way for the EU to disburse 1.8 billion in grants and 705 million in loans under the Recovery and Resilience Facility (RRF). This financing will support the implementation of the crucial investment and reform measures outlined in Slovenia's recovery and resilience plan. It will play a key role in enabling Slovenia to emerge stronger from the COVID-19 pandemic.\n",
      "________________________\n",
      "Commission endorses Austria's recovery and resilience planThe Commission adopted a   of Austria's recovery and resilience plan. This is an important step towards the EU disbursing €3.5 billion in grants under the Recovery and Resilience Facility and will help Austria emerge stronger from the COVID-19 pandemic.The European Commission has today adopted a positive assessment of Austria's recovery and resilience plan. This is an important step towards the EU disbursing 3.5 billion in grants under the Recovery and Resilience Facility. This financing will support the implementation of the crucial investment and reform measures outlined in Austria's recovery and resilience plan. It will help Austria emerge stronger from the COVID-19 pandemic.\n",
      "________________________\n",
      "Second safe and effective vaccine against COVID-19 authorisedThe Commission granted a conditional marketing authorisation for the  , the second COVID-19 vaccine authorised in the EU. This authorisation follows a positive scientific recommendation based on a thorough assessment of the safety, effectiveness and quality of the vaccine by the European Medicines Agency and is endorsed by the EU countries.Today, the European Commission has granted a conditional marketing authorisation (CMA) for the COVID19 vaccine developed by Moderna, the second COVID-19 vaccine authorised in the EU. This authorisation follows a positive scientific recommendation based on a thorough assessment of the safety, effectiveness and quality of the vaccine by the European Medicines Agency (EMA) and is endorsed by the Member States.\n",
      "________________________\n",
      "New procedure to facilitate and speed up approval of adapted vaccines against COVID-19 variantsThe Commission   to speed up the authorisation of adapted COVID-19 vaccines. This should allow companies to focus on gathering the necessary evidence in time and enable the authorisation of adapted vaccines with a smaller set of additional data submitted to the European Medicines Agency.Today, as an immediate action under the\n",
      "________________________\n",
      "Commission disburses EUR 17 billion under SURE to Italy, Spain and PolandThe Commission   a total of EUR 17 billion to Italy, Spain and Poland in the first instalment of financial support to Member States under the SURE instrument. Italy has received EUR 10 billion, Spain EUR 6 billion, and Poland EUR 1 billion. This support, in the form of loans granted on favourable terms, will assist Member States in addressing sudden increases in public expenditure to preserve employment.The European Commission has disbursed a total of 17 billion to Italy, Spain and Poland in the first instalment of financial support to Member States under the SURE instrument. As part of today's operations, Italy has received 10 billion, Spain 6 billion, and Poland 1 billion. Once all SURE disbursements have been completed, Italy will receive a total of 27.4 billion, Spain 21.3 billion and Poland 11.2 billion.\n",
      "________________________\n",
      "Temporary framework to further support the economyThe Commission   a   to enable Member States to use the full flexibility foreseen under State aid rules to support the economy in the context of the COVID-19 outbreak. By 31 March, the Commission already approved several schemes based on the Temporary Framework worth several hundred billions of euros to support Member States’ economies face the impact of the coronavirus outbreak. It took 18 decisions approving 27 national measures.The European Commission has adopted a\n",
      "________________________\n",
      "Expanding Temporary Framework to further support micro, small and start-up companies and incentivise private investmentsThe Commission has   to extend the scope of the   adopted on 19 March 2020 that would enable Member States to further support micro, small and start-up companies The main purpose of the Temporary Framework is to provide targeted support to otherwise viable companies that have entered into financial difficulty as a result of the coronavirus outbreak.The European Commission has adopted a\n",
      "________________________\n",
      "Second contract with Moderna to ensure additional vaccine dosesThe Commission approved a second contract with the pharmaceutical company  , which provides for an additional purchase of 300 million doses (150 million in 2021 and an option to purchase an additional 150 million in 2022) on behalf of all EU Member States. The new contract also provides for the possibility to donate the vaccine to lower and middle-income countries or to re-direct it to other European countries.Today, the European Commission approved a second contract with the pharmaceutical company Moderna, which provides for an additional purchase of 300 million doses (150 million in 2021 and an option to purchase an additional 150 million in 2022) on behalf of all EU Member States. The new contract also provides for the possibility to donate the vaccine to lower and middle-income countries or to re-direct it to other European countries.\n",
      "________________________\n",
      "Commission calls on Member States to optimise supply and availability of medicinesThe Commission's   focus on the rational supply, allocation and use of vital medicines to treat coronavirus patients as well as medicines which may be at risk of shortage. The proposed actions should allow for a more coordinated approach across the EU, preserving the integrity of the Single Market whilst protecting public health.The Commission is today calling on Member States to ensure that Europeans have access to essential medicines during the coronavirus outbreak. The pandemic has highlighted significant challenges in ensuring the supply of the critical medicines needed and the impact such an outbreak can have on the supply chain of medicines in the EU. The Commission\n",
      "________________________\n",
      "Commission endorses Portugal's €16.6 billion recovery and resilience planThe Commission adopted a   of Portugal's recovery and resilience plan. This is an important step towards the EU disbursing €13.9 billion in grants and €2.7 billion in loans under the Recovery and Resilience Facility over the period 2021-2026. This financing will play a key role in enabling Portugal to emerge stronger from the COVID-19 pandemic.The European Commission has today adopted a positive assessment of Portugal's recovery and resilience plan. This is an important step towards the EU disbursing 13.9 billion in grants and 2.7 billion in loans under the Recovery and Resilience Facility (RRF) over the period 2021-2026. This financing will support the implementation of the crucial investment and reform measures outlined in Portugal's recovery and resilience plan. It will play a key role in enabling Portugal to emerge stronger from the COVID-19 pandemic.\n",
      "________________________\n",
      "Commission invites Member States to extend restriction on non-essential travel to the EU until 15 JuneThe   Schengen Member States and Schengen Associated States to extend the temporary restriction on non-essential travel to the EU for another 30 days, until 15 June. The lifting of travel restrictions should be phased: as underlined in the Joint European Roadmap on lifting containment measures, internal border controls will need to start being lifted gradually and in a coordinated manner before restrictions at the external borders can be relaxed in a second stage.Today the Commission\n",
      "________________________\n",
      "EUR 55 million for Syrian refugees and local communities in Jordan and LebanonAs part of the EU's global response to the coronavirus outbreak, the EU Regional Trust Fund in Response to the Syrian Crisis has mobilised an   for refugees from Syria and vulnerable persons in Jordan and Lebanon to fight the pandemic. It will provide critical and targeted support in key areas such as health, water, sanitation and hygiene. The newly adopted package brings the total assistance mobilised through the EU Trust Fund to over EUR 2.2 billion since 2015, doubling the target originally set.As part of the EU's global response to the coronavirus outbreak, the EU Regional Trust Fund in Response to the Syrian Crisis has mobilised an additional 55 million for refugees from Syria and vulnerable persons in Jordan and Lebanon to fight the pandemic. It will provide critical and targeted support in key areas such as health, water, sanitation and hygiene. The newly adopted package brings the total assistance mobilised through the EU Trust Fund to over 2.2 billion since 2015, doubling the target originally set.\n",
      "________________________\n",
      "Exploratory talks concluded with Novavax to secure a new potential vaccineThe Commission concluded   with the pharmaceutical company Novavax with a view to purchasing its potential vaccine against COVID-19. The envisaged contract with Novavax would provide for the possibility for all EU countries to purchase 100 million doses, and they could further purchase up to 100 million more doses.Today, the European Commission concluded exploratory talks with the pharmaceutical company Novavax with a view to purchasing its potential vaccine against COVID-19. The envisaged contract with Novavax would provide for the possibility for all EU Member States to purchase 100 million doses, and they could further purchase up to 100 million more doses.\n",
      "________________________\n",
      "Commission concludes exploratory talks with Valneva to secure a new potential vaccineThe Commission   with the pharmaceutical company Valneva with a view to purchasing its potential vaccine against COVID-19. The envisaged contract with Valneva would provide for the possibility for all EU Member States to purchase together 30 million doses, and they could further purchase up to 30 million more doses.Today, the European Commission concluded exploratory talks with the pharmaceutical company Valneva with a view to purchasing its potential vaccine against COVID-19. The envisaged contract with Valneva would provide for the possibility for all EU Member States to purchase together 30 million doses, and they could further purchase up to 30 million more doses.\n",
      "________________________\n",
      "EUR 2.7 billion from the EU budget to support the EU healthcare sectorThe European Commission proposed to activate the EU's Emergency Support Instrument on 2 April to directly support the Member States’ healthcare systems in their fight against the pandemic.  , the Council gave its fast approval, so that the EUR 2.7 billion instrument can immediately begin providing direct support where most needed.Coronavirus: 2.7 billion from the EU budget to support the EU healthcare sector\n",
      "________________________\n",
      "EU interoperability gateway goes live, first contact tracing and warning apps linked to the systemTo exploit the full potential of contact tracing and warning apps to break the chain of coronavirus infections across borders, the Commission, at the invitation by EU Member States, has set up an   – a so-called ‘gateway'. After a successful  , the system went live on 19 October with the first wave of national apps now linked through this service: Germany's Corona-Warn-App, Ireland's COVID tracker, and Italy's immuni.\n",
      "________________________\n",
      "EU civil protection mechanism activated for the repatriation of EU citizensAs the outbreak of the novel coronavirus intensifies, the   following a request for assistance from France to provide consular support to EU citizens in Wuhan, China. The first European case was reported from France on  .  The Health Security Committee held their   on the novel coronavirus.  Directorate General for Health and Safety (DG SANTE) opened an alert notification on the Early Warning and Response System (EWRS) where most Member States have since been sharing information on response and communication measures.As the outbreak of the novel Coronavirus intensifies, the EU Civil Protection Mechanism has been activated following a request for assistance from France to provide consular support to EU citizens in Wuhan, China.\n",
      "________________________\n",
      "Commission proposes a Digital Green CertificateThe Commission proposed to create a   to facilitate safe free movement inside the EU during the COVID-19 pandemic. The Digital Green Certificate will be a proof that a person has been vaccinated against COVID-19, received a negative test result or recovered from COVID-19. It will be available, free of charge, in digital or paper format. It will include a QR code to ensure security and authenticity of the certificate. The Commission will build a gateway to ensure all certificates can be verified across the EU, and support EU countries in the technical implementation of certificates.\n",
      "________________________\n",
      "Corona response team set upPresident von der Leyen   at political level to coordinate our response to the pandemic, bringing together   – from medical, to economic, to mobility and transport.Good afternoon to all of you,\n",
      "________________________\n",
      "Commission steps up research funding with €120 million for 11 new projects to tackle the virus and its variantsThe Commission has short-listed   worth €120 million from Horizon Europe, the biggest European research and innovation programme (2021-2027), for supporting and enabling urgent research into the coronavirus and its variants.The Commission has short-listed 11 new projects worth 120 million from Horizon Europe, the biggest European research and innovation programme (2021-2027), for supporting and enabling urgent research into the coronavirus and its variants. This funding is part of a wide range of\n",
      "________________________\n",
      "European Investment Bank to provide BioNTech with €100 million in financing for COVID-19 vaccine development The European Investment Bank (EIB) and immunotherapy company   signed a €100 million financing agreement to  , the company’s COVID-19 vaccine programme. BioNTech is the first European company to enter clinical testing, having started a clinical trial in Germany in April and a further clinical trial in the United States at the beginning of May. The EIB financing is backed by both Horizon2020 InnovFin and the European Fund for Strategic Investments.\n",
      "________________________\n",
      "Early lessons from the COVID-19 pandemicThe Commission presented a   on the early lessons learnt from the COVID-19 pandemic over the past 18 months and building on them to improve action at EU and national level. This will help to better anticipate public health risks and enhance contingency planning leading to swifter and more effective joint responses at all levels.\n",
      "________________________\n",
      "EU reaches milestone of vaccinating 70% of adult population with one dosePresident of the European Commission Ursula von der Leyen   that the EU had achieved a milestone of vaccinating 70% of its adult population with at least one dose in July.The EU has kept its word and delivered.\n",
      "________________________\n",
      "First meeting of EU COVID-19 national scientific advice platformPresident of the European Commission Ursula   welcomed COVID-19 scientific advisors from EU Member States to the first meeting of the   on COVID-19. The platform will facilitate more co-ordinated scientific advice on the approach to Member State COVID-19 public health measures across the EU.\n",
      "________________________\n"
     ]
    }
   ],
   "source": [
    "for x in tmp_df_timeline[\"content\"].values:\n",
    "    print(x)\n",
    "    print(\"________________________\")"
   ],
   "metadata": {
    "collapsed": false,
    "pycharm": {
     "name": "#%%\n"
    }
   }
  },
  {
   "cell_type": "code",
   "execution_count": null,
   "outputs": [],
   "source": [],
   "metadata": {
    "collapsed": false,
    "pycharm": {
     "name": "#%%\n"
    }
   }
  },
  {
   "cell_type": "code",
   "execution_count": 312,
   "outputs": [],
   "source": [
    "tmp_df_timeline = pd.DataFrame(eu_timeline_df.head(80).copy())\n"
   ],
   "metadata": {
    "collapsed": false,
    "pycharm": {
     "name": "#%%\n"
    }
   }
  },
  {
   "cell_type": "code",
   "execution_count": 313,
   "outputs": [],
   "source": [
    "tmp_df_timeline[\"content\"] = tmp_df_timeline[\"title\"].replace({None: \"\"}) + \\\n",
    "                            tmp_df_timeline[\"abstract\"].replace({None: \"\"}) + \\\n",
    "                            tmp_df_timeline[\"detail_content\"].replace({None: \"\"})\n"
   ],
   "metadata": {
    "collapsed": false,
    "pycharm": {
     "name": "#%%\n"
    }
   }
  },
  {
   "cell_type": "code",
   "execution_count": 320,
   "outputs": [
    {
     "data": {
      "text/plain": "Series([], Name: detail_content, dtype: object)"
     },
     "execution_count": 320,
     "metadata": {},
     "output_type": "execute_result"
    }
   ],
   "source": [
    "tmp_df_timeline[\"detail_content\"][tmp_df_timeline[\"detail_content\"]== None]"
   ],
   "metadata": {
    "collapsed": false,
    "pycharm": {
     "name": "#%%\n"
    }
   }
  },
  {
   "cell_type": "code",
   "execution_count": null,
   "outputs": [],
   "source": [],
   "metadata": {
    "collapsed": false,
    "pycharm": {
     "name": "#%%\n"
    }
   }
  },
  {
   "cell_type": "code",
   "execution_count": 314,
   "outputs": [],
   "source": [
    "make_document_embeddings_column(tmp_df_timeline)\n",
    "\n"
   ],
   "metadata": {
    "collapsed": false,
    "pycharm": {
     "name": "#%%\n"
    }
   }
  },
  {
   "cell_type": "code",
   "execution_count": 316,
   "outputs": [
    {
     "ename": "ValueError",
     "evalue": "Input contains NaN, infinity or a value too large for dtype('float64').",
     "output_type": "error",
     "traceback": [
      "\u001B[0;31m---------------------------------------------------------------------------\u001B[0m",
      "\u001B[0;31mValueError\u001B[0m                                Traceback (most recent call last)",
      "\u001B[0;32m/tmp/ipykernel_491761/1363686932.py\u001B[0m in \u001B[0;36m<module>\u001B[0;34m\u001B[0m\n\u001B[0;32m----> 1\u001B[0;31m bert_probabilities = bert_model.transform(documents=tmp_df_timeline[\"title\"].replace({None: \"\"}),\n\u001B[0m\u001B[1;32m      2\u001B[0m                                           embeddings=np.array(list(tmp_df_timeline[\"document_embeddings\"])))[1]\n\u001B[1;32m      3\u001B[0m \u001B[0;34m\u001B[0m\u001B[0m\n\u001B[1;32m      4\u001B[0m \u001B[0;34m\u001B[0m\u001B[0m\n",
      "\u001B[0;32m/opt/conda/lib/python3.8/site-packages/bertopic/_bertopic.py\u001B[0m in \u001B[0;36mtransform\u001B[0;34m(self, documents, embeddings)\u001B[0m\n\u001B[1;32m    365\u001B[0m \u001B[0;34m\u001B[0m\u001B[0m\n\u001B[1;32m    366\u001B[0m         \u001B[0mumap_embeddings\u001B[0m \u001B[0;34m=\u001B[0m \u001B[0mself\u001B[0m\u001B[0;34m.\u001B[0m\u001B[0mumap_model\u001B[0m\u001B[0;34m.\u001B[0m\u001B[0mtransform\u001B[0m\u001B[0;34m(\u001B[0m\u001B[0membeddings\u001B[0m\u001B[0;34m)\u001B[0m\u001B[0;34m\u001B[0m\u001B[0;34m\u001B[0m\u001B[0m\n\u001B[0;32m--> 367\u001B[0;31m         \u001B[0mpredictions\u001B[0m\u001B[0;34m,\u001B[0m \u001B[0mprobabilities\u001B[0m \u001B[0;34m=\u001B[0m \u001B[0mhdbscan\u001B[0m\u001B[0;34m.\u001B[0m\u001B[0mapproximate_predict\u001B[0m\u001B[0;34m(\u001B[0m\u001B[0mself\u001B[0m\u001B[0;34m.\u001B[0m\u001B[0mhdbscan_model\u001B[0m\u001B[0;34m,\u001B[0m \u001B[0mumap_embeddings\u001B[0m\u001B[0;34m)\u001B[0m\u001B[0;34m\u001B[0m\u001B[0;34m\u001B[0m\u001B[0m\n\u001B[0m\u001B[1;32m    368\u001B[0m \u001B[0;34m\u001B[0m\u001B[0m\n\u001B[1;32m    369\u001B[0m         \u001B[0;32mif\u001B[0m \u001B[0mself\u001B[0m\u001B[0;34m.\u001B[0m\u001B[0mcalculate_probabilities\u001B[0m\u001B[0;34m:\u001B[0m\u001B[0;34m\u001B[0m\u001B[0;34m\u001B[0m\u001B[0m\n",
      "\u001B[0;32m/opt/conda/lib/python3.8/site-packages/hdbscan/prediction.py\u001B[0m in \u001B[0;36mapproximate_predict\u001B[0;34m(clusterer, points_to_predict)\u001B[0m\n\u001B[1;32m    391\u001B[0m     \u001B[0mmin_samples\u001B[0m \u001B[0;34m=\u001B[0m \u001B[0mclusterer\u001B[0m\u001B[0;34m.\u001B[0m\u001B[0mmin_samples\u001B[0m \u001B[0;32mor\u001B[0m \u001B[0mclusterer\u001B[0m\u001B[0;34m.\u001B[0m\u001B[0mmin_cluster_size\u001B[0m\u001B[0;34m\u001B[0m\u001B[0;34m\u001B[0m\u001B[0m\n\u001B[1;32m    392\u001B[0m     \u001B[0mneighbor_distances\u001B[0m\u001B[0;34m,\u001B[0m \u001B[0mneighbor_indices\u001B[0m \u001B[0;34m=\u001B[0m\u001B[0;31m \u001B[0m\u001B[0;31m\\\u001B[0m\u001B[0;34m\u001B[0m\u001B[0;34m\u001B[0m\u001B[0m\n\u001B[0;32m--> 393\u001B[0;31m         clusterer.prediction_data_.tree.query(points_to_predict,\n\u001B[0m\u001B[1;32m    394\u001B[0m                                               k=2 * min_samples)\n\u001B[1;32m    395\u001B[0m \u001B[0;34m\u001B[0m\u001B[0m\n",
      "\u001B[0;32msklearn/neighbors/_binary_tree.pxi\u001B[0m in \u001B[0;36msklearn.neighbors._kd_tree.BinaryTree.query\u001B[0;34m()\u001B[0m\n",
      "\u001B[0;32m/opt/conda/lib/python3.8/site-packages/sklearn/utils/validation.py\u001B[0m in \u001B[0;36minner_f\u001B[0;34m(*args, **kwargs)\u001B[0m\n\u001B[1;32m     70\u001B[0m                           FutureWarning)\n\u001B[1;32m     71\u001B[0m         \u001B[0mkwargs\u001B[0m\u001B[0;34m.\u001B[0m\u001B[0mupdate\u001B[0m\u001B[0;34m(\u001B[0m\u001B[0;34m{\u001B[0m\u001B[0mk\u001B[0m\u001B[0;34m:\u001B[0m \u001B[0marg\u001B[0m \u001B[0;32mfor\u001B[0m \u001B[0mk\u001B[0m\u001B[0;34m,\u001B[0m \u001B[0marg\u001B[0m \u001B[0;32min\u001B[0m \u001B[0mzip\u001B[0m\u001B[0;34m(\u001B[0m\u001B[0msig\u001B[0m\u001B[0;34m.\u001B[0m\u001B[0mparameters\u001B[0m\u001B[0;34m,\u001B[0m \u001B[0margs\u001B[0m\u001B[0;34m)\u001B[0m\u001B[0;34m}\u001B[0m\u001B[0;34m)\u001B[0m\u001B[0;34m\u001B[0m\u001B[0;34m\u001B[0m\u001B[0m\n\u001B[0;32m---> 72\u001B[0;31m         \u001B[0;32mreturn\u001B[0m \u001B[0mf\u001B[0m\u001B[0;34m(\u001B[0m\u001B[0;34m**\u001B[0m\u001B[0mkwargs\u001B[0m\u001B[0;34m)\u001B[0m\u001B[0;34m\u001B[0m\u001B[0;34m\u001B[0m\u001B[0m\n\u001B[0m\u001B[1;32m     73\u001B[0m     \u001B[0;32mreturn\u001B[0m \u001B[0minner_f\u001B[0m\u001B[0;34m\u001B[0m\u001B[0;34m\u001B[0m\u001B[0m\n\u001B[1;32m     74\u001B[0m \u001B[0;34m\u001B[0m\u001B[0m\n",
      "\u001B[0;32m/opt/conda/lib/python3.8/site-packages/sklearn/utils/validation.py\u001B[0m in \u001B[0;36mcheck_array\u001B[0;34m(array, accept_sparse, accept_large_sparse, dtype, order, copy, force_all_finite, ensure_2d, allow_nd, ensure_min_samples, ensure_min_features, estimator)\u001B[0m\n\u001B[1;32m    642\u001B[0m \u001B[0;34m\u001B[0m\u001B[0m\n\u001B[1;32m    643\u001B[0m         \u001B[0;32mif\u001B[0m \u001B[0mforce_all_finite\u001B[0m\u001B[0;34m:\u001B[0m\u001B[0;34m\u001B[0m\u001B[0;34m\u001B[0m\u001B[0m\n\u001B[0;32m--> 644\u001B[0;31m             _assert_all_finite(array,\n\u001B[0m\u001B[1;32m    645\u001B[0m                                allow_nan=force_all_finite == 'allow-nan')\n\u001B[1;32m    646\u001B[0m \u001B[0;34m\u001B[0m\u001B[0m\n",
      "\u001B[0;32m/opt/conda/lib/python3.8/site-packages/sklearn/utils/validation.py\u001B[0m in \u001B[0;36m_assert_all_finite\u001B[0;34m(X, allow_nan, msg_dtype)\u001B[0m\n\u001B[1;32m     94\u001B[0m                 not allow_nan and not np.isfinite(X).all()):\n\u001B[1;32m     95\u001B[0m             \u001B[0mtype_err\u001B[0m \u001B[0;34m=\u001B[0m \u001B[0;34m'infinity'\u001B[0m \u001B[0;32mif\u001B[0m \u001B[0mallow_nan\u001B[0m \u001B[0;32melse\u001B[0m \u001B[0;34m'NaN, infinity'\u001B[0m\u001B[0;34m\u001B[0m\u001B[0;34m\u001B[0m\u001B[0m\n\u001B[0;32m---> 96\u001B[0;31m             raise ValueError(\n\u001B[0m\u001B[1;32m     97\u001B[0m                     \u001B[0mmsg_err\u001B[0m\u001B[0;34m.\u001B[0m\u001B[0mformat\u001B[0m\u001B[0;34m\u001B[0m\u001B[0;34m\u001B[0m\u001B[0m\n\u001B[1;32m     98\u001B[0m                     (type_err,\n",
      "\u001B[0;31mValueError\u001B[0m: Input contains NaN, infinity or a value too large for dtype('float64')."
     ]
    }
   ],
   "source": [
    "\n",
    "bert_probabilities = bert_model.transform(documents=tmp_df_timeline[\"title\"].replace({None: \"\"}),\n",
    "                                          embeddings=np.array(list(tmp_df_timeline[\"document_embeddings\"])))[1]\n"
   ],
   "metadata": {
    "collapsed": false,
    "pycharm": {
     "name": "#%%\n"
    }
   }
  },
  {
   "cell_type": "code",
   "execution_count": 278,
   "outputs": [],
   "source": [
    "papa = np.array(tmp_df_timeline.document_embeddings.values.tolist()).flatten()"
   ],
   "metadata": {
    "collapsed": false,
    "pycharm": {
     "name": "#%%\n"
    }
   }
  },
  {
   "cell_type": "code",
   "execution_count": 280,
   "outputs": [
    {
     "data": {
      "text/plain": "[]"
     },
     "execution_count": 280,
     "metadata": {},
     "output_type": "execute_result"
    }
   ],
   "source": [
    "[x for x in papa if x == ]"
   ],
   "metadata": {
    "collapsed": false,
    "pycharm": {
     "name": "#%%\n"
    }
   }
  },
  {
   "cell_type": "code",
   "execution_count": 233,
   "outputs": [
    {
     "ename": "ZeroDivisionError",
     "evalue": "division by zero",
     "output_type": "error",
     "traceback": [
      "\u001B[0;31m---------------------------------------------------------------------------\u001B[0m",
      "\u001B[0;31mZeroDivisionError\u001B[0m                         Traceback (most recent call last)",
      "\u001B[0;32m/tmp/ipykernel_491761/2143540167.py\u001B[0m in \u001B[0;36m<module>\u001B[0;34m\u001B[0m\n\u001B[0;32m----> 1\u001B[0;31m \u001B[0mmake_topic_embeddings_column\u001B[0m\u001B[0;34m(\u001B[0m\u001B[0mtmp_df_timeline\u001B[0m\u001B[0;34m)\u001B[0m\u001B[0;34m\u001B[0m\u001B[0;34m\u001B[0m\u001B[0m\n\u001B[0m\u001B[1;32m      2\u001B[0m \u001B[0;34m\u001B[0m\u001B[0m\n",
      "\u001B[0;32m/tmp/ipykernel_491761/1832957636.py\u001B[0m in \u001B[0;36mmake_topic_embeddings_column\u001B[0;34m(dataset)\u001B[0m\n\u001B[1;32m      1\u001B[0m \u001B[0;32mdef\u001B[0m \u001B[0mmake_topic_embeddings_column\u001B[0m\u001B[0;34m(\u001B[0m\u001B[0mdataset\u001B[0m\u001B[0;34m:\u001B[0m \u001B[0mpd\u001B[0m\u001B[0;34m.\u001B[0m\u001B[0mDataFrame\u001B[0m\u001B[0;34m)\u001B[0m\u001B[0;34m:\u001B[0m\u001B[0;34m\u001B[0m\u001B[0;34m\u001B[0m\u001B[0m\n\u001B[0;32m----> 2\u001B[0;31m     bert_probabilities = bert_model.transform(documents=dataset['content'],\n\u001B[0m\u001B[1;32m      3\u001B[0m                                               embeddings=np.array(dataset[\"document_embeddings\"].values.tolist()).astype(\"float32\"))[1]\n\u001B[1;32m      4\u001B[0m     \u001B[0mdataset\u001B[0m\u001B[0;34m[\u001B[0m\u001B[0;34m'topic_embeddings'\u001B[0m\u001B[0;34m]\u001B[0m \u001B[0;34m=\u001B[0m \u001B[0mbert_probabilities\u001B[0m\u001B[0;34m.\u001B[0m\u001B[0mtolist\u001B[0m\u001B[0;34m(\u001B[0m\u001B[0;34m)\u001B[0m\u001B[0;34m\u001B[0m\u001B[0;34m\u001B[0m\u001B[0m\n\u001B[1;32m      5\u001B[0m \u001B[0;34m\u001B[0m\u001B[0m\n",
      "\u001B[0;32m/opt/conda/lib/python3.8/site-packages/bertopic/_bertopic.py\u001B[0m in \u001B[0;36mtransform\u001B[0;34m(self, documents, embeddings)\u001B[0m\n\u001B[1;32m    364\u001B[0m                                                   verbose=self.verbose)\n\u001B[1;32m    365\u001B[0m \u001B[0;34m\u001B[0m\u001B[0m\n\u001B[0;32m--> 366\u001B[0;31m         \u001B[0mumap_embeddings\u001B[0m \u001B[0;34m=\u001B[0m \u001B[0mself\u001B[0m\u001B[0;34m.\u001B[0m\u001B[0mumap_model\u001B[0m\u001B[0;34m.\u001B[0m\u001B[0mtransform\u001B[0m\u001B[0;34m(\u001B[0m\u001B[0membeddings\u001B[0m\u001B[0;34m)\u001B[0m\u001B[0;34m\u001B[0m\u001B[0;34m\u001B[0m\u001B[0m\n\u001B[0m\u001B[1;32m    367\u001B[0m         \u001B[0mpredictions\u001B[0m\u001B[0;34m,\u001B[0m \u001B[0mprobabilities\u001B[0m \u001B[0;34m=\u001B[0m \u001B[0mhdbscan\u001B[0m\u001B[0;34m.\u001B[0m\u001B[0mapproximate_predict\u001B[0m\u001B[0;34m(\u001B[0m\u001B[0mself\u001B[0m\u001B[0;34m.\u001B[0m\u001B[0mhdbscan_model\u001B[0m\u001B[0;34m,\u001B[0m \u001B[0mumap_embeddings\u001B[0m\u001B[0;34m)\u001B[0m\u001B[0;34m\u001B[0m\u001B[0;34m\u001B[0m\u001B[0m\n\u001B[1;32m    368\u001B[0m \u001B[0;34m\u001B[0m\u001B[0m\n",
      "\u001B[0;32m/opt/conda/lib/python3.8/site-packages/umap/umap_.py\u001B[0m in \u001B[0;36mtransform\u001B[0;34m(self, X)\u001B[0m\n\u001B[1;32m   2715\u001B[0m         \u001B[0;32melse\u001B[0m\u001B[0;34m:\u001B[0m\u001B[0;34m\u001B[0m\u001B[0;34m\u001B[0m\u001B[0m\n\u001B[1;32m   2716\u001B[0m             \u001B[0mepsilon\u001B[0m \u001B[0;34m=\u001B[0m \u001B[0;36m0.24\u001B[0m \u001B[0;32mif\u001B[0m \u001B[0mself\u001B[0m\u001B[0;34m.\u001B[0m\u001B[0m_knn_search_index\u001B[0m\u001B[0;34m.\u001B[0m\u001B[0m_angular_trees\u001B[0m \u001B[0;32melse\u001B[0m \u001B[0;36m0.12\u001B[0m\u001B[0;34m\u001B[0m\u001B[0;34m\u001B[0m\u001B[0m\n\u001B[0;32m-> 2717\u001B[0;31m             indices, dists = self._knn_search_index.query(\n\u001B[0m\u001B[1;32m   2718\u001B[0m                 \u001B[0mX\u001B[0m\u001B[0;34m,\u001B[0m \u001B[0mself\u001B[0m\u001B[0;34m.\u001B[0m\u001B[0mn_neighbors\u001B[0m\u001B[0;34m,\u001B[0m \u001B[0mepsilon\u001B[0m\u001B[0;34m=\u001B[0m\u001B[0mepsilon\u001B[0m\u001B[0;34m\u001B[0m\u001B[0;34m\u001B[0m\u001B[0m\n\u001B[1;32m   2719\u001B[0m             )\n",
      "\u001B[0;32m/opt/conda/lib/python3.8/site-packages/pynndescent/pynndescent_.py\u001B[0m in \u001B[0;36mquery\u001B[0;34m(self, query_data, k, epsilon)\u001B[0m\n\u001B[1;32m   1572\u001B[0m \u001B[0;34m\u001B[0m\u001B[0m\n\u001B[1;32m   1573\u001B[0m             \u001B[0mquery_data\u001B[0m \u001B[0;34m=\u001B[0m \u001B[0mnp\u001B[0m\u001B[0;34m.\u001B[0m\u001B[0masarray\u001B[0m\u001B[0;34m(\u001B[0m\u001B[0mquery_data\u001B[0m\u001B[0;34m)\u001B[0m\u001B[0;34m.\u001B[0m\u001B[0mastype\u001B[0m\u001B[0;34m(\u001B[0m\u001B[0mnp\u001B[0m\u001B[0;34m.\u001B[0m\u001B[0mfloat32\u001B[0m\u001B[0;34m,\u001B[0m \u001B[0morder\u001B[0m\u001B[0;34m=\u001B[0m\u001B[0;34m\"C\"\u001B[0m\u001B[0;34m)\u001B[0m\u001B[0;34m\u001B[0m\u001B[0;34m\u001B[0m\u001B[0m\n\u001B[0;32m-> 1574\u001B[0;31m             result = self._search_function(\n\u001B[0m\u001B[1;32m   1575\u001B[0m                 \u001B[0mquery_data\u001B[0m\u001B[0;34m,\u001B[0m \u001B[0mk\u001B[0m\u001B[0;34m,\u001B[0m \u001B[0mepsilon\u001B[0m\u001B[0;34m,\u001B[0m \u001B[0mself\u001B[0m\u001B[0;34m.\u001B[0m\u001B[0m_visited\u001B[0m\u001B[0;34m,\u001B[0m \u001B[0mself\u001B[0m\u001B[0;34m.\u001B[0m\u001B[0msearch_rng_state\u001B[0m\u001B[0;34m\u001B[0m\u001B[0;34m\u001B[0m\u001B[0m\n\u001B[1;32m   1576\u001B[0m             )\n",
      "\u001B[0;31mZeroDivisionError\u001B[0m: division by zero"
     ]
    }
   ],
   "source": [
    "make_topic_embeddings_column(tmp_df_timeline)"
   ],
   "metadata": {
    "collapsed": false,
    "pycharm": {
     "name": "#%%\n"
    }
   }
  },
  {
   "cell_type": "code",
   "execution_count": 206,
   "outputs": [
    {
     "ename": "ValueError",
     "evalue": "Input contains NaN, infinity or a value too large for dtype('float64').",
     "output_type": "error",
     "traceback": [
      "\u001B[0;31m---------------------------------------------------------------------------\u001B[0m",
      "\u001B[0;31mValueError\u001B[0m                                Traceback (most recent call last)",
      "\u001B[0;32m/tmp/ipykernel_491761/4104085841.py\u001B[0m in \u001B[0;36m<module>\u001B[0;34m\u001B[0m\n\u001B[1;32m      1\u001B[0m \u001B[0mmake_document_embeddings_column\u001B[0m\u001B[0;34m(\u001B[0m\u001B[0meu_timeline_df\u001B[0m\u001B[0;34m)\u001B[0m\u001B[0;34m\u001B[0m\u001B[0;34m\u001B[0m\u001B[0m\n\u001B[0;32m----> 2\u001B[0;31m \u001B[0mmake_topic_embeddings_column\u001B[0m\u001B[0;34m(\u001B[0m\u001B[0meu_timeline_df\u001B[0m\u001B[0;34m)\u001B[0m\u001B[0;34m\u001B[0m\u001B[0;34m\u001B[0m\u001B[0m\n\u001B[0m\u001B[1;32m      3\u001B[0m \u001B[0;34m\u001B[0m\u001B[0m\n",
      "\u001B[0;32m/tmp/ipykernel_491761/1832957636.py\u001B[0m in \u001B[0;36mmake_topic_embeddings_column\u001B[0;34m(dataset)\u001B[0m\n\u001B[1;32m      1\u001B[0m \u001B[0;32mdef\u001B[0m \u001B[0mmake_topic_embeddings_column\u001B[0m\u001B[0;34m(\u001B[0m\u001B[0mdataset\u001B[0m\u001B[0;34m:\u001B[0m \u001B[0mpd\u001B[0m\u001B[0;34m.\u001B[0m\u001B[0mDataFrame\u001B[0m\u001B[0;34m)\u001B[0m\u001B[0;34m:\u001B[0m\u001B[0;34m\u001B[0m\u001B[0;34m\u001B[0m\u001B[0m\n\u001B[0;32m----> 2\u001B[0;31m     bert_probabilities = bert_model.transform(documents=dataset['content'],\n\u001B[0m\u001B[1;32m      3\u001B[0m                                               embeddings=np.array(dataset[\"document_embeddings\"].values.tolist()).astype(\"float32\"))[1]\n\u001B[1;32m      4\u001B[0m     \u001B[0mdataset\u001B[0m\u001B[0;34m[\u001B[0m\u001B[0;34m'topic_embeddings'\u001B[0m\u001B[0;34m]\u001B[0m \u001B[0;34m=\u001B[0m \u001B[0mbert_probabilities\u001B[0m\u001B[0;34m.\u001B[0m\u001B[0mtolist\u001B[0m\u001B[0;34m(\u001B[0m\u001B[0;34m)\u001B[0m\u001B[0;34m\u001B[0m\u001B[0;34m\u001B[0m\u001B[0m\n\u001B[1;32m      5\u001B[0m \u001B[0;34m\u001B[0m\u001B[0m\n",
      "\u001B[0;32m/opt/conda/lib/python3.8/site-packages/bertopic/_bertopic.py\u001B[0m in \u001B[0;36mtransform\u001B[0;34m(self, documents, embeddings)\u001B[0m\n\u001B[1;32m    365\u001B[0m \u001B[0;34m\u001B[0m\u001B[0m\n\u001B[1;32m    366\u001B[0m         \u001B[0mumap_embeddings\u001B[0m \u001B[0;34m=\u001B[0m \u001B[0mself\u001B[0m\u001B[0;34m.\u001B[0m\u001B[0mumap_model\u001B[0m\u001B[0;34m.\u001B[0m\u001B[0mtransform\u001B[0m\u001B[0;34m(\u001B[0m\u001B[0membeddings\u001B[0m\u001B[0;34m)\u001B[0m\u001B[0;34m\u001B[0m\u001B[0;34m\u001B[0m\u001B[0m\n\u001B[0;32m--> 367\u001B[0;31m         \u001B[0mpredictions\u001B[0m\u001B[0;34m,\u001B[0m \u001B[0mprobabilities\u001B[0m \u001B[0;34m=\u001B[0m \u001B[0mhdbscan\u001B[0m\u001B[0;34m.\u001B[0m\u001B[0mapproximate_predict\u001B[0m\u001B[0;34m(\u001B[0m\u001B[0mself\u001B[0m\u001B[0;34m.\u001B[0m\u001B[0mhdbscan_model\u001B[0m\u001B[0;34m,\u001B[0m \u001B[0mumap_embeddings\u001B[0m\u001B[0;34m)\u001B[0m\u001B[0;34m\u001B[0m\u001B[0;34m\u001B[0m\u001B[0m\n\u001B[0m\u001B[1;32m    368\u001B[0m \u001B[0;34m\u001B[0m\u001B[0m\n\u001B[1;32m    369\u001B[0m         \u001B[0;32mif\u001B[0m \u001B[0mself\u001B[0m\u001B[0;34m.\u001B[0m\u001B[0mcalculate_probabilities\u001B[0m\u001B[0;34m:\u001B[0m\u001B[0;34m\u001B[0m\u001B[0;34m\u001B[0m\u001B[0m\n",
      "\u001B[0;32m/opt/conda/lib/python3.8/site-packages/hdbscan/prediction.py\u001B[0m in \u001B[0;36mapproximate_predict\u001B[0;34m(clusterer, points_to_predict)\u001B[0m\n\u001B[1;32m    391\u001B[0m     \u001B[0mmin_samples\u001B[0m \u001B[0;34m=\u001B[0m \u001B[0mclusterer\u001B[0m\u001B[0;34m.\u001B[0m\u001B[0mmin_samples\u001B[0m \u001B[0;32mor\u001B[0m \u001B[0mclusterer\u001B[0m\u001B[0;34m.\u001B[0m\u001B[0mmin_cluster_size\u001B[0m\u001B[0;34m\u001B[0m\u001B[0;34m\u001B[0m\u001B[0m\n\u001B[1;32m    392\u001B[0m     \u001B[0mneighbor_distances\u001B[0m\u001B[0;34m,\u001B[0m \u001B[0mneighbor_indices\u001B[0m \u001B[0;34m=\u001B[0m\u001B[0;31m \u001B[0m\u001B[0;31m\\\u001B[0m\u001B[0;34m\u001B[0m\u001B[0;34m\u001B[0m\u001B[0m\n\u001B[0;32m--> 393\u001B[0;31m         clusterer.prediction_data_.tree.query(points_to_predict,\n\u001B[0m\u001B[1;32m    394\u001B[0m                                               k=2 * min_samples)\n\u001B[1;32m    395\u001B[0m \u001B[0;34m\u001B[0m\u001B[0m\n",
      "\u001B[0;32msklearn/neighbors/_binary_tree.pxi\u001B[0m in \u001B[0;36msklearn.neighbors._kd_tree.BinaryTree.query\u001B[0;34m()\u001B[0m\n",
      "\u001B[0;32m/opt/conda/lib/python3.8/site-packages/sklearn/utils/validation.py\u001B[0m in \u001B[0;36minner_f\u001B[0;34m(*args, **kwargs)\u001B[0m\n\u001B[1;32m     70\u001B[0m             warnings.warn(f\"Pass {args_msg} as keyword args. From version \"\n\u001B[1;32m     71\u001B[0m                           \u001B[0;34mf\"{version} passing these as positional arguments \"\u001B[0m\u001B[0;34m\u001B[0m\u001B[0;34m\u001B[0m\u001B[0m\n\u001B[0;32m---> 72\u001B[0;31m                           \"will result in an error\", FutureWarning)\n\u001B[0m\u001B[1;32m     73\u001B[0m             \u001B[0mkwargs\u001B[0m\u001B[0;34m.\u001B[0m\u001B[0mupdate\u001B[0m\u001B[0;34m(\u001B[0m\u001B[0mzip\u001B[0m\u001B[0;34m(\u001B[0m\u001B[0msig\u001B[0m\u001B[0;34m.\u001B[0m\u001B[0mparameters\u001B[0m\u001B[0;34m,\u001B[0m \u001B[0margs\u001B[0m\u001B[0;34m)\u001B[0m\u001B[0;34m)\u001B[0m\u001B[0;34m\u001B[0m\u001B[0;34m\u001B[0m\u001B[0m\n\u001B[1;32m     74\u001B[0m             \u001B[0;32mreturn\u001B[0m \u001B[0mf\u001B[0m\u001B[0;34m(\u001B[0m\u001B[0;34m**\u001B[0m\u001B[0mkwargs\u001B[0m\u001B[0;34m)\u001B[0m\u001B[0;34m\u001B[0m\u001B[0;34m\u001B[0m\u001B[0m\n",
      "\u001B[0;32m/opt/conda/lib/python3.8/site-packages/sklearn/utils/validation.py\u001B[0m in \u001B[0;36mcheck_array\u001B[0;34m(array, accept_sparse, accept_large_sparse, dtype, order, copy, force_all_finite, ensure_2d, allow_nd, ensure_min_samples, ensure_min_features, estimator)\u001B[0m\n\u001B[1;32m    642\u001B[0m                     \u001B[0;34m\"Pandas DataFrame with mixed sparse extension arrays \"\u001B[0m\u001B[0;34m\u001B[0m\u001B[0;34m\u001B[0m\u001B[0m\n\u001B[1;32m    643\u001B[0m                     \u001B[0;34m\"generated a sparse matrix with object dtype which \"\u001B[0m\u001B[0;34m\u001B[0m\u001B[0;34m\u001B[0m\u001B[0m\n\u001B[0;32m--> 644\u001B[0;31m                     \u001B[0;34m\"can not be converted to a scipy sparse matrix.\"\u001B[0m\u001B[0;34m\u001B[0m\u001B[0;34m\u001B[0m\u001B[0m\n\u001B[0m\u001B[1;32m    645\u001B[0m                     \u001B[0;34m\"Sparse extension arrays should all have the same \"\u001B[0m\u001B[0;34m\u001B[0m\u001B[0;34m\u001B[0m\u001B[0m\n\u001B[1;32m    646\u001B[0m                     \"numeric type.\")\n",
      "\u001B[0;32m/opt/conda/lib/python3.8/site-packages/sklearn/utils/validation.py\u001B[0m in \u001B[0;36m_assert_all_finite\u001B[0;34m(X, allow_nan, msg_dtype)\u001B[0m\n\u001B[1;32m     94\u001B[0m     \u001B[0;31m# safely to reduce dtype induced overflows.\u001B[0m\u001B[0;34m\u001B[0m\u001B[0;34m\u001B[0m\u001B[0;34m\u001B[0m\u001B[0m\n\u001B[1;32m     95\u001B[0m     \u001B[0mis_float\u001B[0m \u001B[0;34m=\u001B[0m \u001B[0mX\u001B[0m\u001B[0;34m.\u001B[0m\u001B[0mdtype\u001B[0m\u001B[0;34m.\u001B[0m\u001B[0mkind\u001B[0m \u001B[0;32min\u001B[0m \u001B[0;34m'fc'\u001B[0m\u001B[0;34m\u001B[0m\u001B[0;34m\u001B[0m\u001B[0m\n\u001B[0;32m---> 96\u001B[0;31m     \u001B[0;32mif\u001B[0m \u001B[0mis_float\u001B[0m \u001B[0;32mand\u001B[0m \u001B[0;34m(\u001B[0m\u001B[0mnp\u001B[0m\u001B[0;34m.\u001B[0m\u001B[0misfinite\u001B[0m\u001B[0;34m(\u001B[0m\u001B[0m_safe_accumulator_op\u001B[0m\u001B[0;34m(\u001B[0m\u001B[0mnp\u001B[0m\u001B[0;34m.\u001B[0m\u001B[0msum\u001B[0m\u001B[0;34m,\u001B[0m \u001B[0mX\u001B[0m\u001B[0;34m)\u001B[0m\u001B[0;34m)\u001B[0m\u001B[0;34m)\u001B[0m\u001B[0;34m:\u001B[0m\u001B[0;34m\u001B[0m\u001B[0;34m\u001B[0m\u001B[0m\n\u001B[0m\u001B[1;32m     97\u001B[0m         \u001B[0;32mpass\u001B[0m\u001B[0;34m\u001B[0m\u001B[0;34m\u001B[0m\u001B[0m\n\u001B[1;32m     98\u001B[0m     \u001B[0;32melif\u001B[0m \u001B[0mis_float\u001B[0m\u001B[0;34m:\u001B[0m\u001B[0;34m\u001B[0m\u001B[0;34m\u001B[0m\u001B[0m\n",
      "\u001B[0;31mValueError\u001B[0m: Input contains NaN, infinity or a value too large for dtype('float64')."
     ]
    }
   ],
   "source": [
    "make_document_embeddings_column(eu_timeline_df)\n",
    "make_topic_embeddings_column(eu_timeline_df)"
   ],
   "metadata": {
    "collapsed": false,
    "pycharm": {
     "name": "#%%\n"
    }
   }
  },
  {
   "cell_type": "code",
   "execution_count": 163,
   "outputs": [],
   "source": [
    "CONTENT_COLUMNS = [\"title\", \"abstract\", \"detail_content\"]\n",
    "eu_timeline_df[\"content\"] = eu_timeline_df[CONTENT_COLUMNS].apply(lambda row: ' '.join(row.values.astype(str)), axis=1)\n",
    "\n",
    "\n",
    "\n",
    "for x in eu_timeline_df[\"content\"].values:\n",
    "    if x == \"\":\n",
    "        print(\"empty\")\n",
    "\n",
    "eu_timeline_df[eu_timeline_df.content == np.NaN]\n",
    "\n",
    "\n",
    "p = np.array(eu_timeline_df.document_embeddings.values.tolist()).flatten()\n",
    "\n",
    "\n",
    "\n",
    "\n",
    "[x for x in p if x == np.NaN]"
   ],
   "metadata": {
    "collapsed": false,
    "pycharm": {
     "name": "#%%\n"
    }
   }
  },
  {
   "cell_type": "code",
   "execution_count": 201,
   "outputs": [],
   "source": [
    "eu_timeline_df[\"content\"] = eu_timeline_df[CONTENT_COLUMNS].agg(lambda x: \" \".join(item if item else \"\" for item in x), axis=1)"
   ],
   "metadata": {
    "collapsed": false,
    "pycharm": {
     "name": "#%%\n"
    }
   }
  },
  {
   "cell_type": "code",
   "execution_count": 197,
   "outputs": [
    {
     "data": {
      "text/plain": "_id\n0      EU countries adopt guidelines on proof of vacc...\n1      Commission endorses Latvia's €1.8 billion reco...\n2      Commission unveils EU vaccines strategy The Co...\n3      European roadmap shows path towards common lif...\n4      Commission puts forward rules on rapid antigen...\n                             ...                        \n205    Commission identifies five promising candidate...\n206    Setting out coordinated response to counter th...\n207    Prolonging State aid Temporary Framework to fu...\n208    Commission and EIB provide CureVac with a €75 ...\n209    Commission endorses France's €39.4 billion rec...\nName: content, Length: 210, dtype: object"
     },
     "execution_count": 197,
     "metadata": {},
     "output_type": "execute_result"
    }
   ],
   "source": [
    "eu_timeline_df[\"content\"]"
   ],
   "metadata": {
    "collapsed": false,
    "pycharm": {
     "name": "#%%\n"
    }
   }
  },
  {
   "cell_type": "code",
   "execution_count": 202,
   "outputs": [
    {
     "ename": "ValueError",
     "evalue": "Input contains NaN, infinity or a value too large for dtype('float64').",
     "output_type": "error",
     "traceback": [
      "\u001B[0;31m---------------------------------------------------------------------------\u001B[0m",
      "\u001B[0;31mValueError\u001B[0m                                Traceback (most recent call last)",
      "\u001B[0;32m/tmp/ipykernel_491761/3503954794.py\u001B[0m in \u001B[0;36m<module>\u001B[0;34m\u001B[0m\n\u001B[0;32m----> 1\u001B[0;31m bert_probabilities = bert_model.transform(documents=eu_timeline_df[\"content\"],\n\u001B[0m\u001B[1;32m      2\u001B[0m                                           embeddings=np.array(eu_timeline_df[\"document_embeddings\"].values.tolist()).astype(\"float32\"))[1]\n\u001B[1;32m      3\u001B[0m \u001B[0;34m\u001B[0m\u001B[0m\n",
      "\u001B[0;32m/opt/conda/lib/python3.8/site-packages/bertopic/_bertopic.py\u001B[0m in \u001B[0;36mtransform\u001B[0;34m(self, documents, embeddings)\u001B[0m\n\u001B[1;32m    365\u001B[0m \u001B[0;34m\u001B[0m\u001B[0m\n\u001B[1;32m    366\u001B[0m         \u001B[0mumap_embeddings\u001B[0m \u001B[0;34m=\u001B[0m \u001B[0mself\u001B[0m\u001B[0;34m.\u001B[0m\u001B[0mumap_model\u001B[0m\u001B[0;34m.\u001B[0m\u001B[0mtransform\u001B[0m\u001B[0;34m(\u001B[0m\u001B[0membeddings\u001B[0m\u001B[0;34m)\u001B[0m\u001B[0;34m\u001B[0m\u001B[0;34m\u001B[0m\u001B[0m\n\u001B[0;32m--> 367\u001B[0;31m         \u001B[0mpredictions\u001B[0m\u001B[0;34m,\u001B[0m \u001B[0mprobabilities\u001B[0m \u001B[0;34m=\u001B[0m \u001B[0mhdbscan\u001B[0m\u001B[0;34m.\u001B[0m\u001B[0mapproximate_predict\u001B[0m\u001B[0;34m(\u001B[0m\u001B[0mself\u001B[0m\u001B[0;34m.\u001B[0m\u001B[0mhdbscan_model\u001B[0m\u001B[0;34m,\u001B[0m \u001B[0mumap_embeddings\u001B[0m\u001B[0;34m)\u001B[0m\u001B[0;34m\u001B[0m\u001B[0;34m\u001B[0m\u001B[0m\n\u001B[0m\u001B[1;32m    368\u001B[0m \u001B[0;34m\u001B[0m\u001B[0m\n\u001B[1;32m    369\u001B[0m         \u001B[0;32mif\u001B[0m \u001B[0mself\u001B[0m\u001B[0;34m.\u001B[0m\u001B[0mcalculate_probabilities\u001B[0m\u001B[0;34m:\u001B[0m\u001B[0;34m\u001B[0m\u001B[0;34m\u001B[0m\u001B[0m\n",
      "\u001B[0;32m/opt/conda/lib/python3.8/site-packages/hdbscan/prediction.py\u001B[0m in \u001B[0;36mapproximate_predict\u001B[0;34m(clusterer, points_to_predict)\u001B[0m\n\u001B[1;32m    391\u001B[0m     \u001B[0mmin_samples\u001B[0m \u001B[0;34m=\u001B[0m \u001B[0mclusterer\u001B[0m\u001B[0;34m.\u001B[0m\u001B[0mmin_samples\u001B[0m \u001B[0;32mor\u001B[0m \u001B[0mclusterer\u001B[0m\u001B[0;34m.\u001B[0m\u001B[0mmin_cluster_size\u001B[0m\u001B[0;34m\u001B[0m\u001B[0;34m\u001B[0m\u001B[0m\n\u001B[1;32m    392\u001B[0m     \u001B[0mneighbor_distances\u001B[0m\u001B[0;34m,\u001B[0m \u001B[0mneighbor_indices\u001B[0m \u001B[0;34m=\u001B[0m\u001B[0;31m \u001B[0m\u001B[0;31m\\\u001B[0m\u001B[0;34m\u001B[0m\u001B[0;34m\u001B[0m\u001B[0m\n\u001B[0;32m--> 393\u001B[0;31m         clusterer.prediction_data_.tree.query(points_to_predict,\n\u001B[0m\u001B[1;32m    394\u001B[0m                                               k=2 * min_samples)\n\u001B[1;32m    395\u001B[0m \u001B[0;34m\u001B[0m\u001B[0m\n",
      "\u001B[0;32msklearn/neighbors/_binary_tree.pxi\u001B[0m in \u001B[0;36msklearn.neighbors._kd_tree.BinaryTree.query\u001B[0;34m()\u001B[0m\n",
      "\u001B[0;32m/opt/conda/lib/python3.8/site-packages/sklearn/utils/validation.py\u001B[0m in \u001B[0;36minner_f\u001B[0;34m(*args, **kwargs)\u001B[0m\n\u001B[1;32m     70\u001B[0m             warnings.warn(f\"Pass {args_msg} as keyword args. From version \"\n\u001B[1;32m     71\u001B[0m                           \u001B[0;34mf\"{version} passing these as positional arguments \"\u001B[0m\u001B[0;34m\u001B[0m\u001B[0;34m\u001B[0m\u001B[0m\n\u001B[0;32m---> 72\u001B[0;31m                           \"will result in an error\", FutureWarning)\n\u001B[0m\u001B[1;32m     73\u001B[0m             \u001B[0mkwargs\u001B[0m\u001B[0;34m.\u001B[0m\u001B[0mupdate\u001B[0m\u001B[0;34m(\u001B[0m\u001B[0mzip\u001B[0m\u001B[0;34m(\u001B[0m\u001B[0msig\u001B[0m\u001B[0;34m.\u001B[0m\u001B[0mparameters\u001B[0m\u001B[0;34m,\u001B[0m \u001B[0margs\u001B[0m\u001B[0;34m)\u001B[0m\u001B[0;34m)\u001B[0m\u001B[0;34m\u001B[0m\u001B[0;34m\u001B[0m\u001B[0m\n\u001B[1;32m     74\u001B[0m             \u001B[0;32mreturn\u001B[0m \u001B[0mf\u001B[0m\u001B[0;34m(\u001B[0m\u001B[0;34m**\u001B[0m\u001B[0mkwargs\u001B[0m\u001B[0;34m)\u001B[0m\u001B[0;34m\u001B[0m\u001B[0;34m\u001B[0m\u001B[0m\n",
      "\u001B[0;32m/opt/conda/lib/python3.8/site-packages/sklearn/utils/validation.py\u001B[0m in \u001B[0;36mcheck_array\u001B[0;34m(array, accept_sparse, accept_large_sparse, dtype, order, copy, force_all_finite, ensure_2d, allow_nd, ensure_min_samples, ensure_min_features, estimator)\u001B[0m\n\u001B[1;32m    642\u001B[0m                     \u001B[0;34m\"Pandas DataFrame with mixed sparse extension arrays \"\u001B[0m\u001B[0;34m\u001B[0m\u001B[0;34m\u001B[0m\u001B[0m\n\u001B[1;32m    643\u001B[0m                     \u001B[0;34m\"generated a sparse matrix with object dtype which \"\u001B[0m\u001B[0;34m\u001B[0m\u001B[0;34m\u001B[0m\u001B[0m\n\u001B[0;32m--> 644\u001B[0;31m                     \u001B[0;34m\"can not be converted to a scipy sparse matrix.\"\u001B[0m\u001B[0;34m\u001B[0m\u001B[0;34m\u001B[0m\u001B[0m\n\u001B[0m\u001B[1;32m    645\u001B[0m                     \u001B[0;34m\"Sparse extension arrays should all have the same \"\u001B[0m\u001B[0;34m\u001B[0m\u001B[0;34m\u001B[0m\u001B[0m\n\u001B[1;32m    646\u001B[0m                     \"numeric type.\")\n",
      "\u001B[0;32m/opt/conda/lib/python3.8/site-packages/sklearn/utils/validation.py\u001B[0m in \u001B[0;36m_assert_all_finite\u001B[0;34m(X, allow_nan, msg_dtype)\u001B[0m\n\u001B[1;32m     94\u001B[0m     \u001B[0;31m# safely to reduce dtype induced overflows.\u001B[0m\u001B[0;34m\u001B[0m\u001B[0;34m\u001B[0m\u001B[0;34m\u001B[0m\u001B[0m\n\u001B[1;32m     95\u001B[0m     \u001B[0mis_float\u001B[0m \u001B[0;34m=\u001B[0m \u001B[0mX\u001B[0m\u001B[0;34m.\u001B[0m\u001B[0mdtype\u001B[0m\u001B[0;34m.\u001B[0m\u001B[0mkind\u001B[0m \u001B[0;32min\u001B[0m \u001B[0;34m'fc'\u001B[0m\u001B[0;34m\u001B[0m\u001B[0;34m\u001B[0m\u001B[0m\n\u001B[0;32m---> 96\u001B[0;31m     \u001B[0;32mif\u001B[0m \u001B[0mis_float\u001B[0m \u001B[0;32mand\u001B[0m \u001B[0;34m(\u001B[0m\u001B[0mnp\u001B[0m\u001B[0;34m.\u001B[0m\u001B[0misfinite\u001B[0m\u001B[0;34m(\u001B[0m\u001B[0m_safe_accumulator_op\u001B[0m\u001B[0;34m(\u001B[0m\u001B[0mnp\u001B[0m\u001B[0;34m.\u001B[0m\u001B[0msum\u001B[0m\u001B[0;34m,\u001B[0m \u001B[0mX\u001B[0m\u001B[0;34m)\u001B[0m\u001B[0;34m)\u001B[0m\u001B[0;34m)\u001B[0m\u001B[0;34m:\u001B[0m\u001B[0;34m\u001B[0m\u001B[0;34m\u001B[0m\u001B[0m\n\u001B[0m\u001B[1;32m     97\u001B[0m         \u001B[0;32mpass\u001B[0m\u001B[0;34m\u001B[0m\u001B[0;34m\u001B[0m\u001B[0m\n\u001B[1;32m     98\u001B[0m     \u001B[0;32melif\u001B[0m \u001B[0mis_float\u001B[0m\u001B[0;34m:\u001B[0m\u001B[0;34m\u001B[0m\u001B[0;34m\u001B[0m\u001B[0m\n",
      "\u001B[0;31mValueError\u001B[0m: Input contains NaN, infinity or a value too large for dtype('float64')."
     ]
    }
   ],
   "source": [],
   "metadata": {
    "collapsed": false,
    "pycharm": {
     "name": "#%%\n"
    }
   }
  },
  {
   "cell_type": "code",
   "execution_count": 240,
   "outputs": [],
   "source": [
    "#add values if the specific column exists in the current dataset\n",
    "eu_timeline_df[\"eu_timeline_topic\"] = eu_timeline_df[\"topics\"]"
   ],
   "metadata": {
    "collapsed": false,
    "pycharm": {
     "name": "#%%\n"
    }
   }
  },
  {
   "cell_type": "code",
   "execution_count": 241,
   "outputs": [],
   "source": [
    "# rename columns in the current dataset and prepare new version for merging\n",
    "eu_timeline_df.rename(columns={\"category\": \"pwdb_category\", \"funding\": \"pwdb_funding\", \"type_of_measure\": \"pwdb_type_of_measure\"\n",
    "    }, inplace=True)\n"
   ],
   "metadata": {
    "collapsed": false,
    "pycharm": {
     "name": "#%%\n"
    }
   }
  },
  {
   "cell_type": "code",
   "execution_count": 242,
   "outputs": [
    {
     "ename": "KeyError",
     "evalue": "\"['topic_embeddings'] not in index\"",
     "output_type": "error",
     "traceback": [
      "\u001B[0;31m---------------------------------------------------------------------------\u001B[0m",
      "\u001B[0;31mKeyError\u001B[0m                                  Traceback (most recent call last)",
      "\u001B[0;32m/tmp/ipykernel_491761/3050190064.py\u001B[0m in \u001B[0;36m<module>\u001B[0;34m\u001B[0m\n\u001B[0;32m----> 1\u001B[0;31m \u001B[0mtmp_eu_timeline_df\u001B[0m \u001B[0;34m=\u001B[0m \u001B[0mpd\u001B[0m\u001B[0;34m.\u001B[0m\u001B[0mDataFrame\u001B[0m\u001B[0;34m(\u001B[0m\u001B[0meu_timeline_df\u001B[0m\u001B[0;34m[\u001B[0m\u001B[0mCOMMON_DATASET_COLUMNS\u001B[0m \u001B[0;34m+\u001B[0m \u001B[0mSPECIFIC_DATASET_COLUMNS\u001B[0m\u001B[0;34m]\u001B[0m\u001B[0;34m)\u001B[0m\u001B[0;34m\u001B[0m\u001B[0;34m\u001B[0m\u001B[0m\n\u001B[0m\u001B[1;32m      2\u001B[0m \u001B[0;34m\u001B[0m\u001B[0m\n\u001B[1;32m      3\u001B[0m \u001B[0;34m\u001B[0m\u001B[0m\n",
      "\u001B[0;32m/opt/conda/lib/python3.8/site-packages/pandas/core/frame.py\u001B[0m in \u001B[0;36m__getitem__\u001B[0;34m(self, key)\u001B[0m\n\u001B[1;32m   3462\u001B[0m             \u001B[0;32mif\u001B[0m \u001B[0mis_iterator\u001B[0m\u001B[0;34m(\u001B[0m\u001B[0mkey\u001B[0m\u001B[0;34m)\u001B[0m\u001B[0;34m:\u001B[0m\u001B[0;34m\u001B[0m\u001B[0;34m\u001B[0m\u001B[0m\n\u001B[1;32m   3463\u001B[0m                 \u001B[0mkey\u001B[0m \u001B[0;34m=\u001B[0m \u001B[0mlist\u001B[0m\u001B[0;34m(\u001B[0m\u001B[0mkey\u001B[0m\u001B[0;34m)\u001B[0m\u001B[0;34m\u001B[0m\u001B[0;34m\u001B[0m\u001B[0m\n\u001B[0;32m-> 3464\u001B[0;31m             \u001B[0mindexer\u001B[0m \u001B[0;34m=\u001B[0m \u001B[0mself\u001B[0m\u001B[0;34m.\u001B[0m\u001B[0mloc\u001B[0m\u001B[0;34m.\u001B[0m\u001B[0m_get_listlike_indexer\u001B[0m\u001B[0;34m(\u001B[0m\u001B[0mkey\u001B[0m\u001B[0;34m,\u001B[0m \u001B[0maxis\u001B[0m\u001B[0;34m=\u001B[0m\u001B[0;36m1\u001B[0m\u001B[0;34m)\u001B[0m\u001B[0;34m[\u001B[0m\u001B[0;36m1\u001B[0m\u001B[0;34m]\u001B[0m\u001B[0;34m\u001B[0m\u001B[0;34m\u001B[0m\u001B[0m\n\u001B[0m\u001B[1;32m   3465\u001B[0m \u001B[0;34m\u001B[0m\u001B[0m\n\u001B[1;32m   3466\u001B[0m         \u001B[0;31m# take() does not accept boolean indexers\u001B[0m\u001B[0;34m\u001B[0m\u001B[0;34m\u001B[0m\u001B[0;34m\u001B[0m\u001B[0m\n",
      "\u001B[0;32m/opt/conda/lib/python3.8/site-packages/pandas/core/indexing.py\u001B[0m in \u001B[0;36m_get_listlike_indexer\u001B[0;34m(self, key, axis)\u001B[0m\n\u001B[1;32m   1312\u001B[0m             \u001B[0mkeyarr\u001B[0m\u001B[0;34m,\u001B[0m \u001B[0mindexer\u001B[0m\u001B[0;34m,\u001B[0m \u001B[0mnew_indexer\u001B[0m \u001B[0;34m=\u001B[0m \u001B[0max\u001B[0m\u001B[0;34m.\u001B[0m\u001B[0m_reindex_non_unique\u001B[0m\u001B[0;34m(\u001B[0m\u001B[0mkeyarr\u001B[0m\u001B[0;34m)\u001B[0m\u001B[0;34m\u001B[0m\u001B[0;34m\u001B[0m\u001B[0m\n\u001B[1;32m   1313\u001B[0m \u001B[0;34m\u001B[0m\u001B[0m\n\u001B[0;32m-> 1314\u001B[0;31m         \u001B[0mself\u001B[0m\u001B[0;34m.\u001B[0m\u001B[0m_validate_read_indexer\u001B[0m\u001B[0;34m(\u001B[0m\u001B[0mkeyarr\u001B[0m\u001B[0;34m,\u001B[0m \u001B[0mindexer\u001B[0m\u001B[0;34m,\u001B[0m \u001B[0maxis\u001B[0m\u001B[0;34m)\u001B[0m\u001B[0;34m\u001B[0m\u001B[0;34m\u001B[0m\u001B[0m\n\u001B[0m\u001B[1;32m   1315\u001B[0m \u001B[0;34m\u001B[0m\u001B[0m\n\u001B[1;32m   1316\u001B[0m         if needs_i8_conversion(ax.dtype) or isinstance(\n",
      "\u001B[0;32m/opt/conda/lib/python3.8/site-packages/pandas/core/indexing.py\u001B[0m in \u001B[0;36m_validate_read_indexer\u001B[0;34m(self, key, indexer, axis)\u001B[0m\n\u001B[1;32m   1375\u001B[0m \u001B[0;34m\u001B[0m\u001B[0m\n\u001B[1;32m   1376\u001B[0m             \u001B[0mnot_found\u001B[0m \u001B[0;34m=\u001B[0m \u001B[0mlist\u001B[0m\u001B[0;34m(\u001B[0m\u001B[0mensure_index\u001B[0m\u001B[0;34m(\u001B[0m\u001B[0mkey\u001B[0m\u001B[0;34m)\u001B[0m\u001B[0;34m[\u001B[0m\u001B[0mmissing_mask\u001B[0m\u001B[0;34m.\u001B[0m\u001B[0mnonzero\u001B[0m\u001B[0;34m(\u001B[0m\u001B[0;34m)\u001B[0m\u001B[0;34m[\u001B[0m\u001B[0;36m0\u001B[0m\u001B[0;34m]\u001B[0m\u001B[0;34m]\u001B[0m\u001B[0;34m.\u001B[0m\u001B[0munique\u001B[0m\u001B[0;34m(\u001B[0m\u001B[0;34m)\u001B[0m\u001B[0;34m)\u001B[0m\u001B[0;34m\u001B[0m\u001B[0;34m\u001B[0m\u001B[0m\n\u001B[0;32m-> 1377\u001B[0;31m             \u001B[0;32mraise\u001B[0m \u001B[0mKeyError\u001B[0m\u001B[0;34m(\u001B[0m\u001B[0;34mf\"{not_found} not in index\"\u001B[0m\u001B[0;34m)\u001B[0m\u001B[0;34m\u001B[0m\u001B[0;34m\u001B[0m\u001B[0m\n\u001B[0m\u001B[1;32m   1378\u001B[0m \u001B[0;34m\u001B[0m\u001B[0m\n\u001B[1;32m   1379\u001B[0m \u001B[0;34m\u001B[0m\u001B[0m\n",
      "\u001B[0;31mKeyError\u001B[0m: \"['topic_embeddings'] not in index\""
     ]
    }
   ],
   "source": [
    "\n",
    "tmp_eu_timeline_df = pd.DataFrame(eu_timeline_df[COMMON_DATASET_COLUMNS + SPECIFIC_DATASET_COLUMNS])\n"
   ],
   "metadata": {
    "collapsed": false,
    "pycharm": {
     "name": "#%%\n"
    }
   }
  },
  {
   "cell_type": "code",
   "execution_count": 243,
   "outputs": [
    {
     "ename": "NameError",
     "evalue": "name 'tmp_eu_timeline_df' is not defined",
     "output_type": "error",
     "traceback": [
      "\u001B[0;31m---------------------------------------------------------------------------\u001B[0m",
      "\u001B[0;31mNameError\u001B[0m                                 Traceback (most recent call last)",
      "\u001B[0;32m/tmp/ipykernel_491761/1352595322.py\u001B[0m in \u001B[0;36m<module>\u001B[0;34m\u001B[0m\n\u001B[1;32m      1\u001B[0m \u001B[0;31m# Verify if the new version has all the necessary columns\u001B[0m\u001B[0;34m\u001B[0m\u001B[0;34m\u001B[0m\u001B[0;34m\u001B[0m\u001B[0m\n\u001B[0;32m----> 2\u001B[0;31m \u001B[0;32mif\u001B[0m \u001B[0mtmp_eu_timeline_df\u001B[0m\u001B[0;34m.\u001B[0m\u001B[0mcolumns\u001B[0m\u001B[0;34m.\u001B[0m\u001B[0mtolist\u001B[0m\u001B[0;34m(\u001B[0m\u001B[0;34m)\u001B[0m \u001B[0;34m==\u001B[0m \u001B[0mCOMMON_DATASET_COLUMNS\u001B[0m \u001B[0;34m+\u001B[0m \u001B[0mSPECIFIC_DATASET_COLUMNS\u001B[0m\u001B[0;34m:\u001B[0m\u001B[0;34m\u001B[0m\u001B[0;34m\u001B[0m\u001B[0m\n\u001B[0m\u001B[1;32m      3\u001B[0m     \u001B[0mprint\u001B[0m\u001B[0;34m(\u001B[0m\u001B[0;34m\"ready for merge\"\u001B[0m\u001B[0;34m)\u001B[0m\u001B[0;34m\u001B[0m\u001B[0;34m\u001B[0m\u001B[0m\n\u001B[1;32m      4\u001B[0m \u001B[0;32melse\u001B[0m\u001B[0;34m:\u001B[0m\u001B[0;34m\u001B[0m\u001B[0;34m\u001B[0m\u001B[0m\n\u001B[1;32m      5\u001B[0m     \u001B[0;32mraise\u001B[0m \u001B[0mValueError\u001B[0m\u001B[0;34m(\u001B[0m\u001B[0;34m\"Some columns are missing!! Not ready for merge\"\u001B[0m\u001B[0;34m)\u001B[0m\u001B[0;34m\u001B[0m\u001B[0;34m\u001B[0m\u001B[0m\n",
      "\u001B[0;31mNameError\u001B[0m: name 'tmp_eu_timeline_df' is not defined"
     ]
    }
   ],
   "source": [
    "# Verify if the new version has all the necessary columns\n",
    "if tmp_eu_timeline_df.columns.tolist() == COMMON_DATASET_COLUMNS + SPECIFIC_DATASET_COLUMNS:\n",
    "    print(\"ready for merge\")\n",
    "else:\n",
    "    raise ValueError(\"Some columns are missing!! Not ready for merge\")\n"
   ],
   "metadata": {
    "collapsed": false,
    "pycharm": {
     "name": "#%%\n"
    }
   }
  },
  {
   "cell_type": "code",
   "execution_count": 16,
   "outputs": [
    {
     "data": {
      "text/plain": "                                                          date detail_date\n_id                                                                       \n01dc34ca5f6bfa5316012d6f89a4256b8d2ce6e3a12210b...  2021-01-28         NaN\n04d776c061243576ffc1e1c5a724d41ecca2ed12339b2ff...  2021-06-22  2021-06-22\n04eb55005a803c7353e5d5ed339d7f3a72cc8da6e49f2b8...  2020-06-16  2020-06-17\n073e22ec2b44a5f2f6289f09dc954ecd6ca6cbb4a4b33ff...  2020-04-15  2020-04-15\n0a3650bef3282d09d971dd92dc01570b7ecbdb67a4bdd0f...  2020-12-18         NaN\n...                                                        ...         ...\nfa793c764aaf89c283f747036c9d73fd66f0a7e3692be56...  2021-06-29  2021-06-29\nfb9c4d1634da94c73fd529b44ec40057c28a5c925a8b8e7...  2020-03-13  2020-03-13\nfbad1d421cf80d3e0e4c6b6d3d60a2a6ec8bed4ee19e07c...  2021-01-28  2020-03-19\nfbeff236835d3cfd394f9c9fd5b63eb524c9cdab6e68c93...  2020-07-06  2020-07-06\nffbf6d305594c49b6f5d4d66f56e674f1d953833ba9fdce...  2021-06-23  2021-06-23\n\n[210 rows x 2 columns]",
      "text/html": "<div>\n<style scoped>\n    .dataframe tbody tr th:only-of-type {\n        vertical-align: middle;\n    }\n\n    .dataframe tbody tr th {\n        vertical-align: top;\n    }\n\n    .dataframe thead th {\n        text-align: right;\n    }\n</style>\n<table border=\"1\" class=\"dataframe\">\n  <thead>\n    <tr style=\"text-align: right;\">\n      <th></th>\n      <th>date</th>\n      <th>detail_date</th>\n    </tr>\n    <tr>\n      <th>_id</th>\n      <th></th>\n      <th></th>\n    </tr>\n  </thead>\n  <tbody>\n    <tr>\n      <th>01dc34ca5f6bfa5316012d6f89a4256b8d2ce6e3a12210b0406903dd15bf36ac</th>\n      <td>2021-01-28</td>\n      <td>NaN</td>\n    </tr>\n    <tr>\n      <th>04d776c061243576ffc1e1c5a724d41ecca2ed12339b2ff473c5aa2ff1a071c7</th>\n      <td>2021-06-22</td>\n      <td>2021-06-22</td>\n    </tr>\n    <tr>\n      <th>04eb55005a803c7353e5d5ed339d7f3a72cc8da6e49f2b8b152bf8fb40a1398f</th>\n      <td>2020-06-16</td>\n      <td>2020-06-17</td>\n    </tr>\n    <tr>\n      <th>073e22ec2b44a5f2f6289f09dc954ecd6ca6cbb4a4b33ffd88c3c150572569c0</th>\n      <td>2020-04-15</td>\n      <td>2020-04-15</td>\n    </tr>\n    <tr>\n      <th>0a3650bef3282d09d971dd92dc01570b7ecbdb67a4bdd0ff1c8cf8443a06b937</th>\n      <td>2020-12-18</td>\n      <td>NaN</td>\n    </tr>\n    <tr>\n      <th>...</th>\n      <td>...</td>\n      <td>...</td>\n    </tr>\n    <tr>\n      <th>fa793c764aaf89c283f747036c9d73fd66f0a7e3692be56b8ac985610bef2417</th>\n      <td>2021-06-29</td>\n      <td>2021-06-29</td>\n    </tr>\n    <tr>\n      <th>fb9c4d1634da94c73fd529b44ec40057c28a5c925a8b8e71d73c49e5a815784d</th>\n      <td>2020-03-13</td>\n      <td>2020-03-13</td>\n    </tr>\n    <tr>\n      <th>fbad1d421cf80d3e0e4c6b6d3d60a2a6ec8bed4ee19e07cd15d963fa74352420</th>\n      <td>2021-01-28</td>\n      <td>2020-03-19</td>\n    </tr>\n    <tr>\n      <th>fbeff236835d3cfd394f9c9fd5b63eb524c9cdab6e68c9370758f3e35592973e</th>\n      <td>2020-07-06</td>\n      <td>2020-07-06</td>\n    </tr>\n    <tr>\n      <th>ffbf6d305594c49b6f5d4d66f56e674f1d953833ba9fdceed84d72370c884653</th>\n      <td>2021-06-23</td>\n      <td>2021-06-23</td>\n    </tr>\n  </tbody>\n</table>\n<p>210 rows × 2 columns</p>\n</div>"
     },
     "execution_count": 16,
     "metadata": {},
     "output_type": "execute_result"
    }
   ],
   "source": [
    "#What are the columns that shows dates\n",
    "date_columns = [col for col in eu_timeline_df.columns if \"date\" in col]\n",
    "eu_timeline_df[date_columns]\n"
   ],
   "metadata": {
    "collapsed": false,
    "pycharm": {
     "name": "#%%\n"
    }
   }
  },
  {
   "cell_type": "code",
   "execution_count": 44,
   "outputs": [
    {
     "data": {
      "text/plain": "_id\n01dc34ca5f6bfa5316012d6f89a4256b8d2ce6e3a12210b0406903dd15bf36ac                                                  NaN\n04d776c061243576ffc1e1c5a724d41ecca2ed12339b2ff473c5aa2ff1a071c7    The European Commission has today adopted a po...\n04eb55005a803c7353e5d5ed339d7f3a72cc8da6e49f2b8b152bf8fb40a1398f    Today, to help protect people everywhere, the ...\n073e22ec2b44a5f2f6289f09dc954ecd6ca6cbb4a4b33ffd88c3c150572569c0    Today, the Commission, in cooperation with the...\n0a3650bef3282d09d971dd92dc01570b7ecbdb67a4bdd0ff1c8cf8443a06b937                                                  NaN\n                                                                                          ...                        \nfa793c764aaf89c283f747036c9d73fd66f0a7e3692be56b8ac985610bef2417    The EU Strategy on COVID-19 Therapeutics deliv...\nfb9c4d1634da94c73fd529b44ec40057c28a5c925a8b8e71d73c49e5a815784d    COVID-19 is a severe public health emergency f...\nfbad1d421cf80d3e0e4c6b6d3d60a2a6ec8bed4ee19e07cd15d963fa74352420    The European Commission has adopted a Temporar...\nfbeff236835d3cfd394f9c9fd5b63eb524c9cdab6e68c9370758f3e35592973e    European Investment Bank and CureVac sign 75 m...\nffbf6d305594c49b6f5d4d66f56e674f1d953833ba9fdceed84d72370c884653    The European Commission has today adopted a po...\nName: detail_content, Length: 225, dtype: object"
     },
     "execution_count": 44,
     "metadata": {},
     "output_type": "execute_result"
    }
   ],
   "source": [
    "eu_timeline_df[\"detail_content\"]"
   ],
   "metadata": {
    "collapsed": false,
    "pycharm": {
     "name": "#%%\n"
    }
   }
  },
  {
   "cell_type": "code",
   "execution_count": 17,
   "outputs": [],
   "source": [
    "# Create new dataframe with the wanted content and columns from EU timeline dataset\n",
    "tmp_eu_timeline_df = pd.DataFrame(eu_timeline_df[[\"date\", \"title\", \"detail_content\"]])\n",
    "tmp_eu_timeline_df[\"doc_source\"] = \"eu_timeline\""
   ],
   "metadata": {
    "collapsed": false,
    "pycharm": {
     "name": "#%%\n"
    }
   }
  },
  {
   "cell_type": "code",
   "execution_count": 18,
   "outputs": [
    {
     "data": {
      "text/plain": "                                                          date  \\\n_id                                                              \n01dc34ca5f6bfa5316012d6f89a4256b8d2ce6e3a12210b...  2021-01-28   \n04d776c061243576ffc1e1c5a724d41ecca2ed12339b2ff...  2021-06-22   \n04eb55005a803c7353e5d5ed339d7f3a72cc8da6e49f2b8...  2020-06-16   \n073e22ec2b44a5f2f6289f09dc954ecd6ca6cbb4a4b33ff...  2020-04-15   \n0a3650bef3282d09d971dd92dc01570b7ecbdb67a4bdd0f...  2020-12-18   \n...                                                        ...   \nfa793c764aaf89c283f747036c9d73fd66f0a7e3692be56...  2021-06-29   \nfb9c4d1634da94c73fd529b44ec40057c28a5c925a8b8e7...  2020-03-13   \nfbad1d421cf80d3e0e4c6b6d3d60a2a6ec8bed4ee19e07c...  2021-01-28   \nfbeff236835d3cfd394f9c9fd5b63eb524c9cdab6e68c93...  2020-07-06   \nffbf6d305594c49b6f5d4d66f56e674f1d953833ba9fdce...  2021-06-23   \n\n                                                                                                title  \\\n_id                                                                                                     \n01dc34ca5f6bfa5316012d6f89a4256b8d2ce6e3a12210b...  EU countries adopt guidelines on proof of vacc...   \n04d776c061243576ffc1e1c5a724d41ecca2ed12339b2ff...  Commission endorses Latvia's €1.8 billion reco...   \n04eb55005a803c7353e5d5ed339d7f3a72cc8da6e49f2b8...            Commission unveils EU vaccines strategy   \n073e22ec2b44a5f2f6289f09dc954ecd6ca6cbb4a4b33ff...  European roadmap shows path towards common lif...   \n0a3650bef3282d09d971dd92dc01570b7ecbdb67a4bdd0f...  Commission puts forward rules on rapid antigen...   \n...                                                                                               ...   \nfa793c764aaf89c283f747036c9d73fd66f0a7e3692be56...  Commission identifies five promising candidate...   \nfb9c4d1634da94c73fd529b44ec40057c28a5c925a8b8e7...  Setting out coordinated response to counter th...   \nfbad1d421cf80d3e0e4c6b6d3d60a2a6ec8bed4ee19e07c...  Prolonging State aid Temporary Framework to fu...   \nfbeff236835d3cfd394f9c9fd5b63eb524c9cdab6e68c93...  Commission and EIB provide CureVac with a €75 ...   \nffbf6d305594c49b6f5d4d66f56e674f1d953833ba9fdce...  Commission endorses France's €39.4 billion rec...   \n\n                                                                                       detail_content  \\\n_id                                                                                                     \n01dc34ca5f6bfa5316012d6f89a4256b8d2ce6e3a12210b...                                                NaN   \n04d776c061243576ffc1e1c5a724d41ecca2ed12339b2ff...  The European Commission has today adopted a po...   \n04eb55005a803c7353e5d5ed339d7f3a72cc8da6e49f2b8...  Today, to help protect people everywhere, the ...   \n073e22ec2b44a5f2f6289f09dc954ecd6ca6cbb4a4b33ff...  Today, the Commission, in cooperation with the...   \n0a3650bef3282d09d971dd92dc01570b7ecbdb67a4bdd0f...                                                NaN   \n...                                                                                               ...   \nfa793c764aaf89c283f747036c9d73fd66f0a7e3692be56...  The EU Strategy on COVID-19 Therapeutics deliv...   \nfb9c4d1634da94c73fd529b44ec40057c28a5c925a8b8e7...  COVID-19 is a severe public health emergency f...   \nfbad1d421cf80d3e0e4c6b6d3d60a2a6ec8bed4ee19e07c...              The European Commission has adopted a   \nfbeff236835d3cfd394f9c9fd5b63eb524c9cdab6e68c93...                                                      \nffbf6d305594c49b6f5d4d66f56e674f1d953833ba9fdce...  The European Commission has today adopted a po...   \n\n                                                     doc_source  \n_id                                                              \n01dc34ca5f6bfa5316012d6f89a4256b8d2ce6e3a12210b...  eu_timeline  \n04d776c061243576ffc1e1c5a724d41ecca2ed12339b2ff...  eu_timeline  \n04eb55005a803c7353e5d5ed339d7f3a72cc8da6e49f2b8...  eu_timeline  \n073e22ec2b44a5f2f6289f09dc954ecd6ca6cbb4a4b33ff...  eu_timeline  \n0a3650bef3282d09d971dd92dc01570b7ecbdb67a4bdd0f...  eu_timeline  \n...                                                         ...  \nfa793c764aaf89c283f747036c9d73fd66f0a7e3692be56...  eu_timeline  \nfb9c4d1634da94c73fd529b44ec40057c28a5c925a8b8e7...  eu_timeline  \nfbad1d421cf80d3e0e4c6b6d3d60a2a6ec8bed4ee19e07c...  eu_timeline  \nfbeff236835d3cfd394f9c9fd5b63eb524c9cdab6e68c93...  eu_timeline  \nffbf6d305594c49b6f5d4d66f56e674f1d953833ba9fdce...  eu_timeline  \n\n[210 rows x 4 columns]",
      "text/html": "<div>\n<style scoped>\n    .dataframe tbody tr th:only-of-type {\n        vertical-align: middle;\n    }\n\n    .dataframe tbody tr th {\n        vertical-align: top;\n    }\n\n    .dataframe thead th {\n        text-align: right;\n    }\n</style>\n<table border=\"1\" class=\"dataframe\">\n  <thead>\n    <tr style=\"text-align: right;\">\n      <th></th>\n      <th>date</th>\n      <th>title</th>\n      <th>detail_content</th>\n      <th>doc_source</th>\n    </tr>\n    <tr>\n      <th>_id</th>\n      <th></th>\n      <th></th>\n      <th></th>\n      <th></th>\n    </tr>\n  </thead>\n  <tbody>\n    <tr>\n      <th>01dc34ca5f6bfa5316012d6f89a4256b8d2ce6e3a12210b0406903dd15bf36ac</th>\n      <td>2021-01-28</td>\n      <td>EU countries adopt guidelines on proof of vacc...</td>\n      <td>NaN</td>\n      <td>eu_timeline</td>\n    </tr>\n    <tr>\n      <th>04d776c061243576ffc1e1c5a724d41ecca2ed12339b2ff473c5aa2ff1a071c7</th>\n      <td>2021-06-22</td>\n      <td>Commission endorses Latvia's €1.8 billion reco...</td>\n      <td>The European Commission has today adopted a po...</td>\n      <td>eu_timeline</td>\n    </tr>\n    <tr>\n      <th>04eb55005a803c7353e5d5ed339d7f3a72cc8da6e49f2b8b152bf8fb40a1398f</th>\n      <td>2020-06-16</td>\n      <td>Commission unveils EU vaccines strategy</td>\n      <td>Today, to help protect people everywhere, the ...</td>\n      <td>eu_timeline</td>\n    </tr>\n    <tr>\n      <th>073e22ec2b44a5f2f6289f09dc954ecd6ca6cbb4a4b33ffd88c3c150572569c0</th>\n      <td>2020-04-15</td>\n      <td>European roadmap shows path towards common lif...</td>\n      <td>Today, the Commission, in cooperation with the...</td>\n      <td>eu_timeline</td>\n    </tr>\n    <tr>\n      <th>0a3650bef3282d09d971dd92dc01570b7ecbdb67a4bdd0ff1c8cf8443a06b937</th>\n      <td>2020-12-18</td>\n      <td>Commission puts forward rules on rapid antigen...</td>\n      <td>NaN</td>\n      <td>eu_timeline</td>\n    </tr>\n    <tr>\n      <th>...</th>\n      <td>...</td>\n      <td>...</td>\n      <td>...</td>\n      <td>...</td>\n    </tr>\n    <tr>\n      <th>fa793c764aaf89c283f747036c9d73fd66f0a7e3692be56b8ac985610bef2417</th>\n      <td>2021-06-29</td>\n      <td>Commission identifies five promising candidate...</td>\n      <td>The EU Strategy on COVID-19 Therapeutics deliv...</td>\n      <td>eu_timeline</td>\n    </tr>\n    <tr>\n      <th>fb9c4d1634da94c73fd529b44ec40057c28a5c925a8b8e71d73c49e5a815784d</th>\n      <td>2020-03-13</td>\n      <td>Setting out coordinated response to counter th...</td>\n      <td>COVID-19 is a severe public health emergency f...</td>\n      <td>eu_timeline</td>\n    </tr>\n    <tr>\n      <th>fbad1d421cf80d3e0e4c6b6d3d60a2a6ec8bed4ee19e07cd15d963fa74352420</th>\n      <td>2021-01-28</td>\n      <td>Prolonging State aid Temporary Framework to fu...</td>\n      <td>The European Commission has adopted a</td>\n      <td>eu_timeline</td>\n    </tr>\n    <tr>\n      <th>fbeff236835d3cfd394f9c9fd5b63eb524c9cdab6e68c9370758f3e35592973e</th>\n      <td>2020-07-06</td>\n      <td>Commission and EIB provide CureVac with a €75 ...</td>\n      <td></td>\n      <td>eu_timeline</td>\n    </tr>\n    <tr>\n      <th>ffbf6d305594c49b6f5d4d66f56e674f1d953833ba9fdceed84d72370c884653</th>\n      <td>2021-06-23</td>\n      <td>Commission endorses France's €39.4 billion rec...</td>\n      <td>The European Commission has today adopted a po...</td>\n      <td>eu_timeline</td>\n    </tr>\n  </tbody>\n</table>\n<p>210 rows × 4 columns</p>\n</div>"
     },
     "execution_count": 18,
     "metadata": {},
     "output_type": "execute_result"
    }
   ],
   "source": [
    "# See the newly created EU timeline  dataframe\n",
    "tmp_eu_timeline_df"
   ],
   "metadata": {
    "collapsed": false,
    "pycharm": {
     "name": "#%%\n"
    }
   }
  },
  {
   "cell_type": "code",
   "execution_count": 19,
   "outputs": [
    {
     "data": {
      "text/plain": "Index(['keyword', 'page_type', 'page_link', 'department_data',\n       'published_date', 'updated_date', 'title', 'content', 'content_links',\n       'campaigns_links', 'part_of_links', 'documents'],\n      dtype='object')"
     },
     "execution_count": 19,
     "metadata": {},
     "output_type": "execute_result"
    }
   ],
   "source": [
    "# Print dataframe columns\n",
    "ir_timeline_df.columns\n",
    "\n"
   ],
   "metadata": {
    "collapsed": false,
    "pycharm": {
     "name": "#%%\n"
    }
   }
  },
  {
   "cell_type": "code",
   "execution_count": 20,
   "outputs": [
    {
     "data": {
      "text/plain": "                                                   published_date updated_date\n_id                                                                           \n41c0f398402f522980ec6e3ae49ef3b60b7139c1deb0ba7...     2021-03-24   2021-03-24\n41d85d20ea2ffeaba4c27e36def4c03986ad83679fb62a0...     2020-07-30   2020-07-30\n420468c03e6550d8111344aa4d28d7e7cfd70037b16f8ca...     2020-06-06   2020-06-06\n42081c8a3c63d62e4b0ef27f6a3386848b45d71665318ef...     2021-07-21   2021-07-23\n421dd88edfd80b1fbc6c350565455e1a218774c9d4f1d74...     2020-12-10   2020-12-11\n...                                                           ...          ...\nff4ea2ef933287c4125d898245e878ae9fcb1b356b3c60d...     2021-01-22   2021-01-23\nff7508dca9aaf53565b08dc6826102bff9176584afc245b...     2021-08-25   2021-08-27\nff82338ae7c8129669562babc1c0d7a893a9c59f6d2bd00...     2020-03-20   2020-03-20\nffef06958ad76786347e3aa545351f708105f6db826708b...     2021-05-24   2021-06-01\nfff7b98741a044543ea4dbfb02fd702386f1bdfbf84db6e...     2021-08-25   2021-08-26\n\n[1921 rows x 2 columns]",
      "text/html": "<div>\n<style scoped>\n    .dataframe tbody tr th:only-of-type {\n        vertical-align: middle;\n    }\n\n    .dataframe tbody tr th {\n        vertical-align: top;\n    }\n\n    .dataframe thead th {\n        text-align: right;\n    }\n</style>\n<table border=\"1\" class=\"dataframe\">\n  <thead>\n    <tr style=\"text-align: right;\">\n      <th></th>\n      <th>published_date</th>\n      <th>updated_date</th>\n    </tr>\n    <tr>\n      <th>_id</th>\n      <th></th>\n      <th></th>\n    </tr>\n  </thead>\n  <tbody>\n    <tr>\n      <th>41c0f398402f522980ec6e3ae49ef3b60b7139c1deb0ba75db830e77f62d5bdd</th>\n      <td>2021-03-24</td>\n      <td>2021-03-24</td>\n    </tr>\n    <tr>\n      <th>41d85d20ea2ffeaba4c27e36def4c03986ad83679fb62a07de6214abf0309ae1</th>\n      <td>2020-07-30</td>\n      <td>2020-07-30</td>\n    </tr>\n    <tr>\n      <th>420468c03e6550d8111344aa4d28d7e7cfd70037b16f8cab3451ff52d6bbd7b5</th>\n      <td>2020-06-06</td>\n      <td>2020-06-06</td>\n    </tr>\n    <tr>\n      <th>42081c8a3c63d62e4b0ef27f6a3386848b45d71665318ef14642649bb9b11b3e</th>\n      <td>2021-07-21</td>\n      <td>2021-07-23</td>\n    </tr>\n    <tr>\n      <th>421dd88edfd80b1fbc6c350565455e1a218774c9d4f1d74bbe2047d972187736</th>\n      <td>2020-12-10</td>\n      <td>2020-12-11</td>\n    </tr>\n    <tr>\n      <th>...</th>\n      <td>...</td>\n      <td>...</td>\n    </tr>\n    <tr>\n      <th>ff4ea2ef933287c4125d898245e878ae9fcb1b356b3c60de288dd97020bdd3a5</th>\n      <td>2021-01-22</td>\n      <td>2021-01-23</td>\n    </tr>\n    <tr>\n      <th>ff7508dca9aaf53565b08dc6826102bff9176584afc245b9947c18dae946506a</th>\n      <td>2021-08-25</td>\n      <td>2021-08-27</td>\n    </tr>\n    <tr>\n      <th>ff82338ae7c8129669562babc1c0d7a893a9c59f6d2bd00cefe853539721367e</th>\n      <td>2020-03-20</td>\n      <td>2020-03-20</td>\n    </tr>\n    <tr>\n      <th>ffef06958ad76786347e3aa545351f708105f6db826708b4523cd16ea150e702</th>\n      <td>2021-05-24</td>\n      <td>2021-06-01</td>\n    </tr>\n    <tr>\n      <th>fff7b98741a044543ea4dbfb02fd702386f1bdfbf84db6e9d110bd95d65c22d7</th>\n      <td>2021-08-25</td>\n      <td>2021-08-26</td>\n    </tr>\n  </tbody>\n</table>\n<p>1921 rows × 2 columns</p>\n</div>"
     },
     "execution_count": 20,
     "metadata": {},
     "output_type": "execute_result"
    }
   ],
   "source": [
    "#What are the columns that shows dates\n",
    "date_columns = [col for col in ir_timeline_df.columns if \"date\" in col]\n",
    "ir_timeline_df[date_columns]\n",
    "\n"
   ],
   "metadata": {
    "collapsed": false,
    "pycharm": {
     "name": "#%%\n"
    }
   }
  },
  {
   "cell_type": "code",
   "execution_count": 21,
   "outputs": [],
   "source": [
    "# Create new dataframe with the wanted content and columns from Ireland timeline dataset\n",
    "tmp_ir_timeline_df = pd.DataFrame(ir_timeline_df[[\"published_date\", \"title\", \"content\"]])\n",
    "tmp_ir_timeline_df[\"doc_source\"] = \"ireland_timeline\""
   ],
   "metadata": {
    "collapsed": false,
    "pycharm": {
     "name": "#%%\n"
    }
   }
  },
  {
   "cell_type": "code",
   "execution_count": 22,
   "outputs": [
    {
     "data": {
      "text/plain": "                                                   published_date  \\\n_id                                                                 \n41c0f398402f522980ec6e3ae49ef3b60b7139c1deb0ba7...     2021-03-24   \n41d85d20ea2ffeaba4c27e36def4c03986ad83679fb62a0...     2020-07-30   \n420468c03e6550d8111344aa4d28d7e7cfd70037b16f8ca...     2020-06-06   \n42081c8a3c63d62e4b0ef27f6a3386848b45d71665318ef...     2021-07-21   \n421dd88edfd80b1fbc6c350565455e1a218774c9d4f1d74...     2020-12-10   \n...                                                           ...   \nff4ea2ef933287c4125d898245e878ae9fcb1b356b3c60d...     2021-01-22   \nff7508dca9aaf53565b08dc6826102bff9176584afc245b...     2021-08-25   \nff82338ae7c8129669562babc1c0d7a893a9c59f6d2bd00...     2020-03-20   \nffef06958ad76786347e3aa545351f708105f6db826708b...     2021-05-24   \nfff7b98741a044543ea4dbfb02fd702386f1bdfbf84db6e...     2021-08-25   \n\n                                                                                                title  \\\n_id                                                                                                     \n41c0f398402f522980ec6e3ae49ef3b60b7139c1deb0ba7...  Statement by Minister for Education Norma Fole...   \n41d85d20ea2ffeaba4c27e36def4c03986ad83679fb62a0...  From pencil and paper to drones and satellites...   \n420468c03e6550d8111344aa4d28d7e7cfd70037b16f8ca...  Return to Sport Expert Group recommends furthe...   \n42081c8a3c63d62e4b0ef27f6a3386848b45d71665318ef...  Government to put “special focus” on Drogheda ...   \n421dd88edfd80b1fbc6c350565455e1a218774c9d4f1d74...  Statement from the National Public Health Emer...   \n...                                                                                               ...   \nff4ea2ef933287c4125d898245e878ae9fcb1b356b3c60d...  Statement from the National Public Health Emer...   \nff7508dca9aaf53565b08dc6826102bff9176584afc245b...  Ministers McConalogue and Heydon launch Code o...   \nff82338ae7c8129669562babc1c0d7a893a9c59f6d2bd00...  Press Release on Civil Defence in the context ...   \nffef06958ad76786347e3aa545351f708105f6db826708b...  Minister O’Gorman launches ‘LGBTI+ Youth in Ir...   \nfff7b98741a044543ea4dbfb02fd702386f1bdfbf84db6e...  Statement from the National Public Health Emer...   \n\n                                                                                              content  \\\n_id                                                                                                     \n41c0f398402f522980ec6e3ae49ef3b60b7139c1deb0ba7...  The State Examinations Commission is today iss...   \n41d85d20ea2ffeaba4c27e36def4c03986ad83679fb62a0...  July 31 2020 marks the 175th anniversary of th...   \n420468c03e6550d8111344aa4d28d7e7cfd70037b16f8ca...  The Minister for Transport, Tourism and Sport,...   \n42081c8a3c63d62e4b0ef27f6a3386848b45d71665318ef...  Government agrees that funding applications un...   \n421dd88edfd80b1fbc6c350565455e1a218774c9d4f1d74...  1. Hospital statistics 2. Gender of patients 3...   \n...                                                                                               ...   \nff4ea2ef933287c4125d898245e878ae9fcb1b356b3c60d...  The Health Protection Surveillance Centre has ...   \nff7508dca9aaf53565b08dc6826102bff9176584afc245b...  The Minister for Agriculture, Food and the Mar...   \nff82338ae7c8129669562babc1c0d7a893a9c59f6d2bd00...  Civil Defence (Cosaint Shibhialta) is a statut...   \nffef06958ad76786347e3aa545351f708105f6db826708b...  Minister for Children, Equality, Disability, I...   \nfff7b98741a044543ea4dbfb02fd702386f1bdfbf84db6e...  The Health Protection Surveillance Centre has ...   \n\n                                                          doc_source  \n_id                                                                   \n41c0f398402f522980ec6e3ae49ef3b60b7139c1deb0ba7...  ireland_timeline  \n41d85d20ea2ffeaba4c27e36def4c03986ad83679fb62a0...  ireland_timeline  \n420468c03e6550d8111344aa4d28d7e7cfd70037b16f8ca...  ireland_timeline  \n42081c8a3c63d62e4b0ef27f6a3386848b45d71665318ef...  ireland_timeline  \n421dd88edfd80b1fbc6c350565455e1a218774c9d4f1d74...  ireland_timeline  \n...                                                              ...  \nff4ea2ef933287c4125d898245e878ae9fcb1b356b3c60d...  ireland_timeline  \nff7508dca9aaf53565b08dc6826102bff9176584afc245b...  ireland_timeline  \nff82338ae7c8129669562babc1c0d7a893a9c59f6d2bd00...  ireland_timeline  \nffef06958ad76786347e3aa545351f708105f6db826708b...  ireland_timeline  \nfff7b98741a044543ea4dbfb02fd702386f1bdfbf84db6e...  ireland_timeline  \n\n[1921 rows x 4 columns]",
      "text/html": "<div>\n<style scoped>\n    .dataframe tbody tr th:only-of-type {\n        vertical-align: middle;\n    }\n\n    .dataframe tbody tr th {\n        vertical-align: top;\n    }\n\n    .dataframe thead th {\n        text-align: right;\n    }\n</style>\n<table border=\"1\" class=\"dataframe\">\n  <thead>\n    <tr style=\"text-align: right;\">\n      <th></th>\n      <th>published_date</th>\n      <th>title</th>\n      <th>content</th>\n      <th>doc_source</th>\n    </tr>\n    <tr>\n      <th>_id</th>\n      <th></th>\n      <th></th>\n      <th></th>\n      <th></th>\n    </tr>\n  </thead>\n  <tbody>\n    <tr>\n      <th>41c0f398402f522980ec6e3ae49ef3b60b7139c1deb0ba75db830e77f62d5bdd</th>\n      <td>2021-03-24</td>\n      <td>Statement by Minister for Education Norma Fole...</td>\n      <td>The State Examinations Commission is today iss...</td>\n      <td>ireland_timeline</td>\n    </tr>\n    <tr>\n      <th>41d85d20ea2ffeaba4c27e36def4c03986ad83679fb62a07de6214abf0309ae1</th>\n      <td>2020-07-30</td>\n      <td>From pencil and paper to drones and satellites...</td>\n      <td>July 31 2020 marks the 175th anniversary of th...</td>\n      <td>ireland_timeline</td>\n    </tr>\n    <tr>\n      <th>420468c03e6550d8111344aa4d28d7e7cfd70037b16f8cab3451ff52d6bbd7b5</th>\n      <td>2020-06-06</td>\n      <td>Return to Sport Expert Group recommends furthe...</td>\n      <td>The Minister for Transport, Tourism and Sport,...</td>\n      <td>ireland_timeline</td>\n    </tr>\n    <tr>\n      <th>42081c8a3c63d62e4b0ef27f6a3386848b45d71665318ef14642649bb9b11b3e</th>\n      <td>2021-07-21</td>\n      <td>Government to put “special focus” on Drogheda ...</td>\n      <td>Government agrees that funding applications un...</td>\n      <td>ireland_timeline</td>\n    </tr>\n    <tr>\n      <th>421dd88edfd80b1fbc6c350565455e1a218774c9d4f1d74bbe2047d972187736</th>\n      <td>2020-12-10</td>\n      <td>Statement from the National Public Health Emer...</td>\n      <td>1. Hospital statistics 2. Gender of patients 3...</td>\n      <td>ireland_timeline</td>\n    </tr>\n    <tr>\n      <th>...</th>\n      <td>...</td>\n      <td>...</td>\n      <td>...</td>\n      <td>...</td>\n    </tr>\n    <tr>\n      <th>ff4ea2ef933287c4125d898245e878ae9fcb1b356b3c60de288dd97020bdd3a5</th>\n      <td>2021-01-22</td>\n      <td>Statement from the National Public Health Emer...</td>\n      <td>The Health Protection Surveillance Centre has ...</td>\n      <td>ireland_timeline</td>\n    </tr>\n    <tr>\n      <th>ff7508dca9aaf53565b08dc6826102bff9176584afc245b9947c18dae946506a</th>\n      <td>2021-08-25</td>\n      <td>Ministers McConalogue and Heydon launch Code o...</td>\n      <td>The Minister for Agriculture, Food and the Mar...</td>\n      <td>ireland_timeline</td>\n    </tr>\n    <tr>\n      <th>ff82338ae7c8129669562babc1c0d7a893a9c59f6d2bd00cefe853539721367e</th>\n      <td>2020-03-20</td>\n      <td>Press Release on Civil Defence in the context ...</td>\n      <td>Civil Defence (Cosaint Shibhialta) is a statut...</td>\n      <td>ireland_timeline</td>\n    </tr>\n    <tr>\n      <th>ffef06958ad76786347e3aa545351f708105f6db826708b4523cd16ea150e702</th>\n      <td>2021-05-24</td>\n      <td>Minister O’Gorman launches ‘LGBTI+ Youth in Ir...</td>\n      <td>Minister for Children, Equality, Disability, I...</td>\n      <td>ireland_timeline</td>\n    </tr>\n    <tr>\n      <th>fff7b98741a044543ea4dbfb02fd702386f1bdfbf84db6e9d110bd95d65c22d7</th>\n      <td>2021-08-25</td>\n      <td>Statement from the National Public Health Emer...</td>\n      <td>The Health Protection Surveillance Centre has ...</td>\n      <td>ireland_timeline</td>\n    </tr>\n  </tbody>\n</table>\n<p>1921 rows × 4 columns</p>\n</div>"
     },
     "execution_count": 22,
     "metadata": {},
     "output_type": "execute_result"
    }
   ],
   "source": [
    "# See the newly created Ireland timeline  dataframe\n",
    "tmp_ir_timeline_df\n"
   ],
   "metadata": {
    "collapsed": false,
    "pycharm": {
     "name": "#%%\n"
    }
   }
  },
  {
   "cell_type": "code",
   "execution_count": 23,
   "outputs": [],
   "source": [
    "def replace_non_english_content(text):\n",
    "    if text is not None:\n",
    "        language = detect_langs(text)\n",
    "        language_details = str(language[0]).split(\":\")\n",
    "        if language_details[0] == \"en\" and float(language_details[1]) > 0.95:\n",
    "            return text\n",
    "        else:\n",
    "            return None\n",
    "\n",
    "\n"
   ],
   "metadata": {
    "collapsed": false,
    "pycharm": {
     "name": "#%%\n"
    }
   }
  },
  {
   "cell_type": "code",
   "execution_count": 24,
   "outputs": [],
   "source": [
    "#Renaming columns in dataframes and dropping rows without content, title and date\n",
    "data_frames = [tmp_cellar_df, tmp_eu_timeline_df, tmp_ir_timeline_df, tmp_pwdb_df]\n",
    "for data_frame in data_frames:\n",
    "    data_frame.columns = [\"Date\", \"Title\", \"Content\", \"Document_source\"]\n",
    "    data_frame[\"Content\"] = data_frame[\"Content\"].apply(lambda x: x if x != \"\" else None)\n",
    "    data_frame[\"Content\"] = data_frame[\"Content\"].replace({np.nan: None}).apply(lambda x: replace_non_english_content(x))\n",
    "    data_frame.dropna(subset=['Content', 'Title', 'Date'], how=\"any\", inplace=True)\n",
    "    # data_frame.dropna(subset=['Title'], inplace=True)\n",
    "    # data_frame.dropna(subset=['Date'], inplace=True)\n",
    "\n",
    "\n"
   ],
   "metadata": {
    "collapsed": false,
    "pycharm": {
     "name": "#%%\n"
    }
   }
  },
  {
   "cell_type": "code",
   "execution_count": 25,
   "outputs": [
    {
     "data": {
      "text/plain": "                                                          Date  \\\n_id                                                              \n0e3d35dcad11d1d80f8fb1c35599be27fb3e864874ab1ac...  2020-01-30   \n39dac43e4fffa3fc60906f3563e4d1547aea4a0f94e17cd...  2021-08-30   \n00f65d205b8df943ae8acbd34b729c3da11da1646e7e324...  2020-06-18   \n002086bd15c9aba8b8b3cdf88498e25735cf66043ddab88...  2020-09-07   \n014589ceb95203c13ee4bd097ddf2f164657cb6aeb1650d...  2021-05-20   \n...                                                        ...   \ntika/330d076853d0731e295d75f70841b445e4bc45061a...  2020-04-12   \ntika/ffaa29a24828dd01c81d66ece0f8f3c21451083be7...  2020-10-23   \ntika/3df93a8fb254187e8783d19760b465a98d88863e59...  2020-04-16   \ntika/71fc1cad3a3a8b9de4da7080acc3a8251fa8ff8c5b...  2020-04-06   \ntika/417384d22c3c6f1768aed95a928111a4652fd832c8...  2020-04-12   \n\n                                                                                                Title  \\\n_id                                                                                                     \n0e3d35dcad11d1d80f8fb1c35599be27fb3e864874ab1ac...  Prior notification of a concentration (Case M....   \n39dac43e4fffa3fc60906f3563e4d1547aea4a0f94e17cd...  COMMISSION STAFF WORKING DOCUMENT […] Accompan...   \n00f65d205b8df943ae8acbd34b729c3da11da1646e7e324...  P9_TA(2020)0157 Amending Regulations (EU) No 5...   \n002086bd15c9aba8b8b3cdf88498e25735cf66043ddab88...  Opinion No 6/2020 (pursuant to Article 287(4) ...   \n014589ceb95203c13ee4bd097ddf2f164657cb6aeb1650d...  Council Recommendation (EU) 2021/816 20 May 20...   \n...                                                                                               ...   \ntika/330d076853d0731e295d75f70841b445e4bc45061a...  Government support to assist the sports sector...   \ntika/ffaa29a24828dd01c81d66ece0f8f3c21451083be7...   National public sector collective agreement 2021   \ntika/3df93a8fb254187e8783d19760b465a98d88863e59...  Lifting of overtime work restrictions, extensi...   \ntika/71fc1cad3a3a8b9de4da7080acc3a8251fa8ff8c5b...     Exceptional regime suspending overtime limits    \ntika/417384d22c3c6f1768aed95a928111a4652fd832c8...               COVID-19: Income support for workers   \n\n                                                                                              Content  \\\n_id                                                                                                     \n0e3d35dcad11d1d80f8fb1c35599be27fb3e864874ab1ac...  30.1.2020 EN Official Journal of the European ...   \n39dac43e4fffa3fc60906f3563e4d1547aea4a0f94e17cd...  EUROPEAN COMMISSION Brussels, 30.8.2021 SWD(20...   \n00f65d205b8df943ae8acbd34b729c3da11da1646e7e324...  8.9.2021 EN Official Journal of the European U...   \n002086bd15c9aba8b8b3cdf88498e25735cf66043ddab88...  20.10.2020 EN Official Journal of the European...   \n014589ceb95203c13ee4bd097ddf2f164657cb6aeb1650d...  21.5.2021 EN Official Journal of the European ...   \n...                                                                                               ...   \ntika/330d076853d0731e295d75f70841b445e4bc45061a...  As sport events have been prohibited, the fina...   \ntika/ffaa29a24828dd01c81d66ece0f8f3c21451083be7...  On 16 October 2020, the Government of the Repu...   \ntika/3df93a8fb254187e8783d19760b465a98d88863e59...  The government with a Legislative Act  (Offici...   \ntika/71fc1cad3a3a8b9de4da7080acc3a8251fa8ff8c5b...  The Decree Law No. 10-A/2020 of 13 March, sett...   \ntika/417384d22c3c6f1768aed95a928111a4652fd832c8...  Key tax and spending measures have been implem...   \n\n                                                   Document_source  \n_id                                                                 \n0e3d35dcad11d1d80f8fb1c35599be27fb3e864874ab1ac...       eu_cellar  \n39dac43e4fffa3fc60906f3563e4d1547aea4a0f94e17cd...       eu_cellar  \n00f65d205b8df943ae8acbd34b729c3da11da1646e7e324...       eu_cellar  \n002086bd15c9aba8b8b3cdf88498e25735cf66043ddab88...       eu_cellar  \n014589ceb95203c13ee4bd097ddf2f164657cb6aeb1650d...       eu_cellar  \n...                                                            ...  \ntika/330d076853d0731e295d75f70841b445e4bc45061a...            pwdb  \ntika/ffaa29a24828dd01c81d66ece0f8f3c21451083be7...            pwdb  \ntika/3df93a8fb254187e8783d19760b465a98d88863e59...            pwdb  \ntika/71fc1cad3a3a8b9de4da7080acc3a8251fa8ff8c5b...            pwdb  \ntika/417384d22c3c6f1768aed95a928111a4652fd832c8...            pwdb  \n\n[6194 rows x 4 columns]",
      "text/html": "<div>\n<style scoped>\n    .dataframe tbody tr th:only-of-type {\n        vertical-align: middle;\n    }\n\n    .dataframe tbody tr th {\n        vertical-align: top;\n    }\n\n    .dataframe thead th {\n        text-align: right;\n    }\n</style>\n<table border=\"1\" class=\"dataframe\">\n  <thead>\n    <tr style=\"text-align: right;\">\n      <th></th>\n      <th>Date</th>\n      <th>Title</th>\n      <th>Content</th>\n      <th>Document_source</th>\n    </tr>\n    <tr>\n      <th>_id</th>\n      <th></th>\n      <th></th>\n      <th></th>\n      <th></th>\n    </tr>\n  </thead>\n  <tbody>\n    <tr>\n      <th>0e3d35dcad11d1d80f8fb1c35599be27fb3e864874ab1ac679fcd004723bc2e3</th>\n      <td>2020-01-30</td>\n      <td>Prior notification of a concentration (Case M....</td>\n      <td>30.1.2020 EN Official Journal of the European ...</td>\n      <td>eu_cellar</td>\n    </tr>\n    <tr>\n      <th>39dac43e4fffa3fc60906f3563e4d1547aea4a0f94e17cd28ec144b117e25df6</th>\n      <td>2021-08-30</td>\n      <td>COMMISSION STAFF WORKING DOCUMENT […] Accompan...</td>\n      <td>EUROPEAN COMMISSION Brussels, 30.8.2021 SWD(20...</td>\n      <td>eu_cellar</td>\n    </tr>\n    <tr>\n      <th>00f65d205b8df943ae8acbd34b729c3da11da1646e7e324a6c517f95f950a5d9</th>\n      <td>2020-06-18</td>\n      <td>P9_TA(2020)0157 Amending Regulations (EU) No 5...</td>\n      <td>8.9.2021 EN Official Journal of the European U...</td>\n      <td>eu_cellar</td>\n    </tr>\n    <tr>\n      <th>002086bd15c9aba8b8b3cdf88498e25735cf66043ddab8877aca317256615aff</th>\n      <td>2020-09-07</td>\n      <td>Opinion No 6/2020 (pursuant to Article 287(4) ...</td>\n      <td>20.10.2020 EN Official Journal of the European...</td>\n      <td>eu_cellar</td>\n    </tr>\n    <tr>\n      <th>014589ceb95203c13ee4bd097ddf2f164657cb6aeb1650db280b2d8c7a57977d</th>\n      <td>2021-05-20</td>\n      <td>Council Recommendation (EU) 2021/816 20 May 20...</td>\n      <td>21.5.2021 EN Official Journal of the European ...</td>\n      <td>eu_cellar</td>\n    </tr>\n    <tr>\n      <th>...</th>\n      <td>...</td>\n      <td>...</td>\n      <td>...</td>\n      <td>...</td>\n    </tr>\n    <tr>\n      <th>tika/330d076853d0731e295d75f70841b445e4bc45061a8ae1507766fa26d778cc6f</th>\n      <td>2020-04-12</td>\n      <td>Government support to assist the sports sector...</td>\n      <td>As sport events have been prohibited, the fina...</td>\n      <td>pwdb</td>\n    </tr>\n    <tr>\n      <th>tika/ffaa29a24828dd01c81d66ece0f8f3c21451083be7a0b6d2f4ed954b9378b0e6</th>\n      <td>2020-10-23</td>\n      <td>National public sector collective agreement 2021</td>\n      <td>On 16 October 2020, the Government of the Repu...</td>\n      <td>pwdb</td>\n    </tr>\n    <tr>\n      <th>tika/3df93a8fb254187e8783d19760b465a98d88863e59a513b35a4d8062248e4190</th>\n      <td>2020-04-16</td>\n      <td>Lifting of overtime work restrictions, extensi...</td>\n      <td>The government with a Legislative Act  (Offici...</td>\n      <td>pwdb</td>\n    </tr>\n    <tr>\n      <th>tika/71fc1cad3a3a8b9de4da7080acc3a8251fa8ff8c5b7514f082f18c1cf69ab140</th>\n      <td>2020-04-06</td>\n      <td>Exceptional regime suspending overtime limits</td>\n      <td>The Decree Law No. 10-A/2020 of 13 March, sett...</td>\n      <td>pwdb</td>\n    </tr>\n    <tr>\n      <th>tika/417384d22c3c6f1768aed95a928111a4652fd832c8d5ee38594ca661e53488ca</th>\n      <td>2020-04-12</td>\n      <td>COVID-19: Income support for workers</td>\n      <td>Key tax and spending measures have been implem...</td>\n      <td>pwdb</td>\n    </tr>\n  </tbody>\n</table>\n<p>6194 rows × 4 columns</p>\n</div>"
     },
     "execution_count": 25,
     "metadata": {},
     "output_type": "execute_result"
    }
   ],
   "source": [
    "#Unified datasets dataframe\n",
    "unified_datasets_df = pd.DataFrame(pd.concat(data_frames))\n",
    "unified_datasets_df\n",
    "\n",
    "\n"
   ],
   "metadata": {
    "collapsed": false,
    "pycharm": {
     "name": "#%%\n"
    }
   }
  },
  {
   "cell_type": "code",
   "execution_count": 27,
   "outputs": [
    {
     "name": "stderr",
     "output_type": "stream",
     "text": [
      " 98% (6116 of 6194) |################### | Elapsed Time: 0:00:00 ETA:   0:00:00"
     ]
    },
    {
     "data": {
      "text/plain": "6194"
     },
     "execution_count": 27,
     "metadata": {},
     "output_type": "execute_result"
    }
   ],
   "source": [
    "#Upload to elastic\n",
    "store_registry.es_index_store().put_dataframe(index_name=config.UNIFIED_DATASET_ELASTIC_SEARCH_INDEX_NAME,\n",
    "                                              content=unified_datasets_df)\n"
   ],
   "metadata": {
    "collapsed": false,
    "pycharm": {
     "name": "#%%\n"
    }
   }
  }
 ],
 "metadata": {
  "kernelspec": {
   "display_name": "Python 3",
   "language": "python",
   "name": "python3"
  },
  "language_info": {
   "codemirror_mode": {
    "name": "ipython",
    "version": 2
   },
   "file_extension": ".py",
   "mimetype": "text/x-python",
   "name": "python",
   "nbconvert_exporter": "python",
   "pygments_lexer": "ipython2",
   "version": "2.7.6"
  }
 },
 "nbformat": 4,
 "nbformat_minor": 0
}