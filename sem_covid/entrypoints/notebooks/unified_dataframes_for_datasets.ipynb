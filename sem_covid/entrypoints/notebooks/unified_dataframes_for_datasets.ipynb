{
 "cells": [
  {
   "cell_type": "code",
   "execution_count": 2,
   "metadata": {
    "collapsed": true
   },
   "outputs": [],
   "source": [
    "import sys\n",
    "\n",
    "sys.path.append(\"/home/jovyan/work/sem-covid/\")\n",
    "sys.path = list(set(sys.path))\n",
    "import os\n",
    "\n",
    "os.getcwd()\n",
    "os.chdir('/home/jovyan/work/sem-covid/')\n",
    "from sem_covid import config\n",
    "import numpy as np\n",
    "from langdetect import detect, detect_langs, DetectorFactory\n",
    "\n",
    "DetectorFactory.seed = 0\n",
    "import pandas as pd\n",
    "from sem_covid.services.model_registry import embedding_registry\n",
    "from sem_covid.services.store_registry import StoreRegistry, store_registry\n",
    "from typing import List\n",
    "from sem_covid.adapters.abstract_store import IndexStoreABC\n"
   ]
  },
  {
   "cell_type": "code",
   "execution_count": 3,
   "outputs": [
    {
     "name": "stderr",
     "output_type": "stream",
     "text": [
      "INFO:absl:Using /tmp/tfhub_modules to cache modules.\n"
     ]
    }
   ],
   "source": [
    "es_store = store_registry.es_index_store()\n",
    "emb_model = embedding_registry.sent2vec_universal_sent_encoding()"
   ],
   "metadata": {
    "collapsed": false,
    "pycharm": {
     "name": "#%%\n"
    }
   }
  },
  {
   "cell_type": "code",
   "execution_count": 4,
   "outputs": [],
   "source": [
    "def make_target_group_l1_column(dataset: pd.DataFrame):\n",
    "    for col in TARGET_GROUPS_L1:\n",
    "        dataset[col] = dataset[col].apply(lambda x: col if x == 1 else \"\")\n",
    "\n",
    "    dataset[\"pwdb_target_group_l1\"] = dataset[TARGET_GROUPS_L1].apply(lambda row: ' '.join(row.values.astype(str)),\n",
    "                                                                      axis=1).apply(lambda x: x.split())\n"
   ],
   "metadata": {
    "collapsed": false,
    "pycharm": {
     "name": "#%%\n"
    }
   }
  },
  {
   "cell_type": "code",
   "execution_count": 5,
   "outputs": [],
   "source": [
    "def make_topic_embeddings_column(dataset: pd.DataFrame):\n",
    "    dataset[\"topic_embeddings\"] = [[0] * 50] * len(dataset)"
   ],
   "metadata": {
    "collapsed": false,
    "pycharm": {
     "name": "#%%\n"
    }
   }
  },
  {
   "cell_type": "code",
   "execution_count": 6,
   "outputs": [],
   "source": [
    "def create_new_column_with_defined_value(dataset: pd.DataFrame, column_name: str, value=None, empty_array=False):\n",
    "    if empty_array:\n",
    "        dataset[column_name] = [np.empty(0, dtype=float)] * len(dataset)\n",
    "    else:\n",
    "        dataset[column_name] = value"
   ],
   "metadata": {
    "collapsed": false,
    "pycharm": {
     "name": "#%%\n"
    }
   }
  },
  {
   "cell_type": "code",
   "execution_count": 7,
   "outputs": [],
   "source": [
    "def replace_non_english_content(text):\n",
    "    if text is not None:\n",
    "        language = detect_langs(text)\n",
    "        language_details = str(language[0]).split(\":\")\n",
    "        if language_details[0] == \"en\" and float(language_details[1]) > 0.95:\n",
    "            return text\n",
    "        else:\n",
    "            return None\n"
   ],
   "metadata": {
    "collapsed": false,
    "pycharm": {
     "name": "#%%\n"
    }
   }
  },
  {
   "cell_type": "code",
   "execution_count": 8,
   "outputs": [],
   "source": [
    "TARGET_GROUPS_L1 = [\"businesses\", \"workers\", \"citizens\"]\n",
    "COMMON_DATASET_COLUMNS = [\"title\", \"content\", \"date\", \"doc_source\", \"country\", \"pwdb_category\",\n",
    "                          \"pwdb_target_group_l1\", \"pwdb_funding\", \"pwdb_type_of_measure\",\n",
    "                          \"pwdb_actors\", \"document_embeddings\", \"topic_embeddings\"]\n",
    "\n",
    "SPECIFIC_DATASET_COLUMNS = [\"eu_cellar_subject_matter_labels\", \"eu_cellar_resource_type_labels\",\n",
    "                            \"eu_cellar_directory_code_labels\",\n",
    "                            \"eu_cellar_author_labels\", \"pwdb_target_group_l2\", \"ireland_keyword\",\n",
    "                            \"ireland_department_data\",\n",
    "                            \"ireland_campaign\", \"ireland_page_type\", \"eu_timeline_topic\"]\n",
    "\n",
    "CONTENT_COLUMN_NAME = 'content'\n",
    "TITLE_COLUMN_NAME = 'title'\n",
    "DATE_COLUMN_NAME = 'date'\n",
    "DOCUMENT_SOURCE_COLUMN_NAME = 'doc_source'\n",
    "COUNTRY_COLUMN_NAME = 'country'\n",
    "PWDB_ACTORS_COLUMN_NAME = \"pwdb_actors\"\n",
    "DOCUMENT_EMBEDDINGS_COLUMN_NAME = \"document_embeddings\"\n",
    "\n",
    "#PWDB CONSTANTS\n",
    "PWDB_CONTENT_COLUMNS = ['title', 'background_info_description', 'content_of_measure_description',\n",
    "                        'use_of_measure_description', 'involvement_of_social_partners_description']\n",
    "PWDB_DOC_SOURCE = 'ds_pwdb'\n",
    "PWDB_RENAME_COLUMNS_MAPPING = {\"category\": \"pwdb_category\", \"funding\": \"pwdb_funding\",\n",
    "                               \"type_of_measure\": \"pwdb_type_of_measure\", \"actors\": \"pwdb_actors\", \"start_date\": \"date\"}\n",
    "\n",
    "#EU_CELLAR CONSTANTS\n",
    "EU_CELLAR_CONTENT_COLUMNS = [\"title\", \"content\"]\n",
    "EU_CELLAR_DOC_SOURCE = 'ds_eu_cellar'\n",
    "EU_CELLAR_COUNTRY_NAME = \"European Union\"\n",
    "EU_CELLAR_PWDB_ACTORS = \"EU (Council, EC, EP)\"\n",
    "EU_CELLAR_RENAME_COLUMNS_MAPPING = {\"category\": \"pwdb_category\", \"funding\": \"pwdb_funding\",\n",
    "                                    \"type_of_measure\": \"pwdb_type_of_measure\"}\n",
    "\n",
    "#EU_TIMELINE CONSTANTS\n",
    "EU_TIMELINE_CONTENT_COLUMNS = [\"title\", \"abstract\", \"detail_content\"]\n",
    "EU_TIMELINE_DOC_SOURCE = 'ds_eu_timeline'\n",
    "EU_TIMELINE_COUNTRY_NAME = \"European Union\"\n",
    "EU_TIMELINE_PWDB_ACTORS = \"EU (Council, EC, EP)\"\n",
    "EU_TIMELINE_RENAME_COLUMNS_MAPPING = {\"category\": \"pwdb_category\",\n",
    "                                      \"funding\": \"pwdb_funding\",\n",
    "                                      \"type_of_measure\": \"pwdb_type_of_measure\"}\n",
    "\n",
    "#IRELAND_TIMELINE CONSTANTS\n",
    "IRELAND_TIMELINE_CONTENT_COLUMNS = [\"title\", \"content\"]\n",
    "IRELAND_TIMELINE_DOC_SOURCE = 'ds_ireland_timeline'\n",
    "IRELAND_TIMELINE_COUNTRY_NAME = \"Ireland\"\n",
    "IRELAND_TIMELINE_PWDB_ACTORS = \"National government\"\n",
    "IRELAND_TIMELINE_RENAME_COLUMNS_MAPPING = {\"category\": \"pwdb_category\",\n",
    "                                           \"funding\": \"pwdb_funding\",\n",
    "                                           \"type_of_measure\": \"pwdb_type_of_measure\"}"
   ],
   "metadata": {
    "collapsed": false,
    "pycharm": {
     "name": "#%%\n"
    }
   }
  },
  {
   "cell_type": "code",
   "execution_count": 9,
   "outputs": [],
   "source": [
    "def pwdb_replace_function(dataset: pd.DataFrame):\n",
    "    dataset[\"pwdb_target_group_l2\"] = dataset[\"target_groups\"]\n",
    "\n",
    "\n",
    "def eu_timeline_replace_function(dataset: pd.DataFrame):\n",
    "    dataset[\"eu_timeline_topic\"] = dataset[\"topics\"]\n",
    "\n",
    "\n",
    "def eu_cellar_replace_function(dataset: pd.DataFrame):\n",
    "    dataset_specific_columns = [\"subject_matter_labels\",\n",
    "                                \"resource_type_labels\",\n",
    "                                \"directory_codes_labels\",\n",
    "                                \"author_labels\"]\n",
    "    for column_name in dataset_specific_columns:\n",
    "        dataset[\"eu_cellar_\" + column_name] = dataset[column_name]\n",
    "        dataset[\"eu_cellar_\" + column_name] = dataset[\"eu_cellar_\" + column_name].apply(lambda x: x if x else [])\n",
    "\n",
    "\n",
    "def ireland_timeline_replace_function(dataset: pd.DataFrame):\n",
    "    dataset_specific_columns = [\"keyword\",\n",
    "                                \"department_data\",\n",
    "                                \"campaigns_links\",\n",
    "                                \"page_type\"]\n",
    "    for column_name in dataset_specific_columns:\n",
    "        dataset[\"ireland_\" + column_name] = dataset[column_name]\n",
    "        dataset[\"ireland_\" + column_name] = dataset[\"ireland_\" + column_name].apply(lambda x: x if x else [])\n",
    "\n"
   ],
   "metadata": {
    "collapsed": false,
    "pycharm": {
     "name": "#%%\n"
    }
   }
  },
  {
   "cell_type": "code",
   "execution_count": 10,
   "outputs": [],
   "source": [
    "\n",
    "\n",
    "\n",
    "from sem_covid.adapters.abstract_model import SentenceEmbeddingModelABC\n",
    "\n",
    "\n",
    "class DefaultDatasetStructureTransformer:\n",
    "\n",
    "    def __init__(self, dataset: pd.DataFrame,\n",
    "                 emb_model: SentenceEmbeddingModelABC,\n",
    "                 content_columns: List[str],\n",
    "                 doc_source: str,\n",
    "                 replace_function: callable,\n",
    "                 rename_columns_mapping: dict,\n",
    "                 country: str = None,\n",
    "                 pwdb_actors: str = None\n",
    "                 ):\n",
    "        self.dataset = dataset\n",
    "        self.content_columns = content_columns\n",
    "        self.doc_source = doc_source\n",
    "        self.country = country\n",
    "        self.pwdb_actors = pwdb_actors\n",
    "        self.replace_function = replace_function\n",
    "        self.rename_columns_mapping = rename_columns_mapping\n",
    "        self.emb_model = emb_model\n",
    "\n",
    "    def create_columns(self):\n",
    "        self.dataset[CONTENT_COLUMN_NAME] = self.dataset[self.content_columns].agg(\n",
    "            lambda x: \" \".join(item if item else \"\" for item in x),\n",
    "            axis=1)\n",
    "        create_new_column_with_defined_value(self.dataset, DOCUMENT_SOURCE_COLUMN_NAME, self.doc_source)\n",
    "        if self.country:\n",
    "            create_new_column_with_defined_value(self.dataset, COUNTRY_COLUMN_NAME, self.country)\n",
    "        if self.pwdb_actors:\n",
    "            create_new_column_with_defined_value(self.dataset, PWDB_ACTORS_COLUMN_NAME, self.pwdb_actors)\n",
    "        make_target_group_l1_column(self.dataset)\n",
    "        self.dataset[DOCUMENT_EMBEDDINGS_COLUMN_NAME] = self.emb_model.encode(self.dataset.content.values)\n",
    "        make_topic_embeddings_column(self.dataset)\n",
    "\n",
    "        for specific_column in SPECIFIC_DATASET_COLUMNS:\n",
    "            create_new_column_with_defined_value(self.dataset, column_name=specific_column, empty_array=True)\n",
    "\n",
    "    def replace_values(self):\n",
    "        self.replace_function(self.dataset)\n",
    "\n",
    "    def rename_columns(self):\n",
    "        self.dataset.rename(columns=self.rename_columns_mapping, inplace=True)\n",
    "\n",
    "    def execute(self) -> pd.DataFrame:\n",
    "        self.create_columns()\n",
    "        self.replace_values()\n",
    "        self.rename_columns()\n",
    "        return self.dataset\n",
    "\n",
    "\n",
    "class UnifiedDatasetPipeline:\n",
    "\n",
    "    def __init__(self, es_store: IndexStoreABC,\n",
    "                 emb_model: SentenceEmbeddingModelABC\n",
    "                 ):\n",
    "        self.unified_dataset = pd.DataFrame()\n",
    "        self.es_store = es_store\n",
    "        self.emb_model = emb_model\n",
    "        self.pwdb_df = pd.DataFrame()\n",
    "        self.eu_cellar_df = pd.DataFrame()\n",
    "        self.eu_timeline_df = pd.DataFrame()\n",
    "        self.ir_timeline_df = pd.DataFrame()\n",
    "\n",
    "    def get_steps(self) -> list:\n",
    "        return [self.extract, self.transform, self.load]\n",
    "\n",
    "    def extract(self):\n",
    "        self.pwdb_df = self.es_store.get_dataframe(index_name=config.PWDB_ELASTIC_SEARCH_INDEX_NAME)\n",
    "        self.eu_cellar_df = self.es_store.get_dataframe(\n",
    "            index_name=config.EU_CELLAR_ELASTIC_SEARCH_INDEX_NAME + \"_enriched\")\n",
    "        self.eu_timeline_df = self.es_store.get_dataframe(\n",
    "            index_name=config.EU_TIMELINE_ELASTIC_SEARCH_INDEX_NAME + \"_enriched\")\n",
    "        self.ir_timeline_df = self.es_store.get_dataframe(\n",
    "            index_name=config.IRELAND_TIMELINE_ELASTIC_SEARCH_INDEX_NAME + \"_enriched\")\n",
    "\n",
    "    def transform(self):\n",
    "        self.pwdb_df = DefaultDatasetStructureTransformer(\n",
    "            dataset=self.pwdb_df,\n",
    "            emb_model=self.emb_model,\n",
    "            content_columns=PWDB_CONTENT_COLUMNS,\n",
    "            doc_source=PWDB_DOC_SOURCE,\n",
    "            replace_function=pwdb_replace_function,\n",
    "            rename_columns_mapping=PWDB_RENAME_COLUMNS_MAPPING\n",
    "        ).execute()\n",
    "        self.eu_cellar_df = DefaultDatasetStructureTransformer(\n",
    "            dataset=self.eu_cellar_df,\n",
    "            emb_model=self.emb_model,\n",
    "            content_columns=EU_CELLAR_CONTENT_COLUMNS,\n",
    "            doc_source=EU_CELLAR_DOC_SOURCE,\n",
    "            replace_function=eu_cellar_replace_function,\n",
    "            rename_columns_mapping=EU_CELLAR_RENAME_COLUMNS_MAPPING,\n",
    "            country=EU_CELLAR_COUNTRY_NAME,\n",
    "            pwdb_actors=EU_CELLAR_PWDB_ACTORS\n",
    "        ).execute()\n",
    "        self.eu_timeline_df = DefaultDatasetStructureTransformer(\n",
    "            dataset=self.eu_timeline_df,\n",
    "            emb_model=self.emb_model,\n",
    "            content_columns=EU_TIMELINE_CONTENT_COLUMNS,\n",
    "            doc_source=EU_TIMELINE_DOC_SOURCE,\n",
    "            replace_function=eu_timeline_replace_function,\n",
    "            rename_columns_mapping=EU_TIMELINE_RENAME_COLUMNS_MAPPING,\n",
    "            country=EU_TIMELINE_COUNTRY_NAME,\n",
    "            pwdb_actors=EU_TIMELINE_PWDB_ACTORS\n",
    "        ).execute()\n",
    "        self.ir_timeline_df = DefaultDatasetStructureTransformer(\n",
    "            dataset=self.ir_timeline_df,\n",
    "            emb_model=self.emb_model,\n",
    "            content_columns=IRELAND_TIMELINE_CONTENT_COLUMNS,\n",
    "            doc_source=IRELAND_TIMELINE_DOC_SOURCE,\n",
    "            replace_function=ireland_timeline_replace_function,\n",
    "            rename_columns_mapping=IRELAND_TIMELINE_RENAME_COLUMNS_MAPPING,\n",
    "            country=IRELAND_TIMELINE_COUNTRY_NAME,\n",
    "            pwdb_actors=IRELAND_TIMELINE_PWDB_ACTORS\n",
    "        ).execute()\n",
    "        data_frames = [pd.DataFrame(data_frame[COMMON_DATASET_COLUMNS + SPECIFIC_DATASET_COLUMNS].copy())\n",
    "                       for data_frame in [self.pwdb_df, self.eu_cellar_df, self.eu_timeline_df, self.ir_timeline_df]]\n",
    "        for data_frame in data_frames:\n",
    "            data_frame.columns = COMMON_DATASET_COLUMNS + SPECIFIC_DATASET_COLUMNS\n",
    "            data_frame[CONTENT_COLUMN_NAME] = data_frame[CONTENT_COLUMN_NAME].apply(\n",
    "                lambda x: x if x not in [\"\", \" \"] else None)\n",
    "            data_frame[CONTENT_COLUMN_NAME] = data_frame[CONTENT_COLUMN_NAME].apply(\n",
    "                lambda x: replace_non_english_content(x))\n",
    "            data_frame.dropna(subset=[CONTENT_COLUMN_NAME, 'title', 'date'], how=\"any\", inplace=True)\n",
    "        self.unified_dataset = pd.DataFrame(pd.concat(data_frames))\n",
    "        self.unified_dataset.pwdb_funding = self.unified_dataset.pwdb_funding.apply(\n",
    "            lambda x: x.split('|') if type(x) == str else x)\n",
    "        self.unified_dataset.pwdb_actors = self.unified_dataset.pwdb_actors.apply(\n",
    "            lambda x: x if type(x) == list else [x])\n",
    "        #Note:the index is reset because enriched datasets have numeric indexing\n",
    "        self.unified_dataset.reset_index(inplace=True, drop=True)\n",
    "\n",
    "    def load(self):\n",
    "        self.es_store.put_dataframe(index_name=config.UNIFIED_DATASET_ELASTIC_SEARCH_INDEX_NAME,\n",
    "                                    content=self.unified_dataset)\n",
    "\n"
   ],
   "metadata": {
    "collapsed": false,
    "pycharm": {
     "name": "#%%\n"
    }
   }
  },
  {
   "cell_type": "code",
   "execution_count": 11,
   "outputs": [],
   "source": [
    "unified_dataset_pipeline = UnifiedDatasetPipeline(es_store=es_store, emb_model=emb_model)"
   ],
   "metadata": {
    "collapsed": false,
    "pycharm": {
     "name": "#%%\n"
    }
   }
  },
  {
   "cell_type": "code",
   "execution_count": null,
   "outputs": [
    {
     "name": "stderr",
     "output_type": "stream",
     "text": [
      "N/A% (0 of 1381) |                       | Elapsed Time: 0:00:00 ETA:  --:--:--"
     ]
    }
   ],
   "source": [
    "unified_dataset_pipeline.extract()\n",
    "unified_dataset_pipeline.transform()\n",
    "unified_dataset_pipeline.load()"
   ],
   "metadata": {
    "collapsed": false,
    "pycharm": {
     "name": "#%%\n",
     "is_executing": true
    }
   }
  }
 ],
 "metadata": {
  "kernelspec": {
   "display_name": "Python 3",
   "language": "python",
   "name": "python3"
  },
  "language_info": {
   "codemirror_mode": {
    "name": "ipython",
    "version": 2
   },
   "file_extension": ".py",
   "mimetype": "text/x-python",
   "name": "python",
   "nbconvert_exporter": "python",
   "pygments_lexer": "ipython2",
   "version": "2.7.6"
  }
 },
 "nbformat": 4,
 "nbformat_minor": 0
}