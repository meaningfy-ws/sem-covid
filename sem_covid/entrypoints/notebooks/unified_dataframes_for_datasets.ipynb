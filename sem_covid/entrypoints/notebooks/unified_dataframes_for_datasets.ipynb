{
 "cells": [
  {
   "cell_type": "code",
   "execution_count": 1,
   "metadata": {
    "collapsed": true
   },
   "outputs": [],
   "source": [
    "import sys\n",
    "sys.path.append(\"/home/jovyan/work/sem-covid/\")\n",
    "sys.path = list(set(sys.path))\n",
    "\n",
    "import os\n",
    "os.getcwd()\n",
    "os.chdir('/home/jovyan/work/sem-covid/')\n",
    "\n",
    "import mlflow\n",
    "\n",
    "from sem_covid.services.dataset_pipelines.unified_dataset_pipeline import UnifiedDatasetPipeline\n",
    "from sem_covid.services.model_registry import embedding_registry\n",
    "from sem_covid.services.store_registry import store_registry"
   ]
  },
  {
   "cell_type": "code",
   "execution_count": 2,
   "outputs": [],
   "source": [
    "EXPERIMENT_ID = '101'\n",
    "BUCKET_NAME = 'mlflow'"
   ],
   "metadata": {
    "collapsed": false,
    "pycharm": {
     "name": "#%%\n"
    }
   }
  },
  {
   "cell_type": "code",
   "execution_count": 3,
   "outputs": [
    {
     "name": "stderr",
     "output_type": "stream",
     "text": [
      "INFO:absl:Using /tmp/tfhub_modules to cache modules.\n",
      "Some weights of the model checkpoint at nlpaueb/bert-base-uncased-eurlex were not used when initializing BertModel: ['cls.predictions.transform.LayerNorm.bias', 'cls.predictions.decoder.weight', 'cls.predictions.decoder.bias', 'cls.predictions.transform.LayerNorm.weight', 'cls.seq_relationship.weight', 'cls.predictions.transform.dense.bias', 'cls.seq_relationship.bias', 'cls.predictions.bias', 'cls.predictions.transform.dense.weight']\n",
      "- This IS expected if you are initializing BertModel from the checkpoint of a model trained on another task or with another architecture (e.g. initializing a BertForSequenceClassification model from a BertForPreTraining model).\n",
      "- This IS NOT expected if you are initializing BertModel from the checkpoint of a model that you expect to be exactly identical (initializing a BertForSequenceClassification model from a BertForSequenceClassification model).\n"
     ]
    }
   ],
   "source": [
    "# Embedding models\n",
    "es_store = store_registry.es_index_store()\n",
    "emb_model_use = embedding_registry.sent2vec_universal_sent_encoding()\n",
    "emb_model_eurlex_bert = embedding_registry.doc2vec_eurlex_bert()\n",
    "\n",
    "# Topic model\n",
    "best_run = mlflow.search_runs(\n",
    "    experiment_ids=EXPERIMENT_ID,\n",
    "    order_by=['parameters.freq_topic_minus_1 ASC']\n",
    ").iloc[0]\n",
    "\n",
    "topic_model_bert = store_registry.minio_feature_store(BUCKET_NAME).get_features(\n",
    "    features_name=f'{EXPERIMENT_ID}/{best_run.run_id}/artifacts/model/model.pkl')"
   ],
   "metadata": {
    "collapsed": false,
    "pycharm": {
     "name": "#%%\n"
    }
   }
  },
  {
   "cell_type": "code",
   "execution_count": 1,
   "outputs": [],
   "source": [
    "unified_dataset_pipeline = UnifiedDatasetPipeline(es_store=es_store,\n",
    "                                                  emb_model_1=emb_model_use,\n",
    "                                                  emb_model_2=emb_model_eurlex_bert,\n",
    "                                                  topic_model=topic_model_bert)\n",
    "unified_dataset_pipeline.extract()\n",
    "unified_dataset_pipeline.transform()\n",
    "unified_dataset_pipeline.load()\n"
   ],
   "metadata": {
    "collapsed": false,
    "pycharm": {
     "name": "#%%\n"
    }
   }
  }
 ],
 "metadata": {
  "kernelspec": {
   "display_name": "Python 3",
   "language": "python",
   "name": "python3"
  },
  "language_info": {
   "codemirror_mode": {
    "name": "ipython",
    "version": 2
   },
   "file_extension": ".py",
   "mimetype": "text/x-python",
   "name": "python",
   "nbconvert_exporter": "python",
   "pygments_lexer": "ipython2",
   "version": "2.7.6"
  }
 },
 "nbformat": 4,
 "nbformat_minor": 0
}