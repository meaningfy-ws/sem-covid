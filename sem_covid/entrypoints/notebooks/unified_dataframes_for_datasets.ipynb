{
 "cells": [
  {
   "cell_type": "code",
   "execution_count": 1,
   "metadata": {
    "collapsed": true
   },
   "outputs": [],
   "source": [
    "import sys\n",
    "\n",
    "import pandas as pd\n",
    "\n",
    "sys.path.append(\"/home/jovyan/work/sem-covid/\")\n",
    "sys.path = list(set(sys.path))\n",
    "import os\n",
    "\n",
    "os.getcwd()\n",
    "os.chdir('/home/jovyan/work/sem-covid/')\n",
    "from sem_covid import config\n",
    "import json\n",
    "import numpy as np\n",
    "import re\n",
    "from langdetect import detect, detect_langs, DetectorFactory\n",
    "\n",
    "DetectorFactory.seed = 0\n",
    "\n",
    "from sem_covid.services.store_registry import StoreRegistry, store_registry\n"
   ]
  },
  {
   "cell_type": "code",
   "execution_count": 2,
   "outputs": [],
   "source": [
    "es_store = store_registry.es_index_store()"
   ],
   "metadata": {
    "collapsed": false,
    "pycharm": {
     "name": "#%%\n"
    }
   }
  },
  {
   "cell_type": "code",
   "execution_count": 3,
   "outputs": [
    {
     "name": "stderr",
     "output_type": "stream",
     "text": [
      "100% (1381 of 1381) |####################| Elapsed Time: 0:00:00 Time:  0:00:00\n",
      "100% (3175 of 3175) |####################| Elapsed Time: 0:00:01 Time:  0:00:01\n",
      "100% (210 of 210) |######################| Elapsed Time: 0:00:00 Time:  0:00:00\n",
      "100% (1921 of 1921) |####################| Elapsed Time: 0:00:00 Time:  0:00:00\n"
     ]
    }
   ],
   "source": [
    "#Load dataframes from elastic\n",
    "pwdb_df = es_store.get_dataframe(index_name=config.PWDB_ELASTIC_SEARCH_INDEX_NAME)\n",
    "eu_cellar_df = es_store.get_dataframe(index_name=config.EU_CELLAR_ELASTIC_SEARCH_INDEX_NAME)\n",
    "eu_timeline_df = es_store.get_dataframe(index_name=config.EU_TIMELINE_ELASTIC_SEARCH_INDEX_NAME)\n",
    "ir_timeline_df = es_store.get_dataframe(index_name=config.IRELAND_TIMELINE_ELASTIC_SEARCH_INDEX_NAME)\n"
   ],
   "metadata": {
    "collapsed": false,
    "pycharm": {
     "name": "#%%\n"
    }
   }
  },
  {
   "cell_type": "code",
   "execution_count": 4,
   "outputs": [
    {
     "data": {
      "text/plain": "Index(['identifier', 'title', 'title_national_language', 'country',\n       'start_date', 'end_date', 'date_type', 'type_of_measure',\n       'status_of_regulation', 'category', 'subcategory', 'creation_date',\n       'background_info_description', 'content_of_measure_description',\n       'use_of_measure_description', 'actors', 'target_groups', 'funding',\n       'involvement_of_social_partners_description',\n       'social_partner_involvement_form', 'social_partner_role',\n       'is_sector_specific', 'private_or_public_sector',\n       'is_occupation_specific', 'sectors', 'occupations', 'sources',\n       'businesses', 'citizens', 'workers'],\n      dtype='object')"
     },
     "execution_count": 4,
     "metadata": {},
     "output_type": "execute_result"
    }
   ],
   "source": [
    "# Print dataframe columns\n",
    "pwdb_df.columns\n"
   ],
   "metadata": {
    "collapsed": false,
    "pycharm": {
     "name": "#%%\n"
    }
   }
  },
  {
   "cell_type": "code",
   "execution_count": 5,
   "outputs": [
    {
     "name": "stdout",
     "output_type": "stream",
     "text": [
      "['background_info_description', 'content_of_measure_description', 'use_of_measure_description', 'involvement_of_social_partners_description']\n"
     ]
    }
   ],
   "source": [
    "# What are the textual columns in PWDB dataset\n",
    "textual_colums = [col for col in pwdb_df.columns if \"description\" in col]\n",
    "print(textual_colums)"
   ],
   "metadata": {
    "collapsed": false,
    "pycharm": {
     "name": "#%%\n"
    }
   }
  },
  {
   "cell_type": "code",
   "execution_count": 6,
   "outputs": [
    {
     "data": {
      "text/plain": "                                                                          background_info_description  \\\n_id                                                                                                     \ntika/2ec585e04df9d361a951e7d26ce5d3ab06e4d17612...  This measure, introduced in the framework of t...   \ntika/497730ad75916dd4a3174469d0946ccf6218adfd95...  Following up the decree no. 6 issued on 23 Feb...   \ntika/5f74df01de688c3083e10eb50ebd865b081ee3595a...  Regional ELY Centers (Centers for Economic Dev...   \ntika/ae1904ac24001af20cfaf9ce898605e95122371e26...  Aiming at responding to the specific nature of...   \ntika/3bafed913ae25dd3152fec477a007abfa079507146...  The Council of Ministers has approved a Royal ...   \n...                                                                                               ...   \ntika/330d076853d0731e295d75f70841b445e4bc45061a...  As sport events have been prohibited, the fina...   \ntika/ffaa29a24828dd01c81d66ece0f8f3c21451083be7...  On 16 October 2020, the Government of the Repu...   \ntika/3df93a8fb254187e8783d19760b465a98d88863e59...  The government with a Legislative Act  (Offici...   \ntika/71fc1cad3a3a8b9de4da7080acc3a8251fa8ff8c5b...  The Decree Law No. 10-A/2020 of 13 March, sett...   \ntika/417384d22c3c6f1768aed95a928111a4652fd832c8...  Key tax and spending measures have been implem...   \n\n                                                                       content_of_measure_description  \\\n_id                                                                                                     \ntika/2ec585e04df9d361a951e7d26ce5d3ab06e4d17612...  According to the Employment Relationship Act, ...   \ntika/497730ad75916dd4a3174469d0946ccf6218adfd95...  The protocol introduced general rules to follo...   \ntika/5f74df01de688c3083e10eb50ebd865b081ee3595a...  Business development aid granted by ELY Center...   \ntika/ae1904ac24001af20cfaf9ce898605e95122371e26...  The Order 3863-B/2020 of 27 March 2020 provide...   \ntika/3bafed913ae25dd3152fec477a007abfa079507146...  This set of measures has been articulated arou...   \n...                                                                                               ...   \ntika/330d076853d0731e295d75f70841b445e4bc45061a...  This Decision establishes measures to assist t...   \ntika/ffaa29a24828dd01c81d66ece0f8f3c21451083be7...  The NCA increased the BAOS, which is used to c...   \ntika/3df93a8fb254187e8783d19760b465a98d88863e59...  During the period when there is the risk of ou...   \ntika/71fc1cad3a3a8b9de4da7080acc3a8251fa8ff8c5b...  This measure applies to all bodies, agencies a...   \ntika/417384d22c3c6f1768aed95a928111a4652fd832c8...  The Bulgarian government adopted the Emergency...   \n\n                                                                           use_of_measure_description  \\\n_id                                                                                                     \ntika/2ec585e04df9d361a951e7d26ce5d3ab06e4d17612...  Companies that are not eligible are:\\r\\r* Stat...   \ntika/497730ad75916dd4a3174469d0946ccf6218adfd95...  The protocol applies to all the kind of transp...   \ntika/5f74df01de688c3083e10eb50ebd865b081ee3595a...  As of 28 August 2020, approximately 21,000 com...   \ntika/ae1904ac24001af20cfaf9ce898605e95122371e26...                                      Not available   \ntika/3bafed913ae25dd3152fec477a007abfa079507146...                                 No data available.   \n...                                                                                               ...   \ntika/330d076853d0731e295d75f70841b445e4bc45061a...  The usage is still unknown but it can be asses...   \ntika/ffaa29a24828dd01c81d66ece0f8f3c21451083be7...  According to the Ministry of Social Security a...   \ntika/3df93a8fb254187e8783d19760b465a98d88863e59...  The number of employees affected by the measur...   \ntika/71fc1cad3a3a8b9de4da7080acc3a8251fa8ff8c5b...                                  Not evaluated yet   \ntika/417384d22c3c6f1768aed95a928111a4652fd832c8...  More than 80% of employees can benefit from th...   \n\n                                                           involvement_of_social_partners_description  \n_id                                                                                                    \ntika/2ec585e04df9d361a951e7d26ce5d3ab06e4d17612...                      No information available yet.  \ntika/497730ad75916dd4a3174469d0946ccf6218adfd95...  The protocol was negotiated by the Ministry fo...  \ntika/5f74df01de688c3083e10eb50ebd865b081ee3595a...  There is no information regarding whether and ...  \ntika/ae1904ac24001af20cfaf9ce898605e95122371e26...                 No involvement of social partners.  \ntika/3bafed913ae25dd3152fec477a007abfa079507146...                  No involvement has been reported.  \n...                                                                                               ...  \ntika/330d076853d0731e295d75f70841b445e4bc45061a...                                                     \ntika/ffaa29a24828dd01c81d66ece0f8f3c21451083be7...  The NCA was signed by the Ministry of Social S...  \ntika/3df93a8fb254187e8783d19760b465a98d88863e59...                                                     \ntika/71fc1cad3a3a8b9de4da7080acc3a8251fa8ff8c5b...                                                     \ntika/417384d22c3c6f1768aed95a928111a4652fd832c8...  During the negotiations, the social partners w...  \n\n[1381 rows x 4 columns]",
      "text/html": "<div>\n<style scoped>\n    .dataframe tbody tr th:only-of-type {\n        vertical-align: middle;\n    }\n\n    .dataframe tbody tr th {\n        vertical-align: top;\n    }\n\n    .dataframe thead th {\n        text-align: right;\n    }\n</style>\n<table border=\"1\" class=\"dataframe\">\n  <thead>\n    <tr style=\"text-align: right;\">\n      <th></th>\n      <th>background_info_description</th>\n      <th>content_of_measure_description</th>\n      <th>use_of_measure_description</th>\n      <th>involvement_of_social_partners_description</th>\n    </tr>\n    <tr>\n      <th>_id</th>\n      <th></th>\n      <th></th>\n      <th></th>\n      <th></th>\n    </tr>\n  </thead>\n  <tbody>\n    <tr>\n      <th>tika/2ec585e04df9d361a951e7d26ce5d3ab06e4d17612e36ee84696c1451c972c4b</th>\n      <td>This measure, introduced in the framework of t...</td>\n      <td>According to the Employment Relationship Act, ...</td>\n      <td>Companies that are not eligible are:\\r\\r* Stat...</td>\n      <td>No information available yet.</td>\n    </tr>\n    <tr>\n      <th>tika/497730ad75916dd4a3174469d0946ccf6218adfd9513cfffb52038a3dce3fa8d</th>\n      <td>Following up the decree no. 6 issued on 23 Feb...</td>\n      <td>The protocol introduced general rules to follo...</td>\n      <td>The protocol applies to all the kind of transp...</td>\n      <td>The protocol was negotiated by the Ministry fo...</td>\n    </tr>\n    <tr>\n      <th>tika/5f74df01de688c3083e10eb50ebd865b081ee3595a662118c3d1d4ca1ad09bc2</th>\n      <td>Regional ELY Centers (Centers for Economic Dev...</td>\n      <td>Business development aid granted by ELY Center...</td>\n      <td>As of 28 August 2020, approximately 21,000 com...</td>\n      <td>There is no information regarding whether and ...</td>\n    </tr>\n    <tr>\n      <th>tika/ae1904ac24001af20cfaf9ce898605e95122371e26ae96b7337d114098819c33</th>\n      <td>Aiming at responding to the specific nature of...</td>\n      <td>The Order 3863-B/2020 of 27 March 2020 provide...</td>\n      <td>Not available</td>\n      <td>No involvement of social partners.</td>\n    </tr>\n    <tr>\n      <th>tika/3bafed913ae25dd3152fec477a007abfa079507146ee1b7f8b0a9abad10dc2aa</th>\n      <td>The Council of Ministers has approved a Royal ...</td>\n      <td>This set of measures has been articulated arou...</td>\n      <td>No data available.</td>\n      <td>No involvement has been reported.</td>\n    </tr>\n    <tr>\n      <th>...</th>\n      <td>...</td>\n      <td>...</td>\n      <td>...</td>\n      <td>...</td>\n    </tr>\n    <tr>\n      <th>tika/330d076853d0731e295d75f70841b445e4bc45061a8ae1507766fa26d778cc6f</th>\n      <td>As sport events have been prohibited, the fina...</td>\n      <td>This Decision establishes measures to assist t...</td>\n      <td>The usage is still unknown but it can be asses...</td>\n      <td></td>\n    </tr>\n    <tr>\n      <th>tika/ffaa29a24828dd01c81d66ece0f8f3c21451083be7a0b6d2f4ed954b9378b0e6</th>\n      <td>On 16 October 2020, the Government of the Repu...</td>\n      <td>The NCA increased the BAOS, which is used to c...</td>\n      <td>According to the Ministry of Social Security a...</td>\n      <td>The NCA was signed by the Ministry of Social S...</td>\n    </tr>\n    <tr>\n      <th>tika/3df93a8fb254187e8783d19760b465a98d88863e59a513b35a4d8062248e4190</th>\n      <td>The government with a Legislative Act  (Offici...</td>\n      <td>During the period when there is the risk of ou...</td>\n      <td>The number of employees affected by the measur...</td>\n      <td></td>\n    </tr>\n    <tr>\n      <th>tika/71fc1cad3a3a8b9de4da7080acc3a8251fa8ff8c5b7514f082f18c1cf69ab140</th>\n      <td>The Decree Law No. 10-A/2020 of 13 March, sett...</td>\n      <td>This measure applies to all bodies, agencies a...</td>\n      <td>Not evaluated yet</td>\n      <td></td>\n    </tr>\n    <tr>\n      <th>tika/417384d22c3c6f1768aed95a928111a4652fd832c8d5ee38594ca661e53488ca</th>\n      <td>Key tax and spending measures have been implem...</td>\n      <td>The Bulgarian government adopted the Emergency...</td>\n      <td>More than 80% of employees can benefit from th...</td>\n      <td>During the negotiations, the social partners w...</td>\n    </tr>\n  </tbody>\n</table>\n<p>1381 rows × 4 columns</p>\n</div>"
     },
     "execution_count": 6,
     "metadata": {},
     "output_type": "execute_result"
    }
   ],
   "source": [
    "# Print only textual columns\n",
    "pwdb_df[textual_colums]\n"
   ],
   "metadata": {
    "collapsed": false,
    "pycharm": {
     "name": "#%%\n"
    }
   }
  },
  {
   "cell_type": "code",
   "execution_count": 7,
   "outputs": [
    {
     "data": {
      "text/plain": "_id\ntika/2ec585e04df9d361a951e7d26ce5d3ab06e4d17612e36ee84696c1451c972c4b    This measure, introduced in the framework of t...\ntika/497730ad75916dd4a3174469d0946ccf6218adfd9513cfffb52038a3dce3fa8d    Following up the decree no. 6 issued on 23 Feb...\ntika/5f74df01de688c3083e10eb50ebd865b081ee3595a662118c3d1d4ca1ad09bc2    Regional ELY Centers (Centers for Economic Dev...\ntika/ae1904ac24001af20cfaf9ce898605e95122371e26ae96b7337d114098819c33    Aiming at responding to the specific nature of...\ntika/3bafed913ae25dd3152fec477a007abfa079507146ee1b7f8b0a9abad10dc2aa    The Council of Ministers has approved a Royal ...\n                                                                                               ...                        \ntika/330d076853d0731e295d75f70841b445e4bc45061a8ae1507766fa26d778cc6f    As sport events have been prohibited, the fina...\ntika/ffaa29a24828dd01c81d66ece0f8f3c21451083be7a0b6d2f4ed954b9378b0e6    On 16 October 2020, the Government of the Repu...\ntika/3df93a8fb254187e8783d19760b465a98d88863e59a513b35a4d8062248e4190    The government with a Legislative Act  (Offici...\ntika/71fc1cad3a3a8b9de4da7080acc3a8251fa8ff8c5b7514f082f18c1cf69ab140    The Decree Law No. 10-A/2020 of 13 March, sett...\ntika/417384d22c3c6f1768aed95a928111a4652fd832c8d5ee38594ca661e53488ca    Key tax and spending measures have been implem...\nName: merged_content, Length: 1381, dtype: object"
     },
     "execution_count": 7,
     "metadata": {},
     "output_type": "execute_result"
    }
   ],
   "source": [
    "#Merge content of the textual columns into one new column\n",
    "pwdb_df[\"merged_content\"] = pwdb_df[textual_colums].apply(lambda row: ' '.join(row.values.astype(str)), axis=1)\n",
    "pwdb_df[\"merged_content\"]"
   ],
   "metadata": {
    "collapsed": false,
    "pycharm": {
     "name": "#%%\n"
    }
   }
  },
  {
   "cell_type": "code",
   "execution_count": 8,
   "outputs": [
    {
     "data": {
      "text/plain": "                                                    start_date    end_date  \\\n_id                                                                          \ntika/2ec585e04df9d361a951e7d26ce5d3ab06e4d17612...  2020-03-13  2021-06-30   \ntika/497730ad75916dd4a3174469d0946ccf6218adfd95...  2020-05-04        None   \ntika/5f74df01de688c3083e10eb50ebd865b081ee3595a...  2020-03-31  2020-06-08   \ntika/ae1904ac24001af20cfaf9ce898605e95122371e26...  2020-03-28        None   \ntika/3bafed913ae25dd3152fec477a007abfa079507146...  2020-07-07        None   \n...                                                        ...         ...   \ntika/330d076853d0731e295d75f70841b445e4bc45061a...  2020-04-09  2020-05-29   \ntika/ffaa29a24828dd01c81d66ece0f8f3c21451083be7...  2021-01-01  2021-12-31   \ntika/3df93a8fb254187e8783d19760b465a98d88863e59...  2020-03-14  2020-06-13   \ntika/71fc1cad3a3a8b9de4da7080acc3a8251fa8ff8c5b...  2020-03-14        None   \ntika/417384d22c3c6f1768aed95a928111a4652fd832c8...  2020-03-13  2021-07-31   \n\n                                                   date_type creation_date  \n_id                                                                         \ntika/2ec585e04df9d361a951e7d26ce5d3ab06e4d17612...      None    2020-04-10  \ntika/497730ad75916dd4a3174469d0946ccf6218adfd95...      None    2020-09-28  \ntika/5f74df01de688c3083e10eb50ebd865b081ee3595a...      None    2020-04-10  \ntika/ae1904ac24001af20cfaf9ce898605e95122371e26...      None    2020-04-09  \ntika/3bafed913ae25dd3152fec477a007abfa079507146...      None    2020-10-29  \n...                                                      ...           ...  \ntika/330d076853d0731e295d75f70841b445e4bc45061a...      None    2020-04-12  \ntika/ffaa29a24828dd01c81d66ece0f8f3c21451083be7...      None    2020-10-23  \ntika/3df93a8fb254187e8783d19760b465a98d88863e59...      None    2020-04-16  \ntika/71fc1cad3a3a8b9de4da7080acc3a8251fa8ff8c5b...      None    2020-04-06  \ntika/417384d22c3c6f1768aed95a928111a4652fd832c8...      None    2020-04-12  \n\n[1381 rows x 4 columns]",
      "text/html": "<div>\n<style scoped>\n    .dataframe tbody tr th:only-of-type {\n        vertical-align: middle;\n    }\n\n    .dataframe tbody tr th {\n        vertical-align: top;\n    }\n\n    .dataframe thead th {\n        text-align: right;\n    }\n</style>\n<table border=\"1\" class=\"dataframe\">\n  <thead>\n    <tr style=\"text-align: right;\">\n      <th></th>\n      <th>start_date</th>\n      <th>end_date</th>\n      <th>date_type</th>\n      <th>creation_date</th>\n    </tr>\n    <tr>\n      <th>_id</th>\n      <th></th>\n      <th></th>\n      <th></th>\n      <th></th>\n    </tr>\n  </thead>\n  <tbody>\n    <tr>\n      <th>tika/2ec585e04df9d361a951e7d26ce5d3ab06e4d17612e36ee84696c1451c972c4b</th>\n      <td>2020-03-13</td>\n      <td>2021-06-30</td>\n      <td>None</td>\n      <td>2020-04-10</td>\n    </tr>\n    <tr>\n      <th>tika/497730ad75916dd4a3174469d0946ccf6218adfd9513cfffb52038a3dce3fa8d</th>\n      <td>2020-05-04</td>\n      <td>None</td>\n      <td>None</td>\n      <td>2020-09-28</td>\n    </tr>\n    <tr>\n      <th>tika/5f74df01de688c3083e10eb50ebd865b081ee3595a662118c3d1d4ca1ad09bc2</th>\n      <td>2020-03-31</td>\n      <td>2020-06-08</td>\n      <td>None</td>\n      <td>2020-04-10</td>\n    </tr>\n    <tr>\n      <th>tika/ae1904ac24001af20cfaf9ce898605e95122371e26ae96b7337d114098819c33</th>\n      <td>2020-03-28</td>\n      <td>None</td>\n      <td>None</td>\n      <td>2020-04-09</td>\n    </tr>\n    <tr>\n      <th>tika/3bafed913ae25dd3152fec477a007abfa079507146ee1b7f8b0a9abad10dc2aa</th>\n      <td>2020-07-07</td>\n      <td>None</td>\n      <td>None</td>\n      <td>2020-10-29</td>\n    </tr>\n    <tr>\n      <th>...</th>\n      <td>...</td>\n      <td>...</td>\n      <td>...</td>\n      <td>...</td>\n    </tr>\n    <tr>\n      <th>tika/330d076853d0731e295d75f70841b445e4bc45061a8ae1507766fa26d778cc6f</th>\n      <td>2020-04-09</td>\n      <td>2020-05-29</td>\n      <td>None</td>\n      <td>2020-04-12</td>\n    </tr>\n    <tr>\n      <th>tika/ffaa29a24828dd01c81d66ece0f8f3c21451083be7a0b6d2f4ed954b9378b0e6</th>\n      <td>2021-01-01</td>\n      <td>2021-12-31</td>\n      <td>None</td>\n      <td>2020-10-23</td>\n    </tr>\n    <tr>\n      <th>tika/3df93a8fb254187e8783d19760b465a98d88863e59a513b35a4d8062248e4190</th>\n      <td>2020-03-14</td>\n      <td>2020-06-13</td>\n      <td>None</td>\n      <td>2020-04-16</td>\n    </tr>\n    <tr>\n      <th>tika/71fc1cad3a3a8b9de4da7080acc3a8251fa8ff8c5b7514f082f18c1cf69ab140</th>\n      <td>2020-03-14</td>\n      <td>None</td>\n      <td>None</td>\n      <td>2020-04-06</td>\n    </tr>\n    <tr>\n      <th>tika/417384d22c3c6f1768aed95a928111a4652fd832c8d5ee38594ca661e53488ca</th>\n      <td>2020-03-13</td>\n      <td>2021-07-31</td>\n      <td>None</td>\n      <td>2020-04-12</td>\n    </tr>\n  </tbody>\n</table>\n<p>1381 rows × 4 columns</p>\n</div>"
     },
     "execution_count": 8,
     "metadata": {},
     "output_type": "execute_result"
    }
   ],
   "source": [
    "#What are the columns that shows dates\n",
    "date_columns = [col for col in pwdb_df.columns if \"date\" in col]\n",
    "pwdb_df[date_columns]"
   ],
   "metadata": {
    "collapsed": false,
    "pycharm": {
     "name": "#%%\n"
    }
   }
  },
  {
   "cell_type": "code",
   "execution_count": 9,
   "outputs": [],
   "source": [
    "# Create new dataframe with the wanted content and columns from PWDB dataset\n",
    "tmp_pwdb_df = pd.DataFrame(pwdb_df[[\"creation_date\", \"title\", \"merged_content\"]])\n",
    "tmp_pwdb_df[\"doc_source\"] = \"pwdb\"\n"
   ],
   "metadata": {
    "collapsed": false,
    "pycharm": {
     "name": "#%%\n"
    }
   }
  },
  {
   "cell_type": "code",
   "execution_count": 10,
   "outputs": [
    {
     "data": {
      "text/plain": "                                                   creation_date  \\\n_id                                                                \ntika/2ec585e04df9d361a951e7d26ce5d3ab06e4d17612...    2020-04-10   \ntika/497730ad75916dd4a3174469d0946ccf6218adfd95...    2020-09-28   \ntika/5f74df01de688c3083e10eb50ebd865b081ee3595a...    2020-04-10   \ntika/ae1904ac24001af20cfaf9ce898605e95122371e26...    2020-04-09   \ntika/3bafed913ae25dd3152fec477a007abfa079507146...    2020-10-29   \n...                                                          ...   \ntika/330d076853d0731e295d75f70841b445e4bc45061a...    2020-04-12   \ntika/ffaa29a24828dd01c81d66ece0f8f3c21451083be7...    2020-10-23   \ntika/3df93a8fb254187e8783d19760b465a98d88863e59...    2020-04-16   \ntika/71fc1cad3a3a8b9de4da7080acc3a8251fa8ff8c5b...    2020-04-06   \ntika/417384d22c3c6f1768aed95a928111a4652fd832c8...    2020-04-12   \n\n                                                                                                title  \\\n_id                                                                                                     \ntika/2ec585e04df9d361a951e7d26ce5d3ab06e4d17612...  Temporary layoff scheme and reimbursement of r...   \ntika/497730ad75916dd4a3174469d0946ccf6218adfd95...  Protocol for the containment of the COVID-19 s...   \ntika/5f74df01de688c3083e10eb50ebd865b081ee3595a...  ELY centres' business development aid to micro...   \ntika/ae1904ac24001af20cfaf9ce898605e95122371e26...  Regularisation of immigrants' presence on nati...   \ntika/3bafed913ae25dd3152fec477a007abfa079507146...  Economic reactivation measures to face the imp...   \n...                                                                                               ...   \ntika/330d076853d0731e295d75f70841b445e4bc45061a...  Government support to assist the sports sector...   \ntika/ffaa29a24828dd01c81d66ece0f8f3c21451083be7...   National public sector collective agreement 2021   \ntika/3df93a8fb254187e8783d19760b465a98d88863e59...  Lifting of overtime work restrictions, extensi...   \ntika/71fc1cad3a3a8b9de4da7080acc3a8251fa8ff8c5b...     Exceptional regime suspending overtime limits    \ntika/417384d22c3c6f1768aed95a928111a4652fd832c8...               COVID-19: Income support for workers   \n\n                                                                                       merged_content  \\\n_id                                                                                                     \ntika/2ec585e04df9d361a951e7d26ce5d3ab06e4d17612...  This measure, introduced in the framework of t...   \ntika/497730ad75916dd4a3174469d0946ccf6218adfd95...  Following up the decree no. 6 issued on 23 Feb...   \ntika/5f74df01de688c3083e10eb50ebd865b081ee3595a...  Regional ELY Centers (Centers for Economic Dev...   \ntika/ae1904ac24001af20cfaf9ce898605e95122371e26...  Aiming at responding to the specific nature of...   \ntika/3bafed913ae25dd3152fec477a007abfa079507146...  The Council of Ministers has approved a Royal ...   \n...                                                                                               ...   \ntika/330d076853d0731e295d75f70841b445e4bc45061a...  As sport events have been prohibited, the fina...   \ntika/ffaa29a24828dd01c81d66ece0f8f3c21451083be7...  On 16 October 2020, the Government of the Repu...   \ntika/3df93a8fb254187e8783d19760b465a98d88863e59...  The government with a Legislative Act  (Offici...   \ntika/71fc1cad3a3a8b9de4da7080acc3a8251fa8ff8c5b...  The Decree Law No. 10-A/2020 of 13 March, sett...   \ntika/417384d22c3c6f1768aed95a928111a4652fd832c8...  Key tax and spending measures have been implem...   \n\n                                                   doc_source  \n_id                                                            \ntika/2ec585e04df9d361a951e7d26ce5d3ab06e4d17612...       pwdb  \ntika/497730ad75916dd4a3174469d0946ccf6218adfd95...       pwdb  \ntika/5f74df01de688c3083e10eb50ebd865b081ee3595a...       pwdb  \ntika/ae1904ac24001af20cfaf9ce898605e95122371e26...       pwdb  \ntika/3bafed913ae25dd3152fec477a007abfa079507146...       pwdb  \n...                                                       ...  \ntika/330d076853d0731e295d75f70841b445e4bc45061a...       pwdb  \ntika/ffaa29a24828dd01c81d66ece0f8f3c21451083be7...       pwdb  \ntika/3df93a8fb254187e8783d19760b465a98d88863e59...       pwdb  \ntika/71fc1cad3a3a8b9de4da7080acc3a8251fa8ff8c5b...       pwdb  \ntika/417384d22c3c6f1768aed95a928111a4652fd832c8...       pwdb  \n\n[1381 rows x 4 columns]",
      "text/html": "<div>\n<style scoped>\n    .dataframe tbody tr th:only-of-type {\n        vertical-align: middle;\n    }\n\n    .dataframe tbody tr th {\n        vertical-align: top;\n    }\n\n    .dataframe thead th {\n        text-align: right;\n    }\n</style>\n<table border=\"1\" class=\"dataframe\">\n  <thead>\n    <tr style=\"text-align: right;\">\n      <th></th>\n      <th>creation_date</th>\n      <th>title</th>\n      <th>merged_content</th>\n      <th>doc_source</th>\n    </tr>\n    <tr>\n      <th>_id</th>\n      <th></th>\n      <th></th>\n      <th></th>\n      <th></th>\n    </tr>\n  </thead>\n  <tbody>\n    <tr>\n      <th>tika/2ec585e04df9d361a951e7d26ce5d3ab06e4d17612e36ee84696c1451c972c4b</th>\n      <td>2020-04-10</td>\n      <td>Temporary layoff scheme and reimbursement of r...</td>\n      <td>This measure, introduced in the framework of t...</td>\n      <td>pwdb</td>\n    </tr>\n    <tr>\n      <th>tika/497730ad75916dd4a3174469d0946ccf6218adfd9513cfffb52038a3dce3fa8d</th>\n      <td>2020-09-28</td>\n      <td>Protocol for the containment of the COVID-19 s...</td>\n      <td>Following up the decree no. 6 issued on 23 Feb...</td>\n      <td>pwdb</td>\n    </tr>\n    <tr>\n      <th>tika/5f74df01de688c3083e10eb50ebd865b081ee3595a662118c3d1d4ca1ad09bc2</th>\n      <td>2020-04-10</td>\n      <td>ELY centres' business development aid to micro...</td>\n      <td>Regional ELY Centers (Centers for Economic Dev...</td>\n      <td>pwdb</td>\n    </tr>\n    <tr>\n      <th>tika/ae1904ac24001af20cfaf9ce898605e95122371e26ae96b7337d114098819c33</th>\n      <td>2020-04-09</td>\n      <td>Regularisation of immigrants' presence on nati...</td>\n      <td>Aiming at responding to the specific nature of...</td>\n      <td>pwdb</td>\n    </tr>\n    <tr>\n      <th>tika/3bafed913ae25dd3152fec477a007abfa079507146ee1b7f8b0a9abad10dc2aa</th>\n      <td>2020-10-29</td>\n      <td>Economic reactivation measures to face the imp...</td>\n      <td>The Council of Ministers has approved a Royal ...</td>\n      <td>pwdb</td>\n    </tr>\n    <tr>\n      <th>...</th>\n      <td>...</td>\n      <td>...</td>\n      <td>...</td>\n      <td>...</td>\n    </tr>\n    <tr>\n      <th>tika/330d076853d0731e295d75f70841b445e4bc45061a8ae1507766fa26d778cc6f</th>\n      <td>2020-04-12</td>\n      <td>Government support to assist the sports sector...</td>\n      <td>As sport events have been prohibited, the fina...</td>\n      <td>pwdb</td>\n    </tr>\n    <tr>\n      <th>tika/ffaa29a24828dd01c81d66ece0f8f3c21451083be7a0b6d2f4ed954b9378b0e6</th>\n      <td>2020-10-23</td>\n      <td>National public sector collective agreement 2021</td>\n      <td>On 16 October 2020, the Government of the Repu...</td>\n      <td>pwdb</td>\n    </tr>\n    <tr>\n      <th>tika/3df93a8fb254187e8783d19760b465a98d88863e59a513b35a4d8062248e4190</th>\n      <td>2020-04-16</td>\n      <td>Lifting of overtime work restrictions, extensi...</td>\n      <td>The government with a Legislative Act  (Offici...</td>\n      <td>pwdb</td>\n    </tr>\n    <tr>\n      <th>tika/71fc1cad3a3a8b9de4da7080acc3a8251fa8ff8c5b7514f082f18c1cf69ab140</th>\n      <td>2020-04-06</td>\n      <td>Exceptional regime suspending overtime limits</td>\n      <td>The Decree Law No. 10-A/2020 of 13 March, sett...</td>\n      <td>pwdb</td>\n    </tr>\n    <tr>\n      <th>tika/417384d22c3c6f1768aed95a928111a4652fd832c8d5ee38594ca661e53488ca</th>\n      <td>2020-04-12</td>\n      <td>COVID-19: Income support for workers</td>\n      <td>Key tax and spending measures have been implem...</td>\n      <td>pwdb</td>\n    </tr>\n  </tbody>\n</table>\n<p>1381 rows × 4 columns</p>\n</div>"
     },
     "execution_count": 10,
     "metadata": {},
     "output_type": "execute_result"
    }
   ],
   "source": [
    "# See the newly created PWDB dataframe\n",
    "tmp_pwdb_df"
   ],
   "metadata": {
    "collapsed": false,
    "pycharm": {
     "name": "#%%\n"
    }
   }
  },
  {
   "cell_type": "code",
   "execution_count": 11,
   "outputs": [
    {
     "data": {
      "text/plain": "Index(['work', 'title', 'cdm_types', 'cdm_type_labels', 'resource_types',\n       'resource_type_labels', 'eurovoc_concepts', 'eurovoc_concept_labels',\n       'subject_matters', 'subject_matter_labels', 'directory_codes',\n       'directory_codes_labels', 'celex_numbers', 'legal_elis', 'id_documents',\n       'same_as_uris', 'authors', 'author_labels', 'full_ojs', 'oj_sectors',\n       'internal_comments', 'is_in_force', 'dates_document', 'dates_created',\n       'legal_dates_entry_into_force', 'legal_dates_signature', 'manifs_pdf',\n       'manifs_html', 'pdfs_to_download', 'htmls_to_download', 'dossiers',\n       'related_works', 'work_sequences', 'eu_cellar_core',\n       'eu_cellar_extended', 'metadata', 'content_path', 'content',\n       'language'],\n      dtype='object')"
     },
     "execution_count": 11,
     "metadata": {},
     "output_type": "execute_result"
    }
   ],
   "source": [
    "# Print dataframe columns\n",
    "eu_cellar_df.columns"
   ],
   "metadata": {
    "collapsed": false,
    "pycharm": {
     "name": "#%%\n"
    }
   }
  },
  {
   "cell_type": "code",
   "execution_count": 12,
   "outputs": [
    {
     "data": {
      "text/plain": "                                                   dates_document  \\\n_id                                                                 \n0e3d35dcad11d1d80f8fb1c35599be27fb3e864874ab1ac...     2020-01-30   \n39dac43e4fffa3fc60906f3563e4d1547aea4a0f94e17cd...     2021-08-30   \n00f65d205b8df943ae8acbd34b729c3da11da1646e7e324...     2020-06-18   \n002086bd15c9aba8b8b3cdf88498e25735cf66043ddab88...     2020-09-07   \n014589ceb95203c13ee4bd097ddf2f164657cb6aeb1650d...     2021-05-20   \n...                                                           ...   \n5d1566cde8e0ff00d5e907e551d9202c714e320039c2960...     2020-12-10   \nf63ec4df58c38a804c983d295869f22e89515ef32c68684...     2021-02-24   \n5c798a5a6aeb16a370e018faa10f1f79ce040d1adc8e0a2...     2020-12-29   \nf6334c565e8ab7de7306c50e94d8ef10c6cf38e8d39dc7d...     2020-06-18   \n5d09ed98966478b63e7e45ca3a1f2d2f88479f4034873b7...     2020-12-11   \n\n                                                   dates_created  \\\n_id                                                                \n0e3d35dcad11d1d80f8fb1c35599be27fb3e864874ab1ac...          None   \n39dac43e4fffa3fc60906f3563e4d1547aea4a0f94e17cd...          None   \n00f65d205b8df943ae8acbd34b729c3da11da1646e7e324...          None   \n002086bd15c9aba8b8b3cdf88498e25735cf66043ddab88...          None   \n014589ceb95203c13ee4bd097ddf2f164657cb6aeb1650d...          None   \n...                                                          ...   \n5d1566cde8e0ff00d5e907e551d9202c714e320039c2960...          None   \nf63ec4df58c38a804c983d295869f22e89515ef32c68684...          None   \n5c798a5a6aeb16a370e018faa10f1f79ce040d1adc8e0a2...          None   \nf6334c565e8ab7de7306c50e94d8ef10c6cf38e8d39dc7d...          None   \n5d09ed98966478b63e7e45ca3a1f2d2f88479f4034873b7...          None   \n\n                                                   legal_dates_entry_into_force  \\\n_id                                                                               \n0e3d35dcad11d1d80f8fb1c35599be27fb3e864874ab1ac...                         None   \n39dac43e4fffa3fc60906f3563e4d1547aea4a0f94e17cd...                         None   \n00f65d205b8df943ae8acbd34b729c3da11da1646e7e324...                         None   \n002086bd15c9aba8b8b3cdf88498e25735cf66043ddab88...                         None   \n014589ceb95203c13ee4bd097ddf2f164657cb6aeb1650d...                         None   \n...                                                                         ...   \n5d1566cde8e0ff00d5e907e551d9202c714e320039c2960...                         None   \nf63ec4df58c38a804c983d295869f22e89515ef32c68684...                         None   \n5c798a5a6aeb16a370e018faa10f1f79ce040d1adc8e0a2...                         None   \nf6334c565e8ab7de7306c50e94d8ef10c6cf38e8d39dc7d...                         None   \n5d09ed98966478b63e7e45ca3a1f2d2f88479f4034873b7...                         None   \n\n                                                   legal_dates_signature  \n_id                                                                       \n0e3d35dcad11d1d80f8fb1c35599be27fb3e864874ab1ac...                  None  \n39dac43e4fffa3fc60906f3563e4d1547aea4a0f94e17cd...                  None  \n00f65d205b8df943ae8acbd34b729c3da11da1646e7e324...                  None  \n002086bd15c9aba8b8b3cdf88498e25735cf66043ddab88...                  None  \n014589ceb95203c13ee4bd097ddf2f164657cb6aeb1650d...                  None  \n...                                                                  ...  \n5d1566cde8e0ff00d5e907e551d9202c714e320039c2960...                  None  \nf63ec4df58c38a804c983d295869f22e89515ef32c68684...                  None  \n5c798a5a6aeb16a370e018faa10f1f79ce040d1adc8e0a2...                  None  \nf6334c565e8ab7de7306c50e94d8ef10c6cf38e8d39dc7d...                  None  \n5d09ed98966478b63e7e45ca3a1f2d2f88479f4034873b7...                  None  \n\n[3175 rows x 4 columns]",
      "text/html": "<div>\n<style scoped>\n    .dataframe tbody tr th:only-of-type {\n        vertical-align: middle;\n    }\n\n    .dataframe tbody tr th {\n        vertical-align: top;\n    }\n\n    .dataframe thead th {\n        text-align: right;\n    }\n</style>\n<table border=\"1\" class=\"dataframe\">\n  <thead>\n    <tr style=\"text-align: right;\">\n      <th></th>\n      <th>dates_document</th>\n      <th>dates_created</th>\n      <th>legal_dates_entry_into_force</th>\n      <th>legal_dates_signature</th>\n    </tr>\n    <tr>\n      <th>_id</th>\n      <th></th>\n      <th></th>\n      <th></th>\n      <th></th>\n    </tr>\n  </thead>\n  <tbody>\n    <tr>\n      <th>0e3d35dcad11d1d80f8fb1c35599be27fb3e864874ab1ac679fcd004723bc2e3</th>\n      <td>2020-01-30</td>\n      <td>None</td>\n      <td>None</td>\n      <td>None</td>\n    </tr>\n    <tr>\n      <th>39dac43e4fffa3fc60906f3563e4d1547aea4a0f94e17cd28ec144b117e25df6</th>\n      <td>2021-08-30</td>\n      <td>None</td>\n      <td>None</td>\n      <td>None</td>\n    </tr>\n    <tr>\n      <th>00f65d205b8df943ae8acbd34b729c3da11da1646e7e324a6c517f95f950a5d9</th>\n      <td>2020-06-18</td>\n      <td>None</td>\n      <td>None</td>\n      <td>None</td>\n    </tr>\n    <tr>\n      <th>002086bd15c9aba8b8b3cdf88498e25735cf66043ddab8877aca317256615aff</th>\n      <td>2020-09-07</td>\n      <td>None</td>\n      <td>None</td>\n      <td>None</td>\n    </tr>\n    <tr>\n      <th>014589ceb95203c13ee4bd097ddf2f164657cb6aeb1650db280b2d8c7a57977d</th>\n      <td>2021-05-20</td>\n      <td>None</td>\n      <td>None</td>\n      <td>None</td>\n    </tr>\n    <tr>\n      <th>...</th>\n      <td>...</td>\n      <td>...</td>\n      <td>...</td>\n      <td>...</td>\n    </tr>\n    <tr>\n      <th>5d1566cde8e0ff00d5e907e551d9202c714e320039c29609324e0eb579395aa1</th>\n      <td>2020-12-10</td>\n      <td>None</td>\n      <td>None</td>\n      <td>None</td>\n    </tr>\n    <tr>\n      <th>f63ec4df58c38a804c983d295869f22e89515ef32c686841d43b7a9618e106d9</th>\n      <td>2021-02-24</td>\n      <td>None</td>\n      <td>None</td>\n      <td>None</td>\n    </tr>\n    <tr>\n      <th>5c798a5a6aeb16a370e018faa10f1f79ce040d1adc8e0a2c4d06470a3d20f52b</th>\n      <td>2020-12-29</td>\n      <td>None</td>\n      <td>None</td>\n      <td>None</td>\n    </tr>\n    <tr>\n      <th>f6334c565e8ab7de7306c50e94d8ef10c6cf38e8d39dc7d3be72aa244c522f22</th>\n      <td>2020-06-18</td>\n      <td>None</td>\n      <td>None</td>\n      <td>None</td>\n    </tr>\n    <tr>\n      <th>5d09ed98966478b63e7e45ca3a1f2d2f88479f4034873b75d6136f13e8d87c93</th>\n      <td>2020-12-11</td>\n      <td>None</td>\n      <td>None</td>\n      <td>None</td>\n    </tr>\n  </tbody>\n</table>\n<p>3175 rows × 4 columns</p>\n</div>"
     },
     "execution_count": 12,
     "metadata": {},
     "output_type": "execute_result"
    }
   ],
   "source": [
    "#What are the columns that shows dates\n",
    "date_colums = [col for col in eu_cellar_df.columns if \"date\" in col]\n",
    "eu_cellar_df[date_colums]\n"
   ],
   "metadata": {
    "collapsed": false,
    "pycharm": {
     "name": "#%%\n"
    }
   }
  },
  {
   "cell_type": "code",
   "execution_count": 13,
   "outputs": [],
   "source": [
    "# Create new dataframe with the wanted content and columns from Cellar dataset\n",
    "tmp_cellar_df = pd.DataFrame(eu_cellar_df[[\"dates_document\", \"title\", \"content\"]])\n",
    "tmp_cellar_df[\"doc_source\"] = \"eu_cellar\""
   ],
   "metadata": {
    "collapsed": false,
    "pycharm": {
     "name": "#%%\n"
    }
   }
  },
  {
   "cell_type": "code",
   "execution_count": 14,
   "outputs": [
    {
     "data": {
      "text/plain": "                                                   dates_document  \\\n_id                                                                 \n0e3d35dcad11d1d80f8fb1c35599be27fb3e864874ab1ac...     2020-01-30   \n39dac43e4fffa3fc60906f3563e4d1547aea4a0f94e17cd...     2021-08-30   \n00f65d205b8df943ae8acbd34b729c3da11da1646e7e324...     2020-06-18   \n002086bd15c9aba8b8b3cdf88498e25735cf66043ddab88...     2020-09-07   \n014589ceb95203c13ee4bd097ddf2f164657cb6aeb1650d...     2021-05-20   \n...                                                           ...   \n5d1566cde8e0ff00d5e907e551d9202c714e320039c2960...     2020-12-10   \nf63ec4df58c38a804c983d295869f22e89515ef32c68684...     2021-02-24   \n5c798a5a6aeb16a370e018faa10f1f79ce040d1adc8e0a2...     2020-12-29   \nf6334c565e8ab7de7306c50e94d8ef10c6cf38e8d39dc7d...     2020-06-18   \n5d09ed98966478b63e7e45ca3a1f2d2f88479f4034873b7...     2020-12-11   \n\n                                                                                                title  \\\n_id                                                                                                     \n0e3d35dcad11d1d80f8fb1c35599be27fb3e864874ab1ac...  Prior notification of a concentration (Case M....   \n39dac43e4fffa3fc60906f3563e4d1547aea4a0f94e17cd...  COMMISSION STAFF WORKING DOCUMENT […] Accompan...   \n00f65d205b8df943ae8acbd34b729c3da11da1646e7e324...  P9_TA(2020)0157 Amending Regulations (EU) No 5...   \n002086bd15c9aba8b8b3cdf88498e25735cf66043ddab88...  Opinion No 6/2020 (pursuant to Article 287(4) ...   \n014589ceb95203c13ee4bd097ddf2f164657cb6aeb1650d...  Council Recommendation (EU) 2021/816 20 May 20...   \n...                                                                                               ...   \n5d1566cde8e0ff00d5e907e551d9202c714e320039c2960...  Case C-774/19: Judgment of the Court (Sixth Ch...   \nf63ec4df58c38a804c983d295869f22e89515ef32c68684...  Calls for proposals and related activities und...   \n5c798a5a6aeb16a370e018faa10f1f79ce040d1adc8e0a2...                                               None   \nf6334c565e8ab7de7306c50e94d8ef10c6cf38e8d39dc7d...  European Parliament resolution of 18 June 2020...   \n5d09ed98966478b63e7e45ca3a1f2d2f88479f4034873b7...  Proposal for a COUNCIL DECISION on the positio...   \n\n                                                                                              content  \\\n_id                                                                                                     \n0e3d35dcad11d1d80f8fb1c35599be27fb3e864874ab1ac...  30.1.2020 EN Official Journal of the European ...   \n39dac43e4fffa3fc60906f3563e4d1547aea4a0f94e17cd...  EUROPEAN COMMISSION Brussels, 30.8.2021 SWD(20...   \n00f65d205b8df943ae8acbd34b729c3da11da1646e7e324...  8.9.2021 EN Official Journal of the European U...   \n002086bd15c9aba8b8b3cdf88498e25735cf66043ddab88...  20.10.2020 EN Official Journal of the European...   \n014589ceb95203c13ee4bd097ddf2f164657cb6aeb1650d...  21.5.2021 EN Official Journal of the European ...   \n...                                                                                               ...   \n5d1566cde8e0ff00d5e907e551d9202c714e320039c2960...  15.2.2021 EN Official Journal of the European ...   \nf63ec4df58c38a804c983d295869f22e89515ef32c68684...  24.2.2021 EN Official Journal of the European ...   \n5c798a5a6aeb16a370e018faa10f1f79ce040d1adc8e0a2...                                                      \nf6334c565e8ab7de7306c50e94d8ef10c6cf38e8d39dc7d...  8.9.2021 EN Official Journal of the European U...   \n5d09ed98966478b63e7e45ca3a1f2d2f88479f4034873b7...  EUROPEAN COMMISSION Brussels, 11.12.2020 COM(2...   \n\n                                                   doc_source  \n_id                                                            \n0e3d35dcad11d1d80f8fb1c35599be27fb3e864874ab1ac...  eu_cellar  \n39dac43e4fffa3fc60906f3563e4d1547aea4a0f94e17cd...  eu_cellar  \n00f65d205b8df943ae8acbd34b729c3da11da1646e7e324...  eu_cellar  \n002086bd15c9aba8b8b3cdf88498e25735cf66043ddab88...  eu_cellar  \n014589ceb95203c13ee4bd097ddf2f164657cb6aeb1650d...  eu_cellar  \n...                                                       ...  \n5d1566cde8e0ff00d5e907e551d9202c714e320039c2960...  eu_cellar  \nf63ec4df58c38a804c983d295869f22e89515ef32c68684...  eu_cellar  \n5c798a5a6aeb16a370e018faa10f1f79ce040d1adc8e0a2...  eu_cellar  \nf6334c565e8ab7de7306c50e94d8ef10c6cf38e8d39dc7d...  eu_cellar  \n5d09ed98966478b63e7e45ca3a1f2d2f88479f4034873b7...  eu_cellar  \n\n[3175 rows x 4 columns]",
      "text/html": "<div>\n<style scoped>\n    .dataframe tbody tr th:only-of-type {\n        vertical-align: middle;\n    }\n\n    .dataframe tbody tr th {\n        vertical-align: top;\n    }\n\n    .dataframe thead th {\n        text-align: right;\n    }\n</style>\n<table border=\"1\" class=\"dataframe\">\n  <thead>\n    <tr style=\"text-align: right;\">\n      <th></th>\n      <th>dates_document</th>\n      <th>title</th>\n      <th>content</th>\n      <th>doc_source</th>\n    </tr>\n    <tr>\n      <th>_id</th>\n      <th></th>\n      <th></th>\n      <th></th>\n      <th></th>\n    </tr>\n  </thead>\n  <tbody>\n    <tr>\n      <th>0e3d35dcad11d1d80f8fb1c35599be27fb3e864874ab1ac679fcd004723bc2e3</th>\n      <td>2020-01-30</td>\n      <td>Prior notification of a concentration (Case M....</td>\n      <td>30.1.2020 EN Official Journal of the European ...</td>\n      <td>eu_cellar</td>\n    </tr>\n    <tr>\n      <th>39dac43e4fffa3fc60906f3563e4d1547aea4a0f94e17cd28ec144b117e25df6</th>\n      <td>2021-08-30</td>\n      <td>COMMISSION STAFF WORKING DOCUMENT […] Accompan...</td>\n      <td>EUROPEAN COMMISSION Brussels, 30.8.2021 SWD(20...</td>\n      <td>eu_cellar</td>\n    </tr>\n    <tr>\n      <th>00f65d205b8df943ae8acbd34b729c3da11da1646e7e324a6c517f95f950a5d9</th>\n      <td>2020-06-18</td>\n      <td>P9_TA(2020)0157 Amending Regulations (EU) No 5...</td>\n      <td>8.9.2021 EN Official Journal of the European U...</td>\n      <td>eu_cellar</td>\n    </tr>\n    <tr>\n      <th>002086bd15c9aba8b8b3cdf88498e25735cf66043ddab8877aca317256615aff</th>\n      <td>2020-09-07</td>\n      <td>Opinion No 6/2020 (pursuant to Article 287(4) ...</td>\n      <td>20.10.2020 EN Official Journal of the European...</td>\n      <td>eu_cellar</td>\n    </tr>\n    <tr>\n      <th>014589ceb95203c13ee4bd097ddf2f164657cb6aeb1650db280b2d8c7a57977d</th>\n      <td>2021-05-20</td>\n      <td>Council Recommendation (EU) 2021/816 20 May 20...</td>\n      <td>21.5.2021 EN Official Journal of the European ...</td>\n      <td>eu_cellar</td>\n    </tr>\n    <tr>\n      <th>...</th>\n      <td>...</td>\n      <td>...</td>\n      <td>...</td>\n      <td>...</td>\n    </tr>\n    <tr>\n      <th>5d1566cde8e0ff00d5e907e551d9202c714e320039c29609324e0eb579395aa1</th>\n      <td>2020-12-10</td>\n      <td>Case C-774/19: Judgment of the Court (Sixth Ch...</td>\n      <td>15.2.2021 EN Official Journal of the European ...</td>\n      <td>eu_cellar</td>\n    </tr>\n    <tr>\n      <th>f63ec4df58c38a804c983d295869f22e89515ef32c686841d43b7a9618e106d9</th>\n      <td>2021-02-24</td>\n      <td>Calls for proposals and related activities und...</td>\n      <td>24.2.2021 EN Official Journal of the European ...</td>\n      <td>eu_cellar</td>\n    </tr>\n    <tr>\n      <th>5c798a5a6aeb16a370e018faa10f1f79ce040d1adc8e0a2c4d06470a3d20f52b</th>\n      <td>2020-12-29</td>\n      <td>None</td>\n      <td></td>\n      <td>eu_cellar</td>\n    </tr>\n    <tr>\n      <th>f6334c565e8ab7de7306c50e94d8ef10c6cf38e8d39dc7d3be72aa244c522f22</th>\n      <td>2020-06-18</td>\n      <td>European Parliament resolution of 18 June 2020...</td>\n      <td>8.9.2021 EN Official Journal of the European U...</td>\n      <td>eu_cellar</td>\n    </tr>\n    <tr>\n      <th>5d09ed98966478b63e7e45ca3a1f2d2f88479f4034873b75d6136f13e8d87c93</th>\n      <td>2020-12-11</td>\n      <td>Proposal for a COUNCIL DECISION on the positio...</td>\n      <td>EUROPEAN COMMISSION Brussels, 11.12.2020 COM(2...</td>\n      <td>eu_cellar</td>\n    </tr>\n  </tbody>\n</table>\n<p>3175 rows × 4 columns</p>\n</div>"
     },
     "execution_count": 14,
     "metadata": {},
     "output_type": "execute_result"
    }
   ],
   "source": [
    "# See the newly created Cellar dataframe\n",
    "tmp_cellar_df\n"
   ],
   "metadata": {
    "collapsed": false,
    "pycharm": {
     "name": "#%%\n"
    }
   }
  },
  {
   "cell_type": "code",
   "execution_count": 15,
   "outputs": [
    {
     "data": {
      "text/plain": "Index(['month_name', 'date', 'title', 'abstract', 'presscorner_links',\n       'all_links', 'detail_link', 'detail_type', 'detail_date',\n       'detail_location', 'detail_content', 'detail_title', 'detail_pdf_link',\n       'press_contacts', 'topics', 'for_more_information_links'],\n      dtype='object')"
     },
     "execution_count": 15,
     "metadata": {},
     "output_type": "execute_result"
    }
   ],
   "source": [
    "# Print dataframe columns\n",
    "eu_timeline_df.columns"
   ],
   "metadata": {
    "collapsed": false,
    "pycharm": {
     "name": "#%%\n"
    }
   }
  },
  {
   "cell_type": "code",
   "execution_count": 16,
   "outputs": [
    {
     "data": {
      "text/plain": "                                                          date detail_date\n_id                                                                       \n01dc34ca5f6bfa5316012d6f89a4256b8d2ce6e3a12210b...  2021-01-28         NaN\n04d776c061243576ffc1e1c5a724d41ecca2ed12339b2ff...  2021-06-22  2021-06-22\n04eb55005a803c7353e5d5ed339d7f3a72cc8da6e49f2b8...  2020-06-16  2020-06-17\n073e22ec2b44a5f2f6289f09dc954ecd6ca6cbb4a4b33ff...  2020-04-15  2020-04-15\n0a3650bef3282d09d971dd92dc01570b7ecbdb67a4bdd0f...  2020-12-18         NaN\n...                                                        ...         ...\nfa793c764aaf89c283f747036c9d73fd66f0a7e3692be56...  2021-06-29  2021-06-29\nfb9c4d1634da94c73fd529b44ec40057c28a5c925a8b8e7...  2020-03-13  2020-03-13\nfbad1d421cf80d3e0e4c6b6d3d60a2a6ec8bed4ee19e07c...  2021-01-28  2020-03-19\nfbeff236835d3cfd394f9c9fd5b63eb524c9cdab6e68c93...  2020-07-06  2020-07-06\nffbf6d305594c49b6f5d4d66f56e674f1d953833ba9fdce...  2021-06-23  2021-06-23\n\n[210 rows x 2 columns]",
      "text/html": "<div>\n<style scoped>\n    .dataframe tbody tr th:only-of-type {\n        vertical-align: middle;\n    }\n\n    .dataframe tbody tr th {\n        vertical-align: top;\n    }\n\n    .dataframe thead th {\n        text-align: right;\n    }\n</style>\n<table border=\"1\" class=\"dataframe\">\n  <thead>\n    <tr style=\"text-align: right;\">\n      <th></th>\n      <th>date</th>\n      <th>detail_date</th>\n    </tr>\n    <tr>\n      <th>_id</th>\n      <th></th>\n      <th></th>\n    </tr>\n  </thead>\n  <tbody>\n    <tr>\n      <th>01dc34ca5f6bfa5316012d6f89a4256b8d2ce6e3a12210b0406903dd15bf36ac</th>\n      <td>2021-01-28</td>\n      <td>NaN</td>\n    </tr>\n    <tr>\n      <th>04d776c061243576ffc1e1c5a724d41ecca2ed12339b2ff473c5aa2ff1a071c7</th>\n      <td>2021-06-22</td>\n      <td>2021-06-22</td>\n    </tr>\n    <tr>\n      <th>04eb55005a803c7353e5d5ed339d7f3a72cc8da6e49f2b8b152bf8fb40a1398f</th>\n      <td>2020-06-16</td>\n      <td>2020-06-17</td>\n    </tr>\n    <tr>\n      <th>073e22ec2b44a5f2f6289f09dc954ecd6ca6cbb4a4b33ffd88c3c150572569c0</th>\n      <td>2020-04-15</td>\n      <td>2020-04-15</td>\n    </tr>\n    <tr>\n      <th>0a3650bef3282d09d971dd92dc01570b7ecbdb67a4bdd0ff1c8cf8443a06b937</th>\n      <td>2020-12-18</td>\n      <td>NaN</td>\n    </tr>\n    <tr>\n      <th>...</th>\n      <td>...</td>\n      <td>...</td>\n    </tr>\n    <tr>\n      <th>fa793c764aaf89c283f747036c9d73fd66f0a7e3692be56b8ac985610bef2417</th>\n      <td>2021-06-29</td>\n      <td>2021-06-29</td>\n    </tr>\n    <tr>\n      <th>fb9c4d1634da94c73fd529b44ec40057c28a5c925a8b8e71d73c49e5a815784d</th>\n      <td>2020-03-13</td>\n      <td>2020-03-13</td>\n    </tr>\n    <tr>\n      <th>fbad1d421cf80d3e0e4c6b6d3d60a2a6ec8bed4ee19e07cd15d963fa74352420</th>\n      <td>2021-01-28</td>\n      <td>2020-03-19</td>\n    </tr>\n    <tr>\n      <th>fbeff236835d3cfd394f9c9fd5b63eb524c9cdab6e68c9370758f3e35592973e</th>\n      <td>2020-07-06</td>\n      <td>2020-07-06</td>\n    </tr>\n    <tr>\n      <th>ffbf6d305594c49b6f5d4d66f56e674f1d953833ba9fdceed84d72370c884653</th>\n      <td>2021-06-23</td>\n      <td>2021-06-23</td>\n    </tr>\n  </tbody>\n</table>\n<p>210 rows × 2 columns</p>\n</div>"
     },
     "execution_count": 16,
     "metadata": {},
     "output_type": "execute_result"
    }
   ],
   "source": [
    "#What are the columns that shows dates\n",
    "date_columns = [col for col in eu_timeline_df.columns if \"date\" in col]\n",
    "eu_timeline_df[date_columns]\n"
   ],
   "metadata": {
    "collapsed": false,
    "pycharm": {
     "name": "#%%\n"
    }
   }
  },
  {
   "cell_type": "code",
   "execution_count": 17,
   "outputs": [],
   "source": [
    "# Create new dataframe with the wanted content and columns from EU timeline dataset\n",
    "tmp_eu_timeline_df = pd.DataFrame(eu_timeline_df[[\"date\", \"title\", \"detail_content\"]])\n",
    "tmp_eu_timeline_df[\"doc_source\"] = \"eu_timeline\""
   ],
   "metadata": {
    "collapsed": false,
    "pycharm": {
     "name": "#%%\n"
    }
   }
  },
  {
   "cell_type": "code",
   "execution_count": 18,
   "outputs": [
    {
     "data": {
      "text/plain": "                                                          date  \\\n_id                                                              \n01dc34ca5f6bfa5316012d6f89a4256b8d2ce6e3a12210b...  2021-01-28   \n04d776c061243576ffc1e1c5a724d41ecca2ed12339b2ff...  2021-06-22   \n04eb55005a803c7353e5d5ed339d7f3a72cc8da6e49f2b8...  2020-06-16   \n073e22ec2b44a5f2f6289f09dc954ecd6ca6cbb4a4b33ff...  2020-04-15   \n0a3650bef3282d09d971dd92dc01570b7ecbdb67a4bdd0f...  2020-12-18   \n...                                                        ...   \nfa793c764aaf89c283f747036c9d73fd66f0a7e3692be56...  2021-06-29   \nfb9c4d1634da94c73fd529b44ec40057c28a5c925a8b8e7...  2020-03-13   \nfbad1d421cf80d3e0e4c6b6d3d60a2a6ec8bed4ee19e07c...  2021-01-28   \nfbeff236835d3cfd394f9c9fd5b63eb524c9cdab6e68c93...  2020-07-06   \nffbf6d305594c49b6f5d4d66f56e674f1d953833ba9fdce...  2021-06-23   \n\n                                                                                                title  \\\n_id                                                                                                     \n01dc34ca5f6bfa5316012d6f89a4256b8d2ce6e3a12210b...  EU countries adopt guidelines on proof of vacc...   \n04d776c061243576ffc1e1c5a724d41ecca2ed12339b2ff...  Commission endorses Latvia's €1.8 billion reco...   \n04eb55005a803c7353e5d5ed339d7f3a72cc8da6e49f2b8...            Commission unveils EU vaccines strategy   \n073e22ec2b44a5f2f6289f09dc954ecd6ca6cbb4a4b33ff...  European roadmap shows path towards common lif...   \n0a3650bef3282d09d971dd92dc01570b7ecbdb67a4bdd0f...  Commission puts forward rules on rapid antigen...   \n...                                                                                               ...   \nfa793c764aaf89c283f747036c9d73fd66f0a7e3692be56...  Commission identifies five promising candidate...   \nfb9c4d1634da94c73fd529b44ec40057c28a5c925a8b8e7...  Setting out coordinated response to counter th...   \nfbad1d421cf80d3e0e4c6b6d3d60a2a6ec8bed4ee19e07c...  Prolonging State aid Temporary Framework to fu...   \nfbeff236835d3cfd394f9c9fd5b63eb524c9cdab6e68c93...  Commission and EIB provide CureVac with a €75 ...   \nffbf6d305594c49b6f5d4d66f56e674f1d953833ba9fdce...  Commission endorses France's €39.4 billion rec...   \n\n                                                                                       detail_content  \\\n_id                                                                                                     \n01dc34ca5f6bfa5316012d6f89a4256b8d2ce6e3a12210b...                                                NaN   \n04d776c061243576ffc1e1c5a724d41ecca2ed12339b2ff...  The European Commission has today adopted a po...   \n04eb55005a803c7353e5d5ed339d7f3a72cc8da6e49f2b8...  Today, to help protect people everywhere, the ...   \n073e22ec2b44a5f2f6289f09dc954ecd6ca6cbb4a4b33ff...  Today, the Commission, in cooperation with the...   \n0a3650bef3282d09d971dd92dc01570b7ecbdb67a4bdd0f...                                                NaN   \n...                                                                                               ...   \nfa793c764aaf89c283f747036c9d73fd66f0a7e3692be56...  The EU Strategy on COVID-19 Therapeutics deliv...   \nfb9c4d1634da94c73fd529b44ec40057c28a5c925a8b8e7...  COVID-19 is a severe public health emergency f...   \nfbad1d421cf80d3e0e4c6b6d3d60a2a6ec8bed4ee19e07c...              The European Commission has adopted a   \nfbeff236835d3cfd394f9c9fd5b63eb524c9cdab6e68c93...                                                      \nffbf6d305594c49b6f5d4d66f56e674f1d953833ba9fdce...  The European Commission has today adopted a po...   \n\n                                                     doc_source  \n_id                                                              \n01dc34ca5f6bfa5316012d6f89a4256b8d2ce6e3a12210b...  eu_timeline  \n04d776c061243576ffc1e1c5a724d41ecca2ed12339b2ff...  eu_timeline  \n04eb55005a803c7353e5d5ed339d7f3a72cc8da6e49f2b8...  eu_timeline  \n073e22ec2b44a5f2f6289f09dc954ecd6ca6cbb4a4b33ff...  eu_timeline  \n0a3650bef3282d09d971dd92dc01570b7ecbdb67a4bdd0f...  eu_timeline  \n...                                                         ...  \nfa793c764aaf89c283f747036c9d73fd66f0a7e3692be56...  eu_timeline  \nfb9c4d1634da94c73fd529b44ec40057c28a5c925a8b8e7...  eu_timeline  \nfbad1d421cf80d3e0e4c6b6d3d60a2a6ec8bed4ee19e07c...  eu_timeline  \nfbeff236835d3cfd394f9c9fd5b63eb524c9cdab6e68c93...  eu_timeline  \nffbf6d305594c49b6f5d4d66f56e674f1d953833ba9fdce...  eu_timeline  \n\n[210 rows x 4 columns]",
      "text/html": "<div>\n<style scoped>\n    .dataframe tbody tr th:only-of-type {\n        vertical-align: middle;\n    }\n\n    .dataframe tbody tr th {\n        vertical-align: top;\n    }\n\n    .dataframe thead th {\n        text-align: right;\n    }\n</style>\n<table border=\"1\" class=\"dataframe\">\n  <thead>\n    <tr style=\"text-align: right;\">\n      <th></th>\n      <th>date</th>\n      <th>title</th>\n      <th>detail_content</th>\n      <th>doc_source</th>\n    </tr>\n    <tr>\n      <th>_id</th>\n      <th></th>\n      <th></th>\n      <th></th>\n      <th></th>\n    </tr>\n  </thead>\n  <tbody>\n    <tr>\n      <th>01dc34ca5f6bfa5316012d6f89a4256b8d2ce6e3a12210b0406903dd15bf36ac</th>\n      <td>2021-01-28</td>\n      <td>EU countries adopt guidelines on proof of vacc...</td>\n      <td>NaN</td>\n      <td>eu_timeline</td>\n    </tr>\n    <tr>\n      <th>04d776c061243576ffc1e1c5a724d41ecca2ed12339b2ff473c5aa2ff1a071c7</th>\n      <td>2021-06-22</td>\n      <td>Commission endorses Latvia's €1.8 billion reco...</td>\n      <td>The European Commission has today adopted a po...</td>\n      <td>eu_timeline</td>\n    </tr>\n    <tr>\n      <th>04eb55005a803c7353e5d5ed339d7f3a72cc8da6e49f2b8b152bf8fb40a1398f</th>\n      <td>2020-06-16</td>\n      <td>Commission unveils EU vaccines strategy</td>\n      <td>Today, to help protect people everywhere, the ...</td>\n      <td>eu_timeline</td>\n    </tr>\n    <tr>\n      <th>073e22ec2b44a5f2f6289f09dc954ecd6ca6cbb4a4b33ffd88c3c150572569c0</th>\n      <td>2020-04-15</td>\n      <td>European roadmap shows path towards common lif...</td>\n      <td>Today, the Commission, in cooperation with the...</td>\n      <td>eu_timeline</td>\n    </tr>\n    <tr>\n      <th>0a3650bef3282d09d971dd92dc01570b7ecbdb67a4bdd0ff1c8cf8443a06b937</th>\n      <td>2020-12-18</td>\n      <td>Commission puts forward rules on rapid antigen...</td>\n      <td>NaN</td>\n      <td>eu_timeline</td>\n    </tr>\n    <tr>\n      <th>...</th>\n      <td>...</td>\n      <td>...</td>\n      <td>...</td>\n      <td>...</td>\n    </tr>\n    <tr>\n      <th>fa793c764aaf89c283f747036c9d73fd66f0a7e3692be56b8ac985610bef2417</th>\n      <td>2021-06-29</td>\n      <td>Commission identifies five promising candidate...</td>\n      <td>The EU Strategy on COVID-19 Therapeutics deliv...</td>\n      <td>eu_timeline</td>\n    </tr>\n    <tr>\n      <th>fb9c4d1634da94c73fd529b44ec40057c28a5c925a8b8e71d73c49e5a815784d</th>\n      <td>2020-03-13</td>\n      <td>Setting out coordinated response to counter th...</td>\n      <td>COVID-19 is a severe public health emergency f...</td>\n      <td>eu_timeline</td>\n    </tr>\n    <tr>\n      <th>fbad1d421cf80d3e0e4c6b6d3d60a2a6ec8bed4ee19e07cd15d963fa74352420</th>\n      <td>2021-01-28</td>\n      <td>Prolonging State aid Temporary Framework to fu...</td>\n      <td>The European Commission has adopted a</td>\n      <td>eu_timeline</td>\n    </tr>\n    <tr>\n      <th>fbeff236835d3cfd394f9c9fd5b63eb524c9cdab6e68c9370758f3e35592973e</th>\n      <td>2020-07-06</td>\n      <td>Commission and EIB provide CureVac with a €75 ...</td>\n      <td></td>\n      <td>eu_timeline</td>\n    </tr>\n    <tr>\n      <th>ffbf6d305594c49b6f5d4d66f56e674f1d953833ba9fdceed84d72370c884653</th>\n      <td>2021-06-23</td>\n      <td>Commission endorses France's €39.4 billion rec...</td>\n      <td>The European Commission has today adopted a po...</td>\n      <td>eu_timeline</td>\n    </tr>\n  </tbody>\n</table>\n<p>210 rows × 4 columns</p>\n</div>"
     },
     "execution_count": 18,
     "metadata": {},
     "output_type": "execute_result"
    }
   ],
   "source": [
    "# See the newly created EU timeline  dataframe\n",
    "tmp_eu_timeline_df"
   ],
   "metadata": {
    "collapsed": false,
    "pycharm": {
     "name": "#%%\n"
    }
   }
  },
  {
   "cell_type": "code",
   "execution_count": 19,
   "outputs": [
    {
     "data": {
      "text/plain": "Index(['keyword', 'page_type', 'page_link', 'department_data',\n       'published_date', 'updated_date', 'title', 'content', 'content_links',\n       'campaigns_links', 'part_of_links', 'documents'],\n      dtype='object')"
     },
     "execution_count": 19,
     "metadata": {},
     "output_type": "execute_result"
    }
   ],
   "source": [
    "# Print dataframe columns\n",
    "ir_timeline_df.columns\n",
    "\n"
   ],
   "metadata": {
    "collapsed": false,
    "pycharm": {
     "name": "#%%\n"
    }
   }
  },
  {
   "cell_type": "code",
   "execution_count": 20,
   "outputs": [
    {
     "data": {
      "text/plain": "                                                   published_date updated_date\n_id                                                                           \n41c0f398402f522980ec6e3ae49ef3b60b7139c1deb0ba7...     2021-03-24   2021-03-24\n41d85d20ea2ffeaba4c27e36def4c03986ad83679fb62a0...     2020-07-30   2020-07-30\n420468c03e6550d8111344aa4d28d7e7cfd70037b16f8ca...     2020-06-06   2020-06-06\n42081c8a3c63d62e4b0ef27f6a3386848b45d71665318ef...     2021-07-21   2021-07-23\n421dd88edfd80b1fbc6c350565455e1a218774c9d4f1d74...     2020-12-10   2020-12-11\n...                                                           ...          ...\nff4ea2ef933287c4125d898245e878ae9fcb1b356b3c60d...     2021-01-22   2021-01-23\nff7508dca9aaf53565b08dc6826102bff9176584afc245b...     2021-08-25   2021-08-27\nff82338ae7c8129669562babc1c0d7a893a9c59f6d2bd00...     2020-03-20   2020-03-20\nffef06958ad76786347e3aa545351f708105f6db826708b...     2021-05-24   2021-06-01\nfff7b98741a044543ea4dbfb02fd702386f1bdfbf84db6e...     2021-08-25   2021-08-26\n\n[1921 rows x 2 columns]",
      "text/html": "<div>\n<style scoped>\n    .dataframe tbody tr th:only-of-type {\n        vertical-align: middle;\n    }\n\n    .dataframe tbody tr th {\n        vertical-align: top;\n    }\n\n    .dataframe thead th {\n        text-align: right;\n    }\n</style>\n<table border=\"1\" class=\"dataframe\">\n  <thead>\n    <tr style=\"text-align: right;\">\n      <th></th>\n      <th>published_date</th>\n      <th>updated_date</th>\n    </tr>\n    <tr>\n      <th>_id</th>\n      <th></th>\n      <th></th>\n    </tr>\n  </thead>\n  <tbody>\n    <tr>\n      <th>41c0f398402f522980ec6e3ae49ef3b60b7139c1deb0ba75db830e77f62d5bdd</th>\n      <td>2021-03-24</td>\n      <td>2021-03-24</td>\n    </tr>\n    <tr>\n      <th>41d85d20ea2ffeaba4c27e36def4c03986ad83679fb62a07de6214abf0309ae1</th>\n      <td>2020-07-30</td>\n      <td>2020-07-30</td>\n    </tr>\n    <tr>\n      <th>420468c03e6550d8111344aa4d28d7e7cfd70037b16f8cab3451ff52d6bbd7b5</th>\n      <td>2020-06-06</td>\n      <td>2020-06-06</td>\n    </tr>\n    <tr>\n      <th>42081c8a3c63d62e4b0ef27f6a3386848b45d71665318ef14642649bb9b11b3e</th>\n      <td>2021-07-21</td>\n      <td>2021-07-23</td>\n    </tr>\n    <tr>\n      <th>421dd88edfd80b1fbc6c350565455e1a218774c9d4f1d74bbe2047d972187736</th>\n      <td>2020-12-10</td>\n      <td>2020-12-11</td>\n    </tr>\n    <tr>\n      <th>...</th>\n      <td>...</td>\n      <td>...</td>\n    </tr>\n    <tr>\n      <th>ff4ea2ef933287c4125d898245e878ae9fcb1b356b3c60de288dd97020bdd3a5</th>\n      <td>2021-01-22</td>\n      <td>2021-01-23</td>\n    </tr>\n    <tr>\n      <th>ff7508dca9aaf53565b08dc6826102bff9176584afc245b9947c18dae946506a</th>\n      <td>2021-08-25</td>\n      <td>2021-08-27</td>\n    </tr>\n    <tr>\n      <th>ff82338ae7c8129669562babc1c0d7a893a9c59f6d2bd00cefe853539721367e</th>\n      <td>2020-03-20</td>\n      <td>2020-03-20</td>\n    </tr>\n    <tr>\n      <th>ffef06958ad76786347e3aa545351f708105f6db826708b4523cd16ea150e702</th>\n      <td>2021-05-24</td>\n      <td>2021-06-01</td>\n    </tr>\n    <tr>\n      <th>fff7b98741a044543ea4dbfb02fd702386f1bdfbf84db6e9d110bd95d65c22d7</th>\n      <td>2021-08-25</td>\n      <td>2021-08-26</td>\n    </tr>\n  </tbody>\n</table>\n<p>1921 rows × 2 columns</p>\n</div>"
     },
     "execution_count": 20,
     "metadata": {},
     "output_type": "execute_result"
    }
   ],
   "source": [
    "#What are the columns that shows dates\n",
    "date_columns = [col for col in ir_timeline_df.columns if \"date\" in col]\n",
    "ir_timeline_df[date_columns]\n",
    "\n"
   ],
   "metadata": {
    "collapsed": false,
    "pycharm": {
     "name": "#%%\n"
    }
   }
  },
  {
   "cell_type": "code",
   "execution_count": 21,
   "outputs": [],
   "source": [
    "# Create new dataframe with the wanted content and columns from Ireland timeline dataset\n",
    "tmp_ir_timeline_df = pd.DataFrame(ir_timeline_df[[\"published_date\", \"title\", \"content\"]])\n",
    "tmp_ir_timeline_df[\"doc_source\"] = \"ireland_timeline\""
   ],
   "metadata": {
    "collapsed": false,
    "pycharm": {
     "name": "#%%\n"
    }
   }
  },
  {
   "cell_type": "code",
   "execution_count": 22,
   "outputs": [
    {
     "data": {
      "text/plain": "                                                   published_date  \\\n_id                                                                 \n41c0f398402f522980ec6e3ae49ef3b60b7139c1deb0ba7...     2021-03-24   \n41d85d20ea2ffeaba4c27e36def4c03986ad83679fb62a0...     2020-07-30   \n420468c03e6550d8111344aa4d28d7e7cfd70037b16f8ca...     2020-06-06   \n42081c8a3c63d62e4b0ef27f6a3386848b45d71665318ef...     2021-07-21   \n421dd88edfd80b1fbc6c350565455e1a218774c9d4f1d74...     2020-12-10   \n...                                                           ...   \nff4ea2ef933287c4125d898245e878ae9fcb1b356b3c60d...     2021-01-22   \nff7508dca9aaf53565b08dc6826102bff9176584afc245b...     2021-08-25   \nff82338ae7c8129669562babc1c0d7a893a9c59f6d2bd00...     2020-03-20   \nffef06958ad76786347e3aa545351f708105f6db826708b...     2021-05-24   \nfff7b98741a044543ea4dbfb02fd702386f1bdfbf84db6e...     2021-08-25   \n\n                                                                                                title  \\\n_id                                                                                                     \n41c0f398402f522980ec6e3ae49ef3b60b7139c1deb0ba7...  Statement by Minister for Education Norma Fole...   \n41d85d20ea2ffeaba4c27e36def4c03986ad83679fb62a0...  From pencil and paper to drones and satellites...   \n420468c03e6550d8111344aa4d28d7e7cfd70037b16f8ca...  Return to Sport Expert Group recommends furthe...   \n42081c8a3c63d62e4b0ef27f6a3386848b45d71665318ef...  Government to put “special focus” on Drogheda ...   \n421dd88edfd80b1fbc6c350565455e1a218774c9d4f1d74...  Statement from the National Public Health Emer...   \n...                                                                                               ...   \nff4ea2ef933287c4125d898245e878ae9fcb1b356b3c60d...  Statement from the National Public Health Emer...   \nff7508dca9aaf53565b08dc6826102bff9176584afc245b...  Ministers McConalogue and Heydon launch Code o...   \nff82338ae7c8129669562babc1c0d7a893a9c59f6d2bd00...  Press Release on Civil Defence in the context ...   \nffef06958ad76786347e3aa545351f708105f6db826708b...  Minister O’Gorman launches ‘LGBTI+ Youth in Ir...   \nfff7b98741a044543ea4dbfb02fd702386f1bdfbf84db6e...  Statement from the National Public Health Emer...   \n\n                                                                                              content  \\\n_id                                                                                                     \n41c0f398402f522980ec6e3ae49ef3b60b7139c1deb0ba7...  The State Examinations Commission is today iss...   \n41d85d20ea2ffeaba4c27e36def4c03986ad83679fb62a0...  July 31 2020 marks the 175th anniversary of th...   \n420468c03e6550d8111344aa4d28d7e7cfd70037b16f8ca...  The Minister for Transport, Tourism and Sport,...   \n42081c8a3c63d62e4b0ef27f6a3386848b45d71665318ef...  Government agrees that funding applications un...   \n421dd88edfd80b1fbc6c350565455e1a218774c9d4f1d74...  1. Hospital statistics 2. Gender of patients 3...   \n...                                                                                               ...   \nff4ea2ef933287c4125d898245e878ae9fcb1b356b3c60d...  The Health Protection Surveillance Centre has ...   \nff7508dca9aaf53565b08dc6826102bff9176584afc245b...  The Minister for Agriculture, Food and the Mar...   \nff82338ae7c8129669562babc1c0d7a893a9c59f6d2bd00...  Civil Defence (Cosaint Shibhialta) is a statut...   \nffef06958ad76786347e3aa545351f708105f6db826708b...  Minister for Children, Equality, Disability, I...   \nfff7b98741a044543ea4dbfb02fd702386f1bdfbf84db6e...  The Health Protection Surveillance Centre has ...   \n\n                                                          doc_source  \n_id                                                                   \n41c0f398402f522980ec6e3ae49ef3b60b7139c1deb0ba7...  ireland_timeline  \n41d85d20ea2ffeaba4c27e36def4c03986ad83679fb62a0...  ireland_timeline  \n420468c03e6550d8111344aa4d28d7e7cfd70037b16f8ca...  ireland_timeline  \n42081c8a3c63d62e4b0ef27f6a3386848b45d71665318ef...  ireland_timeline  \n421dd88edfd80b1fbc6c350565455e1a218774c9d4f1d74...  ireland_timeline  \n...                                                              ...  \nff4ea2ef933287c4125d898245e878ae9fcb1b356b3c60d...  ireland_timeline  \nff7508dca9aaf53565b08dc6826102bff9176584afc245b...  ireland_timeline  \nff82338ae7c8129669562babc1c0d7a893a9c59f6d2bd00...  ireland_timeline  \nffef06958ad76786347e3aa545351f708105f6db826708b...  ireland_timeline  \nfff7b98741a044543ea4dbfb02fd702386f1bdfbf84db6e...  ireland_timeline  \n\n[1921 rows x 4 columns]",
      "text/html": "<div>\n<style scoped>\n    .dataframe tbody tr th:only-of-type {\n        vertical-align: middle;\n    }\n\n    .dataframe tbody tr th {\n        vertical-align: top;\n    }\n\n    .dataframe thead th {\n        text-align: right;\n    }\n</style>\n<table border=\"1\" class=\"dataframe\">\n  <thead>\n    <tr style=\"text-align: right;\">\n      <th></th>\n      <th>published_date</th>\n      <th>title</th>\n      <th>content</th>\n      <th>doc_source</th>\n    </tr>\n    <tr>\n      <th>_id</th>\n      <th></th>\n      <th></th>\n      <th></th>\n      <th></th>\n    </tr>\n  </thead>\n  <tbody>\n    <tr>\n      <th>41c0f398402f522980ec6e3ae49ef3b60b7139c1deb0ba75db830e77f62d5bdd</th>\n      <td>2021-03-24</td>\n      <td>Statement by Minister for Education Norma Fole...</td>\n      <td>The State Examinations Commission is today iss...</td>\n      <td>ireland_timeline</td>\n    </tr>\n    <tr>\n      <th>41d85d20ea2ffeaba4c27e36def4c03986ad83679fb62a07de6214abf0309ae1</th>\n      <td>2020-07-30</td>\n      <td>From pencil and paper to drones and satellites...</td>\n      <td>July 31 2020 marks the 175th anniversary of th...</td>\n      <td>ireland_timeline</td>\n    </tr>\n    <tr>\n      <th>420468c03e6550d8111344aa4d28d7e7cfd70037b16f8cab3451ff52d6bbd7b5</th>\n      <td>2020-06-06</td>\n      <td>Return to Sport Expert Group recommends furthe...</td>\n      <td>The Minister for Transport, Tourism and Sport,...</td>\n      <td>ireland_timeline</td>\n    </tr>\n    <tr>\n      <th>42081c8a3c63d62e4b0ef27f6a3386848b45d71665318ef14642649bb9b11b3e</th>\n      <td>2021-07-21</td>\n      <td>Government to put “special focus” on Drogheda ...</td>\n      <td>Government agrees that funding applications un...</td>\n      <td>ireland_timeline</td>\n    </tr>\n    <tr>\n      <th>421dd88edfd80b1fbc6c350565455e1a218774c9d4f1d74bbe2047d972187736</th>\n      <td>2020-12-10</td>\n      <td>Statement from the National Public Health Emer...</td>\n      <td>1. Hospital statistics 2. Gender of patients 3...</td>\n      <td>ireland_timeline</td>\n    </tr>\n    <tr>\n      <th>...</th>\n      <td>...</td>\n      <td>...</td>\n      <td>...</td>\n      <td>...</td>\n    </tr>\n    <tr>\n      <th>ff4ea2ef933287c4125d898245e878ae9fcb1b356b3c60de288dd97020bdd3a5</th>\n      <td>2021-01-22</td>\n      <td>Statement from the National Public Health Emer...</td>\n      <td>The Health Protection Surveillance Centre has ...</td>\n      <td>ireland_timeline</td>\n    </tr>\n    <tr>\n      <th>ff7508dca9aaf53565b08dc6826102bff9176584afc245b9947c18dae946506a</th>\n      <td>2021-08-25</td>\n      <td>Ministers McConalogue and Heydon launch Code o...</td>\n      <td>The Minister for Agriculture, Food and the Mar...</td>\n      <td>ireland_timeline</td>\n    </tr>\n    <tr>\n      <th>ff82338ae7c8129669562babc1c0d7a893a9c59f6d2bd00cefe853539721367e</th>\n      <td>2020-03-20</td>\n      <td>Press Release on Civil Defence in the context ...</td>\n      <td>Civil Defence (Cosaint Shibhialta) is a statut...</td>\n      <td>ireland_timeline</td>\n    </tr>\n    <tr>\n      <th>ffef06958ad76786347e3aa545351f708105f6db826708b4523cd16ea150e702</th>\n      <td>2021-05-24</td>\n      <td>Minister O’Gorman launches ‘LGBTI+ Youth in Ir...</td>\n      <td>Minister for Children, Equality, Disability, I...</td>\n      <td>ireland_timeline</td>\n    </tr>\n    <tr>\n      <th>fff7b98741a044543ea4dbfb02fd702386f1bdfbf84db6e9d110bd95d65c22d7</th>\n      <td>2021-08-25</td>\n      <td>Statement from the National Public Health Emer...</td>\n      <td>The Health Protection Surveillance Centre has ...</td>\n      <td>ireland_timeline</td>\n    </tr>\n  </tbody>\n</table>\n<p>1921 rows × 4 columns</p>\n</div>"
     },
     "execution_count": 22,
     "metadata": {},
     "output_type": "execute_result"
    }
   ],
   "source": [
    "# See the newly created Ireland timeline  dataframe\n",
    "tmp_ir_timeline_df\n"
   ],
   "metadata": {
    "collapsed": false,
    "pycharm": {
     "name": "#%%\n"
    }
   }
  },
  {
   "cell_type": "code",
   "execution_count": 23,
   "outputs": [],
   "source": [
    "def replace_non_english_content(text):\n",
    "    if text is not None:\n",
    "        language = detect_langs(text)\n",
    "        language_details = str(language[0]).split(\":\")\n",
    "        if language_details[0] == \"en\" and float(language_details[1]) > 0.95:\n",
    "            return text\n",
    "        else:\n",
    "            return None\n",
    "\n",
    "\n"
   ],
   "metadata": {
    "collapsed": false,
    "pycharm": {
     "name": "#%%\n"
    }
   }
  },
  {
   "cell_type": "code",
   "execution_count": 24,
   "outputs": [],
   "source": [
    "#Renaming columns in dataframes and dropping rows without content, title and date\n",
    "data_frames = [tmp_cellar_df, tmp_eu_timeline_df, tmp_ir_timeline_df, tmp_pwdb_df]\n",
    "for data_frame in data_frames:\n",
    "    data_frame.columns = [\"Date\", \"Title\", \"Content\", \"Document_source\"]\n",
    "    data_frame[\"Content\"] = data_frame[\"Content\"].apply(lambda x: x if x != \"\" else None)\n",
    "    data_frame[\"Content\"] = data_frame[\"Content\"].replace({np.nan: None}).apply(lambda x: replace_non_english_content(x))\n",
    "    data_frame.dropna(subset=['Content', 'Title', 'Date'], how=\"any\", inplace=True)\n",
    "    # data_frame.dropna(subset=['Title'], inplace=True)\n",
    "    # data_frame.dropna(subset=['Date'], inplace=True)\n",
    "\n",
    "\n"
   ],
   "metadata": {
    "collapsed": false,
    "pycharm": {
     "name": "#%%\n"
    }
   }
  },
  {
   "cell_type": "code",
   "execution_count": 25,
   "outputs": [
    {
     "data": {
      "text/plain": "                                                          Date  \\\n_id                                                              \n0e3d35dcad11d1d80f8fb1c35599be27fb3e864874ab1ac...  2020-01-30   \n39dac43e4fffa3fc60906f3563e4d1547aea4a0f94e17cd...  2021-08-30   \n00f65d205b8df943ae8acbd34b729c3da11da1646e7e324...  2020-06-18   \n002086bd15c9aba8b8b3cdf88498e25735cf66043ddab88...  2020-09-07   \n014589ceb95203c13ee4bd097ddf2f164657cb6aeb1650d...  2021-05-20   \n...                                                        ...   \ntika/330d076853d0731e295d75f70841b445e4bc45061a...  2020-04-12   \ntika/ffaa29a24828dd01c81d66ece0f8f3c21451083be7...  2020-10-23   \ntika/3df93a8fb254187e8783d19760b465a98d88863e59...  2020-04-16   \ntika/71fc1cad3a3a8b9de4da7080acc3a8251fa8ff8c5b...  2020-04-06   \ntika/417384d22c3c6f1768aed95a928111a4652fd832c8...  2020-04-12   \n\n                                                                                                Title  \\\n_id                                                                                                     \n0e3d35dcad11d1d80f8fb1c35599be27fb3e864874ab1ac...  Prior notification of a concentration (Case M....   \n39dac43e4fffa3fc60906f3563e4d1547aea4a0f94e17cd...  COMMISSION STAFF WORKING DOCUMENT […] Accompan...   \n00f65d205b8df943ae8acbd34b729c3da11da1646e7e324...  P9_TA(2020)0157 Amending Regulations (EU) No 5...   \n002086bd15c9aba8b8b3cdf88498e25735cf66043ddab88...  Opinion No 6/2020 (pursuant to Article 287(4) ...   \n014589ceb95203c13ee4bd097ddf2f164657cb6aeb1650d...  Council Recommendation (EU) 2021/816 20 May 20...   \n...                                                                                               ...   \ntika/330d076853d0731e295d75f70841b445e4bc45061a...  Government support to assist the sports sector...   \ntika/ffaa29a24828dd01c81d66ece0f8f3c21451083be7...   National public sector collective agreement 2021   \ntika/3df93a8fb254187e8783d19760b465a98d88863e59...  Lifting of overtime work restrictions, extensi...   \ntika/71fc1cad3a3a8b9de4da7080acc3a8251fa8ff8c5b...     Exceptional regime suspending overtime limits    \ntika/417384d22c3c6f1768aed95a928111a4652fd832c8...               COVID-19: Income support for workers   \n\n                                                                                              Content  \\\n_id                                                                                                     \n0e3d35dcad11d1d80f8fb1c35599be27fb3e864874ab1ac...  30.1.2020 EN Official Journal of the European ...   \n39dac43e4fffa3fc60906f3563e4d1547aea4a0f94e17cd...  EUROPEAN COMMISSION Brussels, 30.8.2021 SWD(20...   \n00f65d205b8df943ae8acbd34b729c3da11da1646e7e324...  8.9.2021 EN Official Journal of the European U...   \n002086bd15c9aba8b8b3cdf88498e25735cf66043ddab88...  20.10.2020 EN Official Journal of the European...   \n014589ceb95203c13ee4bd097ddf2f164657cb6aeb1650d...  21.5.2021 EN Official Journal of the European ...   \n...                                                                                               ...   \ntika/330d076853d0731e295d75f70841b445e4bc45061a...  As sport events have been prohibited, the fina...   \ntika/ffaa29a24828dd01c81d66ece0f8f3c21451083be7...  On 16 October 2020, the Government of the Repu...   \ntika/3df93a8fb254187e8783d19760b465a98d88863e59...  The government with a Legislative Act  (Offici...   \ntika/71fc1cad3a3a8b9de4da7080acc3a8251fa8ff8c5b...  The Decree Law No. 10-A/2020 of 13 March, sett...   \ntika/417384d22c3c6f1768aed95a928111a4652fd832c8...  Key tax and spending measures have been implem...   \n\n                                                   Document_source  \n_id                                                                 \n0e3d35dcad11d1d80f8fb1c35599be27fb3e864874ab1ac...       eu_cellar  \n39dac43e4fffa3fc60906f3563e4d1547aea4a0f94e17cd...       eu_cellar  \n00f65d205b8df943ae8acbd34b729c3da11da1646e7e324...       eu_cellar  \n002086bd15c9aba8b8b3cdf88498e25735cf66043ddab88...       eu_cellar  \n014589ceb95203c13ee4bd097ddf2f164657cb6aeb1650d...       eu_cellar  \n...                                                            ...  \ntika/330d076853d0731e295d75f70841b445e4bc45061a...            pwdb  \ntika/ffaa29a24828dd01c81d66ece0f8f3c21451083be7...            pwdb  \ntika/3df93a8fb254187e8783d19760b465a98d88863e59...            pwdb  \ntika/71fc1cad3a3a8b9de4da7080acc3a8251fa8ff8c5b...            pwdb  \ntika/417384d22c3c6f1768aed95a928111a4652fd832c8...            pwdb  \n\n[6194 rows x 4 columns]",
      "text/html": "<div>\n<style scoped>\n    .dataframe tbody tr th:only-of-type {\n        vertical-align: middle;\n    }\n\n    .dataframe tbody tr th {\n        vertical-align: top;\n    }\n\n    .dataframe thead th {\n        text-align: right;\n    }\n</style>\n<table border=\"1\" class=\"dataframe\">\n  <thead>\n    <tr style=\"text-align: right;\">\n      <th></th>\n      <th>Date</th>\n      <th>Title</th>\n      <th>Content</th>\n      <th>Document_source</th>\n    </tr>\n    <tr>\n      <th>_id</th>\n      <th></th>\n      <th></th>\n      <th></th>\n      <th></th>\n    </tr>\n  </thead>\n  <tbody>\n    <tr>\n      <th>0e3d35dcad11d1d80f8fb1c35599be27fb3e864874ab1ac679fcd004723bc2e3</th>\n      <td>2020-01-30</td>\n      <td>Prior notification of a concentration (Case M....</td>\n      <td>30.1.2020 EN Official Journal of the European ...</td>\n      <td>eu_cellar</td>\n    </tr>\n    <tr>\n      <th>39dac43e4fffa3fc60906f3563e4d1547aea4a0f94e17cd28ec144b117e25df6</th>\n      <td>2021-08-30</td>\n      <td>COMMISSION STAFF WORKING DOCUMENT […] Accompan...</td>\n      <td>EUROPEAN COMMISSION Brussels, 30.8.2021 SWD(20...</td>\n      <td>eu_cellar</td>\n    </tr>\n    <tr>\n      <th>00f65d205b8df943ae8acbd34b729c3da11da1646e7e324a6c517f95f950a5d9</th>\n      <td>2020-06-18</td>\n      <td>P9_TA(2020)0157 Amending Regulations (EU) No 5...</td>\n      <td>8.9.2021 EN Official Journal of the European U...</td>\n      <td>eu_cellar</td>\n    </tr>\n    <tr>\n      <th>002086bd15c9aba8b8b3cdf88498e25735cf66043ddab8877aca317256615aff</th>\n      <td>2020-09-07</td>\n      <td>Opinion No 6/2020 (pursuant to Article 287(4) ...</td>\n      <td>20.10.2020 EN Official Journal of the European...</td>\n      <td>eu_cellar</td>\n    </tr>\n    <tr>\n      <th>014589ceb95203c13ee4bd097ddf2f164657cb6aeb1650db280b2d8c7a57977d</th>\n      <td>2021-05-20</td>\n      <td>Council Recommendation (EU) 2021/816 20 May 20...</td>\n      <td>21.5.2021 EN Official Journal of the European ...</td>\n      <td>eu_cellar</td>\n    </tr>\n    <tr>\n      <th>...</th>\n      <td>...</td>\n      <td>...</td>\n      <td>...</td>\n      <td>...</td>\n    </tr>\n    <tr>\n      <th>tika/330d076853d0731e295d75f70841b445e4bc45061a8ae1507766fa26d778cc6f</th>\n      <td>2020-04-12</td>\n      <td>Government support to assist the sports sector...</td>\n      <td>As sport events have been prohibited, the fina...</td>\n      <td>pwdb</td>\n    </tr>\n    <tr>\n      <th>tika/ffaa29a24828dd01c81d66ece0f8f3c21451083be7a0b6d2f4ed954b9378b0e6</th>\n      <td>2020-10-23</td>\n      <td>National public sector collective agreement 2021</td>\n      <td>On 16 October 2020, the Government of the Repu...</td>\n      <td>pwdb</td>\n    </tr>\n    <tr>\n      <th>tika/3df93a8fb254187e8783d19760b465a98d88863e59a513b35a4d8062248e4190</th>\n      <td>2020-04-16</td>\n      <td>Lifting of overtime work restrictions, extensi...</td>\n      <td>The government with a Legislative Act  (Offici...</td>\n      <td>pwdb</td>\n    </tr>\n    <tr>\n      <th>tika/71fc1cad3a3a8b9de4da7080acc3a8251fa8ff8c5b7514f082f18c1cf69ab140</th>\n      <td>2020-04-06</td>\n      <td>Exceptional regime suspending overtime limits</td>\n      <td>The Decree Law No. 10-A/2020 of 13 March, sett...</td>\n      <td>pwdb</td>\n    </tr>\n    <tr>\n      <th>tika/417384d22c3c6f1768aed95a928111a4652fd832c8d5ee38594ca661e53488ca</th>\n      <td>2020-04-12</td>\n      <td>COVID-19: Income support for workers</td>\n      <td>Key tax and spending measures have been implem...</td>\n      <td>pwdb</td>\n    </tr>\n  </tbody>\n</table>\n<p>6194 rows × 4 columns</p>\n</div>"
     },
     "execution_count": 25,
     "metadata": {},
     "output_type": "execute_result"
    }
   ],
   "source": [
    "#Unified datasets dataframe\n",
    "unified_datasets_df = pd.DataFrame(pd.concat(data_frames))\n",
    "unified_datasets_df\n",
    "\n",
    "\n"
   ],
   "metadata": {
    "collapsed": false,
    "pycharm": {
     "name": "#%%\n"
    }
   }
  },
  {
   "cell_type": "code",
   "execution_count": 27,
   "outputs": [
    {
     "name": "stderr",
     "output_type": "stream",
     "text": [
      " 98% (6116 of 6194) |################### | Elapsed Time: 0:00:00 ETA:   0:00:00"
     ]
    },
    {
     "data": {
      "text/plain": "6194"
     },
     "execution_count": 27,
     "metadata": {},
     "output_type": "execute_result"
    }
   ],
   "source": [
    "#Upload to elastic\n",
    "store_registry.es_index_store().put_dataframe(index_name=config.UNIFIED_DATASET_ELASTIC_SEARCH_INDEX_NAME,\n",
    "                                              content=unified_datasets_df)\n"
   ],
   "metadata": {
    "collapsed": false,
    "pycharm": {
     "name": "#%%\n"
    }
   }
  }
 ],
 "metadata": {
  "kernelspec": {
   "display_name": "Python 3",
   "language": "python",
   "name": "python3"
  },
  "language_info": {
   "codemirror_mode": {
    "name": "ipython",
    "version": 2
   },
   "file_extension": ".py",
   "mimetype": "text/x-python",
   "name": "python",
   "nbconvert_exporter": "python",
   "pygments_lexer": "ipython2",
   "version": "2.7.6"
  }
 },
 "nbformat": 4,
 "nbformat_minor": 0
}