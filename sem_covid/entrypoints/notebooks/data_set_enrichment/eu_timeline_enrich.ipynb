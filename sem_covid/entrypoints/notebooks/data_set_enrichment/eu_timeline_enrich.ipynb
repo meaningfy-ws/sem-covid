{
 "cells": [
  {
   "cell_type": "markdown",
   "source": [
    "## Import dependencies"
   ],
   "metadata": {
    "collapsed": false,
    "pycharm": {
     "name": "#%% md\n"
    }
   }
  },
  {
   "cell_type": "code",
   "execution_count": 1,
   "outputs": [
    {
     "name": "stderr",
     "output_type": "stream",
     "text": [
      "/opt/conda/lib/python3.8/site-packages/gensim/similarities/__init__.py:15: UserWarning: The gensim.similarities.levenshtein submodule is disabled, because the optional Levenshtein package <https://pypi.org/project/python-Levenshtein/> is unavailable. Install Levenhstein (e.g. `pip install python-Levenshtein`) to suppress this warning.\n",
      "  warnings.warn(msg)\n"
     ]
    }
   ],
   "source": [
    "import sys\n",
    "import os\n",
    "sys.path.append(\"/home/jovyan/work/sem-covid/\")\n",
    "sys.path = list(set(sys.path))\n",
    "os.getcwd()\n",
    "os.chdir('/home/jovyan/work/sem-covid/')\n",
    "\n",
    "import numpy as np\n",
    "from gensim.models import KeyedVectors\n",
    "from sem_covid.services.model_registry import ClassificationModel\n",
    "\n",
    "from sem_covid.services.data_registry import Dataset, LanguageModel\n",
    "from sem_covid.services.sc_wrangling.mean_vectorizer import text_to_vector\n",
    "import pandas as pd\n",
    "from pycaret.classification import predict_model\n",
    "from sem_covid.services.store_registry import StoreRegistry"
   ],
   "metadata": {
    "collapsed": false,
    "pycharm": {
     "name": "#%%\n"
    }
   }
  },
  {
   "cell_type": "markdown",
   "source": [
    "## Define consts"
   ],
   "metadata": {
    "collapsed": false,
    "pycharm": {
     "name": "#%% md\n"
    }
   }
  },
  {
   "cell_type": "code",
   "execution_count": 2,
   "outputs": [],
   "source": [
    "EU_TIMELINE_TEXT_COLUMNS = ['title', 'abstract', 'detail_content', 'detail_title']\n",
    "\n",
    "EU_TIMELINE_NEW_COLUMNS = ['businesses', 'citizens','workers']"
   ],
   "metadata": {
    "collapsed": false,
    "pycharm": {
     "name": "#%%\n"
    }
   }
  },
  {
   "cell_type": "markdown",
   "metadata": {
    "collapsed": true,
    "pycharm": {
     "name": "#%% md\n"
    }
   },
   "source": [
    "## Load dataset and language model"
   ]
  },
  {
   "cell_type": "code",
   "execution_count": 3,
   "outputs": [
    {
     "name": "stderr",
     "output_type": "stream",
     "text": [
      "100% (171 of 171) |######################| Elapsed Time: 0:00:00 Time:  0:00:00\n"
     ]
    }
   ],
   "source": [
    "df = Dataset.EU_ACTION_TIMELINE.fetch()\n",
    "law2vec = LanguageModel.LAW2VEC.fetch()\n",
    "law2vec_path = LanguageModel.LAW2VEC.path_to_local_cache()\n",
    "law2vec_format = KeyedVectors.load_word2vec_format(law2vec_path, encoding=\"utf-8\")\n",
    "l2v_dict = {w: vec for w, vec in zip(law2vec_format.index_to_key, law2vec_format.vectors)}"
   ],
   "metadata": {
    "collapsed": false,
    "pycharm": {
     "name": "#%%\n"
    }
   }
  },
  {
   "cell_type": "markdown",
   "source": [
    "## Prepare dataset"
   ],
   "metadata": {
    "collapsed": false,
    "pycharm": {
     "name": "#%% md\n"
    }
   }
  },
  {
   "cell_type": "code",
   "execution_count": 4,
   "outputs": [],
   "source": [
    "df.loc[df['detail_title'].isnull(), 'detail_title'] = df.loc[df['detail_title'].isnull(), 'detail_title'].apply(\n",
    "    lambda x: [])\n",
    "df['detail_title'] = df['detail_title'].apply(lambda x: \" \".join(x))\n",
    "\n",
    "text_df = pd.DataFrame(df[EU_TIMELINE_TEXT_COLUMNS])\n",
    "text_df.replace(np.nan, '', regex=True,inplace=True)\n",
    "text_df['text'] = text_df.agg(' '.join, axis=1)\n",
    "text_df.reset_index(drop=True,inplace=True)\n",
    "text_df[\"emb\"] = text_df[\"text\"].apply(lambda x: text_to_vector(x,l2v_dict))"
   ],
   "metadata": {
    "collapsed": false,
    "pycharm": {
     "name": "#%%\n"
    }
   }
  },
  {
   "cell_type": "markdown",
   "source": [
    "## Enrich dataset with new columns"
   ],
   "metadata": {
    "collapsed": false,
    "pycharm": {
     "name": "#%% md\n"
    }
   }
  },
  {
   "cell_type": "code",
   "execution_count": 5,
   "outputs": [],
   "source": [
    "matrix_df = pd.DataFrame(list(text_df['emb'].values))\n",
    "enriched_df = df\n",
    "for new_column in EU_TIMELINE_NEW_COLUMNS:\n",
    "    dataset = matrix_df\n",
    "    dataset[new_column] = \"no_data\"\n",
    "    model = ClassificationModel.pwdb_by_class_name(class_name=new_column)\n",
    "    predicted_df = predict_model(model, data=matrix_df)\n",
    "    text_df[new_column] = predicted_df['Label']\n",
    "    enriched_df[new_column] = predicted_df['Label']\n"
   ],
   "metadata": {
    "collapsed": false,
    "pycharm": {
     "name": "#%%\n"
    }
   }
  },
  {
   "cell_type": "markdown",
   "source": [
    "## Show result"
   ],
   "metadata": {
    "collapsed": false,
    "pycharm": {
     "name": "#%% md\n"
    }
   }
  },
  {
   "cell_type": "code",
   "execution_count": 6,
   "outputs": [
    {
     "data": {
      "text/plain": "                                                 title  businesses  citizens  \\\n0    EU countries adopt guidelines on proof of vacc...           0         0   \n1              Commission unveils EU vaccines strategy           1         0   \n2    European roadmap shows path towards common lif...           0         0   \n3    Commission puts forward rules on rapid antigen...           0         0   \n4    EU leaders agree on the recovery plan and mult...           1         0   \n5      Council adopts Recovery and Resilience Facility           1         1   \n6    Commission presents “Staying safe from COVID-1...           0         0   \n7    Commitment to international cooperation reaffi...           0         0   \n8    rescEU medical stockpile expands in four Membe...           1         0   \n9    Commission authorises third safe and effective...           0         0   \n10   EU solidarity with Western Balkans and Eastern...           1         0   \n11   European standards for medical supplies made f...           1         0   \n12      Support for most vulnerable in Southern Africa           1         1   \n13          Enabling free movement of critical workers           0         0   \n14   Ensuring supply of personal protective equipme...           0         0   \n15   Commission delivers first batch of 1.5 million...           1         0   \n16   New assistance package to support vulnerable g...           0         0   \n17   Guidance to ensure full data protection standa...           0         0   \n18     EU increases its contribution to COVAX Facility           1         0   \n19   Fourth contract with pharmaceutical companies ...           0         0   \n20   EU dispatches additional rescEU masks to Croat...           1         0   \n21   Second safe and effective vaccine against COVI...           0         0   \n22   New procedure to facilitate and speed up appro...           0         0   \n23   Commission disburses EUR 17 billion under SURE...           1         0   \n24   Temporary framework to further support the eco...           1         0   \n25   Expanding Temporary Framework to further suppo...           1         0   \n26   Second contract with Moderna to ensure additio...           1         0   \n27   Commission calls on Member States to optimise ...           0         0   \n28   Commission invites Member States to extend res...           0         0   \n29   EUR 55 million for Syrian refugees and local c...           0         1   \n30   Exploratory talks concluded with Novavax to se...           0         0   \n31   Commission concludes exploratory talks with Va...           1         0   \n32   EUR 2.7 billion from the EU budget to support ...           1         0   \n33   EU interoperability gateway goes live, first c...           0         0   \n34   EU civil protection mechanism activated for th...           0         0   \n35     Commission proposes a Digital Green Certificate           1         0   \n36                         Corona response team set up           0         0   \n37   European Investment Bank to provide BioNTech w...           1         0   \n38   First meeting of EU COVID-19 national scientif...           0         0   \n39   Increased support for EU farmers affected by t...           1         0   \n40               EU supports the Horn of Africa region           0         1   \n41   Commission proposes to extend 2020 European Ca...           1         0   \n42    Supporting global efforts to tackle the outbreak           1         0   \n43   Commission proposes more clarity and predictab...           0         0   \n44   Banking package to facilitate lending to house...           1         0   \n45   Commission takes steps to make €11.5 billion a...           1         0   \n46            First disbursement of SURE funds in 2021           0         0   \n47                  EU medical teams deployed to Italy           0         0   \n48   Commission launches data sharing platform for ...           1         0   \n49   ‘Re-open EU’: New web platform to help safely ...           1         0   \n50   Agreement on EUR 1.8 trillion package to help ...           0         0   \n51   EU mobilises help for Italy, Croatia and neigh...           1         0   \n52   EUR 25 million to mitigate the effects of the ...           0         0   \n53                        First aid delivered to China           0         0   \n54   EUR 14 billion under SURE disbursed to nine Me...           1         0   \n55      First rescEU ventilators dispatched to Czechia           0         0   \n56   EU Humanitarian Air Bridge flights to the Demo...           1         0   \n57       EU Humanitarian Air Bridge supports Venezuela           1         0   \n58   Facilitating cross-border treatment of patient...           0         0   \n59   Boosting budget for repatriation flights and R...           0         0   \n60   The Commission signs first contract with Astra...           0         0   \n61   Coronavirus Global Response: launching a new c...           1         0   \n62   Four million additional doses of BioNTech-Pfiz...           1         0   \n63   Commission extends transparency and authorisat...           1         0   \n64   Commission issues first emission of EU SURE so...           1         0   \n65   Easing impact of the Covid-19 outbreak on the ...           1         0   \n66   Commission recommends partial and gradual lift...           0         0   \n67   Further €13 billion under SURE to six EU count...           1         0   \n68   Guidance on safely resuming travel and rebooti...           1         0   \n69                EU sets up a Humanitarian Air Bridge           1         0   \n70   WHO and Commission launch the Facilitation Cou...           1         0   \n71   First funds mobilised for research on the new ...           1         0   \n72                         Protecting passenger rights           1         1   \n73   Commission adopts new exceptional support meas...           1         0   \n74   Making capital markets work for Europe's recovery           1         0   \n75        Fourth COVID-19 vaccine authorised in the EU           0         0   \n76   The Commission approves third contract to ensu...           0         0   \n77      Commission presents a Recovery plan for Europe           1         0   \n78                                  State aid measures           0         0   \n79   Supporting the Sahel's response to the coronav...           0         0   \n80   Commission completes vaccines portfolio follow...           0         0   \n81   Protecting health and keeping goods and essent...           0         0   \n82   Waiving customs duties and VAT on the import o...           0         0   \n83   Protecting critical European assets and techno...           0         0   \n84   Up to EUR 100 billion of EU SURE bonds to be i...           0         0   \n85   EU Humanitarian Air Bridge to Peru and EUR 30....           1         1   \n86   Commission approves contract with CureVac to e...           1         0   \n87   Supporting exit strategies through mobile data...           1         0   \n88   Exceptional measures to support the agri-food ...           1         0   \n89   First REACT-EU support measures for recovery a...           1         0   \n90   Call launched for innovative response and reco...           1         0   \n91   Securing EU access to Remdesivir for treatment...           0         0   \n92   Western Balkans: EU reinforces support to addr...           1         0   \n93                    Building a European Health Union           0         0   \n94   Commission reaches first agreement on a potent...           1         0   \n95   Coronavirus Global Response: EU launches pledg...           1         0   \n96   Commission concludes talks to secure future co...           0         0   \n97   Macro-financial assistance package to support ...           1         0   \n98                          Medical Devices Regulation           0         0   \n99   Unlocking funds for 100,000 small and medium-s...           1         0   \n100  Strengthening resilience in countries hosting ...           1         1   \n101  Council adopts temporary rules to extend the t...           1         0   \n102  Recommendation on rapid antigen tests and supp...           0         0   \n103  Additional measures to support the agri-food s...           0         0   \n104  Commission approves contract with Moderna to e...           0         0   \n105  The Commission signs second contract to ensure...           1         0   \n106  Commission lists key steps for effective vacci...           0         1   \n107  €123 million for research and innovation to he...           1         0   \n108  EU-funded research project brings new rapid di...           1         0   \n109     EU doubles contribution to COVAX to €1 billion           1         0   \n110  Council approves EUR 87.4 billion in financial...           1         0   \n111  EU funding offered to innovative vaccines comp...           1         0   \n112  Commission launches European team of scientifi...           0         0   \n113  Supporting Central African Republic and the re...           0         0   \n114  Commission welcomes the adoption of the EU's l...           0         0   \n115  EUR 70 million package for early access to EU ...           1         0   \n116  Commission proposes to provide €81.4 billion i...           0         0   \n117  Strengthening the transparency and authorisati...           1         0   \n118                     Launch of the “HERA Incubator”           1         0   \n119  Commission authorises first safe and effective...           0         0   \n120  Recommendation on EU coordinated approach to t...           0         0   \n121    Further steps towards safe and reliable testing           0         0   \n122  Up to 300 million additional doses of BioNTech...           1         0   \n123              Corona Response Investment Initiative           0         0   \n124  Unique EU consular operation brought home over...           1         0   \n125  Commission joins the COVID-19 Vaccine Global A...           1         0   \n126    Vaccines and testing kits to be relieved of VAT           0         0   \n127  EU announces EUR 20 million to support health ...           1         0   \n128  EU funding for 23 new coronavirus research pro...           1         0   \n129   European Commission pledges €300 million to Gavi           1         0   \n130  EU grants EUR 314 million to innovative compan...           1         0   \n131  Commission scientists develop new control mate...           1         0   \n132  Commission strengthens preparedness for future...           0         0   \n133  45 EU Humanitarian Air Bridge flights deliver ...           1         0   \n134  Council agrees on the postponement of certain ...           0         0   \n135  Agreement reached on Recovery and Resilience F...           0         0   \n136             Accelerating the delivery of vaccines            1         0   \n137  Supporting Sudan through EU Humanitarian Air B...           1         0   \n138      Strengthening action to tackle disinformation           1         0   \n139  rescEU masks delivered to Spain, Italy and Cro...           1         0   \n140  Boosting urgently needed research and innovation            1         0   \n141  Coronavirus Global Response: EIB and Commissio...           1         0   \n142   First ever RescEU stockpile of medical equipment           1         0   \n143                        Protecting seasonal workers           0         0   \n144  Commission ready to raise up to €800 billion f...           1         0   \n145  Member States invited to prolong restriction o...           0         0   \n146  In solidarity with China, EU delivers addition...           1         0   \n147  Four new Member States join the rescEU medical...           1         0   \n148  Activating fiscal framework's general escape c...           0         0   \n149  Procuring medical equipment jointly with Membe...           1         0   \n150  Commission sets out key actions for a united f...           0         0   \n151  Commission disburses EUR 8.5 billion under SUR...           1         0   \n152  Mobilising all resources to protect lives and ...           0         0   \n153  EU helps deliver vaccines to Moldova and medic...           1         0   \n154  Stepping up action to reinforce preparedness a...           0         0   \n155  EUR 24 million for Uganda amid coronavirus pan...           0         1   \n156  Stepping up research and funding to address th...           1         0   \n157  EU mobilises EUR 86.5 million to fight COVID-1...           0         0   \n158  EUR 17 billion EU SURE social bond listed on L...           1         0   \n159  EU allocates additional EUR 50 million in huma...           1         0   \n160           EU global response to fight the pandemic           1         0   \n161  Commission puts in place transparency and auth...           1         0   \n162  Commission welcomes the political agreement on...           0         0   \n163     Ensuring essential freight keeps moving by air           1         0   \n164  Ensuring continuous flow of goods across EU vi...           1         0   \n165  Commission disburses further €9 billion under ...           1         0   \n166  EUR 117 million for treatments and diagnostics...           1         0   \n167  €530 million to support emergency measures aga...           1         0   \n168  Setting out coordinated response to counter th...           0         0   \n169  Prolonging State aid Temporary Framework to fu...           0         0   \n170  Commission and EIB provide CureVac with a €75 ...           1         0   \n\n     workers  \n0          0  \n1          0  \n2          0  \n3          0  \n4          0  \n5          0  \n6          0  \n7          0  \n8          0  \n9          0  \n10         0  \n11         0  \n12         0  \n13         0  \n14         0  \n15         0  \n16         0  \n17         0  \n18         0  \n19         0  \n20         0  \n21         0  \n22         0  \n23         0  \n24         0  \n25         0  \n26         0  \n27         0  \n28         0  \n29         0  \n30         0  \n31         0  \n32         0  \n33         0  \n34         0  \n35         0  \n36         0  \n37         0  \n38         1  \n39         0  \n40         0  \n41         0  \n42         0  \n43         0  \n44         0  \n45         0  \n46         0  \n47         0  \n48         0  \n49         0  \n50         0  \n51         0  \n52         0  \n53         0  \n54         0  \n55         0  \n56         0  \n57         0  \n58         0  \n59         0  \n60         0  \n61         0  \n62         0  \n63         0  \n64         0  \n65         0  \n66         0  \n67         0  \n68         0  \n69         0  \n70         0  \n71         0  \n72         0  \n73         0  \n74         0  \n75         0  \n76         0  \n77         0  \n78         0  \n79         0  \n80         0  \n81         0  \n82         0  \n83         0  \n84         0  \n85         0  \n86         0  \n87         0  \n88         0  \n89         0  \n90         0  \n91         0  \n92         0  \n93         0  \n94         0  \n95         0  \n96         0  \n97         0  \n98         0  \n99         0  \n100        0  \n101        0  \n102        0  \n103        0  \n104        0  \n105        0  \n106        0  \n107        0  \n108        0  \n109        0  \n110        0  \n111        0  \n112        0  \n113        0  \n114        0  \n115        0  \n116        0  \n117        0  \n118        0  \n119        0  \n120        0  \n121        0  \n122        0  \n123        0  \n124        0  \n125        0  \n126        0  \n127        0  \n128        0  \n129        0  \n130        0  \n131        0  \n132        0  \n133        0  \n134        0  \n135        0  \n136        0  \n137        0  \n138        0  \n139        0  \n140        0  \n141        0  \n142        0  \n143        0  \n144        0  \n145        0  \n146        0  \n147        0  \n148        0  \n149        0  \n150        0  \n151        0  \n152        0  \n153        0  \n154        0  \n155        0  \n156        0  \n157        0  \n158        0  \n159        0  \n160        0  \n161        0  \n162        0  \n163        0  \n164        0  \n165        0  \n166        0  \n167        0  \n168        0  \n169        0  \n170        0  ",
      "text/html": "<div>\n<style scoped>\n    .dataframe tbody tr th:only-of-type {\n        vertical-align: middle;\n    }\n\n    .dataframe tbody tr th {\n        vertical-align: top;\n    }\n\n    .dataframe thead th {\n        text-align: right;\n    }\n</style>\n<table border=\"1\" class=\"dataframe\">\n  <thead>\n    <tr style=\"text-align: right;\">\n      <th></th>\n      <th>title</th>\n      <th>businesses</th>\n      <th>citizens</th>\n      <th>workers</th>\n    </tr>\n  </thead>\n  <tbody>\n    <tr>\n      <th>0</th>\n      <td>EU countries adopt guidelines on proof of vacc...</td>\n      <td>0</td>\n      <td>0</td>\n      <td>0</td>\n    </tr>\n    <tr>\n      <th>1</th>\n      <td>Commission unveils EU vaccines strategy</td>\n      <td>1</td>\n      <td>0</td>\n      <td>0</td>\n    </tr>\n    <tr>\n      <th>2</th>\n      <td>European roadmap shows path towards common lif...</td>\n      <td>0</td>\n      <td>0</td>\n      <td>0</td>\n    </tr>\n    <tr>\n      <th>3</th>\n      <td>Commission puts forward rules on rapid antigen...</td>\n      <td>0</td>\n      <td>0</td>\n      <td>0</td>\n    </tr>\n    <tr>\n      <th>4</th>\n      <td>EU leaders agree on the recovery plan and mult...</td>\n      <td>1</td>\n      <td>0</td>\n      <td>0</td>\n    </tr>\n    <tr>\n      <th>5</th>\n      <td>Council adopts Recovery and Resilience Facility</td>\n      <td>1</td>\n      <td>1</td>\n      <td>0</td>\n    </tr>\n    <tr>\n      <th>6</th>\n      <td>Commission presents “Staying safe from COVID-1...</td>\n      <td>0</td>\n      <td>0</td>\n      <td>0</td>\n    </tr>\n    <tr>\n      <th>7</th>\n      <td>Commitment to international cooperation reaffi...</td>\n      <td>0</td>\n      <td>0</td>\n      <td>0</td>\n    </tr>\n    <tr>\n      <th>8</th>\n      <td>rescEU medical stockpile expands in four Membe...</td>\n      <td>1</td>\n      <td>0</td>\n      <td>0</td>\n    </tr>\n    <tr>\n      <th>9</th>\n      <td>Commission authorises third safe and effective...</td>\n      <td>0</td>\n      <td>0</td>\n      <td>0</td>\n    </tr>\n    <tr>\n      <th>10</th>\n      <td>EU solidarity with Western Balkans and Eastern...</td>\n      <td>1</td>\n      <td>0</td>\n      <td>0</td>\n    </tr>\n    <tr>\n      <th>11</th>\n      <td>European standards for medical supplies made f...</td>\n      <td>1</td>\n      <td>0</td>\n      <td>0</td>\n    </tr>\n    <tr>\n      <th>12</th>\n      <td>Support for most vulnerable in Southern Africa</td>\n      <td>1</td>\n      <td>1</td>\n      <td>0</td>\n    </tr>\n    <tr>\n      <th>13</th>\n      <td>Enabling free movement of critical workers</td>\n      <td>0</td>\n      <td>0</td>\n      <td>0</td>\n    </tr>\n    <tr>\n      <th>14</th>\n      <td>Ensuring supply of personal protective equipme...</td>\n      <td>0</td>\n      <td>0</td>\n      <td>0</td>\n    </tr>\n    <tr>\n      <th>15</th>\n      <td>Commission delivers first batch of 1.5 million...</td>\n      <td>1</td>\n      <td>0</td>\n      <td>0</td>\n    </tr>\n    <tr>\n      <th>16</th>\n      <td>New assistance package to support vulnerable g...</td>\n      <td>0</td>\n      <td>0</td>\n      <td>0</td>\n    </tr>\n    <tr>\n      <th>17</th>\n      <td>Guidance to ensure full data protection standa...</td>\n      <td>0</td>\n      <td>0</td>\n      <td>0</td>\n    </tr>\n    <tr>\n      <th>18</th>\n      <td>EU increases its contribution to COVAX Facility</td>\n      <td>1</td>\n      <td>0</td>\n      <td>0</td>\n    </tr>\n    <tr>\n      <th>19</th>\n      <td>Fourth contract with pharmaceutical companies ...</td>\n      <td>0</td>\n      <td>0</td>\n      <td>0</td>\n    </tr>\n    <tr>\n      <th>20</th>\n      <td>EU dispatches additional rescEU masks to Croat...</td>\n      <td>1</td>\n      <td>0</td>\n      <td>0</td>\n    </tr>\n    <tr>\n      <th>21</th>\n      <td>Second safe and effective vaccine against COVI...</td>\n      <td>0</td>\n      <td>0</td>\n      <td>0</td>\n    </tr>\n    <tr>\n      <th>22</th>\n      <td>New procedure to facilitate and speed up appro...</td>\n      <td>0</td>\n      <td>0</td>\n      <td>0</td>\n    </tr>\n    <tr>\n      <th>23</th>\n      <td>Commission disburses EUR 17 billion under SURE...</td>\n      <td>1</td>\n      <td>0</td>\n      <td>0</td>\n    </tr>\n    <tr>\n      <th>24</th>\n      <td>Temporary framework to further support the eco...</td>\n      <td>1</td>\n      <td>0</td>\n      <td>0</td>\n    </tr>\n    <tr>\n      <th>25</th>\n      <td>Expanding Temporary Framework to further suppo...</td>\n      <td>1</td>\n      <td>0</td>\n      <td>0</td>\n    </tr>\n    <tr>\n      <th>26</th>\n      <td>Second contract with Moderna to ensure additio...</td>\n      <td>1</td>\n      <td>0</td>\n      <td>0</td>\n    </tr>\n    <tr>\n      <th>27</th>\n      <td>Commission calls on Member States to optimise ...</td>\n      <td>0</td>\n      <td>0</td>\n      <td>0</td>\n    </tr>\n    <tr>\n      <th>28</th>\n      <td>Commission invites Member States to extend res...</td>\n      <td>0</td>\n      <td>0</td>\n      <td>0</td>\n    </tr>\n    <tr>\n      <th>29</th>\n      <td>EUR 55 million for Syrian refugees and local c...</td>\n      <td>0</td>\n      <td>1</td>\n      <td>0</td>\n    </tr>\n    <tr>\n      <th>30</th>\n      <td>Exploratory talks concluded with Novavax to se...</td>\n      <td>0</td>\n      <td>0</td>\n      <td>0</td>\n    </tr>\n    <tr>\n      <th>31</th>\n      <td>Commission concludes exploratory talks with Va...</td>\n      <td>1</td>\n      <td>0</td>\n      <td>0</td>\n    </tr>\n    <tr>\n      <th>32</th>\n      <td>EUR 2.7 billion from the EU budget to support ...</td>\n      <td>1</td>\n      <td>0</td>\n      <td>0</td>\n    </tr>\n    <tr>\n      <th>33</th>\n      <td>EU interoperability gateway goes live, first c...</td>\n      <td>0</td>\n      <td>0</td>\n      <td>0</td>\n    </tr>\n    <tr>\n      <th>34</th>\n      <td>EU civil protection mechanism activated for th...</td>\n      <td>0</td>\n      <td>0</td>\n      <td>0</td>\n    </tr>\n    <tr>\n      <th>35</th>\n      <td>Commission proposes a Digital Green Certificate</td>\n      <td>1</td>\n      <td>0</td>\n      <td>0</td>\n    </tr>\n    <tr>\n      <th>36</th>\n      <td>Corona response team set up</td>\n      <td>0</td>\n      <td>0</td>\n      <td>0</td>\n    </tr>\n    <tr>\n      <th>37</th>\n      <td>European Investment Bank to provide BioNTech w...</td>\n      <td>1</td>\n      <td>0</td>\n      <td>0</td>\n    </tr>\n    <tr>\n      <th>38</th>\n      <td>First meeting of EU COVID-19 national scientif...</td>\n      <td>0</td>\n      <td>0</td>\n      <td>1</td>\n    </tr>\n    <tr>\n      <th>39</th>\n      <td>Increased support for EU farmers affected by t...</td>\n      <td>1</td>\n      <td>0</td>\n      <td>0</td>\n    </tr>\n    <tr>\n      <th>40</th>\n      <td>EU supports the Horn of Africa region</td>\n      <td>0</td>\n      <td>1</td>\n      <td>0</td>\n    </tr>\n    <tr>\n      <th>41</th>\n      <td>Commission proposes to extend 2020 European Ca...</td>\n      <td>1</td>\n      <td>0</td>\n      <td>0</td>\n    </tr>\n    <tr>\n      <th>42</th>\n      <td>Supporting global efforts to tackle the outbreak</td>\n      <td>1</td>\n      <td>0</td>\n      <td>0</td>\n    </tr>\n    <tr>\n      <th>43</th>\n      <td>Commission proposes more clarity and predictab...</td>\n      <td>0</td>\n      <td>0</td>\n      <td>0</td>\n    </tr>\n    <tr>\n      <th>44</th>\n      <td>Banking package to facilitate lending to house...</td>\n      <td>1</td>\n      <td>0</td>\n      <td>0</td>\n    </tr>\n    <tr>\n      <th>45</th>\n      <td>Commission takes steps to make €11.5 billion a...</td>\n      <td>1</td>\n      <td>0</td>\n      <td>0</td>\n    </tr>\n    <tr>\n      <th>46</th>\n      <td>First disbursement of SURE funds in 2021</td>\n      <td>0</td>\n      <td>0</td>\n      <td>0</td>\n    </tr>\n    <tr>\n      <th>47</th>\n      <td>EU medical teams deployed to Italy</td>\n      <td>0</td>\n      <td>0</td>\n      <td>0</td>\n    </tr>\n    <tr>\n      <th>48</th>\n      <td>Commission launches data sharing platform for ...</td>\n      <td>1</td>\n      <td>0</td>\n      <td>0</td>\n    </tr>\n    <tr>\n      <th>49</th>\n      <td>‘Re-open EU’: New web platform to help safely ...</td>\n      <td>1</td>\n      <td>0</td>\n      <td>0</td>\n    </tr>\n    <tr>\n      <th>50</th>\n      <td>Agreement on EUR 1.8 trillion package to help ...</td>\n      <td>0</td>\n      <td>0</td>\n      <td>0</td>\n    </tr>\n    <tr>\n      <th>51</th>\n      <td>EU mobilises help for Italy, Croatia and neigh...</td>\n      <td>1</td>\n      <td>0</td>\n      <td>0</td>\n    </tr>\n    <tr>\n      <th>52</th>\n      <td>EUR 25 million to mitigate the effects of the ...</td>\n      <td>0</td>\n      <td>0</td>\n      <td>0</td>\n    </tr>\n    <tr>\n      <th>53</th>\n      <td>First aid delivered to China</td>\n      <td>0</td>\n      <td>0</td>\n      <td>0</td>\n    </tr>\n    <tr>\n      <th>54</th>\n      <td>EUR 14 billion under SURE disbursed to nine Me...</td>\n      <td>1</td>\n      <td>0</td>\n      <td>0</td>\n    </tr>\n    <tr>\n      <th>55</th>\n      <td>First rescEU ventilators dispatched to Czechia</td>\n      <td>0</td>\n      <td>0</td>\n      <td>0</td>\n    </tr>\n    <tr>\n      <th>56</th>\n      <td>EU Humanitarian Air Bridge flights to the Demo...</td>\n      <td>1</td>\n      <td>0</td>\n      <td>0</td>\n    </tr>\n    <tr>\n      <th>57</th>\n      <td>EU Humanitarian Air Bridge supports Venezuela</td>\n      <td>1</td>\n      <td>0</td>\n      <td>0</td>\n    </tr>\n    <tr>\n      <th>58</th>\n      <td>Facilitating cross-border treatment of patient...</td>\n      <td>0</td>\n      <td>0</td>\n      <td>0</td>\n    </tr>\n    <tr>\n      <th>59</th>\n      <td>Boosting budget for repatriation flights and R...</td>\n      <td>0</td>\n      <td>0</td>\n      <td>0</td>\n    </tr>\n    <tr>\n      <th>60</th>\n      <td>The Commission signs first contract with Astra...</td>\n      <td>0</td>\n      <td>0</td>\n      <td>0</td>\n    </tr>\n    <tr>\n      <th>61</th>\n      <td>Coronavirus Global Response: launching a new c...</td>\n      <td>1</td>\n      <td>0</td>\n      <td>0</td>\n    </tr>\n    <tr>\n      <th>62</th>\n      <td>Four million additional doses of BioNTech-Pfiz...</td>\n      <td>1</td>\n      <td>0</td>\n      <td>0</td>\n    </tr>\n    <tr>\n      <th>63</th>\n      <td>Commission extends transparency and authorisat...</td>\n      <td>1</td>\n      <td>0</td>\n      <td>0</td>\n    </tr>\n    <tr>\n      <th>64</th>\n      <td>Commission issues first emission of EU SURE so...</td>\n      <td>1</td>\n      <td>0</td>\n      <td>0</td>\n    </tr>\n    <tr>\n      <th>65</th>\n      <td>Easing impact of the Covid-19 outbreak on the ...</td>\n      <td>1</td>\n      <td>0</td>\n      <td>0</td>\n    </tr>\n    <tr>\n      <th>66</th>\n      <td>Commission recommends partial and gradual lift...</td>\n      <td>0</td>\n      <td>0</td>\n      <td>0</td>\n    </tr>\n    <tr>\n      <th>67</th>\n      <td>Further €13 billion under SURE to six EU count...</td>\n      <td>1</td>\n      <td>0</td>\n      <td>0</td>\n    </tr>\n    <tr>\n      <th>68</th>\n      <td>Guidance on safely resuming travel and rebooti...</td>\n      <td>1</td>\n      <td>0</td>\n      <td>0</td>\n    </tr>\n    <tr>\n      <th>69</th>\n      <td>EU sets up a Humanitarian Air Bridge</td>\n      <td>1</td>\n      <td>0</td>\n      <td>0</td>\n    </tr>\n    <tr>\n      <th>70</th>\n      <td>WHO and Commission launch the Facilitation Cou...</td>\n      <td>1</td>\n      <td>0</td>\n      <td>0</td>\n    </tr>\n    <tr>\n      <th>71</th>\n      <td>First funds mobilised for research on the new ...</td>\n      <td>1</td>\n      <td>0</td>\n      <td>0</td>\n    </tr>\n    <tr>\n      <th>72</th>\n      <td>Protecting passenger rights</td>\n      <td>1</td>\n      <td>1</td>\n      <td>0</td>\n    </tr>\n    <tr>\n      <th>73</th>\n      <td>Commission adopts new exceptional support meas...</td>\n      <td>1</td>\n      <td>0</td>\n      <td>0</td>\n    </tr>\n    <tr>\n      <th>74</th>\n      <td>Making capital markets work for Europe's recovery</td>\n      <td>1</td>\n      <td>0</td>\n      <td>0</td>\n    </tr>\n    <tr>\n      <th>75</th>\n      <td>Fourth COVID-19 vaccine authorised in the EU</td>\n      <td>0</td>\n      <td>0</td>\n      <td>0</td>\n    </tr>\n    <tr>\n      <th>76</th>\n      <td>The Commission approves third contract to ensu...</td>\n      <td>0</td>\n      <td>0</td>\n      <td>0</td>\n    </tr>\n    <tr>\n      <th>77</th>\n      <td>Commission presents a Recovery plan for Europe</td>\n      <td>1</td>\n      <td>0</td>\n      <td>0</td>\n    </tr>\n    <tr>\n      <th>78</th>\n      <td>State aid measures</td>\n      <td>0</td>\n      <td>0</td>\n      <td>0</td>\n    </tr>\n    <tr>\n      <th>79</th>\n      <td>Supporting the Sahel's response to the coronav...</td>\n      <td>0</td>\n      <td>0</td>\n      <td>0</td>\n    </tr>\n    <tr>\n      <th>80</th>\n      <td>Commission completes vaccines portfolio follow...</td>\n      <td>0</td>\n      <td>0</td>\n      <td>0</td>\n    </tr>\n    <tr>\n      <th>81</th>\n      <td>Protecting health and keeping goods and essent...</td>\n      <td>0</td>\n      <td>0</td>\n      <td>0</td>\n    </tr>\n    <tr>\n      <th>82</th>\n      <td>Waiving customs duties and VAT on the import o...</td>\n      <td>0</td>\n      <td>0</td>\n      <td>0</td>\n    </tr>\n    <tr>\n      <th>83</th>\n      <td>Protecting critical European assets and techno...</td>\n      <td>0</td>\n      <td>0</td>\n      <td>0</td>\n    </tr>\n    <tr>\n      <th>84</th>\n      <td>Up to EUR 100 billion of EU SURE bonds to be i...</td>\n      <td>0</td>\n      <td>0</td>\n      <td>0</td>\n    </tr>\n    <tr>\n      <th>85</th>\n      <td>EU Humanitarian Air Bridge to Peru and EUR 30....</td>\n      <td>1</td>\n      <td>1</td>\n      <td>0</td>\n    </tr>\n    <tr>\n      <th>86</th>\n      <td>Commission approves contract with CureVac to e...</td>\n      <td>1</td>\n      <td>0</td>\n      <td>0</td>\n    </tr>\n    <tr>\n      <th>87</th>\n      <td>Supporting exit strategies through mobile data...</td>\n      <td>1</td>\n      <td>0</td>\n      <td>0</td>\n    </tr>\n    <tr>\n      <th>88</th>\n      <td>Exceptional measures to support the agri-food ...</td>\n      <td>1</td>\n      <td>0</td>\n      <td>0</td>\n    </tr>\n    <tr>\n      <th>89</th>\n      <td>First REACT-EU support measures for recovery a...</td>\n      <td>1</td>\n      <td>0</td>\n      <td>0</td>\n    </tr>\n    <tr>\n      <th>90</th>\n      <td>Call launched for innovative response and reco...</td>\n      <td>1</td>\n      <td>0</td>\n      <td>0</td>\n    </tr>\n    <tr>\n      <th>91</th>\n      <td>Securing EU access to Remdesivir for treatment...</td>\n      <td>0</td>\n      <td>0</td>\n      <td>0</td>\n    </tr>\n    <tr>\n      <th>92</th>\n      <td>Western Balkans: EU reinforces support to addr...</td>\n      <td>1</td>\n      <td>0</td>\n      <td>0</td>\n    </tr>\n    <tr>\n      <th>93</th>\n      <td>Building a European Health Union</td>\n      <td>0</td>\n      <td>0</td>\n      <td>0</td>\n    </tr>\n    <tr>\n      <th>94</th>\n      <td>Commission reaches first agreement on a potent...</td>\n      <td>1</td>\n      <td>0</td>\n      <td>0</td>\n    </tr>\n    <tr>\n      <th>95</th>\n      <td>Coronavirus Global Response: EU launches pledg...</td>\n      <td>1</td>\n      <td>0</td>\n      <td>0</td>\n    </tr>\n    <tr>\n      <th>96</th>\n      <td>Commission concludes talks to secure future co...</td>\n      <td>0</td>\n      <td>0</td>\n      <td>0</td>\n    </tr>\n    <tr>\n      <th>97</th>\n      <td>Macro-financial assistance package to support ...</td>\n      <td>1</td>\n      <td>0</td>\n      <td>0</td>\n    </tr>\n    <tr>\n      <th>98</th>\n      <td>Medical Devices Regulation</td>\n      <td>0</td>\n      <td>0</td>\n      <td>0</td>\n    </tr>\n    <tr>\n      <th>99</th>\n      <td>Unlocking funds for 100,000 small and medium-s...</td>\n      <td>1</td>\n      <td>0</td>\n      <td>0</td>\n    </tr>\n    <tr>\n      <th>100</th>\n      <td>Strengthening resilience in countries hosting ...</td>\n      <td>1</td>\n      <td>1</td>\n      <td>0</td>\n    </tr>\n    <tr>\n      <th>101</th>\n      <td>Council adopts temporary rules to extend the t...</td>\n      <td>1</td>\n      <td>0</td>\n      <td>0</td>\n    </tr>\n    <tr>\n      <th>102</th>\n      <td>Recommendation on rapid antigen tests and supp...</td>\n      <td>0</td>\n      <td>0</td>\n      <td>0</td>\n    </tr>\n    <tr>\n      <th>103</th>\n      <td>Additional measures to support the agri-food s...</td>\n      <td>0</td>\n      <td>0</td>\n      <td>0</td>\n    </tr>\n    <tr>\n      <th>104</th>\n      <td>Commission approves contract with Moderna to e...</td>\n      <td>0</td>\n      <td>0</td>\n      <td>0</td>\n    </tr>\n    <tr>\n      <th>105</th>\n      <td>The Commission signs second contract to ensure...</td>\n      <td>1</td>\n      <td>0</td>\n      <td>0</td>\n    </tr>\n    <tr>\n      <th>106</th>\n      <td>Commission lists key steps for effective vacci...</td>\n      <td>0</td>\n      <td>1</td>\n      <td>0</td>\n    </tr>\n    <tr>\n      <th>107</th>\n      <td>€123 million for research and innovation to he...</td>\n      <td>1</td>\n      <td>0</td>\n      <td>0</td>\n    </tr>\n    <tr>\n      <th>108</th>\n      <td>EU-funded research project brings new rapid di...</td>\n      <td>1</td>\n      <td>0</td>\n      <td>0</td>\n    </tr>\n    <tr>\n      <th>109</th>\n      <td>EU doubles contribution to COVAX to €1 billion</td>\n      <td>1</td>\n      <td>0</td>\n      <td>0</td>\n    </tr>\n    <tr>\n      <th>110</th>\n      <td>Council approves EUR 87.4 billion in financial...</td>\n      <td>1</td>\n      <td>0</td>\n      <td>0</td>\n    </tr>\n    <tr>\n      <th>111</th>\n      <td>EU funding offered to innovative vaccines comp...</td>\n      <td>1</td>\n      <td>0</td>\n      <td>0</td>\n    </tr>\n    <tr>\n      <th>112</th>\n      <td>Commission launches European team of scientifi...</td>\n      <td>0</td>\n      <td>0</td>\n      <td>0</td>\n    </tr>\n    <tr>\n      <th>113</th>\n      <td>Supporting Central African Republic and the re...</td>\n      <td>0</td>\n      <td>0</td>\n      <td>0</td>\n    </tr>\n    <tr>\n      <th>114</th>\n      <td>Commission welcomes the adoption of the EU's l...</td>\n      <td>0</td>\n      <td>0</td>\n      <td>0</td>\n    </tr>\n    <tr>\n      <th>115</th>\n      <td>EUR 70 million package for early access to EU ...</td>\n      <td>1</td>\n      <td>0</td>\n      <td>0</td>\n    </tr>\n    <tr>\n      <th>116</th>\n      <td>Commission proposes to provide €81.4 billion i...</td>\n      <td>0</td>\n      <td>0</td>\n      <td>0</td>\n    </tr>\n    <tr>\n      <th>117</th>\n      <td>Strengthening the transparency and authorisati...</td>\n      <td>1</td>\n      <td>0</td>\n      <td>0</td>\n    </tr>\n    <tr>\n      <th>118</th>\n      <td>Launch of the “HERA Incubator”</td>\n      <td>1</td>\n      <td>0</td>\n      <td>0</td>\n    </tr>\n    <tr>\n      <th>119</th>\n      <td>Commission authorises first safe and effective...</td>\n      <td>0</td>\n      <td>0</td>\n      <td>0</td>\n    </tr>\n    <tr>\n      <th>120</th>\n      <td>Recommendation on EU coordinated approach to t...</td>\n      <td>0</td>\n      <td>0</td>\n      <td>0</td>\n    </tr>\n    <tr>\n      <th>121</th>\n      <td>Further steps towards safe and reliable testing</td>\n      <td>0</td>\n      <td>0</td>\n      <td>0</td>\n    </tr>\n    <tr>\n      <th>122</th>\n      <td>Up to 300 million additional doses of BioNTech...</td>\n      <td>1</td>\n      <td>0</td>\n      <td>0</td>\n    </tr>\n    <tr>\n      <th>123</th>\n      <td>Corona Response Investment Initiative</td>\n      <td>0</td>\n      <td>0</td>\n      <td>0</td>\n    </tr>\n    <tr>\n      <th>124</th>\n      <td>Unique EU consular operation brought home over...</td>\n      <td>1</td>\n      <td>0</td>\n      <td>0</td>\n    </tr>\n    <tr>\n      <th>125</th>\n      <td>Commission joins the COVID-19 Vaccine Global A...</td>\n      <td>1</td>\n      <td>0</td>\n      <td>0</td>\n    </tr>\n    <tr>\n      <th>126</th>\n      <td>Vaccines and testing kits to be relieved of VAT</td>\n      <td>0</td>\n      <td>0</td>\n      <td>0</td>\n    </tr>\n    <tr>\n      <th>127</th>\n      <td>EU announces EUR 20 million to support health ...</td>\n      <td>1</td>\n      <td>0</td>\n      <td>0</td>\n    </tr>\n    <tr>\n      <th>128</th>\n      <td>EU funding for 23 new coronavirus research pro...</td>\n      <td>1</td>\n      <td>0</td>\n      <td>0</td>\n    </tr>\n    <tr>\n      <th>129</th>\n      <td>European Commission pledges €300 million to Gavi</td>\n      <td>1</td>\n      <td>0</td>\n      <td>0</td>\n    </tr>\n    <tr>\n      <th>130</th>\n      <td>EU grants EUR 314 million to innovative compan...</td>\n      <td>1</td>\n      <td>0</td>\n      <td>0</td>\n    </tr>\n    <tr>\n      <th>131</th>\n      <td>Commission scientists develop new control mate...</td>\n      <td>1</td>\n      <td>0</td>\n      <td>0</td>\n    </tr>\n    <tr>\n      <th>132</th>\n      <td>Commission strengthens preparedness for future...</td>\n      <td>0</td>\n      <td>0</td>\n      <td>0</td>\n    </tr>\n    <tr>\n      <th>133</th>\n      <td>45 EU Humanitarian Air Bridge flights deliver ...</td>\n      <td>1</td>\n      <td>0</td>\n      <td>0</td>\n    </tr>\n    <tr>\n      <th>134</th>\n      <td>Council agrees on the postponement of certain ...</td>\n      <td>0</td>\n      <td>0</td>\n      <td>0</td>\n    </tr>\n    <tr>\n      <th>135</th>\n      <td>Agreement reached on Recovery and Resilience F...</td>\n      <td>0</td>\n      <td>0</td>\n      <td>0</td>\n    </tr>\n    <tr>\n      <th>136</th>\n      <td>Accelerating the delivery of vaccines</td>\n      <td>1</td>\n      <td>0</td>\n      <td>0</td>\n    </tr>\n    <tr>\n      <th>137</th>\n      <td>Supporting Sudan through EU Humanitarian Air B...</td>\n      <td>1</td>\n      <td>0</td>\n      <td>0</td>\n    </tr>\n    <tr>\n      <th>138</th>\n      <td>Strengthening action to tackle disinformation</td>\n      <td>1</td>\n      <td>0</td>\n      <td>0</td>\n    </tr>\n    <tr>\n      <th>139</th>\n      <td>rescEU masks delivered to Spain, Italy and Cro...</td>\n      <td>1</td>\n      <td>0</td>\n      <td>0</td>\n    </tr>\n    <tr>\n      <th>140</th>\n      <td>Boosting urgently needed research and innovation</td>\n      <td>1</td>\n      <td>0</td>\n      <td>0</td>\n    </tr>\n    <tr>\n      <th>141</th>\n      <td>Coronavirus Global Response: EIB and Commissio...</td>\n      <td>1</td>\n      <td>0</td>\n      <td>0</td>\n    </tr>\n    <tr>\n      <th>142</th>\n      <td>First ever RescEU stockpile of medical equipment</td>\n      <td>1</td>\n      <td>0</td>\n      <td>0</td>\n    </tr>\n    <tr>\n      <th>143</th>\n      <td>Protecting seasonal workers</td>\n      <td>0</td>\n      <td>0</td>\n      <td>0</td>\n    </tr>\n    <tr>\n      <th>144</th>\n      <td>Commission ready to raise up to €800 billion f...</td>\n      <td>1</td>\n      <td>0</td>\n      <td>0</td>\n    </tr>\n    <tr>\n      <th>145</th>\n      <td>Member States invited to prolong restriction o...</td>\n      <td>0</td>\n      <td>0</td>\n      <td>0</td>\n    </tr>\n    <tr>\n      <th>146</th>\n      <td>In solidarity with China, EU delivers addition...</td>\n      <td>1</td>\n      <td>0</td>\n      <td>0</td>\n    </tr>\n    <tr>\n      <th>147</th>\n      <td>Four new Member States join the rescEU medical...</td>\n      <td>1</td>\n      <td>0</td>\n      <td>0</td>\n    </tr>\n    <tr>\n      <th>148</th>\n      <td>Activating fiscal framework's general escape c...</td>\n      <td>0</td>\n      <td>0</td>\n      <td>0</td>\n    </tr>\n    <tr>\n      <th>149</th>\n      <td>Procuring medical equipment jointly with Membe...</td>\n      <td>1</td>\n      <td>0</td>\n      <td>0</td>\n    </tr>\n    <tr>\n      <th>150</th>\n      <td>Commission sets out key actions for a united f...</td>\n      <td>0</td>\n      <td>0</td>\n      <td>0</td>\n    </tr>\n    <tr>\n      <th>151</th>\n      <td>Commission disburses EUR 8.5 billion under SUR...</td>\n      <td>1</td>\n      <td>0</td>\n      <td>0</td>\n    </tr>\n    <tr>\n      <th>152</th>\n      <td>Mobilising all resources to protect lives and ...</td>\n      <td>0</td>\n      <td>0</td>\n      <td>0</td>\n    </tr>\n    <tr>\n      <th>153</th>\n      <td>EU helps deliver vaccines to Moldova and medic...</td>\n      <td>1</td>\n      <td>0</td>\n      <td>0</td>\n    </tr>\n    <tr>\n      <th>154</th>\n      <td>Stepping up action to reinforce preparedness a...</td>\n      <td>0</td>\n      <td>0</td>\n      <td>0</td>\n    </tr>\n    <tr>\n      <th>155</th>\n      <td>EUR 24 million for Uganda amid coronavirus pan...</td>\n      <td>0</td>\n      <td>1</td>\n      <td>0</td>\n    </tr>\n    <tr>\n      <th>156</th>\n      <td>Stepping up research and funding to address th...</td>\n      <td>1</td>\n      <td>0</td>\n      <td>0</td>\n    </tr>\n    <tr>\n      <th>157</th>\n      <td>EU mobilises EUR 86.5 million to fight COVID-1...</td>\n      <td>0</td>\n      <td>0</td>\n      <td>0</td>\n    </tr>\n    <tr>\n      <th>158</th>\n      <td>EUR 17 billion EU SURE social bond listed on L...</td>\n      <td>1</td>\n      <td>0</td>\n      <td>0</td>\n    </tr>\n    <tr>\n      <th>159</th>\n      <td>EU allocates additional EUR 50 million in huma...</td>\n      <td>1</td>\n      <td>0</td>\n      <td>0</td>\n    </tr>\n    <tr>\n      <th>160</th>\n      <td>EU global response to fight the pandemic</td>\n      <td>1</td>\n      <td>0</td>\n      <td>0</td>\n    </tr>\n    <tr>\n      <th>161</th>\n      <td>Commission puts in place transparency and auth...</td>\n      <td>1</td>\n      <td>0</td>\n      <td>0</td>\n    </tr>\n    <tr>\n      <th>162</th>\n      <td>Commission welcomes the political agreement on...</td>\n      <td>0</td>\n      <td>0</td>\n      <td>0</td>\n    </tr>\n    <tr>\n      <th>163</th>\n      <td>Ensuring essential freight keeps moving by air</td>\n      <td>1</td>\n      <td>0</td>\n      <td>0</td>\n    </tr>\n    <tr>\n      <th>164</th>\n      <td>Ensuring continuous flow of goods across EU vi...</td>\n      <td>1</td>\n      <td>0</td>\n      <td>0</td>\n    </tr>\n    <tr>\n      <th>165</th>\n      <td>Commission disburses further €9 billion under ...</td>\n      <td>1</td>\n      <td>0</td>\n      <td>0</td>\n    </tr>\n    <tr>\n      <th>166</th>\n      <td>EUR 117 million for treatments and diagnostics...</td>\n      <td>1</td>\n      <td>0</td>\n      <td>0</td>\n    </tr>\n    <tr>\n      <th>167</th>\n      <td>€530 million to support emergency measures aga...</td>\n      <td>1</td>\n      <td>0</td>\n      <td>0</td>\n    </tr>\n    <tr>\n      <th>168</th>\n      <td>Setting out coordinated response to counter th...</td>\n      <td>0</td>\n      <td>0</td>\n      <td>0</td>\n    </tr>\n    <tr>\n      <th>169</th>\n      <td>Prolonging State aid Temporary Framework to fu...</td>\n      <td>0</td>\n      <td>0</td>\n      <td>0</td>\n    </tr>\n    <tr>\n      <th>170</th>\n      <td>Commission and EIB provide CureVac with a €75 ...</td>\n      <td>1</td>\n      <td>0</td>\n      <td>0</td>\n    </tr>\n  </tbody>\n</table>\n</div>"
     },
     "execution_count": 6,
     "metadata": {},
     "output_type": "execute_result"
    }
   ],
   "source": [
    "text_df[['title']+EU_TIMELINE_NEW_COLUMNS[:]]"
   ],
   "metadata": {
    "collapsed": false,
    "pycharm": {
     "name": "#%%\n"
    }
   }
  },
  {
   "cell_type": "markdown",
   "source": [
    "## Analyse results"
   ],
   "metadata": {
    "collapsed": false,
    "pycharm": {
     "name": "#%% md\n"
    }
   }
  },
  {
   "cell_type": "code",
   "execution_count": 7,
   "outputs": [
    {
     "name": "stdout",
     "output_type": "stream",
     "text": [
      "businesses: n_neg = 0.43, n_poz = 0.57\n",
      "citizens: n_neg = 0.95, n_poz = 0.05\n",
      "workers: n_neg = 0.99, n_poz = 0.01\n"
     ]
    }
   ],
   "source": [
    "for new_column in EU_TIMELINE_NEW_COLUMNS:\n",
    "    n_poz = len(text_df[text_df[new_column]==1])\n",
    "    n_total = len(text_df)\n",
    "    n_neg = n_total - n_poz\n",
    "    print(f\"{new_column}: n_neg = {round(n_neg/n_total,2)}, n_poz = {round(n_poz/n_total,2)}\")"
   ],
   "metadata": {
    "collapsed": false,
    "pycharm": {
     "name": "#%%\n"
    }
   }
  },
  {
   "cell_type": "markdown",
   "source": [
    "## Save enriched dataset"
   ],
   "metadata": {
    "collapsed": false
   }
  },
  {
   "cell_type": "code",
   "execution_count": 8,
   "outputs": [
    {
     "name": "stderr",
     "output_type": "stream",
     "text": [
      "N/A% (0 of 171) |                        | Elapsed Time: 0:00:00 ETA:  --:--:--"
     ]
    },
    {
     "data": {
      "text/plain": "171"
     },
     "execution_count": 8,
     "metadata": {},
     "output_type": "execute_result"
    }
   ],
   "source": [
    "es_store = StoreRegistry.es_index_store()\n",
    "es_store.put_dataframe(index_name='ds_eu_timeline_enriched',content= enriched_df)"
   ],
   "metadata": {
    "collapsed": false,
    "pycharm": {
     "name": "#%%\n"
    }
   }
  }
 ],
 "metadata": {
  "kernelspec": {
   "display_name": "Python 3",
   "language": "python",
   "name": "python3"
  },
  "language_info": {
   "codemirror_mode": {
    "name": "ipython",
    "version": 2
   },
   "file_extension": ".py",
   "mimetype": "text/x-python",
   "name": "python",
   "nbconvert_exporter": "python",
   "pygments_lexer": "ipython2",
   "version": "2.7.6"
  }
 },
 "nbformat": 4,
 "nbformat_minor": 0
}