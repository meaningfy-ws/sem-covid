{
 "cells": [
  {
   "cell_type": "markdown",
   "source": [
    "## Import dependencies"
   ],
   "metadata": {
    "collapsed": false,
    "pycharm": {
     "name": "#%% md\n"
    }
   }
  },
  {
   "cell_type": "code",
   "execution_count": 1,
   "outputs": [
    {
     "name": "stderr",
     "output_type": "stream",
     "text": [
      "/opt/conda/lib/python3.8/site-packages/gensim/similarities/__init__.py:15: UserWarning: The gensim.similarities.levenshtein submodule is disabled, because the optional Levenshtein package <https://pypi.org/project/python-Levenshtein/> is unavailable. Install Levenhstein (e.g. `pip install python-Levenshtein`) to suppress this warning.\n",
      "  warnings.warn(msg)\n"
     ]
    }
   ],
   "source": [
    "import sys\n",
    "import os\n",
    "\n",
    "sys.path.append(\"/home/jovyan/work/sem-covid/\")\n",
    "sys.path = list(set(sys.path))\n",
    "os.getcwd()\n",
    "os.chdir('/home/jovyan/work/sem-covid/')\n",
    "\n",
    "import numpy as np\n",
    "from gensim.models import KeyedVectors\n",
    "\n",
    "from sem_covid.services.data_registry import Dataset, LanguageModel\n",
    "from sem_covid.services.ml_flow_models import get_best_model_from_ml_flow\n",
    "from sem_covid.services.sc_wrangling.mean_vectorizer import text_to_vector\n",
    "import pandas as pd\n",
    "\n",
    "\n"
   ],
   "metadata": {
    "collapsed": false,
    "pycharm": {
     "name": "#%%\n"
    }
   }
  },
  {
   "cell_type": "markdown",
   "source": [
    "## Define consts"
   ],
   "metadata": {
    "collapsed": false,
    "pycharm": {
     "name": "#%% md\n"
    }
   }
  },
  {
   "cell_type": "code",
   "execution_count": 2,
   "outputs": [],
   "source": [
    "EU_TIMELINE_TEXT_COLUMNS = ['title', 'abstract', 'detail_content', 'detail_title']\n",
    "\n",
    "EU_TIMELINE_NEW_COLUMNS = ['businesses', 'citizens','workers']"
   ],
   "metadata": {
    "collapsed": false,
    "pycharm": {
     "name": "#%%\n"
    }
   }
  },
  {
   "cell_type": "markdown",
   "metadata": {
    "collapsed": true,
    "pycharm": {
     "name": "#%% md\n"
    }
   },
   "source": [
    "## Load dataset and language model"
   ]
  },
  {
   "cell_type": "code",
   "execution_count": 3,
   "outputs": [
    {
     "name": "stderr",
     "output_type": "stream",
     "text": [
      "100% (171 of 171) |######################| Elapsed Time: 0:00:00 Time:  0:00:00\n"
     ]
    }
   ],
   "source": [
    "df = Dataset.EU_ACTION_TIMELINE.fetch()\n",
    "law2vec = LanguageModel.LAW2VEC.fetch()\n",
    "law2vec_path = LanguageModel.LAW2VEC.path_to_local_cache()\n",
    "law2vec_format = KeyedVectors.load_word2vec_format(law2vec_path, encoding=\"utf-8\")\n",
    "l2v_dict = {w: vec for w, vec in zip(law2vec_format.index_to_key, law2vec_format.vectors)}"
   ],
   "metadata": {
    "collapsed": false,
    "pycharm": {
     "name": "#%%\n"
    }
   }
  },
  {
   "cell_type": "markdown",
   "source": [
    "## Prepare dataset"
   ],
   "metadata": {
    "collapsed": false,
    "pycharm": {
     "name": "#%% md\n"
    }
   }
  },
  {
   "cell_type": "code",
   "execution_count": 4,
   "outputs": [],
   "source": [
    "df.loc[df['detail_title'].isnull(), 'detail_title'] = df.loc[df['detail_title'].isnull(), 'detail_title'].apply(\n",
    "    lambda x: [])\n",
    "df['detail_title'] = df['detail_title'].apply(lambda x: \" \".join(x))\n",
    "\n",
    "text_df = pd.DataFrame(df[EU_TIMELINE_TEXT_COLUMNS])\n",
    "text_df.replace(np.nan, '', regex=True,inplace=True)\n",
    "text_df['text'] = text_df.agg(' '.join, axis=1)\n",
    "text_df.reset_index(drop=True,inplace=True)\n",
    "text_df[\"emb\"] = text_df[\"text\"].apply(lambda x: text_to_vector(x,l2v_dict))"
   ],
   "metadata": {
    "collapsed": false,
    "pycharm": {
     "name": "#%%\n"
    }
   }
  },
  {
   "cell_type": "markdown",
   "source": [
    "## Enrich dataset with new columns"
   ],
   "metadata": {
    "collapsed": false,
    "pycharm": {
     "name": "#%% md\n"
    }
   }
  },
  {
   "cell_type": "code",
   "execution_count": 5,
   "outputs": [],
   "source": [
    "for new_column in EU_TIMELINE_NEW_COLUMNS:\n",
    "    model = get_best_model_from_ml_flow(experiment_ids=[\"1\"], class_name=new_column)\n",
    "    text_df[new_column] = model.predict(list(text_df[\"emb\"]))\n"
   ],
   "metadata": {
    "collapsed": false,
    "pycharm": {
     "name": "#%%\n"
    }
   }
  },
  {
   "cell_type": "markdown",
   "source": [
    "## Show result"
   ],
   "metadata": {
    "collapsed": false,
    "pycharm": {
     "name": "#%% md\n"
    }
   }
  },
  {
   "cell_type": "code",
   "execution_count": 6,
   "outputs": [
    {
     "data": {
      "text/plain": "                                                 title  businesses  citizens  \\\n0    EU countries adopt guidelines on proof of vacc...           0         0   \n1              Commission unveils EU vaccines strategy           0         0   \n2    European roadmap shows path towards common lif...           0         0   \n3    Commission puts forward rules on rapid antigen...           0         0   \n4    EU leaders agree on the recovery plan and mult...           1         0   \n..                                                 ...         ...       ...   \n166  EUR 117 million for treatments and diagnostics...           1         0   \n167  €530 million to support emergency measures aga...           0         0   \n168  Setting out coordinated response to counter th...           0         0   \n169  Prolonging State aid Temporary Framework to fu...           0         0   \n170  Commission and EIB provide CureVac with a €75 ...           1         0   \n\n     workers  \n0          0  \n1          0  \n2          0  \n3          0  \n4          0  \n..       ...  \n166        0  \n167        0  \n168        0  \n169        0  \n170        0  \n\n[171 rows x 4 columns]",
      "text/html": "<div>\n<style scoped>\n    .dataframe tbody tr th:only-of-type {\n        vertical-align: middle;\n    }\n\n    .dataframe tbody tr th {\n        vertical-align: top;\n    }\n\n    .dataframe thead th {\n        text-align: right;\n    }\n</style>\n<table border=\"1\" class=\"dataframe\">\n  <thead>\n    <tr style=\"text-align: right;\">\n      <th></th>\n      <th>title</th>\n      <th>businesses</th>\n      <th>citizens</th>\n      <th>workers</th>\n    </tr>\n  </thead>\n  <tbody>\n    <tr>\n      <th>0</th>\n      <td>EU countries adopt guidelines on proof of vacc...</td>\n      <td>0</td>\n      <td>0</td>\n      <td>0</td>\n    </tr>\n    <tr>\n      <th>1</th>\n      <td>Commission unveils EU vaccines strategy</td>\n      <td>0</td>\n      <td>0</td>\n      <td>0</td>\n    </tr>\n    <tr>\n      <th>2</th>\n      <td>European roadmap shows path towards common lif...</td>\n      <td>0</td>\n      <td>0</td>\n      <td>0</td>\n    </tr>\n    <tr>\n      <th>3</th>\n      <td>Commission puts forward rules on rapid antigen...</td>\n      <td>0</td>\n      <td>0</td>\n      <td>0</td>\n    </tr>\n    <tr>\n      <th>4</th>\n      <td>EU leaders agree on the recovery plan and mult...</td>\n      <td>1</td>\n      <td>0</td>\n      <td>0</td>\n    </tr>\n    <tr>\n      <th>...</th>\n      <td>...</td>\n      <td>...</td>\n      <td>...</td>\n      <td>...</td>\n    </tr>\n    <tr>\n      <th>166</th>\n      <td>EUR 117 million for treatments and diagnostics...</td>\n      <td>1</td>\n      <td>0</td>\n      <td>0</td>\n    </tr>\n    <tr>\n      <th>167</th>\n      <td>€530 million to support emergency measures aga...</td>\n      <td>0</td>\n      <td>0</td>\n      <td>0</td>\n    </tr>\n    <tr>\n      <th>168</th>\n      <td>Setting out coordinated response to counter th...</td>\n      <td>0</td>\n      <td>0</td>\n      <td>0</td>\n    </tr>\n    <tr>\n      <th>169</th>\n      <td>Prolonging State aid Temporary Framework to fu...</td>\n      <td>0</td>\n      <td>0</td>\n      <td>0</td>\n    </tr>\n    <tr>\n      <th>170</th>\n      <td>Commission and EIB provide CureVac with a €75 ...</td>\n      <td>1</td>\n      <td>0</td>\n      <td>0</td>\n    </tr>\n  </tbody>\n</table>\n<p>171 rows × 4 columns</p>\n</div>"
     },
     "execution_count": 6,
     "metadata": {},
     "output_type": "execute_result"
    }
   ],
   "source": [
    "text_df[['title']+EU_TIMELINE_NEW_COLUMNS[:]]"
   ],
   "metadata": {
    "collapsed": false,
    "pycharm": {
     "name": "#%%\n"
    }
   }
  },
  {
   "cell_type": "markdown",
   "source": [
    "## Analyse results"
   ],
   "metadata": {
    "collapsed": false,
    "pycharm": {
     "name": "#%% md\n"
    }
   }
  },
  {
   "cell_type": "code",
   "execution_count": 7,
   "outputs": [
    {
     "name": "stdout",
     "output_type": "stream",
     "text": [
      "businesses: n_neg = 0.77, n_poz = 0.23\n",
      "citizens: n_neg = 1.0, n_poz = 0.0\n",
      "workers: n_neg = 0.95, n_poz = 0.05\n"
     ]
    }
   ],
   "source": [
    "for new_column in EU_TIMELINE_NEW_COLUMNS:\n",
    "    n_poz = len(text_df[text_df[new_column]==1])\n",
    "    n_total = len(text_df)\n",
    "    n_neg = n_total - n_poz\n",
    "    print(f\"{new_column}: n_neg = {round(n_neg/n_total,2)}, n_poz = {round(n_poz/n_total,2)}\")"
   ],
   "metadata": {
    "collapsed": false,
    "pycharm": {
     "name": "#%%\n"
    }
   }
  }
 ],
 "metadata": {
  "kernelspec": {
   "display_name": "Python 3",
   "language": "python",
   "name": "python3"
  },
  "language_info": {
   "codemirror_mode": {
    "name": "ipython",
    "version": 2
   },
   "file_extension": ".py",
   "mimetype": "text/x-python",
   "name": "python",
   "nbconvert_exporter": "python",
   "pygments_lexer": "ipython2",
   "version": "2.7.6"
  }
 },
 "nbformat": 4,
 "nbformat_minor": 0
}