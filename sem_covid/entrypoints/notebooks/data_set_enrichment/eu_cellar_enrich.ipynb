{
 "cells": [
  {
   "cell_type": "markdown",
   "metadata": {
    "collapsed": true,
    "pycharm": {
     "name": "#%% md\n"
    }
   },
   "source": [
    "## Import dependencies"
   ]
  },
  {
   "cell_type": "code",
   "execution_count": 69,
   "outputs": [],
   "source": [
    "import sys\n",
    "import os\n",
    "\n",
    "sys.path.append(\"/home/jovyan/work/sem-covid/\")\n",
    "sys.path = list(set(sys.path))\n",
    "os.getcwd()\n",
    "os.chdir('/home/jovyan/work/sem-covid/')\n",
    "\n",
    "import numpy as np\n",
    "from gensim.models import KeyedVectors\n",
    "import mlflow\n",
    "from pycaret.classification import predict_model\n",
    "from IPython.core.display import display, Markdown\n",
    "\n",
    "from sem_covid.services.sc_wrangling.evaluation_metrics import model_evaluation_metrics\n",
    "\n",
    "from sem_covid.services.model_registry import ClassificationModel, get_best_model_from_ml_flow\n",
    "from sem_covid.services.store_registry import StoreRegistry\n",
    "from sem_covid.services.data_registry import Dataset, LanguageModel\n",
    "from sem_covid.services.sc_wrangling.mean_vectorizer import text_to_vector\n",
    "import pandas as pd\n",
    "import regex as re\n",
    "from pysummarization.nlpbase.auto_abstractor import AutoAbstractor\n",
    "from pysummarization.tokenizabledoc.simple_tokenizer import SimpleTokenizer\n",
    "from pysummarization.abstractabledoc.top_n_rank_abstractor import TopNRankAbstractor\n",
    "\n",
    "from sem_covid.services.sc_wrangling.data_cleaning import clean_fix_unicode, clean_to_ascii, clean_to_lower,\\\n",
    "        clean_remove_stopwords, clean_remove_line_breaks, clean_remove_urls, clean_remove_emails"
   ],
   "metadata": {
    "collapsed": false,
    "pycharm": {
     "name": "#%%\n"
    }
   }
  },
  {
   "cell_type": "markdown",
   "source": [
    "## Define consts"
   ],
   "metadata": {
    "collapsed": false
   }
  },
  {
   "cell_type": "code",
   "execution_count": 70,
   "outputs": [],
   "source": [
    "EU_CELLAR_TEXT_COLUMNS = ['title', 'content']\n",
    "\n",
    "EU_CELLAR_NEW_COLUMNS = ['businesses', 'citizens', 'workers']"
   ],
   "metadata": {
    "collapsed": false,
    "pycharm": {
     "name": "#%%\n"
    }
   }
  },
  {
   "cell_type": "markdown",
   "source": [
    "## Load dataset and language model"
   ],
   "metadata": {
    "collapsed": false
   }
  },
  {
   "cell_type": "code",
   "execution_count": 63,
   "outputs": [],
   "source": [
    "df = Dataset.EU_CELLAR.fetch()"
   ],
   "metadata": {
    "collapsed": false,
    "pycharm": {
     "name": "#%%\n"
    }
   }
  },
  {
   "cell_type": "code",
   "execution_count": 64,
   "outputs": [],
   "source": [
    "law2vec = LanguageModel.LAW2VEC.fetch()\n",
    "law2vec_path = LanguageModel.LAW2VEC.path_to_local_cache()\n",
    "l2v_dict = KeyedVectors.load_word2vec_format(law2vec_path, encoding=\"utf-8\")"
   ],
   "metadata": {
    "collapsed": false,
    "pycharm": {
     "name": "#%%\n"
    }
   }
  },
  {
   "cell_type": "markdown",
   "source": [
    "## Prepare dataset"
   ],
   "metadata": {
    "collapsed": false
   }
  },
  {
   "cell_type": "code",
   "execution_count": 71,
   "outputs": [],
   "source": [
    "def clean_pipeline(document: str) -> str:\n",
    "    document = clean_fix_unicode(document)\n",
    "    document = clean_to_ascii(document)\n",
    "    document = clean_to_lower(document)\n",
    "    document = clean_remove_line_breaks(document)\n",
    "    document = clean_remove_urls(document, replace_with='')\n",
    "    document = clean_remove_emails(document, replace_with='')\n",
    "    document = clean_remove_stopwords(document)\n",
    "    return document"
   ],
   "metadata": {
    "collapsed": false,
    "pycharm": {
     "name": "#%%\n"
    }
   }
  },
  {
   "cell_type": "code",
   "execution_count": 72,
   "outputs": [
    {
     "name": "stdout",
     "output_type": "stream",
     "text": [
      "Text length before cleaning : 1077670023\n",
      "Text length after cleaning : 724122960\n"
     ]
    }
   ],
   "source": [
    "print(\"Text length before cleaning :\", df['content'].str.len().sum())\n",
    "df['content'] = df['content'].apply(lambda x: clean_pipeline(str(x)))\n",
    "df['content'] = df['content'].str.replace('\\n', '')\n",
    "df['content'] = df['content'].str.replace('\\t', '')\n",
    "df['content'] = df['content'].apply(lambda x: re.sub(' +', ' ', str(x)))\n",
    "print(\"Text length after cleaning :\", df['content'].str.len().sum())"
   ],
   "metadata": {
    "collapsed": false,
    "pycharm": {
     "name": "#%%\n"
    }
   }
  },
  {
   "cell_type": "code",
   "execution_count": 35,
   "outputs": [],
   "source": [
    "auto_abstractor = AutoAbstractor()\n",
    "auto_abstractor.tokenizable_doc = SimpleTokenizer()\n",
    "auto_abstractor.delimiter_list = [\".\", \"\\n\"]\n",
    "abstractable_doc = TopNRankAbstractor()"
   ],
   "metadata": {
    "collapsed": false,
    "pycharm": {
     "name": "#%%\n"
    }
   }
  },
  {
   "cell_type": "code",
   "execution_count": null,
   "outputs": [],
   "source": [
    "df['content'] = df['content'].apply(\n",
    "    lambda x: ' '.join(auto_abstractor.summarize(str(x), abstractable_doc)[\"summarize_result\"]))"
   ],
   "metadata": {
    "collapsed": false,
    "pycharm": {
     "name": "#%%\n"
    }
   }
  },
  {
   "cell_type": "code",
   "execution_count": 73,
   "outputs": [],
   "source": [
    "result_temp = df['content'].iloc[0:100].apply(\n",
    "    lambda x: ' '.join(auto_abstractor.summarize(str(x), abstractable_doc)[\"summarize_result\"]))\n"
   ],
   "metadata": {
    "collapsed": false,
    "pycharm": {
     "name": "#%%\n"
    }
   }
  },
  {
   "cell_type": "code",
   "execution_count": 74,
   "outputs": [
    {
     "data": {
      "text/plain": "_id\n0007dea694fcf194ad9af6ec8b597a5185330549e826f04c6ca3e91f8bad383b    healthy workplaces - lighten load healthy work...\n0013e1224a6385d0315875724287f0a044ec2050a8e710c14a479fa037eb9010    ethics genome editing #ethicsgroup_eu european...\n00178f1c4c60992043347f38986f824c78096958d5bff593b8a1c79d058641f0    eur xxxx en environment european research proj...\n002086bd15c9aba8b8b3cdf88498e25735cf66043ddab8877aca317256615aff    2020 en official journal european union c 350/...\n002b8d0e8dcdbbb3ad87c517e97e1632ced062ad5aeb0c0d8727a9791d560e65    2021 en official journal european union c 53/4...\n0033a9597090f698de7cbc177391594f28c072c99585f518458d9a57cd23bbf0                                                     \n004b02ea0760b049799dc752d6378917cc4e7d2f0b0fa093a9fad2b0ac47bdd6    2020 en official journal european union c 343/...\n0056ce1cc4915727f41bffbc5886a56788de84e75a0efa4e03a100e76f52d00f    a6_cordis_energy_efficency_hr c m y cm cy cmy ...\n0066750e14340543b8cf2417f35d24e245adbd7731b4fb03fdc70654fc2a883c                                                     \n007a20ef8a594f581b4f7bda56e0b5b41c91de1a5ac8e1c462fe8dad6e31bb6a    investment report 2019/2020 - building smart g...\n0086d6914094cccab27e34af72ef05cc2fbcf03351c3291f34002a5f43230cf1    2020 en official journal european union l 425/...\n009ffa872332901a71a2bb405cf360edd18afdbaefcfbe4c1ade8375fb1f2569    employment composition labour earnings inequal...\n00a690d4dc5a533df81cf21d3bef4adea96de1b1f49f208ffb8adca70430c64c    2021 en official journal european union c 56/6...\n00bfb823f371b08809220d6b9dfacd9256d47ac5638008a8050146df39404673    occupational health safety deployment informat...\n00e109906fe167dddb704d9bd67dcf9c0a1067f77bc415457c35ccd02aea60c7    digital services area accommodation transporta...\n00e115b14a21811325a0d372925b8ab92123d29f032403fececfd4bbce630ccd                                                     \n00fa13eeab17f29667566f00acc78ad9d6ef1d0e0ae502b85b4ab8f0d853229e    health food safety assessment eu member states...\n0146d1fda5bfcd2c66fee15bf54b105b26cba84fb0768e36e2a424465348724a    1 | p g e european panorama clusters industria...\n014e4b2d8ef0db6e5322ff88706c86e8d86293ef73792fe314c7bac50989bb9b    microsoft word - sju single programming docume...\n015b3e09dbcc66d0d147e88f5a1a6ef2dfec205cd2ddc07516c6d2e5ca162975    area c health women: achieving gender equality...\n01623481df6c0c99d53f987ddf315aa5c60456077c775f85e160c30b2f3f11c6    2020 en official journal european union c 320/...\n0170c2be67810cd32eff987865170704a625a38265c7494f7da0267d3ae578bd    implementing set plan making set plan fit eu g...\n0194bd1cbd73e17c8694ec3a06d1776fd192435287f10e5b58813ce90dbab6f7    2021 en official journal european union c 136/...\n01a9a07e28cb1f05689a3039484dde8f4dc564fe494baab4884e96577e072c3a    preparing europe covid-19 variants: hera incub...\n01b6c15e76b9f7fbab45f844435d59538608b0dfc22650c37f4dd500fd02b131    research innovation independent expert report ...\n01cf9e2576337612a7f3df60a95c05ebda83fac2af172936c28de542414ddc49    spatial modelling method vector surveillance t...\n01e763e7deed661a061bb098b7c81e62f4ab81e981546bb08e21aac398418b1a    2021 en official journal european union c 88/2...\n01e8d7732a6449e6bcd27e71465fa07dfd651b1ad57ba3a866facdc81e8a49b9    written expert group \"foundations, venture phi...\n01f856e2d5a44155bb2b94cb26aa8cc66a17db05f282975be95e3435f15a09e3    2020 en official journal european union 444/3 ...\n01fc0cabfee5769bcbf18dfee64830946f24d07574a276458328af4cd9153511    eesc's role recovery reconstruction coronaviru...\n01fccd1a70e8db7671ec8b42493f823293f4783e36aa1cb0697b53a727250b02    report targeted surveys application core labou...\n021230469b5d52ed009a3bbb691e9cd5193ad4ce852f3969d7251f1fc0ee742f    2021 com(2021) 129 final communication commiss...\n0214ef3335edd85925bee0e1c150418b5edebd312bbdf00a5d1635beec065a57    2020 en official journal european union c 414/...\n025c88c2baa280e404258ad297942e47503f78746c0236f0d3f13d69096d6015    interaction citizens, scientists policy makers...\n02686d46ca9815edd96c7f9139985c7e431a8c7d9121eba131bf8a2c9fe2bbcb    2020 en official journal european union c 440/...\n0268ecc900793ca5f24eff79ef37a0e8cc2cbafb6c6f5d5c1b7a1726cc186774    2020 en official journal european union c 323/...\n026947845c02e49a2dcb0e2f432f5da199454aff2b03033a466e80e327a7e59f    2021 en official journal european union c 128/...\n0269a925c31666874829e269bbe10eaaff4420c58274a5db5817fd3f3fc601a1    report targeted surveys application core labou...\n027fe3d2cfbc6476565c37c27d7fa0918b4afd4d1ee463f86007c1ea5c88e4f1    research & innovation key driver farm fork str...\n0284cbd622927ccbdd684702f9595a0a6f79d2c57fd0986dd6affdd9c843343c    2020 en official journal european union l 212/...\n02a0ea33e36a21dc298eb68d8c2d46fa73134ac79502629d25b119fd3f3510cd    central bank digital currency open economy wor...\n02afe2a5d70591af0645d05340be87e6880b8475186f6ff3b252f2dad99a22dd                                                     \n02bd88b95042ca0d3bb24689f9f51d5751091a3a90cde36becb9b73d33892a68    2020 com(2020) 78 final 2020/0035(cod) proposa...\n02d280b67d3c2d3a90cd029a43905f54776b650f57686422fd1525f5a80bae9a    2020 en official journal european union c 189/...\n02d6f6840b3d64881d28fd40061c34076e7a3d6e55d84d1f82049fd930b845d0    2020 en official journal european union li 300...\n02d94bd3946c34e2be7f0a9ddc7abd6433e485da5b06044acd9dae72cda10dfc    unit costs plant health surveillance activitie...\n02dcf939e0736fc9ce6d5c966a801e0b9d2b527c36dd721e4c31d25ab52dd9e6    review economic analyses potential impact brex...\n02f0d561c45748182441499f33b5cdda02b1306c8cd06d91ac02ea54f3a917c4    2021 en official journal european union l 4/1 ...\n02f8581b47f3d2012b08d2266029e53470dc9aa2786274aa785f2992cfcb79d4    a6_cordis_social sciences humanities_lr resear...\n030340e1dac5382a9379488c63e7c6c0cb2ec305f62bf18a38a76a0d23028b42    2020 swd(2020) 179 final commission staff work...\n030972ce0fc029d1325b627aec8308fcac65bfb86bcd16cc14472a02d6f9307c                                                     \n030d120046a253dd42fd2faade12596257946290f6dfc68c05719f539391b4e6    2021 swd(2021) 4 final commission staff workin...\n031d0a3ad27006e945655dc8e26841787a33ec4f0ad11f3d5dd55cd1e4b3d89a    2021 en official journal european union c 141/...\n03261c31c35ca2a1db45c448a56ad2ff02ece025189e96052c87a0632f209006    2020 en official journal european union l 141/...\n03269db83b0d46caf7ba715370a85e329cce1b19a89f6f3a5b94d70fe3557a83    2020 en official journal european union l 151/...\n032957c3bdb59d6d6054ac04a4913f91eb1de9beeb41650c9ee5546752a5616f     eu uk negotiated terms uk's exit, commonly re...\n032d75f54dd3382eb8b49005fa576ec25a376f6a2aac1f5a2ad48356b9855171    2021 en official journal european union c 37/2...\n033bf56606b2798fcbc026ea01c665335812e5d6c2459cf8f162cdb0e50d2e4f    microsoft word - analysis developments eu capi...\n033c28eed95b7e2534285caca452e6b5e94d6bc8850e5dedb73b62599310a8b1    2020 en official journal european union c 378/...\n033d6e1d545d90903d5ec6c8ab7022c444ae75570de742db753d97546266bbe4    googling unemployment pandemic: inference nowc...\n034e643b296a612e89af21ac40a27823767efba2cbf6106e340fcc8e9d37e85a    read online version | issn: 2315-084x 30 july ...\n0351c81f163b678c64cb78994bea1977d5bb04d18321ab0919320c24a643beea    coronavirus pandemic eu fundamental rights imp...\n035858287e9e22474ebfab5cb5d0c52bed052d3a782b950878a612290bdfedd4    2020 en official journal european union c 49/2...\n035abacf0840d7268ae5574da3c7da24bf3271e1131be18ffb24cc172d307c57                                                     \n03635df1bbabd1b284c328bb321f132533803751647671098cfb1006c04d1d49                                                     \n0370717c4490918ea0437d9b1da3f12eed5d0a62e16c844993ba08494309318b                                                     \n037b265ad7191abd814c43dc6c718156371d8ef53b44320b695e705c0b78d565    2020 com(2020) 384 final annex proposal decisi...\n0398cf81f3c4cf37690870a7e01f8f4ea3d5f2d3742c8a6eef210fa53b7fbabc    2020 com(2020) 505 final recommendation counci...\n03ab3c02988f168577159f12ace7a9532029d56ff7e4b623493337c75afa7544    2021 en official journal european union l 70/6...\n03d6791f7c29362684211b4145d3a26a692d18d206a9bafbb991d89ddc54114d    november 2020 study support review list restri...\n03ef3259633281551be6d65a1c5fa471591a8057889d033e8274ef9555b8b855    2021 en official journal european union c 19/3...\n04091256235f43340fec76d62775322085f46e83edcf43b6a15b82a14e379fd0    march 2021 \" strategic plan's orientations ens...\n041ad7456cd0eb953fd19866a068e8a17944e0eac27bf8fdca06bdfae7a5f2c4    2020 en official journal european union c 311/...\n041b4280e773211877ecb2b714a18cfe84891fda7b3820bd987fbd95934c85fd    covid-19 pandemic intimate partner violence wo...\n0428c951ce794ee9d7f77c96eec9aae08dde9b85adb2e1a590154fd22fe1e8f9    2020 en official journal european union l 241/...\n043cd5b4ceb414c4b1c2699a3c19fc8077450fdd61dd298860901b951e6f8fdd                                                     \n04410cd0e12ad8202b26fbe7f09a674bd80e74ec7e8bab5f232458bc8c3b6e4d    assessment people employment, education traini...\n046ae1dadfe2e142f0ff9a8d3d01172f4d99de80e7f03f34b22e75049511fec7    2021 en official journal european union l 56/1...\n04772044a27229cfe5d8616b407ccad3cebfd23fba5ee9a20362feb98ee8e496    need know senior eu citizen living uk brexit 2...\n0493740b674204f6dc0172f3bb3c00e52e0dc8cdd25312887a4cc1cd50386b9e    2020 en official journal european union c 320/...\n04b9001d97302de103cdfc5dde2f3ac9c8c64aee53b16ffdd285f6bd926ef946    2020 en official journal european union l 6/2 ...\n04c06a726e15852d5e0e21bb064242a1fd8de7049790ce4072abca999cfdc256    vector control practices strategies aainst wes...\n04cae220e3492801c97f8f0f7c43821e1b5d424faa73a2c24655a20a0fc28a8e    2020 en official journal european union l 417/...\n04d7529c5a95bd9b09916bf48eb15217e394ef1bb1ee81bbe5d23986e1c3a4d4    2020 swd(2020) 398 final commission staff work...\n04f9ec386759ae375cf61f4907885decac15bfd48a3faee5674300eab1a18afc    docx briefing requested xxxx committee itre fo...\n050476d5d6cadec55bbbeaf25b338189f862e17dd1b4f50ab68929c3b31a36b6    o n oi d u f n ra g t ro pe ue engaging print ...\n050cc66696c972afe34a273ed64e5b2850aab45ca7ba41189c48d78786956b22    reference document 27 | education practical gu...\n050d8907737df29345b93e7795f15cbeeea7cc149c7a0b6807b3bc2ab954a5ec     eib investment survey (eibis) eib group surve...\n0537eb6d21dc8ab055ab55b7187da3ab8ba317ce6e36b3b74a6ebc81b63efac3    2020 com(2020) 399 final annex communication c...\n05467efaf5857e3ef619a5e9d9c53906d24a403b6f38a32a6b9eab16561ed2f1    2020 en official journal european union c 60/2...\n0567fc9fa241b3ee73b4ab2d09cb290647eb6e43a2ad7c2c09f1b9dd9fa988f1    mekong river: geopolitics development, hydropo...\n0570dbde495249340a6605eff2daf66f0db51df48cd82ead651892b25f150b27                                                     \n0576947d0af2c56fcdbbf39fd8f614b92a061cd09c8db7ff8152bda7faf4b71c    2020 en official journal european union l 15/2...\n0576f7bb96479169e9c05ecc0ecbbf194ccb95792be6e98dbf68e38e3fc60939                                                     \n057af3adcb07427cd34db67315cfe87de6edeeac3ac7c9d7451cf41b71932521    2020 com(2020) 276 final communication commiss...\n058ebdf038ffd5aabea5b1cd48146612e648eaaa44022a0beb813eb4c284cbcc    july 2020 gender equality focus covid-19 taugh...\n05a481d806fcd2068b3a168d11d607b6e5d987b4ec6dd442734aa406ba86b408    written paul jeffrey, isabel naylon, marili pa...\n05aaef7029a6de4dcd8401918bad32bafaa4e5d3c70284d08d50de20f0ea1d07    2021 en official journal european union l 42/1...\n05bc26e746438fcbe9447584132ae1d8395e62315d6c25e769782b53b713dd16     jan oltmanns, melanie macherey fobig forschun...\n05bddf4ba5086f6306426dd95170417b7e7d510ca6a6e3efb5da7b173a828d2e    research innovation delivering europe's recove...\nName: content, dtype: object"
     },
     "execution_count": 74,
     "metadata": {},
     "output_type": "execute_result"
    }
   ],
   "source": [
    "result_temp"
   ],
   "metadata": {
    "collapsed": false,
    "pycharm": {
     "name": "#%%\n"
    }
   }
  },
  {
   "cell_type": "code",
   "execution_count": 32,
   "outputs": [],
   "source": [
    "def my_text_to_vector(text: str, word2vec):\n",
    "    dim = len(word2vec[next(iter(word2vec))])\n",
    "    return np.mean([np.zeros(dim)] + [word2vec[word] for word in text.split() if word in word2vec], axis=0)"
   ],
   "metadata": {
    "collapsed": false,
    "pycharm": {
     "name": "#%%\n"
    }
   }
  },
  {
   "cell_type": "code",
   "execution_count": 34,
   "outputs": [],
   "source": [
    "text_df = pd.DataFrame(df[EU_CELLAR_TEXT_COLUMNS])\n",
    "text_df.replace(np.nan, '', regex=True, inplace=True)\n",
    "text_df['text'] = text_df.agg(' '.join, axis=1)\n",
    "text_df.reset_index(drop=True, inplace=True)"
   ],
   "metadata": {
    "collapsed": false,
    "pycharm": {
     "name": "#%%\n"
    }
   }
  },
  {
   "cell_type": "code",
   "execution_count": 32,
   "outputs": [
    {
     "ename": "NameError",
     "evalue": "name 'text_df' is not defined",
     "output_type": "error",
     "traceback": [
      "\u001B[0;31m---------------------------------------------------------------------------\u001B[0m",
      "\u001B[0;31mNameError\u001B[0m                                 Traceback (most recent call last)",
      "\u001B[0;32m<ipython-input-32-af6a45515387>\u001B[0m in \u001B[0;36m<module>\u001B[0;34m\u001B[0m\n\u001B[0;32m----> 1\u001B[0;31m \u001B[0mtext_df\u001B[0m\u001B[0;34m[\u001B[0m\u001B[0;34m'text'\u001B[0m\u001B[0;34m]\u001B[0m\u001B[0;34m.\u001B[0m\u001B[0mhead\u001B[0m\u001B[0;34m(\u001B[0m\u001B[0;36m5\u001B[0m\u001B[0;34m)\u001B[0m\u001B[0;34m\u001B[0m\u001B[0;34m\u001B[0m\u001B[0m\n\u001B[0m\u001B[1;32m      2\u001B[0m \u001B[0;34m\u001B[0m\u001B[0m\n",
      "\u001B[0;31mNameError\u001B[0m: name 'text_df' is not defined"
     ]
    }
   ],
   "source": [
    "text_df['text'].head(5)"
   ],
   "metadata": {
    "collapsed": false,
    "pycharm": {
     "name": "#%%\n"
    }
   }
  },
  {
   "cell_type": "code",
   "execution_count": 38,
   "outputs": [
    {
     "data": {
      "text/plain": "2156889442"
     },
     "execution_count": 38,
     "metadata": {},
     "output_type": "execute_result"
    }
   ],
   "source": [
    "text_df['text'].str.len().sum()"
   ],
   "metadata": {
    "collapsed": false,
    "pycharm": {
     "name": "#%%\n"
    }
   }
  },
  {
   "cell_type": "code",
   "execution_count": 43,
   "outputs": [
    {
     "data": {
      "text/plain": "1545996497"
     },
     "execution_count": 43,
     "metadata": {},
     "output_type": "execute_result"
    }
   ],
   "source": [
    "text_df['text'].apply(lambda x: ' '.join(re.split('\\W+', x))).str.len().sum()"
   ],
   "metadata": {
    "collapsed": false,
    "pycharm": {
     "name": "#%%\n"
    }
   }
  },
  {
   "cell_type": "code",
   "execution_count": null,
   "outputs": [],
   "source": [
    "text_df[\"emb\"] = text_df[\"text\"].apply(lambda x: my_text_to_vector(x, l2v_dict))"
   ],
   "metadata": {
    "collapsed": false,
    "pycharm": {
     "name": "#%%\n"
    }
   }
  },
  {
   "cell_type": "code",
   "execution_count": 8,
   "outputs": [
    {
     "data": {
      "text/plain": "     title content text  emb\n15                       NaN\n41                       NaN\n64                       NaN\n65                       NaN\n75                       NaN\n...    ...     ...  ...  ...\n9742                     NaN\n9746                     NaN\n9751                     NaN\n9767                     NaN\n9783                     NaN\n\n[736 rows x 4 columns]",
      "text/html": "<div>\n<style scoped>\n    .dataframe tbody tr th:only-of-type {\n        vertical-align: middle;\n    }\n\n    .dataframe tbody tr th {\n        vertical-align: top;\n    }\n\n    .dataframe thead th {\n        text-align: right;\n    }\n</style>\n<table border=\"1\" class=\"dataframe\">\n  <thead>\n    <tr style=\"text-align: right;\">\n      <th></th>\n      <th>title</th>\n      <th>content</th>\n      <th>text</th>\n      <th>emb</th>\n    </tr>\n  </thead>\n  <tbody>\n    <tr>\n      <th>15</th>\n      <td></td>\n      <td></td>\n      <td></td>\n      <td>NaN</td>\n    </tr>\n    <tr>\n      <th>41</th>\n      <td></td>\n      <td></td>\n      <td></td>\n      <td>NaN</td>\n    </tr>\n    <tr>\n      <th>64</th>\n      <td></td>\n      <td></td>\n      <td></td>\n      <td>NaN</td>\n    </tr>\n    <tr>\n      <th>65</th>\n      <td></td>\n      <td></td>\n      <td></td>\n      <td>NaN</td>\n    </tr>\n    <tr>\n      <th>75</th>\n      <td></td>\n      <td></td>\n      <td></td>\n      <td>NaN</td>\n    </tr>\n    <tr>\n      <th>...</th>\n      <td>...</td>\n      <td>...</td>\n      <td>...</td>\n      <td>...</td>\n    </tr>\n    <tr>\n      <th>9742</th>\n      <td></td>\n      <td></td>\n      <td></td>\n      <td>NaN</td>\n    </tr>\n    <tr>\n      <th>9746</th>\n      <td></td>\n      <td></td>\n      <td></td>\n      <td>NaN</td>\n    </tr>\n    <tr>\n      <th>9751</th>\n      <td></td>\n      <td></td>\n      <td></td>\n      <td>NaN</td>\n    </tr>\n    <tr>\n      <th>9767</th>\n      <td></td>\n      <td></td>\n      <td></td>\n      <td>NaN</td>\n    </tr>\n    <tr>\n      <th>9783</th>\n      <td></td>\n      <td></td>\n      <td></td>\n      <td>NaN</td>\n    </tr>\n  </tbody>\n</table>\n<p>736 rows × 4 columns</p>\n</div>"
     },
     "execution_count": 8,
     "metadata": {},
     "output_type": "execute_result"
    }
   ],
   "source": [
    "text_df[text_df['emb'].apply(lambda x: type(x) == np.float64)]"
   ],
   "metadata": {
    "collapsed": false,
    "pycharm": {
     "name": "#%%\n"
    }
   }
  },
  {
   "cell_type": "code",
   "execution_count": 12,
   "outputs": [
    {
     "ename": "TypeError",
     "evalue": "'numpy.float64' object is not iterable",
     "output_type": "error",
     "traceback": [
      "\u001B[0;31m---------------------------------------------------------------------------\u001B[0m",
      "\u001B[0;31mTypeError\u001B[0m                                 Traceback (most recent call last)",
      "\u001B[0;32m<ipython-input-12-92fcbdc50659>\u001B[0m in \u001B[0;36m<module>\u001B[0;34m\u001B[0m\n\u001B[0;32m----> 1\u001B[0;31m \u001B[0mmatrix_df\u001B[0m \u001B[0;34m=\u001B[0m \u001B[0mpd\u001B[0m\u001B[0;34m.\u001B[0m\u001B[0mDataFrame\u001B[0m\u001B[0;34m(\u001B[0m\u001B[0mlist\u001B[0m\u001B[0;34m(\u001B[0m\u001B[0mtext_df\u001B[0m\u001B[0;34m[\u001B[0m\u001B[0;34m'emb'\u001B[0m\u001B[0;34m]\u001B[0m\u001B[0;34m.\u001B[0m\u001B[0mvalues\u001B[0m\u001B[0;34m)\u001B[0m\u001B[0;34m)\u001B[0m\u001B[0;34m\u001B[0m\u001B[0;34m\u001B[0m\u001B[0m\n\u001B[0m\u001B[1;32m      2\u001B[0m \u001B[0;34m\u001B[0m\u001B[0m\n",
      "\u001B[0;32m/opt/conda/lib/python3.8/site-packages/pandas/core/frame.py\u001B[0m in \u001B[0;36m__init__\u001B[0;34m(self, data, index, columns, dtype, copy)\u001B[0m\n\u001B[1;32m    568\u001B[0m                     \u001B[0;32mif\u001B[0m \u001B[0mis_named_tuple\u001B[0m\u001B[0;34m(\u001B[0m\u001B[0mdata\u001B[0m\u001B[0;34m[\u001B[0m\u001B[0;36m0\u001B[0m\u001B[0;34m]\u001B[0m\u001B[0;34m)\u001B[0m \u001B[0;32mand\u001B[0m \u001B[0mcolumns\u001B[0m \u001B[0;32mis\u001B[0m \u001B[0;32mNone\u001B[0m\u001B[0;34m:\u001B[0m\u001B[0;34m\u001B[0m\u001B[0;34m\u001B[0m\u001B[0m\n\u001B[1;32m    569\u001B[0m                         \u001B[0mcolumns\u001B[0m \u001B[0;34m=\u001B[0m \u001B[0mdata\u001B[0m\u001B[0;34m[\u001B[0m\u001B[0;36m0\u001B[0m\u001B[0;34m]\u001B[0m\u001B[0;34m.\u001B[0m\u001B[0m_fields\u001B[0m\u001B[0;34m\u001B[0m\u001B[0;34m\u001B[0m\u001B[0m\n\u001B[0;32m--> 570\u001B[0;31m                     \u001B[0marrays\u001B[0m\u001B[0;34m,\u001B[0m \u001B[0mcolumns\u001B[0m \u001B[0;34m=\u001B[0m \u001B[0mto_arrays\u001B[0m\u001B[0;34m(\u001B[0m\u001B[0mdata\u001B[0m\u001B[0;34m,\u001B[0m \u001B[0mcolumns\u001B[0m\u001B[0;34m,\u001B[0m \u001B[0mdtype\u001B[0m\u001B[0;34m=\u001B[0m\u001B[0mdtype\u001B[0m\u001B[0;34m)\u001B[0m\u001B[0;34m\u001B[0m\u001B[0;34m\u001B[0m\u001B[0m\n\u001B[0m\u001B[1;32m    571\u001B[0m                     \u001B[0mcolumns\u001B[0m \u001B[0;34m=\u001B[0m \u001B[0mensure_index\u001B[0m\u001B[0;34m(\u001B[0m\u001B[0mcolumns\u001B[0m\u001B[0;34m)\u001B[0m\u001B[0;34m\u001B[0m\u001B[0;34m\u001B[0m\u001B[0m\n\u001B[1;32m    572\u001B[0m \u001B[0;34m\u001B[0m\u001B[0m\n",
      "\u001B[0;32m/opt/conda/lib/python3.8/site-packages/pandas/core/internals/construction.py\u001B[0m in \u001B[0;36mto_arrays\u001B[0;34m(data, columns, coerce_float, dtype)\u001B[0m\n\u001B[1;32m    549\u001B[0m     \u001B[0;32melse\u001B[0m\u001B[0;34m:\u001B[0m\u001B[0;34m\u001B[0m\u001B[0;34m\u001B[0m\u001B[0m\n\u001B[1;32m    550\u001B[0m         \u001B[0;31m# last ditch effort\u001B[0m\u001B[0;34m\u001B[0m\u001B[0;34m\u001B[0m\u001B[0;34m\u001B[0m\u001B[0m\n\u001B[0;32m--> 551\u001B[0;31m         \u001B[0mdata\u001B[0m \u001B[0;34m=\u001B[0m \u001B[0;34m[\u001B[0m\u001B[0mtuple\u001B[0m\u001B[0;34m(\u001B[0m\u001B[0mx\u001B[0m\u001B[0;34m)\u001B[0m \u001B[0;32mfor\u001B[0m \u001B[0mx\u001B[0m \u001B[0;32min\u001B[0m \u001B[0mdata\u001B[0m\u001B[0;34m]\u001B[0m\u001B[0;34m\u001B[0m\u001B[0;34m\u001B[0m\u001B[0m\n\u001B[0m\u001B[1;32m    552\u001B[0m         \u001B[0;32mreturn\u001B[0m \u001B[0m_list_to_arrays\u001B[0m\u001B[0;34m(\u001B[0m\u001B[0mdata\u001B[0m\u001B[0;34m,\u001B[0m \u001B[0mcolumns\u001B[0m\u001B[0;34m,\u001B[0m \u001B[0mcoerce_float\u001B[0m\u001B[0;34m=\u001B[0m\u001B[0mcoerce_float\u001B[0m\u001B[0;34m,\u001B[0m \u001B[0mdtype\u001B[0m\u001B[0;34m=\u001B[0m\u001B[0mdtype\u001B[0m\u001B[0;34m)\u001B[0m\u001B[0;34m\u001B[0m\u001B[0;34m\u001B[0m\u001B[0m\n\u001B[1;32m    553\u001B[0m \u001B[0;34m\u001B[0m\u001B[0m\n",
      "\u001B[0;32m/opt/conda/lib/python3.8/site-packages/pandas/core/internals/construction.py\u001B[0m in \u001B[0;36m<listcomp>\u001B[0;34m(.0)\u001B[0m\n\u001B[1;32m    549\u001B[0m     \u001B[0;32melse\u001B[0m\u001B[0;34m:\u001B[0m\u001B[0;34m\u001B[0m\u001B[0;34m\u001B[0m\u001B[0m\n\u001B[1;32m    550\u001B[0m         \u001B[0;31m# last ditch effort\u001B[0m\u001B[0;34m\u001B[0m\u001B[0;34m\u001B[0m\u001B[0;34m\u001B[0m\u001B[0m\n\u001B[0;32m--> 551\u001B[0;31m         \u001B[0mdata\u001B[0m \u001B[0;34m=\u001B[0m \u001B[0;34m[\u001B[0m\u001B[0mtuple\u001B[0m\u001B[0;34m(\u001B[0m\u001B[0mx\u001B[0m\u001B[0;34m)\u001B[0m \u001B[0;32mfor\u001B[0m \u001B[0mx\u001B[0m \u001B[0;32min\u001B[0m \u001B[0mdata\u001B[0m\u001B[0;34m]\u001B[0m\u001B[0;34m\u001B[0m\u001B[0;34m\u001B[0m\u001B[0m\n\u001B[0m\u001B[1;32m    552\u001B[0m         \u001B[0;32mreturn\u001B[0m \u001B[0m_list_to_arrays\u001B[0m\u001B[0;34m(\u001B[0m\u001B[0mdata\u001B[0m\u001B[0;34m,\u001B[0m \u001B[0mcolumns\u001B[0m\u001B[0;34m,\u001B[0m \u001B[0mcoerce_float\u001B[0m\u001B[0;34m=\u001B[0m\u001B[0mcoerce_float\u001B[0m\u001B[0;34m,\u001B[0m \u001B[0mdtype\u001B[0m\u001B[0;34m=\u001B[0m\u001B[0mdtype\u001B[0m\u001B[0;34m)\u001B[0m\u001B[0;34m\u001B[0m\u001B[0;34m\u001B[0m\u001B[0m\n\u001B[1;32m    553\u001B[0m \u001B[0;34m\u001B[0m\u001B[0m\n",
      "\u001B[0;31mTypeError\u001B[0m: 'numpy.float64' object is not iterable"
     ]
    }
   ],
   "source": [
    "matrix_df = pd.DataFrame(list(text_df['emb'].values))"
   ],
   "metadata": {
    "collapsed": false,
    "pycharm": {
     "name": "#%%\n"
    }
   }
  },
  {
   "cell_type": "code",
   "execution_count": 7,
   "outputs": [
    {
     "ename": "NameError",
     "evalue": "name 'matrix_df' is not defined",
     "output_type": "error",
     "traceback": [
      "\u001B[0;31m---------------------------------------------------------------------------\u001B[0m",
      "\u001B[0;31mNameError\u001B[0m                                 Traceback (most recent call last)",
      "\u001B[0;32m<ipython-input-7-8ce0388582c0>\u001B[0m in \u001B[0;36m<module>\u001B[0;34m\u001B[0m\n\u001B[0;32m----> 1\u001B[0;31m \u001B[0mmatrix_df\u001B[0m\u001B[0;34m\u001B[0m\u001B[0;34m\u001B[0m\u001B[0m\n\u001B[0m\u001B[1;32m      2\u001B[0m \u001B[0;34m\u001B[0m\u001B[0m\n",
      "\u001B[0;31mNameError\u001B[0m: name 'matrix_df' is not defined"
     ]
    }
   ],
   "source": [
    "matrix_df"
   ],
   "metadata": {
    "collapsed": false,
    "pycharm": {
     "name": "#%%\n"
    }
   }
  },
  {
   "cell_type": "markdown",
   "source": [
    "## Enrich dataset with new columns"
   ],
   "metadata": {
    "collapsed": false
   }
  },
  {
   "cell_type": "code",
   "execution_count": null,
   "outputs": [],
   "source": [
    "for new_column in EU_CELLAR_NEW_COLUMNS:\n",
    "    model = get_best_model_from_ml_flow(experiment_ids=[\"1\"], class_name=new_column)\n",
    "    text_df[new_column] = model.predict(list(text_df[\"emb\"]))\n"
   ],
   "metadata": {
    "collapsed": false,
    "pycharm": {
     "name": "#%%\n"
    }
   }
  },
  {
   "cell_type": "markdown",
   "source": [
    "## Show result"
   ],
   "metadata": {
    "collapsed": false
   }
  },
  {
   "cell_type": "code",
   "execution_count": null,
   "outputs": [],
   "source": [
    "text_df[['title'] + EU_CELLAR_NEW_COLUMNS[:]]"
   ],
   "metadata": {
    "collapsed": false,
    "pycharm": {
     "name": "#%%\n"
    }
   }
  },
  {
   "cell_type": "markdown",
   "source": [
    "## Analyse results"
   ],
   "metadata": {
    "collapsed": false
   }
  },
  {
   "cell_type": "code",
   "execution_count": null,
   "outputs": [],
   "source": [
    "for new_column in EU_CELLAR_NEW_COLUMNS:\n",
    "    n_poz = len(text_df[text_df[new_column] == 1])\n",
    "    n_total = len(text_df)\n",
    "    n_neg = n_total - n_poz\n",
    "    print(f\"{new_column}: n_neg = {round(n_neg / n_total, 2)}, n_poz = {round(n_poz / n_total, 2)}\")\n",
    "\n"
   ],
   "metadata": {
    "collapsed": false,
    "pycharm": {
     "name": "#%%\n"
    }
   }
  }
 ],
 "metadata": {
  "kernelspec": {
   "display_name": "Python 3",
   "language": "python",
   "name": "python3"
  },
  "language_info": {
   "codemirror_mode": {
    "name": "ipython",
    "version": 2
   },
   "file_extension": ".py",
   "mimetype": "text/x-python",
   "name": "python",
   "nbconvert_exporter": "python",
   "pygments_lexer": "ipython2",
   "version": "2.7.6"
  }
 },
 "nbformat": 4,
 "nbformat_minor": 0
}