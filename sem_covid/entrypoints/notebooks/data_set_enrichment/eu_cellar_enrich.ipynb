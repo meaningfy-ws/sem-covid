{
 "cells": [
  {
   "cell_type": "markdown",
   "metadata": {
    "collapsed": true,
    "pycharm": {
     "name": "#%% md\n"
    }
   },
   "source": [
    "## Import dependencies"
   ]
  },
  {
   "cell_type": "code",
   "execution_count": 1,
   "outputs": [],
   "source": [
    "import sys\n",
    "import os\n",
    "\n",
    "sys.path.append(\"/home/jovyan/work/sem-covid/\")\n",
    "sys.path = list(set(sys.path))\n",
    "os.getcwd()\n",
    "os.chdir('/home/jovyan/work/sem-covid/')\n",
    "\n",
    "import numpy as np\n",
    "from gensim.models import KeyedVectors\n",
    "\n",
    "from pycaret.classification import predict_model\n",
    "from sem_covid.services.model_registry import ClassificationModel\n",
    "from sem_covid.services.store_registry import StoreRegistry\n",
    "from sem_covid.services.data_registry import Dataset, LanguageModel\n",
    "from sem_covid.services.sc_wrangling.mean_vectorizer import text_to_vector\n",
    "import pandas as pd\n",
    "import regex as re\n",
    "from pysummarization.nlpbase.auto_abstractor import AutoAbstractor\n",
    "from pysummarization.tokenizabledoc.simple_tokenizer import SimpleTokenizer\n",
    "from pysummarization.abstractabledoc.top_n_rank_abstractor import TopNRankAbstractor\n",
    "\n",
    "from sem_covid.services.sc_wrangling.data_cleaning import clean_fix_unicode, clean_to_ascii, clean_to_lower,\\\n",
    "        clean_remove_stopwords, clean_remove_line_breaks, clean_remove_urls, clean_remove_emails"
   ],
   "metadata": {
    "collapsed": false,
    "pycharm": {
     "name": "#%%\n"
    }
   }
  },
  {
   "cell_type": "markdown",
   "source": [
    "## Define consts"
   ],
   "metadata": {
    "collapsed": false
   }
  },
  {
   "cell_type": "code",
   "execution_count": 5,
   "outputs": [],
   "source": [
    "EU_CELLAR_TEXT_COLUMNS = ['title']#, 'content']\n",
    "\n",
    "EU_CELLAR_NEW_COLUMNS = ['businesses', 'citizens', 'workers']"
   ],
   "metadata": {
    "collapsed": false,
    "pycharm": {
     "name": "#%%\n"
    }
   }
  },
  {
   "cell_type": "markdown",
   "source": [
    "## Load dataset and language model"
   ],
   "metadata": {
    "collapsed": false
   }
  },
  {
   "cell_type": "code",
   "execution_count": 3,
   "outputs": [
    {
     "name": "stderr",
     "output_type": "stream",
     "text": [
      "100% (9792 of 9792) |####################| Elapsed Time: 0:00:37 Time:  0:00:37\n"
     ]
    }
   ],
   "source": [
    "df = Dataset.EU_CELLAR.fetch()"
   ],
   "metadata": {
    "collapsed": false,
    "pycharm": {
     "name": "#%%\n"
    }
   }
  },
  {
   "cell_type": "code",
   "execution_count": 4,
   "outputs": [],
   "source": [
    "law2vec = LanguageModel.LAW2VEC.fetch()\n",
    "law2vec_path = LanguageModel.LAW2VEC.path_to_local_cache()\n",
    "l2v_dict = KeyedVectors.load_word2vec_format(law2vec_path, encoding=\"utf-8\")"
   ],
   "metadata": {
    "collapsed": false,
    "pycharm": {
     "name": "#%%\n"
    }
   }
  },
  {
   "cell_type": "markdown",
   "source": [
    "## Prepare dataset"
   ],
   "metadata": {
    "collapsed": false
   }
  },
  {
   "cell_type": "code",
   "execution_count": 71,
   "outputs": [],
   "source": [
    "def clean_pipeline(document: str) -> str:\n",
    "    document = clean_fix_unicode(document)\n",
    "    document = clean_to_ascii(document)\n",
    "    document = clean_to_lower(document)\n",
    "    document = clean_remove_line_breaks(document)\n",
    "    document = clean_remove_urls(document, replace_with='')\n",
    "    document = clean_remove_emails(document, replace_with='')\n",
    "    document = clean_remove_stopwords(document)\n",
    "    return document"
   ],
   "metadata": {
    "collapsed": false,
    "pycharm": {
     "name": "#%%\n"
    }
   }
  },
  {
   "cell_type": "code",
   "execution_count": 72,
   "outputs": [
    {
     "name": "stdout",
     "output_type": "stream",
     "text": [
      "Text length before cleaning : 1077670023\n",
      "Text length after cleaning : 724122960\n"
     ]
    }
   ],
   "source": [
    "print(\"Text length before cleaning :\", df['content'].str.len().sum())\n",
    "df['content'] = df['content'].apply(lambda x: clean_pipeline(str(x)))\n",
    "df['content'] = df['content'].str.replace('\\n', '')\n",
    "df['content'] = df['content'].str.replace('\\t', '')\n",
    "df['content'] = df['content'].apply(lambda x: re.sub(' +', ' ', str(x)))\n",
    "print(\"Text length after cleaning :\", df['content'].str.len().sum())"
   ],
   "metadata": {
    "collapsed": false,
    "pycharm": {
     "name": "#%%\n"
    }
   }
  },
  {
   "cell_type": "code",
   "execution_count": 35,
   "outputs": [],
   "source": [
    "auto_abstractor = AutoAbstractor()\n",
    "auto_abstractor.tokenizable_doc = SimpleTokenizer()\n",
    "auto_abstractor.delimiter_list = [\".\", \"\\n\"]\n",
    "abstractable_doc = TopNRankAbstractor()"
   ],
   "metadata": {
    "collapsed": false,
    "pycharm": {
     "name": "#%%\n"
    }
   }
  },
  {
   "cell_type": "code",
   "execution_count": null,
   "outputs": [],
   "source": [
    "df['content'] = df['content'].apply(\n",
    "    lambda x: ' '.join(auto_abstractor.summarize(str(x), abstractable_doc)[\"summarize_result\"]))"
   ],
   "metadata": {
    "collapsed": false,
    "pycharm": {
     "name": "#%%\n"
    }
   }
  },
  {
   "cell_type": "code",
   "execution_count": 6,
   "outputs": [],
   "source": [
    "text_df = pd.DataFrame(df[EU_CELLAR_TEXT_COLUMNS])\n",
    "text_df.replace(np.nan, '', regex=True, inplace=True)\n",
    "text_df['text'] = text_df.agg(' '.join, axis=1)\n",
    "text_df.reset_index(drop=True, inplace=True)"
   ],
   "metadata": {
    "collapsed": false,
    "pycharm": {
     "name": "#%%\n"
    }
   }
  },
  {
   "cell_type": "code",
   "execution_count": 6,
   "outputs": [
    {
     "data": {
      "text/plain": "0               Lighten the load : healthy workplaces.\n1    Executive summary of the opinion ethics of gen...\n2    European research on environment and health : ...\n3    Opinion No 6/2020 (pursuant to Article 287(4) ...\n4    Case T-718/20: Action brought on 5 December 20...\nName: text, dtype: object"
     },
     "execution_count": 6,
     "metadata": {},
     "output_type": "execute_result"
    }
   ],
   "source": [
    "text_df['text'].head(5)"
   ],
   "metadata": {
    "collapsed": false,
    "pycharm": {
     "name": "#%%\n"
    }
   }
  },
  {
   "cell_type": "code",
   "execution_count": null,
   "outputs": [],
   "source": [
    "text_df['text'].str.len().sum()"
   ],
   "metadata": {
    "collapsed": false,
    "pycharm": {
     "name": "#%%\n"
    }
   }
  },
  {
   "cell_type": "code",
   "execution_count": 8,
   "outputs": [
    {
     "name": "stderr",
     "output_type": "stream",
     "text": [
      "<>:1: DeprecationWarning: invalid escape sequence \\W\n",
      "<>:1: DeprecationWarning: invalid escape sequence \\W\n",
      "<ipython-input-8-b027d8afe69a>:1: DeprecationWarning: invalid escape sequence \\W\n",
      "  text_df['text'].apply(lambda x: ' '.join(re.split('\\W+', x))).str.len().sum()\n"
     ]
    },
    {
     "data": {
      "text/plain": "1509473"
     },
     "execution_count": 8,
     "metadata": {},
     "output_type": "execute_result"
    }
   ],
   "source": [
    "text_df['text'].apply(lambda x: ' '.join(re.split('\\W+', x))).str.len().sum()"
   ],
   "metadata": {
    "collapsed": false,
    "pycharm": {
     "name": "#%%\n"
    }
   }
  },
  {
   "cell_type": "code",
   "execution_count": 7,
   "outputs": [],
   "source": [
    "text_df[\"emb\"] = text_df[\"text\"].apply(lambda x: text_to_vector(x,l2v_dict))"
   ],
   "metadata": {
    "collapsed": false,
    "pycharm": {
     "name": "#%%\n"
    }
   }
  },
  {
   "cell_type": "markdown",
   "source": [
    "## Enrich dataset with new columns"
   ],
   "metadata": {
    "collapsed": false
   }
  },
  {
   "cell_type": "code",
   "execution_count": 8,
   "outputs": [],
   "source": [
    "matrix_df = pd.DataFrame(list(text_df['emb'].values))\n",
    "enriched_df = df\n",
    "for new_column in EU_CELLAR_NEW_COLUMNS:\n",
    "    dataset = matrix_df\n",
    "    dataset[new_column] = \"no_data\"\n",
    "    model = ClassificationModel.pwdb_by_class_name(class_name=new_column)\n",
    "    predicted_df = predict_model(model, data=matrix_df)\n",
    "    text_df[new_column] = predicted_df['Label']\n",
    "    enriched_df[new_column] = predicted_df['Label']"
   ],
   "metadata": {
    "collapsed": false,
    "pycharm": {
     "name": "#%%\n"
    }
   }
  },
  {
   "cell_type": "markdown",
   "source": [
    "## Show result"
   ],
   "metadata": {
    "collapsed": false
   }
  },
  {
   "cell_type": "code",
   "execution_count": 10,
   "outputs": [
    {
     "data": {
      "text/plain": "                                                  title  businesses  citizens  \\\n0                Lighten the load : healthy workplaces.           1         1   \n1     Executive summary of the opinion ethics of gen...           1         0   \n2     European research on environment and health : ...           1         0   \n3     Opinion No 6/2020 (pursuant to Article 287(4) ...           0         0   \n4     Case T-718/20: Action brought on 5 December 20...           0         0   \n...                                                 ...         ...       ...   \n9787          2018-3 CEF telecom : calls for proposals.           1         0   \n9788          Lebanese Hezbollah’s experience in Syria.           0         0   \n9789  Application Programming Interfaces in governme...           0         0   \n9790  The SME instrument in action : an effective an...           0         0   \n9791  Prospective report on the future of social inn...           0         0   \n\n      workers  \n0           0  \n1           0  \n2           0  \n3           0  \n4           0  \n...       ...  \n9787        0  \n9788        1  \n9789        0  \n9790        0  \n9791        1  \n\n[9792 rows x 4 columns]",
      "text/html": "<div>\n<style scoped>\n    .dataframe tbody tr th:only-of-type {\n        vertical-align: middle;\n    }\n\n    .dataframe tbody tr th {\n        vertical-align: top;\n    }\n\n    .dataframe thead th {\n        text-align: right;\n    }\n</style>\n<table border=\"1\" class=\"dataframe\">\n  <thead>\n    <tr style=\"text-align: right;\">\n      <th></th>\n      <th>title</th>\n      <th>businesses</th>\n      <th>citizens</th>\n      <th>workers</th>\n    </tr>\n  </thead>\n  <tbody>\n    <tr>\n      <th>0</th>\n      <td>Lighten the load : healthy workplaces.</td>\n      <td>1</td>\n      <td>1</td>\n      <td>0</td>\n    </tr>\n    <tr>\n      <th>1</th>\n      <td>Executive summary of the opinion ethics of gen...</td>\n      <td>1</td>\n      <td>0</td>\n      <td>0</td>\n    </tr>\n    <tr>\n      <th>2</th>\n      <td>European research on environment and health : ...</td>\n      <td>1</td>\n      <td>0</td>\n      <td>0</td>\n    </tr>\n    <tr>\n      <th>3</th>\n      <td>Opinion No 6/2020 (pursuant to Article 287(4) ...</td>\n      <td>0</td>\n      <td>0</td>\n      <td>0</td>\n    </tr>\n    <tr>\n      <th>4</th>\n      <td>Case T-718/20: Action brought on 5 December 20...</td>\n      <td>0</td>\n      <td>0</td>\n      <td>0</td>\n    </tr>\n    <tr>\n      <th>...</th>\n      <td>...</td>\n      <td>...</td>\n      <td>...</td>\n      <td>...</td>\n    </tr>\n    <tr>\n      <th>9787</th>\n      <td>2018-3 CEF telecom : calls for proposals.</td>\n      <td>1</td>\n      <td>0</td>\n      <td>0</td>\n    </tr>\n    <tr>\n      <th>9788</th>\n      <td>Lebanese Hezbollah’s experience in Syria.</td>\n      <td>0</td>\n      <td>0</td>\n      <td>1</td>\n    </tr>\n    <tr>\n      <th>9789</th>\n      <td>Application Programming Interfaces in governme...</td>\n      <td>0</td>\n      <td>0</td>\n      <td>0</td>\n    </tr>\n    <tr>\n      <th>9790</th>\n      <td>The SME instrument in action : an effective an...</td>\n      <td>0</td>\n      <td>0</td>\n      <td>0</td>\n    </tr>\n    <tr>\n      <th>9791</th>\n      <td>Prospective report on the future of social inn...</td>\n      <td>0</td>\n      <td>0</td>\n      <td>1</td>\n    </tr>\n  </tbody>\n</table>\n<p>9792 rows × 4 columns</p>\n</div>"
     },
     "execution_count": 10,
     "metadata": {},
     "output_type": "execute_result"
    }
   ],
   "source": [
    "text_df[['title']+EU_CELLAR_NEW_COLUMNS[:]]"
   ],
   "metadata": {
    "collapsed": false,
    "pycharm": {
     "name": "#%%\n"
    }
   }
  },
  {
   "cell_type": "markdown",
   "source": [
    "## Analyse results"
   ],
   "metadata": {
    "collapsed": false
   }
  },
  {
   "cell_type": "code",
   "execution_count": 11,
   "outputs": [
    {
     "name": "stdout",
     "output_type": "stream",
     "text": [
      "businesses: n_neg = 0.71, n_poz = 0.29\n",
      "citizens: n_neg = 0.9, n_poz = 0.1\n",
      "workers: n_neg = 0.91, n_poz = 0.09\n"
     ]
    }
   ],
   "source": [
    "for new_column in EU_CELLAR_NEW_COLUMNS:\n",
    "    n_poz = len(text_df[text_df[new_column]==1])\n",
    "    n_total = len(text_df)\n",
    "    n_neg = n_total - n_poz\n",
    "    print(f\"{new_column}: n_neg = {round(n_neg/n_total,2)}, n_poz = {round(n_poz/n_total,2)}\")"
   ],
   "metadata": {
    "collapsed": false,
    "pycharm": {
     "name": "#%%\n"
    }
   }
  },
  {
   "cell_type": "markdown",
   "source": [
    "## Save enriched dataset"
   ],
   "metadata": {
    "collapsed": false
   }
  },
  {
   "cell_type": "code",
   "execution_count": 12,
   "outputs": [
    {
     "name": "stderr",
     "output_type": "stream",
     "text": [
      " 98% (9667 of 9792) |################### | Elapsed Time: 0:00:49 ETA:   0:00:14"
     ]
    },
    {
     "data": {
      "text/plain": "9792"
     },
     "execution_count": 12,
     "metadata": {},
     "output_type": "execute_result"
    }
   ],
   "source": [
    "es_store = StoreRegistry.es_index_store()\n",
    "es_store.put_dataframe(index_name='ds_eu_cellar_enriched',content= enriched_df)"
   ],
   "metadata": {
    "collapsed": false,
    "pycharm": {
     "name": "#%%\n"
    }
   }
  }
 ],
 "metadata": {
  "kernelspec": {
   "display_name": "Python 3",
   "language": "python",
   "name": "python3"
  },
  "language_info": {
   "codemirror_mode": {
    "name": "ipython",
    "version": 2
   },
   "file_extension": ".py",
   "mimetype": "text/x-python",
   "name": "python",
   "nbconvert_exporter": "python",
   "pygments_lexer": "ipython2",
   "version": "2.7.6"
  }
 },
 "nbformat": 4,
 "nbformat_minor": 0
}