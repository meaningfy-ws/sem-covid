{
 "cells": [
  {
   "cell_type": "markdown",
   "source": [
    "# This is a POC notebook:\n",
    "#### The purpose of this notebook is to perform document embedding using the weighted average of the embedding at the sentence level."
   ],
   "metadata": {
    "collapsed": false,
    "pycharm": {
     "name": "#%% md\n"
    }
   }
  },
  {
   "cell_type": "markdown",
   "source": [
    "## Import libraries"
   ],
   "metadata": {
    "collapsed": false,
    "pycharm": {
     "name": "#%% md\n"
    }
   }
  },
  {
   "cell_type": "code",
   "execution_count": 23,
   "outputs": [],
   "source": [
    "import sys\n",
    "\n",
    "sys.path.append(\"/home/jovyan/work/sem-covid/\")\n",
    "sys.path = list(set(sys.path))\n",
    "import os\n",
    "\n",
    "os.getcwd()\n",
    "os.chdir('/home/jovyan/work/sem-covid/')\n",
    "\n",
    "from sem_covid.services.data_registry import Dataset\n",
    "from sem_covid.services.model_registry import EmbeddingModelRegistry\n",
    "import numpy as np\n",
    "from sem_covid.services.sc_wrangling.sentences_ranker import textual_tfidf_ranker"
   ],
   "metadata": {
    "collapsed": false,
    "pycharm": {
     "name": "#%%\n"
    }
   }
  },
  {
   "cell_type": "markdown",
   "source": [
    "## Download textual dataset"
   ],
   "metadata": {
    "collapsed": false,
    "pycharm": {
     "name": "#%% md\n"
    }
   }
  },
  {
   "cell_type": "code",
   "execution_count": 24,
   "outputs": [
    {
     "name": "stderr",
     "output_type": "stream",
     "text": [
      "100% (1368 of 1368) |####################| Elapsed Time: 0:00:00 Time:  0:00:00\n"
     ]
    }
   ],
   "source": [
    "pwdb = Dataset.PWDB.fetch()[['background_info_description', 'content_of_measure_description']]"
   ],
   "metadata": {
    "collapsed": false,
    "pycharm": {
     "name": "#%%\n"
    }
   }
  },
  {
   "cell_type": "markdown",
   "source": [
    "## Select document"
   ],
   "metadata": {
    "collapsed": false,
    "pycharm": {
     "name": "#%% md\n"
    }
   }
  },
  {
   "cell_type": "code",
   "execution_count": 4,
   "outputs": [],
   "source": [
    "document = pwdb['content_of_measure_description'][0]"
   ],
   "metadata": {
    "collapsed": false,
    "pycharm": {
     "name": "#%%\n"
    }
   }
  },
  {
   "cell_type": "markdown",
   "source": [
    "## Split in sentences"
   ],
   "metadata": {
    "collapsed": false,
    "pycharm": {
     "name": "#%% md\n"
    }
   }
  },
  {
   "cell_type": "code",
   "execution_count": 5,
   "outputs": [],
   "source": [
    "sentences = document.split('.')"
   ],
   "metadata": {
    "collapsed": false,
    "pycharm": {
     "name": "#%%\n"
    }
   }
  },
  {
   "cell_type": "markdown",
   "source": [
    "## Compute sentences weights"
   ],
   "metadata": {
    "collapsed": false,
    "pycharm": {
     "name": "#%% md\n"
    }
   }
  },
  {
   "cell_type": "code",
   "execution_count": 6,
   "outputs": [],
   "source": [
    "sentence_weights = textual_tfidf_ranker(sentences, top_k=10)"
   ],
   "metadata": {
    "collapsed": false,
    "pycharm": {
     "name": "#%%\n"
    }
   }
  },
  {
   "cell_type": "markdown",
   "source": [
    "## Load embedding model"
   ],
   "metadata": {
    "collapsed": false,
    "pycharm": {
     "name": "#%% md\n"
    }
   }
  },
  {
   "cell_type": "code",
   "execution_count": 7,
   "outputs": [
    {
     "name": "stderr",
     "output_type": "stream",
     "text": [
      "INFO:absl:Using /tmp/tfhub_modules to cache modules.\n",
      "2021-09-07 14:21:39.654981: W tensorflow/stream_executor/platform/default/dso_loader.cc:64] Could not load dynamic library 'libcuda.so.1'; dlerror: libcuda.so.1: cannot open shared object file: No such file or directory\n",
      "2021-09-07 14:21:39.655002: W tensorflow/stream_executor/cuda/cuda_driver.cc:326] failed call to cuInit: UNKNOWN ERROR (303)\n",
      "2021-09-07 14:21:39.655021: I tensorflow/stream_executor/cuda/cuda_diagnostics.cc:156] kernel driver does not appear to be running on this host (c004c8213d64): /proc/driver/nvidia/version does not exist\n",
      "2021-09-07 14:21:39.655134: I tensorflow/core/platform/cpu_feature_guard.cc:142] This TensorFlow binary is optimized with oneAPI Deep Neural Network Library (oneDNN) to use the following CPU instructions in performance-critical operations:  AVX2 FMA\n",
      "To enable them in other operations, rebuild TensorFlow with the appropriate compiler flags.\n",
      "2021-09-07 14:21:41.174374: I tensorflow/compiler/mlir/mlir_graph_optimization_pass.cc:176] None of the MLIR Optimization Passes are enabled (registered 2)\n",
      "2021-09-07 14:21:41.368109: I tensorflow/core/platform/profile_utils/cpu_utils.cc:114] CPU Frequency: 3593205000 Hz\n"
     ]
    }
   ],
   "source": [
    "emb_model = EmbeddingModelRegistry().sent2vec_universal_sent_encoding()"
   ],
   "metadata": {
    "collapsed": false,
    "pycharm": {
     "name": "#%%\n"
    }
   }
  },
  {
   "cell_type": "markdown",
   "source": [
    "## Compute embeddings for sentences"
   ],
   "metadata": {
    "collapsed": false,
    "pycharm": {
     "name": "#%% md\n"
    }
   }
  },
  {
   "cell_type": "code",
   "execution_count": 8,
   "outputs": [],
   "source": [
    "sentence_embeddings = emb_model.encode(sentences)"
   ],
   "metadata": {
    "collapsed": false,
    "pycharm": {
     "name": "#%%\n"
    }
   }
  },
  {
   "cell_type": "markdown",
   "source": [
    "## Compute weighted embedding for initial document"
   ],
   "metadata": {
    "collapsed": false,
    "pycharm": {
     "name": "#%% md\n"
    }
   }
  },
  {
   "cell_type": "code",
   "execution_count": 9,
   "outputs": [],
   "source": [
    "document_embedding = np.average(sentence_embeddings, axis=0, weights=sentence_weights)"
   ],
   "metadata": {
    "collapsed": false,
    "pycharm": {
     "name": "#%%\n"
    }
   }
  },
  {
   "cell_type": "markdown",
   "source": [
    "## Show document embedding and check vector dimension"
   ],
   "metadata": {
    "collapsed": false,
    "pycharm": {
     "name": "#%% md\n"
    }
   }
  },
  {
   "cell_type": "code",
   "execution_count": 10,
   "outputs": [
    {
     "data": {
      "text/plain": "array([-1.93257768e-02, -1.40374574e-02,  2.06236099e-02,  1.38837699e-02,\n        1.65766544e-02, -1.95122308e-03, -1.85330101e-03, -9.71754352e-03,\n        4.45727734e-02, -5.61452577e-02, -3.05634340e-02,  2.47388971e-02,\n       -2.50115270e-02,  1.20743941e-02, -1.82846570e-03, -1.84467986e-02,\n       -3.58205181e-02,  2.33170658e-02, -1.24824259e-02,  2.34369861e-02,\n       -4.50854156e-02, -1.53129495e-03,  3.10274502e-02,  1.20375021e-02,\n        1.63653498e-02,  5.44248223e-02, -5.74489471e-02,  1.89698847e-02,\n       -1.18967976e-02, -1.50139499e-04,  2.22514893e-02,  6.14701657e-03,\n        2.88664795e-02,  2.82122060e-02, -3.03304515e-02, -2.34066825e-02,\n        2.08173459e-02, -2.62518656e-02,  6.31360541e-03, -3.17640993e-02,\n       -1.34031136e-02, -1.13748790e-03, -1.75902641e-02,  1.57720214e-02,\n        2.76829824e-03,  3.60610125e-03,  3.04531006e-02,  2.25567331e-02,\n        1.34938536e-03, -2.52939031e-02, -2.91051485e-02,  2.09360992e-02,\n       -3.56091379e-03,  2.66425503e-03,  4.11111622e-02, -2.79679225e-03,\n       -1.62685879e-02,  3.03929931e-02,  3.07790101e-02, -5.60112015e-03,\n        1.26660315e-02,  3.63852731e-03, -7.61812297e-03, -1.91803134e-02,\n       -1.96141843e-02, -2.41991074e-02, -2.02631100e-02, -2.15038946e-03,\n        5.82632323e-03,  6.14555455e-03,  2.25855048e-03, -2.61937986e-02,\n        1.41489272e-02,  7.93195392e-03,  2.54479661e-04, -4.91456656e-02,\n        9.80645488e-04, -1.13291434e-02, -6.93628786e-03,  2.87466087e-02,\n        7.40534273e-03,  2.23420751e-02, -1.37324083e-02, -1.45318715e-02,\n        9.98274325e-04, -1.05427620e-02, -1.55612579e-02,  2.06694718e-02,\n        6.22581282e-04, -1.49715037e-02,  3.73002163e-04,  1.13525423e-02,\n       -1.79396006e-02,  8.45344023e-03,  1.82410619e-02, -2.25979826e-03,\n        4.94156254e-03, -3.88855181e-02, -9.40372746e-03, -2.92028114e-02,\n       -3.42160115e-02,  6.23934041e-03, -2.00789937e-02,  5.58530304e-03,\n       -6.06896045e-02, -2.77209137e-02, -1.03564080e-02,  6.15409366e-03,\n       -1.04714887e-02, -1.79185262e-02,  1.95310119e-03,  8.32391107e-03,\n        7.55043443e-03,  9.93217804e-03, -4.39092134e-03,  4.62752369e-04,\n        5.33476903e-03,  1.34095460e-02, -5.51194365e-04, -2.57211346e-02,\n        2.47926942e-03,  2.10234982e-02,  2.02178947e-02, -9.67138647e-03,\n       -1.35437357e-02, -2.95774914e-03, -1.22959056e-02,  4.53806392e-02,\n        1.30054943e-02,  7.58790920e-03, -6.13873263e-02, -3.83649330e-02,\n        2.50890049e-02, -1.74285467e-02, -2.17834445e-02, -8.90232609e-03,\n        1.45946182e-03, -8.88971391e-03, -7.49227857e-03,  1.64173242e-02,\n       -3.64323942e-02, -3.25995718e-03,  6.53476042e-03, -2.40875827e-02,\n       -4.26668576e-02, -3.80685998e-02, -1.49667523e-02, -6.53508195e-03,\n       -5.57026422e-02,  1.03785228e-03, -4.90303721e-03,  5.34115584e-02,\n        5.45198309e-04,  1.30436290e-02, -3.00171668e-02,  7.79429509e-03,\n       -6.03569304e-03,  3.50972352e-02, -2.55956130e-02, -4.88764573e-02,\n       -2.79911441e-03, -8.30077573e-03, -1.20352985e-02, -2.18059993e-02,\n       -3.57689596e-02, -3.56731379e-02,  2.82564262e-02,  6.58374214e-04,\n        2.34610965e-02, -3.94126935e-02,  3.60970690e-02, -2.51619562e-02,\n       -4.27930099e-02,  1.74965532e-02,  3.98017389e-03, -2.50405623e-02,\n        2.49773782e-02, -3.81797201e-02, -4.26985622e-02, -8.09973439e-03,\n       -1.35156573e-02,  1.66822585e-02,  8.48683030e-03, -2.34963246e-03,\n        4.85233876e-02, -1.84356520e-02, -3.99457911e-03,  1.13424261e-02,\n       -2.07430906e-02, -2.96733964e-02, -5.61014260e-03, -2.88232938e-02,\n        1.80472291e-02,  3.81036716e-02, -1.75709179e-03,  3.85452508e-03,\n       -1.50517618e-02,  1.27444868e-02, -2.93512143e-02,  2.93133060e-02,\n        1.54175108e-02,  1.15399531e-02,  1.38488408e-02,  1.26584413e-02,\n        3.71905000e-02,  2.00589261e-02,  1.77966752e-03,  1.01984141e-02,\n        5.07630677e-02, -2.45449749e-02, -2.90303687e-03,  6.76070506e-02,\n       -2.17507294e-02, -1.25057908e-02, -4.24754413e-02, -1.50403341e-02,\n        1.39749664e-02, -1.02242650e-02, -2.48074263e-02,  6.99781419e-04,\n        2.08474123e-02,  3.34358669e-03, -5.06551338e-02, -7.08807463e-03,\n        2.56772381e-02, -1.12181930e-02, -6.98630828e-03, -6.73861297e-03,\n        3.24683691e-02,  2.98075597e-02,  2.97767312e-02,  2.79492126e-02,\n        1.14317598e-02, -7.25486468e-02,  4.13848657e-03, -2.46909554e-03,\n        4.04019943e-02,  1.35655949e-02, -2.69447042e-02,  8.54833885e-04,\n        2.73403965e-02,  2.56359962e-02, -3.23559235e-03, -2.65955754e-02,\n        1.96150827e-02, -3.05331201e-02,  1.04565862e-02, -1.36168475e-03,\n       -2.09490625e-02, -3.62663481e-02,  4.84991539e-02,  3.06314909e-02,\n        1.35061185e-02,  2.00287873e-02, -1.91715563e-02,  1.67705385e-02,\n        2.37865272e-02,  3.05262137e-02,  1.23298599e-02,  7.44523964e-02,\n       -2.69151782e-02,  2.57756289e-02,  1.17963487e-02,  1.88973183e-02,\n       -6.72339251e-03,  1.30812392e-02, -5.29129691e-02,  4.95355649e-04,\n        1.02288089e-02,  1.18932490e-02, -8.00759297e-03,  3.02007588e-03,\n       -5.90618853e-03,  1.37205714e-02,  4.06119300e-03, -2.13710687e-02,\n        1.26877948e-02,  1.24162519e-03,  2.48982061e-02, -3.44928107e-02,\n        6.11999491e-02, -4.34838451e-03,  4.31330093e-04,  8.67267817e-03,\n        5.50047663e-02,  1.56477858e-03,  1.37788855e-02, -1.59178046e-02,\n       -2.50994703e-02,  2.87161820e-03, -8.15635726e-03, -5.18159870e-02,\n        2.15489874e-02,  2.70407870e-02, -4.25706937e-02, -2.20324324e-03,\n       -2.16269469e-02, -3.23958397e-03,  3.38395331e-02,  1.80765197e-02,\n        2.24003778e-02,  4.82940454e-02, -4.47658943e-03, -2.69833319e-02,\n       -8.22639137e-05,  1.94503181e-02,  1.81494854e-02,  1.46414257e-02,\n        3.32416051e-02,  2.35197027e-02,  3.66384294e-02, -2.55163715e-02,\n        3.00297830e-02, -5.81315507e-03, -1.97750512e-02,  3.26593194e-03,\n        1.04145075e-02, -2.45424707e-02, -8.87820226e-03, -4.91744883e-02,\n       -1.86749316e-02, -2.25757873e-02,  2.47807676e-02, -1.10175016e-02,\n        1.07776302e-02, -1.20294635e-02, -9.81949501e-03, -7.75018711e-03,\n       -6.73652226e-02, -1.26777884e-02,  2.28273226e-02,  1.99223786e-02,\n        8.56666948e-03,  1.02933854e-02,  2.81761767e-02, -1.68423686e-04,\n        2.58019184e-02, -6.37025355e-03,  2.88257829e-02,  5.28788496e-04,\n        9.96840735e-03,  1.39466709e-02,  4.43264735e-02,  4.34516998e-02,\n        8.72253181e-04,  1.04207869e-02, -1.12932782e-02, -2.65799324e-02,\n       -4.36301579e-02, -7.67069104e-04,  3.65553154e-03, -1.62361325e-02,\n       -5.18116468e-03, -1.05098670e-02, -8.33660747e-02, -7.48517156e-02,\n       -4.50006807e-02, -1.86051449e-03,  1.82935112e-02, -1.10066216e-02,\n       -1.66576305e-02,  2.54804461e-02, -1.23443848e-02,  1.33859160e-02,\n        2.64593431e-03, -9.19772551e-03,  1.84616975e-02,  1.49566341e-04,\n        8.55378270e-03,  3.70183597e-02, -2.31850497e-03,  2.32735137e-02,\n        1.19973949e-03, -2.13990073e-03,  9.59950138e-03, -3.92204031e-02,\n       -1.52736342e-02, -1.84777077e-02, -1.12587319e-02, -2.87447037e-02,\n        3.49954353e-02,  7.13291925e-03, -5.12222876e-02,  1.34670737e-02,\n        3.31596280e-02,  1.09105221e-02, -2.97263935e-02,  2.60688106e-02,\n        3.04355134e-02,  3.99931964e-02, -9.39436054e-03,  2.68611288e-02,\n        1.03280192e-02, -4.46928711e-02, -2.40089705e-02, -2.31477548e-02,\n        4.95114441e-03,  1.76471219e-02, -1.59211229e-02,  1.54155558e-02,\n       -1.79772124e-03, -8.95870571e-04,  1.71264545e-02,  4.73251970e-03,\n       -5.20734916e-02, -6.18852450e-03, -3.14110617e-02, -9.59620871e-03,\n       -1.10834068e-02,  9.76457690e-03,  8.61155959e-03,  3.00970759e-02,\n        3.78861642e-03, -2.26302932e-02,  2.26984679e-03,  8.91785607e-03,\n        2.99633563e-02,  8.02877772e-03, -4.12031776e-02,  1.23794305e-03,\n       -9.08466774e-03,  3.69937180e-02,  1.04790545e-02, -6.31848446e-03,\n       -1.20596460e-02, -7.56604978e-04,  2.07379661e-02,  7.19993794e-03,\n       -2.09210003e-02, -1.11591953e-02,  3.08725106e-02,  5.27131254e-03,\n       -1.93770021e-02,  5.99701204e-02,  1.76597345e-04, -1.53806954e-02,\n        1.18776587e-02,  5.86032557e-03, -2.83172636e-02,  2.39584422e-02,\n       -2.40744348e-02, -3.02398807e-02,  2.54427834e-02,  2.81090247e-02,\n       -5.95864750e-02,  6.51341988e-03, -3.26823023e-02, -4.11804466e-02,\n        7.97091819e-03,  2.61129510e-02,  5.57717992e-03,  1.22387943e-02,\n       -3.53268601e-03, -2.62341015e-02,  3.72962438e-02, -1.32710584e-02,\n        1.53853283e-02,  2.57197055e-03,  1.68334621e-02,  6.25342535e-03,\n        5.34445727e-03, -6.22109565e-03, -8.82588707e-03,  1.60830062e-04,\n       -1.45011390e-02,  1.93261133e-02,  2.14574374e-02,  3.63404274e-02,\n       -6.74210977e-03, -5.39071870e-02, -2.87848225e-02, -1.37458061e-02,\n       -5.46933700e-03, -3.43177941e-02,  3.82887532e-02, -2.08644208e-02,\n       -1.08515008e-02, -6.87987237e-02,  2.90778765e-02,  4.58374939e-02,\n       -1.25563725e-02,  1.46527137e-02, -1.80136516e-02, -1.06964545e-02,\n       -8.16122302e-03,  6.64561742e-03,  2.80307506e-03, -4.18307519e-02,\n       -3.42736030e-02, -7.02516618e-03,  5.86585241e-02, -1.00888036e-02,\n       -1.95220249e-02, -2.51341877e-02, -3.87606211e-03, -1.34656795e-02,\n       -7.88964461e-03, -4.09409069e-02, -1.69138152e-02,  1.45507394e-02,\n        3.10847866e-02, -3.74655968e-02, -1.03810528e-02, -2.21049162e-02,\n        6.74737665e-03,  1.79457098e-02,  1.99271498e-02, -3.58203036e-03,\n        1.38397569e-02, -1.98292879e-02,  1.00687190e-02,  2.56814644e-02])"
     },
     "execution_count": 10,
     "metadata": {},
     "output_type": "execute_result"
    }
   ],
   "source": [
    "document_embedding"
   ],
   "metadata": {
    "collapsed": false,
    "pycharm": {
     "name": "#%%\n"
    }
   }
  },
  {
   "cell_type": "code",
   "execution_count": 13,
   "outputs": [
    {
     "data": {
      "text/plain": "True"
     },
     "execution_count": 13,
     "metadata": {},
     "output_type": "execute_result"
    }
   ],
   "source": [
    "len(document_embedding) == 512\n",
    "\n"
   ],
   "metadata": {
    "collapsed": false,
    "pycharm": {
     "name": "#%%\n"
    }
   }
  }
 ],
 "metadata": {
  "kernelspec": {
   "display_name": "Python 3",
   "language": "python",
   "name": "python3"
  },
  "language_info": {
   "codemirror_mode": {
    "name": "ipython",
    "version": 2
   },
   "file_extension": ".py",
   "mimetype": "text/x-python",
   "name": "python",
   "nbconvert_exporter": "python",
   "pygments_lexer": "ipython2",
   "version": "2.7.6"
  }
 },
 "nbformat": 4,
 "nbformat_minor": 0
}