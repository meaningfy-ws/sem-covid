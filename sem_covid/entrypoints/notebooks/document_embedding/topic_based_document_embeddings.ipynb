{
 "cells": [
  {
   "cell_type": "markdown",
   "id": "6b97b8f1",
   "metadata": {},
   "source": [
    "# Imports"
   ]
  },
  {
   "cell_type": "code",
   "execution_count": 1,
   "id": "adc74b44",
   "metadata": {},
   "outputs": [
    {
     "name": "stderr",
     "output_type": "stream",
     "text": [
      "2021-09-18 07:34:56.395486: W tensorflow/stream_executor/platform/default/dso_loader.cc:64] Could not load dynamic library 'libcudart.so.11.0'; dlerror: libcudart.so.11.0: cannot open shared object file: No such file or directory\n",
      "2021-09-18 07:34:56.395507: I tensorflow/stream_executor/cuda/cudart_stub.cc:29] Ignore above cudart dlerror if you do not have a GPU set up on your machine.\n"
     ]
    }
   ],
   "source": [
    "import sys\n",
    "sys.path.append('/home/jovyan/work/sem-covid/')\n",
    "sys.path = list(set(sys.path))\n",
    "\n",
    "import os\n",
    "os.getcwd()\n",
    "os.chdir('/home/jovyan/work/sem-covid/')\n",
    "\n",
    "import spacy\n",
    "nlp = spacy.load('en_core_web_sm')\n",
    "\n",
    "import mlflow\n",
    "import numpy as np\n",
    "import gensim\n",
    "import pandas as pd\n",
    "\n",
    "from sem_covid.services.store_registry import store_registry\n",
    "from sem_covid.entrypoints.notebooks.topic_modeling.topic_modeling_wrangling.token_management import select_pos\n",
    "from gensim.models import LdaModel"
   ]
  },
  {
   "cell_type": "markdown",
   "id": "b155f4b8",
   "metadata": {},
   "source": [
    "# Global variables"
   ]
  },
  {
   "cell_type": "code",
   "execution_count": 2,
   "id": "1089c2f6",
   "metadata": {},
   "outputs": [],
   "source": [
    "EXPERIMENT_ID = '101'\n",
    "BUCKET_NAME = 'mlflow'"
   ]
  },
  {
   "cell_type": "markdown",
   "id": "5de4a199",
   "metadata": {},
   "source": [
    "# Fetch the data"
   ]
  },
  {
   "cell_type": "code",
   "execution_count": 3,
   "id": "edc3763a",
   "metadata": {},
   "outputs": [
    {
     "name": "stderr",
     "output_type": "stream",
     "text": [
      "100% (4126 of 4126) |####################| Elapsed Time: 0:00:06 Time:  0:00:06\n"
     ]
    }
   ],
   "source": [
    "es_index_store = store_registry.es_index_store()\n",
    "docs_and_embeddings = es_index_store.get_dataframe(index_name='fs_doc_embeddings_for_topic_modeling')"
   ]
  },
  {
   "cell_type": "code",
   "execution_count": 4,
   "id": "41013464",
   "metadata": {},
   "outputs": [
    {
     "data": {
      "text/html": [
       "<div>\n",
       "<style scoped>\n",
       "    .dataframe tbody tr th:only-of-type {\n",
       "        vertical-align: middle;\n",
       "    }\n",
       "\n",
       "    .dataframe tbody tr th {\n",
       "        vertical-align: top;\n",
       "    }\n",
       "\n",
       "    .dataframe thead th {\n",
       "        text-align: right;\n",
       "    }\n",
       "</style>\n",
       "<table border=\"1\" class=\"dataframe\">\n",
       "  <thead>\n",
       "    <tr style=\"text-align: right;\">\n",
       "      <th></th>\n",
       "      <th>Date</th>\n",
       "      <th>Document_source</th>\n",
       "      <th>txt</th>\n",
       "      <th>embedding</th>\n",
       "    </tr>\n",
       "    <tr>\n",
       "      <th>_id</th>\n",
       "      <th></th>\n",
       "      <th></th>\n",
       "      <th></th>\n",
       "      <th></th>\n",
       "    </tr>\n",
       "  </thead>\n",
       "  <tbody>\n",
       "    <tr>\n",
       "      <th>027fba8f0b404718bda1c347e4a0cb750d9bb92c63afc8eb30e0091c01ef2688</th>\n",
       "      <td>2021-02-24</td>\n",
       "      <td>eu_cellar</td>\n",
       "      <td>opinion european economic social committee pro...</td>\n",
       "      <td>[-0.0300699547, -0.0067481417, 0.5634582043, -...</td>\n",
       "    </tr>\n",
       "    <tr>\n",
       "      <th>0114f84fb2837020f8e54710b07de6f05039de056ed49244e1c905b8d1ca6ebd</th>\n",
       "      <td>2021-06-17</td>\n",
       "      <td>eu_cellar</td>\n",
       "      <td>proposal council implement decision approval a...</td>\n",
       "      <td>[-0.1624983698, 0.0182262585, 0.4614146054, -0...</td>\n",
       "    </tr>\n",
       "    <tr>\n",
       "      <th>02bd88b95042ca0d3bb24689f9f51d5751091a3a90cde36becb9b73d33892a68</th>\n",
       "      <td>2020-03-04</td>\n",
       "      <td>eu_cellar</td>\n",
       "      <td>proposal decision european parliament council ...</td>\n",
       "      <td>[-0.2034286261, 0.0313053504, 0.5064448118, -0...</td>\n",
       "    </tr>\n",
       "    <tr>\n",
       "      <th>030340e1dac5382a9379488c63e7c6c0cb2ec305f62bf18a38a76a0d23028b42</th>\n",
       "      <td>2020-09-18</td>\n",
       "      <td>eu_cellar</td>\n",
       "      <td>commission staff work document equip europe wo...</td>\n",
       "      <td>[-0.3065283895, 0.0841537565, 0.6065080166, 0....</td>\n",
       "    </tr>\n",
       "    <tr>\n",
       "      <th>02f0d561c45748182441499f33b5cdda02b1306c8cd06d91ac02ea54f3a917c4</th>\n",
       "      <td>2020-11-23</td>\n",
       "      <td>eu_cellar</td>\n",
       "      <td>council decision november position take behalf...</td>\n",
       "      <td>[-0.4295326769, 0.0872802585, 0.1653565913, -0...</td>\n",
       "    </tr>\n",
       "  </tbody>\n",
       "</table>\n",
       "</div>"
      ],
      "text/plain": [
       "                                                          Date  \\\n",
       "_id                                                              \n",
       "027fba8f0b404718bda1c347e4a0cb750d9bb92c63afc8e...  2021-02-24   \n",
       "0114f84fb2837020f8e54710b07de6f05039de056ed4924...  2021-06-17   \n",
       "02bd88b95042ca0d3bb24689f9f51d5751091a3a90cde36...  2020-03-04   \n",
       "030340e1dac5382a9379488c63e7c6c0cb2ec305f62bf18...  2020-09-18   \n",
       "02f0d561c45748182441499f33b5cdda02b1306c8cd06d9...  2020-11-23   \n",
       "\n",
       "                                                   Document_source  \\\n",
       "_id                                                                  \n",
       "027fba8f0b404718bda1c347e4a0cb750d9bb92c63afc8e...       eu_cellar   \n",
       "0114f84fb2837020f8e54710b07de6f05039de056ed4924...       eu_cellar   \n",
       "02bd88b95042ca0d3bb24689f9f51d5751091a3a90cde36...       eu_cellar   \n",
       "030340e1dac5382a9379488c63e7c6c0cb2ec305f62bf18...       eu_cellar   \n",
       "02f0d561c45748182441499f33b5cdda02b1306c8cd06d9...       eu_cellar   \n",
       "\n",
       "                                                                                                  txt  \\\n",
       "_id                                                                                                     \n",
       "027fba8f0b404718bda1c347e4a0cb750d9bb92c63afc8e...  opinion european economic social committee pro...   \n",
       "0114f84fb2837020f8e54710b07de6f05039de056ed4924...  proposal council implement decision approval a...   \n",
       "02bd88b95042ca0d3bb24689f9f51d5751091a3a90cde36...  proposal decision european parliament council ...   \n",
       "030340e1dac5382a9379488c63e7c6c0cb2ec305f62bf18...  commission staff work document equip europe wo...   \n",
       "02f0d561c45748182441499f33b5cdda02b1306c8cd06d9...  council decision november position take behalf...   \n",
       "\n",
       "                                                                                            embedding  \n",
       "_id                                                                                                    \n",
       "027fba8f0b404718bda1c347e4a0cb750d9bb92c63afc8e...  [-0.0300699547, -0.0067481417, 0.5634582043, -...  \n",
       "0114f84fb2837020f8e54710b07de6f05039de056ed4924...  [-0.1624983698, 0.0182262585, 0.4614146054, -0...  \n",
       "02bd88b95042ca0d3bb24689f9f51d5751091a3a90cde36...  [-0.2034286261, 0.0313053504, 0.5064448118, -0...  \n",
       "030340e1dac5382a9379488c63e7c6c0cb2ec305f62bf18...  [-0.3065283895, 0.0841537565, 0.6065080166, 0....  \n",
       "02f0d561c45748182441499f33b5cdda02b1306c8cd06d9...  [-0.4295326769, 0.0872802585, 0.1653565913, -0...  "
      ]
     },
     "execution_count": 4,
     "metadata": {},
     "output_type": "execute_result"
    }
   ],
   "source": [
    "docs_and_embeddings.head()"
   ]
  },
  {
   "cell_type": "markdown",
   "id": "7a843d33",
   "metadata": {},
   "source": [
    "# Main"
   ]
  },
  {
   "cell_type": "markdown",
   "id": "372afe77",
   "metadata": {},
   "source": [
    "BERTopic"
   ]
  },
  {
   "cell_type": "code",
   "execution_count": 5,
   "id": "6ac110cf",
   "metadata": {},
   "outputs": [],
   "source": [
    "best_run = mlflow.search_runs(\n",
    "    experiment_ids=EXPERIMENT_ID,\n",
    "    order_by=['parameters.freq_topic_minus_1 ASC']\n",
    ").iloc[0]"
   ]
  },
  {
   "cell_type": "code",
   "execution_count": 6,
   "id": "74799521",
   "metadata": {},
   "outputs": [],
   "source": [
    "bert_model = store_registry.minio_feature_store(BUCKET_NAME).get_features(\n",
    "    features_name=f'{EXPERIMENT_ID}/{best_run.run_id}/artifacts/model/model.pkl')"
   ]
  },
  {
   "cell_type": "code",
   "execution_count": 7,
   "id": "5bcd8efb",
   "metadata": {},
   "outputs": [],
   "source": [
    "bert_probabilities = bert_model.transform(documents=docs_and_embeddings['txt'], embeddings=np.array(list(docs_and_embeddings['embedding'])))[1]"
   ]
  },
  {
   "cell_type": "code",
   "execution_count": 8,
   "id": "df323247",
   "metadata": {},
   "outputs": [
    {
     "data": {
      "text/plain": [
       "(4126, 54)"
      ]
     },
     "execution_count": 8,
     "metadata": {},
     "output_type": "execute_result"
    }
   ],
   "source": [
    "bert_probabilities.shape"
   ]
  },
  {
   "cell_type": "code",
   "execution_count": 9,
   "id": "acf6deaa",
   "metadata": {},
   "outputs": [
    {
     "data": {
      "text/plain": [
       "array([6.88117014e-16, 1.00000000e+00, 2.64811840e-16, 1.57644733e-16,\n",
       "       9.45653202e-17, 3.62201398e-16, 3.18444451e-16, 2.88095524e-16,\n",
       "       1.21102044e-16, 2.20375551e-16, 5.06123343e-17, 1.26680193e-16,\n",
       "       5.77862578e-17, 6.24136946e-17, 6.80956418e-17, 3.29367734e-17,\n",
       "       4.42825428e-17, 9.40256076e-17, 4.51283431e-17, 6.81653346e-17,\n",
       "       2.23025167e-17, 5.41571084e-17, 5.52405482e-17, 1.34936889e-16,\n",
       "       2.41943926e-17, 6.40040117e-17, 5.25930206e-17, 6.97536422e-17,\n",
       "       5.29826074e-17, 9.99841600e-17, 7.06594699e-17, 4.56421168e-17,\n",
       "       1.52796202e-16, 3.57143171e-17, 3.04016971e-17, 6.96292382e-17,\n",
       "       2.25722060e-17, 7.56292444e-17, 2.20911669e-17, 4.38422700e-17,\n",
       "       3.16286494e-17, 2.48335540e-17, 6.27197459e-17, 7.66224082e-17,\n",
       "       3.63242021e-17, 3.33663471e-17, 4.35735520e-17, 5.16354311e-17,\n",
       "       6.01793459e-17, 4.96143055e-17, 3.59519856e-17, 1.41341245e-16,\n",
       "       7.61866897e-17, 6.20920239e-17])"
      ]
     },
     "execution_count": 9,
     "metadata": {},
     "output_type": "execute_result"
    }
   ],
   "source": [
    "bert_probabilities[0]"
   ]
  },
  {
   "cell_type": "code",
   "execution_count": 10,
   "id": "101347cc",
   "metadata": {},
   "outputs": [
    {
     "name": "stderr",
     "output_type": "stream",
     "text": [
      " 62% (2560 of 4126) |############        | Elapsed Time: 0:00:00 ETA:   0:00:00"
     ]
    },
    {
     "data": {
      "text/plain": [
       "4126"
      ]
     },
     "execution_count": 10,
     "metadata": {},
     "output_type": "execute_result"
    }
   ],
   "source": [
    "es_index_store.put_dataframe(index_name='fs_bert_topic_based_doc_embeddings',\n",
    "                             content=pd.DataFrame({'date': docs_and_embeddings['Date'], \n",
    "                                                   'document_source': docs_and_embeddings['Document_source'], \n",
    "                                                   'txt': docs_and_embeddings['txt'],\n",
    "                                                   'topic_based_embedding': bert_probabilities.tolist()}))"
   ]
  },
  {
   "cell_type": "markdown",
   "id": "6bac2650",
   "metadata": {},
   "source": [
    "LDA"
   ]
  },
  {
   "cell_type": "code",
   "execution_count": 11,
   "id": "426afc91",
   "metadata": {},
   "outputs": [],
   "source": [
    "spacy_corpus = docs_and_embeddings['txt'].apply(nlp)\n",
    "\n",
    "noun_corpus = spacy_corpus.apply(select_pos, pos='NOUN')\n",
    "noun_corpus = noun_corpus.apply(lambda x: list(map(lambda docs: docs.lemma_,x)))\n",
    "\n",
    "noun_dictionary = gensim.corpora.Dictionary(noun_corpus)\n",
    "noun_gensim_corpus = [noun_dictionary.doc2bow(docs) for docs in noun_corpus]"
   ]
  },
  {
   "cell_type": "code",
   "execution_count": 12,
   "id": "60b3c01f",
   "metadata": {},
   "outputs": [],
   "source": [
    "noun_lda_model = LdaModel(corpus=noun_gensim_corpus, num_topics=5, id2word=noun_dictionary, chunksize=30, random_state=40)"
   ]
  },
  {
   "cell_type": "code",
   "execution_count": 13,
   "id": "55809bdc",
   "metadata": {},
   "outputs": [],
   "source": [
    "lda_probabilities = []\n",
    "\n",
    "for doc_topics_distrib in noun_lda_model.get_document_topics(noun_gensim_corpus):\n",
    "    probs = [item[1] for item in doc_topics_distrib]\n",
    "    lda_probabilities.append(probs)"
   ]
  },
  {
   "cell_type": "code",
   "execution_count": 14,
   "id": "e3e14923",
   "metadata": {},
   "outputs": [
    {
     "data": {
      "text/plain": [
       "4126"
      ]
     },
     "execution_count": 14,
     "metadata": {},
     "output_type": "execute_result"
    }
   ],
   "source": [
    "len(lda_probabilities)"
   ]
  },
  {
   "cell_type": "code",
   "execution_count": 15,
   "id": "b5f40b85",
   "metadata": {},
   "outputs": [
    {
     "data": {
      "text/plain": [
       "[0.36552876, 0.10348599, 0.02175473, 0.023701508, 0.48552904]"
      ]
     },
     "execution_count": 15,
     "metadata": {},
     "output_type": "execute_result"
    }
   ],
   "source": [
    "lda_probabilities[0]"
   ]
  },
  {
   "cell_type": "code",
   "execution_count": 16,
   "id": "c69c1e56",
   "metadata": {},
   "outputs": [
    {
     "name": "stderr",
     "output_type": "stream",
     "text": [
      " 83% (3448 of 4126) |################    | Elapsed Time: 0:00:00 ETA:   0:00:00"
     ]
    },
    {
     "data": {
      "text/plain": [
       "4126"
      ]
     },
     "execution_count": 16,
     "metadata": {},
     "output_type": "execute_result"
    }
   ],
   "source": [
    "es_index_store.put_dataframe(index_name='fs_lda_topic_based_doc_embeddings',\n",
    "                             content=pd.DataFrame({'date': docs_and_embeddings['Date'], \n",
    "                                                   'document_source': docs_and_embeddings['Document_source'], \n",
    "                                                   'txt': docs_and_embeddings['txt'], \n",
    "                                                   'topic_based_embedding': lda_probabilities}))"
   ]
  }
 ],
 "metadata": {
  "kernelspec": {
   "display_name": "Python 3 (ipykernel)",
   "language": "python",
   "name": "python3"
  },
  "language_info": {
   "codemirror_mode": {
    "name": "ipython",
    "version": 3
   },
   "file_extension": ".py",
   "mimetype": "text/x-python",
   "name": "python",
   "nbconvert_exporter": "python",
   "pygments_lexer": "ipython3",
   "version": "3.8.8"
  }
 },
 "nbformat": 4,
 "nbformat_minor": 5
}
