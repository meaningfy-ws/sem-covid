{
 "cells": [
  {
   "cell_type": "markdown",
   "id": "cb5b84a2",
   "metadata": {},
   "source": [
    "# Import libraries"
   ]
  },
  {
   "cell_type": "code",
   "execution_count": 48,
   "id": "af6a523d",
   "metadata": {},
   "outputs": [],
   "source": [
    "import sys\n",
    "sys.path.append(\"/home/jovyan/work/sem-covid/\")\n",
    "sys.path = list(set(sys.path))\n",
    "\n",
    "import os\n",
    "os.getcwd()\n",
    "os.chdir('/home/jovyan/work/sem-covid/')\n",
    "\n",
    "import numpy as np \n",
    "import pandas as pd\n",
    "import matplotlib.pyplot as plt\n",
    "\n",
    "from sem_covid.services.data_registry import Dataset\n",
    "from sem_covid.services.store_registry import StoreRegistry\n",
    "from sem_covid.entrypoints.notebooks.EDA.eda_wrangling.data_observations import calc_freq_categorical_data"
   ]
  },
  {
   "cell_type": "code",
   "execution_count": 49,
   "id": "7a47a972",
   "metadata": {},
   "outputs": [],
   "source": [
    "plt.style.use('ggplot')"
   ]
  },
  {
   "cell_type": "markdown",
   "id": "dc73b203",
   "metadata": {},
   "source": [
    "# Methods"
   ]
  },
  {
   "cell_type": "code",
   "execution_count": 50,
   "id": "02e11349",
   "metadata": {},
   "outputs": [],
   "source": [
    "def update_dataframes(list_of_dfs: list, column_values: list, column_name: str) -> list:\n",
    "    \"\"\"\n",
    "    It is possible that some dataframes do not contain all values of a given column.\n",
    "    Therefore, this function is used for adding a new row which contains the missing column\n",
    "    and corresponding relative frequency (0 since it missing)\n",
    "\n",
    "    :return: list with updated dataframes\n",
    "    \"\"\"\n",
    "    updated_dfs = []\n",
    "    for df in list_of_dfs:\n",
    "        if len(df) == len(column_values):\n",
    "            pass\n",
    "        else:\n",
    "            for column_val in column_values:\n",
    "                if column_val not in list(df[column_name]):\n",
    "                    df = df.append({column_name: column_val, 'Relative freq': 0}, ignore_index=True)\n",
    "        updated_dfs.append(df)\n",
    "    return updated_dfs\n",
    "\n",
    "def adjusted_target_group_refactoring(pwdb_dataframe: pd.DataFrame,target_group_column_name: str = 'target_groups') -> pd.DataFrame:\n",
    "    \"\"\"\n",
    "    The target group available in the original dataset is very granular. For the purpose of this exercise\n",
    "    we would benefit from aggregating the target groups into a more generic sets. As a result we will obtain\n",
    "    target groups on two levels: L1, L2.\n",
    "    L1: workers, businesses, citizens\n",
    "    L2: the original set of categories\n",
    "\n",
    "    :return: the given dataset with an extra column containing the aggregated (L1) values\n",
    "    \"\"\"\n",
    "    new_columns = {'Businesses':BUSINESSES,'Citizens':CITIZENS,'Workers':WORKERS}\n",
    "    refactored_pwdb_df = pwdb_dataframe[target_group_column_name]\n",
    "    for column,class_set in new_columns.items():\n",
    "        pwdb_dataframe[column] = refactored_pwdb_df.apply(lambda x: any(item in class_set for item in x))\n",
    "        pwdb_dataframe[column].replace({True: column+\"_True\", False: column+\"_False\"}, inplace=True)\n",
    "    return pwdb_dataframe"
   ]
  },
  {
   "cell_type": "markdown",
   "id": "953a9d0a",
   "metadata": {},
   "source": [
    "# Fetch the data"
   ]
  },
  {
   "cell_type": "code",
   "execution_count": 51,
   "id": "af1c5b34",
   "metadata": {},
   "outputs": [],
   "source": [
    "pwdb = Dataset.PWDB.fetch()\n",
    "eurlex_enriched = Dataset.EU_CELLAR_ENRICHED.fetch()\n",
    "eu_timeline_enriched = Dataset.EU_ACTION_TIMELINE_ENRICHED.fetch()\n",
    "ireland_timeline_enriched = Dataset.IRELAND_ACTION_TIMELINE_ENRICHED.fetch()"
   ]
  },
  {
   "cell_type": "markdown",
   "id": "d285e0c6",
   "metadata": {},
   "source": [
    "# Main"
   ]
  },
  {
   "cell_type": "markdown",
   "id": "d0f26d2e",
   "metadata": {},
   "source": [
    "Category column"
   ]
  },
  {
   "cell_type": "code",
   "execution_count": 52,
   "id": "c97952fd",
   "metadata": {},
   "outputs": [],
   "source": [
    "pwdb_rel_obs_categ = calc_freq_categorical_data(pwdb['category'], 'category', True)\n",
    "eurlex_rel_obs_categ = calc_freq_categorical_data(eurlex_enriched['category'], 'category', True)\n",
    "eu_timeline_rel_obs_categ = calc_freq_categorical_data(eu_timeline_enriched['category'], 'category', True)\n",
    "ireland_timeline_rel_obs_categ = calc_freq_categorical_data(ireland_timeline_enriched['category'], 'category', True)"
   ]
  },
  {
   "cell_type": "markdown",
   "id": "df15b79c",
   "metadata": {},
   "source": [
    "Push the data to ES"
   ]
  },
  {
   "cell_type": "code",
   "execution_count": 54,
   "id": "72a966fc",
   "metadata": {},
   "outputs": [],
   "source": [
    "# --- pdwb\n",
    "t_pdwb = pwdb_rel_obs_categ.drop(columns=\"category\")\n",
    "t_pdwb.rename(columns={t_pdwb.columns[0]:\"PWDB\"}, inplace=True)\n",
    "t_pdwb = t_pdwb.T\n",
    "t_pdwb.rename(columns=pwdb_rel_obs_categ[\"category\"], inplace=True)\n",
    "\n",
    "# ----- eurlex\n",
    "t_eurlex_rel_obs_categ = eurlex_rel_obs_categ.drop(columns=\"category\")\n",
    "t_eurlex_rel_obs_categ.rename(columns={t_eurlex_rel_obs_categ.columns[0]:\"EU Cellar\"}, inplace=True)\n",
    "t_eurlex_rel_obs_categ = t_eurlex_rel_obs_categ.T\n",
    "t_eurlex_rel_obs_categ.rename(columns=eurlex_rel_obs_categ[\"category\"], inplace=True)\n",
    "\n",
    "# ----- EU Timeline\n",
    "t_eu_timeline_rel_obs_categ = eu_timeline_rel_obs_categ.drop(columns=\"category\")\n",
    "t_eu_timeline_rel_obs_categ.rename(columns={t_eu_timeline_rel_obs_categ.columns[0]:\"EU Timeline\"}, inplace=True)\n",
    "t_eu_timeline_rel_obs_categ = t_eu_timeline_rel_obs_categ.T\n",
    "t_eu_timeline_rel_obs_categ.rename(columns=eu_timeline_rel_obs_categ[\"category\"], inplace=True)\n",
    "\n",
    "# ----- Ireland Timeline\n",
    "t_ireland_timeline_rel_obs_categ = ireland_timeline_rel_obs_categ.drop(columns=\"category\")\n",
    "t_ireland_timeline_rel_obs_categ.rename(columns={t_ireland_timeline_rel_obs_categ.columns[0]:\"Ireland Timeline\"}, inplace=True)\n",
    "t_ireland_timeline_rel_obs_categ = t_ireland_timeline_rel_obs_categ.T\n",
    "t_ireland_timeline_rel_obs_categ.rename(columns=ireland_timeline_rel_obs_categ[\"category\"], inplace=True)\n",
    "\n",
    "# --- concat. and sent to ES\n",
    "fs = StoreRegistry().es_feature_store()\n",
    "t = pd.concat([t_pdwb,t_eurlex_rel_obs_categ,t_eu_timeline_rel_obs_categ,t_ireland_timeline_rel_obs_categ], axis=0)\n",
    "t.fillna(0, inplace=True)\n",
    "fs.put_features(\"tmp_fs_relative_category\",t.T)"
   ]
  },
  {
   "cell_type": "code",
   "execution_count": null,
   "id": "1c49873d",
   "metadata": {},
   "outputs": [],
   "source": [
    "dfs_with_rel_freqs = [pwdb_rel_obs_categ, eurlex_rel_obs_categ, eu_timeline_rel_obs_categ, ireland_timeline_rel_obs_categ]"
   ]
  },
  {
   "cell_type": "code",
   "execution_count": null,
   "id": "82a5526a",
   "metadata": {},
   "outputs": [],
   "source": [
    "categories = list(pwdb_rel_obs_categ['category'])\n",
    "categories.sort()"
   ]
  },
  {
   "cell_type": "code",
   "execution_count": null,
   "id": "2b8b9ebf",
   "metadata": {},
   "outputs": [],
   "source": [
    "dfs_with_rel_freqs_updated = update_dataframes(dfs_with_rel_freqs, categories, 'category')"
   ]
  },
  {
   "cell_type": "code",
   "execution_count": null,
   "id": "dbe1cd89",
   "metadata": {},
   "outputs": [],
   "source": [
    "for dataframe in dfs_with_rel_freqs_updated:\n",
    "    dataframe.sort_values(by=['category'], inplace=True)"
   ]
  },
  {
   "cell_type": "code",
   "execution_count": null,
   "id": "9838cdcc",
   "metadata": {},
   "outputs": [],
   "source": [
    "first_bars = list(dfs_with_rel_freqs_updated[0]['Relative freq'])\n",
    "second_bars = list(dfs_with_rel_freqs_updated[1]['Relative freq'])\n",
    "third_bars = list(dfs_with_rel_freqs_updated[2]['Relative freq'])\n",
    "fourth_bars = list(dfs_with_rel_freqs_updated[3]['Relative freq'])\n",
    "\n",
    "x = np.arange(len(categories))\n",
    "width = 0.2\n",
    "\n",
    "fig, ax = plt.subplots(figsize=(12.5,12.5))\n",
    "rects1 = ax.bar(x - width * 2, first_bars, width, label = 'PWDB dataset', color='navajowhite')\n",
    "rects2 = ax.bar(x - width * 1, second_bars, width, label = 'EU Cellar COVID-19 dataset', color='steelblue')\n",
    "rects3 = ax.bar(x, third_bars, width, label = 'EU action timeline dataset', color='darkblue')\n",
    "rects4 = ax.bar(x + width * 1, fourth_bars, width, label = 'Ireland COVID-19 timeline dataset', color='salmon')\n",
    "\n",
    "ax.set_ylabel('Relative Frequency', fontsize=12.5)\n",
    "ax.set_xticks(x - 0.1)\n",
    "ax.set_xticklabels(categories, fontdict={'fontsize':12.5}, rotation = 30, ha='right')\n",
    "ax.legend(prop={'size': 12.5})\n",
    "\n",
    "ax.bar_label(rects1, padding=5)\n",
    "ax.bar_label(rects2, padding=15)\n",
    "ax.bar_label(rects3, padding=10)\n",
    "ax.bar_label(rects4, padding=5)\n",
    "\n",
    "fig.tight_layout()\n",
    "\n",
    "plt.show()"
   ]
  },
  {
   "cell_type": "code",
   "execution_count": null,
   "id": "255348af",
   "metadata": {},
   "outputs": [],
   "source": [
    "x = np.arange(len(categories))\n",
    "\n",
    "fig, ax = plt.subplots(figsize=(12.5,12.5))\n",
    "rects1 = ax.bar(x - width, first_bars, width, label = 'PWDB dataset', color='navajowhite')\n",
    "rects2 = ax.bar(x, second_bars, width, label = 'EU Cellar COVID-19 dataset', color='steelblue')\n",
    "\n",
    "ax.set_ylabel('Relative Frequency', fontsize=12.5)\n",
    "ax.set_xticks(x - 0.1)\n",
    "ax.set_xticklabels(categories, fontdict={'fontsize':12.5}, rotation = 30, ha='right')\n",
    "ax.legend(prop={'size': 12.5})\n",
    "\n",
    "ax.bar_label(rects1,)\n",
    "ax.bar_label(rects2,)\n",
    "\n",
    "fig.tight_layout()\n",
    "\n",
    "plt.show()"
   ]
  },
  {
   "cell_type": "code",
   "execution_count": null,
   "id": "b903bb34",
   "metadata": {},
   "outputs": [],
   "source": [
    "x = np.arange(len(categories))\n",
    "\n",
    "fig, ax = plt.subplots(figsize=(12.5,12.5))\n",
    "rects1 = ax.bar(x - width, first_bars, width, label = 'PWDB dataset', color='navajowhite')\n",
    "rects3 = ax.bar(x, third_bars, width, label = 'EU action timeline dataset', color='darkblue')\n",
    "\n",
    "ax.set_ylabel('Relative Frequency', fontsize=12.5)\n",
    "ax.set_xticks(x - 0.1)\n",
    "ax.set_xticklabels(categories, fontdict={'fontsize':12.5}, rotation = 30, ha='right')\n",
    "ax.legend(prop={'size': 12.5})\n",
    "\n",
    "ax.bar_label(rects1,)\n",
    "ax.bar_label(rects3,)\n",
    "\n",
    "fig.tight_layout()\n",
    "\n",
    "plt.show()"
   ]
  },
  {
   "cell_type": "code",
   "execution_count": null,
   "id": "d7ee53fc",
   "metadata": {},
   "outputs": [],
   "source": [
    "x = np.arange(len(categories))\n",
    "\n",
    "fig, ax = plt.subplots(figsize=(12.5,12.5))\n",
    "rects1 = ax.bar(x - width, first_bars, width, label = 'PWDB dataset', color='navajowhite')\n",
    "rects4 = ax.bar(x, fourth_bars, width, label = 'Ireland COVID-19 timeline dataset', color='salmon')\n",
    "\n",
    "ax.set_ylabel('Relative Frequency', fontsize=12.5)\n",
    "ax.set_xticks(x - 0.1)\n",
    "ax.set_xticklabels(categories, fontdict={'fontsize':12.5}, rotation = 30, ha='right')\n",
    "ax.legend(prop={'size': 12.5})\n",
    "\n",
    "ax.bar_label(rects1,)\n",
    "ax.bar_label(rects4)\n",
    "\n",
    "fig.tight_layout()\n",
    "\n",
    "plt.show()"
   ]
  },
  {
   "cell_type": "markdown",
   "id": "224abc38",
   "metadata": {},
   "source": [
    "Type of measure column"
   ]
  },
  {
   "cell_type": "code",
   "execution_count": null,
   "id": "5ff8002e",
   "metadata": {},
   "outputs": [],
   "source": [
    "pwdb_rel_obs_type = calc_freq_categorical_data(pwdb['type_of_measure'], 'type_of_measure', True)\n",
    "eurlex_rel_obs_type = calc_freq_categorical_data(eurlex_enriched['type_of_measure'], 'type_of_measure', True)\n",
    "eu_timeline_rel_obs_type = calc_freq_categorical_data(eu_timeline_enriched['type_of_measure'], 'type_of_measure', True)\n",
    "ireland_timeline_rel_obs_type = calc_freq_categorical_data(ireland_timeline_enriched['type_of_measure'], 'type_of_measure', True)"
   ]
  },
  {
   "cell_type": "code",
   "execution_count": null,
   "id": "41fab521",
   "metadata": {},
   "outputs": [],
   "source": [
    "dfs_with_rel_freqs = [pwdb_rel_obs_type, eurlex_rel_obs_type, eu_timeline_rel_obs_type, ireland_timeline_rel_obs_type]"
   ]
  },
  {
   "cell_type": "code",
   "execution_count": null,
   "id": "f8fe6b79",
   "metadata": {},
   "outputs": [],
   "source": [
    "types = list(pwdb_rel_obs_type['type_of_measure'])\n",
    "types.sort()"
   ]
  },
  {
   "cell_type": "code",
   "execution_count": null,
   "id": "5e0739c1",
   "metadata": {},
   "outputs": [],
   "source": [
    "dfs_with_rel_freqs_updated = update_dataframes(dfs_with_rel_freqs, types, 'type_of_measure')"
   ]
  },
  {
   "cell_type": "code",
   "execution_count": null,
   "id": "c0f20974",
   "metadata": {},
   "outputs": [],
   "source": [
    "for dataframe in dfs_with_rel_freqs_updated:\n",
    "    dataframe.sort_values(by=['type_of_measure'], inplace=True)"
   ]
  },
  {
   "cell_type": "code",
   "execution_count": null,
   "id": "536ba20e",
   "metadata": {},
   "outputs": [],
   "source": [
    "first_bars = list(dfs_with_rel_freqs_updated[0]['Relative freq'])\n",
    "second_bars = list(dfs_with_rel_freqs_updated[1]['Relative freq'])\n",
    "third_bars = list(dfs_with_rel_freqs_updated[2]['Relative freq'])\n",
    "fourth_bars = list(dfs_with_rel_freqs_updated[3]['Relative freq'])\n",
    "\n",
    "x = np.arange(len(types))\n",
    "width = 0.2\n",
    "\n",
    "fig, ax = plt.subplots(figsize=(12.5,12.5))\n",
    "rects1 = ax.bar(x - width * 2, first_bars, width, label = 'PWDB dataset', color='navajowhite')\n",
    "rects2 = ax.bar(x - width * 1, second_bars, width, label = 'EU Cellar COVID-19 dataset', color='steelblue')\n",
    "rects3 = ax.bar(x, third_bars, width, label = 'EU action timeline dataset', color='darkblue')\n",
    "rects4 = ax.bar(x + width * 1, fourth_bars, width, label = 'Ireland COVID-19 timeline dataset', color='salmon')\n",
    "\n",
    "ax.set_ylabel('Relative Frequency', fontsize=12.5)\n",
    "ax.set_xticks(x - 0.1)\n",
    "ax.set_xticklabels(types, fontdict={'fontsize':12.5}, rotation = 30, ha='right')\n",
    "ax.legend(prop={'size': 12.5})\n",
    "\n",
    "ax.bar_label(rects1, padding=5)\n",
    "ax.bar_label(rects2, padding=5)\n",
    "ax.bar_label(rects3, padding=5)\n",
    "ax.bar_label(rects4, padding=5)\n",
    "\n",
    "fig.tight_layout()\n",
    "\n",
    "plt.show()"
   ]
  },
  {
   "cell_type": "markdown",
   "source": [
    "L1 column"
   ],
   "metadata": {
    "collapsed": false
   }
  },
  {
   "cell_type": "code",
   "execution_count": null,
   "id": "c730976c",
   "metadata": {},
   "outputs": [],
   "source": [
    "BUSINESSES = {'Companies providing essential services', 'Contractors of a company', 'Larger corporations',\n",
    "             'One person or microenterprises', 'Other businesses', 'SMEs', 'Sector specific set of companies',\n",
    "             'Solo-self-employed', 'Start-ups'}\n",
    "\n",
    "CITIZENS = {'Children (minors)', 'Disabled', 'Migrants', 'Older citizens', 'Other groups of citizens', 'Parents',\n",
    "           'People in care facilities', 'Refugees', 'Single parents', 'The COVID-19 risk group', 'Women',\n",
    "           'Youth (18-25)'}\n",
    "\n",
    "WORKERS = {'Cross-border commuters', 'Disabled workers', 'Employees in standard employment', 'Female workers',\n",
    "           'Migrants in employment', 'Older people in employment (aged 55+)', 'Other groups of workers',\n",
    "           'Parents in employment', 'Particular professions', 'Platform workers', 'Posted workers',\n",
    "           'Refugees in employment', 'Seasonal workers', 'Self-employed', 'Single parents in employment',\n",
    "           'The COVID-19 risk group at the workplace', 'Undeclared workers', 'Unemployed', 'Workers in care facilities',\n",
    "           'Workers in essential services', 'Workers in non-standard forms of employment',\n",
    "           'Youth (18-25) in employment'}"
   ]
  },
  {
   "cell_type": "code",
   "execution_count": null,
   "id": "6fc70d1e",
   "metadata": {},
   "outputs": [],
   "source": [
    "pwdb = adjusted_target_group_refactoring(pwdb)"
   ]
  },
  {
   "cell_type": "code",
   "execution_count": null,
   "id": "3ceedcea",
   "metadata": {},
   "outputs": [],
   "source": [
    "pwdb_rel_obs_businesses = calc_freq_categorical_data(pwdb['Businesses'], 'businesses', True)\n",
    "eurlex_rel_obs_businesses = calc_freq_categorical_data(eurlex_enriched['businesses'], 'businesses', True)\n",
    "eu_timeline_rel_obs_businesses = calc_freq_categorical_data(eu_timeline_enriched['businesses'], 'businesses', True)\n",
    "ireland_timeline_rel_obs_businesses = calc_freq_categorical_data(ireland_timeline_enriched['businesses'], 'businesses', True)"
   ]
  },
  {
   "cell_type": "code",
   "execution_count": null,
   "id": "81e3b338",
   "metadata": {},
   "outputs": [],
   "source": [
    "pwdb_rel_obs_citizens = calc_freq_categorical_data(pwdb['Citizens'], 'citizens', True)\n",
    "eurlex_rel_obs_citizens = calc_freq_categorical_data(eurlex_enriched['citizens'], 'citizens', True)\n",
    "eu_timeline_rel_obs_citizens = calc_freq_categorical_data(eu_timeline_enriched['citizens'], 'citizens', True)\n",
    "ireland_timeline_rel_obs_citizens = calc_freq_categorical_data(ireland_timeline_enriched['citizens'], 'citizens', True)"
   ]
  },
  {
   "cell_type": "code",
   "execution_count": null,
   "id": "6ca1acbd",
   "metadata": {},
   "outputs": [],
   "source": [
    "pwdb_rel_obs_workers = calc_freq_categorical_data(pwdb['Workers'], 'workers', True)\n",
    "eurlex_rel_obs_workers = calc_freq_categorical_data(eurlex_enriched['workers'], 'workers', True)\n",
    "eu_timeline_rel_obs_workers = calc_freq_categorical_data(eu_timeline_enriched['workers'], 'workers', True)\n",
    "ireland_timeline_rel_obs_workers = calc_freq_categorical_data(ireland_timeline_enriched['workers'], 'workers', True)"
   ]
  },
  {
   "cell_type": "code",
   "execution_count": null,
   "id": "9a6b234a",
   "metadata": {},
   "outputs": [],
   "source": [
    "first_bars = [pwdb_rel_obs_businesses['Relative freq'][1], pwdb_rel_obs_citizens['Relative freq'][1], pwdb_rel_obs_workers['Relative freq'][1]]\n",
    "second_bars = [eurlex_rel_obs_businesses['Relative freq'][1], eurlex_rel_obs_citizens['Relative freq'][1], eurlex_rel_obs_workers['Relative freq'][1]] \n",
    "third_bars = [eu_timeline_rel_obs_businesses['Relative freq'][0], eu_timeline_rel_obs_citizens['Relative freq'][1], eu_timeline_rel_obs_workers['Relative freq'][1]]\n",
    "fourth_bars = [ireland_timeline_rel_obs_businesses['Relative freq'][1], ireland_timeline_rel_obs_citizens['Relative freq'][1], ireland_timeline_rel_obs_workers['Relative freq'][1]]"
   ]
  },
  {
   "cell_type": "code",
   "execution_count": null,
   "id": "b2984f52",
   "metadata": {},
   "outputs": [],
   "source": [
    "x = np.arange(3)\n",
    "width = 0.2\n",
    "\n",
    "fig, ax = plt.subplots(figsize=(12.5,12.5))\n",
    "rects1 = ax.bar(x - width * 2, first_bars, width, label = 'PWDB dataset', color='navajowhite')\n",
    "rects2 = ax.bar(x - width * 1, second_bars, width, label = 'EU Cellar COVID-19 dataset', color='steelblue')\n",
    "rects3 = ax.bar(x, third_bars, width, label = 'EU action timeline dataset', color='darkblue')\n",
    "rects4 = ax.bar(x + width * 1, fourth_bars, width, label = 'Ireland COVID-19 timeline dataset', color='salmon')\n",
    "\n",
    "ax.set_ylabel('Relative Frequency', fontsize=12.5)\n",
    "ax.set_xticks(x - 0.1)\n",
    "ax.set_xticklabels(['Businesses', 'Citizens', 'Workers'], fontdict={'fontsize':12.5}, rotation = 30, ha='right')\n",
    "ax.legend(prop={'size': 12.5})\n",
    "\n",
    "ax.bar_label(rects1, padding=5)\n",
    "ax.bar_label(rects2, padding=5)\n",
    "ax.bar_label(rects3, padding=5)\n",
    "ax.bar_label(rects4, padding=5)\n",
    "\n",
    "fig.tight_layout()\n",
    "\n",
    "plt.show()"
   ]
  }
 ],
 "metadata": {
  "kernelspec": {
   "display_name": "Python 3",
   "language": "python",
   "name": "python3"
  },
  "language_info": {
   "codemirror_mode": {
    "name": "ipython",
    "version": 3
   },
   "file_extension": ".py",
   "mimetype": "text/x-python",
   "name": "python",
   "nbconvert_exporter": "python",
   "pygments_lexer": "ipython3",
   "version": "3.8.8"
  }
 },
 "nbformat": 4,
 "nbformat_minor": 5
}