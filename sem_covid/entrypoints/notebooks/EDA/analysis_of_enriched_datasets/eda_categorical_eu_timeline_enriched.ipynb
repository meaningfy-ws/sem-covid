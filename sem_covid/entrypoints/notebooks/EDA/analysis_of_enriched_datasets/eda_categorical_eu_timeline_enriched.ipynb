{
 "metadata": {
  "language_info": {
   "codemirror_mode": {
    "name": "ipython",
    "version": 3
   },
   "file_extension": ".py",
   "mimetype": "text/x-python",
   "name": "python",
   "nbconvert_exporter": "python",
   "pygments_lexer": "ipython3",
   "version": "3.8.5-final"
  },
  "orig_nbformat": 2,
  "kernelspec": {
   "name": "python3",
   "language": "python",
   "display_name": "Python 3"
  }
 },
 "nbformat": 4,
 "nbformat_minor": 2,
 "cells": [
  {
   "cell_type": "markdown",
   "source": [
    "# EDA categorical on enriched eu-timeline data"
   ],
   "metadata": {
    "collapsed": false
   }
  },
  {
   "cell_type": "markdown",
   "source": [
    "## Import libraries"
   ],
   "metadata": {
    "collapsed": false
   }
  },
  {
   "cell_type": "code",
   "execution_count": 2,
   "outputs": [],
   "source": [
    "# import sys\n",
    "# sys.path.append(\"/home/jovyan/work/sem-covid/\")\n",
    "# sys.path = list(set(sys.path))\n",
    "#\n",
    "# import os\n",
    "# os.getcwd()\n",
    "# os.chdir('/home/jovyan/work/sem-covid/')\n",
    "\n",
    "import plotly.express as px\n",
    "\n",
    "from IPython.display import display, Markdown\n",
    "from sem_covid.services.data_registry import Dataset\n",
    "from sem_covid.entrypoints.notebooks.EDA.eda_wrangling.categorical_analyze import fast_categorical_analyze\n",
    "from sem_covid.entrypoints.notebooks.EDA.eda_wrangling.confidence_interval_analysis import (\n",
    "    confidence_interval_with_mean, z_score_for_series, confidence_interval_for_proportion)\n",
    "from sem_covid.entrypoints.notebooks.EDA.eda_wrangling.collision_analysis import (class_collision_in_columns,\n",
    "                                                                                       class_collision)\n",
    "from sem_covid.entrypoints.notebooks.EDA.eda_wrangling.cramer_analysis import get_cramer_corr_matrix"
   ],
   "metadata": {
    "collapsed": false,
    "pycharm": {
     "name": "#%%\n"
    }
   }
  },
  {
   "cell_type": "code",
   "execution_count": null,
   "outputs": [],
   "source": [
    "px.defaults.width = 800\n",
    "px.defaults.height = 400"
   ],
   "metadata": {
    "collapsed": false,
    "pycharm": {
     "name": "#%%\n"
    }
   }
  },
  {
   "cell_type": "markdown",
   "source": [
    "## Define constants"
   ],
   "metadata": {
    "collapsed": false
   }
  },
  {
   "cell_type": "code",
   "execution_count": null,
   "outputs": [],
   "source": [
    "CATEGORICAL_COLUMNS = [ 'category', 'subcategory', 'businesses', 'citizens', 'workers', 'type_of_measure']\n",
    "\n",
    "CRAMER_ANALYSIS_COLUMNS = ['category', 'subcategory', 'businesses', 'citizens', 'workers', 'type_of_measure']"
   ],
   "metadata": {
    "collapsed": false,
    "pycharm": {
     "name": "#%%\n"
    }
   }
  },
  {
   "cell_type": "markdown",
   "source": [
    "## Fetch the data"
   ],
   "metadata": {
    "collapsed": false
   }
  },
  {
   "cell_type": "code",
   "execution_count": null,
   "outputs": [],
   "source": [
    "eu_timeline_enriched = Dataset.EU_ACTION_TIMELINE_ENRICHED.fetch()"
   ],
   "metadata": {
    "collapsed": false,
    "pycharm": {
     "name": "#%%\n"
    }
   }
  },
  {
   "cell_type": "markdown",
   "source": [
    "## EDA on categorical data from loaded dataset"
   ],
   "metadata": {
    "collapsed": false
   }
  },
  {
   "cell_type": "code",
   "execution_count": null,
   "outputs": [],
   "source": [
    "eda_result = fast_categorical_analyze(eu_timeline_enriched, CATEGORICAL_COLUMNS , 'Eu Timeline Data')"
   ],
   "metadata": {
    "collapsed": false,
    "pycharm": {
     "name": "#%%\n"
    }
   }
  },
  {
   "cell_type": "markdown",
   "source": [
    "## Analysis and visualization:\n",
    "- Z score\n",
    "- cumulative frequencies\n",
    "- difference in neighboring frequencies"
   ],
   "metadata": {
    "collapsed": false
   }
  },
  {
   "cell_type": "code",
   "execution_count": null,
   "outputs": [],
   "source": [
    "for key in eda_result.keys():\n",
    "    data = eda_result[key].copy()\n",
    "    column_name = data.columns[1]\n",
    "    z_score_column = data.columns[0] + '_z_score'\n",
    "    cumulative_freq = 'Cumulative freq'\n",
    "    diff_freq = 'Diff freq'\n",
    "    data[z_score_column] = z_score_for_series(data[column_name])\n",
    "    data[cumulative_freq] = data[column_name].cumsum()\n",
    "    data[diff_freq] = data[column_name].diff()\n",
    "    display(Markdown(f\"Std deviation for [{key}] is [{round(data[column_name].std(),2)}]\"))\n",
    "    display(data)\n",
    "    px.bar(data,x=data.columns[2],y=data.columns[0],color_discrete_sequence=['#003d66']).show()\n",
    "    px.bar(data,x=data.columns[0],y=data.columns[3],color_discrete_sequence=['#003d66']).show()\n",
    "    px.bar(data,x=data.columns[0],y=data.columns[4],color_discrete_sequence=['#003d66']).show()"
   ],
   "metadata": {
    "collapsed": false,
    "pycharm": {
     "name": "#%%\n"
    }
   }
  },
  {
   "cell_type": "markdown",
   "source": [
    "## Analysis of confidence intervals:\n",
    "- calculating the confidence interval for each column\n",
    "- calculating the confidence interval for each proportion from column\n",
    "- calculating the records from column, that are overrepresented\n",
    "- calculating the records from column, that are underrepresented"
   ],
   "metadata": {
    "collapsed": false
   }
  },
  {
   "cell_type": "code",
   "execution_count": null,
   "outputs": [],
   "source": [
    "for key in eda_result.keys():\n",
    "    data = eda_result[key].copy()\n",
    "    tmp_s = data[data.columns[1]].copy()\n",
    "    tmp_s/=100\n",
    "    ci_mean = confidence_interval_with_mean(tmp_s)\n",
    "    display(Markdown(f\"Confidence Interval for {key} is : [{ci_mean[0]}%, {ci_mean[1]}%]\"))\n",
    "    data['Confidence Interval']= confidence_interval_for_proportion(tmp_s)\n",
    "    data['z_score'] = z_score_for_series(tmp_s)\n",
    "    display(data)\n",
    "    display(Markdown(f\"Overrepresented records from column : {key}\"))\n",
    "    rel_f = 'Relative freq'\n",
    "    display(data.loc[data[rel_f]>ci_mean[1]])\n",
    "    display(Markdown(f\"Normal represented records from column : {key}\"))\n",
    "    display(data.loc[(data[rel_f]>=ci_mean[0])&(data[rel_f]<=ci_mean[1])])\n",
    "    display(Markdown(f\"Underrepresented records from column : {key}\"))\n",
    "    display(data.loc[data[rel_f]<ci_mean[0]])"
   ],
   "metadata": {
    "collapsed": false,
    "pycharm": {
     "name": "#%%\n"
    }
   }
  },
  {
   "cell_type": "markdown",
   "source": [
    "## Categorical data collision analysis in columns"
   ],
   "metadata": {
    "collapsed": false
   }
  },
  {
   "cell_type": "code",
   "execution_count": null,
   "outputs": [],
   "source": [
    "class_collision_in_columns(eu_timeline_enriched[CATEGORICAL_COLUMNS])"
   ],
   "metadata": {
    "collapsed": false,
    "pycharm": {
     "name": "#%%\n"
    }
   }
  },
  {
   "cell_type": "markdown",
   "source": [
    "## Analysis of categorical data collisions in DataFrame"
   ],
   "metadata": {
    "collapsed": false
   }
  },
  {
   "cell_type": "code",
   "execution_count": null,
   "outputs": [],
   "source": [
    "class_collision(eu_timeline_enriched[CATEGORICAL_COLUMNS])"
   ],
   "metadata": {
    "collapsed": false,
    "pycharm": {
     "name": "#%%\n"
    }
   }
  },
  {
   "cell_type": "markdown",
   "source": [
    "## Cramer analysis"
   ],
   "metadata": {
    "collapsed": false
   }
  },
  {
   "cell_type": "code",
   "execution_count": null,
   "outputs": [],
   "source": [
    "get_cramer_corr_matrix(eu_timeline_enriched[CRAMER_ANALYSIS_COLUMNS])\n"
   ],
   "metadata": {
    "collapsed": false,
    "pycharm": {
     "name": "#%%\n"
    }
   }
  }
 ]
}