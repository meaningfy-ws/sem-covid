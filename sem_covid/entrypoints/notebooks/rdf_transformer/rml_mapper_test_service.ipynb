{
 "cells": [
  {
   "cell_type": "code",
   "execution_count": 4,
   "metadata": {
    "collapsed": true
   },
   "outputs": [],
   "source": [
    "import sys\n",
    "sys.path.append(\"/home/jovyan/work/sem-covid/\")\n",
    "sys.path = list(set(sys.path))\n",
    "import os\n",
    "os.getcwd()\n",
    "os.chdir('/home/jovyan/work/sem-covid/')\n",
    "from sem_covid import config\n",
    "from sem_covid.services.store_registry import store_registry\n",
    "import pandas as pd\n",
    "import requests as req\n",
    "import json\n",
    "from typing import List"
   ]
  },
  {
   "cell_type": "code",
   "execution_count": 5,
   "metadata": {},
   "outputs": [],
   "source": [
    "MINIO_BUCKET = 'rdf-transformer'"
   ]
  },
  {
   "cell_type": "code",
   "execution_count": null,
   "metadata": {},
   "outputs": [],
   "source": [
    "class RMLMapper:\n",
    "\n",
    "    def __init__(self,\n",
    "                source_data:str,\n",
    "                mapper_rules: str,\n",
    "                ):\n",
    "            pass\n"
   ]
  },
  {
   "cell_type": "code",
   "execution_count": 34,
   "metadata": {},
   "outputs": [],
   "source": [
    "def rml_mapper(rml_rules_file_name: str, source_file_names: List[str]):\n",
    "    minio = store_registry.minio_object_store(minio_bucket=MINIO_BUCKET)\n",
    "    rml_rule = minio.get_object(object_name='rml_rules/'+rml_rules_file_name).decode('utf8')\n",
    "    sources = { file_name : minio.get_object(object_name='sources/'+file_name).decode('utf8')\n",
    "                for file_name in source_file_names}\n",
    "    rml_mapper_url = \"http://srv.meaningfy.ws:4000/execute\"\n",
    "    rml_mapper_query = {\"rml\": rml_rule, \"sources\": sources}\n",
    "    rml_mapper_query = json.dumps(rml_mapper_query)\n",
    "    rml_mapper_result = req.post(url, json = data)\n",
    "    if rml_mapper_result.ok:\n",
    "        return json.loads(x.text)['output']\n",
    "    else:\n",
    "        return None\n"
   ]
  },
  {
   "cell_type": "code",
   "execution_count": 35,
   "metadata": {},
   "outputs": [
    {
     "data": {
      "text/plain": [
       "'<http://example.com/John> <http://www.w3.org/1999/02/22-rdf-syntax-ns#type> <http://xmlns.com/foaf/0.1/Person>.\\n<http://example.com/John> <http://example.com/name> \"John\".\\n<http://example.com/Jane> <http://www.w3.org/1999/02/22-rdf-syntax-ns#type> <http://xmlns.com/foaf/0.1/Person>.\\n<http://example.com/Jane> <http://example.com/name> \"Jane\".\\n<http://example.com/Jane> <http://example.com/name> \"Sam\".\\n<http://example.com/Sarah> <http://www.w3.org/1999/02/22-rdf-syntax-ns#type> <http://xmlns.com/foaf/0.1/Person>.\\n<http://example.com/Sarah> <http://example.com/name> \"Sarah\".\\n'"
      ]
     },
     "execution_count": 35,
     "metadata": {},
     "output_type": "execute_result"
    }
   ],
   "source": [
    "rml_mapper(rml_rules_file_name='test_rules.rml',\n",
    "            source_file_names = ['test_source.json']\n",
    "            )"
   ]
  },
  {
   "cell_type": "code",
   "execution_count": 26,
   "metadata": {
    "collapsed": false,
    "pycharm": {
     "name": "#%%\n"
    }
   },
   "outputs": [],
   "source": [
    "data = {\n",
    "  \"rml\": rml_rule,\n",
    "  \"sources\": {\n",
    "    \"test_source.json\": source}\n",
    "}\n"
   ]
  },
  {
   "cell_type": "code",
   "execution_count": 27,
   "metadata": {},
   "outputs": [],
   "source": [
    "url = \"http://srv.meaningfy.ws:4000/execute\""
   ]
  },
  {
   "cell_type": "code",
   "execution_count": 28,
   "metadata": {
    "collapsed": false,
    "pycharm": {
     "name": "#%%\n"
    }
   },
   "outputs": [],
   "source": [
    "x = req.post(url, json = data)"
   ]
  },
  {
   "cell_type": "code",
   "execution_count": 30,
   "metadata": {},
   "outputs": [
    {
     "data": {
      "text/plain": [
       "True"
      ]
     },
     "execution_count": 30,
     "metadata": {},
     "output_type": "execute_result"
    }
   ],
   "source": [
    "x.ok"
   ]
  },
  {
   "cell_type": "code",
   "execution_count": 29,
   "metadata": {
    "collapsed": false,
    "pycharm": {
     "name": "#%%\n"
    }
   },
   "outputs": [
    {
     "data": {
      "text/plain": [
       "{'output': '<http://example.com/John> <http://www.w3.org/1999/02/22-rdf-syntax-ns#type> <http://xmlns.com/foaf/0.1/Person>.\\n<http://example.com/John> <http://example.com/name> \"John\".\\n<http://example.com/Jane> <http://www.w3.org/1999/02/22-rdf-syntax-ns#type> <http://xmlns.com/foaf/0.1/Person>.\\n<http://example.com/Jane> <http://example.com/name> \"Jane\".\\n<http://example.com/Jane> <http://example.com/name> \"Sam\".\\n<http://example.com/Sarah> <http://www.w3.org/1999/02/22-rdf-syntax-ns#type> <http://xmlns.com/foaf/0.1/Person>.\\n<http://example.com/Sarah> <http://example.com/name> \"Sarah\".\\n'}"
      ]
     },
     "execution_count": 29,
     "metadata": {},
     "output_type": "execute_result"
    }
   ],
   "source": [
    "tmp = json.loads(x.text)\n",
    "tmp"
   ]
  }
 ],
 "metadata": {
  "kernelspec": {
   "display_name": "Python 3 (ipykernel)",
   "language": "python",
   "name": "python3"
  },
  "language_info": {
   "codemirror_mode": {
    "name": "ipython",
    "version": 3
   },
   "file_extension": ".py",
   "mimetype": "text/x-python",
   "name": "python",
   "nbconvert_exporter": "python",
   "pygments_lexer": "ipython3",
   "version": "3.8.8"
  }
 },
 "nbformat": 4,
 "nbformat_minor": 0
}
