{
 "cells": [
  {
   "cell_type": "code",
   "execution_count": 1,
   "metadata": {
    "collapsed": true
   },
   "outputs": [],
   "source": [
    "import sys\n",
    "sys.path.append(\"/home/jovyan/work/sem-covid/\")\n",
    "sys.path = list(set(sys.path))\n",
    "import os\n",
    "os.getcwd()\n",
    "os.chdir('/home/jovyan/work/sem-covid/')\n",
    "\n",
    "from sem_covid import config\n",
    "from sem_covid.services.store_registry import store_registry\n",
    "from sem_covid.adapters.rml_mapper import RMLMapper\n",
    "from sem_covid.services.dataset_pipelines.rml_transform_pipeline import RMLTransformPipeline"
   ]
  },
  {
   "cell_type": "code",
   "execution_count": 2,
   "metadata": {},
   "outputs": [],
   "source": [
    "MINIO_RML_BUCKET = 'rdf-transformer'\n",
    "RML_RULES_FILE_NAME = 'ds_unified_dataset.ttl'\n",
    "RDF_RESULT_FILE_NAME = 'ds_unified_dataset_result.ttl'\n",
    "RML_MAPPING_SOURCES = ['country.json', 'datasets.json', 'eu_cellar_author_labels.json',\n",
    "                       'eu_cellar_directory_code_labels.json', 'eu_cellar_resource_type_labels.json',\n",
    "                       'eu_cellar_subject_matter_labels.json', 'eu_timeline_topic.json', 'ireland_keyword.json',\n",
    "                       'ireland_page_type.json', 'pwdb_actors.json', 'pwdb_category.json', 'pwdb_funding.json',\n",
    "                       'pwdb_target_group_l1.json', 'pwdb_target_group_l2.json', 'pwdb_type_of_measure.json']\n"
   ]
  },
  {
   "cell_type": "code",
   "execution_count": 3,
   "metadata": {
    "pycharm": {
     "name": "#%%\n"
    }
   },
   "outputs": [
    {
     "name": "stderr",
     "output_type": "stream",
     "text": [
      "100% (6360 of 6360) |####################| Elapsed Time: 0:00:16 Time:  0:00:16\n"
     ]
    }
   ],
   "source": [
    "rml_mapper = RMLMapper(rml_mapper_url= config.RML_MAPPER_URL)\n",
    "rml_transform_pipeline = RMLTransformPipeline(rml_rules_file_name= RML_RULES_FILE_NAME,\n",
    "                                              source_file_names = RML_MAPPING_SOURCES,\n",
    "                                              rdf_result_file_name = RDF_RESULT_FILE_NAME,\n",
    "                                              rml_mapper = rml_mapper,\n",
    "                                              object_storage = store_registry.minio_object_store(minio_bucket=MINIO_RML_BUCKET),\n",
    "                                              index_storage = store_registry.es_index_store(),\n",
    "                                              triple_storage= store_registry.fuseki_triple_store(),\n",
    "                                              use_sample_data= True\n",
    "                                              )\n",
    "rml_transform_pipeline.execute()"
   ]
  }
 ],
 "metadata": {
  "kernelspec": {
   "display_name": "Python 3 (ipykernel)",
   "language": "python",
   "name": "python3"
  },
  "language_info": {
   "codemirror_mode": {
    "name": "ipython",
    "version": 3
   },
   "file_extension": ".py",
   "mimetype": "text/x-python",
   "name": "python",
   "nbconvert_exporter": "python",
   "pygments_lexer": "ipython3",
   "version": "3.8.8"
  }
 },
 "nbformat": 4,
 "nbformat_minor": 0
}