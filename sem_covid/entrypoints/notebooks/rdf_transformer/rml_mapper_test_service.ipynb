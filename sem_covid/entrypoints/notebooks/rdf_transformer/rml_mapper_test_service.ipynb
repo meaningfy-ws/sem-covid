{
 "cells": [
  {
   "cell_type": "code",
   "execution_count": 1,
   "metadata": {
    "collapsed": true
   },
   "outputs": [],
   "source": [
    "import sys\n",
    "sys.path.append(\"/home/jovyan/work/sem-covid/\")\n",
    "sys.path = list(set(sys.path))\n",
    "import os\n",
    "os.getcwd()\n",
    "os.chdir('/home/jovyan/work/sem-covid/')\n",
    "from sem_covid import config\n",
    "from sem_covid.services.store_registry import store_registry\n",
    "import pandas as pd\n",
    "import requests as req\n",
    "import json\n",
    "from typing import List"
   ]
  },
  {
   "cell_type": "code",
   "execution_count": 2,
   "metadata": {},
   "outputs": [],
   "source": [
    "MINIO_RML_BUCKET = 'rdf-transformer'\n",
    "MINIO_RML_RULES_DIR = 'rml_rules'\n",
    "MINIO_RML_SOURCES_DIR = 'sources'\n",
    "MINIO_RML_RESULTS_DIR = 'results'"
   ]
  },
  {
   "cell_type": "code",
   "execution_count": 23,
   "metadata": {},
   "outputs": [],
   "source": [
    "from abc import ABC, abstractmethod\n",
    "from sem_covid.adapters.abstract_store import ObjectStoreABC\n",
    "\n",
    "class RMLMapperABC(ABC):\n",
    "\n",
    "    @abstractmethod\n",
    "    def transform(self, rml_rule: str, sources: dict) -> str:\n",
    "        pass\n",
    "\n",
    "class RMLMapper(RMLMapperABC):\n",
    "\n",
    "    def __init__(self,\n",
    "                rml_mapper_url: str\n",
    "                ):\n",
    "        self.rml_mapper_url = rml_mapper_url\n",
    "    \n",
    "    def transform(self, rml_rule: str, sources: dict)-> str:\n",
    "        rml_mapper_query = {\"rml\": rml_rule, \"sources\": sources}\n",
    "        rml_mapper_result = req.post(self.rml_mapper_url, json = rml_mapper_query)\n",
    "        if rml_mapper_result.ok:\n",
    "            return json.loads(rml_mapper_result.text)['output']\n",
    "        else:\n",
    "            print(rml_mapper_result)\n",
    "            return None\n",
    "\n",
    "class RMLTransformPipeline:\n",
    "\n",
    "    def __init__(self,\n",
    "                rml_rules_file_name: str,\n",
    "                source_file_names: List[str],\n",
    "                rdf_result_file_name: str,\n",
    "                rml_mapper: RMLMapperABC,\n",
    "                object_storage: ObjectStoreABC\n",
    "                ):\n",
    "        self.rml_rules_file_name = rml_rules_file_name\n",
    "        self.source_file_names = source_file_names\n",
    "        self.rdf_result_file_name = rdf_result_file_name\n",
    "        self.rml_mapper  = rml_mapper\n",
    "        self.object_storage = object_storage\n",
    "        self.rml_rule = None\n",
    "        self.sources = None\n",
    "        self.rdf_result = None\n",
    "    \n",
    "    def extract(self):\n",
    "        self.rml_rule = self.object_storage.get_object(object_name=f'{MINIO_RML_RULES_DIR}/{self.rml_rules_file_name}').decode('utf8')\n",
    "        self.sources = { file_name : self.object_storage.get_object(object_name=f'{MINIO_RML_SOURCES_DIR}/{file_name}').decode('utf8')\n",
    "                for file_name in self.source_file_names}\n",
    "    \n",
    "    def transform(self):\n",
    "        assert self.rml_rule is not None\n",
    "        assert self.sources is not None \n",
    "        self.rdf_result = self.rml_mapper.transform(rml_rule=self.rml_rule, sources = self.sources)\n",
    "\n",
    "    def load(self):\n",
    "        assert self.rdf_result is not None \n",
    "        self.object_storage.put_object(object_name=f'{MINIO_RML_RESULTS_DIR}/{self.rdf_result_file_name}', content=self.rdf_result.encode('utf8'))\n",
    "    \n",
    "    def execute(self):\n",
    "        self.extract()\n",
    "        self.transform()\n",
    "        self.load()"
   ]
  },
  {
   "cell_type": "code",
   "execution_count": 24,
   "metadata": {},
   "outputs": [],
   "source": [
    "rml_mapper = RMLMapper(rml_mapper_url=\"http://srv.meaningfy.ws:4000/execute\")\n",
    "rml_transform_pipeline = RMLTransformPipeline(rml_rules_file_name='test_rules.rml',\n",
    "                                              source_file_names = ['test_source.json'],\n",
    "                                              rdf_result_file_name = 'test_result.ttl',\n",
    "                                              rml_mapper = rml_mapper,\n",
    "                                              object_storage = store_registry.minio_object_store(minio_bucket=MINIO_RML_BUCKET)\n",
    "                                              )\n",
    "rml_transform_pipeline.execute()"
   ]
  },
  {
   "cell_type": "code",
   "execution_count": 21,
   "metadata": {},
   "outputs": [],
   "source": [
    "def rml_mapper(rml_rules_file_name: str, source_file_names: List[str]):\n",
    "    minio = store_registry.minio_object_store(minio_bucket=MINIO_RML_BUCKET)\n",
    "    rml_rule = minio.get_object(object_name='rml_rules/'+rml_rules_file_name).decode('utf8')\n",
    "    sources = { file_name : minio.get_object(object_name='sources/'+file_name).decode('utf8')\n",
    "                for file_name in source_file_names}\n",
    "    rml_mapper_url = \"http://srv.meaningfy.ws:4000/execute\"\n",
    "    rml_mapper_query = {\"rml\": rml_rule, \"sources\": sources}\n",
    "    #rml_mapper_query = json.dumps(rml_mapper_query)\n",
    "    rml_mapper_result = req.post(rml_mapper_url, json = rml_mapper_query)\n",
    "    if rml_mapper_result.ok:\n",
    "        return json.loads(rml_mapper_result.text)['output']\n",
    "    else:\n",
    "        print(\"Error\")\n",
    "        return None\n"
   ]
  },
  {
   "cell_type": "code",
   "execution_count": 22,
   "metadata": {},
   "outputs": [
    {
     "data": {
      "text/plain": [
       "'<http://example.com/John> <http://www.w3.org/1999/02/22-rdf-syntax-ns#type> <http://xmlns.com/foaf/0.1/Person>.\\n<http://example.com/John> <http://example.com/name> \"John\".\\n<http://example.com/Jane> <http://www.w3.org/1999/02/22-rdf-syntax-ns#type> <http://xmlns.com/foaf/0.1/Person>.\\n<http://example.com/Jane> <http://example.com/name> \"Jane\".\\n<http://example.com/Jane> <http://example.com/name> \"Sam\".\\n<http://example.com/Sarah> <http://www.w3.org/1999/02/22-rdf-syntax-ns#type> <http://xmlns.com/foaf/0.1/Person>.\\n<http://example.com/Sarah> <http://example.com/name> \"Sarah\".\\n'"
      ]
     },
     "execution_count": 22,
     "metadata": {},
     "output_type": "execute_result"
    }
   ],
   "source": [
    "rml_mapper(rml_rules_file_name='test_rules.rml',\n",
    "            source_file_names = ['test_source.json']\n",
    "            )"
   ]
  },
  {
   "cell_type": "code",
   "execution_count": 36,
   "metadata": {
    "collapsed": false,
    "pycharm": {
     "name": "#%%\n"
    }
   },
   "outputs": [],
   "source": [
    "data = {\n",
    "  \"rml\": rml_rule,\n",
    "  \"sources\": {\n",
    "    \"test_source.json\": source}\n",
    "}\n"
   ]
  },
  {
   "cell_type": "code",
   "execution_count": 27,
   "metadata": {},
   "outputs": [],
   "source": [
    "url = \"http://srv.meaningfy.ws:4000/execute\""
   ]
  },
  {
   "cell_type": "code",
   "execution_count": 28,
   "metadata": {
    "collapsed": false,
    "pycharm": {
     "name": "#%%\n"
    }
   },
   "outputs": [],
   "source": [
    "x = req.post(url, json = data)"
   ]
  },
  {
   "cell_type": "code",
   "execution_count": 30,
   "metadata": {},
   "outputs": [
    {
     "data": {
      "text/plain": [
       "True"
      ]
     },
     "execution_count": 30,
     "metadata": {},
     "output_type": "execute_result"
    }
   ],
   "source": [
    "x.ok"
   ]
  },
  {
   "cell_type": "code",
   "execution_count": 29,
   "metadata": {
    "collapsed": false,
    "pycharm": {
     "name": "#%%\n"
    }
   },
   "outputs": [
    {
     "data": {
      "text/plain": [
       "{'output': '<http://example.com/John> <http://www.w3.org/1999/02/22-rdf-syntax-ns#type> <http://xmlns.com/foaf/0.1/Person>.\\n<http://example.com/John> <http://example.com/name> \"John\".\\n<http://example.com/Jane> <http://www.w3.org/1999/02/22-rdf-syntax-ns#type> <http://xmlns.com/foaf/0.1/Person>.\\n<http://example.com/Jane> <http://example.com/name> \"Jane\".\\n<http://example.com/Jane> <http://example.com/name> \"Sam\".\\n<http://example.com/Sarah> <http://www.w3.org/1999/02/22-rdf-syntax-ns#type> <http://xmlns.com/foaf/0.1/Person>.\\n<http://example.com/Sarah> <http://example.com/name> \"Sarah\".\\n'}"
      ]
     },
     "execution_count": 29,
     "metadata": {},
     "output_type": "execute_result"
    }
   ],
   "source": [
    "tmp = json.loads(x.text)\n",
    "tmp"
   ]
  },
  {
   "cell_type": "code",
   "execution_count": 3,
   "metadata": {},
   "outputs": [],
   "source": [
    "\n",
    "url = 'https://arxiv.org/pdf/1912.04141.pdf'\n",
    "response = req.get(url)"
   ]
  },
  {
   "cell_type": "code",
   "execution_count": null,
   "metadata": {},
   "outputs": [],
   "source": [
    "import base64\n",
    "encoded = base64.b64encode(response.content)"
   ]
  },
  {
   "cell_type": "code",
   "execution_count": null,
   "metadata": {},
   "outputs": [],
   "source": []
  }
 ],
 "metadata": {
  "kernelspec": {
   "display_name": "Python 3 (ipykernel)",
   "language": "python",
   "name": "python3"
  },
  "language_info": {
   "codemirror_mode": {
    "name": "ipython",
    "version": 3
   },
   "file_extension": ".py",
   "mimetype": "text/x-python",
   "name": "python",
   "nbconvert_exporter": "python",
   "pygments_lexer": "ipython3",
   "version": "3.8.8"
  }
 },
 "nbformat": 4,
 "nbformat_minor": 0
}
