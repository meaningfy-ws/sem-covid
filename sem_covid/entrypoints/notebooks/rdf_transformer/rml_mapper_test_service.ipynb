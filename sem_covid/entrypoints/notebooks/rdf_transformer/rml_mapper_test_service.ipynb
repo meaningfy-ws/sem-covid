{
 "cells": [
  {
   "cell_type": "code",
   "execution_count": 1,
   "metadata": {
    "collapsed": true
   },
   "outputs": [],
   "source": [
    "import sys\n",
    "sys.path.append(\"/home/jovyan/work/sem-covid/\")\n",
    "sys.path = list(set(sys.path))\n",
    "import os\n",
    "os.getcwd()\n",
    "os.chdir('/home/jovyan/work/sem-covid/')\n",
    "from sem_covid import config\n",
    "from sem_covid.services.store_registry import store_registry\n",
    "import pandas as pd\n",
    "import requests as req\n",
    "import json\n",
    "from typing import List"
   ]
  },
  {
   "cell_type": "code",
   "execution_count": 2,
   "metadata": {},
   "outputs": [],
   "source": [
    "RML_MAPPER_URL = \"http://srv.meaningfy.ws:4000/execute\"\n",
    "MINIO_RML_BUCKET = 'rdf-transformer'\n",
    "MINIO_RML_RULES_DIR = 'rml_rules'\n",
    "MINIO_RML_SOURCES_DIR = 'fields'\n",
    "MINIO_RML_RESULTS_DIR = 'results'\n",
    "DATASET_INDEX_NAME = 'ds_unified_dataset'\n",
    "DATASET_PART_SIZE = 100\n",
    "RML_RULES_FILE_NAME = 'ds_unified_dataset.ttl'\n",
    "RDF_RESULT_FILE_NAME = 'ds_unified_dataset_result.ttl'\n",
    "RML_MAPPING_SOURCES = ['country.json', 'datasets.json', 'eu_cellar_author_labels.json',\n",
    "                       'eu_cellar_directory_code_labels.json', 'eu_cellar_resource_type_labels.json',\n",
    "                       'eu_cellar_subject_matter_labels.json', 'eu_timeline_topic.json', 'ireland_keyword.json',\n",
    "                       'ireland_page_type.json', 'pwdb_actors.json', 'pwdb_category.json', 'pwdb_funding.json',\n",
    "                       'pwdb_target_group_l1.json', 'pwdb_target_group_l2.json', 'pwdb_type_of_measure.json']\n",
    "RDF_RESULT_FORMAT = 'nt11'\n"
   ]
  },
  {
   "cell_type": "code",
   "execution_count": 3,
   "metadata": {},
   "outputs": [],
   "source": [
    "from abc import ABC, abstractmethod\n",
    "from sem_covid.adapters.abstract_store import ObjectStoreABC, IndexStoreABC, TripleStoreABC\n",
    "import numpy as np\n",
    "\n",
    "class RMLMapperABC(ABC):\n",
    "\n",
    "    @abstractmethod\n",
    "    def transform(self, rml_rule: str, sources: dict) -> str:\n",
    "        pass\n",
    "\n",
    "class RMLMapper(RMLMapperABC):\n",
    "\n",
    "    def __init__(self,\n",
    "                rml_mapper_url: str\n",
    "                ):\n",
    "        self.rml_mapper_url = rml_mapper_url\n",
    "    \n",
    "    def transform(self, rml_rule: str, sources: dict)-> str:\n",
    "        rml_mapper_query = {\"rml\": rml_rule, \"sources\": sources}\n",
    "        rml_mapper_result = req.post(self.rml_mapper_url, json = rml_mapper_query)\n",
    "        if rml_mapper_result.ok:\n",
    "            return json.loads(rml_mapper_result.text)['output']\n",
    "        else:\n",
    "            print(rml_mapper_result)\n",
    "            return None\n",
    "\n",
    "class RMLTransformPipeline:\n",
    "\n",
    "    def __init__(self,\n",
    "                rml_rules_file_name: str,\n",
    "                source_file_names: List[str],\n",
    "                rdf_result_file_name: str,\n",
    "                rml_mapper: RMLMapperABC,\n",
    "                object_storage: ObjectStoreABC,\n",
    "                index_storage: IndexStoreABC,\n",
    "                triple_storage: TripleStoreABC\n",
    "                ):\n",
    "        self.rml_rules_file_name = rml_rules_file_name\n",
    "        self.source_file_names = source_file_names\n",
    "        self.rdf_result_file_name = rdf_result_file_name\n",
    "        self.rml_mapper  = rml_mapper\n",
    "        self.object_storage = object_storage\n",
    "        self.index_storage = index_storage\n",
    "        self.triple_storage = triple_storage\n",
    "        self.rml_rule = None\n",
    "        self.sources = None\n",
    "        self.rdf_results = None\n",
    "        self.dataset_parts = None\n",
    "    \n",
    "    def extract(self):\n",
    "        self.rml_rule = self.object_storage.get_object(object_name=f'{MINIO_RML_RULES_DIR}/{self.rml_rules_file_name}').decode('utf8')\n",
    "        self.sources = { file_name : self.object_storage.get_object(object_name=f'{MINIO_RML_SOURCES_DIR}/{file_name}').decode('utf8')\n",
    "                for file_name in self.source_file_names}\n",
    "        dataset = self.index_storage.get_dataframe(index_name=DATASET_INDEX_NAME).head(100)\n",
    "        dataset['index'] = dataset.index\n",
    "        self.dataset = dataset\n",
    "        df_size = len(self.dataset)\n",
    "        part_size = DATASET_PART_SIZE\n",
    "        number_of_parts = int(round(df_size/part_size,0)) +1\n",
    "        self.dataset_parts = np.array_split(self.dataset, number_of_parts)  \n",
    "\n",
    "    def transform(self):\n",
    "        assert self.rml_rule is not None\n",
    "        assert self.sources is not None\n",
    "        assert self.dataset_parts is not None \n",
    "        self.rdf_results = []\n",
    "        for dataset_part in self.dataset_parts:\n",
    "            sources = self.sources.copy()\n",
    "            sources['data.json'] = dataset_part.to_json(orient='index')\n",
    "            self.rdf_results.append(self.rml_mapper.transform(rml_rule=self.rml_rule, sources = sources))\n",
    "        self.rdf_results = '\\n'.join(self.rdf_results) # this is the source of potential resource issues\n",
    "\n",
    "    def load(self):\n",
    "        assert self.rdf_results is not None \n",
    "        self.object_storage.put_object(object_name=f'{MINIO_RML_RESULTS_DIR}/{self.rdf_result_file_name}', content=self.rdf_results.encode('utf8'))\n",
    "        self.triple_storage.create_dataset(dataset_id=DATASET_INDEX_NAME)\n",
    "        self.triple_storage.upload_triples(dataset_id=DATASET_INDEX_NAME,quoted_triples = self.rdf_results, rdf_fmt = RDF_RESULT_FORMAT)\n",
    "\n",
    "    def execute(self):\n",
    "        self.extract()\n",
    "        self.transform()\n",
    "        self.load()"
   ]
  },
  {
   "cell_type": "code",
   "execution_count": 4,
   "metadata": {
    "pycharm": {
     "name": "#%%\n"
    }
   },
   "outputs": [
    {
     "name": "stderr",
     "output_type": "stream",
     "text": [
      "100% (6360 of 6360) |####################| Elapsed Time: 0:00:16 Time:  0:00:16\n"
     ]
    }
   ],
   "source": [
    "rml_mapper = RMLMapper(rml_mapper_url= RML_MAPPER_URL)\n",
    "rml_transform_pipeline = RMLTransformPipeline(rml_rules_file_name= RML_RULES_FILE_NAME,\n",
    "                                              source_file_names = RML_MAPPING_SOURCES,\n",
    "                                              rdf_result_file_name = RDF_RESULT_FILE_NAME,\n",
    "                                              rml_mapper = rml_mapper,\n",
    "                                              object_storage = store_registry.minio_object_store(minio_bucket=MINIO_RML_BUCKET),\n",
    "                                              index_storage = store_registry.es_index_store(),\n",
    "                                              triple_storage= store_registry.fuseki_triple_store()\n",
    "                                              )\n",
    "rml_transform_pipeline.execute()"
   ]
  }
 ],
 "metadata": {
  "kernelspec": {
   "display_name": "Python 3 (ipykernel)",
   "language": "python",
   "name": "python3"
  },
  "language_info": {
   "codemirror_mode": {
    "name": "ipython",
    "version": 3
   },
   "file_extension": ".py",
   "mimetype": "text/x-python",
   "name": "python",
   "nbconvert_exporter": "python",
   "pygments_lexer": "ipython3",
   "version": "3.8.8"
  }
 },
 "nbformat": 4,
 "nbformat_minor": 0
}