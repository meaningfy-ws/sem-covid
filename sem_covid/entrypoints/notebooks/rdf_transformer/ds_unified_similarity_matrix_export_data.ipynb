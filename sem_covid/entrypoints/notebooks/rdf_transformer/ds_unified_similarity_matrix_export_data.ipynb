{
 "cells": [
  {
   "cell_type": "code",
   "execution_count": 1,
   "metadata": {
    "collapsed": true
   },
   "outputs": [],
   "source": [
    "import sys\n",
    "\n",
    "from sem_covid.services.dataset_pipelines.similarity_matrix_rml_transformation_pipeline import SemanticSimilarityMapRMLTransformPipeline\n",
    "\n",
    "sys.path.append(\"/home/jovyan/work/sem-covid/\")\n",
    "sys.path = list(set(sys.path))\n",
    "\n",
    "import os\n",
    "os.getcwd()\n",
    "os.chdir('/home/jovyan/work/sem-covid/')\n",
    "from sem_covid.services.store_registry import store_registry\n",
    "import pandas as pd\n",
    "import json"
   ]
  },
  {
   "cell_type": "code",
   "execution_count": 16,
   "outputs": [
    {
     "name": "stdout",
     "output_type": "stream",
     "text": [
      "* \u001B[32mfeature/SC-467\u001B[m\r\n",
      "  main\u001B[m\r\n"
     ]
    }
   ],
   "source": [
    "!git branch"
   ],
   "metadata": {
    "collapsed": false,
    "pycharm": {
     "name": "#%%\n"
    }
   }
  },
  {
   "cell_type": "code",
   "execution_count": 2,
   "outputs": [],
   "source": [
    "SEMANTIC_SIMILARITY_MINIO_BUCKET = 'semantic-similarity-matrices'\n",
    "RDF_TRANSFORMER_MINIO_BUCKET = 'rdf-transformer'\n",
    "SEMANTIC_SIMILARITY_DATAFRAME = 'unified_dataset_similarity_matrix.pkl'\n",
    "DS_UNIFIED_SEM_SIMILARITY_MATRIX = 'ds_unified_sem_similarity_matrix'"
   ],
   "metadata": {
    "collapsed": false,
    "pycharm": {
     "name": "#%%\n"
    }
   }
  },
  {
   "cell_type": "code",
   "execution_count": 3,
   "outputs": [],
   "source": [
    "# feature_store = store_registry.minio_feature_store(minio_bucket=SEMANTIC_SIMILARITY_MINIO_BUCKET)\n",
    "# minio = store_registry.minio_object_store(minio_bucket=RDF_TRANSFORMER_MINIO_BUCKET)\n",
    "# sim_df = feature_store.get_features(features_name=SEMANTIC_SIMILARITY_DATAFRAME)"
   ],
   "metadata": {
    "collapsed": false,
    "pycharm": {
     "name": "#%%\n"
    }
   }
  },
  {
   "cell_type": "code",
   "execution_count": 4,
   "outputs": [],
   "source": [
    "# tmp = pd.DataFrame(sim_df.head(5).copy())"
   ],
   "metadata": {
    "collapsed": false,
    "pycharm": {
     "name": "#%%\n"
    }
   }
  },
  {
   "cell_type": "code",
   "execution_count": 5,
   "outputs": [],
   "source": [
    "# result = []\n",
    "# for iter, rows in tmp.iterrows():\n",
    "#     result+=[{\"measure_src\": iter,\"measure_dest\": dest, \"similarity\": rows[dest]} for dest in rows.index]"
   ],
   "metadata": {
    "collapsed": false,
    "pycharm": {
     "name": "#%%\n"
    }
   }
  },
  {
   "cell_type": "code",
   "execution_count": 6,
   "outputs": [],
   "source": [
    "# json_result = json.dumps({'similarity_matrix':result})"
   ],
   "metadata": {
    "collapsed": false,
    "pycharm": {
     "name": "#%%\n"
    }
   }
  },
  {
   "cell_type": "code",
   "execution_count": 7,
   "outputs": [
    {
     "data": {
      "text/plain": "2104"
     },
     "execution_count": 7,
     "metadata": {},
     "output_type": "execute_result"
    }
   ],
   "source": [
    "# minio.put_object(object_name=f'sources/{DS_UNIFIED_SEM_SIMILARITY_MATRIX}.json', content=json_result)"
   ],
   "metadata": {
    "collapsed": false,
    "pycharm": {
     "name": "#%%\n"
    }
   }
  },
  {
   "cell_type": "code",
   "execution_count": 3,
   "outputs": [],
   "source": [
    "from sem_covid import config\n",
    "from sem_covid.adapters.rml_mapper import RMLMapper\n",
    "MINIO_RML_RULES_DIR = 'rml_rules'"
   ],
   "metadata": {
    "collapsed": false,
    "pycharm": {
     "name": "#%%\n"
    }
   }
  },
  {
   "cell_type": "code",
   "execution_count": 5,
   "outputs": [],
   "source": [
    "RML_RULES_FILE_NAME = 'ds_unified_similarity_matrix.ttl'\n",
    "RDF_RESULT_FILE_NAME = 'ds_unified_similarity_matrix_result.ttl'\n",
    "\n",
    "rml_mapper = RMLMapper(rml_mapper_url= config.RML_MAPPER_URL)\n",
    "rml_transform_pipeline = SemanticSimilarityMapRMLTransformPipeline(rml_rules_file_name= RML_RULES_FILE_NAME,\n",
    "                                                                  source_file_name= SEMANTIC_SIMILARITY_DATAFRAME,\n",
    "                                                                  rdf_result_file_name = RDF_RESULT_FILE_NAME,\n",
    "                                                                  rml_mapper = rml_mapper,\n",
    "                                                                  object_storage = store_registry.minio_object_store(minio_bucket=RDF_TRANSFORMER_MINIO_BUCKET),\n",
    "                                                                  feature_storage = store_registry.minio_feature_store(minio_bucket=SEMANTIC_SIMILARITY_MINIO_BUCKET),\n",
    "                                                                  triple_storage= store_registry.fuseki_triple_store(),\n",
    "                                                                  use_sample_data= True\n",
    "                                                                  )\n",
    "# rml_transform_pipeline.execute()"
   ],
   "metadata": {
    "collapsed": false,
    "pycharm": {
     "name": "#%%\n"
    }
   }
  },
  {
   "cell_type": "code",
   "execution_count": 6,
   "outputs": [],
   "source": [
    "rml_transform_pipeline.extract()"
   ],
   "metadata": {
    "collapsed": false,
    "pycharm": {
     "name": "#%%\n"
    }
   }
  },
  {
   "cell_type": "markdown",
   "source": [],
   "metadata": {
    "collapsed": false,
    "pycharm": {
     "name": "#%% md\n"
    }
   }
  }
 ],
 "metadata": {
  "kernelspec": {
   "display_name": "Python 3",
   "language": "python",
   "name": "python3"
  },
  "language_info": {
   "codemirror_mode": {
    "name": "ipython",
    "version": 2
   },
   "file_extension": ".py",
   "mimetype": "text/x-python",
   "name": "python",
   "nbconvert_exporter": "python",
   "pygments_lexer": "ipython2",
   "version": "2.7.6"
  }
 },
 "nbformat": 4,
 "nbformat_minor": 0
}