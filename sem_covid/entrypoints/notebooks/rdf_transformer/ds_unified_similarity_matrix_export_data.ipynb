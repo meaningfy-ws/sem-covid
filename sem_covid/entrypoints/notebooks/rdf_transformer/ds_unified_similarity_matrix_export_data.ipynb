{
 "cells": [
  {
   "cell_type": "code",
   "execution_count": 1,
   "metadata": {
    "collapsed": true
   },
   "outputs": [],
   "source": [
    "import sys\n",
    "sys.path.append(\"/home/jovyan/work/sem-covid/\")\n",
    "sys.path = list(set(sys.path))\n",
    "\n",
    "import os\n",
    "os.getcwd()\n",
    "os.chdir('/home/jovyan/work/sem-covid/')\n",
    "from sem_covid.services.store_registry import store_registry\n",
    "import pandas as pd\n",
    "import json"
   ]
  },
  {
   "cell_type": "code",
   "execution_count": 2,
   "outputs": [],
   "source": [
    "SEMANTIC_SIMILARITY_MINIO_BUCKET = 'semantic-similarity-matrices'\n",
    "RDF_TRANSFORMER_MINIO_BUCKET = 'rdf-transformer'\n",
    "SEMANTIC_SIMILARITY_DATAFRAME = 'unified_dataset_similarity_matrix.pkl'\n",
    "DS_UNIFIED_SEM_SIMILARITY_MATRIX = 'ds_unified_sem_similarity_matrix'"
   ],
   "metadata": {
    "collapsed": false,
    "pycharm": {
     "name": "#%%\n"
    }
   }
  },
  {
   "cell_type": "code",
   "execution_count": 3,
   "outputs": [],
   "source": [
    "feature_store = store_registry.minio_feature_store(minio_bucket=SEMANTIC_SIMILARITY_MINIO_BUCKET)\n",
    "minio = store_registry.minio_object_store(minio_bucket=RDF_TRANSFORMER_MINIO_BUCKET)\n",
    "sim_df = feature_store.get_features(features_name=SEMANTIC_SIMILARITY_DATAFRAME)"
   ],
   "metadata": {
    "collapsed": false,
    "pycharm": {
     "name": "#%%\n"
    }
   }
  },
  {
   "cell_type": "code",
   "execution_count": 4,
   "outputs": [],
   "source": [
    "tmp = pd.DataFrame(sim_df.head(5).copy())"
   ],
   "metadata": {
    "collapsed": false,
    "pycharm": {
     "name": "#%%\n"
    }
   }
  },
  {
   "cell_type": "code",
   "execution_count": 5,
   "outputs": [],
   "source": [
    "result = []\n",
    "for iter, rows in tmp.iterrows():\n",
    "    result+=[{\"measure_src\": iter,\"measure_dest\": dest, \"similarity\": rows[dest]} for dest in rows.index[:5]]"
   ],
   "metadata": {
    "collapsed": false,
    "pycharm": {
     "name": "#%%\n"
    }
   }
  },
  {
   "cell_type": "code",
   "execution_count": 6,
   "outputs": [],
   "source": [
    "json_result = json.dumps({'similarity_matrix':result})"
   ],
   "metadata": {
    "collapsed": false,
    "pycharm": {
     "name": "#%%\n"
    }
   }
  },
  {
   "cell_type": "code",
   "execution_count": 7,
   "outputs": [
    {
     "data": {
      "text/plain": "2104"
     },
     "execution_count": 7,
     "metadata": {},
     "output_type": "execute_result"
    }
   ],
   "source": [
    "minio.put_object(object_name=f'sources/{DS_UNIFIED_SEM_SIMILARITY_MATRIX}.json', content=json_result)"
   ],
   "metadata": {
    "collapsed": false,
    "pycharm": {
     "name": "#%%\n"
    }
   }
  },
  {
   "cell_type": "code",
   "execution_count": 12,
   "outputs": [],
   "source": [
    "from sem_covid import config\n",
    "from sem_covid.adapters.rml_mapper import RMLMapper\n",
    "MINIO_RML_RULES_DIR = 'rml_rules'\n",
    "RML_RULES_FILE_NAME = 'ds_unified_similarity_matrix.ttl'\n",
    "\n",
    "rml_rule = minio.get_object(\n",
    "            object_name=f'{MINIO_RML_RULES_DIR}/{RML_RULES_FILE_NAME}').decode('utf8')\n",
    "\n",
    "rml_mapper = RMLMapper(rml_mapper_url= config.RML_MAPPER_URL)\n",
    "sources = {'ds_unified_sem_similarity_matrix.json': json_result}\n",
    "result = rml_mapper.transform(rml_rule=rml_rule, sources=sources)"
   ],
   "metadata": {
    "collapsed": false,
    "pycharm": {
     "name": "#%%\n"
    }
   }
  },
  {
   "cell_type": "code",
   "execution_count": 14,
   "outputs": [],
   "source": [
    "import numpy as np\n",
    "from sem_covid.adapters.abstract_store import ObjectStoreABC, FeatureStoreABC, TripleStoreABC\n",
    "from sem_covid.adapters.rml_mapper import RMLMapperABC\n",
    "from typing import List\n",
    "\n",
    "MINIO_RML_RULES_DIR = 'rml_rules'\n",
    "MINIO_RML_SOURCES_DIR = 'fields'\n",
    "MINIO_RML_RESULTS_DIR = 'results'\n",
    "DATASET_INDEX_NAME = 'ds_unified_dataset'\n",
    "DATASET_PART_SIZE = 100\n",
    "RDF_RESULT_FORMAT = 'nt11'\n",
    "\n",
    "class SemanticSimilarityMapRMLTransformPipeline:\n",
    "    \"\"\"\n",
    "\n",
    "    \"\"\"\n",
    "    def __init__(self,\n",
    "                 rml_rules_file_name: str,\n",
    "                 source_file_names: List[str],\n",
    "                 rdf_result_file_name: str,\n",
    "                 rml_mapper: RMLMapperABC,\n",
    "                 object_storage: ObjectStoreABC,\n",
    "                 feature_storage: FeatureStoreABC,\n",
    "                 triple_storage: TripleStoreABC,\n",
    "                 use_sample_data: bool = False\n",
    "                 ):\n",
    "        \"\"\"\n",
    "\n",
    "        :param rml_rules_file_name:\n",
    "        :param source_file_names:\n",
    "        :param rdf_result_file_name:\n",
    "        :param rml_mapper:\n",
    "        :param object_storage:\n",
    "        :param index_storage:\n",
    "        :param triple_storage:\n",
    "        \"\"\"\n",
    "        self.rml_rules_file_name = rml_rules_file_name\n",
    "        self.source_file_names = source_file_names\n",
    "        self.rdf_result_file_name = rdf_result_file_name\n",
    "        self.rml_mapper = rml_mapper\n",
    "        self.object_storage = object_storage\n",
    "        self.feature_storage = feature_storage\n",
    "        self.triple_storage = triple_storage\n",
    "        self.rml_rule = None\n",
    "        self.sources = None\n",
    "        self.rdf_results = None\n",
    "        self.dataset_parts = None\n",
    "        self.use_sample_data = use_sample_data\n",
    "\n",
    "    def extract(self):\n",
    "        \"\"\"\n",
    "\n",
    "        :return:\n",
    "        \"\"\"\n",
    "        self.rml_rule = self.object_storage.get_object(\n",
    "            object_name=f'{MINIO_RML_RULES_DIR}/{self.rml_rules_file_name}').decode('utf8')\n",
    "        self.sources = {\n",
    "            file_name: self.object_storage.get_object(object_name=f'{MINIO_RML_SOURCES_DIR}/{file_name}').decode('utf8')\n",
    "            for file_name in self.source_file_names}\n",
    "        dataset = self.feature_storage.get_dataframe(index_name=DATASET_INDEX_NAME)\n",
    "        dataset['index'] = dataset.index\n",
    "        if self.use_sample_data:\n",
    "            self.dataset = dataset.head(100)\n",
    "        else:\n",
    "            self.dataset = dataset\n",
    "        df_size = len(self.dataset)\n",
    "        part_size = DATASET_PART_SIZE\n",
    "        number_of_parts = int(round(df_size / part_size, 0)) + 1\n",
    "        self.dataset_parts = np.array_split(self.dataset, number_of_parts)\n",
    "\n",
    "    def transform(self):\n",
    "        \"\"\"\n",
    "\n",
    "        :return:\n",
    "        \"\"\"\n",
    "        assert self.rml_rule is not None\n",
    "        assert self.sources is not None\n",
    "        assert self.dataset_parts is not None\n",
    "        self.rdf_results = []\n",
    "        for dataset_part in self.dataset_parts:\n",
    "            sources = self.sources.copy()\n",
    "            sources['data.json'] = dataset_part.to_json(orient='index')\n",
    "            self.rdf_results.append(self.rml_mapper.transform(rml_rule=self.rml_rule, sources=sources))\n",
    "        self.rdf_results = '\\n'.join(self.rdf_results)  # this is the source of potential resource issues\n",
    "\n",
    "    def load(self):\n",
    "        \"\"\"\n",
    "\n",
    "        :return:\n",
    "        \"\"\"\n",
    "        assert self.rdf_results is not None\n",
    "        self.object_storage.put_object(object_name=f'{MINIO_RML_RESULTS_DIR}/{self.rdf_result_file_name}',\n",
    "                                       content=self.rdf_results.encode('utf8'))\n",
    "        self.triple_storage.create_dataset(dataset_id=DATASET_INDEX_NAME)\n",
    "        self.triple_storage.upload_triples(dataset_id=DATASET_INDEX_NAME, quoted_triples=self.rdf_results,\n",
    "                                           rdf_fmt=RDF_RESULT_FORMAT)\n",
    "\n",
    "    def execute(self):\n",
    "        \"\"\"\n",
    "\n",
    "        :return:\n",
    "        \"\"\"\n",
    "        self.extract()\n",
    "        self.transform()\n",
    "        self.load()"
   ],
   "metadata": {
    "collapsed": false,
    "pycharm": {
     "name": "#%%\n"
    }
   }
  },
  {
   "cell_type": "code",
   "execution_count": null,
   "outputs": [],
   "source": [
    "MINIO_RML_BUCKET = 'rdf-transformer'\n",
    "RML_RULES_FILE_NAME = 'ds_unified_dataset.ttl'\n",
    "RDF_RESULT_FILE_NAME = 'ds_unified_dataset_result.ttl'\n",
    "RML_MAPPING_SOURCES = ['country.json', 'datasets.json', 'eu_cellar_author_labels.json',\n",
    "                       'eu_cellar_directory_code_labels.json', 'eu_cellar_resource_type_labels.json',\n",
    "                       'eu_cellar_subject_matter_labels.json', 'eu_timeline_topic.json', 'ireland_keyword.json',\n",
    "                       'ireland_page_type.json', 'pwdb_actors.json', 'pwdb_category.json', 'pwdb_funding.json',\n",
    "                       'pwdb_target_group_l1.json', 'pwdb_target_group_l2.json', 'pwdb_type_of_measure.json']"
   ],
   "metadata": {
    "collapsed": false,
    "pycharm": {
     "name": "#%%\n"
    }
   }
  }
 ],
 "metadata": {
  "kernelspec": {
   "display_name": "Python 3",
   "language": "python",
   "name": "python3"
  },
  "language_info": {
   "codemirror_mode": {
    "name": "ipython",
    "version": 2
   },
   "file_extension": ".py",
   "mimetype": "text/x-python",
   "name": "python",
   "nbconvert_exporter": "python",
   "pygments_lexer": "ipython2",
   "version": "2.7.6"
  }
 },
 "nbformat": 4,
 "nbformat_minor": 0
}