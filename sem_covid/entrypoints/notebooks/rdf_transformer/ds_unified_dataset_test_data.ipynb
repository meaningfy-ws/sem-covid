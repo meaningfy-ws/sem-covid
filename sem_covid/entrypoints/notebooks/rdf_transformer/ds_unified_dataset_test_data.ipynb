{
 "cells": [
  {
   "cell_type": "code",
   "execution_count": 1,
   "metadata": {},
   "outputs": [],
   "source": [
    "import sys\n",
    "sys.path.append(\"/home/jovyan/work/sem-covid/\")\n",
    "sys.path = list(set(sys.path))\n",
    "\n",
    "import os\n",
    "os.getcwd()\n",
    "os.chdir('/home/jovyan/work/sem-covid/')\n",
    "from sem_covid import config\n",
    "from sem_covid.services.store_registry import store_registry\n",
    "import pandas as pd"
   ]
  },
  {
   "cell_type": "code",
   "execution_count": 25,
   "metadata": {},
   "outputs": [],
   "source": [
    "DS_UNIFIED_TEST_DATASET_FILE_NAME = 'ds_unified_test_dataset.json'\n",
    "MINIO_BUCKET = 'rdf-transformer'\n",
    "MINIMIZE_COLUMNS_DATA = ['title','content', 'content_cleaned_topic_modeling',\n",
    "                         'document_embeddings_use', 'document_embeddings_eurlex_bert', 'topic_embeddings_eurlex_bert']"
   ]
  },
  {
   "cell_type": "code",
   "execution_count": 26,
   "metadata": {},
   "outputs": [
    {
     "name": "stderr",
     "output_type": "stream",
     "text": [
      "100% (6360 of 6360) |####################| Elapsed Time: 0:00:15 Time:  0:00:15\n"
     ]
    }
   ],
   "source": [
    "df = store_registry.es_index_store().get_dataframe(index_name='ds_unified_dataset')\n",
    "test_df = pd.DataFrame(df.head(100))"
   ]
  },
  {
   "cell_type": "code",
   "execution_count": 27,
   "outputs": [
    {
     "data": {
      "text/plain": "Index(['title', 'content', 'content_cleaned_topic_modeling', 'date',\n       'doc_source', 'country', 'pwdb_category', 'pwdb_target_group_l1',\n       'pwdb_funding', 'pwdb_type_of_measure', 'pwdb_actors',\n       'document_embeddings_use', 'document_embeddings_eurlex_bert',\n       'topic_embeddings_eurlex_bert', 'eu_cellar_subject_matter_labels',\n       'eu_cellar_resource_type_labels', 'eu_cellar_directory_code_labels',\n       'eu_cellar_author_labels', 'pwdb_target_group_l2', 'ireland_keyword',\n       'ireland_department_data', 'ireland_campaign', 'ireland_page_type',\n       'eu_timeline_topic'],\n      dtype='object')"
     },
     "execution_count": 27,
     "metadata": {},
     "output_type": "execute_result"
    }
   ],
   "source": [
    "test_df.columns"
   ],
   "metadata": {
    "collapsed": false,
    "pycharm": {
     "name": "#%%\n"
    }
   }
  },
  {
   "cell_type": "code",
   "execution_count": 28,
   "outputs": [],
   "source": [
    "for column in MINIMIZE_COLUMNS_DATA:\n",
    "    test_df[column] = test_df[column].apply(lambda x: x[:5])\n",
    "test_df.reset_index(drop=True,inplace=True)"
   ],
   "metadata": {
    "collapsed": false,
    "pycharm": {
     "name": "#%%\n"
    }
   }
  },
  {
   "cell_type": "code",
   "execution_count": 29,
   "metadata": {},
   "outputs": [
    {
     "data": {
      "text/plain": "108216"
     },
     "execution_count": 29,
     "metadata": {},
     "output_type": "execute_result"
    }
   ],
   "source": [
    "minio = store_registry.minio_object_store(minio_bucket=MINIO_BUCKET)\n",
    "minio.put_object(object_name=DS_UNIFIED_TEST_DATASET_FILE_NAME,content=test_df.to_json(orient='index'))"
   ]
  },
  {
   "cell_type": "code",
   "execution_count": 30,
   "metadata": {},
   "outputs": [],
   "source": [
    "tmp_df = pd.read_json(minio.get_object(object_name=DS_UNIFIED_TEST_DATASET_FILE_NAME), orient='index')"
   ]
  },
  {
   "cell_type": "code",
   "execution_count": 31,
   "metadata": {},
   "outputs": [
    {
     "data": {
      "text/plain": "   title content content_cleaned_topic_modeling       date    doc_source  \\\n0  COMMI   COMMI                          commi 2021-01-12  ds_eu_cellar   \n1  Regul   Regul                          regul 2021-02-16  ds_eu_cellar   \n2  COMMU   COMMU                          commu 2021-02-03  ds_eu_cellar   \n3  Europ   Europ                          europ 2020-05-15  ds_eu_cellar   \n4  REPOR   REPOR                          repor 2021-09-09  ds_eu_cellar   \n\n          country                                      pwdb_category  \\\n0  European Union     Protection of workers, adaptation of workplace   \n1  European Union  Ensuring business continuity and support for e...   \n2  European Union               Reorientation of business activities   \n3  European Union  Promoting the economic, labour market and soci...   \n4  European Union     Protection of workers, adaptation of workplace   \n\n  pwdb_target_group_l1                                      pwdb_funding  \\\n0         [businesses]  [European Funds, National funds, Regional funds]   \n1            [workers]                     [No special funding required]   \n2                   []                  [European Funds, Regional funds]   \n3                   []  [European Funds, National funds, Regional funds]   \n4            [workers]                     [No special funding required]   \n\n                          pwdb_type_of_measure  ...  \\\n0                Other initiatives or policies  ...   \n1  Legislations or other statutory regulations  ...   \n2                            Company practices  ...   \n3  Legislations or other statutory regulations  ...   \n4  Legislations or other statutory regulations  ...   \n\n                     eu_cellar_subject_matter_labels  \\\n0  [External relations, Information and verificat...   \n1  [Approximation of laws, Technical barriers, Tr...   \n2                                    [Public health]   \n3                     [Budget, Financial provisions]   \n4            [Provisions governing the Institutions]   \n\n  eu_cellar_resource_type_labels eu_cellar_directory_code_labels  \\\n0       [Staff working document]                              []   \n1                   [Regulation]                              []   \n2                [Communication]                              []   \n3                   [Resolution]                              []   \n4                       [Report]                              []   \n\n                             eu_cellar_author_labels pwdb_target_group_l2  \\\n0  [Directorate-General for Migration and Home Af...                   []   \n1  [Council of the European Union, European Parli...                   []   \n2  [Directorate-General for Health and Food Safet...                   []   \n3                              [European Parliament]                   []   \n4         [European Commission, Secretariat-General]                   []   \n\n  ireland_keyword ireland_department_data ireland_campaign ireland_page_type  \\\n0              []                      []               []                []   \n1              []                      []               []                []   \n2              []                      []               []                []   \n3              []                      []               []                []   \n4              []                      []               []                []   \n\n  eu_timeline_topic  \n0                []  \n1                []  \n2                []  \n3                []  \n4                []  \n\n[5 rows x 24 columns]",
      "text/html": "<div>\n<style scoped>\n    .dataframe tbody tr th:only-of-type {\n        vertical-align: middle;\n    }\n\n    .dataframe tbody tr th {\n        vertical-align: top;\n    }\n\n    .dataframe thead th {\n        text-align: right;\n    }\n</style>\n<table border=\"1\" class=\"dataframe\">\n  <thead>\n    <tr style=\"text-align: right;\">\n      <th></th>\n      <th>title</th>\n      <th>content</th>\n      <th>content_cleaned_topic_modeling</th>\n      <th>date</th>\n      <th>doc_source</th>\n      <th>country</th>\n      <th>pwdb_category</th>\n      <th>pwdb_target_group_l1</th>\n      <th>pwdb_funding</th>\n      <th>pwdb_type_of_measure</th>\n      <th>...</th>\n      <th>eu_cellar_subject_matter_labels</th>\n      <th>eu_cellar_resource_type_labels</th>\n      <th>eu_cellar_directory_code_labels</th>\n      <th>eu_cellar_author_labels</th>\n      <th>pwdb_target_group_l2</th>\n      <th>ireland_keyword</th>\n      <th>ireland_department_data</th>\n      <th>ireland_campaign</th>\n      <th>ireland_page_type</th>\n      <th>eu_timeline_topic</th>\n    </tr>\n  </thead>\n  <tbody>\n    <tr>\n      <th>0</th>\n      <td>COMMI</td>\n      <td>COMMI</td>\n      <td>commi</td>\n      <td>2021-01-12</td>\n      <td>ds_eu_cellar</td>\n      <td>European Union</td>\n      <td>Protection of workers, adaptation of workplace</td>\n      <td>[businesses]</td>\n      <td>[European Funds, National funds, Regional funds]</td>\n      <td>Other initiatives or policies</td>\n      <td>...</td>\n      <td>[External relations, Information and verificat...</td>\n      <td>[Staff working document]</td>\n      <td>[]</td>\n      <td>[Directorate-General for Migration and Home Af...</td>\n      <td>[]</td>\n      <td>[]</td>\n      <td>[]</td>\n      <td>[]</td>\n      <td>[]</td>\n      <td>[]</td>\n    </tr>\n    <tr>\n      <th>1</th>\n      <td>Regul</td>\n      <td>Regul</td>\n      <td>regul</td>\n      <td>2021-02-16</td>\n      <td>ds_eu_cellar</td>\n      <td>European Union</td>\n      <td>Ensuring business continuity and support for e...</td>\n      <td>[workers]</td>\n      <td>[No special funding required]</td>\n      <td>Legislations or other statutory regulations</td>\n      <td>...</td>\n      <td>[Approximation of laws, Technical barriers, Tr...</td>\n      <td>[Regulation]</td>\n      <td>[]</td>\n      <td>[Council of the European Union, European Parli...</td>\n      <td>[]</td>\n      <td>[]</td>\n      <td>[]</td>\n      <td>[]</td>\n      <td>[]</td>\n      <td>[]</td>\n    </tr>\n    <tr>\n      <th>2</th>\n      <td>COMMU</td>\n      <td>COMMU</td>\n      <td>commu</td>\n      <td>2021-02-03</td>\n      <td>ds_eu_cellar</td>\n      <td>European Union</td>\n      <td>Reorientation of business activities</td>\n      <td>[]</td>\n      <td>[European Funds, Regional funds]</td>\n      <td>Company practices</td>\n      <td>...</td>\n      <td>[Public health]</td>\n      <td>[Communication]</td>\n      <td>[]</td>\n      <td>[Directorate-General for Health and Food Safet...</td>\n      <td>[]</td>\n      <td>[]</td>\n      <td>[]</td>\n      <td>[]</td>\n      <td>[]</td>\n      <td>[]</td>\n    </tr>\n    <tr>\n      <th>3</th>\n      <td>Europ</td>\n      <td>Europ</td>\n      <td>europ</td>\n      <td>2020-05-15</td>\n      <td>ds_eu_cellar</td>\n      <td>European Union</td>\n      <td>Promoting the economic, labour market and soci...</td>\n      <td>[]</td>\n      <td>[European Funds, National funds, Regional funds]</td>\n      <td>Legislations or other statutory regulations</td>\n      <td>...</td>\n      <td>[Budget, Financial provisions]</td>\n      <td>[Resolution]</td>\n      <td>[]</td>\n      <td>[European Parliament]</td>\n      <td>[]</td>\n      <td>[]</td>\n      <td>[]</td>\n      <td>[]</td>\n      <td>[]</td>\n      <td>[]</td>\n    </tr>\n    <tr>\n      <th>4</th>\n      <td>REPOR</td>\n      <td>REPOR</td>\n      <td>repor</td>\n      <td>2021-09-09</td>\n      <td>ds_eu_cellar</td>\n      <td>European Union</td>\n      <td>Protection of workers, adaptation of workplace</td>\n      <td>[workers]</td>\n      <td>[No special funding required]</td>\n      <td>Legislations or other statutory regulations</td>\n      <td>...</td>\n      <td>[Provisions governing the Institutions]</td>\n      <td>[Report]</td>\n      <td>[]</td>\n      <td>[European Commission, Secretariat-General]</td>\n      <td>[]</td>\n      <td>[]</td>\n      <td>[]</td>\n      <td>[]</td>\n      <td>[]</td>\n      <td>[]</td>\n    </tr>\n  </tbody>\n</table>\n<p>5 rows × 24 columns</p>\n</div>"
     },
     "execution_count": 31,
     "metadata": {},
     "output_type": "execute_result"
    }
   ],
   "source": [
    "tmp_df.head(5)"
   ]
  }
 ],
 "metadata": {
  "kernelspec": {
   "display_name": "Python 3 (ipykernel)",
   "language": "python",
   "name": "python3"
  },
  "orig_nbformat": 4
 },
 "nbformat": 4,
 "nbformat_minor": 2
}