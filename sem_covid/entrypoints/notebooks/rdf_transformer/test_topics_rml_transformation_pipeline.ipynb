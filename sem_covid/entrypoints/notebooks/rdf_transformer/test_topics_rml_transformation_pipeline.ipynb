{
 "cells": [
  {
   "cell_type": "code",
   "execution_count": 1,
   "metadata": {
    "collapsed": true
   },
   "outputs": [],
   "source": [
    "import sys\n",
    "\n",
    "sys.path.append(\"/home/jovyan/work/sem-covid/\")\n",
    "sys.path = list(set(sys.path))\n",
    "import os\n",
    "\n",
    "os.getcwd()\n",
    "os.chdir('/home/jovyan/work/sem-covid/')\n",
    "from sem_covid.services.dataset_pipelines.topics_rml_transformation_pipeline import TopicsTransformPipeline\n",
    "from sem_covid.services.store_registry import store_registry\n",
    "from sem_covid import config\n",
    "from sem_covid.adapters.rml_mapper import RMLMapper"
   ]
  },
  {
   "cell_type": "code",
   "execution_count": 2,
   "outputs": [],
   "source": [
    "MINIO_RML_BUCKET = 'rdf-transformer'\n",
    "RML_RULES_FILE_NAME = 'ds_unified_topics.ttl'\n",
    "RML_SOURCE_FILE_NAME = 'topics_data.json'\n",
    "RDF_RESULT_FILE_NAME = 'ds_unified_topics_result.ttl'"
   ],
   "metadata": {
    "collapsed": false,
    "pycharm": {
     "name": "#%%\n"
    }
   }
  },
  {
   "cell_type": "code",
   "execution_count": 3,
   "outputs": [],
   "source": [
    "rml_mapper = RMLMapper(rml_mapper_url=config.RML_MAPPER_URL)\n",
    "topics_transform_pipeline = TopicsTransformPipeline(rml_rules_file_name=RML_RULES_FILE_NAME,\n",
    "                                                    source_file_name=RML_SOURCE_FILE_NAME,\n",
    "                                                    rdf_result_file_name=RDF_RESULT_FILE_NAME,\n",
    "                                                    rml_mapper=rml_mapper,\n",
    "                                                    object_storage=store_registry.minio_object_store(\n",
    "                                                        minio_bucket=MINIO_RML_BUCKET),\n",
    "                                                    triple_storage=store_registry.fuseki_triple_store())"
   ],
   "metadata": {
    "collapsed": false,
    "pycharm": {
     "name": "#%%\n"
    }
   }
  },
  {
   "cell_type": "code",
   "execution_count": 4,
   "outputs": [],
   "source": [
    "topics_transform_pipeline.execute()"
   ],
   "metadata": {
    "collapsed": false,
    "pycharm": {
     "name": "#%%\n"
    }
   }
  }
 ],
 "metadata": {
  "kernelspec": {
   "display_name": "Python 3",
   "language": "python",
   "name": "python3"
  },
  "language_info": {
   "codemirror_mode": {
    "name": "ipython",
    "version": 2
   },
   "file_extension": ".py",
   "mimetype": "text/x-python",
   "name": "python",
   "nbconvert_exporter": "python",
   "pygments_lexer": "ipython2",
   "version": "2.7.6"
  }
 },
 "nbformat": 4,
 "nbformat_minor": 0
}