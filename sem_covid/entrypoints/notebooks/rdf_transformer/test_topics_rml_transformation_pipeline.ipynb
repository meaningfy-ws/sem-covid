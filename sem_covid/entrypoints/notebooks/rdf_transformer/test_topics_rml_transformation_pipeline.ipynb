{
 "cells": [
  {
   "cell_type": "code",
   "execution_count": 2,
   "metadata": {
    "collapsed": true
   },
   "outputs": [],
   "source": [
    "import sys\n",
    "sys.path.append(\"/home/jovyan/work/sem-covid/\")\n",
    "sys.path = list(set(sys.path))\n",
    "import os\n",
    "\n",
    "os.getcwd()\n",
    "os.chdir('/home/jovyan/work/sem-covid/')\n",
    "from sem_covid.services.dataset_pipelines.topics_rml_transformation_pipeline import TopicsTransformPipeline\n",
    "from sem_covid.services.store_registry import store_registry"
   ]
  },
  {
   "cell_type": "code",
   "execution_count": null,
   "outputs": [],
   "source": [
    "MINIO_RML_BUCKET = 'rdf-transformer'\n",
    "RML_RULES_FILE_NAME = 'ds_unified_dataset.ttl'\n",
    "RML_SOURCE_FILE_NAME = 'topics_data.json'\n",
    "RDF_RESULT_FILE_NAME = 'ds_unified_dataset_result.ttl'"
   ],
   "metadata": {
    "collapsed": false,
    "pycharm": {
     "name": "#%%\n"
    }
   }
  },
  {
   "cell_type": "code",
   "execution_count": 12,
   "outputs": [
    {
     "name": "stdout",
     "output_type": "stream",
     "text": [
      "remote: Enumerating objects: 14, done.\u001B[K\r\n",
      "remote: Counting objects: 100% (14/14), done.\u001B[K\r\n",
      "remote: Compressing objects: 100% (3/3), done.\u001B[K\r\n",
      "remote: Total 14 (delta 11), reused 14 (delta 11), pack-reused 0\u001B[K\r\n",
      "Unpacking objects: 100% (14/14), 1.58 KiB | 180.00 KiB/s, done.\r\n",
      "From https://github.com/meaningfy-ws/sem-covid\r\n",
      "   47b1788..99b08fa  feature/SC-598 -> origin/feature/SC-598\r\n",
      "Updating 47b1788..99b08fa\r\n",
      "Fast-forward\r\n",
      " .../test_topics_rml_transformation_pipeline.ipynb  | 65 \u001B[32m++++++++++++++++++++++\u001B[m\r\n",
      " .../rdf_transformer/topics_export_fields.ipynb     | 17 \u001B[31m------\u001B[m\r\n",
      " 2 files changed, 65 insertions(+), 17 deletions(-)\r\n",
      " create mode 100644 sem_covid/entrypoints/notebooks/rdf_transformer/test_topics_rml_transformation_pipeline.ipynb\r\n"
     ]
    }
   ],
   "source": [
    "TopicsTransformPipeline(rml_rules_file_name: str,\n",
    "                 source_file_name: str,\n",
    "                 rdf_result_file_name: str,\n",
    "                 rml_mapper: RMLMapperABC,\n",
    "                 object_storage: ObjectStoreABC,\n",
    "                 triple_storage: TripleStoreABC,)"
   ],
   "metadata": {
    "collapsed": false,
    "pycharm": {
     "name": "#%%\n"
    }
   }
  }
 ],
 "metadata": {
  "kernelspec": {
   "display_name": "Python 3",
   "language": "python",
   "name": "python3"
  },
  "language_info": {
   "codemirror_mode": {
    "name": "ipython",
    "version": 2
   },
   "file_extension": ".py",
   "mimetype": "text/x-python",
   "name": "python",
   "nbconvert_exporter": "python",
   "pygments_lexer": "ipython2",
   "version": "2.7.6"
  }
 },
 "nbformat": 4,
 "nbformat_minor": 0
}