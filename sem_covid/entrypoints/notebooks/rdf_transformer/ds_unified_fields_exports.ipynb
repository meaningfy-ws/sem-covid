{
 "cells": [
  {
   "cell_type": "code",
   "execution_count": 1,
   "metadata": {},
   "outputs": [],
   "source": [
    "import sys\n",
    "sys.path.append(\"/home/jovyan/work/sem-covid/\")\n",
    "sys.path = list(set(sys.path))\n",
    "\n",
    "import os\n",
    "os.getcwd()\n",
    "os.chdir('/home/jovyan/work/sem-covid/')\n",
    "from sem_covid import config\n",
    "from sem_covid.services.store_registry import store_registry\n",
    "import pandas as pd\n",
    "from io import StringIO\n",
    "import json"
   ]
  },
  {
   "cell_type": "code",
   "execution_count": 2,
   "metadata": {},
   "outputs": [],
   "source": [
    "MINIO_RML_BUCKET = 'rdf-transformer'\n",
    "SC_BASE_URI = 'http://publications.europa.eu/resource/ontology/sc#'\n",
    "DS_UNIFIED_DATASET_CATEGORICAL_FIELDS = ['country', 'pwdb_category', 'pwdb_target_group_l1',\n",
    "       'pwdb_funding', 'pwdb_type_of_measure', 'pwdb_actors','eu_cellar_subject_matter_labels','eu_cellar_resource_type_labels',\n",
    "       'eu_cellar_author_labels', 'pwdb_target_group_l2', 'ireland_keyword', 'ireland_page_type', 'eu_timeline_topic', 'eu_cellar_directory_code_labels'\n",
    "       ]\n",
    "EUVOC_TERMS_MAPPING = [(\"corporate_body.csv\", \"eu_cellar_author_labels\"),\n",
    "                       (\"resource_type.csv\", \"eu_cellar_resource_type_labels\"),\n",
    "                       (\"subject_matter.csv\", \"eu_cellar_subject_matter_labels\"),\n",
    "                       ('country.csv', \"country\")\n",
    "                       ]"
   ]
  },
  {
   "cell_type": "code",
   "execution_count": 3,
   "metadata": {},
   "outputs": [
    {
     "name": "stderr",
     "output_type": "stream",
     "text": [
      "100% (6360 of 6360) |####################| Elapsed Time: 0:00:16 Time:  0:00:16\n"
     ]
    }
   ],
   "source": [
    "df = store_registry.es_index_store().get_dataframe(index_name='ds_unified_dataset')"
   ]
  },
  {
   "cell_type": "code",
   "execution_count": 4,
   "metadata": {},
   "outputs": [],
   "source": [
    "def export_categorical_field_from_dataset(dataset: pd.DataFrame, field_name: str) -> dict:\n",
    "    field_values = list(set(dataset[field_name].explode().values))\n",
    "    result = {}\n",
    "    result[field_name] = [ {'uri': f\"{SC_BASE_URI}{field_name}_{index}\", \"name\": str(field_values[index])}\n",
    "    for index in range(0,len(field_values))]\n",
    "    return result"
   ]
  },
  {
   "cell_type": "code",
   "execution_count": 5,
   "metadata": {},
   "outputs": [],
   "source": [
    "def enrich_with_euvoc_terms(euvoc_terms_file: str, column_name: str):\n",
    "    minio = store_registry.minio_object_store(minio_bucket=MINIO_RML_BUCKET)\n",
    "    euvoc_terms_buffer = minio.get_object(object_name='euvoc_terms/'+euvoc_terms_file).decode('utf8')\n",
    "    data_buffer = minio.get_object(object_name=f'fields/{column_name}.json').decode('utf8')\n",
    "    euvoc_df = pd.read_csv(StringIO(euvoc_terms_buffer))\n",
    "    data = json.loads(data_buffer)\n",
    "    records = data[column_name]\n",
    "    remove_indexes = []\n",
    "    for index in range(0, len(records)):\n",
    "        values = euvoc_df[euvoc_df['label'] == records[index]['name']]['uri'].values\n",
    "        if len(values):\n",
    "            records[index]['uri'] = values[0]\n",
    "        else:\n",
    "            remove_indexes.append(index)\n",
    "    for remove_index in sorted(remove_indexes, reverse=True):\n",
    "        records.pop(remove_index)\n",
    "    data[column_name] = records\n",
    "    minio.put_object(object_name=f'fields/{column_name}.json', content=json.dumps(data))"
   ]
  },
  {
   "cell_type": "code",
   "execution_count": 6,
   "metadata": {},
   "outputs": [],
   "source": [
    "\n",
    "def export_categorical_fields_from_dataset(dataset: pd.DataFrame, field_names: list, euvoc_terms_mapping: list):\n",
    "    minio = store_registry.minio_object_store(minio_bucket=MINIO_RML_BUCKET)\n",
    "    for field_name in field_names:\n",
    "        tmp_dict = export_categorical_field_from_dataset(dataset=dataset, field_name=field_name)\n",
    "        tmp_json = json.dumps(tmp_dict)\n",
    "        file_name = f\"fields/{field_name}.json\"\n",
    "        minio.put_object(object_name=file_name, content=tmp_json)\n",
    "    for euvoc_terms_file, column_name in EUVOC_TERMS_MAPPING:\n",
    "        enrich_with_euvoc_terms(euvoc_terms_file=euvoc_terms_file, column_name=column_name) "
   ]
  },
  {
   "cell_type": "code",
   "execution_count": 7,
   "metadata": {},
   "outputs": [],
   "source": [
    "export_categorical_fields_from_dataset(dataset=df, field_names= DS_UNIFIED_DATASET_CATEGORICAL_FIELDS, euvoc_terms_mapping = EUVOC_TERMS_MAPPING)"
   ]
  }
 ],
 "metadata": {
  "kernelspec": {
   "display_name": "Python 3 (ipykernel)",
   "language": "python",
   "name": "python3"
  },
  "language_info": {
   "codemirror_mode": {
    "name": "ipython",
    "version": 3
   },
   "file_extension": ".py",
   "mimetype": "text/x-python",
   "name": "python",
   "nbconvert_exporter": "python",
   "pygments_lexer": "ipython3",
   "version": "3.8.8"
  },
  "orig_nbformat": 4
 },
 "nbformat": 4,
 "nbformat_minor": 2
}