{
 "cells": [
  {
   "cell_type": "code",
   "execution_count": 2,
   "metadata": {},
   "outputs": [],
   "source": [
    "import sys\n",
    "sys.path.append(\"/home/jovyan/work/sem-covid/\")\n",
    "sys.path = list(set(sys.path))\n",
    "\n",
    "import os\n",
    "os.getcwd()\n",
    "os.chdir('/home/jovyan/work/sem-covid/')\n",
    "from sem_covid import config\n",
    "from sem_covid.services.store_registry import store_registry\n",
    "import pandas as pd"
   ]
  },
  {
   "cell_type": "code",
   "execution_count": 1,
   "metadata": {},
   "outputs": [],
   "source": [
    "MINIO_BUCKET = 'rdf-transformer'"
   ]
  },
  {
   "cell_type": "code",
   "execution_count": 3,
   "metadata": {},
   "outputs": [
    {
     "name": "stderr",
     "output_type": "stream",
     "text": [
      "100% (6360 of 6360) |####################| Elapsed Time: 0:00:15 Time:  0:00:15\n"
     ]
    }
   ],
   "source": [
    "df = store_registry.es_index_store().get_dataframe(index_name='ds_unified_dataset')"
   ]
  },
  {
   "cell_type": "code",
   "execution_count": 35,
   "metadata": {},
   "outputs": [],
   "source": [
    "import pycountry\n",
    "\n",
    "def get_country_iso3_code(country_name:str)->str:\n",
    "    if country_name == 'European Union':\n",
    "        return 'EUR'\n",
    "    else:\n",
    "        return pycountry.countries.get(name=country_name).alpha_3"
   ]
  },
  {
   "cell_type": "code",
   "execution_count": 55,
   "metadata": {},
   "outputs": [],
   "source": [
    "\n",
    "def default_uri_generator(field_name:str, index: int, field_values: list):\n",
    "    return f\"{field_name}/category_{index}\"\n",
    "\n",
    "def country_uri_generator(field_name:str, index: int , field_values: list):\n",
    "    return f\"http://publications.europa.eu/resource/authority/country/{get_country_iso3_code(field_values[index])}\""
   ]
  },
  {
   "cell_type": "code",
   "execution_count": 53,
   "metadata": {},
   "outputs": [],
   "source": [
    "def export_categorical_field_from_dataset(dataset: pd.DataFrame, field_name: str, uri_generator: callable) -> dict:\n",
    "    field_values = list(set(dataset[field_name].explode().values))\n",
    "    result = {}\n",
    "    result[field_name] = [ {'uri': uri_generator(field_name,index,field_values), \"name\": str(field_values[index])}\n",
    "    for index in range(0,len(field_values))]\n",
    "    return result"
   ]
  },
  {
   "cell_type": "code",
   "execution_count": 59,
   "metadata": {},
   "outputs": [],
   "source": [
    "import json\n",
    "\n",
    "def export_categorical_fields_from_dataset(dataset: pd.DataFrame, field_names: list):\n",
    "    minio = store_registry.minio_object_store(minio_bucket=MINIO_BUCKET)\n",
    "    for field_name in field_names:\n",
    "        tmp_dict = {}\n",
    "        if field_name == 'country':\n",
    "            tmp_dict = export_categorical_field_from_dataset(dataset=dataset, field_name=field_name, uri_generator=country_uri_generator)\n",
    "        else:\n",
    "            tmp_dict = export_categorical_field_from_dataset(dataset=dataset, field_name=field_name, uri_generator=default_uri_generator)\n",
    "        tmp_json = json.dumps(tmp_dict)\n",
    "        file_name = f\"{field_name}.json\"\n",
    "        minio.put_object(object_name=file_name, content=tmp_json)"
   ]
  },
  {
   "cell_type": "code",
   "execution_count": 74,
   "metadata": {},
   "outputs": [],
   "source": [
    "DS_UNIFIED_DATASET_CATEGORICAL_FIELDS = ['country', 'pwdb_category', 'pwdb_target_group_l1',\n",
    "       'pwdb_funding', 'pwdb_type_of_measure', 'pwdb_actors','eu_cellar_subject_matter_labels','eu_cellar_resource_type_labels',\n",
    "       'eu_cellar_author_labels', 'pwdb_target_group_l2', 'ireland_keyword', 'ireland_page_type', 'eu_timeline_topic'\n",
    "       ]"
   ]
  },
  {
   "cell_type": "code",
   "execution_count": 75,
   "metadata": {},
   "outputs": [],
   "source": [
    "export_categorical_fields_from_dataset(dataset=df, field_names= DS_UNIFIED_DATASET_CATEGORICAL_FIELDS)"
   ]
  }
 ],
 "metadata": {
  "kernelspec": {
   "display_name": "Python 3 (ipykernel)",
   "language": "python",
   "name": "python3"
  },
  "language_info": {
   "codemirror_mode": {
    "name": "ipython",
    "version": 3
   },
   "file_extension": ".py",
   "mimetype": "text/x-python",
   "name": "python",
   "nbconvert_exporter": "python",
   "pygments_lexer": "ipython3",
   "version": "3.8.8"
  },
  "orig_nbformat": 4
 },
 "nbformat": 4,
 "nbformat_minor": 2
}
