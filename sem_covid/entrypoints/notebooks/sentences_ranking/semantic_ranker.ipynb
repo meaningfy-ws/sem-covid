{
 "cells": [
  {
   "cell_type": "markdown",
   "id": "eaf0a50b",
   "metadata": {},
   "source": [
    "# Imports "
   ]
  },
  {
   "cell_type": "code",
   "execution_count": 1,
   "id": "f4296d44",
   "metadata": {},
   "outputs": [
    {
     "name": "stderr",
     "output_type": "stream",
     "text": [
      "2021-08-22 10:32:22.509265: W tensorflow/stream_executor/platform/default/dso_loader.cc:64] Could not load dynamic library 'libcudart.so.11.0'; dlerror: libcudart.so.11.0: cannot open shared object file: No such file or directory\n",
      "2021-08-22 10:32:22.509286: I tensorflow/stream_executor/cuda/cudart_stub.cc:29] Ignore above cudart dlerror if you do not have a GPU set up on your machine.\n"
     ]
    }
   ],
   "source": [
    "import sys\n",
    "sys.path.append('/home/jovyan/work/sem-covid/')\n",
    "sys.path = list(set(sys.path))\n",
    "\n",
    "import os\n",
    "os.getcwd()\n",
    "os.chdir('/home/jovyan/work/sem-covid/')\n",
    "\n",
    "import spacy\n",
    "import pytextrank\n",
    "\n",
    "from tqdm.notebook import tqdm\n",
    "from sem_covid.services.data_registry import Dataset\n",
    "from transformers import AutoTokenizer, AutoModel\n",
    "from summarizer import Summarizer"
   ]
  },
  {
   "cell_type": "code",
   "execution_count": 2,
   "id": "2134eb1a",
   "metadata": {},
   "outputs": [
    {
     "data": {
      "text/plain": [
       "<pytextrank.base.BaseTextRankFactory at 0x7f6600616640>"
      ]
     },
     "execution_count": 2,
     "metadata": {},
     "output_type": "execute_result"
    }
   ],
   "source": [
    "nlp = spacy.load('en_core_web_sm')\n",
    "nlp.add_pipe('textrank')"
   ]
  },
  {
   "cell_type": "markdown",
   "id": "0b353eca",
   "metadata": {},
   "source": [
    "# Methods"
   ]
  },
  {
   "cell_type": "code",
   "execution_count": 37,
   "id": "6c105c6f",
   "metadata": {},
   "outputs": [],
   "source": [
    "def extract_most_important_sentences_pytextrank(paragraph: str, top_n=5) -> list:\n",
    "    \n",
    "    top_n_most_important_sentences = []\n",
    "    \n",
    "    doc = nlp(paragraph)\n",
    "\n",
    "    for sent in doc._.textrank.summary(limit_phrases=15, limit_sentences=top_n):\n",
    "        top_n_most_important_sentences.append(str(sent))\n",
    "\n",
    "    return top_n_most_important_sentences"
   ]
  },
  {
   "cell_type": "markdown",
   "id": "84e66034",
   "metadata": {},
   "source": [
    "# Fetch the data"
   ]
  },
  {
   "cell_type": "code",
   "execution_count": 4,
   "id": "ba6d73f6",
   "metadata": {},
   "outputs": [
    {
     "name": "stderr",
     "output_type": "stream",
     "text": [
      "100% (1288 of 1288) |####################| Elapsed Time: 0:00:00 Time:  0:00:00\n"
     ]
    }
   ],
   "source": [
    "pwdb = Dataset.PWDB.fetch()[['background_info_description', 'content_of_measure_description']]"
   ]
  },
  {
   "cell_type": "code",
   "execution_count": 5,
   "id": "3dfff859",
   "metadata": {},
   "outputs": [
    {
     "data": {
      "text/html": [
       "<div>\n",
       "<style scoped>\n",
       "    .dataframe tbody tr th:only-of-type {\n",
       "        vertical-align: middle;\n",
       "    }\n",
       "\n",
       "    .dataframe tbody tr th {\n",
       "        vertical-align: top;\n",
       "    }\n",
       "\n",
       "    .dataframe thead th {\n",
       "        text-align: right;\n",
       "    }\n",
       "</style>\n",
       "<table border=\"1\" class=\"dataframe\">\n",
       "  <thead>\n",
       "    <tr style=\"text-align: right;\">\n",
       "      <th></th>\n",
       "      <th>background_info_description</th>\n",
       "      <th>content_of_measure_description</th>\n",
       "    </tr>\n",
       "    <tr>\n",
       "      <th>_id</th>\n",
       "      <th></th>\n",
       "      <th></th>\n",
       "    </tr>\n",
       "  </thead>\n",
       "  <tbody>\n",
       "    <tr>\n",
       "      <th>adc5c75937bc7f7198f534d08b85bd50c9521bfd3f319a090932b5d0bae54de0</th>\n",
       "      <td>During the COVID-19 crisis, teleworking has be...</td>\n",
       "      <td>Applied for a period of three years and coveri...</td>\n",
       "    </tr>\n",
       "    <tr>\n",
       "      <th>2372d71eb9ad6e6a70982e02bbe802db004ed49d91b2264c0a2e8e41571002cc</th>\n",
       "      <td>In the face of the Corona crisis, employers ha...</td>\n",
       "      <td>The COVID-19 risk group regulation lists the m...</td>\n",
       "    </tr>\n",
       "    <tr>\n",
       "      <th>8735e268191e9e5cbd3d2a44ca53d297e31746b5f1e24b941db6225a25848353</th>\n",
       "      <td>The Council of Ministers has agreed to authori...</td>\n",
       "      <td>In total, €136.3 million will be allocated to ...</td>\n",
       "    </tr>\n",
       "    <tr>\n",
       "      <th>18bcd22116c46919e03a3345f793c3859855227ac942e69dd13cbfcd588e1044</th>\n",
       "      <td>The Act 136/2020 Coll., selected modifications...</td>\n",
       "      <td>Eligible are all self-employed persons perform...</td>\n",
       "    </tr>\n",
       "    <tr>\n",
       "      <th>b94d8aa95fbdeb1bb832b01fbe5d6e9bf9fc36fceb14f7ba370a963f472fe35b</th>\n",
       "      <td>After the Financial Shield 1.0 was impelemente...</td>\n",
       "      <td>The main characteristics of the measure are as...</td>\n",
       "    </tr>\n",
       "  </tbody>\n",
       "</table>\n",
       "</div>"
      ],
      "text/plain": [
       "                                                                          background_info_description  \\\n",
       "_id                                                                                                     \n",
       "adc5c75937bc7f7198f534d08b85bd50c9521bfd3f319a0...  During the COVID-19 crisis, teleworking has be...   \n",
       "2372d71eb9ad6e6a70982e02bbe802db004ed49d91b2264...  In the face of the Corona crisis, employers ha...   \n",
       "8735e268191e9e5cbd3d2a44ca53d297e31746b5f1e24b9...  The Council of Ministers has agreed to authori...   \n",
       "18bcd22116c46919e03a3345f793c3859855227ac942e69...  The Act 136/2020 Coll., selected modifications...   \n",
       "b94d8aa95fbdeb1bb832b01fbe5d6e9bf9fc36fceb14f7b...  After the Financial Shield 1.0 was impelemente...   \n",
       "\n",
       "                                                                       content_of_measure_description  \n",
       "_id                                                                                                    \n",
       "adc5c75937bc7f7198f534d08b85bd50c9521bfd3f319a0...  Applied for a period of three years and coveri...  \n",
       "2372d71eb9ad6e6a70982e02bbe802db004ed49d91b2264...  The COVID-19 risk group regulation lists the m...  \n",
       "8735e268191e9e5cbd3d2a44ca53d297e31746b5f1e24b9...  In total, €136.3 million will be allocated to ...  \n",
       "18bcd22116c46919e03a3345f793c3859855227ac942e69...  Eligible are all self-employed persons perform...  \n",
       "b94d8aa95fbdeb1bb832b01fbe5d6e9bf9fc36fceb14f7b...  The main characteristics of the measure are as...  "
      ]
     },
     "execution_count": 5,
     "metadata": {},
     "output_type": "execute_result"
    }
   ],
   "source": [
    "pwdb.head()"
   ]
  },
  {
   "cell_type": "markdown",
   "id": "c733229f",
   "metadata": {},
   "source": [
    "# Main"
   ]
  },
  {
   "cell_type": "markdown",
   "id": "687c551f",
   "metadata": {},
   "source": [
    "1. PyTextRank"
   ]
  },
  {
   "cell_type": "code",
   "execution_count": 13,
   "id": "d181e3c2",
   "metadata": {},
   "outputs": [
    {
     "data": {
      "application/vnd.jupyter.widget-view+json": {
       "model_id": "b6cd2bae093a429883d05e80eded8d11",
       "version_major": 2,
       "version_minor": 0
      },
      "text/plain": [
       "  0%|          | 0/10 [00:00<?, ?it/s]"
      ]
     },
     "metadata": {},
     "output_type": "display_data"
    },
    {
     "name": "stdout",
     "output_type": "stream",
     "text": [
      "['Discussions between the two representative social partners OGBL and LCGB and the employer association UEL, together with the Ministry of Work and Employment, led in a first instance to a joint assessment on teleworking at the level of the Economic and Social Council CES.', 'During the COVID-19 crisis, teleworking has been identified as a vital pillar to keep companies working and prevent social hardship.', 'From there, discussions continued between the social partners and an inter-professional agreement could have been signed between the social partners in October 2020.']\n",
      "\n",
      "['Depending on the activity, this includes, for example, the possibilities for home office, redesigning workplaces to maintain a safe distance, installed barriers such as plexiglass walls or the use of personal protective equipment.', 'Employed workers with a very high risk of developing a serious illness if becoming infected with the Corona virus are entitled to work from their home office or to a change in working conditions (meaning that the working conditions must be designed in such a way that infection with COVID-19 is almost impossible, taking into account the way to work).', 'Ultimately, if this is not possible, a paid temporary leave of absence can be obtained with full payment by the employer, who will be reimbursed in full by the social security system for the wage costs (including ancillary wage costs).', \"An expert group consisting of three representatives from the Federal Ministry of Social Affairs, Health, Nursing and Consumer Protection, one representative from the Federal Ministry of Labor, Family and Youth, three representatives from the Medical Association and three representatives from the social security system held several meetings based on previous experience with COVID-19 sufferers in Austria's hospitals and the international scientific results identified the groups of people who could have a higher risk of developing a serious illness.\", 'In the face of the Corona crisis, employers have taken numerous measures to protect employees from infections.']\n",
      "\n",
      "['The Council of Ministers has agreed to authorise the Institute for Energy Diversification and Saving (IDAE) a call for aid for investment in thermal energy production facilities with renewable energy sources in Andalusia and two calls for investment aid in Electric power generation facilities with renewable energy sources in the autonomous communities of Andalusia and Extremadura.']\n",
      "\n",
      "['\\r\\rThere is no need to individually apply for the waiver of the obligation to pay advance premiums for March to August 2020, it is a legal regulation that will be applied to all self-employed persons by default.', 'This Act foregoes the obligation of self-employed persons to pay social and health insurance advance payments from March to August 2020.', 'The Act 136/2020 Coll., selected modifications in the area of contributions to social security and contributions to the state employment policy and pension has been approved.', 'This measure should help self-employed to keep cash-flow when their business activities are limited by government measures against COVID-19.', '\\r\\r\\r']\n",
      "\n",
      "['The former is further divided into two segments a) micro firms and b) small and medium firms.', '\\r\\rJust like to original regulation, the follow-up is based on the Act amending the Act on the System of Development Institutions facilitating public support programme commonly referred to as the Financial Shield, operated by the Polish Development Fund (Polski Fundusz Rozwoju).', '\\r\\rUstawa z dnia 4 lipca 2019 r. o systemie instytucji rozwoju („Ustawa o SIR”), znowelizowana ustawą z dnia 31 marca 2020 r. o zmianie ustawy o systemie instytucji rozwoju.', '\\rThe programme is divided into specific sub-sets of measures targeting 1) micro, small and medium firms and 2) large firms.', 'After the Financial Shield 1.0 was impelemented from April 2020 onwards see case [PL-2020-20/806](https://static.eurofound.europa.eu/covid19db/cases/PL-2020-20_806.html) as the follow-up programme has been devised.']\n",
      "\n",
      "['* Act no 1336 of 11 September 2020 \\r* Act on access to effectuate\\xa0temporary work sharing as part of handling Covid-19\\r\\rDue to a significant increase in the number of persons contaminated with corona virus at the end of November 2020, the social partners and the government agreed to prolong the tripartite agreement on work sharing until the end of 2021.', 'It was replaced on the 31 August by a new tripartite agreement on work sharing, which on one hand is less cost-intensive for the state than wage compensation, but on the other it is a helping hand to the unemployed and the companies since the periods not at work will be supported by a higher remuneration than the existing.', 'On 29 August 2020, a tripartite agreement wage compensation that had been in function since 14 March expired.', '*Legal reference** : \\r\\r* LOV nr 1336 af 11/09/2020\\r* Lov om adgang til iværksættelse', '\\xa0\\r\\r *']\n",
      "\n",
      "['As part of the announced aid measures to the economy, the government has allowed renters to request a deferral of income tax lump sums for the first quarter 2020.', 'Renters demanded writing off tax lump sums for the second quarter 2020.', 'Otherwise, they would be required to pay lump sum tax for the second quarter by 30 June 2020.', 'The situation is still unknown for the summer months, but renters hope if there would not be tourists and revenues that the Tax Administration will implement the similar measure.', '\\r\\rThis measure is aimed at renters who have lost their guests in the situation of a coronavirus pandemic, as well as the entire tourism sector, and therefore without income.']\n",
      "\n",
      "['\\r\\rDue to the progression of the COVID-19 pandemic, and the subsequent closure of schools, the distance from the client and the need for confinement of education professionals, Edubox developed a platform (Go4All) for interconnection between education professionals, family and students to better respond to effective needs.', 'Edubox is a Start-Up created by the University of Aveiro and is specialised in creating educational solutions for the public sector.']\n",
      "\n",
      "['Since the introduction of quarantine in Lithuania (16 March 2020), VšĮ “Versli Lietuva” (Enterprise Lithuania) has launched an initiative, “No quarantine on the Internet”, offering assistance to small- and medium-sized businesses to transfer their activities/businesses to the virtual space.', 'Such assistance is especially relevant for Lithuanian businesses which are facing temporary difficulties as a result of being unable to trade in their usual trading venues.', 'VšĮ \"Versli Lietuva\" is inviting people to join the business support campaign by purchasing goods and services at their platform.']\n",
      "\n",
      "['For some employees it was necessary to fall back onto the temporary unemployment system, others started working from home on a fulltime basis.', 'Ricoh is active in both consultancy and IT related services.', 'The company decided to act quickly with centralised coordination at the beginning of the pandemic.', 'The Belgian division has approximately 800 employees.']\n",
      "\n"
     ]
    }
   ],
   "source": [
    "for p in tqdm(pwdb['background_info_description'][:10]):\n",
    "    print(extract_most_important_sentences_pytextrank(p))\n",
    "    print()"
   ]
  },
  {
   "cell_type": "code",
   "execution_count": 14,
   "id": "ee32db13",
   "metadata": {},
   "outputs": [
    {
     "data": {
      "application/vnd.jupyter.widget-view+json": {
       "model_id": "19ef05ccb6254e869077a918065d461e",
       "version_major": 2,
       "version_minor": 0
      },
      "text/plain": [
       "  0%|          | 0/10 [00:00<?, ?it/s]"
      ]
     },
     "metadata": {},
     "output_type": "display_data"
    },
    {
     "name": "stdout",
     "output_type": "stream",
     "text": [
      "[\"\\r* Teleworking is based on a written agreement between the employer and the employee, containing several compulsory elements, such as for example the location where telework takes place and the number of hours, and an employee can't be dismissed if he/she does not accept a teleworking scheme and an employer can't be made accountable if the employer refuses a teleworking scheme.\", '\\r\\r* Teleworking is identified as a form of organisational work, conducted by digital means and usually done at the company, but that is transferred to the location where the employee lives.', 'Applied for a period of three years and covering all sectors in Luxembourg (with the exception of transport), the agreement provides a definition of teleworking:', '\\r* The employer must also provide to the employee all the technical equipment to efficiently work under a teleworking scheme.', '\\r* The company staff delegation is regularly informed about the teleworking schemes.']\n",
      "\n",
      "['active cancer with oncological pharmacotherapy (chemotherapy, biologics) and / or radiation therapy within the past six months, and metastatic cancer even without ongoing therapy\\r4.', 'chronic heart diseases with end organ damage that require permanent therapy, such as ischemic heart diseases and heart failure\\r3.', 'The doctor carries out the risk assessment together with the patient based on the recommendations for individual risk analysis for a severe course of the disease.', 'advanced chronic lung diseases that require permanent, daily, dual medication\\r2.', 'advanced chronic kidney disease\\r6.']\n",
      "\n",
      "['In these calls, the aid will range on average between 20 and 30% of the cost of the projects, and will be assigned, by competitive competition, depending on the level of maturity, technological innovation and management, assessing its link with the Just Transition and the Demographic Challenge or job creation.', 'In total, €136.3 million will be allocated to boost renewable energies in both regions - €124.3 million in Andalusia and €12 million in Extremadura.', '\\r\\rThese are the first calls for a renewable energy promotion package initially endowed with €316 million, of which the calls for the rest of the Autonomous Communities are being finalised, in collaboration with the respective autonomous governments.']\n",
      "\n",
      "['\\r\\rMinimum monthly payment for self-employed persons performing major gainful activity is for health insurance is CZK 2,352 (€86 approx.), for social insurance CZK 2,544 (€93 approx.)', 'In case the self-employed is obliged to pay advance health and social insurance payments of higher assessment than the minimum monthly amount (depends on the income in previous year, e. g. 2019), he/she pays the difference between the minimum and real advance payment assessment in the form of balance insurance premium for the year 2020 (therefore it will be used for health and social insurance payment in 2021).', 'They are not obliged to pay advance health and social insurance premiums from March to August 2020.', 'However, she/he will have to pay the health and social insurance payments for March-August 2020 in 2021, when she/he submits income and expenses report for 2020.', 'Eligible are all self-employed persons performing major or subsidiary gainful activity.']\n",
      "\n",
      "['Further conditions:\\r\\r* subsidy is paid in the amount of 70% of the gross loss (before tax) of the enterprise for the period from November 2020 to March 2021 (January-March 2021 based on forecasts);\\r* maximum amount of the subsidy is PLN 3.5 million and not more than PLN 72,000 per employee;\\r* foreseen allocation  is PLN 6.5 billion (for the whole Financial Shield);\\r* subsidies will be released between 15 January and 28 February 2021;\\r* applications can be submitted electronically at 18 banks.', 'Target: enterprises with 10 to 249 employees and and a turnover of less than EUR 50 million or a balance sheet total of less than €43 million, operating in 38 industries subject to restrictions from the Polish Classification of Activities (PKD);\\r2.', 'Conditions of eligibility: decrease in turnover by at least 30% in the period April-December-or in the 4th quarter of 2020 compared to the same period in 2019.', 'The main characteristics of the measure are as follows:\\r\\r1.', '\\r3.']\n",
      "\n",
      "['They will receive full pay when at work and receive unemployment benefit for the time at home.', 'In the new temporary work-sharing agreement, this mechanism is set on hold, so that time not at work does not count as unemployment time.', 'According to the original work-sharing scheme, the time not at work is deducted in the allowed number of unemployment hours while still receiving a benefit rate.', 'The purpose of the new tripartite agreement of 31 August on work sharing is to mitigate a possible wave of redundancies on the private labour market, which is still affected by the corona crisis, after phasing out the wage compensation measure.', 'In addition, non-insured, i.e. employees not member of an unemployment benefit fund will receive the same benefit rate.']\n",
      "\n",
      "['If the representative body does not decide on the amount of the lump-sum tax (per bed/accommodation unit in the campsite/accommodation unit in the Robinson tourism facility), the lump-sum tax is set at HRK 750.00.representative body of the local self-government unit.', 'The total amount paid to the budgets of local government units, towns and municipalities, amounted to about HRK 140 million annually.', 'According to the current tax rules adopted, the owners pay between HRK 150 and 1,500 (€ 20 -200) per bed in annual taxes.', 'If the Assembly does not define the amount, it is paid HRK 750 (€100) per bed annually.', '\\r\\rThe amount of the flat-rate tax may not be less than HRK 150,00, nor more than HRK 1.500,00.']\n",
      "\n",
      "['The platform aims at allowing access to educational content, to work collaboratively and to share contents among teachers, parents and students.', '\\r\\rThis collaborative platform allowed the interconnection between teachers, students and parents.', '\\r\\rOn the other hand, this platform provides a contact center with teachers and multidisciplinary teams (such as psychologists, speech therapists, among others) in order to help and training those who were using the platform during the confinement period.', 'Due to the progression of the COVID-19 pandemic, and the subsequent lock-down and closure of schools, Edubox, in a short period of time, developed the collaborative platform “Go4All”.']\n",
      "\n",
      "['This way, the buyer can find Lithuanian entrepreneurs selling various goods and services in one place and immediately buy or reserve goods and services.', 'All store links are made public, and people are invited to join the business support campaign by purchasing goods and services online.', 'VšĮ “Versli Lietuva” also invites mentors to register for helping businesses digitize and for providing consultations on various issues of business transfer to the Internet.', 'Having created their online store, business representatives are encouraged to register store links using the website www.internetekarantinonera.lt.', 'VšĮ “Versli Lietuva” remotely consults companies on how to transfer their business to the virtual space.']\n",
      "\n",
      "['In the early phases of the pandemic a system was installed to make sure that certain heads of HR were always physically present at the office in case of questions or issues.', 'Apart from the usage of telework and temporary unemployment the company management started with regular direct digital contact with their employees via digital coffee corners.', 'In addition the company allowed for their employees to be tested for COVID at their head offices voluntarily and free of charge.', 'In addition HR services commissioned their local managers to contact their employees directly.', 'In total 330 employees made use of this offer to be tested.']\n",
      "\n"
     ]
    }
   ],
   "source": [
    "for p in tqdm(pwdb['content_of_measure_description'][:10]):\n",
    "    print(extract_most_important_sentences_pytextrank(p))\n",
    "    print()"
   ]
  },
  {
   "cell_type": "markdown",
   "id": "73920bca",
   "metadata": {},
   "source": [
    "2. BERT"
   ]
  },
  {
   "cell_type": "code",
   "execution_count": 40,
   "id": "a899f30c",
   "metadata": {},
   "outputs": [
    {
     "name": "stderr",
     "output_type": "stream",
     "text": [
      "Some weights of the model checkpoint at nlpaueb/bert-base-uncased-eurlex were not used when initializing BertModel: ['cls.seq_relationship.weight', 'cls.predictions.bias', 'cls.predictions.decoder.bias', 'cls.predictions.transform.dense.bias', 'cls.predictions.transform.dense.weight', 'cls.predictions.decoder.weight', 'cls.seq_relationship.bias', 'cls.predictions.transform.LayerNorm.weight', 'cls.predictions.transform.LayerNorm.bias']\n",
      "- This IS expected if you are initializing BertModel from the checkpoint of a model trained on another task or with another architecture (e.g. initializing a BertForSequenceClassification model from a BertForPreTraining model).\n",
      "- This IS NOT expected if you are initializing BertModel from the checkpoint of a model that you expect to be exactly identical (initializing a BertForSequenceClassification model from a BertForSequenceClassification model).\n"
     ]
    }
   ],
   "source": [
    "bert_base_uncased_eurlex_tokenizer = AutoTokenizer.from_pretrained('nlpaueb/bert-base-uncased-eurlex')\n",
    "bert_base_uncased_eurlex_model = AutoModel.from_pretrained('nlpaueb/bert-base-uncased-eurlex', output_hidden_states=True)"
   ]
  },
  {
   "cell_type": "code",
   "execution_count": 41,
   "id": "1ae30834",
   "metadata": {},
   "outputs": [],
   "source": [
    "bert_summarizer = Summarizer(custom_model=bert_base_uncased_eurlex_model, custom_tokenizer=bert_base_uncased_eurlex_tokenizer)"
   ]
  },
  {
   "cell_type": "code",
   "execution_count": 45,
   "id": "a1fff354",
   "metadata": {},
   "outputs": [
    {
     "data": {
      "application/vnd.jupyter.widget-view+json": {
       "model_id": "ad0312a9aebb4385873cd496e2598576",
       "version_major": 2,
       "version_minor": 0
      },
      "text/plain": [
       "  0%|          | 0/10 [00:00<?, ?it/s]"
      ]
     },
     "metadata": {},
     "output_type": "display_data"
    },
    {
     "name": "stdout",
     "output_type": "stream",
     "text": [
      "During the COVID-19 crisis, teleworking has been identified as a vital pillar to keep companies working and prevent social hardship. Discussions between the two representative social partners OGBL and LCGB and the employer association UEL, together with the Ministry of Work and Employment, led in a first instance to a joint assessment on teleworking at the level of the Economic and Social Council CES. From there, discussions continued between the social partners and an inter-professional agreement could have been signed between the social partners in October 2020.\n",
      "\n",
      "In the face of the Corona crisis, employers have taken numerous measures to protect employees from infections. Depending on the activity, this includes, for example, the possibilities for home office, redesigning workplaces to maintain a safe distance, installed barriers such as plexiglass walls or the use of personal protective equipment. The third COVID-19 Law paved the way for defining specific \"risk groups\", to which further protective measures apply. Employed workers with a very high risk of developing a serious illness if becoming infected with the Corona virus are entitled to work from their home office or to a change in working conditions (meaning that the working conditions must be designed in such a way that infection with COVID-19 is almost impossible, taking into account the way to work). An expert group consisting of three representatives from the Federal Ministry of Social Affairs, Health, Nursing and Consumer Protection, one representative from the Federal Ministry of Labor, Family and Youth, three representatives from the Medical Association and three representatives from the social security system held several meetings based on previous experience with COVID-19 sufferers in Austria's hospitals and the international scientific results identified the groups of people who could have a higher risk of developing a serious illness.\n",
      "\n",
      "The Council of Ministers has agreed to authorise the Institute for Energy Diversification and Saving (IDAE) a call for aid for investment in thermal energy production facilities with renewable energy sources in Andalusia and two calls for investment aid in Electric power generation facilities with renewable energy sources in the autonomous communities of Andalusia and Extremadura.\n",
      "\n",
      "selected modifications in the area of contributions to social security and contributions to the state employment policy and pension has been approved. This Act foregoes the obligation of self-employed persons to pay social and health insurance advance payments from March to August 2020. This measure should help self-employed to keep cash-flow when their business activities are limited by government measures against COVID-19. There is no need to individually apply for the waiver of the obligation to pay advance premiums for March to August 2020, it is a legal regulation that will be applied to all self-employed persons by default.\n",
      "\n",
      "After the Financial Shield 1.0 was impelemented from April 2020 onwards see case [PL-2020-20/806](https://static.eurofound.europa.eu/covid19db/cases/PL-2020-20_806.html) as the follow-up programme has been devised. Just like to original regulation, the follow-up is based on the Act amending the Act on the System of Development Institutions facilitating public support programme commonly referred to as the Financial Shield, operated by the Polish Development Fund (Polski Fundusz Rozwoju). The programme is divided into specific sub-sets of measures targeting 1) micro, small and medium firms and 2) large firms. The former is further divided into two segments a) micro firms and b) small and medium firms. Ustawa z dnia 4 lipca 2019 r. o systemie instytucji rozwoju („Ustawa o SIR”), znowelizowana ustawą z dnia 31 marca 2020 r. o zmianie ustawy o systemie instytucji rozwoju.\n",
      "\n",
      "Due to a significant increase in the number of persons contaminated with corona virus at the end of November 2020, the social partners and the government agreed to prolong the tripartite agreement on work sharing until the end of 2021.the state than wage compensation, but on the other it is a helping hand to the unemployed and the companies since the periods not at work will be supported by a higher remuneration than the existing. **Legal reference** : \n",
      "\n",
      "As part of the announced aid measures to the economy, the government has allowed renters to request a deferral of income tax lump sums for the first quarter 2020. However, the question remains what will happen to the second quarter 2020, since it is likely that there will be no tourists and therefore still no income. Renters demanded writing off tax lump sums for the second quarter 2020. Otherwise, they would be required to pay lump sum tax for the second quarter by 30 June 2020. Furthermore, no write-off requests will be required or submitted. This measure is aimed at renters who have lost their guests in the situation of a coronavirus pandemic, as well as the entire tourism sector, and therefore without income.\n",
      "\n",
      "Edubox is a Start-Up created by the University of Aveiro and is specialised in creating educational solutions for the public sector. Due to the progression of the COVID-19 pandemic, and the subsequent closure of schools, the distance from the client and the need for confinement of education professionals, Edubox developed a platform (Go4All) for interconnection between education professionals, family and students to better respond to effective needs.\n",
      "\n",
      "Since the introduction of quarantine in Lithuania (16 March 2020), VšĮ “Versli Lietuva” (Enterprise Lithuania) has launched an initiative, “No quarantine on the Internet”, offering assistance to small- and medium-sized businesses to transfer their activities/businesses to the virtual space. VšĮ \"Versli Lietuva\" is inviting people to join the business support campaign by purchasing goods and services at their platform. Such assistance is especially relevant for Lithuanian businesses which are facing temporary difficulties as a result of being unable to trade in their usual trading venues.\n",
      "\n",
      "Ricoh is active in both consultancy and IT related services. The Belgian division has approximately 800 employees. The company decided to act quickly with centralised coordination at the beginning of the pandemic. For some employees it was necessary to fall back onto the temporary unemployment system, others started working from home on a fulltime basis.\n",
      "\n"
     ]
    }
   ],
   "source": [
    "for p in tqdm(pwdb['background_info_description'][:10]):\n",
    "    print(bert_summarizer(p, num_sentences=5))\n",
    "    print()"
   ]
  },
  {
   "cell_type": "code",
   "execution_count": 43,
   "id": "7719684d",
   "metadata": {},
   "outputs": [
    {
     "data": {
      "application/vnd.jupyter.widget-view+json": {
       "model_id": "54bacf8c6efe4a799b342cbf52c5130c",
       "version_major": 2,
       "version_minor": 0
      },
      "text/plain": [
       "  0%|          | 0/10 [00:00<?, ?it/s]"
      ]
     },
     "metadata": {},
     "output_type": "display_data"
    },
    {
     "name": "stdout",
     "output_type": "stream",
     "text": [
      "* Teleworking is identified as a form of organisational work, conducted by digital means and usually done at the company, but that is transferred to the location where the employee lives. * The work is considered as teleworking when it is applied to occasional and exceptional circumstances, and when it remains below the 10% threshold of the annual working time. * Teleworking is based on a written agreement between the employer and the employee, containing several compulsory elements, such as for example the location where telework takes place and the number of hours, and an employee can't be dismissed if he/she does not accept a teleworking scheme and an employer can't be made accountable if the employer refuses a teleworking scheme. * The employer must also provide to the employee all the technical equipment to efficiently work under a teleworking scheme. * The company staff delegation is regularly informed about the teleworking schemes.\n",
      "\n",
      "8. arterial hypertension with existing end organ damage, especially chronic heart or kidney failure, or uncontrollable blood pressure adjustment. In addition, other, similarly serious diseases with functional or physical limitations can provide special protection through a COVID-19 risk certificate. If this is not possible either, workers belonging to the risk group are entitled to paid leave from work.\n",
      "\n",
      "In total, €136.3 million will be allocated to boost renewable energies in both regions - €124.3 million in Andalusia and €12 million in Extremadura. In these calls, the aid will range on average between 20 and 30% of the cost of the projects, and will be assigned, by competitive competition, depending on the level of maturity, technological innovation and management, assessing its link with the Just Transition and the Demographic Challenge or job creation. These are the first calls for a renewable energy promotion package initially endowed with €316 million, of which the calls for the rest of the Autonomous Communities are being finalised, in collaboration with the respective autonomous governments.\n",
      "\n",
      "Eligible are all self-employed persons performing major or subsidiary gainful activity. They are not obliged to pay advance health and social insurance premiums from March to August 2020. Minimum monthly payment for self-employed persons performing major gainful activity is for health insurance is CZK 2,352 (€86 approx.), which now self-employed can use for different reasons. However, she/he will have to pay the health and social insurance payments for March-August 2020 in 2021, when she/he submits income and expenses report for 2020.\n",
      "\n",
      "* applications can be submitted electronically at 18 banks.uary 2021;ield);,000 per employee;he period from November 2020 to March 2021 (January-March 2021 based on forecasts);tions:o restrictions from the Polish Classification of Activities (PKD);\n",
      "\n",
      "The purpose of the new tripartite agreement of 31 August on work sharing is to mitigate a possible wave of redundancies on the private labour market, which is still affected by the corona crisis, after phasing out the wage compensation measure. The agreement implies that employees in the companies that chose to make use of the measure will work between 50% and 80% of the time. They will receive full pay when at work and receive unemployment benefit for the time at home. An employers’ contribution will primarily finance the increased unemployment benefit rate. It will be evaluated and re-negotiated in the end of November.\n",
      "\n",
      "In 2019, around 600,000 beds in private rental apartment and houses have been offered to tourists. The amount is determined by the Assembly of the municipality. If the Assembly does not define the amount, it is paid HRK 750 (€100) per bed annually. The total amount paid to the budgets of local government units, towns and municipalities, amounted to about HRK 140 million annually. The amount of the flat-rate tax may not be less than HRK 150,00, nor more than HRK 1.500,00.\n",
      "\n",
      "Due to the progression of the COVID-19 pandemic, and the subsequent lock-down and closure of schools, Edubox, in a short period of time, developed the collaborative platform “Go4All”. This collaborative platform allowed the interconnection between teachers, students and parents. The platform aims at allowing access to educational content, to work collaboratively and to share contents among teachers, parents and students. On the other hand, this platform provides a contact center with teachers and multidisciplinary teams (such as psychologists, speech therapists, among others) in order to help and training those who were using the platform during the confinement period.\n",
      "\n",
      "VšĮ “Versli Lietuva” remotely consults companies on how to transfer their business to the virtual space. Having created their online store, business representatives are encouraged to register store links using the website www.internetekarantinonera.lt. All store links are made public, and people are invited to join the business support campaign by purchasing goods and services online. This way, the buyer can find Lithuanian entrepreneurs selling various goods and services in one place and immediately buy or reserve goods and services. VšĮ “Versli Lietuva” also invites mentors to register for helping businesses digitize and for providing consultations on various issues of business transfer to the Internet.\n",
      "\n",
      "Apart from the usage of telework and temporary unemployment the company management started with regular direct digital contact with their employees via digital coffee corners. In the early phases of the pandemic a system was installed to make sure that certain heads of HR were always physically present at the office in case of questions or issues. In addition HR services commissioned their local managers to contact their employees directly. In addition the company allowed for their employees to be tested for COVID at their head offices voluntarily and free of charge. In total 330 employees made use of this offer to be tested.\n",
      "\n"
     ]
    }
   ],
   "source": [
    "for p in tqdm(pwdb['content_of_measure_description'][:10]):\n",
    "    print(bert_summarizer(p, num_sentences=5))\n",
    "    print()"
   ]
  }
 ],
 "metadata": {
  "kernelspec": {
   "display_name": "Python 3 (ipykernel)",
   "language": "python",
   "name": "python3"
  },
  "language_info": {
   "codemirror_mode": {
    "name": "ipython",
    "version": 3
   },
   "file_extension": ".py",
   "mimetype": "text/x-python",
   "name": "python",
   "nbconvert_exporter": "python",
   "pygments_lexer": "ipython3",
   "version": "3.8.8"
  }
 },
 "nbformat": 4,
 "nbformat_minor": 5
}