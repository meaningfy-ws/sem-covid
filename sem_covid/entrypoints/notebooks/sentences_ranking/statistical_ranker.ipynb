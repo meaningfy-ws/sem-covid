{
 "cells": [
  {
   "cell_type": "markdown",
   "id": "070f16eb",
   "metadata": {},
   "source": [
    "# Imports"
   ]
  },
  {
   "cell_type": "code",
   "execution_count": 1,
   "id": "fdeab05c",
   "metadata": {},
   "outputs": [],
   "source": [
    "import sys\n",
    "sys.path.append('/home/jovyan/work/sem-covid/')\n",
    "sys.path = list(set(sys.path))\n",
    "\n",
    "import os\n",
    "os.getcwd()\n",
    "os.chdir('/home/jovyan/work/sem-covid/')\n",
    "\n",
    "from sem_covid.services.data_registry import Dataset\n",
    "from sklearn.feature_extraction.text import TfidfVectorizer\n",
    "from statistics import mean"
   ]
  },
  {
   "cell_type": "code",
   "execution_count": 2,
   "id": "b70306fe",
   "metadata": {},
   "outputs": [],
   "source": [
    "vectorizer = TfidfVectorizer(lowercase=True, stop_words='english')"
   ]
  },
  {
   "cell_type": "markdown",
   "id": "2b4878d0",
   "metadata": {},
   "source": [
    "# Methods"
   ]
  },
  {
   "cell_type": "code",
   "execution_count": 82,
   "outputs": [],
   "source": [
    "def top_k_mean(data:list,top_k: int):\n",
    "    tmp_data = data.copy()\n",
    "    tmp_data.sort(reverse=True)\n",
    "    return mean(tmp_data[:top_k] + [0] * (top_k - len(data)))"
   ],
   "metadata": {
    "collapsed": false,
    "pycharm": {
     "name": "#%%\n"
    }
   }
  },
  {
   "cell_type": "code",
   "execution_count": 83,
   "id": "843402dc",
   "metadata": {},
   "outputs": [],
   "source": [
    "def get_weights_chunks(chunks: list,top_k:int) -> list:\n",
    "    vectors = vectorizer.fit_transform(chunks).todense().tolist()\n",
    "    return [top_k_mean(vec,top_k=top_k) for vec in vectors]"
   ]
  },
  {
   "cell_type": "markdown",
   "id": "7074aee7",
   "metadata": {},
   "source": [
    "# Fetch the data"
   ]
  },
  {
   "cell_type": "code",
   "execution_count": 3,
   "id": "dba6a0b1",
   "metadata": {},
   "outputs": [
    {
     "name": "stderr",
     "output_type": "stream",
     "text": [
      "100% (1368 of 1368) |####################| Elapsed Time: 0:00:00 Time:  0:00:00\n"
     ]
    }
   ],
   "source": [
    "pwdb = Dataset.PWDB.fetch()[['background_info_description', 'content_of_measure_description']]"
   ]
  },
  {
   "cell_type": "code",
   "execution_count": 4,
   "id": "6cc701a9",
   "metadata": {},
   "outputs": [
    {
     "data": {
      "text/plain": "                                                                          background_info_description  \\\n_id                                                                                                     \ntika/2ec585e04df9d361a951e7d26ce5d3ab06e4d17612...  This measure, introduced in the framework of t...   \ntika/66bc32e9135b8e8d1babac8dafd6c64119a519761e...  Due to the containment measures, most of the s...   \ntika/aaf8d11193277c5adc773cb6d57ef672483c6feb3f...  The Natioanl Credit and Investment Company (So...   \ntika/74734d4700b8900d64e8692f8e59635b222c9035d1...  Automobile company Daimler has compensated emp...   \ntika/e53e7ed3ea23384e272cce94831e5c2e4b5a09dd8d...  The Bulgarian government approved a series of ...   \n\n                                                                       content_of_measure_description  \n_id                                                                                                    \ntika/2ec585e04df9d361a951e7d26ce5d3ab06e4d17612...  According to the Employment Relationship Act, ...  \ntika/66bc32e9135b8e8d1babac8dafd6c64119a519761e...  The allowance is paid for one parent of a chil...  \ntika/aaf8d11193277c5adc773cb6d57ef672483c6feb3f...  Special Anti-Crisis Financing can be granted t...  \ntika/74734d4700b8900d64e8692f8e59635b222c9035d1...  Daimler employees benefit from a one-time bonu...  \ntika/e53e7ed3ea23384e272cce94831e5c2e4b5a09dd8d...  Medical staff is entitled to a bonus payment o...  ",
      "text/html": "<div>\n<style scoped>\n    .dataframe tbody tr th:only-of-type {\n        vertical-align: middle;\n    }\n\n    .dataframe tbody tr th {\n        vertical-align: top;\n    }\n\n    .dataframe thead th {\n        text-align: right;\n    }\n</style>\n<table border=\"1\" class=\"dataframe\">\n  <thead>\n    <tr style=\"text-align: right;\">\n      <th></th>\n      <th>background_info_description</th>\n      <th>content_of_measure_description</th>\n    </tr>\n    <tr>\n      <th>_id</th>\n      <th></th>\n      <th></th>\n    </tr>\n  </thead>\n  <tbody>\n    <tr>\n      <th>tika/2ec585e04df9d361a951e7d26ce5d3ab06e4d17612e36ee84696c1451c972c4b</th>\n      <td>This measure, introduced in the framework of t...</td>\n      <td>According to the Employment Relationship Act, ...</td>\n    </tr>\n    <tr>\n      <th>tika/66bc32e9135b8e8d1babac8dafd6c64119a519761e0e55555105a66c759e8130</th>\n      <td>Due to the containment measures, most of the s...</td>\n      <td>The allowance is paid for one parent of a chil...</td>\n    </tr>\n    <tr>\n      <th>tika/aaf8d11193277c5adc773cb6d57ef672483c6feb3f23f8316df3680f526e47fc</th>\n      <td>The Natioanl Credit and Investment Company (So...</td>\n      <td>Special Anti-Crisis Financing can be granted t...</td>\n    </tr>\n    <tr>\n      <th>tika/74734d4700b8900d64e8692f8e59635b222c9035d133b90715d68ba2599ab1da</th>\n      <td>Automobile company Daimler has compensated emp...</td>\n      <td>Daimler employees benefit from a one-time bonu...</td>\n    </tr>\n    <tr>\n      <th>tika/e53e7ed3ea23384e272cce94831e5c2e4b5a09dd8d1c05c762e5c99cdf1c6a7f</th>\n      <td>The Bulgarian government approved a series of ...</td>\n      <td>Medical staff is entitled to a bonus payment o...</td>\n    </tr>\n  </tbody>\n</table>\n</div>"
     },
     "execution_count": 4,
     "metadata": {},
     "output_type": "execute_result"
    }
   ],
   "source": [
    "pwdb.head()"
   ]
  },
  {
   "cell_type": "markdown",
   "id": "4674002b",
   "metadata": {},
   "source": [
    "# Main"
   ]
  },
  {
   "cell_type": "code",
   "execution_count": 84,
   "id": "353b9cc8",
   "metadata": {
    "pycharm": {
     "name": "#%%\n"
    }
   },
   "outputs": [
    {
     "data": {
      "text/plain": "[0.2445544436408655,\n 0.31071558568210556,\n 0.282906769916157,\n 0.26013395641928067,\n 0.22124448829316926,\n 0.19860889467310688,\n 0.2878664429264117,\n 0.26419581948768806,\n 0.2842369814766812,\n 0.0]"
     },
     "execution_count": 84,
     "metadata": {},
     "output_type": "execute_result"
    }
   ],
   "source": [
    "get_weights_chunks(pwdb['content_of_measure_description'][0].split('.'),top_k=10)"
   ]
  }
 ],
 "metadata": {
  "kernelspec": {
   "display_name": "Python 3 (ipykernel)",
   "language": "python",
   "name": "python3"
  },
  "language_info": {
   "codemirror_mode": {
    "name": "ipython",
    "version": 3
   },
   "file_extension": ".py",
   "mimetype": "text/x-python",
   "name": "python",
   "nbconvert_exporter": "python",
   "pygments_lexer": "ipython3",
   "version": "3.8.8"
  }
 },
 "nbformat": 4,
 "nbformat_minor": 5
}