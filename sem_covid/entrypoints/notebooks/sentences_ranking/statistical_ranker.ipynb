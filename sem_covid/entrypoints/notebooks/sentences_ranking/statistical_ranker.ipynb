{
 "cells": [
  {
   "cell_type": "markdown",
   "id": "070f16eb",
   "metadata": {},
   "source": [
    "# Imports"
   ]
  },
  {
   "cell_type": "code",
   "execution_count": 1,
   "id": "fdeab05c",
   "metadata": {},
   "outputs": [],
   "source": [
    "import sys\n",
    "sys.path.append('/home/jovyan/work/sem-covid/')\n",
    "sys.path = list(set(sys.path))\n",
    "\n",
    "import os\n",
    "os.getcwd()\n",
    "os.chdir('/home/jovyan/work/sem-covid/')\n",
    "\n",
    "from sem_covid.services.data_registry import Dataset\n",
    "from sklearn.feature_extraction.text import TfidfVectorizer\n",
    "from statistics import mean"
   ]
  },
  {
   "cell_type": "code",
   "execution_count": 2,
   "id": "b70306fe",
   "metadata": {},
   "outputs": [],
   "source": [
    "vectorizer = TfidfVectorizer(lowercase=True, stop_words='english')"
   ]
  },
  {
   "cell_type": "markdown",
   "id": "2b4878d0",
   "metadata": {},
   "source": [
    "# Methods"
   ]
  },
  {
   "cell_type": "code",
   "execution_count": 3,
   "id": "843402dc",
   "metadata": {},
   "outputs": [],
   "source": [
    "def get_weights_of_chunks(chunks: list) -> list:\n",
    "\n",
    "    weights = []\n",
    "    \n",
    "    vectors = vectorizer.fit_transform(chunks).todense().tolist()\n",
    "    \n",
    "    for vec in vectors:\n",
    "\n",
    "        weights.append(mean(vec))\n",
    "        \n",
    "    return weights"
   ]
  },
  {
   "cell_type": "markdown",
   "id": "7074aee7",
   "metadata": {},
   "source": [
    "# Fetch the data"
   ]
  },
  {
   "cell_type": "code",
   "execution_count": 4,
   "id": "dba6a0b1",
   "metadata": {},
   "outputs": [
    {
     "name": "stderr",
     "output_type": "stream",
     "text": [
      "100% (1368 of 1368) |####################| Elapsed Time: 0:00:00 Time:  0:00:00\n"
     ]
    }
   ],
   "source": [
    "pwdb = Dataset.PWDB.fetch()[['background_info_description', 'content_of_measure_description']]"
   ]
  },
  {
   "cell_type": "code",
   "execution_count": 5,
   "id": "6cc701a9",
   "metadata": {},
   "outputs": [
    {
     "data": {
      "text/html": [
       "<div>\n",
       "<style scoped>\n",
       "    .dataframe tbody tr th:only-of-type {\n",
       "        vertical-align: middle;\n",
       "    }\n",
       "\n",
       "    .dataframe tbody tr th {\n",
       "        vertical-align: top;\n",
       "    }\n",
       "\n",
       "    .dataframe thead th {\n",
       "        text-align: right;\n",
       "    }\n",
       "</style>\n",
       "<table border=\"1\" class=\"dataframe\">\n",
       "  <thead>\n",
       "    <tr style=\"text-align: right;\">\n",
       "      <th></th>\n",
       "      <th>background_info_description</th>\n",
       "      <th>content_of_measure_description</th>\n",
       "    </tr>\n",
       "    <tr>\n",
       "      <th>_id</th>\n",
       "      <th></th>\n",
       "      <th></th>\n",
       "    </tr>\n",
       "  </thead>\n",
       "  <tbody>\n",
       "    <tr>\n",
       "      <th>tika/2ec585e04df9d361a951e7d26ce5d3ab06e4d17612e36ee84696c1451c972c4b</th>\n",
       "      <td>This measure, introduced in the framework of t...</td>\n",
       "      <td>According to the Employment Relationship Act, ...</td>\n",
       "    </tr>\n",
       "    <tr>\n",
       "      <th>tika/66bc32e9135b8e8d1babac8dafd6c64119a519761e0e55555105a66c759e8130</th>\n",
       "      <td>Due to the containment measures, most of the s...</td>\n",
       "      <td>The allowance is paid for one parent of a chil...</td>\n",
       "    </tr>\n",
       "    <tr>\n",
       "      <th>tika/aaf8d11193277c5adc773cb6d57ef672483c6feb3f23f8316df3680f526e47fc</th>\n",
       "      <td>The Natioanl Credit and Investment Company (So...</td>\n",
       "      <td>Special Anti-Crisis Financing can be granted t...</td>\n",
       "    </tr>\n",
       "    <tr>\n",
       "      <th>tika/74734d4700b8900d64e8692f8e59635b222c9035d133b90715d68ba2599ab1da</th>\n",
       "      <td>Automobile company Daimler has compensated emp...</td>\n",
       "      <td>Daimler employees benefit from a one-time bonu...</td>\n",
       "    </tr>\n",
       "    <tr>\n",
       "      <th>tika/e53e7ed3ea23384e272cce94831e5c2e4b5a09dd8d1c05c762e5c99cdf1c6a7f</th>\n",
       "      <td>The Bulgarian government approved a series of ...</td>\n",
       "      <td>Medical staff is entitled to a bonus payment o...</td>\n",
       "    </tr>\n",
       "  </tbody>\n",
       "</table>\n",
       "</div>"
      ],
      "text/plain": [
       "                                                                          background_info_description  \\\n",
       "_id                                                                                                     \n",
       "tika/2ec585e04df9d361a951e7d26ce5d3ab06e4d17612...  This measure, introduced in the framework of t...   \n",
       "tika/66bc32e9135b8e8d1babac8dafd6c64119a519761e...  Due to the containment measures, most of the s...   \n",
       "tika/aaf8d11193277c5adc773cb6d57ef672483c6feb3f...  The Natioanl Credit and Investment Company (So...   \n",
       "tika/74734d4700b8900d64e8692f8e59635b222c9035d1...  Automobile company Daimler has compensated emp...   \n",
       "tika/e53e7ed3ea23384e272cce94831e5c2e4b5a09dd8d...  The Bulgarian government approved a series of ...   \n",
       "\n",
       "                                                                       content_of_measure_description  \n",
       "_id                                                                                                    \n",
       "tika/2ec585e04df9d361a951e7d26ce5d3ab06e4d17612...  According to the Employment Relationship Act, ...  \n",
       "tika/66bc32e9135b8e8d1babac8dafd6c64119a519761e...  The allowance is paid for one parent of a chil...  \n",
       "tika/aaf8d11193277c5adc773cb6d57ef672483c6feb3f...  Special Anti-Crisis Financing can be granted t...  \n",
       "tika/74734d4700b8900d64e8692f8e59635b222c9035d1...  Daimler employees benefit from a one-time bonu...  \n",
       "tika/e53e7ed3ea23384e272cce94831e5c2e4b5a09dd8d...  Medical staff is entitled to a bonus payment o...  "
      ]
     },
     "execution_count": 5,
     "metadata": {},
     "output_type": "execute_result"
    }
   ],
   "source": [
    "pwdb.head()"
   ]
  },
  {
   "cell_type": "markdown",
   "id": "4674002b",
   "metadata": {},
   "source": [
    "# Main"
   ]
  },
  {
   "cell_type": "code",
   "execution_count": 6,
   "id": "353b9cc8",
   "metadata": {},
   "outputs": [
    {
     "data": {
      "text/plain": [
       "['According to the Employment Relationship Act, when a company temporarily fails to provide work for business reasons (in the event of a temporary layoff), the worker is entitled to wage compensation in the amount of 80% of the wage basis',\n",
       " ' The wage basis is determined at the worker’s average monthly wage for full-time work during the past three months',\n",
       " ' On the other hand, if a worker cannot carry out his work due to force majeure, he is entitled to half of the payment he would have received if he was working, but not less than 70% of the minimum wage',\n",
       " ' The temporary laid-off worker is obliged to respond to the employer’s invitation in a manner and under the conditions laid down in the lay-off letter (Employment Relationship Act, Articles 137, 138)',\n",
       " '\\r\\rThe measure being examined, attempting to cushion the economic effects of the COVID-19 epidemic, grants the employers with 80% reimbursement of the sums payed to provide the economic treatment mentioned above to workers (in case of temporary lay-off as well as force majeure)',\n",
       " ' This reimbursement is funded with the state budget',\n",
       " ' Reimbursement is limited to the average monthly salary in 2019 and cannot be lower than the minimum wage (it is thus higher than statutory determined compensations)',\n",
       " '\\r\\rThe maximum length of receiving compensation is from 13 March to 31 May',\n",
       " ' To be eligible for the reimbursements, a company had to demonstrate a 20% lower income in the first half of 2020 and 50% lower income in the second half of 2020, compared to 2019',\n",
       " '']"
      ]
     },
     "execution_count": 6,
     "metadata": {},
     "output_type": "execute_result"
    }
   ],
   "source": [
    "pwdb['content_of_measure_description'][0].split('.')"
   ]
  },
  {
   "cell_type": "code",
   "execution_count": 7,
   "id": "27c40b8e",
   "metadata": {},
   "outputs": [
    {
     "data": {
      "text/plain": [
       "[0.04859117161716107,\n",
       " 0.034144569855176436,\n",
       " 0.04073330003301816,\n",
       " 0.043672680843672,\n",
       " 0.052466363922428386,\n",
       " 0.021825153260780977,\n",
       " 0.03934524103648014,\n",
       " 0.029032507636009675,\n",
       " 0.037528673178270244,\n",
       " 0.0]"
      ]
     },
     "execution_count": 7,
     "metadata": {},
     "output_type": "execute_result"
    }
   ],
   "source": [
    "get_weights_of_chunks(pwdb['content_of_measure_description'][0].split('.'))"
   ]
  }
 ],
 "metadata": {
  "kernelspec": {
   "display_name": "Python 3 (ipykernel)",
   "language": "python",
   "name": "python3"
  },
  "language_info": {
   "codemirror_mode": {
    "name": "ipython",
    "version": 3
   },
   "file_extension": ".py",
   "mimetype": "text/x-python",
   "name": "python",
   "nbconvert_exporter": "python",
   "pygments_lexer": "ipython3",
   "version": "3.8.8"
  }
 },
 "nbformat": 4,
 "nbformat_minor": 5
}
