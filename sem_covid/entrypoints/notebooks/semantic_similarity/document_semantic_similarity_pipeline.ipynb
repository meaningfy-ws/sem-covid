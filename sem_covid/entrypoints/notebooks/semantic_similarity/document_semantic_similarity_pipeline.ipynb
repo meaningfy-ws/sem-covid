{
 "cells": [
  {
   "cell_type": "markdown",
   "source": [
    "## Import libraries"
   ],
   "metadata": {
    "collapsed": false,
    "pycharm": {
     "name": "#%% md\n"
    }
   }
  },
  {
   "cell_type": "code",
   "execution_count": 2,
   "outputs": [
    {
     "name": "stderr",
     "output_type": "stream",
     "text": [
      "2021-08-16 12:57:42.651600: W tensorflow/stream_executor/platform/default/dso_loader.cc:64] Could not load dynamic library 'libcudart.so.11.0'; dlerror: libcudart.so.11.0: cannot open shared object file: No such file or directory\n",
      "2021-08-16 12:57:42.651627: I tensorflow/stream_executor/cuda/cudart_stub.cc:29] Ignore above cudart dlerror if you do not have a GPU set up on your machine.\n"
     ]
    }
   ],
   "source": [
    "import sys\n",
    "\n",
    "sys.path.append(\"/home/jovyan/work/sem-covid/\")\n",
    "sys.path = list(set(sys.path))\n",
    "import os\n",
    "\n",
    "os.getcwd()\n",
    "os.chdir('/home/jovyan/work/sem-covid/')\n",
    "from sem_covid import config\n",
    "from sem_covid.services.model_registry import embedding_registry\n",
    "from sem_covid.services.store_registry import store_registry\n",
    "import numpy as np\n",
    "from sem_covid.services.semantic_similarity_pipelines.document_embedding_pipeline import DocumentEmbeddingPipeline\n",
    "from sem_covid.services.semantic_similarity_pipelines.document_similarity_pipeline import DocumentSimilarityPipeline\n",
    "from sem_covid.services.semantic_similarity_pipelines.semantic_similarity_sampling_pipeline import (\n",
    "    SemanticSimilaritySamplingPipeline)"
   ],
   "metadata": {
    "collapsed": false,
    "pycharm": {
     "name": "#%%\n"
    }
   }
  },
  {
   "cell_type": "markdown",
   "source": [
    "## Define constants"
   ],
   "metadata": {
    "collapsed": false,
    "pycharm": {
     "name": "#%% md\n"
    }
   }
  },
  {
   "cell_type": "code",
   "execution_count": 3,
   "outputs": [],
   "source": [
    "TEXTUAL_COLUMNS = ['title', 'background_info_description', 'content_of_measure_description',\n",
    "                   'use_of_measure_description', 'involvement_of_social_partners_description']\n",
    "\n",
    "DOCUMENT_EMBEDDINGS_FEATURE_STORE_NAME = 'fs_doc_emb_tfidf'\n",
    "\n",
    "DOCUMENTS_CONFIGS = {config.IRELAND_TIMELINE_ELASTIC_SEARCH_INDEX_NAME: ['title', 'content'],\n",
    "                     config.EU_TIMELINE_ELASTIC_SEARCH_INDEX_NAME: ['title', 'abstract', 'detail_content'],\n",
    "                     config.EU_CELLAR_ELASTIC_SEARCH_INDEX_NAME: ['title', 'content'],\n",
    "                     config.PWDB_ELASTIC_SEARCH_INDEX_NAME: TEXTUAL_COLUMNS\n",
    "                     }\n",
    "\n",
    "SM_EU_CELLAR_X_PWDB = 'sm_ds_eu_cellar_x_ds_pwdb_tfidfembeddingmodel_cosine_similarity'\n",
    "METRIC_COLUMN_NAME = 'cosine_similarity'\n",
    "SAMPLE_INDEX_NAME = 'sm_eu_cellar_x_pwdb_sample_tf_idf_emb_cosine'"
   ],
   "metadata": {
    "collapsed": false,
    "pycharm": {
     "name": "#%%\n"
    }
   }
  },
  {
   "cell_type": "markdown",
   "source": [
    "## Define similarity functions"
   ],
   "metadata": {
    "collapsed": false,
    "pycharm": {
     "name": "#%% md\n"
    }
   }
  },
  {
   "cell_type": "code",
   "execution_count": null,
   "outputs": [],
   "source": [
    "def cosine_similarity(u, v):\n",
    "    return np.dot(u, v) / (np.linalg.norm(u) * np.linalg.norm(v))"
   ],
   "metadata": {
    "collapsed": false,
    "pycharm": {
     "name": "#%%\n"
    }
   }
  },
  {
   "cell_type": "markdown",
   "source": [
    "## Execute document embedding pipeline for each configuration"
   ],
   "metadata": {
    "collapsed": false,
    "pycharm": {
     "name": "#%% md\n"
    }
   }
  },
  {
   "cell_type": "code",
   "execution_count": null,
   "outputs": [],
   "source": [
    "for config_key in DOCUMENTS_CONFIGS.keys():\n",
    "    DocumentEmbeddingPipeline(es_index_name=config_key,\n",
    "                              textual_columns=DOCUMENTS_CONFIGS[config_key],\n",
    "                              embedding_model=embedding_registry.sent2vec_tfidf_avg(),\n",
    "                              embedding_model_name='TfIdfEmbeddingModel',\n",
    "                              store_registry=store_registry,\n",
    "                              doc_emb_feature_store_name=DOCUMENT_EMBEDDINGS_FEATURE_STORE_NAME\n",
    "                              ).execute()\n"
   ],
   "metadata": {
    "collapsed": false,
    "pycharm": {
     "name": "#%%\n"
    }
   }
  },
  {
   "cell_type": "markdown",
   "source": [
    "## Execute document similarity pipeline"
   ],
   "metadata": {
    "collapsed": false,
    "pycharm": {
     "name": "#%% md\n"
    }
   }
  },
  {
   "cell_type": "code",
   "execution_count": null,
   "outputs": [],
   "source": [
    "\n",
    "DocumentSimilarityPipeline(document_embeddings_index=DOCUMENT_EMBEDDINGS_FEATURE_STORE_NAME,\n",
    "                           similarity_metric=cosine_similarity,\n",
    "                           similarity_metric_name='cosine_similarity',\n",
    "                           store_registry=store_registry\n",
    "                           ).execute()"
   ],
   "metadata": {
    "collapsed": false,
    "pycharm": {
     "name": "#%%\n"
    }
   }
  },
  {
   "cell_type": "markdown",
   "source": [
    "## Execute document semantic similarity sampling pipeline"
   ],
   "metadata": {
    "collapsed": false,
    "pycharm": {
     "name": "#%% md\n"
    }
   }
  },
  {
   "cell_type": "code",
   "execution_count": null,
   "outputs": [],
   "source": [
    "SemanticSimilaritySamplingPipeline(\n",
    "            semantic_similarity_index_name=SM_EU_CELLAR_X_PWDB,\n",
    "            doc_emb_feature_store_name=DOCUMENT_EMBEDDINGS_FEATURE_STORE_NAME,\n",
    "            sample_index_name=SAMPLE_INDEX_NAME,\n",
    "            sample_size=10000,\n",
    "            metric_column_name=METRIC_COLUMN_NAME,\n",
    "            store_registry=store_registry\n",
    "            ).execute()"
   ],
   "metadata": {
    "collapsed": false,
    "pycharm": {
     "name": "#%%\n"
    }
   }
  }
 ],
 "metadata": {
  "kernelspec": {
   "display_name": "Python 3",
   "language": "python",
   "name": "python3"
  },
  "language_info": {
   "codemirror_mode": {
    "name": "ipython",
    "version": 2
   },
   "file_extension": ".py",
   "mimetype": "text/x-python",
   "name": "python",
   "nbconvert_exporter": "python",
   "pygments_lexer": "ipython2",
   "version": "2.7.6"
  }
 },
 "nbformat": 4,
 "nbformat_minor": 0
}