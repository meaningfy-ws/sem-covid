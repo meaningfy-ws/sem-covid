{
 "cells": [
  {
   "cell_type": "code",
   "execution_count": 46,
   "metadata": {
    "collapsed": true
   },
   "outputs": [],
   "source": [
    "import sys\n",
    "from typing import List\n",
    "\n",
    "from sklearn.feature_extraction.text import TfidfVectorizer\n",
    "\n",
    "from sem_covid.services.model_registry import embedding_registry\n",
    "\n",
    "sys.path.append(\"/home/jovyan/work/sem-covid/\")\n",
    "sys.path = list(set(sys.path))\n",
    "import os\n",
    "\n",
    "os.getcwd()\n",
    "os.chdir('/home/jovyan/work/sem-covid/')\n",
    "\n",
    "import spacy\n",
    "from gensim.models import KeyedVectors\n",
    "\n",
    "from sem_covid.adapters.abstract_model import SentenceEmbeddingModelABC\n",
    "from sem_covid.adapters.embedding_models import (TfIdfSentenceEmbeddingModel, Word2VecEmbeddingModel,\n",
    "                                                 SpacyTokenizerModel, AverageSentenceEmbeddingModel)\n",
    "\n",
    "from sklearn.metrics.pairwise import pairwise_distances\n",
    "from sem_covid import config\n",
    "from sem_covid.services.store_registry import StoreRegistry, StoreRegistryABC\n",
    "from sem_covid.services.data_registry import Dataset, LanguageModel\n",
    "import tensorflow_hub as hub\n",
    "import numpy as np\n",
    "import pandas as pd\n",
    "from scipy.spatial.distance import euclidean, pdist, squareform\n",
    "from sklearn.metrics.pairwise import pairwise_distances\n",
    "import matplotlib.pyplot as plt\n",
    "import plotly.express as px\n",
    "import concurrent.futures"
   ]
  },
  {
   "cell_type": "code",
   "execution_count": 2,
   "outputs": [],
   "source": [
    "def cosine(u, v):\n",
    "    return np.dot(u, v) / (np.linalg.norm(u) * np.linalg.norm(v))\n",
    "\n",
    "\n",
    "def similarity_func(u, v):\n",
    "    return 1 / (1 + euclidean(u, v))\n"
   ],
   "metadata": {
    "collapsed": false,
    "pycharm": {
     "name": "#%%\n"
    }
   }
  },
  {
   "cell_type": "code",
   "execution_count": 3,
   "outputs": [],
   "source": [
    "TEXTUAL_COLUMNS = ['title', 'background_info_description', 'content_of_measure_description',\n",
    "                   'use_of_measure_description', 'involvement_of_social_partners_description']"
   ],
   "metadata": {
    "collapsed": false,
    "pycharm": {
     "name": "#%%\n"
    }
   }
  },
  {
   "cell_type": "code",
   "execution_count": 4,
   "outputs": [],
   "source": [
    "DOCUMENT_TEXT = 'text'\n",
    "DOCUMENT_SEGMENT = 'segment_type'\n",
    "DOCUMENT_SEGMENT_ID = 'segment_id'\n",
    "DOCUMENT_SOURCE = 'source'\n",
    "DOCUMENT_PREPARE_METHOD = 'prepare_method'\n",
    "DOCUMENT_EMBEDDING = 'embedding'\n",
    "DOCUMENT_EMBEDDING_METHOD = 'embedding_method'\n",
    "DOCUMENT_TEXTUAL_COLUMNS = 'textual_columns'\n",
    "DOCUMENT_EMBEDDINGS_FEATURE_STORE_NAME = 'fs_document_embeddings'"
   ],
   "metadata": {
    "collapsed": false,
    "pycharm": {
     "name": "#%%\n"
    }
   }
  },
  {
   "cell_type": "code",
   "execution_count": 5,
   "outputs": [],
   "source": [
    "class DocumentEmbeddingPipeline:\n",
    "\n",
    "    def __init__(self, es_index_name: str, textual_columns: list,\n",
    "                 embedding_model: SentenceEmbeddingModelABC, embedding_model_name: str,\n",
    "                 store_registry: StoreRegistryABC, doc_emb_feature_store_name: str,\n",
    "                 text_limit_chars: int = 5000):\n",
    "        self.es_index_name = es_index_name\n",
    "        self.textual_columns = textual_columns\n",
    "        self.prepared_dataset = None\n",
    "        self.dataset = None\n",
    "        self.model = embedding_model\n",
    "        self.model_name = embedding_model_name\n",
    "        self.text_limit_chars = text_limit_chars\n",
    "        self.store_registry = store_registry\n",
    "        self.doc_emb_feature_store_name = doc_emb_feature_store_name\n",
    "\n",
    "    def load_documents(self):\n",
    "        es_index_store = self.store_registry.es_index_store()\n",
    "        self.dataset = es_index_store.get_dataframe(self.es_index_name)\n",
    "\n",
    "    def prepare_textual_columns(self):\n",
    "        assert self.dataset is not None\n",
    "        self.dataset.dropna(subset=self.textual_columns, inplace=True)\n",
    "        self.dataset[DOCUMENT_TEXT] = self.dataset[self.textual_columns].agg(lambda texts:\n",
    "                                                                             \". \".join(texts)[:self.text_limit_chars]\n",
    "                                                                             , axis=1)\n",
    "        self.prepared_dataset = pd.DataFrame(self.dataset[DOCUMENT_TEXT])\n",
    "        self.prepared_dataset[DOCUMENT_SOURCE] = self.es_index_name\n",
    "        self.prepared_dataset[DOCUMENT_SEGMENT] = 'document'\n",
    "        self.prepared_dataset[DOCUMENT_SEGMENT_ID] = 0\n",
    "        self.prepared_dataset[DOCUMENT_PREPARE_METHOD] = 'join_textual_columns'\n",
    "        self.prepared_dataset[DOCUMENT_TEXTUAL_COLUMNS] = [self.textual_columns] * len(self.prepared_dataset)\n",
    "\n",
    "    def compute_embeddings(self):\n",
    "        assert self.model is not None\n",
    "        assert self.prepared_dataset is not None\n",
    "        self.prepared_dataset[DOCUMENT_EMBEDDING] = self.model.encode(\n",
    "            self.prepared_dataset[DOCUMENT_TEXT].tolist())\n",
    "        self.prepared_dataset[DOCUMENT_EMBEDDING_METHOD] = self.model_name\n",
    "\n",
    "    def store_embeddings(self):\n",
    "        assert self.prepared_dataset is not None\n",
    "        assert DOCUMENT_EMBEDDING in self.prepared_dataset.columns\n",
    "        es_feature_store = self.store_registry.es_feature_store()\n",
    "        es_feature_store.put_features(features_name=self.doc_emb_feature_store_name,\n",
    "                                      content=self.prepared_dataset)\n",
    "\n",
    "    def execute(self):\n",
    "        self.load_documents()\n",
    "        self.prepare_textual_columns()\n",
    "        self.compute_embeddings()\n",
    "        self.store_embeddings()"
   ],
   "metadata": {
    "collapsed": false,
    "pycharm": {
     "name": "#%%\n"
    }
   }
  },
  {
   "cell_type": "code",
   "execution_count": 6,
   "outputs": [],
   "source": [
    "tf_ids_sent_emb_model = embedding_registry.sent2vec_tfidf_avg()"
   ],
   "metadata": {
    "collapsed": false,
    "pycharm": {
     "name": "#%%\n"
    }
   }
  },
  {
   "cell_type": "code",
   "execution_count": 10,
   "outputs": [
    {
     "name": "stderr",
     "output_type": "stream",
     "text": [
      "100% (410 of 410) |######################| Elapsed Time: 0:00:00 Time:  0:00:00\n",
      "N/A% (0 of 407) |                        | Elapsed Time: 0:00:00 ETA:  --:--:--"
     ]
    }
   ],
   "source": [
    "document_embedding_pipeline = DocumentEmbeddingPipeline(es_index_name=config.IRELAND_TIMELINE_ELASTIC_SEARCH_INDEX_NAME,\n",
    "                                                        textual_columns=['title'],\n",
    "                                                        embedding_model=tf_ids_sent_emb_model\n",
    "                                                        )\n",
    "document_embedding_pipeline.execute()"
   ],
   "metadata": {
    "collapsed": false,
    "pycharm": {
     "name": "#%%\n"
    }
   }
  },
  {
   "cell_type": "code",
   "execution_count": 8,
   "outputs": [
    {
     "name": "stderr",
     "output_type": "stream",
     "text": [
      "100% (2811 of 2811) |####################| Elapsed Time: 0:00:00 Time:  0:00:00\n"
     ]
    }
   ],
   "source": [
    "es_store = StoreRegistry.es_feature_store()\n",
    "df = es_store.get_features(config.EU_CELLAR_ELASTIC_SEARCH_INDEX_NAME)\n"
   ],
   "metadata": {
    "collapsed": false,
    "pycharm": {
     "name": "#%%\n"
    }
   }
  },
  {
   "cell_type": "code",
   "execution_count": 55,
   "outputs": [],
   "source": [
    "es_store = StoreRegistry.es_index_store()"
   ],
   "metadata": {
    "collapsed": false,
    "pycharm": {
     "name": "#%%\n"
    }
   }
  },
  {
   "cell_type": "code",
   "execution_count": 56,
   "outputs": [
    {
     "name": "stderr",
     "output_type": "stream",
     "text": [
      "100% (1288 of 1288) |####################| Elapsed Time: 0:00:00 Time:  0:00:00\n"
     ]
    }
   ],
   "source": [
    "df = es_store.get_dataframe(index_name=config.PWDB_ELASTIC_SEARCH_INDEX_NAME)"
   ],
   "metadata": {
    "collapsed": false,
    "pycharm": {
     "name": "#%%\n"
    }
   }
  },
  {
   "cell_type": "code",
   "execution_count": 73,
   "outputs": [
    {
     "data": {
      "text/plain": "'Agreement on a teleworking regime. During the COVID-19 crisis, teleworking has been identified as a vital pillar to keep companies working and prevent social hardship. Discussions between the two representative social partners OGBL and LCGB and the employer association UEL, together with the Ministry of Work and Employment, led in a first instance to a joint assessment on teleworking at the level of the Economic and Social Council CES. From there, discussions continued between the social partners and an int'"
     },
     "execution_count": 73,
     "metadata": {},
     "output_type": "execute_result"
    }
   ],
   "source": [
    "df[TEXTUAL_COLUMNS].agg(lambda texts: \". \".join(texts)[:512], axis=1)"
   ],
   "metadata": {
    "collapsed": false,
    "pycharm": {
     "name": "#%%\n"
    }
   }
  },
  {
   "cell_type": "code",
   "execution_count": 11,
   "outputs": [],
   "source": [
    "feature_store = StoreRegistry.es_feature_store()"
   ],
   "metadata": {
    "collapsed": false,
    "pycharm": {
     "name": "#%%\n"
    }
   }
  },
  {
   "cell_type": "code",
   "execution_count": 12,
   "outputs": [
    {
     "name": "stderr",
     "output_type": "stream",
     "text": [
      "100% (2514 of 2514) |####################| Elapsed Time: 0:00:00 Time:  0:00:00\n"
     ]
    }
   ],
   "source": [
    "df = feature_store.get_features(DOCUMENT_EMBEDDINGS_FEATURE_STORE_NAME)"
   ],
   "metadata": {
    "collapsed": false,
    "pycharm": {
     "name": "#%%\n"
    }
   }
  },
  {
   "cell_type": "code",
   "execution_count": 49,
   "outputs": [
    {
     "data": {
      "text/plain": "['ds_eu_timeline', 'ds_ireland_timeline', 'ds_pwdb', 'ds_eu_cellar']"
     },
     "execution_count": 49,
     "metadata": {},
     "output_type": "execute_result"
    }
   ],
   "source": [
    "list(set(df.source.values))"
   ],
   "metadata": {
    "collapsed": false,
    "pycharm": {
     "name": "#%%\n"
    }
   }
  },
  {
   "cell_type": "code",
   "execution_count": 13,
   "outputs": [],
   "source": [
    "DATASET_NAMES = ['ds_pwdb', 'ds_eu_cellar', 'ds_eu_timeline', 'ds_ireland_timeline']\n",
    "document_embeddings = {dataset_name: df[df.source == dataset_name] for dataset_name in DATASET_NAMES}"
   ],
   "metadata": {
    "collapsed": false,
    "pycharm": {
     "name": "#%%\n"
    }
   }
  },
  {
   "cell_type": "code",
   "execution_count": 14,
   "outputs": [],
   "source": [
    "def generate_similarity_matrix(df_x: pd.DataFrame, df_y: pd.DataFrame, metric):\n",
    "    return pd.DataFrame(pairwise_distances(X=df_x[DOCUMENT_EMBEDDING].to_list(),\n",
    "                                           Y=df_y[DOCUMENT_EMBEDDING].to_list(), metric=metric),\n",
    "                        columns=df_y.index.to_list(),\n",
    "                        index=df_x.index.to_list()\n",
    "                        )"
   ],
   "metadata": {
    "collapsed": false,
    "pycharm": {
     "name": "#%%\n"
    }
   }
  },
  {
   "cell_type": "code",
   "execution_count": 15,
   "outputs": [],
   "source": [
    "def similarity_matrix_to_array(similarity_matrix: np.array):\n",
    "    return [similarity_matrix[i][j] for i in range(0, similarity_matrix.shape[0])\n",
    "            for j in range(i + 1, similarity_matrix.shape[1])]"
   ],
   "metadata": {
    "collapsed": false,
    "pycharm": {
     "name": "#%%\n"
    }
   }
  },
  {
   "cell_type": "code",
   "execution_count": 16,
   "outputs": [],
   "source": [
    "def prepare_eda_data():\n",
    "    def prepare_worker(name_x: str, name_y: str):\n",
    "        print(f\"start : [{name_x}]x[{name_y}]\")\n",
    "        similarity_matrix = generate_similarity_matrix(document_embeddings[name_x],\n",
    "                                                       document_embeddings[name_y],\n",
    "                                                       cosine)\n",
    "        similarity_list = similarity_matrix_to_array(similarity_matrix.values)\n",
    "        print(f\"finish : [{name_x}]x[{name_y}]\")\n",
    "        return f'[{name_x}]x[{name_y}]', similarity_matrix, similarity_list\n",
    "\n",
    "    eda_data = []\n",
    "    with concurrent.futures.ThreadPoolExecutor() as executor:\n",
    "        futures = [executor.submit(prepare_worker, name_x, name_y)\n",
    "                   for name_x in DATASET_NAMES\n",
    "                   for name_y in DATASET_NAMES[DATASET_NAMES.index(name_x):]]\n",
    "        eda_data = [future.result() for future in futures]\n",
    "    return eda_data"
   ],
   "metadata": {
    "collapsed": false,
    "pycharm": {
     "name": "#%%\n"
    }
   }
  },
  {
   "cell_type": "code",
   "execution_count": null,
   "outputs": [],
   "source": [
    "class DocumentsSimilarityPipeline:\n",
    "\n",
    "    def __init__(self, document_embeddings_index: str, similarity_metric,\n",
    "                 save_figures_path: str\n",
    "                 ):\n",
    "        self.document_embeddings_index = document_embeddings_index\n",
    "        self.similarity_metric = similarity_metric\n",
    "        self.prepared_data = None\n",
    "        self.document_embeddings = {}\n",
    "        self.dataset_names = []\n",
    "        self.save_figures_path = save_figures_path\n",
    "\n",
    "    def load_document_embeddings(self):\n",
    "        es_store = StoreRegistry.es_index_store()\n",
    "        tmp_df = es_store.get_dataframe(index_name=self.document_embeddings_index)\n",
    "        self.dataset_names = list(set(tmp_df.source.values))\n",
    "        self.document_embeddings = {dataset_name: tmp_df[tmp_df.source == dataset_name]\n",
    "                                    for dataset_name in self.dataset_names}\n",
    "\n",
    "    def prepare_similarity_data(self):\n",
    "        def prepare_worker(name_x: str, name_y: str):\n",
    "            similarity_matrix = pd.DataFrame(\n",
    "                pairwise_distances(X=self.document_embeddings[name_x][DOCUMENT_EMBEDDING].to_list(),\n",
    "                                   Y=self.document_embeddings[name_y][DOCUMENT_EMBEDDING].to_list(),\n",
    "                                   metric=self.similarity_metric),\n",
    "                columns=self.document_embeddings[name_y].index.to_list(),\n",
    "                index=self.document_embeddings[name_x].index.to_list()\n",
    "            )\n",
    "            similarity_list = [similarity_matrix[row][col]\n",
    "                               for row in range(0, similarity_matrix.shape[0])\n",
    "                               for col in range(row + 1, similarity_matrix.shape[1])]\n",
    "\n",
    "            return f'[{name_x}]x[{name_y}]', similarity_matrix, similarity_list\n",
    "\n",
    "        with concurrent.futures.ThreadPoolExecutor() as executor:\n",
    "            futures = [executor.submit(prepare_worker, name_x, name_y)\n",
    "                       for name_x in self.dataset_names\n",
    "                       for name_y in self.dataset_names[self.dataset_names.index(name_x):]]\n",
    "            self.prepared_data = [future.result() for future in futures]\n",
    "\n",
    "    def plot_histograms(self):\n",
    "        plt.subplots(figsize=(10, 5))\n",
    "        for data in self.prepared_data:\n",
    "            plot_title = f\"{data[0]} similarity distribution[TfIdfEmbeddingModel]\"\n",
    "            plot = sns.histplot(data=data[2]).set_title(plot_title)\n",
    "            plot.figure.savefig(self.save_figures_path + plot_title + '.png')\n",
    "            plot.figure.clf()"
   ],
   "metadata": {
    "collapsed": false,
    "pycharm": {
     "name": "#%%\n"
    }
   }
  },
  {
   "cell_type": "code",
   "execution_count": 17,
   "outputs": [
    {
     "name": "stdout",
     "output_type": "stream",
     "text": [
      "start : [ds_pwdb]x[ds_pwdb]start : [ds_pwdb]x[ds_eu_cellar]\n",
      "\n",
      "start : [ds_pwdb]x[ds_eu_timeline]\n",
      "start : [ds_pwdb]x[ds_ireland_timeline]\n",
      "start : [ds_eu_cellar]x[ds_eu_cellar]\n",
      "start : [ds_eu_cellar]x[ds_eu_timeline]\n",
      "start : [ds_eu_cellar]x[ds_ireland_timeline]\n",
      "start : [ds_eu_timeline]x[ds_eu_timeline]\n"
     ]
    },
    {
     "name": "stderr",
     "output_type": "stream",
     "text": [
      "<ipython-input-2-830c9f64081d>:2: RuntimeWarning: invalid value encountered in double_scalars\n",
      "  return np.dot(u, v) / (np.linalg.norm(u) * np.linalg.norm(v))\n",
      "<ipython-input-2-830c9f64081d>:2: RuntimeWarning: invalid value encountered in double_scalars\n",
      "  return np.dot(u, v) / (np.linalg.norm(u) * np.linalg.norm(v))\n",
      "<ipython-input-2-830c9f64081d>:2: RuntimeWarning: invalid value encountered in double_scalars\n",
      "  return np.dot(u, v) / (np.linalg.norm(u) * np.linalg.norm(v))\n",
      "<ipython-input-2-830c9f64081d>:2: RuntimeWarning: invalid value encountered in double_scalars\n",
      "  return np.dot(u, v) / (np.linalg.norm(u) * np.linalg.norm(v))\n",
      "<ipython-input-2-830c9f64081d>:2: RuntimeWarning: invalid value encountered in double_scalars\n",
      "  return np.dot(u, v) / (np.linalg.norm(u) * np.linalg.norm(v))\n",
      "<ipython-input-2-830c9f64081d>:2: RuntimeWarning: invalid value encountered in double_scalars\n",
      "  return np.dot(u, v) / (np.linalg.norm(u) * np.linalg.norm(v))\n",
      "<ipython-input-2-830c9f64081d>:2: RuntimeWarning: invalid value encountered in double_scalars\n",
      "  return np.dot(u, v) / (np.linalg.norm(u) * np.linalg.norm(v))\n",
      "<ipython-input-2-830c9f64081d>:2: RuntimeWarning: invalid value encountered in double_scalars\n",
      "  return np.dot(u, v) / (np.linalg.norm(u) * np.linalg.norm(v))\n",
      "<ipython-input-2-830c9f64081d>:2: RuntimeWarning: invalid value encountered in double_scalars\n",
      "  return np.dot(u, v) / (np.linalg.norm(u) * np.linalg.norm(v))\n"
     ]
    },
    {
     "name": "stdout",
     "output_type": "stream",
     "text": [
      "start : [ds_eu_timeline]x[ds_ireland_timeline]\n",
      "start : [ds_ireland_timeline]x[ds_ireland_timeline]\n",
      "finish : [ds_eu_timeline]x[ds_eu_timeline]\n",
      "finish : [ds_eu_timeline]x[ds_ireland_timeline]\n",
      "finish : [ds_eu_cellar]x[ds_eu_timeline]\n",
      "finish : [ds_ireland_timeline]x[ds_ireland_timeline]\n",
      "finish : [ds_pwdb]x[ds_eu_timeline]\n",
      "finish : [ds_eu_cellar]x[ds_ireland_timeline]\n",
      "finish : [ds_eu_cellar]x[ds_eu_cellar]\n",
      "finish : [ds_pwdb]x[ds_ireland_timeline]\n",
      "finish : [ds_pwdb]x[ds_eu_cellar]\n",
      "finish : [ds_pwdb]x[ds_pwdb]\n"
     ]
    }
   ],
   "source": [
    "prepared_data = prepare_eda_data()"
   ],
   "metadata": {
    "collapsed": false,
    "pycharm": {
     "name": "#%%\n"
    }
   }
  },
  {
   "cell_type": "code",
   "execution_count": 21,
   "outputs": [],
   "source": [
    "figures = [\n",
    "    px.histogram(list(map(lambda x: round(x, 2), data[2])),\n",
    "                 title=f\"{data[0]} similarity distribution.[TfIdfEmbeddingModel]\")\n",
    "    for data in prepared_data\n",
    "]"
   ],
   "metadata": {
    "collapsed": false,
    "pycharm": {
     "name": "#%%\n"
    }
   }
  },
  {
   "cell_type": "code",
   "execution_count": 41,
   "outputs": [],
   "source": [
    "import seaborn as sns\n",
    "import matplotlib.pyplot as plt"
   ],
   "metadata": {
    "collapsed": false,
    "pycharm": {
     "name": "#%%\n"
    }
   }
  },
  {
   "cell_type": "code",
   "execution_count": 45,
   "outputs": [
    {
     "data": {
      "text/plain": "<Figure size 720x360 with 0 Axes>"
     },
     "metadata": {},
     "output_type": "display_data"
    }
   ],
   "source": [
    "plt.subplots(figsize=(10, 5))\n",
    "for data in prepared_data:\n",
    "    figure_title = f\"{data[0]} similarity distribution[TfIdfEmbeddingModel]\"\n",
    "    figure = sns.histplot(data=data[2]).set_title(figure_title)\n",
    "    figure.figure.savefig('docs/document-similarity/' + figure_title + '.png')\n",
    "    figure.figure.clf()\n"
   ],
   "metadata": {
    "collapsed": false,
    "pycharm": {
     "name": "#%%\n"
    }
   }
  },
  {
   "cell_type": "code",
   "execution_count": 33,
   "outputs": [
    {
     "data": {
      "text/plain": "<Figure size 432x288 with 1 Axes>",
      "image/png": "[encoded data removed]"
     },
     "metadata": {
      "needs_background": "light"
     },
     "output_type": "display_data"
    }
   ],
   "source": [],
   "metadata": {
    "collapsed": false,
    "pycharm": {
     "name": "#%%\n"
    }
   }
  },
  {
   "cell_type": "code",
   "execution_count": 20,
   "outputs": [
    {
     "name": "stdout",
     "output_type": "stream",
     "text": [
      "g\n"
     ]
    }
   ],
   "source": [
    "figures[0].write_image()"
   ],
   "metadata": {
    "collapsed": false,
    "pycharm": {
     "name": "#%%\n"
    }
   }
  },
  {
   "cell_type": "code",
   "execution_count": 80,
   "outputs": [
    {
     "name": "stdout",
     "output_type": "stream",
     "text": [
      "0 [ds_pwdb]x[ds_pwdb]\n",
      "1 [ds_pwdb]x[ds_eu_cellar]\n",
      "2 [ds_pwdb]x[ds_eu_timeline]\n",
      "3 [ds_pwdb]x[ds_ireland_timeline]\n",
      "4 [ds_eu_cellar]x[ds_eu_cellar]\n",
      "5 [ds_eu_cellar]x[ds_eu_timeline]\n",
      "6 [ds_eu_cellar]x[ds_ireland_timeline]\n",
      "7 [ds_eu_timeline]x[ds_eu_timeline]\n",
      "8 [ds_eu_timeline]x[ds_ireland_timeline]\n",
      "9 [ds_ireland_timeline]x[ds_ireland_timeline]\n"
     ]
    }
   ],
   "source": [
    "for i in range(0, len(prepared_data)):\n",
    "    print(i, prepared_data[i][0])"
   ],
   "metadata": {
    "collapsed": false,
    "pycharm": {
     "name": "#%%\n"
    }
   }
  },
  {
   "cell_type": "code",
   "execution_count": 83,
   "outputs": [],
   "source": [
    "eu_cellar_matrix = prepared_data[4][1]\n"
   ],
   "metadata": {
    "collapsed": false,
    "pycharm": {
     "name": "#%%\n"
    }
   }
  },
  {
   "cell_type": "code",
   "execution_count": 94,
   "outputs": [],
   "source": [
    "columns = eu_cellar_matrix.columns.to_list()\n",
    "\n",
    "eu_cellar_values = eu_cellar_matrix.values"
   ],
   "metadata": {
    "collapsed": false,
    "pycharm": {
     "name": "#%%\n"
    }
   }
  },
  {
   "cell_type": "code",
   "execution_count": 99,
   "outputs": [],
   "source": [
    "similarity_dub = [(i, j)\n",
    "                  for i in range(0, eu_cellar_values.shape[0])\n",
    "                  for j in range(i + 1, eu_cellar_values.shape[1])\n",
    "                  if eu_cellar_values[i][j] > 0.95]"
   ],
   "metadata": {
    "collapsed": false,
    "pycharm": {
     "name": "#%%\n"
    }
   }
  },
  {
   "cell_type": "code",
   "execution_count": 109,
   "outputs": [
    {
     "name": "stdout",
     "output_type": "stream",
     "text": [
      "Authorisation for State aid pursuant to Articles 107 and 108 of the Treaty on the Functioning of the European Union — Cases where the Commission raises no objectionsText with EEA relevance.\n",
      "Authorisation for State aid pursuant to Articles 107 and 108 of the Treaty on the Functioning of the European Union — Cases where the Commission raises no objectionsText with EEA relevance.\n",
      "Authorisation for State aid pursuant to Articles 107 and 108 of the Treaty on the Functioning of the European Union — Cases where the Commission raises no objectionsText with EEA relevance.\n",
      "Authorisation for State aid pursuant to Articles 107 and 108 of the Treaty on the Functioning of the European Union — Cases where the Commission raises no objectionsText with EEA relevance.\n",
      "Authorisation for State aid pursuant to Articles 107 and 108 of the Treaty on the Functioning of the European Union — Cases where the Commission raises no objectionsText with EEA relevance.\n",
      "Authorisation for State aid pursuant to Articles 107 and 108 of the Treaty on the Functioning of the European Union — Cases where the Commission raises no objectionsText with EEA relevance.\n",
      "Authorisation for State aid pursuant to Articles 107 and 108 of the Treaty on the Functioning of the European Union — Cases where the Commission raises no objectionsText with EEA relevance.\n",
      "Authorisation for State aid pursuant to Articles 107 and 108 of the Treaty on the Functioning of the European Union — Cases where the Commission raises no objectionsText with EEA relevance.\n",
      "Authorisation for State aid pursuant to Articles 107 and 108 of the Treaty on the Functioning of the European Union — Cases where the Commission raises no objectionsText with EEA relevance.\n",
      "Authorisation for State aid pursuant to Articles 107 and 108 of the Treaty on the Functioning of the European Union — Cases where the Commission raises no objectionsText with EEA relevance.\n",
      "Authorisation for State aid pursuant to Articles 107 and 108 of the Treaty on the Functioning of the European Union — Cases where the Commission raises no objectionsText with EEA relevance.\n",
      "Authorisation for State aid pursuant to Articles 107 and 108 of the Treaty on the Functioning of the European Union — Cases where the Commission raises no objectionsText with EEA relevance.\n",
      "Authorisation for State aid pursuant to Articles 107 and 108 of the Treaty on the Functioning of the European Union — Cases where the Commission raises no objectionsText with EEA relevance.\n",
      "Authorisation for State aid pursuant to Articles 107 and 108 of the Treaty on the Functioning of the European Union — Cases where the Commission raises no objectionsText with EEA relevance.\n",
      "Authorisation for State aid pursuant to Articles 107 and 108 of the Treaty on the Functioning of the European Union — Cases where the Commission raises no objectionsText with EEA relevance.\n",
      "Authorisation for State aid pursuant to Articles 107 and 108 of the Treaty on the Functioning of the European Union — Cases where the Commission raises no objectionsText with EEA relevance.\n",
      "Authorisation for State aid pursuant to Articles 107 and 108 of the Treaty on the Functioning of the European Union — Cases where the Commission raises no objectionsText with EEA relevance.\n",
      "Authorisation for State aid pursuant to Articles 107 and 108 of the Treaty on the Functioning of the European Union — Cases where the Commission raises no objectionsText with EEA relevance.\n",
      "Summary of European Commission Decisions on authorisations for the placing on the market for the use and/or for use of substances listed in Annex XIV to Regulation (EC) No 1907/2006 of the European Parliament and of the Council concerning the Registration, Evaluation, Authorisation and Restriction of Chemicals (REACH) (Published pursuant to Article 64(9) of Regulation (EC) No 1907/2006 (OJ L 396, 30.12.2006 , p. 1.)) (Text with EEA relevance) 2020/C 442/05\n",
      "Summary of European Commission Decisions on authorisations for the placing on the market for the use and/or for use of substances listed in Annex XIV to Regulation (EC) No 1907/2006 of the European Parliament and of the Council concerning the Registration, Evaluation, Authorisation and Restriction of Chemicals (REACH) (Published pursuant to Article 64(9) of Regulation (EC) No 1907/2006 (OJ L 396, 30.12.2006, p. 1.)) (Text with EEA relevance) 2020/C 131/05\n"
     ]
    }
   ],
   "source": [
    "for index1, index2 in similarity_dub[:10]:\n",
    "    doc1 = df.loc[eu_cellar_matrix.columns[index1]]['text']\n",
    "    doc2 = df.loc[eu_cellar_matrix.columns[index2]]['text']\n",
    "    print(doc1)\n",
    "    print(doc2)"
   ],
   "metadata": {
    "collapsed": false,
    "pycharm": {
     "name": "#%%\n"
    }
   }
  },
  {
   "cell_type": "code",
   "execution_count": 129,
   "outputs": [
    {
     "name": "stderr",
     "output_type": "stream",
     "text": [
      "100% (2653 of 2653) |####################| Elapsed Time: 0:00:01 Time:  0:00:01\n"
     ]
    }
   ],
   "source": [
    "es_store = StoreRegistry.es_index_store()\n",
    "ds_eu_cellar = es_store.get_dataframe(index_name='ds_eu_cellar')"
   ],
   "metadata": {
    "collapsed": false,
    "pycharm": {
     "name": "#%%\n"
    }
   }
  },
  {
   "cell_type": "code",
   "execution_count": 131,
   "outputs": [
    {
     "data": {
      "text/plain": "Index(['work', 'title', 'cdm_types', 'cdm_type_labels', 'resource_types',\n       'resource_type_labels', 'eurovoc_concepts', 'eurovoc_concept_labels',\n       'subject_matters', 'subject_matter_labels', 'directory_codes',\n       'directory_codes_labels', 'celex_numbers', 'legal_elis', 'id_documents',\n       'same_as_uris', 'authors', 'author_labels', 'full_ojs', 'oj_sectors',\n       'internal_comments', 'is_in_force', 'dates_document', 'dates_created',\n       'legal_dates_entry_into_force', 'legal_dates_signature', 'manifs_pdf',\n       'manifs_html', 'pdfs_to_download', 'htmls_to_download',\n       'eu_cellar_core', 'eu_cellar_extended', 'content_path', 'content',\n       'language', 'failure_reason'],\n      dtype='object')"
     },
     "execution_count": 131,
     "metadata": {},
     "output_type": "execute_result"
    }
   ],
   "source": [
    "ds_eu_cellar"
   ],
   "metadata": {
    "collapsed": false,
    "pycharm": {
     "name": "#%%\n"
    }
   }
  },
  {
   "cell_type": "code",
   "execution_count": 63,
   "outputs": [
    {
     "name": "stdout",
     "output_type": "stream",
     "text": [
      "hello\n"
     ]
    }
   ],
   "source": [
    "# for name_x in DATASET_NAMES:\n",
    "#     for name_y in DATASET_NAMES[DATASET_NAMES.index(name_x):]:\n",
    "#         similarity_matrix = generate_similarity_matrix(document_embeddings[name_x],\n",
    "#                                                        document_embeddings[name_y],\n",
    "#                                                        cosine)\n",
    "#         similarity_list = similarity_matrix_to_array(similarity_matrix.values)\n",
    "#         fig = px.histogram(list(map(lambda x: round(x,4),similarity_list)),\n",
    "#                            title=f\"[{name_x}]X[{name_y}] similarity distribution.\")\n",
    "#         fig.show()"
   ],
   "metadata": {
    "collapsed": false,
    "pycharm": {
     "name": "#%%\n"
    }
   }
  },
  {
   "cell_type": "code",
   "execution_count": 144,
   "outputs": [],
   "source": [
    "import faiss"
   ],
   "metadata": {
    "collapsed": false,
    "pycharm": {
     "name": "#%%\n"
    }
   }
  },
  {
   "cell_type": "code",
   "execution_count": 204,
   "outputs": [],
   "source": [
    "index = faiss.IndexIDMap(faiss.IndexFlatIP(len(df[DOCUMENT_EMBEDDING][0])))"
   ],
   "metadata": {
    "collapsed": false,
    "pycharm": {
     "name": "#%%\n"
    }
   }
  },
  {
   "cell_type": "code",
   "execution_count": 205,
   "outputs": [],
   "source": [
    "index.add_with_ids(np.array(df[DOCUMENT_EMBEDDING].to_list()).astype('float32'),\n",
    "                   np.array(range(0, len(df))))\n"
   ],
   "metadata": {
    "collapsed": false,
    "pycharm": {
     "name": "#%%\n"
    }
   }
  },
  {
   "cell_type": "code",
   "execution_count": 238,
   "outputs": [],
   "source": [
    "query = df[DOCUMENT_EMBEDDING].to_list()[2]"
   ],
   "metadata": {
    "collapsed": false,
    "pycharm": {
     "name": "#%%\n"
    }
   }
  },
  {
   "cell_type": "code",
   "execution_count": 200,
   "outputs": [
    {
     "data": {
      "text/plain": "text      Waiver of advance payments for social and heal...\nsource                                              ds_pwdb\nName: 18bcd22116c46919e03a3345f793c3859855227ac942e69dd13cbfcd588e1044, dtype: object"
     },
     "execution_count": 200,
     "metadata": {},
     "output_type": "execute_result"
    }
   ],
   "source": [
    "df.iloc[3][['text', 'source']]"
   ],
   "metadata": {
    "collapsed": false,
    "pycharm": {
     "name": "#%%\n"
    }
   }
  },
  {
   "cell_type": "code",
   "execution_count": 199,
   "outputs": [
    {
     "data": {
      "text/plain": "text      Postponement of the employers' deadline for pa...\nsource                                              ds_pwdb\nName: 01a95e4b5c3c887bfd01a05c21b914df2248bd0b68da4785e7dec062bbedfa9e, dtype: object"
     },
     "execution_count": 199,
     "metadata": {},
     "output_type": "execute_result"
    }
   ],
   "source": [
    "df.iloc[756][['text', 'source']]"
   ],
   "metadata": {
    "collapsed": false,
    "pycharm": {
     "name": "#%%\n"
    }
   }
  },
  {
   "cell_type": "code",
   "execution_count": 239,
   "outputs": [
    {
     "data": {
      "text/plain": "[0.0378753208,\n -0.038546972,\n -0.0331166461,\n -0.0483590327,\n 0.022393113,\n 0.003940654,\n 0.0649666637,\n -0.0591262542,\n -0.0589584373,\n -0.0070893406,\n -0.0574852228,\n 0.0394048467,\n 0.0607795827,\n -0.0592336655,\n 0.0646905378,\n -0.0220377017,\n 0.0651763603,\n -0.0132389721,\n -0.059833575,\n -0.0399091952,\n -0.0023563665,\n 0.0053202608,\n -0.0181395654,\n 0.025766328,\n 0.0418812744,\n 0.0128296586,\n -0.0468763933,\n -0.0241368003,\n -0.0205882024,\n 0.0376288332,\n 0.0014298491,\n -0.0611683503,\n 0.0250321552,\n -0.0488700345,\n 0.0214957725,\n -0.0655383617,\n 0.0497455373,\n 0.0483916327,\n 0.037381243,\n -0.0233520921,\n -0.0035018283,\n 0.0493327603,\n 0.0558017455,\n -0.0009784676,\n -0.0661733449,\n -0.0507086441,\n -0.0364560001,\n 0.005344708,\n -0.0191676207,\n -0.0563165955,\n -0.0657291189,\n -0.021348238,\n -0.0637413561,\n -0.0488439612,\n -0.058114104,\n 0.0411729366,\n -0.0649475753,\n -0.0107492562,\n 0.0327971205,\n -0.057550054,\n 0.0117146475,\n -0.0474368595,\n 0.0086091822,\n -0.0650470257,\n -0.0108300587,\n 0.0006430614,\n 0.0625345483,\n 0.0652869642,\n -0.0105928108,\n 0.0164440461,\n -0.0385437608,\n 0.0440943725,\n -0.0616452396,\n 0.0279526245,\n -0.0015856108,\n 0.0189522356,\n -0.0277802814,\n -0.0566920638,\n -0.0191379897,\n 0.0041999593,\n 0.056711562,\n -0.0279182214,\n 0.0596596338,\n 0.0040404163,\n -0.0582789034,\n -0.0281406175,\n -0.0562269725,\n 0.0622885115,\n 0.0302119292,\n 0.0296533145,\n -0.03341344,\n -0.0015338263,\n 0.0339097343,\n -0.0014446063,\n -0.0276899487,\n 0.0516623966,\n 0.0622504354,\n 0.049429372,\n 0.0477720797,\n -0.0507908873,\n 0.0428656675,\n 0.0020321743,\n 0.0380979218,\n 0.0086714849,\n 0.0172462836,\n 0.0193868075,\n 0.0227390137,\n 0.0310699157,\n -0.0574495122,\n 0.0032240269,\n -0.0436433889,\n 0.0583146289,\n -9.95478e-05,\n -0.0380100906,\n -0.0644386113,\n 0.0298332032,\n -0.002150848,\n 0.051407557,\n 0.0436151959,\n 0.012486509,\n -0.0149161676,\n 0.0644856095,\n -0.0536245555,\n -0.0024312106,\n 0.0405735001,\n -0.0467697196,\n 0.053766463,\n 0.0217503291,\n 0.0551593304,\n -0.0017175056,\n -0.0327236205,\n -0.0630491748,\n 0.0221398845,\n -0.0532723889,\n -0.025781244,\n 0.0265911855,\n 0.0578623824,\n -0.0009174276,\n 0.0509396084,\n 0.0256558042,\n -0.0045107631,\n 0.0662513301,\n 0.0277428888,\n 0.0097236251,\n 0.0559501983,\n 0.0350289047,\n 0.0106543517,\n -0.0597543195,\n -0.0644938275,\n 0.046909485,\n -0.0644710883,\n -0.056695994,\n -0.0638446286,\n -0.0613293462,\n 0.0183832999,\n 0.0151818059,\n 0.063562572,\n 0.0274423063,\n -0.015428422,\n -0.0509462133,\n 0.0278791003,\n 0.0550459065,\n -0.0079545034,\n 0.0606151,\n 0.0584979244,\n -0.0426439084,\n 0.001752772,\n -0.0347871855,\n -0.0588553138,\n 0.0059923474,\n 0.0312608257,\n 0.038779784,\n -0.0229923222,\n -0.0648981482,\n 0.0629637986,\n -0.0475607775,\n 0.0150731513,\n -0.0511039384,\n -0.0565428697,\n 0.0397847667,\n -0.0374769978,\n 0.0509569347,\n 0.0140603697,\n 0.0612791926,\n 0.0464603454,\n -0.0057365815,\n -0.0588638447,\n -0.056846153,\n 0.0519156493,\n -0.023239471,\n 0.0191680063,\n -0.0653928295,\n -0.0358863175,\n -0.0193641726,\n -0.0329417884,\n -0.065064989,\n 0.0326047279,\n -0.0044863778,\n 0.0649559423,\n 0.0306049902,\n -0.0616625026,\n 0.0487679504,\n 0.0545868389,\n 0.0611418337,\n 0.0573911667,\n -0.0525170006,\n 0.0566873141,\n -0.0573626347,\n 0.0590550415,\n 0.0215096399,\n -0.0371987782,\n 0.0468089469,\n -0.0039738338,\n 0.0648205951,\n -0.0630634651,\n -0.0352089033,\n -0.046372585,\n 0.0329497121,\n -0.0579228699,\n -0.0173824877,\n 0.0411154963,\n -0.0270057339,\n -0.0517070517,\n 0.0067093819,\n 0.0416317284,\n 0.0183124021,\n -0.0603584759,\n -0.0621060021,\n -0.0560071245,\n 0.0633032173,\n -0.0252972394,\n 0.0577305518,\n 0.0326112434,\n -0.0661845282,\n 0.0244357549,\n 0.0148693239,\n 0.0051449193,\n -0.0628611147,\n -0.0309688449,\n -0.0312851705,\n 0.0239932481,\n -0.0097408388,\n -0.0169948954,\n -0.0100544272,\n -0.0346163772,\n 0.0479747429,\n -0.0093794903,\n -0.0047739334,\n 0.0552515723,\n -0.0641267374,\n 0.0471181571,\n 0.0019295845,\n -0.023293864,\n -0.0469722636,\n 0.0190572795,\n -0.0340385549,\n 0.0413315333,\n 0.0662405118,\n -0.0573410429,\n -0.0227260012,\n 0.0412093438,\n 0.040428821,\n -0.0572876669,\n -0.0517404005,\n 0.039104633,\n 0.0053498433,\n 0.0513331071,\n 0.0515622161,\n 0.0562355109,\n 0.0221657921,\n 0.0517046712,\n 0.0583023317,\n 0.0499085113,\n 0.060397435,\n -0.0403489769,\n 0.029502634,\n 0.0614121258,\n -0.0263684317,\n 0.0574633032,\n -0.0039131115,\n 0.0145721501,\n -0.0092256116,\n -0.0637126118,\n -0.0281964932,\n -0.0475191772,\n 0.0562117659,\n -0.0550009795,\n 0.058442004,\n -0.0583008379,\n -0.0312653072,\n 0.0611011758,\n 0.0479436554,\n -0.0381310992,\n 0.0126773966,\n 0.0649098381,\n -0.0613739081,\n 0.0183097105,\n -0.0142912418,\n -0.0371228904,\n -0.0057627899,\n -0.0403557979,\n 0.0049632024,\n 0.059904255,\n 0.0588708594,\n -0.0135313133,\n -0.0661420226,\n -0.0647819117,\n -0.0618364699,\n 0.0118807862,\n 0.0230585691,\n -0.0431025252,\n -0.0552094206,\n -0.0093861502,\n 0.0064822384,\n 0.0656929389,\n -0.0297641214,\n 0.0490435325,\n 0.0551941916,\n 0.0659678057,\n -0.0654848814,\n -0.0636259988,\n 0.0338428207,\n 0.0218188874,\n -0.0476490781,\n 0.0236903131,\n 0.0101696504,\n 0.0306704417,\n 0.0403092019,\n -0.0623902753,\n -0.0096865222,\n 0.0010138508,\n -0.0625720546,\n -0.0584457666,\n 0.0649437457,\n 0.0599092953,\n -0.0392637812,\n 0.0258444045,\n -0.0448435135,\n 0.0201508608,\n -0.0447409898,\n 0.0643517822,\n -0.0234663896,\n 0.0479866341,\n 0.0179213006,\n -0.0554148369,\n -0.0656992421,\n -0.0545354448,\n 0.0650454089,\n -0.0283763409,\n -0.0642431006,\n 0.0359394252,\n -0.0551040657,\n 0.0540017225,\n 0.0554516166,\n -0.0663010851,\n 0.0589924604,\n -0.0661715418,\n 0.0046209493,\n -0.0647947267,\n -0.0164297353,\n 0.0295932945,\n 0.0585767701,\n -0.0131922951,\n 0.0205313545,\n -0.047306668,\n 0.0072663091,\n 0.064961113,\n -0.0098399445,\n 0.0323007926,\n 0.065437682,\n -0.0204881411,\n 0.0238591731,\n 0.0372995846,\n -0.0662212595,\n 0.0600397214,\n -0.033934433,\n 0.0645106435,\n -0.0458169468,\n 0.0624555349,\n 0.0605531819,\n -0.0183546189,\n -0.0367106013,\n 0.058761891,\n -0.0259259716,\n 0.0183548294,\n -0.0200472996,\n -0.0579242855,\n 0.0161981415,\n 0.0190474056,\n -0.0595919266,\n -0.0623493232,\n -0.0437430106,\n 0.0316828601,\n 0.0477387644,\n 0.047638353,\n 0.0606029518,\n 0.0631604269,\n -0.0266766418,\n 0.0258100796,\n 0.0649536327,\n -0.0416182689,\n -0.0202043075,\n 0.0477248989,\n 0.0270023737,\n -0.046751041,\n -0.0652042106,\n -0.0443695635,\n 0.0257916953,\n 0.0195459574,\n -0.063784413,\n -0.0452149995,\n -0.0654160306,\n 0.0327871181,\n -0.0191455241,\n 0.0509017073,\n -0.0592311658,\n 0.0475559756,\n 0.0342622288,\n 0.0446073413,\n 0.0594846047,\n -0.0054613031,\n -0.0543714911,\n 0.042150028,\n -0.0485747606,\n -0.0430876948,\n -0.0643826351,\n 0.0501019992,\n 0.0648999587,\n -0.0292839631,\n 0.037574511,\n -0.0322112404,\n -0.038297981,\n -0.0386120491,\n 0.0275572371,\n -0.0328494534,\n 0.011719591,\n 0.0452782288,\n 0.0483578295,\n -0.0536543839,\n 0.0639579371,\n -0.0325384252,\n -0.0089488933,\n -0.0650648847,\n 0.0533552691,\n -0.0240876339,\n -0.0348034166,\n -0.0320283771,\n -0.0040692356,\n -0.0639392659,\n -0.0398392379,\n -0.0660387427,\n 0.0659668818,\n -0.0627596751,\n 0.0210751239,\n -0.05639695,\n -0.0662418082,\n -0.0071964082,\n 0.063872613,\n 0.0525482371,\n 0.0387055688,\n -0.0025565187,\n -0.0216700267,\n 0.0523333885,\n 0.0637138635,\n -0.0605732501,\n -0.0356949605,\n -0.0527308583,\n 0.0093766889,\n -0.0554750562,\n -0.0399430394,\n -0.0011211205,\n -0.0359186046,\n -0.0556660816,\n -0.0580798686,\n 0.0628227368,\n 0.0619039685,\n -0.0520393737,\n 0.0212470461,\n -0.0541081168,\n -0.0176063944,\n -0.0082754921,\n 0.049985297,\n 0.0548750386,\n -0.0659189373,\n 0.0212253761,\n 0.061784029,\n 0.0410426594,\n -0.005111434,\n -0.0625500232,\n -0.0570790544,\n 0.0402803607,\n 0.063766852,\n -0.0365565382,\n 0.0326145515,\n 0.0214843191,\n -0.0450091809,\n 0.043183852,\n 0.000700579,\n 0.0005041079,\n 0.0089565115,\n -0.0246565547,\n -0.0640697852,\n 0.0470147841,\n -0.0663012415,\n -0.0048643835,\n 0.0503725335,\n -0.0660492256,\n -0.0067779683,\n 0.0271766912,\n 0.0547438264,\n -0.0347698294,\n -0.0298709068]"
     },
     "execution_count": 239,
     "metadata": {},
     "output_type": "execute_result"
    }
   ],
   "source": [
    "query"
   ],
   "metadata": {
    "collapsed": false,
    "pycharm": {
     "name": "#%%\n"
    }
   }
  },
  {
   "cell_type": "code",
   "execution_count": 240,
   "outputs": [
    {
     "name": "stdout",
     "output_type": "stream",
     "text": [
      "[[   2 1248  283   79]]\n",
      "[[0.9999997  0.66516745 0.64820206 0.59296393]]\n"
     ]
    }
   ],
   "source": [
    "k = 4\n",
    "D, I = index.search(np.array([query]).astype('float32'), k)\n",
    "print(I)\n",
    "print(D)"
   ],
   "metadata": {
    "collapsed": false,
    "pycharm": {
     "name": "#%%\n"
    }
   }
  },
  {
   "cell_type": "code",
   "execution_count": 241,
   "outputs": [
    {
     "data": {
      "text/plain": "text      Funds for innovative renewable projects in And...\nsource                                              ds_pwdb\nName: 8735e268191e9e5cbd3d2a44ca53d297e31746b5f1e24b941db6225a25848353, dtype: object"
     },
     "execution_count": 241,
     "metadata": {},
     "output_type": "execute_result"
    }
   ],
   "source": [
    "df.iloc[2][['text', 'source']]\n"
   ],
   "metadata": {
    "collapsed": false,
    "pycharm": {
     "name": "#%%\n"
    }
   }
  },
  {
   "cell_type": "code",
   "execution_count": 242,
   "outputs": [
    {
     "data": {
      "text/plain": "text      Green energy for accommodation & food business...\nsource                                              ds_pwdb\nName: c6da8d58564a47f2dc3062a3c480b10a0cb562c803d2c603dd24cefab0adc7c5, dtype: object"
     },
     "execution_count": 242,
     "metadata": {},
     "output_type": "execute_result"
    }
   ],
   "source": [
    "df.iloc[1248][['text', 'source']]"
   ],
   "metadata": {
    "collapsed": false,
    "pycharm": {
     "name": "#%%\n"
    }
   }
  },
  {
   "cell_type": "code",
   "execution_count": 214,
   "outputs": [],
   "source": [
    "emb_list = df[DOCUMENT_EMBEDDING].tolist()\n",
    "name_list = df.index.to_list()"
   ],
   "metadata": {
    "collapsed": false,
    "pycharm": {
     "name": "#%%\n"
    }
   }
  },
  {
   "cell_type": "code",
   "execution_count": 215,
   "outputs": [
    {
     "data": {
      "text/plain": "                                                    adc5c75937bc7f7198f534d08b85bd50c9521bfd3f319a090932b5d0bae54de0  \\\nadc5c75937bc7f7198f534d08b85bd50c9521bfd3f319a0...                                           1.000000                  \n2372d71eb9ad6e6a70982e02bbe802db004ed49d91b2264...                                           0.496512                  \n8735e268191e9e5cbd3d2a44ca53d297e31746b5f1e24b9...                                           0.453722                  \n18bcd22116c46919e03a3345f793c3859855227ac942e69...                                           0.497151                  \nb94d8aa95fbdeb1bb832b01fbe5d6e9bf9fc36fceb14f7b...                                           0.470805                  \n...                                                                                               ...                  \nfb64282022bd7a49e51b2548d2f325a8cbbea756702d619...                                           0.408253                  \nfc3912792c86de37ec7f6ffa7a0ce5d5d7b7c86f02ba890...                                           0.421007                  \nfc8805ee2fd5f28dee01b1172f4ee9d4b3937c8578a92fa...                                           0.418130                  \nfdd37416fae54311797c08c37956747d741ab86141a64da...                                           0.413371                  \nfefa88e8bcb8f19c1794526db7e241a1201a7aa6f05fedd...                                           0.415848                  \n\n                                                    2372d71eb9ad6e6a70982e02bbe802db004ed49d91b2264c0a2e8e41571002cc  \\\nadc5c75937bc7f7198f534d08b85bd50c9521bfd3f319a0...                                           0.496512                  \n2372d71eb9ad6e6a70982e02bbe802db004ed49d91b2264...                                           1.000000                  \n8735e268191e9e5cbd3d2a44ca53d297e31746b5f1e24b9...                                           0.454741                  \n18bcd22116c46919e03a3345f793c3859855227ac942e69...                                           0.496707                  \nb94d8aa95fbdeb1bb832b01fbe5d6e9bf9fc36fceb14f7b...                                           0.476957                  \n...                                                                                               ...                  \nfb64282022bd7a49e51b2548d2f325a8cbbea756702d619...                                           0.419538                  \nfc3912792c86de37ec7f6ffa7a0ce5d5d7b7c86f02ba890...                                           0.418824                  \nfc8805ee2fd5f28dee01b1172f4ee9d4b3937c8578a92fa...                                           0.417562                  \nfdd37416fae54311797c08c37956747d741ab86141a64da...                                           0.417337                  \nfefa88e8bcb8f19c1794526db7e241a1201a7aa6f05fedd...                                           0.442441                  \n\n                                                    8735e268191e9e5cbd3d2a44ca53d297e31746b5f1e24b941db6225a25848353  \\\nadc5c75937bc7f7198f534d08b85bd50c9521bfd3f319a0...                                           0.453722                  \n2372d71eb9ad6e6a70982e02bbe802db004ed49d91b2264...                                           0.454741                  \n8735e268191e9e5cbd3d2a44ca53d297e31746b5f1e24b9...                                           1.000000                  \n18bcd22116c46919e03a3345f793c3859855227ac942e69...                                           0.437009                  \nb94d8aa95fbdeb1bb832b01fbe5d6e9bf9fc36fceb14f7b...                                           0.469963                  \n...                                                                                               ...                  \nfb64282022bd7a49e51b2548d2f325a8cbbea756702d619...                                           0.407835                  \nfc3912792c86de37ec7f6ffa7a0ce5d5d7b7c86f02ba890...                                           0.410753                  \nfc8805ee2fd5f28dee01b1172f4ee9d4b3937c8578a92fa...                                           0.414804                  \nfdd37416fae54311797c08c37956747d741ab86141a64da...                                           0.457231                  \nfefa88e8bcb8f19c1794526db7e241a1201a7aa6f05fedd...                                           0.442620                  \n\n                                                    18bcd22116c46919e03a3345f793c3859855227ac942e69dd13cbfcd588e1044  \\\nadc5c75937bc7f7198f534d08b85bd50c9521bfd3f319a0...                                           0.497151                  \n2372d71eb9ad6e6a70982e02bbe802db004ed49d91b2264...                                           0.496707                  \n8735e268191e9e5cbd3d2a44ca53d297e31746b5f1e24b9...                                           0.437009                  \n18bcd22116c46919e03a3345f793c3859855227ac942e69...                                           1.000000                  \nb94d8aa95fbdeb1bb832b01fbe5d6e9bf9fc36fceb14f7b...                                           0.497571                  \n...                                                                                               ...                  \nfb64282022bd7a49e51b2548d2f325a8cbbea756702d619...                                           0.418540                  \nfc3912792c86de37ec7f6ffa7a0ce5d5d7b7c86f02ba890...                                           0.418645                  \nfc8805ee2fd5f28dee01b1172f4ee9d4b3937c8578a92fa...                                           0.419202                  \nfdd37416fae54311797c08c37956747d741ab86141a64da...                                           0.416171                  \nfefa88e8bcb8f19c1794526db7e241a1201a7aa6f05fedd...                                           0.435658                  \n\n                                                    b94d8aa95fbdeb1bb832b01fbe5d6e9bf9fc36fceb14f7ba370a963f472fe35b  \\\nadc5c75937bc7f7198f534d08b85bd50c9521bfd3f319a0...                                           0.470805                  \n2372d71eb9ad6e6a70982e02bbe802db004ed49d91b2264...                                           0.476957                  \n8735e268191e9e5cbd3d2a44ca53d297e31746b5f1e24b9...                                           0.469963                  \n18bcd22116c46919e03a3345f793c3859855227ac942e69...                                           0.497571                  \nb94d8aa95fbdeb1bb832b01fbe5d6e9bf9fc36fceb14f7b...                                           1.000000                  \n...                                                                                               ...                  \nfb64282022bd7a49e51b2548d2f325a8cbbea756702d619...                                           0.418367                  \nfc3912792c86de37ec7f6ffa7a0ce5d5d7b7c86f02ba890...                                           0.415904                  \nfc8805ee2fd5f28dee01b1172f4ee9d4b3937c8578a92fa...                                           0.400579                  \nfdd37416fae54311797c08c37956747d741ab86141a64da...                                           0.427719                  \nfefa88e8bcb8f19c1794526db7e241a1201a7aa6f05fedd...                                           0.421342                  \n\n                                                    d6897267c1316d4c6be9d6f64332f470e4118225476847bf448abce7ab934145  \\\nadc5c75937bc7f7198f534d08b85bd50c9521bfd3f319a0...                                           0.533803                  \n2372d71eb9ad6e6a70982e02bbe802db004ed49d91b2264...                                           0.494780                  \n8735e268191e9e5cbd3d2a44ca53d297e31746b5f1e24b9...                                           0.447736                  \n18bcd22116c46919e03a3345f793c3859855227ac942e69...                                           0.515404                  \nb94d8aa95fbdeb1bb832b01fbe5d6e9bf9fc36fceb14f7b...                                           0.502765                  \n...                                                                                               ...                  \nfb64282022bd7a49e51b2548d2f325a8cbbea756702d619...                                           0.434927                  \nfc3912792c86de37ec7f6ffa7a0ce5d5d7b7c86f02ba890...                                           0.421587                  \nfc8805ee2fd5f28dee01b1172f4ee9d4b3937c8578a92fa...                                           0.413174                  \nfdd37416fae54311797c08c37956747d741ab86141a64da...                                           0.417119                  \nfefa88e8bcb8f19c1794526db7e241a1201a7aa6f05fedd...                                           0.424240                  \n\n                                                    51fd686c7abd00e1e7b5b31a436a921582b3babe46d1941714b38495ad3fe8ed  \\\nadc5c75937bc7f7198f534d08b85bd50c9521bfd3f319a0...                                           0.448236                  \n2372d71eb9ad6e6a70982e02bbe802db004ed49d91b2264...                                           0.458312                  \n8735e268191e9e5cbd3d2a44ca53d297e31746b5f1e24b9...                                           0.458513                  \n18bcd22116c46919e03a3345f793c3859855227ac942e69...                                           0.481000                  \nb94d8aa95fbdeb1bb832b01fbe5d6e9bf9fc36fceb14f7b...                                           0.501329                  \n...                                                                                               ...                  \nfb64282022bd7a49e51b2548d2f325a8cbbea756702d619...                                           0.410787                  \nfc3912792c86de37ec7f6ffa7a0ce5d5d7b7c86f02ba890...                                           0.420348                  \nfc8805ee2fd5f28dee01b1172f4ee9d4b3937c8578a92fa...                                           0.420232                  \nfdd37416fae54311797c08c37956747d741ab86141a64da...                                           0.418934                  \nfefa88e8bcb8f19c1794526db7e241a1201a7aa6f05fedd...                                           0.430801                  \n\n                                                    c118f163e77cf2c95f981bb2528b821379b5c498eb04ee346babd91d673bf9ec  \\\nadc5c75937bc7f7198f534d08b85bd50c9521bfd3f319a0...                                           0.470663                  \n2372d71eb9ad6e6a70982e02bbe802db004ed49d91b2264...                                           0.466210                  \n8735e268191e9e5cbd3d2a44ca53d297e31746b5f1e24b9...                                           0.466450                  \n18bcd22116c46919e03a3345f793c3859855227ac942e69...                                           0.447983                  \nb94d8aa95fbdeb1bb832b01fbe5d6e9bf9fc36fceb14f7b...                                           0.457158                  \n...                                                                                               ...                  \nfb64282022bd7a49e51b2548d2f325a8cbbea756702d619...                                           0.425300                  \nfc3912792c86de37ec7f6ffa7a0ce5d5d7b7c86f02ba890...                                           0.412778                  \nfc8805ee2fd5f28dee01b1172f4ee9d4b3937c8578a92fa...                                           0.406998                  \nfdd37416fae54311797c08c37956747d741ab86141a64da...                                           0.418683                  \nfefa88e8bcb8f19c1794526db7e241a1201a7aa6f05fedd...                                           0.430554                  \n\n                                                    6e8160a1e50fd0536d4e770490fbcfc20d7e7dc3c65bac762063ac097866947f  \\\nadc5c75937bc7f7198f534d08b85bd50c9521bfd3f319a0...                                           0.454792                  \n2372d71eb9ad6e6a70982e02bbe802db004ed49d91b2264...                                           0.466761                  \n8735e268191e9e5cbd3d2a44ca53d297e31746b5f1e24b9...                                           0.449098                  \n18bcd22116c46919e03a3345f793c3859855227ac942e69...                                           0.456158                  \nb94d8aa95fbdeb1bb832b01fbe5d6e9bf9fc36fceb14f7b...                                           0.468089                  \n...                                                                                               ...                  \nfb64282022bd7a49e51b2548d2f325a8cbbea756702d619...                                           0.436270                  \nfc3912792c86de37ec7f6ffa7a0ce5d5d7b7c86f02ba890...                                           0.412828                  \nfc8805ee2fd5f28dee01b1172f4ee9d4b3937c8578a92fa...                                           0.402162                  \nfdd37416fae54311797c08c37956747d741ab86141a64da...                                           0.420986                  \nfefa88e8bcb8f19c1794526db7e241a1201a7aa6f05fedd...                                           0.428635                  \n\n                                                    6f70ff714553a60e3404d55a941ff47a3e0dd4a9ba5cb9135f3e54f418b3a97f  \\\nadc5c75937bc7f7198f534d08b85bd50c9521bfd3f319a0...                                           0.516943                  \n2372d71eb9ad6e6a70982e02bbe802db004ed49d91b2264...                                           0.488558                  \n8735e268191e9e5cbd3d2a44ca53d297e31746b5f1e24b9...                                           0.445912                  \n18bcd22116c46919e03a3345f793c3859855227ac942e69...                                           0.467616                  \nb94d8aa95fbdeb1bb832b01fbe5d6e9bf9fc36fceb14f7b...                                           0.460835                  \n...                                                                                               ...                  \nfb64282022bd7a49e51b2548d2f325a8cbbea756702d619...                                           0.415307                  \nfc3912792c86de37ec7f6ffa7a0ce5d5d7b7c86f02ba890...                                           0.419839                  \nfc8805ee2fd5f28dee01b1172f4ee9d4b3937c8578a92fa...                                           0.422787                  \nfdd37416fae54311797c08c37956747d741ab86141a64da...                                           0.411670                  \nfefa88e8bcb8f19c1794526db7e241a1201a7aa6f05fedd...                                           0.421419                  \n\n                                                    ...  \\\nadc5c75937bc7f7198f534d08b85bd50c9521bfd3f319a0...  ...   \n2372d71eb9ad6e6a70982e02bbe802db004ed49d91b2264...  ...   \n8735e268191e9e5cbd3d2a44ca53d297e31746b5f1e24b9...  ...   \n18bcd22116c46919e03a3345f793c3859855227ac942e69...  ...   \nb94d8aa95fbdeb1bb832b01fbe5d6e9bf9fc36fceb14f7b...  ...   \n...                                                 ...   \nfb64282022bd7a49e51b2548d2f325a8cbbea756702d619...  ...   \nfc3912792c86de37ec7f6ffa7a0ce5d5d7b7c86f02ba890...  ...   \nfc8805ee2fd5f28dee01b1172f4ee9d4b3937c8578a92fa...  ...   \nfdd37416fae54311797c08c37956747d741ab86141a64da...  ...   \nfefa88e8bcb8f19c1794526db7e241a1201a7aa6f05fedd...  ...   \n\n                                                    fa25e4c61921862c0310a9802fb459b36b152d51d23ce58f5ec6d0a9251d27c2  \\\nadc5c75937bc7f7198f534d08b85bd50c9521bfd3f319a0...                                           0.411572                  \n2372d71eb9ad6e6a70982e02bbe802db004ed49d91b2264...                                           0.412700                  \n8735e268191e9e5cbd3d2a44ca53d297e31746b5f1e24b9...                                           0.417419                  \n18bcd22116c46919e03a3345f793c3859855227ac942e69...                                           0.413016                  \nb94d8aa95fbdeb1bb832b01fbe5d6e9bf9fc36fceb14f7b...                                           0.406539                  \n...                                                                                               ...                  \nfb64282022bd7a49e51b2548d2f325a8cbbea756702d619...                                           0.441992                  \nfc3912792c86de37ec7f6ffa7a0ce5d5d7b7c86f02ba890...                                           0.411930                  \nfc8805ee2fd5f28dee01b1172f4ee9d4b3937c8578a92fa...                                           0.420634                  \nfdd37416fae54311797c08c37956747d741ab86141a64da...                                           0.406538                  \nfefa88e8bcb8f19c1794526db7e241a1201a7aa6f05fedd...                                           0.411608                  \n\n                                                    fab01840d4d4652594130f3a64de72564dc3a342c516b2560cd7fe29284b82b9  \\\nadc5c75937bc7f7198f534d08b85bd50c9521bfd3f319a0...                                           0.418112                  \n2372d71eb9ad6e6a70982e02bbe802db004ed49d91b2264...                                           0.424544                  \n8735e268191e9e5cbd3d2a44ca53d297e31746b5f1e24b9...                                           0.422373                  \n18bcd22116c46919e03a3345f793c3859855227ac942e69...                                           0.415274                  \nb94d8aa95fbdeb1bb832b01fbe5d6e9bf9fc36fceb14f7b...                                           0.413325                  \n...                                                                                               ...                  \nfb64282022bd7a49e51b2548d2f325a8cbbea756702d619...                                           0.427747                  \nfc3912792c86de37ec7f6ffa7a0ce5d5d7b7c86f02ba890...                                           0.408673                  \nfc8805ee2fd5f28dee01b1172f4ee9d4b3937c8578a92fa...                                           0.421194                  \nfdd37416fae54311797c08c37956747d741ab86141a64da...                                           0.441341                  \nfefa88e8bcb8f19c1794526db7e241a1201a7aa6f05fedd...                                           0.425199                  \n\n                                                    fac3fd4870ae1b04d8c04b750851df65e38b74952c738ca09a5ec3dd9d0eaab1  \\\nadc5c75937bc7f7198f534d08b85bd50c9521bfd3f319a0...                                           0.415931                  \n2372d71eb9ad6e6a70982e02bbe802db004ed49d91b2264...                                           0.418685                  \n8735e268191e9e5cbd3d2a44ca53d297e31746b5f1e24b9...                                           0.431373                  \n18bcd22116c46919e03a3345f793c3859855227ac942e69...                                           0.410590                  \nb94d8aa95fbdeb1bb832b01fbe5d6e9bf9fc36fceb14f7b...                                           0.419462                  \n...                                                                                               ...                  \nfb64282022bd7a49e51b2548d2f325a8cbbea756702d619...                                           0.434162                  \nfc3912792c86de37ec7f6ffa7a0ce5d5d7b7c86f02ba890...                                           0.412979                  \nfc8805ee2fd5f28dee01b1172f4ee9d4b3937c8578a92fa...                                           0.415561                  \nfdd37416fae54311797c08c37956747d741ab86141a64da...                                           0.457365                  \nfefa88e8bcb8f19c1794526db7e241a1201a7aa6f05fedd...                                           0.436069                  \n\n                                                    fb041845214d88926218c03ec39f14e6fb9e46b36d32fa39dab38ce88cae65c3  \\\nadc5c75937bc7f7198f534d08b85bd50c9521bfd3f319a0...                                           0.420042                  \n2372d71eb9ad6e6a70982e02bbe802db004ed49d91b2264...                                           0.411672                  \n8735e268191e9e5cbd3d2a44ca53d297e31746b5f1e24b9...                                           0.414413                  \n18bcd22116c46919e03a3345f793c3859855227ac942e69...                                           0.435588                  \nb94d8aa95fbdeb1bb832b01fbe5d6e9bf9fc36fceb14f7b...                                           0.421313                  \n...                                                                                               ...                  \nfb64282022bd7a49e51b2548d2f325a8cbbea756702d619...                                           0.425351                  \nfc3912792c86de37ec7f6ffa7a0ce5d5d7b7c86f02ba890...                                           0.403183                  \nfc8805ee2fd5f28dee01b1172f4ee9d4b3937c8578a92fa...                                           0.417285                  \nfdd37416fae54311797c08c37956747d741ab86141a64da...                                           0.415263                  \nfefa88e8bcb8f19c1794526db7e241a1201a7aa6f05fedd...                                           0.430953                  \n\n                                                    fb207003cb281a1157be6a5c8580e87d9715c42ad78de4317a0a5b397ef955f3  \\\nadc5c75937bc7f7198f534d08b85bd50c9521bfd3f319a0...                                           0.426732                  \n2372d71eb9ad6e6a70982e02bbe802db004ed49d91b2264...                                           0.427768                  \n8735e268191e9e5cbd3d2a44ca53d297e31746b5f1e24b9...                                           0.406727                  \n18bcd22116c46919e03a3345f793c3859855227ac942e69...                                           0.434046                  \nb94d8aa95fbdeb1bb832b01fbe5d6e9bf9fc36fceb14f7b...                                           0.409925                  \n...                                                                                               ...                  \nfb64282022bd7a49e51b2548d2f325a8cbbea756702d619...                                           0.425368                  \nfc3912792c86de37ec7f6ffa7a0ce5d5d7b7c86f02ba890...                                           0.408329                  \nfc8805ee2fd5f28dee01b1172f4ee9d4b3937c8578a92fa...                                           0.444605                  \nfdd37416fae54311797c08c37956747d741ab86141a64da...                                           0.418713                  \nfefa88e8bcb8f19c1794526db7e241a1201a7aa6f05fedd...                                           0.437571                  \n\n                                                    fb64282022bd7a49e51b2548d2f325a8cbbea756702d619c024cf34c43ec1cfd  \\\nadc5c75937bc7f7198f534d08b85bd50c9521bfd3f319a0...                                           0.408253                  \n2372d71eb9ad6e6a70982e02bbe802db004ed49d91b2264...                                           0.419538                  \n8735e268191e9e5cbd3d2a44ca53d297e31746b5f1e24b9...                                           0.407835                  \n18bcd22116c46919e03a3345f793c3859855227ac942e69...                                           0.418540                  \nb94d8aa95fbdeb1bb832b01fbe5d6e9bf9fc36fceb14f7b...                                           0.418367                  \n...                                                                                               ...                  \nfb64282022bd7a49e51b2548d2f325a8cbbea756702d619...                                           1.000000                  \nfc3912792c86de37ec7f6ffa7a0ce5d5d7b7c86f02ba890...                                           0.409047                  \nfc8805ee2fd5f28dee01b1172f4ee9d4b3937c8578a92fa...                                           0.424939                  \nfdd37416fae54311797c08c37956747d741ab86141a64da...                                           0.427098                  \nfefa88e8bcb8f19c1794526db7e241a1201a7aa6f05fedd...                                           0.412986                  \n\n                                                    fc3912792c86de37ec7f6ffa7a0ce5d5d7b7c86f02ba890cdf0bb85a3628a792  \\\nadc5c75937bc7f7198f534d08b85bd50c9521bfd3f319a0...                                           0.421007                  \n2372d71eb9ad6e6a70982e02bbe802db004ed49d91b2264...                                           0.418824                  \n8735e268191e9e5cbd3d2a44ca53d297e31746b5f1e24b9...                                           0.410753                  \n18bcd22116c46919e03a3345f793c3859855227ac942e69...                                           0.418645                  \nb94d8aa95fbdeb1bb832b01fbe5d6e9bf9fc36fceb14f7b...                                           0.415904                  \n...                                                                                               ...                  \nfb64282022bd7a49e51b2548d2f325a8cbbea756702d619...                                           0.409047                  \nfc3912792c86de37ec7f6ffa7a0ce5d5d7b7c86f02ba890...                                           1.000000                  \nfc8805ee2fd5f28dee01b1172f4ee9d4b3937c8578a92fa...                                           0.423722                  \nfdd37416fae54311797c08c37956747d741ab86141a64da...                                           0.409164                  \nfefa88e8bcb8f19c1794526db7e241a1201a7aa6f05fedd...                                           0.414334                  \n\n                                                    fc8805ee2fd5f28dee01b1172f4ee9d4b3937c8578a92fae6720471685863814  \\\nadc5c75937bc7f7198f534d08b85bd50c9521bfd3f319a0...                                           0.418130                  \n2372d71eb9ad6e6a70982e02bbe802db004ed49d91b2264...                                           0.417562                  \n8735e268191e9e5cbd3d2a44ca53d297e31746b5f1e24b9...                                           0.414804                  \n18bcd22116c46919e03a3345f793c3859855227ac942e69...                                           0.419202                  \nb94d8aa95fbdeb1bb832b01fbe5d6e9bf9fc36fceb14f7b...                                           0.400579                  \n...                                                                                               ...                  \nfb64282022bd7a49e51b2548d2f325a8cbbea756702d619...                                           0.424939                  \nfc3912792c86de37ec7f6ffa7a0ce5d5d7b7c86f02ba890...                                           0.423722                  \nfc8805ee2fd5f28dee01b1172f4ee9d4b3937c8578a92fa...                                           1.000000                  \nfdd37416fae54311797c08c37956747d741ab86141a64da...                                           0.415707                  \nfefa88e8bcb8f19c1794526db7e241a1201a7aa6f05fedd...                                           0.415690                  \n\n                                                    fdd37416fae54311797c08c37956747d741ab86141a64da118c0d3c27a3ca69e  \\\nadc5c75937bc7f7198f534d08b85bd50c9521bfd3f319a0...                                           0.413371                  \n2372d71eb9ad6e6a70982e02bbe802db004ed49d91b2264...                                           0.417337                  \n8735e268191e9e5cbd3d2a44ca53d297e31746b5f1e24b9...                                           0.457231                  \n18bcd22116c46919e03a3345f793c3859855227ac942e69...                                           0.416171                  \nb94d8aa95fbdeb1bb832b01fbe5d6e9bf9fc36fceb14f7b...                                           0.427719                  \n...                                                                                               ...                  \nfb64282022bd7a49e51b2548d2f325a8cbbea756702d619...                                           0.427098                  \nfc3912792c86de37ec7f6ffa7a0ce5d5d7b7c86f02ba890...                                           0.409164                  \nfc8805ee2fd5f28dee01b1172f4ee9d4b3937c8578a92fa...                                           0.415707                  \nfdd37416fae54311797c08c37956747d741ab86141a64da...                                           1.000000                  \nfefa88e8bcb8f19c1794526db7e241a1201a7aa6f05fedd...                                           0.445997                  \n\n                                                    fefa88e8bcb8f19c1794526db7e241a1201a7aa6f05fedd25c09cee4b35c46f0  \nadc5c75937bc7f7198f534d08b85bd50c9521bfd3f319a0...                                           0.415848                 \n2372d71eb9ad6e6a70982e02bbe802db004ed49d91b2264...                                           0.442441                 \n8735e268191e9e5cbd3d2a44ca53d297e31746b5f1e24b9...                                           0.442620                 \n18bcd22116c46919e03a3345f793c3859855227ac942e69...                                           0.435658                 \nb94d8aa95fbdeb1bb832b01fbe5d6e9bf9fc36fceb14f7b...                                           0.421342                 \n...                                                                                               ...                 \nfb64282022bd7a49e51b2548d2f325a8cbbea756702d619...                                           0.412986                 \nfc3912792c86de37ec7f6ffa7a0ce5d5d7b7c86f02ba890...                                           0.414334                 \nfc8805ee2fd5f28dee01b1172f4ee9d4b3937c8578a92fa...                                           0.415690                 \nfdd37416fae54311797c08c37956747d741ab86141a64da...                                           0.445997                 \nfefa88e8bcb8f19c1794526db7e241a1201a7aa6f05fedd...                                           1.000000                 \n\n[4519 rows x 4519 columns]",
      "text/html": "<div>\n<style scoped>\n    .dataframe tbody tr th:only-of-type {\n        vertical-align: middle;\n    }\n\n    .dataframe tbody tr th {\n        vertical-align: top;\n    }\n\n    .dataframe thead th {\n        text-align: right;\n    }\n</style>\n<table border=\"1\" class=\"dataframe\">\n  <thead>\n    <tr style=\"text-align: right;\">\n      <th></th>\n      <th>adc5c75937bc7f7198f534d08b85bd50c9521bfd3f319a090932b5d0bae54de0</th>\n      <th>2372d71eb9ad6e6a70982e02bbe802db004ed49d91b2264c0a2e8e41571002cc</th>\n      <th>8735e268191e9e5cbd3d2a44ca53d297e31746b5f1e24b941db6225a25848353</th>\n      <th>18bcd22116c46919e03a3345f793c3859855227ac942e69dd13cbfcd588e1044</th>\n      <th>b94d8aa95fbdeb1bb832b01fbe5d6e9bf9fc36fceb14f7ba370a963f472fe35b</th>\n      <th>d6897267c1316d4c6be9d6f64332f470e4118225476847bf448abce7ab934145</th>\n      <th>51fd686c7abd00e1e7b5b31a436a921582b3babe46d1941714b38495ad3fe8ed</th>\n      <th>c118f163e77cf2c95f981bb2528b821379b5c498eb04ee346babd91d673bf9ec</th>\n      <th>6e8160a1e50fd0536d4e770490fbcfc20d7e7dc3c65bac762063ac097866947f</th>\n      <th>6f70ff714553a60e3404d55a941ff47a3e0dd4a9ba5cb9135f3e54f418b3a97f</th>\n      <th>...</th>\n      <th>fa25e4c61921862c0310a9802fb459b36b152d51d23ce58f5ec6d0a9251d27c2</th>\n      <th>fab01840d4d4652594130f3a64de72564dc3a342c516b2560cd7fe29284b82b9</th>\n      <th>fac3fd4870ae1b04d8c04b750851df65e38b74952c738ca09a5ec3dd9d0eaab1</th>\n      <th>fb041845214d88926218c03ec39f14e6fb9e46b36d32fa39dab38ce88cae65c3</th>\n      <th>fb207003cb281a1157be6a5c8580e87d9715c42ad78de4317a0a5b397ef955f3</th>\n      <th>fb64282022bd7a49e51b2548d2f325a8cbbea756702d619c024cf34c43ec1cfd</th>\n      <th>fc3912792c86de37ec7f6ffa7a0ce5d5d7b7c86f02ba890cdf0bb85a3628a792</th>\n      <th>fc8805ee2fd5f28dee01b1172f4ee9d4b3937c8578a92fae6720471685863814</th>\n      <th>fdd37416fae54311797c08c37956747d741ab86141a64da118c0d3c27a3ca69e</th>\n      <th>fefa88e8bcb8f19c1794526db7e241a1201a7aa6f05fedd25c09cee4b35c46f0</th>\n    </tr>\n  </thead>\n  <tbody>\n    <tr>\n      <th>adc5c75937bc7f7198f534d08b85bd50c9521bfd3f319a090932b5d0bae54de0</th>\n      <td>1.000000</td>\n      <td>0.496512</td>\n      <td>0.453722</td>\n      <td>0.497151</td>\n      <td>0.470805</td>\n      <td>0.533803</td>\n      <td>0.448236</td>\n      <td>0.470663</td>\n      <td>0.454792</td>\n      <td>0.516943</td>\n      <td>...</td>\n      <td>0.411572</td>\n      <td>0.418112</td>\n      <td>0.415931</td>\n      <td>0.420042</td>\n      <td>0.426732</td>\n      <td>0.408253</td>\n      <td>0.421007</td>\n      <td>0.418130</td>\n      <td>0.413371</td>\n      <td>0.415848</td>\n    </tr>\n    <tr>\n      <th>2372d71eb9ad6e6a70982e02bbe802db004ed49d91b2264c0a2e8e41571002cc</th>\n      <td>0.496512</td>\n      <td>1.000000</td>\n      <td>0.454741</td>\n      <td>0.496707</td>\n      <td>0.476957</td>\n      <td>0.494780</td>\n      <td>0.458312</td>\n      <td>0.466210</td>\n      <td>0.466761</td>\n      <td>0.488558</td>\n      <td>...</td>\n      <td>0.412700</td>\n      <td>0.424544</td>\n      <td>0.418685</td>\n      <td>0.411672</td>\n      <td>0.427768</td>\n      <td>0.419538</td>\n      <td>0.418824</td>\n      <td>0.417562</td>\n      <td>0.417337</td>\n      <td>0.442441</td>\n    </tr>\n    <tr>\n      <th>8735e268191e9e5cbd3d2a44ca53d297e31746b5f1e24b941db6225a25848353</th>\n      <td>0.453722</td>\n      <td>0.454741</td>\n      <td>1.000000</td>\n      <td>0.437009</td>\n      <td>0.469963</td>\n      <td>0.447736</td>\n      <td>0.458513</td>\n      <td>0.466450</td>\n      <td>0.449098</td>\n      <td>0.445912</td>\n      <td>...</td>\n      <td>0.417419</td>\n      <td>0.422373</td>\n      <td>0.431373</td>\n      <td>0.414413</td>\n      <td>0.406727</td>\n      <td>0.407835</td>\n      <td>0.410753</td>\n      <td>0.414804</td>\n      <td>0.457231</td>\n      <td>0.442620</td>\n    </tr>\n    <tr>\n      <th>18bcd22116c46919e03a3345f793c3859855227ac942e69dd13cbfcd588e1044</th>\n      <td>0.497151</td>\n      <td>0.496707</td>\n      <td>0.437009</td>\n      <td>1.000000</td>\n      <td>0.497571</td>\n      <td>0.515404</td>\n      <td>0.481000</td>\n      <td>0.447983</td>\n      <td>0.456158</td>\n      <td>0.467616</td>\n      <td>...</td>\n      <td>0.413016</td>\n      <td>0.415274</td>\n      <td>0.410590</td>\n      <td>0.435588</td>\n      <td>0.434046</td>\n      <td>0.418540</td>\n      <td>0.418645</td>\n      <td>0.419202</td>\n      <td>0.416171</td>\n      <td>0.435658</td>\n    </tr>\n    <tr>\n      <th>b94d8aa95fbdeb1bb832b01fbe5d6e9bf9fc36fceb14f7ba370a963f472fe35b</th>\n      <td>0.470805</td>\n      <td>0.476957</td>\n      <td>0.469963</td>\n      <td>0.497571</td>\n      <td>1.000000</td>\n      <td>0.502765</td>\n      <td>0.501329</td>\n      <td>0.457158</td>\n      <td>0.468089</td>\n      <td>0.460835</td>\n      <td>...</td>\n      <td>0.406539</td>\n      <td>0.413325</td>\n      <td>0.419462</td>\n      <td>0.421313</td>\n      <td>0.409925</td>\n      <td>0.418367</td>\n      <td>0.415904</td>\n      <td>0.400579</td>\n      <td>0.427719</td>\n      <td>0.421342</td>\n    </tr>\n    <tr>\n      <th>...</th>\n      <td>...</td>\n      <td>...</td>\n      <td>...</td>\n      <td>...</td>\n      <td>...</td>\n      <td>...</td>\n      <td>...</td>\n      <td>...</td>\n      <td>...</td>\n      <td>...</td>\n      <td>...</td>\n      <td>...</td>\n      <td>...</td>\n      <td>...</td>\n      <td>...</td>\n      <td>...</td>\n      <td>...</td>\n      <td>...</td>\n      <td>...</td>\n      <td>...</td>\n      <td>...</td>\n    </tr>\n    <tr>\n      <th>fb64282022bd7a49e51b2548d2f325a8cbbea756702d619c024cf34c43ec1cfd</th>\n      <td>0.408253</td>\n      <td>0.419538</td>\n      <td>0.407835</td>\n      <td>0.418540</td>\n      <td>0.418367</td>\n      <td>0.434927</td>\n      <td>0.410787</td>\n      <td>0.425300</td>\n      <td>0.436270</td>\n      <td>0.415307</td>\n      <td>...</td>\n      <td>0.441992</td>\n      <td>0.427747</td>\n      <td>0.434162</td>\n      <td>0.425351</td>\n      <td>0.425368</td>\n      <td>1.000000</td>\n      <td>0.409047</td>\n      <td>0.424939</td>\n      <td>0.427098</td>\n      <td>0.412986</td>\n    </tr>\n    <tr>\n      <th>fc3912792c86de37ec7f6ffa7a0ce5d5d7b7c86f02ba890cdf0bb85a3628a792</th>\n      <td>0.421007</td>\n      <td>0.418824</td>\n      <td>0.410753</td>\n      <td>0.418645</td>\n      <td>0.415904</td>\n      <td>0.421587</td>\n      <td>0.420348</td>\n      <td>0.412778</td>\n      <td>0.412828</td>\n      <td>0.419839</td>\n      <td>...</td>\n      <td>0.411930</td>\n      <td>0.408673</td>\n      <td>0.412979</td>\n      <td>0.403183</td>\n      <td>0.408329</td>\n      <td>0.409047</td>\n      <td>1.000000</td>\n      <td>0.423722</td>\n      <td>0.409164</td>\n      <td>0.414334</td>\n    </tr>\n    <tr>\n      <th>fc8805ee2fd5f28dee01b1172f4ee9d4b3937c8578a92fae6720471685863814</th>\n      <td>0.418130</td>\n      <td>0.417562</td>\n      <td>0.414804</td>\n      <td>0.419202</td>\n      <td>0.400579</td>\n      <td>0.413174</td>\n      <td>0.420232</td>\n      <td>0.406998</td>\n      <td>0.402162</td>\n      <td>0.422787</td>\n      <td>...</td>\n      <td>0.420634</td>\n      <td>0.421194</td>\n      <td>0.415561</td>\n      <td>0.417285</td>\n      <td>0.444605</td>\n      <td>0.424939</td>\n      <td>0.423722</td>\n      <td>1.000000</td>\n      <td>0.415707</td>\n      <td>0.415690</td>\n    </tr>\n    <tr>\n      <th>fdd37416fae54311797c08c37956747d741ab86141a64da118c0d3c27a3ca69e</th>\n      <td>0.413371</td>\n      <td>0.417337</td>\n      <td>0.457231</td>\n      <td>0.416171</td>\n      <td>0.427719</td>\n      <td>0.417119</td>\n      <td>0.418934</td>\n      <td>0.418683</td>\n      <td>0.420986</td>\n      <td>0.411670</td>\n      <td>...</td>\n      <td>0.406538</td>\n      <td>0.441341</td>\n      <td>0.457365</td>\n      <td>0.415263</td>\n      <td>0.418713</td>\n      <td>0.427098</td>\n      <td>0.409164</td>\n      <td>0.415707</td>\n      <td>1.000000</td>\n      <td>0.445997</td>\n    </tr>\n    <tr>\n      <th>fefa88e8bcb8f19c1794526db7e241a1201a7aa6f05fedd25c09cee4b35c46f0</th>\n      <td>0.415848</td>\n      <td>0.442441</td>\n      <td>0.442620</td>\n      <td>0.435658</td>\n      <td>0.421342</td>\n      <td>0.424240</td>\n      <td>0.430801</td>\n      <td>0.430554</td>\n      <td>0.428635</td>\n      <td>0.421419</td>\n      <td>...</td>\n      <td>0.411608</td>\n      <td>0.425199</td>\n      <td>0.436069</td>\n      <td>0.430953</td>\n      <td>0.437571</td>\n      <td>0.412986</td>\n      <td>0.414334</td>\n      <td>0.415690</td>\n      <td>0.445997</td>\n      <td>1.000000</td>\n    </tr>\n  </tbody>\n</table>\n<p>4519 rows × 4519 columns</p>\n</div>"
     },
     "execution_count": 215,
     "metadata": {},
     "output_type": "execute_result"
    }
   ],
   "source": [
    "sim_matrix = pd.DataFrame(pairwise_distances(emb_list, metric=similarity_func), index=name_list, columns=name_list)\n",
    "sim_matrix"
   ],
   "metadata": {
    "collapsed": false,
    "pycharm": {
     "name": "#%%\n"
    }
   }
  },
  {
   "cell_type": "code",
   "execution_count": 219,
   "outputs": [],
   "source": [
    "sim_matrix_without_diagonal = sim_matrix"
   ],
   "metadata": {
    "collapsed": false,
    "pycharm": {
     "name": "#%%\n"
    }
   }
  },
  {
   "cell_type": "code",
   "execution_count": 220,
   "outputs": [],
   "source": [
    "np.fill_diagonal(sim_matrix_without_diagonal.values, -1)"
   ],
   "metadata": {
    "collapsed": false,
    "pycharm": {
     "name": "#%%\n"
    }
   }
  },
  {
   "cell_type": "code",
   "execution_count": 231,
   "outputs": [
    {
     "data": {
      "text/plain": "array([1.        , 1.        , 1.        , 1.        , 1.        ,\n       1.        , 1.        , 1.        , 1.        , 1.        ,\n       1.        , 1.        , 1.        , 1.        , 1.        ,\n       1.        , 1.        , 1.        , 1.        , 1.        ,\n       1.        , 1.        , 1.        , 1.        , 1.        ,\n       1.        , 1.        , 1.        , 1.        , 1.        ,\n       1.        , 1.        , 1.        , 1.        , 1.        ,\n       1.        , 1.        , 1.        , 1.        , 1.        ,\n       1.        , 1.        , 1.        , 1.        , 1.        ,\n       1.        , 1.        , 1.        , 1.        , 1.        ,\n       1.        , 1.        , 1.        , 1.        , 1.        ,\n       1.        , 1.        , 1.        , 1.        , 1.        ,\n       1.        , 1.        , 1.        , 1.        , 1.        ,\n       1.        , 1.        , 1.        , 1.        , 1.        ,\n       1.        , 1.        , 1.        , 1.        , 1.        ,\n       1.        , 1.        , 1.        , 1.        , 1.        ,\n       1.        , 1.        , 1.        , 1.        , 1.        ,\n       1.        , 1.        , 1.        , 1.        , 1.        ,\n       1.        , 1.        , 1.        , 1.        , 1.        ,\n       1.        , 1.        , 1.        , 1.        , 1.        ,\n       1.        , 1.        , 1.        , 1.        , 1.        ,\n       1.        , 1.        , 1.        , 1.        , 1.        ,\n       1.        , 1.        , 1.        , 1.        , 1.        ,\n       1.        , 1.        , 1.        , 1.        , 1.        ,\n       1.        , 1.        , 1.        , 1.        , 1.        ,\n       1.        , 1.        , 1.        , 1.        , 1.        ,\n       1.        , 1.        , 1.        , 1.        , 1.        ,\n       1.        , 1.        , 1.        , 1.        , 1.        ,\n       1.        , 1.        , 1.        , 1.        , 1.        ,\n       1.        , 1.        , 1.        , 1.        , 1.        ,\n       1.        , 1.        , 1.        , 1.        , 1.        ,\n       1.        , 1.        , 1.        , 1.        , 1.        ,\n       1.        , 1.        , 1.        , 1.        , 1.        ,\n       1.        , 1.        , 1.        , 1.        , 1.        ,\n       1.        , 1.        , 1.        , 1.        , 1.        ,\n       1.        , 1.        , 1.        , 1.        , 1.        ,\n       1.        , 1.        , 1.        , 1.        , 1.        ,\n       1.        , 1.        , 1.        , 1.        , 1.        ,\n       1.        , 1.        , 1.        , 1.        , 1.        ,\n       1.        , 1.        , 1.        , 1.        , 1.        ,\n       1.        , 1.        , 1.        , 1.        , 1.        ,\n       1.        , 1.        , 1.        , 1.        , 1.        ,\n       1.        , 1.        , 1.        , 1.        , 1.        ,\n       1.        , 1.        , 1.        , 1.        , 1.        ,\n       1.        , 1.        , 1.        , 1.        , 1.        ,\n       1.        , 1.        , 1.        , 1.        , 1.        ,\n       1.        , 1.        , 1.        , 1.        , 1.        ,\n       1.        , 1.        , 1.        , 1.        , 1.        ,\n       1.        , 1.        , 1.        , 1.        , 1.        ,\n       1.        , 1.        , 1.        , 1.        , 1.        ,\n       1.        , 1.        , 1.        , 1.        , 1.        ,\n       1.        , 1.        , 1.        , 1.        , 1.        ,\n       1.        , 1.        , 1.        , 1.        , 1.        ,\n       1.        , 1.        , 1.        , 1.        , 1.        ,\n       1.        , 1.        , 1.        , 1.        , 1.        ,\n       1.        , 1.        , 1.        , 1.        , 1.        ,\n       1.        , 1.        , 1.        , 1.        , 1.        ,\n       1.        , 1.        , 1.        , 1.        , 1.        ,\n       1.        , 1.        , 1.        , 1.        , 1.        ,\n       1.        , 1.        , 1.        , 1.        , 1.        ,\n       1.        , 1.        , 1.        , 1.        , 1.        ,\n       1.        , 1.        , 1.        , 1.        , 1.        ,\n       1.        , 1.        , 1.        , 1.        , 1.        ,\n       1.        , 1.        , 1.        , 1.        , 1.        ,\n       1.        , 1.        , 1.        , 1.        , 0.94787744,\n       0.94787744, 0.94447321, 0.94447321, 0.94406621, 0.94406621,\n       0.94401666, 0.94399156, 0.94399156, 0.94355849, 0.94278574,\n       0.94240699, 0.94240699, 0.94174392, 0.94130218, 0.94074727,\n       0.94029834, 0.94015029, 0.94013864, 0.93994955, 0.93980796,\n       0.9388844 , 0.93877549, 0.93853906, 0.938371  , 0.93818445,\n       0.93758718, 0.93721326, 0.9356009 , 0.93489901, 0.93488341,\n       0.93117515, 0.92847661, 0.92831302, 0.92736396, 0.92710546,\n       0.92537516, 0.92537516, 0.92472132, 0.92472132, 0.92462743,\n       0.92462743, 0.92365142, 0.9234448 , 0.92307936, 0.92291387,\n       0.92281202, 0.9225154 , 0.92239069, 0.92173549, 0.92173549,\n       0.92171365, 0.92171365, 0.92126702, 0.92112344, 0.92073906,\n       0.92026579, 0.92010504, 0.91986562, 0.91879927, 0.9184047 ,\n       0.9167783 , 0.9167783 , 0.91600843, 0.91588745, 0.91588745,\n       0.91534878, 0.9153396 , 0.9153396 , 0.91501704, 0.91407056,\n       0.9139286 , 0.91391747, 0.91384456, 0.91339431, 0.91334968,\n       0.90907003, 0.90849682, 0.90828316, 0.90695567, 0.9066386 ,\n       0.90586525, 0.90542531, 0.90485744, 0.90476783, 0.90476783,\n       0.90177795, 0.90177795, 0.90156977, 0.90140555, 0.90004121,\n       0.89810522, 0.89631252, 0.89304349, 0.89190308, 0.89190308,\n       0.88658332, 0.88593395, 0.88579756, 0.88559005, 0.88559005,\n       0.88385376, 0.88385376, 0.88362724, 0.88264813, 0.88264813,\n       0.88007809, 0.88007809, 0.87845401, 0.87590791, 0.87590791,\n       0.87522323, 0.87522323, 0.87454479, 0.86985585, 0.86866784,\n       0.86866784, 0.86783473, 0.86783473, 0.86757075, 0.86380123,\n       0.86380123, 0.86316329, 0.86316329, 0.86224994, 0.86224994,\n       0.86152186, 0.86045729, 0.86045729, 0.85982489, 0.85982489,\n       0.85935232, 0.85886202, 0.85886202, 0.85863218, 0.85773682,\n       0.85507263, 0.85497045, 0.85462315, 0.85462315, 0.85302867,\n       0.8528679 , 0.8528679 , 0.85283418, 0.85283418, 0.8517903 ,\n       0.8517903 , 0.85136579, 0.85136579, 0.85121429, 0.85121429,\n       0.85118353, 0.85118353, 0.85099761, 0.85099761, 0.85080542,\n       0.85080542, 0.84953933, 0.84953933, 0.84807882, 0.84807882,\n       0.84791674, 0.84791674, 0.84770084, 0.84723601, 0.84691208,\n       0.84661643, 0.84661482, 0.84636079, 0.84620882, 0.8451621 ,\n       0.84514974, 0.84490785, 0.84469633, 0.84465817, 0.84435171,\n       0.84435171, 0.84420999, 0.84420999, 0.84410437, 0.84406318,\n       0.84406318, 0.84404895, 0.843945  , 0.84335921, 0.84335921,\n       0.84297212, 0.84281052, 0.84255206, 0.84254985, 0.84247891,\n       0.84247891, 0.84211265, 0.84200324, 0.84166743, 0.84166743,\n       0.84152143, 0.84126499, 0.84126499, 0.84028358, 0.83926543,\n       0.83926543, 0.83908164, 0.83906469, 0.83906469, 0.83887606,\n       0.83865684, 0.83841118, 0.83835626, 0.83835626, 0.83833864,\n       0.83833864, 0.83789722, 0.8378338 , 0.8377504 , 0.8377504 ,\n       0.83742096, 0.83741862, 0.83741862, 0.83736465, 0.83724501,\n       0.83668671, 0.83668671, 0.83639984, 0.83607584, 0.83607584,\n       0.83584002, 0.83564538, 0.83527915, 0.83527915, 0.83524497,\n       0.83481926, 0.83416368, 0.83392612, 0.83384166, 0.83293225,\n       0.83246851, 0.83246851, 0.8324261 , 0.83237924, 0.83209461,\n       0.83205825, 0.83194038, 0.83180197, 0.83170584, 0.8316319 ,\n       0.83147765, 0.83123748, 0.83101235, 0.8309063 , 0.83061225,\n       0.83041767, 0.83001404, 0.82999321, 0.82939861, 0.82936804,\n       0.82906569, 0.82906569, 0.8287065 , 0.82865322, 0.82865322,\n       0.82795384, 0.82772837, 0.82751593, 0.8271886 , 0.8271886 ,\n       0.82686471, 0.82672652, 0.82657445, 0.82482608, 0.82400335,\n       0.82384995, 0.82369806, 0.82359163, 0.82323262, 0.82323262,\n       0.82321588, 0.82321588, 0.82232925, 0.82232925, 0.82218783,\n       0.82218783, 0.82203292, 0.82101897, 0.82094963, 0.82083243,\n       0.82083243, 0.82048101, 0.82048101, 0.8194014 , 0.81939099,\n       0.81907634, 0.81902026, 0.81880066, 0.81833637, 0.81826322,\n       0.81738203, 0.81738203, 0.81726223, 0.81726223, 0.81691314,\n       0.81678975, 0.81678975, 0.81623397, 0.81623397, 0.81577411,\n       0.815478  , 0.81542044, 0.81525343, 0.81525343, 0.81507739,\n       0.81502167, 0.81502167, 0.81443007, 0.81423525, 0.81373092,\n       0.81325096, 0.81318251, 0.81318251, 0.81286306, 0.81283823,\n       0.81283823, 0.812838  , 0.812838  , 0.81200794, 0.81151822,\n       0.81113965, 0.81111422, 0.81111422, 0.81089377, 0.81089377,\n       0.8107884 , 0.81034845, 0.81034845, 0.81022679, 0.81007656,\n       0.809989  , 0.80992177, 0.80992177, 0.80938789, 0.80938789,\n       0.80870133, 0.80870133, 0.80827408, 0.80758015, 0.80692066,\n       0.80683295, 0.80667747, 0.8065209 , 0.80616049, 0.80616049,\n       0.80602758, 0.80599556, 0.80597955, 0.80566965, 0.80531122,\n       0.80518073, 0.80498648, 0.80494303, 0.80485033, 0.80485033,\n       0.80463814, 0.80463814, 0.80449957, 0.80449957, 0.80419698,\n       0.80419698, 0.80413224, 0.80379957, 0.80224444, 0.80224444,\n       0.80206043, 0.80196866, 0.80147638, 0.80121466, 0.80121466,\n       0.80111543, 0.80075578, 0.80069853, 0.79918209, 0.79907874,\n       0.79778848, 0.79778848, 0.79760728, 0.79738943, 0.79720603,\n       0.79720603, 0.79650158, 0.79650158, 0.79636638, 0.79627582,\n       0.79540065, 0.79540065, 0.79530337, 0.79458125, 0.79458125,\n       0.79442229, 0.79442229, 0.79415193, 0.79415193, 0.79373904,\n       0.79337978, 0.79323602, 0.79307754, 0.79307654, 0.79301198,\n       0.7928298 , 0.79235834, 0.79235834, 0.79063129, 0.79063129,\n       0.79054252, 0.79054252, 0.7904988 , 0.79047745, 0.79024914,\n       0.78920496, 0.78920496, 0.78909564, 0.78909564, 0.78879261,\n       0.78857166, 0.78732565, 0.78732565, 0.78684412, 0.78684412,\n       0.78683932, 0.78683932, 0.78627013, 0.78627013, 0.78594039,\n       0.78524845, 0.78496641, 0.78496641, 0.78428743, 0.78428743,\n       0.78393655, 0.78393655, 0.78368008, 0.78368008, 0.78335008,\n       0.78335008, 0.7831604 , 0.78282736, 0.78282736, 0.78242714,\n       0.78242714, 0.78179018, 0.78094462, 0.78094462, 0.78040406,\n       0.78040406, 0.78034675, 0.78003798, 0.78003798, 0.77960285,\n       0.77960285, 0.77942888, 0.77922609, 0.77922609, 0.77911087,\n       0.77911087, 0.77861441, 0.77855285, 0.77855285, 0.77794719,\n       0.77737605, 0.77648016, 0.77648016, 0.77578867, 0.77567526,\n       0.77567526, 0.77566521, 0.77544881, 0.77479068, 0.77470128,\n       0.77470128, 0.77441493, 0.77400476, 0.77389544, 0.77389544,\n       0.77377541, 0.77364037, 0.77357794, 0.77306252, 0.77306252,\n       0.77262329, 0.77250437, 0.77250437, 0.77230751, 0.77145522,\n       0.77145522, 0.77060625, 0.76956419, 0.76755604, 0.76733526,\n       0.76720904, 0.76694622, 0.76667774, 0.76607133, 0.76556058,\n       0.7649553 , 0.7649553 , 0.76490078, 0.76490078, 0.76482345,\n       0.76482345, 0.7645968 , 0.76381947, 0.76214487, 0.76214487,\n       0.76208255, 0.76195429, 0.76195429, 0.76189663, 0.76189663,\n       0.76185603, 0.76153314, 0.76153314, 0.76117451, 0.76092958,\n       0.76084684, 0.76084053, 0.76084053, 0.76073028, 0.76073028,\n       0.76072528, 0.76072528, 0.76036156, 0.76019884, 0.76017624,\n       0.76017624, 0.75972131, 0.75972131, 0.75958147, 0.75914417,\n       0.75914417, 0.75906407, 0.75873557, 0.75873557, 0.75808566,\n       0.75793256, 0.75793256, 0.75773348, 0.75773348, 0.75731774,\n       0.75700771, 0.75700771, 0.75655065, 0.75648651, 0.75583421,\n       0.75569653, 0.75569653, 0.75541959, 0.75541959, 0.75462276,\n       0.75459001, 0.75421904, 0.75389502, 0.7538371 , 0.7538371 ,\n       0.75381717, 0.75332384, 0.75309469, 0.75309469, 0.75246286,\n       0.75243111, 0.75243111, 0.75198779, 0.75198779, 0.75174709,\n       0.75144705, 0.75121537, 0.75121537, 0.75116639, 0.75098829,\n       0.75035302, 0.75035302, 0.74992477, 0.74992477, 0.74876557,\n       0.74876557, 0.74766041, 0.74736573, 0.74736573, 0.74732406,\n       0.74678715, 0.74678715, 0.74668923, 0.74668923, 0.74656485,\n       0.74621677, 0.74621677, 0.74618889, 0.74528224, 0.74494105,\n       0.74494105, 0.74416521, 0.74416521, 0.74391088, 0.74347849,\n       0.74273043, 0.74273043, 0.74261653, 0.74261653, 0.7422608 ,\n       0.74211308, 0.74180535, 0.74180535, 0.74165942, 0.74164999,\n       0.74075205, 0.74029786, 0.74029786, 0.74023286, 0.7400887 ,\n       0.73934208, 0.73922863, 0.73922863, 0.73888152, 0.73868731,\n       0.73868731, 0.73831076, 0.73831076, 0.73829575, 0.73829575,\n       0.73781191, 0.73781191, 0.73777706, 0.73777706, 0.73757238,\n       0.73757238, 0.737181  , 0.737181  , 0.73711066, 0.73711066,\n       0.7365626 , 0.7365626 , 0.73642659, 0.735549  , 0.73546013,\n       0.73527781, 0.73527781, 0.73512287, 0.73475377, 0.73475377,\n       0.73474947, 0.73474947, 0.73445964, 0.73441223, 0.73441223,\n       0.73419137, 0.73367145, 0.73327487, 0.73327487, 0.73275996,\n       0.73251176, 0.73251176, 0.73240593, 0.73233328, 0.73233328,\n       0.73102845, 0.73079719, 0.73049354, 0.73049354, 0.73013422,\n       0.72996744, 0.72996744, 0.72968209, 0.72968209, 0.72965847,\n       0.7296337 , 0.72949095, 0.72949095, 0.72932532, 0.72932532])"
     },
     "execution_count": 231,
     "metadata": {},
     "output_type": "execute_result"
    }
   ],
   "source": [
    "sim_matrix_without_diagonal.max(axis=1).sort_values(ascending=False).values[:1000]"
   ],
   "metadata": {
    "collapsed": false,
    "pycharm": {
     "name": "#%%\n"
    }
   }
  },
  {
   "cell_type": "code",
   "execution_count": 234,
   "outputs": [
    {
     "data": {
      "text/plain": "Empty DataFrame\nColumns: [adc5c75937bc7f7198f534d08b85bd50c9521bfd3f319a090932b5d0bae54de0, 2372d71eb9ad6e6a70982e02bbe802db004ed49d91b2264c0a2e8e41571002cc, 8735e268191e9e5cbd3d2a44ca53d297e31746b5f1e24b941db6225a25848353, 18bcd22116c46919e03a3345f793c3859855227ac942e69dd13cbfcd588e1044, b94d8aa95fbdeb1bb832b01fbe5d6e9bf9fc36fceb14f7ba370a963f472fe35b, d6897267c1316d4c6be9d6f64332f470e4118225476847bf448abce7ab934145, 51fd686c7abd00e1e7b5b31a436a921582b3babe46d1941714b38495ad3fe8ed, c118f163e77cf2c95f981bb2528b821379b5c498eb04ee346babd91d673bf9ec, 6e8160a1e50fd0536d4e770490fbcfc20d7e7dc3c65bac762063ac097866947f, 6f70ff714553a60e3404d55a941ff47a3e0dd4a9ba5cb9135f3e54f418b3a97f, ef0b539dd95c14751aab8507bb99a824c9a6907120c93910b3caaa3108b549e1, 98a214f962448536b9a10b3316c6cf9480249b5965305a29389e1c080525fa56, 66bc32e9135b8e8d1babac8dafd6c64119a519761e0e55555105a66c759e8130, 2ec585e04df9d361a951e7d26ce5d3ab06e4d17612e36ee84696c1451c972c4b, 8910aecf00c0f6279c3cf6e728131a5698b1d1b35a865625bccf1ede42f8ff28, aaf8d11193277c5adc773cb6d57ef672483c6feb3f23f8316df3680f526e47fc, 5817e5ce33c3258bba3c8ddda003057a03697c1cdc5430320d3b54abc6d104cd, ae1904ac24001af20cfaf9ce898605e95122371e26ae96b7337d114098819c33, 497730ad75916dd4a3174469d0946ccf6218adfd9513cfffb52038a3dce3fa8d, cc636b5b14dcf388c59091c72bf846841c8334437e45d7278f44bf1c6cad9ce3, c91683c87d4cc542063fe0f390e693eac9985af3c6561aefb2ecd5b0fe981ac0, 134320bbad025ef1ec74f85a40b2ae480b140cd2f55a08522aa767e5f54a08b0, 6960ecead44fd61bd36d47822e1985486ec7ea318b530d83d7e02d0a596c2f0b, d361ffd592ac0d7836a6a41e012a0cadda69510659ae2d0e9eb77698acb36c8c, d09200ae49091c582aae53a6d9e8de5a6b6eed120071546ceb313b718ce11e9f, 5b4e4d04dac0fe4158672c20ac4061a0123eedba1a0ec07e868fb1a7f03c2449, 49e9e06a1e119d0c9acd216e3b84f887586ab34b4f05e449d5edb8bfc0df8ba4, 7c8fe8bee8dd8c3624e833b7340603de987ff6226e090cc3eae58447f903d171, f87000477b7e35b421b44ba9728e610294bfbab749aadae14db03099d0dabcd3, 781b0553a72f6c827294395c85d533755fda1efe299482411cc9e3cb3a6b008c, 5a170840819f137cb6f99fb98e8bd031b8cbe76711ac1d6c9a378425d52f75a1, 27c552ba8ac978ec37bf92ab56e01ea798d263a36dd164e398456565574d93f6, 94a33450ad6a0aad7aa1fa709290609921f74c8251e6bbd4dadf014047d29fc2, 7b25548032c25b4ad719edc0288cd9059d048a3d822a1445eb21f2434eabc58e, 8387c11a7228109b12be70597263b58e25b95032fab2820bec07355cac5ab5e0, b3a6dd1bcb292ea27ddc5abf70109443a9df0876bcf72db4b0bbc1c31ab0e937, cd920665a911fc144182a375c3ba0f32de3dfcaeb9b49623fab369ceaa0f1ca0, 6b85a9afc7303a25ae4abc127fce86a3b097ce9064f2168ae53c84ca95aa714a, b9acf1ec0e4852c0a0e23247e4356ea334afeaa25ed130c5d1a5bb381eca80ff, 0718f876c55d30293bb6168c02222ee65d33a1d4884c9bf63b3095988f8a0ecb, e6a02fe6a686f7ae1679bac3caf1ba152dd6ffe7465929c685e7d3f0cfb63c80, 9196f7f3cf65d81aacdcb38552d9473ed31487e093ab575c7e9d9b3e3fa1af1c, 5f4027d70851a78308c019e5154c64d7ffe915d3869f9c933ad8d2a650a2c682, ecb65cd2bf8cb220e502b917c6beb0115c1e4e6f1198a25782a079903037dc46, 86fdf3371334e7ea0fc8c2d772a278db44aa6e3626b232553b353f4b300506af, 5d1c5d38797c765577fa366c5e4b48d70c39ca934ddb16cd3f650b0dc0ed5d55, a3c0a3a3a8eaef6c1dcc05a98fa5bee20e1f92b18e6a6ab8ac0da18e5af51629, 9afe85e9cc665fbf32acc928bb0ee8c13babee26bc87928e398f7018b31f516b, 0df4506d8939201a329f44e0ae4fcc09e3b4d6b5dc73633861ee9e51ea4d326c, a257a429106420ff58d48696c23cf9c8ab79f102673dc3f40b59074fc3f7ee93, 6a27023e14ca058977bd7e326796840656af170a4db9668920ef958d97f80d31, cb026afd9bcee12fa3aa1dc58de51bbbe1d93acd6f5f4f5a44e443cf4e3ee6b4, 72290d5a15b7e155b493d65fa7afb86fb2c0447c7bdfd28a6811adec22f9ae6c, d7c63bbba2817fa45f297cf4a4df08ac0faf0158168f4fa68ff0352358df7d8e, de641f358e65081ac3da8181cfb4a4b2a9cf0a7db245db6bd57d7396744df222, 6625fdda61ca52d49e2d9272c80920491c3cafa4a7dafd19e283e786996e7021, b87e9b9440cefed5b67a43bb2083a456e92b88639fea69e6ce5f844e444c3822, 5d776308d62a1bedbe64a0baf5b7133502a1703c366da97518630009ddc86491, 4f26736f5f9c9636fe7eebb6d75b056b4cfa78b3999b5ea3580da8895eb44a97, c49aa9f5a7558de3a19e1e0f0c25a3c6c944cfe61d1a7feb9e9ae0d6cda3b4ef, 43c2d5f0938b95603776deceafa05bed08d5c9d7b821b2612928ad617b9be423, 05addf0a970bbbffaf01cd2a2800c29c32d7a701d781e59aefcffb50024067a0, 6d0be6a4bd6a6009cb9a20b1cc49e9b2889055d9fc4244a960bf385e71be7cb0, 130c6263ad3569c934222d0b54415d6605e4f0a7eec79e00e09d5072c7ecb63b, f49672b4add6584b3e5a6adb64288ea23107b0a775ec6a8836f0038f79fbc63d, 3e8001aca73229fe262d1c744bc1f6606a705dbb589b9d45cd16655dd616a1be, 6f66f9db097d7a3fde139eb84525acb6def291559f444ca8ad6de737fc602034, b6098707d562a0698286b69795efe83324fda81a06354a18ff57c184ad3a64fd, 2bec082485b18844a9a278af7442cc782bffae541438cdecd352a3a39bd44895, 306081c8db15fbe3b8d2ae93fbea308facbc425311d41b80c131c771c8d617ad, 4e7ad7c68a5d171c39d9d716c0366efa20653ba4872a6cc04e925db6ab69b7f0, e231578ed55c47cf5673202877b0ebb23ffdac67dbbfc57aa74fae099d635718, 406c36e2293815cac7dda113a5355ed44d24835a7940cf97a314a0a5f4f6c3dc, 4fffd5626ff2d586a4cafd44706d42e0e7ee41a14cd2d3e2b2f6e5c73ff335c8, 34e0705fcd9e554ae8882a53747f06f4258ff7ba1162b7e5434faa5e5e43206e, 11cea333521679de1b0ec6382a8070194c5666553e9e6bd46746338de89341c3, 409766a34ef850e8df765a991d9c9ccecb2286e7554f3caf73cf45c273e64c32, 2e6d52444755696aa0ab4f111bff6252eaf574690a5d88c7ea1f1134388cc553, bbe535622d52279fdedac9b8a66a49e84685ed6f3a6c4f235e56b4e50ede2f66, 4d7fe21d8233c751537c05e4f4be05f352ebbc51a785ee04dc081965f1f2694d, 7d0621ddca97e6a27f2b158130f00bdeb624b2eda50711356799901523ab5f79, 07acd7bce3fd6cd1de01e66576e50dbf752269fdfe215da014eef4c6c25409cd, 83e2ee2c60e1037fbfdff3d3a301888812c68aecb261910b8d3c8285576a468f, 95c909cf0908795b48c591f9f5aa91e1a9e69dc677abb85e3d1c644465d48caf, 29e5c5bdcf06f2306396a7fd41452d1e5c8ea85248f75c44edd131357c63043a, fd57e6108b15cbdf7f42c2cfecbd4ea369bcb15bd6a311d814211e73c4298003, 2a8a68c0e74e640565c60d7f736d87e13864b96f4968fcf370c54e54ab285e08, 2e8dd1c00d24f96ee4e1df1f7911079e41954b75a942182f5cb321e5cd1d4753, cdd25e0f63f119521b36bdbaf5537f3dbc258b8d2285f3155830ccee120ac2c4, 7021ddbfda670acf667dcd941e2e54a1ffbab9296c852c00eab5de5d17d3e7d6, 5f11e088f8e9ac90d59d70fc262932c611b0aa838128577b9c7da8e48837d352, 5a1336001fb807b5afd1155d82cc726377b015747ebb5eec2ab5ad2c8d125c4f, ee67795843dafe298fbe22120c7e9fb598e6c6060e3acb31a3c65403cb182f7f, b8db6c096a631328671646de887189e408b40869e0c2c0a8bf70ed7e23f6dbf8, d2b39cda851f0e80658fb8890c8886aedf28a9e0a2d157240e4eaac6e3cab1c7, ca468621e73ac1647f0f9197d1497fb84b78d42befd51ddd9cb7630d385ed071, 9a58ef69b5d5d4699d37e7d276a62d0629e13dd2673e12de673b1147110151bf, bb16b5999a7018e6179c02c6d3a461d373a4c1994c655032e68a3e7ca6599b1b, 54eeca9a607c0c7651abf8318e996b751ee2b235578e33b927a220f7b58e57fb, 7fc7be8d7c9d4d36e8b1f683f0f349fc22a68c5af888221c48a4da8207b25eb9, ...]\nIndex: []\n\n[0 rows x 4519 columns]",
      "text/html": "<div>\n<style scoped>\n    .dataframe tbody tr th:only-of-type {\n        vertical-align: middle;\n    }\n\n    .dataframe tbody tr th {\n        vertical-align: top;\n    }\n\n    .dataframe thead th {\n        text-align: right;\n    }\n</style>\n<table border=\"1\" class=\"dataframe\">\n  <thead>\n    <tr style=\"text-align: right;\">\n      <th></th>\n      <th>adc5c75937bc7f7198f534d08b85bd50c9521bfd3f319a090932b5d0bae54de0</th>\n      <th>2372d71eb9ad6e6a70982e02bbe802db004ed49d91b2264c0a2e8e41571002cc</th>\n      <th>8735e268191e9e5cbd3d2a44ca53d297e31746b5f1e24b941db6225a25848353</th>\n      <th>18bcd22116c46919e03a3345f793c3859855227ac942e69dd13cbfcd588e1044</th>\n      <th>b94d8aa95fbdeb1bb832b01fbe5d6e9bf9fc36fceb14f7ba370a963f472fe35b</th>\n      <th>d6897267c1316d4c6be9d6f64332f470e4118225476847bf448abce7ab934145</th>\n      <th>51fd686c7abd00e1e7b5b31a436a921582b3babe46d1941714b38495ad3fe8ed</th>\n      <th>c118f163e77cf2c95f981bb2528b821379b5c498eb04ee346babd91d673bf9ec</th>\n      <th>6e8160a1e50fd0536d4e770490fbcfc20d7e7dc3c65bac762063ac097866947f</th>\n      <th>6f70ff714553a60e3404d55a941ff47a3e0dd4a9ba5cb9135f3e54f418b3a97f</th>\n      <th>...</th>\n      <th>fa25e4c61921862c0310a9802fb459b36b152d51d23ce58f5ec6d0a9251d27c2</th>\n      <th>fab01840d4d4652594130f3a64de72564dc3a342c516b2560cd7fe29284b82b9</th>\n      <th>fac3fd4870ae1b04d8c04b750851df65e38b74952c738ca09a5ec3dd9d0eaab1</th>\n      <th>fb041845214d88926218c03ec39f14e6fb9e46b36d32fa39dab38ce88cae65c3</th>\n      <th>fb207003cb281a1157be6a5c8580e87d9715c42ad78de4317a0a5b397ef955f3</th>\n      <th>fb64282022bd7a49e51b2548d2f325a8cbbea756702d619c024cf34c43ec1cfd</th>\n      <th>fc3912792c86de37ec7f6ffa7a0ce5d5d7b7c86f02ba890cdf0bb85a3628a792</th>\n      <th>fc8805ee2fd5f28dee01b1172f4ee9d4b3937c8578a92fae6720471685863814</th>\n      <th>fdd37416fae54311797c08c37956747d741ab86141a64da118c0d3c27a3ca69e</th>\n      <th>fefa88e8bcb8f19c1794526db7e241a1201a7aa6f05fedd25c09cee4b35c46f0</th>\n    </tr>\n  </thead>\n  <tbody>\n  </tbody>\n</table>\n<p>0 rows × 4519 columns</p>\n</div>"
     },
     "execution_count": 234,
     "metadata": {},
     "output_type": "execute_result"
    }
   ],
   "source": [
    "sim_matrix.loc[sim_matrix[sim_matrix.columns[0]] > 0.8]"
   ],
   "metadata": {
    "collapsed": false,
    "pycharm": {
     "name": "#%%\n"
    }
   }
  },
  {
   "cell_type": "code",
   "execution_count": 244,
   "outputs": [
    {
     "data": {
      "text/plain": "array([[-1.        ,  0.49651195,  0.4537221 , ...,  0.41812977,\n         0.41337107,  0.41584819],\n       [ 0.49651195, -1.        ,  0.45474067, ...,  0.41756185,\n         0.41733693,  0.44244148],\n       [ 0.4537221 ,  0.45474067, -1.        , ...,  0.41480356,\n         0.45723094,  0.44261967],\n       ...,\n       [ 0.41812977,  0.41756185,  0.41480356, ..., -1.        ,\n         0.41570733,  0.41569002],\n       [ 0.41337107,  0.41733693,  0.45723094, ...,  0.41570733,\n        -1.        ,  0.44599708],\n       [ 0.41584819,  0.44244148,  0.44261967, ...,  0.41569002,\n         0.44599708, -1.        ]])"
     },
     "execution_count": 244,
     "metadata": {},
     "output_type": "execute_result"
    }
   ],
   "source": [
    "sim_matrix.values"
   ],
   "metadata": {
    "collapsed": false,
    "pycharm": {
     "name": "#%%\n"
    }
   }
  },
  {
   "cell_type": "code",
   "execution_count": 263,
   "outputs": [],
   "source": [
    "tmp_matrix = np.array([[1, 2, 3, 5], [4, 5, 6, 12], [7, 8, 9, 53], [10, 11, 12, 36]])"
   ],
   "metadata": {
    "collapsed": false,
    "pycharm": {
     "name": "#%%\n"
    }
   }
  },
  {
   "cell_type": "code",
   "execution_count": 266,
   "outputs": [
    {
     "data": {
      "text/plain": "[2, 3, 5, 6, 12, 53]"
     },
     "execution_count": 266,
     "metadata": {},
     "output_type": "execute_result"
    }
   ],
   "source": [
    "[tmp_matrix[i][j] for i in range(0, tmp_matrix.shape[0])\n",
    " for j in range(i + 1, tmp_matrix.shape[1])]"
   ],
   "metadata": {
    "collapsed": false,
    "pycharm": {
     "name": "#%%\n"
    }
   }
  },
  {
   "cell_type": "code",
   "execution_count": 272,
   "outputs": [],
   "source": [
    "sim_values_list = similarity_matrix_to_array(sim_matrix.values)"
   ],
   "metadata": {
    "collapsed": false,
    "pycharm": {
     "name": "#%%\n"
    }
   }
  },
  {
   "cell_type": "code",
   "execution_count": 274,
   "outputs": [
    {
     "data": {
      "text/plain": "10208421"
     },
     "execution_count": 274,
     "metadata": {},
     "output_type": "execute_result"
    }
   ],
   "source": [
    "len(sim_values_list)"
   ],
   "metadata": {
    "collapsed": false,
    "pycharm": {
     "name": "#%%\n"
    }
   }
  },
  {
   "cell_type": "code",
   "execution_count": 277,
   "outputs": [
    {
     "data": {
      "text/plain": "[0.5,\n 0.45,\n 0.5,\n 0.47,\n 0.53,\n 0.45,\n 0.47,\n 0.45,\n 0.52,\n 0.46,\n 0.53,\n 0.49,\n 0.52,\n 0.47,\n 0.49,\n 0.51,\n 0.49,\n 0.49,\n 0.51,\n 0.53,\n 0.47,\n 0.48,\n 0.48,\n 0.49,\n 0.51,\n 0.5,\n 0.52,\n 0.49,\n 0.51,\n 0.51,\n 0.49,\n 0.48,\n 0.48,\n 0.47,\n 0.47,\n 0.47,\n 0.48,\n 0.49,\n 0.46,\n 0.49,\n 0.51,\n 0.46,\n 0.5,\n 0.49,\n 0.48,\n 0.48,\n 0.49,\n 0.46,\n 0.51,\n 0.46,\n 0.52,\n 0.45,\n 0.52,\n 0.51,\n 0.49,\n 0.47,\n 0.47,\n 0.47,\n 0.52,\n 0.47,\n 0.47,\n 0.48,\n 0.46,\n 0.48,\n 0.49,\n 0.48,\n 0.49,\n 0.49,\n 0.49,\n 0.48,\n 0.46,\n 0.46,\n 0.54,\n 0.47,\n 0.47,\n 0.5,\n 0.46,\n 0.45,\n 0.46,\n 0.46,\n 0.52,\n 0.49,\n 0.49,\n 0.51,\n 0.48,\n 0.49,\n 0.47,\n 0.53,\n 0.46,\n 0.48,\n 0.49,\n 0.45,\n 0.55,\n 0.49,\n 0.48,\n 0.49,\n 0.49,\n 0.48,\n 0.5,\n 0.5]"
     },
     "execution_count": 277,
     "metadata": {},
     "output_type": "execute_result"
    }
   ],
   "source": [
    "list(map(lambda x: round(x, 2), sim_values_list[:100]))"
   ],
   "metadata": {
    "collapsed": false,
    "pycharm": {
     "name": "#%%\n"
    }
   }
  },
  {
   "cell_type": "code",
   "execution_count": 278,
   "outputs": [
    {
     "data": {
      "text/plain": "<Figure size 432x288 with 1 Axes>",
      "image/png": "[encoded data removed]"
     },
     "metadata": {
      "needs_background": "light"
     },
     "output_type": "display_data"
    }
   ],
   "source": [
    "import matplotlib.pyplot as plt\n",
    "\n",
    "plt.hist(list(map(lambda x: round(x, 2), sim_values_list)))\n",
    "plt.show()\n"
   ],
   "metadata": {
    "collapsed": false,
    "pycharm": {
     "name": "#%%\n"
    }
   }
  }
 ],
 "metadata": {
  "kernelspec": {
   "display_name": "Python 3",
   "language": "python",
   "name": "python3"
  },
  "language_info": {
   "codemirror_mode": {
    "name": "ipython",
    "version": 2
   },
   "file_extension": ".py",
   "mimetype": "text/x-python",
   "name": "python",
   "nbconvert_exporter": "python",
   "pygments_lexer": "ipython2",
   "version": "2.7.6"
  }
 },
 "nbformat": 4,
 "nbformat_minor": 0
}