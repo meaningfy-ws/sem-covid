{
 "cells": [
  {
   "cell_type": "code",
   "execution_count": 5,
   "outputs": [],
   "source": [
    "import sys\n",
    "\n",
    "sys.path.append(\"/home/jovyan/work/sem-covid/\")\n",
    "sys.path = list(set(sys.path))\n",
    "import os\n",
    "\n",
    "os.getcwd()\n",
    "os.chdir('/home/jovyan/work/sem-covid/')\n",
    "from sem_covid import config\n",
    "from sem_covid.services.model_registry import embedding_registry\n",
    "from pathlib import Path\n",
    "from sem_covid.services.store_registry import store_registry\n",
    "import numpy as np\n",
    "import pandas as pd\n",
    "from scipy.spatial.distance import euclidean\n",
    "from sem_covid.services.semantic_similarity_pipelines.document_embedding_pipeline import DocumentEmbeddingPipeline\n",
    "from sem_covid.services.semantic_similarity_pipelines.document_similarity_pipeline import DocumentSimilarityPipeline"
   ],
   "metadata": {
    "collapsed": false,
    "pycharm": {
     "name": "#%%\n"
    }
   }
  },
  {
   "cell_type": "code",
   "execution_count": 1,
   "outputs": [],
   "source": [
    "def cosine(u, v):\n",
    "    return np.dot(u, v) / (np.linalg.norm(u) * np.linalg.norm(v))\n",
    "\n",
    "\n",
    "def similarity_func(u, v):\n",
    "    return 1 / (1 + euclidean(u, v))\n"
   ],
   "metadata": {
    "collapsed": false,
    "pycharm": {
     "name": "#%%\n"
    }
   }
  },
  {
   "cell_type": "code",
   "execution_count": 3,
   "outputs": [],
   "source": [
    "TEXTUAL_COLUMNS = ['title', 'background_info_description', 'content_of_measure_description',\n",
    "                   'use_of_measure_description', 'involvement_of_social_partners_description']\n",
    "\n",
    "DOCUMENT_EMBEDDINGS_FEATURE_STORE_NAME = 'fs_doc_emb_tfidf'\n",
    "\n",
    "DOCUMENTS_CONFIGS = {config.IRELAND_TIMELINE_ELASTIC_SEARCH_INDEX_NAME: ['title', 'content'],\n",
    "                     config.EU_TIMELINE_ELASTIC_SEARCH_INDEX_NAME: ['title', 'abstract', 'detail_content'],\n",
    "                     config.EU_CELLAR_ELASTIC_SEARCH_INDEX_NAME: ['title', 'content'],\n",
    "                     config.PWDB_ELASTIC_SEARCH_INDEX_NAME: TEXTUAL_COLUMNS\n",
    "                     }"
   ],
   "metadata": {
    "collapsed": false,
    "pycharm": {
     "name": "#%%\n"
    }
   }
  },
  {
   "cell_type": "code",
   "execution_count": null,
   "outputs": [],
   "source": [
    "for config_key in DOCUMENTS_CONFIGS.keys():\n",
    "    DocumentEmbeddingPipeline(es_index_name=config_key,\n",
    "                              textual_columns=DOCUMENTS_CONFIGS[config_key],\n",
    "                              embedding_model=embedding_registry.sent2vec_tfidf_avg(),\n",
    "                              embedding_model_name='TfIdfEmbeddingModel',\n",
    "                              store_registry=store_registry,\n",
    "                              doc_emb_feature_store_name=DOCUMENT_EMBEDDINGS_FEATURE_STORE_NAME\n",
    "                              ).execute()\n"
   ],
   "metadata": {
    "collapsed": false,
    "pycharm": {
     "name": "#%%\n"
    }
   }
  },
  {
   "cell_type": "code",
   "execution_count": null,
   "outputs": [],
   "source": [
    "\n",
    "doc_sim = DocumentSimilarityPipeline(document_embeddings_index=DOCUMENT_EMBEDDINGS_FEATURE_STORE_NAME,\n",
    "                                     similarity_metric=cosine,\n",
    "                                     similarity_metric_name='cosine_similarity',\n",
    "                                     store_registry=store_registry\n",
    "                                     )"
   ],
   "metadata": {
    "collapsed": false,
    "pycharm": {
     "name": "#%%\n"
    }
   }
  },
  {
   "cell_type": "code",
   "execution_count": null,
   "outputs": [],
   "source": [
    "class SemanticSimilaritySamplingPipeline:\n",
    "\n",
    "    def __init__(self, semantic_similarity_index_name:str,\n",
    "                 doc_emb_feature_store_name:str,\n",
    "                 sample_index_name:str,\n",
    "                 sample_size: int,\n",
    "                 metric_column_name: str\n",
    "                 ,\n",
    "                 ):\n",
    "        self.semantic_similarity_index_name = semantic_similarity_index_name\n",
    "        self.doc_emb_feature_store_name = doc_emb_feature_store_name\n",
    "        self.metric_column_name = metric_column_name\n",
    "        self.sample_index_name = sample_index_name\n",
    "        self.sample_size = sample_size\n",
    "\n",
    "    def load_data(self):\n",
    "        es_store = store_registry.es_index_store()\n",
    "        self.sm_eu_cellar_x_pwdb_df = es_store.get_dataframe(index_name=self.semantic_similarity_index_name)\n",
    "        self.doc_emb_df = es_store.get_dataframe(index_name=self.doc_emb_feature_store_name)\n",
    "\n",
    "    def compute_sampling(self):\n",
    "        self.sm_eu_cellar_x_pwdb_df.sort_values(by=self.metric_column_name,inplace=True)\n",
    "        step = math.floor(len(self.sm_eu_cellar_x_pwdb_df)/self.sample_size)\n",
    "        self.sm_sample = self.sm_eu_cellar_x_pwdb_df.iloc[:n*step:step]\n",
    "        self.sm_sample['text_left'] = self.sm_sample.apply(lambda df_row: self.doc_emb_df.loc[df_row[0],'text'], axis=1)\n",
    "        self.sm_sample['text_right'] = self.sm_sample.apply(lambda df_row: self.doc_emb_df.loc[df_row[1],'text'], axis=1)\n",
    "\n",
    "    def store_sample(self):\n",
    "        es_store = store_registry.es_index_store()\n",
    "        es_store.put_dataframe(index_name=self.sample_index_name,content=self.sm_sample)\n",
    "\n",
    "    def execute(self):\n",
    "        self.load_data()\n",
    "        self.compute_sampling()\n",
    "        self.store_sample()"
   ],
   "metadata": {
    "collapsed": false,
    "pycharm": {
     "name": "#%%\n"
    }
   }
  },
  {
   "cell_type": "code",
   "execution_count": null,
   "outputs": [],
   "source": [
    "doc_sim.execute()"
   ],
   "metadata": {
    "collapsed": false,
    "pycharm": {
     "name": "#%%\n"
    }
   }
  },
  {
   "cell_type": "code",
   "execution_count": 6,
   "outputs": [],
   "source": [
    "es_store = store_registry.es_index_store()"
   ],
   "metadata": {
    "collapsed": false,
    "pycharm": {
     "name": "#%%\n"
    }
   }
  },
  {
   "cell_type": "code",
   "execution_count": 8,
   "outputs": [],
   "source": [
    "SM_EU_CELLAR_X_PWDB = 'sm_ds_eu_cellar_x_ds_pwdb_tfidfembeddingmodel_cosine_similarity'"
   ],
   "metadata": {
    "collapsed": false,
    "pycharm": {
     "name": "#%%\n"
    }
   }
  },
  {
   "cell_type": "code",
   "execution_count": 9,
   "outputs": [
    {
     "name": "stderr",
     "output_type": "stream",
     "text": [
      "100% (835912 of 835912) |################| Elapsed Time: 0:00:13 Time:  0:00:13\n"
     ]
    }
   ],
   "source": [
    "sm_eu_cellar_x_pwdb_df = es_store.get_dataframe(index_name=SM_EU_CELLAR_X_PWDB)"
   ],
   "metadata": {
    "collapsed": false,
    "pycharm": {
     "name": "#%%\n"
    }
   }
  },
  {
   "cell_type": "code",
   "execution_count": 10,
   "outputs": [
    {
     "name": "stderr",
     "output_type": "stream",
     "text": [
      "100% (2490 of 2490) |####################| Elapsed Time: 0:00:00 Time:  0:00:00\n"
     ]
    }
   ],
   "source": [
    "doc_emb_df = es_store.get_dataframe(index_name=DOCUMENT_EMBEDDINGS_FEATURE_STORE_NAME)"
   ],
   "metadata": {
    "collapsed": false,
    "pycharm": {
     "name": "#%%\n"
    }
   }
  },
  {
   "cell_type": "code",
   "execution_count": 13,
   "outputs": [],
   "source": [
    "sm_eu_cellar_x_pwdb_df.sort_values(by='cosine_similarity',inplace=True)"
   ],
   "metadata": {
    "collapsed": false,
    "pycharm": {
     "name": "#%%\n"
    }
   }
  },
  {
   "cell_type": "code",
   "execution_count": 67,
   "outputs": [],
   "source": [
    "import math\n",
    "n = 10000"
   ],
   "metadata": {
    "collapsed": false,
    "pycharm": {
     "name": "#%%\n"
    }
   }
  },
  {
   "cell_type": "code",
   "execution_count": 68,
   "outputs": [],
   "source": [
    "step = math.floor(len(sm_eu_cellar_x_pwdb_df)/n)"
   ],
   "metadata": {
    "collapsed": false,
    "pycharm": {
     "name": "#%%\n"
    }
   }
  },
  {
   "cell_type": "code",
   "execution_count": 69,
   "outputs": [],
   "source": [
    "sm_slice = sm_eu_cellar_x_pwdb_df.iloc[:n*step:step]"
   ],
   "metadata": {
    "collapsed": false,
    "pycharm": {
     "name": "#%%\n"
    }
   }
  },
  {
   "cell_type": "code",
   "execution_count": 71,
   "outputs": [],
   "source": [
    "sm_slice['text_left'] = sm_slice.apply(lambda df_row: doc_emb_df.loc[df_row[0],'text'], axis=1)\n",
    "sm_slice['text_right'] = sm_slice.apply(lambda df_row: doc_emb_df.loc[df_row[1],'text'], axis=1)"
   ],
   "metadata": {
    "collapsed": false,
    "pycharm": {
     "name": "#%%\n"
    }
   }
  },
  {
   "cell_type": "code",
   "execution_count": 73,
   "outputs": [
    {
     "name": "stderr",
     "output_type": "stream",
     "text": [
      " 98% (9874 of 10000) |################## | Elapsed Time: 0:00:00 ETA:   0:00:00"
     ]
    },
    {
     "data": {
      "text/plain": "10000"
     },
     "execution_count": 73,
     "metadata": {},
     "output_type": "execute_result"
    }
   ],
   "source": [
    "es_store.put_dataframe(index_name='sm_eu_cellar_x_pwdb_sample_tf_idf_emb_cosine',content=sm_slice)\n"
   ],
   "metadata": {
    "collapsed": false,
    "pycharm": {
     "name": "#%%\n"
    }
   }
  }
 ],
 "metadata": {
  "kernelspec": {
   "display_name": "Python 3",
   "language": "python",
   "name": "python3"
  },
  "language_info": {
   "codemirror_mode": {
    "name": "ipython",
    "version": 2
   },
   "file_extension": ".py",
   "mimetype": "text/x-python",
   "name": "python",
   "nbconvert_exporter": "python",
   "pygments_lexer": "ipython2",
   "version": "2.7.6"
  }
 },
 "nbformat": 4,
 "nbformat_minor": 0
}