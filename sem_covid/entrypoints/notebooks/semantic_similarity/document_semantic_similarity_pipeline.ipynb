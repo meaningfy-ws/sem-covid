{
 "cells": [
  {
   "cell_type": "code",
   "execution_count": 27,
   "metadata": {
    "collapsed": true
   },
   "outputs": [],
   "source": [
    "import sys\n",
    "\n",
    "sys.path.append(\"/home/jovyan/work/sem-covid/\")\n",
    "sys.path = list(set(sys.path))\n",
    "import os\n",
    "os.getcwd()\n",
    "os.chdir('/home/jovyan/work/sem-covid/')"
   ]
  },
  {
   "cell_type": "code",
   "execution_count": 5,
   "outputs": [],
   "source": [
    "\n",
    "import tensorflow_hub as hub\n",
    "import numpy as np"
   ],
   "metadata": {
    "collapsed": false,
    "pycharm": {
     "name": "#%%\n"
    }
   }
  },
  {
   "cell_type": "code",
   "execution_count": 6,
   "outputs": [
    {
     "name": "stdout",
     "output_type": "stream",
     "text": [
      "module https://tfhub.dev/google/universal-sentence-encoder/4 loaded\n"
     ]
    }
   ],
   "source": [
    "module_url = \"https://tfhub.dev/google/universal-sentence-encoder/4\"\n",
    "model = hub.load(module_url)\n",
    "print (\"module %s loaded\" % module_url)\n"
   ],
   "metadata": {
    "collapsed": false,
    "pycharm": {
     "name": "#%%\n"
    }
   }
  },
  {
   "cell_type": "code",
   "execution_count": 7,
   "outputs": [],
   "source": [
    "sentences = [\"I ate dinner.\",\n",
    "       \"We had a three-course meal.\",\n",
    "       \"Brad came to dinner with us.\",\n",
    "       \"He loves fish tacos.\",\n",
    "       \"In the end, we all felt like we ate too much.\",\n",
    "       \"We all agreed; it was a magnificent evening.\"]"
   ],
   "metadata": {
    "collapsed": false,
    "pycharm": {
     "name": "#%%\n"
    }
   }
  },
  {
   "cell_type": "code",
   "execution_count": 8,
   "outputs": [],
   "source": [
    "def cosine(u, v):\n",
    "    return np.dot(u, v) / (np.linalg.norm(u) * np.linalg.norm(v))"
   ],
   "metadata": {
    "collapsed": false,
    "pycharm": {
     "name": "#%%\n"
    }
   }
  },
  {
   "cell_type": "code",
   "execution_count": 17,
   "outputs": [],
   "source": [
    "sentence_embeddings = model(sentences)\n",
    "query = \"Sam came to breakfast with us.\"\n",
    "query_vec = model([query])[0]"
   ],
   "metadata": {
    "collapsed": false,
    "pycharm": {
     "name": "#%%\n"
    }
   }
  },
  {
   "cell_type": "code",
   "execution_count": 34,
   "outputs": [],
   "source": [
    "my_dict = {}\n",
    "for index in range(0,len(sentences)):\n",
    "    my_dict[sentences[index]] = list(sentence_embeddings[index])"
   ],
   "metadata": {
    "collapsed": false,
    "pycharm": {
     "name": "#%%\n"
    }
   }
  },
  {
   "cell_type": "code",
   "execution_count": 29,
   "outputs": [],
   "source": [
    "import pandas as pd\n",
    "from scipy.spatial.distance import euclidean, pdist, squareform\n",
    "\n",
    "\n",
    "def similarity_func(u, v):\n",
    "    return 1/(1+euclidean(u,v))"
   ],
   "metadata": {
    "collapsed": false,
    "pycharm": {
     "name": "#%%\n"
    }
   }
  },
  {
   "cell_type": "code",
   "execution_count": 39,
   "outputs": [],
   "source": [
    "DF_var = pd.DataFrame.from_dict({\"s1\":[1.2,3.4,10.2],\"s2\":[1.4,3.1,10.7],\"s3\":[2.1,3.7,11.3],\"s4\":[1.5,3.2,10.9]})\n",
    "DF_var.index = [\"g1\",\"g2\",\"g3\"]\n",
    "\n",
    "dists = pdist(DF_var, similarity_func)\n",
    "DF_euclid = pd.DataFrame(squareform(dists), columns=DF_var.index, index=DF_var.index)"
   ],
   "metadata": {
    "collapsed": false,
    "pycharm": {
     "name": "#%%\n"
    }
   }
  },
  {
   "cell_type": "code",
   "execution_count": 42,
   "outputs": [],
   "source": [
    "from sklearn.metrics.pairwise import pairwise_distances"
   ],
   "metadata": {
    "collapsed": false,
    "pycharm": {
     "name": "#%%\n"
    }
   }
  },
  {
   "cell_type": "code",
   "execution_count": 46,
   "outputs": [
    {
     "data": {
      "text/plain": "                                               I ate dinner.  \\\nI ate dinner.                                       1.000000   \nWe had a three-course meal.                         0.528034   \nBrad came to dinner with us.                        0.473817   \nHe loves fish tacos.                                0.442395   \nIn the end, we all felt like we ate too much.       0.451878   \nWe all agreed; it was a magnificent evening.        0.434089   \n\n                                               We had a three-course meal.  \\\nI ate dinner.                                                     0.528034   \nWe had a three-course meal.                                       1.000000   \nBrad came to dinner with us.                                      0.475007   \nHe loves fish tacos.                                              0.453022   \nIn the end, we all felt like we ate too much.                     0.468335   \nWe all agreed; it was a magnificent evening.                      0.465753   \n\n                                               Brad came to dinner with us.  \\\nI ate dinner.                                                      0.473817   \nWe had a three-course meal.                                        0.475007   \nBrad came to dinner with us.                                       1.000000   \nHe loves fish tacos.                                               0.435233   \nIn the end, we all felt like we ate too much.                      0.424850   \nWe all agreed; it was a magnificent evening.                       0.439880   \n\n                                               He loves fish tacos.  \\\nI ate dinner.                                              0.442395   \nWe had a three-course meal.                                0.453022   \nBrad came to dinner with us.                               0.435233   \nHe loves fish tacos.                                       1.000000   \nIn the end, we all felt like we ate too much.              0.428430   \nWe all agreed; it was a magnificent evening.               0.425791   \n\n                                               In the end, we all felt like we ate too much.  \\\nI ate dinner.                                                                       0.451878   \nWe had a three-course meal.                                                         0.468335   \nBrad came to dinner with us.                                                        0.424850   \nHe loves fish tacos.                                                                0.428430   \nIn the end, we all felt like we ate too much.                                       1.000000   \nWe all agreed; it was a magnificent evening.                                        0.476045   \n\n                                               We all agreed; it was a magnificent evening.  \nI ate dinner.                                                                      0.434089  \nWe had a three-course meal.                                                        0.465753  \nBrad came to dinner with us.                                                       0.439880  \nHe loves fish tacos.                                                               0.425791  \nIn the end, we all felt like we ate too much.                                      0.476045  \nWe all agreed; it was a magnificent evening.                                       1.000000  ",
      "text/html": "<div>\n<style scoped>\n    .dataframe tbody tr th:only-of-type {\n        vertical-align: middle;\n    }\n\n    .dataframe tbody tr th {\n        vertical-align: top;\n    }\n\n    .dataframe thead th {\n        text-align: right;\n    }\n</style>\n<table border=\"1\" class=\"dataframe\">\n  <thead>\n    <tr style=\"text-align: right;\">\n      <th></th>\n      <th>I ate dinner.</th>\n      <th>We had a three-course meal.</th>\n      <th>Brad came to dinner with us.</th>\n      <th>He loves fish tacos.</th>\n      <th>In the end, we all felt like we ate too much.</th>\n      <th>We all agreed; it was a magnificent evening.</th>\n    </tr>\n  </thead>\n  <tbody>\n    <tr>\n      <th>I ate dinner.</th>\n      <td>1.000000</td>\n      <td>0.528034</td>\n      <td>0.473817</td>\n      <td>0.442395</td>\n      <td>0.451878</td>\n      <td>0.434089</td>\n    </tr>\n    <tr>\n      <th>We had a three-course meal.</th>\n      <td>0.528034</td>\n      <td>1.000000</td>\n      <td>0.475007</td>\n      <td>0.453022</td>\n      <td>0.468335</td>\n      <td>0.465753</td>\n    </tr>\n    <tr>\n      <th>Brad came to dinner with us.</th>\n      <td>0.473817</td>\n      <td>0.475007</td>\n      <td>1.000000</td>\n      <td>0.435233</td>\n      <td>0.424850</td>\n      <td>0.439880</td>\n    </tr>\n    <tr>\n      <th>He loves fish tacos.</th>\n      <td>0.442395</td>\n      <td>0.453022</td>\n      <td>0.435233</td>\n      <td>1.000000</td>\n      <td>0.428430</td>\n      <td>0.425791</td>\n    </tr>\n    <tr>\n      <th>In the end, we all felt like we ate too much.</th>\n      <td>0.451878</td>\n      <td>0.468335</td>\n      <td>0.424850</td>\n      <td>0.428430</td>\n      <td>1.000000</td>\n      <td>0.476045</td>\n    </tr>\n    <tr>\n      <th>We all agreed; it was a magnificent evening.</th>\n      <td>0.434089</td>\n      <td>0.465753</td>\n      <td>0.439880</td>\n      <td>0.425791</td>\n      <td>0.476045</td>\n      <td>1.000000</td>\n    </tr>\n  </tbody>\n</table>\n</div>"
     },
     "execution_count": 46,
     "metadata": {},
     "output_type": "execute_result"
    }
   ],
   "source": [
    "pd.DataFrame(pairwise_distances(sentence_embeddings, metric=similarity_func), columns=sentences, index = sentences)"
   ],
   "metadata": {
    "collapsed": false,
    "pycharm": {
     "name": "#%%\n"
    }
   }
  },
  {
   "cell_type": "code",
   "execution_count": 35,
   "outputs": [],
   "source": [
    "my_df = pd.DataFrame(my_dict)"
   ],
   "metadata": {
    "collapsed": false,
    "pycharm": {
     "name": "#%%\n"
    }
   }
  },
  {
   "cell_type": "code",
   "execution_count": 38,
   "outputs": [
    {
     "data": {
      "text/plain": "array([[0.        , 0.90051244, 0.81759991, ..., 0.84775377, 0.83364561,\n        0.91999471],\n       [0.90051244, 0.        , 0.88150386, ..., 0.90325164, 0.88599647,\n        0.85497471],\n       [0.81759991, 0.88150386, 0.        , ..., 0.87786559, 0.89468757,\n        0.78265109],\n       ...,\n       [0.84775377, 0.90325164, 0.87786559, ..., 0.        , 0.86845549,\n        0.83475636],\n       [0.83364561, 0.88599647, 0.89468757, ..., 0.86845549, 0.        ,\n        0.80037572],\n       [0.91999471, 0.85497471, 0.78265109, ..., 0.83475636, 0.80037572,\n        0.        ]])"
     },
     "execution_count": 38,
     "metadata": {},
     "output_type": "execute_result"
    }
   ],
   "source": [
    "squareform(pdist(my_df,similarity_func))"
   ],
   "metadata": {
    "collapsed": false,
    "pycharm": {
     "name": "#%%\n"
    }
   }
  },
  {
   "cell_type": "code",
   "execution_count": 18,
   "outputs": [
    {
     "name": "stdout",
     "output_type": "stream",
     "text": [
      "Sentence =  I ate dinner. ; similarity =  0.2298401\n",
      "Sentence =  We had a three-course meal. ; similarity =  0.3595812\n",
      "Sentence =  Brad came to dinner with us. ; similarity =  0.44425395\n",
      "Sentence =  He loves fish tacos. ; similarity =  0.15107124\n",
      "Sentence =  In the end, we all felt like we ate too much. ; similarity =  0.13258228\n",
      "Sentence =  We all agreed; it was a magnificent evening. ; similarity =  0.15228067\n"
     ]
    }
   ],
   "source": [
    "for sent in sentences:\n",
    "  sim = cosine(query_vec, model([sent])[0])\n",
    "  print(\"Sentence = \", sent, \"; similarity = \", sim)\n"
   ],
   "metadata": {
    "collapsed": false,
    "pycharm": {
     "name": "#%%\n"
    }
   }
  }
 ],
 "metadata": {
  "kernelspec": {
   "display_name": "Python 3",
   "language": "python",
   "name": "python3"
  },
  "language_info": {
   "codemirror_mode": {
    "name": "ipython",
    "version": 2
   },
   "file_extension": ".py",
   "mimetype": "text/x-python",
   "name": "python",
   "nbconvert_exporter": "python",
   "pygments_lexer": "ipython2",
   "version": "2.7.6"
  }
 },
 "nbformat": 4,
 "nbformat_minor": 0
}