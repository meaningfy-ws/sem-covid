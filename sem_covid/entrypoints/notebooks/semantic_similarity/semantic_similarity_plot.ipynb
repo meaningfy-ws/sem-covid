{
 "cells": [
  {
   "cell_type": "markdown",
   "metadata": {
    "collapsed": true,
    "pycharm": {
     "name": "#%% md\n"
    }
   },
   "source": [
    "## Import libraries"
   ]
  },
  {
   "cell_type": "code",
   "execution_count": 1,
   "outputs": [],
   "source": [
    "import sys\n",
    "\n",
    "import pandas as pd\n",
    "\n",
    "sys.path.append(\"/home/jovyan/work/sem-covid/\")\n",
    "sys.path = list(set(sys.path))\n",
    "import os\n",
    "\n",
    "os.getcwd()\n",
    "os.chdir('/home/jovyan/work/sem-covid/')\n",
    "from sem_covid.services.store_registry import store_registry\n",
    "from sem_covid import config"
   ],
   "metadata": {
    "collapsed": false,
    "pycharm": {
     "name": "#%%\n"
    }
   }
  },
  {
   "cell_type": "markdown",
   "source": [
    "## Define constants"
   ],
   "metadata": {
    "collapsed": false,
    "pycharm": {
     "name": "#%% md\n"
    }
   }
  },
  {
   "cell_type": "code",
   "execution_count": 5,
   "outputs": [],
   "source": [
    "DOCUMENT_EMBEDDINGS_FEATURE_STORE_NAME = 'fs_doc_emb_tfidf'\n",
    "UNIFIED_DATASET = 'ds_unified_datasets'"
   ],
   "metadata": {
    "collapsed": false,
    "pycharm": {
     "name": "#%%\n"
    }
   }
  },
  {
   "cell_type": "code",
   "execution_count": 2,
   "outputs": [],
   "source": [
    "es_store = store_registry.es_index_store()"
   ],
   "metadata": {
    "collapsed": false,
    "pycharm": {
     "name": "#%%\n"
    }
   }
  },
  {
   "cell_type": "code",
   "execution_count": 6,
   "outputs": [
    {
     "name": "stderr",
     "output_type": "stream",
     "text": [
      "100% (4126 of 4126) |####################| Elapsed Time: 0:00:00 Time:  0:00:00\n"
     ]
    }
   ],
   "source": [
    "df = es_store.get_dataframe(index_name=UNIFIED_DATASET)"
   ],
   "metadata": {
    "collapsed": false,
    "pycharm": {
     "name": "#%%\n"
    }
   }
  },
  {
   "cell_type": "code",
   "execution_count": 14,
   "outputs": [
    {
     "name": "stderr",
     "output_type": "stream",
     "text": [
      "100% (2490 of 2490) |####################| Elapsed Time: 0:00:00 Time:  0:00:00\n"
     ]
    }
   ],
   "source": [
    "doc_emb = es_store.get_dataframe(index_name=DOCUMENT_EMBEDDINGS_FEATURE_STORE_NAME)"
   ],
   "metadata": {
    "collapsed": false,
    "pycharm": {
     "name": "#%%\n"
    }
   }
  },
  {
   "cell_type": "code",
   "execution_count": 77,
   "outputs": [],
   "source": [
    "import random\n",
    "import datetime\n",
    "\n",
    "\n",
    "def random_date() -> datetime.date:\n",
    "    start_date = datetime.date(2019, 1, 1)\n",
    "    end_date = datetime.date(2021, 1, 1)\n",
    "    time_between_dates = end_date - start_date\n",
    "    days_between_dates = time_between_dates.days\n",
    "    random_number_of_days = random.randrange(days_between_dates)\n",
    "    result_date = start_date + datetime.timedelta(days=random_number_of_days)\n",
    "    return result_date"
   ],
   "metadata": {
    "collapsed": false,
    "pycharm": {
     "name": "#%%\n"
    }
   }
  },
  {
   "cell_type": "code",
   "execution_count": 69,
   "outputs": [
    {
     "name": "stdout",
     "output_type": "stream",
     "text": [
      "731\n"
     ]
    },
    {
     "data": {
      "text/plain": "datetime.date(2020, 5, 13)"
     },
     "execution_count": 69,
     "metadata": {},
     "output_type": "execute_result"
    }
   ],
   "source": [
    "random_date()"
   ],
   "metadata": {
    "collapsed": false,
    "pycharm": {
     "name": "#%%\n"
    }
   }
  },
  {
   "cell_type": "code",
   "execution_count": 84,
   "outputs": [],
   "source": [
    "import pandas as pd\n",
    "\n",
    "sample_size = 10\n",
    "date_x = [random_date() for n in range(0, sample_size)]\n",
    "date_y = [random_date() for n in range(0, sample_size)]\n",
    "date_x.sort()\n",
    "date_y.sort()\n",
    "test_df = pd.DataFrame([(dx, dy, random.random())\n",
    "                        for dx in date_x for dy in date_y\n",
    "                        ], columns=['date_x', 'date_y', 'similarity'])\n",
    "#test_df['date_x'] = date_x\n",
    "#test_df['date_y'] = date_y\n",
    "#test_df['similarity'] = [random.random() for n in range(0,sample_size)]"
   ],
   "metadata": {
    "collapsed": false,
    "pycharm": {
     "name": "#%%\n"
    }
   }
  },
  {
   "cell_type": "code",
   "execution_count": 85,
   "outputs": [
    {
     "data": {
      "text/plain": "        date_x      date_y  similarity\n0   2019-05-26  2019-01-22    0.471705\n1   2019-05-26  2019-03-15    0.400265\n2   2019-05-26  2019-05-24    0.825433\n3   2019-05-26  2019-08-28    0.581902\n4   2019-05-26  2020-01-25    0.716074\n..         ...         ...         ...\n95  2020-11-25  2020-04-13    0.877905\n96  2020-11-25  2020-04-30    0.671117\n97  2020-11-25  2020-06-03    0.440572\n98  2020-11-25  2020-09-09    0.961443\n99  2020-11-25  2020-12-06    0.895526\n\n[100 rows x 3 columns]",
      "text/html": "<div>\n<style scoped>\n    .dataframe tbody tr th:only-of-type {\n        vertical-align: middle;\n    }\n\n    .dataframe tbody tr th {\n        vertical-align: top;\n    }\n\n    .dataframe thead th {\n        text-align: right;\n    }\n</style>\n<table border=\"1\" class=\"dataframe\">\n  <thead>\n    <tr style=\"text-align: right;\">\n      <th></th>\n      <th>date_x</th>\n      <th>date_y</th>\n      <th>similarity</th>\n    </tr>\n  </thead>\n  <tbody>\n    <tr>\n      <th>0</th>\n      <td>2019-05-26</td>\n      <td>2019-01-22</td>\n      <td>0.471705</td>\n    </tr>\n    <tr>\n      <th>1</th>\n      <td>2019-05-26</td>\n      <td>2019-03-15</td>\n      <td>0.400265</td>\n    </tr>\n    <tr>\n      <th>2</th>\n      <td>2019-05-26</td>\n      <td>2019-05-24</td>\n      <td>0.825433</td>\n    </tr>\n    <tr>\n      <th>3</th>\n      <td>2019-05-26</td>\n      <td>2019-08-28</td>\n      <td>0.581902</td>\n    </tr>\n    <tr>\n      <th>4</th>\n      <td>2019-05-26</td>\n      <td>2020-01-25</td>\n      <td>0.716074</td>\n    </tr>\n    <tr>\n      <th>...</th>\n      <td>...</td>\n      <td>...</td>\n      <td>...</td>\n    </tr>\n    <tr>\n      <th>95</th>\n      <td>2020-11-25</td>\n      <td>2020-04-13</td>\n      <td>0.877905</td>\n    </tr>\n    <tr>\n      <th>96</th>\n      <td>2020-11-25</td>\n      <td>2020-04-30</td>\n      <td>0.671117</td>\n    </tr>\n    <tr>\n      <th>97</th>\n      <td>2020-11-25</td>\n      <td>2020-06-03</td>\n      <td>0.440572</td>\n    </tr>\n    <tr>\n      <th>98</th>\n      <td>2020-11-25</td>\n      <td>2020-09-09</td>\n      <td>0.961443</td>\n    </tr>\n    <tr>\n      <th>99</th>\n      <td>2020-11-25</td>\n      <td>2020-12-06</td>\n      <td>0.895526</td>\n    </tr>\n  </tbody>\n</table>\n<p>100 rows × 3 columns</p>\n</div>"
     },
     "execution_count": 85,
     "metadata": {},
     "output_type": "execute_result"
    }
   ],
   "source": [
    "test_df"
   ],
   "metadata": {
    "collapsed": false,
    "pycharm": {
     "name": "#%%\n"
    }
   }
  },
  {
   "cell_type": "code",
   "execution_count": 87,
   "outputs": [
    {
     "data": {
      "application/vnd.plotly.v1+json": {
       "config": {
        "plotlyServerURL": "https://plot.ly"
       },
       "data": [
        {
         "hovertemplate": "date_x=%{x}<br>date_y=%{y}<br>similarity=%{marker.color}<extra></extra>",
         "legendgroup": "",
         "marker": {
          "color": [
           0.47170491594624864,
           0.40026521794702286,
           0.8254334815816723,
           0.5819022084714816,
           0.7160741557791279,
           0.3996235743661133,
           0.734164155302153,
           0.30907801158294024,
           0.4374927902530863,
           0.9041483213946887,
           0.9081960292135851,
           0.8699320138976977,
           0.9021673662363713,
           0.9630176163311441,
           0.38223756269876386,
           0.2808550932242835,
           0.13797678192938045,
           0.11804768024934931,
           0.00766791141640788,
           0.30317917392593274,
           0.18133596591548073,
           0.37137914025978647,
           0.19551764870187616,
           0.16927909312204825,
           0.8935497154581657,
           0.7911439542280313,
           0.45270074804695126,
           0.6622865413542982,
           0.45747385253125317,
           0.8611497737455044,
           0.12242813590954216,
           0.2156840771919285,
           0.22377661171913688,
           0.9877817733534484,
           0.3371016444626941,
           0.29144731774485466,
           0.19227325624316027,
           0.8053939802837509,
           0.359303658124688,
           0.10689736699483343,
           0.7148604058028408,
           0.46721921077168216,
           0.62540765668472,
           0.12101824005230422,
           0.503728637761604,
           0.6453839628242684,
           0.3519170859558173,
           0.40347430947270724,
           0.9526989974738894,
           0.43473068699952566,
           0.06398808982650228,
           0.8091010422747709,
           0.40784088836425814,
           0.17573243885753087,
           0.5924957289604743,
           0.12068137987285954,
           0.030023094707298914,
           0.809226163220018,
           0.00891830673342242,
           0.07559902446907896,
           0.41749930426016224,
           0.6884197019299991,
           0.9553882698918794,
           0.8929923580564777,
           0.5344871381167634,
           0.49803675797631886,
           0.697554022299184,
           0.36160691897102293,
           0.7275945573445509,
           0.40651691556926595,
           0.06602425558849023,
           0.22316182997554712,
           0.7938986007330602,
           0.9886351847764423,
           0.6690571284655737,
           0.9185277616761837,
           0.01553089491741233,
           0.06229076446885273,
           0.5805680751104226,
           0.413222897909473,
           0.6126870606020874,
           0.9079080696891184,
           0.9070552977281428,
           0.36933920581694935,
           0.6494998248265175,
           0.8556666812063842,
           0.06883299185928371,
           0.6311629949498244,
           0.7363628792402475,
           0.3385310538479669,
           0.3391828575426842,
           0.7359102841277003,
           0.8510837588345407,
           0.37964168265274034,
           0.3159352193516344,
           0.877905382822748,
           0.671117013152719,
           0.4405716450808719,
           0.9614427677150713,
           0.895526448622984
          ],
          "coloraxis": "coloraxis",
          "symbol": "circle"
         },
         "mode": "markers",
         "name": "",
         "scene": "scene",
         "showlegend": false,
         "type": "scatter3d",
         "x": [
          "2019-05-26",
          "2019-05-26",
          "2019-05-26",
          "2019-05-26",
          "2019-05-26",
          "2019-05-26",
          "2019-05-26",
          "2019-05-26",
          "2019-05-26",
          "2019-05-26",
          "2019-06-26",
          "2019-06-26",
          "2019-06-26",
          "2019-06-26",
          "2019-06-26",
          "2019-06-26",
          "2019-06-26",
          "2019-06-26",
          "2019-06-26",
          "2019-06-26",
          "2019-07-29",
          "2019-07-29",
          "2019-07-29",
          "2019-07-29",
          "2019-07-29",
          "2019-07-29",
          "2019-07-29",
          "2019-07-29",
          "2019-07-29",
          "2019-07-29",
          "2019-09-11",
          "2019-09-11",
          "2019-09-11",
          "2019-09-11",
          "2019-09-11",
          "2019-09-11",
          "2019-09-11",
          "2019-09-11",
          "2019-09-11",
          "2019-09-11",
          "2019-09-27",
          "2019-09-27",
          "2019-09-27",
          "2019-09-27",
          "2019-09-27",
          "2019-09-27",
          "2019-09-27",
          "2019-09-27",
          "2019-09-27",
          "2019-09-27",
          "2019-10-07",
          "2019-10-07",
          "2019-10-07",
          "2019-10-07",
          "2019-10-07",
          "2019-10-07",
          "2019-10-07",
          "2019-10-07",
          "2019-10-07",
          "2019-10-07",
          "2019-10-17",
          "2019-10-17",
          "2019-10-17",
          "2019-10-17",
          "2019-10-17",
          "2019-10-17",
          "2019-10-17",
          "2019-10-17",
          "2019-10-17",
          "2019-10-17",
          "2020-02-23",
          "2020-02-23",
          "2020-02-23",
          "2020-02-23",
          "2020-02-23",
          "2020-02-23",
          "2020-02-23",
          "2020-02-23",
          "2020-02-23",
          "2020-02-23",
          "2020-09-19",
          "2020-09-19",
          "2020-09-19",
          "2020-09-19",
          "2020-09-19",
          "2020-09-19",
          "2020-09-19",
          "2020-09-19",
          "2020-09-19",
          "2020-09-19",
          "2020-11-25",
          "2020-11-25",
          "2020-11-25",
          "2020-11-25",
          "2020-11-25",
          "2020-11-25",
          "2020-11-25",
          "2020-11-25",
          "2020-11-25",
          "2020-11-25"
         ],
         "y": [
          "2019-01-22",
          "2019-03-15",
          "2019-05-24",
          "2019-08-28",
          "2020-01-25",
          "2020-04-13",
          "2020-04-30",
          "2020-06-03",
          "2020-09-09",
          "2020-12-06",
          "2019-01-22",
          "2019-03-15",
          "2019-05-24",
          "2019-08-28",
          "2020-01-25",
          "2020-04-13",
          "2020-04-30",
          "2020-06-03",
          "2020-09-09",
          "2020-12-06",
          "2019-01-22",
          "2019-03-15",
          "2019-05-24",
          "2019-08-28",
          "2020-01-25",
          "2020-04-13",
          "2020-04-30",
          "2020-06-03",
          "2020-09-09",
          "2020-12-06",
          "2019-01-22",
          "2019-03-15",
          "2019-05-24",
          "2019-08-28",
          "2020-01-25",
          "2020-04-13",
          "2020-04-30",
          "2020-06-03",
          "2020-09-09",
          "2020-12-06",
          "2019-01-22",
          "2019-03-15",
          "2019-05-24",
          "2019-08-28",
          "2020-01-25",
          "2020-04-13",
          "2020-04-30",
          "2020-06-03",
          "2020-09-09",
          "2020-12-06",
          "2019-01-22",
          "2019-03-15",
          "2019-05-24",
          "2019-08-28",
          "2020-01-25",
          "2020-04-13",
          "2020-04-30",
          "2020-06-03",
          "2020-09-09",
          "2020-12-06",
          "2019-01-22",
          "2019-03-15",
          "2019-05-24",
          "2019-08-28",
          "2020-01-25",
          "2020-04-13",
          "2020-04-30",
          "2020-06-03",
          "2020-09-09",
          "2020-12-06",
          "2019-01-22",
          "2019-03-15",
          "2019-05-24",
          "2019-08-28",
          "2020-01-25",
          "2020-04-13",
          "2020-04-30",
          "2020-06-03",
          "2020-09-09",
          "2020-12-06",
          "2019-01-22",
          "2019-03-15",
          "2019-05-24",
          "2019-08-28",
          "2020-01-25",
          "2020-04-13",
          "2020-04-30",
          "2020-06-03",
          "2020-09-09",
          "2020-12-06",
          "2019-01-22",
          "2019-03-15",
          "2019-05-24",
          "2019-08-28",
          "2020-01-25",
          "2020-04-13",
          "2020-04-30",
          "2020-06-03",
          "2020-09-09",
          "2020-12-06"
         ],
         "z": [
          0.47170491594624864,
          0.40026521794702286,
          0.8254334815816723,
          0.5819022084714816,
          0.7160741557791279,
          0.3996235743661133,
          0.734164155302153,
          0.30907801158294024,
          0.4374927902530863,
          0.9041483213946887,
          0.9081960292135851,
          0.8699320138976977,
          0.9021673662363713,
          0.9630176163311441,
          0.38223756269876386,
          0.2808550932242835,
          0.13797678192938045,
          0.11804768024934931,
          0.00766791141640788,
          0.30317917392593274,
          0.18133596591548073,
          0.37137914025978647,
          0.19551764870187616,
          0.16927909312204825,
          0.8935497154581657,
          0.7911439542280313,
          0.45270074804695126,
          0.6622865413542982,
          0.45747385253125317,
          0.8611497737455044,
          0.12242813590954216,
          0.2156840771919285,
          0.22377661171913688,
          0.9877817733534484,
          0.3371016444626941,
          0.29144731774485466,
          0.19227325624316027,
          0.8053939802837509,
          0.359303658124688,
          0.10689736699483343,
          0.7148604058028408,
          0.46721921077168216,
          0.62540765668472,
          0.12101824005230422,
          0.503728637761604,
          0.6453839628242684,
          0.3519170859558173,
          0.40347430947270724,
          0.9526989974738894,
          0.43473068699952566,
          0.06398808982650228,
          0.8091010422747709,
          0.40784088836425814,
          0.17573243885753087,
          0.5924957289604743,
          0.12068137987285954,
          0.030023094707298914,
          0.809226163220018,
          0.00891830673342242,
          0.07559902446907896,
          0.41749930426016224,
          0.6884197019299991,
          0.9553882698918794,
          0.8929923580564777,
          0.5344871381167634,
          0.49803675797631886,
          0.697554022299184,
          0.36160691897102293,
          0.7275945573445509,
          0.40651691556926595,
          0.06602425558849023,
          0.22316182997554712,
          0.7938986007330602,
          0.9886351847764423,
          0.6690571284655737,
          0.9185277616761837,
          0.01553089491741233,
          0.06229076446885273,
          0.5805680751104226,
          0.413222897909473,
          0.6126870606020874,
          0.9079080696891184,
          0.9070552977281428,
          0.36933920581694935,
          0.6494998248265175,
          0.8556666812063842,
          0.06883299185928371,
          0.6311629949498244,
          0.7363628792402475,
          0.3385310538479669,
          0.3391828575426842,
          0.7359102841277003,
          0.8510837588345407,
          0.37964168265274034,
          0.3159352193516344,
          0.877905382822748,
          0.671117013152719,
          0.4405716450808719,
          0.9614427677150713,
          0.895526448622984
         ]
        }
       ],
       "layout": {
        "coloraxis": {
         "colorbar": {
          "title": {
           "text": "similarity"
          }
         },
         "colorscale": [
          [
           0.0,
           "#0d0887"
          ],
          [
           0.1111111111111111,
           "#46039f"
          ],
          [
           0.2222222222222222,
           "#7201a8"
          ],
          [
           0.3333333333333333,
           "#9c179e"
          ],
          [
           0.4444444444444444,
           "#bd3786"
          ],
          [
           0.5555555555555556,
           "#d8576b"
          ],
          [
           0.6666666666666666,
           "#ed7953"
          ],
          [
           0.7777777777777778,
           "#fb9f3a"
          ],
          [
           0.8888888888888888,
           "#fdca26"
          ],
          [
           1.0,
           "#f0f921"
          ]
         ]
        },
        "legend": {
         "tracegroupgap": 0
        },
        "margin": {
         "t": 60
        },
        "scene": {
         "domain": {
          "x": [
           0.0,
           1.0
          ],
          "y": [
           0.0,
           1.0
          ]
         },
         "xaxis": {
          "title": {
           "text": "date_x"
          }
         },
         "yaxis": {
          "title": {
           "text": "date_y"
          }
         },
         "zaxis": {
          "title": {
           "text": "similarity"
          }
         }
        },
        "template": {
         "data": {
          "bar": [
           {
            "error_x": {
             "color": "#2a3f5f"
            },
            "error_y": {
             "color": "#2a3f5f"
            },
            "marker": {
             "line": {
              "color": "#E5ECF6",
              "width": 0.5
             },
             "pattern": {
              "fillmode": "overlay",
              "size": 10,
              "solidity": 0.2
             }
            },
            "type": "bar"
           }
          ],
          "barpolar": [
           {
            "marker": {
             "line": {
              "color": "#E5ECF6",
              "width": 0.5
             },
             "pattern": {
              "fillmode": "overlay",
              "size": 10,
              "solidity": 0.2
             }
            },
            "type": "barpolar"
           }
          ],
          "carpet": [
           {
            "aaxis": {
             "endlinecolor": "#2a3f5f",
             "gridcolor": "white",
             "linecolor": "white",
             "minorgridcolor": "white",
             "startlinecolor": "#2a3f5f"
            },
            "baxis": {
             "endlinecolor": "#2a3f5f",
             "gridcolor": "white",
             "linecolor": "white",
             "minorgridcolor": "white",
             "startlinecolor": "#2a3f5f"
            },
            "type": "carpet"
           }
          ],
          "choropleth": [
           {
            "colorbar": {
             "outlinewidth": 0,
             "ticks": ""
            },
            "type": "choropleth"
           }
          ],
          "contour": [
           {
            "colorbar": {
             "outlinewidth": 0,
             "ticks": ""
            },
            "colorscale": [
             [
              0.0,
              "#0d0887"
             ],
             [
              0.1111111111111111,
              "#46039f"
             ],
             [
              0.2222222222222222,
              "#7201a8"
             ],
             [
              0.3333333333333333,
              "#9c179e"
             ],
             [
              0.4444444444444444,
              "#bd3786"
             ],
             [
              0.5555555555555556,
              "#d8576b"
             ],
             [
              0.6666666666666666,
              "#ed7953"
             ],
             [
              0.7777777777777778,
              "#fb9f3a"
             ],
             [
              0.8888888888888888,
              "#fdca26"
             ],
             [
              1.0,
              "#f0f921"
             ]
            ],
            "type": "contour"
           }
          ],
          "contourcarpet": [
           {
            "colorbar": {
             "outlinewidth": 0,
             "ticks": ""
            },
            "type": "contourcarpet"
           }
          ],
          "heatmap": [
           {
            "colorbar": {
             "outlinewidth": 0,
             "ticks": ""
            },
            "colorscale": [
             [
              0.0,
              "#0d0887"
             ],
             [
              0.1111111111111111,
              "#46039f"
             ],
             [
              0.2222222222222222,
              "#7201a8"
             ],
             [
              0.3333333333333333,
              "#9c179e"
             ],
             [
              0.4444444444444444,
              "#bd3786"
             ],
             [
              0.5555555555555556,
              "#d8576b"
             ],
             [
              0.6666666666666666,
              "#ed7953"
             ],
             [
              0.7777777777777778,
              "#fb9f3a"
             ],
             [
              0.8888888888888888,
              "#fdca26"
             ],
             [
              1.0,
              "#f0f921"
             ]
            ],
            "type": "heatmap"
           }
          ],
          "heatmapgl": [
           {
            "colorbar": {
             "outlinewidth": 0,
             "ticks": ""
            },
            "colorscale": [
             [
              0.0,
              "#0d0887"
             ],
             [
              0.1111111111111111,
              "#46039f"
             ],
             [
              0.2222222222222222,
              "#7201a8"
             ],
             [
              0.3333333333333333,
              "#9c179e"
             ],
             [
              0.4444444444444444,
              "#bd3786"
             ],
             [
              0.5555555555555556,
              "#d8576b"
             ],
             [
              0.6666666666666666,
              "#ed7953"
             ],
             [
              0.7777777777777778,
              "#fb9f3a"
             ],
             [
              0.8888888888888888,
              "#fdca26"
             ],
             [
              1.0,
              "#f0f921"
             ]
            ],
            "type": "heatmapgl"
           }
          ],
          "histogram": [
           {
            "marker": {
             "pattern": {
              "fillmode": "overlay",
              "size": 10,
              "solidity": 0.2
             }
            },
            "type": "histogram"
           }
          ],
          "histogram2d": [
           {
            "colorbar": {
             "outlinewidth": 0,
             "ticks": ""
            },
            "colorscale": [
             [
              0.0,
              "#0d0887"
             ],
             [
              0.1111111111111111,
              "#46039f"
             ],
             [
              0.2222222222222222,
              "#7201a8"
             ],
             [
              0.3333333333333333,
              "#9c179e"
             ],
             [
              0.4444444444444444,
              "#bd3786"
             ],
             [
              0.5555555555555556,
              "#d8576b"
             ],
             [
              0.6666666666666666,
              "#ed7953"
             ],
             [
              0.7777777777777778,
              "#fb9f3a"
             ],
             [
              0.8888888888888888,
              "#fdca26"
             ],
             [
              1.0,
              "#f0f921"
             ]
            ],
            "type": "histogram2d"
           }
          ],
          "histogram2dcontour": [
           {
            "colorbar": {
             "outlinewidth": 0,
             "ticks": ""
            },
            "colorscale": [
             [
              0.0,
              "#0d0887"
             ],
             [
              0.1111111111111111,
              "#46039f"
             ],
             [
              0.2222222222222222,
              "#7201a8"
             ],
             [
              0.3333333333333333,
              "#9c179e"
             ],
             [
              0.4444444444444444,
              "#bd3786"
             ],
             [
              0.5555555555555556,
              "#d8576b"
             ],
             [
              0.6666666666666666,
              "#ed7953"
             ],
             [
              0.7777777777777778,
              "#fb9f3a"
             ],
             [
              0.8888888888888888,
              "#fdca26"
             ],
             [
              1.0,
              "#f0f921"
             ]
            ],
            "type": "histogram2dcontour"
           }
          ],
          "mesh3d": [
           {
            "colorbar": {
             "outlinewidth": 0,
             "ticks": ""
            },
            "type": "mesh3d"
           }
          ],
          "parcoords": [
           {
            "line": {
             "colorbar": {
              "outlinewidth": 0,
              "ticks": ""
             }
            },
            "type": "parcoords"
           }
          ],
          "pie": [
           {
            "automargin": true,
            "type": "pie"
           }
          ],
          "scatter": [
           {
            "marker": {
             "colorbar": {
              "outlinewidth": 0,
              "ticks": ""
             }
            },
            "type": "scatter"
           }
          ],
          "scatter3d": [
           {
            "line": {
             "colorbar": {
              "outlinewidth": 0,
              "ticks": ""
             }
            },
            "marker": {
             "colorbar": {
              "outlinewidth": 0,
              "ticks": ""
             }
            },
            "type": "scatter3d"
           }
          ],
          "scattercarpet": [
           {
            "marker": {
             "colorbar": {
              "outlinewidth": 0,
              "ticks": ""
             }
            },
            "type": "scattercarpet"
           }
          ],
          "scattergeo": [
           {
            "marker": {
             "colorbar": {
              "outlinewidth": 0,
              "ticks": ""
             }
            },
            "type": "scattergeo"
           }
          ],
          "scattergl": [
           {
            "marker": {
             "colorbar": {
              "outlinewidth": 0,
              "ticks": ""
             }
            },
            "type": "scattergl"
           }
          ],
          "scattermapbox": [
           {
            "marker": {
             "colorbar": {
              "outlinewidth": 0,
              "ticks": ""
             }
            },
            "type": "scattermapbox"
           }
          ],
          "scatterpolar": [
           {
            "marker": {
             "colorbar": {
              "outlinewidth": 0,
              "ticks": ""
             }
            },
            "type": "scatterpolar"
           }
          ],
          "scatterpolargl": [
           {
            "marker": {
             "colorbar": {
              "outlinewidth": 0,
              "ticks": ""
             }
            },
            "type": "scatterpolargl"
           }
          ],
          "scatterternary": [
           {
            "marker": {
             "colorbar": {
              "outlinewidth": 0,
              "ticks": ""
             }
            },
            "type": "scatterternary"
           }
          ],
          "surface": [
           {
            "colorbar": {
             "outlinewidth": 0,
             "ticks": ""
            },
            "colorscale": [
             [
              0.0,
              "#0d0887"
             ],
             [
              0.1111111111111111,
              "#46039f"
             ],
             [
              0.2222222222222222,
              "#7201a8"
             ],
             [
              0.3333333333333333,
              "#9c179e"
             ],
             [
              0.4444444444444444,
              "#bd3786"
             ],
             [
              0.5555555555555556,
              "#d8576b"
             ],
             [
              0.6666666666666666,
              "#ed7953"
             ],
             [
              0.7777777777777778,
              "#fb9f3a"
             ],
             [
              0.8888888888888888,
              "#fdca26"
             ],
             [
              1.0,
              "#f0f921"
             ]
            ],
            "type": "surface"
           }
          ],
          "table": [
           {
            "cells": {
             "fill": {
              "color": "#EBF0F8"
             },
             "line": {
              "color": "white"
             }
            },
            "header": {
             "fill": {
              "color": "#C8D4E3"
             },
             "line": {
              "color": "white"
             }
            },
            "type": "table"
           }
          ]
         },
         "layout": {
          "annotationdefaults": {
           "arrowcolor": "#2a3f5f",
           "arrowhead": 0,
           "arrowwidth": 1
          },
          "autotypenumbers": "strict",
          "coloraxis": {
           "colorbar": {
            "outlinewidth": 0,
            "ticks": ""
           }
          },
          "colorscale": {
           "diverging": [
            [
             0,
             "#8e0152"
            ],
            [
             0.1,
             "#c51b7d"
            ],
            [
             0.2,
             "#de77ae"
            ],
            [
             0.3,
             "#f1b6da"
            ],
            [
             0.4,
             "#fde0ef"
            ],
            [
             0.5,
             "#f7f7f7"
            ],
            [
             0.6,
             "#e6f5d0"
            ],
            [
             0.7,
             "#b8e186"
            ],
            [
             0.8,
             "#7fbc41"
            ],
            [
             0.9,
             "#4d9221"
            ],
            [
             1,
             "#276419"
            ]
           ],
           "sequential": [
            [
             0.0,
             "#0d0887"
            ],
            [
             0.1111111111111111,
             "#46039f"
            ],
            [
             0.2222222222222222,
             "#7201a8"
            ],
            [
             0.3333333333333333,
             "#9c179e"
            ],
            [
             0.4444444444444444,
             "#bd3786"
            ],
            [
             0.5555555555555556,
             "#d8576b"
            ],
            [
             0.6666666666666666,
             "#ed7953"
            ],
            [
             0.7777777777777778,
             "#fb9f3a"
            ],
            [
             0.8888888888888888,
             "#fdca26"
            ],
            [
             1.0,
             "#f0f921"
            ]
           ],
           "sequentialminus": [
            [
             0.0,
             "#0d0887"
            ],
            [
             0.1111111111111111,
             "#46039f"
            ],
            [
             0.2222222222222222,
             "#7201a8"
            ],
            [
             0.3333333333333333,
             "#9c179e"
            ],
            [
             0.4444444444444444,
             "#bd3786"
            ],
            [
             0.5555555555555556,
             "#d8576b"
            ],
            [
             0.6666666666666666,
             "#ed7953"
            ],
            [
             0.7777777777777778,
             "#fb9f3a"
            ],
            [
             0.8888888888888888,
             "#fdca26"
            ],
            [
             1.0,
             "#f0f921"
            ]
           ]
          },
          "colorway": [
           "#636efa",
           "#EF553B",
           "#00cc96",
           "#ab63fa",
           "#FFA15A",
           "#19d3f3",
           "#FF6692",
           "#B6E880",
           "#FF97FF",
           "#FECB52"
          ],
          "font": {
           "color": "#2a3f5f"
          },
          "geo": {
           "bgcolor": "white",
           "lakecolor": "white",
           "landcolor": "#E5ECF6",
           "showlakes": true,
           "showland": true,
           "subunitcolor": "white"
          },
          "hoverlabel": {
           "align": "left"
          },
          "hovermode": "closest",
          "mapbox": {
           "style": "light"
          },
          "paper_bgcolor": "white",
          "plot_bgcolor": "#E5ECF6",
          "polar": {
           "angularaxis": {
            "gridcolor": "white",
            "linecolor": "white",
            "ticks": ""
           },
           "bgcolor": "#E5ECF6",
           "radialaxis": {
            "gridcolor": "white",
            "linecolor": "white",
            "ticks": ""
           }
          },
          "scene": {
           "xaxis": {
            "backgroundcolor": "#E5ECF6",
            "gridcolor": "white",
            "gridwidth": 2,
            "linecolor": "white",
            "showbackground": true,
            "ticks": "",
            "zerolinecolor": "white"
           },
           "yaxis": {
            "backgroundcolor": "#E5ECF6",
            "gridcolor": "white",
            "gridwidth": 2,
            "linecolor": "white",
            "showbackground": true,
            "ticks": "",
            "zerolinecolor": "white"
           },
           "zaxis": {
            "backgroundcolor": "#E5ECF6",
            "gridcolor": "white",
            "gridwidth": 2,
            "linecolor": "white",
            "showbackground": true,
            "ticks": "",
            "zerolinecolor": "white"
           }
          },
          "shapedefaults": {
           "line": {
            "color": "#2a3f5f"
           }
          },
          "ternary": {
           "aaxis": {
            "gridcolor": "white",
            "linecolor": "white",
            "ticks": ""
           },
           "baxis": {
            "gridcolor": "white",
            "linecolor": "white",
            "ticks": ""
           },
           "bgcolor": "#E5ECF6",
           "caxis": {
            "gridcolor": "white",
            "linecolor": "white",
            "ticks": ""
           }
          },
          "title": {
           "x": 0.05
          },
          "xaxis": {
           "automargin": true,
           "gridcolor": "white",
           "linecolor": "white",
           "ticks": "",
           "title": {
            "standoff": 15
           },
           "zerolinecolor": "white",
           "zerolinewidth": 2
          },
          "yaxis": {
           "automargin": true,
           "gridcolor": "white",
           "linecolor": "white",
           "ticks": "",
           "title": {
            "standoff": 15
           },
           "zerolinecolor": "white",
           "zerolinewidth": 2
          }
         }
        }
       }
      },
      "text/html": "<div>                            <div id=\"98c5fd58-11cb-4023-b9cb-b2bcaaa9a2ed\" class=\"plotly-graph-div\" style=\"height:525px; width:100%;\"></div>            <script type=\"text/javascript\">                require([\"plotly\"], function(Plotly) {                    window.PLOTLYENV=window.PLOTLYENV || {};                                    if (document.getElementById(\"98c5fd58-11cb-4023-b9cb-b2bcaaa9a2ed\")) {                    Plotly.newPlot(                        \"98c5fd58-11cb-4023-b9cb-b2bcaaa9a2ed\",                        [{\"hovertemplate\":\"date_x=%{x}<br>date_y=%{y}<br>similarity=%{marker.color}<extra></extra>\",\"legendgroup\":\"\",\"marker\":{\"color\":[0.47170491594624864,0.40026521794702286,0.8254334815816723,0.5819022084714816,0.7160741557791279,0.3996235743661133,0.734164155302153,0.30907801158294024,0.4374927902530863,0.9041483213946887,0.9081960292135851,0.8699320138976977,0.9021673662363713,0.9630176163311441,0.38223756269876386,0.2808550932242835,0.13797678192938045,0.11804768024934931,0.00766791141640788,0.30317917392593274,0.18133596591548073,0.37137914025978647,0.19551764870187616,0.16927909312204825,0.8935497154581657,0.7911439542280313,0.45270074804695126,0.6622865413542982,0.45747385253125317,0.8611497737455044,0.12242813590954216,0.2156840771919285,0.22377661171913688,0.9877817733534484,0.3371016444626941,0.29144731774485466,0.19227325624316027,0.8053939802837509,0.359303658124688,0.10689736699483343,0.7148604058028408,0.46721921077168216,0.62540765668472,0.12101824005230422,0.503728637761604,0.6453839628242684,0.3519170859558173,0.40347430947270724,0.9526989974738894,0.43473068699952566,0.06398808982650228,0.8091010422747709,0.40784088836425814,0.17573243885753087,0.5924957289604743,0.12068137987285954,0.030023094707298914,0.809226163220018,0.00891830673342242,0.07559902446907896,0.41749930426016224,0.6884197019299991,0.9553882698918794,0.8929923580564777,0.5344871381167634,0.49803675797631886,0.697554022299184,0.36160691897102293,0.7275945573445509,0.40651691556926595,0.06602425558849023,0.22316182997554712,0.7938986007330602,0.9886351847764423,0.6690571284655737,0.9185277616761837,0.01553089491741233,0.06229076446885273,0.5805680751104226,0.413222897909473,0.6126870606020874,0.9079080696891184,0.9070552977281428,0.36933920581694935,0.6494998248265175,0.8556666812063842,0.06883299185928371,0.6311629949498244,0.7363628792402475,0.3385310538479669,0.3391828575426842,0.7359102841277003,0.8510837588345407,0.37964168265274034,0.3159352193516344,0.877905382822748,0.671117013152719,0.4405716450808719,0.9614427677150713,0.895526448622984],\"coloraxis\":\"coloraxis\",\"symbol\":\"circle\"},\"mode\":\"markers\",\"name\":\"\",\"scene\":\"scene\",\"showlegend\":false,\"type\":\"scatter3d\",\"x\":[\"2019-05-26\",\"2019-05-26\",\"2019-05-26\",\"2019-05-26\",\"2019-05-26\",\"2019-05-26\",\"2019-05-26\",\"2019-05-26\",\"2019-05-26\",\"2019-05-26\",\"2019-06-26\",\"2019-06-26\",\"2019-06-26\",\"2019-06-26\",\"2019-06-26\",\"2019-06-26\",\"2019-06-26\",\"2019-06-26\",\"2019-06-26\",\"2019-06-26\",\"2019-07-29\",\"2019-07-29\",\"2019-07-29\",\"2019-07-29\",\"2019-07-29\",\"2019-07-29\",\"2019-07-29\",\"2019-07-29\",\"2019-07-29\",\"2019-07-29\",\"2019-09-11\",\"2019-09-11\",\"2019-09-11\",\"2019-09-11\",\"2019-09-11\",\"2019-09-11\",\"2019-09-11\",\"2019-09-11\",\"2019-09-11\",\"2019-09-11\",\"2019-09-27\",\"2019-09-27\",\"2019-09-27\",\"2019-09-27\",\"2019-09-27\",\"2019-09-27\",\"2019-09-27\",\"2019-09-27\",\"2019-09-27\",\"2019-09-27\",\"2019-10-07\",\"2019-10-07\",\"2019-10-07\",\"2019-10-07\",\"2019-10-07\",\"2019-10-07\",\"2019-10-07\",\"2019-10-07\",\"2019-10-07\",\"2019-10-07\",\"2019-10-17\",\"2019-10-17\",\"2019-10-17\",\"2019-10-17\",\"2019-10-17\",\"2019-10-17\",\"2019-10-17\",\"2019-10-17\",\"2019-10-17\",\"2019-10-17\",\"2020-02-23\",\"2020-02-23\",\"2020-02-23\",\"2020-02-23\",\"2020-02-23\",\"2020-02-23\",\"2020-02-23\",\"2020-02-23\",\"2020-02-23\",\"2020-02-23\",\"2020-09-19\",\"2020-09-19\",\"2020-09-19\",\"2020-09-19\",\"2020-09-19\",\"2020-09-19\",\"2020-09-19\",\"2020-09-19\",\"2020-09-19\",\"2020-09-19\",\"2020-11-25\",\"2020-11-25\",\"2020-11-25\",\"2020-11-25\",\"2020-11-25\",\"2020-11-25\",\"2020-11-25\",\"2020-11-25\",\"2020-11-25\",\"2020-11-25\"],\"y\":[\"2019-01-22\",\"2019-03-15\",\"2019-05-24\",\"2019-08-28\",\"2020-01-25\",\"2020-04-13\",\"2020-04-30\",\"2020-06-03\",\"2020-09-09\",\"2020-12-06\",\"2019-01-22\",\"2019-03-15\",\"2019-05-24\",\"2019-08-28\",\"2020-01-25\",\"2020-04-13\",\"2020-04-30\",\"2020-06-03\",\"2020-09-09\",\"2020-12-06\",\"2019-01-22\",\"2019-03-15\",\"2019-05-24\",\"2019-08-28\",\"2020-01-25\",\"2020-04-13\",\"2020-04-30\",\"2020-06-03\",\"2020-09-09\",\"2020-12-06\",\"2019-01-22\",\"2019-03-15\",\"2019-05-24\",\"2019-08-28\",\"2020-01-25\",\"2020-04-13\",\"2020-04-30\",\"2020-06-03\",\"2020-09-09\",\"2020-12-06\",\"2019-01-22\",\"2019-03-15\",\"2019-05-24\",\"2019-08-28\",\"2020-01-25\",\"2020-04-13\",\"2020-04-30\",\"2020-06-03\",\"2020-09-09\",\"2020-12-06\",\"2019-01-22\",\"2019-03-15\",\"2019-05-24\",\"2019-08-28\",\"2020-01-25\",\"2020-04-13\",\"2020-04-30\",\"2020-06-03\",\"2020-09-09\",\"2020-12-06\",\"2019-01-22\",\"2019-03-15\",\"2019-05-24\",\"2019-08-28\",\"2020-01-25\",\"2020-04-13\",\"2020-04-30\",\"2020-06-03\",\"2020-09-09\",\"2020-12-06\",\"2019-01-22\",\"2019-03-15\",\"2019-05-24\",\"2019-08-28\",\"2020-01-25\",\"2020-04-13\",\"2020-04-30\",\"2020-06-03\",\"2020-09-09\",\"2020-12-06\",\"2019-01-22\",\"2019-03-15\",\"2019-05-24\",\"2019-08-28\",\"2020-01-25\",\"2020-04-13\",\"2020-04-30\",\"2020-06-03\",\"2020-09-09\",\"2020-12-06\",\"2019-01-22\",\"2019-03-15\",\"2019-05-24\",\"2019-08-28\",\"2020-01-25\",\"2020-04-13\",\"2020-04-30\",\"2020-06-03\",\"2020-09-09\",\"2020-12-06\"],\"z\":[0.47170491594624864,0.40026521794702286,0.8254334815816723,0.5819022084714816,0.7160741557791279,0.3996235743661133,0.734164155302153,0.30907801158294024,0.4374927902530863,0.9041483213946887,0.9081960292135851,0.8699320138976977,0.9021673662363713,0.9630176163311441,0.38223756269876386,0.2808550932242835,0.13797678192938045,0.11804768024934931,0.00766791141640788,0.30317917392593274,0.18133596591548073,0.37137914025978647,0.19551764870187616,0.16927909312204825,0.8935497154581657,0.7911439542280313,0.45270074804695126,0.6622865413542982,0.45747385253125317,0.8611497737455044,0.12242813590954216,0.2156840771919285,0.22377661171913688,0.9877817733534484,0.3371016444626941,0.29144731774485466,0.19227325624316027,0.8053939802837509,0.359303658124688,0.10689736699483343,0.7148604058028408,0.46721921077168216,0.62540765668472,0.12101824005230422,0.503728637761604,0.6453839628242684,0.3519170859558173,0.40347430947270724,0.9526989974738894,0.43473068699952566,0.06398808982650228,0.8091010422747709,0.40784088836425814,0.17573243885753087,0.5924957289604743,0.12068137987285954,0.030023094707298914,0.809226163220018,0.00891830673342242,0.07559902446907896,0.41749930426016224,0.6884197019299991,0.9553882698918794,0.8929923580564777,0.5344871381167634,0.49803675797631886,0.697554022299184,0.36160691897102293,0.7275945573445509,0.40651691556926595,0.06602425558849023,0.22316182997554712,0.7938986007330602,0.9886351847764423,0.6690571284655737,0.9185277616761837,0.01553089491741233,0.06229076446885273,0.5805680751104226,0.413222897909473,0.6126870606020874,0.9079080696891184,0.9070552977281428,0.36933920581694935,0.6494998248265175,0.8556666812063842,0.06883299185928371,0.6311629949498244,0.7363628792402475,0.3385310538479669,0.3391828575426842,0.7359102841277003,0.8510837588345407,0.37964168265274034,0.3159352193516344,0.877905382822748,0.671117013152719,0.4405716450808719,0.9614427677150713,0.895526448622984]}],                        {\"coloraxis\":{\"colorbar\":{\"title\":{\"text\":\"similarity\"}},\"colorscale\":[[0.0,\"#0d0887\"],[0.1111111111111111,\"#46039f\"],[0.2222222222222222,\"#7201a8\"],[0.3333333333333333,\"#9c179e\"],[0.4444444444444444,\"#bd3786\"],[0.5555555555555556,\"#d8576b\"],[0.6666666666666666,\"#ed7953\"],[0.7777777777777778,\"#fb9f3a\"],[0.8888888888888888,\"#fdca26\"],[1.0,\"#f0f921\"]]},\"legend\":{\"tracegroupgap\":0},\"margin\":{\"t\":60},\"scene\":{\"domain\":{\"x\":[0.0,1.0],\"y\":[0.0,1.0]},\"xaxis\":{\"title\":{\"text\":\"date_x\"}},\"yaxis\":{\"title\":{\"text\":\"date_y\"}},\"zaxis\":{\"title\":{\"text\":\"similarity\"}}},\"template\":{\"data\":{\"bar\":[{\"error_x\":{\"color\":\"#2a3f5f\"},\"error_y\":{\"color\":\"#2a3f5f\"},\"marker\":{\"line\":{\"color\":\"#E5ECF6\",\"width\":0.5},\"pattern\":{\"fillmode\":\"overlay\",\"size\":10,\"solidity\":0.2}},\"type\":\"bar\"}],\"barpolar\":[{\"marker\":{\"line\":{\"color\":\"#E5ECF6\",\"width\":0.5},\"pattern\":{\"fillmode\":\"overlay\",\"size\":10,\"solidity\":0.2}},\"type\":\"barpolar\"}],\"carpet\":[{\"aaxis\":{\"endlinecolor\":\"#2a3f5f\",\"gridcolor\":\"white\",\"linecolor\":\"white\",\"minorgridcolor\":\"white\",\"startlinecolor\":\"#2a3f5f\"},\"baxis\":{\"endlinecolor\":\"#2a3f5f\",\"gridcolor\":\"white\",\"linecolor\":\"white\",\"minorgridcolor\":\"white\",\"startlinecolor\":\"#2a3f5f\"},\"type\":\"carpet\"}],\"choropleth\":[{\"colorbar\":{\"outlinewidth\":0,\"ticks\":\"\"},\"type\":\"choropleth\"}],\"contour\":[{\"colorbar\":{\"outlinewidth\":0,\"ticks\":\"\"},\"colorscale\":[[0.0,\"#0d0887\"],[0.1111111111111111,\"#46039f\"],[0.2222222222222222,\"#7201a8\"],[0.3333333333333333,\"#9c179e\"],[0.4444444444444444,\"#bd3786\"],[0.5555555555555556,\"#d8576b\"],[0.6666666666666666,\"#ed7953\"],[0.7777777777777778,\"#fb9f3a\"],[0.8888888888888888,\"#fdca26\"],[1.0,\"#f0f921\"]],\"type\":\"contour\"}],\"contourcarpet\":[{\"colorbar\":{\"outlinewidth\":0,\"ticks\":\"\"},\"type\":\"contourcarpet\"}],\"heatmap\":[{\"colorbar\":{\"outlinewidth\":0,\"ticks\":\"\"},\"colorscale\":[[0.0,\"#0d0887\"],[0.1111111111111111,\"#46039f\"],[0.2222222222222222,\"#7201a8\"],[0.3333333333333333,\"#9c179e\"],[0.4444444444444444,\"#bd3786\"],[0.5555555555555556,\"#d8576b\"],[0.6666666666666666,\"#ed7953\"],[0.7777777777777778,\"#fb9f3a\"],[0.8888888888888888,\"#fdca26\"],[1.0,\"#f0f921\"]],\"type\":\"heatmap\"}],\"heatmapgl\":[{\"colorbar\":{\"outlinewidth\":0,\"ticks\":\"\"},\"colorscale\":[[0.0,\"#0d0887\"],[0.1111111111111111,\"#46039f\"],[0.2222222222222222,\"#7201a8\"],[0.3333333333333333,\"#9c179e\"],[0.4444444444444444,\"#bd3786\"],[0.5555555555555556,\"#d8576b\"],[0.6666666666666666,\"#ed7953\"],[0.7777777777777778,\"#fb9f3a\"],[0.8888888888888888,\"#fdca26\"],[1.0,\"#f0f921\"]],\"type\":\"heatmapgl\"}],\"histogram\":[{\"marker\":{\"pattern\":{\"fillmode\":\"overlay\",\"size\":10,\"solidity\":0.2}},\"type\":\"histogram\"}],\"histogram2d\":[{\"colorbar\":{\"outlinewidth\":0,\"ticks\":\"\"},\"colorscale\":[[0.0,\"#0d0887\"],[0.1111111111111111,\"#46039f\"],[0.2222222222222222,\"#7201a8\"],[0.3333333333333333,\"#9c179e\"],[0.4444444444444444,\"#bd3786\"],[0.5555555555555556,\"#d8576b\"],[0.6666666666666666,\"#ed7953\"],[0.7777777777777778,\"#fb9f3a\"],[0.8888888888888888,\"#fdca26\"],[1.0,\"#f0f921\"]],\"type\":\"histogram2d\"}],\"histogram2dcontour\":[{\"colorbar\":{\"outlinewidth\":0,\"ticks\":\"\"},\"colorscale\":[[0.0,\"#0d0887\"],[0.1111111111111111,\"#46039f\"],[0.2222222222222222,\"#7201a8\"],[0.3333333333333333,\"#9c179e\"],[0.4444444444444444,\"#bd3786\"],[0.5555555555555556,\"#d8576b\"],[0.6666666666666666,\"#ed7953\"],[0.7777777777777778,\"#fb9f3a\"],[0.8888888888888888,\"#fdca26\"],[1.0,\"#f0f921\"]],\"type\":\"histogram2dcontour\"}],\"mesh3d\":[{\"colorbar\":{\"outlinewidth\":0,\"ticks\":\"\"},\"type\":\"mesh3d\"}],\"parcoords\":[{\"line\":{\"colorbar\":{\"outlinewidth\":0,\"ticks\":\"\"}},\"type\":\"parcoords\"}],\"pie\":[{\"automargin\":true,\"type\":\"pie\"}],\"scatter\":[{\"marker\":{\"colorbar\":{\"outlinewidth\":0,\"ticks\":\"\"}},\"type\":\"scatter\"}],\"scatter3d\":[{\"line\":{\"colorbar\":{\"outlinewidth\":0,\"ticks\":\"\"}},\"marker\":{\"colorbar\":{\"outlinewidth\":0,\"ticks\":\"\"}},\"type\":\"scatter3d\"}],\"scattercarpet\":[{\"marker\":{\"colorbar\":{\"outlinewidth\":0,\"ticks\":\"\"}},\"type\":\"scattercarpet\"}],\"scattergeo\":[{\"marker\":{\"colorbar\":{\"outlinewidth\":0,\"ticks\":\"\"}},\"type\":\"scattergeo\"}],\"scattergl\":[{\"marker\":{\"colorbar\":{\"outlinewidth\":0,\"ticks\":\"\"}},\"type\":\"scattergl\"}],\"scattermapbox\":[{\"marker\":{\"colorbar\":{\"outlinewidth\":0,\"ticks\":\"\"}},\"type\":\"scattermapbox\"}],\"scatterpolar\":[{\"marker\":{\"colorbar\":{\"outlinewidth\":0,\"ticks\":\"\"}},\"type\":\"scatterpolar\"}],\"scatterpolargl\":[{\"marker\":{\"colorbar\":{\"outlinewidth\":0,\"ticks\":\"\"}},\"type\":\"scatterpolargl\"}],\"scatterternary\":[{\"marker\":{\"colorbar\":{\"outlinewidth\":0,\"ticks\":\"\"}},\"type\":\"scatterternary\"}],\"surface\":[{\"colorbar\":{\"outlinewidth\":0,\"ticks\":\"\"},\"colorscale\":[[0.0,\"#0d0887\"],[0.1111111111111111,\"#46039f\"],[0.2222222222222222,\"#7201a8\"],[0.3333333333333333,\"#9c179e\"],[0.4444444444444444,\"#bd3786\"],[0.5555555555555556,\"#d8576b\"],[0.6666666666666666,\"#ed7953\"],[0.7777777777777778,\"#fb9f3a\"],[0.8888888888888888,\"#fdca26\"],[1.0,\"#f0f921\"]],\"type\":\"surface\"}],\"table\":[{\"cells\":{\"fill\":{\"color\":\"#EBF0F8\"},\"line\":{\"color\":\"white\"}},\"header\":{\"fill\":{\"color\":\"#C8D4E3\"},\"line\":{\"color\":\"white\"}},\"type\":\"table\"}]},\"layout\":{\"annotationdefaults\":{\"arrowcolor\":\"#2a3f5f\",\"arrowhead\":0,\"arrowwidth\":1},\"autotypenumbers\":\"strict\",\"coloraxis\":{\"colorbar\":{\"outlinewidth\":0,\"ticks\":\"\"}},\"colorscale\":{\"diverging\":[[0,\"#8e0152\"],[0.1,\"#c51b7d\"],[0.2,\"#de77ae\"],[0.3,\"#f1b6da\"],[0.4,\"#fde0ef\"],[0.5,\"#f7f7f7\"],[0.6,\"#e6f5d0\"],[0.7,\"#b8e186\"],[0.8,\"#7fbc41\"],[0.9,\"#4d9221\"],[1,\"#276419\"]],\"sequential\":[[0.0,\"#0d0887\"],[0.1111111111111111,\"#46039f\"],[0.2222222222222222,\"#7201a8\"],[0.3333333333333333,\"#9c179e\"],[0.4444444444444444,\"#bd3786\"],[0.5555555555555556,\"#d8576b\"],[0.6666666666666666,\"#ed7953\"],[0.7777777777777778,\"#fb9f3a\"],[0.8888888888888888,\"#fdca26\"],[1.0,\"#f0f921\"]],\"sequentialminus\":[[0.0,\"#0d0887\"],[0.1111111111111111,\"#46039f\"],[0.2222222222222222,\"#7201a8\"],[0.3333333333333333,\"#9c179e\"],[0.4444444444444444,\"#bd3786\"],[0.5555555555555556,\"#d8576b\"],[0.6666666666666666,\"#ed7953\"],[0.7777777777777778,\"#fb9f3a\"],[0.8888888888888888,\"#fdca26\"],[1.0,\"#f0f921\"]]},\"colorway\":[\"#636efa\",\"#EF553B\",\"#00cc96\",\"#ab63fa\",\"#FFA15A\",\"#19d3f3\",\"#FF6692\",\"#B6E880\",\"#FF97FF\",\"#FECB52\"],\"font\":{\"color\":\"#2a3f5f\"},\"geo\":{\"bgcolor\":\"white\",\"lakecolor\":\"white\",\"landcolor\":\"#E5ECF6\",\"showlakes\":true,\"showland\":true,\"subunitcolor\":\"white\"},\"hoverlabel\":{\"align\":\"left\"},\"hovermode\":\"closest\",\"mapbox\":{\"style\":\"light\"},\"paper_bgcolor\":\"white\",\"plot_bgcolor\":\"#E5ECF6\",\"polar\":{\"angularaxis\":{\"gridcolor\":\"white\",\"linecolor\":\"white\",\"ticks\":\"\"},\"bgcolor\":\"#E5ECF6\",\"radialaxis\":{\"gridcolor\":\"white\",\"linecolor\":\"white\",\"ticks\":\"\"}},\"scene\":{\"xaxis\":{\"backgroundcolor\":\"#E5ECF6\",\"gridcolor\":\"white\",\"gridwidth\":2,\"linecolor\":\"white\",\"showbackground\":true,\"ticks\":\"\",\"zerolinecolor\":\"white\"},\"yaxis\":{\"backgroundcolor\":\"#E5ECF6\",\"gridcolor\":\"white\",\"gridwidth\":2,\"linecolor\":\"white\",\"showbackground\":true,\"ticks\":\"\",\"zerolinecolor\":\"white\"},\"zaxis\":{\"backgroundcolor\":\"#E5ECF6\",\"gridcolor\":\"white\",\"gridwidth\":2,\"linecolor\":\"white\",\"showbackground\":true,\"ticks\":\"\",\"zerolinecolor\":\"white\"}},\"shapedefaults\":{\"line\":{\"color\":\"#2a3f5f\"}},\"ternary\":{\"aaxis\":{\"gridcolor\":\"white\",\"linecolor\":\"white\",\"ticks\":\"\"},\"baxis\":{\"gridcolor\":\"white\",\"linecolor\":\"white\",\"ticks\":\"\"},\"bgcolor\":\"#E5ECF6\",\"caxis\":{\"gridcolor\":\"white\",\"linecolor\":\"white\",\"ticks\":\"\"}},\"title\":{\"x\":0.05},\"xaxis\":{\"automargin\":true,\"gridcolor\":\"white\",\"linecolor\":\"white\",\"ticks\":\"\",\"title\":{\"standoff\":15},\"zerolinecolor\":\"white\",\"zerolinewidth\":2},\"yaxis\":{\"automargin\":true,\"gridcolor\":\"white\",\"linecolor\":\"white\",\"ticks\":\"\",\"title\":{\"standoff\":15},\"zerolinecolor\":\"white\",\"zerolinewidth\":2}}}},                        {\"responsive\": true}                    ).then(function(){\n                            \nvar gd = document.getElementById('98c5fd58-11cb-4023-b9cb-b2bcaaa9a2ed');\nvar x = new MutationObserver(function (mutations, observer) {{\n        var display = window.getComputedStyle(gd).display;\n        if (!display || display === 'none') {{\n            console.log([gd, 'removed!']);\n            Plotly.purge(gd);\n            observer.disconnect();\n        }}\n}});\n\n// Listen for the removal of the full notebook cells\nvar notebookContainer = gd.closest('#notebook-container');\nif (notebookContainer) {{\n    x.observe(notebookContainer, {childList: true});\n}}\n\n// Listen for the clearing of the current output cell\nvar outputEl = gd.closest('.output');\nif (outputEl) {{\n    x.observe(outputEl, {childList: true});\n}}\n\n                        })                };                });            </script>        </div>"
     },
     "metadata": {},
     "output_type": "display_data"
    }
   ],
   "source": [
    "import plotly.express as px\n",
    "\n",
    "fig = px.scatter_3d(test_df, x='date_x', y='date_y', z='similarity', color='similarity')\n",
    "fig.show()"
   ],
   "metadata": {
    "collapsed": false,
    "pycharm": {
     "name": "#%%\n"
    }
   }
  },
  {
   "cell_type": "code",
   "execution_count": 89,
   "outputs": [
    {
     "data": {
      "application/vnd.plotly.v1+json": {
       "config": {
        "plotlyServerURL": "https://plot.ly"
       },
       "data": [
        {
         "hovertemplate": "date_x=%{x}<br>date_y=%{y}<br>similarity=%{marker.color}<extra></extra>",
         "legendgroup": "",
         "marker": {
          "color": [
           0.47170491594624864,
           0.40026521794702286,
           0.8254334815816723,
           0.5819022084714816,
           0.7160741557791279,
           0.3996235743661133,
           0.734164155302153,
           0.30907801158294024,
           0.4374927902530863,
           0.9041483213946887,
           0.9081960292135851,
           0.8699320138976977,
           0.9021673662363713,
           0.9630176163311441,
           0.38223756269876386,
           0.2808550932242835,
           0.13797678192938045,
           0.11804768024934931,
           0.00766791141640788,
           0.30317917392593274,
           0.18133596591548073,
           0.37137914025978647,
           0.19551764870187616,
           0.16927909312204825,
           0.8935497154581657,
           0.7911439542280313,
           0.45270074804695126,
           0.6622865413542982,
           0.45747385253125317,
           0.8611497737455044,
           0.12242813590954216,
           0.2156840771919285,
           0.22377661171913688,
           0.9877817733534484,
           0.3371016444626941,
           0.29144731774485466,
           0.19227325624316027,
           0.8053939802837509,
           0.359303658124688,
           0.10689736699483343,
           0.7148604058028408,
           0.46721921077168216,
           0.62540765668472,
           0.12101824005230422,
           0.503728637761604,
           0.6453839628242684,
           0.3519170859558173,
           0.40347430947270724,
           0.9526989974738894,
           0.43473068699952566,
           0.06398808982650228,
           0.8091010422747709,
           0.40784088836425814,
           0.17573243885753087,
           0.5924957289604743,
           0.12068137987285954,
           0.030023094707298914,
           0.809226163220018,
           0.00891830673342242,
           0.07559902446907896,
           0.41749930426016224,
           0.6884197019299991,
           0.9553882698918794,
           0.8929923580564777,
           0.5344871381167634,
           0.49803675797631886,
           0.697554022299184,
           0.36160691897102293,
           0.7275945573445509,
           0.40651691556926595,
           0.06602425558849023,
           0.22316182997554712,
           0.7938986007330602,
           0.9886351847764423,
           0.6690571284655737,
           0.9185277616761837,
           0.01553089491741233,
           0.06229076446885273,
           0.5805680751104226,
           0.413222897909473,
           0.6126870606020874,
           0.9079080696891184,
           0.9070552977281428,
           0.36933920581694935,
           0.6494998248265175,
           0.8556666812063842,
           0.06883299185928371,
           0.6311629949498244,
           0.7363628792402475,
           0.3385310538479669,
           0.3391828575426842,
           0.7359102841277003,
           0.8510837588345407,
           0.37964168265274034,
           0.3159352193516344,
           0.877905382822748,
           0.671117013152719,
           0.4405716450808719,
           0.9614427677150713,
           0.895526448622984
          ],
          "coloraxis": "coloraxis",
          "symbol": "circle"
         },
         "mode": "markers",
         "name": "",
         "orientation": "v",
         "showlegend": false,
         "type": "scatter",
         "x": [
          "2019-05-26",
          "2019-05-26",
          "2019-05-26",
          "2019-05-26",
          "2019-05-26",
          "2019-05-26",
          "2019-05-26",
          "2019-05-26",
          "2019-05-26",
          "2019-05-26",
          "2019-06-26",
          "2019-06-26",
          "2019-06-26",
          "2019-06-26",
          "2019-06-26",
          "2019-06-26",
          "2019-06-26",
          "2019-06-26",
          "2019-06-26",
          "2019-06-26",
          "2019-07-29",
          "2019-07-29",
          "2019-07-29",
          "2019-07-29",
          "2019-07-29",
          "2019-07-29",
          "2019-07-29",
          "2019-07-29",
          "2019-07-29",
          "2019-07-29",
          "2019-09-11",
          "2019-09-11",
          "2019-09-11",
          "2019-09-11",
          "2019-09-11",
          "2019-09-11",
          "2019-09-11",
          "2019-09-11",
          "2019-09-11",
          "2019-09-11",
          "2019-09-27",
          "2019-09-27",
          "2019-09-27",
          "2019-09-27",
          "2019-09-27",
          "2019-09-27",
          "2019-09-27",
          "2019-09-27",
          "2019-09-27",
          "2019-09-27",
          "2019-10-07",
          "2019-10-07",
          "2019-10-07",
          "2019-10-07",
          "2019-10-07",
          "2019-10-07",
          "2019-10-07",
          "2019-10-07",
          "2019-10-07",
          "2019-10-07",
          "2019-10-17",
          "2019-10-17",
          "2019-10-17",
          "2019-10-17",
          "2019-10-17",
          "2019-10-17",
          "2019-10-17",
          "2019-10-17",
          "2019-10-17",
          "2019-10-17",
          "2020-02-23",
          "2020-02-23",
          "2020-02-23",
          "2020-02-23",
          "2020-02-23",
          "2020-02-23",
          "2020-02-23",
          "2020-02-23",
          "2020-02-23",
          "2020-02-23",
          "2020-09-19",
          "2020-09-19",
          "2020-09-19",
          "2020-09-19",
          "2020-09-19",
          "2020-09-19",
          "2020-09-19",
          "2020-09-19",
          "2020-09-19",
          "2020-09-19",
          "2020-11-25",
          "2020-11-25",
          "2020-11-25",
          "2020-11-25",
          "2020-11-25",
          "2020-11-25",
          "2020-11-25",
          "2020-11-25",
          "2020-11-25",
          "2020-11-25"
         ],
         "xaxis": "x",
         "y": [
          "2019-01-22",
          "2019-03-15",
          "2019-05-24",
          "2019-08-28",
          "2020-01-25",
          "2020-04-13",
          "2020-04-30",
          "2020-06-03",
          "2020-09-09",
          "2020-12-06",
          "2019-01-22",
          "2019-03-15",
          "2019-05-24",
          "2019-08-28",
          "2020-01-25",
          "2020-04-13",
          "2020-04-30",
          "2020-06-03",
          "2020-09-09",
          "2020-12-06",
          "2019-01-22",
          "2019-03-15",
          "2019-05-24",
          "2019-08-28",
          "2020-01-25",
          "2020-04-13",
          "2020-04-30",
          "2020-06-03",
          "2020-09-09",
          "2020-12-06",
          "2019-01-22",
          "2019-03-15",
          "2019-05-24",
          "2019-08-28",
          "2020-01-25",
          "2020-04-13",
          "2020-04-30",
          "2020-06-03",
          "2020-09-09",
          "2020-12-06",
          "2019-01-22",
          "2019-03-15",
          "2019-05-24",
          "2019-08-28",
          "2020-01-25",
          "2020-04-13",
          "2020-04-30",
          "2020-06-03",
          "2020-09-09",
          "2020-12-06",
          "2019-01-22",
          "2019-03-15",
          "2019-05-24",
          "2019-08-28",
          "2020-01-25",
          "2020-04-13",
          "2020-04-30",
          "2020-06-03",
          "2020-09-09",
          "2020-12-06",
          "2019-01-22",
          "2019-03-15",
          "2019-05-24",
          "2019-08-28",
          "2020-01-25",
          "2020-04-13",
          "2020-04-30",
          "2020-06-03",
          "2020-09-09",
          "2020-12-06",
          "2019-01-22",
          "2019-03-15",
          "2019-05-24",
          "2019-08-28",
          "2020-01-25",
          "2020-04-13",
          "2020-04-30",
          "2020-06-03",
          "2020-09-09",
          "2020-12-06",
          "2019-01-22",
          "2019-03-15",
          "2019-05-24",
          "2019-08-28",
          "2020-01-25",
          "2020-04-13",
          "2020-04-30",
          "2020-06-03",
          "2020-09-09",
          "2020-12-06",
          "2019-01-22",
          "2019-03-15",
          "2019-05-24",
          "2019-08-28",
          "2020-01-25",
          "2020-04-13",
          "2020-04-30",
          "2020-06-03",
          "2020-09-09",
          "2020-12-06"
         ],
         "yaxis": "y"
        }
       ],
       "layout": {
        "coloraxis": {
         "colorbar": {
          "title": {
           "text": "similarity"
          }
         },
         "colorscale": [
          [
           0.0,
           "#0d0887"
          ],
          [
           0.1111111111111111,
           "#46039f"
          ],
          [
           0.2222222222222222,
           "#7201a8"
          ],
          [
           0.3333333333333333,
           "#9c179e"
          ],
          [
           0.4444444444444444,
           "#bd3786"
          ],
          [
           0.5555555555555556,
           "#d8576b"
          ],
          [
           0.6666666666666666,
           "#ed7953"
          ],
          [
           0.7777777777777778,
           "#fb9f3a"
          ],
          [
           0.8888888888888888,
           "#fdca26"
          ],
          [
           1.0,
           "#f0f921"
          ]
         ]
        },
        "legend": {
         "tracegroupgap": 0
        },
        "margin": {
         "t": 60
        },
        "template": {
         "data": {
          "bar": [
           {
            "error_x": {
             "color": "#2a3f5f"
            },
            "error_y": {
             "color": "#2a3f5f"
            },
            "marker": {
             "line": {
              "color": "#E5ECF6",
              "width": 0.5
             },
             "pattern": {
              "fillmode": "overlay",
              "size": 10,
              "solidity": 0.2
             }
            },
            "type": "bar"
           }
          ],
          "barpolar": [
           {
            "marker": {
             "line": {
              "color": "#E5ECF6",
              "width": 0.5
             },
             "pattern": {
              "fillmode": "overlay",
              "size": 10,
              "solidity": 0.2
             }
            },
            "type": "barpolar"
           }
          ],
          "carpet": [
           {
            "aaxis": {
             "endlinecolor": "#2a3f5f",
             "gridcolor": "white",
             "linecolor": "white",
             "minorgridcolor": "white",
             "startlinecolor": "#2a3f5f"
            },
            "baxis": {
             "endlinecolor": "#2a3f5f",
             "gridcolor": "white",
             "linecolor": "white",
             "minorgridcolor": "white",
             "startlinecolor": "#2a3f5f"
            },
            "type": "carpet"
           }
          ],
          "choropleth": [
           {
            "colorbar": {
             "outlinewidth": 0,
             "ticks": ""
            },
            "type": "choropleth"
           }
          ],
          "contour": [
           {
            "colorbar": {
             "outlinewidth": 0,
             "ticks": ""
            },
            "colorscale": [
             [
              0.0,
              "#0d0887"
             ],
             [
              0.1111111111111111,
              "#46039f"
             ],
             [
              0.2222222222222222,
              "#7201a8"
             ],
             [
              0.3333333333333333,
              "#9c179e"
             ],
             [
              0.4444444444444444,
              "#bd3786"
             ],
             [
              0.5555555555555556,
              "#d8576b"
             ],
             [
              0.6666666666666666,
              "#ed7953"
             ],
             [
              0.7777777777777778,
              "#fb9f3a"
             ],
             [
              0.8888888888888888,
              "#fdca26"
             ],
             [
              1.0,
              "#f0f921"
             ]
            ],
            "type": "contour"
           }
          ],
          "contourcarpet": [
           {
            "colorbar": {
             "outlinewidth": 0,
             "ticks": ""
            },
            "type": "contourcarpet"
           }
          ],
          "heatmap": [
           {
            "colorbar": {
             "outlinewidth": 0,
             "ticks": ""
            },
            "colorscale": [
             [
              0.0,
              "#0d0887"
             ],
             [
              0.1111111111111111,
              "#46039f"
             ],
             [
              0.2222222222222222,
              "#7201a8"
             ],
             [
              0.3333333333333333,
              "#9c179e"
             ],
             [
              0.4444444444444444,
              "#bd3786"
             ],
             [
              0.5555555555555556,
              "#d8576b"
             ],
             [
              0.6666666666666666,
              "#ed7953"
             ],
             [
              0.7777777777777778,
              "#fb9f3a"
             ],
             [
              0.8888888888888888,
              "#fdca26"
             ],
             [
              1.0,
              "#f0f921"
             ]
            ],
            "type": "heatmap"
           }
          ],
          "heatmapgl": [
           {
            "colorbar": {
             "outlinewidth": 0,
             "ticks": ""
            },
            "colorscale": [
             [
              0.0,
              "#0d0887"
             ],
             [
              0.1111111111111111,
              "#46039f"
             ],
             [
              0.2222222222222222,
              "#7201a8"
             ],
             [
              0.3333333333333333,
              "#9c179e"
             ],
             [
              0.4444444444444444,
              "#bd3786"
             ],
             [
              0.5555555555555556,
              "#d8576b"
             ],
             [
              0.6666666666666666,
              "#ed7953"
             ],
             [
              0.7777777777777778,
              "#fb9f3a"
             ],
             [
              0.8888888888888888,
              "#fdca26"
             ],
             [
              1.0,
              "#f0f921"
             ]
            ],
            "type": "heatmapgl"
           }
          ],
          "histogram": [
           {
            "marker": {
             "pattern": {
              "fillmode": "overlay",
              "size": 10,
              "solidity": 0.2
             }
            },
            "type": "histogram"
           }
          ],
          "histogram2d": [
           {
            "colorbar": {
             "outlinewidth": 0,
             "ticks": ""
            },
            "colorscale": [
             [
              0.0,
              "#0d0887"
             ],
             [
              0.1111111111111111,
              "#46039f"
             ],
             [
              0.2222222222222222,
              "#7201a8"
             ],
             [
              0.3333333333333333,
              "#9c179e"
             ],
             [
              0.4444444444444444,
              "#bd3786"
             ],
             [
              0.5555555555555556,
              "#d8576b"
             ],
             [
              0.6666666666666666,
              "#ed7953"
             ],
             [
              0.7777777777777778,
              "#fb9f3a"
             ],
             [
              0.8888888888888888,
              "#fdca26"
             ],
             [
              1.0,
              "#f0f921"
             ]
            ],
            "type": "histogram2d"
           }
          ],
          "histogram2dcontour": [
           {
            "colorbar": {
             "outlinewidth": 0,
             "ticks": ""
            },
            "colorscale": [
             [
              0.0,
              "#0d0887"
             ],
             [
              0.1111111111111111,
              "#46039f"
             ],
             [
              0.2222222222222222,
              "#7201a8"
             ],
             [
              0.3333333333333333,
              "#9c179e"
             ],
             [
              0.4444444444444444,
              "#bd3786"
             ],
             [
              0.5555555555555556,
              "#d8576b"
             ],
             [
              0.6666666666666666,
              "#ed7953"
             ],
             [
              0.7777777777777778,
              "#fb9f3a"
             ],
             [
              0.8888888888888888,
              "#fdca26"
             ],
             [
              1.0,
              "#f0f921"
             ]
            ],
            "type": "histogram2dcontour"
           }
          ],
          "mesh3d": [
           {
            "colorbar": {
             "outlinewidth": 0,
             "ticks": ""
            },
            "type": "mesh3d"
           }
          ],
          "parcoords": [
           {
            "line": {
             "colorbar": {
              "outlinewidth": 0,
              "ticks": ""
             }
            },
            "type": "parcoords"
           }
          ],
          "pie": [
           {
            "automargin": true,
            "type": "pie"
           }
          ],
          "scatter": [
           {
            "marker": {
             "colorbar": {
              "outlinewidth": 0,
              "ticks": ""
             }
            },
            "type": "scatter"
           }
          ],
          "scatter3d": [
           {
            "line": {
             "colorbar": {
              "outlinewidth": 0,
              "ticks": ""
             }
            },
            "marker": {
             "colorbar": {
              "outlinewidth": 0,
              "ticks": ""
             }
            },
            "type": "scatter3d"
           }
          ],
          "scattercarpet": [
           {
            "marker": {
             "colorbar": {
              "outlinewidth": 0,
              "ticks": ""
             }
            },
            "type": "scattercarpet"
           }
          ],
          "scattergeo": [
           {
            "marker": {
             "colorbar": {
              "outlinewidth": 0,
              "ticks": ""
             }
            },
            "type": "scattergeo"
           }
          ],
          "scattergl": [
           {
            "marker": {
             "colorbar": {
              "outlinewidth": 0,
              "ticks": ""
             }
            },
            "type": "scattergl"
           }
          ],
          "scattermapbox": [
           {
            "marker": {
             "colorbar": {
              "outlinewidth": 0,
              "ticks": ""
             }
            },
            "type": "scattermapbox"
           }
          ],
          "scatterpolar": [
           {
            "marker": {
             "colorbar": {
              "outlinewidth": 0,
              "ticks": ""
             }
            },
            "type": "scatterpolar"
           }
          ],
          "scatterpolargl": [
           {
            "marker": {
             "colorbar": {
              "outlinewidth": 0,
              "ticks": ""
             }
            },
            "type": "scatterpolargl"
           }
          ],
          "scatterternary": [
           {
            "marker": {
             "colorbar": {
              "outlinewidth": 0,
              "ticks": ""
             }
            },
            "type": "scatterternary"
           }
          ],
          "surface": [
           {
            "colorbar": {
             "outlinewidth": 0,
             "ticks": ""
            },
            "colorscale": [
             [
              0.0,
              "#0d0887"
             ],
             [
              0.1111111111111111,
              "#46039f"
             ],
             [
              0.2222222222222222,
              "#7201a8"
             ],
             [
              0.3333333333333333,
              "#9c179e"
             ],
             [
              0.4444444444444444,
              "#bd3786"
             ],
             [
              0.5555555555555556,
              "#d8576b"
             ],
             [
              0.6666666666666666,
              "#ed7953"
             ],
             [
              0.7777777777777778,
              "#fb9f3a"
             ],
             [
              0.8888888888888888,
              "#fdca26"
             ],
             [
              1.0,
              "#f0f921"
             ]
            ],
            "type": "surface"
           }
          ],
          "table": [
           {
            "cells": {
             "fill": {
              "color": "#EBF0F8"
             },
             "line": {
              "color": "white"
             }
            },
            "header": {
             "fill": {
              "color": "#C8D4E3"
             },
             "line": {
              "color": "white"
             }
            },
            "type": "table"
           }
          ]
         },
         "layout": {
          "annotationdefaults": {
           "arrowcolor": "#2a3f5f",
           "arrowhead": 0,
           "arrowwidth": 1
          },
          "autotypenumbers": "strict",
          "coloraxis": {
           "colorbar": {
            "outlinewidth": 0,
            "ticks": ""
           }
          },
          "colorscale": {
           "diverging": [
            [
             0,
             "#8e0152"
            ],
            [
             0.1,
             "#c51b7d"
            ],
            [
             0.2,
             "#de77ae"
            ],
            [
             0.3,
             "#f1b6da"
            ],
            [
             0.4,
             "#fde0ef"
            ],
            [
             0.5,
             "#f7f7f7"
            ],
            [
             0.6,
             "#e6f5d0"
            ],
            [
             0.7,
             "#b8e186"
            ],
            [
             0.8,
             "#7fbc41"
            ],
            [
             0.9,
             "#4d9221"
            ],
            [
             1,
             "#276419"
            ]
           ],
           "sequential": [
            [
             0.0,
             "#0d0887"
            ],
            [
             0.1111111111111111,
             "#46039f"
            ],
            [
             0.2222222222222222,
             "#7201a8"
            ],
            [
             0.3333333333333333,
             "#9c179e"
            ],
            [
             0.4444444444444444,
             "#bd3786"
            ],
            [
             0.5555555555555556,
             "#d8576b"
            ],
            [
             0.6666666666666666,
             "#ed7953"
            ],
            [
             0.7777777777777778,
             "#fb9f3a"
            ],
            [
             0.8888888888888888,
             "#fdca26"
            ],
            [
             1.0,
             "#f0f921"
            ]
           ],
           "sequentialminus": [
            [
             0.0,
             "#0d0887"
            ],
            [
             0.1111111111111111,
             "#46039f"
            ],
            [
             0.2222222222222222,
             "#7201a8"
            ],
            [
             0.3333333333333333,
             "#9c179e"
            ],
            [
             0.4444444444444444,
             "#bd3786"
            ],
            [
             0.5555555555555556,
             "#d8576b"
            ],
            [
             0.6666666666666666,
             "#ed7953"
            ],
            [
             0.7777777777777778,
             "#fb9f3a"
            ],
            [
             0.8888888888888888,
             "#fdca26"
            ],
            [
             1.0,
             "#f0f921"
            ]
           ]
          },
          "colorway": [
           "#636efa",
           "#EF553B",
           "#00cc96",
           "#ab63fa",
           "#FFA15A",
           "#19d3f3",
           "#FF6692",
           "#B6E880",
           "#FF97FF",
           "#FECB52"
          ],
          "font": {
           "color": "#2a3f5f"
          },
          "geo": {
           "bgcolor": "white",
           "lakecolor": "white",
           "landcolor": "#E5ECF6",
           "showlakes": true,
           "showland": true,
           "subunitcolor": "white"
          },
          "hoverlabel": {
           "align": "left"
          },
          "hovermode": "closest",
          "mapbox": {
           "style": "light"
          },
          "paper_bgcolor": "white",
          "plot_bgcolor": "#E5ECF6",
          "polar": {
           "angularaxis": {
            "gridcolor": "white",
            "linecolor": "white",
            "ticks": ""
           },
           "bgcolor": "#E5ECF6",
           "radialaxis": {
            "gridcolor": "white",
            "linecolor": "white",
            "ticks": ""
           }
          },
          "scene": {
           "xaxis": {
            "backgroundcolor": "#E5ECF6",
            "gridcolor": "white",
            "gridwidth": 2,
            "linecolor": "white",
            "showbackground": true,
            "ticks": "",
            "zerolinecolor": "white"
           },
           "yaxis": {
            "backgroundcolor": "#E5ECF6",
            "gridcolor": "white",
            "gridwidth": 2,
            "linecolor": "white",
            "showbackground": true,
            "ticks": "",
            "zerolinecolor": "white"
           },
           "zaxis": {
            "backgroundcolor": "#E5ECF6",
            "gridcolor": "white",
            "gridwidth": 2,
            "linecolor": "white",
            "showbackground": true,
            "ticks": "",
            "zerolinecolor": "white"
           }
          },
          "shapedefaults": {
           "line": {
            "color": "#2a3f5f"
           }
          },
          "ternary": {
           "aaxis": {
            "gridcolor": "white",
            "linecolor": "white",
            "ticks": ""
           },
           "baxis": {
            "gridcolor": "white",
            "linecolor": "white",
            "ticks": ""
           },
           "bgcolor": "#E5ECF6",
           "caxis": {
            "gridcolor": "white",
            "linecolor": "white",
            "ticks": ""
           }
          },
          "title": {
           "x": 0.05
          },
          "xaxis": {
           "automargin": true,
           "gridcolor": "white",
           "linecolor": "white",
           "ticks": "",
           "title": {
            "standoff": 15
           },
           "zerolinecolor": "white",
           "zerolinewidth": 2
          },
          "yaxis": {
           "automargin": true,
           "gridcolor": "white",
           "linecolor": "white",
           "ticks": "",
           "title": {
            "standoff": 15
           },
           "zerolinecolor": "white",
           "zerolinewidth": 2
          }
         }
        },
        "xaxis": {
         "anchor": "y",
         "domain": [
          0.0,
          1.0
         ],
         "title": {
          "text": "date_x"
         }
        },
        "yaxis": {
         "anchor": "x",
         "domain": [
          0.0,
          1.0
         ],
         "title": {
          "text": "date_y"
         }
        }
       }
      },
      "text/html": "<div>                            <div id=\"1dee33bf-b67d-4e4b-80f7-19dd2d60ef19\" class=\"plotly-graph-div\" style=\"height:525px; width:100%;\"></div>            <script type=\"text/javascript\">                require([\"plotly\"], function(Plotly) {                    window.PLOTLYENV=window.PLOTLYENV || {};                                    if (document.getElementById(\"1dee33bf-b67d-4e4b-80f7-19dd2d60ef19\")) {                    Plotly.newPlot(                        \"1dee33bf-b67d-4e4b-80f7-19dd2d60ef19\",                        [{\"hovertemplate\":\"date_x=%{x}<br>date_y=%{y}<br>similarity=%{marker.color}<extra></extra>\",\"legendgroup\":\"\",\"marker\":{\"color\":[0.47170491594624864,0.40026521794702286,0.8254334815816723,0.5819022084714816,0.7160741557791279,0.3996235743661133,0.734164155302153,0.30907801158294024,0.4374927902530863,0.9041483213946887,0.9081960292135851,0.8699320138976977,0.9021673662363713,0.9630176163311441,0.38223756269876386,0.2808550932242835,0.13797678192938045,0.11804768024934931,0.00766791141640788,0.30317917392593274,0.18133596591548073,0.37137914025978647,0.19551764870187616,0.16927909312204825,0.8935497154581657,0.7911439542280313,0.45270074804695126,0.6622865413542982,0.45747385253125317,0.8611497737455044,0.12242813590954216,0.2156840771919285,0.22377661171913688,0.9877817733534484,0.3371016444626941,0.29144731774485466,0.19227325624316027,0.8053939802837509,0.359303658124688,0.10689736699483343,0.7148604058028408,0.46721921077168216,0.62540765668472,0.12101824005230422,0.503728637761604,0.6453839628242684,0.3519170859558173,0.40347430947270724,0.9526989974738894,0.43473068699952566,0.06398808982650228,0.8091010422747709,0.40784088836425814,0.17573243885753087,0.5924957289604743,0.12068137987285954,0.030023094707298914,0.809226163220018,0.00891830673342242,0.07559902446907896,0.41749930426016224,0.6884197019299991,0.9553882698918794,0.8929923580564777,0.5344871381167634,0.49803675797631886,0.697554022299184,0.36160691897102293,0.7275945573445509,0.40651691556926595,0.06602425558849023,0.22316182997554712,0.7938986007330602,0.9886351847764423,0.6690571284655737,0.9185277616761837,0.01553089491741233,0.06229076446885273,0.5805680751104226,0.413222897909473,0.6126870606020874,0.9079080696891184,0.9070552977281428,0.36933920581694935,0.6494998248265175,0.8556666812063842,0.06883299185928371,0.6311629949498244,0.7363628792402475,0.3385310538479669,0.3391828575426842,0.7359102841277003,0.8510837588345407,0.37964168265274034,0.3159352193516344,0.877905382822748,0.671117013152719,0.4405716450808719,0.9614427677150713,0.895526448622984],\"coloraxis\":\"coloraxis\",\"symbol\":\"circle\"},\"mode\":\"markers\",\"name\":\"\",\"orientation\":\"v\",\"showlegend\":false,\"type\":\"scatter\",\"x\":[\"2019-05-26\",\"2019-05-26\",\"2019-05-26\",\"2019-05-26\",\"2019-05-26\",\"2019-05-26\",\"2019-05-26\",\"2019-05-26\",\"2019-05-26\",\"2019-05-26\",\"2019-06-26\",\"2019-06-26\",\"2019-06-26\",\"2019-06-26\",\"2019-06-26\",\"2019-06-26\",\"2019-06-26\",\"2019-06-26\",\"2019-06-26\",\"2019-06-26\",\"2019-07-29\",\"2019-07-29\",\"2019-07-29\",\"2019-07-29\",\"2019-07-29\",\"2019-07-29\",\"2019-07-29\",\"2019-07-29\",\"2019-07-29\",\"2019-07-29\",\"2019-09-11\",\"2019-09-11\",\"2019-09-11\",\"2019-09-11\",\"2019-09-11\",\"2019-09-11\",\"2019-09-11\",\"2019-09-11\",\"2019-09-11\",\"2019-09-11\",\"2019-09-27\",\"2019-09-27\",\"2019-09-27\",\"2019-09-27\",\"2019-09-27\",\"2019-09-27\",\"2019-09-27\",\"2019-09-27\",\"2019-09-27\",\"2019-09-27\",\"2019-10-07\",\"2019-10-07\",\"2019-10-07\",\"2019-10-07\",\"2019-10-07\",\"2019-10-07\",\"2019-10-07\",\"2019-10-07\",\"2019-10-07\",\"2019-10-07\",\"2019-10-17\",\"2019-10-17\",\"2019-10-17\",\"2019-10-17\",\"2019-10-17\",\"2019-10-17\",\"2019-10-17\",\"2019-10-17\",\"2019-10-17\",\"2019-10-17\",\"2020-02-23\",\"2020-02-23\",\"2020-02-23\",\"2020-02-23\",\"2020-02-23\",\"2020-02-23\",\"2020-02-23\",\"2020-02-23\",\"2020-02-23\",\"2020-02-23\",\"2020-09-19\",\"2020-09-19\",\"2020-09-19\",\"2020-09-19\",\"2020-09-19\",\"2020-09-19\",\"2020-09-19\",\"2020-09-19\",\"2020-09-19\",\"2020-09-19\",\"2020-11-25\",\"2020-11-25\",\"2020-11-25\",\"2020-11-25\",\"2020-11-25\",\"2020-11-25\",\"2020-11-25\",\"2020-11-25\",\"2020-11-25\",\"2020-11-25\"],\"xaxis\":\"x\",\"y\":[\"2019-01-22\",\"2019-03-15\",\"2019-05-24\",\"2019-08-28\",\"2020-01-25\",\"2020-04-13\",\"2020-04-30\",\"2020-06-03\",\"2020-09-09\",\"2020-12-06\",\"2019-01-22\",\"2019-03-15\",\"2019-05-24\",\"2019-08-28\",\"2020-01-25\",\"2020-04-13\",\"2020-04-30\",\"2020-06-03\",\"2020-09-09\",\"2020-12-06\",\"2019-01-22\",\"2019-03-15\",\"2019-05-24\",\"2019-08-28\",\"2020-01-25\",\"2020-04-13\",\"2020-04-30\",\"2020-06-03\",\"2020-09-09\",\"2020-12-06\",\"2019-01-22\",\"2019-03-15\",\"2019-05-24\",\"2019-08-28\",\"2020-01-25\",\"2020-04-13\",\"2020-04-30\",\"2020-06-03\",\"2020-09-09\",\"2020-12-06\",\"2019-01-22\",\"2019-03-15\",\"2019-05-24\",\"2019-08-28\",\"2020-01-25\",\"2020-04-13\",\"2020-04-30\",\"2020-06-03\",\"2020-09-09\",\"2020-12-06\",\"2019-01-22\",\"2019-03-15\",\"2019-05-24\",\"2019-08-28\",\"2020-01-25\",\"2020-04-13\",\"2020-04-30\",\"2020-06-03\",\"2020-09-09\",\"2020-12-06\",\"2019-01-22\",\"2019-03-15\",\"2019-05-24\",\"2019-08-28\",\"2020-01-25\",\"2020-04-13\",\"2020-04-30\",\"2020-06-03\",\"2020-09-09\",\"2020-12-06\",\"2019-01-22\",\"2019-03-15\",\"2019-05-24\",\"2019-08-28\",\"2020-01-25\",\"2020-04-13\",\"2020-04-30\",\"2020-06-03\",\"2020-09-09\",\"2020-12-06\",\"2019-01-22\",\"2019-03-15\",\"2019-05-24\",\"2019-08-28\",\"2020-01-25\",\"2020-04-13\",\"2020-04-30\",\"2020-06-03\",\"2020-09-09\",\"2020-12-06\",\"2019-01-22\",\"2019-03-15\",\"2019-05-24\",\"2019-08-28\",\"2020-01-25\",\"2020-04-13\",\"2020-04-30\",\"2020-06-03\",\"2020-09-09\",\"2020-12-06\"],\"yaxis\":\"y\"}],                        {\"coloraxis\":{\"colorbar\":{\"title\":{\"text\":\"similarity\"}},\"colorscale\":[[0.0,\"#0d0887\"],[0.1111111111111111,\"#46039f\"],[0.2222222222222222,\"#7201a8\"],[0.3333333333333333,\"#9c179e\"],[0.4444444444444444,\"#bd3786\"],[0.5555555555555556,\"#d8576b\"],[0.6666666666666666,\"#ed7953\"],[0.7777777777777778,\"#fb9f3a\"],[0.8888888888888888,\"#fdca26\"],[1.0,\"#f0f921\"]]},\"legend\":{\"tracegroupgap\":0},\"margin\":{\"t\":60},\"template\":{\"data\":{\"bar\":[{\"error_x\":{\"color\":\"#2a3f5f\"},\"error_y\":{\"color\":\"#2a3f5f\"},\"marker\":{\"line\":{\"color\":\"#E5ECF6\",\"width\":0.5},\"pattern\":{\"fillmode\":\"overlay\",\"size\":10,\"solidity\":0.2}},\"type\":\"bar\"}],\"barpolar\":[{\"marker\":{\"line\":{\"color\":\"#E5ECF6\",\"width\":0.5},\"pattern\":{\"fillmode\":\"overlay\",\"size\":10,\"solidity\":0.2}},\"type\":\"barpolar\"}],\"carpet\":[{\"aaxis\":{\"endlinecolor\":\"#2a3f5f\",\"gridcolor\":\"white\",\"linecolor\":\"white\",\"minorgridcolor\":\"white\",\"startlinecolor\":\"#2a3f5f\"},\"baxis\":{\"endlinecolor\":\"#2a3f5f\",\"gridcolor\":\"white\",\"linecolor\":\"white\",\"minorgridcolor\":\"white\",\"startlinecolor\":\"#2a3f5f\"},\"type\":\"carpet\"}],\"choropleth\":[{\"colorbar\":{\"outlinewidth\":0,\"ticks\":\"\"},\"type\":\"choropleth\"}],\"contour\":[{\"colorbar\":{\"outlinewidth\":0,\"ticks\":\"\"},\"colorscale\":[[0.0,\"#0d0887\"],[0.1111111111111111,\"#46039f\"],[0.2222222222222222,\"#7201a8\"],[0.3333333333333333,\"#9c179e\"],[0.4444444444444444,\"#bd3786\"],[0.5555555555555556,\"#d8576b\"],[0.6666666666666666,\"#ed7953\"],[0.7777777777777778,\"#fb9f3a\"],[0.8888888888888888,\"#fdca26\"],[1.0,\"#f0f921\"]],\"type\":\"contour\"}],\"contourcarpet\":[{\"colorbar\":{\"outlinewidth\":0,\"ticks\":\"\"},\"type\":\"contourcarpet\"}],\"heatmap\":[{\"colorbar\":{\"outlinewidth\":0,\"ticks\":\"\"},\"colorscale\":[[0.0,\"#0d0887\"],[0.1111111111111111,\"#46039f\"],[0.2222222222222222,\"#7201a8\"],[0.3333333333333333,\"#9c179e\"],[0.4444444444444444,\"#bd3786\"],[0.5555555555555556,\"#d8576b\"],[0.6666666666666666,\"#ed7953\"],[0.7777777777777778,\"#fb9f3a\"],[0.8888888888888888,\"#fdca26\"],[1.0,\"#f0f921\"]],\"type\":\"heatmap\"}],\"heatmapgl\":[{\"colorbar\":{\"outlinewidth\":0,\"ticks\":\"\"},\"colorscale\":[[0.0,\"#0d0887\"],[0.1111111111111111,\"#46039f\"],[0.2222222222222222,\"#7201a8\"],[0.3333333333333333,\"#9c179e\"],[0.4444444444444444,\"#bd3786\"],[0.5555555555555556,\"#d8576b\"],[0.6666666666666666,\"#ed7953\"],[0.7777777777777778,\"#fb9f3a\"],[0.8888888888888888,\"#fdca26\"],[1.0,\"#f0f921\"]],\"type\":\"heatmapgl\"}],\"histogram\":[{\"marker\":{\"pattern\":{\"fillmode\":\"overlay\",\"size\":10,\"solidity\":0.2}},\"type\":\"histogram\"}],\"histogram2d\":[{\"colorbar\":{\"outlinewidth\":0,\"ticks\":\"\"},\"colorscale\":[[0.0,\"#0d0887\"],[0.1111111111111111,\"#46039f\"],[0.2222222222222222,\"#7201a8\"],[0.3333333333333333,\"#9c179e\"],[0.4444444444444444,\"#bd3786\"],[0.5555555555555556,\"#d8576b\"],[0.6666666666666666,\"#ed7953\"],[0.7777777777777778,\"#fb9f3a\"],[0.8888888888888888,\"#fdca26\"],[1.0,\"#f0f921\"]],\"type\":\"histogram2d\"}],\"histogram2dcontour\":[{\"colorbar\":{\"outlinewidth\":0,\"ticks\":\"\"},\"colorscale\":[[0.0,\"#0d0887\"],[0.1111111111111111,\"#46039f\"],[0.2222222222222222,\"#7201a8\"],[0.3333333333333333,\"#9c179e\"],[0.4444444444444444,\"#bd3786\"],[0.5555555555555556,\"#d8576b\"],[0.6666666666666666,\"#ed7953\"],[0.7777777777777778,\"#fb9f3a\"],[0.8888888888888888,\"#fdca26\"],[1.0,\"#f0f921\"]],\"type\":\"histogram2dcontour\"}],\"mesh3d\":[{\"colorbar\":{\"outlinewidth\":0,\"ticks\":\"\"},\"type\":\"mesh3d\"}],\"parcoords\":[{\"line\":{\"colorbar\":{\"outlinewidth\":0,\"ticks\":\"\"}},\"type\":\"parcoords\"}],\"pie\":[{\"automargin\":true,\"type\":\"pie\"}],\"scatter\":[{\"marker\":{\"colorbar\":{\"outlinewidth\":0,\"ticks\":\"\"}},\"type\":\"scatter\"}],\"scatter3d\":[{\"line\":{\"colorbar\":{\"outlinewidth\":0,\"ticks\":\"\"}},\"marker\":{\"colorbar\":{\"outlinewidth\":0,\"ticks\":\"\"}},\"type\":\"scatter3d\"}],\"scattercarpet\":[{\"marker\":{\"colorbar\":{\"outlinewidth\":0,\"ticks\":\"\"}},\"type\":\"scattercarpet\"}],\"scattergeo\":[{\"marker\":{\"colorbar\":{\"outlinewidth\":0,\"ticks\":\"\"}},\"type\":\"scattergeo\"}],\"scattergl\":[{\"marker\":{\"colorbar\":{\"outlinewidth\":0,\"ticks\":\"\"}},\"type\":\"scattergl\"}],\"scattermapbox\":[{\"marker\":{\"colorbar\":{\"outlinewidth\":0,\"ticks\":\"\"}},\"type\":\"scattermapbox\"}],\"scatterpolar\":[{\"marker\":{\"colorbar\":{\"outlinewidth\":0,\"ticks\":\"\"}},\"type\":\"scatterpolar\"}],\"scatterpolargl\":[{\"marker\":{\"colorbar\":{\"outlinewidth\":0,\"ticks\":\"\"}},\"type\":\"scatterpolargl\"}],\"scatterternary\":[{\"marker\":{\"colorbar\":{\"outlinewidth\":0,\"ticks\":\"\"}},\"type\":\"scatterternary\"}],\"surface\":[{\"colorbar\":{\"outlinewidth\":0,\"ticks\":\"\"},\"colorscale\":[[0.0,\"#0d0887\"],[0.1111111111111111,\"#46039f\"],[0.2222222222222222,\"#7201a8\"],[0.3333333333333333,\"#9c179e\"],[0.4444444444444444,\"#bd3786\"],[0.5555555555555556,\"#d8576b\"],[0.6666666666666666,\"#ed7953\"],[0.7777777777777778,\"#fb9f3a\"],[0.8888888888888888,\"#fdca26\"],[1.0,\"#f0f921\"]],\"type\":\"surface\"}],\"table\":[{\"cells\":{\"fill\":{\"color\":\"#EBF0F8\"},\"line\":{\"color\":\"white\"}},\"header\":{\"fill\":{\"color\":\"#C8D4E3\"},\"line\":{\"color\":\"white\"}},\"type\":\"table\"}]},\"layout\":{\"annotationdefaults\":{\"arrowcolor\":\"#2a3f5f\",\"arrowhead\":0,\"arrowwidth\":1},\"autotypenumbers\":\"strict\",\"coloraxis\":{\"colorbar\":{\"outlinewidth\":0,\"ticks\":\"\"}},\"colorscale\":{\"diverging\":[[0,\"#8e0152\"],[0.1,\"#c51b7d\"],[0.2,\"#de77ae\"],[0.3,\"#f1b6da\"],[0.4,\"#fde0ef\"],[0.5,\"#f7f7f7\"],[0.6,\"#e6f5d0\"],[0.7,\"#b8e186\"],[0.8,\"#7fbc41\"],[0.9,\"#4d9221\"],[1,\"#276419\"]],\"sequential\":[[0.0,\"#0d0887\"],[0.1111111111111111,\"#46039f\"],[0.2222222222222222,\"#7201a8\"],[0.3333333333333333,\"#9c179e\"],[0.4444444444444444,\"#bd3786\"],[0.5555555555555556,\"#d8576b\"],[0.6666666666666666,\"#ed7953\"],[0.7777777777777778,\"#fb9f3a\"],[0.8888888888888888,\"#fdca26\"],[1.0,\"#f0f921\"]],\"sequentialminus\":[[0.0,\"#0d0887\"],[0.1111111111111111,\"#46039f\"],[0.2222222222222222,\"#7201a8\"],[0.3333333333333333,\"#9c179e\"],[0.4444444444444444,\"#bd3786\"],[0.5555555555555556,\"#d8576b\"],[0.6666666666666666,\"#ed7953\"],[0.7777777777777778,\"#fb9f3a\"],[0.8888888888888888,\"#fdca26\"],[1.0,\"#f0f921\"]]},\"colorway\":[\"#636efa\",\"#EF553B\",\"#00cc96\",\"#ab63fa\",\"#FFA15A\",\"#19d3f3\",\"#FF6692\",\"#B6E880\",\"#FF97FF\",\"#FECB52\"],\"font\":{\"color\":\"#2a3f5f\"},\"geo\":{\"bgcolor\":\"white\",\"lakecolor\":\"white\",\"landcolor\":\"#E5ECF6\",\"showlakes\":true,\"showland\":true,\"subunitcolor\":\"white\"},\"hoverlabel\":{\"align\":\"left\"},\"hovermode\":\"closest\",\"mapbox\":{\"style\":\"light\"},\"paper_bgcolor\":\"white\",\"plot_bgcolor\":\"#E5ECF6\",\"polar\":{\"angularaxis\":{\"gridcolor\":\"white\",\"linecolor\":\"white\",\"ticks\":\"\"},\"bgcolor\":\"#E5ECF6\",\"radialaxis\":{\"gridcolor\":\"white\",\"linecolor\":\"white\",\"ticks\":\"\"}},\"scene\":{\"xaxis\":{\"backgroundcolor\":\"#E5ECF6\",\"gridcolor\":\"white\",\"gridwidth\":2,\"linecolor\":\"white\",\"showbackground\":true,\"ticks\":\"\",\"zerolinecolor\":\"white\"},\"yaxis\":{\"backgroundcolor\":\"#E5ECF6\",\"gridcolor\":\"white\",\"gridwidth\":2,\"linecolor\":\"white\",\"showbackground\":true,\"ticks\":\"\",\"zerolinecolor\":\"white\"},\"zaxis\":{\"backgroundcolor\":\"#E5ECF6\",\"gridcolor\":\"white\",\"gridwidth\":2,\"linecolor\":\"white\",\"showbackground\":true,\"ticks\":\"\",\"zerolinecolor\":\"white\"}},\"shapedefaults\":{\"line\":{\"color\":\"#2a3f5f\"}},\"ternary\":{\"aaxis\":{\"gridcolor\":\"white\",\"linecolor\":\"white\",\"ticks\":\"\"},\"baxis\":{\"gridcolor\":\"white\",\"linecolor\":\"white\",\"ticks\":\"\"},\"bgcolor\":\"#E5ECF6\",\"caxis\":{\"gridcolor\":\"white\",\"linecolor\":\"white\",\"ticks\":\"\"}},\"title\":{\"x\":0.05},\"xaxis\":{\"automargin\":true,\"gridcolor\":\"white\",\"linecolor\":\"white\",\"ticks\":\"\",\"title\":{\"standoff\":15},\"zerolinecolor\":\"white\",\"zerolinewidth\":2},\"yaxis\":{\"automargin\":true,\"gridcolor\":\"white\",\"linecolor\":\"white\",\"ticks\":\"\",\"title\":{\"standoff\":15},\"zerolinecolor\":\"white\",\"zerolinewidth\":2}}},\"xaxis\":{\"anchor\":\"y\",\"domain\":[0.0,1.0],\"title\":{\"text\":\"date_x\"}},\"yaxis\":{\"anchor\":\"x\",\"domain\":[0.0,1.0],\"title\":{\"text\":\"date_y\"}}},                        {\"responsive\": true}                    ).then(function(){\n                            \nvar gd = document.getElementById('1dee33bf-b67d-4e4b-80f7-19dd2d60ef19');\nvar x = new MutationObserver(function (mutations, observer) {{\n        var display = window.getComputedStyle(gd).display;\n        if (!display || display === 'none') {{\n            console.log([gd, 'removed!']);\n            Plotly.purge(gd);\n            observer.disconnect();\n        }}\n}});\n\n// Listen for the removal of the full notebook cells\nvar notebookContainer = gd.closest('#notebook-container');\nif (notebookContainer) {{\n    x.observe(notebookContainer, {childList: true});\n}}\n\n// Listen for the clearing of the current output cell\nvar outputEl = gd.closest('.output');\nif (outputEl) {{\n    x.observe(outputEl, {childList: true});\n}}\n\n                        })                };                });            </script>        </div>"
     },
     "metadata": {},
     "output_type": "display_data"
    }
   ],
   "source": [
    "fig = px.scatter(test_df, x='date_x', y='date_y', color='similarity')\n",
    "fig.show()"
   ],
   "metadata": {
    "collapsed": false,
    "pycharm": {
     "name": "#%%\n"
    }
   }
  },
  {
   "cell_type": "code",
   "execution_count": 18,
   "outputs": [
    {
     "data": {
      "text/plain": "array(['003ea2a9313db86a3e0b9cd272d4dd861ed92cfab3a5d120725211cc113b1f93',\n       '004a77d6db5f3be729b4b3d8b7eb0ccb564defb037a0edcba96eb5c164d87a37',\n       '00abfb8547a6cfc95a4591e489431fd7803cbb8f51db632db1e462096e914c75',\n       ...,\n       '77d7e3c52aaf78bdfb1a1667641db1293bbff862440c547fc3f6e8ab4fbd0d4e',\n       'be8e21b382b63dd838087d7864e4d49a4807d9cc5d71aaa82577383ece92c581',\n       'c434820f8f8c0b1447ba2f6f62aed177b9597532d7fcd156c6f556532dd7d11e'],\n      dtype=object)"
     },
     "execution_count": 18,
     "metadata": {},
     "output_type": "execute_result"
    }
   ],
   "source": [
    "doc_emb.index.values"
   ],
   "metadata": {
    "collapsed": false,
    "pycharm": {
     "name": "#%%\n"
    }
   }
  },
  {
   "cell_type": "code",
   "execution_count": 20,
   "outputs": [],
   "source": [
    "set1 = set(df.index.values)\n",
    "set2 = set(doc_emb.index.values)"
   ],
   "metadata": {
    "collapsed": false,
    "pycharm": {
     "name": "#%%\n"
    }
   }
  },
  {
   "cell_type": "code",
   "execution_count": 23,
   "outputs": [
    {
     "data": {
      "text/plain": "{'e05b2722522b275e87cff18bb2cbb38a6648d08c3524343b769d50893ab5f4d9',\n '9a0674489638f34055d7f103731b7d4f4ca1c716c91b0731294bd3785c042026',\n '6d32c0115b65d0a184dc30c7aa8f1a16862cee7ed04dabae99a25aeaa809ba7e',\n 'acb785060c5c8e8f09ce9024267047f7a47c13e70a34cd4467dc9b7027f9b07c',\n 'c70a6b037776d04b1cdde3656c08e40f8d2738f05c6249f00009af51a72b1c0b',\n '8518fe3bffd37a7083b5f0a80dc0151afbd21c4965a7daf83f67b242bcfaddc3',\n '7f52ed4d80a57b9b4d498a2c677117a56147a7d85bc56a7fc61b69c5858c3f42',\n '635a75bf3be44401a899f12cb8377ccdf0e5f34146e2ae577534cb6fef293dd6',\n 'bd728a7a5aee52c9db6ede00b3dd78d34ddac29d1d2aeec8ae0c8f005ee02db6',\n '9f4d58fb1b700b8bb7f2576667894a3a255b4d5593b253dc70196360d81591ef',\n 'e811c111e6aa2b9ead0196132a53accef97cedd65f3ae64e1eddd1c1d96ef191',\n '2094248a1a106cc1f170ec23b2f1aef2a0b7bf0847783d9d3a077d40e6938865',\n '280ae582f17ad680a474c9fea81cad05824fefc0feaa4ec2a17abcedd23e4018',\n '16d3353567d1d20355e9b452c1ded68d053c14c6a117e793525eb2df4775855a',\n '7885321da9490c42391c8cb00e928df92a7727f25b3c8abc1c93036d932f4636',\n '7cb6141b50c3796ad7b8172cd3e9a22d38aa17ab0f707c7344e2fac6287b735e',\n 'c110277bdd0205a24950635af0b078bcad4b4b443813791ea0ee8bf9af9316e6',\n '5559178aff6db6d657d3ddad568e66d66ec56d3409c4f39bfbf79690ebae2c6e',\n '9e87c6c9e4c1be705f3b4785e87e2a054c92c34c8491885eaedbc8550705b3c8',\n '4993de8fd79e48b9f3b4cc5fa8f2739eb82b113db44e946e42e6d488ac41da32',\n '2e3e1e96ae41e394811c364c2c63423fcc121da8a69829cefbbdad553a2bbee9',\n '01ac77c410ba12ef2edded66c5cc7e33c5cefe50c151faf2f06bb0d9386fee32',\n 'db5d5b3a970b78a88b4b0cdf9e9cbf3d8173add3f88987a9cfa910f515b7ac5f',\n 'a49d666e808bf21a00c9e05873fdc37e6bce5738b0180979c5f2d36a62752bda',\n 'fa84632d331efa16e9d8cc6b028362c2b48695b022e2989d3544a7be300ac9d6',\n '2f900db0952fb742cd47446845a50b413469cea4deb3ae953e7821f0f67e586f',\n '1e1440775e9869222f3e5b511d9c3ba539dee8a752fdc0be1619a84052770400',\n 'dcf5be2176371ab201204418bb1b892ee1d652806a71e72118c979f1e2a9c490',\n 'cfcddbb4b9cace863055993f92194d6345f0ca388a2931c4143f8bd0759e5496',\n 'd098a05f1ff34a5a829eb71d9b3cf425c34fd3eed557f8830145452dbb163a72',\n '9b25ed7cd65201617d88ec9aaa626db5c512679edbd4229fc66f4692f15f7af1',\n 'edc7804fc8fcddfa603a79cf6fd5bb2cc57423634e20d712cf03b610db4ac699',\n 'f9b4b62a1c3b1c32a03ebee11645ef5cd854f012cfd7f318f873ca6e4917101b',\n 'ee352b51f456b13c1bba714a0b98b1596bde9e46cea6ae725aecafad24cf3259',\n '90c6452aa3c4ecb81e627dc3393e716954f4511563ef63721968d95dda80311d',\n 'fcae5bfb13b7f1c7e14d6e4e4da4047138c47cc0b2cf4ef2fffe42a0e87ad3c4',\n 'c20b0442888717843a44a5fcebe6196d0a31990b7df10678b6cde82703c98a1c',\n '1483160bc66d828a53af0e503c13e8cecff1ee3b670962f765907b5c56a45bcf',\n '459c2862d01f06cc8ffa213d11ef1a0b63383fb2eae542c8c38ac59380c57f0f',\n '8923d0358b9ddaac4b6303379cee67842419d7bce44fd46176a4ddd785be306f',\n '832faada57092dfebfdf0cd0fea788a63eaec0983a1236c0f16fbdf82cd9cf1f',\n '460f0228e92a8ec61d1417e259ed1b82da7aa40ffbfe9579227c60b4a1170c5e',\n '41fadc451420aea0a520e62c3e2195a56a33c8ecbc1e539b8e1193f6bc661f45',\n '59c11bac916da08804cb3041f9ba7bcd4033cc7d23e28b5199ba1bc8fd8b880f',\n '4ccab12bab4d8b08d478414fc1576f626293a2c82629f6cdbcdedc0bd6529a59',\n 'ea171bf0a3ba9822d727810ded3eb2aa08152063fd6f9c3423f1741ddc911fe9',\n '18ef00099bdc5325b7bdff9a2ed9ff90a8a8eac90d4ea276c1f83ed9718aff5e',\n 'ecf002fa6a77cfafd4e82522e8589750738706b22155fbc08ab0de6c7dbc5fb5',\n 'deafe20762cfb3d5b2b039bb9c75414a24b55872d69582bfef10612e17320697',\n 'c4c7d69868388878935245a0f4ae863a28e20b9599081e71855cf0b360b10f40',\n '6d0a1001caf119faaa5a8e7471754392a86443137d3260d86ac7cb8cddd1a099',\n 'aa00813240a096336d39f040c42c32cc04dd09945269e11e51498b7abbfb8513',\n 'ebbb7cb87f4724089808bb6f0af5de763db1cf7d13fad577d5ca8b865b821366',\n 'd049ef633bc0680ba095d35f8bec7d4f2f552e2b3dc1443429cf66acf4781a0b',\n '80b8d9c7170450ed13245d410711af3f6208d7b59c444959e19fe2ce059fc102',\n '4c69abad351e8af41a3d30139bb690ddcda3d6ce49513753877aaed247866777',\n '488160ea6145da429f00310aca921c134bb14e2e5b7e56dd56911aab888c7318',\n '53b97b96833aa488d8f97b1874a7828365635d8ffad516e8fd788ee4eab640ce',\n '031039379b63686711e140d5931a04eb05fc48aa9938a506c3ed2e3905725457',\n '1e855549a7f3cfb6733e3b8edd6563269fad0c99da8658a0665d7dd1a695be7b',\n 'efb3afdac72edea801ee3016337c9de4db4399f386e8fab1518de8d6edac5bf3',\n '6e22c795d93323c3152e1abfded36d29a1f20ddf2c70c85dba746aa5c22a4ef5',\n 'b326d95804a70798eb9ef5eb8c1bec0d10563c59e034e6b9b7ed334df88fcc65',\n 'e315baaf042f3570f8c2b10f23753236c2bcf829e0331df44c7f10e22d3d2451',\n '981d9b02a4866d8a3d8af7a7fc9e6f232035a67fcd410533030df0f7d4b97b98',\n 'b95492707517d5738fcfe360b0bdc167dd3c598b7884febaf9353e5a9f220cfc',\n '0865673fb18056a38842e6eef27e27c3dc23d1d177c14e770339464532bf83a3',\n '7d60e26be32641c45b5ba52f9c4f2fbc33daa4f85842dc3ce050d113b6ef1265',\n 'a1a539cbe8a89aba5ce1960dcee4a0ac3f7edbb4987d8eb89fb5ec18c5d625b0',\n '8105dbc2a58bcd7e72a839f9b982b086744854e5ad74eb49a96cb85f4df73b61',\n '7e5a77b9f4ca0dccd6951137b4349afa95afae0f5f9f03c30e7a9a6a27835007',\n 'e5d58e004e0366f17b2352cbac071983912e6c437cd34e11975c5ac5a38d11c1',\n 'a32d5b18c41041789758fee8beb817ab33da35454ac60165c9ec509df0a7575a',\n '5385d2e058d81c69a0d733a05c21aff28c3d21a0729ae67af5bdf6babd8e9645',\n '51fee5b5a8a5fae71d60b4763bc00ecb816de39f3b44f773c7e4e52b683180e8',\n '55e904e227c3e2247a6b263d6d6bd4046498b3eebcfab65545cccd0e53489bf4',\n '84b7441ab26430a1872d60e436e1067348934819b3525b21cbf4ccb6d4355a1e',\n 'd472cac9bf838813005bc539333152ccfb42d6f41adfb771740dd0c47552d38e',\n '9faaeafcd3a76233eb852e2e75a89f796406b88ee3c0633e20e7b608855c9feb',\n 'f6eee8efdb3ee5669d93597780e3338c9c30feef04ce17f1682aa9de0302b5fd',\n '6a4363ce2c816930a6b22f4a27e3b5389f0d7034c5dbd18695970957a7f43dcd',\n '3f3efc801dab74b3688f715cac6f25b7bf1ac088e885ee84e7f68b7f34f9a57c',\n '14f4b96d44ebe88ddf186bc0d7ef629c95272c97a5512d13ed594ae592c0c6c6',\n 'c31eec6fd05379742fd378a318dd08ebd6bb95d91cac506bbaf7a0332bf5acec',\n 'bef5bbdccdc610f1cd7647c00abaf550544e890c8f6361f6d6b77e5d687222d9',\n 'd819472e4475c7a4ed96ef31c518bf05c660690688bdb363d652a85d25fa4fee',\n '77118581f9cb7dec9e9b5cbb18712ae69519c68491bdef671871958c1ca1d41a',\n 'ae57603a1d8f4f40ecf9cffaf9e7d085f8980c2b0e9d3526f8adb5d0964921e5',\n 'a3206b5f830764579a2637793cdcb8e2761f5d540eb5def8ec2176b659e69ca5',\n '8615a7ad061d09005b49e5da6ae5543690496d7ce80437dac5efb6a7097b5ada',\n '6f4f354d0d0ea0e5920917d6712dfa5ccb9075b9da3aed3ff390415fc053b3bb',\n '68df3f9c9339488e3542fb86a201d5c3023b38cf8324a3e98c0898e9aee51c3a',\n '7245825eaf114273bfb8056794db8636c14d08eb5bccf245139547b1b34c256c',\n 'c77a450c6fa679948b00a92b90c15aef2ba8cea3174f60e5b6e7843e0762b440',\n '477c3258c7aa97ea7eeeb2f08fecb2e24ab2f929524d772bb0b2c067be8a243d',\n 'f7ff5985ca52e5465add4d2a5c6b0338cd8b909f0f57261e61ef743313fed892',\n 'e154f64debb2013c992609ffd31159c693f9f9326d7d6055ecd93439d79415be',\n 'd5a5f7fe7ed00e49fcdf40213d16b7ab48d4fb0c6e8e172d6e25bdf74797e394',\n '1cb55f807aed268b79d6778de23bdf641dcf812be870d7b16118f98732c6a7da',\n 'd000c7237642c472aeace40b735007f09453d61542a5a405ce64203427e05f86',\n 'b1600d40228a10d74c760f932c1fdfcefee536ee4e6be6b33ec77adf077f3f54',\n '737f062b257a904269126068db3bca755a3555faf04dd1a72c5918d616695bfe',\n 'ef431b723a6d6116f32aa8b40f71e7370aa781019fb162231f7358dc7b0307af',\n '1695586f25a85c821baf939e357b2d7a907baf4730dd10f913ee16aa93a157a5',\n 'aa7882727878841c59dcdea682531e409f9e7ec6c9241797461376a8f3b0d49a',\n 'efa1659d66b75bd0907dc0a10d62545e1635f01f18e2993d33a4f22393d72617',\n '96713db6e8aac8af109385131c85a815f438cf12e016b592b4e20bd0e44d5df7',\n '07e10eabe926db01330fe75c8e24204d2b2b0f7b452b22a9819bd942f589068a',\n 'c30535973d187f35124e3035c44663bd83b0d0173c05dc052e9154fb8602c556',\n '8585b40616b81ae825e027cf7a614a19fb5c2f7f0345d7ce8132193a6595370d',\n '8f0a51f9dbfff01223e61ed408f655996d0c1918bfd1048f9cbc0f82fc8b984f',\n '8c569d90c7cd85c136ee73378e6f518fbb68a4b3fa7015c253e2e2199c6b5e36',\n 'b671f8ae923938f34d528d8705758b0ade9d79ce13b0ad30a70383d518f24888',\n '8ae232b2fdd5d9e048414045726f262842a1cde56221b95305aa004d3f07ae60',\n 'fb041845214d88926218c03ec39f14e6fb9e46b36d32fa39dab38ce88cae65c3',\n 'e7e39a71475fd3e6e061a23aa3f75b8011796b26ec32df53947af20ba354c25b',\n 'def9fb24810ca3794861ed4f504a368ce60eb237107795c224ee871ee7baa5a8',\n '3817a05db4911430674f03bba3900ee00249d1f4cf0737c0a148023d30e78fcf',\n 'af2241b97fd7d47ebb63d907ff6d313db3149dc88d34f5334d9669e2816b7a90',\n '19e68302588c63612a1afd84a8b04b338905a2d6ad2aa45f32b3c20590f6d3b3',\n '95e899520ef6d3647f2b52d4de0f9cdff8b27bf8d86d1658bd4184daa863831f',\n 'd18b2062f00b284b7821c3d056f478e28a0686abbb1116d5c25fce94db8d9f91',\n 'c4779b0783b90b6c896841658671f69d488ca9d5838825fe768718a0fecd0a56',\n 'b81e2d3d7ccf4801002bc9edd107b229dcefc82f49789712ea70867dd27f7d65',\n '218bb44bc14f00c660d4a1b094f5db0f30b4922022a61e8a8e4489bbdb8de1b3',\n '93ae86b8da5f670f39d03eb0702a0efecf10a34f2aaa427f2309afbb4f5ded3b',\n '8599b99a9d4469448c6078e82ebee13bdb80d14e23b8cd16dfb3ab252bb68fe2',\n '041bdf787a480bbb9cdf73d197349ff6910d03a9a96fb9c3289ccecf78ad2bd8',\n '80dc8718e83a50f18ffe5745589160f0758fb548f8f7daf6dd6b8b6d938316fc',\n '7637daded973848708272c9d8b601c341abf3712788683d7f1f72d530f99940e',\n '3e66760cd42199fc8f12b37326d487e74b441938fa0bc5a61c65fab4481a99b6',\n 'b1eb6635a258a8bcd9150d5a51d69b54bbc4d9674a3ff81035ff81cbd8bee239',\n 'd189486103cf6b31d2fdde4cdc8c6c9a191838c4052a64db9235f84af646d4ad',\n 'b5f20312ef50d8d79b95cf0cbda978642253886107ca2a2a1c7528a0e12a1363',\n '6a39bb4c97f22fc6313058275a011f6b1e71de1429163ee577060f8617245b37',\n 'bd675a36f29ceafc175826abfd525ca9af81d06e973a9636c94b9b03e4a234cf',\n 'c0f3e0317511e1438cfde19cf89a0ef636c20e10eaa2bdc6d62aae00d49a40eb',\n '09121bc90a604a9f57b8d3b68158861c09a5348572933d7e4825588b1db762c8',\n '809a34672eff073734ab9a02cce150ffdc967ade19d25ceea44927f26dd7fe73',\n '1cf48360435158be28cce668c7f2e5d1d61ec9478a5c180575686ba80176b1ca',\n 'a6906c8984857a88d90f6fc376a527955e9148ca336d9c6b9f883a905408c097',\n '3ac95a59ae13602736caa0cbded513e5e1da306d4a3ab5c08dee2d5afc5bff79',\n 'c81e4b09ac44a79a7ffc5e70ec868bc1581c8f1074af83f225a7dc26d1336db1',\n 'f1f7d3b27a76951d117dcd9021a2bfa5ed376ce2d0c2109d4282113be9a63ac2',\n '32edbb8403063d9c1b23a30d9014827ef126c550a2dc66425b7a2a2f3ced5ddc',\n '9e1ad68a14066491c5ae519d8bf62f3cad811433039e03d21c3217de9cba1e20',\n 'c710f2cc2736fbc6713ca8bd0053f7f6a51bd8f5582c4b84f5efc8eeaa4b62a8',\n '9877ecdd3ec929b74a2be8c95fabf13a7f1c065fa21a7959c28429ceee844f9b',\n '20aaa133c172f193cd2925b07815e0928a1a3d7503c0090ae9b0ae7487abc3da',\n 'ea68be82758e7eeeb5297858c2627d891397e33f7927dddb5a6f6740b0a20178',\n 'bc6704efde96db48b95e4d0cfa351613b655c1a8435056d6103ac070ab127f4d',\n '4e8f8cd388051d88d0f9b1b93a8be6f12192f475a08d0e18554e71d10a58ef1b',\n 'b659eb19a6d628e4e11005c8e5ef47224008ca943fbdaaf8426bd3b1c057a19b',\n '7e7c220205812b421317231c00e669b30a0ac6df6ead8f4717855e6c4b0e90ee',\n '74b9e4bf429780ed8669a702e718e73c70504476a2b6744656ddd8e1d31ae750',\n '26baa318213863a6cf3a2a961ce1d9c6cc41ed02e79f0dd69d200c7e414be647',\n '4e88f52cf2be8139328c5fa5dd47500019d6bf5f2d9f8fe5a1d31ac47f67ba4f',\n '8647a936d9bb4557cfd48fa3e8dbb5a40aa1812154293f3320d2dd931efd87c8',\n '98cf4a93a28951a419ef8fde9d919aa4d56bb88942b9476effc475718286124f',\n '24835c0c587f8be94d235654f5bb252fb84ac2342bf95a4a6ef77b577f944d4f',\n '49c1bab69392a280ac8674f843fda137365ea034506d07fec8afb61ae249b41d',\n '1bf6fe3846f710df795110af950c630d942256c17f500b6cbfe771bb57964e0d',\n 'ddaa443bce0105538b4243662376db98d8d97d5b81989b361d146e76d9ba23e1',\n '30e32ba554b55130b1f718f6e2483002ce2a62b71af81b3960537795ba3e0d17',\n '714c8ab3d21df87a4c66fd78480c4f0a2539761f78a17860aca210dd17fab049',\n '7e283b5ac621da1693c877b45f51b7fa6ad3c627bc60ad011eff237f3c9a3ec5',\n '8730dfffd55603a958f6c8024bcc5ef4e479e62add021969e3c01d2e72656f91',\n '037b265ad7191abd814c43dc6c718156371d8ef53b44320b695e705c0b78d565',\n '140c66aa95425108a8f73cdf35ddbf3f8035af8195f2de6483fb5fdd0044d026',\n '93a22767a02d5ee50493d289f340a943b98241bc06219230c24e51c1c17dce64',\n 'ed29e7ca10c72ae928ccddb1a627bc468f08467cb0cd9f804d51b52ae59c93a4',\n 'd69b0f1742e17d34391722016a2b863ddc5c876e6697d7443ede7cb93e9d88b0',\n '77a4ef93fa31388fa8eba75a809085c650ea5f78cc7243d6462668dacb928d3b',\n 'ba9b093223d243f0616301d773e98da3f1622e68ddb1cbd5614c4a44eac34547',\n '830e868951865086aa88dbd2abdc5fcc4caf73ed6eaee617c427dbb6a111a4a8',\n 'd4900644689c3d8daf2d448056091028c7bbfc6505fa1c86fad454821e9aca7e',\n '420ba5116a4d21078f0731de2646b92ace2c129951822e1b9ff63a41ec4d003a',\n '9105cd027c00e5d93d45acea1ad5ba5b84a6f3e9c495fbae60d2d0a2dd907aa6',\n '6e9ab3a72af7ef128c17a44c61720cbbce94d433b21f89f0bbea87f49d70aeb8',\n '11967f76c4980e9acbd60c95e1daf6c87c1f81edff4d45472f56e67d8fdfd5d8',\n 'c42ebadf74263f0acb407e4b64976828f5c7027c09ff7ac8475b0a3e864ef943',\n 'a012edd0df12f15b92fcf5c7e64cd27c80042de15f54f72a5147e56e1d578030',\n '5070b9e931291ce7227c8265937e796c4d5edb4c57fa5139bb0231b0d9d6bde5',\n 'eae40d1147eff887a378bb4bbb9a19420634d6619b4b199fa6a05e3758b7d580',\n 'c1cae6b892cc22c6de4fcf5e066b411e68e12d3d1ddbe31efed9ba0591ba7c61',\n '97e967c65ac7f399d2f644204dc2939bef4016426ef26846cd3cdafce2467666',\n 'f4c07320ca5ad6425e137c75d62442481a62e102256cb64c6a478d432c8f6d21',\n 'a8f75591bb63db4d5ac7a2abcbe02c8b0d55b69f015d60f79b9e32692b498eab',\n '4e9802af240caf09db13ebd50a69af3ba8b2c1265890fe73801f0981073b0d15',\n '041ad7456cd0eb953fd19866a068e8a17944e0eac27bf8fdca06bdfae7a5f2c4',\n 'e4e75ff381f368bca2887e9124e5a090c6faef72f929ae025c341b611326b458',\n '9561111ee0ad13877206540e659bf5a68bb29ecb5e18c6d232f881af7256eb35',\n '74b772351a9bfdfb80beac0e8da3e1771a70cd61b58f5dcd85842e239d3f05cd',\n '829a5446719b4f6d51a70fb150b66453e5c7c2960d0632e4bdeaeb426df8c228',\n 'b32c581d24434f00a1a24a7a600542203c1501ee6c59b0e9bde54565058e500f',\n 'd23148846e07f6871d584ad59c8b14badd9d223d62af52130aa61aec994257ce',\n '1025e1795b4db64e7e4aff420c89bf7e9db28cc87f4d02bce92495f0a5f43093',\n 'b7158e89572913bfbc6224465948ce7dd1b8b7afc98172f2d281145fcb852b66',\n '12a6d4a79d40a1d2df933dca5a2f0d8765a9488abe25e437b037ea56b1a5ea88',\n '1f333750c71f091a073a69947ca3c108cdead7f8d35aca4a9a239c92b279da66',\n '73335aa604f5475131474a3378745b05d98b41a39122c0ebfd03f7f0b8018be2',\n 'ad67792b0e2d3232ed77bed228c1eca885e18d94fafa187e025ce7cfdafdf011',\n 'b18eabd128ce3f2a754097126dd9a0112bd38ceb8dfec35557e807f99275dfed',\n 'bc1790bd2aba78203bf2eb21a2ab5ce75438566e9202caf2f16e8aa41f51c9ec',\n '6ec44cd059b31ac91e60ee1625430b6bfa34403138cf3d8d71f6818e68731660',\n '796e39ca2d4a288a50ebf019d85cd9cc4c8c9ef951eb6ac36b48254322350d4b',\n '9effe17596f0b2ad77068c90f91180a0c35b53f46fe6adeb597de8e63db00fa0',\n 'adfb06092bcd7c03c42b043bc7e63129c6d0db94a943a51193e8828c9ef58088',\n 'da3d4d0bd14bde17db93109d1a0ab1e9a061b114340f8d27239bad0d7ee97bbb',\n '67c2b2589314a23d38b2ae097fbda8b49edd5c78f27853bf71eb6794655eeae4',\n '702bc2e95f4ebbae7bc686b09a00441f388d59b877c3e8b07c033dbae612cae9',\n '38f984a4daaafda9ce41a664738f96cb2b546001bd3f5dbea6bb09e3381478f1',\n 'fb207003cb281a1157be6a5c8580e87d9715c42ad78de4317a0a5b397ef955f3',\n 'b0e2fe072bf6e487e54b3abe5008d0be3a1f36be2256095cd4dd28524ad48916',\n '2f4d44017661251a302f67abd91ef9c62a9a926b2e907cd3ecf467007bae773e',\n 'e0ee4d107c5211cc2e9a27d1a6c2b4f80312bd9939c0a49324ae62a87430b69b',\n '34e7b267d669eb917ef867e20a05345b938af4f9cae126d2a654033a17411ee4',\n 'b270d61e4d437d206ab2701661e73ed9366545ccd8775c6ff97857243d04e658',\n '15cfeda20ad4dd810a424678706f3dedbc8ad094288ef056234ebbbd2f3a8443',\n '17cfcefe0d0c71dd15c8794e049d3c01be78d44f3ec3141a0bc8f362d751e4fa',\n 'fb8fb5f000a5ff625ed782b1551aa156cb3e26c2456983a5e77bff3daffdb51b',\n '208e8d942aa6d0afddf609c483e87c106f8d168ca703e5d46c07c376254b6f93',\n 'fde3fcc6be1889ecb8cab75c2830190d566068f4a7a3fe0edd826dfd535dfe65',\n '356939f7f3083c6780ffe9ae3ce5fbb2898dc43272aaa4971e19238ffc7b8da5',\n '23000a5e2b3d807eda7be6b8b1a32396ea8c141ca8eccffa78b112552663e87f',\n '33f6f859391ef9679f79026f5246e41d6a1ebb9167c2437bc3f191bf8a155051',\n '8aaef66888bdc4299bc2b9141e88862145ea8d94d4cace1f7d1b9b8ddd5f109e',\n '68212ff86bbc1ebeb56205e5a6f3afad9dfc92a3a9bf248bee62b13ca8ebe6fa',\n '0d3cd9e40e08a40cfc715a51120bc39f10bf865e67ee3c87c8c5b185ec60694a',\n '11304a83af62ce15e75aa38e6fc3d141e479e0eb6adc8a8fa8654bee5fd05023',\n 'b742aa18f4cd1ff7640836c228be33b10dff8fb7f34efaa6eba62b2d68468724',\n '9ec26e0da28b6b9673355ba190ae80661a0960c4c79968261b16dba84dd385e5',\n 'fd2ede24e9456c6ba95fed9b7c44b1a0e7b9d273a47e484b8769c0fcad03a70c',\n '07995447f4eb72045a37e59750519ab0fcdcfb2b080130464c8bdf139a2bf93f',\n 'ae52d7fa0413748bdd1d16c66b5f93c825aa20c5255194d734d3f96841ec2c2b',\n '0c341623e375ac4c4d7d0200b55fa08a8e3c67273208fa494490a99bbbc3cf97',\n '106cef54a058f44371cfc3f2880e4c5797fa27fefdb1b740876e5f089257ca31',\n '1f1fd4248ea9b99ac4a841346b993d898d14ca09689f3ee42082762d1413485d',\n 'a1f8ff8e6585c2f04b87e49e926fdf10852d1addfdc630ba1939536f2a31e460',\n '2e63b5afae89c90f080f634c582d2c8b677fd53ac6648da56f4c42f30c7811e8',\n '6472b8212dbfeabc16f725e1a0374792114c5140dcb8f4eab8a06dfba4bd3b1d',\n '1c4e2e2ba25a4e8bbcb45902f296a784d1478c03a4df9af424eb557e9d670368',\n '0553c46fe7c0949e18ea05f126dc82081a10aadac8a452f398965f3d175e36c5',\n 'dbac7cdb26d90a8b68c4c3931f6ea1a41858ad0771650eb388a2507f3bf3fea3',\n '2005ab2e1464bc25ae495cce47bd65264fd3002cacd9088755f5d6a2560d4540',\n '48e7d4265baa2599461ffa5b7936e56be9653c4032669b8a37346949e3927fe2',\n '9bede4062b6074c505041338a6ce13dd36d1485154ad4d504207e44d97401efc',\n '8c4efa692517dd4514798c8c8ef7a7e3f4a29805219767c451fb3cac69cb80ff',\n '8eb73d46c83c5045982d79c13f7db93a6c645d6a8bfd03a5ad118bb7e2fe18a4',\n 'a2674576e951ea043b552e72b2931c3b48ea67f8171988f4563455d7f419cd6e',\n '7ca4bb391367aee4b2b9f2e3884442f99570e7afee92f87328abaf4b925e5e33',\n 'e911566a680612f3f081527eb3151290a50b594a0697c946f17b1d1f19dfd6a8',\n '22288dda5cce5997643beaba3d99138f3e97e8dc608b21efa08d1c4c5f32e683',\n '2d2cd399203e3a1f59951e73c7754808790e1c35306c97af52af707c3e227191',\n '25439a3ca354d2cdfb5cb900c9186998020846218fabeed9cc87cfe30e6cca64',\n '1d2f37970dde87c5f6cfd09b11fd11cbab681e802a82242f9fff60ebc1c12509',\n 'bb412e0a78f9b382944ccdd68f8222dc6cd9366d1422b6ac0293e03b96cc53f1',\n '434faaf80ba3e11afc6311a9c529a6ba410a98873a9611a167179e1dbf5d55f6',\n '3ee7ef7d5d7d26001b7f728557d92f77f8cb76231c7e9b02a935f18f0d744965',\n '1df6e8921f25b233e8e11f344cc6bc1f256edce3b4378de660754a8262d929d6',\n '3e905812722f8a6eb4b805ca367534795ccf663a0d696fae22c24ed586e709fc',\n '43ad8ec26da58c564e1ce7794e27842ab34911a27434cf4d0907ed50ac9494b1',\n '3f6215e809bee89a0380ea31d568a49f6bece018ba1234501480a5b9a38a0a92',\n 'd54fdb1171ad47d469eeabdfab9709250b12996057422a71ab40f1dadc85d90f',\n 'a08538a775cc6bbf0d8672af38ce880f185aa4ad4b070865926846c84d2c0f8a',\n '7c29aa5b25ce8099a15a3309a8d591653aa8ee7a1d631931a8bbd562c7dade6d',\n '44783fed2b45614c200172a8ac209468973c585699e923496e52b84c082c0b02',\n '116fa70c32771b92fbb36d0edc2dd724e921503049ee0977ba7254c87985c80c',\n 'd004838cfc7db0802d8bdfddc2d1677d9d3e6904c564c026d11d7a1fd00986ac',\n 'e8d9f312aa65247836bc0154a21b41452bbcffe812c7cc27067a4b4d754daf79',\n '4e062a36fb02541d3aa7646e035f6bc1c4170738b484c19b706ac7f3e32a378c',\n 'f5f78f87b6b803b6fdeb1806e6c0afdae81121062b7814492d1cad4c1e083b42',\n 'e0e764be86b9d0f2eb6c99068ef4fc8d79690155b6c9282fc7df350b9207cc10',\n '3f8e8fd64c2a6a4bc362da6720e232a46ebbc30f25c89510a4bd367b1e56e5cf',\n '4a7926b5c1416615c09dbd20bf045a08e40dcf02b624806b01b07fd3689bb601',\n 'e2ad23b7b24ce6c1a839cd416d5ae6b62b9cf9082a8bbbdc8946acedfbcb718e',\n '92bd8230dba9bf0aa03bbbe24e24dd1d83384185ebed399b8a9fae9629a4079a',\n 'e0d6e40dce5e1bddecb0a7c99227dd9490c17b702cea36f9c7c8e8a427d5c083',\n '1f2116df3fe60d4a46013a9e9215aaec27b2467bdadf3b038fa66b651cb8f7b2',\n '85d074b9c7bcca2bdd99c3686b5e3ad830ada570a91d212846ff4abba2b11370',\n 'ea75ae081f1245539672ed07333aa17d3d0363c640d4208c2d67c508013fed06',\n '3a11db2e4252bc327b5f6c78ddd7e38d252c8d1525ff49d168b90bc403ac9431',\n '8a3d8835ba0babca72218cf803d3f6f5e5c6e6f2a36b9693dfbdc7f68f497c19',\n '739c495529555b6aacdeb14d69dc79f7b0190d3af36cc857f49d2cdf83262899',\n '13cdf07c6bd752dfab5d75594703dda8afdceb628396388d955073e876bb81eb',\n 'ad6936be72a1bc7335398efbfcb3d02de8d0f9baef7159eeee7767067b6ef89f',\n '6ca0855f52226c52ac5460897c8894b23a5cbd20d06fbced38393718222985b5',\n 'cad0cd94ac9d3a4ff0788800dfd2585475e10b6506410cbb2b516ae6f9eda955',\n '33530eb0a11570223dfc1dc25fef0e105082631b75f121a88985ba47fd8d5f2f',\n '6e1a6e69ff13f0b4490dfbe47eff6da6165add4450d5f88212e8d523e320d516',\n 'aa65710ea4a698ac345aecc85208489647beb2cae05e69d2b07699d808facfd8',\n '491789521718a27fd99622f8e5acb5ef3917e9d1de3b0dc9136a25fc479dc1ed',\n 'fbeff236835d3cfd394f9c9fd5b63eb524c9cdab6e68c9370758f3e35592973e',\n '5d7fbe6410cc303ab0df33ffc7ad64766b854ce08ce2f7ce25aa34a92482595a',\n '09b95979137aaf06fb766e74e5ff4ea381812946ece7375c0f088159409a5b35',\n '92dba8db912af63bc7b2c3c239cf1ce162b6d230264866dcfad29e85bb2bd8be',\n 'ac4e0287191e4ce6a11ff7ff0a36e3d949926ac1cd89a838b71648e1e89c6c08',\n 'ac2ceaf8e1cd6fb8fad8062662c78604a5c70f1c3cd4a35b143950831ce521d4',\n '69bb2c17d1402ed3f9fd3cde62db859720e116277133364f8bf6fbf9770a0ef1',\n 'd2582823068569a33534ebf6dbb0a253c857ede0b31df11545770a582480b5ea',\n '480c58f9981ed8896c782a8badf6b086000ac8434fecf4fc38147c237dde2770',\n 'ab290997e6f04fb60cd350c606a173428eb343a2c27d94ffbade5142dbb9d6da',\n '0b0d589017dd4cb0c0049ecc8f92ffc94f5f4a9d2bcdf6905d42dc731082e365',\n 'd6e1f0f859da730f1b5760bdc92119761ee1cb023126a2eab0e683da764e8da6',\n 'e321c398c676bf91274ffe3504d0fef18af4f3993d844f8cf7a7301facbdc7d7',\n 'cd9b2bb2ac0ce8f7b1479cf800d412452f623a9432ffe6547449ff1dd19b32a6',\n '2516bb700aed023236d14176c1412a91cc85c7e8257387e123c2606ef59e92c5',\n 'cc130c151106e11e450820b77afd873559e9d25f29b329d38d980427188e97f9',\n 'e83d74733a5265135885e331ca187c62cee1ace5f66c0b53676e0cf1da6f4831',\n 'f78f29b2650a1482c0ff5a5e539b4b5d376cbf21f128b8f69028bde0150c3f13',\n '6a0da15ce1f03da56a1255461bac171faa5be76660c816327e22559379fcf0c7',\n '39f9251ec58b6b851243e3db8351667ae13327c6b5f5dedc3a6de69d2407d5d8',\n '361b19fe93a3c6c40f5b428bdbc1082dc68f7d6e3738fd04ae2f78a841fae7c9',\n 'fc1f45e12c563178628a8254a2dae26a8a2ac7917dfb9b262e895a03b31fc988',\n '5dc9f3aacd4b2a38265605eaf0c2f9935ec95c2c3f872170c2ab8126594d449e',\n '873b50143a162527d8a6dd63f3a4a5a87f9410faa353f1d32fb55b9a9715783b',\n '267d11a6ac0ac2b09b41800a0175556fffa29c345742b3895a4eb67d602467c1',\n '081f3e37e81d12bddb0ca5daec9229e8b4baf52d520dd70cf214c91b175f6047',\n 'd09cfbc38c8b8081d05098d8acba480a8b38b716792f36768e9c71aeb496fe1c',\n '8c83f45417ca8765e499e1f380d8bdfff3964db361ed2748aa290c44b3a1e347',\n '8083e8e7025e1f3a807b3607939480ae7b77286d049cd04c2e14a1827cb3c0a7',\n 'd1c82602954f2291b4e2b5b2b6c525f7ae8e55be4181e2641c0630ed3b852326',\n 'f874d711fe179e10a99d381d5214d250988ca7914e14202922a96a5047b4057b',\n 'd79a1ebd5ee92dd9bf657f22ea55d9a43c1198491287dd28aa2db10658e23ab2',\n '4f7e4f54fa93672b7fb9c6c7c7f85f75fe1b9d7cbf82c87e2e944e228bef050e',\n 'dceeafc2e51a89ff4ccd9614b1c0cbf22e8aaab574bc2063d65d05cc08459e6a',\n '87b7f7adf78bd540bf0be86cce5fc932c2ab23712ddec3a386101750f22bb620',\n '186aaf63731fae658839dc0367566078277664a7c6e22099ef9f031808417d25',\n 'c8ea40e8642c714b434d0f4694830d8b1f204197bf93c735ab6e77e37bb474b9',\n '10679198d6f1c8a936ffb0fe58c6042c12bfebd24bb9d0c24a1441dac9fc8f53',\n '2663d49d7a91d3171859bb45abfb9ece01a5cfc8f738bde94f5d102074db0d25',\n 'fd358127d81a9f6b60274fb0b6ff45e659a7c42e4bdd60ec3139768cd3bce09c',\n 'a519660d8b81bc7f2a06ca34e950e8a45f63d0b0d385d952aaa62e03004004f1',\n '9c3f44943d697bcf9ff525776d86aeafbd508ff3fc949320a37ad42c79be4b10',\n '7a1a1a780a62ad597b448a31d4aae272d0f99a4095f789e7afb1c708e30c590b',\n 'e37d183af8c94cd17ee91ff1443ef4a55b259a951fe1d734c0862ac28123972f',\n 'a0e33ed377ef60b74105cbc9c6ef263ad8e5808f6cdaf5f2854cb200702c9af1',\n '5516912597ec83b57d6bb89793ebcbabbfac55c10c61b78fd3ba6d0ae0808161',\n '02f0d561c45748182441499f33b5cdda02b1306c8cd06d91ac02ea54f3a917c4',\n '98e42fd5ac013c80a60e1edcb50d5f84349021c87ea54bfa47dda1b1a75e5090',\n '44a07b3a9f7cd3338fbdf5e120678657d1421e06893ab5a60c9faee466ff2f04',\n '04eb55005a803c7353e5d5ed339d7f3a72cc8da6e49f2b8b152bf8fb40a1398f',\n 'a81f89dfa21395c5195222cbeb81abfeaab8657053f222e809f0fc160c57af5b',\n '6c925cf4123515abe5ca246f706b2a7520267644f232c28e67525e7402a32549',\n '13a24f4f4d13565d6d85804a478f48a2d17cd1d8871ddaed9a03bf8736633a9e',\n 'a95d4adeaa9cce1dbf3563fa1c1cd0dd11ff8805686632bd556a8f27fa1cb3d4',\n '1dc146981ab4d8f80521aaeee74ff1628cc680552896e820abbb09b1a6488440',\n 'afccbaefc17b7a7f2ccfd4f42578e0145662457804741f9dc79c2a033ec538aa',\n 'a98f1cf14fa8f50a7d77e275b03d8c7c0e43f124602a53e4a003033205bec327',\n '869fe1a8405a18d2d7f51d37522f4da7da16011ce9a1b542bdb1912b0c195dbc',\n '56e6716c53a76c3c827390a00fccd0f62ecf5b83cfb66794f51e51419b0635f2',\n 'a4396808d123d033c6d993e9d48735b546866c5b641724ec8ed4a9a248f9ae03',\n '014589ceb95203c13ee4bd097ddf2f164657cb6aeb1650db280b2d8c7a57977d',\n '07291cb0945dbbf96f864d8c91a8c23cf1169671ea7e7b43b1338f983408691d',\n 'efbca4939610b8e2c58702f5bd0f1041582c1f2b9a1eb6dd9e5938b18eca08d6',\n '38ecdb7d1b62077869f053a2c919c8702d8d2db94c6e5be05ab646c3bf1145bd',\n 'd23aec920c9d80d44bcc71520accc3d52677b8e1419e49f194bc5a38f900eeee',\n 'a9214f9c47ac95069e4b0d91a065f6c479c44938db41a34a7018ee7df969b5f9',\n 'cf9ee04f88c91032347018d86e43a2337e46f6e722bdee0c8b9d524a7bb4b339',\n '9d20a3000d86123c55bcf3ad27fdf4d8c8ca80c9f417e0b6a3de2dc2ad9ca3e1',\n '4554cae59c3feaa0ee03aa3005b8eeb5a5f5dd97d485e110dcb084655c39dd99',\n '757a372ae12d22363b33afcbe7cd8deec9ca0f32769d7086d41798dc2fedd74c',\n 'e521e34c38442a32d48dcf59d108b0d0fc402941cee369605c14b12a03f3512e',\n 'f2c4ae343b4e0343164366f5518273a365ee31e2c8f134a0f23a0ba64cff4de7',\n '161b4e7a6c34249f8264aeccb8eee39e5353938020558a6ee3216ab628327082',\n '003ea2a9313db86a3e0b9cd272d4dd861ed92cfab3a5d120725211cc113b1f93',\n '00abfb8547a6cfc95a4591e489431fd7803cbb8f51db632db1e462096e914c75',\n 'b06e6f63f51f80325008bd600d5fe97ced02cb154beaf95e38d25ee29520868c',\n '2e937e9c8d1e890536eeef66290b44c997c71545275fa362e29c96f14231ac2d',\n 'd05ecb8631daccef05e669635e4bb668d127425f00f332d41c5d0110e3f3e667',\n 'c26deef0fc39a9bb3ba4013bf0cdc1cf36855cd4bf1ece8f1a3457490d7dd5b7',\n '22c451634c5f4a1cedc68711ac1c344f872284944fa18eaa38d01c261f75c834',\n '35b195f3e77ae12adcfabf37b6bba7732118f5c801ccd4155f45040ae919ce62',\n '91197ec8857117c6e8a1ae5844432610243c3b3d9d1e75a25a850bcacfd24363',\n 'faa69838966455fbc3da56afff250338363e7930cfbc20aa0890876c5f62228f',\n '29b7ef5aa28469fd522f35f26d6aa9c603420054f1418b229463325a9f593b56',\n 'df8e564007a9bb1d4929ee67ccc2fd7b6d6aca45f4e7e69f82a6b82a2101dba7',\n '73ef9773c6132fe8ae1bde86ad8ecd3f8a828de61db552fecb39a645f41c01c4',\n '3be063c134ee3cfd81a765a408bd06c76e0587f4ccaf948a2e5beea15818c1bb',\n '683e442d8f61cf261963cae64b3e692b6839a0b05d98351a662d86d3cb6756d1',\n '0d7cb4632fc51c973cb6e9e9533ed9951c9fbc26b3e018125413a025b9141567',\n '80d6297977a088156dc90de467b7b3659fb6b51e80548d25ed2d458cbd968347',\n '7f05ade374820c81e39fa793ba58a550f615776770342c50a013200ee08e33aa',\n '85c581854259989d57b633950aa668302d0245ba9ea0b5cb18a43a1a36481f88',\n 'f5afbb3fe76db99430db4e470604e22283a30187096baf2cb5a4c25c680882c3',\n 'bc5a4886195c38b4b781faf2e8cbc27e054fc13409b75632130e142df3b08228',\n '00a2acb199452c63ee02000ca18c4ffbc3570dddcd49de2b23fa39b1c6524f5d',\n 'ee5d6693101268f77a3c88c96506bd35d4644cc1397a3df814138c816e5487f3',\n '9ae3cb46320490e2f400482af38666c0a8c760eebdfab7dd3ff6edf88789433c',\n '4ed11401b5556722b398949e78c57910d122eaab2186025a1b54929062d22c08',\n '646678111a9633e7a2e48c95d6a5b6d52ff354b1967d65ad4a8e58bbab229e31',\n 'ea3154d89bc195e51aa6c7ad1f95d5cec2fd4e9c0325b761d82294ffe11b03e9',\n '6dbf46bdf71c057602050fef3beb5b93a4555127b80aff496403e2953e6562da',\n 'b1149bd8b4609666a0811ea7421e72edb37228f94505909b19ed708e748f26b1',\n '4044646741789ba384374949e6bb0632f8ebcf6cac720e51dd49f8ffbfa03d5e',\n '8667b5c2cb272e773257f4acc72cdb191c3d02a839faeb01087a91f157eae22e',\n '9612846bd06c792b43a9f7fad1c0f8b778bdde74936854708fd5141f62357ee8',\n 'dbc46a149e61ed6a09e6ac5defd202e491c474a778303eca0797b66de760bad7',\n '1cc168abf5d74e792544f64be37a161e9cf46ecdb65ff8ea8362bd1912c42997',\n 'd5dfb07efdac556e870fb24a2611f49f3c59112cc600a397059c9ad8a068946c',\n 'fd3b348fda0e70bdb2f354dc24f6b83921339af6b5b1c3f71e8582f5d238600a',\n 'c52496ba58e8ea6c7a1982e6f7cdc971d0a16b5bff0bfa93402152eddd5401b1',\n 'caf89a3185a6a87da9996649f1814b82825db7faa668e9c11e4e60d6d1cb7837',\n 'a7feed5ca70f1aaf681b2acb896b2093e9b1c6f7b1a9ab5acee7fb7ba994853f',\n '4abd7ef208548d906772b0b90b2ca9ca68cdbb1a67ad4e74c06e36c984ec89a5',\n '36a798e3f39239ccdec697ee348d2ce0a7b8d2d9087940496e2ca5d0853399f2',\n 'fefa88e8bcb8f19c1794526db7e241a1201a7aa6f05fedd25c09cee4b35c46f0',\n '7ce5531259d53b50815c0c2df551625b4bd2686ffd9ba963fb8918646996df92',\n '364becf2084b9773cd494acbb72b144ddc82e40fa45a71b092d9ee4fcdabe407',\n 'd84d1ba24802747d56bc4cc30c268401a506d347006bc943db072a713a33a451',\n 'cdc15326412206e139a09bc42acac091c936b60728cb042da91e666c4587d857',\n '97ef3b96f21793ca8054ff86a166f39747018e559b78cc7221058ab97f23dd32',\n 'f75ad84b1c9b1423752fdc49adcfce2a8c54a275996f9dc213ca327c81a1bb99',\n '8fecc648d185a7e40d430484f98007231dad792ebbb2a78f35e70c3dccdac4ef',\n 'c3e77793aa88493a98e9872d99c53930149608f7d3ab50d88a9cc624045f4e19',\n '233aa4b8fdcdabda7a6f2c3e0ce892afa0f1347e7a326beca84d7fab2b1ba241',\n '7cd99a3cd5227b1e1cef1362458c6ddddfb2f3db2b40ad77e3dc4589e9635264',\n 'c527de1dca01e8d9885ae0cd29060b4c133e28d821accc548a448c52f12a1bed',\n 'e186b0c821c71652d5cb97dca6e967df1f8c5416a24373607c7ac6b11ba3ae7b',\n 'a2572f982d41f5d212320607d27cb04a94f4f22db9097f6bdcd907e36974f724',\n '844dac8d1fc0f96742852f06f8bb0265d7f85e9520a3207f81b1b4d248ee6869',\n '15607851f9047eb584e394bc0342946eef1e1bce6c5fa2f3c2697ca22c4efc92',\n '06fbcc7ecdf902320eba39d5752211305c7965d83f0d1f0c086528e943d6a071',\n '55ad2ce1897abfabc746e63b2324cb9396913fbcf5043d7b78694277f7956a58',\n '3d2b2c24a25a6295229517b7bb47124039ec314b21e2fae6ac347522e6f607df',\n '63c8b0dbab925334ac7c8c2559ba36a27e2ab5c8885ba14a23d0f0b50e23aec0',\n '947e7f038f5d26de35b790828eab541f32098f723dbb5f1503656103fcaf619d',\n '282aa1722364aaa8fec84e8218ec82c062eb1599e05b0e173c2df81df6fb9c42',\n 'b0fcae9a3ce659123d4ce44ce9e07854547f35449b6bc9705b157f683ae49405',\n '28178ce0600c2a5c06fecb9a1f30dd977f4c4ac14c8351fb5d70cb7a235bb9b9',\n '15d44d2c7562800febfcca1da094e299c63b3fd0df30242786faa207682d25b4',\n '49ceca755c81ff6b32606e8ae8afe519ee73aee7f5c300b8530cfa27c8e348fa',\n 'c82a813333a9f32d836fe81dcee7dcd2a81421fc374e006b31246bfa65be17b3',\n '26d7068c02c2f1814f9ccfa526019e44b8fef4b8095497a5394fbf8140f752e6',\n '4d463f61c12c84ed8c8a49eae5ac7c35079a3e3035edaeb1685433266202cb0e',\n '3b47fc0a8da85ceaa1fc09a9e640940d1f2d6ec3aa66e8e447ac47ef1c65d5f7',\n 'bcd109f9d7893a671fc0f4d21d18cfa91cc724c73ff84142d2c9a896d2cc6aff',\n '2a1ba0b3115a8e39da2b899f22da2331d5b64c6b63f2078e1e38354c1e80c0c2',\n '929713dfb8474c9211e1940e47ab55aa66e3c10ebdf09f00a3031a2ffee0ad5e',\n 'baec6cbc21d0e9de0cbf18e2d97050f9758c0429760d4beed7193d06b0076188',\n '606c2efeb0be7b2708509104f2c34f2dec7c80c90599d0ae98b2062a600054e4',\n '291c6351195810c5e8d25382d579f93b613cce777ae64f5dd157e36842cb1a00',\n '6b4bc2702208f08f147ae2d0dd68e1275a280c3407c259e18a6303a0f0c576fa',\n '4dc1dc3f7c90f42f3fe4ce3e6a628efa1112ffd6bcd6eb5a2b6df48ac61e7393',\n 'c999eb3fc5a2c439fb47ef97d2f3ebfa9ad00259c2a7e7e62908b9f75a86d891',\n '31cd0fe07eb42552e817e73ddcfafae0ad6d3fa37f52e53a1f8948556d162ae8',\n 'd1ddef416dab63d2a4d0f21079984ac92a9b609736742d90ae81937b68a0c9c4',\n 'e8809dcb5657eb95a79039b96af6bb8dc9d3faec4d0f721cfeef28c0c1396b98',\n '853147ed7f853fd1f323c4385f87cd03501fd80ed9142e0b559f79998eeb4395',\n '2bd9381e82225909b7efc382ca1b90e6e96adf0e08df4f5cfe67abb417e11c65',\n '9f91c8e21851180679ddbaab8ee0a9ad92eda41f33c4bb578f790ce59c5f5e27',\n '19a32256db94ea7d501b3e73f561c75915c2bdd4e612dd5378296f1d00492b66',\n 'b77ea5b4920edc693f910985b0396d1c49aeb94434f4e0323eca0911aa4fea31',\n 'd390e5cc67e6be11a786262fb44c167945f526b9ae2fd6ffe5407e156a18142c',\n 'fe08eb80979271cd31f41c4cddcc7a961ff24e9f057b7769f3f4ff531edccb50',\n '0c0c0a81210989977c9b6d628d0e0a45b9c2f46e4faf55090ec380619726d713',\n '9e1832c2f09d84f357b8bfaa3aee89cfe43f7143d5d8ec20f4a29c0539ba147f',\n 'ce004a371c710ed4895b796c5c3d11595c1d7da97b86670ed3d539517a771e3d',\n 'dc721d53f61eae2494556bb2db4444d1b661713a4063fa1175f799d5816b0de5',\n '9d48c35de9b3067d3e1678dfeff7d58173c1a576a0c525493dbe006ef2ff6287',\n 'f7c3e9ecfc05bcb5c93480d098d6df8aaad9760d3562d7c7ae937932c2c7d893',\n '94c5bf4c8f637f0da6ed10f3523ce4272eed0de5108ad6b2ec23b13bf47aed65',\n 'd18acc6717c3548c209626eadcecbbc494d8b74e8aeff997a4c56cd2e255ef63',\n '932a4b13cf8205003ad9ebbdc03d845c111594bbf834841fbeca29131b9c3fc2',\n 'e1f6762dd9ce3e26f79426d63c9d9f72c14cc09dc133d05caddbf2392d49c514',\n '2674f28646cea4b92fee46889df662b6ffc2cfa511a8a1d377f4e1bf6ef9429f',\n 'e12b2bccccd240720cc0babf3d08b52d025df4bec6fb390584c09d08371ee3dc',\n 'f0d5c7681e9dd46b6f6914303424a8000e125f287031854df46affd066f4434d',\n '4e267ba26a6e0182c4c0eaeb43862a0e0b7bc7eced9faf063e138720e48810b6',\n 'b30c360ad78e616f56bb4a1d6a63422f8572eeddaf3212c9e5fafe9a0d741e1d',\n '43c887831e75e36e746cbb20073a566fdcd8a2af8ea81cda320a7c20fcb2b2f5',\n '5be7b26628df07e3c2315aaa4b82d23acc37ea7081cc9fba182a89b2dc47eb67',\n 'd43b41fbeb62060316ab705095540715ce15aca99980e32a351953f13f93a30f',\n '8889f01eb1997ead8e3ce6bd7b4e74e22ed61629af397e9011b0407ac75d42a7',\n '156d4ae66d38659e84e1aae35003e8706d737b630fda24d863a5825e7fecb2fc',\n '2476064a37bcd8cc432c03f129810416e9f03cda9c257f279d00bb516adb5450',\n '354c146ff99f973901588d3295e925c0c47638ab6f8e68044859cadc3437fafa',\n '6cc7ea0dd02f08dae4d33d5a1b8c128ef22c2483c791a978677ee06ad73968be',\n '7bfcbf193510725f10684ab61619963dc13f5d1c15b238f49afa8c2d2b2a609e',\n 'a2f59fc049ed13e657038b731fdb048cdb120871029eb5f64ebd6ca993bb47df',\n 'c2f1ad407cb52cbc032f6fbd8d9bed5ba3fac7b10b2069685e3e3c8e0f639cdd',\n '680ced994527b6a9ba025a5ff13da33c39d2a106da82383357d55c4425245640',\n '2328db7002b9ab8d09c94ed0c413788313f6263f91c97c184ff590e152ff91d6',\n '8cd92392b95e6ebea2513148fdab74af2f76205e9b3ebfc4c483587522b260a7',\n '6949002d4210f89e109a88b462185e249559f1472d6a382f78c057327fd6a954',\n 'dc7505f088da01d767f41d9c4bf11c4c102ad8363b5caf8c380261e4fcba6530',\n '7476e41728d01d645d1cc0b9de9346f9ac54511a1f41479335a765ec0502f096',\n '038228b9b9ab551f4413fd5085724d2093421a687ae97e7be4211a33c0bc9847',\n '8af0d066f9698f6c188501eb0c4557a8c2f9aeee85793c47291f0082fc4c66fb',\n '3f95becbc1c6d49b35e7afcf296467509eb39aa2f6d80a625d8d991559abe4a0',\n '1096ce45f95c88edb072e7bc31618da6ad7a894b1b893df7ebc97e924776ee97',\n '49aca7824c2c41140fb5b334910fe00245aec49bebafc5164a65b70ca234aef0',\n '423ca5cb89149ce41a92b141d5739b6559052af9cec0ee95918f7fcc0072ff7a',\n 'e6fb6daa04b86324f7dcdae736c416aced28c502cf471093c7c9f7b34c85954b',\n '84e2ab0dd825ff96e03f3a855bdcfb970d659cb8a26fd7d85b1250fb4e111786',\n 'a3807a18258f780e1c4982dea5ecdf474f85d5317f120db57ebcef0de42013f1',\n '7cc84f142faa1b47f409630a28c4f1d5ca00b7afa69acef04859fd125a1d6541',\n '7ac5bb4562fcea6c9d012b680ff70796cbb60d74fe60a92b80ee66e491e4c617',\n '41258ba324feda6a971cb5a4a790e0c2d250a7689df04505fd91d2f10534d226',\n '07387f54f39e22f66abc2e222edc1bab86909a2c41d05f76871eaa4e3e392c69',\n '6c2f12d8657db8304a7fa6196cc2d090077bea7166f608d6c00f60b80791f873',\n 'b713e4334e8da632886dd87159ebee7bb7a7233920889344051db891aa1d6ff3',\n '0d497204a50e17efc9565e654866383416443e390ea4fb0e7f61ac9f6354d108',\n '2df0dfe45f949ed82d19114554071d79bdcf6c669d7a87cedee81701b996c35c',\n 'fa54bf1cfbfd95ae100f7e144e163afc32c3028d4cd86b4848cd7dc642d0b996',\n 'd514dbe121daf7215ccac5c83c51760a41bad25e5baa9272d7efc3844196714a',\n '9d52a68aad2f72bac594a988dfe90bdc3cb4842a0829d729342728ad79a93518',\n '72c57a5812955672d8ca278012ff62b1656230b8d656d489b2431b2d3b2022ea',\n 'd9371c82890ff73a75fb66b01ef6946254c12645036a846f30f20466e08384e2',\n 'e9b4c515cc99b457cabae09dd502f7f4627ac38dd4fb2a021c92a4e7961d9b09',\n 'e35ecf12a182a883517caa6addd24c107517d9f194c03f932b2fc02a64b0df91',\n 'bd7669eebcfc9106e2b16ceeadfcc8b817ea7a9fc051f393e63852b6c3cd0a79',\n 'a1d9a0c6fc418ba0cb3cebe452350b6460fd73910f9fe99680e53c16f51b49e1',\n 'c0e92ccd259ea0c1ff8f520101a69b70467dd9166549003fdf5a6467d63585d8',\n 'd8b9fdd84609d6b73b477807a3419a50f4947f0c9ad4b4c424a7d16067f1775e',\n 'df6b29a5268ad9d171dc4a38b9b269f3633f7c8015b0f7e6ca033a8bbffc1d3b',\n 'fb9c4d1634da94c73fd529b44ec40057c28a5c925a8b8e71d73c49e5a815784d',\n '41faae91bc5136e1d49c25cd3b9114fcf88a183597f6927bc49fa75182220588',\n '0bda51d50cbf904d4803b805f0aba662d98a71057bc024b1d9ebca421b2cf003',\n 'fdd6ca354c79d7c61ce87bea92e6e7d9df9eb8e8dd53700e4db5f58ab7846657',\n '1fac5fb4117385e7ea3e811c75e537f9e2ece1eb329dab9cf9a0972008994bce',\n '234f45db75e81480e4fd9e163b1ba267b913b84152dbc882d73a2116d23b25d8',\n '74f43cf8c831eb31d9d7f2bfa2d00af06ed284f150a20b3bf8168bfcb67665c8',\n '901d677d5715ab0ce21bbecf1efcc74e13979b6bfa62f465a68c05f38cfcb5cd',\n '6d8bc5253784805fa843b7fcaa496f9f8d68205308d605d976dcb3449b1cad2f',\n '0dc4fea05de54a484f0f7ec231e948c312c04aa26a8e4e221667b311f139c6e5',\n 'c881c8cf65ec7f0adaa9b0df91425d1a0c24c58cdba0f8890c357b7930b3b42a',\n '861c17c209e68d6678aefa6c52f7be1633762c0412c92e6afeb3dbab0d899bab',\n 'bbc3cd345ed1fbe1852fdfcef7db14581892cbc9a32dff3939b93cdd33b9cd30',\n 'bf65e092933e543ca6ce25d7ead3aee598ed7328d5bd986bf195f4cadc99b685',\n 'cd20225222e04710f2435da00280c75856c2329f216587164148bd872b350f0b',\n '0edf5b03aa652e4a6e4de9dde1be37a171a6a38478583c895234d0bfa82a4710',\n '4260d4c621ffcbe1d78a579093b37e172aea0913fb09bef2fe2b4bfec55d91be',\n '18ffd5113a8da95d36469445e751f1efd63ac44bb26ae2c6a86988a0eb6027ff',\n 'ef438c273ee9bfb0d0593b9fa702fe00dfe10144d2563d55f62ce1d1a82a8b5b',\n '23360acbb4b983d968297a5d81c5782e9fad82b6b7724e78a062479713606e00',\n 'ca8b6b350b7f71d3d0898d3fa268dac28647ca14fc1446af17767b8002eb0a60',\n '7e7a2a2035ed11927c5c3eea8ad45a09b7f5e8c9bf41b4b52ceffb0a36a0e878',\n '64536d6804eb6af8d9d8a89e9101c8842561c4a71cee455a0cd3315aab936b8e',\n 'c408daf4791170ca6bf3be772d0b97c1d9fdeeb86f61cd6e4892562635590706',\n '27137629f62b22aa62f0ec9a2221c55f93ea8cca6e69dfc4170d303858434903',\n '8f7a774fa68f40cfeefd650b64aa52eadf2947a8b45064c6a5c9d1912c1bd5e9',\n 'e42863f36eff7b74e29b51a5fb0a7f605380afb5a337ee449ea2e7464eb44749',\n '0139588556b81c3fc4167fbb42a35f30b5469d8d2b6b5f6b20c619d30fb4a1b7',\n '59c2bc5de8d0b11ace6f5067e9a1e9f434177385f441521d8c631064a377a348',\n '2884adff0444fda0cadf701f680ee176a410f74b4885324986cb366704a9d45a',\n 'bb90fc5ea57aec4cee81367ce119297decbb1b570a00ae3fce83148298ca0f15',\n 'b5f04d45ecc852281ad6140b8967504acef56f8a8e034fd7afe12ab8e39b9bdc',\n 'e37411ccbfb418aaa20498c5ef648e63efc4d4d4b7dacd3a30a8015f99a0bfa8',\n '831c100f99973a061a65c219f901bb36a520195cd7470efb20a39a6a6f3f38b8',\n 'fab01840d4d4652594130f3a64de72564dc3a342c516b2560cd7fe29284b82b9',\n 'cd14f6b8c829034bb97e54f3ed6706a714ee63d8162c633225ae9457660db63d',\n 'd61cd3b145efee6e7d1cf574a2048c4fbc6af4a70567f693166b846569bb5d8a',\n 'ded908e1f8381ba627e4f5b21e9e5dedb177e1ca61f0492d639d2156d140e4f3',\n '82b2eb07aaea1da81684fdbaf171f0ef11c109a086a1040e84851d67ad01856e',\n '611e7242cfcaac6aba95eee3189022366b77419a7fa1f0328491db8c0665dd76',\n 'c4564455d6ea7f65038f5e797271814b7c776a1797c2cb4081522bec9aaa5a9a',\n 'a45d6b13b99e321b6eb30aa1ac699027f00585f17a15ab39dc68ea87dc6139e0',\n 'c037e4e75f56f8c611e816133bc53f5fef081498b77f2818b33ab8bdf697ec6b',\n 'e767319e7cef31f8bbae746a601f0a14cbb5258eae722c0afec9d76aa258e36a',\n '3a77eca646a6a17dce5390e06c719496950878639f874593deae6647662090c9',\n '315a0c3ca24355261071e65afe4b30d28436b6a2e49a9870b918061309c76852',\n '5acd5a029debcdb5826922d2a74fd945c21288cac322d54cea8df2cc55e3d1c8',\n '142874509f9c9c92c3f8535f5a60a1416253016f9ad2b5eea0c1f9ecbc0174d8',\n '2ea46a50428a2ecbbb49a144134a20db3a43095a8b56c34e5efab9e96f68f0a7',\n '46689ceee30366c2d660be57dd3c2dafdf133ff5425196c575e01f6b1254dc3a',\n '9147ca2e3241a378b2343c42fbc3e3711e29ebbf5aaef43a67748d4be9a6cdf8',\n '245facd0261cf0b32a0609bb9c4d89cbbca6a36f9a2f40b5471a721d943e4aed',\n 'a6655791a48a15acba578be7f18b0f0ccaff4aafae6c009659eb3eebff4dedbd',\n '3393f1abad6112c965bc41627b5e0ec575570b1262c938a24a5fb5ee4bd47c39',\n 'fabdcee7275e99b0cae37e1a8913161d58d78ec5601ae9eaad9cf8ce444c7b61',\n 'ac7379544ce639a4ddf5280a5808c4fe2392430a3a931d66fcfbb0425980b0d6',\n 'a09faa676bb2169fa933d5c984f6db7e012a19f8037cf72ae0c44888f7268987',\n '7cd11425be277a38a3cd9ebe0390d3af7727214f22cb6152fdade66299e96de3',\n 'c9f8d5aed7e4b09372a2ab740e262acff72b6ac1d90e2ff1c682cdecc3734986',\n '4b3d5007d5e2876ace48e2149c17f2dc830731e39f28535e488b0732cd86e788',\n 'ad9b9f5f069bebbb51eeb2e93877820c22f5d1b17327de1139a39a83e180feb3',\n '3373842650d49a8d7029b5d1fba92c9625788acda6a66d1ac53b35484ce35f12',\n '30e297fbd08af35630b2c14e2f50e3475de82618897ffc4a30017a337a11c812',\n '07bfbddbb61ec59298261f2d4368dad6900473ebe1b852fb432fc6d9d273fbb2',\n 'b9ffb62757354af65f6710b75d396a05b540aa5f45a029d08acdff94fc56b21f',\n '46d1585eda58c83b169512f187e13ae66e9b887c7dc57441454b024d5611984e',\n 'b7c0f92ae8a08b8174206d8f704f2c7dc4bb7e4dc51f6d3aa8c01bbb1afb06c0',\n '262fa63f5f5e0b8408af2f380bca8f6029e2e12ce5a582adec4767ca0c462818',\n 'f4f539aa8b540997edba4827b9da6f9a2ea2d1b614cbb98c6900b0d6fde74d56',\n 'a0902cb1c78954ece2bed685853b3db78c58c547c71423728b04f7da6e8ec829',\n '057052ee555c8d1109cc8ae374895691661b64952c49aee1be4b03b0ee66b77d',\n '17c3ff32df5a1d32e85a04c9a3b9b9efef21085abdc8a395ca7b29d472ca0808',\n '5147673637cd236dee662a4011f5a9d9bbfc94ef21fe75bbf0da1a35d82dcb9f',\n 'd3a14c2c1bbc277580b5b67ce3817a68e8f08cd9207366e630bf07f4e0726c12',\n 'b14707edaa18ff7febeaca69d326ed0fda6c2308dea81834250ac39ddd383dd6',\n 'b57b2abfb70d11d44141635f4692abd6c36c6ae8f20d52e51734e9f9641f9498',\n 'afda981dca4437200df8c2544115891d9c9ca97bf241136f1ad911b1f4462810',\n '4225db6011f657c2b8ce5e77738a7d9653446a28b8cf3af0ef4de49588f12f8c',\n '2f398d95ff407fa5872a1e00f3dd01b9beb16e1033c1feda840cab076990b35f',\n '3a4874cef4c46d120e859e1577b9fec17de61d35d586729b47f8264f24de3e94',\n '4a85bc53ae1cfab236c36ae7118d0a018e0b3b6dc37f70568219385439919fe4',\n '5b9af58f1c9fc8841a967d21b4a07235db89516717eee638f77bf1ecc2b66ce2',\n '8ab248ffaa99dd239ea2de269ee6fa5940144099fc7d1fae23b45f3a9e4be658',\n '9befbab8decd5dcd9493169e8f1dd5e58af2a161fdfb74480c9ff343268495ac',\n '43b43813057fd2045be5a66d077b2c367b4c8cd6d470f03893239604cd7a46d0',\n '9c12b4663f73438cfd3feb8efeee6eea03f5bfe289b50a9dfaec06c6be6e3648',\n 'dfda77fb6db2f8579388951fdfb58309b2f04d6cbc2b2cc8164183926fb6b0fb',\n '9b0b0463e6a057d55c4b1c478fac06f4cefbbebb292c7eba2465eee0122295d8',\n 'a16346ba3416efe9045aff8fdc9e972bee341da278ce48dfdf67d26cc48216c6',\n 'cad902ef4744e98fd8c45478ee6c3d20b6fe293636129004e309ea0c09ef4a02',\n '6aa46ab463434d5d58cc4a7f3c88467faf087884cd297af17f1d136678191fec',\n 'b0bdb1559537c2672ef6e8a81065cc0ee1269aa4ba4f75fb294c50af38cda10d',\n '3a7c6b3d1cfe4e376edf6b55d7f0744ba45022f5c753ae23622eee6bd58b3af5',\n 'adcd9b9066ab44f1e80008267c82184ee104df20b0da2677c0882ed8210bdf8a',\n '974553f2c66ed55e0cc1116f824a499063550f0d68998c18b60b4d7bb98c8a76',\n 'dbb5f908b3b412b192455441a39a07d8ff9fb01e4b5cf8924c5d6cd9ef75a136',\n '76b6117c1391f701e5130608e041481dc8dc209f99bd6cbb7b2b54240051be06',\n '43759232b894408af68bb0df12ad671f812d2678a9067766f3d73f7e61ff748b',\n '7a4044ed5a0aa161bed3f116d2457181a356787de4aac9268a6bb7b1951d0315',\n '92977836f3ec27d01e479c96d4f330c3deea2fc40998db5bac98b5dd0e6c30bf',\n 'd018580feea83a243785a55c9016a5aa11471280ff216636c10bdbad9229f278',\n 'ec099229f60582b9d530bdaafec14022dbcebb2929f0040d2cc9e36cb8ffb987',\n '40d2db0f4cd921a243986203fb543f4f97f314b68471b4b46085234fd66747ed',\n '096cf675f70416b2e41772ca7c7e2d9e47b036fd61761f6e271d51b205d0bc50',\n '8fd0f117650ba1c773c92a519e0959016d524084a15c22c362b955d9f1866ad2',\n 'e9c5198c7b07f98dd70f4d1dbe84961f12b38935af8ba4a674aff64f583e270f',\n 'd3a5d4dbdc9d4d9c7ab9d0fc7f9ff7f52fcc28fc1192870e123fe10444fc832c',\n '618e4f48974c812f90e4db8956940f5361991f7733cbb2ccf790f669e8017803',\n 'd920b2919fb98eaf7596ee5881d6207f629f42c92be55aa8601ea73ea57aaa3c',\n '1c05a54681d530ca76acab6d964361c7f8baec0ecfe71ed69458ff2946d8670e',\n 'fd4c8102c89ee8b75ed290efd008f4405c84190eef8c83e6bb7c4fd56325a0bf',\n 'f44ae26f4cf228c4ca8947131cbfb62252ed1cc7da80a67c519323807d25610c',\n 'e9b401f4d9f5b1010ebdaa5dca9f690eb69ceec3a8f54237cd8c3e1de6abcbfc',\n '22096fb2a11921dde323ad8de2aa899780a17ef33a57c3b8279c046bffcc215e',\n '86e3ff777ea4834742f8a7ee691a2fb1a4700f4b9cec956ff92e9c8d6dc14524',\n '09074e5a0044f0dc72f4709b3b163552ca08c620e15a76abd7ef77bcc307340b',\n '49c1c0299b70cfe3d78e3ea78a5a6de23792051e623afd517633664f1d89cf4f',\n '992e216645e87b7c397e6cbf594664b8634acaf57d9419d17bd112d360bd2794',\n 'acbba1ba01bf11e34142d05b7fda2c73ba8dc9d5619b46ccb29cc52d8d7d1f87',\n '0aea4d5ca2361d845b1268f964516238b957278d2ccfa9c688596ef91da760f5',\n 'b05c46e4919c198a05d4f19e52f1c9114df9cdde4dcba8fa616be0074698a54c',\n '9a6e07564858d398669551e92c8d54073df5a0a69a33b6ec43381e4f60b8beb0',\n '6dbfe0a624e755449c716e578aa2868eef71520de5694ca8cc5465374d578d5f',\n 'c26ad321f7046ca8c1aa14be6994f1ec8eedac28ad132191bf9e9134bac8362d',\n '6da0d6e4330274702be73b3f6a6607926187e88019d2aa518fa98bb652dd6ded',\n '94c869c55d9fbe1f7be1c8f23c5f6955dc6bc28f9a7f34f7dfdd3f6c4e255e45',\n '5d9c8c693a4aa730e61b6cfedb34dcda980ef972906b4f13836e38871410e78f',\n 'ba3719ea73638e77237bd14988cd99b19c0dc56df5c1ea374055ca6e99842048',\n '9618a743cd6e0ffd78b46346d9f0e649231af6ab089fb2059312af5229240119',\n 'ed58d02db68143fab17853655de4251ef5314105ee16d28c84dcafa69b41509b',\n '10445bb87ec2c9ac09dec6d29cb136c51bf00e36a6a249910fba09b937b83922',\n 'fc2db6628a119a6ea045da8f18bf9d0c464611667e8000ab6d66a8091cc41ba5',\n '9d4fa67790e20a613652c8443057125dd98b0b7a533ef33536419e040a3b3564',\n '8a57f770abd22dab7e4c7d4336a6a8397977e2d408f945bb7d7fd021507941b2',\n 'd4baa9eb1e324278c8570eb07a18205c542f9367ef68a98a1c164b15e84092ca',\n '579f2200b4af6f0aa6441ae02da7d4ec0cfa69b924fc345d93659b978566a16b',\n '168ef5e5a20d52be3092190a335930811650f6b5bd57e3e3da8cc91edeef8f70',\n 'c68c6844cc17a36277cf6ddcd8744aa261755ac1bf8586b0378af110a687db2e',\n '4dd547c93ac50a7385eac391515cd19f0dda1b8b71de7d9e1da3d42ee2274b06',\n 'c5286060a85f4da689490abe351645111b46a45fab6889cee8830731ef59bd60',\n '7ceefc168e27baf65c9385cfd6d4daef81d845f75ac4efb6853b72d229931aef',\n 'cb628c6b1a0cd8cb9192ab7d5cb01bb0f100b8ad0a62374e96785a7dfea65fbe',\n '7d5f8784ee9b54ec9662202e97df4b7d26bca9954ff4319cb085936c92e4ab33',\n '16872200aeb95ab6988c2ea0dcb0c2d1073e5daddea4fd8d31e4be853cdd6c6c',\n '9f7efa9a1f97d243dd1532e47809e65bbe4d9f6f7b34a3fa0b2970706a11058f',\n 'db99d929e7565a0229a2a75e52e6edb65f91a8e1fd36f441e1e392de72c2a5c6',\n 'e6d25847da72ac64fb7ad90c1f1602945250dea39562ae565629cc35f6ee5373',\n '2e74e9b7dd688b91e1ae9162e280ca3b494c0c6577e1a9f004c028e3c74f8e48',\n '8142faeff6a7bfa9d4d7e4e1a47310dabea7f48fcbfaf98e606644a22ba151ab',\n '72bd2885b02f292f435c7c776fa90c3a9cc76181cd833b808e323e0d5616fa70',\n 'a69bb7ad3cf2703cf859c485d9697b4bc7cf12602712e522c3e7c7f1e167d7f1',\n '14b67d01335b562dc4481ae8fc8c5c06066609bc41c90e5c55ea597bf32084aa',\n 'dac7c9593e2b73fcbf4383d1949426010cf17736e8edd5e228641a88bc839c57',\n '002086bd15c9aba8b8b3cdf88498e25735cf66043ddab8877aca317256615aff',\n '8d6c3682bb368219cca8ffe3308116255f5e5dc2428fdafe41b2677e1a8833ec',\n 'e3eb81e1804722c09f96d2aaca50e04d21a56917fdddabd90323fa7a316df035',\n '08225aeb0e7f3093e4bddb419780f32d221e99d2c1682fd5b2cca8d8121daf28',\n '00a690d4dc5a533df81cf21d3bef4adea96de1b1f49f208ffb8adca70430c64c',\n 'cccec4d6b10af47c9739b98120cddcc8398080035c12640537000fbc31a31d26',\n '99f5f50d477e29d81af6e8e9ac24f436f824522a56ac2c815e14f4a1da323928',\n '97fd9f834cedb55397e0659fbfb8118fa95395e96c2dc54009f2d9ddff48cc99',\n '16d1b5b3cbdc2a3979337e61a0c746b16bd408859c42cdd4c1599003c59a1641',\n 'f92957cdd938bde0e092e376443ee9f6dcf51514c440b34f1126b2a0267ff6f4',\n '23872f1589fce0150d9b647073d069e221a8c1449b2db199b8c7a2748f4a006b',\n 'ef881e8ba8743988502359d23b4ddce1c0b6f180ebc386e97389c3e9b40e1a80',\n '6d715c947aab2908e13c9d788b214a6c53ea85c71b7f73957bc8c7535a3da8d5',\n 'b6dd04b1d072ddbb9726395692aa7cc567b292e48d7faaff1e858b6c7a619cef',\n 'cd6362a24f4611d0dd0bd580a4702d36cbd4132e4b21a4dc15be766c14d7b6be',\n '2f9b768102ce4527d1e83a3669e4ca84138a61ee78f9be1fedf4211b3c7f7220',\n '90e12c10b0ffcaf413c4fbd8be8b0d69643c6c64f49d3d8c6391e59e685c423f',\n '39ac205c7de46fbf21e9b988bc8b0ee9929ecaa235791ea4854796290e29b777',\n 'a0a15682371ea77d58c650b9e4220cf7f186c609db1f49081f1699c7619052cc',\n 'b0a1b210cf6e6a77b936b57a4eb17fc7baec831badf308973cda7e31a58b9b2c',\n 'fc0f2dbfa85b6f59bf045255988fc65cf2eca96d769904bb751cfbfd885271f5',\n '0b5776b24db81aee1643714f05edc824459f47ed418fcd5d69f2a2cdee540671',\n '80d8f26b009d4862d2cc853814a01114fc2d64c503a16498f86bd1f5bda57eea',\n '7f5853396f798f609b714bb58e829ff3ef5e0f92310e520f2d89d6654e7a718b',\n '3294905fd0387eef90da1e89fde4238c36efac43c76d2aed66b91aff53025afc',\n '262d189abd96d6c71fa15b0baae5dd3f539e21adf5d97fab5c85141769de1e88',\n '644917b7b2884e13ebc03293b2ce175768d5a8ba73e993b32d385fd957458dd3',\n 'c5dfe08acda160827e3c0a869adcb1268aa94215c07701af6fd18e647419783a',\n '099891adb9d1f50f2ee91ca1a4a38f5acad656f8f9c48f659f6be310fb0cbfc3',\n '399cbadaf646a5ef8299aa5311e3992082acc08ecb29173147cd81d45e5d80f8',\n '32a03335014e8d443bf338bb085c6db262f840fac91629f5779608733bbe5e95',\n '869fb7e029d6870d2e60b77111a20aa33a83493e3513daf5a7783ae0f1c50392',\n 'b09965d41c4492c97a83d883de9f85f72b588b81a2246577529dd5ea1699306b',\n '38521d21f1c78abfa15cc1058762e7121d56007bd3460f8218d451f47acca3e2',\n '832d7b3861192cf254d54ab7057e82ff6c1ba56e372d0d2434fd7f10d248acdf',\n '5c200a75af88af2ed0b067263797c4e6216fe493a2cb0868c91c9bd8cf702cf7',\n '6d88894f2374194b241a43919eb9ef637ead6e4ae1ce43c055f5f785c07336b4',\n '12cfde308fe1a0e2b8ea05a2bae68fa0cefb20a00282b30f860ad3912affd90f',\n 'd8a1a4e70c082e0d46bfc1b558212bc4536f45e3e7c46a2a2afb7de87a001a6f',\n '4772b607d38857ab2614249baa78f49e5e5131fb341cbb06630383ffec35365f',\n 'c3aaa770fde5f57897368a69fb0b47f2927fe07ce77697392b75fcd612fcf7ca',\n 'd00dcdcbdaf3b93e14d2ba44d8b094ac1e50c70dd7f74dfef309d5da47a9a154',\n 'f90ba10362e79d2df49d48a63bc033b47d885ce421a4539a09f2560cdd804894',\n '4c52464ad1e7ba2f652406d38f84f63a5b1afa31659155492578daf00bdb7ab2',\n 'c4f8d7ee3748655d321c57c3e84de381ac3bd149069eaa66339ffc3378c4da8c',\n '49e3c4ba63d9730062f4639cf04094eeb8ee092b1fe97c289bf7f4fb6654bdb9',\n '813da81ec62af3c3902b5287a0c26eb8536bbcafa8e06286a94b47507e73ef0d',\n 'dc13147a2c574c0caa45905106e23aa4d4a436c827df4d9f2fe85785f4fb765b',\n 'bce597298505fe6864bc2780ddf0a91894c4762180134efa3917669c8fb8fbb9',\n '0f5f65f130a7ec38e200ebbceac749bc5900aec0d4b6b632225f42a3fafa19ae',\n '63284795552b16952b3c63f1fc47dc02545929544a99f1f066fabff2bd3ce3f1',\n '33287202f9731626f92c18108d45d0519b159df4cc6fe2997bf7182e0985502f',\n '6e27c2f42f05a619236d9c25a93511c74a8049264b167502935fa2c96dc69bd8',\n '4e5f923ca0a87489207a4795f23189304081261d7f7fbe30a757fd1fd2b532c7',\n '03d44ec36f14de66808c9c1da0e597b6c29d6b1bd6c82ac179a5585ae29ac119',\n '493e2361d708495e6b346d7ade5e9c6d91aa3dbe4a5c27d200c2fcc654579473',\n '1bc9dc8e813c8028434b947fae0dd5b5194e94605182c1f0867230b15ea4690a',\n 'dcfd49291236ce59241654b81fa34b27467101511978224ec270dd398696f967',\n 'c45edc0400a9aae792dfabcee2dc8ad33a72b847791dc2341020d9aa23cfff98',\n 'e3e747e728ab4f189977b2ce57f883f7b60089bbb7229da508462477eb681872',\n '32ed7af5ca088cb4e6f7951669d7aafda456f762b3983d19e5abe213bacea76a',\n '53c56eccb24ee902dfe0954df1a20af0ae937f5eca7da4f0f921a7401748a06f',\n 'ce86449facd36f6b249a9fe1f5fcc1c20dafea18c38eca46914f7a0c66fc0571',\n '165e779cf1f3ead1613045c5cf39f195893b8fed30f81660b1d2e4a0e4b4b044',\n '1776b6fcabcb0182a856dc2e880095997b9a0c15bfcff026f875fb78f5bf3e58',\n 'b737bce53b23cb938505e599625b47540ea3503a2b11fab3c6ed6138f4fdd0c7',\n '1cdcaeea59b001d1eedb7833096b2e0516a68b6457c23d2d61b2c455e148c9ff',\n 'b1cf9d48b8a437b5ba11676415eed722624d66e6060365148102bd627c9b1575',\n 'fc3912792c86de37ec7f6ffa7a0ce5d5d7b7c86f02ba890cdf0bb85a3628a792',\n '16800f05df43068d8d9d90f725d37c0f0e542e6b2b053e19757e149cf2408b68',\n '6b2185aae21efb66631815020be300dd09336cf48d533a388484de3e2ded92ae',\n '31e45ed323892d20462b90d619f22b4f09d729b33952dc7eb7d463865872a5f3',\n '0ae9ef04e65e1ea7d6effcc6f6a759eb7fa58e0e51bb4844b42aaf68b15d6c0d',\n '0570dbde495249340a6605eff2daf66f0db51df48cd82ead651892b25f150b27',\n 'fc8805ee2fd5f28dee01b1172f4ee9d4b3937c8578a92fae6720471685863814',\n 'a2bfba2e68b019597d21761b7c026e4da3d9930326ff5e7d17270b91b938ce2b',\n '802d9718b1ae007f1ceb52a375c2b9e1bcbadbb8c580fde88e5a241651782a15',\n '1aecc808816f3afc48d32a4f74643d05dba90897000619e4b30478704338880a',\n '47efefaad51e542bad6480d8a5a43b50b6db74d42ee3ec621e5a8381cd23bf2e',\n '1ec2546597938b8e16136b94d0d5354b082fe8a7666e513faa711c7bfac03c9f',\n '63f93e54dca2f205b1f6f67de8b85116d79c0f75a07bbf41d9b258cc05308355',\n 'a5a42b510fbfde032fbcd6358bcac955d598e599c94261c993ca7149507e74f2',\n 'bbf0f3853adb7e8004ff7642f97585b5f25e1345a4e8d95d456efb27889ee786',\n '447318ae469542204909c82d7deee037c544c8dec8f17f4a2b84cb3114dd3dd8',\n '8804cfb0ab231b9187a8b4418a90ef94c61483e2709879e69fbe0e9b1bc27a8c',\n '4aee9720a7ba864b88754b96d5131b2f8bb12c069881a3cba0275082f115566c',\n 'eabcf7a36208077c429f3bfd9b248e79abded6eefa01cb184d9b46c5613dc080',\n 'fa25e4c61921862c0310a9802fb459b36b152d51d23ce58f5ec6d0a9251d27c2',\n '24130e1285e8939554ab361cc8d752960391d64a6d00c1c3cd05233a51736223',\n 'dfbd6324fcd1c302354164f469b0d8ca885c5777590998c02f147ee9ef5a9cf2',\n '08101a61655011b9e02f16f81ca998fd2962f01f6dbf17b14d6b57be382989d7',\n 'da404c9679579367ddf4d4582e63f39b067bb3ab1d4dd01020b899e96e1ed79d',\n '0ea1815c7f27fa5efbaad4ed66038729d0e4824205c8a77b15891a28531ebe76',\n '82a6b721d0ae749feeec393c8d627a276c833e4dd30d303b523163de184ab7db',\n '9e0189a8ceddb3cffbd2e57490485c7a7fc9afd276b40b3564705d3a7ff1d825',\n '549ef00ed4b4b266482707da27539a61a79c1ab834677a2bd2c8af1364751212',\n '978a9ca6089510c81d8f245d74f1a9c477ec307965306c26b7c047ce56e1f7f0',\n '7be79bf8414cd494135eab3fa55e6af391dda1db6afe09348b2bef9e038f2199',\n '015fc4e24c27c138815c365f70305e7538b2f01ea38cc5df6c129c158471423c',\n '153c610801b0f6a6eaa7eb0be0ffb40bcfd3bde2cf5719b0786d35f7b329704b',\n 'ed8919e81c47a369cd2e7c6f121f11b276ab3928d14ffbe3d3625ee474a07415',\n '55cd00d4c970d075a34971af8e62759d56affa7628adb6ac4ed40f59787e3332',\n '9fb10a82345ca3cb0279ff8d15ba873a2603d80be1d3c7039b57879fbd61468c',\n '505e7905138a51e5ab197745d8dd2a584b3038cab64a58bcb71d4c0623a7c879',\n '5de14d1a56b833823d97084be16b286b1f84f0d1ce632c2b89b3a8165cefb935',\n 'fac3fd4870ae1b04d8c04b750851df65e38b74952c738ca09a5ec3dd9d0eaab1',\n '8743e0905419cedc21146eeecf7de1242aa6e650fc5600eee773e263a06bbd99',\n 'f534cb87f1c5d0b9db6d48beadd7a87380ce12b5e7b595b633fa975dab8b7d5c',\n '93839bded700ef017978b7578a97cd5e5fedff3a90bfdd9db025cf50bb98663d',\n '338993bf0ded99ea63acedbcafa6d3f0baaf4d15702586bd6e42609c30f358c9',\n 'cbdc53962926c57fe9fed875d8acc07d2a2d6cbf0aded24debee28496b9bbced',\n 'adc3876ca87a5933367aa2f8056f17511262a1ab6a077fea2aafd47f9855f2f4',\n 'de768d9e61ef88e26aab4e242c3deb2a3a76545149c593853e15c8990e3f0f89',\n 'ec5d5d9534d0501f7fe4547468e2f1b9c83173dcb53255c99eb9a0498d158fa0',\n 'b1b06fbb6c7760d013aa4c9adc2e9892234881a291382d96385023209aa216df',\n 'e75d60e432f23494b93e489a0b5332d5e48668d9b099eef351f88ecc49cbaeb4',\n '0ab9359aea9612ac321475299592db445c3a16d64bef6900435fe14f0f3866ca',\n '223cb991c69e6d28e931f4f01b66befdd1b1db361472464b1e5c54bfce45d258',\n '9a15e9c3caf6d77afa929a343ca56be5c5e8668bfbe7735f736882548af3abd6',\n 'dd4828a68872b045f660e77ccf77097ba012521b4bf61814fe5af3e4beda85e6',\n '2b21f32e1e640d548848633a9881237d8b262737cad7616f3d97128952661060',\n '6f1d0354c1faf429fa10712fcb082498fa7b1b7f55b830bb9f1efcbbe3d302fe',\n '98ccfb62b252b1d99419ee80e062ed661f4d59d7b4417a8c5eae7c2668b7d94a',\n '899b4b1de1936e9232499b3c6963125a1ab2e884e0d4a426959170bc83eb3b48',\n '1c2686358b91c1ba66a3b5f87f440a72718639ed7f2b9e1d8f2b2a08591d3e98',\n '6395d0be2465e28be83d627ad74bd281067b91dd672826f0b728082d89639feb',\n '59af04b403a7d988688177495806e006c974b5f0a7720575a6966f028869ad14',\n 'd609b4aa0e30fb2cadd6c05ad2d2c4274bcd09b843bbc944e116f77cdd1bbc68',\n '4112c6c69c575e66e2de9252d18e07c952220ca0c4e4699c1e5c8b7099c4b0f1',\n '5063644ea45b08d1e7b463be0160929eefef2c0f5faf5916a516e2c63b1003a9',\n 'e3dfbb25a3d7c9e691da92e6d0bc7d723d26ec188aab23a800abe49aeb9a5280',\n 'd07a1930c99b3e92dc0b0475b188940611ca33953f3a095562815a1eb05822de',\n '1de52295934cc6c9a7949d9288366c0db0154052f1857c6ce647f5dc9c760a54',\n '688992ef67faf58bbd435df52ac99bd398bc8beaf5a797ecc4233229cbcb3997',\n 'd091a489395a547a472b4052cf5880b948568bc4bc81e6a976e579272c4e23c5',\n '3abde88d71ee0140a02d291276afd0282e1783555af396b6b3c2a3a84d90c388',\n '310aeab91a3e00f7c177a031cc76b72ec9d2be47a5bcbb124941d28c70f9dbf9',\n '51331285449982c1329e10ba9f1772abd4431a977f77915d9baa93f2a7436c39',\n '59a5ba08eba40a1ee2eba32bbfdab2f65539132392721469ab6f3597fbce718e',\n '70a8e5d27a58f3f135da4417aa2f94a9b4ee4d9957f27ee34f82f5fc6f90fc90',\n '5d09ed98966478b63e7e45ca3a1f2d2f88479f4034873b75d6136f13e8d87c93',\n '652fa5efba4ef327d869bde717851d3b604c92b5ae5f6929d4e3c2311f7d8c65',\n 'e0c529fdca39d68a4b2c8f5ba7ee106f05bdf12127378bd1570f5c72109f43d1',\n '44113bf96c7c226043331e66b7139cec364d654fd630bcfb38b1b3ee145f786d',\n '7d16c7269ab56bb4903f035165de8157d1da3066896aa0a77ec7b05e36406478',\n 'd3e6dd1d8918c2e6b9fa612ddbb6c6b261207e39101343c870dd3d7116b9166e',\n '93f0f57be41a93ed84fe72e640e457af7e1f6d1301620d6a016a13d1ee25f262',\n 'e756fd17872e7f8066cff708f0edb2e08963a53c7a39d8de9c6505b34ccad85f',\n '4c695248a47a732a62237429ad3e75b306169b32a889babcd984e1ea04499382',\n 'c5ce6fb4784942b2eedc055e1724f9b8476e718984db0e8efe9c471a0228e706',\n 'fdd37416fae54311797c08c37956747d741ab86141a64da118c0d3c27a3ca69e',\n 'effef322c244590b3a4f2cd3686296adf26a04cbc378d9b0c789de810f848e61',\n '5422a5a326597499a2c022b394e2028fea5de73c5d1e2e547d9e2b30e2b2f318',\n '73ceee3c875f60e3cf9debdc7a5df2c3d242b1391a2dc6ec796d0d3029215001',\n '58b777b04e34d687f63525e1644fff558f030ef40fa170086b41ce52e1ae0cf6',\n '0bc4d619e87e447b95763805610e42ca3190b4134bdb7f6c2938fad2d4f24115',\n '51985d6ae8e657f681add5fac2788ebe2de8661c2d46c073554ae24fa03f6641',\n 'd49796b67024d2fca478ff2fd9122493a2b90fc4b3dffbf4ddaa8e7cb5a03687',\n 'c3e2feff682badefd085560005451eb4fd5db86ef813d757625bf2447986039d',\n '824a289000ea3ebe42e8597dfc16eda598b603efa260bf0089460e08834fa504',\n 'de2569c494d90271ab05272759fa5529c8baf0c6ba6e8c8c12f59bae87047c28',\n '40930591b6db1948d02e6237d2d2a48f47af7d60c42d256f474d8997dead23a3',\n 'c0eb88a0b761c80f4386f2a4337b066cf944b0ddf1585622ad734d5a2fc14d54',\n '03a576448530443ee8ac0f5ce6221dacda85d5914fc4c951636130d69107ee6f',\n 'fb64282022bd7a49e51b2548d2f325a8cbbea756702d619c024cf34c43ec1cfd',\n '422389b1a5de06ceae281098f453daed5f19daece581b7a9ff23b55b4697bf4a',\n '12b459174516e5c042ba447549daa3e0b66278cf6815d9facf1b63ca50b2741a',\n 'e01c6ea7f6ca84f8f9429bb0876970d97a54a69ffc04e5a851063ff5734f613c',\n 'fe3c6659c9e2e90027cc91ca4b546950ad33afa72873fde1bdb661e612c8a539',\n 'd59e166018923acc8fac3d35158512f72871cb5f2caedb3053aa42e64c7b83bf',\n '4453185a3c79e1556df533a59738e2b810befc10683af614bda16cd0f9fa0273',\n '5574c4c59753f5c38461b28e53b63ff894673a8422695d67b83d60aac5f2b349',\n '1ddf93e350d78c2c4f7eacde9da17085a24c7bca20f8e32faf5609733869472c',\n '9504f9230909b54b0d4e033e07d3a813fc46cbcfc55b2721c66aac1aecffcbed',\n '4704b3b4716db9bbb33dc88fe00f79ac84ea56212be64094ecb12bc526081d58',\n 'cc6c4087a23aa8a3cd3d00a424bf57634bb77d6eda53f57abb58550babf5b342',\n '975deb1608f1f928c99f51d96d5c1883455490e4981487599fab59eb1d5725c2',\n '84a444037eff71c11291aba87e5e135d42a344b85155dde0a2834ffbccca4891',\n 'cd48940dd0d9a0df7fab41799ce00bb77323d4ef999934cb61f8cb2a96296f88',\n '41e77ae51c4c827b6a87d792d0f3e0593da56fe843467590e6077b47fc54ff86',\n 'fe202eb14b454a63d3c4b268e55117e1cd5e5d11f585aeabe325a14628dea3ee',\n '25f3ba8b0288c60965795778192b15a6d072134693b62713133a8ff7c0f6b8f6',\n 'd3e2f58d9963a93568421035232150cf05e3595a37b57b5f71147efd896f1a52',\n 'ae3b0cfa50c2d5fefa512ee6f2b248966a1680e186033edf9ba382dd8adfba0d',\n 'c04c66d73a291c279946755c1f191f23535ef2103d6540331e2af6d942948aa4',\n 'f0911a3b8bee03ca364508046b37292c409e8aad604c59da38934fae45431281',\n 'c6afd7e869ba31d2be84ed9ebde612d4513f3eed93dedc64192aa073a8e60b7f',\n '8b2411a9d5c40be266ee162860a8ddec78f72c205d1e7b0bdff0e145c9bd6b5f',\n '668db8d0067e43eaaf0505a6786b21f3cd38bf038b1fc421ed98105efe7bfe14',\n '294b4d993e16f560fd72752c70424cebcce61f013cbf9ff5b5281b9ebdf6b649',\n 'c45d63c60990bf2200247ba7fddc7c2197ab3178bbb42d9d6964702dc2937a14',\n 'bdae14f41963d3e7c0cbc7fba33317d7aafbbf0ddf6700f9303e6aa77cd399cd',\n 'd55ff24a77468f41c76dcc7c3bb20317f0ff871379b719ad8fb6afd145079a90',\n '61107290dac68c76ce334bcbded7b4464a6e272430c23868691bca2f771d7762',\n 'd91e643e469753425f07443e281086943dbc580ef45d794e3a5dc0a4fe4db652',\n '72ec8adbd87ac5a7d6b0aa0f0efce3eee0b0e2c09ef33c9b9b6a3159ce1dde77',\n '42fac2a40cb67d86f8e5545651d783020d86fc13cc4f0159cc723e835ffbfaf7',\n '2f61550aecb063ab1e9617b5af345606485e585da8c51906ee922e26f8a30647',\n 'c08c0a5ed6a72a12a9ffd7f2537b7ef615c33b1e0032f8165d0d1e665f20622b',\n '4417ede6c55f09270bdedaad3efc8275d2d48cd96704e2e2264aa103ef7c121f',\n '753bbb694d5baf83cd207b017d2ff2a22172f9805ac8f0c3f5d113b56be8e3dc',\n '3d0a0ba78589c600aa12b6f3c6b79237bb91c62a9ced5d0ab16f013515acf845',\n '1b3c6f5e3b6671997924e110ee414f4a0c52eae9d803b114f688f31c9e87a667',\n '9f19c70ae23c3b00788ee0456ce4481f3f7f34c9b61f40dc1e54f08614c37baa',\n '4d453f5fc807b5fd4b2394964760e61d449002bc17a9148b93be2230504d5305',\n '3aeb0785d768497ca46bfec8c1f40f9d8748d1b90a327b81f5841f4d15d66a67',\n '76bb08e6cd3fd0b7441ef78f9218949588920de108117e815652e6660c5b8398',\n '6c0d78b4ec13300ae9c4f7e500c46dfec9a1035479acb9e4a62d43f0a14f8234',\n 'c527bf6f963d79ce9f119b10b7205929952891457eda624657e17f3488c66cca',\n 'f865761b80e248727f14abd1de7fe7ce30142f52fefdb43f381771a9f51cdcd3',\n '0d580fdff6508880ffd5df9f52fe6ecdec31ac22d6979b70f5683460e81fb9d1',\n '755685e1020046896b4130d55c53fd75457780473f0e08e1ef4e837492baf518',\n 'd41cf1f2dd9f071141ebe66c261af16f673d939ec0b811ce4e35cf0ae250c522',\n '3f0fd91112c8626b6539d2ff671c155861f10420b5eff0daa49854e8259addeb',\n 'f34040065bf4e5e7f8d4161a996e98f5cabbcfb003103d5d9e8ed7b750c3989f',\n 'f3487dcdad27643715b8a728467b7df9e0b1640431178cf7db5bf360fdac4e49',\n '8a76289df37c8fde064e7535ce14bac8b81cb58908cef8aaa9ec0280dfd4eeea',\n 'b0155ead4099eed2f3068aa8e84c6cd560d16f4b8fb6b5af8f43df19f5c2bd57',\n '43a2482099aff7a31b62e4b1edc7213bd308bc153ff9cff13bad2ed733cbeaaa',\n '81761087b0ce20fdef3f275fdf0684db60448f1c886387ef2667486461b411d6',\n '4505fe77bedd4da04f1812c5a31551e5b46cbe3da98611156e62935499546614',\n 'a5f0b1173406e734a1c305d303b8b40f984c1246b8c03349a11829cd6c4b4950',\n '1c3a103c0dab8ff344febaf4560a01b96c17401906ef11c55857e979e56acccf',\n '267f4cd3efc274ec244aafbcf68b647cee744913bb709e1f6c3a4a2269f4a139',\n '83bbf9237457d53b86969190bd7ef66527e5e84d346ffe621833d6af6c1480fa',\n '42fd870054d7fc807d11ac6c5fc5b9c3e71ede87d567e542a84433f2cd6a0eff',\n '7c7f4da36a3711472b56c75fba46fbc323e750bd0564b7fa0ec8ae927182a511',\n '4dd77d3ae0c4dd3f77c1803a2f837ea91ecd1bb8549826eaf458dc5f14b1ccbb',\n '9e51481a0e95d9c81cea7e4565236b55b0d0923ec4b90f7af9de43163aa0c2fd',\n '004a77d6db5f3be729b4b3d8b7eb0ccb564defb037a0edcba96eb5c164d87a37',\n 'e0a2d88c88eb6b3373ab8e261e97e5959dd73118aa8b4b93d7808d3b971fabf3',\n '3a09754aa23bd72f4316ed27b2ce8e4e38756489162cdb6de11272a8f777365c',\n '650bfe0e3ed88d02e9c5965414bb2dd6f5a7d2cb3b844df2c336a9921e37875d',\n 'f8c0cc7821c12e4e5c8fdd76af668fa120dd487a7c34e06708ae60f7b6453733',\n 'f65b844cb9d8f538c35f5f187afa3731e165100d6198c90f4894f5fb9b1dd656',\n 'e8f61c36fe1c3d9810e5edc4131a5734c1b8868985d43e88a24f1623951fa67d',\n 'f52d633465dfe5180b2bff009a073f4948df0a879887b092abaeccb0802c3b61',\n '5dbc09cab628878cc4769a868b7e8d8d35f95427f0839b14640cbf05527e94cd',\n 'eac5c70b0b700bd928b20ed6666decf0bf342d284831f5fc48c579f0c8dee011',\n 'bf6460a7b0a1680b62593a6d5291592ca56ff7e11ab40d89a219fc65f491aa92',\n 'e139590d8add5b659d752cf7c0937554c554ed881838ec5fadff7627058051ca',\n '8a94715e821416e5091cad9a86ca94e30e22498a242a64619508206840ff79f3',\n 'f5c22ca593624dc0dc9f17d1fb8de79b199bc14b78eef62eaf0db0881f44028c',\n '027fba8f0b404718bda1c347e4a0cb750d9bb92c63afc8eb30e0091c01ef2688',\n 'b61919dd981f5022bb2475c3792471b2d5ef55f413818d6ef9273e7ddd6f6809',\n '368eea4c9973540c6863cac894a41ad90b4b35c427e200440fe31f8e5d08ff55',\n 'd55baac774495686d8cdb9ce435503b051e69c01211e95f1ce6bfb3744855b6a',\n '6012d38b83c2b02dc417de69026c74ec1752dfd1d2c0e83b9f4d841e0e2ba40e',\n '8d3a2d1d696958f3d8242dece792dd1fc5c3f7767f10c6b6630dfc17e351f76b',\n 'c9045836295c47b597911994495d85c6254a8504bdd429c7e434bdca16e60581',\n 'b958e2ab6a5994cf4a472245649ae2e15a1e2f0164910bbcc803b96fe1ccf1ce',\n 'cacb81a374dff190fde801f1f56549434863befb352bf81adb1c0581f74fe5cc',\n 'd0d9bfb04af8b4e5f54a8e0acf655e71aa4f95da99b9908a4c93b00f69c8d48c',\n 'b302b39dca717d47ef42ee2a0744a6c12f1c930135f92169489ba2b8e13c385d',\n 'd8db4dc7e2d4898795ab5b6ad87d9cf95dd76e21c8df206c03f4585fe3e4fbcd',\n '0f13714a00d472a5f74e04dc6b700548162715afff24852710b5dc550772c3a6',\n 'c7bf1734a400b1712197eb3a946ebba248b805fdffddc842ca04bc79d752858a',\n 'b35cf57f07849e9882dccdd3480667aa7e9eca49781eef7ce87a05f8b1a02f27',\n '081fd2a8df74ab96e65c19f53d086b0116087afbbc804ac5036cb25e4dc3cafa',\n '94854ba57fe58659ce9440707d6f07ac0ce21f7d9cc1e4c2b50dc62f072cdd31',\n 'e4a8b374bcaebb3ef1df6391547fd73cccaf45dcd757d416b59d166499533181',\n '38b03bb9611866f762f594908e928b1b9910d23627c1cfaf44f743bbcfd05dbe',\n 'a01abab653b72d187c5e6ec5230d735ca2bafb77508368bbfd3e55ed52e8222f',\n '70d6dd2efc9e3145baa2f70fb954c2c879d7980ec793832d4eda7e1322ec811e',\n 'cff43f4cbb99302f072af63fd0659dfb10bf346770eb6ca61296302bfb169d7f',\n 'b68e492ff62244c879419c25ca537afe504fdf03784b6104b29bb709b46e9921',\n '495b8e87bf5a53f6e67096222b157094a6ab371480bc401874d510b4f7ed5d3b',\n 'fa7222e48c0c5f71ecdeeb86a3db14fa76f4f6b0b7f8dcab08d5ddd627d2f15a',\n '43146fc0604cec146f472f151e06811024a286169f98e721da0456434b529195',\n '33f7f5b80f3d8a2af7e27b7bb12f1583278f91664e80d55fae796046fb12c241',\n '65b5fd5638bd5b84398d416427973ba3ac8fb44c3ebfd43e21f71532cf2c8b44',\n 'e16cdca99ad1158713eeb6120a8942ac6775ccfcd101ed710214d6ee48ad1579',\n 'fc6eb1bcb57cf1f684d90f72b78993c5fc28ee83ccc74dcc2578cf870cbb14be',\n '14ea2be0068c8280ae4898538525ee5d5bf60a9e0affe0d7147d58a6ac84e96a',\n 'f1cc6c4313d7517fe0c8491febea3fc2b6c4c3543f4206c60b5d99882b070c8b',\n '1f34ca49bdcbcb0e500db65aed56bd442b205ab55ac3f3d4e753d8724438d9c2',\n '31ae22be8040dacc54dbf650302f036842e0e19df80cdd2fe17ce19966ec59ff',\n '2013db5a7c5e67e4b4ba16eef2ad17129e8557077ca1d2c9f193c7a04774fd4b',\n '6f9aa50e000208decd5c4b3cf1c9b171e4be7741cc96ac070efaf7ca88cd7691',\n '75512c3fee6bc9b5f9fbe2ea9c484b1b32443cb1f00609f8075bde5f35ba3292',\n '5dbaecfb9a93549c88a95bd7ae570d3cb234d5d1e372d9186a3ab3b7bd91a063',\n '508638950d97464dc5f4a9441212f7edf0aa7b20966ee13bbcee3a410f6d6400',\n '4148e4793e46bb348ed5b41391bee449e457c5c28bf3b749c0cc99220dfeb268',\n '8b6f07bb9384ca83a87beb0b261a8c989bf5de78071b3ae96988b98a8f69d753',\n '0265edb3aa8b483dcfe50db4a90ad8369a46fffbbc1623eabf653a8f7afbd0c5',\n 'd855ab509118fc9a2da4c2998884a9d338622d24f020c9eaee74783043c4e0c0',\n '52d976751777ea3ad74d40892469534668851d25d5f13ca99149083482107edb',\n '382825fdeecff18bb49137328741b0947bfe93c7899978d06bd760f6647e0f9e',\n '6cfcbe96e9f0047ba30b2e4f456c4ef0b573fd702586b57f7a7670bd16f3aec1',\n '662c8001246d2d94b38592b420535fd4d936c0334c8fd80959bd6b1aa1d1d10b',\n 'e43088e08bb2fb56a695bc991a978f6c388ae977b1c41ac388c58d63edf73811',\n '5cb196189b372f82329de4d932a4d7ae9c7de9b65b2b338e505a5b455c78a120',\n 'b2e35f41527f14309719d80412fb236f20dedee9819c9571bb7ff748dd213de4',\n 'f9bb75afc95d22b3fd4c77acd4f648769e207613520e4bb8f9d1d90f77c9bb12',\n '7defca374f9c8fd2090c6f1d742e777f5c13ebbe80150e18a876ac08c4399f41',\n '3159c5dcaad00867b64f60c043bd0b86db61f031b8a6b383a28d2855652777fb',\n '9d4fe91baaf92067017226da160b414d97ccaa855c1c8f206d97092e8947d0eb',\n 'f80a837462c06797bff2a0290285eff81333a3e4c951c3ca595fd34711dbb164',\n 'f69a41cd8c520363975994f68d33026c9e2ff74e6eeaa4c2bf833ba373a546fa',\n '9a76ba2022c7242d368c8e027aca9ec2f304e5f3ce4765368a4cf783d7e0b8c0',\n '63f5f990430a310a486dbdc748ac92506e9a56f2466f91dc32598d137c130e18',\n 'db9fff81445ae5726a5089d6be98a8361de2d442bbc3c80123514345f5e7366b',\n 'fffb3a94e00c84afa1431cf91b999a7c55b74dba7c0c0eec7a093a7025f5efb3',\n '1d2044e8cc993fd4cff420377c2d7a089baad64ad66ef72388efc4b14ce263e5',\n '095715a1c49eabe1e70ef0bec3f8b831feda4465c8bcbfa5cc1e512ec70435ad',\n 'fbad1d421cf80d3e0e4c6b6d3d60a2a6ec8bed4ee19e07cd15d963fa74352420',\n '57d8668795b4862e9ce698271afc9605daa337c4892f5287f56f4c21360bb1d7',\n '82d404678e75b486dc97d3a0b674b0892634c84c0166314694aa1faedf556d68',\n '586edbddd36b34f0d6991f3afa42fa7703e1b2ef1223109ccd7605b5358f69b9',\n 'acdf0d541f4bf7072cf6cb3727fe00319718d2e5bd9de9fb63c8a308747a8f17',\n '9d0427f749b0d9299d1485b26e17b84e9c8cf015584d9b311ca5e6ef2c01738c',\n 'ae023a1edfbb379dbe6bd99d5225e8f1721c3702b2d4310bb1e2d3e0407cdb68',\n '2904e39ecdb51fc23c7ecc20111c3b785a63e808c3766af5465e6cf134265013',\n '761e8a53cf07ef7eecd48d414f23e8cb363cc92657027f70178167ebc198ed6f',\n '45e536aa19d0e80100031412e12b52ab7365307a2560f2aa4be3e92cb9349ad3',\n '801c693643124ae316e644019a5d6c72063db509383c7e79bdfc219866cc5b32',\n '73a9e3580c04319f2c44faa56f61f2497d4154953e14ab410ce5f2903abc9781',\n 'afb0df588048b7a221bb0cef4a2e4afdf5999b19938e22e729b786b591fc9744',\n 'e1ca54eb0b4fd5628622025e876baa91f5ca77c98193a65f9a84f578205e554c',\n 'db8d9c4b63e33f27e3c96ee4329348f728685055ab6c03ac256d1606cc0b88b6',\n '318e67858641c3e2fa36e1ae49444ed321640199a08af6fbf2d0f3d1b1de8e36',\n 'a817665fe4a394d1ed728e44e5935021f06db5f06f0eecef6c38130bab6e09b9',\n 'c8253c92156492854e2f8829974001539b4745185d3d9d0ea6092950e23825c7',\n 'b6b55e01b2aa2a65de15b8a435512bfb2d28b810ce056308884e17428c6b208c',\n 'f4475b4994af9930dc37cce9026e0615495b7d27d6a5f534496e3bbf98b1185e',\n '8267d9d8a07aadb33a71451bcbaccca1b13f9e866b8057c573fa985af4cc795d',\n 'a43d64989146002d23d30d772addba7e0179bae6b51669c3fcee2ce01a8bd94a',\n '36f59d8151fab5a4b13b0a71c5a6404c0048a848988be101ec9ec7692f803c66',\n '0a8ad3de7ebe960bfbd1d16e6040fb162b679caacd7f064df38ae5bbe60c22ae',\n '666cdf4f1b123e11fafe99ebe40daecf7238c89718f2150d4dac6a873b366ba8',\n 'c99d7703da46cda5370456ab28437ea8e9295b015195f4b3a89310053c95c5f9',\n ...}"
     },
     "execution_count": 23,
     "metadata": {},
     "output_type": "execute_result"
    }
   ],
   "source": [
    "set1.intersection(set2)"
   ],
   "metadata": {
    "collapsed": false,
    "pycharm": {
     "name": "#%%\n"
    }
   }
  },
  {
   "cell_type": "code",
   "execution_count": 24,
   "outputs": [],
   "source": [
    "configs = [config.PWDB_ELASTIC_SEARCH_INDEX_NAME,\n",
    "           config.EU_CELLAR_ELASTIC_SEARCH_INDEX_NAME,\n",
    "           config.EU_TIMELINE_ELASTIC_SEARCH_INDEX_NAME,\n",
    "           config.IRELAND_TIMELINE_ELASTIC_SEARCH_INDEX_NAME\n",
    "           ]"
   ],
   "metadata": {
    "collapsed": false,
    "pycharm": {
     "name": "#%%\n"
    }
   }
  },
  {
   "cell_type": "code",
   "execution_count": 25,
   "outputs": [
    {
     "name": "stderr",
     "output_type": "stream",
     "text": [
      "100% (1288 of 1288) |####################| Elapsed Time: 0:00:00 Time:  0:00:00\n",
      "100% (2818 of 2818) |####################| Elapsed Time: 0:00:00 Time:  0:00:00\n",
      "100% (171 of 171) |######################| Elapsed Time: 0:00:00 Time:  0:00:00\n",
      "100% (1859 of 1859) |####################| Elapsed Time: 0:00:00 Time:  0:00:00\n"
     ]
    }
   ],
   "source": [
    "df_list = [es_store.get_dataframe(index_name=index) for index in configs]"
   ],
   "metadata": {
    "collapsed": false,
    "pycharm": {
     "name": "#%%\n"
    }
   }
  },
  {
   "cell_type": "code",
   "execution_count": 28,
   "outputs": [
    {
     "name": "stdout",
     "output_type": "stream",
     "text": [
      "Index(['identifier', 'title', 'title_national_language', 'country',\n",
      "       'start_date', 'end_date', 'date_type', 'type_of_measure',\n",
      "       'status_of_regulation', 'category', 'subcategory', 'creation_date',\n",
      "       'background_info_description', 'content_of_measure_description',\n",
      "       'use_of_measure_description', 'actors', 'target_groups', 'funding',\n",
      "       'involvement_of_social_partners_description',\n",
      "       'social_partner_involvement_form', 'social_partner_role',\n",
      "       'is_sector_specific', 'private_or_public_sector',\n",
      "       'is_occupation_specific', 'sectors', 'occupations', 'sources'],\n",
      "      dtype='object')\n",
      "Index(['work', 'title', 'cdm_types', 'cdm_type_labels', 'resource_types',\n",
      "       'resource_type_labels', 'eurovoc_concepts', 'eurovoc_concept_labels',\n",
      "       'subject_matters', 'subject_matter_labels', 'directory_codes',\n",
      "       'directory_codes_labels', 'celex_numbers', 'legal_elis', 'id_documents',\n",
      "       'same_as_uris', 'authors', 'author_labels', 'full_ojs', 'oj_sectors',\n",
      "       'internal_comments', 'is_in_force', 'dates_document', 'dates_created',\n",
      "       'legal_dates_entry_into_force', 'legal_dates_signature', 'manifs_pdf',\n",
      "       'manifs_html', 'pdfs_to_download', 'htmls_to_download', 'dossiers',\n",
      "       'related_works', 'work_sequences', 'eu_cellar_core',\n",
      "       'eu_cellar_extended', 'metadata', 'content_path', 'content',\n",
      "       'language'],\n",
      "      dtype='object')\n",
      "Index(['month_name', 'date', 'title', 'abstract', 'presscorner_links',\n",
      "       'all_links', 'detail_link', 'detail_metadata', 'detail_content',\n",
      "       'detail_title', 'detail_pdf_link', 'press_contacts', 'topics',\n",
      "       'for_more_information_links'],\n",
      "      dtype='object')\n",
      "Index(['keyword', 'page_type', 'page_link', 'department_data',\n",
      "       'published_date', 'updated_date', 'title', 'content', 'content_links',\n",
      "       'campaigns_links', 'part_of_links', 'documents'],\n",
      "      dtype='object')\n"
     ]
    }
   ],
   "source": [
    "for df in df_list:\n",
    "    print(df.columns)"
   ],
   "metadata": {
    "collapsed": false,
    "pycharm": {
     "name": "#%%\n"
    }
   }
  },
  {
   "cell_type": "code",
   "execution_count": 27,
   "outputs": [
    {
     "data": {
      "text/plain": "_id\nadc5c75937bc7f7198f534d08b85bd50c9521bfd3f319a090932b5d0bae54de0    10/20/2020\n2372d71eb9ad6e6a70982e02bbe802db004ed49d91b2264c0a2e8e41571002cc    05/06/2020\n8735e268191e9e5cbd3d2a44ca53d297e31746b5f1e24b941db6225a25848353    08/25/2020\n18bcd22116c46919e03a3345f793c3859855227ac942e69dd13cbfcd588e1044    03/01/2020\nb94d8aa95fbdeb1bb832b01fbe5d6e9bf9fc36fceb14f7ba370a963f472fe35b    01/01/2021\n                                                                       ...    \ncb014a456b14c3621dd318a12e611f70c2a9636be9fe181072bd4bf5917a40fa    03/18/2020\nd233b17dc2b98f14269c2b22be78d93ec5ccf2a0013b86f09175c69353c5800b    05/20/2020\n77d7e3c52aaf78bdfb1a1667641db1293bbff862440c547fc3f6e8ab4fbd0d4e    03/17/2020\nbe8e21b382b63dd838087d7864e4d49a4807d9cc5d71aaa82577383ece92c581    07/01/2020\nc434820f8f8c0b1447ba2f6f62aed177b9597532d7fcd156c6f556532dd7d11e    09/03/2020\nName: start_date, Length: 1288, dtype: object"
     },
     "execution_count": 27,
     "metadata": {},
     "output_type": "execute_result"
    }
   ],
   "source": [
    "df_list[0].start_date"
   ],
   "metadata": {
    "collapsed": false,
    "pycharm": {
     "name": "#%%\n"
    }
   }
  },
  {
   "cell_type": "code",
   "execution_count": 17,
   "outputs": [],
   "source": [
    "import time\n",
    "from datetime import datetime"
   ],
   "metadata": {
    "collapsed": false,
    "pycharm": {
     "name": "#%%\n"
    }
   }
  },
  {
   "cell_type": "code",
   "execution_count": 21,
   "outputs": [
    {
     "data": {
      "text/plain": "_id\n003ea2a9313db86a3e0b9cd272d4dd861ed92cfab3a5d120725211cc113b1f93    17 February 2021\n004a77d6db5f3be729b4b3d8b7eb0ccb564defb037a0edcba96eb5c164d87a37       22 April 2021\n00ab798bb7ed96ce3b93b9a3488522a58853bcaaf1bfa1bcf05fd8ffd8af0ce1    18 December 2020\n00abfb8547a6cfc95a4591e489431fd7803cbb8f51db632db1e462096e914c75        5 March 2021\n01361189adf68b9a6d91beffd9f0b8259d5764ba865aab9dae3982545deeeb8f    16 November 2020\n                                                                          ...       \nfddf8d1e3ce04ef12941ac7a83a2e85806c84d83496f41b0cc6d98bb0d8910e8     30 January 2021\nfde72094e795e2f9a055d1c3fc581985e028ddcaeb436c1d5056f109c6e853d0       15 March 2021\nfefa88e8bcb8f19c1794526db7e241a1201a7aa6f05fedd25c09cee4b35c46f0         18 May 2020\nff474a2f55ba0a59240e4e986870ba12be9f2238bec4f4f8ca2c9c712172ed43     8 February 2021\nff4ea2ef933287c4125d898245e878ae9fcb1b356b3c60de288dd97020bdd3a5     23 January 2021\nName: updated_date, Length: 846, dtype: object"
     },
     "execution_count": 21,
     "metadata": {},
     "output_type": "execute_result"
    }
   ],
   "source": [
    "df.updated_date"
   ],
   "metadata": {
    "collapsed": false,
    "pycharm": {
     "name": "#%%\n"
    }
   }
  },
  {
   "cell_type": "code",
   "execution_count": 22,
   "outputs": [
    {
     "data": {
      "text/plain": "_id\nbda5b336f5422961710173eb8d3410f9a7de84730384e5a0a9e4bca7944d8ef2   2020-02-06\n3081ea5944895377e13ba7099afd23af5e5e6758353487c34b5b66a7208eb320   2020-02-11\n07e10eabe926db01330fe75c8e24204d2b2b0f7b452b22a9819bd942f589068a   2020-02-11\nf16d3a88f070b5bffcd6468060b7cd65aec942fdb7bed206554a35e7397f59f3   2020-02-18\n48d020cbb50ca48a690b248341563ef320baa2dc0c733c8f46d4f9e99e0a0109   2020-02-26\n                                                                      ...    \n2ef0d1006a3ae21968f4805e4427a93f33dea7bd576dfa2b1d51c721dbbce336   2021-07-30\n840f37b71ae8997f9708ee15e84424323edb8133fd13df26fa16b5fdd444c15a   2021-08-03\n7b90e6440a9e2bd26a05f6f56f49dd7c80814e43480854be1debe461c63bdbb7   2021-08-04\nef6430aadbb96ea6654b296f6ba51a6d450a398bc6e5e7d9262f60a4fc3a6a2a   2021-08-05\nf6adde50065d7eb9bbc6ee2585c90c5e90810aba4d966ceb3282bf0961aef0a3   2021-08-10\nName: updated_date, Length: 846, dtype: datetime64[ns]"
     },
     "execution_count": 22,
     "metadata": {},
     "output_type": "execute_result"
    }
   ],
   "source": [
    "df.updated_date.apply(lambda x: datetime.strptime(x, '%d %B %Y')).sort_values()"
   ],
   "metadata": {
    "collapsed": false,
    "pycharm": {
     "name": "#%%\n"
    }
   }
  },
  {
   "cell_type": "code",
   "execution_count": 10,
   "outputs": [
    {
     "name": "stderr",
     "output_type": "stream",
     "text": [
      "100% (2490 of 2490) |####################| Elapsed Time: 0:00:00 Time:  0:00:00\n"
     ]
    }
   ],
   "source": [
    "doc_emb = es_store.get_dataframe(index_name=DOCUMENT_EMBEDDINGS_FEATURE_STORE_NAME)"
   ],
   "metadata": {
    "collapsed": false,
    "pycharm": {
     "name": "#%%\n"
    }
   }
  },
  {
   "cell_type": "code",
   "execution_count": 16,
   "outputs": [
    {
     "data": {
      "text/plain": "Index(['text', 'source', 'segment_type', 'segment_id', 'prepare_method',\n       'textual_columns', 'embedding', 'embedding_method'],\n      dtype='object')"
     },
     "execution_count": 16,
     "metadata": {},
     "output_type": "execute_result"
    }
   ],
   "source": [
    "doc_emb.columns"
   ],
   "metadata": {
    "collapsed": false,
    "pycharm": {
     "name": "#%%\n"
    }
   }
  }
 ],
 "metadata": {
  "kernelspec": {
   "display_name": "Python 3",
   "language": "python",
   "name": "python3"
  },
  "language_info": {
   "codemirror_mode": {
    "name": "ipython",
    "version": 2
   },
   "file_extension": ".py",
   "mimetype": "text/x-python",
   "name": "python",
   "nbconvert_exporter": "python",
   "pygments_lexer": "ipython2",
   "version": "2.7.6"
  }
 },
 "nbformat": 4,
 "nbformat_minor": 0
}