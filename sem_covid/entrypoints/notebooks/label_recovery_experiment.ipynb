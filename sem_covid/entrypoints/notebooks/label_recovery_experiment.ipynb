{
 "cells": [
  {
   "cell_type": "code",
   "execution_count": 9,
   "metadata": {
    "collapsed": true
   },
   "outputs": [],
   "source": [
    "import sys\n",
    "\n",
    "\n",
    "\n",
    "sys.path.append(\"/home/jovyan/work/sem-covid/\")\n",
    "sys.path = list(set(sys.path))\n",
    "import os\n",
    "\n",
    "os.getcwd()\n",
    "os.chdir('/home/jovyan/work/sem-covid/')\n",
    "from sklearn import preprocessing\n",
    "from sem_covid.services.store_registry import StoreRegistry\n",
    "from pycaret.classification import *\n",
    "import mlflow\n",
    "from sem_covid import config\n"
   ]
  },
  {
   "cell_type": "code",
   "execution_count": 3,
   "outputs": [],
   "source": [
    "SIMPLE_CLASS_COLUMNS = ['category', 'subcategory', 'type_of_measure', 'target_groups',\n",
    "                        'actors']"
   ],
   "metadata": {
    "collapsed": false,
    "pycharm": {
     "name": "#%%\n"
    }
   }
  },
  {
   "cell_type": "code",
   "execution_count": 2,
   "outputs": [
    {
     "name": "stderr",
     "output_type": "stream",
     "text": [
      "100% (1288 of 1288) |####################| Elapsed Time: 0:00:00 Time:  0:00:00\n"
     ]
    }
   ],
   "source": [
    "es_store = StoreRegistry.es_index_store()\n",
    "df = es_store.get_dataframe(config.PWDB_ELASTIC_SEARCH_INDEX_NAME)"
   ],
   "metadata": {
    "collapsed": false,
    "pycharm": {
     "name": "#%%\n"
    }
   }
  },
  {
   "cell_type": "code",
   "execution_count": 4,
   "outputs": [],
   "source": [
    "pwdb_dataframe = df\n",
    "pwdb_dataframe['target_groups'] = pwdb_dataframe['target_groups'].apply(lambda x: \"|\".join(x))\n",
    "pwdb_dataframe['actors'] = pwdb_dataframe['actors'].apply(lambda x: \"|\".join(x))"
   ],
   "metadata": {
    "collapsed": false,
    "pycharm": {
     "name": "#%%\n"
    }
   }
  },
  {
   "cell_type": "code",
   "execution_count": 36,
   "outputs": [],
   "source": [
    "pwdb_dataframe['actors_label'] = pwdb_dataframe['actors']"
   ],
   "metadata": {
    "collapsed": false,
    "pycharm": {
     "name": "#%%\n"
    }
   }
  },
  {
   "cell_type": "code",
   "execution_count": 37,
   "outputs": [
    {
     "data": {
      "text/plain": "                                                                                               actors  \\\n_id                                                                                                     \nadc5c75937bc7f7198f534d08b85bd50c9521bfd3f319a0...  National government|Trade unions|Employers' or...   \n2372d71eb9ad6e6a70982e02bbe802db004ed49d91b2264...               National government|Social insurance   \n8735e268191e9e5cbd3d2a44ca53d297e31746b5f1e24b9...  National government|Local / regional governmen...   \n18bcd22116c46919e03a3345f793c3859855227ac942e69...            National government|Company / Companies   \nb94d8aa95fbdeb1bb832b01fbe5d6e9bf9fc36fceb14f7b...                                National government   \n...                                                                                               ...   \ncb014a456b14c3621dd318a12e611f70c2a9636be9fe181...  National government|Public employment service|...   \nd233b17dc2b98f14269c2b22be78d93ec5ccf2a0013b86f...        National government|Social partners jointly   \n77d7e3c52aaf78bdfb1a1667641db1293bbff862440c547...                                National government   \nbe8e21b382b63dd838087d7864e4d49a4807d9cc5d71aaa...                                National government   \nc434820f8f8c0b1447ba2f6f62aed177b9597532d7fcd15...                            Social partners jointly   \n\n                                                                                         actors_label  \n_id                                                                                                    \nadc5c75937bc7f7198f534d08b85bd50c9521bfd3f319a0...  National government|Trade unions|Employers' or...  \n2372d71eb9ad6e6a70982e02bbe802db004ed49d91b2264...               National government|Social insurance  \n8735e268191e9e5cbd3d2a44ca53d297e31746b5f1e24b9...  National government|Local / regional governmen...  \n18bcd22116c46919e03a3345f793c3859855227ac942e69...            National government|Company / Companies  \nb94d8aa95fbdeb1bb832b01fbe5d6e9bf9fc36fceb14f7b...                                National government  \n...                                                                                               ...  \ncb014a456b14c3621dd318a12e611f70c2a9636be9fe181...  National government|Public employment service|...  \nd233b17dc2b98f14269c2b22be78d93ec5ccf2a0013b86f...        National government|Social partners jointly  \n77d7e3c52aaf78bdfb1a1667641db1293bbff862440c547...                                National government  \nbe8e21b382b63dd838087d7864e4d49a4807d9cc5d71aaa...                                National government  \nc434820f8f8c0b1447ba2f6f62aed177b9597532d7fcd15...                            Social partners jointly  \n\n[1288 rows x 2 columns]",
      "text/html": "<div>\n<style scoped>\n    .dataframe tbody tr th:only-of-type {\n        vertical-align: middle;\n    }\n\n    .dataframe tbody tr th {\n        vertical-align: top;\n    }\n\n    .dataframe thead th {\n        text-align: right;\n    }\n</style>\n<table border=\"1\" class=\"dataframe\">\n  <thead>\n    <tr style=\"text-align: right;\">\n      <th></th>\n      <th>actors</th>\n      <th>actors_label</th>\n    </tr>\n    <tr>\n      <th>_id</th>\n      <th></th>\n      <th></th>\n    </tr>\n  </thead>\n  <tbody>\n    <tr>\n      <th>adc5c75937bc7f7198f534d08b85bd50c9521bfd3f319a090932b5d0bae54de0</th>\n      <td>National government|Trade unions|Employers' or...</td>\n      <td>National government|Trade unions|Employers' or...</td>\n    </tr>\n    <tr>\n      <th>2372d71eb9ad6e6a70982e02bbe802db004ed49d91b2264c0a2e8e41571002cc</th>\n      <td>National government|Social insurance</td>\n      <td>National government|Social insurance</td>\n    </tr>\n    <tr>\n      <th>8735e268191e9e5cbd3d2a44ca53d297e31746b5f1e24b941db6225a25848353</th>\n      <td>National government|Local / regional governmen...</td>\n      <td>National government|Local / regional governmen...</td>\n    </tr>\n    <tr>\n      <th>18bcd22116c46919e03a3345f793c3859855227ac942e69dd13cbfcd588e1044</th>\n      <td>National government|Company / Companies</td>\n      <td>National government|Company / Companies</td>\n    </tr>\n    <tr>\n      <th>b94d8aa95fbdeb1bb832b01fbe5d6e9bf9fc36fceb14f7ba370a963f472fe35b</th>\n      <td>National government</td>\n      <td>National government</td>\n    </tr>\n    <tr>\n      <th>...</th>\n      <td>...</td>\n      <td>...</td>\n    </tr>\n    <tr>\n      <th>cb014a456b14c3621dd318a12e611f70c2a9636be9fe181072bd4bf5917a40fa</th>\n      <td>National government|Public employment service|...</td>\n      <td>National government|Public employment service|...</td>\n    </tr>\n    <tr>\n      <th>d233b17dc2b98f14269c2b22be78d93ec5ccf2a0013b86f09175c69353c5800b</th>\n      <td>National government|Social partners jointly</td>\n      <td>National government|Social partners jointly</td>\n    </tr>\n    <tr>\n      <th>77d7e3c52aaf78bdfb1a1667641db1293bbff862440c547fc3f6e8ab4fbd0d4e</th>\n      <td>National government</td>\n      <td>National government</td>\n    </tr>\n    <tr>\n      <th>be8e21b382b63dd838087d7864e4d49a4807d9cc5d71aaa82577383ece92c581</th>\n      <td>National government</td>\n      <td>National government</td>\n    </tr>\n    <tr>\n      <th>c434820f8f8c0b1447ba2f6f62aed177b9597532d7fcd156c6f556532dd7d11e</th>\n      <td>Social partners jointly</td>\n      <td>Social partners jointly</td>\n    </tr>\n  </tbody>\n</table>\n<p>1288 rows × 2 columns</p>\n</div>"
     },
     "execution_count": 37,
     "metadata": {},
     "output_type": "execute_result"
    }
   ],
   "source": [
    "pwdb_dataframe[['actors','actors_label']]"
   ],
   "metadata": {
    "collapsed": false,
    "pycharm": {
     "name": "#%%\n"
    }
   }
  },
  {
   "cell_type": "code",
   "execution_count": 38,
   "outputs": [
    {
     "data": {
      "text/plain": "LabelEncoder()"
     },
     "execution_count": 38,
     "metadata": {},
     "output_type": "execute_result"
    }
   ],
   "source": [
    "le = preprocessing.LabelEncoder()\n",
    "le.fit(pwdb_dataframe['actors'])"
   ],
   "metadata": {
    "collapsed": false,
    "pycharm": {
     "name": "#%%\n"
    }
   }
  },
  {
   "cell_type": "code",
   "execution_count": 40,
   "outputs": [],
   "source": [
    "pwdb_dataframe['actors'] = le.transform(pwdb_dataframe['actors'])"
   ],
   "metadata": {
    "collapsed": false,
    "pycharm": {
     "name": "#%%\n"
    }
   }
  },
  {
   "cell_type": "code",
   "execution_count": 43,
   "outputs": [],
   "source": [
    "pwdb_dataframe['actors']= le.inverse_transform(pwdb_dataframe['actors'])"
   ],
   "metadata": {
    "collapsed": false,
    "pycharm": {
     "name": "#%%\n"
    }
   }
  },
  {
   "cell_type": "code",
   "execution_count": 44,
   "outputs": [
    {
     "data": {
      "text/plain": "_id\nadc5c75937bc7f7198f534d08b85bd50c9521bfd3f319a090932b5d0bae54de0    National government|Trade unions|Employers' or...\n2372d71eb9ad6e6a70982e02bbe802db004ed49d91b2264c0a2e8e41571002cc                 National government|Social insurance\n8735e268191e9e5cbd3d2a44ca53d297e31746b5f1e24b941db6225a25848353    National government|Local / regional governmen...\n18bcd22116c46919e03a3345f793c3859855227ac942e69dd13cbfcd588e1044              National government|Company / Companies\nb94d8aa95fbdeb1bb832b01fbe5d6e9bf9fc36fceb14f7ba370a963f472fe35b                                  National government\n                                                                                          ...                        \ncb014a456b14c3621dd318a12e611f70c2a9636be9fe181072bd4bf5917a40fa    National government|Public employment service|...\nd233b17dc2b98f14269c2b22be78d93ec5ccf2a0013b86f09175c69353c5800b          National government|Social partners jointly\n77d7e3c52aaf78bdfb1a1667641db1293bbff862440c547fc3f6e8ab4fbd0d4e                                  National government\nbe8e21b382b63dd838087d7864e4d49a4807d9cc5d71aaa82577383ece92c581                                  National government\nc434820f8f8c0b1447ba2f6f62aed177b9597532d7fcd156c6f556532dd7d11e                              Social partners jointly\nName: actors, Length: 1288, dtype: object"
     },
     "execution_count": 44,
     "metadata": {},
     "output_type": "execute_result"
    }
   ],
   "source": [
    "pwdb_dataframe['actors']"
   ],
   "metadata": {
    "collapsed": false,
    "pycharm": {
     "name": "#%%\n"
    }
   }
  },
  {
   "cell_type": "code",
   "execution_count": 20,
   "outputs": [
    {
     "data": {
      "text/plain": "array(['Company / Companies',\n       'Company / Companies|Local / regional government',\n       'Company / Companies|Local / regional government|Public employment service',\n       'Company / Companies|Other social actors (e.g. NGOs)',\n       'Company / Companies|Other social actors (e.g. NGOs)|Local / regional government',\n       'Company / Companies|Other social actors (e.g. NGOs)|Public support service providers',\n       'Company / Companies|Public employment service',\n       'Company / Companies|Public support service providers',\n       'Company / Companies|Social insurance', 'EU (Council, EC, EP)',\n       'EU level social partners', \"Employers' organisations\",\n       \"Employers' organisations|Company / Companies\",\n       \"Employers' organisations|Company / Companies|Local / regional government\",\n       \"Employers' organisations|Company / Companies|Other social actors (e.g. NGOs)\",\n       \"Employers' organisations|Company / Companies|Social insurance\",\n       \"Employers' organisations|Local / regional government\",\n       \"Employers' organisations|Local / regional government|Public support service providers\",\n       'Local / regional government',\n       'Local / regional government|Public employment service',\n       'National government', 'National government|Company / Companies',\n       'National government|Company / Companies|EU (Council, EC, EP)',\n       'National government|Company / Companies|Local / regional government',\n       'National government|Company / Companies|Local / regional government|EU (Council, EC, EP)',\n       'National government|Company / Companies|Local / regional government|Public employment service',\n       'National government|Company / Companies|Other social actors (e.g. NGOs)',\n       'National government|Company / Companies|Other social actors (e.g. NGOs)|Local / regional government',\n       'National government|Company / Companies|Other social actors (e.g. NGOs)|Local / regional government|Public employment service|Social insurance|Public support service providers',\n       'National government|Company / Companies|Public employment service',\n       'National government|Company / Companies|Public employment service|Social insurance',\n       'National government|Company / Companies|Public support service providers',\n       'National government|Company / Companies|Social insurance',\n       'National government|EU (Council, EC, EP)',\n       'National government|EU level social partners|EU (Council, EC, EP)',\n       \"National government|Employers' organisations\",\n       \"National government|Employers' organisations|Company / Companies\",\n       \"National government|Employers' organisations|Company / Companies|Other social actors (e.g. NGOs)|Local / regional government\",\n       \"National government|Employers' organisations|Company / Companies|Public support service providers\",\n       \"National government|Employers' organisations|Local / regional government\",\n       \"National government|Employers' organisations|Other social actors (e.g. NGOs)\",\n       \"National government|Employers' organisations|Public support service providers\",\n       \"National government|Employers' organisations|Social insurance\",\n       'National government|Local / regional government',\n       'National government|Local / regional government|EU (Council, EC, EP)',\n       'National government|Local / regional government|Public employment service',\n       'National government|Local / regional government|Public employment service|Social insurance|Public support service providers',\n       'National government|Local / regional government|Public support service providers',\n       'National government|Local / regional government|Social insurance',\n       'National government|Other social actors (e.g. NGOs)',\n       'National government|Other social actors (e.g. NGOs)|Local / regional government',\n       'National government|Other social actors (e.g. NGOs)|Local / regional government|Social insurance|Public support service providers',\n       'National government|Other social actors (e.g. NGOs)|Public employment service|Public support service providers',\n       'National government|Public employment service',\n       'National government|Public employment service|Public support service providers',\n       'National government|Public employment service|Social insurance',\n       'National government|Public support service providers',\n       'National government|Social insurance',\n       'National government|Social insurance|Public support service providers',\n       'National government|Social partners jointly',\n       'National government|Social partners jointly|Company / Companies',\n       'National government|Social partners jointly|Company / Companies|Public employment service',\n       'National government|Social partners jointly|Company / Companies|Public support service providers',\n       'National government|Social partners jointly|Company / Companies|Social insurance',\n       'National government|Social partners jointly|EU level social partners',\n       \"National government|Social partners jointly|Employers' organisations|Company / Companies|Public support service providers\",\n       'National government|Social partners jointly|Local / regional government',\n       'National government|Social partners jointly|Local / regional government|Public employment service|Social insurance',\n       'National government|Social partners jointly|Other social actors (e.g. NGOs)|Local / regional government',\n       'National government|Social partners jointly|Public employment service',\n       'National government|Social partners jointly|Public employment service|EU (Council, EC, EP)',\n       'National government|Social partners jointly|Public employment service|Social insurance',\n       'National government|Social partners jointly|Public support service providers',\n       'National government|Social partners jointly|Social insurance',\n       'National government|Social partners jointly|Trade unions',\n       'National government|Social partners jointly|Trade unions|Company / Companies',\n       'National government|Social partners jointly|Trade unions|Company / Companies|Social insurance',\n       \"National government|Social partners jointly|Trade unions|Employers' organisations\",\n       \"National government|Social partners jointly|Trade unions|Employers' organisations|Company / Companies\",\n       \"National government|Social partners jointly|Trade unions|Employers' organisations|Company / Companies|Local / regional government\",\n       \"National government|Social partners jointly|Trade unions|Employers' organisations|Company / Companies|Social insurance\",\n       \"National government|Social partners jointly|Trade unions|Employers' organisations|Public employment service|Public support service providers\",\n       \"National government|Social partners jointly|Trade unions|Employers' organisations|Social insurance\",\n       'National government|Social partners jointly|Trade unions|Public employment service',\n       'National government|Trade unions',\n       'National government|Trade unions|Company / Companies',\n       'National government|Trade unions|Company / Companies|Public employment service',\n       \"National government|Trade unions|Employers' organisations\",\n       \"National government|Trade unions|Employers' organisations|Company / Companies\",\n       \"National government|Trade unions|Employers' organisations|Company / Companies|EU (Council, EC, EP)\",\n       \"National government|Trade unions|Employers' organisations|Company / Companies|Other social actors (e.g. NGOs)|EU (Council, EC, EP)\",\n       \"National government|Trade unions|Employers' organisations|Company / Companies|Other social actors (e.g. NGOs)|Public employment service\",\n       \"National government|Trade unions|Employers' organisations|Company / Companies|Public employment service\",\n       \"National government|Trade unions|Employers' organisations|Company / Companies|Public support service providers\",\n       \"National government|Trade unions|Employers' organisations|Company / Companies|Social insurance\",\n       \"National government|Trade unions|Employers' organisations|Local / regional government|Public employment service|Public support service providers\",\n       \"National government|Trade unions|Employers' organisations|Other social actors (e.g. NGOs)|Local / regional government|Public employment service\",\n       \"National government|Trade unions|Employers' organisations|Other social actors (e.g. NGOs)|Local / regional government|Public support service providers\",\n       \"National government|Trade unions|Employers' organisations|Other social actors (e.g. NGOs)|Public employment service\",\n       \"National government|Trade unions|Employers' organisations|Public employment service\",\n       \"National government|Trade unions|Employers' organisations|Public employment service|Social insurance\",\n       \"National government|Trade unions|Employers' organisations|Public support service providers\",\n       \"National government|Trade unions|Employers' organisations|Social insurance\",\n       'National government|Trade unions|Local / regional government|Public employment service',\n       'National government|Trade unions|Other social actors (e.g. NGOs)',\n       'National government|Trade unions|Social insurance',\n       'Other social actors (e.g. NGOs)',\n       'Other social actors (e.g. NGOs)|Local / regional government|Public employment service',\n       'Other social actors (e.g. NGOs)|Public employment service',\n       'Public employment service', 'Public support service providers',\n       'Social insurance', 'Social partners jointly',\n       'Social partners jointly|Company / Companies',\n       'Social partners jointly|Company / Companies|Other social actors (e.g. NGOs)',\n       'Social partners jointly|Company / Companies|Public support service providers',\n       'Social partners jointly|Other social actors (e.g. NGOs)',\n       'Social partners jointly|Social insurance',\n       'Social partners jointly|Trade unions|Company / Companies',\n       \"Social partners jointly|Trade unions|Employers' organisations\",\n       \"Social partners jointly|Trade unions|Employers' organisations|Company / Companies\",\n       \"Social partners jointly|Trade unions|Employers' organisations|Local / regional government\",\n       'Trade unions', 'Trade unions|Company / Companies',\n       'Trade unions|Company / Companies|Social insurance',\n       \"Trade unions|Employers' organisations\",\n       \"Trade unions|Employers' organisations|Company / Companies\",\n       \"Trade unions|Employers' organisations|Company / Companies|Public employment service\",\n       \"Trade unions|Employers' organisations|Local / regional government\",\n       \"Trade unions|Employers' organisations|Other social actors (e.g. NGOs)\",\n       'Trade unions|Local / regional government|Public support service providers',\n       'Trade unions|Other social actors (e.g. NGOs)'], dtype=object)"
     },
     "execution_count": 20,
     "metadata": {},
     "output_type": "execute_result"
    }
   ],
   "source": [
    "le.classes_"
   ],
   "metadata": {
    "collapsed": false,
    "pycharm": {
     "name": "#%%\n"
    }
   }
  },
  {
   "cell_type": "code",
   "execution_count": 18,
   "outputs": [],
   "source": [
    "tmp_classes = pd.DataFrame(le.classes_)"
   ],
   "metadata": {
    "collapsed": false,
    "pycharm": {
     "name": "#%%\n"
    }
   }
  },
  {
   "cell_type": "code",
   "execution_count": 30,
   "outputs": [],
   "source": [
    "tmp_classes[0].values\n",
    "tmp_transformed = pd.DataFrame(le.transform(tmp_classes[0].values))"
   ],
   "metadata": {
    "collapsed": false,
    "pycharm": {
     "name": "#%%\n"
    }
   }
  },
  {
   "cell_type": "code",
   "execution_count": 33,
   "outputs": [],
   "source": [
    "tmp_transformed[1] = tmp_transformed[0].apply(lambda x: tmp_classes[0].values[x])"
   ],
   "metadata": {
    "collapsed": false,
    "pycharm": {
     "name": "#%%\n"
    }
   }
  },
  {
   "cell_type": "code",
   "execution_count": 34,
   "outputs": [
    {
     "data": {
      "text/plain": "       0                                                  1\n0      0                                Company / Companies\n1      1    Company / Companies|Local / regional government\n2      2  Company / Companies|Local / regional governmen...\n3      3  Company / Companies|Other social actors (e.g. ...\n4      4  Company / Companies|Other social actors (e.g. ...\n5      5  Company / Companies|Other social actors (e.g. ...\n6      6      Company / Companies|Public employment service\n7      7  Company / Companies|Public support service pro...\n8      8               Company / Companies|Social insurance\n9      9                               EU (Council, EC, EP)\n10    10                           EU level social partners\n11    11                           Employers' organisations\n12    12       Employers' organisations|Company / Companies\n13    13  Employers' organisations|Company / Companies|L...\n14    14  Employers' organisations|Company / Companies|O...\n15    15  Employers' organisations|Company / Companies|S...\n16    16  Employers' organisations|Local / regional gove...\n17    17  Employers' organisations|Local / regional gove...\n18    18                        Local / regional government\n19    19  Local / regional government|Public employment ...\n20    20                                National government\n21    21            National government|Company / Companies\n22    22  National government|Company / Companies|EU (Co...\n23    23  National government|Company / Companies|Local ...\n24    24  National government|Company / Companies|Local ...\n25    25  National government|Company / Companies|Local ...\n26    26  National government|Company / Companies|Other ...\n27    27  National government|Company / Companies|Other ...\n28    28  National government|Company / Companies|Other ...\n29    29  National government|Company / Companies|Public...\n30    30  National government|Company / Companies|Public...\n31    31  National government|Company / Companies|Public...\n32    32  National government|Company / Companies|Social...\n33    33           National government|EU (Council, EC, EP)\n34    34  National government|EU level social partners|E...\n35    35       National government|Employers' organisations\n36    36  National government|Employers' organisations|C...\n37    37  National government|Employers' organisations|C...\n38    38  National government|Employers' organisations|C...\n39    39  National government|Employers' organisations|L...\n40    40  National government|Employers' organisations|O...\n41    41  National government|Employers' organisations|P...\n42    42  National government|Employers' organisations|S...\n43    43    National government|Local / regional government\n44    44  National government|Local / regional governmen...\n45    45  National government|Local / regional governmen...\n46    46  National government|Local / regional governmen...\n47    47  National government|Local / regional governmen...\n48    48  National government|Local / regional governmen...\n49    49  National government|Other social actors (e.g. ...\n50    50  National government|Other social actors (e.g. ...\n51    51  National government|Other social actors (e.g. ...\n52    52  National government|Other social actors (e.g. ...\n53    53      National government|Public employment service\n54    54  National government|Public employment service|...\n55    55  National government|Public employment service|...\n56    56  National government|Public support service pro...\n57    57               National government|Social insurance\n58    58  National government|Social insurance|Public su...\n59    59        National government|Social partners jointly\n60    60  National government|Social partners jointly|Co...\n61    61  National government|Social partners jointly|Co...\n62    62  National government|Social partners jointly|Co...\n63    63  National government|Social partners jointly|Co...\n64    64  National government|Social partners jointly|EU...\n65    65  National government|Social partners jointly|Em...\n66    66  National government|Social partners jointly|Lo...\n67    67  National government|Social partners jointly|Lo...\n68    68  National government|Social partners jointly|Ot...\n69    69  National government|Social partners jointly|Pu...\n70    70  National government|Social partners jointly|Pu...\n71    71  National government|Social partners jointly|Pu...\n72    72  National government|Social partners jointly|Pu...\n73    73  National government|Social partners jointly|So...\n74    74  National government|Social partners jointly|Tr...\n75    75  National government|Social partners jointly|Tr...\n76    76  National government|Social partners jointly|Tr...\n77    77  National government|Social partners jointly|Tr...\n78    78  National government|Social partners jointly|Tr...\n79    79  National government|Social partners jointly|Tr...\n80    80  National government|Social partners jointly|Tr...\n81    81  National government|Social partners jointly|Tr...\n82    82  National government|Social partners jointly|Tr...\n83    83  National government|Social partners jointly|Tr...\n84    84                   National government|Trade unions\n85    85  National government|Trade unions|Company / Com...\n86    86  National government|Trade unions|Company / Com...\n87    87  National government|Trade unions|Employers' or...\n88    88  National government|Trade unions|Employers' or...\n89    89  National government|Trade unions|Employers' or...\n90    90  National government|Trade unions|Employers' or...\n91    91  National government|Trade unions|Employers' or...\n92    92  National government|Trade unions|Employers' or...\n93    93  National government|Trade unions|Employers' or...\n94    94  National government|Trade unions|Employers' or...\n95    95  National government|Trade unions|Employers' or...\n96    96  National government|Trade unions|Employers' or...\n97    97  National government|Trade unions|Employers' or...\n98    98  National government|Trade unions|Employers' or...\n99    99  National government|Trade unions|Employers' or...\n100  100  National government|Trade unions|Employers' or...\n101  101  National government|Trade unions|Employers' or...\n102  102  National government|Trade unions|Employers' or...\n103  103  National government|Trade unions|Local / regio...\n104  104  National government|Trade unions|Other social ...\n105  105  National government|Trade unions|Social insurance\n106  106                    Other social actors (e.g. NGOs)\n107  107  Other social actors (e.g. NGOs)|Local / region...\n108  108  Other social actors (e.g. NGOs)|Public employm...\n109  109                          Public employment service\n110  110                   Public support service providers\n111  111                                   Social insurance\n112  112                            Social partners jointly\n113  113        Social partners jointly|Company / Companies\n114  114  Social partners jointly|Company / Companies|Ot...\n115  115  Social partners jointly|Company / Companies|Pu...\n116  116  Social partners jointly|Other social actors (e...\n117  117           Social partners jointly|Social insurance\n118  118  Social partners jointly|Trade unions|Company /...\n119  119  Social partners jointly|Trade unions|Employers...\n120  120  Social partners jointly|Trade unions|Employers...\n121  121  Social partners jointly|Trade unions|Employers...\n122  122                                       Trade unions\n123  123                   Trade unions|Company / Companies\n124  124  Trade unions|Company / Companies|Social insurance\n125  125              Trade unions|Employers' organisations\n126  126  Trade unions|Employers' organisations|Company ...\n127  127  Trade unions|Employers' organisations|Company ...\n128  128  Trade unions|Employers' organisations|Local / ...\n129  129  Trade unions|Employers' organisations|Other so...\n130  130  Trade unions|Local / regional government|Publi...\n131  131       Trade unions|Other social actors (e.g. NGOs)",
      "text/html": "<div>\n<style scoped>\n    .dataframe tbody tr th:only-of-type {\n        vertical-align: middle;\n    }\n\n    .dataframe tbody tr th {\n        vertical-align: top;\n    }\n\n    .dataframe thead th {\n        text-align: right;\n    }\n</style>\n<table border=\"1\" class=\"dataframe\">\n  <thead>\n    <tr style=\"text-align: right;\">\n      <th></th>\n      <th>0</th>\n      <th>1</th>\n    </tr>\n  </thead>\n  <tbody>\n    <tr>\n      <th>0</th>\n      <td>0</td>\n      <td>Company / Companies</td>\n    </tr>\n    <tr>\n      <th>1</th>\n      <td>1</td>\n      <td>Company / Companies|Local / regional government</td>\n    </tr>\n    <tr>\n      <th>2</th>\n      <td>2</td>\n      <td>Company / Companies|Local / regional governmen...</td>\n    </tr>\n    <tr>\n      <th>3</th>\n      <td>3</td>\n      <td>Company / Companies|Other social actors (e.g. ...</td>\n    </tr>\n    <tr>\n      <th>4</th>\n      <td>4</td>\n      <td>Company / Companies|Other social actors (e.g. ...</td>\n    </tr>\n    <tr>\n      <th>5</th>\n      <td>5</td>\n      <td>Company / Companies|Other social actors (e.g. ...</td>\n    </tr>\n    <tr>\n      <th>6</th>\n      <td>6</td>\n      <td>Company / Companies|Public employment service</td>\n    </tr>\n    <tr>\n      <th>7</th>\n      <td>7</td>\n      <td>Company / Companies|Public support service pro...</td>\n    </tr>\n    <tr>\n      <th>8</th>\n      <td>8</td>\n      <td>Company / Companies|Social insurance</td>\n    </tr>\n    <tr>\n      <th>9</th>\n      <td>9</td>\n      <td>EU (Council, EC, EP)</td>\n    </tr>\n    <tr>\n      <th>10</th>\n      <td>10</td>\n      <td>EU level social partners</td>\n    </tr>\n    <tr>\n      <th>11</th>\n      <td>11</td>\n      <td>Employers' organisations</td>\n    </tr>\n    <tr>\n      <th>12</th>\n      <td>12</td>\n      <td>Employers' organisations|Company / Companies</td>\n    </tr>\n    <tr>\n      <th>13</th>\n      <td>13</td>\n      <td>Employers' organisations|Company / Companies|L...</td>\n    </tr>\n    <tr>\n      <th>14</th>\n      <td>14</td>\n      <td>Employers' organisations|Company / Companies|O...</td>\n    </tr>\n    <tr>\n      <th>15</th>\n      <td>15</td>\n      <td>Employers' organisations|Company / Companies|S...</td>\n    </tr>\n    <tr>\n      <th>16</th>\n      <td>16</td>\n      <td>Employers' organisations|Local / regional gove...</td>\n    </tr>\n    <tr>\n      <th>17</th>\n      <td>17</td>\n      <td>Employers' organisations|Local / regional gove...</td>\n    </tr>\n    <tr>\n      <th>18</th>\n      <td>18</td>\n      <td>Local / regional government</td>\n    </tr>\n    <tr>\n      <th>19</th>\n      <td>19</td>\n      <td>Local / regional government|Public employment ...</td>\n    </tr>\n    <tr>\n      <th>20</th>\n      <td>20</td>\n      <td>National government</td>\n    </tr>\n    <tr>\n      <th>21</th>\n      <td>21</td>\n      <td>National government|Company / Companies</td>\n    </tr>\n    <tr>\n      <th>22</th>\n      <td>22</td>\n      <td>National government|Company / Companies|EU (Co...</td>\n    </tr>\n    <tr>\n      <th>23</th>\n      <td>23</td>\n      <td>National government|Company / Companies|Local ...</td>\n    </tr>\n    <tr>\n      <th>24</th>\n      <td>24</td>\n      <td>National government|Company / Companies|Local ...</td>\n    </tr>\n    <tr>\n      <th>25</th>\n      <td>25</td>\n      <td>National government|Company / Companies|Local ...</td>\n    </tr>\n    <tr>\n      <th>26</th>\n      <td>26</td>\n      <td>National government|Company / Companies|Other ...</td>\n    </tr>\n    <tr>\n      <th>27</th>\n      <td>27</td>\n      <td>National government|Company / Companies|Other ...</td>\n    </tr>\n    <tr>\n      <th>28</th>\n      <td>28</td>\n      <td>National government|Company / Companies|Other ...</td>\n    </tr>\n    <tr>\n      <th>29</th>\n      <td>29</td>\n      <td>National government|Company / Companies|Public...</td>\n    </tr>\n    <tr>\n      <th>30</th>\n      <td>30</td>\n      <td>National government|Company / Companies|Public...</td>\n    </tr>\n    <tr>\n      <th>31</th>\n      <td>31</td>\n      <td>National government|Company / Companies|Public...</td>\n    </tr>\n    <tr>\n      <th>32</th>\n      <td>32</td>\n      <td>National government|Company / Companies|Social...</td>\n    </tr>\n    <tr>\n      <th>33</th>\n      <td>33</td>\n      <td>National government|EU (Council, EC, EP)</td>\n    </tr>\n    <tr>\n      <th>34</th>\n      <td>34</td>\n      <td>National government|EU level social partners|E...</td>\n    </tr>\n    <tr>\n      <th>35</th>\n      <td>35</td>\n      <td>National government|Employers' organisations</td>\n    </tr>\n    <tr>\n      <th>36</th>\n      <td>36</td>\n      <td>National government|Employers' organisations|C...</td>\n    </tr>\n    <tr>\n      <th>37</th>\n      <td>37</td>\n      <td>National government|Employers' organisations|C...</td>\n    </tr>\n    <tr>\n      <th>38</th>\n      <td>38</td>\n      <td>National government|Employers' organisations|C...</td>\n    </tr>\n    <tr>\n      <th>39</th>\n      <td>39</td>\n      <td>National government|Employers' organisations|L...</td>\n    </tr>\n    <tr>\n      <th>40</th>\n      <td>40</td>\n      <td>National government|Employers' organisations|O...</td>\n    </tr>\n    <tr>\n      <th>41</th>\n      <td>41</td>\n      <td>National government|Employers' organisations|P...</td>\n    </tr>\n    <tr>\n      <th>42</th>\n      <td>42</td>\n      <td>National government|Employers' organisations|S...</td>\n    </tr>\n    <tr>\n      <th>43</th>\n      <td>43</td>\n      <td>National government|Local / regional government</td>\n    </tr>\n    <tr>\n      <th>44</th>\n      <td>44</td>\n      <td>National government|Local / regional governmen...</td>\n    </tr>\n    <tr>\n      <th>45</th>\n      <td>45</td>\n      <td>National government|Local / regional governmen...</td>\n    </tr>\n    <tr>\n      <th>46</th>\n      <td>46</td>\n      <td>National government|Local / regional governmen...</td>\n    </tr>\n    <tr>\n      <th>47</th>\n      <td>47</td>\n      <td>National government|Local / regional governmen...</td>\n    </tr>\n    <tr>\n      <th>48</th>\n      <td>48</td>\n      <td>National government|Local / regional governmen...</td>\n    </tr>\n    <tr>\n      <th>49</th>\n      <td>49</td>\n      <td>National government|Other social actors (e.g. ...</td>\n    </tr>\n    <tr>\n      <th>50</th>\n      <td>50</td>\n      <td>National government|Other social actors (e.g. ...</td>\n    </tr>\n    <tr>\n      <th>51</th>\n      <td>51</td>\n      <td>National government|Other social actors (e.g. ...</td>\n    </tr>\n    <tr>\n      <th>52</th>\n      <td>52</td>\n      <td>National government|Other social actors (e.g. ...</td>\n    </tr>\n    <tr>\n      <th>53</th>\n      <td>53</td>\n      <td>National government|Public employment service</td>\n    </tr>\n    <tr>\n      <th>54</th>\n      <td>54</td>\n      <td>National government|Public employment service|...</td>\n    </tr>\n    <tr>\n      <th>55</th>\n      <td>55</td>\n      <td>National government|Public employment service|...</td>\n    </tr>\n    <tr>\n      <th>56</th>\n      <td>56</td>\n      <td>National government|Public support service pro...</td>\n    </tr>\n    <tr>\n      <th>57</th>\n      <td>57</td>\n      <td>National government|Social insurance</td>\n    </tr>\n    <tr>\n      <th>58</th>\n      <td>58</td>\n      <td>National government|Social insurance|Public su...</td>\n    </tr>\n    <tr>\n      <th>59</th>\n      <td>59</td>\n      <td>National government|Social partners jointly</td>\n    </tr>\n    <tr>\n      <th>60</th>\n      <td>60</td>\n      <td>National government|Social partners jointly|Co...</td>\n    </tr>\n    <tr>\n      <th>61</th>\n      <td>61</td>\n      <td>National government|Social partners jointly|Co...</td>\n    </tr>\n    <tr>\n      <th>62</th>\n      <td>62</td>\n      <td>National government|Social partners jointly|Co...</td>\n    </tr>\n    <tr>\n      <th>63</th>\n      <td>63</td>\n      <td>National government|Social partners jointly|Co...</td>\n    </tr>\n    <tr>\n      <th>64</th>\n      <td>64</td>\n      <td>National government|Social partners jointly|EU...</td>\n    </tr>\n    <tr>\n      <th>65</th>\n      <td>65</td>\n      <td>National government|Social partners jointly|Em...</td>\n    </tr>\n    <tr>\n      <th>66</th>\n      <td>66</td>\n      <td>National government|Social partners jointly|Lo...</td>\n    </tr>\n    <tr>\n      <th>67</th>\n      <td>67</td>\n      <td>National government|Social partners jointly|Lo...</td>\n    </tr>\n    <tr>\n      <th>68</th>\n      <td>68</td>\n      <td>National government|Social partners jointly|Ot...</td>\n    </tr>\n    <tr>\n      <th>69</th>\n      <td>69</td>\n      <td>National government|Social partners jointly|Pu...</td>\n    </tr>\n    <tr>\n      <th>70</th>\n      <td>70</td>\n      <td>National government|Social partners jointly|Pu...</td>\n    </tr>\n    <tr>\n      <th>71</th>\n      <td>71</td>\n      <td>National government|Social partners jointly|Pu...</td>\n    </tr>\n    <tr>\n      <th>72</th>\n      <td>72</td>\n      <td>National government|Social partners jointly|Pu...</td>\n    </tr>\n    <tr>\n      <th>73</th>\n      <td>73</td>\n      <td>National government|Social partners jointly|So...</td>\n    </tr>\n    <tr>\n      <th>74</th>\n      <td>74</td>\n      <td>National government|Social partners jointly|Tr...</td>\n    </tr>\n    <tr>\n      <th>75</th>\n      <td>75</td>\n      <td>National government|Social partners jointly|Tr...</td>\n    </tr>\n    <tr>\n      <th>76</th>\n      <td>76</td>\n      <td>National government|Social partners jointly|Tr...</td>\n    </tr>\n    <tr>\n      <th>77</th>\n      <td>77</td>\n      <td>National government|Social partners jointly|Tr...</td>\n    </tr>\n    <tr>\n      <th>78</th>\n      <td>78</td>\n      <td>National government|Social partners jointly|Tr...</td>\n    </tr>\n    <tr>\n      <th>79</th>\n      <td>79</td>\n      <td>National government|Social partners jointly|Tr...</td>\n    </tr>\n    <tr>\n      <th>80</th>\n      <td>80</td>\n      <td>National government|Social partners jointly|Tr...</td>\n    </tr>\n    <tr>\n      <th>81</th>\n      <td>81</td>\n      <td>National government|Social partners jointly|Tr...</td>\n    </tr>\n    <tr>\n      <th>82</th>\n      <td>82</td>\n      <td>National government|Social partners jointly|Tr...</td>\n    </tr>\n    <tr>\n      <th>83</th>\n      <td>83</td>\n      <td>National government|Social partners jointly|Tr...</td>\n    </tr>\n    <tr>\n      <th>84</th>\n      <td>84</td>\n      <td>National government|Trade unions</td>\n    </tr>\n    <tr>\n      <th>85</th>\n      <td>85</td>\n      <td>National government|Trade unions|Company / Com...</td>\n    </tr>\n    <tr>\n      <th>86</th>\n      <td>86</td>\n      <td>National government|Trade unions|Company / Com...</td>\n    </tr>\n    <tr>\n      <th>87</th>\n      <td>87</td>\n      <td>National government|Trade unions|Employers' or...</td>\n    </tr>\n    <tr>\n      <th>88</th>\n      <td>88</td>\n      <td>National government|Trade unions|Employers' or...</td>\n    </tr>\n    <tr>\n      <th>89</th>\n      <td>89</td>\n      <td>National government|Trade unions|Employers' or...</td>\n    </tr>\n    <tr>\n      <th>90</th>\n      <td>90</td>\n      <td>National government|Trade unions|Employers' or...</td>\n    </tr>\n    <tr>\n      <th>91</th>\n      <td>91</td>\n      <td>National government|Trade unions|Employers' or...</td>\n    </tr>\n    <tr>\n      <th>92</th>\n      <td>92</td>\n      <td>National government|Trade unions|Employers' or...</td>\n    </tr>\n    <tr>\n      <th>93</th>\n      <td>93</td>\n      <td>National government|Trade unions|Employers' or...</td>\n    </tr>\n    <tr>\n      <th>94</th>\n      <td>94</td>\n      <td>National government|Trade unions|Employers' or...</td>\n    </tr>\n    <tr>\n      <th>95</th>\n      <td>95</td>\n      <td>National government|Trade unions|Employers' or...</td>\n    </tr>\n    <tr>\n      <th>96</th>\n      <td>96</td>\n      <td>National government|Trade unions|Employers' or...</td>\n    </tr>\n    <tr>\n      <th>97</th>\n      <td>97</td>\n      <td>National government|Trade unions|Employers' or...</td>\n    </tr>\n    <tr>\n      <th>98</th>\n      <td>98</td>\n      <td>National government|Trade unions|Employers' or...</td>\n    </tr>\n    <tr>\n      <th>99</th>\n      <td>99</td>\n      <td>National government|Trade unions|Employers' or...</td>\n    </tr>\n    <tr>\n      <th>100</th>\n      <td>100</td>\n      <td>National government|Trade unions|Employers' or...</td>\n    </tr>\n    <tr>\n      <th>101</th>\n      <td>101</td>\n      <td>National government|Trade unions|Employers' or...</td>\n    </tr>\n    <tr>\n      <th>102</th>\n      <td>102</td>\n      <td>National government|Trade unions|Employers' or...</td>\n    </tr>\n    <tr>\n      <th>103</th>\n      <td>103</td>\n      <td>National government|Trade unions|Local / regio...</td>\n    </tr>\n    <tr>\n      <th>104</th>\n      <td>104</td>\n      <td>National government|Trade unions|Other social ...</td>\n    </tr>\n    <tr>\n      <th>105</th>\n      <td>105</td>\n      <td>National government|Trade unions|Social insurance</td>\n    </tr>\n    <tr>\n      <th>106</th>\n      <td>106</td>\n      <td>Other social actors (e.g. NGOs)</td>\n    </tr>\n    <tr>\n      <th>107</th>\n      <td>107</td>\n      <td>Other social actors (e.g. NGOs)|Local / region...</td>\n    </tr>\n    <tr>\n      <th>108</th>\n      <td>108</td>\n      <td>Other social actors (e.g. NGOs)|Public employm...</td>\n    </tr>\n    <tr>\n      <th>109</th>\n      <td>109</td>\n      <td>Public employment service</td>\n    </tr>\n    <tr>\n      <th>110</th>\n      <td>110</td>\n      <td>Public support service providers</td>\n    </tr>\n    <tr>\n      <th>111</th>\n      <td>111</td>\n      <td>Social insurance</td>\n    </tr>\n    <tr>\n      <th>112</th>\n      <td>112</td>\n      <td>Social partners jointly</td>\n    </tr>\n    <tr>\n      <th>113</th>\n      <td>113</td>\n      <td>Social partners jointly|Company / Companies</td>\n    </tr>\n    <tr>\n      <th>114</th>\n      <td>114</td>\n      <td>Social partners jointly|Company / Companies|Ot...</td>\n    </tr>\n    <tr>\n      <th>115</th>\n      <td>115</td>\n      <td>Social partners jointly|Company / Companies|Pu...</td>\n    </tr>\n    <tr>\n      <th>116</th>\n      <td>116</td>\n      <td>Social partners jointly|Other social actors (e...</td>\n    </tr>\n    <tr>\n      <th>117</th>\n      <td>117</td>\n      <td>Social partners jointly|Social insurance</td>\n    </tr>\n    <tr>\n      <th>118</th>\n      <td>118</td>\n      <td>Social partners jointly|Trade unions|Company /...</td>\n    </tr>\n    <tr>\n      <th>119</th>\n      <td>119</td>\n      <td>Social partners jointly|Trade unions|Employers...</td>\n    </tr>\n    <tr>\n      <th>120</th>\n      <td>120</td>\n      <td>Social partners jointly|Trade unions|Employers...</td>\n    </tr>\n    <tr>\n      <th>121</th>\n      <td>121</td>\n      <td>Social partners jointly|Trade unions|Employers...</td>\n    </tr>\n    <tr>\n      <th>122</th>\n      <td>122</td>\n      <td>Trade unions</td>\n    </tr>\n    <tr>\n      <th>123</th>\n      <td>123</td>\n      <td>Trade unions|Company / Companies</td>\n    </tr>\n    <tr>\n      <th>124</th>\n      <td>124</td>\n      <td>Trade unions|Company / Companies|Social insurance</td>\n    </tr>\n    <tr>\n      <th>125</th>\n      <td>125</td>\n      <td>Trade unions|Employers' organisations</td>\n    </tr>\n    <tr>\n      <th>126</th>\n      <td>126</td>\n      <td>Trade unions|Employers' organisations|Company ...</td>\n    </tr>\n    <tr>\n      <th>127</th>\n      <td>127</td>\n      <td>Trade unions|Employers' organisations|Company ...</td>\n    </tr>\n    <tr>\n      <th>128</th>\n      <td>128</td>\n      <td>Trade unions|Employers' organisations|Local / ...</td>\n    </tr>\n    <tr>\n      <th>129</th>\n      <td>129</td>\n      <td>Trade unions|Employers' organisations|Other so...</td>\n    </tr>\n    <tr>\n      <th>130</th>\n      <td>130</td>\n      <td>Trade unions|Local / regional government|Publi...</td>\n    </tr>\n    <tr>\n      <th>131</th>\n      <td>131</td>\n      <td>Trade unions|Other social actors (e.g. NGOs)</td>\n    </tr>\n  </tbody>\n</table>\n</div>"
     },
     "execution_count": 34,
     "metadata": {},
     "output_type": "execute_result"
    }
   ],
   "source": [
    "tmp_transformed"
   ],
   "metadata": {
    "collapsed": false,
    "pycharm": {
     "name": "#%%\n"
    }
   }
  },
  {
   "cell_type": "code",
   "execution_count": null,
   "outputs": [],
   "source": [
    "for column in SIMPLE_CLASS_COLUMNS:\n",
    "    le = preprocessing.LabelEncoder()\n",
    "    le.fit(pwdb_dataframe[column])\n",
    "    pwdb_dataframe[column + '_label'] = le.transform(pwdb_dataframe[column])"
   ],
   "metadata": {
    "collapsed": false,
    "pycharm": {
     "name": "#%%\n"
    }
   }
  }
 ],
 "metadata": {
  "kernelspec": {
   "display_name": "Python 3",
   "language": "python",
   "name": "python3"
  },
  "language_info": {
   "codemirror_mode": {
    "name": "ipython",
    "version": 2
   },
   "file_extension": ".py",
   "mimetype": "text/x-python",
   "name": "python",
   "nbconvert_exporter": "python",
   "pygments_lexer": "ipython2",
   "version": "2.7.6"
  }
 },
 "nbformat": 4,
 "nbformat_minor": 0
}