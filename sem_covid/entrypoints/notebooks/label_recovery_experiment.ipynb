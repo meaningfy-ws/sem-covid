{
 "cells": [
  {
   "cell_type": "code",
   "execution_count": 12,
   "metadata": {
    "collapsed": true
   },
   "outputs": [],
   "source": [
    "import sys\n",
    "\n",
    "\n",
    "\n",
    "sys.path.append(\"/home/jovyan/work/sem-covid/\")\n",
    "sys.path = list(set(sys.path))\n",
    "import os\n",
    "\n",
    "os.getcwd()\n",
    "os.chdir('/home/jovyan/work/sem-covid/')\n",
    "from sklearn import preprocessing\n",
    "from sem_covid.services.store_registry import StoreRegistry\n",
    "from pycaret.classification import *\n",
    "import mlflow\n",
    "from sem_covid import config\n"
   ]
  },
  {
   "cell_type": "code",
   "execution_count": 1,
   "outputs": [],
   "source": [
    "import tensorflow_hub as hub\n",
    "model_url = \"https://tfhub.dev/google/universal-sentence-encoder/4\"\n",
    "model = hub.load(model_url)"
   ],
   "metadata": {
    "collapsed": false,
    "pycharm": {
     "name": "#%%\n"
    }
   }
  },
  {
   "cell_type": "code",
   "execution_count": 3,
   "outputs": [],
   "source": [
    "emb = model([\"Hello world\"])"
   ],
   "metadata": {
    "collapsed": false,
    "pycharm": {
     "name": "#%%\n"
    }
   }
  },
  {
   "cell_type": "code",
   "execution_count": 10,
   "outputs": [
    {
     "data": {
      "text/plain": "[[-0.02607426419854164,\n  -0.08460001647472382,\n  -0.026786621659994125,\n  0.05678422749042511,\n  0.06197047233581543,\n  0.038226015865802765,\n  0.02011493407189846,\n  0.02740876004099846,\n  0.08698319643735886,\n  0.030791785567998886,\n  0.04104117304086685,\n  0.025518342852592468,\n  0.0009651867439970374,\n  0.05892797186970711,\n  0.040095411241054535,\n  0.046708934009075165,\n  -0.033127956092357635,\n  0.040704160928726196,\n  -0.01199297048151493,\n  -0.04761705547571182,\n  -0.008296682499349117,\n  0.07054674625396729,\n  0.004843536298722029,\n  0.08098248392343521,\n  -0.0570177286863327,\n  -0.06435514986515045,\n  0.0697147324681282,\n  -0.06988384574651718,\n  0.026460617780685425,\n  -0.02352205291390419,\n  0.05523752421140671,\n  0.04913639649748802,\n  0.056989721953868866,\n  -0.061071936041116714,\n  0.0360850989818573,\n  0.023244615644216537,\n  0.05601752549409866,\n  -0.010955199599266052,\n  0.04213083162903786,\n  -0.017695393413305283,\n  0.0071243466809391975,\n  0.020470306277275085,\n  -0.07101263850927353,\n  -0.08455774933099747,\n  0.04360585659742355,\n  0.04793977364897728,\n  -0.09018020331859589,\n  -0.06873437762260437,\n  0.012795963324606419,\n  0.016249850392341614,\n  -0.04831308498978615,\n  0.03088318184018135,\n  0.007438371889293194,\n  0.03391556441783905,\n  0.03323439508676529,\n  0.0433182455599308,\n  0.06363335251808167,\n  0.049202680587768555,\n  -0.028310831636190414,\n  0.00813511572778225,\n  0.06135312840342522,\n  -0.045509155839681625,\n  0.07290054857730865,\n  0.023510539904236794,\n  0.03833482414484024,\n  0.050849441438913345,\n  0.00806406419724226,\n  0.00862897839397192,\n  0.0640241950750351,\n  -0.06050405651330948,\n  -0.07367949187755585,\n  0.02695704996585846,\n  -0.05776761844754219,\n  0.0125013692304492,\n  -0.040830813348293304,\n  0.0332859642803669,\n  -0.032361242920160294,\n  -0.016109280288219452,\n  -0.0248677097260952,\n  -0.05356618016958237,\n  -0.03746279701590538,\n  0.06290361285209656,\n  -0.049867212772369385,\n  -0.0228666253387928,\n  0.044082723557949066,\n  0.037532731890678406,\n  -0.0620824471116066,\n  0.04283814877271652,\n  -0.03761162981390953,\n  0.02658499963581562,\n  -0.05329589545726776,\n  0.008691656403243542,\n  -0.04628002643585205,\n  0.06370235979557037,\n  -0.003663698211312294,\n  0.0364336259663105,\n  0.012106583453714848,\n  0.023012474179267883,\n  -0.01278716791421175,\n  -0.08179380744695663,\n  0.04632073640823364,\n  -0.05161772668361664,\n  -0.011576381511986256,\n  -0.04452022537589073,\n  0.03644438460469246,\n  -0.006700740661472082,\n  -0.044253572821617126,\n  0.04886802285909653,\n  -0.0070586130023002625,\n  -0.05317400395870209,\n  -0.05031687393784523,\n  0.055618468672037125,\n  -0.05254388228058815,\n  0.01966760866343975,\n  0.05111386999487877,\n  0.04785904288291931,\n  -0.04448971524834633,\n  0.0007927787373773754,\n  0.023618564009666443,\n  0.06466622650623322,\n  -0.006732686422765255,\n  -0.022291116416454315,\n  -0.04319402575492859,\n  0.04228316992521286,\n  -0.03808262199163437,\n  0.0013023905921727419,\n  0.07338935881853104,\n  0.009224147535860538,\n  0.05112648755311966,\n  0.05287666991353035,\n  0.0015941973542794585,\n  0.06544474512338638,\n  0.06899137794971466,\n  -0.009690001606941223,\n  -0.005383697804063559,\n  -0.08520417660474777,\n  -0.021374410018324852,\n  -0.06664244830608368,\n  -0.01956687681376934,\n  -0.003744389396160841,\n  -0.017849359661340714,\n  -0.01986822485923767,\n  0.03185366466641426,\n  0.04519083350896835,\n  0.0024981587193906307,\n  -0.09529236704111099,\n  0.001095583545975387,\n  0.03675924614071846,\n  -0.002779799047857523,\n  0.000585166912060231,\n  0.05278167128562927,\n  -0.019537437707185745,\n  -0.05736186355352402,\n  0.03485351428389549,\n  -0.07629590481519699,\n  0.0011336373863741755,\n  0.004932052455842495,\n  -0.06268554925918579,\n  -0.03726695477962494,\n  -0.02899789996445179,\n  0.015442460775375366,\n  -0.011095548048615456,\n  -0.035634610801935196,\n  0.009362195618450642,\n  0.05605822801589966,\n  0.023355741053819656,\n  0.003698924323543906,\n  -0.08498696982860565,\n  0.04204436391592026,\n  -0.06589919328689575,\n  0.007924934849143028,\n  0.020306415855884552,\n  -0.01137390173971653,\n  -0.00480086263269186,\n  -0.0658503919839859,\n  -0.03135813772678375,\n  -0.01768334209918976,\n  -0.03114616498351097,\n  0.025776589289307594,\n  -0.06424091756343842,\n  0.05484090372920036,\n  -0.0331307053565979,\n  -0.02062424272298813,\n  -0.02637314982712269,\n  -0.020302148535847664,\n  0.020649375393986702,\n  0.028162823989987373,\n  -0.05836998671293259,\n  0.05959190055727959,\n  -0.009146878495812416,\n  0.0029574178624898195,\n  0.0022116440813988447,\n  0.09037653356790543,\n  0.02459389716386795,\n  0.03323289006948471,\n  -0.0609733946621418,\n  0.04336022958159447,\n  0.09327678382396698,\n  -0.05416614189743996,\n  -0.014382409863173962,\n  -0.06397150456905365,\n  -0.026916928589344025,\n  0.05962616950273514,\n  0.04668963700532913,\n  -0.02709956094622612,\n  0.043035928159952164,\n  0.03934499993920326,\n  0.06830987334251404,\n  -0.0643664225935936,\n  0.04373958706855774,\n  0.07173062115907669,\n  -0.016331065446138382,\n  0.01591653935611248,\n  0.04969432204961777,\n  -0.02062995359301567,\n  0.05148029699921608,\n  -0.025114256888628006,\n  -0.04533341899514198,\n  0.014942527748644352,\n  0.03530068323016167,\n  -0.02165335789322853,\n  0.0552629716694355,\n  0.05083538591861725,\n  -0.040951699018478394,\n  -0.038384709507226944,\n  -0.011798468418419361,\n  -0.036006055772304535,\n  0.021676434203982353,\n  0.037564363330602646,\n  0.0016952862497419119,\n  -0.009027635678648949,\n  -0.022670933976769447,\n  0.027483351528644562,\n  0.09648190438747406,\n  -0.002789886435493827,\n  -0.016437819227576256,\n  0.05648714676499367,\n  -0.06025296449661255,\n  -0.022318623960018158,\n  0.008589261211454868,\n  -0.009621309116482735,\n  0.014176711440086365,\n  0.05796600505709648,\n  -0.05632423236966133,\n  0.01702439785003662,\n  0.04202541336417198,\n  -0.007595661096274853,\n  -0.036660708487033844,\n  0.034312471747398376,\n  0.06901659816503525,\n  -0.07241284847259521,\n  0.020756522193551064,\n  -0.0032847276888787746,\n  0.011361111886799335,\n  0.08796047419309616,\n  -0.0799725353717804,\n  -0.0029654083773493767,\n  -0.019295204430818558,\n  -0.01033879816532135,\n  -0.04698793217539787,\n  0.038407981395721436,\n  0.02398497238755226,\n  0.02089020609855652,\n  -0.038268838077783585,\n  -0.05756241828203201,\n  0.017249714583158493,\n  0.04097399115562439,\n  0.0005986694595776498,\n  0.01681237854063511,\n  0.0632370114326477,\n  -0.04276342689990997,\n  0.0811341404914856,\n  0.04585018381476402,\n  0.008916741237044334,\n  0.03278700262308121,\n  0.036176010966300964,\n  0.0031024094205349684,\n  0.06553466618061066,\n  0.07671643793582916,\n  0.09133660048246384,\n  0.02061469852924347,\n  0.010621655732393265,\n  0.035985786467790604,\n  0.0454193614423275,\n  -0.03467525169253349,\n  -0.016710679978132248,\n  0.02144915610551834,\n  0.009387983940541744,\n  -0.06241295114159584,\n  -0.018583593890070915,\n  0.03705316036939621,\n  -0.03882841393351555,\n  -0.025961868464946747,\n  0.029238056391477585,\n  -0.014491287991404533,\n  -0.0037462771870195866,\n  0.03029397688806057,\n  0.0540679432451725,\n  0.04775242879986763,\n  0.05293172597885132,\n  -0.0439474992454052,\n  -0.012863125652074814,\n  -0.00677327997982502,\n  -0.0493905246257782,\n  -0.0727062076330185,\n  0.01612875424325466,\n  0.05462944135069847,\n  0.026869816705584526,\n  0.029914649203419685,\n  0.001551107969135046,\n  0.02753596007823944,\n  -0.046426232904195786,\n  0.03220916911959648,\n  0.0026605785824358463,\n  0.011994419619441032,\n  0.04315758869051933,\n  0.0466606505215168,\n  0.05225134268403053,\n  -0.01932225003838539,\n  -0.016627876088023186,\n  -0.002711143810302019,\n  1.548793079564348e-05,\n  -0.008146148175001144,\n  0.021495092660188675,\n  -0.0011832682648673654,\n  0.037365615367889404,\n  -0.02561427839100361,\n  0.07611291855573654,\n  0.02441040426492691,\n  0.039236750453710556,\n  0.07120047509670258,\n  -0.005250862799584866,\n  0.05436192825436592,\n  -0.06229272857308388,\n  -0.029423197731375694,\n  -0.03298630937933922,\n  0.06565829366445541,\n  0.07217149436473846,\n  0.026878146454691887,\n  -0.0293161291629076,\n  -0.03329629451036453,\n  -0.08442487567663193,\n  -0.03160155192017555,\n  0.02798677422106266,\n  -0.08237449824810028,\n  0.03647887706756592,\n  0.04882523790001869,\n  -0.06837836652994156,\n  0.031866881996393204,\n  0.016610784456133842,\n  0.02297818660736084,\n  -0.06121975928544998,\n  -0.019339848309755325,\n  0.051378294825553894,\n  0.040758393704891205,\n  -0.033307526260614395,\n  -0.08870058506727219,\n  0.0056609660387039185,\n  -0.06409231573343277,\n  -0.018600713461637497,\n  0.06257083266973495,\n  -0.009901735931634903,\n  0.06619703769683838,\n  0.0338725782930851,\n  -0.007802335079759359,\n  0.03489122912287712,\n  -0.036667026579380035,\n  0.07216832786798477,\n  -0.0036550145596265793,\n  0.024553632363677025,\n  0.009418126195669174,\n  -0.06416484713554382,\n  0.06455565243959427,\n  0.053329452872276306,\n  -0.07750774919986725,\n  0.08187079429626465,\n  0.0788642168045044,\n  -0.05496584624052048,\n  0.02227252908051014,\n  -0.08892012387514114,\n  -0.026260629296302795,\n  0.017320450395345688,\n  0.031656697392463684,\n  0.018799256533384323,\n  0.08769144862890244,\n  0.05271850898861885,\n  -0.08660787343978882,\n  -0.020633680745959282,\n  0.010211304761469364,\n  0.07171676307916641,\n  0.030014296993613243,\n  -0.010289526544511318,\n  0.004142755176872015,\n  -0.008376619778573513,\n  -0.0463809072971344,\n  0.016740797087550163,\n  -0.0428260937333107,\n  -0.002610102528706193,\n  0.06407276540994644,\n  0.06881733983755112,\n  0.010370583273470402,\n  0.051999252289533615,\n  -0.005155608057975769,\n  -0.002709999680519104,\n  0.001483537838794291,\n  -0.04150598123669624,\n  0.006255451124161482,\n  -0.04250688478350639,\n  0.035888515412807465,\n  -0.027359064668416977,\n  -0.05720580741763115,\n  -0.013498351909220219,\n  -0.011188291944563389,\n  0.02889009192585945,\n  -0.06438866257667542,\n  0.03810657560825348,\n  0.015930725261569023,\n  0.08235062658786774,\n  -0.050688181072473526,\n  0.055876024067401886,\n  -0.02793198637664318,\n  0.04986019805073738,\n  -0.07185063511133194,\n  -0.00442550890147686,\n  0.060467276722192764,\n  0.08467764407396317,\n  -0.038332145661115646,\n  0.05733054131269455,\n  -0.03558839485049248,\n  0.0509444884955883,\n  0.013083374127745628,\n  -0.06831688433885574,\n  -0.056430477648973465,\n  0.037582412362098694,\n  -0.011389298364520073,\n  -0.01507909782230854,\n  -0.03153349086642265,\n  0.016647083684802055,\n  0.05050455033779144,\n  -0.07166411727666855,\n  0.05062079057097435,\n  0.008921261876821518,\n  -0.03951225429773331,\n  0.030369188636541367,\n  -0.030768752098083496,\n  0.006918006576597691,\n  0.02460455149412155,\n  -0.04057934507727623,\n  -0.06493125855922699,\n  -0.04283572733402252,\n  -0.04390383139252663,\n  0.018041297793388367,\n  0.08501026779413223,\n  -0.007997957058250904,\n  -0.03548846021294594,\n  -0.038543056696653366,\n  -0.014346261508762836,\n  -0.03445548936724663,\n  0.08241596817970276,\n  -0.022365953773260117,\n  -0.014782554470002651,\n  -0.03746155649423599,\n  -0.043876443058252335,\n  -0.06954639405012131,\n  -0.025264421477913857,\n  -0.034467801451683044,\n  -0.005966446828097105,\n  -0.01848713681101799,\n  -0.024784943088889122,\n  0.07087410986423492,\n  0.016444196924567223,\n  0.041821662336587906,\n  0.07817083597183228,\n  0.06507375091314316,\n  -0.048412028700113297,\n  -0.05011551082134247,\n  -0.05786817520856857,\n  -0.03481398895382881,\n  0.009954464621841908,\n  0.042034607380628586,\n  -0.05469890683889389,\n  0.015208832919597626,\n  0.07733309268951416,\n  -0.010855312459170818,\n  -0.012946785427629948,\n  0.06483830511569977,\n  -0.02483452670276165,\n  -0.028243958950042725,\n  0.017464529722929,\n  -0.015176967717707157,\n  -0.049582138657569885,\n  -0.08010082691907883,\n  -0.013734429143369198,\n  0.03173840790987015,\n  0.05672604963183403,\n  0.037241380661726,\n  -0.020302170887589455,\n  0.007136383093893528,\n  0.08141142874956131,\n  -0.034604087471961975,\n  0.002475110813975334,\n  -0.024861522018909454,\n  -0.06224760413169861,\n  -0.07915095239877701,\n  -0.03390301764011383,\n  0.07037577778100967,\n  -0.010907844640314579,\n  -0.026008253917098045,\n  -0.04366390407085419,\n  -0.02173570916056633,\n  0.01262516900897026,\n  -0.0614742711186409]]"
     },
     "execution_count": 10,
     "metadata": {},
     "output_type": "execute_result"
    }
   ],
   "source": [
    "emb.numpy().tolist()"
   ],
   "metadata": {
    "collapsed": false,
    "pycharm": {
     "name": "#%%\n"
    }
   }
  },
  {
   "cell_type": "code",
   "execution_count": 13,
   "outputs": [],
   "source": [
    "from gensim.models import KeyedVectors\n",
    "from sem_covid.services.data_registry import LanguageModel\n",
    "law2vec = LanguageModel.LAW2VEC.fetch()\n",
    "law2vec_path = LanguageModel.LAW2VEC.path_to_local_cache()\n",
    "word2vec = KeyedVectors.load_word2vec_format(law2vec_path, encoding=\"utf-8\")"
   ],
   "metadata": {
    "collapsed": false,
    "pycharm": {
     "name": "#%%\n"
    }
   }
  },
  {
   "cell_type": "code",
   "execution_count": 100,
   "outputs": [
    {
     "data": {
      "text/plain": "array([0.45756128, 0.37264929, 0.93881131, 0.05957271, 0.78567591,\n       0.1878297 , 0.55212816, 0.19248258, 0.03634315, 0.709277  ,\n       0.83987553, 0.3996499 , 0.59314394, 0.31281565, 0.40508458,\n       0.52134048, 0.54386873, 0.98496962, 0.37355215, 0.5425929 ,\n       0.56345777, 0.18812274, 0.54121338, 0.21317919, 0.64325342,\n       0.49107691, 0.91688395, 0.24546619, 0.28981497, 0.14662185,\n       0.53759883, 0.75456018, 0.93298609, 0.62832015, 0.74107546,\n       0.19652805, 0.35248002, 0.40533377, 0.74908429, 0.27040939,\n       0.72828338, 0.38790358, 0.89078037, 0.50883022, 0.90897045,\n       0.09713505, 0.82137012, 0.58503822, 0.20404585, 0.48503592,\n       0.36996939, 0.79785431, 0.90602852, 0.76222883, 0.81586834,\n       0.82445205, 0.99807009, 0.82709976, 0.76621742, 0.46541822,\n       0.95712962, 0.46853822, 0.93177205, 0.58054059, 0.56636506,\n       0.42591811, 0.45963381, 0.13444624, 0.73669319, 0.3157996 ,\n       0.68585751, 0.21624219, 0.34608228, 0.32882417, 0.04894463,\n       0.86492433, 0.80697408, 0.05879714, 0.90000572, 0.96063076,\n       0.20262073, 0.8366962 , 0.8048213 , 0.56333631, 0.8265193 ,\n       0.66617027, 0.49326299, 0.58545474, 0.89305493, 0.42495515,\n       0.63883112, 0.01422323, 0.53099407, 0.56167031, 0.82383551,\n       0.54109698, 0.16051783, 0.83696481, 0.17128639, 0.73662536,\n       0.64414819, 0.49193327, 0.28542726, 0.07189732, 0.4962741 ,\n       0.20179701, 0.25044562, 0.15536114, 0.83242723, 0.48091629,\n       0.85470476, 0.5505739 , 0.71612542, 0.46018635, 0.71222789,\n       0.39930224, 0.4895453 , 0.84155626, 0.48825214, 0.8163573 ,\n       0.63495706, 0.39433787, 0.87542972, 0.98712113, 0.65892659,\n       0.7121496 , 0.54662388, 0.21641808, 0.70508525, 0.25155236,\n       0.22931538, 0.0439149 , 0.38774258, 0.71470135, 0.27176559,\n       0.45512154, 0.96069464, 0.61580284, 0.28462855, 0.23064571,\n       0.9916969 , 0.68245402, 0.12885093, 0.74223243, 0.02259029,\n       0.29731938, 0.21903037, 0.90531646, 0.31825072, 0.79085173,\n       0.18639069, 0.59233308, 0.67324935, 0.72606996, 0.19202475,\n       0.18666171, 0.65662872, 0.85116879, 0.91175027, 0.47719079,\n       0.29847227, 0.47820392, 0.95773286, 0.51435912, 0.78353616,\n       0.65600863, 0.07546392, 0.07420704, 0.92841143, 0.69680627,\n       0.07465313, 0.63933551, 0.86749687, 0.12994083, 0.92899616,\n       0.63372872, 0.83029813, 0.57577833, 0.45889816, 0.07405149,\n       0.56682517, 0.00743808, 0.99053295, 0.35588872, 0.9274684 ,\n       0.47742435, 0.02544008, 0.79594306, 0.3239441 , 0.86292565,\n       0.91061582, 0.76521747, 0.25386306, 0.10287289, 0.3627255 ,\n       0.20900091, 0.49251088, 0.25943939, 0.95560256, 0.41857716])"
     },
     "execution_count": 100,
     "metadata": {},
     "output_type": "execute_result"
    }
   ],
   "source": [],
   "metadata": {
    "collapsed": false,
    "pycharm": {
     "name": "#%%\n"
    }
   }
  },
  {
   "cell_type": "code",
   "execution_count": 14,
   "outputs": [
    {
     "data": {
      "text/plain": "gensim.models.keyedvectors.KeyedVectors"
     },
     "execution_count": 14,
     "metadata": {},
     "output_type": "execute_result"
    }
   ],
   "source": [
    "type(word2vec)"
   ],
   "metadata": {
    "collapsed": false,
    "pycharm": {
     "name": "#%%\n"
    }
   }
  },
  {
   "cell_type": "code",
   "execution_count": 19,
   "outputs": [],
   "source": [
    "import spacy\n",
    "nlp = spacy.load(\"en_core_web_sm\")"
   ],
   "metadata": {
    "collapsed": false,
    "pycharm": {
     "name": "#%%\n"
    }
   }
  },
  {
   "cell_type": "code",
   "execution_count": 29,
   "outputs": [
    {
     "data": {
      "text/plain": "['hello', 'world', 'my', 'friend']"
     },
     "execution_count": 29,
     "metadata": {},
     "output_type": "execute_result"
    }
   ],
   "source": [
    "list(map(str,nlp(\"hello world my friend\")))"
   ],
   "metadata": {
    "collapsed": false,
    "pycharm": {
     "name": "#%%\n"
    }
   }
  },
  {
   "cell_type": "code",
   "execution_count": 66,
   "outputs": [],
   "source": [
    "sentences = ['Hello, (my big) friend.',\n",
    "             'this is example of text',\n",
    "             'code is just a text'\n",
    "             ]"
   ],
   "metadata": {
    "collapsed": false,
    "pycharm": {
     "name": "#%%\n"
    }
   }
  },
  {
   "cell_type": "code",
   "execution_count": 37,
   "outputs": [
    {
     "data": {
      "text/plain": "['hello my friend', 'this is example of text', 'code is just a text']"
     },
     "execution_count": 37,
     "metadata": {},
     "output_type": "execute_result"
    }
   ],
   "source": [
    "sentences"
   ],
   "metadata": {
    "collapsed": false,
    "pycharm": {
     "name": "#%%\n"
    }
   }
  },
  {
   "cell_type": "code",
   "execution_count": 38,
   "outputs": [],
   "source": [
    "import pandas as pd\n",
    "from sklearn.feature_extraction.text import TfidfVectorizer\n"
   ],
   "metadata": {
    "collapsed": false,
    "pycharm": {
     "name": "#%%\n"
    }
   }
  },
  {
   "cell_type": "code",
   "execution_count": 105,
   "outputs": [],
   "source": [
    "SENTENCES = [\n",
    "    'Rather than having all of its functionality built into its core.',\n",
    "    'Python was designed to be highly extensible (with modules).',\n",
    "    'Rather than having all of its functionality built into its core.',\n",
    "    'This compact modularity has made it particularly popular as a means of adding programmable interfaces to existing applications.',\n",
    "    \"Van Rossum's vision of a small core language with a large standard library and easily extensible interpreter stemmed from his frustrations with ABC, which espoused the opposite approach.\"\n",
    "]"
   ],
   "metadata": {
    "collapsed": false,
    "pycharm": {
     "name": "#%%\n"
    }
   }
  },
  {
   "cell_type": "code",
   "execution_count": 113,
   "outputs": [],
   "source": [
    "tf_idf_vectors = TfidfVectorizer()\n",
    "tf_idf_matrix = pd.DataFrame(tf_idf_vectors.fit_transform(SENTENCES).todense().tolist(),\n",
    "                              columns=tf_idf_vectors.get_feature_names(),\n",
    "                             )"
   ],
   "metadata": {
    "collapsed": false,
    "pycharm": {
     "name": "#%%\n"
    }
   }
  },
  {
   "cell_type": "code",
   "execution_count": 124,
   "outputs": [
    {
     "data": {
      "text/plain": "abc              0.000000\nadding           0.000000\nall              0.286573\nand              0.000000\napplications     0.000000\napproach         0.000000\nas               0.000000\nbe               0.000000\nbuilt            0.286573\ncompact          0.000000\ncore             0.237882\ndesigned         0.000000\neasily           0.000000\nespoused         0.000000\nexisting         0.000000\nextensible       0.000000\nfrom             0.000000\nfrustrations     0.000000\nfunctionality    0.286573\nhas              0.000000\nhaving           0.286573\nhighly           0.000000\nhis              0.000000\ninterfaces       0.000000\ninterpreter      0.000000\ninto             0.286573\nit               0.000000\nits              0.573147\nlanguage         0.000000\nlarge            0.000000\nlibrary          0.000000\nmade             0.000000\nmeans            0.000000\nmodularity       0.000000\nmodules          0.000000\nof               0.200114\nopposite         0.000000\nparticularly     0.000000\npopular          0.000000\nprogrammable     0.000000\npython           0.000000\nrather           0.286573\nrossum           0.000000\nsmall            0.000000\nstandard         0.000000\nstemmed          0.000000\nthan             0.286573\nthe              0.000000\nthis             0.000000\nto               0.000000\nvan              0.000000\nvision           0.000000\nwas              0.000000\nwhich            0.000000\nwith             0.000000\nName: 0, dtype: float64"
     },
     "execution_count": 124,
     "metadata": {},
     "output_type": "execute_result"
    }
   ],
   "source": [
    "tf_idf_matrix.iloc[0]"
   ],
   "metadata": {
    "collapsed": false,
    "pycharm": {
     "name": "#%%\n"
    }
   }
  },
  {
   "cell_type": "code",
   "execution_count": 120,
   "outputs": [
    {
     "name": "stdout",
     "output_type": "stream",
     "text": [
      "<class 'pandas.core.series.Series'>\n",
      "<class 'pandas.core.series.Series'>\n",
      "<class 'pandas.core.series.Series'>\n",
      "<class 'pandas.core.series.Series'>\n",
      "<class 'pandas.core.series.Series'>\n"
     ]
    }
   ],
   "source": [
    "for index, row in tf_idf_matrix.iterrows():\n",
    "    print(type(row))"
   ],
   "metadata": {
    "collapsed": false,
    "pycharm": {
     "name": "#%%\n"
    }
   }
  },
  {
   "cell_type": "code",
   "execution_count": 71,
   "outputs": [
    {
     "name": "stdout",
     "output_type": "stream",
     "text": [
      "0.5\n",
      "0.0\n",
      "0.0\n"
     ]
    }
   ],
   "source": [
    "for iter, row in tf_idf_matrix.iterrows():\n",
    "    print(row['hello'])"
   ],
   "metadata": {
    "collapsed": false,
    "pycharm": {
     "name": "#%%\n"
    }
   }
  },
  {
   "cell_type": "code",
   "execution_count": 88,
   "outputs": [],
   "source": [
    "tokens = ['hello', 'my', 'big', 'friend']"
   ],
   "metadata": {
    "collapsed": false,
    "pycharm": {
     "name": "#%%\n"
    }
   }
  },
  {
   "cell_type": "code",
   "execution_count": 104,
   "outputs": [
    {
     "data": {
      "text/plain": "array([1.5, 2.5, 3. ])"
     },
     "execution_count": 104,
     "metadata": {},
     "output_type": "execute_result"
    }
   ],
   "source": [
    "tf_idf_matrix.loc['Hello, (my big) friend.'][tokens[0]]\n"
   ],
   "metadata": {
    "collapsed": false,
    "pycharm": {
     "name": "#%%\n"
    }
   }
  },
  {
   "cell_type": "code",
   "execution_count": 96,
   "outputs": [
    {
     "data": {
      "text/plain": "array([0.6, 0.9])"
     },
     "execution_count": 96,
     "metadata": {},
     "output_type": "execute_result"
    }
   ],
   "source": [
    "np.sum([[1,2],[5,7]],axis=0)/10"
   ],
   "metadata": {
    "collapsed": false,
    "pycharm": {
     "name": "#%%\n"
    }
   }
  },
  {
   "cell_type": "code",
   "execution_count": 101,
   "outputs": [
    {
     "data": {
      "text/plain": "array([ 9, 15, 18])"
     },
     "execution_count": 101,
     "metadata": {},
     "output_type": "execute_result"
    }
   ],
   "source": [
    "3 * np.array([3,5,6])"
   ],
   "metadata": {
    "collapsed": false,
    "pycharm": {
     "name": "#%%\n"
    }
   }
  },
  {
   "cell_type": "code",
   "execution_count": 73,
   "outputs": [
    {
     "data": {
      "text/plain": "[0.0, 0.0, 0.0, 0.0, 0.0, 0.0, 0.0, 0.0, 0.0, 0.0]"
     },
     "execution_count": 73,
     "metadata": {},
     "output_type": "execute_result"
    }
   ],
   "source": [
    "np.zeros(10).tolist()"
   ],
   "metadata": {
    "collapsed": false,
    "pycharm": {
     "name": "#%%\n"
    }
   }
  },
  {
   "cell_type": "code",
   "execution_count": 79,
   "outputs": [
    {
     "data": {
      "text/plain": "[12.333333333333334, 3.6666666666666665]"
     },
     "execution_count": 79,
     "metadata": {},
     "output_type": "execute_result"
    }
   ],
   "source": [
    "np.mean([[1,2],[2,3],[34,6]],axis=0).tolist()"
   ],
   "metadata": {
    "collapsed": false,
    "pycharm": {
     "name": "#%%\n"
    }
   }
  },
  {
   "cell_type": "code",
   "execution_count": 3,
   "outputs": [],
   "source": [
    "SIMPLE_CLASS_COLUMNS = ['category', 'subcategory', 'type_of_measure', 'target_groups',\n",
    "                        'actors']"
   ],
   "metadata": {
    "collapsed": false,
    "pycharm": {
     "name": "#%%\n"
    }
   }
  },
  {
   "cell_type": "code",
   "execution_count": 2,
   "outputs": [
    {
     "name": "stderr",
     "output_type": "stream",
     "text": [
      "100% (1288 of 1288) |####################| Elapsed Time: 0:00:00 Time:  0:00:00\n"
     ]
    }
   ],
   "source": [
    "es_store = StoreRegistry.es_index_store()\n",
    "df = es_store.get_dataframe(config.PWDB_ELASTIC_SEARCH_INDEX_NAME)"
   ],
   "metadata": {
    "collapsed": false,
    "pycharm": {
     "name": "#%%\n"
    }
   }
  },
  {
   "cell_type": "code",
   "execution_count": 4,
   "outputs": [],
   "source": [
    "pwdb_dataframe = df\n",
    "pwdb_dataframe['target_groups'] = pwdb_dataframe['target_groups'].apply(lambda x: \"|\".join(x))\n",
    "pwdb_dataframe['actors'] = pwdb_dataframe['actors'].apply(lambda x: \"|\".join(x))"
   ],
   "metadata": {
    "collapsed": false,
    "pycharm": {
     "name": "#%%\n"
    }
   }
  },
  {
   "cell_type": "code",
   "execution_count": 36,
   "outputs": [],
   "source": [
    "pwdb_dataframe['actors_label'] = pwdb_dataframe['actors']"
   ],
   "metadata": {
    "collapsed": false,
    "pycharm": {
     "name": "#%%\n"
    }
   }
  },
  {
   "cell_type": "code",
   "execution_count": 37,
   "outputs": [
    {
     "data": {
      "text/plain": "                                                                                               actors  \\\n_id                                                                                                     \nadc5c75937bc7f7198f534d08b85bd50c9521bfd3f319a0...  National government|Trade unions|Employers' or...   \n2372d71eb9ad6e6a70982e02bbe802db004ed49d91b2264...               National government|Social insurance   \n8735e268191e9e5cbd3d2a44ca53d297e31746b5f1e24b9...  National government|Local / regional governmen...   \n18bcd22116c46919e03a3345f793c3859855227ac942e69...            National government|Company / Companies   \nb94d8aa95fbdeb1bb832b01fbe5d6e9bf9fc36fceb14f7b...                                National government   \n...                                                                                               ...   \ncb014a456b14c3621dd318a12e611f70c2a9636be9fe181...  National government|Public employment service|...   \nd233b17dc2b98f14269c2b22be78d93ec5ccf2a0013b86f...        National government|Social partners jointly   \n77d7e3c52aaf78bdfb1a1667641db1293bbff862440c547...                                National government   \nbe8e21b382b63dd838087d7864e4d49a4807d9cc5d71aaa...                                National government   \nc434820f8f8c0b1447ba2f6f62aed177b9597532d7fcd15...                            Social partners jointly   \n\n                                                                                         actors_label  \n_id                                                                                                    \nadc5c75937bc7f7198f534d08b85bd50c9521bfd3f319a0...  National government|Trade unions|Employers' or...  \n2372d71eb9ad6e6a70982e02bbe802db004ed49d91b2264...               National government|Social insurance  \n8735e268191e9e5cbd3d2a44ca53d297e31746b5f1e24b9...  National government|Local / regional governmen...  \n18bcd22116c46919e03a3345f793c3859855227ac942e69...            National government|Company / Companies  \nb94d8aa95fbdeb1bb832b01fbe5d6e9bf9fc36fceb14f7b...                                National government  \n...                                                                                               ...  \ncb014a456b14c3621dd318a12e611f70c2a9636be9fe181...  National government|Public employment service|...  \nd233b17dc2b98f14269c2b22be78d93ec5ccf2a0013b86f...        National government|Social partners jointly  \n77d7e3c52aaf78bdfb1a1667641db1293bbff862440c547...                                National government  \nbe8e21b382b63dd838087d7864e4d49a4807d9cc5d71aaa...                                National government  \nc434820f8f8c0b1447ba2f6f62aed177b9597532d7fcd15...                            Social partners jointly  \n\n[1288 rows x 2 columns]",
      "text/html": "<div>\n<style scoped>\n    .dataframe tbody tr th:only-of-type {\n        vertical-align: middle;\n    }\n\n    .dataframe tbody tr th {\n        vertical-align: top;\n    }\n\n    .dataframe thead th {\n        text-align: right;\n    }\n</style>\n<table border=\"1\" class=\"dataframe\">\n  <thead>\n    <tr style=\"text-align: right;\">\n      <th></th>\n      <th>actors</th>\n      <th>actors_label</th>\n    </tr>\n    <tr>\n      <th>_id</th>\n      <th></th>\n      <th></th>\n    </tr>\n  </thead>\n  <tbody>\n    <tr>\n      <th>adc5c75937bc7f7198f534d08b85bd50c9521bfd3f319a090932b5d0bae54de0</th>\n      <td>National government|Trade unions|Employers' or...</td>\n      <td>National government|Trade unions|Employers' or...</td>\n    </tr>\n    <tr>\n      <th>2372d71eb9ad6e6a70982e02bbe802db004ed49d91b2264c0a2e8e41571002cc</th>\n      <td>National government|Social insurance</td>\n      <td>National government|Social insurance</td>\n    </tr>\n    <tr>\n      <th>8735e268191e9e5cbd3d2a44ca53d297e31746b5f1e24b941db6225a25848353</th>\n      <td>National government|Local / regional governmen...</td>\n      <td>National government|Local / regional governmen...</td>\n    </tr>\n    <tr>\n      <th>18bcd22116c46919e03a3345f793c3859855227ac942e69dd13cbfcd588e1044</th>\n      <td>National government|Company / Companies</td>\n      <td>National government|Company / Companies</td>\n    </tr>\n    <tr>\n      <th>b94d8aa95fbdeb1bb832b01fbe5d6e9bf9fc36fceb14f7ba370a963f472fe35b</th>\n      <td>National government</td>\n      <td>National government</td>\n    </tr>\n    <tr>\n      <th>...</th>\n      <td>...</td>\n      <td>...</td>\n    </tr>\n    <tr>\n      <th>cb014a456b14c3621dd318a12e611f70c2a9636be9fe181072bd4bf5917a40fa</th>\n      <td>National government|Public employment service|...</td>\n      <td>National government|Public employment service|...</td>\n    </tr>\n    <tr>\n      <th>d233b17dc2b98f14269c2b22be78d93ec5ccf2a0013b86f09175c69353c5800b</th>\n      <td>National government|Social partners jointly</td>\n      <td>National government|Social partners jointly</td>\n    </tr>\n    <tr>\n      <th>77d7e3c52aaf78bdfb1a1667641db1293bbff862440c547fc3f6e8ab4fbd0d4e</th>\n      <td>National government</td>\n      <td>National government</td>\n    </tr>\n    <tr>\n      <th>be8e21b382b63dd838087d7864e4d49a4807d9cc5d71aaa82577383ece92c581</th>\n      <td>National government</td>\n      <td>National government</td>\n    </tr>\n    <tr>\n      <th>c434820f8f8c0b1447ba2f6f62aed177b9597532d7fcd156c6f556532dd7d11e</th>\n      <td>Social partners jointly</td>\n      <td>Social partners jointly</td>\n    </tr>\n  </tbody>\n</table>\n<p>1288 rows × 2 columns</p>\n</div>"
     },
     "execution_count": 37,
     "metadata": {},
     "output_type": "execute_result"
    }
   ],
   "source": [
    "pwdb_dataframe[['actors','actors_label']]"
   ],
   "metadata": {
    "collapsed": false,
    "pycharm": {
     "name": "#%%\n"
    }
   }
  },
  {
   "cell_type": "code",
   "execution_count": 38,
   "outputs": [
    {
     "data": {
      "text/plain": "LabelEncoder()"
     },
     "execution_count": 38,
     "metadata": {},
     "output_type": "execute_result"
    }
   ],
   "source": [
    "le = preprocessing.LabelEncoder()\n",
    "le.fit(pwdb_dataframe['actors'])"
   ],
   "metadata": {
    "collapsed": false,
    "pycharm": {
     "name": "#%%\n"
    }
   }
  },
  {
   "cell_type": "code",
   "execution_count": 40,
   "outputs": [],
   "source": [
    "pwdb_dataframe['actors'] = le.transform(pwdb_dataframe['actors'])"
   ],
   "metadata": {
    "collapsed": false,
    "pycharm": {
     "name": "#%%\n"
    }
   }
  },
  {
   "cell_type": "code",
   "execution_count": 43,
   "outputs": [],
   "source": [
    "pwdb_dataframe['actors']= le.inverse_transform(pwdb_dataframe['actors'])"
   ],
   "metadata": {
    "collapsed": false,
    "pycharm": {
     "name": "#%%\n"
    }
   }
  },
  {
   "cell_type": "code",
   "execution_count": 44,
   "outputs": [
    {
     "data": {
      "text/plain": "_id\nadc5c75937bc7f7198f534d08b85bd50c9521bfd3f319a090932b5d0bae54de0    National government|Trade unions|Employers' or...\n2372d71eb9ad6e6a70982e02bbe802db004ed49d91b2264c0a2e8e41571002cc                 National government|Social insurance\n8735e268191e9e5cbd3d2a44ca53d297e31746b5f1e24b941db6225a25848353    National government|Local / regional governmen...\n18bcd22116c46919e03a3345f793c3859855227ac942e69dd13cbfcd588e1044              National government|Company / Companies\nb94d8aa95fbdeb1bb832b01fbe5d6e9bf9fc36fceb14f7ba370a963f472fe35b                                  National government\n                                                                                          ...                        \ncb014a456b14c3621dd318a12e611f70c2a9636be9fe181072bd4bf5917a40fa    National government|Public employment service|...\nd233b17dc2b98f14269c2b22be78d93ec5ccf2a0013b86f09175c69353c5800b          National government|Social partners jointly\n77d7e3c52aaf78bdfb1a1667641db1293bbff862440c547fc3f6e8ab4fbd0d4e                                  National government\nbe8e21b382b63dd838087d7864e4d49a4807d9cc5d71aaa82577383ece92c581                                  National government\nc434820f8f8c0b1447ba2f6f62aed177b9597532d7fcd156c6f556532dd7d11e                              Social partners jointly\nName: actors, Length: 1288, dtype: object"
     },
     "execution_count": 44,
     "metadata": {},
     "output_type": "execute_result"
    }
   ],
   "source": [
    "pwdb_dataframe['actors']"
   ],
   "metadata": {
    "collapsed": false,
    "pycharm": {
     "name": "#%%\n"
    }
   }
  },
  {
   "cell_type": "code",
   "execution_count": 20,
   "outputs": [
    {
     "data": {
      "text/plain": "array(['Company / Companies',\n       'Company / Companies|Local / regional government',\n       'Company / Companies|Local / regional government|Public employment service',\n       'Company / Companies|Other social actors (e.g. NGOs)',\n       'Company / Companies|Other social actors (e.g. NGOs)|Local / regional government',\n       'Company / Companies|Other social actors (e.g. NGOs)|Public support service providers',\n       'Company / Companies|Public employment service',\n       'Company / Companies|Public support service providers',\n       'Company / Companies|Social insurance', 'EU (Council, EC, EP)',\n       'EU level social partners', \"Employers' organisations\",\n       \"Employers' organisations|Company / Companies\",\n       \"Employers' organisations|Company / Companies|Local / regional government\",\n       \"Employers' organisations|Company / Companies|Other social actors (e.g. NGOs)\",\n       \"Employers' organisations|Company / Companies|Social insurance\",\n       \"Employers' organisations|Local / regional government\",\n       \"Employers' organisations|Local / regional government|Public support service providers\",\n       'Local / regional government',\n       'Local / regional government|Public employment service',\n       'National government', 'National government|Company / Companies',\n       'National government|Company / Companies|EU (Council, EC, EP)',\n       'National government|Company / Companies|Local / regional government',\n       'National government|Company / Companies|Local / regional government|EU (Council, EC, EP)',\n       'National government|Company / Companies|Local / regional government|Public employment service',\n       'National government|Company / Companies|Other social actors (e.g. NGOs)',\n       'National government|Company / Companies|Other social actors (e.g. NGOs)|Local / regional government',\n       'National government|Company / Companies|Other social actors (e.g. NGOs)|Local / regional government|Public employment service|Social insurance|Public support service providers',\n       'National government|Company / Companies|Public employment service',\n       'National government|Company / Companies|Public employment service|Social insurance',\n       'National government|Company / Companies|Public support service providers',\n       'National government|Company / Companies|Social insurance',\n       'National government|EU (Council, EC, EP)',\n       'National government|EU level social partners|EU (Council, EC, EP)',\n       \"National government|Employers' organisations\",\n       \"National government|Employers' organisations|Company / Companies\",\n       \"National government|Employers' organisations|Company / Companies|Other social actors (e.g. NGOs)|Local / regional government\",\n       \"National government|Employers' organisations|Company / Companies|Public support service providers\",\n       \"National government|Employers' organisations|Local / regional government\",\n       \"National government|Employers' organisations|Other social actors (e.g. NGOs)\",\n       \"National government|Employers' organisations|Public support service providers\",\n       \"National government|Employers' organisations|Social insurance\",\n       'National government|Local / regional government',\n       'National government|Local / regional government|EU (Council, EC, EP)',\n       'National government|Local / regional government|Public employment service',\n       'National government|Local / regional government|Public employment service|Social insurance|Public support service providers',\n       'National government|Local / regional government|Public support service providers',\n       'National government|Local / regional government|Social insurance',\n       'National government|Other social actors (e.g. NGOs)',\n       'National government|Other social actors (e.g. NGOs)|Local / regional government',\n       'National government|Other social actors (e.g. NGOs)|Local / regional government|Social insurance|Public support service providers',\n       'National government|Other social actors (e.g. NGOs)|Public employment service|Public support service providers',\n       'National government|Public employment service',\n       'National government|Public employment service|Public support service providers',\n       'National government|Public employment service|Social insurance',\n       'National government|Public support service providers',\n       'National government|Social insurance',\n       'National government|Social insurance|Public support service providers',\n       'National government|Social partners jointly',\n       'National government|Social partners jointly|Company / Companies',\n       'National government|Social partners jointly|Company / Companies|Public employment service',\n       'National government|Social partners jointly|Company / Companies|Public support service providers',\n       'National government|Social partners jointly|Company / Companies|Social insurance',\n       'National government|Social partners jointly|EU level social partners',\n       \"National government|Social partners jointly|Employers' organisations|Company / Companies|Public support service providers\",\n       'National government|Social partners jointly|Local / regional government',\n       'National government|Social partners jointly|Local / regional government|Public employment service|Social insurance',\n       'National government|Social partners jointly|Other social actors (e.g. NGOs)|Local / regional government',\n       'National government|Social partners jointly|Public employment service',\n       'National government|Social partners jointly|Public employment service|EU (Council, EC, EP)',\n       'National government|Social partners jointly|Public employment service|Social insurance',\n       'National government|Social partners jointly|Public support service providers',\n       'National government|Social partners jointly|Social insurance',\n       'National government|Social partners jointly|Trade unions',\n       'National government|Social partners jointly|Trade unions|Company / Companies',\n       'National government|Social partners jointly|Trade unions|Company / Companies|Social insurance',\n       \"National government|Social partners jointly|Trade unions|Employers' organisations\",\n       \"National government|Social partners jointly|Trade unions|Employers' organisations|Company / Companies\",\n       \"National government|Social partners jointly|Trade unions|Employers' organisations|Company / Companies|Local / regional government\",\n       \"National government|Social partners jointly|Trade unions|Employers' organisations|Company / Companies|Social insurance\",\n       \"National government|Social partners jointly|Trade unions|Employers' organisations|Public employment service|Public support service providers\",\n       \"National government|Social partners jointly|Trade unions|Employers' organisations|Social insurance\",\n       'National government|Social partners jointly|Trade unions|Public employment service',\n       'National government|Trade unions',\n       'National government|Trade unions|Company / Companies',\n       'National government|Trade unions|Company / Companies|Public employment service',\n       \"National government|Trade unions|Employers' organisations\",\n       \"National government|Trade unions|Employers' organisations|Company / Companies\",\n       \"National government|Trade unions|Employers' organisations|Company / Companies|EU (Council, EC, EP)\",\n       \"National government|Trade unions|Employers' organisations|Company / Companies|Other social actors (e.g. NGOs)|EU (Council, EC, EP)\",\n       \"National government|Trade unions|Employers' organisations|Company / Companies|Other social actors (e.g. NGOs)|Public employment service\",\n       \"National government|Trade unions|Employers' organisations|Company / Companies|Public employment service\",\n       \"National government|Trade unions|Employers' organisations|Company / Companies|Public support service providers\",\n       \"National government|Trade unions|Employers' organisations|Company / Companies|Social insurance\",\n       \"National government|Trade unions|Employers' organisations|Local / regional government|Public employment service|Public support service providers\",\n       \"National government|Trade unions|Employers' organisations|Other social actors (e.g. NGOs)|Local / regional government|Public employment service\",\n       \"National government|Trade unions|Employers' organisations|Other social actors (e.g. NGOs)|Local / regional government|Public support service providers\",\n       \"National government|Trade unions|Employers' organisations|Other social actors (e.g. NGOs)|Public employment service\",\n       \"National government|Trade unions|Employers' organisations|Public employment service\",\n       \"National government|Trade unions|Employers' organisations|Public employment service|Social insurance\",\n       \"National government|Trade unions|Employers' organisations|Public support service providers\",\n       \"National government|Trade unions|Employers' organisations|Social insurance\",\n       'National government|Trade unions|Local / regional government|Public employment service',\n       'National government|Trade unions|Other social actors (e.g. NGOs)',\n       'National government|Trade unions|Social insurance',\n       'Other social actors (e.g. NGOs)',\n       'Other social actors (e.g. NGOs)|Local / regional government|Public employment service',\n       'Other social actors (e.g. NGOs)|Public employment service',\n       'Public employment service', 'Public support service providers',\n       'Social insurance', 'Social partners jointly',\n       'Social partners jointly|Company / Companies',\n       'Social partners jointly|Company / Companies|Other social actors (e.g. NGOs)',\n       'Social partners jointly|Company / Companies|Public support service providers',\n       'Social partners jointly|Other social actors (e.g. NGOs)',\n       'Social partners jointly|Social insurance',\n       'Social partners jointly|Trade unions|Company / Companies',\n       \"Social partners jointly|Trade unions|Employers' organisations\",\n       \"Social partners jointly|Trade unions|Employers' organisations|Company / Companies\",\n       \"Social partners jointly|Trade unions|Employers' organisations|Local / regional government\",\n       'Trade unions', 'Trade unions|Company / Companies',\n       'Trade unions|Company / Companies|Social insurance',\n       \"Trade unions|Employers' organisations\",\n       \"Trade unions|Employers' organisations|Company / Companies\",\n       \"Trade unions|Employers' organisations|Company / Companies|Public employment service\",\n       \"Trade unions|Employers' organisations|Local / regional government\",\n       \"Trade unions|Employers' organisations|Other social actors (e.g. NGOs)\",\n       'Trade unions|Local / regional government|Public support service providers',\n       'Trade unions|Other social actors (e.g. NGOs)'], dtype=object)"
     },
     "execution_count": 20,
     "metadata": {},
     "output_type": "execute_result"
    }
   ],
   "source": [
    "le.classes_"
   ],
   "metadata": {
    "collapsed": false,
    "pycharm": {
     "name": "#%%\n"
    }
   }
  },
  {
   "cell_type": "code",
   "execution_count": 18,
   "outputs": [],
   "source": [
    "tmp_classes = pd.DataFrame(le.classes_)"
   ],
   "metadata": {
    "collapsed": false,
    "pycharm": {
     "name": "#%%\n"
    }
   }
  },
  {
   "cell_type": "code",
   "execution_count": 30,
   "outputs": [],
   "source": [
    "tmp_classes[0].values\n",
    "tmp_transformed = pd.DataFrame(le.transform(tmp_classes[0].values))"
   ],
   "metadata": {
    "collapsed": false,
    "pycharm": {
     "name": "#%%\n"
    }
   }
  },
  {
   "cell_type": "code",
   "execution_count": 33,
   "outputs": [],
   "source": [
    "tmp_transformed[1] = tmp_transformed[0].apply(lambda x: tmp_classes[0].values[x])"
   ],
   "metadata": {
    "collapsed": false,
    "pycharm": {
     "name": "#%%\n"
    }
   }
  },
  {
   "cell_type": "code",
   "execution_count": 34,
   "outputs": [
    {
     "data": {
      "text/plain": "       0                                                  1\n0      0                                Company / Companies\n1      1    Company / Companies|Local / regional government\n2      2  Company / Companies|Local / regional governmen...\n3      3  Company / Companies|Other social actors (e.g. ...\n4      4  Company / Companies|Other social actors (e.g. ...\n5      5  Company / Companies|Other social actors (e.g. ...\n6      6      Company / Companies|Public employment service\n7      7  Company / Companies|Public support service pro...\n8      8               Company / Companies|Social insurance\n9      9                               EU (Council, EC, EP)\n10    10                           EU level social partners\n11    11                           Employers' organisations\n12    12       Employers' organisations|Company / Companies\n13    13  Employers' organisations|Company / Companies|L...\n14    14  Employers' organisations|Company / Companies|O...\n15    15  Employers' organisations|Company / Companies|S...\n16    16  Employers' organisations|Local / regional gove...\n17    17  Employers' organisations|Local / regional gove...\n18    18                        Local / regional government\n19    19  Local / regional government|Public employment ...\n20    20                                National government\n21    21            National government|Company / Companies\n22    22  National government|Company / Companies|EU (Co...\n23    23  National government|Company / Companies|Local ...\n24    24  National government|Company / Companies|Local ...\n25    25  National government|Company / Companies|Local ...\n26    26  National government|Company / Companies|Other ...\n27    27  National government|Company / Companies|Other ...\n28    28  National government|Company / Companies|Other ...\n29    29  National government|Company / Companies|Public...\n30    30  National government|Company / Companies|Public...\n31    31  National government|Company / Companies|Public...\n32    32  National government|Company / Companies|Social...\n33    33           National government|EU (Council, EC, EP)\n34    34  National government|EU level social partners|E...\n35    35       National government|Employers' organisations\n36    36  National government|Employers' organisations|C...\n37    37  National government|Employers' organisations|C...\n38    38  National government|Employers' organisations|C...\n39    39  National government|Employers' organisations|L...\n40    40  National government|Employers' organisations|O...\n41    41  National government|Employers' organisations|P...\n42    42  National government|Employers' organisations|S...\n43    43    National government|Local / regional government\n44    44  National government|Local / regional governmen...\n45    45  National government|Local / regional governmen...\n46    46  National government|Local / regional governmen...\n47    47  National government|Local / regional governmen...\n48    48  National government|Local / regional governmen...\n49    49  National government|Other social actors (e.g. ...\n50    50  National government|Other social actors (e.g. ...\n51    51  National government|Other social actors (e.g. ...\n52    52  National government|Other social actors (e.g. ...\n53    53      National government|Public employment service\n54    54  National government|Public employment service|...\n55    55  National government|Public employment service|...\n56    56  National government|Public support service pro...\n57    57               National government|Social insurance\n58    58  National government|Social insurance|Public su...\n59    59        National government|Social partners jointly\n60    60  National government|Social partners jointly|Co...\n61    61  National government|Social partners jointly|Co...\n62    62  National government|Social partners jointly|Co...\n63    63  National government|Social partners jointly|Co...\n64    64  National government|Social partners jointly|EU...\n65    65  National government|Social partners jointly|Em...\n66    66  National government|Social partners jointly|Lo...\n67    67  National government|Social partners jointly|Lo...\n68    68  National government|Social partners jointly|Ot...\n69    69  National government|Social partners jointly|Pu...\n70    70  National government|Social partners jointly|Pu...\n71    71  National government|Social partners jointly|Pu...\n72    72  National government|Social partners jointly|Pu...\n73    73  National government|Social partners jointly|So...\n74    74  National government|Social partners jointly|Tr...\n75    75  National government|Social partners jointly|Tr...\n76    76  National government|Social partners jointly|Tr...\n77    77  National government|Social partners jointly|Tr...\n78    78  National government|Social partners jointly|Tr...\n79    79  National government|Social partners jointly|Tr...\n80    80  National government|Social partners jointly|Tr...\n81    81  National government|Social partners jointly|Tr...\n82    82  National government|Social partners jointly|Tr...\n83    83  National government|Social partners jointly|Tr...\n84    84                   National government|Trade unions\n85    85  National government|Trade unions|Company / Com...\n86    86  National government|Trade unions|Company / Com...\n87    87  National government|Trade unions|Employers' or...\n88    88  National government|Trade unions|Employers' or...\n89    89  National government|Trade unions|Employers' or...\n90    90  National government|Trade unions|Employers' or...\n91    91  National government|Trade unions|Employers' or...\n92    92  National government|Trade unions|Employers' or...\n93    93  National government|Trade unions|Employers' or...\n94    94  National government|Trade unions|Employers' or...\n95    95  National government|Trade unions|Employers' or...\n96    96  National government|Trade unions|Employers' or...\n97    97  National government|Trade unions|Employers' or...\n98    98  National government|Trade unions|Employers' or...\n99    99  National government|Trade unions|Employers' or...\n100  100  National government|Trade unions|Employers' or...\n101  101  National government|Trade unions|Employers' or...\n102  102  National government|Trade unions|Employers' or...\n103  103  National government|Trade unions|Local / regio...\n104  104  National government|Trade unions|Other social ...\n105  105  National government|Trade unions|Social insurance\n106  106                    Other social actors (e.g. NGOs)\n107  107  Other social actors (e.g. NGOs)|Local / region...\n108  108  Other social actors (e.g. NGOs)|Public employm...\n109  109                          Public employment service\n110  110                   Public support service providers\n111  111                                   Social insurance\n112  112                            Social partners jointly\n113  113        Social partners jointly|Company / Companies\n114  114  Social partners jointly|Company / Companies|Ot...\n115  115  Social partners jointly|Company / Companies|Pu...\n116  116  Social partners jointly|Other social actors (e...\n117  117           Social partners jointly|Social insurance\n118  118  Social partners jointly|Trade unions|Company /...\n119  119  Social partners jointly|Trade unions|Employers...\n120  120  Social partners jointly|Trade unions|Employers...\n121  121  Social partners jointly|Trade unions|Employers...\n122  122                                       Trade unions\n123  123                   Trade unions|Company / Companies\n124  124  Trade unions|Company / Companies|Social insurance\n125  125              Trade unions|Employers' organisations\n126  126  Trade unions|Employers' organisations|Company ...\n127  127  Trade unions|Employers' organisations|Company ...\n128  128  Trade unions|Employers' organisations|Local / ...\n129  129  Trade unions|Employers' organisations|Other so...\n130  130  Trade unions|Local / regional government|Publi...\n131  131       Trade unions|Other social actors (e.g. NGOs)",
      "text/html": "<div>\n<style scoped>\n    .dataframe tbody tr th:only-of-type {\n        vertical-align: middle;\n    }\n\n    .dataframe tbody tr th {\n        vertical-align: top;\n    }\n\n    .dataframe thead th {\n        text-align: right;\n    }\n</style>\n<table border=\"1\" class=\"dataframe\">\n  <thead>\n    <tr style=\"text-align: right;\">\n      <th></th>\n      <th>0</th>\n      <th>1</th>\n    </tr>\n  </thead>\n  <tbody>\n    <tr>\n      <th>0</th>\n      <td>0</td>\n      <td>Company / Companies</td>\n    </tr>\n    <tr>\n      <th>1</th>\n      <td>1</td>\n      <td>Company / Companies|Local / regional government</td>\n    </tr>\n    <tr>\n      <th>2</th>\n      <td>2</td>\n      <td>Company / Companies|Local / regional governmen...</td>\n    </tr>\n    <tr>\n      <th>3</th>\n      <td>3</td>\n      <td>Company / Companies|Other social actors (e.g. ...</td>\n    </tr>\n    <tr>\n      <th>4</th>\n      <td>4</td>\n      <td>Company / Companies|Other social actors (e.g. ...</td>\n    </tr>\n    <tr>\n      <th>5</th>\n      <td>5</td>\n      <td>Company / Companies|Other social actors (e.g. ...</td>\n    </tr>\n    <tr>\n      <th>6</th>\n      <td>6</td>\n      <td>Company / Companies|Public employment service</td>\n    </tr>\n    <tr>\n      <th>7</th>\n      <td>7</td>\n      <td>Company / Companies|Public support service pro...</td>\n    </tr>\n    <tr>\n      <th>8</th>\n      <td>8</td>\n      <td>Company / Companies|Social insurance</td>\n    </tr>\n    <tr>\n      <th>9</th>\n      <td>9</td>\n      <td>EU (Council, EC, EP)</td>\n    </tr>\n    <tr>\n      <th>10</th>\n      <td>10</td>\n      <td>EU level social partners</td>\n    </tr>\n    <tr>\n      <th>11</th>\n      <td>11</td>\n      <td>Employers' organisations</td>\n    </tr>\n    <tr>\n      <th>12</th>\n      <td>12</td>\n      <td>Employers' organisations|Company / Companies</td>\n    </tr>\n    <tr>\n      <th>13</th>\n      <td>13</td>\n      <td>Employers' organisations|Company / Companies|L...</td>\n    </tr>\n    <tr>\n      <th>14</th>\n      <td>14</td>\n      <td>Employers' organisations|Company / Companies|O...</td>\n    </tr>\n    <tr>\n      <th>15</th>\n      <td>15</td>\n      <td>Employers' organisations|Company / Companies|S...</td>\n    </tr>\n    <tr>\n      <th>16</th>\n      <td>16</td>\n      <td>Employers' organisations|Local / regional gove...</td>\n    </tr>\n    <tr>\n      <th>17</th>\n      <td>17</td>\n      <td>Employers' organisations|Local / regional gove...</td>\n    </tr>\n    <tr>\n      <th>18</th>\n      <td>18</td>\n      <td>Local / regional government</td>\n    </tr>\n    <tr>\n      <th>19</th>\n      <td>19</td>\n      <td>Local / regional government|Public employment ...</td>\n    </tr>\n    <tr>\n      <th>20</th>\n      <td>20</td>\n      <td>National government</td>\n    </tr>\n    <tr>\n      <th>21</th>\n      <td>21</td>\n      <td>National government|Company / Companies</td>\n    </tr>\n    <tr>\n      <th>22</th>\n      <td>22</td>\n      <td>National government|Company / Companies|EU (Co...</td>\n    </tr>\n    <tr>\n      <th>23</th>\n      <td>23</td>\n      <td>National government|Company / Companies|Local ...</td>\n    </tr>\n    <tr>\n      <th>24</th>\n      <td>24</td>\n      <td>National government|Company / Companies|Local ...</td>\n    </tr>\n    <tr>\n      <th>25</th>\n      <td>25</td>\n      <td>National government|Company / Companies|Local ...</td>\n    </tr>\n    <tr>\n      <th>26</th>\n      <td>26</td>\n      <td>National government|Company / Companies|Other ...</td>\n    </tr>\n    <tr>\n      <th>27</th>\n      <td>27</td>\n      <td>National government|Company / Companies|Other ...</td>\n    </tr>\n    <tr>\n      <th>28</th>\n      <td>28</td>\n      <td>National government|Company / Companies|Other ...</td>\n    </tr>\n    <tr>\n      <th>29</th>\n      <td>29</td>\n      <td>National government|Company / Companies|Public...</td>\n    </tr>\n    <tr>\n      <th>30</th>\n      <td>30</td>\n      <td>National government|Company / Companies|Public...</td>\n    </tr>\n    <tr>\n      <th>31</th>\n      <td>31</td>\n      <td>National government|Company / Companies|Public...</td>\n    </tr>\n    <tr>\n      <th>32</th>\n      <td>32</td>\n      <td>National government|Company / Companies|Social...</td>\n    </tr>\n    <tr>\n      <th>33</th>\n      <td>33</td>\n      <td>National government|EU (Council, EC, EP)</td>\n    </tr>\n    <tr>\n      <th>34</th>\n      <td>34</td>\n      <td>National government|EU level social partners|E...</td>\n    </tr>\n    <tr>\n      <th>35</th>\n      <td>35</td>\n      <td>National government|Employers' organisations</td>\n    </tr>\n    <tr>\n      <th>36</th>\n      <td>36</td>\n      <td>National government|Employers' organisations|C...</td>\n    </tr>\n    <tr>\n      <th>37</th>\n      <td>37</td>\n      <td>National government|Employers' organisations|C...</td>\n    </tr>\n    <tr>\n      <th>38</th>\n      <td>38</td>\n      <td>National government|Employers' organisations|C...</td>\n    </tr>\n    <tr>\n      <th>39</th>\n      <td>39</td>\n      <td>National government|Employers' organisations|L...</td>\n    </tr>\n    <tr>\n      <th>40</th>\n      <td>40</td>\n      <td>National government|Employers' organisations|O...</td>\n    </tr>\n    <tr>\n      <th>41</th>\n      <td>41</td>\n      <td>National government|Employers' organisations|P...</td>\n    </tr>\n    <tr>\n      <th>42</th>\n      <td>42</td>\n      <td>National government|Employers' organisations|S...</td>\n    </tr>\n    <tr>\n      <th>43</th>\n      <td>43</td>\n      <td>National government|Local / regional government</td>\n    </tr>\n    <tr>\n      <th>44</th>\n      <td>44</td>\n      <td>National government|Local / regional governmen...</td>\n    </tr>\n    <tr>\n      <th>45</th>\n      <td>45</td>\n      <td>National government|Local / regional governmen...</td>\n    </tr>\n    <tr>\n      <th>46</th>\n      <td>46</td>\n      <td>National government|Local / regional governmen...</td>\n    </tr>\n    <tr>\n      <th>47</th>\n      <td>47</td>\n      <td>National government|Local / regional governmen...</td>\n    </tr>\n    <tr>\n      <th>48</th>\n      <td>48</td>\n      <td>National government|Local / regional governmen...</td>\n    </tr>\n    <tr>\n      <th>49</th>\n      <td>49</td>\n      <td>National government|Other social actors (e.g. ...</td>\n    </tr>\n    <tr>\n      <th>50</th>\n      <td>50</td>\n      <td>National government|Other social actors (e.g. ...</td>\n    </tr>\n    <tr>\n      <th>51</th>\n      <td>51</td>\n      <td>National government|Other social actors (e.g. ...</td>\n    </tr>\n    <tr>\n      <th>52</th>\n      <td>52</td>\n      <td>National government|Other social actors (e.g. ...</td>\n    </tr>\n    <tr>\n      <th>53</th>\n      <td>53</td>\n      <td>National government|Public employment service</td>\n    </tr>\n    <tr>\n      <th>54</th>\n      <td>54</td>\n      <td>National government|Public employment service|...</td>\n    </tr>\n    <tr>\n      <th>55</th>\n      <td>55</td>\n      <td>National government|Public employment service|...</td>\n    </tr>\n    <tr>\n      <th>56</th>\n      <td>56</td>\n      <td>National government|Public support service pro...</td>\n    </tr>\n    <tr>\n      <th>57</th>\n      <td>57</td>\n      <td>National government|Social insurance</td>\n    </tr>\n    <tr>\n      <th>58</th>\n      <td>58</td>\n      <td>National government|Social insurance|Public su...</td>\n    </tr>\n    <tr>\n      <th>59</th>\n      <td>59</td>\n      <td>National government|Social partners jointly</td>\n    </tr>\n    <tr>\n      <th>60</th>\n      <td>60</td>\n      <td>National government|Social partners jointly|Co...</td>\n    </tr>\n    <tr>\n      <th>61</th>\n      <td>61</td>\n      <td>National government|Social partners jointly|Co...</td>\n    </tr>\n    <tr>\n      <th>62</th>\n      <td>62</td>\n      <td>National government|Social partners jointly|Co...</td>\n    </tr>\n    <tr>\n      <th>63</th>\n      <td>63</td>\n      <td>National government|Social partners jointly|Co...</td>\n    </tr>\n    <tr>\n      <th>64</th>\n      <td>64</td>\n      <td>National government|Social partners jointly|EU...</td>\n    </tr>\n    <tr>\n      <th>65</th>\n      <td>65</td>\n      <td>National government|Social partners jointly|Em...</td>\n    </tr>\n    <tr>\n      <th>66</th>\n      <td>66</td>\n      <td>National government|Social partners jointly|Lo...</td>\n    </tr>\n    <tr>\n      <th>67</th>\n      <td>67</td>\n      <td>National government|Social partners jointly|Lo...</td>\n    </tr>\n    <tr>\n      <th>68</th>\n      <td>68</td>\n      <td>National government|Social partners jointly|Ot...</td>\n    </tr>\n    <tr>\n      <th>69</th>\n      <td>69</td>\n      <td>National government|Social partners jointly|Pu...</td>\n    </tr>\n    <tr>\n      <th>70</th>\n      <td>70</td>\n      <td>National government|Social partners jointly|Pu...</td>\n    </tr>\n    <tr>\n      <th>71</th>\n      <td>71</td>\n      <td>National government|Social partners jointly|Pu...</td>\n    </tr>\n    <tr>\n      <th>72</th>\n      <td>72</td>\n      <td>National government|Social partners jointly|Pu...</td>\n    </tr>\n    <tr>\n      <th>73</th>\n      <td>73</td>\n      <td>National government|Social partners jointly|So...</td>\n    </tr>\n    <tr>\n      <th>74</th>\n      <td>74</td>\n      <td>National government|Social partners jointly|Tr...</td>\n    </tr>\n    <tr>\n      <th>75</th>\n      <td>75</td>\n      <td>National government|Social partners jointly|Tr...</td>\n    </tr>\n    <tr>\n      <th>76</th>\n      <td>76</td>\n      <td>National government|Social partners jointly|Tr...</td>\n    </tr>\n    <tr>\n      <th>77</th>\n      <td>77</td>\n      <td>National government|Social partners jointly|Tr...</td>\n    </tr>\n    <tr>\n      <th>78</th>\n      <td>78</td>\n      <td>National government|Social partners jointly|Tr...</td>\n    </tr>\n    <tr>\n      <th>79</th>\n      <td>79</td>\n      <td>National government|Social partners jointly|Tr...</td>\n    </tr>\n    <tr>\n      <th>80</th>\n      <td>80</td>\n      <td>National government|Social partners jointly|Tr...</td>\n    </tr>\n    <tr>\n      <th>81</th>\n      <td>81</td>\n      <td>National government|Social partners jointly|Tr...</td>\n    </tr>\n    <tr>\n      <th>82</th>\n      <td>82</td>\n      <td>National government|Social partners jointly|Tr...</td>\n    </tr>\n    <tr>\n      <th>83</th>\n      <td>83</td>\n      <td>National government|Social partners jointly|Tr...</td>\n    </tr>\n    <tr>\n      <th>84</th>\n      <td>84</td>\n      <td>National government|Trade unions</td>\n    </tr>\n    <tr>\n      <th>85</th>\n      <td>85</td>\n      <td>National government|Trade unions|Company / Com...</td>\n    </tr>\n    <tr>\n      <th>86</th>\n      <td>86</td>\n      <td>National government|Trade unions|Company / Com...</td>\n    </tr>\n    <tr>\n      <th>87</th>\n      <td>87</td>\n      <td>National government|Trade unions|Employers' or...</td>\n    </tr>\n    <tr>\n      <th>88</th>\n      <td>88</td>\n      <td>National government|Trade unions|Employers' or...</td>\n    </tr>\n    <tr>\n      <th>89</th>\n      <td>89</td>\n      <td>National government|Trade unions|Employers' or...</td>\n    </tr>\n    <tr>\n      <th>90</th>\n      <td>90</td>\n      <td>National government|Trade unions|Employers' or...</td>\n    </tr>\n    <tr>\n      <th>91</th>\n      <td>91</td>\n      <td>National government|Trade unions|Employers' or...</td>\n    </tr>\n    <tr>\n      <th>92</th>\n      <td>92</td>\n      <td>National government|Trade unions|Employers' or...</td>\n    </tr>\n    <tr>\n      <th>93</th>\n      <td>93</td>\n      <td>National government|Trade unions|Employers' or...</td>\n    </tr>\n    <tr>\n      <th>94</th>\n      <td>94</td>\n      <td>National government|Trade unions|Employers' or...</td>\n    </tr>\n    <tr>\n      <th>95</th>\n      <td>95</td>\n      <td>National government|Trade unions|Employers' or...</td>\n    </tr>\n    <tr>\n      <th>96</th>\n      <td>96</td>\n      <td>National government|Trade unions|Employers' or...</td>\n    </tr>\n    <tr>\n      <th>97</th>\n      <td>97</td>\n      <td>National government|Trade unions|Employers' or...</td>\n    </tr>\n    <tr>\n      <th>98</th>\n      <td>98</td>\n      <td>National government|Trade unions|Employers' or...</td>\n    </tr>\n    <tr>\n      <th>99</th>\n      <td>99</td>\n      <td>National government|Trade unions|Employers' or...</td>\n    </tr>\n    <tr>\n      <th>100</th>\n      <td>100</td>\n      <td>National government|Trade unions|Employers' or...</td>\n    </tr>\n    <tr>\n      <th>101</th>\n      <td>101</td>\n      <td>National government|Trade unions|Employers' or...</td>\n    </tr>\n    <tr>\n      <th>102</th>\n      <td>102</td>\n      <td>National government|Trade unions|Employers' or...</td>\n    </tr>\n    <tr>\n      <th>103</th>\n      <td>103</td>\n      <td>National government|Trade unions|Local / regio...</td>\n    </tr>\n    <tr>\n      <th>104</th>\n      <td>104</td>\n      <td>National government|Trade unions|Other social ...</td>\n    </tr>\n    <tr>\n      <th>105</th>\n      <td>105</td>\n      <td>National government|Trade unions|Social insurance</td>\n    </tr>\n    <tr>\n      <th>106</th>\n      <td>106</td>\n      <td>Other social actors (e.g. NGOs)</td>\n    </tr>\n    <tr>\n      <th>107</th>\n      <td>107</td>\n      <td>Other social actors (e.g. NGOs)|Local / region...</td>\n    </tr>\n    <tr>\n      <th>108</th>\n      <td>108</td>\n      <td>Other social actors (e.g. NGOs)|Public employm...</td>\n    </tr>\n    <tr>\n      <th>109</th>\n      <td>109</td>\n      <td>Public employment service</td>\n    </tr>\n    <tr>\n      <th>110</th>\n      <td>110</td>\n      <td>Public support service providers</td>\n    </tr>\n    <tr>\n      <th>111</th>\n      <td>111</td>\n      <td>Social insurance</td>\n    </tr>\n    <tr>\n      <th>112</th>\n      <td>112</td>\n      <td>Social partners jointly</td>\n    </tr>\n    <tr>\n      <th>113</th>\n      <td>113</td>\n      <td>Social partners jointly|Company / Companies</td>\n    </tr>\n    <tr>\n      <th>114</th>\n      <td>114</td>\n      <td>Social partners jointly|Company / Companies|Ot...</td>\n    </tr>\n    <tr>\n      <th>115</th>\n      <td>115</td>\n      <td>Social partners jointly|Company / Companies|Pu...</td>\n    </tr>\n    <tr>\n      <th>116</th>\n      <td>116</td>\n      <td>Social partners jointly|Other social actors (e...</td>\n    </tr>\n    <tr>\n      <th>117</th>\n      <td>117</td>\n      <td>Social partners jointly|Social insurance</td>\n    </tr>\n    <tr>\n      <th>118</th>\n      <td>118</td>\n      <td>Social partners jointly|Trade unions|Company /...</td>\n    </tr>\n    <tr>\n      <th>119</th>\n      <td>119</td>\n      <td>Social partners jointly|Trade unions|Employers...</td>\n    </tr>\n    <tr>\n      <th>120</th>\n      <td>120</td>\n      <td>Social partners jointly|Trade unions|Employers...</td>\n    </tr>\n    <tr>\n      <th>121</th>\n      <td>121</td>\n      <td>Social partners jointly|Trade unions|Employers...</td>\n    </tr>\n    <tr>\n      <th>122</th>\n      <td>122</td>\n      <td>Trade unions</td>\n    </tr>\n    <tr>\n      <th>123</th>\n      <td>123</td>\n      <td>Trade unions|Company / Companies</td>\n    </tr>\n    <tr>\n      <th>124</th>\n      <td>124</td>\n      <td>Trade unions|Company / Companies|Social insurance</td>\n    </tr>\n    <tr>\n      <th>125</th>\n      <td>125</td>\n      <td>Trade unions|Employers' organisations</td>\n    </tr>\n    <tr>\n      <th>126</th>\n      <td>126</td>\n      <td>Trade unions|Employers' organisations|Company ...</td>\n    </tr>\n    <tr>\n      <th>127</th>\n      <td>127</td>\n      <td>Trade unions|Employers' organisations|Company ...</td>\n    </tr>\n    <tr>\n      <th>128</th>\n      <td>128</td>\n      <td>Trade unions|Employers' organisations|Local / ...</td>\n    </tr>\n    <tr>\n      <th>129</th>\n      <td>129</td>\n      <td>Trade unions|Employers' organisations|Other so...</td>\n    </tr>\n    <tr>\n      <th>130</th>\n      <td>130</td>\n      <td>Trade unions|Local / regional government|Publi...</td>\n    </tr>\n    <tr>\n      <th>131</th>\n      <td>131</td>\n      <td>Trade unions|Other social actors (e.g. NGOs)</td>\n    </tr>\n  </tbody>\n</table>\n</div>"
     },
     "execution_count": 34,
     "metadata": {},
     "output_type": "execute_result"
    }
   ],
   "source": [
    "tmp_transformed"
   ],
   "metadata": {
    "collapsed": false,
    "pycharm": {
     "name": "#%%\n"
    }
   }
  },
  {
   "cell_type": "code",
   "execution_count": null,
   "outputs": [],
   "source": [
    "for column in SIMPLE_CLASS_COLUMNS:\n",
    "    le = preprocessing.LabelEncoder()\n",
    "    le.fit(pwdb_dataframe[column])\n",
    "    pwdb_dataframe[column + '_label'] = le.transform(pwdb_dataframe[column])"
   ],
   "metadata": {
    "collapsed": false,
    "pycharm": {
     "name": "#%%\n"
    }
   }
  }
 ],
 "metadata": {
  "kernelspec": {
   "display_name": "Python 3",
   "language": "python",
   "name": "python3"
  },
  "language_info": {
   "codemirror_mode": {
    "name": "ipython",
    "version": 2
   },
   "file_extension": ".py",
   "mimetype": "text/x-python",
   "name": "python",
   "nbconvert_exporter": "python",
   "pygments_lexer": "ipython2",
   "version": "2.7.6"
  }
 },
 "nbformat": 4,
 "nbformat_minor": 0
}