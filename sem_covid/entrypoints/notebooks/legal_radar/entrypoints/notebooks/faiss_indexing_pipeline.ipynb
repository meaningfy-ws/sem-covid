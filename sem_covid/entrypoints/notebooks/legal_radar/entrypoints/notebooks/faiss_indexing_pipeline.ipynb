{
 "cells": [
  {
   "cell_type": "markdown",
   "source": [
    "## Import libraries"
   ],
   "metadata": {
    "collapsed": false,
    "pycharm": {
     "name": "#%% md\n"
    }
   }
  },
  {
   "cell_type": "code",
   "execution_count": 5,
   "metadata": {
    "collapsed": true
   },
   "outputs": [],
   "source": [
    "import sys\n",
    "\n",
    "sys.path.append(\"/home/jovyan/work/sem-covid/\")\n",
    "sys.path = list(set(sys.path))\n",
    "import os\n",
    "\n",
    "os.getcwd()\n",
    "os.chdir('/home/jovyan/work/sem-covid/')\n",
    "\n",
    "from sem_covid.entrypoints.notebooks.legal_radar.services.faiss_indexing_pipeline import FaissIndexingPipeline\n",
    "from sem_covid.services.store_registry import store_registry\n",
    "from sem_covid.entrypoints.notebooks.legal_radar.services.split_documents_pipeline import TEXT_PIECE_EMBEDDING"
   ]
  },
  {
   "cell_type": "markdown",
   "source": [
    "## Define constants"
   ],
   "metadata": {
    "collapsed": false,
    "pycharm": {
     "name": "#%% md\n"
    }
   }
  },
  {
   "cell_type": "code",
   "execution_count": 5,
   "outputs": [],
   "source": [
    "FAISS_BUCKET_NAME = 'faiss-index'\n",
    "FAISS_INDEX_FINREG_NAME  = 'faiss_index_finreg.pkl'\n",
    "FIN_REG_SPLITTED_ES_INDEX = 'ds_finreg_splitted'"
   ],
   "metadata": {
    "collapsed": false,
    "pycharm": {
     "name": "#%%\n"
    }
   }
  },
  {
   "cell_type": "markdown",
   "source": [
    "## Initialize faiss indexing pipeline"
   ],
   "metadata": {
    "collapsed": false,
    "pycharm": {
     "name": "#%% md\n"
    }
   }
  },
  {
   "cell_type": "code",
   "execution_count": 6,
   "outputs": [],
   "source": [
    "faiss_indexing_pipeline = FaissIndexingPipeline(es_index_name=FIN_REG_SPLITTED_ES_INDEX,\n",
    "                                                embedding_column_name=TEXT_PIECE_EMBEDDING,\n",
    "                                                result_bucket_name=FAISS_BUCKET_NAME,\n",
    "                                                result_faiss_index_name=FAISS_INDEX_FINREG_NAME,\n",
    "                                                store_registry=store_registry)"
   ],
   "metadata": {
    "collapsed": false,
    "pycharm": {
     "name": "#%%\n"
    }
   }
  },
  {
   "cell_type": "markdown",
   "source": [
    "## Execute faiss indexing pipeline"
   ],
   "metadata": {
    "collapsed": false,
    "pycharm": {
     "name": "#%% md\n"
    }
   }
  },
  {
   "cell_type": "code",
   "execution_count": 7,
   "outputs": [
    {
     "name": "stderr",
     "output_type": "stream",
     "text": [
      "100% (69866 of 69866) |##################| Elapsed Time: 0:00:24 Time:  0:00:24\n"
     ]
    }
   ],
   "source": [
    "faiss_indexing_pipeline.execute()\n"
   ],
   "metadata": {
    "collapsed": false,
    "pycharm": {
     "name": "#%%\n"
    }
   }
  }
 ],
 "metadata": {
  "kernelspec": {
   "display_name": "Python 3",
   "language": "python",
   "name": "python3"
  },
  "language_info": {
   "codemirror_mode": {
    "name": "ipython",
    "version": 2
   },
   "file_extension": ".py",
   "mimetype": "text/x-python",
   "name": "python",
   "nbconvert_exporter": "python",
   "pygments_lexer": "ipython2",
   "version": "2.7.6"
  }
 },
 "nbformat": 4,
 "nbformat_minor": 0
}