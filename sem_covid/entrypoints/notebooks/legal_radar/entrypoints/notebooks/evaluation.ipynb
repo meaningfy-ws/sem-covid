{
 "cells": [
  {
   "cell_type": "code",
   "execution_count": 1,
   "metadata": {
    "collapsed": true
   },
   "outputs": [],
   "source": [
    "import sys\n",
    "sys.path.append(\"/home/jovyan/work/sem-covid/\")\n",
    "sys.path = list(set(sys.path))\n",
    "import os\n",
    "\n",
    "os.getcwd()\n",
    "os.chdir('/home/jovyan/work/sem-covid/')\n",
    "\n",
    "import faiss\n",
    "import pickle\n",
    "import pandas as pd\n",
    "import numpy as np\n",
    "\n",
    "from sem_covid.entrypoints.notebooks.legal_radar.services.split_documents_pipeline import DOCUMENT_ID_SOURCE\n",
    "from sem_covid.services.store_registry import store_registry\n",
    "from sem_covid.services.model_registry import embedding_registry\n",
    "from sem_covid import config\n",
    "from sem_covid.services.sc_wrangling.feature_selector import reduce_array_column"
   ]
  },
  {
   "cell_type": "code",
   "execution_count": 2,
   "outputs": [],
   "source": [
    "FAISS_BUCKET_NAME = 'faiss-index'\n",
    "FAISS_INDEX_FINREG_NAME = 'faiss_index_finreg.pkl'\n",
    "FIN_REG_SPLITTED_ES_INDEX = 'ds_finreg_splitted'\n",
    "DATES_DOCUMENT = 'dates_document'\n",
    "HTML_LINKS = 'htmls_to_download'\n",
    "DEFAULT_SEARCH = \"\"\"The Semantic Interoperability Community develops solutions to help European public administrations perform seamless and meaningful cross-border and cross-domain data exchanges.\"\"\"\n",
    "TEXT_PIECE = 'text_piece'"
   ],
   "metadata": {
    "collapsed": false,
    "pycharm": {
     "name": "#%%\n"
    }
   }
  },
  {
   "cell_type": "code",
   "execution_count": 3,
   "outputs": [],
   "source": [
    "def load_documents():\n",
    "    \"\"\"Read the data from ES.\"\"\"\n",
    "    es_store = store_registry.es_index_store()\n",
    "    df = es_store.get_dataframe(index_name=config.EU_FINREG_CELLAR_ELASTIC_SEARCH_INDEX_NAME)\n",
    "    df[DATES_DOCUMENT] = pd.to_datetime(df[DATES_DOCUMENT]).dt.date\n",
    "    return df\n",
    "\n",
    "def load_splitted_documents():\n",
    "    \"\"\"Read the data from ES.\"\"\"\n",
    "    es_store = store_registry.es_index_store()\n",
    "    return es_store.get_dataframe(index_name=FIN_REG_SPLITTED_ES_INDEX)\n",
    "\n",
    "def load_emb_model():\n",
    "    return embedding_registry.sent2vec_universal_sent_encoding()\n",
    "\n",
    "def load_faiss_index():\n",
    "    \"\"\"Load and deserialize the Faiss index.\"\"\"\n",
    "    minio_store = store_registry.minio_object_store(minio_bucket=FAISS_BUCKET_NAME)\n",
    "    data = pickle.loads(minio_store.get_object(object_name=FAISS_INDEX_FINREG_NAME))\n",
    "    return faiss.deserialize_index(data)\n",
    "\n",
    "\n",
    "def main(user_input: str):\n",
    "    documents = load_documents()\n",
    "    splitted_documents = load_splitted_documents()\n",
    "    model = load_emb_model()\n",
    "    faiss_index = load_faiss_index()\n",
    "    num_results = 100\n",
    "    embeddings = model.encode(sentences=[user_input])\n",
    "    D, I = faiss_index.search(np.array(embeddings).astype(\"float32\"), k=num_results)\n",
    "    document_parts = pd.DataFrame(splitted_documents.iloc[I.flatten().tolist()])\n",
    "    document_parts['similarity'] = pd.Series(D.flatten().tolist()).values\n",
    "    document_parts = document_parts.drop_duplicates(DOCUMENT_ID_SOURCE).reset_index(drop=True)\n",
    "    documents_id = document_parts[DOCUMENT_ID_SOURCE].values\n",
    "    result_documents = pd.DataFrame(documents.loc[documents_id]).reset_index(drop=True)\n",
    "    result_documents['similarity'] = document_parts['similarity']\n",
    "    return result_documents"
   ],
   "metadata": {
    "collapsed": false,
    "pycharm": {
     "name": "#%%\n"
    }
   }
  },
  {
   "cell_type": "code",
   "execution_count": 4,
   "outputs": [],
   "source": [
    "# documents, celex number and url reference from sample question file\n",
    "sample_questions = pd.read_csv('sem_covid/entrypoints/notebooks/legal_radar/docs/sample_questions_v4.csv').dropna()"
   ],
   "metadata": {
    "collapsed": false,
    "pycharm": {
     "name": "#%%\n"
    }
   }
  },
  {
   "cell_type": "code",
   "execution_count": 20,
   "outputs": [],
   "source": [
    "def execution_verification(dataset: pd.DataFrame, source_documents_column: str, celex_number_column: str):\n",
    "    \"\"\"\n",
    "        This function helps us to compare the celex id from our source and legal radar semantic search.\n",
    "        Inserting source document text and his celex number, checks if each document is found in the first\n",
    "        10 results.\n",
    "    Args:\n",
    "        dataset: dataframe with required source document and his celex number\n",
    "        source_documents_column: dataframe's source document column name\n",
    "        celex_number_column: dataframe's celex number column name\n",
    "\n",
    "    Returns: the name of inserted document and how much results that are having their celex number.\n",
    "    \"\"\"\n",
    "    results = []\n",
    "\n",
    "    for (source_document, celex_number) in zip(set(dataset[source_documents_column]), set(dataset[celex_number_column])):\n",
    "        executed_search_engine = main(source_document)\n",
    "        reduced_execution = reduce_array_column(executed_search_engine, 'celex_numbers').reset_index(drop=True)\n",
    "        sum_celex_number_found = reduced_execution['celex_numbers'].isin([celex_number])\n",
    "        index = reduced_execution[sum_celex_number_found].index.to_list()\n",
    "\n",
    "        results.append(\n",
    "            {\n",
    "                'document': source_document,\n",
    "                'index': index,\n",
    "                'sum_of_values': sum_celex_number_found.sum(),\n",
    "                \"similarity_percentage\": reduced_execution['similarity'].loc[index].to_list()\n",
    "            }\n",
    "        )\n",
    "\n",
    "    return pd.DataFrame(results)"
   ],
   "metadata": {
    "collapsed": false,
    "pycharm": {
     "name": "#%%\n"
    }
   }
  },
  {
   "cell_type": "code",
   "execution_count": null,
   "outputs": [
    {
     "name": "stderr",
     "output_type": "stream",
     "text": [
      "100% (5791 of 5791) |####################| Elapsed Time: 0:00:04 Time:  0:00:04\n",
      "100% (69866 of 69866) |##################| Elapsed Time: 0:00:24 Time:  0:00:24\n",
      "100% (5791 of 5791) |####################| Elapsed Time: 0:00:04 Time:  0:00:04\n",
      "100% (69866 of 69866) |##################| Elapsed Time: 0:00:24 Time:  0:00:24\n",
      "100% (5791 of 5791) |####################| Elapsed Time: 0:00:04 Time:  0:00:04\n",
      "100% (69866 of 69866) |##################| Elapsed Time: 0:00:24 Time:  0:00:24\n",
      "100% (5791 of 5791) |####################| Elapsed Time: 0:00:04 Time:  0:00:04\n",
      "100% (69866 of 69866) |##################| Elapsed Time: 0:00:24 Time:  0:00:24\n",
      "100% (5791 of 5791) |####################| Elapsed Time: 0:00:04 Time:  0:00:04\n",
      "100% (69866 of 69866) |##################| Elapsed Time: 0:00:24 Time:  0:00:24\n",
      "100% (5791 of 5791) |####################| Elapsed Time: 0:00:04 Time:  0:00:04\n",
      "100% (69866 of 69866) |##################| Elapsed Time: 0:00:24 Time:  0:00:24\n",
      "100% (5791 of 5791) |####################| Elapsed Time: 0:00:04 Time:  0:00:04\n",
      "100% (69866 of 69866) |##################| Elapsed Time: 0:00:24 Time:  0:00:24\n",
      "100% (5791 of 5791) |####################| Elapsed Time: 0:00:04 Time:  0:00:04\n",
      "100% (69866 of 69866) |##################| Elapsed Time: 0:00:24 Time:  0:00:24\n",
      "100% (5791 of 5791) |####################| Elapsed Time: 0:00:04 Time:  0:00:04\n",
      "100% (69866 of 69866) |##################| Elapsed Time: 0:00:24 Time:  0:00:24\n",
      "100% (5791 of 5791) |####################| Elapsed Time: 0:00:04 Time:  0:00:04\n",
      "100% (69866 of 69866) |##################| Elapsed Time: 0:00:24 Time:  0:00:24\n",
      "100% (5791 of 5791) |####################| Elapsed Time: 0:00:04 Time:  0:00:04\n",
      " 80% (56000 of 69866) |##############    | Elapsed Time: 0:00:19 ETA:   0:00:04"
     ]
    }
   ],
   "source": [
    "result = execution_verification(sample_questions, 'Source Document', 'Celex No')"
   ],
   "metadata": {
    "collapsed": false,
    "pycharm": {
     "name": "#%%\n",
     "is_executing": true
    }
   }
  },
  {
   "cell_type": "markdown",
   "source": [
    "How this execution function works:\n",
    "    * It requires the dataset with columns of source documents and their celex number,\n",
    "    gets each document and add it into the main function ( which is execution function ).\n",
    "\n",
    "    * Using reduce_array_column() it drops the list type from celex number generated column and\n",
    "    compares if celex numbers from executed search dataframe are equals with number of inserted document\n",
    "    and checks with each generated result from dataframe.\n",
    "\n",
    "    * Depending on the sum of celex numbers, it gets their IDs and similarity percentage.\n",
    "\n",
    "Below dataframe is the result of test function with input of sample_questions_v4 csv file and its\n",
    "source documents with theirs celex numbers.\n",
    "\n",
    "After each inserted document it found a few values with the same celex numbers with\n",
    "similarity percentage more than Q3.\n"
   ],
   "metadata": {
    "collapsed": false,
    "pycharm": {
     "name": "#%% md\n"
    }
   }
  },
  {
   "cell_type": "code",
   "execution_count": null,
   "outputs": [],
   "source": [
    "result"
   ],
   "metadata": {
    "collapsed": false,
    "pycharm": {
     "name": "#%%\n",
     "is_executing": true
    }
   }
  },
  {
   "cell_type": "code",
   "execution_count": null,
   "outputs": [],
   "source": [],
   "metadata": {
    "collapsed": false,
    "pycharm": {
     "name": "#%%\n"
    }
   }
  }
 ],
 "metadata": {
  "kernelspec": {
   "display_name": "Python 3",
   "language": "python",
   "name": "python3"
  },
  "language_info": {
   "codemirror_mode": {
    "name": "ipython",
    "version": 2
   },
   "file_extension": ".py",
   "mimetype": "text/x-python",
   "name": "python",
   "nbconvert_exporter": "python",
   "pygments_lexer": "ipython2",
   "version": "2.7.6"
  }
 },
 "nbformat": 4,
 "nbformat_minor": 0
}