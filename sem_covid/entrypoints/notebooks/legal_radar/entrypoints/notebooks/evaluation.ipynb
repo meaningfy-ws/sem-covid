{
 "cells": [
  {
   "cell_type": "code",
   "execution_count": 160,
   "metadata": {
    "collapsed": true
   },
   "outputs": [],
   "source": [
    "import sys\n",
    "sys.path.append(\"/home/jovyan/work/sem-covid/\")\n",
    "sys.path = list(set(sys.path))\n",
    "import os\n",
    "\n",
    "os.getcwd()\n",
    "os.chdir('/home/jovyan/work/sem-covid/')\n",
    "\n",
    "import faiss\n",
    "import pickle\n",
    "import pandas as pd\n",
    "import numpy as np\n",
    "\n",
    "from sem_covid.entrypoints.notebooks.legal_radar.services.split_documents_pipeline import DOCUMENT_ID_SOURCE\n",
    "from sem_covid.services.store_registry import store_registry\n",
    "from sem_covid.services.model_registry import embedding_registry\n",
    "from sem_covid import config\n",
    "from sem_covid.services.sc_wrangling.feature_selector import reduce_array_column"
   ]
  },
  {
   "cell_type": "code",
   "execution_count": 132,
   "outputs": [],
   "source": [
    "FAISS_BUCKET_NAME = 'faiss-index'\n",
    "FAISS_INDEX_FINREG_NAME = 'faiss_index_finreg.pkl'\n",
    "FIN_REG_SPLITTED_ES_INDEX = 'ds_finreg_splitted'\n",
    "DATES_DOCUMENT = 'dates_document'\n",
    "HTML_LINKS = 'htmls_to_download'\n",
    "DEFAULT_SEARCH = \"\"\"The Semantic Interoperability Community develops solutions to help European public administrations perform seamless and meaningful cross-border and cross-domain data exchanges.\"\"\"\n",
    "TEXT_PIECE = 'text_piece'"
   ],
   "metadata": {
    "collapsed": false,
    "pycharm": {
     "name": "#%%\n"
    }
   }
  },
  {
   "cell_type": "code",
   "execution_count": 219,
   "outputs": [],
   "source": [
    "def load_documents():\n",
    "    \"\"\"Read the data from ES.\"\"\"\n",
    "    es_store = store_registry.es_index_store()\n",
    "    df = es_store.get_dataframe(index_name=config.EU_FINREG_CELLAR_ELASTIC_SEARCH_INDEX_NAME)\n",
    "    df[DATES_DOCUMENT] = pd.to_datetime(df[DATES_DOCUMENT]).dt.date\n",
    "    return df\n",
    "\n",
    "def load_splitted_documents():\n",
    "    \"\"\"Read the data from ES.\"\"\"\n",
    "    es_store = store_registry.es_index_store()\n",
    "    return es_store.get_dataframe(index_name=FIN_REG_SPLITTED_ES_INDEX)\n",
    "\n",
    "def load_emb_model():\n",
    "    return embedding_registry.sent2vec_universal_sent_encoding()\n",
    "\n",
    "def load_faiss_index():\n",
    "    \"\"\"Load and deserialize the Faiss index.\"\"\"\n",
    "    minio_store = store_registry.minio_object_store(minio_bucket=FAISS_BUCKET_NAME)\n",
    "    data = pickle.loads(minio_store.get_object(object_name=FAISS_INDEX_FINREG_NAME))\n",
    "    return faiss.deserialize_index(data)\n",
    "\n",
    "\n",
    "def main(user_input: str):\n",
    "    documents = load_documents()\n",
    "    splitted_documents = load_splitted_documents()\n",
    "    model = load_emb_model()\n",
    "    faiss_index = load_faiss_index()\n",
    "    num_results = 100\n",
    "    embeddings = model.encode(sentences=[user_input])\n",
    "    D, I = faiss_index.search(np.array(embeddings).astype(\"float32\"), k=num_results)\n",
    "    document_parts = pd.DataFrame(splitted_documents.iloc[I.flatten().tolist()])\n",
    "    document_parts['similarity'] = pd.Series(D.flatten().tolist()).values\n",
    "    document_parts = document_parts.drop_duplicates(DOCUMENT_ID_SOURCE).reset_index(drop=True)\n",
    "    documents_id = document_parts[DOCUMENT_ID_SOURCE].values\n",
    "    result_documents = pd.DataFrame(documents.loc[documents_id]).reset_index(drop=True)\n",
    "    result_documents['similarity'] = document_parts['similarity']\n",
    "    return result_documents"
   ],
   "metadata": {
    "collapsed": false,
    "pycharm": {
     "name": "#%%\n"
    }
   }
  },
  {
   "cell_type": "code",
   "execution_count": 4,
   "outputs": [],
   "source": [
    "# documents, celex number and url reference from sample question file\n",
    "sample_questions = pd.read_csv('sem_covid/entrypoints/notebooks/legal_radar/docs/sample_questions_v4.csv').dropna()"
   ],
   "metadata": {
    "collapsed": false,
    "pycharm": {
     "name": "#%%\n"
    }
   }
  },
  {
   "cell_type": "code",
   "execution_count": 247,
   "outputs": [],
   "source": [
    "def execution_verification(dataset: pd.DataFrame, source_documents_column: str, celex_number_column: str):\n",
    "    \"\"\"\n",
    "        This function helps us to compare the celex id from our source and legal radar semantic search.\n",
    "        Inserting source document text and his celex number, checks if each document is found in the first\n",
    "        10 results.\n",
    "    Args:\n",
    "        dataset: dataframe with required source document and his celex number\n",
    "        source_documents_column: dataframe's source document column name\n",
    "        celex_number_column: dataframe's celex number column name\n",
    "\n",
    "    Returns: the name of inserted document and how much results that are having their celex number.\n",
    "    \"\"\"\n",
    "    results = []\n",
    "\n",
    "    for (source_document, celex_number) in zip(set(dataset[source_documents_column]), set(dataset[celex_number_column])):\n",
    "        executed_search_engine = main(source_document)\n",
    "        reduced_execution = reduce_array_column(executed_search_engine, 'celex_numbers').reset_index(drop=True)\n",
    "        sum_celex_number_found = reduced_execution['celex_numbers'].isin([celex_number])\n",
    "        index = reduced_execution[sum_celex_number_found].index.to_list()\n",
    "        results.append(\n",
    "            {\n",
    "                'index': index,\n",
    "                'values': sum_celex_number_found.sum(),\n",
    "                \"similarity_percentage\": reduced_execution['similarity'].loc[index].to_list()\n",
    "            }\n",
    "        )\n",
    "\n",
    "    return pd.DataFrame(results)"
   ],
   "metadata": {
    "collapsed": false,
    "pycharm": {
     "name": "#%%\n"
    }
   }
  },
  {
   "cell_type": "code",
   "execution_count": 248,
   "outputs": [
    {
     "name": "stderr",
     "output_type": "stream",
     "text": [
      "100% (5791 of 5791) |####################| Elapsed Time: 0:00:04 Time:  0:00:04\n",
      "100% (69866 of 69866) |##################| Elapsed Time: 0:00:25 Time:  0:00:25\n",
      "100% (5791 of 5791) |####################| Elapsed Time: 0:00:04 Time:  0:00:04\n",
      "100% (69866 of 69866) |##################| Elapsed Time: 0:00:25 Time:  0:00:25\n",
      "100% (5791 of 5791) |####################| Elapsed Time: 0:00:04 Time:  0:00:04\n",
      "100% (69866 of 69866) |##################| Elapsed Time: 0:00:25 Time:  0:00:25\n",
      "100% (5791 of 5791) |####################| Elapsed Time: 0:00:04 Time:  0:00:04\n",
      "100% (69866 of 69866) |##################| Elapsed Time: 0:00:24 Time:  0:00:24\n",
      "100% (5791 of 5791) |####################| Elapsed Time: 0:00:04 Time:  0:00:04\n",
      "100% (69866 of 69866) |##################| Elapsed Time: 0:00:24 Time:  0:00:24\n",
      "100% (5791 of 5791) |####################| Elapsed Time: 0:00:04 Time:  0:00:04\n",
      "100% (69866 of 69866) |##################| Elapsed Time: 0:00:24 Time:  0:00:24\n",
      "100% (5791 of 5791) |####################| Elapsed Time: 0:00:04 Time:  0:00:04\n",
      "100% (69866 of 69866) |##################| Elapsed Time: 0:00:25 Time:  0:00:25\n",
      "100% (5791 of 5791) |####################| Elapsed Time: 0:00:04 Time:  0:00:04\n",
      "100% (69866 of 69866) |##################| Elapsed Time: 0:00:24 Time:  0:00:24\n",
      "100% (5791 of 5791) |####################| Elapsed Time: 0:00:04 Time:  0:00:04\n",
      "100% (69866 of 69866) |##################| Elapsed Time: 0:00:24 Time:  0:00:24\n",
      "100% (5791 of 5791) |####################| Elapsed Time: 0:00:04 Time:  0:00:04\n",
      "100% (69866 of 69866) |##################| Elapsed Time: 0:00:24 Time:  0:00:24\n",
      "100% (5791 of 5791) |####################| Elapsed Time: 0:00:04 Time:  0:00:04\n",
      "100% (69866 of 69866) |##################| Elapsed Time: 0:00:25 Time:  0:00:25\n"
     ]
    }
   ],
   "source": [
    "result = execution_verification(sample_questions, 'Source Document', 'Celex No')"
   ],
   "metadata": {
    "collapsed": false,
    "pycharm": {
     "name": "#%%\n"
    }
   }
  },
  {
   "cell_type": "code",
   "execution_count": 249,
   "outputs": [
    {
     "data": {
      "text/plain": "   index  values similarity_percentage\n0     []       0                    []\n1     []       0                    []\n2     []       0                    []\n3     []       0                    []\n4     []       0                    []\n5     []       0                    []\n6   [15]       1  [1.0138442516326904]\n7    [2]       1  [0.9245582818984985]\n8     []       0                    []\n9   [37]       1  [1.1886646747589111]\n10    []       0                    []",
      "text/html": "<div>\n<style scoped>\n    .dataframe tbody tr th:only-of-type {\n        vertical-align: middle;\n    }\n\n    .dataframe tbody tr th {\n        vertical-align: top;\n    }\n\n    .dataframe thead th {\n        text-align: right;\n    }\n</style>\n<table border=\"1\" class=\"dataframe\">\n  <thead>\n    <tr style=\"text-align: right;\">\n      <th></th>\n      <th>index</th>\n      <th>values</th>\n      <th>similarity_percentage</th>\n    </tr>\n  </thead>\n  <tbody>\n    <tr>\n      <th>0</th>\n      <td>[]</td>\n      <td>0</td>\n      <td>[]</td>\n    </tr>\n    <tr>\n      <th>1</th>\n      <td>[]</td>\n      <td>0</td>\n      <td>[]</td>\n    </tr>\n    <tr>\n      <th>2</th>\n      <td>[]</td>\n      <td>0</td>\n      <td>[]</td>\n    </tr>\n    <tr>\n      <th>3</th>\n      <td>[]</td>\n      <td>0</td>\n      <td>[]</td>\n    </tr>\n    <tr>\n      <th>4</th>\n      <td>[]</td>\n      <td>0</td>\n      <td>[]</td>\n    </tr>\n    <tr>\n      <th>5</th>\n      <td>[]</td>\n      <td>0</td>\n      <td>[]</td>\n    </tr>\n    <tr>\n      <th>6</th>\n      <td>[15]</td>\n      <td>1</td>\n      <td>[1.0138442516326904]</td>\n    </tr>\n    <tr>\n      <th>7</th>\n      <td>[2]</td>\n      <td>1</td>\n      <td>[0.9245582818984985]</td>\n    </tr>\n    <tr>\n      <th>8</th>\n      <td>[]</td>\n      <td>0</td>\n      <td>[]</td>\n    </tr>\n    <tr>\n      <th>9</th>\n      <td>[37]</td>\n      <td>1</td>\n      <td>[1.1886646747589111]</td>\n    </tr>\n    <tr>\n      <th>10</th>\n      <td>[]</td>\n      <td>0</td>\n      <td>[]</td>\n    </tr>\n  </tbody>\n</table>\n</div>"
     },
     "execution_count": 249,
     "metadata": {},
     "output_type": "execute_result"
    }
   ],
   "source": [
    "result"
   ],
   "metadata": {
    "collapsed": false,
    "pycharm": {
     "name": "#%%\n"
    }
   }
  },
  {
   "cell_type": "code",
   "execution_count": null,
   "outputs": [],
   "source": [],
   "metadata": {
    "collapsed": false,
    "pycharm": {
     "name": "#%%\n"
    }
   }
  }
 ],
 "metadata": {
  "kernelspec": {
   "display_name": "Python 3",
   "language": "python",
   "name": "python3"
  },
  "language_info": {
   "codemirror_mode": {
    "name": "ipython",
    "version": 2
   },
   "file_extension": ".py",
   "mimetype": "text/x-python",
   "name": "python",
   "nbconvert_exporter": "python",
   "pygments_lexer": "ipython2",
   "version": "2.7.6"
  }
 },
 "nbformat": 4,
 "nbformat_minor": 0
}