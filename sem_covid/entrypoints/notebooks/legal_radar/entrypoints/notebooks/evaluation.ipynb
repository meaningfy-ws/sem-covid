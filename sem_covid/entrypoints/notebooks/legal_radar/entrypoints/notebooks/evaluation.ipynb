{
 "cells": [
  {
   "cell_type": "code",
   "execution_count": 1,
   "metadata": {
    "collapsed": true
   },
   "outputs": [],
   "source": [
    "import sys\n",
    "sys.path.append(\"/home/jovyan/work/sem-covid/\")\n",
    "sys.path = list(set(sys.path))\n",
    "import os\n",
    "\n",
    "os.getcwd()\n",
    "os.chdir('/home/jovyan/work/sem-covid/')\n",
    "\n",
    "\n",
    "import faiss\n",
    "import pickle\n",
    "import pandas as pd\n",
    "\n",
    "from sem_covid.entrypoints.notebooks.legal_radar.services.split_documents_pipeline import DOCUMENT_ID_SOURCE\n",
    "from sem_covid.services.store_registry import store_registry\n",
    "from sem_covid.services.model_registry import embedding_registry\n",
    "from sem_covid import config\n",
    "import numpy as np\n",
    "from more_itertools import unique_everseen"
   ]
  },
  {
   "cell_type": "code",
   "execution_count": 63,
   "outputs": [],
   "source": [
    "sample_questions = pd.read_csv('sem_covid/entrypoints/notebooks/legal_radar/docs/sample_questions_v4.csv').dropna()\n",
    "source_documents = sample_questions['Source Document'].to_list()\n",
    "celex_number = sample_questions['Celex No'].to_list()\n",
    "work_reference = sample_questions['Work Reference'].to_list()"
   ],
   "metadata": {
    "collapsed": false,
    "pycharm": {
     "name": "#%%\n"
    }
   }
  },
  {
   "cell_type": "code",
   "execution_count": 56,
   "outputs": [
    {
     "data": {
      "text/plain": "Index(['No', 'Questions/Text Extracts', 'Source Document', 'Article No',\n       'Celex No', 'Work Reference', 'ELI'],\n      dtype='object')"
     },
     "execution_count": 56,
     "metadata": {},
     "output_type": "execute_result"
    }
   ],
   "source": [
    "sample_questions.columns"
   ],
   "metadata": {
    "collapsed": false,
    "pycharm": {
     "name": "#%%\n"
    }
   }
  },
  {
   "cell_type": "code",
   "execution_count": 2,
   "outputs": [],
   "source": [
    "FAISS_BUCKET_NAME = 'faiss-index'\n",
    "FAISS_INDEX_FINREG_NAME = 'faiss_index_finreg.pkl'\n",
    "FIN_REG_SPLITTED_ES_INDEX = 'ds_finreg_splitted'\n",
    "DATES_DOCUMENT = 'dates_document'\n",
    "HTML_LINKS = 'htmls_to_download'\n",
    "DEFAULT_SEARCH = \"\"\"The Semantic Interoperability Community develops solutions to help European public administrations perform seamless and meaningful cross-border and cross-domain data exchanges.\"\"\"\n",
    "TEXT_PIECE = 'text_piece'"
   ],
   "metadata": {
    "collapsed": false,
    "pycharm": {
     "name": "#%%\n"
    }
   }
  },
  {
   "cell_type": "code",
   "execution_count": 3,
   "outputs": [],
   "source": [
    "def load_documents():\n",
    "    \"\"\"Read the data from ES.\"\"\"\n",
    "    es_store = store_registry.es_index_store()\n",
    "    df = es_store.get_dataframe(index_name=config.EU_FINREG_CELLAR_ELASTIC_SEARCH_INDEX_NAME)\n",
    "    df[DATES_DOCUMENT] = pd.to_datetime(df[DATES_DOCUMENT]).dt.date\n",
    "    return df\n",
    "\n",
    "def load_splitted_documents():\n",
    "    \"\"\"Read the data from ES.\"\"\"\n",
    "    es_store = store_registry.es_index_store()\n",
    "    return es_store.get_dataframe(index_name=FIN_REG_SPLITTED_ES_INDEX)\n",
    "\n",
    "def load_emb_model():\n",
    "    return embedding_registry.sent2vec_universal_sent_encoding()\n",
    "\n",
    "def load_faiss_index():\n",
    "    \"\"\"Load and deserialize the Faiss index.\"\"\"\n",
    "    minio_store = store_registry.minio_object_store(minio_bucket=FAISS_BUCKET_NAME)\n",
    "    data = pickle.loads(minio_store.get_object(object_name=FAISS_INDEX_FINREG_NAME))\n",
    "    return faiss.deserialize_index(data)\n",
    "\n",
    "def main(user_input: str):\n",
    "    documents = load_documents()\n",
    "    splitted_documents = load_splitted_documents()\n",
    "    model = load_emb_model()\n",
    "    faiss_index = load_faiss_index()\n",
    "    num_results = 100\n",
    "    embeddings = model.encode(sentences=[user_input])\n",
    "    D, I = faiss_index.search(np.array(embeddings).astype(\"float32\"), k=num_results)\n",
    "    document_parts = splitted_documents.iloc[I.flatten().tolist()]\n",
    "    document_parts['similarity'] = D.flatten().tolist()\n",
    "    documents_id = list(unique_everseen(\n",
    "    splitted_documents.iloc[I.flatten().tolist()][DOCUMENT_ID_SOURCE].values))\n",
    "\n",
    "    return documents.loc[documents_id]"
   ],
   "metadata": {
    "collapsed": false,
    "pycharm": {
     "name": "#%%\n"
    }
   }
  },
  {
   "cell_type": "code",
   "execution_count": 16,
   "outputs": [
    {
     "name": "stderr",
     "output_type": "stream",
     "text": [
      "100% (5779 of 5779) |####################| Elapsed Time: 0:00:03 Time:  0:00:03\n",
      "100% (69866 of 69866) |##################| Elapsed Time: 0:00:24 Time:  0:00:24\n",
      "/opt/conda/lib/python3.8/site-packages/pandas/core/frame.py:3607: SettingWithCopyWarning: \n",
      "A value is trying to be set on a copy of a slice from a DataFrame.\n",
      "Try using .loc[row_indexer,col_indexer] = value instead\n",
      "\n",
      "See the caveats in the documentation: https://pandas.pydata.org/pandas-docs/stable/user_guide/indexing.html#returning-a-view-versus-a-copy\n",
      "  self._set_item(key, value)\n"
     ]
    }
   ],
   "source": [
    "explorer = main('REGULATION (EU) No 648/2012 OF THE EUROPEAN PARLIAMENT AND OF THE COUNCIL of 4 July 2012 on OTC derivatives, central counterparties and trade repositories')"
   ],
   "metadata": {
    "collapsed": false,
    "pycharm": {
     "name": "#%%\n"
    }
   }
  },
  {
   "cell_type": "code",
   "execution_count": 59,
   "outputs": [
    {
     "data": {
      "text/plain": "                                                                                                 work  \\\n_id                                                                                                     \n2225a7e0331142c1ff8c370ab0ff8d7f07bbb85fcbd5f6f...  http://publications.europa.eu/resource/cellar/...   \n1711ad72d00bfc03927e7446cb4773a04fd2a5b5288fcb4...  http://publications.europa.eu/resource/cellar/...   \n833c1dd78f9a649f9b8b77128e4783df14ea224930697bb...  http://publications.europa.eu/resource/cellar/...   \n1b5190ed21009069932abbd6a5879fb9a3b94437f55578b...  http://publications.europa.eu/resource/cellar/...   \n4b2303f43b73ea0945a644e815573f15814615d20768145...  http://publications.europa.eu/resource/cellar/...   \n...                                                                                               ...   \n932a4b13cf8205003ad9ebbdc03d845c111594bbf834841...  http://publications.europa.eu/resource/cellar/...   \ne129e270ac52d1df145b5bb148669ab549e6e86602ac493...  http://publications.europa.eu/resource/cellar/...   \n9c59c922147534917d4f21266e733e404f80aca6b382f56...  http://publications.europa.eu/resource/cellar/...   \n6d2890bbcb0d611c17dcbee8a697195615ea0c39c3dfb6e...  http://publications.europa.eu/resource/cellar/...   \nd78764acc7daa0a630edfa411c742728278de4cde318b7a...  http://publications.europa.eu/resource/cellar/...   \n\n                                                                                                title  \\\n_id                                                                                                     \n2225a7e0331142c1ff8c370ab0ff8d7f07bbb85fcbd5f6f...  Regulation (EU) 2021/168 of the European Parli...   \n1711ad72d00bfc03927e7446cb4773a04fd2a5b5288fcb4...  Regulation (EU) 2019/2099 of the European Parl...   \n833c1dd78f9a649f9b8b77128e4783df14ea224930697bb...  Commission Delegated Regulation (EU) 2020/1732...   \n1b5190ed21009069932abbd6a5879fb9a3b94437f55578b...  Commission Delegated Regulation (EU) 2021/962 ...   \n4b2303f43b73ea0945a644e815573f15814615d20768145...  Directive 2014/59/EU of the European Parliamen...   \n...                                                                                               ...   \n932a4b13cf8205003ad9ebbdc03d845c111594bbf834841...  Regulation (EU) 2021/1056 of the European Parl...   \ne129e270ac52d1df145b5bb148669ab549e6e86602ac493...  Council Regulation (EU) 2016/369 of 15 March 2...   \n9c59c922147534917d4f21266e733e404f80aca6b382f56...  Regulation (EU) 2019/2033 of the European Parl...   \n6d2890bbcb0d611c17dcbee8a697195615ea0c39c3dfb6e...  Directive (EU) 2019/2034 of the European Parli...   \nd78764acc7daa0a630edfa411c742728278de4cde318b7a...  Commission Delegated Regulation (EU) 2019/856 ...   \n\n                                                                                            cdm_types  \\\n_id                                                                                                     \n2225a7e0331142c1ff8c370ab0ff8d7f07bbb85fcbd5f6f...  [http://publications.europa.eu/ontology/cdm#le...   \n1711ad72d00bfc03927e7446cb4773a04fd2a5b5288fcb4...  [http://publications.europa.eu/ontology/cdm#le...   \n833c1dd78f9a649f9b8b77128e4783df14ea224930697bb...  [http://publications.europa.eu/ontology/cdm#le...   \n1b5190ed21009069932abbd6a5879fb9a3b94437f55578b...  [http://publications.europa.eu/ontology/cdm#le...   \n4b2303f43b73ea0945a644e815573f15814615d20768145...  [http://publications.europa.eu/ontology/cdm#di...   \n...                                                                                               ...   \n932a4b13cf8205003ad9ebbdc03d845c111594bbf834841...  [http://publications.europa.eu/ontology/cdm#le...   \ne129e270ac52d1df145b5bb148669ab549e6e86602ac493...  [http://publications.europa.eu/ontology/cdm#le...   \n9c59c922147534917d4f21266e733e404f80aca6b382f56...  [http://publications.europa.eu/ontology/cdm#le...   \n6d2890bbcb0d611c17dcbee8a697195615ea0c39c3dfb6e...  [http://publications.europa.eu/ontology/cdm#le...   \nd78764acc7daa0a630edfa411c742728278de4cde318b7a...  [http://publications.europa.eu/ontology/cdm#le...   \n\n                                                   cdm_type_labels  \\\n_id                                                                  \n2225a7e0331142c1ff8c370ab0ff8d7f07bbb85fcbd5f6f...            None   \n1711ad72d00bfc03927e7446cb4773a04fd2a5b5288fcb4...            None   \n833c1dd78f9a649f9b8b77128e4783df14ea224930697bb...            None   \n1b5190ed21009069932abbd6a5879fb9a3b94437f55578b...            None   \n4b2303f43b73ea0945a644e815573f15814615d20768145...            None   \n...                                                            ...   \n932a4b13cf8205003ad9ebbdc03d845c111594bbf834841...            None   \ne129e270ac52d1df145b5bb148669ab549e6e86602ac493...            None   \n9c59c922147534917d4f21266e733e404f80aca6b382f56...            None   \n6d2890bbcb0d611c17dcbee8a697195615ea0c39c3dfb6e...            None   \nd78764acc7daa0a630edfa411c742728278de4cde318b7a...            None   \n\n                                                                                       resource_types  \\\n_id                                                                                                     \n2225a7e0331142c1ff8c370ab0ff8d7f07bbb85fcbd5f6f...  [http://publications.europa.eu/resource/author...   \n1711ad72d00bfc03927e7446cb4773a04fd2a5b5288fcb4...  [http://publications.europa.eu/resource/author...   \n833c1dd78f9a649f9b8b77128e4783df14ea224930697bb...  [http://publications.europa.eu/resource/author...   \n1b5190ed21009069932abbd6a5879fb9a3b94437f55578b...  [http://publications.europa.eu/resource/author...   \n4b2303f43b73ea0945a644e815573f15814615d20768145...  [http://publications.europa.eu/resource/author...   \n...                                                                                               ...   \n932a4b13cf8205003ad9ebbdc03d845c111594bbf834841...  [http://publications.europa.eu/resource/author...   \ne129e270ac52d1df145b5bb148669ab549e6e86602ac493...  [http://publications.europa.eu/resource/author...   \n9c59c922147534917d4f21266e733e404f80aca6b382f56...  [http://publications.europa.eu/resource/author...   \n6d2890bbcb0d611c17dcbee8a697195615ea0c39c3dfb6e...  [http://publications.europa.eu/resource/author...   \nd78764acc7daa0a630edfa411c742728278de4cde318b7a...  [http://publications.europa.eu/resource/author...   \n\n                                                      resource_type_labels  \\\n_id                                                                          \n2225a7e0331142c1ff8c370ab0ff8d7f07bbb85fcbd5f6f...            [Regulation]   \n1711ad72d00bfc03927e7446cb4773a04fd2a5b5288fcb4...            [Regulation]   \n833c1dd78f9a649f9b8b77128e4783df14ea224930697bb...  [Delegated regulation]   \n1b5190ed21009069932abbd6a5879fb9a3b94437f55578b...  [Delegated regulation]   \n4b2303f43b73ea0945a644e815573f15814615d20768145...             [Directive]   \n...                                                                    ...   \n932a4b13cf8205003ad9ebbdc03d845c111594bbf834841...            [Regulation]   \ne129e270ac52d1df145b5bb148669ab549e6e86602ac493...            [Regulation]   \n9c59c922147534917d4f21266e733e404f80aca6b382f56...            [Regulation]   \n6d2890bbcb0d611c17dcbee8a697195615ea0c39c3dfb6e...             [Directive]   \nd78764acc7daa0a630edfa411c742728278de4cde318b7a...  [Delegated regulation]   \n\n                                                                                     eurovoc_concepts  \\\n_id                                                                                                     \n2225a7e0331142c1ff8c370ab0ff8d7f07bbb85fcbd5f6f...  [http://eurovoc.europa.eu/1354, http://eurovoc...   \n1711ad72d00bfc03927e7446cb4773a04fd2a5b5288fcb4...  [http://eurovoc.europa.eu/1459, http://eurovoc...   \n833c1dd78f9a649f9b8b77128e4783df14ea224930697bb...  [http://eurovoc.europa.eu/1488, http://eurovoc...   \n1b5190ed21009069932abbd6a5879fb9a3b94437f55578b...  [http://eurovoc.europa.eu/3751, http://eurovoc...   \n4b2303f43b73ea0945a644e815573f15814615d20768145...  [http://eurovoc.europa.eu/1485, http://eurovoc...   \n...                                                                                               ...   \n932a4b13cf8205003ad9ebbdc03d845c111594bbf834841...  [http://eurovoc.europa.eu/1052, http://eurovoc...   \ne129e270ac52d1df145b5bb148669ab549e6e86602ac493...  [http://eurovoc.europa.eu/1005, http://eurovoc...   \n9c59c922147534917d4f21266e733e404f80aca6b382f56...  [http://eurovoc.europa.eu/189, http://eurovoc....   \n6d2890bbcb0d611c17dcbee8a697195615ea0c39c3dfb6e...  [http://eurovoc.europa.eu/189, http://eurovoc....   \nd78764acc7daa0a630edfa411c742728278de4cde318b7a...  [http://eurovoc.europa.eu/1439, http://eurovoc...   \n\n                                                                               eurovoc_concept_labels  \\\n_id                                                                                                     \n2225a7e0331142c1ff8c370ab0ff8d7f07bbb85fcbd5f6f...  [benchmarking, consumer protection, financial ...   \n1711ad72d00bfc03927e7446cb4773a04fd2a5b5288fcb4...  [European Securities and Markets Authority, Eu...   \n833c1dd78f9a649f9b8b77128e4783df14ea224930697bb...  [European Securities and Markets Authority, ba...   \n1b5190ed21009069932abbd6a5879fb9a3b94437f55578b...  [financial derivative, financial legislation, ...   \n4b2303f43b73ea0945a644e815573f15814615d20768145...  [aid for restructuring, company in difficultie...   \n...                                                                                               ...   \n932a4b13cf8205003ad9ebbdc03d845c111594bbf834841...  [Community support framework, adaptation to cl...   \ne129e270ac52d1df145b5bb148669ab549e6e86602ac493...  [EU aid, EU financing, aid to disaster victims...   \n9c59c922147534917d4f21266e733e404f80aca6b382f56...  [capital market, disclosure of information, fi...   \n6d2890bbcb0d611c17dcbee8a697195615ea0c39c3dfb6e...  [capital market, disclosure of information, fi...   \nd78764acc7daa0a630edfa411c742728278de4cde318b7a...  [EU Emissions Trading Scheme, EU emission allo...   \n\n                                                                                      subject_matters  \\\n_id                                                                                                     \n2225a7e0331142c1ff8c370ab0ff8d7f07bbb85fcbd5f6f...  [http://publications.europa.eu/resource/author...   \n1711ad72d00bfc03927e7446cb4773a04fd2a5b5288fcb4...  [http://publications.europa.eu/resource/author...   \n833c1dd78f9a649f9b8b77128e4783df14ea224930697bb...  [http://publications.europa.eu/resource/author...   \n1b5190ed21009069932abbd6a5879fb9a3b94437f55578b...  [http://publications.europa.eu/resource/author...   \n4b2303f43b73ea0945a644e815573f15814615d20768145...  [http://publications.europa.eu/resource/author...   \n...                                                                                               ...   \n932a4b13cf8205003ad9ebbdc03d845c111594bbf834841...  [http://publications.europa.eu/resource/author...   \ne129e270ac52d1df145b5bb148669ab549e6e86602ac493...  [http://publications.europa.eu/resource/author...   \n9c59c922147534917d4f21266e733e404f80aca6b382f56...  [http://publications.europa.eu/resource/author...   \n6d2890bbcb0d611c17dcbee8a697195615ea0c39c3dfb6e...  [http://publications.europa.eu/resource/author...   \nd78764acc7daa0a630edfa411c742728278de4cde318b7a...  [http://publications.europa.eu/resource/author...   \n\n                                                                                subject_matter_labels  \\\n_id                                                                                                     \n2225a7e0331142c1ff8c370ab0ff8d7f07bbb85fcbd5f6f...                         [Freedom of establishment]   \n1711ad72d00bfc03927e7446cb4773a04fd2a5b5288fcb4...  [Free movement of capital, Internal market - P...   \n833c1dd78f9a649f9b8b77128e4783df14ea224930697bb...  [Freedom of establishment, Internal market - P...   \n1b5190ed21009069932abbd6a5879fb9a3b94437f55578b...  [Free movement of capital, Freedom of establis...   \n4b2303f43b73ea0945a644e815573f15814615d20768145...                                  [Economic policy]   \n...                                                                                               ...   \n932a4b13cf8205003ad9ebbdc03d845c111594bbf834841...  [Economic, social and territorial cohesion, En...   \ne129e270ac52d1df145b5bb148669ab549e6e86602ac493...  [Financial provisions, Humanitarian aid, Immig...   \n9c59c922147534917d4f21266e733e404f80aca6b382f56...  [Financial provisions, Freedom of establishmen...   \n6d2890bbcb0d611c17dcbee8a697195615ea0c39c3dfb6e...  [Approximation of laws, Financial provisions, ...   \nd78764acc7daa0a630edfa411c742728278de4cde318b7a...                                      [Environment]   \n\n                                                    ...  \\\n_id                                                 ...   \n2225a7e0331142c1ff8c370ab0ff8d7f07bbb85fcbd5f6f...  ...   \n1711ad72d00bfc03927e7446cb4773a04fd2a5b5288fcb4...  ...   \n833c1dd78f9a649f9b8b77128e4783df14ea224930697bb...  ...   \n1b5190ed21009069932abbd6a5879fb9a3b94437f55578b...  ...   \n4b2303f43b73ea0945a644e815573f15814615d20768145...  ...   \n...                                                 ...   \n932a4b13cf8205003ad9ebbdc03d845c111594bbf834841...  ...   \ne129e270ac52d1df145b5bb148669ab549e6e86602ac493...  ...   \n9c59c922147534917d4f21266e733e404f80aca6b382f56...  ...   \n6d2890bbcb0d611c17dcbee8a697195615ea0c39c3dfb6e...  ...   \nd78764acc7daa0a630edfa411c742728278de4cde318b7a...  ...   \n\n                                                                                     pdfs_to_download  \\\n_id                                                                                                     \n2225a7e0331142c1ff8c370ab0ff8d7f07bbb85fcbd5f6f...  [http://publications.europa.eu/resource/cellar...   \n1711ad72d00bfc03927e7446cb4773a04fd2a5b5288fcb4...  [http://publications.europa.eu/resource/cellar...   \n833c1dd78f9a649f9b8b77128e4783df14ea224930697bb...  [http://publications.europa.eu/resource/cellar...   \n1b5190ed21009069932abbd6a5879fb9a3b94437f55578b...  [http://publications.europa.eu/resource/cellar...   \n4b2303f43b73ea0945a644e815573f15814615d20768145...  [http://publications.europa.eu/resource/cellar...   \n...                                                                                               ...   \n932a4b13cf8205003ad9ebbdc03d845c111594bbf834841...  [http://publications.europa.eu/resource/cellar...   \ne129e270ac52d1df145b5bb148669ab549e6e86602ac493...  [http://publications.europa.eu/resource/cellar...   \n9c59c922147534917d4f21266e733e404f80aca6b382f56...  [http://publications.europa.eu/resource/cellar...   \n6d2890bbcb0d611c17dcbee8a697195615ea0c39c3dfb6e...  [http://publications.europa.eu/resource/cellar...   \nd78764acc7daa0a630edfa411c742728278de4cde318b7a...  [http://publications.europa.eu/resource/cellar...   \n\n                                                                                    htmls_to_download  \\\n_id                                                                                                     \n2225a7e0331142c1ff8c370ab0ff8d7f07bbb85fcbd5f6f...  [http://publications.europa.eu/resource/cellar...   \n1711ad72d00bfc03927e7446cb4773a04fd2a5b5288fcb4...  [http://publications.europa.eu/resource/cellar...   \n833c1dd78f9a649f9b8b77128e4783df14ea224930697bb...  [http://publications.europa.eu/resource/cellar...   \n1b5190ed21009069932abbd6a5879fb9a3b94437f55578b...  [http://publications.europa.eu/resource/cellar...   \n4b2303f43b73ea0945a644e815573f15814615d20768145...  [http://publications.europa.eu/resource/cellar...   \n...                                                                                               ...   \n932a4b13cf8205003ad9ebbdc03d845c111594bbf834841...  [http://publications.europa.eu/resource/cellar...   \ne129e270ac52d1df145b5bb148669ab549e6e86602ac493...  [http://publications.europa.eu/resource/cellar...   \n9c59c922147534917d4f21266e733e404f80aca6b382f56...  [http://publications.europa.eu/resource/cellar...   \n6d2890bbcb0d611c17dcbee8a697195615ea0c39c3dfb6e...  [http://publications.europa.eu/resource/cellar...   \nd78764acc7daa0a630edfa411c742728278de4cde318b7a...  [http://publications.europa.eu/resource/cellar...   \n\n                                                   dossiers related_works  \\\n_id                                                                         \n2225a7e0331142c1ff8c370ab0ff8d7f07bbb85fcbd5f6f...     None          None   \n1711ad72d00bfc03927e7446cb4773a04fd2a5b5288fcb4...     None          None   \n833c1dd78f9a649f9b8b77128e4783df14ea224930697bb...     None          None   \n1b5190ed21009069932abbd6a5879fb9a3b94437f55578b...     None          None   \n4b2303f43b73ea0945a644e815573f15814615d20768145...     None          None   \n...                                                     ...           ...   \n932a4b13cf8205003ad9ebbdc03d845c111594bbf834841...     None          None   \ne129e270ac52d1df145b5bb148669ab549e6e86602ac493...     None          None   \n9c59c922147534917d4f21266e733e404f80aca6b382f56...     None          None   \n6d2890bbcb0d611c17dcbee8a697195615ea0c39c3dfb6e...     None          None   \nd78764acc7daa0a630edfa411c742728278de4cde318b7a...     None          None   \n\n                                                   work_sequences  core  \\\n_id                                                                       \n2225a7e0331142c1ff8c370ab0ff8d7f07bbb85fcbd5f6f...           None  True   \n1711ad72d00bfc03927e7446cb4773a04fd2a5b5288fcb4...           None  True   \n833c1dd78f9a649f9b8b77128e4783df14ea224930697bb...           None  True   \n1b5190ed21009069932abbd6a5879fb9a3b94437f55578b...           None  True   \n4b2303f43b73ea0945a644e815573f15814615d20768145...           None  True   \n...                                                           ...   ...   \n932a4b13cf8205003ad9ebbdc03d845c111594bbf834841...           None  True   \ne129e270ac52d1df145b5bb148669ab549e6e86602ac493...           None  True   \n9c59c922147534917d4f21266e733e404f80aca6b382f56...           None  True   \n6d2890bbcb0d611c17dcbee8a697195615ea0c39c3dfb6e...           None  True   \nd78764acc7daa0a630edfa411c742728278de4cde318b7a...           None  True   \n\n                                                   metadata  \\\n_id                                                           \n2225a7e0331142c1ff8c370ab0ff8d7f07bbb85fcbd5f6f...     True   \n1711ad72d00bfc03927e7446cb4773a04fd2a5b5288fcb4...     True   \n833c1dd78f9a649f9b8b77128e4783df14ea224930697bb...     True   \n1b5190ed21009069932abbd6a5879fb9a3b94437f55578b...     True   \n4b2303f43b73ea0945a644e815573f15814615d20768145...     True   \n...                                                     ...   \n932a4b13cf8205003ad9ebbdc03d845c111594bbf834841...     True   \ne129e270ac52d1df145b5bb148669ab549e6e86602ac493...     True   \n9c59c922147534917d4f21266e733e404f80aca6b382f56...     True   \n6d2890bbcb0d611c17dcbee8a697195615ea0c39c3dfb6e...     True   \nd78764acc7daa0a630edfa411c742728278de4cde318b7a...     True   \n\n                                                                                         content_path  \\\n_id                                                                                                     \n2225a7e0331142c1ff8c370ab0ff8d7f07bbb85fcbd5f6f...  [res/ad21a7733098ab518075bf26d392ef36881a5610c...   \n1711ad72d00bfc03927e7446cb4773a04fd2a5b5288fcb4...  [res/d62f90a9795a021c790c3443e50173141acb86ac9...   \n833c1dd78f9a649f9b8b77128e4783df14ea224930697bb...  [res/82fec7b7c11313f3ddf488dd25d4e9ef91129772d...   \n1b5190ed21009069932abbd6a5879fb9a3b94437f55578b...  [res/757e7b519b130776c91830ba34ec2e2f2df2a20cc...   \n4b2303f43b73ea0945a644e815573f15814615d20768145...  [res/c2cdc915102721e4211b4d6d7b228ef2cc6b20d68...   \n...                                                                                               ...   \n932a4b13cf8205003ad9ebbdc03d845c111594bbf834841...  [res/0ecc04a48a56bf6072c0dcfc92358222add1e236c...   \ne129e270ac52d1df145b5bb148669ab549e6e86602ac493...  [res/30b93b5252cba1f2c5da9c69236716e5b4a0e34d8...   \n9c59c922147534917d4f21266e733e404f80aca6b382f56...  [res/51c0b8d25fdc0ba731032b34ec8782e5a48ca3bfa...   \n6d2890bbcb0d611c17dcbee8a697195615ea0c39c3dfb6e...  [res/0955ce43b7565b433e3868b7ab55e5ba0ac30a742...   \nd78764acc7daa0a630edfa411c742728278de4cde318b7a...  [res/1ff4ba152dec19e84913c525f8bc448f75a86d737...   \n\n                                                                                              content  \\\n_id                                                                                                     \n2225a7e0331142c1ff8c370ab0ff8d7f07bbb85fcbd5f6f...  L_2021049EN.01000601.xml 12.2.2021 EN Official...   \n1711ad72d00bfc03927e7446cb4773a04fd2a5b5288fcb4...  L_2019322EN.01000101.xml 12.12.2019 EN Officia...   \n833c1dd78f9a649f9b8b77128e4783df14ea224930697bb...  L_2020390EN.01000101.xml 20.11.2020 EN Officia...   \n1b5190ed21009069932abbd6a5879fb9a3b94437f55578b...  L_2021213EN.01000101.xml 16.6.2021 EN Official...   \n4b2303f43b73ea0945a644e815573f15814615d20768145...  L_2014173EN.01019001.xml 12.6.2014 EN Official...   \n...                                                                                               ...   \n932a4b13cf8205003ad9ebbdc03d845c111594bbf834841...  L_2021231EN.01000101.xml 30.6.2021 EN Official...   \ne129e270ac52d1df145b5bb148669ab549e6e86602ac493...  L_2016070EN.01000101.xml 16.3.2016 EN Official...   \n9c59c922147534917d4f21266e733e404f80aca6b382f56...  L_2019314EN.01000101.xml 5.12.2019 EN Official...   \n6d2890bbcb0d611c17dcbee8a697195615ea0c39c3dfb6e...  L_2019314EN.01006401.xml 5.12.2019 EN Official...   \nd78764acc7daa0a630edfa411c742728278de4cde318b7a...  L_2019140EN.01000601.xml 28.5.2019 EN Official...   \n\n                                                   language  \n_id                                                          \n2225a7e0331142c1ff8c370ab0ff8d7f07bbb85fcbd5f6f...     None  \n1711ad72d00bfc03927e7446cb4773a04fd2a5b5288fcb4...     None  \n833c1dd78f9a649f9b8b77128e4783df14ea224930697bb...     None  \n1b5190ed21009069932abbd6a5879fb9a3b94437f55578b...     None  \n4b2303f43b73ea0945a644e815573f15814615d20768145...     None  \n...                                                     ...  \n932a4b13cf8205003ad9ebbdc03d845c111594bbf834841...     None  \ne129e270ac52d1df145b5bb148669ab549e6e86602ac493...     None  \n9c59c922147534917d4f21266e733e404f80aca6b382f56...     None  \n6d2890bbcb0d611c17dcbee8a697195615ea0c39c3dfb6e...     None  \nd78764acc7daa0a630edfa411c742728278de4cde318b7a...     None  \n\n[70 rows x 38 columns]",
      "text/html": "<div>\n<style scoped>\n    .dataframe tbody tr th:only-of-type {\n        vertical-align: middle;\n    }\n\n    .dataframe tbody tr th {\n        vertical-align: top;\n    }\n\n    .dataframe thead th {\n        text-align: right;\n    }\n</style>\n<table border=\"1\" class=\"dataframe\">\n  <thead>\n    <tr style=\"text-align: right;\">\n      <th></th>\n      <th>work</th>\n      <th>title</th>\n      <th>cdm_types</th>\n      <th>cdm_type_labels</th>\n      <th>resource_types</th>\n      <th>resource_type_labels</th>\n      <th>eurovoc_concepts</th>\n      <th>eurovoc_concept_labels</th>\n      <th>subject_matters</th>\n      <th>subject_matter_labels</th>\n      <th>...</th>\n      <th>pdfs_to_download</th>\n      <th>htmls_to_download</th>\n      <th>dossiers</th>\n      <th>related_works</th>\n      <th>work_sequences</th>\n      <th>core</th>\n      <th>metadata</th>\n      <th>content_path</th>\n      <th>content</th>\n      <th>language</th>\n    </tr>\n    <tr>\n      <th>_id</th>\n      <th></th>\n      <th></th>\n      <th></th>\n      <th></th>\n      <th></th>\n      <th></th>\n      <th></th>\n      <th></th>\n      <th></th>\n      <th></th>\n      <th></th>\n      <th></th>\n      <th></th>\n      <th></th>\n      <th></th>\n      <th></th>\n      <th></th>\n      <th></th>\n      <th></th>\n      <th></th>\n      <th></th>\n    </tr>\n  </thead>\n  <tbody>\n    <tr>\n      <th>2225a7e0331142c1ff8c370ab0ff8d7f07bbb85fcbd5f6f15e17dfdf4decbeba</th>\n      <td>http://publications.europa.eu/resource/cellar/...</td>\n      <td>Regulation (EU) 2021/168 of the European Parli...</td>\n      <td>[http://publications.europa.eu/ontology/cdm#le...</td>\n      <td>None</td>\n      <td>[http://publications.europa.eu/resource/author...</td>\n      <td>[Regulation]</td>\n      <td>[http://eurovoc.europa.eu/1354, http://eurovoc...</td>\n      <td>[benchmarking, consumer protection, financial ...</td>\n      <td>[http://publications.europa.eu/resource/author...</td>\n      <td>[Freedom of establishment]</td>\n      <td>...</td>\n      <td>[http://publications.europa.eu/resource/cellar...</td>\n      <td>[http://publications.europa.eu/resource/cellar...</td>\n      <td>None</td>\n      <td>None</td>\n      <td>None</td>\n      <td>True</td>\n      <td>True</td>\n      <td>[res/ad21a7733098ab518075bf26d392ef36881a5610c...</td>\n      <td>L_2021049EN.01000601.xml 12.2.2021 EN Official...</td>\n      <td>None</td>\n    </tr>\n    <tr>\n      <th>1711ad72d00bfc03927e7446cb4773a04fd2a5b5288fcb48102265a657219d81</th>\n      <td>http://publications.europa.eu/resource/cellar/...</td>\n      <td>Regulation (EU) 2019/2099 of the European Parl...</td>\n      <td>[http://publications.europa.eu/ontology/cdm#le...</td>\n      <td>None</td>\n      <td>[http://publications.europa.eu/resource/author...</td>\n      <td>[Regulation]</td>\n      <td>[http://eurovoc.europa.eu/1459, http://eurovoc...</td>\n      <td>[European Securities and Markets Authority, Eu...</td>\n      <td>[http://publications.europa.eu/resource/author...</td>\n      <td>[Free movement of capital, Internal market - P...</td>\n      <td>...</td>\n      <td>[http://publications.europa.eu/resource/cellar...</td>\n      <td>[http://publications.europa.eu/resource/cellar...</td>\n      <td>None</td>\n      <td>None</td>\n      <td>None</td>\n      <td>True</td>\n      <td>True</td>\n      <td>[res/d62f90a9795a021c790c3443e50173141acb86ac9...</td>\n      <td>L_2019322EN.01000101.xml 12.12.2019 EN Officia...</td>\n      <td>None</td>\n    </tr>\n    <tr>\n      <th>833c1dd78f9a649f9b8b77128e4783df14ea224930697bb4de6c76662cb55884</th>\n      <td>http://publications.europa.eu/resource/cellar/...</td>\n      <td>Commission Delegated Regulation (EU) 2020/1732...</td>\n      <td>[http://publications.europa.eu/ontology/cdm#le...</td>\n      <td>None</td>\n      <td>[http://publications.europa.eu/resource/author...</td>\n      <td>[Delegated regulation]</td>\n      <td>[http://eurovoc.europa.eu/1488, http://eurovoc...</td>\n      <td>[European Securities and Markets Authority, ba...</td>\n      <td>[http://publications.europa.eu/resource/author...</td>\n      <td>[Freedom of establishment, Internal market - P...</td>\n      <td>...</td>\n      <td>[http://publications.europa.eu/resource/cellar...</td>\n      <td>[http://publications.europa.eu/resource/cellar...</td>\n      <td>None</td>\n      <td>None</td>\n      <td>None</td>\n      <td>True</td>\n      <td>True</td>\n      <td>[res/82fec7b7c11313f3ddf488dd25d4e9ef91129772d...</td>\n      <td>L_2020390EN.01000101.xml 20.11.2020 EN Officia...</td>\n      <td>None</td>\n    </tr>\n    <tr>\n      <th>1b5190ed21009069932abbd6a5879fb9a3b94437f55578b1c5cab889fcbbaf2f</th>\n      <td>http://publications.europa.eu/resource/cellar/...</td>\n      <td>Commission Delegated Regulation (EU) 2021/962 ...</td>\n      <td>[http://publications.europa.eu/ontology/cdm#le...</td>\n      <td>None</td>\n      <td>[http://publications.europa.eu/resource/author...</td>\n      <td>[Delegated regulation]</td>\n      <td>[http://eurovoc.europa.eu/3751, http://eurovoc...</td>\n      <td>[financial derivative, financial legislation, ...</td>\n      <td>[http://publications.europa.eu/resource/author...</td>\n      <td>[Free movement of capital, Freedom of establis...</td>\n      <td>...</td>\n      <td>[http://publications.europa.eu/resource/cellar...</td>\n      <td>[http://publications.europa.eu/resource/cellar...</td>\n      <td>None</td>\n      <td>None</td>\n      <td>None</td>\n      <td>True</td>\n      <td>True</td>\n      <td>[res/757e7b519b130776c91830ba34ec2e2f2df2a20cc...</td>\n      <td>L_2021213EN.01000101.xml 16.6.2021 EN Official...</td>\n      <td>None</td>\n    </tr>\n    <tr>\n      <th>4b2303f43b73ea0945a644e815573f15814615d207681459a7e80c576a3ff053</th>\n      <td>http://publications.europa.eu/resource/cellar/...</td>\n      <td>Directive 2014/59/EU of the European Parliamen...</td>\n      <td>[http://publications.europa.eu/ontology/cdm#di...</td>\n      <td>None</td>\n      <td>[http://publications.europa.eu/resource/author...</td>\n      <td>[Directive]</td>\n      <td>[http://eurovoc.europa.eu/1485, http://eurovoc...</td>\n      <td>[aid for restructuring, company in difficultie...</td>\n      <td>[http://publications.europa.eu/resource/author...</td>\n      <td>[Economic policy]</td>\n      <td>...</td>\n      <td>[http://publications.europa.eu/resource/cellar...</td>\n      <td>[http://publications.europa.eu/resource/cellar...</td>\n      <td>None</td>\n      <td>None</td>\n      <td>None</td>\n      <td>True</td>\n      <td>True</td>\n      <td>[res/c2cdc915102721e4211b4d6d7b228ef2cc6b20d68...</td>\n      <td>L_2014173EN.01019001.xml 12.6.2014 EN Official...</td>\n      <td>None</td>\n    </tr>\n    <tr>\n      <th>...</th>\n      <td>...</td>\n      <td>...</td>\n      <td>...</td>\n      <td>...</td>\n      <td>...</td>\n      <td>...</td>\n      <td>...</td>\n      <td>...</td>\n      <td>...</td>\n      <td>...</td>\n      <td>...</td>\n      <td>...</td>\n      <td>...</td>\n      <td>...</td>\n      <td>...</td>\n      <td>...</td>\n      <td>...</td>\n      <td>...</td>\n      <td>...</td>\n      <td>...</td>\n      <td>...</td>\n    </tr>\n    <tr>\n      <th>932a4b13cf8205003ad9ebbdc03d845c111594bbf834841fbeca29131b9c3fc2</th>\n      <td>http://publications.europa.eu/resource/cellar/...</td>\n      <td>Regulation (EU) 2021/1056 of the European Parl...</td>\n      <td>[http://publications.europa.eu/ontology/cdm#le...</td>\n      <td>None</td>\n      <td>[http://publications.europa.eu/resource/author...</td>\n      <td>[Regulation]</td>\n      <td>[http://eurovoc.europa.eu/1052, http://eurovoc...</td>\n      <td>[Community support framework, adaptation to cl...</td>\n      <td>[http://publications.europa.eu/resource/author...</td>\n      <td>[Economic, social and territorial cohesion, En...</td>\n      <td>...</td>\n      <td>[http://publications.europa.eu/resource/cellar...</td>\n      <td>[http://publications.europa.eu/resource/cellar...</td>\n      <td>None</td>\n      <td>None</td>\n      <td>None</td>\n      <td>True</td>\n      <td>True</td>\n      <td>[res/0ecc04a48a56bf6072c0dcfc92358222add1e236c...</td>\n      <td>L_2021231EN.01000101.xml 30.6.2021 EN Official...</td>\n      <td>None</td>\n    </tr>\n    <tr>\n      <th>e129e270ac52d1df145b5bb148669ab549e6e86602ac49314a8e0854944f6d06</th>\n      <td>http://publications.europa.eu/resource/cellar/...</td>\n      <td>Council Regulation (EU) 2016/369 of 15 March 2...</td>\n      <td>[http://publications.europa.eu/ontology/cdm#le...</td>\n      <td>None</td>\n      <td>[http://publications.europa.eu/resource/author...</td>\n      <td>[Regulation]</td>\n      <td>[http://eurovoc.europa.eu/1005, http://eurovoc...</td>\n      <td>[EU aid, EU financing, aid to disaster victims...</td>\n      <td>[http://publications.europa.eu/resource/author...</td>\n      <td>[Financial provisions, Humanitarian aid, Immig...</td>\n      <td>...</td>\n      <td>[http://publications.europa.eu/resource/cellar...</td>\n      <td>[http://publications.europa.eu/resource/cellar...</td>\n      <td>None</td>\n      <td>None</td>\n      <td>None</td>\n      <td>True</td>\n      <td>True</td>\n      <td>[res/30b93b5252cba1f2c5da9c69236716e5b4a0e34d8...</td>\n      <td>L_2016070EN.01000101.xml 16.3.2016 EN Official...</td>\n      <td>None</td>\n    </tr>\n    <tr>\n      <th>9c59c922147534917d4f21266e733e404f80aca6b382f563d1876797c3bf2701</th>\n      <td>http://publications.europa.eu/resource/cellar/...</td>\n      <td>Regulation (EU) 2019/2033 of the European Parl...</td>\n      <td>[http://publications.europa.eu/ontology/cdm#le...</td>\n      <td>None</td>\n      <td>[http://publications.europa.eu/resource/author...</td>\n      <td>[Regulation]</td>\n      <td>[http://eurovoc.europa.eu/189, http://eurovoc....</td>\n      <td>[capital market, disclosure of information, fi...</td>\n      <td>[http://publications.europa.eu/resource/author...</td>\n      <td>[Financial provisions, Freedom of establishmen...</td>\n      <td>...</td>\n      <td>[http://publications.europa.eu/resource/cellar...</td>\n      <td>[http://publications.europa.eu/resource/cellar...</td>\n      <td>None</td>\n      <td>None</td>\n      <td>None</td>\n      <td>True</td>\n      <td>True</td>\n      <td>[res/51c0b8d25fdc0ba731032b34ec8782e5a48ca3bfa...</td>\n      <td>L_2019314EN.01000101.xml 5.12.2019 EN Official...</td>\n      <td>None</td>\n    </tr>\n    <tr>\n      <th>6d2890bbcb0d611c17dcbee8a697195615ea0c39c3dfb6e0a2d2f283e6e498d1</th>\n      <td>http://publications.europa.eu/resource/cellar/...</td>\n      <td>Directive (EU) 2019/2034 of the European Parli...</td>\n      <td>[http://publications.europa.eu/ontology/cdm#le...</td>\n      <td>None</td>\n      <td>[http://publications.europa.eu/resource/author...</td>\n      <td>[Directive]</td>\n      <td>[http://eurovoc.europa.eu/189, http://eurovoc....</td>\n      <td>[capital market, disclosure of information, fi...</td>\n      <td>[http://publications.europa.eu/resource/author...</td>\n      <td>[Approximation of laws, Financial provisions, ...</td>\n      <td>...</td>\n      <td>[http://publications.europa.eu/resource/cellar...</td>\n      <td>[http://publications.europa.eu/resource/cellar...</td>\n      <td>None</td>\n      <td>None</td>\n      <td>None</td>\n      <td>True</td>\n      <td>True</td>\n      <td>[res/0955ce43b7565b433e3868b7ab55e5ba0ac30a742...</td>\n      <td>L_2019314EN.01006401.xml 5.12.2019 EN Official...</td>\n      <td>None</td>\n    </tr>\n    <tr>\n      <th>d78764acc7daa0a630edfa411c742728278de4cde318b7aa98d992dd9d82834c</th>\n      <td>http://publications.europa.eu/resource/cellar/...</td>\n      <td>Commission Delegated Regulation (EU) 2019/856 ...</td>\n      <td>[http://publications.europa.eu/ontology/cdm#le...</td>\n      <td>None</td>\n      <td>[http://publications.europa.eu/resource/author...</td>\n      <td>[Delegated regulation]</td>\n      <td>[http://eurovoc.europa.eu/1439, http://eurovoc...</td>\n      <td>[EU Emissions Trading Scheme, EU emission allo...</td>\n      <td>[http://publications.europa.eu/resource/author...</td>\n      <td>[Environment]</td>\n      <td>...</td>\n      <td>[http://publications.europa.eu/resource/cellar...</td>\n      <td>[http://publications.europa.eu/resource/cellar...</td>\n      <td>None</td>\n      <td>None</td>\n      <td>None</td>\n      <td>True</td>\n      <td>True</td>\n      <td>[res/1ff4ba152dec19e84913c525f8bc448f75a86d737...</td>\n      <td>L_2019140EN.01000601.xml 28.5.2019 EN Official...</td>\n      <td>None</td>\n    </tr>\n  </tbody>\n</table>\n<p>70 rows × 38 columns</p>\n</div>"
     },
     "execution_count": 59,
     "metadata": {},
     "output_type": "execute_result"
    }
   ],
   "source": [
    "explorer"
   ],
   "metadata": {
    "collapsed": false,
    "pycharm": {
     "name": "#%%\n"
    }
   }
  },
  {
   "cell_type": "code",
   "execution_count": 62,
   "outputs": [
    {
     "data": {
      "text/plain": "_id\n2225a7e0331142c1ff8c370ab0ff8d7f07bbb85fcbd5f6f15e17dfdf4decbeba    http://publications.europa.eu/resource/cellar/...\n1711ad72d00bfc03927e7446cb4773a04fd2a5b5288fcb48102265a657219d81    http://publications.europa.eu/resource/cellar/...\n833c1dd78f9a649f9b8b77128e4783df14ea224930697bb4de6c76662cb55884    http://publications.europa.eu/resource/cellar/...\n1b5190ed21009069932abbd6a5879fb9a3b94437f55578b1c5cab889fcbbaf2f    http://publications.europa.eu/resource/cellar/...\n4b2303f43b73ea0945a644e815573f15814615d207681459a7e80c576a3ff053    http://publications.europa.eu/resource/cellar/...\n                                                                                          ...                        \n932a4b13cf8205003ad9ebbdc03d845c111594bbf834841fbeca29131b9c3fc2    http://publications.europa.eu/resource/cellar/...\ne129e270ac52d1df145b5bb148669ab549e6e86602ac49314a8e0854944f6d06    http://publications.europa.eu/resource/cellar/...\n9c59c922147534917d4f21266e733e404f80aca6b382f563d1876797c3bf2701    http://publications.europa.eu/resource/cellar/...\n6d2890bbcb0d611c17dcbee8a697195615ea0c39c3dfb6e0a2d2f283e6e498d1    http://publications.europa.eu/resource/cellar/...\nd78764acc7daa0a630edfa411c742728278de4cde318b7aa98d992dd9d82834c    http://publications.europa.eu/resource/cellar/...\nName: work, Length: 70, dtype: object"
     },
     "execution_count": 62,
     "metadata": {},
     "output_type": "execute_result"
    }
   ],
   "source": [],
   "metadata": {
    "collapsed": false,
    "pycharm": {
     "name": "#%%\n"
    }
   }
  },
  {
   "cell_type": "code",
   "execution_count": 66,
   "outputs": [],
   "source": [
    "id_documents = explorer['id_documents'].reset_index(drop=True).to_list()\n",
    "work = explorer['work'].reset_index(drop=True).to_list()"
   ],
   "metadata": {
    "collapsed": false,
    "pycharm": {
     "name": "#%%\n"
    }
   }
  },
  {
   "cell_type": "code",
   "execution_count": 52,
   "outputs": [],
   "source": [
    "celex_id = [document_id[0][6:] for document_id in id_documents]"
   ],
   "metadata": {
    "collapsed": false,
    "pycharm": {
     "name": "#%%\n"
    }
   }
  },
  {
   "cell_type": "code",
   "execution_count": null,
   "outputs": [],
   "source": [
    "for reference in work:\n",
    "    print('http://publications.europa.eu/resource/cellar/665d41b1-2085-4584-af8a-45c605d62b94' in reference)"
   ],
   "metadata": {
    "collapsed": false,
    "pycharm": {
     "name": "#%%\n"
    }
   }
  },
  {
   "cell_type": "code",
   "execution_count": 71,
   "outputs": [
    {
     "name": "stdout",
     "output_type": "stream",
     "text": [
      "False\n",
      "False\n",
      "False\n",
      "False\n",
      "False\n",
      "False\n",
      "False\n",
      "False\n",
      "False\n",
      "False\n",
      "False\n",
      "False\n",
      "False\n",
      "False\n",
      "False\n",
      "False\n",
      "False\n",
      "False\n",
      "False\n",
      "False\n",
      "False\n",
      "False\n",
      "False\n",
      "False\n",
      "False\n",
      "False\n",
      "False\n",
      "False\n",
      "False\n",
      "False\n",
      "False\n",
      "False\n",
      "False\n",
      "False\n",
      "False\n",
      "False\n",
      "False\n",
      "False\n",
      "True\n",
      "False\n",
      "False\n",
      "False\n",
      "False\n",
      "False\n",
      "False\n",
      "False\n",
      "False\n",
      "False\n",
      "False\n",
      "False\n",
      "False\n",
      "False\n",
      "False\n",
      "False\n",
      "False\n",
      "False\n",
      "False\n",
      "False\n",
      "False\n",
      "False\n",
      "False\n",
      "False\n",
      "False\n",
      "False\n",
      "False\n",
      "False\n",
      "False\n",
      "False\n",
      "False\n",
      "False\n"
     ]
    }
   ],
   "source": [
    "for id in celex_id:\n",
    "    print('32013R1286' in id)"
   ],
   "metadata": {
    "collapsed": false,
    "pycharm": {
     "name": "#%%\n"
    }
   }
  },
  {
   "cell_type": "code",
   "execution_count": 73,
   "outputs": [],
   "source": [
    "from sem_covid.services.data_registry import Dataset"
   ],
   "metadata": {
    "collapsed": false,
    "pycharm": {
     "name": "#%%\n"
    }
   }
  },
  {
   "cell_type": "code",
   "execution_count": 80,
   "outputs": [
    {
     "name": "stderr",
     "output_type": "stream",
     "text": [
      "100% (210 of 210) |######################| Elapsed Time: 0:00:00 Time:  0:00:00\n"
     ]
    }
   ],
   "source": [
    "df1 = Dataset.EU_ACTION_TIMELINE.fetch()"
   ],
   "metadata": {
    "collapsed": false,
    "pycharm": {
     "name": "#%%\n"
    }
   }
  },
  {
   "cell_type": "code",
   "execution_count": 82,
   "outputs": [
    {
     "data": {
      "text/plain": "_id\n6f7b5c48577b676dfe245c235f95d908de88065835d3af3502227eb167af578c                                 Today the Commission\n7048376c33c84aacd6cd6afc3b30c9d0c66daf2cf1e889437bd7a35d9dbab3be    The European Commission has disbursed 13 billi...\n7245825eaf114273bfb8056794db8636c14d08eb5bccf245139547b1b34c256c    Today, the Commission presents a package of gu...\n72d78db8a2d763bd09c7673886a53b9eb89916fb64eb939b4d851b9bf13bf418    The European Commission has set up an EU Human...\n72ec8adbd87ac5a7d6b0aa0f0efce3eee0b0e2c09ef33c9b9b6a3159ce1dde77    Today, the President of the European Commissio...\n                                                                                          ...                        \n423ca5cb89149ce41a92b141d5739b6559052af9cec0ee95918f7fcc0072ff7a    The Commission has today adopted a banking pac...\n4260d4c621ffcbe1d78a579093b37e172aea0913fb09bef2fe2b4bfec55d91be    The Commission has today proposed modification...\n43509bc1f4de25504deb7e0b95069e2813b9b518fc68216cc29f376460e9616b    Today, the European Commission signed a third ...\n443159f6f263f6d9f7591f0d9407fc929815868149676463aaf6d9d749e28873    The European Commission has today adopted a po...\n451c2f8c8828869ea1823f0a22ac479b4029c806cb6cfe568cd7127bbf79a280    The European Commission has disbursed 14 billi...\nName: detail_content, Length: 210, dtype: object"
     },
     "execution_count": 82,
     "metadata": {},
     "output_type": "execute_result"
    }
   ],
   "source": [
    "df1['detail_content']"
   ],
   "metadata": {
    "collapsed": false,
    "pycharm": {
     "name": "#%%\n"
    }
   }
  },
  {
   "cell_type": "code",
   "execution_count": null,
   "outputs": [],
   "source": [],
   "metadata": {
    "collapsed": false,
    "pycharm": {
     "name": "#%%\n"
    }
   }
  }
 ],
 "metadata": {
  "kernelspec": {
   "display_name": "Python 3",
   "language": "python",
   "name": "python3"
  },
  "language_info": {
   "codemirror_mode": {
    "name": "ipython",
    "version": 2
   },
   "file_extension": ".py",
   "mimetype": "text/x-python",
   "name": "python",
   "nbconvert_exporter": "python",
   "pygments_lexer": "ipython2",
   "version": "2.7.6"
  }
 },
 "nbformat": 4,
 "nbformat_minor": 0
}