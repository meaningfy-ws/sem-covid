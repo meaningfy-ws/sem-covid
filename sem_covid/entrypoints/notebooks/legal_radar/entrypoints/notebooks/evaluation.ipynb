{
 "cells": [
  {
   "cell_type": "code",
   "execution_count": 2,
   "source": [
    "import sys\n",
    "\n",
    "sys.path.append(\"/home/jovyan/work/sem-covid/\")\n",
    "sys.path = list(set(sys.path))\n",
    "import os\n",
    "\n",
    "os.getcwd()\n",
    "os.chdir('/home/jovyan/work/sem-covid/')\n",
    "\n",
    "import pickle\n",
    "from more_itertools import unique_everseen\n",
    "\n",
    "import faiss\n",
    "import pandas as pd\n",
    "import numpy as np\n",
    "\n",
    "from sem_covid.entrypoints.notebooks.legal_radar.services.split_documents_pipeline import DOCUMENT_ID_SOURCE\n",
    "from sem_covid.services.store_registry import store_registry\n",
    "from sem_covid.services.model_registry import embedding_registry\n",
    "from sem_covid import config\n",
    "from sem_covid.services.sc_wrangling.feature_selector import reduce_array_column"
   ],
   "outputs": [],
   "metadata": {
    "collapsed": true
   }
  },
  {
   "cell_type": "code",
   "execution_count": 3,
   "source": [
    "filter_year = [1900, 2021, (1900, 2021), 1]"
   ],
   "outputs": [],
   "metadata": {}
  },
  {
   "cell_type": "code",
   "execution_count": 4,
   "source": [
    "FAISS_BUCKET_NAME = 'faiss-index'\n",
    "FAISS_INDEX_FINREG_NAME = 'faiss_index_finreg.pkl'\n",
    "FIN_REG_SPLITTED_ES_INDEX = 'ds_finreg_splitted'\n",
    "DATES_DOCUMENT = 'dates_document'\n",
    "HTML_LINKS = 'htmls_to_download'\n",
    "DEFAULT_SEARCH = \"\"\"The Semantic Interoperability Community develops solutions to help European public administrations perform seamless and meaningful cross-border and cross-domain data exchanges.\"\"\"\n",
    "TEXT_PIECE = 'text_piece'"
   ],
   "outputs": [],
   "metadata": {
    "collapsed": false,
    "pycharm": {
     "name": "#%%\n"
    }
   }
  },
  {
   "cell_type": "code",
   "execution_count": 5,
   "source": [
    "def load_documents():\n",
    "    \"\"\"Read the data from ES.\"\"\"\n",
    "    es_store = store_registry.es_index_store()\n",
    "    df = es_store.get_dataframe(index_name=config.EU_FINREG_CELLAR_ELASTIC_SEARCH_INDEX_NAME)\n",
    "    df[DATES_DOCUMENT] = pd.to_datetime(df[DATES_DOCUMENT]).dt.date\n",
    "    return df\n",
    "\n",
    "\n",
    "def load_splitted_documents():\n",
    "    \"\"\"Read the data from ES.\"\"\"\n",
    "    es_store = store_registry.es_index_store()\n",
    "    return es_store.get_dataframe(index_name=FIN_REG_SPLITTED_ES_INDEX)\n",
    "\n",
    "\n",
    "def load_emb_model():\n",
    "    return embedding_registry.sent2vec_universal_sent_encoding()\n",
    "\n",
    "\n",
    "def load_faiss_index():\n",
    "    \"\"\"Load and deserialize the Faiss index.\"\"\"\n",
    "    minio_store = store_registry.minio_object_store(minio_bucket=FAISS_BUCKET_NAME)\n",
    "    data = pickle.loads(minio_store.get_object(object_name=FAISS_INDEX_FINREG_NAME))\n",
    "    return faiss.deserialize_index(data)\n",
    "\n",
    "\n",
    "documents = load_documents()\n",
    "splitted_documents = load_splitted_documents()\n",
    "model = load_emb_model()\n",
    "faiss_index = load_faiss_index()\n"
   ],
   "outputs": [
    {
     "name": "stderr",
     "output_type": "stream",
     "text": [
      "100% (5791 of 5791) |####################| Elapsed Time: 0:00:04 Time:  0:00:04\n",
      "100% (69866 of 69866) |##################| Elapsed Time: 0:00:25 Time:  0:00:25\n",
      "INFO:absl:Using /tmp/tfhub_modules to cache modules.\n"
     ]
    }
   ],
   "metadata": {
    "collapsed": false,
    "pycharm": {
     "name": "#%%\n"
    }
   }
  },
  {
   "cell_type": "code",
   "execution_count": 739,
   "source": [
    "def semantic_search(user_input: str):\n",
    "    num_results = 100\n",
    "    embeddings = model.encode(sentences=[user_input])\n",
    "    D, I = faiss_index.search(np.array(embeddings).astype(\"float32\"), k=num_results)\n",
    "    document_parts = pd.DataFrame(splitted_documents.iloc[I.flatten().tolist()])\n",
    "    document_parts['similarity'] = D.flatten().tolist()\n",
    "    document_parts['similarity'] = pd.Series(D.flatten().tolist()).values\n",
    "    documents_id = list(unique_everseen(\n",
    "        splitted_documents.iloc[I.flatten().tolist()][DOCUMENT_ID_SOURCE].values))\n",
    "    frame = documents.loc[documents_id]  # 28 values\n",
    "    result = []\n",
    "    for index in frame.index:\n",
    "        document_parts_by_index = document_parts[document_parts[DOCUMENT_ID_SOURCE] == index]  # 8 values || 1 in list\n",
    "        # documents_id = document_parts_by_index[DOCUMENT_ID_SOURCE].values\n",
    "        #document_parts = document_parts_by_index.drop_duplicates(DOCUMENT_ID_SOURCE).reset_index(drop=True)\n",
    "        result.append(document_parts)\n",
    "        # documents_id = document_parts_by_index[DOCUMENT_ID_SOURCE].values\n",
    "        # frame = documents.loc[documents_id]\n",
    "        # result_documents = pd.DataFrame(documents.loc[documents_id]).reset_index(drop=True)\n",
    "    # result_documents['similarity'] = document_parts_by_index['similarity'].to_list()\n",
    "    # result_documents['text_piece'] = document_parts_by_index['text_piece']\n",
    "\n",
    "    return result\n",
    "    # return document_parts_by_index"
   ],
   "outputs": [],
   "metadata": {}
  },
  {
   "cell_type": "code",
   "execution_count": 6,
   "outputs": [],
   "source": [
    "user_input = \"Hello World!\"\n",
    "num_results = 100\n",
    "embeddings = model.encode(sentences=[user_input])\n",
    "D, I = faiss_index.search(np.array(embeddings).astype(\"float32\"), k=num_results)\n",
    "document_parts = pd.DataFrame(splitted_documents.iloc[I.flatten().tolist()])\n",
    "#document_parts['similarity'] = D.flatten().tolist()\n",
    "document_parts['similarity'] = pd.Series(D.flatten().tolist()).values\n",
    "documents_id = list(unique_everseen(\n",
    "    splitted_documents.iloc[I.flatten().tolist()][DOCUMENT_ID_SOURCE].values))\n",
    "frame = documents.loc[documents_id]"
   ],
   "metadata": {
    "collapsed": false,
    "pycharm": {
     "name": "#%%\n"
    }
   }
  },
  {
   "cell_type": "code",
   "execution_count": 22,
   "outputs": [],
   "source": [
    "documents_slices = {}\n",
    "for index in frame.index:\n",
    "    tmp_dict = {}\n",
    "    tmp_document_parts = document_parts[document_parts[DOCUMENT_ID_SOURCE] == index]\n",
    "    tmp_dict['document_slices'] = tmp_document_parts.text_piece.values\n",
    "    tmp_dict['document_slices_similarity'] = tmp_document_parts.similarity.values\n",
    "    documents_slices[index] = tmp_dict"
   ],
   "metadata": {
    "collapsed": false,
    "pycharm": {
     "name": "#%%\n"
    }
   }
  },
  {
   "cell_type": "code",
   "execution_count": 28,
   "outputs": [],
   "source": [
    "tmp_df = pd.DataFrame(documents_slices).T"
   ],
   "metadata": {
    "collapsed": false,
    "pycharm": {
     "name": "#%%\n"
    }
   }
  },
  {
   "cell_type": "code",
   "execution_count": 35,
   "outputs": [],
   "source": [
    "tmp_df.document_slices_similarity = tmp_df.document_slices_similarity.apply(\n",
    "    lambda x: np.array(list(map(lambda y: round(y, 4), x))))"
   ],
   "metadata": {
    "collapsed": false,
    "pycharm": {
     "name": "#%%\n"
    }
   }
  },
  {
   "cell_type": "code",
   "execution_count": 49,
   "outputs": [],
   "source": [
    "result_df  = frame.join(tmp_df)"
   ],
   "metadata": {
    "collapsed": false,
    "pycharm": {
     "name": "#%%\n"
    }
   }
  },
  {
   "cell_type": "code",
   "execution_count": 53,
   "outputs": [
    {
     "data": {
      "text/plain": "                                                                                              content  \\\n_id                                                                                                     \n69d03cfd8f7c89d99cb194d405a516d8d9e204e514165a4...  23.12.2016 EN Official Journal of the European...   \n26544e68ef92c113faea37d761bb4505026e1e549b7f36d...  3.3.2015 EN Official Journal of the European U...   \n01d0a59e47da00c8c01280dda46a7a1eb6a5406fe3ca0a2...  2.12.2020 EN Official Journal of the European ...   \n109a6c3c02c83073c6c9215f7d31ee57a85276aec657cd4...  2.7.2019 EN Official Journal of the European U...   \nd049ef633bc0680ba095d35f8bec7d4f2f552e2b3dc1443...  28.12.2020 EN Official Journal of the European...   \n...                                                                                               ...   \n7a83ba354a82be4c790295a74e1e67935efec6806ff71fe...  29.10.2008 EN Official Journal of the European...   \n34646feed14bb1b91dd1a94e45a26576e5b955b9644f721...  5.8.2020 EN Official Journal of the European U...   \n88efb39c5ccf58e7447708afabbe380c2ee77c70687e5f4...  12.6.2014 EN Official Journal of the European ...   \nedccd1d0813f3171edd3d29c81afb4c25e863139c7a376b...  7.6.2019 EN Official Journal of the European U...   \n740cb89e063144d0df1d4bb9b01ece8ee9f871ce1c1041b...  12.10.2010 EN Official Journal of the European...   \n\n                                                                                      document_slices  \\\n_id                                                                                                     \n69d03cfd8f7c89d99cb194d405a516d8d9e204e514165a4...  [The obligation to transpose the provisions wh...   \n26544e68ef92c113faea37d761bb4505026e1e549b7f36d...  [(22) In order to allow for timely programming...   \n01d0a59e47da00c8c01280dda46a7a1eb6a5406fe3ca0a2...  [That committee shall be a committee within th...   \n109a6c3c02c83073c6c9215f7d31ee57a85276aec657cd4...  [Yes Yes 3 Installation name M Free Yes Yes Ye...   \nd049ef633bc0680ba095d35f8bec7d4f2f552e2b3dc1443...  [The thematic objective referred to in the fir...   \n...                                                                                               ...   \n7a83ba354a82be4c790295a74e1e67935efec6806ff71fe...  [Where reference is made to this paragraph, Ar...   \n34646feed14bb1b91dd1a94e45a26576e5b955b9644f721...  [2. Notwithstanding paragraph 1 of this Articl...   \n88efb39c5ccf58e7447708afabbe380c2ee77c70687e5f4...  [Where a new benchmark is developed after 3 Ja...   \nedccd1d0813f3171edd3d29c81afb4c25e863139c7a376b...  [Where an institution has a subsidiary which i...   \n740cb89e063144d0df1d4bb9b01ece8ee9f871ce1c1041b...  [During the period provided for in Article 357...   \n\n                                                          document_slices_similarity  \n_id                                                                                   \n69d03cfd8f7c89d99cb194d405a516d8d9e204e514165a4...                          [1.5111]  \n26544e68ef92c113faea37d761bb4505026e1e549b7f36d...                  [1.5199, 1.5644]  \n01d0a59e47da00c8c01280dda46a7a1eb6a5406fe3ca0a2...                          [1.5328]  \n109a6c3c02c83073c6c9215f7d31ee57a85276aec657cd4...  [1.5432, 1.5559, 1.5571, 1.5801]  \nd049ef633bc0680ba095d35f8bec7d4f2f552e2b3dc1443...                  [1.5448, 1.6106]  \n...                                                                              ...  \n7a83ba354a82be4c790295a74e1e67935efec6806ff71fe...                          [1.6136]  \n34646feed14bb1b91dd1a94e45a26576e5b955b9644f721...                          [1.6142]  \n88efb39c5ccf58e7447708afabbe380c2ee77c70687e5f4...                          [1.6146]  \nedccd1d0813f3171edd3d29c81afb4c25e863139c7a376b...                          [1.6149]  \n740cb89e063144d0df1d4bb9b01ece8ee9f871ce1c1041b...                          [1.6149]  \n\n[66 rows x 3 columns]",
      "text/html": "<div>\n<style scoped>\n    .dataframe tbody tr th:only-of-type {\n        vertical-align: middle;\n    }\n\n    .dataframe tbody tr th {\n        vertical-align: top;\n    }\n\n    .dataframe thead th {\n        text-align: right;\n    }\n</style>\n<table border=\"1\" class=\"dataframe\">\n  <thead>\n    <tr style=\"text-align: right;\">\n      <th></th>\n      <th>content</th>\n      <th>document_slices</th>\n      <th>document_slices_similarity</th>\n    </tr>\n    <tr>\n      <th>_id</th>\n      <th></th>\n      <th></th>\n      <th></th>\n    </tr>\n  </thead>\n  <tbody>\n    <tr>\n      <th>69d03cfd8f7c89d99cb194d405a516d8d9e204e514165a4f504435832ba026ab</th>\n      <td>23.12.2016 EN Official Journal of the European...</td>\n      <td>[The obligation to transpose the provisions wh...</td>\n      <td>[1.5111]</td>\n    </tr>\n    <tr>\n      <th>26544e68ef92c113faea37d761bb4505026e1e549b7f36d62ecd5c733bb84b9f</th>\n      <td>3.3.2015 EN Official Journal of the European U...</td>\n      <td>[(22) In order to allow for timely programming...</td>\n      <td>[1.5199, 1.5644]</td>\n    </tr>\n    <tr>\n      <th>01d0a59e47da00c8c01280dda46a7a1eb6a5406fe3ca0a2edd3a8d46ab5deadc</th>\n      <td>2.12.2020 EN Official Journal of the European ...</td>\n      <td>[That committee shall be a committee within th...</td>\n      <td>[1.5328]</td>\n    </tr>\n    <tr>\n      <th>109a6c3c02c83073c6c9215f7d31ee57a85276aec657cd4ff7da743f09bf7f64</th>\n      <td>2.7.2019 EN Official Journal of the European U...</td>\n      <td>[Yes Yes 3 Installation name M Free Yes Yes Ye...</td>\n      <td>[1.5432, 1.5559, 1.5571, 1.5801]</td>\n    </tr>\n    <tr>\n      <th>d049ef633bc0680ba095d35f8bec7d4f2f552e2b3dc1443429cf66acf4781a0b</th>\n      <td>28.12.2020 EN Official Journal of the European...</td>\n      <td>[The thematic objective referred to in the fir...</td>\n      <td>[1.5448, 1.6106]</td>\n    </tr>\n    <tr>\n      <th>...</th>\n      <td>...</td>\n      <td>...</td>\n      <td>...</td>\n    </tr>\n    <tr>\n      <th>7a83ba354a82be4c790295a74e1e67935efec6806ff71febacb96dc8baf8b5c3</th>\n      <td>29.10.2008 EN Official Journal of the European...</td>\n      <td>[Where reference is made to this paragraph, Ar...</td>\n      <td>[1.6136]</td>\n    </tr>\n    <tr>\n      <th>34646feed14bb1b91dd1a94e45a26576e5b955b9644f721b8b402b086d2fa79d</th>\n      <td>5.8.2020 EN Official Journal of the European U...</td>\n      <td>[2. Notwithstanding paragraph 1 of this Articl...</td>\n      <td>[1.6142]</td>\n    </tr>\n    <tr>\n      <th>88efb39c5ccf58e7447708afabbe380c2ee77c70687e5f4384193a55c293dd49</th>\n      <td>12.6.2014 EN Official Journal of the European ...</td>\n      <td>[Where a new benchmark is developed after 3 Ja...</td>\n      <td>[1.6146]</td>\n    </tr>\n    <tr>\n      <th>edccd1d0813f3171edd3d29c81afb4c25e863139c7a376bad3e3ab1c2a8191d8</th>\n      <td>7.6.2019 EN Official Journal of the European U...</td>\n      <td>[Where an institution has a subsidiary which i...</td>\n      <td>[1.6149]</td>\n    </tr>\n    <tr>\n      <th>740cb89e063144d0df1d4bb9b01ece8ee9f871ce1c1041bcdba0e25bdf1e7989</th>\n      <td>12.10.2010 EN Official Journal of the European...</td>\n      <td>[During the period provided for in Article 357...</td>\n      <td>[1.6149]</td>\n    </tr>\n  </tbody>\n</table>\n<p>66 rows × 3 columns</p>\n</div>"
     },
     "execution_count": 53,
     "metadata": {},
     "output_type": "execute_result"
    }
   ],
   "source": [
    "result_df[['content', 'document_slices', 'document_slices_similarity']]"
   ],
   "metadata": {
    "collapsed": false,
    "pycharm": {
     "name": "#%%\n"
    }
   }
  },
  {
   "cell_type": "code",
   "execution_count": 386,
   "source": [
    "doc = load_splitted_documents()"
   ],
   "outputs": [
    {
     "output_type": "stream",
     "name": "stderr",
     "text": [
      "100% (69866 of 69866) |##################| Elapsed Time: 0:00:25 Time:  0:00:25\n"
     ]
    }
   ],
   "metadata": {}
  },
  {
   "cell_type": "code",
   "execution_count": 390,
   "source": [
    "doc['text_piece']"
   ],
   "outputs": [
    {
     "output_type": "execute_result",
     "data": {
      "text/plain": [
       "_id\n",
       "b1b019e1b3e8acaada8bf3a6f1375559f7c055503a998e18929c083874f20845    Council Regulation (EC) No 695/2005 of 26 Apri...\n",
       "f0a9df6bcc52a8c3141143e6f5c930f1229b0cdd86c410f81ba5ac36382c422c    THE COUNCIL OF THE EUROPEAN UNION, Having rega...\n",
       "918fae7f7068d4543bd02df2a3cc71074c6e7c00c828c5ad03e2bb00229eadf5    (5) Application of this mechanism should be te...\n",
       "5100524aeb02b779514c85d9c16996f642350643699b1312bee1ea5cf550d224    It shall apply to expenditure incurred from 1 ...\n",
       "ab3f9e3bb321a7a03419439e620abc5628effc8928589da662a04967269a90be    Council Regulation (EC) No 3234/94 of 20 Decem...\n",
       "                                                                                          ...                        \n",
       "bbfe3907ed0ab3745e63d568a501cc492bb9a6a152e0fb492741f06e559a6f26    OSOBA/ (SL) V JAVNI LISTINI, KI JI JE PRILOZEN...\n",
       "4c083494d2d65d1bf113d32aba6f69169a8af7c91dfd48375dd803334bd2ece2    FORMULAR AR BIFOGAT NAMNS INGEN UPPGIFT OM DOM...\n",
       "62bef0c8780712d7d68fa61626b5e9ba2b5e494b579a2e88a8c1842029910d4c    POTPIS/ (IT) RIQUADRO PER LA FIRMA/ (LV) PARAK...\n",
       "2d85746e411b7549649478feacea482971494ba2e26c0d5799c3592250744e3e    KOLONKA NA PODPIS/ (SL) POLJE ZA PODPIS/ (FI) ...\n",
       "e1f6d0576cc566bb942d4bc37c66a097eec930ecf4cfd809a5c7d6199e24b1b9    SEALA NO STAMPA/ (HR) ZIG ILI PECAT/ (IT) BOLL...\n",
       "Name: text_piece, Length: 69866, dtype: object"
      ]
     },
     "metadata": {},
     "execution_count": 390
    }
   ],
   "metadata": {}
  },
  {
   "cell_type": "code",
   "execution_count": 385,
   "source": [
    "sample_questions['Questions/Text Extracts'][0]"
   ],
   "outputs": [
    {
     "output_type": "execute_result",
     "data": {
      "text/plain": [
       "'‘clearing’ means the process of establishing positions, including the calculation of net obligations, and ensuring that financial instruments, cash, or both, are available to secure the exposures arising from those positions;'"
      ]
     },
     "metadata": {},
     "execution_count": 385
    }
   ],
   "metadata": {}
  },
  {
   "cell_type": "code",
   "execution_count": 356,
   "source": [
    "# documents, celex number and url reference from sample question file\n",
    "sample_questions = pd.read_csv('sem_covid/entrypoints/notebooks/legal_radar/docs/sample_questions_v4.csv').dropna()"
   ],
   "outputs": [],
   "metadata": {
    "collapsed": false,
    "pycharm": {
     "name": "#%%\n"
    }
   }
  },
  {
   "cell_type": "code",
   "execution_count": 430,
   "source": [
    "# def execution_verification(dataset: pd.DataFrame, source_documents_column: str, celex_number_column: str) -> pd.DataFrame:\n",
    "# \"\"\"\n",
    "#     This function helps us to compare the celex id from our source and legal radar semantic search.\n",
    "#     Inserting source document text and his celex number, checks if each document is found in the first\n",
    "#     10 results.\n",
    "# Args:\n",
    "#     dataset: dataframe with required source document and his celex number\n",
    "#     source_documents_column: dataframe's source document column name\n",
    "#     celex_number_column: dataframe's celex number column name\n",
    "\n",
    "# Returns: the name of inserted document and how much results that are having their celex number.\n",
    "# \"\"\"\n",
    "#     results = []\n",
    "\n",
    "#     for (source_document, celex_number) in zip(dataset[source_documents_column], dataset[celex_number_column]):\n",
    "#         executed_search_engine = main(source_document)\n",
    "#         reduced_execution = reduce_array_column(executed_search_engine, 'celex_numbers').reset_index(drop=True)\n",
    "#         sum_celex_number_found = reduced_execution['celex_numbers'].isin([celex_number])\n",
    "#         index = reduced_execution[sum_celex_number_found].index.to_list()\n",
    "\n",
    "#         results.append(\n",
    "#             {\n",
    "#                 'position_in_documents': reduced_execution['content'].loc[index].index.to_list(),\n",
    "#                 'position_in_slices': reduced_execution['text_piece'].loc[index].index.to_list(),\n",
    "#                 'sum_of_values': sum_celex_number_found.sum(),\n",
    "#                 \"similarity_percentage\": reduced_execution['similarity'].apply(lambda x: 1 / (1 + x)).loc[index].to_list()\n",
    "#             }\n",
    "#         )\n",
    "#     result = pd.DataFrame(results).applymap(lambda x: x[0] if isinstance(x, list) else x)\n",
    "\n",
    "#     result['in_top_5_slices'] = result['position_in_slices'] <= 5\n",
    "#     result['in_top_10_slices'] = result['position_in_slices'] <= 10\n",
    "#     result['in_top_5_documents'] = result['position_in_documents'] <= 5\n",
    "#     result['in_top_10_documents'] = result['position_in_documents'] <= 10\n",
    "#     result['in_q3'] = result['similarity_percentage'] >= 0.75\n",
    "\n",
    "#     return pd.concat([dataset, result], axis=1)\n",
    "\n",
    "\n",
    "# def execute_semantic_search(dataset: pd.DataFrame, input_query: str, celex_number: str) -> list:\n",
    "#         results = []\n",
    "\n",
    "#         for (query_text, celex_number) in zip(dataset[input_query], dataset[celex_number]):\n",
    "#             executed_search_engine = semantic_search(query_text)\n",
    "#             reduced_execution = reduce_array_column(executed_search_engine, 'celex_numbers').reset_index(drop=True)\n",
    "#             sum_celex_number_found = reduced_execution['celex_numbers'].isin([celex_number])\n",
    "#             index = reduced_execution[sum_celex_number_found].index.to_list()\n",
    "\n",
    "#             results.append({\n",
    "#                     'position_in_documents': reduced_execution['content'].loc[index].index.to_list(),\n",
    "#                     'position_in_slices': reduced_execution['text_piece'].loc[index].index.to_list(),\n",
    "#                     'sum_of_values': sum_celex_number_found.sum(),\n",
    "#                     \"similarity_percentage\": reduced_execution['similarity'].apply(lambda x: 1 / (1 + x)).loc[index].to_list()})\n",
    "\n",
    "#         return results\n",
    "\n",
    "\n",
    "# def view_semantic_search_results(semantic_search_results) -> pd.DataFrame:\n",
    "#         result = pd.DataFrame(semantic_search_results).applymap(lambda x: x[0] if isinstance(x, list) else x)\n",
    "#         result = result.assign(in_top_5_slices=result['position_in_slices'] <= 5,\n",
    "#                                in_top_10_slices=result['position_in_slices'] <= 10,\n",
    "#                                in_top_5_documents=result['position_in_documents'] <= 5,\n",
    "#                                in_top_10_documents=result['position_in_documents'] <= 10,\n",
    "#                                in_q3=result['similarity_percentage'] >= 0.75)\n",
    "\n",
    "#         return pd.concat([dataset, result], axis=1)\n",
    "\n",
    "\n",
    "class SemanticSearchEvaluation:\n",
    "    \"\"\"Test evaluation for Legal Radar - Semantic Search\"\"\"\n",
    "\n",
    "    def __init__(self, dataset: pd.DataFrame, input_query: str, celex_number: str) -> None:\n",
    "        \"\"\"\n",
    "            dataset: dataframe with required source document and his celex number\n",
    "            source_documents_column: dataframe's source document column name\n",
    "            celex_number_column: dataframe's celex number column name\n",
    "        \"\"\"\n",
    "        self.dataset = dataset\n",
    "        self.input_query = input_query\n",
    "        self.celex_number = celex_number\n",
    "\n",
    "    def execute_semantic_search(self) -> list:\n",
    "        \"\"\"\n",
    "            From inserted dataframe, it finds the column with queries and the values \n",
    "            and executes the semantic search function. IT calculates the sum of found numbers\n",
    "            and gets their indexes. After that it appends into a list the possitions of \n",
    "            documents and documents' slices, sum of found values and similarity percentage.\n",
    "            \n",
    "        \"\"\"\n",
    "        results = []\n",
    "\n",
    "        for (query_text, celex_number) in zip(self.dataset[self.input_query], self.dataset[self.celex_number]):\n",
    "            executed_search_engine = semantic_search(query_text)\n",
    "            reduced_execution = reduce_array_column(executed_search_engine, 'celex_numbers').reset_index(drop=True)\n",
    "            sum_celex_number_found = reduced_execution['celex_numbers'].isin([celex_number])\n",
    "            index = reduced_execution[sum_celex_number_found].index.to_list()\n",
    "\n",
    "            results.append({\n",
    "                'position_in_documents': reduced_execution['content'].loc[index].index.to_list(),\n",
    "                'position_in_slices': reduced_execution['text_piece'].loc[index].index.to_list(),\n",
    "                'sum_of_values': sum_celex_number_found.sum(),\n",
    "                \"similarity_percentage\": reduced_execution['similarity'].apply(lambda x: 1 / (1 + x)).loc[\n",
    "                    index].to_list()})\n",
    "\n",
    "        return results\n",
    "\n",
    "    def view_semantic_search_results(self) -> pd.DataFrame:\n",
    "        \"\"\"\n",
    "            With founded results, it drops the lists from the table and assigns new columns with\n",
    "            boolean statement of founded celex numbers in first 5, 10 search results of documents and\n",
    "            documents' slices and checks if the similarity of those results are more than Q3, and concatenates\n",
    "            the original inserted dataset and new generated one with found data.\n",
    "        \"\"\"\n",
    "        result = pd.DataFrame(self.execute_semantic_search())\n",
    "        result = result.assign(in_top_5_slices=result['position_in_slices'].apply(lambda x: any(np.array(x) <= 5)),\n",
    "                               in_top_10_slices=result['position_in_slices'].apply(lambda x: any(np.array(x) <= 10)),\n",
    "                               in_top_5_documents=result['position_in_documents'].apply(\n",
    "                                   lambda x: any(np.array(x) <= 5)),\n",
    "                               in_top_10_documents=result['position_in_documents'].apply(\n",
    "                                   lambda x: any(np.array(x) <= 10)),\n",
    "                               in_q3=result['similarity_percentage'].apply(lambda x: any(np.array(x) >= 0.75)))\n",
    "\n",
    "        return pd.concat([self.dataset, result], axis=1)\n"
   ],
   "outputs": [],
   "metadata": {
    "collapsed": false,
    "pycharm": {
     "name": "#%%\n"
    }
   }
  },
  {
   "cell_type": "code",
   "execution_count": 431,
   "source": [
    "execution = SemanticSearchEvaluation(sample_questions.iloc[[0, 1, 2]], 'Questions/Text Extracts',\n",
    "                                     'Celex No').view_semantic_search_results()"
   ],
   "outputs": [
    {
     "output_type": "stream",
     "name": "stderr",
     "text": [
      "100% (5791 of 5791) |####################| Elapsed Time: 0:00:03 Time:  0:00:03\n",
      "100% (69866 of 69866) |##################| Elapsed Time: 0:00:26 Time:  0:00:26\n",
      "100% (5791 of 5791) |####################| Elapsed Time: 0:00:05 Time:  0:00:05\n",
      "100% (69866 of 69866) |##################| Elapsed Time: 0:00:25 Time:  0:00:25\n",
      "100% (5791 of 5791) |####################| Elapsed Time: 0:00:05 Time:  0:00:05\n",
      "100% (69866 of 69866) |##################| Elapsed Time: 0:00:25 Time:  0:00:25\n"
     ]
    }
   ],
   "metadata": {}
  },
  {
   "cell_type": "code",
   "execution_count": 433,
   "source": [
    "execution"
   ],
   "outputs": [
    {
     "output_type": "execute_result",
     "data": {
      "text/html": [
       "<div>\n",
       "<style scoped>\n",
       "    .dataframe tbody tr th:only-of-type {\n",
       "        vertical-align: middle;\n",
       "    }\n",
       "\n",
       "    .dataframe tbody tr th {\n",
       "        vertical-align: top;\n",
       "    }\n",
       "\n",
       "    .dataframe thead th {\n",
       "        text-align: right;\n",
       "    }\n",
       "</style>\n",
       "<table border=\"1\" class=\"dataframe\">\n",
       "  <thead>\n",
       "    <tr style=\"text-align: right;\">\n",
       "      <th></th>\n",
       "      <th>No</th>\n",
       "      <th>Questions/Text Extracts</th>\n",
       "      <th>Source Document</th>\n",
       "      <th>Article No</th>\n",
       "      <th>Celex No</th>\n",
       "      <th>Work Reference</th>\n",
       "      <th>ELI</th>\n",
       "      <th>position_in_documents</th>\n",
       "      <th>position_in_slices</th>\n",
       "      <th>sum_of_values</th>\n",
       "      <th>similarity_percentage</th>\n",
       "      <th>in_top_5_slices</th>\n",
       "      <th>in_top_10_slices</th>\n",
       "      <th>in_top_5_documents</th>\n",
       "      <th>in_top_10_documents</th>\n",
       "      <th>in_q3</th>\n",
       "    </tr>\n",
       "  </thead>\n",
       "  <tbody>\n",
       "    <tr>\n",
       "      <th>0</th>\n",
       "      <td>1</td>\n",
       "      <td>‘clearing’ means the process of establishing p...</td>\n",
       "      <td>REGULATION (EU) No 648/2012 OF THE EUROPEAN PA...</td>\n",
       "      <td>2(3)</td>\n",
       "      <td>32012R0648</td>\n",
       "      <td>http://publications.europa.eu/resource/cellar/...</td>\n",
       "      <td>http://data.europa.eu/eli/reg/2012/648/oj</td>\n",
       "      <td>[27]</td>\n",
       "      <td>[27]</td>\n",
       "      <td>1</td>\n",
       "      <td>[0.4546839568469639]</td>\n",
       "      <td>False</td>\n",
       "      <td>False</td>\n",
       "      <td>False</td>\n",
       "      <td>False</td>\n",
       "      <td>False</td>\n",
       "    </tr>\n",
       "    <tr>\n",
       "      <th>1</th>\n",
       "      <td>2</td>\n",
       "      <td>Incentives to promote the use of CCPs have not...</td>\n",
       "      <td>REGULATION (EU) No 648/2012 OF THE EUROPEAN PA...</td>\n",
       "      <td>Recital 13</td>\n",
       "      <td>32012R0648</td>\n",
       "      <td>http://publications.europa.eu/resource/cellar/...</td>\n",
       "      <td>http://data.europa.eu/eli/reg/2012/648/oj</td>\n",
       "      <td>[0]</td>\n",
       "      <td>[0]</td>\n",
       "      <td>1</td>\n",
       "      <td>[0.641506835303643]</td>\n",
       "      <td>True</td>\n",
       "      <td>True</td>\n",
       "      <td>True</td>\n",
       "      <td>True</td>\n",
       "      <td>False</td>\n",
       "    </tr>\n",
       "    <tr>\n",
       "      <th>2</th>\n",
       "      <td>3</td>\n",
       "      <td>Ensuring that the clearing obligation reduces ...</td>\n",
       "      <td>REGULATION (EU) No 648/2012 OF THE EUROPEAN PA...</td>\n",
       "      <td>Recital 15</td>\n",
       "      <td>32012R0648</td>\n",
       "      <td>http://publications.europa.eu/resource/cellar/...</td>\n",
       "      <td>http://data.europa.eu/eli/reg/2012/648/oj</td>\n",
       "      <td>[0]</td>\n",
       "      <td>[0]</td>\n",
       "      <td>1</td>\n",
       "      <td>[0.659670742152862]</td>\n",
       "      <td>True</td>\n",
       "      <td>True</td>\n",
       "      <td>True</td>\n",
       "      <td>True</td>\n",
       "      <td>False</td>\n",
       "    </tr>\n",
       "  </tbody>\n",
       "</table>\n",
       "</div>"
      ],
      "text/plain": [
       "   No                            Questions/Text Extracts  \\\n",
       "0   1  ‘clearing’ means the process of establishing p...   \n",
       "1   2  Incentives to promote the use of CCPs have not...   \n",
       "2   3  Ensuring that the clearing obligation reduces ...   \n",
       "\n",
       "                                     Source Document  Article No    Celex No  \\\n",
       "0  REGULATION (EU) No 648/2012 OF THE EUROPEAN PA...        2(3)  32012R0648   \n",
       "1  REGULATION (EU) No 648/2012 OF THE EUROPEAN PA...  Recital 13  32012R0648   \n",
       "2  REGULATION (EU) No 648/2012 OF THE EUROPEAN PA...  Recital 15  32012R0648   \n",
       "\n",
       "                                      Work Reference  \\\n",
       "0  http://publications.europa.eu/resource/cellar/...   \n",
       "1  http://publications.europa.eu/resource/cellar/...   \n",
       "2  http://publications.europa.eu/resource/cellar/...   \n",
       "\n",
       "                                         ELI position_in_documents  \\\n",
       "0  http://data.europa.eu/eli/reg/2012/648/oj                  [27]   \n",
       "1  http://data.europa.eu/eli/reg/2012/648/oj                   [0]   \n",
       "2  http://data.europa.eu/eli/reg/2012/648/oj                   [0]   \n",
       "\n",
       "  position_in_slices  sum_of_values similarity_percentage  in_top_5_slices  \\\n",
       "0               [27]              1  [0.4546839568469639]            False   \n",
       "1                [0]              1   [0.641506835303643]             True   \n",
       "2                [0]              1   [0.659670742152862]             True   \n",
       "\n",
       "   in_top_10_slices  in_top_5_documents  in_top_10_documents  in_q3  \n",
       "0             False               False                False  False  \n",
       "1              True                True                 True  False  \n",
       "2              True                True                 True  False  "
      ]
     },
     "metadata": {},
     "execution_count": 433
    }
   ],
   "metadata": {}
  },
  {
   "cell_type": "code",
   "execution_count": 520,
   "source": [
    "sample_questions['Questions/Text Extracts'][0]"
   ],
   "outputs": [
    {
     "output_type": "execute_result",
     "data": {
      "text/plain": [
       "'‘clearing’ means the process of establishing positions, including the calculation of net obligations, and ensuring that financial instruments, cash, or both, are available to secure the exposures arising from those positions;'"
      ]
     },
     "metadata": {},
     "execution_count": 520
    }
   ],
   "metadata": {}
  },
  {
   "cell_type": "code",
   "execution_count": 576,
   "source": [
    "a = {'a': [1, 34], 'b': [2, 123], }\n",
    "df = pd.DataFrame(a)\n",
    "df.values.tolist()\n",
    "# df['c'] = df.values.tolist()\n",
    "# df"
   ],
   "outputs": [
    {
     "output_type": "execute_result",
     "data": {
      "text/plain": [
       "[[1, 2], [34, 123]]"
      ]
     },
     "metadata": {},
     "execution_count": 576
    }
   ],
   "metadata": {}
  },
  {
   "cell_type": "code",
   "execution_count": 583,
   "source": [
    "df"
   ],
   "outputs": [
    {
     "output_type": "execute_result",
     "data": {
      "text/html": [
       "<div>\n",
       "<style scoped>\n",
       "    .dataframe tbody tr th:only-of-type {\n",
       "        vertical-align: middle;\n",
       "    }\n",
       "\n",
       "    .dataframe tbody tr th {\n",
       "        vertical-align: top;\n",
       "    }\n",
       "\n",
       "    .dataframe thead th {\n",
       "        text-align: right;\n",
       "    }\n",
       "</style>\n",
       "<table border=\"1\" class=\"dataframe\">\n",
       "  <thead>\n",
       "    <tr style=\"text-align: right;\">\n",
       "      <th></th>\n",
       "      <th>a</th>\n",
       "      <th>b</th>\n",
       "      <th>c</th>\n",
       "    </tr>\n",
       "  </thead>\n",
       "  <tbody>\n",
       "    <tr>\n",
       "      <th>0</th>\n",
       "      <td>1</td>\n",
       "      <td>2</td>\n",
       "      <td>1</td>\n",
       "    </tr>\n",
       "    <tr>\n",
       "      <th>1</th>\n",
       "      <td>34</td>\n",
       "      <td>123</td>\n",
       "      <td>34</td>\n",
       "    </tr>\n",
       "  </tbody>\n",
       "</table>\n",
       "</div>"
      ],
      "text/plain": [
       "    a    b   c\n",
       "0   1    2   1\n",
       "1  34  123  34"
      ]
     },
     "metadata": {},
     "execution_count": 583
    }
   ],
   "metadata": {}
  },
  {
   "cell_type": "code",
   "execution_count": 740,
   "source": [
    "a = semantic_search(sample_questions['Questions/Text Extracts'][0])\n"
   ],
   "outputs": [],
   "metadata": {}
  },
  {
   "cell_type": "code",
   "execution_count": 743,
   "source": [
    "a[0]"
   ],
   "outputs": [
    {
     "output_type": "execute_result",
     "data": {
      "text/html": [
       "<div>\n",
       "<style scoped>\n",
       "    .dataframe tbody tr th:only-of-type {\n",
       "        vertical-align: middle;\n",
       "    }\n",
       "\n",
       "    .dataframe tbody tr th {\n",
       "        vertical-align: top;\n",
       "    }\n",
       "\n",
       "    .dataframe thead th {\n",
       "        text-align: right;\n",
       "    }\n",
       "</style>\n",
       "<table border=\"1\" class=\"dataframe\">\n",
       "  <thead>\n",
       "    <tr style=\"text-align: right;\">\n",
       "      <th></th>\n",
       "      <th>text_piece</th>\n",
       "      <th>document_id_source</th>\n",
       "      <th>text_piece_embedding</th>\n",
       "      <th>similarity</th>\n",
       "    </tr>\n",
       "  </thead>\n",
       "  <tbody>\n",
       "  </tbody>\n",
       "</table>\n",
       "</div>"
      ],
      "text/plain": [
       "Empty DataFrame\n",
       "Columns: [text_piece, document_id_source, text_piece_embedding, similarity]\n",
       "Index: []"
      ]
     },
     "metadata": {},
     "execution_count": 743
    }
   ],
   "metadata": {}
  },
  {
   "cell_type": "code",
   "execution_count": 700,
   "source": [
    "a['similarity'].to_list()"
   ],
   "outputs": [
    {
     "output_type": "execute_result",
     "data": {
      "text/plain": [
       "[1.0244039297103882,\n",
       " 1.0740917921066284,\n",
       " 1.1240408420562744,\n",
       " 1.1341547966003418,\n",
       " 1.143677830696106,\n",
       " 1.150281548500061,\n",
       " 1.1680783033370972,\n",
       " 1.1894234418869019]"
      ]
     },
     "metadata": {},
     "execution_count": 700
    }
   ],
   "metadata": {}
  },
  {
   "cell_type": "code",
   "execution_count": 701,
   "source": [
    "a['text_piece'].to_list()"
   ],
   "outputs": [
    {
     "output_type": "execute_result",
     "data": {
      "text/plain": [
       "[\"ANNEX I CALCULATING CAPITAL REQUIREMENTS FOR POSITION RISK GENERAL PROVISIONS Netting 1. The excess of an institution's long (short) positions over its short (long) positions in the same equity, debt and convertible issues and identical financial futures, options, warrants and covered warrants shall be its net position in each of those different instruments. In calculating the net position the competent authorities shall allow positions in derivative instruments to be treated, as laid down in points 4 to 7, as positions in the underlying (or notional) security or securities. Institutions' holdings of their own debt instruments shall be disregarded in calculating specific risk under point 14. 2. No netting shall be allowed between a convertible and an offsetting position in the instrument underlying it, unless the competent authorities adopt an approach under which the likelihood of a particular convertible's being converted is taken into account or have a capital requirement to cover any loss which conversion might entail. 3. All net positions, irrespective of their signs, must be converted on a daily basis into the institution's reporting currency at the prevailing spot exchange rate before their aggregation. Particular instruments 4. Interestrate futures, forwardrate agreements (FRAs) and forward commitments to buy or sell debt instruments shall be treated as combinations of long and short positions.\",\n",
       " \"The exposures to individual clients which arise on the trading book shall be calculated by summing the following items: (a) the excess where positive of an institution's long positions over its short positions in all the financial instruments issued by the client in question, the net position in each of the different instruments being calculated according to the methods laid down in Annex I; (b) the net exposure, in the case of the underwriting of a debt or an equity instrument; and (c) the exposures due to the transactions, agreements and contracts referred to in Annex II with the client in question, such exposures being calculated in the manner laid down in that Annex, for the calculation of exposure values. For the purposes of point (b), the net exposure is calculated by deducting those underwriting positions which are subscribed or sub-underwritten by third parties on the basis of a formal agreement reduced by the factors set out in point 41 of Annex I. For the purposes of point (b), pending further coordination, the competent authorities shall require institutions to set up systems to monitor and control their underwriting exposures between the time of the initial commitment and working day one in the light of the nature of the risks incurred in the markets in question. For the purposes of point (c), Articles 84 to 89 of Directive 2006/48/EC shall be excluded from the reference in point 6 of Annex II to this Directive. 2. The exposures to groups of connected clients on the trading book shall be calculated by summing the exposures to individual clients in a group, as calculated in paragraph 1. Article 30 1. The overall exposures to individual clients or groups of connected clients shall be calculated by summing the exposures which arise on the trading book and the exposures which arise on the non-trading book, taking into account Article 112 to 117 of Directive 2006/48/EC. In order to calculate the exposure which arises on the non-trading book, institutions shall take the exposure arising from assets which are deducted from their own funds by virtue of point (d) of the second subparagraph of Article 13(2) to be zero. 2.\",\n",
       " \"11. Where a credit derivative included in the trading book forms part of an internal hedge and the credit protection is recognised under Directive 2006/48/EC, there shall be deemed not to be counterparty risk arising from the position in the credit derivative. 12. The capital requirement shall be 8 % of the total riskweighted exposure amounts. ANNEX III CALCULATING CAPITAL REQUIREMENTS FOR FOREIGN-EXCHANGE RISK 1. If the sum of an institution's overall net foreignexchange position and its net gold position, calculated in accordance with the procedure set out in point 2, exceeds 2 % of its total own funds, it shall multiply the sum of its net foreignexchange position and its net gold position by 8 % in order to calculate its ownfunds requirement against foreignexchange risk. 2. A twostage calculation shall be used for capital requirements for foreignexchange risk. 2.1. Firstly, the institution's net open position in each currency (including the reporting currency) and in gold shall be calculated.\",\n",
       " \"2. By way of derogation from paragraph 1, institutions which calculate the capital requirements for their trading-book business in accordance with Annexes I and II, and, as appropriate, Annex V to this Directive, shall monitor and control their large exposures in accordance with Articles 106 to 118 of Directive 2006/48/EC subject to the amendments laid down in Articles 29 to 32 of this Directive. 3. By 31 December 2007, the Commission shall submit to the European Parliament and to the Council a report on the functioning of this Section, together with any appropriate proposals. Article 29 1. The exposures to individual clients which arise on the trading book shall be calculated by summing the following items: (a) the excess where positive of an institution's long positions over its short positions in all the financial instruments issued by the client in question, the net position in each of the different instruments being calculated according to the methods laid down in Annex I; (b) the net exposure, in the case of the underwriting of a debt or an equity instrument; and (c) the exposures due to the transactions, agreements and contracts referred to in Annex II with the client in question, such exposures being calculated in the manner laid down in that Annex, for the calculation of exposure values. For the purposes of point (b), the net exposure is calculated by deducting those underwriting positions which are subscribed or sub-underwritten by third parties on the basis of a formal agreement reduced by the factors set out in point 41 of Annex I. For the purposes of point (b), pending further coordination, the competent authorities shall require institutions to set up systems to monitor and control their underwriting exposures between the time of the initial commitment and working day one in the light of the nature of the risks incurred in the markets in question. For the purposes of point (c), Articles 84 to 89 of Directive 2006/48/EC shall be excluded from the reference in point 6 of Annex II to this Directive. 2.\",\n",
       " 'The transferor of securities or guaranteed rights relating to title to securities in a repurchase agreement and the lender of securities in a securities lending shall include these securities in the calculation of its capital requirement under this Annex provided that such securities meet the criteria laid down in Article 11. Specific and general risks 12. The position risk on a traded debt instrument or equity (or debt or equity derivative) shall be divided into two components in order to calculate the capital required against it. The first shall be its specificrisk component this is the risk of a price change in the instrument concerned due to factors related to its issuer or, in the case of a derivative, the issuer of the underlying instrument. The second component shall cover its general risk this is the risk of a price change in the instrument due (in the case of a traded debt instrument or debt derivative) to a change in the level of interest rates or (in the case of an equity or equity derivative) to a broad equitymarket movement unrelated to any specific attributes of individual securities. TRADED DEBT INSTRUMENTS 13. Net positions shall be classified according to the currency in which they are denominated and shall calculate the capital requirement for general and specific risk in each individual currency separately. Specific risk 14. The institution shall assign its net positions in the trading book, as calculated in accordance with point 1 to the appropriate categories in Table 1 on the basis of their issuer/obligor, external or internal credit assessment, and residual maturity, and then multiply them by the weightings shown in that table. It shall sum its weighted positions (regardless of whether they are long or short) in order to calculate its capital requirement against specific risk.',\n",
       " \"(11) OJ L 222, 14.8.1978, p. 11. Directive as last amended by Directive 2003/51/EC of the European Parliament and of the Council (OJ L 178, 17.7.2003, p. 16). (12) OJ L 3, 7.1.2004, p. 36. (13) Council Directive 93/22/EEC of 10 May 1993 on investment services in the securities field (OJ L 141, 11.6.1993, p. 27). Directive as last amended by Directive 2002/87/EC. ANNEX I CALCULATING CAPITAL REQUIREMENTS FOR POSITION RISK GENERAL PROVISIONS Netting 1. The excess of an institution's long (short) positions over its short (long) positions in the same equity, debt and convertible issues and identical financial futures, options, warrants and covered warrants shall be its net position in each of those different instruments. In calculating the net position the competent authorities shall allow positions in derivative instruments to be treated, as laid down in points 4 to 7, as positions in the underlying (or notional) security or securities. Institutions' holdings of their own debt instruments shall be disregarded in calculating specific risk under point 14. 2.\",\n",
       " \"Positions in gold or gold derivatives shall be considered as being subject to foreignexchange risk and treated according to Annex III or Annex V, as appropriate, for the purpose of calculating market risk. 3. For the purposes of this Annex, positions which are purely stock financing may be excluded from the commodities risk calculation only. 4. The interestrate and foreignexchange risks not covered by other provisions of this Annex shall be included in the calculation of general risk for traded debt instruments and in the calculation of foreignexchange risk. 5. When the short position falls due before the long position, institutions shall also guard against the risk of a shortage of liquidity which may exist in some markets. 6. For the purpose of point 19, the excess of an institution's long (short) positions over its short (long) positions in the same commodity and identical commodity futures, options and warrants shall be its net position in each commodity. The competent authorities shall allow positions in derivative instruments to be treated, as laid down in points 8, 9 and 10, as positions in the underlying commodity.\",\n",
       " \"If the sum of an institution's overall net foreignexchange position and its net gold position, calculated in accordance with the procedure set out in point 2, exceeds 2 % of its total own funds, it shall multiply the sum of its net foreignexchange position and its net gold position by 8 % in order to calculate its ownfunds requirement against foreignexchange risk. 2. A twostage calculation shall be used for capital requirements for foreignexchange risk. 2.1. Firstly, the institution's net open position in each currency (including the reporting currency) and in gold shall be calculated. This net open position shall consist of the sum of the following elements (positive or negative): (a) the net spot position (i.e. all asset items less all liability items, including accrued interest, in the currency in question or, for gold, the net spot position in gold); (b) the net forward position (i.e. all amounts to be received less all amounts to be paid under forward exchange and gold transactions, including currency and gold futures and the principal on currency swaps not included in the spot position); (c) irrevocable guarantees (and similar instruments) that are certain to be called and likely to be irrecoverable; (d) net future income/expenses not yet accrued but already fully hedged (at the discretion of the reporting institution and with the prior consent of the competent authorities, net future income/expenses not yet entered in accounting records but already fully hedged by forward foreignexchange transactions may be included here). Such discretion must be exercised on a consistent basis; (e) the net delta (or deltabased) equivalent of the total book of foreigncurrency and gold options; and (f) the market value of other (i.e. nonforeign-currency and nongold) options. Any positions which an institution has deliberately taken in order to hedge against the adverse effect of the exchange rate on its capital ratio may be excluded from the calculation of net open currency positions. Such positions should be of a nontrading or structural nature and their exclusion, and any variation of the terms of their exclusion, shall require the consent of the competent authorities. The same treatment subject to the same conditions as above may be applied to positions which an institution has which relate to items that are already deducted in the calculation of own funds.\"]"
      ]
     },
     "metadata": {},
     "execution_count": 701
    }
   ],
   "metadata": {}
  },
  {
   "cell_type": "code",
   "execution_count": null,
   "source": [],
   "outputs": [],
   "metadata": {}
  }
 ],
 "metadata": {
  "kernelspec": {
   "display_name": "Python 3 (ipykernel)",
   "language": "python",
   "name": "python3"
  },
  "language_info": {
   "name": "python",
   "version": "3.8.8",
   "mimetype": "text/x-python",
   "codemirror_mode": {
    "name": "ipython",
    "version": 3
   },
   "pygments_lexer": "ipython3",
   "nbconvert_exporter": "python",
   "file_extension": ".py"
  }
 },
 "nbformat": 4,
 "nbformat_minor": 2
}