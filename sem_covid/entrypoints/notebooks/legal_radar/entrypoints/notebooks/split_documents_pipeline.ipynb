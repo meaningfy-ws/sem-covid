{
 "cells": [
  {
   "cell_type": "markdown",
   "metadata": {
    "collapsed": true,
    "pycharm": {
     "name": "#%% md\n"
    }
   },
   "source": [
    "## Import libraries"
   ]
  },
  {
   "cell_type": "code",
   "execution_count": 1,
   "outputs": [
    {
     "name": "stderr",
     "output_type": "stream",
     "text": [
      "2021-08-24 14:44:53.948766: W tensorflow/stream_executor/platform/default/dso_loader.cc:64] Could not load dynamic library 'libcudart.so.11.0'; dlerror: libcudart.so.11.0: cannot open shared object file: No such file or directory\n",
      "2021-08-24 14:44:53.948791: I tensorflow/stream_executor/cuda/cudart_stub.cc:29] Ignore above cudart dlerror if you do not have a GPU set up on your machine.\n"
     ]
    }
   ],
   "source": [
    "import sys\n",
    "\n",
    "sys.path.append(\"/home/jovyan/work/sem-covid/\")\n",
    "sys.path = list(set(sys.path))\n",
    "import os\n",
    "\n",
    "os.getcwd()\n",
    "os.chdir('/home/jovyan/work/sem-covid/')\n",
    "\n",
    "from sem_covid import config\n",
    "from sem_covid.services.store_registry import store_registry\n",
    "from sem_covid.services.model_registry import EmbeddingModelRegistry, EmbeddingModelRegistryABC\n",
    "from sem_covid.entrypoints.notebooks.legal_radar.services.split_documents_pipeline import WindowedSplitDocumentsPipeline"
   ],
   "metadata": {
    "collapsed": false,
    "pycharm": {
     "name": "#%%\n"
    }
   }
  },
  {
   "cell_type": "code",
   "execution_count": 2,
   "outputs": [],
   "source": [
    "TEXTUAL_COLUMNS = ['title', 'content']\n",
    "FIN_REG_SPLITTED_ES_INDEX = 'ds_finreg_splitted'"
   ],
   "metadata": {
    "collapsed": false,
    "pycharm": {
     "name": "#%%\n"
    }
   }
  },
  {
   "cell_type": "code",
   "execution_count": 37,
   "outputs": [],
   "source": [
    "\n",
    "windowed_split_documents_pipeline = WindowedSplitDocumentsPipeline(\n",
    "    dataset_es_index_name=config.EU_FINREG_CELLAR_ELASTIC_SEARCH_INDEX_NAME,\n",
    "    result_es_index_name=FIN_REG_SPLITTED_ES_INDEX,\n",
    "    textual_columns=TEXTUAL_COLUMNS,\n",
    "    split_window_size=10,\n",
    "    split_window_step=5,\n",
    "    store_registry=store_registry,\n",
    "    embedding_model_registry=EmbeddingModelRegistry())"
   ],
   "metadata": {
    "collapsed": false,
    "pycharm": {
     "name": "#%%\n"
    }
   }
  },
  {
   "cell_type": "code",
   "execution_count": 45,
   "outputs": [
    {
     "name": "stderr",
     "output_type": "stream",
     "text": [
      "100% (5757 of 5757) |####################| Elapsed Time: 0:00:01 Time:  0:00:01\n",
      "N/A% (0 of 28) |                         | Elapsed Time: 0:00:00 ETA:  --:--:--"
     ]
    }
   ],
   "source": [
    "windowed_split_documents_pipeline.execute()\n",
    "\n"
   ],
   "metadata": {
    "collapsed": false,
    "pycharm": {
     "name": "#%%\n"
    }
   }
  },
  {
   "cell_type": "code",
   "execution_count": 72,
   "outputs": [],
   "source": [
    "minio_store = store_registry.minio_object_store(minio_bucket=FAISS_BUCKET_NAME)"
   ],
   "metadata": {
    "collapsed": false,
    "pycharm": {
     "name": "#%%\n"
    }
   }
  },
  {
   "cell_type": "code",
   "execution_count": 75,
   "outputs": [],
   "source": [
    "faiss_index = minio_store.get_object(object_name=FAISS_INDEX_FINREG_NAME)"
   ],
   "metadata": {
    "collapsed": false,
    "pycharm": {
     "name": "#%%\n"
    }
   }
  },
  {
   "cell_type": "code",
   "execution_count": 77,
   "outputs": [],
   "source": [
    "faiss_index = faiss.deserialize_index(pickle.loads(faiss_index))"
   ],
   "metadata": {
    "collapsed": false,
    "pycharm": {
     "name": "#%%\n"
    }
   }
  },
  {
   "cell_type": "code",
   "execution_count": 86,
   "outputs": [
    {
     "data": {
      "text/plain": "                                    document_id_source  \\\n_id                                                      \n0    483380ec660eea125bd574565bef076acd782f2297f5b0...   \n1    483380ec660eea125bd574565bef076acd782f2297f5b0...   \n2    483380ec660eea125bd574565bef076acd782f2297f5b0...   \n3    483380ec660eea125bd574565bef076acd782f2297f5b0...   \n4    483380ec660eea125bd574565bef076acd782f2297f5b0...   \n5    483380ec660eea125bd574565bef076acd782f2297f5b0...   \n6    483380ec660eea125bd574565bef076acd782f2297f5b0...   \n7    483380ec660eea125bd574565bef076acd782f2297f5b0...   \n8    483380ec660eea125bd574565bef076acd782f2297f5b0...   \n9    483380ec660eea125bd574565bef076acd782f2297f5b0...   \n10   483380ec660eea125bd574565bef076acd782f2297f5b0...   \n11   483380ec660eea125bd574565bef076acd782f2297f5b0...   \n12   483380ec660eea125bd574565bef076acd782f2297f5b0...   \n13   483380ec660eea125bd574565bef076acd782f2297f5b0...   \n14   483380ec660eea125bd574565bef076acd782f2297f5b0...   \n15   483380ec660eea125bd574565bef076acd782f2297f5b0...   \n16   483380ec660eea125bd574565bef076acd782f2297f5b0...   \n17   483380ec660eea125bd574565bef076acd782f2297f5b0...   \n18   483380ec660eea125bd574565bef076acd782f2297f5b0...   \n19   483380ec660eea125bd574565bef076acd782f2297f5b0...   \n20   483380ec660eea125bd574565bef076acd782f2297f5b0...   \n21   483380ec660eea125bd574565bef076acd782f2297f5b0...   \n22   483380ec660eea125bd574565bef076acd782f2297f5b0...   \n23   483380ec660eea125bd574565bef076acd782f2297f5b0...   \n24   483380ec660eea125bd574565bef076acd782f2297f5b0...   \n25   483380ec660eea125bd574565bef076acd782f2297f5b0...   \n26   483380ec660eea125bd574565bef076acd782f2297f5b0...   \n27   483380ec660eea125bd574565bef076acd782f2297f5b0...   \n\n                                            text_piece  \\\n_id                                                      \n0    Council Directive 89/298/EEC of 17 April 1989 ...   \n1    THE COUNCIL OF THE EUROPEAN COMMUNITIES, Havin...   \n2    Where an offer to the public is for part only ...   \n3    Action taken by such undertakings to ensure th...   \n4    SECTION II Contents and arrangements for the s...   \n5    Article 9 A prospectus must be published or ma...   \n6    If the Member States authorize the distributio...   \n7    SECTION III Contents and arrangements for the ...   \n8    Where a public offer relates to debt securitie...   \n9    If the period of existence of the issuer is le...   \n10   8. Where a class of shares has been admitted t...   \n11   Article 13 1. The Member States or the bodies ...   \n12   The Member States or the bodies designated by ...   \n13   Article 17 1. When a prospectus complying with...   \n14   If Member States authorize the dissemination o...   \n15   The Commission shall communicate that informat...   \n16   However, if the Member State referred to in pa...   \n17   A prospectus approved by the competent authori...   \n18   The Member States may restrict the application...   \n19   Article 23 1. Member States shall provide that...   \n20   The information thus exchanged shall be covere...   \n21   The Contact Committee set up by Article 20 of ...   \n22   They shall forthwith inform the Commission the...   \n23   Done at Luxembourg, 17 April 1989. For the Cou...   \n24   OJ No C 125, 17. 5. 1982, p. 176 and OJ No C 6...   \n25   p. 50. (4) OJ No L 100, 17. 4. 1980, p. 1. (5)...   \n26   (5) OJ No L 185, 4. 7. 1987, p. 81.(6) OJ No L...   \n27   No L 322, 17. 12. 1977, p. 30. (7) OJ No L 309...   \n\n                                  text_piece_embedding  \n_id                                                     \n0    [0.050941322, -0.0536636375, 0.044430133, 0.04...  \n1    [0.0526715778, -0.0528056771, 0.0014126241, -0...  \n2    [0.0523078367, -0.0504857525, -0.0268266555, -...  \n3    [0.0502832793, -0.0462813936, 0.0018760785, -0...  \n4    [0.06094338, -0.0147662889, 0.0156258792, 0.04...  \n5    [0.0609189682, 0.0100114895, 0.0116736051, 0.0...  \n6    [0.0552303493, -0.0552790128, 0.0362629369, 0....  \n7    [0.0546064265, -0.0547570586, 0.0393356234, 0....  \n8    [0.0570841357, -0.0596864447, 0.0177535843, 0....  \n9    [0.0604262054, -0.0564383715, -0.047890611, -0...  \n10   [0.0615372956, -0.0590222105, -0.0526293069, -...  \n11   [0.0622450039, -0.0232679546, -0.003333404, -0...  \n12   [0.0615482479, 0.0506499, 0.0357789695, -0.020...  \n13   [0.0628688931, 0.0440026, 0.0371140391, -0.020...  \n14   [0.0618452169, -0.0260578953, -0.0126699638, -...  \n15   [0.0602174401, -0.0588924699, -0.0274270792, 0...  \n16   [0.0601900183, 0.0123005565, -0.0307571236, -0...  \n17   [0.0612530895, 0.0447089039, -0.0514858067, -0...  \n18   [0.0648593679, 0.0211535916, -0.0520554744, -0...  \n19   [0.062622793, 0.0613917075, 0.0293891262, -0.0...  \n20   [0.0326086842, 0.0408016481, 0.0299753696, -0....  \n21   [0.0297533348, 0.0138367182, -0.0141061507, 0....  \n22   [0.0378158689, 0.0300811976, -0.0575332753, 0....  \n23   [0.0036302323, 0.0597109869, -0.0462240502, 0....  \n24   [-0.0197241809, 0.0071101394, -0.0067777475, 0...  \n25   [0.0220311359, -0.0166815035, -0.007721968, -0...  \n26   [0.0481264815, -0.033929877, -0.0206671227, 0....  \n27   [0.0500050634, -0.0607224964, 0.0062446357, -0...  ",
      "text/html": "<div>\n<style scoped>\n    .dataframe tbody tr th:only-of-type {\n        vertical-align: middle;\n    }\n\n    .dataframe tbody tr th {\n        vertical-align: top;\n    }\n\n    .dataframe thead th {\n        text-align: right;\n    }\n</style>\n<table border=\"1\" class=\"dataframe\">\n  <thead>\n    <tr style=\"text-align: right;\">\n      <th></th>\n      <th>document_id_source</th>\n      <th>text_piece</th>\n      <th>text_piece_embedding</th>\n    </tr>\n    <tr>\n      <th>_id</th>\n      <th></th>\n      <th></th>\n      <th></th>\n    </tr>\n  </thead>\n  <tbody>\n    <tr>\n      <th>0</th>\n      <td>483380ec660eea125bd574565bef076acd782f2297f5b0...</td>\n      <td>Council Directive 89/298/EEC of 17 April 1989 ...</td>\n      <td>[0.050941322, -0.0536636375, 0.044430133, 0.04...</td>\n    </tr>\n    <tr>\n      <th>1</th>\n      <td>483380ec660eea125bd574565bef076acd782f2297f5b0...</td>\n      <td>THE COUNCIL OF THE EUROPEAN COMMUNITIES, Havin...</td>\n      <td>[0.0526715778, -0.0528056771, 0.0014126241, -0...</td>\n    </tr>\n    <tr>\n      <th>2</th>\n      <td>483380ec660eea125bd574565bef076acd782f2297f5b0...</td>\n      <td>Where an offer to the public is for part only ...</td>\n      <td>[0.0523078367, -0.0504857525, -0.0268266555, -...</td>\n    </tr>\n    <tr>\n      <th>3</th>\n      <td>483380ec660eea125bd574565bef076acd782f2297f5b0...</td>\n      <td>Action taken by such undertakings to ensure th...</td>\n      <td>[0.0502832793, -0.0462813936, 0.0018760785, -0...</td>\n    </tr>\n    <tr>\n      <th>4</th>\n      <td>483380ec660eea125bd574565bef076acd782f2297f5b0...</td>\n      <td>SECTION II Contents and arrangements for the s...</td>\n      <td>[0.06094338, -0.0147662889, 0.0156258792, 0.04...</td>\n    </tr>\n    <tr>\n      <th>5</th>\n      <td>483380ec660eea125bd574565bef076acd782f2297f5b0...</td>\n      <td>Article 9 A prospectus must be published or ma...</td>\n      <td>[0.0609189682, 0.0100114895, 0.0116736051, 0.0...</td>\n    </tr>\n    <tr>\n      <th>6</th>\n      <td>483380ec660eea125bd574565bef076acd782f2297f5b0...</td>\n      <td>If the Member States authorize the distributio...</td>\n      <td>[0.0552303493, -0.0552790128, 0.0362629369, 0....</td>\n    </tr>\n    <tr>\n      <th>7</th>\n      <td>483380ec660eea125bd574565bef076acd782f2297f5b0...</td>\n      <td>SECTION III Contents and arrangements for the ...</td>\n      <td>[0.0546064265, -0.0547570586, 0.0393356234, 0....</td>\n    </tr>\n    <tr>\n      <th>8</th>\n      <td>483380ec660eea125bd574565bef076acd782f2297f5b0...</td>\n      <td>Where a public offer relates to debt securitie...</td>\n      <td>[0.0570841357, -0.0596864447, 0.0177535843, 0....</td>\n    </tr>\n    <tr>\n      <th>9</th>\n      <td>483380ec660eea125bd574565bef076acd782f2297f5b0...</td>\n      <td>If the period of existence of the issuer is le...</td>\n      <td>[0.0604262054, -0.0564383715, -0.047890611, -0...</td>\n    </tr>\n    <tr>\n      <th>10</th>\n      <td>483380ec660eea125bd574565bef076acd782f2297f5b0...</td>\n      <td>8. Where a class of shares has been admitted t...</td>\n      <td>[0.0615372956, -0.0590222105, -0.0526293069, -...</td>\n    </tr>\n    <tr>\n      <th>11</th>\n      <td>483380ec660eea125bd574565bef076acd782f2297f5b0...</td>\n      <td>Article 13 1. The Member States or the bodies ...</td>\n      <td>[0.0622450039, -0.0232679546, -0.003333404, -0...</td>\n    </tr>\n    <tr>\n      <th>12</th>\n      <td>483380ec660eea125bd574565bef076acd782f2297f5b0...</td>\n      <td>The Member States or the bodies designated by ...</td>\n      <td>[0.0615482479, 0.0506499, 0.0357789695, -0.020...</td>\n    </tr>\n    <tr>\n      <th>13</th>\n      <td>483380ec660eea125bd574565bef076acd782f2297f5b0...</td>\n      <td>Article 17 1. When a prospectus complying with...</td>\n      <td>[0.0628688931, 0.0440026, 0.0371140391, -0.020...</td>\n    </tr>\n    <tr>\n      <th>14</th>\n      <td>483380ec660eea125bd574565bef076acd782f2297f5b0...</td>\n      <td>If Member States authorize the dissemination o...</td>\n      <td>[0.0618452169, -0.0260578953, -0.0126699638, -...</td>\n    </tr>\n    <tr>\n      <th>15</th>\n      <td>483380ec660eea125bd574565bef076acd782f2297f5b0...</td>\n      <td>The Commission shall communicate that informat...</td>\n      <td>[0.0602174401, -0.0588924699, -0.0274270792, 0...</td>\n    </tr>\n    <tr>\n      <th>16</th>\n      <td>483380ec660eea125bd574565bef076acd782f2297f5b0...</td>\n      <td>However, if the Member State referred to in pa...</td>\n      <td>[0.0601900183, 0.0123005565, -0.0307571236, -0...</td>\n    </tr>\n    <tr>\n      <th>17</th>\n      <td>483380ec660eea125bd574565bef076acd782f2297f5b0...</td>\n      <td>A prospectus approved by the competent authori...</td>\n      <td>[0.0612530895, 0.0447089039, -0.0514858067, -0...</td>\n    </tr>\n    <tr>\n      <th>18</th>\n      <td>483380ec660eea125bd574565bef076acd782f2297f5b0...</td>\n      <td>The Member States may restrict the application...</td>\n      <td>[0.0648593679, 0.0211535916, -0.0520554744, -0...</td>\n    </tr>\n    <tr>\n      <th>19</th>\n      <td>483380ec660eea125bd574565bef076acd782f2297f5b0...</td>\n      <td>Article 23 1. Member States shall provide that...</td>\n      <td>[0.062622793, 0.0613917075, 0.0293891262, -0.0...</td>\n    </tr>\n    <tr>\n      <th>20</th>\n      <td>483380ec660eea125bd574565bef076acd782f2297f5b0...</td>\n      <td>The information thus exchanged shall be covere...</td>\n      <td>[0.0326086842, 0.0408016481, 0.0299753696, -0....</td>\n    </tr>\n    <tr>\n      <th>21</th>\n      <td>483380ec660eea125bd574565bef076acd782f2297f5b0...</td>\n      <td>The Contact Committee set up by Article 20 of ...</td>\n      <td>[0.0297533348, 0.0138367182, -0.0141061507, 0....</td>\n    </tr>\n    <tr>\n      <th>22</th>\n      <td>483380ec660eea125bd574565bef076acd782f2297f5b0...</td>\n      <td>They shall forthwith inform the Commission the...</td>\n      <td>[0.0378158689, 0.0300811976, -0.0575332753, 0....</td>\n    </tr>\n    <tr>\n      <th>23</th>\n      <td>483380ec660eea125bd574565bef076acd782f2297f5b0...</td>\n      <td>Done at Luxembourg, 17 April 1989. For the Cou...</td>\n      <td>[0.0036302323, 0.0597109869, -0.0462240502, 0....</td>\n    </tr>\n    <tr>\n      <th>24</th>\n      <td>483380ec660eea125bd574565bef076acd782f2297f5b0...</td>\n      <td>OJ No C 125, 17. 5. 1982, p. 176 and OJ No C 6...</td>\n      <td>[-0.0197241809, 0.0071101394, -0.0067777475, 0...</td>\n    </tr>\n    <tr>\n      <th>25</th>\n      <td>483380ec660eea125bd574565bef076acd782f2297f5b0...</td>\n      <td>p. 50. (4) OJ No L 100, 17. 4. 1980, p. 1. (5)...</td>\n      <td>[0.0220311359, -0.0166815035, -0.007721968, -0...</td>\n    </tr>\n    <tr>\n      <th>26</th>\n      <td>483380ec660eea125bd574565bef076acd782f2297f5b0...</td>\n      <td>(5) OJ No L 185, 4. 7. 1987, p. 81.(6) OJ No L...</td>\n      <td>[0.0481264815, -0.033929877, -0.0206671227, 0....</td>\n    </tr>\n    <tr>\n      <th>27</th>\n      <td>483380ec660eea125bd574565bef076acd782f2297f5b0...</td>\n      <td>No L 322, 17. 12. 1977, p. 30. (7) OJ No L 309...</td>\n      <td>[0.0500050634, -0.0607224964, 0.0062446357, -0...</td>\n    </tr>\n  </tbody>\n</table>\n</div>"
     },
     "execution_count": 86,
     "metadata": {},
     "output_type": "execute_result"
    }
   ],
   "source": [
    "tmp_df"
   ],
   "metadata": {
    "collapsed": false,
    "pycharm": {
     "name": "#%%\n"
    }
   }
  },
  {
   "cell_type": "code",
   "execution_count": 90,
   "outputs": [
    {
     "name": "stdout",
     "output_type": "stream",
     "text": [
      "L2 distance: [0.0, 0.22245335578918457, 0.5410061478614807, 0.5424695014953613, 0.5697958469390869, 0.620814323425293, 0.6340035796165466, 0.6435338258743286, 0.6524192690849304, 0.6616795063018799, 0.7028500437736511, 0.70371013879776, 0.7069353461265564, 0.7169807553291321, 0.7531574964523315, 0.8260558843612671, 0.8626025915145874, 0.8691656589508057, 0.8854991793632507, 0.901170015335083]\n",
      "\n",
      "MAG paper IDs: [0, 1, 6, 3, 15, 9, 7, 10, 4, 2, 8, 16, 11, 14, 17, 13, 18, 12, 5, 20]\n"
     ]
    }
   ],
   "source": [
    "D, I = faiss_index.search(np.array([embeddings[0]]), k=20)\n",
    "print(f'L2 distance: {D.flatten().tolist()}\\n\\nMAG paper IDs: {I.flatten().tolist()}')"
   ],
   "metadata": {
    "collapsed": false,
    "pycharm": {
     "name": "#%%\n"
    }
   }
  },
  {
   "cell_type": "code",
   "execution_count": 80,
   "outputs": [],
   "source": [
    "embeddings = tmp_df.text_piece_embedding.values"
   ],
   "metadata": {
    "collapsed": false,
    "pycharm": {
     "name": "#%%\n"
    }
   }
  },
  {
   "cell_type": "code",
   "execution_count": 84,
   "outputs": [],
   "source": [
    "embeddings = np.array([np.array(embedding).astype('float32')\n",
    "                       for embedding in embeddings]).astype(\"float32\")"
   ],
   "metadata": {
    "collapsed": false,
    "pycharm": {
     "name": "#%%\n"
    }
   }
  },
  {
   "cell_type": "code",
   "execution_count": 160,
   "outputs": [
    {
     "name": "stdout",
     "output_type": "stream",
     "text": [
      "Number of vectors in the Faiss index: 1402\n"
     ]
    }
   ],
   "source": [
    "# Step 2: Instantiate the index\n",
    "index = faiss.IndexFlatL2(embeddings.shape[1])\n",
    "\n",
    "# Step 3: Pass the index to IndexIDMap\n",
    "index = faiss.IndexIDMap(index)\n",
    "\n",
    "# Step 4: Add vectors and their IDs\n",
    "index.add_with_ids(embeddings, np.array(range(0, embeddings.shape[0])))\n",
    "\n",
    "print(f\"Number of vectors in the Faiss index: {index.ntotal}\")"
   ],
   "metadata": {
    "collapsed": false,
    "pycharm": {
     "name": "#%%\n"
    }
   }
  },
  {
   "cell_type": "code",
   "execution_count": 89,
   "outputs": [
    {
     "ename": "NameError",
     "evalue": "name 'index' is not defined",
     "output_type": "error",
     "traceback": [
      "\u001B[0;31m---------------------------------------------------------------------------\u001B[0m",
      "\u001B[0;31mNameError\u001B[0m                                 Traceback (most recent call last)",
      "\u001B[0;32m/tmp/ipykernel_21788/1147399644.py\u001B[0m in \u001B[0;36m<module>\u001B[0;34m\u001B[0m\n\u001B[1;32m      1\u001B[0m \u001B[0;31m# Retrieve the 10 nearest neighbours\u001B[0m\u001B[0;34m\u001B[0m\u001B[0;34m\u001B[0m\u001B[0;34m\u001B[0m\u001B[0m\n\u001B[0;32m----> 2\u001B[0;31m \u001B[0mD\u001B[0m\u001B[0;34m,\u001B[0m \u001B[0mI\u001B[0m \u001B[0;34m=\u001B[0m \u001B[0mindex\u001B[0m\u001B[0;34m.\u001B[0m\u001B[0msearch\u001B[0m\u001B[0;34m(\u001B[0m\u001B[0mnp\u001B[0m\u001B[0;34m.\u001B[0m\u001B[0marray\u001B[0m\u001B[0;34m(\u001B[0m\u001B[0;34m[\u001B[0m\u001B[0membeddings\u001B[0m\u001B[0;34m[\u001B[0m\u001B[0;36m0\u001B[0m\u001B[0;34m]\u001B[0m\u001B[0;34m]\u001B[0m\u001B[0;34m)\u001B[0m\u001B[0;34m,\u001B[0m \u001B[0mk\u001B[0m\u001B[0;34m=\u001B[0m\u001B[0;36m20\u001B[0m\u001B[0;34m)\u001B[0m\u001B[0;34m\u001B[0m\u001B[0;34m\u001B[0m\u001B[0m\n\u001B[0m\u001B[1;32m      3\u001B[0m \u001B[0mprint\u001B[0m\u001B[0;34m(\u001B[0m\u001B[0;34mf'L2 distance: {D.flatten().tolist()}\\n\\nMAG paper IDs: {I.flatten().tolist()}'\u001B[0m\u001B[0;34m)\u001B[0m\u001B[0;34m\u001B[0m\u001B[0;34m\u001B[0m\u001B[0m\n\u001B[1;32m      4\u001B[0m \u001B[0;34m\u001B[0m\u001B[0m\n",
      "\u001B[0;31mNameError\u001B[0m: name 'index' is not defined"
     ]
    }
   ],
   "source": [
    "# Retrieve the 10 nearest neighbours\n",
    "D, I = index.search(np.array([embeddings[0]]), k=50)\n",
    "print(f'L2 distance: {D.flatten().tolist()}\\n\\nMAG paper IDs: {I.flatten().tolist()}')"
   ],
   "metadata": {
    "collapsed": false,
    "pycharm": {
     "name": "#%%\n"
    }
   }
  },
  {
   "cell_type": "code",
   "execution_count": 172,
   "outputs": [
    {
     "data": {
      "text/plain": "array(['483380ec660eea125bd574565bef076acd782f2297f5b0a51f513a30e04a8f5a',\n       '483380ec660eea125bd574565bef076acd782f2297f5b0a51f513a30e04a8f5a',\n       '483380ec660eea125bd574565bef076acd782f2297f5b0a51f513a30e04a8f5a',\n       '483380ec660eea125bd574565bef076acd782f2297f5b0a51f513a30e04a8f5a',\n       '483380ec660eea125bd574565bef076acd782f2297f5b0a51f513a30e04a8f5a',\n       '483380ec660eea125bd574565bef076acd782f2297f5b0a51f513a30e04a8f5a',\n       '483380ec660eea125bd574565bef076acd782f2297f5b0a51f513a30e04a8f5a',\n       '483380ec660eea125bd574565bef076acd782f2297f5b0a51f513a30e04a8f5a',\n       '483380ec660eea125bd574565bef076acd782f2297f5b0a51f513a30e04a8f5a',\n       '483380ec660eea125bd574565bef076acd782f2297f5b0a51f513a30e04a8f5a',\n       '483380ec660eea125bd574565bef076acd782f2297f5b0a51f513a30e04a8f5a',\n       '483380ec660eea125bd574565bef076acd782f2297f5b0a51f513a30e04a8f5a',\n       '483380ec660eea125bd574565bef076acd782f2297f5b0a51f513a30e04a8f5a',\n       '483380ec660eea125bd574565bef076acd782f2297f5b0a51f513a30e04a8f5a',\n       '483380ec660eea125bd574565bef076acd782f2297f5b0a51f513a30e04a8f5a',\n       '483380ec660eea125bd574565bef076acd782f2297f5b0a51f513a30e04a8f5a',\n       '483380ec660eea125bd574565bef076acd782f2297f5b0a51f513a30e04a8f5a',\n       '483380ec660eea125bd574565bef076acd782f2297f5b0a51f513a30e04a8f5a',\n       '483380ec660eea125bd574565bef076acd782f2297f5b0a51f513a30e04a8f5a',\n       '483380ec660eea125bd574565bef076acd782f2297f5b0a51f513a30e04a8f5a',\n       '4ae662bd92c092d7fd24f3d8b7b76186ae3ac7c16613b5b2816aff49cca6d72a',\n       '4ae662bd92c092d7fd24f3d8b7b76186ae3ac7c16613b5b2816aff49cca6d72a',\n       '4ae662bd92c092d7fd24f3d8b7b76186ae3ac7c16613b5b2816aff49cca6d72a',\n       '4ae662bd92c092d7fd24f3d8b7b76186ae3ac7c16613b5b2816aff49cca6d72a',\n       '4ae662bd92c092d7fd24f3d8b7b76186ae3ac7c16613b5b2816aff49cca6d72a',\n       '4ae662bd92c092d7fd24f3d8b7b76186ae3ac7c16613b5b2816aff49cca6d72a',\n       '4ae662bd92c092d7fd24f3d8b7b76186ae3ac7c16613b5b2816aff49cca6d72a',\n       '4ae662bd92c092d7fd24f3d8b7b76186ae3ac7c16613b5b2816aff49cca6d72a',\n       '4ae662bd92c092d7fd24f3d8b7b76186ae3ac7c16613b5b2816aff49cca6d72a',\n       '4ae662bd92c092d7fd24f3d8b7b76186ae3ac7c16613b5b2816aff49cca6d72a',\n       '4ae662bd92c092d7fd24f3d8b7b76186ae3ac7c16613b5b2816aff49cca6d72a',\n       '4ae662bd92c092d7fd24f3d8b7b76186ae3ac7c16613b5b2816aff49cca6d72a',\n       '4ae662bd92c092d7fd24f3d8b7b76186ae3ac7c16613b5b2816aff49cca6d72a',\n       '4ae662bd92c092d7fd24f3d8b7b76186ae3ac7c16613b5b2816aff49cca6d72a',\n       '4ae662bd92c092d7fd24f3d8b7b76186ae3ac7c16613b5b2816aff49cca6d72a',\n       '4ae662bd92c092d7fd24f3d8b7b76186ae3ac7c16613b5b2816aff49cca6d72a',\n       '4ae662bd92c092d7fd24f3d8b7b76186ae3ac7c16613b5b2816aff49cca6d72a',\n       '4ae662bd92c092d7fd24f3d8b7b76186ae3ac7c16613b5b2816aff49cca6d72a',\n       '4ae662bd92c092d7fd24f3d8b7b76186ae3ac7c16613b5b2816aff49cca6d72a',\n       '4ae662bd92c092d7fd24f3d8b7b76186ae3ac7c16613b5b2816aff49cca6d72a',\n       '4ae662bd92c092d7fd24f3d8b7b76186ae3ac7c16613b5b2816aff49cca6d72a',\n       '4ae662bd92c092d7fd24f3d8b7b76186ae3ac7c16613b5b2816aff49cca6d72a',\n       '4ae662bd92c092d7fd24f3d8b7b76186ae3ac7c16613b5b2816aff49cca6d72a',\n       '4ae662bd92c092d7fd24f3d8b7b76186ae3ac7c16613b5b2816aff49cca6d72a',\n       '4ae662bd92c092d7fd24f3d8b7b76186ae3ac7c16613b5b2816aff49cca6d72a',\n       '483380ec660eea125bd574565bef076acd782f2297f5b0a51f513a30e04a8f5a',\n       '4ae662bd92c092d7fd24f3d8b7b76186ae3ac7c16613b5b2816aff49cca6d72a',\n       '4ae662bd92c092d7fd24f3d8b7b76186ae3ac7c16613b5b2816aff49cca6d72a',\n       '4ae662bd92c092d7fd24f3d8b7b76186ae3ac7c16613b5b2816aff49cca6d72a',\n       '4ae662bd92c092d7fd24f3d8b7b76186ae3ac7c16613b5b2816aff49cca6d72a'],\n      dtype=object)"
     },
     "execution_count": 172,
     "metadata": {},
     "output_type": "execute_result"
    }
   ],
   "source": [
    "new_df.iloc[I.flatten().tolist()].document_source.values"
   ],
   "metadata": {
    "collapsed": false,
    "pycharm": {
     "name": "#%%\n"
    }
   }
  },
  {
   "cell_type": "code",
   "execution_count": 174,
   "outputs": [
    {
     "data": {
      "text/plain": "[0.0,\n 0.22245340049266815,\n 0.5410061478614807,\n 0.5424696207046509,\n 0.5697960257530212,\n 0.620814323425293,\n 0.6340034604072571,\n 0.6435337662696838,\n 0.6524192690849304,\n 0.6616794466972351,\n 0.7028501033782959,\n 0.7037103176116943,\n 0.7069353461265564,\n 0.7169807553291321,\n 0.7531577944755554,\n 0.8260558843612671,\n 0.8626027703285217,\n 0.86916583776474,\n 0.8854991793632507,\n 0.9011704325675964,\n 0.9037261605262756,\n 0.9388514161109924,\n 0.9419631958007812,\n 0.9499005675315857,\n 0.9517160058021545,\n 0.9522029161453247,\n 0.9544087648391724,\n 0.9546146392822266,\n 0.9648861289024353,\n 0.9708071947097778,\n 0.9726360440254211,\n 0.974346935749054,\n 0.978111982345581,\n 0.9861728549003601,\n 0.9889810681343079,\n 0.9891105890274048,\n 0.9891105890274048,\n 0.9996849298477173,\n 1.0014151334762573,\n 1.0050978660583496,\n 1.0118540525436401,\n 1.021659255027771,\n 1.0343246459960938,\n 1.035066843032837,\n 1.0373544692993164,\n 1.0446761846542358,\n 1.0454301834106445,\n 1.0566376447677612,\n 1.0566376447677612,\n 1.0648467540740967]"
     },
     "execution_count": 174,
     "metadata": {},
     "output_type": "execute_result"
    }
   ],
   "source": [
    "D.flatten().tolist()"
   ],
   "metadata": {
    "collapsed": false,
    "pycharm": {
     "name": "#%%\n"
    }
   }
  }
 ],
 "metadata": {
  "kernelspec": {
   "display_name": "Python 3",
   "language": "python",
   "name": "python3"
  },
  "language_info": {
   "codemirror_mode": {
    "name": "ipython",
    "version": 2
   },
   "file_extension": ".py",
   "mimetype": "text/x-python",
   "name": "python",
   "nbconvert_exporter": "python",
   "pygments_lexer": "ipython2",
   "version": "2.7.6"
  }
 },
 "nbformat": 4,
 "nbformat_minor": 0
}