{
 "cells": [
  {
   "cell_type": "code",
   "execution_count": 2,
   "metadata": {
    "collapsed": true
   },
   "outputs": [],
   "source": [
    "import sys\n",
    "sys.path.append(\"/home/jovyan/work/sem-covid/\")\n",
    "sys.path = list(set(sys.path))\n",
    "import os\n",
    "\n",
    "os.getcwd()\n",
    "os.chdir('/home/jovyan/work/sem-covid/')\n",
    "\n",
    "import pandas as pd\n",
    "\n",
    "from sem_covid.services.data_registry import Dataset"
   ]
  },
  {
   "cell_type": "code",
   "execution_count": 14,
   "outputs": [],
   "source": [
    "\n",
    "eu_timeline = Dataset.EU_ACTION_TIMELINE.fetch()\n"
   ],
   "metadata": {
    "collapsed": false,
    "pycharm": {
     "name": "#%%\n"
    }
   }
  },
  {
   "cell_type": "code",
   "execution_count": 20,
   "outputs": [
    {
     "data": {
      "text/plain": "_id\n01dc34ca5f6bfa5316012d6f89a4256b8d2ce6e3a12210b0406903dd15bf36ac                                                  NaN\n04d776c061243576ffc1e1c5a724d41ecca2ed12339b2ff473c5aa2ff1a071c7    The European Commission has today adopted a po...\n04eb55005a803c7353e5d5ed339d7f3a72cc8da6e49f2b8b152bf8fb40a1398f    Today, to help protect people everywhere, the ...\n073e22ec2b44a5f2f6289f09dc954ecd6ca6cbb4a4b33ffd88c3c150572569c0    Today, the Commission, in cooperation with the...\n0a3650bef3282d09d971dd92dc01570b7ecbdb67a4bdd0ff1c8cf8443a06b937                                                  NaN\n                                                                                          ...                        \nfa793c764aaf89c283f747036c9d73fd66f0a7e3692be56b8ac985610bef2417    The EU Strategy on COVID-19 Therapeutics deliv...\nfb9c4d1634da94c73fd529b44ec40057c28a5c925a8b8e71d73c49e5a815784d    COVID-19 is a severe public health emergency f...\nfbad1d421cf80d3e0e4c6b6d3d60a2a6ec8bed4ee19e07cd15d963fa74352420                The European Commission has adopted a\nfbeff236835d3cfd394f9c9fd5b63eb524c9cdab6e68c9370758f3e35592973e                                                     \nffbf6d305594c49b6f5d4d66f56e674f1d953833ba9fdceed84d72370c884653    The European Commission has today adopted a po...\nName: detail_content, Length: 210, dtype: object"
     },
     "execution_count": 20,
     "metadata": {},
     "output_type": "execute_result"
    }
   ],
   "source": [
    "eu_timeline['detail_content']"
   ],
   "metadata": {
    "collapsed": false,
    "pycharm": {
     "name": "#%%\n"
    }
   }
  },
  {
   "cell_type": "code",
   "execution_count": 24,
   "outputs": [
    {
     "data": {
      "text/plain": "                                                   detail_content  \\\n_id                                                                 \n01dc34ca5f6bfa5316012d6f89a4256b8d2ce6e3a12210b...            NaN   \n0a3650bef3282d09d971dd92dc01570b7ecbdb67a4bdd0f...            NaN   \n0b2c998fcb1fca84b67271bf8ab2b32614258403935d01f...            NaN   \n0b4197ab0e9875d2a1233acac36c1a80502d9f4586ada7a...            NaN   \n0bf7cd2f53d9da4af5e67f3eab992f5edbd48e0ccd7d55f...            NaN   \n0c87babee1be67a25975851ba9858aecde120c70d80d719...            NaN   \n14c9d726fe7b60753372bcdd9fb8b07bea614a1c0d918b5...            NaN   \n35808b2e6ee521af839860e55bd81a73a641d99363f52a5...            NaN   \n3b1c87191adc88a706d1b5b3f5ee82e6848627d4ac0b0d6...            NaN   \n3dae872d091faa8e2eafdac796e9a0908bba8ab7d3cebe4...            NaN   \n3f42d9bbd40dd93642c966e02f0508115bf1be5bdcb3cbb...            NaN   \n7433ba13e0c27ee0439c31813bdd8064077fc344a1f9af3...            NaN   \n7d876ebef31dff2d78209e5fdb5e135c0610e69fa7d2b7c...            NaN   \n8789590e16c075966b799c883040ad0dcbd96ccbae06a72...            NaN   \n8923874e207809d4d111d564e198561913a24c8571cd5d9...            NaN   \n8e938c4ab6bf0e915038bb2f43d22d19cb59b2cf48a3fab...            NaN   \n98e6e42c77644e257eb58f02649c903d7164481620e9fe0...            NaN   \n9ce265073daec2eea718277a0a0392e035166ef3298e52e...            NaN   \n9d59fbe1d658beaae147bd12dbee1dfc81e3b0164465951...            NaN   \na1f95899200bb2b5fa53e656d49d81f7ae6268a174fd76f...            NaN   \na20f928a9ddc5edd3dcfdcfcd3db1b9c09a824f947a6896...            NaN   \na52344d7a967a6afd1569db34cd39540186e67a4d469240...            NaN   \nb6ce4d1d5438f57e868bf5908678734e66c146a8de68709...            NaN   \nbcb43f0e90a22ea4630aba5fd22441ad2c285f837144ac3...            NaN   \nc51c3db1636ab029304c9404499c42317387419cd9212e2...            NaN   \nc51de3604a214da0e5cf460225ce96aa4e4732f38c16594...            NaN   \ne1174b29a57df98fdbc2d9c8a31051ba48a0342c0fbbf5c...            NaN   \ne76df29842085c332792ee2b79b0a0fb4c5fd5414b286f4...            NaN   \nf1f43da7924326ca2f4d2ecb7e0fa88382be7729166dc7b...            NaN   \nf4e7199dcdb13917d183d1fbb9e5715333c3c17e7d6f2af...            NaN   \n\n                                                        month_name        date  \n_id                                                                             \n01dc34ca5f6bfa5316012d6f89a4256b8d2ce6e3a12210b...    January 2021  2021-01-28  \n0a3650bef3282d09d971dd92dc01570b7ecbdb67a4bdd0f...   December 2020  2020-12-18  \n0b2c998fcb1fca84b67271bf8ab2b32614258403935d01f...       July 2020  2020-07-21  \n0b4197ab0e9875d2a1233acac36c1a80502d9f4586ada7a...   February 2021  2021-02-11  \n0bf7cd2f53d9da4af5e67f3eab992f5edbd48e0ccd7d55f...   December 2020  2020-12-02  \n0c87babee1be67a25975851ba9858aecde120c70d80d719...        May 2021  2021-05-06  \n14c9d726fe7b60753372bcdd9fb8b07bea614a1c0d918b5...       July 2021  2021-07-15  \n35808b2e6ee521af839860e55bd81a73a641d99363f52a5...      March 2021  2021-03-17  \n3b1c87191adc88a706d1b5b3f5ee82e6848627d4ac0b0d6...       June 2021  2021-06-15  \n3dae872d091faa8e2eafdac796e9a0908bba8ab7d3cebe4...   November 2020  2020-11-13  \n3f42d9bbd40dd93642c966e02f0508115bf1be5bdcb3cbb...       June 2020  2020-06-24  \n7433ba13e0c27ee0439c31813bdd8064077fc344a1f9af3...      March 2020  2020-03-18  \n7d876ebef31dff2d78209e5fdb5e135c0610e69fa7d2b7c...      April 2020  2020-04-30  \n8789590e16c075966b799c883040ad0dcbd96ccbae06a72...       July 2020  2020-07-27  \n8923874e207809d4d111d564e198561913a24c8571cd5d9...   November 2020  2020-11-11  \n8e938c4ab6bf0e915038bb2f43d22d19cb59b2cf48a3fab...      April 2020  2020-04-24  \n98e6e42c77644e257eb58f02649c903d7164481620e9fe0...   November 2020  2020-11-18  \n9ce265073daec2eea718277a0a0392e035166ef3298e52e...      April 2020  2020-04-16  \n9d59fbe1d658beaae147bd12dbee1dfc81e3b0164465951...    October 2020  2020-10-15  \na1f95899200bb2b5fa53e656d49d81f7ae6268a174fd76f...  September 2020  2020-09-25  \na20f928a9ddc5edd3dcfdcfcd3db1b9c09a824f947a6896...   February 2020  2001-02-02  \na52344d7a967a6afd1569db34cd39540186e67a4d469240...      March 2020  2020-03-17  \nb6ce4d1d5438f57e868bf5908678734e66c146a8de68709...       July 2021  2021-07-01  \nbcb43f0e90a22ea4630aba5fd22441ad2c285f837144ac3...   December 2020  2020-12-07  \nc51c3db1636ab029304c9404499c42317387419cd9212e2...       June 2021  2021-06-01  \nc51de3604a214da0e5cf460225ce96aa4e4732f38c16594...       June 2020  2020-06-24  \ne1174b29a57df98fdbc2d9c8a31051ba48a0342c0fbbf5c...      March 2021  2021-03-27  \ne76df29842085c332792ee2b79b0a0fb4c5fd5414b286f4...   November 2020  2020-11-20  \nf1f43da7924326ca2f4d2ecb7e0fa88382be7729166dc7b...        May 2021  2021-05-21  \nf4e7199dcdb13917d183d1fbb9e5715333c3c17e7d6f2af...   November 2020  2020-11-18  ",
      "text/html": "<div>\n<style scoped>\n    .dataframe tbody tr th:only-of-type {\n        vertical-align: middle;\n    }\n\n    .dataframe tbody tr th {\n        vertical-align: top;\n    }\n\n    .dataframe thead th {\n        text-align: right;\n    }\n</style>\n<table border=\"1\" class=\"dataframe\">\n  <thead>\n    <tr style=\"text-align: right;\">\n      <th></th>\n      <th>detail_content</th>\n      <th>month_name</th>\n      <th>date</th>\n    </tr>\n    <tr>\n      <th>_id</th>\n      <th></th>\n      <th></th>\n      <th></th>\n    </tr>\n  </thead>\n  <tbody>\n    <tr>\n      <th>01dc34ca5f6bfa5316012d6f89a4256b8d2ce6e3a12210b0406903dd15bf36ac</th>\n      <td>NaN</td>\n      <td>January 2021</td>\n      <td>2021-01-28</td>\n    </tr>\n    <tr>\n      <th>0a3650bef3282d09d971dd92dc01570b7ecbdb67a4bdd0ff1c8cf8443a06b937</th>\n      <td>NaN</td>\n      <td>December 2020</td>\n      <td>2020-12-18</td>\n    </tr>\n    <tr>\n      <th>0b2c998fcb1fca84b67271bf8ab2b32614258403935d01f51a880fbc68093dae</th>\n      <td>NaN</td>\n      <td>July 2020</td>\n      <td>2020-07-21</td>\n    </tr>\n    <tr>\n      <th>0b4197ab0e9875d2a1233acac36c1a80502d9f4586ada7ace28815268a38f2c7</th>\n      <td>NaN</td>\n      <td>February 2021</td>\n      <td>2021-02-11</td>\n    </tr>\n    <tr>\n      <th>0bf7cd2f53d9da4af5e67f3eab992f5edbd48e0ccd7d55f584c599c5827de355</th>\n      <td>NaN</td>\n      <td>December 2020</td>\n      <td>2020-12-02</td>\n    </tr>\n    <tr>\n      <th>0c87babee1be67a25975851ba9858aecde120c70d80d71947c8d21ed7dfccc53</th>\n      <td>NaN</td>\n      <td>May 2021</td>\n      <td>2021-05-06</td>\n    </tr>\n    <tr>\n      <th>14c9d726fe7b60753372bcdd9fb8b07bea614a1c0d918b5cabbe9cb6006f862f</th>\n      <td>NaN</td>\n      <td>July 2021</td>\n      <td>2021-07-15</td>\n    </tr>\n    <tr>\n      <th>35808b2e6ee521af839860e55bd81a73a641d99363f52a55c2b624b4f9e75f2e</th>\n      <td>NaN</td>\n      <td>March 2021</td>\n      <td>2021-03-17</td>\n    </tr>\n    <tr>\n      <th>3b1c87191adc88a706d1b5b3f5ee82e6848627d4ac0b0d60e2c2b730e8b09401</th>\n      <td>NaN</td>\n      <td>June 2021</td>\n      <td>2021-06-15</td>\n    </tr>\n    <tr>\n      <th>3dae872d091faa8e2eafdac796e9a0908bba8ab7d3cebe42692dfed0ee84c4be</th>\n      <td>NaN</td>\n      <td>November 2020</td>\n      <td>2020-11-13</td>\n    </tr>\n    <tr>\n      <th>3f42d9bbd40dd93642c966e02f0508115bf1be5bdcb3cbb17b729c49ae581e6b</th>\n      <td>NaN</td>\n      <td>June 2020</td>\n      <td>2020-06-24</td>\n    </tr>\n    <tr>\n      <th>7433ba13e0c27ee0439c31813bdd8064077fc344a1f9af36b68d8fbee38fb2f5</th>\n      <td>NaN</td>\n      <td>March 2020</td>\n      <td>2020-03-18</td>\n    </tr>\n    <tr>\n      <th>7d876ebef31dff2d78209e5fdb5e135c0610e69fa7d2b7c7e5d28f8e1a0e04c7</th>\n      <td>NaN</td>\n      <td>April 2020</td>\n      <td>2020-04-30</td>\n    </tr>\n    <tr>\n      <th>8789590e16c075966b799c883040ad0dcbd96ccbae06a723142692d34f64d96a</th>\n      <td>NaN</td>\n      <td>July 2020</td>\n      <td>2020-07-27</td>\n    </tr>\n    <tr>\n      <th>8923874e207809d4d111d564e198561913a24c8571cd5d902aa1ef5596d8359d</th>\n      <td>NaN</td>\n      <td>November 2020</td>\n      <td>2020-11-11</td>\n    </tr>\n    <tr>\n      <th>8e938c4ab6bf0e915038bb2f43d22d19cb59b2cf48a3fabed63406f1fcc668b8</th>\n      <td>NaN</td>\n      <td>April 2020</td>\n      <td>2020-04-24</td>\n    </tr>\n    <tr>\n      <th>98e6e42c77644e257eb58f02649c903d7164481620e9fe002991689645be6c20</th>\n      <td>NaN</td>\n      <td>November 2020</td>\n      <td>2020-11-18</td>\n    </tr>\n    <tr>\n      <th>9ce265073daec2eea718277a0a0392e035166ef3298e52e179feec4bef5c3adc</th>\n      <td>NaN</td>\n      <td>April 2020</td>\n      <td>2020-04-16</td>\n    </tr>\n    <tr>\n      <th>9d59fbe1d658beaae147bd12dbee1dfc81e3b01644659514bc864f2e078414b1</th>\n      <td>NaN</td>\n      <td>October 2020</td>\n      <td>2020-10-15</td>\n    </tr>\n    <tr>\n      <th>a1f95899200bb2b5fa53e656d49d81f7ae6268a174fd76f3476d6fa2ce3297ca</th>\n      <td>NaN</td>\n      <td>September 2020</td>\n      <td>2020-09-25</td>\n    </tr>\n    <tr>\n      <th>a20f928a9ddc5edd3dcfdcfcd3db1b9c09a824f947a6896ba51c5d0d9827d1ef</th>\n      <td>NaN</td>\n      <td>February 2020</td>\n      <td>2001-02-02</td>\n    </tr>\n    <tr>\n      <th>a52344d7a967a6afd1569db34cd39540186e67a4d469240eade3428d3a3d4bed</th>\n      <td>NaN</td>\n      <td>March 2020</td>\n      <td>2020-03-17</td>\n    </tr>\n    <tr>\n      <th>b6ce4d1d5438f57e868bf5908678734e66c146a8de6870922a8cfab2756b1e84</th>\n      <td>NaN</td>\n      <td>July 2021</td>\n      <td>2021-07-01</td>\n    </tr>\n    <tr>\n      <th>bcb43f0e90a22ea4630aba5fd22441ad2c285f837144ac347c9ee90231002daf</th>\n      <td>NaN</td>\n      <td>December 2020</td>\n      <td>2020-12-07</td>\n    </tr>\n    <tr>\n      <th>c51c3db1636ab029304c9404499c42317387419cd9212e26843e9d7dfb131273</th>\n      <td>NaN</td>\n      <td>June 2021</td>\n      <td>2021-06-01</td>\n    </tr>\n    <tr>\n      <th>c51de3604a214da0e5cf460225ce96aa4e4732f38c16594ec650847e7b59cd2a</th>\n      <td>NaN</td>\n      <td>June 2020</td>\n      <td>2020-06-24</td>\n    </tr>\n    <tr>\n      <th>e1174b29a57df98fdbc2d9c8a31051ba48a0342c0fbbf5c9eaf55b789abc1d14</th>\n      <td>NaN</td>\n      <td>March 2021</td>\n      <td>2021-03-27</td>\n    </tr>\n    <tr>\n      <th>e76df29842085c332792ee2b79b0a0fb4c5fd5414b286f46883f909551e9b540</th>\n      <td>NaN</td>\n      <td>November 2020</td>\n      <td>2020-11-20</td>\n    </tr>\n    <tr>\n      <th>f1f43da7924326ca2f4d2ecb7e0fa88382be7729166dc7bdea9aea1334927ce6</th>\n      <td>NaN</td>\n      <td>May 2021</td>\n      <td>2021-05-21</td>\n    </tr>\n    <tr>\n      <th>f4e7199dcdb13917d183d1fbb9e5715333c3c17e7d6f2aff0c5590de6c3bdbf0</th>\n      <td>NaN</td>\n      <td>November 2020</td>\n      <td>2020-11-18</td>\n    </tr>\n  </tbody>\n</table>\n</div>"
     },
     "execution_count": 24,
     "metadata": {},
     "output_type": "execute_result"
    }
   ],
   "source": [
    "eu_timeline.loc[eu_timeline['detail_content'].isnull()][['detail_content', 'month_name', 'date']]"
   ],
   "metadata": {
    "collapsed": false,
    "pycharm": {
     "name": "#%%\n"
    }
   }
  },
  {
   "cell_type": "code",
   "execution_count": null,
   "outputs": [],
   "source": [
    "\n",
    "\"\"\"\n",
    "3 = https://www.consilium.europa.eu/en/press/press-releases/2020/07/21/european-council-conclusions-17-21-july-2020/\n",
    "4 = https://www.consilium.europa.eu/en/press/press-releases/2021/02/11/eu-recovery-package-council-adopts-recovery-and-resilience-facility/ -- different class name\n",
    "5 = https://ec.europa.eu/health/sites/default/files/preparedness_response/docs/covid-19_stayingsafe_communication_en.pdf - pdf\n",
    "6 = https://ec.europa.eu/info/live-work-travel-eu/coronavirus-response/public-health/eu-vaccines-strategy_en - different class name\n",
    "7 = !!! https://ec.europa.eu/echo/what/civil-protection/mechanism_en !!!\n",
    "8 = !!! https://ec.europa.eu/info/live-work-travel-eu/coronavirus-response/safe-covid-19-vaccines-europeans/eu-digital-covid-certificate_en\n",
    "9 =\n",
    "\"\"\""
   ],
   "metadata": {
    "collapsed": false,
    "pycharm": {
     "name": "#%%\n"
    }
   }
  },
  {
   "cell_type": "code",
   "execution_count": 23,
   "outputs": [
    {
     "data": {
      "text/plain": "                                                       month_name        date  \\\n_id                                                                             \n01dc34ca5f6bfa5316012d6f89a4256b8d2ce6e3a12210b...   January 2021  2021-01-28   \n04d776c061243576ffc1e1c5a724d41ecca2ed12339b2ff...      June 2021  2021-06-22   \n04eb55005a803c7353e5d5ed339d7f3a72cc8da6e49f2b8...      June 2020  2020-06-16   \n073e22ec2b44a5f2f6289f09dc954ecd6ca6cbb4a4b33ff...     April 2020  2020-04-15   \n0a3650bef3282d09d971dd92dc01570b7ecbdb67a4bdd0f...  December 2020  2020-12-18   \n...                                                           ...         ...   \nfa793c764aaf89c283f747036c9d73fd66f0a7e3692be56...      June 2021  2021-06-29   \nfb9c4d1634da94c73fd529b44ec40057c28a5c925a8b8e7...     March 2020  2020-03-13   \nfbad1d421cf80d3e0e4c6b6d3d60a2a6ec8bed4ee19e07c...   January 2021  2021-01-28   \nfbeff236835d3cfd394f9c9fd5b63eb524c9cdab6e68c93...      July 2020  2020-07-06   \nffbf6d305594c49b6f5d4d66f56e674f1d953833ba9fdce...      June 2021  2021-06-23   \n\n                                                                                                title  \\\n_id                                                                                                     \n01dc34ca5f6bfa5316012d6f89a4256b8d2ce6e3a12210b...  EU countries adopt guidelines on proof of vacc...   \n04d776c061243576ffc1e1c5a724d41ecca2ed12339b2ff...  Commission endorses Latvia's €1.8 billion reco...   \n04eb55005a803c7353e5d5ed339d7f3a72cc8da6e49f2b8...            Commission unveils EU vaccines strategy   \n073e22ec2b44a5f2f6289f09dc954ecd6ca6cbb4a4b33ff...  European roadmap shows path towards common lif...   \n0a3650bef3282d09d971dd92dc01570b7ecbdb67a4bdd0f...  Commission puts forward rules on rapid antigen...   \n...                                                                                               ...   \nfa793c764aaf89c283f747036c9d73fd66f0a7e3692be56...  Commission identifies five promising candidate...   \nfb9c4d1634da94c73fd529b44ec40057c28a5c925a8b8e7...  Setting out coordinated response to counter th...   \nfbad1d421cf80d3e0e4c6b6d3d60a2a6ec8bed4ee19e07c...  Prolonging State aid Temporary Framework to fu...   \nfbeff236835d3cfd394f9c9fd5b63eb524c9cdab6e68c93...  Commission and EIB provide CureVac with a €75 ...   \nffbf6d305594c49b6f5d4d66f56e674f1d953833ba9fdce...  Commission endorses France's €39.4 billion rec...   \n\n                                                                                             abstract  \\\n_id                                                                                                     \n01dc34ca5f6bfa5316012d6f89a4256b8d2ce6e3a12210b...  The EU countries, with the support of the Euro...   \n04d776c061243576ffc1e1c5a724d41ecca2ed12339b2ff...  The Commission adopted a   of Latvia's recover...   \n04eb55005a803c7353e5d5ed339d7f3a72cc8da6e49f2b8...  The Commission   to accelerate the development...   \n073e22ec2b44a5f2f6289f09dc954ecd6ca6cbb4a4b33ff...  The Commission, in cooperation with the Presid...   \n0a3650bef3282d09d971dd92dc01570b7ecbdb67a4bdd0f...  The Commission adopted a   on a common framewo...   \n...                                                                                               ...   \nfa793c764aaf89c283f747036c9d73fd66f0a7e3692be56...  The EU Strategy on COVID-19 Therapeutics deliv...   \nfb9c4d1634da94c73fd529b44ec40057c28a5c925a8b8e7...  The Commission presented an immediate response...   \nfbad1d421cf80d3e0e4c6b6d3d60a2a6ec8bed4ee19e07c...  The Commission has decided to prolong until 31...   \nfbeff236835d3cfd394f9c9fd5b63eb524c9cdab6e68c93...  The European Investment Bank (EIB) and CureVac...   \nffbf6d305594c49b6f5d4d66f56e674f1d953833ba9fdce...  The Commission adopted   of France's recovery ...   \n\n                                                                                    presscorner_links  \\\n_id                                                                                                     \n01dc34ca5f6bfa5316012d6f89a4256b8d2ce6e3a12210b...                                                 []   \n04d776c061243576ffc1e1c5a724d41ecca2ed12339b2ff...  [https://ec.europa.eu/commission/presscorner/d...   \n04eb55005a803c7353e5d5ed339d7f3a72cc8da6e49f2b8...  [https://ec.europa.eu/commission/presscorner/d...   \n073e22ec2b44a5f2f6289f09dc954ecd6ca6cbb4a4b33ff...  [https://ec.europa.eu/commission/presscorner/d...   \n0a3650bef3282d09d971dd92dc01570b7ecbdb67a4bdd0f...                                                 []   \n...                                                                                               ...   \nfa793c764aaf89c283f747036c9d73fd66f0a7e3692be56...  [https://ec.europa.eu/commission/presscorner/d...   \nfb9c4d1634da94c73fd529b44ec40057c28a5c925a8b8e7...  [https://ec.europa.eu/commission/presscorner/d...   \nfbad1d421cf80d3e0e4c6b6d3d60a2a6ec8bed4ee19e07c...  [https://ec.europa.eu/commission/presscorner/d...   \nfbeff236835d3cfd394f9c9fd5b63eb524c9cdab6e68c93...  [https://ec.europa.eu/commission/presscorner/d...   \nffbf6d305594c49b6f5d4d66f56e674f1d953833ba9fdce...  [https://ec.europa.eu/commission/presscorner/d...   \n\n                                                                                            all_links  \\\n_id                                                                                                     \n01dc34ca5f6bfa5316012d6f89a4256b8d2ce6e3a12210b...  [https://ec.europa.eu/health/sites/health/file...   \n04d776c061243576ffc1e1c5a724d41ecca2ed12339b2ff...  [https://ec.europa.eu/commission/presscorner/d...   \n04eb55005a803c7353e5d5ed339d7f3a72cc8da6e49f2b8...  [https://ec.europa.eu/commission/presscorner/d...   \n073e22ec2b44a5f2f6289f09dc954ecd6ca6cbb4a4b33ff...  [https://ec.europa.eu/commission/presscorner/d...   \n0a3650bef3282d09d971dd92dc01570b7ecbdb67a4bdd0f...  [https://ec.europa.eu/health/sites/health/file...   \n...                                                                                               ...   \nfa793c764aaf89c283f747036c9d73fd66f0a7e3692be56...  [https://ec.europa.eu/commission/presscorner/d...   \nfb9c4d1634da94c73fd529b44ec40057c28a5c925a8b8e7...  [https://ec.europa.eu/commission/presscorner/d...   \nfbad1d421cf80d3e0e4c6b6d3d60a2a6ec8bed4ee19e07c...  [https://ec.europa.eu/commission/presscorner/d...   \nfbeff236835d3cfd394f9c9fd5b63eb524c9cdab6e68c93...  [https://ec.europa.eu/commission/presscorner/d...   \nffbf6d305594c49b6f5d4d66f56e674f1d953833ba9fdce...  [https://ec.europa.eu/commission/presscorner/d...   \n\n                                                                                          detail_link  \\\n_id                                                                                                     \n01dc34ca5f6bfa5316012d6f89a4256b8d2ce6e3a12210b...                                                NaN   \n04d776c061243576ffc1e1c5a724d41ecca2ed12339b2ff...  https://ec.europa.eu/commission/presscorner/de...   \n04eb55005a803c7353e5d5ed339d7f3a72cc8da6e49f2b8...  https://ec.europa.eu/commission/presscorner/de...   \n073e22ec2b44a5f2f6289f09dc954ecd6ca6cbb4a4b33ff...  https://ec.europa.eu/commission/presscorner/de...   \n0a3650bef3282d09d971dd92dc01570b7ecbdb67a4bdd0f...                                                NaN   \n...                                                                                               ...   \nfa793c764aaf89c283f747036c9d73fd66f0a7e3692be56...  https://ec.europa.eu/commission/presscorner/de...   \nfb9c4d1634da94c73fd529b44ec40057c28a5c925a8b8e7...  https://ec.europa.eu/commission/presscorner/de...   \nfbad1d421cf80d3e0e4c6b6d3d60a2a6ec8bed4ee19e07c...  https://ec.europa.eu/commission/presscorner/de...   \nfbeff236835d3cfd394f9c9fd5b63eb524c9cdab6e68c93...  https://ec.europa.eu/commission/presscorner/de...   \nffbf6d305594c49b6f5d4d66f56e674f1d953833ba9fdce...  https://ec.europa.eu/commission/presscorner/de...   \n\n                                                      detail_type detail_date  \\\n_id                                                                             \n01dc34ca5f6bfa5316012d6f89a4256b8d2ce6e3a12210b...            NaN         NaN   \n04d776c061243576ffc1e1c5a724d41ecca2ed12339b2ff...  Press release  2021-06-22   \n04eb55005a803c7353e5d5ed339d7f3a72cc8da6e49f2b8...  Press release  2020-06-17   \n073e22ec2b44a5f2f6289f09dc954ecd6ca6cbb4a4b33ff...  Press release  2020-04-15   \n0a3650bef3282d09d971dd92dc01570b7ecbdb67a4bdd0f...            NaN         NaN   \n...                                                           ...         ...   \nfa793c764aaf89c283f747036c9d73fd66f0a7e3692be56...  Press release  2021-06-29   \nfb9c4d1634da94c73fd529b44ec40057c28a5c925a8b8e7...  Press release  2020-03-13   \nfbad1d421cf80d3e0e4c6b6d3d60a2a6ec8bed4ee19e07c...  Press release  2020-03-19   \nfbeff236835d3cfd394f9c9fd5b63eb524c9cdab6e68c93...  Press release  2020-07-06   \nffbf6d305594c49b6f5d4d66f56e674f1d953833ba9fdce...  Press release  2021-06-23   \n\n                                                   detail_location  \\\n_id                                                                  \n01dc34ca5f6bfa5316012d6f89a4256b8d2ce6e3a12210b...             NaN   \n04d776c061243576ffc1e1c5a724d41ecca2ed12339b2ff...        Brussels   \n04eb55005a803c7353e5d5ed339d7f3a72cc8da6e49f2b8...        Brussels   \n073e22ec2b44a5f2f6289f09dc954ecd6ca6cbb4a4b33ff...        Brussels   \n0a3650bef3282d09d971dd92dc01570b7ecbdb67a4bdd0f...             NaN   \n...                                                            ...   \nfa793c764aaf89c283f747036c9d73fd66f0a7e3692be56...        Brussels   \nfb9c4d1634da94c73fd529b44ec40057c28a5c925a8b8e7...        Brussels   \nfbad1d421cf80d3e0e4c6b6d3d60a2a6ec8bed4ee19e07c...        Brussels   \nfbeff236835d3cfd394f9c9fd5b63eb524c9cdab6e68c93...        Brussels   \nffbf6d305594c49b6f5d4d66f56e674f1d953833ba9fdce...        Brussels   \n\n                                                                                       detail_content  \\\n_id                                                                                                     \n01dc34ca5f6bfa5316012d6f89a4256b8d2ce6e3a12210b...                                                NaN   \n04d776c061243576ffc1e1c5a724d41ecca2ed12339b2ff...  The European Commission has today adopted a po...   \n04eb55005a803c7353e5d5ed339d7f3a72cc8da6e49f2b8...  Today, to help protect people everywhere, the ...   \n073e22ec2b44a5f2f6289f09dc954ecd6ca6cbb4a4b33ff...  Today, the Commission, in cooperation with the...   \n0a3650bef3282d09d971dd92dc01570b7ecbdb67a4bdd0f...                                                NaN   \n...                                                                                               ...   \nfa793c764aaf89c283f747036c9d73fd66f0a7e3692be56...  The EU Strategy on COVID-19 Therapeutics deliv...   \nfb9c4d1634da94c73fd529b44ec40057c28a5c925a8b8e7...  COVID-19 is a severe public health emergency f...   \nfbad1d421cf80d3e0e4c6b6d3d60a2a6ec8bed4ee19e07c...              The European Commission has adopted a   \nfbeff236835d3cfd394f9c9fd5b63eb524c9cdab6e68c93...                                                      \nffbf6d305594c49b6f5d4d66f56e674f1d953833ba9fdce...  The European Commission has today adopted a po...   \n\n                                                                                         detail_title  \\\n_id                                                                                                     \n01dc34ca5f6bfa5316012d6f89a4256b8d2ce6e3a12210b...                                                NaN   \n04d776c061243576ffc1e1c5a724d41ecca2ed12339b2ff...  [NextGenerationEU: European Commission endorse...   \n04eb55005a803c7353e5d5ed339d7f3a72cc8da6e49f2b8...  [Coronavirus: Commission unveils EU vaccines s...   \n073e22ec2b44a5f2f6289f09dc954ecd6ca6cbb4a4b33ff...  [Coronavirus: European roadmap shows path towa...   \n0a3650bef3282d09d971dd92dc01570b7ecbdb67a4bdd0f...                                                NaN   \n...                                                                                               ...   \nfa793c764aaf89c283f747036c9d73fd66f0a7e3692be56...  [COVID-19 Therapeutics Strategy: Commission id...   \nfb9c4d1634da94c73fd529b44ec40057c28a5c925a8b8e7...  [COVID-19: Commission sets out European coordi...   \nfbad1d421cf80d3e0e4c6b6d3d60a2a6ec8bed4ee19e07c...  [State aid: Commission adopts Temporary Framew...   \nfbeff236835d3cfd394f9c9fd5b63eb524c9cdab6e68c93...  [Commission and EIB provide CureVac with a €75...   \nffbf6d305594c49b6f5d4d66f56e674f1d953833ba9fdce...  [NextGenerationEU: European Commission endorse...   \n\n                                                                                      detail_pdf_link  \\\n_id                                                                                                     \n01dc34ca5f6bfa5316012d6f89a4256b8d2ce6e3a12210b...                                                NaN   \n04d776c061243576ffc1e1c5a724d41ecca2ed12339b2ff...  https://ec.europa.eu/commission/presscorner/ap...   \n04eb55005a803c7353e5d5ed339d7f3a72cc8da6e49f2b8...  https://ec.europa.eu/commission/presscorner/ap...   \n073e22ec2b44a5f2f6289f09dc954ecd6ca6cbb4a4b33ff...  https://ec.europa.eu/commission/presscorner/ap...   \n0a3650bef3282d09d971dd92dc01570b7ecbdb67a4bdd0f...                                                NaN   \n...                                                                                               ...   \nfa793c764aaf89c283f747036c9d73fd66f0a7e3692be56...  https://ec.europa.eu/commission/presscorner/ap...   \nfb9c4d1634da94c73fd529b44ec40057c28a5c925a8b8e7...  https://ec.europa.eu/commission/presscorner/ap...   \nfbad1d421cf80d3e0e4c6b6d3d60a2a6ec8bed4ee19e07c...  https://ec.europa.eu/commission/presscorner/ap...   \nfbeff236835d3cfd394f9c9fd5b63eb524c9cdab6e68c93...  https://ec.europa.eu/commission/presscorner/ap...   \nffbf6d305594c49b6f5d4d66f56e674f1d953833ba9fdce...  https://ec.europa.eu/commission/presscorner/ap...   \n\n                                                                                       press_contacts  \\\n_id                                                                                                     \n01dc34ca5f6bfa5316012d6f89a4256b8d2ce6e3a12210b...                                                NaN   \n04d776c061243576ffc1e1c5a724d41ecca2ed12339b2ff...  [{'name': 'Marta WIECZOREK', 'phone': '+32 2 2...   \n04eb55005a803c7353e5d5ed339d7f3a72cc8da6e49f2b8...  [{'name': 'Stefan DE KEERSMAECKER', 'phone': '...   \n073e22ec2b44a5f2f6289f09dc954ecd6ca6cbb4a4b33ff...  [{'name': 'Eric MAMER', 'phone': '+32 2 299 40...   \n0a3650bef3282d09d971dd92dc01570b7ecbdb67a4bdd0f...                                                NaN   \n...                                                                                               ...   \nfa793c764aaf89c283f747036c9d73fd66f0a7e3692be56...  [{'name': 'Stefan DE KEERSMAECKER', 'phone': '...   \nfb9c4d1634da94c73fd529b44ec40057c28a5c925a8b8e7...  [{'name': 'Eric MAMER', 'phone': '+32 2 299 40...   \nfbad1d421cf80d3e0e4c6b6d3d60a2a6ec8bed4ee19e07c...  [{'name': 'Arianna PODESTA', 'phone': '+32 2 2...   \nfbeff236835d3cfd394f9c9fd5b63eb524c9cdab6e68c93...  [{'name': 'Johannes BAHRKE', 'phone': '+32 2 2...   \nffbf6d305594c49b6f5d4d66f56e674f1d953833ba9fdce...  [{'name': 'Marta WIECZOREK', 'phone': '+32 2 2...   \n\n                                                                                               topics  \\\n_id                                                                                                     \n01dc34ca5f6bfa5316012d6f89a4256b8d2ce6e3a12210b...                                                NaN   \n04d776c061243576ffc1e1c5a724d41ecca2ed12339b2ff...  [economic affairs, economic and financial affa...   \n04eb55005a803c7353e5d5ed339d7f3a72cc8da6e49f2b8...  [public health and food safety, public health,...   \n073e22ec2b44a5f2f6289f09dc954ecd6ca6cbb4a4b33ff...                                                 []   \n0a3650bef3282d09d971dd92dc01570b7ecbdb67a4bdd0f...                                                NaN   \n...                                                                                               ...   \nfa793c764aaf89c283f747036c9d73fd66f0a7e3692be56...  [public health and food safety, public health,...   \nfb9c4d1634da94c73fd529b44ec40057c28a5c925a8b8e7...  [environment, structural reforms, responsible ...   \nfbad1d421cf80d3e0e4c6b6d3d60a2a6ec8bed4ee19e07c...  [competition, responsible for questions regard...   \nfbeff236835d3cfd394f9c9fd5b63eb524c9cdab6e68c93...         [research and innovation, digital economy]   \nffbf6d305594c49b6f5d4d66f56e674f1d953833ba9fdce...  [economic affairs, economic and financial affa...   \n\n                                                                           for_more_information_links  \n_id                                                                                                    \n01dc34ca5f6bfa5316012d6f89a4256b8d2ce6e3a12210b...                                                NaN  \n04d776c061243576ffc1e1c5a724d41ecca2ed12339b2ff...                                                NaN  \n04eb55005a803c7353e5d5ed339d7f3a72cc8da6e49f2b8...                                                NaN  \n073e22ec2b44a5f2f6289f09dc954ecd6ca6cbb4a4b33ff...                                                NaN  \n0a3650bef3282d09d971dd92dc01570b7ecbdb67a4bdd0f...                                                NaN  \n...                                                                                               ...  \nfa793c764aaf89c283f747036c9d73fd66f0a7e3692be56...                                                NaN  \nfb9c4d1634da94c73fd529b44ec40057c28a5c925a8b8e7...  [https://ec.europa.eu/commission/presscorner/d...  \nfbad1d421cf80d3e0e4c6b6d3d60a2a6ec8bed4ee19e07c...  [https://ec.europa.eu/competition/state_aid/wh...  \nfbeff236835d3cfd394f9c9fd5b63eb524c9cdab6e68c93...                                                NaN  \nffbf6d305594c49b6f5d4d66f56e674f1d953833ba9fdce...                                                NaN  \n\n[210 rows x 16 columns]",
      "text/html": "<div>\n<style scoped>\n    .dataframe tbody tr th:only-of-type {\n        vertical-align: middle;\n    }\n\n    .dataframe tbody tr th {\n        vertical-align: top;\n    }\n\n    .dataframe thead th {\n        text-align: right;\n    }\n</style>\n<table border=\"1\" class=\"dataframe\">\n  <thead>\n    <tr style=\"text-align: right;\">\n      <th></th>\n      <th>month_name</th>\n      <th>date</th>\n      <th>title</th>\n      <th>abstract</th>\n      <th>presscorner_links</th>\n      <th>all_links</th>\n      <th>detail_link</th>\n      <th>detail_type</th>\n      <th>detail_date</th>\n      <th>detail_location</th>\n      <th>detail_content</th>\n      <th>detail_title</th>\n      <th>detail_pdf_link</th>\n      <th>press_contacts</th>\n      <th>topics</th>\n      <th>for_more_information_links</th>\n    </tr>\n    <tr>\n      <th>_id</th>\n      <th></th>\n      <th></th>\n      <th></th>\n      <th></th>\n      <th></th>\n      <th></th>\n      <th></th>\n      <th></th>\n      <th></th>\n      <th></th>\n      <th></th>\n      <th></th>\n      <th></th>\n      <th></th>\n      <th></th>\n      <th></th>\n    </tr>\n  </thead>\n  <tbody>\n    <tr>\n      <th>01dc34ca5f6bfa5316012d6f89a4256b8d2ce6e3a12210b0406903dd15bf36ac</th>\n      <td>January 2021</td>\n      <td>2021-01-28</td>\n      <td>EU countries adopt guidelines on proof of vacc...</td>\n      <td>The EU countries, with the support of the Euro...</td>\n      <td>[]</td>\n      <td>[https://ec.europa.eu/health/sites/health/file...</td>\n      <td>NaN</td>\n      <td>NaN</td>\n      <td>NaN</td>\n      <td>NaN</td>\n      <td>NaN</td>\n      <td>NaN</td>\n      <td>NaN</td>\n      <td>NaN</td>\n      <td>NaN</td>\n      <td>NaN</td>\n    </tr>\n    <tr>\n      <th>04d776c061243576ffc1e1c5a724d41ecca2ed12339b2ff473c5aa2ff1a071c7</th>\n      <td>June 2021</td>\n      <td>2021-06-22</td>\n      <td>Commission endorses Latvia's €1.8 billion reco...</td>\n      <td>The Commission adopted a   of Latvia's recover...</td>\n      <td>[https://ec.europa.eu/commission/presscorner/d...</td>\n      <td>[https://ec.europa.eu/commission/presscorner/d...</td>\n      <td>https://ec.europa.eu/commission/presscorner/de...</td>\n      <td>Press release</td>\n      <td>2021-06-22</td>\n      <td>Brussels</td>\n      <td>The European Commission has today adopted a po...</td>\n      <td>[NextGenerationEU: European Commission endorse...</td>\n      <td>https://ec.europa.eu/commission/presscorner/ap...</td>\n      <td>[{'name': 'Marta WIECZOREK', 'phone': '+32 2 2...</td>\n      <td>[economic affairs, economic and financial affa...</td>\n      <td>NaN</td>\n    </tr>\n    <tr>\n      <th>04eb55005a803c7353e5d5ed339d7f3a72cc8da6e49f2b8b152bf8fb40a1398f</th>\n      <td>June 2020</td>\n      <td>2020-06-16</td>\n      <td>Commission unveils EU vaccines strategy</td>\n      <td>The Commission   to accelerate the development...</td>\n      <td>[https://ec.europa.eu/commission/presscorner/d...</td>\n      <td>[https://ec.europa.eu/commission/presscorner/d...</td>\n      <td>https://ec.europa.eu/commission/presscorner/de...</td>\n      <td>Press release</td>\n      <td>2020-06-17</td>\n      <td>Brussels</td>\n      <td>Today, to help protect people everywhere, the ...</td>\n      <td>[Coronavirus: Commission unveils EU vaccines s...</td>\n      <td>https://ec.europa.eu/commission/presscorner/ap...</td>\n      <td>[{'name': 'Stefan DE KEERSMAECKER', 'phone': '...</td>\n      <td>[public health and food safety, public health,...</td>\n      <td>NaN</td>\n    </tr>\n    <tr>\n      <th>073e22ec2b44a5f2f6289f09dc954ecd6ca6cbb4a4b33ffd88c3c150572569c0</th>\n      <td>April 2020</td>\n      <td>2020-04-15</td>\n      <td>European roadmap shows path towards common lif...</td>\n      <td>The Commission, in cooperation with the Presid...</td>\n      <td>[https://ec.europa.eu/commission/presscorner/d...</td>\n      <td>[https://ec.europa.eu/commission/presscorner/d...</td>\n      <td>https://ec.europa.eu/commission/presscorner/de...</td>\n      <td>Press release</td>\n      <td>2020-04-15</td>\n      <td>Brussels</td>\n      <td>Today, the Commission, in cooperation with the...</td>\n      <td>[Coronavirus: European roadmap shows path towa...</td>\n      <td>https://ec.europa.eu/commission/presscorner/ap...</td>\n      <td>[{'name': 'Eric MAMER', 'phone': '+32 2 299 40...</td>\n      <td>[]</td>\n      <td>NaN</td>\n    </tr>\n    <tr>\n      <th>0a3650bef3282d09d971dd92dc01570b7ecbdb67a4bdd0ff1c8cf8443a06b937</th>\n      <td>December 2020</td>\n      <td>2020-12-18</td>\n      <td>Commission puts forward rules on rapid antigen...</td>\n      <td>The Commission adopted a   on a common framewo...</td>\n      <td>[]</td>\n      <td>[https://ec.europa.eu/health/sites/health/file...</td>\n      <td>NaN</td>\n      <td>NaN</td>\n      <td>NaN</td>\n      <td>NaN</td>\n      <td>NaN</td>\n      <td>NaN</td>\n      <td>NaN</td>\n      <td>NaN</td>\n      <td>NaN</td>\n      <td>NaN</td>\n    </tr>\n    <tr>\n      <th>...</th>\n      <td>...</td>\n      <td>...</td>\n      <td>...</td>\n      <td>...</td>\n      <td>...</td>\n      <td>...</td>\n      <td>...</td>\n      <td>...</td>\n      <td>...</td>\n      <td>...</td>\n      <td>...</td>\n      <td>...</td>\n      <td>...</td>\n      <td>...</td>\n      <td>...</td>\n      <td>...</td>\n    </tr>\n    <tr>\n      <th>fa793c764aaf89c283f747036c9d73fd66f0a7e3692be56b8ac985610bef2417</th>\n      <td>June 2021</td>\n      <td>2021-06-29</td>\n      <td>Commission identifies five promising candidate...</td>\n      <td>The EU Strategy on COVID-19 Therapeutics deliv...</td>\n      <td>[https://ec.europa.eu/commission/presscorner/d...</td>\n      <td>[https://ec.europa.eu/commission/presscorner/d...</td>\n      <td>https://ec.europa.eu/commission/presscorner/de...</td>\n      <td>Press release</td>\n      <td>2021-06-29</td>\n      <td>Brussels</td>\n      <td>The EU Strategy on COVID-19 Therapeutics deliv...</td>\n      <td>[COVID-19 Therapeutics Strategy: Commission id...</td>\n      <td>https://ec.europa.eu/commission/presscorner/ap...</td>\n      <td>[{'name': 'Stefan DE KEERSMAECKER', 'phone': '...</td>\n      <td>[public health and food safety, public health,...</td>\n      <td>NaN</td>\n    </tr>\n    <tr>\n      <th>fb9c4d1634da94c73fd529b44ec40057c28a5c925a8b8e71d73c49e5a815784d</th>\n      <td>March 2020</td>\n      <td>2020-03-13</td>\n      <td>Setting out coordinated response to counter th...</td>\n      <td>The Commission presented an immediate response...</td>\n      <td>[https://ec.europa.eu/commission/presscorner/d...</td>\n      <td>[https://ec.europa.eu/commission/presscorner/d...</td>\n      <td>https://ec.europa.eu/commission/presscorner/de...</td>\n      <td>Press release</td>\n      <td>2020-03-13</td>\n      <td>Brussels</td>\n      <td>COVID-19 is a severe public health emergency f...</td>\n      <td>[COVID-19: Commission sets out European coordi...</td>\n      <td>https://ec.europa.eu/commission/presscorner/ap...</td>\n      <td>[{'name': 'Eric MAMER', 'phone': '+32 2 299 40...</td>\n      <td>[environment, structural reforms, responsible ...</td>\n      <td>[https://ec.europa.eu/commission/presscorner/d...</td>\n    </tr>\n    <tr>\n      <th>fbad1d421cf80d3e0e4c6b6d3d60a2a6ec8bed4ee19e07cd15d963fa74352420</th>\n      <td>January 2021</td>\n      <td>2021-01-28</td>\n      <td>Prolonging State aid Temporary Framework to fu...</td>\n      <td>The Commission has decided to prolong until 31...</td>\n      <td>[https://ec.europa.eu/commission/presscorner/d...</td>\n      <td>[https://ec.europa.eu/commission/presscorner/d...</td>\n      <td>https://ec.europa.eu/commission/presscorner/de...</td>\n      <td>Press release</td>\n      <td>2020-03-19</td>\n      <td>Brussels</td>\n      <td>The European Commission has adopted a</td>\n      <td>[State aid: Commission adopts Temporary Framew...</td>\n      <td>https://ec.europa.eu/commission/presscorner/ap...</td>\n      <td>[{'name': 'Arianna PODESTA', 'phone': '+32 2 2...</td>\n      <td>[competition, responsible for questions regard...</td>\n      <td>[https://ec.europa.eu/competition/state_aid/wh...</td>\n    </tr>\n    <tr>\n      <th>fbeff236835d3cfd394f9c9fd5b63eb524c9cdab6e68c9370758f3e35592973e</th>\n      <td>July 2020</td>\n      <td>2020-07-06</td>\n      <td>Commission and EIB provide CureVac with a €75 ...</td>\n      <td>The European Investment Bank (EIB) and CureVac...</td>\n      <td>[https://ec.europa.eu/commission/presscorner/d...</td>\n      <td>[https://ec.europa.eu/commission/presscorner/d...</td>\n      <td>https://ec.europa.eu/commission/presscorner/de...</td>\n      <td>Press release</td>\n      <td>2020-07-06</td>\n      <td>Brussels</td>\n      <td></td>\n      <td>[Commission and EIB provide CureVac with a €75...</td>\n      <td>https://ec.europa.eu/commission/presscorner/ap...</td>\n      <td>[{'name': 'Johannes BAHRKE', 'phone': '+32 2 2...</td>\n      <td>[research and innovation, digital economy]</td>\n      <td>NaN</td>\n    </tr>\n    <tr>\n      <th>ffbf6d305594c49b6f5d4d66f56e674f1d953833ba9fdceed84d72370c884653</th>\n      <td>June 2021</td>\n      <td>2021-06-23</td>\n      <td>Commission endorses France's €39.4 billion rec...</td>\n      <td>The Commission adopted   of France's recovery ...</td>\n      <td>[https://ec.europa.eu/commission/presscorner/d...</td>\n      <td>[https://ec.europa.eu/commission/presscorner/d...</td>\n      <td>https://ec.europa.eu/commission/presscorner/de...</td>\n      <td>Press release</td>\n      <td>2021-06-23</td>\n      <td>Brussels</td>\n      <td>The European Commission has today adopted a po...</td>\n      <td>[NextGenerationEU: European Commission endorse...</td>\n      <td>https://ec.europa.eu/commission/presscorner/ap...</td>\n      <td>[{'name': 'Marta WIECZOREK', 'phone': '+32 2 2...</td>\n      <td>[economic affairs, economic and financial affa...</td>\n      <td>NaN</td>\n    </tr>\n  </tbody>\n</table>\n<p>210 rows × 16 columns</p>\n</div>"
     },
     "execution_count": 23,
     "metadata": {},
     "output_type": "execute_result"
    }
   ],
   "source": [
    "eu_timeline"
   ],
   "metadata": {
    "collapsed": false,
    "pycharm": {
     "name": "#%%\n"
    }
   }
  },
  {
   "cell_type": "code",
   "execution_count": null,
   "outputs": [],
   "source": [
    "import hashlib\n",
    "import logging\n",
    "import re\n",
    "import uuid\n",
    "from json import loads, dumps\n",
    "\n",
    "import numpy as np\n",
    "import pandas as pd\n",
    "from scrapy.crawler import CrawlerProcess\n",
    "from tika import parser\n",
    "\n",
    "import sem_covid.services.crawlers.scrapy_crawlers.settings as crawler_config\n",
    "from sem_covid import config\n",
    "from sem_covid.adapters.dag.base_etl_dag_pipeline import BaseETLPipeline\n",
    "from sem_covid.services.store_registry import StoreRegistryABC\n",
    "from sem_covid.services.sc_wrangling.data_cleaning import clean_fix_unicode, clean_to_ascii, clean_remove_line_breaks\n",
    "\n",
    "TIKA_FILE_PREFIX = 'tika/'\n",
    "SPLASH_URL_CONFIG = 'config.SPLASH_URL'\n",
    "\n",
    "logger = logging.getLogger(__name__)\n",
    "\n",
    "\n",
    "def content_cleanup_tool(text: str) -> str:\n",
    "    \"\"\"\n",
    "        Perform the text cleanup and return the results\n",
    "    \"\"\"\n",
    "    result = text\n",
    "    result = clean_fix_unicode(result)\n",
    "    result = clean_to_ascii(result)\n",
    "    result = re.sub(r\"\\s+\", \" \", result)\n",
    "    result = re.sub(r\"[\\s\\t\\r\\n]+\", \" \", result)\n",
    "    result = re.sub(r\".*\\.docx\", \"\", result)\n",
    "    result = re.sub(r\".*\\.xml\", \"\", result)\n",
    "    result = re.sub(r\"<.>\", \"\", result)\n",
    "    result = re.sub(r\"\\[]\", \"\", result)\n",
    "    result = re.sub(r\"\\S*@\\S*\", \"\", result)\n",
    "    result = re.sub(r\"http\\S+\", \"\", result)\n",
    "    result = clean_remove_line_breaks(result)\n",
    "    result = result.encode(\"ascii\", \"ignore\").decode()\n",
    "\n",
    "    return result\n",
    "\n",
    "\n",
    "def extract_settings_from_module(module) -> dict:\n",
    "    settings = dict()\n",
    "    for setting_config in dir(crawler_config):\n",
    "        if setting_config.isupper():\n",
    "            settings[setting_config] = getattr(module, setting_config)\n",
    "\n",
    "    return settings\n",
    "\n",
    "\n",
    "class CrawlDagPipeline(BaseETLPipeline):\n",
    "    \"\"\"\n",
    "        Pipeline for data crawling\n",
    "    \"\"\"\n",
    "\n",
    "    def __init__(self, store_registry: StoreRegistryABC, file_name: str, bucket_name: str,\n",
    "                 elasticsearch_index_name: str,\n",
    "                 content_path_key: str, scrapy_crawler) -> None:\n",
    "        self.store_registry = store_registry\n",
    "        self.file_name = file_name\n",
    "        self.bucket_name = bucket_name\n",
    "        self.elasticsearch_index_name = elasticsearch_index_name\n",
    "        self.content_path_key = content_path_key\n",
    "        self.scrapy_crawler = scrapy_crawler\n",
    "\n",
    "    def get_steps(self) -> list:\n",
    "        return [self.extract, self.transform_structure,\n",
    "                self.load]\n",
    "\n",
    "    def extract(self, *args, **kwargs) -> None:\n",
    "        logger.info('start crawler')\n",
    "        minio = self.store_registry.minio_object_store(self.bucket_name)\n",
    "        minio.empty_bucket(object_name_prefix=None)\n",
    "        settings = extract_settings_from_module(crawler_config)\n",
    "        settings[SPLASH_URL_CONFIG] = config.SPLASH_URL\n",
    "        process = CrawlerProcess(settings=settings)\n",
    "        process.crawl(self.scrapy_crawler, filename=self.file_name, storage_adapter=minio)\n",
    "        process.start()\n",
    "\n",
    "    def transform_structure(self, *args, **kwargs) -> None:\n",
    "        pass\n",
    "\n",
    "    def transform_content(self, *args, **kwargs) -> None:\n",
    "        logger.info(f'Using Apache Tika at {config.APACHE_TIKA_URL}')\n",
    "        logger.info(f'Loading resource files from {self.file_name}')\n",
    "        minio = self.store_registry.minio_object_store(self.bucket_name)\n",
    "        json_content = loads(minio.get_object(self.file_name))\n",
    "        logger.info(f\"Content path key: {self.content_path_key}\")\n",
    "        counter = {\n",
    "            'general': 0,\n",
    "            'success': 0\n",
    "        }\n",
    "        for index, item in enumerate(json_content):\n",
    "            identifier = item['title']\n",
    "            logger.info(f'[{index + 1}/{len(json_content)}] Processing {identifier}')\n",
    "            logger.info(f\"Content path key items: {item[self.content_path_key]}\")\n",
    "            if self.content_path_key in item:\n",
    "                counter['general'] += 1\n",
    "                parse_result = parser.from_buffer(string=item[self.content_path_key],\n",
    "                                                  serverEndpoint=config.APACHE_TIKA_URL)\n",
    "\n",
    "                if 'content' in parse_result:\n",
    "                    counter['success'] += 1\n",
    "                    item[self.content_path_key] = content_cleanup_tool(parse_result['content'])\n",
    "\n",
    "            manifestation = item.get('detail_link') or item['title']\n",
    "            if manifestation is None:\n",
    "                manifestation = \"no title ( \" + str(uuid.uuid4()) + \" )\"\n",
    "            filename = hashlib.sha256(manifestation.encode('utf-8')).hexdigest()\n",
    "            minio.put_object(TIKA_FILE_PREFIX + filename, dumps(item))\n",
    "\n",
    "        minio.put_object(self.file_name, dumps(json_content))\n",
    "\n",
    "        logger.info(f\"Parsed a total of {counter['general']} files, of which successfully {counter['success']} files.\")"
   ],
   "metadata": {
    "collapsed": false,
    "pycharm": {
     "name": "#%%\n"
    }
   }
  }
 ],
 "metadata": {
  "kernelspec": {
   "display_name": "Python 3",
   "language": "python",
   "name": "python3"
  },
  "language_info": {
   "codemirror_mode": {
    "name": "ipython",
    "version": 2
   },
   "file_extension": ".py",
   "mimetype": "text/x-python",
   "name": "python",
   "nbconvert_exporter": "python",
   "pygments_lexer": "ipython2",
   "version": "2.7.6"
  }
 },
 "nbformat": 4,
 "nbformat_minor": 0
}