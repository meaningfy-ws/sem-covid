{
 "cells": [
  {
   "cell_type": "markdown",
   "source": [
    "## Import libraries"
   ],
   "metadata": {
    "collapsed": false,
    "pycharm": {
     "name": "#%% md\n"
    }
   }
  },
  {
   "cell_type": "code",
   "execution_count": 1,
   "metadata": {
    "collapsed": true,
    "pycharm": {
     "name": "#%%\n"
    }
   },
   "outputs": [],
   "source": [
    "import sys\n",
    "sys.path.append(\"/home/jovyan/work/sem-covid/\")\n",
    "sys.path = list(set(sys.path))\n",
    "import os\n",
    "\n",
    "os.getcwd()\n",
    "os.chdir('/home/jovyan/work/sem-covid/')\n",
    "\n",
    "from sem_covid.services.store_registry import StoreRegistry\n",
    "from pycaret.utils import check_metric\n",
    "from pycaret.classification import *"
   ]
  },
  {
   "cell_type": "markdown",
   "source": [
    "## Load dataset"
   ],
   "metadata": {
    "collapsed": false,
    "pycharm": {
     "name": "#%% md\n"
    }
   }
  },
  {
   "cell_type": "code",
   "execution_count": 2,
   "outputs": [
    {
     "name": "stderr",
     "output_type": "stream",
     "text": [
      "100% (1288 of 1288) |####################| Elapsed Time: 0:00:00 Time:  0:00:00\n",
      "100% (1288 of 1288) |####################| Elapsed Time: 0:00:00 Time:  0:00:00\n"
     ]
    }
   ],
   "source": [
    "feature_store = StoreRegistry.es_feature_store()\n",
    "dataset_x = feature_store.get_features('fs_pwdb_tg1_x')\n",
    "dataset_y = feature_store.get_features('fs_pwdb_tg1_y')\n",
    "dataset = dataset_x\n",
    "dataset['200'] = dataset_y['businesses'].values"
   ],
   "metadata": {
    "collapsed": false,
    "pycharm": {
     "name": "#%%\n"
    }
   }
  },
  {
   "cell_type": "markdown",
   "source": [
    "## Split dataset in train_set and test_set"
   ],
   "metadata": {
    "collapsed": false,
    "pycharm": {
     "name": "#%% md\n"
    }
   }
  },
  {
   "cell_type": "code",
   "execution_count": 58,
   "outputs": [
    {
     "name": "stdout",
     "output_type": "stream",
     "text": [
      "Data for Modeling: (902, 201)\n",
      "Unseen Data For Predictions: (386, 201)\n"
     ]
    }
   ],
   "source": [
    "train_data = dataset.sample(frac=0.70, random_state=786)\n",
    "test_data = dataset.drop(train_data.index)\n",
    "train_data.reset_index(inplace=True, drop=True)\n",
    "test_data.reset_index(inplace=True, drop=True)\n",
    "print('Data for Modeling: ' + str(train_data.shape))\n",
    "print('Unseen Data For Predictions: ' + str(test_data.shape))"
   ],
   "metadata": {
    "collapsed": false,
    "pycharm": {
     "name": "#%%\n"
    }
   }
  },
  {
   "cell_type": "markdown",
   "source": [
    "## Setup PyCaret"
   ],
   "metadata": {
    "collapsed": false,
    "pycharm": {
     "name": "#%% md\n"
    }
   }
  },
  {
   "cell_type": "code",
   "execution_count": 59,
   "outputs": [
    {
     "data": {
      "text/plain": "<pandas.io.formats.style.Styler at 0x7f0ba2757490>",
      "text/html": "<style  type=\"text/css\" >\n</style><table id=\"T_a7eec_\" ><thead>    <tr>        <th class=\"blank level0\" ></th>        <th class=\"col_heading level0 col0\" >Description</th>        <th class=\"col_heading level0 col1\" >Value</th>    </tr></thead><tbody>\n                <tr>\n                        <th id=\"T_a7eec_level0_row0\" class=\"row_heading level0 row0\" >0</th>\n                        <td id=\"T_a7eec_row0_col0\" class=\"data row0 col0\" >session_id</td>\n                        <td id=\"T_a7eec_row0_col1\" class=\"data row0 col1\" >123</td>\n            </tr>\n            <tr>\n                        <th id=\"T_a7eec_level0_row1\" class=\"row_heading level0 row1\" >1</th>\n                        <td id=\"T_a7eec_row1_col0\" class=\"data row1 col0\" >Target</td>\n                        <td id=\"T_a7eec_row1_col1\" class=\"data row1 col1\" >200</td>\n            </tr>\n            <tr>\n                        <th id=\"T_a7eec_level0_row2\" class=\"row_heading level0 row2\" >2</th>\n                        <td id=\"T_a7eec_row2_col0\" class=\"data row2 col0\" >Target Type</td>\n                        <td id=\"T_a7eec_row2_col1\" class=\"data row2 col1\" >Binary</td>\n            </tr>\n            <tr>\n                        <th id=\"T_a7eec_level0_row3\" class=\"row_heading level0 row3\" >3</th>\n                        <td id=\"T_a7eec_row3_col0\" class=\"data row3 col0\" >Label Encoded</td>\n                        <td id=\"T_a7eec_row3_col1\" class=\"data row3 col1\" >0: 0, 1: 1</td>\n            </tr>\n            <tr>\n                        <th id=\"T_a7eec_level0_row4\" class=\"row_heading level0 row4\" >4</th>\n                        <td id=\"T_a7eec_row4_col0\" class=\"data row4 col0\" >Original Data</td>\n                        <td id=\"T_a7eec_row4_col1\" class=\"data row4 col1\" >(902, 201)</td>\n            </tr>\n            <tr>\n                        <th id=\"T_a7eec_level0_row5\" class=\"row_heading level0 row5\" >5</th>\n                        <td id=\"T_a7eec_row5_col0\" class=\"data row5 col0\" >Missing Values</td>\n                        <td id=\"T_a7eec_row5_col1\" class=\"data row5 col1\" >False</td>\n            </tr>\n            <tr>\n                        <th id=\"T_a7eec_level0_row6\" class=\"row_heading level0 row6\" >6</th>\n                        <td id=\"T_a7eec_row6_col0\" class=\"data row6 col0\" >Numeric Features</td>\n                        <td id=\"T_a7eec_row6_col1\" class=\"data row6 col1\" >200</td>\n            </tr>\n            <tr>\n                        <th id=\"T_a7eec_level0_row7\" class=\"row_heading level0 row7\" >7</th>\n                        <td id=\"T_a7eec_row7_col0\" class=\"data row7 col0\" >Categorical Features</td>\n                        <td id=\"T_a7eec_row7_col1\" class=\"data row7 col1\" >0</td>\n            </tr>\n            <tr>\n                        <th id=\"T_a7eec_level0_row8\" class=\"row_heading level0 row8\" >8</th>\n                        <td id=\"T_a7eec_row8_col0\" class=\"data row8 col0\" >Ordinal Features</td>\n                        <td id=\"T_a7eec_row8_col1\" class=\"data row8 col1\" >False</td>\n            </tr>\n            <tr>\n                        <th id=\"T_a7eec_level0_row9\" class=\"row_heading level0 row9\" >9</th>\n                        <td id=\"T_a7eec_row9_col0\" class=\"data row9 col0\" >High Cardinality Features</td>\n                        <td id=\"T_a7eec_row9_col1\" class=\"data row9 col1\" >False</td>\n            </tr>\n            <tr>\n                        <th id=\"T_a7eec_level0_row10\" class=\"row_heading level0 row10\" >10</th>\n                        <td id=\"T_a7eec_row10_col0\" class=\"data row10 col0\" >High Cardinality Method</td>\n                        <td id=\"T_a7eec_row10_col1\" class=\"data row10 col1\" >None</td>\n            </tr>\n            <tr>\n                        <th id=\"T_a7eec_level0_row11\" class=\"row_heading level0 row11\" >11</th>\n                        <td id=\"T_a7eec_row11_col0\" class=\"data row11 col0\" >Transformed Train Set</td>\n                        <td id=\"T_a7eec_row11_col1\" class=\"data row11 col1\" >(631, 200)</td>\n            </tr>\n            <tr>\n                        <th id=\"T_a7eec_level0_row12\" class=\"row_heading level0 row12\" >12</th>\n                        <td id=\"T_a7eec_row12_col0\" class=\"data row12 col0\" >Transformed Test Set</td>\n                        <td id=\"T_a7eec_row12_col1\" class=\"data row12 col1\" >(271, 200)</td>\n            </tr>\n            <tr>\n                        <th id=\"T_a7eec_level0_row13\" class=\"row_heading level0 row13\" >13</th>\n                        <td id=\"T_a7eec_row13_col0\" class=\"data row13 col0\" >Shuffle Train-Test</td>\n                        <td id=\"T_a7eec_row13_col1\" class=\"data row13 col1\" >True</td>\n            </tr>\n            <tr>\n                        <th id=\"T_a7eec_level0_row14\" class=\"row_heading level0 row14\" >14</th>\n                        <td id=\"T_a7eec_row14_col0\" class=\"data row14 col0\" >Stratify Train-Test</td>\n                        <td id=\"T_a7eec_row14_col1\" class=\"data row14 col1\" >False</td>\n            </tr>\n            <tr>\n                        <th id=\"T_a7eec_level0_row15\" class=\"row_heading level0 row15\" >15</th>\n                        <td id=\"T_a7eec_row15_col0\" class=\"data row15 col0\" >Fold Generator</td>\n                        <td id=\"T_a7eec_row15_col1\" class=\"data row15 col1\" >StratifiedKFold</td>\n            </tr>\n            <tr>\n                        <th id=\"T_a7eec_level0_row16\" class=\"row_heading level0 row16\" >16</th>\n                        <td id=\"T_a7eec_row16_col0\" class=\"data row16 col0\" >Fold Number</td>\n                        <td id=\"T_a7eec_row16_col1\" class=\"data row16 col1\" >10</td>\n            </tr>\n            <tr>\n                        <th id=\"T_a7eec_level0_row17\" class=\"row_heading level0 row17\" >17</th>\n                        <td id=\"T_a7eec_row17_col0\" class=\"data row17 col0\" >CPU Jobs</td>\n                        <td id=\"T_a7eec_row17_col1\" class=\"data row17 col1\" >-1</td>\n            </tr>\n            <tr>\n                        <th id=\"T_a7eec_level0_row18\" class=\"row_heading level0 row18\" >18</th>\n                        <td id=\"T_a7eec_row18_col0\" class=\"data row18 col0\" >Use GPU</td>\n                        <td id=\"T_a7eec_row18_col1\" class=\"data row18 col1\" >False</td>\n            </tr>\n            <tr>\n                        <th id=\"T_a7eec_level0_row19\" class=\"row_heading level0 row19\" >19</th>\n                        <td id=\"T_a7eec_row19_col0\" class=\"data row19 col0\" >Log Experiment</td>\n                        <td id=\"T_a7eec_row19_col1\" class=\"data row19 col1\" >False</td>\n            </tr>\n            <tr>\n                        <th id=\"T_a7eec_level0_row20\" class=\"row_heading level0 row20\" >20</th>\n                        <td id=\"T_a7eec_row20_col0\" class=\"data row20 col0\" >Experiment Name</td>\n                        <td id=\"T_a7eec_row20_col1\" class=\"data row20 col1\" >clf-default-name</td>\n            </tr>\n            <tr>\n                        <th id=\"T_a7eec_level0_row21\" class=\"row_heading level0 row21\" >21</th>\n                        <td id=\"T_a7eec_row21_col0\" class=\"data row21 col0\" >USI</td>\n                        <td id=\"T_a7eec_row21_col1\" class=\"data row21 col1\" >272c</td>\n            </tr>\n            <tr>\n                        <th id=\"T_a7eec_level0_row22\" class=\"row_heading level0 row22\" >22</th>\n                        <td id=\"T_a7eec_row22_col0\" class=\"data row22 col0\" >Imputation Type</td>\n                        <td id=\"T_a7eec_row22_col1\" class=\"data row22 col1\" >simple</td>\n            </tr>\n            <tr>\n                        <th id=\"T_a7eec_level0_row23\" class=\"row_heading level0 row23\" >23</th>\n                        <td id=\"T_a7eec_row23_col0\" class=\"data row23 col0\" >Iterative Imputation Iteration</td>\n                        <td id=\"T_a7eec_row23_col1\" class=\"data row23 col1\" >None</td>\n            </tr>\n            <tr>\n                        <th id=\"T_a7eec_level0_row24\" class=\"row_heading level0 row24\" >24</th>\n                        <td id=\"T_a7eec_row24_col0\" class=\"data row24 col0\" >Numeric Imputer</td>\n                        <td id=\"T_a7eec_row24_col1\" class=\"data row24 col1\" >mean</td>\n            </tr>\n            <tr>\n                        <th id=\"T_a7eec_level0_row25\" class=\"row_heading level0 row25\" >25</th>\n                        <td id=\"T_a7eec_row25_col0\" class=\"data row25 col0\" >Iterative Imputation Numeric Model</td>\n                        <td id=\"T_a7eec_row25_col1\" class=\"data row25 col1\" >None</td>\n            </tr>\n            <tr>\n                        <th id=\"T_a7eec_level0_row26\" class=\"row_heading level0 row26\" >26</th>\n                        <td id=\"T_a7eec_row26_col0\" class=\"data row26 col0\" >Categorical Imputer</td>\n                        <td id=\"T_a7eec_row26_col1\" class=\"data row26 col1\" >constant</td>\n            </tr>\n            <tr>\n                        <th id=\"T_a7eec_level0_row27\" class=\"row_heading level0 row27\" >27</th>\n                        <td id=\"T_a7eec_row27_col0\" class=\"data row27 col0\" >Iterative Imputation Categorical Model</td>\n                        <td id=\"T_a7eec_row27_col1\" class=\"data row27 col1\" >None</td>\n            </tr>\n            <tr>\n                        <th id=\"T_a7eec_level0_row28\" class=\"row_heading level0 row28\" >28</th>\n                        <td id=\"T_a7eec_row28_col0\" class=\"data row28 col0\" >Unknown Categoricals Handling</td>\n                        <td id=\"T_a7eec_row28_col1\" class=\"data row28 col1\" >least_frequent</td>\n            </tr>\n            <tr>\n                        <th id=\"T_a7eec_level0_row29\" class=\"row_heading level0 row29\" >29</th>\n                        <td id=\"T_a7eec_row29_col0\" class=\"data row29 col0\" >Normalize</td>\n                        <td id=\"T_a7eec_row29_col1\" class=\"data row29 col1\" >False</td>\n            </tr>\n            <tr>\n                        <th id=\"T_a7eec_level0_row30\" class=\"row_heading level0 row30\" >30</th>\n                        <td id=\"T_a7eec_row30_col0\" class=\"data row30 col0\" >Normalize Method</td>\n                        <td id=\"T_a7eec_row30_col1\" class=\"data row30 col1\" >None</td>\n            </tr>\n            <tr>\n                        <th id=\"T_a7eec_level0_row31\" class=\"row_heading level0 row31\" >31</th>\n                        <td id=\"T_a7eec_row31_col0\" class=\"data row31 col0\" >Transformation</td>\n                        <td id=\"T_a7eec_row31_col1\" class=\"data row31 col1\" >False</td>\n            </tr>\n            <tr>\n                        <th id=\"T_a7eec_level0_row32\" class=\"row_heading level0 row32\" >32</th>\n                        <td id=\"T_a7eec_row32_col0\" class=\"data row32 col0\" >Transformation Method</td>\n                        <td id=\"T_a7eec_row32_col1\" class=\"data row32 col1\" >None</td>\n            </tr>\n            <tr>\n                        <th id=\"T_a7eec_level0_row33\" class=\"row_heading level0 row33\" >33</th>\n                        <td id=\"T_a7eec_row33_col0\" class=\"data row33 col0\" >PCA</td>\n                        <td id=\"T_a7eec_row33_col1\" class=\"data row33 col1\" >False</td>\n            </tr>\n            <tr>\n                        <th id=\"T_a7eec_level0_row34\" class=\"row_heading level0 row34\" >34</th>\n                        <td id=\"T_a7eec_row34_col0\" class=\"data row34 col0\" >PCA Method</td>\n                        <td id=\"T_a7eec_row34_col1\" class=\"data row34 col1\" >None</td>\n            </tr>\n            <tr>\n                        <th id=\"T_a7eec_level0_row35\" class=\"row_heading level0 row35\" >35</th>\n                        <td id=\"T_a7eec_row35_col0\" class=\"data row35 col0\" >PCA Components</td>\n                        <td id=\"T_a7eec_row35_col1\" class=\"data row35 col1\" >None</td>\n            </tr>\n            <tr>\n                        <th id=\"T_a7eec_level0_row36\" class=\"row_heading level0 row36\" >36</th>\n                        <td id=\"T_a7eec_row36_col0\" class=\"data row36 col0\" >Ignore Low Variance</td>\n                        <td id=\"T_a7eec_row36_col1\" class=\"data row36 col1\" >False</td>\n            </tr>\n            <tr>\n                        <th id=\"T_a7eec_level0_row37\" class=\"row_heading level0 row37\" >37</th>\n                        <td id=\"T_a7eec_row37_col0\" class=\"data row37 col0\" >Combine Rare Levels</td>\n                        <td id=\"T_a7eec_row37_col1\" class=\"data row37 col1\" >False</td>\n            </tr>\n            <tr>\n                        <th id=\"T_a7eec_level0_row38\" class=\"row_heading level0 row38\" >38</th>\n                        <td id=\"T_a7eec_row38_col0\" class=\"data row38 col0\" >Rare Level Threshold</td>\n                        <td id=\"T_a7eec_row38_col1\" class=\"data row38 col1\" >None</td>\n            </tr>\n            <tr>\n                        <th id=\"T_a7eec_level0_row39\" class=\"row_heading level0 row39\" >39</th>\n                        <td id=\"T_a7eec_row39_col0\" class=\"data row39 col0\" >Numeric Binning</td>\n                        <td id=\"T_a7eec_row39_col1\" class=\"data row39 col1\" >False</td>\n            </tr>\n            <tr>\n                        <th id=\"T_a7eec_level0_row40\" class=\"row_heading level0 row40\" >40</th>\n                        <td id=\"T_a7eec_row40_col0\" class=\"data row40 col0\" >Remove Outliers</td>\n                        <td id=\"T_a7eec_row40_col1\" class=\"data row40 col1\" >False</td>\n            </tr>\n            <tr>\n                        <th id=\"T_a7eec_level0_row41\" class=\"row_heading level0 row41\" >41</th>\n                        <td id=\"T_a7eec_row41_col0\" class=\"data row41 col0\" >Outliers Threshold</td>\n                        <td id=\"T_a7eec_row41_col1\" class=\"data row41 col1\" >None</td>\n            </tr>\n            <tr>\n                        <th id=\"T_a7eec_level0_row42\" class=\"row_heading level0 row42\" >42</th>\n                        <td id=\"T_a7eec_row42_col0\" class=\"data row42 col0\" >Remove Multicollinearity</td>\n                        <td id=\"T_a7eec_row42_col1\" class=\"data row42 col1\" >False</td>\n            </tr>\n            <tr>\n                        <th id=\"T_a7eec_level0_row43\" class=\"row_heading level0 row43\" >43</th>\n                        <td id=\"T_a7eec_row43_col0\" class=\"data row43 col0\" >Multicollinearity Threshold</td>\n                        <td id=\"T_a7eec_row43_col1\" class=\"data row43 col1\" >None</td>\n            </tr>\n            <tr>\n                        <th id=\"T_a7eec_level0_row44\" class=\"row_heading level0 row44\" >44</th>\n                        <td id=\"T_a7eec_row44_col0\" class=\"data row44 col0\" >Clustering</td>\n                        <td id=\"T_a7eec_row44_col1\" class=\"data row44 col1\" >False</td>\n            </tr>\n            <tr>\n                        <th id=\"T_a7eec_level0_row45\" class=\"row_heading level0 row45\" >45</th>\n                        <td id=\"T_a7eec_row45_col0\" class=\"data row45 col0\" >Clustering Iteration</td>\n                        <td id=\"T_a7eec_row45_col1\" class=\"data row45 col1\" >None</td>\n            </tr>\n            <tr>\n                        <th id=\"T_a7eec_level0_row46\" class=\"row_heading level0 row46\" >46</th>\n                        <td id=\"T_a7eec_row46_col0\" class=\"data row46 col0\" >Polynomial Features</td>\n                        <td id=\"T_a7eec_row46_col1\" class=\"data row46 col1\" >False</td>\n            </tr>\n            <tr>\n                        <th id=\"T_a7eec_level0_row47\" class=\"row_heading level0 row47\" >47</th>\n                        <td id=\"T_a7eec_row47_col0\" class=\"data row47 col0\" >Polynomial Degree</td>\n                        <td id=\"T_a7eec_row47_col1\" class=\"data row47 col1\" >None</td>\n            </tr>\n            <tr>\n                        <th id=\"T_a7eec_level0_row48\" class=\"row_heading level0 row48\" >48</th>\n                        <td id=\"T_a7eec_row48_col0\" class=\"data row48 col0\" >Trignometry Features</td>\n                        <td id=\"T_a7eec_row48_col1\" class=\"data row48 col1\" >False</td>\n            </tr>\n            <tr>\n                        <th id=\"T_a7eec_level0_row49\" class=\"row_heading level0 row49\" >49</th>\n                        <td id=\"T_a7eec_row49_col0\" class=\"data row49 col0\" >Polynomial Threshold</td>\n                        <td id=\"T_a7eec_row49_col1\" class=\"data row49 col1\" >None</td>\n            </tr>\n            <tr>\n                        <th id=\"T_a7eec_level0_row50\" class=\"row_heading level0 row50\" >50</th>\n                        <td id=\"T_a7eec_row50_col0\" class=\"data row50 col0\" >Group Features</td>\n                        <td id=\"T_a7eec_row50_col1\" class=\"data row50 col1\" >False</td>\n            </tr>\n            <tr>\n                        <th id=\"T_a7eec_level0_row51\" class=\"row_heading level0 row51\" >51</th>\n                        <td id=\"T_a7eec_row51_col0\" class=\"data row51 col0\" >Feature Selection</td>\n                        <td id=\"T_a7eec_row51_col1\" class=\"data row51 col1\" >False</td>\n            </tr>\n            <tr>\n                        <th id=\"T_a7eec_level0_row52\" class=\"row_heading level0 row52\" >52</th>\n                        <td id=\"T_a7eec_row52_col0\" class=\"data row52 col0\" >Feature Selection Method</td>\n                        <td id=\"T_a7eec_row52_col1\" class=\"data row52 col1\" >classic</td>\n            </tr>\n            <tr>\n                        <th id=\"T_a7eec_level0_row53\" class=\"row_heading level0 row53\" >53</th>\n                        <td id=\"T_a7eec_row53_col0\" class=\"data row53 col0\" >Features Selection Threshold</td>\n                        <td id=\"T_a7eec_row53_col1\" class=\"data row53 col1\" >None</td>\n            </tr>\n            <tr>\n                        <th id=\"T_a7eec_level0_row54\" class=\"row_heading level0 row54\" >54</th>\n                        <td id=\"T_a7eec_row54_col0\" class=\"data row54 col0\" >Feature Interaction</td>\n                        <td id=\"T_a7eec_row54_col1\" class=\"data row54 col1\" >False</td>\n            </tr>\n            <tr>\n                        <th id=\"T_a7eec_level0_row55\" class=\"row_heading level0 row55\" >55</th>\n                        <td id=\"T_a7eec_row55_col0\" class=\"data row55 col0\" >Feature Ratio</td>\n                        <td id=\"T_a7eec_row55_col1\" class=\"data row55 col1\" >False</td>\n            </tr>\n            <tr>\n                        <th id=\"T_a7eec_level0_row56\" class=\"row_heading level0 row56\" >56</th>\n                        <td id=\"T_a7eec_row56_col0\" class=\"data row56 col0\" >Interaction Threshold</td>\n                        <td id=\"T_a7eec_row56_col1\" class=\"data row56 col1\" >None</td>\n            </tr>\n            <tr>\n                        <th id=\"T_a7eec_level0_row57\" class=\"row_heading level0 row57\" >57</th>\n                        <td id=\"T_a7eec_row57_col0\" class=\"data row57 col0\" >Fix Imbalance</td>\n                        <td id=\"T_a7eec_row57_col1\" class=\"data row57 col1\" >False</td>\n            </tr>\n            <tr>\n                        <th id=\"T_a7eec_level0_row58\" class=\"row_heading level0 row58\" >58</th>\n                        <td id=\"T_a7eec_row58_col0\" class=\"data row58 col0\" >Fix Imbalance Method</td>\n                        <td id=\"T_a7eec_row58_col1\" class=\"data row58 col1\" >SMOTE</td>\n            </tr>\n    </tbody></table>"
     },
     "metadata": {},
     "output_type": "display_data"
    }
   ],
   "source": [
    "exp_clf101 = setup(data = train_data, target = '200', session_id=123)"
   ],
   "metadata": {
    "collapsed": false,
    "pycharm": {
     "name": "#%%\n"
    }
   }
  },
  {
   "cell_type": "markdown",
   "source": [
    "## Select best model"
   ],
   "metadata": {
    "collapsed": false,
    "pycharm": {
     "name": "#%% md\n"
    }
   }
  },
  {
   "cell_type": "code",
   "execution_count": 60,
   "outputs": [
    {
     "data": {
      "text/plain": "<pandas.io.formats.style.Styler at 0x7f0b59db7100>",
      "text/html": "<style  type=\"text/css\" >\n    #T_59a86_ th {\n          text-align: left;\n    }#T_59a86_row0_col0,#T_59a86_row0_col3,#T_59a86_row0_col4,#T_59a86_row0_col5,#T_59a86_row1_col0,#T_59a86_row1_col1,#T_59a86_row1_col2,#T_59a86_row1_col3,#T_59a86_row1_col4,#T_59a86_row1_col5,#T_59a86_row1_col6,#T_59a86_row1_col7,#T_59a86_row2_col0,#T_59a86_row2_col1,#T_59a86_row2_col2,#T_59a86_row2_col3,#T_59a86_row2_col4,#T_59a86_row2_col5,#T_59a86_row2_col6,#T_59a86_row2_col7,#T_59a86_row3_col0,#T_59a86_row3_col1,#T_59a86_row3_col2,#T_59a86_row3_col3,#T_59a86_row3_col4,#T_59a86_row3_col5,#T_59a86_row3_col6,#T_59a86_row3_col7,#T_59a86_row4_col0,#T_59a86_row4_col1,#T_59a86_row4_col2,#T_59a86_row4_col3,#T_59a86_row4_col4,#T_59a86_row4_col5,#T_59a86_row4_col6,#T_59a86_row4_col7,#T_59a86_row5_col0,#T_59a86_row5_col1,#T_59a86_row5_col2,#T_59a86_row5_col3,#T_59a86_row5_col4,#T_59a86_row5_col5,#T_59a86_row5_col6,#T_59a86_row5_col7,#T_59a86_row6_col0,#T_59a86_row6_col1,#T_59a86_row6_col2,#T_59a86_row6_col3,#T_59a86_row6_col4,#T_59a86_row6_col5,#T_59a86_row6_col6,#T_59a86_row6_col7,#T_59a86_row7_col0,#T_59a86_row7_col1,#T_59a86_row7_col2,#T_59a86_row7_col4,#T_59a86_row7_col6,#T_59a86_row7_col7,#T_59a86_row8_col0,#T_59a86_row8_col1,#T_59a86_row8_col2,#T_59a86_row8_col3,#T_59a86_row8_col4,#T_59a86_row8_col5,#T_59a86_row8_col6,#T_59a86_row8_col7,#T_59a86_row9_col0,#T_59a86_row9_col1,#T_59a86_row9_col2,#T_59a86_row9_col3,#T_59a86_row9_col5,#T_59a86_row9_col6,#T_59a86_row9_col7,#T_59a86_row10_col0,#T_59a86_row10_col1,#T_59a86_row10_col2,#T_59a86_row10_col3,#T_59a86_row10_col4,#T_59a86_row10_col5,#T_59a86_row10_col6,#T_59a86_row10_col7,#T_59a86_row11_col0,#T_59a86_row11_col1,#T_59a86_row11_col2,#T_59a86_row11_col3,#T_59a86_row11_col4,#T_59a86_row11_col5,#T_59a86_row11_col6,#T_59a86_row11_col7,#T_59a86_row12_col0,#T_59a86_row12_col1,#T_59a86_row12_col2,#T_59a86_row12_col3,#T_59a86_row12_col4,#T_59a86_row12_col5,#T_59a86_row12_col6,#T_59a86_row12_col7{\n            text-align:  left;\n            text-align:  left;\n        }#T_59a86_row0_col1,#T_59a86_row0_col2,#T_59a86_row0_col6,#T_59a86_row0_col7,#T_59a86_row7_col3,#T_59a86_row7_col5,#T_59a86_row9_col4{\n            text-align:  left;\n            text-align:  left;\n            background-color:  yellow;\n        }#T_59a86_row0_col8,#T_59a86_row1_col8,#T_59a86_row3_col8,#T_59a86_row4_col8,#T_59a86_row5_col8,#T_59a86_row6_col8,#T_59a86_row7_col8,#T_59a86_row8_col8,#T_59a86_row9_col8,#T_59a86_row10_col8,#T_59a86_row11_col8,#T_59a86_row12_col8{\n            text-align:  left;\n            text-align:  left;\n            background-color:  lightgrey;\n        }#T_59a86_row2_col8{\n            text-align:  left;\n            text-align:  left;\n            background-color:  yellow;\n            background-color:  lightgrey;\n        }</style><table id=\"T_59a86_\" ><thead>    <tr>        <th class=\"blank level0\" ></th>        <th class=\"col_heading level0 col0\" >Model</th>        <th class=\"col_heading level0 col1\" >Accuracy</th>        <th class=\"col_heading level0 col2\" >AUC</th>        <th class=\"col_heading level0 col3\" >Recall</th>        <th class=\"col_heading level0 col4\" >Prec.</th>        <th class=\"col_heading level0 col5\" >F1</th>        <th class=\"col_heading level0 col6\" >Kappa</th>        <th class=\"col_heading level0 col7\" >MCC</th>        <th class=\"col_heading level0 col8\" >TT (Sec)</th>    </tr></thead><tbody>\n                <tr>\n                        <th id=\"T_59a86_level0_row0\" class=\"row_heading level0 row0\" >lightgbm</th>\n                        <td id=\"T_59a86_row0_col0\" class=\"data row0 col0\" >Light Gradient Boosting Machine</td>\n                        <td id=\"T_59a86_row0_col1\" class=\"data row0 col1\" >0.7575</td>\n                        <td id=\"T_59a86_row0_col2\" class=\"data row0 col2\" >0.7836</td>\n                        <td id=\"T_59a86_row0_col3\" class=\"data row0 col3\" >0.5423</td>\n                        <td id=\"T_59a86_row0_col4\" class=\"data row0 col4\" >0.7144</td>\n                        <td id=\"T_59a86_row0_col5\" class=\"data row0 col5\" >0.6143</td>\n                        <td id=\"T_59a86_row0_col6\" class=\"data row0 col6\" >0.4417</td>\n                        <td id=\"T_59a86_row0_col7\" class=\"data row0 col7\" >0.4524</td>\n                        <td id=\"T_59a86_row0_col8\" class=\"data row0 col8\" >0.1390</td>\n            </tr>\n            <tr>\n                        <th id=\"T_59a86_level0_row1\" class=\"row_heading level0 row1\" >gbc</th>\n                        <td id=\"T_59a86_row1_col0\" class=\"data row1 col0\" >Gradient Boosting Classifier</td>\n                        <td id=\"T_59a86_row1_col1\" class=\"data row1 col1\" >0.7401</td>\n                        <td id=\"T_59a86_row1_col2\" class=\"data row1 col2\" >0.7706</td>\n                        <td id=\"T_59a86_row1_col3\" class=\"data row1 col3\" >0.5381</td>\n                        <td id=\"T_59a86_row1_col4\" class=\"data row1 col4\" >0.6789</td>\n                        <td id=\"T_59a86_row1_col5\" class=\"data row1 col5\" >0.5963</td>\n                        <td id=\"T_59a86_row1_col6\" class=\"data row1 col6\" >0.4081</td>\n                        <td id=\"T_59a86_row1_col7\" class=\"data row1 col7\" >0.4174</td>\n                        <td id=\"T_59a86_row1_col8\" class=\"data row1 col8\" >0.2740</td>\n            </tr>\n            <tr>\n                        <th id=\"T_59a86_level0_row2\" class=\"row_heading level0 row2\" >ridge</th>\n                        <td id=\"T_59a86_row2_col0\" class=\"data row2 col0\" >Ridge Classifier</td>\n                        <td id=\"T_59a86_row2_col1\" class=\"data row2 col1\" >0.7339</td>\n                        <td id=\"T_59a86_row2_col2\" class=\"data row2 col2\" >0.0000</td>\n                        <td id=\"T_59a86_row2_col3\" class=\"data row2 col3\" >0.4577</td>\n                        <td id=\"T_59a86_row2_col4\" class=\"data row2 col4\" >0.6880</td>\n                        <td id=\"T_59a86_row2_col5\" class=\"data row2 col5\" >0.5467</td>\n                        <td id=\"T_59a86_row2_col6\" class=\"data row2 col6\" >0.3698</td>\n                        <td id=\"T_59a86_row2_col7\" class=\"data row2 col7\" >0.3868</td>\n                        <td id=\"T_59a86_row2_col8\" class=\"data row2 col8\" >0.0040</td>\n            </tr>\n            <tr>\n                        <th id=\"T_59a86_level0_row3\" class=\"row_heading level0 row3\" >rf</th>\n                        <td id=\"T_59a86_row3_col0\" class=\"data row3 col0\" >Random Forest Classifier</td>\n                        <td id=\"T_59a86_row3_col1\" class=\"data row3 col1\" >0.7290</td>\n                        <td id=\"T_59a86_row3_col2\" class=\"data row3 col2\" >0.7606</td>\n                        <td id=\"T_59a86_row3_col3\" class=\"data row3 col3\" >0.4217</td>\n                        <td id=\"T_59a86_row3_col4\" class=\"data row3 col4\" >0.6922</td>\n                        <td id=\"T_59a86_row3_col5\" class=\"data row3 col5\" >0.5213</td>\n                        <td id=\"T_59a86_row3_col6\" class=\"data row3 col6\" >0.3488</td>\n                        <td id=\"T_59a86_row3_col7\" class=\"data row3 col7\" >0.3707</td>\n                        <td id=\"T_59a86_row3_col8\" class=\"data row3 col8\" >0.0650</td>\n            </tr>\n            <tr>\n                        <th id=\"T_59a86_level0_row4\" class=\"row_heading level0 row4\" >lda</th>\n                        <td id=\"T_59a86_row4_col0\" class=\"data row4 col0\" >Linear Discriminant Analysis</td>\n                        <td id=\"T_59a86_row4_col1\" class=\"data row4 col1\" >0.7149</td>\n                        <td id=\"T_59a86_row4_col2\" class=\"data row4 col2\" >0.7377</td>\n                        <td id=\"T_59a86_row4_col3\" class=\"data row4 col3\" >0.5733</td>\n                        <td id=\"T_59a86_row4_col4\" class=\"data row4 col4\" >0.6103</td>\n                        <td id=\"T_59a86_row4_col5\" class=\"data row4 col5\" >0.5833</td>\n                        <td id=\"T_59a86_row4_col6\" class=\"data row4 col6\" >0.3687</td>\n                        <td id=\"T_59a86_row4_col7\" class=\"data row4 col7\" >0.3737</td>\n                        <td id=\"T_59a86_row4_col8\" class=\"data row4 col8\" >0.0070</td>\n            </tr>\n            <tr>\n                        <th id=\"T_59a86_level0_row5\" class=\"row_heading level0 row5\" >et</th>\n                        <td id=\"T_59a86_row5_col0\" class=\"data row5 col0\" >Extra Trees Classifier</td>\n                        <td id=\"T_59a86_row5_col1\" class=\"data row5 col1\" >0.7147</td>\n                        <td id=\"T_59a86_row5_col2\" class=\"data row5 col2\" >0.7635</td>\n                        <td id=\"T_59a86_row5_col3\" class=\"data row5 col3\" >0.3589</td>\n                        <td id=\"T_59a86_row5_col4\" class=\"data row5 col4\" >0.6826</td>\n                        <td id=\"T_59a86_row5_col5\" class=\"data row5 col5\" >0.4650</td>\n                        <td id=\"T_59a86_row5_col6\" class=\"data row5 col6\" >0.2988</td>\n                        <td id=\"T_59a86_row5_col7\" class=\"data row5 col7\" >0.3288</td>\n                        <td id=\"T_59a86_row5_col8\" class=\"data row5 col8\" >0.0400</td>\n            </tr>\n            <tr>\n                        <th id=\"T_59a86_level0_row6\" class=\"row_heading level0 row6\" >ada</th>\n                        <td id=\"T_59a86_row6_col0\" class=\"data row6 col0\" >Ada Boost Classifier</td>\n                        <td id=\"T_59a86_row6_col1\" class=\"data row6 col1\" >0.7099</td>\n                        <td id=\"T_59a86_row6_col2\" class=\"data row6 col2\" >0.7504</td>\n                        <td id=\"T_59a86_row6_col3\" class=\"data row6 col3\" >0.5874</td>\n                        <td id=\"T_59a86_row6_col4\" class=\"data row6 col4\" >0.5932</td>\n                        <td id=\"T_59a86_row6_col5\" class=\"data row6 col5\" >0.5892</td>\n                        <td id=\"T_59a86_row6_col6\" class=\"data row6 col6\" >0.3653</td>\n                        <td id=\"T_59a86_row6_col7\" class=\"data row6 col7\" >0.3660</td>\n                        <td id=\"T_59a86_row6_col8\" class=\"data row6 col8\" >0.0650</td>\n            </tr>\n            <tr>\n                        <th id=\"T_59a86_level0_row7\" class=\"row_heading level0 row7\" >nb</th>\n                        <td id=\"T_59a86_row7_col0\" class=\"data row7 col0\" >Naive Bayes</td>\n                        <td id=\"T_59a86_row7_col1\" class=\"data row7 col1\" >0.7084</td>\n                        <td id=\"T_59a86_row7_col2\" class=\"data row7 col2\" >0.7611</td>\n                        <td id=\"T_59a86_row7_col3\" class=\"data row7 col3\" >0.6955</td>\n                        <td id=\"T_59a86_row7_col4\" class=\"data row7 col4\" >0.5769</td>\n                        <td id=\"T_59a86_row7_col5\" class=\"data row7 col5\" >0.6287</td>\n                        <td id=\"T_59a86_row7_col6\" class=\"data row7 col6\" >0.3932</td>\n                        <td id=\"T_59a86_row7_col7\" class=\"data row7 col7\" >0.3993</td>\n                        <td id=\"T_59a86_row7_col8\" class=\"data row7 col8\" >0.0050</td>\n            </tr>\n            <tr>\n                        <th id=\"T_59a86_level0_row8\" class=\"row_heading level0 row8\" >knn</th>\n                        <td id=\"T_59a86_row8_col0\" class=\"data row8 col0\" >K Neighbors Classifier</td>\n                        <td id=\"T_59a86_row8_col1\" class=\"data row8 col1\" >0.7036</td>\n                        <td id=\"T_59a86_row8_col2\" class=\"data row8 col2\" >0.7272</td>\n                        <td id=\"T_59a86_row8_col3\" class=\"data row8 col3\" >0.5326</td>\n                        <td id=\"T_59a86_row8_col4\" class=\"data row8 col4\" >0.5874</td>\n                        <td id=\"T_59a86_row8_col5\" class=\"data row8 col5\" >0.5540</td>\n                        <td id=\"T_59a86_row8_col6\" class=\"data row8 col6\" >0.3343</td>\n                        <td id=\"T_59a86_row8_col7\" class=\"data row8 col7\" >0.3382</td>\n                        <td id=\"T_59a86_row8_col8\" class=\"data row8 col8\" >0.1080</td>\n            </tr>\n            <tr>\n                        <th id=\"T_59a86_level0_row9\" class=\"row_heading level0 row9\" >lr</th>\n                        <td id=\"T_59a86_row9_col0\" class=\"data row9 col0\" >Logistic Regression</td>\n                        <td id=\"T_59a86_row9_col1\" class=\"data row9 col1\" >0.7005</td>\n                        <td id=\"T_59a86_row9_col2\" class=\"data row9 col2\" >0.7649</td>\n                        <td id=\"T_59a86_row9_col3\" class=\"data row9 col3\" >0.2198</td>\n                        <td id=\"T_59a86_row9_col4\" class=\"data row9 col4\" >0.8159</td>\n                        <td id=\"T_59a86_row9_col5\" class=\"data row9 col5\" >0.3397</td>\n                        <td id=\"T_59a86_row9_col6\" class=\"data row9 col6\" >0.2185</td>\n                        <td id=\"T_59a86_row9_col7\" class=\"data row9 col7\" >0.3013</td>\n                        <td id=\"T_59a86_row9_col8\" class=\"data row9 col8\" >0.1610</td>\n            </tr>\n            <tr>\n                        <th id=\"T_59a86_level0_row10\" class=\"row_heading level0 row10\" >svm</th>\n                        <td id=\"T_59a86_row10_col0\" class=\"data row10 col0\" >SVM - Linear Kernel</td>\n                        <td id=\"T_59a86_row10_col1\" class=\"data row10 col1\" >0.6734</td>\n                        <td id=\"T_59a86_row10_col2\" class=\"data row10 col2\" >0.0000</td>\n                        <td id=\"T_59a86_row10_col3\" class=\"data row10 col3\" >0.6219</td>\n                        <td id=\"T_59a86_row10_col4\" class=\"data row10 col4\" >0.6082</td>\n                        <td id=\"T_59a86_row10_col5\" class=\"data row10 col5\" >0.5493</td>\n                        <td id=\"T_59a86_row10_col6\" class=\"data row10 col6\" >0.3102</td>\n                        <td id=\"T_59a86_row10_col7\" class=\"data row10 col7\" >0.3568</td>\n                        <td id=\"T_59a86_row10_col8\" class=\"data row10 col8\" >0.0060</td>\n            </tr>\n            <tr>\n                        <th id=\"T_59a86_level0_row11\" class=\"row_heading level0 row11\" >qda</th>\n                        <td id=\"T_59a86_row11_col0\" class=\"data row11 col0\" >Quadratic Discriminant Analysis</td>\n                        <td id=\"T_59a86_row11_col1\" class=\"data row11 col1\" >0.6466</td>\n                        <td id=\"T_59a86_row11_col2\" class=\"data row11 col2\" >0.5023</td>\n                        <td id=\"T_59a86_row11_col3\" class=\"data row11 col3\" >0.0000</td>\n                        <td id=\"T_59a86_row11_col4\" class=\"data row11 col4\" >0.0000</td>\n                        <td id=\"T_59a86_row11_col5\" class=\"data row11 col5\" >0.0000</td>\n                        <td id=\"T_59a86_row11_col6\" class=\"data row11 col6\" >0.0000</td>\n                        <td id=\"T_59a86_row11_col7\" class=\"data row11 col7\" >0.0000</td>\n                        <td id=\"T_59a86_row11_col8\" class=\"data row11 col8\" >0.0070</td>\n            </tr>\n            <tr>\n                        <th id=\"T_59a86_level0_row12\" class=\"row_heading level0 row12\" >dt</th>\n                        <td id=\"T_59a86_row12_col0\" class=\"data row12 col0\" >Decision Tree Classifier</td>\n                        <td id=\"T_59a86_row12_col1\" class=\"data row12 col1\" >0.6181</td>\n                        <td id=\"T_59a86_row12_col2\" class=\"data row12 col2\" >0.5880</td>\n                        <td id=\"T_59a86_row12_col3\" class=\"data row12 col3\" >0.4848</td>\n                        <td id=\"T_59a86_row12_col4\" class=\"data row12 col4\" >0.4623</td>\n                        <td id=\"T_59a86_row12_col5\" class=\"data row12 col5\" >0.4710</td>\n                        <td id=\"T_59a86_row12_col6\" class=\"data row12 col6\" >0.1736</td>\n                        <td id=\"T_59a86_row12_col7\" class=\"data row12 col7\" >0.1748</td>\n                        <td id=\"T_59a86_row12_col8\" class=\"data row12 col8\" >0.0120</td>\n            </tr>\n    </tbody></table>"
     },
     "metadata": {},
     "output_type": "display_data"
    }
   ],
   "source": [
    "best_model = compare_models()\n"
   ],
   "metadata": {
    "collapsed": false,
    "pycharm": {
     "name": "#%%\n"
    }
   }
  },
  {
   "cell_type": "markdown",
   "source": [
    "## Display best model config"
   ],
   "metadata": {
    "collapsed": false,
    "pycharm": {
     "name": "#%% md\n"
    }
   }
  },
  {
   "cell_type": "code",
   "execution_count": 61,
   "outputs": [
    {
     "name": "stdout",
     "output_type": "stream",
     "text": [
      "LGBMClassifier(boosting_type='gbdt', class_weight=None, colsample_bytree=1.0,\n",
      "               importance_type='split', learning_rate=0.1, max_depth=-1,\n",
      "               min_child_samples=20, min_child_weight=0.001, min_split_gain=0.0,\n",
      "               n_estimators=100, n_jobs=-1, num_leaves=31, objective=None,\n",
      "               random_state=123, reg_alpha=0.0, reg_lambda=0.0, silent=True,\n",
      "               subsample=1.0, subsample_for_bin=200000, subsample_freq=0)\n"
     ]
    }
   ],
   "source": [
    "print(best_model)"
   ],
   "metadata": {
    "collapsed": false,
    "pycharm": {
     "name": "#%%\n"
    }
   }
  },
  {
   "cell_type": "markdown",
   "source": [
    "## Create model by best_model name"
   ],
   "metadata": {
    "collapsed": false,
    "pycharm": {
     "name": "#%% md\n"
    }
   }
  },
  {
   "cell_type": "code",
   "execution_count": 62,
   "outputs": [
    {
     "data": {
      "text/plain": "<pandas.io.formats.style.Styler at 0x7f0b9d98dc10>",
      "text/html": "<style  type=\"text/css\" >\n#T_6ad23_row10_col0,#T_6ad23_row10_col1,#T_6ad23_row10_col2,#T_6ad23_row10_col3,#T_6ad23_row10_col4,#T_6ad23_row10_col5,#T_6ad23_row10_col6{\n            background:  yellow;\n        }</style><table id=\"T_6ad23_\" ><thead>    <tr>        <th class=\"blank level0\" ></th>        <th class=\"col_heading level0 col0\" >Accuracy</th>        <th class=\"col_heading level0 col1\" >AUC</th>        <th class=\"col_heading level0 col2\" >Recall</th>        <th class=\"col_heading level0 col3\" >Prec.</th>        <th class=\"col_heading level0 col4\" >F1</th>        <th class=\"col_heading level0 col5\" >Kappa</th>        <th class=\"col_heading level0 col6\" >MCC</th>    </tr></thead><tbody>\n                <tr>\n                        <th id=\"T_6ad23_level0_row0\" class=\"row_heading level0 row0\" >0</th>\n                        <td id=\"T_6ad23_row0_col0\" class=\"data row0 col0\" >0.7656</td>\n                        <td id=\"T_6ad23_row0_col1\" class=\"data row0 col1\" >0.8324</td>\n                        <td id=\"T_6ad23_row0_col2\" class=\"data row0 col2\" >0.6087</td>\n                        <td id=\"T_6ad23_row0_col3\" class=\"data row0 col3\" >0.7000</td>\n                        <td id=\"T_6ad23_row0_col4\" class=\"data row0 col4\" >0.6512</td>\n                        <td id=\"T_6ad23_row0_col5\" class=\"data row0 col5\" >0.4760</td>\n                        <td id=\"T_6ad23_row0_col6\" class=\"data row0 col6\" >0.4786</td>\n            </tr>\n            <tr>\n                        <th id=\"T_6ad23_level0_row1\" class=\"row_heading level0 row1\" >1</th>\n                        <td id=\"T_6ad23_row1_col0\" class=\"data row1 col0\" >0.7619</td>\n                        <td id=\"T_6ad23_row1_col1\" class=\"data row1 col1\" >0.7417</td>\n                        <td id=\"T_6ad23_row1_col2\" class=\"data row1 col2\" >0.5455</td>\n                        <td id=\"T_6ad23_row1_col3\" class=\"data row1 col3\" >0.7059</td>\n                        <td id=\"T_6ad23_row1_col4\" class=\"data row1 col4\" >0.6154</td>\n                        <td id=\"T_6ad23_row1_col5\" class=\"data row1 col5\" >0.4470</td>\n                        <td id=\"T_6ad23_row1_col6\" class=\"data row1 col6\" >0.4548</td>\n            </tr>\n            <tr>\n                        <th id=\"T_6ad23_level0_row2\" class=\"row_heading level0 row2\" >2</th>\n                        <td id=\"T_6ad23_row2_col0\" class=\"data row2 col0\" >0.7778</td>\n                        <td id=\"T_6ad23_row2_col1\" class=\"data row2 col1\" >0.7827</td>\n                        <td id=\"T_6ad23_row2_col2\" class=\"data row2 col2\" >0.5909</td>\n                        <td id=\"T_6ad23_row2_col3\" class=\"data row2 col3\" >0.7222</td>\n                        <td id=\"T_6ad23_row2_col4\" class=\"data row2 col4\" >0.6500</td>\n                        <td id=\"T_6ad23_row2_col5\" class=\"data row2 col5\" >0.4896</td>\n                        <td id=\"T_6ad23_row2_col6\" class=\"data row2 col6\" >0.4949</td>\n            </tr>\n            <tr>\n                        <th id=\"T_6ad23_level0_row3\" class=\"row_heading level0 row3\" >3</th>\n                        <td id=\"T_6ad23_row3_col0\" class=\"data row3 col0\" >0.8095</td>\n                        <td id=\"T_6ad23_row3_col1\" class=\"data row3 col1\" >0.7528</td>\n                        <td id=\"T_6ad23_row3_col2\" class=\"data row3 col2\" >0.5909</td>\n                        <td id=\"T_6ad23_row3_col3\" class=\"data row3 col3\" >0.8125</td>\n                        <td id=\"T_6ad23_row3_col4\" class=\"data row3 col4\" >0.6842</td>\n                        <td id=\"T_6ad23_row3_col5\" class=\"data row3 col5\" >0.5527</td>\n                        <td id=\"T_6ad23_row3_col6\" class=\"data row3 col6\" >0.5670</td>\n            </tr>\n            <tr>\n                        <th id=\"T_6ad23_level0_row4\" class=\"row_heading level0 row4\" >4</th>\n                        <td id=\"T_6ad23_row4_col0\" class=\"data row4 col0\" >0.7619</td>\n                        <td id=\"T_6ad23_row4_col1\" class=\"data row4 col1\" >0.8215</td>\n                        <td id=\"T_6ad23_row4_col2\" class=\"data row4 col2\" >0.5000</td>\n                        <td id=\"T_6ad23_row4_col3\" class=\"data row4 col3\" >0.7333</td>\n                        <td id=\"T_6ad23_row4_col4\" class=\"data row4 col4\" >0.5946</td>\n                        <td id=\"T_6ad23_row4_col5\" class=\"data row4 col5\" >0.4345</td>\n                        <td id=\"T_6ad23_row4_col6\" class=\"data row4 col6\" >0.4504</td>\n            </tr>\n            <tr>\n                        <th id=\"T_6ad23_level0_row5\" class=\"row_heading level0 row5\" >5</th>\n                        <td id=\"T_6ad23_row5_col0\" class=\"data row5 col0\" >0.7778</td>\n                        <td id=\"T_6ad23_row5_col1\" class=\"data row5 col1\" >0.8681</td>\n                        <td id=\"T_6ad23_row5_col2\" class=\"data row5 col2\" >0.5455</td>\n                        <td id=\"T_6ad23_row5_col3\" class=\"data row5 col3\" >0.7500</td>\n                        <td id=\"T_6ad23_row5_col4\" class=\"data row5 col4\" >0.6316</td>\n                        <td id=\"T_6ad23_row5_col5\" class=\"data row5 col5\" >0.4781</td>\n                        <td id=\"T_6ad23_row5_col6\" class=\"data row5 col6\" >0.4905</td>\n            </tr>\n            <tr>\n                        <th id=\"T_6ad23_level0_row6\" class=\"row_heading level0 row6\" >6</th>\n                        <td id=\"T_6ad23_row6_col0\" class=\"data row6 col0\" >0.7937</td>\n                        <td id=\"T_6ad23_row6_col1\" class=\"data row6 col1\" >0.8758</td>\n                        <td id=\"T_6ad23_row6_col2\" class=\"data row6 col2\" >0.5000</td>\n                        <td id=\"T_6ad23_row6_col3\" class=\"data row6 col3\" >0.8462</td>\n                        <td id=\"T_6ad23_row6_col4\" class=\"data row6 col4\" >0.6286</td>\n                        <td id=\"T_6ad23_row6_col5\" class=\"data row6 col5\" >0.4985</td>\n                        <td id=\"T_6ad23_row6_col6\" class=\"data row6 col6\" >0.5315</td>\n            </tr>\n            <tr>\n                        <th id=\"T_6ad23_level0_row7\" class=\"row_heading level0 row7\" >7</th>\n                        <td id=\"T_6ad23_row7_col0\" class=\"data row7 col0\" >0.6667</td>\n                        <td id=\"T_6ad23_row7_col1\" class=\"data row7 col1\" >0.6164</td>\n                        <td id=\"T_6ad23_row7_col2\" class=\"data row7 col2\" >0.4545</td>\n                        <td id=\"T_6ad23_row7_col3\" class=\"data row7 col3\" >0.5263</td>\n                        <td id=\"T_6ad23_row7_col4\" class=\"data row7 col4\" >0.4878</td>\n                        <td id=\"T_6ad23_row7_col5\" class=\"data row7 col5\" >0.2427</td>\n                        <td id=\"T_6ad23_row7_col6\" class=\"data row7 col6\" >0.2441</td>\n            </tr>\n            <tr>\n                        <th id=\"T_6ad23_level0_row8\" class=\"row_heading level0 row8\" >8</th>\n                        <td id=\"T_6ad23_row8_col0\" class=\"data row8 col0\" >0.6508</td>\n                        <td id=\"T_6ad23_row8_col1\" class=\"data row8 col1\" >0.6793</td>\n                        <td id=\"T_6ad23_row8_col2\" class=\"data row8 col2\" >0.4783</td>\n                        <td id=\"T_6ad23_row8_col3\" class=\"data row8 col3\" >0.5238</td>\n                        <td id=\"T_6ad23_row8_col4\" class=\"data row8 col4\" >0.5000</td>\n                        <td id=\"T_6ad23_row8_col5\" class=\"data row8 col5\" >0.2326</td>\n                        <td id=\"T_6ad23_row8_col6\" class=\"data row8 col6\" >0.2331</td>\n            </tr>\n            <tr>\n                        <th id=\"T_6ad23_level0_row9\" class=\"row_heading level0 row9\" >9</th>\n                        <td id=\"T_6ad23_row9_col0\" class=\"data row9 col0\" >0.8095</td>\n                        <td id=\"T_6ad23_row9_col1\" class=\"data row9 col1\" >0.8652</td>\n                        <td id=\"T_6ad23_row9_col2\" class=\"data row9 col2\" >0.6087</td>\n                        <td id=\"T_6ad23_row9_col3\" class=\"data row9 col3\" >0.8235</td>\n                        <td id=\"T_6ad23_row9_col4\" class=\"data row9 col4\" >0.7000</td>\n                        <td id=\"T_6ad23_row9_col5\" class=\"data row9 col5\" >0.5650</td>\n                        <td id=\"T_6ad23_row9_col6\" class=\"data row9 col6\" >0.5789</td>\n            </tr>\n            <tr>\n                        <th id=\"T_6ad23_level0_row10\" class=\"row_heading level0 row10\" >Mean</th>\n                        <td id=\"T_6ad23_row10_col0\" class=\"data row10 col0\" >0.7575</td>\n                        <td id=\"T_6ad23_row10_col1\" class=\"data row10 col1\" >0.7836</td>\n                        <td id=\"T_6ad23_row10_col2\" class=\"data row10 col2\" >0.5423</td>\n                        <td id=\"T_6ad23_row10_col3\" class=\"data row10 col3\" >0.7144</td>\n                        <td id=\"T_6ad23_row10_col4\" class=\"data row10 col4\" >0.6143</td>\n                        <td id=\"T_6ad23_row10_col5\" class=\"data row10 col5\" >0.4417</td>\n                        <td id=\"T_6ad23_row10_col6\" class=\"data row10 col6\" >0.4524</td>\n            </tr>\n            <tr>\n                        <th id=\"T_6ad23_level0_row11\" class=\"row_heading level0 row11\" >SD</th>\n                        <td id=\"T_6ad23_row11_col0\" class=\"data row11 col0\" >0.0522</td>\n                        <td id=\"T_6ad23_row11_col1\" class=\"data row11 col1\" >0.0823</td>\n                        <td id=\"T_6ad23_row11_col2\" class=\"data row11 col2\" >0.0538</td>\n                        <td id=\"T_6ad23_row11_col3\" class=\"data row11 col3\" >0.1061</td>\n                        <td id=\"T_6ad23_row11_col4\" class=\"data row11 col4\" >0.0669</td>\n                        <td id=\"T_6ad23_row11_col5\" class=\"data row11 col5\" >0.1091</td>\n                        <td id=\"T_6ad23_row11_col6\" class=\"data row11 col6\" >0.1144</td>\n            </tr>\n    </tbody></table>"
     },
     "metadata": {},
     "output_type": "display_data"
    }
   ],
   "source": [
    "lightgbm = create_model('lightgbm')"
   ],
   "metadata": {
    "collapsed": false,
    "pycharm": {
     "name": "#%%\n"
    }
   }
  },
  {
   "cell_type": "markdown",
   "source": [
    "## Tune the selected model"
   ],
   "metadata": {
    "collapsed": false,
    "pycharm": {
     "name": "#%% md\n"
    }
   }
  },
  {
   "cell_type": "code",
   "execution_count": 70,
   "outputs": [
    {
     "data": {
      "text/plain": "<pandas.io.formats.style.Styler at 0x7f0b9d53f0a0>",
      "text/html": "<style  type=\"text/css\" >\n#T_a90c8_row10_col0,#T_a90c8_row10_col1,#T_a90c8_row10_col2,#T_a90c8_row10_col3,#T_a90c8_row10_col4,#T_a90c8_row10_col5,#T_a90c8_row10_col6{\n            background:  yellow;\n        }</style><table id=\"T_a90c8_\" ><thead>    <tr>        <th class=\"blank level0\" ></th>        <th class=\"col_heading level0 col0\" >Accuracy</th>        <th class=\"col_heading level0 col1\" >AUC</th>        <th class=\"col_heading level0 col2\" >Recall</th>        <th class=\"col_heading level0 col3\" >Prec.</th>        <th class=\"col_heading level0 col4\" >F1</th>        <th class=\"col_heading level0 col5\" >Kappa</th>        <th class=\"col_heading level0 col6\" >MCC</th>    </tr></thead><tbody>\n                <tr>\n                        <th id=\"T_a90c8_level0_row0\" class=\"row_heading level0 row0\" >0</th>\n                        <td id=\"T_a90c8_row0_col0\" class=\"data row0 col0\" >0.7812</td>\n                        <td id=\"T_a90c8_row0_col1\" class=\"data row0 col1\" >0.8112</td>\n                        <td id=\"T_a90c8_row0_col2\" class=\"data row0 col2\" >0.5652</td>\n                        <td id=\"T_a90c8_row0_col3\" class=\"data row0 col3\" >0.7647</td>\n                        <td id=\"T_a90c8_row0_col4\" class=\"data row0 col4\" >0.6500</td>\n                        <td id=\"T_a90c8_row0_col5\" class=\"data row0 col5\" >0.4961</td>\n                        <td id=\"T_a90c8_row0_col6\" class=\"data row0 col6\" >0.5081</td>\n            </tr>\n            <tr>\n                        <th id=\"T_a90c8_level0_row1\" class=\"row_heading level0 row1\" >1</th>\n                        <td id=\"T_a90c8_row1_col0\" class=\"data row1 col0\" >0.7143</td>\n                        <td id=\"T_a90c8_row1_col1\" class=\"data row1 col1\" >0.7406</td>\n                        <td id=\"T_a90c8_row1_col2\" class=\"data row1 col2\" >0.5000</td>\n                        <td id=\"T_a90c8_row1_col3\" class=\"data row1 col3\" >0.6111</td>\n                        <td id=\"T_a90c8_row1_col4\" class=\"data row1 col4\" >0.5500</td>\n                        <td id=\"T_a90c8_row1_col5\" class=\"data row1 col5\" >0.3438</td>\n                        <td id=\"T_a90c8_row1_col6\" class=\"data row1 col6\" >0.3475</td>\n            </tr>\n            <tr>\n                        <th id=\"T_a90c8_level0_row2\" class=\"row_heading level0 row2\" >2</th>\n                        <td id=\"T_a90c8_row2_col0\" class=\"data row2 col0\" >0.7460</td>\n                        <td id=\"T_a90c8_row2_col1\" class=\"data row2 col1\" >0.7705</td>\n                        <td id=\"T_a90c8_row2_col2\" class=\"data row2 col2\" >0.5455</td>\n                        <td id=\"T_a90c8_row2_col3\" class=\"data row2 col3\" >0.6667</td>\n                        <td id=\"T_a90c8_row2_col4\" class=\"data row2 col4\" >0.6000</td>\n                        <td id=\"T_a90c8_row2_col5\" class=\"data row2 col5\" >0.4167</td>\n                        <td id=\"T_a90c8_row2_col6\" class=\"data row2 col6\" >0.4212</td>\n            </tr>\n            <tr>\n                        <th id=\"T_a90c8_level0_row3\" class=\"row_heading level0 row3\" >3</th>\n                        <td id=\"T_a90c8_row3_col0\" class=\"data row3 col0\" >0.7302</td>\n                        <td id=\"T_a90c8_row3_col1\" class=\"data row3 col1\" >0.7007</td>\n                        <td id=\"T_a90c8_row3_col2\" class=\"data row3 col2\" >0.4091</td>\n                        <td id=\"T_a90c8_row3_col3\" class=\"data row3 col3\" >0.6923</td>\n                        <td id=\"T_a90c8_row3_col4\" class=\"data row3 col4\" >0.5143</td>\n                        <td id=\"T_a90c8_row3_col5\" class=\"data row3 col5\" >0.3442</td>\n                        <td id=\"T_a90c8_row3_col6\" class=\"data row3 col6\" >0.3670</td>\n            </tr>\n            <tr>\n                        <th id=\"T_a90c8_level0_row4\" class=\"row_heading level0 row4\" >4</th>\n                        <td id=\"T_a90c8_row4_col0\" class=\"data row4 col0\" >0.7937</td>\n                        <td id=\"T_a90c8_row4_col1\" class=\"data row4 col1\" >0.8049</td>\n                        <td id=\"T_a90c8_row4_col2\" class=\"data row4 col2\" >0.6364</td>\n                        <td id=\"T_a90c8_row4_col3\" class=\"data row4 col3\" >0.7368</td>\n                        <td id=\"T_a90c8_row4_col4\" class=\"data row4 col4\" >0.6829</td>\n                        <td id=\"T_a90c8_row4_col5\" class=\"data row4 col5\" >0.5312</td>\n                        <td id=\"T_a90c8_row4_col6\" class=\"data row4 col6\" >0.5343</td>\n            </tr>\n            <tr>\n                        <th id=\"T_a90c8_level0_row5\" class=\"row_heading level0 row5\" >5</th>\n                        <td id=\"T_a90c8_row5_col0\" class=\"data row5 col0\" >0.7460</td>\n                        <td id=\"T_a90c8_row5_col1\" class=\"data row5 col1\" >0.8437</td>\n                        <td id=\"T_a90c8_row5_col2\" class=\"data row5 col2\" >0.4545</td>\n                        <td id=\"T_a90c8_row5_col3\" class=\"data row5 col3\" >0.7143</td>\n                        <td id=\"T_a90c8_row5_col4\" class=\"data row5 col4\" >0.5556</td>\n                        <td id=\"T_a90c8_row5_col5\" class=\"data row5 col5\" >0.3898</td>\n                        <td id=\"T_a90c8_row5_col6\" class=\"data row5 col6\" >0.4093</td>\n            </tr>\n            <tr>\n                        <th id=\"T_a90c8_level0_row6\" class=\"row_heading level0 row6\" >6</th>\n                        <td id=\"T_a90c8_row6_col0\" class=\"data row6 col0\" >0.7937</td>\n                        <td id=\"T_a90c8_row6_col1\" class=\"data row6 col1\" >0.8647</td>\n                        <td id=\"T_a90c8_row6_col2\" class=\"data row6 col2\" >0.5909</td>\n                        <td id=\"T_a90c8_row6_col3\" class=\"data row6 col3\" >0.7647</td>\n                        <td id=\"T_a90c8_row6_col4\" class=\"data row6 col4\" >0.6667</td>\n                        <td id=\"T_a90c8_row6_col5\" class=\"data row6 col5\" >0.5208</td>\n                        <td id=\"T_a90c8_row6_col6\" class=\"data row6 col6\" >0.5299</td>\n            </tr>\n            <tr>\n                        <th id=\"T_a90c8_level0_row7\" class=\"row_heading level0 row7\" >7</th>\n                        <td id=\"T_a90c8_row7_col0\" class=\"data row7 col0\" >0.7302</td>\n                        <td id=\"T_a90c8_row7_col1\" class=\"data row7 col1\" >0.6585</td>\n                        <td id=\"T_a90c8_row7_col2\" class=\"data row7 col2\" >0.5909</td>\n                        <td id=\"T_a90c8_row7_col3\" class=\"data row7 col3\" >0.6190</td>\n                        <td id=\"T_a90c8_row7_col4\" class=\"data row7 col4\" >0.6047</td>\n                        <td id=\"T_a90c8_row7_col5\" class=\"data row7 col5\" >0.4000</td>\n                        <td id=\"T_a90c8_row7_col6\" class=\"data row7 col6\" >0.4002</td>\n            </tr>\n            <tr>\n                        <th id=\"T_a90c8_level0_row8\" class=\"row_heading level0 row8\" >8</th>\n                        <td id=\"T_a90c8_row8_col0\" class=\"data row8 col0\" >0.6349</td>\n                        <td id=\"T_a90c8_row8_col1\" class=\"data row8 col1\" >0.6707</td>\n                        <td id=\"T_a90c8_row8_col2\" class=\"data row8 col2\" >0.4783</td>\n                        <td id=\"T_a90c8_row8_col3\" class=\"data row8 col3\" >0.5000</td>\n                        <td id=\"T_a90c8_row8_col4\" class=\"data row8 col4\" >0.4889</td>\n                        <td id=\"T_a90c8_row8_col5\" class=\"data row8 col5\" >0.2052</td>\n                        <td id=\"T_a90c8_row8_col6\" class=\"data row8 col6\" >0.2053</td>\n            </tr>\n            <tr>\n                        <th id=\"T_a90c8_level0_row9\" class=\"row_heading level0 row9\" >9</th>\n                        <td id=\"T_a90c8_row9_col0\" class=\"data row9 col0\" >0.7778</td>\n                        <td id=\"T_a90c8_row9_col1\" class=\"data row9 col1\" >0.8054</td>\n                        <td id=\"T_a90c8_row9_col2\" class=\"data row9 col2\" >0.5652</td>\n                        <td id=\"T_a90c8_row9_col3\" class=\"data row9 col3\" >0.7647</td>\n                        <td id=\"T_a90c8_row9_col4\" class=\"data row9 col4\" >0.6500</td>\n                        <td id=\"T_a90c8_row9_col5\" class=\"data row9 col5\" >0.4925</td>\n                        <td id=\"T_a90c8_row9_col6\" class=\"data row9 col6\" >0.5046</td>\n            </tr>\n            <tr>\n                        <th id=\"T_a90c8_level0_row10\" class=\"row_heading level0 row10\" >Mean</th>\n                        <td id=\"T_a90c8_row10_col0\" class=\"data row10 col0\" >0.7448</td>\n                        <td id=\"T_a90c8_row10_col1\" class=\"data row10 col1\" >0.7671</td>\n                        <td id=\"T_a90c8_row10_col2\" class=\"data row10 col2\" >0.5336</td>\n                        <td id=\"T_a90c8_row10_col3\" class=\"data row10 col3\" >0.6834</td>\n                        <td id=\"T_a90c8_row10_col4\" class=\"data row10 col4\" >0.5963</td>\n                        <td id=\"T_a90c8_row10_col5\" class=\"data row10 col5\" >0.4140</td>\n                        <td id=\"T_a90c8_row10_col6\" class=\"data row10 col6\" >0.4227</td>\n            </tr>\n            <tr>\n                        <th id=\"T_a90c8_level0_row11\" class=\"row_heading level0 row11\" >SD</th>\n                        <td id=\"T_a90c8_row11_col0\" class=\"data row11 col0\" >0.0454</td>\n                        <td id=\"T_a90c8_row11_col1\" class=\"data row11 col1\" >0.0682</td>\n                        <td id=\"T_a90c8_row11_col2\" class=\"data row11 col2\" >0.0672</td>\n                        <td id=\"T_a90c8_row11_col3\" class=\"data row11 col3\" >0.0819</td>\n                        <td id=\"T_a90c8_row11_col4\" class=\"data row11 col4\" >0.0635</td>\n                        <td id=\"T_a90c8_row11_col5\" class=\"data row11 col5\" >0.0960</td>\n                        <td id=\"T_a90c8_row11_col6\" class=\"data row11 col6\" >0.0973</td>\n            </tr>\n    </tbody></table>"
     },
     "metadata": {},
     "output_type": "display_data"
    }
   ],
   "source": [
    "tuned_lightgbm = tune_model(best_model)"
   ],
   "metadata": {
    "collapsed": false,
    "pycharm": {
     "name": "#%%\n"
    }
   }
  },
  {
   "cell_type": "markdown",
   "source": [
    "## Display confusion matrix for tuned model"
   ],
   "metadata": {
    "collapsed": false,
    "pycharm": {
     "name": "#%% md\n"
    }
   }
  },
  {
   "cell_type": "code",
   "execution_count": 71,
   "outputs": [
    {
     "data": {
      "text/plain": "<Figure size 576x396 with 1 Axes>",
      "image/png": "[encoded data removed]"
     },
     "metadata": {},
     "output_type": "display_data"
    }
   ],
   "source": [
    "plot_model(tuned_lightgbm, plot = 'confusion_matrix')"
   ],
   "metadata": {
    "collapsed": false,
    "pycharm": {
     "name": "#%%\n"
    }
   }
  },
  {
   "cell_type": "markdown",
   "source": [
    "## Finalize selected model"
   ],
   "metadata": {
    "collapsed": false,
    "pycharm": {
     "name": "#%% md\n"
    }
   }
  },
  {
   "cell_type": "code",
   "execution_count": 65,
   "outputs": [],
   "source": [
    "final_lightgbm = finalize_model(tuned_lightgbm)"
   ],
   "metadata": {
    "collapsed": false,
    "pycharm": {
     "name": "#%%\n"
    }
   }
  },
  {
   "cell_type": "markdown",
   "source": [
    "## Predict with test_data"
   ],
   "metadata": {
    "collapsed": false,
    "pycharm": {
     "name": "#%% md\n"
    }
   }
  },
  {
   "cell_type": "code",
   "execution_count": 66,
   "outputs": [
    {
     "data": {
      "text/plain": "          0         1         2         3         4         5         6  \\\n0  0.093630  0.080533 -0.012007  0.006595 -0.105211  0.168381  0.011074   \n1  0.032975  0.076163  0.008268  0.034589 -0.059776  0.113442 -0.003348   \n2  0.005507  0.039720  0.031400  0.056476 -0.037889  0.082262 -0.001815   \n3  0.024744  0.070013  0.004319  0.038918 -0.013805  0.119969 -0.012189   \n4  0.024454  0.067737  0.035270  0.042665 -0.087353  0.128697 -0.004872   \n\n          7         8         9  ...       193       194       195       196  \\\n0 -0.295649  0.094092 -0.026169  ... -0.015453  0.096660 -0.008676 -0.025743   \n1 -0.266979  0.076205 -0.003748  ... -0.045620  0.108454 -0.000835 -0.071349   \n2 -0.288269  0.070536  0.036158  ... -0.034709  0.137928 -0.013249 -0.073035   \n3 -0.288481  0.044286 -0.018195  ... -0.050423  0.041680 -0.009116 -0.067431   \n4 -0.301289  0.087328  0.014337  ... -0.059373  0.060570  0.003512 -0.072368   \n\n        197       198       199  200  Label   Score  \n0 -0.126346  0.100612  0.076976    0      0  0.8179  \n1 -0.088752  0.035207  0.090321    0      0  0.9686  \n2 -0.070765  0.020256  0.089895    1      0  0.5749  \n3 -0.059024  0.055563  0.123329    1      1  0.5187  \n4 -0.051577  0.004917  0.100167    0      0  0.9369  \n\n[5 rows x 203 columns]",
      "text/html": "<div>\n<style scoped>\n    .dataframe tbody tr th:only-of-type {\n        vertical-align: middle;\n    }\n\n    .dataframe tbody tr th {\n        vertical-align: top;\n    }\n\n    .dataframe thead th {\n        text-align: right;\n    }\n</style>\n<table border=\"1\" class=\"dataframe\">\n  <thead>\n    <tr style=\"text-align: right;\">\n      <th></th>\n      <th>0</th>\n      <th>1</th>\n      <th>2</th>\n      <th>3</th>\n      <th>4</th>\n      <th>5</th>\n      <th>6</th>\n      <th>7</th>\n      <th>8</th>\n      <th>9</th>\n      <th>...</th>\n      <th>193</th>\n      <th>194</th>\n      <th>195</th>\n      <th>196</th>\n      <th>197</th>\n      <th>198</th>\n      <th>199</th>\n      <th>200</th>\n      <th>Label</th>\n      <th>Score</th>\n    </tr>\n  </thead>\n  <tbody>\n    <tr>\n      <th>0</th>\n      <td>0.093630</td>\n      <td>0.080533</td>\n      <td>-0.012007</td>\n      <td>0.006595</td>\n      <td>-0.105211</td>\n      <td>0.168381</td>\n      <td>0.011074</td>\n      <td>-0.295649</td>\n      <td>0.094092</td>\n      <td>-0.026169</td>\n      <td>...</td>\n      <td>-0.015453</td>\n      <td>0.096660</td>\n      <td>-0.008676</td>\n      <td>-0.025743</td>\n      <td>-0.126346</td>\n      <td>0.100612</td>\n      <td>0.076976</td>\n      <td>0</td>\n      <td>0</td>\n      <td>0.8179</td>\n    </tr>\n    <tr>\n      <th>1</th>\n      <td>0.032975</td>\n      <td>0.076163</td>\n      <td>0.008268</td>\n      <td>0.034589</td>\n      <td>-0.059776</td>\n      <td>0.113442</td>\n      <td>-0.003348</td>\n      <td>-0.266979</td>\n      <td>0.076205</td>\n      <td>-0.003748</td>\n      <td>...</td>\n      <td>-0.045620</td>\n      <td>0.108454</td>\n      <td>-0.000835</td>\n      <td>-0.071349</td>\n      <td>-0.088752</td>\n      <td>0.035207</td>\n      <td>0.090321</td>\n      <td>0</td>\n      <td>0</td>\n      <td>0.9686</td>\n    </tr>\n    <tr>\n      <th>2</th>\n      <td>0.005507</td>\n      <td>0.039720</td>\n      <td>0.031400</td>\n      <td>0.056476</td>\n      <td>-0.037889</td>\n      <td>0.082262</td>\n      <td>-0.001815</td>\n      <td>-0.288269</td>\n      <td>0.070536</td>\n      <td>0.036158</td>\n      <td>...</td>\n      <td>-0.034709</td>\n      <td>0.137928</td>\n      <td>-0.013249</td>\n      <td>-0.073035</td>\n      <td>-0.070765</td>\n      <td>0.020256</td>\n      <td>0.089895</td>\n      <td>1</td>\n      <td>0</td>\n      <td>0.5749</td>\n    </tr>\n    <tr>\n      <th>3</th>\n      <td>0.024744</td>\n      <td>0.070013</td>\n      <td>0.004319</td>\n      <td>0.038918</td>\n      <td>-0.013805</td>\n      <td>0.119969</td>\n      <td>-0.012189</td>\n      <td>-0.288481</td>\n      <td>0.044286</td>\n      <td>-0.018195</td>\n      <td>...</td>\n      <td>-0.050423</td>\n      <td>0.041680</td>\n      <td>-0.009116</td>\n      <td>-0.067431</td>\n      <td>-0.059024</td>\n      <td>0.055563</td>\n      <td>0.123329</td>\n      <td>1</td>\n      <td>1</td>\n      <td>0.5187</td>\n    </tr>\n    <tr>\n      <th>4</th>\n      <td>0.024454</td>\n      <td>0.067737</td>\n      <td>0.035270</td>\n      <td>0.042665</td>\n      <td>-0.087353</td>\n      <td>0.128697</td>\n      <td>-0.004872</td>\n      <td>-0.301289</td>\n      <td>0.087328</td>\n      <td>0.014337</td>\n      <td>...</td>\n      <td>-0.059373</td>\n      <td>0.060570</td>\n      <td>0.003512</td>\n      <td>-0.072368</td>\n      <td>-0.051577</td>\n      <td>0.004917</td>\n      <td>0.100167</td>\n      <td>0</td>\n      <td>0</td>\n      <td>0.9369</td>\n    </tr>\n  </tbody>\n</table>\n<p>5 rows × 203 columns</p>\n</div>"
     },
     "execution_count": 66,
     "metadata": {},
     "output_type": "execute_result"
    }
   ],
   "source": [
    "unseen_predictions = predict_model(final_lightgbm, data=test_data)\n",
    "unseen_predictions.head()"
   ],
   "metadata": {
    "collapsed": false,
    "pycharm": {
     "name": "#%%\n"
    }
   }
  },
  {
   "cell_type": "markdown",
   "source": [
    "## Display F1 score for predictions"
   ],
   "metadata": {
    "collapsed": false,
    "pycharm": {
     "name": "#%% md\n"
    }
   }
  },
  {
   "cell_type": "code",
   "execution_count": 69,
   "outputs": [
    {
     "data": {
      "text/plain": "0.5556"
     },
     "execution_count": 69,
     "metadata": {},
     "output_type": "execute_result"
    }
   ],
   "source": [
    "check_metric(unseen_predictions['200'], unseen_predictions['Label'], metric = 'F1')\n"
   ],
   "metadata": {
    "collapsed": false,
    "pycharm": {
     "name": "#%%\n"
    }
   }
  }
 ],
 "metadata": {
  "kernelspec": {
   "display_name": "Python 3",
   "language": "python",
   "name": "python3"
  },
  "language_info": {
   "codemirror_mode": {
    "name": "ipython",
    "version": 2
   },
   "file_extension": ".py",
   "mimetype": "text/x-python",
   "name": "python",
   "nbconvert_exporter": "python",
   "pygments_lexer": "ipython2",
   "version": "2.7.6"
  }
 },
 "nbformat": 4,
 "nbformat_minor": 0
}