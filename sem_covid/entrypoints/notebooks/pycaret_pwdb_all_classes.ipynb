{
 "cells": [
  {
   "cell_type": "markdown",
   "source": [
    "## Import libraries"
   ],
   "metadata": {
    "collapsed": false
   }
  },
  {
   "cell_type": "code",
   "execution_count": 3,
   "outputs": [],
   "source": [
    "import sys\n",
    "sys.path.append(\"/home/jovyan/work/sem-covid/\")\n",
    "sys.path = list(set(sys.path))\n",
    "import os\n",
    "\n",
    "os.getcwd()\n",
    "os.chdir('/home/jovyan/work/sem-covid/')\n",
    "\n",
    "from sem_covid.services.store_registry import StoreRegistry\n",
    "from pycaret.classification import *\n",
    "import mlflow\n",
    "from sem_covid import config"
   ],
   "metadata": {
    "collapsed": false,
    "pycharm": {
     "name": "#%%\n"
    }
   }
  },
  {
   "cell_type": "markdown",
   "source": [
    "## Load dataset"
   ],
   "metadata": {
    "collapsed": false
   }
  },
  {
   "cell_type": "code",
   "execution_count": 2,
   "outputs": [
    {
     "name": "stderr",
     "output_type": "stream",
     "text": [
      "100% (1288 of 1288) |####################| Elapsed Time: 0:00:00 Time:  0:00:00\n",
      "100% (1288 of 1288) |####################| Elapsed Time: 0:00:00 Time:  0:00:00\n"
     ]
    }
   ],
   "source": [
    "feature_store = StoreRegistry.es_feature_store()\n",
    "dataset_x = feature_store.get_features('fs_pwdb_x')\n",
    "dataset_y = feature_store.get_features('fs_pwdb_y')"
   ],
   "metadata": {
    "collapsed": false,
    "pycharm": {
     "name": "#%%\n"
    }
   }
  },
  {
   "cell_type": "markdown",
   "source": [
    "## Split dataset in train_set and test_set"
   ],
   "metadata": {
    "collapsed": false
   }
  },
  {
   "cell_type": "code",
   "execution_count": 3,
   "outputs": [],
   "source": [
    "def py_caret_train_models(dataset_x: pd.DataFrame, dataset_y: pd.DataFrame):\n",
    "    mlflow.set_tracking_uri(config.MLFLOW_TRACKING_URI)\n",
    "    for class_name in dataset_y.columns:\n",
    "        dataset = dataset_x\n",
    "        dataset[class_name] = dataset_y[class_name].values\n",
    "        train_data = dataset#.sample(frac=0.70, random_state=786)\n",
    "        #test_data = dataset.drop(train_data.index)\n",
    "        train_data.reset_index(inplace=True, drop=True)\n",
    "        #test_data.reset_index(inplace=True, drop=True)\n",
    "        experiment = setup(data=train_data,\n",
    "                           target=class_name,\n",
    "                           log_experiment=True,\n",
    "                           experiment_name=f\"PyCaret_pwdb_{class_name}\",\n",
    "                           silent=True)\n",
    "        best_model = compare_models()\n",
    "        tuned_model = tune_model(best_model,n_iter= 200, choose_better=True,optimize='F1')\n",
    "        final_model = finalize_model(tuned_model)\n",
    "        del dataset\n",
    "        del train_data\n",
    "        #test_predictions = predict_model(final_model, data=test_data)"
   ],
   "metadata": {
    "collapsed": false,
    "pycharm": {
     "name": "#%%\n"
    }
   }
  },
  {
   "cell_type": "code",
   "execution_count": 4,
   "outputs": [
    {
     "data": {
      "text/plain": "<pandas.io.formats.style.Styler at 0x7f1f7b81cee0>",
      "text/html": "<style  type=\"text/css\" >\n#T_23ff2_row10_col0,#T_23ff2_row10_col1,#T_23ff2_row10_col2,#T_23ff2_row10_col3,#T_23ff2_row10_col4,#T_23ff2_row10_col5,#T_23ff2_row10_col6{\n            background:  yellow;\n        }</style><table id=\"T_23ff2_\" ><thead>    <tr>        <th class=\"blank level0\" ></th>        <th class=\"col_heading level0 col0\" >Accuracy</th>        <th class=\"col_heading level0 col1\" >AUC</th>        <th class=\"col_heading level0 col2\" >Recall</th>        <th class=\"col_heading level0 col3\" >Prec.</th>        <th class=\"col_heading level0 col4\" >F1</th>        <th class=\"col_heading level0 col5\" >Kappa</th>        <th class=\"col_heading level0 col6\" >MCC</th>    </tr></thead><tbody>\n                <tr>\n                        <th id=\"T_23ff2_level0_row0\" class=\"row_heading level0 row0\" >0</th>\n                        <td id=\"T_23ff2_row0_col0\" class=\"data row0 col0\" >0.3956</td>\n                        <td id=\"T_23ff2_row0_col1\" class=\"data row0 col1\" >0.0000</td>\n                        <td id=\"T_23ff2_row0_col2\" class=\"data row0 col2\" >0.1525</td>\n                        <td id=\"T_23ff2_row0_col3\" class=\"data row0 col3\" >0.2421</td>\n                        <td id=\"T_23ff2_row0_col4\" class=\"data row0 col4\" >0.2887</td>\n                        <td id=\"T_23ff2_row0_col5\" class=\"data row0 col5\" >0.2696</td>\n                        <td id=\"T_23ff2_row0_col6\" class=\"data row0 col6\" >0.2885</td>\n            </tr>\n            <tr>\n                        <th id=\"T_23ff2_level0_row1\" class=\"row_heading level0 row1\" >1</th>\n                        <td id=\"T_23ff2_row1_col0\" class=\"data row1 col0\" >0.3889</td>\n                        <td id=\"T_23ff2_row1_col1\" class=\"data row1 col1\" >0.0000</td>\n                        <td id=\"T_23ff2_row1_col2\" class=\"data row1 col2\" >0.1055</td>\n                        <td id=\"T_23ff2_row1_col3\" class=\"data row1 col3\" >0.2096</td>\n                        <td id=\"T_23ff2_row1_col4\" class=\"data row1 col4\" >0.2659</td>\n                        <td id=\"T_23ff2_row1_col5\" class=\"data row1 col5\" >0.2327</td>\n                        <td id=\"T_23ff2_row1_col6\" class=\"data row1 col6\" >0.2667</td>\n            </tr>\n            <tr>\n                        <th id=\"T_23ff2_level0_row2\" class=\"row_heading level0 row2\" >2</th>\n                        <td id=\"T_23ff2_row2_col0\" class=\"data row2 col0\" >0.4000</td>\n                        <td id=\"T_23ff2_row2_col1\" class=\"data row2 col1\" >0.0000</td>\n                        <td id=\"T_23ff2_row2_col2\" class=\"data row2 col2\" >0.0823</td>\n                        <td id=\"T_23ff2_row2_col3\" class=\"data row2 col3\" >0.2267</td>\n                        <td id=\"T_23ff2_row2_col4\" class=\"data row2 col4\" >0.2748</td>\n                        <td id=\"T_23ff2_row2_col5\" class=\"data row2 col5\" >0.2464</td>\n                        <td id=\"T_23ff2_row2_col6\" class=\"data row2 col6\" >0.2919</td>\n            </tr>\n            <tr>\n                        <th id=\"T_23ff2_level0_row3\" class=\"row_heading level0 row3\" >3</th>\n                        <td id=\"T_23ff2_row3_col0\" class=\"data row3 col0\" >0.4000</td>\n                        <td id=\"T_23ff2_row3_col1\" class=\"data row3 col1\" >0.0000</td>\n                        <td id=\"T_23ff2_row3_col2\" class=\"data row3 col2\" >0.1481</td>\n                        <td id=\"T_23ff2_row3_col3\" class=\"data row3 col3\" >0.2674</td>\n                        <td id=\"T_23ff2_row3_col4\" class=\"data row3 col4\" >0.2870</td>\n                        <td id=\"T_23ff2_row3_col5\" class=\"data row3 col5\" >0.2551</td>\n                        <td id=\"T_23ff2_row3_col6\" class=\"data row3 col6\" >0.2940</td>\n            </tr>\n            <tr>\n                        <th id=\"T_23ff2_level0_row4\" class=\"row_heading level0 row4\" >4</th>\n                        <td id=\"T_23ff2_row4_col0\" class=\"data row4 col0\" >0.4000</td>\n                        <td id=\"T_23ff2_row4_col1\" class=\"data row4 col1\" >0.0000</td>\n                        <td id=\"T_23ff2_row4_col2\" class=\"data row4 col2\" >0.1065</td>\n                        <td id=\"T_23ff2_row4_col3\" class=\"data row4 col3\" >0.2160</td>\n                        <td id=\"T_23ff2_row4_col4\" class=\"data row4 col4\" >0.2670</td>\n                        <td id=\"T_23ff2_row4_col5\" class=\"data row4 col5\" >0.2376</td>\n                        <td id=\"T_23ff2_row4_col6\" class=\"data row4 col6\" >0.2969</td>\n            </tr>\n            <tr>\n                        <th id=\"T_23ff2_level0_row5\" class=\"row_heading level0 row5\" >5</th>\n                        <td id=\"T_23ff2_row5_col0\" class=\"data row5 col0\" >0.4222</td>\n                        <td id=\"T_23ff2_row5_col1\" class=\"data row5 col1\" >0.0000</td>\n                        <td id=\"T_23ff2_row5_col2\" class=\"data row5 col2\" >0.1347</td>\n                        <td id=\"T_23ff2_row5_col3\" class=\"data row5 col3\" >0.2607</td>\n                        <td id=\"T_23ff2_row5_col4\" class=\"data row5 col4\" >0.2993</td>\n                        <td id=\"T_23ff2_row5_col5\" class=\"data row5 col5\" >0.2845</td>\n                        <td id=\"T_23ff2_row5_col6\" class=\"data row5 col6\" >0.3206</td>\n            </tr>\n            <tr>\n                        <th id=\"T_23ff2_level0_row6\" class=\"row_heading level0 row6\" >6</th>\n                        <td id=\"T_23ff2_row6_col0\" class=\"data row6 col0\" >0.4000</td>\n                        <td id=\"T_23ff2_row6_col1\" class=\"data row6 col1\" >0.0000</td>\n                        <td id=\"T_23ff2_row6_col2\" class=\"data row6 col2\" >0.1134</td>\n                        <td id=\"T_23ff2_row6_col3\" class=\"data row6 col3\" >0.2905</td>\n                        <td id=\"T_23ff2_row6_col4\" class=\"data row6 col4\" >0.3115</td>\n                        <td id=\"T_23ff2_row6_col5\" class=\"data row6 col5\" >0.2697</td>\n                        <td id=\"T_23ff2_row6_col6\" class=\"data row6 col6\" >0.2919</td>\n            </tr>\n            <tr>\n                        <th id=\"T_23ff2_level0_row7\" class=\"row_heading level0 row7\" >7</th>\n                        <td id=\"T_23ff2_row7_col0\" class=\"data row7 col0\" >0.3889</td>\n                        <td id=\"T_23ff2_row7_col1\" class=\"data row7 col1\" >0.0000</td>\n                        <td id=\"T_23ff2_row7_col2\" class=\"data row7 col2\" >0.1140</td>\n                        <td id=\"T_23ff2_row7_col3\" class=\"data row7 col3\" >0.2563</td>\n                        <td id=\"T_23ff2_row7_col4\" class=\"data row7 col4\" >0.2814</td>\n                        <td id=\"T_23ff2_row7_col5\" class=\"data row7 col5\" >0.2477</td>\n                        <td id=\"T_23ff2_row7_col6\" class=\"data row7 col6\" >0.2742</td>\n            </tr>\n            <tr>\n                        <th id=\"T_23ff2_level0_row8\" class=\"row_heading level0 row8\" >8</th>\n                        <td id=\"T_23ff2_row8_col0\" class=\"data row8 col0\" >0.4222</td>\n                        <td id=\"T_23ff2_row8_col1\" class=\"data row8 col1\" >0.0000</td>\n                        <td id=\"T_23ff2_row8_col2\" class=\"data row8 col2\" >0.1508</td>\n                        <td id=\"T_23ff2_row8_col3\" class=\"data row8 col3\" >0.2333</td>\n                        <td id=\"T_23ff2_row8_col4\" class=\"data row8 col4\" >0.2914</td>\n                        <td id=\"T_23ff2_row8_col5\" class=\"data row8 col5\" >0.2824</td>\n                        <td id=\"T_23ff2_row8_col6\" class=\"data row8 col6\" >0.3198</td>\n            </tr>\n            <tr>\n                        <th id=\"T_23ff2_level0_row9\" class=\"row_heading level0 row9\" >9</th>\n                        <td id=\"T_23ff2_row9_col0\" class=\"data row9 col0\" >0.4111</td>\n                        <td id=\"T_23ff2_row9_col1\" class=\"data row9 col1\" >0.0000</td>\n                        <td id=\"T_23ff2_row9_col2\" class=\"data row9 col2\" >0.1504</td>\n                        <td id=\"T_23ff2_row9_col3\" class=\"data row9 col3\" >0.2501</td>\n                        <td id=\"T_23ff2_row9_col4\" class=\"data row9 col4\" >0.2842</td>\n                        <td id=\"T_23ff2_row9_col5\" class=\"data row9 col5\" >0.2587</td>\n                        <td id=\"T_23ff2_row9_col6\" class=\"data row9 col6\" >0.3095</td>\n            </tr>\n            <tr>\n                        <th id=\"T_23ff2_level0_row10\" class=\"row_heading level0 row10\" >Mean</th>\n                        <td id=\"T_23ff2_row10_col0\" class=\"data row10 col0\" >0.4029</td>\n                        <td id=\"T_23ff2_row10_col1\" class=\"data row10 col1\" >0.0000</td>\n                        <td id=\"T_23ff2_row10_col2\" class=\"data row10 col2\" >0.1258</td>\n                        <td id=\"T_23ff2_row10_col3\" class=\"data row10 col3\" >0.2452</td>\n                        <td id=\"T_23ff2_row10_col4\" class=\"data row10 col4\" >0.2851</td>\n                        <td id=\"T_23ff2_row10_col5\" class=\"data row10 col5\" >0.2584</td>\n                        <td id=\"T_23ff2_row10_col6\" class=\"data row10 col6\" >0.2954</td>\n            </tr>\n            <tr>\n                        <th id=\"T_23ff2_level0_row11\" class=\"row_heading level0 row11\" >SD</th>\n                        <td id=\"T_23ff2_row11_col0\" class=\"data row11 col0\" >0.0114</td>\n                        <td id=\"T_23ff2_row11_col1\" class=\"data row11 col1\" >0.0000</td>\n                        <td id=\"T_23ff2_row11_col2\" class=\"data row11 col2\" >0.0234</td>\n                        <td id=\"T_23ff2_row11_col3\" class=\"data row11 col3\" >0.0235</td>\n                        <td id=\"T_23ff2_row11_col4\" class=\"data row11 col4\" >0.0133</td>\n                        <td id=\"T_23ff2_row11_col5\" class=\"data row11 col5\" >0.0170</td>\n                        <td id=\"T_23ff2_row11_col6\" class=\"data row11 col6\" >0.0167</td>\n            </tr>\n    </tbody></table>"
     },
     "metadata": {},
     "output_type": "display_data"
    }
   ],
   "source": [
    "py_caret_train_models(dataset_x,dataset_y)"
   ],
   "metadata": {
    "collapsed": false,
    "pycharm": {
     "name": "#%%\n"
    }
   }
  }
 ],
 "metadata": {
  "kernelspec": {
   "display_name": "Python 3",
   "language": "python",
   "name": "python3"
  },
  "language_info": {
   "codemirror_mode": {
    "name": "ipython",
    "version": 2
   },
   "file_extension": ".py",
   "mimetype": "text/x-python",
   "name": "python",
   "nbconvert_exporter": "python",
   "pygments_lexer": "ipython2",
   "version": "2.7.6"
  }
 },
 "nbformat": 4,
 "nbformat_minor": 0
}