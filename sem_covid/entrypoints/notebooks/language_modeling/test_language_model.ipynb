{
 "cells": [
  {
   "cell_type": "code",
   "execution_count": 1,
   "metadata": {
    "collapsed": true
   },
   "outputs": [],
   "source": [
    "import sys\n",
    "\n",
    "sys.path.append(\"/home/jovyan/work/sem-covid/\")\n",
    "sys.path = list(set(sys.path))\n",
    "\n",
    "import os\n",
    "\n",
    "os.getcwd()\n",
    "os.chdir('/home/jovyan/work/sem-covid/')\n",
    "\n",
    "import warnings\n",
    "\n",
    "warnings.filterwarnings(\"ignore\")\n",
    "\n",
    "import numpy as np\n",
    "\n",
    "from sem_covid.services.store_registry import store_registry\n",
    "\n",
    "import pickle\n",
    "import re\n",
    "from typing import List, Tuple\n",
    "\n",
    "import pandas as pd\n",
    "import spacy\n",
    "\n",
    "from gensim.parsing.preprocessing import remove_stopwords\n",
    "from gensim.models import Word2Vec"
   ]
  },
  {
   "cell_type": "code",
   "execution_count": 3,
   "outputs": [],
   "source": [
    "LANGUAGE_MODEL = 'model1_language_model.model'\n",
    "LANGUAGE_MODEL_MINIO_FOLDER = 'word2vec/'\n",
    "LANGUAGE_MODEL_BUCKET_NAME = 'mdl-language'"
   ],
   "metadata": {
    "collapsed": false,
    "pycharm": {
     "name": "#%%\n"
    }
   }
  },
  {
   "cell_type": "code",
   "execution_count": 4,
   "outputs": [],
   "source": [
    "minio = store_registry.minio_object_store(LANGUAGE_MODEL_BUCKET_NAME)"
   ],
   "metadata": {
    "collapsed": false,
    "pycharm": {
     "name": "#%%\n"
    }
   }
  },
  {
   "cell_type": "code",
   "execution_count": 5,
   "outputs": [],
   "source": [
    "keyed_vector = pickle.loads(minio.get_object(LANGUAGE_MODEL_MINIO_FOLDER + LANGUAGE_MODEL))"
   ],
   "metadata": {
    "collapsed": false,
    "pycharm": {
     "name": "#%%\n"
    }
   }
  },
  {
   "cell_type": "code",
   "execution_count": 12,
   "outputs": [],
   "source": [
    "words = keyed_vector.wv.index_to_key"
   ],
   "metadata": {
    "collapsed": false,
    "pycharm": {
     "name": "#%%\n"
    }
   }
  },
  {
   "cell_type": "code",
   "execution_count": 13,
   "outputs": [
    {
     "data": {
      "text/plain": "111356"
     },
     "execution_count": 13,
     "metadata": {},
     "output_type": "execute_result"
    }
   ],
   "source": [
    "len(words)"
   ],
   "metadata": {
    "collapsed": false,
    "pycharm": {
     "name": "#%%\n"
    }
   }
  },
  {
   "cell_type": "code",
   "execution_count": 24,
   "outputs": [],
   "source": [
    "filtered_words = [word for word in words if not word.isalpha()]"
   ],
   "metadata": {
    "collapsed": false,
    "pycharm": {
     "name": "#%%\n"
    }
   }
  },
  {
   "cell_type": "code",
   "execution_count": 25,
   "outputs": [
    {
     "data": {
      "text/plain": "94752"
     },
     "execution_count": 25,
     "metadata": {},
     "output_type": "execute_result"
    }
   ],
   "source": [
    "len(filtered_words)"
   ],
   "metadata": {
    "collapsed": false,
    "pycharm": {
     "name": "#%%\n"
    }
   }
  },
  {
   "cell_type": "code",
   "execution_count": 26,
   "outputs": [
    {
     "data": {
      "text/plain": "[\"'\",\n ',',\n '.',\n ')',\n ':',\n '1',\n '19',\n '2',\n '5',\n '2020',\n '\"',\n \"'s\",\n '3',\n '4',\n '[',\n ']',\n '000',\n '0',\n ';',\n '6',\n '2021',\n '/',\n '7',\n '8',\n '9',\n '14',\n '15',\n '25',\n '10',\n '24',\n '<',\n '>',\n 'age_range',\n '12',\n '20',\n '30',\n '11',\n '2019',\n '13',\n '18',\n '34',\n '45',\n '35',\n '55',\n '100',\n '65',\n '44',\n '17',\n '64',\n '16',\n '31',\n '54',\n 'social_partner',\n '75',\n 'health_protection_surveillance_centre',\n '84',\n '85',\n '+',\n 'positive_covid',\n 'gender_patient',\n 'hospital_statistic',\n '50',\n 'department_health',\n '74',\n 'statement_national_public_health_emergency_team',\n '22',\n '23',\n 'event_person',\n '21',\n 'young_people',\n '14_days',\n '28',\n '&',\n 'today_s_case',\n '26',\n 'community_transmission',\n '29',\n '500',\n '27',\n '19_ireland',\n 'close_contact',\n '40',\n '2018',\n '60',\n \"'cause\",\n '19_community',\n 'date_information_key_indicator',\n 'chief_medical_officer',\n '200',\n '70',\n 'minister_health',\n '48',\n 'covid_19_ireland',\n 'public_health_advice',\n '19_hasn_t_abroad_contact',\n 'median_age',\n '2016',\n 'pandemic_unemployment_payment',\n '33',\n '32',\n 'nursing_home',\n 'covid_19_dashboard',\n '42',\n 'e.',\n '80',\n '24_hours',\n 'public_health',\n '38',\n '36',\n 'mental_health',\n '39',\n 'social_enterprise',\n 'healthcare_worker',\n '00',\n '66',\n '?',\n '43',\n 'information_advice_prevent_spread',\n 'public_service',\n '37',\n '46',\n '300',\n '800',\n 'and/or',\n '2017',\n '14_day_incidence_rate',\n '202',\n 'total_number_case',\n '57',\n 'enterprise_ireland',\n '2022',\n 'illness_benefit',\n '90',\n '49',\n '56',\n '1_statistics',\n 'minister_humphrey',\n '250',\n '47',\n '19_pandemic_unemployment_payment',\n 'member_state',\n '41',\n '+1',\n '2015',\n '400',\n '2014',\n '67',\n '19_crisis',\n 'new_case',\n '19_vaccine',\n '45_years',\n 'food_marine',\n 'trade_union',\n 'covid_19_crisis',\n 'transmission_classification_community_transmission',\n '52',\n '19_patients',\n \"'d\",\n 'face_covering',\n 'age_median_age',\n 'incidence_rate',\n 'i.',\n '600',\n '58',\n 'european_commission',\n 'garda_siochana',\n '59',\n '61',\n '53',\n '=',\n '350',\n 'calculated_grade',\n '51',\n '150',\n '81',\n '69',\n 'collective_agreement',\n '62',\n '72',\n '63',\n 'minister_harris',\n 'enterprise_innovation',\n '68',\n 'minister_mcentee',\n '#',\n 'hse_working',\n '19_coronavirus',\n '79',\n 'g.',\n 'unemployment_benefit',\n '82',\n '76',\n 'trade_employment',\n 'labour_market',\n 'social_distance',\n 'social_partners',\n '77',\n '700',\n 'local_authority',\n 'minister_donohoe',\n 'public_transport',\n '73',\n 'financial_support',\n '3_change',\n 'civil_partner',\n '83',\n '98',\n \"n't\",\n '78',\n '120',\n '71',\n 'daily_data_ireland_s_covid_19_vaccination_programme',\n 'new_death',\n 'family_member',\n 'physical_distance',\n '86',\n 'department_agriculture',\n '129',\n 'credit_union',\n '203',\n 'national_public_health_emergency_team',\n '99',\n '88',\n '2023',\n 'minister_martin',\n '+2',\n '93',\n '95',\n '2025',\n 'fuel_allowance',\n 'q4',\n 'face_covere',\n 'number_people',\n '2030',\n 'short_time',\n 'package_measure',\n '96',\n '19_pandemic',\n 'northern_ireland',\n 'avian_influenza',\n '180',\n 'primary_school',\n 'public_health_measures',\n 'stephen_donnelly_td',\n 'new_cases',\n '166',\n '2_change',\n '105',\n '6_change',\n '125',\n '91',\n 'new_measure',\n 'county_county_cases',\n 'health_protection_surveillance_centre_hpsc',\n 'data_hpsc',\n '148',\n 'social_protection',\n '128',\n 'minister_finance',\n 'bank_account',\n 'department_social_protection',\n '112',\n 'covid_restriction',\n '89',\n '149',\n 'remote_worke',\n 'covid_19_vaccine',\n 'additional_funde',\n 'county_number_case',\n 'dormant_account',\n '151',\n 'innovation_science',\n '31_march',\n 'dr_ronan_glynn',\n '201',\n '103',\n 'health_service',\n '87',\n '13_march',\n '19_restrictions',\n 'vulnerable_group',\n '+4',\n '1st',\n '106',\n 'law_decree',\n '159',\n '+3',\n '137',\n '122',\n '140',\n '97',\n '1_january',\n '168',\n 'key_role',\n 'professor_philip_nolan',\n '130',\n 'irish_aid',\n 'economic_activity',\n '110',\n '156',\n 'department_business',\n '101',\n 'minister_justice',\n '160',\n '147',\n '216',\n '94',\n 'minister_mcconalogue',\n '):',\n 'pps_number',\n '187',\n '142',\n 'homeless_report',\n '308',\n 'union_citizen',\n 'expert_group',\n 'nursing_homes',\n '197',\n '104',\n 'civil_service',\n 'chair_nphet_irish_epidemiological_modelling_advisory_group',\n 'q1',\n 'pandemic_unemployment_payment_pup',\n 'state_emergency',\n '175',\n '109',\n '115',\n '154',\n '111',\n 't._d',\n 'successful_project',\n '153',\n 'circular_economy',\n '119',\n '265',\n '123',\n '346',\n '107',\n '155',\n 'short_time_work',\n '223',\n '102',\n '141',\n '199',\n '217',\n '113',\n '288',\n '631',\n '9_change',\n '174',\n '369',\n 'heather_humphrey',\n '750',\n '145',\n 'local_government',\n '134',\n 'average_14_day_incidence_rate',\n '247',\n '162',\n '240',\n 'department_justice',\n '152',\n '169',\n '6_westmeath',\n '92',\n '2040',\n '135',\n '198',\n 'living_wage',\n '249',\n '212',\n '171',\n '158',\n 'long_term',\n '+5',\n '9_roscommon',\n 'department_enterprise',\n '136',\n '19_outbreak',\n 'self_employment',\n 'minister_humphreys',\n '264',\n '+6',\n '114',\n 'co.',\n '207',\n '108',\n '280',\n 'end_year',\n '900',\n 'minister_brophy',\n 'economic_recovery',\n 'local_government_heritage',\n '179',\n '225',\n '+7',\n '191',\n 'decree_law',\n '116',\n '192',\n 'social_insurance',\n '222',\n '144',\n '210',\n 'staff_member',\n 'northern_italy',\n '48_years',\n 'tanaiste_minister_enterprise',\n '310',\n '278',\n '167',\n 'age_group_number',\n 'self_isolate',\n '124',\n 'homelessness_performance_report',\n '165',\n 'minister_agriculture',\n 'total_death',\n '269',\n '2024',\n '2013',\n 'rural_areas',\n '960_week_period',\n 'nui_galway',\n '+8',\n '7_statistics',\n '189',\n '024',\n 'minister_mcgrath',\n 'dr_tony_holohan',\n 'health_condition',\n '188',\n '117',\n '184',\n '183',\n '190',\n '271',\n '270',\n 'social_contact',\n '235',\n '330',\n '242',\n 'government_department',\n '170',\n '146',\n '118',\n 'vaccination_programme',\n '173',\n '132',\n 'minister_feighan',\n '121',\n '3_meath',\n 'human_trafficke',\n '214',\n 'contributory_pension',\n '204',\n 'rural_ireland',\n 'federal_government',\n 'failte_ireland',\n 'integration_youth',\n '139',\n 'q2',\n 'social_welfare_payment',\n '2_statistics',\n '185',\n '01',\n 'minister_flanagan',\n 'public_health_guidance',\n 'international_protection',\n '2010',\n 'programme_government',\n '176',\n 'information_date',\n 'defence_force',\n '131',\n 'l.',\n '209',\n 'animal_health',\n '221',\n 'employment_contract',\n '19_vaccines',\n '275',\n 'essential_service',\n 'ministry_labour',\n '260',\n '31_december',\n '238',\n '127',\n 'a.',\n 'live_animal',\n '39_statistics',\n '220',\n 'domestic_abuse',\n '321',\n '215',\n '182',\n 'minister_public_expenditure_reform',\n 'm.',\n 'case_officer',\n '218',\n 'community_safety',\n 'er_s_non_contributory_pension',\n '2012',\n '262',\n 'minister_o_brien',\n 'action_plan',\n '229',\n '583',\n 'scheme_crss',\n '356',\n 'wild_birds',\n '12_months',\n 'local_enterprise_office',\n '1890',\n 'public_consultation',\n '287',\n 'important_role',\n '246',\n '320',\n 'climate_change',\n 'africa_day',\n '224',\n '161',\n 'remote_work',\n 'public_finance',\n '7_day_incidence_rate',\n '181',\n 'minister_re',\n '143',\n '14_day',\n '10_employees',\n '438',\n 'd.',\n '126',\n 'social_distancing',\n '26_march',\n '480',\n '303',\n '650',\n '254',\n '163',\n '486',\n '1_waterford',\n '273',\n '208',\n 'catherine_martin_td',\n 'restrict_movement',\n 'working_group',\n 'healthy_ireland',\n '248',\n '178',\n 'right_residence',\n '777',\n '345',\n 'county_county_case',\n '196',\n 'income_support',\n '443',\n '57_female_43_male_median_age',\n '543',\n 'application_service',\n '_',\n '237',\n '343',\n 'food_safety',\n '03',\n '186',\n 'public_health_restriction',\n 'age_group',\n 'hong_kong',\n '323',\n '541',\n '368',\n '133',\n '241',\n '243',\n 'wholesale_retail_trade',\n 'minister_coveney',\n 'employer_organisation',\n '205',\n '211',\n 'tax_revenue',\n '2_monaghan',\n '670',\n 'irish_people',\n 'close_claim',\n '473',\n '437',\n 'high_risk',\n '445',\n '365',\n '+9',\n '30th',\n '219',\n '244',\n '164',\n 'return_work',\n '19_emergency',\n 'successful_applicant',\n '477',\n '315',\n 's.',\n '3_limerick',\n '444',\n 'today_s_cases',\n 'economic_social_council',\n 'total_number',\n 'minister_butler',\n '30pm',\n '258',\n '3_statistics',\n '360',\n '478',\n '1_male',\n '8_statistics',\n 'new_guidance',\n 'covid_19_epidemic',\n '456',\n '253',\n '274',\n '430',\n '194',\n 'regional_enterprise',\n 'social_security',\n 'supplementary_welfare_allowance',\n '375',\n '283',\n '177',\n '479',\n '355',\n '295',\n '138',\n 'deputy_chief_medical_officer',\n '476',\n '540',\n 'pup_claim',\n 'emergency_measure',\n '285',\n '2006',\n 'work_close_claim',\n 'lgbti+',\n 'number_case',\n '231',\n '730',\n '213',\n '251',\n '470',\n '318',\n '450',\n 'interest_rate',\n '322',\n 'weekly_payment',\n '172',\n '294',\n '2008',\n '226',\n 'risk_assessment',\n '299',\n '193',\n 'department_rural_community_development',\n 'small_businesse',\n '255',\n '9_statistics',\n 'html?utm_source',\n '290',\n 'externaldashboard&utm',\n 'powerbi&utm',\n 'public_realm',\n '261',\n 'childcare_service',\n 'iemag_meeting_minutes',\n '230',\n '252',\n 'international_travel',\n '236',\n 'sport_ireland',\n 'ida_ireland',\n 'spread_virus',\n 'difficult_time',\n '587',\n 'minister_tourism',\n '2_deaths',\n 'support_businesses',\n '481',\n '2005',\n '1800',\n 'outdoor_recreation_infrastructure_scheme',\n 'direct_provision',\n 'civil_servant',\n '206',\n '257',\n '429',\n '157',\n 'special_educational_need',\n '744',\n 'wash_hand',\n '27_march',\n '263',\n 'school_staff',\n '7_cavan',\n '232',\n 'minister_children',\n 'town_village_renewal_scheme',\n 'severe_illness',\n '550',\n 'high_temperature',\n '2011',\n '570',\n '3_longford',\n '19_related_deaths',\n 'temporary_wage_subsidy_scheme',\n '19_cases',\n '591',\n '!',\n '487',\n '7_wexford',\n '233',\n '391',\n 'minister_rural_community_development',\n 'private_sector',\n 'minister_business',\n 'urdf_funde',\n '373',\n 'community_development',\n 'irish_businesse',\n 'plant_product',\n 'social_inclusion',\n '499',\n 'home_office',\n '340',\n 'quality_life',\n 'employment_permit',\n '309',\n '291',\n 'commercial_rate',\n 't.',\n 'minister_foley',\n 'second_dose',\n 'hand_hygiene',\n '195',\n '2027',\n '468',\n 'healthcare_professional',\n '348',\n '286',\n '2003',\n 'press_release_county_county_figures',\n 'public_sector',\n '589',\n 'public_health_guidelines',\n 'employment_wage_subsidy_scheme',\n 'child_benefit',\n '474',\n 'support_measure',\n '383',\n '408',\n 'department_children',\n 'number_cases',\n 'don_t',\n '281',\n '394',\n 'spread_covid',\n '316',\n '4_clare',\n 'social_innovation',\n '326',\n '277',\n 'exceptional_circumstance',\n '338',\n 'mandatory_quarantine',\n 'food_sector',\n '472',\n '17_march',\n 'tax_credit',\n 'idle_time',\n 'minister_rabbitte',\n '245',\n 'department_justice_equality',\n 'positivity_rate',\n 'simon_harris_td',\n '268',\n '469',\n '234',\n 'maternity_benefit',\n 'tourism_sector',\n 'today_s_announcement',\n 'cultural_sector',\n 'eu_member_states',\n '753',\n '317',\n 'o_brien',\n 'fourth_quarter',\n 'south_korea',\n '336',\n '1_offaly',\n 'leo_varadkar_td',\n 'minister_heydon',\n 'general_meeting',\n '403',\n '30_june',\n 'minister_zappone',\n 'working_time',\n '228',\n '1999',\n '347',\n 'start_up',\n '402',\n 'slaintecare_integration_fund',\n '26_april',\n 'public_expenditure_reform',\n '4_statistics',\n 'mandatory_hotel_quarantine',\n 'pup_recipient',\n '311',\n '359',\n '389',\n 'climate_communication',\n '390',\n '371',\n '416',\n '19_vaccination',\n 'rural_community_development',\n '425',\n 'irish_prison_service',\n 'local_enterprise_offices',\n '305',\n 'end_transition_period',\n '04',\n '3_july_2020_rate',\n '256',\n '3_months',\n '536',\n '+353',\n 'mainland_china',\n '31st',\n '6_june',\n 'partial_activity',\n '325',\n '239',\n '335',\n '227',\n 'financial_shield',\n '292',\n 'special_school',\n '396',\n '2007',\n '19_infection',\n 'support_businesse',\n '465',\n 'minister_transport',\n '489',\n '538',\n '337',\n '18_years',\n '572',\n 'job_creation_maintenance',\n 'michael_mcgrath_td',\n '272',\n '293',\n '342',\n '289',\n '415',\n '267',\n 'european_union',\n '266',\n 'fair_competition_marketplace',\n 'new_regulation',\n 'health_service_executive',\n '2200',\n '307',\n '501',\n '485',\n 'economic_impact',\n '503',\n 'irish_policy_global_trade',\n 'health_crisis',\n 'productive_capacity_economy',\n '464',\n '451',\n '333',\n '466',\n 'labour_code',\n '357',\n '314',\n '2009',\n 'department_public_expenditure_reform',\n 'minister_madigan',\n 'lgbti+_young_people',\n 'social_security_contributions',\n 'critical_service',\n '460',\n 'total_change',\n '358',\n '754',\n 'q3',\n '7_kilkenny',\n 'micro_enterprise',\n '7_day_incidence',\n '539',\n '284',\n 'small_medium_sized_enterprise',\n '6_cavan',\n '1_change',\n 'health_social_care',\n 'laois_offaly',\n 'working_condition',\n 'heritage_gaeltacht',\n '339',\n '332',\n 'mary_butler_td',\n 's._i',\n '370',\n 'tourism_sport',\n '2004',\n '529',\n 'public_servant',\n '352',\n '2000',\n '495',\n 'department_education',\n 'self_isolation',\n 'public_administration',\n 'pup_payment',\n '475',\n '1_mayo',\n 'employment_retail',\n 'damien_english_td',\n 'homelessness_financial_report',\n 'sole_trader',\n 'solo_self',\n 'right_care',\n '545',\n 'lgbti+_people',\n '19_virus',\n '5_statistics',\n 'primary_level',\n 'chief_clinical_officer',\n '2_meath',\n '30_march',\n '377',\n 'protective_measure',\n 'sars_cov',\n 'mrna_vaccine',\n 'press_release',\n '27_april',\n '372',\n 'minister_byrne',\n 'national_social_package',\n 'application_process',\n '259',\n '482',\n 'application_form',\n '663',\n 'implementation_plan',\n 'disability_service',\n 'treatment_benefit',\n '7_september',\n '19_confirmed_ireland',\n '19_online_retail_scheme',\n 'total_number_death',\n '697',\n 'monitoring_measure',\n '586',\n '1_march',\n '+13',\n '483',\n 'covid_19_restriction',\n '087',\n 'daily_case_number',\n 'tripartite_agreement',\n 'food_waste',\n '490',\n '20_march',\n '432',\n '676',\n '12_march',\n '334',\n 'health_safety',\n '329',\n 'rural_future',\n '3_cork',\n '341',\n '593',\n 'research_innovation',\n 'border_control_post',\n 'united_kingdom',\n 'mental_health_service',\n '3_april',\n 'temporary_measure',\n 'captive_bird',\n '279',\n 'sickness_benefit',\n 'social_distancing_measures',\n '306',\n '579',\n '9_kerry',\n 'important_step',\n 'c.',\n '386',\n '327',\n ...]"
     },
     "execution_count": 26,
     "metadata": {},
     "output_type": "execute_result"
    }
   ],
   "source": [
    "filtered_words"
   ],
   "metadata": {
    "collapsed": false,
    "pycharm": {
     "name": "#%%\n"
    }
   }
  },
  {
   "cell_type": "code",
   "execution_count": 27,
   "outputs": [
    {
     "name": "stderr",
     "output_type": "stream",
     "text": [
      "100% (4126 of 4126) |####################| Elapsed Time: 0:00:00 Time:  0:00:00\n"
     ]
    }
   ],
   "source": [
    "unified_df = store_registry.es_index_store().get_dataframe('ds_unified_datasets')"
   ],
   "metadata": {
    "collapsed": false,
    "pycharm": {
     "name": "#%%\n"
    }
   }
  },
  {
   "cell_type": "code",
   "execution_count": 194,
   "outputs": [],
   "source": [
    "text = ' '.join(unified_df[['Title', 'Content']].agg(' '.join, axis=1).values)"
   ],
   "metadata": {
    "collapsed": false,
    "pycharm": {
     "name": "#%%\n"
    }
   }
  },
  {
   "cell_type": "code",
   "execution_count": null,
   "outputs": [],
   "source": [
    "from nltk.corpus import words\n",
    "import enchant\n",
    "\n",
    "en_words = set(words.words())\n",
    "d = enchant.Dict(\"en_US\")"
   ],
   "metadata": {
    "collapsed": false,
    "pycharm": {
     "name": "#%%\n"
    }
   }
  },
  {
   "cell_type": "code",
   "execution_count": 212,
   "outputs": [
    {
     "ename": "TypeError",
     "evalue": "'Dict' object is not iterable",
     "output_type": "error",
     "traceback": [
      "\u001B[0;31m---------------------------------------------------------------------------\u001B[0m",
      "\u001B[0;31mTypeError\u001B[0m                                 Traceback (most recent call last)",
      "\u001B[0;32m/tmp/ipykernel_444892/1684539408.py\u001B[0m in \u001B[0;36m<module>\u001B[0;34m\u001B[0m\n\u001B[0;32m----> 1\u001B[0;31m \u001B[0mdict\u001B[0m\u001B[0;34m(\u001B[0m\u001B[0md\u001B[0m\u001B[0;34m)\u001B[0m\u001B[0;34m\u001B[0m\u001B[0;34m\u001B[0m\u001B[0m\n\u001B[0m\u001B[1;32m      2\u001B[0m \u001B[0;34m\u001B[0m\u001B[0m\n",
      "\u001B[0;31mTypeError\u001B[0m: 'Dict' object is not iterable"
     ]
    }
   ],
   "source": [],
   "metadata": {
    "collapsed": false,
    "pycharm": {
     "name": "#%%\n"
    }
   }
  },
  {
   "cell_type": "code",
   "execution_count": 78,
   "outputs": [],
   "source": [
    "from sem_covid.adapters.embedding_models import BasicSentenceSplitterModel\n",
    "\n",
    "splitter = BasicSentenceSplitterModel()"
   ],
   "metadata": {
    "collapsed": false,
    "pycharm": {
     "name": "#%%\n"
    }
   }
  },
  {
   "cell_type": "code",
   "execution_count": 81,
   "outputs": [],
   "source": [
    "splitted_text = splitter.split(text)\n",
    "len(splitted_text)"
   ],
   "metadata": {
    "collapsed": false,
    "pycharm": {
     "name": "#%%\n"
    }
   }
  },
  {
   "cell_type": "code",
   "execution_count": 84,
   "outputs": [
    {
     "data": {
      "text/plain": "321504"
     },
     "execution_count": 84,
     "metadata": {},
     "output_type": "execute_result"
    }
   ],
   "source": [
    "splitted_long_text = [sent for sent in splitted_text if len(sent) > 10]\n",
    "len(splitted_long_text)"
   ],
   "metadata": {
    "collapsed": false,
    "pycharm": {
     "name": "#%%\n"
    }
   }
  },
  {
   "cell_type": "code",
   "execution_count": 199,
   "outputs": [],
   "source": [
    "def clean_text(text: str) -> str:\n",
    "    tmp_text = re.sub(' +', ' ', re.sub(r'[^a-zA-Z]', ' ', text)).lower()\n",
    "    tmp_text = remove_stopwords(tmp_text)\n",
    "    tmp_words = tmp_text.split(' ')\n",
    "    tmp_words = [word for word in tmp_words\n",
    "                 if len(word) > 3 and (word in en_words or d.check(word))]\n",
    "    if len(tmp_words) > 3:\n",
    "        return ' '.join(tmp_words)\n",
    "    else:\n",
    "        return ''"
   ],
   "metadata": {
    "collapsed": false,
    "pycharm": {
     "name": "#%%\n"
    }
   }
  },
  {
   "cell_type": "code",
   "execution_count": 200,
   "outputs": [],
   "source": [
    "cleaned_text = list(set([sent for sent in list(map(clean_text, splitted_long_text))\n",
    "                         if sent]))"
   ],
   "metadata": {
    "collapsed": false,
    "pycharm": {
     "name": "#%%\n"
    }
   }
  },
  {
   "cell_type": "code",
   "execution_count": 202,
   "outputs": [
    {
     "data": {
      "text/plain": "218406"
     },
     "execution_count": 202,
     "metadata": {},
     "output_type": "execute_result"
    }
   ],
   "source": [
    "cleaned_text"
   ],
   "metadata": {
    "collapsed": false,
    "pycharm": {
     "name": "#%%\n"
    }
   }
  },
  {
   "cell_type": "code",
   "execution_count": 203,
   "outputs": [],
   "source": [
    "full_text = ' '.join(cleaned_text)"
   ],
   "metadata": {
    "collapsed": false,
    "pycharm": {
     "name": "#%%\n"
    }
   }
  },
  {
   "cell_type": "code",
   "execution_count": 108,
   "outputs": [],
   "source": [
    "from sklearn.feature_extraction.text import TfidfVectorizer\n",
    "\n",
    "tfidf_vec = TfidfVectorizer()"
   ],
   "metadata": {
    "collapsed": false,
    "pycharm": {
     "name": "#%%\n"
    }
   }
  },
  {
   "cell_type": "code",
   "execution_count": 204,
   "outputs": [],
   "source": [
    "transformed = tfidf_vec.fit_transform(raw_documents=cleaned_text)"
   ],
   "metadata": {
    "collapsed": false,
    "pycharm": {
     "name": "#%%\n"
    }
   }
  },
  {
   "cell_type": "code",
   "execution_count": 205,
   "outputs": [],
   "source": [
    "tmp_words = list(tfidf_vec.vocabulary_.items())"
   ],
   "metadata": {
    "collapsed": false,
    "pycharm": {
     "name": "#%%\n"
    }
   }
  },
  {
   "cell_type": "code",
   "execution_count": 210,
   "outputs": [
    {
     "data": {
      "text/plain": "21045"
     },
     "execution_count": 210,
     "metadata": {},
     "output_type": "execute_result"
    }
   ],
   "source": [
    "len(tmp_words)"
   ],
   "metadata": {
    "collapsed": false,
    "pycharm": {
     "name": "#%%\n"
    }
   }
  },
  {
   "cell_type": "code",
   "execution_count": 126,
   "outputs": [],
   "source": [
    "def custom_cmp(item1, item2):\n",
    "    return item1[1] - item2[1]"
   ],
   "metadata": {
    "collapsed": false,
    "pycharm": {
     "name": "#%%\n"
    }
   }
  },
  {
   "cell_type": "code",
   "execution_count": 118,
   "outputs": [],
   "source": [
    "from functools import cmp_to_key"
   ],
   "metadata": {
    "collapsed": false,
    "pycharm": {
     "name": "#%%\n"
    }
   }
  },
  {
   "cell_type": "code",
   "execution_count": 206,
   "outputs": [
    {
     "data": {
      "text/plain": "[('abac', 0),\n ('abandon', 1),\n ('abandoned', 2),\n ('abandoning', 3),\n ('abandonment', 4),\n ('abandons', 5),\n ('abate', 6),\n ('abated', 7),\n ('abatement', 8),\n ('abattoir', 9),\n ('abbey', 10),\n ('abbreviated', 11),\n ('abbreviation', 12),\n ('abbreviations', 13),\n ('abdal', 14),\n ('abdicated', 15),\n ('abdominal', 16),\n ('abeyance', 17),\n ('abhorrent', 18),\n ('abide', 19),\n ('abides', 20),\n ('abiding', 21),\n ('abigail', 22),\n ('abilities', 23),\n ('ability', 24),\n ('abiotic', 25),\n ('ablation', 26),\n ('able', 27),\n ('ably', 28),\n ('abnormal', 29),\n ('abnormally', 30),\n ('aboard', 31),\n ('abolish', 32),\n ('abolished', 33),\n ('abolishing', 34),\n ('abolishment', 35),\n ('abolition', 36),\n ('abort', 37),\n ('abortifacient', 38),\n ('abortion', 39),\n ('abortions', 40),\n ('abortus', 41),\n ('abrasive', 42),\n ('abrasiveness', 43),\n ('abreast', 44),\n ('abridged', 45),\n ('abroad', 46),\n ('abrogate', 47),\n ('abrogated', 48),\n ('abrupt', 49),\n ('abruptly', 50),\n ('absconding', 51),\n ('absence', 52),\n ('absences', 53),\n ('absent', 54),\n ('absentee', 55),\n ('absenteeism', 56),\n ('absolute', 57),\n ('absolutely', 58),\n ('absolve', 59),\n ('absorb', 60),\n ('absorbed', 61),\n ('absorber', 62),\n ('absorbing', 63),\n ('absorption', 64),\n ('absorptive', 65),\n ('abstain', 66),\n ('abstained', 67),\n ('abstention', 68),\n ('abstentions', 69),\n ('abstract', 70),\n ('abstracted', 71),\n ('abstraction', 72),\n ('abstractions', 73),\n ('abstractly', 74),\n ('absurd', 75),\n ('absurdly', 76),\n ('abundance', 77),\n ('abundant', 78),\n ('abundantly', 79),\n ('abuse', 80),\n ('abused', 81),\n ('abuser', 82),\n ('abusers', 83),\n ('abuses', 84),\n ('abusing', 85),\n ('abusive', 86),\n ('abutting', 87),\n ('acacia', 88),\n ('academia', 89),\n ('academic', 90),\n ('academically', 91),\n ('academics', 92),\n ('academies', 93),\n ('academy', 94),\n ('accede', 95),\n ('accedes', 96),\n ('acceding', 97),\n ('accelerate', 98),\n ('accelerated', 99),\n ('accelerates', 100),\n ('accelerating', 101),\n ('acceleration', 102),\n ('accelerations', 103),\n ('accelerator', 104),\n ('accelerators', 105),\n ('accentuate', 106),\n ('accentuated', 107),\n ('accentuating', 108),\n ('accept', 109),\n ('acceptability', 110),\n ('acceptable', 111),\n ('acceptance', 112),\n ('acceptances', 113),\n ('accepted', 114),\n ('accepting', 115),\n ('acceptor', 116),\n ('accepts', 117),\n ('access', 118),\n ('accessed', 119),\n ('accesses', 120),\n ('accessibility', 121),\n ('accessible', 122),\n ('accessibly', 123),\n ('accessing', 124),\n ('accession', 125),\n ('accessions', 126),\n ('accessories', 127),\n ('accessory', 128),\n ('accident', 129),\n ('accidental', 130),\n ('accidentally', 131),\n ('accidents', 132),\n ('acclaimed', 133),\n ('accommodate', 134),\n ('accommodated', 135),\n ('accommodates', 136),\n ('accommodating', 137),\n ('accommodation', 138),\n ('accommodations', 139),\n ('accommodative', 140),\n ('accompanied', 141),\n ('accompanies', 142),\n ('accompaniment', 143),\n ('accompaniments', 144),\n ('accompanists', 145),\n ('accompany', 146),\n ('accompanying', 147),\n ('accomplish', 148),\n ('accomplishable', 149),\n ('accomplished', 150),\n ('accomplishing', 151),\n ('accomplishment', 152),\n ('accomplishments', 153),\n ('accord', 154),\n ('accordance', 155),\n ('accordant', 156),\n ('accorded', 157),\n ('according', 158),\n ('accordingly', 159),\n ('accords', 160),\n ('account', 161),\n ('accountability', 162),\n ('accountable', 163),\n ('accountancy', 164),\n ('accountant', 165),\n ('accountants', 166),\n ('accounted', 167),\n ('accounting', 168),\n ('accounts', 169),\n ('accredit', 170),\n ('accreditation', 171),\n ('accredited', 172),\n ('accrediting', 173),\n ('accrual', 174),\n ('accruals', 175),\n ('accrue', 176),\n ('accrued', 177),\n ('accrues', 178),\n ('accruing', 179),\n ('accumulate', 180),\n ('accumulated', 181),\n ('accumulates', 182),\n ('accumulating', 183),\n ('accumulation', 184),\n ('accumulations', 185),\n ('accumulative', 186),\n ('accumulators', 187),\n ('accuracy', 188),\n ('accurate', 189),\n ('accurately', 190),\n ('accusation', 191),\n ('accusations', 192),\n ('accused', 193),\n ('accusing', 194),\n ('acetaldehyde', 195),\n ('acetate', 196),\n ('acetic', 197),\n ('acetonitrile', 198),\n ('achievable', 199),\n ('achieve', 200),\n ('achieved', 201),\n ('achievement', 202),\n ('achievements', 203),\n ('achiever', 204),\n ('achievers', 205),\n ('achieves', 206),\n ('achieving', 207),\n ('achill', 208),\n ('acid', 209),\n ('acidic', 210),\n ('acidification', 211),\n ('acids', 212),\n ('acknowledge', 213),\n ('acknowledged', 214),\n ('acknowledges', 215),\n ('acknowledging', 216),\n ('acknowledgment', 217),\n ('acme', 218),\n ('acorns', 219),\n ('acoustic', 220),\n ('acquaintance', 221),\n ('acquainted', 222),\n ('acquire', 223),\n ('acquired', 224),\n ('acquirers', 225),\n ('acquires', 226),\n ('acquiring', 227),\n ('acquisition', 228),\n ('acquisitions', 229),\n ('acquittal', 230),\n ('acquittals', 231),\n ('acquitted', 232),\n ('acquitting', 233),\n ('acre', 234),\n ('acres', 235),\n ('acrobatics', 236),\n ('acronym', 237),\n ('acronyms', 238),\n ('acropolis', 239),\n ('acrylamide', 240),\n ('acrylate', 241),\n ('acrylic', 242),\n ('acrylonitrile', 243),\n ('acta', 244),\n ('acted', 245),\n ('acting', 246),\n ('action', 247),\n ('actionable', 248),\n ('actions', 249),\n ('activate', 250),\n ('activated', 251),\n ('activates', 252),\n ('activating', 253),\n ('activation', 254),\n ('active', 255),\n ('actively', 256),\n ('activism', 257),\n ('activist', 258),\n ('activists', 259),\n ('activities', 260),\n ('activity', 261),\n ('acton', 262),\n ('actor', 263),\n ('actors', 264),\n ('acts', 265),\n ('actu', 266),\n ('actual', 267),\n ('actually', 268),\n ('actuarially', 269),\n ('actuate', 270),\n ('actuating', 271),\n ('acuity', 272),\n ('acute', 273),\n ('acutely', 274),\n ('adapt', 275),\n ('adaptability', 276),\n ('adaptable', 277),\n ('adaptation', 278),\n ('adaptations', 279),\n ('adapted', 280),\n ('adapter', 281),\n ('adapting', 282),\n ('adaption', 283),\n ('adaptions', 284),\n ('adaptive', 285),\n ('adapts', 286),\n ('added', 287),\n ('addend', 288),\n ('addenda', 289),\n ('addendum', 290),\n ('addicted', 291),\n ('addiction', 292),\n ('addictions', 293),\n ('addictive', 294),\n ('addicts', 295),\n ('adding', 296),\n ('addition', 297),\n ('additional', 298),\n ('additionally', 299),\n ('additions', 300),\n ('additive', 301),\n ('additives', 302),\n ('address', 303),\n ('addressed', 304),\n ('addressee', 305),\n ('addressees', 306),\n ('addresses', 307),\n ('addressing', 308),\n ('adds', 309),\n ('adenosine', 310),\n ('adept', 311),\n ('adequacy', 312),\n ('adequate', 313),\n ('adequately', 314),\n ('adequateness', 315),\n ('adhere', 316),\n ('adhered', 317),\n ('adherence', 318),\n ('adhering', 319),\n ('adhesive', 320),\n ('adhesives', 321),\n ('aditus', 322),\n ('adjacent', 323),\n ('adjoining', 324),\n ('adjourned', 325),\n ('adjournment', 326),\n ('adjournments', 327),\n ('adjudged', 328),\n ('adjudicate', 329),\n ('adjudicated', 330),\n ('adjudicates', 331),\n ('adjudicating', 332),\n ('adjudication', 333),\n ('adjudications', 334),\n ('adjudicators', 335),\n ('adjunct', 336),\n ('adjust', 337),\n ('adjustable', 338),\n ('adjusted', 339),\n ('adjusting', 340),\n ('adjustment', 341),\n ('adjustments', 342),\n ('adjusts', 343),\n ('adjuvant', 344),\n ('admin', 345),\n ('administer', 346),\n ('administered', 347),\n ('administering', 348),\n ('administers', 349),\n ('administrated', 350),\n ('administrates', 351),\n ('administrating', 352),\n ('administration', 353),\n ('administrations', 354),\n ('administrative', 355),\n ('administratively', 356),\n ('administrator', 357),\n ('administrators', 358),\n ('admirably', 359),\n ('admiration', 360),\n ('admissibility', 361),\n ('admissible', 362),\n ('admission', 363),\n ('admissions', 364),\n ('admit', 365),\n ('admits', 366),\n ('admitted', 367),\n ('admittedly', 368),\n ('admitting', 369),\n ('admixture', 370),\n ('admixtures', 371),\n ('admonishment', 372),\n ('adolescence', 373),\n ('adolescent', 374),\n ('adolescents', 375),\n ('adopt', 376),\n ('adopted', 377),\n ('adopter', 378),\n ('adopters', 379),\n ('adopting', 380),\n ('adoption', 381),\n ('adoptions', 382),\n ('adoptive', 383),\n ('adopts', 384),\n ('adrenal', 385),\n ('adsorbent', 386),\n ('adsorption', 387),\n ('adult', 388),\n ('adulteration', 389),\n ('adulthood', 390),\n ('adults', 391),\n ('advance', 392),\n ('advanced', 393),\n ('advancement', 394),\n ('advancements', 395),\n ('advances', 396),\n ('advancing', 397),\n ('advantage', 398),\n ('advantaged', 399),\n ('advantageous', 400),\n ('advantages', 401),\n ('advent', 402),\n ('adventure', 403),\n ('adventures', 404),\n ('adversarial', 405),\n ('adverse', 406),\n ('adversely', 407),\n ('adversity', 408),\n ('advert', 409),\n ('advertise', 410),\n ('advertised', 411),\n ('advertisement', 412),\n ('advertisements', 413),\n ('advertiser', 414),\n ('advertisers', 415),\n ('advertises', 416),\n ('advertising', 417),\n ('adverts', 418),\n ('advice', 419),\n ('advisability', 420),\n ('advisable', 421),\n ('advise', 422),\n ('advised', 423),\n ('adviser', 424),\n ('advisers', 425),\n ('advises', 426),\n ('advising', 427),\n ('advisor', 428),\n ('advisors', 429),\n ('advisory', 430),\n ('advocacy', 431),\n ('advocate', 432),\n ('advocated', 433),\n ('advocates', 434),\n ('advocating', 435),\n ('aegis', 436),\n ('aerial', 437),\n ('aero', 438),\n ('aerodrome', 439),\n ('aerodromes', 440),\n ('aerogen', 441),\n ('aeronautic', 442),\n ('aeronautical', 443),\n ('aeronautics', 444),\n ('aeroplane', 445),\n ('aerosol', 446),\n ('aerosols', 447),\n ('aerospace', 448),\n ('aesthetics', 449),\n ('afar', 450),\n ('affair', 451),\n ('affairs', 452),\n ('affect', 453),\n ('affectation', 454),\n ('affected', 455),\n ('affecting', 456),\n ('affection', 457),\n ('affective', 458),\n ('affects', 459),\n ('afferent', 460),\n ('affidavit', 461),\n ('affidavits', 462),\n ('affiliate', 463),\n ('affiliated', 464),\n ('affiliates', 465),\n ('affiliation', 466),\n ('affinities', 467),\n ('affinity', 468),\n ('affirm', 469),\n ('affirmation', 470),\n ('affirmative', 471),\n ('affirmed', 472),\n ('affirming', 473),\n ('affirms', 474),\n ('affix', 475),\n ('affixed', 476),\n ('affixing', 477),\n ('afflicted', 478),\n ('affluent', 479),\n ('afford', 480),\n ('affordability', 481),\n ('affordable', 482),\n ('affordably', 483),\n ('afforded', 484),\n ('affording', 485),\n ('affords', 486),\n ('afforestation', 487),\n ('afforested', 488),\n ('afield', 489),\n ('afloat', 490),\n ('afoot', 491),\n ('afore', 492),\n ('aforementioned', 493),\n ('afraid', 494),\n ('afresh', 495),\n ('aftercare', 496),\n ('aftereffects', 497),\n ('aftermath', 498),\n ('aftermaths', 499),\n ('afternoon', 500),\n ('afterschool', 501),\n ('aftershocks', 502),\n ('afterward', 503),\n ('aged', 504),\n ('ageism', 505),\n ('agencies', 506),\n ('agency', 507),\n ('agenda', 508),\n ('agendas', 509),\n ('agent', 510),\n ('agents', 511),\n ('ages', 512),\n ('ageusia', 513),\n ('agglomerates', 514),\n ('agglomeration', 515),\n ('agglomerations', 516),\n ('aggravate', 517),\n ('aggravated', 518),\n ('aggravates', 519),\n ('aggravating', 520),\n ('aggravation', 521),\n ('aggregate', 522),\n ('aggregated', 523),\n ('aggregates', 524),\n ('aggregating', 525),\n ('aggregation', 526),\n ('aggregations', 527),\n ('aggregator', 528),\n ('aggregators', 529),\n ('aggression', 530),\n ('aggressive', 531),\n ('aggressively', 532),\n ('aggressors', 533),\n ('aggrieved', 534),\n ('agile', 535),\n ('agility', 536),\n ('aging', 537),\n ('agitation', 538),\n ('agnostic', 539),\n ('agonists', 540),\n ('agora', 541),\n ('agrarian', 542),\n ('agree', 543),\n ('agreed', 544),\n ('agreeing', 545),\n ('agreement', 546),\n ('agreements', 547),\n ('agrees', 548),\n ('agricole', 549),\n ('agricultural', 550),\n ('agriculturally', 551),\n ('agriculture', 552),\n ('agronomic', 553),\n ('aground', 554),\n ('ahead', 555),\n ('aide', 556),\n ('aided', 557),\n ('aides', 558),\n ('aiding', 559),\n ('aids', 560),\n ('ailing', 561),\n ('ailments', 562),\n ('aimed', 563),\n ('aiming', 564),\n ('aims', 565),\n ('airborne', 566),\n ('airbus', 567),\n ('aircraft', 568),\n ('aircrew', 569),\n ('aire', 570),\n ('aired', 571),\n ('airfield', 572),\n ('airfields', 573),\n ('airflow', 574),\n ('airframe', 575),\n ('airing', 576),\n ('airline', 577),\n ('airlines', 578),\n ('airmen', 579),\n ('airplane', 580),\n ('airplanes', 581),\n ('airport', 582),\n ('airports', 583),\n ('airshow', 584),\n ('airspace', 585),\n ('airtime', 586),\n ('airwaves', 587),\n ('airway', 588),\n ('airways', 589),\n ('airworthiness', 590),\n ('aisles', 591),\n ('aisling', 592),\n ('ajar', 593),\n ('akin', 594),\n ('alabaster', 595),\n ('alan', 596),\n ('alarm', 597),\n ('alarming', 598),\n ('alarmingly', 599),\n ('alarms', 600),\n ('alba', 601),\n ('albeit', 602),\n ('album', 603),\n ('albums', 604),\n ('alcazar', 605),\n ('alco', 606),\n ('alcohol', 607),\n ('alcoholate', 608),\n ('alcoholic', 609),\n ('alcohols', 610),\n ('aldine', 611),\n ('alert', 612),\n ('alerted', 613),\n ('alerting', 614),\n ('alerts', 615),\n ('alfa', 616),\n ('algae', 617),\n ('algal', 618),\n ('algorithm', 619),\n ('algorithmic', 620),\n ('algorithms', 621),\n ('alibis', 622),\n ('alien', 623),\n ('alienated', 624),\n ('alienation', 625),\n ('aliens', 626),\n ('alight', 627),\n ('align', 628),\n ('aligned', 629),\n ('aligning', 630),\n ('alignment', 631),\n ('alignments', 632),\n ('aligns', 633),\n ('alike', 634),\n ('alimentation', 635),\n ('alimony', 636),\n ('alin', 637),\n ('aliphatic', 638),\n ('aliquot', 639),\n ('alison', 640),\n ('alive', 641),\n ('alkali', 642),\n ('alkaline', 643),\n ('alkaloids', 644),\n ('alkyl', 645),\n ('alkylate', 646),\n ('allay', 647),\n ('allaying', 648),\n ('allegation', 649),\n ('allegations', 650),\n ('alleged', 651),\n ('allegedly', 652),\n ('allegiances', 653),\n ('alleging', 654),\n ('allegorical', 655),\n ('allegro', 656),\n ('allergens', 657),\n ('allergic', 658),\n ('allergies', 659),\n ('allergy', 660),\n ('alleviate', 661),\n ('alleviated', 662),\n ('alleviates', 663),\n ('alleviating', 664),\n ('alleviation', 665),\n ('alley', 666),\n ('alleys', 667),\n ('alliance', 668),\n ('alliances', 669),\n ('allied', 670),\n ('allies', 671),\n ('allocate', 672),\n ('allocated', 673),\n ('allocates', 674),\n ('allocating', 675),\n ('allocation', 676),\n ('allocations', 677),\n ('allogenic', 678),\n ('allometric', 679),\n ('allot', 680),\n ('allotments', 681),\n ('allotted', 682),\n ('allow', 683),\n ('allowable', 684),\n ('allowance', 685),\n ('allowances', 686),\n ('allowed', 687),\n ('allowing', 688),\n ('allows', 689),\n ('alloys', 690),\n ('alluded', 691),\n ('alludes', 692),\n ('ally', 693),\n ('allyl', 694),\n ('alongside', 695),\n ('alopecia', 696),\n ('alow', 697),\n ('alpha', 698),\n ('alphabetical', 699),\n ('alphanumeric', 700),\n ('alpine', 701),\n ('alps', 702),\n ('alter', 703),\n ('alteration', 704),\n ('alterations', 705),\n ('altered', 706),\n ('altering', 707),\n ('alternance', 708),\n ('alternate', 709),\n ('alternated', 710),\n ('alternately', 711),\n ('alternates', 712),\n ('alternating', 713),\n ('alternation', 714),\n ('alternative', 715),\n ('alternatively', 716),\n ('alternatives', 717),\n ('alters', 718),\n ('altitude', 719),\n ('altitudes', 720),\n ('alto', 721),\n ('altogether', 722),\n ('altruism', 723),\n ('altruistic', 724),\n ('aluminate', 725),\n ('aluminium', 726),\n ('alumni', 727),\n ('alumnus', 728),\n ('amalgam', 729),\n ('amalgamated', 730),\n ('amalgamates', 731),\n ('amalgamation', 732),\n ('amateur', 733),\n ('amazed', 734),\n ('amazing', 735),\n ('amazon', 736),\n ('ambassador', 737),\n ('ambassadorial', 738),\n ('ambassadors', 739),\n ('amber', 740),\n ('ambient', 741),\n ('ambiguities', 742),\n ('ambiguity', 743),\n ('ambiguous', 744),\n ('ambit', 745),\n ('ambition', 746),\n ('ambitions', 747),\n ('ambitious', 748),\n ('ambitiously', 749),\n ('ambitiousness', 750),\n ('ambivalent', 751),\n ('ambrosia', 752),\n ('ambulance', 753),\n ('ambulances', 754),\n ('ambulant', 755),\n ('ambulatory', 756),\n ('ameliorate', 757),\n ('ameliorated', 758),\n ('ameliorative', 759),\n ('amend', 760),\n ('amended', 761),\n ('amending', 762),\n ('amendment', 763),\n ('amendments', 764),\n ('amends', 765),\n ('amenities', 766),\n ('amenity', 767),\n ('amicable', 768),\n ('amicably', 769),\n ('amice', 770),\n ('amid', 771),\n ('amidst', 772),\n ('amines', 773),\n ('amino', 774),\n ('amir', 775),\n ('amiss', 776),\n ('amman', 777),\n ('ammonia', 778),\n ('ammonium', 779),\n ('ammunition', 780),\n ('amnesties', 781),\n ('amnesty', 782),\n ('amortization', 783),\n ('amortizations', 784),\n ('amortize', 785),\n ('amounted', 786),\n ('amounting', 787),\n ('amounts', 788),\n ('amphetamines', 789),\n ('amphibian', 790),\n ('amphibians', 791),\n ('amphibious', 792),\n ('ample', 793),\n ('amplification', 794),\n ('amplified', 795),\n ('amplifier', 796),\n ('amplifies', 797),\n ('amplify', 798),\n ('amplifying', 799),\n ('amplitude', 800),\n ('amply', 801),\n ('amputations', 802),\n ('amused', 803),\n ('amusement', 804),\n ('anaemia', 805),\n ('anaemic', 806),\n ('anaerobic', 807),\n ('anaesthesia', 808),\n ('analgesic', 809),\n ('analog', 810),\n ('analogous', 811),\n ('analogue', 812),\n ('analogy', 813),\n ('analysable', 814),\n ('analyse', 815),\n ('analyser', 816),\n ('analyses', 817),\n ('analysis', 818),\n ('analyst', 819),\n ('analysts', 820),\n ('analytic', 821),\n ('analytical', 822),\n ('analytically', 823),\n ('analytics', 824),\n ('analyze', 825),\n ('analyzed', 826),\n ('analyzes', 827),\n ('analyzing', 828),\n ('anastasis', 829),\n ('anatomically', 830),\n ('ancestors', 831),\n ('anchor', 832),\n ('anchored', 833),\n ('anchoring', 834),\n ('anchors', 835),\n ('ancient', 836),\n ('ancillary', 837),\n ('androgen', 838),\n ('androgenic', 839),\n ('andron', 840),\n ('anecdotal', 841),\n ('anecdotally', 842),\n ('anew', 843),\n ('angel', 844),\n ('angels', 845),\n ('anger', 846),\n ('angers', 847),\n ('angiography', 848),\n ('angle', 849),\n ('angles', 850),\n ('angling', 851),\n ('angular', 852),\n ('animal', 853),\n ('animals', 854),\n ('animate', 855),\n ('animated', 856),\n ('animating', 857),\n ('animation', 858),\n ('animations', 859),\n ('anions', 860),\n ('anna', 861),\n ('annealing', 862),\n ('annex', 863),\n ('annexed', 864),\n ('annexes', 865),\n ('annexing', 866),\n ('annihilating', 867),\n ('anniversaries', 868),\n ('anniversary', 869),\n ('annotated', 870),\n ('annotation', 871),\n ('annotations', 872),\n ('announce', 873),\n ('announced', 874),\n ('announcement', 875),\n ('announcements', 876),\n ('announces', 877),\n ('announcing', 878),\n ('annoyance', 879),\n ('annual', 880),\n ('annually', 881),\n ('annuals', 882),\n ('annuities', 883),\n ('annuity', 884),\n ('annul', 885),\n ('annulated', 886),\n ('annulled', 887),\n ('annulling', 888),\n ('annulment', 889),\n ('annulments', 890),\n ('annuls', 891),\n ('anode', 892),\n ('anomalies', 893),\n ('anomalous', 894),\n ('anomaly', 895),\n ('anonymity', 896),\n ('anonymous', 897),\n ('anonymously', 898),\n ('anosmia', 899),\n ('answer', 900),\n ('answerable', 901),\n ('answered', 902),\n ('answering', 903),\n ('answers', 904),\n ('antagonism', 905),\n ('antagonist', 906),\n ('ante', 907),\n ('antenatal', 908),\n ('antenna', 909),\n ('antennae', 910),\n ('antennas', 911),\n ('anthelmintic', 912),\n ('anthem', 913),\n ('anthology', 914),\n ('anthrax', 915),\n ('anthropic', 916),\n ('anthropogenic', 917),\n ('anthropological', 918),\n ('anti', 919),\n ('antibacterial', 920),\n ('antibiotic', 921),\n ('antibiotics', 922),\n ('antibodies', 923),\n ('antibody', 924),\n ('anticipate', 925),\n ('anticipated', 926),\n ('anticipates', 927),\n ('anticipating', 928),\n ('anticipation', 929),\n ('anticipative', 930),\n ('anticipatory', 931),\n ('antidotes', 932),\n ('antidumping', 933),\n ('antifoam', 934),\n ('antigen', 935),\n ('antigenic', 936),\n ('antigens', 937),\n ('antimicrobial', 938),\n ('antimony', 939),\n ('antioxidant', 940),\n ('antioxidants', 941),\n ('antiparasitic', 942),\n ('antiquities', 943),\n ('antiseismic', 944),\n ('antiseptic', 945),\n ('antiseptics', 946),\n ('antisocial', 947),\n ('antitoxins', 948),\n ('antitrust', 949),\n ('antiviral', 950),\n ('antivirals', 951),\n ('antivirus', 952),\n ('antlers', 953),\n ('ants', 954),\n ('anxieties', 955),\n ('anxiety', 956),\n ('anxious', 957),\n ('anybody', 958),\n ('anymore', 959),\n ('anytime', 960),\n ('anyways', 961),\n ('apace', 962),\n ('apart', 963),\n ('apartment', 964),\n ('apartments', 965),\n ('aperture', 966),\n ('apiary', 967),\n ('apiculture', 968),\n ('aplastic', 969),\n ('apocalypse', 970),\n ('apolitical', 971),\n ('apologies', 972),\n ('apology', 973),\n ('apostoli', 974),\n ('appalled', 975),\n ('appalling', 976),\n ('apparatus', 977),\n ('apparel', 978),\n ('apparent', 979),\n ('apparently', 980),\n ('appeal', 981),\n ('appealable', 982),\n ('appealed', 983),\n ('appealing', 984),\n ('appeals', 985),\n ('appear', 986),\n ('appearance', 987),\n ('appearances', 988),\n ('appeared', 989),\n ('appearing', 990),\n ('appears', 991),\n ('appeasing', 992),\n ('appellant', 993),\n ('appellate', 994),\n ('appended', 995),\n ('appendices', 996),\n ('appendix', 997),\n ('appendixes', 998),\n ('appetite', 999),\n ...]"
     },
     "execution_count": 206,
     "metadata": {},
     "output_type": "execute_result"
    }
   ],
   "source": [
    "sorted(tmp_words, key=cmp_to_key(custom_cmp))\n",
    "\n",
    "\n",
    "\n"
   ],
   "metadata": {
    "collapsed": false,
    "pycharm": {
     "name": "#%%\n"
    }
   }
  }
 ],
 "metadata": {
  "kernelspec": {
   "display_name": "Python 3",
   "language": "python",
   "name": "python3"
  },
  "language_info": {
   "codemirror_mode": {
    "name": "ipython",
    "version": 2
   },
   "file_extension": ".py",
   "mimetype": "text/x-python",
   "name": "python",
   "nbconvert_exporter": "python",
   "pygments_lexer": "ipython2",
   "version": "2.7.6"
  }
 },
 "nbformat": 4,
 "nbformat_minor": 0
}