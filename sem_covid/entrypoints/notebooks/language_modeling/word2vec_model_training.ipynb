{
 "cells": [
  {
   "cell_type": "markdown",
   "metadata": {
    "collapsed": true,
    "pycharm": {
     "name": "#%% md\n"
    }
   },
   "source": [
    "## Word2vec model training\n",
    "#### Model training based on three datasets' text data:\n",
    "- M1: pwdb + eu_timeline  ( +  ireland_timeline )\n",
    "- M2: ds_eu_cellar\n",
    "- M3: M1+M2\n",
    "\n",
    "#### Extract NOUN and NOUN PHRASES from each text data\n",
    "#### Train the word2vec model with each dataset's textual data"
   ]
  },
  {
   "cell_type": "markdown",
   "source": [
    "### Import libraries"
   ],
   "metadata": {
    "collapsed": false,
    "pycharm": {
     "name": "#%% md\n"
    }
   }
  },
  {
   "cell_type": "code",
   "execution_count": 181,
   "outputs": [],
   "source": [
    "import sys\n",
    "sys.path.append(\"/home/jovyan/work/sem-covid/\")\n",
    "sys.path = list(set(sys.path))\n",
    "\n",
    "import os\n",
    "os.getcwd()\n",
    "os.chdir('/home/jovyan/work/sem-covid/')\n",
    "\n",
    "import warnings\n",
    "warnings.filterwarnings(\"ignore\", category=DeprecationWarning)\n",
    "\n",
    "from typing import List, Tuple\n",
    "\n",
    "import spacy\n",
    "nlp = spacy.load('en_core_web_sm')\n",
    "\n",
    "import numpy as np\n",
    "import pandas as pd\n",
    "import networkx as nx\n",
    "from gensim.models import Word2Vec\n",
    "from d3graph import d3graph\n",
    "import plotly.express as px\n",
    "\n",
    "from sem_covid.services.data_registry import Dataset\n",
    "from sem_covid.adapters.data_source import IndexTabularDataSource\n",
    "\n",
    "from sem_covid.entrypoints.notebooks.topic_modeling.topic_modeling_wrangling.token_management import select_pos\n",
    "\n",
    "from sem_covid.services.sc_wrangling.data_cleaning import (clean_text_from_specific_characters, clean_fix_unicode,\n",
    "                                                           clean_remove_currency_symbols, clean_remove_emails,\n",
    "                                                           clean_remove_urls, clean_remove_stopwords)\n",
    "\n",
    "from sem_covid.entrypoints.notebooks.language_modeling.language_model_tools.similarity_calculus import (\n",
    "    euclidean_similarity, manhattan_similarity, cosine_similarity, get_similarity_matrix)\n",
    "\n",
    "from sem_covid.entrypoints.notebooks.language_modeling.language_model_tools.document_handling_tools import(\n",
    "    document_atomization_noun_phrases, lemmatize_document)\n",
    "\n",
    "from sem_covid.entrypoints.notebooks.language_modeling.language_model_tools.word_embeddings_handler import (\n",
    "    select_words_and_embedding_clusters, create_tsne_model, create_word_clusters_matrix)"
   ],
   "metadata": {
    "collapsed": false,
    "pycharm": {
     "name": "#%%\n"
    }
   }
  },
  {
   "cell_type": "markdown",
   "source": [
    "## Define constants"
   ],
   "metadata": {
    "collapsed": false
   }
  },
  {
   "cell_type": "code",
   "execution_count": 13,
   "outputs": [],
   "source": [
    "PWDB_TEXTUAL_CLASS = ['title', 'background_info_description', 'content_of_measure_description',\n",
    "                      'use_of_measure_description', 'involvement_of_social_partners_description']\n",
    "\n",
    "DEFAULT_TEXTUAL_COLUMN = ['title']\n",
    "WINDOW = 5\n",
    "MIN_COUNT = 1\n",
    "VECTOR_SIZE = 300\n",
    "EPOCHS = 50\n",
    "EU_TIMELINE_TOTAL_EXAMPLES = 171\n",
    "IRELAND_TIMELINE_TOTAL_EXAMPLES = 410\n",
    "EU_CELLAR_TOTAL_EXAMPLES = 2653"
   ],
   "metadata": {
    "collapsed": false,
    "pycharm": {
     "name": "#%%\n"
    }
   }
  },
  {
   "cell_type": "markdown",
   "source": [
    "## Data preprocessing\n",
    "- data cleanup\n",
    "- turn corpus into spacy document"
   ],
   "metadata": {
    "collapsed": false
   }
  },
  {
   "cell_type": "code",
   "execution_count": 182,
   "outputs": [],
   "source": [
    "def apply_cleaning_functions(document_corpus: pd.Series) -> pd.Series:\n",
    "    \"\"\"\n",
    "    This function receives the document and leads through cleaning steps\n",
    "    Args:\n",
    "        document_corpus: dataset document corpus\n",
    "\n",
    "    Returns: clean document corpus\n",
    "    \"\"\"\n",
    "    unused_characters = [\"\\\\r\", \">\", \"\\n\", \"\\\\\", \"<\", \"''\", \"%\", \"...\", \"\\'\", '\"', \"(\", \"\\n\", \"*\", \"1)\", \"2)\", \"3)\",\n",
    "                         \"[\", \"]\", \"-\", \"_\", \"\\r\"]\n",
    "\n",
    "    new_document_corpus = document_corpus.apply(clean_text_from_specific_characters, characters=unused_characters)\n",
    "    new_document_corpus = new_document_corpus.apply(clean_fix_unicode)\n",
    "    new_document_corpus = new_document_corpus.apply(clean_remove_urls)\n",
    "    new_document_corpus = new_document_corpus.apply(clean_remove_emails)\n",
    "    new_document_corpus = new_document_corpus.apply(clean_remove_currency_symbols)\n",
    "    new_document_corpus = new_document_corpus.apply(clean_remove_stopwords)\n",
    "\n",
    "    return new_document_corpus\n",
    "\n",
    "\n",
    "def generate_graph(similarity_matrix: pd.DataFrame, graph: nx.Graph, root_word: str, top_words: int,\n",
    "                   threshold:np.float64 = 0.8, deep_level: int = 0, max_deep_level: int = 2) -> nx.Graph:\n",
    "    if deep_level > max_deep_level:\n",
    "        return graph\n",
    "    new_nodes = similarity_matrix[root_word].sort_values(ascending=False)[:top_words].index.to_list()\n",
    "    new_nodes_weight = list(similarity_matrix[root_word].sort_values(ascending=False)[:top_words].values)\n",
    "    for index in range(0, len(new_nodes)):\n",
    "        if new_nodes_weight[index] >= threshold:\n",
    "            graph.add_edge(root_word, new_nodes[index])\n",
    "            generate_graph(similarity_matrix, graph, new_nodes[index], top_words, threshold, deep_level+1, max_deep_level)\n",
    "\n",
    "    return graph\n",
    "\n",
    "\n",
    "def create_graph_for_language_model_key_words(similarity_matrix: pd.DataFrame, language_model_words: list,\n",
    "                                              model_number: int) -> d3graph:\n",
    "    \"\"\"\n",
    "    !!! This is not reusable function. It was made for a single thing !!!\n",
    "\n",
    "    It generates d3graph based on language model selected words and and the similarity\n",
    "    matrix created with those words.\n",
    "    \"\"\"\n",
    "    graph_folder_path = f'docs/word-similarity-web/model{model_number}_graphs/'\n",
    "    for index in range(0, len(language_model_words)):\n",
    "        graph = generate_graph(similarity_matrix, nx.Graph(), language_model_words[index],\n",
    "                               top_words=4, threshold=0.5 ,max_deep_level=2)\n",
    "        network_adjacency_matrix = pd.DataFrame(data=nx.adjacency_matrix(graph).todense(),\n",
    "                                                index=graph.nodes(), columns=graph.nodes())\n",
    "        d3graph(network_adjacency_matrix, savepath=graph_folder_path, savename=language_model_words[index],\n",
    "                node_color=network_adjacency_matrix.columns.values, width=1920, height=1080, edge_width=5,\n",
    "                edge_distance=60, directed=True)"
   ],
   "metadata": {
    "collapsed": false,
    "pycharm": {
     "name": "#%%\n"
    }
   }
  },
  {
   "cell_type": "code",
   "execution_count": 183,
   "outputs": [],
   "source": [
    "class LanguageModelPipeline:\n",
    "    \"\"\"\n",
    "        This pipeline executes the steps for word2vec language training.\n",
    "    \"\"\"\n",
    "\n",
    "    def __init__(self, dataset_sources: List[Tuple[IndexTabularDataSource, List[str]]]):\n",
    "        \"\"\"\n",
    "            :param dataset_sources: represents the source of the datasets.\n",
    "        \"\"\"\n",
    "        self.dataset_sources = dataset_sources\n",
    "        self.documents_corpus = pd.Series()\n",
    "        self.word2vec = None\n",
    "\n",
    "    def download_datasets(self):\n",
    "        \"\"\"\n",
    "            In this step it will download the dataset and detect selected columns.\n",
    "            It can be downloaded as many datasets as there are in data source.\n",
    "        \"\"\"\n",
    "        self.dataset_sources = [(dataset_columns, dataset_source.fetch())\n",
    "                                for dataset_source, dataset_columns in self.dataset_sources]\n",
    "\n",
    "    def extract_textual_data(self):\n",
    "        \"\"\"\n",
    "            After downloading the datasets, the textual data will be found and and concatenated\n",
    "            with executing of several steps as well. It will fill the NaN values with empty space,\n",
    "            add a dot at the end of each concatenated column and reset the index.\n",
    "        \"\"\"\n",
    "        self.documents_corpus = pd.concat([dataset[columns]\n",
    "                                          .fillna(value=\"\")\n",
    "                                          .agg('. '.join, axis=1)\n",
    "                                          .reset_index(drop=True)\n",
    "                                           for columns, dataset in self.dataset_sources\n",
    "                                           ], ignore_index=True)\n",
    "\n",
    "    def clean_textual_data(self):\n",
    "        \"\"\"\n",
    "            The next step is data cleaning. In this step the function \"apply_cleaning_functions\"\n",
    "            applies the following actions:\n",
    "                - clean the document from specific characters\n",
    "                - delete unicode\n",
    "                - removes emails and URLs and currency symbols\n",
    "        \"\"\"\n",
    "        self.documents_corpus = apply_cleaning_functions(self.documents_corpus)\n",
    "\n",
    "    def transform_to_spacy_doc(self):\n",
    "        \"\"\"\n",
    "            When the document is clean, is going to be transform into spacy document\n",
    "        \"\"\"\n",
    "        self.documents_corpus = self.documents_corpus.apply(nlp)\n",
    "\n",
    "    def extract_features(self):\n",
    "        \"\"\"\n",
    "            To extract the parts of speech, below it was defined classes for each token is necessary.\n",
    "        \"\"\"\n",
    "        self.documents_corpus = pd.concat([self.documents_corpus,\n",
    "                                           self.documents_corpus.apply(document_atomization_noun_phrases),\n",
    "                                           self.documents_corpus.apply(lemmatize_document)]\n",
    "                                           ,ignore_index=True)\n",
    "\n",
    "        self.documents_corpus = self.documents_corpus.apply(lambda x: list(map(str, x)))\n",
    "\n",
    "    def model_training(self):\n",
    "        \"\"\"\n",
    "            When the data is prepared it's stored into Word2Vec model.\n",
    "        \"\"\"\n",
    "        self.word2vec = Word2Vec(sentences=self.documents_corpus, window=WINDOW,\n",
    "                                 min_count=MIN_COUNT, vector_size=VECTOR_SIZE)\n",
    "\n",
    "    def execute(self):\n",
    "        \"\"\"\n",
    "            The final step is execution, where are stored each step and it will be executed in a row\n",
    "        \"\"\"\n",
    "        self.download_datasets()\n",
    "        self.extract_textual_data()\n",
    "        self.clean_textual_data()\n",
    "        self.transform_to_spacy_doc()\n",
    "        self.extract_features()\n",
    "        self.model_training()\n",
    "\n",
    "\n",
    "class LanguageModelWordsFilter:\n",
    "    def __init__(self, word2vec_model: Word2Vec, key_words: List[str], pos: List[str]) -> None:\n",
    "        self.word2vec_model = word2vec_model\n",
    "        self.key_words = key_words\n",
    "        self.pos = pos\n",
    "        self.word2vec_document = None\n",
    "\n",
    "    def extract_pos(self) -> List[str]:\n",
    "        \"\"\"\n",
    "            transforms a word2vec indexes into spacy document and selects parts of\n",
    "            speech. After that it puts into a list and converts those parts of speech\n",
    "            into strings.\n",
    "        \"\"\"\n",
    "        self.word2vec_document = nlp(str(self.word2vec_model.wv.index_to_key))\n",
    "        self.word2vec_document = select_pos(self.word2vec_document, self.pos)\n",
    "\n",
    "        return list(map(str, self.word2vec_document))\n",
    "\n",
    "    def select_key_words(self) -> List[str]:\n",
    "        \"\"\"\n",
    "            Finds each word form inserted list of key words and returns a\n",
    "            list with those words if there are presented in the list of\n",
    "            extracted parts of speech.\n",
    "        \"\"\"\n",
    "        return [word for word in self.key_words if word in self.extract_pos()]\n",
    "\n",
    "    def select_pos_index(self) -> list:\n",
    "        \"\"\"\n",
    "            Detects the part of speech indexes and returns them into a list\n",
    "        \"\"\"\n",
    "        return [self.word2vec_model.wv.index_to_key.index(token) for token in self.extract_pos()\n",
    "                if token in self.word2vec_model.wv.index_to_key]\n",
    "\n",
    "    def select_pos_embeddings(self) -> list:\n",
    "        \"\"\"\n",
    "            Detects part of speech embeddings from their indexes\n",
    "        \"\"\"\n",
    "        return [self.word2vec_model.wv.vectors[index] for index in self.select_pos_index()]"
   ],
   "metadata": {
    "collapsed": false,
    "pycharm": {
     "name": "#%%\n"
    }
   }
  },
  {
   "cell_type": "markdown",
   "source": [
    "## Experiment Nr#1 language model based on:\n",
    "- PWDB\n",
    "- eu-timeline\n",
    "- ireland-timeline"
   ],
   "metadata": {
    "collapsed": false,
    "pycharm": {
     "name": "#%% md\n"
    }
   }
  },
  {
   "cell_type": "code",
   "execution_count": 44,
   "outputs": [
    {
     "name": "stderr",
     "output_type": "stream",
     "text": [
      "100% (1288 of 1288) |####################| Elapsed Time: 0:00:00 Time:  0:00:00\n",
      "100% (171 of 171) |######################| Elapsed Time: 0:00:00 Time:  0:00:00\n",
      "100% (410 of 410) |######################| Elapsed Time: 0:00:00 Time:  0:00:00\n"
     ]
    }
   ],
   "source": [
    "dataset_sources_config = [\n",
    "    (Dataset.PWDB, PWDB_TEXTUAL_CLASS),\n",
    "    (Dataset.EU_ACTION_TIMELINE, DEFAULT_TEXTUAL_COLUMN),\n",
    "    (Dataset.IRELAND_ACTION_TIMELINE, DEFAULT_TEXTUAL_COLUMN)\n",
    "]\n",
    "model1_language_model_pipeline = LanguageModelPipeline(dataset_sources=dataset_sources_config)\n",
    "model1_language_model_pipeline.execute()"
   ],
   "metadata": {
    "collapsed": false,
    "pycharm": {
     "name": "#%%\n"
    }
   }
  },
  {
   "cell_type": "markdown",
   "source": [
    "## Experiment Nr#2 language model based on:\n",
    "- eu-cellar\n"
   ],
   "metadata": {
    "collapsed": false,
    "pycharm": {
     "name": "#%% md\n"
    }
   }
  },
  {
   "cell_type": "code",
   "execution_count": 16,
   "outputs": [
    {
     "name": "stderr",
     "output_type": "stream",
     "text": [
      "100% (2653 of 2653) |####################| Elapsed Time: 0:00:01 Time:  0:00:01\n"
     ]
    }
   ],
   "source": [
    "dataset_sources_config = [\n",
    "    (Dataset.EU_CELLAR, DEFAULT_TEXTUAL_COLUMN)\n",
    "]\n",
    "model2_language_model_pipeline = LanguageModelPipeline(dataset_sources=dataset_sources_config)\n",
    "model2_language_model_pipeline.execute()"
   ],
   "metadata": {
    "collapsed": false,
    "pycharm": {
     "name": "#%%\n"
    }
   }
  },
  {
   "cell_type": "markdown",
   "source": [
    "## Experiment Nr#3 language model based on:\n",
    "- PWDB\n",
    "- eu-timeline\n",
    "- ireland-timeline\n",
    "- eu-cellar"
   ],
   "metadata": {
    "collapsed": false,
    "pycharm": {
     "name": "#%% md\n"
    }
   }
  },
  {
   "cell_type": "code",
   "execution_count": 145,
   "outputs": [],
   "source": [
    "dataset_sources_config = [\n",
    "    (Dataset.PWDB, PWDB_TEXTUAL_CLASS),\n",
    "    (Dataset.EU_ACTION_TIMELINE, DEFAULT_TEXTUAL_COLUMN),\n",
    "    (Dataset.IRELAND_ACTION_TIMELINE, DEFAULT_TEXTUAL_COLUMN),\n",
    "    (Dataset.EU_CELLAR, DEFAULT_TEXTUAL_COLUMN)\n",
    "]\n",
    "model3_language_model_pipeline = LanguageModelPipeline(dataset_sources=dataset_sources_config)\n",
    "model3_language_model_pipeline.execute()"
   ],
   "metadata": {
    "collapsed": false,
    "pycharm": {
     "name": "#%%\n"
    }
   }
  },
  {
   "cell_type": "code",
   "execution_count": null,
   "outputs": [],
   "source": [
    "key_words = ['work', 'agreement', 'working', 'companies', 'workers',\n",
    "             'measures', 'temporary', 'social', 'support', 'covid19',\n",
    "             '2020', 'public', 'national', 'ireland', 'statement', '2021',\n",
    "             'announce', 'health', 'minister', 'new', 'billion', 'coronavirus',\n",
    "             'vaccine', 'eur', 'support', 'million', 'commission', 'eu']\n",
    "\n",
    "model1_language_model_filter = LanguageModelWordsFilter(model1_language_model_pipeline.word2vec,\n",
    "                                                 key_words, pos=['NOUN', 'ADJ'])\n",
    "\n",
    "model2_language_model_filter = LanguageModelWordsFilter(model2_language_model_pipeline.word2vec,\n",
    "                                                 key_words, pos=['NOUN', 'ADJ'])\n",
    "\n",
    "model3_language_model_filter = LanguageModelWordsFilter(model3_language_model_pipeline.word2vec,\n",
    "                                                 key_words, pos=['NOUN', 'ADJ'])"
   ],
   "metadata": {
    "collapsed": false,
    "pycharm": {
     "name": "#%%\n"
    }
   }
  },
  {
   "cell_type": "markdown",
   "source": [
    "## Similarity matrices\n",
    "### Euclidean similarity"
   ],
   "metadata": {
    "collapsed": false
   }
  },
  {
   "cell_type": "code",
   "execution_count": 149,
   "outputs": [
    {
     "data": {
      "text/plain": "                     social   measure   covid19   support  government  \\\nsocial             1.000000  0.045414  0.036553  0.040688    0.038418   \nmeasure            0.045414  1.000000  0.040072  0.052514    0.045136   \ncovid19            0.036553  0.040072  1.000000  0.040927    0.038312   \nsupport            0.040688  0.052514  0.040927  1.000000    0.044290   \ngovernment         0.038418  0.045136  0.038312  0.044290    1.000000   \n...                     ...       ...       ...       ...         ...   \nappearance         0.049397  0.060178  0.050684  0.062111    0.050361   \nwalloniebruxelle   0.049346  0.060070  0.050557  0.062157    0.050291   \ninvest.brussel     0.049368  0.060048  0.050609  0.062105    0.050259   \ndeadlines.flander  0.049364  0.060149  0.050561  0.062092    0.050297   \ncolive             0.049391  0.060187  0.050696  0.062148    0.050333   \n\n                    company  employees  measures    period  companies  ...  \\\nsocial             0.038948   0.041439  0.042446  0.041354   0.041731  ...   \nmeasure            0.046630   0.046503  0.097676  0.053653   0.053452  ...   \ncovid19            0.044664   0.043341  0.043267  0.045235   0.046020  ...   \nsupport            0.045513   0.048725  0.048246  0.048973   0.053119  ...   \ngovernment         0.041164   0.041489  0.045369  0.043063   0.043451  ...   \n...                     ...        ...       ...       ...        ...  ...   \nappearance         0.068271   0.066202  0.057942  0.073440   0.073691  ...   \nwalloniebruxelle   0.068264   0.066135  0.057774  0.073270   0.073689  ...   \ninvest.brussel     0.068202   0.066131  0.057793  0.073115   0.073582  ...   \ndeadlines.flander  0.068185   0.066235  0.057867  0.073352   0.073497  ...   \ncolive             0.068280   0.066130  0.057945  0.073408   0.073675  ...   \n\n                    outlook   revisit    skille  consutle  pedagogue  \\\nsocial             0.049398  0.049399  0.049402  0.049401   0.049373   \nmeasure            0.060099  0.060079  0.060139  0.060107   0.060043   \ncovid19            0.050691  0.050640  0.050615  0.050556   0.050566   \nsupport            0.062091  0.062080  0.062247  0.062099   0.062089   \ngovernment         0.050292  0.050257  0.050279  0.050318   0.050251   \n...                     ...       ...       ...       ...        ...   \nappearance         0.924269  0.882282  0.881245  0.881813   0.895364   \nwalloniebruxelle   0.871843  0.866184  0.878068  0.867170   0.895470   \ninvest.brussel     0.884120  0.878707  0.885699  0.878762   0.896787   \ndeadlines.flander  0.880254  0.878745  0.889340  0.879620   0.896835   \ncolive             0.918176  0.894485  0.895129  0.885964   0.894463   \n\n                   appearance  walloniebruxelle  invest.brussel  \\\nsocial               0.049397          0.049346        0.049368   \nmeasure              0.060178          0.060070        0.060048   \ncovid19              0.050684          0.050557        0.050609   \nsupport              0.062111          0.062157        0.062105   \ngovernment           0.050361          0.050291        0.050259   \n...                       ...               ...             ...   \nappearance           1.000000          0.875456        0.874494   \nwalloniebruxelle     0.875456          1.000000        0.876839   \ninvest.brussel       0.874494          0.876839        1.000000   \ndeadlines.flander    0.873430          0.846993        0.878381   \ncolive               0.920749          0.875342        0.890829   \n\n                   deadlines.flander    colive  \nsocial                      0.049364  0.049391  \nmeasure                     0.060149  0.060187  \ncovid19                     0.050561  0.050696  \nsupport                     0.062092  0.062148  \ngovernment                  0.050297  0.050333  \n...                              ...       ...  \nappearance                  0.873430  0.920749  \nwalloniebruxelle            0.846993  0.875342  \ninvest.brussel              0.878381  0.890829  \ndeadlines.flander           1.000000  0.890266  \ncolive                      0.890266  1.000000  \n\n[10968 rows x 10968 columns]",
      "text/html": "<div>\n<style scoped>\n    .dataframe tbody tr th:only-of-type {\n        vertical-align: middle;\n    }\n\n    .dataframe tbody tr th {\n        vertical-align: top;\n    }\n\n    .dataframe thead th {\n        text-align: right;\n    }\n</style>\n<table border=\"1\" class=\"dataframe\">\n  <thead>\n    <tr style=\"text-align: right;\">\n      <th></th>\n      <th>social</th>\n      <th>measure</th>\n      <th>covid19</th>\n      <th>support</th>\n      <th>government</th>\n      <th>company</th>\n      <th>employees</th>\n      <th>measures</th>\n      <th>period</th>\n      <th>companies</th>\n      <th>...</th>\n      <th>outlook</th>\n      <th>revisit</th>\n      <th>skille</th>\n      <th>consutle</th>\n      <th>pedagogue</th>\n      <th>appearance</th>\n      <th>walloniebruxelle</th>\n      <th>invest.brussel</th>\n      <th>deadlines.flander</th>\n      <th>colive</th>\n    </tr>\n  </thead>\n  <tbody>\n    <tr>\n      <th>social</th>\n      <td>1.000000</td>\n      <td>0.045414</td>\n      <td>0.036553</td>\n      <td>0.040688</td>\n      <td>0.038418</td>\n      <td>0.038948</td>\n      <td>0.041439</td>\n      <td>0.042446</td>\n      <td>0.041354</td>\n      <td>0.041731</td>\n      <td>...</td>\n      <td>0.049398</td>\n      <td>0.049399</td>\n      <td>0.049402</td>\n      <td>0.049401</td>\n      <td>0.049373</td>\n      <td>0.049397</td>\n      <td>0.049346</td>\n      <td>0.049368</td>\n      <td>0.049364</td>\n      <td>0.049391</td>\n    </tr>\n    <tr>\n      <th>measure</th>\n      <td>0.045414</td>\n      <td>1.000000</td>\n      <td>0.040072</td>\n      <td>0.052514</td>\n      <td>0.045136</td>\n      <td>0.046630</td>\n      <td>0.046503</td>\n      <td>0.097676</td>\n      <td>0.053653</td>\n      <td>0.053452</td>\n      <td>...</td>\n      <td>0.060099</td>\n      <td>0.060079</td>\n      <td>0.060139</td>\n      <td>0.060107</td>\n      <td>0.060043</td>\n      <td>0.060178</td>\n      <td>0.060070</td>\n      <td>0.060048</td>\n      <td>0.060149</td>\n      <td>0.060187</td>\n    </tr>\n    <tr>\n      <th>covid19</th>\n      <td>0.036553</td>\n      <td>0.040072</td>\n      <td>1.000000</td>\n      <td>0.040927</td>\n      <td>0.038312</td>\n      <td>0.044664</td>\n      <td>0.043341</td>\n      <td>0.043267</td>\n      <td>0.045235</td>\n      <td>0.046020</td>\n      <td>...</td>\n      <td>0.050691</td>\n      <td>0.050640</td>\n      <td>0.050615</td>\n      <td>0.050556</td>\n      <td>0.050566</td>\n      <td>0.050684</td>\n      <td>0.050557</td>\n      <td>0.050609</td>\n      <td>0.050561</td>\n      <td>0.050696</td>\n    </tr>\n    <tr>\n      <th>support</th>\n      <td>0.040688</td>\n      <td>0.052514</td>\n      <td>0.040927</td>\n      <td>1.000000</td>\n      <td>0.044290</td>\n      <td>0.045513</td>\n      <td>0.048725</td>\n      <td>0.048246</td>\n      <td>0.048973</td>\n      <td>0.053119</td>\n      <td>...</td>\n      <td>0.062091</td>\n      <td>0.062080</td>\n      <td>0.062247</td>\n      <td>0.062099</td>\n      <td>0.062089</td>\n      <td>0.062111</td>\n      <td>0.062157</td>\n      <td>0.062105</td>\n      <td>0.062092</td>\n      <td>0.062148</td>\n    </tr>\n    <tr>\n      <th>government</th>\n      <td>0.038418</td>\n      <td>0.045136</td>\n      <td>0.038312</td>\n      <td>0.044290</td>\n      <td>1.000000</td>\n      <td>0.041164</td>\n      <td>0.041489</td>\n      <td>0.045369</td>\n      <td>0.043063</td>\n      <td>0.043451</td>\n      <td>...</td>\n      <td>0.050292</td>\n      <td>0.050257</td>\n      <td>0.050279</td>\n      <td>0.050318</td>\n      <td>0.050251</td>\n      <td>0.050361</td>\n      <td>0.050291</td>\n      <td>0.050259</td>\n      <td>0.050297</td>\n      <td>0.050333</td>\n    </tr>\n    <tr>\n      <th>...</th>\n      <td>...</td>\n      <td>...</td>\n      <td>...</td>\n      <td>...</td>\n      <td>...</td>\n      <td>...</td>\n      <td>...</td>\n      <td>...</td>\n      <td>...</td>\n      <td>...</td>\n      <td>...</td>\n      <td>...</td>\n      <td>...</td>\n      <td>...</td>\n      <td>...</td>\n      <td>...</td>\n      <td>...</td>\n      <td>...</td>\n      <td>...</td>\n      <td>...</td>\n      <td>...</td>\n    </tr>\n    <tr>\n      <th>appearance</th>\n      <td>0.049397</td>\n      <td>0.060178</td>\n      <td>0.050684</td>\n      <td>0.062111</td>\n      <td>0.050361</td>\n      <td>0.068271</td>\n      <td>0.066202</td>\n      <td>0.057942</td>\n      <td>0.073440</td>\n      <td>0.073691</td>\n      <td>...</td>\n      <td>0.924269</td>\n      <td>0.882282</td>\n      <td>0.881245</td>\n      <td>0.881813</td>\n      <td>0.895364</td>\n      <td>1.000000</td>\n      <td>0.875456</td>\n      <td>0.874494</td>\n      <td>0.873430</td>\n      <td>0.920749</td>\n    </tr>\n    <tr>\n      <th>walloniebruxelle</th>\n      <td>0.049346</td>\n      <td>0.060070</td>\n      <td>0.050557</td>\n      <td>0.062157</td>\n      <td>0.050291</td>\n      <td>0.068264</td>\n      <td>0.066135</td>\n      <td>0.057774</td>\n      <td>0.073270</td>\n      <td>0.073689</td>\n      <td>...</td>\n      <td>0.871843</td>\n      <td>0.866184</td>\n      <td>0.878068</td>\n      <td>0.867170</td>\n      <td>0.895470</td>\n      <td>0.875456</td>\n      <td>1.000000</td>\n      <td>0.876839</td>\n      <td>0.846993</td>\n      <td>0.875342</td>\n    </tr>\n    <tr>\n      <th>invest.brussel</th>\n      <td>0.049368</td>\n      <td>0.060048</td>\n      <td>0.050609</td>\n      <td>0.062105</td>\n      <td>0.050259</td>\n      <td>0.068202</td>\n      <td>0.066131</td>\n      <td>0.057793</td>\n      <td>0.073115</td>\n      <td>0.073582</td>\n      <td>...</td>\n      <td>0.884120</td>\n      <td>0.878707</td>\n      <td>0.885699</td>\n      <td>0.878762</td>\n      <td>0.896787</td>\n      <td>0.874494</td>\n      <td>0.876839</td>\n      <td>1.000000</td>\n      <td>0.878381</td>\n      <td>0.890829</td>\n    </tr>\n    <tr>\n      <th>deadlines.flander</th>\n      <td>0.049364</td>\n      <td>0.060149</td>\n      <td>0.050561</td>\n      <td>0.062092</td>\n      <td>0.050297</td>\n      <td>0.068185</td>\n      <td>0.066235</td>\n      <td>0.057867</td>\n      <td>0.073352</td>\n      <td>0.073497</td>\n      <td>...</td>\n      <td>0.880254</td>\n      <td>0.878745</td>\n      <td>0.889340</td>\n      <td>0.879620</td>\n      <td>0.896835</td>\n      <td>0.873430</td>\n      <td>0.846993</td>\n      <td>0.878381</td>\n      <td>1.000000</td>\n      <td>0.890266</td>\n    </tr>\n    <tr>\n      <th>colive</th>\n      <td>0.049391</td>\n      <td>0.060187</td>\n      <td>0.050696</td>\n      <td>0.062148</td>\n      <td>0.050333</td>\n      <td>0.068280</td>\n      <td>0.066130</td>\n      <td>0.057945</td>\n      <td>0.073408</td>\n      <td>0.073675</td>\n      <td>...</td>\n      <td>0.918176</td>\n      <td>0.894485</td>\n      <td>0.895129</td>\n      <td>0.885964</td>\n      <td>0.894463</td>\n      <td>0.920749</td>\n      <td>0.875342</td>\n      <td>0.890829</td>\n      <td>0.890266</td>\n      <td>1.000000</td>\n    </tr>\n  </tbody>\n</table>\n<p>10968 rows × 10968 columns</p>\n</div>"
     },
     "execution_count": 149,
     "metadata": {},
     "output_type": "execute_result"
    }
   ],
   "source": [
    "model1_euclidean_similarity_matrix = get_similarity_matrix(model1_language_model_filter.select_pos_embeddings(),\n",
    "                                                           model1_language_model_filter.extract_pos(),\n",
    "                                                           metric=euclidean_similarity)\n",
    "model1_euclidean_similarity_matrix"
   ],
   "metadata": {
    "collapsed": false,
    "pycharm": {
     "name": "#%%\n"
    }
   }
  },
  {
   "cell_type": "code",
   "execution_count": 141,
   "outputs": [
    {
     "data": {
      "text/plain": "               european   council  regulation  commission  parliament  \\\neuropean       1.000000  0.093699    0.068245    0.078582    0.086148   \ncouncil        0.093699  1.000000    0.081587    0.090028    0.081496   \nregulation     0.068245  0.081587    1.000000    0.066500    0.079297   \ncommission     0.078582  0.090028    0.066500    1.000000    0.079339   \nparliament     0.086148  0.081496    0.079297    0.079339    1.000000   \n...                 ...       ...         ...         ...         ...   \nsalamander     0.072078  0.071174    0.063349    0.086641    0.064794   \nsubsidise      0.072084  0.071169    0.063462    0.086885    0.064865   \naffair         0.072049  0.071119    0.063170    0.086618    0.064751   \nrecomendation  0.071993  0.071109    0.063431    0.086582    0.064762   \nboto           0.071968  0.071046    0.063254    0.086663    0.064709   \n\n               decision  committee         c      case  document  ...  \\\neuropean       0.066943   0.080274  0.044170  0.039734  0.065066  ...   \ncouncil        0.071549   0.070198  0.045082  0.038972  0.067715  ...   \nregulation     0.082912   0.053828  0.043661  0.036714  0.056090  ...   \ncommission     0.075965   0.065807  0.048335  0.044915  0.088855  ...   \nparliament     0.069556   0.066409  0.042552  0.037238  0.063679  ...   \n...                 ...        ...       ...       ...       ...  ...   \nsalamander     0.077444   0.066074  0.058359  0.055883  0.065174  ...   \nsubsidise      0.077704   0.066059  0.058471  0.056081  0.065220  ...   \naffair         0.077368   0.066264  0.058305  0.055915  0.065191  ...   \nrecomendation  0.077764   0.066060  0.058568  0.056114  0.065169  ...   \nboto           0.077472   0.066058  0.058355  0.056060  0.065124  ...   \n\n                 cheese  donation  supplier   torvald  salamandrivoran  \\\neuropean       0.071885  0.072017  0.072025  0.072039         0.072028   \ncouncil        0.071001  0.071216  0.071209  0.071137         0.071118   \nregulation     0.063278  0.063404  0.063314  0.063299         0.063280   \ncommission     0.086595  0.086783  0.087016  0.086822         0.086993   \nparliament     0.064697  0.064816  0.064794  0.064789         0.064769   \n...                 ...       ...       ...       ...              ...   \nsalamander     0.870812  0.872041  0.821891  0.883616         0.879646   \nsubsidise      0.868185  0.863674  0.843144  0.893469         0.861726   \naffair         0.847245  0.840011  0.810927  0.868540         0.857422   \nrecomendation  0.865549  0.881332  0.849117  0.895851         0.855870   \nboto           0.876478  0.871413  0.837124  0.909965         0.885516   \n\n               salamander  subsidise    affair  recomendation      boto  \neuropean         0.072078   0.072084  0.072049       0.071993  0.071968  \ncouncil          0.071174   0.071169  0.071119       0.071109  0.071046  \nregulation       0.063349   0.063462  0.063170       0.063431  0.063254  \ncommission       0.086641   0.086885  0.086618       0.086582  0.086663  \nparliament       0.064794   0.064865  0.064751       0.064762  0.064709  \n...                   ...        ...       ...            ...       ...  \nsalamander       1.000000   0.873806  0.891242       0.860991  0.906744  \nsubsidise        0.873806   1.000000  0.832433       0.898354  0.885257  \naffair           0.891242   0.832433  1.000000       0.828108  0.884529  \nrecomendation    0.860991   0.898354  0.828108       1.000000  0.880963  \nboto             0.906744   0.885257  0.884529       0.880963  1.000000  \n\n[3915 rows x 3915 columns]",
      "text/html": "<div>\n<style scoped>\n    .dataframe tbody tr th:only-of-type {\n        vertical-align: middle;\n    }\n\n    .dataframe tbody tr th {\n        vertical-align: top;\n    }\n\n    .dataframe thead th {\n        text-align: right;\n    }\n</style>\n<table border=\"1\" class=\"dataframe\">\n  <thead>\n    <tr style=\"text-align: right;\">\n      <th></th>\n      <th>european</th>\n      <th>council</th>\n      <th>regulation</th>\n      <th>commission</th>\n      <th>parliament</th>\n      <th>decision</th>\n      <th>committee</th>\n      <th>c</th>\n      <th>case</th>\n      <th>document</th>\n      <th>...</th>\n      <th>cheese</th>\n      <th>donation</th>\n      <th>supplier</th>\n      <th>torvald</th>\n      <th>salamandrivoran</th>\n      <th>salamander</th>\n      <th>subsidise</th>\n      <th>affair</th>\n      <th>recomendation</th>\n      <th>boto</th>\n    </tr>\n  </thead>\n  <tbody>\n    <tr>\n      <th>european</th>\n      <td>1.000000</td>\n      <td>0.093699</td>\n      <td>0.068245</td>\n      <td>0.078582</td>\n      <td>0.086148</td>\n      <td>0.066943</td>\n      <td>0.080274</td>\n      <td>0.044170</td>\n      <td>0.039734</td>\n      <td>0.065066</td>\n      <td>...</td>\n      <td>0.071885</td>\n      <td>0.072017</td>\n      <td>0.072025</td>\n      <td>0.072039</td>\n      <td>0.072028</td>\n      <td>0.072078</td>\n      <td>0.072084</td>\n      <td>0.072049</td>\n      <td>0.071993</td>\n      <td>0.071968</td>\n    </tr>\n    <tr>\n      <th>council</th>\n      <td>0.093699</td>\n      <td>1.000000</td>\n      <td>0.081587</td>\n      <td>0.090028</td>\n      <td>0.081496</td>\n      <td>0.071549</td>\n      <td>0.070198</td>\n      <td>0.045082</td>\n      <td>0.038972</td>\n      <td>0.067715</td>\n      <td>...</td>\n      <td>0.071001</td>\n      <td>0.071216</td>\n      <td>0.071209</td>\n      <td>0.071137</td>\n      <td>0.071118</td>\n      <td>0.071174</td>\n      <td>0.071169</td>\n      <td>0.071119</td>\n      <td>0.071109</td>\n      <td>0.071046</td>\n    </tr>\n    <tr>\n      <th>regulation</th>\n      <td>0.068245</td>\n      <td>0.081587</td>\n      <td>1.000000</td>\n      <td>0.066500</td>\n      <td>0.079297</td>\n      <td>0.082912</td>\n      <td>0.053828</td>\n      <td>0.043661</td>\n      <td>0.036714</td>\n      <td>0.056090</td>\n      <td>...</td>\n      <td>0.063278</td>\n      <td>0.063404</td>\n      <td>0.063314</td>\n      <td>0.063299</td>\n      <td>0.063280</td>\n      <td>0.063349</td>\n      <td>0.063462</td>\n      <td>0.063170</td>\n      <td>0.063431</td>\n      <td>0.063254</td>\n    </tr>\n    <tr>\n      <th>commission</th>\n      <td>0.078582</td>\n      <td>0.090028</td>\n      <td>0.066500</td>\n      <td>1.000000</td>\n      <td>0.079339</td>\n      <td>0.075965</td>\n      <td>0.065807</td>\n      <td>0.048335</td>\n      <td>0.044915</td>\n      <td>0.088855</td>\n      <td>...</td>\n      <td>0.086595</td>\n      <td>0.086783</td>\n      <td>0.087016</td>\n      <td>0.086822</td>\n      <td>0.086993</td>\n      <td>0.086641</td>\n      <td>0.086885</td>\n      <td>0.086618</td>\n      <td>0.086582</td>\n      <td>0.086663</td>\n    </tr>\n    <tr>\n      <th>parliament</th>\n      <td>0.086148</td>\n      <td>0.081496</td>\n      <td>0.079297</td>\n      <td>0.079339</td>\n      <td>1.000000</td>\n      <td>0.069556</td>\n      <td>0.066409</td>\n      <td>0.042552</td>\n      <td>0.037238</td>\n      <td>0.063679</td>\n      <td>...</td>\n      <td>0.064697</td>\n      <td>0.064816</td>\n      <td>0.064794</td>\n      <td>0.064789</td>\n      <td>0.064769</td>\n      <td>0.064794</td>\n      <td>0.064865</td>\n      <td>0.064751</td>\n      <td>0.064762</td>\n      <td>0.064709</td>\n    </tr>\n    <tr>\n      <th>...</th>\n      <td>...</td>\n      <td>...</td>\n      <td>...</td>\n      <td>...</td>\n      <td>...</td>\n      <td>...</td>\n      <td>...</td>\n      <td>...</td>\n      <td>...</td>\n      <td>...</td>\n      <td>...</td>\n      <td>...</td>\n      <td>...</td>\n      <td>...</td>\n      <td>...</td>\n      <td>...</td>\n      <td>...</td>\n      <td>...</td>\n      <td>...</td>\n      <td>...</td>\n      <td>...</td>\n    </tr>\n    <tr>\n      <th>salamander</th>\n      <td>0.072078</td>\n      <td>0.071174</td>\n      <td>0.063349</td>\n      <td>0.086641</td>\n      <td>0.064794</td>\n      <td>0.077444</td>\n      <td>0.066074</td>\n      <td>0.058359</td>\n      <td>0.055883</td>\n      <td>0.065174</td>\n      <td>...</td>\n      <td>0.870812</td>\n      <td>0.872041</td>\n      <td>0.821891</td>\n      <td>0.883616</td>\n      <td>0.879646</td>\n      <td>1.000000</td>\n      <td>0.873806</td>\n      <td>0.891242</td>\n      <td>0.860991</td>\n      <td>0.906744</td>\n    </tr>\n    <tr>\n      <th>subsidise</th>\n      <td>0.072084</td>\n      <td>0.071169</td>\n      <td>0.063462</td>\n      <td>0.086885</td>\n      <td>0.064865</td>\n      <td>0.077704</td>\n      <td>0.066059</td>\n      <td>0.058471</td>\n      <td>0.056081</td>\n      <td>0.065220</td>\n      <td>...</td>\n      <td>0.868185</td>\n      <td>0.863674</td>\n      <td>0.843144</td>\n      <td>0.893469</td>\n      <td>0.861726</td>\n      <td>0.873806</td>\n      <td>1.000000</td>\n      <td>0.832433</td>\n      <td>0.898354</td>\n      <td>0.885257</td>\n    </tr>\n    <tr>\n      <th>affair</th>\n      <td>0.072049</td>\n      <td>0.071119</td>\n      <td>0.063170</td>\n      <td>0.086618</td>\n      <td>0.064751</td>\n      <td>0.077368</td>\n      <td>0.066264</td>\n      <td>0.058305</td>\n      <td>0.055915</td>\n      <td>0.065191</td>\n      <td>...</td>\n      <td>0.847245</td>\n      <td>0.840011</td>\n      <td>0.810927</td>\n      <td>0.868540</td>\n      <td>0.857422</td>\n      <td>0.891242</td>\n      <td>0.832433</td>\n      <td>1.000000</td>\n      <td>0.828108</td>\n      <td>0.884529</td>\n    </tr>\n    <tr>\n      <th>recomendation</th>\n      <td>0.071993</td>\n      <td>0.071109</td>\n      <td>0.063431</td>\n      <td>0.086582</td>\n      <td>0.064762</td>\n      <td>0.077764</td>\n      <td>0.066060</td>\n      <td>0.058568</td>\n      <td>0.056114</td>\n      <td>0.065169</td>\n      <td>...</td>\n      <td>0.865549</td>\n      <td>0.881332</td>\n      <td>0.849117</td>\n      <td>0.895851</td>\n      <td>0.855870</td>\n      <td>0.860991</td>\n      <td>0.898354</td>\n      <td>0.828108</td>\n      <td>1.000000</td>\n      <td>0.880963</td>\n    </tr>\n    <tr>\n      <th>boto</th>\n      <td>0.071968</td>\n      <td>0.071046</td>\n      <td>0.063254</td>\n      <td>0.086663</td>\n      <td>0.064709</td>\n      <td>0.077472</td>\n      <td>0.066058</td>\n      <td>0.058355</td>\n      <td>0.056060</td>\n      <td>0.065124</td>\n      <td>...</td>\n      <td>0.876478</td>\n      <td>0.871413</td>\n      <td>0.837124</td>\n      <td>0.909965</td>\n      <td>0.885516</td>\n      <td>0.906744</td>\n      <td>0.885257</td>\n      <td>0.884529</td>\n      <td>0.880963</td>\n      <td>1.000000</td>\n    </tr>\n  </tbody>\n</table>\n<p>3915 rows × 3915 columns</p>\n</div>"
     },
     "execution_count": 141,
     "metadata": {},
     "output_type": "execute_result"
    }
   ],
   "source": [
    "model2_euclidean_similarity_matrix = get_similarity_matrix(model2_language_model_filter.select_pos_embeddings(),\n",
    "                                                           model2_language_model_filter.extract_pos(),\n",
    "                                                           metric=euclidean_similarity)\n",
    "model2_euclidean_similarity_matrix"
   ],
   "metadata": {
    "collapsed": false,
    "pycharm": {
     "name": "#%%\n"
    }
   }
  },
  {
   "cell_type": "code",
   "execution_count": 152,
   "outputs": [
    {
     "name": "stdout",
     "output_type": "stream",
     "text": [
      "CPU times: user 20min 7s, sys: 21.2 s, total: 20min 28s\n",
      "Wall time: 20min 8s\n"
     ]
    },
    {
     "data": {
      "text/plain": "                         social   covid19   measure  european   support  \\\nsocial                 1.000000  0.034061  0.041251  0.032243  0.036040   \ncovid19                0.034061  1.000000  0.039526  0.035435  0.038814   \nmeasure                0.041251  0.039526  1.000000  0.034286  0.047579   \neuropean               0.032243  0.035435  0.034286  1.000000  0.038121   \nsupport                0.036040  0.038814  0.047579  0.038121  1.000000   \n...                         ...       ...       ...       ...       ...   \nautomatically.brussel  0.044557  0.048546  0.053975  0.046360  0.054936   \nquestionsanswer        0.044599  0.048576  0.054033  0.046395  0.054828   \nhandler                0.044513  0.048555  0.053869  0.046423  0.054767   \nairplane               0.044465  0.048522  0.053871  0.046347  0.054805   \nboto                   0.044513  0.048621  0.054020  0.046383  0.054913   \n\n                        council  government  regulation   company  commission  \\\nsocial                 0.031143    0.035644    0.031709  0.036170    0.033705   \ncovid19                0.032450    0.037448    0.035612  0.042400    0.037817   \nmeasure                0.033643    0.043368    0.036559  0.044555    0.035780   \neuropean               0.041426    0.033996    0.037270  0.036386    0.038194   \nsupport                0.034895    0.040708    0.036478  0.042896    0.038022   \n...                         ...         ...         ...       ...         ...   \nautomatically.brussel  0.041089    0.047473    0.044783  0.062558    0.052059   \nquestionsanswer        0.041110    0.047512    0.044868  0.062526    0.052139   \nhandler                0.041069    0.047483    0.044796  0.062559    0.052060   \nairplane               0.041046    0.047435    0.044819  0.062522    0.052022   \nboto                   0.041066    0.047502    0.044773  0.062607    0.052024   \n\n                       ...  approvedamounte  munition  everrise  advertiser  \\\nsocial                 ...         0.044528  0.044570  0.044544    0.044537   \ncovid19                ...         0.048558  0.048575  0.048616    0.048617   \nmeasure                ...         0.053996  0.053951  0.054048    0.053953   \neuropean               ...         0.046347  0.046391  0.046358    0.046339   \nsupport                ...         0.054903  0.054815  0.054878    0.054766   \n...                    ...              ...       ...       ...         ...   \nautomatically.brussel  ...         0.829451  0.831950  0.837391    0.822218   \nquestionsanswer        ...         0.823674  0.911257  0.862432    0.871493   \nhandler                ...         0.841297  0.870104  0.866427    0.876984   \nairplane               ...         0.851443  0.857082  0.863481    0.874141   \nboto                   ...         0.848677  0.874717  0.865594    0.857609   \n\n                         cutoff  automatically.brussel  questionsanswer  \\\nsocial                 0.044542               0.044557         0.044599   \ncovid19                0.048554               0.048546         0.048576   \nmeasure                0.053963               0.053975         0.054033   \neuropean               0.046385               0.046360         0.046395   \nsupport                0.054860               0.054936         0.054828   \n...                         ...                    ...              ...   \nautomatically.brussel  0.885484               1.000000         0.811928   \nquestionsanswer        0.837361               0.811928         1.000000   \nhandler                0.839930               0.822979         0.852018   \nairplane               0.842735               0.835793         0.828552   \nboto                   0.887047               0.851533         0.859508   \n\n                        handler  airplane      boto  \nsocial                 0.044513  0.044465  0.044513  \ncovid19                0.048555  0.048522  0.048621  \nmeasure                0.053869  0.053871  0.054020  \neuropean               0.046423  0.046347  0.046383  \nsupport                0.054767  0.054805  0.054913  \n...                         ...       ...       ...  \nautomatically.brussel  0.822979  0.835793  0.851533  \nquestionsanswer        0.852018  0.828552  0.859508  \nhandler                1.000000  0.873703  0.858525  \nairplane               0.873703  1.000000  0.840136  \nboto                   0.858525  0.840136  1.000000  \n\n[12789 rows x 12789 columns]",
      "text/html": "<div>\n<style scoped>\n    .dataframe tbody tr th:only-of-type {\n        vertical-align: middle;\n    }\n\n    .dataframe tbody tr th {\n        vertical-align: top;\n    }\n\n    .dataframe thead th {\n        text-align: right;\n    }\n</style>\n<table border=\"1\" class=\"dataframe\">\n  <thead>\n    <tr style=\"text-align: right;\">\n      <th></th>\n      <th>social</th>\n      <th>covid19</th>\n      <th>measure</th>\n      <th>european</th>\n      <th>support</th>\n      <th>council</th>\n      <th>government</th>\n      <th>regulation</th>\n      <th>company</th>\n      <th>commission</th>\n      <th>...</th>\n      <th>approvedamounte</th>\n      <th>munition</th>\n      <th>everrise</th>\n      <th>advertiser</th>\n      <th>cutoff</th>\n      <th>automatically.brussel</th>\n      <th>questionsanswer</th>\n      <th>handler</th>\n      <th>airplane</th>\n      <th>boto</th>\n    </tr>\n  </thead>\n  <tbody>\n    <tr>\n      <th>social</th>\n      <td>1.000000</td>\n      <td>0.034061</td>\n      <td>0.041251</td>\n      <td>0.032243</td>\n      <td>0.036040</td>\n      <td>0.031143</td>\n      <td>0.035644</td>\n      <td>0.031709</td>\n      <td>0.036170</td>\n      <td>0.033705</td>\n      <td>...</td>\n      <td>0.044528</td>\n      <td>0.044570</td>\n      <td>0.044544</td>\n      <td>0.044537</td>\n      <td>0.044542</td>\n      <td>0.044557</td>\n      <td>0.044599</td>\n      <td>0.044513</td>\n      <td>0.044465</td>\n      <td>0.044513</td>\n    </tr>\n    <tr>\n      <th>covid19</th>\n      <td>0.034061</td>\n      <td>1.000000</td>\n      <td>0.039526</td>\n      <td>0.035435</td>\n      <td>0.038814</td>\n      <td>0.032450</td>\n      <td>0.037448</td>\n      <td>0.035612</td>\n      <td>0.042400</td>\n      <td>0.037817</td>\n      <td>...</td>\n      <td>0.048558</td>\n      <td>0.048575</td>\n      <td>0.048616</td>\n      <td>0.048617</td>\n      <td>0.048554</td>\n      <td>0.048546</td>\n      <td>0.048576</td>\n      <td>0.048555</td>\n      <td>0.048522</td>\n      <td>0.048621</td>\n    </tr>\n    <tr>\n      <th>measure</th>\n      <td>0.041251</td>\n      <td>0.039526</td>\n      <td>1.000000</td>\n      <td>0.034286</td>\n      <td>0.047579</td>\n      <td>0.033643</td>\n      <td>0.043368</td>\n      <td>0.036559</td>\n      <td>0.044555</td>\n      <td>0.035780</td>\n      <td>...</td>\n      <td>0.053996</td>\n      <td>0.053951</td>\n      <td>0.054048</td>\n      <td>0.053953</td>\n      <td>0.053963</td>\n      <td>0.053975</td>\n      <td>0.054033</td>\n      <td>0.053869</td>\n      <td>0.053871</td>\n      <td>0.054020</td>\n    </tr>\n    <tr>\n      <th>european</th>\n      <td>0.032243</td>\n      <td>0.035435</td>\n      <td>0.034286</td>\n      <td>1.000000</td>\n      <td>0.038121</td>\n      <td>0.041426</td>\n      <td>0.033996</td>\n      <td>0.037270</td>\n      <td>0.036386</td>\n      <td>0.038194</td>\n      <td>...</td>\n      <td>0.046347</td>\n      <td>0.046391</td>\n      <td>0.046358</td>\n      <td>0.046339</td>\n      <td>0.046385</td>\n      <td>0.046360</td>\n      <td>0.046395</td>\n      <td>0.046423</td>\n      <td>0.046347</td>\n      <td>0.046383</td>\n    </tr>\n    <tr>\n      <th>support</th>\n      <td>0.036040</td>\n      <td>0.038814</td>\n      <td>0.047579</td>\n      <td>0.038121</td>\n      <td>1.000000</td>\n      <td>0.034895</td>\n      <td>0.040708</td>\n      <td>0.036478</td>\n      <td>0.042896</td>\n      <td>0.038022</td>\n      <td>...</td>\n      <td>0.054903</td>\n      <td>0.054815</td>\n      <td>0.054878</td>\n      <td>0.054766</td>\n      <td>0.054860</td>\n      <td>0.054936</td>\n      <td>0.054828</td>\n      <td>0.054767</td>\n      <td>0.054805</td>\n      <td>0.054913</td>\n    </tr>\n    <tr>\n      <th>...</th>\n      <td>...</td>\n      <td>...</td>\n      <td>...</td>\n      <td>...</td>\n      <td>...</td>\n      <td>...</td>\n      <td>...</td>\n      <td>...</td>\n      <td>...</td>\n      <td>...</td>\n      <td>...</td>\n      <td>...</td>\n      <td>...</td>\n      <td>...</td>\n      <td>...</td>\n      <td>...</td>\n      <td>...</td>\n      <td>...</td>\n      <td>...</td>\n      <td>...</td>\n      <td>...</td>\n    </tr>\n    <tr>\n      <th>automatically.brussel</th>\n      <td>0.044557</td>\n      <td>0.048546</td>\n      <td>0.053975</td>\n      <td>0.046360</td>\n      <td>0.054936</td>\n      <td>0.041089</td>\n      <td>0.047473</td>\n      <td>0.044783</td>\n      <td>0.062558</td>\n      <td>0.052059</td>\n      <td>...</td>\n      <td>0.829451</td>\n      <td>0.831950</td>\n      <td>0.837391</td>\n      <td>0.822218</td>\n      <td>0.885484</td>\n      <td>1.000000</td>\n      <td>0.811928</td>\n      <td>0.822979</td>\n      <td>0.835793</td>\n      <td>0.851533</td>\n    </tr>\n    <tr>\n      <th>questionsanswer</th>\n      <td>0.044599</td>\n      <td>0.048576</td>\n      <td>0.054033</td>\n      <td>0.046395</td>\n      <td>0.054828</td>\n      <td>0.041110</td>\n      <td>0.047512</td>\n      <td>0.044868</td>\n      <td>0.062526</td>\n      <td>0.052139</td>\n      <td>...</td>\n      <td>0.823674</td>\n      <td>0.911257</td>\n      <td>0.862432</td>\n      <td>0.871493</td>\n      <td>0.837361</td>\n      <td>0.811928</td>\n      <td>1.000000</td>\n      <td>0.852018</td>\n      <td>0.828552</td>\n      <td>0.859508</td>\n    </tr>\n    <tr>\n      <th>handler</th>\n      <td>0.044513</td>\n      <td>0.048555</td>\n      <td>0.053869</td>\n      <td>0.046423</td>\n      <td>0.054767</td>\n      <td>0.041069</td>\n      <td>0.047483</td>\n      <td>0.044796</td>\n      <td>0.062559</td>\n      <td>0.052060</td>\n      <td>...</td>\n      <td>0.841297</td>\n      <td>0.870104</td>\n      <td>0.866427</td>\n      <td>0.876984</td>\n      <td>0.839930</td>\n      <td>0.822979</td>\n      <td>0.852018</td>\n      <td>1.000000</td>\n      <td>0.873703</td>\n      <td>0.858525</td>\n    </tr>\n    <tr>\n      <th>airplane</th>\n      <td>0.044465</td>\n      <td>0.048522</td>\n      <td>0.053871</td>\n      <td>0.046347</td>\n      <td>0.054805</td>\n      <td>0.041046</td>\n      <td>0.047435</td>\n      <td>0.044819</td>\n      <td>0.062522</td>\n      <td>0.052022</td>\n      <td>...</td>\n      <td>0.851443</td>\n      <td>0.857082</td>\n      <td>0.863481</td>\n      <td>0.874141</td>\n      <td>0.842735</td>\n      <td>0.835793</td>\n      <td>0.828552</td>\n      <td>0.873703</td>\n      <td>1.000000</td>\n      <td>0.840136</td>\n    </tr>\n    <tr>\n      <th>boto</th>\n      <td>0.044513</td>\n      <td>0.048621</td>\n      <td>0.054020</td>\n      <td>0.046383</td>\n      <td>0.054913</td>\n      <td>0.041066</td>\n      <td>0.047502</td>\n      <td>0.044773</td>\n      <td>0.062607</td>\n      <td>0.052024</td>\n      <td>...</td>\n      <td>0.848677</td>\n      <td>0.874717</td>\n      <td>0.865594</td>\n      <td>0.857609</td>\n      <td>0.887047</td>\n      <td>0.851533</td>\n      <td>0.859508</td>\n      <td>0.858525</td>\n      <td>0.840136</td>\n      <td>1.000000</td>\n    </tr>\n  </tbody>\n</table>\n<p>12789 rows × 12789 columns</p>\n</div>"
     },
     "execution_count": 152,
     "metadata": {},
     "output_type": "execute_result"
    }
   ],
   "source": [
    "%%time\n",
    "model3_euclidean_similarity_matrix = get_similarity_matrix(model3_language_model_filter.select_pos_embeddings(),\n",
    "                                                           model3_language_model_filter.extract_pos(),\n",
    "                                                           metric=euclidean_similarity)\n",
    "model3_euclidean_similarity_matrix"
   ],
   "metadata": {
    "collapsed": false,
    "pycharm": {
     "name": "#%%\n"
    }
   }
  },
  {
   "cell_type": "markdown",
   "source": [
    "### Cosine similarity"
   ],
   "metadata": {
    "collapsed": false
   }
  },
  {
   "cell_type": "code",
   "execution_count": 153,
   "outputs": [
    {
     "name": "stdout",
     "output_type": "stream",
     "text": [
      "CPU times: user 18min 18s, sys: 2.3 s, total: 18min 21s\n",
      "Wall time: 18min 20s\n"
     ]
    },
    {
     "data": {
      "text/plain": "                     social   measure   covid19   support  government  \\\nsocial             1.000000  0.288134  0.039221  0.074017    0.138933   \nmeasure            0.288134  1.000000  0.039240  0.311611    0.260343   \ncovid19            0.039221  0.039240  1.000000  0.055240    0.111384   \nsupport            0.074017  0.311611  0.055240  1.000000    0.209045   \ngovernment         0.138933  0.260343  0.111384  0.209045    1.000000   \n...                     ...       ...       ...       ...         ...   \nappearance         0.110663  0.213768  0.375900  0.052478    0.299020   \nwalloniebruxelle  -0.069746 -0.052065 -0.072236  0.132464    0.030185   \ninvest.brussel    -0.003046 -0.138582  0.107480  0.041190   -0.093501   \ndeadlines.flander -0.019748  0.145609 -0.082800  0.004834    0.062012   \ncolive             0.092014  0.258185  0.455562  0.155049    0.210918   \n\n                    company  employees  measures    period  companies  ...  \\\nsocial            -0.097899   0.063995  0.203206 -0.014286   0.004020  ...   \nmeasure            0.030873   0.052726  0.833483  0.235665   0.227267  ...   \ncovid19            0.158719   0.121158  0.210883  0.140071   0.171517  ...   \nsupport           -0.060666   0.108145  0.212650  0.028025   0.181148  ...   \ngovernment         0.001508   0.041477  0.291842  0.047306   0.064329  ...   \n...                     ...        ...       ...       ...        ...  ...   \nappearance         0.123938   0.046329  0.401192  0.178841   0.181617  ...   \nwalloniebruxelle   0.087726  -0.077218 -0.056308 -0.092892   0.141905  ...   \ninvest.brussel    -0.018812  -0.118479 -0.023556 -0.430829  -0.010435  ...   \ndeadlines.flander -0.053273   0.121225  0.197773  0.025927  -0.163920  ...   \ncolive             0.153984  -0.120293  0.442822  0.132874   0.166428  ...   \n\n                    outlook   revisit    skille  consutle  pedagogue  \\\nsocial             0.128852  0.140055  0.126438  0.140507   0.017404   \nmeasure            0.007057 -0.054723  0.109887  0.032083  -0.170082   \ncovid19            0.462688  0.258696  0.117556 -0.111088  -0.075086   \nsupport            0.003051 -0.030678  0.373923  0.024031  -0.002734   \ngovernment         0.047498 -0.114009 -0.009228  0.156411  -0.139077   \n...                     ...       ...       ...       ...        ...   \nappearance         0.663420  0.043696  0.207283  0.095323   0.274622   \nwalloniebruxelle   0.190948  0.063648  0.357350  0.124941   0.508592   \ninvest.brussel     0.031418 -0.136019  0.211813 -0.055908   0.216506   \ndeadlines.flander  0.006035 -0.078665  0.296176  0.009576   0.258038   \ncolive             0.556040  0.177747  0.354700  0.086634   0.181741   \n\n                   appearance  walloniebruxelle  invest.brussel  \\\nsocial               0.110663         -0.069746       -0.003046   \nmeasure              0.213768         -0.052065       -0.138582   \ncovid19              0.375900         -0.072236        0.107480   \nsupport              0.052478          0.132464        0.041190   \ngovernment           0.299020          0.030185       -0.093501   \n...                       ...               ...             ...   \nappearance           1.000000          0.312793       -0.002725   \nwalloniebruxelle     0.312793          1.000000        0.291434   \ninvest.brussel      -0.002725          0.291434        1.000000   \ndeadlines.flander    0.019845         -0.165060        0.022530   \ncolive               0.643453          0.272772        0.202819   \n\n                   deadlines.flander    colive  \nsocial                     -0.019748  0.092014  \nmeasure                     0.145609  0.258185  \ncovid19                    -0.082800  0.455562  \nsupport                     0.004834  0.155049  \ngovernment                  0.062012  0.210918  \n...                              ...       ...  \nappearance                  0.019845  0.643453  \nwalloniebruxelle           -0.165060  0.272772  \ninvest.brussel              0.022530  0.202819  \ndeadlines.flander           1.000000  0.229816  \ncolive                      0.229816  1.000000  \n\n[10968 rows x 10968 columns]",
      "text/html": "<div>\n<style scoped>\n    .dataframe tbody tr th:only-of-type {\n        vertical-align: middle;\n    }\n\n    .dataframe tbody tr th {\n        vertical-align: top;\n    }\n\n    .dataframe thead th {\n        text-align: right;\n    }\n</style>\n<table border=\"1\" class=\"dataframe\">\n  <thead>\n    <tr style=\"text-align: right;\">\n      <th></th>\n      <th>social</th>\n      <th>measure</th>\n      <th>covid19</th>\n      <th>support</th>\n      <th>government</th>\n      <th>company</th>\n      <th>employees</th>\n      <th>measures</th>\n      <th>period</th>\n      <th>companies</th>\n      <th>...</th>\n      <th>outlook</th>\n      <th>revisit</th>\n      <th>skille</th>\n      <th>consutle</th>\n      <th>pedagogue</th>\n      <th>appearance</th>\n      <th>walloniebruxelle</th>\n      <th>invest.brussel</th>\n      <th>deadlines.flander</th>\n      <th>colive</th>\n    </tr>\n  </thead>\n  <tbody>\n    <tr>\n      <th>social</th>\n      <td>1.000000</td>\n      <td>0.288134</td>\n      <td>0.039221</td>\n      <td>0.074017</td>\n      <td>0.138933</td>\n      <td>-0.097899</td>\n      <td>0.063995</td>\n      <td>0.203206</td>\n      <td>-0.014286</td>\n      <td>0.004020</td>\n      <td>...</td>\n      <td>0.128852</td>\n      <td>0.140055</td>\n      <td>0.126438</td>\n      <td>0.140507</td>\n      <td>0.017404</td>\n      <td>0.110663</td>\n      <td>-0.069746</td>\n      <td>-0.003046</td>\n      <td>-0.019748</td>\n      <td>0.092014</td>\n    </tr>\n    <tr>\n      <th>measure</th>\n      <td>0.288134</td>\n      <td>1.000000</td>\n      <td>0.039240</td>\n      <td>0.311611</td>\n      <td>0.260343</td>\n      <td>0.030873</td>\n      <td>0.052726</td>\n      <td>0.833483</td>\n      <td>0.235665</td>\n      <td>0.227267</td>\n      <td>...</td>\n      <td>0.007057</td>\n      <td>-0.054723</td>\n      <td>0.109887</td>\n      <td>0.032083</td>\n      <td>-0.170082</td>\n      <td>0.213768</td>\n      <td>-0.052065</td>\n      <td>-0.138582</td>\n      <td>0.145609</td>\n      <td>0.258185</td>\n    </tr>\n    <tr>\n      <th>covid19</th>\n      <td>0.039221</td>\n      <td>0.039240</td>\n      <td>1.000000</td>\n      <td>0.055240</td>\n      <td>0.111384</td>\n      <td>0.158719</td>\n      <td>0.121158</td>\n      <td>0.210883</td>\n      <td>0.140071</td>\n      <td>0.171517</td>\n      <td>...</td>\n      <td>0.462688</td>\n      <td>0.258696</td>\n      <td>0.117556</td>\n      <td>-0.111088</td>\n      <td>-0.075086</td>\n      <td>0.375900</td>\n      <td>-0.072236</td>\n      <td>0.107480</td>\n      <td>-0.082800</td>\n      <td>0.455562</td>\n    </tr>\n    <tr>\n      <th>support</th>\n      <td>0.074017</td>\n      <td>0.311611</td>\n      <td>0.055240</td>\n      <td>1.000000</td>\n      <td>0.209045</td>\n      <td>-0.060666</td>\n      <td>0.108145</td>\n      <td>0.212650</td>\n      <td>0.028025</td>\n      <td>0.181148</td>\n      <td>...</td>\n      <td>0.003051</td>\n      <td>-0.030678</td>\n      <td>0.373923</td>\n      <td>0.024031</td>\n      <td>-0.002734</td>\n      <td>0.052478</td>\n      <td>0.132464</td>\n      <td>0.041190</td>\n      <td>0.004834</td>\n      <td>0.155049</td>\n    </tr>\n    <tr>\n      <th>government</th>\n      <td>0.138933</td>\n      <td>0.260343</td>\n      <td>0.111384</td>\n      <td>0.209045</td>\n      <td>1.000000</td>\n      <td>0.001508</td>\n      <td>0.041477</td>\n      <td>0.291842</td>\n      <td>0.047306</td>\n      <td>0.064329</td>\n      <td>...</td>\n      <td>0.047498</td>\n      <td>-0.114009</td>\n      <td>-0.009228</td>\n      <td>0.156411</td>\n      <td>-0.139077</td>\n      <td>0.299020</td>\n      <td>0.030185</td>\n      <td>-0.093501</td>\n      <td>0.062012</td>\n      <td>0.210918</td>\n    </tr>\n    <tr>\n      <th>...</th>\n      <td>...</td>\n      <td>...</td>\n      <td>...</td>\n      <td>...</td>\n      <td>...</td>\n      <td>...</td>\n      <td>...</td>\n      <td>...</td>\n      <td>...</td>\n      <td>...</td>\n      <td>...</td>\n      <td>...</td>\n      <td>...</td>\n      <td>...</td>\n      <td>...</td>\n      <td>...</td>\n      <td>...</td>\n      <td>...</td>\n      <td>...</td>\n      <td>...</td>\n      <td>...</td>\n    </tr>\n    <tr>\n      <th>appearance</th>\n      <td>0.110663</td>\n      <td>0.213768</td>\n      <td>0.375900</td>\n      <td>0.052478</td>\n      <td>0.299020</td>\n      <td>0.123938</td>\n      <td>0.046329</td>\n      <td>0.401192</td>\n      <td>0.178841</td>\n      <td>0.181617</td>\n      <td>...</td>\n      <td>0.663420</td>\n      <td>0.043696</td>\n      <td>0.207283</td>\n      <td>0.095323</td>\n      <td>0.274622</td>\n      <td>1.000000</td>\n      <td>0.312793</td>\n      <td>-0.002725</td>\n      <td>0.019845</td>\n      <td>0.643453</td>\n    </tr>\n    <tr>\n      <th>walloniebruxelle</th>\n      <td>-0.069746</td>\n      <td>-0.052065</td>\n      <td>-0.072236</td>\n      <td>0.132464</td>\n      <td>0.030185</td>\n      <td>0.087726</td>\n      <td>-0.077218</td>\n      <td>-0.056308</td>\n      <td>-0.092892</td>\n      <td>0.141905</td>\n      <td>...</td>\n      <td>0.190948</td>\n      <td>0.063648</td>\n      <td>0.357350</td>\n      <td>0.124941</td>\n      <td>0.508592</td>\n      <td>0.312793</td>\n      <td>1.000000</td>\n      <td>0.291434</td>\n      <td>-0.165060</td>\n      <td>0.272772</td>\n    </tr>\n    <tr>\n      <th>invest.brussel</th>\n      <td>-0.003046</td>\n      <td>-0.138582</td>\n      <td>0.107480</td>\n      <td>0.041190</td>\n      <td>-0.093501</td>\n      <td>-0.018812</td>\n      <td>-0.118479</td>\n      <td>-0.023556</td>\n      <td>-0.430829</td>\n      <td>-0.010435</td>\n      <td>...</td>\n      <td>0.031418</td>\n      <td>-0.136019</td>\n      <td>0.211813</td>\n      <td>-0.055908</td>\n      <td>0.216506</td>\n      <td>-0.002725</td>\n      <td>0.291434</td>\n      <td>1.000000</td>\n      <td>0.022530</td>\n      <td>0.202819</td>\n    </tr>\n    <tr>\n      <th>deadlines.flander</th>\n      <td>-0.019748</td>\n      <td>0.145609</td>\n      <td>-0.082800</td>\n      <td>0.004834</td>\n      <td>0.062012</td>\n      <td>-0.053273</td>\n      <td>0.121225</td>\n      <td>0.197773</td>\n      <td>0.025927</td>\n      <td>-0.163920</td>\n      <td>...</td>\n      <td>0.006035</td>\n      <td>-0.078665</td>\n      <td>0.296176</td>\n      <td>0.009576</td>\n      <td>0.258038</td>\n      <td>0.019845</td>\n      <td>-0.165060</td>\n      <td>0.022530</td>\n      <td>1.000000</td>\n      <td>0.229816</td>\n    </tr>\n    <tr>\n      <th>colive</th>\n      <td>0.092014</td>\n      <td>0.258185</td>\n      <td>0.455562</td>\n      <td>0.155049</td>\n      <td>0.210918</td>\n      <td>0.153984</td>\n      <td>-0.120293</td>\n      <td>0.442822</td>\n      <td>0.132874</td>\n      <td>0.166428</td>\n      <td>...</td>\n      <td>0.556040</td>\n      <td>0.177747</td>\n      <td>0.354700</td>\n      <td>0.086634</td>\n      <td>0.181741</td>\n      <td>0.643453</td>\n      <td>0.272772</td>\n      <td>0.202819</td>\n      <td>0.229816</td>\n      <td>1.000000</td>\n    </tr>\n  </tbody>\n</table>\n<p>10968 rows × 10968 columns</p>\n</div>"
     },
     "execution_count": 153,
     "metadata": {},
     "output_type": "execute_result"
    }
   ],
   "source": [
    "%%time\n",
    "model1_cosine_similarity_matrix = get_similarity_matrix(model1_language_model_filter.select_pos_embeddings(),\n",
    "                                                        model1_language_model_filter.extract_pos(),\n",
    "                                                        metric=cosine_similarity)\n",
    "model1_cosine_similarity_matrix"
   ],
   "metadata": {
    "collapsed": false,
    "pycharm": {
     "name": "#%%\n"
    }
   }
  },
  {
   "cell_type": "code",
   "execution_count": 154,
   "outputs": [
    {
     "name": "stdout",
     "output_type": "stream",
     "text": [
      "CPU times: user 2min 23s, sys: 273 ms, total: 2min 23s\n",
      "Wall time: 2min 23s\n"
     ]
    },
    {
     "data": {
      "text/plain": "               european   council  regulation  commission  parliament  \\\neuropean       1.000000  0.721793    0.519890    0.513305    0.703763   \ncouncil        0.721793  1.000000    0.679218    0.651171    0.667754   \nregulation     0.519890  0.679218    1.000000    0.424612    0.684206   \ncommission     0.513305  0.651171    0.424612    1.000000    0.606831   \nparliament     0.703763  0.667754    0.684206    0.606831    1.000000   \n...                 ...       ...         ...         ...         ...   \nsalamander     0.096228 -0.010855   -0.075636   -0.249446   -0.040038   \nsubsidise      0.085406 -0.015348    0.193103    0.100355    0.120931   \naffair         0.022897 -0.089455   -0.395140   -0.186217   -0.102943   \nrecomendation -0.068913 -0.119494    0.122972   -0.255388   -0.095874   \nboto          -0.170900 -0.347730   -0.397313   -0.244516   -0.312954   \n\n               decision  committee         c      case  document  ...  \\\neuropean       0.368377   0.644128 -0.101847 -0.307602  0.446838  ...   \ncouncil        0.461146   0.527958 -0.043628 -0.348359  0.497900  ...   \nregulation     0.675476   0.261896 -0.002797 -0.372161  0.332257  ...   \ncommission     0.415231   0.366933 -0.049948 -0.160739  0.699789  ...   \nparliament     0.496947   0.516035 -0.081712 -0.361064  0.477553  ...   \n...                 ...        ...       ...       ...       ...  ...   \nsalamander    -0.418216   0.112679 -0.112797 -0.329545 -0.053768  ...   \nsubsidise      0.065917   0.056236  0.207329  0.311794  0.055868  ...   \naffair        -0.374214   0.412072 -0.194662 -0.137489 -0.002264  ...   \nrecomendation  0.152697   0.057575  0.452812  0.399243 -0.049620  ...   \nboto          -0.412304   0.077438 -0.140920  0.370249 -0.216545  ...   \n\n                 cheese  donation  supplier   torvald  salamandrivoran  \\\neuropean      -0.262311 -0.027714 -0.007310  0.007956        -0.009048   \ncouncil       -0.318868  0.064782  0.039717 -0.080088        -0.094919   \nregulation    -0.217946  0.064109 -0.085868 -0.185503        -0.188472   \ncommission    -0.249152 -0.018638  0.174843  0.026984         0.207064   \nparliament    -0.240908  0.018232 -0.016774 -0.045310        -0.073097   \n...                 ...       ...       ...       ...              ...   \nsalamander    -0.133096 -0.008122 -0.402202  0.017078         0.187428   \nsubsidise      0.070483  0.066019  0.161404  0.382829         0.081333   \naffair        -0.132596 -0.185482 -0.225167  0.152667         0.134940   \nrecomendation  0.038348  0.327888  0.246783  0.421507        -0.001800   \nboto          -0.118170 -0.112105 -0.160069  0.405656         0.232992   \n\n               salamander  subsidise    affair  recomendation      boto  \neuropean         0.096228   0.085406  0.022897      -0.068913 -0.170900  \ncouncil         -0.010855  -0.015348 -0.089455      -0.119494 -0.347730  \nregulation      -0.075636   0.193103 -0.395140       0.122972 -0.397313  \ncommission      -0.249446   0.100355 -0.186217      -0.255388 -0.244516  \nparliament      -0.040038   0.120931 -0.102943      -0.095874 -0.312954  \n...                   ...        ...       ...            ...       ...  \nsalamander       1.000000  -0.039335  0.412278      -0.289802  0.198891  \nsubsidise       -0.039335   1.000000 -0.384266       0.501774  0.098403  \naffair           0.412278  -0.384266  1.000000      -0.457239  0.274568  \nrecomendation   -0.289802   0.501774 -0.457239       1.000000  0.030047  \nboto             0.198891   0.098403  0.274568       0.030047  1.000000  \n\n[3915 rows x 3915 columns]",
      "text/html": "<div>\n<style scoped>\n    .dataframe tbody tr th:only-of-type {\n        vertical-align: middle;\n    }\n\n    .dataframe tbody tr th {\n        vertical-align: top;\n    }\n\n    .dataframe thead th {\n        text-align: right;\n    }\n</style>\n<table border=\"1\" class=\"dataframe\">\n  <thead>\n    <tr style=\"text-align: right;\">\n      <th></th>\n      <th>european</th>\n      <th>council</th>\n      <th>regulation</th>\n      <th>commission</th>\n      <th>parliament</th>\n      <th>decision</th>\n      <th>committee</th>\n      <th>c</th>\n      <th>case</th>\n      <th>document</th>\n      <th>...</th>\n      <th>cheese</th>\n      <th>donation</th>\n      <th>supplier</th>\n      <th>torvald</th>\n      <th>salamandrivoran</th>\n      <th>salamander</th>\n      <th>subsidise</th>\n      <th>affair</th>\n      <th>recomendation</th>\n      <th>boto</th>\n    </tr>\n  </thead>\n  <tbody>\n    <tr>\n      <th>european</th>\n      <td>1.000000</td>\n      <td>0.721793</td>\n      <td>0.519890</td>\n      <td>0.513305</td>\n      <td>0.703763</td>\n      <td>0.368377</td>\n      <td>0.644128</td>\n      <td>-0.101847</td>\n      <td>-0.307602</td>\n      <td>0.446838</td>\n      <td>...</td>\n      <td>-0.262311</td>\n      <td>-0.027714</td>\n      <td>-0.007310</td>\n      <td>0.007956</td>\n      <td>-0.009048</td>\n      <td>0.096228</td>\n      <td>0.085406</td>\n      <td>0.022897</td>\n      <td>-0.068913</td>\n      <td>-0.170900</td>\n    </tr>\n    <tr>\n      <th>council</th>\n      <td>0.721793</td>\n      <td>1.000000</td>\n      <td>0.679218</td>\n      <td>0.651171</td>\n      <td>0.667754</td>\n      <td>0.461146</td>\n      <td>0.527958</td>\n      <td>-0.043628</td>\n      <td>-0.348359</td>\n      <td>0.497900</td>\n      <td>...</td>\n      <td>-0.318868</td>\n      <td>0.064782</td>\n      <td>0.039717</td>\n      <td>-0.080088</td>\n      <td>-0.094919</td>\n      <td>-0.010855</td>\n      <td>-0.015348</td>\n      <td>-0.089455</td>\n      <td>-0.119494</td>\n      <td>-0.347730</td>\n    </tr>\n    <tr>\n      <th>regulation</th>\n      <td>0.519890</td>\n      <td>0.679218</td>\n      <td>1.000000</td>\n      <td>0.424612</td>\n      <td>0.684206</td>\n      <td>0.675476</td>\n      <td>0.261896</td>\n      <td>-0.002797</td>\n      <td>-0.372161</td>\n      <td>0.332257</td>\n      <td>...</td>\n      <td>-0.217946</td>\n      <td>0.064109</td>\n      <td>-0.085868</td>\n      <td>-0.185503</td>\n      <td>-0.188472</td>\n      <td>-0.075636</td>\n      <td>0.193103</td>\n      <td>-0.395140</td>\n      <td>0.122972</td>\n      <td>-0.397313</td>\n    </tr>\n    <tr>\n      <th>commission</th>\n      <td>0.513305</td>\n      <td>0.651171</td>\n      <td>0.424612</td>\n      <td>1.000000</td>\n      <td>0.606831</td>\n      <td>0.415231</td>\n      <td>0.366933</td>\n      <td>-0.049948</td>\n      <td>-0.160739</td>\n      <td>0.699789</td>\n      <td>...</td>\n      <td>-0.249152</td>\n      <td>-0.018638</td>\n      <td>0.174843</td>\n      <td>0.026984</td>\n      <td>0.207064</td>\n      <td>-0.249446</td>\n      <td>0.100355</td>\n      <td>-0.186217</td>\n      <td>-0.255388</td>\n      <td>-0.244516</td>\n    </tr>\n    <tr>\n      <th>parliament</th>\n      <td>0.703763</td>\n      <td>0.667754</td>\n      <td>0.684206</td>\n      <td>0.606831</td>\n      <td>1.000000</td>\n      <td>0.496947</td>\n      <td>0.516035</td>\n      <td>-0.081712</td>\n      <td>-0.361064</td>\n      <td>0.477553</td>\n      <td>...</td>\n      <td>-0.240908</td>\n      <td>0.018232</td>\n      <td>-0.016774</td>\n      <td>-0.045310</td>\n      <td>-0.073097</td>\n      <td>-0.040038</td>\n      <td>0.120931</td>\n      <td>-0.102943</td>\n      <td>-0.095874</td>\n      <td>-0.312954</td>\n    </tr>\n    <tr>\n      <th>...</th>\n      <td>...</td>\n      <td>...</td>\n      <td>...</td>\n      <td>...</td>\n      <td>...</td>\n      <td>...</td>\n      <td>...</td>\n      <td>...</td>\n      <td>...</td>\n      <td>...</td>\n      <td>...</td>\n      <td>...</td>\n      <td>...</td>\n      <td>...</td>\n      <td>...</td>\n      <td>...</td>\n      <td>...</td>\n      <td>...</td>\n      <td>...</td>\n      <td>...</td>\n      <td>...</td>\n    </tr>\n    <tr>\n      <th>salamander</th>\n      <td>0.096228</td>\n      <td>-0.010855</td>\n      <td>-0.075636</td>\n      <td>-0.249446</td>\n      <td>-0.040038</td>\n      <td>-0.418216</td>\n      <td>0.112679</td>\n      <td>-0.112797</td>\n      <td>-0.329545</td>\n      <td>-0.053768</td>\n      <td>...</td>\n      <td>-0.133096</td>\n      <td>-0.008122</td>\n      <td>-0.402202</td>\n      <td>0.017078</td>\n      <td>0.187428</td>\n      <td>1.000000</td>\n      <td>-0.039335</td>\n      <td>0.412278</td>\n      <td>-0.289802</td>\n      <td>0.198891</td>\n    </tr>\n    <tr>\n      <th>subsidise</th>\n      <td>0.085406</td>\n      <td>-0.015348</td>\n      <td>0.193103</td>\n      <td>0.100355</td>\n      <td>0.120931</td>\n      <td>0.065917</td>\n      <td>0.056236</td>\n      <td>0.207329</td>\n      <td>0.311794</td>\n      <td>0.055868</td>\n      <td>...</td>\n      <td>0.070483</td>\n      <td>0.066019</td>\n      <td>0.161404</td>\n      <td>0.382829</td>\n      <td>0.081333</td>\n      <td>-0.039335</td>\n      <td>1.000000</td>\n      <td>-0.384266</td>\n      <td>0.501774</td>\n      <td>0.098403</td>\n    </tr>\n    <tr>\n      <th>affair</th>\n      <td>0.022897</td>\n      <td>-0.089455</td>\n      <td>-0.395140</td>\n      <td>-0.186217</td>\n      <td>-0.102943</td>\n      <td>-0.374214</td>\n      <td>0.412072</td>\n      <td>-0.194662</td>\n      <td>-0.137489</td>\n      <td>-0.002264</td>\n      <td>...</td>\n      <td>-0.132596</td>\n      <td>-0.185482</td>\n      <td>-0.225167</td>\n      <td>0.152667</td>\n      <td>0.134940</td>\n      <td>0.412278</td>\n      <td>-0.384266</td>\n      <td>1.000000</td>\n      <td>-0.457239</td>\n      <td>0.274568</td>\n    </tr>\n    <tr>\n      <th>recomendation</th>\n      <td>-0.068913</td>\n      <td>-0.119494</td>\n      <td>0.122972</td>\n      <td>-0.255388</td>\n      <td>-0.095874</td>\n      <td>0.152697</td>\n      <td>0.057575</td>\n      <td>0.452812</td>\n      <td>0.399243</td>\n      <td>-0.049620</td>\n      <td>...</td>\n      <td>0.038348</td>\n      <td>0.327888</td>\n      <td>0.246783</td>\n      <td>0.421507</td>\n      <td>-0.001800</td>\n      <td>-0.289802</td>\n      <td>0.501774</td>\n      <td>-0.457239</td>\n      <td>1.000000</td>\n      <td>0.030047</td>\n    </tr>\n    <tr>\n      <th>boto</th>\n      <td>-0.170900</td>\n      <td>-0.347730</td>\n      <td>-0.397313</td>\n      <td>-0.244516</td>\n      <td>-0.312954</td>\n      <td>-0.412304</td>\n      <td>0.077438</td>\n      <td>-0.140920</td>\n      <td>0.370249</td>\n      <td>-0.216545</td>\n      <td>...</td>\n      <td>-0.118170</td>\n      <td>-0.112105</td>\n      <td>-0.160069</td>\n      <td>0.405656</td>\n      <td>0.232992</td>\n      <td>0.198891</td>\n      <td>0.098403</td>\n      <td>0.274568</td>\n      <td>0.030047</td>\n      <td>1.000000</td>\n    </tr>\n  </tbody>\n</table>\n<p>3915 rows × 3915 columns</p>\n</div>"
     },
     "execution_count": 154,
     "metadata": {},
     "output_type": "execute_result"
    }
   ],
   "source": [
    "%%time\n",
    "model2_cosine_similarity_matrix = get_similarity_matrix(model2_language_model_filter.select_pos_embeddings(),\n",
    "                                                        model2_language_model_filter.extract_pos(),\n",
    "                                                        metric=cosine_similarity)\n",
    "model2_cosine_similarity_matrix"
   ],
   "metadata": {
    "collapsed": false,
    "pycharm": {
     "name": "#%%\n"
    }
   }
  },
  {
   "cell_type": "code",
   "execution_count": 155,
   "outputs": [
    {
     "name": "stdout",
     "output_type": "stream",
     "text": [
      "CPU times: user 25min 3s, sys: 3.14 s, total: 25min 6s\n",
      "Wall time: 25min 5s\n"
     ]
    },
    {
     "data": {
      "text/plain": "                         social   covid19   measure  european   support  \\\nsocial                 1.000000  0.047261  0.302269 -0.019376  0.056585   \ncovid19                0.047261  1.000000  0.146516  0.082327  0.100074   \nmeasure                0.302269  0.146516  1.000000 -0.086456  0.337076   \neuropean              -0.019376  0.082327 -0.086456  1.000000  0.118375   \nsupport                0.056585  0.100074  0.337076  0.118375  1.000000   \n...                         ...       ...       ...       ...       ...   \nautomatically.brussel  0.057163 -0.051312  0.031503  0.071790  0.204179   \nquestionsanswer        0.188196  0.026658  0.153136  0.171603 -0.018281   \nhandler               -0.100938 -0.036327 -0.245271  0.315906 -0.182164   \nairplane              -0.369806 -0.189783 -0.308768  0.050668 -0.110551   \nboto                  -0.082933  0.151625  0.133775  0.144458  0.163857   \n\n                        council  government  regulation   company  commission  \\\nsocial                 0.038042    0.151979   -0.019496 -0.038914   -0.037715   \ncovid19                0.044251    0.159929    0.125610  0.167732    0.096154   \nmeasure                0.034257    0.317543    0.090096  0.137636   -0.135527   \neuropean               0.451246    0.022791    0.240230 -0.085735    0.162220   \nsupport                0.096740    0.208751    0.073296  0.046556   -0.017247   \n...                         ...         ...         ...       ...         ...   \nautomatically.brussel  0.154683    0.013049   -0.065895  0.068018    0.122448   \nquestionsanswer        0.229237    0.118948    0.193595  0.017860    0.300632   \nhandler                0.099855    0.047742   -0.031953  0.083851    0.152472   \nairplane              -0.005845   -0.150000    0.068081  0.012641    0.055260   \nboto                   0.074929    0.096553   -0.101996  0.151929    0.043540   \n\n                       ...  approvedamounte  munition  everrise  advertiser  \\\nsocial                 ...        -0.039634  0.127300  0.026371   -0.012672   \ncovid19                ...        -0.024665  0.030856  0.209850    0.213827   \nmeasure                ...         0.087248 -0.028011  0.297404   -0.030079   \neuropean               ...         0.038040  0.212847  0.105400    0.015265   \nsupport                ...         0.157114 -0.062734  0.132723   -0.244210   \n...                    ...              ...       ...       ...         ...   \nautomatically.brussel  ...         0.050595 -0.010092 -0.069824   -0.354710   \nquestionsanswer        ...        -0.006560  0.803923  0.340550    0.454249   \nhandler                ...         0.002418  0.294676  0.111859    0.270040   \nairplane               ...        -0.048040 -0.113657 -0.244392   -0.033106   \nboto                   ...         0.254662  0.479346  0.308030    0.194718   \n\n                         cutoff  automatically.brussel  questionsanswer  \\\nsocial                 0.011492               0.057163         0.188196   \ncovid19               -0.030014              -0.051312         0.026658   \nmeasure                0.006785               0.031503         0.153136   \neuropean               0.146220               0.071790         0.171603   \nsupport                0.048411               0.204179        -0.018281   \n...                         ...                    ...              ...   \nautomatically.brussel  0.673157               1.000000        -0.029381   \nquestionsanswer        0.277353              -0.029381         1.000000   \nhandler                0.145424              -0.096897         0.311355   \nairplane               0.029493              -0.090031        -0.185365   \nboto                   0.671233               0.381919         0.468453   \n\n                        handler  airplane      boto  \nsocial                -0.100938 -0.369806 -0.082933  \ncovid19               -0.036327 -0.189783  0.151625  \nmeasure               -0.245271 -0.308768  0.133775  \neuropean               0.315906  0.050668  0.144458  \nsupport               -0.182164 -0.110551  0.163857  \n...                         ...       ...       ...  \nautomatically.brussel -0.096897 -0.090031  0.381919  \nquestionsanswer        0.311355 -0.185365  0.468453  \nhandler                1.000000  0.229185  0.331484  \nairplane               0.229185  1.000000 -0.078955  \nboto                   0.331484 -0.078955  1.000000  \n\n[12789 rows x 12789 columns]",
      "text/html": "<div>\n<style scoped>\n    .dataframe tbody tr th:only-of-type {\n        vertical-align: middle;\n    }\n\n    .dataframe tbody tr th {\n        vertical-align: top;\n    }\n\n    .dataframe thead th {\n        text-align: right;\n    }\n</style>\n<table border=\"1\" class=\"dataframe\">\n  <thead>\n    <tr style=\"text-align: right;\">\n      <th></th>\n      <th>social</th>\n      <th>covid19</th>\n      <th>measure</th>\n      <th>european</th>\n      <th>support</th>\n      <th>council</th>\n      <th>government</th>\n      <th>regulation</th>\n      <th>company</th>\n      <th>commission</th>\n      <th>...</th>\n      <th>approvedamounte</th>\n      <th>munition</th>\n      <th>everrise</th>\n      <th>advertiser</th>\n      <th>cutoff</th>\n      <th>automatically.brussel</th>\n      <th>questionsanswer</th>\n      <th>handler</th>\n      <th>airplane</th>\n      <th>boto</th>\n    </tr>\n  </thead>\n  <tbody>\n    <tr>\n      <th>social</th>\n      <td>1.000000</td>\n      <td>0.047261</td>\n      <td>0.302269</td>\n      <td>-0.019376</td>\n      <td>0.056585</td>\n      <td>0.038042</td>\n      <td>0.151979</td>\n      <td>-0.019496</td>\n      <td>-0.038914</td>\n      <td>-0.037715</td>\n      <td>...</td>\n      <td>-0.039634</td>\n      <td>0.127300</td>\n      <td>0.026371</td>\n      <td>-0.012672</td>\n      <td>0.011492</td>\n      <td>0.057163</td>\n      <td>0.188196</td>\n      <td>-0.100938</td>\n      <td>-0.369806</td>\n      <td>-0.082933</td>\n    </tr>\n    <tr>\n      <th>covid19</th>\n      <td>0.047261</td>\n      <td>1.000000</td>\n      <td>0.146516</td>\n      <td>0.082327</td>\n      <td>0.100074</td>\n      <td>0.044251</td>\n      <td>0.159929</td>\n      <td>0.125610</td>\n      <td>0.167732</td>\n      <td>0.096154</td>\n      <td>...</td>\n      <td>-0.024665</td>\n      <td>0.030856</td>\n      <td>0.209850</td>\n      <td>0.213827</td>\n      <td>-0.030014</td>\n      <td>-0.051312</td>\n      <td>0.026658</td>\n      <td>-0.036327</td>\n      <td>-0.189783</td>\n      <td>0.151625</td>\n    </tr>\n    <tr>\n      <th>measure</th>\n      <td>0.302269</td>\n      <td>0.146516</td>\n      <td>1.000000</td>\n      <td>-0.086456</td>\n      <td>0.337076</td>\n      <td>0.034257</td>\n      <td>0.317543</td>\n      <td>0.090096</td>\n      <td>0.137636</td>\n      <td>-0.135527</td>\n      <td>...</td>\n      <td>0.087248</td>\n      <td>-0.028011</td>\n      <td>0.297404</td>\n      <td>-0.030079</td>\n      <td>0.006785</td>\n      <td>0.031503</td>\n      <td>0.153136</td>\n      <td>-0.245271</td>\n      <td>-0.308768</td>\n      <td>0.133775</td>\n    </tr>\n    <tr>\n      <th>european</th>\n      <td>-0.019376</td>\n      <td>0.082327</td>\n      <td>-0.086456</td>\n      <td>1.000000</td>\n      <td>0.118375</td>\n      <td>0.451246</td>\n      <td>0.022791</td>\n      <td>0.240230</td>\n      <td>-0.085735</td>\n      <td>0.162220</td>\n      <td>...</td>\n      <td>0.038040</td>\n      <td>0.212847</td>\n      <td>0.105400</td>\n      <td>0.015265</td>\n      <td>0.146220</td>\n      <td>0.071790</td>\n      <td>0.171603</td>\n      <td>0.315906</td>\n      <td>0.050668</td>\n      <td>0.144458</td>\n    </tr>\n    <tr>\n      <th>support</th>\n      <td>0.056585</td>\n      <td>0.100074</td>\n      <td>0.337076</td>\n      <td>0.118375</td>\n      <td>1.000000</td>\n      <td>0.096740</td>\n      <td>0.208751</td>\n      <td>0.073296</td>\n      <td>0.046556</td>\n      <td>-0.017247</td>\n      <td>...</td>\n      <td>0.157114</td>\n      <td>-0.062734</td>\n      <td>0.132723</td>\n      <td>-0.244210</td>\n      <td>0.048411</td>\n      <td>0.204179</td>\n      <td>-0.018281</td>\n      <td>-0.182164</td>\n      <td>-0.110551</td>\n      <td>0.163857</td>\n    </tr>\n    <tr>\n      <th>...</th>\n      <td>...</td>\n      <td>...</td>\n      <td>...</td>\n      <td>...</td>\n      <td>...</td>\n      <td>...</td>\n      <td>...</td>\n      <td>...</td>\n      <td>...</td>\n      <td>...</td>\n      <td>...</td>\n      <td>...</td>\n      <td>...</td>\n      <td>...</td>\n      <td>...</td>\n      <td>...</td>\n      <td>...</td>\n      <td>...</td>\n      <td>...</td>\n      <td>...</td>\n      <td>...</td>\n    </tr>\n    <tr>\n      <th>automatically.brussel</th>\n      <td>0.057163</td>\n      <td>-0.051312</td>\n      <td>0.031503</td>\n      <td>0.071790</td>\n      <td>0.204179</td>\n      <td>0.154683</td>\n      <td>0.013049</td>\n      <td>-0.065895</td>\n      <td>0.068018</td>\n      <td>0.122448</td>\n      <td>...</td>\n      <td>0.050595</td>\n      <td>-0.010092</td>\n      <td>-0.069824</td>\n      <td>-0.354710</td>\n      <td>0.673157</td>\n      <td>1.000000</td>\n      <td>-0.029381</td>\n      <td>-0.096897</td>\n      <td>-0.090031</td>\n      <td>0.381919</td>\n    </tr>\n    <tr>\n      <th>questionsanswer</th>\n      <td>0.188196</td>\n      <td>0.026658</td>\n      <td>0.153136</td>\n      <td>0.171603</td>\n      <td>-0.018281</td>\n      <td>0.229237</td>\n      <td>0.118948</td>\n      <td>0.193595</td>\n      <td>0.017860</td>\n      <td>0.300632</td>\n      <td>...</td>\n      <td>-0.006560</td>\n      <td>0.803923</td>\n      <td>0.340550</td>\n      <td>0.454249</td>\n      <td>0.277353</td>\n      <td>-0.029381</td>\n      <td>1.000000</td>\n      <td>0.311355</td>\n      <td>-0.185365</td>\n      <td>0.468453</td>\n    </tr>\n    <tr>\n      <th>handler</th>\n      <td>-0.100938</td>\n      <td>-0.036327</td>\n      <td>-0.245271</td>\n      <td>0.315906</td>\n      <td>-0.182164</td>\n      <td>0.099855</td>\n      <td>0.047742</td>\n      <td>-0.031953</td>\n      <td>0.083851</td>\n      <td>0.152472</td>\n      <td>...</td>\n      <td>0.002418</td>\n      <td>0.294676</td>\n      <td>0.111859</td>\n      <td>0.270040</td>\n      <td>0.145424</td>\n      <td>-0.096897</td>\n      <td>0.311355</td>\n      <td>1.000000</td>\n      <td>0.229185</td>\n      <td>0.331484</td>\n    </tr>\n    <tr>\n      <th>airplane</th>\n      <td>-0.369806</td>\n      <td>-0.189783</td>\n      <td>-0.308768</td>\n      <td>0.050668</td>\n      <td>-0.110551</td>\n      <td>-0.005845</td>\n      <td>-0.150000</td>\n      <td>0.068081</td>\n      <td>0.012641</td>\n      <td>0.055260</td>\n      <td>...</td>\n      <td>-0.048040</td>\n      <td>-0.113657</td>\n      <td>-0.244392</td>\n      <td>-0.033106</td>\n      <td>0.029493</td>\n      <td>-0.090031</td>\n      <td>-0.185365</td>\n      <td>0.229185</td>\n      <td>1.000000</td>\n      <td>-0.078955</td>\n    </tr>\n    <tr>\n      <th>boto</th>\n      <td>-0.082933</td>\n      <td>0.151625</td>\n      <td>0.133775</td>\n      <td>0.144458</td>\n      <td>0.163857</td>\n      <td>0.074929</td>\n      <td>0.096553</td>\n      <td>-0.101996</td>\n      <td>0.151929</td>\n      <td>0.043540</td>\n      <td>...</td>\n      <td>0.254662</td>\n      <td>0.479346</td>\n      <td>0.308030</td>\n      <td>0.194718</td>\n      <td>0.671233</td>\n      <td>0.381919</td>\n      <td>0.468453</td>\n      <td>0.331484</td>\n      <td>-0.078955</td>\n      <td>1.000000</td>\n    </tr>\n  </tbody>\n</table>\n<p>12789 rows × 12789 columns</p>\n</div>"
     },
     "execution_count": 155,
     "metadata": {},
     "output_type": "execute_result"
    }
   ],
   "source": [
    "%%time\n",
    "model3_cosine_similarity_matrix = get_similarity_matrix(model3_language_model_filter.select_pos_embeddings(),\n",
    "                                                        model3_language_model_filter.extract_pos(),\n",
    "                                                        metric=cosine_similarity)\n",
    "model3_cosine_similarity_matrix"
   ],
   "metadata": {
    "collapsed": false,
    "pycharm": {
     "name": "#%%\n"
    }
   }
  },
  {
   "cell_type": "markdown",
   "source": [
    "### Manhattan similarity"
   ],
   "metadata": {
    "collapsed": false
   }
  },
  {
   "cell_type": "code",
   "execution_count": 156,
   "outputs": [
    {
     "name": "stdout",
     "output_type": "stream",
     "text": [
      "CPU times: user 14min 59s, sys: 732 ms, total: 14min 59s\n",
      "Wall time: 15min\n"
     ]
    },
    {
     "data": {
      "text/plain": "                     social   measure   covid19   support  government  \\\nsocial             1.000000  0.003328  0.002649  0.003028    0.002814   \nmeasure            0.003328  1.000000  0.002925  0.003912    0.003491   \ncovid19            0.002649  0.002925  1.000000  0.003028    0.002879   \nsupport            0.003028  0.003912  0.003028  1.000000    0.003279   \ngovernment         0.002814  0.003491  0.002879  0.003279    1.000000   \n...                     ...       ...       ...       ...         ...   \nappearance         0.003723  0.004643  0.003672  0.004705    0.003779   \nwalloniebruxelle   0.003720  0.004632  0.003661  0.004709    0.003774   \ninvest.brussel     0.003721  0.004632  0.003666  0.004705    0.003772   \ndeadlines.flander  0.003720  0.004641  0.003661  0.004704    0.003776   \ncolive             0.003722  0.004643  0.003673  0.004707    0.003777   \n\n                    company  employees  measures    period  companies  ...  \\\nsocial             0.002918   0.003114  0.003108  0.003132   0.003125  ...   \nmeasure            0.003518   0.003548  0.007710  0.004097   0.004145  ...   \ncovid19            0.003302   0.003164  0.003261  0.003319   0.003421  ...   \nsupport            0.003469   0.003636  0.003560  0.003634   0.003983  ...   \ngovernment         0.003163   0.003127  0.003514  0.003157   0.003260  ...   \n...                     ...        ...       ...       ...        ...  ...   \nappearance         0.005341   0.005090  0.004358  0.005764   0.005830  ...   \nwalloniebruxelle   0.005340   0.005086  0.004348  0.005747   0.005830  ...   \ninvest.brussel     0.005336   0.005089  0.004346  0.005733   0.005826  ...   \ndeadlines.flander  0.005332   0.005096  0.004354  0.005756   0.005818  ...   \ncolive             0.005343   0.005086  0.004358  0.005758   0.005831  ...   \n\n                    outlook   revisit    skille  consutle  pedagogue  \\\nsocial             0.003723  0.003724  0.003724  0.003725   0.003722   \nmeasure            0.004635  0.004632  0.004639  0.004638   0.004631   \ncovid19            0.003673  0.003668  0.003666  0.003662   0.003662   \nsupport            0.004703  0.004703  0.004717  0.004703   0.004704   \ngovernment         0.003775  0.003772  0.003773  0.003776   0.003772   \n...                     ...       ...       ...       ...        ...   \nappearance         0.467610  0.351231  0.351070  0.354458   0.382433   \nwalloniebruxelle   0.325016  0.318744  0.340388  0.314917   0.381068   \ninvest.brussel     0.356213  0.343195  0.356779  0.342668   0.381393   \ndeadlines.flander  0.352887  0.346610  0.364487  0.347214   0.382428   \ncolive             0.448050  0.379615  0.387708  0.364169   0.381876   \n\n                   appearance  walloniebruxelle  invest.brussel  \\\nsocial               0.003723          0.003720        0.003721   \nmeasure              0.004643          0.004632        0.004632   \ncovid19              0.003672          0.003661        0.003666   \nsupport              0.004705          0.004709        0.004705   \ngovernment           0.003779          0.003774        0.003772   \n...                       ...               ...             ...   \nappearance           1.000000          0.328692        0.338967   \nwalloniebruxelle     0.328692          1.000000        0.340315   \ninvest.brussel       0.338967          0.340315        1.000000   \ndeadlines.flander    0.335299          0.280700        0.343618   \ncolive               0.464067          0.337550        0.377392   \n\n                   deadlines.flander    colive  \nsocial                      0.003720  0.003722  \nmeasure                     0.004641  0.004643  \ncovid19                     0.003661  0.003673  \nsupport                     0.004704  0.004707  \ngovernment                  0.003776  0.003777  \n...                              ...       ...  \nappearance                  0.335299  0.464067  \nwalloniebruxelle            0.280700  0.337550  \ninvest.brussel              0.343618  0.377392  \ndeadlines.flander           1.000000  0.374029  \ncolive                      0.374029  1.000000  \n\n[10968 rows x 10968 columns]",
      "text/html": "<div>\n<style scoped>\n    .dataframe tbody tr th:only-of-type {\n        vertical-align: middle;\n    }\n\n    .dataframe tbody tr th {\n        vertical-align: top;\n    }\n\n    .dataframe thead th {\n        text-align: right;\n    }\n</style>\n<table border=\"1\" class=\"dataframe\">\n  <thead>\n    <tr style=\"text-align: right;\">\n      <th></th>\n      <th>social</th>\n      <th>measure</th>\n      <th>covid19</th>\n      <th>support</th>\n      <th>government</th>\n      <th>company</th>\n      <th>employees</th>\n      <th>measures</th>\n      <th>period</th>\n      <th>companies</th>\n      <th>...</th>\n      <th>outlook</th>\n      <th>revisit</th>\n      <th>skille</th>\n      <th>consutle</th>\n      <th>pedagogue</th>\n      <th>appearance</th>\n      <th>walloniebruxelle</th>\n      <th>invest.brussel</th>\n      <th>deadlines.flander</th>\n      <th>colive</th>\n    </tr>\n  </thead>\n  <tbody>\n    <tr>\n      <th>social</th>\n      <td>1.000000</td>\n      <td>0.003328</td>\n      <td>0.002649</td>\n      <td>0.003028</td>\n      <td>0.002814</td>\n      <td>0.002918</td>\n      <td>0.003114</td>\n      <td>0.003108</td>\n      <td>0.003132</td>\n      <td>0.003125</td>\n      <td>...</td>\n      <td>0.003723</td>\n      <td>0.003724</td>\n      <td>0.003724</td>\n      <td>0.003725</td>\n      <td>0.003722</td>\n      <td>0.003723</td>\n      <td>0.003720</td>\n      <td>0.003721</td>\n      <td>0.003720</td>\n      <td>0.003722</td>\n    </tr>\n    <tr>\n      <th>measure</th>\n      <td>0.003328</td>\n      <td>1.000000</td>\n      <td>0.002925</td>\n      <td>0.003912</td>\n      <td>0.003491</td>\n      <td>0.003518</td>\n      <td>0.003548</td>\n      <td>0.007710</td>\n      <td>0.004097</td>\n      <td>0.004145</td>\n      <td>...</td>\n      <td>0.004635</td>\n      <td>0.004632</td>\n      <td>0.004639</td>\n      <td>0.004638</td>\n      <td>0.004631</td>\n      <td>0.004643</td>\n      <td>0.004632</td>\n      <td>0.004632</td>\n      <td>0.004641</td>\n      <td>0.004643</td>\n    </tr>\n    <tr>\n      <th>covid19</th>\n      <td>0.002649</td>\n      <td>0.002925</td>\n      <td>1.000000</td>\n      <td>0.003028</td>\n      <td>0.002879</td>\n      <td>0.003302</td>\n      <td>0.003164</td>\n      <td>0.003261</td>\n      <td>0.003319</td>\n      <td>0.003421</td>\n      <td>...</td>\n      <td>0.003673</td>\n      <td>0.003668</td>\n      <td>0.003666</td>\n      <td>0.003662</td>\n      <td>0.003662</td>\n      <td>0.003672</td>\n      <td>0.003661</td>\n      <td>0.003666</td>\n      <td>0.003661</td>\n      <td>0.003673</td>\n    </tr>\n    <tr>\n      <th>support</th>\n      <td>0.003028</td>\n      <td>0.003912</td>\n      <td>0.003028</td>\n      <td>1.000000</td>\n      <td>0.003279</td>\n      <td>0.003469</td>\n      <td>0.003636</td>\n      <td>0.003560</td>\n      <td>0.003634</td>\n      <td>0.003983</td>\n      <td>...</td>\n      <td>0.004703</td>\n      <td>0.004703</td>\n      <td>0.004717</td>\n      <td>0.004703</td>\n      <td>0.004704</td>\n      <td>0.004705</td>\n      <td>0.004709</td>\n      <td>0.004705</td>\n      <td>0.004704</td>\n      <td>0.004707</td>\n    </tr>\n    <tr>\n      <th>government</th>\n      <td>0.002814</td>\n      <td>0.003491</td>\n      <td>0.002879</td>\n      <td>0.003279</td>\n      <td>1.000000</td>\n      <td>0.003163</td>\n      <td>0.003127</td>\n      <td>0.003514</td>\n      <td>0.003157</td>\n      <td>0.003260</td>\n      <td>...</td>\n      <td>0.003775</td>\n      <td>0.003772</td>\n      <td>0.003773</td>\n      <td>0.003776</td>\n      <td>0.003772</td>\n      <td>0.003779</td>\n      <td>0.003774</td>\n      <td>0.003772</td>\n      <td>0.003776</td>\n      <td>0.003777</td>\n    </tr>\n    <tr>\n      <th>...</th>\n      <td>...</td>\n      <td>...</td>\n      <td>...</td>\n      <td>...</td>\n      <td>...</td>\n      <td>...</td>\n      <td>...</td>\n      <td>...</td>\n      <td>...</td>\n      <td>...</td>\n      <td>...</td>\n      <td>...</td>\n      <td>...</td>\n      <td>...</td>\n      <td>...</td>\n      <td>...</td>\n      <td>...</td>\n      <td>...</td>\n      <td>...</td>\n      <td>...</td>\n      <td>...</td>\n    </tr>\n    <tr>\n      <th>appearance</th>\n      <td>0.003723</td>\n      <td>0.004643</td>\n      <td>0.003672</td>\n      <td>0.004705</td>\n      <td>0.003779</td>\n      <td>0.005341</td>\n      <td>0.005090</td>\n      <td>0.004358</td>\n      <td>0.005764</td>\n      <td>0.005830</td>\n      <td>...</td>\n      <td>0.467610</td>\n      <td>0.351231</td>\n      <td>0.351070</td>\n      <td>0.354458</td>\n      <td>0.382433</td>\n      <td>1.000000</td>\n      <td>0.328692</td>\n      <td>0.338967</td>\n      <td>0.335299</td>\n      <td>0.464067</td>\n    </tr>\n    <tr>\n      <th>walloniebruxelle</th>\n      <td>0.003720</td>\n      <td>0.004632</td>\n      <td>0.003661</td>\n      <td>0.004709</td>\n      <td>0.003774</td>\n      <td>0.005340</td>\n      <td>0.005086</td>\n      <td>0.004348</td>\n      <td>0.005747</td>\n      <td>0.005830</td>\n      <td>...</td>\n      <td>0.325016</td>\n      <td>0.318744</td>\n      <td>0.340388</td>\n      <td>0.314917</td>\n      <td>0.381068</td>\n      <td>0.328692</td>\n      <td>1.000000</td>\n      <td>0.340315</td>\n      <td>0.280700</td>\n      <td>0.337550</td>\n    </tr>\n    <tr>\n      <th>invest.brussel</th>\n      <td>0.003721</td>\n      <td>0.004632</td>\n      <td>0.003666</td>\n      <td>0.004705</td>\n      <td>0.003772</td>\n      <td>0.005336</td>\n      <td>0.005089</td>\n      <td>0.004346</td>\n      <td>0.005733</td>\n      <td>0.005826</td>\n      <td>...</td>\n      <td>0.356213</td>\n      <td>0.343195</td>\n      <td>0.356779</td>\n      <td>0.342668</td>\n      <td>0.381393</td>\n      <td>0.338967</td>\n      <td>0.340315</td>\n      <td>1.000000</td>\n      <td>0.343618</td>\n      <td>0.377392</td>\n    </tr>\n    <tr>\n      <th>deadlines.flander</th>\n      <td>0.003720</td>\n      <td>0.004641</td>\n      <td>0.003661</td>\n      <td>0.004704</td>\n      <td>0.003776</td>\n      <td>0.005332</td>\n      <td>0.005096</td>\n      <td>0.004354</td>\n      <td>0.005756</td>\n      <td>0.005818</td>\n      <td>...</td>\n      <td>0.352887</td>\n      <td>0.346610</td>\n      <td>0.364487</td>\n      <td>0.347214</td>\n      <td>0.382428</td>\n      <td>0.335299</td>\n      <td>0.280700</td>\n      <td>0.343618</td>\n      <td>1.000000</td>\n      <td>0.374029</td>\n    </tr>\n    <tr>\n      <th>colive</th>\n      <td>0.003722</td>\n      <td>0.004643</td>\n      <td>0.003673</td>\n      <td>0.004707</td>\n      <td>0.003777</td>\n      <td>0.005343</td>\n      <td>0.005086</td>\n      <td>0.004358</td>\n      <td>0.005758</td>\n      <td>0.005831</td>\n      <td>...</td>\n      <td>0.448050</td>\n      <td>0.379615</td>\n      <td>0.387708</td>\n      <td>0.364169</td>\n      <td>0.381876</td>\n      <td>0.464067</td>\n      <td>0.337550</td>\n      <td>0.377392</td>\n      <td>0.374029</td>\n      <td>1.000000</td>\n    </tr>\n  </tbody>\n</table>\n<p>10968 rows × 10968 columns</p>\n</div>"
     },
     "execution_count": 156,
     "metadata": {},
     "output_type": "execute_result"
    }
   ],
   "source": [
    "%%time\n",
    "model1_manhattan_similarity_matrix = get_similarity_matrix(model1_language_model_filter.select_pos_embeddings(),\n",
    "                                                           model1_language_model_filter.extract_pos(),\n",
    "                                                           metric=manhattan_similarity)\n",
    "model1_manhattan_similarity_matrix"
   ],
   "metadata": {
    "collapsed": false,
    "pycharm": {
     "name": "#%%\n"
    }
   }
  },
  {
   "cell_type": "code",
   "execution_count": 157,
   "outputs": [
    {
     "data": {
      "text/plain": "               european   council  regulation  commission  parliament  \\\neuropean       1.000000  0.007463    0.005203    0.006098    0.006612   \ncouncil        0.007463  1.000000    0.006318    0.007261    0.006287   \nregulation     0.005203  0.006318    1.000000    0.005080    0.006090   \ncommission     0.006098  0.007261    0.005080    1.000000    0.006079   \nparliament     0.006612  0.006287    0.006090    0.006079    1.000000   \n...                 ...       ...         ...         ...         ...   \nsalamander     0.005425  0.005409    0.004928    0.006697    0.004915   \nsubsidise      0.005425  0.005407    0.004939    0.006716    0.004926   \naffair         0.005422  0.005405    0.004914    0.006699    0.004912   \nrecomendation  0.005420  0.005404    0.004939    0.006688    0.004917   \nboto           0.005416  0.005396    0.004923    0.006698    0.004911   \n\n               decision  committee         c      case  document  ...  \\\neuropean       0.005198   0.006044  0.003325  0.002928  0.004877  ...   \ncouncil        0.005532   0.005414  0.003377  0.002867  0.005150  ...   \nregulation     0.006350   0.004019  0.003243  0.002770  0.004306  ...   \ncommission     0.005842   0.005005  0.003653  0.003305  0.007021  ...   \nparliament     0.005253   0.005085  0.003172  0.002775  0.005008  ...   \n...                 ...        ...       ...       ...       ...  ...   \nsalamander     0.005950   0.005151  0.004396  0.004337  0.005087  ...   \nsubsidise      0.005968   0.005151  0.004404  0.004353  0.005091  ...   \naffair         0.005944   0.005166  0.004392  0.004338  0.005085  ...   \nrecomendation  0.005974   0.005149  0.004414  0.004357  0.005087  ...   \nboto           0.005951   0.005148  0.004397  0.004349  0.005083  ...   \n\n                 cheese  donation  supplier   torvald  salamandrivoran  \\\neuropean       0.005410  0.005421  0.005425  0.005423         0.005422   \ncouncil        0.005398  0.005415  0.005417  0.005406         0.005405   \nregulation     0.004924  0.004933  0.004929  0.004927         0.004923   \ncommission     0.006697  0.006706  0.006734  0.006711         0.006723   \nparliament     0.004910  0.004919  0.004921  0.004919         0.004914   \n...                 ...       ...       ...       ...              ...   \nsalamander     0.323153  0.329601  0.251994  0.355563         0.345875   \nsubsidise      0.325394  0.317107  0.278637  0.376983         0.312028   \naffair         0.281145  0.274125  0.232987  0.319620         0.308289   \nrecomendation  0.316515  0.344127  0.287004  0.378579         0.299337   \nboto           0.335455  0.327327  0.275667  0.424087         0.356321   \n\n               salamander  subsidise    affair  recomendation      boto  \neuropean         0.005425   0.005425  0.005422       0.005420  0.005416  \ncouncil          0.005409   0.005407  0.005405       0.005404  0.005396  \nregulation       0.004928   0.004939  0.004914       0.004939  0.004923  \ncommission       0.006697   0.006716  0.006699       0.006688  0.006698  \nparliament       0.004915   0.004926  0.004912       0.004917  0.004911  \n...                   ...        ...       ...            ...       ...  \nsalamander       1.000000   0.339462  0.370658       0.310972  0.416754  \nsubsidise        0.339462   1.000000  0.262862       0.394103  0.355865  \naffair           0.370658   0.262862  1.000000       0.256272  0.354954  \nrecomendation    0.310972   0.394103  0.256272       1.000000  0.351290  \nboto             0.416754   0.355865  0.354954       0.351290  1.000000  \n\n[3915 rows x 3915 columns]",
      "text/html": "<div>\n<style scoped>\n    .dataframe tbody tr th:only-of-type {\n        vertical-align: middle;\n    }\n\n    .dataframe tbody tr th {\n        vertical-align: top;\n    }\n\n    .dataframe thead th {\n        text-align: right;\n    }\n</style>\n<table border=\"1\" class=\"dataframe\">\n  <thead>\n    <tr style=\"text-align: right;\">\n      <th></th>\n      <th>european</th>\n      <th>council</th>\n      <th>regulation</th>\n      <th>commission</th>\n      <th>parliament</th>\n      <th>decision</th>\n      <th>committee</th>\n      <th>c</th>\n      <th>case</th>\n      <th>document</th>\n      <th>...</th>\n      <th>cheese</th>\n      <th>donation</th>\n      <th>supplier</th>\n      <th>torvald</th>\n      <th>salamandrivoran</th>\n      <th>salamander</th>\n      <th>subsidise</th>\n      <th>affair</th>\n      <th>recomendation</th>\n      <th>boto</th>\n    </tr>\n  </thead>\n  <tbody>\n    <tr>\n      <th>european</th>\n      <td>1.000000</td>\n      <td>0.007463</td>\n      <td>0.005203</td>\n      <td>0.006098</td>\n      <td>0.006612</td>\n      <td>0.005198</td>\n      <td>0.006044</td>\n      <td>0.003325</td>\n      <td>0.002928</td>\n      <td>0.004877</td>\n      <td>...</td>\n      <td>0.005410</td>\n      <td>0.005421</td>\n      <td>0.005425</td>\n      <td>0.005423</td>\n      <td>0.005422</td>\n      <td>0.005425</td>\n      <td>0.005425</td>\n      <td>0.005422</td>\n      <td>0.005420</td>\n      <td>0.005416</td>\n    </tr>\n    <tr>\n      <th>council</th>\n      <td>0.007463</td>\n      <td>1.000000</td>\n      <td>0.006318</td>\n      <td>0.007261</td>\n      <td>0.006287</td>\n      <td>0.005532</td>\n      <td>0.005414</td>\n      <td>0.003377</td>\n      <td>0.002867</td>\n      <td>0.005150</td>\n      <td>...</td>\n      <td>0.005398</td>\n      <td>0.005415</td>\n      <td>0.005417</td>\n      <td>0.005406</td>\n      <td>0.005405</td>\n      <td>0.005409</td>\n      <td>0.005407</td>\n      <td>0.005405</td>\n      <td>0.005404</td>\n      <td>0.005396</td>\n    </tr>\n    <tr>\n      <th>regulation</th>\n      <td>0.005203</td>\n      <td>0.006318</td>\n      <td>1.000000</td>\n      <td>0.005080</td>\n      <td>0.006090</td>\n      <td>0.006350</td>\n      <td>0.004019</td>\n      <td>0.003243</td>\n      <td>0.002770</td>\n      <td>0.004306</td>\n      <td>...</td>\n      <td>0.004924</td>\n      <td>0.004933</td>\n      <td>0.004929</td>\n      <td>0.004927</td>\n      <td>0.004923</td>\n      <td>0.004928</td>\n      <td>0.004939</td>\n      <td>0.004914</td>\n      <td>0.004939</td>\n      <td>0.004923</td>\n    </tr>\n    <tr>\n      <th>commission</th>\n      <td>0.006098</td>\n      <td>0.007261</td>\n      <td>0.005080</td>\n      <td>1.000000</td>\n      <td>0.006079</td>\n      <td>0.005842</td>\n      <td>0.005005</td>\n      <td>0.003653</td>\n      <td>0.003305</td>\n      <td>0.007021</td>\n      <td>...</td>\n      <td>0.006697</td>\n      <td>0.006706</td>\n      <td>0.006734</td>\n      <td>0.006711</td>\n      <td>0.006723</td>\n      <td>0.006697</td>\n      <td>0.006716</td>\n      <td>0.006699</td>\n      <td>0.006688</td>\n      <td>0.006698</td>\n    </tr>\n    <tr>\n      <th>parliament</th>\n      <td>0.006612</td>\n      <td>0.006287</td>\n      <td>0.006090</td>\n      <td>0.006079</td>\n      <td>1.000000</td>\n      <td>0.005253</td>\n      <td>0.005085</td>\n      <td>0.003172</td>\n      <td>0.002775</td>\n      <td>0.005008</td>\n      <td>...</td>\n      <td>0.004910</td>\n      <td>0.004919</td>\n      <td>0.004921</td>\n      <td>0.004919</td>\n      <td>0.004914</td>\n      <td>0.004915</td>\n      <td>0.004926</td>\n      <td>0.004912</td>\n      <td>0.004917</td>\n      <td>0.004911</td>\n    </tr>\n    <tr>\n      <th>...</th>\n      <td>...</td>\n      <td>...</td>\n      <td>...</td>\n      <td>...</td>\n      <td>...</td>\n      <td>...</td>\n      <td>...</td>\n      <td>...</td>\n      <td>...</td>\n      <td>...</td>\n      <td>...</td>\n      <td>...</td>\n      <td>...</td>\n      <td>...</td>\n      <td>...</td>\n      <td>...</td>\n      <td>...</td>\n      <td>...</td>\n      <td>...</td>\n      <td>...</td>\n      <td>...</td>\n    </tr>\n    <tr>\n      <th>salamander</th>\n      <td>0.005425</td>\n      <td>0.005409</td>\n      <td>0.004928</td>\n      <td>0.006697</td>\n      <td>0.004915</td>\n      <td>0.005950</td>\n      <td>0.005151</td>\n      <td>0.004396</td>\n      <td>0.004337</td>\n      <td>0.005087</td>\n      <td>...</td>\n      <td>0.323153</td>\n      <td>0.329601</td>\n      <td>0.251994</td>\n      <td>0.355563</td>\n      <td>0.345875</td>\n      <td>1.000000</td>\n      <td>0.339462</td>\n      <td>0.370658</td>\n      <td>0.310972</td>\n      <td>0.416754</td>\n    </tr>\n    <tr>\n      <th>subsidise</th>\n      <td>0.005425</td>\n      <td>0.005407</td>\n      <td>0.004939</td>\n      <td>0.006716</td>\n      <td>0.004926</td>\n      <td>0.005968</td>\n      <td>0.005151</td>\n      <td>0.004404</td>\n      <td>0.004353</td>\n      <td>0.005091</td>\n      <td>...</td>\n      <td>0.325394</td>\n      <td>0.317107</td>\n      <td>0.278637</td>\n      <td>0.376983</td>\n      <td>0.312028</td>\n      <td>0.339462</td>\n      <td>1.000000</td>\n      <td>0.262862</td>\n      <td>0.394103</td>\n      <td>0.355865</td>\n    </tr>\n    <tr>\n      <th>affair</th>\n      <td>0.005422</td>\n      <td>0.005405</td>\n      <td>0.004914</td>\n      <td>0.006699</td>\n      <td>0.004912</td>\n      <td>0.005944</td>\n      <td>0.005166</td>\n      <td>0.004392</td>\n      <td>0.004338</td>\n      <td>0.005085</td>\n      <td>...</td>\n      <td>0.281145</td>\n      <td>0.274125</td>\n      <td>0.232987</td>\n      <td>0.319620</td>\n      <td>0.308289</td>\n      <td>0.370658</td>\n      <td>0.262862</td>\n      <td>1.000000</td>\n      <td>0.256272</td>\n      <td>0.354954</td>\n    </tr>\n    <tr>\n      <th>recomendation</th>\n      <td>0.005420</td>\n      <td>0.005404</td>\n      <td>0.004939</td>\n      <td>0.006688</td>\n      <td>0.004917</td>\n      <td>0.005974</td>\n      <td>0.005149</td>\n      <td>0.004414</td>\n      <td>0.004357</td>\n      <td>0.005087</td>\n      <td>...</td>\n      <td>0.316515</td>\n      <td>0.344127</td>\n      <td>0.287004</td>\n      <td>0.378579</td>\n      <td>0.299337</td>\n      <td>0.310972</td>\n      <td>0.394103</td>\n      <td>0.256272</td>\n      <td>1.000000</td>\n      <td>0.351290</td>\n    </tr>\n    <tr>\n      <th>boto</th>\n      <td>0.005416</td>\n      <td>0.005396</td>\n      <td>0.004923</td>\n      <td>0.006698</td>\n      <td>0.004911</td>\n      <td>0.005951</td>\n      <td>0.005148</td>\n      <td>0.004397</td>\n      <td>0.004349</td>\n      <td>0.005083</td>\n      <td>...</td>\n      <td>0.335455</td>\n      <td>0.327327</td>\n      <td>0.275667</td>\n      <td>0.424087</td>\n      <td>0.356321</td>\n      <td>0.416754</td>\n      <td>0.355865</td>\n      <td>0.354954</td>\n      <td>0.351290</td>\n      <td>1.000000</td>\n    </tr>\n  </tbody>\n</table>\n<p>3915 rows × 3915 columns</p>\n</div>"
     },
     "execution_count": 157,
     "metadata": {},
     "output_type": "execute_result"
    }
   ],
   "source": [
    "model2_manhattan_similarity_matrix = get_similarity_matrix(model2_language_model_filter.select_pos_embeddings(),\n",
    "                                                           model2_language_model_filter.extract_pos(),\n",
    "                                                           metric=manhattan_similarity)\n",
    "model2_manhattan_similarity_matrix"
   ],
   "metadata": {
    "collapsed": false,
    "pycharm": {
     "name": "#%%\n"
    }
   }
  },
  {
   "cell_type": "code",
   "execution_count": 158,
   "outputs": [
    {
     "name": "stdout",
     "output_type": "stream",
     "text": [
      "CPU times: user 20min 7s, sys: 2 s, total: 20min 9s\n",
      "Wall time: 20min 10s\n"
     ]
    },
    {
     "data": {
      "text/plain": "                         social   covid19   measure  european   support  \\\nsocial                 1.000000  0.002455  0.003110  0.002329  0.002700   \ncovid19                0.002455  1.000000  0.002985  0.002661  0.002889   \nmeasure                0.003110  0.002985  1.000000  0.002423  0.003456   \neuropean               0.002329  0.002661  0.002423  1.000000  0.002813   \nsupport                0.002700  0.002889  0.003456  0.002813  1.000000   \n...                         ...       ...       ...       ...       ...   \nautomatically.brussel  0.003256  0.003632  0.004158  0.003465  0.004176   \nquestionsanswer        0.003259  0.003632  0.004165  0.003466  0.004167   \nhandler                0.003252  0.003633  0.004152  0.003469  0.004165   \nairplane               0.003249  0.003630  0.004150  0.003464  0.004166   \nboto                   0.003252  0.003636  0.004163  0.003466  0.004175   \n\n                        council  government  regulation   company  commission  \\\nsocial                 0.002292    0.002687    0.002324  0.002654    0.002498   \ncovid19                0.002369    0.002833    0.002553  0.003190    0.002777   \nmeasure                0.002488    0.003232    0.002720  0.003481    0.002686   \neuropean               0.003102    0.002542    0.002835  0.002676    0.002904   \nsupport                0.002611    0.003047    0.002721  0.003246    0.002821   \n...                         ...         ...         ...       ...         ...   \nautomatically.brussel  0.002995    0.003694    0.003342  0.004971    0.003877   \nquestionsanswer        0.002999    0.003694    0.003347  0.004967    0.003885   \nhandler                0.002993    0.003693    0.003342  0.004973    0.003878   \nairplane               0.002992    0.003690    0.003345  0.004968    0.003875   \nboto                   0.002994    0.003696    0.003343  0.004974    0.003877   \n\n                       ...  approvedamounte  munition  everrise  advertiser  \\\nsocial                 ...         0.003254  0.003257  0.003256    0.003255   \ncovid19                ...         0.003633  0.003633  0.003637    0.003637   \nmeasure                ...         0.004162  0.004159  0.004167    0.004159   \neuropean               ...         0.003464  0.003466  0.003465    0.003463   \nsupport                ...         0.004172  0.004166  0.004171    0.004162   \n...                    ...              ...       ...       ...         ...   \nautomatically.brussel  ...         0.257617  0.269354  0.268863    0.249115   \nquestionsanswer        ...         0.253718  0.427712  0.311689    0.334277   \nhandler                ...         0.278211  0.326556  0.316071    0.338031   \nairplane               ...         0.296467  0.297905  0.312211    0.330538   \nboto                   ...         0.284392  0.334479  0.313801    0.299983   \n\n                         cutoff  automatically.brussel  questionsanswer  \\\nsocial                 0.003256               0.003256         0.003259   \ncovid19                0.003632               0.003632         0.003632   \nmeasure                0.004158               0.004158         0.004165   \neuropean               0.003467               0.003465         0.003466   \nsupport                0.004170               0.004176         0.004167   \n...                         ...                    ...              ...   \nautomatically.brussel  0.356571               1.000000         0.240243   \nquestionsanswer        0.269159               0.240243         1.000000   \nhandler                0.275093               0.255405         0.296294   \nairplane               0.274980               0.264911         0.257009   \nboto                   0.365392               0.302309         0.301854   \n\n                        handler  airplane      boto  \nsocial                 0.003252  0.003249  0.003252  \ncovid19                0.003633  0.003630  0.003636  \nmeasure                0.004152  0.004150  0.004163  \neuropean               0.003469  0.003464  0.003466  \nsupport                0.004165  0.004166  0.004175  \n...                         ...       ...       ...  \nautomatically.brussel  0.255405  0.264911  0.302309  \nquestionsanswer        0.296294  0.257009  0.301854  \nhandler                1.000000  0.329701  0.304744  \nairplane               0.329701  1.000000  0.271918  \nboto                   0.304744  0.271918  1.000000  \n\n[12789 rows x 12789 columns]",
      "text/html": "<div>\n<style scoped>\n    .dataframe tbody tr th:only-of-type {\n        vertical-align: middle;\n    }\n\n    .dataframe tbody tr th {\n        vertical-align: top;\n    }\n\n    .dataframe thead th {\n        text-align: right;\n    }\n</style>\n<table border=\"1\" class=\"dataframe\">\n  <thead>\n    <tr style=\"text-align: right;\">\n      <th></th>\n      <th>social</th>\n      <th>covid19</th>\n      <th>measure</th>\n      <th>european</th>\n      <th>support</th>\n      <th>council</th>\n      <th>government</th>\n      <th>regulation</th>\n      <th>company</th>\n      <th>commission</th>\n      <th>...</th>\n      <th>approvedamounte</th>\n      <th>munition</th>\n      <th>everrise</th>\n      <th>advertiser</th>\n      <th>cutoff</th>\n      <th>automatically.brussel</th>\n      <th>questionsanswer</th>\n      <th>handler</th>\n      <th>airplane</th>\n      <th>boto</th>\n    </tr>\n  </thead>\n  <tbody>\n    <tr>\n      <th>social</th>\n      <td>1.000000</td>\n      <td>0.002455</td>\n      <td>0.003110</td>\n      <td>0.002329</td>\n      <td>0.002700</td>\n      <td>0.002292</td>\n      <td>0.002687</td>\n      <td>0.002324</td>\n      <td>0.002654</td>\n      <td>0.002498</td>\n      <td>...</td>\n      <td>0.003254</td>\n      <td>0.003257</td>\n      <td>0.003256</td>\n      <td>0.003255</td>\n      <td>0.003256</td>\n      <td>0.003256</td>\n      <td>0.003259</td>\n      <td>0.003252</td>\n      <td>0.003249</td>\n      <td>0.003252</td>\n    </tr>\n    <tr>\n      <th>covid19</th>\n      <td>0.002455</td>\n      <td>1.000000</td>\n      <td>0.002985</td>\n      <td>0.002661</td>\n      <td>0.002889</td>\n      <td>0.002369</td>\n      <td>0.002833</td>\n      <td>0.002553</td>\n      <td>0.003190</td>\n      <td>0.002777</td>\n      <td>...</td>\n      <td>0.003633</td>\n      <td>0.003633</td>\n      <td>0.003637</td>\n      <td>0.003637</td>\n      <td>0.003632</td>\n      <td>0.003632</td>\n      <td>0.003632</td>\n      <td>0.003633</td>\n      <td>0.003630</td>\n      <td>0.003636</td>\n    </tr>\n    <tr>\n      <th>measure</th>\n      <td>0.003110</td>\n      <td>0.002985</td>\n      <td>1.000000</td>\n      <td>0.002423</td>\n      <td>0.003456</td>\n      <td>0.002488</td>\n      <td>0.003232</td>\n      <td>0.002720</td>\n      <td>0.003481</td>\n      <td>0.002686</td>\n      <td>...</td>\n      <td>0.004162</td>\n      <td>0.004159</td>\n      <td>0.004167</td>\n      <td>0.004159</td>\n      <td>0.004158</td>\n      <td>0.004158</td>\n      <td>0.004165</td>\n      <td>0.004152</td>\n      <td>0.004150</td>\n      <td>0.004163</td>\n    </tr>\n    <tr>\n      <th>european</th>\n      <td>0.002329</td>\n      <td>0.002661</td>\n      <td>0.002423</td>\n      <td>1.000000</td>\n      <td>0.002813</td>\n      <td>0.003102</td>\n      <td>0.002542</td>\n      <td>0.002835</td>\n      <td>0.002676</td>\n      <td>0.002904</td>\n      <td>...</td>\n      <td>0.003464</td>\n      <td>0.003466</td>\n      <td>0.003465</td>\n      <td>0.003463</td>\n      <td>0.003467</td>\n      <td>0.003465</td>\n      <td>0.003466</td>\n      <td>0.003469</td>\n      <td>0.003464</td>\n      <td>0.003466</td>\n    </tr>\n    <tr>\n      <th>support</th>\n      <td>0.002700</td>\n      <td>0.002889</td>\n      <td>0.003456</td>\n      <td>0.002813</td>\n      <td>1.000000</td>\n      <td>0.002611</td>\n      <td>0.003047</td>\n      <td>0.002721</td>\n      <td>0.003246</td>\n      <td>0.002821</td>\n      <td>...</td>\n      <td>0.004172</td>\n      <td>0.004166</td>\n      <td>0.004171</td>\n      <td>0.004162</td>\n      <td>0.004170</td>\n      <td>0.004176</td>\n      <td>0.004167</td>\n      <td>0.004165</td>\n      <td>0.004166</td>\n      <td>0.004175</td>\n    </tr>\n    <tr>\n      <th>...</th>\n      <td>...</td>\n      <td>...</td>\n      <td>...</td>\n      <td>...</td>\n      <td>...</td>\n      <td>...</td>\n      <td>...</td>\n      <td>...</td>\n      <td>...</td>\n      <td>...</td>\n      <td>...</td>\n      <td>...</td>\n      <td>...</td>\n      <td>...</td>\n      <td>...</td>\n      <td>...</td>\n      <td>...</td>\n      <td>...</td>\n      <td>...</td>\n      <td>...</td>\n      <td>...</td>\n    </tr>\n    <tr>\n      <th>automatically.brussel</th>\n      <td>0.003256</td>\n      <td>0.003632</td>\n      <td>0.004158</td>\n      <td>0.003465</td>\n      <td>0.004176</td>\n      <td>0.002995</td>\n      <td>0.003694</td>\n      <td>0.003342</td>\n      <td>0.004971</td>\n      <td>0.003877</td>\n      <td>...</td>\n      <td>0.257617</td>\n      <td>0.269354</td>\n      <td>0.268863</td>\n      <td>0.249115</td>\n      <td>0.356571</td>\n      <td>1.000000</td>\n      <td>0.240243</td>\n      <td>0.255405</td>\n      <td>0.264911</td>\n      <td>0.302309</td>\n    </tr>\n    <tr>\n      <th>questionsanswer</th>\n      <td>0.003259</td>\n      <td>0.003632</td>\n      <td>0.004165</td>\n      <td>0.003466</td>\n      <td>0.004167</td>\n      <td>0.002999</td>\n      <td>0.003694</td>\n      <td>0.003347</td>\n      <td>0.004967</td>\n      <td>0.003885</td>\n      <td>...</td>\n      <td>0.253718</td>\n      <td>0.427712</td>\n      <td>0.311689</td>\n      <td>0.334277</td>\n      <td>0.269159</td>\n      <td>0.240243</td>\n      <td>1.000000</td>\n      <td>0.296294</td>\n      <td>0.257009</td>\n      <td>0.301854</td>\n    </tr>\n    <tr>\n      <th>handler</th>\n      <td>0.003252</td>\n      <td>0.003633</td>\n      <td>0.004152</td>\n      <td>0.003469</td>\n      <td>0.004165</td>\n      <td>0.002993</td>\n      <td>0.003693</td>\n      <td>0.003342</td>\n      <td>0.004973</td>\n      <td>0.003878</td>\n      <td>...</td>\n      <td>0.278211</td>\n      <td>0.326556</td>\n      <td>0.316071</td>\n      <td>0.338031</td>\n      <td>0.275093</td>\n      <td>0.255405</td>\n      <td>0.296294</td>\n      <td>1.000000</td>\n      <td>0.329701</td>\n      <td>0.304744</td>\n    </tr>\n    <tr>\n      <th>airplane</th>\n      <td>0.003249</td>\n      <td>0.003630</td>\n      <td>0.004150</td>\n      <td>0.003464</td>\n      <td>0.004166</td>\n      <td>0.002992</td>\n      <td>0.003690</td>\n      <td>0.003345</td>\n      <td>0.004968</td>\n      <td>0.003875</td>\n      <td>...</td>\n      <td>0.296467</td>\n      <td>0.297905</td>\n      <td>0.312211</td>\n      <td>0.330538</td>\n      <td>0.274980</td>\n      <td>0.264911</td>\n      <td>0.257009</td>\n      <td>0.329701</td>\n      <td>1.000000</td>\n      <td>0.271918</td>\n    </tr>\n    <tr>\n      <th>boto</th>\n      <td>0.003252</td>\n      <td>0.003636</td>\n      <td>0.004163</td>\n      <td>0.003466</td>\n      <td>0.004175</td>\n      <td>0.002994</td>\n      <td>0.003696</td>\n      <td>0.003343</td>\n      <td>0.004974</td>\n      <td>0.003877</td>\n      <td>...</td>\n      <td>0.284392</td>\n      <td>0.334479</td>\n      <td>0.313801</td>\n      <td>0.299983</td>\n      <td>0.365392</td>\n      <td>0.302309</td>\n      <td>0.301854</td>\n      <td>0.304744</td>\n      <td>0.271918</td>\n      <td>1.000000</td>\n    </tr>\n  </tbody>\n</table>\n<p>12789 rows × 12789 columns</p>\n</div>"
     },
     "execution_count": 158,
     "metadata": {},
     "output_type": "execute_result"
    }
   ],
   "source": [
    "%%time\n",
    "model3_manhattan_similarity_matrix = get_similarity_matrix(model3_language_model_filter.select_pos_embeddings(),\n",
    "                                                           model3_language_model_filter.extract_pos(),\n",
    "                                                           metric=manhattan_similarity)\n",
    "model3_manhattan_similarity_matrix"
   ],
   "metadata": {
    "collapsed": false,
    "pycharm": {
     "name": "#%%\n"
    }
   }
  },
  {
   "cell_type": "markdown",
   "source": [
    "### Select key words as clusters to visualize the graph similarity between this words"
   ],
   "metadata": {
    "collapsed": false,
    "pycharm": {
     "name": "#%% md\n"
    }
   }
  },
  {
   "cell_type": "code",
   "execution_count": 186,
   "outputs": [
    {
     "name": "stderr",
     "output_type": "stream",
     "text": [
      "/opt/conda/lib/python3.8/site-packages/d3graph/d3graph.py:367: FutureWarning:\n",
      "\n",
      "The default value of regex will change from True to False in a future version. In addition, single character regular expressions will*not* be treated as literal strings when regex=True.\n",
      "\n",
      "/opt/conda/lib/python3.8/site-packages/pandas/core/indexing.py:1637: SettingWithCopyWarning:\n",
      "\n",
      "\n",
      "A value is trying to be set on a copy of a slice from a DataFrame\n",
      "\n",
      "See the caveats in the documentation: https://pandas.pydata.org/pandas-docs/stable/user_guide/indexing.html#returning-a-view-versus-a-copy\n",
      "\n",
      "/opt/conda/lib/python3.8/site-packages/d3graph/d3graph.py:367: FutureWarning:\n",
      "\n",
      "The default value of regex will change from True to False in a future version. In addition, single character regular expressions will*not* be treated as literal strings when regex=True.\n",
      "\n",
      "/opt/conda/lib/python3.8/site-packages/pandas/core/indexing.py:1637: SettingWithCopyWarning:\n",
      "\n",
      "\n",
      "A value is trying to be set on a copy of a slice from a DataFrame\n",
      "\n",
      "See the caveats in the documentation: https://pandas.pydata.org/pandas-docs/stable/user_guide/indexing.html#returning-a-view-versus-a-copy\n",
      "\n"
     ]
    },
    {
     "name": "stdout",
     "output_type": "stream",
     "text": [
      "Writing /home/jovyan/work/sem-covid/docs/word-similarity-web/model1_graphs/agreement.html\n",
      "Writing /home/jovyan/work/sem-covid/docs/word-similarity-web/model1_graphs/companies.html\n"
     ]
    },
    {
     "name": "stderr",
     "output_type": "stream",
     "text": [
      "/opt/conda/lib/python3.8/site-packages/d3graph/d3graph.py:367: FutureWarning:\n",
      "\n",
      "The default value of regex will change from True to False in a future version. In addition, single character regular expressions will*not* be treated as literal strings when regex=True.\n",
      "\n",
      "/opt/conda/lib/python3.8/site-packages/pandas/core/indexing.py:1637: SettingWithCopyWarning:\n",
      "\n",
      "\n",
      "A value is trying to be set on a copy of a slice from a DataFrame\n",
      "\n",
      "See the caveats in the documentation: https://pandas.pydata.org/pandas-docs/stable/user_guide/indexing.html#returning-a-view-versus-a-copy\n",
      "\n",
      "/opt/conda/lib/python3.8/site-packages/d3graph/d3graph.py:367: FutureWarning:\n",
      "\n",
      "The default value of regex will change from True to False in a future version. In addition, single character regular expressions will*not* be treated as literal strings when regex=True.\n",
      "\n",
      "/opt/conda/lib/python3.8/site-packages/pandas/core/indexing.py:1637: SettingWithCopyWarning:\n",
      "\n",
      "\n",
      "A value is trying to be set on a copy of a slice from a DataFrame\n",
      "\n",
      "See the caveats in the documentation: https://pandas.pydata.org/pandas-docs/stable/user_guide/indexing.html#returning-a-view-versus-a-copy\n",
      "\n"
     ]
    },
    {
     "name": "stdout",
     "output_type": "stream",
     "text": [
      "Writing /home/jovyan/work/sem-covid/docs/word-similarity-web/model1_graphs/workers.html\n",
      "Writing /home/jovyan/work/sem-covid/docs/word-similarity-web/model1_graphs/measures.html\n"
     ]
    },
    {
     "name": "stderr",
     "output_type": "stream",
     "text": [
      "/opt/conda/lib/python3.8/site-packages/d3graph/d3graph.py:367: FutureWarning:\n",
      "\n",
      "The default value of regex will change from True to False in a future version. In addition, single character regular expressions will*not* be treated as literal strings when regex=True.\n",
      "\n",
      "/opt/conda/lib/python3.8/site-packages/pandas/core/indexing.py:1637: SettingWithCopyWarning:\n",
      "\n",
      "\n",
      "A value is trying to be set on a copy of a slice from a DataFrame\n",
      "\n",
      "See the caveats in the documentation: https://pandas.pydata.org/pandas-docs/stable/user_guide/indexing.html#returning-a-view-versus-a-copy\n",
      "\n",
      "/opt/conda/lib/python3.8/site-packages/d3graph/d3graph.py:367: FutureWarning:\n",
      "\n",
      "The default value of regex will change from True to False in a future version. In addition, single character regular expressions will*not* be treated as literal strings when regex=True.\n",
      "\n",
      "/opt/conda/lib/python3.8/site-packages/pandas/core/indexing.py:1637: SettingWithCopyWarning:\n",
      "\n",
      "\n",
      "A value is trying to be set on a copy of a slice from a DataFrame\n",
      "\n",
      "See the caveats in the documentation: https://pandas.pydata.org/pandas-docs/stable/user_guide/indexing.html#returning-a-view-versus-a-copy\n",
      "\n"
     ]
    },
    {
     "name": "stdout",
     "output_type": "stream",
     "text": [
      "Writing /home/jovyan/work/sem-covid/docs/word-similarity-web/model1_graphs/temporary.html\n",
      "Writing /home/jovyan/work/sem-covid/docs/word-similarity-web/model1_graphs/social.html\n"
     ]
    },
    {
     "name": "stderr",
     "output_type": "stream",
     "text": [
      "/opt/conda/lib/python3.8/site-packages/d3graph/d3graph.py:367: FutureWarning:\n",
      "\n",
      "The default value of regex will change from True to False in a future version. In addition, single character regular expressions will*not* be treated as literal strings when regex=True.\n",
      "\n",
      "/opt/conda/lib/python3.8/site-packages/pandas/core/indexing.py:1637: SettingWithCopyWarning:\n",
      "\n",
      "\n",
      "A value is trying to be set on a copy of a slice from a DataFrame\n",
      "\n",
      "See the caveats in the documentation: https://pandas.pydata.org/pandas-docs/stable/user_guide/indexing.html#returning-a-view-versus-a-copy\n",
      "\n",
      "/opt/conda/lib/python3.8/site-packages/d3graph/d3graph.py:367: FutureWarning:\n",
      "\n",
      "The default value of regex will change from True to False in a future version. In addition, single character regular expressions will*not* be treated as literal strings when regex=True.\n",
      "\n",
      "/opt/conda/lib/python3.8/site-packages/pandas/core/indexing.py:1637: SettingWithCopyWarning:\n",
      "\n",
      "\n",
      "A value is trying to be set on a copy of a slice from a DataFrame\n",
      "\n",
      "See the caveats in the documentation: https://pandas.pydata.org/pandas-docs/stable/user_guide/indexing.html#returning-a-view-versus-a-copy\n",
      "\n"
     ]
    },
    {
     "name": "stdout",
     "output_type": "stream",
     "text": [
      "Writing /home/jovyan/work/sem-covid/docs/word-similarity-web/model1_graphs/support.html\n",
      "Writing /home/jovyan/work/sem-covid/docs/word-similarity-web/model1_graphs/covid19.html\n"
     ]
    },
    {
     "name": "stderr",
     "output_type": "stream",
     "text": [
      "/opt/conda/lib/python3.8/site-packages/d3graph/d3graph.py:367: FutureWarning:\n",
      "\n",
      "The default value of regex will change from True to False in a future version. In addition, single character regular expressions will*not* be treated as literal strings when regex=True.\n",
      "\n",
      "/opt/conda/lib/python3.8/site-packages/pandas/core/indexing.py:1637: SettingWithCopyWarning:\n",
      "\n",
      "\n",
      "A value is trying to be set on a copy of a slice from a DataFrame\n",
      "\n",
      "See the caveats in the documentation: https://pandas.pydata.org/pandas-docs/stable/user_guide/indexing.html#returning-a-view-versus-a-copy\n",
      "\n",
      "/opt/conda/lib/python3.8/site-packages/d3graph/d3graph.py:367: FutureWarning:\n",
      "\n",
      "The default value of regex will change from True to False in a future version. In addition, single character regular expressions will*not* be treated as literal strings when regex=True.\n",
      "\n",
      "/opt/conda/lib/python3.8/site-packages/pandas/core/indexing.py:1637: SettingWithCopyWarning:\n",
      "\n",
      "\n",
      "A value is trying to be set on a copy of a slice from a DataFrame\n",
      "\n",
      "See the caveats in the documentation: https://pandas.pydata.org/pandas-docs/stable/user_guide/indexing.html#returning-a-view-versus-a-copy\n",
      "\n"
     ]
    },
    {
     "name": "stdout",
     "output_type": "stream",
     "text": [
      "Writing /home/jovyan/work/sem-covid/docs/word-similarity-web/model1_graphs/public.html\n",
      "Writing /home/jovyan/work/sem-covid/docs/word-similarity-web/model1_graphs/national.html\n"
     ]
    },
    {
     "name": "stderr",
     "output_type": "stream",
     "text": [
      "/opt/conda/lib/python3.8/site-packages/d3graph/d3graph.py:367: FutureWarning:\n",
      "\n",
      "The default value of regex will change from True to False in a future version. In addition, single character regular expressions will*not* be treated as literal strings when regex=True.\n",
      "\n",
      "/opt/conda/lib/python3.8/site-packages/pandas/core/indexing.py:1637: SettingWithCopyWarning:\n",
      "\n",
      "\n",
      "A value is trying to be set on a copy of a slice from a DataFrame\n",
      "\n",
      "See the caveats in the documentation: https://pandas.pydata.org/pandas-docs/stable/user_guide/indexing.html#returning-a-view-versus-a-copy\n",
      "\n",
      "/opt/conda/lib/python3.8/site-packages/d3graph/d3graph.py:367: FutureWarning:\n",
      "\n",
      "The default value of regex will change from True to False in a future version. In addition, single character regular expressions will*not* be treated as literal strings when regex=True.\n",
      "\n",
      "/opt/conda/lib/python3.8/site-packages/pandas/core/indexing.py:1637: SettingWithCopyWarning:\n",
      "\n",
      "\n",
      "A value is trying to be set on a copy of a slice from a DataFrame\n",
      "\n",
      "See the caveats in the documentation: https://pandas.pydata.org/pandas-docs/stable/user_guide/indexing.html#returning-a-view-versus-a-copy\n",
      "\n"
     ]
    },
    {
     "name": "stdout",
     "output_type": "stream",
     "text": [
      "Writing /home/jovyan/work/sem-covid/docs/word-similarity-web/model1_graphs/statement.html\n",
      "Writing /home/jovyan/work/sem-covid/docs/word-similarity-web/model1_graphs/health.html\n"
     ]
    },
    {
     "name": "stderr",
     "output_type": "stream",
     "text": [
      "/opt/conda/lib/python3.8/site-packages/d3graph/d3graph.py:367: FutureWarning:\n",
      "\n",
      "The default value of regex will change from True to False in a future version. In addition, single character regular expressions will*not* be treated as literal strings when regex=True.\n",
      "\n",
      "/opt/conda/lib/python3.8/site-packages/pandas/core/indexing.py:1637: SettingWithCopyWarning:\n",
      "\n",
      "\n",
      "A value is trying to be set on a copy of a slice from a DataFrame\n",
      "\n",
      "See the caveats in the documentation: https://pandas.pydata.org/pandas-docs/stable/user_guide/indexing.html#returning-a-view-versus-a-copy\n",
      "\n",
      "/opt/conda/lib/python3.8/site-packages/d3graph/d3graph.py:367: FutureWarning:\n",
      "\n",
      "The default value of regex will change from True to False in a future version. In addition, single character regular expressions will*not* be treated as literal strings when regex=True.\n",
      "\n",
      "/opt/conda/lib/python3.8/site-packages/pandas/core/indexing.py:1637: SettingWithCopyWarning:\n",
      "\n",
      "\n",
      "A value is trying to be set on a copy of a slice from a DataFrame\n",
      "\n",
      "See the caveats in the documentation: https://pandas.pydata.org/pandas-docs/stable/user_guide/indexing.html#returning-a-view-versus-a-copy\n",
      "\n"
     ]
    },
    {
     "name": "stdout",
     "output_type": "stream",
     "text": [
      "Writing /home/jovyan/work/sem-covid/docs/word-similarity-web/model1_graphs/minister.html\n",
      "Writing /home/jovyan/work/sem-covid/docs/word-similarity-web/model1_graphs/new.html\n"
     ]
    },
    {
     "name": "stderr",
     "output_type": "stream",
     "text": [
      "/opt/conda/lib/python3.8/site-packages/d3graph/d3graph.py:367: FutureWarning:\n",
      "\n",
      "The default value of regex will change from True to False in a future version. In addition, single character regular expressions will*not* be treated as literal strings when regex=True.\n",
      "\n",
      "/opt/conda/lib/python3.8/site-packages/pandas/core/indexing.py:1637: SettingWithCopyWarning:\n",
      "\n",
      "\n",
      "A value is trying to be set on a copy of a slice from a DataFrame\n",
      "\n",
      "See the caveats in the documentation: https://pandas.pydata.org/pandas-docs/stable/user_guide/indexing.html#returning-a-view-versus-a-copy\n",
      "\n",
      "/opt/conda/lib/python3.8/site-packages/d3graph/d3graph.py:367: FutureWarning:\n",
      "\n",
      "The default value of regex will change from True to False in a future version. In addition, single character regular expressions will*not* be treated as literal strings when regex=True.\n",
      "\n",
      "/opt/conda/lib/python3.8/site-packages/pandas/core/indexing.py:1637: SettingWithCopyWarning:\n",
      "\n",
      "\n",
      "A value is trying to be set on a copy of a slice from a DataFrame\n",
      "\n",
      "See the caveats in the documentation: https://pandas.pydata.org/pandas-docs/stable/user_guide/indexing.html#returning-a-view-versus-a-copy\n",
      "\n"
     ]
    },
    {
     "name": "stdout",
     "output_type": "stream",
     "text": [
      "Writing /home/jovyan/work/sem-covid/docs/word-similarity-web/model1_graphs/coronavirus.html\n",
      "Writing /home/jovyan/work/sem-covid/docs/word-similarity-web/model1_graphs/vaccine.html\n"
     ]
    },
    {
     "name": "stderr",
     "output_type": "stream",
     "text": [
      "/opt/conda/lib/python3.8/site-packages/d3graph/d3graph.py:367: FutureWarning:\n",
      "\n",
      "The default value of regex will change from True to False in a future version. In addition, single character regular expressions will*not* be treated as literal strings when regex=True.\n",
      "\n",
      "/opt/conda/lib/python3.8/site-packages/pandas/core/indexing.py:1637: SettingWithCopyWarning:\n",
      "\n",
      "\n",
      "A value is trying to be set on a copy of a slice from a DataFrame\n",
      "\n",
      "See the caveats in the documentation: https://pandas.pydata.org/pandas-docs/stable/user_guide/indexing.html#returning-a-view-versus-a-copy\n",
      "\n",
      "/opt/conda/lib/python3.8/site-packages/d3graph/d3graph.py:367: FutureWarning:\n",
      "\n",
      "The default value of regex will change from True to False in a future version. In addition, single character regular expressions will*not* be treated as literal strings when regex=True.\n",
      "\n",
      "/opt/conda/lib/python3.8/site-packages/pandas/core/indexing.py:1637: SettingWithCopyWarning:\n",
      "\n",
      "\n",
      "A value is trying to be set on a copy of a slice from a DataFrame\n",
      "\n",
      "See the caveats in the documentation: https://pandas.pydata.org/pandas-docs/stable/user_guide/indexing.html#returning-a-view-versus-a-copy\n",
      "\n"
     ]
    },
    {
     "name": "stdout",
     "output_type": "stream",
     "text": [
      "Writing /home/jovyan/work/sem-covid/docs/word-similarity-web/model1_graphs/support.html\n",
      "Writing /home/jovyan/work/sem-covid/docs/word-similarity-web/model1_graphs/commission.html\n"
     ]
    }
   ],
   "source": [
    "model1_d3graph = create_graph_for_language_model_key_words(model1_cosine_similarity_matrix,\n",
    "                                                           model1_language_model_filter.select_key_words(),\n",
    "                                                           model_number=1)"
   ],
   "metadata": {
    "collapsed": false,
    "pycharm": {
     "name": "#%%\n"
    }
   }
  },
  {
   "cell_type": "code",
   "execution_count": 184,
   "outputs": [
    {
     "name": "stderr",
     "output_type": "stream",
     "text": [
      "/opt/conda/lib/python3.8/site-packages/d3graph/d3graph.py:367: FutureWarning:\n",
      "\n",
      "The default value of regex will change from True to False in a future version. In addition, single character regular expressions will*not* be treated as literal strings when regex=True.\n",
      "\n",
      "/opt/conda/lib/python3.8/site-packages/pandas/core/indexing.py:1637: SettingWithCopyWarning:\n",
      "\n",
      "\n",
      "A value is trying to be set on a copy of a slice from a DataFrame\n",
      "\n",
      "See the caveats in the documentation: https://pandas.pydata.org/pandas-docs/stable/user_guide/indexing.html#returning-a-view-versus-a-copy\n",
      "\n",
      "/opt/conda/lib/python3.8/site-packages/d3graph/d3graph.py:367: FutureWarning:\n",
      "\n",
      "The default value of regex will change from True to False in a future version. In addition, single character regular expressions will*not* be treated as literal strings when regex=True.\n",
      "\n",
      "/opt/conda/lib/python3.8/site-packages/pandas/core/indexing.py:1637: SettingWithCopyWarning:\n",
      "\n",
      "\n",
      "A value is trying to be set on a copy of a slice from a DataFrame\n",
      "\n",
      "See the caveats in the documentation: https://pandas.pydata.org/pandas-docs/stable/user_guide/indexing.html#returning-a-view-versus-a-copy\n",
      "\n",
      "/opt/conda/lib/python3.8/site-packages/d3graph/d3graph.py:367: FutureWarning:\n",
      "\n",
      "The default value of regex will change from True to False in a future version. In addition, single character regular expressions will*not* be treated as literal strings when regex=True.\n",
      "\n"
     ]
    },
    {
     "name": "stdout",
     "output_type": "stream",
     "text": [
      "Writing /home/jovyan/work/sem-covid/docs/word-similarity-web/model2_graphs/agreement.html\n",
      "Writing /home/jovyan/work/sem-covid/docs/word-similarity-web/model2_graphs/companies.html\n"
     ]
    },
    {
     "name": "stderr",
     "output_type": "stream",
     "text": [
      "/opt/conda/lib/python3.8/site-packages/pandas/core/indexing.py:1637: SettingWithCopyWarning:\n",
      "\n",
      "\n",
      "A value is trying to be set on a copy of a slice from a DataFrame\n",
      "\n",
      "See the caveats in the documentation: https://pandas.pydata.org/pandas-docs/stable/user_guide/indexing.html#returning-a-view-versus-a-copy\n",
      "\n",
      "/opt/conda/lib/python3.8/site-packages/d3graph/d3graph.py:367: FutureWarning:\n",
      "\n",
      "The default value of regex will change from True to False in a future version. In addition, single character regular expressions will*not* be treated as literal strings when regex=True.\n",
      "\n",
      "/opt/conda/lib/python3.8/site-packages/pandas/core/indexing.py:1637: SettingWithCopyWarning:\n",
      "\n",
      "\n",
      "A value is trying to be set on a copy of a slice from a DataFrame\n",
      "\n",
      "See the caveats in the documentation: https://pandas.pydata.org/pandas-docs/stable/user_guide/indexing.html#returning-a-view-versus-a-copy\n",
      "\n",
      "/opt/conda/lib/python3.8/site-packages/d3graph/d3graph.py:367: FutureWarning:\n",
      "\n",
      "The default value of regex will change from True to False in a future version. In addition, single character regular expressions will*not* be treated as literal strings when regex=True.\n",
      "\n",
      "/opt/conda/lib/python3.8/site-packages/pandas/core/indexing.py:1637: SettingWithCopyWarning:\n",
      "\n",
      "\n",
      "A value is trying to be set on a copy of a slice from a DataFrame\n",
      "\n",
      "See the caveats in the documentation: https://pandas.pydata.org/pandas-docs/stable/user_guide/indexing.html#returning-a-view-versus-a-copy\n",
      "\n"
     ]
    },
    {
     "name": "stdout",
     "output_type": "stream",
     "text": [
      "Writing /home/jovyan/work/sem-covid/docs/word-similarity-web/model2_graphs/workers.html\n",
      "Writing /home/jovyan/work/sem-covid/docs/word-similarity-web/model2_graphs/measures.html\n",
      "Writing /home/jovyan/work/sem-covid/docs/word-similarity-web/model2_graphs/temporary.html\n",
      "Writing /home/jovyan/work/sem-covid/docs/word-similarity-web/model2_graphs/social.html\n"
     ]
    },
    {
     "name": "stderr",
     "output_type": "stream",
     "text": [
      "/opt/conda/lib/python3.8/site-packages/d3graph/d3graph.py:367: FutureWarning:\n",
      "\n",
      "The default value of regex will change from True to False in a future version. In addition, single character regular expressions will*not* be treated as literal strings when regex=True.\n",
      "\n",
      "/opt/conda/lib/python3.8/site-packages/pandas/core/indexing.py:1637: SettingWithCopyWarning:\n",
      "\n",
      "\n",
      "A value is trying to be set on a copy of a slice from a DataFrame\n",
      "\n",
      "See the caveats in the documentation: https://pandas.pydata.org/pandas-docs/stable/user_guide/indexing.html#returning-a-view-versus-a-copy\n",
      "\n",
      "/opt/conda/lib/python3.8/site-packages/d3graph/d3graph.py:367: FutureWarning:\n",
      "\n",
      "The default value of regex will change from True to False in a future version. In addition, single character regular expressions will*not* be treated as literal strings when regex=True.\n",
      "\n",
      "/opt/conda/lib/python3.8/site-packages/pandas/core/indexing.py:1637: SettingWithCopyWarning:\n",
      "\n",
      "\n",
      "A value is trying to be set on a copy of a slice from a DataFrame\n",
      "\n",
      "See the caveats in the documentation: https://pandas.pydata.org/pandas-docs/stable/user_guide/indexing.html#returning-a-view-versus-a-copy\n",
      "\n"
     ]
    },
    {
     "name": "stdout",
     "output_type": "stream",
     "text": [
      "Writing /home/jovyan/work/sem-covid/docs/word-similarity-web/model2_graphs/support.html\n",
      "Writing /home/jovyan/work/sem-covid/docs/word-similarity-web/model2_graphs/covid19.html\n"
     ]
    },
    {
     "name": "stderr",
     "output_type": "stream",
     "text": [
      "/opt/conda/lib/python3.8/site-packages/d3graph/d3graph.py:367: FutureWarning:\n",
      "\n",
      "The default value of regex will change from True to False in a future version. In addition, single character regular expressions will*not* be treated as literal strings when regex=True.\n",
      "\n",
      "/opt/conda/lib/python3.8/site-packages/pandas/core/indexing.py:1637: SettingWithCopyWarning:\n",
      "\n",
      "\n",
      "A value is trying to be set on a copy of a slice from a DataFrame\n",
      "\n",
      "See the caveats in the documentation: https://pandas.pydata.org/pandas-docs/stable/user_guide/indexing.html#returning-a-view-versus-a-copy\n",
      "\n",
      "/opt/conda/lib/python3.8/site-packages/d3graph/d3graph.py:367: FutureWarning:\n",
      "\n",
      "The default value of regex will change from True to False in a future version. In addition, single character regular expressions will*not* be treated as literal strings when regex=True.\n",
      "\n",
      "/opt/conda/lib/python3.8/site-packages/pandas/core/indexing.py:1637: SettingWithCopyWarning:\n",
      "\n",
      "\n",
      "A value is trying to be set on a copy of a slice from a DataFrame\n",
      "\n",
      "See the caveats in the documentation: https://pandas.pydata.org/pandas-docs/stable/user_guide/indexing.html#returning-a-view-versus-a-copy\n",
      "\n"
     ]
    },
    {
     "name": "stdout",
     "output_type": "stream",
     "text": [
      "Writing /home/jovyan/work/sem-covid/docs/word-similarity-web/model2_graphs/public.html\n",
      "Writing /home/jovyan/work/sem-covid/docs/word-similarity-web/model2_graphs/national.html\n"
     ]
    },
    {
     "name": "stderr",
     "output_type": "stream",
     "text": [
      "/opt/conda/lib/python3.8/site-packages/d3graph/d3graph.py:367: FutureWarning:\n",
      "\n",
      "The default value of regex will change from True to False in a future version. In addition, single character regular expressions will*not* be treated as literal strings when regex=True.\n",
      "\n",
      "/opt/conda/lib/python3.8/site-packages/pandas/core/indexing.py:1637: SettingWithCopyWarning:\n",
      "\n",
      "\n",
      "A value is trying to be set on a copy of a slice from a DataFrame\n",
      "\n",
      "See the caveats in the documentation: https://pandas.pydata.org/pandas-docs/stable/user_guide/indexing.html#returning-a-view-versus-a-copy\n",
      "\n",
      "/opt/conda/lib/python3.8/site-packages/d3graph/d3graph.py:367: FutureWarning:\n",
      "\n",
      "The default value of regex will change from True to False in a future version. In addition, single character regular expressions will*not* be treated as literal strings when regex=True.\n",
      "\n",
      "/opt/conda/lib/python3.8/site-packages/pandas/core/indexing.py:1637: SettingWithCopyWarning:\n",
      "\n",
      "\n",
      "A value is trying to be set on a copy of a slice from a DataFrame\n",
      "\n",
      "See the caveats in the documentation: https://pandas.pydata.org/pandas-docs/stable/user_guide/indexing.html#returning-a-view-versus-a-copy\n",
      "\n"
     ]
    },
    {
     "name": "stdout",
     "output_type": "stream",
     "text": [
      "Writing /home/jovyan/work/sem-covid/docs/word-similarity-web/model2_graphs/statement.html\n",
      "Writing /home/jovyan/work/sem-covid/docs/word-similarity-web/model2_graphs/health.html\n"
     ]
    },
    {
     "name": "stderr",
     "output_type": "stream",
     "text": [
      "/opt/conda/lib/python3.8/site-packages/d3graph/d3graph.py:367: FutureWarning:\n",
      "\n",
      "The default value of regex will change from True to False in a future version. In addition, single character regular expressions will*not* be treated as literal strings when regex=True.\n",
      "\n",
      "/opt/conda/lib/python3.8/site-packages/pandas/core/indexing.py:1637: SettingWithCopyWarning:\n",
      "\n",
      "\n",
      "A value is trying to be set on a copy of a slice from a DataFrame\n",
      "\n",
      "See the caveats in the documentation: https://pandas.pydata.org/pandas-docs/stable/user_guide/indexing.html#returning-a-view-versus-a-copy\n",
      "\n",
      "/opt/conda/lib/python3.8/site-packages/d3graph/d3graph.py:367: FutureWarning:\n",
      "\n",
      "The default value of regex will change from True to False in a future version. In addition, single character regular expressions will*not* be treated as literal strings when regex=True.\n",
      "\n",
      "/opt/conda/lib/python3.8/site-packages/pandas/core/indexing.py:1637: SettingWithCopyWarning:\n",
      "\n",
      "\n",
      "A value is trying to be set on a copy of a slice from a DataFrame\n",
      "\n",
      "See the caveats in the documentation: https://pandas.pydata.org/pandas-docs/stable/user_guide/indexing.html#returning-a-view-versus-a-copy\n",
      "\n"
     ]
    },
    {
     "name": "stdout",
     "output_type": "stream",
     "text": [
      "Writing /home/jovyan/work/sem-covid/docs/word-similarity-web/model2_graphs/minister.html\n",
      "Writing /home/jovyan/work/sem-covid/docs/word-similarity-web/model2_graphs/new.html\n"
     ]
    },
    {
     "name": "stderr",
     "output_type": "stream",
     "text": [
      "/opt/conda/lib/python3.8/site-packages/d3graph/d3graph.py:367: FutureWarning:\n",
      "\n",
      "The default value of regex will change from True to False in a future version. In addition, single character regular expressions will*not* be treated as literal strings when regex=True.\n",
      "\n",
      "/opt/conda/lib/python3.8/site-packages/pandas/core/indexing.py:1637: SettingWithCopyWarning:\n",
      "\n",
      "\n",
      "A value is trying to be set on a copy of a slice from a DataFrame\n",
      "\n",
      "See the caveats in the documentation: https://pandas.pydata.org/pandas-docs/stable/user_guide/indexing.html#returning-a-view-versus-a-copy\n",
      "\n",
      "/opt/conda/lib/python3.8/site-packages/d3graph/d3graph.py:367: FutureWarning:\n",
      "\n",
      "The default value of regex will change from True to False in a future version. In addition, single character regular expressions will*not* be treated as literal strings when regex=True.\n",
      "\n",
      "/opt/conda/lib/python3.8/site-packages/pandas/core/indexing.py:1637: SettingWithCopyWarning:\n",
      "\n",
      "\n",
      "A value is trying to be set on a copy of a slice from a DataFrame\n",
      "\n",
      "See the caveats in the documentation: https://pandas.pydata.org/pandas-docs/stable/user_guide/indexing.html#returning-a-view-versus-a-copy\n",
      "\n",
      "/opt/conda/lib/python3.8/site-packages/d3graph/d3graph.py:367: FutureWarning:\n",
      "\n",
      "The default value of regex will change from True to False in a future version. In addition, single character regular expressions will*not* be treated as literal strings when regex=True.\n",
      "\n"
     ]
    },
    {
     "name": "stdout",
     "output_type": "stream",
     "text": [
      "Writing /home/jovyan/work/sem-covid/docs/word-similarity-web/model2_graphs/coronavirus.html\n",
      "Writing /home/jovyan/work/sem-covid/docs/word-similarity-web/model2_graphs/vaccine.html\n",
      "Writing /home/jovyan/work/sem-covid/docs/word-similarity-web/model2_graphs/support.html\n"
     ]
    },
    {
     "name": "stderr",
     "output_type": "stream",
     "text": [
      "/opt/conda/lib/python3.8/site-packages/pandas/core/indexing.py:1637: SettingWithCopyWarning:\n",
      "\n",
      "\n",
      "A value is trying to be set on a copy of a slice from a DataFrame\n",
      "\n",
      "See the caveats in the documentation: https://pandas.pydata.org/pandas-docs/stable/user_guide/indexing.html#returning-a-view-versus-a-copy\n",
      "\n",
      "/opt/conda/lib/python3.8/site-packages/d3graph/d3graph.py:367: FutureWarning:\n",
      "\n",
      "The default value of regex will change from True to False in a future version. In addition, single character regular expressions will*not* be treated as literal strings when regex=True.\n",
      "\n",
      "/opt/conda/lib/python3.8/site-packages/pandas/core/indexing.py:1637: SettingWithCopyWarning:\n",
      "\n",
      "\n",
      "A value is trying to be set on a copy of a slice from a DataFrame\n",
      "\n",
      "See the caveats in the documentation: https://pandas.pydata.org/pandas-docs/stable/user_guide/indexing.html#returning-a-view-versus-a-copy\n",
      "\n",
      "/opt/conda/lib/python3.8/site-packages/d3graph/d3graph.py:367: FutureWarning:\n",
      "\n",
      "The default value of regex will change from True to False in a future version. In addition, single character regular expressions will*not* be treated as literal strings when regex=True.\n",
      "\n",
      "/opt/conda/lib/python3.8/site-packages/pandas/core/indexing.py:1637: SettingWithCopyWarning:\n",
      "\n",
      "\n",
      "A value is trying to be set on a copy of a slice from a DataFrame\n",
      "\n",
      "See the caveats in the documentation: https://pandas.pydata.org/pandas-docs/stable/user_guide/indexing.html#returning-a-view-versus-a-copy\n",
      "\n"
     ]
    },
    {
     "name": "stdout",
     "output_type": "stream",
     "text": [
      "Writing /home/jovyan/work/sem-covid/docs/word-similarity-web/model2_graphs/commission.html\n"
     ]
    }
   ],
   "source": [
    "model2_d3graph = create_graph_for_language_model_key_words(model2_cosine_similarity_matrix,\n",
    "                                                           model2_language_model_filter.select_key_words(),\n",
    "                                                           model_number=2)"
   ],
   "metadata": {
    "collapsed": false,
    "pycharm": {
     "name": "#%%\n"
    }
   }
  },
  {
   "cell_type": "code",
   "execution_count": 185,
   "outputs": [
    {
     "name": "stdout",
     "output_type": "stream",
     "text": [
      "[d3graph] >Creating directory [docs/word-similarity-web/model3_graphs/]\n",
      "Writing /home/jovyan/work/sem-covid/docs/word-similarity-web/model3_graphs/agreement.html\n",
      "Writing /home/jovyan/work/sem-covid/docs/word-similarity-web/model3_graphs/companies.html\n"
     ]
    },
    {
     "name": "stderr",
     "output_type": "stream",
     "text": [
      "/opt/conda/lib/python3.8/site-packages/d3graph/d3graph.py:367: FutureWarning:\n",
      "\n",
      "The default value of regex will change from True to False in a future version. In addition, single character regular expressions will*not* be treated as literal strings when regex=True.\n",
      "\n",
      "/opt/conda/lib/python3.8/site-packages/pandas/core/indexing.py:1637: SettingWithCopyWarning:\n",
      "\n",
      "\n",
      "A value is trying to be set on a copy of a slice from a DataFrame\n",
      "\n",
      "See the caveats in the documentation: https://pandas.pydata.org/pandas-docs/stable/user_guide/indexing.html#returning-a-view-versus-a-copy\n",
      "\n",
      "/opt/conda/lib/python3.8/site-packages/d3graph/d3graph.py:367: FutureWarning:\n",
      "\n",
      "The default value of regex will change from True to False in a future version. In addition, single character regular expressions will*not* be treated as literal strings when regex=True.\n",
      "\n",
      "/opt/conda/lib/python3.8/site-packages/pandas/core/indexing.py:1637: SettingWithCopyWarning:\n",
      "\n",
      "\n",
      "A value is trying to be set on a copy of a slice from a DataFrame\n",
      "\n",
      "See the caveats in the documentation: https://pandas.pydata.org/pandas-docs/stable/user_guide/indexing.html#returning-a-view-versus-a-copy\n",
      "\n",
      "/opt/conda/lib/python3.8/site-packages/d3graph/d3graph.py:367: FutureWarning:\n",
      "\n",
      "The default value of regex will change from True to False in a future version. In addition, single character regular expressions will*not* be treated as literal strings when regex=True.\n",
      "\n",
      "/opt/conda/lib/python3.8/site-packages/pandas/core/indexing.py:1637: SettingWithCopyWarning:\n",
      "\n",
      "\n",
      "A value is trying to be set on a copy of a slice from a DataFrame\n",
      "\n",
      "See the caveats in the documentation: https://pandas.pydata.org/pandas-docs/stable/user_guide/indexing.html#returning-a-view-versus-a-copy\n",
      "\n",
      "/opt/conda/lib/python3.8/site-packages/d3graph/d3graph.py:367: FutureWarning:\n",
      "\n",
      "The default value of regex will change from True to False in a future version. In addition, single character regular expressions will*not* be treated as literal strings when regex=True.\n",
      "\n",
      "/opt/conda/lib/python3.8/site-packages/pandas/core/indexing.py:1637: SettingWithCopyWarning:\n",
      "\n",
      "\n",
      "A value is trying to be set on a copy of a slice from a DataFrame\n",
      "\n",
      "See the caveats in the documentation: https://pandas.pydata.org/pandas-docs/stable/user_guide/indexing.html#returning-a-view-versus-a-copy\n",
      "\n"
     ]
    },
    {
     "name": "stdout",
     "output_type": "stream",
     "text": [
      "Writing /home/jovyan/work/sem-covid/docs/word-similarity-web/model3_graphs/workers.html\n",
      "Writing /home/jovyan/work/sem-covid/docs/word-similarity-web/model3_graphs/measures.html\n"
     ]
    },
    {
     "name": "stderr",
     "output_type": "stream",
     "text": [
      "/opt/conda/lib/python3.8/site-packages/d3graph/d3graph.py:367: FutureWarning:\n",
      "\n",
      "The default value of regex will change from True to False in a future version. In addition, single character regular expressions will*not* be treated as literal strings when regex=True.\n",
      "\n",
      "/opt/conda/lib/python3.8/site-packages/pandas/core/indexing.py:1637: SettingWithCopyWarning:\n",
      "\n",
      "\n",
      "A value is trying to be set on a copy of a slice from a DataFrame\n",
      "\n",
      "See the caveats in the documentation: https://pandas.pydata.org/pandas-docs/stable/user_guide/indexing.html#returning-a-view-versus-a-copy\n",
      "\n",
      "/opt/conda/lib/python3.8/site-packages/d3graph/d3graph.py:367: FutureWarning:\n",
      "\n",
      "The default value of regex will change from True to False in a future version. In addition, single character regular expressions will*not* be treated as literal strings when regex=True.\n",
      "\n",
      "/opt/conda/lib/python3.8/site-packages/pandas/core/indexing.py:1637: SettingWithCopyWarning:\n",
      "\n",
      "\n",
      "A value is trying to be set on a copy of a slice from a DataFrame\n",
      "\n",
      "See the caveats in the documentation: https://pandas.pydata.org/pandas-docs/stable/user_guide/indexing.html#returning-a-view-versus-a-copy\n",
      "\n"
     ]
    },
    {
     "name": "stdout",
     "output_type": "stream",
     "text": [
      "Writing /home/jovyan/work/sem-covid/docs/word-similarity-web/model3_graphs/temporary.html\n",
      "Writing /home/jovyan/work/sem-covid/docs/word-similarity-web/model3_graphs/social.html\n"
     ]
    },
    {
     "name": "stderr",
     "output_type": "stream",
     "text": [
      "/opt/conda/lib/python3.8/site-packages/d3graph/d3graph.py:367: FutureWarning:\n",
      "\n",
      "The default value of regex will change from True to False in a future version. In addition, single character regular expressions will*not* be treated as literal strings when regex=True.\n",
      "\n",
      "/opt/conda/lib/python3.8/site-packages/pandas/core/indexing.py:1637: SettingWithCopyWarning:\n",
      "\n",
      "\n",
      "A value is trying to be set on a copy of a slice from a DataFrame\n",
      "\n",
      "See the caveats in the documentation: https://pandas.pydata.org/pandas-docs/stable/user_guide/indexing.html#returning-a-view-versus-a-copy\n",
      "\n",
      "/opt/conda/lib/python3.8/site-packages/d3graph/d3graph.py:367: FutureWarning:\n",
      "\n",
      "The default value of regex will change from True to False in a future version. In addition, single character regular expressions will*not* be treated as literal strings when regex=True.\n",
      "\n",
      "/opt/conda/lib/python3.8/site-packages/pandas/core/indexing.py:1637: SettingWithCopyWarning:\n",
      "\n",
      "\n",
      "A value is trying to be set on a copy of a slice from a DataFrame\n",
      "\n",
      "See the caveats in the documentation: https://pandas.pydata.org/pandas-docs/stable/user_guide/indexing.html#returning-a-view-versus-a-copy\n",
      "\n"
     ]
    },
    {
     "name": "stdout",
     "output_type": "stream",
     "text": [
      "Writing /home/jovyan/work/sem-covid/docs/word-similarity-web/model3_graphs/support.html\n",
      "Writing /home/jovyan/work/sem-covid/docs/word-similarity-web/model3_graphs/covid19.html\n"
     ]
    },
    {
     "name": "stderr",
     "output_type": "stream",
     "text": [
      "/opt/conda/lib/python3.8/site-packages/d3graph/d3graph.py:367: FutureWarning:\n",
      "\n",
      "The default value of regex will change from True to False in a future version. In addition, single character regular expressions will*not* be treated as literal strings when regex=True.\n",
      "\n",
      "/opt/conda/lib/python3.8/site-packages/pandas/core/indexing.py:1637: SettingWithCopyWarning:\n",
      "\n",
      "\n",
      "A value is trying to be set on a copy of a slice from a DataFrame\n",
      "\n",
      "See the caveats in the documentation: https://pandas.pydata.org/pandas-docs/stable/user_guide/indexing.html#returning-a-view-versus-a-copy\n",
      "\n",
      "/opt/conda/lib/python3.8/site-packages/d3graph/d3graph.py:367: FutureWarning:\n",
      "\n",
      "The default value of regex will change from True to False in a future version. In addition, single character regular expressions will*not* be treated as literal strings when regex=True.\n",
      "\n",
      "/opt/conda/lib/python3.8/site-packages/pandas/core/indexing.py:1637: SettingWithCopyWarning:\n",
      "\n",
      "\n",
      "A value is trying to be set on a copy of a slice from a DataFrame\n",
      "\n",
      "See the caveats in the documentation: https://pandas.pydata.org/pandas-docs/stable/user_guide/indexing.html#returning-a-view-versus-a-copy\n",
      "\n"
     ]
    },
    {
     "name": "stdout",
     "output_type": "stream",
     "text": [
      "Writing /home/jovyan/work/sem-covid/docs/word-similarity-web/model3_graphs/public.html\n",
      "Writing /home/jovyan/work/sem-covid/docs/word-similarity-web/model3_graphs/national.html\n"
     ]
    },
    {
     "name": "stderr",
     "output_type": "stream",
     "text": [
      "/opt/conda/lib/python3.8/site-packages/d3graph/d3graph.py:367: FutureWarning:\n",
      "\n",
      "The default value of regex will change from True to False in a future version. In addition, single character regular expressions will*not* be treated as literal strings when regex=True.\n",
      "\n",
      "/opt/conda/lib/python3.8/site-packages/pandas/core/indexing.py:1637: SettingWithCopyWarning:\n",
      "\n",
      "\n",
      "A value is trying to be set on a copy of a slice from a DataFrame\n",
      "\n",
      "See the caveats in the documentation: https://pandas.pydata.org/pandas-docs/stable/user_guide/indexing.html#returning-a-view-versus-a-copy\n",
      "\n",
      "/opt/conda/lib/python3.8/site-packages/d3graph/d3graph.py:367: FutureWarning:\n",
      "\n",
      "The default value of regex will change from True to False in a future version. In addition, single character regular expressions will*not* be treated as literal strings when regex=True.\n",
      "\n",
      "/opt/conda/lib/python3.8/site-packages/pandas/core/indexing.py:1637: SettingWithCopyWarning:\n",
      "\n",
      "\n",
      "A value is trying to be set on a copy of a slice from a DataFrame\n",
      "\n",
      "See the caveats in the documentation: https://pandas.pydata.org/pandas-docs/stable/user_guide/indexing.html#returning-a-view-versus-a-copy\n",
      "\n"
     ]
    },
    {
     "name": "stdout",
     "output_type": "stream",
     "text": [
      "Writing /home/jovyan/work/sem-covid/docs/word-similarity-web/model3_graphs/statement.html\n",
      "Writing /home/jovyan/work/sem-covid/docs/word-similarity-web/model3_graphs/health.html\n"
     ]
    },
    {
     "name": "stderr",
     "output_type": "stream",
     "text": [
      "/opt/conda/lib/python3.8/site-packages/d3graph/d3graph.py:367: FutureWarning:\n",
      "\n",
      "The default value of regex will change from True to False in a future version. In addition, single character regular expressions will*not* be treated as literal strings when regex=True.\n",
      "\n",
      "/opt/conda/lib/python3.8/site-packages/pandas/core/indexing.py:1637: SettingWithCopyWarning:\n",
      "\n",
      "\n",
      "A value is trying to be set on a copy of a slice from a DataFrame\n",
      "\n",
      "See the caveats in the documentation: https://pandas.pydata.org/pandas-docs/stable/user_guide/indexing.html#returning-a-view-versus-a-copy\n",
      "\n",
      "/opt/conda/lib/python3.8/site-packages/d3graph/d3graph.py:367: FutureWarning:\n",
      "\n",
      "The default value of regex will change from True to False in a future version. In addition, single character regular expressions will*not* be treated as literal strings when regex=True.\n",
      "\n",
      "/opt/conda/lib/python3.8/site-packages/pandas/core/indexing.py:1637: SettingWithCopyWarning:\n",
      "\n",
      "\n",
      "A value is trying to be set on a copy of a slice from a DataFrame\n",
      "\n",
      "See the caveats in the documentation: https://pandas.pydata.org/pandas-docs/stable/user_guide/indexing.html#returning-a-view-versus-a-copy\n",
      "\n"
     ]
    },
    {
     "name": "stdout",
     "output_type": "stream",
     "text": [
      "Writing /home/jovyan/work/sem-covid/docs/word-similarity-web/model3_graphs/minister.html\n",
      "Writing /home/jovyan/work/sem-covid/docs/word-similarity-web/model3_graphs/new.html\n"
     ]
    },
    {
     "name": "stderr",
     "output_type": "stream",
     "text": [
      "/opt/conda/lib/python3.8/site-packages/d3graph/d3graph.py:367: FutureWarning:\n",
      "\n",
      "The default value of regex will change from True to False in a future version. In addition, single character regular expressions will*not* be treated as literal strings when regex=True.\n",
      "\n",
      "/opt/conda/lib/python3.8/site-packages/pandas/core/indexing.py:1637: SettingWithCopyWarning:\n",
      "\n",
      "\n",
      "A value is trying to be set on a copy of a slice from a DataFrame\n",
      "\n",
      "See the caveats in the documentation: https://pandas.pydata.org/pandas-docs/stable/user_guide/indexing.html#returning-a-view-versus-a-copy\n",
      "\n",
      "/opt/conda/lib/python3.8/site-packages/d3graph/d3graph.py:367: FutureWarning:\n",
      "\n",
      "The default value of regex will change from True to False in a future version. In addition, single character regular expressions will*not* be treated as literal strings when regex=True.\n",
      "\n",
      "/opt/conda/lib/python3.8/site-packages/pandas/core/indexing.py:1637: SettingWithCopyWarning:\n",
      "\n",
      "\n",
      "A value is trying to be set on a copy of a slice from a DataFrame\n",
      "\n",
      "See the caveats in the documentation: https://pandas.pydata.org/pandas-docs/stable/user_guide/indexing.html#returning-a-view-versus-a-copy\n",
      "\n"
     ]
    },
    {
     "name": "stdout",
     "output_type": "stream",
     "text": [
      "Writing /home/jovyan/work/sem-covid/docs/word-similarity-web/model3_graphs/coronavirus.html\n",
      "Writing /home/jovyan/work/sem-covid/docs/word-similarity-web/model3_graphs/vaccine.html\n"
     ]
    },
    {
     "name": "stderr",
     "output_type": "stream",
     "text": [
      "/opt/conda/lib/python3.8/site-packages/d3graph/d3graph.py:367: FutureWarning:\n",
      "\n",
      "The default value of regex will change from True to False in a future version. In addition, single character regular expressions will*not* be treated as literal strings when regex=True.\n",
      "\n",
      "/opt/conda/lib/python3.8/site-packages/pandas/core/indexing.py:1637: SettingWithCopyWarning:\n",
      "\n",
      "\n",
      "A value is trying to be set on a copy of a slice from a DataFrame\n",
      "\n",
      "See the caveats in the documentation: https://pandas.pydata.org/pandas-docs/stable/user_guide/indexing.html#returning-a-view-versus-a-copy\n",
      "\n",
      "/opt/conda/lib/python3.8/site-packages/d3graph/d3graph.py:367: FutureWarning:\n",
      "\n",
      "The default value of regex will change from True to False in a future version. In addition, single character regular expressions will*not* be treated as literal strings when regex=True.\n",
      "\n",
      "/opt/conda/lib/python3.8/site-packages/pandas/core/indexing.py:1637: SettingWithCopyWarning:\n",
      "\n",
      "\n",
      "A value is trying to be set on a copy of a slice from a DataFrame\n",
      "\n",
      "See the caveats in the documentation: https://pandas.pydata.org/pandas-docs/stable/user_guide/indexing.html#returning-a-view-versus-a-copy\n",
      "\n"
     ]
    },
    {
     "name": "stdout",
     "output_type": "stream",
     "text": [
      "Writing /home/jovyan/work/sem-covid/docs/word-similarity-web/model3_graphs/support.html\n",
      "Writing /home/jovyan/work/sem-covid/docs/word-similarity-web/model3_graphs/commission.html\n"
     ]
    }
   ],
   "source": [
    "model3_d3graph = create_graph_for_language_model_key_words(model3_cosine_similarity_matrix,\n",
    "                                                           model3_language_model_filter.select_key_words(),\n",
    "                                                           model_number=3)"
   ],
   "metadata": {
    "collapsed": false,
    "pycharm": {
     "name": "#%%\n"
    }
   }
  },
  {
   "cell_type": "markdown",
   "source": [
    "### Steps for word embedding visualization:\n",
    "* detect and extract key words and most relevant words\n",
    "* train TSNE model\n",
    "* create a dataframe with the clusters, their words and their placement on the graph"
   ],
   "metadata": {
    "collapsed": false,
    "pycharm": {
     "name": "#%% md\n"
    }
   }
  },
  {
   "cell_type": "code",
   "execution_count": 187,
   "outputs": [],
   "source": [
    "model1_word_embeddings = select_words_and_embedding_clusters(model1_language_model_pipeline.word2vec.wv,\n",
    "                                                             model1_language_model_filter.select_key_words())\n",
    "model2_word_embeddings = select_words_and_embedding_clusters(model2_language_model_pipeline.word2vec.wv,\n",
    "                                                             model2_language_model_filter.select_key_words())\n",
    "model3_word_embeddings = select_words_and_embedding_clusters(model3_language_model_pipeline.word2vec.wv,\n",
    "                                                             model3_language_model_filter.select_key_words())\n",
    "\n",
    "model1_tsne_model = create_tsne_model(model1_word_embeddings[0])\n",
    "model2_tsne_model = create_tsne_model(model2_word_embeddings[0])\n",
    "model3_tsne_model = create_tsne_model(model3_word_embeddings[0])\n",
    "\n",
    "model1_word_embeddings_dataframe = create_word_clusters_matrix(model1_language_model_filter.select_key_words(),\n",
    "                                                               model1_word_embeddings[1], model1_tsne_model)\n",
    "model2_word_embeddings_dataframe = create_word_clusters_matrix(model2_language_model_filter.select_key_words(),\n",
    "                                                               model2_word_embeddings[1], model2_tsne_model)\n",
    "model3_word_embeddings_dataframe = create_word_clusters_matrix(model3_language_model_filter.select_key_words(),\n",
    "                                                               model3_word_embeddings[1], model3_tsne_model)"
   ],
   "metadata": {
    "collapsed": false,
    "pycharm": {
     "name": "#%%\n"
    }
   }
  },
  {
   "cell_type": "markdown",
   "source": [
    "### Graph visualization for the first model"
   ],
   "metadata": {
    "collapsed": false,
    "pycharm": {
     "name": "#%% md\n"
    }
   }
  },
  {
   "cell_type": "code",
   "execution_count": 188,
   "outputs": [
    {
     "data": {
      "application/vnd.plotly.v1+json": {
       "config": {
        "plotlyServerURL": "https://plot.ly"
       },
       "data": [
        {
         "customdata": [
          [
           "agreements"
          ],
          [
           "bargaining"
          ],
          [
           "agreementwhether"
          ],
          [
           "967724"
          ],
          [
           "leader"
          ],
          [
           "subcontracts"
          ],
          [
           "metalworker"
          ],
          [
           "dismissal"
          ],
          [
           "bargains.the"
          ],
          [
           "those.in"
          ],
          [
           "conventionnelle"
          ],
          [
           "annexe"
          ],
          [
           "dismissals"
          ],
          [
           "metalworkers"
          ],
          [
           "collective"
          ],
          [
           "261"
          ],
          [
           "satisfaction"
          ],
          [
           "redundancies"
          ],
          [
           "rounds"
          ],
          [
           "amendements"
          ],
          [
           "annexes"
          ],
          [
           "springs"
          ],
          [
           "law.the"
          ],
          [
           "agreed"
          ],
          [
           "unusual"
          ],
          [
           "supervisors.the"
          ],
          [
           "arrangement"
          ],
          [
           "signatory"
          ],
          [
           "l6152"
          ],
          [
           "campgrounds.in"
          ]
         ],
         "hovertemplate": "word_cluster=agreement<br>X=%{x}<br>Y=%{y}<br>word=%{customdata[0]}<extra></extra>",
         "legendgroup": "agreement",
         "marker": {
          "color": "#636efa",
          "symbol": "circle"
         },
         "mode": "markers",
         "name": "agreement",
         "orientation": "v",
         "showlegend": true,
         "type": "scatter",
         "x": [
          63.02115249633789,
          63.336181640625,
          -83.78180694580078,
          -80.4614028930664,
          -92.75932312011719,
          -76.73568725585938,
          -74.6662826538086,
          56.10664749145508,
          -85.26654815673828,
          -74.55878448486328,
          -84.05561828613281,
          -84.04441833496094,
          56.728092193603516,
          -79.38843536376953,
          66.48815155029297,
          -78.07572937011719,
          -89.43023681640625,
          59.37388229370117,
          -94.36892700195312,
          -78.89855194091797,
          -86.57461547851562,
          -77.37852478027344,
          -81.82830047607422,
          -14.924124717712402,
          -87.94441986083984,
          -72.10806274414062,
          54.55071258544922,
          -17.742843627929688,
          -71.37482452392578,
          -87.485595703125
         ],
         "xaxis": "x",
         "y": [
          13.578117370605469,
          11.639664649963379,
          34.62906265258789,
          38.106224060058594,
          30.001014709472656,
          37.60158920288086,
          38.66722869873047,
          13.157597541809082,
          41.58859634399414,
          42.03823471069336,
          37.580055236816406,
          30.631927490234375,
          6.778743267059326,
          32.38173294067383,
          11.593416213989258,
          44.661842346191406,
          39.27301788330078,
          6.16321325302124,
          29.083473205566406,
          39.91068649291992,
          28.87227439880371,
          33.73722457885742,
          32.085052490234375,
          -56.00779342651367,
          34.3209114074707,
          34.834415435791016,
          -0.3572019338607788,
          -53.957122802734375,
          39.99846649169922,
          43.036380767822266
         ],
         "yaxis": "y"
        },
        {
         "customdata": [
          [
           "businesses"
          ],
          [
           "company"
          ],
          [
           "enterprises"
          ],
          [
           "smes"
          ],
          [
           "firms"
          ],
          [
           "entrepreneurs"
          ],
          [
           "operations.this"
          ],
          [
           "business"
          ],
          [
           "activity.restalia"
          ],
          [
           "sole"
          ],
          [
           "60.5"
          ],
          [
           "medium"
          ],
          [
           "soundly"
          ],
          [
           "rid"
          ],
          [
           "reliefof'kata"
          ],
          [
           "target"
          ],
          [
           "40.5"
          ],
          [
           "48.4"
          ],
          [
           "segments"
          ],
          [
           "goods.the"
          ],
          [
           "relatively"
          ],
          [
           "dairies"
          ],
          [
           "enterprise"
          ],
          [
           "proprietor"
          ],
          [
           "7,500"
          ],
          [
           "micro"
          ],
          [
           "liquidity"
          ],
          [
           "large"
          ],
          [
           "entrepreneur"
          ],
          [
           "solo"
          ]
         ],
         "hovertemplate": "word_cluster=companies<br>X=%{x}<br>Y=%{y}<br>word=%{customdata[0]}<extra></extra>",
         "legendgroup": "companies",
         "marker": {
          "color": "#EF553B",
          "symbol": "circle"
         },
         "mode": "markers",
         "name": "companies",
         "orientation": "v",
         "showlegend": true,
         "type": "scatter",
         "x": [
          89.93497467041016,
          97.03475189208984,
          92.35305786132812,
          86.17594146728516,
          83.80792236328125,
          83.64997863769531,
          -38.868736267089844,
          92.54022216796875,
          -32.03909683227539,
          80.44441223144531,
          -27.05922508239746,
          89.16060638427734,
          -38.82967758178711,
          -36.52553939819336,
          -32.97970199584961,
          79.29366302490234,
          -31.487472534179688,
          -31.88704490661621,
          8.831899642944336,
          -35.64251708984375,
          13.13077163696289,
          9.906232833862305,
          93.4046859741211,
          8.074339866638184,
          10.85116195678711,
          89.81194305419922,
          86.5229263305664,
          87.10942077636719,
          83.70366668701172,
          79.63105010986328
         ],
         "xaxis": "x",
         "y": [
          -36.950496673583984,
          -36.49337387084961,
          -31.791790008544922,
          -35.789188385009766,
          -29.867660522460938,
          -35.78998565673828,
          60.3173713684082,
          -38.11711120605469,
          53.03627014160156,
          -32.4852180480957,
          55.0255012512207,
          -28.074636459350586,
          55.13935089111328,
          54.15618896484375,
          54.95925521850586,
          -26.67334747314453,
          57.663082122802734,
          59.57065200805664,
          16.530473709106445,
          47.96533203125,
          13.368195533752441,
          13.809895515441895,
          -29.094436645507812,
          20.90986442565918,
          21.36687660217285,
          -30.048019409179688,
          -39.156524658203125,
          -25.833255767822266,
          -33.01298141479492,
          -36.05039978027344
         ],
         "yaxis": "y"
        },
        {
         "customdata": [
          [
           "worker"
          ],
          [
           "employees"
          ],
          [
           "employee"
          ],
          [
           "people"
          ],
          [
           "groups"
          ],
          [
           "dependents.the"
          ],
          [
           "professionals"
          ],
          [
           "workforce"
          ],
          [
           "personnel"
          ],
          [
           "staff"
          ],
          [
           "3,388"
          ],
          [
           "workers.the"
          ],
          [
           "persons"
          ],
          [
           "professions"
          ],
          [
           "equalised"
          ],
          [
           "apprentices"
          ],
          [
           "5,600"
          ],
          [
           "jobs"
          ],
          [
           "individuals"
          ],
          [
           "nature"
          ],
          [
           "reconvert"
          ],
          [
           "149,800"
          ],
          [
           "deserve"
          ],
          [
           "flu"
          ],
          [
           "off"
          ],
          [
           "2001"
          ],
          [
           "jobseekers"
          ],
          [
           "utilisation"
          ],
          [
           "attention"
          ],
          [
           "parttime"
          ]
         ],
         "hovertemplate": "word_cluster=workers<br>X=%{x}<br>Y=%{y}<br>word=%{customdata[0]}<extra></extra>",
         "legendgroup": "workers",
         "marker": {
          "color": "#00cc96",
          "symbol": "circle"
         },
         "mode": "markers",
         "name": "workers",
         "orientation": "v",
         "showlegend": true,
         "type": "scatter",
         "x": [
          37.83896255493164,
          34.2275390625,
          36.0975227355957,
          71.5795669555664,
          64.56263732910156,
          -56.83976364135742,
          29.71054458618164,
          39.356056213378906,
          37.11011505126953,
          39.66607666015625,
          -57.91416549682617,
          11.05228328704834,
          74.90218353271484,
          32.125328063964844,
          -41.94239044189453,
          44.49095916748047,
          -49.37116241455078,
          47.72641372680664,
          76.20995330810547,
          46.020172119140625,
          -59.2399787902832,
          -51.683753967285156,
          -28.122215270996094,
          -47.62324905395508,
          46.22807693481445,
          -53.973411560058594,
          -43.14421844482422,
          -34.870121002197266,
          33.52409362792969,
          45.69727325439453
         ],
         "xaxis": "x",
         "y": [
          -2.895869731903076,
          -0.972459614276886,
          -1.5407299995422363,
          -42.3530387878418,
          -42.33834457397461,
          39.68074035644531,
          -13.6677827835083,
          -8.659868240356445,
          -11.82348918914795,
          -13.053064346313477,
          34.17058181762695,
          -1.4181830883026123,
          -41.57636642456055,
          -11.373333930969238,
          16.838014602661133,
          0.7509493231773376,
          45.01500701904297,
          -45.36915588378906,
          -39.10783004760742,
          -11.391251564025879,
          30.710580825805664,
          44.60664749145508,
          31.950992584228516,
          37.8837890625,
          2.023319959640503,
          38.3607063293457,
          -56.30910873413086,
          15.993510246276855,
          -15.059460639953613,
          -2.2423043251037598
         ],
         "yaxis": "y"
        },
        {
         "customdata": [
          [
           "measure"
          ],
          [
           "initiatives"
          ],
          [
           "package"
          ],
          [
           "measureswith"
          ],
          [
           "view"
          ],
          [
           "plans"
          ],
          [
           "hardships"
          ],
          [
           "series"
          ],
          [
           "plan"
          ],
          [
           "actions"
          ],
          [
           "theme"
          ],
          [
           "response"
          ],
          [
           "dispersion"
          ],
          [
           "hasty"
          ],
          [
           "packages"
          ],
          [
           "nondeferre"
          ],
          [
           "crisis"
          ],
          [
           "amnesties"
          ],
          [
           "emigration"
          ],
          [
           "mechanism"
          ],
          [
           "action"
          ],
          [
           "immune"
          ],
          [
           "projects.for"
          ],
          [
           "irreproachable"
          ],
          [
           "outlines"
          ],
          [
           "framed"
          ],
          [
           "predictably"
          ],
          [
           "complement"
          ],
          [
           "measures.the"
          ],
          [
           "may.brussels"
          ]
         ],
         "hovertemplate": "word_cluster=measures<br>X=%{x}<br>Y=%{y}<br>word=%{customdata[0]}<extra></extra>",
         "legendgroup": "measures",
         "marker": {
          "color": "#ab63fa",
          "symbol": "circle"
         },
         "mode": "markers",
         "name": "measures",
         "orientation": "v",
         "showlegend": true,
         "type": "scatter",
         "x": [
          38.628604888916016,
          29.612470626831055,
          34.864288330078125,
          -36.59894943237305,
          30.36701011657715,
          32.15190505981445,
          3.8852083683013916,
          38.907257080078125,
          35.56315612792969,
          29.546960830688477,
          -25.46280860900879,
          35.16466522216797,
          14.651113510131836,
          -22.944719314575195,
          20.814617156982422,
          -43.07373046875,
          85.49691009521484,
          -40.87489318847656,
          -27.935611724853516,
          23.976778030395508,
          28.594499588012695,
          -16.114795684814453,
          -39.04391860961914,
          -39.985450744628906,
          -10.964154243469238,
          -29.097803115844727,
          -24.151351928710938,
          -9.529300689697266,
          17.15568733215332,
          -42.493133544921875
         ],
         "xaxis": "x",
         "y": [
          -46.99332809448242,
          -47.178768157958984,
          -56.22272872924805,
          32.850284576416016,
          -36.94650650024414,
          -50.44704055786133,
          6.867627143859863,
          -56.42300796508789,
          -50.953163146972656,
          -49.06498336791992,
          -6.828724384307861,
          -61.71946716308594,
          -9.350306510925293,
          -9.508237838745117,
          -49.24939727783203,
          31.475557327270508,
          27.54818344116211,
          -6.955348968505859,
          -3.3512308597564697,
          -46.1477165222168,
          -54.65065002441406,
          20.543752670288086,
          36.99522399902344,
          32.46574401855469,
          -43.54004669189453,
          -12.614357948303223,
          74.78823852539062,
          -40.54391860961914,
          -1.416849970817566,
          39.73576736450195
         ],
         "yaxis": "y"
        },
        {
         "customdata": [
          [
           "layoff"
          ],
          [
           "exceptional"
          ],
          [
           "layoffs"
          ],
          [
           "suspend"
          ],
          [
           "extraordinary"
          ],
          [
           "suspended"
          ],
          [
           "allows"
          ],
          [
           "considered"
          ],
          [
           "suspension"
          ],
          [
           "reason"
          ],
          [
           "extension"
          ],
          [
           "establishes"
          ],
          [
           "interim"
          ],
          [
           "introduce"
          ],
          [
           "extended"
          ],
          [
           "retention"
          ],
          [
           "dismissal"
          ],
          [
           "extend"
          ],
          [
           "toan"
          ],
          [
           "lay"
          ],
          [
           "combining"
          ],
          [
           "interruption"
          ],
          [
           "situation.the"
          ],
          [
           "laidoff"
          ],
          [
           "terminate"
          ],
          [
           "extends"
          ],
          [
           "possibility"
          ],
          [
           "dismissals"
          ],
          [
           "temporarily"
          ],
          [
           "cessation"
          ]
         ],
         "hovertemplate": "word_cluster=temporary<br>X=%{x}<br>Y=%{y}<br>word=%{customdata[0]}<extra></extra>",
         "legendgroup": "temporary",
         "marker": {
          "color": "#FFA15A",
          "symbol": "circle"
         },
         "mode": "markers",
         "name": "temporary",
         "orientation": "v",
         "showlegend": true,
         "type": "scatter",
         "x": [
          52.08871078491211,
          62.57918930053711,
          52.60633850097656,
          46.542137145996094,
          60.02062225341797,
          45.32036590576172,
          41.59672164916992,
          44.154483795166016,
          49.21506881713867,
          47.13906478881836,
          53.82505798339844,
          34.458560943603516,
          30.312850952148438,
          44.467647552490234,
          49.73177719116211,
          56.0728874206543,
          57.51441192626953,
          51.30144119262695,
          -18.823122024536133,
          49.27367401123047,
          -20.282705307006836,
          42.06961441040039,
          26.316198348999023,
          49.49813461303711,
          38.497379302978516,
          34.2570686340332,
          38.90192794799805,
          56.8805046081543,
          48.37335205078125,
          29.752790451049805
         ],
         "xaxis": "x",
         "y": [
          10.290240287780762,
          28.585033416748047,
          5.676494121551514,
          20.680925369262695,
          28.62404441833496,
          22.02745819091797,
          9.676311492919922,
          12.20351505279541,
          21.318378448486328,
          14.299238204956055,
          29.234731674194336,
          20.885229110717773,
          17.64737319946289,
          -54.006591796875,
          29.481891632080078,
          -13.193949699401855,
          11.959012031555176,
          30.300228118896484,
          31.343984603881836,
          4.8903913497924805,
          37.54388427734375,
          15.895501136779785,
          16.2100830078125,
          2.7785263061523438,
          17.215547561645508,
          18.071640014648438,
          13.830751419067383,
          4.999000549316406,
          8.94623851776123,
          27.6783504486084
         ],
         "yaxis": "y"
        },
        {
         "customdata": [
          [
           "contributionthe"
          ],
          [
           "caretaker"
          ],
          [
           "cyber"
          ],
          [
           "estonian"
          ],
          [
           "apply.the"
          ],
          [
           "superiors.no"
          ],
          [
           "needs.social"
          ],
          [
           "dissatisfied"
          ],
          [
           "criticize"
          ],
          [
           "afa"
          ],
          [
           "18,to"
          ],
          [
           "budget.social"
          ],
          [
           "mind"
          ],
          [
           "federal"
          ],
          [
           "statement.social"
          ],
          [
           "employees.social"
          ],
          [
           "employmenthttps://valtioneuvosto.fi/documents/1410877/16402203/koronatilannekuvatem1.9.2020final.pdf/38cb4dae0e83db977c373cbb77086acd/koronatilannekuvatem1.9.2020final.pdf"
          ],
          [
           "postcorona"
          ],
          [
           "substantive"
          ],
          [
           "selfemployees"
          ],
          [
           "macrofinancial"
          ],
          [
           "foreclosures"
          ],
          [
           "customary"
          ],
          [
           "nonpeak"
          ],
          [
           "available.also"
          ],
          [
           "etc.).dure"
          ],
          [
           "upturn"
          ],
          [
           "repatriation.social"
          ],
          [
           "interviews"
          ],
          [
           "eu.social"
          ]
         ],
         "hovertemplate": "word_cluster=social<br>X=%{x}<br>Y=%{y}<br>word=%{customdata[0]}<extra></extra>",
         "legendgroup": "social",
         "marker": {
          "color": "#19d3f3",
          "symbol": "circle"
         },
         "mode": "markers",
         "name": "social",
         "orientation": "v",
         "showlegend": true,
         "type": "scatter",
         "x": [
          -61.917503356933594,
          -55.75822067260742,
          -22.14695167541504,
          -5.018381595611572,
          -60.84889221191406,
          -58.11888885498047,
          -72.25405883789062,
          -67.49766540527344,
          -80.07884216308594,
          -21.44856834411621,
          -79.61917114257812,
          -61.978572845458984,
          -69.74607849121094,
          9.957850456237793,
          -71.4217300415039,
          -58.842864990234375,
          -67.74285125732422,
          -73.34188079833984,
          -75.52210235595703,
          -52.75454330444336,
          -61.327491760253906,
          -65.33524322509766,
          -68.77139282226562,
          -66.46489715576172,
          -57.80335235595703,
          -64.41838073730469,
          -74.97955322265625,
          -75.12970733642578,
          -78.17162322998047,
          -77.10787963867188
         ],
         "xaxis": "x",
         "y": [
          9.69682502746582,
          4.2136101722717285,
          -24.103525161743164,
          -57.16495132446289,
          -2.2942419052124023,
          -0.32274970412254333,
          -1.4009513854980469,
          -5.080142021179199,
          -2.2963380813598633,
          -26.304996490478516,
          1.8353297710418701,
          -4.763869285583496,
          3.5499072074890137,
          -90.35616302490234,
          -4.497016429901123,
          -8.825532913208008,
          -11.63012981414795,
          -13.698674201965332,
          -4.084242343902588,
          3.3882274627685547,
          3.938389778137207,
          0.3408311605453491,
          -9.152189254760742,
          5.333983898162842,
          1.4394603967666626,
          7.491899013519287,
          -15.450322151184082,
          2.634218215942383,
          -6.125056266784668,
          1.2986390590667725
         ],
         "yaxis": "y"
        },
        {
         "customdata": [
          [
           "injection"
          ],
          [
           "aid"
          ],
          [
           "supports"
          ],
          [
           "help"
          ],
          [
           "assistance"
          ],
          [
           "productionrelate"
          ],
          [
           "incentive"
          ],
          [
           "sustain"
          ],
          [
           "reasoning"
          ],
          [
           "ultimate"
          ],
          [
           "selfemployed.there"
          ],
          [
           "helping"
          ],
          [
           "supporting"
          ],
          [
           "artists"
          ],
          [
           "resources"
          ],
          [
           "subsidies"
          ],
          [
           "grant.the"
          ],
          [
           "productionrelated"
          ],
          [
           "tremendous"
          ],
          [
           "incentives"
          ],
          [
           "250.to"
          ],
          [
           "targeting"
          ],
          [
           "targets"
          ],
          [
           "aims"
          ],
          [
           "preference"
          ],
          [
           "subsidy"
          ],
          [
           "preferences"
          ],
          [
           "mediators"
          ],
          [
           "reopened.childcare"
          ],
          [
           "implemented.workers"
          ],
          [
           "injection"
          ],
          [
           "aid"
          ],
          [
           "supports"
          ],
          [
           "help"
          ],
          [
           "assistance"
          ],
          [
           "productionrelate"
          ],
          [
           "incentive"
          ],
          [
           "sustain"
          ],
          [
           "reasoning"
          ],
          [
           "ultimate"
          ],
          [
           "selfemployed.there"
          ],
          [
           "helping"
          ],
          [
           "supporting"
          ],
          [
           "artists"
          ],
          [
           "resources"
          ],
          [
           "subsidies"
          ],
          [
           "grant.the"
          ],
          [
           "productionrelated"
          ],
          [
           "tremendous"
          ],
          [
           "incentives"
          ],
          [
           "250.to"
          ],
          [
           "targeting"
          ],
          [
           "targets"
          ],
          [
           "aims"
          ],
          [
           "preference"
          ],
          [
           "subsidy"
          ],
          [
           "preferences"
          ],
          [
           "mediators"
          ],
          [
           "reopened.childcare"
          ],
          [
           "implemented.workers"
          ]
         ],
         "hovertemplate": "word_cluster=support<br>X=%{x}<br>Y=%{y}<br>word=%{customdata[0]}<extra></extra>",
         "legendgroup": "support",
         "marker": {
          "color": "#FF6692",
          "symbol": "circle"
         },
         "mode": "markers",
         "name": "support",
         "orientation": "v",
         "showlegend": true,
         "type": "scatter",
         "x": [
          8.613640785217285,
          82.73492431640625,
          62.949832916259766,
          93.72233581542969,
          70.73019409179688,
          0.2451927661895752,
          63.48551559448242,
          55.387847900390625,
          -8.151223182678223,
          -6.167558670043945,
          -26.866613388061523,
          45.5293083190918,
          57.8987922668457,
          70.7088851928711,
          60.02425003051758,
          74.1512222290039,
          3.997649669647217,
          26.44492530822754,
          -33.891117095947266,
          63.67662811279297,
          -50.66607666015625,
          72.704345703125,
          75.59526824951172,
          55.80586242675781,
          -15.465003967285156,
          79.5870132446289,
          -9.250195503234863,
          -48.173370361328125,
          -59.436214447021484,
          -51.08699417114258,
          10.241569519042969,
          82.73492431640625,
          63.22774887084961,
          92.80647277832031,
          71.29400634765625,
          -0.5606928467750549,
          64.48712158203125,
          56.69752502441406,
          -9.622909545898438,
          -5.037628173828125,
          -28.470802307128906,
          47.60993576049805,
          56.20499038696289,
          71.00274658203125,
          60.02893829345703,
          74.70386505126953,
          2.9996542930603027,
          26.44492530822754,
          -33.29831314086914,
          62.140750885009766,
          -51.760929107666016,
          71.69232940673828,
          75.97325134277344,
          57.24256134033203,
          -16.03972625732422,
          80.11564636230469,
          -10.799535751342773,
          -47.14635467529297,
          -59.99764633178711,
          -49.42943572998047
         ],
         "xaxis": "x",
         "y": [
          32.98886489868164,
          -51.159366607666016,
          -33.338924407958984,
          -13.862135887145996,
          -51.915771484375,
          35.567893981933594,
          -24.26862144470215,
          -31.23177719116211,
          35.319271087646484,
          20.704986572265625,
          35.22134780883789,
          -20.03799057006836,
          -37.6376838684082,
          -34.915977478027344,
          -54.51776123046875,
          -13.240987777709961,
          25.172245025634766,
          28.462543487548828,
          72.83470916748047,
          -16.59562873840332,
          59.77172088623047,
          -23.83336639404297,
          -27.475875854492188,
          -24.392305374145508,
          31.01534652709961,
          -11.440792083740234,
          29.507423400878906,
          55.39687728881836,
          51.39285659790039,
          32.4274787902832,
          32.831275939941406,
          -51.159366607666016,
          -31.6159610748291,
          -12.50622272491455,
          -53.43782424926758,
          34.102020263671875,
          -22.92677116394043,
          -32.268157958984375,
          36.07530212402344,
          21.87335968017578,
          35.526912689208984,
          -19.257877349853516,
          -38.08592987060547,
          -33.283287048339844,
          -52.85809326171875,
          -14.769978523254395,
          23.8603515625,
          28.462543487548828,
          71.31541442871094,
          -17.243392944335938,
          58.335147857666016,
          -25.194955825805664,
          -29.24690818786621,
          -25.241655349731445,
          29.467103958129883,
          -13.113199234008789,
          28.582244873046875,
          56.744571685791016,
          49.857261657714844,
          32.83766555786133
         ],
         "yaxis": "y"
        },
        {
         "customdata": [
          [
           "corona"
          ],
          [
           "coronavirus"
          ],
          [
           "quantify"
          ],
          [
           "covid19.the"
          ],
          [
           "covid19.these"
          ],
          [
           "virus\",the"
          ],
          [
           "covid19.measures"
          ],
          [
           "curbing"
          ],
          [
           "control.this"
          ],
          [
           "multilayered"
          ],
          [
           "emanated"
          ],
          [
           "isimportant"
          ],
          [
           "fatigue"
          ],
          [
           "thecovid19"
          ],
          [
           "penalize"
          ],
          [
           "germanys"
          ],
          [
           "moria"
          ],
          [
           "sarscov2"
          ],
          [
           "commodities"
          ],
          [
           "covid19;4"
          ],
          [
           "setback"
          ],
          [
           "thecoronavirus"
          ],
          [
           "at202016/474https://static.eurofound.europa.eu"
          ],
          [
           "control"
          ],
          [
           "horn"
          ],
          [
           "covid19.companie"
          ],
          [
           "15,600"
          ],
          [
           "permitting"
          ],
          [
           "mitigate"
          ],
          [
           "imminent.no"
          ]
         ],
         "hovertemplate": "word_cluster=covid19<br>X=%{x}<br>Y=%{y}<br>word=%{customdata[0]}<extra></extra>",
         "legendgroup": "covid19",
         "marker": {
          "color": "#B6E880",
          "symbol": "circle"
         },
         "mode": "markers",
         "name": "covid19",
         "orientation": "v",
         "showlegend": true,
         "type": "scatter",
         "x": [
          82.89732360839844,
          83.18630981445312,
          -4.911327838897705,
          16.052461624145508,
          7.880887508392334,
          -16.88646125793457,
          -21.606952667236328,
          -7.564833164215088,
          2.5824437141418457,
          -4.52465295791626,
          -10.30518913269043,
          -14.471200942993164,
          1.9215342998504639,
          -3.303922653198242,
          -40.55620574951172,
          26.78628158569336,
          -6.684507846832275,
          19.18401527404785,
          -20.028825759887695,
          -13.357972145080566,
          -9.821648597717285,
          -11.344685554504395,
          -20.36318588256836,
          19.492136001586914,
          -0.5169769525527954,
          -45.06920623779297,
          -15.025075912475586,
          -23.854684829711914,
          79.10374450683594,
          -13.36931324005127
         ],
         "xaxis": "x",
         "y": [
          40.4162712097168,
          36.268856048583984,
          71.11485290527344,
          47.47077178955078,
          59.19171905517578,
          70.09410858154297,
          62.31648635864258,
          51.18097686767578,
          68.13518524169922,
          59.00952911376953,
          57.008888244628906,
          61.88687515258789,
          46.57606506347656,
          54.14988327026367,
          63.3564567565918,
          10.705849647521973,
          61.562530517578125,
          -21.486806869506836,
          54.69892883300781,
          52.87158966064453,
          62.69130325317383,
          66.44906616210938,
          57.572837829589844,
          -25.314390182495117,
          58.805179595947266,
          44.27329635620117,
          56.53188705444336,
          71.07521057128906,
          32.68495178222656,
          71.9936294555664
         ],
         "yaxis": "y"
        },
        {
         "customdata": [
          [
           "i.e.reasons"
          ],
          [
           "prefects"
          ],
          [
           "19).each"
          ],
          [
           "dependencies"
          ],
          [
           "workers.notwithstanding"
          ],
          [
           "private"
          ],
          [
           "rescue"
          ],
          [
           "national"
          ],
          [
           "authorities"
          ],
          [
           "general"
          ],
          [
           "facilities.according"
          ],
          [
           "operationally"
          ],
          [
           "nutrition"
          ],
          [
           "contraindicate"
          ],
          [
           "state"
          ],
          [
           "udbetale"
          ],
          [
           "risky"
          ],
          [
           "fluorides"
          ],
          [
           "foodstuffs"
          ],
          [
           "interests.as"
          ],
          [
           "gastronomic"
          ],
          [
           "struggles"
          ],
          [
           "insurer"
          ],
          [
           "administrations"
          ],
          [
           "civil"
          ],
          [
           "mehilainen"
          ],
          [
           "defend"
          ],
          [
           "prefect"
          ],
          [
           "covid19.can"
          ],
          [
           "injuries"
          ]
         ],
         "hovertemplate": "word_cluster=public<br>X=%{x}<br>Y=%{y}<br>word=%{customdata[0]}<extra></extra>",
         "legendgroup": "public",
         "marker": {
          "color": "#FF97FF",
          "symbol": "circle"
         },
         "mode": "markers",
         "name": "public",
         "orientation": "v",
         "showlegend": true,
         "type": "scatter",
         "x": [
          -51.308040618896484,
          -42.08889389038086,
          -51.90795135498047,
          -51.653865814208984,
          -57.347679138183594,
          27.916336059570312,
          16.09657096862793,
          10.301472663879395,
          11.15893268585205,
          5.571750164031982,
          -67.5920181274414,
          -41.158592224121094,
          -66.26750183105469,
          -57.90079116821289,
          14.632102966308594,
          -53.27899169921875,
          -35.98720169067383,
          -63.96931076049805,
          -60.82831573486328,
          -52.78818130493164,
          -47.38204574584961,
          -44.9320068359375,
          -59.950069427490234,
          8.76921272277832,
          7.942761421203613,
          -44.607948303222656,
          -69.2928237915039,
          -42.2886848449707,
          -43.35377502441406,
          -64.62389373779297
         ],
         "xaxis": "x",
         "y": [
          24.550621032714844,
          6.03638219833374,
          21.5212345123291,
          11.581753730773926,
          22.14656639099121,
          -19.75145721435547,
          -48.939205169677734,
          -71.2218246459961,
          -56.62677001953125,
          -53.23287582397461,
          22.116382598876953,
          29.01740264892578,
          16.78607749938965,
          24.568546295166016,
          -56.47652816772461,
          26.926803588867188,
          26.953615188598633,
          18.664762496948242,
          21.245159149169922,
          10.002790451049805,
          15.095881462097168,
          36.20807647705078,
          24.063753128051758,
          -42.297752380371094,
          -50.018524169921875,
          13.310783386230469,
          16.75816535949707,
          9.166913986206055,
          65.051025390625,
          23.4158878326416
         ],
         "yaxis": "y"
        },
        {
         "customdata": [
          [
           "regional"
          ],
          [
           "estonian"
          ],
          [
           "corresponded"
          ],
          [
           "bilateral"
          ],
          [
           "conclusions"
          ],
          [
           "responsible"
          ],
          [
           "municipal"
          ],
          [
           "bodies"
          ],
          [
           "maladie"
          ],
          [
           "y"
          ],
          [
           "budgetary"
          ],
          [
           "governing"
          ],
          [
           "adpoted"
          ],
          [
           "sepe"
          ],
          [
           "board"
          ],
          [
           "policies"
          ],
          [
           "drafting"
          ],
          [
           "govern"
          ],
          [
           "regulatory"
          ],
          [
           "federal"
          ],
          [
           "dutch"
          ],
          [
           "central"
          ],
          [
           "localise"
          ],
          [
           "solidarity"
          ],
          [
           "strengthening"
          ],
          [
           "rescue"
          ],
          [
           "matter"
          ],
          [
           "coresponsible"
          ],
          [
           "invite"
          ],
          [
           "competent"
          ]
         ],
         "hovertemplate": "word_cluster=national<br>X=%{x}<br>Y=%{y}<br>word=%{customdata[0]}<extra></extra>",
         "legendgroup": "national",
         "marker": {
          "color": "#FECB52",
          "symbol": "circle"
         },
         "mode": "markers",
         "name": "national",
         "orientation": "v",
         "showlegend": true,
         "type": "scatter",
         "x": [
          8.344738006591797,
          -5.018381595611572,
          -30.245203018188477,
          -23.206871032714844,
          -27.27579116821289,
          8.117403030395508,
          4.146932125091553,
          2.44646954536438,
          -32.31504440307617,
          -10.021458625793457,
          -4.037520408630371,
          -2.399857759475708,
          -32.53858184814453,
          -25.9213924407959,
          4.677234649658203,
          11.523958206176758,
          -5.874585151672363,
          -27.94317054748535,
          0.4978256821632385,
          8.70125961303711,
          8.49497127532959,
          2.2568345069885254,
          -60.177650451660156,
          -1.4226675033569336,
          -1.7170997858047485,
          16.09657096862793,
          2.6565945148468018,
          -53.20936965942383,
          -4.8266167640686035,
          6.8878350257873535
         ],
         "xaxis": "x",
         "y": [
          -69.32781982421875,
          -57.16495132446289,
          -28.921932220458984,
          -33.66324234008789,
          -32.50469207763672,
          -64.44263458251953,
          -68.2155532836914,
          -66.13385772705078,
          -27.601362228393555,
          -48.47991180419922,
          -44.07831573486328,
          -49.86748123168945,
          -12.827835083007812,
          -39.38105010986328,
          -62.6215705871582,
          -65.14940643310547,
          -64.7601547241211,
          -37.25457763671875,
          -49.94725036621094,
          -91.41608428955078,
          -78.04943084716797,
          -72.38334655761719,
          16.1364803314209,
          -57.78681564331055,
          -45.996280670166016,
          -48.939205169677734,
          -48.167808532714844,
          -2.8637847900390625,
          -67.73558807373047,
          -56.03486633300781
         ],
         "yaxis": "y"
        },
        {
         "customdata": [
          [
           "parliamentary"
          ],
          [
           "protested"
          ],
          [
           "referendum"
          ],
          [
           "proposal"
          ],
          [
           "5th"
          ],
          [
           "stakeholder"
          ],
          [
           "recommendation"
          ],
          [
           "tanaiste"
          ],
          [
           "nomination"
          ],
          [
           "complaint"
          ],
          [
           "unieuropa"
          ],
          [
           "declaratory"
          ],
          [
           "seimas"
          ],
          [
           "eurogroup"
          ],
          [
           "protest"
          ],
          [
           "congress"
          ],
          [
           "speech"
          ],
          [
           "draft"
          ],
          [
           "13/2021"
          ],
          [
           "said"
          ],
          [
           "ryanair"
          ],
          [
           "german"
          ],
          [
           "acted"
          ],
          [
           "say"
          ],
          [
           "unanimously"
          ],
          [
           "italian"
          ],
          [
           "spokesperson"
          ],
          [
           "aby"
          ],
          [
           "parliament"
          ],
          [
           "connolly"
          ]
         ],
         "hovertemplate": "word_cluster=statement<br>X=%{x}<br>Y=%{y}<br>word=%{customdata[0]}<extra></extra>",
         "legendgroup": "statement",
         "marker": {
          "color": "#636efa",
          "symbol": "circle"
         },
         "mode": "markers",
         "name": "statement",
         "orientation": "v",
         "showlegend": true,
         "type": "scatter",
         "x": [
          -5.412649631500244,
          -28.158279418945312,
          -22.301712036132812,
          -2.5853190422058105,
          -44.0225715637207,
          -16.734697341918945,
          2.096644639968872,
          -18.040353775024414,
          -48.9715576171875,
          -41.375240325927734,
          -24.54115104675293,
          -19.491897583007812,
          -21.761301040649414,
          -22.36951446533203,
          -6.116308689117432,
          -24.066551208496094,
          -19.85777473449707,
          -6.2639007568359375,
          -47.39716720581055,
          -28.868877410888672,
          -26.266067504882812,
          1.826633095741272,
          -43.44239044189453,
          -23.497180938720703,
          -17.1031494140625,
          -9.45193862915039,
          -39.07900619506836,
          -41.000022888183594,
          -5.77494478225708,
          -44.891571044921875
         ],
         "xaxis": "x",
         "y": [
          -81.48380279541016,
          -61.18183135986328,
          -49.6825065612793,
          -84.77738189697266,
          -30.8110408782959,
          -47.19422912597656,
          -80.8984146118164,
          -65.67832946777344,
          -24.730501174926758,
          -29.63736343383789,
          -54.81171417236328,
          -48.721744537353516,
          -46.743988037109375,
          -63.7073860168457,
          -69.78707122802734,
          -58.956539154052734,
          -79.75428771972656,
          -84.9714584350586,
          -19.58968162536621,
          -77.40840148925781,
          -52.18016815185547,
          -77.50861358642578,
          -21.51996421813965,
          -78.08036804199219,
          -39.7148323059082,
          -65.26100158691406,
          -20.36752700805664,
          -9.17743968963623,
          -92.91386413574219,
          -14.97567367553711
         ],
         "yaxis": "y"
        },
        {
         "customdata": [
          [
           "ross"
          ],
          [
           "prehospital"
          ],
          [
           "anticontagion"
          ],
          [
           "addressesprivate"
          ],
          [
           "formulates"
          ],
          [
           "sector.due"
          ],
          [
           "seafarersbezpieczenstwa"
          ],
          [
           "nets"
          ],
          [
           "marynarzom"
          ],
          [
           "fatigue"
          ],
          [
           "prevention"
          ],
          [
           "healthcare"
          ],
          [
           "administrations"
          ],
          [
           "interpersonal"
          ],
          [
           "revitalised"
          ],
          [
           "protection"
          ],
          [
           "intensive"
          ],
          [
           "healths"
          ],
          [
           "reappointments"
          ],
          [
           "infection.private"
          ],
          [
           "overshadowed"
          ],
          [
           "shoes"
          ],
          [
           "proclamations"
          ],
          [
           "wellbeing"
          ],
          [
           "congestion"
          ],
          [
           "selfisolated"
          ],
          [
           "longstanding"
          ],
          [
           "breakout"
          ],
          [
           "mobilised"
          ],
          [
           "servants"
          ]
         ],
         "hovertemplate": "word_cluster=health<br>X=%{x}<br>Y=%{y}<br>word=%{customdata[0]}<extra></extra>",
         "legendgroup": "health",
         "marker": {
          "color": "#EF553B",
          "symbol": "circle"
         },
         "mode": "markers",
         "name": "health",
         "orientation": "v",
         "showlegend": true,
         "type": "scatter",
         "x": [
          -33.647377014160156,
          -36.265899658203125,
          -31.07166862487793,
          -45.474491119384766,
          -48.73748016357422,
          -31.038360595703125,
          -37.7280158996582,
          -36.99437713623047,
          -38.77460479736328,
          2.994389295578003,
          18.671049118041992,
          29.973745346069336,
          7.301398754119873,
          -28.29278564453125,
          -49.14948654174805,
          17.28997230529785,
          -24.942607879638672,
          5.542503833770752,
          -46.722564697265625,
          -37.946617126464844,
          -45.4399299621582,
          -40.92951583862305,
          -45.852256774902344,
          34.562007904052734,
          -40.8261604309082,
          -44.25146484375,
          -27.743255615234375,
          -9.32187557220459,
          9.41977596282959,
          5.985213279724121
         ],
         "xaxis": "x",
         "y": [
          10.644343376159668,
          5.331406593322754,
          10.228730201721191,
          23.867366790771484,
          21.166126251220703,
          22.833520889282227,
          12.74271297454834,
          9.44371223449707,
          14.218701362609863,
          47.84309005737305,
          -28.232072830200195,
          -17.57425308227539,
          -41.51424789428711,
          9.950421333312988,
          26.883268356323242,
          -31.217453002929688,
          8.808805465698242,
          -5.942207336425781,
          8.237505912780762,
          19.235048294067383,
          30.715896606445312,
          12.305171966552734,
          27.93275260925293,
          -16.695308685302734,
          22.005558013916016,
          18.36614418029785,
          22.427282333374023,
          47.60379409790039,
          -8.150849342346191,
          -45.997623443603516
         ],
         "yaxis": "y"
        },
        {
         "customdata": [
          [
           "ministry"
          ],
          [
           "ministers"
          ],
          [
           "science"
          ],
          [
           "paschal"
          ],
          [
           "health.these"
          ],
          [
           "simon"
          ],
          [
           "degrees"
          ],
          [
           "17312/9.506/4.5.2020"
          ],
          [
           "circular"
          ],
          [
           "ministries"
          ],
          [
           "affairs"
          ],
          [
           "president"
          ],
          [
           "silvio"
          ],
          [
           "2020).furthermore"
          ],
          [
           "humphreys"
          ],
          [
           "gowin"
          ],
          [
           "carinthia"
          ],
          [
           "deputy"
          ],
          [
           "localise"
          ],
          [
           "generaldirectorate"
          ],
          [
           "youth.on"
          ],
          [
           "issued"
          ],
          [
           "mef"
          ],
          [
           "td"
          ],
          [
           "ms"
          ],
          [
           "minstry"
          ],
          [
           "donohoe"
          ],
          [
           "33a/2021"
          ],
          [
           "janis"
          ],
          [
           "directorate"
          ]
         ],
         "hovertemplate": "word_cluster=minister<br>X=%{x}<br>Y=%{y}<br>word=%{customdata[0]}<extra></extra>",
         "legendgroup": "minister",
         "marker": {
          "color": "#00cc96",
          "symbol": "circle"
         },
         "mode": "markers",
         "name": "minister",
         "orientation": "v",
         "showlegend": true,
         "type": "scatter",
         "x": [
          -19.785289764404297,
          -12.627527236938477,
          -16.014150619506836,
          -16.653064727783203,
          -67.64000701904297,
          -35.99409103393555,
          -42.133026123046875,
          -56.05522155761719,
          -14.48473834991455,
          -13.054461479187012,
          -19.897024154663086,
          -10.667332649230957,
          -59.647090911865234,
          -53.954105377197266,
          -22.08191680908203,
          -51.913169860839844,
          -51.9820671081543,
          -15.399703979492188,
          -58.517940521240234,
          -69.28679656982422,
          -60.10673141479492,
          -10.253271102905273,
          -54.67369842529297,
          -17.574487686157227,
          -38.86526870727539,
          -60.82068634033203,
          -19.04920768737793,
          -50.37883758544922,
          -57.31498718261719,
          -25.192338943481445
         ],
         "xaxis": "x",
         "y": [
          -90.45426940917969,
          -95.26985168457031,
          -83.76275634765625,
          -72.64120483398438,
          -26.345556259155273,
          -40.467308044433594,
          -38.63473129272461,
          -23.393932342529297,
          -79.23130798339844,
          -73.74925994873047,
          -87.58612060546875,
          -92.5534439086914,
          -26.7775936126709,
          -29.18092155456543,
          -73.23084259033203,
          -27.588247299194336,
          -23.481626510620117,
          -68.84590911865234,
          16.343332290649414,
          -28.541513442993164,
          -30.958131790161133,
          -89.56521606445312,
          -31.867830276489258,
          -76.97355651855469,
          -42.53112030029297,
          -21.1505184173584,
          -83.13941192626953,
          -30.248523712158203,
          -27.69186019897461,
          -42.255577087402344
         ],
         "yaxis": "y"
        },
        {
         "customdata": [
          [
           "retention"
          ],
          [
           "adaptation"
          ],
          [
           "expand"
          ],
          [
           "quickly"
          ],
          [
           "kurzarbeit"
          ],
          [
           "said.these"
          ],
          [
           "created"
          ],
          [
           "different"
          ],
          [
           "implemented"
          ],
          [
           "flexible"
          ],
          [
           "work.this"
          ],
          [
           "facilitate"
          ],
          [
           "series"
          ],
          [
           "jobshare"
          ],
          [
           "create"
          ],
          [
           "exploring"
          ],
          [
           "bl"
          ],
          [
           "changes"
          ],
          [
           "stimulate"
          ],
          [
           "selfdeclare"
          ],
          [
           "open"
          ],
          [
           "frame"
          ],
          [
           "relaxed"
          ],
          [
           "jobs"
          ],
          [
           "destroy"
          ],
          [
           "helping"
          ],
          [
           "workshare"
          ],
          [
           "qcommerce"
          ],
          [
           "existing"
          ],
          [
           "effective"
          ]
         ],
         "hovertemplate": "word_cluster=new<br>X=%{x}<br>Y=%{y}<br>word=%{customdata[0]}<extra></extra>",
         "legendgroup": "new",
         "marker": {
          "color": "#ab63fa",
          "symbol": "circle"
         },
         "mode": "markers",
         "name": "new",
         "orientation": "v",
         "showlegend": true,
         "type": "scatter",
         "x": [
          57.11011505126953,
          45.9253044128418,
          43.07271957397461,
          38.77726364135742,
          -17.34406089782715,
          -40.78535842895508,
          46.25240707397461,
          57.605796813964844,
          41.75190353393555,
          54.09540557861328,
          -17.184738159179688,
          49.00030517578125,
          38.907257080078125,
          -28.10787010192871,
          49.31751251220703,
          -36.96632385253906,
          -15.981529235839844,
          60.09016036987305,
          52.65745544433594,
          -34.480159759521484,
          39.88581085205078,
          32.63052749633789,
          29.30157470703125,
          47.72641372680664,
          -43.82178497314453,
          47.243896484375,
          -31.3157958984375,
          -24.36870002746582,
          48.542327880859375,
          35.88182067871094
         ],
         "xaxis": "x",
         "y": [
          -11.891571998596191,
          -30.29231071472168,
          -35.082584381103516,
          -27.876035690307617,
          43.82537841796875,
          43.10923385620117,
          -33.331390380859375,
          -42.501102447509766,
          -58.80796813964844,
          -2.6509599685668945,
          37.75829315185547,
          -30.183156967163086,
          -56.42300796508789,
          44.439476013183594,
          -34.365745544433594,
          43.659305572509766,
          47.98941421508789,
          1.5991899967193604,
          -33.94076919555664,
          44.223876953125,
          -24.96695327758789,
          10.184425354003906,
          14.217998504638672,
          -45.36915588378906,
          41.90594482421875,
          -21.429973602294922,
          43.10596466064453,
          45.73490524291992,
          -37.597381591796875,
          -34.92113494873047
         ],
         "yaxis": "y"
        },
        {
         "customdata": [
          [
           "emanated"
          ],
          [
           "corona"
          ],
          [
           "consequences"
          ],
          [
           "sarscov2"
          ],
          [
           "wave"
          ],
          [
           "mitigate"
          ],
          [
           "covid19"
          ],
          [
           "isimportant"
          ],
          [
           "virus"
          ],
          [
           "effects"
          ],
          [
           "covid19.the"
          ],
          [
           "consequence"
          ],
          [
           "contention"
          ],
          [
           "ofcovid"
          ],
          [
           "permitting"
          ],
          [
           "covid19.measures"
          ],
          [
           "negative"
          ],
          [
           "virus\",the"
          ],
          [
           "control.this"
          ],
          [
           "mitigation"
          ],
          [
           "multilayered"
          ],
          [
           "caused"
          ],
          [
           "result"
          ],
          [
           "quantify"
          ],
          [
           "covid19.these"
          ],
          [
           "gambia"
          ],
          [
           "current"
          ],
          [
           "covid19;4"
          ],
          [
           "'cause"
          ],
          [
           "situation"
          ]
         ],
         "hovertemplate": "word_cluster=coronavirus<br>X=%{x}<br>Y=%{y}<br>word=%{customdata[0]}<extra></extra>",
         "legendgroup": "coronavirus",
         "marker": {
          "color": "#FFA15A",
          "symbol": "circle"
         },
         "mode": "markers",
         "name": "coronavirus",
         "orientation": "v",
         "showlegend": true,
         "type": "scatter",
         "x": [
          -10.30518913269043,
          82.89732360839844,
          82.318115234375,
          19.18401527404785,
          78.95105743408203,
          79.10374450683594,
          86.51718139648438,
          -14.148391723632812,
          82.66032409667969,
          79.90290069580078,
          15.338189125061035,
          77.07157135009766,
          -3.623579263687134,
          -17.861835479736328,
          -22.28937339782715,
          -20.207847595214844,
          81.11371612548828,
          -16.262985229492188,
          2.5824437141418457,
          16.656280517578125,
          -4.52465295791626,
          77.19379425048828,
          73.7090835571289,
          -4.911327838897705,
          7.731800556182861,
          -20.964885711669922,
          65.99588012695312,
          -15.092413902282715,
          76.23673248291016,
          73.83575439453125
         ],
         "xaxis": "x",
         "y": [
          57.008888244628906,
          40.4162712097168,
          30.659074783325195,
          -21.486806869506836,
          21.740219116210938,
          32.68495178222656,
          38.80964660644531,
          63.55324935913086,
          23.589981079101562,
          29.651079177856445,
          48.96556854248047,
          29.239152908325195,
          50.34418869018555,
          63.92474365234375,
          71.960205078125,
          61.325687408447266,
          27.110456466674805,
          68.4771957397461,
          68.13518524169922,
          -12.659099578857422,
          59.00952911376953,
          26.721323013305664,
          27.422117233276367,
          71.11485290527344,
          57.53720474243164,
          68.53800201416016,
          28.922365188598633,
          52.69526672363281,
          24.40145492553711,
          32.886417388916016
         ],
         "yaxis": "y"
        },
        {
         "customdata": [
          [
           "variants"
          ],
          [
           "vaccines"
          ],
          [
           "fight"
          ],
          [
           "ghana"
          ],
          [
           "defeating"
          ],
          [
           "phase.this"
          ],
          [
           "skutkami"
          ],
          [
           "dynamics"
          ],
          [
           "itrecognises"
          ],
          [
           "place.if"
          ],
          [
           "variant"
          ],
          [
           "dotknietym"
          ],
          [
           "joins"
          ],
          [
           "pressing"
          ],
          [
           "wake"
          ],
          [
           "quasilockdown"
          ],
          [
           "aftereffects"
          ],
          [
           "toknow"
          ],
          [
           "elisas"
          ],
          [
           "hospitalised"
          ],
          [
           "measures.lex"
          ],
          [
           "ziga"
          ],
          [
           "diversify"
          ],
          [
           "suspect"
          ],
          [
           "fast"
          ],
          [
           "twin"
          ],
          [
           "handteringen"
          ],
          [
           "crisis.reduction"
          ],
          [
           "turning"
          ],
          [
           "covered.in"
          ]
         ],
         "hovertemplate": "word_cluster=vaccine<br>X=%{x}<br>Y=%{y}<br>word=%{customdata[0]}<extra></extra>",
         "legendgroup": "vaccine",
         "marker": {
          "color": "#19d3f3",
          "symbol": "circle"
         },
         "mode": "markers",
         "name": "vaccine",
         "orientation": "v",
         "showlegend": true,
         "type": "scatter",
         "x": [
          -9.374155044555664,
          33.211307525634766,
          29.807987213134766,
          -3.7505011558532715,
          -7.880100727081299,
          -11.893122673034668,
          -1.6163614988327026,
          -9.09946060180664,
          -10.459882736206055,
          -5.162443161010742,
          14.512551307678223,
          0.5492311120033264,
          -6.371577739715576,
          3.858720302581787,
          12.275382995605469,
          -10.354382514953613,
          -5.1236677169799805,
          -13.40481948852539,
          -5.4147186279296875,
          -13.859085083007812,
          0.3212732672691345,
          0.5057883858680725,
          6.662107944488525,
          9.184640884399414,
          35.92728805541992,
          -0.21468158066272736,
          -0.8045547008514404,
          -10.349156379699707,
          3.795104742050171,
          -6.644903659820557
         ],
         "xaxis": "x",
         "y": [
          -2.8153393268585205,
          -30.565155029296875,
          -33.592594146728516,
          -0.7845522165298462,
          1.9765121936798096,
          -4.519598007202148,
          -7.343055725097656,
          6.616476535797119,
          0.31055399775505066,
          -3.490417242050171,
          -4.15022087097168,
          -7.429241180419922,
          4.600556373596191,
          -2.6280229091644287,
          -5.280970573425293,
          -6.409895896911621,
          2.2865521907806396,
          0.4316498339176178,
          -10.39178466796875,
          3.9866909980773926,
          1.0636273622512817,
          -4.2882561683654785,
          -0.05046558007597923,
          -12.064078330993652,
          -30.595064163208008,
          -1.9573978185653687,
          -10.75551700592041,
          3.0873725414276123,
          1.2853569984436035,
          -0.5747528672218323
         ],
         "yaxis": "y"
        },
        {
         "customdata": [
          [
           "paschal"
          ],
          [
           "unanimously"
          ],
          [
           "iceland"
          ],
          [
           "eu"
          ],
          [
           "nomination"
          ],
          [
           "european"
          ],
          [
           "tanaiste"
          ],
          [
           "eurogroup"
          ],
          [
           "framework"
          ],
          [
           "collins"
          ],
          [
           "interlocutor"
          ],
          [
           "td"
          ],
          [
           "parliamentary"
          ],
          [
           "vetoed"
          ],
          [
           "microentreprise"
          ],
          [
           "chains.according"
          ],
          [
           "giuseppe"
          ],
          [
           "junta"
          ],
          [
           "castilla"
          ],
          [
           "said"
          ],
          [
           "outline"
          ],
          [
           "humphreys"
          ],
          [
           "recommendation"
          ],
          [
           "president"
          ],
          [
           "projet"
          ],
          [
           "congress"
          ],
          [
           "authorizes"
          ],
          [
           "simon"
          ],
          [
           "dgcom"
          ],
          [
           "statement"
          ]
         ],
         "hovertemplate": "word_cluster=commission<br>X=%{x}<br>Y=%{y}<br>word=%{customdata[0]}<extra></extra>",
         "legendgroup": "commission",
         "marker": {
          "color": "#FF6692",
          "symbol": "circle"
         },
         "mode": "markers",
         "name": "commission",
         "orientation": "v",
         "showlegend": true,
         "type": "scatter",
         "x": [
          -18.3731746673584,
          -18.011798858642578,
          -49.56395721435547,
          11.552136421203613,
          -48.3559455871582,
          13.692689895629883,
          -19.187402725219727,
          -23.66162109375,
          14.886048316955566,
          -34.87590026855469,
          -58.046485900878906,
          -19.413419723510742,
          -3.751851797103882,
          -52.99457931518555,
          -54.025665283203125,
          -55.26506423950195,
          -38.240665435791016,
          -33.987552642822266,
          -12.994250297546387,
          -28.573333740234375,
          -13.042189598083496,
          -22.462770462036133,
          3.7104671001434326,
          -9.251433372497559,
          -46.212249755859375,
          -25.756322860717773,
          -55.342315673828125,
          -34.3546028137207,
          -50.82487106323242,
          0.8851994872093201
         ],
         "xaxis": "x",
         "y": [
          -71.8069839477539,
          -41.11687469482422,
          -14.699987411499023,
          -80.32167053222656,
          -23.04471778869629,
          -80.42377471923828,
          -66.99549102783203,
          -64.89166259765625,
          -64.6768798828125,
          -36.048377990722656,
          -17.200542449951172,
          -76.54737091064453,
          -81.37022399902344,
          -17.972883224487305,
          -15.182147026062012,
          -13.146427154541016,
          -37.75858688354492,
          -43.779685974121094,
          -63.414005279541016,
          -79.1725082397461,
          -44.854888916015625,
          -71.3300552368164,
          -80.81324005126953,
          -93.31037139892578,
          -26.029401779174805,
          -58.489219665527344,
          -19.608646392822266,
          -39.92412567138672,
          -12.675431251525879,
          -85.48540496826172
         ],
         "yaxis": "y"
        }
       ],
       "layout": {
        "legend": {
         "title": {
          "text": "word_cluster"
         },
         "tracegroupgap": 0
        },
        "margin": {
         "t": 60
        },
        "template": {
         "data": {
          "bar": [
           {
            "error_x": {
             "color": "#2a3f5f"
            },
            "error_y": {
             "color": "#2a3f5f"
            },
            "marker": {
             "line": {
              "color": "#E5ECF6",
              "width": 0.5
             },
             "pattern": {
              "fillmode": "overlay",
              "size": 10,
              "solidity": 0.2
             }
            },
            "type": "bar"
           }
          ],
          "barpolar": [
           {
            "marker": {
             "line": {
              "color": "#E5ECF6",
              "width": 0.5
             },
             "pattern": {
              "fillmode": "overlay",
              "size": 10,
              "solidity": 0.2
             }
            },
            "type": "barpolar"
           }
          ],
          "carpet": [
           {
            "aaxis": {
             "endlinecolor": "#2a3f5f",
             "gridcolor": "white",
             "linecolor": "white",
             "minorgridcolor": "white",
             "startlinecolor": "#2a3f5f"
            },
            "baxis": {
             "endlinecolor": "#2a3f5f",
             "gridcolor": "white",
             "linecolor": "white",
             "minorgridcolor": "white",
             "startlinecolor": "#2a3f5f"
            },
            "type": "carpet"
           }
          ],
          "choropleth": [
           {
            "colorbar": {
             "outlinewidth": 0,
             "ticks": ""
            },
            "type": "choropleth"
           }
          ],
          "contour": [
           {
            "colorbar": {
             "outlinewidth": 0,
             "ticks": ""
            },
            "colorscale": [
             [
              0.0,
              "#0d0887"
             ],
             [
              0.1111111111111111,
              "#46039f"
             ],
             [
              0.2222222222222222,
              "#7201a8"
             ],
             [
              0.3333333333333333,
              "#9c179e"
             ],
             [
              0.4444444444444444,
              "#bd3786"
             ],
             [
              0.5555555555555556,
              "#d8576b"
             ],
             [
              0.6666666666666666,
              "#ed7953"
             ],
             [
              0.7777777777777778,
              "#fb9f3a"
             ],
             [
              0.8888888888888888,
              "#fdca26"
             ],
             [
              1.0,
              "#f0f921"
             ]
            ],
            "type": "contour"
           }
          ],
          "contourcarpet": [
           {
            "colorbar": {
             "outlinewidth": 0,
             "ticks": ""
            },
            "type": "contourcarpet"
           }
          ],
          "heatmap": [
           {
            "colorbar": {
             "outlinewidth": 0,
             "ticks": ""
            },
            "colorscale": [
             [
              0.0,
              "#0d0887"
             ],
             [
              0.1111111111111111,
              "#46039f"
             ],
             [
              0.2222222222222222,
              "#7201a8"
             ],
             [
              0.3333333333333333,
              "#9c179e"
             ],
             [
              0.4444444444444444,
              "#bd3786"
             ],
             [
              0.5555555555555556,
              "#d8576b"
             ],
             [
              0.6666666666666666,
              "#ed7953"
             ],
             [
              0.7777777777777778,
              "#fb9f3a"
             ],
             [
              0.8888888888888888,
              "#fdca26"
             ],
             [
              1.0,
              "#f0f921"
             ]
            ],
            "type": "heatmap"
           }
          ],
          "heatmapgl": [
           {
            "colorbar": {
             "outlinewidth": 0,
             "ticks": ""
            },
            "colorscale": [
             [
              0.0,
              "#0d0887"
             ],
             [
              0.1111111111111111,
              "#46039f"
             ],
             [
              0.2222222222222222,
              "#7201a8"
             ],
             [
              0.3333333333333333,
              "#9c179e"
             ],
             [
              0.4444444444444444,
              "#bd3786"
             ],
             [
              0.5555555555555556,
              "#d8576b"
             ],
             [
              0.6666666666666666,
              "#ed7953"
             ],
             [
              0.7777777777777778,
              "#fb9f3a"
             ],
             [
              0.8888888888888888,
              "#fdca26"
             ],
             [
              1.0,
              "#f0f921"
             ]
            ],
            "type": "heatmapgl"
           }
          ],
          "histogram": [
           {
            "marker": {
             "pattern": {
              "fillmode": "overlay",
              "size": 10,
              "solidity": 0.2
             }
            },
            "type": "histogram"
           }
          ],
          "histogram2d": [
           {
            "colorbar": {
             "outlinewidth": 0,
             "ticks": ""
            },
            "colorscale": [
             [
              0.0,
              "#0d0887"
             ],
             [
              0.1111111111111111,
              "#46039f"
             ],
             [
              0.2222222222222222,
              "#7201a8"
             ],
             [
              0.3333333333333333,
              "#9c179e"
             ],
             [
              0.4444444444444444,
              "#bd3786"
             ],
             [
              0.5555555555555556,
              "#d8576b"
             ],
             [
              0.6666666666666666,
              "#ed7953"
             ],
             [
              0.7777777777777778,
              "#fb9f3a"
             ],
             [
              0.8888888888888888,
              "#fdca26"
             ],
             [
              1.0,
              "#f0f921"
             ]
            ],
            "type": "histogram2d"
           }
          ],
          "histogram2dcontour": [
           {
            "colorbar": {
             "outlinewidth": 0,
             "ticks": ""
            },
            "colorscale": [
             [
              0.0,
              "#0d0887"
             ],
             [
              0.1111111111111111,
              "#46039f"
             ],
             [
              0.2222222222222222,
              "#7201a8"
             ],
             [
              0.3333333333333333,
              "#9c179e"
             ],
             [
              0.4444444444444444,
              "#bd3786"
             ],
             [
              0.5555555555555556,
              "#d8576b"
             ],
             [
              0.6666666666666666,
              "#ed7953"
             ],
             [
              0.7777777777777778,
              "#fb9f3a"
             ],
             [
              0.8888888888888888,
              "#fdca26"
             ],
             [
              1.0,
              "#f0f921"
             ]
            ],
            "type": "histogram2dcontour"
           }
          ],
          "mesh3d": [
           {
            "colorbar": {
             "outlinewidth": 0,
             "ticks": ""
            },
            "type": "mesh3d"
           }
          ],
          "parcoords": [
           {
            "line": {
             "colorbar": {
              "outlinewidth": 0,
              "ticks": ""
             }
            },
            "type": "parcoords"
           }
          ],
          "pie": [
           {
            "automargin": true,
            "type": "pie"
           }
          ],
          "scatter": [
           {
            "marker": {
             "colorbar": {
              "outlinewidth": 0,
              "ticks": ""
             }
            },
            "type": "scatter"
           }
          ],
          "scatter3d": [
           {
            "line": {
             "colorbar": {
              "outlinewidth": 0,
              "ticks": ""
             }
            },
            "marker": {
             "colorbar": {
              "outlinewidth": 0,
              "ticks": ""
             }
            },
            "type": "scatter3d"
           }
          ],
          "scattercarpet": [
           {
            "marker": {
             "colorbar": {
              "outlinewidth": 0,
              "ticks": ""
             }
            },
            "type": "scattercarpet"
           }
          ],
          "scattergeo": [
           {
            "marker": {
             "colorbar": {
              "outlinewidth": 0,
              "ticks": ""
             }
            },
            "type": "scattergeo"
           }
          ],
          "scattergl": [
           {
            "marker": {
             "colorbar": {
              "outlinewidth": 0,
              "ticks": ""
             }
            },
            "type": "scattergl"
           }
          ],
          "scattermapbox": [
           {
            "marker": {
             "colorbar": {
              "outlinewidth": 0,
              "ticks": ""
             }
            },
            "type": "scattermapbox"
           }
          ],
          "scatterpolar": [
           {
            "marker": {
             "colorbar": {
              "outlinewidth": 0,
              "ticks": ""
             }
            },
            "type": "scatterpolar"
           }
          ],
          "scatterpolargl": [
           {
            "marker": {
             "colorbar": {
              "outlinewidth": 0,
              "ticks": ""
             }
            },
            "type": "scatterpolargl"
           }
          ],
          "scatterternary": [
           {
            "marker": {
             "colorbar": {
              "outlinewidth": 0,
              "ticks": ""
             }
            },
            "type": "scatterternary"
           }
          ],
          "surface": [
           {
            "colorbar": {
             "outlinewidth": 0,
             "ticks": ""
            },
            "colorscale": [
             [
              0.0,
              "#0d0887"
             ],
             [
              0.1111111111111111,
              "#46039f"
             ],
             [
              0.2222222222222222,
              "#7201a8"
             ],
             [
              0.3333333333333333,
              "#9c179e"
             ],
             [
              0.4444444444444444,
              "#bd3786"
             ],
             [
              0.5555555555555556,
              "#d8576b"
             ],
             [
              0.6666666666666666,
              "#ed7953"
             ],
             [
              0.7777777777777778,
              "#fb9f3a"
             ],
             [
              0.8888888888888888,
              "#fdca26"
             ],
             [
              1.0,
              "#f0f921"
             ]
            ],
            "type": "surface"
           }
          ],
          "table": [
           {
            "cells": {
             "fill": {
              "color": "#EBF0F8"
             },
             "line": {
              "color": "white"
             }
            },
            "header": {
             "fill": {
              "color": "#C8D4E3"
             },
             "line": {
              "color": "white"
             }
            },
            "type": "table"
           }
          ]
         },
         "layout": {
          "annotationdefaults": {
           "arrowcolor": "#2a3f5f",
           "arrowhead": 0,
           "arrowwidth": 1
          },
          "autotypenumbers": "strict",
          "coloraxis": {
           "colorbar": {
            "outlinewidth": 0,
            "ticks": ""
           }
          },
          "colorscale": {
           "diverging": [
            [
             0,
             "#8e0152"
            ],
            [
             0.1,
             "#c51b7d"
            ],
            [
             0.2,
             "#de77ae"
            ],
            [
             0.3,
             "#f1b6da"
            ],
            [
             0.4,
             "#fde0ef"
            ],
            [
             0.5,
             "#f7f7f7"
            ],
            [
             0.6,
             "#e6f5d0"
            ],
            [
             0.7,
             "#b8e186"
            ],
            [
             0.8,
             "#7fbc41"
            ],
            [
             0.9,
             "#4d9221"
            ],
            [
             1,
             "#276419"
            ]
           ],
           "sequential": [
            [
             0.0,
             "#0d0887"
            ],
            [
             0.1111111111111111,
             "#46039f"
            ],
            [
             0.2222222222222222,
             "#7201a8"
            ],
            [
             0.3333333333333333,
             "#9c179e"
            ],
            [
             0.4444444444444444,
             "#bd3786"
            ],
            [
             0.5555555555555556,
             "#d8576b"
            ],
            [
             0.6666666666666666,
             "#ed7953"
            ],
            [
             0.7777777777777778,
             "#fb9f3a"
            ],
            [
             0.8888888888888888,
             "#fdca26"
            ],
            [
             1.0,
             "#f0f921"
            ]
           ],
           "sequentialminus": [
            [
             0.0,
             "#0d0887"
            ],
            [
             0.1111111111111111,
             "#46039f"
            ],
            [
             0.2222222222222222,
             "#7201a8"
            ],
            [
             0.3333333333333333,
             "#9c179e"
            ],
            [
             0.4444444444444444,
             "#bd3786"
            ],
            [
             0.5555555555555556,
             "#d8576b"
            ],
            [
             0.6666666666666666,
             "#ed7953"
            ],
            [
             0.7777777777777778,
             "#fb9f3a"
            ],
            [
             0.8888888888888888,
             "#fdca26"
            ],
            [
             1.0,
             "#f0f921"
            ]
           ]
          },
          "colorway": [
           "#636efa",
           "#EF553B",
           "#00cc96",
           "#ab63fa",
           "#FFA15A",
           "#19d3f3",
           "#FF6692",
           "#B6E880",
           "#FF97FF",
           "#FECB52"
          ],
          "font": {
           "color": "#2a3f5f"
          },
          "geo": {
           "bgcolor": "white",
           "lakecolor": "white",
           "landcolor": "#E5ECF6",
           "showlakes": true,
           "showland": true,
           "subunitcolor": "white"
          },
          "hoverlabel": {
           "align": "left"
          },
          "hovermode": "closest",
          "mapbox": {
           "style": "light"
          },
          "paper_bgcolor": "white",
          "plot_bgcolor": "#E5ECF6",
          "polar": {
           "angularaxis": {
            "gridcolor": "white",
            "linecolor": "white",
            "ticks": ""
           },
           "bgcolor": "#E5ECF6",
           "radialaxis": {
            "gridcolor": "white",
            "linecolor": "white",
            "ticks": ""
           }
          },
          "scene": {
           "xaxis": {
            "backgroundcolor": "#E5ECF6",
            "gridcolor": "white",
            "gridwidth": 2,
            "linecolor": "white",
            "showbackground": true,
            "ticks": "",
            "zerolinecolor": "white"
           },
           "yaxis": {
            "backgroundcolor": "#E5ECF6",
            "gridcolor": "white",
            "gridwidth": 2,
            "linecolor": "white",
            "showbackground": true,
            "ticks": "",
            "zerolinecolor": "white"
           },
           "zaxis": {
            "backgroundcolor": "#E5ECF6",
            "gridcolor": "white",
            "gridwidth": 2,
            "linecolor": "white",
            "showbackground": true,
            "ticks": "",
            "zerolinecolor": "white"
           }
          },
          "shapedefaults": {
           "line": {
            "color": "#2a3f5f"
           }
          },
          "ternary": {
           "aaxis": {
            "gridcolor": "white",
            "linecolor": "white",
            "ticks": ""
           },
           "baxis": {
            "gridcolor": "white",
            "linecolor": "white",
            "ticks": ""
           },
           "bgcolor": "#E5ECF6",
           "caxis": {
            "gridcolor": "white",
            "linecolor": "white",
            "ticks": ""
           }
          },
          "title": {
           "x": 0.05
          },
          "xaxis": {
           "automargin": true,
           "gridcolor": "white",
           "linecolor": "white",
           "ticks": "",
           "title": {
            "standoff": 15
           },
           "zerolinecolor": "white",
           "zerolinewidth": 2
          },
          "yaxis": {
           "automargin": true,
           "gridcolor": "white",
           "linecolor": "white",
           "ticks": "",
           "title": {
            "standoff": 15
           },
           "zerolinecolor": "white",
           "zerolinewidth": 2
          }
         }
        },
        "xaxis": {
         "anchor": "y",
         "domain": [
          0.0,
          1.0
         ],
         "title": {
          "text": "X"
         }
        },
        "yaxis": {
         "anchor": "x",
         "domain": [
          0.0,
          1.0
         ],
         "title": {
          "text": "Y"
         }
        }
       }
      },
      "text/html": "<div>                            <div id=\"5e298b46-a3c3-4965-8c46-1970457008bf\" class=\"plotly-graph-div\" style=\"height:525px; width:100%;\"></div>            <script type=\"text/javascript\">                require([\"plotly\"], function(Plotly) {                    window.PLOTLYENV=window.PLOTLYENV || {};                                    if (document.getElementById(\"5e298b46-a3c3-4965-8c46-1970457008bf\")) {                    Plotly.newPlot(                        \"5e298b46-a3c3-4965-8c46-1970457008bf\",                        [{\"customdata\":[[\"agreements\"],[\"bargaining\"],[\"agreementwhether\"],[\"967724\"],[\"leader\"],[\"subcontracts\"],[\"metalworker\"],[\"dismissal\"],[\"bargains.the\"],[\"those.in\"],[\"conventionnelle\"],[\"annexe\"],[\"dismissals\"],[\"metalworkers\"],[\"collective\"],[\"261\"],[\"satisfaction\"],[\"redundancies\"],[\"rounds\"],[\"amendements\"],[\"annexes\"],[\"springs\"],[\"law.the\"],[\"agreed\"],[\"unusual\"],[\"supervisors.the\"],[\"arrangement\"],[\"signatory\"],[\"l6152\"],[\"campgrounds.in\"]],\"hovertemplate\":\"word_cluster=agreement<br>X=%{x}<br>Y=%{y}<br>word=%{customdata[0]}<extra></extra>\",\"legendgroup\":\"agreement\",\"marker\":{\"color\":\"#636efa\",\"symbol\":\"circle\"},\"mode\":\"markers\",\"name\":\"agreement\",\"orientation\":\"v\",\"showlegend\":true,\"type\":\"scatter\",\"x\":[63.02115249633789,63.336181640625,-83.78180694580078,-80.4614028930664,-92.75932312011719,-76.73568725585938,-74.6662826538086,56.10664749145508,-85.26654815673828,-74.55878448486328,-84.05561828613281,-84.04441833496094,56.728092193603516,-79.38843536376953,66.48815155029297,-78.07572937011719,-89.43023681640625,59.37388229370117,-94.36892700195312,-78.89855194091797,-86.57461547851562,-77.37852478027344,-81.82830047607422,-14.924124717712402,-87.94441986083984,-72.10806274414062,54.55071258544922,-17.742843627929688,-71.37482452392578,-87.485595703125],\"xaxis\":\"x\",\"y\":[13.578117370605469,11.639664649963379,34.62906265258789,38.106224060058594,30.001014709472656,37.60158920288086,38.66722869873047,13.157597541809082,41.58859634399414,42.03823471069336,37.580055236816406,30.631927490234375,6.778743267059326,32.38173294067383,11.593416213989258,44.661842346191406,39.27301788330078,6.16321325302124,29.083473205566406,39.91068649291992,28.87227439880371,33.73722457885742,32.085052490234375,-56.00779342651367,34.3209114074707,34.834415435791016,-0.3572019338607788,-53.957122802734375,39.99846649169922,43.036380767822266],\"yaxis\":\"y\"},{\"customdata\":[[\"businesses\"],[\"company\"],[\"enterprises\"],[\"smes\"],[\"firms\"],[\"entrepreneurs\"],[\"operations.this\"],[\"business\"],[\"activity.restalia\"],[\"sole\"],[\"60.5\"],[\"medium\"],[\"soundly\"],[\"rid\"],[\"reliefof'kata\"],[\"target\"],[\"40.5\"],[\"48.4\"],[\"segments\"],[\"goods.the\"],[\"relatively\"],[\"dairies\"],[\"enterprise\"],[\"proprietor\"],[\"7,500\"],[\"micro\"],[\"liquidity\"],[\"large\"],[\"entrepreneur\"],[\"solo\"]],\"hovertemplate\":\"word_cluster=companies<br>X=%{x}<br>Y=%{y}<br>word=%{customdata[0]}<extra></extra>\",\"legendgroup\":\"companies\",\"marker\":{\"color\":\"#EF553B\",\"symbol\":\"circle\"},\"mode\":\"markers\",\"name\":\"companies\",\"orientation\":\"v\",\"showlegend\":true,\"type\":\"scatter\",\"x\":[89.93497467041016,97.03475189208984,92.35305786132812,86.17594146728516,83.80792236328125,83.64997863769531,-38.868736267089844,92.54022216796875,-32.03909683227539,80.44441223144531,-27.05922508239746,89.16060638427734,-38.82967758178711,-36.52553939819336,-32.97970199584961,79.29366302490234,-31.487472534179688,-31.88704490661621,8.831899642944336,-35.64251708984375,13.13077163696289,9.906232833862305,93.4046859741211,8.074339866638184,10.85116195678711,89.81194305419922,86.5229263305664,87.10942077636719,83.70366668701172,79.63105010986328],\"xaxis\":\"x\",\"y\":[-36.950496673583984,-36.49337387084961,-31.791790008544922,-35.789188385009766,-29.867660522460938,-35.78998565673828,60.3173713684082,-38.11711120605469,53.03627014160156,-32.4852180480957,55.0255012512207,-28.074636459350586,55.13935089111328,54.15618896484375,54.95925521850586,-26.67334747314453,57.663082122802734,59.57065200805664,16.530473709106445,47.96533203125,13.368195533752441,13.809895515441895,-29.094436645507812,20.90986442565918,21.36687660217285,-30.048019409179688,-39.156524658203125,-25.833255767822266,-33.01298141479492,-36.05039978027344],\"yaxis\":\"y\"},{\"customdata\":[[\"worker\"],[\"employees\"],[\"employee\"],[\"people\"],[\"groups\"],[\"dependents.the\"],[\"professionals\"],[\"workforce\"],[\"personnel\"],[\"staff\"],[\"3,388\"],[\"workers.the\"],[\"persons\"],[\"professions\"],[\"equalised\"],[\"apprentices\"],[\"5,600\"],[\"jobs\"],[\"individuals\"],[\"nature\"],[\"reconvert\"],[\"149,800\"],[\"deserve\"],[\"flu\"],[\"off\"],[\"2001\"],[\"jobseekers\"],[\"utilisation\"],[\"attention\"],[\"parttime\"]],\"hovertemplate\":\"word_cluster=workers<br>X=%{x}<br>Y=%{y}<br>word=%{customdata[0]}<extra></extra>\",\"legendgroup\":\"workers\",\"marker\":{\"color\":\"#00cc96\",\"symbol\":\"circle\"},\"mode\":\"markers\",\"name\":\"workers\",\"orientation\":\"v\",\"showlegend\":true,\"type\":\"scatter\",\"x\":[37.83896255493164,34.2275390625,36.0975227355957,71.5795669555664,64.56263732910156,-56.83976364135742,29.71054458618164,39.356056213378906,37.11011505126953,39.66607666015625,-57.91416549682617,11.05228328704834,74.90218353271484,32.125328063964844,-41.94239044189453,44.49095916748047,-49.37116241455078,47.72641372680664,76.20995330810547,46.020172119140625,-59.2399787902832,-51.683753967285156,-28.122215270996094,-47.62324905395508,46.22807693481445,-53.973411560058594,-43.14421844482422,-34.870121002197266,33.52409362792969,45.69727325439453],\"xaxis\":\"x\",\"y\":[-2.895869731903076,-0.972459614276886,-1.5407299995422363,-42.3530387878418,-42.33834457397461,39.68074035644531,-13.6677827835083,-8.659868240356445,-11.82348918914795,-13.053064346313477,34.17058181762695,-1.4181830883026123,-41.57636642456055,-11.373333930969238,16.838014602661133,0.7509493231773376,45.01500701904297,-45.36915588378906,-39.10783004760742,-11.391251564025879,30.710580825805664,44.60664749145508,31.950992584228516,37.8837890625,2.023319959640503,38.3607063293457,-56.30910873413086,15.993510246276855,-15.059460639953613,-2.2423043251037598],\"yaxis\":\"y\"},{\"customdata\":[[\"measure\"],[\"initiatives\"],[\"package\"],[\"measureswith\"],[\"view\"],[\"plans\"],[\"hardships\"],[\"series\"],[\"plan\"],[\"actions\"],[\"theme\"],[\"response\"],[\"dispersion\"],[\"hasty\"],[\"packages\"],[\"nondeferre\"],[\"crisis\"],[\"amnesties\"],[\"emigration\"],[\"mechanism\"],[\"action\"],[\"immune\"],[\"projects.for\"],[\"irreproachable\"],[\"outlines\"],[\"framed\"],[\"predictably\"],[\"complement\"],[\"measures.the\"],[\"may.brussels\"]],\"hovertemplate\":\"word_cluster=measures<br>X=%{x}<br>Y=%{y}<br>word=%{customdata[0]}<extra></extra>\",\"legendgroup\":\"measures\",\"marker\":{\"color\":\"#ab63fa\",\"symbol\":\"circle\"},\"mode\":\"markers\",\"name\":\"measures\",\"orientation\":\"v\",\"showlegend\":true,\"type\":\"scatter\",\"x\":[38.628604888916016,29.612470626831055,34.864288330078125,-36.59894943237305,30.36701011657715,32.15190505981445,3.8852083683013916,38.907257080078125,35.56315612792969,29.546960830688477,-25.46280860900879,35.16466522216797,14.651113510131836,-22.944719314575195,20.814617156982422,-43.07373046875,85.49691009521484,-40.87489318847656,-27.935611724853516,23.976778030395508,28.594499588012695,-16.114795684814453,-39.04391860961914,-39.985450744628906,-10.964154243469238,-29.097803115844727,-24.151351928710938,-9.529300689697266,17.15568733215332,-42.493133544921875],\"xaxis\":\"x\",\"y\":[-46.99332809448242,-47.178768157958984,-56.22272872924805,32.850284576416016,-36.94650650024414,-50.44704055786133,6.867627143859863,-56.42300796508789,-50.953163146972656,-49.06498336791992,-6.828724384307861,-61.71946716308594,-9.350306510925293,-9.508237838745117,-49.24939727783203,31.475557327270508,27.54818344116211,-6.955348968505859,-3.3512308597564697,-46.1477165222168,-54.65065002441406,20.543752670288086,36.99522399902344,32.46574401855469,-43.54004669189453,-12.614357948303223,74.78823852539062,-40.54391860961914,-1.416849970817566,39.73576736450195],\"yaxis\":\"y\"},{\"customdata\":[[\"layoff\"],[\"exceptional\"],[\"layoffs\"],[\"suspend\"],[\"extraordinary\"],[\"suspended\"],[\"allows\"],[\"considered\"],[\"suspension\"],[\"reason\"],[\"extension\"],[\"establishes\"],[\"interim\"],[\"introduce\"],[\"extended\"],[\"retention\"],[\"dismissal\"],[\"extend\"],[\"toan\"],[\"lay\"],[\"combining\"],[\"interruption\"],[\"situation.the\"],[\"laidoff\"],[\"terminate\"],[\"extends\"],[\"possibility\"],[\"dismissals\"],[\"temporarily\"],[\"cessation\"]],\"hovertemplate\":\"word_cluster=temporary<br>X=%{x}<br>Y=%{y}<br>word=%{customdata[0]}<extra></extra>\",\"legendgroup\":\"temporary\",\"marker\":{\"color\":\"#FFA15A\",\"symbol\":\"circle\"},\"mode\":\"markers\",\"name\":\"temporary\",\"orientation\":\"v\",\"showlegend\":true,\"type\":\"scatter\",\"x\":[52.08871078491211,62.57918930053711,52.60633850097656,46.542137145996094,60.02062225341797,45.32036590576172,41.59672164916992,44.154483795166016,49.21506881713867,47.13906478881836,53.82505798339844,34.458560943603516,30.312850952148438,44.467647552490234,49.73177719116211,56.0728874206543,57.51441192626953,51.30144119262695,-18.823122024536133,49.27367401123047,-20.282705307006836,42.06961441040039,26.316198348999023,49.49813461303711,38.497379302978516,34.2570686340332,38.90192794799805,56.8805046081543,48.37335205078125,29.752790451049805],\"xaxis\":\"x\",\"y\":[10.290240287780762,28.585033416748047,5.676494121551514,20.680925369262695,28.62404441833496,22.02745819091797,9.676311492919922,12.20351505279541,21.318378448486328,14.299238204956055,29.234731674194336,20.885229110717773,17.64737319946289,-54.006591796875,29.481891632080078,-13.193949699401855,11.959012031555176,30.300228118896484,31.343984603881836,4.8903913497924805,37.54388427734375,15.895501136779785,16.2100830078125,2.7785263061523438,17.215547561645508,18.071640014648438,13.830751419067383,4.999000549316406,8.94623851776123,27.6783504486084],\"yaxis\":\"y\"},{\"customdata\":[[\"contributionthe\"],[\"caretaker\"],[\"cyber\"],[\"estonian\"],[\"apply.the\"],[\"superiors.no\"],[\"needs.social\"],[\"dissatisfied\"],[\"criticize\"],[\"afa\"],[\"18,to\"],[\"budget.social\"],[\"mind\"],[\"federal\"],[\"statement.social\"],[\"employees.social\"],[\"employmenthttps://valtioneuvosto.fi/documents/1410877/16402203/koronatilannekuvatem1.9.2020final.pdf/38cb4dae0e83db977c373cbb77086acd/koronatilannekuvatem1.9.2020final.pdf\"],[\"postcorona\"],[\"substantive\"],[\"selfemployees\"],[\"macrofinancial\"],[\"foreclosures\"],[\"customary\"],[\"nonpeak\"],[\"available.also\"],[\"etc.).dure\"],[\"upturn\"],[\"repatriation.social\"],[\"interviews\"],[\"eu.social\"]],\"hovertemplate\":\"word_cluster=social<br>X=%{x}<br>Y=%{y}<br>word=%{customdata[0]}<extra></extra>\",\"legendgroup\":\"social\",\"marker\":{\"color\":\"#19d3f3\",\"symbol\":\"circle\"},\"mode\":\"markers\",\"name\":\"social\",\"orientation\":\"v\",\"showlegend\":true,\"type\":\"scatter\",\"x\":[-61.917503356933594,-55.75822067260742,-22.14695167541504,-5.018381595611572,-60.84889221191406,-58.11888885498047,-72.25405883789062,-67.49766540527344,-80.07884216308594,-21.44856834411621,-79.61917114257812,-61.978572845458984,-69.74607849121094,9.957850456237793,-71.4217300415039,-58.842864990234375,-67.74285125732422,-73.34188079833984,-75.52210235595703,-52.75454330444336,-61.327491760253906,-65.33524322509766,-68.77139282226562,-66.46489715576172,-57.80335235595703,-64.41838073730469,-74.97955322265625,-75.12970733642578,-78.17162322998047,-77.10787963867188],\"xaxis\":\"x\",\"y\":[9.69682502746582,4.2136101722717285,-24.103525161743164,-57.16495132446289,-2.2942419052124023,-0.32274970412254333,-1.4009513854980469,-5.080142021179199,-2.2963380813598633,-26.304996490478516,1.8353297710418701,-4.763869285583496,3.5499072074890137,-90.35616302490234,-4.497016429901123,-8.825532913208008,-11.63012981414795,-13.698674201965332,-4.084242343902588,3.3882274627685547,3.938389778137207,0.3408311605453491,-9.152189254760742,5.333983898162842,1.4394603967666626,7.491899013519287,-15.450322151184082,2.634218215942383,-6.125056266784668,1.2986390590667725],\"yaxis\":\"y\"},{\"customdata\":[[\"injection\"],[\"aid\"],[\"supports\"],[\"help\"],[\"assistance\"],[\"productionrelate\"],[\"incentive\"],[\"sustain\"],[\"reasoning\"],[\"ultimate\"],[\"selfemployed.there\"],[\"helping\"],[\"supporting\"],[\"artists\"],[\"resources\"],[\"subsidies\"],[\"grant.the\"],[\"productionrelated\"],[\"tremendous\"],[\"incentives\"],[\"250.to\"],[\"targeting\"],[\"targets\"],[\"aims\"],[\"preference\"],[\"subsidy\"],[\"preferences\"],[\"mediators\"],[\"reopened.childcare\"],[\"implemented.workers\"],[\"injection\"],[\"aid\"],[\"supports\"],[\"help\"],[\"assistance\"],[\"productionrelate\"],[\"incentive\"],[\"sustain\"],[\"reasoning\"],[\"ultimate\"],[\"selfemployed.there\"],[\"helping\"],[\"supporting\"],[\"artists\"],[\"resources\"],[\"subsidies\"],[\"grant.the\"],[\"productionrelated\"],[\"tremendous\"],[\"incentives\"],[\"250.to\"],[\"targeting\"],[\"targets\"],[\"aims\"],[\"preference\"],[\"subsidy\"],[\"preferences\"],[\"mediators\"],[\"reopened.childcare\"],[\"implemented.workers\"]],\"hovertemplate\":\"word_cluster=support<br>X=%{x}<br>Y=%{y}<br>word=%{customdata[0]}<extra></extra>\",\"legendgroup\":\"support\",\"marker\":{\"color\":\"#FF6692\",\"symbol\":\"circle\"},\"mode\":\"markers\",\"name\":\"support\",\"orientation\":\"v\",\"showlegend\":true,\"type\":\"scatter\",\"x\":[8.613640785217285,82.73492431640625,62.949832916259766,93.72233581542969,70.73019409179688,0.2451927661895752,63.48551559448242,55.387847900390625,-8.151223182678223,-6.167558670043945,-26.866613388061523,45.5293083190918,57.8987922668457,70.7088851928711,60.02425003051758,74.1512222290039,3.997649669647217,26.44492530822754,-33.891117095947266,63.67662811279297,-50.66607666015625,72.704345703125,75.59526824951172,55.80586242675781,-15.465003967285156,79.5870132446289,-9.250195503234863,-48.173370361328125,-59.436214447021484,-51.08699417114258,10.241569519042969,82.73492431640625,63.22774887084961,92.80647277832031,71.29400634765625,-0.5606928467750549,64.48712158203125,56.69752502441406,-9.622909545898438,-5.037628173828125,-28.470802307128906,47.60993576049805,56.20499038696289,71.00274658203125,60.02893829345703,74.70386505126953,2.9996542930603027,26.44492530822754,-33.29831314086914,62.140750885009766,-51.760929107666016,71.69232940673828,75.97325134277344,57.24256134033203,-16.03972625732422,80.11564636230469,-10.799535751342773,-47.14635467529297,-59.99764633178711,-49.42943572998047],\"xaxis\":\"x\",\"y\":[32.98886489868164,-51.159366607666016,-33.338924407958984,-13.862135887145996,-51.915771484375,35.567893981933594,-24.26862144470215,-31.23177719116211,35.319271087646484,20.704986572265625,35.22134780883789,-20.03799057006836,-37.6376838684082,-34.915977478027344,-54.51776123046875,-13.240987777709961,25.172245025634766,28.462543487548828,72.83470916748047,-16.59562873840332,59.77172088623047,-23.83336639404297,-27.475875854492188,-24.392305374145508,31.01534652709961,-11.440792083740234,29.507423400878906,55.39687728881836,51.39285659790039,32.4274787902832,32.831275939941406,-51.159366607666016,-31.6159610748291,-12.50622272491455,-53.43782424926758,34.102020263671875,-22.92677116394043,-32.268157958984375,36.07530212402344,21.87335968017578,35.526912689208984,-19.257877349853516,-38.08592987060547,-33.283287048339844,-52.85809326171875,-14.769978523254395,23.8603515625,28.462543487548828,71.31541442871094,-17.243392944335938,58.335147857666016,-25.194955825805664,-29.24690818786621,-25.241655349731445,29.467103958129883,-13.113199234008789,28.582244873046875,56.744571685791016,49.857261657714844,32.83766555786133],\"yaxis\":\"y\"},{\"customdata\":[[\"corona\"],[\"coronavirus\"],[\"quantify\"],[\"covid19.the\"],[\"covid19.these\"],[\"virus\\\",the\"],[\"covid19.measures\"],[\"curbing\"],[\"control.this\"],[\"multilayered\"],[\"emanated\"],[\"isimportant\"],[\"fatigue\"],[\"thecovid19\"],[\"penalize\"],[\"germanys\"],[\"moria\"],[\"sarscov2\"],[\"commodities\"],[\"covid19;4\"],[\"setback\"],[\"thecoronavirus\"],[\"at202016/474https://static.eurofound.europa.eu\"],[\"control\"],[\"horn\"],[\"covid19.companie\"],[\"15,600\"],[\"permitting\"],[\"mitigate\"],[\"imminent.no\"]],\"hovertemplate\":\"word_cluster=covid19<br>X=%{x}<br>Y=%{y}<br>word=%{customdata[0]}<extra></extra>\",\"legendgroup\":\"covid19\",\"marker\":{\"color\":\"#B6E880\",\"symbol\":\"circle\"},\"mode\":\"markers\",\"name\":\"covid19\",\"orientation\":\"v\",\"showlegend\":true,\"type\":\"scatter\",\"x\":[82.89732360839844,83.18630981445312,-4.911327838897705,16.052461624145508,7.880887508392334,-16.88646125793457,-21.606952667236328,-7.564833164215088,2.5824437141418457,-4.52465295791626,-10.30518913269043,-14.471200942993164,1.9215342998504639,-3.303922653198242,-40.55620574951172,26.78628158569336,-6.684507846832275,19.18401527404785,-20.028825759887695,-13.357972145080566,-9.821648597717285,-11.344685554504395,-20.36318588256836,19.492136001586914,-0.5169769525527954,-45.06920623779297,-15.025075912475586,-23.854684829711914,79.10374450683594,-13.36931324005127],\"xaxis\":\"x\",\"y\":[40.4162712097168,36.268856048583984,71.11485290527344,47.47077178955078,59.19171905517578,70.09410858154297,62.31648635864258,51.18097686767578,68.13518524169922,59.00952911376953,57.008888244628906,61.88687515258789,46.57606506347656,54.14988327026367,63.3564567565918,10.705849647521973,61.562530517578125,-21.486806869506836,54.69892883300781,52.87158966064453,62.69130325317383,66.44906616210938,57.572837829589844,-25.314390182495117,58.805179595947266,44.27329635620117,56.53188705444336,71.07521057128906,32.68495178222656,71.9936294555664],\"yaxis\":\"y\"},{\"customdata\":[[\"i.e.reasons\"],[\"prefects\"],[\"19).each\"],[\"dependencies\"],[\"workers.notwithstanding\"],[\"private\"],[\"rescue\"],[\"national\"],[\"authorities\"],[\"general\"],[\"facilities.according\"],[\"operationally\"],[\"nutrition\"],[\"contraindicate\"],[\"state\"],[\"udbetale\"],[\"risky\"],[\"fluorides\"],[\"foodstuffs\"],[\"interests.as\"],[\"gastronomic\"],[\"struggles\"],[\"insurer\"],[\"administrations\"],[\"civil\"],[\"mehilainen\"],[\"defend\"],[\"prefect\"],[\"covid19.can\"],[\"injuries\"]],\"hovertemplate\":\"word_cluster=public<br>X=%{x}<br>Y=%{y}<br>word=%{customdata[0]}<extra></extra>\",\"legendgroup\":\"public\",\"marker\":{\"color\":\"#FF97FF\",\"symbol\":\"circle\"},\"mode\":\"markers\",\"name\":\"public\",\"orientation\":\"v\",\"showlegend\":true,\"type\":\"scatter\",\"x\":[-51.308040618896484,-42.08889389038086,-51.90795135498047,-51.653865814208984,-57.347679138183594,27.916336059570312,16.09657096862793,10.301472663879395,11.15893268585205,5.571750164031982,-67.5920181274414,-41.158592224121094,-66.26750183105469,-57.90079116821289,14.632102966308594,-53.27899169921875,-35.98720169067383,-63.96931076049805,-60.82831573486328,-52.78818130493164,-47.38204574584961,-44.9320068359375,-59.950069427490234,8.76921272277832,7.942761421203613,-44.607948303222656,-69.2928237915039,-42.2886848449707,-43.35377502441406,-64.62389373779297],\"xaxis\":\"x\",\"y\":[24.550621032714844,6.03638219833374,21.5212345123291,11.581753730773926,22.14656639099121,-19.75145721435547,-48.939205169677734,-71.2218246459961,-56.62677001953125,-53.23287582397461,22.116382598876953,29.01740264892578,16.78607749938965,24.568546295166016,-56.47652816772461,26.926803588867188,26.953615188598633,18.664762496948242,21.245159149169922,10.002790451049805,15.095881462097168,36.20807647705078,24.063753128051758,-42.297752380371094,-50.018524169921875,13.310783386230469,16.75816535949707,9.166913986206055,65.051025390625,23.4158878326416],\"yaxis\":\"y\"},{\"customdata\":[[\"regional\"],[\"estonian\"],[\"corresponded\"],[\"bilateral\"],[\"conclusions\"],[\"responsible\"],[\"municipal\"],[\"bodies\"],[\"maladie\"],[\"y\"],[\"budgetary\"],[\"governing\"],[\"adpoted\"],[\"sepe\"],[\"board\"],[\"policies\"],[\"drafting\"],[\"govern\"],[\"regulatory\"],[\"federal\"],[\"dutch\"],[\"central\"],[\"localise\"],[\"solidarity\"],[\"strengthening\"],[\"rescue\"],[\"matter\"],[\"coresponsible\"],[\"invite\"],[\"competent\"]],\"hovertemplate\":\"word_cluster=national<br>X=%{x}<br>Y=%{y}<br>word=%{customdata[0]}<extra></extra>\",\"legendgroup\":\"national\",\"marker\":{\"color\":\"#FECB52\",\"symbol\":\"circle\"},\"mode\":\"markers\",\"name\":\"national\",\"orientation\":\"v\",\"showlegend\":true,\"type\":\"scatter\",\"x\":[8.344738006591797,-5.018381595611572,-30.245203018188477,-23.206871032714844,-27.27579116821289,8.117403030395508,4.146932125091553,2.44646954536438,-32.31504440307617,-10.021458625793457,-4.037520408630371,-2.399857759475708,-32.53858184814453,-25.9213924407959,4.677234649658203,11.523958206176758,-5.874585151672363,-27.94317054748535,0.4978256821632385,8.70125961303711,8.49497127532959,2.2568345069885254,-60.177650451660156,-1.4226675033569336,-1.7170997858047485,16.09657096862793,2.6565945148468018,-53.20936965942383,-4.8266167640686035,6.8878350257873535],\"xaxis\":\"x\",\"y\":[-69.32781982421875,-57.16495132446289,-28.921932220458984,-33.66324234008789,-32.50469207763672,-64.44263458251953,-68.2155532836914,-66.13385772705078,-27.601362228393555,-48.47991180419922,-44.07831573486328,-49.86748123168945,-12.827835083007812,-39.38105010986328,-62.6215705871582,-65.14940643310547,-64.7601547241211,-37.25457763671875,-49.94725036621094,-91.41608428955078,-78.04943084716797,-72.38334655761719,16.1364803314209,-57.78681564331055,-45.996280670166016,-48.939205169677734,-48.167808532714844,-2.8637847900390625,-67.73558807373047,-56.03486633300781],\"yaxis\":\"y\"},{\"customdata\":[[\"parliamentary\"],[\"protested\"],[\"referendum\"],[\"proposal\"],[\"5th\"],[\"stakeholder\"],[\"recommendation\"],[\"tanaiste\"],[\"nomination\"],[\"complaint\"],[\"unieuropa\"],[\"declaratory\"],[\"seimas\"],[\"eurogroup\"],[\"protest\"],[\"congress\"],[\"speech\"],[\"draft\"],[\"13/2021\"],[\"said\"],[\"ryanair\"],[\"german\"],[\"acted\"],[\"say\"],[\"unanimously\"],[\"italian\"],[\"spokesperson\"],[\"aby\"],[\"parliament\"],[\"connolly\"]],\"hovertemplate\":\"word_cluster=statement<br>X=%{x}<br>Y=%{y}<br>word=%{customdata[0]}<extra></extra>\",\"legendgroup\":\"statement\",\"marker\":{\"color\":\"#636efa\",\"symbol\":\"circle\"},\"mode\":\"markers\",\"name\":\"statement\",\"orientation\":\"v\",\"showlegend\":true,\"type\":\"scatter\",\"x\":[-5.412649631500244,-28.158279418945312,-22.301712036132812,-2.5853190422058105,-44.0225715637207,-16.734697341918945,2.096644639968872,-18.040353775024414,-48.9715576171875,-41.375240325927734,-24.54115104675293,-19.491897583007812,-21.761301040649414,-22.36951446533203,-6.116308689117432,-24.066551208496094,-19.85777473449707,-6.2639007568359375,-47.39716720581055,-28.868877410888672,-26.266067504882812,1.826633095741272,-43.44239044189453,-23.497180938720703,-17.1031494140625,-9.45193862915039,-39.07900619506836,-41.000022888183594,-5.77494478225708,-44.891571044921875],\"xaxis\":\"x\",\"y\":[-81.48380279541016,-61.18183135986328,-49.6825065612793,-84.77738189697266,-30.8110408782959,-47.19422912597656,-80.8984146118164,-65.67832946777344,-24.730501174926758,-29.63736343383789,-54.81171417236328,-48.721744537353516,-46.743988037109375,-63.7073860168457,-69.78707122802734,-58.956539154052734,-79.75428771972656,-84.9714584350586,-19.58968162536621,-77.40840148925781,-52.18016815185547,-77.50861358642578,-21.51996421813965,-78.08036804199219,-39.7148323059082,-65.26100158691406,-20.36752700805664,-9.17743968963623,-92.91386413574219,-14.97567367553711],\"yaxis\":\"y\"},{\"customdata\":[[\"ross\"],[\"prehospital\"],[\"anticontagion\"],[\"addressesprivate\"],[\"formulates\"],[\"sector.due\"],[\"seafarersbezpieczenstwa\"],[\"nets\"],[\"marynarzom\"],[\"fatigue\"],[\"prevention\"],[\"healthcare\"],[\"administrations\"],[\"interpersonal\"],[\"revitalised\"],[\"protection\"],[\"intensive\"],[\"healths\"],[\"reappointments\"],[\"infection.private\"],[\"overshadowed\"],[\"shoes\"],[\"proclamations\"],[\"wellbeing\"],[\"congestion\"],[\"selfisolated\"],[\"longstanding\"],[\"breakout\"],[\"mobilised\"],[\"servants\"]],\"hovertemplate\":\"word_cluster=health<br>X=%{x}<br>Y=%{y}<br>word=%{customdata[0]}<extra></extra>\",\"legendgroup\":\"health\",\"marker\":{\"color\":\"#EF553B\",\"symbol\":\"circle\"},\"mode\":\"markers\",\"name\":\"health\",\"orientation\":\"v\",\"showlegend\":true,\"type\":\"scatter\",\"x\":[-33.647377014160156,-36.265899658203125,-31.07166862487793,-45.474491119384766,-48.73748016357422,-31.038360595703125,-37.7280158996582,-36.99437713623047,-38.77460479736328,2.994389295578003,18.671049118041992,29.973745346069336,7.301398754119873,-28.29278564453125,-49.14948654174805,17.28997230529785,-24.942607879638672,5.542503833770752,-46.722564697265625,-37.946617126464844,-45.4399299621582,-40.92951583862305,-45.852256774902344,34.562007904052734,-40.8261604309082,-44.25146484375,-27.743255615234375,-9.32187557220459,9.41977596282959,5.985213279724121],\"xaxis\":\"x\",\"y\":[10.644343376159668,5.331406593322754,10.228730201721191,23.867366790771484,21.166126251220703,22.833520889282227,12.74271297454834,9.44371223449707,14.218701362609863,47.84309005737305,-28.232072830200195,-17.57425308227539,-41.51424789428711,9.950421333312988,26.883268356323242,-31.217453002929688,8.808805465698242,-5.942207336425781,8.237505912780762,19.235048294067383,30.715896606445312,12.305171966552734,27.93275260925293,-16.695308685302734,22.005558013916016,18.36614418029785,22.427282333374023,47.60379409790039,-8.150849342346191,-45.997623443603516],\"yaxis\":\"y\"},{\"customdata\":[[\"ministry\"],[\"ministers\"],[\"science\"],[\"paschal\"],[\"health.these\"],[\"simon\"],[\"degrees\"],[\"17312/9.506/4.5.2020\"],[\"circular\"],[\"ministries\"],[\"affairs\"],[\"president\"],[\"silvio\"],[\"2020).furthermore\"],[\"humphreys\"],[\"gowin\"],[\"carinthia\"],[\"deputy\"],[\"localise\"],[\"generaldirectorate\"],[\"youth.on\"],[\"issued\"],[\"mef\"],[\"td\"],[\"ms\"],[\"minstry\"],[\"donohoe\"],[\"33a/2021\"],[\"janis\"],[\"directorate\"]],\"hovertemplate\":\"word_cluster=minister<br>X=%{x}<br>Y=%{y}<br>word=%{customdata[0]}<extra></extra>\",\"legendgroup\":\"minister\",\"marker\":{\"color\":\"#00cc96\",\"symbol\":\"circle\"},\"mode\":\"markers\",\"name\":\"minister\",\"orientation\":\"v\",\"showlegend\":true,\"type\":\"scatter\",\"x\":[-19.785289764404297,-12.627527236938477,-16.014150619506836,-16.653064727783203,-67.64000701904297,-35.99409103393555,-42.133026123046875,-56.05522155761719,-14.48473834991455,-13.054461479187012,-19.897024154663086,-10.667332649230957,-59.647090911865234,-53.954105377197266,-22.08191680908203,-51.913169860839844,-51.9820671081543,-15.399703979492188,-58.517940521240234,-69.28679656982422,-60.10673141479492,-10.253271102905273,-54.67369842529297,-17.574487686157227,-38.86526870727539,-60.82068634033203,-19.04920768737793,-50.37883758544922,-57.31498718261719,-25.192338943481445],\"xaxis\":\"x\",\"y\":[-90.45426940917969,-95.26985168457031,-83.76275634765625,-72.64120483398438,-26.345556259155273,-40.467308044433594,-38.63473129272461,-23.393932342529297,-79.23130798339844,-73.74925994873047,-87.58612060546875,-92.5534439086914,-26.7775936126709,-29.18092155456543,-73.23084259033203,-27.588247299194336,-23.481626510620117,-68.84590911865234,16.343332290649414,-28.541513442993164,-30.958131790161133,-89.56521606445312,-31.867830276489258,-76.97355651855469,-42.53112030029297,-21.1505184173584,-83.13941192626953,-30.248523712158203,-27.69186019897461,-42.255577087402344],\"yaxis\":\"y\"},{\"customdata\":[[\"retention\"],[\"adaptation\"],[\"expand\"],[\"quickly\"],[\"kurzarbeit\"],[\"said.these\"],[\"created\"],[\"different\"],[\"implemented\"],[\"flexible\"],[\"work.this\"],[\"facilitate\"],[\"series\"],[\"jobshare\"],[\"create\"],[\"exploring\"],[\"bl\"],[\"changes\"],[\"stimulate\"],[\"selfdeclare\"],[\"open\"],[\"frame\"],[\"relaxed\"],[\"jobs\"],[\"destroy\"],[\"helping\"],[\"workshare\"],[\"qcommerce\"],[\"existing\"],[\"effective\"]],\"hovertemplate\":\"word_cluster=new<br>X=%{x}<br>Y=%{y}<br>word=%{customdata[0]}<extra></extra>\",\"legendgroup\":\"new\",\"marker\":{\"color\":\"#ab63fa\",\"symbol\":\"circle\"},\"mode\":\"markers\",\"name\":\"new\",\"orientation\":\"v\",\"showlegend\":true,\"type\":\"scatter\",\"x\":[57.11011505126953,45.9253044128418,43.07271957397461,38.77726364135742,-17.34406089782715,-40.78535842895508,46.25240707397461,57.605796813964844,41.75190353393555,54.09540557861328,-17.184738159179688,49.00030517578125,38.907257080078125,-28.10787010192871,49.31751251220703,-36.96632385253906,-15.981529235839844,60.09016036987305,52.65745544433594,-34.480159759521484,39.88581085205078,32.63052749633789,29.30157470703125,47.72641372680664,-43.82178497314453,47.243896484375,-31.3157958984375,-24.36870002746582,48.542327880859375,35.88182067871094],\"xaxis\":\"x\",\"y\":[-11.891571998596191,-30.29231071472168,-35.082584381103516,-27.876035690307617,43.82537841796875,43.10923385620117,-33.331390380859375,-42.501102447509766,-58.80796813964844,-2.6509599685668945,37.75829315185547,-30.183156967163086,-56.42300796508789,44.439476013183594,-34.365745544433594,43.659305572509766,47.98941421508789,1.5991899967193604,-33.94076919555664,44.223876953125,-24.96695327758789,10.184425354003906,14.217998504638672,-45.36915588378906,41.90594482421875,-21.429973602294922,43.10596466064453,45.73490524291992,-37.597381591796875,-34.92113494873047],\"yaxis\":\"y\"},{\"customdata\":[[\"emanated\"],[\"corona\"],[\"consequences\"],[\"sarscov2\"],[\"wave\"],[\"mitigate\"],[\"covid19\"],[\"isimportant\"],[\"virus\"],[\"effects\"],[\"covid19.the\"],[\"consequence\"],[\"contention\"],[\"ofcovid\"],[\"permitting\"],[\"covid19.measures\"],[\"negative\"],[\"virus\\\",the\"],[\"control.this\"],[\"mitigation\"],[\"multilayered\"],[\"caused\"],[\"result\"],[\"quantify\"],[\"covid19.these\"],[\"gambia\"],[\"current\"],[\"covid19;4\"],[\"'cause\"],[\"situation\"]],\"hovertemplate\":\"word_cluster=coronavirus<br>X=%{x}<br>Y=%{y}<br>word=%{customdata[0]}<extra></extra>\",\"legendgroup\":\"coronavirus\",\"marker\":{\"color\":\"#FFA15A\",\"symbol\":\"circle\"},\"mode\":\"markers\",\"name\":\"coronavirus\",\"orientation\":\"v\",\"showlegend\":true,\"type\":\"scatter\",\"x\":[-10.30518913269043,82.89732360839844,82.318115234375,19.18401527404785,78.95105743408203,79.10374450683594,86.51718139648438,-14.148391723632812,82.66032409667969,79.90290069580078,15.338189125061035,77.07157135009766,-3.623579263687134,-17.861835479736328,-22.28937339782715,-20.207847595214844,81.11371612548828,-16.262985229492188,2.5824437141418457,16.656280517578125,-4.52465295791626,77.19379425048828,73.7090835571289,-4.911327838897705,7.731800556182861,-20.964885711669922,65.99588012695312,-15.092413902282715,76.23673248291016,73.83575439453125],\"xaxis\":\"x\",\"y\":[57.008888244628906,40.4162712097168,30.659074783325195,-21.486806869506836,21.740219116210938,32.68495178222656,38.80964660644531,63.55324935913086,23.589981079101562,29.651079177856445,48.96556854248047,29.239152908325195,50.34418869018555,63.92474365234375,71.960205078125,61.325687408447266,27.110456466674805,68.4771957397461,68.13518524169922,-12.659099578857422,59.00952911376953,26.721323013305664,27.422117233276367,71.11485290527344,57.53720474243164,68.53800201416016,28.922365188598633,52.69526672363281,24.40145492553711,32.886417388916016],\"yaxis\":\"y\"},{\"customdata\":[[\"variants\"],[\"vaccines\"],[\"fight\"],[\"ghana\"],[\"defeating\"],[\"phase.this\"],[\"skutkami\"],[\"dynamics\"],[\"itrecognises\"],[\"place.if\"],[\"variant\"],[\"dotknietym\"],[\"joins\"],[\"pressing\"],[\"wake\"],[\"quasilockdown\"],[\"aftereffects\"],[\"toknow\"],[\"elisas\"],[\"hospitalised\"],[\"measures.lex\"],[\"ziga\"],[\"diversify\"],[\"suspect\"],[\"fast\"],[\"twin\"],[\"handteringen\"],[\"crisis.reduction\"],[\"turning\"],[\"covered.in\"]],\"hovertemplate\":\"word_cluster=vaccine<br>X=%{x}<br>Y=%{y}<br>word=%{customdata[0]}<extra></extra>\",\"legendgroup\":\"vaccine\",\"marker\":{\"color\":\"#19d3f3\",\"symbol\":\"circle\"},\"mode\":\"markers\",\"name\":\"vaccine\",\"orientation\":\"v\",\"showlegend\":true,\"type\":\"scatter\",\"x\":[-9.374155044555664,33.211307525634766,29.807987213134766,-3.7505011558532715,-7.880100727081299,-11.893122673034668,-1.6163614988327026,-9.09946060180664,-10.459882736206055,-5.162443161010742,14.512551307678223,0.5492311120033264,-6.371577739715576,3.858720302581787,12.275382995605469,-10.354382514953613,-5.1236677169799805,-13.40481948852539,-5.4147186279296875,-13.859085083007812,0.3212732672691345,0.5057883858680725,6.662107944488525,9.184640884399414,35.92728805541992,-0.21468158066272736,-0.8045547008514404,-10.349156379699707,3.795104742050171,-6.644903659820557],\"xaxis\":\"x\",\"y\":[-2.8153393268585205,-30.565155029296875,-33.592594146728516,-0.7845522165298462,1.9765121936798096,-4.519598007202148,-7.343055725097656,6.616476535797119,0.31055399775505066,-3.490417242050171,-4.15022087097168,-7.429241180419922,4.600556373596191,-2.6280229091644287,-5.280970573425293,-6.409895896911621,2.2865521907806396,0.4316498339176178,-10.39178466796875,3.9866909980773926,1.0636273622512817,-4.2882561683654785,-0.05046558007597923,-12.064078330993652,-30.595064163208008,-1.9573978185653687,-10.75551700592041,3.0873725414276123,1.2853569984436035,-0.5747528672218323],\"yaxis\":\"y\"},{\"customdata\":[[\"paschal\"],[\"unanimously\"],[\"iceland\"],[\"eu\"],[\"nomination\"],[\"european\"],[\"tanaiste\"],[\"eurogroup\"],[\"framework\"],[\"collins\"],[\"interlocutor\"],[\"td\"],[\"parliamentary\"],[\"vetoed\"],[\"microentreprise\"],[\"chains.according\"],[\"giuseppe\"],[\"junta\"],[\"castilla\"],[\"said\"],[\"outline\"],[\"humphreys\"],[\"recommendation\"],[\"president\"],[\"projet\"],[\"congress\"],[\"authorizes\"],[\"simon\"],[\"dgcom\"],[\"statement\"]],\"hovertemplate\":\"word_cluster=commission<br>X=%{x}<br>Y=%{y}<br>word=%{customdata[0]}<extra></extra>\",\"legendgroup\":\"commission\",\"marker\":{\"color\":\"#FF6692\",\"symbol\":\"circle\"},\"mode\":\"markers\",\"name\":\"commission\",\"orientation\":\"v\",\"showlegend\":true,\"type\":\"scatter\",\"x\":[-18.3731746673584,-18.011798858642578,-49.56395721435547,11.552136421203613,-48.3559455871582,13.692689895629883,-19.187402725219727,-23.66162109375,14.886048316955566,-34.87590026855469,-58.046485900878906,-19.413419723510742,-3.751851797103882,-52.99457931518555,-54.025665283203125,-55.26506423950195,-38.240665435791016,-33.987552642822266,-12.994250297546387,-28.573333740234375,-13.042189598083496,-22.462770462036133,3.7104671001434326,-9.251433372497559,-46.212249755859375,-25.756322860717773,-55.342315673828125,-34.3546028137207,-50.82487106323242,0.8851994872093201],\"xaxis\":\"x\",\"y\":[-71.8069839477539,-41.11687469482422,-14.699987411499023,-80.32167053222656,-23.04471778869629,-80.42377471923828,-66.99549102783203,-64.89166259765625,-64.6768798828125,-36.048377990722656,-17.200542449951172,-76.54737091064453,-81.37022399902344,-17.972883224487305,-15.182147026062012,-13.146427154541016,-37.75858688354492,-43.779685974121094,-63.414005279541016,-79.1725082397461,-44.854888916015625,-71.3300552368164,-80.81324005126953,-93.31037139892578,-26.029401779174805,-58.489219665527344,-19.608646392822266,-39.92412567138672,-12.675431251525879,-85.48540496826172],\"yaxis\":\"y\"}],                        {\"legend\":{\"title\":{\"text\":\"word_cluster\"},\"tracegroupgap\":0},\"margin\":{\"t\":60},\"template\":{\"data\":{\"bar\":[{\"error_x\":{\"color\":\"#2a3f5f\"},\"error_y\":{\"color\":\"#2a3f5f\"},\"marker\":{\"line\":{\"color\":\"#E5ECF6\",\"width\":0.5},\"pattern\":{\"fillmode\":\"overlay\",\"size\":10,\"solidity\":0.2}},\"type\":\"bar\"}],\"barpolar\":[{\"marker\":{\"line\":{\"color\":\"#E5ECF6\",\"width\":0.5},\"pattern\":{\"fillmode\":\"overlay\",\"size\":10,\"solidity\":0.2}},\"type\":\"barpolar\"}],\"carpet\":[{\"aaxis\":{\"endlinecolor\":\"#2a3f5f\",\"gridcolor\":\"white\",\"linecolor\":\"white\",\"minorgridcolor\":\"white\",\"startlinecolor\":\"#2a3f5f\"},\"baxis\":{\"endlinecolor\":\"#2a3f5f\",\"gridcolor\":\"white\",\"linecolor\":\"white\",\"minorgridcolor\":\"white\",\"startlinecolor\":\"#2a3f5f\"},\"type\":\"carpet\"}],\"choropleth\":[{\"colorbar\":{\"outlinewidth\":0,\"ticks\":\"\"},\"type\":\"choropleth\"}],\"contour\":[{\"colorbar\":{\"outlinewidth\":0,\"ticks\":\"\"},\"colorscale\":[[0.0,\"#0d0887\"],[0.1111111111111111,\"#46039f\"],[0.2222222222222222,\"#7201a8\"],[0.3333333333333333,\"#9c179e\"],[0.4444444444444444,\"#bd3786\"],[0.5555555555555556,\"#d8576b\"],[0.6666666666666666,\"#ed7953\"],[0.7777777777777778,\"#fb9f3a\"],[0.8888888888888888,\"#fdca26\"],[1.0,\"#f0f921\"]],\"type\":\"contour\"}],\"contourcarpet\":[{\"colorbar\":{\"outlinewidth\":0,\"ticks\":\"\"},\"type\":\"contourcarpet\"}],\"heatmap\":[{\"colorbar\":{\"outlinewidth\":0,\"ticks\":\"\"},\"colorscale\":[[0.0,\"#0d0887\"],[0.1111111111111111,\"#46039f\"],[0.2222222222222222,\"#7201a8\"],[0.3333333333333333,\"#9c179e\"],[0.4444444444444444,\"#bd3786\"],[0.5555555555555556,\"#d8576b\"],[0.6666666666666666,\"#ed7953\"],[0.7777777777777778,\"#fb9f3a\"],[0.8888888888888888,\"#fdca26\"],[1.0,\"#f0f921\"]],\"type\":\"heatmap\"}],\"heatmapgl\":[{\"colorbar\":{\"outlinewidth\":0,\"ticks\":\"\"},\"colorscale\":[[0.0,\"#0d0887\"],[0.1111111111111111,\"#46039f\"],[0.2222222222222222,\"#7201a8\"],[0.3333333333333333,\"#9c179e\"],[0.4444444444444444,\"#bd3786\"],[0.5555555555555556,\"#d8576b\"],[0.6666666666666666,\"#ed7953\"],[0.7777777777777778,\"#fb9f3a\"],[0.8888888888888888,\"#fdca26\"],[1.0,\"#f0f921\"]],\"type\":\"heatmapgl\"}],\"histogram\":[{\"marker\":{\"pattern\":{\"fillmode\":\"overlay\",\"size\":10,\"solidity\":0.2}},\"type\":\"histogram\"}],\"histogram2d\":[{\"colorbar\":{\"outlinewidth\":0,\"ticks\":\"\"},\"colorscale\":[[0.0,\"#0d0887\"],[0.1111111111111111,\"#46039f\"],[0.2222222222222222,\"#7201a8\"],[0.3333333333333333,\"#9c179e\"],[0.4444444444444444,\"#bd3786\"],[0.5555555555555556,\"#d8576b\"],[0.6666666666666666,\"#ed7953\"],[0.7777777777777778,\"#fb9f3a\"],[0.8888888888888888,\"#fdca26\"],[1.0,\"#f0f921\"]],\"type\":\"histogram2d\"}],\"histogram2dcontour\":[{\"colorbar\":{\"outlinewidth\":0,\"ticks\":\"\"},\"colorscale\":[[0.0,\"#0d0887\"],[0.1111111111111111,\"#46039f\"],[0.2222222222222222,\"#7201a8\"],[0.3333333333333333,\"#9c179e\"],[0.4444444444444444,\"#bd3786\"],[0.5555555555555556,\"#d8576b\"],[0.6666666666666666,\"#ed7953\"],[0.7777777777777778,\"#fb9f3a\"],[0.8888888888888888,\"#fdca26\"],[1.0,\"#f0f921\"]],\"type\":\"histogram2dcontour\"}],\"mesh3d\":[{\"colorbar\":{\"outlinewidth\":0,\"ticks\":\"\"},\"type\":\"mesh3d\"}],\"parcoords\":[{\"line\":{\"colorbar\":{\"outlinewidth\":0,\"ticks\":\"\"}},\"type\":\"parcoords\"}],\"pie\":[{\"automargin\":true,\"type\":\"pie\"}],\"scatter\":[{\"marker\":{\"colorbar\":{\"outlinewidth\":0,\"ticks\":\"\"}},\"type\":\"scatter\"}],\"scatter3d\":[{\"line\":{\"colorbar\":{\"outlinewidth\":0,\"ticks\":\"\"}},\"marker\":{\"colorbar\":{\"outlinewidth\":0,\"ticks\":\"\"}},\"type\":\"scatter3d\"}],\"scattercarpet\":[{\"marker\":{\"colorbar\":{\"outlinewidth\":0,\"ticks\":\"\"}},\"type\":\"scattercarpet\"}],\"scattergeo\":[{\"marker\":{\"colorbar\":{\"outlinewidth\":0,\"ticks\":\"\"}},\"type\":\"scattergeo\"}],\"scattergl\":[{\"marker\":{\"colorbar\":{\"outlinewidth\":0,\"ticks\":\"\"}},\"type\":\"scattergl\"}],\"scattermapbox\":[{\"marker\":{\"colorbar\":{\"outlinewidth\":0,\"ticks\":\"\"}},\"type\":\"scattermapbox\"}],\"scatterpolar\":[{\"marker\":{\"colorbar\":{\"outlinewidth\":0,\"ticks\":\"\"}},\"type\":\"scatterpolar\"}],\"scatterpolargl\":[{\"marker\":{\"colorbar\":{\"outlinewidth\":0,\"ticks\":\"\"}},\"type\":\"scatterpolargl\"}],\"scatterternary\":[{\"marker\":{\"colorbar\":{\"outlinewidth\":0,\"ticks\":\"\"}},\"type\":\"scatterternary\"}],\"surface\":[{\"colorbar\":{\"outlinewidth\":0,\"ticks\":\"\"},\"colorscale\":[[0.0,\"#0d0887\"],[0.1111111111111111,\"#46039f\"],[0.2222222222222222,\"#7201a8\"],[0.3333333333333333,\"#9c179e\"],[0.4444444444444444,\"#bd3786\"],[0.5555555555555556,\"#d8576b\"],[0.6666666666666666,\"#ed7953\"],[0.7777777777777778,\"#fb9f3a\"],[0.8888888888888888,\"#fdca26\"],[1.0,\"#f0f921\"]],\"type\":\"surface\"}],\"table\":[{\"cells\":{\"fill\":{\"color\":\"#EBF0F8\"},\"line\":{\"color\":\"white\"}},\"header\":{\"fill\":{\"color\":\"#C8D4E3\"},\"line\":{\"color\":\"white\"}},\"type\":\"table\"}]},\"layout\":{\"annotationdefaults\":{\"arrowcolor\":\"#2a3f5f\",\"arrowhead\":0,\"arrowwidth\":1},\"autotypenumbers\":\"strict\",\"coloraxis\":{\"colorbar\":{\"outlinewidth\":0,\"ticks\":\"\"}},\"colorscale\":{\"diverging\":[[0,\"#8e0152\"],[0.1,\"#c51b7d\"],[0.2,\"#de77ae\"],[0.3,\"#f1b6da\"],[0.4,\"#fde0ef\"],[0.5,\"#f7f7f7\"],[0.6,\"#e6f5d0\"],[0.7,\"#b8e186\"],[0.8,\"#7fbc41\"],[0.9,\"#4d9221\"],[1,\"#276419\"]],\"sequential\":[[0.0,\"#0d0887\"],[0.1111111111111111,\"#46039f\"],[0.2222222222222222,\"#7201a8\"],[0.3333333333333333,\"#9c179e\"],[0.4444444444444444,\"#bd3786\"],[0.5555555555555556,\"#d8576b\"],[0.6666666666666666,\"#ed7953\"],[0.7777777777777778,\"#fb9f3a\"],[0.8888888888888888,\"#fdca26\"],[1.0,\"#f0f921\"]],\"sequentialminus\":[[0.0,\"#0d0887\"],[0.1111111111111111,\"#46039f\"],[0.2222222222222222,\"#7201a8\"],[0.3333333333333333,\"#9c179e\"],[0.4444444444444444,\"#bd3786\"],[0.5555555555555556,\"#d8576b\"],[0.6666666666666666,\"#ed7953\"],[0.7777777777777778,\"#fb9f3a\"],[0.8888888888888888,\"#fdca26\"],[1.0,\"#f0f921\"]]},\"colorway\":[\"#636efa\",\"#EF553B\",\"#00cc96\",\"#ab63fa\",\"#FFA15A\",\"#19d3f3\",\"#FF6692\",\"#B6E880\",\"#FF97FF\",\"#FECB52\"],\"font\":{\"color\":\"#2a3f5f\"},\"geo\":{\"bgcolor\":\"white\",\"lakecolor\":\"white\",\"landcolor\":\"#E5ECF6\",\"showlakes\":true,\"showland\":true,\"subunitcolor\":\"white\"},\"hoverlabel\":{\"align\":\"left\"},\"hovermode\":\"closest\",\"mapbox\":{\"style\":\"light\"},\"paper_bgcolor\":\"white\",\"plot_bgcolor\":\"#E5ECF6\",\"polar\":{\"angularaxis\":{\"gridcolor\":\"white\",\"linecolor\":\"white\",\"ticks\":\"\"},\"bgcolor\":\"#E5ECF6\",\"radialaxis\":{\"gridcolor\":\"white\",\"linecolor\":\"white\",\"ticks\":\"\"}},\"scene\":{\"xaxis\":{\"backgroundcolor\":\"#E5ECF6\",\"gridcolor\":\"white\",\"gridwidth\":2,\"linecolor\":\"white\",\"showbackground\":true,\"ticks\":\"\",\"zerolinecolor\":\"white\"},\"yaxis\":{\"backgroundcolor\":\"#E5ECF6\",\"gridcolor\":\"white\",\"gridwidth\":2,\"linecolor\":\"white\",\"showbackground\":true,\"ticks\":\"\",\"zerolinecolor\":\"white\"},\"zaxis\":{\"backgroundcolor\":\"#E5ECF6\",\"gridcolor\":\"white\",\"gridwidth\":2,\"linecolor\":\"white\",\"showbackground\":true,\"ticks\":\"\",\"zerolinecolor\":\"white\"}},\"shapedefaults\":{\"line\":{\"color\":\"#2a3f5f\"}},\"ternary\":{\"aaxis\":{\"gridcolor\":\"white\",\"linecolor\":\"white\",\"ticks\":\"\"},\"baxis\":{\"gridcolor\":\"white\",\"linecolor\":\"white\",\"ticks\":\"\"},\"bgcolor\":\"#E5ECF6\",\"caxis\":{\"gridcolor\":\"white\",\"linecolor\":\"white\",\"ticks\":\"\"}},\"title\":{\"x\":0.05},\"xaxis\":{\"automargin\":true,\"gridcolor\":\"white\",\"linecolor\":\"white\",\"ticks\":\"\",\"title\":{\"standoff\":15},\"zerolinecolor\":\"white\",\"zerolinewidth\":2},\"yaxis\":{\"automargin\":true,\"gridcolor\":\"white\",\"linecolor\":\"white\",\"ticks\":\"\",\"title\":{\"standoff\":15},\"zerolinecolor\":\"white\",\"zerolinewidth\":2}}},\"xaxis\":{\"anchor\":\"y\",\"domain\":[0.0,1.0],\"title\":{\"text\":\"X\"}},\"yaxis\":{\"anchor\":\"x\",\"domain\":[0.0,1.0],\"title\":{\"text\":\"Y\"}}},                        {\"responsive\": true}                    ).then(function(){\n                            \nvar gd = document.getElementById('5e298b46-a3c3-4965-8c46-1970457008bf');\nvar x = new MutationObserver(function (mutations, observer) {{\n        var display = window.getComputedStyle(gd).display;\n        if (!display || display === 'none') {{\n            console.log([gd, 'removed!']);\n            Plotly.purge(gd);\n            observer.disconnect();\n        }}\n}});\n\n// Listen for the removal of the full notebook cells\nvar notebookContainer = gd.closest('#notebook-container');\nif (notebookContainer) {{\n    x.observe(notebookContainer, {childList: true});\n}}\n\n// Listen for the clearing of the current output cell\nvar outputEl = gd.closest('.output');\nif (outputEl) {{\n    x.observe(outputEl, {childList: true});\n}}\n\n                        })                };                });            </script>        </div>"
     },
     "metadata": {},
     "output_type": "display_data"
    }
   ],
   "source": [
    "model1_word_cluster_plot = px.scatter(model1_word_embeddings_dataframe,\n",
    "                                      x='X', y='Y', color=model1_word_embeddings_dataframe.word_cluster,\n",
    "                                      labels={'color': 'word'}, hover_data=[\"word\"])\n",
    "model1_word_cluster_plot\n"
   ],
   "metadata": {
    "collapsed": false,
    "pycharm": {
     "name": "#%%\n"
    }
   }
  },
  {
   "cell_type": "markdown",
   "source": [
    "### Graph visualization for the second model"
   ],
   "metadata": {
    "collapsed": false
   }
  },
  {
   "cell_type": "code",
   "execution_count": 189,
   "outputs": [
    {
     "data": {
      "application/vnd.plotly.v1+json": {
       "config": {
        "plotlyServerURL": "https://plot.ly"
       },
       "data": [
        {
         "customdata": [
          [
           "aviation"
          ],
          [
           "force"
          ],
          [
           "euromediterranean"
          ],
          [
           "islamic"
          ],
          [
           "maldives"
          ],
          [
           "entry"
          ],
          [
           "america"
          ],
          [
           "bosniaherzegovina"
          ],
          [
           "established"
          ],
          [
           "armenia"
          ],
          [
           "provisional"
          ],
          [
           "government"
          ],
          [
           "union"
          ],
          [
           "2020/2"
          ],
          [
           "community"
          ],
          [
           "taken"
          ],
          [
           "australia"
          ],
          [
           "international"
          ],
          [
           "protocol"
          ],
          [
           "kyrgyz"
          ],
          [
           "yugoslav"
          ],
          [
           "representative"
          ],
          [
           "organization"
          ],
          [
           "lebanon"
          ],
          [
           "panama"
          ],
          [
           "take"
          ],
          [
           "ministers"
          ],
          [
           "area"
          ],
          [
           "atomic"
          ],
          [
           "kingdom"
          ]
         ],
         "hovertemplate": "word_cluster=agreement<br>X=%{x}<br>Y=%{y}<br>word=%{customdata[0]}<extra></extra>",
         "legendgroup": "agreement",
         "marker": {
          "color": "#636efa",
          "symbol": "circle"
         },
         "mode": "markers",
         "name": "agreement",
         "orientation": "v",
         "showlegend": true,
         "type": "scatter",
         "x": [
          98.3201904296875,
          100.64070892333984,
          94.56920623779297,
          -98.16263580322266,
          -102.72402954101562,
          100.25191497802734,
          -8.791502952575684,
          -106.18817138671875,
          89.92586517333984,
          -95.80022430419922,
          -98.75479125976562,
          91.89665985107422,
          103.07406616210938,
          -92.57611846923828,
          91.15591430664062,
          9.266359329223633,
          -6.04966926574707,
          89.64043426513672,
          5.4883952140808105,
          -102.93614959716797,
          -97.87530517578125,
          -5.326406002044678,
          -1.0504019260406494,
          -106.70809173583984,
          -102.39532470703125,
          3.7251670360565186,
          -107.40813446044922,
          92.67221069335938,
          -6.255488395690918,
          89.00942993164062
         ],
         "xaxis": "x",
         "y": [
          87.3263931274414,
          91.99771881103516,
          74.25443267822266,
          -29.671504974365234,
          -31.836828231811523,
          95.14990234375,
          53.80088424682617,
          -28.734298706054688,
          70.6607437133789,
          -12.426464080810547,
          -15.537693977355957,
          83.78934478759766,
          81.12472534179688,
          -22.954872131347656,
          102.44915008544922,
          56.801918029785156,
          55.331111907958984,
          79.19573974609375,
          52.1779899597168,
          -22.475317001342773,
          -24.680830001831055,
          28.99693489074707,
          57.433189392089844,
          -33.13969039916992,
          -26.52372932434082,
          57.248046875,
          -23.716028213500977,
          90.95126342773438,
          62.02859115600586,
          90.63662719726562
         ],
         "yaxis": "y"
        },
        {
         "customdata": [
          [
           "directia"
          ],
          [
           "prescribe"
          ],
          [
           "manufactured"
          ],
          [
           "colead"
          ],
          [
           "sibiu"
          ],
          [
           "offences"
          ],
          [
           "infortuni"
          ],
          [
           "cockpit"
          ],
          [
           "25hour"
          ],
          [
           "crisismanagement"
          ],
          [
           "regionala"
          ],
          [
           "ordinary"
          ],
          [
           "preparations"
          ],
          [
           "publice"
          ],
          [
           "interbancario"
          ],
          [
           "azioni"
          ],
          [
           "egg"
          ],
          [
           "molluscs"
          ],
          [
           "bousdekis"
          ],
          [
           "kai"
          ],
          [
           "missions"
          ],
          [
           "judges"
          ],
          [
           "s."
          ],
          [
           "purpose"
          ],
          [
           "functions"
          ],
          [
           "laboratoire"
          ],
          [
           "hiv"
          ],
          [
           "continuing"
          ],
          [
           "fondo"
          ],
          [
           "applied"
          ]
         ],
         "hovertemplate": "word_cluster=companies<br>X=%{x}<br>Y=%{y}<br>word=%{customdata[0]}<extra></extra>",
         "legendgroup": "companies",
         "marker": {
          "color": "#EF553B",
          "symbol": "circle"
         },
         "mode": "markers",
         "name": "companies",
         "orientation": "v",
         "showlegend": true,
         "type": "scatter",
         "x": [
          -24.927942276000977,
          -42.50441360473633,
          -51.6591796875,
          -14.078298568725586,
          -22.956262588500977,
          7.013542652130127,
          -14.304269790649414,
          -0.7938944697380066,
          3.041332244873047,
          -56.87025451660156,
          -42.739601135253906,
          -36.934722900390625,
          -53.01715087890625,
          11.276719093322754,
          -8.715578079223633,
          -34.25836944580078,
          -40.86378479003906,
          -12.246752738952637,
          -17.258544921875,
          -38.012298583984375,
          -79.888916015625,
          -60.94944381713867,
          -57.465614318847656,
          17.97661590576172,
          -56.287498474121094,
          2.9000134468078613,
          -32.453514099121094,
          -48.048282623291016,
          -39.482200622558594,
          -6.9891815185546875
         ],
         "xaxis": "x",
         "y": [
          110.0490951538086,
          111.84368896484375,
          101.4804916381836,
          109.61883544921875,
          113.16738891601562,
          107.22370147705078,
          119.13416290283203,
          110.08587646484375,
          110.60192108154297,
          93.32496643066406,
          107.20236206054688,
          111.35236358642578,
          96.14100646972656,
          109.35255432128906,
          117.0893783569336,
          115.11263275146484,
          103.02274322509766,
          113.81050109863281,
          113.53125,
          107.08404541015625,
          84.47419738769531,
          95.6760025024414,
          97.92526245117188,
          110.52133178710938,
          102.26031494140625,
          105.68645477294922,
          109.40523529052734,
          106.31065368652344,
          116.5799331665039,
          111.69055938720703
         ],
         "yaxis": "y"
        },
        {
         "customdata": [
          [
           "freedom"
          ],
          [
           "worker"
          ],
          [
           "treatment"
          ],
          [
           "goods"
          ],
          [
           "other"
          ],
          [
           "definition"
          ],
          [
           "pensioner"
          ],
          [
           "lively"
          ],
          [
           "movement"
          ],
          [
           "supply"
          ],
          [
           "affected"
          ],
          [
           "discrimination"
          ],
          [
           "essential"
          ],
          [
           "sharing"
          ],
          [
           "delay"
          ],
          [
           "overriding"
          ],
          [
           "influence"
          ],
          [
           "deduct"
          ],
          [
           "schengen"
          ],
          [
           "major"
          ],
          [
           "officially"
          ],
          [
           "96"
          ],
          [
           "plant"
          ],
          [
           "consideration"
          ],
          [
           "long"
          ],
          [
           "produce"
          ],
          [
           "public"
          ],
          [
           "event"
          ],
          [
           "flight"
          ],
          [
           "affect"
          ]
         ],
         "hovertemplate": "word_cluster=workers<br>X=%{x}<br>Y=%{y}<br>word=%{customdata[0]}<extra></extra>",
         "legendgroup": "workers",
         "marker": {
          "color": "#00cc96",
          "symbol": "circle"
         },
         "mode": "markers",
         "name": "workers",
         "orientation": "v",
         "showlegend": true,
         "type": "scatter",
         "x": [
          64.76457977294922,
          49.18301773071289,
          52.01263427734375,
          44.993614196777344,
          -27.774763107299805,
          -32.6197624206543,
          -82.36705780029297,
          -66.7302017211914,
          62.73573684692383,
          39.53823471069336,
          -26.698945999145508,
          -62.41298294067383,
          -40.284549713134766,
          -79.03772735595703,
          46.838191986083984,
          -64.97090148925781,
          -72.63761901855469,
          -78.36449432373047,
          -23.51744842529297,
          16.939144134521484,
          -54.19785690307617,
          -67.18653106689453,
          51.97876739501953,
          -97.09898376464844,
          29.576932907104492,
          -79.27802276611328,
          78.79632568359375,
          49.50778579711914,
          33.450645446777344,
          -61.88768768310547
         ],
         "xaxis": "x",
         "y": [
          109.34259033203125,
          108.28617095947266,
          112.58423614501953,
          105.1741943359375,
          49.267494201660156,
          46.946903228759766,
          6.60375452041626,
          12.236371994018555,
          112.16913604736328,
          102.88111877441406,
          55.27583694458008,
          61.26600646972656,
          48.487648010253906,
          18.094797134399414,
          113.20043182373047,
          25.00710105895996,
          11.255997657775879,
          12.452631950378418,
          56.01559066772461,
          84.73838806152344,
          14.357298851013184,
          57.85451126098633,
          103.37344360351562,
          14.85447883605957,
          104.9195785522461,
          -0.47961854934692383,
          111.92778778076172,
          115.83131408691406,
          104.85179901123047,
          13.587698936462402
         ],
         "yaxis": "y"
        },
        {
         "customdata": [
          [
           "measure"
          ],
          [
           "exceptional"
          ],
          [
           "persistence"
          ],
          [
           "adapting"
          ],
          [
           "diagnoses"
          ],
          [
           "address"
          ],
          [
           "lcategory"
          ],
          [
           "difficulties"
          ],
          [
           "travel"
          ],
          [
           "endofseries"
          ],
          [
           "connection"
          ],
          [
           "securitisation"
          ],
          [
           "'cause"
          ],
          [
           "2019/779"
          ],
          [
           "developments"
          ],
          [
           "creation"
          ],
          [
           "difficulty"
          ],
          [
           "current"
          ],
          [
           "nonessential"
          ],
          [
           "com2020)0178"
          ],
          [
           "exempted"
          ],
          [
           "restrictive"
          ],
          [
           "potato"
          ],
          [
           "grant"
          ],
          [
           "acceptance"
          ],
          [
           "period"
          ],
          [
           "adaptations"
          ],
          [
           "protective"
          ],
          [
           "renewal"
          ],
          [
           "meetings"
          ]
         ],
         "hovertemplate": "word_cluster=measures<br>X=%{x}<br>Y=%{y}<br>word=%{customdata[0]}<extra></extra>",
         "legendgroup": "measures",
         "marker": {
          "color": "#ab63fa",
          "symbol": "circle"
         },
         "mode": "markers",
         "name": "measures",
         "orientation": "v",
         "showlegend": true,
         "type": "scatter",
         "x": [
          120.68671417236328,
          112.27032470703125,
          114.28096771240234,
          -49.56459426879883,
          -57.53917694091797,
          111.40421295166016,
          -4.97901725769043,
          55.92192077636719,
          123.94735717773438,
          -15.015332221984863,
          -14.769192695617676,
          82.3309326171875,
          57.88436508178711,
          -44.79816436767578,
          -48.297183990478516,
          43.2497444152832,
          49.98523712158203,
          69.1946792602539,
          128.75340270996094,
          -37.29017639160156,
          -62.3397216796875,
          -12.51329231262207,
          -56.26283264160156,
          125.04867553710938,
          56.492095947265625,
          115.6675796508789,
          -65.79996490478516,
          -1.4075549840927124,
          117.8408432006836,
          -62.03096008300781
         ],
         "xaxis": "x",
         "y": [
          -35.65090560913086,
          -40.1177864074707,
          -31.295408248901367,
          -69.97398376464844,
          -73.46379089355469,
          -37.02595520019531,
          -38.435546875,
          -59.41455841064453,
          -41.72335433959961,
          -45.01084899902344,
          -34.97745895385742,
          13.12022876739502,
          -45.95746994018555,
          -83.76309967041016,
          -72.99130249023438,
          -50.056175231933594,
          -48.33589553833008,
          -53.293434143066406,
          -44.53127670288086,
          -50.38209533691406,
          -71.08515167236328,
          -50.60204315185547,
          -63.35858154296875,
          -58.37653350830078,
          -8.461665153503418,
          -44.93914031982422,
          -76.4905776977539,
          -43.75715255737305,
          -27.31886863708496,
          -91.8702392578125
         ],
         "yaxis": "y"
        },
        {
         "customdata": [
          [
           "specific"
          ],
          [
           "granting"
          ],
          [
           "ecb/2014/31"
          ],
          [
           "1305/2013"
          ],
          [
           "support"
          ],
          [
           "2020/977"
          ],
          [
           "view"
          ],
          [
           "2020/1253"
          ],
          [
           "2021/521"
          ],
          [
           "897/2014"
          ],
          [
           "2020/1355"
          ],
          [
           "read"
          ],
          [
           "2021/605"
          ],
          [
           "extending"
          ],
          [
           "laying"
          ],
          [
           "2020/1342"
          ],
          [
           "nonessential"
          ],
          [
           "reading"
          ],
          [
           "extend"
          ],
          [
           "223/2014"
          ],
          [
           "2020/1345"
          ],
          [
           "168/2013"
          ],
          [
           "23/2021"
          ],
          [
           "95/93"
          ],
          [
           "2020/912"
          ],
          [
           "renewing"
          ],
          [
           "2020/1659"
          ],
          [
           "2020/1352"
          ],
          [
           "1311/2013"
          ],
          [
           "no1303/2013"
          ]
         ],
         "hovertemplate": "word_cluster=temporary<br>X=%{x}<br>Y=%{y}<br>word=%{customdata[0]}<extra></extra>",
         "legendgroup": "temporary",
         "marker": {
          "color": "#FFA15A",
          "symbol": "circle"
         },
         "mode": "markers",
         "name": "temporary",
         "orientation": "v",
         "showlegend": true,
         "type": "scatter",
         "x": [
          159.26034545898438,
          136.75848388671875,
          28.1949405670166,
          17.936412811279297,
          146.76821899414062,
          4.950581073760986,
          171.27008056640625,
          2.553176164627075,
          10.658008575439453,
          -45.341732025146484,
          -40.89371871948242,
          75.62899017333984,
          -41.18311309814453,
          37.62937545776367,
          160.85025024414062,
          19.83579444885254,
          124.64585876464844,
          166.5648956298828,
          32.66914367675781,
          21.987098693847656,
          -38.1343879699707,
          12.564233779907227,
          0.0783042386174202,
          28.718690872192383,
          42.351905822753906,
          26.709856033325195,
          7.7448811531066895,
          14.154603958129883,
          24.20109748840332,
          11.18950366973877
         ],
         "xaxis": "x",
         "y": [
          -57.30829620361328,
          -53.46498107910156,
          -118.77052307128906,
          -135.24119567871094,
          -37.557857513427734,
          -124.83644104003906,
          -55.982852935791016,
          -129.94625854492188,
          -124.33011627197266,
          -89.91854095458984,
          -107.49429321289062,
          21.708484649658203,
          -114.17842102050781,
          -111.09175872802734,
          -62.386558532714844,
          -108.43250274658203,
          -46.86295700073242,
          -65.10657501220703,
          -112.3937759399414,
          -133.84979248046875,
          -111.63877868652344,
          -136.22337341308594,
          -154.0146484375,
          -132.98321533203125,
          -108.69788360595703,
          -108.5467758178711,
          -127.50387573242188,
          -110.48754119873047,
          -129.5380401611328,
          -130.03533935546875
         ],
         "yaxis": "y"
        },
        {
         "customdata": [
          [
           "economic"
          ],
          [
           "committee"
          ],
          [
           "regions"
          ],
          [
           "concepts"
          ],
          [
           "affairs"
          ],
          [
           "region"
          ],
          [
           "plus"
          ],
          [
           "committe"
          ],
          [
           "esf+"
          ],
          [
           "investment"
          ],
          [
           "monetary"
          ],
          [
           "joint"
          ],
          [
           "opinion"
          ],
          [
           "regional"
          ],
          [
           "established"
          ],
          [
           "fund"
          ],
          [
           "fairness"
          ],
          [
           "constitutional"
          ],
          [
           "funding"
          ],
          [
           "revised"
          ],
          [
           "brain"
          ],
          [
           "dues"
          ],
          [
           "guide"
          ],
          [
           "defence"
          ],
          [
           "considerations"
          ],
          [
           "important"
          ],
          [
           "srb"
          ],
          [
           "sustainable"
          ],
          [
           "cities"
          ],
          [
           "20102020"
          ]
         ],
         "hovertemplate": "word_cluster=social<br>X=%{x}<br>Y=%{y}<br>word=%{customdata[0]}<extra></extra>",
         "legendgroup": "social",
         "marker": {
          "color": "#19d3f3",
          "symbol": "circle"
         },
         "mode": "markers",
         "name": "social",
         "orientation": "v",
         "showlegend": true,
         "type": "scatter",
         "x": [
          117.77191162109375,
          114.91023254394531,
          110.1157455444336,
          -91.30196380615234,
          82.221435546875,
          106.98233795166016,
          75.14472198486328,
          -86.89930725097656,
          9.358297348022461,
          98.97088623046875,
          83.93225860595703,
          100.16788482666016,
          112.17121887207031,
          84.0126724243164,
          89.92586517333984,
          100.04290008544922,
          79.75130462646484,
          -86.76380920410156,
          -82.59523010253906,
          -74.26478576660156,
          -84.75350189208984,
          2.4408836364746094,
          -2.3892507553100586,
          65.2018814086914,
          -86.57402038574219,
          0.9199380278587341,
          -25.691234588623047,
          95.79085540771484,
          18.440479278564453,
          -6.867262840270996
         ],
         "xaxis": "x",
         "y": [
          58.15290451049805,
          60.147438049316406,
          57.35825729370117,
          -69.20587158203125,
          47.31523895263672,
          55.89310836791992,
          42.28391647338867,
          -66.31621551513672,
          26.00641632080078,
          53.76626205444336,
          51.465049743652344,
          72.16070556640625,
          51.53470230102539,
          61.4926643371582,
          70.6607437133789,
          59.21014404296875,
          43.608489990234375,
          -69.93960571289062,
          -66.09061431884766,
          -111.30825805664062,
          -74.37522888183594,
          3.6903176307678223,
          8.139813423156738,
          40.05116653442383,
          -61.57426452636719,
          -14.201268196105957,
          -65.68959045410156,
          53.71468734741211,
          31.539901733398438,
          7.496053218841553
         ],
         "yaxis": "y"
        },
        {
         "customdata": [
          [
           "securitisation"
          ],
          [
           "temporary"
          ],
          [
           "2020/672"
          ],
          [
           "instrument"
          ],
          [
           "outreach"
          ],
          [
           "granting"
          ],
          [
           "ecb/2014/31"
          ],
          [
           "distributions"
          ],
          [
           "2017/809"
          ],
          [
           "recovery"
          ],
          [
           "2017/1252"
          ],
          [
           "renew"
          ],
          [
           "transparent"
          ],
          [
           "2016/2383"
          ],
          [
           "no8/2021"
          ],
          [
           "2019/615"
          ],
          [
           "help"
          ],
          [
           "specific"
          ],
          [
           "2020/1342"
          ],
          [
           "897/2014"
          ],
          [
           "grant"
          ],
          [
           "view"
          ],
          [
           "adaptations"
          ],
          [
           "2019/779"
          ],
          [
           "23/2021"
          ],
          [
           "nonessential"
          ],
          [
           "simple"
          ],
          [
           "mitigate"
          ],
          [
           "2020/1346"
          ],
          [
           "mobilise"
          ],
          [
           "securitisation"
          ],
          [
           "temporary"
          ],
          [
           "2020/672"
          ],
          [
           "instrument"
          ],
          [
           "outreach"
          ],
          [
           "granting"
          ],
          [
           "ecb/2014/31"
          ],
          [
           "distributions"
          ],
          [
           "2017/809"
          ],
          [
           "recovery"
          ],
          [
           "2017/1252"
          ],
          [
           "renew"
          ],
          [
           "transparent"
          ],
          [
           "2016/2383"
          ],
          [
           "no8/2021"
          ],
          [
           "2019/615"
          ],
          [
           "help"
          ],
          [
           "specific"
          ],
          [
           "2020/1342"
          ],
          [
           "897/2014"
          ],
          [
           "grant"
          ],
          [
           "view"
          ],
          [
           "adaptations"
          ],
          [
           "2019/779"
          ],
          [
           "23/2021"
          ],
          [
           "nonessential"
          ],
          [
           "simple"
          ],
          [
           "mitigate"
          ],
          [
           "2020/1346"
          ],
          [
           "mobilise"
          ]
         ],
         "hovertemplate": "word_cluster=support<br>X=%{x}<br>Y=%{y}<br>word=%{customdata[0]}<extra></extra>",
         "legendgroup": "support",
         "marker": {
          "color": "#FF6692",
          "symbol": "circle"
         },
         "mode": "markers",
         "name": "support",
         "orientation": "v",
         "showlegend": true,
         "type": "scatter",
         "x": [
          85.04521179199219,
          160.5741729736328,
          142.115478515625,
          91.19912719726562,
          -17.68421745300293,
          136.75848388671875,
          28.1949405670166,
          45.313316345214844,
          -39.608154296875,
          127.45846557617188,
          -32.34569549560547,
          -20.991024017333984,
          56.90766525268555,
          -22.477712631225586,
          -6.494816303253174,
          -27.790637969970703,
          77.17053985595703,
          163.19873046875,
          21.278106689453125,
          -48.41227722167969,
          125.04867553710938,
          169.0989532470703,
          -63.84855270385742,
          -44.79816436767578,
          -2.8436074256896973,
          128.75340270996094,
          69.64076232910156,
          140.0167236328125,
          16.379629135131836,
          37.36186218261719,
          81.3504638671875,
          163.4806671142578,
          144.73069763183594,
          89.05524444580078,
          -19.275529861450195,
          136.75848388671875,
          28.1949405670166,
          45.313316345214844,
          -42.42420959472656,
          130.27874755859375,
          -31.688718795776367,
          -21.990341186523438,
          58.094722747802734,
          -24.894628524780273,
          -9.576447486877441,
          -24.798341751098633,
          80.90089416503906,
          163.19873046875,
          19.83579444885254,
          -49.537540435791016,
          128.5813446044922,
          169.0989532470703,
          -59.751346588134766,
          -48.77217483520508,
          -3.6373188495635986,
          128.27491760253906,
          69.64076232910156,
          140.0167236328125,
          16.379629135131836,
          40.20545959472656
         ],
         "xaxis": "x",
         "y": [
          10.404156684875488,
          -47.96243667602539,
          -33.887935638427734,
          18.243223190307617,
          -97.69110107421875,
          -53.46498107910156,
          -118.77052307128906,
          -127.36360168457031,
          -100.16143035888672,
          4.831207275390625,
          -102.14950561523438,
          -114.01396179199219,
          10.275118827819824,
          -101.36904907226562,
          -144.0790252685547,
          -94.57478332519531,
          -38.912376403808594,
          -57.641571044921875,
          -111.96783447265625,
          -92.4640121459961,
          -58.37653350830078,
          -52.4207878112793,
          -80.15878295898438,
          -83.76309967041016,
          -151.1331329345703,
          -44.53127670288086,
          12.290043830871582,
          -26.758939743041992,
          -116.44127655029297,
          9.636177062988281,
          9.450738906860352,
          -46.272987365722656,
          -32.12674331665039,
          20.481975555419922,
          -94.76998138427734,
          -53.46498107910156,
          -118.77052307128906,
          -127.36360168457031,
          -101.26837158203125,
          4.292301177978516,
          -105.04116821289062,
          -111.22529602050781,
          7.524870872497559,
          -99.05279541015625,
          -146.2695770263672,
          -93.111328125,
          -38.03463363647461,
          -57.641571044921875,
          -108.43250274658203,
          -88.72451782226562,
          -59.848915100097656,
          -52.4207878112793,
          -79.37181854248047,
          -82.99494171142578,
          -155.22732543945312,
          -48.87314987182617,
          12.290043830871582,
          -26.758939743041992,
          -116.44127655029297,
          10.22279167175293
         ],
         "yaxis": "y"
        },
        {
         "customdata": [
          [
           "covid"
          ],
          [
           "2020/0069cod"
          ],
          [
           "current"
          ],
          [
           "help"
          ],
          [
           "response"
          ],
          [
           "difficulty"
          ],
          [
           "lcategory"
          ],
          [
           "com2020)0178"
          ],
          [
           "connection"
          ],
          [
           "intermediaries"
          ],
          [
           "resurgence"
          ],
          [
           "'cause"
          ],
          [
           "reconstruction"
          ],
          [
           "emergency"
          ],
          [
           "context"
          ],
          [
           "campaign"
          ],
          [
           "difficulties"
          ],
          [
           "endofseries"
          ],
          [
           "186"
          ],
          [
           "coronavirus"
          ],
          [
           "com2020)0201"
          ],
          [
           "adaptations"
          ],
          [
           "fiscal"
          ],
          [
           "prospectus"
          ],
          [
           "com2020)0221"
          ],
          [
           "following"
          ],
          [
           "2019/788"
          ],
          [
           "hera"
          ],
          [
           "follow"
          ],
          [
           "consequences"
          ]
         ],
         "hovertemplate": "word_cluster=covid19<br>X=%{x}<br>Y=%{y}<br>word=%{customdata[0]}<extra></extra>",
         "legendgroup": "covid19",
         "marker": {
          "color": "#B6E880",
          "symbol": "circle"
         },
         "mode": "markers",
         "name": "covid19",
         "orientation": "v",
         "showlegend": true,
         "type": "scatter",
         "x": [
          62.9146842956543,
          -41.70267868041992,
          67.50444030761719,
          80.90089416503906,
          120.35149383544922,
          49.98523712158203,
          -4.97901725769043,
          -37.29017639160156,
          -17.722322463989258,
          -11.053370475769043,
          -50.929222106933594,
          57.88436508178711,
          -41.12421417236328,
          135.63475036621094,
          115.93569946289062,
          -48.72072219848633,
          56.26924514770508,
          -12.15615177154541,
          -46.7266731262207,
          81.95089721679688,
          -33.98992156982422,
          -61.91714859008789,
          -17.19911766052246,
          -9.764546394348145,
          -34.18906784057617,
          108.68771362304688,
          -27.47974395751953,
          -55.5822868347168,
          107.52918243408203,
          76.1109619140625
         ],
         "xaxis": "x",
         "y": [
          -57.94055938720703,
          -52.09676742553711,
          -50.880123138427734,
          -38.03463363647461,
          -10.448699951171875,
          -48.33589553833008,
          -38.435546875,
          -50.38209533691406,
          -34.91930389404297,
          -28.21448516845703,
          -49.148826599121094,
          -45.95746994018555,
          -59.82490158081055,
          -22.024995803833008,
          -18.84404754638672,
          -29.06930923461914,
          -56.40755844116211,
          -44.71144485473633,
          -56.797828674316406,
          -17.896690368652344,
          -17.376291275024414,
          -76.16568756103516,
          -6.9805588722229,
          -24.12091064453125,
          -42.94632339477539,
          -15.113789558410645,
          -19.90559959411621,
          -44.80173110961914,
          -21.14365005493164,
          -15.515103340148926
         ],
         "yaxis": "y"
        },
        {
         "customdata": [
          [
           "essential"
          ],
          [
           "sharing"
          ],
          [
           "australian"
          ],
          [
           "consideration"
          ],
          [
           "cleaning"
          ],
          [
           "service"
          ],
          [
           "provider"
          ],
          [
           "performed"
          ],
          [
           "office"
          ],
          [
           "prosecutor"
          ],
          [
           "deduct"
          ],
          [
           "ensure"
          ],
          [
           "d'action"
          ],
          [
           "airport"
          ],
          [
           "services"
          ],
          [
           "supply"
          ],
          [
           "providers"
          ],
          [
           "airports"
          ],
          [
           "override"
          ],
          [
           "overriding"
          ],
          [
           "phaseout"
          ],
          [
           "workers"
          ],
          [
           "carry"
          ],
          [
           "influence"
          ],
          [
           "obligations"
          ],
          [
           "standstill"
          ],
          [
           "carriers"
          ],
          [
           "border"
          ],
          [
           "lively"
          ],
          [
           "produce"
          ]
         ],
         "hovertemplate": "word_cluster=public<br>X=%{x}<br>Y=%{y}<br>word=%{customdata[0]}<extra></extra>",
         "legendgroup": "public",
         "marker": {
          "color": "#FF97FF",
          "symbol": "circle"
         },
         "mode": "markers",
         "name": "public",
         "orientation": "v",
         "showlegend": true,
         "type": "scatter",
         "x": [
          -41.945640563964844,
          -79.03772735595703,
          -0.7491087317466736,
          -93.2939224243164,
          -71.9945297241211,
          84.2566909790039,
          -69.6522445678711,
          -75.08324432373047,
          -58.9991569519043,
          -60.029850006103516,
          -81.85064697265625,
          34.15258026123047,
          -45.317508697509766,
          -62.793357849121094,
          84.60839080810547,
          40.790950775146484,
          -79.05670166015625,
          -2.2773566246032715,
          -87.5462417602539,
          -64.97090148925781,
          -86.96678924560547,
          56.501155853271484,
          -32.1606559753418,
          -72.36226654052734,
          53.70105743408203,
          -94.04241943359375,
          0.3024776875972748,
          65.1935806274414,
          -67.22872161865234,
          -77.8826675415039
         ],
         "xaxis": "x",
         "y": [
          50.9126091003418,
          18.094797134399414,
          75.12039947509766,
          15.148752212524414,
          25.726707458496094,
          114.26921081542969,
          40.38402557373047,
          35.511417388916016,
          37.38937759399414,
          29.466440200805664,
          13.526009559631348,
          92.0815658569336,
          46.02622985839844,
          42.87272644042969,
          110.24711608886719,
          100.09001159667969,
          25.317283630371094,
          70.89933013916016,
          1.7129751443862915,
          25.00710105895996,
          7.9088921546936035,
          109.44673156738281,
          55.70943069458008,
          7.834753513336182,
          119.74737548828125,
          5.4871039390563965,
          78.48448181152344,
          87.1717300415039,
          15.59007740020752,
          2.3349127769470215
         ],
         "yaxis": "y"
        },
        {
         "customdata": [
          [
           "reform"
          ],
          [
           "uranium"
          ],
          [
           "competence"
          ],
          [
           "targets"
          ],
          [
           "delivering"
          ],
          [
           "centres"
          ],
          [
           "network"
          ],
          [
           "demonstration"
          ],
          [
           "practice"
          ],
          [
           "centre"
          ],
          [
           "technological"
          ],
          [
           "2021/961"
          ],
          [
           "viral"
          ],
          [
           "suffer"
          ],
          [
           "czechia"
          ],
          [
           "convergence"
          ],
          [
           "257/2010"
          ],
          [
           "thirdcountry"
          ],
          [
           "vocational"
          ],
          [
           "haemorrhagic"
          ],
          [
           "traffic"
          ],
          [
           "banks"
          ],
          [
           "currency"
          ],
          [
           "partly"
          ],
          [
           "20212022"
          ],
          [
           "ireland"
          ],
          [
           "icelandic"
          ],
          [
           "eradication"
          ],
          [
           "operational"
          ],
          [
           "septicaemia"
          ]
         ],
         "hovertemplate": "word_cluster=national<br>X=%{x}<br>Y=%{y}<br>word=%{customdata[0]}<extra></extra>",
         "legendgroup": "national",
         "marker": {
          "color": "#FECB52",
          "symbol": "circle"
         },
         "mode": "markers",
         "name": "national",
         "orientation": "v",
         "showlegend": true,
         "type": "scatter",
         "x": [
          100.48180389404297,
          -73.96112823486328,
          71.83667755126953,
          -79.52234649658203,
          102.28121185302734,
          39.11919403076172,
          72.3285140991211,
          41.59908676147461,
          -25.530485153198242,
          74.414794921875,
          73.03234100341797,
          -76.38369750976562,
          -37.19669723510742,
          -73.12065124511719,
          37.177955627441406,
          42.62937927246094,
          -69.94959259033203,
          34.5448112487793,
          -32.65564727783203,
          -33.957881927490234,
          -72.31471252441406,
          1.631637454032898,
          -29.47705841064453,
          -67.65431213378906,
          -69.80501556396484,
          33.992191314697266,
          -62.06351852416992,
          38.19722366333008,
          -26.438283920288086,
          -33.64392852783203
         ],
         "xaxis": "x",
         "y": [
          36.81895065307617,
          -42.134307861328125,
          68.16221618652344,
          -44.975563049316406,
          39.592384338378906,
          47.691925048828125,
          74.11155700683594,
          51.71733093261719,
          85.02855682373047,
          71.07027435302734,
          63.60670852661133,
          -37.87197494506836,
          84.20526885986328,
          -46.2325439453125,
          59.69513702392578,
          60.590641021728516,
          -40.880706787109375,
          52.5640869140625,
          74.61216735839844,
          82.06786346435547,
          80.95187377929688,
          -4.300803184509277,
          81.76710510253906,
          78.63990020751953,
          -30.884464263916016,
          63.12984848022461,
          77.52986145019531,
          40.805931091308594,
          79.05228424072266,
          85.84345245361328
         ],
         "yaxis": "y"
        },
        {
         "customdata": [
          [
           "reasons"
          ],
          [
           "'s"
          ],
          [
           "activation"
          ],
          [
           "bridge"
          ],
          [
           "decade"
          ],
          [
           "no8/2021"
          ],
          [
           "reason"
          ],
          [
           "youth"
          ],
          [
           "guideline"
          ],
          [
           "reinforcing"
          ],
          [
           "escape"
          ],
          [
           "councils"
          ],
          [
           "allocations"
          ],
          [
           "jobs"
          ],
          [
           "poverty"
          ],
          [
           "8/2020"
          ],
          [
           "5/2021"
          ],
          [
           "recommendation"
          ],
          [
           "reacteu"
          ],
          [
           "roma"
          ],
          [
           "plans"
          ],
          [
           "humanitarian"
          ],
          [
           "latvias"
          ],
          [
           "call"
          ],
          [
           "directorate"
          ],
          [
           "c524/18"
          ],
          [
           "18/2021"
          ],
          [
           "assessment"
          ],
          [
           "second"
          ],
          [
           "position"
          ]
         ],
         "hovertemplate": "word_cluster=statement<br>X=%{x}<br>Y=%{y}<br>word=%{customdata[0]}<extra></extra>",
         "legendgroup": "statement",
         "marker": {
          "color": "#636efa",
          "symbol": "circle"
         },
         "mode": "markers",
         "name": "statement",
         "orientation": "v",
         "showlegend": true,
         "type": "scatter",
         "x": [
          52.755401611328125,
          58.47874069213867,
          -30.781068801879883,
          31.003480911254883,
          14.851491928100586,
          -9.576447486877441,
          21.92790985107422,
          68.89151000976562,
          46.01603317260742,
          36.63142013549805,
          -32.622047424316406,
          -31.36636734008789,
          -16.04838752746582,
          65.80184173583984,
          -13.96703052520752,
          -0.0860084742307663,
          -7.709717750549316,
          107.22000122070312,
          39.52287292480469,
          -11.390732765197754,
          40.77939224243164,
          -16.173233032226562,
          -62.74549102783203,
          -15.36917495727539,
          11.20616340637207,
          -65.42328643798828,
          2.0107972621917725,
          122.50334167480469,
          72.10198211669922,
          169.880126953125
         ],
         "xaxis": "x",
         "y": [
          25.19514274597168,
          27.537933349609375,
          -75.97994995117188,
          21.356929779052734,
          12.897035598754883,
          -146.2695770263672,
          16.966264724731445,
          30.522008895874023,
          18.07709312438965,
          23.641490936279297,
          -72.99378967285156,
          -111.91485595703125,
          -78.39289855957031,
          49.64754867553711,
          -76.20747375488281,
          -144.74954223632812,
          -152.383056640625,
          36.29290771484375,
          19.468589782714844,
          -108.01639556884766,
          37.257598876953125,
          -110.16082000732422,
          -55.756900787353516,
          -85.53125,
          6.688614845275879,
          -59.59844207763672,
          -149.2170867919922,
          26.723819732666016,
          25.766429901123047,
          -65.51818084716797
         ],
         "yaxis": "y"
        },
        {
         "customdata": [
          [
           "environment"
          ],
          [
           "food"
          ],
          [
           "protection"
          ],
          [
           "safety"
          ],
          [
           "data"
          ],
          [
           "welfare"
          ],
          [
           "intelligent"
          ],
          [
           "feed"
          ],
          [
           "enterprise"
          ],
          [
           "ensure"
          ],
          [
           "agriculture"
          ],
          [
           "datum"
          ],
          [
           "consideration"
          ],
          [
           "mechanism"
          ],
          [
           "office"
          ],
          [
           "element"
          ],
          [
           "com2020181"
          ],
          [
           "management"
          ],
          [
           "closely"
          ],
          [
           "performed"
          ],
          [
           "release"
          ],
          [
           "public"
          ],
          [
           "sustainability"
          ],
          [
           "overriding"
          ],
          [
           "cypriot"
          ],
          [
           "corona"
          ],
          [
           "security"
          ],
          [
           "euus"
          ],
          [
           "override"
          ],
          [
           "toxicfree"
          ]
         ],
         "hovertemplate": "word_cluster=health<br>X=%{x}<br>Y=%{y}<br>word=%{customdata[0]}<extra></extra>",
         "legendgroup": "health",
         "marker": {
          "color": "#EF553B",
          "symbol": "circle"
         },
         "mode": "markers",
         "name": "health",
         "orientation": "v",
         "showlegend": true,
         "type": "scatter",
         "x": [
          49.615108489990234,
          58.806678771972656,
          61.73997116088867,
          53.86652755737305,
          54.43541717529297,
          -67.93461608886719,
          -101.86418151855469,
          34.66783905029297,
          38.01266860961914,
          34.15258026123047,
          44.80510711669922,
          24.22953224182129,
          -95.34980773925781,
          76.72303009033203,
          -58.9991569519043,
          -79.40926361083984,
          -95.6627197265625,
          64.16096496582031,
          -100.39823913574219,
          -75.08324432373047,
          -72.87168884277344,
          78.79632568359375,
          57.23801803588867,
          -61.3970832824707,
          -61.02181625366211,
          -109.42620849609375,
          90.09490203857422,
          -90.17097473144531,
          -87.5462417602539,
          28.62118911743164
         ],
         "xaxis": "x",
         "y": [
          80.1550521850586,
          92.7906723022461,
          103.59408569335938,
          91.9498291015625,
          87.57003784179688,
          33.49422836303711,
          18.888530731201172,
          84.28998565673828,
          81.88514709472656,
          92.0815658569336,
          83.67375946044922,
          83.34654235839844,
          18.40423583984375,
          -4.674422264099121,
          37.38937759399414,
          -6.367495059967041,
          1.5851856470108032,
          81.51839447021484,
          9.01979923248291,
          35.511417388916016,
          -1.0308294296264648,
          111.92778778076172,
          73.47480010986328,
          23.42066764831543,
          0.3635239601135254,
          12.89892578125,
          62.50490188598633,
          -59.34567642211914,
          1.7129751443862915,
          80.73296356201172
         ],
         "yaxis": "y"
        },
        {
         "customdata": [
          [
           "sul"
          ],
          [
           "papasotiriou"
          ],
          [
           "lavoro"
          ],
          [
           "royal"
          ],
          [
           "oz"
          ],
          [
           "sveikatos"
          ],
          [
           "christos"
          ],
          [
           "jeugd"
          ],
          [
           "nelle"
          ],
          [
           "infortuni"
          ],
          [
           "xn"
          ],
          [
           "m."
          ],
          [
           "essentielle"
          ],
          [
           "lietuvos"
          ],
          [
           "fa"
          ],
          [
           "shipping"
          ],
          [
           "izby"
          ],
          [
           "respublikos"
          ],
          [
           "toolstream"
          ],
          [
           "limited"
          ],
          [
           "investmentfriendly"
          ],
          [
           "pfizer"
          ],
          [
           "perry"
          ],
          [
           "experts"
          ],
          [
           "garanzie"
          ],
          [
           "gyogyszereszeti"
          ],
          [
           "inail"
          ],
          [
           "compal"
          ],
          [
           "joined"
          ],
          [
           "dell'universita"
          ]
         ],
         "hovertemplate": "word_cluster=minister<br>X=%{x}<br>Y=%{y}<br>word=%{customdata[0]}<extra></extra>",
         "legendgroup": "minister",
         "marker": {
          "color": "#00cc96",
          "symbol": "circle"
         },
         "mode": "markers",
         "name": "minister",
         "orientation": "v",
         "showlegend": true,
         "type": "scatter",
         "x": [
          -23.639690399169922,
          -8.598275184631348,
          -19.99452781677246,
          -74.89824676513672,
          -71.77007293701172,
          -65.43409729003906,
          -11.129434585571289,
          -19.504541397094727,
          -76.8394546508789,
          -17.810760498046875,
          -86.1807632446289,
          5.813460826873779,
          -76.1022720336914,
          9.78055191040039,
          -83.96279907226562,
          -14.45609188079834,
          -74.37419891357422,
          -52.71088790893555,
          -79.51714324951172,
          15.502304077148438,
          -28.53635025024414,
          -82.55308532714844,
          -86.70543670654297,
          -84.11373901367188,
          -80.89837646484375,
          -78.69503784179688,
          -25.049123764038086,
          -68.36348724365234,
          -0.9158028960227966,
          -68.51998901367188
         ],
         "xaxis": "x",
         "y": [
          123.11466979980469,
          128.30142211914062,
          125.68585205078125,
          102.3434829711914,
          105.40995025634766,
          102.33583068847656,
          124.37122344970703,
          130.46388244628906,
          91.5498046875,
          119.41819763183594,
          98.27185821533203,
          117.72481536865234,
          86.87370300292969,
          113.94446563720703,
          102.47112274169922,
          129.48411560058594,
          98.19300079345703,
          109.79363250732422,
          98.2280044555664,
          116.12422180175781,
          115.64888000488281,
          95.160888671875,
          92.0307846069336,
          86.72676086425781,
          89.71520233154297,
          104.61288452148438,
          127.26199340820312,
          99.13529205322266,
          116.35353088378906,
          94.58271026611328
         ],
         "yaxis": "y"
        },
        {
         "customdata": [
          [
           "jose"
          ],
          [
           "andor"
          ],
          [
           "industrial"
          ],
          [
           "challenges"
          ],
          [
           "role"
          ],
          [
           "era"
          ],
          [
           "building"
          ],
          [
           "cities"
          ],
          [
           "hydrogen"
          ],
          [
           "sustainability"
          ],
          [
           "activity"
          ],
          [
           "dimension"
          ],
          [
           "change"
          ],
          [
           "democracy"
          ],
          [
           "goal"
          ],
          [
           "2030"
          ],
          [
           "disruptive"
          ],
          [
           "growth"
          ],
          [
           "green"
          ],
          [
           "the"
          ],
          [
           "members"
          ],
          [
           "strong"
          ],
          [
           "democratic"
          ],
          [
           "paving"
          ],
          [
           "chart"
          ],
          [
           "global"
          ],
          [
           "lowcarbon"
          ],
          [
           "job"
          ],
          [
           "promote"
          ],
          [
           "revenues"
          ]
         ],
         "hovertemplate": "word_cluster=new<br>X=%{x}<br>Y=%{y}<br>word=%{customdata[0]}<extra></extra>",
         "legendgroup": "new",
         "marker": {
          "color": "#ab63fa",
          "symbol": "circle"
         },
         "mode": "markers",
         "name": "new",
         "orientation": "v",
         "showlegend": true,
         "type": "scatter",
         "x": [
          6.262696743011475,
          -76.82608795166016,
          73.84050750732422,
          49.78538131713867,
          58.109840393066406,
          17.808385848999023,
          54.4783935546875,
          15.413575172424316,
          18.833843231201172,
          59.92498779296875,
          55.85771179199219,
          4.836318492889404,
          63.627784729003906,
          44.85520553588867,
          59.162811279296875,
          22.298295974731445,
          -4.442754745483398,
          70.25025939941406,
          62.144893646240234,
          25.861011505126953,
          53.13893508911133,
          -2.314868450164795,
          26.45380401611328,
          -71.7569808959961,
          -72.7005844116211,
          60.05876159667969,
          -6.8411784172058105,
          62.294925689697266,
          47.199520111083984,
          -3.295248508453369
         ],
         "xaxis": "x",
         "y": [
          14.245878219604492,
          -56.314849853515625,
          57.159996032714844,
          50.261749267578125,
          47.565216064453125,
          42.02555847167969,
          44.43079376220703,
          31.68592071533203,
          37.17536544799805,
          74.84112548828125,
          62.50679397583008,
          9.991003036499023,
          62.675498962402344,
          44.20365905761719,
          52.99767303466797,
          26.490768432617188,
          -2.877192735671997,
          54.02640914916992,
          68.12676239013672,
          32.34873580932617,
          58.290061950683594,
          13.531968116760254,
          42.04694366455078,
          -56.42677307128906,
          -53.412166595458984,
          58.30372619628906,
          0.10989390313625336,
          54.68717575073242,
          46.62239456176758,
          1.5677579641342163
         ],
         "yaxis": "y"
        },
        {
         "customdata": [
          [
           "consequences"
          ],
          [
           "foster"
          ],
          [
           "com2020)0201"
          ],
          [
           "consequence"
          ],
          [
           "context"
          ],
          [
           "com2020)0310"
          ],
          [
           "preparedness"
          ],
          [
           "unintended"
          ],
          [
           "repair"
          ],
          [
           "variant"
          ],
          [
           "partner"
          ],
          [
           "immediate"
          ],
          [
           "vaccination"
          ],
          [
           "test"
          ],
          [
           "c90122/2020"
          ],
          [
           "linked"
          ],
          [
           "threat"
          ],
          [
           "fostering"
          ],
          [
           "campaign"
          ],
          [
           "fishery"
          ],
          [
           "drawing"
          ],
          [
           "follow"
          ],
          [
           "com2020)0198"
          ],
          [
           "prevent"
          ],
          [
           "com2020)0233"
          ],
          [
           "response"
          ],
          [
           "economies"
          ],
          [
           "2020/0066cod"
          ],
          [
           "received"
          ],
          [
           "fight"
          ]
         ],
         "hovertemplate": "word_cluster=coronavirus<br>X=%{x}<br>Y=%{y}<br>word=%{customdata[0]}<extra></extra>",
         "legendgroup": "coronavirus",
         "marker": {
          "color": "#FFA15A",
          "symbol": "circle"
         },
         "mode": "markers",
         "name": "coronavirus",
         "orientation": "v",
         "showlegend": true,
         "type": "scatter",
         "x": [
          74.06669616699219,
          45.396018981933594,
          -34.0976676940918,
          42.34962463378906,
          119.4322738647461,
          -27.053382873535156,
          39.657562255859375,
          33.90679931640625,
          84.7793960571289,
          -38.51423645019531,
          -12.223681449890137,
          50.79509735107422,
          67.00028228759766,
          74.30138397216797,
          -25.267309188842773,
          -26.344650268554688,
          53.278236389160156,
          46.41065979003906,
          -50.80473709106445,
          46.96717071533203,
          -53.104042053222656,
          104.52166748046875,
          -32.82291030883789,
          14.17723274230957,
          -28.33791732788086,
          122.85457611083984,
          -34.529842376708984,
          -23.44236946105957,
          -33.955936431884766,
          -32.85778045654297
         ],
         "xaxis": "x",
         "y": [
          -12.344850540161133,
          -17.053281784057617,
          -20.362512588500977,
          -13.281257629394531,
          -17.51402473449707,
          7.543071746826172,
          -25.330074310302734,
          -13.714485168457031,
          -12.090628623962402,
          7.24637508392334,
          -2.973273515701294,
          -6.713394641876221,
          -25.645496368408203,
          -26.52997589111328,
          2.4091973304748535,
          11.69304084777832,
          -27.649715423583984,
          68.33967590332031,
          -31.39252281188965,
          -4.3636603355407715,
          -53.541587829589844,
          -18.8730525970459,
          4.555656433105469,
          89.41930389404297,
          -8.098678588867188,
          -8.21358871459961,
          15.121596336364746,
          5.890617847442627,
          9.227190017700195,
          -5.211179733276367
         ],
         "yaxis": "y"
        },
        {
         "customdata": [
          [
           "threat"
          ],
          [
           "vaccines"
          ],
          [
           "vitro"
          ],
          [
           "diagnostic"
          ],
          [
           "strategies"
          ],
          [
           "test"
          ],
          [
           "vaccination"
          ],
          [
           "lessons"
          ],
          [
           "preparedness"
          ],
          [
           "crisis"
          ],
          [
           "outbreaks"
          ],
          [
           "getting"
          ],
          [
           "combat"
          ],
          [
           "context"
          ],
          [
           "modernising"
          ],
          [
           "supporting"
          ],
          [
           "winter"
          ],
          [
           "interoperable"
          ],
          [
           "coronavirus"
          ],
          [
           "learned"
          ],
          [
           "unintended"
          ],
          [
           "get"
          ],
          [
           "consequence"
          ],
          [
           "com2020)0233"
          ],
          [
           "follow"
          ],
          [
           "endofserie"
          ],
          [
           "consequences"
          ],
          [
           "tests"
          ],
          [
           "pandemic"
          ],
          [
           "postpandemic"
          ]
         ],
         "hovertemplate": "word_cluster=vaccine<br>X=%{x}<br>Y=%{y}<br>word=%{customdata[0]}<extra></extra>",
         "legendgroup": "vaccine",
         "marker": {
          "color": "#19d3f3",
          "symbol": "circle"
         },
         "mode": "markers",
         "name": "vaccine",
         "orientation": "v",
         "showlegend": true,
         "type": "scatter",
         "x": [
          53.278236389160156,
          42.9937629699707,
          47.171878814697266,
          46.703163146972656,
          -34.75041198730469,
          72.62261199951172,
          68.3768081665039,
          -39.63036346435547,
          42.371742248535156,
          125.23184204101562,
          -46.16096878051758,
          -43.8277587890625,
          54.99972152709961,
          116.33369445800781,
          89.55226135253906,
          91.71115112304688,
          -40.735877990722656,
          51.559661865234375,
          85.39065551757812,
          -49.141658782958984,
          34.651885986328125,
          -56.1409912109375,
          45.341346740722656,
          -26.292943954467773,
          104.52166748046875,
          -44.88345718383789,
          77.88628387451172,
          10.033164978027344,
          129.1544952392578,
          -24.428577423095703
         ],
         "xaxis": "x",
         "y": [
          -27.649715423583984,
          -31.968921661376953,
          -32.75144958496094,
          -29.172468185424805,
          -31.88361358642578,
          -23.660297393798828,
          -28.642791748046875,
          -34.19401550292969,
          -23.979097366333008,
          -13.50623607635498,
          -39.08831787109375,
          -42.25465774536133,
          -33.638710021972656,
          -15.054039001464844,
          -28.999794006347656,
          -26.763181686401367,
          -38.863990783691406,
          -19.014720916748047,
          -17.43232536315918,
          -43.16388702392578,
          -10.901762962341309,
          -58.5105094909668,
          -12.214594841003418,
          -5.823533535003662,
          -18.8730525970459,
          -46.693416595458984,
          -12.122048377990723,
          93.65900421142578,
          -10.419921875,
          -11.077350616455078
         ],
         "yaxis": "y"
        },
        {
         "customdata": [
          [
           "supplementing"
          ],
          [
           "accompanying"
          ],
          [
           "document"
          ],
          [
           "enhanced"
          ],
          [
           "2020/1956"
          ],
          [
           "2020/1856"
          ],
          [
           "proposal"
          ],
          [
           "2016/425"
          ],
          [
           "2019/1743"
          ],
          [
           "ep"
          ],
          [
           "cnmse"
          ],
          [
           "empowering"
          ],
          [
           "2021/752"
          ],
          [
           "2021/174"
          ],
          [
           "2020/1853"
          ],
          [
           "central"
          ],
          [
           "approval"
          ],
          [
           "council"
          ],
          [
           "2020/700"
          ],
          [
           "1/2021"
          ],
          [
           "2021/177"
          ],
          [
           "2020/1852"
          ],
          [
           "2021/886"
          ],
          [
           "["
          ],
          [
           "2020/560"
          ],
          [
           "bmc"
          ],
          [
           "2020/1042"
          ],
          [
           "2020/2228"
          ],
          [
           "2020/1027"
          ],
          [
           "2018/2066"
          ]
         ],
         "hovertemplate": "word_cluster=commission<br>X=%{x}<br>Y=%{y}<br>word=%{customdata[0]}<extra></extra>",
         "legendgroup": "commission",
         "marker": {
          "color": "#FF6692",
          "symbol": "circle"
         },
         "mode": "markers",
         "name": "commission",
         "orientation": "v",
         "showlegend": true,
         "type": "scatter",
         "x": [
          22.560606002807617,
          118.9183578491211,
          115.07698822021484,
          -98.23658752441406,
          -58.65211868286133,
          -53.12113571166992,
          161.5560760498047,
          -47.977699279785156,
          -69.44245147705078,
          -93.88809967041016,
          -60.92961883544922,
          -55.277862548828125,
          -28.362899780273438,
          -71.39651489257812,
          -60.05474090576172,
          117.07001495361328,
          125.51543426513672,
          160.2900390625,
          -54.19084548950195,
          -30.437685012817383,
          -50.78740310668945,
          -57.08198547363281,
          -47.04615783691406,
          121.0878677368164,
          -40.39231491088867,
          -60.937652587890625,
          -37.15501403808594,
          -55.3668212890625,
          -47.37507247924805,
          -49.990386962890625
         ],
         "xaxis": "x",
         "y": [
          -141.74057006835938,
          24.00447654724121,
          23.385454177856445,
          98.70188903808594,
          -118.82254791259766,
          -130.34425354003906,
          -73.88612365722656,
          -123.51666259765625,
          -121.8768310546875,
          97.46045684814453,
          -124.32061004638672,
          -110.19139862060547,
          -85.5857162475586,
          -118.3693618774414,
          -131.23043823242188,
          39.52001953125,
          23.53410530090332,
          -70.47185516357422,
          -117.5523452758789,
          -80.70386505126953,
          -127.13554382324219,
          -126.85071563720703,
          -130.61102294921875,
          35.01191329956055,
          -125.27912139892578,
          -109.85861206054688,
          -133.25933837890625,
          -121.76429748535156,
          -118.30448913574219,
          -115.03291320800781
         ],
         "yaxis": "y"
        }
       ],
       "layout": {
        "legend": {
         "title": {
          "text": "word_cluster"
         },
         "tracegroupgap": 0
        },
        "margin": {
         "t": 60
        },
        "template": {
         "data": {
          "bar": [
           {
            "error_x": {
             "color": "#2a3f5f"
            },
            "error_y": {
             "color": "#2a3f5f"
            },
            "marker": {
             "line": {
              "color": "#E5ECF6",
              "width": 0.5
             },
             "pattern": {
              "fillmode": "overlay",
              "size": 10,
              "solidity": 0.2
             }
            },
            "type": "bar"
           }
          ],
          "barpolar": [
           {
            "marker": {
             "line": {
              "color": "#E5ECF6",
              "width": 0.5
             },
             "pattern": {
              "fillmode": "overlay",
              "size": 10,
              "solidity": 0.2
             }
            },
            "type": "barpolar"
           }
          ],
          "carpet": [
           {
            "aaxis": {
             "endlinecolor": "#2a3f5f",
             "gridcolor": "white",
             "linecolor": "white",
             "minorgridcolor": "white",
             "startlinecolor": "#2a3f5f"
            },
            "baxis": {
             "endlinecolor": "#2a3f5f",
             "gridcolor": "white",
             "linecolor": "white",
             "minorgridcolor": "white",
             "startlinecolor": "#2a3f5f"
            },
            "type": "carpet"
           }
          ],
          "choropleth": [
           {
            "colorbar": {
             "outlinewidth": 0,
             "ticks": ""
            },
            "type": "choropleth"
           }
          ],
          "contour": [
           {
            "colorbar": {
             "outlinewidth": 0,
             "ticks": ""
            },
            "colorscale": [
             [
              0.0,
              "#0d0887"
             ],
             [
              0.1111111111111111,
              "#46039f"
             ],
             [
              0.2222222222222222,
              "#7201a8"
             ],
             [
              0.3333333333333333,
              "#9c179e"
             ],
             [
              0.4444444444444444,
              "#bd3786"
             ],
             [
              0.5555555555555556,
              "#d8576b"
             ],
             [
              0.6666666666666666,
              "#ed7953"
             ],
             [
              0.7777777777777778,
              "#fb9f3a"
             ],
             [
              0.8888888888888888,
              "#fdca26"
             ],
             [
              1.0,
              "#f0f921"
             ]
            ],
            "type": "contour"
           }
          ],
          "contourcarpet": [
           {
            "colorbar": {
             "outlinewidth": 0,
             "ticks": ""
            },
            "type": "contourcarpet"
           }
          ],
          "heatmap": [
           {
            "colorbar": {
             "outlinewidth": 0,
             "ticks": ""
            },
            "colorscale": [
             [
              0.0,
              "#0d0887"
             ],
             [
              0.1111111111111111,
              "#46039f"
             ],
             [
              0.2222222222222222,
              "#7201a8"
             ],
             [
              0.3333333333333333,
              "#9c179e"
             ],
             [
              0.4444444444444444,
              "#bd3786"
             ],
             [
              0.5555555555555556,
              "#d8576b"
             ],
             [
              0.6666666666666666,
              "#ed7953"
             ],
             [
              0.7777777777777778,
              "#fb9f3a"
             ],
             [
              0.8888888888888888,
              "#fdca26"
             ],
             [
              1.0,
              "#f0f921"
             ]
            ],
            "type": "heatmap"
           }
          ],
          "heatmapgl": [
           {
            "colorbar": {
             "outlinewidth": 0,
             "ticks": ""
            },
            "colorscale": [
             [
              0.0,
              "#0d0887"
             ],
             [
              0.1111111111111111,
              "#46039f"
             ],
             [
              0.2222222222222222,
              "#7201a8"
             ],
             [
              0.3333333333333333,
              "#9c179e"
             ],
             [
              0.4444444444444444,
              "#bd3786"
             ],
             [
              0.5555555555555556,
              "#d8576b"
             ],
             [
              0.6666666666666666,
              "#ed7953"
             ],
             [
              0.7777777777777778,
              "#fb9f3a"
             ],
             [
              0.8888888888888888,
              "#fdca26"
             ],
             [
              1.0,
              "#f0f921"
             ]
            ],
            "type": "heatmapgl"
           }
          ],
          "histogram": [
           {
            "marker": {
             "pattern": {
              "fillmode": "overlay",
              "size": 10,
              "solidity": 0.2
             }
            },
            "type": "histogram"
           }
          ],
          "histogram2d": [
           {
            "colorbar": {
             "outlinewidth": 0,
             "ticks": ""
            },
            "colorscale": [
             [
              0.0,
              "#0d0887"
             ],
             [
              0.1111111111111111,
              "#46039f"
             ],
             [
              0.2222222222222222,
              "#7201a8"
             ],
             [
              0.3333333333333333,
              "#9c179e"
             ],
             [
              0.4444444444444444,
              "#bd3786"
             ],
             [
              0.5555555555555556,
              "#d8576b"
             ],
             [
              0.6666666666666666,
              "#ed7953"
             ],
             [
              0.7777777777777778,
              "#fb9f3a"
             ],
             [
              0.8888888888888888,
              "#fdca26"
             ],
             [
              1.0,
              "#f0f921"
             ]
            ],
            "type": "histogram2d"
           }
          ],
          "histogram2dcontour": [
           {
            "colorbar": {
             "outlinewidth": 0,
             "ticks": ""
            },
            "colorscale": [
             [
              0.0,
              "#0d0887"
             ],
             [
              0.1111111111111111,
              "#46039f"
             ],
             [
              0.2222222222222222,
              "#7201a8"
             ],
             [
              0.3333333333333333,
              "#9c179e"
             ],
             [
              0.4444444444444444,
              "#bd3786"
             ],
             [
              0.5555555555555556,
              "#d8576b"
             ],
             [
              0.6666666666666666,
              "#ed7953"
             ],
             [
              0.7777777777777778,
              "#fb9f3a"
             ],
             [
              0.8888888888888888,
              "#fdca26"
             ],
             [
              1.0,
              "#f0f921"
             ]
            ],
            "type": "histogram2dcontour"
           }
          ],
          "mesh3d": [
           {
            "colorbar": {
             "outlinewidth": 0,
             "ticks": ""
            },
            "type": "mesh3d"
           }
          ],
          "parcoords": [
           {
            "line": {
             "colorbar": {
              "outlinewidth": 0,
              "ticks": ""
             }
            },
            "type": "parcoords"
           }
          ],
          "pie": [
           {
            "automargin": true,
            "type": "pie"
           }
          ],
          "scatter": [
           {
            "marker": {
             "colorbar": {
              "outlinewidth": 0,
              "ticks": ""
             }
            },
            "type": "scatter"
           }
          ],
          "scatter3d": [
           {
            "line": {
             "colorbar": {
              "outlinewidth": 0,
              "ticks": ""
             }
            },
            "marker": {
             "colorbar": {
              "outlinewidth": 0,
              "ticks": ""
             }
            },
            "type": "scatter3d"
           }
          ],
          "scattercarpet": [
           {
            "marker": {
             "colorbar": {
              "outlinewidth": 0,
              "ticks": ""
             }
            },
            "type": "scattercarpet"
           }
          ],
          "scattergeo": [
           {
            "marker": {
             "colorbar": {
              "outlinewidth": 0,
              "ticks": ""
             }
            },
            "type": "scattergeo"
           }
          ],
          "scattergl": [
           {
            "marker": {
             "colorbar": {
              "outlinewidth": 0,
              "ticks": ""
             }
            },
            "type": "scattergl"
           }
          ],
          "scattermapbox": [
           {
            "marker": {
             "colorbar": {
              "outlinewidth": 0,
              "ticks": ""
             }
            },
            "type": "scattermapbox"
           }
          ],
          "scatterpolar": [
           {
            "marker": {
             "colorbar": {
              "outlinewidth": 0,
              "ticks": ""
             }
            },
            "type": "scatterpolar"
           }
          ],
          "scatterpolargl": [
           {
            "marker": {
             "colorbar": {
              "outlinewidth": 0,
              "ticks": ""
             }
            },
            "type": "scatterpolargl"
           }
          ],
          "scatterternary": [
           {
            "marker": {
             "colorbar": {
              "outlinewidth": 0,
              "ticks": ""
             }
            },
            "type": "scatterternary"
           }
          ],
          "surface": [
           {
            "colorbar": {
             "outlinewidth": 0,
             "ticks": ""
            },
            "colorscale": [
             [
              0.0,
              "#0d0887"
             ],
             [
              0.1111111111111111,
              "#46039f"
             ],
             [
              0.2222222222222222,
              "#7201a8"
             ],
             [
              0.3333333333333333,
              "#9c179e"
             ],
             [
              0.4444444444444444,
              "#bd3786"
             ],
             [
              0.5555555555555556,
              "#d8576b"
             ],
             [
              0.6666666666666666,
              "#ed7953"
             ],
             [
              0.7777777777777778,
              "#fb9f3a"
             ],
             [
              0.8888888888888888,
              "#fdca26"
             ],
             [
              1.0,
              "#f0f921"
             ]
            ],
            "type": "surface"
           }
          ],
          "table": [
           {
            "cells": {
             "fill": {
              "color": "#EBF0F8"
             },
             "line": {
              "color": "white"
             }
            },
            "header": {
             "fill": {
              "color": "#C8D4E3"
             },
             "line": {
              "color": "white"
             }
            },
            "type": "table"
           }
          ]
         },
         "layout": {
          "annotationdefaults": {
           "arrowcolor": "#2a3f5f",
           "arrowhead": 0,
           "arrowwidth": 1
          },
          "autotypenumbers": "strict",
          "coloraxis": {
           "colorbar": {
            "outlinewidth": 0,
            "ticks": ""
           }
          },
          "colorscale": {
           "diverging": [
            [
             0,
             "#8e0152"
            ],
            [
             0.1,
             "#c51b7d"
            ],
            [
             0.2,
             "#de77ae"
            ],
            [
             0.3,
             "#f1b6da"
            ],
            [
             0.4,
             "#fde0ef"
            ],
            [
             0.5,
             "#f7f7f7"
            ],
            [
             0.6,
             "#e6f5d0"
            ],
            [
             0.7,
             "#b8e186"
            ],
            [
             0.8,
             "#7fbc41"
            ],
            [
             0.9,
             "#4d9221"
            ],
            [
             1,
             "#276419"
            ]
           ],
           "sequential": [
            [
             0.0,
             "#0d0887"
            ],
            [
             0.1111111111111111,
             "#46039f"
            ],
            [
             0.2222222222222222,
             "#7201a8"
            ],
            [
             0.3333333333333333,
             "#9c179e"
            ],
            [
             0.4444444444444444,
             "#bd3786"
            ],
            [
             0.5555555555555556,
             "#d8576b"
            ],
            [
             0.6666666666666666,
             "#ed7953"
            ],
            [
             0.7777777777777778,
             "#fb9f3a"
            ],
            [
             0.8888888888888888,
             "#fdca26"
            ],
            [
             1.0,
             "#f0f921"
            ]
           ],
           "sequentialminus": [
            [
             0.0,
             "#0d0887"
            ],
            [
             0.1111111111111111,
             "#46039f"
            ],
            [
             0.2222222222222222,
             "#7201a8"
            ],
            [
             0.3333333333333333,
             "#9c179e"
            ],
            [
             0.4444444444444444,
             "#bd3786"
            ],
            [
             0.5555555555555556,
             "#d8576b"
            ],
            [
             0.6666666666666666,
             "#ed7953"
            ],
            [
             0.7777777777777778,
             "#fb9f3a"
            ],
            [
             0.8888888888888888,
             "#fdca26"
            ],
            [
             1.0,
             "#f0f921"
            ]
           ]
          },
          "colorway": [
           "#636efa",
           "#EF553B",
           "#00cc96",
           "#ab63fa",
           "#FFA15A",
           "#19d3f3",
           "#FF6692",
           "#B6E880",
           "#FF97FF",
           "#FECB52"
          ],
          "font": {
           "color": "#2a3f5f"
          },
          "geo": {
           "bgcolor": "white",
           "lakecolor": "white",
           "landcolor": "#E5ECF6",
           "showlakes": true,
           "showland": true,
           "subunitcolor": "white"
          },
          "hoverlabel": {
           "align": "left"
          },
          "hovermode": "closest",
          "mapbox": {
           "style": "light"
          },
          "paper_bgcolor": "white",
          "plot_bgcolor": "#E5ECF6",
          "polar": {
           "angularaxis": {
            "gridcolor": "white",
            "linecolor": "white",
            "ticks": ""
           },
           "bgcolor": "#E5ECF6",
           "radialaxis": {
            "gridcolor": "white",
            "linecolor": "white",
            "ticks": ""
           }
          },
          "scene": {
           "xaxis": {
            "backgroundcolor": "#E5ECF6",
            "gridcolor": "white",
            "gridwidth": 2,
            "linecolor": "white",
            "showbackground": true,
            "ticks": "",
            "zerolinecolor": "white"
           },
           "yaxis": {
            "backgroundcolor": "#E5ECF6",
            "gridcolor": "white",
            "gridwidth": 2,
            "linecolor": "white",
            "showbackground": true,
            "ticks": "",
            "zerolinecolor": "white"
           },
           "zaxis": {
            "backgroundcolor": "#E5ECF6",
            "gridcolor": "white",
            "gridwidth": 2,
            "linecolor": "white",
            "showbackground": true,
            "ticks": "",
            "zerolinecolor": "white"
           }
          },
          "shapedefaults": {
           "line": {
            "color": "#2a3f5f"
           }
          },
          "ternary": {
           "aaxis": {
            "gridcolor": "white",
            "linecolor": "white",
            "ticks": ""
           },
           "baxis": {
            "gridcolor": "white",
            "linecolor": "white",
            "ticks": ""
           },
           "bgcolor": "#E5ECF6",
           "caxis": {
            "gridcolor": "white",
            "linecolor": "white",
            "ticks": ""
           }
          },
          "title": {
           "x": 0.05
          },
          "xaxis": {
           "automargin": true,
           "gridcolor": "white",
           "linecolor": "white",
           "ticks": "",
           "title": {
            "standoff": 15
           },
           "zerolinecolor": "white",
           "zerolinewidth": 2
          },
          "yaxis": {
           "automargin": true,
           "gridcolor": "white",
           "linecolor": "white",
           "ticks": "",
           "title": {
            "standoff": 15
           },
           "zerolinecolor": "white",
           "zerolinewidth": 2
          }
         }
        },
        "xaxis": {
         "anchor": "y",
         "domain": [
          0.0,
          1.0
         ],
         "title": {
          "text": "X"
         }
        },
        "yaxis": {
         "anchor": "x",
         "domain": [
          0.0,
          1.0
         ],
         "title": {
          "text": "Y"
         }
        }
       }
      },
      "text/html": "<div>                            <div id=\"27e6175b-2a99-4ce4-a43b-80c1425ea8df\" class=\"plotly-graph-div\" style=\"height:525px; width:100%;\"></div>            <script type=\"text/javascript\">                require([\"plotly\"], function(Plotly) {                    window.PLOTLYENV=window.PLOTLYENV || {};                                    if (document.getElementById(\"27e6175b-2a99-4ce4-a43b-80c1425ea8df\")) {                    Plotly.newPlot(                        \"27e6175b-2a99-4ce4-a43b-80c1425ea8df\",                        [{\"customdata\":[[\"aviation\"],[\"force\"],[\"euromediterranean\"],[\"islamic\"],[\"maldives\"],[\"entry\"],[\"america\"],[\"bosniaherzegovina\"],[\"established\"],[\"armenia\"],[\"provisional\"],[\"government\"],[\"union\"],[\"2020/2\"],[\"community\"],[\"taken\"],[\"australia\"],[\"international\"],[\"protocol\"],[\"kyrgyz\"],[\"yugoslav\"],[\"representative\"],[\"organization\"],[\"lebanon\"],[\"panama\"],[\"take\"],[\"ministers\"],[\"area\"],[\"atomic\"],[\"kingdom\"]],\"hovertemplate\":\"word_cluster=agreement<br>X=%{x}<br>Y=%{y}<br>word=%{customdata[0]}<extra></extra>\",\"legendgroup\":\"agreement\",\"marker\":{\"color\":\"#636efa\",\"symbol\":\"circle\"},\"mode\":\"markers\",\"name\":\"agreement\",\"orientation\":\"v\",\"showlegend\":true,\"type\":\"scatter\",\"x\":[98.3201904296875,100.64070892333984,94.56920623779297,-98.16263580322266,-102.72402954101562,100.25191497802734,-8.791502952575684,-106.18817138671875,89.92586517333984,-95.80022430419922,-98.75479125976562,91.89665985107422,103.07406616210938,-92.57611846923828,91.15591430664062,9.266359329223633,-6.04966926574707,89.64043426513672,5.4883952140808105,-102.93614959716797,-97.87530517578125,-5.326406002044678,-1.0504019260406494,-106.70809173583984,-102.39532470703125,3.7251670360565186,-107.40813446044922,92.67221069335938,-6.255488395690918,89.00942993164062],\"xaxis\":\"x\",\"y\":[87.3263931274414,91.99771881103516,74.25443267822266,-29.671504974365234,-31.836828231811523,95.14990234375,53.80088424682617,-28.734298706054688,70.6607437133789,-12.426464080810547,-15.537693977355957,83.78934478759766,81.12472534179688,-22.954872131347656,102.44915008544922,56.801918029785156,55.331111907958984,79.19573974609375,52.1779899597168,-22.475317001342773,-24.680830001831055,28.99693489074707,57.433189392089844,-33.13969039916992,-26.52372932434082,57.248046875,-23.716028213500977,90.95126342773438,62.02859115600586,90.63662719726562],\"yaxis\":\"y\"},{\"customdata\":[[\"directia\"],[\"prescribe\"],[\"manufactured\"],[\"colead\"],[\"sibiu\"],[\"offences\"],[\"infortuni\"],[\"cockpit\"],[\"25hour\"],[\"crisismanagement\"],[\"regionala\"],[\"ordinary\"],[\"preparations\"],[\"publice\"],[\"interbancario\"],[\"azioni\"],[\"egg\"],[\"molluscs\"],[\"bousdekis\"],[\"kai\"],[\"missions\"],[\"judges\"],[\"s.\"],[\"purpose\"],[\"functions\"],[\"laboratoire\"],[\"hiv\"],[\"continuing\"],[\"fondo\"],[\"applied\"]],\"hovertemplate\":\"word_cluster=companies<br>X=%{x}<br>Y=%{y}<br>word=%{customdata[0]}<extra></extra>\",\"legendgroup\":\"companies\",\"marker\":{\"color\":\"#EF553B\",\"symbol\":\"circle\"},\"mode\":\"markers\",\"name\":\"companies\",\"orientation\":\"v\",\"showlegend\":true,\"type\":\"scatter\",\"x\":[-24.927942276000977,-42.50441360473633,-51.6591796875,-14.078298568725586,-22.956262588500977,7.013542652130127,-14.304269790649414,-0.7938944697380066,3.041332244873047,-56.87025451660156,-42.739601135253906,-36.934722900390625,-53.01715087890625,11.276719093322754,-8.715578079223633,-34.25836944580078,-40.86378479003906,-12.246752738952637,-17.258544921875,-38.012298583984375,-79.888916015625,-60.94944381713867,-57.465614318847656,17.97661590576172,-56.287498474121094,2.9000134468078613,-32.453514099121094,-48.048282623291016,-39.482200622558594,-6.9891815185546875],\"xaxis\":\"x\",\"y\":[110.0490951538086,111.84368896484375,101.4804916381836,109.61883544921875,113.16738891601562,107.22370147705078,119.13416290283203,110.08587646484375,110.60192108154297,93.32496643066406,107.20236206054688,111.35236358642578,96.14100646972656,109.35255432128906,117.0893783569336,115.11263275146484,103.02274322509766,113.81050109863281,113.53125,107.08404541015625,84.47419738769531,95.6760025024414,97.92526245117188,110.52133178710938,102.26031494140625,105.68645477294922,109.40523529052734,106.31065368652344,116.5799331665039,111.69055938720703],\"yaxis\":\"y\"},{\"customdata\":[[\"freedom\"],[\"worker\"],[\"treatment\"],[\"goods\"],[\"other\"],[\"definition\"],[\"pensioner\"],[\"lively\"],[\"movement\"],[\"supply\"],[\"affected\"],[\"discrimination\"],[\"essential\"],[\"sharing\"],[\"delay\"],[\"overriding\"],[\"influence\"],[\"deduct\"],[\"schengen\"],[\"major\"],[\"officially\"],[\"96\"],[\"plant\"],[\"consideration\"],[\"long\"],[\"produce\"],[\"public\"],[\"event\"],[\"flight\"],[\"affect\"]],\"hovertemplate\":\"word_cluster=workers<br>X=%{x}<br>Y=%{y}<br>word=%{customdata[0]}<extra></extra>\",\"legendgroup\":\"workers\",\"marker\":{\"color\":\"#00cc96\",\"symbol\":\"circle\"},\"mode\":\"markers\",\"name\":\"workers\",\"orientation\":\"v\",\"showlegend\":true,\"type\":\"scatter\",\"x\":[64.76457977294922,49.18301773071289,52.01263427734375,44.993614196777344,-27.774763107299805,-32.6197624206543,-82.36705780029297,-66.7302017211914,62.73573684692383,39.53823471069336,-26.698945999145508,-62.41298294067383,-40.284549713134766,-79.03772735595703,46.838191986083984,-64.97090148925781,-72.63761901855469,-78.36449432373047,-23.51744842529297,16.939144134521484,-54.19785690307617,-67.18653106689453,51.97876739501953,-97.09898376464844,29.576932907104492,-79.27802276611328,78.79632568359375,49.50778579711914,33.450645446777344,-61.88768768310547],\"xaxis\":\"x\",\"y\":[109.34259033203125,108.28617095947266,112.58423614501953,105.1741943359375,49.267494201660156,46.946903228759766,6.60375452041626,12.236371994018555,112.16913604736328,102.88111877441406,55.27583694458008,61.26600646972656,48.487648010253906,18.094797134399414,113.20043182373047,25.00710105895996,11.255997657775879,12.452631950378418,56.01559066772461,84.73838806152344,14.357298851013184,57.85451126098633,103.37344360351562,14.85447883605957,104.9195785522461,-0.47961854934692383,111.92778778076172,115.83131408691406,104.85179901123047,13.587698936462402],\"yaxis\":\"y\"},{\"customdata\":[[\"measure\"],[\"exceptional\"],[\"persistence\"],[\"adapting\"],[\"diagnoses\"],[\"address\"],[\"lcategory\"],[\"difficulties\"],[\"travel\"],[\"endofseries\"],[\"connection\"],[\"securitisation\"],[\"'cause\"],[\"2019/779\"],[\"developments\"],[\"creation\"],[\"difficulty\"],[\"current\"],[\"nonessential\"],[\"com2020)0178\"],[\"exempted\"],[\"restrictive\"],[\"potato\"],[\"grant\"],[\"acceptance\"],[\"period\"],[\"adaptations\"],[\"protective\"],[\"renewal\"],[\"meetings\"]],\"hovertemplate\":\"word_cluster=measures<br>X=%{x}<br>Y=%{y}<br>word=%{customdata[0]}<extra></extra>\",\"legendgroup\":\"measures\",\"marker\":{\"color\":\"#ab63fa\",\"symbol\":\"circle\"},\"mode\":\"markers\",\"name\":\"measures\",\"orientation\":\"v\",\"showlegend\":true,\"type\":\"scatter\",\"x\":[120.68671417236328,112.27032470703125,114.28096771240234,-49.56459426879883,-57.53917694091797,111.40421295166016,-4.97901725769043,55.92192077636719,123.94735717773438,-15.015332221984863,-14.769192695617676,82.3309326171875,57.88436508178711,-44.79816436767578,-48.297183990478516,43.2497444152832,49.98523712158203,69.1946792602539,128.75340270996094,-37.29017639160156,-62.3397216796875,-12.51329231262207,-56.26283264160156,125.04867553710938,56.492095947265625,115.6675796508789,-65.79996490478516,-1.4075549840927124,117.8408432006836,-62.03096008300781],\"xaxis\":\"x\",\"y\":[-35.65090560913086,-40.1177864074707,-31.295408248901367,-69.97398376464844,-73.46379089355469,-37.02595520019531,-38.435546875,-59.41455841064453,-41.72335433959961,-45.01084899902344,-34.97745895385742,13.12022876739502,-45.95746994018555,-83.76309967041016,-72.99130249023438,-50.056175231933594,-48.33589553833008,-53.293434143066406,-44.53127670288086,-50.38209533691406,-71.08515167236328,-50.60204315185547,-63.35858154296875,-58.37653350830078,-8.461665153503418,-44.93914031982422,-76.4905776977539,-43.75715255737305,-27.31886863708496,-91.8702392578125],\"yaxis\":\"y\"},{\"customdata\":[[\"specific\"],[\"granting\"],[\"ecb/2014/31\"],[\"1305/2013\"],[\"support\"],[\"2020/977\"],[\"view\"],[\"2020/1253\"],[\"2021/521\"],[\"897/2014\"],[\"2020/1355\"],[\"read\"],[\"2021/605\"],[\"extending\"],[\"laying\"],[\"2020/1342\"],[\"nonessential\"],[\"reading\"],[\"extend\"],[\"223/2014\"],[\"2020/1345\"],[\"168/2013\"],[\"23/2021\"],[\"95/93\"],[\"2020/912\"],[\"renewing\"],[\"2020/1659\"],[\"2020/1352\"],[\"1311/2013\"],[\"no1303/2013\"]],\"hovertemplate\":\"word_cluster=temporary<br>X=%{x}<br>Y=%{y}<br>word=%{customdata[0]}<extra></extra>\",\"legendgroup\":\"temporary\",\"marker\":{\"color\":\"#FFA15A\",\"symbol\":\"circle\"},\"mode\":\"markers\",\"name\":\"temporary\",\"orientation\":\"v\",\"showlegend\":true,\"type\":\"scatter\",\"x\":[159.26034545898438,136.75848388671875,28.1949405670166,17.936412811279297,146.76821899414062,4.950581073760986,171.27008056640625,2.553176164627075,10.658008575439453,-45.341732025146484,-40.89371871948242,75.62899017333984,-41.18311309814453,37.62937545776367,160.85025024414062,19.83579444885254,124.64585876464844,166.5648956298828,32.66914367675781,21.987098693847656,-38.1343879699707,12.564233779907227,0.0783042386174202,28.718690872192383,42.351905822753906,26.709856033325195,7.7448811531066895,14.154603958129883,24.20109748840332,11.18950366973877],\"xaxis\":\"x\",\"y\":[-57.30829620361328,-53.46498107910156,-118.77052307128906,-135.24119567871094,-37.557857513427734,-124.83644104003906,-55.982852935791016,-129.94625854492188,-124.33011627197266,-89.91854095458984,-107.49429321289062,21.708484649658203,-114.17842102050781,-111.09175872802734,-62.386558532714844,-108.43250274658203,-46.86295700073242,-65.10657501220703,-112.3937759399414,-133.84979248046875,-111.63877868652344,-136.22337341308594,-154.0146484375,-132.98321533203125,-108.69788360595703,-108.5467758178711,-127.50387573242188,-110.48754119873047,-129.5380401611328,-130.03533935546875],\"yaxis\":\"y\"},{\"customdata\":[[\"economic\"],[\"committee\"],[\"regions\"],[\"concepts\"],[\"affairs\"],[\"region\"],[\"plus\"],[\"committe\"],[\"esf+\"],[\"investment\"],[\"monetary\"],[\"joint\"],[\"opinion\"],[\"regional\"],[\"established\"],[\"fund\"],[\"fairness\"],[\"constitutional\"],[\"funding\"],[\"revised\"],[\"brain\"],[\"dues\"],[\"guide\"],[\"defence\"],[\"considerations\"],[\"important\"],[\"srb\"],[\"sustainable\"],[\"cities\"],[\"20102020\"]],\"hovertemplate\":\"word_cluster=social<br>X=%{x}<br>Y=%{y}<br>word=%{customdata[0]}<extra></extra>\",\"legendgroup\":\"social\",\"marker\":{\"color\":\"#19d3f3\",\"symbol\":\"circle\"},\"mode\":\"markers\",\"name\":\"social\",\"orientation\":\"v\",\"showlegend\":true,\"type\":\"scatter\",\"x\":[117.77191162109375,114.91023254394531,110.1157455444336,-91.30196380615234,82.221435546875,106.98233795166016,75.14472198486328,-86.89930725097656,9.358297348022461,98.97088623046875,83.93225860595703,100.16788482666016,112.17121887207031,84.0126724243164,89.92586517333984,100.04290008544922,79.75130462646484,-86.76380920410156,-82.59523010253906,-74.26478576660156,-84.75350189208984,2.4408836364746094,-2.3892507553100586,65.2018814086914,-86.57402038574219,0.9199380278587341,-25.691234588623047,95.79085540771484,18.440479278564453,-6.867262840270996],\"xaxis\":\"x\",\"y\":[58.15290451049805,60.147438049316406,57.35825729370117,-69.20587158203125,47.31523895263672,55.89310836791992,42.28391647338867,-66.31621551513672,26.00641632080078,53.76626205444336,51.465049743652344,72.16070556640625,51.53470230102539,61.4926643371582,70.6607437133789,59.21014404296875,43.608489990234375,-69.93960571289062,-66.09061431884766,-111.30825805664062,-74.37522888183594,3.6903176307678223,8.139813423156738,40.05116653442383,-61.57426452636719,-14.201268196105957,-65.68959045410156,53.71468734741211,31.539901733398438,7.496053218841553],\"yaxis\":\"y\"},{\"customdata\":[[\"securitisation\"],[\"temporary\"],[\"2020/672\"],[\"instrument\"],[\"outreach\"],[\"granting\"],[\"ecb/2014/31\"],[\"distributions\"],[\"2017/809\"],[\"recovery\"],[\"2017/1252\"],[\"renew\"],[\"transparent\"],[\"2016/2383\"],[\"no8/2021\"],[\"2019/615\"],[\"help\"],[\"specific\"],[\"2020/1342\"],[\"897/2014\"],[\"grant\"],[\"view\"],[\"adaptations\"],[\"2019/779\"],[\"23/2021\"],[\"nonessential\"],[\"simple\"],[\"mitigate\"],[\"2020/1346\"],[\"mobilise\"],[\"securitisation\"],[\"temporary\"],[\"2020/672\"],[\"instrument\"],[\"outreach\"],[\"granting\"],[\"ecb/2014/31\"],[\"distributions\"],[\"2017/809\"],[\"recovery\"],[\"2017/1252\"],[\"renew\"],[\"transparent\"],[\"2016/2383\"],[\"no8/2021\"],[\"2019/615\"],[\"help\"],[\"specific\"],[\"2020/1342\"],[\"897/2014\"],[\"grant\"],[\"view\"],[\"adaptations\"],[\"2019/779\"],[\"23/2021\"],[\"nonessential\"],[\"simple\"],[\"mitigate\"],[\"2020/1346\"],[\"mobilise\"]],\"hovertemplate\":\"word_cluster=support<br>X=%{x}<br>Y=%{y}<br>word=%{customdata[0]}<extra></extra>\",\"legendgroup\":\"support\",\"marker\":{\"color\":\"#FF6692\",\"symbol\":\"circle\"},\"mode\":\"markers\",\"name\":\"support\",\"orientation\":\"v\",\"showlegend\":true,\"type\":\"scatter\",\"x\":[85.04521179199219,160.5741729736328,142.115478515625,91.19912719726562,-17.68421745300293,136.75848388671875,28.1949405670166,45.313316345214844,-39.608154296875,127.45846557617188,-32.34569549560547,-20.991024017333984,56.90766525268555,-22.477712631225586,-6.494816303253174,-27.790637969970703,77.17053985595703,163.19873046875,21.278106689453125,-48.41227722167969,125.04867553710938,169.0989532470703,-63.84855270385742,-44.79816436767578,-2.8436074256896973,128.75340270996094,69.64076232910156,140.0167236328125,16.379629135131836,37.36186218261719,81.3504638671875,163.4806671142578,144.73069763183594,89.05524444580078,-19.275529861450195,136.75848388671875,28.1949405670166,45.313316345214844,-42.42420959472656,130.27874755859375,-31.688718795776367,-21.990341186523438,58.094722747802734,-24.894628524780273,-9.576447486877441,-24.798341751098633,80.90089416503906,163.19873046875,19.83579444885254,-49.537540435791016,128.5813446044922,169.0989532470703,-59.751346588134766,-48.77217483520508,-3.6373188495635986,128.27491760253906,69.64076232910156,140.0167236328125,16.379629135131836,40.20545959472656],\"xaxis\":\"x\",\"y\":[10.404156684875488,-47.96243667602539,-33.887935638427734,18.243223190307617,-97.69110107421875,-53.46498107910156,-118.77052307128906,-127.36360168457031,-100.16143035888672,4.831207275390625,-102.14950561523438,-114.01396179199219,10.275118827819824,-101.36904907226562,-144.0790252685547,-94.57478332519531,-38.912376403808594,-57.641571044921875,-111.96783447265625,-92.4640121459961,-58.37653350830078,-52.4207878112793,-80.15878295898438,-83.76309967041016,-151.1331329345703,-44.53127670288086,12.290043830871582,-26.758939743041992,-116.44127655029297,9.636177062988281,9.450738906860352,-46.272987365722656,-32.12674331665039,20.481975555419922,-94.76998138427734,-53.46498107910156,-118.77052307128906,-127.36360168457031,-101.26837158203125,4.292301177978516,-105.04116821289062,-111.22529602050781,7.524870872497559,-99.05279541015625,-146.2695770263672,-93.111328125,-38.03463363647461,-57.641571044921875,-108.43250274658203,-88.72451782226562,-59.848915100097656,-52.4207878112793,-79.37181854248047,-82.99494171142578,-155.22732543945312,-48.87314987182617,12.290043830871582,-26.758939743041992,-116.44127655029297,10.22279167175293],\"yaxis\":\"y\"},{\"customdata\":[[\"covid\"],[\"2020/0069cod\"],[\"current\"],[\"help\"],[\"response\"],[\"difficulty\"],[\"lcategory\"],[\"com2020)0178\"],[\"connection\"],[\"intermediaries\"],[\"resurgence\"],[\"'cause\"],[\"reconstruction\"],[\"emergency\"],[\"context\"],[\"campaign\"],[\"difficulties\"],[\"endofseries\"],[\"186\"],[\"coronavirus\"],[\"com2020)0201\"],[\"adaptations\"],[\"fiscal\"],[\"prospectus\"],[\"com2020)0221\"],[\"following\"],[\"2019/788\"],[\"hera\"],[\"follow\"],[\"consequences\"]],\"hovertemplate\":\"word_cluster=covid19<br>X=%{x}<br>Y=%{y}<br>word=%{customdata[0]}<extra></extra>\",\"legendgroup\":\"covid19\",\"marker\":{\"color\":\"#B6E880\",\"symbol\":\"circle\"},\"mode\":\"markers\",\"name\":\"covid19\",\"orientation\":\"v\",\"showlegend\":true,\"type\":\"scatter\",\"x\":[62.9146842956543,-41.70267868041992,67.50444030761719,80.90089416503906,120.35149383544922,49.98523712158203,-4.97901725769043,-37.29017639160156,-17.722322463989258,-11.053370475769043,-50.929222106933594,57.88436508178711,-41.12421417236328,135.63475036621094,115.93569946289062,-48.72072219848633,56.26924514770508,-12.15615177154541,-46.7266731262207,81.95089721679688,-33.98992156982422,-61.91714859008789,-17.19911766052246,-9.764546394348145,-34.18906784057617,108.68771362304688,-27.47974395751953,-55.5822868347168,107.52918243408203,76.1109619140625],\"xaxis\":\"x\",\"y\":[-57.94055938720703,-52.09676742553711,-50.880123138427734,-38.03463363647461,-10.448699951171875,-48.33589553833008,-38.435546875,-50.38209533691406,-34.91930389404297,-28.21448516845703,-49.148826599121094,-45.95746994018555,-59.82490158081055,-22.024995803833008,-18.84404754638672,-29.06930923461914,-56.40755844116211,-44.71144485473633,-56.797828674316406,-17.896690368652344,-17.376291275024414,-76.16568756103516,-6.9805588722229,-24.12091064453125,-42.94632339477539,-15.113789558410645,-19.90559959411621,-44.80173110961914,-21.14365005493164,-15.515103340148926],\"yaxis\":\"y\"},{\"customdata\":[[\"essential\"],[\"sharing\"],[\"australian\"],[\"consideration\"],[\"cleaning\"],[\"service\"],[\"provider\"],[\"performed\"],[\"office\"],[\"prosecutor\"],[\"deduct\"],[\"ensure\"],[\"d'action\"],[\"airport\"],[\"services\"],[\"supply\"],[\"providers\"],[\"airports\"],[\"override\"],[\"overriding\"],[\"phaseout\"],[\"workers\"],[\"carry\"],[\"influence\"],[\"obligations\"],[\"standstill\"],[\"carriers\"],[\"border\"],[\"lively\"],[\"produce\"]],\"hovertemplate\":\"word_cluster=public<br>X=%{x}<br>Y=%{y}<br>word=%{customdata[0]}<extra></extra>\",\"legendgroup\":\"public\",\"marker\":{\"color\":\"#FF97FF\",\"symbol\":\"circle\"},\"mode\":\"markers\",\"name\":\"public\",\"orientation\":\"v\",\"showlegend\":true,\"type\":\"scatter\",\"x\":[-41.945640563964844,-79.03772735595703,-0.7491087317466736,-93.2939224243164,-71.9945297241211,84.2566909790039,-69.6522445678711,-75.08324432373047,-58.9991569519043,-60.029850006103516,-81.85064697265625,34.15258026123047,-45.317508697509766,-62.793357849121094,84.60839080810547,40.790950775146484,-79.05670166015625,-2.2773566246032715,-87.5462417602539,-64.97090148925781,-86.96678924560547,56.501155853271484,-32.1606559753418,-72.36226654052734,53.70105743408203,-94.04241943359375,0.3024776875972748,65.1935806274414,-67.22872161865234,-77.8826675415039],\"xaxis\":\"x\",\"y\":[50.9126091003418,18.094797134399414,75.12039947509766,15.148752212524414,25.726707458496094,114.26921081542969,40.38402557373047,35.511417388916016,37.38937759399414,29.466440200805664,13.526009559631348,92.0815658569336,46.02622985839844,42.87272644042969,110.24711608886719,100.09001159667969,25.317283630371094,70.89933013916016,1.7129751443862915,25.00710105895996,7.9088921546936035,109.44673156738281,55.70943069458008,7.834753513336182,119.74737548828125,5.4871039390563965,78.48448181152344,87.1717300415039,15.59007740020752,2.3349127769470215],\"yaxis\":\"y\"},{\"customdata\":[[\"reform\"],[\"uranium\"],[\"competence\"],[\"targets\"],[\"delivering\"],[\"centres\"],[\"network\"],[\"demonstration\"],[\"practice\"],[\"centre\"],[\"technological\"],[\"2021/961\"],[\"viral\"],[\"suffer\"],[\"czechia\"],[\"convergence\"],[\"257/2010\"],[\"thirdcountry\"],[\"vocational\"],[\"haemorrhagic\"],[\"traffic\"],[\"banks\"],[\"currency\"],[\"partly\"],[\"20212022\"],[\"ireland\"],[\"icelandic\"],[\"eradication\"],[\"operational\"],[\"septicaemia\"]],\"hovertemplate\":\"word_cluster=national<br>X=%{x}<br>Y=%{y}<br>word=%{customdata[0]}<extra></extra>\",\"legendgroup\":\"national\",\"marker\":{\"color\":\"#FECB52\",\"symbol\":\"circle\"},\"mode\":\"markers\",\"name\":\"national\",\"orientation\":\"v\",\"showlegend\":true,\"type\":\"scatter\",\"x\":[100.48180389404297,-73.96112823486328,71.83667755126953,-79.52234649658203,102.28121185302734,39.11919403076172,72.3285140991211,41.59908676147461,-25.530485153198242,74.414794921875,73.03234100341797,-76.38369750976562,-37.19669723510742,-73.12065124511719,37.177955627441406,42.62937927246094,-69.94959259033203,34.5448112487793,-32.65564727783203,-33.957881927490234,-72.31471252441406,1.631637454032898,-29.47705841064453,-67.65431213378906,-69.80501556396484,33.992191314697266,-62.06351852416992,38.19722366333008,-26.438283920288086,-33.64392852783203],\"xaxis\":\"x\",\"y\":[36.81895065307617,-42.134307861328125,68.16221618652344,-44.975563049316406,39.592384338378906,47.691925048828125,74.11155700683594,51.71733093261719,85.02855682373047,71.07027435302734,63.60670852661133,-37.87197494506836,84.20526885986328,-46.2325439453125,59.69513702392578,60.590641021728516,-40.880706787109375,52.5640869140625,74.61216735839844,82.06786346435547,80.95187377929688,-4.300803184509277,81.76710510253906,78.63990020751953,-30.884464263916016,63.12984848022461,77.52986145019531,40.805931091308594,79.05228424072266,85.84345245361328],\"yaxis\":\"y\"},{\"customdata\":[[\"reasons\"],[\"'s\"],[\"activation\"],[\"bridge\"],[\"decade\"],[\"no8/2021\"],[\"reason\"],[\"youth\"],[\"guideline\"],[\"reinforcing\"],[\"escape\"],[\"councils\"],[\"allocations\"],[\"jobs\"],[\"poverty\"],[\"8/2020\"],[\"5/2021\"],[\"recommendation\"],[\"reacteu\"],[\"roma\"],[\"plans\"],[\"humanitarian\"],[\"latvias\"],[\"call\"],[\"directorate\"],[\"c524/18\"],[\"18/2021\"],[\"assessment\"],[\"second\"],[\"position\"]],\"hovertemplate\":\"word_cluster=statement<br>X=%{x}<br>Y=%{y}<br>word=%{customdata[0]}<extra></extra>\",\"legendgroup\":\"statement\",\"marker\":{\"color\":\"#636efa\",\"symbol\":\"circle\"},\"mode\":\"markers\",\"name\":\"statement\",\"orientation\":\"v\",\"showlegend\":true,\"type\":\"scatter\",\"x\":[52.755401611328125,58.47874069213867,-30.781068801879883,31.003480911254883,14.851491928100586,-9.576447486877441,21.92790985107422,68.89151000976562,46.01603317260742,36.63142013549805,-32.622047424316406,-31.36636734008789,-16.04838752746582,65.80184173583984,-13.96703052520752,-0.0860084742307663,-7.709717750549316,107.22000122070312,39.52287292480469,-11.390732765197754,40.77939224243164,-16.173233032226562,-62.74549102783203,-15.36917495727539,11.20616340637207,-65.42328643798828,2.0107972621917725,122.50334167480469,72.10198211669922,169.880126953125],\"xaxis\":\"x\",\"y\":[25.19514274597168,27.537933349609375,-75.97994995117188,21.356929779052734,12.897035598754883,-146.2695770263672,16.966264724731445,30.522008895874023,18.07709312438965,23.641490936279297,-72.99378967285156,-111.91485595703125,-78.39289855957031,49.64754867553711,-76.20747375488281,-144.74954223632812,-152.383056640625,36.29290771484375,19.468589782714844,-108.01639556884766,37.257598876953125,-110.16082000732422,-55.756900787353516,-85.53125,6.688614845275879,-59.59844207763672,-149.2170867919922,26.723819732666016,25.766429901123047,-65.51818084716797],\"yaxis\":\"y\"},{\"customdata\":[[\"environment\"],[\"food\"],[\"protection\"],[\"safety\"],[\"data\"],[\"welfare\"],[\"intelligent\"],[\"feed\"],[\"enterprise\"],[\"ensure\"],[\"agriculture\"],[\"datum\"],[\"consideration\"],[\"mechanism\"],[\"office\"],[\"element\"],[\"com2020181\"],[\"management\"],[\"closely\"],[\"performed\"],[\"release\"],[\"public\"],[\"sustainability\"],[\"overriding\"],[\"cypriot\"],[\"corona\"],[\"security\"],[\"euus\"],[\"override\"],[\"toxicfree\"]],\"hovertemplate\":\"word_cluster=health<br>X=%{x}<br>Y=%{y}<br>word=%{customdata[0]}<extra></extra>\",\"legendgroup\":\"health\",\"marker\":{\"color\":\"#EF553B\",\"symbol\":\"circle\"},\"mode\":\"markers\",\"name\":\"health\",\"orientation\":\"v\",\"showlegend\":true,\"type\":\"scatter\",\"x\":[49.615108489990234,58.806678771972656,61.73997116088867,53.86652755737305,54.43541717529297,-67.93461608886719,-101.86418151855469,34.66783905029297,38.01266860961914,34.15258026123047,44.80510711669922,24.22953224182129,-95.34980773925781,76.72303009033203,-58.9991569519043,-79.40926361083984,-95.6627197265625,64.16096496582031,-100.39823913574219,-75.08324432373047,-72.87168884277344,78.79632568359375,57.23801803588867,-61.3970832824707,-61.02181625366211,-109.42620849609375,90.09490203857422,-90.17097473144531,-87.5462417602539,28.62118911743164],\"xaxis\":\"x\",\"y\":[80.1550521850586,92.7906723022461,103.59408569335938,91.9498291015625,87.57003784179688,33.49422836303711,18.888530731201172,84.28998565673828,81.88514709472656,92.0815658569336,83.67375946044922,83.34654235839844,18.40423583984375,-4.674422264099121,37.38937759399414,-6.367495059967041,1.5851856470108032,81.51839447021484,9.01979923248291,35.511417388916016,-1.0308294296264648,111.92778778076172,73.47480010986328,23.42066764831543,0.3635239601135254,12.89892578125,62.50490188598633,-59.34567642211914,1.7129751443862915,80.73296356201172],\"yaxis\":\"y\"},{\"customdata\":[[\"sul\"],[\"papasotiriou\"],[\"lavoro\"],[\"royal\"],[\"oz\"],[\"sveikatos\"],[\"christos\"],[\"jeugd\"],[\"nelle\"],[\"infortuni\"],[\"xn\"],[\"m.\"],[\"essentielle\"],[\"lietuvos\"],[\"fa\"],[\"shipping\"],[\"izby\"],[\"respublikos\"],[\"toolstream\"],[\"limited\"],[\"investmentfriendly\"],[\"pfizer\"],[\"perry\"],[\"experts\"],[\"garanzie\"],[\"gyogyszereszeti\"],[\"inail\"],[\"compal\"],[\"joined\"],[\"dell'universita\"]],\"hovertemplate\":\"word_cluster=minister<br>X=%{x}<br>Y=%{y}<br>word=%{customdata[0]}<extra></extra>\",\"legendgroup\":\"minister\",\"marker\":{\"color\":\"#00cc96\",\"symbol\":\"circle\"},\"mode\":\"markers\",\"name\":\"minister\",\"orientation\":\"v\",\"showlegend\":true,\"type\":\"scatter\",\"x\":[-23.639690399169922,-8.598275184631348,-19.99452781677246,-74.89824676513672,-71.77007293701172,-65.43409729003906,-11.129434585571289,-19.504541397094727,-76.8394546508789,-17.810760498046875,-86.1807632446289,5.813460826873779,-76.1022720336914,9.78055191040039,-83.96279907226562,-14.45609188079834,-74.37419891357422,-52.71088790893555,-79.51714324951172,15.502304077148438,-28.53635025024414,-82.55308532714844,-86.70543670654297,-84.11373901367188,-80.89837646484375,-78.69503784179688,-25.049123764038086,-68.36348724365234,-0.9158028960227966,-68.51998901367188],\"xaxis\":\"x\",\"y\":[123.11466979980469,128.30142211914062,125.68585205078125,102.3434829711914,105.40995025634766,102.33583068847656,124.37122344970703,130.46388244628906,91.5498046875,119.41819763183594,98.27185821533203,117.72481536865234,86.87370300292969,113.94446563720703,102.47112274169922,129.48411560058594,98.19300079345703,109.79363250732422,98.2280044555664,116.12422180175781,115.64888000488281,95.160888671875,92.0307846069336,86.72676086425781,89.71520233154297,104.61288452148438,127.26199340820312,99.13529205322266,116.35353088378906,94.58271026611328],\"yaxis\":\"y\"},{\"customdata\":[[\"jose\"],[\"andor\"],[\"industrial\"],[\"challenges\"],[\"role\"],[\"era\"],[\"building\"],[\"cities\"],[\"hydrogen\"],[\"sustainability\"],[\"activity\"],[\"dimension\"],[\"change\"],[\"democracy\"],[\"goal\"],[\"2030\"],[\"disruptive\"],[\"growth\"],[\"green\"],[\"the\"],[\"members\"],[\"strong\"],[\"democratic\"],[\"paving\"],[\"chart\"],[\"global\"],[\"lowcarbon\"],[\"job\"],[\"promote\"],[\"revenues\"]],\"hovertemplate\":\"word_cluster=new<br>X=%{x}<br>Y=%{y}<br>word=%{customdata[0]}<extra></extra>\",\"legendgroup\":\"new\",\"marker\":{\"color\":\"#ab63fa\",\"symbol\":\"circle\"},\"mode\":\"markers\",\"name\":\"new\",\"orientation\":\"v\",\"showlegend\":true,\"type\":\"scatter\",\"x\":[6.262696743011475,-76.82608795166016,73.84050750732422,49.78538131713867,58.109840393066406,17.808385848999023,54.4783935546875,15.413575172424316,18.833843231201172,59.92498779296875,55.85771179199219,4.836318492889404,63.627784729003906,44.85520553588867,59.162811279296875,22.298295974731445,-4.442754745483398,70.25025939941406,62.144893646240234,25.861011505126953,53.13893508911133,-2.314868450164795,26.45380401611328,-71.7569808959961,-72.7005844116211,60.05876159667969,-6.8411784172058105,62.294925689697266,47.199520111083984,-3.295248508453369],\"xaxis\":\"x\",\"y\":[14.245878219604492,-56.314849853515625,57.159996032714844,50.261749267578125,47.565216064453125,42.02555847167969,44.43079376220703,31.68592071533203,37.17536544799805,74.84112548828125,62.50679397583008,9.991003036499023,62.675498962402344,44.20365905761719,52.99767303466797,26.490768432617188,-2.877192735671997,54.02640914916992,68.12676239013672,32.34873580932617,58.290061950683594,13.531968116760254,42.04694366455078,-56.42677307128906,-53.412166595458984,58.30372619628906,0.10989390313625336,54.68717575073242,46.62239456176758,1.5677579641342163],\"yaxis\":\"y\"},{\"customdata\":[[\"consequences\"],[\"foster\"],[\"com2020)0201\"],[\"consequence\"],[\"context\"],[\"com2020)0310\"],[\"preparedness\"],[\"unintended\"],[\"repair\"],[\"variant\"],[\"partner\"],[\"immediate\"],[\"vaccination\"],[\"test\"],[\"c90122/2020\"],[\"linked\"],[\"threat\"],[\"fostering\"],[\"campaign\"],[\"fishery\"],[\"drawing\"],[\"follow\"],[\"com2020)0198\"],[\"prevent\"],[\"com2020)0233\"],[\"response\"],[\"economies\"],[\"2020/0066cod\"],[\"received\"],[\"fight\"]],\"hovertemplate\":\"word_cluster=coronavirus<br>X=%{x}<br>Y=%{y}<br>word=%{customdata[0]}<extra></extra>\",\"legendgroup\":\"coronavirus\",\"marker\":{\"color\":\"#FFA15A\",\"symbol\":\"circle\"},\"mode\":\"markers\",\"name\":\"coronavirus\",\"orientation\":\"v\",\"showlegend\":true,\"type\":\"scatter\",\"x\":[74.06669616699219,45.396018981933594,-34.0976676940918,42.34962463378906,119.4322738647461,-27.053382873535156,39.657562255859375,33.90679931640625,84.7793960571289,-38.51423645019531,-12.223681449890137,50.79509735107422,67.00028228759766,74.30138397216797,-25.267309188842773,-26.344650268554688,53.278236389160156,46.41065979003906,-50.80473709106445,46.96717071533203,-53.104042053222656,104.52166748046875,-32.82291030883789,14.17723274230957,-28.33791732788086,122.85457611083984,-34.529842376708984,-23.44236946105957,-33.955936431884766,-32.85778045654297],\"xaxis\":\"x\",\"y\":[-12.344850540161133,-17.053281784057617,-20.362512588500977,-13.281257629394531,-17.51402473449707,7.543071746826172,-25.330074310302734,-13.714485168457031,-12.090628623962402,7.24637508392334,-2.973273515701294,-6.713394641876221,-25.645496368408203,-26.52997589111328,2.4091973304748535,11.69304084777832,-27.649715423583984,68.33967590332031,-31.39252281188965,-4.3636603355407715,-53.541587829589844,-18.8730525970459,4.555656433105469,89.41930389404297,-8.098678588867188,-8.21358871459961,15.121596336364746,5.890617847442627,9.227190017700195,-5.211179733276367],\"yaxis\":\"y\"},{\"customdata\":[[\"threat\"],[\"vaccines\"],[\"vitro\"],[\"diagnostic\"],[\"strategies\"],[\"test\"],[\"vaccination\"],[\"lessons\"],[\"preparedness\"],[\"crisis\"],[\"outbreaks\"],[\"getting\"],[\"combat\"],[\"context\"],[\"modernising\"],[\"supporting\"],[\"winter\"],[\"interoperable\"],[\"coronavirus\"],[\"learned\"],[\"unintended\"],[\"get\"],[\"consequence\"],[\"com2020)0233\"],[\"follow\"],[\"endofserie\"],[\"consequences\"],[\"tests\"],[\"pandemic\"],[\"postpandemic\"]],\"hovertemplate\":\"word_cluster=vaccine<br>X=%{x}<br>Y=%{y}<br>word=%{customdata[0]}<extra></extra>\",\"legendgroup\":\"vaccine\",\"marker\":{\"color\":\"#19d3f3\",\"symbol\":\"circle\"},\"mode\":\"markers\",\"name\":\"vaccine\",\"orientation\":\"v\",\"showlegend\":true,\"type\":\"scatter\",\"x\":[53.278236389160156,42.9937629699707,47.171878814697266,46.703163146972656,-34.75041198730469,72.62261199951172,68.3768081665039,-39.63036346435547,42.371742248535156,125.23184204101562,-46.16096878051758,-43.8277587890625,54.99972152709961,116.33369445800781,89.55226135253906,91.71115112304688,-40.735877990722656,51.559661865234375,85.39065551757812,-49.141658782958984,34.651885986328125,-56.1409912109375,45.341346740722656,-26.292943954467773,104.52166748046875,-44.88345718383789,77.88628387451172,10.033164978027344,129.1544952392578,-24.428577423095703],\"xaxis\":\"x\",\"y\":[-27.649715423583984,-31.968921661376953,-32.75144958496094,-29.172468185424805,-31.88361358642578,-23.660297393798828,-28.642791748046875,-34.19401550292969,-23.979097366333008,-13.50623607635498,-39.08831787109375,-42.25465774536133,-33.638710021972656,-15.054039001464844,-28.999794006347656,-26.763181686401367,-38.863990783691406,-19.014720916748047,-17.43232536315918,-43.16388702392578,-10.901762962341309,-58.5105094909668,-12.214594841003418,-5.823533535003662,-18.8730525970459,-46.693416595458984,-12.122048377990723,93.65900421142578,-10.419921875,-11.077350616455078],\"yaxis\":\"y\"},{\"customdata\":[[\"supplementing\"],[\"accompanying\"],[\"document\"],[\"enhanced\"],[\"2020/1956\"],[\"2020/1856\"],[\"proposal\"],[\"2016/425\"],[\"2019/1743\"],[\"ep\"],[\"cnmse\"],[\"empowering\"],[\"2021/752\"],[\"2021/174\"],[\"2020/1853\"],[\"central\"],[\"approval\"],[\"council\"],[\"2020/700\"],[\"1/2021\"],[\"2021/177\"],[\"2020/1852\"],[\"2021/886\"],[\"[\"],[\"2020/560\"],[\"bmc\"],[\"2020/1042\"],[\"2020/2228\"],[\"2020/1027\"],[\"2018/2066\"]],\"hovertemplate\":\"word_cluster=commission<br>X=%{x}<br>Y=%{y}<br>word=%{customdata[0]}<extra></extra>\",\"legendgroup\":\"commission\",\"marker\":{\"color\":\"#FF6692\",\"symbol\":\"circle\"},\"mode\":\"markers\",\"name\":\"commission\",\"orientation\":\"v\",\"showlegend\":true,\"type\":\"scatter\",\"x\":[22.560606002807617,118.9183578491211,115.07698822021484,-98.23658752441406,-58.65211868286133,-53.12113571166992,161.5560760498047,-47.977699279785156,-69.44245147705078,-93.88809967041016,-60.92961883544922,-55.277862548828125,-28.362899780273438,-71.39651489257812,-60.05474090576172,117.07001495361328,125.51543426513672,160.2900390625,-54.19084548950195,-30.437685012817383,-50.78740310668945,-57.08198547363281,-47.04615783691406,121.0878677368164,-40.39231491088867,-60.937652587890625,-37.15501403808594,-55.3668212890625,-47.37507247924805,-49.990386962890625],\"xaxis\":\"x\",\"y\":[-141.74057006835938,24.00447654724121,23.385454177856445,98.70188903808594,-118.82254791259766,-130.34425354003906,-73.88612365722656,-123.51666259765625,-121.8768310546875,97.46045684814453,-124.32061004638672,-110.19139862060547,-85.5857162475586,-118.3693618774414,-131.23043823242188,39.52001953125,23.53410530090332,-70.47185516357422,-117.5523452758789,-80.70386505126953,-127.13554382324219,-126.85071563720703,-130.61102294921875,35.01191329956055,-125.27912139892578,-109.85861206054688,-133.25933837890625,-121.76429748535156,-118.30448913574219,-115.03291320800781],\"yaxis\":\"y\"}],                        {\"legend\":{\"title\":{\"text\":\"word_cluster\"},\"tracegroupgap\":0},\"margin\":{\"t\":60},\"template\":{\"data\":{\"bar\":[{\"error_x\":{\"color\":\"#2a3f5f\"},\"error_y\":{\"color\":\"#2a3f5f\"},\"marker\":{\"line\":{\"color\":\"#E5ECF6\",\"width\":0.5},\"pattern\":{\"fillmode\":\"overlay\",\"size\":10,\"solidity\":0.2}},\"type\":\"bar\"}],\"barpolar\":[{\"marker\":{\"line\":{\"color\":\"#E5ECF6\",\"width\":0.5},\"pattern\":{\"fillmode\":\"overlay\",\"size\":10,\"solidity\":0.2}},\"type\":\"barpolar\"}],\"carpet\":[{\"aaxis\":{\"endlinecolor\":\"#2a3f5f\",\"gridcolor\":\"white\",\"linecolor\":\"white\",\"minorgridcolor\":\"white\",\"startlinecolor\":\"#2a3f5f\"},\"baxis\":{\"endlinecolor\":\"#2a3f5f\",\"gridcolor\":\"white\",\"linecolor\":\"white\",\"minorgridcolor\":\"white\",\"startlinecolor\":\"#2a3f5f\"},\"type\":\"carpet\"}],\"choropleth\":[{\"colorbar\":{\"outlinewidth\":0,\"ticks\":\"\"},\"type\":\"choropleth\"}],\"contour\":[{\"colorbar\":{\"outlinewidth\":0,\"ticks\":\"\"},\"colorscale\":[[0.0,\"#0d0887\"],[0.1111111111111111,\"#46039f\"],[0.2222222222222222,\"#7201a8\"],[0.3333333333333333,\"#9c179e\"],[0.4444444444444444,\"#bd3786\"],[0.5555555555555556,\"#d8576b\"],[0.6666666666666666,\"#ed7953\"],[0.7777777777777778,\"#fb9f3a\"],[0.8888888888888888,\"#fdca26\"],[1.0,\"#f0f921\"]],\"type\":\"contour\"}],\"contourcarpet\":[{\"colorbar\":{\"outlinewidth\":0,\"ticks\":\"\"},\"type\":\"contourcarpet\"}],\"heatmap\":[{\"colorbar\":{\"outlinewidth\":0,\"ticks\":\"\"},\"colorscale\":[[0.0,\"#0d0887\"],[0.1111111111111111,\"#46039f\"],[0.2222222222222222,\"#7201a8\"],[0.3333333333333333,\"#9c179e\"],[0.4444444444444444,\"#bd3786\"],[0.5555555555555556,\"#d8576b\"],[0.6666666666666666,\"#ed7953\"],[0.7777777777777778,\"#fb9f3a\"],[0.8888888888888888,\"#fdca26\"],[1.0,\"#f0f921\"]],\"type\":\"heatmap\"}],\"heatmapgl\":[{\"colorbar\":{\"outlinewidth\":0,\"ticks\":\"\"},\"colorscale\":[[0.0,\"#0d0887\"],[0.1111111111111111,\"#46039f\"],[0.2222222222222222,\"#7201a8\"],[0.3333333333333333,\"#9c179e\"],[0.4444444444444444,\"#bd3786\"],[0.5555555555555556,\"#d8576b\"],[0.6666666666666666,\"#ed7953\"],[0.7777777777777778,\"#fb9f3a\"],[0.8888888888888888,\"#fdca26\"],[1.0,\"#f0f921\"]],\"type\":\"heatmapgl\"}],\"histogram\":[{\"marker\":{\"pattern\":{\"fillmode\":\"overlay\",\"size\":10,\"solidity\":0.2}},\"type\":\"histogram\"}],\"histogram2d\":[{\"colorbar\":{\"outlinewidth\":0,\"ticks\":\"\"},\"colorscale\":[[0.0,\"#0d0887\"],[0.1111111111111111,\"#46039f\"],[0.2222222222222222,\"#7201a8\"],[0.3333333333333333,\"#9c179e\"],[0.4444444444444444,\"#bd3786\"],[0.5555555555555556,\"#d8576b\"],[0.6666666666666666,\"#ed7953\"],[0.7777777777777778,\"#fb9f3a\"],[0.8888888888888888,\"#fdca26\"],[1.0,\"#f0f921\"]],\"type\":\"histogram2d\"}],\"histogram2dcontour\":[{\"colorbar\":{\"outlinewidth\":0,\"ticks\":\"\"},\"colorscale\":[[0.0,\"#0d0887\"],[0.1111111111111111,\"#46039f\"],[0.2222222222222222,\"#7201a8\"],[0.3333333333333333,\"#9c179e\"],[0.4444444444444444,\"#bd3786\"],[0.5555555555555556,\"#d8576b\"],[0.6666666666666666,\"#ed7953\"],[0.7777777777777778,\"#fb9f3a\"],[0.8888888888888888,\"#fdca26\"],[1.0,\"#f0f921\"]],\"type\":\"histogram2dcontour\"}],\"mesh3d\":[{\"colorbar\":{\"outlinewidth\":0,\"ticks\":\"\"},\"type\":\"mesh3d\"}],\"parcoords\":[{\"line\":{\"colorbar\":{\"outlinewidth\":0,\"ticks\":\"\"}},\"type\":\"parcoords\"}],\"pie\":[{\"automargin\":true,\"type\":\"pie\"}],\"scatter\":[{\"marker\":{\"colorbar\":{\"outlinewidth\":0,\"ticks\":\"\"}},\"type\":\"scatter\"}],\"scatter3d\":[{\"line\":{\"colorbar\":{\"outlinewidth\":0,\"ticks\":\"\"}},\"marker\":{\"colorbar\":{\"outlinewidth\":0,\"ticks\":\"\"}},\"type\":\"scatter3d\"}],\"scattercarpet\":[{\"marker\":{\"colorbar\":{\"outlinewidth\":0,\"ticks\":\"\"}},\"type\":\"scattercarpet\"}],\"scattergeo\":[{\"marker\":{\"colorbar\":{\"outlinewidth\":0,\"ticks\":\"\"}},\"type\":\"scattergeo\"}],\"scattergl\":[{\"marker\":{\"colorbar\":{\"outlinewidth\":0,\"ticks\":\"\"}},\"type\":\"scattergl\"}],\"scattermapbox\":[{\"marker\":{\"colorbar\":{\"outlinewidth\":0,\"ticks\":\"\"}},\"type\":\"scattermapbox\"}],\"scatterpolar\":[{\"marker\":{\"colorbar\":{\"outlinewidth\":0,\"ticks\":\"\"}},\"type\":\"scatterpolar\"}],\"scatterpolargl\":[{\"marker\":{\"colorbar\":{\"outlinewidth\":0,\"ticks\":\"\"}},\"type\":\"scatterpolargl\"}],\"scatterternary\":[{\"marker\":{\"colorbar\":{\"outlinewidth\":0,\"ticks\":\"\"}},\"type\":\"scatterternary\"}],\"surface\":[{\"colorbar\":{\"outlinewidth\":0,\"ticks\":\"\"},\"colorscale\":[[0.0,\"#0d0887\"],[0.1111111111111111,\"#46039f\"],[0.2222222222222222,\"#7201a8\"],[0.3333333333333333,\"#9c179e\"],[0.4444444444444444,\"#bd3786\"],[0.5555555555555556,\"#d8576b\"],[0.6666666666666666,\"#ed7953\"],[0.7777777777777778,\"#fb9f3a\"],[0.8888888888888888,\"#fdca26\"],[1.0,\"#f0f921\"]],\"type\":\"surface\"}],\"table\":[{\"cells\":{\"fill\":{\"color\":\"#EBF0F8\"},\"line\":{\"color\":\"white\"}},\"header\":{\"fill\":{\"color\":\"#C8D4E3\"},\"line\":{\"color\":\"white\"}},\"type\":\"table\"}]},\"layout\":{\"annotationdefaults\":{\"arrowcolor\":\"#2a3f5f\",\"arrowhead\":0,\"arrowwidth\":1},\"autotypenumbers\":\"strict\",\"coloraxis\":{\"colorbar\":{\"outlinewidth\":0,\"ticks\":\"\"}},\"colorscale\":{\"diverging\":[[0,\"#8e0152\"],[0.1,\"#c51b7d\"],[0.2,\"#de77ae\"],[0.3,\"#f1b6da\"],[0.4,\"#fde0ef\"],[0.5,\"#f7f7f7\"],[0.6,\"#e6f5d0\"],[0.7,\"#b8e186\"],[0.8,\"#7fbc41\"],[0.9,\"#4d9221\"],[1,\"#276419\"]],\"sequential\":[[0.0,\"#0d0887\"],[0.1111111111111111,\"#46039f\"],[0.2222222222222222,\"#7201a8\"],[0.3333333333333333,\"#9c179e\"],[0.4444444444444444,\"#bd3786\"],[0.5555555555555556,\"#d8576b\"],[0.6666666666666666,\"#ed7953\"],[0.7777777777777778,\"#fb9f3a\"],[0.8888888888888888,\"#fdca26\"],[1.0,\"#f0f921\"]],\"sequentialminus\":[[0.0,\"#0d0887\"],[0.1111111111111111,\"#46039f\"],[0.2222222222222222,\"#7201a8\"],[0.3333333333333333,\"#9c179e\"],[0.4444444444444444,\"#bd3786\"],[0.5555555555555556,\"#d8576b\"],[0.6666666666666666,\"#ed7953\"],[0.7777777777777778,\"#fb9f3a\"],[0.8888888888888888,\"#fdca26\"],[1.0,\"#f0f921\"]]},\"colorway\":[\"#636efa\",\"#EF553B\",\"#00cc96\",\"#ab63fa\",\"#FFA15A\",\"#19d3f3\",\"#FF6692\",\"#B6E880\",\"#FF97FF\",\"#FECB52\"],\"font\":{\"color\":\"#2a3f5f\"},\"geo\":{\"bgcolor\":\"white\",\"lakecolor\":\"white\",\"landcolor\":\"#E5ECF6\",\"showlakes\":true,\"showland\":true,\"subunitcolor\":\"white\"},\"hoverlabel\":{\"align\":\"left\"},\"hovermode\":\"closest\",\"mapbox\":{\"style\":\"light\"},\"paper_bgcolor\":\"white\",\"plot_bgcolor\":\"#E5ECF6\",\"polar\":{\"angularaxis\":{\"gridcolor\":\"white\",\"linecolor\":\"white\",\"ticks\":\"\"},\"bgcolor\":\"#E5ECF6\",\"radialaxis\":{\"gridcolor\":\"white\",\"linecolor\":\"white\",\"ticks\":\"\"}},\"scene\":{\"xaxis\":{\"backgroundcolor\":\"#E5ECF6\",\"gridcolor\":\"white\",\"gridwidth\":2,\"linecolor\":\"white\",\"showbackground\":true,\"ticks\":\"\",\"zerolinecolor\":\"white\"},\"yaxis\":{\"backgroundcolor\":\"#E5ECF6\",\"gridcolor\":\"white\",\"gridwidth\":2,\"linecolor\":\"white\",\"showbackground\":true,\"ticks\":\"\",\"zerolinecolor\":\"white\"},\"zaxis\":{\"backgroundcolor\":\"#E5ECF6\",\"gridcolor\":\"white\",\"gridwidth\":2,\"linecolor\":\"white\",\"showbackground\":true,\"ticks\":\"\",\"zerolinecolor\":\"white\"}},\"shapedefaults\":{\"line\":{\"color\":\"#2a3f5f\"}},\"ternary\":{\"aaxis\":{\"gridcolor\":\"white\",\"linecolor\":\"white\",\"ticks\":\"\"},\"baxis\":{\"gridcolor\":\"white\",\"linecolor\":\"white\",\"ticks\":\"\"},\"bgcolor\":\"#E5ECF6\",\"caxis\":{\"gridcolor\":\"white\",\"linecolor\":\"white\",\"ticks\":\"\"}},\"title\":{\"x\":0.05},\"xaxis\":{\"automargin\":true,\"gridcolor\":\"white\",\"linecolor\":\"white\",\"ticks\":\"\",\"title\":{\"standoff\":15},\"zerolinecolor\":\"white\",\"zerolinewidth\":2},\"yaxis\":{\"automargin\":true,\"gridcolor\":\"white\",\"linecolor\":\"white\",\"ticks\":\"\",\"title\":{\"standoff\":15},\"zerolinecolor\":\"white\",\"zerolinewidth\":2}}},\"xaxis\":{\"anchor\":\"y\",\"domain\":[0.0,1.0],\"title\":{\"text\":\"X\"}},\"yaxis\":{\"anchor\":\"x\",\"domain\":[0.0,1.0],\"title\":{\"text\":\"Y\"}}},                        {\"responsive\": true}                    ).then(function(){\n                            \nvar gd = document.getElementById('27e6175b-2a99-4ce4-a43b-80c1425ea8df');\nvar x = new MutationObserver(function (mutations, observer) {{\n        var display = window.getComputedStyle(gd).display;\n        if (!display || display === 'none') {{\n            console.log([gd, 'removed!']);\n            Plotly.purge(gd);\n            observer.disconnect();\n        }}\n}});\n\n// Listen for the removal of the full notebook cells\nvar notebookContainer = gd.closest('#notebook-container');\nif (notebookContainer) {{\n    x.observe(notebookContainer, {childList: true});\n}}\n\n// Listen for the clearing of the current output cell\nvar outputEl = gd.closest('.output');\nif (outputEl) {{\n    x.observe(outputEl, {childList: true});\n}}\n\n                        })                };                });            </script>        </div>"
     },
     "metadata": {},
     "output_type": "display_data"
    }
   ],
   "source": [
    "model2_word_cluster_plot = px.scatter(model2_word_embeddings_dataframe,\n",
    "                                      x='X', y='Y', color=model2_word_embeddings_dataframe.word_cluster,\n",
    "                                      labels={'color': 'word'}, hover_data=[\"word\"])\n",
    "model2_word_cluster_plot\n"
   ],
   "metadata": {
    "collapsed": false,
    "pycharm": {
     "name": "#%%\n"
    }
   }
  },
  {
   "cell_type": "markdown",
   "source": [
    "### Graph visualization for the third model"
   ],
   "metadata": {
    "collapsed": false
   }
  },
  {
   "cell_type": "code",
   "execution_count": 190,
   "outputs": [
    {
     "data": {
      "application/vnd.plotly.v1+json": {
       "config": {
        "plotlyServerURL": "https://plot.ly"
       },
       "data": [
        {
         "customdata": [
          [
           "agreements"
          ],
          [
           "bargaining"
          ],
          [
           "bargains.the"
          ],
          [
           "agreementwhether"
          ],
          [
           "967724"
          ],
          [
           "dismissals"
          ],
          [
           "leader"
          ],
          [
           "dismissal"
          ],
          [
           "satisfaction"
          ],
          [
           "springs"
          ],
          [
           "conventionnelle"
          ],
          [
           "l6152"
          ],
          [
           "metalworkers"
          ],
          [
           "extinguish"
          ],
          [
           "collective"
          ],
          [
           "redundancies"
          ],
          [
           "metalworker"
          ],
          [
           "subcontracts"
          ],
          [
           "supervisors.the"
          ],
          [
           "261"
          ],
          [
           "spite"
          ],
          [
           "those.in"
          ],
          [
           "law.the"
          ],
          [
           "120,768"
          ],
          [
           "railways"
          ],
          [
           "agreed"
          ],
          [
           "negotiation"
          ],
          [
           "wealth"
          ],
          [
           "expiry"
          ],
          [
           "arrangement"
          ]
         ],
         "hovertemplate": "word_cluster=agreement<br>X=%{x}<br>Y=%{y}<br>word=%{customdata[0]}<extra></extra>",
         "legendgroup": "agreement",
         "marker": {
          "color": "#636efa",
          "symbol": "circle"
         },
         "mode": "markers",
         "name": "agreement",
         "orientation": "v",
         "showlegend": true,
         "type": "scatter",
         "x": [
          -69.57115936279297,
          -69.8764877319336,
          -100.15508270263672,
          -101.92437744140625,
          -93.36885833740234,
          26.497220993041992,
          -109.55117797851562,
          21.938039779663086,
          -103.82501220703125,
          -89.23075103759766,
          -105.82682037353516,
          -83.1127700805664,
          -94.02215576171875,
          -104.54119873046875,
          -65.06640625,
          28.005367279052734,
          -89.2663345336914,
          -88.57650756835938,
          -85.62495422363281,
          -92.73854064941406,
          -93.6121826171875,
          -82.87583923339844,
          -98.64266204833984,
          -96.03977966308594,
          -85.00605010986328,
          -72.32954406738281,
          -73.32103729248047,
          -110.77750396728516,
          -91.35308837890625,
          22.98181915283203
         ],
         "xaxis": "x",
         "y": [
          112.0031509399414,
          108.74846649169922,
          -55.621883392333984,
          -52.30392837524414,
          -57.520877838134766,
          18.032869338989258,
          -54.9619140625,
          18.391014099121094,
          -58.499229431152344,
          -53.64292907714844,
          -50.29526901245117,
          -55.00625228881836,
          -49.019493103027344,
          -47.899478912353516,
          110.97987365722656,
          15.88475513458252,
          -50.34813690185547,
          -57.2864990234375,
          -50.2592658996582,
          -65.40979766845703,
          -44.28213119506836,
          -59.233211517333984,
          -49.558841705322266,
          -63.19639587402344,
          -39.11566925048828,
          88.82010650634766,
          100.1058120727539,
          -48.03276824951172,
          37.2945556640625,
          31.220966339111328
         ],
         "yaxis": "y"
        },
        {
         "customdata": [
          [
           "company"
          ],
          [
           "businesses"
          ],
          [
           "entrepreneurs"
          ],
          [
           "enterprises"
          ],
          [
           "business"
          ],
          [
           "smes"
          ],
          [
           "firms"
          ],
          [
           "firm"
          ],
          [
           "medium"
          ],
          [
           "entrepreneur"
          ],
          [
           "targeted"
          ],
          [
           "enterprise"
          ],
          [
           "target"
          ],
          [
           "microcompanies"
          ],
          [
           "large"
          ],
          [
           "sme"
          ],
          [
           "sectors"
          ],
          [
           "vetcoordinators"
          ],
          [
           "solo"
          ],
          [
           "liquidity"
          ],
          [
           "micro"
          ],
          [
           "pointrequests"
          ],
          [
           "employers"
          ],
          [
           "mediumsized"
          ],
          [
           "hokelanto"
          ],
          [
           "significant"
          ],
          [
           "portions"
          ],
          [
           "firms.2"
          ],
          [
           "33.5"
          ],
          [
           "businessoriented"
          ]
         ],
         "hovertemplate": "word_cluster=companies<br>X=%{x}<br>Y=%{y}<br>word=%{customdata[0]}<extra></extra>",
         "legendgroup": "companies",
         "marker": {
          "color": "#EF553B",
          "symbol": "circle"
         },
         "mode": "markers",
         "name": "companies",
         "orientation": "v",
         "showlegend": true,
         "type": "scatter",
         "x": [
          123.30184936523438,
          121.99235534667969,
          114.96724700927734,
          133.07911682128906,
          122.2938232421875,
          119.06260681152344,
          120.66756439208984,
          120.03629302978516,
          130.1912841796875,
          116.78131103515625,
          99.47745513916016,
          135.6243133544922,
          103.43477630615234,
          -3.191990375518799,
          129.68612670898438,
          120.51734924316406,
          138.2785186767578,
          -37.075008392333984,
          110.73388671875,
          116.19686889648438,
          127.81143951416016,
          -19.332157135009766,
          -68.2541275024414,
          127.0331039428711,
          -8.287845611572266,
          111.58389282226562,
          -14.587327003479004,
          -10.537353515625,
          -33.2072868347168,
          -45.884029388427734
         ],
         "xaxis": "x",
         "y": [
          23.446388244628906,
          15.326672554016113,
          9.075395584106445,
          10.244867324829102,
          19.674589157104492,
          9.91187572479248,
          0.5043389201164246,
          -1.9634486436843872,
          5.238387584686279,
          4.342726230621338,
          16.221607208251953,
          7.546748161315918,
          16.622222900390625,
          -34.45491409301758,
          0.1273522526025772,
          6.687076091766357,
          25.741043090820312,
          -45.17667007446289,
          8.085999488830566,
          14.586576461791992,
          8.799066543579102,
          -42.73423767089844,
          87.591064453125,
          5.026020050048828,
          -36.691917419433594,
          23.143754959106445,
          -40.99455642700195,
          -40.09360122680664,
          -72.08184814453125,
          -59.93514633178711
         ],
         "yaxis": "y"
        },
        {
         "customdata": [
          [
           "worker"
          ],
          [
           "employees"
          ],
          [
           "groups"
          ],
          [
           "employee"
          ],
          [
           "people"
          ],
          [
           "workforce"
          ],
          [
           "professionals"
          ],
          [
           "workers.the"
          ],
          [
           "persons"
          ],
          [
           "personnel"
          ],
          [
           "vetcoordinators"
          ],
          [
           "flu"
          ],
          [
           "staff"
          ],
          [
           "nature"
          ],
          [
           "person"
          ],
          [
           "excludes"
          ],
          [
           "3,387"
          ],
          [
           "incremental"
          ],
          [
           "individuals"
          ],
          [
           "fulltime"
          ],
          [
           "permanent"
          ],
          [
           "healthcare"
          ],
          [
           "discontinuous"
          ],
          [
           "77.1"
          ],
          [
           "off"
          ],
          [
           "sectors"
          ],
          [
           "4,753"
          ],
          [
           "99.5"
          ],
          [
           "apprentices"
          ],
          [
           "jobseekers"
          ]
         ],
         "hovertemplate": "word_cluster=workers<br>X=%{x}<br>Y=%{y}<br>word=%{customdata[0]}<extra></extra>",
         "legendgroup": "workers",
         "marker": {
          "color": "#00cc96",
          "symbol": "circle"
         },
         "mode": "markers",
         "name": "workers",
         "orientation": "v",
         "showlegend": true,
         "type": "scatter",
         "x": [
          51.71811294555664,
          46.88273239135742,
          57.06401824951172,
          48.62857437133789,
          63.396583557128906,
          6.2237935066223145,
          -11.615795135498047,
          0.030820908024907112,
          65.57493591308594,
          2.32340669631958,
          -35.410213470458984,
          -33.26820373535156,
          3.3833749294281006,
          92.9479751586914,
          64.61023712158203,
          -11.087406158447266,
          -15.163216590881348,
          -41.32125473022461,
          106.76400756835938,
          12.98556137084961,
          20.297164916992188,
          -7.937088489532471,
          0.27449414134025574,
          -15.923962593078613,
          10.040040969848633,
          136.65208435058594,
          -44.362754821777344,
          -18.180633544921875,
          8.37807846069336,
          13.29428768157959
         ],
         "xaxis": "x",
         "y": [
          8.844073295593262,
          5.103973865509033,
          13.926624298095703,
          7.17639684677124,
          12.544418334960938,
          25.07386589050293,
          25.38302230834961,
          -15.67282485961914,
          8.24572467803955,
          29.44869613647461,
          -43.2321891784668,
          -47.304100036621094,
          33.46543884277344,
          23.171367645263672,
          5.8115715980529785,
          -14.799906730651855,
          -16.13487434387207,
          -47.6368522644043,
          6.242886543273926,
          23.979251861572266,
          25.115217208862305,
          35.93334197998047,
          4.222537517547607,
          -22.871232986450195,
          20.61634063720703,
          27.535972595214844,
          -53.22404479980469,
          -21.394685745239258,
          18.557188034057617,
          17.320308685302734
         ],
         "yaxis": "y"
        },
        {
         "customdata": [
          [
           "measure"
          ],
          [
           "actions"
          ],
          [
           "package"
          ],
          [
           "packages"
          ],
          [
           "2019/1311"
          ],
          [
           "initiatives"
          ],
          [
           "supervening"
          ],
          [
           "governmentbacked"
          ],
          [
           "hardships"
          ],
          [
           "circumstances"
          ],
          [
           "paralysis"
          ],
          [
           "measures:1"
          ],
          [
           "mingling"
          ],
          [
           "series"
          ],
          [
           "circumstance"
          ],
          [
           "situations"
          ],
          [
           "sector.with"
          ],
          [
           "nondeferre"
          ],
          [
           "plans"
          ],
          [
           "measureswith"
          ],
          [
           "effects"
          ],
          [
           "coaches"
          ],
          [
           "immediate"
          ],
          [
           "hasty"
          ],
          [
           "eliminate"
          ],
          [
           "crisis"
          ],
          [
           "object"
          ],
          [
           "overcome"
          ],
          [
           "former"
          ],
          [
           "nondeferred"
          ]
         ],
         "hovertemplate": "word_cluster=measures<br>X=%{x}<br>Y=%{y}<br>word=%{customdata[0]}<extra></extra>",
         "legendgroup": "measures",
         "marker": {
          "color": "#ab63fa",
          "symbol": "circle"
         },
         "mode": "markers",
         "name": "measures",
         "orientation": "v",
         "showlegend": true,
         "type": "scatter",
         "x": [
          74.67304992675781,
          56.587249755859375,
          51.60781478881836,
          73.36787414550781,
          -6.692927360534668,
          58.741729736328125,
          2.433976888656616,
          -34.96965789794922,
          51.10963439941406,
          58.486358642578125,
          16.238107681274414,
          -27.98232078552246,
          -21.067264556884766,
          55.22062301635742,
          59.13294219970703,
          59.765445709228516,
          -13.59605598449707,
          -29.83213996887207,
          53.74871826171875,
          -16.59088706970215,
          112.28053283691406,
          -26.314197540283203,
          62.496917724609375,
          -1.7958492040634155,
          51.62724304199219,
          119.38716125488281,
          14.978716850280762,
          63.8115234375,
          -23.310516357421875,
          6.416999340057373
         ],
         "xaxis": "x",
         "y": [
          65.54646301269531,
          55.65000915527344,
          66.83393096923828,
          -11.19210433959961,
          -59.931514739990234,
          54.01765060424805,
          -20.096466064453125,
          -58.826438903808594,
          -44.2248420715332,
          -5.774318218231201,
          -70.83304595947266,
          -34.15732192993164,
          -59.53841018676758,
          63.495880126953125,
          -8.76358699798584,
          -12.005207061767578,
          -60.06398010253906,
          -50.706146240234375,
          58.583526611328125,
          -55.737701416015625,
          69.13150787353516,
          -55.4675407409668,
          49.4614372253418,
          -61.95579147338867,
          -39.88116455078125,
          73.72704315185547,
          -65.09337615966797,
          -32.67198181152344,
          -51.79616165161133,
          -19.687620162963867
         ],
         "yaxis": "y"
        },
        {
         "customdata": [
          [
           "exceptional"
          ],
          [
           "lay"
          ],
          [
           "extend"
          ],
          [
           "extraordinary"
          ],
          [
           "layoff"
          ],
          [
           "introduce"
          ],
          [
           "introduced"
          ],
          [
           "extension"
          ],
          [
           "extended"
          ],
          [
           "suspend"
          ],
          [
           "shorttime"
          ],
          [
           "extends"
          ],
          [
           "layoffs"
          ],
          [
           "2020/592"
          ],
          [
           "2021/605"
          ],
          [
           "specific"
          ],
          [
           "granting"
          ],
          [
           "suspended"
          ],
          [
           "article.the"
          ],
          [
           "establishes"
          ],
          [
           "apply"
          ],
          [
           "considered"
          ],
          [
           "reemployment"
          ],
          [
           "shorten"
          ],
          [
           "view"
          ],
          [
           "laying"
          ],
          [
           "duration"
          ],
          [
           "2020/699"
          ],
          [
           "partial"
          ],
          [
           "applied"
          ]
         ],
         "hovertemplate": "word_cluster=temporary<br>X=%{x}<br>Y=%{y}<br>word=%{customdata[0]}<extra></extra>",
         "legendgroup": "temporary",
         "marker": {
          "color": "#FFA15A",
          "symbol": "circle"
         },
         "mode": "markers",
         "name": "temporary",
         "orientation": "v",
         "showlegend": true,
         "type": "scatter",
         "x": [
          53.02595901489258,
          30.770376205444336,
          40.99736785888672,
          53.80574417114258,
          29.57259750366211,
          45.1298713684082,
          47.279296875,
          45.586429595947266,
          40.44811248779297,
          30.170284271240234,
          21.871435165405273,
          17.316679000854492,
          25.367700576782227,
          -3.175084114074707,
          -30.98365020751953,
          68.45886993408203,
          9.68618392944336,
          29.490020751953125,
          -27.121078491210938,
          19.677135467529297,
          42.74340057373047,
          33.42224884033203,
          5.503673553466797,
          17.26025390625,
          59.62913131713867,
          31.936832427978516,
          35.51057434082031,
          -38.863136291503906,
          32.6724967956543,
          40.40851974487305
         ],
         "xaxis": "x",
         "y": [
          28.305282592773438,
          30.811214447021484,
          27.138601303100586,
          31.037574768066406,
          24.32577896118164,
          40.4856071472168,
          41.66707229614258,
          27.020156860351562,
          24.357648849487305,
          3.521207809448242,
          36.69203186035156,
          5.461061000823975,
          23.374204635620117,
          -51.054710388183594,
          -56.779518127441406,
          79.17042541503906,
          2.921210765838623,
          1.094611406326294,
          -47.0574951171875,
          2.1960582733154297,
          16.172517776489258,
          14.573725700378418,
          3.943741798400879,
          8.261943817138672,
          67.47957611083984,
          35.04990768432617,
          24.238161087036133,
          -61.10258102416992,
          7.9723944664001465,
          19.270177841186523
         ],
         "yaxis": "y"
        },
        {
         "customdata": [
          [
           "cyber"
          ],
          [
           "apply.the"
          ],
          [
           "mind"
          ],
          [
           "neighbourhood"
          ],
          [
           "noteworthy"
          ],
          [
           "caretaker"
          ],
          [
           "repatriation.social"
          ],
          [
           "635,00"
          ],
          [
           "protocolthe"
          ],
          [
           "regions.it"
          ],
          [
           "macrofinancial"
          ],
          [
           "statement.social"
          ],
          [
           "18,to"
          ],
          [
           "contributionthe"
          ],
          [
           "enlargement"
          ],
          [
           "statefunde"
          ],
          [
           "balances"
          ],
          [
           "federal"
          ],
          [
           "westfalia"
          ],
          [
           "homeland"
          ],
          [
           "steady"
          ],
          [
           "estonian"
          ],
          [
           "afa"
          ],
          [
           "nonpeak"
          ],
          [
           "needs.social"
          ],
          [
           "national"
          ],
          [
           "assume"
          ],
          [
           "esales"
          ],
          [
           "maximal"
          ],
          [
           "esale"
          ]
         ],
         "hovertemplate": "word_cluster=social<br>X=%{x}<br>Y=%{y}<br>word=%{customdata[0]}<extra></extra>",
         "legendgroup": "social",
         "marker": {
          "color": "#19d3f3",
          "symbol": "circle"
         },
         "mode": "markers",
         "name": "social",
         "orientation": "v",
         "showlegend": true,
         "type": "scatter",
         "x": [
          -64.38813018798828,
          -71.70938873291016,
          -73.32469940185547,
          -61.17512512207031,
          -78.83216857910156,
          -69.90582275390625,
          -76.0738525390625,
          -59.935699462890625,
          -72.21529388427734,
          -76.09474182128906,
          -60.49285125732422,
          -66.4025650024414,
          -81.44821166992188,
          -69.57040405273438,
          -58.787109375,
          -67.21644592285156,
          -63.47189712524414,
          -42.27356719970703,
          -74.51478576660156,
          -68.51577758789062,
          -60.76719665527344,
          -31.882112503051758,
          -69.31613159179688,
          -67.3183822631836,
          -72.62135314941406,
          -32.7396354675293,
          -93.26420593261719,
          -72.16046142578125,
          -65.15397644042969,
          -62.73060989379883
         ],
         "xaxis": "x",
         "y": [
          4.147860527038574,
          -31.50748634338379,
          -25.565383911132812,
          25.153486251831055,
          -9.674203872680664,
          -0.32894814014434814,
          -21.4664249420166,
          -40.82186508178711,
          -39.613407135009766,
          -10.673632621765137,
          21.904922485351562,
          -33.953887939453125,
          -13.59057903289795,
          -46.54167556762695,
          28.13783073425293,
          -42.62067413330078,
          -43.34389877319336,
          92.52787017822266,
          -7.246254920959473,
          4.25931453704834,
          -49.2921028137207,
          64.88139343261719,
          10.539132118225098,
          -24.901519775390625,
          -12.718674659729004,
          83.93785858154297,
          22.07711410522461,
          -20.955373764038086,
          -54.98617935180664,
          -35.997344970703125
         ],
         "yaxis": "y"
        },
        {
         "customdata": [
          [
           "injection"
          ],
          [
           "assistance"
          ],
          [
           "help"
          ],
          [
           "supports"
          ],
          [
           "incentive"
          ],
          [
           "subsidies"
          ],
          [
           "prospectus"
          ],
          [
           "grants"
          ],
          [
           "supporting"
          ],
          [
           "sustain"
          ],
          [
           "supported"
          ],
          [
           "situation.extraordinary"
          ],
          [
           "kulturvermittler"
          ],
          [
           "ultimate"
          ],
          [
           "subsidy"
          ],
          [
           "1,614"
          ],
          [
           "incentives"
          ],
          [
           "each.the"
          ],
          [
           "productionrelate"
          ],
          [
           "aims"
          ],
          [
           "2.0"
          ],
          [
           "multiannual"
          ],
          [
           "thevarious"
          ],
          [
           "support.the"
          ],
          [
           "instability"
          ],
          [
           "funding"
          ],
          [
           "resources"
          ],
          [
           "people.companie"
          ],
          [
           "targets"
          ],
          [
           "aid"
          ],
          [
           "injection"
          ],
          [
           "assistance"
          ],
          [
           "help"
          ],
          [
           "supports"
          ],
          [
           "incentive"
          ],
          [
           "subsidies"
          ],
          [
           "prospectus"
          ],
          [
           "grants"
          ],
          [
           "supporting"
          ],
          [
           "sustain"
          ],
          [
           "supported"
          ],
          [
           "situation.extraordinary"
          ],
          [
           "kulturvermittler"
          ],
          [
           "ultimate"
          ],
          [
           "subsidy"
          ],
          [
           "1,614"
          ],
          [
           "incentives"
          ],
          [
           "each.the"
          ],
          [
           "productionrelate"
          ],
          [
           "aims"
          ],
          [
           "2.0"
          ],
          [
           "multiannual"
          ],
          [
           "thevarious"
          ],
          [
           "support.the"
          ],
          [
           "instability"
          ],
          [
           "funding"
          ],
          [
           "resources"
          ],
          [
           "people.companie"
          ],
          [
           "targets"
          ],
          [
           "aid"
          ]
         ],
         "hovertemplate": "word_cluster=support<br>X=%{x}<br>Y=%{y}<br>word=%{customdata[0]}<extra></extra>",
         "legendgroup": "support",
         "marker": {
          "color": "#FF6692",
          "symbol": "circle"
         },
         "mode": "markers",
         "name": "support",
         "orientation": "v",
         "showlegend": true,
         "type": "scatter",
         "x": [
          26.54567527770996,
          105.81310272216797,
          87.46228790283203,
          91.55335235595703,
          83.01953125,
          109.06769561767578,
          33.64815902709961,
          107.7312240600586,
          79.68839263916016,
          80.20519256591797,
          91.32830047607422,
          14.402966499328613,
          -1.7395401000976562,
          33.20072555541992,
          107.98454284667969,
          -48.36878204345703,
          83.59624481201172,
          -44.068695068359375,
          15.776019096374512,
          89.20137786865234,
          78.56510162353516,
          14.86013412475586,
          -51.733821868896484,
          4.2409892082214355,
          7.937351226806641,
          101.19432830810547,
          94.14906311035156,
          -38.74107360839844,
          94.3369140625,
          122.88712310791016,
          25.08623504638672,
          105.81310272216797,
          89.3603515625,
          93.85258483886719,
          80.5579605102539,
          109.06769561767578,
          31.305591583251953,
          107.7312240600586,
          79.68839263916016,
          82.28036499023438,
          92.90714263916016,
          12.814857482910156,
          -4.298492431640625,
          30.848018646240234,
          110.63330078125,
          -50.563045501708984,
          81.13360595703125,
          -44.01136016845703,
          16.546634674072266,
          90.33158111572266,
          77.75241088867188,
          14.285569190979004,
          -50.532649993896484,
          4.090324878692627,
          7.937351226806641,
          100.53929901123047,
          92.51536560058594,
          -36.38882827758789,
          91.91786193847656,
          122.88712310791016
         ],
         "xaxis": "x",
         "y": [
          -32.198909759521484,
          36.0037727355957,
          79.38109588623047,
          9.720105171203613,
          3.3275530338287354,
          -17.100183486938477,
          -42.742855072021484,
          -5.857019424438477,
          47.6689567565918,
          26.45803451538086,
          -16.96707534790039,
          -41.28591537475586,
          -45.508148193359375,
          -55.34569549560547,
          -24.437549591064453,
          -79.21205139160156,
          12.593544960021973,
          -69.69430541992188,
          -25.123645782470703,
          60.50631332397461,
          -10.661002159118652,
          51.86643600463867,
          -68.24954986572266,
          -34.28571701049805,
          -47.53472900390625,
          -10.29510498046875,
          -1.5276066064834595,
          -53.91386032104492,
          18.077064514160156,
          -19.948579788208008,
          -34.18402099609375,
          36.0037727355957,
          76.80164337158203,
          8.724002838134766,
          3.8040671348571777,
          -17.100183486938477,
          -43.27474594116211,
          -5.857019424438477,
          47.6689567565918,
          25.13027000427246,
          -18.900054931640625,
          -39.32143783569336,
          -45.816551208496094,
          -54.899417877197266,
          -24.35805320739746,
          -77.84565734863281,
          12.483386993408203,
          -72.23948669433594,
          -22.833799362182617,
          57.555999755859375,
          -8.38696575164795,
          54.19975280761719,
          -65.96394348144531,
          -31.874441146850586,
          -47.53472900390625,
          -7.747250080108643,
          -3.305544137954712,
          -52.753028869628906,
          17.958425521850586,
          -19.948579788208008
         ],
         "yaxis": "y"
        },
        {
         "customdata": [
          [
           "corona"
          ],
          [
           "coronavirus"
          ],
          [
           "covid19;4"
          ],
          [
           "commodity"
          ],
          [
           "thecovid19"
          ],
          [
           "covid19.the"
          ],
          [
           "emanated"
          ],
          [
           "commodities"
          ],
          [
           "moria"
          ],
          [
           "rdutn"
          ],
          [
           "virus"
          ],
          [
           "expediated"
          ],
          [
           "overloadin"
          ],
          [
           "recovering"
          ],
          [
           "covid19.measure"
          ],
          [
           "covid194"
          ],
          [
           "viruses"
          ],
          [
           "covid10"
          ],
          [
           "beginning"
          ],
          [
           "covid19.measures"
          ],
          [
           "beg"
          ],
          [
           "recognizing"
          ],
          [
           "minimizing"
          ],
          [
           "this"
          ],
          [
           "germanys"
          ],
          [
           "begging"
          ],
          [
           "hardhit"
          ],
          [
           "23,500"
          ],
          [
           "governmentprovided"
          ],
          [
           "covid19.companie"
          ]
         ],
         "hovertemplate": "word_cluster=covid19<br>X=%{x}<br>Y=%{y}<br>word=%{customdata[0]}<extra></extra>",
         "legendgroup": "covid19",
         "marker": {
          "color": "#B6E880",
          "symbol": "circle"
         },
         "mode": "markers",
         "name": "covid19",
         "orientation": "v",
         "showlegend": true,
         "type": "scatter",
         "x": [
          134.48593139648438,
          129.23703002929688,
          0.9287986159324646,
          -26.105031967163086,
          10.392743110656738,
          41.63216781616211,
          -14.724172592163086,
          -19.25604820251465,
          -7.347313404083252,
          -6.9814839363098145,
          128.08200073242188,
          -24.844396591186523,
          -5.040543556213379,
          -5.618359088897705,
          -28.04265022277832,
          0.08833498507738113,
          0.984498918056488,
          -8.665882110595703,
          39.612281799316406,
          -21.448606491088867,
          -17.081478118896484,
          -0.1642390638589859,
          -14.054936408996582,
          48.0164794921875,
          43.80378723144531,
          -18.31486701965332,
          3.2505271434783936,
          -19.32771110534668,
          -32.85366439819336,
          -29.371545791625977
         ],
         "xaxis": "x",
         "y": [
          74.302490234375,
          73.37321472167969,
          -76.89689636230469,
          -62.6569938659668,
          -71.14066314697266,
          -13.531984329223633,
          -78.58747100830078,
          -71.35115814208984,
          -84.79110717773438,
          -78.81715393066406,
          65.8197021484375,
          -69.62786102294922,
          -76.03203582763672,
          -71.94174194335938,
          -65.8372573852539,
          -81.42535400390625,
          -70.51631927490234,
          -89.69331359863281,
          -21.003482818603516,
          -77.54200744628906,
          -87.22795104980469,
          -87.5746841430664,
          -71.82430267333984,
          -18.536212921142578,
          -20.10996437072754,
          -90.8837890625,
          -89.74821472167969,
          -67.86263275146484,
          -65.91934204101562,
          -61.01165008544922
         ],
         "yaxis": "y"
        },
        {
         "customdata": [
          [
           "private"
          ],
          [
           "udbetaling"
          ],
          [
           "state"
          ],
          [
           "ohs"
          ],
          [
           "facilities.according"
          ],
          [
           "workers.notwithstande"
          ],
          [
           "workers.notwithstanding"
          ],
          [
           "endometriosis"
          ],
          [
           "prefects"
          ],
          [
           "provision"
          ],
          [
           "national"
          ],
          [
           "11,240"
          ],
          [
           "rescue"
          ],
          [
           "sheepmeat"
          ],
          [
           "governing"
          ],
          [
           "devolve"
          ],
          [
           "ensured.in"
          ],
          [
           "gynaecology"
          ],
          [
           "storage"
          ],
          [
           "udbetale"
          ],
          [
           "providers"
          ],
          [
           "applied.state"
          ],
          [
           "universal"
          ],
          [
           "conditions.this"
          ],
          [
           "essential"
          ],
          [
           "authorities"
          ],
          [
           "operationally"
          ],
          [
           "administrations"
          ],
          [
           "respect"
          ],
          [
           "operation"
          ]
         ],
         "hovertemplate": "word_cluster=public<br>X=%{x}<br>Y=%{y}<br>word=%{customdata[0]}<extra></extra>",
         "legendgroup": "public",
         "marker": {
          "color": "#FF97FF",
          "symbol": "circle"
         },
         "mode": "markers",
         "name": "public",
         "orientation": "v",
         "showlegend": true,
         "type": "scatter",
         "x": [
          -6.689255714416504,
          -49.08113479614258,
          -37.37101364135742,
          -26.345361709594727,
          -59.07896041870117,
          -55.37278747558594,
          -52.88771057128906,
          -22.012237548828125,
          -8.914202690124512,
          64.46658325195312,
          -32.7396354675293,
          -17.985919952392578,
          -50.27428436279297,
          -17.456504821777344,
          -46.81266403198242,
          -54.802188873291016,
          -26.798879623413086,
          -22.927703857421875,
          -19.30664825439453,
          -51.442626953125,
          -15.292247772216797,
          -23.64743995666504,
          -21.637989044189453,
          -23.037206649780273,
          -14.163713455200195,
          -41.92704391479492,
          -19.439525604248047,
          -36.27618408203125,
          -24.158411026000977,
          -20.155384063720703
         ],
         "xaxis": "x",
         "y": [
          31.051021575927734,
          -26.316242218017578,
          47.8306999206543,
          -11.405017852783203,
          -27.179718017578125,
          -36.24948501586914,
          -33.835994720458984,
          -3.766770124435425,
          1.9416338205337524,
          33.52579879760742,
          83.93785858154297,
          -5.508650302886963,
          36.90708541870117,
          -31.117990493774414,
          55.311763763427734,
          -20.815162658691406,
          -5.277001857757568,
          -6.147937297821045,
          23.809980392456055,
          -28.972768783569336,
          26.495378494262695,
          0.577336311340332,
          24.936471939086914,
          -15.719061851501465,
          33.97745895385742,
          45.11095428466797,
          -35.96440887451172,
          37.01740264892578,
          30.89677619934082,
          34.68155288696289
         ],
         "yaxis": "y"
        },
        {
         "customdata": [
          [
           "regional"
          ],
          [
           "federal"
          ],
          [
           "municipal"
          ],
          [
           "sixterm"
          ],
          [
           "responsible"
          ],
          [
           "estonian"
          ],
          [
           "policies"
          ],
          [
           "local"
          ],
          [
           "crosssectoral"
          ],
          [
           "governing"
          ],
          [
           "influenced"
          ],
          [
           "cooperation"
          ],
          [
           "mp"
          ],
          [
           "department"
          ],
          [
           "bodies"
          ],
          [
           "reform"
          ],
          [
           "associations2"
          ],
          [
           "collaboration"
          ],
          [
           "divosa"
          ],
          [
           "budgetary"
          ],
          [
           "coresponsible"
          ],
          [
           "powiat"
          ],
          [
           "board"
          ],
          [
           "solidarity"
          ],
          [
           "drafting"
          ],
          [
           "ministries"
          ],
          [
           "discussed"
          ],
          [
           "competence"
          ],
          [
           "exsits"
          ],
          [
           "governments"
          ]
         ],
         "hovertemplate": "word_cluster=national<br>X=%{x}<br>Y=%{y}<br>word=%{customdata[0]}<extra></extra>",
         "legendgroup": "national",
         "marker": {
          "color": "#FECB52",
          "symbol": "circle"
         },
         "mode": "markers",
         "name": "national",
         "orientation": "v",
         "showlegend": true,
         "type": "scatter",
         "x": [
          -41.552852630615234,
          -42.27356719970703,
          -43.532005310058594,
          -57.88240051269531,
          -57.14310073852539,
          -31.550947189331055,
          -52.12135696411133,
          -39.80109786987305,
          -72.20365142822266,
          -46.81266403198242,
          -60.29094696044922,
          -47.853599548339844,
          -58.52639389038086,
          -59.455204010009766,
          -49.62260818481445,
          -92.44416046142578,
          -55.04487228393555,
          -53.50084686279297,
          -68.34893798828125,
          -55.7922477722168,
          -61.43380355834961,
          -83.00526428222656,
          -53.975563049316406,
          -26.880483627319336,
          -69.90167236328125,
          -68.75785827636719,
          -69.20242309570312,
          -53.81772232055664,
          -79.65504455566406,
          -50.68743133544922
         ],
         "xaxis": "x",
         "y": [
          77.31146240234375,
          92.52787017822266,
          67.78650665283203,
          -7.5238471031188965,
          65.80841827392578,
          62.4852294921875,
          76.41368865966797,
          74.79852294921875,
          34.75398635864258,
          55.311763763427734,
          37.174068450927734,
          73.189453125,
          -4.857825756072998,
          72.13438415527344,
          67.95897674560547,
          74.37347412109375,
          -17.60800552368164,
          71.24494171142578,
          37.84907531738281,
          40.21540069580078,
          -18.281633377075195,
          10.520316123962402,
          59.93302917480469,
          64.68494415283203,
          44.811553955078125,
          67.65193176269531,
          48.342994689941406,
          68.21868896484375,
          24.907575607299805,
          44.76751708984375
         ],
         "yaxis": "y"
        },
        {
         "customdata": [
          [
           "unanimously"
          ],
          [
           "acted"
          ],
          [
           "deputies"
          ],
          [
           "action"
          ],
          [
           "say"
          ],
          [
           "parliamentary"
          ],
          [
           "recommendation"
          ],
          [
           "joint"
          ],
          [
           "complaint"
          ],
          [
           "presented"
          ],
          [
           "conclusion"
          ],
          [
           "nomination"
          ],
          [
           "seanad"
          ],
          [
           "maszsz"
          ],
          [
           "forwarded"
          ],
          [
           "representative"
          ],
          [
           "anticipating"
          ],
          [
           "negotiation"
          ],
          [
           "position"
          ],
          [
           "crosssectoral"
          ],
          [
           "negotiations"
          ],
          [
           "formulate"
          ],
          [
           "chaired"
          ],
          [
           "protested"
          ],
          [
           "said"
          ],
          [
           "behalf"
          ],
          [
           "meeting"
          ],
          [
           "shift2rail"
          ],
          [
           "varadkar"
          ],
          [
           "appeal"
          ]
         ],
         "hovertemplate": "word_cluster=statement<br>X=%{x}<br>Y=%{y}<br>word=%{customdata[0]}<extra></extra>",
         "legendgroup": "statement",
         "marker": {
          "color": "#636efa",
          "symbol": "circle"
         },
         "mode": "markers",
         "name": "statement",
         "orientation": "v",
         "showlegend": true,
         "type": "scatter",
         "x": [
          -77.25226593017578,
          -103.02314758300781,
          -92.2610855102539,
          -98.66361999511719,
          -93.21944427490234,
          -74.51856231689453,
          -86.38525390625,
          -68.59758758544922,
          -91.66902160644531,
          -66.87120819091797,
          -77.01547241210938,
          -88.866455078125,
          -82.82417297363281,
          -95.49820709228516,
          -100.58820343017578,
          -62.429561614990234,
          -63.30845642089844,
          -74.17826843261719,
          -81.673583984375,
          -70.28062438964844,
          -76.91200256347656,
          -88.39120483398438,
          -93.99540710449219,
          -73.83678436279297,
          -97.00540161132812,
          -78.32254028320312,
          -76.61663818359375,
          -102.08061218261719,
          -90.34187316894531,
          -94.98680877685547
         ],
         "xaxis": "x",
         "y": [
          36.92611312866211,
          18.772090911865234,
          18.163005828857422,
          73.58492279052734,
          59.08633041381836,
          44.95563888549805,
          95.4553451538086,
          98.54910278320312,
          33.21504211425781,
          52.320098876953125,
          87.15735626220703,
          14.813209533691406,
          27.127038955688477,
          53.34519958496094,
          17.473066329956055,
          92.10543823242188,
          -59.19992446899414,
          97.58287048339844,
          96.91432189941406,
          33.26850891113281,
          99.91205596923828,
          30.91853904724121,
          12.694664001464844,
          29.789167404174805,
          59.56907272338867,
          83.6777572631836,
          104.33715057373047,
          13.100825309753418,
          51.914573669433594,
          67.49855041503906
         ],
         "yaxis": "y"
        },
        {
         "customdata": [
          [
           "ross"
          ],
          [
           "sector.due"
          ],
          [
           "recuperation"
          ],
          [
           "toys"
          ],
          [
           "reappointments"
          ],
          [
           "marynarzom"
          ],
          [
           "addressesprivate"
          ],
          [
           "healthcare"
          ],
          [
           "lone"
          ],
          [
           "breakout"
          ],
          [
           "medicine"
          ],
          [
           "anticontagion"
          ],
          [
           "administrations"
          ],
          [
           "support.shift"
          ],
          [
           "prehospital"
          ],
          [
           "proclamations"
          ],
          [
           "cinemas.expenditure"
          ],
          [
           "selfisolated"
          ],
          [
           "tension"
          ],
          [
           "seafarersbezpieczenstwa"
          ],
          [
           "helth"
          ],
          [
           "occupational"
          ],
          [
           "protection"
          ],
          [
           "escalated"
          ],
          [
           "health.therefore"
          ],
          [
           "healthpromote"
          ],
          [
           "protocols"
          ],
          [
           "intensive"
          ],
          [
           "campaigned"
          ],
          [
           "fatigue"
          ]
         ],
         "hovertemplate": "word_cluster=health<br>X=%{x}<br>Y=%{y}<br>word=%{customdata[0]}<extra></extra>",
         "legendgroup": "health",
         "marker": {
          "color": "#EF553B",
          "symbol": "circle"
         },
         "mode": "markers",
         "name": "health",
         "orientation": "v",
         "showlegend": true,
         "type": "scatter",
         "x": [
          -35.12736129760742,
          -34.43614196777344,
          -38.833709716796875,
          -38.914703369140625,
          -43.38313293457031,
          -41.942665100097656,
          -35.86911392211914,
          -5.489957809448242,
          -39.19605255126953,
          -39.15882873535156,
          -16.77768898010254,
          -42.74762725830078,
          -34.03470993041992,
          -33.62406921386719,
          -47.07217025756836,
          -37.5405387878418,
          -30.17886734008789,
          -32.37797164916992,
          -26.524930953979492,
          -43.4598503112793,
          -45.844913482666016,
          -15.614470481872559,
          -15.408717155456543,
          -52.4749641418457,
          -41.19579315185547,
          -51.400291442871094,
          -16.89466094970703,
          -12.385244369506836,
          -47.56782531738281,
          -42.819496154785156
         ],
         "xaxis": "x",
         "y": [
          -8.271531105041504,
          -27.39459991455078,
          -36.739131927490234,
          -6.152271747589111,
          -14.28990364074707,
          -9.226719856262207,
          -23.534915924072266,
          35.88494110107422,
          -11.902200698852539,
          -21.163881301879883,
          47.117408752441406,
          -1.187088131904602,
          37.87043380737305,
          -34.201683044433594,
          -16.047496795654297,
          -29.186891555786133,
          -26.610803604125977,
          -18.720388412475586,
          -25.380142211914062,
          -5.711811065673828,
          -42.20567321777344,
          51.719120025634766,
          56.27534103393555,
          -44.61707305908203,
          -27.95832633972168,
          -39.04570770263672,
          44.086124420166016,
          12.392192840576172,
          -9.069646835327148,
          -35.24174499511719
         ],
         "yaxis": "y"
        },
        {
         "customdata": [
          [
           "paschal"
          ],
          [
           "ministry"
          ],
          [
           "science"
          ],
          [
           "donohoe"
          ],
          [
           "ministries"
          ],
          [
           "directorate"
          ],
          [
           "speech"
          ],
          [
           "ogorman"
          ],
          [
           "affairs"
          ],
          [
           "refusing"
          ],
          [
           "ministers"
          ],
          [
           "stephen"
          ],
          [
           "deputy"
          ],
          [
           "aschbacher"
          ],
          [
           "president"
          ],
          [
           "humphreys"
          ],
          [
           "2020).furthermore"
          ],
          [
           "fluorides"
          ],
          [
           "letters"
          ],
          [
           "collins"
          ],
          [
           "circular"
          ],
          [
           "ms"
          ],
          [
           "prime"
          ],
          [
           "mette"
          ],
          [
           "gowin"
          ],
          [
           "mcgrath"
          ],
          [
           "td"
          ],
          [
           "resources.the"
          ],
          [
           "harris"
          ],
          [
           "658"
          ]
         ],
         "hovertemplate": "word_cluster=minister<br>X=%{x}<br>Y=%{y}<br>word=%{customdata[0]}<extra></extra>",
         "legendgroup": "minister",
         "marker": {
          "color": "#00cc96",
          "symbol": "circle"
         },
         "mode": "markers",
         "name": "minister",
         "orientation": "v",
         "showlegend": true,
         "type": "scatter",
         "x": [
          -79.41632843017578,
          -49.0239372253418,
          -82.60828399658203,
          -86.47962188720703,
          -68.86585235595703,
          -78.18846893310547,
          -89.73816680908203,
          -89.11463165283203,
          -53.452476501464844,
          -83.91456604003906,
          -88.2242660522461,
          -92.40240478515625,
          -81.93357849121094,
          -84.64559936523438,
          -90.44409942626953,
          -84.7611312866211,
          -93.6740951538086,
          -58.13505172729492,
          -84.49270629882812,
          -79.77578735351562,
          -77.43988037109375,
          -84.61244201660156,
          -87.9496841430664,
          -89.63986206054688,
          -88.03585815429688,
          -83.45649719238281,
          -88.40927124023438,
          -99.287109375,
          -83.79132843017578,
          -94.90631103515625
         ],
         "xaxis": "x",
         "y": [
          60.80471420288086,
          84.08375549316406,
          72.91622161865234,
          70.32540893554688,
          65.20623779296875,
          55.210723876953125,
          65.98934173583984,
          7.155655384063721,
          81.32721710205078,
          4.168977737426758,
          86.07469177246094,
          -2.646548271179199,
          58.425270080566406,
          46.90222930908203,
          81.3228530883789,
          62.56289291381836,
          2.0830154418945312,
          -30.701677322387695,
          17.35383415222168,
          16.75663948059082,
          66.965576171875,
          49.467750549316406,
          74.36677551269531,
          1.161034107208252,
          10.55850601196289,
          54.64807891845703,
          61.58671188354492,
          -1.8420660495758057,
          65.70276641845703,
          4.642177104949951
         ],
         "yaxis": "y"
        },
        {
         "customdata": [
          [
           "quickly"
          ],
          [
           "adaptation"
          ],
          [
           "different"
          ],
          [
           "jobs"
          ],
          [
           "implemented"
          ],
          [
           "retention"
          ],
          [
           "create"
          ],
          [
           "changes"
          ],
          [
           "expand"
          ],
          [
           "come"
          ],
          [
           "ideas"
          ],
          [
           "facilitate"
          ],
          [
           "existing"
          ],
          [
           "supporting"
          ],
          [
           "created"
          ],
          [
           "aims"
          ],
          [
           "includes"
          ],
          [
           "develop"
          ],
          [
           "set"
          ],
          [
           "potential"
          ],
          [
           "specific"
          ],
          [
           "aim"
          ],
          [
           "flexible"
          ],
          [
           "adapt"
          ],
          [
           "update"
          ],
          [
           "change"
          ],
          [
           "help"
          ],
          [
           "49500/1498/2020"
          ],
          [
           "upskilling"
          ],
          [
           "job"
          ]
         ],
         "hovertemplate": "word_cluster=new<br>X=%{x}<br>Y=%{y}<br>word=%{customdata[0]}<extra></extra>",
         "legendgroup": "new",
         "marker": {
          "color": "#ab63fa",
          "symbol": "circle"
         },
         "mode": "markers",
         "name": "new",
         "orientation": "v",
         "showlegend": true,
         "type": "scatter",
         "x": [
          87.17330169677734,
          86.47895050048828,
          73.72891235351562,
          74.92619323730469,
          71.38042449951172,
          78.55593872070312,
          81.64744567871094,
          35.9764518737793,
          83.00025177001953,
          36.307037353515625,
          -92.48091125488281,
          88.088134765625,
          68.91939544677734,
          79.68839263916016,
          82.3393325805664,
          87.22704315185547,
          73.48368072509766,
          49.71976089477539,
          63.356170654296875,
          89.99862670898438,
          68.45886993408203,
          84.18789672851562,
          20.050321578979492,
          89.52471923828125,
          -67.88216400146484,
          34.33015823364258,
          89.3603515625,
          -30.830236434936523,
          -68.46823120117188,
          73.84967041015625
         ],
         "xaxis": "x",
         "y": [
          30.683788299560547,
          40.64988708496094,
          41.73300552368164,
          61.166873931884766,
          28.082962036132812,
          21.90517234802246,
          40.722877502441406,
          50.90089416503906,
          29.466272354125977,
          -11.976724624633789,
          -26.179994583129883,
          46.30677795410156,
          36.56310272216797,
          47.6689567565918,
          34.67213821411133,
          57.95347213745117,
          32.00801467895508,
          56.46751022338867,
          40.34800720214844,
          34.4084358215332,
          79.17042541503906,
          62.2668571472168,
          32.40412902832031,
          39.67475128173828,
          56.047767639160156,
          52.96384811401367,
          76.80164337158203,
          -41.830322265625,
          -11.69225025177002,
          58.74998092651367
         ],
         "yaxis": "y"
        },
        {
         "customdata": [
          [
           "corona"
          ],
          [
           "emanated"
          ],
          [
           "consequences"
          ],
          [
           "virus"
          ],
          [
           "caused"
          ],
          [
           "effects"
          ],
          [
           "negative"
          ],
          [
           "covid19"
          ],
          [
           "thecovid19"
          ],
          [
           "wave"
          ],
          [
           "covid19;4"
          ],
          [
           "adverse"
          ],
          [
           "consequence"
          ],
          [
           "prevent"
          ],
          [
           "'cause"
          ],
          [
           "sarscov2"
          ],
          [
           "result"
          ],
          [
           "mutation"
          ],
          [
           "covid19.the"
          ],
          [
           "mitigate"
          ],
          [
           "current"
          ],
          [
           "covid19.measures"
          ],
          [
           "moria"
          ],
          [
           "address"
          ],
          [
           "damage"
          ],
          [
           "risks"
          ],
          [
           "coronary"
          ],
          [
           "lockdowns"
          ],
          [
           "pathogenic"
          ],
          [
           "emerge"
          ]
         ],
         "hovertemplate": "word_cluster=coronavirus<br>X=%{x}<br>Y=%{y}<br>word=%{customdata[0]}<extra></extra>",
         "legendgroup": "coronavirus",
         "marker": {
          "color": "#FFA15A",
          "symbol": "circle"
         },
         "mode": "markers",
         "name": "coronavirus",
         "orientation": "v",
         "showlegend": true,
         "type": "scatter",
         "x": [
          134.48593139648438,
          -16.005237579345703,
          116.77732849121094,
          128.08200073242188,
          116.55990600585938,
          113.45905303955078,
          119.78155517578125,
          132.19943237304688,
          11.994815826416016,
          128.4672393798828,
          3.2666537761688232,
          61.913902282714844,
          115.1314468383789,
          109.8238525390625,
          114.76297760009766,
          57.70562744140625,
          119.98744201660156,
          9.490283012390137,
          42.37150955200195,
          107.70874786376953,
          119.85620880126953,
          -23.937686920166016,
          -9.911794662475586,
          96.22991180419922,
          62.953060150146484,
          107.4095230102539,
          47.784828186035156,
          46.06631851196289,
          -24.52313232421875,
          45.56550598144531
         ],
         "xaxis": "x",
         "y": [
          74.302490234375,
          -80.86363220214844,
          69.05680847167969,
          65.8197021484375,
          62.37553024291992,
          71.79177856445312,
          66.05826568603516,
          78.9739761352539,
          -73.28284454345703,
          58.86536407470703,
          -78.13578796386719,
          -18.80088996887207,
          65.49403381347656,
          62.41542053222656,
          58.522090911865234,
          -18.291900634765625,
          58.69924545288086,
          -78.05571746826172,
          -11.251429557800293,
          71.2930679321289,
          53.49697494506836,
          -76.81781005859375,
          -84.52923583984375,
          61.35517883300781,
          -21.160724639892578,
          54.510353088378906,
          -31.659526824951172,
          -24.475353240966797,
          -82.05790710449219,
          -28.922203063964844
         ],
         "yaxis": "y"
        },
        {
         "customdata": [
          [
           "toknow"
          ],
          [
           "vaccines"
          ],
          [
           "fight"
          ],
          [
           "crisis.this"
          ],
          [
           "codify"
          ],
          [
           "covered.in"
          ],
          [
           "checklist"
          ],
          [
           "quasilockdown"
          ],
          [
           "beat"
          ],
          [
           "modernising"
          ],
          [
           "phase.this"
          ],
          [
           "elisas"
          ],
          [
           "behave"
          ],
          [
           "crisis.reduction"
          ],
          [
           "occasion"
          ],
          [
           "itrecognises"
          ],
          [
           "crisis.can"
          ],
          [
           "atenant"
          ],
          [
           "measures.lex"
          ],
          [
           "labels"
          ],
          [
           "ghana"
          ],
          [
           "shock.so"
          ],
          [
           "anti"
          ],
          [
           "vaccination"
          ],
          [
           "decease"
          ],
          [
           "hauliers.eu"
          ],
          [
           "briefing"
          ],
          [
           "sustainably"
          ],
          [
           "variants"
          ],
          [
           "healths"
          ]
         ],
         "hovertemplate": "word_cluster=vaccine<br>X=%{x}<br>Y=%{y}<br>word=%{customdata[0]}<extra></extra>",
         "legendgroup": "vaccine",
         "marker": {
          "color": "#19d3f3",
          "symbol": "circle"
         },
         "mode": "markers",
         "name": "vaccine",
         "orientation": "v",
         "showlegend": true,
         "type": "scatter",
         "x": [
          62.101234436035156,
          73.10763549804688,
          71.05088806152344,
          58.690006256103516,
          66.9013900756836,
          63.02775192260742,
          67.81330871582031,
          64.88067626953125,
          72.70510864257812,
          66.02850341796875,
          61.999820709228516,
          70.25753784179688,
          51.84559631347656,
          56.957332611083984,
          67.20319366455078,
          53.959781646728516,
          55.34290313720703,
          61.81108856201172,
          53.369876861572266,
          50.25117874145508,
          55.39917755126953,
          50.343196868896484,
          70.29354858398438,
          76.62299346923828,
          60.645721435546875,
          59.010868072509766,
          67.46691131591797,
          71.13667297363281,
          50.90746307373047,
          56.600921630859375
         ],
         "xaxis": "x",
         "y": [
          -62.471107482910156,
          -41.82341003417969,
          -35.1858024597168,
          -70.72493743896484,
          -66.40070343017578,
          -66.59386444091797,
          -52.30428695678711,
          -71.1076431274414,
          -62.17355728149414,
          -34.8326416015625,
          -70.28841400146484,
          -55.538055419921875,
          -62.4976921081543,
          -61.06591033935547,
          -60.01659393310547,
          -68.9916763305664,
          -65.48733520507812,
          -57.907142639160156,
          -58.91286849975586,
          -66.66282653808594,
          -74.2416763305664,
          -71.69744110107422,
          -44.529701232910156,
          -38.59571075439453,
          -74.88131713867188,
          -66.27287292480469,
          -42.68111801147461,
          -70.11981964111328,
          -54.816429138183594,
          -53.14661407470703
         ],
         "yaxis": "y"
        },
        {
         "customdata": [
          [
           "supplementing"
          ],
          [
           "commissions"
          ],
          [
           "troszczynski"
          ],
          [
           "mylene"
          ],
          [
           "eurofound"
          ],
          [
           "mainland"
          ],
          [
           "adaptability"
          ],
          [
           "sky"
          ],
          [
           "1157"
          ],
          [
           "echa"
          ],
          [
           "accompanying"
          ],
          [
           "efsa"
          ],
          [
           "2020/634"
          ],
          [
           "environment.the"
          ],
          [
           "summary"
          ],
          [
           "document"
          ],
          [
           "surveillance"
          ],
          [
           "heretat"
          ],
          [
           "2021/752"
          ],
          [
           "setoff"
          ],
          [
           "2020/1143"
          ],
          [
           "slip"
          ],
          [
           "appreciated"
          ],
          [
           "article164"
          ],
          [
           "fund.the"
          ],
          [
           "sum01"
          ],
          [
           "approval"
          ],
          [
           "mobilita"
          ],
          [
           "flag"
          ],
          [
           "efta"
          ]
         ],
         "hovertemplate": "word_cluster=commission<br>X=%{x}<br>Y=%{y}<br>word=%{customdata[0]}<extra></extra>",
         "legendgroup": "commission",
         "marker": {
          "color": "#FF6692",
          "symbol": "circle"
         },
         "mode": "markers",
         "name": "commission",
         "orientation": "v",
         "showlegend": true,
         "type": "scatter",
         "x": [
          -102.66827392578125,
          -105.79655456542969,
          -106.9742660522461,
          -108.53634643554688,
          -112.77935791015625,
          -101.07130432128906,
          -105.16419219970703,
          -108.06254577636719,
          -109.02860260009766,
          -117.65160369873047,
          -112.80235290527344,
          -116.0422592163086,
          -115.21600341796875,
          -102.9861831665039,
          -109.1078872680664,
          -116.32499694824219,
          -119.90455627441406,
          -111.73921966552734,
          -116.73345184326172,
          -98.08748626708984,
          -118.35700225830078,
          -98.62092590332031,
          -105.69530487060547,
          -112.0878677368164,
          -122.5288314819336,
          -114.12380981445312,
          -62.48793029785156,
          -108.25273895263672,
          -99.91058349609375,
          -119.08606719970703
         ],
         "xaxis": "x",
         "y": [
          35.2953987121582,
          31.081336975097656,
          -7.078519344329834,
          -4.844104766845703,
          -14.577798843383789,
          -17.923229217529297,
          -16.441415786743164,
          29.418758392333984,
          -12.958297729492188,
          17.3077449798584,
          55.604515075683594,
          12.761110305786133,
          -2.8269875049591064,
          -24.34312629699707,
          54.57780075073242,
          56.88236618041992,
          25.13823890686035,
          4.435307025909424,
          -6.794999599456787,
          -26.10541343688965,
          -4.435718059539795,
          -29.384204864501953,
          -23.56977081298828,
          -19.188583374023438,
          -6.930522441864014,
          2.8291914463043213,
          49.54629898071289,
          -1.1915736198425293,
          28.116823196411133,
          21.55847930908203
         ],
         "yaxis": "y"
        }
       ],
       "layout": {
        "legend": {
         "title": {
          "text": "word_cluster"
         },
         "tracegroupgap": 0
        },
        "margin": {
         "t": 60
        },
        "template": {
         "data": {
          "bar": [
           {
            "error_x": {
             "color": "#2a3f5f"
            },
            "error_y": {
             "color": "#2a3f5f"
            },
            "marker": {
             "line": {
              "color": "#E5ECF6",
              "width": 0.5
             },
             "pattern": {
              "fillmode": "overlay",
              "size": 10,
              "solidity": 0.2
             }
            },
            "type": "bar"
           }
          ],
          "barpolar": [
           {
            "marker": {
             "line": {
              "color": "#E5ECF6",
              "width": 0.5
             },
             "pattern": {
              "fillmode": "overlay",
              "size": 10,
              "solidity": 0.2
             }
            },
            "type": "barpolar"
           }
          ],
          "carpet": [
           {
            "aaxis": {
             "endlinecolor": "#2a3f5f",
             "gridcolor": "white",
             "linecolor": "white",
             "minorgridcolor": "white",
             "startlinecolor": "#2a3f5f"
            },
            "baxis": {
             "endlinecolor": "#2a3f5f",
             "gridcolor": "white",
             "linecolor": "white",
             "minorgridcolor": "white",
             "startlinecolor": "#2a3f5f"
            },
            "type": "carpet"
           }
          ],
          "choropleth": [
           {
            "colorbar": {
             "outlinewidth": 0,
             "ticks": ""
            },
            "type": "choropleth"
           }
          ],
          "contour": [
           {
            "colorbar": {
             "outlinewidth": 0,
             "ticks": ""
            },
            "colorscale": [
             [
              0.0,
              "#0d0887"
             ],
             [
              0.1111111111111111,
              "#46039f"
             ],
             [
              0.2222222222222222,
              "#7201a8"
             ],
             [
              0.3333333333333333,
              "#9c179e"
             ],
             [
              0.4444444444444444,
              "#bd3786"
             ],
             [
              0.5555555555555556,
              "#d8576b"
             ],
             [
              0.6666666666666666,
              "#ed7953"
             ],
             [
              0.7777777777777778,
              "#fb9f3a"
             ],
             [
              0.8888888888888888,
              "#fdca26"
             ],
             [
              1.0,
              "#f0f921"
             ]
            ],
            "type": "contour"
           }
          ],
          "contourcarpet": [
           {
            "colorbar": {
             "outlinewidth": 0,
             "ticks": ""
            },
            "type": "contourcarpet"
           }
          ],
          "heatmap": [
           {
            "colorbar": {
             "outlinewidth": 0,
             "ticks": ""
            },
            "colorscale": [
             [
              0.0,
              "#0d0887"
             ],
             [
              0.1111111111111111,
              "#46039f"
             ],
             [
              0.2222222222222222,
              "#7201a8"
             ],
             [
              0.3333333333333333,
              "#9c179e"
             ],
             [
              0.4444444444444444,
              "#bd3786"
             ],
             [
              0.5555555555555556,
              "#d8576b"
             ],
             [
              0.6666666666666666,
              "#ed7953"
             ],
             [
              0.7777777777777778,
              "#fb9f3a"
             ],
             [
              0.8888888888888888,
              "#fdca26"
             ],
             [
              1.0,
              "#f0f921"
             ]
            ],
            "type": "heatmap"
           }
          ],
          "heatmapgl": [
           {
            "colorbar": {
             "outlinewidth": 0,
             "ticks": ""
            },
            "colorscale": [
             [
              0.0,
              "#0d0887"
             ],
             [
              0.1111111111111111,
              "#46039f"
             ],
             [
              0.2222222222222222,
              "#7201a8"
             ],
             [
              0.3333333333333333,
              "#9c179e"
             ],
             [
              0.4444444444444444,
              "#bd3786"
             ],
             [
              0.5555555555555556,
              "#d8576b"
             ],
             [
              0.6666666666666666,
              "#ed7953"
             ],
             [
              0.7777777777777778,
              "#fb9f3a"
             ],
             [
              0.8888888888888888,
              "#fdca26"
             ],
             [
              1.0,
              "#f0f921"
             ]
            ],
            "type": "heatmapgl"
           }
          ],
          "histogram": [
           {
            "marker": {
             "pattern": {
              "fillmode": "overlay",
              "size": 10,
              "solidity": 0.2
             }
            },
            "type": "histogram"
           }
          ],
          "histogram2d": [
           {
            "colorbar": {
             "outlinewidth": 0,
             "ticks": ""
            },
            "colorscale": [
             [
              0.0,
              "#0d0887"
             ],
             [
              0.1111111111111111,
              "#46039f"
             ],
             [
              0.2222222222222222,
              "#7201a8"
             ],
             [
              0.3333333333333333,
              "#9c179e"
             ],
             [
              0.4444444444444444,
              "#bd3786"
             ],
             [
              0.5555555555555556,
              "#d8576b"
             ],
             [
              0.6666666666666666,
              "#ed7953"
             ],
             [
              0.7777777777777778,
              "#fb9f3a"
             ],
             [
              0.8888888888888888,
              "#fdca26"
             ],
             [
              1.0,
              "#f0f921"
             ]
            ],
            "type": "histogram2d"
           }
          ],
          "histogram2dcontour": [
           {
            "colorbar": {
             "outlinewidth": 0,
             "ticks": ""
            },
            "colorscale": [
             [
              0.0,
              "#0d0887"
             ],
             [
              0.1111111111111111,
              "#46039f"
             ],
             [
              0.2222222222222222,
              "#7201a8"
             ],
             [
              0.3333333333333333,
              "#9c179e"
             ],
             [
              0.4444444444444444,
              "#bd3786"
             ],
             [
              0.5555555555555556,
              "#d8576b"
             ],
             [
              0.6666666666666666,
              "#ed7953"
             ],
             [
              0.7777777777777778,
              "#fb9f3a"
             ],
             [
              0.8888888888888888,
              "#fdca26"
             ],
             [
              1.0,
              "#f0f921"
             ]
            ],
            "type": "histogram2dcontour"
           }
          ],
          "mesh3d": [
           {
            "colorbar": {
             "outlinewidth": 0,
             "ticks": ""
            },
            "type": "mesh3d"
           }
          ],
          "parcoords": [
           {
            "line": {
             "colorbar": {
              "outlinewidth": 0,
              "ticks": ""
             }
            },
            "type": "parcoords"
           }
          ],
          "pie": [
           {
            "automargin": true,
            "type": "pie"
           }
          ],
          "scatter": [
           {
            "marker": {
             "colorbar": {
              "outlinewidth": 0,
              "ticks": ""
             }
            },
            "type": "scatter"
           }
          ],
          "scatter3d": [
           {
            "line": {
             "colorbar": {
              "outlinewidth": 0,
              "ticks": ""
             }
            },
            "marker": {
             "colorbar": {
              "outlinewidth": 0,
              "ticks": ""
             }
            },
            "type": "scatter3d"
           }
          ],
          "scattercarpet": [
           {
            "marker": {
             "colorbar": {
              "outlinewidth": 0,
              "ticks": ""
             }
            },
            "type": "scattercarpet"
           }
          ],
          "scattergeo": [
           {
            "marker": {
             "colorbar": {
              "outlinewidth": 0,
              "ticks": ""
             }
            },
            "type": "scattergeo"
           }
          ],
          "scattergl": [
           {
            "marker": {
             "colorbar": {
              "outlinewidth": 0,
              "ticks": ""
             }
            },
            "type": "scattergl"
           }
          ],
          "scattermapbox": [
           {
            "marker": {
             "colorbar": {
              "outlinewidth": 0,
              "ticks": ""
             }
            },
            "type": "scattermapbox"
           }
          ],
          "scatterpolar": [
           {
            "marker": {
             "colorbar": {
              "outlinewidth": 0,
              "ticks": ""
             }
            },
            "type": "scatterpolar"
           }
          ],
          "scatterpolargl": [
           {
            "marker": {
             "colorbar": {
              "outlinewidth": 0,
              "ticks": ""
             }
            },
            "type": "scatterpolargl"
           }
          ],
          "scatterternary": [
           {
            "marker": {
             "colorbar": {
              "outlinewidth": 0,
              "ticks": ""
             }
            },
            "type": "scatterternary"
           }
          ],
          "surface": [
           {
            "colorbar": {
             "outlinewidth": 0,
             "ticks": ""
            },
            "colorscale": [
             [
              0.0,
              "#0d0887"
             ],
             [
              0.1111111111111111,
              "#46039f"
             ],
             [
              0.2222222222222222,
              "#7201a8"
             ],
             [
              0.3333333333333333,
              "#9c179e"
             ],
             [
              0.4444444444444444,
              "#bd3786"
             ],
             [
              0.5555555555555556,
              "#d8576b"
             ],
             [
              0.6666666666666666,
              "#ed7953"
             ],
             [
              0.7777777777777778,
              "#fb9f3a"
             ],
             [
              0.8888888888888888,
              "#fdca26"
             ],
             [
              1.0,
              "#f0f921"
             ]
            ],
            "type": "surface"
           }
          ],
          "table": [
           {
            "cells": {
             "fill": {
              "color": "#EBF0F8"
             },
             "line": {
              "color": "white"
             }
            },
            "header": {
             "fill": {
              "color": "#C8D4E3"
             },
             "line": {
              "color": "white"
             }
            },
            "type": "table"
           }
          ]
         },
         "layout": {
          "annotationdefaults": {
           "arrowcolor": "#2a3f5f",
           "arrowhead": 0,
           "arrowwidth": 1
          },
          "autotypenumbers": "strict",
          "coloraxis": {
           "colorbar": {
            "outlinewidth": 0,
            "ticks": ""
           }
          },
          "colorscale": {
           "diverging": [
            [
             0,
             "#8e0152"
            ],
            [
             0.1,
             "#c51b7d"
            ],
            [
             0.2,
             "#de77ae"
            ],
            [
             0.3,
             "#f1b6da"
            ],
            [
             0.4,
             "#fde0ef"
            ],
            [
             0.5,
             "#f7f7f7"
            ],
            [
             0.6,
             "#e6f5d0"
            ],
            [
             0.7,
             "#b8e186"
            ],
            [
             0.8,
             "#7fbc41"
            ],
            [
             0.9,
             "#4d9221"
            ],
            [
             1,
             "#276419"
            ]
           ],
           "sequential": [
            [
             0.0,
             "#0d0887"
            ],
            [
             0.1111111111111111,
             "#46039f"
            ],
            [
             0.2222222222222222,
             "#7201a8"
            ],
            [
             0.3333333333333333,
             "#9c179e"
            ],
            [
             0.4444444444444444,
             "#bd3786"
            ],
            [
             0.5555555555555556,
             "#d8576b"
            ],
            [
             0.6666666666666666,
             "#ed7953"
            ],
            [
             0.7777777777777778,
             "#fb9f3a"
            ],
            [
             0.8888888888888888,
             "#fdca26"
            ],
            [
             1.0,
             "#f0f921"
            ]
           ],
           "sequentialminus": [
            [
             0.0,
             "#0d0887"
            ],
            [
             0.1111111111111111,
             "#46039f"
            ],
            [
             0.2222222222222222,
             "#7201a8"
            ],
            [
             0.3333333333333333,
             "#9c179e"
            ],
            [
             0.4444444444444444,
             "#bd3786"
            ],
            [
             0.5555555555555556,
             "#d8576b"
            ],
            [
             0.6666666666666666,
             "#ed7953"
            ],
            [
             0.7777777777777778,
             "#fb9f3a"
            ],
            [
             0.8888888888888888,
             "#fdca26"
            ],
            [
             1.0,
             "#f0f921"
            ]
           ]
          },
          "colorway": [
           "#636efa",
           "#EF553B",
           "#00cc96",
           "#ab63fa",
           "#FFA15A",
           "#19d3f3",
           "#FF6692",
           "#B6E880",
           "#FF97FF",
           "#FECB52"
          ],
          "font": {
           "color": "#2a3f5f"
          },
          "geo": {
           "bgcolor": "white",
           "lakecolor": "white",
           "landcolor": "#E5ECF6",
           "showlakes": true,
           "showland": true,
           "subunitcolor": "white"
          },
          "hoverlabel": {
           "align": "left"
          },
          "hovermode": "closest",
          "mapbox": {
           "style": "light"
          },
          "paper_bgcolor": "white",
          "plot_bgcolor": "#E5ECF6",
          "polar": {
           "angularaxis": {
            "gridcolor": "white",
            "linecolor": "white",
            "ticks": ""
           },
           "bgcolor": "#E5ECF6",
           "radialaxis": {
            "gridcolor": "white",
            "linecolor": "white",
            "ticks": ""
           }
          },
          "scene": {
           "xaxis": {
            "backgroundcolor": "#E5ECF6",
            "gridcolor": "white",
            "gridwidth": 2,
            "linecolor": "white",
            "showbackground": true,
            "ticks": "",
            "zerolinecolor": "white"
           },
           "yaxis": {
            "backgroundcolor": "#E5ECF6",
            "gridcolor": "white",
            "gridwidth": 2,
            "linecolor": "white",
            "showbackground": true,
            "ticks": "",
            "zerolinecolor": "white"
           },
           "zaxis": {
            "backgroundcolor": "#E5ECF6",
            "gridcolor": "white",
            "gridwidth": 2,
            "linecolor": "white",
            "showbackground": true,
            "ticks": "",
            "zerolinecolor": "white"
           }
          },
          "shapedefaults": {
           "line": {
            "color": "#2a3f5f"
           }
          },
          "ternary": {
           "aaxis": {
            "gridcolor": "white",
            "linecolor": "white",
            "ticks": ""
           },
           "baxis": {
            "gridcolor": "white",
            "linecolor": "white",
            "ticks": ""
           },
           "bgcolor": "#E5ECF6",
           "caxis": {
            "gridcolor": "white",
            "linecolor": "white",
            "ticks": ""
           }
          },
          "title": {
           "x": 0.05
          },
          "xaxis": {
           "automargin": true,
           "gridcolor": "white",
           "linecolor": "white",
           "ticks": "",
           "title": {
            "standoff": 15
           },
           "zerolinecolor": "white",
           "zerolinewidth": 2
          },
          "yaxis": {
           "automargin": true,
           "gridcolor": "white",
           "linecolor": "white",
           "ticks": "",
           "title": {
            "standoff": 15
           },
           "zerolinecolor": "white",
           "zerolinewidth": 2
          }
         }
        },
        "xaxis": {
         "anchor": "y",
         "domain": [
          0.0,
          1.0
         ],
         "title": {
          "text": "X"
         }
        },
        "yaxis": {
         "anchor": "x",
         "domain": [
          0.0,
          1.0
         ],
         "title": {
          "text": "Y"
         }
        }
       }
      },
      "text/html": "<div>                            <div id=\"b298df94-6ac1-4a13-a47c-692df5002d0a\" class=\"plotly-graph-div\" style=\"height:525px; width:100%;\"></div>            <script type=\"text/javascript\">                require([\"plotly\"], function(Plotly) {                    window.PLOTLYENV=window.PLOTLYENV || {};                                    if (document.getElementById(\"b298df94-6ac1-4a13-a47c-692df5002d0a\")) {                    Plotly.newPlot(                        \"b298df94-6ac1-4a13-a47c-692df5002d0a\",                        [{\"customdata\":[[\"agreements\"],[\"bargaining\"],[\"bargains.the\"],[\"agreementwhether\"],[\"967724\"],[\"dismissals\"],[\"leader\"],[\"dismissal\"],[\"satisfaction\"],[\"springs\"],[\"conventionnelle\"],[\"l6152\"],[\"metalworkers\"],[\"extinguish\"],[\"collective\"],[\"redundancies\"],[\"metalworker\"],[\"subcontracts\"],[\"supervisors.the\"],[\"261\"],[\"spite\"],[\"those.in\"],[\"law.the\"],[\"120,768\"],[\"railways\"],[\"agreed\"],[\"negotiation\"],[\"wealth\"],[\"expiry\"],[\"arrangement\"]],\"hovertemplate\":\"word_cluster=agreement<br>X=%{x}<br>Y=%{y}<br>word=%{customdata[0]}<extra></extra>\",\"legendgroup\":\"agreement\",\"marker\":{\"color\":\"#636efa\",\"symbol\":\"circle\"},\"mode\":\"markers\",\"name\":\"agreement\",\"orientation\":\"v\",\"showlegend\":true,\"type\":\"scatter\",\"x\":[-69.57115936279297,-69.8764877319336,-100.15508270263672,-101.92437744140625,-93.36885833740234,26.497220993041992,-109.55117797851562,21.938039779663086,-103.82501220703125,-89.23075103759766,-105.82682037353516,-83.1127700805664,-94.02215576171875,-104.54119873046875,-65.06640625,28.005367279052734,-89.2663345336914,-88.57650756835938,-85.62495422363281,-92.73854064941406,-93.6121826171875,-82.87583923339844,-98.64266204833984,-96.03977966308594,-85.00605010986328,-72.32954406738281,-73.32103729248047,-110.77750396728516,-91.35308837890625,22.98181915283203],\"xaxis\":\"x\",\"y\":[112.0031509399414,108.74846649169922,-55.621883392333984,-52.30392837524414,-57.520877838134766,18.032869338989258,-54.9619140625,18.391014099121094,-58.499229431152344,-53.64292907714844,-50.29526901245117,-55.00625228881836,-49.019493103027344,-47.899478912353516,110.97987365722656,15.88475513458252,-50.34813690185547,-57.2864990234375,-50.2592658996582,-65.40979766845703,-44.28213119506836,-59.233211517333984,-49.558841705322266,-63.19639587402344,-39.11566925048828,88.82010650634766,100.1058120727539,-48.03276824951172,37.2945556640625,31.220966339111328],\"yaxis\":\"y\"},{\"customdata\":[[\"company\"],[\"businesses\"],[\"entrepreneurs\"],[\"enterprises\"],[\"business\"],[\"smes\"],[\"firms\"],[\"firm\"],[\"medium\"],[\"entrepreneur\"],[\"targeted\"],[\"enterprise\"],[\"target\"],[\"microcompanies\"],[\"large\"],[\"sme\"],[\"sectors\"],[\"vetcoordinators\"],[\"solo\"],[\"liquidity\"],[\"micro\"],[\"pointrequests\"],[\"employers\"],[\"mediumsized\"],[\"hokelanto\"],[\"significant\"],[\"portions\"],[\"firms.2\"],[\"33.5\"],[\"businessoriented\"]],\"hovertemplate\":\"word_cluster=companies<br>X=%{x}<br>Y=%{y}<br>word=%{customdata[0]}<extra></extra>\",\"legendgroup\":\"companies\",\"marker\":{\"color\":\"#EF553B\",\"symbol\":\"circle\"},\"mode\":\"markers\",\"name\":\"companies\",\"orientation\":\"v\",\"showlegend\":true,\"type\":\"scatter\",\"x\":[123.30184936523438,121.99235534667969,114.96724700927734,133.07911682128906,122.2938232421875,119.06260681152344,120.66756439208984,120.03629302978516,130.1912841796875,116.78131103515625,99.47745513916016,135.6243133544922,103.43477630615234,-3.191990375518799,129.68612670898438,120.51734924316406,138.2785186767578,-37.075008392333984,110.73388671875,116.19686889648438,127.81143951416016,-19.332157135009766,-68.2541275024414,127.0331039428711,-8.287845611572266,111.58389282226562,-14.587327003479004,-10.537353515625,-33.2072868347168,-45.884029388427734],\"xaxis\":\"x\",\"y\":[23.446388244628906,15.326672554016113,9.075395584106445,10.244867324829102,19.674589157104492,9.91187572479248,0.5043389201164246,-1.9634486436843872,5.238387584686279,4.342726230621338,16.221607208251953,7.546748161315918,16.622222900390625,-34.45491409301758,0.1273522526025772,6.687076091766357,25.741043090820312,-45.17667007446289,8.085999488830566,14.586576461791992,8.799066543579102,-42.73423767089844,87.591064453125,5.026020050048828,-36.691917419433594,23.143754959106445,-40.99455642700195,-40.09360122680664,-72.08184814453125,-59.93514633178711],\"yaxis\":\"y\"},{\"customdata\":[[\"worker\"],[\"employees\"],[\"groups\"],[\"employee\"],[\"people\"],[\"workforce\"],[\"professionals\"],[\"workers.the\"],[\"persons\"],[\"personnel\"],[\"vetcoordinators\"],[\"flu\"],[\"staff\"],[\"nature\"],[\"person\"],[\"excludes\"],[\"3,387\"],[\"incremental\"],[\"individuals\"],[\"fulltime\"],[\"permanent\"],[\"healthcare\"],[\"discontinuous\"],[\"77.1\"],[\"off\"],[\"sectors\"],[\"4,753\"],[\"99.5\"],[\"apprentices\"],[\"jobseekers\"]],\"hovertemplate\":\"word_cluster=workers<br>X=%{x}<br>Y=%{y}<br>word=%{customdata[0]}<extra></extra>\",\"legendgroup\":\"workers\",\"marker\":{\"color\":\"#00cc96\",\"symbol\":\"circle\"},\"mode\":\"markers\",\"name\":\"workers\",\"orientation\":\"v\",\"showlegend\":true,\"type\":\"scatter\",\"x\":[51.71811294555664,46.88273239135742,57.06401824951172,48.62857437133789,63.396583557128906,6.2237935066223145,-11.615795135498047,0.030820908024907112,65.57493591308594,2.32340669631958,-35.410213470458984,-33.26820373535156,3.3833749294281006,92.9479751586914,64.61023712158203,-11.087406158447266,-15.163216590881348,-41.32125473022461,106.76400756835938,12.98556137084961,20.297164916992188,-7.937088489532471,0.27449414134025574,-15.923962593078613,10.040040969848633,136.65208435058594,-44.362754821777344,-18.180633544921875,8.37807846069336,13.29428768157959],\"xaxis\":\"x\",\"y\":[8.844073295593262,5.103973865509033,13.926624298095703,7.17639684677124,12.544418334960938,25.07386589050293,25.38302230834961,-15.67282485961914,8.24572467803955,29.44869613647461,-43.2321891784668,-47.304100036621094,33.46543884277344,23.171367645263672,5.8115715980529785,-14.799906730651855,-16.13487434387207,-47.6368522644043,6.242886543273926,23.979251861572266,25.115217208862305,35.93334197998047,4.222537517547607,-22.871232986450195,20.61634063720703,27.535972595214844,-53.22404479980469,-21.394685745239258,18.557188034057617,17.320308685302734],\"yaxis\":\"y\"},{\"customdata\":[[\"measure\"],[\"actions\"],[\"package\"],[\"packages\"],[\"2019/1311\"],[\"initiatives\"],[\"supervening\"],[\"governmentbacked\"],[\"hardships\"],[\"circumstances\"],[\"paralysis\"],[\"measures:1\"],[\"mingling\"],[\"series\"],[\"circumstance\"],[\"situations\"],[\"sector.with\"],[\"nondeferre\"],[\"plans\"],[\"measureswith\"],[\"effects\"],[\"coaches\"],[\"immediate\"],[\"hasty\"],[\"eliminate\"],[\"crisis\"],[\"object\"],[\"overcome\"],[\"former\"],[\"nondeferred\"]],\"hovertemplate\":\"word_cluster=measures<br>X=%{x}<br>Y=%{y}<br>word=%{customdata[0]}<extra></extra>\",\"legendgroup\":\"measures\",\"marker\":{\"color\":\"#ab63fa\",\"symbol\":\"circle\"},\"mode\":\"markers\",\"name\":\"measures\",\"orientation\":\"v\",\"showlegend\":true,\"type\":\"scatter\",\"x\":[74.67304992675781,56.587249755859375,51.60781478881836,73.36787414550781,-6.692927360534668,58.741729736328125,2.433976888656616,-34.96965789794922,51.10963439941406,58.486358642578125,16.238107681274414,-27.98232078552246,-21.067264556884766,55.22062301635742,59.13294219970703,59.765445709228516,-13.59605598449707,-29.83213996887207,53.74871826171875,-16.59088706970215,112.28053283691406,-26.314197540283203,62.496917724609375,-1.7958492040634155,51.62724304199219,119.38716125488281,14.978716850280762,63.8115234375,-23.310516357421875,6.416999340057373],\"xaxis\":\"x\",\"y\":[65.54646301269531,55.65000915527344,66.83393096923828,-11.19210433959961,-59.931514739990234,54.01765060424805,-20.096466064453125,-58.826438903808594,-44.2248420715332,-5.774318218231201,-70.83304595947266,-34.15732192993164,-59.53841018676758,63.495880126953125,-8.76358699798584,-12.005207061767578,-60.06398010253906,-50.706146240234375,58.583526611328125,-55.737701416015625,69.13150787353516,-55.4675407409668,49.4614372253418,-61.95579147338867,-39.88116455078125,73.72704315185547,-65.09337615966797,-32.67198181152344,-51.79616165161133,-19.687620162963867],\"yaxis\":\"y\"},{\"customdata\":[[\"exceptional\"],[\"lay\"],[\"extend\"],[\"extraordinary\"],[\"layoff\"],[\"introduce\"],[\"introduced\"],[\"extension\"],[\"extended\"],[\"suspend\"],[\"shorttime\"],[\"extends\"],[\"layoffs\"],[\"2020/592\"],[\"2021/605\"],[\"specific\"],[\"granting\"],[\"suspended\"],[\"article.the\"],[\"establishes\"],[\"apply\"],[\"considered\"],[\"reemployment\"],[\"shorten\"],[\"view\"],[\"laying\"],[\"duration\"],[\"2020/699\"],[\"partial\"],[\"applied\"]],\"hovertemplate\":\"word_cluster=temporary<br>X=%{x}<br>Y=%{y}<br>word=%{customdata[0]}<extra></extra>\",\"legendgroup\":\"temporary\",\"marker\":{\"color\":\"#FFA15A\",\"symbol\":\"circle\"},\"mode\":\"markers\",\"name\":\"temporary\",\"orientation\":\"v\",\"showlegend\":true,\"type\":\"scatter\",\"x\":[53.02595901489258,30.770376205444336,40.99736785888672,53.80574417114258,29.57259750366211,45.1298713684082,47.279296875,45.586429595947266,40.44811248779297,30.170284271240234,21.871435165405273,17.316679000854492,25.367700576782227,-3.175084114074707,-30.98365020751953,68.45886993408203,9.68618392944336,29.490020751953125,-27.121078491210938,19.677135467529297,42.74340057373047,33.42224884033203,5.503673553466797,17.26025390625,59.62913131713867,31.936832427978516,35.51057434082031,-38.863136291503906,32.6724967956543,40.40851974487305],\"xaxis\":\"x\",\"y\":[28.305282592773438,30.811214447021484,27.138601303100586,31.037574768066406,24.32577896118164,40.4856071472168,41.66707229614258,27.020156860351562,24.357648849487305,3.521207809448242,36.69203186035156,5.461061000823975,23.374204635620117,-51.054710388183594,-56.779518127441406,79.17042541503906,2.921210765838623,1.094611406326294,-47.0574951171875,2.1960582733154297,16.172517776489258,14.573725700378418,3.943741798400879,8.261943817138672,67.47957611083984,35.04990768432617,24.238161087036133,-61.10258102416992,7.9723944664001465,19.270177841186523],\"yaxis\":\"y\"},{\"customdata\":[[\"cyber\"],[\"apply.the\"],[\"mind\"],[\"neighbourhood\"],[\"noteworthy\"],[\"caretaker\"],[\"repatriation.social\"],[\"635,00\"],[\"protocolthe\"],[\"regions.it\"],[\"macrofinancial\"],[\"statement.social\"],[\"18,to\"],[\"contributionthe\"],[\"enlargement\"],[\"statefunde\"],[\"balances\"],[\"federal\"],[\"westfalia\"],[\"homeland\"],[\"steady\"],[\"estonian\"],[\"afa\"],[\"nonpeak\"],[\"needs.social\"],[\"national\"],[\"assume\"],[\"esales\"],[\"maximal\"],[\"esale\"]],\"hovertemplate\":\"word_cluster=social<br>X=%{x}<br>Y=%{y}<br>word=%{customdata[0]}<extra></extra>\",\"legendgroup\":\"social\",\"marker\":{\"color\":\"#19d3f3\",\"symbol\":\"circle\"},\"mode\":\"markers\",\"name\":\"social\",\"orientation\":\"v\",\"showlegend\":true,\"type\":\"scatter\",\"x\":[-64.38813018798828,-71.70938873291016,-73.32469940185547,-61.17512512207031,-78.83216857910156,-69.90582275390625,-76.0738525390625,-59.935699462890625,-72.21529388427734,-76.09474182128906,-60.49285125732422,-66.4025650024414,-81.44821166992188,-69.57040405273438,-58.787109375,-67.21644592285156,-63.47189712524414,-42.27356719970703,-74.51478576660156,-68.51577758789062,-60.76719665527344,-31.882112503051758,-69.31613159179688,-67.3183822631836,-72.62135314941406,-32.7396354675293,-93.26420593261719,-72.16046142578125,-65.15397644042969,-62.73060989379883],\"xaxis\":\"x\",\"y\":[4.147860527038574,-31.50748634338379,-25.565383911132812,25.153486251831055,-9.674203872680664,-0.32894814014434814,-21.4664249420166,-40.82186508178711,-39.613407135009766,-10.673632621765137,21.904922485351562,-33.953887939453125,-13.59057903289795,-46.54167556762695,28.13783073425293,-42.62067413330078,-43.34389877319336,92.52787017822266,-7.246254920959473,4.25931453704834,-49.2921028137207,64.88139343261719,10.539132118225098,-24.901519775390625,-12.718674659729004,83.93785858154297,22.07711410522461,-20.955373764038086,-54.98617935180664,-35.997344970703125],\"yaxis\":\"y\"},{\"customdata\":[[\"injection\"],[\"assistance\"],[\"help\"],[\"supports\"],[\"incentive\"],[\"subsidies\"],[\"prospectus\"],[\"grants\"],[\"supporting\"],[\"sustain\"],[\"supported\"],[\"situation.extraordinary\"],[\"kulturvermittler\"],[\"ultimate\"],[\"subsidy\"],[\"1,614\"],[\"incentives\"],[\"each.the\"],[\"productionrelate\"],[\"aims\"],[\"2.0\"],[\"multiannual\"],[\"thevarious\"],[\"support.the\"],[\"instability\"],[\"funding\"],[\"resources\"],[\"people.companie\"],[\"targets\"],[\"aid\"],[\"injection\"],[\"assistance\"],[\"help\"],[\"supports\"],[\"incentive\"],[\"subsidies\"],[\"prospectus\"],[\"grants\"],[\"supporting\"],[\"sustain\"],[\"supported\"],[\"situation.extraordinary\"],[\"kulturvermittler\"],[\"ultimate\"],[\"subsidy\"],[\"1,614\"],[\"incentives\"],[\"each.the\"],[\"productionrelate\"],[\"aims\"],[\"2.0\"],[\"multiannual\"],[\"thevarious\"],[\"support.the\"],[\"instability\"],[\"funding\"],[\"resources\"],[\"people.companie\"],[\"targets\"],[\"aid\"]],\"hovertemplate\":\"word_cluster=support<br>X=%{x}<br>Y=%{y}<br>word=%{customdata[0]}<extra></extra>\",\"legendgroup\":\"support\",\"marker\":{\"color\":\"#FF6692\",\"symbol\":\"circle\"},\"mode\":\"markers\",\"name\":\"support\",\"orientation\":\"v\",\"showlegend\":true,\"type\":\"scatter\",\"x\":[26.54567527770996,105.81310272216797,87.46228790283203,91.55335235595703,83.01953125,109.06769561767578,33.64815902709961,107.7312240600586,79.68839263916016,80.20519256591797,91.32830047607422,14.402966499328613,-1.7395401000976562,33.20072555541992,107.98454284667969,-48.36878204345703,83.59624481201172,-44.068695068359375,15.776019096374512,89.20137786865234,78.56510162353516,14.86013412475586,-51.733821868896484,4.2409892082214355,7.937351226806641,101.19432830810547,94.14906311035156,-38.74107360839844,94.3369140625,122.88712310791016,25.08623504638672,105.81310272216797,89.3603515625,93.85258483886719,80.5579605102539,109.06769561767578,31.305591583251953,107.7312240600586,79.68839263916016,82.28036499023438,92.90714263916016,12.814857482910156,-4.298492431640625,30.848018646240234,110.63330078125,-50.563045501708984,81.13360595703125,-44.01136016845703,16.546634674072266,90.33158111572266,77.75241088867188,14.285569190979004,-50.532649993896484,4.090324878692627,7.937351226806641,100.53929901123047,92.51536560058594,-36.38882827758789,91.91786193847656,122.88712310791016],\"xaxis\":\"x\",\"y\":[-32.198909759521484,36.0037727355957,79.38109588623047,9.720105171203613,3.3275530338287354,-17.100183486938477,-42.742855072021484,-5.857019424438477,47.6689567565918,26.45803451538086,-16.96707534790039,-41.28591537475586,-45.508148193359375,-55.34569549560547,-24.437549591064453,-79.21205139160156,12.593544960021973,-69.69430541992188,-25.123645782470703,60.50631332397461,-10.661002159118652,51.86643600463867,-68.24954986572266,-34.28571701049805,-47.53472900390625,-10.29510498046875,-1.5276066064834595,-53.91386032104492,18.077064514160156,-19.948579788208008,-34.18402099609375,36.0037727355957,76.80164337158203,8.724002838134766,3.8040671348571777,-17.100183486938477,-43.27474594116211,-5.857019424438477,47.6689567565918,25.13027000427246,-18.900054931640625,-39.32143783569336,-45.816551208496094,-54.899417877197266,-24.35805320739746,-77.84565734863281,12.483386993408203,-72.23948669433594,-22.833799362182617,57.555999755859375,-8.38696575164795,54.19975280761719,-65.96394348144531,-31.874441146850586,-47.53472900390625,-7.747250080108643,-3.305544137954712,-52.753028869628906,17.958425521850586,-19.948579788208008],\"yaxis\":\"y\"},{\"customdata\":[[\"corona\"],[\"coronavirus\"],[\"covid19;4\"],[\"commodity\"],[\"thecovid19\"],[\"covid19.the\"],[\"emanated\"],[\"commodities\"],[\"moria\"],[\"rdutn\"],[\"virus\"],[\"expediated\"],[\"overloadin\"],[\"recovering\"],[\"covid19.measure\"],[\"covid194\"],[\"viruses\"],[\"covid10\"],[\"beginning\"],[\"covid19.measures\"],[\"beg\"],[\"recognizing\"],[\"minimizing\"],[\"this\"],[\"germanys\"],[\"begging\"],[\"hardhit\"],[\"23,500\"],[\"governmentprovided\"],[\"covid19.companie\"]],\"hovertemplate\":\"word_cluster=covid19<br>X=%{x}<br>Y=%{y}<br>word=%{customdata[0]}<extra></extra>\",\"legendgroup\":\"covid19\",\"marker\":{\"color\":\"#B6E880\",\"symbol\":\"circle\"},\"mode\":\"markers\",\"name\":\"covid19\",\"orientation\":\"v\",\"showlegend\":true,\"type\":\"scatter\",\"x\":[134.48593139648438,129.23703002929688,0.9287986159324646,-26.105031967163086,10.392743110656738,41.63216781616211,-14.724172592163086,-19.25604820251465,-7.347313404083252,-6.9814839363098145,128.08200073242188,-24.844396591186523,-5.040543556213379,-5.618359088897705,-28.04265022277832,0.08833498507738113,0.984498918056488,-8.665882110595703,39.612281799316406,-21.448606491088867,-17.081478118896484,-0.1642390638589859,-14.054936408996582,48.0164794921875,43.80378723144531,-18.31486701965332,3.2505271434783936,-19.32771110534668,-32.85366439819336,-29.371545791625977],\"xaxis\":\"x\",\"y\":[74.302490234375,73.37321472167969,-76.89689636230469,-62.6569938659668,-71.14066314697266,-13.531984329223633,-78.58747100830078,-71.35115814208984,-84.79110717773438,-78.81715393066406,65.8197021484375,-69.62786102294922,-76.03203582763672,-71.94174194335938,-65.8372573852539,-81.42535400390625,-70.51631927490234,-89.69331359863281,-21.003482818603516,-77.54200744628906,-87.22795104980469,-87.5746841430664,-71.82430267333984,-18.536212921142578,-20.10996437072754,-90.8837890625,-89.74821472167969,-67.86263275146484,-65.91934204101562,-61.01165008544922],\"yaxis\":\"y\"},{\"customdata\":[[\"private\"],[\"udbetaling\"],[\"state\"],[\"ohs\"],[\"facilities.according\"],[\"workers.notwithstande\"],[\"workers.notwithstanding\"],[\"endometriosis\"],[\"prefects\"],[\"provision\"],[\"national\"],[\"11,240\"],[\"rescue\"],[\"sheepmeat\"],[\"governing\"],[\"devolve\"],[\"ensured.in\"],[\"gynaecology\"],[\"storage\"],[\"udbetale\"],[\"providers\"],[\"applied.state\"],[\"universal\"],[\"conditions.this\"],[\"essential\"],[\"authorities\"],[\"operationally\"],[\"administrations\"],[\"respect\"],[\"operation\"]],\"hovertemplate\":\"word_cluster=public<br>X=%{x}<br>Y=%{y}<br>word=%{customdata[0]}<extra></extra>\",\"legendgroup\":\"public\",\"marker\":{\"color\":\"#FF97FF\",\"symbol\":\"circle\"},\"mode\":\"markers\",\"name\":\"public\",\"orientation\":\"v\",\"showlegend\":true,\"type\":\"scatter\",\"x\":[-6.689255714416504,-49.08113479614258,-37.37101364135742,-26.345361709594727,-59.07896041870117,-55.37278747558594,-52.88771057128906,-22.012237548828125,-8.914202690124512,64.46658325195312,-32.7396354675293,-17.985919952392578,-50.27428436279297,-17.456504821777344,-46.81266403198242,-54.802188873291016,-26.798879623413086,-22.927703857421875,-19.30664825439453,-51.442626953125,-15.292247772216797,-23.64743995666504,-21.637989044189453,-23.037206649780273,-14.163713455200195,-41.92704391479492,-19.439525604248047,-36.27618408203125,-24.158411026000977,-20.155384063720703],\"xaxis\":\"x\",\"y\":[31.051021575927734,-26.316242218017578,47.8306999206543,-11.405017852783203,-27.179718017578125,-36.24948501586914,-33.835994720458984,-3.766770124435425,1.9416338205337524,33.52579879760742,83.93785858154297,-5.508650302886963,36.90708541870117,-31.117990493774414,55.311763763427734,-20.815162658691406,-5.277001857757568,-6.147937297821045,23.809980392456055,-28.972768783569336,26.495378494262695,0.577336311340332,24.936471939086914,-15.719061851501465,33.97745895385742,45.11095428466797,-35.96440887451172,37.01740264892578,30.89677619934082,34.68155288696289],\"yaxis\":\"y\"},{\"customdata\":[[\"regional\"],[\"federal\"],[\"municipal\"],[\"sixterm\"],[\"responsible\"],[\"estonian\"],[\"policies\"],[\"local\"],[\"crosssectoral\"],[\"governing\"],[\"influenced\"],[\"cooperation\"],[\"mp\"],[\"department\"],[\"bodies\"],[\"reform\"],[\"associations2\"],[\"collaboration\"],[\"divosa\"],[\"budgetary\"],[\"coresponsible\"],[\"powiat\"],[\"board\"],[\"solidarity\"],[\"drafting\"],[\"ministries\"],[\"discussed\"],[\"competence\"],[\"exsits\"],[\"governments\"]],\"hovertemplate\":\"word_cluster=national<br>X=%{x}<br>Y=%{y}<br>word=%{customdata[0]}<extra></extra>\",\"legendgroup\":\"national\",\"marker\":{\"color\":\"#FECB52\",\"symbol\":\"circle\"},\"mode\":\"markers\",\"name\":\"national\",\"orientation\":\"v\",\"showlegend\":true,\"type\":\"scatter\",\"x\":[-41.552852630615234,-42.27356719970703,-43.532005310058594,-57.88240051269531,-57.14310073852539,-31.550947189331055,-52.12135696411133,-39.80109786987305,-72.20365142822266,-46.81266403198242,-60.29094696044922,-47.853599548339844,-58.52639389038086,-59.455204010009766,-49.62260818481445,-92.44416046142578,-55.04487228393555,-53.50084686279297,-68.34893798828125,-55.7922477722168,-61.43380355834961,-83.00526428222656,-53.975563049316406,-26.880483627319336,-69.90167236328125,-68.75785827636719,-69.20242309570312,-53.81772232055664,-79.65504455566406,-50.68743133544922],\"xaxis\":\"x\",\"y\":[77.31146240234375,92.52787017822266,67.78650665283203,-7.5238471031188965,65.80841827392578,62.4852294921875,76.41368865966797,74.79852294921875,34.75398635864258,55.311763763427734,37.174068450927734,73.189453125,-4.857825756072998,72.13438415527344,67.95897674560547,74.37347412109375,-17.60800552368164,71.24494171142578,37.84907531738281,40.21540069580078,-18.281633377075195,10.520316123962402,59.93302917480469,64.68494415283203,44.811553955078125,67.65193176269531,48.342994689941406,68.21868896484375,24.907575607299805,44.76751708984375],\"yaxis\":\"y\"},{\"customdata\":[[\"unanimously\"],[\"acted\"],[\"deputies\"],[\"action\"],[\"say\"],[\"parliamentary\"],[\"recommendation\"],[\"joint\"],[\"complaint\"],[\"presented\"],[\"conclusion\"],[\"nomination\"],[\"seanad\"],[\"maszsz\"],[\"forwarded\"],[\"representative\"],[\"anticipating\"],[\"negotiation\"],[\"position\"],[\"crosssectoral\"],[\"negotiations\"],[\"formulate\"],[\"chaired\"],[\"protested\"],[\"said\"],[\"behalf\"],[\"meeting\"],[\"shift2rail\"],[\"varadkar\"],[\"appeal\"]],\"hovertemplate\":\"word_cluster=statement<br>X=%{x}<br>Y=%{y}<br>word=%{customdata[0]}<extra></extra>\",\"legendgroup\":\"statement\",\"marker\":{\"color\":\"#636efa\",\"symbol\":\"circle\"},\"mode\":\"markers\",\"name\":\"statement\",\"orientation\":\"v\",\"showlegend\":true,\"type\":\"scatter\",\"x\":[-77.25226593017578,-103.02314758300781,-92.2610855102539,-98.66361999511719,-93.21944427490234,-74.51856231689453,-86.38525390625,-68.59758758544922,-91.66902160644531,-66.87120819091797,-77.01547241210938,-88.866455078125,-82.82417297363281,-95.49820709228516,-100.58820343017578,-62.429561614990234,-63.30845642089844,-74.17826843261719,-81.673583984375,-70.28062438964844,-76.91200256347656,-88.39120483398438,-93.99540710449219,-73.83678436279297,-97.00540161132812,-78.32254028320312,-76.61663818359375,-102.08061218261719,-90.34187316894531,-94.98680877685547],\"xaxis\":\"x\",\"y\":[36.92611312866211,18.772090911865234,18.163005828857422,73.58492279052734,59.08633041381836,44.95563888549805,95.4553451538086,98.54910278320312,33.21504211425781,52.320098876953125,87.15735626220703,14.813209533691406,27.127038955688477,53.34519958496094,17.473066329956055,92.10543823242188,-59.19992446899414,97.58287048339844,96.91432189941406,33.26850891113281,99.91205596923828,30.91853904724121,12.694664001464844,29.789167404174805,59.56907272338867,83.6777572631836,104.33715057373047,13.100825309753418,51.914573669433594,67.49855041503906],\"yaxis\":\"y\"},{\"customdata\":[[\"ross\"],[\"sector.due\"],[\"recuperation\"],[\"toys\"],[\"reappointments\"],[\"marynarzom\"],[\"addressesprivate\"],[\"healthcare\"],[\"lone\"],[\"breakout\"],[\"medicine\"],[\"anticontagion\"],[\"administrations\"],[\"support.shift\"],[\"prehospital\"],[\"proclamations\"],[\"cinemas.expenditure\"],[\"selfisolated\"],[\"tension\"],[\"seafarersbezpieczenstwa\"],[\"helth\"],[\"occupational\"],[\"protection\"],[\"escalated\"],[\"health.therefore\"],[\"healthpromote\"],[\"protocols\"],[\"intensive\"],[\"campaigned\"],[\"fatigue\"]],\"hovertemplate\":\"word_cluster=health<br>X=%{x}<br>Y=%{y}<br>word=%{customdata[0]}<extra></extra>\",\"legendgroup\":\"health\",\"marker\":{\"color\":\"#EF553B\",\"symbol\":\"circle\"},\"mode\":\"markers\",\"name\":\"health\",\"orientation\":\"v\",\"showlegend\":true,\"type\":\"scatter\",\"x\":[-35.12736129760742,-34.43614196777344,-38.833709716796875,-38.914703369140625,-43.38313293457031,-41.942665100097656,-35.86911392211914,-5.489957809448242,-39.19605255126953,-39.15882873535156,-16.77768898010254,-42.74762725830078,-34.03470993041992,-33.62406921386719,-47.07217025756836,-37.5405387878418,-30.17886734008789,-32.37797164916992,-26.524930953979492,-43.4598503112793,-45.844913482666016,-15.614470481872559,-15.408717155456543,-52.4749641418457,-41.19579315185547,-51.400291442871094,-16.89466094970703,-12.385244369506836,-47.56782531738281,-42.819496154785156],\"xaxis\":\"x\",\"y\":[-8.271531105041504,-27.39459991455078,-36.739131927490234,-6.152271747589111,-14.28990364074707,-9.226719856262207,-23.534915924072266,35.88494110107422,-11.902200698852539,-21.163881301879883,47.117408752441406,-1.187088131904602,37.87043380737305,-34.201683044433594,-16.047496795654297,-29.186891555786133,-26.610803604125977,-18.720388412475586,-25.380142211914062,-5.711811065673828,-42.20567321777344,51.719120025634766,56.27534103393555,-44.61707305908203,-27.95832633972168,-39.04570770263672,44.086124420166016,12.392192840576172,-9.069646835327148,-35.24174499511719],\"yaxis\":\"y\"},{\"customdata\":[[\"paschal\"],[\"ministry\"],[\"science\"],[\"donohoe\"],[\"ministries\"],[\"directorate\"],[\"speech\"],[\"ogorman\"],[\"affairs\"],[\"refusing\"],[\"ministers\"],[\"stephen\"],[\"deputy\"],[\"aschbacher\"],[\"president\"],[\"humphreys\"],[\"2020).furthermore\"],[\"fluorides\"],[\"letters\"],[\"collins\"],[\"circular\"],[\"ms\"],[\"prime\"],[\"mette\"],[\"gowin\"],[\"mcgrath\"],[\"td\"],[\"resources.the\"],[\"harris\"],[\"658\"]],\"hovertemplate\":\"word_cluster=minister<br>X=%{x}<br>Y=%{y}<br>word=%{customdata[0]}<extra></extra>\",\"legendgroup\":\"minister\",\"marker\":{\"color\":\"#00cc96\",\"symbol\":\"circle\"},\"mode\":\"markers\",\"name\":\"minister\",\"orientation\":\"v\",\"showlegend\":true,\"type\":\"scatter\",\"x\":[-79.41632843017578,-49.0239372253418,-82.60828399658203,-86.47962188720703,-68.86585235595703,-78.18846893310547,-89.73816680908203,-89.11463165283203,-53.452476501464844,-83.91456604003906,-88.2242660522461,-92.40240478515625,-81.93357849121094,-84.64559936523438,-90.44409942626953,-84.7611312866211,-93.6740951538086,-58.13505172729492,-84.49270629882812,-79.77578735351562,-77.43988037109375,-84.61244201660156,-87.9496841430664,-89.63986206054688,-88.03585815429688,-83.45649719238281,-88.40927124023438,-99.287109375,-83.79132843017578,-94.90631103515625],\"xaxis\":\"x\",\"y\":[60.80471420288086,84.08375549316406,72.91622161865234,70.32540893554688,65.20623779296875,55.210723876953125,65.98934173583984,7.155655384063721,81.32721710205078,4.168977737426758,86.07469177246094,-2.646548271179199,58.425270080566406,46.90222930908203,81.3228530883789,62.56289291381836,2.0830154418945312,-30.701677322387695,17.35383415222168,16.75663948059082,66.965576171875,49.467750549316406,74.36677551269531,1.161034107208252,10.55850601196289,54.64807891845703,61.58671188354492,-1.8420660495758057,65.70276641845703,4.642177104949951],\"yaxis\":\"y\"},{\"customdata\":[[\"quickly\"],[\"adaptation\"],[\"different\"],[\"jobs\"],[\"implemented\"],[\"retention\"],[\"create\"],[\"changes\"],[\"expand\"],[\"come\"],[\"ideas\"],[\"facilitate\"],[\"existing\"],[\"supporting\"],[\"created\"],[\"aims\"],[\"includes\"],[\"develop\"],[\"set\"],[\"potential\"],[\"specific\"],[\"aim\"],[\"flexible\"],[\"adapt\"],[\"update\"],[\"change\"],[\"help\"],[\"49500/1498/2020\"],[\"upskilling\"],[\"job\"]],\"hovertemplate\":\"word_cluster=new<br>X=%{x}<br>Y=%{y}<br>word=%{customdata[0]}<extra></extra>\",\"legendgroup\":\"new\",\"marker\":{\"color\":\"#ab63fa\",\"symbol\":\"circle\"},\"mode\":\"markers\",\"name\":\"new\",\"orientation\":\"v\",\"showlegend\":true,\"type\":\"scatter\",\"x\":[87.17330169677734,86.47895050048828,73.72891235351562,74.92619323730469,71.38042449951172,78.55593872070312,81.64744567871094,35.9764518737793,83.00025177001953,36.307037353515625,-92.48091125488281,88.088134765625,68.91939544677734,79.68839263916016,82.3393325805664,87.22704315185547,73.48368072509766,49.71976089477539,63.356170654296875,89.99862670898438,68.45886993408203,84.18789672851562,20.050321578979492,89.52471923828125,-67.88216400146484,34.33015823364258,89.3603515625,-30.830236434936523,-68.46823120117188,73.84967041015625],\"xaxis\":\"x\",\"y\":[30.683788299560547,40.64988708496094,41.73300552368164,61.166873931884766,28.082962036132812,21.90517234802246,40.722877502441406,50.90089416503906,29.466272354125977,-11.976724624633789,-26.179994583129883,46.30677795410156,36.56310272216797,47.6689567565918,34.67213821411133,57.95347213745117,32.00801467895508,56.46751022338867,40.34800720214844,34.4084358215332,79.17042541503906,62.2668571472168,32.40412902832031,39.67475128173828,56.047767639160156,52.96384811401367,76.80164337158203,-41.830322265625,-11.69225025177002,58.74998092651367],\"yaxis\":\"y\"},{\"customdata\":[[\"corona\"],[\"emanated\"],[\"consequences\"],[\"virus\"],[\"caused\"],[\"effects\"],[\"negative\"],[\"covid19\"],[\"thecovid19\"],[\"wave\"],[\"covid19;4\"],[\"adverse\"],[\"consequence\"],[\"prevent\"],[\"'cause\"],[\"sarscov2\"],[\"result\"],[\"mutation\"],[\"covid19.the\"],[\"mitigate\"],[\"current\"],[\"covid19.measures\"],[\"moria\"],[\"address\"],[\"damage\"],[\"risks\"],[\"coronary\"],[\"lockdowns\"],[\"pathogenic\"],[\"emerge\"]],\"hovertemplate\":\"word_cluster=coronavirus<br>X=%{x}<br>Y=%{y}<br>word=%{customdata[0]}<extra></extra>\",\"legendgroup\":\"coronavirus\",\"marker\":{\"color\":\"#FFA15A\",\"symbol\":\"circle\"},\"mode\":\"markers\",\"name\":\"coronavirus\",\"orientation\":\"v\",\"showlegend\":true,\"type\":\"scatter\",\"x\":[134.48593139648438,-16.005237579345703,116.77732849121094,128.08200073242188,116.55990600585938,113.45905303955078,119.78155517578125,132.19943237304688,11.994815826416016,128.4672393798828,3.2666537761688232,61.913902282714844,115.1314468383789,109.8238525390625,114.76297760009766,57.70562744140625,119.98744201660156,9.490283012390137,42.37150955200195,107.70874786376953,119.85620880126953,-23.937686920166016,-9.911794662475586,96.22991180419922,62.953060150146484,107.4095230102539,47.784828186035156,46.06631851196289,-24.52313232421875,45.56550598144531],\"xaxis\":\"x\",\"y\":[74.302490234375,-80.86363220214844,69.05680847167969,65.8197021484375,62.37553024291992,71.79177856445312,66.05826568603516,78.9739761352539,-73.28284454345703,58.86536407470703,-78.13578796386719,-18.80088996887207,65.49403381347656,62.41542053222656,58.522090911865234,-18.291900634765625,58.69924545288086,-78.05571746826172,-11.251429557800293,71.2930679321289,53.49697494506836,-76.81781005859375,-84.52923583984375,61.35517883300781,-21.160724639892578,54.510353088378906,-31.659526824951172,-24.475353240966797,-82.05790710449219,-28.922203063964844],\"yaxis\":\"y\"},{\"customdata\":[[\"toknow\"],[\"vaccines\"],[\"fight\"],[\"crisis.this\"],[\"codify\"],[\"covered.in\"],[\"checklist\"],[\"quasilockdown\"],[\"beat\"],[\"modernising\"],[\"phase.this\"],[\"elisas\"],[\"behave\"],[\"crisis.reduction\"],[\"occasion\"],[\"itrecognises\"],[\"crisis.can\"],[\"atenant\"],[\"measures.lex\"],[\"labels\"],[\"ghana\"],[\"shock.so\"],[\"anti\"],[\"vaccination\"],[\"decease\"],[\"hauliers.eu\"],[\"briefing\"],[\"sustainably\"],[\"variants\"],[\"healths\"]],\"hovertemplate\":\"word_cluster=vaccine<br>X=%{x}<br>Y=%{y}<br>word=%{customdata[0]}<extra></extra>\",\"legendgroup\":\"vaccine\",\"marker\":{\"color\":\"#19d3f3\",\"symbol\":\"circle\"},\"mode\":\"markers\",\"name\":\"vaccine\",\"orientation\":\"v\",\"showlegend\":true,\"type\":\"scatter\",\"x\":[62.101234436035156,73.10763549804688,71.05088806152344,58.690006256103516,66.9013900756836,63.02775192260742,67.81330871582031,64.88067626953125,72.70510864257812,66.02850341796875,61.999820709228516,70.25753784179688,51.84559631347656,56.957332611083984,67.20319366455078,53.959781646728516,55.34290313720703,61.81108856201172,53.369876861572266,50.25117874145508,55.39917755126953,50.343196868896484,70.29354858398438,76.62299346923828,60.645721435546875,59.010868072509766,67.46691131591797,71.13667297363281,50.90746307373047,56.600921630859375],\"xaxis\":\"x\",\"y\":[-62.471107482910156,-41.82341003417969,-35.1858024597168,-70.72493743896484,-66.40070343017578,-66.59386444091797,-52.30428695678711,-71.1076431274414,-62.17355728149414,-34.8326416015625,-70.28841400146484,-55.538055419921875,-62.4976921081543,-61.06591033935547,-60.01659393310547,-68.9916763305664,-65.48733520507812,-57.907142639160156,-58.91286849975586,-66.66282653808594,-74.2416763305664,-71.69744110107422,-44.529701232910156,-38.59571075439453,-74.88131713867188,-66.27287292480469,-42.68111801147461,-70.11981964111328,-54.816429138183594,-53.14661407470703],\"yaxis\":\"y\"},{\"customdata\":[[\"supplementing\"],[\"commissions\"],[\"troszczynski\"],[\"mylene\"],[\"eurofound\"],[\"mainland\"],[\"adaptability\"],[\"sky\"],[\"1157\"],[\"echa\"],[\"accompanying\"],[\"efsa\"],[\"2020/634\"],[\"environment.the\"],[\"summary\"],[\"document\"],[\"surveillance\"],[\"heretat\"],[\"2021/752\"],[\"setoff\"],[\"2020/1143\"],[\"slip\"],[\"appreciated\"],[\"article164\"],[\"fund.the\"],[\"sum01\"],[\"approval\"],[\"mobilita\"],[\"flag\"],[\"efta\"]],\"hovertemplate\":\"word_cluster=commission<br>X=%{x}<br>Y=%{y}<br>word=%{customdata[0]}<extra></extra>\",\"legendgroup\":\"commission\",\"marker\":{\"color\":\"#FF6692\",\"symbol\":\"circle\"},\"mode\":\"markers\",\"name\":\"commission\",\"orientation\":\"v\",\"showlegend\":true,\"type\":\"scatter\",\"x\":[-102.66827392578125,-105.79655456542969,-106.9742660522461,-108.53634643554688,-112.77935791015625,-101.07130432128906,-105.16419219970703,-108.06254577636719,-109.02860260009766,-117.65160369873047,-112.80235290527344,-116.0422592163086,-115.21600341796875,-102.9861831665039,-109.1078872680664,-116.32499694824219,-119.90455627441406,-111.73921966552734,-116.73345184326172,-98.08748626708984,-118.35700225830078,-98.62092590332031,-105.69530487060547,-112.0878677368164,-122.5288314819336,-114.12380981445312,-62.48793029785156,-108.25273895263672,-99.91058349609375,-119.08606719970703],\"xaxis\":\"x\",\"y\":[35.2953987121582,31.081336975097656,-7.078519344329834,-4.844104766845703,-14.577798843383789,-17.923229217529297,-16.441415786743164,29.418758392333984,-12.958297729492188,17.3077449798584,55.604515075683594,12.761110305786133,-2.8269875049591064,-24.34312629699707,54.57780075073242,56.88236618041992,25.13823890686035,4.435307025909424,-6.794999599456787,-26.10541343688965,-4.435718059539795,-29.384204864501953,-23.56977081298828,-19.188583374023438,-6.930522441864014,2.8291914463043213,49.54629898071289,-1.1915736198425293,28.116823196411133,21.55847930908203],\"yaxis\":\"y\"}],                        {\"legend\":{\"title\":{\"text\":\"word_cluster\"},\"tracegroupgap\":0},\"margin\":{\"t\":60},\"template\":{\"data\":{\"bar\":[{\"error_x\":{\"color\":\"#2a3f5f\"},\"error_y\":{\"color\":\"#2a3f5f\"},\"marker\":{\"line\":{\"color\":\"#E5ECF6\",\"width\":0.5},\"pattern\":{\"fillmode\":\"overlay\",\"size\":10,\"solidity\":0.2}},\"type\":\"bar\"}],\"barpolar\":[{\"marker\":{\"line\":{\"color\":\"#E5ECF6\",\"width\":0.5},\"pattern\":{\"fillmode\":\"overlay\",\"size\":10,\"solidity\":0.2}},\"type\":\"barpolar\"}],\"carpet\":[{\"aaxis\":{\"endlinecolor\":\"#2a3f5f\",\"gridcolor\":\"white\",\"linecolor\":\"white\",\"minorgridcolor\":\"white\",\"startlinecolor\":\"#2a3f5f\"},\"baxis\":{\"endlinecolor\":\"#2a3f5f\",\"gridcolor\":\"white\",\"linecolor\":\"white\",\"minorgridcolor\":\"white\",\"startlinecolor\":\"#2a3f5f\"},\"type\":\"carpet\"}],\"choropleth\":[{\"colorbar\":{\"outlinewidth\":0,\"ticks\":\"\"},\"type\":\"choropleth\"}],\"contour\":[{\"colorbar\":{\"outlinewidth\":0,\"ticks\":\"\"},\"colorscale\":[[0.0,\"#0d0887\"],[0.1111111111111111,\"#46039f\"],[0.2222222222222222,\"#7201a8\"],[0.3333333333333333,\"#9c179e\"],[0.4444444444444444,\"#bd3786\"],[0.5555555555555556,\"#d8576b\"],[0.6666666666666666,\"#ed7953\"],[0.7777777777777778,\"#fb9f3a\"],[0.8888888888888888,\"#fdca26\"],[1.0,\"#f0f921\"]],\"type\":\"contour\"}],\"contourcarpet\":[{\"colorbar\":{\"outlinewidth\":0,\"ticks\":\"\"},\"type\":\"contourcarpet\"}],\"heatmap\":[{\"colorbar\":{\"outlinewidth\":0,\"ticks\":\"\"},\"colorscale\":[[0.0,\"#0d0887\"],[0.1111111111111111,\"#46039f\"],[0.2222222222222222,\"#7201a8\"],[0.3333333333333333,\"#9c179e\"],[0.4444444444444444,\"#bd3786\"],[0.5555555555555556,\"#d8576b\"],[0.6666666666666666,\"#ed7953\"],[0.7777777777777778,\"#fb9f3a\"],[0.8888888888888888,\"#fdca26\"],[1.0,\"#f0f921\"]],\"type\":\"heatmap\"}],\"heatmapgl\":[{\"colorbar\":{\"outlinewidth\":0,\"ticks\":\"\"},\"colorscale\":[[0.0,\"#0d0887\"],[0.1111111111111111,\"#46039f\"],[0.2222222222222222,\"#7201a8\"],[0.3333333333333333,\"#9c179e\"],[0.4444444444444444,\"#bd3786\"],[0.5555555555555556,\"#d8576b\"],[0.6666666666666666,\"#ed7953\"],[0.7777777777777778,\"#fb9f3a\"],[0.8888888888888888,\"#fdca26\"],[1.0,\"#f0f921\"]],\"type\":\"heatmapgl\"}],\"histogram\":[{\"marker\":{\"pattern\":{\"fillmode\":\"overlay\",\"size\":10,\"solidity\":0.2}},\"type\":\"histogram\"}],\"histogram2d\":[{\"colorbar\":{\"outlinewidth\":0,\"ticks\":\"\"},\"colorscale\":[[0.0,\"#0d0887\"],[0.1111111111111111,\"#46039f\"],[0.2222222222222222,\"#7201a8\"],[0.3333333333333333,\"#9c179e\"],[0.4444444444444444,\"#bd3786\"],[0.5555555555555556,\"#d8576b\"],[0.6666666666666666,\"#ed7953\"],[0.7777777777777778,\"#fb9f3a\"],[0.8888888888888888,\"#fdca26\"],[1.0,\"#f0f921\"]],\"type\":\"histogram2d\"}],\"histogram2dcontour\":[{\"colorbar\":{\"outlinewidth\":0,\"ticks\":\"\"},\"colorscale\":[[0.0,\"#0d0887\"],[0.1111111111111111,\"#46039f\"],[0.2222222222222222,\"#7201a8\"],[0.3333333333333333,\"#9c179e\"],[0.4444444444444444,\"#bd3786\"],[0.5555555555555556,\"#d8576b\"],[0.6666666666666666,\"#ed7953\"],[0.7777777777777778,\"#fb9f3a\"],[0.8888888888888888,\"#fdca26\"],[1.0,\"#f0f921\"]],\"type\":\"histogram2dcontour\"}],\"mesh3d\":[{\"colorbar\":{\"outlinewidth\":0,\"ticks\":\"\"},\"type\":\"mesh3d\"}],\"parcoords\":[{\"line\":{\"colorbar\":{\"outlinewidth\":0,\"ticks\":\"\"}},\"type\":\"parcoords\"}],\"pie\":[{\"automargin\":true,\"type\":\"pie\"}],\"scatter\":[{\"marker\":{\"colorbar\":{\"outlinewidth\":0,\"ticks\":\"\"}},\"type\":\"scatter\"}],\"scatter3d\":[{\"line\":{\"colorbar\":{\"outlinewidth\":0,\"ticks\":\"\"}},\"marker\":{\"colorbar\":{\"outlinewidth\":0,\"ticks\":\"\"}},\"type\":\"scatter3d\"}],\"scattercarpet\":[{\"marker\":{\"colorbar\":{\"outlinewidth\":0,\"ticks\":\"\"}},\"type\":\"scattercarpet\"}],\"scattergeo\":[{\"marker\":{\"colorbar\":{\"outlinewidth\":0,\"ticks\":\"\"}},\"type\":\"scattergeo\"}],\"scattergl\":[{\"marker\":{\"colorbar\":{\"outlinewidth\":0,\"ticks\":\"\"}},\"type\":\"scattergl\"}],\"scattermapbox\":[{\"marker\":{\"colorbar\":{\"outlinewidth\":0,\"ticks\":\"\"}},\"type\":\"scattermapbox\"}],\"scatterpolar\":[{\"marker\":{\"colorbar\":{\"outlinewidth\":0,\"ticks\":\"\"}},\"type\":\"scatterpolar\"}],\"scatterpolargl\":[{\"marker\":{\"colorbar\":{\"outlinewidth\":0,\"ticks\":\"\"}},\"type\":\"scatterpolargl\"}],\"scatterternary\":[{\"marker\":{\"colorbar\":{\"outlinewidth\":0,\"ticks\":\"\"}},\"type\":\"scatterternary\"}],\"surface\":[{\"colorbar\":{\"outlinewidth\":0,\"ticks\":\"\"},\"colorscale\":[[0.0,\"#0d0887\"],[0.1111111111111111,\"#46039f\"],[0.2222222222222222,\"#7201a8\"],[0.3333333333333333,\"#9c179e\"],[0.4444444444444444,\"#bd3786\"],[0.5555555555555556,\"#d8576b\"],[0.6666666666666666,\"#ed7953\"],[0.7777777777777778,\"#fb9f3a\"],[0.8888888888888888,\"#fdca26\"],[1.0,\"#f0f921\"]],\"type\":\"surface\"}],\"table\":[{\"cells\":{\"fill\":{\"color\":\"#EBF0F8\"},\"line\":{\"color\":\"white\"}},\"header\":{\"fill\":{\"color\":\"#C8D4E3\"},\"line\":{\"color\":\"white\"}},\"type\":\"table\"}]},\"layout\":{\"annotationdefaults\":{\"arrowcolor\":\"#2a3f5f\",\"arrowhead\":0,\"arrowwidth\":1},\"autotypenumbers\":\"strict\",\"coloraxis\":{\"colorbar\":{\"outlinewidth\":0,\"ticks\":\"\"}},\"colorscale\":{\"diverging\":[[0,\"#8e0152\"],[0.1,\"#c51b7d\"],[0.2,\"#de77ae\"],[0.3,\"#f1b6da\"],[0.4,\"#fde0ef\"],[0.5,\"#f7f7f7\"],[0.6,\"#e6f5d0\"],[0.7,\"#b8e186\"],[0.8,\"#7fbc41\"],[0.9,\"#4d9221\"],[1,\"#276419\"]],\"sequential\":[[0.0,\"#0d0887\"],[0.1111111111111111,\"#46039f\"],[0.2222222222222222,\"#7201a8\"],[0.3333333333333333,\"#9c179e\"],[0.4444444444444444,\"#bd3786\"],[0.5555555555555556,\"#d8576b\"],[0.6666666666666666,\"#ed7953\"],[0.7777777777777778,\"#fb9f3a\"],[0.8888888888888888,\"#fdca26\"],[1.0,\"#f0f921\"]],\"sequentialminus\":[[0.0,\"#0d0887\"],[0.1111111111111111,\"#46039f\"],[0.2222222222222222,\"#7201a8\"],[0.3333333333333333,\"#9c179e\"],[0.4444444444444444,\"#bd3786\"],[0.5555555555555556,\"#d8576b\"],[0.6666666666666666,\"#ed7953\"],[0.7777777777777778,\"#fb9f3a\"],[0.8888888888888888,\"#fdca26\"],[1.0,\"#f0f921\"]]},\"colorway\":[\"#636efa\",\"#EF553B\",\"#00cc96\",\"#ab63fa\",\"#FFA15A\",\"#19d3f3\",\"#FF6692\",\"#B6E880\",\"#FF97FF\",\"#FECB52\"],\"font\":{\"color\":\"#2a3f5f\"},\"geo\":{\"bgcolor\":\"white\",\"lakecolor\":\"white\",\"landcolor\":\"#E5ECF6\",\"showlakes\":true,\"showland\":true,\"subunitcolor\":\"white\"},\"hoverlabel\":{\"align\":\"left\"},\"hovermode\":\"closest\",\"mapbox\":{\"style\":\"light\"},\"paper_bgcolor\":\"white\",\"plot_bgcolor\":\"#E5ECF6\",\"polar\":{\"angularaxis\":{\"gridcolor\":\"white\",\"linecolor\":\"white\",\"ticks\":\"\"},\"bgcolor\":\"#E5ECF6\",\"radialaxis\":{\"gridcolor\":\"white\",\"linecolor\":\"white\",\"ticks\":\"\"}},\"scene\":{\"xaxis\":{\"backgroundcolor\":\"#E5ECF6\",\"gridcolor\":\"white\",\"gridwidth\":2,\"linecolor\":\"white\",\"showbackground\":true,\"ticks\":\"\",\"zerolinecolor\":\"white\"},\"yaxis\":{\"backgroundcolor\":\"#E5ECF6\",\"gridcolor\":\"white\",\"gridwidth\":2,\"linecolor\":\"white\",\"showbackground\":true,\"ticks\":\"\",\"zerolinecolor\":\"white\"},\"zaxis\":{\"backgroundcolor\":\"#E5ECF6\",\"gridcolor\":\"white\",\"gridwidth\":2,\"linecolor\":\"white\",\"showbackground\":true,\"ticks\":\"\",\"zerolinecolor\":\"white\"}},\"shapedefaults\":{\"line\":{\"color\":\"#2a3f5f\"}},\"ternary\":{\"aaxis\":{\"gridcolor\":\"white\",\"linecolor\":\"white\",\"ticks\":\"\"},\"baxis\":{\"gridcolor\":\"white\",\"linecolor\":\"white\",\"ticks\":\"\"},\"bgcolor\":\"#E5ECF6\",\"caxis\":{\"gridcolor\":\"white\",\"linecolor\":\"white\",\"ticks\":\"\"}},\"title\":{\"x\":0.05},\"xaxis\":{\"automargin\":true,\"gridcolor\":\"white\",\"linecolor\":\"white\",\"ticks\":\"\",\"title\":{\"standoff\":15},\"zerolinecolor\":\"white\",\"zerolinewidth\":2},\"yaxis\":{\"automargin\":true,\"gridcolor\":\"white\",\"linecolor\":\"white\",\"ticks\":\"\",\"title\":{\"standoff\":15},\"zerolinecolor\":\"white\",\"zerolinewidth\":2}}},\"xaxis\":{\"anchor\":\"y\",\"domain\":[0.0,1.0],\"title\":{\"text\":\"X\"}},\"yaxis\":{\"anchor\":\"x\",\"domain\":[0.0,1.0],\"title\":{\"text\":\"Y\"}}},                        {\"responsive\": true}                    ).then(function(){\n                            \nvar gd = document.getElementById('b298df94-6ac1-4a13-a47c-692df5002d0a');\nvar x = new MutationObserver(function (mutations, observer) {{\n        var display = window.getComputedStyle(gd).display;\n        if (!display || display === 'none') {{\n            console.log([gd, 'removed!']);\n            Plotly.purge(gd);\n            observer.disconnect();\n        }}\n}});\n\n// Listen for the removal of the full notebook cells\nvar notebookContainer = gd.closest('#notebook-container');\nif (notebookContainer) {{\n    x.observe(notebookContainer, {childList: true});\n}}\n\n// Listen for the clearing of the current output cell\nvar outputEl = gd.closest('.output');\nif (outputEl) {{\n    x.observe(outputEl, {childList: true});\n}}\n\n                        })                };                });            </script>        </div>"
     },
     "metadata": {},
     "output_type": "display_data"
    }
   ],
   "source": [
    "model3_word_cluster_plot = px.scatter(model3_word_embeddings_dataframe,\n",
    "                                      x='X', y='Y', color=model3_word_embeddings_dataframe.word_cluster,\n",
    "                                      labels={'color': 'word'}, hover_data=[\"word\"])\n",
    "model3_word_cluster_plot"
   ],
   "metadata": {
    "collapsed": false,
    "pycharm": {
     "name": "#%%\n"
    }
   }
  },
  {
   "cell_type": "code",
   "execution_count": null,
   "outputs": [],
   "source": [],
   "metadata": {
    "collapsed": false,
    "pycharm": {
     "name": "#%%\n"
    }
   }
  }
 ],
 "metadata": {
  "kernelspec": {
   "display_name": "Python 3",
   "language": "python",
   "name": "python3"
  },
  "language_info": {
   "codemirror_mode": {
    "name": "ipython",
    "version": 2
   },
   "file_extension": ".py",
   "mimetype": "text/x-python",
   "name": "python",
   "nbconvert_exporter": "python",
   "pygments_lexer": "ipython2",
   "version": "2.7.6"
  }
 },
 "nbformat": 4,
 "nbformat_minor": 0
}