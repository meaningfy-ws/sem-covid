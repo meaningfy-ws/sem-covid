{
 "cells": [
  {
   "cell_type": "markdown",
   "metadata": {
    "collapsed": true,
    "pycharm": {
     "name": "#%% md\n"
    }
   },
   "source": [
    "## Word2vec model training\n",
    "#### Model training based on three datasets' text data:\n",
    "- M1: pwdb + eu_timeline  ( +  ireland_timeline )\n",
    "- M2: ds_eu_cellar\n",
    "- M3: M1+M2\n",
    "\n",
    "#### Extract NOUN and NOUN PHRASES from each text data\n",
    "#### Train the word2vec model with each dataset's textual data"
   ]
  },
  {
   "cell_type": "markdown",
   "source": [
    "### Import libraries"
   ],
   "metadata": {
    "collapsed": false,
    "pycharm": {
     "name": "#%% md\n"
    }
   }
  },
  {
   "cell_type": "code",
   "execution_count": 102,
   "outputs": [],
   "source": [
    "import sys\n",
    "\n",
    "import numpy as np\n",
    "from spacy.tokens import Doc\n",
    "\n",
    "sys.path.append(\"/home/jovyan/work/sem-covid/\")\n",
    "sys.path = list(set(sys.path))\n",
    "\n",
    "import os\n",
    "\n",
    "os.getcwd()\n",
    "os.chdir('/home/jovyan/work/sem-covid/')\n",
    "\n",
    "import warnings\n",
    "\n",
    "warnings.filterwarnings(\"ignore\", category=DeprecationWarning)\n",
    "\n",
    "from typing import List, Tuple\n",
    "\n",
    "import spacy\n",
    "\n",
    "nlp = spacy.load('en_core_web_sm')\n",
    "\n",
    "import pandas as pd\n",
    "from gensim.models import Word2Vec\n",
    "import plotly.express as px\n",
    "\n",
    "from sem_covid.services.data_registry import Dataset\n",
    "from sem_covid.adapters.data_source import IndexTabularDataSource\n",
    "\n",
    "from sem_covid.entrypoints.notebooks.topic_modeling.topic_modeling_wrangling.token_management import (filter_pos,\n",
    "                                                                                                      select_pos,\n",
    "                                                                                                      filter_pos,\n",
    "                                                                                                      filter_stop_words)\n",
    "\n",
    "from sem_covid.services.sc_wrangling.data_cleaning import (clean_text_from_specific_characters, clean_fix_unicode,\n",
    "                                                           clean_remove_currency_symbols, clean_remove_emails,\n",
    "                                                           clean_remove_urls, clean_remove_stopwords)\n",
    "\n",
    "from sem_covid.entrypoints.notebooks.language_modeling.language_model_tools.similarity_calculus import (\n",
    "    euclidean_similarity, manhattan_similarity, cosine_similarity, get_similarity_matrix)\n",
    "\n",
    "from sem_covid.entrypoints.notebooks.language_modeling.language_model_tools.document_handling_tools import (\n",
    "    document_atomization_noun_phrases)\n",
    "\n",
    "from sem_covid.entrypoints.notebooks.language_modeling.language_model_tools.word_embeddings_handler import (\n",
    "    select_words_and_embedding_clusters, create_tsne_model, create_word_clusters_matrix)"
   ],
   "metadata": {
    "collapsed": false,
    "pycharm": {
     "name": "#%%\n"
    }
   }
  },
  {
   "cell_type": "markdown",
   "source": [
    "## Define constants"
   ],
   "metadata": {
    "collapsed": false
   }
  },
  {
   "cell_type": "code",
   "execution_count": 5,
   "outputs": [],
   "source": [
    "PWDB_TEXTUAL_CLASS = ['title', 'background_info_description', 'content_of_measure_description',\n",
    "                      'use_of_measure_description', 'involvement_of_social_partners_description']\n",
    "\n",
    "DEFAULT_TEXTUAL_COLUMN = ['title']\n",
    "WINDOW = 5\n",
    "MIN_COUNT = 1\n",
    "VECTOR_SIZE = 300\n",
    "EPOCHS = 50\n",
    "EU_TIMELINE_TOTAL_EXAMPLES = 171\n",
    "IRELAND_TIMELINE_TOTAL_EXAMPLES = 410\n",
    "EU_CELLAR_TOTAL_EXAMPLES = 2653"
   ],
   "metadata": {
    "collapsed": false,
    "pycharm": {
     "name": "#%%\n"
    }
   }
  },
  {
   "cell_type": "markdown",
   "source": [
    "## Data preprocessing\n",
    "- data cleanup\n",
    "- turn corpus into spacy document"
   ],
   "metadata": {
    "collapsed": false
   }
  },
  {
   "cell_type": "code",
   "execution_count": 2,
   "outputs": [],
   "source": [
    "def apply_cleaning_functions(document_corpus: pd.Series) -> pd.Series:\n",
    "    \"\"\"\n",
    "    This function receives the document and leads through cleaning steps\n",
    "    Args:\n",
    "        document_corpus: dataset document corpus\n",
    "\n",
    "    Returns: clean document corpus\n",
    "    \"\"\"\n",
    "    unused_characters = [\"\\\\r\", \">\", \"\\n\", \"\\\\\", \"<\", \"''\", \"%\", \"...\", \"\\'\", '\"', \"(\", \"\\n\", \"*\", \"1)\", \"2)\", \"3)\",\n",
    "                         \"[\", \"]\", \"-\", \"_\", \"\\r\"]\n",
    "\n",
    "    new_document_corpus = document_corpus.apply(clean_text_from_specific_characters, characters=unused_characters)\n",
    "    new_document_corpus = new_document_corpus.apply(clean_fix_unicode)\n",
    "    new_document_corpus = new_document_corpus.apply(clean_remove_urls)\n",
    "    new_document_corpus = new_document_corpus.apply(clean_remove_emails)\n",
    "    new_document_corpus = new_document_corpus.apply(clean_remove_currency_symbols)\n",
    "    new_document_corpus = new_document_corpus.apply(clean_remove_stopwords)\n",
    "\n",
    "    return new_document_corpus"
   ],
   "metadata": {
    "collapsed": false,
    "pycharm": {
     "name": "#%%\n"
    }
   }
  },
  {
   "cell_type": "code",
   "execution_count": null,
   "outputs": [],
   "source": [
    "def document_lemmatization(doc: Doc) -> List:\n",
    "    return [x.lemma_ for x in doc]"
   ],
   "metadata": {
    "collapsed": false,
    "pycharm": {
     "name": "#%%\n"
    }
   }
  },
  {
   "cell_type": "code",
   "execution_count": 3,
   "outputs": [],
   "source": [
    "class LanguageModelPipeline:\n",
    "    \"\"\"\n",
    "        This pipeline executes the steps for word2vec language training.\n",
    "    \"\"\"\n",
    "\n",
    "    def __init__(self, dataset_sources: List[Tuple[IndexTabularDataSource, List[str]]]):\n",
    "        \"\"\"\n",
    "            :param dataset_sources: represents the source of the datasets.\n",
    "        \"\"\"\n",
    "        self.dataset_sources = dataset_sources\n",
    "        self.documents_corpus = pd.Series()\n",
    "        self.word2vec = None\n",
    "\n",
    "    def download_datasets(self):\n",
    "        \"\"\"\n",
    "            In this step it will download the dataset and detect selected columns.\n",
    "            It can be downloaded as many datasets as there are in data source.\n",
    "        \"\"\"\n",
    "        self.dataset_sources = [(dataset_columns, dataset_source.fetch())\n",
    "                                for dataset_source, dataset_columns in self.dataset_sources]\n",
    "\n",
    "    def extract_textual_data(self):\n",
    "        \"\"\"\n",
    "            After downloading the datasets, the textual data will be found and and concatenated\n",
    "            with executing of several steps as well. It will fill the NaN values with empty space,\n",
    "            add a dot at the end of each concatenated column and reset the index.\n",
    "        \"\"\"\n",
    "        self.documents_corpus = pd.concat([dataset[columns]\n",
    "                                          .fillna(value=\"\")\n",
    "                                          .agg('. '.join, axis=1)\n",
    "                                          .reset_index(drop=True)\n",
    "                                           for columns, dataset in self.dataset_sources\n",
    "                                           ], ignore_index=True)\n",
    "\n",
    "    def clean_textual_data(self):\n",
    "        \"\"\"\n",
    "            The next step is data cleaning. In this step the function \"apply_cleaning_functions\"\n",
    "            applies the following actions:\n",
    "                - clean the document from specific characters\n",
    "                - delete unicode\n",
    "                - removes emails and URLs and currency symbols\n",
    "        \"\"\"\n",
    "        self.documents_corpus = apply_cleaning_functions(self.documents_corpus)\n",
    "\n",
    "    def transform_to_spacy_doc(self):\n",
    "        \"\"\"\n",
    "            When the document is clean, is going to be transform into spacy document\n",
    "        \"\"\"\n",
    "        self.documents_corpus = self.documents_corpus.apply(nlp)\n",
    "\n",
    "    def extract_features(self):\n",
    "        \"\"\"\n",
    "            To extract the parts of speech, below it was defined classes for each token is necessary.\n",
    "        \"\"\"\n",
    "        self.documents_corpus = pd.concat([self.documents_corpus.apply(document_lemmatization),\n",
    "                                           self.documents_corpus.apply(document_atomization_noun_phrases)]\n",
    "                                          , ignore_index=True)\n",
    "\n",
    "        self.documents_corpus = self.documents_corpus.apply(lambda x: list(map(str, x)))\n",
    "\n",
    "    def model_training(self):\n",
    "        \"\"\"\n",
    "            When the data is prepared it's stored into Word2Vec model.\n",
    "        \"\"\"\n",
    "        self.word2vec = Word2Vec(sentences=self.documents_corpus, window=WINDOW,\n",
    "                                 min_count=MIN_COUNT, vector_size=VECTOR_SIZE)\n",
    "\n",
    "    def execute(self):\n",
    "        \"\"\"\n",
    "            The final step is execution, where are stored each step and it will be executed in a row\n",
    "        \"\"\"\n",
    "        self.download_datasets()\n",
    "        self.extract_textual_data()\n",
    "        self.clean_textual_data()\n",
    "        self.transform_to_spacy_doc()\n",
    "        self.extract_features()\n",
    "        self.model_training()"
   ],
   "metadata": {
    "collapsed": false,
    "pycharm": {
     "name": "#%%\n"
    }
   }
  },
  {
   "cell_type": "markdown",
   "source": [
    "## Experiment Nr#1 language model based on:\n",
    "- PWDB\n",
    "- eu-timeline\n",
    "- ireland-timeline"
   ],
   "metadata": {
    "collapsed": false,
    "pycharm": {
     "name": "#%% md\n"
    }
   }
  },
  {
   "cell_type": "code",
   "execution_count": 6,
   "outputs": [
    {
     "name": "stderr",
     "output_type": "stream",
     "text": [
      "100% (1288 of 1288) |####################| Elapsed Time: 0:00:00 Time:  0:00:00\n",
      "100% (171 of 171) |######################| Elapsed Time: 0:00:00 Time:  0:00:00\n",
      "100% (410 of 410) |######################| Elapsed Time: 0:00:00 Time:  0:00:00\n"
     ]
    }
   ],
   "source": [
    "dataset_sources_config = [\n",
    "    (Dataset.PWDB, PWDB_TEXTUAL_CLASS),\n",
    "    (Dataset.EU_ACTION_TIMELINE, DEFAULT_TEXTUAL_COLUMN),\n",
    "    (Dataset.IRELAND_ACTION_TIMELINE, DEFAULT_TEXTUAL_COLUMN)\n",
    "]\n",
    "model1_language_model_pipeline = LanguageModelPipeline(dataset_sources=dataset_sources_config)\n",
    "model1_language_model_pipeline.execute()"
   ],
   "metadata": {
    "collapsed": false,
    "pycharm": {
     "name": "#%%\n"
    }
   }
  },
  {
   "cell_type": "markdown",
   "source": [
    "## Experiment Nr#2 language model based on:\n",
    "- eu-cellar\n"
   ],
   "metadata": {
    "collapsed": false,
    "pycharm": {
     "name": "#%% md\n"
    }
   }
  },
  {
   "cell_type": "code",
   "execution_count": 7,
   "outputs": [
    {
     "name": "stderr",
     "output_type": "stream",
     "text": [
      "100% (2653 of 2653) |####################| Elapsed Time: 0:00:01 Time:  0:00:01\n"
     ]
    }
   ],
   "source": [
    "dataset_sources_config = [\n",
    "    (Dataset.EU_CELLAR, DEFAULT_TEXTUAL_COLUMN)\n",
    "]\n",
    "model2_language_model_pipeline = LanguageModelPipeline(dataset_sources=dataset_sources_config)\n",
    "model2_language_model_pipeline.execute()\n"
   ],
   "metadata": {
    "collapsed": false,
    "pycharm": {
     "name": "#%%\n"
    }
   }
  },
  {
   "cell_type": "code",
   "execution_count": 164,
   "outputs": [],
   "source": [
    "import spacy\n",
    "\n",
    "nlp = spacy.load('en_core_web_sm')\n",
    "doc = nlp(str(model2_language_model_pipeline.word2vec.wv.index_to_key))\n",
    "selected_pos = select_pos(doc, pos=['NOUN', 'ADJ'])"
   ],
   "metadata": {
    "collapsed": false,
    "pycharm": {
     "name": "#%%\n"
    }
   }
  },
  {
   "cell_type": "code",
   "execution_count": 165,
   "outputs": [],
   "source": [
    "selected_pos = list(map(str, selected_pos))"
   ],
   "metadata": {
    "collapsed": false,
    "pycharm": {
     "name": "#%%\n"
    }
   }
  },
  {
   "cell_type": "code",
   "execution_count": 206,
   "outputs": [
    {
     "data": {
      "text/plain": "['european',\n 'council',\n 'commission',\n 'regulation',\n 'parliament',\n 'case',\n 'decision',\n 'regards',\n 'committee',\n 'covid19',\n 'document',\n 'union',\n 'certain',\n 'text',\n 'relevance',\n 'article',\n 'social',\n 'communication',\n 'proposal',\n 'economic',\n 'opinion',\n 'preliminary',\n 'request',\n 'programme',\n 'action',\n 'air',\n 'recommendation',\n 'outbreak',\n 'regions',\n 'directive',\n 'state',\n 'services',\n 'staff',\n 'rules',\n 'aid',\n 'court',\n 'measures',\n 'common',\n 'temporary',\n 'member',\n 'information',\n 'periodic',\n 'l',\n 'states',\n 'community',\n 'use',\n 'pursuant',\n 'accordance',\n 'law',\n 'text_eea_relevance',\n 'p.',\n 'application',\n 'recovery',\n 'pandemic',\n 'plan',\n 'respect',\n 'support',\n 'assessment',\n 'rule',\n 'health',\n 'agreement',\n 'public',\n 'evaluation',\n 'market',\n 'transport',\n 'training',\n 'position',\n 'operation',\n 'european_economic_social_committee_committee_regions',\n 'service',\n 'framework',\n 'judgment',\n 'postponement',\n 'final',\n 'products',\n 'specific',\n 'general',\n 'national',\n 'extension',\n 'substances',\n 'fund',\n 'recommendations',\n 'bank',\n 'order',\n 'adoption',\n 'research',\n 'reference',\n 'policy',\n 'part',\n 'treaty',\n 'emergency',\n 'authorisations',\n 'obligations',\n 'com2020',\n 'chamber',\n 'situation',\n 'executive',\n 'checks',\n 'central',\n 'protection',\n 'innovation',\n 'restriction',\n 'joint',\n 'invitation',\n 'crisis',\n 'objections',\n 'progress',\n 'financial',\n 'strategic',\n 'implementation',\n 'strategy',\n 'response',\n 'resolution',\n 'document_communication_commission_european_parliament',\n 'resilience',\n 'registration',\n 'risks',\n 'procedure',\n 'agency',\n 'regulations',\n 'provisions',\n 'concentration',\n 'state_aid_decision_raise_objections',\n 'context',\n 'kingdom',\n 'authorisation',\n 'country',\n 'pursuant_article',\n 'articles',\n 'certificates',\n 'stability',\n 'areas',\n 'reform',\n 'indepth',\n 'behalf',\n 'period',\n 'data',\n 'legislation',\n 'agricultural',\n 'entry',\n 'appeal',\n 'area',\n 'energy',\n 'aviation',\n 'year',\n 'licences',\n 'gmbh',\n 'notification',\n 'prevention',\n 'nonopposition',\n 'travel',\n 'development',\n 'approval',\n 'unemployment',\n 'renewal',\n '16february',\n 'summary',\n 'licences_authorisations',\n 'tfeu',\n 'recommendation_council_recommendation',\n 'budget',\n 'results',\n 'periods',\n 'chemicals',\n 'reviews',\n 'impact',\n 'decisions',\n 'requirements',\n 'investment',\n 'digital',\n 'european_central_bank',\n 'sustainable',\n 'belgium',\n \"'\",\n 'food',\n 'force',\n 'authentic',\n 'croatia',\n 'internal',\n 'freedom',\n 'security',\n 'regulation_ec',\n 'legislative',\n 'establishment',\n 'correction',\n 'c2020',\n 'international',\n 'european_union',\n 'official',\n 'macroeconomic',\n 'council_opinion',\n 'imbalances',\n 'proposals',\n 'passenger',\n 'landgericht',\n 'euratom',\n 'movement',\n 'civil',\n 'economy',\n 'rights',\n 'technology',\n 'workers',\n 'cod',\n 'president',\n 'commission_information',\n 'work',\n 'relation',\n 'assistance',\n 'guidelines',\n 'government',\n 'ryanair',\n 'new',\n 'ad',\n 'rapporteur',\n 'surveillance',\n 'unemployment_risks_emergency',\n 'field',\n 'sector',\n 'management',\n 'aspects',\n 'animals',\n 'structural',\n 'p',\n 'education',\n 'tender_respect_operation',\n 'conditions',\n 'tender',\n 'cooperation',\n 'european_parliament_legislative_resolution',\n 'candidate',\n 'operation_air_services',\n 'cap',\n 'draft',\n 'transition',\n 'human',\n 'corrigendum',\n 'free',\n 'instrument',\n 'proceedings',\n 'compensation',\n 'covid19_pandemic',\n 'tribunal',\n 'denmark',\n 'semester',\n 'inadmissibility',\n 'single',\n 'reforms',\n 'medicinal',\n 'authorisation_restriction_chemicals',\n 'iii',\n 'prevention_correction_macroeconomic_imbalances',\n 'chapter',\n 'horizon',\n 'time',\n 'reasons',\n 'adjustments',\n 'annulment',\n 'convention',\n 'structural_reforms',\n 'minimum',\n 'system',\n 'conclusions',\n 'activities',\n 'list',\n 'subject',\n 'deutsche',\n 'animal',\n 'certain_periodic_checks',\n 'citizens',\n 'specific_temporary_measures',\n 'common_agricultural_policy',\n 'safety',\n 'conclusion',\n '175)_regulation_ec',\n 'light',\n 'principle',\n 'cases',\n 'countries',\n 'certain_areas_transport_legislation',\n 'coordination',\n 'production',\n 'participation',\n 'tourism',\n 'regard',\n 'account',\n 'nonapplication',\n 'group',\n 'certain_areas_transport_legislation_extension',\n 'obligation',\n 'convergence',\n 'equal',\n 'persistence',\n 'opinion_european_committee_regions',\n 'specific_temporary_measures_view_persistence_covid19_crisis',\n '2021/267',\n 'nonessential',\n 'justice',\n 'annexes',\n 'control',\n 'programmes',\n 'performance',\n 'competition',\n 'regional',\n 'technical',\n 'approach',\n 'special',\n 'statement',\n 'airlines',\n 'persons',\n 'council_recommendation',\n 'summary_european_commission_decisions_authorisations',\n 'environment',\n 'inclusion',\n 'innovative',\n 'grants',\n 'analysis',\n 'legal',\n 'authority',\n 'treatment',\n 'mechanism',\n 'securitisation',\n 'europes',\n 'employment',\n '649)_regulation_ec',\n 'maximum',\n 'amendment',\n 'customs',\n 'manifest',\n 'interim',\n 'climate',\n 'czechia',\n '2020/912',\n 'exceptional',\n 'communication_commission',\n 'tax',\n 'enterprises',\n 'status',\n 'open',\n 'protocol',\n 'substance',\n 'concept',\n 'judicial',\n 'prior_notification_concentration_case',\n 'exemption',\n 'recast',\n 'measure',\n 'scheme',\n 'euromediterranean',\n 'amtsgericht',\n 'green',\n 'medical',\n 'address',\n 'act',\n 'processing',\n 'culture',\n 'possible',\n 'annual',\n 'seventh',\n 'controls',\n 'governments',\n 'payment',\n 'capital',\n 'applicable',\n 'delay',\n 'future',\n 'quality',\n 'industrial',\n 'weekly',\n 'initiative',\n 'daily',\n 'proportionality',\n 'labelling',\n 'proposal_council_decision_position',\n 'years',\n 'activity',\n 'jobs',\n 'simple',\n 'withdrawal',\n 'exploratory',\n 'applications',\n 'competitiveness',\n 'derogation',\n 'water',\n 'natural',\n 'guidance',\n 'mixtures',\n 'electronic',\n 'provision',\n 'meeting',\n 'organic',\n 'event',\n 'italian',\n 'commission_staff_working_document_commission',\n 'network',\n 'vehicles',\n 'purposes',\n 'risk',\n 'networks',\n 'border',\n 'accompanying_document_communication_commission_european_parliament',\n 'consumers',\n 'defence',\n 'mobilisation',\n 'failure',\n 'centre',\n 'consequences',\n 'members',\n 'specific_measures',\n 'value',\n 'passengers',\n 'adaptation',\n 'promotion',\n 'additional',\n 'transposition',\n 'rural',\n 'growth',\n 'sustainability',\n 'rail',\n 'directives',\n 'efficient',\n 'markets',\n 'relief',\n 'declaration',\n 'authorities',\n 'power',\n 'board',\n '23april',\n 'costs',\n 'horizon_europe_framework_programme_research_innovation',\n 'possible_lifting_restriction',\n 'plant',\n 'eighth',\n 'repair',\n 'administrative',\n 'private',\n 'eurowings',\n 'agriculture',\n 'contract',\n 'insurance',\n 'enforcement',\n 'disease',\n 'resilient',\n 'child',\n 'council_position',\n 'covid19_crisis',\n 'goods',\n 'euromediterranean_aviation_agreement_european_union_member_states',\n 'current',\n 'small',\n 'interest',\n 'testing',\n 'adjustment',\n 'dusseldorf',\n 'trading',\n 'order_general_court',\n 'scope',\n 'trade',\n 'media',\n 'limits',\n 'discharge',\n 'devices',\n 'fourth',\n 'institutions',\n 'technological',\n 'lack',\n 'nationals',\n 'commercial',\n 'matters',\n 'facility',\n 'committee_regions_european_investment_bank_economic_policy_coordination',\n 'recovery_modernising_economy',\n 'advisory',\n 'limited',\n 'euro',\n 'transitional',\n 'regulatory',\n 'industry',\n 'behalf_union',\n 'undertakings',\n 'german',\n 'emissions',\n 'vat',\n 'covid',\n 'artificial',\n 'intelligence',\n 'world',\n 'ryanair_v_commission',\n 'standards',\n 'resources',\n 'atomic',\n 'consumption',\n 'cars',\n 'enlargement',\n 'main',\n 'diseases',\n 'col',\n 'preliminary_ruling_landgericht_koln_germany',\n 'carriers',\n 'principles',\n 'examination',\n 'arrangements',\n 'accession',\n 'agenda',\n 'road',\n 'tenth',\n 'investments',\n 'multiannual',\n 'vehicle',\n 'neighbourhood',\n 'person',\n 'northern',\n 'effective',\n 'role',\n 'criminal',\n 'personal',\n 'affairs',\n 'monetary',\n 'systems',\n 'port',\n 'net',\n 'clause',\n '165/2014',\n 'communications',\n '2017/100',\n 'covid19_pandemic_text_eea_relevance',\n 'competence',\n 'date',\n 'point',\n 'challenges',\n 'document_report_commission_european_parliament',\n 'consumer',\n 'agricultural_products',\n 'supply',\n 'effects',\n 'high',\n 'proposal_council_regulation',\n 'submission',\n 'relevant',\n 'business',\n 'owninitiative',\n 'instruments',\n 'cohesion',\n 'opinion_european_economic_social_committee',\n 'claim',\n 'documents',\n 'flexibility',\n 'plans',\n 'universal',\n 'cancellation',\n 'aquatic',\n 'flights',\n 'comments',\n 'jurisdiction',\n 'residence',\n 'product',\n 'budgetary',\n 'technologies',\n 'rest',\n 'tachographs',\n 'swiss',\n 'error',\n 'internal_market_countries',\n 'cour',\n 'export',\n 'generation',\n 'collection',\n 'partnership',\n 'global',\n 'hydrocarbons',\n 'procedures',\n 'property',\n 'lawyerlinguists',\n 'objectionstext',\n 'word',\n 'children',\n 'women',\n 'verification',\n 'classification',\n 'rates',\n 'decision_cfsp',\n 'traceability',\n 'function',\n '15april',\n 'record',\n 'skills',\n 'operations',\n 'marketing',\n 'council_decision',\n 'remuneration',\n '223/2014',\n 'landesgericht',\n 'life',\n 'objectionstext_eea_relevance',\n 'behalf_european_union',\n 'detection',\n 'active',\n 'europol',\n 'recognition',\n 'duty',\n 'transparent',\n 'competent',\n 'ministre',\n 'limit',\n 'import',\n 'aquaculture',\n 'exchange',\n 'eradication',\n 'storage',\n 'persistent',\n 'pollutants',\n 'requirement',\n 'parties',\n 'volt',\n 'auditors',\n 'criteria',\n 'way',\n 'package',\n 'difficulties',\n 'covid19_pandemic_union',\n 'people',\n 'positions',\n 'disposal',\n 'rules_participation_dissemination',\n 'organization',\n 'transfer',\n 'drugs',\n 'grade',\n 'boarding',\n 'access',\n 'diodes',\n 'companies',\n 'sarscov2',\n 'opportunities',\n 'changes',\n 'waste',\n 'school',\n 'sixth',\n 'certificate',\n 'visa',\n 'acid',\n 'cybersecurity',\n 'objective',\n 'region',\n 'amendments',\n 'eligibility',\n 'compatible',\n 'behalf_european_union_joint_committee',\n 'income',\n 'dissemination',\n 'establishments',\n 'sectors',\n 'comarca',\n 'exploration',\n 'lighting',\n 'damage',\n 'finance',\n 'nondiscrimination',\n 'advantages',\n 'globalisation',\n 'reimbursement',\n 'basic',\n 'times',\n 'migration',\n 'grand',\n 'p.1',\n 'schemes',\n 'audiovisual',\n 'deadline',\n '322a',\n 'proposal_council_decision',\n 'english_text_authentic',\n 'outermost',\n 'requests',\n '652/2014',\n '940/2014',\n 'conference',\n 'airports',\n 'oberster',\n 'reduction',\n 'terms',\n 'payments',\n 'fundamental',\n 'charter',\n 'thirdcountry',\n 'threats',\n 'governance',\n 'modification',\n 'council_conclusions',\n 'production_export_authorisation',\n 'equality',\n 'representatives',\n 'exclusion',\n 'narcotic',\n 'available',\n 'exportation',\n 'capable',\n 'salts',\n 'inadmissible',\n 'acores',\n 'test',\n 'administrators',\n '14june',\n 'consiglio',\n 'allocation',\n 'mobility',\n 'levels',\n 'weapons',\n 'procedural',\n 'advance',\n 'bovine',\n 'wages',\n 'meat',\n 'short',\n 'movements',\n 'lower',\n 'slot',\n 'introduction',\n 'toxicfree',\n 'goal',\n '508/2014',\n 'council_court_auditors',\n \"temporary_derogation_council's_rules_procedure\",\n 'thresholds',\n 'sme',\n 'origin',\n 'destruction',\n 'online',\n 'fairness',\n 'half',\n 'pension',\n 'labour',\n 'scientific',\n 'loss',\n 'immediate',\n 'transportes',\n 'prolongation',\n 'aereos',\n 'parts',\n 'consignments',\n 'kg',\n 'operators',\n 'reasonable',\n '24march',\n 'level',\n 'lawyer',\n 'proposal_decision_european_parliament_council',\n 'pesticides',\n 'model',\n 'flight',\n 'blood',\n 'reacteu',\n 'age',\n 'unions',\n 'research_energy_rapporteur',\n 'capacity',\n 'nuclear',\n 'territory',\n 'damages',\n 'article175)_regulation_ec',\n 'funds',\n 'terrestrial',\n 'organisation',\n 'utilisation',\n 'family',\n 'materials',\n 'long',\n 'urgency',\n 'extraordinary',\n \"statement_council's_reasons\",\n 'mass',\n 'circumstances',\n 'taxation',\n 'commitments',\n 'confederation',\n 'ninth',\n 'corporation',\n 'sport',\n 'alternative',\n 'welfare',\n 'b.',\n 'equipment',\n 'environmental',\n 'lawyers',\n 'evidence',\n 'exposure',\n 'clean',\n 'extended',\n 'contribution',\n 'australian',\n 'samples',\n 'pillar',\n 'verwaltungsgericht',\n 'agreements',\n 'adequate',\n 'demonstration',\n 'cosmetic',\n 'supplementary',\n 'domain',\n 'radioactive',\n 'feed',\n 'website',\n 'audiovisual_culture_executive_agency',\n 'medicines',\n 'executive_agency_small_mediumsize_enterprises',\n 'agriculture_food_executive_agency',\n 'statistics',\n 'mercury',\n '11march',\n 'finnair',\n 'sky',\n 'asylum',\n 'derogations',\n 'germanwings',\n 'bridge',\n 'drivers',\n 'innovation_networks_executive_agency',\n 'tests',\n 'importation',\n 'moment',\n 'humans',\n 'company',\n 'presidency',\n 'figurative',\n 'hybrid',\n 'digitalisation',\n 'dutch',\n 'swedish',\n 'paper',\n 'regione',\n 'powers',\n 'dockers',\n 'psychotropic',\n 'medicinal_products',\n 'european_social_fund',\n 'view_travel_difficulties',\n 'collateral',\n '28april',\n 'corrigendum_commission',\n 'number',\n 'sad',\n 'combat',\n '16march',\n 'duties',\n 'methods',\n 'erster',\n 'european_cybersecurity_industrial',\n 'external',\n 'investigation',\n 'electric',\n 'projects',\n 'ground',\n 'relative',\n 'compliance',\n 'commission_staff_working_document_commission_recommendations',\n 'systemic',\n 'shares',\n 'project',\n 'mechanisms',\n '2020/1350',\n 'sums',\n 'airline',\n 'wine',\n 'report_commission_european_parliament_council',\n '2016/681',\n 'allowance',\n 'exportation_certain_products',\n 'carrier',\n 'play',\n 'director',\n 'recruitment',\n 'authorisations_prospection',\n 'illness',\n 'fifth',\n 'portuguese',\n 'assays',\n 'filing',\n 'protopresvyteros',\n 'connectivity',\n 'democracy',\n 'carbon',\n 'clinical',\n 'condor',\n 'efsa',\n 'industries',\n '809/2014',\n 'european_uniontext_eea_relevance',\n '250/2014',\n '2020/977',\n 'breaks',\n 'space',\n 'arbitration',\n 'validation',\n 'land',\n 'local',\n 'supplement',\n 'incompatible',\n 'effect',\n 'luz',\n 'challenge',\n 'conclusions_council_representatives',\n 'vaccination',\n 'interoperable',\n 'prospection',\n 'contingency',\n 'opposition',\n 'combustion',\n 'liability',\n 'processes',\n 'purchase',\n 'creation',\n 'firms',\n 'session',\n 'variables',\n 'transat',\n 'imports',\n 'price',\n 'infection',\n 'bodies',\n 'discount',\n 'foresight',\n '26may',\n 'tariff',\n 'shortterm',\n 'vocational',\n 'individual',\n 'distribution',\n 'partners',\n 'macrofinancial',\n 'months',\n '22march',\n 'ec_directive',\n 'drivers_road_transport_sector',\n 'acceptance',\n 'fair',\n 'validity',\n 'fisheries',\n 'direct',\n 'contributions',\n 'reinforcement',\n 'concern',\n 'i/05',\n 'basis',\n 'gas',\n 'certification',\n 'superior',\n 'necessary',\n 'currency',\n 'extradition',\n 'vii',\n 'transmissible',\n 'icelandic',\n 'toys',\n 'maintenance',\n 'multi',\n 'foreign',\n 'extension_action',\n 'antitrust',\n 'scheduling',\n 'sentence',\n 'request_advisory_opinion',\n 'vaccines',\n 'z',\n 'issuance',\n 'proliferation',\n 'audits',\n 'shift2rail',\n 'minimum_requirements',\n 'cities',\n 'political',\n 'bankruptcy',\n 'nature',\n 'statistical',\n 'party',\n 'tirrenia',\n 'engine',\n 'preparatory',\n 'spouses',\n 'plants',\n 'men',\n 'dependencies',\n 'crown',\n 'law_situation_european_union',\n 'fur',\n 'entries',\n 'distributions',\n 'direktion',\n 'polish',\n 'hellenic',\n 'introduction_specific_measures',\n 'possibility',\n 'purpose',\n 'fishery',\n 'eurosystem',\n 'radio',\n 'job',\n 'warrant',\n 'interests',\n 'vet',\n 'transparency',\n 'financing',\n ...]"
     },
     "execution_count": 206,
     "metadata": {},
     "output_type": "execute_result"
    }
   ],
   "source": [
    "selected_pos"
   ],
   "metadata": {
    "collapsed": false,
    "pycharm": {
     "name": "#%%\n"
    }
   }
  },
  {
   "cell_type": "code",
   "execution_count": 189,
   "outputs": [],
   "source": [
    "key_words = ['work', 'agreement', 'working', 'companies', 'workers',\n",
    "             'measures', 'temporary', 'social', 'support', 'covid19',\n",
    "             '2020', 'public', 'national', 'ireland', 'statement', '2021',\n",
    "             'announce', 'health', 'minister', 'new', 'billion', 'coronavirus',\n",
    "             'vaccine', 'eur', 'support', 'milion', 'commission', 'eu']\n",
    "\n",
    "selected_key_words = [word for word in key_words if word in selected_pos]\n"
   ],
   "metadata": {
    "collapsed": false,
    "pycharm": {
     "name": "#%%\n"
    }
   }
  },
  {
   "cell_type": "code",
   "execution_count": 202,
   "outputs": [
    {
     "data": {
      "text/plain": "17"
     },
     "execution_count": 202,
     "metadata": {},
     "output_type": "execute_result"
    }
   ],
   "source": [
    "len(selected_key_words)"
   ],
   "metadata": {
    "collapsed": false,
    "pycharm": {
     "name": "#%%\n"
    }
   }
  },
  {
   "cell_type": "code",
   "execution_count": 204,
   "outputs": [],
   "source": [
    "selected_pos_index = [model2_language_model_pipeline.word2vec.wv.index_to_key.index(token)\n",
    "                      for token in selected_pos\n",
    "                      if token in model2_language_model_pipeline.word2vec.wv.index_to_key]"
   ],
   "metadata": {
    "collapsed": false,
    "pycharm": {
     "name": "#%%\n"
    }
   }
  },
  {
   "cell_type": "code",
   "execution_count": 205,
   "outputs": [],
   "source": [
    "selected_pos_embeddings = [model2_language_model_pipeline.word2vec.wv.vectors[index]\n",
    "                           for index in selected_pos_index\n",
    "                           ]\n"
   ],
   "metadata": {
    "collapsed": false,
    "pycharm": {
     "name": "#%%\n"
    }
   }
  },
  {
   "cell_type": "code",
   "execution_count": 104,
   "outputs": [],
   "source": [
    "def my_get_similarity_matrix(vector: np.ndarray, keys: list, metric: callable) -> pd.DataFrame:\n",
    "    \"\"\"\n",
    "        creates a dataframe based on keys and vectors from pretrained gensim model\n",
    "        and selected similarity function\n",
    "\n",
    "        :param vector: the object that contains the mapping between words and embeddings\n",
    "        :param keys: words indexes keys\n",
    "        :metric: metric distance formula\n",
    "        :return: dataframe with similarity of each word\n",
    "    \"\"\"\n",
    "    from sklearn.metrics import pairwise_distances\n",
    "    return pd.DataFrame(pairwise_distances(vector, metric=metric), columns=keys, index=keys)"
   ],
   "metadata": {
    "collapsed": false,
    "pycharm": {
     "name": "#%%\n"
    }
   }
  },
  {
   "cell_type": "code",
   "execution_count": 178,
   "outputs": [
    {
     "data": {
      "text/plain": "                work  agreement  companies   workers  measures  temporary  \\\nwork        1.000000   0.812539   0.984509  0.976312  0.807430   0.698546   \nagreement   0.812539   1.000000   0.786987  0.752484  0.655734   0.501508   \ncompanies   0.984509   0.786987   1.000000  0.981069  0.821679   0.719043   \nworkers     0.976312   0.752484   0.981069  1.000000  0.834405   0.716357   \nmeasures    0.807430   0.655734   0.821679  0.834405  1.000000   0.941955   \ntemporary   0.698546   0.501508   0.719043  0.716357  0.941955   1.000000   \nsocial      0.805139   0.816622   0.767181  0.679323  0.542091   0.499916   \nsupport     0.860553   0.689836   0.879759  0.851770  0.943511   0.949730   \ncovid19     0.765899   0.591029   0.779555  0.797937  0.971323   0.875181   \npublic      0.863771   0.781572   0.837203  0.898915  0.700999   0.525450   \nnational    0.927801   0.635486   0.901730  0.877136  0.750061   0.729909   \nstatement   0.782584   0.521180   0.820120  0.774741  0.669875   0.692556   \nhealth      0.989284   0.848532   0.981082  0.976618  0.792360   0.652789   \nnew         0.988844   0.848122   0.976985  0.946175  0.771282   0.666008   \nvaccine     0.871252   0.758327   0.850642  0.871856  0.885039   0.758634   \nsupport     0.860553   0.689836   0.879759  0.851770  0.943511   0.949730   \ncommission  0.741058   0.618220   0.793628  0.704600  0.658916   0.722910   \n\n              social   support   covid19    public  national  statement  \\\nwork        0.805139  0.860553  0.765899  0.863771  0.927801   0.782584   \nagreement   0.816622  0.689836  0.591029  0.781572  0.635486   0.521180   \ncompanies   0.767181  0.879759  0.779555  0.837203  0.901730   0.820120   \nworkers     0.679323  0.851770  0.797937  0.898915  0.877136   0.774741   \nmeasures    0.542091  0.943511  0.971323  0.700999  0.750061   0.669875   \ntemporary   0.499916  0.949730  0.875181  0.525450  0.729909   0.692556   \nsocial      1.000000  0.704762  0.482857  0.532659  0.761337   0.633479   \nsupport     0.704762  1.000000  0.875701  0.654038  0.847427   0.797872   \ncovid19     0.482857  0.875701  1.000000  0.667084  0.690444   0.576232   \npublic      0.532659  0.654038  0.667084  1.000000  0.691814   0.507468   \nnational    0.761337  0.847427  0.690444  0.691814  1.000000   0.841727   \nstatement   0.633479  0.797872  0.576232  0.507468  0.841727   1.000000   \nhealth      0.783912  0.827232  0.759381  0.900930  0.870600   0.726005   \nnew         0.873704  0.850910  0.725876  0.815713  0.908929   0.790190   \nvaccine     0.633406  0.834103  0.866906  0.811302  0.774210   0.622969   \nsupport     0.704762  1.000000  0.875701  0.654038  0.847427   0.797872   \ncommission  0.759495  0.844685  0.569314  0.482122  0.730077   0.720162   \n\n              health       new   vaccine   support  commission  \nwork        0.989284  0.988844  0.871252  0.860553    0.741058  \nagreement   0.848532  0.848122  0.758327  0.689836    0.618220  \ncompanies   0.981082  0.976985  0.850642  0.879759    0.793628  \nworkers     0.976618  0.946175  0.871856  0.851770    0.704600  \nmeasures    0.792360  0.771282  0.885039  0.943511    0.658916  \ntemporary   0.652789  0.666008  0.758634  0.949730    0.722910  \nsocial      0.783912  0.873704  0.633406  0.704762    0.759495  \nsupport     0.827232  0.850910  0.834103  1.000000    0.844685  \ncovid19     0.759381  0.725876  0.866906  0.875701    0.569314  \npublic      0.900930  0.815713  0.811302  0.654038    0.482122  \nnational    0.870600  0.908929  0.774210  0.847427    0.730077  \nstatement   0.726005  0.790190  0.622969  0.797872    0.720162  \nhealth      1.000000  0.980672  0.870412  0.827232    0.724520  \nnew         0.980672  1.000000  0.842126  0.850910    0.777196  \nvaccine     0.870412  0.842126  1.000000  0.834103    0.571364  \nsupport     0.827232  0.850910  0.834103  1.000000    0.844685  \ncommission  0.724520  0.777196  0.571364  0.844685    1.000000  ",
      "text/html": "<div>\n<style scoped>\n    .dataframe tbody tr th:only-of-type {\n        vertical-align: middle;\n    }\n\n    .dataframe tbody tr th {\n        vertical-align: top;\n    }\n\n    .dataframe thead th {\n        text-align: right;\n    }\n</style>\n<table border=\"1\" class=\"dataframe\">\n  <thead>\n    <tr style=\"text-align: right;\">\n      <th></th>\n      <th>work</th>\n      <th>agreement</th>\n      <th>companies</th>\n      <th>workers</th>\n      <th>measures</th>\n      <th>temporary</th>\n      <th>social</th>\n      <th>support</th>\n      <th>covid19</th>\n      <th>public</th>\n      <th>national</th>\n      <th>statement</th>\n      <th>health</th>\n      <th>new</th>\n      <th>vaccine</th>\n      <th>support</th>\n      <th>commission</th>\n    </tr>\n  </thead>\n  <tbody>\n    <tr>\n      <th>work</th>\n      <td>1.000000</td>\n      <td>0.812539</td>\n      <td>0.984509</td>\n      <td>0.976312</td>\n      <td>0.807430</td>\n      <td>0.698546</td>\n      <td>0.805139</td>\n      <td>0.860553</td>\n      <td>0.765899</td>\n      <td>0.863771</td>\n      <td>0.927801</td>\n      <td>0.782584</td>\n      <td>0.989284</td>\n      <td>0.988844</td>\n      <td>0.871252</td>\n      <td>0.860553</td>\n      <td>0.741058</td>\n    </tr>\n    <tr>\n      <th>agreement</th>\n      <td>0.812539</td>\n      <td>1.000000</td>\n      <td>0.786987</td>\n      <td>0.752484</td>\n      <td>0.655734</td>\n      <td>0.501508</td>\n      <td>0.816622</td>\n      <td>0.689836</td>\n      <td>0.591029</td>\n      <td>0.781572</td>\n      <td>0.635486</td>\n      <td>0.521180</td>\n      <td>0.848532</td>\n      <td>0.848122</td>\n      <td>0.758327</td>\n      <td>0.689836</td>\n      <td>0.618220</td>\n    </tr>\n    <tr>\n      <th>companies</th>\n      <td>0.984509</td>\n      <td>0.786987</td>\n      <td>1.000000</td>\n      <td>0.981069</td>\n      <td>0.821679</td>\n      <td>0.719043</td>\n      <td>0.767181</td>\n      <td>0.879759</td>\n      <td>0.779555</td>\n      <td>0.837203</td>\n      <td>0.901730</td>\n      <td>0.820120</td>\n      <td>0.981082</td>\n      <td>0.976985</td>\n      <td>0.850642</td>\n      <td>0.879759</td>\n      <td>0.793628</td>\n    </tr>\n    <tr>\n      <th>workers</th>\n      <td>0.976312</td>\n      <td>0.752484</td>\n      <td>0.981069</td>\n      <td>1.000000</td>\n      <td>0.834405</td>\n      <td>0.716357</td>\n      <td>0.679323</td>\n      <td>0.851770</td>\n      <td>0.797937</td>\n      <td>0.898915</td>\n      <td>0.877136</td>\n      <td>0.774741</td>\n      <td>0.976618</td>\n      <td>0.946175</td>\n      <td>0.871856</td>\n      <td>0.851770</td>\n      <td>0.704600</td>\n    </tr>\n    <tr>\n      <th>measures</th>\n      <td>0.807430</td>\n      <td>0.655734</td>\n      <td>0.821679</td>\n      <td>0.834405</td>\n      <td>1.000000</td>\n      <td>0.941955</td>\n      <td>0.542091</td>\n      <td>0.943511</td>\n      <td>0.971323</td>\n      <td>0.700999</td>\n      <td>0.750061</td>\n      <td>0.669875</td>\n      <td>0.792360</td>\n      <td>0.771282</td>\n      <td>0.885039</td>\n      <td>0.943511</td>\n      <td>0.658916</td>\n    </tr>\n    <tr>\n      <th>temporary</th>\n      <td>0.698546</td>\n      <td>0.501508</td>\n      <td>0.719043</td>\n      <td>0.716357</td>\n      <td>0.941955</td>\n      <td>1.000000</td>\n      <td>0.499916</td>\n      <td>0.949730</td>\n      <td>0.875181</td>\n      <td>0.525450</td>\n      <td>0.729909</td>\n      <td>0.692556</td>\n      <td>0.652789</td>\n      <td>0.666008</td>\n      <td>0.758634</td>\n      <td>0.949730</td>\n      <td>0.722910</td>\n    </tr>\n    <tr>\n      <th>social</th>\n      <td>0.805139</td>\n      <td>0.816622</td>\n      <td>0.767181</td>\n      <td>0.679323</td>\n      <td>0.542091</td>\n      <td>0.499916</td>\n      <td>1.000000</td>\n      <td>0.704762</td>\n      <td>0.482857</td>\n      <td>0.532659</td>\n      <td>0.761337</td>\n      <td>0.633479</td>\n      <td>0.783912</td>\n      <td>0.873704</td>\n      <td>0.633406</td>\n      <td>0.704762</td>\n      <td>0.759495</td>\n    </tr>\n    <tr>\n      <th>support</th>\n      <td>0.860553</td>\n      <td>0.689836</td>\n      <td>0.879759</td>\n      <td>0.851770</td>\n      <td>0.943511</td>\n      <td>0.949730</td>\n      <td>0.704762</td>\n      <td>1.000000</td>\n      <td>0.875701</td>\n      <td>0.654038</td>\n      <td>0.847427</td>\n      <td>0.797872</td>\n      <td>0.827232</td>\n      <td>0.850910</td>\n      <td>0.834103</td>\n      <td>1.000000</td>\n      <td>0.844685</td>\n    </tr>\n    <tr>\n      <th>covid19</th>\n      <td>0.765899</td>\n      <td>0.591029</td>\n      <td>0.779555</td>\n      <td>0.797937</td>\n      <td>0.971323</td>\n      <td>0.875181</td>\n      <td>0.482857</td>\n      <td>0.875701</td>\n      <td>1.000000</td>\n      <td>0.667084</td>\n      <td>0.690444</td>\n      <td>0.576232</td>\n      <td>0.759381</td>\n      <td>0.725876</td>\n      <td>0.866906</td>\n      <td>0.875701</td>\n      <td>0.569314</td>\n    </tr>\n    <tr>\n      <th>public</th>\n      <td>0.863771</td>\n      <td>0.781572</td>\n      <td>0.837203</td>\n      <td>0.898915</td>\n      <td>0.700999</td>\n      <td>0.525450</td>\n      <td>0.532659</td>\n      <td>0.654038</td>\n      <td>0.667084</td>\n      <td>1.000000</td>\n      <td>0.691814</td>\n      <td>0.507468</td>\n      <td>0.900930</td>\n      <td>0.815713</td>\n      <td>0.811302</td>\n      <td>0.654038</td>\n      <td>0.482122</td>\n    </tr>\n    <tr>\n      <th>national</th>\n      <td>0.927801</td>\n      <td>0.635486</td>\n      <td>0.901730</td>\n      <td>0.877136</td>\n      <td>0.750061</td>\n      <td>0.729909</td>\n      <td>0.761337</td>\n      <td>0.847427</td>\n      <td>0.690444</td>\n      <td>0.691814</td>\n      <td>1.000000</td>\n      <td>0.841727</td>\n      <td>0.870600</td>\n      <td>0.908929</td>\n      <td>0.774210</td>\n      <td>0.847427</td>\n      <td>0.730077</td>\n    </tr>\n    <tr>\n      <th>statement</th>\n      <td>0.782584</td>\n      <td>0.521180</td>\n      <td>0.820120</td>\n      <td>0.774741</td>\n      <td>0.669875</td>\n      <td>0.692556</td>\n      <td>0.633479</td>\n      <td>0.797872</td>\n      <td>0.576232</td>\n      <td>0.507468</td>\n      <td>0.841727</td>\n      <td>1.000000</td>\n      <td>0.726005</td>\n      <td>0.790190</td>\n      <td>0.622969</td>\n      <td>0.797872</td>\n      <td>0.720162</td>\n    </tr>\n    <tr>\n      <th>health</th>\n      <td>0.989284</td>\n      <td>0.848532</td>\n      <td>0.981082</td>\n      <td>0.976618</td>\n      <td>0.792360</td>\n      <td>0.652789</td>\n      <td>0.783912</td>\n      <td>0.827232</td>\n      <td>0.759381</td>\n      <td>0.900930</td>\n      <td>0.870600</td>\n      <td>0.726005</td>\n      <td>1.000000</td>\n      <td>0.980672</td>\n      <td>0.870412</td>\n      <td>0.827232</td>\n      <td>0.724520</td>\n    </tr>\n    <tr>\n      <th>new</th>\n      <td>0.988844</td>\n      <td>0.848122</td>\n      <td>0.976985</td>\n      <td>0.946175</td>\n      <td>0.771282</td>\n      <td>0.666008</td>\n      <td>0.873704</td>\n      <td>0.850910</td>\n      <td>0.725876</td>\n      <td>0.815713</td>\n      <td>0.908929</td>\n      <td>0.790190</td>\n      <td>0.980672</td>\n      <td>1.000000</td>\n      <td>0.842126</td>\n      <td>0.850910</td>\n      <td>0.777196</td>\n    </tr>\n    <tr>\n      <th>vaccine</th>\n      <td>0.871252</td>\n      <td>0.758327</td>\n      <td>0.850642</td>\n      <td>0.871856</td>\n      <td>0.885039</td>\n      <td>0.758634</td>\n      <td>0.633406</td>\n      <td>0.834103</td>\n      <td>0.866906</td>\n      <td>0.811302</td>\n      <td>0.774210</td>\n      <td>0.622969</td>\n      <td>0.870412</td>\n      <td>0.842126</td>\n      <td>1.000000</td>\n      <td>0.834103</td>\n      <td>0.571364</td>\n    </tr>\n    <tr>\n      <th>support</th>\n      <td>0.860553</td>\n      <td>0.689836</td>\n      <td>0.879759</td>\n      <td>0.851770</td>\n      <td>0.943511</td>\n      <td>0.949730</td>\n      <td>0.704762</td>\n      <td>1.000000</td>\n      <td>0.875701</td>\n      <td>0.654038</td>\n      <td>0.847427</td>\n      <td>0.797872</td>\n      <td>0.827232</td>\n      <td>0.850910</td>\n      <td>0.834103</td>\n      <td>1.000000</td>\n      <td>0.844685</td>\n    </tr>\n    <tr>\n      <th>commission</th>\n      <td>0.741058</td>\n      <td>0.618220</td>\n      <td>0.793628</td>\n      <td>0.704600</td>\n      <td>0.658916</td>\n      <td>0.722910</td>\n      <td>0.759495</td>\n      <td>0.844685</td>\n      <td>0.569314</td>\n      <td>0.482122</td>\n      <td>0.730077</td>\n      <td>0.720162</td>\n      <td>0.724520</td>\n      <td>0.777196</td>\n      <td>0.571364</td>\n      <td>0.844685</td>\n      <td>1.000000</td>\n    </tr>\n  </tbody>\n</table>\n</div>"
     },
     "execution_count": 178,
     "metadata": {},
     "output_type": "execute_result"
    }
   ],
   "source": [
    "sim_matrix = my_get_similarity_matrix(selected_pos_embeddings,\n",
    "                                      selected_key_words,\n",
    "                                      metric=cosine_similarity)\n",
    "sim_matrix"
   ],
   "metadata": {
    "collapsed": false,
    "pycharm": {
     "name": "#%%\n"
    }
   }
  },
  {
   "cell_type": "code",
   "execution_count": 199,
   "outputs": [],
   "source": [
    "# graph\n",
    "import networkx as nx\n",
    "from networkx.algorithms import tree\n",
    "import matplotlib.pyplot as plt\n",
    "\n",
    "graph = nx.Graph()\n",
    "graph.add_nodes_from(sim_matrix.index)\n",
    "threshold = 0.5\n",
    "n = np.array(sim_matrix.values).shape[0]\n",
    "m = np.array(sim_matrix.values).shape[1]\n",
    "for i in range(0, n):\n",
    "    for j in range(i + 1, m):\n",
    "        if sim_matrix.values[i][j] > threshold:\n",
    "            graph.add_edge(sim_matrix.index[i], sim_matrix.index[j], weight=sim_matrix.values[i][j])"
   ],
   "metadata": {
    "collapsed": false,
    "pycharm": {
     "name": "#%%\n"
    }
   }
  },
  {
   "cell_type": "code",
   "execution_count": 200,
   "outputs": [
    {
     "data": {
      "text/plain": "<Figure size 720x720 with 1 Axes>",
      "image/png": "[encoded data removed]"
     },
     "metadata": {},
     "output_type": "display_data"
    },
    {
     "data": {
      "text/plain": "<Figure size 720x720 with 1 Axes>",
      "image/png": "[encoded data removed]"
     },
     "metadata": {},
     "output_type": "display_data"
    }
   ],
   "source": [
    "plt.figure(1, figsize=(10, 10))\n",
    "tmp = tree.maximum_spanning_tree(graph)\n",
    "#nx.draw_networkx(tmp, with_labels=True)\n",
    "nx.draw_networkx(tmp)\n",
    "plt.figure(2, figsize=(10, 10))\n",
    "nx.draw_networkx(graph)\n"
   ],
   "metadata": {
    "collapsed": false,
    "pycharm": {
     "name": "#%%\n"
    }
   }
  },
  {
   "cell_type": "markdown",
   "source": [
    "## Experiment Nr#3 language model based on:\n",
    "- PWDB\n",
    "- eu-timeline\n",
    "- ireland-timeline\n",
    "- eu-cellar"
   ],
   "metadata": {
    "collapsed": false,
    "pycharm": {
     "name": "#%% md\n"
    }
   }
  },
  {
   "cell_type": "code",
   "execution_count": 8,
   "outputs": [],
   "source": [
    "dataset_sources_config = [\n",
    "    (Dataset.PWDB, PWDB_TEXTUAL_CLASS),\n",
    "    (Dataset.EU_ACTION_TIMELINE, DEFAULT_TEXTUAL_COLUMN),\n",
    "    (Dataset.IRELAND_ACTION_TIMELINE, DEFAULT_TEXTUAL_COLUMN),\n",
    "    (Dataset.EU_CELLAR, DEFAULT_TEXTUAL_COLUMN)\n",
    "]\n",
    "model3_language_model_pipeline = LanguageModelPipeline(dataset_sources=dataset_sources_config)\n",
    "model3_language_model_pipeline.execute()"
   ],
   "metadata": {
    "collapsed": false,
    "pycharm": {
     "name": "#%%\n"
    }
   }
  },
  {
   "cell_type": "markdown",
   "source": [
    "## Similarity matrices\n",
    "### Euclidean similarity\n"
   ],
   "metadata": {
    "collapsed": false,
    "pycharm": {
     "name": "#%% md\n"
    }
   }
  },
  {
   "cell_type": "code",
   "execution_count": 497,
   "outputs": [
    {
     "ename": "TypeError",
     "evalue": "get_similarity_matrix() got an unexpected keyword argument 'metric'",
     "output_type": "error",
     "traceback": [
      "\u001B[0;31m---------------------------------------------------------------------------\u001B[0m",
      "\u001B[0;31mTypeError\u001B[0m                                 Traceback (most recent call last)",
      "\u001B[0;32m<ipython-input-497-8e6f672dcfee>\u001B[0m in \u001B[0;36m<module>\u001B[0;34m\u001B[0m\n\u001B[0;32m----> 1\u001B[0;31m model1_euclidean_similarity_matrix = get_similarity_matrix(model1_language_model_pipeline.word2vec.wv.vectors[:10000],\n\u001B[0m\u001B[1;32m      2\u001B[0m                                                            \u001B[0mmodel1_language_model_pipeline\u001B[0m\u001B[0;34m.\u001B[0m\u001B[0mword2vec\u001B[0m\u001B[0;34m.\u001B[0m\u001B[0mwv\u001B[0m\u001B[0;34m.\u001B[0m\u001B[0mindex_to_key\u001B[0m\u001B[0;34m[\u001B[0m\u001B[0;34m:\u001B[0m\u001B[0;36m10000\u001B[0m\u001B[0;34m]\u001B[0m\u001B[0;34m,\u001B[0m\u001B[0;34m\u001B[0m\u001B[0;34m\u001B[0m\u001B[0m\n\u001B[1;32m      3\u001B[0m                                                            metric=euclidean_similarity)\n\u001B[1;32m      4\u001B[0m \u001B[0mmodel1_euclidean_similarity_matrix\u001B[0m\u001B[0;34m\u001B[0m\u001B[0;34m\u001B[0m\u001B[0m\n\u001B[1;32m      5\u001B[0m \u001B[0;34m\u001B[0m\u001B[0m\n",
      "\u001B[0;31mTypeError\u001B[0m: get_similarity_matrix() got an unexpected keyword argument 'metric'"
     ]
    }
   ],
   "source": [
    "model1_euclidean_similarity_matrix = get_similarity_matrix(model1_language_model_pipeline.word2vec.wv.vectors[:10000],\n",
    "                                                           model1_language_model_pipeline.word2vec.wv.index_to_key[\n",
    "                                                           :10000],\n",
    "                                                           metric=euclidean_similarity)\n",
    "model1_euclidean_similarity_matrix"
   ],
   "metadata": {
    "collapsed": false,
    "pycharm": {
     "name": "#%%\n"
    }
   }
  },
  {
   "cell_type": "code",
   "execution_count": 389,
   "outputs": [],
   "source": [
    "def select_most_similar_words(document: pd.Series, percentage: float) -> pd.Series:\n",
    "    \"\"\"\n",
    "        It locate the rows with equal and above inserted percentage number\n",
    "    \"\"\"\n",
    "    return document.loc[document >= percentage]\n",
    "\n",
    "\n",
    "companies_column = select_most_similar_words(model1_euclidean_similarity_matrix['companies'], percentage=0.12)\n",
    "covid_column = select_most_similar_words(model1_euclidean_similarity_matrix['covid'], percentage=0.20)\n",
    "economic_column = select_most_similar_words(model1_euclidean_similarity_matrix['economic'], percentage=0.12)\n",
    "country_column = select_most_similar_words(model1_euclidean_similarity_matrix['country'], percentage=0.4)\n",
    "workers_column = select_most_similar_words(model1_euclidean_similarity_matrix['workers'], percentage=0.13)"
   ],
   "metadata": {
    "collapsed": false,
    "pycharm": {
     "name": "#%%\n"
    }
   }
  },
  {
   "cell_type": "code",
   "execution_count": 470,
   "outputs": [],
   "source": [
    "# leaf for companies_column\n",
    "\n",
    "businesses_column = select_most_similar_words(model1_euclidean_similarity_matrix['businesses'], percentage=0.15)\n",
    "business_column = select_most_similar_words(model1_euclidean_similarity_matrix['business'], percentage=0.175)\n",
    "sectors_column = select_most_similar_words(model1_euclidean_similarity_matrix['sectors'], percentage=0.169)\n",
    "enterprises_column = select_most_similar_words(model1_euclidean_similarity_matrix['enterprises'], percentage=0.16)"
   ],
   "metadata": {
    "collapsed": false,
    "pycharm": {
     "name": "#%%\n"
    }
   }
  },
  {
   "cell_type": "code",
   "execution_count": 471,
   "outputs": [
    {
     "data": {
      "text/plain": "businesses       0.188833\nbusiness         0.177638\nsectors          0.185326\nenterprises      1.000000\nsmall            0.191056\nsmes             0.192827\nentrepreneurs    0.169911\ncultural         0.163353\nmicro            0.163858\nName: enterprises, dtype: float64"
     },
     "execution_count": 471,
     "metadata": {},
     "output_type": "execute_result"
    }
   ],
   "source": [
    "enterprises_column"
   ],
   "metadata": {
    "collapsed": false,
    "pycharm": {
     "name": "#%%\n"
    }
   }
  },
  {
   "cell_type": "code",
   "execution_count": 498,
   "outputs": [
    {
     "ename": "TypeError",
     "evalue": "get_similarity_matrix() got an unexpected keyword argument 'metric'",
     "output_type": "error",
     "traceback": [
      "\u001B[0;31m---------------------------------------------------------------------------\u001B[0m",
      "\u001B[0;31mTypeError\u001B[0m                                 Traceback (most recent call last)",
      "\u001B[0;32m<timed exec>\u001B[0m in \u001B[0;36m<module>\u001B[0;34m\u001B[0m\n",
      "\u001B[0;31mTypeError\u001B[0m: get_similarity_matrix() got an unexpected keyword argument 'metric'"
     ]
    }
   ],
   "source": [
    "% % time\n",
    "model2_euclidean_similarity_matrix = get_similarity_matrix(model2_language_model_pipeline.word2vec.wv.vectors[:100],\n",
    "                                                           model2_language_model_pipeline.word2vec.wv.index_to_key[\n",
    "                                                           :100],\n",
    "                                                           metric=euclidean_similarity)\n",
    "model2_euclidean_similarity_matrix"
   ],
   "metadata": {
    "collapsed": false,
    "pycharm": {
     "name": "#%%\n"
    }
   }
  },
  {
   "cell_type": "code",
   "execution_count": null,
   "outputs": [],
   "source": [
    "% % time\n",
    "model3_euclidean_similarity_matrix = get_similarity_matrix(model3_language_model_pipeline.word2vec.wv.vectors[:100],\n",
    "                                                           model3_language_model_pipeline.word2vec.wv.index_to_key[\n",
    "                                                           :100],\n",
    "                                                           metric=euclidean_similarity)\n",
    "model3_euclidean_similarity_matrix"
   ],
   "metadata": {
    "collapsed": false,
    "pycharm": {
     "name": "#%%\n"
    }
   }
  },
  {
   "cell_type": "markdown",
   "source": [
    "### Cosine similarity"
   ],
   "metadata": {
    "collapsed": false
   }
  },
  {
   "cell_type": "code",
   "execution_count": 205,
   "outputs": [
    {
     "name": "stdout",
     "output_type": "stream",
     "text": [
      "CPU times: user 65.2 ms, sys: 15.6 ms, total: 80.8 ms\n",
      "Wall time: 59 ms\n"
     ]
    },
    {
     "data": {
      "text/plain": "                      of       the         ,         .        to       and  \\\nof              1.000000  0.511642  0.317369  0.427981  0.262384  0.166899   \nthe             0.511642  1.000000  0.367205  0.447992  0.231155  0.365131   \n,               0.317369  0.367205  1.000000  0.616912  0.176355  0.484668   \n.               0.427981  0.447992  0.616912  1.000000  0.329643  0.291583   \nto              0.262384  0.231155  0.176355  0.329643  1.000000  0.305928   \n...                  ...       ...       ...       ...       ...       ...   \nother           0.214645  0.423464  0.437537  0.308056  0.277649  0.493363   \nout             0.112346  0.382931  0.076684  0.196495  0.373292  0.173836   \nthe_government  0.301171  0.368911  0.285540  0.413613  0.312893  0.146449   \npublic          0.355986  0.534336  0.516604  0.385117  0.255106  0.644037   \nthose           0.142277  0.304475  0.373788  0.232044  0.292648  0.386142   \n\n                      in       for        is         )  ...    amount  \\\nof              0.430036  0.390382  0.212310  0.281808  ...  0.410233   \nthe             0.396390  0.400744  0.236863  0.162178  ...  0.391036   \n,               0.492602  0.330994  0.060653  0.465698  ...  0.258271   \n.               0.422859  0.419060  0.230321  0.285206  ...  0.443402   \nto              0.275401  0.399800  0.141753 -0.146078  ...  0.300556   \n...                  ...       ...       ...       ...  ...       ...   \nother           0.336355  0.388673  0.190559  0.213142  ...  0.171243   \nout             0.171435  0.347778  0.416633  0.046239  ...  0.549789   \nthe_government  0.286634  0.135417  0.281205  0.138170  ...  0.194754   \npublic          0.326591  0.452979  0.221098  0.256422  ...  0.196754   \nthose           0.273150  0.406799  0.234325  0.210546  ...  0.389818   \n\n                   april     state     after      must     other       out  \\\nof              0.317030  0.568288  0.428808  0.148485  0.214645  0.112346   \nthe             0.308467  0.669853  0.368698  0.244276  0.423464  0.382931   \n,               0.507750  0.378864  0.338123  0.176744  0.437537  0.076684   \n.               0.429274  0.406013  0.350010  0.154066  0.308056  0.196495   \nto              0.185963  0.359055  0.365155  0.433441  0.277649  0.373292   \n...                  ...       ...       ...       ...       ...       ...   \nother           0.071470  0.279163  0.028832  0.336239  1.000000  0.343986   \nout             0.025964  0.366920  0.351489  0.572527  0.343986  1.000000   \nthe_government  0.494172  0.600352  0.351659 -0.016875  0.061862  0.242004   \npublic          0.286192  0.569198  0.110868  0.247393  0.751860  0.217294   \nthose           0.293346  0.281509  0.206638  0.376248  0.676652  0.462034   \n\n                the_government    public     those  \nof                    0.301171  0.355986  0.142277  \nthe                   0.368911  0.534336  0.304475  \n,                     0.285540  0.516604  0.373788  \n.                     0.413613  0.385117  0.232044  \nto                    0.312893  0.255106  0.292648  \n...                        ...       ...       ...  \nother                 0.061862  0.751860  0.676652  \nout                   0.242004  0.217294  0.462034  \nthe_government        1.000000  0.339275  0.088083  \npublic                0.339275  1.000000  0.489818  \nthose                 0.088083  0.489818  1.000000  \n\n[100 rows x 100 columns]",
      "text/html": "<div>\n<style scoped>\n    .dataframe tbody tr th:only-of-type {\n        vertical-align: middle;\n    }\n\n    .dataframe tbody tr th {\n        vertical-align: top;\n    }\n\n    .dataframe thead th {\n        text-align: right;\n    }\n</style>\n<table border=\"1\" class=\"dataframe\">\n  <thead>\n    <tr style=\"text-align: right;\">\n      <th></th>\n      <th>of</th>\n      <th>the</th>\n      <th>,</th>\n      <th>.</th>\n      <th>to</th>\n      <th>and</th>\n      <th>in</th>\n      <th>for</th>\n      <th>is</th>\n      <th>)</th>\n      <th>...</th>\n      <th>amount</th>\n      <th>april</th>\n      <th>state</th>\n      <th>after</th>\n      <th>must</th>\n      <th>other</th>\n      <th>out</th>\n      <th>the_government</th>\n      <th>public</th>\n      <th>those</th>\n    </tr>\n  </thead>\n  <tbody>\n    <tr>\n      <th>of</th>\n      <td>1.000000</td>\n      <td>0.511642</td>\n      <td>0.317369</td>\n      <td>0.427981</td>\n      <td>0.262384</td>\n      <td>0.166899</td>\n      <td>0.430036</td>\n      <td>0.390382</td>\n      <td>0.212310</td>\n      <td>0.281808</td>\n      <td>...</td>\n      <td>0.410233</td>\n      <td>0.317030</td>\n      <td>0.568288</td>\n      <td>0.428808</td>\n      <td>0.148485</td>\n      <td>0.214645</td>\n      <td>0.112346</td>\n      <td>0.301171</td>\n      <td>0.355986</td>\n      <td>0.142277</td>\n    </tr>\n    <tr>\n      <th>the</th>\n      <td>0.511642</td>\n      <td>1.000000</td>\n      <td>0.367205</td>\n      <td>0.447992</td>\n      <td>0.231155</td>\n      <td>0.365131</td>\n      <td>0.396390</td>\n      <td>0.400744</td>\n      <td>0.236863</td>\n      <td>0.162178</td>\n      <td>...</td>\n      <td>0.391036</td>\n      <td>0.308467</td>\n      <td>0.669853</td>\n      <td>0.368698</td>\n      <td>0.244276</td>\n      <td>0.423464</td>\n      <td>0.382931</td>\n      <td>0.368911</td>\n      <td>0.534336</td>\n      <td>0.304475</td>\n    </tr>\n    <tr>\n      <th>,</th>\n      <td>0.317369</td>\n      <td>0.367205</td>\n      <td>1.000000</td>\n      <td>0.616912</td>\n      <td>0.176355</td>\n      <td>0.484668</td>\n      <td>0.492602</td>\n      <td>0.330994</td>\n      <td>0.060653</td>\n      <td>0.465698</td>\n      <td>...</td>\n      <td>0.258271</td>\n      <td>0.507750</td>\n      <td>0.378864</td>\n      <td>0.338123</td>\n      <td>0.176744</td>\n      <td>0.437537</td>\n      <td>0.076684</td>\n      <td>0.285540</td>\n      <td>0.516604</td>\n      <td>0.373788</td>\n    </tr>\n    <tr>\n      <th>.</th>\n      <td>0.427981</td>\n      <td>0.447992</td>\n      <td>0.616912</td>\n      <td>1.000000</td>\n      <td>0.329643</td>\n      <td>0.291583</td>\n      <td>0.422859</td>\n      <td>0.419060</td>\n      <td>0.230321</td>\n      <td>0.285206</td>\n      <td>...</td>\n      <td>0.443402</td>\n      <td>0.429274</td>\n      <td>0.406013</td>\n      <td>0.350010</td>\n      <td>0.154066</td>\n      <td>0.308056</td>\n      <td>0.196495</td>\n      <td>0.413613</td>\n      <td>0.385117</td>\n      <td>0.232044</td>\n    </tr>\n    <tr>\n      <th>to</th>\n      <td>0.262384</td>\n      <td>0.231155</td>\n      <td>0.176355</td>\n      <td>0.329643</td>\n      <td>1.000000</td>\n      <td>0.305928</td>\n      <td>0.275401</td>\n      <td>0.399800</td>\n      <td>0.141753</td>\n      <td>-0.146078</td>\n      <td>...</td>\n      <td>0.300556</td>\n      <td>0.185963</td>\n      <td>0.359055</td>\n      <td>0.365155</td>\n      <td>0.433441</td>\n      <td>0.277649</td>\n      <td>0.373292</td>\n      <td>0.312893</td>\n      <td>0.255106</td>\n      <td>0.292648</td>\n    </tr>\n    <tr>\n      <th>...</th>\n      <td>...</td>\n      <td>...</td>\n      <td>...</td>\n      <td>...</td>\n      <td>...</td>\n      <td>...</td>\n      <td>...</td>\n      <td>...</td>\n      <td>...</td>\n      <td>...</td>\n      <td>...</td>\n      <td>...</td>\n      <td>...</td>\n      <td>...</td>\n      <td>...</td>\n      <td>...</td>\n      <td>...</td>\n      <td>...</td>\n      <td>...</td>\n      <td>...</td>\n      <td>...</td>\n    </tr>\n    <tr>\n      <th>other</th>\n      <td>0.214645</td>\n      <td>0.423464</td>\n      <td>0.437537</td>\n      <td>0.308056</td>\n      <td>0.277649</td>\n      <td>0.493363</td>\n      <td>0.336355</td>\n      <td>0.388673</td>\n      <td>0.190559</td>\n      <td>0.213142</td>\n      <td>...</td>\n      <td>0.171243</td>\n      <td>0.071470</td>\n      <td>0.279163</td>\n      <td>0.028832</td>\n      <td>0.336239</td>\n      <td>1.000000</td>\n      <td>0.343986</td>\n      <td>0.061862</td>\n      <td>0.751860</td>\n      <td>0.676652</td>\n    </tr>\n    <tr>\n      <th>out</th>\n      <td>0.112346</td>\n      <td>0.382931</td>\n      <td>0.076684</td>\n      <td>0.196495</td>\n      <td>0.373292</td>\n      <td>0.173836</td>\n      <td>0.171435</td>\n      <td>0.347778</td>\n      <td>0.416633</td>\n      <td>0.046239</td>\n      <td>...</td>\n      <td>0.549789</td>\n      <td>0.025964</td>\n      <td>0.366920</td>\n      <td>0.351489</td>\n      <td>0.572527</td>\n      <td>0.343986</td>\n      <td>1.000000</td>\n      <td>0.242004</td>\n      <td>0.217294</td>\n      <td>0.462034</td>\n    </tr>\n    <tr>\n      <th>the_government</th>\n      <td>0.301171</td>\n      <td>0.368911</td>\n      <td>0.285540</td>\n      <td>0.413613</td>\n      <td>0.312893</td>\n      <td>0.146449</td>\n      <td>0.286634</td>\n      <td>0.135417</td>\n      <td>0.281205</td>\n      <td>0.138170</td>\n      <td>...</td>\n      <td>0.194754</td>\n      <td>0.494172</td>\n      <td>0.600352</td>\n      <td>0.351659</td>\n      <td>-0.016875</td>\n      <td>0.061862</td>\n      <td>0.242004</td>\n      <td>1.000000</td>\n      <td>0.339275</td>\n      <td>0.088083</td>\n    </tr>\n    <tr>\n      <th>public</th>\n      <td>0.355986</td>\n      <td>0.534336</td>\n      <td>0.516604</td>\n      <td>0.385117</td>\n      <td>0.255106</td>\n      <td>0.644037</td>\n      <td>0.326591</td>\n      <td>0.452979</td>\n      <td>0.221098</td>\n      <td>0.256422</td>\n      <td>...</td>\n      <td>0.196754</td>\n      <td>0.286192</td>\n      <td>0.569198</td>\n      <td>0.110868</td>\n      <td>0.247393</td>\n      <td>0.751860</td>\n      <td>0.217294</td>\n      <td>0.339275</td>\n      <td>1.000000</td>\n      <td>0.489818</td>\n    </tr>\n    <tr>\n      <th>those</th>\n      <td>0.142277</td>\n      <td>0.304475</td>\n      <td>0.373788</td>\n      <td>0.232044</td>\n      <td>0.292648</td>\n      <td>0.386142</td>\n      <td>0.273150</td>\n      <td>0.406799</td>\n      <td>0.234325</td>\n      <td>0.210546</td>\n      <td>...</td>\n      <td>0.389818</td>\n      <td>0.293346</td>\n      <td>0.281509</td>\n      <td>0.206638</td>\n      <td>0.376248</td>\n      <td>0.676652</td>\n      <td>0.462034</td>\n      <td>0.088083</td>\n      <td>0.489818</td>\n      <td>1.000000</td>\n    </tr>\n  </tbody>\n</table>\n<p>100 rows × 100 columns</p>\n</div>"
     },
     "execution_count": 205,
     "metadata": {},
     "output_type": "execute_result"
    }
   ],
   "source": [
    "% % time\n",
    "model1_cosine_similarity_matrix = get_similarity_matrix(model1_language_model_pipeline.word2vec.wv.vectors[:100],\n",
    "                                                        model1_language_model_pipeline.word2vec.wv.index_to_key[:100],\n",
    "                                                        metric=cosine_similarity)\n",
    "model1_cosine_similarity_matrix"
   ],
   "metadata": {
    "collapsed": false,
    "pycharm": {
     "name": "#%%\n"
    }
   }
  },
  {
   "cell_type": "code",
   "execution_count": 206,
   "outputs": [
    {
     "name": "stdout",
     "output_type": "stream",
     "text": [
      "CPU times: user 51.3 ms, sys: 23.2 ms, total: 74.5 ms\n",
      "Wall time: 55.2 ms\n"
     ]
    },
    {
     "data": {
      "text/plain": "                    of       the         )       and         ,        to  \\\nof            1.000000  0.919513  0.599951  0.947656  0.703472  0.754030   \nthe           0.919513  1.000000  0.504786  0.929189  0.738409  0.760984   \n)             0.599951  0.504786  1.000000  0.576147  0.500580  0.682235   \nand           0.947656  0.929189  0.576147  1.000000  0.848784  0.750749   \n,             0.703472  0.738409  0.500580  0.848784  1.000000  0.672268   \n...                ...       ...       ...       ...       ...       ...   \noj            0.551886  0.469839  0.715183  0.616469  0.769101  0.697582   \nat            0.641478  0.561699  0.697922  0.537099  0.371498  0.532715   \nmember        0.749925  0.775566  0.410403  0.847107  0.825501  0.762731   \napplication   0.809222  0.742509  0.696692  0.778572  0.573543  0.838497   \na_regulation  0.900898  0.918812  0.590283  0.893071  0.627526  0.649115   \n\n                    on       for      2020        in  ...  judgment  \\\nof            0.879130  0.778036  0.543840  0.627976  ...  0.367666   \nthe           0.865588  0.793284  0.429596  0.606087  ...  0.318793   \n)             0.520182  0.416882  0.808182  0.419381  ...  0.393941   \nand           0.863914  0.757040  0.475860  0.576558  ...  0.278156   \n,             0.664572  0.517347  0.326080  0.484948  ...  0.203655   \n...                ...       ...       ...       ...  ...       ...   \noj            0.346202  0.214295  0.395893  0.668675  ...  0.247026   \nat            0.623981  0.567016  0.699277  0.652535  ...  0.611162   \nmember        0.648013  0.649308  0.258216  0.718906  ...  0.339592   \napplication   0.588450  0.638420  0.497833  0.828093  ...  0.465299   \na_regulation  0.931147  0.846326  0.604253  0.427515  ...  0.333450   \n\n              the_committee  temporary  services       may        oj  \\\nof                 0.754848   0.667112  0.513746  0.777145  0.551886   \nthe                0.843267   0.586336  0.454899  0.675231  0.469839   \n)                  0.324376   0.710617  0.385144  0.828743  0.715183   \nand                0.873580   0.558939  0.433281  0.695693  0.616469   \n,                  0.877284   0.269392  0.351259  0.451189  0.769101   \n...                     ...        ...       ...       ...       ...   \noj                 0.477412   0.406026  0.574020  0.474577  1.000000   \nat                 0.355018   0.605535  0.765605  0.752855  0.540744   \nmember             0.854369   0.459639  0.551577  0.443153  0.662255   \napplication        0.549715   0.822030  0.681671  0.702459  0.703493   \na_regulation       0.765462   0.605581  0.354210  0.788614  0.348790   \n\n                    at    member  application  a_regulation  \nof            0.641478  0.749925     0.809222      0.900898  \nthe           0.561699  0.775566     0.742509      0.918812  \n)             0.697922  0.410403     0.696692      0.590283  \nand           0.537099  0.847107     0.778572      0.893071  \n,             0.371498  0.825501     0.573543      0.627526  \n...                ...       ...          ...           ...  \noj            0.540744  0.662255     0.703493      0.348790  \nat            1.000000  0.390920     0.663108      0.630288  \nmember        0.390920  1.000000     0.798837      0.618315  \napplication   0.663108  0.798837     1.000000      0.658290  \na_regulation  0.630288  0.618315     0.658290      1.000000  \n\n[100 rows x 100 columns]",
      "text/html": "<div>\n<style scoped>\n    .dataframe tbody tr th:only-of-type {\n        vertical-align: middle;\n    }\n\n    .dataframe tbody tr th {\n        vertical-align: top;\n    }\n\n    .dataframe thead th {\n        text-align: right;\n    }\n</style>\n<table border=\"1\" class=\"dataframe\">\n  <thead>\n    <tr style=\"text-align: right;\">\n      <th></th>\n      <th>of</th>\n      <th>the</th>\n      <th>)</th>\n      <th>and</th>\n      <th>,</th>\n      <th>to</th>\n      <th>on</th>\n      <th>for</th>\n      <th>2020</th>\n      <th>in</th>\n      <th>...</th>\n      <th>judgment</th>\n      <th>the_committee</th>\n      <th>temporary</th>\n      <th>services</th>\n      <th>may</th>\n      <th>oj</th>\n      <th>at</th>\n      <th>member</th>\n      <th>application</th>\n      <th>a_regulation</th>\n    </tr>\n  </thead>\n  <tbody>\n    <tr>\n      <th>of</th>\n      <td>1.000000</td>\n      <td>0.919513</td>\n      <td>0.599951</td>\n      <td>0.947656</td>\n      <td>0.703472</td>\n      <td>0.754030</td>\n      <td>0.879130</td>\n      <td>0.778036</td>\n      <td>0.543840</td>\n      <td>0.627976</td>\n      <td>...</td>\n      <td>0.367666</td>\n      <td>0.754848</td>\n      <td>0.667112</td>\n      <td>0.513746</td>\n      <td>0.777145</td>\n      <td>0.551886</td>\n      <td>0.641478</td>\n      <td>0.749925</td>\n      <td>0.809222</td>\n      <td>0.900898</td>\n    </tr>\n    <tr>\n      <th>the</th>\n      <td>0.919513</td>\n      <td>1.000000</td>\n      <td>0.504786</td>\n      <td>0.929189</td>\n      <td>0.738409</td>\n      <td>0.760984</td>\n      <td>0.865588</td>\n      <td>0.793284</td>\n      <td>0.429596</td>\n      <td>0.606087</td>\n      <td>...</td>\n      <td>0.318793</td>\n      <td>0.843267</td>\n      <td>0.586336</td>\n      <td>0.454899</td>\n      <td>0.675231</td>\n      <td>0.469839</td>\n      <td>0.561699</td>\n      <td>0.775566</td>\n      <td>0.742509</td>\n      <td>0.918812</td>\n    </tr>\n    <tr>\n      <th>)</th>\n      <td>0.599951</td>\n      <td>0.504786</td>\n      <td>1.000000</td>\n      <td>0.576147</td>\n      <td>0.500580</td>\n      <td>0.682235</td>\n      <td>0.520182</td>\n      <td>0.416882</td>\n      <td>0.808182</td>\n      <td>0.419381</td>\n      <td>...</td>\n      <td>0.393941</td>\n      <td>0.324376</td>\n      <td>0.710617</td>\n      <td>0.385144</td>\n      <td>0.828743</td>\n      <td>0.715183</td>\n      <td>0.697922</td>\n      <td>0.410403</td>\n      <td>0.696692</td>\n      <td>0.590283</td>\n    </tr>\n    <tr>\n      <th>and</th>\n      <td>0.947656</td>\n      <td>0.929189</td>\n      <td>0.576147</td>\n      <td>1.000000</td>\n      <td>0.848784</td>\n      <td>0.750749</td>\n      <td>0.863914</td>\n      <td>0.757040</td>\n      <td>0.475860</td>\n      <td>0.576558</td>\n      <td>...</td>\n      <td>0.278156</td>\n      <td>0.873580</td>\n      <td>0.558939</td>\n      <td>0.433281</td>\n      <td>0.695693</td>\n      <td>0.616469</td>\n      <td>0.537099</td>\n      <td>0.847107</td>\n      <td>0.778572</td>\n      <td>0.893071</td>\n    </tr>\n    <tr>\n      <th>,</th>\n      <td>0.703472</td>\n      <td>0.738409</td>\n      <td>0.500580</td>\n      <td>0.848784</td>\n      <td>1.000000</td>\n      <td>0.672268</td>\n      <td>0.664572</td>\n      <td>0.517347</td>\n      <td>0.326080</td>\n      <td>0.484948</td>\n      <td>...</td>\n      <td>0.203655</td>\n      <td>0.877284</td>\n      <td>0.269392</td>\n      <td>0.351259</td>\n      <td>0.451189</td>\n      <td>0.769101</td>\n      <td>0.371498</td>\n      <td>0.825501</td>\n      <td>0.573543</td>\n      <td>0.627526</td>\n    </tr>\n    <tr>\n      <th>...</th>\n      <td>...</td>\n      <td>...</td>\n      <td>...</td>\n      <td>...</td>\n      <td>...</td>\n      <td>...</td>\n      <td>...</td>\n      <td>...</td>\n      <td>...</td>\n      <td>...</td>\n      <td>...</td>\n      <td>...</td>\n      <td>...</td>\n      <td>...</td>\n      <td>...</td>\n      <td>...</td>\n      <td>...</td>\n      <td>...</td>\n      <td>...</td>\n      <td>...</td>\n      <td>...</td>\n    </tr>\n    <tr>\n      <th>oj</th>\n      <td>0.551886</td>\n      <td>0.469839</td>\n      <td>0.715183</td>\n      <td>0.616469</td>\n      <td>0.769101</td>\n      <td>0.697582</td>\n      <td>0.346202</td>\n      <td>0.214295</td>\n      <td>0.395893</td>\n      <td>0.668675</td>\n      <td>...</td>\n      <td>0.247026</td>\n      <td>0.477412</td>\n      <td>0.406026</td>\n      <td>0.574020</td>\n      <td>0.474577</td>\n      <td>1.000000</td>\n      <td>0.540744</td>\n      <td>0.662255</td>\n      <td>0.703493</td>\n      <td>0.348790</td>\n    </tr>\n    <tr>\n      <th>at</th>\n      <td>0.641478</td>\n      <td>0.561699</td>\n      <td>0.697922</td>\n      <td>0.537099</td>\n      <td>0.371498</td>\n      <td>0.532715</td>\n      <td>0.623981</td>\n      <td>0.567016</td>\n      <td>0.699277</td>\n      <td>0.652535</td>\n      <td>...</td>\n      <td>0.611162</td>\n      <td>0.355018</td>\n      <td>0.605535</td>\n      <td>0.765605</td>\n      <td>0.752855</td>\n      <td>0.540744</td>\n      <td>1.000000</td>\n      <td>0.390920</td>\n      <td>0.663108</td>\n      <td>0.630288</td>\n    </tr>\n    <tr>\n      <th>member</th>\n      <td>0.749925</td>\n      <td>0.775566</td>\n      <td>0.410403</td>\n      <td>0.847107</td>\n      <td>0.825501</td>\n      <td>0.762731</td>\n      <td>0.648013</td>\n      <td>0.649308</td>\n      <td>0.258216</td>\n      <td>0.718906</td>\n      <td>...</td>\n      <td>0.339592</td>\n      <td>0.854369</td>\n      <td>0.459639</td>\n      <td>0.551577</td>\n      <td>0.443153</td>\n      <td>0.662255</td>\n      <td>0.390920</td>\n      <td>1.000000</td>\n      <td>0.798837</td>\n      <td>0.618315</td>\n    </tr>\n    <tr>\n      <th>application</th>\n      <td>0.809222</td>\n      <td>0.742509</td>\n      <td>0.696692</td>\n      <td>0.778572</td>\n      <td>0.573543</td>\n      <td>0.838497</td>\n      <td>0.588450</td>\n      <td>0.638420</td>\n      <td>0.497833</td>\n      <td>0.828093</td>\n      <td>...</td>\n      <td>0.465299</td>\n      <td>0.549715</td>\n      <td>0.822030</td>\n      <td>0.681671</td>\n      <td>0.702459</td>\n      <td>0.703493</td>\n      <td>0.663108</td>\n      <td>0.798837</td>\n      <td>1.000000</td>\n      <td>0.658290</td>\n    </tr>\n    <tr>\n      <th>a_regulation</th>\n      <td>0.900898</td>\n      <td>0.918812</td>\n      <td>0.590283</td>\n      <td>0.893071</td>\n      <td>0.627526</td>\n      <td>0.649115</td>\n      <td>0.931147</td>\n      <td>0.846326</td>\n      <td>0.604253</td>\n      <td>0.427515</td>\n      <td>...</td>\n      <td>0.333450</td>\n      <td>0.765462</td>\n      <td>0.605581</td>\n      <td>0.354210</td>\n      <td>0.788614</td>\n      <td>0.348790</td>\n      <td>0.630288</td>\n      <td>0.618315</td>\n      <td>0.658290</td>\n      <td>1.000000</td>\n    </tr>\n  </tbody>\n</table>\n<p>100 rows × 100 columns</p>\n</div>"
     },
     "execution_count": 206,
     "metadata": {},
     "output_type": "execute_result"
    }
   ],
   "source": [
    "% % time\n",
    "model2_cosine_similarity_matrix = get_similarity_matrix(model2_language_model_pipeline.word2vec.wv.vectors[:100],\n",
    "                                                        model2_language_model_pipeline.word2vec.wv.index_to_key[:100],\n",
    "                                                        metric=cosine_similarity)\n",
    "model2_cosine_similarity_matrix"
   ],
   "metadata": {
    "collapsed": false,
    "pycharm": {
     "name": "#%%\n"
    }
   }
  },
  {
   "cell_type": "code",
   "execution_count": 207,
   "outputs": [
    {
     "name": "stdout",
     "output_type": "stream",
     "text": [
      "CPU times: user 73.6 ms, sys: 34.9 ms, total: 109 ms\n",
      "Wall time: 74.6 ms\n"
     ]
    },
    {
     "data": {
      "text/plain": "                   of       the         ,        to         .       and  \\\nof           1.000000  0.517598  0.330156  0.302161  0.426483  0.348656   \nthe          0.517598  1.000000  0.326707  0.296850  0.458242  0.396159   \n,            0.330156  0.326707  1.000000  0.219896  0.607234  0.495254   \nto           0.302161  0.296850  0.219896  1.000000  0.366213  0.278209   \n.            0.426483  0.458242  0.607234  0.366213  1.000000  0.312992   \n...               ...       ...       ...       ...       ...       ...   \ninformation  0.287085  0.407991  0.175510  0.430032  0.422854  0.235607   \npeople       0.193272  0.361683  0.245701  0.364392  0.252052  0.347947   \naccording    0.377668  0.322334  0.227950 -0.103651  0.216300  0.236613   \nthere        0.246194  0.354310  0.311282  0.336105  0.542839  0.184449   \nscheme       0.361347  0.587098  0.275004  0.469706  0.625798  0.339998   \n\n                   in       for         )        on  ...       new       per  \\\nof           0.409377  0.313940  0.090198  0.354965  ...  0.383957  0.100236   \nthe          0.451126  0.411143  0.000630  0.318740  ...  0.662958  0.246877   \n,            0.401418  0.286840  0.187506  0.317036  ...  0.243960  0.110493   \nto           0.269335  0.331793 -0.156538  0.160757  ...  0.484082  0.045044   \n.            0.444363  0.295865 -0.003394  0.309425  ...  0.387245  0.139221   \n...               ...       ...       ...       ...  ...       ...       ...   \ninformation  0.118302  0.260486  0.209223  0.237399  ...  0.496221  0.079832   \npeople       0.381185  0.326475  0.051318 -0.054393  ...  0.458824  0.266294   \naccording    0.155723  0.200275  0.379470  0.404213  ...  0.210954  0.171828   \nthere        0.276893  0.163174  0.172747  0.177331  ...  0.336672  0.312214   \nscheme       0.359385  0.600720  0.105087  0.305951  ...  0.698525  0.282683   \n\n                april  economic     until  information    people  according  \\\nof           0.315880  0.399175  0.216132     0.287085  0.193272   0.377668   \nthe          0.283937  0.553101  0.204336     0.407991  0.361683   0.322334   \n,            0.359560  0.380066  0.251757     0.175510  0.245701   0.227950   \nto           0.096797  0.262009  0.330030     0.430032  0.364392  -0.103651   \n.            0.333483  0.329776  0.349633     0.422854  0.252052   0.216300   \n...               ...       ...       ...          ...       ...        ...   \ninformation  0.212209  0.267638  0.206856     1.000000  0.390421   0.431502   \npeople       0.102676  0.380082 -0.049131     0.390421  1.000000   0.036101   \naccording    0.470905  0.224708  0.325264     0.431502  0.036101   1.000000   \nthere        0.258954  0.170003  0.310966     0.699569  0.381874   0.253560   \nscheme       0.331913  0.406822  0.373711     0.495537  0.490050   0.279595   \n\n                there    scheme  \nof           0.246194  0.361347  \nthe          0.354310  0.587098  \n,            0.311282  0.275004  \nto           0.336105  0.469706  \n.            0.542839  0.625798  \n...               ...       ...  \ninformation  0.699569  0.495537  \npeople       0.381874  0.490050  \naccording    0.253560  0.279595  \nthere        1.000000  0.513993  \nscheme       0.513993  1.000000  \n\n[100 rows x 100 columns]",
      "text/html": "<div>\n<style scoped>\n    .dataframe tbody tr th:only-of-type {\n        vertical-align: middle;\n    }\n\n    .dataframe tbody tr th {\n        vertical-align: top;\n    }\n\n    .dataframe thead th {\n        text-align: right;\n    }\n</style>\n<table border=\"1\" class=\"dataframe\">\n  <thead>\n    <tr style=\"text-align: right;\">\n      <th></th>\n      <th>of</th>\n      <th>the</th>\n      <th>,</th>\n      <th>to</th>\n      <th>.</th>\n      <th>and</th>\n      <th>in</th>\n      <th>for</th>\n      <th>)</th>\n      <th>on</th>\n      <th>...</th>\n      <th>new</th>\n      <th>per</th>\n      <th>april</th>\n      <th>economic</th>\n      <th>until</th>\n      <th>information</th>\n      <th>people</th>\n      <th>according</th>\n      <th>there</th>\n      <th>scheme</th>\n    </tr>\n  </thead>\n  <tbody>\n    <tr>\n      <th>of</th>\n      <td>1.000000</td>\n      <td>0.517598</td>\n      <td>0.330156</td>\n      <td>0.302161</td>\n      <td>0.426483</td>\n      <td>0.348656</td>\n      <td>0.409377</td>\n      <td>0.313940</td>\n      <td>0.090198</td>\n      <td>0.354965</td>\n      <td>...</td>\n      <td>0.383957</td>\n      <td>0.100236</td>\n      <td>0.315880</td>\n      <td>0.399175</td>\n      <td>0.216132</td>\n      <td>0.287085</td>\n      <td>0.193272</td>\n      <td>0.377668</td>\n      <td>0.246194</td>\n      <td>0.361347</td>\n    </tr>\n    <tr>\n      <th>the</th>\n      <td>0.517598</td>\n      <td>1.000000</td>\n      <td>0.326707</td>\n      <td>0.296850</td>\n      <td>0.458242</td>\n      <td>0.396159</td>\n      <td>0.451126</td>\n      <td>0.411143</td>\n      <td>0.000630</td>\n      <td>0.318740</td>\n      <td>...</td>\n      <td>0.662958</td>\n      <td>0.246877</td>\n      <td>0.283937</td>\n      <td>0.553101</td>\n      <td>0.204336</td>\n      <td>0.407991</td>\n      <td>0.361683</td>\n      <td>0.322334</td>\n      <td>0.354310</td>\n      <td>0.587098</td>\n    </tr>\n    <tr>\n      <th>,</th>\n      <td>0.330156</td>\n      <td>0.326707</td>\n      <td>1.000000</td>\n      <td>0.219896</td>\n      <td>0.607234</td>\n      <td>0.495254</td>\n      <td>0.401418</td>\n      <td>0.286840</td>\n      <td>0.187506</td>\n      <td>0.317036</td>\n      <td>...</td>\n      <td>0.243960</td>\n      <td>0.110493</td>\n      <td>0.359560</td>\n      <td>0.380066</td>\n      <td>0.251757</td>\n      <td>0.175510</td>\n      <td>0.245701</td>\n      <td>0.227950</td>\n      <td>0.311282</td>\n      <td>0.275004</td>\n    </tr>\n    <tr>\n      <th>to</th>\n      <td>0.302161</td>\n      <td>0.296850</td>\n      <td>0.219896</td>\n      <td>1.000000</td>\n      <td>0.366213</td>\n      <td>0.278209</td>\n      <td>0.269335</td>\n      <td>0.331793</td>\n      <td>-0.156538</td>\n      <td>0.160757</td>\n      <td>...</td>\n      <td>0.484082</td>\n      <td>0.045044</td>\n      <td>0.096797</td>\n      <td>0.262009</td>\n      <td>0.330030</td>\n      <td>0.430032</td>\n      <td>0.364392</td>\n      <td>-0.103651</td>\n      <td>0.336105</td>\n      <td>0.469706</td>\n    </tr>\n    <tr>\n      <th>.</th>\n      <td>0.426483</td>\n      <td>0.458242</td>\n      <td>0.607234</td>\n      <td>0.366213</td>\n      <td>1.000000</td>\n      <td>0.312992</td>\n      <td>0.444363</td>\n      <td>0.295865</td>\n      <td>-0.003394</td>\n      <td>0.309425</td>\n      <td>...</td>\n      <td>0.387245</td>\n      <td>0.139221</td>\n      <td>0.333483</td>\n      <td>0.329776</td>\n      <td>0.349633</td>\n      <td>0.422854</td>\n      <td>0.252052</td>\n      <td>0.216300</td>\n      <td>0.542839</td>\n      <td>0.625798</td>\n    </tr>\n    <tr>\n      <th>...</th>\n      <td>...</td>\n      <td>...</td>\n      <td>...</td>\n      <td>...</td>\n      <td>...</td>\n      <td>...</td>\n      <td>...</td>\n      <td>...</td>\n      <td>...</td>\n      <td>...</td>\n      <td>...</td>\n      <td>...</td>\n      <td>...</td>\n      <td>...</td>\n      <td>...</td>\n      <td>...</td>\n      <td>...</td>\n      <td>...</td>\n      <td>...</td>\n      <td>...</td>\n      <td>...</td>\n    </tr>\n    <tr>\n      <th>information</th>\n      <td>0.287085</td>\n      <td>0.407991</td>\n      <td>0.175510</td>\n      <td>0.430032</td>\n      <td>0.422854</td>\n      <td>0.235607</td>\n      <td>0.118302</td>\n      <td>0.260486</td>\n      <td>0.209223</td>\n      <td>0.237399</td>\n      <td>...</td>\n      <td>0.496221</td>\n      <td>0.079832</td>\n      <td>0.212209</td>\n      <td>0.267638</td>\n      <td>0.206856</td>\n      <td>1.000000</td>\n      <td>0.390421</td>\n      <td>0.431502</td>\n      <td>0.699569</td>\n      <td>0.495537</td>\n    </tr>\n    <tr>\n      <th>people</th>\n      <td>0.193272</td>\n      <td>0.361683</td>\n      <td>0.245701</td>\n      <td>0.364392</td>\n      <td>0.252052</td>\n      <td>0.347947</td>\n      <td>0.381185</td>\n      <td>0.326475</td>\n      <td>0.051318</td>\n      <td>-0.054393</td>\n      <td>...</td>\n      <td>0.458824</td>\n      <td>0.266294</td>\n      <td>0.102676</td>\n      <td>0.380082</td>\n      <td>-0.049131</td>\n      <td>0.390421</td>\n      <td>1.000000</td>\n      <td>0.036101</td>\n      <td>0.381874</td>\n      <td>0.490050</td>\n    </tr>\n    <tr>\n      <th>according</th>\n      <td>0.377668</td>\n      <td>0.322334</td>\n      <td>0.227950</td>\n      <td>-0.103651</td>\n      <td>0.216300</td>\n      <td>0.236613</td>\n      <td>0.155723</td>\n      <td>0.200275</td>\n      <td>0.379470</td>\n      <td>0.404213</td>\n      <td>...</td>\n      <td>0.210954</td>\n      <td>0.171828</td>\n      <td>0.470905</td>\n      <td>0.224708</td>\n      <td>0.325264</td>\n      <td>0.431502</td>\n      <td>0.036101</td>\n      <td>1.000000</td>\n      <td>0.253560</td>\n      <td>0.279595</td>\n    </tr>\n    <tr>\n      <th>there</th>\n      <td>0.246194</td>\n      <td>0.354310</td>\n      <td>0.311282</td>\n      <td>0.336105</td>\n      <td>0.542839</td>\n      <td>0.184449</td>\n      <td>0.276893</td>\n      <td>0.163174</td>\n      <td>0.172747</td>\n      <td>0.177331</td>\n      <td>...</td>\n      <td>0.336672</td>\n      <td>0.312214</td>\n      <td>0.258954</td>\n      <td>0.170003</td>\n      <td>0.310966</td>\n      <td>0.699569</td>\n      <td>0.381874</td>\n      <td>0.253560</td>\n      <td>1.000000</td>\n      <td>0.513993</td>\n    </tr>\n    <tr>\n      <th>scheme</th>\n      <td>0.361347</td>\n      <td>0.587098</td>\n      <td>0.275004</td>\n      <td>0.469706</td>\n      <td>0.625798</td>\n      <td>0.339998</td>\n      <td>0.359385</td>\n      <td>0.600720</td>\n      <td>0.105087</td>\n      <td>0.305951</td>\n      <td>...</td>\n      <td>0.698525</td>\n      <td>0.282683</td>\n      <td>0.331913</td>\n      <td>0.406822</td>\n      <td>0.373711</td>\n      <td>0.495537</td>\n      <td>0.490050</td>\n      <td>0.279595</td>\n      <td>0.513993</td>\n      <td>1.000000</td>\n    </tr>\n  </tbody>\n</table>\n<p>100 rows × 100 columns</p>\n</div>"
     },
     "execution_count": 207,
     "metadata": {},
     "output_type": "execute_result"
    }
   ],
   "source": [
    "% % time\n",
    "model3_cosine_similarity_matrix = get_similarity_matrix(model3_language_model_pipeline.word2vec.wv.vectors[:100],\n",
    "                                                        model3_language_model_pipeline.word2vec.wv.index_to_key[:100],\n",
    "                                                        metric=cosine_similarity)\n",
    "model3_cosine_similarity_matrix"
   ],
   "metadata": {
    "collapsed": false,
    "pycharm": {
     "name": "#%%\n"
    }
   }
  },
  {
   "cell_type": "markdown",
   "source": [
    "### Manhattan similarity"
   ],
   "metadata": {
    "collapsed": false
   }
  },
  {
   "cell_type": "code",
   "execution_count": 208,
   "outputs": [
    {
     "name": "stdout",
     "output_type": "stream",
     "text": [
      "CPU times: user 691 ms, sys: 186 µs, total: 691 ms\n",
      "Wall time: 691 ms\n"
     ]
    },
    {
     "data": {
      "text/plain": "                        of         the           ,           .          to  \\\nof                0.000000  145.369372  159.197990  153.799884  205.489596   \nthe             145.369372    0.000000  154.234455  151.507895  208.558334   \n,               159.197990  154.234455    0.000000  105.035562  198.582626   \n.               153.799884  151.507895  105.035562    0.000000  186.412743   \nto              205.489596  208.558334  198.582626  186.412743    0.000000   \n...                    ...         ...         ...         ...         ...   \nother           173.012636  149.318016  127.072927  143.772465  194.467070   \nout             196.646430  165.767461  180.919378  174.968635  185.073991   \nthe_government  183.850634  171.268693  170.439717  156.271512  204.048415   \npublic          160.280528  136.893949  122.603375  142.598751  196.951975   \nthose           196.657442  176.001873  153.169418  172.505993  207.870662   \n\n                       and          in         for          is           )  \\\nof              180.221155  170.619345  153.312335  209.868486  162.155396   \nthe             157.695645  174.285012  148.547166  206.031205  173.245253   \n,               122.140271  148.227426  138.849030  214.472796  120.618330   \n.               152.516982  161.417585  133.394009  199.399851  143.121142   \nto              186.663549  202.925813  174.547577  240.792944  232.134947   \n...                    ...         ...         ...         ...         ...   \nother           123.677089  161.581968  131.087650  196.751425  145.768623   \nout             177.277388  198.547585  154.797194  177.887159  181.469869   \nthe_government  193.422494  193.061514  188.655028  205.772433  182.541829   \npublic          107.767737  169.583133  133.615236  201.552575  149.290765   \nthose           154.759411  187.191054  153.578912  210.181253  168.866278   \n\n                ...      amount       april       state       after  \\\nof              ...  173.265481  190.520292  132.260149  158.967458   \nthe             ...  180.115426  185.738403  119.343301  164.266800   \n,               ...  182.324265  147.342578  143.357648  144.723739   \n.               ...  164.703663  158.739652  145.855554  145.500051   \nto              ...  210.823961  224.236225  187.951252  182.545917   \n...             ...         ...         ...         ...         ...   \nother           ...  190.805325  199.656589  158.191686  181.718167   \nout             ...  154.787050  223.317686  164.209209  160.088561   \nthe_government  ...  215.476374  165.048528  134.778007  168.986302   \npublic          ...  193.274198  180.794837  126.979774  179.141923   \nthose           ...  183.507198  195.380145  175.421397  182.322935   \n\n                      must       other         out  the_government  \\\nof              217.050198  173.012636  196.646430      183.850634   \nthe             207.974005  149.318016  165.767461      171.268693   \n,               199.120345  127.072927  180.919378      170.439717   \n.               202.655125  143.772465  174.968635      156.271512   \nto              193.171520  194.467070  185.073991      204.048415   \n...                    ...         ...         ...             ...   \nother           181.892070    0.000000  149.831473      193.605824   \nout             152.795725  149.831473    0.000000      190.602221   \nthe_government  244.305762  193.605824  190.602221        0.000000   \npublic          198.571576   88.653901  174.717488      169.732871   \nthose           185.618700  113.858503  151.556903      208.012606   \n\n                    public       those  \nof              160.280528  196.657442  \nthe             136.893949  176.001873  \n,               122.603375  153.169418  \n.               142.598751  172.505993  \nto              196.951975  207.870662  \n...                    ...         ...  \nother            88.653901  113.858503  \nout             174.717488  151.556903  \nthe_government  169.732871  208.012606  \npublic            0.000000  142.536946  \nthose           142.536946    0.000000  \n\n[100 rows x 100 columns]",
      "text/html": "<div>\n<style scoped>\n    .dataframe tbody tr th:only-of-type {\n        vertical-align: middle;\n    }\n\n    .dataframe tbody tr th {\n        vertical-align: top;\n    }\n\n    .dataframe thead th {\n        text-align: right;\n    }\n</style>\n<table border=\"1\" class=\"dataframe\">\n  <thead>\n    <tr style=\"text-align: right;\">\n      <th></th>\n      <th>of</th>\n      <th>the</th>\n      <th>,</th>\n      <th>.</th>\n      <th>to</th>\n      <th>and</th>\n      <th>in</th>\n      <th>for</th>\n      <th>is</th>\n      <th>)</th>\n      <th>...</th>\n      <th>amount</th>\n      <th>april</th>\n      <th>state</th>\n      <th>after</th>\n      <th>must</th>\n      <th>other</th>\n      <th>out</th>\n      <th>the_government</th>\n      <th>public</th>\n      <th>those</th>\n    </tr>\n  </thead>\n  <tbody>\n    <tr>\n      <th>of</th>\n      <td>0.000000</td>\n      <td>145.369372</td>\n      <td>159.197990</td>\n      <td>153.799884</td>\n      <td>205.489596</td>\n      <td>180.221155</td>\n      <td>170.619345</td>\n      <td>153.312335</td>\n      <td>209.868486</td>\n      <td>162.155396</td>\n      <td>...</td>\n      <td>173.265481</td>\n      <td>190.520292</td>\n      <td>132.260149</td>\n      <td>158.967458</td>\n      <td>217.050198</td>\n      <td>173.012636</td>\n      <td>196.646430</td>\n      <td>183.850634</td>\n      <td>160.280528</td>\n      <td>196.657442</td>\n    </tr>\n    <tr>\n      <th>the</th>\n      <td>145.369372</td>\n      <td>0.000000</td>\n      <td>154.234455</td>\n      <td>151.507895</td>\n      <td>208.558334</td>\n      <td>157.695645</td>\n      <td>174.285012</td>\n      <td>148.547166</td>\n      <td>206.031205</td>\n      <td>173.245253</td>\n      <td>...</td>\n      <td>180.115426</td>\n      <td>185.738403</td>\n      <td>119.343301</td>\n      <td>164.266800</td>\n      <td>207.974005</td>\n      <td>149.318016</td>\n      <td>165.767461</td>\n      <td>171.268693</td>\n      <td>136.893949</td>\n      <td>176.001873</td>\n    </tr>\n    <tr>\n      <th>,</th>\n      <td>159.197990</td>\n      <td>154.234455</td>\n      <td>0.000000</td>\n      <td>105.035562</td>\n      <td>198.582626</td>\n      <td>122.140271</td>\n      <td>148.227426</td>\n      <td>138.849030</td>\n      <td>214.472796</td>\n      <td>120.618330</td>\n      <td>...</td>\n      <td>182.324265</td>\n      <td>147.342578</td>\n      <td>143.357648</td>\n      <td>144.723739</td>\n      <td>199.120345</td>\n      <td>127.072927</td>\n      <td>180.919378</td>\n      <td>170.439717</td>\n      <td>122.603375</td>\n      <td>153.169418</td>\n    </tr>\n    <tr>\n      <th>.</th>\n      <td>153.799884</td>\n      <td>151.507895</td>\n      <td>105.035562</td>\n      <td>0.000000</td>\n      <td>186.412743</td>\n      <td>152.516982</td>\n      <td>161.417585</td>\n      <td>133.394009</td>\n      <td>199.399851</td>\n      <td>143.121142</td>\n      <td>...</td>\n      <td>164.703663</td>\n      <td>158.739652</td>\n      <td>145.855554</td>\n      <td>145.500051</td>\n      <td>202.655125</td>\n      <td>143.772465</td>\n      <td>174.968635</td>\n      <td>156.271512</td>\n      <td>142.598751</td>\n      <td>172.505993</td>\n    </tr>\n    <tr>\n      <th>to</th>\n      <td>205.489596</td>\n      <td>208.558334</td>\n      <td>198.582626</td>\n      <td>186.412743</td>\n      <td>0.000000</td>\n      <td>186.663549</td>\n      <td>202.925813</td>\n      <td>174.547577</td>\n      <td>240.792944</td>\n      <td>232.134947</td>\n      <td>...</td>\n      <td>210.823961</td>\n      <td>224.236225</td>\n      <td>187.951252</td>\n      <td>182.545917</td>\n      <td>193.171520</td>\n      <td>194.467070</td>\n      <td>185.073991</td>\n      <td>204.048415</td>\n      <td>196.951975</td>\n      <td>207.870662</td>\n    </tr>\n    <tr>\n      <th>...</th>\n      <td>...</td>\n      <td>...</td>\n      <td>...</td>\n      <td>...</td>\n      <td>...</td>\n      <td>...</td>\n      <td>...</td>\n      <td>...</td>\n      <td>...</td>\n      <td>...</td>\n      <td>...</td>\n      <td>...</td>\n      <td>...</td>\n      <td>...</td>\n      <td>...</td>\n      <td>...</td>\n      <td>...</td>\n      <td>...</td>\n      <td>...</td>\n      <td>...</td>\n      <td>...</td>\n    </tr>\n    <tr>\n      <th>other</th>\n      <td>173.012636</td>\n      <td>149.318016</td>\n      <td>127.072927</td>\n      <td>143.772465</td>\n      <td>194.467070</td>\n      <td>123.677089</td>\n      <td>161.581968</td>\n      <td>131.087650</td>\n      <td>196.751425</td>\n      <td>145.768623</td>\n      <td>...</td>\n      <td>190.805325</td>\n      <td>199.656589</td>\n      <td>158.191686</td>\n      <td>181.718167</td>\n      <td>181.892070</td>\n      <td>0.000000</td>\n      <td>149.831473</td>\n      <td>193.605824</td>\n      <td>88.653901</td>\n      <td>113.858503</td>\n    </tr>\n    <tr>\n      <th>out</th>\n      <td>196.646430</td>\n      <td>165.767461</td>\n      <td>180.919378</td>\n      <td>174.968635</td>\n      <td>185.073991</td>\n      <td>177.277388</td>\n      <td>198.547585</td>\n      <td>154.797194</td>\n      <td>177.887159</td>\n      <td>181.469869</td>\n      <td>...</td>\n      <td>154.787050</td>\n      <td>223.317686</td>\n      <td>164.209209</td>\n      <td>160.088561</td>\n      <td>152.795725</td>\n      <td>149.831473</td>\n      <td>0.000000</td>\n      <td>190.602221</td>\n      <td>174.717488</td>\n      <td>151.556903</td>\n    </tr>\n    <tr>\n      <th>the_government</th>\n      <td>183.850634</td>\n      <td>171.268693</td>\n      <td>170.439717</td>\n      <td>156.271512</td>\n      <td>204.048415</td>\n      <td>193.422494</td>\n      <td>193.061514</td>\n      <td>188.655028</td>\n      <td>205.772433</td>\n      <td>182.541829</td>\n      <td>...</td>\n      <td>215.476374</td>\n      <td>165.048528</td>\n      <td>134.778007</td>\n      <td>168.986302</td>\n      <td>244.305762</td>\n      <td>193.605824</td>\n      <td>190.602221</td>\n      <td>0.000000</td>\n      <td>169.732871</td>\n      <td>208.012606</td>\n    </tr>\n    <tr>\n      <th>public</th>\n      <td>160.280528</td>\n      <td>136.893949</td>\n      <td>122.603375</td>\n      <td>142.598751</td>\n      <td>196.951975</td>\n      <td>107.767737</td>\n      <td>169.583133</td>\n      <td>133.615236</td>\n      <td>201.552575</td>\n      <td>149.290765</td>\n      <td>...</td>\n      <td>193.274198</td>\n      <td>180.794837</td>\n      <td>126.979774</td>\n      <td>179.141923</td>\n      <td>198.571576</td>\n      <td>88.653901</td>\n      <td>174.717488</td>\n      <td>169.732871</td>\n      <td>0.000000</td>\n      <td>142.536946</td>\n    </tr>\n    <tr>\n      <th>those</th>\n      <td>196.657442</td>\n      <td>176.001873</td>\n      <td>153.169418</td>\n      <td>172.505993</td>\n      <td>207.870662</td>\n      <td>154.759411</td>\n      <td>187.191054</td>\n      <td>153.578912</td>\n      <td>210.181253</td>\n      <td>168.866278</td>\n      <td>...</td>\n      <td>183.507198</td>\n      <td>195.380145</td>\n      <td>175.421397</td>\n      <td>182.322935</td>\n      <td>185.618700</td>\n      <td>113.858503</td>\n      <td>151.556903</td>\n      <td>208.012606</td>\n      <td>142.536946</td>\n      <td>0.000000</td>\n    </tr>\n  </tbody>\n</table>\n<p>100 rows × 100 columns</p>\n</div>"
     },
     "execution_count": 208,
     "metadata": {},
     "output_type": "execute_result"
    }
   ],
   "source": [
    "% % time\n",
    "model1_manhattan_similarity_matrix = get_similarity_matrix(model1_language_model_pipeline.word2vec.wv.vectors[:100],\n",
    "                                                           model1_language_model_pipeline.word2vec.wv.index_to_key[\n",
    "                                                           :100],\n",
    "                                                           metric=manhattan_similarity)\n",
    "model1_manhattan_similarity_matrix"
   ],
   "metadata": {
    "collapsed": false,
    "pycharm": {
     "name": "#%%\n"
    }
   }
  },
  {
   "cell_type": "code",
   "execution_count": 209,
   "outputs": [
    {
     "name": "stdout",
     "output_type": "stream",
     "text": [
      "CPU times: user 714 ms, sys: 152 µs, total: 714 ms\n",
      "Wall time: 717 ms\n"
     ]
    },
    {
     "data": {
      "text/plain": "                      of         the           )         and           ,  \\\nof              0.000000   47.033814  103.939742   41.752598  115.215567   \nthe            47.033814    0.000000  118.109820   48.919024  107.911160   \n)             103.939742  118.109820    0.000000  113.943757  144.961882   \nand            41.752598   48.919024  113.943757    0.000000   85.603622   \n,             115.215567  107.911160  144.961882   85.603622    0.000000   \n...                  ...         ...         ...         ...         ...   \noj            106.628526  119.349249   90.433858  106.391112  103.060972   \nat             96.005975  109.385429   89.616167  118.489032  161.298786   \nmember         73.991302   74.533902  117.802423   70.073066  100.394844   \napplication    66.471987   80.409231   86.957206   84.881140  134.652314   \na_regulation   47.899310   49.206085   98.005800   63.105265  123.790311   \n\n                      to          on         for        2020          in  ...  \\\nof             80.018915   56.957281   74.920617  107.098622  103.272615  ...   \nthe            80.652985   58.748873   74.208689  124.468053  109.073375  ...   \n)              92.792297  116.553402  126.357711   70.219700  134.773614  ...   \nand            87.564653   64.931530   85.110376  126.251811  119.168383  ...   \n,             121.211430  119.749582  141.621779  164.284780  152.114901  ...   \n...                  ...         ...         ...         ...         ...  ...   \noj             91.889934  131.282239  144.065670  124.653913  103.671737  ...   \nat            107.028574  100.047617  107.236744   86.842750   99.755303  ...   \nmember         74.802941   87.686406   87.926640  127.812967   88.566041  ...   \napplication    64.622738   95.095851   89.352531  100.293466   76.134246  ...   \na_regulation   90.135432   44.130890   60.830020   92.085882  119.218707  ...   \n\n                judgment  the_committee   temporary    services         may  \\\nof            128.293196      77.626736   84.889767  114.290090   70.788667   \nthe           137.277638      65.159541   99.056491  124.388006   87.159212   \n)             130.753140     132.740608   83.455189  128.176174   69.809189   \nand           147.200923      63.088790  109.336624  133.516103   93.131910   \n,             178.732966      84.274119  161.011730  165.422281  144.024696   \n...                  ...            ...         ...         ...         ...   \noj            143.293537     117.033040  117.200866  109.764232  106.184543   \nat             99.568964     122.740584   90.951003   78.600586   72.484234   \nmember        120.024861      56.793081   97.731697  101.865186   93.152291   \napplication   104.037607      92.137900   52.633148   83.735008   59.605382   \na_regulation  123.711060      71.602677   83.150213  120.984793   58.228450   \n\n                      oj          at      member  application  a_regulation  \nof            106.628526   96.005975   73.991302    66.471987     47.899310  \nthe           119.349249  109.385429   74.533902    80.409231     49.206085  \n)              90.433858   89.616167  117.802423    86.957206     98.005800  \nand           106.391112  118.489032   70.073066    84.881140     63.105265  \n,             103.060972  161.298786  100.394844   134.652314    123.790311  \n...                  ...         ...         ...          ...           ...  \noj              0.000000  109.940389   91.035777    85.595174    120.433399  \nat            109.940389    0.000000  114.050703    82.303525     89.410475  \nmember         91.035777  114.050703    0.000000    57.445736     80.679704  \napplication    85.595174   82.303525   57.445736     0.000000     72.817250  \na_regulation  120.433399   89.410475   80.679704    72.817250      0.000000  \n\n[100 rows x 100 columns]",
      "text/html": "<div>\n<style scoped>\n    .dataframe tbody tr th:only-of-type {\n        vertical-align: middle;\n    }\n\n    .dataframe tbody tr th {\n        vertical-align: top;\n    }\n\n    .dataframe thead th {\n        text-align: right;\n    }\n</style>\n<table border=\"1\" class=\"dataframe\">\n  <thead>\n    <tr style=\"text-align: right;\">\n      <th></th>\n      <th>of</th>\n      <th>the</th>\n      <th>)</th>\n      <th>and</th>\n      <th>,</th>\n      <th>to</th>\n      <th>on</th>\n      <th>for</th>\n      <th>2020</th>\n      <th>in</th>\n      <th>...</th>\n      <th>judgment</th>\n      <th>the_committee</th>\n      <th>temporary</th>\n      <th>services</th>\n      <th>may</th>\n      <th>oj</th>\n      <th>at</th>\n      <th>member</th>\n      <th>application</th>\n      <th>a_regulation</th>\n    </tr>\n  </thead>\n  <tbody>\n    <tr>\n      <th>of</th>\n      <td>0.000000</td>\n      <td>47.033814</td>\n      <td>103.939742</td>\n      <td>41.752598</td>\n      <td>115.215567</td>\n      <td>80.018915</td>\n      <td>56.957281</td>\n      <td>74.920617</td>\n      <td>107.098622</td>\n      <td>103.272615</td>\n      <td>...</td>\n      <td>128.293196</td>\n      <td>77.626736</td>\n      <td>84.889767</td>\n      <td>114.290090</td>\n      <td>70.788667</td>\n      <td>106.628526</td>\n      <td>96.005975</td>\n      <td>73.991302</td>\n      <td>66.471987</td>\n      <td>47.899310</td>\n    </tr>\n    <tr>\n      <th>the</th>\n      <td>47.033814</td>\n      <td>0.000000</td>\n      <td>118.109820</td>\n      <td>48.919024</td>\n      <td>107.911160</td>\n      <td>80.652985</td>\n      <td>58.748873</td>\n      <td>74.208689</td>\n      <td>124.468053</td>\n      <td>109.073375</td>\n      <td>...</td>\n      <td>137.277638</td>\n      <td>65.159541</td>\n      <td>99.056491</td>\n      <td>124.388006</td>\n      <td>87.159212</td>\n      <td>119.349249</td>\n      <td>109.385429</td>\n      <td>74.533902</td>\n      <td>80.409231</td>\n      <td>49.206085</td>\n    </tr>\n    <tr>\n      <th>)</th>\n      <td>103.939742</td>\n      <td>118.109820</td>\n      <td>0.000000</td>\n      <td>113.943757</td>\n      <td>144.961882</td>\n      <td>92.792297</td>\n      <td>116.553402</td>\n      <td>126.357711</td>\n      <td>70.219700</td>\n      <td>134.773614</td>\n      <td>...</td>\n      <td>130.753140</td>\n      <td>132.740608</td>\n      <td>83.455189</td>\n      <td>128.176174</td>\n      <td>69.809189</td>\n      <td>90.433858</td>\n      <td>89.616167</td>\n      <td>117.802423</td>\n      <td>86.957206</td>\n      <td>98.005800</td>\n    </tr>\n    <tr>\n      <th>and</th>\n      <td>41.752598</td>\n      <td>48.919024</td>\n      <td>113.943757</td>\n      <td>0.000000</td>\n      <td>85.603622</td>\n      <td>87.564653</td>\n      <td>64.931530</td>\n      <td>85.110376</td>\n      <td>126.251811</td>\n      <td>119.168383</td>\n      <td>...</td>\n      <td>147.200923</td>\n      <td>63.088790</td>\n      <td>109.336624</td>\n      <td>133.516103</td>\n      <td>93.131910</td>\n      <td>106.391112</td>\n      <td>118.489032</td>\n      <td>70.073066</td>\n      <td>84.881140</td>\n      <td>63.105265</td>\n    </tr>\n    <tr>\n      <th>,</th>\n      <td>115.215567</td>\n      <td>107.911160</td>\n      <td>144.961882</td>\n      <td>85.603622</td>\n      <td>0.000000</td>\n      <td>121.211430</td>\n      <td>119.749582</td>\n      <td>141.621779</td>\n      <td>164.284780</td>\n      <td>152.114901</td>\n      <td>...</td>\n      <td>178.732966</td>\n      <td>84.274119</td>\n      <td>161.011730</td>\n      <td>165.422281</td>\n      <td>144.024696</td>\n      <td>103.060972</td>\n      <td>161.298786</td>\n      <td>100.394844</td>\n      <td>134.652314</td>\n      <td>123.790311</td>\n    </tr>\n    <tr>\n      <th>...</th>\n      <td>...</td>\n      <td>...</td>\n      <td>...</td>\n      <td>...</td>\n      <td>...</td>\n      <td>...</td>\n      <td>...</td>\n      <td>...</td>\n      <td>...</td>\n      <td>...</td>\n      <td>...</td>\n      <td>...</td>\n      <td>...</td>\n      <td>...</td>\n      <td>...</td>\n      <td>...</td>\n      <td>...</td>\n      <td>...</td>\n      <td>...</td>\n      <td>...</td>\n      <td>...</td>\n    </tr>\n    <tr>\n      <th>oj</th>\n      <td>106.628526</td>\n      <td>119.349249</td>\n      <td>90.433858</td>\n      <td>106.391112</td>\n      <td>103.060972</td>\n      <td>91.889934</td>\n      <td>131.282239</td>\n      <td>144.065670</td>\n      <td>124.653913</td>\n      <td>103.671737</td>\n      <td>...</td>\n      <td>143.293537</td>\n      <td>117.033040</td>\n      <td>117.200866</td>\n      <td>109.764232</td>\n      <td>106.184543</td>\n      <td>0.000000</td>\n      <td>109.940389</td>\n      <td>91.035777</td>\n      <td>85.595174</td>\n      <td>120.433399</td>\n    </tr>\n    <tr>\n      <th>at</th>\n      <td>96.005975</td>\n      <td>109.385429</td>\n      <td>89.616167</td>\n      <td>118.489032</td>\n      <td>161.298786</td>\n      <td>107.028574</td>\n      <td>100.047617</td>\n      <td>107.236744</td>\n      <td>86.842750</td>\n      <td>99.755303</td>\n      <td>...</td>\n      <td>99.568964</td>\n      <td>122.740584</td>\n      <td>90.951003</td>\n      <td>78.600586</td>\n      <td>72.484234</td>\n      <td>109.940389</td>\n      <td>0.000000</td>\n      <td>114.050703</td>\n      <td>82.303525</td>\n      <td>89.410475</td>\n    </tr>\n    <tr>\n      <th>member</th>\n      <td>73.991302</td>\n      <td>74.533902</td>\n      <td>117.802423</td>\n      <td>70.073066</td>\n      <td>100.394844</td>\n      <td>74.802941</td>\n      <td>87.686406</td>\n      <td>87.926640</td>\n      <td>127.812967</td>\n      <td>88.566041</td>\n      <td>...</td>\n      <td>120.024861</td>\n      <td>56.793081</td>\n      <td>97.731697</td>\n      <td>101.865186</td>\n      <td>93.152291</td>\n      <td>91.035777</td>\n      <td>114.050703</td>\n      <td>0.000000</td>\n      <td>57.445736</td>\n      <td>80.679704</td>\n    </tr>\n    <tr>\n      <th>application</th>\n      <td>66.471987</td>\n      <td>80.409231</td>\n      <td>86.957206</td>\n      <td>84.881140</td>\n      <td>134.652314</td>\n      <td>64.622738</td>\n      <td>95.095851</td>\n      <td>89.352531</td>\n      <td>100.293466</td>\n      <td>76.134246</td>\n      <td>...</td>\n      <td>104.037607</td>\n      <td>92.137900</td>\n      <td>52.633148</td>\n      <td>83.735008</td>\n      <td>59.605382</td>\n      <td>85.595174</td>\n      <td>82.303525</td>\n      <td>57.445736</td>\n      <td>0.000000</td>\n      <td>72.817250</td>\n    </tr>\n    <tr>\n      <th>a_regulation</th>\n      <td>47.899310</td>\n      <td>49.206085</td>\n      <td>98.005800</td>\n      <td>63.105265</td>\n      <td>123.790311</td>\n      <td>90.135432</td>\n      <td>44.130890</td>\n      <td>60.830020</td>\n      <td>92.085882</td>\n      <td>119.218707</td>\n      <td>...</td>\n      <td>123.711060</td>\n      <td>71.602677</td>\n      <td>83.150213</td>\n      <td>120.984793</td>\n      <td>58.228450</td>\n      <td>120.433399</td>\n      <td>89.410475</td>\n      <td>80.679704</td>\n      <td>72.817250</td>\n      <td>0.000000</td>\n    </tr>\n  </tbody>\n</table>\n<p>100 rows × 100 columns</p>\n</div>"
     },
     "execution_count": 209,
     "metadata": {},
     "output_type": "execute_result"
    }
   ],
   "source": [
    "% % time\n",
    "model2_manhattan_similarity_matrix = get_similarity_matrix(model2_language_model_pipeline.word2vec.wv.vectors[:100],\n",
    "                                                           model2_language_model_pipeline.word2vec.wv.index_to_key[\n",
    "                                                           :100],\n",
    "                                                           metric=manhattan_similarity)\n",
    "model2_manhattan_similarity_matrix"
   ],
   "metadata": {
    "collapsed": false,
    "pycharm": {
     "name": "#%%\n"
    }
   }
  },
  {
   "cell_type": "code",
   "execution_count": 210,
   "outputs": [
    {
     "name": "stdout",
     "output_type": "stream",
     "text": [
      "CPU times: user 708 ms, sys: 163 µs, total: 708 ms\n",
      "Wall time: 708 ms\n"
     ]
    },
    {
     "data": {
      "text/plain": "                     of         the           ,          to           .  \\\nof             0.000000  164.008284  176.024012  213.557311  167.931325   \nthe          164.008284    0.000000  186.238228  221.512242  168.460637   \n,            176.024012  186.238228    0.000000  219.601777  126.255542   \nto           213.557311  221.512242  219.601777    0.000000  200.717337   \n.            167.931325  168.460637  126.255542  200.717337    0.000000   \n...                 ...         ...         ...         ...         ...   \ninformation  191.796594  175.585802  186.656256  192.949149  155.606693   \npeople       216.429081  196.244706  191.468204  205.980395  191.968106   \naccording    165.738975  180.495230  165.204078  252.849575  173.232044   \nthere        201.100045  190.698073  177.835179  211.658309  151.015131   \nscheme       178.560698  147.382862  162.905151  182.733260  124.916844   \n\n                    and          in         for           )          on  ...  \\\nof           174.078415  191.473669  188.460185  213.362458  196.066032  ...   \nthe          173.359773  191.033561  175.926157  229.362901  205.905094  ...   \n,            139.614174  173.776175  172.380711  183.690885  182.640565  ...   \nto           206.454490  231.950053  210.223377  269.232497  245.118736  ...   \n.            170.415990  177.248219  182.051316  210.195224  187.660992  ...   \n...                 ...         ...         ...         ...         ...  ...   \ninformation  177.074801  222.822613  184.822255  191.103191  202.867374  ...   \npeople       173.956030  194.744477  184.117637  216.472753  256.392187  ...   \naccording    163.468924  204.463295  177.914038  150.690679  171.179151  ...   \nthere        192.747495  206.136006  202.967023  204.375994  215.221674  ...   \nscheme       156.765137  182.027258  128.437641  190.888165  187.144986  ...   \n\n                    new         per       april    economic       until  \\\nof           159.485338  267.302101  198.292449  187.429000  232.439806   \nthe          131.351608  252.753136  208.226177  159.888692  233.756526   \n,            156.425754  256.147498  180.669992  174.969027  204.740485   \nto           177.399770  299.907192  252.052588  229.655372  230.463996   \n.            150.270049  255.862119  190.091421  181.118970  198.145354   \n...                 ...         ...         ...         ...         ...   \ninformation  141.583803  269.899468  207.665111  197.381637  224.246870   \npeople       150.878305  245.218756  229.368771  184.619637  261.096574   \naccording    149.443724  242.034347  165.370614  188.374389  193.093709   \nthere        163.752747  238.057798  201.189066  211.927536  212.999943   \nscheme        97.553719  236.945146  185.338089  169.343050  189.199862   \n\n             information      people   according       there      scheme  \nof            191.796594  216.429081  165.738975  201.100045  178.560698  \nthe           175.585802  196.244706  180.495230  190.698073  147.382862  \n,             186.656256  191.468204  165.204078  177.835179  162.905151  \nto            192.949149  205.980395  252.849575  211.658309  182.733260  \n.             155.606693  191.968106  173.232044  151.015131  124.916844  \n...                  ...         ...         ...         ...         ...  \ninformation     0.000000  177.029308  148.833536  125.253646  149.857290  \npeople        177.029308    0.000000  204.285361  181.816409  156.106781  \naccording     148.833536  204.285361    0.000000  181.863345  159.165323  \nthere         125.253646  181.816409  181.863345    0.000000  150.449459  \nscheme        149.857290  156.106781  159.165323  150.449459    0.000000  \n\n[100 rows x 100 columns]",
      "text/html": "<div>\n<style scoped>\n    .dataframe tbody tr th:only-of-type {\n        vertical-align: middle;\n    }\n\n    .dataframe tbody tr th {\n        vertical-align: top;\n    }\n\n    .dataframe thead th {\n        text-align: right;\n    }\n</style>\n<table border=\"1\" class=\"dataframe\">\n  <thead>\n    <tr style=\"text-align: right;\">\n      <th></th>\n      <th>of</th>\n      <th>the</th>\n      <th>,</th>\n      <th>to</th>\n      <th>.</th>\n      <th>and</th>\n      <th>in</th>\n      <th>for</th>\n      <th>)</th>\n      <th>on</th>\n      <th>...</th>\n      <th>new</th>\n      <th>per</th>\n      <th>april</th>\n      <th>economic</th>\n      <th>until</th>\n      <th>information</th>\n      <th>people</th>\n      <th>according</th>\n      <th>there</th>\n      <th>scheme</th>\n    </tr>\n  </thead>\n  <tbody>\n    <tr>\n      <th>of</th>\n      <td>0.000000</td>\n      <td>164.008284</td>\n      <td>176.024012</td>\n      <td>213.557311</td>\n      <td>167.931325</td>\n      <td>174.078415</td>\n      <td>191.473669</td>\n      <td>188.460185</td>\n      <td>213.362458</td>\n      <td>196.066032</td>\n      <td>...</td>\n      <td>159.485338</td>\n      <td>267.302101</td>\n      <td>198.292449</td>\n      <td>187.429000</td>\n      <td>232.439806</td>\n      <td>191.796594</td>\n      <td>216.429081</td>\n      <td>165.738975</td>\n      <td>201.100045</td>\n      <td>178.560698</td>\n    </tr>\n    <tr>\n      <th>the</th>\n      <td>164.008284</td>\n      <td>0.000000</td>\n      <td>186.238228</td>\n      <td>221.512242</td>\n      <td>168.460637</td>\n      <td>173.359773</td>\n      <td>191.033561</td>\n      <td>175.926157</td>\n      <td>229.362901</td>\n      <td>205.905094</td>\n      <td>...</td>\n      <td>131.351608</td>\n      <td>252.753136</td>\n      <td>208.226177</td>\n      <td>159.888692</td>\n      <td>233.756526</td>\n      <td>175.585802</td>\n      <td>196.244706</td>\n      <td>180.495230</td>\n      <td>190.698073</td>\n      <td>147.382862</td>\n    </tr>\n    <tr>\n      <th>,</th>\n      <td>176.024012</td>\n      <td>186.238228</td>\n      <td>0.000000</td>\n      <td>219.601777</td>\n      <td>126.255542</td>\n      <td>139.614174</td>\n      <td>173.776175</td>\n      <td>172.380711</td>\n      <td>183.690885</td>\n      <td>182.640565</td>\n      <td>...</td>\n      <td>156.425754</td>\n      <td>256.147498</td>\n      <td>180.669992</td>\n      <td>174.969027</td>\n      <td>204.740485</td>\n      <td>186.656256</td>\n      <td>191.468204</td>\n      <td>165.204078</td>\n      <td>177.835179</td>\n      <td>162.905151</td>\n    </tr>\n    <tr>\n      <th>to</th>\n      <td>213.557311</td>\n      <td>221.512242</td>\n      <td>219.601777</td>\n      <td>0.000000</td>\n      <td>200.717337</td>\n      <td>206.454490</td>\n      <td>231.950053</td>\n      <td>210.223377</td>\n      <td>269.232497</td>\n      <td>245.118736</td>\n      <td>...</td>\n      <td>177.399770</td>\n      <td>299.907192</td>\n      <td>252.052588</td>\n      <td>229.655372</td>\n      <td>230.463996</td>\n      <td>192.949149</td>\n      <td>205.980395</td>\n      <td>252.849575</td>\n      <td>211.658309</td>\n      <td>182.733260</td>\n    </tr>\n    <tr>\n      <th>.</th>\n      <td>167.931325</td>\n      <td>168.460637</td>\n      <td>126.255542</td>\n      <td>200.717337</td>\n      <td>0.000000</td>\n      <td>170.415990</td>\n      <td>177.248219</td>\n      <td>182.051316</td>\n      <td>210.195224</td>\n      <td>187.660992</td>\n      <td>...</td>\n      <td>150.270049</td>\n      <td>255.862119</td>\n      <td>190.091421</td>\n      <td>181.118970</td>\n      <td>198.145354</td>\n      <td>155.606693</td>\n      <td>191.968106</td>\n      <td>173.232044</td>\n      <td>151.015131</td>\n      <td>124.916844</td>\n    </tr>\n    <tr>\n      <th>...</th>\n      <td>...</td>\n      <td>...</td>\n      <td>...</td>\n      <td>...</td>\n      <td>...</td>\n      <td>...</td>\n      <td>...</td>\n      <td>...</td>\n      <td>...</td>\n      <td>...</td>\n      <td>...</td>\n      <td>...</td>\n      <td>...</td>\n      <td>...</td>\n      <td>...</td>\n      <td>...</td>\n      <td>...</td>\n      <td>...</td>\n      <td>...</td>\n      <td>...</td>\n      <td>...</td>\n    </tr>\n    <tr>\n      <th>information</th>\n      <td>191.796594</td>\n      <td>175.585802</td>\n      <td>186.656256</td>\n      <td>192.949149</td>\n      <td>155.606693</td>\n      <td>177.074801</td>\n      <td>222.822613</td>\n      <td>184.822255</td>\n      <td>191.103191</td>\n      <td>202.867374</td>\n      <td>...</td>\n      <td>141.583803</td>\n      <td>269.899468</td>\n      <td>207.665111</td>\n      <td>197.381637</td>\n      <td>224.246870</td>\n      <td>0.000000</td>\n      <td>177.029308</td>\n      <td>148.833536</td>\n      <td>125.253646</td>\n      <td>149.857290</td>\n    </tr>\n    <tr>\n      <th>people</th>\n      <td>216.429081</td>\n      <td>196.244706</td>\n      <td>191.468204</td>\n      <td>205.980395</td>\n      <td>191.968106</td>\n      <td>173.956030</td>\n      <td>194.744477</td>\n      <td>184.117637</td>\n      <td>216.472753</td>\n      <td>256.392187</td>\n      <td>...</td>\n      <td>150.878305</td>\n      <td>245.218756</td>\n      <td>229.368771</td>\n      <td>184.619637</td>\n      <td>261.096574</td>\n      <td>177.029308</td>\n      <td>0.000000</td>\n      <td>204.285361</td>\n      <td>181.816409</td>\n      <td>156.106781</td>\n    </tr>\n    <tr>\n      <th>according</th>\n      <td>165.738975</td>\n      <td>180.495230</td>\n      <td>165.204078</td>\n      <td>252.849575</td>\n      <td>173.232044</td>\n      <td>163.468924</td>\n      <td>204.463295</td>\n      <td>177.914038</td>\n      <td>150.690679</td>\n      <td>171.179151</td>\n      <td>...</td>\n      <td>149.443724</td>\n      <td>242.034347</td>\n      <td>165.370614</td>\n      <td>188.374389</td>\n      <td>193.093709</td>\n      <td>148.833536</td>\n      <td>204.285361</td>\n      <td>0.000000</td>\n      <td>181.863345</td>\n      <td>159.165323</td>\n    </tr>\n    <tr>\n      <th>there</th>\n      <td>201.100045</td>\n      <td>190.698073</td>\n      <td>177.835179</td>\n      <td>211.658309</td>\n      <td>151.015131</td>\n      <td>192.747495</td>\n      <td>206.136006</td>\n      <td>202.967023</td>\n      <td>204.375994</td>\n      <td>215.221674</td>\n      <td>...</td>\n      <td>163.752747</td>\n      <td>238.057798</td>\n      <td>201.189066</td>\n      <td>211.927536</td>\n      <td>212.999943</td>\n      <td>125.253646</td>\n      <td>181.816409</td>\n      <td>181.863345</td>\n      <td>0.000000</td>\n      <td>150.449459</td>\n    </tr>\n    <tr>\n      <th>scheme</th>\n      <td>178.560698</td>\n      <td>147.382862</td>\n      <td>162.905151</td>\n      <td>182.733260</td>\n      <td>124.916844</td>\n      <td>156.765137</td>\n      <td>182.027258</td>\n      <td>128.437641</td>\n      <td>190.888165</td>\n      <td>187.144986</td>\n      <td>...</td>\n      <td>97.553719</td>\n      <td>236.945146</td>\n      <td>185.338089</td>\n      <td>169.343050</td>\n      <td>189.199862</td>\n      <td>149.857290</td>\n      <td>156.106781</td>\n      <td>159.165323</td>\n      <td>150.449459</td>\n      <td>0.000000</td>\n    </tr>\n  </tbody>\n</table>\n<p>100 rows × 100 columns</p>\n</div>"
     },
     "execution_count": 210,
     "metadata": {},
     "output_type": "execute_result"
    }
   ],
   "source": [
    "% % time\n",
    "model3_manhattan_similarity_matrix = get_similarity_matrix(model3_language_model_pipeline.word2vec.wv.vectors[:100],\n",
    "                                                           model3_language_model_pipeline.word2vec.wv.index_to_key[\n",
    "                                                           :100],\n",
    "                                                           metric=manhattan_similarity)\n",
    "model3_manhattan_similarity_matrix\n"
   ],
   "metadata": {
    "collapsed": false,
    "pycharm": {
     "name": "#%%\n"
    }
   }
  },
  {
   "cell_type": "markdown",
   "source": [
    "### Select key words as clusters to visualize the graph similarity between this words"
   ],
   "metadata": {
    "collapsed": false,
    "pycharm": {
     "name": "#%% md\n"
    }
   }
  },
  {
   "cell_type": "code",
   "execution_count": 217,
   "outputs": [],
   "source": [
    "key_words = ['president', 'covid', 'economic',\n",
    "             'country', 'workers', 'health',\n",
    "             'crisis', 'tax', 'law',\n",
    "             'costs', 'legal', 'companies',\n",
    "             'manufacturing', 'property']"
   ],
   "metadata": {
    "collapsed": false,
    "pycharm": {
     "name": "#%%\n"
    }
   }
  },
  {
   "cell_type": "markdown",
   "source": [
    "### Steps for word embedding visualization:\n",
    "* detect and extract key words and most relevant words\n",
    "* train TSNE model\n",
    "* create a dataframe with the clusters, their words and their placement on the graph"
   ],
   "metadata": {
    "collapsed": false,
    "pycharm": {
     "name": "#%% md\n"
    }
   }
  },
  {
   "cell_type": "code",
   "execution_count": 218,
   "outputs": [],
   "source": [
    "model1_word_embeddings = select_words_and_embedding_clusters(model1_language_model_pipeline.word2vec.wv, key_words)\n",
    "model2_word_embeddings = select_words_and_embedding_clusters(model2_language_model_pipeline.word2vec.wv, key_words)\n",
    "model3_word_embeddings = select_words_and_embedding_clusters(model3_language_model_pipeline.word2vec.wv, key_words)\n",
    "\n",
    "model1_tsne_model = create_tsne_model(model1_word_embeddings[0])\n",
    "model2_tsne_model = create_tsne_model(model2_word_embeddings[0])\n",
    "model3_tsne_model = create_tsne_model(model3_word_embeddings[0])\n",
    "\n",
    "model1_word_embeddings_dataframe = create_word_clusters_matrix(key_words, model1_word_embeddings[1], model1_tsne_model)\n",
    "model2_word_embeddings_dataframe = create_word_clusters_matrix(key_words, model2_word_embeddings[1], model2_tsne_model)\n",
    "model3_word_embeddings_dataframe = create_word_clusters_matrix(key_words, model3_word_embeddings[1], model3_tsne_model)"
   ],
   "metadata": {
    "collapsed": false,
    "pycharm": {
     "name": "#%%\n"
    }
   }
  },
  {
   "cell_type": "markdown",
   "source": [
    "### Graph visualization for the first model"
   ],
   "metadata": {
    "collapsed": false,
    "pycharm": {
     "name": "#%% md\n"
    }
   }
  },
  {
   "cell_type": "code",
   "execution_count": 220,
   "outputs": [
    {
     "data": {
      "application/vnd.plotly.v1+json": {
       "config": {
        "plotlyServerURL": "https://plot.ly"
       },
       "data": [
        {
         "customdata": [
          [
           "the_president"
          ],
          [
           "the_republic"
          ],
          [
           "republic"
          ],
          [
           "ministers"
          ],
          [
           "2/2015"
          ],
          [
           "the_legislative_act"
          ],
          [
           "the_council"
          ],
          [
           "cabinet"
          ],
          [
           "the_general_directorate"
          ],
          [
           "ministry"
          ],
          [
           "parliament"
          ],
          [
           "the_cabinet"
          ],
          [
           "prime"
          ],
          [
           ".the"
          ],
          [
           "croatia"
          ],
          [
           "70a/2020"
          ],
          [
           "minister"
          ],
          [
           "health_and_social_care_employees"
          ],
          [
           "206/2020"
          ],
          [
           "30/2020"
          ],
          [
           "commission"
          ],
          [
           "tourist_and_travel_agencies"
          ],
          [
           "royal"
          ],
          [
           "the_decree"
          ],
          [
           "interior"
          ],
          [
           "lithuania"
          ],
          [
           "legislative"
          ],
          [
           "the_free_trade_union_confederation"
          ],
          [
           "34,131"
          ],
          [
           "annotation"
          ]
         ],
         "hovertemplate": "word_cluster=president<br>X=%{x}<br>Y=%{y}<br>word=%{customdata[0]}<extra></extra>",
         "legendgroup": "president",
         "marker": {
          "color": "#636efa",
          "symbol": "circle"
         },
         "mode": "markers",
         "name": "president",
         "orientation": "v",
         "showlegend": true,
         "type": "scatter",
         "x": [
          -53.156219482421875,
          -51.49818420410156,
          -52.02194595336914,
          -56.079097747802734,
          -57.44021987915039,
          -51.84261703491211,
          -57.4566650390625,
          -55.62345504760742,
          -55.147682189941406,
          -51.76082992553711,
          -51.689842224121094,
          -55.415470123291016,
          -52.344932556152344,
          -57.477561950683594,
          -45.0477409362793,
          -59.32526779174805,
          -53.237796783447266,
          -57.879005432128906,
          -59.51786422729492,
          -63.94317626953125,
          -47.0413703918457,
          -56.58768844604492,
          -58.17462158203125,
          -56.707550048828125,
          -51.02519607543945,
          -50.383575439453125,
          -53.83841323852539,
          -57.00423812866211,
          -58.80183792114258,
          -58.97649383544922
         ],
         "xaxis": "x",
         "y": [
          16.7557315826416,
          38.53874588012695,
          40.23429489135742,
          38.594539642333984,
          -11.785418510437012,
          -5.427036762237549,
          25.12784194946289,
          21.653396606445312,
          -12.787104606628418,
          43.59408187866211,
          21.4735164642334,
          18.10454559326172,
          11.70317554473877,
          -25.721708297729492,
          33.447208404541016,
          -10.288232803344727,
          43.32408905029297,
          -29.66765594482422,
          -12.270426750183105,
          -14.196087837219238,
          31.7617130279541,
          -28.086566925048828,
          31.332813262939453,
          15.58360481262207,
          12.924749374389648,
          37.04531478881836,
          29.899028778076172,
          -7.780318737030029,
          -27.584239959716797,
          -15.803720474243164
         ],
         "yaxis": "y"
        },
        {
         "customdata": [
          [
           "the_covid19_pandemics"
          ],
          [
           "anticrisis"
          ],
          [
           "mitigation"
          ],
          [
           "shield"
          ],
          [
           "the_governments"
          ],
          [
           "reacteu"
          ],
          [
           "the_legislative_act"
          ],
          [
           "this_question"
          ],
          [
           "i"
          ],
          [
           "global"
          ],
          [
           "the_economic_effects"
          ],
          [
           "ii"
          ],
          [
           "2009"
          ],
          [
           "the_intervention_measures"
          ],
          [
           "the_\"emergency_contingency_measures"
          ],
          [
           "powers"
          ],
          [
           "ziuopdve"
          ],
          [
           "commission"
          ],
          [
           "the_background"
          ],
          [
           "decreed"
          ],
          [
           "3.1"
          ],
          [
           "sarscov2"
          ],
          [
           "socalled"
          ],
          [
           "the_autonomy"
          ],
          [
           "2020:22"
          ],
          [
           "valmiuslaki"
          ],
          [
           "accomodationhttps://static.eurofound.europa.eu/covid19db/cases/cz2020371260"
          ],
          [
           "remedy"
          ],
          [
           "background"
          ],
          [
           "the_evolution"
          ]
         ],
         "hovertemplate": "word_cluster=covid<br>X=%{x}<br>Y=%{y}<br>word=%{customdata[0]}<extra></extra>",
         "legendgroup": "covid",
         "marker": {
          "color": "#EF553B",
          "symbol": "circle"
         },
         "mode": "markers",
         "name": "covid",
         "orientation": "v",
         "showlegend": true,
         "type": "scatter",
         "x": [
          -43.39636993408203,
          -28.500795364379883,
          -29.179336547851562,
          -30.146587371826172,
          -29.539230346679688,
          -54.378273010253906,
          -53.095848083496094,
          -53.242919921875,
          -39.81361770629883,
          -23.994361877441406,
          -38.0936164855957,
          -39.652076721191406,
          -41.59560012817383,
          -27.8326358795166,
          -51.9761962890625,
          -48.89289093017578,
          -50.64363098144531,
          -47.57602310180664,
          -31.364919662475586,
          -45.64684295654297,
          -54.41254806518555,
          -21.91932487487793,
          -26.839826583862305,
          -51.34798049926758,
          -57.00580978393555,
          -52.30609893798828,
          -56.2426872253418,
          -31.7712459564209,
          -29.25146484375,
          -49.0504150390625
         ],
         "xaxis": "x",
         "y": [
          -11.046920776367188,
          16.4570369720459,
          3.3397107124328613,
          17.74162483215332,
          7.64462947845459,
          -20.920982360839844,
          -5.19148063659668,
          -39.671852111816406,
          31.6552791595459,
          14.237883567810059,
          -11.341665267944336,
          30.060012817382812,
          -7.901697158813477,
          7.334960460662842,
          -21.055973052978516,
          -3.137101888656616,
          -14.624488830566406,
          32.9486083984375,
          -0.4976043701171875,
          -9.633810043334961,
          -15.93234634399414,
          12.367802619934082,
          16.525299072265625,
          -17.80900764465332,
          -17.408191680908203,
          -2.387681484222412,
          -22.393653869628906,
          4.506128311157227,
          11.21611499786377,
          -14.20005989074707
         ],
         "yaxis": "y"
        },
        {
         "customdata": [
          [
           "impacts"
          ],
          [
           "downs"
          ],
          [
           "exclusion"
          ],
          [
           "hardship"
          ],
          [
           "the_background"
          ],
          [
           "economic_vulnerability"
          ],
          [
           "the_covid19_virus"
          ],
          [
           "policy"
          ],
          [
           "fighting"
          ],
          [
           "epidemiological"
          ],
          [
           "the_economic_crisis"
          ],
          [
           "vulnerability"
          ],
          [
           "protection"
          ],
          [
           "the_legislative_act_20_march_2020_urgent_measures"
          ],
          [
           "coping"
          ],
          [
           "the_economic_effects"
          ],
          [
           "infection_control_measures"
          ],
          [
           "the_expansion"
          ],
          [
           "existential"
          ],
          [
           "the_economic_consequences"
          ],
          [
           "the_covid19"
          ],
          [
           "action"
          ],
          [
           "lockdowns"
          ],
          [
           "government_regulations"
          ],
          [
           "situations"
          ],
          [
           "effects"
          ],
          [
           "nationallevel"
          ],
          [
           "the_coronavirus_crisis"
          ],
          [
           "critical"
          ],
          [
           "alleviating"
          ]
         ],
         "hovertemplate": "word_cluster=economic<br>X=%{x}<br>Y=%{y}<br>word=%{customdata[0]}<extra></extra>",
         "legendgroup": "economic",
         "marker": {
          "color": "#00cc96",
          "symbol": "circle"
         },
         "mode": "markers",
         "name": "economic",
         "orientation": "v",
         "showlegend": true,
         "type": "scatter",
         "x": [
          -25.644704818725586,
          -53.69379425048828,
          -23.238924026489258,
          -23.05000114440918,
          -30.823366165161133,
          -51.063846588134766,
          -34.1731071472168,
          5.886388301849365,
          -48.01237869262695,
          -23.149673461914062,
          -42.082557678222656,
          -26.353803634643555,
          12.066088676452637,
          -45.8676872253418,
          -33.95747375488281,
          -39.33500671386719,
          -43.07876968383789,
          -38.08650207519531,
          -53.634063720703125,
          -35.81789779663086,
          -8.243439674377441,
          5.019165992736816,
          -27.95308494567871,
          -54.21956253051758,
          13.285737037658691,
          -8.092851638793945,
          -54.62285614013672,
          -31.45498275756836,
          -0.5846615433692932,
          -45.18777084350586
         ],
         "xaxis": "x",
         "y": [
          5.9874267578125,
          -29.062294006347656,
          0.8332066535949707,
          5.264937877655029,
          -1.6656984090805054,
          -23.812517166137695,
          -7.537662506103516,
          24.66693878173828,
          -21.92363929748535,
          10.812873840332031,
          -18.078353881835938,
          -3.44690203666687,
          27.845836639404297,
          -19.351701736450195,
          -2.378103256225586,
          -11.257706642150879,
          -20.79034996032715,
          -14.410200119018555,
          -35.5145149230957,
          -9.593794822692871,
          26.736555099487305,
          22.30179786682129,
          -0.058370787650346756,
          -37.972412109375,
          11.43758487701416,
          39.028961181640625,
          -32.47378921508789,
          -5.645364761352539,
          15.934531211853027,
          -24.491151809692383
         ],
         "yaxis": "y"
        },
        {
         "customdata": [
          [
           "working_conditions"
          ],
          [
           "the_country"
          ],
          [
           "the_collectives"
          ],
          [
           "snack"
          ],
          [
           "course"
          ],
          [
           "demand"
          ],
          [
           "seasonal_workers"
          ],
          [
           "uk"
          ],
          [
           "season"
          ],
          [
           "the_decline"
          ],
          [
           "workforce"
          ],
          [
           "event"
          ],
          [
           "manufacturers"
          ],
          [
           "region"
          ],
          [
           "potential"
          ],
          [
           "the_activity"
          ],
          [
           "unprecedented"
          ],
          [
           "parts"
          ],
          [
           "the_unemployment_allowance_deductible_period"
          ],
          [
           "ervia"
          ],
          [
           "future"
          ],
          [
           "operations"
          ],
          [
           "the_market"
          ],
          [
           "area"
          ],
          [
           "respect"
          ],
          [
           "independent_workers"
          ],
          [
           "group"
          ],
          [
           "companys"
          ],
          [
           "covid19_crisis"
          ],
          [
           "the_labour_market"
          ]
         ],
         "hovertemplate": "word_cluster=country<br>X=%{x}<br>Y=%{y}<br>word=%{customdata[0]}<extra></extra>",
         "legendgroup": "country",
         "marker": {
          "color": "#ab63fa",
          "symbol": "circle"
         },
         "mode": "markers",
         "name": "country",
         "orientation": "v",
         "showlegend": true,
         "type": "scatter",
         "x": [
          -9.285246849060059,
          11.469608306884766,
          -51.78113555908203,
          -27.781312942504883,
          -10.141777038574219,
          14.13273811340332,
          -14.962711334228516,
          12.558712005615234,
          -7.345234394073486,
          -33.78194808959961,
          10.850547790527344,
          18.397520065307617,
          -24.240406036376953,
          5.77571964263916,
          9.342257499694824,
          6.844353675842285,
          -31.50360679626465,
          5.129720211029053,
          -50.0719108581543,
          -17.658090591430664,
          16.507116317749023,
          32.0441780090332,
          -1.576464295387268,
          15.757464408874512,
          17.793394088745117,
          -27.35087013244629,
          26.537961959838867,
          8.451412200927734,
          -29.146053314208984,
          7.775509834289551
         ],
         "xaxis": "x",
         "y": [
          -21.231117248535156,
          6.637535095214844,
          -33.912418365478516,
          -35.704654693603516,
          -18.98246192932129,
          5.715306758880615,
          -24.688840866088867,
          2.956171751022339,
          -21.62864112854004,
          -16.80205726623535,
          1.3472355604171753,
          2.533855438232422,
          -35.86837387084961,
          -2.3072705268859863,
          3.4112682342529297,
          0.5096305012702942,
          -16.157672882080078,
          1.6380685567855835,
          -32.58494567871094,
          -25.273649215698242,
          5.085591793060303,
          -2.608473539352417,
          -6.308305263519287,
          0.5554320216178894,
          -0.220307394862175,
          -37.108070373535156,
          11.916406631469727,
          1.1586639881134033,
          -9.889164924621582,
          7.020473957061768
         ],
         "yaxis": "y"
        },
        {
         "customdata": [
          [
           "employees"
          ],
          [
           "groups"
          ],
          [
           "staff"
          ],
          [
           "persons"
          ],
          [
           "those"
          ],
          [
           "personnel"
          ],
          [
           "conditions"
          ],
          [
           "customers"
          ],
          [
           "people"
          ],
          [
           "all"
          ],
          [
           "covid19_patients"
          ],
          [
           "them"
          ],
          [
           "sectors"
          ],
          [
           "roles"
          ],
          [
           "individuals"
          ],
          [
           "the_people"
          ],
          [
           "care"
          ],
          [
           "parents"
          ],
          [
           "the_private_sector"
          ],
          [
           "need"
          ],
          [
           "prospects"
          ],
          [
           "covid19_risks"
          ],
          [
           "employers"
          ],
          [
           "those_companies"
          ],
          [
           "looking"
          ],
          [
           "unemployed"
          ],
          [
           "seasonal_employees"
          ],
          [
           "all_workers"
          ],
          [
           "other"
          ],
          [
           "activities"
          ]
         ],
         "hovertemplate": "word_cluster=workers<br>X=%{x}<br>Y=%{y}<br>word=%{customdata[0]}<extra></extra>",
         "legendgroup": "workers",
         "marker": {
          "color": "#FFA15A",
          "symbol": "circle"
         },
         "mode": "markers",
         "name": "workers",
         "orientation": "v",
         "showlegend": true,
         "type": "scatter",
         "x": [
          62.32875442504883,
          46.976436614990234,
          50.226234436035156,
          59.217838287353516,
          59.89198684692383,
          43.727325439453125,
          45.93256378173828,
          45.506717681884766,
          62.864009857177734,
          63.76347732543945,
          -28.861446380615234,
          58.72512435913086,
          52.44098663330078,
          -28.99740982055664,
          53.97892379760742,
          -28.223703384399414,
          51.539947509765625,
          53.691131591796875,
          -12.97508716583252,
          56.91302490234375,
          -27.053434371948242,
          -54.47648620605469,
          65.16622161865234,
          -22.70138931274414,
          -0.4442443549633026,
          55.50761032104492,
          -41.039276123046875,
          -4.013922214508057,
          49.144081115722656,
          51.98442840576172
         ],
         "xaxis": "x",
         "y": [
          0.4149230122566223,
          4.627602577209473,
          5.281993865966797,
          -4.925871849060059,
          -3.4388766288757324,
          5.64694881439209,
          1.9847735166549683,
          7.017569065093994,
          -6.33528995513916,
          7.151251792907715,
          -45.7794189453125,
          4.666906833648682,
          19.70085906982422,
          -43.5689811706543,
          -5.123871803283691,
          -47.07651901245117,
          3.220597743988037,
          -2.2789454460144043,
          -22.603195190429688,
          6.1129231452941895,
          -41.91322708129883,
          -41.77986526489258,
          7.553401947021484,
          -45.013145446777344,
          -29.275190353393555,
          -2.049417495727539,
          -37.61604309082031,
          -30.293678283691406,
          7.88751745223999,
          14.690635681152344
         ],
         "yaxis": "y"
        },
        {
         "customdata": [
          [
           "safety"
          ],
          [
           "the_workplaces"
          ],
          [
           "protection"
          ],
          [
           "occupational_health"
          ],
          [
           "occupational"
          ],
          [
           "public"
          ],
          [
           "wellbeing"
          ],
          [
           "minimum_income_protection"
          ],
          [
           "the_protection"
          ],
          [
           "prevention"
          ],
          [
           "workers_health"
          ],
          [
           "the_health"
          ],
          [
           "rescue"
          ],
          [
           "integration"
          ],
          [
           "smooth"
          ],
          [
           "hygiene"
          ],
          [
           "workplaces"
          ],
          [
           "proclaim"
          ],
          [
           "investigation"
          ],
          [
           "employees'_health"
          ],
          [
           "the_covid19_epidemic"
          ],
          [
           "the_strict_minimum"
          ],
          [
           "older_people"
          ],
          [
           "the_policy_unit"
          ],
          [
           "family"
          ],
          [
           "waterways"
          ],
          [
           "upturn"
          ],
          [
           "social_exclusion"
          ],
          [
           "reopening"
          ],
          [
           "issues"
          ]
         ],
         "hovertemplate": "word_cluster=health<br>X=%{x}<br>Y=%{y}<br>word=%{customdata[0]}<extra></extra>",
         "legendgroup": "health",
         "marker": {
          "color": "#19d3f3",
          "symbol": "circle"
         },
         "mode": "markers",
         "name": "health",
         "orientation": "v",
         "showlegend": true,
         "type": "scatter",
         "x": [
          15.048687934875488,
          -31.405765533447266,
          12.879281997680664,
          -33.09211349487305,
          11.055313110351562,
          16.852563858032227,
          6.679135799407959,
          -61.68923568725586,
          -0.5276428461074829,
          9.837959289550781,
          -29.21491050720215,
          4.514297008514404,
          -21.547496795654297,
          1.8424763679504395,
          -19.151546478271484,
          9.81534194946289,
          8.769631385803223,
          -61.916168212890625,
          -34.145809173583984,
          -57.50312805175781,
          -6.622225761413574,
          -55.66377258300781,
          -29.4576358795166,
          -58.24428176879883,
          23.847124099731445,
          -30.89615821838379,
          -57.72954559326172,
          -27.713621139526367,
          -1.9045921564102173,
          11.28341007232666
         ],
         "xaxis": "x",
         "y": [
          26.109655380249023,
          -24.984386444091797,
          28.787206649780273,
          -27.99388313293457,
          21.517976760864258,
          25.612564086914062,
          14.373414993286133,
          -37.94334411621094,
          12.99581527709961,
          23.650014877319336,
          -25.158002853393555,
          14.825678825378418,
          -1.474479079246521,
          12.42061996459961,
          -2.7251076698303223,
          17.40481185913086,
          13.69365119934082,
          -36.08174133300781,
          -23.480655670166016,
          -37.27473831176758,
          23.807931900024414,
          -39.8343391418457,
          -27.40270233154297,
          -40.34739303588867,
          7.366666316986084,
          -28.90871238708496,
          -35.25870895385742,
          -24.307735443115234,
          11.929591178894043,
          19.701824188232422
         ],
         "yaxis": "y"
        },
        {
         "customdata": [
          [
           "pandemic"
          ],
          [
           "the_pandemic"
          ],
          [
           "the_crisis"
          ],
          [
           "the_covid19_crisis"
          ],
          [
           "corona"
          ],
          [
           "outbreak"
          ],
          [
           "virus"
          ],
          [
           "the_covid19_pandemic"
          ],
          [
           "epidemic"
          ],
          [
           "coronavirus"
          ],
          [
           "the_health_crisis"
          ],
          [
           "situation"
          ],
          [
           "the_corona_crisis"
          ],
          [
           "the_coronavirus"
          ],
          [
           "infection_control_measures"
          ],
          [
           "the_outbreak"
          ],
          [
           "covid19_crisis"
          ],
          [
           "turning"
          ],
          [
           "negative"
          ],
          [
           "the_coronavirus_crisis"
          ],
          [
           "impact"
          ],
          [
           "the_virus"
          ],
          [
           "current"
          ],
          [
           "spread"
          ],
          [
           "the_covid19"
          ],
          [
           "restrictions"
          ],
          [
           "the_second_wave"
          ],
          [
           "caused"
          ],
          [
           "the_new_restrictive_measures"
          ],
          [
           "infection"
          ]
         ],
         "hovertemplate": "word_cluster=crisis<br>X=%{x}<br>Y=%{y}<br>word=%{customdata[0]}<extra></extra>",
         "legendgroup": "crisis",
         "marker": {
          "color": "#FF6692",
          "symbol": "circle"
         },
         "mode": "markers",
         "name": "crisis",
         "orientation": "v",
         "showlegend": true,
         "type": "scatter",
         "x": [
          -7.327561855316162,
          -3.299487352371216,
          -1.2637107372283936,
          -2.8463363647460938,
          -5.24451208114624,
          -5.405770778656006,
          -5.075098991394043,
          -5.200514316558838,
          -4.393265724182129,
          -7.313754558563232,
          -11.776363372802734,
          -1.9092670679092407,
          -13.346909523010254,
          -10.0419340133667,
          -44.1942253112793,
          -11.590014457702637,
          -29.146053314208984,
          -42.1971435546875,
          -7.639726161956787,
          -31.064735412597656,
          -8.131928443908691,
          -10.499720573425293,
          -2.317641496658325,
          -9.05762767791748,
          -8.243439674377441,
          -1.9466705322265625,
          -27.40700912475586,
          -10.52221393585205,
          -45.592254638671875,
          -5.04610538482666
         ],
         "xaxis": "x",
         "y": [
          49.0912971496582,
          45.739295959472656,
          44.38661193847656,
          43.29229736328125,
          44.41423034667969,
          40.817440032958984,
          37.306427001953125,
          46.948001861572266,
          39.23842239379883,
          45.21836471557617,
          20.22844886779785,
          48.44383239746094,
          24.463451385498047,
          27.97875213623047,
          -21.446382522583008,
          25.83388900756836,
          -9.889164924621582,
          -23.544864654541016,
          30.623836517333984,
          -6.965338706970215,
          36.15116500854492,
          21.363859176635742,
          37.64306640625,
          41.53166198730469,
          26.736555099487305,
          40.20455551147461,
          -6.234593391418457,
          44.5265007019043,
          -26.222261428833008,
          35.39644241333008
         ],
         "yaxis": "y"
        },
        {
         "customdata": [
          [
           "taxes"
          ],
          [
           "payment"
          ],
          [
           "payments"
          ],
          [
           "deferral"
          ],
          [
           "installments"
          ],
          [
           "rent"
          ],
          [
           "interest"
          ],
          [
           "the_payment"
          ],
          [
           "vat"
          ],
          [
           "social_security_contributions"
          ],
          [
           "repayment"
          ],
          [
           "advance"
          ],
          [
           "exemption"
          ],
          [
           "a_period"
          ],
          [
           "social_contributions"
          ],
          [
           "tax_payments"
          ],
          [
           "lumpsum"
          ],
          [
           "income"
          ],
          [
           "0.1"
          ],
          [
           "six_months"
          ],
          [
           "deadline"
          ],
          [
           "deduction"
          ],
          [
           "rate"
          ],
          [
           "recalculated"
          ],
          [
           "instalments"
          ],
          [
           "salary"
          ],
          [
           "deferred_payment"
          ],
          [
           "monthly"
          ],
          [
           "partial_activity"
          ],
          [
           "deferred"
          ]
         ],
         "hovertemplate": "word_cluster=tax<br>X=%{x}<br>Y=%{y}<br>word=%{customdata[0]}<extra></extra>",
         "legendgroup": "tax",
         "marker": {
          "color": "#B6E880",
          "symbol": "circle"
         },
         "mode": "markers",
         "name": "tax",
         "orientation": "v",
         "showlegend": true,
         "type": "scatter",
         "x": [
          31.92304229736328,
          47.33804702758789,
          35.9693717956543,
          29.545700073242188,
          16.940927505493164,
          39.29206085205078,
          37.94173812866211,
          30.155324935913086,
          30.86187171936035,
          22.534727096557617,
          28.01228904724121,
          22.830848693847656,
          20.25811767578125,
          25.42078971862793,
          0.5423005819320679,
          -12.095806121826172,
          -7.965682029724121,
          50.26396560668945,
          -12.775653839111328,
          17.34736442565918,
          19.59865379333496,
          -11.420469284057617,
          40.387428283691406,
          -40.17704772949219,
          13.039329528808594,
          42.546539306640625,
          -41.25890350341797,
          42.8182487487793,
          15.119641304016113,
          26.842947006225586
         ],
         "xaxis": "x",
         "y": [
          -28.215240478515625,
          -31.676671981811523,
          -28.10725212097168,
          -26.575054168701172,
          -33.144187927246094,
          -23.01946258544922,
          -30.6270809173584,
          -24.026134490966797,
          -30.132631301879883,
          -26.547964096069336,
          -28.449861526489258,
          -25.04878807067871,
          -25.159250259399414,
          -29.120206832885742,
          -36.67824172973633,
          -41.94291305541992,
          -39.548465728759766,
          -31.6466007232666,
          -40.337310791015625,
          -31.231813430786133,
          -31.00281524658203,
          -38.748226165771484,
          -30.825857162475586,
          -46.66036605834961,
          -33.12628936767578,
          -30.455341339111328,
          -44.80315017700195,
          -32.649879455566406,
          -31.270511627197266,
          -32.431434631347656
         ],
         "yaxis": "y"
        },
        {
         "customdata": [
          [
           "the_law"
          ],
          [
           "decree"
          ],
          [
           "act"
          ],
          [
           "issued"
          ],
          [
           "18/2020"
          ],
          [
           "ordinance"
          ],
          [
           "royal"
          ],
          [
           "30/2020"
          ],
          [
           "coll"
          ],
          [
           "amendments"
          ],
          [
           "the_act"
          ],
          [
           "ministerial"
          ],
          [
           "legislative"
          ],
          [
           "article"
          ],
          [
           "7/2020"
          ],
          [
           "decreelaw"
          ],
          [
           "amending"
          ],
          [
           "decree_law"
          ],
          [
           "9/2020"
          ],
          [
           "101/2020"
          ],
          [
           "10a/2020"
          ],
          [
           "12a/2020"
          ],
          [
           "section"
          ],
          [
           "1992"
          ],
          [
           "the_decree"
          ],
          [
           "4772/2021"
          ],
          [
           "n."
          ],
          [
           "the_decree_law"
          ],
          [
           "cabinet"
          ],
          [
           "25_march"
          ]
         ],
         "hovertemplate": "word_cluster=law<br>X=%{x}<br>Y=%{y}<br>word=%{customdata[0]}<extra></extra>",
         "legendgroup": "law",
         "marker": {
          "color": "#FF97FF",
          "symbol": "circle"
         },
         "mode": "markers",
         "name": "law",
         "orientation": "v",
         "showlegend": true,
         "type": "scatter",
         "x": [
          -57.70803451538086,
          -61.17429733276367,
          -61.20675277709961,
          -58.96171951293945,
          -60.761470794677734,
          -53.68345260620117,
          -59.63102340698242,
          -62.617919921875,
          -57.502010345458984,
          -51.16958999633789,
          -51.650936126708984,
          -57.06786346435547,
          -55.04694366455078,
          -62.76774215698242,
          -63.15590286254883,
          -58.38521194458008,
          -55.0076904296875,
          -62.34120178222656,
          -58.608245849609375,
          -61.26437759399414,
          -59.21415328979492,
          -61.814476013183594,
          -52.76808547973633,
          -63.32475280761719,
          -55.565940856933594,
          -61.28834915161133,
          -56.510032653808594,
          -63.07843780517578,
          -54.53202438354492,
          -58.506290435791016
         ],
         "xaxis": "x",
         "y": [
          34.498817443847656,
          35.32492446899414,
          38.09245681762695,
          36.75546646118164,
          5.243673801422119,
          26.14877700805664,
          30.800914764404297,
          -14.47716236114502,
          9.78938102722168,
          27.09304428100586,
          30.22859764099121,
          6.798132419586182,
          29.490558624267578,
          32.84039306640625,
          -11.267166137695312,
          28.76982307434082,
          32.12532043457031,
          -1.8497258424758911,
          -0.7502850294113159,
          -23.420394897460938,
          0.5635522603988647,
          -21.459138870239258,
          32.8032112121582,
          -8.389270782470703,
          14.989215850830078,
          -29.215744018554688,
          1.1238391399383545,
          -5.298687934875488,
          22.579078674316406,
          3.5411593914031982
         ],
         "yaxis": "y"
        },
        {
         "customdata": [
          [
           "fixed_costs"
          ],
          [
           "rent"
          ],
          [
           "expenses"
          ],
          [
           "working_capital"
          ],
          [
           "grants"
          ],
          [
           "financing"
          ],
          [
           "compensation"
          ],
          [
           "reimbursement"
          ],
          [
           "fixed"
          ],
          [
           "the_costs"
          ],
          [
           "necessary_costs"
          ],
          [
           "allowance"
          ],
          [
           "other_types"
          ],
          [
           "subsidy"
          ],
          [
           "receiving"
          ],
          [
           "basic"
          ],
          [
           "classic"
          ],
          [
           "loans"
          ],
          [
           "allowances"
          ],
          [
           "single_parents"
          ],
          [
           "bridging"
          ],
          [
           "credits"
          ],
          [
           "a_bonus"
          ],
          [
           "utilities"
          ],
          [
           "credit"
          ],
          [
           "guarantees"
          ],
          [
           "wages"
          ],
          [
           "families"
          ],
          [
           "direct_grant_aid"
          ],
          [
           "liquidity"
          ]
         ],
         "hovertemplate": "word_cluster=costs<br>X=%{x}<br>Y=%{y}<br>word=%{customdata[0]}<extra></extra>",
         "legendgroup": "costs",
         "marker": {
          "color": "#FECB52",
          "symbol": "circle"
         },
         "mode": "markers",
         "name": "costs",
         "orientation": "v",
         "showlegend": true,
         "type": "scatter",
         "x": [
          -4.290496826171875,
          39.29206085205078,
          38.7475700378418,
          -2.971306800842285,
          43.69429016113281,
          44.122379302978516,
          49.2052116394043,
          26.80569839477539,
          42.18899917602539,
          15.711257934570312,
          -48.434974670410156,
          47.767478942871094,
          -44.38465118408203,
          47.9810905456543,
          42.986087799072266,
          40.552513122558594,
          -42.5871696472168,
          49.5125846862793,
          21.782506942749023,
          -39.4987907409668,
          -13.578658103942871,
          -5.519871711730957,
          -8.614310264587402,
          -1.8990585803985596,
          46.08369445800781,
          46.55061721801758,
          37.10420227050781,
          36.98095703125,
          -46.728675842285156,
          42.299163818359375
         ],
         "xaxis": "x",
         "y": [
          -45.02023696899414,
          -23.01946258544922,
          -20.33642578125,
          -36.37461471557617,
          -16.25370979309082,
          -14.08564281463623,
          -28.349990844726562,
          -24.97356414794922,
          -26.51592254638672,
          -21.374412536621094,
          -44.104122161865234,
          -28.88563346862793,
          -44.32712173461914,
          -26.39534568786621,
          -23.804988861083984,
          -26.4751033782959,
          -40.97690963745117,
          -14.490363121032715,
          -20.36400604248047,
          -41.87158966064453,
          -44.55477523803711,
          -36.03205108642578,
          -36.63394546508789,
          -37.92239761352539,
          -15.649251937866211,
          -13.599119186401367,
          -24.47812843322754,
          -1.7722119092941284,
          -42.84379959106445,
          -11.644367218017578
         ],
         "yaxis": "y"
        },
        {
         "customdata": [
          [
           "permanent"
          ],
          [
           "fixedterm"
          ],
          [
           "contract"
          ],
          [
           "types"
          ],
          [
           "schemes"
          ],
          [
           "rental"
          ],
          [
           "employment_contracts"
          ],
          [
           "suspension"
          ],
          [
           "property"
          ],
          [
           "and/or"
          ],
          [
           "different"
          ],
          [
           "rights"
          ],
          [
           "operation"
          ],
          [
           "sos"
          ],
          [
           "fundamental"
          ],
          [
           "arrangements"
          ],
          [
           "individual"
          ],
          [
           "replacement"
          ],
          [
           "requirements"
          ],
          [
           "lifting"
          ],
          [
           "educational"
          ],
          [
           "cancellation"
          ],
          [
           "certain"
          ],
          [
           "contracts"
          ],
          [
           "homeless"
          ],
          [
           "the_problems"
          ],
          [
           "hiring"
          ],
          [
           "job"
          ],
          [
           "regime"
          ],
          [
           "all_types"
          ]
         ],
         "hovertemplate": "word_cluster=legal<br>X=%{x}<br>Y=%{y}<br>word=%{customdata[0]}<extra></extra>",
         "legendgroup": "legal",
         "marker": {
          "color": "#636efa",
          "symbol": "circle"
         },
         "mode": "markers",
         "name": "legal",
         "orientation": "v",
         "showlegend": true,
         "type": "scatter",
         "x": [
          31.177461624145508,
          24.084392547607422,
          32.67986297607422,
          16.111286163330078,
          30.590478897094727,
          18.06473731994629,
          -0.7921553254127502,
          31.433582305908203,
          7.146239757537842,
          35.43682098388672,
          28.065143585205078,
          26.090946197509766,
          25.405643463134766,
          -35.93251419067383,
          -25.329967498779297,
          29.5242862701416,
          36.24738693237305,
          12.817654609680176,
          33.273719787597656,
          -5.634210109710693,
          8.885475158691406,
          10.914641380310059,
          36.21491241455078,
          33.37285232543945,
          0.7059872150421143,
          -38.9496955871582,
          27.80124855041504,
          41.43190002441406,
          22.43946647644043,
          -34.93989944458008
         ],
         "xaxis": "x",
         "y": [
          3.5453457832336426,
          -5.131628513336182,
          -12.582271575927734,
          -17.91437530517578,
          7.5728349685668945,
          -14.562477111816406,
          -21.685758590698242,
          -14.110135078430176,
          -15.112876892089844,
          12.468598365783691,
          9.492838859558105,
          6.330653190612793,
          3.4532103538513184,
          -39.00138473510742,
          -24.610902786254883,
          5.3465728759765625,
          7.547958850860596,
          -17.739126205444336,
          1.9267630577087402,
          -23.56389617919922,
          -10.8366117477417,
          -19.937297821044922,
          4.605162143707275,
          -11.174772262573242,
          -24.3017520904541,
          -38.441104888916016,
          -2.045978546142578,
          4.061522483825684,
          -13.525425910949707,
          -37.152915954589844
         ],
         "yaxis": "y"
        },
        {
         "customdata": [
          [
           "businesses"
          ],
          [
           "enterprises"
          ],
          [
           "business"
          ],
          [
           "sectors"
          ],
          [
           "entrepreneurs"
          ],
          [
           "smes"
          ],
          [
           "individuals"
          ],
          [
           "them"
          ],
          [
           "financial"
          ],
          [
           "entrepreneurial_activities"
          ],
          [
           "those_companies"
          ],
          [
           "jobs"
          ],
          [
           "fixed_costs"
          ],
          [
           "different_fiscal_measures"
          ],
          [
           "most"
          ],
          [
           "a_high_percentage"
          ],
          [
           "mass_unemployment"
          ],
          [
           "microentrepreneurs"
          ],
          [
           "people"
          ],
          [
           "solo"
          ],
          [
           "the_following_criteria"
          ],
          [
           "workers"
          ],
          [
           "households"
          ],
          [
           "difficulties"
          ],
          [
           "firms"
          ],
          [
           "large"
          ],
          [
           "legal_instruments"
          ],
          [
           "small_and_medium_sized_enterprises"
          ],
          [
           "farmers"
          ],
          [
           "some"
          ]
         ],
         "hovertemplate": "word_cluster=companies<br>X=%{x}<br>Y=%{y}<br>word=%{customdata[0]}<extra></extra>",
         "legendgroup": "companies",
         "marker": {
          "color": "#EF553B",
          "symbol": "circle"
         },
         "mode": "markers",
         "name": "companies",
         "orientation": "v",
         "showlegend": true,
         "type": "scatter",
         "x": [
          57.21571350097656,
          55.5828857421875,
          53.65151596069336,
          52.44098663330078,
          44.667781829833984,
          46.26969909667969,
          55.22743225097656,
          59.2017822265625,
          59.00681686401367,
          -49.61372756958008,
          -22.468042373657227,
          54.8366813659668,
          -5.278558254241943,
          -52.4801139831543,
          50.27946090698242,
          -50.57958221435547,
          -53.690460205078125,
          -14.648765563964844,
          63.53553771972656,
          39.67463684082031,
          -46.82810592651367,
          63.782470703125,
          35.1963005065918,
          17.25823211669922,
          36.38737869262695,
          42.09062576293945,
          -54.719600677490234,
          -50.92657470703125,
          38.467132568359375,
          44.04107666015625
         ],
         "xaxis": "x",
         "y": [
          16.570592880249023,
          18.231477737426758,
          14.633052825927734,
          19.70085906982422,
          -6.11194372177124,
          -8.832785606384277,
          -5.076426029205322,
          5.85717248916626,
          14.972503662109375,
          -48.97687530517578,
          -43.83604431152344,
          12.31204605102539,
          -45.788604736328125,
          -42.98504638671875,
          21.3577938079834,
          -41.57784652709961,
          -46.043941497802734,
          -27.32236099243164,
          -5.185946941375732,
          -2.661830186843872,
          -48.521549224853516,
          -0.0914250910282135,
          -2.716160297393799,
          12.342119216918945,
          -5.151090145111084,
          -7.827367782592773,
          -43.882911682128906,
          -44.946006774902344,
          -4.006059169769287,
          10.786223411560059
         ],
         "yaxis": "y"
        },
        {
         "customdata": [
          [
           "entertainment"
          ],
          [
           "retail"
          ],
          [
           "construction"
          ],
          [
           "arts"
          ],
          [
           "catering"
          ],
          [
           "textile"
          ],
          [
           "hotels"
          ],
          [
           "machinery"
          ],
          [
           "agricultural"
          ],
          [
           "food"
          ],
          [
           "accommodation"
          ],
          [
           "logistics"
          ],
          [
           "firearms"
          ],
          [
           "leisure"
          ],
          [
           "industrial"
          ],
          [
           "meal_vouchers"
          ],
          [
           "craft"
          ],
          [
           "hospitality"
          ],
          [
           "taxi"
          ],
          [
           "wood"
          ],
          [
           "supermarkets"
          ],
          [
           "water"
          ],
          [
           "airport"
          ],
          [
           "social_enterprises"
          ],
          [
           "nace"
          ],
          [
           "drink"
          ],
          [
           "hk"
          ],
          [
           "pubs"
          ],
          [
           "passenger"
          ],
          [
           "producers"
          ]
         ],
         "hovertemplate": "word_cluster=manufacturing<br>X=%{x}<br>Y=%{y}<br>word=%{customdata[0]}<extra></extra>",
         "legendgroup": "manufacturing",
         "marker": {
          "color": "#00cc96",
          "symbol": "circle"
         },
         "mode": "markers",
         "name": "manufacturing",
         "orientation": "v",
         "showlegend": true,
         "type": "scatter",
         "x": [
          32.16857147216797,
          31.365135192871094,
          30.303733825683594,
          33.28779220581055,
          32.97877883911133,
          -25.662893295288086,
          30.206621170043945,
          -8.573203086853027,
          29.60422706604004,
          33.09504318237305,
          33.66279220581055,
          -5.710257530212402,
          -47.722225189208984,
          -5.492798328399658,
          27.973709106445312,
          -49.041595458984375,
          -11.304337501525879,
          32.9982795715332,
          -3.8971023559570312,
          -23.60626220703125,
          -4.80929708480835,
          27.646099090576172,
          -6.801471710205078,
          -23.723297119140625,
          26.73048973083496,
          -10.27512264251709,
          -10.656392097473145,
          -12.97823429107666,
          12.854573249816895,
          8.96242904663086
         ],
         "xaxis": "x",
         "y": [
          27.487285614013672,
          33.72584533691406,
          26.778715133666992,
          26.11229133605957,
          30.434831619262695,
          -30.96630096435547,
          29.333656311035156,
          -9.476759910583496,
          22.38184356689453,
          34.689388275146484,
          32.366939544677734,
          -12.824657440185547,
          -37.248294830322266,
          -11.015089988708496,
          22.03079605102539,
          -36.008602142333984,
          -9.385290145874023,
          23.22199249267578,
          -9.347206115722656,
          -31.525419235229492,
          -7.064982891082764,
          27.921419143676758,
          -7.6332244873046875,
          -29.669775009155273,
          26.36937141418457,
          -11.067244529724121,
          -7.5064921379089355,
          -10.736808776855469,
          -5.083881855010986,
          -7.364631652832031
         ],
         "yaxis": "y"
        },
        {
         "customdata": [
          [
           "mortgage"
          ],
          [
           "laboratories"
          ],
          [
           "employment_contracts"
          ],
          [
           "replacement"
          ],
          [
           "corporate"
          ],
          [
           "rental"
          ],
          [
           "leasing"
          ],
          [
           "fee"
          ],
          [
           "using"
          ],
          [
           "accounts"
          ],
          [
           "standard"
          ],
          [
           "club"
          ],
          [
           "facility"
          ],
          [
           "scrubs"
          ],
          [
           "pets"
          ],
          [
           "fixedterm"
          ],
          [
           "deployment"
          ],
          [
           "single"
          ],
          [
           "facemasks"
          ],
          [
           "rents"
          ],
          [
           "volunteer"
          ],
          [
           "building"
          ],
          [
           "permanent"
          ],
          [
           "division"
          ],
          [
           "unit"
          ],
          [
           "and/or"
          ],
          [
           "maintenance"
          ],
          [
           "laundry_services"
          ],
          [
           "distribution"
          ],
          [
           "seat"
          ]
         ],
         "hovertemplate": "word_cluster=property<br>X=%{x}<br>Y=%{y}<br>word=%{customdata[0]}<extra></extra>",
         "legendgroup": "property",
         "marker": {
          "color": "#ab63fa",
          "symbol": "circle"
         },
         "mode": "markers",
         "name": "property",
         "orientation": "v",
         "showlegend": true,
         "type": "scatter",
         "x": [
          9.455108642578125,
          -19.899133682250977,
          -1.6729334592819214,
          12.817654609680176,
          11.992043495178223,
          18.10431480407715,
          14.020257949829102,
          19.95162010192871,
          36.056297302246094,
          -4.981225967407227,
          2.123807907104492,
          -16.9680233001709,
          10.106867790222168,
          -21.7888240814209,
          -17.632545471191406,
          22.84836769104004,
          -10.082356452941895,
          18.509368896484375,
          -19.64710807800293,
          15.708985328674316,
          -2.756134510040283,
          15.267475128173828,
          32.05458068847656,
          -11.979022979736328,
          1.9652519226074219,
          34.28650665283203,
          22.962919235229492,
          -50.273338317871094,
          10.054614067077637,
          -7.17698335647583
         ],
         "xaxis": "x",
         "y": [
          -13.536730766296387,
          -34.43670654296875,
          -22.71815299987793,
          -17.739126205444336,
          -12.644132614135742,
          -13.209877967834473,
          -10.640329360961914,
          -10.426301002502441,
          10.017630577087402,
          -25.908668518066406,
          -20.97870635986328,
          -32.0761604309082,
          -16.321636199951172,
          -33.219200134277344,
          -34.369903564453125,
          -5.4285888671875,
          -29.693897247314453,
          -8.933207511901855,
          -32.374237060546875,
          -13.381699562072754,
          -26.755434036254883,
          -3.4635629653930664,
          4.421969413757324,
          -32.494842529296875,
          -17.94024085998535,
          11.883185386657715,
          -0.6468924283981323,
          -38.16691207885742,
          -4.20337438583374,
          -26.386783599853516
         ],
         "yaxis": "y"
        }
       ],
       "layout": {
        "legend": {
         "title": {
          "text": "word_cluster"
         },
         "tracegroupgap": 0
        },
        "margin": {
         "t": 60
        },
        "template": {
         "data": {
          "bar": [
           {
            "error_x": {
             "color": "#2a3f5f"
            },
            "error_y": {
             "color": "#2a3f5f"
            },
            "marker": {
             "line": {
              "color": "#E5ECF6",
              "width": 0.5
             },
             "pattern": {
              "fillmode": "overlay",
              "size": 10,
              "solidity": 0.2
             }
            },
            "type": "bar"
           }
          ],
          "barpolar": [
           {
            "marker": {
             "line": {
              "color": "#E5ECF6",
              "width": 0.5
             },
             "pattern": {
              "fillmode": "overlay",
              "size": 10,
              "solidity": 0.2
             }
            },
            "type": "barpolar"
           }
          ],
          "carpet": [
           {
            "aaxis": {
             "endlinecolor": "#2a3f5f",
             "gridcolor": "white",
             "linecolor": "white",
             "minorgridcolor": "white",
             "startlinecolor": "#2a3f5f"
            },
            "baxis": {
             "endlinecolor": "#2a3f5f",
             "gridcolor": "white",
             "linecolor": "white",
             "minorgridcolor": "white",
             "startlinecolor": "#2a3f5f"
            },
            "type": "carpet"
           }
          ],
          "choropleth": [
           {
            "colorbar": {
             "outlinewidth": 0,
             "ticks": ""
            },
            "type": "choropleth"
           }
          ],
          "contour": [
           {
            "colorbar": {
             "outlinewidth": 0,
             "ticks": ""
            },
            "colorscale": [
             [
              0.0,
              "#0d0887"
             ],
             [
              0.1111111111111111,
              "#46039f"
             ],
             [
              0.2222222222222222,
              "#7201a8"
             ],
             [
              0.3333333333333333,
              "#9c179e"
             ],
             [
              0.4444444444444444,
              "#bd3786"
             ],
             [
              0.5555555555555556,
              "#d8576b"
             ],
             [
              0.6666666666666666,
              "#ed7953"
             ],
             [
              0.7777777777777778,
              "#fb9f3a"
             ],
             [
              0.8888888888888888,
              "#fdca26"
             ],
             [
              1.0,
              "#f0f921"
             ]
            ],
            "type": "contour"
           }
          ],
          "contourcarpet": [
           {
            "colorbar": {
             "outlinewidth": 0,
             "ticks": ""
            },
            "type": "contourcarpet"
           }
          ],
          "heatmap": [
           {
            "colorbar": {
             "outlinewidth": 0,
             "ticks": ""
            },
            "colorscale": [
             [
              0.0,
              "#0d0887"
             ],
             [
              0.1111111111111111,
              "#46039f"
             ],
             [
              0.2222222222222222,
              "#7201a8"
             ],
             [
              0.3333333333333333,
              "#9c179e"
             ],
             [
              0.4444444444444444,
              "#bd3786"
             ],
             [
              0.5555555555555556,
              "#d8576b"
             ],
             [
              0.6666666666666666,
              "#ed7953"
             ],
             [
              0.7777777777777778,
              "#fb9f3a"
             ],
             [
              0.8888888888888888,
              "#fdca26"
             ],
             [
              1.0,
              "#f0f921"
             ]
            ],
            "type": "heatmap"
           }
          ],
          "heatmapgl": [
           {
            "colorbar": {
             "outlinewidth": 0,
             "ticks": ""
            },
            "colorscale": [
             [
              0.0,
              "#0d0887"
             ],
             [
              0.1111111111111111,
              "#46039f"
             ],
             [
              0.2222222222222222,
              "#7201a8"
             ],
             [
              0.3333333333333333,
              "#9c179e"
             ],
             [
              0.4444444444444444,
              "#bd3786"
             ],
             [
              0.5555555555555556,
              "#d8576b"
             ],
             [
              0.6666666666666666,
              "#ed7953"
             ],
             [
              0.7777777777777778,
              "#fb9f3a"
             ],
             [
              0.8888888888888888,
              "#fdca26"
             ],
             [
              1.0,
              "#f0f921"
             ]
            ],
            "type": "heatmapgl"
           }
          ],
          "histogram": [
           {
            "marker": {
             "pattern": {
              "fillmode": "overlay",
              "size": 10,
              "solidity": 0.2
             }
            },
            "type": "histogram"
           }
          ],
          "histogram2d": [
           {
            "colorbar": {
             "outlinewidth": 0,
             "ticks": ""
            },
            "colorscale": [
             [
              0.0,
              "#0d0887"
             ],
             [
              0.1111111111111111,
              "#46039f"
             ],
             [
              0.2222222222222222,
              "#7201a8"
             ],
             [
              0.3333333333333333,
              "#9c179e"
             ],
             [
              0.4444444444444444,
              "#bd3786"
             ],
             [
              0.5555555555555556,
              "#d8576b"
             ],
             [
              0.6666666666666666,
              "#ed7953"
             ],
             [
              0.7777777777777778,
              "#fb9f3a"
             ],
             [
              0.8888888888888888,
              "#fdca26"
             ],
             [
              1.0,
              "#f0f921"
             ]
            ],
            "type": "histogram2d"
           }
          ],
          "histogram2dcontour": [
           {
            "colorbar": {
             "outlinewidth": 0,
             "ticks": ""
            },
            "colorscale": [
             [
              0.0,
              "#0d0887"
             ],
             [
              0.1111111111111111,
              "#46039f"
             ],
             [
              0.2222222222222222,
              "#7201a8"
             ],
             [
              0.3333333333333333,
              "#9c179e"
             ],
             [
              0.4444444444444444,
              "#bd3786"
             ],
             [
              0.5555555555555556,
              "#d8576b"
             ],
             [
              0.6666666666666666,
              "#ed7953"
             ],
             [
              0.7777777777777778,
              "#fb9f3a"
             ],
             [
              0.8888888888888888,
              "#fdca26"
             ],
             [
              1.0,
              "#f0f921"
             ]
            ],
            "type": "histogram2dcontour"
           }
          ],
          "mesh3d": [
           {
            "colorbar": {
             "outlinewidth": 0,
             "ticks": ""
            },
            "type": "mesh3d"
           }
          ],
          "parcoords": [
           {
            "line": {
             "colorbar": {
              "outlinewidth": 0,
              "ticks": ""
             }
            },
            "type": "parcoords"
           }
          ],
          "pie": [
           {
            "automargin": true,
            "type": "pie"
           }
          ],
          "scatter": [
           {
            "marker": {
             "colorbar": {
              "outlinewidth": 0,
              "ticks": ""
             }
            },
            "type": "scatter"
           }
          ],
          "scatter3d": [
           {
            "line": {
             "colorbar": {
              "outlinewidth": 0,
              "ticks": ""
             }
            },
            "marker": {
             "colorbar": {
              "outlinewidth": 0,
              "ticks": ""
             }
            },
            "type": "scatter3d"
           }
          ],
          "scattercarpet": [
           {
            "marker": {
             "colorbar": {
              "outlinewidth": 0,
              "ticks": ""
             }
            },
            "type": "scattercarpet"
           }
          ],
          "scattergeo": [
           {
            "marker": {
             "colorbar": {
              "outlinewidth": 0,
              "ticks": ""
             }
            },
            "type": "scattergeo"
           }
          ],
          "scattergl": [
           {
            "marker": {
             "colorbar": {
              "outlinewidth": 0,
              "ticks": ""
             }
            },
            "type": "scattergl"
           }
          ],
          "scattermapbox": [
           {
            "marker": {
             "colorbar": {
              "outlinewidth": 0,
              "ticks": ""
             }
            },
            "type": "scattermapbox"
           }
          ],
          "scatterpolar": [
           {
            "marker": {
             "colorbar": {
              "outlinewidth": 0,
              "ticks": ""
             }
            },
            "type": "scatterpolar"
           }
          ],
          "scatterpolargl": [
           {
            "marker": {
             "colorbar": {
              "outlinewidth": 0,
              "ticks": ""
             }
            },
            "type": "scatterpolargl"
           }
          ],
          "scatterternary": [
           {
            "marker": {
             "colorbar": {
              "outlinewidth": 0,
              "ticks": ""
             }
            },
            "type": "scatterternary"
           }
          ],
          "surface": [
           {
            "colorbar": {
             "outlinewidth": 0,
             "ticks": ""
            },
            "colorscale": [
             [
              0.0,
              "#0d0887"
             ],
             [
              0.1111111111111111,
              "#46039f"
             ],
             [
              0.2222222222222222,
              "#7201a8"
             ],
             [
              0.3333333333333333,
              "#9c179e"
             ],
             [
              0.4444444444444444,
              "#bd3786"
             ],
             [
              0.5555555555555556,
              "#d8576b"
             ],
             [
              0.6666666666666666,
              "#ed7953"
             ],
             [
              0.7777777777777778,
              "#fb9f3a"
             ],
             [
              0.8888888888888888,
              "#fdca26"
             ],
             [
              1.0,
              "#f0f921"
             ]
            ],
            "type": "surface"
           }
          ],
          "table": [
           {
            "cells": {
             "fill": {
              "color": "#EBF0F8"
             },
             "line": {
              "color": "white"
             }
            },
            "header": {
             "fill": {
              "color": "#C8D4E3"
             },
             "line": {
              "color": "white"
             }
            },
            "type": "table"
           }
          ]
         },
         "layout": {
          "annotationdefaults": {
           "arrowcolor": "#2a3f5f",
           "arrowhead": 0,
           "arrowwidth": 1
          },
          "autotypenumbers": "strict",
          "coloraxis": {
           "colorbar": {
            "outlinewidth": 0,
            "ticks": ""
           }
          },
          "colorscale": {
           "diverging": [
            [
             0,
             "#8e0152"
            ],
            [
             0.1,
             "#c51b7d"
            ],
            [
             0.2,
             "#de77ae"
            ],
            [
             0.3,
             "#f1b6da"
            ],
            [
             0.4,
             "#fde0ef"
            ],
            [
             0.5,
             "#f7f7f7"
            ],
            [
             0.6,
             "#e6f5d0"
            ],
            [
             0.7,
             "#b8e186"
            ],
            [
             0.8,
             "#7fbc41"
            ],
            [
             0.9,
             "#4d9221"
            ],
            [
             1,
             "#276419"
            ]
           ],
           "sequential": [
            [
             0.0,
             "#0d0887"
            ],
            [
             0.1111111111111111,
             "#46039f"
            ],
            [
             0.2222222222222222,
             "#7201a8"
            ],
            [
             0.3333333333333333,
             "#9c179e"
            ],
            [
             0.4444444444444444,
             "#bd3786"
            ],
            [
             0.5555555555555556,
             "#d8576b"
            ],
            [
             0.6666666666666666,
             "#ed7953"
            ],
            [
             0.7777777777777778,
             "#fb9f3a"
            ],
            [
             0.8888888888888888,
             "#fdca26"
            ],
            [
             1.0,
             "#f0f921"
            ]
           ],
           "sequentialminus": [
            [
             0.0,
             "#0d0887"
            ],
            [
             0.1111111111111111,
             "#46039f"
            ],
            [
             0.2222222222222222,
             "#7201a8"
            ],
            [
             0.3333333333333333,
             "#9c179e"
            ],
            [
             0.4444444444444444,
             "#bd3786"
            ],
            [
             0.5555555555555556,
             "#d8576b"
            ],
            [
             0.6666666666666666,
             "#ed7953"
            ],
            [
             0.7777777777777778,
             "#fb9f3a"
            ],
            [
             0.8888888888888888,
             "#fdca26"
            ],
            [
             1.0,
             "#f0f921"
            ]
           ]
          },
          "colorway": [
           "#636efa",
           "#EF553B",
           "#00cc96",
           "#ab63fa",
           "#FFA15A",
           "#19d3f3",
           "#FF6692",
           "#B6E880",
           "#FF97FF",
           "#FECB52"
          ],
          "font": {
           "color": "#2a3f5f"
          },
          "geo": {
           "bgcolor": "white",
           "lakecolor": "white",
           "landcolor": "#E5ECF6",
           "showlakes": true,
           "showland": true,
           "subunitcolor": "white"
          },
          "hoverlabel": {
           "align": "left"
          },
          "hovermode": "closest",
          "mapbox": {
           "style": "light"
          },
          "paper_bgcolor": "white",
          "plot_bgcolor": "#E5ECF6",
          "polar": {
           "angularaxis": {
            "gridcolor": "white",
            "linecolor": "white",
            "ticks": ""
           },
           "bgcolor": "#E5ECF6",
           "radialaxis": {
            "gridcolor": "white",
            "linecolor": "white",
            "ticks": ""
           }
          },
          "scene": {
           "xaxis": {
            "backgroundcolor": "#E5ECF6",
            "gridcolor": "white",
            "gridwidth": 2,
            "linecolor": "white",
            "showbackground": true,
            "ticks": "",
            "zerolinecolor": "white"
           },
           "yaxis": {
            "backgroundcolor": "#E5ECF6",
            "gridcolor": "white",
            "gridwidth": 2,
            "linecolor": "white",
            "showbackground": true,
            "ticks": "",
            "zerolinecolor": "white"
           },
           "zaxis": {
            "backgroundcolor": "#E5ECF6",
            "gridcolor": "white",
            "gridwidth": 2,
            "linecolor": "white",
            "showbackground": true,
            "ticks": "",
            "zerolinecolor": "white"
           }
          },
          "shapedefaults": {
           "line": {
            "color": "#2a3f5f"
           }
          },
          "ternary": {
           "aaxis": {
            "gridcolor": "white",
            "linecolor": "white",
            "ticks": ""
           },
           "baxis": {
            "gridcolor": "white",
            "linecolor": "white",
            "ticks": ""
           },
           "bgcolor": "#E5ECF6",
           "caxis": {
            "gridcolor": "white",
            "linecolor": "white",
            "ticks": ""
           }
          },
          "title": {
           "x": 0.05
          },
          "xaxis": {
           "automargin": true,
           "gridcolor": "white",
           "linecolor": "white",
           "ticks": "",
           "title": {
            "standoff": 15
           },
           "zerolinecolor": "white",
           "zerolinewidth": 2
          },
          "yaxis": {
           "automargin": true,
           "gridcolor": "white",
           "linecolor": "white",
           "ticks": "",
           "title": {
            "standoff": 15
           },
           "zerolinecolor": "white",
           "zerolinewidth": 2
          }
         }
        },
        "xaxis": {
         "anchor": "y",
         "domain": [
          0.0,
          1.0
         ],
         "title": {
          "text": "X"
         }
        },
        "yaxis": {
         "anchor": "x",
         "domain": [
          0.0,
          1.0
         ],
         "title": {
          "text": "Y"
         }
        }
       }
      },
      "text/html": "<div>                            <div id=\"78358e1a-30c7-4bf7-bc79-eefbc84bc7b8\" class=\"plotly-graph-div\" style=\"height:525px; width:100%;\"></div>            <script type=\"text/javascript\">                require([\"plotly\"], function(Plotly) {                    window.PLOTLYENV=window.PLOTLYENV || {};                                    if (document.getElementById(\"78358e1a-30c7-4bf7-bc79-eefbc84bc7b8\")) {                    Plotly.newPlot(                        \"78358e1a-30c7-4bf7-bc79-eefbc84bc7b8\",                        [{\"customdata\":[[\"the_president\"],[\"the_republic\"],[\"republic\"],[\"ministers\"],[\"2/2015\"],[\"the_legislative_act\"],[\"the_council\"],[\"cabinet\"],[\"the_general_directorate\"],[\"ministry\"],[\"parliament\"],[\"the_cabinet\"],[\"prime\"],[\".the\"],[\"croatia\"],[\"70a/2020\"],[\"minister\"],[\"health_and_social_care_employees\"],[\"206/2020\"],[\"30/2020\"],[\"commission\"],[\"tourist_and_travel_agencies\"],[\"royal\"],[\"the_decree\"],[\"interior\"],[\"lithuania\"],[\"legislative\"],[\"the_free_trade_union_confederation\"],[\"34,131\"],[\"annotation\"]],\"hovertemplate\":\"word_cluster=president<br>X=%{x}<br>Y=%{y}<br>word=%{customdata[0]}<extra></extra>\",\"legendgroup\":\"president\",\"marker\":{\"color\":\"#636efa\",\"symbol\":\"circle\"},\"mode\":\"markers\",\"name\":\"president\",\"orientation\":\"v\",\"showlegend\":true,\"type\":\"scatter\",\"x\":[-53.156219482421875,-51.49818420410156,-52.02194595336914,-56.079097747802734,-57.44021987915039,-51.84261703491211,-57.4566650390625,-55.62345504760742,-55.147682189941406,-51.76082992553711,-51.689842224121094,-55.415470123291016,-52.344932556152344,-57.477561950683594,-45.0477409362793,-59.32526779174805,-53.237796783447266,-57.879005432128906,-59.51786422729492,-63.94317626953125,-47.0413703918457,-56.58768844604492,-58.17462158203125,-56.707550048828125,-51.02519607543945,-50.383575439453125,-53.83841323852539,-57.00423812866211,-58.80183792114258,-58.97649383544922],\"xaxis\":\"x\",\"y\":[16.7557315826416,38.53874588012695,40.23429489135742,38.594539642333984,-11.785418510437012,-5.427036762237549,25.12784194946289,21.653396606445312,-12.787104606628418,43.59408187866211,21.4735164642334,18.10454559326172,11.70317554473877,-25.721708297729492,33.447208404541016,-10.288232803344727,43.32408905029297,-29.66765594482422,-12.270426750183105,-14.196087837219238,31.7617130279541,-28.086566925048828,31.332813262939453,15.58360481262207,12.924749374389648,37.04531478881836,29.899028778076172,-7.780318737030029,-27.584239959716797,-15.803720474243164],\"yaxis\":\"y\"},{\"customdata\":[[\"the_covid19_pandemics\"],[\"anticrisis\"],[\"mitigation\"],[\"shield\"],[\"the_governments\"],[\"reacteu\"],[\"the_legislative_act\"],[\"this_question\"],[\"i\"],[\"global\"],[\"the_economic_effects\"],[\"ii\"],[\"2009\"],[\"the_intervention_measures\"],[\"the_\\\"emergency_contingency_measures\"],[\"powers\"],[\"ziuopdve\"],[\"commission\"],[\"the_background\"],[\"decreed\"],[\"3.1\"],[\"sarscov2\"],[\"socalled\"],[\"the_autonomy\"],[\"2020:22\"],[\"valmiuslaki\"],[\"accomodationhttps://static.eurofound.europa.eu/covid19db/cases/cz2020371260\"],[\"remedy\"],[\"background\"],[\"the_evolution\"]],\"hovertemplate\":\"word_cluster=covid<br>X=%{x}<br>Y=%{y}<br>word=%{customdata[0]}<extra></extra>\",\"legendgroup\":\"covid\",\"marker\":{\"color\":\"#EF553B\",\"symbol\":\"circle\"},\"mode\":\"markers\",\"name\":\"covid\",\"orientation\":\"v\",\"showlegend\":true,\"type\":\"scatter\",\"x\":[-43.39636993408203,-28.500795364379883,-29.179336547851562,-30.146587371826172,-29.539230346679688,-54.378273010253906,-53.095848083496094,-53.242919921875,-39.81361770629883,-23.994361877441406,-38.0936164855957,-39.652076721191406,-41.59560012817383,-27.8326358795166,-51.9761962890625,-48.89289093017578,-50.64363098144531,-47.57602310180664,-31.364919662475586,-45.64684295654297,-54.41254806518555,-21.91932487487793,-26.839826583862305,-51.34798049926758,-57.00580978393555,-52.30609893798828,-56.2426872253418,-31.7712459564209,-29.25146484375,-49.0504150390625],\"xaxis\":\"x\",\"y\":[-11.046920776367188,16.4570369720459,3.3397107124328613,17.74162483215332,7.64462947845459,-20.920982360839844,-5.19148063659668,-39.671852111816406,31.6552791595459,14.237883567810059,-11.341665267944336,30.060012817382812,-7.901697158813477,7.334960460662842,-21.055973052978516,-3.137101888656616,-14.624488830566406,32.9486083984375,-0.4976043701171875,-9.633810043334961,-15.93234634399414,12.367802619934082,16.525299072265625,-17.80900764465332,-17.408191680908203,-2.387681484222412,-22.393653869628906,4.506128311157227,11.21611499786377,-14.20005989074707],\"yaxis\":\"y\"},{\"customdata\":[[\"impacts\"],[\"downs\"],[\"exclusion\"],[\"hardship\"],[\"the_background\"],[\"economic_vulnerability\"],[\"the_covid19_virus\"],[\"policy\"],[\"fighting\"],[\"epidemiological\"],[\"the_economic_crisis\"],[\"vulnerability\"],[\"protection\"],[\"the_legislative_act_20_march_2020_urgent_measures\"],[\"coping\"],[\"the_economic_effects\"],[\"infection_control_measures\"],[\"the_expansion\"],[\"existential\"],[\"the_economic_consequences\"],[\"the_covid19\"],[\"action\"],[\"lockdowns\"],[\"government_regulations\"],[\"situations\"],[\"effects\"],[\"nationallevel\"],[\"the_coronavirus_crisis\"],[\"critical\"],[\"alleviating\"]],\"hovertemplate\":\"word_cluster=economic<br>X=%{x}<br>Y=%{y}<br>word=%{customdata[0]}<extra></extra>\",\"legendgroup\":\"economic\",\"marker\":{\"color\":\"#00cc96\",\"symbol\":\"circle\"},\"mode\":\"markers\",\"name\":\"economic\",\"orientation\":\"v\",\"showlegend\":true,\"type\":\"scatter\",\"x\":[-25.644704818725586,-53.69379425048828,-23.238924026489258,-23.05000114440918,-30.823366165161133,-51.063846588134766,-34.1731071472168,5.886388301849365,-48.01237869262695,-23.149673461914062,-42.082557678222656,-26.353803634643555,12.066088676452637,-45.8676872253418,-33.95747375488281,-39.33500671386719,-43.07876968383789,-38.08650207519531,-53.634063720703125,-35.81789779663086,-8.243439674377441,5.019165992736816,-27.95308494567871,-54.21956253051758,13.285737037658691,-8.092851638793945,-54.62285614013672,-31.45498275756836,-0.5846615433692932,-45.18777084350586],\"xaxis\":\"x\",\"y\":[5.9874267578125,-29.062294006347656,0.8332066535949707,5.264937877655029,-1.6656984090805054,-23.812517166137695,-7.537662506103516,24.66693878173828,-21.92363929748535,10.812873840332031,-18.078353881835938,-3.44690203666687,27.845836639404297,-19.351701736450195,-2.378103256225586,-11.257706642150879,-20.79034996032715,-14.410200119018555,-35.5145149230957,-9.593794822692871,26.736555099487305,22.30179786682129,-0.058370787650346756,-37.972412109375,11.43758487701416,39.028961181640625,-32.47378921508789,-5.645364761352539,15.934531211853027,-24.491151809692383],\"yaxis\":\"y\"},{\"customdata\":[[\"working_conditions\"],[\"the_country\"],[\"the_collectives\"],[\"snack\"],[\"course\"],[\"demand\"],[\"seasonal_workers\"],[\"uk\"],[\"season\"],[\"the_decline\"],[\"workforce\"],[\"event\"],[\"manufacturers\"],[\"region\"],[\"potential\"],[\"the_activity\"],[\"unprecedented\"],[\"parts\"],[\"the_unemployment_allowance_deductible_period\"],[\"ervia\"],[\"future\"],[\"operations\"],[\"the_market\"],[\"area\"],[\"respect\"],[\"independent_workers\"],[\"group\"],[\"companys\"],[\"covid19_crisis\"],[\"the_labour_market\"]],\"hovertemplate\":\"word_cluster=country<br>X=%{x}<br>Y=%{y}<br>word=%{customdata[0]}<extra></extra>\",\"legendgroup\":\"country\",\"marker\":{\"color\":\"#ab63fa\",\"symbol\":\"circle\"},\"mode\":\"markers\",\"name\":\"country\",\"orientation\":\"v\",\"showlegend\":true,\"type\":\"scatter\",\"x\":[-9.285246849060059,11.469608306884766,-51.78113555908203,-27.781312942504883,-10.141777038574219,14.13273811340332,-14.962711334228516,12.558712005615234,-7.345234394073486,-33.78194808959961,10.850547790527344,18.397520065307617,-24.240406036376953,5.77571964263916,9.342257499694824,6.844353675842285,-31.50360679626465,5.129720211029053,-50.0719108581543,-17.658090591430664,16.507116317749023,32.0441780090332,-1.576464295387268,15.757464408874512,17.793394088745117,-27.35087013244629,26.537961959838867,8.451412200927734,-29.146053314208984,7.775509834289551],\"xaxis\":\"x\",\"y\":[-21.231117248535156,6.637535095214844,-33.912418365478516,-35.704654693603516,-18.98246192932129,5.715306758880615,-24.688840866088867,2.956171751022339,-21.62864112854004,-16.80205726623535,1.3472355604171753,2.533855438232422,-35.86837387084961,-2.3072705268859863,3.4112682342529297,0.5096305012702942,-16.157672882080078,1.6380685567855835,-32.58494567871094,-25.273649215698242,5.085591793060303,-2.608473539352417,-6.308305263519287,0.5554320216178894,-0.220307394862175,-37.108070373535156,11.916406631469727,1.1586639881134033,-9.889164924621582,7.020473957061768],\"yaxis\":\"y\"},{\"customdata\":[[\"employees\"],[\"groups\"],[\"staff\"],[\"persons\"],[\"those\"],[\"personnel\"],[\"conditions\"],[\"customers\"],[\"people\"],[\"all\"],[\"covid19_patients\"],[\"them\"],[\"sectors\"],[\"roles\"],[\"individuals\"],[\"the_people\"],[\"care\"],[\"parents\"],[\"the_private_sector\"],[\"need\"],[\"prospects\"],[\"covid19_risks\"],[\"employers\"],[\"those_companies\"],[\"looking\"],[\"unemployed\"],[\"seasonal_employees\"],[\"all_workers\"],[\"other\"],[\"activities\"]],\"hovertemplate\":\"word_cluster=workers<br>X=%{x}<br>Y=%{y}<br>word=%{customdata[0]}<extra></extra>\",\"legendgroup\":\"workers\",\"marker\":{\"color\":\"#FFA15A\",\"symbol\":\"circle\"},\"mode\":\"markers\",\"name\":\"workers\",\"orientation\":\"v\",\"showlegend\":true,\"type\":\"scatter\",\"x\":[62.32875442504883,46.976436614990234,50.226234436035156,59.217838287353516,59.89198684692383,43.727325439453125,45.93256378173828,45.506717681884766,62.864009857177734,63.76347732543945,-28.861446380615234,58.72512435913086,52.44098663330078,-28.99740982055664,53.97892379760742,-28.223703384399414,51.539947509765625,53.691131591796875,-12.97508716583252,56.91302490234375,-27.053434371948242,-54.47648620605469,65.16622161865234,-22.70138931274414,-0.4442443549633026,55.50761032104492,-41.039276123046875,-4.013922214508057,49.144081115722656,51.98442840576172],\"xaxis\":\"x\",\"y\":[0.4149230122566223,4.627602577209473,5.281993865966797,-4.925871849060059,-3.4388766288757324,5.64694881439209,1.9847735166549683,7.017569065093994,-6.33528995513916,7.151251792907715,-45.7794189453125,4.666906833648682,19.70085906982422,-43.5689811706543,-5.123871803283691,-47.07651901245117,3.220597743988037,-2.2789454460144043,-22.603195190429688,6.1129231452941895,-41.91322708129883,-41.77986526489258,7.553401947021484,-45.013145446777344,-29.275190353393555,-2.049417495727539,-37.61604309082031,-30.293678283691406,7.88751745223999,14.690635681152344],\"yaxis\":\"y\"},{\"customdata\":[[\"safety\"],[\"the_workplaces\"],[\"protection\"],[\"occupational_health\"],[\"occupational\"],[\"public\"],[\"wellbeing\"],[\"minimum_income_protection\"],[\"the_protection\"],[\"prevention\"],[\"workers_health\"],[\"the_health\"],[\"rescue\"],[\"integration\"],[\"smooth\"],[\"hygiene\"],[\"workplaces\"],[\"proclaim\"],[\"investigation\"],[\"employees'_health\"],[\"the_covid19_epidemic\"],[\"the_strict_minimum\"],[\"older_people\"],[\"the_policy_unit\"],[\"family\"],[\"waterways\"],[\"upturn\"],[\"social_exclusion\"],[\"reopening\"],[\"issues\"]],\"hovertemplate\":\"word_cluster=health<br>X=%{x}<br>Y=%{y}<br>word=%{customdata[0]}<extra></extra>\",\"legendgroup\":\"health\",\"marker\":{\"color\":\"#19d3f3\",\"symbol\":\"circle\"},\"mode\":\"markers\",\"name\":\"health\",\"orientation\":\"v\",\"showlegend\":true,\"type\":\"scatter\",\"x\":[15.048687934875488,-31.405765533447266,12.879281997680664,-33.09211349487305,11.055313110351562,16.852563858032227,6.679135799407959,-61.68923568725586,-0.5276428461074829,9.837959289550781,-29.21491050720215,4.514297008514404,-21.547496795654297,1.8424763679504395,-19.151546478271484,9.81534194946289,8.769631385803223,-61.916168212890625,-34.145809173583984,-57.50312805175781,-6.622225761413574,-55.66377258300781,-29.4576358795166,-58.24428176879883,23.847124099731445,-30.89615821838379,-57.72954559326172,-27.713621139526367,-1.9045921564102173,11.28341007232666],\"xaxis\":\"x\",\"y\":[26.109655380249023,-24.984386444091797,28.787206649780273,-27.99388313293457,21.517976760864258,25.612564086914062,14.373414993286133,-37.94334411621094,12.99581527709961,23.650014877319336,-25.158002853393555,14.825678825378418,-1.474479079246521,12.42061996459961,-2.7251076698303223,17.40481185913086,13.69365119934082,-36.08174133300781,-23.480655670166016,-37.27473831176758,23.807931900024414,-39.8343391418457,-27.40270233154297,-40.34739303588867,7.366666316986084,-28.90871238708496,-35.25870895385742,-24.307735443115234,11.929591178894043,19.701824188232422],\"yaxis\":\"y\"},{\"customdata\":[[\"pandemic\"],[\"the_pandemic\"],[\"the_crisis\"],[\"the_covid19_crisis\"],[\"corona\"],[\"outbreak\"],[\"virus\"],[\"the_covid19_pandemic\"],[\"epidemic\"],[\"coronavirus\"],[\"the_health_crisis\"],[\"situation\"],[\"the_corona_crisis\"],[\"the_coronavirus\"],[\"infection_control_measures\"],[\"the_outbreak\"],[\"covid19_crisis\"],[\"turning\"],[\"negative\"],[\"the_coronavirus_crisis\"],[\"impact\"],[\"the_virus\"],[\"current\"],[\"spread\"],[\"the_covid19\"],[\"restrictions\"],[\"the_second_wave\"],[\"caused\"],[\"the_new_restrictive_measures\"],[\"infection\"]],\"hovertemplate\":\"word_cluster=crisis<br>X=%{x}<br>Y=%{y}<br>word=%{customdata[0]}<extra></extra>\",\"legendgroup\":\"crisis\",\"marker\":{\"color\":\"#FF6692\",\"symbol\":\"circle\"},\"mode\":\"markers\",\"name\":\"crisis\",\"orientation\":\"v\",\"showlegend\":true,\"type\":\"scatter\",\"x\":[-7.327561855316162,-3.299487352371216,-1.2637107372283936,-2.8463363647460938,-5.24451208114624,-5.405770778656006,-5.075098991394043,-5.200514316558838,-4.393265724182129,-7.313754558563232,-11.776363372802734,-1.9092670679092407,-13.346909523010254,-10.0419340133667,-44.1942253112793,-11.590014457702637,-29.146053314208984,-42.1971435546875,-7.639726161956787,-31.064735412597656,-8.131928443908691,-10.499720573425293,-2.317641496658325,-9.05762767791748,-8.243439674377441,-1.9466705322265625,-27.40700912475586,-10.52221393585205,-45.592254638671875,-5.04610538482666],\"xaxis\":\"x\",\"y\":[49.0912971496582,45.739295959472656,44.38661193847656,43.29229736328125,44.41423034667969,40.817440032958984,37.306427001953125,46.948001861572266,39.23842239379883,45.21836471557617,20.22844886779785,48.44383239746094,24.463451385498047,27.97875213623047,-21.446382522583008,25.83388900756836,-9.889164924621582,-23.544864654541016,30.623836517333984,-6.965338706970215,36.15116500854492,21.363859176635742,37.64306640625,41.53166198730469,26.736555099487305,40.20455551147461,-6.234593391418457,44.5265007019043,-26.222261428833008,35.39644241333008],\"yaxis\":\"y\"},{\"customdata\":[[\"taxes\"],[\"payment\"],[\"payments\"],[\"deferral\"],[\"installments\"],[\"rent\"],[\"interest\"],[\"the_payment\"],[\"vat\"],[\"social_security_contributions\"],[\"repayment\"],[\"advance\"],[\"exemption\"],[\"a_period\"],[\"social_contributions\"],[\"tax_payments\"],[\"lumpsum\"],[\"income\"],[\"0.1\"],[\"six_months\"],[\"deadline\"],[\"deduction\"],[\"rate\"],[\"recalculated\"],[\"instalments\"],[\"salary\"],[\"deferred_payment\"],[\"monthly\"],[\"partial_activity\"],[\"deferred\"]],\"hovertemplate\":\"word_cluster=tax<br>X=%{x}<br>Y=%{y}<br>word=%{customdata[0]}<extra></extra>\",\"legendgroup\":\"tax\",\"marker\":{\"color\":\"#B6E880\",\"symbol\":\"circle\"},\"mode\":\"markers\",\"name\":\"tax\",\"orientation\":\"v\",\"showlegend\":true,\"type\":\"scatter\",\"x\":[31.92304229736328,47.33804702758789,35.9693717956543,29.545700073242188,16.940927505493164,39.29206085205078,37.94173812866211,30.155324935913086,30.86187171936035,22.534727096557617,28.01228904724121,22.830848693847656,20.25811767578125,25.42078971862793,0.5423005819320679,-12.095806121826172,-7.965682029724121,50.26396560668945,-12.775653839111328,17.34736442565918,19.59865379333496,-11.420469284057617,40.387428283691406,-40.17704772949219,13.039329528808594,42.546539306640625,-41.25890350341797,42.8182487487793,15.119641304016113,26.842947006225586],\"xaxis\":\"x\",\"y\":[-28.215240478515625,-31.676671981811523,-28.10725212097168,-26.575054168701172,-33.144187927246094,-23.01946258544922,-30.6270809173584,-24.026134490966797,-30.132631301879883,-26.547964096069336,-28.449861526489258,-25.04878807067871,-25.159250259399414,-29.120206832885742,-36.67824172973633,-41.94291305541992,-39.548465728759766,-31.6466007232666,-40.337310791015625,-31.231813430786133,-31.00281524658203,-38.748226165771484,-30.825857162475586,-46.66036605834961,-33.12628936767578,-30.455341339111328,-44.80315017700195,-32.649879455566406,-31.270511627197266,-32.431434631347656],\"yaxis\":\"y\"},{\"customdata\":[[\"the_law\"],[\"decree\"],[\"act\"],[\"issued\"],[\"18/2020\"],[\"ordinance\"],[\"royal\"],[\"30/2020\"],[\"coll\"],[\"amendments\"],[\"the_act\"],[\"ministerial\"],[\"legislative\"],[\"article\"],[\"7/2020\"],[\"decreelaw\"],[\"amending\"],[\"decree_law\"],[\"9/2020\"],[\"101/2020\"],[\"10a/2020\"],[\"12a/2020\"],[\"section\"],[\"1992\"],[\"the_decree\"],[\"4772/2021\"],[\"n.\"],[\"the_decree_law\"],[\"cabinet\"],[\"25_march\"]],\"hovertemplate\":\"word_cluster=law<br>X=%{x}<br>Y=%{y}<br>word=%{customdata[0]}<extra></extra>\",\"legendgroup\":\"law\",\"marker\":{\"color\":\"#FF97FF\",\"symbol\":\"circle\"},\"mode\":\"markers\",\"name\":\"law\",\"orientation\":\"v\",\"showlegend\":true,\"type\":\"scatter\",\"x\":[-57.70803451538086,-61.17429733276367,-61.20675277709961,-58.96171951293945,-60.761470794677734,-53.68345260620117,-59.63102340698242,-62.617919921875,-57.502010345458984,-51.16958999633789,-51.650936126708984,-57.06786346435547,-55.04694366455078,-62.76774215698242,-63.15590286254883,-58.38521194458008,-55.0076904296875,-62.34120178222656,-58.608245849609375,-61.26437759399414,-59.21415328979492,-61.814476013183594,-52.76808547973633,-63.32475280761719,-55.565940856933594,-61.28834915161133,-56.510032653808594,-63.07843780517578,-54.53202438354492,-58.506290435791016],\"xaxis\":\"x\",\"y\":[34.498817443847656,35.32492446899414,38.09245681762695,36.75546646118164,5.243673801422119,26.14877700805664,30.800914764404297,-14.47716236114502,9.78938102722168,27.09304428100586,30.22859764099121,6.798132419586182,29.490558624267578,32.84039306640625,-11.267166137695312,28.76982307434082,32.12532043457031,-1.8497258424758911,-0.7502850294113159,-23.420394897460938,0.5635522603988647,-21.459138870239258,32.8032112121582,-8.389270782470703,14.989215850830078,-29.215744018554688,1.1238391399383545,-5.298687934875488,22.579078674316406,3.5411593914031982],\"yaxis\":\"y\"},{\"customdata\":[[\"fixed_costs\"],[\"rent\"],[\"expenses\"],[\"working_capital\"],[\"grants\"],[\"financing\"],[\"compensation\"],[\"reimbursement\"],[\"fixed\"],[\"the_costs\"],[\"necessary_costs\"],[\"allowance\"],[\"other_types\"],[\"subsidy\"],[\"receiving\"],[\"basic\"],[\"classic\"],[\"loans\"],[\"allowances\"],[\"single_parents\"],[\"bridging\"],[\"credits\"],[\"a_bonus\"],[\"utilities\"],[\"credit\"],[\"guarantees\"],[\"wages\"],[\"families\"],[\"direct_grant_aid\"],[\"liquidity\"]],\"hovertemplate\":\"word_cluster=costs<br>X=%{x}<br>Y=%{y}<br>word=%{customdata[0]}<extra></extra>\",\"legendgroup\":\"costs\",\"marker\":{\"color\":\"#FECB52\",\"symbol\":\"circle\"},\"mode\":\"markers\",\"name\":\"costs\",\"orientation\":\"v\",\"showlegend\":true,\"type\":\"scatter\",\"x\":[-4.290496826171875,39.29206085205078,38.7475700378418,-2.971306800842285,43.69429016113281,44.122379302978516,49.2052116394043,26.80569839477539,42.18899917602539,15.711257934570312,-48.434974670410156,47.767478942871094,-44.38465118408203,47.9810905456543,42.986087799072266,40.552513122558594,-42.5871696472168,49.5125846862793,21.782506942749023,-39.4987907409668,-13.578658103942871,-5.519871711730957,-8.614310264587402,-1.8990585803985596,46.08369445800781,46.55061721801758,37.10420227050781,36.98095703125,-46.728675842285156,42.299163818359375],\"xaxis\":\"x\",\"y\":[-45.02023696899414,-23.01946258544922,-20.33642578125,-36.37461471557617,-16.25370979309082,-14.08564281463623,-28.349990844726562,-24.97356414794922,-26.51592254638672,-21.374412536621094,-44.104122161865234,-28.88563346862793,-44.32712173461914,-26.39534568786621,-23.804988861083984,-26.4751033782959,-40.97690963745117,-14.490363121032715,-20.36400604248047,-41.87158966064453,-44.55477523803711,-36.03205108642578,-36.63394546508789,-37.92239761352539,-15.649251937866211,-13.599119186401367,-24.47812843322754,-1.7722119092941284,-42.84379959106445,-11.644367218017578],\"yaxis\":\"y\"},{\"customdata\":[[\"permanent\"],[\"fixedterm\"],[\"contract\"],[\"types\"],[\"schemes\"],[\"rental\"],[\"employment_contracts\"],[\"suspension\"],[\"property\"],[\"and/or\"],[\"different\"],[\"rights\"],[\"operation\"],[\"sos\"],[\"fundamental\"],[\"arrangements\"],[\"individual\"],[\"replacement\"],[\"requirements\"],[\"lifting\"],[\"educational\"],[\"cancellation\"],[\"certain\"],[\"contracts\"],[\"homeless\"],[\"the_problems\"],[\"hiring\"],[\"job\"],[\"regime\"],[\"all_types\"]],\"hovertemplate\":\"word_cluster=legal<br>X=%{x}<br>Y=%{y}<br>word=%{customdata[0]}<extra></extra>\",\"legendgroup\":\"legal\",\"marker\":{\"color\":\"#636efa\",\"symbol\":\"circle\"},\"mode\":\"markers\",\"name\":\"legal\",\"orientation\":\"v\",\"showlegend\":true,\"type\":\"scatter\",\"x\":[31.177461624145508,24.084392547607422,32.67986297607422,16.111286163330078,30.590478897094727,18.06473731994629,-0.7921553254127502,31.433582305908203,7.146239757537842,35.43682098388672,28.065143585205078,26.090946197509766,25.405643463134766,-35.93251419067383,-25.329967498779297,29.5242862701416,36.24738693237305,12.817654609680176,33.273719787597656,-5.634210109710693,8.885475158691406,10.914641380310059,36.21491241455078,33.37285232543945,0.7059872150421143,-38.9496955871582,27.80124855041504,41.43190002441406,22.43946647644043,-34.93989944458008],\"xaxis\":\"x\",\"y\":[3.5453457832336426,-5.131628513336182,-12.582271575927734,-17.91437530517578,7.5728349685668945,-14.562477111816406,-21.685758590698242,-14.110135078430176,-15.112876892089844,12.468598365783691,9.492838859558105,6.330653190612793,3.4532103538513184,-39.00138473510742,-24.610902786254883,5.3465728759765625,7.547958850860596,-17.739126205444336,1.9267630577087402,-23.56389617919922,-10.8366117477417,-19.937297821044922,4.605162143707275,-11.174772262573242,-24.3017520904541,-38.441104888916016,-2.045978546142578,4.061522483825684,-13.525425910949707,-37.152915954589844],\"yaxis\":\"y\"},{\"customdata\":[[\"businesses\"],[\"enterprises\"],[\"business\"],[\"sectors\"],[\"entrepreneurs\"],[\"smes\"],[\"individuals\"],[\"them\"],[\"financial\"],[\"entrepreneurial_activities\"],[\"those_companies\"],[\"jobs\"],[\"fixed_costs\"],[\"different_fiscal_measures\"],[\"most\"],[\"a_high_percentage\"],[\"mass_unemployment\"],[\"microentrepreneurs\"],[\"people\"],[\"solo\"],[\"the_following_criteria\"],[\"workers\"],[\"households\"],[\"difficulties\"],[\"firms\"],[\"large\"],[\"legal_instruments\"],[\"small_and_medium_sized_enterprises\"],[\"farmers\"],[\"some\"]],\"hovertemplate\":\"word_cluster=companies<br>X=%{x}<br>Y=%{y}<br>word=%{customdata[0]}<extra></extra>\",\"legendgroup\":\"companies\",\"marker\":{\"color\":\"#EF553B\",\"symbol\":\"circle\"},\"mode\":\"markers\",\"name\":\"companies\",\"orientation\":\"v\",\"showlegend\":true,\"type\":\"scatter\",\"x\":[57.21571350097656,55.5828857421875,53.65151596069336,52.44098663330078,44.667781829833984,46.26969909667969,55.22743225097656,59.2017822265625,59.00681686401367,-49.61372756958008,-22.468042373657227,54.8366813659668,-5.278558254241943,-52.4801139831543,50.27946090698242,-50.57958221435547,-53.690460205078125,-14.648765563964844,63.53553771972656,39.67463684082031,-46.82810592651367,63.782470703125,35.1963005065918,17.25823211669922,36.38737869262695,42.09062576293945,-54.719600677490234,-50.92657470703125,38.467132568359375,44.04107666015625],\"xaxis\":\"x\",\"y\":[16.570592880249023,18.231477737426758,14.633052825927734,19.70085906982422,-6.11194372177124,-8.832785606384277,-5.076426029205322,5.85717248916626,14.972503662109375,-48.97687530517578,-43.83604431152344,12.31204605102539,-45.788604736328125,-42.98504638671875,21.3577938079834,-41.57784652709961,-46.043941497802734,-27.32236099243164,-5.185946941375732,-2.661830186843872,-48.521549224853516,-0.0914250910282135,-2.716160297393799,12.342119216918945,-5.151090145111084,-7.827367782592773,-43.882911682128906,-44.946006774902344,-4.006059169769287,10.786223411560059],\"yaxis\":\"y\"},{\"customdata\":[[\"entertainment\"],[\"retail\"],[\"construction\"],[\"arts\"],[\"catering\"],[\"textile\"],[\"hotels\"],[\"machinery\"],[\"agricultural\"],[\"food\"],[\"accommodation\"],[\"logistics\"],[\"firearms\"],[\"leisure\"],[\"industrial\"],[\"meal_vouchers\"],[\"craft\"],[\"hospitality\"],[\"taxi\"],[\"wood\"],[\"supermarkets\"],[\"water\"],[\"airport\"],[\"social_enterprises\"],[\"nace\"],[\"drink\"],[\"hk\"],[\"pubs\"],[\"passenger\"],[\"producers\"]],\"hovertemplate\":\"word_cluster=manufacturing<br>X=%{x}<br>Y=%{y}<br>word=%{customdata[0]}<extra></extra>\",\"legendgroup\":\"manufacturing\",\"marker\":{\"color\":\"#00cc96\",\"symbol\":\"circle\"},\"mode\":\"markers\",\"name\":\"manufacturing\",\"orientation\":\"v\",\"showlegend\":true,\"type\":\"scatter\",\"x\":[32.16857147216797,31.365135192871094,30.303733825683594,33.28779220581055,32.97877883911133,-25.662893295288086,30.206621170043945,-8.573203086853027,29.60422706604004,33.09504318237305,33.66279220581055,-5.710257530212402,-47.722225189208984,-5.492798328399658,27.973709106445312,-49.041595458984375,-11.304337501525879,32.9982795715332,-3.8971023559570312,-23.60626220703125,-4.80929708480835,27.646099090576172,-6.801471710205078,-23.723297119140625,26.73048973083496,-10.27512264251709,-10.656392097473145,-12.97823429107666,12.854573249816895,8.96242904663086],\"xaxis\":\"x\",\"y\":[27.487285614013672,33.72584533691406,26.778715133666992,26.11229133605957,30.434831619262695,-30.96630096435547,29.333656311035156,-9.476759910583496,22.38184356689453,34.689388275146484,32.366939544677734,-12.824657440185547,-37.248294830322266,-11.015089988708496,22.03079605102539,-36.008602142333984,-9.385290145874023,23.22199249267578,-9.347206115722656,-31.525419235229492,-7.064982891082764,27.921419143676758,-7.6332244873046875,-29.669775009155273,26.36937141418457,-11.067244529724121,-7.5064921379089355,-10.736808776855469,-5.083881855010986,-7.364631652832031],\"yaxis\":\"y\"},{\"customdata\":[[\"mortgage\"],[\"laboratories\"],[\"employment_contracts\"],[\"replacement\"],[\"corporate\"],[\"rental\"],[\"leasing\"],[\"fee\"],[\"using\"],[\"accounts\"],[\"standard\"],[\"club\"],[\"facility\"],[\"scrubs\"],[\"pets\"],[\"fixedterm\"],[\"deployment\"],[\"single\"],[\"facemasks\"],[\"rents\"],[\"volunteer\"],[\"building\"],[\"permanent\"],[\"division\"],[\"unit\"],[\"and/or\"],[\"maintenance\"],[\"laundry_services\"],[\"distribution\"],[\"seat\"]],\"hovertemplate\":\"word_cluster=property<br>X=%{x}<br>Y=%{y}<br>word=%{customdata[0]}<extra></extra>\",\"legendgroup\":\"property\",\"marker\":{\"color\":\"#ab63fa\",\"symbol\":\"circle\"},\"mode\":\"markers\",\"name\":\"property\",\"orientation\":\"v\",\"showlegend\":true,\"type\":\"scatter\",\"x\":[9.455108642578125,-19.899133682250977,-1.6729334592819214,12.817654609680176,11.992043495178223,18.10431480407715,14.020257949829102,19.95162010192871,36.056297302246094,-4.981225967407227,2.123807907104492,-16.9680233001709,10.106867790222168,-21.7888240814209,-17.632545471191406,22.84836769104004,-10.082356452941895,18.509368896484375,-19.64710807800293,15.708985328674316,-2.756134510040283,15.267475128173828,32.05458068847656,-11.979022979736328,1.9652519226074219,34.28650665283203,22.962919235229492,-50.273338317871094,10.054614067077637,-7.17698335647583],\"xaxis\":\"x\",\"y\":[-13.536730766296387,-34.43670654296875,-22.71815299987793,-17.739126205444336,-12.644132614135742,-13.209877967834473,-10.640329360961914,-10.426301002502441,10.017630577087402,-25.908668518066406,-20.97870635986328,-32.0761604309082,-16.321636199951172,-33.219200134277344,-34.369903564453125,-5.4285888671875,-29.693897247314453,-8.933207511901855,-32.374237060546875,-13.381699562072754,-26.755434036254883,-3.4635629653930664,4.421969413757324,-32.494842529296875,-17.94024085998535,11.883185386657715,-0.6468924283981323,-38.16691207885742,-4.20337438583374,-26.386783599853516],\"yaxis\":\"y\"}],                        {\"legend\":{\"title\":{\"text\":\"word_cluster\"},\"tracegroupgap\":0},\"margin\":{\"t\":60},\"template\":{\"data\":{\"bar\":[{\"error_x\":{\"color\":\"#2a3f5f\"},\"error_y\":{\"color\":\"#2a3f5f\"},\"marker\":{\"line\":{\"color\":\"#E5ECF6\",\"width\":0.5},\"pattern\":{\"fillmode\":\"overlay\",\"size\":10,\"solidity\":0.2}},\"type\":\"bar\"}],\"barpolar\":[{\"marker\":{\"line\":{\"color\":\"#E5ECF6\",\"width\":0.5},\"pattern\":{\"fillmode\":\"overlay\",\"size\":10,\"solidity\":0.2}},\"type\":\"barpolar\"}],\"carpet\":[{\"aaxis\":{\"endlinecolor\":\"#2a3f5f\",\"gridcolor\":\"white\",\"linecolor\":\"white\",\"minorgridcolor\":\"white\",\"startlinecolor\":\"#2a3f5f\"},\"baxis\":{\"endlinecolor\":\"#2a3f5f\",\"gridcolor\":\"white\",\"linecolor\":\"white\",\"minorgridcolor\":\"white\",\"startlinecolor\":\"#2a3f5f\"},\"type\":\"carpet\"}],\"choropleth\":[{\"colorbar\":{\"outlinewidth\":0,\"ticks\":\"\"},\"type\":\"choropleth\"}],\"contour\":[{\"colorbar\":{\"outlinewidth\":0,\"ticks\":\"\"},\"colorscale\":[[0.0,\"#0d0887\"],[0.1111111111111111,\"#46039f\"],[0.2222222222222222,\"#7201a8\"],[0.3333333333333333,\"#9c179e\"],[0.4444444444444444,\"#bd3786\"],[0.5555555555555556,\"#d8576b\"],[0.6666666666666666,\"#ed7953\"],[0.7777777777777778,\"#fb9f3a\"],[0.8888888888888888,\"#fdca26\"],[1.0,\"#f0f921\"]],\"type\":\"contour\"}],\"contourcarpet\":[{\"colorbar\":{\"outlinewidth\":0,\"ticks\":\"\"},\"type\":\"contourcarpet\"}],\"heatmap\":[{\"colorbar\":{\"outlinewidth\":0,\"ticks\":\"\"},\"colorscale\":[[0.0,\"#0d0887\"],[0.1111111111111111,\"#46039f\"],[0.2222222222222222,\"#7201a8\"],[0.3333333333333333,\"#9c179e\"],[0.4444444444444444,\"#bd3786\"],[0.5555555555555556,\"#d8576b\"],[0.6666666666666666,\"#ed7953\"],[0.7777777777777778,\"#fb9f3a\"],[0.8888888888888888,\"#fdca26\"],[1.0,\"#f0f921\"]],\"type\":\"heatmap\"}],\"heatmapgl\":[{\"colorbar\":{\"outlinewidth\":0,\"ticks\":\"\"},\"colorscale\":[[0.0,\"#0d0887\"],[0.1111111111111111,\"#46039f\"],[0.2222222222222222,\"#7201a8\"],[0.3333333333333333,\"#9c179e\"],[0.4444444444444444,\"#bd3786\"],[0.5555555555555556,\"#d8576b\"],[0.6666666666666666,\"#ed7953\"],[0.7777777777777778,\"#fb9f3a\"],[0.8888888888888888,\"#fdca26\"],[1.0,\"#f0f921\"]],\"type\":\"heatmapgl\"}],\"histogram\":[{\"marker\":{\"pattern\":{\"fillmode\":\"overlay\",\"size\":10,\"solidity\":0.2}},\"type\":\"histogram\"}],\"histogram2d\":[{\"colorbar\":{\"outlinewidth\":0,\"ticks\":\"\"},\"colorscale\":[[0.0,\"#0d0887\"],[0.1111111111111111,\"#46039f\"],[0.2222222222222222,\"#7201a8\"],[0.3333333333333333,\"#9c179e\"],[0.4444444444444444,\"#bd3786\"],[0.5555555555555556,\"#d8576b\"],[0.6666666666666666,\"#ed7953\"],[0.7777777777777778,\"#fb9f3a\"],[0.8888888888888888,\"#fdca26\"],[1.0,\"#f0f921\"]],\"type\":\"histogram2d\"}],\"histogram2dcontour\":[{\"colorbar\":{\"outlinewidth\":0,\"ticks\":\"\"},\"colorscale\":[[0.0,\"#0d0887\"],[0.1111111111111111,\"#46039f\"],[0.2222222222222222,\"#7201a8\"],[0.3333333333333333,\"#9c179e\"],[0.4444444444444444,\"#bd3786\"],[0.5555555555555556,\"#d8576b\"],[0.6666666666666666,\"#ed7953\"],[0.7777777777777778,\"#fb9f3a\"],[0.8888888888888888,\"#fdca26\"],[1.0,\"#f0f921\"]],\"type\":\"histogram2dcontour\"}],\"mesh3d\":[{\"colorbar\":{\"outlinewidth\":0,\"ticks\":\"\"},\"type\":\"mesh3d\"}],\"parcoords\":[{\"line\":{\"colorbar\":{\"outlinewidth\":0,\"ticks\":\"\"}},\"type\":\"parcoords\"}],\"pie\":[{\"automargin\":true,\"type\":\"pie\"}],\"scatter\":[{\"marker\":{\"colorbar\":{\"outlinewidth\":0,\"ticks\":\"\"}},\"type\":\"scatter\"}],\"scatter3d\":[{\"line\":{\"colorbar\":{\"outlinewidth\":0,\"ticks\":\"\"}},\"marker\":{\"colorbar\":{\"outlinewidth\":0,\"ticks\":\"\"}},\"type\":\"scatter3d\"}],\"scattercarpet\":[{\"marker\":{\"colorbar\":{\"outlinewidth\":0,\"ticks\":\"\"}},\"type\":\"scattercarpet\"}],\"scattergeo\":[{\"marker\":{\"colorbar\":{\"outlinewidth\":0,\"ticks\":\"\"}},\"type\":\"scattergeo\"}],\"scattergl\":[{\"marker\":{\"colorbar\":{\"outlinewidth\":0,\"ticks\":\"\"}},\"type\":\"scattergl\"}],\"scattermapbox\":[{\"marker\":{\"colorbar\":{\"outlinewidth\":0,\"ticks\":\"\"}},\"type\":\"scattermapbox\"}],\"scatterpolar\":[{\"marker\":{\"colorbar\":{\"outlinewidth\":0,\"ticks\":\"\"}},\"type\":\"scatterpolar\"}],\"scatterpolargl\":[{\"marker\":{\"colorbar\":{\"outlinewidth\":0,\"ticks\":\"\"}},\"type\":\"scatterpolargl\"}],\"scatterternary\":[{\"marker\":{\"colorbar\":{\"outlinewidth\":0,\"ticks\":\"\"}},\"type\":\"scatterternary\"}],\"surface\":[{\"colorbar\":{\"outlinewidth\":0,\"ticks\":\"\"},\"colorscale\":[[0.0,\"#0d0887\"],[0.1111111111111111,\"#46039f\"],[0.2222222222222222,\"#7201a8\"],[0.3333333333333333,\"#9c179e\"],[0.4444444444444444,\"#bd3786\"],[0.5555555555555556,\"#d8576b\"],[0.6666666666666666,\"#ed7953\"],[0.7777777777777778,\"#fb9f3a\"],[0.8888888888888888,\"#fdca26\"],[1.0,\"#f0f921\"]],\"type\":\"surface\"}],\"table\":[{\"cells\":{\"fill\":{\"color\":\"#EBF0F8\"},\"line\":{\"color\":\"white\"}},\"header\":{\"fill\":{\"color\":\"#C8D4E3\"},\"line\":{\"color\":\"white\"}},\"type\":\"table\"}]},\"layout\":{\"annotationdefaults\":{\"arrowcolor\":\"#2a3f5f\",\"arrowhead\":0,\"arrowwidth\":1},\"autotypenumbers\":\"strict\",\"coloraxis\":{\"colorbar\":{\"outlinewidth\":0,\"ticks\":\"\"}},\"colorscale\":{\"diverging\":[[0,\"#8e0152\"],[0.1,\"#c51b7d\"],[0.2,\"#de77ae\"],[0.3,\"#f1b6da\"],[0.4,\"#fde0ef\"],[0.5,\"#f7f7f7\"],[0.6,\"#e6f5d0\"],[0.7,\"#b8e186\"],[0.8,\"#7fbc41\"],[0.9,\"#4d9221\"],[1,\"#276419\"]],\"sequential\":[[0.0,\"#0d0887\"],[0.1111111111111111,\"#46039f\"],[0.2222222222222222,\"#7201a8\"],[0.3333333333333333,\"#9c179e\"],[0.4444444444444444,\"#bd3786\"],[0.5555555555555556,\"#d8576b\"],[0.6666666666666666,\"#ed7953\"],[0.7777777777777778,\"#fb9f3a\"],[0.8888888888888888,\"#fdca26\"],[1.0,\"#f0f921\"]],\"sequentialminus\":[[0.0,\"#0d0887\"],[0.1111111111111111,\"#46039f\"],[0.2222222222222222,\"#7201a8\"],[0.3333333333333333,\"#9c179e\"],[0.4444444444444444,\"#bd3786\"],[0.5555555555555556,\"#d8576b\"],[0.6666666666666666,\"#ed7953\"],[0.7777777777777778,\"#fb9f3a\"],[0.8888888888888888,\"#fdca26\"],[1.0,\"#f0f921\"]]},\"colorway\":[\"#636efa\",\"#EF553B\",\"#00cc96\",\"#ab63fa\",\"#FFA15A\",\"#19d3f3\",\"#FF6692\",\"#B6E880\",\"#FF97FF\",\"#FECB52\"],\"font\":{\"color\":\"#2a3f5f\"},\"geo\":{\"bgcolor\":\"white\",\"lakecolor\":\"white\",\"landcolor\":\"#E5ECF6\",\"showlakes\":true,\"showland\":true,\"subunitcolor\":\"white\"},\"hoverlabel\":{\"align\":\"left\"},\"hovermode\":\"closest\",\"mapbox\":{\"style\":\"light\"},\"paper_bgcolor\":\"white\",\"plot_bgcolor\":\"#E5ECF6\",\"polar\":{\"angularaxis\":{\"gridcolor\":\"white\",\"linecolor\":\"white\",\"ticks\":\"\"},\"bgcolor\":\"#E5ECF6\",\"radialaxis\":{\"gridcolor\":\"white\",\"linecolor\":\"white\",\"ticks\":\"\"}},\"scene\":{\"xaxis\":{\"backgroundcolor\":\"#E5ECF6\",\"gridcolor\":\"white\",\"gridwidth\":2,\"linecolor\":\"white\",\"showbackground\":true,\"ticks\":\"\",\"zerolinecolor\":\"white\"},\"yaxis\":{\"backgroundcolor\":\"#E5ECF6\",\"gridcolor\":\"white\",\"gridwidth\":2,\"linecolor\":\"white\",\"showbackground\":true,\"ticks\":\"\",\"zerolinecolor\":\"white\"},\"zaxis\":{\"backgroundcolor\":\"#E5ECF6\",\"gridcolor\":\"white\",\"gridwidth\":2,\"linecolor\":\"white\",\"showbackground\":true,\"ticks\":\"\",\"zerolinecolor\":\"white\"}},\"shapedefaults\":{\"line\":{\"color\":\"#2a3f5f\"}},\"ternary\":{\"aaxis\":{\"gridcolor\":\"white\",\"linecolor\":\"white\",\"ticks\":\"\"},\"baxis\":{\"gridcolor\":\"white\",\"linecolor\":\"white\",\"ticks\":\"\"},\"bgcolor\":\"#E5ECF6\",\"caxis\":{\"gridcolor\":\"white\",\"linecolor\":\"white\",\"ticks\":\"\"}},\"title\":{\"x\":0.05},\"xaxis\":{\"automargin\":true,\"gridcolor\":\"white\",\"linecolor\":\"white\",\"ticks\":\"\",\"title\":{\"standoff\":15},\"zerolinecolor\":\"white\",\"zerolinewidth\":2},\"yaxis\":{\"automargin\":true,\"gridcolor\":\"white\",\"linecolor\":\"white\",\"ticks\":\"\",\"title\":{\"standoff\":15},\"zerolinecolor\":\"white\",\"zerolinewidth\":2}}},\"xaxis\":{\"anchor\":\"y\",\"domain\":[0.0,1.0],\"title\":{\"text\":\"X\"}},\"yaxis\":{\"anchor\":\"x\",\"domain\":[0.0,1.0],\"title\":{\"text\":\"Y\"}}},                        {\"responsive\": true}                    ).then(function(){\n                            \nvar gd = document.getElementById('78358e1a-30c7-4bf7-bc79-eefbc84bc7b8');\nvar x = new MutationObserver(function (mutations, observer) {{\n        var display = window.getComputedStyle(gd).display;\n        if (!display || display === 'none') {{\n            console.log([gd, 'removed!']);\n            Plotly.purge(gd);\n            observer.disconnect();\n        }}\n}});\n\n// Listen for the removal of the full notebook cells\nvar notebookContainer = gd.closest('#notebook-container');\nif (notebookContainer) {{\n    x.observe(notebookContainer, {childList: true});\n}}\n\n// Listen for the clearing of the current output cell\nvar outputEl = gd.closest('.output');\nif (outputEl) {{\n    x.observe(outputEl, {childList: true});\n}}\n\n                        })                };                });            </script>        </div>"
     },
     "metadata": {},
     "output_type": "display_data"
    }
   ],
   "source": [
    "model1_word_cluster_plot = px.scatter(model1_word_embeddings_dataframe,\n",
    "                                      x='X', y='Y', color=model1_word_embeddings_dataframe.word_cluster,\n",
    "                                      labels={'color': 'word'}, hover_data=[\"word\"])\n",
    "model1_word_cluster_plot"
   ],
   "metadata": {
    "collapsed": false,
    "pycharm": {
     "name": "#%%\n"
    }
   }
  },
  {
   "cell_type": "markdown",
   "source": [
    "### Graph visualization for the second model"
   ],
   "metadata": {
    "collapsed": false
   }
  },
  {
   "cell_type": "code",
   "execution_count": 222,
   "outputs": [
    {
     "data": {
      "application/vnd.plotly.v1+json": {
       "config": {
        "plotlyServerURL": "https://plot.ly"
       },
       "data": [
        {
         "customdata": [
          [
           "t238/20"
          ],
          [
           "court"
          ],
          [
           "c661/19"
          ],
          [
           "t160/20"
          ],
          [
           "t682/18"
          ],
          [
           "judgment"
          ],
          [
           "the_court_grand_chamber"
          ],
          [
           "c85/20"
          ],
          [
           "t576/20"
          ],
          [
           "t539/18"
          ],
          [
           "t736/19"
          ],
          [
           "c810/19"
          ],
          [
           "t162/20"
          ],
          [
           "case_c85/20_p"
          ],
          [
           "t627/19"
          ],
          [
           "t290/18"
          ],
          [
           "c584/18"
          ],
          [
           "c394/19"
          ],
          [
           "c10/20"
          ],
          [
           "order"
          ],
          [
           "t753/19"
          ],
          [
           "c32/19"
          ],
          [
           "general"
          ],
          [
           "t484/20"
          ],
          [
           "action"
          ],
          [
           "t12/21"
          ],
          [
           "t585/19"
          ],
          [
           "c218/19"
          ],
          [
           "t388/20"
          ],
          [
           "c626/18"
          ]
         ],
         "hovertemplate": "word_cluster=president<br>X=%{x}<br>Y=%{y}<br>word=%{customdata[0]}<extra></extra>",
         "legendgroup": "president",
         "marker": {
          "color": "#636efa",
          "symbol": "circle"
         },
         "mode": "markers",
         "name": "president",
         "orientation": "v",
         "showlegend": true,
         "type": "scatter",
         "x": [
          -85.03063201904297,
          104.62348937988281,
          -69.92737579345703,
          -82.43450927734375,
          -76.49612426757812,
          107.00411987304688,
          -89.47435760498047,
          -82.4450454711914,
          -79.86036682128906,
          -70.507568359375,
          -80.75166320800781,
          -78.97442626953125,
          -86.12924194335938,
          -72.73824310302734,
          -74.96817779541016,
          -75.60659790039062,
          -71.58114624023438,
          -74.47854614257812,
          -82.7696762084961,
          105.95523834228516,
          -79.3138198852539,
          -78.03194427490234,
          104.31072235107422,
          -87.15440368652344,
          105.87273406982422,
          -85.3619384765625,
          -72.59651184082031,
          -76.87749481201172,
          -77.6163558959961,
          -73.0086441040039
         ],
         "xaxis": "x",
         "y": [
          -92.20759582519531,
          35.3393440246582,
          -82.9730224609375,
          -90.99449920654297,
          -82.29210662841797,
          35.52556228637695,
          -94.48712921142578,
          -87.28607940673828,
          -88.8757553100586,
          -85.58817291259766,
          -84.12673950195312,
          -81.44595336914062,
          -94.65097045898438,
          -83.00811004638672,
          -83.94091796875,
          -86.52339172363281,
          -80.50592041015625,
          -80.71484375,
          -93.88715362548828,
          33.3242301940918,
          -86.58208465576172,
          -90.40450286865234,
          32.32389450073242,
          -91.26712036132812,
          37.33586120605469,
          -89.04756164550781,
          -88.35523986816406,
          -79.66138458251953,
          -84.35382843017578,
          -85.57203674316406
         ],
         "yaxis": "y"
        },
        {
         "customdata": [
          [
           "current"
          ],
          [
           "address"
          ],
          [
           "certain_transitional_provisions"
          ],
          [
           "certain_periods"
          ],
          [
           "the_extension"
          ],
          [
           "outbreak"
          ],
          [
           "periods"
          ],
          [
           "wine"
          ],
          [
           "specific_measures"
          ],
          [
           "positioning"
          ],
          [
           "due"
          ],
          [
           "sure"
          ],
          [
           "temporary_measures"
          ],
          [
           "covid19"
          ],
          [
           "resceu"
          ],
          [
           "2020/1253"
          ],
          [
           "by"
          ],
          [
           "165/2014"
          ],
          [
           "response"
          ],
          [
           "context"
          ],
          [
           "certain_measures"
          ],
          [
           "2019/788"
          ],
          [
           "containment"
          ],
          [
           "transitional"
          ],
          [
           "caused"
          ],
          [
           "shortages"
          ],
          [
           "referred"
          ],
          [
           "the_covid19_outbreak"
          ],
          [
           "eafrd"
          ],
          [
           "1/2003"
          ]
         ],
         "hovertemplate": "word_cluster=covid<br>X=%{x}<br>Y=%{y}<br>word=%{customdata[0]}<extra></extra>",
         "legendgroup": "covid",
         "marker": {
          "color": "#EF553B",
          "symbol": "circle"
         },
         "mode": "markers",
         "name": "covid",
         "orientation": "v",
         "showlegend": true,
         "type": "scatter",
         "x": [
          -36.332088470458984,
          101.364013671875,
          -78.79689025878906,
          100.57181549072266,
          23.630834579467773,
          115.50850677490234,
          99.04420471191406,
          -54.39945602416992,
          -39.20008087158203,
          -41.100364685058594,
          105.68061065673828,
          -30.534761428833008,
          -43.85924530029297,
          117.9238510131836,
          -35.47061538696289,
          -52.697959899902344,
          116.69435119628906,
          -41.704227447509766,
          110.05396270751953,
          100.67324829101562,
          -36.21125030517578,
          -52.56438064575195,
          -72.91404724121094,
          -43.45547103881836,
          103.16909790039062,
          -75.33155059814453,
          96.9566650390625,
          110.1390380859375,
          -52.748714447021484,
          -76.95165252685547
         ],
         "xaxis": "x",
         "y": [
          -25.475345611572266,
          -1.2329703569412231,
          -54.633155822753906,
          -5.483668327331543,
          13.361666679382324,
          10.598819732666016,
          -6.187091827392578,
          -36.47011184692383,
          39.102378845214844,
          36.62324523925781,
          9.660323143005371,
          -18.67383575439453,
          35.48151779174805,
          13.979686737060547,
          -19.651063919067383,
          -38.91215896606445,
          8.813973426818848,
          35.021385192871094,
          10.604338645935059,
          1.5499387979507446,
          -21.337810516357422,
          -35.86224365234375,
          -67.89794158935547,
          38.235755920410156,
          2.8626973628997803,
          -54.03042984008789,
          -4.843140125274658,
          13.356732368469238,
          -12.922484397888184,
          -56.39869689941406
         ],
         "yaxis": "y"
        },
        {
         "customdata": [
          [
           "social"
          ],
          [
           "committee"
          ],
          [
           "bank"
          ],
          [
           "the_european_economic_and_social_committee"
          ],
          [
           "central"
          ],
          [
           "classification"
          ],
          [
           "the_committee"
          ],
          [
           "joint"
          ],
          [
           "regions"
          ],
          [
           "cohesion"
          ],
          [
           "social_fairness_and_resilience'_com2020"
          ],
          [
           "investment"
          ],
          [
           "institute"
          ],
          [
           "'"
          ],
          [
           "fund"
          ],
          [
           "the_european_council"
          ],
          [
           "the_regions"
          ],
          [
           "just"
          ],
          [
           "agenda"
          ],
          [
           "the_european_committee"
          ],
          [
           "icj"
          ],
          [
           "the_regions_implementation"
          ],
          [
           "2020/1264"
          ],
          [
           "conclusions"
          ],
          [
           "the_european_central_bank"
          ],
          [
           "european"
          ],
          [
           "solidarity"
          ],
          [
           "cities"
          ],
          [
           "globalisation"
          ],
          [
           "the_representatives"
          ]
         ],
         "hovertemplate": "word_cluster=economic<br>X=%{x}<br>Y=%{y}<br>word=%{customdata[0]}<extra></extra>",
         "legendgroup": "economic",
         "marker": {
          "color": "#00cc96",
          "symbol": "circle"
         },
         "mode": "markers",
         "name": "economic",
         "orientation": "v",
         "showlegend": true,
         "type": "scatter",
         "x": [
          78.10323333740234,
          79.64575958251953,
          76.46251678466797,
          78.7406234741211,
          76.41972351074219,
          3.4716081619262695,
          76.64384460449219,
          75.76913452148438,
          75.43101501464844,
          -76.2245864868164,
          -65.78030395507812,
          76.64041900634766,
          -74.66789245605469,
          76.61395263671875,
          79.10491943359375,
          73.24452209472656,
          74.64021301269531,
          -75.14581298828125,
          -74.00730895996094,
          73.81204223632812,
          -66.71424865722656,
          -68.11607360839844,
          -64.2583999633789,
          5.0806684494018555,
          73.76516723632812,
          81.58463287353516,
          -76.96503448486328,
          -74.11685180664062,
          -77.75932312011719,
          -77.76641082763672
         ],
         "xaxis": "x",
         "y": [
          -24.00918197631836,
          -25.841602325439453,
          -12.950088500976562,
          -21.489397048950195,
          -10.83277702331543,
          -2.737774133682251,
          -20.560903549194336,
          -6.845881462097168,
          -22.785934448242188,
          -16.53713607788086,
          -65.75071716308594,
          -5.474750518798828,
          -19.79130744934082,
          -25.8950138092041,
          -8.163861274719238,
          -8.870485305786133,
          -20.672019958496094,
          -12.81031608581543,
          -15.84477424621582,
          -5.230167865753174,
          -63.402156829833984,
          -65.33985137939453,
          -63.009376525878906,
          -1.9887053966522217,
          -10.978623390197754,
          -22.340518951416016,
          -14.462193489074707,
          -21.812667846679688,
          -20.24782943725586,
          -18.42722511291504
         ],
         "yaxis": "y"
        },
        {
         "customdata": [
          [
           "macedonia"
          ],
          [
           "chapter"
          ],
          [
           "lithuania"
          ],
          [
           "law_report_country_chapter"
          ],
          [
           "analysis"
          ],
          [
           "special"
          ],
          [
           "biennial"
          ],
          [
           "annual"
          ],
          [
           "conferring"
          ],
          [
           "20/2020"
          ],
          [
           "portugal"
          ],
          [
           "any_foundation"
          ],
          [
           "railway"
          ],
          [
           "computing"
          ],
          [
           "spain"
          ],
          [
           "mediumsize"
          ],
          [
           "sweden"
          ],
          [
           "luxembourg"
          ],
          [
           "latvia"
          ],
          [
           "france"
          ],
          [
           "slovenia"
          ],
          [
           "ireland"
          ],
          [
           "law"
          ],
          [
           "strategic_foresight"
          ],
          [
           "enhanced"
          ],
          [
           "estonia"
          ],
          [
           "foresight"
          ],
          [
           "enlargement_and_neighbourhood_partners"
          ],
          [
           "clean"
          ],
          [
           "accept"
          ]
         ],
         "hovertemplate": "word_cluster=country<br>X=%{x}<br>Y=%{y}<br>word=%{customdata[0]}<extra></extra>",
         "legendgroup": "country",
         "marker": {
          "color": "#ab63fa",
          "symbol": "circle"
         },
         "mode": "markers",
         "name": "country",
         "orientation": "v",
         "showlegend": true,
         "type": "scatter",
         "x": [
          -63.20926284790039,
          51.83267593383789,
          43.47248840332031,
          54.42573547363281,
          35.54018020629883,
          42.41899108886719,
          -66.69076538085938,
          -46.45738220214844,
          -56.23667526245117,
          -65.28820037841797,
          88.46005249023438,
          -66.12157440185547,
          -61.41140365600586,
          -46.70293045043945,
          88.3956298828125,
          -57.22688674926758,
          39.58685302734375,
          48.431854248046875,
          46.33731460571289,
          90.38960266113281,
          40.879173278808594,
          66.63398742675781,
          65.85673522949219,
          -65.554443359375,
          -49.34560012817383,
          67.12914276123047,
          -59.5952262878418,
          -61.46451950073242,
          -56.9189338684082,
          -63.05984878540039
         ],
         "xaxis": "x",
         "y": [
          -46.09864044189453,
          -4.355576515197754,
          0.9032480120658875,
          -3.3008294105529785,
          0.3707176744937897,
          3.6489481925964355,
          -53.7874641418457,
          20.790340423583984,
          -4.7610249519348145,
          -49.346534729003906,
          36.06136703491211,
          -56.979190826416016,
          -44.476497650146484,
          8.407687187194824,
          34.302467346191406,
          -2.1932880878448486,
          6.071540832519531,
          3.7382686138153076,
          3.385056734085083,
          36.291690826416016,
          0.017358236014842987,
          1.653051495552063,
          -18.750097274780273,
          -47.06022644042969,
          21.550880432128906,
          3.9962360858917236,
          -47.670169830322266,
          -40.3841438293457,
          -6.489284515380859,
          -50.74285888671875
         ],
         "yaxis": "y"
        },
        {
         "customdata": [
          [
           "principle"
          ],
          [
           "consumer"
          ],
          [
           "spouses"
          ],
          [
           "movement"
          ],
          [
           "used"
          ],
          [
           "medicinal_products"
          ],
          [
           "2_joint_undertaking"
          ],
          [
           "out"
          ],
          [
           "age"
          ],
          [
           "thirdcountry"
          ],
          [
           "protection"
          ],
          [
           "acquisition"
          ],
          [
           "deferral"
          ],
          [
           "can"
          ],
          [
           "management"
          ],
          [
           "bankruptcy"
          ],
          [
           "starting"
          ],
          [
           "combatting"
          ],
          [
           "the_european_centre"
          ],
          [
           "the_full_text"
          ],
          [
           "tobacco"
          ],
          [
           "network"
          ],
          [
           "treatment"
          ],
          [
           "all"
          ],
          [
           "local"
          ],
          [
           "freedom"
          ],
          [
           "opportunities"
          ],
          [
           "equipment"
          ],
          [
           "passenger"
          ],
          [
           "contract"
          ]
         ],
         "hovertemplate": "word_cluster=workers<br>X=%{x}<br>Y=%{y}<br>word=%{customdata[0]}<extra></extra>",
         "legendgroup": "workers",
         "marker": {
          "color": "#FFA15A",
          "symbol": "circle"
         },
         "mode": "markers",
         "name": "workers",
         "orientation": "v",
         "showlegend": true,
         "type": "scatter",
         "x": [
          83.5936508178711,
          -0.14393943548202515,
          -29.445297241210938,
          98.37843322753906,
          78.95973205566406,
          69.13493347167969,
          -51.967994689941406,
          93.43073272705078,
          -43.24357604980469,
          19.592912673950195,
          100.12255859375,
          -27.631031036376953,
          -22.027542114257812,
          22.001365661621094,
          88.85071563720703,
          -24.638507843017578,
          -27.715045928955078,
          17.659631729125977,
          -51.48784255981445,
          -41.80228042602539,
          -50.24640655517578,
          59.44376754760742,
          58.591434478759766,
          0.9987804293632507,
          -19.083786010742188,
          101.59869384765625,
          -23.298721313476562,
          -23.92207908630371,
          91.03564453125,
          42.089054107666016
         ],
         "xaxis": "x",
         "y": [
          23.46784210205078,
          31.60216522216797,
          10.935546875,
          25.545780181884766,
          21.702322006225586,
          20.72123146057129,
          -27.87847328186035,
          25.094253540039062,
          -6.363091468811035,
          29.069063186645508,
          22.194753646850586,
          12.463388442993164,
          16.74437713623047,
          26.92629623413086,
          23.393930435180664,
          14.619751930236816,
          15.490572929382324,
          27.367446899414062,
          -25.360553741455078,
          -0.6875699162483215,
          -19.93914222717285,
          22.10918426513672,
          27.840011596679688,
          34.963985443115234,
          23.96722412109375,
          24.717247009277344,
          10.880526542663574,
          22.482519149780273,
          18.62228775024414,
          40.555076599121094
         ],
         "yaxis": "y"
        },
        {
         "customdata": [
          [
           "a_green,_digital_and_resilient_recovery"
          ],
          [
           "border"
          ],
          [
           "transfer"
          ],
          [
           "marketing"
          ],
          [
           "animal"
          ],
          [
           "hydrocarbons"
          ],
          [
           "united"
          ],
          [
           "welfare"
          ],
          [
           "preparing"
          ],
          [
           "international"
          ],
          [
           "india"
          ],
          [
           "the_european_partnership"
          ],
          [
           "set"
          ],
          [
           "men"
          ],
          [
           "biocidal"
          ],
          [
           "activity"
          ],
          [
           "meat"
          ],
          [
           "relying"
          ],
          [
           "scientific"
          ],
          [
           "products"
          ],
          [
           "civil"
          ],
          [
           "contact"
          ],
          [
           "payment"
          ],
          [
           "maritime"
          ],
          [
           "available"
          ],
          [
           "women"
          ],
          [
           "democratic"
          ],
          [
           "animals"
          ],
          [
           "consequences"
          ],
          [
           "systems"
          ]
         ],
         "hovertemplate": "word_cluster=health<br>X=%{x}<br>Y=%{y}<br>word=%{customdata[0]}<extra></extra>",
         "legendgroup": "health",
         "marker": {
          "color": "#19d3f3",
          "symbol": "circle"
         },
         "mode": "markers",
         "name": "health",
         "orientation": "v",
         "showlegend": true,
         "type": "scatter",
         "x": [
          -62.04214096069336,
          2.7873830795288086,
          -10.384857177734375,
          -1.910596489906311,
          46.36363220214844,
          -58.877506256103516,
          89.66170501708984,
          -56.2774658203125,
          -6.9788899421691895,
          73.44245147705078,
          -60.81801986694336,
          -66.7484359741211,
          -12.498082160949707,
          6.806583404541016,
          -63.3162841796875,
          4.887197494506836,
          -9.15589714050293,
          -67.660888671875,
          -64.99590301513672,
          104.7049560546875,
          76.44271087646484,
          -60.14657211303711,
          15.286739349365234,
          -62.90774154663086,
          11.079184532165527,
          12.305895805358887,
          -56.0606575012207,
          80.33454895019531,
          21.006528854370117,
          13.784758567810059
         ],
         "xaxis": "x",
         "y": [
          -27.191560745239258,
          11.513090133666992,
          6.5038909912109375,
          10.471721649169922,
          18.48093605041504,
          4.839666366577148,
          13.383379936218262,
          3.8582730293273926,
          6.403435230255127,
          14.389381408691406,
          -30.210317611694336,
          -43.26866149902344,
          8.142801284790039,
          14.823604583740234,
          -24.304908752441406,
          11.522932052612305,
          10.660028457641602,
          -41.54236602783203,
          -27.709138870239258,
          17.12435531616211,
          15.18400764465332,
          -25.740406036376953,
          7.302639961242676,
          -30.616254806518555,
          8.623648643493652,
          11.324759483337402,
          -18.954248428344727,
          13.43448543548584,
          11.518129348754883,
          14.055745124816895
         ],
         "yaxis": "y"
        },
        {
         "customdata": [
          [
           "context"
          ],
          [
           "caused"
          ],
          [
           "persistence"
          ],
          [
           "response"
          ],
          [
           "renewal"
          ],
          [
           "reinforcement"
          ],
          [
           "pandemic"
          ],
          [
           "the_covid19_crisis"
          ],
          [
           "modernising"
          ],
          [
           "agricultural_products"
          ],
          [
           "territories"
          ],
          [
           "threat"
          ],
          [
           "since"
          ],
          [
           "covid19"
          ],
          [
           "or"
          ],
          [
           "the_outbreak"
          ],
          [
           "aftermath"
          ],
          [
           "coronavirus"
          ],
          [
           "dock"
          ],
          [
           "in"
          ],
          [
           "due"
          ],
          [
           "our_economy"
          ],
          [
           "sectors"
          ],
          [
           "promotion_measures"
          ],
          [
           "linked"
          ],
          [
           "covid19_outbreak"
          ],
          [
           "the_covid19_pandemic"
          ],
          [
           "the_renewal"
          ],
          [
           "difficulties"
          ],
          [
           "consequences"
          ]
         ],
         "hovertemplate": "word_cluster=crisis<br>X=%{x}<br>Y=%{y}<br>word=%{customdata[0]}<extra></extra>",
         "legendgroup": "crisis",
         "marker": {
          "color": "#FF6692",
          "symbol": "circle"
         },
         "mode": "markers",
         "name": "crisis",
         "orientation": "v",
         "showlegend": true,
         "type": "scatter",
         "x": [
          100.96153259277344,
          103.05999755859375,
          -25.445735931396484,
          111.55148315429688,
          107.9437255859375,
          -61.06169891357422,
          111.88185119628906,
          105.63063049316406,
          21.02306365966797,
          -17.738971710205078,
          -72.72222137451172,
          -74.47004699707031,
          -73.11705017089844,
          117.9238510131836,
          120.11529541015625,
          -13.748429298400879,
          -76.2221450805664,
          -12.485133171081543,
          -77.31649780273438,
          120.57174682617188,
          104.24972534179688,
          -74.21649932861328,
          -61.45899200439453,
          -20.49103355407715,
          -22.75535011291504,
          -56.59099578857422,
          104.14738464355469,
          109.6481704711914,
          -78.19432067871094,
          21.006528854370117
         ],
         "xaxis": "x",
         "y": [
          3.3774023056030273,
          0.9785898923873901,
          34.30008316040039,
          11.203792572021484,
          -0.48271945118904114,
          -17.585987091064453,
          8.359356880187988,
          2.044715404510498,
          8.324310302734375,
          2.4023821353912354,
          -53.19734573364258,
          -51.648719787597656,
          -55.28850173950195,
          13.979686737060547,
          9.088632583618164,
          1.8777872323989868,
          -47.10593795776367,
          4.230520248413086,
          -51.13261795043945,
          11.257197380065918,
          10.29405403137207,
          -45.84819030761719,
          -20.775402069091797,
          -1.1412397623062134,
          -2.3331387042999268,
          -34.73014831542969,
          7.741253852844238,
          -0.5326634645462036,
          -44.47175598144531,
          11.518129348754883
         ],
         "yaxis": "y"
        },
        {
         "customdata": [
          [
           "limiting"
          ],
          [
           "not"
          ],
          [
           "alleged"
          ],
          [
           "basis"
          ],
          [
           "the_aid"
          ],
          [
           "does"
          ],
          [
           "converter"
          ],
          [
           "standi"
          ],
          [
           "net"
          ],
          [
           "combustion"
          ],
          [
           "ground"
          ],
          [
           "sarscov2"
          ],
          [
           "expenditure"
          ],
          [
           "determination"
          ],
          [
           "reimbursement"
          ],
          [
           "interest"
          ],
          [
           "added"
          ],
          [
           "the_plan"
          ],
          [
           "colour"
          ],
          [
           "sale"
          ],
          [
           "return"
          ],
          [
           "refinancing"
          ],
          [
           "voix"
          ],
          [
           "proportionality"
          ],
          [
           "1309/2013"
          ],
          [
           "nature"
          ],
          [
           "relative"
          ],
          [
           "requirement"
          ],
          [
           "admitted"
          ],
          [
           "costs"
          ]
         ],
         "hovertemplate": "word_cluster=tax<br>X=%{x}<br>Y=%{y}<br>word=%{customdata[0]}<extra></extra>",
         "legendgroup": "tax",
         "marker": {
          "color": "#B6E880",
          "symbol": "circle"
         },
         "mode": "markers",
         "name": "tax",
         "orientation": "v",
         "showlegend": true,
         "type": "scatter",
         "x": [
          3.271592140197754,
          104.9677734375,
          32.8677864074707,
          18.832284927368164,
          48.41805648803711,
          -13.6422758102417,
          -39.416175842285156,
          -48.38249588012695,
          38.20106506347656,
          -16.57029151916504,
          38.260345458984375,
          26.12349510192871,
          8.573078155517578,
          0.1285819262266159,
          22.761816024780273,
          31.385398864746094,
          4.965534210205078,
          -15.01831340789795,
          -46.75545120239258,
          -39.25272750854492,
          22.422271728515625,
          -0.5810978412628174,
          -36.397010803222656,
          45.48400115966797,
          -39.97746658325195,
          -28.599559783935547,
          -7.079196929931641,
          -17.820613861083984,
          1.0877609252929688,
          76.50533294677734
         ],
         "xaxis": "x",
         "y": [
          42.23603820800781,
          22.786537170410156,
          38.70587921142578,
          36.11676788330078,
          37.05621337890625,
          41.395511627197266,
          -13.693404197692871,
          -26.32013511657715,
          40.02082061767578,
          40.038047790527344,
          36.53276443481445,
          35.94025802612305,
          42.263797760009766,
          39.321441650390625,
          35.87141418457031,
          36.54432678222656,
          45.17451858520508,
          44.505027770996094,
          -23.766368865966797,
          -10.965852737426758,
          40.269535064697266,
          45.08561706542969,
          -6.370283126831055,
          36.213783264160156,
          -17.83513069152832,
          24.899803161621094,
          45.2855224609375,
          44.718318939208984,
          47.66549301147461,
          25.0693302154541
         ],
         "yaxis": "y"
        },
        {
         "customdata": [
          [
           "chapter"
          ],
          [
           "rule"
          ],
          [
           "2020_rule"
          ],
          [
           "law_situation"
          ],
          [
           "the_rule"
          ],
          [
           "law_report_country_chapter"
          ],
          [
           "country"
          ],
          [
           "analysis"
          ],
          [
           "commission_staff_working_document"
          ],
          [
           "any_foundation"
          ],
          [
           "situation"
          ],
          [
           "montenegro"
          ],
          [
           "annual"
          ],
          [
           "macrofinancial_assistance"
          ],
          [
           "executive"
          ],
          [
           "impact"
          ],
          [
           "report"
          ],
          [
           "greece"
          ],
          [
           "agency"
          ],
          [
           "biennial"
          ],
          [
           "chafea"
          ],
          [
           "sweden"
          ],
          [
           "macedonia"
          ],
          [
           "06/2020"
          ],
          [
           "albania"
          ],
          [
           "special"
          ],
          [
           "the_recommendations"
          ],
          [
           "schemes"
          ],
          [
           "ireland"
          ],
          [
           "croatia"
          ]
         ],
         "hovertemplate": "word_cluster=law<br>X=%{x}<br>Y=%{y}<br>word=%{customdata[0]}<extra></extra>",
         "legendgroup": "law",
         "marker": {
          "color": "#FF97FF",
          "symbol": "circle"
         },
         "mode": "markers",
         "name": "law",
         "orientation": "v",
         "showlegend": true,
         "type": "scatter",
         "x": [
          52.44003677368164,
          65.17913818359375,
          57.682647705078125,
          59.21891784667969,
          57.552433013916016,
          55.006839752197266,
          87.76461029052734,
          35.54018020629883,
          57.58966064453125,
          -67.94129180908203,
          59.3607063293457,
          -69.48991394042969,
          -46.45738220214844,
          -62.02363967895508,
          70.9681625366211,
          56.5750732421875,
          67.21218872070312,
          65.93656158447266,
          70.8099136352539,
          -64.99857330322266,
          -67.5196762084961,
          38.42805099487305,
          -62.351741790771484,
          -64.76055145263672,
          -67.15419006347656,
          41.05612564086914,
          -68.89375305175781,
          -68.17912292480469,
          66.63398742675781,
          68.80449676513672
         ],
         "xaxis": "x",
         "y": [
          -6.020586967468262,
          -17.17727279663086,
          -7.899582862854004,
          -10.190455436706543,
          -11.069478988647461,
          -4.9389543533325195,
          38.985321044921875,
          0.3707176744937897,
          -4.054453372955322,
          -56.45328903198242,
          -12.870197296142578,
          -32.625545501708984,
          20.790340423583984,
          -54.89088821411133,
          -15.665637016296387,
          -1.4302445650100708,
          -20.79412078857422,
          -1.7943137884140015,
          -14.113693237304688,
          -54.57528305053711,
          -59.47914123535156,
          5.078770637512207,
          -47.800514221191406,
          -60.5123291015625,
          -30.49248695373535,
          2.787332534790039,
          -62.93727493286133,
          -28.675931930541992,
          1.653051495552063,
          -0.04465017095208168
         ],
         "yaxis": "y"
        },
        {
         "customdata": [
          [
           "&"
          ],
          [
           "reimbursement"
          ],
          [
           "obligation"
          ],
          [
           "attending"
          ],
          [
           "children"
          ],
          [
           "ground"
          ],
          [
           "ensuring"
          ],
          [
           "sums"
          ],
          [
           "determination"
          ],
          [
           "out"
          ],
          [
           "starting"
          ],
          [
           "uses"
          ],
          [
           "carried"
          ],
          [
           "this_opinion"
          ],
          [
           "sale"
          ],
          [
           "limiting"
          ],
          [
           "paid"
          ],
          [
           "proportionality"
          ],
          [
           "residence"
          ],
          [
           "maintenance"
          ],
          [
           "deferral"
          ],
          [
           "effect"
          ],
          [
           "finantelor"
          ],
          [
           "nature"
          ],
          [
           "known"
          ],
          [
           "the_field"
          ],
          [
           "exception"
          ],
          [
           "after"
          ],
          [
           "efficient"
          ],
          [
           "alleged"
          ]
         ],
         "hovertemplate": "word_cluster=costs<br>X=%{x}<br>Y=%{y}<br>word=%{customdata[0]}<extra></extra>",
         "legendgroup": "costs",
         "marker": {
          "color": "#FECB52",
          "symbol": "circle"
         },
         "mode": "markers",
         "name": "costs",
         "orientation": "v",
         "showlegend": true,
         "type": "scatter",
         "x": [
          91.71350860595703,
          22.761816024780273,
          83.49019622802734,
          -31.24071502685547,
          29.66967010498047,
          38.260345458984375,
          61.414329528808594,
          42.782447814941406,
          -0.31081125140190125,
          93.43073272705078,
          -26.26182746887207,
          -35.715396881103516,
          -25.874662399291992,
          -41.924072265625,
          -39.052162170410156,
          3.805790901184082,
          80.27356719970703,
          45.48400115966797,
          48.56065368652344,
          -41.720027923583984,
          -22.027542114257812,
          -5.544430732727051,
          -36.17824172973633,
          -27.855018615722656,
          -4.08389139175415,
          62.33479309082031,
          -48.41962814331055,
          -3.911503553390503,
          21.572242736816406,
          34.835426330566406
         ],
         "xaxis": "x",
         "y": [
          27.7603816986084,
          35.87141418457031,
          27.14695930480957,
          20.378509521484375,
          31.848081588745117,
          36.53276443481445,
          25.769712448120117,
          32.825599670410156,
          40.8497428894043,
          25.094253540039062,
          16.988107681274414,
          1.7114622592926025,
          25.3882999420166,
          -12.217045783996582,
          -9.303853988647461,
          40.759735107421875,
          25.25792121887207,
          36.213783264160156,
          34.12446594238281,
          -9.44717788696289,
          16.74437713623047,
          37.52621841430664,
          -1.7156468629837036,
          23.43431282043457,
          41.27521514892578,
          28.41459846496582,
          -21.3529052734375,
          34.89064407348633,
          32.33456802368164,
          38.64382553100586
         ],
         "yaxis": "y"
        },
        {
         "customdata": [
          [
           "smoked"
          ],
          [
           "applied"
          ],
          [
           "certain_products"
          ],
          [
           "driving"
          ],
          [
           "local"
          ],
          [
           "joined"
          ],
          [
           "activities"
          ],
          [
           "living"
          ],
          [
           "out"
          ],
          [
           "administrative"
          ],
          [
           "income"
          ],
          [
           "management"
          ],
          [
           "network"
          ],
          [
           "accommodation"
          ],
          [
           "the_issuance"
          ],
          [
           "two"
          ],
          [
           "principle"
          ],
          [
           "passenger"
          ],
          [
           "different"
          ],
          [
           "been"
          ],
          [
           "contract"
          ],
          [
           "being"
          ],
          [
           "issued"
          ],
          [
           "live"
          ],
          [
           "medicinal_products"
          ],
          [
           "thresholds"
          ],
          [
           "up"
          ],
          [
           "lighting"
          ],
          [
           "applicant"
          ],
          [
           "made"
          ]
         ],
         "hovertemplate": "word_cluster=legal<br>X=%{x}<br>Y=%{y}<br>word=%{customdata[0]}<extra></extra>",
         "legendgroup": "legal",
         "marker": {
          "color": "#636efa",
          "symbol": "circle"
         },
         "mode": "markers",
         "name": "legal",
         "orientation": "v",
         "showlegend": true,
         "type": "scatter",
         "x": [
          18.574337005615234,
          -38.4439697265625,
          3.7627670764923096,
          50.35166549682617,
          -20.237621307373047,
          -17.687686920166016,
          96.05491638183594,
          -37.242374420166016,
          93.43073272705078,
          -15.452840805053711,
          21.319072723388672,
          88.75765991210938,
          59.980262756347656,
          -41.9715576171875,
          -32.38946533203125,
          14.896503448486328,
          83.06100463867188,
          91.26658630371094,
          -53.6203727722168,
          -40.84075927734375,
          42.35737228393555,
          -46.348594665527344,
          64.77149200439453,
          -46.8384895324707,
          68.6053466796875,
          -39.076663970947266,
          54.04323196411133,
          -37.404850006103516,
          -35.23780059814453,
          86.0251693725586
         ],
         "xaxis": "x",
         "y": [
          23.623449325561523,
          6.714597702026367,
          21.737953186035156,
          20.308074951171875,
          24.925790786743164,
          27.15780258178711,
          21.80170249938965,
          14.00357723236084,
          25.094253540039062,
          27.251136779785156,
          22.181312561035156,
          25.313343048095703,
          20.35978889465332,
          2.531569719314575,
          15.599732398986816,
          22.301326751708984,
          21.795061111450195,
          20.890399932861328,
          -25.89679527282715,
          8.800575256347656,
          38.86118698120117,
          1.3980993032455444,
          23.677114486694336,
          3.9360814094543457,
          22.391761779785156,
          3.503448247909546,
          22.956499099731445,
          11.073339462280273,
          17.0671329498291,
          24.674850463867188
         ],
         "yaxis": "y"
        },
        {
         "customdata": [
          [
           "alleged"
          ],
          [
           "distribution"
          ],
          [
           "known"
          ],
          [
           "who"
          ],
          [
           "the_project"
          ],
          [
           "refinancing"
          ],
          [
           "recorder"
          ],
          [
           "are"
          ],
          [
           "bring"
          ],
          [
           "double"
          ],
          [
           "eligibility"
          ],
          [
           "partly"
          ],
          [
           "trabalho"
          ],
          [
           "radioactive_waste"
          ],
          [
           "have"
          ],
          [
           "relative"
          ],
          [
           "land"
          ],
          [
           "does"
          ],
          [
           "trading"
          ],
          [
           "uses"
          ],
          [
           "the_plan"
          ],
          [
           "antitrust"
          ],
          [
           "capital"
          ],
          [
           "dell'istruzione"
          ],
          [
           "stemming"
          ],
          [
           "admitted"
          ],
          [
           "ground"
          ],
          [
           "learning"
          ],
          [
           "25hour"
          ],
          [
           "it"
          ]
         ],
         "hovertemplate": "word_cluster=companies<br>X=%{x}<br>Y=%{y}<br>word=%{customdata[0]}<extra></extra>",
         "legendgroup": "companies",
         "marker": {
          "color": "#EF553B",
          "symbol": "circle"
         },
         "mode": "markers",
         "name": "companies",
         "orientation": "v",
         "showlegend": true,
         "type": "scatter",
         "x": [
          34.07939147949219,
          -9.642265319824219,
          -3.6741397380828857,
          96.18623352050781,
          -44.925689697265625,
          -2.1227526664733887,
          -43.622127532958984,
          80.53521728515625,
          4.51027774810791,
          -38.233856201171875,
          25.71712303161621,
          -39.07158660888672,
          -46.07194519042969,
          -7.965762615203857,
          94.20215606689453,
          -8.356491088867188,
          -38.465911865234375,
          -12.457820892333984,
          48.915611267089844,
          -35.715396881103516,
          -14.018635749816895,
          -12.269095420837402,
          73.23048400878906,
          -49.207820892333984,
          -36.168277740478516,
          -0.30002179741859436,
          40.29901885986328,
          -33.53261184692383,
          -44.49772644042969,
          46.75993347167969
         ],
         "xaxis": "x",
         "y": [
          36.73036193847656,
          37.94184875488281,
          42.926109313964844,
          27.500640869140625,
          -16.39067840576172,
          46.133148193359375,
          -18.320091247558594,
          28.645647048950195,
          49.58909606933594,
          -3.5592153072357178,
          40.7337646484375,
          -5.660477161407471,
          -18.99642562866211,
          40.55335235595703,
          29.259830474853516,
          44.20854949951172,
          0.6420851945877075,
          42.45712661743164,
          30.8321590423584,
          1.7114622592926025,
          45.83336639404297,
          37.02581787109375,
          26.52615737915039,
          -29.169353485107422,
          -11.140987396240234,
          48.77192306518555,
          35.9589958190918,
          -5.062865257263184,
          -20.54036521911621,
          29.79948616027832
         ],
         "yaxis": "y"
        },
        {
         "customdata": [
          [
           "men"
          ],
          [
           "medicines"
          ],
          [
           "those"
          ],
          [
           "fostering"
          ],
          [
           "the_framework"
          ],
          [
           "gas"
          ],
          [
           "systems"
          ],
          [
           "women"
          ],
          [
           "seriously"
          ],
          [
           "the_production"
          ],
          [
           "reduction"
          ],
          [
           "civil"
          ],
          [
           "citizen"
          ],
          [
           "mercury"
          ],
          [
           "passenger"
          ],
          [
           "loss"
          ],
          [
           "international"
          ],
          [
           "asylum"
          ],
          [
           "choosing"
          ],
          [
           "welfare"
          ],
          [
           "ensure"
          ],
          [
           "disease"
          ],
          [
           "pay"
          ],
          [
           "denied_boarding"
          ],
          [
           "pollutants"
          ],
          [
           "the_aftermath"
          ],
          [
           "processes"
          ],
          [
           "rights"
          ],
          [
           "their_accession"
          ],
          [
           "scheme"
          ]
         ],
         "hovertemplate": "word_cluster=manufacturing<br>X=%{x}<br>Y=%{y}<br>word=%{customdata[0]}<extra></extra>",
         "legendgroup": "manufacturing",
         "marker": {
          "color": "#00cc96",
          "symbol": "circle"
         },
         "mode": "markers",
         "name": "manufacturing",
         "orientation": "v",
         "showlegend": true,
         "type": "scatter",
         "x": [
          6.806583404541016,
          6.592750072479248,
          65.88945770263672,
          46.11566925048828,
          -50.974422454833984,
          -52.50738525390625,
          11.865503311157227,
          14.217185020446777,
          -50.161354064941406,
          1.8404902219772339,
          1.692122459411621,
          76.79833984375,
          -57.73558044433594,
          -8.270878791809082,
          92.99470520019531,
          0.8352468609809875,
          73.940185546875,
          -14.039266586303711,
          -48.581905364990234,
          -57.099056243896484,
          11.053788185119629,
          16.976743698120117,
          48.970890045166016,
          -55.302833557128906,
          -56.550453186035156,
          -55.29447555541992,
          -51.540340423583984,
          87.30321502685547,
          -55.31748962402344,
          51.01457977294922
         ],
         "xaxis": "x",
         "y": [
          14.823604583740234,
          18.537336349487305,
          19.609590530395508,
          22.56193733215332,
          5.480867385864258,
          7.2015838623046875,
          13.855254173278809,
          11.362472534179688,
          -0.01351114921271801,
          21.384517669677734,
          19.26539421081543,
          13.535665512084961,
          -25.050281524658203,
          12.701385498046875,
          19.577301025390625,
          24.432819366455078,
          12.63049602508545,
          14.523527145385742,
          2.2650063037872314,
          2.5470683574676514,
          22.46300506591797,
          19.68935203552246,
          21.76009178161621,
          -27.77979278564453,
          -14.762832641601562,
          -13.322105407714844,
          3.541630983352661,
          19.61403465270996,
          -29.89034080505371,
          23.07042121887207
         ],
         "yaxis": "y"
        },
        {
         "customdata": [
          [
           "paid"
          ],
          [
           "access"
          ],
          [
           "laboratoires"
          ],
          [
           "serious"
          ],
          [
           "rights"
          ],
          [
           "having"
          ],
          [
           "that"
          ],
          [
           "sums"
          ],
          [
           "jurisdiction"
          ],
          [
           "deferral"
          ],
          [
           "transparency"
          ],
          [
           "issued"
          ],
          [
           "two"
          ],
          [
           "financing"
          ],
          [
           "costs"
          ],
          [
           "scope"
          ],
          [
           "ensuring"
          ],
          [
           "procedural"
          ],
          [
           "effect"
          ],
          [
           "connected"
          ],
          [
           "smoked"
          ],
          [
           "ensure"
          ],
          [
           "exclusion"
          ],
          [
           "arising"
          ],
          [
           "imposed"
          ],
          [
           "consumer"
          ],
          [
           "flights"
          ],
          [
           "the_issuance"
          ],
          [
           "starting"
          ],
          [
           "radio"
          ]
         ],
         "hovertemplate": "word_cluster=property<br>X=%{x}<br>Y=%{y}<br>word=%{customdata[0]}<extra></extra>",
         "legendgroup": "property",
         "marker": {
          "color": "#ab63fa",
          "symbol": "circle"
         },
         "mode": "markers",
         "name": "property",
         "orientation": "v",
         "showlegend": true,
         "type": "scatter",
         "x": [
          80.27356719970703,
          14.094057083129883,
          0.018213916569948196,
          51.397560119628906,
          87.30321502685547,
          -42.446693420410156,
          103.8711929321289,
          42.782447814941406,
          34.538116455078125,
          -23.04133415222168,
          -17.688684463500977,
          62.751930236816406,
          15.0747652053833,
          -33.53205871582031,
          76.82018280029297,
          14.995644569396973,
          63.5833625793457,
          -18.65983772277832,
          -4.03189754486084,
          -52.863311767578125,
          18.490005493164062,
          11.428409576416016,
          7.60327672958374,
          62.99962615966797,
          -15.819064140319824,
          -1.61118483543396,
          37.679412841796875,
          -32.11704635620117,
          -28.10931396484375,
          13.131354331970215
         ],
         "xaxis": "x",
         "y": [
          25.25792121887207,
          26.87851905822754,
          27.814359664916992,
          30.285837173461914,
          19.61403465270996,
          7.499736785888672,
          21.07054328918457,
          32.825599670410156,
          32.580894470214844,
          18.5756893157959,
          19.686267852783203,
          23.613365173339844,
          23.955307006835938,
          4.7452192306518555,
          26.889896392822266,
          32.30943298339844,
          26.164470672607422,
          15.661582946777344,
          38.01044845581055,
          -30.29966926574707,
          21.93365478515625,
          20.841785430908203,
          27.609386444091797,
          21.13706398010254,
          19.501087188720703,
          31.378244400024414,
          31.854738235473633,
          17.170345306396484,
          17.494874954223633,
          32.21892166137695
         ],
         "yaxis": "y"
        }
       ],
       "layout": {
        "legend": {
         "title": {
          "text": "word_cluster"
         },
         "tracegroupgap": 0
        },
        "margin": {
         "t": 60
        },
        "template": {
         "data": {
          "bar": [
           {
            "error_x": {
             "color": "#2a3f5f"
            },
            "error_y": {
             "color": "#2a3f5f"
            },
            "marker": {
             "line": {
              "color": "#E5ECF6",
              "width": 0.5
             },
             "pattern": {
              "fillmode": "overlay",
              "size": 10,
              "solidity": 0.2
             }
            },
            "type": "bar"
           }
          ],
          "barpolar": [
           {
            "marker": {
             "line": {
              "color": "#E5ECF6",
              "width": 0.5
             },
             "pattern": {
              "fillmode": "overlay",
              "size": 10,
              "solidity": 0.2
             }
            },
            "type": "barpolar"
           }
          ],
          "carpet": [
           {
            "aaxis": {
             "endlinecolor": "#2a3f5f",
             "gridcolor": "white",
             "linecolor": "white",
             "minorgridcolor": "white",
             "startlinecolor": "#2a3f5f"
            },
            "baxis": {
             "endlinecolor": "#2a3f5f",
             "gridcolor": "white",
             "linecolor": "white",
             "minorgridcolor": "white",
             "startlinecolor": "#2a3f5f"
            },
            "type": "carpet"
           }
          ],
          "choropleth": [
           {
            "colorbar": {
             "outlinewidth": 0,
             "ticks": ""
            },
            "type": "choropleth"
           }
          ],
          "contour": [
           {
            "colorbar": {
             "outlinewidth": 0,
             "ticks": ""
            },
            "colorscale": [
             [
              0.0,
              "#0d0887"
             ],
             [
              0.1111111111111111,
              "#46039f"
             ],
             [
              0.2222222222222222,
              "#7201a8"
             ],
             [
              0.3333333333333333,
              "#9c179e"
             ],
             [
              0.4444444444444444,
              "#bd3786"
             ],
             [
              0.5555555555555556,
              "#d8576b"
             ],
             [
              0.6666666666666666,
              "#ed7953"
             ],
             [
              0.7777777777777778,
              "#fb9f3a"
             ],
             [
              0.8888888888888888,
              "#fdca26"
             ],
             [
              1.0,
              "#f0f921"
             ]
            ],
            "type": "contour"
           }
          ],
          "contourcarpet": [
           {
            "colorbar": {
             "outlinewidth": 0,
             "ticks": ""
            },
            "type": "contourcarpet"
           }
          ],
          "heatmap": [
           {
            "colorbar": {
             "outlinewidth": 0,
             "ticks": ""
            },
            "colorscale": [
             [
              0.0,
              "#0d0887"
             ],
             [
              0.1111111111111111,
              "#46039f"
             ],
             [
              0.2222222222222222,
              "#7201a8"
             ],
             [
              0.3333333333333333,
              "#9c179e"
             ],
             [
              0.4444444444444444,
              "#bd3786"
             ],
             [
              0.5555555555555556,
              "#d8576b"
             ],
             [
              0.6666666666666666,
              "#ed7953"
             ],
             [
              0.7777777777777778,
              "#fb9f3a"
             ],
             [
              0.8888888888888888,
              "#fdca26"
             ],
             [
              1.0,
              "#f0f921"
             ]
            ],
            "type": "heatmap"
           }
          ],
          "heatmapgl": [
           {
            "colorbar": {
             "outlinewidth": 0,
             "ticks": ""
            },
            "colorscale": [
             [
              0.0,
              "#0d0887"
             ],
             [
              0.1111111111111111,
              "#46039f"
             ],
             [
              0.2222222222222222,
              "#7201a8"
             ],
             [
              0.3333333333333333,
              "#9c179e"
             ],
             [
              0.4444444444444444,
              "#bd3786"
             ],
             [
              0.5555555555555556,
              "#d8576b"
             ],
             [
              0.6666666666666666,
              "#ed7953"
             ],
             [
              0.7777777777777778,
              "#fb9f3a"
             ],
             [
              0.8888888888888888,
              "#fdca26"
             ],
             [
              1.0,
              "#f0f921"
             ]
            ],
            "type": "heatmapgl"
           }
          ],
          "histogram": [
           {
            "marker": {
             "pattern": {
              "fillmode": "overlay",
              "size": 10,
              "solidity": 0.2
             }
            },
            "type": "histogram"
           }
          ],
          "histogram2d": [
           {
            "colorbar": {
             "outlinewidth": 0,
             "ticks": ""
            },
            "colorscale": [
             [
              0.0,
              "#0d0887"
             ],
             [
              0.1111111111111111,
              "#46039f"
             ],
             [
              0.2222222222222222,
              "#7201a8"
             ],
             [
              0.3333333333333333,
              "#9c179e"
             ],
             [
              0.4444444444444444,
              "#bd3786"
             ],
             [
              0.5555555555555556,
              "#d8576b"
             ],
             [
              0.6666666666666666,
              "#ed7953"
             ],
             [
              0.7777777777777778,
              "#fb9f3a"
             ],
             [
              0.8888888888888888,
              "#fdca26"
             ],
             [
              1.0,
              "#f0f921"
             ]
            ],
            "type": "histogram2d"
           }
          ],
          "histogram2dcontour": [
           {
            "colorbar": {
             "outlinewidth": 0,
             "ticks": ""
            },
            "colorscale": [
             [
              0.0,
              "#0d0887"
             ],
             [
              0.1111111111111111,
              "#46039f"
             ],
             [
              0.2222222222222222,
              "#7201a8"
             ],
             [
              0.3333333333333333,
              "#9c179e"
             ],
             [
              0.4444444444444444,
              "#bd3786"
             ],
             [
              0.5555555555555556,
              "#d8576b"
             ],
             [
              0.6666666666666666,
              "#ed7953"
             ],
             [
              0.7777777777777778,
              "#fb9f3a"
             ],
             [
              0.8888888888888888,
              "#fdca26"
             ],
             [
              1.0,
              "#f0f921"
             ]
            ],
            "type": "histogram2dcontour"
           }
          ],
          "mesh3d": [
           {
            "colorbar": {
             "outlinewidth": 0,
             "ticks": ""
            },
            "type": "mesh3d"
           }
          ],
          "parcoords": [
           {
            "line": {
             "colorbar": {
              "outlinewidth": 0,
              "ticks": ""
             }
            },
            "type": "parcoords"
           }
          ],
          "pie": [
           {
            "automargin": true,
            "type": "pie"
           }
          ],
          "scatter": [
           {
            "marker": {
             "colorbar": {
              "outlinewidth": 0,
              "ticks": ""
             }
            },
            "type": "scatter"
           }
          ],
          "scatter3d": [
           {
            "line": {
             "colorbar": {
              "outlinewidth": 0,
              "ticks": ""
             }
            },
            "marker": {
             "colorbar": {
              "outlinewidth": 0,
              "ticks": ""
             }
            },
            "type": "scatter3d"
           }
          ],
          "scattercarpet": [
           {
            "marker": {
             "colorbar": {
              "outlinewidth": 0,
              "ticks": ""
             }
            },
            "type": "scattercarpet"
           }
          ],
          "scattergeo": [
           {
            "marker": {
             "colorbar": {
              "outlinewidth": 0,
              "ticks": ""
             }
            },
            "type": "scattergeo"
           }
          ],
          "scattergl": [
           {
            "marker": {
             "colorbar": {
              "outlinewidth": 0,
              "ticks": ""
             }
            },
            "type": "scattergl"
           }
          ],
          "scattermapbox": [
           {
            "marker": {
             "colorbar": {
              "outlinewidth": 0,
              "ticks": ""
             }
            },
            "type": "scattermapbox"
           }
          ],
          "scatterpolar": [
           {
            "marker": {
             "colorbar": {
              "outlinewidth": 0,
              "ticks": ""
             }
            },
            "type": "scatterpolar"
           }
          ],
          "scatterpolargl": [
           {
            "marker": {
             "colorbar": {
              "outlinewidth": 0,
              "ticks": ""
             }
            },
            "type": "scatterpolargl"
           }
          ],
          "scatterternary": [
           {
            "marker": {
             "colorbar": {
              "outlinewidth": 0,
              "ticks": ""
             }
            },
            "type": "scatterternary"
           }
          ],
          "surface": [
           {
            "colorbar": {
             "outlinewidth": 0,
             "ticks": ""
            },
            "colorscale": [
             [
              0.0,
              "#0d0887"
             ],
             [
              0.1111111111111111,
              "#46039f"
             ],
             [
              0.2222222222222222,
              "#7201a8"
             ],
             [
              0.3333333333333333,
              "#9c179e"
             ],
             [
              0.4444444444444444,
              "#bd3786"
             ],
             [
              0.5555555555555556,
              "#d8576b"
             ],
             [
              0.6666666666666666,
              "#ed7953"
             ],
             [
              0.7777777777777778,
              "#fb9f3a"
             ],
             [
              0.8888888888888888,
              "#fdca26"
             ],
             [
              1.0,
              "#f0f921"
             ]
            ],
            "type": "surface"
           }
          ],
          "table": [
           {
            "cells": {
             "fill": {
              "color": "#EBF0F8"
             },
             "line": {
              "color": "white"
             }
            },
            "header": {
             "fill": {
              "color": "#C8D4E3"
             },
             "line": {
              "color": "white"
             }
            },
            "type": "table"
           }
          ]
         },
         "layout": {
          "annotationdefaults": {
           "arrowcolor": "#2a3f5f",
           "arrowhead": 0,
           "arrowwidth": 1
          },
          "autotypenumbers": "strict",
          "coloraxis": {
           "colorbar": {
            "outlinewidth": 0,
            "ticks": ""
           }
          },
          "colorscale": {
           "diverging": [
            [
             0,
             "#8e0152"
            ],
            [
             0.1,
             "#c51b7d"
            ],
            [
             0.2,
             "#de77ae"
            ],
            [
             0.3,
             "#f1b6da"
            ],
            [
             0.4,
             "#fde0ef"
            ],
            [
             0.5,
             "#f7f7f7"
            ],
            [
             0.6,
             "#e6f5d0"
            ],
            [
             0.7,
             "#b8e186"
            ],
            [
             0.8,
             "#7fbc41"
            ],
            [
             0.9,
             "#4d9221"
            ],
            [
             1,
             "#276419"
            ]
           ],
           "sequential": [
            [
             0.0,
             "#0d0887"
            ],
            [
             0.1111111111111111,
             "#46039f"
            ],
            [
             0.2222222222222222,
             "#7201a8"
            ],
            [
             0.3333333333333333,
             "#9c179e"
            ],
            [
             0.4444444444444444,
             "#bd3786"
            ],
            [
             0.5555555555555556,
             "#d8576b"
            ],
            [
             0.6666666666666666,
             "#ed7953"
            ],
            [
             0.7777777777777778,
             "#fb9f3a"
            ],
            [
             0.8888888888888888,
             "#fdca26"
            ],
            [
             1.0,
             "#f0f921"
            ]
           ],
           "sequentialminus": [
            [
             0.0,
             "#0d0887"
            ],
            [
             0.1111111111111111,
             "#46039f"
            ],
            [
             0.2222222222222222,
             "#7201a8"
            ],
            [
             0.3333333333333333,
             "#9c179e"
            ],
            [
             0.4444444444444444,
             "#bd3786"
            ],
            [
             0.5555555555555556,
             "#d8576b"
            ],
            [
             0.6666666666666666,
             "#ed7953"
            ],
            [
             0.7777777777777778,
             "#fb9f3a"
            ],
            [
             0.8888888888888888,
             "#fdca26"
            ],
            [
             1.0,
             "#f0f921"
            ]
           ]
          },
          "colorway": [
           "#636efa",
           "#EF553B",
           "#00cc96",
           "#ab63fa",
           "#FFA15A",
           "#19d3f3",
           "#FF6692",
           "#B6E880",
           "#FF97FF",
           "#FECB52"
          ],
          "font": {
           "color": "#2a3f5f"
          },
          "geo": {
           "bgcolor": "white",
           "lakecolor": "white",
           "landcolor": "#E5ECF6",
           "showlakes": true,
           "showland": true,
           "subunitcolor": "white"
          },
          "hoverlabel": {
           "align": "left"
          },
          "hovermode": "closest",
          "mapbox": {
           "style": "light"
          },
          "paper_bgcolor": "white",
          "plot_bgcolor": "#E5ECF6",
          "polar": {
           "angularaxis": {
            "gridcolor": "white",
            "linecolor": "white",
            "ticks": ""
           },
           "bgcolor": "#E5ECF6",
           "radialaxis": {
            "gridcolor": "white",
            "linecolor": "white",
            "ticks": ""
           }
          },
          "scene": {
           "xaxis": {
            "backgroundcolor": "#E5ECF6",
            "gridcolor": "white",
            "gridwidth": 2,
            "linecolor": "white",
            "showbackground": true,
            "ticks": "",
            "zerolinecolor": "white"
           },
           "yaxis": {
            "backgroundcolor": "#E5ECF6",
            "gridcolor": "white",
            "gridwidth": 2,
            "linecolor": "white",
            "showbackground": true,
            "ticks": "",
            "zerolinecolor": "white"
           },
           "zaxis": {
            "backgroundcolor": "#E5ECF6",
            "gridcolor": "white",
            "gridwidth": 2,
            "linecolor": "white",
            "showbackground": true,
            "ticks": "",
            "zerolinecolor": "white"
           }
          },
          "shapedefaults": {
           "line": {
            "color": "#2a3f5f"
           }
          },
          "ternary": {
           "aaxis": {
            "gridcolor": "white",
            "linecolor": "white",
            "ticks": ""
           },
           "baxis": {
            "gridcolor": "white",
            "linecolor": "white",
            "ticks": ""
           },
           "bgcolor": "#E5ECF6",
           "caxis": {
            "gridcolor": "white",
            "linecolor": "white",
            "ticks": ""
           }
          },
          "title": {
           "x": 0.05
          },
          "xaxis": {
           "automargin": true,
           "gridcolor": "white",
           "linecolor": "white",
           "ticks": "",
           "title": {
            "standoff": 15
           },
           "zerolinecolor": "white",
           "zerolinewidth": 2
          },
          "yaxis": {
           "automargin": true,
           "gridcolor": "white",
           "linecolor": "white",
           "ticks": "",
           "title": {
            "standoff": 15
           },
           "zerolinecolor": "white",
           "zerolinewidth": 2
          }
         }
        },
        "xaxis": {
         "anchor": "y",
         "domain": [
          0.0,
          1.0
         ],
         "title": {
          "text": "X"
         }
        },
        "yaxis": {
         "anchor": "x",
         "domain": [
          0.0,
          1.0
         ],
         "title": {
          "text": "Y"
         }
        }
       }
      },
      "text/html": "<div>                            <div id=\"9c44fb83-7bd5-4c44-93bd-66959f53988a\" class=\"plotly-graph-div\" style=\"height:525px; width:100%;\"></div>            <script type=\"text/javascript\">                require([\"plotly\"], function(Plotly) {                    window.PLOTLYENV=window.PLOTLYENV || {};                                    if (document.getElementById(\"9c44fb83-7bd5-4c44-93bd-66959f53988a\")) {                    Plotly.newPlot(                        \"9c44fb83-7bd5-4c44-93bd-66959f53988a\",                        [{\"customdata\":[[\"t238/20\"],[\"court\"],[\"c661/19\"],[\"t160/20\"],[\"t682/18\"],[\"judgment\"],[\"the_court_grand_chamber\"],[\"c85/20\"],[\"t576/20\"],[\"t539/18\"],[\"t736/19\"],[\"c810/19\"],[\"t162/20\"],[\"case_c85/20_p\"],[\"t627/19\"],[\"t290/18\"],[\"c584/18\"],[\"c394/19\"],[\"c10/20\"],[\"order\"],[\"t753/19\"],[\"c32/19\"],[\"general\"],[\"t484/20\"],[\"action\"],[\"t12/21\"],[\"t585/19\"],[\"c218/19\"],[\"t388/20\"],[\"c626/18\"]],\"hovertemplate\":\"word_cluster=president<br>X=%{x}<br>Y=%{y}<br>word=%{customdata[0]}<extra></extra>\",\"legendgroup\":\"president\",\"marker\":{\"color\":\"#636efa\",\"symbol\":\"circle\"},\"mode\":\"markers\",\"name\":\"president\",\"orientation\":\"v\",\"showlegend\":true,\"type\":\"scatter\",\"x\":[-85.03063201904297,104.62348937988281,-69.92737579345703,-82.43450927734375,-76.49612426757812,107.00411987304688,-89.47435760498047,-82.4450454711914,-79.86036682128906,-70.507568359375,-80.75166320800781,-78.97442626953125,-86.12924194335938,-72.73824310302734,-74.96817779541016,-75.60659790039062,-71.58114624023438,-74.47854614257812,-82.7696762084961,105.95523834228516,-79.3138198852539,-78.03194427490234,104.31072235107422,-87.15440368652344,105.87273406982422,-85.3619384765625,-72.59651184082031,-76.87749481201172,-77.6163558959961,-73.0086441040039],\"xaxis\":\"x\",\"y\":[-92.20759582519531,35.3393440246582,-82.9730224609375,-90.99449920654297,-82.29210662841797,35.52556228637695,-94.48712921142578,-87.28607940673828,-88.8757553100586,-85.58817291259766,-84.12673950195312,-81.44595336914062,-94.65097045898438,-83.00811004638672,-83.94091796875,-86.52339172363281,-80.50592041015625,-80.71484375,-93.88715362548828,33.3242301940918,-86.58208465576172,-90.40450286865234,32.32389450073242,-91.26712036132812,37.33586120605469,-89.04756164550781,-88.35523986816406,-79.66138458251953,-84.35382843017578,-85.57203674316406],\"yaxis\":\"y\"},{\"customdata\":[[\"current\"],[\"address\"],[\"certain_transitional_provisions\"],[\"certain_periods\"],[\"the_extension\"],[\"outbreak\"],[\"periods\"],[\"wine\"],[\"specific_measures\"],[\"positioning\"],[\"due\"],[\"sure\"],[\"temporary_measures\"],[\"covid19\"],[\"resceu\"],[\"2020/1253\"],[\"by\"],[\"165/2014\"],[\"response\"],[\"context\"],[\"certain_measures\"],[\"2019/788\"],[\"containment\"],[\"transitional\"],[\"caused\"],[\"shortages\"],[\"referred\"],[\"the_covid19_outbreak\"],[\"eafrd\"],[\"1/2003\"]],\"hovertemplate\":\"word_cluster=covid<br>X=%{x}<br>Y=%{y}<br>word=%{customdata[0]}<extra></extra>\",\"legendgroup\":\"covid\",\"marker\":{\"color\":\"#EF553B\",\"symbol\":\"circle\"},\"mode\":\"markers\",\"name\":\"covid\",\"orientation\":\"v\",\"showlegend\":true,\"type\":\"scatter\",\"x\":[-36.332088470458984,101.364013671875,-78.79689025878906,100.57181549072266,23.630834579467773,115.50850677490234,99.04420471191406,-54.39945602416992,-39.20008087158203,-41.100364685058594,105.68061065673828,-30.534761428833008,-43.85924530029297,117.9238510131836,-35.47061538696289,-52.697959899902344,116.69435119628906,-41.704227447509766,110.05396270751953,100.67324829101562,-36.21125030517578,-52.56438064575195,-72.91404724121094,-43.45547103881836,103.16909790039062,-75.33155059814453,96.9566650390625,110.1390380859375,-52.748714447021484,-76.95165252685547],\"xaxis\":\"x\",\"y\":[-25.475345611572266,-1.2329703569412231,-54.633155822753906,-5.483668327331543,13.361666679382324,10.598819732666016,-6.187091827392578,-36.47011184692383,39.102378845214844,36.62324523925781,9.660323143005371,-18.67383575439453,35.48151779174805,13.979686737060547,-19.651063919067383,-38.91215896606445,8.813973426818848,35.021385192871094,10.604338645935059,1.5499387979507446,-21.337810516357422,-35.86224365234375,-67.89794158935547,38.235755920410156,2.8626973628997803,-54.03042984008789,-4.843140125274658,13.356732368469238,-12.922484397888184,-56.39869689941406],\"yaxis\":\"y\"},{\"customdata\":[[\"social\"],[\"committee\"],[\"bank\"],[\"the_european_economic_and_social_committee\"],[\"central\"],[\"classification\"],[\"the_committee\"],[\"joint\"],[\"regions\"],[\"cohesion\"],[\"social_fairness_and_resilience'_com2020\"],[\"investment\"],[\"institute\"],[\"'\"],[\"fund\"],[\"the_european_council\"],[\"the_regions\"],[\"just\"],[\"agenda\"],[\"the_european_committee\"],[\"icj\"],[\"the_regions_implementation\"],[\"2020/1264\"],[\"conclusions\"],[\"the_european_central_bank\"],[\"european\"],[\"solidarity\"],[\"cities\"],[\"globalisation\"],[\"the_representatives\"]],\"hovertemplate\":\"word_cluster=economic<br>X=%{x}<br>Y=%{y}<br>word=%{customdata[0]}<extra></extra>\",\"legendgroup\":\"economic\",\"marker\":{\"color\":\"#00cc96\",\"symbol\":\"circle\"},\"mode\":\"markers\",\"name\":\"economic\",\"orientation\":\"v\",\"showlegend\":true,\"type\":\"scatter\",\"x\":[78.10323333740234,79.64575958251953,76.46251678466797,78.7406234741211,76.41972351074219,3.4716081619262695,76.64384460449219,75.76913452148438,75.43101501464844,-76.2245864868164,-65.78030395507812,76.64041900634766,-74.66789245605469,76.61395263671875,79.10491943359375,73.24452209472656,74.64021301269531,-75.14581298828125,-74.00730895996094,73.81204223632812,-66.71424865722656,-68.11607360839844,-64.2583999633789,5.0806684494018555,73.76516723632812,81.58463287353516,-76.96503448486328,-74.11685180664062,-77.75932312011719,-77.76641082763672],\"xaxis\":\"x\",\"y\":[-24.00918197631836,-25.841602325439453,-12.950088500976562,-21.489397048950195,-10.83277702331543,-2.737774133682251,-20.560903549194336,-6.845881462097168,-22.785934448242188,-16.53713607788086,-65.75071716308594,-5.474750518798828,-19.79130744934082,-25.8950138092041,-8.163861274719238,-8.870485305786133,-20.672019958496094,-12.81031608581543,-15.84477424621582,-5.230167865753174,-63.402156829833984,-65.33985137939453,-63.009376525878906,-1.9887053966522217,-10.978623390197754,-22.340518951416016,-14.462193489074707,-21.812667846679688,-20.24782943725586,-18.42722511291504],\"yaxis\":\"y\"},{\"customdata\":[[\"macedonia\"],[\"chapter\"],[\"lithuania\"],[\"law_report_country_chapter\"],[\"analysis\"],[\"special\"],[\"biennial\"],[\"annual\"],[\"conferring\"],[\"20/2020\"],[\"portugal\"],[\"any_foundation\"],[\"railway\"],[\"computing\"],[\"spain\"],[\"mediumsize\"],[\"sweden\"],[\"luxembourg\"],[\"latvia\"],[\"france\"],[\"slovenia\"],[\"ireland\"],[\"law\"],[\"strategic_foresight\"],[\"enhanced\"],[\"estonia\"],[\"foresight\"],[\"enlargement_and_neighbourhood_partners\"],[\"clean\"],[\"accept\"]],\"hovertemplate\":\"word_cluster=country<br>X=%{x}<br>Y=%{y}<br>word=%{customdata[0]}<extra></extra>\",\"legendgroup\":\"country\",\"marker\":{\"color\":\"#ab63fa\",\"symbol\":\"circle\"},\"mode\":\"markers\",\"name\":\"country\",\"orientation\":\"v\",\"showlegend\":true,\"type\":\"scatter\",\"x\":[-63.20926284790039,51.83267593383789,43.47248840332031,54.42573547363281,35.54018020629883,42.41899108886719,-66.69076538085938,-46.45738220214844,-56.23667526245117,-65.28820037841797,88.46005249023438,-66.12157440185547,-61.41140365600586,-46.70293045043945,88.3956298828125,-57.22688674926758,39.58685302734375,48.431854248046875,46.33731460571289,90.38960266113281,40.879173278808594,66.63398742675781,65.85673522949219,-65.554443359375,-49.34560012817383,67.12914276123047,-59.5952262878418,-61.46451950073242,-56.9189338684082,-63.05984878540039],\"xaxis\":\"x\",\"y\":[-46.09864044189453,-4.355576515197754,0.9032480120658875,-3.3008294105529785,0.3707176744937897,3.6489481925964355,-53.7874641418457,20.790340423583984,-4.7610249519348145,-49.346534729003906,36.06136703491211,-56.979190826416016,-44.476497650146484,8.407687187194824,34.302467346191406,-2.1932880878448486,6.071540832519531,3.7382686138153076,3.385056734085083,36.291690826416016,0.017358236014842987,1.653051495552063,-18.750097274780273,-47.06022644042969,21.550880432128906,3.9962360858917236,-47.670169830322266,-40.3841438293457,-6.489284515380859,-50.74285888671875],\"yaxis\":\"y\"},{\"customdata\":[[\"principle\"],[\"consumer\"],[\"spouses\"],[\"movement\"],[\"used\"],[\"medicinal_products\"],[\"2_joint_undertaking\"],[\"out\"],[\"age\"],[\"thirdcountry\"],[\"protection\"],[\"acquisition\"],[\"deferral\"],[\"can\"],[\"management\"],[\"bankruptcy\"],[\"starting\"],[\"combatting\"],[\"the_european_centre\"],[\"the_full_text\"],[\"tobacco\"],[\"network\"],[\"treatment\"],[\"all\"],[\"local\"],[\"freedom\"],[\"opportunities\"],[\"equipment\"],[\"passenger\"],[\"contract\"]],\"hovertemplate\":\"word_cluster=workers<br>X=%{x}<br>Y=%{y}<br>word=%{customdata[0]}<extra></extra>\",\"legendgroup\":\"workers\",\"marker\":{\"color\":\"#FFA15A\",\"symbol\":\"circle\"},\"mode\":\"markers\",\"name\":\"workers\",\"orientation\":\"v\",\"showlegend\":true,\"type\":\"scatter\",\"x\":[83.5936508178711,-0.14393943548202515,-29.445297241210938,98.37843322753906,78.95973205566406,69.13493347167969,-51.967994689941406,93.43073272705078,-43.24357604980469,19.592912673950195,100.12255859375,-27.631031036376953,-22.027542114257812,22.001365661621094,88.85071563720703,-24.638507843017578,-27.715045928955078,17.659631729125977,-51.48784255981445,-41.80228042602539,-50.24640655517578,59.44376754760742,58.591434478759766,0.9987804293632507,-19.083786010742188,101.59869384765625,-23.298721313476562,-23.92207908630371,91.03564453125,42.089054107666016],\"xaxis\":\"x\",\"y\":[23.46784210205078,31.60216522216797,10.935546875,25.545780181884766,21.702322006225586,20.72123146057129,-27.87847328186035,25.094253540039062,-6.363091468811035,29.069063186645508,22.194753646850586,12.463388442993164,16.74437713623047,26.92629623413086,23.393930435180664,14.619751930236816,15.490572929382324,27.367446899414062,-25.360553741455078,-0.6875699162483215,-19.93914222717285,22.10918426513672,27.840011596679688,34.963985443115234,23.96722412109375,24.717247009277344,10.880526542663574,22.482519149780273,18.62228775024414,40.555076599121094],\"yaxis\":\"y\"},{\"customdata\":[[\"a_green,_digital_and_resilient_recovery\"],[\"border\"],[\"transfer\"],[\"marketing\"],[\"animal\"],[\"hydrocarbons\"],[\"united\"],[\"welfare\"],[\"preparing\"],[\"international\"],[\"india\"],[\"the_european_partnership\"],[\"set\"],[\"men\"],[\"biocidal\"],[\"activity\"],[\"meat\"],[\"relying\"],[\"scientific\"],[\"products\"],[\"civil\"],[\"contact\"],[\"payment\"],[\"maritime\"],[\"available\"],[\"women\"],[\"democratic\"],[\"animals\"],[\"consequences\"],[\"systems\"]],\"hovertemplate\":\"word_cluster=health<br>X=%{x}<br>Y=%{y}<br>word=%{customdata[0]}<extra></extra>\",\"legendgroup\":\"health\",\"marker\":{\"color\":\"#19d3f3\",\"symbol\":\"circle\"},\"mode\":\"markers\",\"name\":\"health\",\"orientation\":\"v\",\"showlegend\":true,\"type\":\"scatter\",\"x\":[-62.04214096069336,2.7873830795288086,-10.384857177734375,-1.910596489906311,46.36363220214844,-58.877506256103516,89.66170501708984,-56.2774658203125,-6.9788899421691895,73.44245147705078,-60.81801986694336,-66.7484359741211,-12.498082160949707,6.806583404541016,-63.3162841796875,4.887197494506836,-9.15589714050293,-67.660888671875,-64.99590301513672,104.7049560546875,76.44271087646484,-60.14657211303711,15.286739349365234,-62.90774154663086,11.079184532165527,12.305895805358887,-56.0606575012207,80.33454895019531,21.006528854370117,13.784758567810059],\"xaxis\":\"x\",\"y\":[-27.191560745239258,11.513090133666992,6.5038909912109375,10.471721649169922,18.48093605041504,4.839666366577148,13.383379936218262,3.8582730293273926,6.403435230255127,14.389381408691406,-30.210317611694336,-43.26866149902344,8.142801284790039,14.823604583740234,-24.304908752441406,11.522932052612305,10.660028457641602,-41.54236602783203,-27.709138870239258,17.12435531616211,15.18400764465332,-25.740406036376953,7.302639961242676,-30.616254806518555,8.623648643493652,11.324759483337402,-18.954248428344727,13.43448543548584,11.518129348754883,14.055745124816895],\"yaxis\":\"y\"},{\"customdata\":[[\"context\"],[\"caused\"],[\"persistence\"],[\"response\"],[\"renewal\"],[\"reinforcement\"],[\"pandemic\"],[\"the_covid19_crisis\"],[\"modernising\"],[\"agricultural_products\"],[\"territories\"],[\"threat\"],[\"since\"],[\"covid19\"],[\"or\"],[\"the_outbreak\"],[\"aftermath\"],[\"coronavirus\"],[\"dock\"],[\"in\"],[\"due\"],[\"our_economy\"],[\"sectors\"],[\"promotion_measures\"],[\"linked\"],[\"covid19_outbreak\"],[\"the_covid19_pandemic\"],[\"the_renewal\"],[\"difficulties\"],[\"consequences\"]],\"hovertemplate\":\"word_cluster=crisis<br>X=%{x}<br>Y=%{y}<br>word=%{customdata[0]}<extra></extra>\",\"legendgroup\":\"crisis\",\"marker\":{\"color\":\"#FF6692\",\"symbol\":\"circle\"},\"mode\":\"markers\",\"name\":\"crisis\",\"orientation\":\"v\",\"showlegend\":true,\"type\":\"scatter\",\"x\":[100.96153259277344,103.05999755859375,-25.445735931396484,111.55148315429688,107.9437255859375,-61.06169891357422,111.88185119628906,105.63063049316406,21.02306365966797,-17.738971710205078,-72.72222137451172,-74.47004699707031,-73.11705017089844,117.9238510131836,120.11529541015625,-13.748429298400879,-76.2221450805664,-12.485133171081543,-77.31649780273438,120.57174682617188,104.24972534179688,-74.21649932861328,-61.45899200439453,-20.49103355407715,-22.75535011291504,-56.59099578857422,104.14738464355469,109.6481704711914,-78.19432067871094,21.006528854370117],\"xaxis\":\"x\",\"y\":[3.3774023056030273,0.9785898923873901,34.30008316040039,11.203792572021484,-0.48271945118904114,-17.585987091064453,8.359356880187988,2.044715404510498,8.324310302734375,2.4023821353912354,-53.19734573364258,-51.648719787597656,-55.28850173950195,13.979686737060547,9.088632583618164,1.8777872323989868,-47.10593795776367,4.230520248413086,-51.13261795043945,11.257197380065918,10.29405403137207,-45.84819030761719,-20.775402069091797,-1.1412397623062134,-2.3331387042999268,-34.73014831542969,7.741253852844238,-0.5326634645462036,-44.47175598144531,11.518129348754883],\"yaxis\":\"y\"},{\"customdata\":[[\"limiting\"],[\"not\"],[\"alleged\"],[\"basis\"],[\"the_aid\"],[\"does\"],[\"converter\"],[\"standi\"],[\"net\"],[\"combustion\"],[\"ground\"],[\"sarscov2\"],[\"expenditure\"],[\"determination\"],[\"reimbursement\"],[\"interest\"],[\"added\"],[\"the_plan\"],[\"colour\"],[\"sale\"],[\"return\"],[\"refinancing\"],[\"voix\"],[\"proportionality\"],[\"1309/2013\"],[\"nature\"],[\"relative\"],[\"requirement\"],[\"admitted\"],[\"costs\"]],\"hovertemplate\":\"word_cluster=tax<br>X=%{x}<br>Y=%{y}<br>word=%{customdata[0]}<extra></extra>\",\"legendgroup\":\"tax\",\"marker\":{\"color\":\"#B6E880\",\"symbol\":\"circle\"},\"mode\":\"markers\",\"name\":\"tax\",\"orientation\":\"v\",\"showlegend\":true,\"type\":\"scatter\",\"x\":[3.271592140197754,104.9677734375,32.8677864074707,18.832284927368164,48.41805648803711,-13.6422758102417,-39.416175842285156,-48.38249588012695,38.20106506347656,-16.57029151916504,38.260345458984375,26.12349510192871,8.573078155517578,0.1285819262266159,22.761816024780273,31.385398864746094,4.965534210205078,-15.01831340789795,-46.75545120239258,-39.25272750854492,22.422271728515625,-0.5810978412628174,-36.397010803222656,45.48400115966797,-39.97746658325195,-28.599559783935547,-7.079196929931641,-17.820613861083984,1.0877609252929688,76.50533294677734],\"xaxis\":\"x\",\"y\":[42.23603820800781,22.786537170410156,38.70587921142578,36.11676788330078,37.05621337890625,41.395511627197266,-13.693404197692871,-26.32013511657715,40.02082061767578,40.038047790527344,36.53276443481445,35.94025802612305,42.263797760009766,39.321441650390625,35.87141418457031,36.54432678222656,45.17451858520508,44.505027770996094,-23.766368865966797,-10.965852737426758,40.269535064697266,45.08561706542969,-6.370283126831055,36.213783264160156,-17.83513069152832,24.899803161621094,45.2855224609375,44.718318939208984,47.66549301147461,25.0693302154541],\"yaxis\":\"y\"},{\"customdata\":[[\"chapter\"],[\"rule\"],[\"2020_rule\"],[\"law_situation\"],[\"the_rule\"],[\"law_report_country_chapter\"],[\"country\"],[\"analysis\"],[\"commission_staff_working_document\"],[\"any_foundation\"],[\"situation\"],[\"montenegro\"],[\"annual\"],[\"macrofinancial_assistance\"],[\"executive\"],[\"impact\"],[\"report\"],[\"greece\"],[\"agency\"],[\"biennial\"],[\"chafea\"],[\"sweden\"],[\"macedonia\"],[\"06/2020\"],[\"albania\"],[\"special\"],[\"the_recommendations\"],[\"schemes\"],[\"ireland\"],[\"croatia\"]],\"hovertemplate\":\"word_cluster=law<br>X=%{x}<br>Y=%{y}<br>word=%{customdata[0]}<extra></extra>\",\"legendgroup\":\"law\",\"marker\":{\"color\":\"#FF97FF\",\"symbol\":\"circle\"},\"mode\":\"markers\",\"name\":\"law\",\"orientation\":\"v\",\"showlegend\":true,\"type\":\"scatter\",\"x\":[52.44003677368164,65.17913818359375,57.682647705078125,59.21891784667969,57.552433013916016,55.006839752197266,87.76461029052734,35.54018020629883,57.58966064453125,-67.94129180908203,59.3607063293457,-69.48991394042969,-46.45738220214844,-62.02363967895508,70.9681625366211,56.5750732421875,67.21218872070312,65.93656158447266,70.8099136352539,-64.99857330322266,-67.5196762084961,38.42805099487305,-62.351741790771484,-64.76055145263672,-67.15419006347656,41.05612564086914,-68.89375305175781,-68.17912292480469,66.63398742675781,68.80449676513672],\"xaxis\":\"x\",\"y\":[-6.020586967468262,-17.17727279663086,-7.899582862854004,-10.190455436706543,-11.069478988647461,-4.9389543533325195,38.985321044921875,0.3707176744937897,-4.054453372955322,-56.45328903198242,-12.870197296142578,-32.625545501708984,20.790340423583984,-54.89088821411133,-15.665637016296387,-1.4302445650100708,-20.79412078857422,-1.7943137884140015,-14.113693237304688,-54.57528305053711,-59.47914123535156,5.078770637512207,-47.800514221191406,-60.5123291015625,-30.49248695373535,2.787332534790039,-62.93727493286133,-28.675931930541992,1.653051495552063,-0.04465017095208168],\"yaxis\":\"y\"},{\"customdata\":[[\"&\"],[\"reimbursement\"],[\"obligation\"],[\"attending\"],[\"children\"],[\"ground\"],[\"ensuring\"],[\"sums\"],[\"determination\"],[\"out\"],[\"starting\"],[\"uses\"],[\"carried\"],[\"this_opinion\"],[\"sale\"],[\"limiting\"],[\"paid\"],[\"proportionality\"],[\"residence\"],[\"maintenance\"],[\"deferral\"],[\"effect\"],[\"finantelor\"],[\"nature\"],[\"known\"],[\"the_field\"],[\"exception\"],[\"after\"],[\"efficient\"],[\"alleged\"]],\"hovertemplate\":\"word_cluster=costs<br>X=%{x}<br>Y=%{y}<br>word=%{customdata[0]}<extra></extra>\",\"legendgroup\":\"costs\",\"marker\":{\"color\":\"#FECB52\",\"symbol\":\"circle\"},\"mode\":\"markers\",\"name\":\"costs\",\"orientation\":\"v\",\"showlegend\":true,\"type\":\"scatter\",\"x\":[91.71350860595703,22.761816024780273,83.49019622802734,-31.24071502685547,29.66967010498047,38.260345458984375,61.414329528808594,42.782447814941406,-0.31081125140190125,93.43073272705078,-26.26182746887207,-35.715396881103516,-25.874662399291992,-41.924072265625,-39.052162170410156,3.805790901184082,80.27356719970703,45.48400115966797,48.56065368652344,-41.720027923583984,-22.027542114257812,-5.544430732727051,-36.17824172973633,-27.855018615722656,-4.08389139175415,62.33479309082031,-48.41962814331055,-3.911503553390503,21.572242736816406,34.835426330566406],\"xaxis\":\"x\",\"y\":[27.7603816986084,35.87141418457031,27.14695930480957,20.378509521484375,31.848081588745117,36.53276443481445,25.769712448120117,32.825599670410156,40.8497428894043,25.094253540039062,16.988107681274414,1.7114622592926025,25.3882999420166,-12.217045783996582,-9.303853988647461,40.759735107421875,25.25792121887207,36.213783264160156,34.12446594238281,-9.44717788696289,16.74437713623047,37.52621841430664,-1.7156468629837036,23.43431282043457,41.27521514892578,28.41459846496582,-21.3529052734375,34.89064407348633,32.33456802368164,38.64382553100586],\"yaxis\":\"y\"},{\"customdata\":[[\"smoked\"],[\"applied\"],[\"certain_products\"],[\"driving\"],[\"local\"],[\"joined\"],[\"activities\"],[\"living\"],[\"out\"],[\"administrative\"],[\"income\"],[\"management\"],[\"network\"],[\"accommodation\"],[\"the_issuance\"],[\"two\"],[\"principle\"],[\"passenger\"],[\"different\"],[\"been\"],[\"contract\"],[\"being\"],[\"issued\"],[\"live\"],[\"medicinal_products\"],[\"thresholds\"],[\"up\"],[\"lighting\"],[\"applicant\"],[\"made\"]],\"hovertemplate\":\"word_cluster=legal<br>X=%{x}<br>Y=%{y}<br>word=%{customdata[0]}<extra></extra>\",\"legendgroup\":\"legal\",\"marker\":{\"color\":\"#636efa\",\"symbol\":\"circle\"},\"mode\":\"markers\",\"name\":\"legal\",\"orientation\":\"v\",\"showlegend\":true,\"type\":\"scatter\",\"x\":[18.574337005615234,-38.4439697265625,3.7627670764923096,50.35166549682617,-20.237621307373047,-17.687686920166016,96.05491638183594,-37.242374420166016,93.43073272705078,-15.452840805053711,21.319072723388672,88.75765991210938,59.980262756347656,-41.9715576171875,-32.38946533203125,14.896503448486328,83.06100463867188,91.26658630371094,-53.6203727722168,-40.84075927734375,42.35737228393555,-46.348594665527344,64.77149200439453,-46.8384895324707,68.6053466796875,-39.076663970947266,54.04323196411133,-37.404850006103516,-35.23780059814453,86.0251693725586],\"xaxis\":\"x\",\"y\":[23.623449325561523,6.714597702026367,21.737953186035156,20.308074951171875,24.925790786743164,27.15780258178711,21.80170249938965,14.00357723236084,25.094253540039062,27.251136779785156,22.181312561035156,25.313343048095703,20.35978889465332,2.531569719314575,15.599732398986816,22.301326751708984,21.795061111450195,20.890399932861328,-25.89679527282715,8.800575256347656,38.86118698120117,1.3980993032455444,23.677114486694336,3.9360814094543457,22.391761779785156,3.503448247909546,22.956499099731445,11.073339462280273,17.0671329498291,24.674850463867188],\"yaxis\":\"y\"},{\"customdata\":[[\"alleged\"],[\"distribution\"],[\"known\"],[\"who\"],[\"the_project\"],[\"refinancing\"],[\"recorder\"],[\"are\"],[\"bring\"],[\"double\"],[\"eligibility\"],[\"partly\"],[\"trabalho\"],[\"radioactive_waste\"],[\"have\"],[\"relative\"],[\"land\"],[\"does\"],[\"trading\"],[\"uses\"],[\"the_plan\"],[\"antitrust\"],[\"capital\"],[\"dell'istruzione\"],[\"stemming\"],[\"admitted\"],[\"ground\"],[\"learning\"],[\"25hour\"],[\"it\"]],\"hovertemplate\":\"word_cluster=companies<br>X=%{x}<br>Y=%{y}<br>word=%{customdata[0]}<extra></extra>\",\"legendgroup\":\"companies\",\"marker\":{\"color\":\"#EF553B\",\"symbol\":\"circle\"},\"mode\":\"markers\",\"name\":\"companies\",\"orientation\":\"v\",\"showlegend\":true,\"type\":\"scatter\",\"x\":[34.07939147949219,-9.642265319824219,-3.6741397380828857,96.18623352050781,-44.925689697265625,-2.1227526664733887,-43.622127532958984,80.53521728515625,4.51027774810791,-38.233856201171875,25.71712303161621,-39.07158660888672,-46.07194519042969,-7.965762615203857,94.20215606689453,-8.356491088867188,-38.465911865234375,-12.457820892333984,48.915611267089844,-35.715396881103516,-14.018635749816895,-12.269095420837402,73.23048400878906,-49.207820892333984,-36.168277740478516,-0.30002179741859436,40.29901885986328,-33.53261184692383,-44.49772644042969,46.75993347167969],\"xaxis\":\"x\",\"y\":[36.73036193847656,37.94184875488281,42.926109313964844,27.500640869140625,-16.39067840576172,46.133148193359375,-18.320091247558594,28.645647048950195,49.58909606933594,-3.5592153072357178,40.7337646484375,-5.660477161407471,-18.99642562866211,40.55335235595703,29.259830474853516,44.20854949951172,0.6420851945877075,42.45712661743164,30.8321590423584,1.7114622592926025,45.83336639404297,37.02581787109375,26.52615737915039,-29.169353485107422,-11.140987396240234,48.77192306518555,35.9589958190918,-5.062865257263184,-20.54036521911621,29.79948616027832],\"yaxis\":\"y\"},{\"customdata\":[[\"men\"],[\"medicines\"],[\"those\"],[\"fostering\"],[\"the_framework\"],[\"gas\"],[\"systems\"],[\"women\"],[\"seriously\"],[\"the_production\"],[\"reduction\"],[\"civil\"],[\"citizen\"],[\"mercury\"],[\"passenger\"],[\"loss\"],[\"international\"],[\"asylum\"],[\"choosing\"],[\"welfare\"],[\"ensure\"],[\"disease\"],[\"pay\"],[\"denied_boarding\"],[\"pollutants\"],[\"the_aftermath\"],[\"processes\"],[\"rights\"],[\"their_accession\"],[\"scheme\"]],\"hovertemplate\":\"word_cluster=manufacturing<br>X=%{x}<br>Y=%{y}<br>word=%{customdata[0]}<extra></extra>\",\"legendgroup\":\"manufacturing\",\"marker\":{\"color\":\"#00cc96\",\"symbol\":\"circle\"},\"mode\":\"markers\",\"name\":\"manufacturing\",\"orientation\":\"v\",\"showlegend\":true,\"type\":\"scatter\",\"x\":[6.806583404541016,6.592750072479248,65.88945770263672,46.11566925048828,-50.974422454833984,-52.50738525390625,11.865503311157227,14.217185020446777,-50.161354064941406,1.8404902219772339,1.692122459411621,76.79833984375,-57.73558044433594,-8.270878791809082,92.99470520019531,0.8352468609809875,73.940185546875,-14.039266586303711,-48.581905364990234,-57.099056243896484,11.053788185119629,16.976743698120117,48.970890045166016,-55.302833557128906,-56.550453186035156,-55.29447555541992,-51.540340423583984,87.30321502685547,-55.31748962402344,51.01457977294922],\"xaxis\":\"x\",\"y\":[14.823604583740234,18.537336349487305,19.609590530395508,22.56193733215332,5.480867385864258,7.2015838623046875,13.855254173278809,11.362472534179688,-0.01351114921271801,21.384517669677734,19.26539421081543,13.535665512084961,-25.050281524658203,12.701385498046875,19.577301025390625,24.432819366455078,12.63049602508545,14.523527145385742,2.2650063037872314,2.5470683574676514,22.46300506591797,19.68935203552246,21.76009178161621,-27.77979278564453,-14.762832641601562,-13.322105407714844,3.541630983352661,19.61403465270996,-29.89034080505371,23.07042121887207],\"yaxis\":\"y\"},{\"customdata\":[[\"paid\"],[\"access\"],[\"laboratoires\"],[\"serious\"],[\"rights\"],[\"having\"],[\"that\"],[\"sums\"],[\"jurisdiction\"],[\"deferral\"],[\"transparency\"],[\"issued\"],[\"two\"],[\"financing\"],[\"costs\"],[\"scope\"],[\"ensuring\"],[\"procedural\"],[\"effect\"],[\"connected\"],[\"smoked\"],[\"ensure\"],[\"exclusion\"],[\"arising\"],[\"imposed\"],[\"consumer\"],[\"flights\"],[\"the_issuance\"],[\"starting\"],[\"radio\"]],\"hovertemplate\":\"word_cluster=property<br>X=%{x}<br>Y=%{y}<br>word=%{customdata[0]}<extra></extra>\",\"legendgroup\":\"property\",\"marker\":{\"color\":\"#ab63fa\",\"symbol\":\"circle\"},\"mode\":\"markers\",\"name\":\"property\",\"orientation\":\"v\",\"showlegend\":true,\"type\":\"scatter\",\"x\":[80.27356719970703,14.094057083129883,0.018213916569948196,51.397560119628906,87.30321502685547,-42.446693420410156,103.8711929321289,42.782447814941406,34.538116455078125,-23.04133415222168,-17.688684463500977,62.751930236816406,15.0747652053833,-33.53205871582031,76.82018280029297,14.995644569396973,63.5833625793457,-18.65983772277832,-4.03189754486084,-52.863311767578125,18.490005493164062,11.428409576416016,7.60327672958374,62.99962615966797,-15.819064140319824,-1.61118483543396,37.679412841796875,-32.11704635620117,-28.10931396484375,13.131354331970215],\"xaxis\":\"x\",\"y\":[25.25792121887207,26.87851905822754,27.814359664916992,30.285837173461914,19.61403465270996,7.499736785888672,21.07054328918457,32.825599670410156,32.580894470214844,18.5756893157959,19.686267852783203,23.613365173339844,23.955307006835938,4.7452192306518555,26.889896392822266,32.30943298339844,26.164470672607422,15.661582946777344,38.01044845581055,-30.29966926574707,21.93365478515625,20.841785430908203,27.609386444091797,21.13706398010254,19.501087188720703,31.378244400024414,31.854738235473633,17.170345306396484,17.494874954223633,32.21892166137695],\"yaxis\":\"y\"}],                        {\"legend\":{\"title\":{\"text\":\"word_cluster\"},\"tracegroupgap\":0},\"margin\":{\"t\":60},\"template\":{\"data\":{\"bar\":[{\"error_x\":{\"color\":\"#2a3f5f\"},\"error_y\":{\"color\":\"#2a3f5f\"},\"marker\":{\"line\":{\"color\":\"#E5ECF6\",\"width\":0.5},\"pattern\":{\"fillmode\":\"overlay\",\"size\":10,\"solidity\":0.2}},\"type\":\"bar\"}],\"barpolar\":[{\"marker\":{\"line\":{\"color\":\"#E5ECF6\",\"width\":0.5},\"pattern\":{\"fillmode\":\"overlay\",\"size\":10,\"solidity\":0.2}},\"type\":\"barpolar\"}],\"carpet\":[{\"aaxis\":{\"endlinecolor\":\"#2a3f5f\",\"gridcolor\":\"white\",\"linecolor\":\"white\",\"minorgridcolor\":\"white\",\"startlinecolor\":\"#2a3f5f\"},\"baxis\":{\"endlinecolor\":\"#2a3f5f\",\"gridcolor\":\"white\",\"linecolor\":\"white\",\"minorgridcolor\":\"white\",\"startlinecolor\":\"#2a3f5f\"},\"type\":\"carpet\"}],\"choropleth\":[{\"colorbar\":{\"outlinewidth\":0,\"ticks\":\"\"},\"type\":\"choropleth\"}],\"contour\":[{\"colorbar\":{\"outlinewidth\":0,\"ticks\":\"\"},\"colorscale\":[[0.0,\"#0d0887\"],[0.1111111111111111,\"#46039f\"],[0.2222222222222222,\"#7201a8\"],[0.3333333333333333,\"#9c179e\"],[0.4444444444444444,\"#bd3786\"],[0.5555555555555556,\"#d8576b\"],[0.6666666666666666,\"#ed7953\"],[0.7777777777777778,\"#fb9f3a\"],[0.8888888888888888,\"#fdca26\"],[1.0,\"#f0f921\"]],\"type\":\"contour\"}],\"contourcarpet\":[{\"colorbar\":{\"outlinewidth\":0,\"ticks\":\"\"},\"type\":\"contourcarpet\"}],\"heatmap\":[{\"colorbar\":{\"outlinewidth\":0,\"ticks\":\"\"},\"colorscale\":[[0.0,\"#0d0887\"],[0.1111111111111111,\"#46039f\"],[0.2222222222222222,\"#7201a8\"],[0.3333333333333333,\"#9c179e\"],[0.4444444444444444,\"#bd3786\"],[0.5555555555555556,\"#d8576b\"],[0.6666666666666666,\"#ed7953\"],[0.7777777777777778,\"#fb9f3a\"],[0.8888888888888888,\"#fdca26\"],[1.0,\"#f0f921\"]],\"type\":\"heatmap\"}],\"heatmapgl\":[{\"colorbar\":{\"outlinewidth\":0,\"ticks\":\"\"},\"colorscale\":[[0.0,\"#0d0887\"],[0.1111111111111111,\"#46039f\"],[0.2222222222222222,\"#7201a8\"],[0.3333333333333333,\"#9c179e\"],[0.4444444444444444,\"#bd3786\"],[0.5555555555555556,\"#d8576b\"],[0.6666666666666666,\"#ed7953\"],[0.7777777777777778,\"#fb9f3a\"],[0.8888888888888888,\"#fdca26\"],[1.0,\"#f0f921\"]],\"type\":\"heatmapgl\"}],\"histogram\":[{\"marker\":{\"pattern\":{\"fillmode\":\"overlay\",\"size\":10,\"solidity\":0.2}},\"type\":\"histogram\"}],\"histogram2d\":[{\"colorbar\":{\"outlinewidth\":0,\"ticks\":\"\"},\"colorscale\":[[0.0,\"#0d0887\"],[0.1111111111111111,\"#46039f\"],[0.2222222222222222,\"#7201a8\"],[0.3333333333333333,\"#9c179e\"],[0.4444444444444444,\"#bd3786\"],[0.5555555555555556,\"#d8576b\"],[0.6666666666666666,\"#ed7953\"],[0.7777777777777778,\"#fb9f3a\"],[0.8888888888888888,\"#fdca26\"],[1.0,\"#f0f921\"]],\"type\":\"histogram2d\"}],\"histogram2dcontour\":[{\"colorbar\":{\"outlinewidth\":0,\"ticks\":\"\"},\"colorscale\":[[0.0,\"#0d0887\"],[0.1111111111111111,\"#46039f\"],[0.2222222222222222,\"#7201a8\"],[0.3333333333333333,\"#9c179e\"],[0.4444444444444444,\"#bd3786\"],[0.5555555555555556,\"#d8576b\"],[0.6666666666666666,\"#ed7953\"],[0.7777777777777778,\"#fb9f3a\"],[0.8888888888888888,\"#fdca26\"],[1.0,\"#f0f921\"]],\"type\":\"histogram2dcontour\"}],\"mesh3d\":[{\"colorbar\":{\"outlinewidth\":0,\"ticks\":\"\"},\"type\":\"mesh3d\"}],\"parcoords\":[{\"line\":{\"colorbar\":{\"outlinewidth\":0,\"ticks\":\"\"}},\"type\":\"parcoords\"}],\"pie\":[{\"automargin\":true,\"type\":\"pie\"}],\"scatter\":[{\"marker\":{\"colorbar\":{\"outlinewidth\":0,\"ticks\":\"\"}},\"type\":\"scatter\"}],\"scatter3d\":[{\"line\":{\"colorbar\":{\"outlinewidth\":0,\"ticks\":\"\"}},\"marker\":{\"colorbar\":{\"outlinewidth\":0,\"ticks\":\"\"}},\"type\":\"scatter3d\"}],\"scattercarpet\":[{\"marker\":{\"colorbar\":{\"outlinewidth\":0,\"ticks\":\"\"}},\"type\":\"scattercarpet\"}],\"scattergeo\":[{\"marker\":{\"colorbar\":{\"outlinewidth\":0,\"ticks\":\"\"}},\"type\":\"scattergeo\"}],\"scattergl\":[{\"marker\":{\"colorbar\":{\"outlinewidth\":0,\"ticks\":\"\"}},\"type\":\"scattergl\"}],\"scattermapbox\":[{\"marker\":{\"colorbar\":{\"outlinewidth\":0,\"ticks\":\"\"}},\"type\":\"scattermapbox\"}],\"scatterpolar\":[{\"marker\":{\"colorbar\":{\"outlinewidth\":0,\"ticks\":\"\"}},\"type\":\"scatterpolar\"}],\"scatterpolargl\":[{\"marker\":{\"colorbar\":{\"outlinewidth\":0,\"ticks\":\"\"}},\"type\":\"scatterpolargl\"}],\"scatterternary\":[{\"marker\":{\"colorbar\":{\"outlinewidth\":0,\"ticks\":\"\"}},\"type\":\"scatterternary\"}],\"surface\":[{\"colorbar\":{\"outlinewidth\":0,\"ticks\":\"\"},\"colorscale\":[[0.0,\"#0d0887\"],[0.1111111111111111,\"#46039f\"],[0.2222222222222222,\"#7201a8\"],[0.3333333333333333,\"#9c179e\"],[0.4444444444444444,\"#bd3786\"],[0.5555555555555556,\"#d8576b\"],[0.6666666666666666,\"#ed7953\"],[0.7777777777777778,\"#fb9f3a\"],[0.8888888888888888,\"#fdca26\"],[1.0,\"#f0f921\"]],\"type\":\"surface\"}],\"table\":[{\"cells\":{\"fill\":{\"color\":\"#EBF0F8\"},\"line\":{\"color\":\"white\"}},\"header\":{\"fill\":{\"color\":\"#C8D4E3\"},\"line\":{\"color\":\"white\"}},\"type\":\"table\"}]},\"layout\":{\"annotationdefaults\":{\"arrowcolor\":\"#2a3f5f\",\"arrowhead\":0,\"arrowwidth\":1},\"autotypenumbers\":\"strict\",\"coloraxis\":{\"colorbar\":{\"outlinewidth\":0,\"ticks\":\"\"}},\"colorscale\":{\"diverging\":[[0,\"#8e0152\"],[0.1,\"#c51b7d\"],[0.2,\"#de77ae\"],[0.3,\"#f1b6da\"],[0.4,\"#fde0ef\"],[0.5,\"#f7f7f7\"],[0.6,\"#e6f5d0\"],[0.7,\"#b8e186\"],[0.8,\"#7fbc41\"],[0.9,\"#4d9221\"],[1,\"#276419\"]],\"sequential\":[[0.0,\"#0d0887\"],[0.1111111111111111,\"#46039f\"],[0.2222222222222222,\"#7201a8\"],[0.3333333333333333,\"#9c179e\"],[0.4444444444444444,\"#bd3786\"],[0.5555555555555556,\"#d8576b\"],[0.6666666666666666,\"#ed7953\"],[0.7777777777777778,\"#fb9f3a\"],[0.8888888888888888,\"#fdca26\"],[1.0,\"#f0f921\"]],\"sequentialminus\":[[0.0,\"#0d0887\"],[0.1111111111111111,\"#46039f\"],[0.2222222222222222,\"#7201a8\"],[0.3333333333333333,\"#9c179e\"],[0.4444444444444444,\"#bd3786\"],[0.5555555555555556,\"#d8576b\"],[0.6666666666666666,\"#ed7953\"],[0.7777777777777778,\"#fb9f3a\"],[0.8888888888888888,\"#fdca26\"],[1.0,\"#f0f921\"]]},\"colorway\":[\"#636efa\",\"#EF553B\",\"#00cc96\",\"#ab63fa\",\"#FFA15A\",\"#19d3f3\",\"#FF6692\",\"#B6E880\",\"#FF97FF\",\"#FECB52\"],\"font\":{\"color\":\"#2a3f5f\"},\"geo\":{\"bgcolor\":\"white\",\"lakecolor\":\"white\",\"landcolor\":\"#E5ECF6\",\"showlakes\":true,\"showland\":true,\"subunitcolor\":\"white\"},\"hoverlabel\":{\"align\":\"left\"},\"hovermode\":\"closest\",\"mapbox\":{\"style\":\"light\"},\"paper_bgcolor\":\"white\",\"plot_bgcolor\":\"#E5ECF6\",\"polar\":{\"angularaxis\":{\"gridcolor\":\"white\",\"linecolor\":\"white\",\"ticks\":\"\"},\"bgcolor\":\"#E5ECF6\",\"radialaxis\":{\"gridcolor\":\"white\",\"linecolor\":\"white\",\"ticks\":\"\"}},\"scene\":{\"xaxis\":{\"backgroundcolor\":\"#E5ECF6\",\"gridcolor\":\"white\",\"gridwidth\":2,\"linecolor\":\"white\",\"showbackground\":true,\"ticks\":\"\",\"zerolinecolor\":\"white\"},\"yaxis\":{\"backgroundcolor\":\"#E5ECF6\",\"gridcolor\":\"white\",\"gridwidth\":2,\"linecolor\":\"white\",\"showbackground\":true,\"ticks\":\"\",\"zerolinecolor\":\"white\"},\"zaxis\":{\"backgroundcolor\":\"#E5ECF6\",\"gridcolor\":\"white\",\"gridwidth\":2,\"linecolor\":\"white\",\"showbackground\":true,\"ticks\":\"\",\"zerolinecolor\":\"white\"}},\"shapedefaults\":{\"line\":{\"color\":\"#2a3f5f\"}},\"ternary\":{\"aaxis\":{\"gridcolor\":\"white\",\"linecolor\":\"white\",\"ticks\":\"\"},\"baxis\":{\"gridcolor\":\"white\",\"linecolor\":\"white\",\"ticks\":\"\"},\"bgcolor\":\"#E5ECF6\",\"caxis\":{\"gridcolor\":\"white\",\"linecolor\":\"white\",\"ticks\":\"\"}},\"title\":{\"x\":0.05},\"xaxis\":{\"automargin\":true,\"gridcolor\":\"white\",\"linecolor\":\"white\",\"ticks\":\"\",\"title\":{\"standoff\":15},\"zerolinecolor\":\"white\",\"zerolinewidth\":2},\"yaxis\":{\"automargin\":true,\"gridcolor\":\"white\",\"linecolor\":\"white\",\"ticks\":\"\",\"title\":{\"standoff\":15},\"zerolinecolor\":\"white\",\"zerolinewidth\":2}}},\"xaxis\":{\"anchor\":\"y\",\"domain\":[0.0,1.0],\"title\":{\"text\":\"X\"}},\"yaxis\":{\"anchor\":\"x\",\"domain\":[0.0,1.0],\"title\":{\"text\":\"Y\"}}},                        {\"responsive\": true}                    ).then(function(){\n                            \nvar gd = document.getElementById('9c44fb83-7bd5-4c44-93bd-66959f53988a');\nvar x = new MutationObserver(function (mutations, observer) {{\n        var display = window.getComputedStyle(gd).display;\n        if (!display || display === 'none') {{\n            console.log([gd, 'removed!']);\n            Plotly.purge(gd);\n            observer.disconnect();\n        }}\n}});\n\n// Listen for the removal of the full notebook cells\nvar notebookContainer = gd.closest('#notebook-container');\nif (notebookContainer) {{\n    x.observe(notebookContainer, {childList: true});\n}}\n\n// Listen for the clearing of the current output cell\nvar outputEl = gd.closest('.output');\nif (outputEl) {{\n    x.observe(outputEl, {childList: true});\n}}\n\n                        })                };                });            </script>        </div>"
     },
     "metadata": {},
     "output_type": "display_data"
    }
   ],
   "source": [
    "model2_word_cluster_plot = px.scatter(model2_word_embeddings_dataframe,\n",
    "                                      x='X', y='Y', color=model2_word_embeddings_dataframe.word_cluster,\n",
    "                                      labels={'color': 'word'}, hover_data=[\"word\"])\n",
    "model2_word_cluster_plot"
   ],
   "metadata": {
    "collapsed": false,
    "pycharm": {
     "name": "#%%\n"
    }
   }
  },
  {
   "cell_type": "markdown",
   "source": [
    "### Graph visualization for the third model"
   ],
   "metadata": {
    "collapsed": false
   }
  },
  {
   "cell_type": "code",
   "execution_count": 223,
   "outputs": [
    {
     "data": {
      "application/vnd.plotly.v1+json": {
       "config": {
        "plotlyServerURL": "https://plot.ly"
       },
       "data": [
        {
         "customdata": [
          [
           "the_president"
          ],
          [
           "court"
          ],
          [
           "chamber"
          ],
          [
           "eighth"
          ],
          [
           "79a/2020"
          ],
          [
           "the_alarm_state"
          ],
          [
           "59a/2020"
          ],
          [
           "the_republic"
          ],
          [
           "dated"
          ],
          [
           "republic"
          ],
          [
           "12339/404/"
          ],
          [
           "rectification"
          ],
          [
           "2nd"
          ],
          [
           "17"
          ],
          [
           "the_general_court"
          ],
          [
           "23"
          ],
          [
           "the_charter"
          ],
          [
           "individual_concern_article"
          ],
          [
           "grand"
          ],
          [
           "27"
          ],
          [
           "24"
          ],
          [
           "inpost_s.a._c432/19_p)_v_european_commission"
          ],
          [
           "legislative"
          ],
          [
           "13th"
          ],
          [
           "bmc"
          ],
          [
           "declares"
          ],
          [
           "the_contained_use"
          ],
          [
           "grandducal_regulation"
          ],
          [
           "the_trade_register"
          ],
          [
           "8"
          ]
         ],
         "hovertemplate": "word_cluster=president<br>X=%{x}<br>Y=%{y}<br>word=%{customdata[0]}<extra></extra>",
         "legendgroup": "president",
         "marker": {
          "color": "#636efa",
          "symbol": "circle"
         },
         "mode": "markers",
         "name": "president",
         "orientation": "v",
         "showlegend": true,
         "type": "scatter",
         "x": [
          -22.45693016052246,
          -100.09613037109375,
          -91.7868881225586,
          -89.35093688964844,
          -86.92657470703125,
          -78.22705078125,
          -77.51214599609375,
          -82.67024230957031,
          -92.89466094970703,
          -84.00965118408203,
          -75.41789245605469,
          -79.30422973632812,
          -93.9879150390625,
          -102.1361083984375,
          -20.127761840820312,
          -105.3398208618164,
          -88.35834503173828,
          -62.83665466308594,
          -87.76936340332031,
          -98.21138763427734,
          -99.315185546875,
          -65.392333984375,
          -93.3939208984375,
          -82.58990478515625,
          -70.62503051757812,
          -92.97635650634766,
          -68.28919219970703,
          -82.98423767089844,
          -67.85938262939453,
          -102.94784545898438
         ],
         "xaxis": "x",
         "y": [
          19.818689346313477,
          46.39596939086914,
          42.85184097290039,
          -56.49277114868164,
          -75.62924194335938,
          -75.48497772216797,
          -87.82609558105469,
          41.284210205078125,
          -57.80097961425781,
          43.7751579284668,
          -84.05171966552734,
          -83.20660400390625,
          -54.64024353027344,
          36.7024040222168,
          18.52245330810547,
          38.37483215332031,
          -70.86328125,
          -87.24152374267578,
          -61.65622329711914,
          36.524253845214844,
          41.05841827392578,
          -84.69103240966797,
          32.44229507446289,
          -72.50950622558594,
          -84.07804107666016,
          -69.53722381591797,
          -79.2942886352539,
          -65.76903533935547,
          -88.50174713134766,
          41.06901550292969
         ],
         "yaxis": "y"
        },
        {
         "customdata": [
          [
           "the_covid19_crisis'_com2020"
          ],
          [
           "anticrisis"
          ],
          [
           "shield"
          ],
          [
           "20.03.2020"
          ],
          [
           "233_final_2020/0113_cod"
          ],
          [
           "the_emergency_measures"
          ],
          [
           "million.the_scheme"
          ],
          [
           "the_governments"
          ],
          [
           "the_coronavirus"
          ],
          [
           "2021/267"
          ],
          [
           "19"
          ],
          [
           "the_legislative_act_20_march_2020_urgent_measures"
          ],
          [
           "outbreak"
          ],
          [
           "irreversible"
          ],
          [
           "an_emergency_situation"
          ],
          [
           "1552/201"
          ],
          [
           "the_intervention_measures"
          ],
          [
           "the_package"
          ],
          [
           "certain_measures"
          ],
          [
           "unemployment_risks"
          ],
          [
           "covid19_mutation"
          ],
          [
           "5.0"
          ],
          [
           "open_assembly_ban"
          ],
          [
           "the_temporary_antiepidemic_measures"
          ],
          [
           "the_covid19_pandemic'_com2020"
          ],
          [
           "urgent_measures"
          ],
          [
           "the_negative_economic_and_social_consequences"
          ],
          [
           "a_followup"
          ],
          [
           "the_initial_adhoc_regulation"
          ],
          [
           "the_legislative_act"
          ]
         ],
         "hovertemplate": "word_cluster=covid<br>X=%{x}<br>Y=%{y}<br>word=%{customdata[0]}<extra></extra>",
         "legendgroup": "covid",
         "marker": {
          "color": "#EF553B",
          "symbol": "circle"
         },
         "mode": "markers",
         "name": "covid",
         "orientation": "v",
         "showlegend": true,
         "type": "scatter",
         "x": [
          -59.246612548828125,
          -60.01808547973633,
          -63.111637115478516,
          -83.40315246582031,
          -57.1518669128418,
          -60.67316818237305,
          -61.65814208984375,
          -60.1288948059082,
          -38.84538650512695,
          -64.4478759765625,
          -103.22687530517578,
          -63.71308135986328,
          -39.39997482299805,
          -60.61336898803711,
          -47.724388122558594,
          -73.71331024169922,
          -56.00890350341797,
          -58.053646087646484,
          -56.16427993774414,
          -37.85490036010742,
          -57.868988037109375,
          -66.68694305419922,
          -55.87810516357422,
          -55.55138397216797,
          -63.109840393066406,
          -65.22288513183594,
          -61.510887145996094,
          -71.5483169555664,
          -73.16194915771484,
          -78.74755096435547
         ],
         "xaxis": "x",
         "y": [
          -58.45771789550781,
          6.654735565185547,
          8.51551342010498,
          -44.20817947387695,
          -92.7663803100586,
          -34.094417572021484,
          -94.81124877929688,
          -3.75293231010437,
          35.04173278808594,
          -6.751125812530518,
          32.3229866027832,
          -50.30989456176758,
          77.92762756347656,
          -91.39325714111328,
          -16.280651092529297,
          -44.02573013305664,
          -7.134314060211182,
          0.928142249584198,
          -40.64426040649414,
          28.101978302001953,
          -96.81634521484375,
          -72.08152770996094,
          -88.36103820800781,
          -83.3788833618164,
          -57.72329330444336,
          -46.45013427734375,
          -99.71720886230469,
          -60.009647369384766,
          -58.06837463378906,
          -44.9687385559082
         ],
         "yaxis": "y"
        },
        {
         "customdata": [
          [
           "hardship"
          ],
          [
           "impacts"
          ],
          [
           "oversight"
          ],
          [
           "complications"
          ],
          [
           "policy"
          ],
          [
           "stock"
          ],
          [
           "ship"
          ],
          [
           "committee"
          ],
          [
           "insurances"
          ],
          [
           "several_measures"
          ],
          [
           "the_coronavirus_pandemic"
          ],
          [
           "the_health_crisis_situation"
          ],
          [
           "actions"
          ],
          [
           "plans"
          ],
          [
           "the_virus_outbreak"
          ],
          [
           "policies"
          ],
          [
           "welfare"
          ],
          [
           "the_economic_and_social_impacts"
          ],
          [
           "governments"
          ],
          [
           "stabilization"
          ],
          [
           "economic_activities"
          ],
          [
           "its"
          ],
          [
           "downs"
          ],
          [
           "particularly"
          ],
          [
           "society"
          ],
          [
           "exclusion"
          ],
          [
           "distancing"
          ],
          [
           "channels"
          ],
          [
           "main"
          ],
          [
           "third"
          ]
         ],
         "hovertemplate": "word_cluster=economic<br>X=%{x}<br>Y=%{y}<br>word=%{customdata[0]}<extra></extra>",
         "legendgroup": "economic",
         "marker": {
          "color": "#00cc96",
          "symbol": "circle"
         },
         "mode": "markers",
         "name": "economic",
         "orientation": "v",
         "showlegend": true,
         "type": "scatter",
         "x": [
          -6.14279317855835,
          -52.88043975830078,
          -53.186737060546875,
          -53.45561599731445,
          13.857832908630371,
          -32.645694732666016,
          -55.53877258300781,
          13.511528968811035,
          3.3493964672088623,
          -52.02212142944336,
          -41.6597785949707,
          -54.12303924560547,
          3.933166265487671,
          2.5681164264678955,
          -47.90155029296875,
          17.1269474029541,
          14.04109001159668,
          -57.21785354614258,
          1.901373028755188,
          -59.69187927246094,
          -37.68214797973633,
          -19.734996795654297,
          -57.17691421508789,
          86.06522369384766,
          28.799549102783203,
          5.030426025390625,
          2.663853645324707,
          -41.33140182495117,
          4.054436206817627,
          -0.4113714098930359
         ],
         "xaxis": "x",
         "y": [
          -55.27656555175781,
          -3.919222593307495,
          -74.90323638916016,
          -93.31063842773438,
          49.31573486328125,
          -32.837074279785156,
          -70.70046997070312,
          53.45492935180664,
          -2.382075309753418,
          -11.129101753234863,
          -2.84118914604187,
          -64.84043884277344,
          38.490169525146484,
          35.57491683959961,
          -58.55183792114258,
          44.447914123535156,
          42.069576263427734,
          -46.7235107421875,
          40.7059440612793,
          -68.73387908935547,
          -37.107177734375,
          60.56435012817383,
          -75.13638305664062,
          33.98551940917969,
          44.39869689941406,
          -6.071281909942627,
          1.5301334857940674,
          -52.98774719238281,
          50.23414611816406,
          48.937408447265625
         ],
         "yaxis": "y"
        },
        {
         "customdata": [
          [
           "the_decline"
          ],
          [
           "the_commerce_sector"
          ],
          [
           "covid19_crisis"
          ],
          [
           "uk"
          ],
          [
           "the_covid19_emergency"
          ],
          [
           "the_emergency"
          ],
          [
           "social_services"
          ],
          [
           "remote_working"
          ],
          [
           "epidemiological"
          ],
          [
           "minimizing"
          ],
          [
           "the_wake"
          ],
          [
           "inappropriate"
          ],
          [
           "free_movement"
          ],
          [
           "minimise"
          ],
          [
           "finland"
          ],
          [
           "the_plant"
          ],
          [
           "character"
          ],
          [
           "launching"
          ],
          [
           "developments"
          ],
          [
           "economic_activities"
          ],
          [
           "existing_legislation"
          ],
          [
           "laws"
          ],
          [
           "covid19_pandemic"
          ],
          [
           "their_economies"
          ],
          [
           "covid19_infection"
          ],
          [
           "slovakia"
          ],
          [
           "contingency"
          ],
          [
           "affects"
          ],
          [
           "highly_pathogenic_avian_influenza"
          ],
          [
           "the_restrictions"
          ]
         ],
         "hovertemplate": "word_cluster=country<br>X=%{x}<br>Y=%{y}<br>word=%{customdata[0]}<extra></extra>",
         "legendgroup": "country",
         "marker": {
          "color": "#ab63fa",
          "symbol": "circle"
         },
         "mode": "markers",
         "name": "country",
         "orientation": "v",
         "showlegend": true,
         "type": "scatter",
         "x": [
          -49.6026611328125,
          -49.27089309692383,
          -46.22945022583008,
          29.50693702697754,
          -42.73560333251953,
          -43.087337493896484,
          -48.81169509887695,
          -35.2280387878418,
          -47.11129379272461,
          -48.25832748413086,
          -52.71409225463867,
          -46.19977951049805,
          -41.93895721435547,
          -37.854400634765625,
          29.522951126098633,
          -44.95235061645508,
          -42.42793273925781,
          -50.97978591918945,
          -42.39130401611328,
          -38.10859680175781,
          -48.53472900390625,
          -46.135074615478516,
          -44.164093017578125,
          -54.529319763183594,
          -39.10520553588867,
          25.75951385498047,
          -38.27315902709961,
          -33.69211959838867,
          -48.71746826171875,
          -39.78150177001953
         ],
         "xaxis": "x",
         "y": [
          -39.4088249206543,
          -46.267269134521484,
          -7.093429088592529,
          17.00537872314453,
          -6.666465759277344,
          25.483739852905273,
          -34.57890319824219,
          -4.172492027282715,
          13.334403991699219,
          -50.186100006103516,
          -51.08552551269531,
          -69.61245727539062,
          -15.447304725646973,
          -10.702503204345703,
          21.383312225341797,
          -34.939456939697266,
          -47.70471954345703,
          13.043768882751465,
          -11.899200439453125,
          -39.636051177978516,
          -62.257137298583984,
          19.018672943115234,
          31.293474197387695,
          -54.59454345703125,
          -17.248308181762695,
          19.749818801879883,
          -30.29592514038086,
          2.71905517578125,
          -73.42005157470703,
          1.5595475435256958
         ],
         "yaxis": "y"
        },
        {
         "customdata": [
          [
           "employees"
          ],
          [
           "groups"
          ],
          [
           "those"
          ],
          [
           "people"
          ],
          [
           "persons"
          ],
          [
           "all"
          ],
          [
           "customers"
          ],
          [
           "conditions"
          ],
          [
           "care"
          ],
          [
           "individuals"
          ],
          [
           "unemployed"
          ],
          [
           "personnel"
          ],
          [
           "staff"
          ],
          [
           "other_reasons"
          ],
          [
           "the_people"
          ],
          [
           "sectors"
          ],
          [
           "covid19_patients"
          ],
          [
           "parents"
          ],
          [
           "employers"
          ],
          [
           "themselves"
          ],
          [
           "them"
          ],
          [
           "need"
          ],
          [
           "activities"
          ],
          [
           "nonfinancial_undertakings"
          ],
          [
           "workplaces"
          ],
          [
           "vulnerable"
          ],
          [
           "the_employees"
          ],
          [
           "their_employees"
          ],
          [
           "both"
          ],
          [
           "the_private_sector"
          ]
         ],
         "hovertemplate": "word_cluster=workers<br>X=%{x}<br>Y=%{y}<br>word=%{customdata[0]}<extra></extra>",
         "legendgroup": "workers",
         "marker": {
          "color": "#FFA15A",
          "symbol": "circle"
         },
         "mode": "markers",
         "name": "workers",
         "orientation": "v",
         "showlegend": true,
         "type": "scatter",
         "x": [
          128.4929656982422,
          79.90850067138672,
          122.86417388916016,
          120.46380615234375,
          118.44995880126953,
          94.82693481445312,
          83.37356567382812,
          76.13899230957031,
          74.09719848632812,
          109.6905746459961,
          112.41011810302734,
          72.92890930175781,
          76.18368530273438,
          -37.59136962890625,
          -23.743967056274414,
          97.59614562988281,
          -21.966642379760742,
          108.64022827148438,
          97.72200775146484,
          84.60430145263672,
          95.1369400024414,
          85.9667739868164,
          102.07254791259766,
          -44.03897476196289,
          26.194353103637695,
          82.23472595214844,
          43.630828857421875,
          42.353729248046875,
          88.83546447753906,
          12.902604103088379
         ],
         "xaxis": "x",
         "y": [
          14.021459579467773,
          27.338668823242188,
          12.348481178283691,
          4.9337592124938965,
          10.556313514709473,
          23.04631996154785,
          22.105510711669922,
          -3.7612366676330566,
          41.58580017089844,
          15.187370300292969,
          10.949769973754883,
          19.19617462158203,
          38.77468490600586,
          -91.48536682128906,
          -66.64728546142578,
          38.17533493041992,
          -70.07881164550781,
          9.021004676818848,
          24.622631072998047,
          17.95646095275879,
          9.30163860321045,
          13.345868110656738,
          44.62305450439453,
          -91.76507568359375,
          31.4063777923584,
          29.985559463500977,
          -18.72410011291504,
          -14.56908893585205,
          29.027530670166016,
          -23.544994354248047
         ],
         "yaxis": "y"
        },
        {
         "customdata": [
          [
           "safety"
          ],
          [
           "the_health"
          ],
          [
           "protection"
          ],
          [
           "public"
          ],
          [
           "workers_health"
          ],
          [
           "workplaces"
          ],
          [
           "threats"
          ],
          [
           "occupational"
          ],
          [
           "the_protection"
          ],
          [
           "wellbeing"
          ],
          [
           "smooth"
          ],
          [
           "border_management_measures"
          ],
          [
           "quality"
          ],
          [
           "community"
          ],
          [
           "ensuring"
          ],
          [
           "administrations"
          ],
          [
           "society"
          ],
          [
           "occupational_health"
          ],
          [
           "animal"
          ],
          [
           "the_smes"
          ],
          [
           "civil"
          ],
          [
           "market"
          ],
          [
           "citizens"
          ],
          [
           "services"
          ],
          [
           "operation"
          ],
          [
           "issues"
          ],
          [
           "consumers"
          ],
          [
           "authorities"
          ],
          [
           "the_risks"
          ],
          [
           "the_workplace"
          ]
         ],
         "hovertemplate": "word_cluster=health<br>X=%{x}<br>Y=%{y}<br>word=%{customdata[0]}<extra></extra>",
         "legendgroup": "health",
         "marker": {
          "color": "#19d3f3",
          "symbol": "circle"
         },
         "mode": "markers",
         "name": "health",
         "orientation": "v",
         "showlegend": true,
         "type": "scatter",
         "x": [
          43.83717346191406,
          9.159868240356445,
          40.30412292480469,
          60.737693786621094,
          -33.3956413269043,
          25.293804168701172,
          -34.32295227050781,
          40.50832748413086,
          12.758172035217285,
          10.271737098693848,
          -19.195999145507812,
          -47.232666015625,
          14.884886741638184,
          50.11419677734375,
          43.37684631347656,
          -16.57575798034668,
          28.799549102783203,
          -30.495174407958984,
          14.008944511413574,
          -47.516326904296875,
          42.9365119934082,
          56.11287307739258,
          32.97638702392578,
          70.2885513305664,
          60.22994613647461,
          32.844993591308594,
          13.219258308410645,
          22.90500259399414,
          -34.627262115478516,
          21.74957275390625
         ],
         "xaxis": "x",
         "y": [
          50.049320220947266,
          23.92451286315918,
          47.318634033203125,
          51.3630256652832,
          -40.385528564453125,
          33.844444274902344,
          -47.04270935058594,
          41.444984436035156,
          25.2110538482666,
          19.1074275970459,
          -22.79787826538086,
          -97.29896545410156,
          22.789796829223633,
          44.010040283203125,
          41.99660873413086,
          -21.536151885986328,
          44.39869689941406,
          -46.4033317565918,
          18.887664794921875,
          -102.11483764648438,
          36.64092254638672,
          49.576698303222656,
          48.3826904296875,
          45.916648864746094,
          46.09635543823242,
          40.643821716308594,
          -14.034162521362305,
          45.82758712768555,
          -14.883169174194336,
          31.26805877685547
         ],
         "yaxis": "y"
        },
        {
         "customdata": [
          [
           "pandemic"
          ],
          [
           "the_crisis"
          ],
          [
           "the_pandemic"
          ],
          [
           "the_covid19_crisis"
          ],
          [
           "virus"
          ],
          [
           "the_covid19_pandemic"
          ],
          [
           "epidemic"
          ],
          [
           "corona"
          ],
          [
           "the_corona_crisis"
          ],
          [
           "lockdown"
          ],
          [
           "situation"
          ],
          [
           "the_coronavirus_crisis"
          ],
          [
           "the_second_wave"
          ],
          [
           "the_outbreak"
          ],
          [
           "the_coronavirus"
          ],
          [
           "coronavirus"
          ],
          [
           "contagion"
          ],
          [
           "the_economic_crisis"
          ],
          [
           "the_health_crisis"
          ],
          [
           "outbreak"
          ],
          [
           "negative"
          ],
          [
           "the_current_holiday_season"
          ],
          [
           "the_effects"
          ],
          [
           "current"
          ],
          [
           "the_covid19_outbreak"
          ],
          [
           "restrictions"
          ],
          [
           "covid19_pandemic"
          ],
          [
           "impact"
          ],
          [
           "caused"
          ],
          [
           "this_crisis"
          ]
         ],
         "hovertemplate": "word_cluster=crisis<br>X=%{x}<br>Y=%{y}<br>word=%{customdata[0]}<extra></extra>",
         "legendgroup": "crisis",
         "marker": {
          "color": "#FF6692",
          "symbol": "circle"
         },
         "mode": "markers",
         "name": "crisis",
         "orientation": "v",
         "showlegend": true,
         "type": "scatter",
         "x": [
          -41.175048828125,
          -31.580215454101562,
          -32.811973571777344,
          -35.755035400390625,
          -41.565673828125,
          -36.19557571411133,
          -39.96022033691406,
          -39.22886276245117,
          -46.04726028442383,
          -45.12849044799805,
          -44.647483825683594,
          -55.83290100097656,
          -47.579124450683594,
          -41.47652816772461,
          -36.211021423339844,
          -39.956878662109375,
          -46.39091873168945,
          -56.30143356323242,
          -41.912803649902344,
          -36.788612365722656,
          -34.823482513427734,
          -54.485374450683594,
          -37.12979507446289,
          -35.84351348876953,
          -37.52534103393555,
          -44.3153190612793,
          -46.595420837402344,
          -47.20664596557617,
          -32.01402282714844,
          -52.361026763916016
         ],
         "xaxis": "x",
         "y": [
          72.35643005371094,
          61.763389587402344,
          65.5046157836914,
          62.98735809326172,
          53.35783767700195,
          68.04314422607422,
          49.82392883300781,
          61.30559539794922,
          37.13605880737305,
          45.330535888671875,
          63.547611236572266,
          -22.06313133239746,
          -1.2358213663101196,
          39.119625091552734,
          34.97726821899414,
          65.28470611572266,
          5.151645183563232,
          -25.889671325683594,
          8.078363418579102,
          77.20088958740234,
          39.728302001953125,
          -101.64434051513672,
          44.8422966003418,
          52.411861419677734,
          56.38832092285156,
          50.31028747558594,
          30.31403923034668,
          55.29765701293945,
          72.70856475830078,
          -25.6905460357666
         ],
         "yaxis": "y"
        },
        {
         "customdata": [
          [
           "payment"
          ],
          [
           "payments"
          ],
          [
           "taxes"
          ],
          [
           "rent"
          ],
          [
           "vat"
          ],
          [
           "interest"
          ],
          [
           "deferral"
          ],
          [
           "advance"
          ],
          [
           "lumpsum"
          ],
          [
           "repayment"
          ],
          [
           "compensation"
          ],
          [
           "the_payment"
          ],
          [
           "income"
          ],
          [
           "partial"
          ],
          [
           "added"
          ],
          [
           "exemption"
          ],
          [
           "the_loss"
          ],
          [
           "the_repayment"
          ],
          [
           "social_security_contributions"
          ],
          [
           "social_contributions"
          ],
          [
           "allowance"
          ],
          [
           "installments"
          ],
          [
           "expenses"
          ],
          [
           "rate"
          ],
          [
           "reimbursement"
          ],
          [
           "benefits"
          ],
          [
           "the_care_allowance"
          ],
          [
           "the_exploitation"
          ],
          [
           "instalments"
          ],
          [
           "maternity"
          ]
         ],
         "hovertemplate": "word_cluster=tax<br>X=%{x}<br>Y=%{y}<br>word=%{customdata[0]}<extra></extra>",
         "legendgroup": "tax",
         "marker": {
          "color": "#B6E880",
          "symbol": "circle"
         },
         "mode": "markers",
         "name": "tax",
         "orientation": "v",
         "showlegend": true,
         "type": "scatter",
         "x": [
          117.59221649169922,
          101.25308990478516,
          77.61006927490234,
          93.19219970703125,
          73.95909118652344,
          96.373291015625,
          73.8939208984375,
          43.7327995300293,
          -16.255237579345703,
          72.6533432006836,
          115.78253936767578,
          71.90235137939453,
          116.20919036865234,
          84.40459442138672,
          45.123931884765625,
          65.62273406982422,
          26.85123634338379,
          -22.145307540893555,
          41.74687957763672,
          10.100345611572266,
          110.61266326904297,
          37.275291442871094,
          89.3645248413086,
          91.48908233642578,
          70.6180648803711,
          107.03258514404297,
          -20.417747497558594,
          -47.913726806640625,
          31.52161979675293,
          7.5270795822143555
         ],
         "xaxis": "x",
         "y": [
          -43.95783233642578,
          -42.4547233581543,
          -37.24629211425781,
          -29.647666931152344,
          -43.12049102783203,
          -47.17436218261719,
          -35.400020599365234,
          -39.16507339477539,
          -84.29493713378906,
          -39.783447265625,
          -37.46244812011719,
          -25.978328704833984,
          -50.44622039794922,
          -32.38589096069336,
          -43.73731994628906,
          -30.999052047729492,
          -39.874000549316406,
          -90.51213836669922,
          -36.23228073120117,
          -42.98941421508789,
          -38.80144500732422,
          -40.75761795043945,
          -25.49247169494629,
          -48.61875534057617,
          -31.66342544555664,
          -44.360958099365234,
          -86.6748275756836,
          -90.70235443115234,
          -42.95590591430664,
          -45.13416290283203
         ],
         "yaxis": "y"
        },
        {
         "customdata": [
          [
           "the_law"
          ],
          [
           "decree"
          ],
          [
           "act"
          ],
          [
           "amendments"
          ],
          [
           "the_act"
          ],
          [
           "6/2020"
          ],
          [
           "chapter"
          ],
          [
           "9/2020"
          ],
          [
           "lithuania"
          ],
          [
           "xii2769"
          ],
          [
           "issued"
          ],
          [
           "draft"
          ],
          [
           "ordinance"
          ],
          [
           "7/2020"
          ],
          [
           "75/2020"
          ],
          [
           "18/2020"
          ],
          [
           "7/2009"
          ],
          [
           "the_italian_government"
          ],
          [
           "4/2020"
          ],
          [
           "legislative"
          ],
          [
           "the_decree"
          ],
          [
           "10a/2020"
          ],
          [
           "the_forest_act"
          ],
          [
           "lithuania.in_addition"
          ],
          [
           "treaty"
          ],
          [
           "xiii2862"
          ],
          [
           "the_rule"
          ],
          [
           "5_february"
          ],
          [
           "decreelaw"
          ],
          [
           "epidemic_covid19"
          ]
         ],
         "hovertemplate": "word_cluster=law<br>X=%{x}<br>Y=%{y}<br>word=%{customdata[0]}<extra></extra>",
         "legendgroup": "law",
         "marker": {
          "color": "#FF97FF",
          "symbol": "circle"
         },
         "mode": "markers",
         "name": "law",
         "orientation": "v",
         "showlegend": true,
         "type": "scatter",
         "x": [
          -87.73385620117188,
          -93.8797607421875,
          -89.7426528930664,
          -81.51539611816406,
          -82.64031219482422,
          -87.88513946533203,
          -71.77980041503906,
          -91.428955078125,
          -80.24309539794922,
          -76.13665771484375,
          -87.38518524169922,
          -79.35220336914062,
          -80.7159652709961,
          -88.9065933227539,
          -83.107421875,
          -91.2704086303711,
          -96.63446044921875,
          -81.70269775390625,
          -96.61775207519531,
          -93.3939208984375,
          -56.339054107666016,
          -88.13825988769531,
          -70.5743179321289,
          -65.44435119628906,
          22.039758682250977,
          -73.59386444091797,
          -69.2526626586914,
          -71.28197479248047,
          -96.89778137207031,
          -65.76119232177734
         ],
         "xaxis": "x",
         "y": [
          24.638208389282227,
          23.982946395874023,
          19.945756912231445,
          26.929391860961914,
          22.640361785888672,
          -79.72721099853516,
          26.177677154541016,
          -45.311920166015625,
          38.56210708618164,
          -97.68380737304688,
          29.032241821289062,
          22.40818977355957,
          19.282955169677734,
          -86.19132232666016,
          -88.96400451660156,
          -40.392982482910156,
          -83.29989624023438,
          -94.28944396972656,
          -80.42347717285156,
          32.44229507446289,
          13.569721221923828,
          -45.351951599121094,
          -93.7940902709961,
          -93.0937271118164,
          -25.584379196166992,
          -90.79950714111328,
          27.190858840942383,
          -97.61714935302734,
          29.647899627685547,
          -97.69488525390625
         ],
         "yaxis": "y"
        },
        {
         "customdata": [
          [
           "fixed_costs"
          ],
          [
           "expenses"
          ],
          [
           "fixed"
          ],
          [
           "rent"
          ],
          [
           "financing"
          ],
          [
           "working_capital"
          ],
          [
           "compensation"
          ],
          [
           "allowance"
          ],
          [
           "basic"
          ],
          [
           "subsidy"
          ],
          [
           "reimbursement"
          ],
          [
           "interest_rates"
          ],
          [
           "wages"
          ],
          [
           "credit"
          ],
          [
           "receiving"
          ],
          [
           "percentage"
          ],
          [
           "wage"
          ],
          [
           "coverage"
          ],
          [
           "loans"
          ],
          [
           "90"
          ],
          [
           "80"
          ],
          [
           "income"
          ],
          [
           "grant"
          ],
          [
           "repayments"
          ],
          [
           "loss"
          ],
          [
           "75"
          ],
          [
           "the_unemployed"
          ],
          [
           "an_indemnity"
          ],
          [
           "net"
          ],
          [
           "child"
          ]
         ],
         "hovertemplate": "word_cluster=costs<br>X=%{x}<br>Y=%{y}<br>word=%{customdata[0]}<extra></extra>",
         "legendgroup": "costs",
         "marker": {
          "color": "#FECB52",
          "symbol": "circle"
         },
         "mode": "markers",
         "name": "costs",
         "orientation": "v",
         "showlegend": true,
         "type": "scatter",
         "x": [
          20.67025375366211,
          88.02130889892578,
          90.03248596191406,
          91.80665588378906,
          101.12815856933594,
          22.104305267333984,
          115.78253936767578,
          111.8996353149414,
          87.60733795166016,
          111.72293853759766,
          70.6180648803711,
          -31.167221069335938,
          97.04005432128906,
          102.8095932006836,
          94.4034652709961,
          33.0408935546875,
          106.74139404296875,
          29.87306022644043,
          109.02903747558594,
          83.95681762695312,
          87.60586547851562,
          116.20919036865234,
          109.81192016601562,
          31.48586654663086,
          82.24348449707031,
          86.54348754882812,
          19.12701988220215,
          -25.647964477539062,
          83.7869644165039,
          83.33624267578125
         ],
         "xaxis": "x",
         "y": [
          -51.2802734375,
          -27.776927947998047,
          -40.346046447753906,
          -32.119285583496094,
          -15.412606239318848,
          -48.0155029296875,
          -37.46244812011719,
          -41.235809326171875,
          -37.466251373291016,
          -31.22393798828125,
          -31.66342544555664,
          -91.6392822265625,
          -31.772668838500977,
          -17.854995727539062,
          -37.64320755004883,
          -34.29743576049805,
          -34.61913299560547,
          -35.37162780761719,
          -20.086790084838867,
          -47.78595733642578,
          -50.27688980102539,
          -50.44622039794922,
          -28.149860382080078,
          -47.442626953125,
          -28.2560977935791,
          -45.87567138671875,
          -44.97285842895508,
          -89.9975814819336,
          -40.40849685668945,
          -20.837095260620117
         ],
         "yaxis": "y"
        },
        {
         "customdata": [
          [
           "types"
          ],
          [
           "requirements"
          ],
          [
           "permanent"
          ],
          [
           "certain"
          ],
          [
           "suspension"
          ],
          [
           "free"
          ],
          [
           "fixedterm"
          ],
          [
           "operation"
          ],
          [
           "single"
          ],
          [
           "contract"
          ],
          [
           "individual"
          ],
          [
           "rental"
          ],
          [
           "dependent"
          ],
          [
           "entities"
          ],
          [
           "dismissal"
          ],
          [
           "contracts"
          ],
          [
           "provision"
          ],
          [
           "property"
          ],
          [
           "job"
          ],
          [
           "possession"
          ],
          [
           "terms"
          ],
          [
           "freedom"
          ],
          [
           "hiring"
          ],
          [
           "the_collection"
          ],
          [
           "openended"
          ],
          [
           "reasons"
          ],
          [
           "performance"
          ],
          [
           "personnel"
          ],
          [
           "maintenance"
          ],
          [
           "following_topics"
          ]
         ],
         "hovertemplate": "word_cluster=legal<br>X=%{x}<br>Y=%{y}<br>word=%{customdata[0]}<extra></extra>",
         "legendgroup": "legal",
         "marker": {
          "color": "#636efa",
          "symbol": "circle"
         },
         "mode": "markers",
         "name": "legal",
         "orientation": "v",
         "showlegend": true,
         "type": "scatter",
         "x": [
          27.867582321166992,
          62.21059799194336,
          45.384822845458984,
          64.36019134521484,
          73.16937255859375,
          65.1044692993164,
          40.246620178222656,
          58.513675689697266,
          50.57086944580078,
          79.64767456054688,
          72.7237548828125,
          38.430110931396484,
          44.84260940551758,
          57.921791076660156,
          28.628507614135742,
          76.27375793457031,
          64.96009063720703,
          24.64512062072754,
          76.00938415527344,
          -25.092830657958984,
          60.11504364013672,
          57.601016998291016,
          52.164825439453125,
          11.160595893859863,
          15.897045135498047,
          67.57840728759766,
          44.387596130371094,
          75.30842590332031,
          56.01755142211914,
          -45.43669128417969
         ],
         "xaxis": "x",
         "y": [
          -14.829937934875488,
          10.091679573059082,
          9.408989906311035,
          43.59113311767578,
          -19.478023529052734,
          19.948909759521484,
          0.8600736260414124,
          44.248443603515625,
          14.098283767700195,
          -16.475910186767578,
          14.193950653076172,
          -4.210946083068848,
          -0.2282779961824417,
          8.125843048095703,
          -18.819717407226562,
          -11.54181957244873,
          23.707006454467773,
          -2.466209650039673,
          10.2803955078125,
          -53.44107437133789,
          28.782760620117188,
          15.613805770874023,
          7.65695858001709,
          -53.45521926879883,
          -39.34410858154297,
          -24.87949562072754,
          16.241905212402344,
          18.23663902282715,
          24.99808120727539,
          -85.21363830566406
         ],
         "yaxis": "y"
        },
        {
         "customdata": [
          [
           "businesses"
          ],
          [
           "entrepreneurs"
          ],
          [
           "enterprises"
          ],
          [
           "smes"
          ],
          [
           "business"
          ],
          [
           "council_tax_relief"
          ],
          [
           "sectors"
          ],
          [
           "individuals"
          ],
          [
           "them"
          ],
          [
           "people"
          ],
          [
           "financial"
          ],
          [
           "selfemployed"
          ],
          [
           "these_sectors"
          ],
          [
           "the_enterprises"
          ],
          [
           "the_companies"
          ],
          [
           "these"
          ],
          [
           "most"
          ],
          [
           "jobs"
          ],
          [
           "sole_proprietors"
          ],
          [
           "some"
          ],
          [
           "taxpayers"
          ],
          [
           "those"
          ],
          [
           "a_severe_lack"
          ],
          [
           "firms"
          ],
          [
           "help"
          ],
          [
           "the_sector"
          ],
          [
           "microentrepreneurs"
          ],
          [
           "some_categories"
          ],
          [
           "difficulties"
          ],
          [
           "households"
          ]
         ],
         "hovertemplate": "word_cluster=companies<br>X=%{x}<br>Y=%{y}<br>word=%{customdata[0]}<extra></extra>",
         "legendgroup": "companies",
         "marker": {
          "color": "#EF553B",
          "symbol": "circle"
         },
         "mode": "markers",
         "name": "companies",
         "orientation": "v",
         "showlegend": true,
         "type": "scatter",
         "x": [
          109.04625701904297,
          107.99838256835938,
          106.13406372070312,
          108.53521728515625,
          105.1983871459961,
          -41.18042755126953,
          97.59614562988281,
          109.6905746459961,
          95.1369400024414,
          123.24263000488281,
          113.77005004882812,
          115.08341979980469,
          -42.949546813964844,
          -34.10208511352539,
          38.44072341918945,
          93.97084045410156,
          92.2459716796875,
          106.74967956542969,
          -31.74326515197754,
          89.87371063232422,
          46.67382049560547,
          122.86417388916016,
          -38.01969528198242,
          35.52375411987305,
          111.42157745361328,
          35.32865905761719,
          15.218891143798828,
          -39.532291412353516,
          -27.532758712768555,
          49.579750061035156
         ],
         "xaxis": "x",
         "y": [
          38.62173080444336,
          26.714218139648438,
          34.29315185546875,
          29.828277587890625,
          44.784263610839844,
          -94.72769927978516,
          38.17533493041992,
          15.187370300292969,
          9.30163860321045,
          5.450031757354736,
          38.75401306152344,
          17.44947052001953,
          -41.70352554321289,
          -81.05970001220703,
          -14.551139831542969,
          18.18794822692871,
          37.490150451660156,
          48.999698638916016,
          -76.41224670410156,
          18.752029418945312,
          -11.363125801086426,
          12.348481178283691,
          -86.2973403930664,
          8.398812294006348,
          45.71318817138672,
          12.832584381103516,
          -55.346038818359375,
          -98.93226623535156,
          41.12435531616211,
          -7.853275299072266
         ],
         "yaxis": "y"
        },
        {
         "customdata": [
          [
           "entertainment"
          ],
          [
           "retail"
          ],
          [
           "wholesale"
          ],
          [
           "catering"
          ],
          [
           "construction"
          ],
          [
           "producers"
          ],
          [
           "logistics"
          ],
          [
           "accommodation"
          ],
          [
           "arts"
          ],
          [
           "machinery"
          ],
          [
           "leisure"
          ],
          [
           "22.5"
          ],
          [
           "nace"
          ],
          [
           "gas"
          ],
          [
           "recreational"
          ],
          [
           "craft"
          ],
          [
           "gambling"
          ],
          [
           "mining"
          ],
          [
           "fairs"
          ],
          [
           "19.9"
          ],
          [
           "fish"
          ],
          [
           "taxi"
          ],
          [
           "hotel"
          ],
          [
           "electricity"
          ],
          [
           "repairs"
          ],
          [
           "wood"
          ],
          [
           "drink"
          ],
          [
           "2,200"
          ],
          [
           "live"
          ],
          [
           "horeca"
          ]
         ],
         "hovertemplate": "word_cluster=manufacturing<br>X=%{x}<br>Y=%{y}<br>word=%{customdata[0]}<extra></extra>",
         "legendgroup": "manufacturing",
         "marker": {
          "color": "#00cc96",
          "symbol": "circle"
         },
         "mode": "markers",
         "name": "manufacturing",
         "orientation": "v",
         "showlegend": true,
         "type": "scatter",
         "x": [
          42.55747985839844,
          50.258087158203125,
          38.60609436035156,
          48.527069091796875,
          46.092620849609375,
          25.422212600708008,
          -4.420538425445557,
          52.267147064208984,
          41.56389617919922,
          -1.0617343187332153,
          -1.2208894491195679,
          -44.30995178222656,
          33.5233268737793,
          38.24876403808594,
          -8.783540725708008,
          -8.902950286865234,
          -2.779042959213257,
          -19.011865615844727,
          -16.88784408569336,
          -18.951452255249023,
          -13.05296516418457,
          -7.055873870849609,
          36.556983947753906,
          39.32993698120117,
          -11.118441581726074,
          -14.512542724609375,
          -5.827910423278809,
          -40.47414779663086,
          31.07857894897461,
          -4.886580944061279
         ],
         "xaxis": "x",
         "y": [
          69.92021179199219,
          75.92833709716797,
          71.07433319091797,
          71.5493392944336,
          66.71345520019531,
          9.442157745361328,
          -14.509035110473633,
          72.30471801757812,
          73.64539337158203,
          -22.287250518798828,
          -16.795936584472656,
          -78.04206848144531,
          68.15650939941406,
          66.18193054199219,
          -38.981483459472656,
          -34.08161163330078,
          -25.324092864990234,
          -49.47991943359375,
          -40.53982925415039,
          -53.623313903808594,
          -39.780818939208984,
          -17.620859146118164,
          20.578290939331055,
          63.20941162109375,
          -43.68125534057617,
          -45.80996322631836,
          -22.963825225830078,
          -70.72776794433594,
          10.700769424438477,
          -29.43958282470703
         ],
         "yaxis": "y"
        },
        {
         "customdata": [
          [
           "building"
          ],
          [
           "purchase"
          ],
          [
           "delivery"
          ],
          [
           "centers"
          ],
          [
           "analysis"
          ],
          [
           "workstudy_contract"
          ],
          [
           "learning"
          ],
          [
           "consumer"
          ],
          [
           "electrical_engineering_and_computer_science_school"
          ],
          [
           "interests"
          ],
          [
           "tables"
          ],
          [
           "possession"
          ],
          [
           "the_maintenance"
          ],
          [
           "northern"
          ],
          [
           "continuous"
          ],
          [
           "the_center"
          ],
          [
           "performance"
          ],
          [
           "maintenance"
          ],
          [
           "inclusion"
          ],
          [
           "facade"
          ],
          [
           "proof"
          ],
          [
           "teaching"
          ],
          [
           "capable"
          ],
          [
           "frequency"
          ],
          [
           "passenger"
          ],
          [
           "mortgage"
          ],
          [
           "checks"
          ],
          [
           "sale"
          ],
          [
           "rental"
          ],
          [
           "acquisition"
          ]
         ],
         "hovertemplate": "word_cluster=property<br>X=%{x}<br>Y=%{y}<br>word=%{customdata[0]}<extra></extra>",
         "legendgroup": "property",
         "marker": {
          "color": "#ab63fa",
          "symbol": "circle"
         },
         "mode": "markers",
         "name": "property",
         "orientation": "v",
         "showlegend": true,
         "type": "scatter",
         "x": [
          40.64691162109375,
          53.12596130371094,
          46.10454177856445,
          23.676000595092773,
          28.224519729614258,
          -31.04186248779297,
          44.167213439941406,
          18.051738739013672,
          -27.256128311157227,
          25.928499221801758,
          9.289134979248047,
          -23.613746643066406,
          22.894811630249023,
          3.976003408432007,
          7.09423303604126,
          -31.137985229492188,
          46.603248596191406,
          57.693359375,
          20.032817840576172,
          -43.97772216796875,
          12.105709075927734,
          7.991191387176514,
          3.607725143432617,
          -28.986530303955078,
          42.66050338745117,
          29.499006271362305,
          48.71721649169922,
          7.6522393226623535,
          36.54467010498047,
          30.423551559448242
         ],
         "xaxis": "x",
         "y": [
          23.47330665588379,
          17.717052459716797,
          30.02729606628418,
          6.179662227630615,
          0.6039295792579651,
          -62.109764099121094,
          21.18035888671875,
          -12.360230445861816,
          -59.9961051940918,
          -9.492161750793457,
          -28.76142692565918,
          -55.90766906738281,
          -10.568653106689453,
          -29.153963088989258,
          -32.12046813964844,
          -57.5489616394043,
          17.606624603271484,
          23.033018112182617,
          -1.302587628364563,
          -74.1191177368164,
          -32.933658599853516,
          -24.600662231445312,
          -25.19635581970215,
          -65.08808135986328,
          27.645341873168945,
          -7.612654685974121,
          25.694438934326172,
          -17.849172592163086,
          -2.3172764778137207,
          -4.046826362609863
         ],
         "yaxis": "y"
        }
       ],
       "layout": {
        "legend": {
         "title": {
          "text": "word_cluster"
         },
         "tracegroupgap": 0
        },
        "margin": {
         "t": 60
        },
        "template": {
         "data": {
          "bar": [
           {
            "error_x": {
             "color": "#2a3f5f"
            },
            "error_y": {
             "color": "#2a3f5f"
            },
            "marker": {
             "line": {
              "color": "#E5ECF6",
              "width": 0.5
             },
             "pattern": {
              "fillmode": "overlay",
              "size": 10,
              "solidity": 0.2
             }
            },
            "type": "bar"
           }
          ],
          "barpolar": [
           {
            "marker": {
             "line": {
              "color": "#E5ECF6",
              "width": 0.5
             },
             "pattern": {
              "fillmode": "overlay",
              "size": 10,
              "solidity": 0.2
             }
            },
            "type": "barpolar"
           }
          ],
          "carpet": [
           {
            "aaxis": {
             "endlinecolor": "#2a3f5f",
             "gridcolor": "white",
             "linecolor": "white",
             "minorgridcolor": "white",
             "startlinecolor": "#2a3f5f"
            },
            "baxis": {
             "endlinecolor": "#2a3f5f",
             "gridcolor": "white",
             "linecolor": "white",
             "minorgridcolor": "white",
             "startlinecolor": "#2a3f5f"
            },
            "type": "carpet"
           }
          ],
          "choropleth": [
           {
            "colorbar": {
             "outlinewidth": 0,
             "ticks": ""
            },
            "type": "choropleth"
           }
          ],
          "contour": [
           {
            "colorbar": {
             "outlinewidth": 0,
             "ticks": ""
            },
            "colorscale": [
             [
              0.0,
              "#0d0887"
             ],
             [
              0.1111111111111111,
              "#46039f"
             ],
             [
              0.2222222222222222,
              "#7201a8"
             ],
             [
              0.3333333333333333,
              "#9c179e"
             ],
             [
              0.4444444444444444,
              "#bd3786"
             ],
             [
              0.5555555555555556,
              "#d8576b"
             ],
             [
              0.6666666666666666,
              "#ed7953"
             ],
             [
              0.7777777777777778,
              "#fb9f3a"
             ],
             [
              0.8888888888888888,
              "#fdca26"
             ],
             [
              1.0,
              "#f0f921"
             ]
            ],
            "type": "contour"
           }
          ],
          "contourcarpet": [
           {
            "colorbar": {
             "outlinewidth": 0,
             "ticks": ""
            },
            "type": "contourcarpet"
           }
          ],
          "heatmap": [
           {
            "colorbar": {
             "outlinewidth": 0,
             "ticks": ""
            },
            "colorscale": [
             [
              0.0,
              "#0d0887"
             ],
             [
              0.1111111111111111,
              "#46039f"
             ],
             [
              0.2222222222222222,
              "#7201a8"
             ],
             [
              0.3333333333333333,
              "#9c179e"
             ],
             [
              0.4444444444444444,
              "#bd3786"
             ],
             [
              0.5555555555555556,
              "#d8576b"
             ],
             [
              0.6666666666666666,
              "#ed7953"
             ],
             [
              0.7777777777777778,
              "#fb9f3a"
             ],
             [
              0.8888888888888888,
              "#fdca26"
             ],
             [
              1.0,
              "#f0f921"
             ]
            ],
            "type": "heatmap"
           }
          ],
          "heatmapgl": [
           {
            "colorbar": {
             "outlinewidth": 0,
             "ticks": ""
            },
            "colorscale": [
             [
              0.0,
              "#0d0887"
             ],
             [
              0.1111111111111111,
              "#46039f"
             ],
             [
              0.2222222222222222,
              "#7201a8"
             ],
             [
              0.3333333333333333,
              "#9c179e"
             ],
             [
              0.4444444444444444,
              "#bd3786"
             ],
             [
              0.5555555555555556,
              "#d8576b"
             ],
             [
              0.6666666666666666,
              "#ed7953"
             ],
             [
              0.7777777777777778,
              "#fb9f3a"
             ],
             [
              0.8888888888888888,
              "#fdca26"
             ],
             [
              1.0,
              "#f0f921"
             ]
            ],
            "type": "heatmapgl"
           }
          ],
          "histogram": [
           {
            "marker": {
             "pattern": {
              "fillmode": "overlay",
              "size": 10,
              "solidity": 0.2
             }
            },
            "type": "histogram"
           }
          ],
          "histogram2d": [
           {
            "colorbar": {
             "outlinewidth": 0,
             "ticks": ""
            },
            "colorscale": [
             [
              0.0,
              "#0d0887"
             ],
             [
              0.1111111111111111,
              "#46039f"
             ],
             [
              0.2222222222222222,
              "#7201a8"
             ],
             [
              0.3333333333333333,
              "#9c179e"
             ],
             [
              0.4444444444444444,
              "#bd3786"
             ],
             [
              0.5555555555555556,
              "#d8576b"
             ],
             [
              0.6666666666666666,
              "#ed7953"
             ],
             [
              0.7777777777777778,
              "#fb9f3a"
             ],
             [
              0.8888888888888888,
              "#fdca26"
             ],
             [
              1.0,
              "#f0f921"
             ]
            ],
            "type": "histogram2d"
           }
          ],
          "histogram2dcontour": [
           {
            "colorbar": {
             "outlinewidth": 0,
             "ticks": ""
            },
            "colorscale": [
             [
              0.0,
              "#0d0887"
             ],
             [
              0.1111111111111111,
              "#46039f"
             ],
             [
              0.2222222222222222,
              "#7201a8"
             ],
             [
              0.3333333333333333,
              "#9c179e"
             ],
             [
              0.4444444444444444,
              "#bd3786"
             ],
             [
              0.5555555555555556,
              "#d8576b"
             ],
             [
              0.6666666666666666,
              "#ed7953"
             ],
             [
              0.7777777777777778,
              "#fb9f3a"
             ],
             [
              0.8888888888888888,
              "#fdca26"
             ],
             [
              1.0,
              "#f0f921"
             ]
            ],
            "type": "histogram2dcontour"
           }
          ],
          "mesh3d": [
           {
            "colorbar": {
             "outlinewidth": 0,
             "ticks": ""
            },
            "type": "mesh3d"
           }
          ],
          "parcoords": [
           {
            "line": {
             "colorbar": {
              "outlinewidth": 0,
              "ticks": ""
             }
            },
            "type": "parcoords"
           }
          ],
          "pie": [
           {
            "automargin": true,
            "type": "pie"
           }
          ],
          "scatter": [
           {
            "marker": {
             "colorbar": {
              "outlinewidth": 0,
              "ticks": ""
             }
            },
            "type": "scatter"
           }
          ],
          "scatter3d": [
           {
            "line": {
             "colorbar": {
              "outlinewidth": 0,
              "ticks": ""
             }
            },
            "marker": {
             "colorbar": {
              "outlinewidth": 0,
              "ticks": ""
             }
            },
            "type": "scatter3d"
           }
          ],
          "scattercarpet": [
           {
            "marker": {
             "colorbar": {
              "outlinewidth": 0,
              "ticks": ""
             }
            },
            "type": "scattercarpet"
           }
          ],
          "scattergeo": [
           {
            "marker": {
             "colorbar": {
              "outlinewidth": 0,
              "ticks": ""
             }
            },
            "type": "scattergeo"
           }
          ],
          "scattergl": [
           {
            "marker": {
             "colorbar": {
              "outlinewidth": 0,
              "ticks": ""
             }
            },
            "type": "scattergl"
           }
          ],
          "scattermapbox": [
           {
            "marker": {
             "colorbar": {
              "outlinewidth": 0,
              "ticks": ""
             }
            },
            "type": "scattermapbox"
           }
          ],
          "scatterpolar": [
           {
            "marker": {
             "colorbar": {
              "outlinewidth": 0,
              "ticks": ""
             }
            },
            "type": "scatterpolar"
           }
          ],
          "scatterpolargl": [
           {
            "marker": {
             "colorbar": {
              "outlinewidth": 0,
              "ticks": ""
             }
            },
            "type": "scatterpolargl"
           }
          ],
          "scatterternary": [
           {
            "marker": {
             "colorbar": {
              "outlinewidth": 0,
              "ticks": ""
             }
            },
            "type": "scatterternary"
           }
          ],
          "surface": [
           {
            "colorbar": {
             "outlinewidth": 0,
             "ticks": ""
            },
            "colorscale": [
             [
              0.0,
              "#0d0887"
             ],
             [
              0.1111111111111111,
              "#46039f"
             ],
             [
              0.2222222222222222,
              "#7201a8"
             ],
             [
              0.3333333333333333,
              "#9c179e"
             ],
             [
              0.4444444444444444,
              "#bd3786"
             ],
             [
              0.5555555555555556,
              "#d8576b"
             ],
             [
              0.6666666666666666,
              "#ed7953"
             ],
             [
              0.7777777777777778,
              "#fb9f3a"
             ],
             [
              0.8888888888888888,
              "#fdca26"
             ],
             [
              1.0,
              "#f0f921"
             ]
            ],
            "type": "surface"
           }
          ],
          "table": [
           {
            "cells": {
             "fill": {
              "color": "#EBF0F8"
             },
             "line": {
              "color": "white"
             }
            },
            "header": {
             "fill": {
              "color": "#C8D4E3"
             },
             "line": {
              "color": "white"
             }
            },
            "type": "table"
           }
          ]
         },
         "layout": {
          "annotationdefaults": {
           "arrowcolor": "#2a3f5f",
           "arrowhead": 0,
           "arrowwidth": 1
          },
          "autotypenumbers": "strict",
          "coloraxis": {
           "colorbar": {
            "outlinewidth": 0,
            "ticks": ""
           }
          },
          "colorscale": {
           "diverging": [
            [
             0,
             "#8e0152"
            ],
            [
             0.1,
             "#c51b7d"
            ],
            [
             0.2,
             "#de77ae"
            ],
            [
             0.3,
             "#f1b6da"
            ],
            [
             0.4,
             "#fde0ef"
            ],
            [
             0.5,
             "#f7f7f7"
            ],
            [
             0.6,
             "#e6f5d0"
            ],
            [
             0.7,
             "#b8e186"
            ],
            [
             0.8,
             "#7fbc41"
            ],
            [
             0.9,
             "#4d9221"
            ],
            [
             1,
             "#276419"
            ]
           ],
           "sequential": [
            [
             0.0,
             "#0d0887"
            ],
            [
             0.1111111111111111,
             "#46039f"
            ],
            [
             0.2222222222222222,
             "#7201a8"
            ],
            [
             0.3333333333333333,
             "#9c179e"
            ],
            [
             0.4444444444444444,
             "#bd3786"
            ],
            [
             0.5555555555555556,
             "#d8576b"
            ],
            [
             0.6666666666666666,
             "#ed7953"
            ],
            [
             0.7777777777777778,
             "#fb9f3a"
            ],
            [
             0.8888888888888888,
             "#fdca26"
            ],
            [
             1.0,
             "#f0f921"
            ]
           ],
           "sequentialminus": [
            [
             0.0,
             "#0d0887"
            ],
            [
             0.1111111111111111,
             "#46039f"
            ],
            [
             0.2222222222222222,
             "#7201a8"
            ],
            [
             0.3333333333333333,
             "#9c179e"
            ],
            [
             0.4444444444444444,
             "#bd3786"
            ],
            [
             0.5555555555555556,
             "#d8576b"
            ],
            [
             0.6666666666666666,
             "#ed7953"
            ],
            [
             0.7777777777777778,
             "#fb9f3a"
            ],
            [
             0.8888888888888888,
             "#fdca26"
            ],
            [
             1.0,
             "#f0f921"
            ]
           ]
          },
          "colorway": [
           "#636efa",
           "#EF553B",
           "#00cc96",
           "#ab63fa",
           "#FFA15A",
           "#19d3f3",
           "#FF6692",
           "#B6E880",
           "#FF97FF",
           "#FECB52"
          ],
          "font": {
           "color": "#2a3f5f"
          },
          "geo": {
           "bgcolor": "white",
           "lakecolor": "white",
           "landcolor": "#E5ECF6",
           "showlakes": true,
           "showland": true,
           "subunitcolor": "white"
          },
          "hoverlabel": {
           "align": "left"
          },
          "hovermode": "closest",
          "mapbox": {
           "style": "light"
          },
          "paper_bgcolor": "white",
          "plot_bgcolor": "#E5ECF6",
          "polar": {
           "angularaxis": {
            "gridcolor": "white",
            "linecolor": "white",
            "ticks": ""
           },
           "bgcolor": "#E5ECF6",
           "radialaxis": {
            "gridcolor": "white",
            "linecolor": "white",
            "ticks": ""
           }
          },
          "scene": {
           "xaxis": {
            "backgroundcolor": "#E5ECF6",
            "gridcolor": "white",
            "gridwidth": 2,
            "linecolor": "white",
            "showbackground": true,
            "ticks": "",
            "zerolinecolor": "white"
           },
           "yaxis": {
            "backgroundcolor": "#E5ECF6",
            "gridcolor": "white",
            "gridwidth": 2,
            "linecolor": "white",
            "showbackground": true,
            "ticks": "",
            "zerolinecolor": "white"
           },
           "zaxis": {
            "backgroundcolor": "#E5ECF6",
            "gridcolor": "white",
            "gridwidth": 2,
            "linecolor": "white",
            "showbackground": true,
            "ticks": "",
            "zerolinecolor": "white"
           }
          },
          "shapedefaults": {
           "line": {
            "color": "#2a3f5f"
           }
          },
          "ternary": {
           "aaxis": {
            "gridcolor": "white",
            "linecolor": "white",
            "ticks": ""
           },
           "baxis": {
            "gridcolor": "white",
            "linecolor": "white",
            "ticks": ""
           },
           "bgcolor": "#E5ECF6",
           "caxis": {
            "gridcolor": "white",
            "linecolor": "white",
            "ticks": ""
           }
          },
          "title": {
           "x": 0.05
          },
          "xaxis": {
           "automargin": true,
           "gridcolor": "white",
           "linecolor": "white",
           "ticks": "",
           "title": {
            "standoff": 15
           },
           "zerolinecolor": "white",
           "zerolinewidth": 2
          },
          "yaxis": {
           "automargin": true,
           "gridcolor": "white",
           "linecolor": "white",
           "ticks": "",
           "title": {
            "standoff": 15
           },
           "zerolinecolor": "white",
           "zerolinewidth": 2
          }
         }
        },
        "xaxis": {
         "anchor": "y",
         "domain": [
          0.0,
          1.0
         ],
         "title": {
          "text": "X"
         }
        },
        "yaxis": {
         "anchor": "x",
         "domain": [
          0.0,
          1.0
         ],
         "title": {
          "text": "Y"
         }
        }
       }
      },
      "text/html": "<div>                            <div id=\"6845339f-1b05-4954-b23f-31a2374d89cd\" class=\"plotly-graph-div\" style=\"height:525px; width:100%;\"></div>            <script type=\"text/javascript\">                require([\"plotly\"], function(Plotly) {                    window.PLOTLYENV=window.PLOTLYENV || {};                                    if (document.getElementById(\"6845339f-1b05-4954-b23f-31a2374d89cd\")) {                    Plotly.newPlot(                        \"6845339f-1b05-4954-b23f-31a2374d89cd\",                        [{\"customdata\":[[\"the_president\"],[\"court\"],[\"chamber\"],[\"eighth\"],[\"79a/2020\"],[\"the_alarm_state\"],[\"59a/2020\"],[\"the_republic\"],[\"dated\"],[\"republic\"],[\"12339/404/\"],[\"rectification\"],[\"2nd\"],[\"17\"],[\"the_general_court\"],[\"23\"],[\"the_charter\"],[\"individual_concern_article\"],[\"grand\"],[\"27\"],[\"24\"],[\"inpost_s.a._c432/19_p)_v_european_commission\"],[\"legislative\"],[\"13th\"],[\"bmc\"],[\"declares\"],[\"the_contained_use\"],[\"grandducal_regulation\"],[\"the_trade_register\"],[\"8\"]],\"hovertemplate\":\"word_cluster=president<br>X=%{x}<br>Y=%{y}<br>word=%{customdata[0]}<extra></extra>\",\"legendgroup\":\"president\",\"marker\":{\"color\":\"#636efa\",\"symbol\":\"circle\"},\"mode\":\"markers\",\"name\":\"president\",\"orientation\":\"v\",\"showlegend\":true,\"type\":\"scatter\",\"x\":[-22.45693016052246,-100.09613037109375,-91.7868881225586,-89.35093688964844,-86.92657470703125,-78.22705078125,-77.51214599609375,-82.67024230957031,-92.89466094970703,-84.00965118408203,-75.41789245605469,-79.30422973632812,-93.9879150390625,-102.1361083984375,-20.127761840820312,-105.3398208618164,-88.35834503173828,-62.83665466308594,-87.76936340332031,-98.21138763427734,-99.315185546875,-65.392333984375,-93.3939208984375,-82.58990478515625,-70.62503051757812,-92.97635650634766,-68.28919219970703,-82.98423767089844,-67.85938262939453,-102.94784545898438],\"xaxis\":\"x\",\"y\":[19.818689346313477,46.39596939086914,42.85184097290039,-56.49277114868164,-75.62924194335938,-75.48497772216797,-87.82609558105469,41.284210205078125,-57.80097961425781,43.7751579284668,-84.05171966552734,-83.20660400390625,-54.64024353027344,36.7024040222168,18.52245330810547,38.37483215332031,-70.86328125,-87.24152374267578,-61.65622329711914,36.524253845214844,41.05841827392578,-84.69103240966797,32.44229507446289,-72.50950622558594,-84.07804107666016,-69.53722381591797,-79.2942886352539,-65.76903533935547,-88.50174713134766,41.06901550292969],\"yaxis\":\"y\"},{\"customdata\":[[\"the_covid19_crisis'_com2020\"],[\"anticrisis\"],[\"shield\"],[\"20.03.2020\"],[\"233_final_2020/0113_cod\"],[\"the_emergency_measures\"],[\"million.the_scheme\"],[\"the_governments\"],[\"the_coronavirus\"],[\"2021/267\"],[\"19\"],[\"the_legislative_act_20_march_2020_urgent_measures\"],[\"outbreak\"],[\"irreversible\"],[\"an_emergency_situation\"],[\"1552/201\"],[\"the_intervention_measures\"],[\"the_package\"],[\"certain_measures\"],[\"unemployment_risks\"],[\"covid19_mutation\"],[\"5.0\"],[\"open_assembly_ban\"],[\"the_temporary_antiepidemic_measures\"],[\"the_covid19_pandemic'_com2020\"],[\"urgent_measures\"],[\"the_negative_economic_and_social_consequences\"],[\"a_followup\"],[\"the_initial_adhoc_regulation\"],[\"the_legislative_act\"]],\"hovertemplate\":\"word_cluster=covid<br>X=%{x}<br>Y=%{y}<br>word=%{customdata[0]}<extra></extra>\",\"legendgroup\":\"covid\",\"marker\":{\"color\":\"#EF553B\",\"symbol\":\"circle\"},\"mode\":\"markers\",\"name\":\"covid\",\"orientation\":\"v\",\"showlegend\":true,\"type\":\"scatter\",\"x\":[-59.246612548828125,-60.01808547973633,-63.111637115478516,-83.40315246582031,-57.1518669128418,-60.67316818237305,-61.65814208984375,-60.1288948059082,-38.84538650512695,-64.4478759765625,-103.22687530517578,-63.71308135986328,-39.39997482299805,-60.61336898803711,-47.724388122558594,-73.71331024169922,-56.00890350341797,-58.053646087646484,-56.16427993774414,-37.85490036010742,-57.868988037109375,-66.68694305419922,-55.87810516357422,-55.55138397216797,-63.109840393066406,-65.22288513183594,-61.510887145996094,-71.5483169555664,-73.16194915771484,-78.74755096435547],\"xaxis\":\"x\",\"y\":[-58.45771789550781,6.654735565185547,8.51551342010498,-44.20817947387695,-92.7663803100586,-34.094417572021484,-94.81124877929688,-3.75293231010437,35.04173278808594,-6.751125812530518,32.3229866027832,-50.30989456176758,77.92762756347656,-91.39325714111328,-16.280651092529297,-44.02573013305664,-7.134314060211182,0.928142249584198,-40.64426040649414,28.101978302001953,-96.81634521484375,-72.08152770996094,-88.36103820800781,-83.3788833618164,-57.72329330444336,-46.45013427734375,-99.71720886230469,-60.009647369384766,-58.06837463378906,-44.9687385559082],\"yaxis\":\"y\"},{\"customdata\":[[\"hardship\"],[\"impacts\"],[\"oversight\"],[\"complications\"],[\"policy\"],[\"stock\"],[\"ship\"],[\"committee\"],[\"insurances\"],[\"several_measures\"],[\"the_coronavirus_pandemic\"],[\"the_health_crisis_situation\"],[\"actions\"],[\"plans\"],[\"the_virus_outbreak\"],[\"policies\"],[\"welfare\"],[\"the_economic_and_social_impacts\"],[\"governments\"],[\"stabilization\"],[\"economic_activities\"],[\"its\"],[\"downs\"],[\"particularly\"],[\"society\"],[\"exclusion\"],[\"distancing\"],[\"channels\"],[\"main\"],[\"third\"]],\"hovertemplate\":\"word_cluster=economic<br>X=%{x}<br>Y=%{y}<br>word=%{customdata[0]}<extra></extra>\",\"legendgroup\":\"economic\",\"marker\":{\"color\":\"#00cc96\",\"symbol\":\"circle\"},\"mode\":\"markers\",\"name\":\"economic\",\"orientation\":\"v\",\"showlegend\":true,\"type\":\"scatter\",\"x\":[-6.14279317855835,-52.88043975830078,-53.186737060546875,-53.45561599731445,13.857832908630371,-32.645694732666016,-55.53877258300781,13.511528968811035,3.3493964672088623,-52.02212142944336,-41.6597785949707,-54.12303924560547,3.933166265487671,2.5681164264678955,-47.90155029296875,17.1269474029541,14.04109001159668,-57.21785354614258,1.901373028755188,-59.69187927246094,-37.68214797973633,-19.734996795654297,-57.17691421508789,86.06522369384766,28.799549102783203,5.030426025390625,2.663853645324707,-41.33140182495117,4.054436206817627,-0.4113714098930359],\"xaxis\":\"x\",\"y\":[-55.27656555175781,-3.919222593307495,-74.90323638916016,-93.31063842773438,49.31573486328125,-32.837074279785156,-70.70046997070312,53.45492935180664,-2.382075309753418,-11.129101753234863,-2.84118914604187,-64.84043884277344,38.490169525146484,35.57491683959961,-58.55183792114258,44.447914123535156,42.069576263427734,-46.7235107421875,40.7059440612793,-68.73387908935547,-37.107177734375,60.56435012817383,-75.13638305664062,33.98551940917969,44.39869689941406,-6.071281909942627,1.5301334857940674,-52.98774719238281,50.23414611816406,48.937408447265625],\"yaxis\":\"y\"},{\"customdata\":[[\"the_decline\"],[\"the_commerce_sector\"],[\"covid19_crisis\"],[\"uk\"],[\"the_covid19_emergency\"],[\"the_emergency\"],[\"social_services\"],[\"remote_working\"],[\"epidemiological\"],[\"minimizing\"],[\"the_wake\"],[\"inappropriate\"],[\"free_movement\"],[\"minimise\"],[\"finland\"],[\"the_plant\"],[\"character\"],[\"launching\"],[\"developments\"],[\"economic_activities\"],[\"existing_legislation\"],[\"laws\"],[\"covid19_pandemic\"],[\"their_economies\"],[\"covid19_infection\"],[\"slovakia\"],[\"contingency\"],[\"affects\"],[\"highly_pathogenic_avian_influenza\"],[\"the_restrictions\"]],\"hovertemplate\":\"word_cluster=country<br>X=%{x}<br>Y=%{y}<br>word=%{customdata[0]}<extra></extra>\",\"legendgroup\":\"country\",\"marker\":{\"color\":\"#ab63fa\",\"symbol\":\"circle\"},\"mode\":\"markers\",\"name\":\"country\",\"orientation\":\"v\",\"showlegend\":true,\"type\":\"scatter\",\"x\":[-49.6026611328125,-49.27089309692383,-46.22945022583008,29.50693702697754,-42.73560333251953,-43.087337493896484,-48.81169509887695,-35.2280387878418,-47.11129379272461,-48.25832748413086,-52.71409225463867,-46.19977951049805,-41.93895721435547,-37.854400634765625,29.522951126098633,-44.95235061645508,-42.42793273925781,-50.97978591918945,-42.39130401611328,-38.10859680175781,-48.53472900390625,-46.135074615478516,-44.164093017578125,-54.529319763183594,-39.10520553588867,25.75951385498047,-38.27315902709961,-33.69211959838867,-48.71746826171875,-39.78150177001953],\"xaxis\":\"x\",\"y\":[-39.4088249206543,-46.267269134521484,-7.093429088592529,17.00537872314453,-6.666465759277344,25.483739852905273,-34.57890319824219,-4.172492027282715,13.334403991699219,-50.186100006103516,-51.08552551269531,-69.61245727539062,-15.447304725646973,-10.702503204345703,21.383312225341797,-34.939456939697266,-47.70471954345703,13.043768882751465,-11.899200439453125,-39.636051177978516,-62.257137298583984,19.018672943115234,31.293474197387695,-54.59454345703125,-17.248308181762695,19.749818801879883,-30.29592514038086,2.71905517578125,-73.42005157470703,1.5595475435256958],\"yaxis\":\"y\"},{\"customdata\":[[\"employees\"],[\"groups\"],[\"those\"],[\"people\"],[\"persons\"],[\"all\"],[\"customers\"],[\"conditions\"],[\"care\"],[\"individuals\"],[\"unemployed\"],[\"personnel\"],[\"staff\"],[\"other_reasons\"],[\"the_people\"],[\"sectors\"],[\"covid19_patients\"],[\"parents\"],[\"employers\"],[\"themselves\"],[\"them\"],[\"need\"],[\"activities\"],[\"nonfinancial_undertakings\"],[\"workplaces\"],[\"vulnerable\"],[\"the_employees\"],[\"their_employees\"],[\"both\"],[\"the_private_sector\"]],\"hovertemplate\":\"word_cluster=workers<br>X=%{x}<br>Y=%{y}<br>word=%{customdata[0]}<extra></extra>\",\"legendgroup\":\"workers\",\"marker\":{\"color\":\"#FFA15A\",\"symbol\":\"circle\"},\"mode\":\"markers\",\"name\":\"workers\",\"orientation\":\"v\",\"showlegend\":true,\"type\":\"scatter\",\"x\":[128.4929656982422,79.90850067138672,122.86417388916016,120.46380615234375,118.44995880126953,94.82693481445312,83.37356567382812,76.13899230957031,74.09719848632812,109.6905746459961,112.41011810302734,72.92890930175781,76.18368530273438,-37.59136962890625,-23.743967056274414,97.59614562988281,-21.966642379760742,108.64022827148438,97.72200775146484,84.60430145263672,95.1369400024414,85.9667739868164,102.07254791259766,-44.03897476196289,26.194353103637695,82.23472595214844,43.630828857421875,42.353729248046875,88.83546447753906,12.902604103088379],\"xaxis\":\"x\",\"y\":[14.021459579467773,27.338668823242188,12.348481178283691,4.9337592124938965,10.556313514709473,23.04631996154785,22.105510711669922,-3.7612366676330566,41.58580017089844,15.187370300292969,10.949769973754883,19.19617462158203,38.77468490600586,-91.48536682128906,-66.64728546142578,38.17533493041992,-70.07881164550781,9.021004676818848,24.622631072998047,17.95646095275879,9.30163860321045,13.345868110656738,44.62305450439453,-91.76507568359375,31.4063777923584,29.985559463500977,-18.72410011291504,-14.56908893585205,29.027530670166016,-23.544994354248047],\"yaxis\":\"y\"},{\"customdata\":[[\"safety\"],[\"the_health\"],[\"protection\"],[\"public\"],[\"workers_health\"],[\"workplaces\"],[\"threats\"],[\"occupational\"],[\"the_protection\"],[\"wellbeing\"],[\"smooth\"],[\"border_management_measures\"],[\"quality\"],[\"community\"],[\"ensuring\"],[\"administrations\"],[\"society\"],[\"occupational_health\"],[\"animal\"],[\"the_smes\"],[\"civil\"],[\"market\"],[\"citizens\"],[\"services\"],[\"operation\"],[\"issues\"],[\"consumers\"],[\"authorities\"],[\"the_risks\"],[\"the_workplace\"]],\"hovertemplate\":\"word_cluster=health<br>X=%{x}<br>Y=%{y}<br>word=%{customdata[0]}<extra></extra>\",\"legendgroup\":\"health\",\"marker\":{\"color\":\"#19d3f3\",\"symbol\":\"circle\"},\"mode\":\"markers\",\"name\":\"health\",\"orientation\":\"v\",\"showlegend\":true,\"type\":\"scatter\",\"x\":[43.83717346191406,9.159868240356445,40.30412292480469,60.737693786621094,-33.3956413269043,25.293804168701172,-34.32295227050781,40.50832748413086,12.758172035217285,10.271737098693848,-19.195999145507812,-47.232666015625,14.884886741638184,50.11419677734375,43.37684631347656,-16.57575798034668,28.799549102783203,-30.495174407958984,14.008944511413574,-47.516326904296875,42.9365119934082,56.11287307739258,32.97638702392578,70.2885513305664,60.22994613647461,32.844993591308594,13.219258308410645,22.90500259399414,-34.627262115478516,21.74957275390625],\"xaxis\":\"x\",\"y\":[50.049320220947266,23.92451286315918,47.318634033203125,51.3630256652832,-40.385528564453125,33.844444274902344,-47.04270935058594,41.444984436035156,25.2110538482666,19.1074275970459,-22.79787826538086,-97.29896545410156,22.789796829223633,44.010040283203125,41.99660873413086,-21.536151885986328,44.39869689941406,-46.4033317565918,18.887664794921875,-102.11483764648438,36.64092254638672,49.576698303222656,48.3826904296875,45.916648864746094,46.09635543823242,40.643821716308594,-14.034162521362305,45.82758712768555,-14.883169174194336,31.26805877685547],\"yaxis\":\"y\"},{\"customdata\":[[\"pandemic\"],[\"the_crisis\"],[\"the_pandemic\"],[\"the_covid19_crisis\"],[\"virus\"],[\"the_covid19_pandemic\"],[\"epidemic\"],[\"corona\"],[\"the_corona_crisis\"],[\"lockdown\"],[\"situation\"],[\"the_coronavirus_crisis\"],[\"the_second_wave\"],[\"the_outbreak\"],[\"the_coronavirus\"],[\"coronavirus\"],[\"contagion\"],[\"the_economic_crisis\"],[\"the_health_crisis\"],[\"outbreak\"],[\"negative\"],[\"the_current_holiday_season\"],[\"the_effects\"],[\"current\"],[\"the_covid19_outbreak\"],[\"restrictions\"],[\"covid19_pandemic\"],[\"impact\"],[\"caused\"],[\"this_crisis\"]],\"hovertemplate\":\"word_cluster=crisis<br>X=%{x}<br>Y=%{y}<br>word=%{customdata[0]}<extra></extra>\",\"legendgroup\":\"crisis\",\"marker\":{\"color\":\"#FF6692\",\"symbol\":\"circle\"},\"mode\":\"markers\",\"name\":\"crisis\",\"orientation\":\"v\",\"showlegend\":true,\"type\":\"scatter\",\"x\":[-41.175048828125,-31.580215454101562,-32.811973571777344,-35.755035400390625,-41.565673828125,-36.19557571411133,-39.96022033691406,-39.22886276245117,-46.04726028442383,-45.12849044799805,-44.647483825683594,-55.83290100097656,-47.579124450683594,-41.47652816772461,-36.211021423339844,-39.956878662109375,-46.39091873168945,-56.30143356323242,-41.912803649902344,-36.788612365722656,-34.823482513427734,-54.485374450683594,-37.12979507446289,-35.84351348876953,-37.52534103393555,-44.3153190612793,-46.595420837402344,-47.20664596557617,-32.01402282714844,-52.361026763916016],\"xaxis\":\"x\",\"y\":[72.35643005371094,61.763389587402344,65.5046157836914,62.98735809326172,53.35783767700195,68.04314422607422,49.82392883300781,61.30559539794922,37.13605880737305,45.330535888671875,63.547611236572266,-22.06313133239746,-1.2358213663101196,39.119625091552734,34.97726821899414,65.28470611572266,5.151645183563232,-25.889671325683594,8.078363418579102,77.20088958740234,39.728302001953125,-101.64434051513672,44.8422966003418,52.411861419677734,56.38832092285156,50.31028747558594,30.31403923034668,55.29765701293945,72.70856475830078,-25.6905460357666],\"yaxis\":\"y\"},{\"customdata\":[[\"payment\"],[\"payments\"],[\"taxes\"],[\"rent\"],[\"vat\"],[\"interest\"],[\"deferral\"],[\"advance\"],[\"lumpsum\"],[\"repayment\"],[\"compensation\"],[\"the_payment\"],[\"income\"],[\"partial\"],[\"added\"],[\"exemption\"],[\"the_loss\"],[\"the_repayment\"],[\"social_security_contributions\"],[\"social_contributions\"],[\"allowance\"],[\"installments\"],[\"expenses\"],[\"rate\"],[\"reimbursement\"],[\"benefits\"],[\"the_care_allowance\"],[\"the_exploitation\"],[\"instalments\"],[\"maternity\"]],\"hovertemplate\":\"word_cluster=tax<br>X=%{x}<br>Y=%{y}<br>word=%{customdata[0]}<extra></extra>\",\"legendgroup\":\"tax\",\"marker\":{\"color\":\"#B6E880\",\"symbol\":\"circle\"},\"mode\":\"markers\",\"name\":\"tax\",\"orientation\":\"v\",\"showlegend\":true,\"type\":\"scatter\",\"x\":[117.59221649169922,101.25308990478516,77.61006927490234,93.19219970703125,73.95909118652344,96.373291015625,73.8939208984375,43.7327995300293,-16.255237579345703,72.6533432006836,115.78253936767578,71.90235137939453,116.20919036865234,84.40459442138672,45.123931884765625,65.62273406982422,26.85123634338379,-22.145307540893555,41.74687957763672,10.100345611572266,110.61266326904297,37.275291442871094,89.3645248413086,91.48908233642578,70.6180648803711,107.03258514404297,-20.417747497558594,-47.913726806640625,31.52161979675293,7.5270795822143555],\"xaxis\":\"x\",\"y\":[-43.95783233642578,-42.4547233581543,-37.24629211425781,-29.647666931152344,-43.12049102783203,-47.17436218261719,-35.400020599365234,-39.16507339477539,-84.29493713378906,-39.783447265625,-37.46244812011719,-25.978328704833984,-50.44622039794922,-32.38589096069336,-43.73731994628906,-30.999052047729492,-39.874000549316406,-90.51213836669922,-36.23228073120117,-42.98941421508789,-38.80144500732422,-40.75761795043945,-25.49247169494629,-48.61875534057617,-31.66342544555664,-44.360958099365234,-86.6748275756836,-90.70235443115234,-42.95590591430664,-45.13416290283203],\"yaxis\":\"y\"},{\"customdata\":[[\"the_law\"],[\"decree\"],[\"act\"],[\"amendments\"],[\"the_act\"],[\"6/2020\"],[\"chapter\"],[\"9/2020\"],[\"lithuania\"],[\"xii2769\"],[\"issued\"],[\"draft\"],[\"ordinance\"],[\"7/2020\"],[\"75/2020\"],[\"18/2020\"],[\"7/2009\"],[\"the_italian_government\"],[\"4/2020\"],[\"legislative\"],[\"the_decree\"],[\"10a/2020\"],[\"the_forest_act\"],[\"lithuania.in_addition\"],[\"treaty\"],[\"xiii2862\"],[\"the_rule\"],[\"5_february\"],[\"decreelaw\"],[\"epidemic_covid19\"]],\"hovertemplate\":\"word_cluster=law<br>X=%{x}<br>Y=%{y}<br>word=%{customdata[0]}<extra></extra>\",\"legendgroup\":\"law\",\"marker\":{\"color\":\"#FF97FF\",\"symbol\":\"circle\"},\"mode\":\"markers\",\"name\":\"law\",\"orientation\":\"v\",\"showlegend\":true,\"type\":\"scatter\",\"x\":[-87.73385620117188,-93.8797607421875,-89.7426528930664,-81.51539611816406,-82.64031219482422,-87.88513946533203,-71.77980041503906,-91.428955078125,-80.24309539794922,-76.13665771484375,-87.38518524169922,-79.35220336914062,-80.7159652709961,-88.9065933227539,-83.107421875,-91.2704086303711,-96.63446044921875,-81.70269775390625,-96.61775207519531,-93.3939208984375,-56.339054107666016,-88.13825988769531,-70.5743179321289,-65.44435119628906,22.039758682250977,-73.59386444091797,-69.2526626586914,-71.28197479248047,-96.89778137207031,-65.76119232177734],\"xaxis\":\"x\",\"y\":[24.638208389282227,23.982946395874023,19.945756912231445,26.929391860961914,22.640361785888672,-79.72721099853516,26.177677154541016,-45.311920166015625,38.56210708618164,-97.68380737304688,29.032241821289062,22.40818977355957,19.282955169677734,-86.19132232666016,-88.96400451660156,-40.392982482910156,-83.29989624023438,-94.28944396972656,-80.42347717285156,32.44229507446289,13.569721221923828,-45.351951599121094,-93.7940902709961,-93.0937271118164,-25.584379196166992,-90.79950714111328,27.190858840942383,-97.61714935302734,29.647899627685547,-97.69488525390625],\"yaxis\":\"y\"},{\"customdata\":[[\"fixed_costs\"],[\"expenses\"],[\"fixed\"],[\"rent\"],[\"financing\"],[\"working_capital\"],[\"compensation\"],[\"allowance\"],[\"basic\"],[\"subsidy\"],[\"reimbursement\"],[\"interest_rates\"],[\"wages\"],[\"credit\"],[\"receiving\"],[\"percentage\"],[\"wage\"],[\"coverage\"],[\"loans\"],[\"90\"],[\"80\"],[\"income\"],[\"grant\"],[\"repayments\"],[\"loss\"],[\"75\"],[\"the_unemployed\"],[\"an_indemnity\"],[\"net\"],[\"child\"]],\"hovertemplate\":\"word_cluster=costs<br>X=%{x}<br>Y=%{y}<br>word=%{customdata[0]}<extra></extra>\",\"legendgroup\":\"costs\",\"marker\":{\"color\":\"#FECB52\",\"symbol\":\"circle\"},\"mode\":\"markers\",\"name\":\"costs\",\"orientation\":\"v\",\"showlegend\":true,\"type\":\"scatter\",\"x\":[20.67025375366211,88.02130889892578,90.03248596191406,91.80665588378906,101.12815856933594,22.104305267333984,115.78253936767578,111.8996353149414,87.60733795166016,111.72293853759766,70.6180648803711,-31.167221069335938,97.04005432128906,102.8095932006836,94.4034652709961,33.0408935546875,106.74139404296875,29.87306022644043,109.02903747558594,83.95681762695312,87.60586547851562,116.20919036865234,109.81192016601562,31.48586654663086,82.24348449707031,86.54348754882812,19.12701988220215,-25.647964477539062,83.7869644165039,83.33624267578125],\"xaxis\":\"x\",\"y\":[-51.2802734375,-27.776927947998047,-40.346046447753906,-32.119285583496094,-15.412606239318848,-48.0155029296875,-37.46244812011719,-41.235809326171875,-37.466251373291016,-31.22393798828125,-31.66342544555664,-91.6392822265625,-31.772668838500977,-17.854995727539062,-37.64320755004883,-34.29743576049805,-34.61913299560547,-35.37162780761719,-20.086790084838867,-47.78595733642578,-50.27688980102539,-50.44622039794922,-28.149860382080078,-47.442626953125,-28.2560977935791,-45.87567138671875,-44.97285842895508,-89.9975814819336,-40.40849685668945,-20.837095260620117],\"yaxis\":\"y\"},{\"customdata\":[[\"types\"],[\"requirements\"],[\"permanent\"],[\"certain\"],[\"suspension\"],[\"free\"],[\"fixedterm\"],[\"operation\"],[\"single\"],[\"contract\"],[\"individual\"],[\"rental\"],[\"dependent\"],[\"entities\"],[\"dismissal\"],[\"contracts\"],[\"provision\"],[\"property\"],[\"job\"],[\"possession\"],[\"terms\"],[\"freedom\"],[\"hiring\"],[\"the_collection\"],[\"openended\"],[\"reasons\"],[\"performance\"],[\"personnel\"],[\"maintenance\"],[\"following_topics\"]],\"hovertemplate\":\"word_cluster=legal<br>X=%{x}<br>Y=%{y}<br>word=%{customdata[0]}<extra></extra>\",\"legendgroup\":\"legal\",\"marker\":{\"color\":\"#636efa\",\"symbol\":\"circle\"},\"mode\":\"markers\",\"name\":\"legal\",\"orientation\":\"v\",\"showlegend\":true,\"type\":\"scatter\",\"x\":[27.867582321166992,62.21059799194336,45.384822845458984,64.36019134521484,73.16937255859375,65.1044692993164,40.246620178222656,58.513675689697266,50.57086944580078,79.64767456054688,72.7237548828125,38.430110931396484,44.84260940551758,57.921791076660156,28.628507614135742,76.27375793457031,64.96009063720703,24.64512062072754,76.00938415527344,-25.092830657958984,60.11504364013672,57.601016998291016,52.164825439453125,11.160595893859863,15.897045135498047,67.57840728759766,44.387596130371094,75.30842590332031,56.01755142211914,-45.43669128417969],\"xaxis\":\"x\",\"y\":[-14.829937934875488,10.091679573059082,9.408989906311035,43.59113311767578,-19.478023529052734,19.948909759521484,0.8600736260414124,44.248443603515625,14.098283767700195,-16.475910186767578,14.193950653076172,-4.210946083068848,-0.2282779961824417,8.125843048095703,-18.819717407226562,-11.54181957244873,23.707006454467773,-2.466209650039673,10.2803955078125,-53.44107437133789,28.782760620117188,15.613805770874023,7.65695858001709,-53.45521926879883,-39.34410858154297,-24.87949562072754,16.241905212402344,18.23663902282715,24.99808120727539,-85.21363830566406],\"yaxis\":\"y\"},{\"customdata\":[[\"businesses\"],[\"entrepreneurs\"],[\"enterprises\"],[\"smes\"],[\"business\"],[\"council_tax_relief\"],[\"sectors\"],[\"individuals\"],[\"them\"],[\"people\"],[\"financial\"],[\"selfemployed\"],[\"these_sectors\"],[\"the_enterprises\"],[\"the_companies\"],[\"these\"],[\"most\"],[\"jobs\"],[\"sole_proprietors\"],[\"some\"],[\"taxpayers\"],[\"those\"],[\"a_severe_lack\"],[\"firms\"],[\"help\"],[\"the_sector\"],[\"microentrepreneurs\"],[\"some_categories\"],[\"difficulties\"],[\"households\"]],\"hovertemplate\":\"word_cluster=companies<br>X=%{x}<br>Y=%{y}<br>word=%{customdata[0]}<extra></extra>\",\"legendgroup\":\"companies\",\"marker\":{\"color\":\"#EF553B\",\"symbol\":\"circle\"},\"mode\":\"markers\",\"name\":\"companies\",\"orientation\":\"v\",\"showlegend\":true,\"type\":\"scatter\",\"x\":[109.04625701904297,107.99838256835938,106.13406372070312,108.53521728515625,105.1983871459961,-41.18042755126953,97.59614562988281,109.6905746459961,95.1369400024414,123.24263000488281,113.77005004882812,115.08341979980469,-42.949546813964844,-34.10208511352539,38.44072341918945,93.97084045410156,92.2459716796875,106.74967956542969,-31.74326515197754,89.87371063232422,46.67382049560547,122.86417388916016,-38.01969528198242,35.52375411987305,111.42157745361328,35.32865905761719,15.218891143798828,-39.532291412353516,-27.532758712768555,49.579750061035156],\"xaxis\":\"x\",\"y\":[38.62173080444336,26.714218139648438,34.29315185546875,29.828277587890625,44.784263610839844,-94.72769927978516,38.17533493041992,15.187370300292969,9.30163860321045,5.450031757354736,38.75401306152344,17.44947052001953,-41.70352554321289,-81.05970001220703,-14.551139831542969,18.18794822692871,37.490150451660156,48.999698638916016,-76.41224670410156,18.752029418945312,-11.363125801086426,12.348481178283691,-86.2973403930664,8.398812294006348,45.71318817138672,12.832584381103516,-55.346038818359375,-98.93226623535156,41.12435531616211,-7.853275299072266],\"yaxis\":\"y\"},{\"customdata\":[[\"entertainment\"],[\"retail\"],[\"wholesale\"],[\"catering\"],[\"construction\"],[\"producers\"],[\"logistics\"],[\"accommodation\"],[\"arts\"],[\"machinery\"],[\"leisure\"],[\"22.5\"],[\"nace\"],[\"gas\"],[\"recreational\"],[\"craft\"],[\"gambling\"],[\"mining\"],[\"fairs\"],[\"19.9\"],[\"fish\"],[\"taxi\"],[\"hotel\"],[\"electricity\"],[\"repairs\"],[\"wood\"],[\"drink\"],[\"2,200\"],[\"live\"],[\"horeca\"]],\"hovertemplate\":\"word_cluster=manufacturing<br>X=%{x}<br>Y=%{y}<br>word=%{customdata[0]}<extra></extra>\",\"legendgroup\":\"manufacturing\",\"marker\":{\"color\":\"#00cc96\",\"symbol\":\"circle\"},\"mode\":\"markers\",\"name\":\"manufacturing\",\"orientation\":\"v\",\"showlegend\":true,\"type\":\"scatter\",\"x\":[42.55747985839844,50.258087158203125,38.60609436035156,48.527069091796875,46.092620849609375,25.422212600708008,-4.420538425445557,52.267147064208984,41.56389617919922,-1.0617343187332153,-1.2208894491195679,-44.30995178222656,33.5233268737793,38.24876403808594,-8.783540725708008,-8.902950286865234,-2.779042959213257,-19.011865615844727,-16.88784408569336,-18.951452255249023,-13.05296516418457,-7.055873870849609,36.556983947753906,39.32993698120117,-11.118441581726074,-14.512542724609375,-5.827910423278809,-40.47414779663086,31.07857894897461,-4.886580944061279],\"xaxis\":\"x\",\"y\":[69.92021179199219,75.92833709716797,71.07433319091797,71.5493392944336,66.71345520019531,9.442157745361328,-14.509035110473633,72.30471801757812,73.64539337158203,-22.287250518798828,-16.795936584472656,-78.04206848144531,68.15650939941406,66.18193054199219,-38.981483459472656,-34.08161163330078,-25.324092864990234,-49.47991943359375,-40.53982925415039,-53.623313903808594,-39.780818939208984,-17.620859146118164,20.578290939331055,63.20941162109375,-43.68125534057617,-45.80996322631836,-22.963825225830078,-70.72776794433594,10.700769424438477,-29.43958282470703],\"yaxis\":\"y\"},{\"customdata\":[[\"building\"],[\"purchase\"],[\"delivery\"],[\"centers\"],[\"analysis\"],[\"workstudy_contract\"],[\"learning\"],[\"consumer\"],[\"electrical_engineering_and_computer_science_school\"],[\"interests\"],[\"tables\"],[\"possession\"],[\"the_maintenance\"],[\"northern\"],[\"continuous\"],[\"the_center\"],[\"performance\"],[\"maintenance\"],[\"inclusion\"],[\"facade\"],[\"proof\"],[\"teaching\"],[\"capable\"],[\"frequency\"],[\"passenger\"],[\"mortgage\"],[\"checks\"],[\"sale\"],[\"rental\"],[\"acquisition\"]],\"hovertemplate\":\"word_cluster=property<br>X=%{x}<br>Y=%{y}<br>word=%{customdata[0]}<extra></extra>\",\"legendgroup\":\"property\",\"marker\":{\"color\":\"#ab63fa\",\"symbol\":\"circle\"},\"mode\":\"markers\",\"name\":\"property\",\"orientation\":\"v\",\"showlegend\":true,\"type\":\"scatter\",\"x\":[40.64691162109375,53.12596130371094,46.10454177856445,23.676000595092773,28.224519729614258,-31.04186248779297,44.167213439941406,18.051738739013672,-27.256128311157227,25.928499221801758,9.289134979248047,-23.613746643066406,22.894811630249023,3.976003408432007,7.09423303604126,-31.137985229492188,46.603248596191406,57.693359375,20.032817840576172,-43.97772216796875,12.105709075927734,7.991191387176514,3.607725143432617,-28.986530303955078,42.66050338745117,29.499006271362305,48.71721649169922,7.6522393226623535,36.54467010498047,30.423551559448242],\"xaxis\":\"x\",\"y\":[23.47330665588379,17.717052459716797,30.02729606628418,6.179662227630615,0.6039295792579651,-62.109764099121094,21.18035888671875,-12.360230445861816,-59.9961051940918,-9.492161750793457,-28.76142692565918,-55.90766906738281,-10.568653106689453,-29.153963088989258,-32.12046813964844,-57.5489616394043,17.606624603271484,23.033018112182617,-1.302587628364563,-74.1191177368164,-32.933658599853516,-24.600662231445312,-25.19635581970215,-65.08808135986328,27.645341873168945,-7.612654685974121,25.694438934326172,-17.849172592163086,-2.3172764778137207,-4.046826362609863],\"yaxis\":\"y\"}],                        {\"legend\":{\"title\":{\"text\":\"word_cluster\"},\"tracegroupgap\":0},\"margin\":{\"t\":60},\"template\":{\"data\":{\"bar\":[{\"error_x\":{\"color\":\"#2a3f5f\"},\"error_y\":{\"color\":\"#2a3f5f\"},\"marker\":{\"line\":{\"color\":\"#E5ECF6\",\"width\":0.5},\"pattern\":{\"fillmode\":\"overlay\",\"size\":10,\"solidity\":0.2}},\"type\":\"bar\"}],\"barpolar\":[{\"marker\":{\"line\":{\"color\":\"#E5ECF6\",\"width\":0.5},\"pattern\":{\"fillmode\":\"overlay\",\"size\":10,\"solidity\":0.2}},\"type\":\"barpolar\"}],\"carpet\":[{\"aaxis\":{\"endlinecolor\":\"#2a3f5f\",\"gridcolor\":\"white\",\"linecolor\":\"white\",\"minorgridcolor\":\"white\",\"startlinecolor\":\"#2a3f5f\"},\"baxis\":{\"endlinecolor\":\"#2a3f5f\",\"gridcolor\":\"white\",\"linecolor\":\"white\",\"minorgridcolor\":\"white\",\"startlinecolor\":\"#2a3f5f\"},\"type\":\"carpet\"}],\"choropleth\":[{\"colorbar\":{\"outlinewidth\":0,\"ticks\":\"\"},\"type\":\"choropleth\"}],\"contour\":[{\"colorbar\":{\"outlinewidth\":0,\"ticks\":\"\"},\"colorscale\":[[0.0,\"#0d0887\"],[0.1111111111111111,\"#46039f\"],[0.2222222222222222,\"#7201a8\"],[0.3333333333333333,\"#9c179e\"],[0.4444444444444444,\"#bd3786\"],[0.5555555555555556,\"#d8576b\"],[0.6666666666666666,\"#ed7953\"],[0.7777777777777778,\"#fb9f3a\"],[0.8888888888888888,\"#fdca26\"],[1.0,\"#f0f921\"]],\"type\":\"contour\"}],\"contourcarpet\":[{\"colorbar\":{\"outlinewidth\":0,\"ticks\":\"\"},\"type\":\"contourcarpet\"}],\"heatmap\":[{\"colorbar\":{\"outlinewidth\":0,\"ticks\":\"\"},\"colorscale\":[[0.0,\"#0d0887\"],[0.1111111111111111,\"#46039f\"],[0.2222222222222222,\"#7201a8\"],[0.3333333333333333,\"#9c179e\"],[0.4444444444444444,\"#bd3786\"],[0.5555555555555556,\"#d8576b\"],[0.6666666666666666,\"#ed7953\"],[0.7777777777777778,\"#fb9f3a\"],[0.8888888888888888,\"#fdca26\"],[1.0,\"#f0f921\"]],\"type\":\"heatmap\"}],\"heatmapgl\":[{\"colorbar\":{\"outlinewidth\":0,\"ticks\":\"\"},\"colorscale\":[[0.0,\"#0d0887\"],[0.1111111111111111,\"#46039f\"],[0.2222222222222222,\"#7201a8\"],[0.3333333333333333,\"#9c179e\"],[0.4444444444444444,\"#bd3786\"],[0.5555555555555556,\"#d8576b\"],[0.6666666666666666,\"#ed7953\"],[0.7777777777777778,\"#fb9f3a\"],[0.8888888888888888,\"#fdca26\"],[1.0,\"#f0f921\"]],\"type\":\"heatmapgl\"}],\"histogram\":[{\"marker\":{\"pattern\":{\"fillmode\":\"overlay\",\"size\":10,\"solidity\":0.2}},\"type\":\"histogram\"}],\"histogram2d\":[{\"colorbar\":{\"outlinewidth\":0,\"ticks\":\"\"},\"colorscale\":[[0.0,\"#0d0887\"],[0.1111111111111111,\"#46039f\"],[0.2222222222222222,\"#7201a8\"],[0.3333333333333333,\"#9c179e\"],[0.4444444444444444,\"#bd3786\"],[0.5555555555555556,\"#d8576b\"],[0.6666666666666666,\"#ed7953\"],[0.7777777777777778,\"#fb9f3a\"],[0.8888888888888888,\"#fdca26\"],[1.0,\"#f0f921\"]],\"type\":\"histogram2d\"}],\"histogram2dcontour\":[{\"colorbar\":{\"outlinewidth\":0,\"ticks\":\"\"},\"colorscale\":[[0.0,\"#0d0887\"],[0.1111111111111111,\"#46039f\"],[0.2222222222222222,\"#7201a8\"],[0.3333333333333333,\"#9c179e\"],[0.4444444444444444,\"#bd3786\"],[0.5555555555555556,\"#d8576b\"],[0.6666666666666666,\"#ed7953\"],[0.7777777777777778,\"#fb9f3a\"],[0.8888888888888888,\"#fdca26\"],[1.0,\"#f0f921\"]],\"type\":\"histogram2dcontour\"}],\"mesh3d\":[{\"colorbar\":{\"outlinewidth\":0,\"ticks\":\"\"},\"type\":\"mesh3d\"}],\"parcoords\":[{\"line\":{\"colorbar\":{\"outlinewidth\":0,\"ticks\":\"\"}},\"type\":\"parcoords\"}],\"pie\":[{\"automargin\":true,\"type\":\"pie\"}],\"scatter\":[{\"marker\":{\"colorbar\":{\"outlinewidth\":0,\"ticks\":\"\"}},\"type\":\"scatter\"}],\"scatter3d\":[{\"line\":{\"colorbar\":{\"outlinewidth\":0,\"ticks\":\"\"}},\"marker\":{\"colorbar\":{\"outlinewidth\":0,\"ticks\":\"\"}},\"type\":\"scatter3d\"}],\"scattercarpet\":[{\"marker\":{\"colorbar\":{\"outlinewidth\":0,\"ticks\":\"\"}},\"type\":\"scattercarpet\"}],\"scattergeo\":[{\"marker\":{\"colorbar\":{\"outlinewidth\":0,\"ticks\":\"\"}},\"type\":\"scattergeo\"}],\"scattergl\":[{\"marker\":{\"colorbar\":{\"outlinewidth\":0,\"ticks\":\"\"}},\"type\":\"scattergl\"}],\"scattermapbox\":[{\"marker\":{\"colorbar\":{\"outlinewidth\":0,\"ticks\":\"\"}},\"type\":\"scattermapbox\"}],\"scatterpolar\":[{\"marker\":{\"colorbar\":{\"outlinewidth\":0,\"ticks\":\"\"}},\"type\":\"scatterpolar\"}],\"scatterpolargl\":[{\"marker\":{\"colorbar\":{\"outlinewidth\":0,\"ticks\":\"\"}},\"type\":\"scatterpolargl\"}],\"scatterternary\":[{\"marker\":{\"colorbar\":{\"outlinewidth\":0,\"ticks\":\"\"}},\"type\":\"scatterternary\"}],\"surface\":[{\"colorbar\":{\"outlinewidth\":0,\"ticks\":\"\"},\"colorscale\":[[0.0,\"#0d0887\"],[0.1111111111111111,\"#46039f\"],[0.2222222222222222,\"#7201a8\"],[0.3333333333333333,\"#9c179e\"],[0.4444444444444444,\"#bd3786\"],[0.5555555555555556,\"#d8576b\"],[0.6666666666666666,\"#ed7953\"],[0.7777777777777778,\"#fb9f3a\"],[0.8888888888888888,\"#fdca26\"],[1.0,\"#f0f921\"]],\"type\":\"surface\"}],\"table\":[{\"cells\":{\"fill\":{\"color\":\"#EBF0F8\"},\"line\":{\"color\":\"white\"}},\"header\":{\"fill\":{\"color\":\"#C8D4E3\"},\"line\":{\"color\":\"white\"}},\"type\":\"table\"}]},\"layout\":{\"annotationdefaults\":{\"arrowcolor\":\"#2a3f5f\",\"arrowhead\":0,\"arrowwidth\":1},\"autotypenumbers\":\"strict\",\"coloraxis\":{\"colorbar\":{\"outlinewidth\":0,\"ticks\":\"\"}},\"colorscale\":{\"diverging\":[[0,\"#8e0152\"],[0.1,\"#c51b7d\"],[0.2,\"#de77ae\"],[0.3,\"#f1b6da\"],[0.4,\"#fde0ef\"],[0.5,\"#f7f7f7\"],[0.6,\"#e6f5d0\"],[0.7,\"#b8e186\"],[0.8,\"#7fbc41\"],[0.9,\"#4d9221\"],[1,\"#276419\"]],\"sequential\":[[0.0,\"#0d0887\"],[0.1111111111111111,\"#46039f\"],[0.2222222222222222,\"#7201a8\"],[0.3333333333333333,\"#9c179e\"],[0.4444444444444444,\"#bd3786\"],[0.5555555555555556,\"#d8576b\"],[0.6666666666666666,\"#ed7953\"],[0.7777777777777778,\"#fb9f3a\"],[0.8888888888888888,\"#fdca26\"],[1.0,\"#f0f921\"]],\"sequentialminus\":[[0.0,\"#0d0887\"],[0.1111111111111111,\"#46039f\"],[0.2222222222222222,\"#7201a8\"],[0.3333333333333333,\"#9c179e\"],[0.4444444444444444,\"#bd3786\"],[0.5555555555555556,\"#d8576b\"],[0.6666666666666666,\"#ed7953\"],[0.7777777777777778,\"#fb9f3a\"],[0.8888888888888888,\"#fdca26\"],[1.0,\"#f0f921\"]]},\"colorway\":[\"#636efa\",\"#EF553B\",\"#00cc96\",\"#ab63fa\",\"#FFA15A\",\"#19d3f3\",\"#FF6692\",\"#B6E880\",\"#FF97FF\",\"#FECB52\"],\"font\":{\"color\":\"#2a3f5f\"},\"geo\":{\"bgcolor\":\"white\",\"lakecolor\":\"white\",\"landcolor\":\"#E5ECF6\",\"showlakes\":true,\"showland\":true,\"subunitcolor\":\"white\"},\"hoverlabel\":{\"align\":\"left\"},\"hovermode\":\"closest\",\"mapbox\":{\"style\":\"light\"},\"paper_bgcolor\":\"white\",\"plot_bgcolor\":\"#E5ECF6\",\"polar\":{\"angularaxis\":{\"gridcolor\":\"white\",\"linecolor\":\"white\",\"ticks\":\"\"},\"bgcolor\":\"#E5ECF6\",\"radialaxis\":{\"gridcolor\":\"white\",\"linecolor\":\"white\",\"ticks\":\"\"}},\"scene\":{\"xaxis\":{\"backgroundcolor\":\"#E5ECF6\",\"gridcolor\":\"white\",\"gridwidth\":2,\"linecolor\":\"white\",\"showbackground\":true,\"ticks\":\"\",\"zerolinecolor\":\"white\"},\"yaxis\":{\"backgroundcolor\":\"#E5ECF6\",\"gridcolor\":\"white\",\"gridwidth\":2,\"linecolor\":\"white\",\"showbackground\":true,\"ticks\":\"\",\"zerolinecolor\":\"white\"},\"zaxis\":{\"backgroundcolor\":\"#E5ECF6\",\"gridcolor\":\"white\",\"gridwidth\":2,\"linecolor\":\"white\",\"showbackground\":true,\"ticks\":\"\",\"zerolinecolor\":\"white\"}},\"shapedefaults\":{\"line\":{\"color\":\"#2a3f5f\"}},\"ternary\":{\"aaxis\":{\"gridcolor\":\"white\",\"linecolor\":\"white\",\"ticks\":\"\"},\"baxis\":{\"gridcolor\":\"white\",\"linecolor\":\"white\",\"ticks\":\"\"},\"bgcolor\":\"#E5ECF6\",\"caxis\":{\"gridcolor\":\"white\",\"linecolor\":\"white\",\"ticks\":\"\"}},\"title\":{\"x\":0.05},\"xaxis\":{\"automargin\":true,\"gridcolor\":\"white\",\"linecolor\":\"white\",\"ticks\":\"\",\"title\":{\"standoff\":15},\"zerolinecolor\":\"white\",\"zerolinewidth\":2},\"yaxis\":{\"automargin\":true,\"gridcolor\":\"white\",\"linecolor\":\"white\",\"ticks\":\"\",\"title\":{\"standoff\":15},\"zerolinecolor\":\"white\",\"zerolinewidth\":2}}},\"xaxis\":{\"anchor\":\"y\",\"domain\":[0.0,1.0],\"title\":{\"text\":\"X\"}},\"yaxis\":{\"anchor\":\"x\",\"domain\":[0.0,1.0],\"title\":{\"text\":\"Y\"}}},                        {\"responsive\": true}                    ).then(function(){\n                            \nvar gd = document.getElementById('6845339f-1b05-4954-b23f-31a2374d89cd');\nvar x = new MutationObserver(function (mutations, observer) {{\n        var display = window.getComputedStyle(gd).display;\n        if (!display || display === 'none') {{\n            console.log([gd, 'removed!']);\n            Plotly.purge(gd);\n            observer.disconnect();\n        }}\n}});\n\n// Listen for the removal of the full notebook cells\nvar notebookContainer = gd.closest('#notebook-container');\nif (notebookContainer) {{\n    x.observe(notebookContainer, {childList: true});\n}}\n\n// Listen for the clearing of the current output cell\nvar outputEl = gd.closest('.output');\nif (outputEl) {{\n    x.observe(outputEl, {childList: true});\n}}\n\n                        })                };                });            </script>        </div>"
     },
     "metadata": {},
     "output_type": "display_data"
    }
   ],
   "source": [
    "model3_word_cluster_plot = px.scatter(model3_word_embeddings_dataframe,\n",
    "                                      x='X', y='Y', color=model3_word_embeddings_dataframe.word_cluster,\n",
    "                                      labels={'color': 'word'}, hover_data=[\"word\"])\n",
    "model3_word_cluster_plot"
   ],
   "metadata": {
    "collapsed": false,
    "pycharm": {
     "name": "#%%\n"
    }
   }
  }
 ],
 "metadata": {
  "kernelspec": {
   "display_name": "Python 3",
   "language": "python",
   "name": "python3"
  },
  "language_info": {
   "codemirror_mode": {
    "name": "ipython",
    "version": 2
   },
   "file_extension": ".py",
   "mimetype": "text/x-python",
   "name": "python",
   "nbconvert_exporter": "python",
   "pygments_lexer": "ipython2",
   "version": "2.7.6"
  }
 },
 "nbformat": 4,
 "nbformat_minor": 0
}