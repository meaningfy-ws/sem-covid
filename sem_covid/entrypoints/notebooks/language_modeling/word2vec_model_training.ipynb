{
 "cells": [
  {
   "cell_type": "markdown",
   "source": [
    "## Word2vec model training\n",
    "#### Model training based on three datasets' text data:\n",
    "- M1: pwdb + eu_timeline  ( +  ireland_timeline )\n",
    "- M2: ds_eu_cellar\n",
    "- M3: M1+M2\n",
    "\n",
    "#### Extract NOUN and NOUN PHRASES from each text data\n",
    "#### Train the word2vec model with each dataset's textual data"
   ],
   "metadata": {
    "collapsed": false
   }
  },
  {
   "cell_type": "markdown",
   "source": [
    "### Import libraries"
   ],
   "metadata": {
    "collapsed": false
   }
  },
  {
   "cell_type": "code",
   "execution_count": 20,
   "outputs": [],
   "source": [
    "import sys\n",
    "\n",
    "sys.path.append(\"/home/jovyan/work/sem-covid/\")\n",
    "sys.path = list(set(sys.path))\n",
    "\n",
    "import os\n",
    "\n",
    "os.getcwd()\n",
    "os.chdir('/home/jovyan/work/sem-covid/')\n",
    "\n",
    "import warnings\n",
    "\n",
    "warnings.filterwarnings(\"ignore\")\n",
    "\n",
    "import numpy as np\n",
    "\n",
    "from sem_covid.services.store_registry import store_registry\n",
    "from sem_covid.services.language_model_execution_steps import LanguageModelExecutionSteps\n",
    "from sem_covid.entrypoints.notebooks.language_modeling.language_model_tools.graph_handling import (\n",
    "    create_graph_for_language_model_key_words)\n",
    "from typing import List\n",
    "import time"
   ],
   "metadata": {
    "collapsed": false,
    "pycharm": {
     "name": "#%%\n"
    }
   }
  },
  {
   "cell_type": "code",
   "execution_count": 19,
   "outputs": [
    {
     "name": "stderr",
     "output_type": "stream",
     "text": [
      "[nltk_data] Downloading package words to /home/jovyan/nltk_data...\n",
      "[nltk_data]   Package words is already up-to-date!\n"
     ]
    }
   ],
   "source": [
    "\n",
    "import pickle\n",
    "import re\n",
    "from typing import List, Tuple\n",
    "\n",
    "import pandas as pd\n",
    "import spacy\n",
    "from gensim.models import Word2Vec\n",
    "from gensim.parsing.preprocessing import remove_stopwords\n",
    "\n",
    "from sem_covid.services.store_registry import store_registry\n",
    "\n",
    "from sem_covid.adapters.embedding_models import BasicSentenceSplitterModel\n",
    "\n",
    "import nltk\n",
    "\n",
    "nltk.download('words')\n",
    "from nltk.corpus import words\n",
    "import enchant\n",
    "\n",
    "en_words = set(words.words())\n",
    "d = enchant.Dict(\"en_US\")\n",
    "\n",
    "nlp = spacy.load('en_core_web_sm')\n",
    "nlp.max_length = 5000000\n",
    "WINDOW = 5\n",
    "MIN_COUNT = 1\n",
    "VECTOR_SIZE = 300\n",
    "LANGUAGE_MODEL_MINIO_FOLDER = 'word2vec/'\n",
    "LANGUAGE_MODEL_BUCKET_NAME = 'mdl-language'\n",
    "\n",
    "\n",
    "def apply_cleaning_functions(document_corpus: list) -> list:\n",
    "    \"\"\"\n",
    "    This function receives the document and leads through cleaning steps\n",
    "    Args:\n",
    "        document_corpus: dataset document corpus\n",
    "\n",
    "    Returns: clean document corpus\n",
    "    \"\"\"\n",
    "    splitter = BasicSentenceSplitterModel()\n",
    "    textual_data = '. '.join(document_corpus)\n",
    "    splitted_text = splitter.split(textual_data)\n",
    "    splitted_long_text = [sent for sent in splitted_text if len(sent) > 10]\n",
    "    cleaned_text = list(set([sent for sent in list(map(clean_text, splitted_long_text)) if sent]))\n",
    "    return cleaned_text"
   ],
   "metadata": {
    "collapsed": false,
    "pycharm": {
     "name": "#%%\n"
    }
   }
  },
  {
   "cell_type": "code",
   "execution_count": 3,
   "outputs": [],
   "source": [
    "def clean_text(text: str) -> str:\n",
    "    tmp_text = re.sub(' +', ' ', re.sub(r',', ' , ', re.sub(r'[^a-zA-Z_ ]', ' ', text))).lower()\n",
    "    tmp_words = tmp_text.split(' ')\n",
    "    result_words = []\n",
    "    for word in tmp_words:\n",
    "        if word == \",\":\n",
    "            result_words.append(word)\n",
    "        elif len(word) > 3 and (word in en_words or d.check(word)):\n",
    "            result_words.append(word)\n",
    "    if len(result_words) > 3:\n",
    "        return ' '.join(result_words)\n",
    "    else:\n",
    "        return ''"
   ],
   "metadata": {
    "collapsed": false,
    "pycharm": {
     "name": "#%%\n"
    }
   }
  },
  {
   "cell_type": "markdown",
   "source": [
    "# economic\n",
    "## Define constants"
   ],
   "metadata": {
    "collapsed": false
   }
  },
  {
   "cell_type": "code",
   "execution_count": 4,
   "outputs": [],
   "source": [
    "DEFAULT_TEXTUAL_CLASS = ['Title', 'Content']\n",
    "\n",
    "PWDB_TEXTUAL_CLASS = ['title', 'background_info_description', 'content_of_measure_description',\n",
    "                      'country', 'category', 'subcategory', 'target_groups']\n",
    "\n",
    "EU_CELLAR_TEXTUAL_CLASS = ['title', 'content', 'eurovoc_concept_labels', 'subject_matter_labels',\n",
    "                           'directory_codes_labels']\n",
    "\n",
    "IRELAND_ACTION_TIMELINE_CLASS = ['title', 'content', 'keyword']\n",
    "\n",
    "EU_ACTION_TIMELINE_CLASS = ['abstract', 'title', 'topics', 'detail_content']\n",
    "\n",
    "KEY_WORDS_FOR_ALL_MODELS = [\"eu\", \"national\", \"work\", \"aid\", \"coronavirus\", \"covid19\", \"measures\",\n",
    "                            \"vaccine\", \"minister\", \"government\", \"organisations\",\n",
    "                            \"agreement\", \"unemployment\", \"insurance\", \"reorientation\", \"economy\",\n",
    "                            \"economic\", \"innovation\", \"research\", \"development\", \"risk\", \"transport\"]\n",
    "\n",
    "COUNTRIES = ['austria', 'belgium', 'bulgaria', 'croatia', 'cyprus', 'czechia', 'denmark', 'estonia',\n",
    "             'european_union', 'finland', 'france', 'germany', 'greece', 'hungary', 'ireland', 'italy',\n",
    "             'latvia', 'lithuania', 'luxembourg', 'malta', 'netherlands', 'norway', 'poland', 'portugal',\n",
    "             'romania', 'slovakia', 'slovenia', 'spain', 'sweden', 'united_kingdom']\n",
    "\n",
    "CATEGORY = ['retention', 'workplace', 'labour', 'recovery', 'adaptation',\n",
    "            'protection', 'essential', 'business_continuity',\n",
    "            'services', 'social', 'market']\n",
    "\n",
    "SUBCATEGORY = ['safety', 'arrangements', 'health', 'spending', 'working', 'support', 'occupational',\n",
    "               'stimulus_packages', 'access', 'time', 'finance', 'remote', 'flexibility',\n",
    "               'essential_services', 'remuneration']\n",
    "\n",
    "TARGET_GROUPS_L1 = ['businesses', 'workers', 'citizens']\n",
    "\n",
    "TARGET_GROUPS_L2 = ['company', 'older', 'people', 'female', 'aged', 'corporations',\n",
    "                    'single', 'person', 'forms', 'smes', 'ups', 'single_parents',\n",
    "                    'citizens', 'professions', 'parents', 'groups', 'youth',\n",
    "                    'sector', 'women', 'unemployed', 'care', 'facilities', 'standard',\n",
    "                    'specific', 'contractors', 'children', 'border', 'refugees',\n",
    "                    'minors', 'platform', 'employment', 'seasonal', 'disabled', 'migrants',\n",
    "                    'risk_group', 'commuters']\n",
    "\n",
    "FUNDING = ['companies', 'national_funds', 'employer', 'funds', 'european_funds', 'no_special_funding_required',\n",
    "           'regional_funds', 'local_funds', 'employers_organization', 'employees']\n",
    "\n",
    "WORDS_PACK1 = {'category': CATEGORY,\n",
    "               'subcategory': SUBCATEGORY,\n",
    "               'countries': COUNTRIES,\n",
    "               'target_groups_l1': TARGET_GROUPS_L1,\n",
    "               'target_groups_l2': TARGET_GROUPS_L2,\n",
    "               'funding': FUNDING}\n",
    "\n",
    "WORDS_PACK2 = {'keywords': KEY_WORDS_FOR_ALL_MODELS}\n",
    "\n",
    "MODEL_WORDS_PACKS = (WORDS_PACK1, WORDS_PACK1, WORDS_PACK2)\n",
    "\n",
    "MODEL_NAMES = ('model1', 'model2', 'model3')\n",
    "\n",
    "FILE_NAMES = ('model1_language_model.model',\n",
    "              'model2_language_model.model',\n",
    "              'model3_language_model.model'\n",
    "              )\n",
    "\n",
    "SIMILARITY_MATRIX_BUCKET_NAME = 'semantic-similarity-matrices'\n",
    "\n",
    "COSINE_SIMILARITY_MATRICES = ('model1_cosine_matrix.pkl',\n",
    "                              'model2_cosine_matrix.pkl',\n",
    "                              'model3_cosine_matrix.pkl'\n",
    "                              )"
   ],
   "metadata": {
    "collapsed": false,
    "pycharm": {
     "name": "#%%\n"
    }
   }
  },
  {
   "cell_type": "markdown",
   "source": [
    "## Data preprocessing\n",
    "- data cleanup\n",
    "- turn corpus into spacy document\n"
   ],
   "metadata": {
    "collapsed": false
   }
  },
  {
   "cell_type": "markdown",
   "source": [
    "## Experiment Nr#1 language model based on:\n",
    "- PWDB\n",
    "- eu-timeline\n",
    "- ireland-timeline\n",
    "\n",
    "## Experiment Nr#2 language model based on:\n",
    "- eu-cellar\n",
    "\n",
    "## Experiment Nr#3 language model based on:\n",
    "- PWDB\n",
    "- eu-timeline\n",
    "- ireland-timeline\n",
    "- eu-cellar\n"
   ],
   "metadata": {
    "collapsed": false
   }
  },
  {
   "cell_type": "code",
   "execution_count": 5,
   "outputs": [
    {
     "name": "stderr",
     "output_type": "stream",
     "text": [
      "100% (4126 of 4126) |####################| Elapsed Time: 0:00:00 Time:  0:00:00\n"
     ]
    }
   ],
   "source": [
    "ds_unified = store_registry.es_index_store().get_dataframe('ds_unified_datasets')"
   ],
   "metadata": {
    "collapsed": false,
    "pycharm": {
     "name": "#%%\n"
    }
   }
  },
  {
   "cell_type": "code",
   "execution_count": 6,
   "outputs": [],
   "source": [
    "model1_df = ds_unified.query('Document_source != \"eu_cellar\"')\n",
    "model2_df = ds_unified.query('Document_source == \"eu_cellar\"')\n",
    "model3_df = ds_unified\n"
   ],
   "metadata": {
    "collapsed": false,
    "pycharm": {
     "name": "#%%\n"
    }
   }
  },
  {
   "cell_type": "code",
   "execution_count": 7,
   "outputs": [],
   "source": [
    "MODEL_DATASET_SOURCES_CONFIGS = (\n",
    "    [\n",
    "        (model1_df, DEFAULT_TEXTUAL_CLASS),\n",
    "    ],\n",
    "    [\n",
    "        (model2_df, DEFAULT_TEXTUAL_CLASS),\n",
    "    ],\n",
    "    [\n",
    "        (model3_df, DEFAULT_TEXTUAL_CLASS),\n",
    "    ]\n",
    ")\n"
   ],
   "metadata": {
    "collapsed": false,
    "pycharm": {
     "name": "#%%\n"
    }
   }
  },
  {
   "cell_type": "code",
   "execution_count": 24,
   "outputs": [],
   "source": [
    "\n",
    "\n",
    "\n",
    "from spacy.tokens.doc import Doc\n",
    "\n",
    "\n",
    "def document_atomization_noun_phrases(document: Doc) -> str:\n",
    "    \"\"\"\n",
    "        Detects each noun phrase from inserted spacy document and transforms it\n",
    "        into integrate single token\n",
    "        :document: spacy document\n",
    "        :return: The same document, but with atomized noun phrases\n",
    "    \"\"\"\n",
    "    sentence = ' '.join([word.lemma_ for word in document])\n",
    "    for noun_phrase in document.noun_chunks:\n",
    "        noun_phrase_lemma = [x.lemma_ for x in noun_phrase]\n",
    "        sequence = \" \".join(\n",
    "            [token for token in noun_phrase_lemma if token != \"\" and token != \" \"])\n",
    "        sequence_without_stopwords = remove_stopwords(sequence)\n",
    "        sentence = sentence.replace(sequence, sequence_without_stopwords.replace(' ', '_'))\n",
    "\n",
    "    return remove_stopwords(sentence)"
   ],
   "metadata": {
    "collapsed": false,
    "pycharm": {
     "name": "#%%\n"
    }
   }
  },
  {
   "cell_type": "code",
   "execution_count": 21,
   "outputs": [],
   "source": [
    "doc = nlp('I am the president of unitated states')"
   ],
   "metadata": {
    "collapsed": false,
    "pycharm": {
     "name": "#%%\n"
    }
   }
  },
  {
   "cell_type": "code",
   "execution_count": 25,
   "outputs": [
    {
     "data": {
      "text/plain": "'I president unitated_state'"
     },
     "execution_count": 25,
     "metadata": {},
     "output_type": "execute_result"
    }
   ],
   "source": [
    "document_atomization_noun_phrases(doc)"
   ],
   "metadata": {
    "collapsed": false,
    "pycharm": {
     "name": "#%%\n"
    }
   }
  },
  {
   "cell_type": "code",
   "execution_count": 113,
   "outputs": [],
   "source": [
    "class LanguageModelPipeline:\n",
    "    \"\"\"\n",
    "        This pipeline executes the steps for word2vec language training.\n",
    "    \"\"\"\n",
    "\n",
    "    def __init__(self, dataset_source: pd.DataFrame, textual_columns: List[str], language_model_name: str):\n",
    "        \"\"\"\n",
    "            :param dataset_sources: represents the source of the datasets.\n",
    "        \"\"\"\n",
    "        self.dataset_source = dataset_source\n",
    "        self.textual_columns = textual_columns\n",
    "        self.language_model_name = language_model_name\n",
    "        self.documents_corpus = pd.Series()\n",
    "        self.word2vec = None\n",
    "        self.steps = [self.extract_textual_data,\n",
    "                      self.clean_textual_data,\n",
    "                      self.transform_to_spacy_doc,\n",
    "                      self.extract_features,\n",
    "                      self.model_training,\n",
    "                      self.save_language_model\n",
    "                      ]\n",
    "\n",
    "    def extract_textual_data(self):\n",
    "        \"\"\"\n",
    "            After downloading the datasets, the textual data will be found and and concatenated\n",
    "            with executing of several steps as well. It will fill the NaN values with empty space,\n",
    "            add a dot at the end of each concatenated column and reset the index.\n",
    "        \"\"\"\n",
    "        self.documents_corpus = (self.dataset_source[self.textual_columns]\n",
    "                                 .fillna(value=\"\")\n",
    "                                 .agg('. '.join, axis=1).values\n",
    "                                 )\n",
    "\n",
    "    def clean_textual_data(self):\n",
    "        \"\"\"\n",
    "            The next step is data cleaning. In this step the function \"apply_cleaning_functions\"\n",
    "            applies the following actions:\n",
    "                - clean the document from specific characters\n",
    "                - delete unicode\n",
    "                - removes emails and URLs and currency symbols\n",
    "        \"\"\"\n",
    "        self.documents_corpus = apply_cleaning_functions(self.documents_corpus)\n",
    "\n",
    "    def transform_to_spacy_doc(self):\n",
    "        \"\"\"\n",
    "            When the document is clean, is going to be transform into spacy document\n",
    "        \"\"\"\n",
    "        self.documents_corpus = list(nlp.pipe(self.documents_corpus))\n",
    "\n",
    "    def extract_features(self):\n",
    "        \"\"\"\n",
    "            To extract the parts of speech, below it was defined classes for each token is necessary.\n",
    "        \"\"\"\n",
    "        tmp_documents_corpus = self.documents_corpus.copy()\n",
    "        tmp_documents_corpus = [\n",
    "            ' '.join([word.lemma_ for word in document])\n",
    "            for document in tmp_documents_corpus\n",
    "        ]\n",
    "        self.documents_corpus = list(map(document_atomization_noun_phrases, self.documents_corpus))\n",
    "        self.documents_corpus = self.documents_corpus + tmp_documents_corpus\n",
    "\n",
    "    def model_training(self):\n",
    "        \"\"\"\n",
    "            When the data is prepared it's stored into Word2Vec model.\n",
    "        \"\"\"\n",
    "        self.word2vec = Word2Vec(sentences=list(map(lambda x: x.split(' '), self.documents_corpus)),\n",
    "                                 window=WINDOW,\n",
    "                                 min_count=MIN_COUNT, vector_size=VECTOR_SIZE)\n",
    "\n",
    "    def save_language_model(self):\n",
    "        \"\"\"\n",
    "            Saves trained model in MinIO\n",
    "        \"\"\"\n",
    "        minio = store_registry.minio_object_store(LANGUAGE_MODEL_BUCKET_NAME)\n",
    "        minio.put_object(LANGUAGE_MODEL_MINIO_FOLDER + self.language_model_name, pickle.dumps(self.word2vec))\n",
    "\n",
    "    def execute(self):\n",
    "        \"\"\"\n",
    "            The final step is execution, where are stored each step and it will be executed in a row\n",
    "        \"\"\"\n",
    "        for step in self.steps:\n",
    "            start_time = time.time()\n",
    "            print(f'Start: {step.__name__}')\n",
    "            step()\n",
    "            end_time = time.time()\n",
    "            print(f'Finish: {step.__name__}')\n",
    "            print(f'Time elapsed: {round(end_time - start_time, 4)} seconds')\n"
   ],
   "metadata": {
    "collapsed": false,
    "pycharm": {
     "name": "#%%\n"
    }
   }
  },
  {
   "cell_type": "code",
   "execution_count": 214,
   "outputs": [
    {
     "name": "stdout",
     "output_type": "stream",
     "text": [
      "Start: extract_textual_data\n",
      "Finish: extract_textual_data\n",
      "Time elapsed: 0.0321 seconds\n",
      "Start: clean_textual_data\n",
      "Finish: clean_textual_data\n",
      "Time elapsed: 9.9328 seconds\n",
      "Start: transform_to_spacy_doc\n",
      "Finish: transform_to_spacy_doc\n",
      "Time elapsed: 184.0714 seconds\n",
      "Start: extract_features\n",
      "Finish: extract_features\n",
      "Time elapsed: 6.3946 seconds\n",
      "Start: model_training\n",
      "Finish: model_training\n",
      "Time elapsed: 23.3179 seconds\n",
      "Start: save_language_model\n",
      "Finish: save_language_model\n",
      "Time elapsed: 2.9704 seconds\n"
     ]
    }
   ],
   "source": [
    "lang_model_pipeline = LanguageModelPipeline(dataset_source=model2_df,\n",
    "                                            textual_columns=DEFAULT_TEXTUAL_CLASS,\n",
    "                                            language_model_name=MODEL_NAMES[1])\n",
    "\n",
    "lang_model_pipeline.execute()\n",
    "word2vec = lang_model_pipeline.word2vec"
   ],
   "metadata": {
    "collapsed": false,
    "pycharm": {
     "name": "#%%\n"
    }
   }
  },
  {
   "cell_type": "code",
   "execution_count": 117,
   "outputs": [],
   "source": [
    "from sklearn.feature_extraction.text import TfidfVectorizer"
   ],
   "metadata": {
    "collapsed": false,
    "pycharm": {
     "name": "#%%\n"
    }
   }
  },
  {
   "cell_type": "code",
   "execution_count": 202,
   "outputs": [],
   "source": [
    "def get_filtered_words(corpus):\n",
    "    tfidf_vec = TfidfVectorizer(use_idf=True)\n",
    "    transformed = tfidf_vec.fit_transform(raw_documents=corpus)\n",
    "    words = list(tfidf_vec.vocabulary_.items())\n",
    "    idf = tfidf_vec.idf_\n",
    "    weighted_words = [(pair[0], idf[pair[1]]) for pair in words]\n",
    "    tmp_df = pd.DataFrame(weighted_words, columns=['word', 'idf'])\n",
    "    filter_limit = tmp_df.groupby(by='idf').agg(['count']).tail(2).index[0]\n",
    "    words = tmp_df[tmp_df.idf < filter_limit].word.values.tolist()\n",
    "    nlp_documents = list(nlp.pipe(words))\n",
    "    filtered_words = [str(word) for document in nlp_documents\n",
    "                      for word in document\n",
    "                      if word.pos_ in ['NOUN', 'ADJ']]\n",
    "    return filtered_words"
   ],
   "metadata": {
    "collapsed": false,
    "pycharm": {
     "name": "#%%\n"
    }
   }
  },
  {
   "cell_type": "code",
   "execution_count": 215,
   "outputs": [],
   "source": [
    "filtered_words = get_filtered_words(lang_model_pipeline.documents_corpus)\n",
    "\n",
    "vectors = [word2vec.wv.vectors[word2vec.wv.key_to_index[word]] for word in filtered_words]"
   ],
   "metadata": {
    "collapsed": false,
    "pycharm": {
     "name": "#%%\n"
    }
   }
  },
  {
   "cell_type": "code",
   "execution_count": 216,
   "outputs": [
    {
     "name": "stdout",
     "output_type": "stream",
     "text": [
      "Start computing similarity matrix.\n",
      "Finish computing similarity matrix.\n",
      "Save similarity matrix.\n",
      "Start computing similarity matrix.\n",
      "Finish computing similarity matrix.\n",
      "Save similarity matrix.\n"
     ]
    }
   ],
   "source": [
    "from sem_covid.entrypoints.notebooks.language_modeling.language_model_tools.similarity_calculus import (\n",
    "    build_similarity_matrix )\n",
    "\n",
    "similarity_functions = ['cosine', 'euclidean']\n",
    "for index in range(len(similarity_functions)):\n",
    "    print('Start computing similarity matrix.')\n",
    "    model_similarity_matrix = build_similarity_matrix(\n",
    "        np.array(vectors),\n",
    "        filtered_words,\n",
    "        metric=similarity_functions[index])\n",
    "    print('Finish computing similarity matrix.')\n",
    "    print('Save similarity matrix.')\n",
    "    store_registry.minio_feature_store('semantic-similarity-matrices').put_features(\n",
    "        features_name=f'model2_{similarity_functions[index]}_matrix.pkl',\n",
    "        content= model_similarity_matrix\n",
    "    )\n",
    "    del model_similarity_matrix"
   ],
   "metadata": {
    "collapsed": false,
    "pycharm": {
     "name": "#%%\n"
    }
   }
  },
  {
   "cell_type": "code",
   "execution_count": null,
   "outputs": [],
   "source": [],
   "metadata": {
    "collapsed": false,
    "pycharm": {
     "name": "#%%\n"
    }
   }
  },
  {
   "cell_type": "code",
   "execution_count": 102,
   "outputs": [
    {
     "data": {
      "text/plain": "[('subsidiary_nature_emergency_support', 12.63902493413988),\n ('strictly_complementary_assistance', 12.63902493413988),\n ('furthermore_article_accessibility_user', 12.63902493413988),\n ('design_construction_infrastructure', 12.63902493413988),\n ('relevant_requirement_union', 12.63902493413988),\n ('month_launch_measure', 12.63902493413988),\n ('ministry_design', 12.63902493413988),\n ('criterion_payment', 12.63902493413988),\n ('increase_competence_board', 12.63902493413988),\n ('particular_expertise', 12.63902493413988),\n ('repayable_financial_support_reform_investment_propose_measure',\n  12.63902493413988),\n ('national_reference_framework_support_scheme', 12.63902493413988),\n ('mitigate_indebtedness', 12.63902493413988),\n ('borrow_commission_behalf_union_basis_article_council_decision',\n  12.63902493413988),\n ('access_affordable_adequate_housing', 12.63902493413988),\n ('increase_risk_severe_housing_deprivation', 12.63902493413988),\n ('certain_related_law', 12.63902493413988),\n ('people_immediate_need', 12.63902493413988),\n ('short_term_restoration', 12.63902493413988),\n ('damage_infrastructure', 12.63902493413988),\n ('disaster_stricken_region', 12.63902493413988),\n ('status_judge', 12.63902493413988),\n ('service_constitutional_court', 12.63902493413988),\n ('supply_maximum_number_airline_airport', 12.63902493413988),\n ('general_public_mobile_version_available_general_public_deployment_mobile_version',\n  12.63902493413988),\n ('mutual_consent_arbitrator_chair_arbitration_board', 12.63902493413988),\n ('information_date_particular_measure', 12.63902493413988),\n ('overcome_segmentation', 12.63902493413988),\n ('child_poverty_social_protection_service', 12.63902493413988),\n ('laboratory_confirm_validation_datum', 12.63902493413988),\n ('publication_health_protection_surveillance_guidance_return_sport_activity_child_adolescent',\n  12.63902493413988),\n ('state_article', 12.63902493413988),\n ('public_private_social_welfare_institution', 12.63902493413988),\n ('administrative_authority_legislative_body', 12.63902493413988),\n ('report_conclusion', 12.63902493413988),\n ('miss_data_datum', 12.63902493413988),\n ('datum_subject_request', 12.63902493413988),\n ('partial_control', 12.63902493413988),\n ('necessary_step_investment_education_adequate_health_social_protection_order_address',\n  12.63902493413988),\n ('expose_social_exclusion', 12.63902493413988),\n ('wild_aquatic_animal_important_resource', 12.63902493413988),\n ('financial_burden_business', 12.63902493413988),\n ('field_activity_obligation', 12.63902493413988),\n ('collateral_guarantee', 12.63902493413988),\n ('number_number_youth', 12.63902493413988),\n ('age_enter_course', 12.63902493413988),\n ('national_agency_professional_training_adult', 12.63902493413988),\n ('bridge_urban_rural_connectivity', 12.63902493413988),\n ('pilot_project_establishment_implementation_systematic_energy_management_development_financing_model',\n  12.63902493413988),\n ('necessary_step_selection_suitable_partner_unit', 12.63902493413988),\n ('relatively_easy_person', 12.63902493413988),\n ('example_stakeholder', 12.63902493413988),\n ('average_green_bond_energy_utility_sector', 12.63902493413988),\n ('judgment_march', 12.63902493413988),\n ('preliminary_reference_supreme_court_court_justice', 12.63902493413988),\n ('participation_council_judiciary', 12.63902493413988),\n ('political_organ', 12.63902493413988),\n ('objective_body', 12.63902493413988),\n ('sufficiently_independent_legislature_executive_body', 12.63902493413988),\n ('crisis_core_topic_opinion', 12.63902493413988),\n ('huge_impact_sector_topic', 12.63902493413988),\n ('aids_energy_renovation_building', 12.63902493413988),\n ('minimum_wage_council', 12.63902493413988),\n ('relevant_evaluation_plan', 12.63902493413988),\n ('scheme_entry', 12.63902493413988),\n ('write_opinion', 12.63902493413988),\n ('sudden_severe_increase_actual_plan_expenditure_directly_relate_wage_subsidy_measure',\n  12.63902493413988),\n ('online_initiative_expansion_trading', 12.63902493413988),\n ('online_voucher_scheme_agreement', 12.63902493413988),\n ('covid_pandemic_workplace_health_safety_consideration', 12.63902493413988),\n ('broad_global_trend', 12.63902493413988),\n ('potential_future_pandemic', 12.63902493413988),\n ('impact_workplace_future_example_impact', 12.63902493413988),\n ('potential_exposure_asbestos_implication_transition_economy',\n  12.63902493413988),\n ('variety_valuable_useful_information_advice', 12.63902493413988),\n ('high_share_construction_project_investment_plan', 12.63902493413988),\n ('green_transformation_pharmaceutical_strategy', 12.63902493413988),\n ('manufacturing_waste', 12.63902493413988),\n ('specific_focus_antimicrobial_resistance', 12.63902493413988),\n ('equip_participant', 12.63902493413988),\n ('need_growth_sector', 12.63902493413988),\n ('particular_green_digital_skill', 12.63902493413988),\n ('assessment_deployment_potential_smart_energy_technology_sector_coupling_solution',\n  12.63902493413988),\n ('smooth_cost_efficient_energy_transition', 12.63902493413988),\n ('asem_statement', 12.63902493413988),\n ('office_large_site', 12.63902493413988),\n ('nearly_square_foot_development', 12.63902493413988),\n ('legislative_development_union_level', 12.63902493413988),\n ('processing_provider', 12.63902493413988),\n ('strictly_necessary_specific_technology_sole_purpose', 12.63902493413988),\n ('online_child_sexual_abuse_material_reporting_enforcement_authority',\n  12.63902493413988),\n ('approximately_project', 12.63902493413988),\n ('promotion_business_model_energy_transition', 12.63902493413988),\n ('dock_relate_obligation', 12.63902493413988),\n ('mandatory_function_council_list_article_convention', 12.63902493413988),\n ('adoption_international_standard', 12.63902493413988),\n ('regularly_second', 12.63902493413988),\n ('safe_wear_face_covering', 12.63902493413988),\n ('face_cough', 12.63902493413988),\n ('transparency_fairness_distribution', 12.63902493413988),\n ('public_realm_street', 12.63902493413988),\n ('public_transport_vehicle_access', 12.63902493413988),\n ('stakeholder_trade_union_representative', 12.63902493413988),\n ('importance_minimum_wage', 12.63902493413988),\n ('need_worker', 12.63902493413988),\n ('particular_article_regulation', 12.63902493413988),\n ('potential_risk_case', 12.63902493413988),\n ('structural_human_resource_strategy', 12.63902493413988),\n ('subsidiarity_exclusive_competence_risk_worker_health_safety',\n  12.63902493413988),\n ('investment_support_productivity', 12.63902493413988),\n ('respect_autonomy_social_partner_freedom_collective_bargaining',\n  12.63902493413988),\n ('function_wage_set', 12.63902493413988),\n ('corona_package_preparation', 12.63902493413988),\n ('renew_social_distancing_measure', 12.63902493413988),\n ('lead_role_setter_global_standard', 12.63902493413988),\n ('increase_role_international_cooperation_normative_research',\n  12.63902493413988),\n ('cost_measure_foregone_revenue', 12.63902493413988),\n ('additional_local_production', 12.63902493413988),\n ('business_subject_qualifying_criterion', 12.63902493413988),\n ('behalf_attributable_business_premise', 12.63902493413988),\n ('digital_strategy_milestone_implementation_digital_strategy',\n  12.63902493413988),\n ('horizontal_intervention_section', 12.63902493413988),\n ('crucial_security_autonomy', 12.63902493413988),\n ('domestic_unit_labour_cost', 12.63902493413988),\n ('declare_capacity', 12.63902493413988),\n ('previous_capacity_level', 12.63902493413988),\n ('slot_history', 12.63902493413988),\n ('automate_work_increase_level_security_business_datum', 12.63902493413988),\n ('circulation_central_process_electronic_document', 12.63902493413988),\n ('cruelty', 12.63902493413988),\n ('subsequent_phase_expression_phase', 12.63902493413988),\n ('environment_price_reduction_final_electricity_consumer', 12.63902493413988),\n ('important_society_economy', 12.63902493413988),\n ('design_edge_semiconductor_manufacturing', 12.63902493413988),\n ('strategic_relevance_investment', 12.63902493413988),\n ('social_protection_indicative_possibility', 12.63902493413988),\n ('computational_power', 12.63902493413988),\n ('train_large_model', 12.63902493413988),\n ('joint_consultation_strategy_right_child_child_guarantee',\n  12.63902493413988),\n ('regional_disparity_wide_employment_social_outcome_indicator',\n  12.63902493413988),\n ('ongoing_report_member_state', 12.63902493413988),\n ('toolbox_report_impact_commission_recommendation_march_network',\n  12.63902493413988),\n ('list_action_objective', 12.63902493413988),\n ('step_coordinate_approach_action_plan_synergy', 12.63902493413988),\n ('level_technology_innovation', 12.63902493413988),\n ('combined_effect_technological_progress_demographic_change_climate_change',\n  12.63902493413988),\n ('complete_contingency_plan', 12.63902493413988),\n ('general_evaluation_regulation_contractor', 12.63902493413988),\n ('train_curve', 12.63902493413988),\n ('switch_turnout', 12.63902493413988),\n ('tram_curves', 12.63902493413988),\n ('length_track_curve_curve_radius', 12.63902493413988),\n ('additional_flexibility_self_employ_worker_pandemic_unemployment_payment',\n  12.63902493413988),\n ('commission_social_policy_coherent', 12.63902493413988),\n ('reaction_president', 12.63902493413988),\n ('special_time', 12.63902493413988),\n ('controversial_clause', 12.63902493413988),\n ('private_spending_investment', 12.63902493413988),\n ('infrastructure_project_area_tourism_energy_education', 12.63902493413988),\n ('meeting_steering_board_defence_agency_union_satellite', 12.63902493413988),\n ('confederation_big_union', 12.63902493413988),\n ('guidance_special_home_page_union_member', 12.63902493413988),\n ('corona_covid_relate_issue', 12.63902493413988),\n ('strong_engagement_social_partner_level', 12.63902493413988),\n ('future_medical_futurist', 12.63902493413988),\n ('investment_organic_transition', 12.63902493413988),\n ('public_kitchen_measure', 12.63902493413988),\n ('wide_range_suite_educational_support', 12.63902493413988),\n ('organic_healthy_sustainable_food', 12.63902493413988),\n ('rule_report_stakeholder_contribution_council_reference_relevant_case_rule_report',\n  12.63902493413988),\n ('delivery_service_possibility', 12.63902493413988),\n ('management_amusement_thematic_park', 12.63902493413988),\n ('easy_access_finance', 12.63902493413988),\n ('environmentally_friendly_respect_climate_neutrality_objective',\n  12.63902493413988),\n ('right_real_competence_assessment_skilled_worker', 12.63902493413988),\n ('skilled_benefit_recipient_cash_benefit_recipient_transitional_benefit_recipient',\n  12.63902493413988),\n ('international_labour_conference_amendment', 12.63902493413988),\n ('number_technical_change', 12.63902493413988),\n ('quorum', 12.63902493413988),\n ('voting_conference', 12.63902493413988),\n ('corruption_rule', 12.63902493413988),\n ('unjustified_manual_allocation', 12.63902493413988),\n ('tripartite_declaration_principle', 12.63902493413988),\n ('association_statement_association_declaration_state_emergency_governmental_decree',\n  12.63902493413988),\n ('plan_mission_climate_neutral_smart_city', 12.63902493413988),\n ('revise_enforcement_directive_directive', 12.63902493413988),\n ('date_transposition_national_measure_member', 12.63902493413988),\n ('positive_aspect_regulatory_framework', 12.63902493413988),\n ('effectiveness_protection', 12.63902493413988),\n ('expand_scope', 12.63902493413988),\n ('misinformation_false_misleading_information', 12.63902493413988),\n ('malicious_intent', 12.63902493413988),\n ('substantial_public_harm', 12.63902493413988),\n ('chapter_financial_contribution_allocation_process_loan_review_article',\n  12.63902493413988),\n ('support_recovery_long_term_preparedness_educator', 12.63902493413988),\n ('blend_learning_design_statutory_initial_teacher_education',\n  12.63902493413988),\n ('professional_context', 12.63902493413988),\n ('range_indoor_outdoor_environment', 12.63902493413988),\n ('energy_resource_climate_change', 12.63902493413988),\n ('north_girl', 12.63902493413988),\n ('county_county_example_community_project', 12.63902493413988),\n ('august_city_community_development_company', 12.63902493413988),\n ('situation_post', 12.63902493413988),\n ('covid_particular_need_improve', 12.63902493413988),\n ('safe_fair_working_condition', 12.63902493413988),\n ('economic_recovery_inclusive_address', 12.63902493413988),\n ('mechanism_base_loan_creation_line_financing_intend_guarantee_project',\n  12.63902493413988),\n ('monthly_regulatory_administrative_act', 12.63902493413988),\n ('hospital_site', 12.63902493413988),\n ('annual_budgetary_procedure_deviate', 12.63902493413988),\n ('homeless_shelter_temporary_accommodation_setting', 12.63902493413988),\n ('family_environment', 12.63902493413988),\n ('permanent_solution', 12.63902493413988),\n ('committee_child', 12.63902493413988),\n ('important_sensitive_strategic_action', 12.63902493413988),\n ('financial_envelope_employment_social_innovation_strand', 12.63902493413988),\n ('predecessor_employment_social_innovation', 12.63902493413988),\n ('knowledge_hereditary_cancer', 12.63902493413988),\n ('exist_governance_tool', 12.63902493413988),\n ('case_irrigation_method', 12.63902493413988),\n ('imitate', 12.63902493413988),\n ('rain_special_attention', 12.63902493413988),\n ('protection_health_worker_bystander', 12.63902493413988),\n ('close_result_pandemic', 12.63902493413988),\n ('operation_future', 12.63902493413988),\n ('coherence_certainly_vital_importance', 12.63902493413988),\n ('continuous_equipment', 12.63902493413988),\n ('global_survey_questionnaire', 12.63902493413988),\n ('skip_logic', 12.63902493413988),\n ('profile_familiarity', 12.63902493413988),\n ('national_budget_commitment', 12.63902493413988),\n ('trainee_vocational_training', 12.63902493413988),\n ('council_congress', 12.63902493413988),\n ('local_regional_authority_current_affairs_committee', 12.63902493413988),\n ('festival_minister_tourism_culture_art_sport_media_martin',\n  12.63902493413988),\n ('commercial_live_performance_sector_assist_producer_promoter',\n  12.63902493413988),\n ('monitor_emerge_threat', 12.63902493413988),\n ('disease_order', 12.63902493413988),\n ('introduction_statutory_minimum_wage', 12.63902493413988),\n ('exposure_help', 12.63902493413988),\n ('inland_passenger_water_transport', 12.63902493413988),\n ('safe_travel_public_transport', 12.63902493413988),\n ('safety_transport_driver_passenger', 12.63902493413988),\n ('introduction_energy_norm', 12.63902493413988),\n ('production_antigen_purification_procedure', 12.63902493413988),\n ('process_flow_chart', 12.63902493413988),\n ('equitable_affordable_access', 12.63902493413988),\n ('civil_appeal_high_court', 12.63902493413988),\n ('scheme_context_epidemic_bear_mind', 12.63902493413988),\n ('access_entire_range_support', 12.63902493413988),\n ('digital_skill_component_strengthen_provision_education_service_place_measure',\n  12.63902493413988),\n ('knowledge_base_economy_component', 12.63902493413988),\n ('safety_sustainability_climate_resilience', 12.63902493413988),\n ('appropriate_legal_instrument_guarantee_scheme_underpinning_lending',\n  12.63902493413988),\n ('sure_instrument_view_fact', 12.63902493413988),\n ('voluntary_contribution_member_state', 12.63902493413988),\n ('baseline_goal_quarter_year_reform_development_labour_market_policy',\n  12.63902493413988),\n ('milestone_establishment_tripartite_skille_committee_entry',\n  12.63902493413988),\n ('permanent_committee_council_economic_social_agreement_tripartite_committee',\n  12.63902493413988),\n ('economic_social_inequality_management_migration_flow', 12.63902493413988),\n ('clean_energy_transition_technological_change_demographic_decline_unemployment_particular_youth_unemployment',\n  12.63902493413988),\n ('decade_overall_child_population', 12.63902493413988),\n ('quarantine_obligation_order', 12.63902493413988),\n ('wheel_industry', 12.63902493413988),\n ('judge_framework_criminal_investigation', 12.63902493413988),\n ('average_monthly_income_average_monthly_income', 12.63902493413988),\n ('contribute_reduction_greenhouse_emission', 12.63902493413988),\n ('mitigation_impact_water_soil_noise_pollution', 12.63902493413988),\n ('comprehensive_reform_investment_package_green_digital_transition_sizable_measure',\n  12.63902493413988),\n ('maximum_rate_financing_refer_article', 12.63902493413988),\n ('appropriate_essential_award_criterion', 12.63902493413988),\n ('respect_aviation_security_provision', 12.63902493413988),\n ('contracting_party_entrance', 12.63902493413988),\n ('dance_music', 12.63902493413988),\n ('culture_interact', 12.63902493413988),\n ('level_coordination_office', 12.63902493413988),\n ('directorate_general_employment_social_affairs_inclusion_commission',\n  12.63902493413988),\n ('horizontal_support', 12.63902493413988),\n ('fair_tourism', 12.63902493413988),\n ('manage_director_agency_council', 12.63902493413988),\n ('regard_record_government', 12.63902493413988),\n ('legislation_priority', 12.63902493413988),\n ('business_plan_performance', 12.63902493413988),\n ('continuous_monitoring_accordance', 12.63902493413988),\n ('productive_sustainable_investment', 12.63902493413988),\n ('example_production_permanent_magnet', 12.63902493413988),\n ('reliant_material', 12.63902493413988),\n ('impossible_expensive_export', 12.63902493413988),\n ('single_subject_matter_objective_amendment', 12.63902493413988),\n ('innovation_good_practice', 12.63902493413988),\n ('great_value_work', 12.63902493413988),\n ('overall_electrify_line', 12.63902493413988),\n ('estrogen', 12.63902493413988),\n ('androgen_mediate_parameter', 12.63902493413988),\n ('measured_study_study', 12.63902493413988),\n ('standard_standard_worker_atypical_worker', 12.63902493413988),\n ('entrance_youth_labour_market', 12.63902493413988),\n ('support_commission_action', 12.63902493413988),\n ('medical_attention_cough_shortness_breath_change_sense_smell_fever',\n  12.63902493413988),\n ('expensive_know_deal', 12.63902493413988),\n ('medium_exchange_pair_slot_airport', 12.63902493413988),\n ('second_generation_information_service_member', 12.63902493413988),\n ('responsible_issuing_vehicle_registration_certificate', 12.63902493413988),\n ('potential_application_diverge', 12.63902493413988),\n ('social_value_priority', 12.63902493413988),\n ('scientific_decision_making_procedure', 12.63902493413988),\n ('certain_predictable_competitive_policy_framework_important_environment_private_investment',\n  12.63902493413988),\n ('foundation_incubator_accelerator_foster_entrepreneurship_ecosystem',\n  12.63902493413988),\n ('technology_institutes_academia', 12.63902493413988),\n ('particularly_important_role', 12.63902493413988),\n ('high_tech_nature_knowledge_transfer_channel', 12.63902493413988),\n ('social_physical_contact_hand_hand_greeting', 12.63902493413988),\n ('large_cooperative_operating_mainly_restaurant_sector_retail_sale',\n  12.63902493413988),\n ('sustainable_diverse_supply_value_chain_line', 12.63902493413988),\n ('stakeholder_completion_platform_knowledge_exchange_communication',\n  12.63902493413988),\n ('equip_research_hall_strategic_communication_space', 12.63902493413988),\n ('addition_external_investigation', 12.63902493413988),\n ('resilience_public_official_public_official_corruption_relation_subversive_crime',\n  12.63902493413988),\n ('specifically_airport_port', 12.63902493413988),\n ('adequate_operating_schedule', 12.63902493413988),\n ('staff_process_personal_datum', 12.63902493413988),\n ('pandemic_relation', 12.63902493413988),\n ('government_case_urgency', 12.63902493413988),\n ('immediate_effect_need', 12.63902493413988),\n ('community_transmission_kerry', 12.63902493413988),\n ('medical_benefit_covid_risk_group', 12.63902493413988),\n ('early_lack_public_investment_inclusive_education', 12.63902493413988),\n ('health_response', 12.63902493413988),\n ('classed', 12.63902493413988),\n ('risk_multi_disciplinary_scientific_expert', 12.63902493413988),\n ('continual_development_metrology_capability', 12.63902493413988),\n ('accurate_measurement_data_technology_field', 12.63902493413988),\n ('exist_metrology_domain', 12.63902493413988),\n ('recommendation_report_art_culture_recovery', 12.63902493413988),\n ('continue_recommendation_court_auditor', 12.63902493413988),\n ('timely_application_biodiversity_policy', 12.63902493413988),\n ('strong_regulation', 12.63902493413988),\n ('national_datum_sharing', 12.63902493413988),\n ('united_public_administration_priority_network_digital_innovation_hub',\n  12.63902493413988),\n ('adoptive_benefit_community_employment_farm_assist_illness_benefit',\n  12.63902493413988),\n ('maternity_benefit_paternity_benefit', 12.63902493413988),\n ('finance_federal_finance_framework', 12.63902493413988),\n ('disability_coincide_majority_case', 12.63902493413988),\n ('bearers', 12.63902493413988),\n ('sovereign_bond_security_security_market_authority', 12.63902493413988),\n ('recourse_collateral_case_secure_loan', 12.63902493413988),\n ('limited_recourse_borrower', 12.63902493413988),\n ('guidance_appeal_technical_amendment_health_research_regulation',\n  12.63902493413988),\n ('guidance_explicit_consent_amendment_health_research_regulation',\n  12.63902493413988),\n ('guidance_informed_consent', 12.63902493413988),\n ('time_directive_amendment_health_research_regulation', 12.63902493413988),\n ('guidance_defer_consent_amendment_health_research_regulation',\n  12.63902493413988),\n ('guidance_screening_amendment_health_research_regulation',\n  12.63902493413988),\n ('chart_review_amendment_health_research_regulation', 12.63902493413988),\n ('renewable_energy_aim', 12.63902493413988),\n ('current_target_renewable_energy', 12.63902493413988),\n ('component_information', 12.63902493413988),\n ('previous_indent', 12.63902493413988),\n ('annex_regulation_information_identity_concentration_mixture_component',\n  12.63902493413988),\n ('recipient_fund_agency', 12.63902493413988),\n ('governmental_implement_partner', 12.63902493413988),\n ('threat_decline_usual_income_employee', 12.63902493413988),\n ('social_distancing_guideline_practice', 12.63902493413988),\n ('covid_workplace_representative_workplace', 12.63902493413988),\n ('sushi_sushi_chain', 12.63902493413988),\n ('locate_number_major_danish_city', 12.63902493413988),\n ('retail_sushi_box', 12.63902493413988),\n ('sister_brand', 12.63902493413988),\n ('distribution_fuel_supply', 12.63902493413988),\n ('different_indicator_availability_availability', 12.63902493413988),\n ('solid_biomass_synthetic_kerosene_production_passenger_traffic_airport',\n  12.63902493413988),\n ('specific_milestone_address', 12.63902493413988),\n ('final_year_student_learner', 12.63902493413988),\n ('relevant_mechanism', 12.63902493413988),\n ('practical_assessment', 12.63902493413988),\n ('polish_state', 12.63902493413988),\n ('cover_damage', 12.63902493413988),\n ('harmful_false_information', 12.63902493413988),\n ('dedicated_functionality_user', 12.63902493413988),\n ('impact_congestion', 12.63902493413988),\n ('inner_basin', 12.63902493413988),\n ('ideal_future_development_area_small_craft_harbour', 12.63902493413988),\n ('small_fishing_vessel_leisure_craft', 12.63902493413988),\n ('global_response_outbreak_commission', 12.63902493413988),\n ('eastern_partner_country', 12.63902493413988),\n ('million_immediate_need_republic', 12.63902493413988),\n ('absence_agreement', 12.63902493413988),\n ('legal_basis_provision_service', 12.63902493413988),\n ('respective_carrier', 12.63902493413988),\n ('general_principle_rule', 12.63902493413988),\n ('overly_broad_application_ordinary_legislation_insufficient_reasoning_emergency_measure',\n  12.63902493413988),\n ('collective_bargaining_enforcement_collective_agreement', 12.63902493413988),\n ('milestone_judicial_police_secondary_legislation_entry', 12.63902493413988),\n ('presidential_decree_ministerial_decision', 12.63902493413988),\n ('necessary_implementation', 12.63902493413988),\n ('judicial_police_assist', 12.63902493413988),\n ('scientific_technical_assistance_judge', 12.63902493413988),\n ('technical_professional_expertise', 12.63902493413988),\n ('planned_investment', 12.63902493413988),\n ('definition_user', 12.63902493413988),\n ('support_activity_hydrogen_railway', 12.63902493413988),\n ('high_pressure_high_capacity_storage', 12.63902493413988),\n ('metal_hydride_liquid', 12.63902493413988),\n ('experiment_animal', 12.63902493413988),\n ('bad_performer', 12.63902493413988),\n ('minimum_wage_varie', 12.63902493413988),\n ('consumption_interaction_term', 12.63902493413988),\n ('quintile_dummy_minimum_wage_growth', 12.63902493413988),\n ('main_type_activity', 12.63902493413988),\n ('long_term_sustainable_contribution_ecosystem', 12.63902493413988),\n ('climate_change_adaptation_mitigation_flood_mitigation_drought_prevention',\n  12.63902493413988),\n ('communication_framework_strategy', 12.63902493413988),\n ('forward_look_climate_change_policy', 12.63902493413988),\n ('urban_differently_area', 12.63902493413988),\n ('public_service_infrastructure', 12.63902493413988),\n ('action_address_regional_territorial_disparity', 12.63902493413988),\n ('general_objective_technical_support_instrument_promote_cohesion',\n  12.63902493413988),\n ('work_work_method', 12.63902493413988),\n ('pandemic_ensure', 12.63902493413988),\n ('time_scheme', 12.63902493413988),\n ('food_drink_sector_local_enterprise_office', 12.63902493413988),\n ('food_academy_partnership', 12.63902493413988),\n ('bord_food', 12.63902493413988),\n ('starter_digital_school_food', 12.63902493413988),\n ('immediately_available_claimant', 12.63902493413988),\n ('pension_application_form', 12.63902493413988),\n ('county_administrative_board', 12.63902493413988),\n ('second_million_total_disburse_condition', 12.63902493413988),\n ('danish_parliament_term_reference_commission_inquiry', 12.63902493413988),\n ('especially_vulnerable_pandemic', 12.63902493413988),\n ('fragile_work_life_balance', 12.63902493413988),\n ('covid_pandemic_spring_company', 12.63902493413988),\n ('security_threat_clean_energy_transition_technological_change',\n  12.63902493413988),\n ('contribution_priority_habitat_species_carbon_sequestration_storage_water_quality_service',\n  12.63902493413988),\n ('broad_range_landscape', 12.63902493413988),\n ('remark_commissioner_press_conference_recovery_resilience_facility_commission_press_release',\n  12.63902493413988),\n ('union_policy_action_policy', 12.63902493413988),\n ('proposal_package_help', 12.63902493413988),\n ('commission_green_deal_communication', 12.63902493413988),\n ('number_consideration', 12.63902493413988),\n ('define_threshold', 12.63902493413988),\n ('political_determination_choice', 12.63902493413988),\n ('connectivity_infrastructure_component', 12.63902493413988),\n ('enhance_detection_analysis_elementary_particle', 12.63902493413988),\n ('specific_pattern', 12.63902493413988),\n ('particle_collision', 12.63902493413988),\n ('innovative_algorithm', 12.63902493413988),\n ('different_type_quark_detector', 12.63902493413988),\n ('encourage_week_test_transport_measure', 12.63902493413988),\n ('high_upfront_capital', 12.63902493413988),\n ('indicative_breakdown_distribution', 12.63902493413988),\n ('exist_community_enhancement_structure', 12.63902493413988),\n ('start_grant', 12.63902493413988),\n ('income_aspire_entrepreneur', 12.63902493413988),\n ('require_launch', 12.63902493413988),\n ('relate_administrative_jurisdiction', 12.63902493413988),\n ('addition_waste_legislation_waste_management_plan', 12.63902493413988),\n ('circular_economy_line', 12.63902493413988),\n ('state_guarantee_scheme_loan_business', 12.63902493413988),\n ('potential_long_term', 12.63902493413988),\n ('purpose_calculation', 12.63902493413988),\n ('yearly_production', 12.63902493413988),\n ('factor_company', 12.63902493413988),\n ('adoption_recommendation_surveillance', 12.63902493413988),\n ('address_member_state', 12.63902493413988),\n ('reconciliation_forum', 12.63902493413988),\n ('strong_protest_consultation', 12.63902493413988),\n ('tool_monitor_implementation_strategic_framework_commission',\n  12.63902493413988),\n ('tourism_culture_sport', 12.63902493413988),\n ('member_household_receipt', 12.63902493413988),\n ('test_payment_person', 12.63902493413988),\n ('mainly_responsible_heating_household', 12.63902493413988),\n ('energy_huge_segment_economy', 12.63902493413988),\n ('mining_production_sale_transport_distribution_diplomacy',\n  12.63902493413988),\n ('physical_geopolitical_security', 12.63902493413988),\n ('coal_wood_nuclear_energy_wind_water', 12.63902493413988),\n ('financial_support_investment_judicial_building_renovation',\n  12.63902493413988),\n ('target_investment_construction_renovation_building', 12.63902493413988),\n ('judicial_maximize_judicial_efficiency', 12.63902493413988),\n ('unnecessary_effort_expense', 12.63902493413988),\n ('idle_time_allowance_wage_subsidy_support', 12.63902493413988),\n ('proportion_individual', 12.63902493413988),\n ('direct_entry_labour_market', 12.63902493413988),\n ('envisaged_objective', 12.63902493413988),\n ('mind_agreement', 12.63902493413988),\n ('united_nations_framework_convention_climate_change_agreement_national_energy_climate_plan',\n  12.63902493413988),\n ('framework_governance_energy_union_climate_action', 12.63902493413988),\n ('online_judicial_building_identity_platform', 12.63902493413988),\n ('necessary_outside_fund', 12.63902493413988),\n ('national_health_service_order', 12.63902493413988),\n ('quality_efficiency_provision_heath_care_service', 12.63902493413988),\n ('generous_rule', 12.63902493413988),\n ('june_awareness', 12.63902493413988),\n ('campaign_right_season', 12.63902493413988),\n ('fair_safe_working_condition_seasonal_worker', 12.63902493413988),\n ('sensitive_medical_educational_information_child', 12.63902493413988),\n ('court_case_manner', 12.63902493413988),\n ('current_legal_basis_mechanism_joint_procurement', 12.63902493413988),\n ('administrative_burden_green_measure', 12.63902493413988),\n ('engine_power_setting', 12.63902493413988),\n ('segment_propulsive_force_acceleration_change_variation_density',\n  12.63902493413988),\n ('employer_tool', 12.63902493413988),\n ('carry_work', 12.63902493413988),\n ('capacity_increase_connection', 12.63902493413988),\n ('high_medium_term_relative_counterfactual_scenario', 12.63902493413988),\n ('current_business_applicant', 12.63902493413988),\n ('similar_previous_unsuccessful_business_onus_customer', 12.63902493413988),\n ('prior_venture', 12.63902493413988),\n ('series_restriction', 12.63902493413988),\n ('fight_pandemic', 12.63902493413988),\n ('scope_instrument', 12.63902493413988),\n ('broad_range_policy_domain', 12.63902493413988),\n ('area_relate_cohesion', 12.63902493413988),\n ('employer_fix_term_contract', 12.63902493413988),\n ('rise_entitlement', 12.63902493413988),\n ('mark_phase', 12.63902493413988),\n ('perspective_person', 12.63902493413988),\n ('solo_self_employ_individual', 12.63902493413988),\n ('sure_country', 12.63902493413988),\n ('prerogative_member_state', 12.63902493413988),\n ('principle_human_command', 12.63902493413988),\n ('fuel_sector_second_generation_liquid_transport_green_hydrogen_target_total_green_hydrogen',\n  12.63902493413988),\n ('development_additional_capacity', 12.63902493413988),\n ('important_prudent', 12.63902493413988),\n ('myriad_view_opinion', 12.63902493413988),\n ('wide_range_stakeholder_group', 12.63902493413988),\n ('coordinate_macroeconomic_support_partner', 12.63902493413988),\n ('similar_total_financial_support_member_state', 12.63902493413988),\n ('application_module_sport_report', 12.63902493413988),\n ('ministry_tourism_sport_mint_number_application_module', 12.63902493413988),\n ('upgrade_sport_information_application_module_provision_direct_access_sport_club_basic_register',\n  12.63902493413988),\n ('strong_pressure_land_biodiversity_intensive_agriculture_relatively_high_population_density',\n  12.63902493413988),\n ('company_situation_crisis', 12.63902493413988),\n ('access_temporary_exemption_payment_social_security_contribution_employer',\n  12.63902493413988),\n ('worker_manufacturing', 12.63902493413988),\n ('amendment_business_service_portal_link_registry', 12.63902493413988),\n ('information_obligation_database_ministry', 12.63902493413988),\n ('energy_efficiency_renovation_private_service_building', 12.63902493413988),\n ('information_implication', 12.63902493413988),\n ('audio_visual_aim', 12.63902493413988),\n ('application_billion_rural_regeneration_development_fund',\n  12.63902493413988),\n ('mental_health_outcome', 12.63902493413988),\n ('build_implementation', 12.63902493413988),\n ('carbon_town_development', 12.63902493413988),\n ('appropriate_pricing_policy_recover_cost_services_river_basin_district',\n  12.63902493413988),\n ('notification_award_contracts', 12.63902493413988),\n ('land_rehabilitation_western_megalopoli', 12.63902493413988),\n ('revision_scheme', 12.63902493413988),\n ('technical_training', 12.63902493413988),\n ('introduction_effective_instrument_coordination', 12.63902493413988),\n ('document_expression', 12.63902493413988),\n ('generically_requirement', 12.63902493413988),\n ('establish_annexe', 12.63902493413988),\n ('exist_work', 12.63902493413988),\n ('chief_barrier', 12.63902493413988),\n ('resilience_kind_supply_chain_shock', 12.63902493413988),\n ('volatility_material_price_availability', 12.63902493413988),\n ('environmental_geopolitical_development', 12.63902493413988),\n ('impact_climate_change_trade_dispute', 12.63902493413988),\n ('possible_provider', 12.63902493413988),\n ('list_order', 12.63902493413988),\n ('relevant_global_fight', 12.63902493413988),\n ('seamless_pipe', 12.63902493413988),\n ('china_steel', 12.63902493413988),\n ('stainless_steel_tube_fitting', 12.63902493413988),\n ('china_corrosion_resistant_steel', 12.63902493413988),\n ('china_heavy_steel_plate', 12.63902493413988),\n ('date_feedback', 12.63902493413988),\n ('priority_commitment', 12.63902493413988),\n ('government_particular_action_climate_change', 12.63902493413988),\n ('strong_regional_balance_urgency', 12.63902493413988),\n ('sustainable_housing', 12.63902493413988),\n ('currently_unsolvable_problem', 12.63902493413988),\n ('design_material', 12.63902493413988),\n ('virtual_drug_trial_cancer_cell', 12.63902493413988),\n ('treatment_cryptographic_solution_complex_logistic_scheduling_problem',\n  12.63902493413988),\n ('analysis_calculation', 12.63902493413988),\n ('people_tenant', 12.63902493413988),\n ('habitual_residence_community', 12.63902493413988),\n ('extensive_testing', 12.63902493413988),\n ('long_term_care_hospital', 12.63902493413988),\n ('similar_facility', 12.63902493413988),\n ('coverage_different_group_section', 12.63902493413988),\n ('department_working_proposal', 12.63902493413988),\n ('small_music_venue', 12.63902493413988),\n ('subject_health_advice', 12.63902493413988),\n ('base_commission_spring_forecast_unemployment_rate', 12.63902493413988),\n ('significant_backlog_case', 12.63902493413988),\n ('lengthy_proceeding', 12.63902493413988),\n ('computationally_aware_industrial_sector', 12.63902493413988),\n ('engineering_manufacturing', 12.63902493413988),\n ('increase_influence_executive_legislative_power', 12.63902493413988),\n ('justice_detriment_judicial_independence_commission_launch_procedure',\n  12.63902493413988),\n ('year_delay_deadline', 12.63902493413988),\n ('great_flexibility_phase_impact_capital', 12.63902493413988),\n ('grave_consequence', 12.63902493413988),\n ('import_trade_defence_instrument', 12.63902493413988),\n ('pharmacological_treatment', 12.63902493413988),\n ('mask_distance_meter_queue', 12.63902493413988),\n ('reduction_administrative_regulatory_burden', 12.63902493413988),\n ('author_investment', 12.63902493413988),\n ('champion_long_term', 12.63902493413988),\n ('strand_instance_employer', 12.63902493413988),\n ('distinctly_different_element', 12.63902493413988),\n ('administrative_territorial_reform_social_inclusion', 12.63902493413988),\n ('gender_equality_strategy_advance_close_gender', 12.63902493413988),\n ('people_home_garden', 12.63902493413988),\n ('extended_household_support_bubble', 12.63902493413988),\n ('risk_social_isolation_mental_health_note', 12.63902493413988),\n ('essential_retail_essential_service', 12.63902493413988),\n ('capacity_purpose', 12.63902493413988),\n ('work_school_transport_unaffected_line', 12.63902493413988),\n ('current_advice_respect_level_professional_elite_sport_inter_county_game',\n  12.63902493413988),\n ('cafe_restaurant_pub', 12.63902493413988),\n ('unsuccessful_candidate', 12.63902493413988),\n ('footnote_footnote_footnote_footnote', 12.63902493413988),\n ('quota_number_worker', 12.63902493413988),\n ('member_state_area_wage', 12.63902493413988),\n ('specifically_minimum_wage_section', 12.63902493413988),\n ('project_owner', 12.63902493413988),\n ('ambitious_research_development_industrial_deployment', 12.63902493413988),\n ('information_occupational_statutory_minimum_wage', 12.63902493413988),\n ('information_median_average_wage', 12.63902493413988),\n ('feasible_farmer', 12.63902493413988),\n ('mart_premise_mart_staff', 12.63902493413988),\n ('load_livestock', 12.63902493413988),\n ('individual_appointment_time', 12.63902493413988),\n ('allocate_individual_buyer', 12.63902493413988),\n ('evaluation_equality_inclusion_strategy', 12.63902493413988),\n ('update_propose_standard_green_bond_framework', 12.63902493413988),\n ('important_structural_weakness', 12.63902493413988),\n ('labour_market_notably_high_rate', 12.63902493413988),\n ('rise_carbon_intensive_import', 12.63902493413988),\n ('particular_commodity_steel_grade', 12.63902493413988),\n ('expensive_production', 12.63902493413988),\n ('high_cost_environmental_commitment', 12.63902493413988),\n ('direct_relocation_industry_regulated_jurisdiction', 12.63902493413988),\n ('amendment_prescription_deadline', 12.63902493413988),\n ('high_number_ongoing_case', 12.63902493413988),\n ('single_lump_site_worker', 12.63902493413988),\n ('buying_process', 12.63902493413988),\n ('democracy_function', 12.63902493413988),\n ('judge_base_criminal_charge', 12.63902493413988),\n ('district_state_prosecutor_office', 12.63902493413988),\n ('feed_atypical', 12.63902493413988),\n ('cattle_population', 12.63902493413988),\n ('old_cattle', 12.63902493413988),\n ('council_administrative_reform_consultative_body_council_minister',\n  12.63902493413988),\n ('template_guidance_impact_assessment', 12.63902493413988),\n ('particular_operational_concern', 12.63902493413988),\n ('confidential_request_extract', 12.63902493413988),\n ('limited_number_substance', 12.63902493413988),\n ('internal_room', 12.63902493413988),\n ('restructure_district_heating_investment', 12.63902493413988),\n ('duct_tape', 12.63902493413988),\n ('wide_tape_seal_crack', 12.63902493413988),\n ('door_vent', 12.63902493413988),\n ('room_seal_window', 12.63902493413988),\n ('creation_dedicated_forum_stakeholder_cooperation_tourism_sustainability_platform',\n  12.63902493413988),\n ('applicable_number', 12.63902493413988),\n ('body_information', 12.63902493413988),\n ('relevant_certificate_certificate', 12.63902493413988),\n ('treatment_veterinarian_animal_equine_specie', 12.63902493413988),\n ('covid_pandemic_ordering', 12.63902493413988),\n ('normal_response_time_transition_change', 12.63902493413988),\n ('food_irradiation_concern_food_industry', 12.63902493413988),\n ('ecosystem_order', 12.63902493413988),\n ('mutually_beneficial_partnership', 12.63902493413988),\n ('social_partner_essential_service', 12.63902493413988),\n ('article_extension_reference_period', 12.63902493413988),\n ('limiting_spread_virus', 12.63902493413988),\n ('impact_loneliness_seclusion_student', 12.63902493413988),\n ('local_covid_restriction', 12.63902493413988),\n ('radiation_exposure', 12.63902493413988),\n ('passage_radioactive_plume', 12.63902493413988),\n ('break_cycle_disadvantage', 12.63902493413988),\n ('unveiling', 12.63902493413988),\n ('funding_package_minister', 12.63902493413988),\n ('disadvantaged_society', 12.63902493413988),\n ('international_govern_body_question', 12.63902493413988),\n ('detailed_information_datum_situation_young_people', 12.63902493413988),\n ('migrant_background_labour_market_different_member_state',\n  12.63902493413988),\n ('exist_legislation_implementation', 12.63902493413988),\n ('role_view_independence_coordination_function', 12.63902493413988),\n ('support_area_access_datum', 12.63902493413988),\n ('guidance_inter_category_datum', 12.63902493413988),\n ('appropriate_security_measure', 12.63902493413988),\n ('reattribution_datum', 12.63902493413988),\n ('procurement_plan', 12.63902493413988),\n ('conduct_procedure_data_payment', 12.63902493413988),\n ('online_appeal_appeal_mandatory_possibility', 12.63902493413988),\n ('online_payment_fee', 12.63902493413988),\n ('blow_covid_crisis_tune', 12.63902493413988),\n ('eligible_disaster_emergency_single_financial_contribution',\n  12.63902493413988),\n ('plan_management_public_resource', 12.63902493413988),\n ('structural_feature_annual_budgetary_process', 12.63902493413988),\n ('structured_consultation', 12.63902493413988),\n ('employment_rate_group', 12.63902493413988),\n ('allocation_time', 12.63902493413988),\n ('draft_code_ethic_prosecutor', 12.63902493413988),\n ('growth_activity', 12.63902493413988),\n ('project_high_obligation', 12.63902493413988),\n ('extra_traffic', 12.63902493413988),\n ('addition_purchasing', 12.63902493413988),\n ('recent_independent_evaluation', 12.63902493413988),\n ('factor_level', 12.63902493413988),\n ('moderate_innovation_capacity', 12.63902493413988),\n ('flexibility_define_cohort', 12.63902493413988),\n ('financial_framework_ambitious_goal_climate', 12.63902493413988),\n ('overall_target_expenditure', 12.63902493413988),\n ('social_dialogue_general', 12.63902493413988),\n ('facial_recognition_technology', 12.63902493413988),\n ('facial_recognition_datum_user', 12.63902493413988),\n ('instance_public_private_partnership', 12.63902493413988),\n ('annual_plan_work', 12.63902493413988),\n ('integrate_structure_federal_public_service_policy_support',\n  12.63902493413988),\n ('rule_integrity', 12.63902493413988),\n ('demonstration_level', 12.63902493413988),\n ('emergence_commercial_scale_market', 12.63902493413988),\n ('specific_incentive_place', 12.63902493413988),\n ('delivery_outdoor_service_patron', 12.63902493413988),\n ('long_restoration_deal', 12.63902493413988),\n ('introduce_model_administration_staff_structure_municipality',\n  12.63902493413988),\n ('green_receive_reduce_direct_payment', 12.63902493413988),\n ('extent_governance', 12.63902493413988),\n ('scientific_technological_performance_country', 12.63902493413988),\n ('measure_cite_publication', 12.63902493413988),\n ('business_cooperation', 12.63902493413988),\n ('measure_public_private_scientific_publication', 12.63902493413988),\n ('manage_local_community_development_committee', 12.63902493413988),\n ('court_human_right_application', 12.63902493413988),\n ('follow_hand_hygiene_cough_sneeze_etiquette', 12.63902493413988),\n ('assertive_civil_society', 12.63902493413988),\n ('successful_model', 12.63902493413988),\n ('economic_aid_people', 12.63902493413988),\n ('develop_testing', 12.63902493413988),\n ('broadband_demand_measure', 12.63902493413988),\n ('installation_optic_accompany_equipment_building', 12.63902493413988),\n ('submarine_cable_case_island', 12.63902493413988),\n ('great_coverage_ultra_high_speed_network_connection', 12.63902493413988),\n ('protect_debtor', 12.63902493413988),\n ('chapter_member', 12.63902493413988),\n ('partner_contribution_article_member', 12.63902493413988),\n ('case_earning_employee', 12.63902493413988),\n ('statutory_minimum_wage_difference', 12.63902493413988),\n ('permanent_outdoor_public_dining_space_town', 12.63902493413988),\n ('impact_poverty_reduction', 12.63902493413988),\n ('digital_tourism_measure', 12.63902493413988),\n ('entire_tourism_ecosystem_order', 12.63902493413988),\n ('integrate_promote_offer', 12.63902493413988),\n ('access_internet_home', 12.63902493413988),\n ('conducive_environment', 12.63902493413988),\n ('position_purchase_device', 12.63902493413988),\n ('transparency_openness_partnership', 12.63902493413988),\n ('identification_priority_objective_term', 12.63902493413988),\n ('different_sector_background_discipline', 12.63902493413988),\n ('assess_basis_common_objective_criterion', 12.63902493413988),\n ('security_reliability_network', 12.63902493413988),\n ('respect_asbestos', 12.63902493413988),\n ('proposal_recognition_compensation_aspect', 12.63902493413988),\n ('additional_information_nursing_home_sector', 12.63902493413988),\n ('approximately_long_term_care_resident', 12.63902493413988),\n ('state_nursing_home_support_scheme', 12.63902493413988),\n ('method_technology_tool', 12.63902493413988),\n ('sustainable_forest_biomass', 12.63902493413988),\n ('agriculture_high_economic_social_territorial_importance_regional_cohesion',\n  12.63902493413988),\n ('fragmentation_regional_territory', 12.63902493413988),\n ('structural_change_administration_health_care', 12.63902493413988),\n ('primary_care_introduction_electronic_mother_child_passport',\n  12.63902493413988),\n ('expertise_staff', 12.63902493413988),\n ('radiolocation', 12.63902493413988),\n ('strong_venture_capital_market', 12.63902493413988),\n ('hand_comparison_total_investment_figure', 12.63902493413988),\n ('somewhat_different_coverage_datum', 12.63902493413988),\n ('grow_prevalence_virus', 12.63902493413988),\n ('respective_public_health_team', 12.63902493413988),\n ('exist_memorandum', 12.63902493413988),\n ('fragmented_parliament', 12.63902493413988),\n ('formation_government', 12.63902493413988),\n ('achieve_carbon_neutrality_aviation', 12.63902493413988),\n ('union_transport_agreement', 12.63902493413988),\n ('exist_territorial_disparity', 12.63902493413988),\n ('transversal_approach', 12.63902493413988),\n ('date_vaccine', 12.63902493413988),\n ('approve_medicine_agency', 12.63902493413988),\n ('similar_bonus_additional_leave_day', 12.63902493413988),\n ('appoint_supervisor', 12.63902493413988),\n ('post_pandemic_recovery_highlight', 12.63902493413988),\n ('inv_technology', 12.63902493413988),\n ('cloud_green_tech', 12.63902493413988),\n ('average_life_cycle_emission', 12.63902493413988),\n ('conversely_work_establishment', 12.63902493413988),\n ('introduction_datum_drive_business_model', 12.63902493413988),\n ('competitiveness_energy_intensive_industry', 12.63902493413988),\n ('process_instrument_circularity', 12.63902493413988),\n ('national_transport_authority_graham', 12.63902493413988),\n ('clear_consistent_message', 12.63902493413988),\n ('article_regulation_resource_guarantee_fund', 12.63902493413988),\n ('different_shade_grey', 12.63902493413988),\n ('place_community_palliative_care_team', 12.63902493413988),\n ('response_emerge_opportunity_crisis', 12.63902493413988),\n ('development_union_policy', 12.63902493413988),\n ('respect_important_strengthen_union_right_worker', 12.63902493413988),\n ('social_care_sector', 12.63902493413988),\n ('relevant_information_analysis', 12.63902493413988),\n ('change_mitigation_pollution_biodiversity', 12.63902493413988),\n ('runner_circular_economy_green_transition_fight', 12.63902493413988),\n ('disability_specific_support', 12.63902493413988),\n ('agricultural_land_restructuring_consolidation', 12.63902493413988),\n ('objective_reform_facilitate_consolidation_procedure', 12.63902493413988),\n ('property_legal_relation', 12.63902493413988),\n ('sustainable_automotive_objective', 12.63902493413988),\n ('measure_foster_research_development_innovation', 12.63902493413988),\n ('sustainable_automotive_sector', 12.63902493413988),\n ('server_service', 12.63902493413988),\n ('government_datum_number', 12.63902493413988),\n ('department_agriculture_office_revenue_commissioner', 12.63902493413988),\n ('payment_annual_income', 12.63902493413988),\n ('environmental_investment', 12.63902493413988),\n ('waste_collection_recycling_transition_climate', 12.63902493413988),\n ('neutral_circular_economy_resource_water_investment_agriculture_food_processing_food_self_sufficiency',\n  12.63902493413988),\n ('regulation_health_technology_assessment', 12.63902493413988),\n ('major_step_forward_field_healthcare', 12.63902493413988),\n ('safeguard_health_citizen', 12.63902493413988),\n ('exceptional_regime', 12.63902493413988),\n ('federal_administration_financing_project', 12.63902493413988),\n ('cross_departmental_impact', 12.63902493413988),\n ('concerned_action', 12.63902493413988),\n ('journalist_destruction_equipment_broadcaster', 12.63902493413988),\n ('priority_area_possible_partnership_base_article_article',\n  12.63902493413988),\n ('public_procurement_auditor', 12.63902493413988),\n ('financial_sector_capital_market_measure', 12.63902493413988),\n ('necessary_digital_infrastructure_need_support', 12.63902493413988),\n ('energy_saving_wide_benefit', 12.63902493413988),\n ('enhancement_capacity_office_objective_reform', 12.63902493413988),\n ('productivity_quality_work_working_condition_employee', 12.63902493413988),\n ('systematic_promotion_high_education_institution_research_analysis_measure',\n  12.63902493413988),\n ('alternative_fuel_power_vehicle_development_alternative_fuel_infrastructure_charge_station',\n  12.63902493413988),\n ('social_partner_central_government_sector', 12.63902493413988),\n ('wireless_connectivity', 12.63902493413988),\n ('billion_sure_bond', 12.63902493413988),\n ('stress_test_validate_preliminary_finding_external_evaluator_report',\n  12.63902493413988),\n ('reciprocal_systematic_exchange_information', 12.63902493413988),\n ('transition_affect_company', 12.63902493413988),\n ('implementation_green_reform', 12.63902493413988),\n ('explicitly_state_reference_term_prospectus', 12.63902493413988),\n ('different_form_prospectus', 12.63902493413988),\n ('complete_range_tool', 12.63902493413988),\n ('proper_function_area_area_freedom_security_justice', 12.63902493413988),\n ('separate_substance_report', 12.63902493413988),\n ('entire_innovation_value_chain', 12.63902493413988),\n ('student_entrepreneur', 12.63902493413988),\n ('idea_product', 12.63902493413988),\n ('temporary_support_food_processing_company', 12.63902493413988),\n ('discrimination_wage_collective_bargaining', 12.63902493413988),\n ('significant_directive', 12.63902493413988),\n ('sectoral_national', 12.63902493413988),\n ('supply_domestic_distribution_accordance', 12.63902493413988),\n ('directive_value', 12.63902493413988),\n ('society_resilient_prepare_future', 12.63902493413988),\n ('home_public_broad_public_sector', 12.63902493413988),\n ('available_datum_implementation_measure_time_support_study',\n  12.63902493413988),\n ('job_people', 12.63902493413988),\n ('covid_electronic_postal_facility_place', 12.63902493413988),\n ('certain_essential_purpose', 12.63902493413988),\n ('vulnerable_acquisition_extra_actor', 12.63902493413988),\n ('risk_cultural_diversity', 12.63902493413988),\n ('undertake_loan', 12.63902493413988),\n ('form_credit_enhancement_instrument_capital_market_instrument',\n  12.63902493413988),\n ('chair_opening_remark', 12.63902493413988),\n ('recent_week_number_direct_provision_useful_insight', 12.63902493413988),\n ('indicator_global_disinformation_index_journalism_trust_initiative_trust_project',\n  12.63902493413988),\n ('remain_accessibility_connectivity_gap', 12.63902493413988),\n ('importer_custom_agent', 12.63902493413988),\n ('independent_chair_success', 12.63902493413988),\n ('fast_track_mode_help', 12.63902493413988),\n ('financial_institution_participation_threat_intelligence_share_scheme',\n  12.63902493413988),\n ('entity_asset_revenue', 12.63902493413988),\n ('membership_fee', 12.63902493413988),\n ('green_economy_policy_area_plan', 12.63902493413988),\n ('digital_equity_sensory_equipment', 12.63902493413988),\n ('track_climate', 12.63902493413988),\n ('orient_access_funding_coverage_risk', 12.63902493413988),\n ('size_type_profile_business_model_impact_relate_factor_criticality_service',\n  12.63902493413988),\n ('financial_stability_concern_systemic_importance', 12.63902493413988),\n ('directive_parliament_council_prudential_supervision_investment_firm',\n  12.63902493413988),\n ('overall_high_number_milestone_target', 12.63902493413988),\n ('light_size_complexity_plan', 12.63902493413988),\n ('facility_horizon', 12.63902493413988),\n ('right_social_welfare_record', 12.63902493413988),\n ('freedom_information_act', 12.63902493413988),\n ('right_access_record', 12.63902493413988),\n ('hold_department', 12.63902493413988),\n ('official_information', 12.63902493413988),\n ('incomplete_incorrect_misleading_obtain_reason', 12.63902493413988),\n ('certain_record', 12.63902493413988),\n ('farmer_train_farmer', 12.63902493413988),\n ('manage_response_covid', 12.63902493413988),\n ('enormous_change', 12.63902493413988),\n ('joint_memorandum_commitment', 12.63902493413988),\n ('intention_contribute', 12.63902493413988),\n ('overall_clean_aviation_activity', 12.63902493413988),\n ('reasonable_proportionate_funding_commission', 12.63902493413988),\n ('expiration_month_period_subsidize_employment_employer', 12.63902493413988),\n ('far_employ_support_worker', 12.63902493413988),\n ('equal_period_subsidize_employment', 12.63902493413988),\n ('increase_preparedness_enhance_governance_foster_trust_area',\n  12.63902493413988),\n ('significant_body_measure', 12.63902493413988),\n ('adaption_infection_control_measure', 12.63902493413988),\n ('additional_funding_national_research_agency', 12.63902493413988),\n ('increase_success_rate', 12.63902493413988),\n ('digital_transformation_project', 12.63902493413988),\n ('reaffirm_need', 12.63902493413988),\n ('asap_acceleration_simplification_action_differentiation_deconcentration',\n  12.63902493413988),\n ('close_completion_order', 12.63902493413988),\n ('public_health_advice_direction', 12.63902493413988),\n ('logistical_difficulty', 12.63902493413988),\n ('parental_leave_amendment', 12.63902493413988),\n ('unpaid_parental_leave', 12.63902493413988),\n ('unit_pollution', 12.63902493413988),\n ('appropriate_immediate_measure', 12.63902493413988),\n ('aircraft_product_operation_aircraft', 12.63902493413988),\n ('pursuant_convention_legislation', 12.63902493413988),\n ('aircraft_operation_aircraft', 12.63902493413988),\n ('truly_world_class_innovation', 12.63902493413988),\n ('finance_financial_contribution', 12.63902493413988),\n ('human_trafficking_ongoing_challenge_number_action', 12.63902493413988),\n ('significant_investment_window', 12.63902493413988),\n ('municipal_employer_contribution_mandatory_contribution', 12.63902493413988),\n ('head_policy_combat_poverty_agency', 12.63902493413988),\n ('inconsistent_procedure', 12.63902493413988),\n ('procurement_costly_medicine_health', 12.63902493413988),\n ('financially_sustainable_public_health', 12.63902493413988),\n ('uniform_standard_preparation_contracting', 12.63902493413988),\n ('way_possibility', 12.63902493413988),\n ('exploitation_direct_beneficiary', 12.63902493413988),\n ('transfer_licensing_result', 12.63902493413988),\n ('digital_distance_selling_tool', 12.63902493413988),\n ('policy_area_coordination_implementation_annual_codification_plan',\n  12.63902493413988),\n ('groundwork_legal_codification', 12.63902493413988),\n ('identification_mission', 12.63902493413988),\n ('initiative_investment_support_measure', 12.63902493413988),\n ('worker_company_crisis', 12.63902493413988),\n ('final_proposal_council_recommendation_common_framework_validation_mutual_recognition',\n  12.63902493413988),\n ('later_implementation', 12.63902493413988),\n ('certainty_industry', 12.63902493413988),\n ('exist_skin_notation_benzene', 12.63902493413988),\n ('blood_clot', 12.63902493413988),\n ('platelet_count_report', 12.63902493413988),\n ('suspect_adverse_reaction_health_product_regulatory_authority',\n  12.63902493413988),\n ('conversion_irrigation', 12.63902493413988),\n ('billion_adjustment_reserve', 12.63902493413988),\n ('respite_care', 12.63902493413988),\n ('ecosystem_varied_group', 12.63902493413988),\n ('prior_global_financial_crisis', 12.63902493413988),\n ('resilience_public_finance', 12.63902493413988),\n ('international_reform', 12.63902493413988),\n ('visible_number', 12.63902493413988),\n ('maximum_member_state', 12.63902493413988),\n ('base_define_allocation_annex', 12.63902493413988),\n ('milestone_activation_central_audit_unit_security_measure',\n  12.63902493413988),\n ('demonstrating_launch_central_audit_unit_internal_unit', 12.63902493413988),\n ('mandate_perform_activity_central_audit_unit', 12.63902493413988),\n ('step_assessment', 12.63902493413988),\n ('overall_economic_technological_scientific_social_context',\n  12.63902493413988),\n ('regulate_collective_investment_debt_equity', 12.63902493413988),\n ('financial_rule_applicable_general_budget_union', 12.63902493413988),\n ('commission_monitor', 12.63902493413988),\n ('report_implementation_action', 12.63902493413988),\n ('flexible_regulatory_framework', 12.63902493413988),\n ('respond_recommendation_term_evaluation', 12.63902493413988),\n ('excellence_form_network', 12.63902493413988),\n ('downstream_stakeholder', 12.63902493413988),\n ('effort_stop', 12.63902493413988),\n ('congregation_social_interaction', 12.63902493413988),\n ('day_event', 12.63902493413988),\n ('economic_operator_fuel_supplier_airline', 12.63902493413988),\n ('encourage_client_company', 12.63902493413988),\n ('real_immediate_need', 12.63902493413988),\n ('second_national_social_enterprise_conference', 12.63902493413988),\n ('construction_transportation_crucial', 12.63902493413988),\n ('circularity_energy_efficiency_meet_target_carbon_neutrality',\n  12.63902493413988),\n ('critical_important_operation_function', 12.63902493413988),\n ('business_arrangement', 12.63902493413988),\n ('prudential_regulatory_obligation_monitor', 12.63902493413988),\n ('clear_obligation_operator', 12.63902493413988),\n ('competent_authority_subject_condition', 12.63902493413988),\n ('envisage_remote_sensing_application_datum_field_sensor', 12.63902493413988),\n ('teleworker_activity', 12.63902493413988),\n ('registration_oversight_profession_order', 12.63902493413988),\n ('knowledge_learn_standard', 12.63902493413988),\n ('high_value_good_quality_lead_sustainable_result', 12.63902493413988),\n ('specifically_train_mediator_complementary_strategy', 12.63902493413988),\n ('convention_narcotic_drugs_commission_narcotic_drug', 12.63902493413988),\n ('parliamentary_term_national_assembly_law', 12.63902493413988),\n ('low_pay_group', 12.63902493413988),\n ('specific_workplace_situation', 12.63902493413988),\n ('education_place', 12.63902493413988),\n ('light_shine_visitor', 12.63902493413988),\n ('large_need_offer_guarantee', 12.63902493413988),\n ...]"
     },
     "execution_count": 102,
     "metadata": {},
     "output_type": "execute_result"
    }
   ],
   "source": [
    "sorted(weighted_words, key=lambda x: x[1], reverse=True)"
   ],
   "metadata": {
    "collapsed": false,
    "pycharm": {
     "name": "#%%\n"
    }
   }
  },
  {
   "cell_type": "code",
   "execution_count": 89,
   "outputs": [
    {
     "data": {
      "text/plain": "5.035875002057318"
     },
     "execution_count": 89,
     "metadata": {},
     "output_type": "execute_result"
    }
   ],
   "source": [
    "tfidf_vec.idf_[]"
   ],
   "metadata": {
    "collapsed": false,
    "pycharm": {
     "name": "#%%\n"
    }
   }
  },
  {
   "cell_type": "code",
   "execution_count": 81,
   "outputs": [],
   "source": [
    "response = tfidf_vec.transform(['love'])\n",
    "feature_array = np.array(tfidf_vec.get_feature_names())\n",
    "tfidf_sorting = np.argsort(response.toarray()).flatten()[::-1]"
   ],
   "metadata": {
    "collapsed": false,
    "pycharm": {
     "name": "#%%\n"
    }
   }
  },
  {
   "cell_type": "code",
   "execution_count": 82,
   "outputs": [
    {
     "data": {
      "text/plain": "array(['love', 'zoonotic_infection_important_ensure_interoperability',\n       'extent_area_reduction_emission', 'extent_absence_regulation',\n       'extent_activity', 'extent_address_council_conclusion',\n       'extent_adverse_impact_harm',\n       'extent_alignment_national_interoperability_framework',\n       'extent_application', 'extent_area', 'extent_asset',\n       'extensively_supreme_court_court', 'extent_audit_right',\n       'extent_benefit', 'extent_calculation_grid', 'extent_challenge',\n       'extent_coke', 'extent_compensation',\n       'extent_component_culture_component', 'extent_consequence',\n       'extent', 'extensively_small_medium_sized_enterprise',\n       'extent_consequence_loss', 'extensive_work_collaboration',\n       'extensive_testing_final_blend',\n       'extensive_train_trainer_program_school',\n       'extensive_training_measure', 'extensive_transformation',\n       'extensive_treaty_network', 'extensive_warehousing_arrangement',\n       'extensive_widespread_reach', 'extensive_work',\n       'extensive_work_commission', 'extensively_plan',\n       'extensive_work_date', 'extensive_work_expert_fora_commission',\n       'extensive_work_port_airport', 'extensively',\n       'extensively_exist_legislation', 'extensively_manage_farmland',\n       'extensively_monitor_tool', 'extensively_open_state',\n       'extent_consequence_fact', 'extent_consultation_engagement',\n       'extensive_industry_chemical_agent_specific_information_guidance',\n       'extent_important_prepare', 'extent_gender',\n       'extent_general_pharmaceutical_legislation', 'extent_goodwill',\n       'extent_governance', 'extent_government_response',\n       'extent_green_plan_activity',\n       'extent_health_crisis_policy_response',\n       'extent_impact_pandemic_global_national_economy',\n       'extent_increase_cost', 'extent_focus',\n       'extent_increase_demand_healthcare_long_term_care_help',\n       'extent_information', 'extent_intend_objective',\n       'extent_intervention_level', 'extent_irradiation',\n       'extent_know_issuer', 'extent_knowledge',\n       'extent_land_management_contract', 'extent_form_corruption',\n       'extent_flexible_able_adapt_change_implementation_context',\n       'extent_consumer', 'extent_dock_differential',\n       'extent_cooperation', 'extent_cost', 'extent_covid_epidemic',\n       'extent_crisis_scope_financial_economic_effect', 'extent_datum',\n       'extent_decline_turnover', 'extent_definition',\n       'extent_divergence', 'extent_effort', 'extent_flexibility',\n       'extent_employment_relationship',\n       'extent_endangerment_concerned_employee_ability',\n       'extent_exposure_product_environment',\n       'extent_external_staff_public_administration',\n       'extent_facilitate_generation_transport_service',\n       'extent_familiarity', 'extent_financial_product', 'extent_firm',\n       'extensive_testing_especially_high_financial_cost',\n       'extensive_testing', 'extensive_technique', 'extensive_network',\n       'extensive_mandate_custom_authority', 'extensive_margin',\n       'extensive_mean', 'extensive_measure',\n       'extensive_mobile_broadband_service',\n       'extensive_monitor_technological_trend_area',\n       'extensive_monitoring', 'extensive_movement_restriction',\n       'extensive_network_local_development_company',\n       'extensive_livestock_grazing'], dtype='<U967')"
     },
     "execution_count": 82,
     "metadata": {},
     "output_type": "execute_result"
    }
   ],
   "source": [
    "n = 100\n",
    "top_n = feature_array[tfidf_sorting][:n]\n",
    "top_n"
   ],
   "metadata": {
    "collapsed": false,
    "pycharm": {
     "name": "#%%\n"
    }
   }
  },
  {
   "cell_type": "code",
   "execution_count": 69,
   "outputs": [
    {
     "data": {
      "text/plain": "array([319973, 317020, 342713, ..., 237948, 237949,      0])"
     },
     "execution_count": 69,
     "metadata": {},
     "output_type": "execute_result"
    }
   ],
   "source": [
    "tfidf_sorting"
   ],
   "metadata": {
    "collapsed": false,
    "pycharm": {
     "name": "#%%\n"
    }
   }
  },
  {
   "cell_type": "code",
   "execution_count": 52,
   "outputs": [],
   "source": [
    "tmp_words = list(tfidf_vec.vocabulary_.items())"
   ],
   "metadata": {
    "collapsed": false,
    "pycharm": {
     "name": "#%%\n"
    }
   }
  },
  {
   "cell_type": "code",
   "execution_count": 53,
   "outputs": [
    {
     "data": {
      "text/plain": "[('order', 223356),\n ('preserve', 245781),\n ('subsidiary_nature_emergency_support', 319973),\n ('regulation', 270988),\n ('support', 322684),\n ('strictly_complementary_assistance', 317020),\n ('available', 26236),\n ('union_instrument', 342713),\n ('furthermore_article_accessibility_user', 134300),\n ('include', 159803),\n ('provision', 255139),\n ('design_construction_infrastructure', 83199),\n ('comply', 57012),\n ('relevant_requirement_union', 275642),\n ('allow', 14341),\n ('seamless', 292226),\n ('mobility', 205372),\n ('accessibility', 2052),\n ('user', 346015),\n ('month_launch_measure', 206728),\n ('social_partner', 306011),\n ('work', 353531),\n ('close_coordination', 47952),\n ('ministry_design', 204359),\n ('temporary', 330393),\n ('scheme', 290450),\n ('employment', 104814),\n ('apprentice', 19204),\n ('engage', 106738),\n ('training', 336640),\n ('lose', 190393),\n ('employment_result', 105130),\n ('covid', 69378),\n ('entitle', 107962),\n ('covid_pandemic_unemployment_payment', 70793),\n ('provide', 254951),\n ('meet', 198757),\n ('criterion_payment', 73032),\n ('change', 42817),\n ('reflect', 267801),\n ('increase_competence_board', 160723),\n ('appointment_member', 19096),\n ('particular_expertise', 229819),\n ('medium', 198318),\n ('description', 83012),\n ('reform', 267877),\n ('investment', 173917),\n ('repayable_financial_support_reform_investment_propose_measure', 278035),\n ('aim', 13480),\n ('place', 236977),\n ('national_reference_framework_support_scheme', 210476),\n ('encourage', 105529),\n ('municipality', 207959),\n ('increasingly', 161822),\n ('natural_environment_biodiversity_protection_action', 211450),\n ('government', 139580),\n ('intervene', 173041),\n ('field', 122615),\n ('loan', 188112),\n ('payment', 232672),\n ('prevent', 246301),\n ('mitigate_indebtedness', 205144),\n ('micro_small_medium_sized_enterprise', 200970),\n ('head', 145725),\n ('delegation', 80982),\n ('shall', 297498),\n ('exchange', 114455),\n ('draft_measure', 95254),\n ('opinion_joint_committee', 222554),\n ('request', 279146),\n ('measure', 196986),\n ('confirm', 59688),\n ('exchange_correspondence', 114462),\n ('management_method', 193610),\n ('result', 283833),\n ('finance', 123719),\n ('borrow_commission_behalf_union_basis_article_council_decision', 34540),\n ('finally', 123592),\n ('lack', 179676),\n ('access_affordable_adequate_housing', 950),\n ('safe', 288906),\n ('drinking', 95458),\n ('water', 350767),\n ('pose', 240266),\n ('increase_risk_severe_housing_deprivation', 161557),\n ('affect', 11931),\n ('overall_child', 225129),\n ('viii', 348386),\n ('amend', 15025),\n ('high_education', 148559),\n ('certain_related_law', 41863),\n ('fund', 133216),\n ('enable', 105366),\n ('union', 342104),\n ('help', 147764),\n ('emergency_service', 103851),\n ('people_immediate_need', 233611),\n ('contribute', 64464),\n ('short_term_restoration', 298711),\n ('damage_infrastructure', 76657),\n ('economic_activity', 97300),\n ('resume', 284202),\n ('disaster_stricken_region', 92295),\n ('explain', 117786),\n ('rule_report', 288569),\n ('follow', 127300),\n ('amendment', 15151),\n ('adopt', 10346),\n ('member_constitutional_court', 199002),\n ('having', 145621),\n ('obtain', 218443),\n ('status_judge', 314463),\n ('appoint', 18976),\n ('termination', 331320),\n ('service_constitutional_court', 296551),\n ('fuel_supplier', 132607),\n ('require', 279367),\n ('supply_obligation', 322608),\n ('expect', 116933),\n ('seek', 294816),\n ('spread', 311763),\n ('supply_maximum_number_airline_airport', 322589),\n ('act', 3946),\n ('cost', 67152),\n ('effective', 99774),\n ('general_public_mobile_version_available_general_public_deployment_mobile_version',\n  136506),\n ('criterion', 72896),\n ('application', 18342),\n ('transparent', 338225),\n ('coherent', 48996),\n ('thirty_day', 332479),\n ('appointment', 19028),\n ('arbitrator', 21049),\n ('mutual_consent_arbitrator_chair_arbitration_board', 208125),\n ('information_date_particular_measure', 165316),\n ('consistency', 61000),\n ('exist_provision_area_proposal_provision_agreement', 116247),\n ('prevail', 246257),\n ('relevant_provision', 275522),\n ('exist_bilateral_service_agreement', 115232),\n ('member_state', 199155),\n ('disbursement', 92307),\n ('plan', 237352),\n ('contain', 62584),\n ('preserve_employment', 245790),\n ('overcome_segmentation', 226165),\n ('fight', 122848),\n ('child_poverty_social_protection_service', 43995),\n ('case', 39530),\n ('county', 68732),\n ('health_protection_surveillance', 146598),\n ('today', 333955),\n ('inform', 164902),\n ('total_people', 335133),\n ('die', 86325),\n ('laboratory_confirm_validation_datum', 178898),\n ('death', 78456),\n ('warmly', 350574),\n ('welcome', 351756),\n ('publication_health_protection_surveillance_guidance_return_sport_activity_child_adolescent',\n  259115),\n ('state_article', 313354),\n ('action', 4013),\n ('concern', 58507),\n ('child', 43817),\n ('undertake', 341121),\n ('public_private_social_welfare_institution', 258045),\n ('court', 68912),\n ('administrative_authority_legislative_body', 9722),\n ('good_child', 138680),\n ('primary', 247379),\n ('consideration', 60840),\n ('report_conclusion', 278372),\n ('point', 238335),\n ('miss_data_datum', 204947),\n ('need', 213117),\n ('adequately', 9337),\n ('cover', 69102),\n ('hinder', 151181),\n ('monitoring', 206515),\n ('policy_track', 239267),\n ('employee', 104312),\n ('ask', 23179),\n ('stagger', 312421),\n ('learning', 182614),\n ('overload', 226248),\n ('competent_authority', 55031),\n ('assist', 23930),\n ('handle', 145214),\n ('datum_subject_request', 78252),\n ('relate', 272555),\n ('joint_controllership', 176765),\n ('reply', 278280),\n ('undue_delay', 341318),\n ('late', 181547),\n ('day', 78311),\n ('receive', 264642),\n ('request_assistance', 279170),\n ('restoration', 283538),\n ('body', 33829),\n ('good_status', 139300),\n ('water_framework_directive', 350841),\n ('remain', 276308),\n ('issue', 176212),\n ('aware', 28014),\n ('right', 285606),\n ('difficult', 87658),\n ('datum', 77575),\n ('use', 345761),\n ('share', 297680),\n ('feel', 122388),\n ('partial_control', 228656),\n ('continue', 63491),\n ('necessary_step_investment_education_adequate_health_social_protection_order_address',\n  212963),\n ('effectively', 100726),\n ('family', 120982),\n ('particular', 229252),\n ('expose_social_exclusion', 118185),\n ('financial_allocation', 123946),\n ('account', 2563),\n ('conclusion', 58860),\n ('line', 186947),\n ('principle_cost_efficiency', 247924),\n ('commensurate', 50467),\n ('national', 208370),\n ('economic', 97298),\n ('social', 304664),\n ('impact', 155252),\n ('economy', 98631),\n ('wild_aquatic_animal_important_resource', 353067),\n ('protect', 254371),\n ('tape', 327819),\n ('reduce', 266670),\n ('financial_burden_business', 124029),\n ('disproportionately', 93262),\n ('benefit', 31738),\n ('small_medium_enterprise', 303791),\n ('free', 131473),\n ('relatively', 273942),\n ('resource', 281540),\n ('cumulative_covid_case_notification_rate', 74544),\n ('test_positivity_rate_test', 331823),\n ('infection', 164661),\n ('library_summary', 185462),\n ('multi_stakeholder_discussion_preparation_guidance', 207464),\n ('strengthen', 316691),\n ('code_practice_disinformation', 48818),\n ('apart', 17704),\n ('prerequisite', 245318),\n ('regard', 268619),\n ('field_activity_obligation', 122617),\n ('state_beneficiary', 313394),\n ('lender', 184382),\n ('collateral_guarantee', 49426),\n ('course', 68868),\n ('neet', 213430),\n ('youth', 356524),\n ('aged', 12364),\n ('target', 327834),\n ('enter', 107502),\n ('activity', 4963),\n ('number_number_youth', 216659),\n ('age_enter_course', 12352),\n ('offer', 218765),\n ('national_agency_professional_training_adult', 208441),\n ('bridge_urban_rural_connectivity', 34957),\n ('rural_business', 288720),\n ('trade', 335969),\n ('online', 219973),\n ('broaden', 35655),\n ('customer_base', 76291),\n ('pilot_project_establishment_implementation_systematic_energy_management_development_financing_model',\n  236837),\n ('actual_merger', 5311),\n ('indication', 162674),\n ('necessary_step_selection_suitable_partner_unit', 212965),\n ('relatively_easy_person', 273961),\n ('upgrade', 344840),\n ('verify_account', 347720),\n ('example_stakeholder', 113777),\n ('estimate', 111819),\n ('average_green_bond_energy_utility_sector', 27269),\n ('article', 21671),\n ('paragraph_second_subparagraph', 227832),\n ('replace', 278180),\n ('appropriate_commission', 19576),\n ('foster', 130219),\n ('synergy', 326914),\n ('ensure', 107474),\n ('coordination_coherence', 65889),\n ('union_fund_instrument', 342593),\n ('health', 145874),\n ('asylum', 24378),\n ('migration', 201170),\n ('recovery', 265964),\n ('resilience', 280968),\n ('facility', 120292),\n ('technical', 329063),\n ('instrument', 169341),\n ('planning_phase', 237821),\n ('implementation', 156154),\n ('judgment_march', 177435),\n ('preliminary_reference_supreme_court_court_justice', 244816),\n ('reiterate', 272527),\n ('participation_council_judiciary', 229015),\n ('process', 249938),\n ('judge', 177292),\n ('political_organ', 239535),\n ('objective_body', 217496),\n ('sufficiently_independent_legislature_executive_body', 321497),\n ('opinion', 222383),\n ('crisis_core_topic_opinion', 72701),\n ('huge_impact_sector_topic', 153132),\n ('discuss', 92731),\n ('proposal', 253423),\n ('minimum_requirement', 203323),\n ('procedural_obligation', 249746),\n ('aids_energy_renovation_building', 13476),\n ('people', 233545),\n ('enjoy', 107308),\n ('free_movement', 131657),\n ('report', 278310),\n ('minimum_wage_council', 203510),\n ('commission', 50830),\n ('decide', 78735),\n ('apply', 18876),\n ('long_period', 189709),\n ('assess', 23301),\n ('relevant_evaluation_plan', 274772),\n ('notify', 215773),\n ('member_state_commission', 199255),\n ('work_day', 353768),\n ('scheme_entry', 290577),\n ('force', 128259),\n ('begin', 31306),\n ('crisis', 72670),\n ('specific_meeting', 310187),\n ('write_opinion', 355597),\n ('propose_measure', 253972),\n ('accordance', 2526),\n ('sure', 324609),\n ('regulation_commission', 271100),\n ('consult', 61962),\n ('authority', 25414),\n ('verify', 347719),\n ('sudden_severe_increase_actual_plan_expenditure_directly_relate_wage_subsidy_measure',\n  321083),\n ('response', 282557),\n ('pandemic', 226966),\n ('getting', 137645),\n ('differently', 87643),\n ('online_initiative_expansion_trading', 220212),\n ('online_voucher_scheme_agreement', 220607),\n ('minister', 203702),\n ('company', 54051),\n ('pay', 232542),\n ('bonus', 34016),\n ('national_public_health_emergency_team', 210386),\n ('june', 177772),\n ('review', 284924),\n ('ongoing_response_preparedness_covid', 219869),\n ('account_impact', 2900),\n ('covid_pandemic_workplace_health_safety_consideration', 70844),\n ('broad_global_trend', 35201),\n ('climate', 47059),\n ('potential_future_pandemic', 242680),\n ('impact_workplace_future_example_impact', 155942),\n ('retrofit', 284577),\n ('potential_exposure_asbestos_implication_transition_economy', 242641),\n ('website', 351406),\n ('host', 152512),\n ('variety_valuable_useful_information_advice', 347333),\n ('short_medium_term', 298512),\n ('boost', 34118),\n ('aggregate_demand', 12658),\n ('speed', 311288),\n ('recovery_economy', 266016),\n ('covid_crisis', 69571),\n ('especially', 110187),\n ('light', 185787),\n ('high_share_construction_project_investment_plan', 150410),\n ('consider', 60633),\n ('construction_sector', 61851),\n ('hard', 145281),\n ('green_transformation_pharmaceutical_strategy', 142882),\n ('set', 296924),\n ('ambitious_agenda', 14803),\n ('environmental', 108416),\n ('pharmaceutical', 235788),\n ('manufacturing_waste', 194355),\n ('specific_focus_antimicrobial_resistance', 309851),\n ('recovery_skill_response', 266259),\n ('equip_participant', 109777),\n ('skill', 302916),\n ('need_growth_sector', 213245),\n ('particular_green_digital_skill', 229998),\n ('assessment_deployment_potential_smart_energy_technology_sector_coupling_solution',\n  23521),\n ('smooth_cost_efficient_energy_transition', 304530),\n ('asem_statement', 23170),\n ('commitment', 52203),\n ('pandemic_response', 227367),\n ('pretext', 246252),\n ('limit', 186242),\n ('human_right_fundamental_freedom', 153681),\n ('office_large_site', 218905),\n ('occupy', 218700),\n ('nearly_square_foot_development', 211881),\n ('annex_regulation', 16339),\n ('transpose', 338678),\n ('annex_agreement', 16065),\n ('mercury_add_product', 200335),\n ('subject', 318836),\n ('prohibition', 252047),\n ('internal_market', 171702),\n ('union_legislation', 342764),\n ('legislative_development_union_level', 184041),\n ('article_directive', 21971),\n ('confidentiality_communication', 59624),\n ('involve', 175659),\n ('processing_provider', 250172),\n ('personal_datum_connection', 235225),\n ('provision_number_independent_interpersonal_communication_service', 255451),\n ('processing', 250147),\n ('strictly_necessary_specific_technology_sole_purpose', 317057),\n ('detect', 84081),\n ('remove', 276917),\n ('online_child_sexual_abuse_material_reporting_enforcement_authority',\n  220058),\n ('public', 255922),\n ('child_sexual_abuse', 44036),\n ('solicitation_child', 307548),\n ('enforcement_authority', 106623),\n ('approximately_project', 20893),\n ('award', 27937),\n ('promotion_business_model_energy_transition', 252665),\n ('smart_metering_storage_demand_response_flexibility_service_datum', 304297),\n ('derogation', 82976),\n ('article_regulation', 22459),\n ('second_indent_fourth_paragraph_point', 292633),\n ('majority_local_producer', 193082),\n ('survey', 324821),\n ('compliance', 56799),\n ('dock_relate_obligation', 94264),\n ('particularly', 230959),\n ('burdensome', 36687),\n ('identify', 154481),\n ('promote', 252626),\n ('good_practice', 139048),\n ('create', 71481),\n ('level_playing_field', 185036),\n ('different', 86467),\n ('mode', 205625),\n ('transport', 338352),\n ('mandatory_function_council_list_article_convention', 193986),\n ('adoption_international_standard', 10622),\n ('recommend', 265486),\n ('practice', 243955),\n ('designate', 83445),\n ('annexe', 16453),\n ('convention', 65174),\n ('remember', 276581),\n ('wash', 350591),\n ('hand', 144998),\n ('regularly_second', 270905),\n ('know', 178534),\n ('safe_wear_face_covering', 289346),\n ('avoid', 27874),\n ('touch', 335416),\n ('face_cough', 120006),\n ('elbow', 101971),\n ('social_contact', 304898),\n ('physical_distance', 236231),\n ('mind', 202815),\n ('transparency_fairness_distribution', 337982),\n ('county_council', 68743),\n ('project', 252075),\n ('design', 83162),\n ('public_realm_street', 258273),\n ('landscape', 180170),\n ('public_space', 258737),\n ('public_transport_vehicle_access', 258934),\n ('webinar', 351381),\n ('stakeholder_trade_union_representative', 312700),\n ('stress', 316838),\n ('importance_minimum_wage', 157531),\n ('minimum_wage_increase', 203559),\n ('appropriately', 20396),\n ('need_worker', 213420),\n ('poverty', 243436),\n ('particular_article_regulation', 229337),\n ('refer', 267330),\n ('different_type', 87485),\n ('list', 187319),\n ('disease', 92825),\n ('paragraph', 227630),\n ('thereof', 332329),\n ('potential_risk_case', 243059),\n ('list_disease', 187402),\n ('impact_crisis', 155493),\n ('local', 188295),\n ('community', 53586),\n ('sector', 293603),\n ('section', 293383),\n ('present', 245449),\n ('overarch', 226141),\n ('structural_human_resource_strategy', 318182),\n ('range', 262716),\n ('selection', 295088),\n ('career_path', 39296),\n ('subsidiarity_exclusive_competence_risk_worker_health_safety', 319937),\n ('broadly', 35680),\n ('similar', 300880),\n ('clear_role', 46777),\n ('address', 8492),\n ('risk', 286435),\n ('improve', 158824),\n ('business_environment', 37036),\n ('investment_support_productivity', 175395),\n ('enhance', 106900),\n ('majority_employer', 193055),\n ('raise', 262657),\n ('bind_directive', 32820),\n ('respect_autonomy_social_partner_freedom_collective_bargaining', 281776),\n ('potentially', 243264),\n ('lead', 182166),\n ('disruption', 93304),\n ('function_wage_set', 133117),\n ('establish', 111204),\n ('industrial_relation', 164017),\n ('agreement', 12927),\n ('includes', 159842),\n ('corona_package_preparation', 66422),\n ('second_wave_covid_pandemic', 293081),\n ('renew_social_distancing_measure', 277055),\n ('lead_role_setter_global_standard', 182354),\n ('advance', 10908),\n ('increase_role_international_cooperation_normative_research', 161566),\n ('ratio', 263495),\n ('cost_measure_foregone_revenue', 67408),\n ('additional_local_production', 7586),\n ('possibly', 241977),\n ('employment_rate_old_worker', 105089),\n ('average', 27076),\n ('migrant_background', 201123),\n ('particular_woman', 230934),\n ('underrepresented_labour_market', 341049),\n ('eligibility', 102883),\n ('business_subject_qualifying_criterion', 37456),\n ('commercially', 50809),\n ('premise', 244862),\n ('rate', 263338),\n ('behalf_attributable_business_premise', 31347),\n ('condition', 59123),\n ('equipment', 109791),\n ('office', 218821),\n ('chair', 42375),\n ('internet_connection', 172807),\n ('self_employ_worker', 295422),\n ('previous', 246630),\n ('month', 206646),\n ('contribution', 64619),\n ('consecutive', 60299),\n ('digital_strategy_milestone_implementation_digital_strategy', 89711),\n ('relevant_regulatory_legislative_act', 275619),\n ('justifie', 178269),\n ('horizontal_intervention_section', 152243),\n ('industrial_strategy_march', 164095),\n ('access_medical_product', 1641),\n ('crucial_security_autonomy', 74061),\n ('world', 355159),\n ('domestic_unit_labour_cost', 94702),\n ('increase', 160494),\n ('convergence', 65299),\n ('hinge', 151193),\n ('ability', 35),\n ('competitiveness_productivity', 55638),\n ('diversify', 94085),\n ('state', 313292),\n ('recent_study', 265017),\n ('highlight', 150862),\n ('airport', 13689),\n ('declare_capacity', 79241),\n ('previous_capacity_level', 246667),\n ('devastate', 84334),\n ('slot_history', 303397),\n ('fully', 132662),\n ('automate', 25574),\n ('business_process', 37315),\n ('solution', 307751),\n ('automate_work_increase_level_security_business_datum', 25623),\n ('circulation_central_process_electronic_document', 44761),\n ('digital', 87954),\n ('biometric', 33222),\n ('signature', 299211),\n ('thing', 332434),\n ('look', 190326),\n ('number', 215964),\n ('stark', 313108),\n ('reminder', 276586),\n ('cruelty', 74129),\n ('virus', 348636),\n ('phase_application_procedure', 235889),\n ('consist', 60977),\n ('subsequent_phase_expression_phase', 319815),\n ('million_employee', 201991),\n ('time', 332856),\n ('deliver', 81095),\n ('positive_effect', 240546),\n ('environment_price_reduction_final_electricity_consumer', 108390),\n ('important_society_economy', 158498),\n ('unemployed_person', 341419),\n ('job', 176474),\n ('unemployed', 341362),\n ('processor', 250185),\n ('design_edge_semiconductor_manufacturing', 83246),\n ('area', 21147),\n ('strategic_relevance_investment', 316230),\n ('research', 279865),\n ('innovation', 167283),\n ('window', 353174),\n ('access_information', 1496),\n ('exist', 115140),\n ('security', 294453),\n ('social_protection_indicative_possibility', 306353),\n ('national_level', 209831),\n ('computational_power', 58270),\n ('train_large_model', 336584),\n ('double', 94877),\n ('commission_request', 51843),\n ('save', 290121),\n ('world_vision_child_fund_alliance', 355429),\n ('conduct', 59435),\n ('joint_consultation_strategy_right_child_child_guarantee', 176758),\n ('regional_disparity_wide_employment_social_outcome_indicator', 269776),\n ('region', 269525),\n ('relative', 273847),\n ('ongoing_report_member_state', 219856),\n ('progress', 251871),\n ('implement', 156040),\n ('toolbox_report_impact_commission_recommendation_march_network', 334353),\n ('publish', 259423),\n ('strategy', 316365),\n ('decade', 78614),\n ('appendix', 17809),\n ('list_action_objective', 187322),\n ('step_coordinate_approach_action_plan_synergy', 315003),\n ('civil_defence_space_industry', 45228),\n ('level_technology_innovation', 185267),\n ('start', 313119),\n ('frequently', 132287),\n ('stakeholder_contribution', 312543),\n ('world_work', 355434),\n ('cause', 40428),\n ('combined_effect_technological_progress_demographic_change_climate_change',\n  50314),\n ('accommodation', 2350),\n ('emergency', 103613),\n ('complete_contingency_plan', 56053),\n ('case_study', 39982),\n ('addition', 5901),\n ('general_evaluation_regulation_contractor', 136110),\n ('thematic', 332132),\n ('select', 294934),\n ('policy_area', 238798),\n ('annex', 16059),\n ('arrangement', 21478),\n ('propose', 253763),\n ('effective_monitoring_implementation_recovery_resilience_plan', 100342),\n ('envisage_timetable_milestone_target_relate_indicator', 109077),\n ('train_curve', 336563),\n ('curve', 76157),\n ('switch_turnout', 326811),\n ('tram_curves', 336949),\n ('length_track_curve_curve_radius', 184480),\n ('announce', 16476),\n ('additional_flexibility_self_employ_worker_pandemic_unemployment_payment',\n  7250),\n ('representative_group', 278921),\n ('hold', 151379),\n ('coordination_meeting', 65965),\n ('relevant', 274280),\n ('joint', 176645),\n ('undertaking', 341163),\n ('single_research_joint_undertaking', 302352),\n ('twice', 339785),\n ('year', 355693),\n ('interface', 171204),\n ('national_regional_authority', 210503),\n ('clean', 46063),\n ('aviation_joint_undertaking', 27789),\n ('advice', 11537),\n ('basis', 30607),\n ('form', 129441),\n ('commission_social_policy_coherent', 51922),\n ('protest', 254816),\n ('national_level_social_partner', 209903),\n ('understand', 341063),\n ('reaction_president', 263642),\n ('sign', 299127),\n ('special_time', 309209),\n ('constitutional', 61413),\n ('legality', 183734),\n ('controversial_clause', 65143),\n ('spending', 311413),\n ('reinforce', 272314),\n ('private_spending_investment', 249420),\n ('drive', 95471),\n ('infrastructure_project_area_tourism_energy_education', 166377),\n ('attend', 24557),\n ('meeting_steering_board_defence_agency_union_satellite', 198926),\n ('confederation_big_union', 59485),\n ('guidance_special_home_page_union_member', 144457),\n ('corona_covid_relate_issue', 66394),\n ('strong_engagement_social_partner_level', 317389),\n ('industry', 164183),\n ('heavily', 147603),\n ('genomic_datum', 137245),\n ('challenge', 42505),\n ('future_medical_futurist', 135024),\n ('investment_organic_transition', 174930),\n ('public_kitchen_measure', 257619),\n ('dedicate', 79494),\n ('wide_range_suite_educational_support', 352710),\n ('facilitate', 120105),\n ('transition', 337282),\n ('organic_healthy_sustainable_food', 223882),\n ('kitchen', 178516),\n ('info_file', 164855),\n ('rule_report_stakeholder_contribution_council_reference_relevant_case_rule_report',\n  288608),\n ('advantage', 11326),\n ('delivery_service_possibility', 81249),\n ('item', 176404),\n ('delivery', 81114),\n ('term', 331112),\n ('available_customer', 26396),\n ('hour', 152634),\n ('moment', 206224),\n ('management_amusement_thematic_park', 193405),\n ('appropriate', 19423),\n ('adequate', 8842),\n ('confident', 59583),\n ('life_livelihood', 185609),\n ('implementation_member_states_recovery_resilience_plan', 156709),\n ('constitute', 61355),\n ('coordinated_effort_investment_reform', 65822),\n ('notwithstanding', 215808),\n ('article_directive_point_annex', 21990),\n ('directive', 91298),\n ('validity_roadworthiness_certificate', 346786),\n ('date_expiry', 77350),\n ('deem', 79956),\n ('extend', 118367),\n ('period', 234197),\n ('easy_access_finance', 97044),\n ('transparency', 337822),\n ('industrial_strategy', 164082),\n ('right_balance', 285682),\n ('support_business', 322823),\n ('develop', 84359),\n ('environmentally_friendly_respect_climate_neutrality_objective', 108925),\n ('consumer', 62255),\n ('incentive', 159555),\n ('shift', 298214),\n ('consumption_sustainable_good_service', 62433),\n ('extension', 118559),\n ('right_real_competence_assessment_skilled_worker', 286058),\n ('skilled_benefit_recipient_cash_benefit_recipient_transitional_benefit_recipient',\n  303134),\n ('outside', 224799),\n ('introduction', 173314),\n ('reach', 263567),\n ('vote', 349762),\n ('international_labour_conference_amendment', 172310),\n ('introduce', 173217),\n ('number_technical_change', 217068),\n ('quorum', 262105),\n ('voting_conference', 349786),\n ('decision', 78764),\n ('composition', 57563),\n ('culture_cultural_heritage_creativity', 74451),\n ('currently', 75840),\n ('anti', 17211),\n ('corruption_rule', 67127),\n ('main_focus', 191645),\n ('corruption_prevention', 67090),\n ('investigation', 173809),\n ('instance', 168647),\n ('manual', 194178),\n ('allocation', 14186),\n ('high_court', 148371),\n ('high_council', 148344),\n ('evidence', 113023),\n ('unjustified_manual_allocation', 343833),\n ('close', 47843),\n ('disciplinary_proceeding', 92401),\n ('tripartite_declaration_principle', 339349),\n ('multinational_enterprise', 207628),\n ('social_policy', 306254),\n ('mechanism', 197698),\n ('state_administration', 313307),\n ('association_statement_association_declaration_state_emergency_governmental_decree',\n  24326),\n ('plan_mission_climate_neutral_smart_city', 237585),\n ('city', 45007),\n ('goal', 138477),\n ('pave', 232533),\n ('suit', 321559),\n ('revise_enforcement_directive_directive', 285190),\n ('post', 242000),\n ('worker', 354651),\n ('date_transposition_national_measure_member', 77557),\n ('entry', 108210),\n ('positive_aspect_regulatory_framework', 240456),\n ('effectiveness_protection', 100976),\n ('annual_financing_year', 16742),\n ('respect', 281751),\n ('additional_resource', 8010),\n ('allocate', 14110),\n ('monitor', 206384),\n ('indicator', 162808),\n ('means', 196948),\n ('interval', 173037),\n ('data', 76886),\n ('necessary_evidence', 212282),\n ('collect', 49481),\n ('expand_scope', 116804),\n ('covid_pandemic', 70268),\n ('demonstrate', 81594),\n ('misinformation_false_misleading_information', 204915),\n ('malicious_intent', 193229),\n ('substantial_public_harm', 320427),\n ('viral', 348467),\n ('chapter_financial_contribution_allocation_process_loan_review_article',\n  43202),\n ('maximum_financial_contribution', 196446),\n ('support_recovery_long_term_preparedness_educator', 324008),\n ('embed', 103387),\n ('blend_learning_design_statutory_initial_teacher_education', 33406),\n ('professional', 251177),\n ('development', 84624),\n ('educational_staff', 99607),\n ('adapt', 5481),\n ('learn', 182518),\n ('professional_context', 251249),\n ('competent', 55026),\n ('range_indoor_outdoor_environment', 262806),\n ('tool_task', 334338),\n ('energy_resource_climate_change', 106393),\n ('north_girl', 214958),\n ('guide', 144504),\n ('county_county_example_community_project', 68784),\n ('august_city_community_development_company', 25224),\n ('employer', 104518),\n ('able', 121),\n ('equip', 109765),\n ('situation_post', 302621),\n ('covid_particular_need_improve', 70853),\n ('crisis_management', 72763),\n ('safe_fair_working_condition', 289025),\n ('chain', 42348),\n ('implementation_recovery_resilience_plan', 156947),\n ('economic_recovery_inclusive_address', 98127),\n ('weaknesse', 351315),\n ('long_term', 189818),\n ('mechanism_base_loan_creation_line_financing_intend_guarantee_project',\n  197705),\n ('sustainable_fishing_activity', 325881),\n ('law', 182065),\n ('monthly_regulatory_administrative_act', 206883),\n ('basis_scheme_support_company', 31015),\n ('partial_suspension_operation', 228719),\n ('hospital_site', 152466),\n ('country_addition', 68205),\n ('testing', 331894),\n ('respond', 282451),\n ('unforeseen_situation', 341825),\n ('annual_budgetary_procedure_deviate', 16651),\n ('maximum', 196285),\n ('stakeholder', 312462),\n ('parent', 228006),\n ('eviction', 113020),\n ('homeless', 151878),\n ('homeless_shelter_temporary_accommodation_setting', 151920),\n ('resemble', 280708),\n ('family_environment', 121019),\n ('permanent_solution', 234729),\n ('forward', 130095),\n ('ongoing_engagement', 219671),\n ('committee_child', 52389),\n ('relation', 273582),\n ('important_sensitive_strategic_action', 158467),\n ('million', 201651),\n ('time_period', 333268),\n ('state_revenue_service', 314013),\n ('wage_subsidy', 350335),\n ('financial_envelope_employment_social_innovation_strand', 124221),\n ('technical_administrative_assistance_expense', 329070),\n ('necessary', 211910),\n ('predecessor_employment_social_innovation', 244304),\n ('knowledge_hereditary_cancer', 178707),\n ('screen', 292160),\n ('fourth_open_government_action_plan', 130637),\n ('governance_infrastructure', 139511),\n ('base', 29107),\n ('exist_governance_tool', 115684),\n ('case_irrigation_method', 39787),\n ('imitate', 154864),\n ('rain_special_attention', 262645),\n ('protection_health_worker_bystander', 254551),\n ('close_result_pandemic', 48182),\n ('likely', 186015),\n ('return', 284608),\n ('operation_future', 221642),\n ('coherence_certainly_vital_importance', 48935),\n ('continuous_equipment', 63996),\n ('charge', 43398),\n ('infrastructure_zero_emission_vehicle', 166485),\n ('vessel', 347803),\n ('relevant_initiative', 275018),\n ('global_survey_questionnaire', 138354),\n ('skip_logic', 303235),\n ('direct', 90700),\n ('relevant_question', 275582),\n ('profile_familiarity', 251616),\n ('element', 102717),\n ('correspond', 66689),\n ('additional_allocation', 6725),\n ('assign', 23882),\n ('national_budget_commitment', 208661),\n ('effect', 99641),\n ('trainee_vocational_training', 336632),\n ('extra', 119467),\n ('bring', 35015),\n ('force_law', 128561),\n ('administrative_provision', 10176),\n ('date_entry', 77345),\n ('council_congress', 67704),\n ('local_regional_authority_current_affairs_committee', 189088),\n ('fact', 120394),\n ('finding', 125422),\n ('mission', 204997),\n ('business_consortium', 36902),\n ('business', 36772),\n ('long', 189553),\n ('minimum_budget', 202955),\n ('dock_regime', 94262),\n ('festival_minister_tourism_culture_art_sport_media_martin', 122569),\n ('suite_measure', 321765),\n ('commercial_live_performance_sector_assist_producer_promoter', 50722),\n ('venue', 347597),\n ('musician', 208087),\n ('disease_prevention_control', 92887),\n ('monitor_emerge_threat', 206418),\n ('disease_order', 92879),\n ('coordinate', 65675),\n ('doubt', 95027),\n ('express', 118331),\n ('interaction', 170988),\n ('legislation', 183810),\n ('introduction_statutory_minimum_wage', 173615),\n ('representativeness_criterion', 279022),\n ('gain', 135387),\n ('exposure_help', 118276),\n ('vaccine', 346450),\n ('explore', 118025),\n ('treatment_option', 339000),\n ('inland_passenger_water_transport', 167214),\n ('background', 28328),\n ('protocol', 254824),\n ('safe_travel_public_transport', 289333),\n ('safety_transport_driver_passenger', 289675),\n ('rank', 262945),\n ('relation_energy_performance', 273675),\n ('exist_housing_stock', 115740),\n ('stock', 315220),\n ('build', 36347),\n ('introduction_energy_norm', 173421),\n ('number_condition', 216153),\n ('attach', 24494),\n ('example', 113428),\n ('intrinsically', 173211),\n ('healthy', 147287),\n ('eligible', 102941),\n ('economic_court', 97510),\n ('budget', 35789),\n ('description_manufacturing_process', 83070),\n ('stage', 312321),\n ('manufacture', 194204),\n ('production_antigen_purification_procedure', 250582),\n ('accompany', 2421),\n ('process_flow_chart', 250015),\n ('assessment', 23439),\n ('reproducibility_manufacturing_procedure', 279039),\n ('adverse_effect', 11424),\n ('finish', 125521),\n ('product', 250350),\n ('microbiological_contamination', 200990),\n ('likelihood', 186000),\n ('economic_area', 97377),\n ('equitable_affordable_access', 109882),\n ('shortest', 298958),\n ('possible', 241125),\n ('convene', 65157),\n ('public_health_emergency', 257122),\n ('person', 234962),\n ('remotely', 276830),\n ('civil_appeal_high_court', 45155),\n ('declare', 79239),\n ('inadmissible', 159508),\n ('compare', 54462),\n ...]"
     },
     "execution_count": 53,
     "metadata": {},
     "output_type": "execute_result"
    }
   ],
   "source": [
    "list(tfidf_vec.vocabulary_.items())"
   ],
   "metadata": {
    "collapsed": false,
    "pycharm": {
     "name": "#%%\n"
    }
   }
  },
  {
   "cell_type": "code",
   "execution_count": 207,
   "outputs": [
    {
     "data": {
      "text/plain": "[('covid_specific_support', 19746),\n ('assume', 6422),\n ('unwound', 111571),\n ('only_exception', 65504),\n ('this_provision_seasonal_worker', 106346),\n ('temporary_contract', 98484),\n ('minister', 58485),\n ('very_glad_government', 112757),\n ('agree', 3056),\n ('phase_reopening_construction_sector', 71677),\n ('similarly_labour_market_number_person', 89117),\n ('pandemic_unemployment_payment', 68813),\n ('fall', 33552),\n ('cent', 11703),\n ('peak', 70734),\n ('early', 26643),\n ('large_decline', 50766),\n ('early_august', 26657),\n ('come', 14435),\n ('know', 50311),\n ('hard', 41846),\n ('continue', 17328),\n ('adhere_public_health_measure', 2325),\n ('individual', 46854),\n ('effort', 27866),\n ('need', 62832),\n ('risk_delta', 84087),\n ('variant_highly_transmissible_strain', 112339),\n ('pose', 72725),\n ('significant_threat', 88912),\n ('unvaccinate', 111553),\n ('partially', 69505),\n ('vaccinate', 112030),\n ('introduction', 49191),\n ('phase_june_level_payment_structure_link_pandemic_unemployment_payment_level_prior_earning',\n  71651),\n ('loan_term', 53172),\n ('range', 78232),\n ('year_three_year_loan', 117515),\n ('unsecured', 111500),\n ('more_information', 60017),\n ('restrict', 83111),\n ('your_movement', 117983),\n ('click', 13486),\n ('establishment_technological_university', 30738),\n ('stimulate', 93835),\n ('more_balanced_growth_population_employment', 59761),\n ('stay', 93704),\n ('course', 18595),\n ('spread', 92678),\n ('this_virus', 107146),\n ('control', 17741),\n ('main_teaching_union_national_education_union_teacher_union', 54335),\n ('very_active_campaigning_school_safety', 112646),\n ('concomitantly_provision_advice_guidance_member', 16218),\n ('crisis', 20242),\n ('pandemic_unemployment_payment_taxation', 68845),\n ('like', 52481),\n ('clarify', 13262),\n ('situation', 89334),\n ('regard', 79860),\n ('taxation', 98064),\n ('million_culture_entrepreneurship_foundation', 57723),\n ('provide', 76282),\n ('loan_entrepreneur', 53130),\n ('sector', 86497),\n ('only_loan_company', 65564),\n ('available', 6885),\n ('particular_mandate_committee', 69763),\n ('engage', 29401),\n ('widely', 116176),\n ('society_crucial_importance_inform_proposal', 90707),\n ('ultimately', 110578),\n ('government', 39985),\n ('plan', 72119),\n ('referendum', 79745),\n ('ensure', 29684),\n ('citizen_business', 12983),\n ('ready', 78599),\n ('possible_scenario', 73103),\n ('secure', 86682),\n ('access_treatment_covid', 525),\n ('datum_government_fund_community_energy_grant_award_project', 21790),\n ('support', 96574),\n ('administer', 2376),\n ('community_energy_grant_scheme', 15121),\n ('first_part', 35157),\n ('such_plan', 95828),\n ('receive', 78945),\n ('evaluate', 30884),\n ('employment_project_midland', 29127),\n ('green_enterprise_other_employment_tourism_potential', 41125),\n ('national_plan_maritime_area', 62114),\n ('set', 87555),\n ('want', 114192),\n ('protect', 76081),\n ('enjoy', 29598),\n ('sea', 86076),\n ('this_be_challenge_time_student', 104425),\n ('their_family_school_community', 100706),\n ('progress_report', 75675),\n ('publish', 77579),\n ('month', 59536),\n ('accountability', 773),\n ('transparency', 109959),\n ('delivery', 22589),\n ('funding_application', 38077),\n ('submit', 94806),\n ('electronically', 28142),\n ('this_platform_heating_device', 106191),\n ('minister_tourism_culture_art_sport_media_martin', 58952),\n ('today', 108687),\n ('announce', 4358),\n ('range_funding', 78278),\n ('approximately', 5694),\n ('assist', 6271),\n ('local_authority', 53203),\n ('develop', 23770),\n ('community_commemorative_initiative', 15091),\n ('remembrance', 81261),\n ('significant_event', 88648),\n ('occur', 64587),\n ('cork', 17988),\n ('country', 18381),\n ('approach_centenary_state', 5354),\n ('this_report_demonstration', 106477),\n ('celebrate', 11678),\n ('rest_day', 83023),\n ('deposit', 23309),\n ('time', 108446),\n ('save', 85415),\n ('account', 661),\n ('minister_children_youth_affair', 58545),\n ('acknowledge', 856),\n ('many_childcare_practitioner', 54982),\n ('their_parenting_care_responsibility', 101608),\n ('ask', 6171),\n ('those_position', 107728),\n ('contribute', 17677),\n ('this_element_emergency_call', 104947),\n ('consider', 16662),\n ('administration_vaccine', 2416),\n ('recommenced', 79221),\n ('age', 2947),\n ('work', 116517),\n ('very_much_team_effort', 112883),\n ('involve', 49462),\n ('scientist', 86001),\n ('school_department_official', 85778),\n ('particular', 69631),\n ('closely', 13864),\n ('offer', 64607),\n ('sincere_congratulation', 89193),\n ('thank', 99027),\n ('launch', 51308),\n ('this_call_minister', 104482),\n ('comment', 14548),\n ('research_innovation', 82261),\n ('absolutely', 155),\n ('critical', 20352),\n ('agriculture', 3233),\n ('prosper', 76074),\n ('respond', 82739),\n ('effectively', 27815),\n ('overarch', 68284),\n ('challenge_time', 12324),\n ('million_covid_adaptation_town_village', 57705),\n ('june_death_case', 49919),\n ('confirm', 16409),\n ('health_protection_surveillance', 42328),\n ('notify', 63785),\n ('covid_death', 18926),\n ('hour', 44234),\n ('hospice_hospice_movement', 44067),\n ('south_hospice_movement_hospice_team_laura_hospice_jack_children_foundation_hospice_foundation_institute_hospice_palliative_care_cancer_society_night_nursing_service_total',\n  91667),\n ('learn', 51541),\n ('live', 52929),\n ('covid', 18709),\n ('concern', 16128),\n ('health', 42096),\n ('love', 53981),\n ('this_time', 106963),\n ('bottom_initiative', 9740),\n ('complement_national_level_policy', 15764),\n ('emanate', 28421),\n ('such_national_enterprise_policy_enterprise', 95768),\n ('renew', 81453),\n ('future_job_initiative', 38846),\n ('demonstrate', 22728),\n ('seriousness', 87389),\n ('euro_member_state', 30870),\n ('view', 113223),\n ('current_crisis', 20854),\n ('funding_stream', 38195),\n ('end', 29311),\n ('notes_editor_period_poverty_discussion_paper_period_poverty_committee_national_strategy_woman',\n  63732),\n ('girl', 39435),\n ('main_finding', 54245),\n ('report', 81765),\n ('international_measure_combat_period_poverty', 48930),\n ('include', 46101),\n ('zero_reduced_rate_sale_period_product_number_jurisdiction', 118304),\n ('case', 11358),\n ('freelancer', 37322),\n ('report_income', 81801),\n ('minimum_wage', 58471),\n ('request', 81966),\n ('their_income', 101050),\n ('victim', 113163),\n ('abuse', 177),\n ('sexual_violence', 87889),\n ('crime', 20186),\n ('single_measure', 89247),\n ('these_package', 103671),\n ('different_timeline', 24363),\n ('date', 21614),\n ('this_entry', 104998),\n ('billion_million_earmark_bonus', 8731),\n ('which_sufficient_reward_worker', 115561),\n ('administrative_assistant', 2422),\n ('business_technical_support_staff', 10647),\n ('temporary', 98439),\n ('valid', 112138),\n ('epidemic', 30120),\n ('scheme', 85506),\n ('aim', 3296),\n ('register_eligible_employee', 80189),\n ('base', 7828),\n ('march', 55435),\n ('estimate', 30744),\n ('people', 70882),\n ('temporary_unemployment_scheme', 98700),\n ('this_initiative', 105582),\n ('additional_capacity', 1606),\n ('high_education_sector', 43106),\n ('meet', 56933),\n ('priority_skill', 74834),\n ('enterprise', 29702),\n ('represent', 81855),\n ('additional_investment', 1862),\n ('surplus_line', 97245),\n ('recommendation', 79239),\n ('contain', 17161),\n ('independent_review_surplus_development_labour_market_skill', 46775),\n ('prof_team', 75404),\n ('responsible', 82931),\n ('instrument_datum_processing_analysis_software', 48290),\n ('scale', 85436),\n ('this_stream', 106806),\n ('fund_scale', 37984),\n ('prove', 76275),\n ('technology_initiative', 98289),\n ('this_measure', 105780),\n ('complement', 15758),\n ('banking_measure', 7754),\n ('spend', 92479),\n ('covid_direct_income', 18942),\n ('date_minister_finance_paschal', 21705),\n ('important_business', 45639),\n ('employment_wage_subsidy_scheme_covid_restriction_support_scheme', 29210),\n ('remain', 81152),\n ('place', 71977),\n ('june', 49888),\n ('further_regional_day', 38609),\n ('fund_student_device', 37999),\n ('worth', 117365),\n ('million', 57554),\n ('package', 68513),\n ('far_high_education_sector', 33747),\n ('deal', 21912),\n ('impact', 45228),\n ('more_depth_work', 59848),\n ('explore', 32677),\n ('issue', 49574),\n ('sustainability_connectivity', 97464),\n ('use', 111870),\n ('place_base_approach_documenting_live_experience_border_region', 71985),\n ('small_important_change', 89628),\n ('many_business', 54965),\n ('limit', 52559),\n ('credit_card_payment', 20101),\n ('raise', 78211),\n ('next_meeting_task_force', 63199),\n ('schedule', 85489),\n ('grocery_retailer', 41199),\n ('discuss', 25198),\n ('their_business', 100096),\n ('prepare', 73801),\n ('safety', 84988),\n ('their_employee', 100563),\n ('continuation_business_food_supply', 17306),\n ('chain', 12195),\n ('their_customer', 100407),\n ('thirdly', 104219),\n ('despite', 23540),\n ('wide_scale_closure_construction_sector_spring', 116137),\n ('encourage', 29288),\n ('overall', 68105),\n ('house', 44289),\n ('building', 10282),\n ('considerably', 16714),\n ('expect', 32426),\n ('cent_decline', 11715),\n ('year', 117430),\n ('responsibility_policy_maker', 82900),\n ('environment', 30024),\n ('right', 83788),\n ('communique', 15044),\n ('refer', 79711),\n ('explore_option_policy_measure', 32678),\n ('improve', 45918),\n ('sustainability_food_system', 97472),\n ('range_measure', 78305),\n ('promote', 75857),\n ('healthy_childhood', 42643),\n ('provision', 76337),\n ('highly_practical_element', 43551),\n ('challenge', 12295),\n ('important_note', 45737),\n ('lay', 51403),\n ('worker', 117033),\n ('avail', 6821),\n ('employ', 28664),\n ('bath_fitter_contact_info_director_communication', 8201),\n ('million_fund_vehicle_community', 57838),\n ('person', 71290),\n ('grant', 40688),\n ('maternity_paternity_childcare_benefit', 56058),\n ('apply', 5215),\n ('more_recalculation', 60180),\n ('thereof', 103034),\n ('these_action', 103057),\n ('vital', 113573),\n ('collective_effort_suppress', 14289),\n ('this_highly_infectious_disease_work', 105417),\n ('reopen_school_healthcare_service', 81619),\n ('healthcare_worker', 42615),\n ('pandemic', 68586),\n ('past_month', 70205),\n ('this_model', 105844),\n ('facilitate', 33388),\n ('payment', 70456),\n ('farmer', 33861),\n ('reflect', 79759),\n ('their_contribution_priority_habitat_species_carbon_sequestration_storage_water_quality_other_system_service',\n  100319),\n ('result', 83183),\n ('locally', 53622),\n ('adapt', 1263),\n ('deliver', 22580),\n ('successfully', 95201),\n ('broad_range_landscape', 9994),\n ('drawing', 25993),\n ('business', 10374),\n ('these_assess_cash_income', 103115),\n ('look', 53887),\n ('mental_health', 57187),\n ('supervise', 96438),\n ('probation_service_justice_plan', 75102),\n ('commit', 14824),\n ('establish', 30640),\n ('cross', 20488),\n ('departmental', 23219),\n ('task', 98038),\n ('force', 36385),\n ('virtual', 113326),\n ('event', 30997),\n ('morning', 60487),\n ('minister_justice', 58740),\n ('forward', 36784),\n ('probation_service', 75101),\n ('author', 6719),\n ('case_above_mention_business', 11359),\n ('reach', 78552),\n ('certain_rate_occupancy', 12035),\n ('oblige', 64461),\n ('revoke', 83748),\n ('permanently', 71240),\n ('suspension', 97366),\n ('their_employee_contract', 100565),\n ('join', 49725),\n ('special_support_mechanism', 92034),\n ('applicable', 4971),\n ('only_employee', 65490),\n ('whose_employment_contract', 115796),\n ('suspend', 97353),\n ('their_suspension', 102340),\n ('this_guidance', 105370),\n ('ongoing_review', 65055),\n ('meal_allowance_insurance', 56395),\n ('accident_work_article', 582),\n ('around_month_later_march_company', 5916),\n ('this_support_accumulate_datum', 106850),\n ('initiate', 47799),\n ('implement', 45363),\n ('trade', 109526),\n ('union_congress', 111049),\n ('committee_member', 14894),\n ('abigail', 17),\n ('collin', 14363),\n ('capacity', 11012),\n ('member', 57001),\n ('national', 61581),\n ('newborn', 63065),\n ('governance', 39968),\n ('group', 41275),\n ('committee', 14887),\n ('current', 20791),\n ('evidence', 31367),\n ('addition', 1353),\n ('screening', 86064),\n ('public_employer', 76695),\n ('participate', 69532),\n ('purchase', 77661),\n ('phone_exchange', 71728),\n ('allow', 3540),\n ('employment_blind_worker', 29033),\n ('access_covid', 317),\n ('enhance', 29456),\n ('illness', 44983),\n ('benefit', 8472),\n ('unemployment', 110874),\n ('direct', 24699),\n ('head', 42044),\n ('food_safety_authority', 36245),\n ('first_country', 34942),\n ('react', 78557),\n ('infect_pregnant_mare', 47268),\n ('likely', 52485),\n ('suffer', 96195),\n ('late_term_abortion', 51257),\n ('their_pregnancy', 101781),\n ('million_reintegration_people', 58106),\n ('social_support', 90590),\n ('sincerely', 89196),\n ('stakeholder', 92955),\n ('advisory_group_process', 2801),\n ('continue_work', 17498),\n ('come_month', 14451),\n ('far', 33696),\n ('these_plan', 103707),\n ('assessment', 6224),\n ('this_response', 106517),\n ('effective', 27729),\n ('household_firm', 44336),\n ('welcome', 114541),\n ('finally', 34408),\n ('company', 15338),\n ('partial_unemployment', 69494),\n ('their_workforce', 102636),\n ('condition', 16250),\n ('recovery_plan_case', 79399),\n ('small_company', 89589),\n ('retention_plan_case_company', 83412),\n ('employee', 28696),\n ('strict_adherence_public_health_measure_family', 94215),\n ('childcare_provider', 12804),\n ('urge', 111772),\n ('support_period_administrative_board_employment_service', 96946),\n ('decide', 22009),\n ('each_month_extension_measure', 26456),\n ('maximum_award', 56139),\n ('good_people', 39822),\n ('buy', 10690),\n ('collective', 14225),\n ('necessary', 62609),\n ('partners_bank_bank_international_asset_bank_municipal_bank_first_investment_bank_commerce_bank_central_cooperative_bank',\n  70103),\n ('region', 80021),\n ('worldwide', 117331),\n ('million_fund_rural_school_community', 57832),\n ('town_village_renewal_scheme_town', 109479),\n ('village', 113280),\n ('country_measure', 18453),\n ('immediately', 45147),\n ('delighted', 22559),\n ('welcome_appointment_interim_president_university_limerick', 114556),\n ('chair_event', 12227),\n ('closing_remark', 13880),\n ('capture', 11150),\n ('positivity_energy_room', 72917),\n ('participant_network', 69522),\n ('each_other_harness_power_experience', 26477),\n ('exist_network', 32198),\n ('total_budget', 108987),\n ('extent', 33008),\n ('applicant', 4998),\n ('seek', 86800),\n ('ordinate_action', 66537),\n ('other_group', 67034),\n ('other_initiative', 67140),\n ('create', 19941),\n ('wide_impact', 116011),\n ('network', 63000),\n ('formal_engagement', 36607),\n ('creation', 19956),\n ('synergy', 97733),\n ('partnership', 70106),\n ('department', 22770),\n ('examine', 31491),\n ('alternative_method', 3939),\n ('pandemic_look', 68698),\n ('resume', 83271),\n ('person_ceremony', 71297),\n ('public_administration_asset_support_government', 76557),\n ('citizen', 12977),\n ('increase_care_benefit_current_situation', 46343),\n ('major_financial_consequence_employer_business_community', 54469),\n ('ovine_caprine_flock_herd', 68457),\n ('inspect', 48107),\n ('ovine_caprine_identification_registration_requirement', 68458),\n ('national_flock_herd', 61883),\n ('hospital_statistic', 44134),\n ('total_number_case', 109148),\n ('total_number_total_number', 109166),\n ('admit', 2489),\n ('total_number_death_total_number_healthcare_worker_number_cluster', 109156),\n ('associate', 6368),\n ('cluster_median_statistic', 13943),\n ('measure', 56459),\n ('midnight', 57460),\n ('mean', 56408),\n ('whose_driving', 115789),\n ('expire', 32628),\n ('march_august', 55448),\n ('validity', 112200),\n ('extend', 32760),\n ('seven', 87570),\n ('total', 108915),\n ('june_reason_failure_system', 49995),\n ('propose', 76016),\n ('systemic_reform_occupational_medicine', 97790),\n ('more_protection_beneficiary', 60173),\n ('high_base_case_work_accident', 43005),\n ('case_temporary_disability', 11478),\n ('this_public_insurance_fund', 106359),\n ('german_hospital_society_interest_hospital', 39400),\n ('federal_minister_health_debate', 34042),\n ('scheme_fund_scheme', 85599),\n ('proposal', 75995),\n ('convey', 17831),\n ('strong_message', 94380),\n ('tree_woodland', 110189),\n ('wide_range_environmental_resource_service', 116071),\n ('society', 90702),\n ('job_protection_plan_partial_response', 49666),\n ('government_furlough_scheme', 40223),\n ('discussion_economic_development', 25214),\n ('add', 1308),\n ('this_scheme', 106588),\n ('design', 23405),\n ('application_process_user', 5171),\n ('friendly', 37394),\n ('accessible', 552),\n ('possible', 72967),\n ('eligible_payment_apply', 28329),\n ('delay', 22517),\n ('innovation_hub', 47918),\n ('desk_space', 23532),\n ('other_event', 66945),\n ('place_wedding_maximum_guest_service', 72102),\n ('their_credit_union', 100375),\n ('digital_telephone_channel', 24628),\n ('software_solution', 90749),\n ('local', 53184),\n ('office', 64624),\n ('city', 13023),\n ('provider', 76317),\n ('minister_health', 58659),\n ('confirmation', 16431),\n ('available_increase_direct_access_diagnostic_service', 7002),\n ('this_week', 107211),\n ('xiii', 117425),\n ('amend', 4055),\n ('article', 6032),\n ('article_tourism_republic', 6076),\n ('ongoing_regulatory_reform_public_procurement_environmental_labour_other_area_order',\n  65043),\n ('streamline', 94151),\n ('achieve', 841),\n ('competitiveness_sustainability', 15743),\n ('this_campaign', 104489),\n ('coordinate', 17874),\n ('relevant', 80894),\n ('communicate', 15004),\n ('message', 57338),\n ('their_network', 101459),\n ('available_talk_radio', 7139),\n ('there_will_festival_language', 102968),\n ('happen', 41836),\n ('workshop_language_class', 117217),\n ('student', 94524),\n ('lot', 53962),\n ('local_speaker', 53577),\n ('getting', 39428),\n ('play', 72276),\n ('lead_role_fight', 51480),\n ('council', 18297),\n ('able', 35),\n ('funding', 38062),\n ('further_discretionary_support_vulnerable_people', 38359),\n ('other_support_arrangement', 67619),\n ('such_local_welfare_scheme', 95709),\n ('employer_responsibility', 28967),\n ('pay', 70377),\n ('care_benefit_day', 11198),\n ('reduce', 79534),\n ('day', 21855),\n ('regularly', 80419),\n ('school', 85720),\n ('update_guidance_help', 111625),\n ('operate', 65992),\n ('school_meal', 85843),\n ('amid', 4106),\n ('extended_covid_restriction', 32810),\n ('president_federation_nursing_profession', 73977),\n ('number_social_integration_initiative', 64166),\n ('this_fund', 105234),\n ('over_million_project', 68080),\n ('contribution', 17689),\n ('social_partner', 90349),\n ('outside', 67958),\n ('workplace', 117155),\n ('example', 31503),\n ('vehicle_owner', 112577),\n ('affect', 2838),\n ('vehicle_lift_issue', 112576),\n ('complete', 15782),\n ('their_test', 102381),\n ('note_editor', 63661),\n ('currently', 21148),\n ('rate', 78487),\n ('effect', 27694),\n ('prior_earning_rate_recipient', 74705),\n ('access_heart_disease_cancer_screening', 392),\n ('diabetes', 24130),\n ('prevention_management_workshop', 74167),\n ('place_community_base_medical_environment', 71994),\n ('easy_member', 26996),\n ('access', 277),\n ('wait', 114104),\n ('fully', 37833),\n ('follow', 35983),\n ('public_health_advice', 76768),\n ('every_early_education_childcare_service_staff_member', 31151),\n ('position', 72727),\n ('volunteer', 113832),\n ('their_service', 102159),\n ('greatly', 41085),\n ('value', 112272),\n ('derogatory_compensation_condition', 23384),\n ('mention_person', 57313),\n ('meeting', 56970),\n ('entitlement_benefit', 29915),\n ('consultant_psychiatrist_integrate_care_lead', 16966),\n ('phase_response', 71681),\n ('opportunity_increase_exercise_activity', 66222),\n ('friend', 37387),\n ('outside_household', 67973),\n ('facility', 33431),\n ('business_support_agency', 10638),\n ('email_address', 28405),\n ('register', 80168),\n ('their_activity', 99907),\n ('debt_social_security_office', 21975),\n ('comment_result', 14600),\n ('relate', 80623),\n ('alcohol_minister', 3415),\n ('survey_result', 97290),\n ('previous_day_year', 74228),\n ('survey', 97267),\n ('alcohol', 3393),\n ('consume', 17035),\n ('more_alcoholic_drink', 59744),\n ('occasion', 64498),\n ('entitlement', 29914),\n ('permanent_residence_state', 71224),\n ('variety_healthy_food', 112366),\n ('your_child', 117701),\n ('read', 78577),\n ('list_town_village', 52849),\n ('approve', 5630),\n ('standard_town_village_renewal_scheme_funding', 93059),\n ('today_addition', 108688),\n ('model', 59341),\n ('start_point_teacher', 93133),\n ('estimate_mark', 30774),\n ('historical_pattern', 43630),\n ('achievement', 846),\n ('each_school', 26552),\n ('start_point', 93132),\n ('this_highlight_importance_level_virus_community_primary_measure', 105412),\n ('nursing_home', 64273),\n ('innovation_skill_voucher', 47942),\n ('mentor', 57315),\n ('fund_employment_incentive_investment_scheme', 37931),\n ('individual_investor', 46962),\n ('obtain', 64486),\n ('income_relief_investment', 46223),\n ('certify_qualifying_company', 12182),\n ('compensation_scheme', 15617),\n ('administration', 2397),\n ('highly_dependable_tourism', 43535),\n ('payment_easter_bonus', 70519),\n ('cover', 18652),\n ('state_budget', 93201),\n ('average', 7175),\n ('county', 18501),\n ('average_case_incidence_rate_population_case', 7186),\n ('last_day', 51005),\n ('renewable_energy_credit_technology_gateway_late_addition_enterprise_technology_gateway',\n  81485),\n ('amendment_emergency_legislation', 4082),\n ('adopt', 2498),\n ('introduce_possibility', 49182),\n ('conclude', 16195),\n ('temporary_employment_contract', 98513),\n ('similar_contract', 89012),\n ('hire', 43583),\n ('activity', 1121),\n ('harvesting', 41962),\n ('state_security_times_state_state_emergency', 93463),\n ('inform', 47363),\n ('generally', 39275),\n ('much_consultation', 61096),\n ('positive_step', 72895),\n ('conclusion_exploratory_talk', 16208),\n ('taxi_industry', 98088),\n ('pick', 71890),\n ('recent', 78963),\n ('project', 75724),\n ('today_project', 108784),\n ('assistance', 6304),\n ('fund', 37900),\n ('community_business', 15067),\n ('cash_injection', 11527),\n ('boost', 9144),\n ('economic_activity', 27031),\n ('many_area_region', 54948),\n ('suspect', 97335),\n ('isolate', 49536),\n ('away', 7481),\n ('your_household', 117890),\n ('your_close_contact', 117727),\n ('test', 98911),\n ('soon', 91576),\n ('increase_reserve_capital', 46539),\n ('funding_measure', 38134),\n ('partner', 70047),\n ('parent_carer', 68940),\n ('arguably_this_trickiest_moment', 5876),\n ('misstep', 59229),\n ('resident', 82426),\n ('nurse', 64248),\n ('home', 43729),\n ('vulnerable', 113912),\n ('their_underlie_medical_condition', 102469),\n ('care_need', 11220),\n ('close_physical_contact', 13803),\n ('encourage_community', 29291),\n ('share', 87922),\n ('their_culture_heritage', 100387),\n ('wide_public_sense', 116042),\n ('identify', 44922),\n ('domestic_violence', 25751),\n ('three_critical_service_area', 108067),\n ('entire_energy_partner', 29848),\n ('focus', 35870),\n ('this_public_health_emergency', 106353),\n ('psychological', 76511),\n ('help', 42852),\n ('teacher', 98107),\n ('student_parent', 94581),\n ('emotional_stress', 28641),\n ('significantly', 88936),\n ('increase', 46298),\n ('this_survey', 106870),\n ('gain', 38967),\n ('high_response_rate', 43381),\n ('three_survey', 108283),\n ('conduct', 16317),\n ('civil_servant_workforce', 13171),\n ('northern', 63569),\n ('great', 40804),\n ('eligible', 28204),\n ('online_service', 65341),\n ('these_statistic', 103921),\n ('midnight_march', 57468),\n ('last_statistic', 51104),\n ('million_refugee', 58096),\n ('population_refugee', 72661),\n ('family_application', 33591),\n ('article_employment_republic', 6044),\n ('force_june', 36401),\n ('high_wage_subsidy', 43499),\n ('payable_employer_employee', 70436),\n ('downtime', 25898),\n ('context_covid_pandemic_compete_trade_union', 17224),\n ('jointly', 49827),\n ('agreement', 3107),\n ('mitigate_pandemic_impact', 59251),\n ('essential', 30440),\n ('purpose', 77701),\n ('close', 13668),\n ('attention_local_condition_advice', 6508),\n ('first_step', 35267),\n ('online_application_farmer_contact_registration', 65123),\n ('another_step', 4735),\n ('reopen_society', 81626),\n ('their_part', 101609),\n ('requirement', 82088),\n ('public_health_business_customer', 76829),\n ('alike', 3461),\n ('country_people', 18462),\n ('worry', 117348),\n ('concerned', 16161),\n ('retain', 83392),\n ('ongoing_protection_support_nursing_home_resident', 65032),\n ('incidence_rate', 46080),\n ('excess_checkpoint', 31809),\n ('connection', 16539),\n ('positive_development_situation_individual_country_company', 72808),\n ('gradually', 40632),\n ('open', 65775),\n ('those_employee', 107487),\n ('various_reason', 112482),\n ('return_office', 83493),\n ('funding_model', 38145),\n ('reform', 79778),\n ('approach', 5350),\n ('reinforce', 80578),\n ('silos', 88979),\n ('resource', 82573),\n ('flexibly', 35813),\n ('outcome', 67779),\n ('much_simple_pathway_learner', 61238),\n ('opportunity', 66177),\n ('ministerial_official_level', 58997),\n ('appropriate_partner', 5483),\n ('such_business_farming_fishery', 95293),\n ('amplify', 4208),\n ('their_platform', 101743),\n ('covid_evolve_pandemic_commit_adapt_advice_guideline', 19018),\n ('emerge_evidence', 28455),\n ('easily_accessible_online_survey', 26897),\n ('principal', 74584),\n ('wild_bird', 116229),\n ('carry', 11345),\n ('avian_influenza_virus', 7337),\n ('traditionally', 109667),\n ('migrate', 57500),\n ('east_atlantic_flyway', 26905),\n ('cold_part', 14082),\n ('northern_eastern_western_country', 63578),\n ('lose', 53913),\n ('their_commuter_status', 100254),\n ('enter', 29694),\n ('quarantine', 77965),\n ('their_home_country', 100958),\n ('that_there_will_individual_need', 99790),\n ('determine', 23741),\n ('affect_person', 2851),\n ('disability', 24974),\n ('access_shelter_workshop', 490),\n ('another_facility', 4623),\n ('danger', 21509),\n ('this_drug', 104922),\n ('document', 25643),\n ('those_addict_drug', 107332),\n ('perceive', 70949),\n ('common', 14906),\n ('response', 82762),\n ('patient', 70292),\n ('large_scale_repair', 50928),\n ('upgrade', 111671),\n ('strategic_trail_amenity_development_grant', 94087),\n ('increasingly', 46607),\n ('clear', 13358),\n ('only_global_effort', 65533),\n ('covid_pandemic', 19300),\n ('vaccination', 112038),\n ('roll', 84379),\n ('globally', 39620),\n ('financial_report_company', 34623),\n ('state', 93164),\n ('that_company_rapid_growth_base_focus_commerce', 99178),\n ('attract', 6528),\n ('retail_customer', 83321),\n ('especially', 30343),\n ('product', 75241),\n ('checklist_project', 12596),\n ('risk_life_health', 84132),\n ('this_community', 104604),\n ('bring', 9936),\n ('public_health_county_city_management_association', 76841),\n ('local_authority_traveller_health_unit', 53259),\n ('thus_primary_healthcare_traveller_project', 108389),\n ('integrate_care', 48384),\n ('old_people_same_goal', 64806),\n ('especially_old_people', 30390),\n ('wants', 114196),\n ('hospital_stay', 44136),\n ('continuous_long_term', 17583),\n ('care', 11189),\n ('strictly', 94255),\n ('adhere', 2312),\n ('public_health_measure', 76910),\n ('real_progress_term', 78711),\n ('flatten', 35723),\n ('curve', 21256),\n ('lower', 54092),\n ('current_trend_hospital', 21126),\n ('majority', 54569),\n ('most_need_protective_equipment', 60754),\n ('import', 45527),\n ('china', 12840),\n ('insurable', 48308),\n ('self_employment', 86970),\n ('their_contribution_history', 100318),\n ('accept_evidence', 257),\n ('notice', 63747),\n ('further_detail_application_form', 38328),\n ('website', 114381),\n ('minister_martin', 58763),\n ('safe_travel_initiative', 84939),\n ('continue_support_tourism_industry', 17483),\n ('manage_department_foreign_affair', 54661),\n ('cost', 18204),\n ('this_donation', 104908),\n ('medical_part_million_contribution', 56760),\n ('global_public_health', 39572),\n ('first_million_mask', 35110),\n ('donate', 25776),\n ('health_elderly_care_services_national_board_health_welfare', 42211),\n ('contact_detail', 17097),\n ('alcohol_treatment_service', 3429),\n ('note', 63648),\n ('editor_funding', 27461),\n ('successful_project_county_council_south_east_food_tourism_cluster_achill_island_salt_council',\n  95178),\n ('discover', 25171),\n ('food_experience_county_council_food_network_marketing_taste_county_festival_food',\n  36159),\n ('start', 93087),\n ('register_decrease_turnover', 80184),\n ('correspond', 18150),\n ('compare_same_period', 15519),\n ('previous', 74194),\n ('these_configure_mixed_employment_training_program_main_objective', 103218),\n ('employability_unemployed_people_order', 28695),\n ('their_insertion', 101098),\n ('labor_market', 50385),\n ('line', 52684),\n ('intend_service_crisis_emergency_service', 48483),\n ('hope', 44001),\n ('this_additional_telephone_support_service', 104283),\n ('assistance_guidance', 6322),\n ('question', 78055),\n ('information', 47415),\n ('service', 87412),\n ('differ', 24179),\n ('current_standard', 21078),\n ('only_macro_scoring_system', 65565),\n ('exist', 32021),\n ('witness', 116434),\n ('enormous_innovative_capacity_public_service', 29630),\n ('last_year', 51142),\n ('datum', 21764),\n ('finding', 34774),\n ('relevant_interest_deal', 80979),\n ('impact_covid_society_employment', 45254),\n ('failure', 33484),\n ('continue_eligibility', 17363),\n ('stop', 93893),\n ('fourth_quarter', 37034),\n ('still_many_people', 93815),\n ('employment_result', 29150),\n ('pandemic_meet_international_labour_definition', 68702),\n ('unemployed', 110818),\n ('detailed_information_leaflet_instructional_video', 23659),\n ('consent_document', 16591),\n ('archbishops', 5822),\n ('their_support', 102324),\n ('importance_church_community_people', 45564),\n ('stress', 94195),\n ('negotiate', 62955),\n ('insure', 48340),\n ('monitor', 59503),\n ('same_time', 85332),\n ('several_other_industry', 87722),\n ('minister_children_equality_disability_integration_youth', 58542),\n ('national_online_campaign_event', 62081),\n ('young_people', 117590),\n ('culture', 20702),\n ('sport', 92554),\n ('credit', 20092),\n ('their_qualification_time', 101892),\n ('study', 94617),\n ('abroad', 117),\n ('covid_response', 19653),\n ('consist', 16752),\n ('team_volunteer', 98178),\n ('scientific_research_background', 85998),\n ('upper', 111701),\n ('solution_problem', 90904),\n ('arise', 5879),\n ('editor', 27412),\n ...]"
     },
     "execution_count": 207,
     "metadata": {},
     "output_type": "execute_result"
    }
   ],
   "source": [
    "tmp_words"
   ],
   "metadata": {
    "collapsed": false,
    "pycharm": {
     "name": "#%%\n"
    }
   }
  },
  {
   "cell_type": "code",
   "execution_count": 54,
   "outputs": [],
   "source": [
    "def custom_cmp(item1, item2):\n",
    "    return item1[1] - item2[1]"
   ],
   "metadata": {
    "collapsed": false,
    "pycharm": {
     "name": "#%%\n"
    }
   }
  },
  {
   "cell_type": "code",
   "execution_count": 195,
   "outputs": [],
   "source": [
    "from functools import cmp_to_key"
   ],
   "metadata": {
    "collapsed": false,
    "pycharm": {
     "name": "#%%\n"
    }
   }
  },
  {
   "cell_type": "code",
   "execution_count": 56,
   "outputs": [
    {
     "data": {
      "text/plain": "[('abandon', 0),\n ('abandon_draft_constitution', 1),\n ('abandon_land', 2),\n ('abandon_loyalty', 3),\n ('abandon_mining_site', 4),\n ('abandon_sleeve', 5),\n ('abandonment', 6),\n ('abandonment_land_intensification', 7),\n ('abandonment_terrace', 8),\n ('abate', 9),\n ('abatement_enterprise', 10),\n ('abatement_opportunitie_technological_innovation', 11),\n ('abatement_opportunity', 12),\n ('abattoir_blood_sample', 13),\n ('abbey', 14),\n ('abbey_arts_council_screen', 15),\n ('abbey_convenience_retail_consulting_green_cross_pharmacy_limerick_university_pharmacy_blackberry',\n  16),\n ('abbreviate', 17),\n ('abbreviate_special_follow_initial_regulation', 18),\n ('abbreviation', 19),\n ('abbreviation_code', 20),\n ('abdal_traveller_population', 21),\n ('abdicate', 22),\n ('abdominal_pain_nausea_fatigue', 23),\n ('abeyance_accordance', 24),\n ('abhorrent', 25),\n ('abide', 26),\n ('abide_code_conduct', 27),\n ('abide_environmental_standard', 28),\n ('abide_government_guideline', 29),\n ('abide_health_safety_precaution', 30),\n ('abide_medical_advice_self_isolate', 31),\n ('abide_public_health_advice', 32),\n ('abigail', 33),\n ('abilitie', 34),\n ('ability', 35),\n ('ability_access_good_service_technology', 36),\n ('ability_analyse_knowledge', 37),\n ('ability_authority', 38),\n ('ability_aviation', 39),\n ('ability_aviation_sector', 40),\n ('ability_bank', 41),\n ('ability_candidate', 42),\n ('ability_capacity_party_service_provider', 43),\n ('ability_carrier', 44),\n ('ability_carrier_survive', 45),\n ('ability_citizen', 46),\n ('ability_city_function', 47),\n ('ability_community', 48),\n ('ability_company', 49),\n ('ability_company_worker', 50),\n ('ability_condense_idea', 51),\n ('ability_connect_requirement', 52),\n ('ability_counter_crisis_trend', 53),\n ('ability_county_county', 54),\n ('ability_couple_digital_transition', 55),\n ('ability_court', 56),\n ('ability_customer', 57),\n ('ability_defence_industry', 58),\n ('ability_enforcement_gain_access', 59),\n ('ability_engage_municipality', 60),\n ('ability_enterprise', 61),\n ('ability_entrepreneurship_business', 62),\n ('ability_finance_investment', 63),\n ('ability_fiscal_stimulus_scale_need_economy', 64),\n ('ability_food_irradiation', 65),\n ('ability_government', 66),\n ('ability_harness_transformative_capacity', 67),\n ('ability_incentive_information', 68),\n ('ability_increase_competitiveness_productivity', 69),\n ('ability_industry', 70),\n ('ability_institution', 71),\n ('ability_investor', 72),\n ('ability_issuer', 73),\n ('ability_leadership_class_supercomputer', 74),\n ('ability_learner_self', 75),\n ('ability_leverage_share_datum', 76),\n ('ability_member_state', 77),\n ('ability_member_state_funding', 78),\n ('ability_mortgage_obligation_rental_fee', 79),\n ('ability_mount_immune_response', 80),\n ('ability_nation', 81),\n ('ability_passenger', 82),\n ('ability_point', 83),\n ('ability_possibility', 84),\n ('ability_preference', 85),\n ('ability_prevent', 86),\n ('ability_progress', 87),\n ('ability_provider', 88),\n ('ability_provider_number_independent_interpersonal_communication_service',\n  89),\n ('ability_purchase_grocery', 90),\n ('ability_railway_undertaking_survive', 91),\n ('ability_recover', 92),\n ('ability_reform', 93),\n ('ability_regulation', 94),\n ('ability_repay', 95),\n ('ability_resource', 96),\n ('ability_retailer', 97),\n ('ability_reviewer', 98),\n ('ability_shape_world', 99),\n ('ability_simulate', 100),\n ('ability_single_market', 101),\n ('ability_society', 102),\n ('ability_support_economy', 103),\n ('ability_support_member', 104),\n ('ability_support_member_state', 105),\n ('ability_support_role', 106),\n ('ability_track', 107),\n ('ability_trade', 108),\n ('ability_trade_union_worker_representative', 109),\n ('ability_transform_bathroom', 110),\n ('ability_transition', 111),\n ('ability_trust_greenness_bond_size', 112),\n ('ability_union', 113),\n ('ability_union_capital_market', 114),\n ('ability_union_company', 115),\n ('ability_virus_cause', 116),\n ('ability_west', 117),\n ('ability_withstand_shock', 118),\n ('ability_work', 119),\n ('abiotic', 120),\n ('able', 121),\n ('able_access', 122),\n ('able_access_care', 123),\n ('able_access_facility_expertise', 124),\n ('able_access_financial_service', 125),\n ('able_access_online_service', 126),\n ('able_access_subject_percentage_mark', 127),\n ('able_access_support', 128),\n ('able_adapt', 129),\n ('able_adapt_change_implementation_context', 130),\n ('able_address', 131),\n ('able_address_soil_relate_emission', 132),\n ('able_apply_trading_company', 133),\n ('able_approve_funding_project', 134),\n ('able_assess_impact', 135),\n ('able_assess_situation', 136),\n ('able_available_fund', 137),\n ('able_benefit', 138),\n ('able_bird', 139),\n ('able_boost_efficiency_economy_potential', 140),\n ('able_cash_resource', 141),\n ('able_cater_cross', 142),\n ('able_charter_special_flight', 143),\n ('able_claim_benefit', 144),\n ('able_commission', 145),\n ('able_complete_necessary_formality', 146),\n ('able_complete_necessary_formality_procedure', 147),\n ('able_compliance', 148),\n ('able_comply', 149),\n ('able_cover', 150),\n ('able_defer_payment_employer_contribution_preliminary_salary_value', 151),\n ('able_delivery', 152),\n ('able_demonstrate_going_basis', 153),\n ('able_demonstrate_satisfaction_revenue_minimum_decline_turnover', 154),\n ('able_effectively_challenge_barrier', 155),\n ('able_effectively_challenge_court_reason_removal', 156),\n ('able_escape_college_early_study_library', 157),\n ('able_exist_fuel_supply_airport', 158),\n ('able_fund_final_phase', 159),\n ('able_generate_revenue', 160),\n ('able_guarantee_care_task', 161),\n ('able_home', 162),\n ('able_hotel_accommodation', 163),\n ('able_implement_measure', 164),\n ('able_interact_question', 165),\n ('able_involved_negotiation', 166),\n ('able_issue', 167),\n ('able_issue_guideline', 168),\n ('able_launch', 169),\n ('able_link_datum', 170),\n ('able_mainstream_scale_innovative_curricula', 171),\n ('able_match', 172),\n ('able_maximum_final_price_good_service', 173),\n ('able_measure_effectiveness_measure', 174),\n ('able_meet_challenge_industry', 175),\n ('able_meet_employment_requirement_order', 176),\n ('able_meet_requirement', 177),\n ('able_molecular_docking', 178),\n ('able_nice_meal_cinema', 179),\n ('able_offer_correct_detailed_credible_information', 180),\n ('able_offer_good_service_passenger', 181),\n ('able_offer_resource_tool_access_service_level_example_cloud_base_tool',\n  182),\n ('able_offer_work', 183),\n ('able_offset', 184),\n ('able_open_level_activity', 185),\n ('able_operate_model_unify_communication_voice', 186),\n ('able_operate_route_slot', 187),\n ('able_order', 188),\n ('able_overcome_address', 189),\n ('able_participate_consortium', 190),\n ('able_participate_stage_education', 191),\n ('able_payment_hotel_service_tourist_event', 192),\n ('able_perform_fuel', 193),\n ('able_place', 194),\n ('able_plan_supply', 195),\n ('able_preparatory_work', 196),\n ('able_preparatory_work_commerce_package_national_level', 197),\n ('able_preserve', 198),\n ('able_process', 199),\n ('able_process_datum', 200),\n ('able_process_personal_datum', 201),\n ('able_process_store', 202),\n ('able_provide_help', 203),\n ('able_react', 204),\n ('able_receive_certificate_temporary_suspension_citizenship_ceremony', 205),\n ('able_receive_request_personal_datum', 206),\n ('able_reclaim_expenditure_employee', 207),\n ('able_recover', 208),\n ('able_recovery_solid_path', 209),\n ('able_recruit_personnel', 210),\n ('able_recruit_staff', 211),\n ('able_redeploy', 212),\n ('able_reopen', 213),\n ('able_reply_public_consultation', 214),\n ('able_request', 215),\n ('able_request_continue_provision_information_paper', 216),\n ('able_require_employer', 217),\n ('able_respond', 218),\n ('able_respond_challenge', 219),\n ('able_respond_date', 220),\n ('able_respond_quickly_base_structured_coherent_centralized_approach_level',\n  221),\n ('able_responsive_change_need', 222),\n ('able_restart', 223),\n ('able_restart_collection', 224),\n ('able_resume', 225),\n ('able_retain_option', 226),\n ('able_return_normality', 227),\n ('able_return_school', 228),\n ('able_secure_funding', 229),\n ('able_select_installer', 230),\n ('able_serve_channel', 231),\n ('able_service', 232),\n ('able_spot_change_virus', 233),\n ('able_supply', 234),\n ('able_supply_blend_fuel', 235),\n ('able_support', 236),\n ('able_support_member_state', 237),\n ('able_support_member_state_criminal_investigation', 238),\n ('able_support_project', 239),\n ('able_support_provision_gigabit_connection', 240),\n ('able_support_strengthen_action_member_state', 241),\n ('able_train_test_validate_algorithms_development_tool', 242),\n ('able_transfer_airport_onward_flight', 243),\n ('able_travel', 244),\n ('able_travel_experience_wealth_cultural_heritage_attraction', 245),\n ('able_trigger_investment', 246),\n ('able_trigger_treaty_state_state_dispute_settlement_mechanism', 247),\n ('able_verify_authenticity_validity_integrity_certificate', 248),\n ('able_warehouse_certain_liability', 249),\n ('able_willing_adopt_carbon_circular_technology', 250),\n ('able_withstand_attack_antimicrobial_drug', 251),\n ('able_work', 252),\n ('ably_demonstrate_documentary_series_hunger', 253),\n ('ably_district_engineer_team', 254),\n ('abnormal', 255),\n ('abnormal_brain_activity', 256),\n ('abnormal_change_coliform_bacteria_number_water', 257),\n ('abnormal_situation', 258),\n ('abnormally', 259),\n ('abnormally_high_level_crime_child', 260),\n ('aboard', 261),\n ('abolish', 262),\n ('abolish_benefit', 263),\n ('abolish_obligation_employer', 264),\n ('abolish_variation_minimum_wage_young_people', 265),\n ('abolishment', 266),\n ('abolishment_deduction', 267),\n ('abolishment_political_government_member', 268),\n ('abolition', 269),\n ('abolition_exemption_special_regime', 270),\n ('abolition_exist_category_resource_establishment_category', 271),\n ('abolition_mobility', 272),\n ('abolition_obligation', 273),\n ('abolition_posterior_review_law', 274),\n ('abolition_remain_covid_related_barrier_number_priority_obstacle_national_enforcement_implementation_issue',\n  275),\n ('abolition_smoothing', 276),\n ('abolition_smoothing_mechanism', 277),\n ('abolition_special_criminal_court', 278),\n ('abolition_special_criminal_court_council_civil_liberty', 279),\n ('abort', 280),\n ('abortion', 281),\n ('abortion_legislation', 282),\n ('abortion_procedure', 283),\n ('abortion_right_breach', 284),\n ('abortus', 285),\n ('abrasive_tool', 286),\n ('abrasiveness_trap_high_achieve_woman', 287),\n ('abreast', 288),\n ('abreast_development_technology', 289),\n ('abridge_version_guidance', 290),\n ('abroad', 291),\n ('abroad_accordance', 292),\n ('abroad_city', 293),\n ('abroad_global_competition', 294),\n ('abroad_know_contact', 295),\n ('abroad_respect', 296),\n ('abroad_robust_wage_credit_growth', 297),\n ('abroad_talente_socially_disadvantaged_student', 298),\n ('abroad_work', 299),\n ('abroad_work_limited_period', 300),\n ('abroad_work_research_innovation', 301),\n ('abrogate', 302),\n ('abrupt', 303),\n ('abrupt_considerable_deterioration_public_finance', 304),\n ('abrupt_deterioration_outlook_eastern', 305),\n ('abrupt_government_reshuffle', 306),\n ('abrupt_halt', 307),\n ('abrupt_halt_measure', 308),\n ('abrupt_halt_previously_observe_job_growth', 309),\n ('abrupt_period', 310),\n ('abrupt_reduction_activity', 311),\n ('abrupt_sharp_decrease_activity', 312),\n ('abrupt_sharp_decrease_activity_revenue', 313),\n ('abrupt_termination_mandate', 314),\n ('abruptly', 315),\n ('absconding_movement', 316),\n ('absence', 317),\n ('absence_action', 318),\n ('absence_action_union_exist_regulatory_framework', 319),\n ('absence_agreement', 320),\n ('absence_agreement_article', 321),\n ('absence_agreement_parliament', 322),\n ('absence_amendment', 323),\n ('absence_approach_innovation_area_enforcement_light_technological_development',\n  324),\n ('absence_approach_innovation_area_enforcement_national_enforcement_authority',\n  325),\n ('absence_case', 326),\n ('absence_case_management', 327),\n ('absence_clarity_gender', 328),\n ('absence_code_ethic_member_government_member_parliament', 329),\n ('absence_coherent_oversight_framework_single', 330),\n ('absence_coherent_testing_framework_mutual_acceptance_testing_result', 331),\n ('absence_complementary_policy', 332),\n ('absence_contamination', 333),\n ('absence_contamination_extraneous_agent', 334),\n ('absence_control', 335),\n ('absence_control_person', 336),\n ('absence_core_comprehensive_network', 337),\n ('absence_crisis', 338),\n ('absence_dedicated_datum_collection_verification', 339),\n ('absence_dedicated_funding_level', 340),\n ('absence_development_core_comprehensive_network_baseline_scenario', 341),\n ('absence_discrimination_indicator_refinement_indicator_level', 342),\n ('absence_dock', 343),\n ('absence_double_finance_legal_empowerment_administrative_capacity_control_function_commission_coordination',\n  344),\n ('absence_effect_compliance', 345),\n ('absence_effective_demand', 346),\n ('absence_effective_strategy', 347),\n ('absence_emergency_stock', 348),\n ('absence_family_care', 349),\n ('absence_firearm', 350),\n ('absence_flexibility', 351),\n ('absence_improvement', 352),\n ('absence_independent_oversight_body_aspect', 353),\n ('absence_information', 354),\n ('absence_initiative', 355),\n ('absence_land_registry', 356),\n ('absence_level', 357),\n ('absence_level_action', 358),\n ('absence_margin_room_redeployment', 359),\n ('absence_material_difference', 360),\n ('absence_measure', 361),\n ('absence_member', 362),\n ('absence_period', 363),\n ('absence_pharmacopoeia_monograph_monograph_member_state_pharmacopoeia', 364),\n ('absence_policy', 365),\n ('absence_post_employment_rule', 366),\n ('absence_production_commercial_scale', 367),\n ('absence_programmatic_approach', 368),\n ('absence_protection', 369),\n ('absence_provision', 370),\n ('absence_purification_step', 371),\n ('absence_reference_laboratory_network_official_laboratory_detection', 372),\n ('absence_regular_competition', 373),\n ('absence_regulation', 374),\n ('absence_regulation_support_network', 375),\n ('absence_renewal_appropriate_measure', 376),\n ('absence_request_information_delay', 377),\n ('absence_resistance_gene_absence_gene', 378),\n ('absence_restriction', 379),\n ('absence_reversion_virulence_target_animal_specie', 380),\n ('absence_slot_relief_cost', 381),\n ('absence_slot_waiver_airline', 382),\n ('absence_support', 383),\n ('absence_symptom', 384),\n ('absence_traffic', 385),\n ('absence_uniform_criterion', 386),\n ('absence_uptake', 387),\n ('absence_vaccine_economy_broad_society', 388),\n ('absence_viable_alternative_global_level', 389),\n ('absence_waiver', 390),\n ('absence_year', 391),\n ('absent', 392),\n ('absent_challenge_entire_industrial_cluster_industrial_electricity_demand',\n  393),\n ('absent_employer', 394),\n ('absent_hydrogen', 395),\n ('absent_member_govern_board_delegate_vote_alternate_absence', 396),\n ('absent_worker', 397),\n ('absentee_rate', 398),\n ('absenteeism', 399),\n ('absenteeism_early_school', 400),\n ('absenteeism_productivity_loss_insurance_payment', 401),\n ('absolute', 402),\n ('absolute_circumstance', 403),\n ('absolute_commitment_government', 404),\n ('absolute_consensus', 405),\n ('absolute_diff', 406),\n ('absolute_figure', 407),\n ('absolute_level_indebtedness_high_rise_financing_condition', 408),\n ('absolute_majority', 409),\n ('absolute_majority_event_second_vote', 410),\n ('absolute_majority_parliament', 411),\n ('absolute_majority_vote', 412),\n ('absolute_maximum_weekly_maximum_hour', 413),\n ('absolute_minimum', 414),\n ('absolute_minimum_physical_distance', 415),\n ('absolute_necessity', 416),\n ('absolute_number', 417),\n ('absolute_number_available_percentage_total_need', 418),\n ('absolute_number_case', 419),\n ('absolute_number_learner', 420),\n ('absolute_number_people', 421),\n ('absolute_number_relative_population', 422),\n ('absolute_poverty', 423),\n ('absolute_priority', 424),\n ('absolute_priority_battle_covid', 425),\n ('absolute_priority_government', 426),\n ('absolute_priority_overall_response', 427),\n ('absolute_quantity', 428),\n ('absolute_relative_income_indicator', 429),\n ('absolute_relative_minimum_wage_metric_change', 430),\n ('absolute_right', 431),\n ('absolute_term', 432),\n ('absolute_term_comparison', 433),\n ('absolute_term_difference_transport_activity_high_speed_rail', 434),\n ('absolute_world_leader', 435),\n ('absolutely', 436),\n ('absolutely_accurate_term', 437),\n ('absolutely_essential_employee', 438),\n ('absolutely_essential_essential_retail_outlet', 439),\n ('absolutely_essential_rethink', 440),\n ('absolutely_exceptional_context_covid', 441),\n ('absolutely_initiative_trade_union', 442),\n ('absolutely_minimum_protection_holder', 443),\n ('absolutely_necessary', 444),\n ('absolutely_necessary_appointment', 445),\n ('absolutely_necessary_attend_person', 446),\n ('absolutely_necessary_attend_person_public_transport_capacity', 447),\n ('absolutely_necessary_comprehensive_list_measure', 448),\n ('absolutely_necessary_need_essential_purpose_wear_mask', 449),\n ('absolutely_necessary_people_high_risk', 450),\n ('absolutely_necessary_protect_people', 451),\n ('absolutely_necessary_protect_public_health_example', 452),\n ('absolutely_necessary_restriction', 453),\n ('absolutely_necessary_salute_intention_simplification_flexibility', 454),\n ('absolutely_necessary_school', 455),\n ('absolutely_right_thing_order', 456),\n ('absolutely_room', 457),\n ('absolutely_room_complacency', 458),\n ('absolutely_supportive_policy_measure_long_term_impact', 459),\n ('absolutely_value_contribution', 460),\n ('absolutely_vital_local_community', 461),\n ('absolve', 462),\n ('absorb', 463),\n ('absorb_capacity_option', 464),\n ('absorb_dose', 465),\n ('absorb_dose_requirement', 466),\n ('absorb_grass_strip', 467),\n ('absorb_guidance_directive_blue_guide', 468),\n ('absorb_impact_crisis_return_product', 469),\n ('absorb_loss', 470),\n ('absorb_resource', 471),\n ('absorb_resource_order', 472),\n ('absorb_union_fund', 473),\n ('absorption', 474),\n ('absorption_capacity', 475),\n ('absorption_capacity_factor_cost_estimate', 476),\n ('absorption_distribution_metabolism_excretion', 477),\n ('absorption_fund', 478),\n ('absorption_insufficient_focus_result', 479),\n ('absorption_pathway', 480),\n ('absorption_pit', 481),\n ('absorption_rate_percentage_total_allocate_member_state', 482),\n ('absorption_recovery_resilience_facility_resource', 483),\n ('absorptive_capacity', 484),\n ('abstain', 485),\n ('abstained', 486),\n ('abstention', 487),\n ('abstention_century', 488),\n ('abstention_opinion_taxation_collaborative_economy_reporting_requirement',\n  489),\n ('abstention_point', 490),\n ('abstract', 491),\n ('abstract_guideline', 492),\n ('abstract_term', 493),\n ('abstraction', 494),\n ('abstraction_area', 495),\n ('abstraction_point', 496),\n ('abstraction_point_instance', 497),\n ('abstraction_point_treatment_storage_distribution_water_point_supply', 498),\n ('abstraction_river', 499),\n ('abstraction_treatment_storage_distribution_water', 500),\n ('abstraction_treatment_storage_distribution_water_risk_assessment_risk_management_supply',\n  501),\n ('abstraction_water', 502),\n ('abstractly', 503),\n ('absurd', 504),\n ('absurdly', 505),\n ('abundance', 506),\n ('abundance_idea_knowledge_readiness_innovation', 507),\n ('abundance_information', 508),\n ('abundant', 509),\n ('abundant_affordable_electricity_additional_effort', 510),\n ('abundant_affordable_renewable_energy_constraint_development_clean_hydrogen_application',\n  511),\n ('abundant_competitively_price_electricity', 512),\n ('abundant_computing_power', 513),\n ('abundant_light_element', 514),\n ('abundant_opportunity', 515),\n ('abundant_resource', 516),\n ('abundant_return', 517),\n ('abundant_robust_evidence', 518),\n ('abundantly', 519),\n ('abuse', 520),\n ('abuse_access_transfer', 521),\n ('abuse_atypical_contract', 522),\n ('abuse_aviation_sector', 523),\n ('abuse_child', 524),\n ('abuse_credit_credit_purchaser_vulture_fund', 525),\n ('abuse_cross_border_service', 526),\n ('abuse_cross_border_service_criminal', 527),\n ('abuse_cross_border_service_criminal_criminal', 528),\n ('abuse_cross_border_service_criminal_policy_option', 529),\n ('abuse_cross_border_service_criminal_problem', 530),\n ('abuse_cross_border_service_criminal_problem_datum_challenge_enforcement_authority',\n  531),\n ('abuse_cross_border_service_criminal_process_datum', 532),\n ('abuse_dependence', 533),\n ('abuse_derogation', 534),\n ('abuse_disabled_dependent', 535),\n ('abuse_effect', 536),\n ('abuse_election_process', 537),\n ('abuse_fraud', 538),\n ('abuse_journalist_supporter', 539),\n ('abuse_modern_technology', 540),\n ('abuse_modern_technology_criminal', 541),\n ('abuse_office', 542),\n ('abuse_office_bribery_trading_influence', 543),\n ('abuse_potential', 544),\n ('abuse_potential_hand', 545),\n ('abuse_power_failure', 546),\n ('abuse_power_public_business_sector', 547),\n ('abuse_private_party', 548),\n ('abuse_profit', 549),\n ('abuse_profit_recommendation', 550),\n ('abuse_status', 551),\n ('abuse_survivor', 552),\n ('abuse_undertaking_contracting_transport_service', 553),\n ('abuse_violence', 554),\n ('abuse_waste_valuable_resource', 555),\n ('abused', 556),\n ('abuser', 557),\n ('abusive_corruption_investigation', 558),\n ('abusive_discriminatory_repressive_action', 559),\n ('abusive_doorstep', 560),\n ('abusive_employer', 561),\n ('abusive_lawsuit', 562),\n ('abusive_lawsuit_violence', 563),\n ('abusive_partner', 564),\n ('abusive_relationship', 565),\n ('abusive_relationship_minister_justice', 566),\n ('abut', 567),\n ('academia', 568),\n ('academia_business', 569),\n ('academia_business_cooperation', 570),\n ('academia_business_interaction', 571),\n ('academia_business_linkage', 572),\n ('academia_business_linkage_order', 573),\n ('academia_business_policy', 574),\n ('academia_civil_society', 575),\n ('academia_corporate_sector', 576),\n ('academia_entrepreneur_research_institution', 577),\n ('academia_euro_funding', 578),\n ('academia_government_industry', 579),\n ('academia_industry', 580),\n ('academia_industry_civil_society', 581),\n ('academia_industry_government', 582),\n ('academia_industry_policy_maker_citizen', 583),\n ('academia_industry_policy_maker_regulator', 584),\n ('academia_industry_public_sector', 585),\n ('academia_private_sector', 586),\n ('academia_research_business_public_authority_individual', 587),\n ('academia_research_industry', 588),\n ('academia_sector', 589),\n ('academia_social_partner', 590),\n ('academia_tourism', 591),\n ('academia_voucher', 592),\n ('academic', 593),\n ('academic_academic_sector', 594),\n ('academic_achievement', 595),\n ('academic_achievement_school', 596),\n ('academic_application_community_university_research_development_innovation_council_verification_absorption_capacity',\n  597),\n ('academic_background', 598),\n ('academic_book_journal', 599),\n ('academic_business_association_business', 600),\n ('academic_business_circle', 601),\n ('academic_business_world', 602),\n ('academic_career_grant_agreement', 603),\n ('academic_category_pillar', 604),\n ('academic_category_total_place', 605),\n ('academic_chair_financing_creation', 606),\n ('academic_clinical_partnership', 607),\n ('academic_clinical_partnership_committee', 608),\n ('academic_community', 609),\n ('academic_community_sector', 610),\n ('academic_concern', 611),\n ('academic_consortium', 612),\n ('academic_consumer_civil_society', 613),\n ('academic_consumer_civil_society_stakeholder_trade_union', 614),\n ('academic_digital_security_researcher', 615),\n ('academic_discipline', 616),\n ('academic_entrepreneurship_policy_tool', 617),\n ('academic_environment', 618),\n ('academic_environment_milestone_strategy_university', 619),\n ('academic_environment_milestone_strategy_university_government_adoption_strategy_adoption_strategy_university',\n  620),\n ('academic_environment_target_number_project', 621),\n ('academic_environment_target_support_person_month', 622),\n ('academic_expert', 623),\n ('academic_expert_association_estado_association_prosecutor', 624),\n ('academic_expert_innovation', 625),\n ('academic_focus_exist_study', 626),\n ('academic_freedom', 627),\n ('academic_freedom_autonomy', 628),\n ('academic_freedom_country', 629),\n ('academic_freedom_high_education_institution', 630),\n ('academic_freedom_integrity_institutional_autonomy_form_backbone_university',\n  631),\n ('academic_freedom_integrity_institutional_autonomy_participation_student',\n  632),\n ('academic_freedom_integrity_institutional_autonomy_shield_student_researcher',\n  633),\n ('academic_freedom_link', 634),\n ('academic_freedom_opportunity_curiosity', 635),\n ('academic_guidance', 636),\n ('academic_healthcare_professional', 637),\n ('academic_high_education', 638),\n ('academic_independent_research_network', 639),\n ('academic_institution', 640),\n ('academic_institution_hospital', 641),\n ('academic_institution_university_college_trinity_college_royal_college_surgeon_university_college_cork_national_university_university_limerick',\n  642),\n ('academic_literature', 643),\n ('academic_literature_recent_experience', 644),\n ('academic_literature_restaurant', 645),\n ('academic_literature_theme', 646),\n ('academic_paper_base_result_research_action', 647),\n ('academic_paper_work_paper_report', 648),\n ('academic_partner_program', 649),\n ('academic_performance', 650),\n ('academic_perspective', 651),\n ('academic_professional_achievement_doctorate_governance_master_management_behaviour',\n  652),\n ('academic_project_university', 653),\n ('academic_qualification', 654),\n ('academic_quality_criterion_creation_recognition_accreditation_university',\n  655),\n ('academic_recognition_diploma', 656),\n ('academic_representative', 657),\n ('academic_representative_business_farming_community_group', 658),\n ('academic_research', 659),\n ('academic_research_body', 660),\n ('academic_research_community', 661),\n ('academic_research_effort', 662),\n ('academic_research_institution', 663),\n ('academic_research_institution_business_association_company_business_consumer_citizen_citizen',\n  664),\n ('academic_research_institution_business_business_association', 665),\n ('academic_research_institution_degree_company', 666),\n ('academic_research_involvement', 667),\n ('academic_research_purpose', 668),\n ('academic_research_relevant_civil_society_association', 669),\n ('academic_researcher', 670),\n ('academic_researcher_expert', 671),\n ('academic_researcher_fact', 672),\n ('academic_sector', 673),\n ('academic_site', 674),\n ('academic_site_investment', 675),\n ('academic_site_milestone_award_contract_construction_university_facility',\n  676),\n ('academic_social_development', 677),\n ('academic_staff', 678),\n ('academic_staff_foreign_university', 679),\n ('academic_staff_student', 680),\n ('academic_stakeholder', 681),\n ('academic_strategic_decision', 682),\n ('academic_study', 683),\n ('academic_study_consumer', 684),\n ('academic_term', 685),\n ('academic_university_college', 686),\n ('academic_vocational_drift_contradiction', 687),\n ('academic_work_paper_report', 688),\n ('academic_year', 689),\n ('academic_year_right_foot_learner_staff_site', 690),\n ('academically', 691),\n ('academie', 692),\n ('academy', 693),\n ('academy_administrative_judiciary', 694),\n ('academy_administrative_judiciary_entry_phase', 695),\n ('academy_fund_commission', 696),\n ('academy_gastronomic_association_vets_association_hotel', 697),\n ('academy_national_employer', 698),\n ('academy_place', 699),\n ('academy_research_funding_scheme', 700),\n ('academy_science', 701),\n ('academy_social_entrepreneur', 702),\n ('accede', 703),\n ('accede_agreement', 704),\n ('accede_country_candidate_country', 705),\n ('accede_country_candidate_country_potential_candidate', 706),\n ('accede_inter_institutional_agreement', 707),\n ('accede_protocol', 708),\n ('accedes', 709),\n ('accelerate', 710),\n ('accelerate_accelerate_climb_climb_climb_takeoff_climb_climb', 711),\n ('accelerate_access_structural_partial_unemployment', 712),\n ('accelerate_activity_investment', 713),\n ('accelerate_adaptation', 714),\n ('accelerate_arrival', 715),\n ('accelerate_aviation_maritime_transport_sector', 716),\n ('accelerate_capital_allowance', 717),\n ('accelerate_capital_allowance_scheme', 718),\n ('accelerate_change', 719),\n ('accelerate_climb', 720),\n ('accelerate_climb_climb_climb', 721),\n ('accelerate_compliance', 722),\n ('accelerate_delivery', 723),\n ('accelerate_delivery_justice', 724),\n ('accelerate_delivery_project', 725),\n ('accelerate_depreciation', 726),\n ('accelerate_development', 727),\n ('accelerate_digital_transition_structural_transformation', 728),\n ('accelerate_discovery_drug', 729),\n ('accelerate_economic_growth', 730),\n ('accelerate_effort', 731),\n ('accelerate_energy_transition_industry', 732),\n ('accelerate_erosion_protection_shed_basin', 733),\n ('accelerate_fostered_interoperability', 734),\n ('accelerate_green_transition', 735),\n ('accelerate_growth_rate_hand', 736),\n ('accelerate_implementation_core_network', 737),\n ('accelerate_implementation_emission_zone_municipality', 738),\n ('accelerate_implementation_government_project', 739),\n ('accelerate_implementation_national_strategy', 740),\n ('accelerate_implementation_phase_project', 741),\n ('accelerate_improvement', 742),\n ('accelerate_initiative', 743),\n ('accelerate_investment', 744),\n ('accelerate_main_transport_corridor', 745),\n ('accelerate_market', 746),\n ('accelerate_market_penetration_zero_emission_vehicle_vessel', 747),\n ('accelerate_matchmaking', 748),\n ('accelerate_measure_town_village_renewal_scheme', 749),\n ('accelerate_modal_shift', 750),\n ('accelerate_option', 751),\n ('accelerate_penetration_integrate_technological_innovation', 752),\n ('accelerate_phase_coal_peat', 753),\n ('accelerate_plan', 754),\n ('accelerate_procedure', 755),\n ('accelerate_procedure_company', 756),\n ('accelerate_process', 757),\n ('accelerate_process_integration', 758),\n ('accelerate_production_process', 759),\n ('accelerate_progress', 760),\n ('accelerate_reduction_emission', 761),\n ('accelerate_reduction_particulate_matter_emission_concentration_particular_agglomeration_area',\n  762),\n ('accelerate_region', 763),\n ('accelerate_renovation_building', 764),\n ('accelerate_return_growth_business_fund', 765),\n ('accelerate_roll_network', 766),\n ('accelerate_roll_vaccine', 767),\n ('accelerate_sector', 768),\n ('accelerate_shift', 769),\n ('accelerate_simplify_procurement_procedure', 770),\n ('accelerate_smart_manufacturing', 771),\n ('accelerate_support_town_village', 772),\n ('accelerate_transfer_technology_diffusion_innovation', 773),\n ('accelerate_transition', 774),\n ('accelerate_transition_climate_neutral_economy', 775),\n ('accelerate_transition_sustainable_climate_resilient_economy', 776),\n ('accelerate_vaccination', 777),\n ('accelerate_vaccination_campaign', 778),\n ('accelerate_vaccine', 779),\n ('accelerate_work', 780),\n ('accelerated', 781),\n ('accelerated_depreciation', 782),\n ('accelerated_digital_revolution', 783),\n ('accelerated_measure', 784),\n ('accelerated_project_plan', 785),\n ('acceleration', 786),\n ('acceleration_approval_process_contract', 787),\n ('acceleration_authorization_process_project', 788),\n ('acceleration_brain', 789),\n ('acceleration_building_permit_process_process_decrease_number_regulatory_authority',\n  790),\n ('acceleration_building_process', 791),\n ('acceleration_building_process_investment', 792),\n ('acceleration_building_process_investment_creation_central_information_milestone_central_information',\n  793),\n ('acceleration_building_process_investment_development_public_administration_datum_spatial_planning_milestone_creation_database_spatial_analytical_documentation',\n  794),\n ('acceleration_building_process_reform_implementation_construction', 795),\n ('acceleration_country', 796),\n ('acceleration_country_vaccination', 797),\n ('acceleration_covid', 798),\n ('acceleration_covid_vaccine', 799),\n ('acceleration_cycle', 800),\n ('acceleration_delay', 801),\n ('acceleration_deployment', 802),\n ('acceleration_different_administration_service', 803),\n ('acceleration_digitalization_building_permit_process', 804),\n ('acceleration_digitalization_building_process', 805),\n ('acceleration_economic_activity', 806),\n ('acceleration_expansion_network_publicly_accessible_electric_vehicle_charge_station',\n  807),\n ('acceleration_funding', 808),\n ('acceleration_implementation', 809),\n ('acceleration_knowledge_transfer_idea_product', 810),\n ('acceleration_national_broadband_plan_review_treatment_remote_working_purpose',\n  811),\n ('acceleration_planning_approval_procedure', 812),\n ('acceleration_public_administration', 813),\n ('acceleration_public_social_security_institution', 814),\n ('acceleration_rail_sector_plan', 815),\n ('acceleration_recovery', 816),\n ('acceleration_refund', 817),\n ('acceleration_refund_framework_fight', 818),\n ('acceleration_refund_measure', 819),\n ('acceleration_renovation_building', 820),\n ('acceleration_roll_rural_broadband', 821),\n ('acceleration_roll_vaccine_restriction_internal_border', 822),\n ('acceleration_service', 823),\n ('acceleration_simplification_public_action_asap', 824),\n ('acceleration_social_taxonomy_development', 825),\n ('acceleration_start', 826),\n ('acceleration_strategy', 827),\n ('acceleration_translation', 828),\n ('acceleration_transport_infrastructure', 829),\n ('acceleration_transport_infrastructure_work', 830),\n ('acceleration_transport_infrastructure_work_target_project', 831),\n ('acceleration_vaccination', 832),\n ('acceleration_work_transport_infrastructure_cross_network_revision_digital_maritime_affair',\n  833),\n ('acceleration_work_transport_infrastructure_purpose_measure', 834),\n ('accelerator', 835),\n ('accelerator_blend_finance_equity_financial_support_form', 836),\n ('accelerator_bridging_financing', 837),\n ('accelerator_budget', 838),\n ('accelerator_criterion', 839),\n ('accelerator_financial_support', 840),\n ('accelerator_intend_bridge_valley_death', 841),\n ('accelerator_market_deployment_solution', 842),\n ('accelerator_scheme', 843),\n ('accelerator_supercomputer', 844),\n ('accelerator_support', 845),\n ('accelerator_tangent', 846),\n ('accentuate', 847),\n ('accentuate_covid_pandemic', 848),\n ('accentuated', 849),\n ('accentuated_importance_fair_remuneration', 850),\n ('accept', 851),\n ('accept_booking', 852),\n ('accept_bribe', 853),\n ('accept_candidate_datum', 854),\n ('accept_employer', 855),\n ('accept_evidence', 856),\n ('accept_extension_public_health_measure', 857),\n ('accept_plan', 858),\n ('accept_public_administration', 859),\n ('accept_public_prosecutor_office', 860),\n ('accept_quarter_member_state_order', 861),\n ('accept_resignation', 862),\n ('accept_stake', 863),\n ('accept_transfer_proposal_person', 864),\n ('acceptability', 865),\n ('acceptability_product_batch_foodstuff_applicable_product', 866),\n ('acceptability_technology_methodology_tool', 867),\n ('acceptable', 868),\n ('acceptable_alternative_hand', 869),\n ('acceptable_citizen', 870),\n ('acceptable_consumer_abnormal_change_colony', 871),\n ('acceptable_council_compliance', 872),\n ('acceptable_error_rate_control_burden', 873),\n ('acceptable_facilitate_international_operation', 874),\n ('acceptable_fair_distribution_discriminatory_enforcement_obligation', 875),\n ('acceptable_fully_justify_benefit', 876),\n ('acceptable_ground_cancellation_employment_relationship', 877),\n ('acceptable_know_advance', 878),\n ('acceptable_level', 879),\n ('acceptable_level_assurance', 880),\n ('acceptable_level_efficacy', 881),\n ('acceptable_level_exposure', 882),\n ('acceptable_level_exposure_facilitate_work_inspector', 883),\n ('acceptable_level_vaccination', 884),\n ('acceptable_milestone_target', 885),\n ('acceptable_national_authority', 886),\n ('acceptable_price', 887),\n ('acceptable_purpose_salt', 888),\n ('acceptable_short_term_long_term_solution', 889),\n ('acceptable_society', 890),\n ('acceptable_standard_good_practice', 891),\n ('acceptable_subject_ability_nursing_home_manage', 892),\n ('acceptance', 893),\n ('acceptance_application', 894),\n ('acceptance_cash', 895),\n ('acceptance_cash_level', 896),\n ('acceptance_certificate', 897),\n ('acceptance_covid_certificate', 898),\n ('acceptance_criterion', 899),\n ('acceptance_criterion_control_parameter', 900),\n ('acceptance_criterion_release', 901),\n ('acceptance_criterion_specific_impurity', 902),\n ('acceptance_electronic_identification_digital_transmission_judicial_document_admissibility',\n  903),\n ('acceptance_equipment', 904),\n ('acceptance_form', 905),\n ('acceptance_individual_agreement', 906),\n ('acceptance_member_state', 907),\n ('acceptance_member_state_certificate', 908),\n ('acceptance_personal_responsibility_future_care_planning_illness_management',\n  909),\n ('acceptance_project', 910),\n ('acceptance_project_manager_contracting_authority_contract_digitization_document_management_legal_migration_central_service_ministry_migration_asylum',\n  911),\n ('acceptance_resilience', 912),\n ('acceptance_secure_verifiable_certificate', 913),\n ('acceptance_service_completion', 914),\n ('acceptance_sign_spectrophotometer_airport_custom_control_point', 915),\n ('acceptance_smart_grid_equipment', 916),\n ('acceptance_smooth_implementation_reform', 917),\n ('acceptance_social_partner', 918),\n ('acceptance_society', 919),\n ('acceptance_team', 920),\n ('acceptance_test_result', 921),\n ('acceptance_transfer_document_construction', 922),\n ('acceptance_vaccination_testing_recovery_certificate', 923),\n ('acceptance_vessel_aerial_spray', 924),\n ('acceptance_vessel_aerial_spray_expert', 925),\n ('acceptance_vessel_vessel_length', 926),\n ('acceptance_work', 927),\n ('accepted', 928),\n ('access', 929),\n ('access_abac_accounting', 930),\n ('access_abundant_electricity_right_quantity_quality_material', 931),\n ('access_accelerator_evaluation_phase', 932),\n ('access_acceptance_cash', 933),\n ('access_access_time_pricing_access', 934),\n ('access_acquisition_information_communication_technology_digital_skill',\n  935),\n ('access_activity_credit_institution', 936),\n ('access_activity_investment_firm', 937),\n ('access_adequacy_social_benefit_service', 938),\n ('access_adequate_resource', 939),\n ('access_adequate_software_package', 940),\n ('access_administrative_procedure', 941),\n ('access_admission_exemption', 942),\n ('access_advanced_procurement_opportunity', 943),\n ('access_advice', 944),\n ('access_advice_investment', 945),\n ('access_advice_training', 946),\n ('access_affordability_early_childhood_education_care', 947),\n ('access_affordability_particular_integration_woman', 948),\n ('access_affordability_quality_long_term_care_service', 949),\n ('access_affordable_adequate_housing', 950),\n ('access_affordable_childcare_care', 951),\n ('access_affordable_childcare_child', 952),\n ('access_affordable_energy_area', 953),\n ('access_affordable_housing', 954),\n ('access_affordable_medicine_patient', 955),\n ('access_affordable_public_housing_target_reform', 956),\n ('access_affordable_quality_childcare', 957),\n ('access_affordable_quality_housing_main_determinant_child', 958),\n ('access_affordable_quality_long_term_care', 959),\n ('access_affordable_quality_service', 960),\n ('access_aircraft_operator_aviation_fuel', 961),\n ('access_airport', 962),\n ('access_airport_custom_processing_facility', 963),\n ('access_alert_information', 964),\n ('access_alternative_fuel_line', 965),\n ('access_alternative_innovative_way', 966),\n ('access_alternative_support_service_community', 967),\n ('access_ambulance_service', 968),\n ('access_analysis', 969),\n ('access_analysis_datum_information', 970),\n ('access_appeal_process', 971),\n ('access_apprenticeship_relate_study', 972),\n ('access_appropriate_mental_health_service', 973),\n ('access_appropriate_personal_protective_equipment_worker', 974),\n ('access_appropriate_prevention_promotion_service', 975),\n ('access_appropriate_tool_task', 976),\n ('access_appropriate_transparent_mechanism_appeal', 977),\n ('access_appropriate_wastewater_treatment_additional_population', 978),\n ('access_appropriate_welfare_entitlement_search_assistance_training_opportunity',\n  979),\n ('access_approve_researcher_data_limit_agree_period', 980),\n ('access_archive', 981),\n ('access_assistance_support', 982),\n ('access_associate_country', 983),\n ('access_authentication_scheme', 984),\n ('access_availability', 985),\n ('access_availability_audiovisual_content', 986),\n ('access_availability_countermeasure_level', 987),\n ('access_availability_medicine', 988),\n ('access_availability_medicine_child', 989),\n ('access_available_resource', 990),\n ('access_bank_finance', 991),\n ('access_bank_financing', 992),\n ('access_bank_financing_company', 993),\n ('access_bank_loan', 994),\n ('access_banking_funding', 995),\n ('access_barrier', 996),\n ('access_base_payment_infrastructure', 997),\n ('access_basic_digital_education', 998),\n ('access_basic_income_scheme', 999),\n ...]"
     },
     "execution_count": 56,
     "metadata": {},
     "output_type": "execute_result"
    }
   ],
   "source": [
    "sorted(tmp_words, key=lambda x: x[1])"
   ],
   "metadata": {
    "collapsed": false,
    "pycharm": {
     "name": "#%%\n"
    }
   }
  },
  {
   "cell_type": "markdown",
   "source": [
    "### Generate D3 Graphs"
   ],
   "metadata": {
    "collapsed": false
   }
  },
  {
   "cell_type": "markdown",
   "source": [
    "#### Cosine similarity graph"
   ],
   "metadata": {
    "collapsed": false
   }
  },
  {
   "cell_type": "code",
   "execution_count": 6,
   "outputs": [],
   "source": [
    "def plot_graphs(pipeline: LanguageModelExecutionSteps, model_name: str, model_file_name: str,\n",
    "                threshold: np.float64, word_graph_configs: dict, normalize_func) -> None:\n",
    "    \"\"\"\n",
    "        steps of generating d3 graph, calling the similarity matrix from minio and normalizing it.\n",
    "    Args:\n",
    "        pipeline: Pipeline of language model execution stems\n",
    "        model_name: the name of the model\n",
    "        model_file_name: word2vec file name from MinIO\n",
    "        threshold: the minimum of similarity number\n",
    "        word_graph_configs: dictionary of key words\n",
    "        normalize_func: function of similarity normalization\n",
    "    \"\"\"\n",
    "    model_cosine_matrix = store_registry.minio_feature_store(SIMILARITY_MATRIX_BUCKET_NAME).get_features(\n",
    "        model_file_name)\n",
    "    model_cosine_matrix = model_cosine_matrix.applymap(normalize_func)\n",
    "    for key in word_graph_configs.keys():\n",
    "        create_graph_for_language_model_key_words(model_cosine_matrix,\n",
    "                                                  pipeline.filter_language_model_words().select_key_words(\n",
    "                                                      key_words=word_graph_configs[key]),\n",
    "                                                  model_name=model_name,\n",
    "                                                  metric_threshold=threshold, column_name=key)"
   ],
   "metadata": {
    "collapsed": false,
    "pycharm": {
     "name": "#%%\n"
    }
   }
  },
  {
   "cell_type": "code",
   "execution_count": 7,
   "outputs": [],
   "source": [
    "def execute_language_model_pipeline(model_file_name: str,\n",
    "                                    model_name: str,\n",
    "                                    model_dataset_sources_config: List[tuple],\n",
    "                                    #model_words_pack: dict,\n",
    "                                    #cosine_similarity_matrix: str\n",
    "                                    ):\n",
    "    start = time.time()\n",
    "    print(f'Start execution for {model_name}:')\n",
    "    model_execution_steps = LanguageModelExecutionSteps(language_model_file_name=model_file_name,\n",
    "                                                        model_name=model_name)\n",
    "    model_execution_steps.train_language_model(model_dataset_sources_config)\n",
    "    model_execution_steps.train_similarity_matrices()\n",
    "    # plot_graphs(pipeline=model_execution_steps,\n",
    "    #             model_name=model_name,\n",
    "    #             model_file_name=cosine_similarity_matrix,\n",
    "    #             threshold=0.6,\n",
    "    #             word_graph_configs=model_words_pack,\n",
    "    #             normalize_func=lambda x: 1 - x)\n",
    "    del model_execution_steps\n",
    "    end = time.time()\n",
    "    print(f'Execution finish for {model_name} in:')\n",
    "    print(round((end - start), 4), 'seconds')\n",
    "\n"
   ],
   "metadata": {
    "collapsed": false,
    "pycharm": {
     "name": "#%%\n"
    }
   }
  },
  {
   "cell_type": "code",
   "execution_count": 8,
   "outputs": [],
   "source": [
    "start = 0\n",
    "end = 1"
   ],
   "metadata": {
    "collapsed": false,
    "pycharm": {
     "name": "#%%\n"
    }
   }
  },
  {
   "cell_type": "code",
   "execution_count": null,
   "outputs": [],
   "source": [],
   "metadata": {
    "collapsed": false,
    "pycharm": {
     "name": "#%%\n"
    }
   }
  },
  {
   "cell_type": "code",
   "execution_count": 9,
   "outputs": [
    {
     "name": "stdout",
     "output_type": "stream",
     "text": [
      "Start execution for model1:\n"
     ]
    },
    {
     "ename": "KeyboardInterrupt",
     "evalue": "",
     "output_type": "error",
     "traceback": [
      "\u001B[0;31m---------------------------------------------------------------------------\u001B[0m",
      "\u001B[0;31mKeyboardInterrupt\u001B[0m                         Traceback (most recent call last)",
      "\u001B[0;32m/tmp/ipykernel_445085/3156040882.py\u001B[0m in \u001B[0;36m<module>\u001B[0;34m\u001B[0m\n\u001B[1;32m      5\u001B[0m         \u001B[0;31m#COSINE_SIMILARITY_MATRICES\u001B[0m\u001B[0;34m\u001B[0m\u001B[0;34m\u001B[0m\u001B[0;34m\u001B[0m\u001B[0m\n\u001B[1;32m      6\u001B[0m     ):\n\u001B[0;32m----> 7\u001B[0;31m     execute_language_model_pipeline(model_file_name=model_file_name,\n\u001B[0m\u001B[1;32m      8\u001B[0m                                     \u001B[0mmodel_name\u001B[0m\u001B[0;34m=\u001B[0m\u001B[0mmodel_name\u001B[0m\u001B[0;34m,\u001B[0m\u001B[0;34m\u001B[0m\u001B[0;34m\u001B[0m\u001B[0m\n\u001B[1;32m      9\u001B[0m                                     \u001B[0mmodel_dataset_sources_config\u001B[0m\u001B[0;34m=\u001B[0m\u001B[0mmodel_dataset_sources_config\u001B[0m\u001B[0;34m,\u001B[0m\u001B[0;34m\u001B[0m\u001B[0;34m\u001B[0m\u001B[0m\n",
      "\u001B[0;32m/tmp/ipykernel_445085/4284288090.py\u001B[0m in \u001B[0;36mexecute_language_model_pipeline\u001B[0;34m(model_file_name, model_name, model_dataset_sources_config)\u001B[0m\n\u001B[1;32m      9\u001B[0m     model_execution_steps = LanguageModelExecutionSteps(language_model_file_name=model_file_name,\n\u001B[1;32m     10\u001B[0m                                                         model_name=model_name)\n\u001B[0;32m---> 11\u001B[0;31m     \u001B[0mmodel_execution_steps\u001B[0m\u001B[0;34m.\u001B[0m\u001B[0mtrain_language_model\u001B[0m\u001B[0;34m(\u001B[0m\u001B[0mmodel_dataset_sources_config\u001B[0m\u001B[0;34m)\u001B[0m\u001B[0;34m\u001B[0m\u001B[0;34m\u001B[0m\u001B[0m\n\u001B[0m\u001B[1;32m     12\u001B[0m     \u001B[0mmodel_execution_steps\u001B[0m\u001B[0;34m.\u001B[0m\u001B[0mtrain_similarity_matrices\u001B[0m\u001B[0;34m(\u001B[0m\u001B[0;34m)\u001B[0m\u001B[0;34m\u001B[0m\u001B[0;34m\u001B[0m\u001B[0m\n\u001B[1;32m     13\u001B[0m     \u001B[0;31m# plot_graphs(pipeline=model_execution_steps,\u001B[0m\u001B[0;34m\u001B[0m\u001B[0;34m\u001B[0m\u001B[0;34m\u001B[0m\u001B[0m\n",
      "\u001B[0;32m~/work/sem-covid/sem_covid/services/language_model_execution_steps.py\u001B[0m in \u001B[0;36mtrain_language_model\u001B[0;34m(self, dataset_sources_config)\u001B[0m\n\u001B[1;32m     32\u001B[0m         model_language_model_pipeline = LanguageModelPipeline(dataset_sources=dataset_sources_config,\n\u001B[1;32m     33\u001B[0m                                                               language_model_name=self.language_model_file_name)\n\u001B[0;32m---> 34\u001B[0;31m         \u001B[0mmodel_language_model_pipeline\u001B[0m\u001B[0;34m.\u001B[0m\u001B[0mexecute\u001B[0m\u001B[0;34m(\u001B[0m\u001B[0;34m)\u001B[0m\u001B[0;34m\u001B[0m\u001B[0;34m\u001B[0m\u001B[0m\n\u001B[0m\u001B[1;32m     35\u001B[0m         \u001B[0mself\u001B[0m\u001B[0;34m.\u001B[0m\u001B[0mword2vec\u001B[0m \u001B[0;34m=\u001B[0m \u001B[0mmodel_language_model_pipeline\u001B[0m\u001B[0;34m.\u001B[0m\u001B[0mword2vec\u001B[0m\u001B[0;34m\u001B[0m\u001B[0;34m\u001B[0m\u001B[0m\n\u001B[1;32m     36\u001B[0m \u001B[0;34m\u001B[0m\u001B[0m\n",
      "\u001B[0;32m~/work/sem-covid/sem_covid/services/language_model_pipeline.py\u001B[0m in \u001B[0;36mexecute\u001B[0;34m(self)\u001B[0m\n\u001B[1;32m    141\u001B[0m         \u001B[0mself\u001B[0m\u001B[0;34m.\u001B[0m\u001B[0mclean_textual_data\u001B[0m\u001B[0;34m(\u001B[0m\u001B[0;34m)\u001B[0m\u001B[0;34m\u001B[0m\u001B[0;34m\u001B[0m\u001B[0m\n\u001B[1;32m    142\u001B[0m         \u001B[0mself\u001B[0m\u001B[0;34m.\u001B[0m\u001B[0mtransform_to_spacy_doc\u001B[0m\u001B[0;34m(\u001B[0m\u001B[0;34m)\u001B[0m\u001B[0;34m\u001B[0m\u001B[0;34m\u001B[0m\u001B[0m\n\u001B[0;32m--> 143\u001B[0;31m         \u001B[0mself\u001B[0m\u001B[0;34m.\u001B[0m\u001B[0mextract_features\u001B[0m\u001B[0;34m(\u001B[0m\u001B[0;34m)\u001B[0m\u001B[0;34m\u001B[0m\u001B[0;34m\u001B[0m\u001B[0m\n\u001B[0m\u001B[1;32m    144\u001B[0m         \u001B[0mself\u001B[0m\u001B[0;34m.\u001B[0m\u001B[0mmodel_training\u001B[0m\u001B[0;34m(\u001B[0m\u001B[0;34m)\u001B[0m\u001B[0;34m\u001B[0m\u001B[0;34m\u001B[0m\u001B[0m\n\u001B[1;32m    145\u001B[0m         \u001B[0mself\u001B[0m\u001B[0;34m.\u001B[0m\u001B[0msave_language_model\u001B[0m\u001B[0;34m(\u001B[0m\u001B[0;34m)\u001B[0m\u001B[0;34m\u001B[0m\u001B[0;34m\u001B[0m\u001B[0m\n",
      "\u001B[0;32m~/work/sem-covid/sem_covid/services/language_model_pipeline.py\u001B[0m in \u001B[0;36mextract_features\u001B[0;34m(self)\u001B[0m\n\u001B[1;32m    113\u001B[0m             \u001B[0mTo\u001B[0m \u001B[0mextract\u001B[0m \u001B[0mthe\u001B[0m \u001B[0mparts\u001B[0m \u001B[0mof\u001B[0m \u001B[0mspeech\u001B[0m\u001B[0;34m,\u001B[0m \u001B[0mbelow\u001B[0m \u001B[0mit\u001B[0m \u001B[0mwas\u001B[0m \u001B[0mdefined\u001B[0m \u001B[0mclasses\u001B[0m \u001B[0;32mfor\u001B[0m \u001B[0meach\u001B[0m \u001B[0mtoken\u001B[0m \u001B[0;32mis\u001B[0m \u001B[0mnecessary\u001B[0m\u001B[0;34m.\u001B[0m\u001B[0;34m\u001B[0m\u001B[0;34m\u001B[0m\u001B[0m\n\u001B[1;32m    114\u001B[0m         \"\"\"\n\u001B[0;32m--> 115\u001B[0;31m         self.documents_corpus = pd.concat([self.documents_corpus\n\u001B[0m\u001B[1;32m    116\u001B[0m                                           \u001B[0;34m.\u001B[0m\u001B[0mapply\u001B[0m\u001B[0;34m(\u001B[0m\u001B[0mdocument_atomization_noun_phrases\u001B[0m\u001B[0;34m)\u001B[0m\u001B[0;34m\u001B[0m\u001B[0;34m\u001B[0m\u001B[0m\n\u001B[1;32m    117\u001B[0m                                           .apply(lemmatize_document)], ignore_index=True)\n",
      "\u001B[0;32m/opt/conda/lib/python3.8/site-packages/pandas/core/series.py\u001B[0m in \u001B[0;36mapply\u001B[0;34m(self, func, convert_dtype, args, **kwargs)\u001B[0m\n\u001B[1;32m   4354\u001B[0m         \u001B[0mdtype\u001B[0m\u001B[0;34m:\u001B[0m \u001B[0mfloat64\u001B[0m\u001B[0;34m\u001B[0m\u001B[0;34m\u001B[0m\u001B[0m\n\u001B[1;32m   4355\u001B[0m         \"\"\"\n\u001B[0;32m-> 4356\u001B[0;31m         \u001B[0;32mreturn\u001B[0m \u001B[0mSeriesApply\u001B[0m\u001B[0;34m(\u001B[0m\u001B[0mself\u001B[0m\u001B[0;34m,\u001B[0m \u001B[0mfunc\u001B[0m\u001B[0;34m,\u001B[0m \u001B[0mconvert_dtype\u001B[0m\u001B[0;34m,\u001B[0m \u001B[0margs\u001B[0m\u001B[0;34m,\u001B[0m \u001B[0mkwargs\u001B[0m\u001B[0;34m)\u001B[0m\u001B[0;34m.\u001B[0m\u001B[0mapply\u001B[0m\u001B[0;34m(\u001B[0m\u001B[0;34m)\u001B[0m\u001B[0;34m\u001B[0m\u001B[0;34m\u001B[0m\u001B[0m\n\u001B[0m\u001B[1;32m   4357\u001B[0m \u001B[0;34m\u001B[0m\u001B[0m\n\u001B[1;32m   4358\u001B[0m     def _reduce(\n",
      "\u001B[0;32m/opt/conda/lib/python3.8/site-packages/pandas/core/apply.py\u001B[0m in \u001B[0;36mapply\u001B[0;34m(self)\u001B[0m\n\u001B[1;32m   1034\u001B[0m             \u001B[0;32mreturn\u001B[0m \u001B[0mself\u001B[0m\u001B[0;34m.\u001B[0m\u001B[0mapply_str\u001B[0m\u001B[0;34m(\u001B[0m\u001B[0;34m)\u001B[0m\u001B[0;34m\u001B[0m\u001B[0;34m\u001B[0m\u001B[0m\n\u001B[1;32m   1035\u001B[0m \u001B[0;34m\u001B[0m\u001B[0m\n\u001B[0;32m-> 1036\u001B[0;31m         \u001B[0;32mreturn\u001B[0m \u001B[0mself\u001B[0m\u001B[0;34m.\u001B[0m\u001B[0mapply_standard\u001B[0m\u001B[0;34m(\u001B[0m\u001B[0;34m)\u001B[0m\u001B[0;34m\u001B[0m\u001B[0;34m\u001B[0m\u001B[0m\n\u001B[0m\u001B[1;32m   1037\u001B[0m \u001B[0;34m\u001B[0m\u001B[0m\n\u001B[1;32m   1038\u001B[0m     \u001B[0;32mdef\u001B[0m \u001B[0magg\u001B[0m\u001B[0;34m(\u001B[0m\u001B[0mself\u001B[0m\u001B[0;34m)\u001B[0m\u001B[0;34m:\u001B[0m\u001B[0;34m\u001B[0m\u001B[0;34m\u001B[0m\u001B[0m\n",
      "\u001B[0;32m/opt/conda/lib/python3.8/site-packages/pandas/core/apply.py\u001B[0m in \u001B[0;36mapply_standard\u001B[0;34m(self)\u001B[0m\n\u001B[1;32m   1090\u001B[0m                 \u001B[0;31m# List[Union[Callable[..., Any], str]]]]]\"; expected\u001B[0m\u001B[0;34m\u001B[0m\u001B[0;34m\u001B[0m\u001B[0;34m\u001B[0m\u001B[0m\n\u001B[1;32m   1091\u001B[0m                 \u001B[0;31m# \"Callable[[Any], Any]\"\u001B[0m\u001B[0;34m\u001B[0m\u001B[0;34m\u001B[0m\u001B[0;34m\u001B[0m\u001B[0m\n\u001B[0;32m-> 1092\u001B[0;31m                 mapped = lib.map_infer(\n\u001B[0m\u001B[1;32m   1093\u001B[0m                     \u001B[0mvalues\u001B[0m\u001B[0;34m,\u001B[0m\u001B[0;34m\u001B[0m\u001B[0;34m\u001B[0m\u001B[0m\n\u001B[1;32m   1094\u001B[0m                     \u001B[0mf\u001B[0m\u001B[0;34m,\u001B[0m  \u001B[0;31m# type: ignore[arg-type]\u001B[0m\u001B[0;34m\u001B[0m\u001B[0;34m\u001B[0m\u001B[0m\n",
      "\u001B[0;32m/opt/conda/lib/python3.8/site-packages/pandas/_libs/lib.pyx\u001B[0m in \u001B[0;36mpandas._libs.lib.map_infer\u001B[0;34m()\u001B[0m\n",
      "\u001B[0;32m~/work/sem-covid/sem_covid/entrypoints/notebooks/language_modeling/language_model_tools/document_handling_tools.py\u001B[0m in \u001B[0;36mdocument_atomization_noun_phrases\u001B[0;34m(document)\u001B[0m\n\u001B[1;32m     19\u001B[0m         \u001B[0msentence\u001B[0m \u001B[0;34m=\u001B[0m \u001B[0msentence\u001B[0m\u001B[0;34m.\u001B[0m\u001B[0mreplace\u001B[0m\u001B[0;34m(\u001B[0m\u001B[0msequence\u001B[0m\u001B[0;34m,\u001B[0m \u001B[0msequence\u001B[0m\u001B[0;34m.\u001B[0m\u001B[0mreplace\u001B[0m\u001B[0;34m(\u001B[0m\u001B[0;34m' '\u001B[0m\u001B[0;34m,\u001B[0m \u001B[0;34m'_'\u001B[0m\u001B[0;34m)\u001B[0m\u001B[0;34m)\u001B[0m\u001B[0;34m\u001B[0m\u001B[0;34m\u001B[0m\u001B[0m\n\u001B[1;32m     20\u001B[0m \u001B[0;34m\u001B[0m\u001B[0m\n\u001B[0;32m---> 21\u001B[0;31m     \u001B[0;32mreturn\u001B[0m \u001B[0mnlp\u001B[0m\u001B[0;34m(\u001B[0m\u001B[0msentence\u001B[0m\u001B[0;34m)\u001B[0m\u001B[0;34m\u001B[0m\u001B[0;34m\u001B[0m\u001B[0m\n\u001B[0m\u001B[1;32m     22\u001B[0m \u001B[0;34m\u001B[0m\u001B[0m\n\u001B[1;32m     23\u001B[0m \u001B[0;34m\u001B[0m\u001B[0m\n",
      "\u001B[0;32m/opt/conda/lib/python3.8/site-packages/spacy/language.py\u001B[0m in \u001B[0;36m__call__\u001B[0;34m(self, text, disable, component_cfg)\u001B[0m\n\u001B[1;32m    998\u001B[0m                 \u001B[0merror_handler\u001B[0m \u001B[0;34m=\u001B[0m \u001B[0mproc\u001B[0m\u001B[0;34m.\u001B[0m\u001B[0mget_error_handler\u001B[0m\u001B[0;34m(\u001B[0m\u001B[0;34m)\u001B[0m\u001B[0;34m\u001B[0m\u001B[0;34m\u001B[0m\u001B[0m\n\u001B[1;32m    999\u001B[0m             \u001B[0;32mtry\u001B[0m\u001B[0;34m:\u001B[0m\u001B[0;34m\u001B[0m\u001B[0;34m\u001B[0m\u001B[0m\n\u001B[0;32m-> 1000\u001B[0;31m                 \u001B[0mdoc\u001B[0m \u001B[0;34m=\u001B[0m \u001B[0mproc\u001B[0m\u001B[0;34m(\u001B[0m\u001B[0mdoc\u001B[0m\u001B[0;34m,\u001B[0m \u001B[0;34m**\u001B[0m\u001B[0mcomponent_cfg\u001B[0m\u001B[0;34m.\u001B[0m\u001B[0mget\u001B[0m\u001B[0;34m(\u001B[0m\u001B[0mname\u001B[0m\u001B[0;34m,\u001B[0m \u001B[0;34m{\u001B[0m\u001B[0;34m}\u001B[0m\u001B[0;34m)\u001B[0m\u001B[0;34m)\u001B[0m\u001B[0;34m\u001B[0m\u001B[0;34m\u001B[0m\u001B[0m\n\u001B[0m\u001B[1;32m   1001\u001B[0m             \u001B[0;32mexcept\u001B[0m \u001B[0mKeyError\u001B[0m \u001B[0;32mas\u001B[0m \u001B[0me\u001B[0m\u001B[0;34m:\u001B[0m\u001B[0;34m\u001B[0m\u001B[0;34m\u001B[0m\u001B[0m\n\u001B[1;32m   1002\u001B[0m                 \u001B[0;31m# This typically happens if a component is not initialized\u001B[0m\u001B[0;34m\u001B[0m\u001B[0;34m\u001B[0m\u001B[0;34m\u001B[0m\u001B[0m\n",
      "\u001B[0;32m/opt/conda/lib/python3.8/site-packages/spacy/pipeline/lemmatizer.py\u001B[0m in \u001B[0;36m__call__\u001B[0;34m(self, doc)\u001B[0m\n\u001B[1;32m    109\u001B[0m             \u001B[0;32mfor\u001B[0m \u001B[0mtoken\u001B[0m \u001B[0;32min\u001B[0m \u001B[0mdoc\u001B[0m\u001B[0;34m:\u001B[0m\u001B[0;34m\u001B[0m\u001B[0;34m\u001B[0m\u001B[0m\n\u001B[1;32m    110\u001B[0m                 \u001B[0;32mif\u001B[0m \u001B[0mself\u001B[0m\u001B[0;34m.\u001B[0m\u001B[0moverwrite\u001B[0m \u001B[0;32mor\u001B[0m \u001B[0mtoken\u001B[0m\u001B[0;34m.\u001B[0m\u001B[0mlemma\u001B[0m \u001B[0;34m==\u001B[0m \u001B[0;36m0\u001B[0m\u001B[0;34m:\u001B[0m\u001B[0;34m\u001B[0m\u001B[0;34m\u001B[0m\u001B[0m\n\u001B[0;32m--> 111\u001B[0;31m                     \u001B[0mtoken\u001B[0m\u001B[0;34m.\u001B[0m\u001B[0mlemma_\u001B[0m \u001B[0;34m=\u001B[0m \u001B[0mself\u001B[0m\u001B[0;34m.\u001B[0m\u001B[0mlemmatize\u001B[0m\u001B[0;34m(\u001B[0m\u001B[0mtoken\u001B[0m\u001B[0;34m)\u001B[0m\u001B[0;34m[\u001B[0m\u001B[0;36m0\u001B[0m\u001B[0;34m]\u001B[0m\u001B[0;34m\u001B[0m\u001B[0;34m\u001B[0m\u001B[0m\n\u001B[0m\u001B[1;32m    112\u001B[0m             \u001B[0;32mreturn\u001B[0m \u001B[0mdoc\u001B[0m\u001B[0;34m\u001B[0m\u001B[0;34m\u001B[0m\u001B[0m\n\u001B[1;32m    113\u001B[0m         \u001B[0;32mexcept\u001B[0m \u001B[0mException\u001B[0m \u001B[0;32mas\u001B[0m \u001B[0me\u001B[0m\u001B[0;34m:\u001B[0m\u001B[0;34m\u001B[0m\u001B[0;34m\u001B[0m\u001B[0m\n",
      "\u001B[0;32m/opt/conda/lib/python3.8/site-packages/spacy/pipeline/lemmatizer.py\u001B[0m in \u001B[0;36mrule_lemmatize\u001B[0;34m(self, token)\u001B[0m\n\u001B[1;32m    217\u001B[0m                 \u001B[0;32mif\u001B[0m \u001B[0;32mnot\u001B[0m \u001B[0mform\u001B[0m\u001B[0;34m:\u001B[0m\u001B[0;34m\u001B[0m\u001B[0;34m\u001B[0m\u001B[0m\n\u001B[1;32m    218\u001B[0m                     \u001B[0;32mpass\u001B[0m\u001B[0;34m\u001B[0m\u001B[0;34m\u001B[0m\u001B[0m\n\u001B[0;32m--> 219\u001B[0;31m                 \u001B[0;32melif\u001B[0m \u001B[0mform\u001B[0m \u001B[0;32min\u001B[0m \u001B[0mindex\u001B[0m \u001B[0;32mor\u001B[0m \u001B[0;32mnot\u001B[0m \u001B[0mform\u001B[0m\u001B[0;34m.\u001B[0m\u001B[0misalpha\u001B[0m\u001B[0;34m(\u001B[0m\u001B[0;34m)\u001B[0m\u001B[0;34m:\u001B[0m\u001B[0;34m\u001B[0m\u001B[0;34m\u001B[0m\u001B[0m\n\u001B[0m\u001B[1;32m    220\u001B[0m                     \u001B[0mforms\u001B[0m\u001B[0;34m.\u001B[0m\u001B[0mappend\u001B[0m\u001B[0;34m(\u001B[0m\u001B[0mform\u001B[0m\u001B[0;34m)\u001B[0m\u001B[0;34m\u001B[0m\u001B[0;34m\u001B[0m\u001B[0m\n\u001B[1;32m    221\u001B[0m                 \u001B[0;32melse\u001B[0m\u001B[0;34m:\u001B[0m\u001B[0;34m\u001B[0m\u001B[0;34m\u001B[0m\u001B[0m\n",
      "\u001B[0;31mKeyboardInterrupt\u001B[0m: "
     ]
    }
   ],
   "source": [
    "for model_file_name, model_name, model_dataset_sources_config in zip(\n",
    "        FILE_NAMES[start:end], MODEL_NAMES[start:end],\n",
    "        MODEL_DATASET_SOURCES_CONFIGS[start:end],\n",
    "        #MODEL_WORDS_PACKS,\n",
    "        #COSINE_SIMILARITY_MATRICES\n",
    "):\n",
    "    execute_language_model_pipeline(model_file_name=model_file_name,\n",
    "                                    model_name=model_name,\n",
    "                                    model_dataset_sources_config=model_dataset_sources_config,\n",
    "                                    #model_words_pack=model_words_pack,\n",
    "                                    #cosine_similarity_matrix=cosine_similarity_matrix\n",
    "                                    )\n",
    "\n"
   ],
   "metadata": {
    "collapsed": false,
    "pycharm": {
     "name": "#%%\n"
    }
   }
  },
  {
   "cell_type": "code",
   "execution_count": 217,
   "outputs": [],
   "source": [
    "p = nlp('I am the president of united states')"
   ],
   "metadata": {
    "collapsed": false,
    "pycharm": {
     "name": "#%%\n"
    }
   }
  },
  {
   "cell_type": "code",
   "execution_count": 221,
   "outputs": [
    {
     "data": {
      "text/plain": "'president'"
     },
     "execution_count": 221,
     "metadata": {},
     "output_type": "execute_result"
    }
   ],
   "source": [
    "remove_stopwords(str(list(p.noun_chunks)[1]))"
   ],
   "metadata": {
    "collapsed": false,
    "pycharm": {
     "name": "#%%\n"
    }
   }
  }
 ],
 "metadata": {
  "kernelspec": {
   "display_name": "Python 3",
   "language": "python",
   "name": "python3"
  },
  "language_info": {
   "codemirror_mode": {
    "name": "ipython",
    "version": 2
   },
   "file_extension": ".py",
   "mimetype": "text/x-python",
   "name": "python",
   "nbconvert_exporter": "python",
   "pygments_lexer": "ipython2",
   "version": "2.7.6"
  }
 },
 "nbformat": 4,
 "nbformat_minor": 0
}