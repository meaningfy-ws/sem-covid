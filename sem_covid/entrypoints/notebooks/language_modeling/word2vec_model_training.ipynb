{
 "cells": [
  {
   "cell_type": "markdown",
   "source": [
    "## Word2vec model training\n",
    "#### Model training based on three datasets' text data:\n",
    "- M1: pwdb + eu_timeline  ( +  ireland_timeline )\n",
    "- M2: ds_eu_cellar\n",
    "- M3: M1+M2\n",
    "\n",
    "#### Extract NOUN and NOUN PHRASES from each text data\n",
    "#### Train the word2vec model with each dataset's textual data"
   ],
   "metadata": {
    "collapsed": false
   }
  },
  {
   "cell_type": "markdown",
   "source": [
    "### Import libraries"
   ],
   "metadata": {
    "collapsed": false
   }
  },
  {
   "cell_type": "code",
   "execution_count": 1,
   "outputs": [
    {
     "name": "stderr",
     "output_type": "stream",
     "text": [
      "2021-08-26 12:59:36.913122: W tensorflow/stream_executor/platform/default/dso_loader.cc:64] Could not load dynamic library 'libcudart.so.11.0'; dlerror: libcudart.so.11.0: cannot open shared object file: No such file or directory\n",
      "2021-08-26 12:59:36.913140: I tensorflow/stream_executor/cuda/cudart_stub.cc:29] Ignore above cudart dlerror if you do not have a GPU set up on your machine.\n",
      "Since the GPL-licensed package `unidecode` is not installed, using Python's `unicodedata` package which yields worse results.\n"
     ]
    }
   ],
   "source": [
    "import sys\n",
    "sys.path.append(\"/home/jovyan/work/sem-covid/\")\n",
    "sys.path = list(set(sys.path))\n",
    "\n",
    "import os\n",
    "os.getcwd()\n",
    "os.chdir('/home/jovyan/work/sem-covid/')\n",
    "\n",
    "import warnings\n",
    "warnings.filterwarnings(\"ignore\")\n",
    "\n",
    "import numpy as np\n",
    "\n",
    "from sem_covid.services.data_registry import Dataset\n",
    "from sem_covid.services.store_registry import store_registry\n",
    "from sem_covid.services.language_model_execution_steps import LanguageModelExecutionSteps\n",
    "from sem_covid.entrypoints.notebooks.language_modeling.language_model_tools.graph_handling import create_graph_for_language_model_key_words"
   ],
   "metadata": {
    "collapsed": false,
    "pycharm": {
     "name": "#%%\n"
    }
   }
  },
  {
   "cell_type": "markdown",
   "source": [
    "# economic\n",
    "## Define constants"
   ],
   "metadata": {
    "collapsed": false
   }
  },
  {
   "cell_type": "code",
   "execution_count": 2,
   "outputs": [],
   "source": [
    "PWDB_TEXTUAL_CLASS = ['title', 'background_info_description', 'content_of_measure_description',\n",
    "                      'use_of_measure_description', 'involvement_of_social_partners_description']\n",
    "\n",
    "DEFAULT_TEXTUAL_COLUMN = ['title']\n",
    "\n",
    "KEY_WORDS_FOR_ALL_MODELS =  [\"eu\", \"national\", \"work\", \"aid\", \"coronavirus\", \"covid19\", \"measures\",\n",
    "                             \"vaccine\", \"minister\", \"government\", \"organisations\",\n",
    "                             \"agreement\", \"unemployment\", \"insurance\", \"reorientation\", \"economy\",\n",
    "                             \"economic\", \"innovation\", \"research\", \"development\", \"risk\", \"transport\"]\n",
    "\n",
    "COUNTRIES = ['austria', 'belgium', 'bulgaria', 'croatia', 'cyprus', 'czechia', 'denmark', 'estonia',\n",
    "             'european_union', 'finland', 'france', 'germany', 'greece', 'hungary', 'ireland', 'italy',\n",
    "             'latvia', 'lithuania', 'luxembourg', 'malta', 'netherlands', 'norway', 'poland', 'portugal',\n",
    "             'romania', 'slovakia', 'slovenia', 'spain', 'sweden', 'united_kingdom']\n",
    "\n",
    "CATEGORY = ['retention', 'workplace', 'labour', 'recovery', 'adaptation',\n",
    "            'protection', 'essential', 'business_continuity',\n",
    "            'services', 'social', 'market']\n",
    "\n",
    "SUBCATEGORY = ['safety', 'arrangements', 'health', 'spending', 'working', 'support', 'occupational',\n",
    "               'stimulus_packages', 'access', 'time', 'finance', 'remote', 'flexibility',\n",
    "               'essential_services', 'remuneration']\n",
    "\n",
    "TARGET_GROUPS_L1 = ['businesses', 'workers', 'citizens']\n",
    "\n",
    "TARGET_GROUPS_L2 = ['company', 'older', 'people', 'female', 'aged', 'corporations',\n",
    "                    'single', 'person', 'forms', 'smes', 'ups', 'single_parents',\n",
    "                    'citizens', 'professions', 'parents', 'groups', 'youth',\n",
    "                    'sector', 'women', 'unemployed', 'care', 'facilities', 'standard',\n",
    "                    'specific', 'contractors', 'children', 'border', 'refugees',\n",
    "                    'minors', 'platform', 'employment', 'seasonal', 'disabled', 'migrants',\n",
    "                    'risk_group', 'commuters']\n",
    "\n",
    "FUNDING = ['companies', 'national_funds', 'employer', 'funds', 'european_funds', 'no_special_funding_required',\n",
    "           'regional_funds', 'local_funds', 'employers_organization', 'employees']\n",
    "\n",
    "\n",
    "\n",
    "MODEL1_AND_2_WORDS = {  'category': CATEGORY,\n",
    "                        'subcategory': SUBCATEGORY,\n",
    "                        'countries': COUNTRIES,\n",
    "                        'target_groups_l1': TARGET_GROUPS_L1,\n",
    "                        'target_groups_l2': TARGET_GROUPS_L2,\n",
    "                        'funding': FUNDING}\n",
    "\n",
    "MODEL3_WORDS = {'keywords': KEY_WORDS_FOR_ALL_MODELS}\n",
    "\n",
    "NR1_MODEL_NAME = 'model1'\n",
    "NR2_MODEL_NAME = 'model2'\n",
    "NR3_MODEL_NAME = 'model3'\n",
    "\n",
    "MODEL1_FILE_NAME = 'model1_language_model.model'\n",
    "MODEL2_FILE_NAME = 'model2_language_model.model'\n",
    "MODEL3_FILE_NAME = 'model3_language_model.model'\n",
    "\n",
    "SIMILARITY_MATRIX_BUCKET_NAME = 'semantic-similarity-matrices'\n",
    "\n",
    "MODEL1_COSINE_SIMILARITY_MATRIX = 'model1_cosine_matrix.pkl'\n",
    "MODEL2_COSINE_SIMILARITY_MATRIX = 'model2_cosine_matrix.pkl'\n",
    "MODEL3_COSINE_SIMILARITY_MATRIX = 'model3_cosine_matrix.pkl'"
   ],
   "metadata": {
    "collapsed": false,
    "pycharm": {
     "name": "#%%\n"
    }
   }
  },
  {
   "cell_type": "markdown",
   "source": [
    "## Data preprocessing\n",
    "- data cleanup\n",
    "- turn corpus into spacy document\n"
   ],
   "metadata": {
    "collapsed": false
   }
  },
  {
   "cell_type": "markdown",
   "source": [
    "## Experiment Nr#1 language model based on:\n",
    "- PWDB\n",
    "- eu-timeline\n",
    "- ireland-timeline\n",
    "\n",
    "## Experiment Nr#2 language model based on:\n",
    "- eu-cellar\n",
    "\n",
    "## Experiment Nr#3 language model based on:\n",
    "- PWDB\n",
    "- eu-timeline\n",
    "- ireland-timeline\n",
    "- eu-cellar\n"
   ],
   "metadata": {
    "collapsed": false
   }
  },
  {
   "cell_type": "code",
   "execution_count": 3,
   "outputs": [
    {
     "name": "stderr",
     "output_type": "stream",
     "text": [
      "100% (1288 of 1288) |####################| Elapsed Time: 0:00:00 Time:  0:00:00\n",
      "100% (210 of 210) |######################| Elapsed Time: 0:00:00 Time:  0:00:00\n",
      "100% (1859 of 1859) |####################| Elapsed Time: 0:00:00 Time:  0:00:00\n",
      "100% (2653 of 2653) |####################| Elapsed Time: 0:00:01 Time:  0:00:01\n"
     ]
    }
   ],
   "source": [
    "ds_pwdb = Dataset.PWDB.fetch()\n",
    "ds_eu_action_timeline = Dataset.EU_ACTION_TIMELINE.fetch()\n",
    "ds_ireland_action_timeline = Dataset.IRELAND_ACTION_TIMELINE.fetch()\n",
    "ds_eu_cellar = Dataset.EU_CELLAR_ENRICHED.fetch()"
   ],
   "metadata": {
    "collapsed": false,
    "pycharm": {
     "name": "#%%\n"
    }
   }
  },
  {
   "cell_type": "code",
   "execution_count": 4,
   "outputs": [],
   "source": [
    "model1_dataset_sources_config = [\n",
    "    (ds_pwdb, PWDB_TEXTUAL_CLASS),\n",
    "    (ds_eu_action_timeline, DEFAULT_TEXTUAL_COLUMN),\n",
    "    (ds_ireland_action_timeline, DEFAULT_TEXTUAL_COLUMN)\n",
    "]\n",
    "\n",
    "model2_dataset_sources_config = [\n",
    "    (ds_eu_cellar, DEFAULT_TEXTUAL_COLUMN),\n",
    "]\n",
    "\n",
    "model3_dataset_sources_config = [\n",
    "    (ds_pwdb, PWDB_TEXTUAL_CLASS),\n",
    "    (ds_eu_action_timeline, DEFAULT_TEXTUAL_COLUMN),\n",
    "    (ds_eu_cellar, DEFAULT_TEXTUAL_COLUMN),\n",
    "    (ds_ireland_action_timeline, DEFAULT_TEXTUAL_COLUMN)\n",
    "]"
   ],
   "metadata": {
    "collapsed": false,
    "pycharm": {
     "name": "#%%\n"
    }
   }
  },
  {
   "cell_type": "code",
   "execution_count": 5,
   "outputs": [
    {
     "name": "stdout",
     "output_type": "stream",
     "text": [
      "CPU times: user 3min 56s, sys: 681 ms, total: 3min 56s\n",
      "Wall time: 3min 49s\n"
     ]
    }
   ],
   "source": [
    "%%time\n",
    "\n",
    "model1_execution_steps = LanguageModelExecutionSteps(language_model_file_name=MODEL1_FILE_NAME, model_name=NR1_MODEL_NAME)\n",
    "model1_execution_steps.train_language_model(model1_dataset_sources_config)\n",
    "model1_execution_steps.train_similarity_matrices()"
   ],
   "metadata": {
    "collapsed": false,
    "pycharm": {
     "name": "#%%\n"
    }
   }
  },
  {
   "cell_type": "code",
   "execution_count": 6,
   "outputs": [
    {
     "name": "stdout",
     "output_type": "stream",
     "text": [
      "CPU times: user 1min 5s, sys: 32.2 ms, total: 1min 5s\n",
      "Wall time: 1min 4s\n"
     ]
    }
   ],
   "source": [
    "%%time\n",
    "\n",
    "model2_execution_steps = LanguageModelExecutionSteps(language_model_file_name=MODEL2_FILE_NAME, model_name=NR2_MODEL_NAME)\n",
    "model2_execution_steps.train_language_model(model2_dataset_sources_config)\n",
    "model2_execution_steps.train_similarity_matrices()"
   ],
   "metadata": {
    "collapsed": false,
    "pycharm": {
     "name": "#%%\n"
    }
   }
  },
  {
   "cell_type": "code",
   "execution_count": 7,
   "outputs": [
    {
     "name": "stdout",
     "output_type": "stream",
     "text": [
      "CPU times: user 4min 51s, sys: 312 ms, total: 4min 51s\n",
      "Wall time: 4min 43s\n"
     ]
    }
   ],
   "source": [
    "%%time\n",
    "\n",
    "model3_execution_steps = LanguageModelExecutionSteps(language_model_file_name=MODEL3_FILE_NAME, model_name=NR3_MODEL_NAME)\n",
    "model3_execution_steps.train_language_model(model3_dataset_sources_config)\n",
    "model3_execution_steps.train_similarity_matrices()"
   ],
   "metadata": {
    "collapsed": false,
    "pycharm": {
     "name": "#%%\n"
    }
   }
  },
  {
   "cell_type": "markdown",
   "source": [
    "### Generate D3 Graphs"
   ],
   "metadata": {
    "collapsed": false
   }
  },
  {
   "cell_type": "markdown",
   "source": [
    "#### Cosine similarity graph"
   ],
   "metadata": {
    "collapsed": false,
    "pycharm": {
     "name": "#%% md\n"
    }
   }
  },
  {
   "cell_type": "code",
   "execution_count": 8,
   "outputs": [],
   "source": [
    "def plot_graphs(pipeline: LanguageModelExecutionSteps, model_name: str, model_file_name: str,\n",
    "                threshold: np.float64, word_graph_configs: dict, normalize_func) -> None:\n",
    "    \"\"\"\n",
    "        steps of generating d3 graph, calling the similarity matrix from minio and normalizing it.\n",
    "    Args:\n",
    "        pipeline: Pipeline of language model execution stems\n",
    "        model_name: the name of the model\n",
    "        model_file_name: word2vec file name from MinIO\n",
    "        threshold: the minimum of similarity number\n",
    "        word_graph_configs: dictionary of key words\n",
    "        normalize_func: function of similarity normalization\n",
    "    \"\"\"\n",
    "    model_cosine_matrix = store_registry.minio_feature_store(SIMILARITY_MATRIX_BUCKET_NAME).get_features(model_file_name)\n",
    "    for key in word_graph_configs.keys():\n",
    "        create_graph_for_language_model_key_words(model_cosine_matrix.applymap(normalize_func),\n",
    "                                                  pipeline.filter_language_model_words().select_key_words(key_words=word_graph_configs[key]),\n",
    "                                                  model_name=model_name,\n",
    "                                                  metric_threshold=threshold, column_name=key)"
   ],
   "metadata": {
    "collapsed": false,
    "pycharm": {
     "name": "#%%\n"
    }
   }
  },
  {
   "cell_type": "code",
   "execution_count": 10,
   "outputs": [
    {
     "name": "stdout",
     "output_type": "stream",
     "text": [
      "start\n",
      "Writing /home/jovyan/work/sem-covid/docs/word-similarity-web/model1_graphs/category/retention.html\n",
      "Writing /home/jovyan/work/sem-covid/docs/word-similarity-web/model1_graphs/category/workplace.html\n",
      "Writing /home/jovyan/work/sem-covid/docs/word-similarity-web/model1_graphs/category/labour.html\n",
      "Writing /home/jovyan/work/sem-covid/docs/word-similarity-web/model1_graphs/category/recovery.html\n",
      "Writing /home/jovyan/work/sem-covid/docs/word-similarity-web/model1_graphs/category/adaptation.html\n",
      "Writing /home/jovyan/work/sem-covid/docs/word-similarity-web/model1_graphs/category/protection.html\n",
      "Writing /home/jovyan/work/sem-covid/docs/word-similarity-web/model1_graphs/category/essential.html\n",
      "Writing /home/jovyan/work/sem-covid/docs/word-similarity-web/model1_graphs/category/services.html\n",
      "Writing /home/jovyan/work/sem-covid/docs/word-similarity-web/model1_graphs/category/social.html\n",
      "Writing /home/jovyan/work/sem-covid/docs/word-similarity-web/model1_graphs/category/market.html\n",
      "Writing /home/jovyan/work/sem-covid/docs/word-similarity-web/model1_graphs/subcategory/safety.html\n",
      "Writing /home/jovyan/work/sem-covid/docs/word-similarity-web/model1_graphs/subcategory/arrangements.html\n",
      "Writing /home/jovyan/work/sem-covid/docs/word-similarity-web/model1_graphs/subcategory/health.html\n",
      "Writing /home/jovyan/work/sem-covid/docs/word-similarity-web/model1_graphs/subcategory/spending.html\n",
      "Writing /home/jovyan/work/sem-covid/docs/word-similarity-web/model1_graphs/subcategory/support.html\n",
      "Writing /home/jovyan/work/sem-covid/docs/word-similarity-web/model1_graphs/subcategory/occupational.html\n",
      "Writing /home/jovyan/work/sem-covid/docs/word-similarity-web/model1_graphs/subcategory/access.html\n",
      "Writing /home/jovyan/work/sem-covid/docs/word-similarity-web/model1_graphs/subcategory/time.html\n",
      "Writing /home/jovyan/work/sem-covid/docs/word-similarity-web/model1_graphs/subcategory/finance.html\n",
      "Writing /home/jovyan/work/sem-covid/docs/word-similarity-web/model1_graphs/subcategory/flexibility.html\n",
      "Writing /home/jovyan/work/sem-covid/docs/word-similarity-web/model1_graphs/subcategory/essential_services.html\n",
      "Writing /home/jovyan/work/sem-covid/docs/word-similarity-web/model1_graphs/subcategory/remuneration.html\n",
      "Writing /home/jovyan/work/sem-covid/docs/word-similarity-web/model1_graphs/countries/belgium.html\n",
      "Writing /home/jovyan/work/sem-covid/docs/word-similarity-web/model1_graphs/countries/croatia.html\n",
      "Writing /home/jovyan/work/sem-covid/docs/word-similarity-web/model1_graphs/countries/czechia.html\n",
      "Writing /home/jovyan/work/sem-covid/docs/word-similarity-web/model1_graphs/countries/denmark.html\n",
      "Writing /home/jovyan/work/sem-covid/docs/word-similarity-web/model1_graphs/countries/finland.html\n",
      "Writing /home/jovyan/work/sem-covid/docs/word-similarity-web/model1_graphs/countries/greece.html\n",
      "Writing /home/jovyan/work/sem-covid/docs/word-similarity-web/model1_graphs/countries/hungary.html\n",
      "Writing /home/jovyan/work/sem-covid/docs/word-similarity-web/model1_graphs/countries/latvia.html\n",
      "Writing /home/jovyan/work/sem-covid/docs/word-similarity-web/model1_graphs/countries/luxembourg.html\n",
      "Writing /home/jovyan/work/sem-covid/docs/word-similarity-web/model1_graphs/countries/malta.html\n",
      "Writing /home/jovyan/work/sem-covid/docs/word-similarity-web/model1_graphs/countries/sweden.html\n",
      "Writing /home/jovyan/work/sem-covid/docs/word-similarity-web/model1_graphs/target_groups_l1/businesses.html\n",
      "Writing /home/jovyan/work/sem-covid/docs/word-similarity-web/model1_graphs/target_groups_l1/workers.html\n",
      "Writing /home/jovyan/work/sem-covid/docs/word-similarity-web/model1_graphs/target_groups_l1/citizens.html\n",
      "Writing /home/jovyan/work/sem-covid/docs/word-similarity-web/model1_graphs/target_groups_l2/company.html\n",
      "Writing /home/jovyan/work/sem-covid/docs/word-similarity-web/model1_graphs/target_groups_l2/older.html\n",
      "Writing /home/jovyan/work/sem-covid/docs/word-similarity-web/model1_graphs/target_groups_l2/people.html\n",
      "Writing /home/jovyan/work/sem-covid/docs/word-similarity-web/model1_graphs/target_groups_l2/female.html\n",
      "Writing /home/jovyan/work/sem-covid/docs/word-similarity-web/model1_graphs/target_groups_l2/aged.html\n",
      "Writing /home/jovyan/work/sem-covid/docs/word-similarity-web/model1_graphs/target_groups_l2/corporations.html\n",
      "Writing /home/jovyan/work/sem-covid/docs/word-similarity-web/model1_graphs/target_groups_l2/single.html\n",
      "Writing /home/jovyan/work/sem-covid/docs/word-similarity-web/model1_graphs/target_groups_l2/person.html\n",
      "Writing /home/jovyan/work/sem-covid/docs/word-similarity-web/model1_graphs/target_groups_l2/forms.html\n",
      "Writing /home/jovyan/work/sem-covid/docs/word-similarity-web/model1_graphs/target_groups_l2/smes.html\n",
      "Writing /home/jovyan/work/sem-covid/docs/word-similarity-web/model1_graphs/target_groups_l2/ups.html\n",
      "Writing /home/jovyan/work/sem-covid/docs/word-similarity-web/model1_graphs/target_groups_l2/single_parents.html\n",
      "Writing /home/jovyan/work/sem-covid/docs/word-similarity-web/model1_graphs/target_groups_l2/citizens.html\n",
      "Writing /home/jovyan/work/sem-covid/docs/word-similarity-web/model1_graphs/target_groups_l2/professions.html\n",
      "Writing /home/jovyan/work/sem-covid/docs/word-similarity-web/model1_graphs/target_groups_l2/parents.html\n",
      "Writing /home/jovyan/work/sem-covid/docs/word-similarity-web/model1_graphs/target_groups_l2/groups.html\n",
      "Writing /home/jovyan/work/sem-covid/docs/word-similarity-web/model1_graphs/target_groups_l2/youth.html\n",
      "Writing /home/jovyan/work/sem-covid/docs/word-similarity-web/model1_graphs/target_groups_l2/sector.html\n",
      "Writing /home/jovyan/work/sem-covid/docs/word-similarity-web/model1_graphs/target_groups_l2/women.html\n",
      "Writing /home/jovyan/work/sem-covid/docs/word-similarity-web/model1_graphs/target_groups_l2/unemployed.html\n",
      "Writing /home/jovyan/work/sem-covid/docs/word-similarity-web/model1_graphs/target_groups_l2/care.html\n",
      "Writing /home/jovyan/work/sem-covid/docs/word-similarity-web/model1_graphs/target_groups_l2/facilities.html\n",
      "Writing /home/jovyan/work/sem-covid/docs/word-similarity-web/model1_graphs/target_groups_l2/standard.html\n",
      "Writing /home/jovyan/work/sem-covid/docs/word-similarity-web/model1_graphs/target_groups_l2/specific.html\n",
      "Writing /home/jovyan/work/sem-covid/docs/word-similarity-web/model1_graphs/target_groups_l2/contractors.html\n",
      "Writing /home/jovyan/work/sem-covid/docs/word-similarity-web/model1_graphs/target_groups_l2/children.html\n",
      "Writing /home/jovyan/work/sem-covid/docs/word-similarity-web/model1_graphs/target_groups_l2/border.html\n",
      "Writing /home/jovyan/work/sem-covid/docs/word-similarity-web/model1_graphs/target_groups_l2/refugees.html\n",
      "Writing /home/jovyan/work/sem-covid/docs/word-similarity-web/model1_graphs/target_groups_l2/minors.html\n",
      "Writing /home/jovyan/work/sem-covid/docs/word-similarity-web/model1_graphs/target_groups_l2/platform.html\n",
      "Writing /home/jovyan/work/sem-covid/docs/word-similarity-web/model1_graphs/target_groups_l2/employment.html\n",
      "Writing /home/jovyan/work/sem-covid/docs/word-similarity-web/model1_graphs/target_groups_l2/seasonal.html\n",
      "Writing /home/jovyan/work/sem-covid/docs/word-similarity-web/model1_graphs/target_groups_l2/disabled.html\n",
      "Writing /home/jovyan/work/sem-covid/docs/word-similarity-web/model1_graphs/target_groups_l2/migrants.html\n",
      "Writing /home/jovyan/work/sem-covid/docs/word-similarity-web/model1_graphs/target_groups_l2/risk_group.html\n",
      "Writing /home/jovyan/work/sem-covid/docs/word-similarity-web/model1_graphs/target_groups_l2/commuters.html\n",
      "Writing /home/jovyan/work/sem-covid/docs/word-similarity-web/model1_graphs/funding/companies.html\n",
      "Writing /home/jovyan/work/sem-covid/docs/word-similarity-web/model1_graphs/funding/national_funds.html\n",
      "Writing /home/jovyan/work/sem-covid/docs/word-similarity-web/model1_graphs/funding/employer.html\n",
      "Writing /home/jovyan/work/sem-covid/docs/word-similarity-web/model1_graphs/funding/funds.html\n",
      "Writing /home/jovyan/work/sem-covid/docs/word-similarity-web/model1_graphs/funding/european_funds.html\n",
      "Writing /home/jovyan/work/sem-covid/docs/word-similarity-web/model1_graphs/funding/employees.html\n"
     ]
    }
   ],
   "source": [
    "print('start')\n",
    "plot_graphs(pipeline=model1_execution_steps,\n",
    "            model_name=NR1_MODEL_NAME,\n",
    "            model_file_name=MODEL1_COSINE_SIMILARITY_MATRIX,\n",
    "            threshold=0.6,\n",
    "            word_graph_configs=MODEL1_AND_2_WORDS,\n",
    "            normalize_func=lambda x: 1 - x)"
   ],
   "metadata": {
    "collapsed": false,
    "pycharm": {
     "name": "#%%\n"
    }
   }
  },
  {
   "cell_type": "code",
   "execution_count": 9,
   "outputs": [
    {
     "name": "stdout",
     "output_type": "stream",
     "text": [
      "start\n",
      "Writing /home/jovyan/work/sem-covid/docs/word-similarity-web/model2_graphs/category/recovery.html\n",
      "Writing /home/jovyan/work/sem-covid/docs/word-similarity-web/model2_graphs/category/protection.html\n",
      "Writing /home/jovyan/work/sem-covid/docs/word-similarity-web/model2_graphs/category/services.html\n",
      "Writing /home/jovyan/work/sem-covid/docs/word-similarity-web/model2_graphs/category/social.html\n",
      "Writing /home/jovyan/work/sem-covid/docs/word-similarity-web/model2_graphs/category/market.html\n",
      "Writing /home/jovyan/work/sem-covid/docs/word-similarity-web/model2_graphs/subcategory/safety.html\n",
      "Writing /home/jovyan/work/sem-covid/docs/word-similarity-web/model2_graphs/subcategory/arrangements.html\n",
      "Writing /home/jovyan/work/sem-covid/docs/word-similarity-web/model2_graphs/subcategory/health.html\n",
      "Writing /home/jovyan/work/sem-covid/docs/word-similarity-web/model2_graphs/subcategory/working.html\n",
      "Writing /home/jovyan/work/sem-covid/docs/word-similarity-web/model2_graphs/subcategory/access.html\n",
      "Writing /home/jovyan/work/sem-covid/docs/word-similarity-web/model2_graphs/subcategory/finance.html\n",
      "Writing /home/jovyan/work/sem-covid/docs/word-similarity-web/model2_graphs/subcategory/remote.html\n",
      "Writing /home/jovyan/work/sem-covid/docs/word-similarity-web/model2_graphs/subcategory/flexibility.html\n",
      "Writing /home/jovyan/work/sem-covid/docs/word-similarity-web/model2_graphs/subcategory/remuneration.html\n",
      "Writing /home/jovyan/work/sem-covid/docs/word-similarity-web/model2_graphs/countries/belgium.html\n",
      "Writing /home/jovyan/work/sem-covid/docs/word-similarity-web/model2_graphs/countries/czechia.html\n",
      "Writing /home/jovyan/work/sem-covid/docs/word-similarity-web/model2_graphs/countries/european_union.html\n",
      "Writing /home/jovyan/work/sem-covid/docs/word-similarity-web/model2_graphs/countries/finland.html\n",
      "Writing /home/jovyan/work/sem-covid/docs/word-similarity-web/model2_graphs/countries/greece.html\n",
      "Writing /home/jovyan/work/sem-covid/docs/word-similarity-web/model2_graphs/countries/malta.html\n",
      "Writing /home/jovyan/work/sem-covid/docs/word-similarity-web/model2_graphs/countries/slovakia.html\n",
      "Writing /home/jovyan/work/sem-covid/docs/word-similarity-web/model2_graphs/countries/sweden.html\n",
      "Writing /home/jovyan/work/sem-covid/docs/word-similarity-web/model2_graphs/target_groups_l1/businesses.html\n",
      "Writing /home/jovyan/work/sem-covid/docs/word-similarity-web/model2_graphs/target_groups_l1/workers.html\n",
      "Writing /home/jovyan/work/sem-covid/docs/word-similarity-web/model2_graphs/target_groups_l1/citizens.html\n",
      "Writing /home/jovyan/work/sem-covid/docs/word-similarity-web/model2_graphs/target_groups_l2/company.html\n",
      "Writing /home/jovyan/work/sem-covid/docs/word-similarity-web/model2_graphs/target_groups_l2/people.html\n",
      "Writing /home/jovyan/work/sem-covid/docs/word-similarity-web/model2_graphs/target_groups_l2/female.html\n",
      "Writing /home/jovyan/work/sem-covid/docs/word-similarity-web/model2_graphs/target_groups_l2/aged.html\n",
      "Writing /home/jovyan/work/sem-covid/docs/word-similarity-web/model2_graphs/target_groups_l2/single.html\n",
      "Writing /home/jovyan/work/sem-covid/docs/word-similarity-web/model2_graphs/target_groups_l2/person.html\n",
      "Writing /home/jovyan/work/sem-covid/docs/word-similarity-web/model2_graphs/target_groups_l2/forms.html\n",
      "Writing /home/jovyan/work/sem-covid/docs/word-similarity-web/model2_graphs/target_groups_l2/smes.html\n",
      "Writing /home/jovyan/work/sem-covid/docs/word-similarity-web/model2_graphs/target_groups_l2/citizens.html\n",
      "Writing /home/jovyan/work/sem-covid/docs/word-similarity-web/model2_graphs/target_groups_l2/youth.html\n",
      "Writing /home/jovyan/work/sem-covid/docs/word-similarity-web/model2_graphs/target_groups_l2/sector.html\n",
      "Writing /home/jovyan/work/sem-covid/docs/word-similarity-web/model2_graphs/target_groups_l2/women.html\n",
      "Writing /home/jovyan/work/sem-covid/docs/word-similarity-web/model2_graphs/target_groups_l2/care.html\n",
      "Writing /home/jovyan/work/sem-covid/docs/word-similarity-web/model2_graphs/target_groups_l2/standard.html\n",
      "Writing /home/jovyan/work/sem-covid/docs/word-similarity-web/model2_graphs/target_groups_l2/contractors.html\n",
      "Writing /home/jovyan/work/sem-covid/docs/word-similarity-web/model2_graphs/target_groups_l2/children.html\n",
      "Writing /home/jovyan/work/sem-covid/docs/word-similarity-web/model2_graphs/target_groups_l2/border.html\n",
      "Writing /home/jovyan/work/sem-covid/docs/word-similarity-web/model2_graphs/target_groups_l2/platform.html\n",
      "Writing /home/jovyan/work/sem-covid/docs/word-similarity-web/model2_graphs/target_groups_l2/employment.html\n",
      "Writing /home/jovyan/work/sem-covid/docs/word-similarity-web/model2_graphs/target_groups_l2/seasonal.html\n",
      "Writing /home/jovyan/work/sem-covid/docs/word-similarity-web/model2_graphs/target_groups_l2/disabled.html\n",
      "Writing /home/jovyan/work/sem-covid/docs/word-similarity-web/model2_graphs/funding/companies.html\n",
      "Writing /home/jovyan/work/sem-covid/docs/word-similarity-web/model2_graphs/funding/employer.html\n",
      "Writing /home/jovyan/work/sem-covid/docs/word-similarity-web/model2_graphs/funding/funds.html\n",
      "Writing /home/jovyan/work/sem-covid/docs/word-similarity-web/model2_graphs/funding/employees.html\n"
     ]
    }
   ],
   "source": [
    "print('start')\n",
    "plot_graphs(pipeline=model2_execution_steps,\n",
    "            model_name=NR2_MODEL_NAME,\n",
    "            model_file_name=MODEL2_COSINE_SIMILARITY_MATRIX,\n",
    "            threshold=0.6,\n",
    "            word_graph_configs=MODEL1_AND_2_WORDS,\n",
    "            normalize_func=lambda x: 1 - x)"
   ],
   "metadata": {
    "collapsed": false,
    "pycharm": {
     "name": "#%%\n"
    }
   }
  },
  {
   "cell_type": "code",
   "execution_count": 11,
   "outputs": [
    {
     "name": "stdout",
     "output_type": "stream",
     "text": [
      "start\n",
      "[d3graph] >Creating directory [docs/word-similarity-web/model3_graphs/keywords/]\n",
      "Writing /home/jovyan/work/sem-covid/docs/word-similarity-web/model3_graphs/keywords/aid.html\n",
      "Writing /home/jovyan/work/sem-covid/docs/word-similarity-web/model3_graphs/keywords/covid19.html\n",
      "Writing /home/jovyan/work/sem-covid/docs/word-similarity-web/model3_graphs/keywords/measures.html\n",
      "Writing /home/jovyan/work/sem-covid/docs/word-similarity-web/model3_graphs/keywords/vaccine.html\n",
      "Writing /home/jovyan/work/sem-covid/docs/word-similarity-web/model3_graphs/keywords/government.html\n",
      "Writing /home/jovyan/work/sem-covid/docs/word-similarity-web/model3_graphs/keywords/organisations.html\n",
      "Writing /home/jovyan/work/sem-covid/docs/word-similarity-web/model3_graphs/keywords/agreement.html\n",
      "Writing /home/jovyan/work/sem-covid/docs/word-similarity-web/model3_graphs/keywords/unemployment.html\n",
      "Writing /home/jovyan/work/sem-covid/docs/word-similarity-web/model3_graphs/keywords/insurance.html\n",
      "Writing /home/jovyan/work/sem-covid/docs/word-similarity-web/model3_graphs/keywords/reorientation.html\n",
      "Writing /home/jovyan/work/sem-covid/docs/word-similarity-web/model3_graphs/keywords/economy.html\n",
      "Writing /home/jovyan/work/sem-covid/docs/word-similarity-web/model3_graphs/keywords/economic.html\n",
      "Writing /home/jovyan/work/sem-covid/docs/word-similarity-web/model3_graphs/keywords/innovation.html\n",
      "Writing /home/jovyan/work/sem-covid/docs/word-similarity-web/model3_graphs/keywords/research.html\n",
      "Writing /home/jovyan/work/sem-covid/docs/word-similarity-web/model3_graphs/keywords/development.html\n",
      "Writing /home/jovyan/work/sem-covid/docs/word-similarity-web/model3_graphs/keywords/risk.html\n",
      "Writing /home/jovyan/work/sem-covid/docs/word-similarity-web/model3_graphs/keywords/transport.html\n"
     ]
    }
   ],
   "source": [
    "print('start')\n",
    "plot_graphs(pipeline=model3_execution_steps,\n",
    "            model_name=NR3_MODEL_NAME,\n",
    "            model_file_name=MODEL3_COSINE_SIMILARITY_MATRIX,\n",
    "            threshold=0.6,\n",
    "            word_graph_configs=MODEL3_WORDS,\n",
    "            normalize_func=lambda x: 1 - x)"
   ],
   "metadata": {
    "collapsed": false,
    "pycharm": {
     "name": "#%%\n"
    }
   }
  },
  {
   "cell_type": "code",
   "execution_count": null,
   "outputs": [],
   "source": [],
   "metadata": {
    "collapsed": false,
    "pycharm": {
     "name": "#%%\n"
    }
   }
  }
 ],
 "metadata": {
  "kernelspec": {
   "display_name": "Python 3",
   "language": "python",
   "name": "python3"
  },
  "language_info": {
   "codemirror_mode": {
    "name": "ipython",
    "version": 2
   },
   "file_extension": ".py",
   "mimetype": "text/x-python",
   "name": "python",
   "nbconvert_exporter": "python",
   "pygments_lexer": "ipython2",
   "version": "2.7.6"
  }
 },
 "nbformat": 4,
 "nbformat_minor": 0
}