{
 "cells": [
  {
   "cell_type": "markdown",
   "metadata": {
    "collapsed": true,
    "pycharm": {
     "name": "#%% md\n"
    }
   },
   "source": [
    "## Word2vec model training\n",
    "#### Model training based on three datasets' text data:\n",
    "- M1: pwdb + eu_timeline  ( +  ireland_timeline )\n",
    "- M2: ds_eu_cellar\n",
    "- M3: M1+M2\n",
    "\n",
    "#### Extract NOUN and NOUN PHRASES from each text data\n",
    "#### Train the word2vec model with each dataset's textual data"
   ]
  },
  {
   "cell_type": "markdown",
   "source": [
    "### Import libraries"
   ],
   "metadata": {
    "collapsed": false,
    "pycharm": {
     "name": "#%% md\n"
    }
   }
  },
  {
   "cell_type": "code",
   "execution_count": 181,
   "outputs": [],
   "source": [
    "import sys\n",
    "sys.path.append(\"/home/jovyan/work/sem-covid/\")\n",
    "sys.path = list(set(sys.path))\n",
    "\n",
    "import os\n",
    "os.getcwd()\n",
    "os.chdir('/home/jovyan/work/sem-covid/')\n",
    "\n",
    "import warnings\n",
    "warnings.filterwarnings(\"ignore\", category=DeprecationWarning)\n",
    "\n",
    "from typing import List, Tuple\n",
    "\n",
    "import spacy\n",
    "nlp = spacy.load('en_core_web_sm')\n",
    "\n",
    "import numpy as np\n",
    "import pandas as pd\n",
    "import networkx as nx\n",
    "from gensim.models import Word2Vec\n",
    "from d3graph import d3graph\n",
    "import plotly.express as px\n",
    "\n",
    "from sem_covid.services.data_registry import Dataset\n",
    "from sem_covid.adapters.data_source import IndexTabularDataSource\n",
    "\n",
    "from sem_covid.entrypoints.notebooks.topic_modeling.topic_modeling_wrangling.token_management import select_pos\n",
    "\n",
    "from sem_covid.services.sc_wrangling.data_cleaning import (clean_text_from_specific_characters, clean_fix_unicode,\n",
    "                                                           clean_remove_currency_symbols, clean_remove_emails,\n",
    "                                                           clean_remove_urls, clean_remove_stopwords)\n",
    "\n",
    "from sem_covid.entrypoints.notebooks.language_modeling.language_model_tools.similarity_calculus import (\n",
    "    euclidean_similarity, manhattan_similarity, cosine_similarity, get_similarity_matrix)\n",
    "\n",
    "from sem_covid.entrypoints.notebooks.language_modeling.language_model_tools.document_handling_tools import(\n",
    "    document_atomization_noun_phrases, lemmatize_document)\n",
    "\n",
    "from sem_covid.entrypoints.notebooks.language_modeling.language_model_tools.word_embeddings_handler import (\n",
    "    select_words_and_embedding_clusters, create_tsne_model, create_word_clusters_matrix)"
   ],
   "metadata": {
    "collapsed": false,
    "pycharm": {
     "name": "#%%\n"
    }
   }
  },
  {
   "cell_type": "markdown",
   "source": [
    "## Define constants"
   ],
   "metadata": {
    "collapsed": false
   }
  },
  {
   "cell_type": "code",
   "execution_count": 13,
   "outputs": [],
   "source": [
    "PWDB_TEXTUAL_CLASS = ['title', 'background_info_description', 'content_of_measure_description',\n",
    "                      'use_of_measure_description', 'involvement_of_social_partners_description']\n",
    "\n",
    "DEFAULT_TEXTUAL_COLUMN = ['title']\n",
    "WINDOW = 5\n",
    "MIN_COUNT = 1\n",
    "VECTOR_SIZE = 300\n",
    "EPOCHS = 50\n",
    "EU_TIMELINE_TOTAL_EXAMPLES = 171\n",
    "IRELAND_TIMELINE_TOTAL_EXAMPLES = 410\n",
    "EU_CELLAR_TOTAL_EXAMPLES = 2653"
   ],
   "metadata": {
    "collapsed": false,
    "pycharm": {
     "name": "#%%\n"
    }
   }
  },
  {
   "cell_type": "markdown",
   "source": [
    "## Data preprocessing\n",
    "- data cleanup\n",
    "- turn corpus into spacy document"
   ],
   "metadata": {
    "collapsed": false
   }
  },
  {
   "cell_type": "code",
   "execution_count": 182,
   "outputs": [],
   "source": [
    "def apply_cleaning_functions(document_corpus: pd.Series) -> pd.Series:\n",
    "    \"\"\"\n",
    "    This function receives the document and leads through cleaning steps\n",
    "    Args:\n",
    "        document_corpus: dataset document corpus\n",
    "\n",
    "    Returns: clean document corpus\n",
    "    \"\"\"\n",
    "    unused_characters = [\"\\\\r\", \">\", \"\\n\", \"\\\\\", \"<\", \"''\", \"%\", \"...\", \"\\'\", '\"', \"(\", \"\\n\", \"*\", \"1)\", \"2)\", \"3)\",\n",
    "                         \"[\", \"]\", \"-\", \"_\", \"\\r\"]\n",
    "\n",
    "    new_document_corpus = document_corpus.apply(clean_text_from_specific_characters, characters=unused_characters)\n",
    "    new_document_corpus = new_document_corpus.apply(clean_fix_unicode)\n",
    "    new_document_corpus = new_document_corpus.apply(clean_remove_urls)\n",
    "    new_document_corpus = new_document_corpus.apply(clean_remove_emails)\n",
    "    new_document_corpus = new_document_corpus.apply(clean_remove_currency_symbols)\n",
    "    new_document_corpus = new_document_corpus.apply(clean_remove_stopwords)\n",
    "\n",
    "    return new_document_corpus\n",
    "\n",
    "\n",
    "def generate_graph(similarity_matrix: pd.DataFrame, graph: nx.Graph, root_word: str, top_words: int,\n",
    "                   threshold:np.float64 = 0.8, deep_level: int = 0, max_deep_level: int = 2) -> nx.Graph:\n",
    "    if deep_level > max_deep_level:\n",
    "        return graph\n",
    "    new_nodes = similarity_matrix[root_word].sort_values(ascending=False)[:top_words].index.to_list()\n",
    "    new_nodes_weight = list(similarity_matrix[root_word].sort_values(ascending=False)[:top_words].values)\n",
    "    for index in range(0, len(new_nodes)):\n",
    "        if new_nodes_weight[index] >= threshold:\n",
    "            graph.add_edge(root_word, new_nodes[index])\n",
    "            generate_graph(similarity_matrix, graph, new_nodes[index], top_words, threshold, deep_level+1, max_deep_level)\n",
    "\n",
    "    return graph\n",
    "\n",
    "\n",
    "def create_graph_for_language_model_key_words(similarity_matrix: pd.DataFrame, language_model_words: list,\n",
    "                                              model_number: int) -> d3graph:\n",
    "    \"\"\"\n",
    "    !!! This is not reusable function. It was made for a single thing !!!\n",
    "\n",
    "    It generates d3graph based on language model selected words and and the similarity\n",
    "    matrix created with those words.\n",
    "    \"\"\"\n",
    "    graph_folder_path = f'docs/word-similarity-web/model{model_number}_graphs/'\n",
    "    for index in range(0, len(language_model_words)):\n",
    "        graph = generate_graph(similarity_matrix, nx.Graph(), language_model_words[index],\n",
    "                               top_words=4, threshold=0.5 ,max_deep_level=2)\n",
    "        network_adjacency_matrix = pd.DataFrame(data=nx.adjacency_matrix(graph).todense(),\n",
    "                                                index=graph.nodes(), columns=graph.nodes())\n",
    "        d3graph(network_adjacency_matrix, savepath=graph_folder_path, savename=language_model_words[index],\n",
    "                node_color=network_adjacency_matrix.columns.values, width=1920, height=1080, edge_width=5,\n",
    "                edge_distance=60, directed=True)"
   ],
   "metadata": {
    "collapsed": false,
    "pycharm": {
     "name": "#%%\n"
    }
   }
  },
  {
   "cell_type": "code",
   "execution_count": 183,
   "outputs": [],
   "source": [
    "class LanguageModelPipeline:\n",
    "    \"\"\"\n",
    "        This pipeline executes the steps for word2vec language training.\n",
    "    \"\"\"\n",
    "\n",
    "    def __init__(self, dataset_sources: List[Tuple[IndexTabularDataSource, List[str]]]):\n",
    "        \"\"\"\n",
    "            :param dataset_sources: represents the source of the datasets.\n",
    "        \"\"\"\n",
    "        self.dataset_sources = dataset_sources\n",
    "        self.documents_corpus = pd.Series()\n",
    "        self.word2vec = None\n",
    "\n",
    "    def download_datasets(self):\n",
    "        \"\"\"\n",
    "            In this step it will download the dataset and detect selected columns.\n",
    "            It can be downloaded as many datasets as there are in data source.\n",
    "        \"\"\"\n",
    "        self.dataset_sources = [(dataset_columns, dataset_source.fetch())\n",
    "                                for dataset_source, dataset_columns in self.dataset_sources]\n",
    "\n",
    "    def extract_textual_data(self):\n",
    "        \"\"\"\n",
    "            After downloading the datasets, the textual data will be found and and concatenated\n",
    "            with executing of several steps as well. It will fill the NaN values with empty space,\n",
    "            add a dot at the end of each concatenated column and reset the index.\n",
    "        \"\"\"\n",
    "        self.documents_corpus = pd.concat([dataset[columns]\n",
    "                                          .fillna(value=\"\")\n",
    "                                          .agg('. '.join, axis=1)\n",
    "                                          .reset_index(drop=True)\n",
    "                                           for columns, dataset in self.dataset_sources\n",
    "                                           ], ignore_index=True)\n",
    "\n",
    "    def clean_textual_data(self):\n",
    "        \"\"\"\n",
    "            The next step is data cleaning. In this step the function \"apply_cleaning_functions\"\n",
    "            applies the following actions:\n",
    "                - clean the document from specific characters\n",
    "                - delete unicode\n",
    "                - removes emails and URLs and currency symbols\n",
    "        \"\"\"\n",
    "        self.documents_corpus = apply_cleaning_functions(self.documents_corpus)\n",
    "\n",
    "    def transform_to_spacy_doc(self):\n",
    "        \"\"\"\n",
    "            When the document is clean, is going to be transform into spacy document\n",
    "        \"\"\"\n",
    "        self.documents_corpus = self.documents_corpus.apply(nlp)\n",
    "\n",
    "    def extract_features(self):\n",
    "        \"\"\"\n",
    "            To extract the parts of speech, below it was defined classes for each token is necessary.\n",
    "        \"\"\"\n",
    "        self.documents_corpus = pd.concat([self.documents_corpus,\n",
    "                                           self.documents_corpus.apply(document_atomization_noun_phrases),\n",
    "                                           self.documents_corpus.apply(lemmatize_document)]\n",
    "                                           ,ignore_index=True)\n",
    "\n",
    "        self.documents_corpus = self.documents_corpus.apply(lambda x: list(map(str, x)))\n",
    "\n",
    "    def model_training(self):\n",
    "        \"\"\"\n",
    "            When the data is prepared it's stored into Word2Vec model.\n",
    "        \"\"\"\n",
    "        self.word2vec = Word2Vec(sentences=self.documents_corpus, window=WINDOW,\n",
    "                                 min_count=MIN_COUNT, vector_size=VECTOR_SIZE)\n",
    "\n",
    "    def execute(self):\n",
    "        \"\"\"\n",
    "            The final step is execution, where are stored each step and it will be executed in a row\n",
    "        \"\"\"\n",
    "        self.download_datasets()\n",
    "        self.extract_textual_data()\n",
    "        self.clean_textual_data()\n",
    "        self.transform_to_spacy_doc()\n",
    "        self.extract_features()\n",
    "        self.model_training()\n",
    "\n",
    "\n",
    "class LanguageModelWordsFilter:\n",
    "    def __init__(self, word2vec_model: Word2Vec, key_words: List[str], pos: List[str]) -> None:\n",
    "        self.word2vec_model = word2vec_model\n",
    "        self.key_words = key_words\n",
    "        self.pos = pos\n",
    "        self.word2vec_document = None\n",
    "\n",
    "    def extract_pos(self) -> List[str]:\n",
    "        \"\"\"\n",
    "            transforms a word2vec indexes into spacy document and selects parts of\n",
    "            speech. After that it puts into a list and converts those parts of speech\n",
    "            into strings.\n",
    "        \"\"\"\n",
    "        self.word2vec_document = nlp(str(self.word2vec_model.wv.index_to_key))\n",
    "        self.word2vec_document = select_pos(self.word2vec_document, self.pos)\n",
    "\n",
    "        return list(map(str, self.word2vec_document))\n",
    "\n",
    "    def select_key_words(self) -> List[str]:\n",
    "        \"\"\"\n",
    "            Finds each word form inserted list of key words and returns a\n",
    "            list with those words if there are presented in the list of\n",
    "            extracted parts of speech.\n",
    "        \"\"\"\n",
    "        return [word for word in self.key_words if word in self.extract_pos()]\n",
    "\n",
    "    def select_pos_index(self) -> list:\n",
    "        \"\"\"\n",
    "            Detects the part of speech indexes and returns them into a list\n",
    "        \"\"\"\n",
    "        return [self.word2vec_model.wv.index_to_key.index(token) for token in self.extract_pos()\n",
    "                if token in self.word2vec_model.wv.index_to_key]\n",
    "\n",
    "    def select_pos_embeddings(self) -> list:\n",
    "        \"\"\"\n",
    "            Detects part of speech embeddings from their indexes\n",
    "        \"\"\"\n",
    "        return [self.word2vec_model.wv.vectors[index] for index in self.select_pos_index()]"
   ],
   "metadata": {
    "collapsed": false,
    "pycharm": {
     "name": "#%%\n"
    }
   }
  },
  {
   "cell_type": "markdown",
   "source": [
    "## Experiment Nr#1 language model based on:\n",
    "- PWDB\n",
    "- eu-timeline\n",
    "- ireland-timeline"
   ],
   "metadata": {
    "collapsed": false,
    "pycharm": {
     "name": "#%% md\n"
    }
   }
  },
  {
   "cell_type": "code",
   "execution_count": 44,
   "outputs": [
    {
     "name": "stderr",
     "output_type": "stream",
     "text": [
      "100% (1288 of 1288) |####################| Elapsed Time: 0:00:00 Time:  0:00:00\n",
      "100% (171 of 171) |######################| Elapsed Time: 0:00:00 Time:  0:00:00\n",
      "100% (410 of 410) |######################| Elapsed Time: 0:00:00 Time:  0:00:00\n"
     ]
    }
   ],
   "source": [
    "dataset_sources_config = [\n",
    "    (Dataset.PWDB, PWDB_TEXTUAL_CLASS),\n",
    "    (Dataset.EU_ACTION_TIMELINE, DEFAULT_TEXTUAL_COLUMN),\n",
    "    (Dataset.IRELAND_ACTION_TIMELINE, DEFAULT_TEXTUAL_COLUMN)\n",
    "]\n",
    "model1_language_model_pipeline = LanguageModelPipeline(dataset_sources=dataset_sources_config)\n",
    "model1_language_model_pipeline.execute()"
   ],
   "metadata": {
    "collapsed": false,
    "pycharm": {
     "name": "#%%\n"
    }
   }
  },
  {
   "cell_type": "markdown",
   "source": [
    "## Experiment Nr#2 language model based on:\n",
    "- eu-cellar\n"
   ],
   "metadata": {
    "collapsed": false,
    "pycharm": {
     "name": "#%% md\n"
    }
   }
  },
  {
   "cell_type": "code",
   "execution_count": 16,
   "outputs": [
    {
     "name": "stderr",
     "output_type": "stream",
     "text": [
      "100% (2653 of 2653) |####################| Elapsed Time: 0:00:01 Time:  0:00:01\n"
     ]
    }
   ],
   "source": [
    "dataset_sources_config = [\n",
    "    (Dataset.EU_CELLAR, DEFAULT_TEXTUAL_COLUMN)\n",
    "]\n",
    "model2_language_model_pipeline = LanguageModelPipeline(dataset_sources=dataset_sources_config)\n",
    "model2_language_model_pipeline.execute()"
   ],
   "metadata": {
    "collapsed": false,
    "pycharm": {
     "name": "#%%\n"
    }
   }
  },
  {
   "cell_type": "markdown",
   "source": [
    "## Experiment Nr#3 language model based on:\n",
    "- PWDB\n",
    "- eu-timeline\n",
    "- ireland-timeline\n",
    "- eu-cellar"
   ],
   "metadata": {
    "collapsed": false,
    "pycharm": {
     "name": "#%% md\n"
    }
   }
  },
  {
   "cell_type": "code",
   "execution_count": 145,
   "outputs": [],
   "source": [
    "dataset_sources_config = [\n",
    "    (Dataset.PWDB, PWDB_TEXTUAL_CLASS),\n",
    "    (Dataset.EU_ACTION_TIMELINE, DEFAULT_TEXTUAL_COLUMN),\n",
    "    (Dataset.IRELAND_ACTION_TIMELINE, DEFAULT_TEXTUAL_COLUMN),\n",
    "    (Dataset.EU_CELLAR, DEFAULT_TEXTUAL_COLUMN)\n",
    "]\n",
    "model3_language_model_pipeline = LanguageModelPipeline(dataset_sources=dataset_sources_config)\n",
    "model3_language_model_pipeline.execute()"
   ],
   "metadata": {
    "collapsed": false,
    "pycharm": {
     "name": "#%%\n"
    }
   }
  },
  {
   "cell_type": "code",
   "execution_count": null,
   "outputs": [],
   "source": [
    "key_words = ['work', 'agreement', 'working', 'companies', 'workers',\n",
    "             'measures', 'temporary', 'social', 'support', 'covid19',\n",
    "             '2020', 'public', 'national', 'ireland', 'statement', '2021',\n",
    "             'announce', 'health', 'minister', 'new', 'billion', 'coronavirus',\n",
    "             'vaccine', 'eur', 'support', 'million', 'commission', 'eu']\n",
    "\n",
    "model1_language_model_filter = LanguageModelWordsFilter(model1_language_model_pipeline.word2vec,\n",
    "                                                 key_words, pos=['NOUN', 'ADJ'])\n",
    "\n",
    "model2_language_model_filter = LanguageModelWordsFilter(model2_language_model_pipeline.word2vec,\n",
    "                                                 key_words, pos=['NOUN', 'ADJ'])\n",
    "\n",
    "model3_language_model_filter = LanguageModelWordsFilter(model3_language_model_pipeline.word2vec,\n",
    "                                                 key_words, pos=['NOUN', 'ADJ'])"
   ],
   "metadata": {
    "collapsed": false,
    "pycharm": {
     "name": "#%%\n"
    }
   }
  },
  {
   "cell_type": "markdown",
   "source": [
    "## Similarity matrices\n",
    "### Euclidean similarity"
   ],
   "metadata": {
    "collapsed": false
   }
  },
  {
   "cell_type": "code",
   "execution_count": 149,
   "outputs": [
    {
     "data": {
      "text/plain": "                     social   measure   covid19   support  government  \\\nsocial             1.000000  0.045414  0.036553  0.040688    0.038418   \nmeasure            0.045414  1.000000  0.040072  0.052514    0.045136   \ncovid19            0.036553  0.040072  1.000000  0.040927    0.038312   \nsupport            0.040688  0.052514  0.040927  1.000000    0.044290   \ngovernment         0.038418  0.045136  0.038312  0.044290    1.000000   \n...                     ...       ...       ...       ...         ...   \nappearance         0.049397  0.060178  0.050684  0.062111    0.050361   \nwalloniebruxelle   0.049346  0.060070  0.050557  0.062157    0.050291   \ninvest.brussel     0.049368  0.060048  0.050609  0.062105    0.050259   \ndeadlines.flander  0.049364  0.060149  0.050561  0.062092    0.050297   \ncolive             0.049391  0.060187  0.050696  0.062148    0.050333   \n\n                    company  employees  measures    period  companies  ...  \\\nsocial             0.038948   0.041439  0.042446  0.041354   0.041731  ...   \nmeasure            0.046630   0.046503  0.097676  0.053653   0.053452  ...   \ncovid19            0.044664   0.043341  0.043267  0.045235   0.046020  ...   \nsupport            0.045513   0.048725  0.048246  0.048973   0.053119  ...   \ngovernment         0.041164   0.041489  0.045369  0.043063   0.043451  ...   \n...                     ...        ...       ...       ...        ...  ...   \nappearance         0.068271   0.066202  0.057942  0.073440   0.073691  ...   \nwalloniebruxelle   0.068264   0.066135  0.057774  0.073270   0.073689  ...   \ninvest.brussel     0.068202   0.066131  0.057793  0.073115   0.073582  ...   \ndeadlines.flander  0.068185   0.066235  0.057867  0.073352   0.073497  ...   \ncolive             0.068280   0.066130  0.057945  0.073408   0.073675  ...   \n\n                    outlook   revisit    skille  consutle  pedagogue  \\\nsocial             0.049398  0.049399  0.049402  0.049401   0.049373   \nmeasure            0.060099  0.060079  0.060139  0.060107   0.060043   \ncovid19            0.050691  0.050640  0.050615  0.050556   0.050566   \nsupport            0.062091  0.062080  0.062247  0.062099   0.062089   \ngovernment         0.050292  0.050257  0.050279  0.050318   0.050251   \n...                     ...       ...       ...       ...        ...   \nappearance         0.924269  0.882282  0.881245  0.881813   0.895364   \nwalloniebruxelle   0.871843  0.866184  0.878068  0.867170   0.895470   \ninvest.brussel     0.884120  0.878707  0.885699  0.878762   0.896787   \ndeadlines.flander  0.880254  0.878745  0.889340  0.879620   0.896835   \ncolive             0.918176  0.894485  0.895129  0.885964   0.894463   \n\n                   appearance  walloniebruxelle  invest.brussel  \\\nsocial               0.049397          0.049346        0.049368   \nmeasure              0.060178          0.060070        0.060048   \ncovid19              0.050684          0.050557        0.050609   \nsupport              0.062111          0.062157        0.062105   \ngovernment           0.050361          0.050291        0.050259   \n...                       ...               ...             ...   \nappearance           1.000000          0.875456        0.874494   \nwalloniebruxelle     0.875456          1.000000        0.876839   \ninvest.brussel       0.874494          0.876839        1.000000   \ndeadlines.flander    0.873430          0.846993        0.878381   \ncolive               0.920749          0.875342        0.890829   \n\n                   deadlines.flander    colive  \nsocial                      0.049364  0.049391  \nmeasure                     0.060149  0.060187  \ncovid19                     0.050561  0.050696  \nsupport                     0.062092  0.062148  \ngovernment                  0.050297  0.050333  \n...                              ...       ...  \nappearance                  0.873430  0.920749  \nwalloniebruxelle            0.846993  0.875342  \ninvest.brussel              0.878381  0.890829  \ndeadlines.flander           1.000000  0.890266  \ncolive                      0.890266  1.000000  \n\n[10968 rows x 10968 columns]",
      "text/html": "<div>\n<style scoped>\n    .dataframe tbody tr th:only-of-type {\n        vertical-align: middle;\n    }\n\n    .dataframe tbody tr th {\n        vertical-align: top;\n    }\n\n    .dataframe thead th {\n        text-align: right;\n    }\n</style>\n<table border=\"1\" class=\"dataframe\">\n  <thead>\n    <tr style=\"text-align: right;\">\n      <th></th>\n      <th>social</th>\n      <th>measure</th>\n      <th>covid19</th>\n      <th>support</th>\n      <th>government</th>\n      <th>company</th>\n      <th>employees</th>\n      <th>measures</th>\n      <th>period</th>\n      <th>companies</th>\n      <th>...</th>\n      <th>outlook</th>\n      <th>revisit</th>\n      <th>skille</th>\n      <th>consutle</th>\n      <th>pedagogue</th>\n      <th>appearance</th>\n      <th>walloniebruxelle</th>\n      <th>invest.brussel</th>\n      <th>deadlines.flander</th>\n      <th>colive</th>\n    </tr>\n  </thead>\n  <tbody>\n    <tr>\n      <th>social</th>\n      <td>1.000000</td>\n      <td>0.045414</td>\n      <td>0.036553</td>\n      <td>0.040688</td>\n      <td>0.038418</td>\n      <td>0.038948</td>\n      <td>0.041439</td>\n      <td>0.042446</td>\n      <td>0.041354</td>\n      <td>0.041731</td>\n      <td>...</td>\n      <td>0.049398</td>\n      <td>0.049399</td>\n      <td>0.049402</td>\n      <td>0.049401</td>\n      <td>0.049373</td>\n      <td>0.049397</td>\n      <td>0.049346</td>\n      <td>0.049368</td>\n      <td>0.049364</td>\n      <td>0.049391</td>\n    </tr>\n    <tr>\n      <th>measure</th>\n      <td>0.045414</td>\n      <td>1.000000</td>\n      <td>0.040072</td>\n      <td>0.052514</td>\n      <td>0.045136</td>\n      <td>0.046630</td>\n      <td>0.046503</td>\n      <td>0.097676</td>\n      <td>0.053653</td>\n      <td>0.053452</td>\n      <td>...</td>\n      <td>0.060099</td>\n      <td>0.060079</td>\n      <td>0.060139</td>\n      <td>0.060107</td>\n      <td>0.060043</td>\n      <td>0.060178</td>\n      <td>0.060070</td>\n      <td>0.060048</td>\n      <td>0.060149</td>\n      <td>0.060187</td>\n    </tr>\n    <tr>\n      <th>covid19</th>\n      <td>0.036553</td>\n      <td>0.040072</td>\n      <td>1.000000</td>\n      <td>0.040927</td>\n      <td>0.038312</td>\n      <td>0.044664</td>\n      <td>0.043341</td>\n      <td>0.043267</td>\n      <td>0.045235</td>\n      <td>0.046020</td>\n      <td>...</td>\n      <td>0.050691</td>\n      <td>0.050640</td>\n      <td>0.050615</td>\n      <td>0.050556</td>\n      <td>0.050566</td>\n      <td>0.050684</td>\n      <td>0.050557</td>\n      <td>0.050609</td>\n      <td>0.050561</td>\n      <td>0.050696</td>\n    </tr>\n    <tr>\n      <th>support</th>\n      <td>0.040688</td>\n      <td>0.052514</td>\n      <td>0.040927</td>\n      <td>1.000000</td>\n      <td>0.044290</td>\n      <td>0.045513</td>\n      <td>0.048725</td>\n      <td>0.048246</td>\n      <td>0.048973</td>\n      <td>0.053119</td>\n      <td>...</td>\n      <td>0.062091</td>\n      <td>0.062080</td>\n      <td>0.062247</td>\n      <td>0.062099</td>\n      <td>0.062089</td>\n      <td>0.062111</td>\n      <td>0.062157</td>\n      <td>0.062105</td>\n      <td>0.062092</td>\n      <td>0.062148</td>\n    </tr>\n    <tr>\n      <th>government</th>\n      <td>0.038418</td>\n      <td>0.045136</td>\n      <td>0.038312</td>\n      <td>0.044290</td>\n      <td>1.000000</td>\n      <td>0.041164</td>\n      <td>0.041489</td>\n      <td>0.045369</td>\n      <td>0.043063</td>\n      <td>0.043451</td>\n      <td>...</td>\n      <td>0.050292</td>\n      <td>0.050257</td>\n      <td>0.050279</td>\n      <td>0.050318</td>\n      <td>0.050251</td>\n      <td>0.050361</td>\n      <td>0.050291</td>\n      <td>0.050259</td>\n      <td>0.050297</td>\n      <td>0.050333</td>\n    </tr>\n    <tr>\n      <th>...</th>\n      <td>...</td>\n      <td>...</td>\n      <td>...</td>\n      <td>...</td>\n      <td>...</td>\n      <td>...</td>\n      <td>...</td>\n      <td>...</td>\n      <td>...</td>\n      <td>...</td>\n      <td>...</td>\n      <td>...</td>\n      <td>...</td>\n      <td>...</td>\n      <td>...</td>\n      <td>...</td>\n      <td>...</td>\n      <td>...</td>\n      <td>...</td>\n      <td>...</td>\n      <td>...</td>\n    </tr>\n    <tr>\n      <th>appearance</th>\n      <td>0.049397</td>\n      <td>0.060178</td>\n      <td>0.050684</td>\n      <td>0.062111</td>\n      <td>0.050361</td>\n      <td>0.068271</td>\n      <td>0.066202</td>\n      <td>0.057942</td>\n      <td>0.073440</td>\n      <td>0.073691</td>\n      <td>...</td>\n      <td>0.924269</td>\n      <td>0.882282</td>\n      <td>0.881245</td>\n      <td>0.881813</td>\n      <td>0.895364</td>\n      <td>1.000000</td>\n      <td>0.875456</td>\n      <td>0.874494</td>\n      <td>0.873430</td>\n      <td>0.920749</td>\n    </tr>\n    <tr>\n      <th>walloniebruxelle</th>\n      <td>0.049346</td>\n      <td>0.060070</td>\n      <td>0.050557</td>\n      <td>0.062157</td>\n      <td>0.050291</td>\n      <td>0.068264</td>\n      <td>0.066135</td>\n      <td>0.057774</td>\n      <td>0.073270</td>\n      <td>0.073689</td>\n      <td>...</td>\n      <td>0.871843</td>\n      <td>0.866184</td>\n      <td>0.878068</td>\n      <td>0.867170</td>\n      <td>0.895470</td>\n      <td>0.875456</td>\n      <td>1.000000</td>\n      <td>0.876839</td>\n      <td>0.846993</td>\n      <td>0.875342</td>\n    </tr>\n    <tr>\n      <th>invest.brussel</th>\n      <td>0.049368</td>\n      <td>0.060048</td>\n      <td>0.050609</td>\n      <td>0.062105</td>\n      <td>0.050259</td>\n      <td>0.068202</td>\n      <td>0.066131</td>\n      <td>0.057793</td>\n      <td>0.073115</td>\n      <td>0.073582</td>\n      <td>...</td>\n      <td>0.884120</td>\n      <td>0.878707</td>\n      <td>0.885699</td>\n      <td>0.878762</td>\n      <td>0.896787</td>\n      <td>0.874494</td>\n      <td>0.876839</td>\n      <td>1.000000</td>\n      <td>0.878381</td>\n      <td>0.890829</td>\n    </tr>\n    <tr>\n      <th>deadlines.flander</th>\n      <td>0.049364</td>\n      <td>0.060149</td>\n      <td>0.050561</td>\n      <td>0.062092</td>\n      <td>0.050297</td>\n      <td>0.068185</td>\n      <td>0.066235</td>\n      <td>0.057867</td>\n      <td>0.073352</td>\n      <td>0.073497</td>\n      <td>...</td>\n      <td>0.880254</td>\n      <td>0.878745</td>\n      <td>0.889340</td>\n      <td>0.879620</td>\n      <td>0.896835</td>\n      <td>0.873430</td>\n      <td>0.846993</td>\n      <td>0.878381</td>\n      <td>1.000000</td>\n      <td>0.890266</td>\n    </tr>\n    <tr>\n      <th>colive</th>\n      <td>0.049391</td>\n      <td>0.060187</td>\n      <td>0.050696</td>\n      <td>0.062148</td>\n      <td>0.050333</td>\n      <td>0.068280</td>\n      <td>0.066130</td>\n      <td>0.057945</td>\n      <td>0.073408</td>\n      <td>0.073675</td>\n      <td>...</td>\n      <td>0.918176</td>\n      <td>0.894485</td>\n      <td>0.895129</td>\n      <td>0.885964</td>\n      <td>0.894463</td>\n      <td>0.920749</td>\n      <td>0.875342</td>\n      <td>0.890829</td>\n      <td>0.890266</td>\n      <td>1.000000</td>\n    </tr>\n  </tbody>\n</table>\n<p>10968 rows × 10968 columns</p>\n</div>"
     },
     "execution_count": 149,
     "metadata": {},
     "output_type": "execute_result"
    }
   ],
   "source": [
    "model1_euclidean_similarity_matrix = get_similarity_matrix(model1_language_model_filter.select_pos_embeddings(),\n",
    "                                                           model1_language_model_filter.extract_pos(),\n",
    "                                                           metric=euclidean_similarity)\n",
    "model1_euclidean_similarity_matrix"
   ],
   "metadata": {
    "collapsed": false,
    "pycharm": {
     "name": "#%%\n"
    }
   }
  },
  {
   "cell_type": "code",
   "execution_count": 141,
   "outputs": [
    {
     "data": {
      "text/plain": "               european   council  regulation  commission  parliament  \\\neuropean       1.000000  0.093699    0.068245    0.078582    0.086148   \ncouncil        0.093699  1.000000    0.081587    0.090028    0.081496   \nregulation     0.068245  0.081587    1.000000    0.066500    0.079297   \ncommission     0.078582  0.090028    0.066500    1.000000    0.079339   \nparliament     0.086148  0.081496    0.079297    0.079339    1.000000   \n...                 ...       ...         ...         ...         ...   \nsalamander     0.072078  0.071174    0.063349    0.086641    0.064794   \nsubsidise      0.072084  0.071169    0.063462    0.086885    0.064865   \naffair         0.072049  0.071119    0.063170    0.086618    0.064751   \nrecomendation  0.071993  0.071109    0.063431    0.086582    0.064762   \nboto           0.071968  0.071046    0.063254    0.086663    0.064709   \n\n               decision  committee         c      case  document  ...  \\\neuropean       0.066943   0.080274  0.044170  0.039734  0.065066  ...   \ncouncil        0.071549   0.070198  0.045082  0.038972  0.067715  ...   \nregulation     0.082912   0.053828  0.043661  0.036714  0.056090  ...   \ncommission     0.075965   0.065807  0.048335  0.044915  0.088855  ...   \nparliament     0.069556   0.066409  0.042552  0.037238  0.063679  ...   \n...                 ...        ...       ...       ...       ...  ...   \nsalamander     0.077444   0.066074  0.058359  0.055883  0.065174  ...   \nsubsidise      0.077704   0.066059  0.058471  0.056081  0.065220  ...   \naffair         0.077368   0.066264  0.058305  0.055915  0.065191  ...   \nrecomendation  0.077764   0.066060  0.058568  0.056114  0.065169  ...   \nboto           0.077472   0.066058  0.058355  0.056060  0.065124  ...   \n\n                 cheese  donation  supplier   torvald  salamandrivoran  \\\neuropean       0.071885  0.072017  0.072025  0.072039         0.072028   \ncouncil        0.071001  0.071216  0.071209  0.071137         0.071118   \nregulation     0.063278  0.063404  0.063314  0.063299         0.063280   \ncommission     0.086595  0.086783  0.087016  0.086822         0.086993   \nparliament     0.064697  0.064816  0.064794  0.064789         0.064769   \n...                 ...       ...       ...       ...              ...   \nsalamander     0.870812  0.872041  0.821891  0.883616         0.879646   \nsubsidise      0.868185  0.863674  0.843144  0.893469         0.861726   \naffair         0.847245  0.840011  0.810927  0.868540         0.857422   \nrecomendation  0.865549  0.881332  0.849117  0.895851         0.855870   \nboto           0.876478  0.871413  0.837124  0.909965         0.885516   \n\n               salamander  subsidise    affair  recomendation      boto  \neuropean         0.072078   0.072084  0.072049       0.071993  0.071968  \ncouncil          0.071174   0.071169  0.071119       0.071109  0.071046  \nregulation       0.063349   0.063462  0.063170       0.063431  0.063254  \ncommission       0.086641   0.086885  0.086618       0.086582  0.086663  \nparliament       0.064794   0.064865  0.064751       0.064762  0.064709  \n...                   ...        ...       ...            ...       ...  \nsalamander       1.000000   0.873806  0.891242       0.860991  0.906744  \nsubsidise        0.873806   1.000000  0.832433       0.898354  0.885257  \naffair           0.891242   0.832433  1.000000       0.828108  0.884529  \nrecomendation    0.860991   0.898354  0.828108       1.000000  0.880963  \nboto             0.906744   0.885257  0.884529       0.880963  1.000000  \n\n[3915 rows x 3915 columns]",
      "text/html": "<div>\n<style scoped>\n    .dataframe tbody tr th:only-of-type {\n        vertical-align: middle;\n    }\n\n    .dataframe tbody tr th {\n        vertical-align: top;\n    }\n\n    .dataframe thead th {\n        text-align: right;\n    }\n</style>\n<table border=\"1\" class=\"dataframe\">\n  <thead>\n    <tr style=\"text-align: right;\">\n      <th></th>\n      <th>european</th>\n      <th>council</th>\n      <th>regulation</th>\n      <th>commission</th>\n      <th>parliament</th>\n      <th>decision</th>\n      <th>committee</th>\n      <th>c</th>\n      <th>case</th>\n      <th>document</th>\n      <th>...</th>\n      <th>cheese</th>\n      <th>donation</th>\n      <th>supplier</th>\n      <th>torvald</th>\n      <th>salamandrivoran</th>\n      <th>salamander</th>\n      <th>subsidise</th>\n      <th>affair</th>\n      <th>recomendation</th>\n      <th>boto</th>\n    </tr>\n  </thead>\n  <tbody>\n    <tr>\n      <th>european</th>\n      <td>1.000000</td>\n      <td>0.093699</td>\n      <td>0.068245</td>\n      <td>0.078582</td>\n      <td>0.086148</td>\n      <td>0.066943</td>\n      <td>0.080274</td>\n      <td>0.044170</td>\n      <td>0.039734</td>\n      <td>0.065066</td>\n      <td>...</td>\n      <td>0.071885</td>\n      <td>0.072017</td>\n      <td>0.072025</td>\n      <td>0.072039</td>\n      <td>0.072028</td>\n      <td>0.072078</td>\n      <td>0.072084</td>\n      <td>0.072049</td>\n      <td>0.071993</td>\n      <td>0.071968</td>\n    </tr>\n    <tr>\n      <th>council</th>\n      <td>0.093699</td>\n      <td>1.000000</td>\n      <td>0.081587</td>\n      <td>0.090028</td>\n      <td>0.081496</td>\n      <td>0.071549</td>\n      <td>0.070198</td>\n      <td>0.045082</td>\n      <td>0.038972</td>\n      <td>0.067715</td>\n      <td>...</td>\n      <td>0.071001</td>\n      <td>0.071216</td>\n      <td>0.071209</td>\n      <td>0.071137</td>\n      <td>0.071118</td>\n      <td>0.071174</td>\n      <td>0.071169</td>\n      <td>0.071119</td>\n      <td>0.071109</td>\n      <td>0.071046</td>\n    </tr>\n    <tr>\n      <th>regulation</th>\n      <td>0.068245</td>\n      <td>0.081587</td>\n      <td>1.000000</td>\n      <td>0.066500</td>\n      <td>0.079297</td>\n      <td>0.082912</td>\n      <td>0.053828</td>\n      <td>0.043661</td>\n      <td>0.036714</td>\n      <td>0.056090</td>\n      <td>...</td>\n      <td>0.063278</td>\n      <td>0.063404</td>\n      <td>0.063314</td>\n      <td>0.063299</td>\n      <td>0.063280</td>\n      <td>0.063349</td>\n      <td>0.063462</td>\n      <td>0.063170</td>\n      <td>0.063431</td>\n      <td>0.063254</td>\n    </tr>\n    <tr>\n      <th>commission</th>\n      <td>0.078582</td>\n      <td>0.090028</td>\n      <td>0.066500</td>\n      <td>1.000000</td>\n      <td>0.079339</td>\n      <td>0.075965</td>\n      <td>0.065807</td>\n      <td>0.048335</td>\n      <td>0.044915</td>\n      <td>0.088855</td>\n      <td>...</td>\n      <td>0.086595</td>\n      <td>0.086783</td>\n      <td>0.087016</td>\n      <td>0.086822</td>\n      <td>0.086993</td>\n      <td>0.086641</td>\n      <td>0.086885</td>\n      <td>0.086618</td>\n      <td>0.086582</td>\n      <td>0.086663</td>\n    </tr>\n    <tr>\n      <th>parliament</th>\n      <td>0.086148</td>\n      <td>0.081496</td>\n      <td>0.079297</td>\n      <td>0.079339</td>\n      <td>1.000000</td>\n      <td>0.069556</td>\n      <td>0.066409</td>\n      <td>0.042552</td>\n      <td>0.037238</td>\n      <td>0.063679</td>\n      <td>...</td>\n      <td>0.064697</td>\n      <td>0.064816</td>\n      <td>0.064794</td>\n      <td>0.064789</td>\n      <td>0.064769</td>\n      <td>0.064794</td>\n      <td>0.064865</td>\n      <td>0.064751</td>\n      <td>0.064762</td>\n      <td>0.064709</td>\n    </tr>\n    <tr>\n      <th>...</th>\n      <td>...</td>\n      <td>...</td>\n      <td>...</td>\n      <td>...</td>\n      <td>...</td>\n      <td>...</td>\n      <td>...</td>\n      <td>...</td>\n      <td>...</td>\n      <td>...</td>\n      <td>...</td>\n      <td>...</td>\n      <td>...</td>\n      <td>...</td>\n      <td>...</td>\n      <td>...</td>\n      <td>...</td>\n      <td>...</td>\n      <td>...</td>\n      <td>...</td>\n      <td>...</td>\n    </tr>\n    <tr>\n      <th>salamander</th>\n      <td>0.072078</td>\n      <td>0.071174</td>\n      <td>0.063349</td>\n      <td>0.086641</td>\n      <td>0.064794</td>\n      <td>0.077444</td>\n      <td>0.066074</td>\n      <td>0.058359</td>\n      <td>0.055883</td>\n      <td>0.065174</td>\n      <td>...</td>\n      <td>0.870812</td>\n      <td>0.872041</td>\n      <td>0.821891</td>\n      <td>0.883616</td>\n      <td>0.879646</td>\n      <td>1.000000</td>\n      <td>0.873806</td>\n      <td>0.891242</td>\n      <td>0.860991</td>\n      <td>0.906744</td>\n    </tr>\n    <tr>\n      <th>subsidise</th>\n      <td>0.072084</td>\n      <td>0.071169</td>\n      <td>0.063462</td>\n      <td>0.086885</td>\n      <td>0.064865</td>\n      <td>0.077704</td>\n      <td>0.066059</td>\n      <td>0.058471</td>\n      <td>0.056081</td>\n      <td>0.065220</td>\n      <td>...</td>\n      <td>0.868185</td>\n      <td>0.863674</td>\n      <td>0.843144</td>\n      <td>0.893469</td>\n      <td>0.861726</td>\n      <td>0.873806</td>\n      <td>1.000000</td>\n      <td>0.832433</td>\n      <td>0.898354</td>\n      <td>0.885257</td>\n    </tr>\n    <tr>\n      <th>affair</th>\n      <td>0.072049</td>\n      <td>0.071119</td>\n      <td>0.063170</td>\n      <td>0.086618</td>\n      <td>0.064751</td>\n      <td>0.077368</td>\n      <td>0.066264</td>\n      <td>0.058305</td>\n      <td>0.055915</td>\n      <td>0.065191</td>\n      <td>...</td>\n      <td>0.847245</td>\n      <td>0.840011</td>\n      <td>0.810927</td>\n      <td>0.868540</td>\n      <td>0.857422</td>\n      <td>0.891242</td>\n      <td>0.832433</td>\n      <td>1.000000</td>\n      <td>0.828108</td>\n      <td>0.884529</td>\n    </tr>\n    <tr>\n      <th>recomendation</th>\n      <td>0.071993</td>\n      <td>0.071109</td>\n      <td>0.063431</td>\n      <td>0.086582</td>\n      <td>0.064762</td>\n      <td>0.077764</td>\n      <td>0.066060</td>\n      <td>0.058568</td>\n      <td>0.056114</td>\n      <td>0.065169</td>\n      <td>...</td>\n      <td>0.865549</td>\n      <td>0.881332</td>\n      <td>0.849117</td>\n      <td>0.895851</td>\n      <td>0.855870</td>\n      <td>0.860991</td>\n      <td>0.898354</td>\n      <td>0.828108</td>\n      <td>1.000000</td>\n      <td>0.880963</td>\n    </tr>\n    <tr>\n      <th>boto</th>\n      <td>0.071968</td>\n      <td>0.071046</td>\n      <td>0.063254</td>\n      <td>0.086663</td>\n      <td>0.064709</td>\n      <td>0.077472</td>\n      <td>0.066058</td>\n      <td>0.058355</td>\n      <td>0.056060</td>\n      <td>0.065124</td>\n      <td>...</td>\n      <td>0.876478</td>\n      <td>0.871413</td>\n      <td>0.837124</td>\n      <td>0.909965</td>\n      <td>0.885516</td>\n      <td>0.906744</td>\n      <td>0.885257</td>\n      <td>0.884529</td>\n      <td>0.880963</td>\n      <td>1.000000</td>\n    </tr>\n  </tbody>\n</table>\n<p>3915 rows × 3915 columns</p>\n</div>"
     },
     "execution_count": 141,
     "metadata": {},
     "output_type": "execute_result"
    }
   ],
   "source": [
    "model2_euclidean_similarity_matrix = get_similarity_matrix(model2_language_model_filter.select_pos_embeddings(),\n",
    "                                                           model2_language_model_filter.extract_pos(),\n",
    "                                                           metric=euclidean_similarity)\n",
    "model2_euclidean_similarity_matrix"
   ],
   "metadata": {
    "collapsed": false,
    "pycharm": {
     "name": "#%%\n"
    }
   }
  },
  {
   "cell_type": "code",
   "execution_count": 152,
   "outputs": [
    {
     "name": "stdout",
     "output_type": "stream",
     "text": [
      "CPU times: user 20min 7s, sys: 21.2 s, total: 20min 28s\n",
      "Wall time: 20min 8s\n"
     ]
    },
    {
     "data": {
      "text/plain": "                         social   covid19   measure  european   support  \\\nsocial                 1.000000  0.034061  0.041251  0.032243  0.036040   \ncovid19                0.034061  1.000000  0.039526  0.035435  0.038814   \nmeasure                0.041251  0.039526  1.000000  0.034286  0.047579   \neuropean               0.032243  0.035435  0.034286  1.000000  0.038121   \nsupport                0.036040  0.038814  0.047579  0.038121  1.000000   \n...                         ...       ...       ...       ...       ...   \nautomatically.brussel  0.044557  0.048546  0.053975  0.046360  0.054936   \nquestionsanswer        0.044599  0.048576  0.054033  0.046395  0.054828   \nhandler                0.044513  0.048555  0.053869  0.046423  0.054767   \nairplane               0.044465  0.048522  0.053871  0.046347  0.054805   \nboto                   0.044513  0.048621  0.054020  0.046383  0.054913   \n\n                        council  government  regulation   company  commission  \\\nsocial                 0.031143    0.035644    0.031709  0.036170    0.033705   \ncovid19                0.032450    0.037448    0.035612  0.042400    0.037817   \nmeasure                0.033643    0.043368    0.036559  0.044555    0.035780   \neuropean               0.041426    0.033996    0.037270  0.036386    0.038194   \nsupport                0.034895    0.040708    0.036478  0.042896    0.038022   \n...                         ...         ...         ...       ...         ...   \nautomatically.brussel  0.041089    0.047473    0.044783  0.062558    0.052059   \nquestionsanswer        0.041110    0.047512    0.044868  0.062526    0.052139   \nhandler                0.041069    0.047483    0.044796  0.062559    0.052060   \nairplane               0.041046    0.047435    0.044819  0.062522    0.052022   \nboto                   0.041066    0.047502    0.044773  0.062607    0.052024   \n\n                       ...  approvedamounte  munition  everrise  advertiser  \\\nsocial                 ...         0.044528  0.044570  0.044544    0.044537   \ncovid19                ...         0.048558  0.048575  0.048616    0.048617   \nmeasure                ...         0.053996  0.053951  0.054048    0.053953   \neuropean               ...         0.046347  0.046391  0.046358    0.046339   \nsupport                ...         0.054903  0.054815  0.054878    0.054766   \n...                    ...              ...       ...       ...         ...   \nautomatically.brussel  ...         0.829451  0.831950  0.837391    0.822218   \nquestionsanswer        ...         0.823674  0.911257  0.862432    0.871493   \nhandler                ...         0.841297  0.870104  0.866427    0.876984   \nairplane               ...         0.851443  0.857082  0.863481    0.874141   \nboto                   ...         0.848677  0.874717  0.865594    0.857609   \n\n                         cutoff  automatically.brussel  questionsanswer  \\\nsocial                 0.044542               0.044557         0.044599   \ncovid19                0.048554               0.048546         0.048576   \nmeasure                0.053963               0.053975         0.054033   \neuropean               0.046385               0.046360         0.046395   \nsupport                0.054860               0.054936         0.054828   \n...                         ...                    ...              ...   \nautomatically.brussel  0.885484               1.000000         0.811928   \nquestionsanswer        0.837361               0.811928         1.000000   \nhandler                0.839930               0.822979         0.852018   \nairplane               0.842735               0.835793         0.828552   \nboto                   0.887047               0.851533         0.859508   \n\n                        handler  airplane      boto  \nsocial                 0.044513  0.044465  0.044513  \ncovid19                0.048555  0.048522  0.048621  \nmeasure                0.053869  0.053871  0.054020  \neuropean               0.046423  0.046347  0.046383  \nsupport                0.054767  0.054805  0.054913  \n...                         ...       ...       ...  \nautomatically.brussel  0.822979  0.835793  0.851533  \nquestionsanswer        0.852018  0.828552  0.859508  \nhandler                1.000000  0.873703  0.858525  \nairplane               0.873703  1.000000  0.840136  \nboto                   0.858525  0.840136  1.000000  \n\n[12789 rows x 12789 columns]",
      "text/html": "<div>\n<style scoped>\n    .dataframe tbody tr th:only-of-type {\n        vertical-align: middle;\n    }\n\n    .dataframe tbody tr th {\n        vertical-align: top;\n    }\n\n    .dataframe thead th {\n        text-align: right;\n    }\n</style>\n<table border=\"1\" class=\"dataframe\">\n  <thead>\n    <tr style=\"text-align: right;\">\n      <th></th>\n      <th>social</th>\n      <th>covid19</th>\n      <th>measure</th>\n      <th>european</th>\n      <th>support</th>\n      <th>council</th>\n      <th>government</th>\n      <th>regulation</th>\n      <th>company</th>\n      <th>commission</th>\n      <th>...</th>\n      <th>approvedamounte</th>\n      <th>munition</th>\n      <th>everrise</th>\n      <th>advertiser</th>\n      <th>cutoff</th>\n      <th>automatically.brussel</th>\n      <th>questionsanswer</th>\n      <th>handler</th>\n      <th>airplane</th>\n      <th>boto</th>\n    </tr>\n  </thead>\n  <tbody>\n    <tr>\n      <th>social</th>\n      <td>1.000000</td>\n      <td>0.034061</td>\n      <td>0.041251</td>\n      <td>0.032243</td>\n      <td>0.036040</td>\n      <td>0.031143</td>\n      <td>0.035644</td>\n      <td>0.031709</td>\n      <td>0.036170</td>\n      <td>0.033705</td>\n      <td>...</td>\n      <td>0.044528</td>\n      <td>0.044570</td>\n      <td>0.044544</td>\n      <td>0.044537</td>\n      <td>0.044542</td>\n      <td>0.044557</td>\n      <td>0.044599</td>\n      <td>0.044513</td>\n      <td>0.044465</td>\n      <td>0.044513</td>\n    </tr>\n    <tr>\n      <th>covid19</th>\n      <td>0.034061</td>\n      <td>1.000000</td>\n      <td>0.039526</td>\n      <td>0.035435</td>\n      <td>0.038814</td>\n      <td>0.032450</td>\n      <td>0.037448</td>\n      <td>0.035612</td>\n      <td>0.042400</td>\n      <td>0.037817</td>\n      <td>...</td>\n      <td>0.048558</td>\n      <td>0.048575</td>\n      <td>0.048616</td>\n      <td>0.048617</td>\n      <td>0.048554</td>\n      <td>0.048546</td>\n      <td>0.048576</td>\n      <td>0.048555</td>\n      <td>0.048522</td>\n      <td>0.048621</td>\n    </tr>\n    <tr>\n      <th>measure</th>\n      <td>0.041251</td>\n      <td>0.039526</td>\n      <td>1.000000</td>\n      <td>0.034286</td>\n      <td>0.047579</td>\n      <td>0.033643</td>\n      <td>0.043368</td>\n      <td>0.036559</td>\n      <td>0.044555</td>\n      <td>0.035780</td>\n      <td>...</td>\n      <td>0.053996</td>\n      <td>0.053951</td>\n      <td>0.054048</td>\n      <td>0.053953</td>\n      <td>0.053963</td>\n      <td>0.053975</td>\n      <td>0.054033</td>\n      <td>0.053869</td>\n      <td>0.053871</td>\n      <td>0.054020</td>\n    </tr>\n    <tr>\n      <th>european</th>\n      <td>0.032243</td>\n      <td>0.035435</td>\n      <td>0.034286</td>\n      <td>1.000000</td>\n      <td>0.038121</td>\n      <td>0.041426</td>\n      <td>0.033996</td>\n      <td>0.037270</td>\n      <td>0.036386</td>\n      <td>0.038194</td>\n      <td>...</td>\n      <td>0.046347</td>\n      <td>0.046391</td>\n      <td>0.046358</td>\n      <td>0.046339</td>\n      <td>0.046385</td>\n      <td>0.046360</td>\n      <td>0.046395</td>\n      <td>0.046423</td>\n      <td>0.046347</td>\n      <td>0.046383</td>\n    </tr>\n    <tr>\n      <th>support</th>\n      <td>0.036040</td>\n      <td>0.038814</td>\n      <td>0.047579</td>\n      <td>0.038121</td>\n      <td>1.000000</td>\n      <td>0.034895</td>\n      <td>0.040708</td>\n      <td>0.036478</td>\n      <td>0.042896</td>\n      <td>0.038022</td>\n      <td>...</td>\n      <td>0.054903</td>\n      <td>0.054815</td>\n      <td>0.054878</td>\n      <td>0.054766</td>\n      <td>0.054860</td>\n      <td>0.054936</td>\n      <td>0.054828</td>\n      <td>0.054767</td>\n      <td>0.054805</td>\n      <td>0.054913</td>\n    </tr>\n    <tr>\n      <th>...</th>\n      <td>...</td>\n      <td>...</td>\n      <td>...</td>\n      <td>...</td>\n      <td>...</td>\n      <td>...</td>\n      <td>...</td>\n      <td>...</td>\n      <td>...</td>\n      <td>...</td>\n      <td>...</td>\n      <td>...</td>\n      <td>...</td>\n      <td>...</td>\n      <td>...</td>\n      <td>...</td>\n      <td>...</td>\n      <td>...</td>\n      <td>...</td>\n      <td>...</td>\n      <td>...</td>\n    </tr>\n    <tr>\n      <th>automatically.brussel</th>\n      <td>0.044557</td>\n      <td>0.048546</td>\n      <td>0.053975</td>\n      <td>0.046360</td>\n      <td>0.054936</td>\n      <td>0.041089</td>\n      <td>0.047473</td>\n      <td>0.044783</td>\n      <td>0.062558</td>\n      <td>0.052059</td>\n      <td>...</td>\n      <td>0.829451</td>\n      <td>0.831950</td>\n      <td>0.837391</td>\n      <td>0.822218</td>\n      <td>0.885484</td>\n      <td>1.000000</td>\n      <td>0.811928</td>\n      <td>0.822979</td>\n      <td>0.835793</td>\n      <td>0.851533</td>\n    </tr>\n    <tr>\n      <th>questionsanswer</th>\n      <td>0.044599</td>\n      <td>0.048576</td>\n      <td>0.054033</td>\n      <td>0.046395</td>\n      <td>0.054828</td>\n      <td>0.041110</td>\n      <td>0.047512</td>\n      <td>0.044868</td>\n      <td>0.062526</td>\n      <td>0.052139</td>\n      <td>...</td>\n      <td>0.823674</td>\n      <td>0.911257</td>\n      <td>0.862432</td>\n      <td>0.871493</td>\n      <td>0.837361</td>\n      <td>0.811928</td>\n      <td>1.000000</td>\n      <td>0.852018</td>\n      <td>0.828552</td>\n      <td>0.859508</td>\n    </tr>\n    <tr>\n      <th>handler</th>\n      <td>0.044513</td>\n      <td>0.048555</td>\n      <td>0.053869</td>\n      <td>0.046423</td>\n      <td>0.054767</td>\n      <td>0.041069</td>\n      <td>0.047483</td>\n      <td>0.044796</td>\n      <td>0.062559</td>\n      <td>0.052060</td>\n      <td>...</td>\n      <td>0.841297</td>\n      <td>0.870104</td>\n      <td>0.866427</td>\n      <td>0.876984</td>\n      <td>0.839930</td>\n      <td>0.822979</td>\n      <td>0.852018</td>\n      <td>1.000000</td>\n      <td>0.873703</td>\n      <td>0.858525</td>\n    </tr>\n    <tr>\n      <th>airplane</th>\n      <td>0.044465</td>\n      <td>0.048522</td>\n      <td>0.053871</td>\n      <td>0.046347</td>\n      <td>0.054805</td>\n      <td>0.041046</td>\n      <td>0.047435</td>\n      <td>0.044819</td>\n      <td>0.062522</td>\n      <td>0.052022</td>\n      <td>...</td>\n      <td>0.851443</td>\n      <td>0.857082</td>\n      <td>0.863481</td>\n      <td>0.874141</td>\n      <td>0.842735</td>\n      <td>0.835793</td>\n      <td>0.828552</td>\n      <td>0.873703</td>\n      <td>1.000000</td>\n      <td>0.840136</td>\n    </tr>\n    <tr>\n      <th>boto</th>\n      <td>0.044513</td>\n      <td>0.048621</td>\n      <td>0.054020</td>\n      <td>0.046383</td>\n      <td>0.054913</td>\n      <td>0.041066</td>\n      <td>0.047502</td>\n      <td>0.044773</td>\n      <td>0.062607</td>\n      <td>0.052024</td>\n      <td>...</td>\n      <td>0.848677</td>\n      <td>0.874717</td>\n      <td>0.865594</td>\n      <td>0.857609</td>\n      <td>0.887047</td>\n      <td>0.851533</td>\n      <td>0.859508</td>\n      <td>0.858525</td>\n      <td>0.840136</td>\n      <td>1.000000</td>\n    </tr>\n  </tbody>\n</table>\n<p>12789 rows × 12789 columns</p>\n</div>"
     },
     "execution_count": 152,
     "metadata": {},
     "output_type": "execute_result"
    }
   ],
   "source": [
    "%%time\n",
    "model3_euclidean_similarity_matrix = get_similarity_matrix(model3_language_model_filter.select_pos_embeddings(),\n",
    "                                                           model3_language_model_filter.extract_pos(),\n",
    "                                                           metric=euclidean_similarity)\n",
    "model3_euclidean_similarity_matrix"
   ],
   "metadata": {
    "collapsed": false,
    "pycharm": {
     "name": "#%%\n"
    }
   }
  },
  {
   "cell_type": "markdown",
   "source": [
    "### Cosine similarity"
   ],
   "metadata": {
    "collapsed": false
   }
  },
  {
   "cell_type": "code",
   "execution_count": 153,
   "outputs": [
    {
     "name": "stdout",
     "output_type": "stream",
     "text": [
      "CPU times: user 18min 18s, sys: 2.3 s, total: 18min 21s\n",
      "Wall time: 18min 20s\n"
     ]
    },
    {
     "data": {
      "text/plain": "                     social   measure   covid19   support  government  \\\nsocial             1.000000  0.288134  0.039221  0.074017    0.138933   \nmeasure            0.288134  1.000000  0.039240  0.311611    0.260343   \ncovid19            0.039221  0.039240  1.000000  0.055240    0.111384   \nsupport            0.074017  0.311611  0.055240  1.000000    0.209045   \ngovernment         0.138933  0.260343  0.111384  0.209045    1.000000   \n...                     ...       ...       ...       ...         ...   \nappearance         0.110663  0.213768  0.375900  0.052478    0.299020   \nwalloniebruxelle  -0.069746 -0.052065 -0.072236  0.132464    0.030185   \ninvest.brussel    -0.003046 -0.138582  0.107480  0.041190   -0.093501   \ndeadlines.flander -0.019748  0.145609 -0.082800  0.004834    0.062012   \ncolive             0.092014  0.258185  0.455562  0.155049    0.210918   \n\n                    company  employees  measures    period  companies  ...  \\\nsocial            -0.097899   0.063995  0.203206 -0.014286   0.004020  ...   \nmeasure            0.030873   0.052726  0.833483  0.235665   0.227267  ...   \ncovid19            0.158719   0.121158  0.210883  0.140071   0.171517  ...   \nsupport           -0.060666   0.108145  0.212650  0.028025   0.181148  ...   \ngovernment         0.001508   0.041477  0.291842  0.047306   0.064329  ...   \n...                     ...        ...       ...       ...        ...  ...   \nappearance         0.123938   0.046329  0.401192  0.178841   0.181617  ...   \nwalloniebruxelle   0.087726  -0.077218 -0.056308 -0.092892   0.141905  ...   \ninvest.brussel    -0.018812  -0.118479 -0.023556 -0.430829  -0.010435  ...   \ndeadlines.flander -0.053273   0.121225  0.197773  0.025927  -0.163920  ...   \ncolive             0.153984  -0.120293  0.442822  0.132874   0.166428  ...   \n\n                    outlook   revisit    skille  consutle  pedagogue  \\\nsocial             0.128852  0.140055  0.126438  0.140507   0.017404   \nmeasure            0.007057 -0.054723  0.109887  0.032083  -0.170082   \ncovid19            0.462688  0.258696  0.117556 -0.111088  -0.075086   \nsupport            0.003051 -0.030678  0.373923  0.024031  -0.002734   \ngovernment         0.047498 -0.114009 -0.009228  0.156411  -0.139077   \n...                     ...       ...       ...       ...        ...   \nappearance         0.663420  0.043696  0.207283  0.095323   0.274622   \nwalloniebruxelle   0.190948  0.063648  0.357350  0.124941   0.508592   \ninvest.brussel     0.031418 -0.136019  0.211813 -0.055908   0.216506   \ndeadlines.flander  0.006035 -0.078665  0.296176  0.009576   0.258038   \ncolive             0.556040  0.177747  0.354700  0.086634   0.181741   \n\n                   appearance  walloniebruxelle  invest.brussel  \\\nsocial               0.110663         -0.069746       -0.003046   \nmeasure              0.213768         -0.052065       -0.138582   \ncovid19              0.375900         -0.072236        0.107480   \nsupport              0.052478          0.132464        0.041190   \ngovernment           0.299020          0.030185       -0.093501   \n...                       ...               ...             ...   \nappearance           1.000000          0.312793       -0.002725   \nwalloniebruxelle     0.312793          1.000000        0.291434   \ninvest.brussel      -0.002725          0.291434        1.000000   \ndeadlines.flander    0.019845         -0.165060        0.022530   \ncolive               0.643453          0.272772        0.202819   \n\n                   deadlines.flander    colive  \nsocial                     -0.019748  0.092014  \nmeasure                     0.145609  0.258185  \ncovid19                    -0.082800  0.455562  \nsupport                     0.004834  0.155049  \ngovernment                  0.062012  0.210918  \n...                              ...       ...  \nappearance                  0.019845  0.643453  \nwalloniebruxelle           -0.165060  0.272772  \ninvest.brussel              0.022530  0.202819  \ndeadlines.flander           1.000000  0.229816  \ncolive                      0.229816  1.000000  \n\n[10968 rows x 10968 columns]",
      "text/html": "<div>\n<style scoped>\n    .dataframe tbody tr th:only-of-type {\n        vertical-align: middle;\n    }\n\n    .dataframe tbody tr th {\n        vertical-align: top;\n    }\n\n    .dataframe thead th {\n        text-align: right;\n    }\n</style>\n<table border=\"1\" class=\"dataframe\">\n  <thead>\n    <tr style=\"text-align: right;\">\n      <th></th>\n      <th>social</th>\n      <th>measure</th>\n      <th>covid19</th>\n      <th>support</th>\n      <th>government</th>\n      <th>company</th>\n      <th>employees</th>\n      <th>measures</th>\n      <th>period</th>\n      <th>companies</th>\n      <th>...</th>\n      <th>outlook</th>\n      <th>revisit</th>\n      <th>skille</th>\n      <th>consutle</th>\n      <th>pedagogue</th>\n      <th>appearance</th>\n      <th>walloniebruxelle</th>\n      <th>invest.brussel</th>\n      <th>deadlines.flander</th>\n      <th>colive</th>\n    </tr>\n  </thead>\n  <tbody>\n    <tr>\n      <th>social</th>\n      <td>1.000000</td>\n      <td>0.288134</td>\n      <td>0.039221</td>\n      <td>0.074017</td>\n      <td>0.138933</td>\n      <td>-0.097899</td>\n      <td>0.063995</td>\n      <td>0.203206</td>\n      <td>-0.014286</td>\n      <td>0.004020</td>\n      <td>...</td>\n      <td>0.128852</td>\n      <td>0.140055</td>\n      <td>0.126438</td>\n      <td>0.140507</td>\n      <td>0.017404</td>\n      <td>0.110663</td>\n      <td>-0.069746</td>\n      <td>-0.003046</td>\n      <td>-0.019748</td>\n      <td>0.092014</td>\n    </tr>\n    <tr>\n      <th>measure</th>\n      <td>0.288134</td>\n      <td>1.000000</td>\n      <td>0.039240</td>\n      <td>0.311611</td>\n      <td>0.260343</td>\n      <td>0.030873</td>\n      <td>0.052726</td>\n      <td>0.833483</td>\n      <td>0.235665</td>\n      <td>0.227267</td>\n      <td>...</td>\n      <td>0.007057</td>\n      <td>-0.054723</td>\n      <td>0.109887</td>\n      <td>0.032083</td>\n      <td>-0.170082</td>\n      <td>0.213768</td>\n      <td>-0.052065</td>\n      <td>-0.138582</td>\n      <td>0.145609</td>\n      <td>0.258185</td>\n    </tr>\n    <tr>\n      <th>covid19</th>\n      <td>0.039221</td>\n      <td>0.039240</td>\n      <td>1.000000</td>\n      <td>0.055240</td>\n      <td>0.111384</td>\n      <td>0.158719</td>\n      <td>0.121158</td>\n      <td>0.210883</td>\n      <td>0.140071</td>\n      <td>0.171517</td>\n      <td>...</td>\n      <td>0.462688</td>\n      <td>0.258696</td>\n      <td>0.117556</td>\n      <td>-0.111088</td>\n      <td>-0.075086</td>\n      <td>0.375900</td>\n      <td>-0.072236</td>\n      <td>0.107480</td>\n      <td>-0.082800</td>\n      <td>0.455562</td>\n    </tr>\n    <tr>\n      <th>support</th>\n      <td>0.074017</td>\n      <td>0.311611</td>\n      <td>0.055240</td>\n      <td>1.000000</td>\n      <td>0.209045</td>\n      <td>-0.060666</td>\n      <td>0.108145</td>\n      <td>0.212650</td>\n      <td>0.028025</td>\n      <td>0.181148</td>\n      <td>...</td>\n      <td>0.003051</td>\n      <td>-0.030678</td>\n      <td>0.373923</td>\n      <td>0.024031</td>\n      <td>-0.002734</td>\n      <td>0.052478</td>\n      <td>0.132464</td>\n      <td>0.041190</td>\n      <td>0.004834</td>\n      <td>0.155049</td>\n    </tr>\n    <tr>\n      <th>government</th>\n      <td>0.138933</td>\n      <td>0.260343</td>\n      <td>0.111384</td>\n      <td>0.209045</td>\n      <td>1.000000</td>\n      <td>0.001508</td>\n      <td>0.041477</td>\n      <td>0.291842</td>\n      <td>0.047306</td>\n      <td>0.064329</td>\n      <td>...</td>\n      <td>0.047498</td>\n      <td>-0.114009</td>\n      <td>-0.009228</td>\n      <td>0.156411</td>\n      <td>-0.139077</td>\n      <td>0.299020</td>\n      <td>0.030185</td>\n      <td>-0.093501</td>\n      <td>0.062012</td>\n      <td>0.210918</td>\n    </tr>\n    <tr>\n      <th>...</th>\n      <td>...</td>\n      <td>...</td>\n      <td>...</td>\n      <td>...</td>\n      <td>...</td>\n      <td>...</td>\n      <td>...</td>\n      <td>...</td>\n      <td>...</td>\n      <td>...</td>\n      <td>...</td>\n      <td>...</td>\n      <td>...</td>\n      <td>...</td>\n      <td>...</td>\n      <td>...</td>\n      <td>...</td>\n      <td>...</td>\n      <td>...</td>\n      <td>...</td>\n      <td>...</td>\n    </tr>\n    <tr>\n      <th>appearance</th>\n      <td>0.110663</td>\n      <td>0.213768</td>\n      <td>0.375900</td>\n      <td>0.052478</td>\n      <td>0.299020</td>\n      <td>0.123938</td>\n      <td>0.046329</td>\n      <td>0.401192</td>\n      <td>0.178841</td>\n      <td>0.181617</td>\n      <td>...</td>\n      <td>0.663420</td>\n      <td>0.043696</td>\n      <td>0.207283</td>\n      <td>0.095323</td>\n      <td>0.274622</td>\n      <td>1.000000</td>\n      <td>0.312793</td>\n      <td>-0.002725</td>\n      <td>0.019845</td>\n      <td>0.643453</td>\n    </tr>\n    <tr>\n      <th>walloniebruxelle</th>\n      <td>-0.069746</td>\n      <td>-0.052065</td>\n      <td>-0.072236</td>\n      <td>0.132464</td>\n      <td>0.030185</td>\n      <td>0.087726</td>\n      <td>-0.077218</td>\n      <td>-0.056308</td>\n      <td>-0.092892</td>\n      <td>0.141905</td>\n      <td>...</td>\n      <td>0.190948</td>\n      <td>0.063648</td>\n      <td>0.357350</td>\n      <td>0.124941</td>\n      <td>0.508592</td>\n      <td>0.312793</td>\n      <td>1.000000</td>\n      <td>0.291434</td>\n      <td>-0.165060</td>\n      <td>0.272772</td>\n    </tr>\n    <tr>\n      <th>invest.brussel</th>\n      <td>-0.003046</td>\n      <td>-0.138582</td>\n      <td>0.107480</td>\n      <td>0.041190</td>\n      <td>-0.093501</td>\n      <td>-0.018812</td>\n      <td>-0.118479</td>\n      <td>-0.023556</td>\n      <td>-0.430829</td>\n      <td>-0.010435</td>\n      <td>...</td>\n      <td>0.031418</td>\n      <td>-0.136019</td>\n      <td>0.211813</td>\n      <td>-0.055908</td>\n      <td>0.216506</td>\n      <td>-0.002725</td>\n      <td>0.291434</td>\n      <td>1.000000</td>\n      <td>0.022530</td>\n      <td>0.202819</td>\n    </tr>\n    <tr>\n      <th>deadlines.flander</th>\n      <td>-0.019748</td>\n      <td>0.145609</td>\n      <td>-0.082800</td>\n      <td>0.004834</td>\n      <td>0.062012</td>\n      <td>-0.053273</td>\n      <td>0.121225</td>\n      <td>0.197773</td>\n      <td>0.025927</td>\n      <td>-0.163920</td>\n      <td>...</td>\n      <td>0.006035</td>\n      <td>-0.078665</td>\n      <td>0.296176</td>\n      <td>0.009576</td>\n      <td>0.258038</td>\n      <td>0.019845</td>\n      <td>-0.165060</td>\n      <td>0.022530</td>\n      <td>1.000000</td>\n      <td>0.229816</td>\n    </tr>\n    <tr>\n      <th>colive</th>\n      <td>0.092014</td>\n      <td>0.258185</td>\n      <td>0.455562</td>\n      <td>0.155049</td>\n      <td>0.210918</td>\n      <td>0.153984</td>\n      <td>-0.120293</td>\n      <td>0.442822</td>\n      <td>0.132874</td>\n      <td>0.166428</td>\n      <td>...</td>\n      <td>0.556040</td>\n      <td>0.177747</td>\n      <td>0.354700</td>\n      <td>0.086634</td>\n      <td>0.181741</td>\n      <td>0.643453</td>\n      <td>0.272772</td>\n      <td>0.202819</td>\n      <td>0.229816</td>\n      <td>1.000000</td>\n    </tr>\n  </tbody>\n</table>\n<p>10968 rows × 10968 columns</p>\n</div>"
     },
     "execution_count": 153,
     "metadata": {},
     "output_type": "execute_result"
    }
   ],
   "source": [
    "%%time\n",
    "model1_cosine_similarity_matrix = get_similarity_matrix(model1_language_model_filter.select_pos_embeddings(),\n",
    "                                                        model1_language_model_filter.extract_pos(),\n",
    "                                                        metric=cosine_similarity)\n",
    "model1_cosine_similarity_matrix"
   ],
   "metadata": {
    "collapsed": false,
    "pycharm": {
     "name": "#%%\n"
    }
   }
  },
  {
   "cell_type": "code",
   "execution_count": 154,
   "outputs": [
    {
     "name": "stdout",
     "output_type": "stream",
     "text": [
      "CPU times: user 2min 23s, sys: 273 ms, total: 2min 23s\n",
      "Wall time: 2min 23s\n"
     ]
    },
    {
     "data": {
      "text/plain": "               european   council  regulation  commission  parliament  \\\neuropean       1.000000  0.721793    0.519890    0.513305    0.703763   \ncouncil        0.721793  1.000000    0.679218    0.651171    0.667754   \nregulation     0.519890  0.679218    1.000000    0.424612    0.684206   \ncommission     0.513305  0.651171    0.424612    1.000000    0.606831   \nparliament     0.703763  0.667754    0.684206    0.606831    1.000000   \n...                 ...       ...         ...         ...         ...   \nsalamander     0.096228 -0.010855   -0.075636   -0.249446   -0.040038   \nsubsidise      0.085406 -0.015348    0.193103    0.100355    0.120931   \naffair         0.022897 -0.089455   -0.395140   -0.186217   -0.102943   \nrecomendation -0.068913 -0.119494    0.122972   -0.255388   -0.095874   \nboto          -0.170900 -0.347730   -0.397313   -0.244516   -0.312954   \n\n               decision  committee         c      case  document  ...  \\\neuropean       0.368377   0.644128 -0.101847 -0.307602  0.446838  ...   \ncouncil        0.461146   0.527958 -0.043628 -0.348359  0.497900  ...   \nregulation     0.675476   0.261896 -0.002797 -0.372161  0.332257  ...   \ncommission     0.415231   0.366933 -0.049948 -0.160739  0.699789  ...   \nparliament     0.496947   0.516035 -0.081712 -0.361064  0.477553  ...   \n...                 ...        ...       ...       ...       ...  ...   \nsalamander    -0.418216   0.112679 -0.112797 -0.329545 -0.053768  ...   \nsubsidise      0.065917   0.056236  0.207329  0.311794  0.055868  ...   \naffair        -0.374214   0.412072 -0.194662 -0.137489 -0.002264  ...   \nrecomendation  0.152697   0.057575  0.452812  0.399243 -0.049620  ...   \nboto          -0.412304   0.077438 -0.140920  0.370249 -0.216545  ...   \n\n                 cheese  donation  supplier   torvald  salamandrivoran  \\\neuropean      -0.262311 -0.027714 -0.007310  0.007956        -0.009048   \ncouncil       -0.318868  0.064782  0.039717 -0.080088        -0.094919   \nregulation    -0.217946  0.064109 -0.085868 -0.185503        -0.188472   \ncommission    -0.249152 -0.018638  0.174843  0.026984         0.207064   \nparliament    -0.240908  0.018232 -0.016774 -0.045310        -0.073097   \n...                 ...       ...       ...       ...              ...   \nsalamander    -0.133096 -0.008122 -0.402202  0.017078         0.187428   \nsubsidise      0.070483  0.066019  0.161404  0.382829         0.081333   \naffair        -0.132596 -0.185482 -0.225167  0.152667         0.134940   \nrecomendation  0.038348  0.327888  0.246783  0.421507        -0.001800   \nboto          -0.118170 -0.112105 -0.160069  0.405656         0.232992   \n\n               salamander  subsidise    affair  recomendation      boto  \neuropean         0.096228   0.085406  0.022897      -0.068913 -0.170900  \ncouncil         -0.010855  -0.015348 -0.089455      -0.119494 -0.347730  \nregulation      -0.075636   0.193103 -0.395140       0.122972 -0.397313  \ncommission      -0.249446   0.100355 -0.186217      -0.255388 -0.244516  \nparliament      -0.040038   0.120931 -0.102943      -0.095874 -0.312954  \n...                   ...        ...       ...            ...       ...  \nsalamander       1.000000  -0.039335  0.412278      -0.289802  0.198891  \nsubsidise       -0.039335   1.000000 -0.384266       0.501774  0.098403  \naffair           0.412278  -0.384266  1.000000      -0.457239  0.274568  \nrecomendation   -0.289802   0.501774 -0.457239       1.000000  0.030047  \nboto             0.198891   0.098403  0.274568       0.030047  1.000000  \n\n[3915 rows x 3915 columns]",
      "text/html": "<div>\n<style scoped>\n    .dataframe tbody tr th:only-of-type {\n        vertical-align: middle;\n    }\n\n    .dataframe tbody tr th {\n        vertical-align: top;\n    }\n\n    .dataframe thead th {\n        text-align: right;\n    }\n</style>\n<table border=\"1\" class=\"dataframe\">\n  <thead>\n    <tr style=\"text-align: right;\">\n      <th></th>\n      <th>european</th>\n      <th>council</th>\n      <th>regulation</th>\n      <th>commission</th>\n      <th>parliament</th>\n      <th>decision</th>\n      <th>committee</th>\n      <th>c</th>\n      <th>case</th>\n      <th>document</th>\n      <th>...</th>\n      <th>cheese</th>\n      <th>donation</th>\n      <th>supplier</th>\n      <th>torvald</th>\n      <th>salamandrivoran</th>\n      <th>salamander</th>\n      <th>subsidise</th>\n      <th>affair</th>\n      <th>recomendation</th>\n      <th>boto</th>\n    </tr>\n  </thead>\n  <tbody>\n    <tr>\n      <th>european</th>\n      <td>1.000000</td>\n      <td>0.721793</td>\n      <td>0.519890</td>\n      <td>0.513305</td>\n      <td>0.703763</td>\n      <td>0.368377</td>\n      <td>0.644128</td>\n      <td>-0.101847</td>\n      <td>-0.307602</td>\n      <td>0.446838</td>\n      <td>...</td>\n      <td>-0.262311</td>\n      <td>-0.027714</td>\n      <td>-0.007310</td>\n      <td>0.007956</td>\n      <td>-0.009048</td>\n      <td>0.096228</td>\n      <td>0.085406</td>\n      <td>0.022897</td>\n      <td>-0.068913</td>\n      <td>-0.170900</td>\n    </tr>\n    <tr>\n      <th>council</th>\n      <td>0.721793</td>\n      <td>1.000000</td>\n      <td>0.679218</td>\n      <td>0.651171</td>\n      <td>0.667754</td>\n      <td>0.461146</td>\n      <td>0.527958</td>\n      <td>-0.043628</td>\n      <td>-0.348359</td>\n      <td>0.497900</td>\n      <td>...</td>\n      <td>-0.318868</td>\n      <td>0.064782</td>\n      <td>0.039717</td>\n      <td>-0.080088</td>\n      <td>-0.094919</td>\n      <td>-0.010855</td>\n      <td>-0.015348</td>\n      <td>-0.089455</td>\n      <td>-0.119494</td>\n      <td>-0.347730</td>\n    </tr>\n    <tr>\n      <th>regulation</th>\n      <td>0.519890</td>\n      <td>0.679218</td>\n      <td>1.000000</td>\n      <td>0.424612</td>\n      <td>0.684206</td>\n      <td>0.675476</td>\n      <td>0.261896</td>\n      <td>-0.002797</td>\n      <td>-0.372161</td>\n      <td>0.332257</td>\n      <td>...</td>\n      <td>-0.217946</td>\n      <td>0.064109</td>\n      <td>-0.085868</td>\n      <td>-0.185503</td>\n      <td>-0.188472</td>\n      <td>-0.075636</td>\n      <td>0.193103</td>\n      <td>-0.395140</td>\n      <td>0.122972</td>\n      <td>-0.397313</td>\n    </tr>\n    <tr>\n      <th>commission</th>\n      <td>0.513305</td>\n      <td>0.651171</td>\n      <td>0.424612</td>\n      <td>1.000000</td>\n      <td>0.606831</td>\n      <td>0.415231</td>\n      <td>0.366933</td>\n      <td>-0.049948</td>\n      <td>-0.160739</td>\n      <td>0.699789</td>\n      <td>...</td>\n      <td>-0.249152</td>\n      <td>-0.018638</td>\n      <td>0.174843</td>\n      <td>0.026984</td>\n      <td>0.207064</td>\n      <td>-0.249446</td>\n      <td>0.100355</td>\n      <td>-0.186217</td>\n      <td>-0.255388</td>\n      <td>-0.244516</td>\n    </tr>\n    <tr>\n      <th>parliament</th>\n      <td>0.703763</td>\n      <td>0.667754</td>\n      <td>0.684206</td>\n      <td>0.606831</td>\n      <td>1.000000</td>\n      <td>0.496947</td>\n      <td>0.516035</td>\n      <td>-0.081712</td>\n      <td>-0.361064</td>\n      <td>0.477553</td>\n      <td>...</td>\n      <td>-0.240908</td>\n      <td>0.018232</td>\n      <td>-0.016774</td>\n      <td>-0.045310</td>\n      <td>-0.073097</td>\n      <td>-0.040038</td>\n      <td>0.120931</td>\n      <td>-0.102943</td>\n      <td>-0.095874</td>\n      <td>-0.312954</td>\n    </tr>\n    <tr>\n      <th>...</th>\n      <td>...</td>\n      <td>...</td>\n      <td>...</td>\n      <td>...</td>\n      <td>...</td>\n      <td>...</td>\n      <td>...</td>\n      <td>...</td>\n      <td>...</td>\n      <td>...</td>\n      <td>...</td>\n      <td>...</td>\n      <td>...</td>\n      <td>...</td>\n      <td>...</td>\n      <td>...</td>\n      <td>...</td>\n      <td>...</td>\n      <td>...</td>\n      <td>...</td>\n      <td>...</td>\n    </tr>\n    <tr>\n      <th>salamander</th>\n      <td>0.096228</td>\n      <td>-0.010855</td>\n      <td>-0.075636</td>\n      <td>-0.249446</td>\n      <td>-0.040038</td>\n      <td>-0.418216</td>\n      <td>0.112679</td>\n      <td>-0.112797</td>\n      <td>-0.329545</td>\n      <td>-0.053768</td>\n      <td>...</td>\n      <td>-0.133096</td>\n      <td>-0.008122</td>\n      <td>-0.402202</td>\n      <td>0.017078</td>\n      <td>0.187428</td>\n      <td>1.000000</td>\n      <td>-0.039335</td>\n      <td>0.412278</td>\n      <td>-0.289802</td>\n      <td>0.198891</td>\n    </tr>\n    <tr>\n      <th>subsidise</th>\n      <td>0.085406</td>\n      <td>-0.015348</td>\n      <td>0.193103</td>\n      <td>0.100355</td>\n      <td>0.120931</td>\n      <td>0.065917</td>\n      <td>0.056236</td>\n      <td>0.207329</td>\n      <td>0.311794</td>\n      <td>0.055868</td>\n      <td>...</td>\n      <td>0.070483</td>\n      <td>0.066019</td>\n      <td>0.161404</td>\n      <td>0.382829</td>\n      <td>0.081333</td>\n      <td>-0.039335</td>\n      <td>1.000000</td>\n      <td>-0.384266</td>\n      <td>0.501774</td>\n      <td>0.098403</td>\n    </tr>\n    <tr>\n      <th>affair</th>\n      <td>0.022897</td>\n      <td>-0.089455</td>\n      <td>-0.395140</td>\n      <td>-0.186217</td>\n      <td>-0.102943</td>\n      <td>-0.374214</td>\n      <td>0.412072</td>\n      <td>-0.194662</td>\n      <td>-0.137489</td>\n      <td>-0.002264</td>\n      <td>...</td>\n      <td>-0.132596</td>\n      <td>-0.185482</td>\n      <td>-0.225167</td>\n      <td>0.152667</td>\n      <td>0.134940</td>\n      <td>0.412278</td>\n      <td>-0.384266</td>\n      <td>1.000000</td>\n      <td>-0.457239</td>\n      <td>0.274568</td>\n    </tr>\n    <tr>\n      <th>recomendation</th>\n      <td>-0.068913</td>\n      <td>-0.119494</td>\n      <td>0.122972</td>\n      <td>-0.255388</td>\n      <td>-0.095874</td>\n      <td>0.152697</td>\n      <td>0.057575</td>\n      <td>0.452812</td>\n      <td>0.399243</td>\n      <td>-0.049620</td>\n      <td>...</td>\n      <td>0.038348</td>\n      <td>0.327888</td>\n      <td>0.246783</td>\n      <td>0.421507</td>\n      <td>-0.001800</td>\n      <td>-0.289802</td>\n      <td>0.501774</td>\n      <td>-0.457239</td>\n      <td>1.000000</td>\n      <td>0.030047</td>\n    </tr>\n    <tr>\n      <th>boto</th>\n      <td>-0.170900</td>\n      <td>-0.347730</td>\n      <td>-0.397313</td>\n      <td>-0.244516</td>\n      <td>-0.312954</td>\n      <td>-0.412304</td>\n      <td>0.077438</td>\n      <td>-0.140920</td>\n      <td>0.370249</td>\n      <td>-0.216545</td>\n      <td>...</td>\n      <td>-0.118170</td>\n      <td>-0.112105</td>\n      <td>-0.160069</td>\n      <td>0.405656</td>\n      <td>0.232992</td>\n      <td>0.198891</td>\n      <td>0.098403</td>\n      <td>0.274568</td>\n      <td>0.030047</td>\n      <td>1.000000</td>\n    </tr>\n  </tbody>\n</table>\n<p>3915 rows × 3915 columns</p>\n</div>"
     },
     "execution_count": 154,
     "metadata": {},
     "output_type": "execute_result"
    }
   ],
   "source": [
    "%%time\n",
    "model2_cosine_similarity_matrix = get_similarity_matrix(model2_language_model_filter.select_pos_embeddings(),\n",
    "                                                        model2_language_model_filter.extract_pos(),\n",
    "                                                        metric=cosine_similarity)\n",
    "model2_cosine_similarity_matrix"
   ],
   "metadata": {
    "collapsed": false,
    "pycharm": {
     "name": "#%%\n"
    }
   }
  },
  {
   "cell_type": "code",
   "execution_count": 155,
   "outputs": [
    {
     "name": "stdout",
     "output_type": "stream",
     "text": [
      "CPU times: user 25min 3s, sys: 3.14 s, total: 25min 6s\n",
      "Wall time: 25min 5s\n"
     ]
    },
    {
     "data": {
      "text/plain": "                         social   covid19   measure  european   support  \\\nsocial                 1.000000  0.047261  0.302269 -0.019376  0.056585   \ncovid19                0.047261  1.000000  0.146516  0.082327  0.100074   \nmeasure                0.302269  0.146516  1.000000 -0.086456  0.337076   \neuropean              -0.019376  0.082327 -0.086456  1.000000  0.118375   \nsupport                0.056585  0.100074  0.337076  0.118375  1.000000   \n...                         ...       ...       ...       ...       ...   \nautomatically.brussel  0.057163 -0.051312  0.031503  0.071790  0.204179   \nquestionsanswer        0.188196  0.026658  0.153136  0.171603 -0.018281   \nhandler               -0.100938 -0.036327 -0.245271  0.315906 -0.182164   \nairplane              -0.369806 -0.189783 -0.308768  0.050668 -0.110551   \nboto                  -0.082933  0.151625  0.133775  0.144458  0.163857   \n\n                        council  government  regulation   company  commission  \\\nsocial                 0.038042    0.151979   -0.019496 -0.038914   -0.037715   \ncovid19                0.044251    0.159929    0.125610  0.167732    0.096154   \nmeasure                0.034257    0.317543    0.090096  0.137636   -0.135527   \neuropean               0.451246    0.022791    0.240230 -0.085735    0.162220   \nsupport                0.096740    0.208751    0.073296  0.046556   -0.017247   \n...                         ...         ...         ...       ...         ...   \nautomatically.brussel  0.154683    0.013049   -0.065895  0.068018    0.122448   \nquestionsanswer        0.229237    0.118948    0.193595  0.017860    0.300632   \nhandler                0.099855    0.047742   -0.031953  0.083851    0.152472   \nairplane              -0.005845   -0.150000    0.068081  0.012641    0.055260   \nboto                   0.074929    0.096553   -0.101996  0.151929    0.043540   \n\n                       ...  approvedamounte  munition  everrise  advertiser  \\\nsocial                 ...        -0.039634  0.127300  0.026371   -0.012672   \ncovid19                ...        -0.024665  0.030856  0.209850    0.213827   \nmeasure                ...         0.087248 -0.028011  0.297404   -0.030079   \neuropean               ...         0.038040  0.212847  0.105400    0.015265   \nsupport                ...         0.157114 -0.062734  0.132723   -0.244210   \n...                    ...              ...       ...       ...         ...   \nautomatically.brussel  ...         0.050595 -0.010092 -0.069824   -0.354710   \nquestionsanswer        ...        -0.006560  0.803923  0.340550    0.454249   \nhandler                ...         0.002418  0.294676  0.111859    0.270040   \nairplane               ...        -0.048040 -0.113657 -0.244392   -0.033106   \nboto                   ...         0.254662  0.479346  0.308030    0.194718   \n\n                         cutoff  automatically.brussel  questionsanswer  \\\nsocial                 0.011492               0.057163         0.188196   \ncovid19               -0.030014              -0.051312         0.026658   \nmeasure                0.006785               0.031503         0.153136   \neuropean               0.146220               0.071790         0.171603   \nsupport                0.048411               0.204179        -0.018281   \n...                         ...                    ...              ...   \nautomatically.brussel  0.673157               1.000000        -0.029381   \nquestionsanswer        0.277353              -0.029381         1.000000   \nhandler                0.145424              -0.096897         0.311355   \nairplane               0.029493              -0.090031        -0.185365   \nboto                   0.671233               0.381919         0.468453   \n\n                        handler  airplane      boto  \nsocial                -0.100938 -0.369806 -0.082933  \ncovid19               -0.036327 -0.189783  0.151625  \nmeasure               -0.245271 -0.308768  0.133775  \neuropean               0.315906  0.050668  0.144458  \nsupport               -0.182164 -0.110551  0.163857  \n...                         ...       ...       ...  \nautomatically.brussel -0.096897 -0.090031  0.381919  \nquestionsanswer        0.311355 -0.185365  0.468453  \nhandler                1.000000  0.229185  0.331484  \nairplane               0.229185  1.000000 -0.078955  \nboto                   0.331484 -0.078955  1.000000  \n\n[12789 rows x 12789 columns]",
      "text/html": "<div>\n<style scoped>\n    .dataframe tbody tr th:only-of-type {\n        vertical-align: middle;\n    }\n\n    .dataframe tbody tr th {\n        vertical-align: top;\n    }\n\n    .dataframe thead th {\n        text-align: right;\n    }\n</style>\n<table border=\"1\" class=\"dataframe\">\n  <thead>\n    <tr style=\"text-align: right;\">\n      <th></th>\n      <th>social</th>\n      <th>covid19</th>\n      <th>measure</th>\n      <th>european</th>\n      <th>support</th>\n      <th>council</th>\n      <th>government</th>\n      <th>regulation</th>\n      <th>company</th>\n      <th>commission</th>\n      <th>...</th>\n      <th>approvedamounte</th>\n      <th>munition</th>\n      <th>everrise</th>\n      <th>advertiser</th>\n      <th>cutoff</th>\n      <th>automatically.brussel</th>\n      <th>questionsanswer</th>\n      <th>handler</th>\n      <th>airplane</th>\n      <th>boto</th>\n    </tr>\n  </thead>\n  <tbody>\n    <tr>\n      <th>social</th>\n      <td>1.000000</td>\n      <td>0.047261</td>\n      <td>0.302269</td>\n      <td>-0.019376</td>\n      <td>0.056585</td>\n      <td>0.038042</td>\n      <td>0.151979</td>\n      <td>-0.019496</td>\n      <td>-0.038914</td>\n      <td>-0.037715</td>\n      <td>...</td>\n      <td>-0.039634</td>\n      <td>0.127300</td>\n      <td>0.026371</td>\n      <td>-0.012672</td>\n      <td>0.011492</td>\n      <td>0.057163</td>\n      <td>0.188196</td>\n      <td>-0.100938</td>\n      <td>-0.369806</td>\n      <td>-0.082933</td>\n    </tr>\n    <tr>\n      <th>covid19</th>\n      <td>0.047261</td>\n      <td>1.000000</td>\n      <td>0.146516</td>\n      <td>0.082327</td>\n      <td>0.100074</td>\n      <td>0.044251</td>\n      <td>0.159929</td>\n      <td>0.125610</td>\n      <td>0.167732</td>\n      <td>0.096154</td>\n      <td>...</td>\n      <td>-0.024665</td>\n      <td>0.030856</td>\n      <td>0.209850</td>\n      <td>0.213827</td>\n      <td>-0.030014</td>\n      <td>-0.051312</td>\n      <td>0.026658</td>\n      <td>-0.036327</td>\n      <td>-0.189783</td>\n      <td>0.151625</td>\n    </tr>\n    <tr>\n      <th>measure</th>\n      <td>0.302269</td>\n      <td>0.146516</td>\n      <td>1.000000</td>\n      <td>-0.086456</td>\n      <td>0.337076</td>\n      <td>0.034257</td>\n      <td>0.317543</td>\n      <td>0.090096</td>\n      <td>0.137636</td>\n      <td>-0.135527</td>\n      <td>...</td>\n      <td>0.087248</td>\n      <td>-0.028011</td>\n      <td>0.297404</td>\n      <td>-0.030079</td>\n      <td>0.006785</td>\n      <td>0.031503</td>\n      <td>0.153136</td>\n      <td>-0.245271</td>\n      <td>-0.308768</td>\n      <td>0.133775</td>\n    </tr>\n    <tr>\n      <th>european</th>\n      <td>-0.019376</td>\n      <td>0.082327</td>\n      <td>-0.086456</td>\n      <td>1.000000</td>\n      <td>0.118375</td>\n      <td>0.451246</td>\n      <td>0.022791</td>\n      <td>0.240230</td>\n      <td>-0.085735</td>\n      <td>0.162220</td>\n      <td>...</td>\n      <td>0.038040</td>\n      <td>0.212847</td>\n      <td>0.105400</td>\n      <td>0.015265</td>\n      <td>0.146220</td>\n      <td>0.071790</td>\n      <td>0.171603</td>\n      <td>0.315906</td>\n      <td>0.050668</td>\n      <td>0.144458</td>\n    </tr>\n    <tr>\n      <th>support</th>\n      <td>0.056585</td>\n      <td>0.100074</td>\n      <td>0.337076</td>\n      <td>0.118375</td>\n      <td>1.000000</td>\n      <td>0.096740</td>\n      <td>0.208751</td>\n      <td>0.073296</td>\n      <td>0.046556</td>\n      <td>-0.017247</td>\n      <td>...</td>\n      <td>0.157114</td>\n      <td>-0.062734</td>\n      <td>0.132723</td>\n      <td>-0.244210</td>\n      <td>0.048411</td>\n      <td>0.204179</td>\n      <td>-0.018281</td>\n      <td>-0.182164</td>\n      <td>-0.110551</td>\n      <td>0.163857</td>\n    </tr>\n    <tr>\n      <th>...</th>\n      <td>...</td>\n      <td>...</td>\n      <td>...</td>\n      <td>...</td>\n      <td>...</td>\n      <td>...</td>\n      <td>...</td>\n      <td>...</td>\n      <td>...</td>\n      <td>...</td>\n      <td>...</td>\n      <td>...</td>\n      <td>...</td>\n      <td>...</td>\n      <td>...</td>\n      <td>...</td>\n      <td>...</td>\n      <td>...</td>\n      <td>...</td>\n      <td>...</td>\n      <td>...</td>\n    </tr>\n    <tr>\n      <th>automatically.brussel</th>\n      <td>0.057163</td>\n      <td>-0.051312</td>\n      <td>0.031503</td>\n      <td>0.071790</td>\n      <td>0.204179</td>\n      <td>0.154683</td>\n      <td>0.013049</td>\n      <td>-0.065895</td>\n      <td>0.068018</td>\n      <td>0.122448</td>\n      <td>...</td>\n      <td>0.050595</td>\n      <td>-0.010092</td>\n      <td>-0.069824</td>\n      <td>-0.354710</td>\n      <td>0.673157</td>\n      <td>1.000000</td>\n      <td>-0.029381</td>\n      <td>-0.096897</td>\n      <td>-0.090031</td>\n      <td>0.381919</td>\n    </tr>\n    <tr>\n      <th>questionsanswer</th>\n      <td>0.188196</td>\n      <td>0.026658</td>\n      <td>0.153136</td>\n      <td>0.171603</td>\n      <td>-0.018281</td>\n      <td>0.229237</td>\n      <td>0.118948</td>\n      <td>0.193595</td>\n      <td>0.017860</td>\n      <td>0.300632</td>\n      <td>...</td>\n      <td>-0.006560</td>\n      <td>0.803923</td>\n      <td>0.340550</td>\n      <td>0.454249</td>\n      <td>0.277353</td>\n      <td>-0.029381</td>\n      <td>1.000000</td>\n      <td>0.311355</td>\n      <td>-0.185365</td>\n      <td>0.468453</td>\n    </tr>\n    <tr>\n      <th>handler</th>\n      <td>-0.100938</td>\n      <td>-0.036327</td>\n      <td>-0.245271</td>\n      <td>0.315906</td>\n      <td>-0.182164</td>\n      <td>0.099855</td>\n      <td>0.047742</td>\n      <td>-0.031953</td>\n      <td>0.083851</td>\n      <td>0.152472</td>\n      <td>...</td>\n      <td>0.002418</td>\n      <td>0.294676</td>\n      <td>0.111859</td>\n      <td>0.270040</td>\n      <td>0.145424</td>\n      <td>-0.096897</td>\n      <td>0.311355</td>\n      <td>1.000000</td>\n      <td>0.229185</td>\n      <td>0.331484</td>\n    </tr>\n    <tr>\n      <th>airplane</th>\n      <td>-0.369806</td>\n      <td>-0.189783</td>\n      <td>-0.308768</td>\n      <td>0.050668</td>\n      <td>-0.110551</td>\n      <td>-0.005845</td>\n      <td>-0.150000</td>\n      <td>0.068081</td>\n      <td>0.012641</td>\n      <td>0.055260</td>\n      <td>...</td>\n      <td>-0.048040</td>\n      <td>-0.113657</td>\n      <td>-0.244392</td>\n      <td>-0.033106</td>\n      <td>0.029493</td>\n      <td>-0.090031</td>\n      <td>-0.185365</td>\n      <td>0.229185</td>\n      <td>1.000000</td>\n      <td>-0.078955</td>\n    </tr>\n    <tr>\n      <th>boto</th>\n      <td>-0.082933</td>\n      <td>0.151625</td>\n      <td>0.133775</td>\n      <td>0.144458</td>\n      <td>0.163857</td>\n      <td>0.074929</td>\n      <td>0.096553</td>\n      <td>-0.101996</td>\n      <td>0.151929</td>\n      <td>0.043540</td>\n      <td>...</td>\n      <td>0.254662</td>\n      <td>0.479346</td>\n      <td>0.308030</td>\n      <td>0.194718</td>\n      <td>0.671233</td>\n      <td>0.381919</td>\n      <td>0.468453</td>\n      <td>0.331484</td>\n      <td>-0.078955</td>\n      <td>1.000000</td>\n    </tr>\n  </tbody>\n</table>\n<p>12789 rows × 12789 columns</p>\n</div>"
     },
     "execution_count": 155,
     "metadata": {},
     "output_type": "execute_result"
    }
   ],
   "source": [
    "%%time\n",
    "model3_cosine_similarity_matrix = get_similarity_matrix(model3_language_model_filter.select_pos_embeddings(),\n",
    "                                                        model3_language_model_filter.extract_pos(),\n",
    "                                                        metric=cosine_similarity)\n",
    "model3_cosine_similarity_matrix"
   ],
   "metadata": {
    "collapsed": false,
    "pycharm": {
     "name": "#%%\n"
    }
   }
  },
  {
   "cell_type": "markdown",
   "source": [
    "### Manhattan similarity"
   ],
   "metadata": {
    "collapsed": false
   }
  },
  {
   "cell_type": "code",
   "execution_count": 156,
   "outputs": [
    {
     "name": "stdout",
     "output_type": "stream",
     "text": [
      "CPU times: user 14min 59s, sys: 732 ms, total: 14min 59s\n",
      "Wall time: 15min\n"
     ]
    },
    {
     "data": {
      "text/plain": "                     social   measure   covid19   support  government  \\\nsocial             1.000000  0.003328  0.002649  0.003028    0.002814   \nmeasure            0.003328  1.000000  0.002925  0.003912    0.003491   \ncovid19            0.002649  0.002925  1.000000  0.003028    0.002879   \nsupport            0.003028  0.003912  0.003028  1.000000    0.003279   \ngovernment         0.002814  0.003491  0.002879  0.003279    1.000000   \n...                     ...       ...       ...       ...         ...   \nappearance         0.003723  0.004643  0.003672  0.004705    0.003779   \nwalloniebruxelle   0.003720  0.004632  0.003661  0.004709    0.003774   \ninvest.brussel     0.003721  0.004632  0.003666  0.004705    0.003772   \ndeadlines.flander  0.003720  0.004641  0.003661  0.004704    0.003776   \ncolive             0.003722  0.004643  0.003673  0.004707    0.003777   \n\n                    company  employees  measures    period  companies  ...  \\\nsocial             0.002918   0.003114  0.003108  0.003132   0.003125  ...   \nmeasure            0.003518   0.003548  0.007710  0.004097   0.004145  ...   \ncovid19            0.003302   0.003164  0.003261  0.003319   0.003421  ...   \nsupport            0.003469   0.003636  0.003560  0.003634   0.003983  ...   \ngovernment         0.003163   0.003127  0.003514  0.003157   0.003260  ...   \n...                     ...        ...       ...       ...        ...  ...   \nappearance         0.005341   0.005090  0.004358  0.005764   0.005830  ...   \nwalloniebruxelle   0.005340   0.005086  0.004348  0.005747   0.005830  ...   \ninvest.brussel     0.005336   0.005089  0.004346  0.005733   0.005826  ...   \ndeadlines.flander  0.005332   0.005096  0.004354  0.005756   0.005818  ...   \ncolive             0.005343   0.005086  0.004358  0.005758   0.005831  ...   \n\n                    outlook   revisit    skille  consutle  pedagogue  \\\nsocial             0.003723  0.003724  0.003724  0.003725   0.003722   \nmeasure            0.004635  0.004632  0.004639  0.004638   0.004631   \ncovid19            0.003673  0.003668  0.003666  0.003662   0.003662   \nsupport            0.004703  0.004703  0.004717  0.004703   0.004704   \ngovernment         0.003775  0.003772  0.003773  0.003776   0.003772   \n...                     ...       ...       ...       ...        ...   \nappearance         0.467610  0.351231  0.351070  0.354458   0.382433   \nwalloniebruxelle   0.325016  0.318744  0.340388  0.314917   0.381068   \ninvest.brussel     0.356213  0.343195  0.356779  0.342668   0.381393   \ndeadlines.flander  0.352887  0.346610  0.364487  0.347214   0.382428   \ncolive             0.448050  0.379615  0.387708  0.364169   0.381876   \n\n                   appearance  walloniebruxelle  invest.brussel  \\\nsocial               0.003723          0.003720        0.003721   \nmeasure              0.004643          0.004632        0.004632   \ncovid19              0.003672          0.003661        0.003666   \nsupport              0.004705          0.004709        0.004705   \ngovernment           0.003779          0.003774        0.003772   \n...                       ...               ...             ...   \nappearance           1.000000          0.328692        0.338967   \nwalloniebruxelle     0.328692          1.000000        0.340315   \ninvest.brussel       0.338967          0.340315        1.000000   \ndeadlines.flander    0.335299          0.280700        0.343618   \ncolive               0.464067          0.337550        0.377392   \n\n                   deadlines.flander    colive  \nsocial                      0.003720  0.003722  \nmeasure                     0.004641  0.004643  \ncovid19                     0.003661  0.003673  \nsupport                     0.004704  0.004707  \ngovernment                  0.003776  0.003777  \n...                              ...       ...  \nappearance                  0.335299  0.464067  \nwalloniebruxelle            0.280700  0.337550  \ninvest.brussel              0.343618  0.377392  \ndeadlines.flander           1.000000  0.374029  \ncolive                      0.374029  1.000000  \n\n[10968 rows x 10968 columns]",
      "text/html": "<div>\n<style scoped>\n    .dataframe tbody tr th:only-of-type {\n        vertical-align: middle;\n    }\n\n    .dataframe tbody tr th {\n        vertical-align: top;\n    }\n\n    .dataframe thead th {\n        text-align: right;\n    }\n</style>\n<table border=\"1\" class=\"dataframe\">\n  <thead>\n    <tr style=\"text-align: right;\">\n      <th></th>\n      <th>social</th>\n      <th>measure</th>\n      <th>covid19</th>\n      <th>support</th>\n      <th>government</th>\n      <th>company</th>\n      <th>employees</th>\n      <th>measures</th>\n      <th>period</th>\n      <th>companies</th>\n      <th>...</th>\n      <th>outlook</th>\n      <th>revisit</th>\n      <th>skille</th>\n      <th>consutle</th>\n      <th>pedagogue</th>\n      <th>appearance</th>\n      <th>walloniebruxelle</th>\n      <th>invest.brussel</th>\n      <th>deadlines.flander</th>\n      <th>colive</th>\n    </tr>\n  </thead>\n  <tbody>\n    <tr>\n      <th>social</th>\n      <td>1.000000</td>\n      <td>0.003328</td>\n      <td>0.002649</td>\n      <td>0.003028</td>\n      <td>0.002814</td>\n      <td>0.002918</td>\n      <td>0.003114</td>\n      <td>0.003108</td>\n      <td>0.003132</td>\n      <td>0.003125</td>\n      <td>...</td>\n      <td>0.003723</td>\n      <td>0.003724</td>\n      <td>0.003724</td>\n      <td>0.003725</td>\n      <td>0.003722</td>\n      <td>0.003723</td>\n      <td>0.003720</td>\n      <td>0.003721</td>\n      <td>0.003720</td>\n      <td>0.003722</td>\n    </tr>\n    <tr>\n      <th>measure</th>\n      <td>0.003328</td>\n      <td>1.000000</td>\n      <td>0.002925</td>\n      <td>0.003912</td>\n      <td>0.003491</td>\n      <td>0.003518</td>\n      <td>0.003548</td>\n      <td>0.007710</td>\n      <td>0.004097</td>\n      <td>0.004145</td>\n      <td>...</td>\n      <td>0.004635</td>\n      <td>0.004632</td>\n      <td>0.004639</td>\n      <td>0.004638</td>\n      <td>0.004631</td>\n      <td>0.004643</td>\n      <td>0.004632</td>\n      <td>0.004632</td>\n      <td>0.004641</td>\n      <td>0.004643</td>\n    </tr>\n    <tr>\n      <th>covid19</th>\n      <td>0.002649</td>\n      <td>0.002925</td>\n      <td>1.000000</td>\n      <td>0.003028</td>\n      <td>0.002879</td>\n      <td>0.003302</td>\n      <td>0.003164</td>\n      <td>0.003261</td>\n      <td>0.003319</td>\n      <td>0.003421</td>\n      <td>...</td>\n      <td>0.003673</td>\n      <td>0.003668</td>\n      <td>0.003666</td>\n      <td>0.003662</td>\n      <td>0.003662</td>\n      <td>0.003672</td>\n      <td>0.003661</td>\n      <td>0.003666</td>\n      <td>0.003661</td>\n      <td>0.003673</td>\n    </tr>\n    <tr>\n      <th>support</th>\n      <td>0.003028</td>\n      <td>0.003912</td>\n      <td>0.003028</td>\n      <td>1.000000</td>\n      <td>0.003279</td>\n      <td>0.003469</td>\n      <td>0.003636</td>\n      <td>0.003560</td>\n      <td>0.003634</td>\n      <td>0.003983</td>\n      <td>...</td>\n      <td>0.004703</td>\n      <td>0.004703</td>\n      <td>0.004717</td>\n      <td>0.004703</td>\n      <td>0.004704</td>\n      <td>0.004705</td>\n      <td>0.004709</td>\n      <td>0.004705</td>\n      <td>0.004704</td>\n      <td>0.004707</td>\n    </tr>\n    <tr>\n      <th>government</th>\n      <td>0.002814</td>\n      <td>0.003491</td>\n      <td>0.002879</td>\n      <td>0.003279</td>\n      <td>1.000000</td>\n      <td>0.003163</td>\n      <td>0.003127</td>\n      <td>0.003514</td>\n      <td>0.003157</td>\n      <td>0.003260</td>\n      <td>...</td>\n      <td>0.003775</td>\n      <td>0.003772</td>\n      <td>0.003773</td>\n      <td>0.003776</td>\n      <td>0.003772</td>\n      <td>0.003779</td>\n      <td>0.003774</td>\n      <td>0.003772</td>\n      <td>0.003776</td>\n      <td>0.003777</td>\n    </tr>\n    <tr>\n      <th>...</th>\n      <td>...</td>\n      <td>...</td>\n      <td>...</td>\n      <td>...</td>\n      <td>...</td>\n      <td>...</td>\n      <td>...</td>\n      <td>...</td>\n      <td>...</td>\n      <td>...</td>\n      <td>...</td>\n      <td>...</td>\n      <td>...</td>\n      <td>...</td>\n      <td>...</td>\n      <td>...</td>\n      <td>...</td>\n      <td>...</td>\n      <td>...</td>\n      <td>...</td>\n      <td>...</td>\n    </tr>\n    <tr>\n      <th>appearance</th>\n      <td>0.003723</td>\n      <td>0.004643</td>\n      <td>0.003672</td>\n      <td>0.004705</td>\n      <td>0.003779</td>\n      <td>0.005341</td>\n      <td>0.005090</td>\n      <td>0.004358</td>\n      <td>0.005764</td>\n      <td>0.005830</td>\n      <td>...</td>\n      <td>0.467610</td>\n      <td>0.351231</td>\n      <td>0.351070</td>\n      <td>0.354458</td>\n      <td>0.382433</td>\n      <td>1.000000</td>\n      <td>0.328692</td>\n      <td>0.338967</td>\n      <td>0.335299</td>\n      <td>0.464067</td>\n    </tr>\n    <tr>\n      <th>walloniebruxelle</th>\n      <td>0.003720</td>\n      <td>0.004632</td>\n      <td>0.003661</td>\n      <td>0.004709</td>\n      <td>0.003774</td>\n      <td>0.005340</td>\n      <td>0.005086</td>\n      <td>0.004348</td>\n      <td>0.005747</td>\n      <td>0.005830</td>\n      <td>...</td>\n      <td>0.325016</td>\n      <td>0.318744</td>\n      <td>0.340388</td>\n      <td>0.314917</td>\n      <td>0.381068</td>\n      <td>0.328692</td>\n      <td>1.000000</td>\n      <td>0.340315</td>\n      <td>0.280700</td>\n      <td>0.337550</td>\n    </tr>\n    <tr>\n      <th>invest.brussel</th>\n      <td>0.003721</td>\n      <td>0.004632</td>\n      <td>0.003666</td>\n      <td>0.004705</td>\n      <td>0.003772</td>\n      <td>0.005336</td>\n      <td>0.005089</td>\n      <td>0.004346</td>\n      <td>0.005733</td>\n      <td>0.005826</td>\n      <td>...</td>\n      <td>0.356213</td>\n      <td>0.343195</td>\n      <td>0.356779</td>\n      <td>0.342668</td>\n      <td>0.381393</td>\n      <td>0.338967</td>\n      <td>0.340315</td>\n      <td>1.000000</td>\n      <td>0.343618</td>\n      <td>0.377392</td>\n    </tr>\n    <tr>\n      <th>deadlines.flander</th>\n      <td>0.003720</td>\n      <td>0.004641</td>\n      <td>0.003661</td>\n      <td>0.004704</td>\n      <td>0.003776</td>\n      <td>0.005332</td>\n      <td>0.005096</td>\n      <td>0.004354</td>\n      <td>0.005756</td>\n      <td>0.005818</td>\n      <td>...</td>\n      <td>0.352887</td>\n      <td>0.346610</td>\n      <td>0.364487</td>\n      <td>0.347214</td>\n      <td>0.382428</td>\n      <td>0.335299</td>\n      <td>0.280700</td>\n      <td>0.343618</td>\n      <td>1.000000</td>\n      <td>0.374029</td>\n    </tr>\n    <tr>\n      <th>colive</th>\n      <td>0.003722</td>\n      <td>0.004643</td>\n      <td>0.003673</td>\n      <td>0.004707</td>\n      <td>0.003777</td>\n      <td>0.005343</td>\n      <td>0.005086</td>\n      <td>0.004358</td>\n      <td>0.005758</td>\n      <td>0.005831</td>\n      <td>...</td>\n      <td>0.448050</td>\n      <td>0.379615</td>\n      <td>0.387708</td>\n      <td>0.364169</td>\n      <td>0.381876</td>\n      <td>0.464067</td>\n      <td>0.337550</td>\n      <td>0.377392</td>\n      <td>0.374029</td>\n      <td>1.000000</td>\n    </tr>\n  </tbody>\n</table>\n<p>10968 rows × 10968 columns</p>\n</div>"
     },
     "execution_count": 156,
     "metadata": {},
     "output_type": "execute_result"
    }
   ],
   "source": [
    "%%time\n",
    "model1_manhattan_similarity_matrix = get_similarity_matrix(model1_language_model_filter.select_pos_embeddings(),\n",
    "                                                           model1_language_model_filter.extract_pos(),\n",
    "                                                           metric=manhattan_similarity)\n",
    "model1_manhattan_similarity_matrix"
   ],
   "metadata": {
    "collapsed": false,
    "pycharm": {
     "name": "#%%\n"
    }
   }
  },
  {
   "cell_type": "code",
   "execution_count": 157,
   "outputs": [
    {
     "data": {
      "text/plain": "               european   council  regulation  commission  parliament  \\\neuropean       1.000000  0.007463    0.005203    0.006098    0.006612   \ncouncil        0.007463  1.000000    0.006318    0.007261    0.006287   \nregulation     0.005203  0.006318    1.000000    0.005080    0.006090   \ncommission     0.006098  0.007261    0.005080    1.000000    0.006079   \nparliament     0.006612  0.006287    0.006090    0.006079    1.000000   \n...                 ...       ...         ...         ...         ...   \nsalamander     0.005425  0.005409    0.004928    0.006697    0.004915   \nsubsidise      0.005425  0.005407    0.004939    0.006716    0.004926   \naffair         0.005422  0.005405    0.004914    0.006699    0.004912   \nrecomendation  0.005420  0.005404    0.004939    0.006688    0.004917   \nboto           0.005416  0.005396    0.004923    0.006698    0.004911   \n\n               decision  committee         c      case  document  ...  \\\neuropean       0.005198   0.006044  0.003325  0.002928  0.004877  ...   \ncouncil        0.005532   0.005414  0.003377  0.002867  0.005150  ...   \nregulation     0.006350   0.004019  0.003243  0.002770  0.004306  ...   \ncommission     0.005842   0.005005  0.003653  0.003305  0.007021  ...   \nparliament     0.005253   0.005085  0.003172  0.002775  0.005008  ...   \n...                 ...        ...       ...       ...       ...  ...   \nsalamander     0.005950   0.005151  0.004396  0.004337  0.005087  ...   \nsubsidise      0.005968   0.005151  0.004404  0.004353  0.005091  ...   \naffair         0.005944   0.005166  0.004392  0.004338  0.005085  ...   \nrecomendation  0.005974   0.005149  0.004414  0.004357  0.005087  ...   \nboto           0.005951   0.005148  0.004397  0.004349  0.005083  ...   \n\n                 cheese  donation  supplier   torvald  salamandrivoran  \\\neuropean       0.005410  0.005421  0.005425  0.005423         0.005422   \ncouncil        0.005398  0.005415  0.005417  0.005406         0.005405   \nregulation     0.004924  0.004933  0.004929  0.004927         0.004923   \ncommission     0.006697  0.006706  0.006734  0.006711         0.006723   \nparliament     0.004910  0.004919  0.004921  0.004919         0.004914   \n...                 ...       ...       ...       ...              ...   \nsalamander     0.323153  0.329601  0.251994  0.355563         0.345875   \nsubsidise      0.325394  0.317107  0.278637  0.376983         0.312028   \naffair         0.281145  0.274125  0.232987  0.319620         0.308289   \nrecomendation  0.316515  0.344127  0.287004  0.378579         0.299337   \nboto           0.335455  0.327327  0.275667  0.424087         0.356321   \n\n               salamander  subsidise    affair  recomendation      boto  \neuropean         0.005425   0.005425  0.005422       0.005420  0.005416  \ncouncil          0.005409   0.005407  0.005405       0.005404  0.005396  \nregulation       0.004928   0.004939  0.004914       0.004939  0.004923  \ncommission       0.006697   0.006716  0.006699       0.006688  0.006698  \nparliament       0.004915   0.004926  0.004912       0.004917  0.004911  \n...                   ...        ...       ...            ...       ...  \nsalamander       1.000000   0.339462  0.370658       0.310972  0.416754  \nsubsidise        0.339462   1.000000  0.262862       0.394103  0.355865  \naffair           0.370658   0.262862  1.000000       0.256272  0.354954  \nrecomendation    0.310972   0.394103  0.256272       1.000000  0.351290  \nboto             0.416754   0.355865  0.354954       0.351290  1.000000  \n\n[3915 rows x 3915 columns]",
      "text/html": "<div>\n<style scoped>\n    .dataframe tbody tr th:only-of-type {\n        vertical-align: middle;\n    }\n\n    .dataframe tbody tr th {\n        vertical-align: top;\n    }\n\n    .dataframe thead th {\n        text-align: right;\n    }\n</style>\n<table border=\"1\" class=\"dataframe\">\n  <thead>\n    <tr style=\"text-align: right;\">\n      <th></th>\n      <th>european</th>\n      <th>council</th>\n      <th>regulation</th>\n      <th>commission</th>\n      <th>parliament</th>\n      <th>decision</th>\n      <th>committee</th>\n      <th>c</th>\n      <th>case</th>\n      <th>document</th>\n      <th>...</th>\n      <th>cheese</th>\n      <th>donation</th>\n      <th>supplier</th>\n      <th>torvald</th>\n      <th>salamandrivoran</th>\n      <th>salamander</th>\n      <th>subsidise</th>\n      <th>affair</th>\n      <th>recomendation</th>\n      <th>boto</th>\n    </tr>\n  </thead>\n  <tbody>\n    <tr>\n      <th>european</th>\n      <td>1.000000</td>\n      <td>0.007463</td>\n      <td>0.005203</td>\n      <td>0.006098</td>\n      <td>0.006612</td>\n      <td>0.005198</td>\n      <td>0.006044</td>\n      <td>0.003325</td>\n      <td>0.002928</td>\n      <td>0.004877</td>\n      <td>...</td>\n      <td>0.005410</td>\n      <td>0.005421</td>\n      <td>0.005425</td>\n      <td>0.005423</td>\n      <td>0.005422</td>\n      <td>0.005425</td>\n      <td>0.005425</td>\n      <td>0.005422</td>\n      <td>0.005420</td>\n      <td>0.005416</td>\n    </tr>\n    <tr>\n      <th>council</th>\n      <td>0.007463</td>\n      <td>1.000000</td>\n      <td>0.006318</td>\n      <td>0.007261</td>\n      <td>0.006287</td>\n      <td>0.005532</td>\n      <td>0.005414</td>\n      <td>0.003377</td>\n      <td>0.002867</td>\n      <td>0.005150</td>\n      <td>...</td>\n      <td>0.005398</td>\n      <td>0.005415</td>\n      <td>0.005417</td>\n      <td>0.005406</td>\n      <td>0.005405</td>\n      <td>0.005409</td>\n      <td>0.005407</td>\n      <td>0.005405</td>\n      <td>0.005404</td>\n      <td>0.005396</td>\n    </tr>\n    <tr>\n      <th>regulation</th>\n      <td>0.005203</td>\n      <td>0.006318</td>\n      <td>1.000000</td>\n      <td>0.005080</td>\n      <td>0.006090</td>\n      <td>0.006350</td>\n      <td>0.004019</td>\n      <td>0.003243</td>\n      <td>0.002770</td>\n      <td>0.004306</td>\n      <td>...</td>\n      <td>0.004924</td>\n      <td>0.004933</td>\n      <td>0.004929</td>\n      <td>0.004927</td>\n      <td>0.004923</td>\n      <td>0.004928</td>\n      <td>0.004939</td>\n      <td>0.004914</td>\n      <td>0.004939</td>\n      <td>0.004923</td>\n    </tr>\n    <tr>\n      <th>commission</th>\n      <td>0.006098</td>\n      <td>0.007261</td>\n      <td>0.005080</td>\n      <td>1.000000</td>\n      <td>0.006079</td>\n      <td>0.005842</td>\n      <td>0.005005</td>\n      <td>0.003653</td>\n      <td>0.003305</td>\n      <td>0.007021</td>\n      <td>...</td>\n      <td>0.006697</td>\n      <td>0.006706</td>\n      <td>0.006734</td>\n      <td>0.006711</td>\n      <td>0.006723</td>\n      <td>0.006697</td>\n      <td>0.006716</td>\n      <td>0.006699</td>\n      <td>0.006688</td>\n      <td>0.006698</td>\n    </tr>\n    <tr>\n      <th>parliament</th>\n      <td>0.006612</td>\n      <td>0.006287</td>\n      <td>0.006090</td>\n      <td>0.006079</td>\n      <td>1.000000</td>\n      <td>0.005253</td>\n      <td>0.005085</td>\n      <td>0.003172</td>\n      <td>0.002775</td>\n      <td>0.005008</td>\n      <td>...</td>\n      <td>0.004910</td>\n      <td>0.004919</td>\n      <td>0.004921</td>\n      <td>0.004919</td>\n      <td>0.004914</td>\n      <td>0.004915</td>\n      <td>0.004926</td>\n      <td>0.004912</td>\n      <td>0.004917</td>\n      <td>0.004911</td>\n    </tr>\n    <tr>\n      <th>...</th>\n      <td>...</td>\n      <td>...</td>\n      <td>...</td>\n      <td>...</td>\n      <td>...</td>\n      <td>...</td>\n      <td>...</td>\n      <td>...</td>\n      <td>...</td>\n      <td>...</td>\n      <td>...</td>\n      <td>...</td>\n      <td>...</td>\n      <td>...</td>\n      <td>...</td>\n      <td>...</td>\n      <td>...</td>\n      <td>...</td>\n      <td>...</td>\n      <td>...</td>\n      <td>...</td>\n    </tr>\n    <tr>\n      <th>salamander</th>\n      <td>0.005425</td>\n      <td>0.005409</td>\n      <td>0.004928</td>\n      <td>0.006697</td>\n      <td>0.004915</td>\n      <td>0.005950</td>\n      <td>0.005151</td>\n      <td>0.004396</td>\n      <td>0.004337</td>\n      <td>0.005087</td>\n      <td>...</td>\n      <td>0.323153</td>\n      <td>0.329601</td>\n      <td>0.251994</td>\n      <td>0.355563</td>\n      <td>0.345875</td>\n      <td>1.000000</td>\n      <td>0.339462</td>\n      <td>0.370658</td>\n      <td>0.310972</td>\n      <td>0.416754</td>\n    </tr>\n    <tr>\n      <th>subsidise</th>\n      <td>0.005425</td>\n      <td>0.005407</td>\n      <td>0.004939</td>\n      <td>0.006716</td>\n      <td>0.004926</td>\n      <td>0.005968</td>\n      <td>0.005151</td>\n      <td>0.004404</td>\n      <td>0.004353</td>\n      <td>0.005091</td>\n      <td>...</td>\n      <td>0.325394</td>\n      <td>0.317107</td>\n      <td>0.278637</td>\n      <td>0.376983</td>\n      <td>0.312028</td>\n      <td>0.339462</td>\n      <td>1.000000</td>\n      <td>0.262862</td>\n      <td>0.394103</td>\n      <td>0.355865</td>\n    </tr>\n    <tr>\n      <th>affair</th>\n      <td>0.005422</td>\n      <td>0.005405</td>\n      <td>0.004914</td>\n      <td>0.006699</td>\n      <td>0.004912</td>\n      <td>0.005944</td>\n      <td>0.005166</td>\n      <td>0.004392</td>\n      <td>0.004338</td>\n      <td>0.005085</td>\n      <td>...</td>\n      <td>0.281145</td>\n      <td>0.274125</td>\n      <td>0.232987</td>\n      <td>0.319620</td>\n      <td>0.308289</td>\n      <td>0.370658</td>\n      <td>0.262862</td>\n      <td>1.000000</td>\n      <td>0.256272</td>\n      <td>0.354954</td>\n    </tr>\n    <tr>\n      <th>recomendation</th>\n      <td>0.005420</td>\n      <td>0.005404</td>\n      <td>0.004939</td>\n      <td>0.006688</td>\n      <td>0.004917</td>\n      <td>0.005974</td>\n      <td>0.005149</td>\n      <td>0.004414</td>\n      <td>0.004357</td>\n      <td>0.005087</td>\n      <td>...</td>\n      <td>0.316515</td>\n      <td>0.344127</td>\n      <td>0.287004</td>\n      <td>0.378579</td>\n      <td>0.299337</td>\n      <td>0.310972</td>\n      <td>0.394103</td>\n      <td>0.256272</td>\n      <td>1.000000</td>\n      <td>0.351290</td>\n    </tr>\n    <tr>\n      <th>boto</th>\n      <td>0.005416</td>\n      <td>0.005396</td>\n      <td>0.004923</td>\n      <td>0.006698</td>\n      <td>0.004911</td>\n      <td>0.005951</td>\n      <td>0.005148</td>\n      <td>0.004397</td>\n      <td>0.004349</td>\n      <td>0.005083</td>\n      <td>...</td>\n      <td>0.335455</td>\n      <td>0.327327</td>\n      <td>0.275667</td>\n      <td>0.424087</td>\n      <td>0.356321</td>\n      <td>0.416754</td>\n      <td>0.355865</td>\n      <td>0.354954</td>\n      <td>0.351290</td>\n      <td>1.000000</td>\n    </tr>\n  </tbody>\n</table>\n<p>3915 rows × 3915 columns</p>\n</div>"
     },
     "execution_count": 157,
     "metadata": {},
     "output_type": "execute_result"
    }
   ],
   "source": [
    "model2_manhattan_similarity_matrix = get_similarity_matrix(model2_language_model_filter.select_pos_embeddings(),\n",
    "                                                           model2_language_model_filter.extract_pos(),\n",
    "                                                           metric=manhattan_similarity)\n",
    "model2_manhattan_similarity_matrix"
   ],
   "metadata": {
    "collapsed": false,
    "pycharm": {
     "name": "#%%\n"
    }
   }
  },
  {
   "cell_type": "code",
   "execution_count": 158,
   "outputs": [
    {
     "name": "stdout",
     "output_type": "stream",
     "text": [
      "CPU times: user 20min 7s, sys: 2 s, total: 20min 9s\n",
      "Wall time: 20min 10s\n"
     ]
    },
    {
     "data": {
      "text/plain": "                         social   covid19   measure  european   support  \\\nsocial                 1.000000  0.002455  0.003110  0.002329  0.002700   \ncovid19                0.002455  1.000000  0.002985  0.002661  0.002889   \nmeasure                0.003110  0.002985  1.000000  0.002423  0.003456   \neuropean               0.002329  0.002661  0.002423  1.000000  0.002813   \nsupport                0.002700  0.002889  0.003456  0.002813  1.000000   \n...                         ...       ...       ...       ...       ...   \nautomatically.brussel  0.003256  0.003632  0.004158  0.003465  0.004176   \nquestionsanswer        0.003259  0.003632  0.004165  0.003466  0.004167   \nhandler                0.003252  0.003633  0.004152  0.003469  0.004165   \nairplane               0.003249  0.003630  0.004150  0.003464  0.004166   \nboto                   0.003252  0.003636  0.004163  0.003466  0.004175   \n\n                        council  government  regulation   company  commission  \\\nsocial                 0.002292    0.002687    0.002324  0.002654    0.002498   \ncovid19                0.002369    0.002833    0.002553  0.003190    0.002777   \nmeasure                0.002488    0.003232    0.002720  0.003481    0.002686   \neuropean               0.003102    0.002542    0.002835  0.002676    0.002904   \nsupport                0.002611    0.003047    0.002721  0.003246    0.002821   \n...                         ...         ...         ...       ...         ...   \nautomatically.brussel  0.002995    0.003694    0.003342  0.004971    0.003877   \nquestionsanswer        0.002999    0.003694    0.003347  0.004967    0.003885   \nhandler                0.002993    0.003693    0.003342  0.004973    0.003878   \nairplane               0.002992    0.003690    0.003345  0.004968    0.003875   \nboto                   0.002994    0.003696    0.003343  0.004974    0.003877   \n\n                       ...  approvedamounte  munition  everrise  advertiser  \\\nsocial                 ...         0.003254  0.003257  0.003256    0.003255   \ncovid19                ...         0.003633  0.003633  0.003637    0.003637   \nmeasure                ...         0.004162  0.004159  0.004167    0.004159   \neuropean               ...         0.003464  0.003466  0.003465    0.003463   \nsupport                ...         0.004172  0.004166  0.004171    0.004162   \n...                    ...              ...       ...       ...         ...   \nautomatically.brussel  ...         0.257617  0.269354  0.268863    0.249115   \nquestionsanswer        ...         0.253718  0.427712  0.311689    0.334277   \nhandler                ...         0.278211  0.326556  0.316071    0.338031   \nairplane               ...         0.296467  0.297905  0.312211    0.330538   \nboto                   ...         0.284392  0.334479  0.313801    0.299983   \n\n                         cutoff  automatically.brussel  questionsanswer  \\\nsocial                 0.003256               0.003256         0.003259   \ncovid19                0.003632               0.003632         0.003632   \nmeasure                0.004158               0.004158         0.004165   \neuropean               0.003467               0.003465         0.003466   \nsupport                0.004170               0.004176         0.004167   \n...                         ...                    ...              ...   \nautomatically.brussel  0.356571               1.000000         0.240243   \nquestionsanswer        0.269159               0.240243         1.000000   \nhandler                0.275093               0.255405         0.296294   \nairplane               0.274980               0.264911         0.257009   \nboto                   0.365392               0.302309         0.301854   \n\n                        handler  airplane      boto  \nsocial                 0.003252  0.003249  0.003252  \ncovid19                0.003633  0.003630  0.003636  \nmeasure                0.004152  0.004150  0.004163  \neuropean               0.003469  0.003464  0.003466  \nsupport                0.004165  0.004166  0.004175  \n...                         ...       ...       ...  \nautomatically.brussel  0.255405  0.264911  0.302309  \nquestionsanswer        0.296294  0.257009  0.301854  \nhandler                1.000000  0.329701  0.304744  \nairplane               0.329701  1.000000  0.271918  \nboto                   0.304744  0.271918  1.000000  \n\n[12789 rows x 12789 columns]",
      "text/html": "<div>\n<style scoped>\n    .dataframe tbody tr th:only-of-type {\n        vertical-align: middle;\n    }\n\n    .dataframe tbody tr th {\n        vertical-align: top;\n    }\n\n    .dataframe thead th {\n        text-align: right;\n    }\n</style>\n<table border=\"1\" class=\"dataframe\">\n  <thead>\n    <tr style=\"text-align: right;\">\n      <th></th>\n      <th>social</th>\n      <th>covid19</th>\n      <th>measure</th>\n      <th>european</th>\n      <th>support</th>\n      <th>council</th>\n      <th>government</th>\n      <th>regulation</th>\n      <th>company</th>\n      <th>commission</th>\n      <th>...</th>\n      <th>approvedamounte</th>\n      <th>munition</th>\n      <th>everrise</th>\n      <th>advertiser</th>\n      <th>cutoff</th>\n      <th>automatically.brussel</th>\n      <th>questionsanswer</th>\n      <th>handler</th>\n      <th>airplane</th>\n      <th>boto</th>\n    </tr>\n  </thead>\n  <tbody>\n    <tr>\n      <th>social</th>\n      <td>1.000000</td>\n      <td>0.002455</td>\n      <td>0.003110</td>\n      <td>0.002329</td>\n      <td>0.002700</td>\n      <td>0.002292</td>\n      <td>0.002687</td>\n      <td>0.002324</td>\n      <td>0.002654</td>\n      <td>0.002498</td>\n      <td>...</td>\n      <td>0.003254</td>\n      <td>0.003257</td>\n      <td>0.003256</td>\n      <td>0.003255</td>\n      <td>0.003256</td>\n      <td>0.003256</td>\n      <td>0.003259</td>\n      <td>0.003252</td>\n      <td>0.003249</td>\n      <td>0.003252</td>\n    </tr>\n    <tr>\n      <th>covid19</th>\n      <td>0.002455</td>\n      <td>1.000000</td>\n      <td>0.002985</td>\n      <td>0.002661</td>\n      <td>0.002889</td>\n      <td>0.002369</td>\n      <td>0.002833</td>\n      <td>0.002553</td>\n      <td>0.003190</td>\n      <td>0.002777</td>\n      <td>...</td>\n      <td>0.003633</td>\n      <td>0.003633</td>\n      <td>0.003637</td>\n      <td>0.003637</td>\n      <td>0.003632</td>\n      <td>0.003632</td>\n      <td>0.003632</td>\n      <td>0.003633</td>\n      <td>0.003630</td>\n      <td>0.003636</td>\n    </tr>\n    <tr>\n      <th>measure</th>\n      <td>0.003110</td>\n      <td>0.002985</td>\n      <td>1.000000</td>\n      <td>0.002423</td>\n      <td>0.003456</td>\n      <td>0.002488</td>\n      <td>0.003232</td>\n      <td>0.002720</td>\n      <td>0.003481</td>\n      <td>0.002686</td>\n      <td>...</td>\n      <td>0.004162</td>\n      <td>0.004159</td>\n      <td>0.004167</td>\n      <td>0.004159</td>\n      <td>0.004158</td>\n      <td>0.004158</td>\n      <td>0.004165</td>\n      <td>0.004152</td>\n      <td>0.004150</td>\n      <td>0.004163</td>\n    </tr>\n    <tr>\n      <th>european</th>\n      <td>0.002329</td>\n      <td>0.002661</td>\n      <td>0.002423</td>\n      <td>1.000000</td>\n      <td>0.002813</td>\n      <td>0.003102</td>\n      <td>0.002542</td>\n      <td>0.002835</td>\n      <td>0.002676</td>\n      <td>0.002904</td>\n      <td>...</td>\n      <td>0.003464</td>\n      <td>0.003466</td>\n      <td>0.003465</td>\n      <td>0.003463</td>\n      <td>0.003467</td>\n      <td>0.003465</td>\n      <td>0.003466</td>\n      <td>0.003469</td>\n      <td>0.003464</td>\n      <td>0.003466</td>\n    </tr>\n    <tr>\n      <th>support</th>\n      <td>0.002700</td>\n      <td>0.002889</td>\n      <td>0.003456</td>\n      <td>0.002813</td>\n      <td>1.000000</td>\n      <td>0.002611</td>\n      <td>0.003047</td>\n      <td>0.002721</td>\n      <td>0.003246</td>\n      <td>0.002821</td>\n      <td>...</td>\n      <td>0.004172</td>\n      <td>0.004166</td>\n      <td>0.004171</td>\n      <td>0.004162</td>\n      <td>0.004170</td>\n      <td>0.004176</td>\n      <td>0.004167</td>\n      <td>0.004165</td>\n      <td>0.004166</td>\n      <td>0.004175</td>\n    </tr>\n    <tr>\n      <th>...</th>\n      <td>...</td>\n      <td>...</td>\n      <td>...</td>\n      <td>...</td>\n      <td>...</td>\n      <td>...</td>\n      <td>...</td>\n      <td>...</td>\n      <td>...</td>\n      <td>...</td>\n      <td>...</td>\n      <td>...</td>\n      <td>...</td>\n      <td>...</td>\n      <td>...</td>\n      <td>...</td>\n      <td>...</td>\n      <td>...</td>\n      <td>...</td>\n      <td>...</td>\n      <td>...</td>\n    </tr>\n    <tr>\n      <th>automatically.brussel</th>\n      <td>0.003256</td>\n      <td>0.003632</td>\n      <td>0.004158</td>\n      <td>0.003465</td>\n      <td>0.004176</td>\n      <td>0.002995</td>\n      <td>0.003694</td>\n      <td>0.003342</td>\n      <td>0.004971</td>\n      <td>0.003877</td>\n      <td>...</td>\n      <td>0.257617</td>\n      <td>0.269354</td>\n      <td>0.268863</td>\n      <td>0.249115</td>\n      <td>0.356571</td>\n      <td>1.000000</td>\n      <td>0.240243</td>\n      <td>0.255405</td>\n      <td>0.264911</td>\n      <td>0.302309</td>\n    </tr>\n    <tr>\n      <th>questionsanswer</th>\n      <td>0.003259</td>\n      <td>0.003632</td>\n      <td>0.004165</td>\n      <td>0.003466</td>\n      <td>0.004167</td>\n      <td>0.002999</td>\n      <td>0.003694</td>\n      <td>0.003347</td>\n      <td>0.004967</td>\n      <td>0.003885</td>\n      <td>...</td>\n      <td>0.253718</td>\n      <td>0.427712</td>\n      <td>0.311689</td>\n      <td>0.334277</td>\n      <td>0.269159</td>\n      <td>0.240243</td>\n      <td>1.000000</td>\n      <td>0.296294</td>\n      <td>0.257009</td>\n      <td>0.301854</td>\n    </tr>\n    <tr>\n      <th>handler</th>\n      <td>0.003252</td>\n      <td>0.003633</td>\n      <td>0.004152</td>\n      <td>0.003469</td>\n      <td>0.004165</td>\n      <td>0.002993</td>\n      <td>0.003693</td>\n      <td>0.003342</td>\n      <td>0.004973</td>\n      <td>0.003878</td>\n      <td>...</td>\n      <td>0.278211</td>\n      <td>0.326556</td>\n      <td>0.316071</td>\n      <td>0.338031</td>\n      <td>0.275093</td>\n      <td>0.255405</td>\n      <td>0.296294</td>\n      <td>1.000000</td>\n      <td>0.329701</td>\n      <td>0.304744</td>\n    </tr>\n    <tr>\n      <th>airplane</th>\n      <td>0.003249</td>\n      <td>0.003630</td>\n      <td>0.004150</td>\n      <td>0.003464</td>\n      <td>0.004166</td>\n      <td>0.002992</td>\n      <td>0.003690</td>\n      <td>0.003345</td>\n      <td>0.004968</td>\n      <td>0.003875</td>\n      <td>...</td>\n      <td>0.296467</td>\n      <td>0.297905</td>\n      <td>0.312211</td>\n      <td>0.330538</td>\n      <td>0.274980</td>\n      <td>0.264911</td>\n      <td>0.257009</td>\n      <td>0.329701</td>\n      <td>1.000000</td>\n      <td>0.271918</td>\n    </tr>\n    <tr>\n      <th>boto</th>\n      <td>0.003252</td>\n      <td>0.003636</td>\n      <td>0.004163</td>\n      <td>0.003466</td>\n      <td>0.004175</td>\n      <td>0.002994</td>\n      <td>0.003696</td>\n      <td>0.003343</td>\n      <td>0.004974</td>\n      <td>0.003877</td>\n      <td>...</td>\n      <td>0.284392</td>\n      <td>0.334479</td>\n      <td>0.313801</td>\n      <td>0.299983</td>\n      <td>0.365392</td>\n      <td>0.302309</td>\n      <td>0.301854</td>\n      <td>0.304744</td>\n      <td>0.271918</td>\n      <td>1.000000</td>\n    </tr>\n  </tbody>\n</table>\n<p>12789 rows × 12789 columns</p>\n</div>"
     },
     "execution_count": 158,
     "metadata": {},
     "output_type": "execute_result"
    }
   ],
   "source": [
    "%%time\n",
    "model3_manhattan_similarity_matrix = get_similarity_matrix(model3_language_model_filter.select_pos_embeddings(),\n",
    "                                                           model3_language_model_filter.extract_pos(),\n",
    "                                                           metric=manhattan_similarity)\n",
    "model3_manhattan_similarity_matrix"
   ],
   "metadata": {
    "collapsed": false,
    "pycharm": {
     "name": "#%%\n"
    }
   }
  },
  {
   "cell_type": "markdown",
   "source": [
    "### Select key words as clusters to visualize the graph similarity between this words"
   ],
   "metadata": {
    "collapsed": false,
    "pycharm": {
     "name": "#%% md\n"
    }
   }
  },
  {
   "cell_type": "code",
   "execution_count": 186,
   "outputs": [
    {
     "name": "stderr",
     "output_type": "stream",
     "text": [
      "/opt/conda/lib/python3.8/site-packages/d3graph/d3graph.py:367: FutureWarning:\n",
      "\n",
      "The default value of regex will change from True to False in a future version. In addition, single character regular expressions will*not* be treated as literal strings when regex=True.\n",
      "\n",
      "/opt/conda/lib/python3.8/site-packages/pandas/core/indexing.py:1637: SettingWithCopyWarning:\n",
      "\n",
      "\n",
      "A value is trying to be set on a copy of a slice from a DataFrame\n",
      "\n",
      "See the caveats in the documentation: https://pandas.pydata.org/pandas-docs/stable/user_guide/indexing.html#returning-a-view-versus-a-copy\n",
      "\n",
      "/opt/conda/lib/python3.8/site-packages/d3graph/d3graph.py:367: FutureWarning:\n",
      "\n",
      "The default value of regex will change from True to False in a future version. In addition, single character regular expressions will*not* be treated as literal strings when regex=True.\n",
      "\n",
      "/opt/conda/lib/python3.8/site-packages/pandas/core/indexing.py:1637: SettingWithCopyWarning:\n",
      "\n",
      "\n",
      "A value is trying to be set on a copy of a slice from a DataFrame\n",
      "\n",
      "See the caveats in the documentation: https://pandas.pydata.org/pandas-docs/stable/user_guide/indexing.html#returning-a-view-versus-a-copy\n",
      "\n"
     ]
    },
    {
     "name": "stdout",
     "output_type": "stream",
     "text": [
      "Writing /home/jovyan/work/sem-covid/docs/word-similarity-web/model1_graphs/agreement.html\n",
      "Writing /home/jovyan/work/sem-covid/docs/word-similarity-web/model1_graphs/companies.html\n"
     ]
    },
    {
     "name": "stderr",
     "output_type": "stream",
     "text": [
      "/opt/conda/lib/python3.8/site-packages/d3graph/d3graph.py:367: FutureWarning:\n",
      "\n",
      "The default value of regex will change from True to False in a future version. In addition, single character regular expressions will*not* be treated as literal strings when regex=True.\n",
      "\n",
      "/opt/conda/lib/python3.8/site-packages/pandas/core/indexing.py:1637: SettingWithCopyWarning:\n",
      "\n",
      "\n",
      "A value is trying to be set on a copy of a slice from a DataFrame\n",
      "\n",
      "See the caveats in the documentation: https://pandas.pydata.org/pandas-docs/stable/user_guide/indexing.html#returning-a-view-versus-a-copy\n",
      "\n",
      "/opt/conda/lib/python3.8/site-packages/d3graph/d3graph.py:367: FutureWarning:\n",
      "\n",
      "The default value of regex will change from True to False in a future version. In addition, single character regular expressions will*not* be treated as literal strings when regex=True.\n",
      "\n",
      "/opt/conda/lib/python3.8/site-packages/pandas/core/indexing.py:1637: SettingWithCopyWarning:\n",
      "\n",
      "\n",
      "A value is trying to be set on a copy of a slice from a DataFrame\n",
      "\n",
      "See the caveats in the documentation: https://pandas.pydata.org/pandas-docs/stable/user_guide/indexing.html#returning-a-view-versus-a-copy\n",
      "\n"
     ]
    },
    {
     "name": "stdout",
     "output_type": "stream",
     "text": [
      "Writing /home/jovyan/work/sem-covid/docs/word-similarity-web/model1_graphs/workers.html\n",
      "Writing /home/jovyan/work/sem-covid/docs/word-similarity-web/model1_graphs/measures.html\n"
     ]
    },
    {
     "name": "stderr",
     "output_type": "stream",
     "text": [
      "/opt/conda/lib/python3.8/site-packages/d3graph/d3graph.py:367: FutureWarning:\n",
      "\n",
      "The default value of regex will change from True to False in a future version. In addition, single character regular expressions will*not* be treated as literal strings when regex=True.\n",
      "\n",
      "/opt/conda/lib/python3.8/site-packages/pandas/core/indexing.py:1637: SettingWithCopyWarning:\n",
      "\n",
      "\n",
      "A value is trying to be set on a copy of a slice from a DataFrame\n",
      "\n",
      "See the caveats in the documentation: https://pandas.pydata.org/pandas-docs/stable/user_guide/indexing.html#returning-a-view-versus-a-copy\n",
      "\n",
      "/opt/conda/lib/python3.8/site-packages/d3graph/d3graph.py:367: FutureWarning:\n",
      "\n",
      "The default value of regex will change from True to False in a future version. In addition, single character regular expressions will*not* be treated as literal strings when regex=True.\n",
      "\n",
      "/opt/conda/lib/python3.8/site-packages/pandas/core/indexing.py:1637: SettingWithCopyWarning:\n",
      "\n",
      "\n",
      "A value is trying to be set on a copy of a slice from a DataFrame\n",
      "\n",
      "See the caveats in the documentation: https://pandas.pydata.org/pandas-docs/stable/user_guide/indexing.html#returning-a-view-versus-a-copy\n",
      "\n"
     ]
    },
    {
     "name": "stdout",
     "output_type": "stream",
     "text": [
      "Writing /home/jovyan/work/sem-covid/docs/word-similarity-web/model1_graphs/temporary.html\n",
      "Writing /home/jovyan/work/sem-covid/docs/word-similarity-web/model1_graphs/social.html\n"
     ]
    },
    {
     "name": "stderr",
     "output_type": "stream",
     "text": [
      "/opt/conda/lib/python3.8/site-packages/d3graph/d3graph.py:367: FutureWarning:\n",
      "\n",
      "The default value of regex will change from True to False in a future version. In addition, single character regular expressions will*not* be treated as literal strings when regex=True.\n",
      "\n",
      "/opt/conda/lib/python3.8/site-packages/pandas/core/indexing.py:1637: SettingWithCopyWarning:\n",
      "\n",
      "\n",
      "A value is trying to be set on a copy of a slice from a DataFrame\n",
      "\n",
      "See the caveats in the documentation: https://pandas.pydata.org/pandas-docs/stable/user_guide/indexing.html#returning-a-view-versus-a-copy\n",
      "\n",
      "/opt/conda/lib/python3.8/site-packages/d3graph/d3graph.py:367: FutureWarning:\n",
      "\n",
      "The default value of regex will change from True to False in a future version. In addition, single character regular expressions will*not* be treated as literal strings when regex=True.\n",
      "\n",
      "/opt/conda/lib/python3.8/site-packages/pandas/core/indexing.py:1637: SettingWithCopyWarning:\n",
      "\n",
      "\n",
      "A value is trying to be set on a copy of a slice from a DataFrame\n",
      "\n",
      "See the caveats in the documentation: https://pandas.pydata.org/pandas-docs/stable/user_guide/indexing.html#returning-a-view-versus-a-copy\n",
      "\n"
     ]
    },
    {
     "name": "stdout",
     "output_type": "stream",
     "text": [
      "Writing /home/jovyan/work/sem-covid/docs/word-similarity-web/model1_graphs/support.html\n",
      "Writing /home/jovyan/work/sem-covid/docs/word-similarity-web/model1_graphs/covid19.html\n"
     ]
    },
    {
     "name": "stderr",
     "output_type": "stream",
     "text": [
      "/opt/conda/lib/python3.8/site-packages/d3graph/d3graph.py:367: FutureWarning:\n",
      "\n",
      "The default value of regex will change from True to False in a future version. In addition, single character regular expressions will*not* be treated as literal strings when regex=True.\n",
      "\n",
      "/opt/conda/lib/python3.8/site-packages/pandas/core/indexing.py:1637: SettingWithCopyWarning:\n",
      "\n",
      "\n",
      "A value is trying to be set on a copy of a slice from a DataFrame\n",
      "\n",
      "See the caveats in the documentation: https://pandas.pydata.org/pandas-docs/stable/user_guide/indexing.html#returning-a-view-versus-a-copy\n",
      "\n",
      "/opt/conda/lib/python3.8/site-packages/d3graph/d3graph.py:367: FutureWarning:\n",
      "\n",
      "The default value of regex will change from True to False in a future version. In addition, single character regular expressions will*not* be treated as literal strings when regex=True.\n",
      "\n",
      "/opt/conda/lib/python3.8/site-packages/pandas/core/indexing.py:1637: SettingWithCopyWarning:\n",
      "\n",
      "\n",
      "A value is trying to be set on a copy of a slice from a DataFrame\n",
      "\n",
      "See the caveats in the documentation: https://pandas.pydata.org/pandas-docs/stable/user_guide/indexing.html#returning-a-view-versus-a-copy\n",
      "\n"
     ]
    },
    {
     "name": "stdout",
     "output_type": "stream",
     "text": [
      "Writing /home/jovyan/work/sem-covid/docs/word-similarity-web/model1_graphs/public.html\n",
      "Writing /home/jovyan/work/sem-covid/docs/word-similarity-web/model1_graphs/national.html\n"
     ]
    },
    {
     "name": "stderr",
     "output_type": "stream",
     "text": [
      "/opt/conda/lib/python3.8/site-packages/d3graph/d3graph.py:367: FutureWarning:\n",
      "\n",
      "The default value of regex will change from True to False in a future version. In addition, single character regular expressions will*not* be treated as literal strings when regex=True.\n",
      "\n",
      "/opt/conda/lib/python3.8/site-packages/pandas/core/indexing.py:1637: SettingWithCopyWarning:\n",
      "\n",
      "\n",
      "A value is trying to be set on a copy of a slice from a DataFrame\n",
      "\n",
      "See the caveats in the documentation: https://pandas.pydata.org/pandas-docs/stable/user_guide/indexing.html#returning-a-view-versus-a-copy\n",
      "\n",
      "/opt/conda/lib/python3.8/site-packages/d3graph/d3graph.py:367: FutureWarning:\n",
      "\n",
      "The default value of regex will change from True to False in a future version. In addition, single character regular expressions will*not* be treated as literal strings when regex=True.\n",
      "\n",
      "/opt/conda/lib/python3.8/site-packages/pandas/core/indexing.py:1637: SettingWithCopyWarning:\n",
      "\n",
      "\n",
      "A value is trying to be set on a copy of a slice from a DataFrame\n",
      "\n",
      "See the caveats in the documentation: https://pandas.pydata.org/pandas-docs/stable/user_guide/indexing.html#returning-a-view-versus-a-copy\n",
      "\n"
     ]
    },
    {
     "name": "stdout",
     "output_type": "stream",
     "text": [
      "Writing /home/jovyan/work/sem-covid/docs/word-similarity-web/model1_graphs/statement.html\n",
      "Writing /home/jovyan/work/sem-covid/docs/word-similarity-web/model1_graphs/health.html\n"
     ]
    },
    {
     "name": "stderr",
     "output_type": "stream",
     "text": [
      "/opt/conda/lib/python3.8/site-packages/d3graph/d3graph.py:367: FutureWarning:\n",
      "\n",
      "The default value of regex will change from True to False in a future version. In addition, single character regular expressions will*not* be treated as literal strings when regex=True.\n",
      "\n",
      "/opt/conda/lib/python3.8/site-packages/pandas/core/indexing.py:1637: SettingWithCopyWarning:\n",
      "\n",
      "\n",
      "A value is trying to be set on a copy of a slice from a DataFrame\n",
      "\n",
      "See the caveats in the documentation: https://pandas.pydata.org/pandas-docs/stable/user_guide/indexing.html#returning-a-view-versus-a-copy\n",
      "\n",
      "/opt/conda/lib/python3.8/site-packages/d3graph/d3graph.py:367: FutureWarning:\n",
      "\n",
      "The default value of regex will change from True to False in a future version. In addition, single character regular expressions will*not* be treated as literal strings when regex=True.\n",
      "\n",
      "/opt/conda/lib/python3.8/site-packages/pandas/core/indexing.py:1637: SettingWithCopyWarning:\n",
      "\n",
      "\n",
      "A value is trying to be set on a copy of a slice from a DataFrame\n",
      "\n",
      "See the caveats in the documentation: https://pandas.pydata.org/pandas-docs/stable/user_guide/indexing.html#returning-a-view-versus-a-copy\n",
      "\n"
     ]
    },
    {
     "name": "stdout",
     "output_type": "stream",
     "text": [
      "Writing /home/jovyan/work/sem-covid/docs/word-similarity-web/model1_graphs/minister.html\n",
      "Writing /home/jovyan/work/sem-covid/docs/word-similarity-web/model1_graphs/new.html\n"
     ]
    },
    {
     "name": "stderr",
     "output_type": "stream",
     "text": [
      "/opt/conda/lib/python3.8/site-packages/d3graph/d3graph.py:367: FutureWarning:\n",
      "\n",
      "The default value of regex will change from True to False in a future version. In addition, single character regular expressions will*not* be treated as literal strings when regex=True.\n",
      "\n",
      "/opt/conda/lib/python3.8/site-packages/pandas/core/indexing.py:1637: SettingWithCopyWarning:\n",
      "\n",
      "\n",
      "A value is trying to be set on a copy of a slice from a DataFrame\n",
      "\n",
      "See the caveats in the documentation: https://pandas.pydata.org/pandas-docs/stable/user_guide/indexing.html#returning-a-view-versus-a-copy\n",
      "\n",
      "/opt/conda/lib/python3.8/site-packages/d3graph/d3graph.py:367: FutureWarning:\n",
      "\n",
      "The default value of regex will change from True to False in a future version. In addition, single character regular expressions will*not* be treated as literal strings when regex=True.\n",
      "\n",
      "/opt/conda/lib/python3.8/site-packages/pandas/core/indexing.py:1637: SettingWithCopyWarning:\n",
      "\n",
      "\n",
      "A value is trying to be set on a copy of a slice from a DataFrame\n",
      "\n",
      "See the caveats in the documentation: https://pandas.pydata.org/pandas-docs/stable/user_guide/indexing.html#returning-a-view-versus-a-copy\n",
      "\n"
     ]
    },
    {
     "name": "stdout",
     "output_type": "stream",
     "text": [
      "Writing /home/jovyan/work/sem-covid/docs/word-similarity-web/model1_graphs/coronavirus.html\n",
      "Writing /home/jovyan/work/sem-covid/docs/word-similarity-web/model1_graphs/vaccine.html\n"
     ]
    },
    {
     "name": "stderr",
     "output_type": "stream",
     "text": [
      "/opt/conda/lib/python3.8/site-packages/d3graph/d3graph.py:367: FutureWarning:\n",
      "\n",
      "The default value of regex will change from True to False in a future version. In addition, single character regular expressions will*not* be treated as literal strings when regex=True.\n",
      "\n",
      "/opt/conda/lib/python3.8/site-packages/pandas/core/indexing.py:1637: SettingWithCopyWarning:\n",
      "\n",
      "\n",
      "A value is trying to be set on a copy of a slice from a DataFrame\n",
      "\n",
      "See the caveats in the documentation: https://pandas.pydata.org/pandas-docs/stable/user_guide/indexing.html#returning-a-view-versus-a-copy\n",
      "\n",
      "/opt/conda/lib/python3.8/site-packages/d3graph/d3graph.py:367: FutureWarning:\n",
      "\n",
      "The default value of regex will change from True to False in a future version. In addition, single character regular expressions will*not* be treated as literal strings when regex=True.\n",
      "\n",
      "/opt/conda/lib/python3.8/site-packages/pandas/core/indexing.py:1637: SettingWithCopyWarning:\n",
      "\n",
      "\n",
      "A value is trying to be set on a copy of a slice from a DataFrame\n",
      "\n",
      "See the caveats in the documentation: https://pandas.pydata.org/pandas-docs/stable/user_guide/indexing.html#returning-a-view-versus-a-copy\n",
      "\n"
     ]
    },
    {
     "name": "stdout",
     "output_type": "stream",
     "text": [
      "Writing /home/jovyan/work/sem-covid/docs/word-similarity-web/model1_graphs/support.html\n",
      "Writing /home/jovyan/work/sem-covid/docs/word-similarity-web/model1_graphs/commission.html\n"
     ]
    }
   ],
   "source": [
    "model1_d3graph = create_graph_for_language_model_key_words(model1_cosine_similarity_matrix,\n",
    "                                                           model1_language_model_filter.select_key_words(),\n",
    "                                                           model_number=1)"
   ],
   "metadata": {
    "collapsed": false,
    "pycharm": {
     "name": "#%%\n"
    }
   }
  },
  {
   "cell_type": "code",
   "execution_count": 184,
   "outputs": [
    {
     "name": "stderr",
     "output_type": "stream",
     "text": [
      "/opt/conda/lib/python3.8/site-packages/d3graph/d3graph.py:367: FutureWarning:\n",
      "\n",
      "The default value of regex will change from True to False in a future version. In addition, single character regular expressions will*not* be treated as literal strings when regex=True.\n",
      "\n",
      "/opt/conda/lib/python3.8/site-packages/pandas/core/indexing.py:1637: SettingWithCopyWarning:\n",
      "\n",
      "\n",
      "A value is trying to be set on a copy of a slice from a DataFrame\n",
      "\n",
      "See the caveats in the documentation: https://pandas.pydata.org/pandas-docs/stable/user_guide/indexing.html#returning-a-view-versus-a-copy\n",
      "\n",
      "/opt/conda/lib/python3.8/site-packages/d3graph/d3graph.py:367: FutureWarning:\n",
      "\n",
      "The default value of regex will change from True to False in a future version. In addition, single character regular expressions will*not* be treated as literal strings when regex=True.\n",
      "\n",
      "/opt/conda/lib/python3.8/site-packages/pandas/core/indexing.py:1637: SettingWithCopyWarning:\n",
      "\n",
      "\n",
      "A value is trying to be set on a copy of a slice from a DataFrame\n",
      "\n",
      "See the caveats in the documentation: https://pandas.pydata.org/pandas-docs/stable/user_guide/indexing.html#returning-a-view-versus-a-copy\n",
      "\n",
      "/opt/conda/lib/python3.8/site-packages/d3graph/d3graph.py:367: FutureWarning:\n",
      "\n",
      "The default value of regex will change from True to False in a future version. In addition, single character regular expressions will*not* be treated as literal strings when regex=True.\n",
      "\n"
     ]
    },
    {
     "name": "stdout",
     "output_type": "stream",
     "text": [
      "Writing /home/jovyan/work/sem-covid/docs/word-similarity-web/model2_graphs/agreement.html\n",
      "Writing /home/jovyan/work/sem-covid/docs/word-similarity-web/model2_graphs/companies.html\n"
     ]
    },
    {
     "name": "stderr",
     "output_type": "stream",
     "text": [
      "/opt/conda/lib/python3.8/site-packages/pandas/core/indexing.py:1637: SettingWithCopyWarning:\n",
      "\n",
      "\n",
      "A value is trying to be set on a copy of a slice from a DataFrame\n",
      "\n",
      "See the caveats in the documentation: https://pandas.pydata.org/pandas-docs/stable/user_guide/indexing.html#returning-a-view-versus-a-copy\n",
      "\n",
      "/opt/conda/lib/python3.8/site-packages/d3graph/d3graph.py:367: FutureWarning:\n",
      "\n",
      "The default value of regex will change from True to False in a future version. In addition, single character regular expressions will*not* be treated as literal strings when regex=True.\n",
      "\n",
      "/opt/conda/lib/python3.8/site-packages/pandas/core/indexing.py:1637: SettingWithCopyWarning:\n",
      "\n",
      "\n",
      "A value is trying to be set on a copy of a slice from a DataFrame\n",
      "\n",
      "See the caveats in the documentation: https://pandas.pydata.org/pandas-docs/stable/user_guide/indexing.html#returning-a-view-versus-a-copy\n",
      "\n",
      "/opt/conda/lib/python3.8/site-packages/d3graph/d3graph.py:367: FutureWarning:\n",
      "\n",
      "The default value of regex will change from True to False in a future version. In addition, single character regular expressions will*not* be treated as literal strings when regex=True.\n",
      "\n",
      "/opt/conda/lib/python3.8/site-packages/pandas/core/indexing.py:1637: SettingWithCopyWarning:\n",
      "\n",
      "\n",
      "A value is trying to be set on a copy of a slice from a DataFrame\n",
      "\n",
      "See the caveats in the documentation: https://pandas.pydata.org/pandas-docs/stable/user_guide/indexing.html#returning-a-view-versus-a-copy\n",
      "\n"
     ]
    },
    {
     "name": "stdout",
     "output_type": "stream",
     "text": [
      "Writing /home/jovyan/work/sem-covid/docs/word-similarity-web/model2_graphs/workers.html\n",
      "Writing /home/jovyan/work/sem-covid/docs/word-similarity-web/model2_graphs/measures.html\n",
      "Writing /home/jovyan/work/sem-covid/docs/word-similarity-web/model2_graphs/temporary.html\n",
      "Writing /home/jovyan/work/sem-covid/docs/word-similarity-web/model2_graphs/social.html\n"
     ]
    },
    {
     "name": "stderr",
     "output_type": "stream",
     "text": [
      "/opt/conda/lib/python3.8/site-packages/d3graph/d3graph.py:367: FutureWarning:\n",
      "\n",
      "The default value of regex will change from True to False in a future version. In addition, single character regular expressions will*not* be treated as literal strings when regex=True.\n",
      "\n",
      "/opt/conda/lib/python3.8/site-packages/pandas/core/indexing.py:1637: SettingWithCopyWarning:\n",
      "\n",
      "\n",
      "A value is trying to be set on a copy of a slice from a DataFrame\n",
      "\n",
      "See the caveats in the documentation: https://pandas.pydata.org/pandas-docs/stable/user_guide/indexing.html#returning-a-view-versus-a-copy\n",
      "\n",
      "/opt/conda/lib/python3.8/site-packages/d3graph/d3graph.py:367: FutureWarning:\n",
      "\n",
      "The default value of regex will change from True to False in a future version. In addition, single character regular expressions will*not* be treated as literal strings when regex=True.\n",
      "\n",
      "/opt/conda/lib/python3.8/site-packages/pandas/core/indexing.py:1637: SettingWithCopyWarning:\n",
      "\n",
      "\n",
      "A value is trying to be set on a copy of a slice from a DataFrame\n",
      "\n",
      "See the caveats in the documentation: https://pandas.pydata.org/pandas-docs/stable/user_guide/indexing.html#returning-a-view-versus-a-copy\n",
      "\n"
     ]
    },
    {
     "name": "stdout",
     "output_type": "stream",
     "text": [
      "Writing /home/jovyan/work/sem-covid/docs/word-similarity-web/model2_graphs/support.html\n",
      "Writing /home/jovyan/work/sem-covid/docs/word-similarity-web/model2_graphs/covid19.html\n"
     ]
    },
    {
     "name": "stderr",
     "output_type": "stream",
     "text": [
      "/opt/conda/lib/python3.8/site-packages/d3graph/d3graph.py:367: FutureWarning:\n",
      "\n",
      "The default value of regex will change from True to False in a future version. In addition, single character regular expressions will*not* be treated as literal strings when regex=True.\n",
      "\n",
      "/opt/conda/lib/python3.8/site-packages/pandas/core/indexing.py:1637: SettingWithCopyWarning:\n",
      "\n",
      "\n",
      "A value is trying to be set on a copy of a slice from a DataFrame\n",
      "\n",
      "See the caveats in the documentation: https://pandas.pydata.org/pandas-docs/stable/user_guide/indexing.html#returning-a-view-versus-a-copy\n",
      "\n",
      "/opt/conda/lib/python3.8/site-packages/d3graph/d3graph.py:367: FutureWarning:\n",
      "\n",
      "The default value of regex will change from True to False in a future version. In addition, single character regular expressions will*not* be treated as literal strings when regex=True.\n",
      "\n",
      "/opt/conda/lib/python3.8/site-packages/pandas/core/indexing.py:1637: SettingWithCopyWarning:\n",
      "\n",
      "\n",
      "A value is trying to be set on a copy of a slice from a DataFrame\n",
      "\n",
      "See the caveats in the documentation: https://pandas.pydata.org/pandas-docs/stable/user_guide/indexing.html#returning-a-view-versus-a-copy\n",
      "\n"
     ]
    },
    {
     "name": "stdout",
     "output_type": "stream",
     "text": [
      "Writing /home/jovyan/work/sem-covid/docs/word-similarity-web/model2_graphs/public.html\n",
      "Writing /home/jovyan/work/sem-covid/docs/word-similarity-web/model2_graphs/national.html\n"
     ]
    },
    {
     "name": "stderr",
     "output_type": "stream",
     "text": [
      "/opt/conda/lib/python3.8/site-packages/d3graph/d3graph.py:367: FutureWarning:\n",
      "\n",
      "The default value of regex will change from True to False in a future version. In addition, single character regular expressions will*not* be treated as literal strings when regex=True.\n",
      "\n",
      "/opt/conda/lib/python3.8/site-packages/pandas/core/indexing.py:1637: SettingWithCopyWarning:\n",
      "\n",
      "\n",
      "A value is trying to be set on a copy of a slice from a DataFrame\n",
      "\n",
      "See the caveats in the documentation: https://pandas.pydata.org/pandas-docs/stable/user_guide/indexing.html#returning-a-view-versus-a-copy\n",
      "\n",
      "/opt/conda/lib/python3.8/site-packages/d3graph/d3graph.py:367: FutureWarning:\n",
      "\n",
      "The default value of regex will change from True to False in a future version. In addition, single character regular expressions will*not* be treated as literal strings when regex=True.\n",
      "\n",
      "/opt/conda/lib/python3.8/site-packages/pandas/core/indexing.py:1637: SettingWithCopyWarning:\n",
      "\n",
      "\n",
      "A value is trying to be set on a copy of a slice from a DataFrame\n",
      "\n",
      "See the caveats in the documentation: https://pandas.pydata.org/pandas-docs/stable/user_guide/indexing.html#returning-a-view-versus-a-copy\n",
      "\n"
     ]
    },
    {
     "name": "stdout",
     "output_type": "stream",
     "text": [
      "Writing /home/jovyan/work/sem-covid/docs/word-similarity-web/model2_graphs/statement.html\n",
      "Writing /home/jovyan/work/sem-covid/docs/word-similarity-web/model2_graphs/health.html\n"
     ]
    },
    {
     "name": "stderr",
     "output_type": "stream",
     "text": [
      "/opt/conda/lib/python3.8/site-packages/d3graph/d3graph.py:367: FutureWarning:\n",
      "\n",
      "The default value of regex will change from True to False in a future version. In addition, single character regular expressions will*not* be treated as literal strings when regex=True.\n",
      "\n",
      "/opt/conda/lib/python3.8/site-packages/pandas/core/indexing.py:1637: SettingWithCopyWarning:\n",
      "\n",
      "\n",
      "A value is trying to be set on a copy of a slice from a DataFrame\n",
      "\n",
      "See the caveats in the documentation: https://pandas.pydata.org/pandas-docs/stable/user_guide/indexing.html#returning-a-view-versus-a-copy\n",
      "\n",
      "/opt/conda/lib/python3.8/site-packages/d3graph/d3graph.py:367: FutureWarning:\n",
      "\n",
      "The default value of regex will change from True to False in a future version. In addition, single character regular expressions will*not* be treated as literal strings when regex=True.\n",
      "\n",
      "/opt/conda/lib/python3.8/site-packages/pandas/core/indexing.py:1637: SettingWithCopyWarning:\n",
      "\n",
      "\n",
      "A value is trying to be set on a copy of a slice from a DataFrame\n",
      "\n",
      "See the caveats in the documentation: https://pandas.pydata.org/pandas-docs/stable/user_guide/indexing.html#returning-a-view-versus-a-copy\n",
      "\n"
     ]
    },
    {
     "name": "stdout",
     "output_type": "stream",
     "text": [
      "Writing /home/jovyan/work/sem-covid/docs/word-similarity-web/model2_graphs/minister.html\n",
      "Writing /home/jovyan/work/sem-covid/docs/word-similarity-web/model2_graphs/new.html\n"
     ]
    },
    {
     "name": "stderr",
     "output_type": "stream",
     "text": [
      "/opt/conda/lib/python3.8/site-packages/d3graph/d3graph.py:367: FutureWarning:\n",
      "\n",
      "The default value of regex will change from True to False in a future version. In addition, single character regular expressions will*not* be treated as literal strings when regex=True.\n",
      "\n",
      "/opt/conda/lib/python3.8/site-packages/pandas/core/indexing.py:1637: SettingWithCopyWarning:\n",
      "\n",
      "\n",
      "A value is trying to be set on a copy of a slice from a DataFrame\n",
      "\n",
      "See the caveats in the documentation: https://pandas.pydata.org/pandas-docs/stable/user_guide/indexing.html#returning-a-view-versus-a-copy\n",
      "\n",
      "/opt/conda/lib/python3.8/site-packages/d3graph/d3graph.py:367: FutureWarning:\n",
      "\n",
      "The default value of regex will change from True to False in a future version. In addition, single character regular expressions will*not* be treated as literal strings when regex=True.\n",
      "\n",
      "/opt/conda/lib/python3.8/site-packages/pandas/core/indexing.py:1637: SettingWithCopyWarning:\n",
      "\n",
      "\n",
      "A value is trying to be set on a copy of a slice from a DataFrame\n",
      "\n",
      "See the caveats in the documentation: https://pandas.pydata.org/pandas-docs/stable/user_guide/indexing.html#returning-a-view-versus-a-copy\n",
      "\n",
      "/opt/conda/lib/python3.8/site-packages/d3graph/d3graph.py:367: FutureWarning:\n",
      "\n",
      "The default value of regex will change from True to False in a future version. In addition, single character regular expressions will*not* be treated as literal strings when regex=True.\n",
      "\n"
     ]
    },
    {
     "name": "stdout",
     "output_type": "stream",
     "text": [
      "Writing /home/jovyan/work/sem-covid/docs/word-similarity-web/model2_graphs/coronavirus.html\n",
      "Writing /home/jovyan/work/sem-covid/docs/word-similarity-web/model2_graphs/vaccine.html\n",
      "Writing /home/jovyan/work/sem-covid/docs/word-similarity-web/model2_graphs/support.html\n"
     ]
    },
    {
     "name": "stderr",
     "output_type": "stream",
     "text": [
      "/opt/conda/lib/python3.8/site-packages/pandas/core/indexing.py:1637: SettingWithCopyWarning:\n",
      "\n",
      "\n",
      "A value is trying to be set on a copy of a slice from a DataFrame\n",
      "\n",
      "See the caveats in the documentation: https://pandas.pydata.org/pandas-docs/stable/user_guide/indexing.html#returning-a-view-versus-a-copy\n",
      "\n",
      "/opt/conda/lib/python3.8/site-packages/d3graph/d3graph.py:367: FutureWarning:\n",
      "\n",
      "The default value of regex will change from True to False in a future version. In addition, single character regular expressions will*not* be treated as literal strings when regex=True.\n",
      "\n",
      "/opt/conda/lib/python3.8/site-packages/pandas/core/indexing.py:1637: SettingWithCopyWarning:\n",
      "\n",
      "\n",
      "A value is trying to be set on a copy of a slice from a DataFrame\n",
      "\n",
      "See the caveats in the documentation: https://pandas.pydata.org/pandas-docs/stable/user_guide/indexing.html#returning-a-view-versus-a-copy\n",
      "\n",
      "/opt/conda/lib/python3.8/site-packages/d3graph/d3graph.py:367: FutureWarning:\n",
      "\n",
      "The default value of regex will change from True to False in a future version. In addition, single character regular expressions will*not* be treated as literal strings when regex=True.\n",
      "\n",
      "/opt/conda/lib/python3.8/site-packages/pandas/core/indexing.py:1637: SettingWithCopyWarning:\n",
      "\n",
      "\n",
      "A value is trying to be set on a copy of a slice from a DataFrame\n",
      "\n",
      "See the caveats in the documentation: https://pandas.pydata.org/pandas-docs/stable/user_guide/indexing.html#returning-a-view-versus-a-copy\n",
      "\n"
     ]
    },
    {
     "name": "stdout",
     "output_type": "stream",
     "text": [
      "Writing /home/jovyan/work/sem-covid/docs/word-similarity-web/model2_graphs/commission.html\n"
     ]
    }
   ],
   "source": [
    "model2_d3graph = create_graph_for_language_model_key_words(model2_cosine_similarity_matrix,\n",
    "                                                           model2_language_model_filter.select_key_words(),\n",
    "                                                           model_number=2)"
   ],
   "metadata": {
    "collapsed": false,
    "pycharm": {
     "name": "#%%\n"
    }
   }
  },
  {
   "cell_type": "code",
   "execution_count": 185,
   "outputs": [
    {
     "name": "stdout",
     "output_type": "stream",
     "text": [
      "[d3graph] >Creating directory [docs/word-similarity-web/model3_graphs/]\n",
      "Writing /home/jovyan/work/sem-covid/docs/word-similarity-web/model3_graphs/agreement.html\n",
      "Writing /home/jovyan/work/sem-covid/docs/word-similarity-web/model3_graphs/companies.html\n"
     ]
    },
    {
     "name": "stderr",
     "output_type": "stream",
     "text": [
      "/opt/conda/lib/python3.8/site-packages/d3graph/d3graph.py:367: FutureWarning:\n",
      "\n",
      "The default value of regex will change from True to False in a future version. In addition, single character regular expressions will*not* be treated as literal strings when regex=True.\n",
      "\n",
      "/opt/conda/lib/python3.8/site-packages/pandas/core/indexing.py:1637: SettingWithCopyWarning:\n",
      "\n",
      "\n",
      "A value is trying to be set on a copy of a slice from a DataFrame\n",
      "\n",
      "See the caveats in the documentation: https://pandas.pydata.org/pandas-docs/stable/user_guide/indexing.html#returning-a-view-versus-a-copy\n",
      "\n",
      "/opt/conda/lib/python3.8/site-packages/d3graph/d3graph.py:367: FutureWarning:\n",
      "\n",
      "The default value of regex will change from True to False in a future version. In addition, single character regular expressions will*not* be treated as literal strings when regex=True.\n",
      "\n",
      "/opt/conda/lib/python3.8/site-packages/pandas/core/indexing.py:1637: SettingWithCopyWarning:\n",
      "\n",
      "\n",
      "A value is trying to be set on a copy of a slice from a DataFrame\n",
      "\n",
      "See the caveats in the documentation: https://pandas.pydata.org/pandas-docs/stable/user_guide/indexing.html#returning-a-view-versus-a-copy\n",
      "\n",
      "/opt/conda/lib/python3.8/site-packages/d3graph/d3graph.py:367: FutureWarning:\n",
      "\n",
      "The default value of regex will change from True to False in a future version. In addition, single character regular expressions will*not* be treated as literal strings when regex=True.\n",
      "\n",
      "/opt/conda/lib/python3.8/site-packages/pandas/core/indexing.py:1637: SettingWithCopyWarning:\n",
      "\n",
      "\n",
      "A value is trying to be set on a copy of a slice from a DataFrame\n",
      "\n",
      "See the caveats in the documentation: https://pandas.pydata.org/pandas-docs/stable/user_guide/indexing.html#returning-a-view-versus-a-copy\n",
      "\n",
      "/opt/conda/lib/python3.8/site-packages/d3graph/d3graph.py:367: FutureWarning:\n",
      "\n",
      "The default value of regex will change from True to False in a future version. In addition, single character regular expressions will*not* be treated as literal strings when regex=True.\n",
      "\n",
      "/opt/conda/lib/python3.8/site-packages/pandas/core/indexing.py:1637: SettingWithCopyWarning:\n",
      "\n",
      "\n",
      "A value is trying to be set on a copy of a slice from a DataFrame\n",
      "\n",
      "See the caveats in the documentation: https://pandas.pydata.org/pandas-docs/stable/user_guide/indexing.html#returning-a-view-versus-a-copy\n",
      "\n"
     ]
    },
    {
     "name": "stdout",
     "output_type": "stream",
     "text": [
      "Writing /home/jovyan/work/sem-covid/docs/word-similarity-web/model3_graphs/workers.html\n",
      "Writing /home/jovyan/work/sem-covid/docs/word-similarity-web/model3_graphs/measures.html\n"
     ]
    },
    {
     "name": "stderr",
     "output_type": "stream",
     "text": [
      "/opt/conda/lib/python3.8/site-packages/d3graph/d3graph.py:367: FutureWarning:\n",
      "\n",
      "The default value of regex will change from True to False in a future version. In addition, single character regular expressions will*not* be treated as literal strings when regex=True.\n",
      "\n",
      "/opt/conda/lib/python3.8/site-packages/pandas/core/indexing.py:1637: SettingWithCopyWarning:\n",
      "\n",
      "\n",
      "A value is trying to be set on a copy of a slice from a DataFrame\n",
      "\n",
      "See the caveats in the documentation: https://pandas.pydata.org/pandas-docs/stable/user_guide/indexing.html#returning-a-view-versus-a-copy\n",
      "\n",
      "/opt/conda/lib/python3.8/site-packages/d3graph/d3graph.py:367: FutureWarning:\n",
      "\n",
      "The default value of regex will change from True to False in a future version. In addition, single character regular expressions will*not* be treated as literal strings when regex=True.\n",
      "\n",
      "/opt/conda/lib/python3.8/site-packages/pandas/core/indexing.py:1637: SettingWithCopyWarning:\n",
      "\n",
      "\n",
      "A value is trying to be set on a copy of a slice from a DataFrame\n",
      "\n",
      "See the caveats in the documentation: https://pandas.pydata.org/pandas-docs/stable/user_guide/indexing.html#returning-a-view-versus-a-copy\n",
      "\n"
     ]
    },
    {
     "name": "stdout",
     "output_type": "stream",
     "text": [
      "Writing /home/jovyan/work/sem-covid/docs/word-similarity-web/model3_graphs/temporary.html\n",
      "Writing /home/jovyan/work/sem-covid/docs/word-similarity-web/model3_graphs/social.html\n"
     ]
    },
    {
     "name": "stderr",
     "output_type": "stream",
     "text": [
      "/opt/conda/lib/python3.8/site-packages/d3graph/d3graph.py:367: FutureWarning:\n",
      "\n",
      "The default value of regex will change from True to False in a future version. In addition, single character regular expressions will*not* be treated as literal strings when regex=True.\n",
      "\n",
      "/opt/conda/lib/python3.8/site-packages/pandas/core/indexing.py:1637: SettingWithCopyWarning:\n",
      "\n",
      "\n",
      "A value is trying to be set on a copy of a slice from a DataFrame\n",
      "\n",
      "See the caveats in the documentation: https://pandas.pydata.org/pandas-docs/stable/user_guide/indexing.html#returning-a-view-versus-a-copy\n",
      "\n",
      "/opt/conda/lib/python3.8/site-packages/d3graph/d3graph.py:367: FutureWarning:\n",
      "\n",
      "The default value of regex will change from True to False in a future version. In addition, single character regular expressions will*not* be treated as literal strings when regex=True.\n",
      "\n",
      "/opt/conda/lib/python3.8/site-packages/pandas/core/indexing.py:1637: SettingWithCopyWarning:\n",
      "\n",
      "\n",
      "A value is trying to be set on a copy of a slice from a DataFrame\n",
      "\n",
      "See the caveats in the documentation: https://pandas.pydata.org/pandas-docs/stable/user_guide/indexing.html#returning-a-view-versus-a-copy\n",
      "\n"
     ]
    },
    {
     "name": "stdout",
     "output_type": "stream",
     "text": [
      "Writing /home/jovyan/work/sem-covid/docs/word-similarity-web/model3_graphs/support.html\n",
      "Writing /home/jovyan/work/sem-covid/docs/word-similarity-web/model3_graphs/covid19.html\n"
     ]
    },
    {
     "name": "stderr",
     "output_type": "stream",
     "text": [
      "/opt/conda/lib/python3.8/site-packages/d3graph/d3graph.py:367: FutureWarning:\n",
      "\n",
      "The default value of regex will change from True to False in a future version. In addition, single character regular expressions will*not* be treated as literal strings when regex=True.\n",
      "\n",
      "/opt/conda/lib/python3.8/site-packages/pandas/core/indexing.py:1637: SettingWithCopyWarning:\n",
      "\n",
      "\n",
      "A value is trying to be set on a copy of a slice from a DataFrame\n",
      "\n",
      "See the caveats in the documentation: https://pandas.pydata.org/pandas-docs/stable/user_guide/indexing.html#returning-a-view-versus-a-copy\n",
      "\n",
      "/opt/conda/lib/python3.8/site-packages/d3graph/d3graph.py:367: FutureWarning:\n",
      "\n",
      "The default value of regex will change from True to False in a future version. In addition, single character regular expressions will*not* be treated as literal strings when regex=True.\n",
      "\n",
      "/opt/conda/lib/python3.8/site-packages/pandas/core/indexing.py:1637: SettingWithCopyWarning:\n",
      "\n",
      "\n",
      "A value is trying to be set on a copy of a slice from a DataFrame\n",
      "\n",
      "See the caveats in the documentation: https://pandas.pydata.org/pandas-docs/stable/user_guide/indexing.html#returning-a-view-versus-a-copy\n",
      "\n"
     ]
    },
    {
     "name": "stdout",
     "output_type": "stream",
     "text": [
      "Writing /home/jovyan/work/sem-covid/docs/word-similarity-web/model3_graphs/public.html\n",
      "Writing /home/jovyan/work/sem-covid/docs/word-similarity-web/model3_graphs/national.html\n"
     ]
    },
    {
     "name": "stderr",
     "output_type": "stream",
     "text": [
      "/opt/conda/lib/python3.8/site-packages/d3graph/d3graph.py:367: FutureWarning:\n",
      "\n",
      "The default value of regex will change from True to False in a future version. In addition, single character regular expressions will*not* be treated as literal strings when regex=True.\n",
      "\n",
      "/opt/conda/lib/python3.8/site-packages/pandas/core/indexing.py:1637: SettingWithCopyWarning:\n",
      "\n",
      "\n",
      "A value is trying to be set on a copy of a slice from a DataFrame\n",
      "\n",
      "See the caveats in the documentation: https://pandas.pydata.org/pandas-docs/stable/user_guide/indexing.html#returning-a-view-versus-a-copy\n",
      "\n",
      "/opt/conda/lib/python3.8/site-packages/d3graph/d3graph.py:367: FutureWarning:\n",
      "\n",
      "The default value of regex will change from True to False in a future version. In addition, single character regular expressions will*not* be treated as literal strings when regex=True.\n",
      "\n",
      "/opt/conda/lib/python3.8/site-packages/pandas/core/indexing.py:1637: SettingWithCopyWarning:\n",
      "\n",
      "\n",
      "A value is trying to be set on a copy of a slice from a DataFrame\n",
      "\n",
      "See the caveats in the documentation: https://pandas.pydata.org/pandas-docs/stable/user_guide/indexing.html#returning-a-view-versus-a-copy\n",
      "\n"
     ]
    },
    {
     "name": "stdout",
     "output_type": "stream",
     "text": [
      "Writing /home/jovyan/work/sem-covid/docs/word-similarity-web/model3_graphs/statement.html\n",
      "Writing /home/jovyan/work/sem-covid/docs/word-similarity-web/model3_graphs/health.html\n"
     ]
    },
    {
     "name": "stderr",
     "output_type": "stream",
     "text": [
      "/opt/conda/lib/python3.8/site-packages/d3graph/d3graph.py:367: FutureWarning:\n",
      "\n",
      "The default value of regex will change from True to False in a future version. In addition, single character regular expressions will*not* be treated as literal strings when regex=True.\n",
      "\n",
      "/opt/conda/lib/python3.8/site-packages/pandas/core/indexing.py:1637: SettingWithCopyWarning:\n",
      "\n",
      "\n",
      "A value is trying to be set on a copy of a slice from a DataFrame\n",
      "\n",
      "See the caveats in the documentation: https://pandas.pydata.org/pandas-docs/stable/user_guide/indexing.html#returning-a-view-versus-a-copy\n",
      "\n",
      "/opt/conda/lib/python3.8/site-packages/d3graph/d3graph.py:367: FutureWarning:\n",
      "\n",
      "The default value of regex will change from True to False in a future version. In addition, single character regular expressions will*not* be treated as literal strings when regex=True.\n",
      "\n",
      "/opt/conda/lib/python3.8/site-packages/pandas/core/indexing.py:1637: SettingWithCopyWarning:\n",
      "\n",
      "\n",
      "A value is trying to be set on a copy of a slice from a DataFrame\n",
      "\n",
      "See the caveats in the documentation: https://pandas.pydata.org/pandas-docs/stable/user_guide/indexing.html#returning-a-view-versus-a-copy\n",
      "\n"
     ]
    },
    {
     "name": "stdout",
     "output_type": "stream",
     "text": [
      "Writing /home/jovyan/work/sem-covid/docs/word-similarity-web/model3_graphs/minister.html\n",
      "Writing /home/jovyan/work/sem-covid/docs/word-similarity-web/model3_graphs/new.html\n"
     ]
    },
    {
     "name": "stderr",
     "output_type": "stream",
     "text": [
      "/opt/conda/lib/python3.8/site-packages/d3graph/d3graph.py:367: FutureWarning:\n",
      "\n",
      "The default value of regex will change from True to False in a future version. In addition, single character regular expressions will*not* be treated as literal strings when regex=True.\n",
      "\n",
      "/opt/conda/lib/python3.8/site-packages/pandas/core/indexing.py:1637: SettingWithCopyWarning:\n",
      "\n",
      "\n",
      "A value is trying to be set on a copy of a slice from a DataFrame\n",
      "\n",
      "See the caveats in the documentation: https://pandas.pydata.org/pandas-docs/stable/user_guide/indexing.html#returning-a-view-versus-a-copy\n",
      "\n",
      "/opt/conda/lib/python3.8/site-packages/d3graph/d3graph.py:367: FutureWarning:\n",
      "\n",
      "The default value of regex will change from True to False in a future version. In addition, single character regular expressions will*not* be treated as literal strings when regex=True.\n",
      "\n",
      "/opt/conda/lib/python3.8/site-packages/pandas/core/indexing.py:1637: SettingWithCopyWarning:\n",
      "\n",
      "\n",
      "A value is trying to be set on a copy of a slice from a DataFrame\n",
      "\n",
      "See the caveats in the documentation: https://pandas.pydata.org/pandas-docs/stable/user_guide/indexing.html#returning-a-view-versus-a-copy\n",
      "\n"
     ]
    },
    {
     "name": "stdout",
     "output_type": "stream",
     "text": [
      "Writing /home/jovyan/work/sem-covid/docs/word-similarity-web/model3_graphs/coronavirus.html\n",
      "Writing /home/jovyan/work/sem-covid/docs/word-similarity-web/model3_graphs/vaccine.html\n"
     ]
    },
    {
     "name": "stderr",
     "output_type": "stream",
     "text": [
      "/opt/conda/lib/python3.8/site-packages/d3graph/d3graph.py:367: FutureWarning:\n",
      "\n",
      "The default value of regex will change from True to False in a future version. In addition, single character regular expressions will*not* be treated as literal strings when regex=True.\n",
      "\n",
      "/opt/conda/lib/python3.8/site-packages/pandas/core/indexing.py:1637: SettingWithCopyWarning:\n",
      "\n",
      "\n",
      "A value is trying to be set on a copy of a slice from a DataFrame\n",
      "\n",
      "See the caveats in the documentation: https://pandas.pydata.org/pandas-docs/stable/user_guide/indexing.html#returning-a-view-versus-a-copy\n",
      "\n",
      "/opt/conda/lib/python3.8/site-packages/d3graph/d3graph.py:367: FutureWarning:\n",
      "\n",
      "The default value of regex will change from True to False in a future version. In addition, single character regular expressions will*not* be treated as literal strings when regex=True.\n",
      "\n",
      "/opt/conda/lib/python3.8/site-packages/pandas/core/indexing.py:1637: SettingWithCopyWarning:\n",
      "\n",
      "\n",
      "A value is trying to be set on a copy of a slice from a DataFrame\n",
      "\n",
      "See the caveats in the documentation: https://pandas.pydata.org/pandas-docs/stable/user_guide/indexing.html#returning-a-view-versus-a-copy\n",
      "\n"
     ]
    },
    {
     "name": "stdout",
     "output_type": "stream",
     "text": [
      "Writing /home/jovyan/work/sem-covid/docs/word-similarity-web/model3_graphs/support.html\n",
      "Writing /home/jovyan/work/sem-covid/docs/word-similarity-web/model3_graphs/commission.html\n"
     ]
    }
   ],
   "source": [
    "model3_d3graph = create_graph_for_language_model_key_words(model3_cosine_similarity_matrix,\n",
    "                                                           model3_language_model_filter.select_key_words(),\n",
    "                                                           model_number=3)"
   ],
   "metadata": {
    "collapsed": false,
    "pycharm": {
     "name": "#%%\n"
    }
   }
  },
  {
   "cell_type": "markdown",
   "source": [
    "### Steps for word embedding visualization:\n",
    "* detect and extract key words and most relevant words\n",
    "* train TSNE model\n",
    "* create a dataframe with the clusters, their words and their placement on the graph"
   ],
   "metadata": {
    "collapsed": false,
    "pycharm": {
     "name": "#%% md\n"
    }
   }
  },
  {
   "cell_type": "code",
   "execution_count": null,
   "outputs": [],
   "source": [
    "model1_word_embeddings = select_words_and_embedding_clusters(model1_language_model_pipeline.word2vec.wv,\n",
    "                                                             model1_language_model_filter.select_key_words())\n",
    "model2_word_embeddings = select_words_and_embedding_clusters(model2_language_model_pipeline.word2vec.wv,\n",
    "                                                             model2_language_model_filter.select_key_words())\n",
    "model3_word_embeddings = select_words_and_embedding_clusters(model3_language_model_pipeline.word2vec.wv,\n",
    "                                                             model3_language_model_filter.select_key_words())\n",
    "\n",
    "model1_tsne_model = create_tsne_model(model1_word_embeddings[0])\n",
    "model2_tsne_model = create_tsne_model(model2_word_embeddings[0])\n",
    "model3_tsne_model = create_tsne_model(model3_word_embeddings[0])\n",
    "\n",
    "model1_word_embeddings_dataframe = create_word_clusters_matrix(model1_language_model_filter.select_key_words(),\n",
    "                                                               model1_word_embeddings[1], model1_tsne_model)\n",
    "model2_word_embeddings_dataframe = create_word_clusters_matrix(model2_language_model_filter.select_key_words(),\n",
    "                                                               model2_word_embeddings[1], model2_tsne_model)\n",
    "model3_word_embeddings_dataframe = create_word_clusters_matrix(model3_language_model_filter.select_key_words(),\n",
    "                                                               model3_word_embeddings[1], model3_tsne_model)"
   ],
   "metadata": {
    "collapsed": false,
    "pycharm": {
     "name": "#%%\n",
     "is_executing": true
    }
   }
  },
  {
   "cell_type": "markdown",
   "source": [
    "### Graph visualization for the first model"
   ],
   "metadata": {
    "collapsed": false,
    "pycharm": {
     "name": "#%% md\n"
    }
   }
  },
  {
   "cell_type": "code",
   "execution_count": null,
   "outputs": [],
   "source": [
    "model1_word_cluster_plot = px.scatter(model1_word_embeddings_dataframe,\n",
    "                                      x='X', y='Y', color=model1_word_embeddings_dataframe.word_cluster,\n",
    "                                      labels={'color': 'word'}, hover_data=[\"word\"])\n",
    "model1_word_cluster_plot\n"
   ],
   "metadata": {
    "collapsed": false,
    "pycharm": {
     "name": "#%%\n",
     "is_executing": true
    }
   }
  },
  {
   "cell_type": "markdown",
   "source": [
    "### Graph visualization for the second model"
   ],
   "metadata": {
    "collapsed": false
   }
  },
  {
   "cell_type": "code",
   "execution_count": null,
   "outputs": [],
   "source": [
    "model2_word_cluster_plot = px.scatter(model2_word_embeddings_dataframe,\n",
    "                                      x='X', y='Y', color=model2_word_embeddings_dataframe.word_cluster,\n",
    "                                      labels={'color': 'word'}, hover_data=[\"word\"])\n",
    "model2_word_cluster_plot\n"
   ],
   "metadata": {
    "collapsed": false,
    "pycharm": {
     "name": "#%%\n",
     "is_executing": true
    }
   }
  },
  {
   "cell_type": "markdown",
   "source": [
    "### Graph visualization for the third model"
   ],
   "metadata": {
    "collapsed": false
   }
  },
  {
   "cell_type": "code",
   "execution_count": null,
   "outputs": [],
   "source": [
    "model3_word_cluster_plot = px.scatter(model3_word_embeddings_dataframe,\n",
    "                                      x='X', y='Y', color=model3_word_embeddings_dataframe.word_cluster,\n",
    "                                      labels={'color': 'word'}, hover_data=[\"word\"])\n",
    "model3_word_cluster_plot"
   ],
   "metadata": {
    "collapsed": false,
    "pycharm": {
     "name": "#%%\n",
     "is_executing": true
    }
   }
  },
  {
   "cell_type": "code",
   "execution_count": null,
   "outputs": [],
   "source": [],
   "metadata": {
    "collapsed": false,
    "pycharm": {
     "name": "#%%\n"
    }
   }
  }
 ],
 "metadata": {
  "kernelspec": {
   "display_name": "Python 3",
   "language": "python",
   "name": "python3"
  },
  "language_info": {
   "codemirror_mode": {
    "name": "ipython",
    "version": 2
   },
   "file_extension": ".py",
   "mimetype": "text/x-python",
   "name": "python",
   "nbconvert_exporter": "python",
   "pygments_lexer": "ipython2",
   "version": "2.7.6"
  }
 },
 "nbformat": 4,
 "nbformat_minor": 0
}