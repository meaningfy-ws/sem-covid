{
 "cells": [
  {
   "cell_type": "markdown",
   "metadata": {
    "collapsed": true,
    "pycharm": {
     "name": "#%% md\n"
    }
   },
   "source": [
    "## Word2vec model training\n",
    "#### Model training based on three datasets' text data:\n",
    "- M1: pwdb + eu_timeline  ( +  ireland_timeline )\n",
    "- M2: ds_eu_cellar\n",
    "- M3: M1+M2\n",
    "\n",
    "#### Extract NOUN and NOUN PHRASES from each text data\n",
    "#### Train the word2vec model with each dataset's textual data"
   ]
  },
  {
   "cell_type": "markdown",
   "source": [
    "### Import libraries"
   ],
   "metadata": {
    "collapsed": false,
    "pycharm": {
     "name": "#%% md\n"
    }
   }
  },
  {
   "cell_type": "code",
   "execution_count": 4,
   "outputs": [
    {
     "name": "stderr",
     "output_type": "stream",
     "text": [
      "Since the GPL-licensed package `unidecode` is not installed, using Python's `unicodedata` package which yields worse results.\n"
     ]
    }
   ],
   "source": [
    "import sys\n",
    "\n",
    "import numpy as np\n",
    "from IPython.core.display import display\n",
    "from spacy.tokens.doc import Doc\n",
    "\n",
    "sys.path.append(\"/home/jovyan/work/sem-covid/\")\n",
    "sys.path = list(set(sys.path))\n",
    "\n",
    "import os\n",
    "\n",
    "os.getcwd()\n",
    "os.chdir('/home/jovyan/work/sem-covid/')\n",
    "\n",
    "import warnings\n",
    "\n",
    "warnings.filterwarnings(\"ignore\", category=DeprecationWarning)\n",
    "\n",
    "from typing import List, Tuple\n",
    "\n",
    "import spacy\n",
    "\n",
    "nlp = spacy.load('en_core_web_sm')\n",
    "\n",
    "import pandas as pd\n",
    "from gensim.models import Word2Vec\n",
    "import plotly.express as px\n",
    "import networkx as nx\n",
    "import matplotlib.pyplot as plt\n",
    "\n",
    "from sem_covid.services.data_registry import Dataset\n",
    "from sem_covid.adapters.data_source import IndexTabularDataSource\n",
    "\n",
    "from sem_covid.entrypoints.notebooks.topic_modeling.topic_modeling_wrangling.token_management import (filter_pos,\n",
    "    select_pos, filter_pos, filter_stop_words)\n",
    "\n",
    "from sem_covid.services.sc_wrangling.data_cleaning import (clean_text_from_specific_characters, clean_fix_unicode,\n",
    "                                                           clean_remove_currency_symbols, clean_remove_emails,\n",
    "                                                           clean_remove_urls, clean_remove_stopwords)\n",
    "\n",
    "from sem_covid.entrypoints.notebooks.language_modeling.language_model_tools.similarity_calculus import (\n",
    "    euclidean_similarity, manhattan_similarity, cosine_similarity, get_similarity_matrix)\n",
    "\n",
    "from sem_covid.entrypoints.notebooks.language_modeling.language_model_tools.document_handling_tools import(\n",
    "    document_atomization_noun_phrases, lemmatize_document)\n",
    "\n",
    "from sem_covid.entrypoints.notebooks.language_modeling.language_model_tools.word_embeddings_handler import (\n",
    "    select_words_and_embedding_clusters, create_tsne_model, create_word_clusters_matrix)"
   ],
   "metadata": {
    "collapsed": false,
    "pycharm": {
     "name": "#%%\n"
    }
   }
  },
  {
   "cell_type": "markdown",
   "source": [
    "## Define constants"
   ],
   "metadata": {
    "collapsed": false
   }
  },
  {
   "cell_type": "code",
   "execution_count": 5,
   "outputs": [],
   "source": [
    "PWDB_TEXTUAL_CLASS = ['title', 'background_info_description', 'content_of_measure_description',\n",
    "                      'use_of_measure_description', 'involvement_of_social_partners_description']\n",
    "\n",
    "DEFAULT_TEXTUAL_COLUMN = ['title']\n",
    "WINDOW = 5\n",
    "MIN_COUNT = 1\n",
    "VECTOR_SIZE = 300\n",
    "EPOCHS = 50\n",
    "EU_TIMELINE_TOTAL_EXAMPLES = 171\n",
    "IRELAND_TIMELINE_TOTAL_EXAMPLES = 410\n",
    "EU_CELLAR_TOTAL_EXAMPLES = 2653"
   ],
   "metadata": {
    "collapsed": false,
    "pycharm": {
     "name": "#%%\n"
    }
   }
  },
  {
   "cell_type": "markdown",
   "source": [
    "## Data preprocessing\n",
    "- data cleanup\n",
    "- turn corpus into spacy document"
   ],
   "metadata": {
    "collapsed": false
   }
  },
  {
   "cell_type": "code",
   "execution_count": 47,
   "outputs": [],
   "source": [
    "def apply_cleaning_functions(document_corpus: pd.Series) -> pd.Series:\n",
    "    \"\"\"\n",
    "    This function receives the document and leads through cleaning steps\n",
    "    Args:\n",
    "        document_corpus: dataset document corpus\n",
    "\n",
    "    Returns: clean document corpus\n",
    "    \"\"\"\n",
    "    unused_characters = [\"\\\\r\", \">\", \"\\n\", \"\\\\\", \"<\", \"''\", \"%\", \"...\", \"\\'\", '\"', \"(\", \"\\n\", \"*\", \"1)\", \"2)\", \"3)\",\n",
    "                         \"[\", \"]\", \"-\", \"_\", \"\\r\"]\n",
    "\n",
    "    new_document_corpus = document_corpus.apply(clean_text_from_specific_characters, characters=unused_characters)\n",
    "    new_document_corpus = new_document_corpus.apply(clean_fix_unicode)\n",
    "    new_document_corpus = new_document_corpus.apply(clean_remove_urls)\n",
    "    new_document_corpus = new_document_corpus.apply(clean_remove_emails)\n",
    "    new_document_corpus = new_document_corpus.apply(clean_remove_currency_symbols)\n",
    "    new_document_corpus = new_document_corpus.apply(clean_remove_stopwords)\n",
    "\n",
    "    return new_document_corpus\n",
    "\n",
    "def generate_graph(sm: pd.DataFrame, graph: nx.Graph, root_word: str, kn: int, threshold:np.float64 = 0.8, deep_level: int = 0, max_deep_level:int = 2 ) -> nx.Graph:\n",
    "    if deep_level>max_deep_level:\n",
    "        return graph\n",
    "    new_nodes = sm[root_word].sort_values(ascending=False)[:kn].index.to_list()\n",
    "    new_nodes_weight = list(sm[root_word].sort_values(ascending=False)[:kn].values)\n",
    "    for index in range(0,len(new_nodes)):\n",
    "        if new_nodes_weight[index] >= threshold:\n",
    "            graph.add_edge(root_word,new_nodes[index], weight=new_nodes_weight[index])\n",
    "            generate_graph(sm,graph,new_nodes[index],kn,threshold,deep_level+1,max_deep_level)\n",
    "    return graph"
   ],
   "metadata": {
    "collapsed": false,
    "pycharm": {
     "name": "#%%\n"
    }
   }
  },
  {
   "cell_type": "code",
   "execution_count": 7,
   "outputs": [],
   "source": [
    "class LanguageModelPipeline:\n",
    "    \"\"\"\n",
    "        This pipeline executes the steps for word2vec language training.\n",
    "    \"\"\"\n",
    "\n",
    "    def __init__(self, dataset_sources: List[Tuple[IndexTabularDataSource, List[str]]]):\n",
    "        \"\"\"\n",
    "            :param dataset_sources: represents the source of the datasets.\n",
    "        \"\"\"\n",
    "        self.dataset_sources = dataset_sources\n",
    "        self.documents_corpus = pd.Series()\n",
    "        self.word2vec = None\n",
    "\n",
    "    def download_datasets(self):\n",
    "        \"\"\"\n",
    "            In this step it will download the dataset and detect selected columns.\n",
    "            It can be downloaded as many datasets as there are in data source.\n",
    "        \"\"\"\n",
    "        self.dataset_sources = [(dataset_columns, dataset_source.fetch())\n",
    "                                for dataset_source, dataset_columns in self.dataset_sources]\n",
    "\n",
    "    def extract_textual_data(self):\n",
    "        \"\"\"\n",
    "            After downloading the datasets, the textual data will be found and and concatenated\n",
    "            with executing of several steps as well. It will fill the NaN values with empty space,\n",
    "            add a dot at the end of each concatenated column and reset the index.\n",
    "        \"\"\"\n",
    "        self.documents_corpus = pd.concat([dataset[columns]\n",
    "                                          .fillna(value=\"\")\n",
    "                                          .agg('. '.join, axis=1)\n",
    "                                          .reset_index(drop=True)\n",
    "                                           for columns, dataset in self.dataset_sources\n",
    "                                           ], ignore_index=True)\n",
    "\n",
    "    def clean_textual_data(self):\n",
    "        \"\"\"\n",
    "            The next step is data cleaning. In this step the function \"apply_cleaning_functions\"\n",
    "            applies the following actions:\n",
    "                - clean the document from specific characters\n",
    "                - delete unicode\n",
    "                - removes emails and URLs and currency symbols\n",
    "        \"\"\"\n",
    "        self.documents_corpus = apply_cleaning_functions(self.documents_corpus)\n",
    "\n",
    "    def transform_to_spacy_doc(self):\n",
    "        \"\"\"\n",
    "            When the document is clean, is going to be transform into spacy document\n",
    "        \"\"\"\n",
    "        self.documents_corpus = self.documents_corpus.apply(nlp)\n",
    "\n",
    "    def extract_features(self):\n",
    "        \"\"\"\n",
    "            To extract the parts of speech, below it was defined classes for each token is necessary.\n",
    "        \"\"\"\n",
    "        self.documents_corpus = pd.concat([self.documents_corpus,\n",
    "                                           self.documents_corpus.apply(document_atomization_noun_phrases),\n",
    "                                           self.documents_corpus.apply(lemmatize_document)]\n",
    "                                           ,ignore_index=True)\n",
    "\n",
    "        self.documents_corpus = self.documents_corpus.apply(lambda x: list(map(str, x)))\n",
    "\n",
    "    def model_training(self):\n",
    "        \"\"\"\n",
    "            When the data is prepared it's stored into Word2Vec model.\n",
    "        \"\"\"\n",
    "        self.word2vec = Word2Vec(sentences=self.documents_corpus, window=WINDOW,\n",
    "                                 min_count=MIN_COUNT, vector_size=VECTOR_SIZE)\n",
    "\n",
    "    def execute(self):\n",
    "        \"\"\"\n",
    "            The final step is execution, where are stored each step and it will be executed in a row\n",
    "        \"\"\"\n",
    "        self.download_datasets()\n",
    "        self.extract_textual_data()\n",
    "        self.clean_textual_data()\n",
    "        self.transform_to_spacy_doc()\n",
    "        self.extract_features()\n",
    "        self.model_training()"
   ],
   "metadata": {
    "collapsed": false,
    "pycharm": {
     "name": "#%%\n"
    }
   }
  },
  {
   "cell_type": "markdown",
   "source": [
    "## Experiment Nr#1 language model based on:\n",
    "- PWDB\n",
    "- eu-timeline\n",
    "- ireland-timeline"
   ],
   "metadata": {
    "collapsed": false,
    "pycharm": {
     "name": "#%% md\n"
    }
   }
  },
  {
   "cell_type": "code",
   "execution_count": 8,
   "outputs": [
    {
     "name": "stderr",
     "output_type": "stream",
     "text": [
      "100% (1288 of 1288) |####################| Elapsed Time: 0:00:00 Time:  0:00:00\n"
     ]
    },
    {
     "ename": "KeyboardInterrupt",
     "evalue": "",
     "output_type": "error",
     "traceback": [
      "\u001B[0;31m---------------------------------------------------------------------------\u001B[0m",
      "\u001B[0;31mKeyboardInterrupt\u001B[0m                         Traceback (most recent call last)",
      "\u001B[0;32m<ipython-input-8-cbf83ec9bd39>\u001B[0m in \u001B[0;36m<module>\u001B[0;34m\u001B[0m\n\u001B[1;32m      5\u001B[0m ]\n\u001B[1;32m      6\u001B[0m \u001B[0mmodel1_language_model_pipeline\u001B[0m \u001B[0;34m=\u001B[0m \u001B[0mLanguageModelPipeline\u001B[0m\u001B[0;34m(\u001B[0m\u001B[0mdataset_sources\u001B[0m\u001B[0;34m=\u001B[0m\u001B[0mdataset_sources_config\u001B[0m\u001B[0;34m)\u001B[0m\u001B[0;34m\u001B[0m\u001B[0;34m\u001B[0m\u001B[0m\n\u001B[0;32m----> 7\u001B[0;31m \u001B[0mmodel1_language_model_pipeline\u001B[0m\u001B[0;34m.\u001B[0m\u001B[0mexecute\u001B[0m\u001B[0;34m(\u001B[0m\u001B[0;34m)\u001B[0m\u001B[0;34m\u001B[0m\u001B[0;34m\u001B[0m\u001B[0m\n\u001B[0m\u001B[1;32m      8\u001B[0m \u001B[0;34m\u001B[0m\u001B[0m\n",
      "\u001B[0;32m<ipython-input-7-c9a4ad5af93f>\u001B[0m in \u001B[0;36mexecute\u001B[0;34m(self)\u001B[0m\n\u001B[1;32m     71\u001B[0m             \u001B[0mThe\u001B[0m \u001B[0mfinal\u001B[0m \u001B[0mstep\u001B[0m \u001B[0;32mis\u001B[0m \u001B[0mexecution\u001B[0m\u001B[0;34m,\u001B[0m \u001B[0mwhere\u001B[0m \u001B[0mare\u001B[0m \u001B[0mstored\u001B[0m \u001B[0meach\u001B[0m \u001B[0mstep\u001B[0m \u001B[0;32mand\u001B[0m \u001B[0mit\u001B[0m \u001B[0mwill\u001B[0m \u001B[0mbe\u001B[0m \u001B[0mexecuted\u001B[0m \u001B[0;32min\u001B[0m \u001B[0ma\u001B[0m \u001B[0mrow\u001B[0m\u001B[0;34m\u001B[0m\u001B[0;34m\u001B[0m\u001B[0m\n\u001B[1;32m     72\u001B[0m         \"\"\"\n\u001B[0;32m---> 73\u001B[0;31m         \u001B[0mself\u001B[0m\u001B[0;34m.\u001B[0m\u001B[0mdownload_datasets\u001B[0m\u001B[0;34m(\u001B[0m\u001B[0;34m)\u001B[0m\u001B[0;34m\u001B[0m\u001B[0;34m\u001B[0m\u001B[0m\n\u001B[0m\u001B[1;32m     74\u001B[0m         \u001B[0mself\u001B[0m\u001B[0;34m.\u001B[0m\u001B[0mextract_textual_data\u001B[0m\u001B[0;34m(\u001B[0m\u001B[0;34m)\u001B[0m\u001B[0;34m\u001B[0m\u001B[0;34m\u001B[0m\u001B[0m\n\u001B[1;32m     75\u001B[0m         \u001B[0mself\u001B[0m\u001B[0;34m.\u001B[0m\u001B[0mclean_textual_data\u001B[0m\u001B[0;34m(\u001B[0m\u001B[0;34m)\u001B[0m\u001B[0;34m\u001B[0m\u001B[0;34m\u001B[0m\u001B[0m\n",
      "\u001B[0;32m<ipython-input-7-c9a4ad5af93f>\u001B[0m in \u001B[0;36mdownload_datasets\u001B[0;34m(self)\u001B[0m\n\u001B[1;32m     17\u001B[0m             \u001B[0mIt\u001B[0m \u001B[0mcan\u001B[0m \u001B[0mbe\u001B[0m \u001B[0mdownloaded\u001B[0m \u001B[0;32mas\u001B[0m \u001B[0mmany\u001B[0m \u001B[0mdatasets\u001B[0m \u001B[0;32mas\u001B[0m \u001B[0mthere\u001B[0m \u001B[0mare\u001B[0m \u001B[0;32min\u001B[0m \u001B[0mdata\u001B[0m \u001B[0msource\u001B[0m\u001B[0;34m.\u001B[0m\u001B[0;34m\u001B[0m\u001B[0;34m\u001B[0m\u001B[0m\n\u001B[1;32m     18\u001B[0m         \"\"\"\n\u001B[0;32m---> 19\u001B[0;31m         self.dataset_sources = [(dataset_columns, dataset_source.fetch())\n\u001B[0m\u001B[1;32m     20\u001B[0m                                 for dataset_source, dataset_columns in self.dataset_sources]\n\u001B[1;32m     21\u001B[0m \u001B[0;34m\u001B[0m\u001B[0m\n",
      "\u001B[0;32m<ipython-input-7-c9a4ad5af93f>\u001B[0m in \u001B[0;36m<listcomp>\u001B[0;34m(.0)\u001B[0m\n\u001B[1;32m     17\u001B[0m             \u001B[0mIt\u001B[0m \u001B[0mcan\u001B[0m \u001B[0mbe\u001B[0m \u001B[0mdownloaded\u001B[0m \u001B[0;32mas\u001B[0m \u001B[0mmany\u001B[0m \u001B[0mdatasets\u001B[0m \u001B[0;32mas\u001B[0m \u001B[0mthere\u001B[0m \u001B[0mare\u001B[0m \u001B[0;32min\u001B[0m \u001B[0mdata\u001B[0m \u001B[0msource\u001B[0m\u001B[0;34m.\u001B[0m\u001B[0;34m\u001B[0m\u001B[0;34m\u001B[0m\u001B[0m\n\u001B[1;32m     18\u001B[0m         \"\"\"\n\u001B[0;32m---> 19\u001B[0;31m         self.dataset_sources = [(dataset_columns, dataset_source.fetch())\n\u001B[0m\u001B[1;32m     20\u001B[0m                                 for dataset_source, dataset_columns in self.dataset_sources]\n\u001B[1;32m     21\u001B[0m \u001B[0;34m\u001B[0m\u001B[0m\n",
      "\u001B[0;32m~/work/sem-covid/sem_covid/adapters/data_source.py\u001B[0m in \u001B[0;36mfetch\u001B[0;34m(self)\u001B[0m\n\u001B[1;32m     44\u001B[0m                 \u001B[0mlogger\u001B[0m\u001B[0;34m.\u001B[0m\u001B[0minfo\u001B[0m\u001B[0;34m(\u001B[0m\u001B[0;34mf'Fetching {self._object_name} from the remote source'\u001B[0m\u001B[0;34m)\u001B[0m\u001B[0;34m\u001B[0m\u001B[0;34m\u001B[0m\u001B[0m\n\u001B[1;32m     45\u001B[0m                 \u001B[0mcontent\u001B[0m \u001B[0;34m=\u001B[0m \u001B[0mself\u001B[0m\u001B[0;34m.\u001B[0m\u001B[0m_fetch\u001B[0m\u001B[0;34m(\u001B[0m\u001B[0;34m)\u001B[0m\u001B[0;34m\u001B[0m\u001B[0;34m\u001B[0m\u001B[0m\n\u001B[0;32m---> 46\u001B[0;31m                 \u001B[0mself\u001B[0m\u001B[0;34m.\u001B[0m\u001B[0m_to_local_cache\u001B[0m\u001B[0;34m(\u001B[0m\u001B[0mcontent\u001B[0m\u001B[0;34m)\u001B[0m\u001B[0;34m\u001B[0m\u001B[0;34m\u001B[0m\u001B[0m\n\u001B[0m\u001B[1;32m     47\u001B[0m                 \u001B[0;32mreturn\u001B[0m \u001B[0mcontent\u001B[0m\u001B[0;34m\u001B[0m\u001B[0;34m\u001B[0m\u001B[0m\n\u001B[1;32m     48\u001B[0m             \u001B[0;32melse\u001B[0m\u001B[0;34m:\u001B[0m\u001B[0;34m\u001B[0m\u001B[0;34m\u001B[0m\u001B[0m\n",
      "\u001B[0;32m~/work/sem-covid/sem_covid/adapters/data_source.py\u001B[0m in \u001B[0;36m_to_local_cache\u001B[0;34m(self, content)\u001B[0m\n\u001B[1;32m    125\u001B[0m     \u001B[0;32mdef\u001B[0m \u001B[0m_to_local_cache\u001B[0m\u001B[0;34m(\u001B[0m\u001B[0mself\u001B[0m\u001B[0;34m,\u001B[0m \u001B[0mcontent\u001B[0m\u001B[0;34m:\u001B[0m \u001B[0mpd\u001B[0m\u001B[0;34m.\u001B[0m\u001B[0mDataFrame\u001B[0m\u001B[0;34m)\u001B[0m\u001B[0;34m:\u001B[0m\u001B[0;34m\u001B[0m\u001B[0;34m\u001B[0m\u001B[0m\n\u001B[1;32m    126\u001B[0m         \u001B[0mpkl_bytes\u001B[0m \u001B[0;34m=\u001B[0m \u001B[0mpickle\u001B[0m\u001B[0;34m.\u001B[0m\u001B[0mdumps\u001B[0m\u001B[0;34m(\u001B[0m\u001B[0mcontent\u001B[0m\u001B[0;34m)\u001B[0m\u001B[0;34m\u001B[0m\u001B[0;34m\u001B[0m\u001B[0m\n\u001B[0;32m--> 127\u001B[0;31m         \u001B[0;32mreturn\u001B[0m \u001B[0mself\u001B[0m\u001B[0;34m.\u001B[0m\u001B[0mpath_to_local_cache\u001B[0m\u001B[0;34m(\u001B[0m\u001B[0;34m)\u001B[0m\u001B[0;34m.\u001B[0m\u001B[0mwrite_bytes\u001B[0m\u001B[0;34m(\u001B[0m\u001B[0mpkl_bytes\u001B[0m\u001B[0;34m)\u001B[0m\u001B[0;34m\u001B[0m\u001B[0;34m\u001B[0m\u001B[0m\n\u001B[0m\u001B[1;32m    128\u001B[0m \u001B[0;34m\u001B[0m\u001B[0m\n\u001B[1;32m    129\u001B[0m     \u001B[0;32mdef\u001B[0m \u001B[0m_from_local_cache\u001B[0m\u001B[0;34m(\u001B[0m\u001B[0mself\u001B[0m\u001B[0;34m)\u001B[0m \u001B[0;34m->\u001B[0m \u001B[0mpd\u001B[0m\u001B[0;34m.\u001B[0m\u001B[0mDataFrame\u001B[0m\u001B[0;34m:\u001B[0m\u001B[0;34m\u001B[0m\u001B[0;34m\u001B[0m\u001B[0m\n",
      "\u001B[0;32m/opt/conda/lib/python3.8/pathlib.py\u001B[0m in \u001B[0;36mwrite_bytes\u001B[0;34m(self, data)\u001B[0m\n\u001B[1;32m   1243\u001B[0m         \u001B[0mview\u001B[0m \u001B[0;34m=\u001B[0m \u001B[0mmemoryview\u001B[0m\u001B[0;34m(\u001B[0m\u001B[0mdata\u001B[0m\u001B[0;34m)\u001B[0m\u001B[0;34m\u001B[0m\u001B[0;34m\u001B[0m\u001B[0m\n\u001B[1;32m   1244\u001B[0m         \u001B[0;32mwith\u001B[0m \u001B[0mself\u001B[0m\u001B[0;34m.\u001B[0m\u001B[0mopen\u001B[0m\u001B[0;34m(\u001B[0m\u001B[0mmode\u001B[0m\u001B[0;34m=\u001B[0m\u001B[0;34m'wb'\u001B[0m\u001B[0;34m)\u001B[0m \u001B[0;32mas\u001B[0m \u001B[0mf\u001B[0m\u001B[0;34m:\u001B[0m\u001B[0;34m\u001B[0m\u001B[0;34m\u001B[0m\u001B[0m\n\u001B[0;32m-> 1245\u001B[0;31m             \u001B[0;32mreturn\u001B[0m \u001B[0mf\u001B[0m\u001B[0;34m.\u001B[0m\u001B[0mwrite\u001B[0m\u001B[0;34m(\u001B[0m\u001B[0mview\u001B[0m\u001B[0;34m)\u001B[0m\u001B[0;34m\u001B[0m\u001B[0;34m\u001B[0m\u001B[0m\n\u001B[0m\u001B[1;32m   1246\u001B[0m \u001B[0;34m\u001B[0m\u001B[0m\n\u001B[1;32m   1247\u001B[0m     \u001B[0;32mdef\u001B[0m \u001B[0mwrite_text\u001B[0m\u001B[0;34m(\u001B[0m\u001B[0mself\u001B[0m\u001B[0;34m,\u001B[0m \u001B[0mdata\u001B[0m\u001B[0;34m,\u001B[0m \u001B[0mencoding\u001B[0m\u001B[0;34m=\u001B[0m\u001B[0;32mNone\u001B[0m\u001B[0;34m,\u001B[0m \u001B[0merrors\u001B[0m\u001B[0;34m=\u001B[0m\u001B[0;32mNone\u001B[0m\u001B[0;34m)\u001B[0m\u001B[0;34m:\u001B[0m\u001B[0;34m\u001B[0m\u001B[0;34m\u001B[0m\u001B[0m\n",
      "\u001B[0;31mKeyboardInterrupt\u001B[0m: "
     ]
    }
   ],
   "source": [
    "dataset_sources_config = [\n",
    "    (Dataset.PWDB, PWDB_TEXTUAL_CLASS),\n",
    "    (Dataset.EU_ACTION_TIMELINE, DEFAULT_TEXTUAL_COLUMN),\n",
    "    (Dataset.IRELAND_ACTION_TIMELINE, DEFAULT_TEXTUAL_COLUMN)\n",
    "]\n",
    "model1_language_model_pipeline = LanguageModelPipeline(dataset_sources=dataset_sources_config)\n",
    "model1_language_model_pipeline.execute()"
   ],
   "metadata": {
    "collapsed": false,
    "pycharm": {
     "name": "#%%\n"
    }
   }
  },
  {
   "cell_type": "markdown",
   "source": [
    "## Experiment Nr#2 language model based on:\n",
    "- eu-cellar\n"
   ],
   "metadata": {
    "collapsed": false,
    "pycharm": {
     "name": "#%% md\n"
    }
   }
  },
  {
   "cell_type": "code",
   "execution_count": 9,
   "outputs": [
    {
     "name": "stderr",
     "output_type": "stream",
     "text": [
      "100% (2653 of 2653) |####################| Elapsed Time: 0:00:01 Time:  0:00:01\n"
     ]
    }
   ],
   "source": [
    "dataset_sources_config = [\n",
    "    (Dataset.EU_CELLAR, DEFAULT_TEXTUAL_COLUMN)\n",
    "]\n",
    "model2_language_model_pipeline = LanguageModelPipeline(dataset_sources=dataset_sources_config)\n",
    "model2_language_model_pipeline.execute()\n"
   ],
   "metadata": {
    "collapsed": false,
    "pycharm": {
     "name": "#%%\n"
    }
   }
  },
  {
   "cell_type": "code",
   "execution_count": 14,
   "outputs": [],
   "source": [
    "doc = nlp(str(model2_language_model_pipeline.word2vec.wv.index_to_key))\n",
    "selected_pos = select_pos(doc, pos=['NOUN', 'ADJ'])\n"
   ],
   "metadata": {
    "collapsed": false,
    "pycharm": {
     "name": "#%%\n"
    }
   }
  },
  {
   "cell_type": "code",
   "execution_count": 15,
   "outputs": [],
   "source": [
    "selected_pos = list(map(str, selected_pos))\n"
   ],
   "metadata": {
    "collapsed": false,
    "pycharm": {
     "name": "#%%\n"
    }
   }
  },
  {
   "cell_type": "code",
   "execution_count": 16,
   "outputs": [],
   "source": [
    "key_words = ['work', 'agreement', 'working', 'companies', 'workers',\n",
    "             'measures', 'temporary', 'social', 'support', 'covid19',\n",
    "             '2020', 'public', 'national', 'ireland', 'statement', '2021',\n",
    "             'announce', 'health', 'minister', 'new', 'billion', 'coronavirus',\n",
    "             'vaccine', 'eur', 'support', 'million', 'commission', 'eu']\n",
    "selected_key_words = [ word for word in key_words if word in selected_pos]\n"
   ],
   "metadata": {
    "collapsed": false,
    "pycharm": {
     "name": "#%%\n"
    }
   }
  },
  {
   "cell_type": "code",
   "execution_count": 17,
   "outputs": [],
   "source": [
    "selected_pos_index = [model2_language_model_pipeline.word2vec.wv.index_to_key.index(token)\n",
    "                      for token in selected_pos\n",
    "                      if token in model2_language_model_pipeline.word2vec.wv.index_to_key]\n"
   ],
   "metadata": {
    "collapsed": false,
    "pycharm": {
     "name": "#%%\n"
    }
   }
  },
  {
   "cell_type": "code",
   "execution_count": 18,
   "outputs": [],
   "source": [
    "selected_pos_embeddings = [model2_language_model_pipeline.word2vec.wv.vectors[index]\n",
    "                           for index in selected_pos_index]"
   ],
   "metadata": {
    "collapsed": false,
    "pycharm": {
     "name": "#%%\n"
    }
   }
  },
  {
   "cell_type": "code",
   "execution_count": 19,
   "outputs": [
    {
     "data": {
      "text/plain": "            european   council  regulation  commission  parliament  decision  \\\neuropean    1.000000  0.744325    0.487154    0.511681    0.700258  0.378877   \ncouncil     0.744325  1.000000    0.629656    0.658231    0.693651  0.417241   \nregulation  0.487154  0.629656    1.000000    0.424473    0.652164  0.676131   \ncommission  0.511681  0.658231    0.424473    1.000000    0.597338  0.393663   \nparliament  0.700258  0.693651    0.652164    0.597338    1.000000  0.454662   \n...              ...       ...         ...         ...         ...       ...   \npave        0.059353 -0.048776   -0.186397   -0.061286   -0.120531 -0.128652   \noverride   -0.386750 -0.536902   -0.288352   -0.541670   -0.428568 -0.329348   \nbalkan     -0.032563  0.021019    0.157385    0.221573    0.032061  0.189217   \nleader      0.212013  0.234899    0.214810    0.318258    0.206461  0.271193   \nshortage    0.026078  0.042876    0.095924   -0.092259    0.076532 -0.000878   \n\n            committee      case  document     union  ...  wastewater  \\\neuropean     0.658112 -0.292653  0.428513  0.569740  ...    0.215637   \ncouncil      0.542533 -0.358522  0.501669  0.545901  ...    0.148657   \nregulation   0.239274 -0.352621  0.329811  0.342675  ...    0.078149   \ncommission   0.357089 -0.193273  0.696010  0.340861  ...    0.332862   \nparliament   0.495427 -0.344882  0.480537  0.545771  ...    0.147232   \n...               ...       ...       ...       ...  ...         ...   \npave         0.391295  0.697673 -0.082864  0.050038  ...    0.479396   \noverride    -0.266091  0.297309 -0.579777 -0.142641  ...    0.012071   \nbalkan       0.105226  0.432825  0.366109 -0.013851  ...    0.794751   \nleader       0.378307  0.460051  0.377487  0.214572  ...    0.826043   \nshortage     0.093483  0.077861  0.033306  0.019147  ...    0.250600   \n\n            salamander  supplier  donation  grandfathere      pave  override  \\\neuropean      0.145747  0.011206  0.215781     -0.056217  0.059353 -0.386750   \ncouncil       0.147761  0.011673  0.086677      0.019510 -0.048776 -0.536902   \nregulation    0.191997 -0.041570  0.010952     -0.333977 -0.186397 -0.288352   \ncommission    0.181456  0.211504  0.084190     -0.036268 -0.061286 -0.541670   \nparliament    0.111525  0.007721  0.152890     -0.107517 -0.120531 -0.428568   \n...                ...       ...       ...           ...       ...       ...   \npave          0.580868 -0.004239  0.560735     -0.457008  1.000000  0.275214   \noverride      0.027798 -0.100985  0.178105     -0.164118  0.275214  1.000000   \nbalkan        0.856240  0.311317  0.418138     -0.631949  0.437571  0.057855   \nleader        0.858358  0.358055  0.585472     -0.649061  0.570645  0.021040   \nshortage      0.451553 -0.169891  0.150564     -0.218568  0.183942  0.072889   \n\n              balkan    leader  shortage  \neuropean   -0.032563  0.212013  0.026078  \ncouncil     0.021019  0.234899  0.042876  \nregulation  0.157385  0.214810  0.095924  \ncommission  0.221573  0.318258 -0.092259  \nparliament  0.032061  0.206461  0.076532  \n...              ...       ...       ...  \npave        0.437571  0.570645  0.183942  \noverride    0.057855  0.021040  0.072889  \nbalkan      1.000000  0.869438  0.346583  \nleader      0.869438  1.000000  0.183269  \nshortage    0.346583  0.183269  1.000000  \n\n[3424 rows x 3424 columns]",
      "text/html": "<div>\n<style scoped>\n    .dataframe tbody tr th:only-of-type {\n        vertical-align: middle;\n    }\n\n    .dataframe tbody tr th {\n        vertical-align: top;\n    }\n\n    .dataframe thead th {\n        text-align: right;\n    }\n</style>\n<table border=\"1\" class=\"dataframe\">\n  <thead>\n    <tr style=\"text-align: right;\">\n      <th></th>\n      <th>european</th>\n      <th>council</th>\n      <th>regulation</th>\n      <th>commission</th>\n      <th>parliament</th>\n      <th>decision</th>\n      <th>committee</th>\n      <th>case</th>\n      <th>document</th>\n      <th>union</th>\n      <th>...</th>\n      <th>wastewater</th>\n      <th>salamander</th>\n      <th>supplier</th>\n      <th>donation</th>\n      <th>grandfathere</th>\n      <th>pave</th>\n      <th>override</th>\n      <th>balkan</th>\n      <th>leader</th>\n      <th>shortage</th>\n    </tr>\n  </thead>\n  <tbody>\n    <tr>\n      <th>european</th>\n      <td>1.000000</td>\n      <td>0.744325</td>\n      <td>0.487154</td>\n      <td>0.511681</td>\n      <td>0.700258</td>\n      <td>0.378877</td>\n      <td>0.658112</td>\n      <td>-0.292653</td>\n      <td>0.428513</td>\n      <td>0.569740</td>\n      <td>...</td>\n      <td>0.215637</td>\n      <td>0.145747</td>\n      <td>0.011206</td>\n      <td>0.215781</td>\n      <td>-0.056217</td>\n      <td>0.059353</td>\n      <td>-0.386750</td>\n      <td>-0.032563</td>\n      <td>0.212013</td>\n      <td>0.026078</td>\n    </tr>\n    <tr>\n      <th>council</th>\n      <td>0.744325</td>\n      <td>1.000000</td>\n      <td>0.629656</td>\n      <td>0.658231</td>\n      <td>0.693651</td>\n      <td>0.417241</td>\n      <td>0.542533</td>\n      <td>-0.358522</td>\n      <td>0.501669</td>\n      <td>0.545901</td>\n      <td>...</td>\n      <td>0.148657</td>\n      <td>0.147761</td>\n      <td>0.011673</td>\n      <td>0.086677</td>\n      <td>0.019510</td>\n      <td>-0.048776</td>\n      <td>-0.536902</td>\n      <td>0.021019</td>\n      <td>0.234899</td>\n      <td>0.042876</td>\n    </tr>\n    <tr>\n      <th>regulation</th>\n      <td>0.487154</td>\n      <td>0.629656</td>\n      <td>1.000000</td>\n      <td>0.424473</td>\n      <td>0.652164</td>\n      <td>0.676131</td>\n      <td>0.239274</td>\n      <td>-0.352621</td>\n      <td>0.329811</td>\n      <td>0.342675</td>\n      <td>...</td>\n      <td>0.078149</td>\n      <td>0.191997</td>\n      <td>-0.041570</td>\n      <td>0.010952</td>\n      <td>-0.333977</td>\n      <td>-0.186397</td>\n      <td>-0.288352</td>\n      <td>0.157385</td>\n      <td>0.214810</td>\n      <td>0.095924</td>\n    </tr>\n    <tr>\n      <th>commission</th>\n      <td>0.511681</td>\n      <td>0.658231</td>\n      <td>0.424473</td>\n      <td>1.000000</td>\n      <td>0.597338</td>\n      <td>0.393663</td>\n      <td>0.357089</td>\n      <td>-0.193273</td>\n      <td>0.696010</td>\n      <td>0.340861</td>\n      <td>...</td>\n      <td>0.332862</td>\n      <td>0.181456</td>\n      <td>0.211504</td>\n      <td>0.084190</td>\n      <td>-0.036268</td>\n      <td>-0.061286</td>\n      <td>-0.541670</td>\n      <td>0.221573</td>\n      <td>0.318258</td>\n      <td>-0.092259</td>\n    </tr>\n    <tr>\n      <th>parliament</th>\n      <td>0.700258</td>\n      <td>0.693651</td>\n      <td>0.652164</td>\n      <td>0.597338</td>\n      <td>1.000000</td>\n      <td>0.454662</td>\n      <td>0.495427</td>\n      <td>-0.344882</td>\n      <td>0.480537</td>\n      <td>0.545771</td>\n      <td>...</td>\n      <td>0.147232</td>\n      <td>0.111525</td>\n      <td>0.007721</td>\n      <td>0.152890</td>\n      <td>-0.107517</td>\n      <td>-0.120531</td>\n      <td>-0.428568</td>\n      <td>0.032061</td>\n      <td>0.206461</td>\n      <td>0.076532</td>\n    </tr>\n    <tr>\n      <th>...</th>\n      <td>...</td>\n      <td>...</td>\n      <td>...</td>\n      <td>...</td>\n      <td>...</td>\n      <td>...</td>\n      <td>...</td>\n      <td>...</td>\n      <td>...</td>\n      <td>...</td>\n      <td>...</td>\n      <td>...</td>\n      <td>...</td>\n      <td>...</td>\n      <td>...</td>\n      <td>...</td>\n      <td>...</td>\n      <td>...</td>\n      <td>...</td>\n      <td>...</td>\n      <td>...</td>\n    </tr>\n    <tr>\n      <th>pave</th>\n      <td>0.059353</td>\n      <td>-0.048776</td>\n      <td>-0.186397</td>\n      <td>-0.061286</td>\n      <td>-0.120531</td>\n      <td>-0.128652</td>\n      <td>0.391295</td>\n      <td>0.697673</td>\n      <td>-0.082864</td>\n      <td>0.050038</td>\n      <td>...</td>\n      <td>0.479396</td>\n      <td>0.580868</td>\n      <td>-0.004239</td>\n      <td>0.560735</td>\n      <td>-0.457008</td>\n      <td>1.000000</td>\n      <td>0.275214</td>\n      <td>0.437571</td>\n      <td>0.570645</td>\n      <td>0.183942</td>\n    </tr>\n    <tr>\n      <th>override</th>\n      <td>-0.386750</td>\n      <td>-0.536902</td>\n      <td>-0.288352</td>\n      <td>-0.541670</td>\n      <td>-0.428568</td>\n      <td>-0.329348</td>\n      <td>-0.266091</td>\n      <td>0.297309</td>\n      <td>-0.579777</td>\n      <td>-0.142641</td>\n      <td>...</td>\n      <td>0.012071</td>\n      <td>0.027798</td>\n      <td>-0.100985</td>\n      <td>0.178105</td>\n      <td>-0.164118</td>\n      <td>0.275214</td>\n      <td>1.000000</td>\n      <td>0.057855</td>\n      <td>0.021040</td>\n      <td>0.072889</td>\n    </tr>\n    <tr>\n      <th>balkan</th>\n      <td>-0.032563</td>\n      <td>0.021019</td>\n      <td>0.157385</td>\n      <td>0.221573</td>\n      <td>0.032061</td>\n      <td>0.189217</td>\n      <td>0.105226</td>\n      <td>0.432825</td>\n      <td>0.366109</td>\n      <td>-0.013851</td>\n      <td>...</td>\n      <td>0.794751</td>\n      <td>0.856240</td>\n      <td>0.311317</td>\n      <td>0.418138</td>\n      <td>-0.631949</td>\n      <td>0.437571</td>\n      <td>0.057855</td>\n      <td>1.000000</td>\n      <td>0.869438</td>\n      <td>0.346583</td>\n    </tr>\n    <tr>\n      <th>leader</th>\n      <td>0.212013</td>\n      <td>0.234899</td>\n      <td>0.214810</td>\n      <td>0.318258</td>\n      <td>0.206461</td>\n      <td>0.271193</td>\n      <td>0.378307</td>\n      <td>0.460051</td>\n      <td>0.377487</td>\n      <td>0.214572</td>\n      <td>...</td>\n      <td>0.826043</td>\n      <td>0.858358</td>\n      <td>0.358055</td>\n      <td>0.585472</td>\n      <td>-0.649061</td>\n      <td>0.570645</td>\n      <td>0.021040</td>\n      <td>0.869438</td>\n      <td>1.000000</td>\n      <td>0.183269</td>\n    </tr>\n    <tr>\n      <th>shortage</th>\n      <td>0.026078</td>\n      <td>0.042876</td>\n      <td>0.095924</td>\n      <td>-0.092259</td>\n      <td>0.076532</td>\n      <td>-0.000878</td>\n      <td>0.093483</td>\n      <td>0.077861</td>\n      <td>0.033306</td>\n      <td>0.019147</td>\n      <td>...</td>\n      <td>0.250600</td>\n      <td>0.451553</td>\n      <td>-0.169891</td>\n      <td>0.150564</td>\n      <td>-0.218568</td>\n      <td>0.183942</td>\n      <td>0.072889</td>\n      <td>0.346583</td>\n      <td>0.183269</td>\n      <td>1.000000</td>\n    </tr>\n  </tbody>\n</table>\n<p>3424 rows × 3424 columns</p>\n</div>"
     },
     "execution_count": 19,
     "metadata": {},
     "output_type": "execute_result"
    }
   ],
   "source": [
    "sim_matrix =  get_similarity_matrix(selected_pos_embeddings,\n",
    "                      selected_pos,\n",
    "                      metric=cosine_similarity)\n",
    "sim_matrix\n"
   ],
   "metadata": {
    "collapsed": false,
    "pycharm": {
     "name": "#%%\n"
    }
   }
  },
  {
   "cell_type": "code",
   "execution_count": 54,
   "outputs": [
    {
     "name": "stdout",
     "output_type": "stream",
     "text": [
      "dict_keys(['work', 'staff', 'ostreae', 'frances', 'arduous', 'latvias', 'dog', 'analysis', '858/2004', 'lithuanias', 'cap', 'plan', 'nonco2'])\n",
      "dict_keys(['agreement', 'aviation', 'euromediterranean', 'force', 'international', 'union', 'entry', 'islamic', 'civil', 'organization', 'protocol', 'supplementary', 'maldives', 'community', 'bosniaherzegovina'])\n",
      "dict_keys(['companies', 'household', 'voice', 'legitimate', 'machines', 'ypiresion', 'recorder', '25hour', 'cockpit', 'handicaps', 'line', 'vasileios', 'kokolakis', 'laboratoires', 'gasification', 'possibility'])\n",
      "dict_keys(['workers', 'freedom', 'movement', 'worker', 'consideration', 'free', 'children', 'reimbursement', 'property', 'provider', 'treatment', 'taxation', 'occurrence', 'online', 'evidence', 'acquisition', 'intangible', 'contact', 'claim', 'length', 'double', 'benefits'])\n",
      "dict_keys(['measures', 'measure', 'exceptional', 'diagnoses'])\n",
      "dict_keys(['temporary', 'specific', '2020/1350', 'derogation', 'dissemination', '16february', 'additional', '2018/732', 'diagnoses', 'exceptional', 'rules', 'adoption', '2021/267', '28april', '2021/695', 'prolongation', 'arrangements', '165/2014', 'no508/2014', 'measure', 'measures'])\n",
      "dict_keys(['social', 'committee', 'economic', 'regions', 'funding', 'region', 'affairs', 'outermost', 'monetary', 'industry'])\n",
      "dict_keys(['support', 'temporary', 'solvency', 'securitisation', 'specific', '2020/1350', 'derogation', 'europol', 'arrangements', 'additional', 'simple', 'framework', 'dissemination', '16february', '2018/732', 'diagnoses', 'exceptional', 'adjustments', 'investigations', 'transparent', 'verification', 'prolongation', 'issuance', 'multiannual', 'horizon'])\n",
      "dict_keys(['covid19', 'campaign', 'response', 'covid', 'context', 'consequence', 'crisis', 'refinements', 'current', 'difficulties', 'outbreaks', 'consequences', 'threat', 'vaccination', 'pandemic', 'connection', 'measures'])\n",
      "dict_keys(['public', 'prosecutor', 'australian', 'service', 'office', 'prosecutors', 'carriers', 'tender', 'universal', 'obligations', 'consequences', 'reinforcement', 'carrier', 'invitation', 'invitations', 'schedule', 'compensation', 'essential'])\n",
      "dict_keys(['national', 'reform', 'demonstration', 'competence', 'czechia', 'convergence', 'peaceful', 'technological', 'iter', 'network', 'era', 'centre', 'belgium', 'denmark', 'disasters', 'stability', 'programme', 'publishing', 'research', 'eiburs', 'democratic', 'capacity'])\n",
      "dict_keys(['statement', 'reasons', 'reason', 'activation', 'motion', 'bridge', 'assessment', 'progress', 'adjudicate', 'c191/19', 'defendant', 'jobs', 'youth', 'decade', 'plan', 'resilience', 'foresight', 'structural', 'reforms', 'semester'])\n",
      "dict_keys(['health', 'food', 'environment', 'data', 'agriculture', 'feed', 'safety', 'space', 'considerations', 'audiovisual', 'culture', 'welfare', 'enterprises', 'availability', 'supply', 'pact', 'schemes', 'pillar', 'skill'])\n",
      "dict_keys(['new', 'growth', 'industrial', 'cities', 'proliferation', 'jobs', 'pact', 'cybersecurity', 'sustainability', 'metropolitan', 'goal', 'global', 'youth', 'society', 'constitutional', 'skill', 'technology', 'demonstration', 'toxicfree', 'retail', 'tourism'])\n",
      "dict_keys(['vaccine', 'vaccines', 'diagnostic', 'strategies', 'crisis', 'preparedness', 'c90124/2020', 'fishery', 'threat', 'context', 'response', 'vaccination', 'combat', 'lessons', 'aquaculture', 'situations', 'wine', 'consequence', 'outbreaks'])\n",
      "dict_keys(['support', 'temporary', 'solvency', 'securitisation', 'specific', '2020/1350', 'derogation', 'europol', 'arrangements', 'additional', 'simple', 'framework', 'dissemination', '16february', '2018/732', 'diagnoses', 'exceptional', 'adjustments', 'investigations', 'transparent', 'verification', 'prolongation', 'issuance', 'multiannual', 'horizon'])\n",
      "dict_keys(['commission', 'sky', 'document', 'leonine', 'software', 'revision', 'associazione', 'compute', 'shift', 'update', 'agmin', 'degode', 'ryanair', 'toolstream', 'spoka', 'perry', 'drugs', 'raccoon', 'high', 'thessalonikis', 'panepistimio', 'administration', 'executive', 'agency', 'brillux', 'czechia', 'gaas', 'deutsche', 'verigraft', 'shindler', 'inivos'])\n"
     ]
    }
   ],
   "source": [
    "from d3graph import d3graph\n",
    "\n",
    "\n",
    "for index in range(0, len(selected_key_words)):\n",
    "    graph = generate_graph(sim_matrix ,nx.Graph(),selected_key_words[index],4, threshold=0.5 ,max_deep_level=2)\n",
    "    adjmat = nx.adjacency_matrix(graph).todense()\n",
    "    # print(len(graph.edges(data=False)))\n",
    "    # print(adjmat.shape)\n",
    "    # print(graph.nodes())\n",
    "    print(graph.adj)\n",
    "    # adjmat = pd.DataFrame(data=adjmat, index=graph.nodes(), columns=graph.nodes())\n",
    "    # node_size = [for key, data in graph.adj[selected_key_words[index]]]\n",
    "    # d3graph(adjmat, savename=selected_key_words[index], node_color=adjmat.columns.values, node_size=,\n",
    "    #         width=1920, height=1080)\n",
    "    # plt.figure(index,figsize=(10,10))\n",
    "    # plt.title(selected_key_words[index])\n",
    "    # nx.draw_spring(graph, with_labels=True)"
   ],
   "metadata": {
    "collapsed": false,
    "pycharm": {
     "name": "#%%\n"
    }
   }
  },
  {
   "cell_type": "code",
   "execution_count": null,
   "outputs": [],
   "source": [],
   "metadata": {
    "collapsed": false,
    "pycharm": {
     "name": "#%%\n"
    }
   }
  },
  {
   "cell_type": "markdown",
   "source": [
    "## Experiment Nr#3 language model based on:\n",
    "- PWDB\n",
    "- eu-timeline\n",
    "- ireland-timeline\n",
    "- eu-cellar"
   ],
   "metadata": {
    "collapsed": false,
    "pycharm": {
     "name": "#%% md\n"
    }
   }
  },
  {
   "cell_type": "code",
   "execution_count": 7,
   "outputs": [],
   "source": [
    "dataset_sources_config = [\n",
    "    (Dataset.PWDB, PWDB_TEXTUAL_CLASS),\n",
    "    (Dataset.EU_ACTION_TIMELINE, DEFAULT_TEXTUAL_COLUMN),\n",
    "    (Dataset.IRELAND_ACTION_TIMELINE, DEFAULT_TEXTUAL_COLUMN),\n",
    "    (Dataset.EU_CELLAR, DEFAULT_TEXTUAL_COLUMN)\n",
    "]\n",
    "model3_language_model_pipeline = LanguageModelPipeline(dataset_sources=dataset_sources_config)\n",
    "model3_language_model_pipeline.execute()"
   ],
   "metadata": {
    "collapsed": false,
    "pycharm": {
     "name": "#%%\n"
    }
   }
  },
  {
   "cell_type": "code",
   "execution_count": 10,
   "outputs": [],
   "source": [
    "model2_document = nlp(str(model2_language_model_pipeline.word2vec.wv.index_to_key))\n",
    "model2_selected_pos = select_pos(model2_document, pos=['NOUN', 'ADJ'])\n",
    "model2_selected_pos = list(map(str, model2_selected_pos))"
   ],
   "metadata": {
    "collapsed": false,
    "pycharm": {
     "name": "#%%\n"
    }
   }
  },
  {
   "cell_type": "code",
   "execution_count": 11,
   "outputs": [],
   "source": [
    "key_words = ['work', 'agreement', 'working', 'companies', 'workers',\n",
    "             'measures', 'temporary', 'social', 'support', 'covid19',\n",
    "             '2020', 'public', 'national', 'ireland', 'statement', '2021',\n",
    "             'announce', 'health', 'minister', 'new', 'billion', 'coronavirus',\n",
    "             'vaccine', 'eur', 'support', 'million', 'commission', 'eu']\n",
    "\n",
    "\n",
    "\n",
    "model2_selected_key_words = [ word for word in key_words if word in model2_selected_pos]\n",
    "model2_selected_pos_index = [model2_language_model_pipeline.word2vec.wv.index_to_key.index(token)\n",
    "                      for token in model2_selected_pos\n",
    "                      if token in model2_language_model_pipeline.word2vec.wv.index_to_key]\n",
    "model2_selected_pos_embeddings = [model2_language_model_pipeline.word2vec.wv.vectors[index]\n",
    "                           for index in model2_selected_pos_index]"
   ],
   "metadata": {
    "collapsed": false,
    "pycharm": {
     "name": "#%%\n"
    }
   }
  },
  {
   "cell_type": "markdown",
   "source": [
    "## Similarity matrices\n",
    "### Euclidean similarity"
   ],
   "metadata": {
    "collapsed": false,
    "pycharm": {
     "name": "#%% md\n"
    }
   }
  },
  {
   "cell_type": "code",
   "execution_count": 17,
   "outputs": [],
   "source": [
    "# model1_euclidean_similarity_matrix = get_similarity_matrix(selected_pos_embeddings,\n",
    "#                                                            selected_pos,\n",
    "#                                                            metric=euclidean_similarity)\n",
    "# model1_euclidean_similarity_matrix"
   ],
   "metadata": {
    "collapsed": false,
    "pycharm": {
     "name": "#%%\n"
    }
   }
  },
  {
   "cell_type": "code",
   "execution_count": 18,
   "outputs": [
    {
     "data": {
      "text/plain": "            european   council  regulation  commission  parliament  decision  \\\neuropean    1.000000  0.092975    0.068035    0.078721    0.084919  0.067845   \ncouncil     0.092975  1.000000    0.077712    0.089045    0.081967  0.067675   \nregulation  0.068035  0.077712    1.000000    0.067661    0.081639  0.084227   \ncommission  0.078721  0.089045    0.067661    1.000000    0.080171  0.074055   \nparliament  0.084919  0.081967    0.081639    0.080171    1.000000  0.068253   \n...              ...       ...         ...         ...         ...       ...   \npave        0.070028  0.069539    0.064439    0.082983    0.065430  0.077736   \noverride    0.070207  0.069735    0.064759    0.083314    0.065690  0.078059   \nbalkan      0.070257  0.069861    0.064867    0.083325    0.065763  0.078216   \nleader      0.070087  0.069663    0.064702    0.083361    0.065623  0.078179   \nshortage    0.070256  0.069772    0.064796    0.083318    0.065731  0.078096   \n\n            committee      case  document     union  ...  wastewater  \\\neuropean     0.076907  0.039055  0.064252  0.074069  ...    0.070132   \ncouncil      0.067401  0.038438  0.066541  0.069604  ...    0.069701   \nregulation   0.054282  0.037151  0.056214  0.059274  ...    0.064737   \ncommission   0.064334  0.043303  0.084105  0.065690  ...    0.083329   \nparliament   0.065765  0.037646  0.062161  0.070635  ...    0.065632   \n...               ...       ...       ...       ...  ...         ...   \npave         0.065999  0.056018  0.063948  0.070418  ...    0.865758   \noverride     0.066043  0.055863  0.064151  0.070653  ...    0.919818   \nbalkan       0.066001  0.055830  0.064080  0.070653  ...    0.896481   \nleader       0.065981  0.056002  0.064161  0.070654  ...    0.906094   \nshortage     0.065995  0.055920  0.064146  0.070611  ...    0.912072   \n\n            salamander  supplier  donation  grandfathere      pave  override  \\\neuropean      0.070232  0.070103  0.070190      0.070135  0.070028  0.070207   \ncouncil       0.069711  0.069643  0.069696      0.069645  0.069539  0.069735   \nregulation    0.064743  0.064671  0.064674      0.064639  0.064439  0.064759   \ncommission    0.083231  0.083258  0.083302      0.083167  0.082983  0.083314   \nparliament    0.065639  0.065574  0.065654      0.065578  0.065430  0.065690   \n...                ...       ...       ...           ...       ...       ...   \npave          0.874539  0.854341  0.891273      0.897697  1.000000  0.875922   \noverride      0.921074  0.891209  0.918554      0.915038  0.875922  1.000000   \nbalkan        0.893802  0.867420  0.872706      0.890004  0.856431  0.891130   \nleader        0.869230  0.857809  0.877381      0.864832  0.837585  0.887445   \nshortage      0.918657  0.877545  0.902239      0.901154  0.867423  0.924946   \n\n              balkan    leader  shortage  \neuropean    0.070257  0.070087  0.070256  \ncouncil     0.069861  0.069663  0.069772  \nregulation  0.064867  0.064702  0.064796  \ncommission  0.083325  0.083361  0.083318  \nparliament  0.065763  0.065623  0.065731  \n...              ...       ...       ...  \npave        0.856431  0.837585  0.867423  \noverride    0.891130  0.887445  0.924946  \nbalkan      1.000000  0.858806  0.912305  \nleader      0.858806  1.000000  0.879809  \nshortage    0.912305  0.879809  1.000000  \n\n[3424 rows x 3424 columns]",
      "text/html": "<div>\n<style scoped>\n    .dataframe tbody tr th:only-of-type {\n        vertical-align: middle;\n    }\n\n    .dataframe tbody tr th {\n        vertical-align: top;\n    }\n\n    .dataframe thead th {\n        text-align: right;\n    }\n</style>\n<table border=\"1\" class=\"dataframe\">\n  <thead>\n    <tr style=\"text-align: right;\">\n      <th></th>\n      <th>european</th>\n      <th>council</th>\n      <th>regulation</th>\n      <th>commission</th>\n      <th>parliament</th>\n      <th>decision</th>\n      <th>committee</th>\n      <th>case</th>\n      <th>document</th>\n      <th>union</th>\n      <th>...</th>\n      <th>wastewater</th>\n      <th>salamander</th>\n      <th>supplier</th>\n      <th>donation</th>\n      <th>grandfathere</th>\n      <th>pave</th>\n      <th>override</th>\n      <th>balkan</th>\n      <th>leader</th>\n      <th>shortage</th>\n    </tr>\n  </thead>\n  <tbody>\n    <tr>\n      <th>european</th>\n      <td>1.000000</td>\n      <td>0.092975</td>\n      <td>0.068035</td>\n      <td>0.078721</td>\n      <td>0.084919</td>\n      <td>0.067845</td>\n      <td>0.076907</td>\n      <td>0.039055</td>\n      <td>0.064252</td>\n      <td>0.074069</td>\n      <td>...</td>\n      <td>0.070132</td>\n      <td>0.070232</td>\n      <td>0.070103</td>\n      <td>0.070190</td>\n      <td>0.070135</td>\n      <td>0.070028</td>\n      <td>0.070207</td>\n      <td>0.070257</td>\n      <td>0.070087</td>\n      <td>0.070256</td>\n    </tr>\n    <tr>\n      <th>council</th>\n      <td>0.092975</td>\n      <td>1.000000</td>\n      <td>0.077712</td>\n      <td>0.089045</td>\n      <td>0.081967</td>\n      <td>0.067675</td>\n      <td>0.067401</td>\n      <td>0.038438</td>\n      <td>0.066541</td>\n      <td>0.069604</td>\n      <td>...</td>\n      <td>0.069701</td>\n      <td>0.069711</td>\n      <td>0.069643</td>\n      <td>0.069696</td>\n      <td>0.069645</td>\n      <td>0.069539</td>\n      <td>0.069735</td>\n      <td>0.069861</td>\n      <td>0.069663</td>\n      <td>0.069772</td>\n    </tr>\n    <tr>\n      <th>regulation</th>\n      <td>0.068035</td>\n      <td>0.077712</td>\n      <td>1.000000</td>\n      <td>0.067661</td>\n      <td>0.081639</td>\n      <td>0.084227</td>\n      <td>0.054282</td>\n      <td>0.037151</td>\n      <td>0.056214</td>\n      <td>0.059274</td>\n      <td>...</td>\n      <td>0.064737</td>\n      <td>0.064743</td>\n      <td>0.064671</td>\n      <td>0.064674</td>\n      <td>0.064639</td>\n      <td>0.064439</td>\n      <td>0.064759</td>\n      <td>0.064867</td>\n      <td>0.064702</td>\n      <td>0.064796</td>\n    </tr>\n    <tr>\n      <th>commission</th>\n      <td>0.078721</td>\n      <td>0.089045</td>\n      <td>0.067661</td>\n      <td>1.000000</td>\n      <td>0.080171</td>\n      <td>0.074055</td>\n      <td>0.064334</td>\n      <td>0.043303</td>\n      <td>0.084105</td>\n      <td>0.065690</td>\n      <td>...</td>\n      <td>0.083329</td>\n      <td>0.083231</td>\n      <td>0.083258</td>\n      <td>0.083302</td>\n      <td>0.083167</td>\n      <td>0.082983</td>\n      <td>0.083314</td>\n      <td>0.083325</td>\n      <td>0.083361</td>\n      <td>0.083318</td>\n    </tr>\n    <tr>\n      <th>parliament</th>\n      <td>0.084919</td>\n      <td>0.081967</td>\n      <td>0.081639</td>\n      <td>0.080171</td>\n      <td>1.000000</td>\n      <td>0.068253</td>\n      <td>0.065765</td>\n      <td>0.037646</td>\n      <td>0.062161</td>\n      <td>0.070635</td>\n      <td>...</td>\n      <td>0.065632</td>\n      <td>0.065639</td>\n      <td>0.065574</td>\n      <td>0.065654</td>\n      <td>0.065578</td>\n      <td>0.065430</td>\n      <td>0.065690</td>\n      <td>0.065763</td>\n      <td>0.065623</td>\n      <td>0.065731</td>\n    </tr>\n    <tr>\n      <th>...</th>\n      <td>...</td>\n      <td>...</td>\n      <td>...</td>\n      <td>...</td>\n      <td>...</td>\n      <td>...</td>\n      <td>...</td>\n      <td>...</td>\n      <td>...</td>\n      <td>...</td>\n      <td>...</td>\n      <td>...</td>\n      <td>...</td>\n      <td>...</td>\n      <td>...</td>\n      <td>...</td>\n      <td>...</td>\n      <td>...</td>\n      <td>...</td>\n      <td>...</td>\n      <td>...</td>\n    </tr>\n    <tr>\n      <th>pave</th>\n      <td>0.070028</td>\n      <td>0.069539</td>\n      <td>0.064439</td>\n      <td>0.082983</td>\n      <td>0.065430</td>\n      <td>0.077736</td>\n      <td>0.065999</td>\n      <td>0.056018</td>\n      <td>0.063948</td>\n      <td>0.070418</td>\n      <td>...</td>\n      <td>0.865758</td>\n      <td>0.874539</td>\n      <td>0.854341</td>\n      <td>0.891273</td>\n      <td>0.897697</td>\n      <td>1.000000</td>\n      <td>0.875922</td>\n      <td>0.856431</td>\n      <td>0.837585</td>\n      <td>0.867423</td>\n    </tr>\n    <tr>\n      <th>override</th>\n      <td>0.070207</td>\n      <td>0.069735</td>\n      <td>0.064759</td>\n      <td>0.083314</td>\n      <td>0.065690</td>\n      <td>0.078059</td>\n      <td>0.066043</td>\n      <td>0.055863</td>\n      <td>0.064151</td>\n      <td>0.070653</td>\n      <td>...</td>\n      <td>0.919818</td>\n      <td>0.921074</td>\n      <td>0.891209</td>\n      <td>0.918554</td>\n      <td>0.915038</td>\n      <td>0.875922</td>\n      <td>1.000000</td>\n      <td>0.891130</td>\n      <td>0.887445</td>\n      <td>0.924946</td>\n    </tr>\n    <tr>\n      <th>balkan</th>\n      <td>0.070257</td>\n      <td>0.069861</td>\n      <td>0.064867</td>\n      <td>0.083325</td>\n      <td>0.065763</td>\n      <td>0.078216</td>\n      <td>0.066001</td>\n      <td>0.055830</td>\n      <td>0.064080</td>\n      <td>0.070653</td>\n      <td>...</td>\n      <td>0.896481</td>\n      <td>0.893802</td>\n      <td>0.867420</td>\n      <td>0.872706</td>\n      <td>0.890004</td>\n      <td>0.856431</td>\n      <td>0.891130</td>\n      <td>1.000000</td>\n      <td>0.858806</td>\n      <td>0.912305</td>\n    </tr>\n    <tr>\n      <th>leader</th>\n      <td>0.070087</td>\n      <td>0.069663</td>\n      <td>0.064702</td>\n      <td>0.083361</td>\n      <td>0.065623</td>\n      <td>0.078179</td>\n      <td>0.065981</td>\n      <td>0.056002</td>\n      <td>0.064161</td>\n      <td>0.070654</td>\n      <td>...</td>\n      <td>0.906094</td>\n      <td>0.869230</td>\n      <td>0.857809</td>\n      <td>0.877381</td>\n      <td>0.864832</td>\n      <td>0.837585</td>\n      <td>0.887445</td>\n      <td>0.858806</td>\n      <td>1.000000</td>\n      <td>0.879809</td>\n    </tr>\n    <tr>\n      <th>shortage</th>\n      <td>0.070256</td>\n      <td>0.069772</td>\n      <td>0.064796</td>\n      <td>0.083318</td>\n      <td>0.065731</td>\n      <td>0.078096</td>\n      <td>0.065995</td>\n      <td>0.055920</td>\n      <td>0.064146</td>\n      <td>0.070611</td>\n      <td>...</td>\n      <td>0.912072</td>\n      <td>0.918657</td>\n      <td>0.877545</td>\n      <td>0.902239</td>\n      <td>0.901154</td>\n      <td>0.867423</td>\n      <td>0.924946</td>\n      <td>0.912305</td>\n      <td>0.879809</td>\n      <td>1.000000</td>\n    </tr>\n  </tbody>\n</table>\n<p>3424 rows × 3424 columns</p>\n</div>"
     },
     "execution_count": 18,
     "metadata": {},
     "output_type": "execute_result"
    }
   ],
   "source": [
    "model2_euclidean_similarity_matrix = get_similarity_matrix(model2_selected_pos_embeddings,\n",
    "                                                           model2_selected_pos,\n",
    "                                                           metric=euclidean_similarity)\n",
    "model2_euclidean_similarity_matrix"
   ],
   "metadata": {
    "collapsed": false,
    "pycharm": {
     "name": "#%%\n"
    }
   }
  },
  {
   "cell_type": "code",
   "execution_count": 19,
   "outputs": [],
   "source": [
    "# % % time\n",
    "# model3_euclidean_similarity_matrix = get_similarity_matrix(model3_language_model_pipeline.word2vec.wv.vectors[:100],\n",
    "#                                                            model3_language_model_pipeline.word2vec.wv.index_to_key[\n",
    "#                                                            :100],\n",
    "#                                                            metric=euclidean_similarity)\n",
    "# model3_euclidean_similarity_matrix"
   ],
   "metadata": {
    "collapsed": false,
    "pycharm": {
     "name": "#%%\n"
    }
   }
  },
  {
   "cell_type": "markdown",
   "source": [
    "### Cosine similarity"
   ],
   "metadata": {
    "collapsed": false
   }
  },
  {
   "cell_type": "code",
   "execution_count": 20,
   "outputs": [],
   "source": [
    "# % % time\n",
    "# model1_cosine_similarity_matrix = get_similarity_matrix(model1_language_model_pipeline.word2vec.wv.vectors[:100],\n",
    "#                                                         model1_language_model_pipeline.word2vec.wv.index_to_key[:100],\n",
    "#                                                         metric=cosine_similarity)\n",
    "# model1_cosine_similarity_matrix"
   ],
   "metadata": {
    "collapsed": false,
    "pycharm": {
     "name": "#%%\n"
    }
   }
  },
  {
   "cell_type": "code",
   "execution_count": 12,
   "outputs": [
    {
     "name": "stdout",
     "output_type": "stream",
     "text": [
      "CPU times: user 1min 27s, sys: 95.4 ms, total: 1min 27s\n",
      "Wall time: 1min 27s\n"
     ]
    },
    {
     "data": {
      "text/plain": "            european   council  regulation  commission  parliament  decision  \\\neuropean    1.000000  0.744325    0.487154    0.511681    0.700258  0.378877   \ncouncil     0.744325  1.000000    0.629656    0.658231    0.693651  0.417241   \nregulation  0.487154  0.629656    1.000000    0.424473    0.652164  0.676131   \ncommission  0.511681  0.658231    0.424473    1.000000    0.597338  0.393663   \nparliament  0.700258  0.693651    0.652164    0.597338    1.000000  0.454662   \n...              ...       ...         ...         ...         ...       ...   \npave        0.059353 -0.048776   -0.186397   -0.061286   -0.120531 -0.128652   \noverride   -0.386750 -0.536902   -0.288352   -0.541670   -0.428568 -0.329348   \nbalkan     -0.032563  0.021019    0.157385    0.221573    0.032061  0.189217   \nleader      0.212013  0.234899    0.214810    0.318258    0.206461  0.271193   \nshortage    0.026078  0.042876    0.095924   -0.092259    0.076532 -0.000878   \n\n            committee      case  document     union  ...  wastewater  \\\neuropean     0.658112 -0.292653  0.428513  0.569740  ...    0.215637   \ncouncil      0.542533 -0.358522  0.501669  0.545901  ...    0.148657   \nregulation   0.239274 -0.352621  0.329811  0.342675  ...    0.078149   \ncommission   0.357089 -0.193273  0.696010  0.340861  ...    0.332862   \nparliament   0.495427 -0.344882  0.480537  0.545771  ...    0.147232   \n...               ...       ...       ...       ...  ...         ...   \npave         0.391295  0.697673 -0.082864  0.050038  ...    0.479396   \noverride    -0.266091  0.297309 -0.579777 -0.142641  ...    0.012071   \nbalkan       0.105226  0.432825  0.366109 -0.013851  ...    0.794751   \nleader       0.378307  0.460051  0.377487  0.214572  ...    0.826043   \nshortage     0.093483  0.077861  0.033306  0.019147  ...    0.250600   \n\n            salamander  supplier  donation  grandfathere      pave  override  \\\neuropean      0.145747  0.011206  0.215781     -0.056217  0.059353 -0.386750   \ncouncil       0.147761  0.011673  0.086677      0.019510 -0.048776 -0.536902   \nregulation    0.191997 -0.041570  0.010952     -0.333977 -0.186397 -0.288352   \ncommission    0.181456  0.211504  0.084190     -0.036268 -0.061286 -0.541670   \nparliament    0.111525  0.007721  0.152890     -0.107517 -0.120531 -0.428568   \n...                ...       ...       ...           ...       ...       ...   \npave          0.580868 -0.004239  0.560735     -0.457008  1.000000  0.275214   \noverride      0.027798 -0.100985  0.178105     -0.164118  0.275214  1.000000   \nbalkan        0.856240  0.311317  0.418138     -0.631949  0.437571  0.057855   \nleader        0.858358  0.358055  0.585472     -0.649061  0.570645  0.021040   \nshortage      0.451553 -0.169891  0.150564     -0.218568  0.183942  0.072889   \n\n              balkan    leader  shortage  \neuropean   -0.032563  0.212013  0.026078  \ncouncil     0.021019  0.234899  0.042876  \nregulation  0.157385  0.214810  0.095924  \ncommission  0.221573  0.318258 -0.092259  \nparliament  0.032061  0.206461  0.076532  \n...              ...       ...       ...  \npave        0.437571  0.570645  0.183942  \noverride    0.057855  0.021040  0.072889  \nbalkan      1.000000  0.869438  0.346583  \nleader      0.869438  1.000000  0.183269  \nshortage    0.346583  0.183269  1.000000  \n\n[3424 rows x 3424 columns]",
      "text/html": "<div>\n<style scoped>\n    .dataframe tbody tr th:only-of-type {\n        vertical-align: middle;\n    }\n\n    .dataframe tbody tr th {\n        vertical-align: top;\n    }\n\n    .dataframe thead th {\n        text-align: right;\n    }\n</style>\n<table border=\"1\" class=\"dataframe\">\n  <thead>\n    <tr style=\"text-align: right;\">\n      <th></th>\n      <th>european</th>\n      <th>council</th>\n      <th>regulation</th>\n      <th>commission</th>\n      <th>parliament</th>\n      <th>decision</th>\n      <th>committee</th>\n      <th>case</th>\n      <th>document</th>\n      <th>union</th>\n      <th>...</th>\n      <th>wastewater</th>\n      <th>salamander</th>\n      <th>supplier</th>\n      <th>donation</th>\n      <th>grandfathere</th>\n      <th>pave</th>\n      <th>override</th>\n      <th>balkan</th>\n      <th>leader</th>\n      <th>shortage</th>\n    </tr>\n  </thead>\n  <tbody>\n    <tr>\n      <th>european</th>\n      <td>1.000000</td>\n      <td>0.744325</td>\n      <td>0.487154</td>\n      <td>0.511681</td>\n      <td>0.700258</td>\n      <td>0.378877</td>\n      <td>0.658112</td>\n      <td>-0.292653</td>\n      <td>0.428513</td>\n      <td>0.569740</td>\n      <td>...</td>\n      <td>0.215637</td>\n      <td>0.145747</td>\n      <td>0.011206</td>\n      <td>0.215781</td>\n      <td>-0.056217</td>\n      <td>0.059353</td>\n      <td>-0.386750</td>\n      <td>-0.032563</td>\n      <td>0.212013</td>\n      <td>0.026078</td>\n    </tr>\n    <tr>\n      <th>council</th>\n      <td>0.744325</td>\n      <td>1.000000</td>\n      <td>0.629656</td>\n      <td>0.658231</td>\n      <td>0.693651</td>\n      <td>0.417241</td>\n      <td>0.542533</td>\n      <td>-0.358522</td>\n      <td>0.501669</td>\n      <td>0.545901</td>\n      <td>...</td>\n      <td>0.148657</td>\n      <td>0.147761</td>\n      <td>0.011673</td>\n      <td>0.086677</td>\n      <td>0.019510</td>\n      <td>-0.048776</td>\n      <td>-0.536902</td>\n      <td>0.021019</td>\n      <td>0.234899</td>\n      <td>0.042876</td>\n    </tr>\n    <tr>\n      <th>regulation</th>\n      <td>0.487154</td>\n      <td>0.629656</td>\n      <td>1.000000</td>\n      <td>0.424473</td>\n      <td>0.652164</td>\n      <td>0.676131</td>\n      <td>0.239274</td>\n      <td>-0.352621</td>\n      <td>0.329811</td>\n      <td>0.342675</td>\n      <td>...</td>\n      <td>0.078149</td>\n      <td>0.191997</td>\n      <td>-0.041570</td>\n      <td>0.010952</td>\n      <td>-0.333977</td>\n      <td>-0.186397</td>\n      <td>-0.288352</td>\n      <td>0.157385</td>\n      <td>0.214810</td>\n      <td>0.095924</td>\n    </tr>\n    <tr>\n      <th>commission</th>\n      <td>0.511681</td>\n      <td>0.658231</td>\n      <td>0.424473</td>\n      <td>1.000000</td>\n      <td>0.597338</td>\n      <td>0.393663</td>\n      <td>0.357089</td>\n      <td>-0.193273</td>\n      <td>0.696010</td>\n      <td>0.340861</td>\n      <td>...</td>\n      <td>0.332862</td>\n      <td>0.181456</td>\n      <td>0.211504</td>\n      <td>0.084190</td>\n      <td>-0.036268</td>\n      <td>-0.061286</td>\n      <td>-0.541670</td>\n      <td>0.221573</td>\n      <td>0.318258</td>\n      <td>-0.092259</td>\n    </tr>\n    <tr>\n      <th>parliament</th>\n      <td>0.700258</td>\n      <td>0.693651</td>\n      <td>0.652164</td>\n      <td>0.597338</td>\n      <td>1.000000</td>\n      <td>0.454662</td>\n      <td>0.495427</td>\n      <td>-0.344882</td>\n      <td>0.480537</td>\n      <td>0.545771</td>\n      <td>...</td>\n      <td>0.147232</td>\n      <td>0.111525</td>\n      <td>0.007721</td>\n      <td>0.152890</td>\n      <td>-0.107517</td>\n      <td>-0.120531</td>\n      <td>-0.428568</td>\n      <td>0.032061</td>\n      <td>0.206461</td>\n      <td>0.076532</td>\n    </tr>\n    <tr>\n      <th>...</th>\n      <td>...</td>\n      <td>...</td>\n      <td>...</td>\n      <td>...</td>\n      <td>...</td>\n      <td>...</td>\n      <td>...</td>\n      <td>...</td>\n      <td>...</td>\n      <td>...</td>\n      <td>...</td>\n      <td>...</td>\n      <td>...</td>\n      <td>...</td>\n      <td>...</td>\n      <td>...</td>\n      <td>...</td>\n      <td>...</td>\n      <td>...</td>\n      <td>...</td>\n      <td>...</td>\n    </tr>\n    <tr>\n      <th>pave</th>\n      <td>0.059353</td>\n      <td>-0.048776</td>\n      <td>-0.186397</td>\n      <td>-0.061286</td>\n      <td>-0.120531</td>\n      <td>-0.128652</td>\n      <td>0.391295</td>\n      <td>0.697673</td>\n      <td>-0.082864</td>\n      <td>0.050038</td>\n      <td>...</td>\n      <td>0.479396</td>\n      <td>0.580868</td>\n      <td>-0.004239</td>\n      <td>0.560735</td>\n      <td>-0.457008</td>\n      <td>1.000000</td>\n      <td>0.275214</td>\n      <td>0.437571</td>\n      <td>0.570645</td>\n      <td>0.183942</td>\n    </tr>\n    <tr>\n      <th>override</th>\n      <td>-0.386750</td>\n      <td>-0.536902</td>\n      <td>-0.288352</td>\n      <td>-0.541670</td>\n      <td>-0.428568</td>\n      <td>-0.329348</td>\n      <td>-0.266091</td>\n      <td>0.297309</td>\n      <td>-0.579777</td>\n      <td>-0.142641</td>\n      <td>...</td>\n      <td>0.012071</td>\n      <td>0.027798</td>\n      <td>-0.100985</td>\n      <td>0.178105</td>\n      <td>-0.164118</td>\n      <td>0.275214</td>\n      <td>1.000000</td>\n      <td>0.057855</td>\n      <td>0.021040</td>\n      <td>0.072889</td>\n    </tr>\n    <tr>\n      <th>balkan</th>\n      <td>-0.032563</td>\n      <td>0.021019</td>\n      <td>0.157385</td>\n      <td>0.221573</td>\n      <td>0.032061</td>\n      <td>0.189217</td>\n      <td>0.105226</td>\n      <td>0.432825</td>\n      <td>0.366109</td>\n      <td>-0.013851</td>\n      <td>...</td>\n      <td>0.794751</td>\n      <td>0.856240</td>\n      <td>0.311317</td>\n      <td>0.418138</td>\n      <td>-0.631949</td>\n      <td>0.437571</td>\n      <td>0.057855</td>\n      <td>1.000000</td>\n      <td>0.869438</td>\n      <td>0.346583</td>\n    </tr>\n    <tr>\n      <th>leader</th>\n      <td>0.212013</td>\n      <td>0.234899</td>\n      <td>0.214810</td>\n      <td>0.318258</td>\n      <td>0.206461</td>\n      <td>0.271193</td>\n      <td>0.378307</td>\n      <td>0.460051</td>\n      <td>0.377487</td>\n      <td>0.214572</td>\n      <td>...</td>\n      <td>0.826043</td>\n      <td>0.858358</td>\n      <td>0.358055</td>\n      <td>0.585472</td>\n      <td>-0.649061</td>\n      <td>0.570645</td>\n      <td>0.021040</td>\n      <td>0.869438</td>\n      <td>1.000000</td>\n      <td>0.183269</td>\n    </tr>\n    <tr>\n      <th>shortage</th>\n      <td>0.026078</td>\n      <td>0.042876</td>\n      <td>0.095924</td>\n      <td>-0.092259</td>\n      <td>0.076532</td>\n      <td>-0.000878</td>\n      <td>0.093483</td>\n      <td>0.077861</td>\n      <td>0.033306</td>\n      <td>0.019147</td>\n      <td>...</td>\n      <td>0.250600</td>\n      <td>0.451553</td>\n      <td>-0.169891</td>\n      <td>0.150564</td>\n      <td>-0.218568</td>\n      <td>0.183942</td>\n      <td>0.072889</td>\n      <td>0.346583</td>\n      <td>0.183269</td>\n      <td>1.000000</td>\n    </tr>\n  </tbody>\n</table>\n<p>3424 rows × 3424 columns</p>\n</div>"
     },
     "execution_count": 12,
     "metadata": {},
     "output_type": "execute_result"
    }
   ],
   "source": [
    "%%time\n",
    "model2_cosine_similarity_matrix = get_similarity_matrix(model2_selected_pos_embeddings,\n",
    "                                                        model2_selected_pos,\n",
    "                                                        metric=cosine_similarity)\n",
    "model2_cosine_similarity_matrix"
   ],
   "metadata": {
    "collapsed": false,
    "pycharm": {
     "name": "#%%\n"
    }
   }
  },
  {
   "cell_type": "code",
   "execution_count": 22,
   "outputs": [],
   "source": [
    "# % % time\n",
    "# model3_cosine_similarity_matrix = get_similarity_matrix(model3_language_model_pipeline.word2vec.wv.vectors[:100],\n",
    "#                                                         model3_language_model_pipeline.word2vec.wv.index_to_key[:100],\n",
    "#                                                         metric=cosine_similarity)\n",
    "# model3_cosine_similarity_matrix"
   ],
   "metadata": {
    "collapsed": false,
    "pycharm": {
     "name": "#%%\n"
    }
   }
  },
  {
   "cell_type": "markdown",
   "source": [
    "### Manhattan similarity"
   ],
   "metadata": {
    "collapsed": false
   }
  },
  {
   "cell_type": "code",
   "execution_count": 23,
   "outputs": [],
   "source": [
    "# % % time\n",
    "# model1_manhattan_similarity_matrix = get_similarity_matrix(model1_language_model_pipeline.word2vec.wv.vectors[:100],\n",
    "#                                                            model1_language_model_pipeline.word2vec.wv.index_to_key[\n",
    "#                                                            :100],\n",
    "#                                                            metric=manhattan_similarity)\n",
    "# model1_manhattan_similarity_matrix"
   ],
   "metadata": {
    "collapsed": false,
    "pycharm": {
     "name": "#%%\n"
    }
   }
  },
  {
   "cell_type": "code",
   "execution_count": 24,
   "outputs": [
    {
     "data": {
      "text/plain": "            european   council  regulation  commission  parliament  decision  \\\neuropean    1.000000  0.007373    0.005094    0.006096    0.006707  0.005137   \ncouncil     0.007373  1.000000    0.006138    0.007098    0.006350  0.005240   \nregulation  0.005094  0.006138    1.000000    0.005230    0.006254  0.006615   \ncommission  0.006096  0.007098    0.005230    1.000000    0.006083  0.005754   \nparliament  0.006707  0.006350    0.006254    0.006083    1.000000  0.005265   \n...              ...       ...         ...         ...         ...       ...   \npave        0.005270  0.005303    0.005026    0.006498    0.004989  0.005911   \noverride    0.005284  0.005320    0.005054    0.006528    0.005010  0.005935   \nbalkan      0.005289  0.005331    0.005061    0.006529    0.005017  0.005945   \nleader      0.005275  0.005321    0.005049    0.006539    0.005005  0.005942   \nshortage    0.005288  0.005326    0.005056    0.006530    0.005015  0.005937   \n\n            committee      case  document     union  ...  wastewater  \\\neuropean     0.005993  0.002886  0.004994  0.005782  ...    0.005280   \ncouncil      0.005257  0.002872  0.005226  0.005607  ...    0.005320   \nregulation   0.004046  0.002841  0.004230  0.004536  ...    0.005052   \ncommission   0.004947  0.003218  0.006467  0.005003  ...    0.006530   \nparliament   0.004983  0.002827  0.004794  0.005654  ...    0.005006   \n...               ...       ...       ...       ...  ...         ...   \npave         0.005058  0.004194  0.004976  0.005374  ...    0.320973   \noverride     0.005063  0.004182  0.004991  0.005394  ...    0.454482   \nbalkan       0.005060  0.004181  0.004983  0.005393  ...    0.393788   \nleader       0.005058  0.004193  0.004993  0.005395  ...    0.405444   \nshortage     0.005060  0.004187  0.004990  0.005390  ...    0.422398   \n\n            salamander  supplier  donation  grandfathere      pave  override  \\\neuropean      0.005289  0.005274  0.005282      0.005279  0.005270  0.005284   \ncouncil       0.005320  0.005312  0.005316      0.005312  0.005303  0.005320   \nregulation    0.005053  0.005049  0.005046      0.005044  0.005026  0.005054   \ncommission    0.006523  0.006520  0.006525      0.006512  0.006498  0.006528   \nparliament    0.005006  0.005004  0.005008      0.005001  0.004989  0.005010   \n...                ...       ...       ...           ...       ...       ...   \npave          0.337905  0.296603  0.371773      0.392443  1.000000  0.337010   \noverride      0.458793  0.375071  0.448611      0.444909  0.337010  1.000000   \nbalkan        0.380275  0.323187  0.335197      0.375362  0.305543  0.371704   \nleader        0.322692  0.304147  0.332309      0.320438  0.276014  0.357356   \nshortage      0.446703  0.343899  0.394403      0.394699  0.321604  0.477827   \n\n              balkan    leader  shortage  \neuropean    0.005289  0.005275  0.005288  \ncouncil     0.005331  0.005321  0.005326  \nregulation  0.005061  0.005049  0.005056  \ncommission  0.006529  0.006539  0.006530  \nparliament  0.005017  0.005005  0.005015  \n...              ...       ...       ...  \npave        0.305543  0.276014  0.321604  \noverride    0.371704  0.357356  0.477827  \nbalkan      1.000000  0.306189  0.430648  \nleader      0.306189  1.000000  0.343105  \nshortage    0.430648  0.343105  1.000000  \n\n[3424 rows x 3424 columns]",
      "text/html": "<div>\n<style scoped>\n    .dataframe tbody tr th:only-of-type {\n        vertical-align: middle;\n    }\n\n    .dataframe tbody tr th {\n        vertical-align: top;\n    }\n\n    .dataframe thead th {\n        text-align: right;\n    }\n</style>\n<table border=\"1\" class=\"dataframe\">\n  <thead>\n    <tr style=\"text-align: right;\">\n      <th></th>\n      <th>european</th>\n      <th>council</th>\n      <th>regulation</th>\n      <th>commission</th>\n      <th>parliament</th>\n      <th>decision</th>\n      <th>committee</th>\n      <th>case</th>\n      <th>document</th>\n      <th>union</th>\n      <th>...</th>\n      <th>wastewater</th>\n      <th>salamander</th>\n      <th>supplier</th>\n      <th>donation</th>\n      <th>grandfathere</th>\n      <th>pave</th>\n      <th>override</th>\n      <th>balkan</th>\n      <th>leader</th>\n      <th>shortage</th>\n    </tr>\n  </thead>\n  <tbody>\n    <tr>\n      <th>european</th>\n      <td>1.000000</td>\n      <td>0.007373</td>\n      <td>0.005094</td>\n      <td>0.006096</td>\n      <td>0.006707</td>\n      <td>0.005137</td>\n      <td>0.005993</td>\n      <td>0.002886</td>\n      <td>0.004994</td>\n      <td>0.005782</td>\n      <td>...</td>\n      <td>0.005280</td>\n      <td>0.005289</td>\n      <td>0.005274</td>\n      <td>0.005282</td>\n      <td>0.005279</td>\n      <td>0.005270</td>\n      <td>0.005284</td>\n      <td>0.005289</td>\n      <td>0.005275</td>\n      <td>0.005288</td>\n    </tr>\n    <tr>\n      <th>council</th>\n      <td>0.007373</td>\n      <td>1.000000</td>\n      <td>0.006138</td>\n      <td>0.007098</td>\n      <td>0.006350</td>\n      <td>0.005240</td>\n      <td>0.005257</td>\n      <td>0.002872</td>\n      <td>0.005226</td>\n      <td>0.005607</td>\n      <td>...</td>\n      <td>0.005320</td>\n      <td>0.005320</td>\n      <td>0.005312</td>\n      <td>0.005316</td>\n      <td>0.005312</td>\n      <td>0.005303</td>\n      <td>0.005320</td>\n      <td>0.005331</td>\n      <td>0.005321</td>\n      <td>0.005326</td>\n    </tr>\n    <tr>\n      <th>regulation</th>\n      <td>0.005094</td>\n      <td>0.006138</td>\n      <td>1.000000</td>\n      <td>0.005230</td>\n      <td>0.006254</td>\n      <td>0.006615</td>\n      <td>0.004046</td>\n      <td>0.002841</td>\n      <td>0.004230</td>\n      <td>0.004536</td>\n      <td>...</td>\n      <td>0.005052</td>\n      <td>0.005053</td>\n      <td>0.005049</td>\n      <td>0.005046</td>\n      <td>0.005044</td>\n      <td>0.005026</td>\n      <td>0.005054</td>\n      <td>0.005061</td>\n      <td>0.005049</td>\n      <td>0.005056</td>\n    </tr>\n    <tr>\n      <th>commission</th>\n      <td>0.006096</td>\n      <td>0.007098</td>\n      <td>0.005230</td>\n      <td>1.000000</td>\n      <td>0.006083</td>\n      <td>0.005754</td>\n      <td>0.004947</td>\n      <td>0.003218</td>\n      <td>0.006467</td>\n      <td>0.005003</td>\n      <td>...</td>\n      <td>0.006530</td>\n      <td>0.006523</td>\n      <td>0.006520</td>\n      <td>0.006525</td>\n      <td>0.006512</td>\n      <td>0.006498</td>\n      <td>0.006528</td>\n      <td>0.006529</td>\n      <td>0.006539</td>\n      <td>0.006530</td>\n    </tr>\n    <tr>\n      <th>parliament</th>\n      <td>0.006707</td>\n      <td>0.006350</td>\n      <td>0.006254</td>\n      <td>0.006083</td>\n      <td>1.000000</td>\n      <td>0.005265</td>\n      <td>0.004983</td>\n      <td>0.002827</td>\n      <td>0.004794</td>\n      <td>0.005654</td>\n      <td>...</td>\n      <td>0.005006</td>\n      <td>0.005006</td>\n      <td>0.005004</td>\n      <td>0.005008</td>\n      <td>0.005001</td>\n      <td>0.004989</td>\n      <td>0.005010</td>\n      <td>0.005017</td>\n      <td>0.005005</td>\n      <td>0.005015</td>\n    </tr>\n    <tr>\n      <th>...</th>\n      <td>...</td>\n      <td>...</td>\n      <td>...</td>\n      <td>...</td>\n      <td>...</td>\n      <td>...</td>\n      <td>...</td>\n      <td>...</td>\n      <td>...</td>\n      <td>...</td>\n      <td>...</td>\n      <td>...</td>\n      <td>...</td>\n      <td>...</td>\n      <td>...</td>\n      <td>...</td>\n      <td>...</td>\n      <td>...</td>\n      <td>...</td>\n      <td>...</td>\n      <td>...</td>\n    </tr>\n    <tr>\n      <th>pave</th>\n      <td>0.005270</td>\n      <td>0.005303</td>\n      <td>0.005026</td>\n      <td>0.006498</td>\n      <td>0.004989</td>\n      <td>0.005911</td>\n      <td>0.005058</td>\n      <td>0.004194</td>\n      <td>0.004976</td>\n      <td>0.005374</td>\n      <td>...</td>\n      <td>0.320973</td>\n      <td>0.337905</td>\n      <td>0.296603</td>\n      <td>0.371773</td>\n      <td>0.392443</td>\n      <td>1.000000</td>\n      <td>0.337010</td>\n      <td>0.305543</td>\n      <td>0.276014</td>\n      <td>0.321604</td>\n    </tr>\n    <tr>\n      <th>override</th>\n      <td>0.005284</td>\n      <td>0.005320</td>\n      <td>0.005054</td>\n      <td>0.006528</td>\n      <td>0.005010</td>\n      <td>0.005935</td>\n      <td>0.005063</td>\n      <td>0.004182</td>\n      <td>0.004991</td>\n      <td>0.005394</td>\n      <td>...</td>\n      <td>0.454482</td>\n      <td>0.458793</td>\n      <td>0.375071</td>\n      <td>0.448611</td>\n      <td>0.444909</td>\n      <td>0.337010</td>\n      <td>1.000000</td>\n      <td>0.371704</td>\n      <td>0.357356</td>\n      <td>0.477827</td>\n    </tr>\n    <tr>\n      <th>balkan</th>\n      <td>0.005289</td>\n      <td>0.005331</td>\n      <td>0.005061</td>\n      <td>0.006529</td>\n      <td>0.005017</td>\n      <td>0.005945</td>\n      <td>0.005060</td>\n      <td>0.004181</td>\n      <td>0.004983</td>\n      <td>0.005393</td>\n      <td>...</td>\n      <td>0.393788</td>\n      <td>0.380275</td>\n      <td>0.323187</td>\n      <td>0.335197</td>\n      <td>0.375362</td>\n      <td>0.305543</td>\n      <td>0.371704</td>\n      <td>1.000000</td>\n      <td>0.306189</td>\n      <td>0.430648</td>\n    </tr>\n    <tr>\n      <th>leader</th>\n      <td>0.005275</td>\n      <td>0.005321</td>\n      <td>0.005049</td>\n      <td>0.006539</td>\n      <td>0.005005</td>\n      <td>0.005942</td>\n      <td>0.005058</td>\n      <td>0.004193</td>\n      <td>0.004993</td>\n      <td>0.005395</td>\n      <td>...</td>\n      <td>0.405444</td>\n      <td>0.322692</td>\n      <td>0.304147</td>\n      <td>0.332309</td>\n      <td>0.320438</td>\n      <td>0.276014</td>\n      <td>0.357356</td>\n      <td>0.306189</td>\n      <td>1.000000</td>\n      <td>0.343105</td>\n    </tr>\n    <tr>\n      <th>shortage</th>\n      <td>0.005288</td>\n      <td>0.005326</td>\n      <td>0.005056</td>\n      <td>0.006530</td>\n      <td>0.005015</td>\n      <td>0.005937</td>\n      <td>0.005060</td>\n      <td>0.004187</td>\n      <td>0.004990</td>\n      <td>0.005390</td>\n      <td>...</td>\n      <td>0.422398</td>\n      <td>0.446703</td>\n      <td>0.343899</td>\n      <td>0.394403</td>\n      <td>0.394699</td>\n      <td>0.321604</td>\n      <td>0.477827</td>\n      <td>0.430648</td>\n      <td>0.343105</td>\n      <td>1.000000</td>\n    </tr>\n  </tbody>\n</table>\n<p>3424 rows × 3424 columns</p>\n</div>"
     },
     "execution_count": 24,
     "metadata": {},
     "output_type": "execute_result"
    }
   ],
   "source": [
    "model2_manhattan_similarity_matrix = get_similarity_matrix(model2_selected_pos_embeddings,\n",
    "                                                           model2_selected_pos,\n",
    "                                                           metric=manhattan_similarity)\n",
    "model2_manhattan_similarity_matrix"
   ],
   "metadata": {
    "collapsed": false,
    "pycharm": {
     "name": "#%%\n"
    }
   }
  },
  {
   "cell_type": "code",
   "execution_count": 25,
   "outputs": [],
   "source": [
    "# % % time\n",
    "# model3_manhattan_similarity_matrix = get_similarity_matrix(model3_language_model_pipeline.word2vec.wv.vectors[:100],\n",
    "#                                                            model3_language_model_pipeline.word2vec.wv.index_to_key[\n",
    "#                                                            :100],\n",
    "#                                                            metric=manhattan_similarity)\n",
    "# model3_manhattan_similarity_matrix"
   ],
   "metadata": {
    "collapsed": false,
    "pycharm": {
     "name": "#%%\n"
    }
   }
  },
  {
   "cell_type": "code",
   "execution_count": 36,
   "outputs": [],
   "source": [
    "# def generate_graph(similarity_matrix: pd.DataFrame, graph: nx.Graph, root_word: str, top_words: int,\n",
    "#                    threshold:np.float64 = 0.8, deep_level: int = 0, max_deep_level: int = 2) -> nx.Graph:\n",
    "#     if deep_level > max_deep_level:\n",
    "#         return graph\n",
    "#     new_nodes = similarity_matrix[root_word].sort_values(ascending=False)[:top_words].index.to_list()\n",
    "#     new_nodes_weight = list(similarity_matrix[root_word].sort_values(ascending=False)[:top_words].values)\n",
    "#     for index in range(0, len(new_nodes)):\n",
    "#         if new_nodes_weight[index] >= threshold:\n",
    "#             graph.add_edge(root_word, new_nodes[index])\n",
    "#             generate_graph(similarity_matrix, graph, new_nodes[index], top_words + 1, threshold, deep_level+1, max_deep_level)\n",
    "#\n",
    "#     return graph\n",
    "\n"
   ],
   "metadata": {
    "collapsed": false,
    "pycharm": {
     "name": "#%%\n"
    }
   }
  },
  {
   "cell_type": "code",
   "execution_count": 4,
   "outputs": [
    {
     "data": {
      "text/plain": "target  node A  node B  node F  node J  node M\nsource                                        \nnode A    0.45     0.5    6.69    0.64    3.78\nnode B    0.00     0.0    0.00    0.00    0.00\nnode F    0.00     0.0    0.00    0.00    0.00\nnode J    0.00     0.0    0.00    0.00    0.00\nnode M    0.00     0.0    0.00    0.00    0.00",
      "text/html": "<div>\n<style scoped>\n    .dataframe tbody tr th:only-of-type {\n        vertical-align: middle;\n    }\n\n    .dataframe tbody tr th {\n        vertical-align: top;\n    }\n\n    .dataframe thead th {\n        text-align: right;\n    }\n</style>\n<table border=\"1\" class=\"dataframe\">\n  <thead>\n    <tr style=\"text-align: right;\">\n      <th>target</th>\n      <th>node A</th>\n      <th>node B</th>\n      <th>node F</th>\n      <th>node J</th>\n      <th>node M</th>\n    </tr>\n    <tr>\n      <th>source</th>\n      <th></th>\n      <th></th>\n      <th></th>\n      <th></th>\n      <th></th>\n    </tr>\n  </thead>\n  <tbody>\n    <tr>\n      <th>node A</th>\n      <td>0.45</td>\n      <td>0.5</td>\n      <td>6.69</td>\n      <td>0.64</td>\n      <td>3.78</td>\n    </tr>\n    <tr>\n      <th>node B</th>\n      <td>0.00</td>\n      <td>0.0</td>\n      <td>0.00</td>\n      <td>0.00</td>\n      <td>0.00</td>\n    </tr>\n    <tr>\n      <th>node F</th>\n      <td>0.00</td>\n      <td>0.0</td>\n      <td>0.00</td>\n      <td>0.00</td>\n      <td>0.00</td>\n    </tr>\n    <tr>\n      <th>node J</th>\n      <td>0.00</td>\n      <td>0.0</td>\n      <td>0.00</td>\n      <td>0.00</td>\n      <td>0.00</td>\n    </tr>\n    <tr>\n      <th>node M</th>\n      <td>0.00</td>\n      <td>0.0</td>\n      <td>0.00</td>\n      <td>0.00</td>\n      <td>0.00</td>\n    </tr>\n  </tbody>\n</table>\n</div>"
     },
     "execution_count": 4,
     "metadata": {},
     "output_type": "execute_result"
    }
   ],
   "source": [
    "# Import library\n",
    "from d3graph import d3graph, vec2adjmat\n",
    "\n",
    "source = ['node A', 'node A', 'node A', 'node A', 'node A', 'node A', 'node A', 'node A']\n",
    "target = ['node F', 'node B', 'node J', 'node F', 'node F', 'node M', 'node M', 'node A']\n",
    "weight = [5.56, 0.5, 0.64, 0.23, 0.9,3.28,0.5,0.45]\n",
    "adjmat = vec2adjmat(source, target, weight=weight)\n",
    "\n",
    "adjmat"
   ],
   "metadata": {
    "collapsed": false,
    "pycharm": {
     "name": "#%%\n"
    }
   }
  },
  {
   "cell_type": "code",
   "execution_count": 141,
   "outputs": [
    {
     "ename": "ValueError",
     "evalue": "Must produce aggregated value",
     "output_type": "error",
     "traceback": [
      "\u001B[0;31m---------------------------------------------------------------------------\u001B[0m",
      "\u001B[0;31mValueError\u001B[0m                                Traceback (most recent call last)",
      "\u001B[0;32m<ipython-input-141-81bb0e84093d>\u001B[0m in \u001B[0;36m<module>\u001B[0;34m\u001B[0m\n\u001B[1;32m      6\u001B[0m \u001B[0mweight\u001B[0m \u001B[0;34m=\u001B[0m \u001B[0mlist\u001B[0m\u001B[0;34m(\u001B[0m\u001B[0mnew_nodes\u001B[0m\u001B[0;34m.\u001B[0m\u001B[0mvalues\u001B[0m\u001B[0;34m)\u001B[0m\u001B[0;34m\u001B[0m\u001B[0;34m\u001B[0m\u001B[0m\n\u001B[1;32m      7\u001B[0m \u001B[0;34m\u001B[0m\u001B[0m\n\u001B[0;32m----> 8\u001B[0;31m \u001B[0madjmat\u001B[0m \u001B[0;34m=\u001B[0m \u001B[0mvec2adjmat\u001B[0m\u001B[0;34m(\u001B[0m\u001B[0msource\u001B[0m\u001B[0;34m,\u001B[0m \u001B[0mtarget\u001B[0m\u001B[0;34m,\u001B[0m \u001B[0mweight\u001B[0m\u001B[0;34m=\u001B[0m\u001B[0mweight\u001B[0m\u001B[0;34m)\u001B[0m\u001B[0;34m\u001B[0m\u001B[0;34m\u001B[0m\u001B[0m\n\u001B[0m\u001B[1;32m      9\u001B[0m \u001B[0;34m\u001B[0m\u001B[0m\n\u001B[1;32m     10\u001B[0m \u001B[0;34m\u001B[0m\u001B[0m\n",
      "\u001B[0;32m/opt/conda/lib/python3.8/site-packages/d3graph/adjmat_vec.py\u001B[0m in \u001B[0;36mvec2adjmat\u001B[0;34m(source, target, weight, symmetric)\u001B[0m\n\u001B[1;32m     45\u001B[0m     \u001B[0mdf\u001B[0m \u001B[0;34m=\u001B[0m \u001B[0mpd\u001B[0m\u001B[0;34m.\u001B[0m\u001B[0mDataFrame\u001B[0m\u001B[0;34m(\u001B[0m\u001B[0mnp\u001B[0m\u001B[0;34m.\u001B[0m\u001B[0mc_\u001B[0m\u001B[0;34m[\u001B[0m\u001B[0msource\u001B[0m\u001B[0;34m,\u001B[0m \u001B[0mtarget\u001B[0m\u001B[0;34m]\u001B[0m\u001B[0;34m,\u001B[0m \u001B[0mcolumns\u001B[0m\u001B[0;34m=\u001B[0m\u001B[0;34m[\u001B[0m\u001B[0;34m'source'\u001B[0m\u001B[0;34m,\u001B[0m\u001B[0;34m'target'\u001B[0m\u001B[0;34m]\u001B[0m\u001B[0;34m)\u001B[0m\u001B[0;34m\u001B[0m\u001B[0;34m\u001B[0m\u001B[0m\n\u001B[1;32m     46\u001B[0m     \u001B[0;31m# Make adjacency matrix\u001B[0m\u001B[0;34m\u001B[0m\u001B[0;34m\u001B[0m\u001B[0;34m\u001B[0m\u001B[0m\n\u001B[0;32m---> 47\u001B[0;31m     \u001B[0madjmat\u001B[0m \u001B[0;34m=\u001B[0m \u001B[0mpd\u001B[0m\u001B[0;34m.\u001B[0m\u001B[0mcrosstab\u001B[0m\u001B[0;34m(\u001B[0m\u001B[0mdf\u001B[0m\u001B[0;34m[\u001B[0m\u001B[0;34m'source'\u001B[0m\u001B[0;34m]\u001B[0m\u001B[0;34m,\u001B[0m \u001B[0mdf\u001B[0m\u001B[0;34m[\u001B[0m\u001B[0;34m'target'\u001B[0m\u001B[0;34m]\u001B[0m\u001B[0;34m,\u001B[0m \u001B[0mvalues\u001B[0m\u001B[0;34m=\u001B[0m\u001B[0mweight\u001B[0m\u001B[0;34m,\u001B[0m \u001B[0maggfunc\u001B[0m\u001B[0;34m=\u001B[0m\u001B[0;34m'sum'\u001B[0m\u001B[0;34m)\u001B[0m\u001B[0;34m.\u001B[0m\u001B[0mfillna\u001B[0m\u001B[0;34m(\u001B[0m\u001B[0;36m0\u001B[0m\u001B[0;34m)\u001B[0m\u001B[0;34m\u001B[0m\u001B[0;34m\u001B[0m\u001B[0m\n\u001B[0m\u001B[1;32m     48\u001B[0m     \u001B[0;31m# Get all unique nodes\u001B[0m\u001B[0;34m\u001B[0m\u001B[0;34m\u001B[0m\u001B[0;34m\u001B[0m\u001B[0m\n\u001B[1;32m     49\u001B[0m     \u001B[0mnodes\u001B[0m \u001B[0;34m=\u001B[0m \u001B[0mnp\u001B[0m\u001B[0;34m.\u001B[0m\u001B[0munique\u001B[0m\u001B[0;34m(\u001B[0m\u001B[0mlist\u001B[0m\u001B[0;34m(\u001B[0m\u001B[0madjmat\u001B[0m\u001B[0;34m.\u001B[0m\u001B[0mcolumns\u001B[0m\u001B[0;34m.\u001B[0m\u001B[0mvalues\u001B[0m\u001B[0;34m)\u001B[0m\u001B[0;34m+\u001B[0m\u001B[0mlist\u001B[0m\u001B[0;34m(\u001B[0m\u001B[0madjmat\u001B[0m\u001B[0;34m.\u001B[0m\u001B[0mindex\u001B[0m\u001B[0;34m.\u001B[0m\u001B[0mvalues\u001B[0m\u001B[0;34m)\u001B[0m\u001B[0;34m)\u001B[0m\u001B[0;34m\u001B[0m\u001B[0;34m\u001B[0m\u001B[0m\n",
      "\u001B[0;32m/opt/conda/lib/python3.8/site-packages/pandas/core/reshape/pivot.py\u001B[0m in \u001B[0;36mcrosstab\u001B[0;34m(index, columns, values, rownames, colnames, aggfunc, margins, margins_name, dropna, normalize)\u001B[0m\n\u001B[1;32m    606\u001B[0m         \u001B[0mkwargs\u001B[0m \u001B[0;34m=\u001B[0m \u001B[0;34m{\u001B[0m\u001B[0;34m\"aggfunc\"\u001B[0m\u001B[0;34m:\u001B[0m \u001B[0maggfunc\u001B[0m\u001B[0;34m}\u001B[0m\u001B[0;34m\u001B[0m\u001B[0;34m\u001B[0m\u001B[0m\n\u001B[1;32m    607\u001B[0m \u001B[0;34m\u001B[0m\u001B[0m\n\u001B[0;32m--> 608\u001B[0;31m     table = df.pivot_table(\n\u001B[0m\u001B[1;32m    609\u001B[0m         \u001B[0;34m[\u001B[0m\u001B[0;34m\"__dummy__\"\u001B[0m\u001B[0;34m]\u001B[0m\u001B[0;34m,\u001B[0m\u001B[0;34m\u001B[0m\u001B[0;34m\u001B[0m\u001B[0m\n\u001B[1;32m    610\u001B[0m         \u001B[0mindex\u001B[0m\u001B[0;34m=\u001B[0m\u001B[0munique_rownames\u001B[0m\u001B[0;34m,\u001B[0m\u001B[0;34m\u001B[0m\u001B[0;34m\u001B[0m\u001B[0m\n",
      "\u001B[0;32m/opt/conda/lib/python3.8/site-packages/pandas/core/frame.py\u001B[0m in \u001B[0;36mpivot_table\u001B[0;34m(self, values, index, columns, aggfunc, fill_value, margins, dropna, margins_name, observed)\u001B[0m\n\u001B[1;32m   7029\u001B[0m         \u001B[0;32mfrom\u001B[0m \u001B[0mpandas\u001B[0m\u001B[0;34m.\u001B[0m\u001B[0mcore\u001B[0m\u001B[0;34m.\u001B[0m\u001B[0mreshape\u001B[0m\u001B[0;34m.\u001B[0m\u001B[0mpivot\u001B[0m \u001B[0;32mimport\u001B[0m \u001B[0mpivot_table\u001B[0m\u001B[0;34m\u001B[0m\u001B[0;34m\u001B[0m\u001B[0m\n\u001B[1;32m   7030\u001B[0m \u001B[0;34m\u001B[0m\u001B[0m\n\u001B[0;32m-> 7031\u001B[0;31m         return pivot_table(\n\u001B[0m\u001B[1;32m   7032\u001B[0m             \u001B[0mself\u001B[0m\u001B[0;34m,\u001B[0m\u001B[0;34m\u001B[0m\u001B[0;34m\u001B[0m\u001B[0m\n\u001B[1;32m   7033\u001B[0m             \u001B[0mvalues\u001B[0m\u001B[0;34m=\u001B[0m\u001B[0mvalues\u001B[0m\u001B[0;34m,\u001B[0m\u001B[0;34m\u001B[0m\u001B[0;34m\u001B[0m\u001B[0m\n",
      "\u001B[0;32m/opt/conda/lib/python3.8/site-packages/pandas/core/reshape/pivot.py\u001B[0m in \u001B[0;36mpivot_table\u001B[0;34m(data, values, index, columns, aggfunc, fill_value, margins, dropna, margins_name, observed)\u001B[0m\n\u001B[1;32m    111\u001B[0m \u001B[0;34m\u001B[0m\u001B[0m\n\u001B[1;32m    112\u001B[0m     \u001B[0mgrouped\u001B[0m \u001B[0;34m=\u001B[0m \u001B[0mdata\u001B[0m\u001B[0;34m.\u001B[0m\u001B[0mgroupby\u001B[0m\u001B[0;34m(\u001B[0m\u001B[0mkeys\u001B[0m\u001B[0;34m,\u001B[0m \u001B[0mobserved\u001B[0m\u001B[0;34m=\u001B[0m\u001B[0mobserved\u001B[0m\u001B[0;34m)\u001B[0m\u001B[0;34m\u001B[0m\u001B[0;34m\u001B[0m\u001B[0m\n\u001B[0;32m--> 113\u001B[0;31m     \u001B[0magged\u001B[0m \u001B[0;34m=\u001B[0m \u001B[0mgrouped\u001B[0m\u001B[0;34m.\u001B[0m\u001B[0magg\u001B[0m\u001B[0;34m(\u001B[0m\u001B[0maggfunc\u001B[0m\u001B[0;34m)\u001B[0m\u001B[0;34m\u001B[0m\u001B[0;34m\u001B[0m\u001B[0m\n\u001B[0m\u001B[1;32m    114\u001B[0m     \u001B[0;32mif\u001B[0m \u001B[0mdropna\u001B[0m \u001B[0;32mand\u001B[0m \u001B[0misinstance\u001B[0m\u001B[0;34m(\u001B[0m\u001B[0magged\u001B[0m\u001B[0;34m,\u001B[0m \u001B[0mABCDataFrame\u001B[0m\u001B[0;34m)\u001B[0m \u001B[0;32mand\u001B[0m \u001B[0mlen\u001B[0m\u001B[0;34m(\u001B[0m\u001B[0magged\u001B[0m\u001B[0;34m.\u001B[0m\u001B[0mcolumns\u001B[0m\u001B[0;34m)\u001B[0m\u001B[0;34m:\u001B[0m\u001B[0;34m\u001B[0m\u001B[0;34m\u001B[0m\u001B[0m\n\u001B[1;32m    115\u001B[0m         \u001B[0magged\u001B[0m \u001B[0;34m=\u001B[0m \u001B[0magged\u001B[0m\u001B[0;34m.\u001B[0m\u001B[0mdropna\u001B[0m\u001B[0;34m(\u001B[0m\u001B[0mhow\u001B[0m\u001B[0;34m=\u001B[0m\u001B[0;34m\"all\"\u001B[0m\u001B[0;34m)\u001B[0m\u001B[0;34m\u001B[0m\u001B[0;34m\u001B[0m\u001B[0m\n",
      "\u001B[0;32m/opt/conda/lib/python3.8/site-packages/pandas/core/groupby/generic.py\u001B[0m in \u001B[0;36maggregate\u001B[0;34m(self, func, engine, engine_kwargs, *args, **kwargs)\u001B[0m\n\u001B[1;32m    943\u001B[0m         \u001B[0mfunc\u001B[0m \u001B[0;34m=\u001B[0m \u001B[0mmaybe_mangle_lambdas\u001B[0m\u001B[0;34m(\u001B[0m\u001B[0mfunc\u001B[0m\u001B[0;34m)\u001B[0m\u001B[0;34m\u001B[0m\u001B[0;34m\u001B[0m\u001B[0m\n\u001B[1;32m    944\u001B[0m \u001B[0;34m\u001B[0m\u001B[0m\n\u001B[0;32m--> 945\u001B[0;31m         \u001B[0mresult\u001B[0m\u001B[0;34m,\u001B[0m \u001B[0mhow\u001B[0m \u001B[0;34m=\u001B[0m \u001B[0maggregate\u001B[0m\u001B[0;34m(\u001B[0m\u001B[0mself\u001B[0m\u001B[0;34m,\u001B[0m \u001B[0mfunc\u001B[0m\u001B[0;34m,\u001B[0m \u001B[0;34m*\u001B[0m\u001B[0margs\u001B[0m\u001B[0;34m,\u001B[0m \u001B[0;34m**\u001B[0m\u001B[0mkwargs\u001B[0m\u001B[0;34m)\u001B[0m\u001B[0;34m\u001B[0m\u001B[0;34m\u001B[0m\u001B[0m\n\u001B[0m\u001B[1;32m    946\u001B[0m         \u001B[0;32mif\u001B[0m \u001B[0mhow\u001B[0m \u001B[0;32mis\u001B[0m \u001B[0;32mNone\u001B[0m\u001B[0;34m:\u001B[0m\u001B[0;34m\u001B[0m\u001B[0;34m\u001B[0m\u001B[0m\n\u001B[1;32m    947\u001B[0m             \u001B[0;32mreturn\u001B[0m \u001B[0mresult\u001B[0m\u001B[0;34m\u001B[0m\u001B[0;34m\u001B[0m\u001B[0m\n",
      "\u001B[0;32m/opt/conda/lib/python3.8/site-packages/pandas/core/aggregation.py\u001B[0m in \u001B[0;36maggregate\u001B[0;34m(obj, arg, *args, **kwargs)\u001B[0m\n\u001B[1;32m    577\u001B[0m \u001B[0;34m\u001B[0m\u001B[0m\n\u001B[1;32m    578\u001B[0m     \u001B[0;32mif\u001B[0m \u001B[0misinstance\u001B[0m\u001B[0;34m(\u001B[0m\u001B[0marg\u001B[0m\u001B[0;34m,\u001B[0m \u001B[0mstr\u001B[0m\u001B[0;34m)\u001B[0m\u001B[0;34m:\u001B[0m\u001B[0;34m\u001B[0m\u001B[0;34m\u001B[0m\u001B[0m\n\u001B[0;32m--> 579\u001B[0;31m         \u001B[0;32mreturn\u001B[0m \u001B[0mobj\u001B[0m\u001B[0;34m.\u001B[0m\u001B[0m_try_aggregate_string_function\u001B[0m\u001B[0;34m(\u001B[0m\u001B[0marg\u001B[0m\u001B[0;34m,\u001B[0m \u001B[0;34m*\u001B[0m\u001B[0margs\u001B[0m\u001B[0;34m,\u001B[0m \u001B[0;34m**\u001B[0m\u001B[0mkwargs\u001B[0m\u001B[0;34m)\u001B[0m\u001B[0;34m,\u001B[0m \u001B[0;32mNone\u001B[0m\u001B[0;34m\u001B[0m\u001B[0;34m\u001B[0m\u001B[0m\n\u001B[0m\u001B[1;32m    580\u001B[0m     \u001B[0;32melif\u001B[0m \u001B[0mis_dict_like\u001B[0m\u001B[0;34m(\u001B[0m\u001B[0marg\u001B[0m\u001B[0;34m)\u001B[0m\u001B[0;34m:\u001B[0m\u001B[0;34m\u001B[0m\u001B[0;34m\u001B[0m\u001B[0m\n\u001B[1;32m    581\u001B[0m         \u001B[0marg\u001B[0m \u001B[0;34m=\u001B[0m \u001B[0mcast\u001B[0m\u001B[0;34m(\u001B[0m\u001B[0mAggFuncTypeDict\u001B[0m\u001B[0;34m,\u001B[0m \u001B[0marg\u001B[0m\u001B[0;34m)\u001B[0m\u001B[0;34m\u001B[0m\u001B[0;34m\u001B[0m\u001B[0m\n",
      "\u001B[0;32m/opt/conda/lib/python3.8/site-packages/pandas/core/base.py\u001B[0m in \u001B[0;36m_try_aggregate_string_function\u001B[0;34m(self, arg, *args, **kwargs)\u001B[0m\n\u001B[1;32m    313\u001B[0m         \u001B[0;32mif\u001B[0m \u001B[0mf\u001B[0m \u001B[0;32mis\u001B[0m \u001B[0;32mnot\u001B[0m \u001B[0;32mNone\u001B[0m\u001B[0;34m:\u001B[0m\u001B[0;34m\u001B[0m\u001B[0;34m\u001B[0m\u001B[0m\n\u001B[1;32m    314\u001B[0m             \u001B[0;32mif\u001B[0m \u001B[0mcallable\u001B[0m\u001B[0;34m(\u001B[0m\u001B[0mf\u001B[0m\u001B[0;34m)\u001B[0m\u001B[0;34m:\u001B[0m\u001B[0;34m\u001B[0m\u001B[0;34m\u001B[0m\u001B[0m\n\u001B[0;32m--> 315\u001B[0;31m                 \u001B[0;32mreturn\u001B[0m \u001B[0mf\u001B[0m\u001B[0;34m(\u001B[0m\u001B[0;34m*\u001B[0m\u001B[0margs\u001B[0m\u001B[0;34m,\u001B[0m \u001B[0;34m**\u001B[0m\u001B[0mkwargs\u001B[0m\u001B[0;34m)\u001B[0m\u001B[0;34m\u001B[0m\u001B[0;34m\u001B[0m\u001B[0m\n\u001B[0m\u001B[1;32m    316\u001B[0m \u001B[0;34m\u001B[0m\u001B[0m\n\u001B[1;32m    317\u001B[0m             \u001B[0;31m# people may try to aggregate on a non-callable attribute\u001B[0m\u001B[0;34m\u001B[0m\u001B[0;34m\u001B[0m\u001B[0;34m\u001B[0m\u001B[0m\n",
      "\u001B[0;32m/opt/conda/lib/python3.8/site-packages/pandas/core/groupby/groupby.py\u001B[0m in \u001B[0;36msum\u001B[0;34m(self, numeric_only, min_count)\u001B[0m\n\u001B[1;32m   1648\u001B[0m         \u001B[0;31m# _agg_general() returns. GH #31422\u001B[0m\u001B[0;34m\u001B[0m\u001B[0;34m\u001B[0m\u001B[0;34m\u001B[0m\u001B[0m\n\u001B[1;32m   1649\u001B[0m         \u001B[0;32mwith\u001B[0m \u001B[0mcom\u001B[0m\u001B[0;34m.\u001B[0m\u001B[0mtemp_setattr\u001B[0m\u001B[0;34m(\u001B[0m\u001B[0mself\u001B[0m\u001B[0;34m,\u001B[0m \u001B[0;34m\"observed\"\u001B[0m\u001B[0;34m,\u001B[0m \u001B[0;32mTrue\u001B[0m\u001B[0;34m)\u001B[0m\u001B[0;34m:\u001B[0m\u001B[0;34m\u001B[0m\u001B[0;34m\u001B[0m\u001B[0m\n\u001B[0;32m-> 1650\u001B[0;31m             result = self._agg_general(\n\u001B[0m\u001B[1;32m   1651\u001B[0m                 \u001B[0mnumeric_only\u001B[0m\u001B[0;34m=\u001B[0m\u001B[0mnumeric_only\u001B[0m\u001B[0;34m,\u001B[0m\u001B[0;34m\u001B[0m\u001B[0;34m\u001B[0m\u001B[0m\n\u001B[1;32m   1652\u001B[0m                 \u001B[0mmin_count\u001B[0m\u001B[0;34m=\u001B[0m\u001B[0mmin_count\u001B[0m\u001B[0;34m,\u001B[0m\u001B[0;34m\u001B[0m\u001B[0;34m\u001B[0m\u001B[0m\n",
      "\u001B[0;32m/opt/conda/lib/python3.8/site-packages/pandas/core/groupby/groupby.py\u001B[0m in \u001B[0;36m_agg_general\u001B[0;34m(self, numeric_only, min_count, alias, npfunc)\u001B[0m\n\u001B[1;32m   1042\u001B[0m             \u001B[0;31m# apply a non-cython aggregation\u001B[0m\u001B[0;34m\u001B[0m\u001B[0;34m\u001B[0m\u001B[0;34m\u001B[0m\u001B[0m\n\u001B[1;32m   1043\u001B[0m             \u001B[0;32mif\u001B[0m \u001B[0mresult\u001B[0m \u001B[0;32mis\u001B[0m \u001B[0;32mNone\u001B[0m\u001B[0;34m:\u001B[0m\u001B[0;34m\u001B[0m\u001B[0;34m\u001B[0m\u001B[0m\n\u001B[0;32m-> 1044\u001B[0;31m                 \u001B[0mresult\u001B[0m \u001B[0;34m=\u001B[0m \u001B[0mself\u001B[0m\u001B[0;34m.\u001B[0m\u001B[0maggregate\u001B[0m\u001B[0;34m(\u001B[0m\u001B[0;32mlambda\u001B[0m \u001B[0mx\u001B[0m\u001B[0;34m:\u001B[0m \u001B[0mnpfunc\u001B[0m\u001B[0;34m(\u001B[0m\u001B[0mx\u001B[0m\u001B[0;34m,\u001B[0m \u001B[0maxis\u001B[0m\u001B[0;34m=\u001B[0m\u001B[0mself\u001B[0m\u001B[0;34m.\u001B[0m\u001B[0maxis\u001B[0m\u001B[0;34m)\u001B[0m\u001B[0;34m)\u001B[0m\u001B[0;34m\u001B[0m\u001B[0;34m\u001B[0m\u001B[0m\n\u001B[0m\u001B[1;32m   1045\u001B[0m             \u001B[0;32mreturn\u001B[0m \u001B[0mresult\u001B[0m\u001B[0;34m.\u001B[0m\u001B[0m__finalize__\u001B[0m\u001B[0;34m(\u001B[0m\u001B[0mself\u001B[0m\u001B[0;34m.\u001B[0m\u001B[0mobj\u001B[0m\u001B[0;34m,\u001B[0m \u001B[0mmethod\u001B[0m\u001B[0;34m=\u001B[0m\u001B[0;34m\"groupby\"\u001B[0m\u001B[0;34m)\u001B[0m\u001B[0;34m\u001B[0m\u001B[0;34m\u001B[0m\u001B[0m\n\u001B[1;32m   1046\u001B[0m \u001B[0;34m\u001B[0m\u001B[0m\n",
      "\u001B[0;32m/opt/conda/lib/python3.8/site-packages/pandas/core/groupby/generic.py\u001B[0m in \u001B[0;36maggregate\u001B[0;34m(self, func, engine, engine_kwargs, *args, **kwargs)\u001B[0m\n\u001B[1;32m    951\u001B[0m             \u001B[0;31m# grouper specific aggregations\u001B[0m\u001B[0;34m\u001B[0m\u001B[0;34m\u001B[0m\u001B[0;34m\u001B[0m\u001B[0m\n\u001B[1;32m    952\u001B[0m             \u001B[0;32mif\u001B[0m \u001B[0mself\u001B[0m\u001B[0;34m.\u001B[0m\u001B[0mgrouper\u001B[0m\u001B[0;34m.\u001B[0m\u001B[0mnkeys\u001B[0m \u001B[0;34m>\u001B[0m \u001B[0;36m1\u001B[0m\u001B[0;34m:\u001B[0m\u001B[0;34m\u001B[0m\u001B[0;34m\u001B[0m\u001B[0m\n\u001B[0;32m--> 953\u001B[0;31m                 \u001B[0;32mreturn\u001B[0m \u001B[0mself\u001B[0m\u001B[0;34m.\u001B[0m\u001B[0m_python_agg_general\u001B[0m\u001B[0;34m(\u001B[0m\u001B[0mfunc\u001B[0m\u001B[0;34m,\u001B[0m \u001B[0;34m*\u001B[0m\u001B[0margs\u001B[0m\u001B[0;34m,\u001B[0m \u001B[0;34m**\u001B[0m\u001B[0mkwargs\u001B[0m\u001B[0;34m)\u001B[0m\u001B[0;34m\u001B[0m\u001B[0;34m\u001B[0m\u001B[0m\n\u001B[0m\u001B[1;32m    954\u001B[0m             \u001B[0;32melif\u001B[0m \u001B[0margs\u001B[0m \u001B[0;32mor\u001B[0m \u001B[0mkwargs\u001B[0m\u001B[0;34m:\u001B[0m\u001B[0;34m\u001B[0m\u001B[0;34m\u001B[0m\u001B[0m\n\u001B[1;32m    955\u001B[0m                 \u001B[0mresult\u001B[0m \u001B[0;34m=\u001B[0m \u001B[0mself\u001B[0m\u001B[0;34m.\u001B[0m\u001B[0m_aggregate_frame\u001B[0m\u001B[0;34m(\u001B[0m\u001B[0mfunc\u001B[0m\u001B[0;34m,\u001B[0m \u001B[0;34m*\u001B[0m\u001B[0margs\u001B[0m\u001B[0;34m,\u001B[0m \u001B[0;34m**\u001B[0m\u001B[0mkwargs\u001B[0m\u001B[0;34m)\u001B[0m\u001B[0;34m\u001B[0m\u001B[0;34m\u001B[0m\u001B[0m\n",
      "\u001B[0;32m/opt/conda/lib/python3.8/site-packages/pandas/core/groupby/groupby.py\u001B[0m in \u001B[0;36m_python_agg_general\u001B[0;34m(self, func, *args, **kwargs)\u001B[0m\n\u001B[1;32m   1171\u001B[0m             \u001B[0;32mtry\u001B[0m\u001B[0;34m:\u001B[0m\u001B[0;34m\u001B[0m\u001B[0;34m\u001B[0m\u001B[0m\n\u001B[1;32m   1172\u001B[0m                 \u001B[0;31m# if this function is invalid for this dtype, we will ignore it.\u001B[0m\u001B[0;34m\u001B[0m\u001B[0;34m\u001B[0m\u001B[0;34m\u001B[0m\u001B[0m\n\u001B[0;32m-> 1173\u001B[0;31m                 \u001B[0mresult\u001B[0m\u001B[0;34m,\u001B[0m \u001B[0mcounts\u001B[0m \u001B[0;34m=\u001B[0m \u001B[0mself\u001B[0m\u001B[0;34m.\u001B[0m\u001B[0mgrouper\u001B[0m\u001B[0;34m.\u001B[0m\u001B[0magg_series\u001B[0m\u001B[0;34m(\u001B[0m\u001B[0mobj\u001B[0m\u001B[0;34m,\u001B[0m \u001B[0mf\u001B[0m\u001B[0;34m)\u001B[0m\u001B[0;34m\u001B[0m\u001B[0;34m\u001B[0m\u001B[0m\n\u001B[0m\u001B[1;32m   1174\u001B[0m             \u001B[0;32mexcept\u001B[0m \u001B[0mTypeError\u001B[0m\u001B[0;34m:\u001B[0m\u001B[0;34m\u001B[0m\u001B[0;34m\u001B[0m\u001B[0m\n\u001B[1;32m   1175\u001B[0m                 \u001B[0;32mcontinue\u001B[0m\u001B[0;34m\u001B[0m\u001B[0;34m\u001B[0m\u001B[0m\n",
      "\u001B[0;32m/opt/conda/lib/python3.8/site-packages/pandas/core/groupby/ops.py\u001B[0m in \u001B[0;36magg_series\u001B[0;34m(self, obj, func)\u001B[0m\n\u001B[1;32m    711\u001B[0m             \u001B[0;32melse\u001B[0m\u001B[0;34m:\u001B[0m\u001B[0;34m\u001B[0m\u001B[0;34m\u001B[0m\u001B[0m\n\u001B[1;32m    712\u001B[0m                 \u001B[0;32mraise\u001B[0m\u001B[0;34m\u001B[0m\u001B[0;34m\u001B[0m\u001B[0m\n\u001B[0;32m--> 713\u001B[0;31m         \u001B[0;32mreturn\u001B[0m \u001B[0mself\u001B[0m\u001B[0;34m.\u001B[0m\u001B[0m_aggregate_series_pure_python\u001B[0m\u001B[0;34m(\u001B[0m\u001B[0mobj\u001B[0m\u001B[0;34m,\u001B[0m \u001B[0mfunc\u001B[0m\u001B[0;34m)\u001B[0m\u001B[0;34m\u001B[0m\u001B[0;34m\u001B[0m\u001B[0m\n\u001B[0m\u001B[1;32m    714\u001B[0m \u001B[0;34m\u001B[0m\u001B[0m\n\u001B[1;32m    715\u001B[0m     \u001B[0;34m@\u001B[0m\u001B[0mfinal\u001B[0m\u001B[0;34m\u001B[0m\u001B[0;34m\u001B[0m\u001B[0m\n",
      "\u001B[0;32m/opt/conda/lib/python3.8/site-packages/pandas/core/groupby/ops.py\u001B[0m in \u001B[0;36m_aggregate_series_pure_python\u001B[0;34m(self, obj, func)\u001B[0m\n\u001B[1;32m    752\u001B[0m             \u001B[0;32mif\u001B[0m \u001B[0;32mnot\u001B[0m \u001B[0minitialized\u001B[0m\u001B[0;34m:\u001B[0m\u001B[0;34m\u001B[0m\u001B[0;34m\u001B[0m\u001B[0m\n\u001B[1;32m    753\u001B[0m                 \u001B[0;31m# We only do this validation on the first iteration\u001B[0m\u001B[0;34m\u001B[0m\u001B[0;34m\u001B[0m\u001B[0;34m\u001B[0m\u001B[0m\n\u001B[0;32m--> 754\u001B[0;31m                 \u001B[0mlibreduction\u001B[0m\u001B[0;34m.\u001B[0m\u001B[0mcheck_result_array\u001B[0m\u001B[0;34m(\u001B[0m\u001B[0mres\u001B[0m\u001B[0;34m,\u001B[0m \u001B[0;36m0\u001B[0m\u001B[0;34m)\u001B[0m\u001B[0;34m\u001B[0m\u001B[0;34m\u001B[0m\u001B[0m\n\u001B[0m\u001B[1;32m    755\u001B[0m                 \u001B[0minitialized\u001B[0m \u001B[0;34m=\u001B[0m \u001B[0;32mTrue\u001B[0m\u001B[0;34m\u001B[0m\u001B[0;34m\u001B[0m\u001B[0m\n\u001B[1;32m    756\u001B[0m \u001B[0;34m\u001B[0m\u001B[0m\n",
      "\u001B[0;32mpandas/_libs/reduction.pyx\u001B[0m in \u001B[0;36mpandas._libs.reduction.check_result_array\u001B[0;34m()\u001B[0m\n",
      "\u001B[0;32mpandas/_libs/reduction.pyx\u001B[0m in \u001B[0;36mpandas._libs.reduction.check_result_array\u001B[0;34m()\u001B[0m\n",
      "\u001B[0;31mValueError\u001B[0m: Must produce aggregated value"
     ]
    }
   ],
   "source": [
    "new_nodes = model2_cosine_similarity_matrix[model2_selected_key_words][:17]\n",
    "\n",
    "\n",
    "source = list(new_nodes.index)\n",
    "target = list(new_nodes.columns)\n",
    "weight = list(new_nodes.values)\n",
    "\n",
    "adjmat = vec2adjmat(source, target, weight=weight)\n",
    "\n"
   ],
   "metadata": {
    "collapsed": false,
    "pycharm": {
     "name": "#%%\n"
    }
   }
  },
  {
   "cell_type": "markdown",
   "source": [
    "### Select key words as clusters to visualize the graph similarity between this words\n"
   ],
   "metadata": {
    "collapsed": false,
    "pycharm": {
     "name": "#%% md\n"
    }
   }
  },
  {
   "cell_type": "markdown",
   "source": [
    "### Steps for word embedding visualization:\n",
    "* detect and extract key words and most relevant words\n",
    "* train TSNE model\n",
    "* create a dataframe with the clusters, their words and their placement on the graph"
   ],
   "metadata": {
    "collapsed": false,
    "pycharm": {
     "name": "#%% md\n"
    }
   }
  },
  {
   "cell_type": "code",
   "execution_count": null,
   "outputs": [],
   "source": [
    "# model1_word_embeddings = select_words_and_embedding_clusters(model1_language_model_pipeline.word2vec.wv, key_words)\n",
    "# model2_word_embeddings = select_words_and_embedding_clusters(model2_language_model_pipeline.word2vec.wv, key_words)\n",
    "# model3_word_embeddings = select_words_and_embedding_clusters(model3_language_model_pipeline.word2vec.wv, key_words)\n",
    "#\n",
    "# model1_tsne_model = create_tsne_model(model1_word_embeddings[0])\n",
    "# model2_tsne_model = create_tsne_model(model2_word_embeddings[0])\n",
    "# model3_tsne_model = create_tsne_model(model3_word_embeddings[0])\n",
    "#\n",
    "# model1_word_embeddings_dataframe = create_word_clusters_matrix(key_words, model1_word_embeddings[1], model1_tsne_model)\n",
    "# model2_word_embeddings_dataframe = create_word_clusters_matrix(key_words, model2_word_embeddings[1], model2_tsne_model)\n",
    "# model3_word_embeddings_dataframe = create_word_clusters_matrix(key_words, model3_word_embeddings[1], model3_tsne_model)"
   ],
   "metadata": {
    "collapsed": false,
    "pycharm": {
     "name": "#%%\n"
    }
   }
  },
  {
   "cell_type": "markdown",
   "source": [
    "### Graph visualization for the first model"
   ],
   "metadata": {
    "collapsed": false,
    "pycharm": {
     "name": "#%% md\n"
    }
   }
  },
  {
   "cell_type": "code",
   "execution_count": null,
   "outputs": [],
   "source": [
    "# model1_word_cluster_plot = px.scatter(model1_word_embeddings_dataframe,\n",
    "#                                       x='X', y='Y', color=model1_word_embeddings_dataframe.word_cluster,\n",
    "#                                       labels={'color': 'word'}, hover_data=[\"word\"])\n",
    "# model1_word_cluster_plot\n",
    "#"
   ],
   "metadata": {
    "collapsed": false,
    "pycharm": {
     "name": "#%%\n"
    }
   }
  },
  {
   "cell_type": "markdown",
   "source": [
    "### Graph visualization for the second model"
   ],
   "metadata": {
    "collapsed": false
   }
  },
  {
   "cell_type": "code",
   "execution_count": null,
   "outputs": [],
   "source": [
    "# model2_word_cluster_plot = px.scatter(model2_word_embeddings_dataframe,\n",
    "#                                       x='X', y='Y', color=model2_word_embeddings_dataframe.word_cluster,\n",
    "#                                       labels={'color': 'word'}, hover_data=[\"word\"])\n",
    "# model2_word_cluster_plot\n",
    "#"
   ],
   "metadata": {
    "collapsed": false,
    "pycharm": {
     "name": "#%%\n"
    }
   }
  },
  {
   "cell_type": "markdown",
   "source": [
    "### Graph visualization for the third model"
   ],
   "metadata": {
    "collapsed": false
   }
  },
  {
   "cell_type": "code",
   "execution_count": null,
   "outputs": [],
   "source": [
    "# model3_word_cluster_plot = px.scatter(model3_word_embeddings_dataframe,\n",
    "#                                       x='X', y='Y', color=model3_word_embeddings_dataframe.word_cluster,\n",
    "#                                       labels={'color': 'word'}, hover_data=[\"word\"])\n",
    "# model3_word_cluster_plot"
   ],
   "metadata": {
    "collapsed": false,
    "pycharm": {
     "name": "#%%\n"
    }
   }
  }
 ],
 "metadata": {
  "kernelspec": {
   "display_name": "Python 3",
   "language": "python",
   "name": "python3"
  },
  "language_info": {
   "codemirror_mode": {
    "name": "ipython",
    "version": 2
   },
   "file_extension": ".py",
   "mimetype": "text/x-python",
   "name": "python",
   "nbconvert_exporter": "python",
   "pygments_lexer": "ipython2",
   "version": "2.7.6"
  }
 },
 "nbformat": 4,
 "nbformat_minor": 0
}