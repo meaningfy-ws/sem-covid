{
 "cells": [
  {
   "cell_type": "markdown",
   "metadata": {
    "collapsed": true,
    "pycharm": {
     "name": "#%% md\n"
    }
   },
   "source": [
    "## Word2vec model training\n",
    "#### Model training based on three datasets' text data:\n",
    "- M1: pwdb + eu_timeline  ( +  ireland_timeline )\n",
    "- M2: ds_eu_cellar\n",
    "- M3: M1+M2\n",
    "\n",
    "#### Extract NOUN and NOUN PHRASES from each text data\n",
    "#### Train the word2vec model with each dataset's textual data"
   ]
  },
  {
   "cell_type": "markdown",
   "source": [
    "### Import libraries"
   ],
   "metadata": {
    "collapsed": false,
    "pycharm": {
     "name": "#%% md\n"
    }
   }
  },
  {
   "cell_type": "code",
   "execution_count": 180,
   "outputs": [],
   "source": [
    "import sys\n",
    "\n",
    "import numpy as np\n",
    "\n",
    "\n",
    "sys.path.append(\"/home/jovyan/work/sem-covid/\")\n",
    "sys.path = list(set(sys.path))\n",
    "\n",
    "import os\n",
    "os.getcwd()\n",
    "os.chdir('/home/jovyan/work/sem-covid/')\n",
    "\n",
    "import warnings\n",
    "warnings.filterwarnings(\"ignore\", category=DeprecationWarning)\n",
    "\n",
    "import spacy\n",
    "nlp = spacy.load('en_core_web_sm')\n",
    "\n",
    "from sklearn.manifold import TSNE\n",
    "\n",
    "import plotly.express as px\n",
    "from sklearn.metrics import pairwise_distances\n",
    "from typing import List, Tuple\n",
    "import pandas as pd\n",
    "from gensim.models import Word2Vec\n",
    "from sem_covid.adapters.data_source import IndexTabularDataSource\n",
    "from sem_covid.services.sc_wrangling.data_cleaning import (clean_text_from_specific_characters, clean_fix_unicode,\n",
    "                                                           clean_remove_currency_symbols, clean_remove_emails,\n",
    "                                                           clean_remove_urls)\n",
    "from sem_covid.entrypoints.notebooks.language_modeling.language_model_tools.similarity_calculus import (\n",
    "    euclidean_similarity, manhattan_similarity, cosine_similarity, get_similarity_matrix)\n",
    "from sem_covid.entrypoints.notebooks.language_modeling.language_model_tools.document_handling_tools import \\\n",
    "    document_atomization_noun_phrases\n",
    "from sem_covid.services.data_registry import Dataset"
   ],
   "metadata": {
    "collapsed": false,
    "pycharm": {
     "name": "#%%\n"
    }
   }
  },
  {
   "cell_type": "markdown",
   "source": [
    "## Define constants"
   ],
   "metadata": {
    "collapsed": false
   }
  },
  {
   "cell_type": "code",
   "execution_count": 2,
   "outputs": [],
   "source": [
    "PWDB_TEXTUAL_CLASS = ['title', 'background_info_description', 'content_of_measure_description',\n",
    "                      'use_of_measure_description', 'involvement_of_social_partners_description']\n",
    "\n",
    "DEFAULT_TEXTUAL_COLUMN = ['title']\n",
    "WINDOW = 5\n",
    "MIN_COUNT = 1\n",
    "VECTOR_SIZE = 300\n",
    "EPOCHS = 50\n",
    "EU_TIMELINE_TOTAL_EXAMPLES = 171\n",
    "IRELAND_TIMELINE_TOTAL_EXAMPLES = 410\n",
    "EU_CELLAR_TOTAL_EXAMPLES = 2653"
   ],
   "metadata": {
    "collapsed": false,
    "pycharm": {
     "name": "#%%\n"
    }
   }
  },
  {
   "cell_type": "markdown",
   "source": [
    "## Data preprocessing\n",
    "- data cleanup\n",
    "- turn corpus into spacy document"
   ],
   "metadata": {
    "collapsed": false
   }
  },
  {
   "cell_type": "code",
   "execution_count": 3,
   "outputs": [],
   "source": [
    "def apply_cleaning_functions(document_corpus: pd.Series) -> pd.Series:\n",
    "    \"\"\"\n",
    "    This function receives the document and leads through cleaning steps\n",
    "    Args:\n",
    "        document_corpus: dataset document corpus\n",
    "\n",
    "    Returns: clean document corpus\n",
    "    \"\"\"\n",
    "    unused_characters = [\"\\\\r\", \">\", \"\\n\", \"\\\\\", \"<\", \"''\", \"%\", \"...\", \"\\'\", '\"', \"(\", \"\\n\", \"*\", \"1)\", \"2)\", \"3)\",\n",
    "                         \"[\", \"]\", \"-\", \"_\", \"\\r\"]\n",
    "\n",
    "    new_document_corpus = document_corpus.apply(clean_text_from_specific_characters, characters=unused_characters)\n",
    "    new_document_corpus = new_document_corpus.apply(clean_fix_unicode)\n",
    "    new_document_corpus = new_document_corpus.apply(clean_remove_urls)\n",
    "    new_document_corpus = new_document_corpus.apply(clean_remove_emails)\n",
    "    new_document_corpus = new_document_corpus.apply(clean_remove_currency_symbols)\n",
    "\n",
    "    return new_document_corpus"
   ],
   "metadata": {
    "collapsed": false,
    "pycharm": {
     "name": "#%%\n"
    }
   }
  },
  {
   "cell_type": "code",
   "execution_count": 4,
   "outputs": [],
   "source": [
    "class LanguageModelPipeline:\n",
    "    \"\"\"\n",
    "        This pipeline executes the steps for word2vec language training.\n",
    "    \"\"\"\n",
    "\n",
    "    def __init__(self, dataset_sources: List[Tuple[IndexTabularDataSource, List[str]]]):\n",
    "        \"\"\"\n",
    "            :param dataset_sources: represents the source of the datasets.\n",
    "        \"\"\"\n",
    "        self.dataset_sources = dataset_sources\n",
    "        self.documents_corpus = pd.Series()\n",
    "        self.word2vec = None\n",
    "\n",
    "    def download_datasets(self):\n",
    "        \"\"\"\n",
    "            In this step it will download the dataset and detect selected columns.\n",
    "            It can be downloaded as many datasets as there are in data source.\n",
    "        \"\"\"\n",
    "        self.dataset_sources = [(dataset_columns, dataset_source.fetch())\n",
    "                                for dataset_source, dataset_columns in self.dataset_sources]\n",
    "\n",
    "    def extract_textual_data(self):\n",
    "        \"\"\"\n",
    "            After downloading the datasets, the textual data will be found and and concatenated\n",
    "            with executing of several steps as well. It will fill the NaN values with empty space,\n",
    "            add a dot at the end of each concatenated column and reset the index.\n",
    "        \"\"\"\n",
    "        self.documents_corpus = pd.concat([dataset[columns]\n",
    "                                          .fillna(value=\"\")\n",
    "                                          .agg('. '.join, axis=1)\n",
    "                                          .reset_index(drop=True)\n",
    "                                           for columns, dataset in self.dataset_sources\n",
    "                                           ], ignore_index=True)\n",
    "\n",
    "    def clean_textual_data(self):\n",
    "        \"\"\"\n",
    "            The next step is data cleaning. In this step the function \"apply_cleaning_functions\"\n",
    "            applies the following actions:\n",
    "                - clean the document from specific characters\n",
    "                - delete unicode\n",
    "                - removes emails and URLs and currency symbols\n",
    "        \"\"\"\n",
    "        self.documents_corpus = apply_cleaning_functions(self.documents_corpus)\n",
    "\n",
    "    def transform_to_spacy_doc(self):\n",
    "        \"\"\"\n",
    "            When the document is clean, is going to be transform into spacy document\n",
    "        \"\"\"\n",
    "        self.documents_corpus = self.documents_corpus.apply(nlp)\n",
    "\n",
    "    def extract_features(self):\n",
    "        \"\"\"\n",
    "            To extract the parts of speech, below it was defined classes for each token is necessary.\n",
    "        \"\"\"\n",
    "        self.documents_corpus = pd.concat([self.documents_corpus,\n",
    "                                           self.documents_corpus.apply(document_atomization_noun_phrases)]\n",
    "                                          , ignore_index=True)\n",
    "        self.documents_corpus = self.documents_corpus.apply(lambda x: list(map(str, x)))\n",
    "\n",
    "    def model_training(self):\n",
    "        \"\"\"\n",
    "            When the data is prepared it's stored into Word2Vec model.\n",
    "        \"\"\"\n",
    "        self.word2vec = Word2Vec(sentences=self.documents_corpus, window=WINDOW,\n",
    "                                 min_count=MIN_COUNT, vector_size=VECTOR_SIZE)\n",
    "\n",
    "    def execute(self):\n",
    "        \"\"\"\n",
    "            The final step is execution, where are stored each step and it will be executed in a row\n",
    "        \"\"\"\n",
    "        self.download_datasets()\n",
    "        self.extract_textual_data()\n",
    "        self.clean_textual_data()\n",
    "        self.transform_to_spacy_doc()\n",
    "        self.extract_features()\n",
    "        self.model_training()"
   ],
   "metadata": {
    "collapsed": false,
    "pycharm": {
     "name": "#%%\n"
    }
   }
  },
  {
   "cell_type": "markdown",
   "source": [
    "## Experiment Nr#1 language model based on:\n",
    "- PWDB\n",
    "- eu-timeline\n",
    "- ireland-timeline"
   ],
   "metadata": {
    "collapsed": false,
    "pycharm": {
     "name": "#%% md\n"
    }
   }
  },
  {
   "cell_type": "code",
   "execution_count": 5,
   "outputs": [
    {
     "name": "stderr",
     "output_type": "stream",
     "text": [
      "100% (1288 of 1288) |####################| Elapsed Time: 0:00:01 Time:  0:00:01\n",
      "100% (171 of 171) |######################| Elapsed Time: 0:00:00 Time:  0:00:00\n",
      "100% (410 of 410) |######################| Elapsed Time: 0:00:00 Time:  0:00:00\n"
     ]
    }
   ],
   "source": [
    "dataset_sources_config = [\n",
    "    (Dataset.PWDB, PWDB_TEXTUAL_CLASS),\n",
    "    (Dataset.EU_ACTION_TIMELINE, DEFAULT_TEXTUAL_COLUMN),\n",
    "    (Dataset.IRELAND_ACTION_TIMELINE, DEFAULT_TEXTUAL_COLUMN)\n",
    "]\n",
    "model1_language_model_pipeline = LanguageModelPipeline(dataset_sources=dataset_sources_config)\n",
    "model1_language_model_pipeline.execute()"
   ],
   "metadata": {
    "collapsed": false,
    "pycharm": {
     "name": "#%%\n"
    }
   }
  },
  {
   "cell_type": "markdown",
   "source": [
    "## Experiment Nr#2 language model based on:\n",
    "- eu-cellar\n"
   ],
   "metadata": {
    "collapsed": false,
    "pycharm": {
     "name": "#%% md\n"
    }
   }
  },
  {
   "cell_type": "code",
   "execution_count": 25,
   "outputs": [],
   "source": [
    "dataset_sources_config = [\n",
    "    (Dataset.EU_CELLAR, DEFAULT_TEXTUAL_COLUMN)\n",
    "]\n",
    "model2_language_model_pipeline = LanguageModelPipeline(dataset_sources=dataset_sources_config)\n",
    "model2_language_model_pipeline.execute()"
   ],
   "metadata": {
    "collapsed": false,
    "pycharm": {
     "name": "#%%\n"
    }
   }
  },
  {
   "cell_type": "markdown",
   "source": [
    "## Experiment Nr#3 language model based on:\n",
    "- PWDB\n",
    "- eu-timeline\n",
    "- ireland-timeline\n",
    "- eu-cellar"
   ],
   "metadata": {
    "collapsed": false,
    "pycharm": {
     "name": "#%% md\n"
    }
   }
  },
  {
   "cell_type": "code",
   "execution_count": 26,
   "outputs": [],
   "source": [
    "dataset_sources_config = [\n",
    "    (Dataset.PWDB, PWDB_TEXTUAL_CLASS),\n",
    "    (Dataset.EU_ACTION_TIMELINE, DEFAULT_TEXTUAL_COLUMN),\n",
    "    (Dataset.IRELAND_ACTION_TIMELINE, DEFAULT_TEXTUAL_COLUMN),\n",
    "    (Dataset.EU_CELLAR, DEFAULT_TEXTUAL_COLUMN)\n",
    "]\n",
    "model3_language_model_pipeline = LanguageModelPipeline(dataset_sources=dataset_sources_config)\n",
    "model3_language_model_pipeline.execute()"
   ],
   "metadata": {
    "collapsed": false,
    "pycharm": {
     "name": "#%%\n"
    }
   }
  },
  {
   "cell_type": "markdown",
   "source": [
    "## Similarity matrices\n",
    "### Euclidean similarity"
   ],
   "metadata": {
    "collapsed": false,
    "pycharm": {
     "name": "#%% md\n"
    }
   }
  },
  {
   "cell_type": "code",
   "execution_count": 176,
   "outputs": [],
   "source": [
    "def get_similarity_matrix_new(vector: np.ndarray, keys: list, metric)->pd.DataFrame:\n",
    "    return pd.DataFrame(pairwise_distances(vector, metric = metric), columns= keys, index = keys)\n"
   ],
   "metadata": {
    "collapsed": false,
    "pycharm": {
     "name": "#%%\n"
    }
   }
  },
  {
   "cell_type": "code",
   "execution_count": 183,
   "outputs": [
    {
     "name": "stdout",
     "output_type": "stream",
     "text": [
      "CPU times: user 19.5 s, sys: 182 ms, total: 19.7 s\n",
      "Wall time: 19.9 s\n"
     ]
    },
    {
     "data": {
      "text/plain": "                     of       the         ,         .        to       and  \\\nof             1.000000  0.087021  0.076782  0.082264  0.060755  0.075211   \nthe            0.087021  1.000000  0.078414  0.084651  0.060859  0.078640   \n,              0.076782  0.078414  1.000000  0.112882  0.062765  0.102690   \n.              0.082264  0.084651  0.112882  1.000000  0.068273  0.089037   \nto             0.060755  0.060859  0.062765  0.068273  1.000000  0.067350   \n...                 ...       ...       ...       ...       ...       ...   \nproportion     0.091691  0.087016  0.113630  0.110950  0.072036  0.107366   \nits_employees  0.090817  0.086951  0.112525  0.108485  0.072103  0.109910   \nleading        0.093242  0.088072  0.116316  0.109691  0.071039  0.114621   \ntasks          0.089526  0.085919  0.110696  0.105254  0.071921  0.108889   \nconcertation   0.090108  0.085878  0.112404  0.109863  0.068768  0.110101   \n\n                     in       for        is         )  ...  sustainable  \\\nof             0.078992  0.077981  0.064526  0.078702  ...     0.091899   \nthe            0.075379  0.078242  0.064396  0.072223  ...     0.086244   \n,              0.088205  0.084247  0.061964  0.102634  ...     0.114308   \n.              0.081809  0.088355  0.068201  0.089310  ...     0.109286   \nto             0.061253  0.072983  0.055050  0.057124  ...     0.071899   \n...                 ...       ...       ...       ...  ...          ...   \nproportion     0.085939  0.107855  0.075164  0.116053  ...     0.405517   \nits_employees  0.085418  0.105211  0.075973  0.112413  ...     0.521459   \nleading        0.086932  0.106113  0.073647  0.122232  ...     0.475664   \ntasks          0.084744  0.104860  0.074610  0.111081  ...     0.458457   \nconcertation   0.085028  0.098778  0.072261  0.118448  ...     0.318350   \n\n                neither      post  remote_working  tourists  proportion  \\\nof             0.091928  0.091899        0.091173  0.089621    0.091691   \nthe            0.087403  0.087633        0.087663  0.086291    0.087016   \n,              0.114743  0.112278        0.111951  0.113976    0.113630   \n.              0.110937  0.108862        0.110309  0.108357    0.110950   \nto             0.069899  0.071957        0.072490  0.072446    0.072036   \n...                 ...       ...             ...       ...         ...   \nproportion     0.352391  0.410547        0.414327  0.430415    1.000000   \nits_employees  0.387706  0.564905        0.574819  0.484130    0.454366   \nleading        0.452822  0.472531        0.433111  0.382320    0.395990   \ntasks          0.373548  0.468036        0.489354  0.505626    0.398638   \nconcertation   0.404804  0.342391        0.351163  0.335958    0.303377   \n\n               its_employees   leading     tasks  concertation  \nof                  0.090817  0.093242  0.089526      0.090108  \nthe                 0.086951  0.088072  0.085919      0.085878  \n,                   0.112525  0.116316  0.110696      0.112404  \n.                   0.108485  0.109691  0.105254      0.109863  \nto                  0.072103  0.071039  0.071921      0.068768  \n...                      ...       ...       ...           ...  \nproportion          0.454366  0.395990  0.398638      0.303377  \nits_employees       1.000000  0.440326  0.544921      0.324229  \nleading             0.440326  1.000000  0.387971      0.340269  \ntasks               0.544921  0.387971  1.000000      0.310877  \nconcertation        0.324229  0.340269  0.310877      1.000000  \n\n[2000 rows x 2000 columns]",
      "text/html": "<div>\n<style scoped>\n    .dataframe tbody tr th:only-of-type {\n        vertical-align: middle;\n    }\n\n    .dataframe tbody tr th {\n        vertical-align: top;\n    }\n\n    .dataframe thead th {\n        text-align: right;\n    }\n</style>\n<table border=\"1\" class=\"dataframe\">\n  <thead>\n    <tr style=\"text-align: right;\">\n      <th></th>\n      <th>of</th>\n      <th>the</th>\n      <th>,</th>\n      <th>.</th>\n      <th>to</th>\n      <th>and</th>\n      <th>in</th>\n      <th>for</th>\n      <th>is</th>\n      <th>)</th>\n      <th>...</th>\n      <th>sustainable</th>\n      <th>neither</th>\n      <th>post</th>\n      <th>remote_working</th>\n      <th>tourists</th>\n      <th>proportion</th>\n      <th>its_employees</th>\n      <th>leading</th>\n      <th>tasks</th>\n      <th>concertation</th>\n    </tr>\n  </thead>\n  <tbody>\n    <tr>\n      <th>of</th>\n      <td>1.000000</td>\n      <td>0.087021</td>\n      <td>0.076782</td>\n      <td>0.082264</td>\n      <td>0.060755</td>\n      <td>0.075211</td>\n      <td>0.078992</td>\n      <td>0.077981</td>\n      <td>0.064526</td>\n      <td>0.078702</td>\n      <td>...</td>\n      <td>0.091899</td>\n      <td>0.091928</td>\n      <td>0.091899</td>\n      <td>0.091173</td>\n      <td>0.089621</td>\n      <td>0.091691</td>\n      <td>0.090817</td>\n      <td>0.093242</td>\n      <td>0.089526</td>\n      <td>0.090108</td>\n    </tr>\n    <tr>\n      <th>the</th>\n      <td>0.087021</td>\n      <td>1.000000</td>\n      <td>0.078414</td>\n      <td>0.084651</td>\n      <td>0.060859</td>\n      <td>0.078640</td>\n      <td>0.075379</td>\n      <td>0.078242</td>\n      <td>0.064396</td>\n      <td>0.072223</td>\n      <td>...</td>\n      <td>0.086244</td>\n      <td>0.087403</td>\n      <td>0.087633</td>\n      <td>0.087663</td>\n      <td>0.086291</td>\n      <td>0.087016</td>\n      <td>0.086951</td>\n      <td>0.088072</td>\n      <td>0.085919</td>\n      <td>0.085878</td>\n    </tr>\n    <tr>\n      <th>,</th>\n      <td>0.076782</td>\n      <td>0.078414</td>\n      <td>1.000000</td>\n      <td>0.112882</td>\n      <td>0.062765</td>\n      <td>0.102690</td>\n      <td>0.088205</td>\n      <td>0.084247</td>\n      <td>0.061964</td>\n      <td>0.102634</td>\n      <td>...</td>\n      <td>0.114308</td>\n      <td>0.114743</td>\n      <td>0.112278</td>\n      <td>0.111951</td>\n      <td>0.113976</td>\n      <td>0.113630</td>\n      <td>0.112525</td>\n      <td>0.116316</td>\n      <td>0.110696</td>\n      <td>0.112404</td>\n    </tr>\n    <tr>\n      <th>.</th>\n      <td>0.082264</td>\n      <td>0.084651</td>\n      <td>0.112882</td>\n      <td>1.000000</td>\n      <td>0.068273</td>\n      <td>0.089037</td>\n      <td>0.081809</td>\n      <td>0.088355</td>\n      <td>0.068201</td>\n      <td>0.089310</td>\n      <td>...</td>\n      <td>0.109286</td>\n      <td>0.110937</td>\n      <td>0.108862</td>\n      <td>0.110309</td>\n      <td>0.108357</td>\n      <td>0.110950</td>\n      <td>0.108485</td>\n      <td>0.109691</td>\n      <td>0.105254</td>\n      <td>0.109863</td>\n    </tr>\n    <tr>\n      <th>to</th>\n      <td>0.060755</td>\n      <td>0.060859</td>\n      <td>0.062765</td>\n      <td>0.068273</td>\n      <td>1.000000</td>\n      <td>0.067350</td>\n      <td>0.061253</td>\n      <td>0.072983</td>\n      <td>0.055050</td>\n      <td>0.057124</td>\n      <td>...</td>\n      <td>0.071899</td>\n      <td>0.069899</td>\n      <td>0.071957</td>\n      <td>0.072490</td>\n      <td>0.072446</td>\n      <td>0.072036</td>\n      <td>0.072103</td>\n      <td>0.071039</td>\n      <td>0.071921</td>\n      <td>0.068768</td>\n    </tr>\n    <tr>\n      <th>...</th>\n      <td>...</td>\n      <td>...</td>\n      <td>...</td>\n      <td>...</td>\n      <td>...</td>\n      <td>...</td>\n      <td>...</td>\n      <td>...</td>\n      <td>...</td>\n      <td>...</td>\n      <td>...</td>\n      <td>...</td>\n      <td>...</td>\n      <td>...</td>\n      <td>...</td>\n      <td>...</td>\n      <td>...</td>\n      <td>...</td>\n      <td>...</td>\n      <td>...</td>\n      <td>...</td>\n    </tr>\n    <tr>\n      <th>proportion</th>\n      <td>0.091691</td>\n      <td>0.087016</td>\n      <td>0.113630</td>\n      <td>0.110950</td>\n      <td>0.072036</td>\n      <td>0.107366</td>\n      <td>0.085939</td>\n      <td>0.107855</td>\n      <td>0.075164</td>\n      <td>0.116053</td>\n      <td>...</td>\n      <td>0.405517</td>\n      <td>0.352391</td>\n      <td>0.410547</td>\n      <td>0.414327</td>\n      <td>0.430415</td>\n      <td>1.000000</td>\n      <td>0.454366</td>\n      <td>0.395990</td>\n      <td>0.398638</td>\n      <td>0.303377</td>\n    </tr>\n    <tr>\n      <th>its_employees</th>\n      <td>0.090817</td>\n      <td>0.086951</td>\n      <td>0.112525</td>\n      <td>0.108485</td>\n      <td>0.072103</td>\n      <td>0.109910</td>\n      <td>0.085418</td>\n      <td>0.105211</td>\n      <td>0.075973</td>\n      <td>0.112413</td>\n      <td>...</td>\n      <td>0.521459</td>\n      <td>0.387706</td>\n      <td>0.564905</td>\n      <td>0.574819</td>\n      <td>0.484130</td>\n      <td>0.454366</td>\n      <td>1.000000</td>\n      <td>0.440326</td>\n      <td>0.544921</td>\n      <td>0.324229</td>\n    </tr>\n    <tr>\n      <th>leading</th>\n      <td>0.093242</td>\n      <td>0.088072</td>\n      <td>0.116316</td>\n      <td>0.109691</td>\n      <td>0.071039</td>\n      <td>0.114621</td>\n      <td>0.086932</td>\n      <td>0.106113</td>\n      <td>0.073647</td>\n      <td>0.122232</td>\n      <td>...</td>\n      <td>0.475664</td>\n      <td>0.452822</td>\n      <td>0.472531</td>\n      <td>0.433111</td>\n      <td>0.382320</td>\n      <td>0.395990</td>\n      <td>0.440326</td>\n      <td>1.000000</td>\n      <td>0.387971</td>\n      <td>0.340269</td>\n    </tr>\n    <tr>\n      <th>tasks</th>\n      <td>0.089526</td>\n      <td>0.085919</td>\n      <td>0.110696</td>\n      <td>0.105254</td>\n      <td>0.071921</td>\n      <td>0.108889</td>\n      <td>0.084744</td>\n      <td>0.104860</td>\n      <td>0.074610</td>\n      <td>0.111081</td>\n      <td>...</td>\n      <td>0.458457</td>\n      <td>0.373548</td>\n      <td>0.468036</td>\n      <td>0.489354</td>\n      <td>0.505626</td>\n      <td>0.398638</td>\n      <td>0.544921</td>\n      <td>0.387971</td>\n      <td>1.000000</td>\n      <td>0.310877</td>\n    </tr>\n    <tr>\n      <th>concertation</th>\n      <td>0.090108</td>\n      <td>0.085878</td>\n      <td>0.112404</td>\n      <td>0.109863</td>\n      <td>0.068768</td>\n      <td>0.110101</td>\n      <td>0.085028</td>\n      <td>0.098778</td>\n      <td>0.072261</td>\n      <td>0.118448</td>\n      <td>...</td>\n      <td>0.318350</td>\n      <td>0.404804</td>\n      <td>0.342391</td>\n      <td>0.351163</td>\n      <td>0.335958</td>\n      <td>0.303377</td>\n      <td>0.324229</td>\n      <td>0.340269</td>\n      <td>0.310877</td>\n      <td>1.000000</td>\n    </tr>\n  </tbody>\n</table>\n<p>2000 rows × 2000 columns</p>\n</div>"
     },
     "execution_count": 183,
     "metadata": {},
     "output_type": "execute_result"
    }
   ],
   "source": [
    "%%time\n",
    "get_similarity_matrix_new(model1_language_model_pipeline.word2vec.wv.vectors[:2000],\n",
    "                      model1_language_model_pipeline.word2vec.wv.index_to_key[:2000],\n",
    "                      metric = euclidean_similarity\n",
    "                      )"
   ],
   "metadata": {
    "collapsed": false,
    "pycharm": {
     "name": "#%%\n"
    }
   }
  },
  {
   "cell_type": "code",
   "execution_count": 2,
   "outputs": [
    {
     "ename": "NameError",
     "evalue": "name 'get_similarity_matrix' is not defined",
     "output_type": "error",
     "traceback": [
      "\u001B[0;31m---------------------------------------------------------------------------\u001B[0m",
      "\u001B[0;31mNameError\u001B[0m                                 Traceback (most recent call last)",
      "\u001B[0;32m<timed exec>\u001B[0m in \u001B[0;36m<module>\u001B[0;34m\u001B[0m\n",
      "\u001B[0;31mNameError\u001B[0m: name 'get_similarity_matrix' is not defined"
     ]
    }
   ],
   "source": [
    "%%time\n",
    "model1_euclidean_similarity_matrix = get_similarity_matrix(wv=model1_language_model_pipeline.word2vec.wv,\n",
    "                                                           similarity_function=euclidean_similarity)\n",
    "model1_euclidean_similarity_matrix"
   ],
   "metadata": {
    "collapsed": false,
    "pycharm": {
     "name": "#%%\n"
    }
   }
  },
  {
   "cell_type": "code",
   "execution_count": null,
   "outputs": [],
   "source": [
    "%%time\n",
    "model2_euclidean_similarity_matrix = get_similarity_matrix(wv=model2_language_model_pipeline.word2vec.wv,\n",
    "                                                           similarity_function=euclidean_similarity)\n",
    "model2_euclidean_similarity_matrix"
   ],
   "metadata": {
    "collapsed": false,
    "pycharm": {
     "name": "#%%\n"
    }
   }
  },
  {
   "cell_type": "code",
   "execution_count": null,
   "outputs": [],
   "source": [
    "%%time\n",
    "model3_euclidean_similarity_matrix = get_similarity_matrix(wv=model3_language_model_pipeline.word2vec.wv,\n",
    "                                                           similarity_function=euclidean_similarity)\n",
    "model3_euclidean_similarity_matrix"
   ],
   "metadata": {
    "collapsed": false,
    "pycharm": {
     "name": "#%%\n"
    }
   }
  },
  {
   "cell_type": "markdown",
   "source": [
    "### Cosine similarity"
   ],
   "metadata": {
    "collapsed": false,
    "pycharm": {
     "name": "#%% md\n"
    }
   }
  },
  {
   "cell_type": "code",
   "execution_count": null,
   "outputs": [],
   "source": [
    "%%time\n",
    "model1_cosine_similarity_matrix = get_similarity_matrix(wv=model1_language_model_pipeline.word2vec.wv,\n",
    "                                                           similarity_function=cosine_similarity)\n",
    "model1_cosine_similarity_matrix"
   ],
   "metadata": {
    "collapsed": false,
    "pycharm": {
     "name": "#%%\n"
    }
   }
  },
  {
   "cell_type": "code",
   "execution_count": null,
   "outputs": [],
   "source": [
    "%%time\n",
    "model2_cosine_similarity_matrix = get_similarity_matrix(wv=model2_language_model_pipeline.word2vec.wv,\n",
    "                                                           similarity_function=cosine_similarity)\n",
    "model2_cosine_similarity_matrix"
   ],
   "metadata": {
    "collapsed": false,
    "pycharm": {
     "name": "#%%\n"
    }
   }
  },
  {
   "cell_type": "code",
   "execution_count": null,
   "outputs": [],
   "source": [
    "%%time\n",
    "model3_cosine_similarity_matrix = get_similarity_matrix(wv=model3_language_model_pipeline.word2vec.wv,\n",
    "                                                           similarity_function=cosine_similarity)\n",
    "model3_cosine_similarity_matrix"
   ],
   "metadata": {
    "collapsed": false,
    "pycharm": {
     "name": "#%%\n"
    }
   }
  },
  {
   "cell_type": "markdown",
   "source": [
    "### Manhattan similarity"
   ],
   "metadata": {
    "collapsed": false
   }
  },
  {
   "cell_type": "code",
   "execution_count": null,
   "outputs": [],
   "source": [
    "%%time\n",
    "model1_manhattan_similarity_matrix = get_similarity_matrix(wv=model1_language_model_pipeline.word2vec.wv,\n",
    "                                                           similarity_function=manhattan_similarity)\n",
    "model1_manhattan_similarity_matrix"
   ],
   "metadata": {
    "collapsed": false,
    "pycharm": {
     "name": "#%%\n"
    }
   }
  },
  {
   "cell_type": "code",
   "execution_count": null,
   "outputs": [],
   "source": [
    "%%time\n",
    "model2_manhattan_similarity_matrix = get_similarity_matrix(wv=model2_language_model_pipeline.word2vec.wv,\n",
    "                                                           similarity_function=manhattan_similarity)\n",
    "model2_manhattan_similarity_matrix"
   ],
   "metadata": {
    "collapsed": false,
    "pycharm": {
     "name": "#%%\n"
    }
   }
  },
  {
   "cell_type": "code",
   "execution_count": null,
   "outputs": [],
   "source": [
    "%%time\n",
    "model3_manhattan_similarity_matrix = get_similarity_matrix(wv=model3_language_model_pipeline.word2vec.wv,\n",
    "                                                           similarity_function=manhattan_similarity)\n",
    "model3_manhattan_similarity_matrix"
   ],
   "metadata": {
    "collapsed": false,
    "pycharm": {
     "name": "#%%\n"
    }
   }
  },
  {
   "cell_type": "code",
   "execution_count": 77,
   "outputs": [],
   "source": [
    "key_words = ['president', 'covid', 'economic',\n",
    "             'country', 'workers', 'health',\n",
    "             'crisis', 'tax', 'law',\n",
    "             'costs', 'legal', 'companys',\n",
    "             'manufacturing', 'property']\n",
    "\n",
    "# vectors of each word selected\n",
    "embedding_clusters = []\n",
    "# words selected, based on key words\n",
    "word_clusters = []\n",
    "\n",
    "# for every key word we find most similar\n",
    "# words and set them into lists\n",
    "for word in key_words:\n",
    "    embedding = []\n",
    "    words = []\n",
    "\n",
    "    for similar_word, word_vector in model1_language_model_pipeline.word2vec.wv.most_similar(word, topn=30):\n",
    "        words.append(similar_word)\n",
    "        embedding.append(model1_language_model_pipeline.word2vec.wv[similar_word])\n",
    "\n",
    "    embedding_clusters.append(embedding)\n",
    "    word_clusters.append(words)"
   ],
   "metadata": {
    "collapsed": false,
    "pycharm": {
     "name": "#%%\n"
    }
   }
  },
  {
   "cell_type": "code",
   "execution_count": 96,
   "outputs": [],
   "source": [
    "from gensim.models import KeyedVectors\n",
    "\n",
    "def select_words_and_embedding_clusters(word2vec_model: KeyedVectors, key_words: dict) -> tuple:\n",
    "    \"\"\"\n",
    "        This function finds top 30 most similar words from inserted key words and\n",
    "        insert their clusters into arrays\n",
    "    \"\"\"\n",
    "    # vectors of each word selected\n",
    "    embedding_clusters = []\n",
    "    # words selected, based on key words\n",
    "    word_clusters = []\n",
    "\n",
    "    # for every key word we find most similar\n",
    "    # words and set them into lists\n",
    "    for word in key_words:\n",
    "        embedding = []\n",
    "        words = []\n",
    "\n",
    "        for similar_word, word_vector in word2vec_model.most_similar(word, topn=30):\n",
    "            words.append(similar_word)\n",
    "            embedding.append(word2vec_model[similar_word])\n",
    "\n",
    "        embedding_clusters.append(embedding)\n",
    "        word_clusters.append(words)\n",
    "\n",
    "    return embedding_clusters, word_clusters\n",
    "\n",
    "\n"
   ],
   "metadata": {
    "collapsed": false,
    "pycharm": {
     "name": "#%%\n"
    }
   }
  },
  {
   "cell_type": "code",
   "execution_count": 97,
   "outputs": [],
   "source": [
    "embeddings = select_words_and_embedding_clusters(model1_language_model_pipeline.word2vec.wv, key_words)"
   ],
   "metadata": {
    "collapsed": false,
    "pycharm": {
     "name": "#%%\n"
    }
   }
  },
  {
   "cell_type": "code",
   "execution_count": 106,
   "outputs": [],
   "source": [
    "\n",
    "# Transform clusters into NumPy Array\n",
    "word_embedding_clusters = np.array(embeddings[0])\n",
    "# Declare every axis of the embedding cluster\n",
    "axis_0, axis_1, axis_2 = word_embedding_clusters.shape\n",
    "\"\"\"\n",
    ":perplexity: The number of nearest neighbors that is used in other manifold learning algorithms\n",
    ":n_components: Dimension of the embedded space\n",
    ":init: Initialization of embedding\n",
    ":n_iter: Maxim number of iterations for the optimization (!!! At least 250 !!!)\n",
    ":random_state: Determines the random number generator\n",
    "\"\"\"\n",
    "tsne_model_specific_words = TSNE(perplexity=15, n_components=2, init='pca', n_iter=3500, random_state=32)\n",
    "fit_specific_words = tsne_model_specific_words.fit_transform(embedding_clusters.reshape(axis_0 * axis_1, axis_2))"
   ],
   "metadata": {
    "collapsed": false,
    "pycharm": {
     "name": "#%%\n"
    }
   }
  },
  {
   "cell_type": "code",
   "execution_count": 159,
   "outputs": [],
   "source": [
    "def create_word_clusters_matrix(key_words: dict, word_clusters: list, tsne_words_model: np.ndarray) -> pd.DataFrame:\n",
    "    \"\"\"\n",
    "        Creates a dataframe that show words vector representation on a graph\n",
    "    \"\"\"\n",
    "    specific_words_dataframe = pd.DataFrame(\n",
    "        {'word_cluster': key_words, 'word': word_clusters},\n",
    "        columns=['word_cluster', 'word']).explode('word').reset_index(drop=True)\n",
    "    dataframe_vectors = pd.DataFrame(tsne_words_model, columns=['X', 'Y'])\n",
    "\n",
    "    return pd.concat([specific_words_dataframe, dataframe_vectors], axis=1)"
   ],
   "metadata": {
    "collapsed": false,
    "pycharm": {
     "name": "#%%\n"
    }
   }
  },
  {
   "cell_type": "code",
   "execution_count": 160,
   "outputs": [
    {
     "data": {
      "text/plain": "    word_cluster                 word          X          Y\n0      president        the_president -16.681551  40.985405\n1      president               2/2015 -50.330994  29.013401\n2      president          legislative  -6.457219  49.867496\n3      president         the_republic   1.649387  52.978394\n4      president  the_general_tax_law -62.624191  20.209379\n..           ...                  ...        ...        ...\n415     property           sustaining -25.640423 -15.535745\n416     property     the_regeneration -77.978127   8.393215\n417     property              primary  19.320084 -13.802938\n418     property             building  26.817053  -4.491646\n419     property            technical  27.971910  -5.805575\n\n[420 rows x 4 columns]",
      "text/html": "<div>\n<style scoped>\n    .dataframe tbody tr th:only-of-type {\n        vertical-align: middle;\n    }\n\n    .dataframe tbody tr th {\n        vertical-align: top;\n    }\n\n    .dataframe thead th {\n        text-align: right;\n    }\n</style>\n<table border=\"1\" class=\"dataframe\">\n  <thead>\n    <tr style=\"text-align: right;\">\n      <th></th>\n      <th>word_cluster</th>\n      <th>word</th>\n      <th>X</th>\n      <th>Y</th>\n    </tr>\n  </thead>\n  <tbody>\n    <tr>\n      <th>0</th>\n      <td>president</td>\n      <td>the_president</td>\n      <td>-16.681551</td>\n      <td>40.985405</td>\n    </tr>\n    <tr>\n      <th>1</th>\n      <td>president</td>\n      <td>2/2015</td>\n      <td>-50.330994</td>\n      <td>29.013401</td>\n    </tr>\n    <tr>\n      <th>2</th>\n      <td>president</td>\n      <td>legislative</td>\n      <td>-6.457219</td>\n      <td>49.867496</td>\n    </tr>\n    <tr>\n      <th>3</th>\n      <td>president</td>\n      <td>the_republic</td>\n      <td>1.649387</td>\n      <td>52.978394</td>\n    </tr>\n    <tr>\n      <th>4</th>\n      <td>president</td>\n      <td>the_general_tax_law</td>\n      <td>-62.624191</td>\n      <td>20.209379</td>\n    </tr>\n    <tr>\n      <th>...</th>\n      <td>...</td>\n      <td>...</td>\n      <td>...</td>\n      <td>...</td>\n    </tr>\n    <tr>\n      <th>415</th>\n      <td>property</td>\n      <td>sustaining</td>\n      <td>-25.640423</td>\n      <td>-15.535745</td>\n    </tr>\n    <tr>\n      <th>416</th>\n      <td>property</td>\n      <td>the_regeneration</td>\n      <td>-77.978127</td>\n      <td>8.393215</td>\n    </tr>\n    <tr>\n      <th>417</th>\n      <td>property</td>\n      <td>primary</td>\n      <td>19.320084</td>\n      <td>-13.802938</td>\n    </tr>\n    <tr>\n      <th>418</th>\n      <td>property</td>\n      <td>building</td>\n      <td>26.817053</td>\n      <td>-4.491646</td>\n    </tr>\n    <tr>\n      <th>419</th>\n      <td>property</td>\n      <td>technical</td>\n      <td>27.971910</td>\n      <td>-5.805575</td>\n    </tr>\n  </tbody>\n</table>\n<p>420 rows × 4 columns</p>\n</div>"
     },
     "execution_count": 160,
     "metadata": {},
     "output_type": "execute_result"
    }
   ],
   "source": [
    "df = create_word_clusters_matrix(key_words, embeddings[1], fit_specific_words)\n",
    "df"
   ],
   "metadata": {
    "collapsed": false,
    "pycharm": {
     "name": "#%%\n"
    }
   }
  },
  {
   "cell_type": "code",
   "execution_count": 162,
   "outputs": [
    {
     "data": {
      "application/vnd.plotly.v1+json": {
       "config": {
        "plotlyServerURL": "https://plot.ly"
       },
       "data": [
        {
         "customdata": [
          [
           "the_president"
          ],
          [
           "2/2015"
          ],
          [
           "legislative"
          ],
          [
           "the_republic"
          ],
          [
           "the_general_tax_law"
          ],
          [
           "republic"
          ],
          [
           "slovak"
          ],
          [
           "cabinet"
          ],
          [
           "10a/2020"
          ],
          [
           "prime"
          ],
          [
           "14a/2020"
          ],
          [
           "ministers"
          ],
          [
           "royal"
          ],
          [
           "the_council"
          ],
          [
           "commission"
          ],
          [
           "releases"
          ],
          [
           "the_cabinet"
          ],
          [
           "treasury"
          ],
          [
           "70a/2020"
          ],
          [
           "press"
          ],
          [
           "21112"
          ],
          [
           "30/2020"
          ],
          [
           "passed"
          ],
          [
           "27_march"
          ],
          [
           "the_decree"
          ],
          [
           "eurogroup"
          ],
          [
           "release"
          ],
          [
           "deputy"
          ],
          [
           "2020.two"
          ],
          [
           "parliamentary"
          ]
         ],
         "hovertemplate": "word_cluster=president<br>X=%{x}<br>Y=%{y}<br>word=%{customdata[0]}<extra></extra>",
         "legendgroup": "president",
         "marker": {
          "color": "#636efa",
          "symbol": "circle"
         },
         "mode": "markers",
         "name": "president",
         "orientation": "v",
         "showlegend": true,
         "type": "scatter",
         "x": [
          -16.681550979614258,
          -50.33099365234375,
          -6.457218647003174,
          1.649387240409851,
          -62.62419128417969,
          3.2314510345458984,
          -28.409032821655273,
          -15.23465633392334,
          -32.94624710083008,
          -33.911617279052734,
          -64.32937622070312,
          1.042915940284729,
          -7.666038990020752,
          -11.745793342590332,
          -1.5746463537216187,
          -62.1274528503418,
          -18.045127868652344,
          -28.18813705444336,
          -50.89616012573242,
          -23.668643951416016,
          -46.999725341796875,
          -50.599979400634766,
          -13.233741760253906,
          -22.544696807861328,
          -20.580081939697266,
          -46.95352554321289,
          -24.871692657470703,
          -45.64374542236328,
          -74.75511932373047,
          -30.513835906982422
         ],
         "xaxis": "x",
         "y": [
          40.98540496826172,
          29.01340103149414,
          49.867496490478516,
          52.9783935546875,
          20.209379196166992,
          53.85260009765625,
          31.711301803588867,
          45.030670166015625,
          33.8265266418457,
          -26.031993865966797,
          19.66739273071289,
          58.00823974609375,
          55.26008987426758,
          48.50228500366211,
          48.389549255371094,
          22.840238571166992,
          43.31770324707031,
          33.64033508300781,
          26.412124633789062,
          40.27299880981445,
          28.575071334838867,
          32.332149505615234,
          42.284393310546875,
          35.428672790527344,
          39.078155517578125,
          22.87194061279297,
          36.564674377441406,
          23.984622955322266,
          14.396719932556152,
          27.8404483795166
         ],
         "yaxis": "y"
        },
        {
         "customdata": [
          [
           "anticrisis"
          ],
          [
           "shield"
          ],
          [
           "the_governments"
          ],
          [
           "ziuopdve"
          ],
          [
           "renthttps://static.eurofound.europa.eu/covid19db/cases/cz20202694"
          ],
          [
           "the_dispersion"
          ],
          [
           "accomodationhttps://static.eurofound.europa.eu/covid19db/cases/cz2020371260"
          ],
          [
           "the_current_covid19_pandemic"
          ],
          [
           "legislator"
          ],
          [
           "powers"
          ],
          [
           "the_\"emergency_contingency_measures"
          ],
          [
           "the_coronavirus"
          ],
          [
           "partial_reimbursement"
          ],
          [
           "i"
          ],
          [
           "the_intervention_measures"
          ],
          [
           "the_legislative_act"
          ],
          [
           "the_dutch_government"
          ],
          [
           "the_declaration"
          ],
          [
           "the_legislative_act_20_march_2020_urgent_measures"
          ],
          [
           "response"
          ],
          [
           "legislative_measures"
          ],
          [
           "ii"
          ],
          [
           "dutch"
          ],
          [
           "existing_legislation"
          ],
          [
           "the_economy"
          ],
          [
           "mitigation"
          ],
          [
           "socalled"
          ],
          [
           "roadmap"
          ],
          [
           "the_emergency_measures"
          ],
          [
           "the_background"
          ]
         ],
         "hovertemplate": "word_cluster=covid<br>X=%{x}<br>Y=%{y}<br>word=%{customdata[0]}<extra></extra>",
         "legendgroup": "covid",
         "marker": {
          "color": "#EF553B",
          "symbol": "circle"
         },
         "mode": "markers",
         "name": "covid",
         "orientation": "v",
         "showlegend": true,
         "type": "scatter",
         "x": [
          -18.468114852905273,
          -15.742619514465332,
          -23.834083557128906,
          -54.56793975830078,
          -77.86587524414062,
          -57.805091857910156,
          -58.00279998779297,
          -76.41756439208984,
          -80.7138671875,
          -31.758329391479492,
          -56.595069885253906,
          63.81773376464844,
          -53.732948303222656,
          14.98543643951416,
          -21.834327697753906,
          -41.57417678833008,
          -21.420509338378906,
          -23.328712463378906,
          -53.71535873413086,
          76.84593963623047,
          -78.60697174072266,
          15.759333610534668,
          -16.232221603393555,
          -58.186729431152344,
          59.00458526611328,
          -23.05716896057129,
          -10.834307670593262,
          -58.09178161621094,
          -46.03022766113281,
          -30.045591354370117
         ],
         "xaxis": "x",
         "y": [
          32.946475982666016,
          31.660076141357422,
          18.70818328857422,
          19.427736282348633,
          14.794466018676758,
          11.54146671295166,
          18.865943908691406,
          12.785601615905762,
          15.267904281616211,
          17.563262939453125,
          9.962167739868164,
          10.7664794921875,
          16.05433464050293,
          20.823518753051758,
          18.37469482421875,
          23.8428897857666,
          32.29376983642578,
          22.357633590698242,
          11.00110912322998,
          2.2032220363616943,
          11.613572120666504,
          18.5137939453125,
          34.8907585144043,
          7.656955718994141,
          -1.864664077758789,
          16.505861282348633,
          27.05069923400879,
          16.777359008789062,
          14.447033882141113,
          14.322975158691406
         ],
         "yaxis": "y"
        },
        {
         "customdata": [
          [
           "impacts"
          ],
          [
           "hardship"
          ],
          [
           "situations"
          ],
          [
           "the_virus"
          ],
          [
           "governance"
          ],
          [
           "exclusion"
          ],
          [
           "vulnerability"
          ],
          [
           "the_covid19_epidemic"
          ],
          [
           "the_consequences"
          ],
          [
           "covid19_crisis"
          ],
          [
           "effects"
          ],
          [
           "protection"
          ],
          [
           "the_covid19"
          ],
          [
           "the_background"
          ],
          [
           "the_covid19_virus"
          ],
          [
           "reality"
          ],
          [
           "covid19_coronavirus"
          ],
          [
           "its"
          ],
          [
           "infection"
          ],
          [
           "policy"
          ],
          [
           "nationallevel"
          ],
          [
           "the_coronavirus_pandemic"
          ],
          [
           "the_economic_crisis"
          ],
          [
           "reacting"
          ],
          [
           "disease"
          ],
          [
           "the_health_authorities"
          ],
          [
           "the_covid19_pandemic"
          ],
          [
           "navigate"
          ],
          [
           "the_coronavirus"
          ],
          [
           "the_effects"
          ]
         ],
         "hovertemplate": "word_cluster=economic<br>X=%{x}<br>Y=%{y}<br>word=%{customdata[0]}<extra></extra>",
         "legendgroup": "economic",
         "marker": {
          "color": "#00cc96",
          "symbol": "circle"
         },
         "mode": "markers",
         "name": "economic",
         "orientation": "v",
         "showlegend": true,
         "type": "scatter",
         "x": [
          -19.535037994384766,
          -17.61475944519043,
          42.8985710144043,
          56.315452575683594,
          -69.63324737548828,
          -16.712604522705078,
          -18.571496963500977,
          58.21474838256836,
          63.98775863647461,
          -25.659284591674805,
          78.239013671875,
          64.51570892333984,
          60.76722717285156,
          -31.38664436340332,
          -31.97473907470703,
          -47.301151275634766,
          -33.21976852416992,
          81.09026336669922,
          72.15266418457031,
          54.67696762084961,
          -71.87159729003906,
          -22.017770767211914,
          -44.71762466430664,
          -48.92963409423828,
          59.72134017944336,
          -85.29417419433594,
          85.75847625732422,
          -82.51948547363281,
          63.81773376464844,
          71.15753936767578
         ],
         "xaxis": "x",
         "y": [
          15.369065284729004,
          13.781084060668945,
          -6.485842704772949,
          9.355366706848145,
          -4.621911525726318,
          3.3003604412078857,
          4.997928619384766,
          8.088342666625977,
          6.548085689544678,
          9.261201858520508,
          4.932558059692383,
          -13.316818237304688,
          9.981797218322754,
          13.961762428283691,
          10.477062225341797,
          4.0342512130737305,
          8.695613861083984,
          23.013534545898438,
          10.855256080627441,
          -5.492574691772461,
          -1.6861616373062134,
          9.12353229522705,
          12.03073787689209,
          8.616989135742188,
          3.356456995010376,
          12.12910270690918,
          16.697322845458984,
          6.673312187194824,
          10.7664794921875,
          7.380706787109375
         ],
         "yaxis": "y"
        },
        {
         "customdata": [
          [
           "the_country"
          ],
          [
           "effort"
          ],
          [
           "areas"
          ],
          [
           "workforce"
          ],
          [
           "demand"
          ],
          [
           "fear"
          ],
          [
           "efforts"
          ],
          [
           "guide"
          ],
          [
           "public_health"
          ],
          [
           "parts"
          ],
          [
           "working_conditions"
          ],
          [
           "course"
          ],
          [
           "the_community"
          ],
          [
           "situations"
          ],
          [
           "its_employees"
          ],
          [
           "the_production"
          ],
          [
           "uk"
          ],
          [
           "future"
          ],
          [
           "region"
          ],
          [
           "addressing"
          ],
          [
           "potential"
          ],
          [
           "unlike"
          ],
          [
           "public_services"
          ],
          [
           "presence"
          ],
          [
           "foa"
          ],
          [
           "operations"
          ],
          [
           "the_region"
          ],
          [
           "fact"
          ],
          [
           "southern"
          ],
          [
           "huge"
          ]
         ],
         "hovertemplate": "word_cluster=country<br>X=%{x}<br>Y=%{y}<br>word=%{customdata[0]}<extra></extra>",
         "legendgroup": "country",
         "marker": {
          "color": "#ab63fa",
          "symbol": "circle"
         },
         "mode": "markers",
         "name": "country",
         "orientation": "v",
         "showlegend": true,
         "type": "scatter",
         "x": [
          39.794002532958984,
          -16.31171226501465,
          51.401493072509766,
          23.171810150146484,
          34.71517562866211,
          -47.62433624267578,
          19.843503952026367,
          -12.936036109924316,
          -21.429790496826172,
          18.663145065307617,
          -24.71873664855957,
          -16.28974723815918,
          -20.941232681274414,
          42.8985710144043,
          -9.472002029418945,
          30.42963409423828,
          15.521699905395508,
          34.51151657104492,
          15.19168758392334,
          -13.271279335021973,
          22.539674758911133,
          -34.40401077270508,
          -39.65015411376953,
          -8.024738311767578,
          -63.957984924316406,
          38.8767204284668,
          -17.93718910217285,
          39.8453254699707,
          -74.5169677734375,
          -41.2818489074707
         ],
         "xaxis": "x",
         "y": [
          -0.30665522813796997,
          -10.200356483459473,
          -16.225603103637695,
          -13.988197326660156,
          -14.82558536529541,
          5.702739715576172,
          -9.080124855041504,
          -7.549124240875244,
          -3.269645929336548,
          -18.831645965576172,
          5.860960483551025,
          -3.409614086151123,
          -7.604846477508545,
          -6.485842704772949,
          -9.168493270874023,
          -14.722894668579102,
          -16.828765869140625,
          -17.692392349243164,
          -11.21567153930664,
          -10.4539794921875,
          -9.274584770202637,
          -17.352222442626953,
          -12.648770332336426,
          -11.971763610839844,
          -6.03786563873291,
          -11.493891716003418,
          -8.128756523132324,
          1.26236891746521,
          8.161104202270508,
          -16.400653839111328
         ],
         "yaxis": "y"
        },
        {
         "customdata": [
          [
           "groups"
          ],
          [
           "employees"
          ],
          [
           "staff"
          ],
          [
           "people"
          ],
          [
           "conditions"
          ],
          [
           "all"
          ],
          [
           "those"
          ],
          [
           "personnel"
          ],
          [
           "vulnerable"
          ],
          [
           "airfield"
          ],
          [
           "persons"
          ],
          [
           "customers"
          ],
          [
           "sectors"
          ],
          [
           "blended"
          ],
          [
           "them"
          ],
          [
           "workplaces"
          ],
          [
           "individuals"
          ],
          [
           "care"
          ],
          [
           "those_workers"
          ],
          [
           "family_members"
          ],
          [
           "a_service"
          ],
          [
           "public_hospitals"
          ],
          [
           "parents"
          ],
          [
           "its_services"
          ],
          [
           "a_fixedterm_contract"
          ],
          [
           "accomodation"
          ],
          [
           "jobs"
          ],
          [
           "covid19_patients"
          ],
          [
           "its_workforce"
          ],
          [
           "entrepreneurs"
          ]
         ],
         "hovertemplate": "word_cluster=workers<br>X=%{x}<br>Y=%{y}<br>word=%{customdata[0]}<extra></extra>",
         "legendgroup": "workers",
         "marker": {
          "color": "#FFA15A",
          "symbol": "circle"
         },
         "mode": "markers",
         "name": "workers",
         "orientation": "v",
         "showlegend": true,
         "type": "scatter",
         "x": [
          51.243221282958984,
          49.15077590942383,
          51.12255096435547,
          49.58523178100586,
          48.909210205078125,
          53.05457305908203,
          47.009605407714844,
          44.807071685791016,
          52.25114440917969,
          -84.69498443603516,
          47.1895751953125,
          48.23736572265625,
          55.06476593017578,
          -80.79761505126953,
          47.773990631103516,
          35.52427673339844,
          42.736488342285156,
          53.319637298583984,
          -71.3163833618164,
          -79.00492095947266,
          -81.35039520263672,
          -78.70783996582031,
          43.35063171386719,
          -66.42364501953125,
          -82.79087829589844,
          -81.34442901611328,
          58.13014221191406,
          -71.82225799560547,
          -77.55201721191406,
          38.18315887451172
         ],
         "xaxis": "x",
         "y": [
          -29.889427185058594,
          -39.570960998535156,
          -35.38544464111328,
          -44.433937072753906,
          -30.906410217285156,
          -32.20906066894531,
          -43.27915573120117,
          -27.841140747070312,
          -27.927438735961914,
          -1.8383466005325317,
          -44.940589904785156,
          -25.799768447875977,
          -26.83260154724121,
          3.5610291957855225,
          -35.21269989013672,
          -10.00305461883545,
          -41.75691604614258,
          -37.032840728759766,
          -12.733953475952148,
          -7.338102340698242,
          -1.92401123046875,
          -0.5331816077232361,
          -39.847476959228516,
          -8.846566200256348,
          1.2193713188171387,
          -3.9696691036224365,
          -27.633596420288086,
          -15.155362129211426,
          -9.114298820495605,
          -42.75581741333008
         ],
         "yaxis": "y"
        },
        {
         "customdata": [
          [
           "safety"
          ],
          [
           "the_health"
          ],
          [
           "public"
          ],
          [
           "protection"
          ],
          [
           "wellbeing"
          ],
          [
           "occupational"
          ],
          [
           "prevention"
          ],
          [
           "crisis.third"
          ],
          [
           "market"
          ],
          [
           "the_protection"
          ],
          [
           "occupational_health"
          ],
          [
           "harmful"
          ],
          [
           "functioning"
          ],
          [
           "employees'_health"
          ],
          [
           "the_adaptation"
          ],
          [
           "mental"
          ],
          [
           "smooth"
          ],
          [
           "protecting"
          ],
          [
           "economic_development"
          ],
          [
           "other_agents"
          ],
          [
           "awareness"
          ],
          [
           "workers_health"
          ],
          [
           "civil"
          ],
          [
           "threats"
          ],
          [
           "the_workplaces"
          ],
          [
           "leadership"
          ],
          [
           "labor_and_social_policies"
          ],
          [
           "directorate"
          ],
          [
           "authorities"
          ],
          [
           "society"
          ]
         ],
         "hovertemplate": "word_cluster=health<br>X=%{x}<br>Y=%{y}<br>word=%{customdata[0]}<extra></extra>",
         "legendgroup": "health",
         "marker": {
          "color": "#19d3f3",
          "symbol": "circle"
         },
         "mode": "markers",
         "name": "health",
         "orientation": "v",
         "showlegend": true,
         "type": "scatter",
         "x": [
          59.76253128051758,
          12.283302307128906,
          60.452247619628906,
          64.19562530517578,
          15.110082626342773,
          52.63804244995117,
          56.64315414428711,
          -83.33844757080078,
          57.202117919921875,
          6.358312129974365,
          -44.91709518432617,
          -23.6307373046875,
          4.639081954956055,
          -85.80687713623047,
          -50.17619323730469,
          16.928001403808594,
          -26.248489379882812,
          10.704489707946777,
          -43.525386810302734,
          -53.584754943847656,
          -44.35869598388672,
          -47.86021423339844,
          29.862838745117188,
          -81.07003021240234,
          -52.129554748535156,
          -56.237213134765625,
          -57.52590560913086,
          -41.7850341796875,
          51.4622688293457,
          58.76420593261719
         ],
         "xaxis": "x",
         "y": [
          -14.293008804321289,
          -3.304051399230957,
          -12.298471450805664,
          -14.656991004943848,
          -3.7071006298065186,
          -11.713068962097168,
          -7.803199291229248,
          8.962970733642578,
          -10.641594886779785,
          -6.9849853515625,
          -3.9555299282073975,
          -1.3680533170700073,
          -5.235663890838623,
          9.196057319641113,
          -1.2600090503692627,
          -4.11455774307251,
          -1.1384797096252441,
          -4.844011306762695,
          -0.6718200445175171,
          -0.5409280061721802,
          -5.802174091339111,
          -4.518007278442383,
          -3.42486834526062,
          9.68492317199707,
          0.9573719501495361,
          1.8162767887115479,
          5.070822238922119,
          0.4401871860027313,
          -8.98930549621582,
          1.1895946264266968
         ],
         "yaxis": "y"
        },
        {
         "customdata": [
          [
           "pandemic"
          ],
          [
           "the_pandemic"
          ],
          [
           "outbreak"
          ],
          [
           "epidemic"
          ],
          [
           "the_crisis"
          ],
          [
           "the_covid19_crisis"
          ],
          [
           "the_covid19_pandemic"
          ],
          [
           "corona"
          ],
          [
           "virus"
          ],
          [
           "situation"
          ],
          [
           "the_health_crisis"
          ],
          [
           "the_outbreak"
          ],
          [
           "coronavirus"
          ],
          [
           "the_corona_crisis"
          ],
          [
           "the_current_covid19_crisis"
          ],
          [
           "impact"
          ],
          [
           "the_covid19"
          ],
          [
           "lockdown"
          ],
          [
           "covid19_crisis"
          ],
          [
           "caused"
          ],
          [
           "restrictions"
          ],
          [
           "spread"
          ],
          [
           "the_covid19_outbreak"
          ],
          [
           "covid19_pandemic"
          ],
          [
           "the_coronavirus"
          ],
          [
           "this_crisis"
          ],
          [
           "current"
          ],
          [
           "consequences"
          ],
          [
           "the_covid19_emergency"
          ],
          [
           "effects"
          ]
         ],
         "hovertemplate": "word_cluster=crisis<br>X=%{x}<br>Y=%{y}<br>word=%{customdata[0]}<extra></extra>",
         "legendgroup": "crisis",
         "marker": {
          "color": "#FF6692",
          "symbol": "circle"
         },
         "mode": "markers",
         "name": "crisis",
         "orientation": "v",
         "showlegend": true,
         "type": "scatter",
         "x": [
          89.01768493652344,
          84.10731506347656,
          79.0028076171875,
          77.17098236083984,
          80.30621337890625,
          81.91234588623047,
          85.75847625732422,
          83.02994537353516,
          74.28144073486328,
          80.76934814453125,
          53.36669921875,
          59.86026382446289,
          85.10027313232422,
          57.796058654785156,
          -84.08517456054688,
          75.17176055908203,
          60.76722717285156,
          72.21707916259766,
          -26.905105590820312,
          82.71405029296875,
          74.20503234863281,
          81.31242370605469,
          52.075767517089844,
          56.0377197265625,
          62.70292282104492,
          -41.40997314453125,
          71.38257598876953,
          78.52181243896484,
          -27.555423736572266,
          76.60408020019531
         ],
         "xaxis": "x",
         "y": [
          14.725799560546875,
          18.725961685180664,
          11.005256652832031,
          11.792625427246094,
          19.90174102783203,
          19.1154842376709,
          16.697322845458984,
          14.51168155670166,
          10.927783012390137,
          15.258415222167969,
          12.52400016784668,
          15.059775352478027,
          13.125683784484863,
          15.906575202941895,
          15.892925262451172,
          7.870515823364258,
          9.981797218322754,
          17.078289031982422,
          8.414226531982422,
          9.092754364013672,
          15.402570724487305,
          5.131811141967773,
          13.807612419128418,
          11.68875503540039,
          12.64649486541748,
          10.671721458435059,
          15.332536697387695,
          7.16422700881958,
          11.438959121704102,
          5.460958003997803
         ],
         "yaxis": "y"
        },
        {
         "customdata": [
          [
           "payments"
          ],
          [
           "taxes"
          ],
          [
           "payment"
          ],
          [
           "deferral"
          ],
          [
           "rent"
          ],
          [
           "interest"
          ],
          [
           "vat"
          ],
          [
           "the_payment"
          ],
          [
           "repayment"
          ],
          [
           "advance"
          ],
          [
           "installments"
          ],
          [
           "income"
          ],
          [
           "exemption"
          ],
          [
           "lumpsum"
          ],
          [
           "compensations"
          ],
          [
           "tax_payments"
          ],
          [
           "instalments"
          ],
          [
           "debts"
          ],
          [
           "a_period"
          ],
          [
           "paying"
          ],
          [
           "the_reimbursement"
          ],
          [
           "building_charge"
          ],
          [
           "social_security_contributions"
          ],
          [
           "liabilities"
          ],
          [
           "an_indemnity"
          ],
          [
           "three_months"
          ],
          [
           "technical_unemployment"
          ],
          [
           "deferred"
          ],
          [
           "deferred_payment"
          ],
          [
           "family_reasons"
          ]
         ],
         "hovertemplate": "word_cluster=tax<br>X=%{x}<br>Y=%{y}<br>word=%{customdata[0]}<extra></extra>",
         "legendgroup": "tax",
         "marker": {
          "color": "#B6E880",
          "symbol": "circle"
         },
         "mode": "markers",
         "name": "tax",
         "orientation": "v",
         "showlegend": true,
         "type": "scatter",
         "x": [
          22.003402709960938,
          15.934493064880371,
          26.123794555664062,
          14.076953887939453,
          22.959646224975586,
          24.375699996948242,
          13.173007011413574,
          16.179283142089844,
          11.37862491607666,
          8.438435554504395,
          5.575638771057129,
          22.78369140625,
          10.029547691345215,
          -53.902095794677734,
          -53.198280334472656,
          -56.0566291809082,
          -10.9395170211792,
          2.5505034923553467,
          10.329264640808105,
          19.761966705322266,
          -58.27717208862305,
          -67.74576568603516,
          7.314173698425293,
          6.620469093322754,
          -65.75135803222656,
          7.28741979598999,
          -68.81193542480469,
          8.792597770690918,
          -67.49284362792969,
          -57.469661712646484
         ],
         "xaxis": "x",
         "y": [
          -53.48051452636719,
          -49.39381790161133,
          -57.812164306640625,
          -45.644203186035156,
          -48.39649200439453,
          -52.798545837402344,
          -48.84233856201172,
          -45.739662170410156,
          -46.28119659423828,
          -39.75734329223633,
          -40.160579681396484,
          -61.06644058227539,
          -37.52978515625,
          -22.88621711730957,
          -24.99420166015625,
          -20.123273849487305,
          -28.432065963745117,
          -32.151695251464844,
          -43.259605407714844,
          -49.42814636230469,
          -19.514123916625977,
          7.484537124633789,
          -32.543304443359375,
          -29.779443740844727,
          9.290066719055176,
          -42.111412048339844,
          10.833632469177246,
          -47.57967758178711,
          12.045409202575684,
          -22.986886978149414
         ],
         "yaxis": "y"
        },
        {
         "customdata": [
          [
           "the_law"
          ],
          [
           "decree"
          ],
          [
           "act"
          ],
          [
           "9/2020"
          ],
          [
           "the_act"
          ],
          [
           "ordinance"
          ],
          [
           "30/2020"
          ],
          [
           "decreelaw"
          ],
          [
           "issued"
          ],
          [
           "amendments"
          ],
          [
           "7/2009"
          ],
          [
           "the_decree"
          ],
          [
           "royal"
          ],
          [
           "article"
          ],
          [
           "21112"
          ],
          [
           "18/2020"
          ],
          [
           "63/2020"
          ],
          [
           "legislative"
          ],
          [
           "10a/2020"
          ],
          [
           "coll"
          ],
          [
           "amending"
          ],
          [
           "lithuania"
          ],
          [
           "the_4th_covid19_act"
          ],
          [
           "section"
          ],
          [
           "11.03.2020/2020"
          ],
          [
           "the_law_decree"
          ],
          [
           "regulation"
          ],
          [
           "decree_law"
          ],
          [
           "ministerial"
          ],
          [
           "296"
          ]
         ],
         "hovertemplate": "word_cluster=law<br>X=%{x}<br>Y=%{y}<br>word=%{customdata[0]}<extra></extra>",
         "legendgroup": "law",
         "marker": {
          "color": "#FF97FF",
          "symbol": "circle"
         },
         "mode": "markers",
         "name": "law",
         "orientation": "v",
         "showlegend": true,
         "type": "scatter",
         "x": [
          -4.20001220703125,
          -5.467654228210449,
          -2.9053847789764404,
          -38.93413543701172,
          -5.051123142242432,
          -7.4061384201049805,
          -49.10995101928711,
          -10.29542064666748,
          -3.258432388305664,
          -3.5248398780822754,
          -44.824928283691406,
          -20.875139236450195,
          -8.741518020629883,
          -8.032732009887695,
          -47.14198303222656,
          -35.233123779296875,
          -74.62104034423828,
          -4.866884231567383,
          -34.38692092895508,
          -30.370380401611328,
          -5.212202072143555,
          -0.6817566752433777,
          -74.45880126953125,
          -8.163665771484375,
          -44.383140563964844,
          -45.75611877441406,
          -5.922839164733887,
          -38.853729248046875,
          -31.998371124267578,
          -72.0955581665039
         ],
         "xaxis": "x",
         "y": [
          56.24908447265625,
          60.570980072021484,
          61.97800827026367,
          33.65952682495117,
          47.71592330932617,
          46.13163375854492,
          32.235008239746094,
          54.74029541015625,
          58.89019012451172,
          45.36436080932617,
          34.32999801635742,
          40.587154388427734,
          56.65803527832031,
          60.91558837890625,
          27.125961303710938,
          38.568965911865234,
          19.6370792388916,
          50.13066864013672,
          34.28231430053711,
          39.73861312866211,
          52.32254409790039,
          53.53510284423828,
          17.12129783630371,
          51.79036331176758,
          28.321752548217773,
          35.84194564819336,
          44.048954010009766,
          36.697120666503906,
          36.972450256347656,
          20.305282592773438
         ],
         "yaxis": "y"
        },
        {
         "customdata": [
          [
           "fixed_costs"
          ],
          [
           "expenses"
          ],
          [
           "reimbursement"
          ],
          [
           "rent"
          ],
          [
           "financing"
          ],
          [
           "working_capital"
          ],
          [
           "fixed"
          ],
          [
           "grants"
          ],
          [
           "compensation"
          ],
          [
           "allowance"
          ],
          [
           "subsidy"
          ],
          [
           "financial_support"
          ],
          [
           "loans"
          ],
          [
           "percentage"
          ],
          [
           "loss"
          ],
          [
           "operating_costs"
          ],
          [
           "income"
          ],
          [
           "basic"
          ],
          [
           "indemnity"
          ],
          [
           "the_selfemployed"
          ],
          [
           "additional"
          ],
          [
           "variable"
          ],
          [
           "earners"
          ],
          [
           "liquidity"
          ],
          [
           "the_costs"
          ],
          [
           "receiving"
          ],
          [
           "job"
          ],
          [
           "capital"
          ],
          [
           "grant"
          ],
          [
           "benefit.compared"
          ]
         ],
         "hovertemplate": "word_cluster=costs<br>X=%{x}<br>Y=%{y}<br>word=%{customdata[0]}<extra></extra>",
         "legendgroup": "costs",
         "marker": {
          "color": "#FECB52",
          "symbol": "circle"
         },
         "mode": "markers",
         "name": "costs",
         "orientation": "v",
         "showlegend": true,
         "type": "scatter",
         "x": [
          -20.009408950805664,
          23.647296905517578,
          14.557243347167969,
          22.959646224975586,
          35.21274948120117,
          -18.632959365844727,
          28.306055068969727,
          34.21809768676758,
          28.970497131347656,
          29.26881217956543,
          31.3554744720459,
          0.0459328256547451,
          35.248016357421875,
          -3.8736205101013184,
          20.87020492553711,
          -60.37178039550781,
          23.968381881713867,
          26.364164352416992,
          -1.9313240051269531,
          -1.3221049308776855,
          31.465009689331055,
          -58.640445709228516,
          -62.89876937866211,
          60.40283203125,
          -0.016535917297005653,
          27.727876663208008,
          42.048179626464844,
          28.838014602661133,
          32.15076446533203,
          -78.18124389648438
         ],
         "xaxis": "x",
         "y": [
          -32.21407699584961,
          -45.861328125,
          -42.512733459472656,
          -48.39649200439453,
          -44.360816955566406,
          -31.64371109008789,
          -46.601539611816406,
          -46.56238555908203,
          -56.5421142578125,
          -58.262062072753906,
          -54.81837463378906,
          -38.45818328857422,
          -50.97998046875,
          -31.622509002685547,
          -44.45840072631836,
          -18.124635696411133,
          -61.94263458251953,
          -44.47089385986328,
          -33.3655891418457,
          -39.25493621826172,
          -48.60785675048828,
          -15.043752670288086,
          -17.2714900970459,
          -30.305721282958984,
          -32.348899841308594,
          -48.64912033081055,
          -31.357343673706055,
          -40.719879150390625,
          -53.111270904541016,
          3.4226315021514893
         ],
         "yaxis": "y"
        },
        {
         "customdata": [
          [
           "permanent"
          ],
          [
           "fixedterm"
          ],
          [
           "rights"
          ],
          [
           "dismissal"
          ],
          [
           "contract"
          ],
          [
           "employment_contracts"
          ],
          [
           "the_purposes"
          ],
          [
           "certain"
          ],
          [
           "the_advance_payments"
          ],
          [
           "the_terms"
          ],
          [
           "their_home"
          ],
          [
           "temporary_layoffs"
          ],
          [
           "material"
          ],
          [
           "personnel"
          ],
          [
           "dependent"
          ],
          [
           "young_people"
          ],
          [
           "different"
          ],
          [
           "constraints"
          ],
          [
           "rehabilitation"
          ],
          [
           "schemes"
          ],
          [
           "arrangements"
          ],
          [
           "operation"
          ],
          [
           "housing"
          ],
          [
           "public_transport"
          ],
          [
           "apprenticeship"
          ],
          [
           "survival"
          ],
          [
           "shock_plans"
          ],
          [
           "delivery"
          ],
          [
           "terms"
          ],
          [
           "regime"
          ]
         ],
         "hovertemplate": "word_cluster=legal<br>X=%{x}<br>Y=%{y}<br>word=%{customdata[0]}<extra></extra>",
         "legendgroup": "legal",
         "marker": {
          "color": "#636efa",
          "symbol": "circle"
         },
         "mode": "markers",
         "name": "legal",
         "orientation": "v",
         "showlegend": true,
         "type": "scatter",
         "x": [
          30.640674591064453,
          22.709449768066406,
          40.075225830078125,
          11.845178604125977,
          39.520362854003906,
          -12.09579849243164,
          -60.73756790161133,
          32.074092864990234,
          -62.15203094482422,
          -14.527010917663574,
          -56.76948547363281,
          -43.48344802856445,
          26.284093856811523,
          45.224517822265625,
          22.301603317260742,
          -1.5577809810638428,
          48.32197952270508,
          -59.04985046386719,
          0.31792664527893066,
          35.805931091308594,
          38.753665924072266,
          45.10689163208008,
          34.81287384033203,
          -22.651077270507812,
          8.161332130432129,
          -49.434547424316406,
          -79.45780181884766,
          33.358489990234375,
          45.32675552368164,
          16.37042236328125
         ],
         "xaxis": "x",
         "y": [
          -21.886493682861328,
          -21.624073028564453,
          -20.559446334838867,
          -25.705900192260742,
          -31.3799991607666,
          -23.108768463134766,
          -11.345184326171875,
          -24.702428817749023,
          -8.519861221313477,
          -25.216331481933594,
          -10.79423999786377,
          -13.240257263183594,
          -11.31933307647705,
          -29.146507263183594,
          -25.008804321289062,
          -18.46514129638672,
          -20.75263023376465,
          -8.641164779663086,
          -18.586088180541992,
          -22.830366134643555,
          -17.85411834716797,
          -14.934245109558105,
          -21.09762191772461,
          -12.101298332214355,
          -26.195796966552734,
          -10.233448028564453,
          5.553938865661621,
          -4.908940315246582,
          -19.742197036743164,
          -25.068208694458008
         ],
         "yaxis": "y"
        },
        {
         "customdata": [
          [
           "chain"
          ],
          [
           "house"
          ],
          [
           "the_companys"
          ],
          [
           "core"
          ],
          [
           "increasing"
          ],
          [
           "respective"
          ],
          [
           "employment_contracts"
          ],
          [
           "authorized"
          ],
          [
           "sprava"
          ],
          [
           "conditionality"
          ],
          [
           "leading"
          ],
          [
           "atena"
          ],
          [
           "fuel"
          ],
          [
           "plant"
          ],
          [
           "distribution"
          ],
          [
           "respirators"
          ],
          [
           "this_adjustment"
          ],
          [
           "unit"
          ],
          [
           "degree"
          ],
          [
           "a_workplace"
          ],
          [
           "fluids"
          ],
          [
           "operation"
          ],
          [
           "particularly_active_circulation"
          ],
          [
           "longterm"
          ],
          [
           "world"
          ],
          [
           "sa"
          ],
          [
           "creating"
          ],
          [
           "concluding"
          ],
          [
           "replacing"
          ],
          [
           "sudden"
          ]
         ],
         "hovertemplate": "word_cluster=companys<br>X=%{x}<br>Y=%{y}<br>word=%{customdata[0]}<extra></extra>",
         "legendgroup": "companys",
         "marker": {
          "color": "#EF553B",
          "symbol": "circle"
         },
         "mode": "markers",
         "name": "companys",
         "orientation": "v",
         "showlegend": true,
         "type": "scatter",
         "x": [
          15.678815841674805,
          -12.279375076293945,
          -9.972609519958496,
          -37.8126106262207,
          28.482791900634766,
          15.252490043640137,
          -11.206489562988281,
          -1.958665132522583,
          -72.565673828125,
          -59.19123077392578,
          12.758545875549316,
          -72.07746887207031,
          -36.540592193603516,
          -3.6473658084869385,
          11.009230613708496,
          -12.333047866821289,
          -74.90875244140625,
          -5.740452289581299,
          -3.8163249492645264,
          -66.16090393066406,
          -60.235313415527344,
          45.10689163208008,
          -70.27386474609375,
          26.9775333404541,
          1.9815400838851929,
          -29.321489334106445,
          23.747333526611328,
          -15.135687828063965,
          -26.00229835510254,
          -18.05080223083496
         ],
         "xaxis": "x",
         "y": [
          -14.092509269714355,
          -19.588298797607422,
          -17.378395080566406,
          -15.427173614501953,
          -16.0540714263916,
          -22.539138793945312,
          -24.185543060302734,
          -10.653870582580566,
          5.352816104888916,
          -5.4288482666015625,
          -14.459829330444336,
          2.8201487064361572,
          -13.607637405395508,
          -11.893915176391602,
          -17.73104476928711,
          -12.834056854248047,
          4.308848857879639,
          -19.839948654174805,
          -24.32425880432129,
          -0.19562497735023499,
          -3.7644145488739014,
          -14.934245109558105,
          4.338043689727783,
          -19.89202117919922,
          -11.877068519592285,
          -17.115203857421875,
          -16.949365615844727,
          -19.966196060180664,
          -17.463258743286133,
          -13.92403507232666
         ],
         "yaxis": "y"
        },
        {
         "customdata": [
          [
           "retail"
          ],
          [
           "entertainment"
          ],
          [
           "19.9"
          ],
          [
           "food"
          ],
          [
           "theatre"
          ],
          [
           "construction"
          ],
          [
           "wholesale"
          ],
          [
           "arts"
          ],
          [
           "aquaculture"
          ],
          [
           "catering"
          ],
          [
           "hospitality"
          ],
          [
           "nace"
          ],
          [
           "hotels"
          ],
          [
           "attractions"
          ],
          [
           "leisure"
          ],
          [
           "producers"
          ],
          [
           "gas"
          ],
          [
           "mandatory_local_purchases"
          ],
          [
           "gambling"
          ],
          [
           "repairs"
          ],
          [
           "agricultural"
          ],
          [
           "logistics"
          ],
          [
           "recreational"
          ],
          [
           "industrial"
          ],
          [
           "agencies"
          ],
          [
           "human_health"
          ],
          [
           "beverages"
          ],
          [
           "transportation"
          ],
          [
           "electricity"
          ],
          [
           "resorts"
          ]
         ],
         "hovertemplate": "word_cluster=manufacturing<br>X=%{x}<br>Y=%{y}<br>word=%{customdata[0]}<extra></extra>",
         "legendgroup": "manufacturing",
         "marker": {
          "color": "#00cc96",
          "symbol": "circle"
         },
         "mode": "markers",
         "name": "manufacturing",
         "orientation": "v",
         "showlegend": true,
         "type": "scatter",
         "x": [
          28.9350528717041,
          24.925058364868164,
          -62.05247116088867,
          30.85209846496582,
          -31.915782928466797,
          26.801578521728516,
          20.24384117126465,
          23.08601188659668,
          -30.777666091918945,
          29.50092315673828,
          19.042808532714844,
          28.125539779663086,
          25.89533233642578,
          -36.992679595947266,
          -3.516834020614624,
          19.685108184814453,
          23.046768188476562,
          -77.01646423339844,
          -29.003408432006836,
          -35.18012237548828,
          28.033935546875,
          -1.928135871887207,
          -34.5843505859375,
          29.6594181060791,
          22.397998809814453,
          -39.76876449584961,
          -5.360431671142578,
          0.3549222946166992,
          25.878530502319336,
          -32.843013763427734
         ],
         "xaxis": "x",
         "y": [
          14.89691162109375,
          9.930429458618164,
          -1.1209614276885986,
          15.167472839355469,
          -5.8101420402526855,
          10.468185424804688,
          6.429785251617432,
          9.41370677947998,
          -4.174191474914551,
          10.388129234313965,
          3.7129478454589844,
          7.261950969696045,
          13.301371574401855,
          -8.306876182556152,
          -2.2055890560150146,
          0.5950290560722351,
          3.199040651321411,
          6.8364057540893555,
          -6.40401029586792,
          -10.198607444763184,
          1.4987270832061768,
          -0.8162230253219604,
          -6.492090225219727,
          2.146332263946533,
          -0.08773835003376007,
          -7.929325103759766,
          -3.7309248447418213,
          -1.3174867630004883,
          5.371330261230469,
          -8.386819839477539
         ],
         "yaxis": "y"
        },
        {
         "customdata": [
          [
           "sudden"
          ],
          [
           "shields"
          ],
          [
           "the_taxpayers"
          ],
          [
           "installation"
          ],
          [
           "solutions"
          ],
          [
           "plastic"
          ],
          [
           "acquisition"
          ],
          [
           "educational"
          ],
          [
           "capable"
          ],
          [
           "this_economic_sector"
          ],
          [
           "technological_innovation"
          ],
          [
           "inspection"
          ],
          [
           "agents"
          ],
          [
           "creating"
          ],
          [
           "corporate"
          ],
          [
           "learning"
          ],
          [
           "clusters"
          ],
          [
           "opportunities"
          ],
          [
           "university"
          ],
          [
           "ensuring"
          ],
          [
           "mortgage"
          ],
          [
           "improvement"
          ],
          [
           "sports_clubs"
          ],
          [
           "webinars"
          ],
          [
           "orders"
          ],
          [
           "sustaining"
          ],
          [
           "the_regeneration"
          ],
          [
           "primary"
          ],
          [
           "building"
          ],
          [
           "technical"
          ]
         ],
         "hovertemplate": "word_cluster=property<br>X=%{x}<br>Y=%{y}<br>word=%{customdata[0]}<extra></extra>",
         "legendgroup": "property",
         "marker": {
          "color": "#ab63fa",
          "symbol": "circle"
         },
         "mode": "markers",
         "name": "property",
         "orientation": "v",
         "showlegend": true,
         "type": "scatter",
         "x": [
          -18.634246826171875,
          -4.289623737335205,
          -67.53315734863281,
          -29.852947235107422,
          32.60014724731445,
          -53.927616119384766,
          3.9521548748016357,
          4.4870781898498535,
          -53.07999801635742,
          -68.99214172363281,
          -65.37705993652344,
          -32.28121566772461,
          -13.351248741149902,
          24.848737716674805,
          8.434412002563477,
          31.767560958862305,
          -41.562278747558594,
          28.527074813842773,
          -2.0660059452056885,
          51.913997650146484,
          5.231958389282227,
          -0.31279247999191284,
          -55.61789321899414,
          -24.707168579101562,
          20.116796493530273,
          -25.640422821044922,
          -77.9781265258789,
          19.320083618164062,
          26.817052841186523,
          27.97191047668457
         ],
         "xaxis": "x",
         "y": [
          -15.206951141357422,
          -15.71930980682373,
          3.8263118267059326,
          -12.42553424835205,
          -11.009913444519043,
          -7.762760162353516,
          -23.44570541381836,
          -21.042036056518555,
          -6.081518173217773,
          1.2477341890335083,
          2.4882147312164307,
          -13.320927619934082,
          -15.38734245300293,
          -16.124065399169922,
          -20.43368148803711,
          -8.083395004272461,
          -10.52674674987793,
          -10.6687593460083,
          -14.247881889343262,
          -13.463258743286133,
          -25.5792179107666,
          -15.748126983642578,
          -5.66616678237915,
          -10.951899528503418,
          -15.973127365112305,
          -15.535744667053223,
          8.39321517944336,
          -13.802937507629395,
          -4.491645812988281,
          -5.805574893951416
         ],
         "yaxis": "y"
        }
       ],
       "layout": {
        "legend": {
         "title": {
          "text": "word_cluster"
         },
         "tracegroupgap": 0
        },
        "margin": {
         "t": 60
        },
        "template": {
         "data": {
          "bar": [
           {
            "error_x": {
             "color": "#2a3f5f"
            },
            "error_y": {
             "color": "#2a3f5f"
            },
            "marker": {
             "line": {
              "color": "#E5ECF6",
              "width": 0.5
             },
             "pattern": {
              "fillmode": "overlay",
              "size": 10,
              "solidity": 0.2
             }
            },
            "type": "bar"
           }
          ],
          "barpolar": [
           {
            "marker": {
             "line": {
              "color": "#E5ECF6",
              "width": 0.5
             },
             "pattern": {
              "fillmode": "overlay",
              "size": 10,
              "solidity": 0.2
             }
            },
            "type": "barpolar"
           }
          ],
          "carpet": [
           {
            "aaxis": {
             "endlinecolor": "#2a3f5f",
             "gridcolor": "white",
             "linecolor": "white",
             "minorgridcolor": "white",
             "startlinecolor": "#2a3f5f"
            },
            "baxis": {
             "endlinecolor": "#2a3f5f",
             "gridcolor": "white",
             "linecolor": "white",
             "minorgridcolor": "white",
             "startlinecolor": "#2a3f5f"
            },
            "type": "carpet"
           }
          ],
          "choropleth": [
           {
            "colorbar": {
             "outlinewidth": 0,
             "ticks": ""
            },
            "type": "choropleth"
           }
          ],
          "contour": [
           {
            "colorbar": {
             "outlinewidth": 0,
             "ticks": ""
            },
            "colorscale": [
             [
              0.0,
              "#0d0887"
             ],
             [
              0.1111111111111111,
              "#46039f"
             ],
             [
              0.2222222222222222,
              "#7201a8"
             ],
             [
              0.3333333333333333,
              "#9c179e"
             ],
             [
              0.4444444444444444,
              "#bd3786"
             ],
             [
              0.5555555555555556,
              "#d8576b"
             ],
             [
              0.6666666666666666,
              "#ed7953"
             ],
             [
              0.7777777777777778,
              "#fb9f3a"
             ],
             [
              0.8888888888888888,
              "#fdca26"
             ],
             [
              1.0,
              "#f0f921"
             ]
            ],
            "type": "contour"
           }
          ],
          "contourcarpet": [
           {
            "colorbar": {
             "outlinewidth": 0,
             "ticks": ""
            },
            "type": "contourcarpet"
           }
          ],
          "heatmap": [
           {
            "colorbar": {
             "outlinewidth": 0,
             "ticks": ""
            },
            "colorscale": [
             [
              0.0,
              "#0d0887"
             ],
             [
              0.1111111111111111,
              "#46039f"
             ],
             [
              0.2222222222222222,
              "#7201a8"
             ],
             [
              0.3333333333333333,
              "#9c179e"
             ],
             [
              0.4444444444444444,
              "#bd3786"
             ],
             [
              0.5555555555555556,
              "#d8576b"
             ],
             [
              0.6666666666666666,
              "#ed7953"
             ],
             [
              0.7777777777777778,
              "#fb9f3a"
             ],
             [
              0.8888888888888888,
              "#fdca26"
             ],
             [
              1.0,
              "#f0f921"
             ]
            ],
            "type": "heatmap"
           }
          ],
          "heatmapgl": [
           {
            "colorbar": {
             "outlinewidth": 0,
             "ticks": ""
            },
            "colorscale": [
             [
              0.0,
              "#0d0887"
             ],
             [
              0.1111111111111111,
              "#46039f"
             ],
             [
              0.2222222222222222,
              "#7201a8"
             ],
             [
              0.3333333333333333,
              "#9c179e"
             ],
             [
              0.4444444444444444,
              "#bd3786"
             ],
             [
              0.5555555555555556,
              "#d8576b"
             ],
             [
              0.6666666666666666,
              "#ed7953"
             ],
             [
              0.7777777777777778,
              "#fb9f3a"
             ],
             [
              0.8888888888888888,
              "#fdca26"
             ],
             [
              1.0,
              "#f0f921"
             ]
            ],
            "type": "heatmapgl"
           }
          ],
          "histogram": [
           {
            "marker": {
             "pattern": {
              "fillmode": "overlay",
              "size": 10,
              "solidity": 0.2
             }
            },
            "type": "histogram"
           }
          ],
          "histogram2d": [
           {
            "colorbar": {
             "outlinewidth": 0,
             "ticks": ""
            },
            "colorscale": [
             [
              0.0,
              "#0d0887"
             ],
             [
              0.1111111111111111,
              "#46039f"
             ],
             [
              0.2222222222222222,
              "#7201a8"
             ],
             [
              0.3333333333333333,
              "#9c179e"
             ],
             [
              0.4444444444444444,
              "#bd3786"
             ],
             [
              0.5555555555555556,
              "#d8576b"
             ],
             [
              0.6666666666666666,
              "#ed7953"
             ],
             [
              0.7777777777777778,
              "#fb9f3a"
             ],
             [
              0.8888888888888888,
              "#fdca26"
             ],
             [
              1.0,
              "#f0f921"
             ]
            ],
            "type": "histogram2d"
           }
          ],
          "histogram2dcontour": [
           {
            "colorbar": {
             "outlinewidth": 0,
             "ticks": ""
            },
            "colorscale": [
             [
              0.0,
              "#0d0887"
             ],
             [
              0.1111111111111111,
              "#46039f"
             ],
             [
              0.2222222222222222,
              "#7201a8"
             ],
             [
              0.3333333333333333,
              "#9c179e"
             ],
             [
              0.4444444444444444,
              "#bd3786"
             ],
             [
              0.5555555555555556,
              "#d8576b"
             ],
             [
              0.6666666666666666,
              "#ed7953"
             ],
             [
              0.7777777777777778,
              "#fb9f3a"
             ],
             [
              0.8888888888888888,
              "#fdca26"
             ],
             [
              1.0,
              "#f0f921"
             ]
            ],
            "type": "histogram2dcontour"
           }
          ],
          "mesh3d": [
           {
            "colorbar": {
             "outlinewidth": 0,
             "ticks": ""
            },
            "type": "mesh3d"
           }
          ],
          "parcoords": [
           {
            "line": {
             "colorbar": {
              "outlinewidth": 0,
              "ticks": ""
             }
            },
            "type": "parcoords"
           }
          ],
          "pie": [
           {
            "automargin": true,
            "type": "pie"
           }
          ],
          "scatter": [
           {
            "marker": {
             "colorbar": {
              "outlinewidth": 0,
              "ticks": ""
             }
            },
            "type": "scatter"
           }
          ],
          "scatter3d": [
           {
            "line": {
             "colorbar": {
              "outlinewidth": 0,
              "ticks": ""
             }
            },
            "marker": {
             "colorbar": {
              "outlinewidth": 0,
              "ticks": ""
             }
            },
            "type": "scatter3d"
           }
          ],
          "scattercarpet": [
           {
            "marker": {
             "colorbar": {
              "outlinewidth": 0,
              "ticks": ""
             }
            },
            "type": "scattercarpet"
           }
          ],
          "scattergeo": [
           {
            "marker": {
             "colorbar": {
              "outlinewidth": 0,
              "ticks": ""
             }
            },
            "type": "scattergeo"
           }
          ],
          "scattergl": [
           {
            "marker": {
             "colorbar": {
              "outlinewidth": 0,
              "ticks": ""
             }
            },
            "type": "scattergl"
           }
          ],
          "scattermapbox": [
           {
            "marker": {
             "colorbar": {
              "outlinewidth": 0,
              "ticks": ""
             }
            },
            "type": "scattermapbox"
           }
          ],
          "scatterpolar": [
           {
            "marker": {
             "colorbar": {
              "outlinewidth": 0,
              "ticks": ""
             }
            },
            "type": "scatterpolar"
           }
          ],
          "scatterpolargl": [
           {
            "marker": {
             "colorbar": {
              "outlinewidth": 0,
              "ticks": ""
             }
            },
            "type": "scatterpolargl"
           }
          ],
          "scatterternary": [
           {
            "marker": {
             "colorbar": {
              "outlinewidth": 0,
              "ticks": ""
             }
            },
            "type": "scatterternary"
           }
          ],
          "surface": [
           {
            "colorbar": {
             "outlinewidth": 0,
             "ticks": ""
            },
            "colorscale": [
             [
              0.0,
              "#0d0887"
             ],
             [
              0.1111111111111111,
              "#46039f"
             ],
             [
              0.2222222222222222,
              "#7201a8"
             ],
             [
              0.3333333333333333,
              "#9c179e"
             ],
             [
              0.4444444444444444,
              "#bd3786"
             ],
             [
              0.5555555555555556,
              "#d8576b"
             ],
             [
              0.6666666666666666,
              "#ed7953"
             ],
             [
              0.7777777777777778,
              "#fb9f3a"
             ],
             [
              0.8888888888888888,
              "#fdca26"
             ],
             [
              1.0,
              "#f0f921"
             ]
            ],
            "type": "surface"
           }
          ],
          "table": [
           {
            "cells": {
             "fill": {
              "color": "#EBF0F8"
             },
             "line": {
              "color": "white"
             }
            },
            "header": {
             "fill": {
              "color": "#C8D4E3"
             },
             "line": {
              "color": "white"
             }
            },
            "type": "table"
           }
          ]
         },
         "layout": {
          "annotationdefaults": {
           "arrowcolor": "#2a3f5f",
           "arrowhead": 0,
           "arrowwidth": 1
          },
          "autotypenumbers": "strict",
          "coloraxis": {
           "colorbar": {
            "outlinewidth": 0,
            "ticks": ""
           }
          },
          "colorscale": {
           "diverging": [
            [
             0,
             "#8e0152"
            ],
            [
             0.1,
             "#c51b7d"
            ],
            [
             0.2,
             "#de77ae"
            ],
            [
             0.3,
             "#f1b6da"
            ],
            [
             0.4,
             "#fde0ef"
            ],
            [
             0.5,
             "#f7f7f7"
            ],
            [
             0.6,
             "#e6f5d0"
            ],
            [
             0.7,
             "#b8e186"
            ],
            [
             0.8,
             "#7fbc41"
            ],
            [
             0.9,
             "#4d9221"
            ],
            [
             1,
             "#276419"
            ]
           ],
           "sequential": [
            [
             0.0,
             "#0d0887"
            ],
            [
             0.1111111111111111,
             "#46039f"
            ],
            [
             0.2222222222222222,
             "#7201a8"
            ],
            [
             0.3333333333333333,
             "#9c179e"
            ],
            [
             0.4444444444444444,
             "#bd3786"
            ],
            [
             0.5555555555555556,
             "#d8576b"
            ],
            [
             0.6666666666666666,
             "#ed7953"
            ],
            [
             0.7777777777777778,
             "#fb9f3a"
            ],
            [
             0.8888888888888888,
             "#fdca26"
            ],
            [
             1.0,
             "#f0f921"
            ]
           ],
           "sequentialminus": [
            [
             0.0,
             "#0d0887"
            ],
            [
             0.1111111111111111,
             "#46039f"
            ],
            [
             0.2222222222222222,
             "#7201a8"
            ],
            [
             0.3333333333333333,
             "#9c179e"
            ],
            [
             0.4444444444444444,
             "#bd3786"
            ],
            [
             0.5555555555555556,
             "#d8576b"
            ],
            [
             0.6666666666666666,
             "#ed7953"
            ],
            [
             0.7777777777777778,
             "#fb9f3a"
            ],
            [
             0.8888888888888888,
             "#fdca26"
            ],
            [
             1.0,
             "#f0f921"
            ]
           ]
          },
          "colorway": [
           "#636efa",
           "#EF553B",
           "#00cc96",
           "#ab63fa",
           "#FFA15A",
           "#19d3f3",
           "#FF6692",
           "#B6E880",
           "#FF97FF",
           "#FECB52"
          ],
          "font": {
           "color": "#2a3f5f"
          },
          "geo": {
           "bgcolor": "white",
           "lakecolor": "white",
           "landcolor": "#E5ECF6",
           "showlakes": true,
           "showland": true,
           "subunitcolor": "white"
          },
          "hoverlabel": {
           "align": "left"
          },
          "hovermode": "closest",
          "mapbox": {
           "style": "light"
          },
          "paper_bgcolor": "white",
          "plot_bgcolor": "#E5ECF6",
          "polar": {
           "angularaxis": {
            "gridcolor": "white",
            "linecolor": "white",
            "ticks": ""
           },
           "bgcolor": "#E5ECF6",
           "radialaxis": {
            "gridcolor": "white",
            "linecolor": "white",
            "ticks": ""
           }
          },
          "scene": {
           "xaxis": {
            "backgroundcolor": "#E5ECF6",
            "gridcolor": "white",
            "gridwidth": 2,
            "linecolor": "white",
            "showbackground": true,
            "ticks": "",
            "zerolinecolor": "white"
           },
           "yaxis": {
            "backgroundcolor": "#E5ECF6",
            "gridcolor": "white",
            "gridwidth": 2,
            "linecolor": "white",
            "showbackground": true,
            "ticks": "",
            "zerolinecolor": "white"
           },
           "zaxis": {
            "backgroundcolor": "#E5ECF6",
            "gridcolor": "white",
            "gridwidth": 2,
            "linecolor": "white",
            "showbackground": true,
            "ticks": "",
            "zerolinecolor": "white"
           }
          },
          "shapedefaults": {
           "line": {
            "color": "#2a3f5f"
           }
          },
          "ternary": {
           "aaxis": {
            "gridcolor": "white",
            "linecolor": "white",
            "ticks": ""
           },
           "baxis": {
            "gridcolor": "white",
            "linecolor": "white",
            "ticks": ""
           },
           "bgcolor": "#E5ECF6",
           "caxis": {
            "gridcolor": "white",
            "linecolor": "white",
            "ticks": ""
           }
          },
          "title": {
           "x": 0.05
          },
          "xaxis": {
           "automargin": true,
           "gridcolor": "white",
           "linecolor": "white",
           "ticks": "",
           "title": {
            "standoff": 15
           },
           "zerolinecolor": "white",
           "zerolinewidth": 2
          },
          "yaxis": {
           "automargin": true,
           "gridcolor": "white",
           "linecolor": "white",
           "ticks": "",
           "title": {
            "standoff": 15
           },
           "zerolinecolor": "white",
           "zerolinewidth": 2
          }
         }
        },
        "xaxis": {
         "anchor": "y",
         "domain": [
          0.0,
          1.0
         ],
         "title": {
          "text": "X"
         }
        },
        "yaxis": {
         "anchor": "x",
         "domain": [
          0.0,
          1.0
         ],
         "title": {
          "text": "Y"
         }
        }
       }
      },
      "text/html": "<div>                            <div id=\"29f797c8-a71d-4bcd-a055-4d75f7f96a3e\" class=\"plotly-graph-div\" style=\"height:525px; width:100%;\"></div>            <script type=\"text/javascript\">                require([\"plotly\"], function(Plotly) {                    window.PLOTLYENV=window.PLOTLYENV || {};                                    if (document.getElementById(\"29f797c8-a71d-4bcd-a055-4d75f7f96a3e\")) {                    Plotly.newPlot(                        \"29f797c8-a71d-4bcd-a055-4d75f7f96a3e\",                        [{\"customdata\":[[\"the_president\"],[\"2/2015\"],[\"legislative\"],[\"the_republic\"],[\"the_general_tax_law\"],[\"republic\"],[\"slovak\"],[\"cabinet\"],[\"10a/2020\"],[\"prime\"],[\"14a/2020\"],[\"ministers\"],[\"royal\"],[\"the_council\"],[\"commission\"],[\"releases\"],[\"the_cabinet\"],[\"treasury\"],[\"70a/2020\"],[\"press\"],[\"21112\"],[\"30/2020\"],[\"passed\"],[\"27_march\"],[\"the_decree\"],[\"eurogroup\"],[\"release\"],[\"deputy\"],[\"2020.two\"],[\"parliamentary\"]],\"hovertemplate\":\"word_cluster=president<br>X=%{x}<br>Y=%{y}<br>word=%{customdata[0]}<extra></extra>\",\"legendgroup\":\"president\",\"marker\":{\"color\":\"#636efa\",\"symbol\":\"circle\"},\"mode\":\"markers\",\"name\":\"president\",\"orientation\":\"v\",\"showlegend\":true,\"type\":\"scatter\",\"x\":[-16.681550979614258,-50.33099365234375,-6.457218647003174,1.649387240409851,-62.62419128417969,3.2314510345458984,-28.409032821655273,-15.23465633392334,-32.94624710083008,-33.911617279052734,-64.32937622070312,1.042915940284729,-7.666038990020752,-11.745793342590332,-1.5746463537216187,-62.1274528503418,-18.045127868652344,-28.18813705444336,-50.89616012573242,-23.668643951416016,-46.999725341796875,-50.599979400634766,-13.233741760253906,-22.544696807861328,-20.580081939697266,-46.95352554321289,-24.871692657470703,-45.64374542236328,-74.75511932373047,-30.513835906982422],\"xaxis\":\"x\",\"y\":[40.98540496826172,29.01340103149414,49.867496490478516,52.9783935546875,20.209379196166992,53.85260009765625,31.711301803588867,45.030670166015625,33.8265266418457,-26.031993865966797,19.66739273071289,58.00823974609375,55.26008987426758,48.50228500366211,48.389549255371094,22.840238571166992,43.31770324707031,33.64033508300781,26.412124633789062,40.27299880981445,28.575071334838867,32.332149505615234,42.284393310546875,35.428672790527344,39.078155517578125,22.87194061279297,36.564674377441406,23.984622955322266,14.396719932556152,27.8404483795166],\"yaxis\":\"y\"},{\"customdata\":[[\"anticrisis\"],[\"shield\"],[\"the_governments\"],[\"ziuopdve\"],[\"renthttps://static.eurofound.europa.eu/covid19db/cases/cz20202694\"],[\"the_dispersion\"],[\"accomodationhttps://static.eurofound.europa.eu/covid19db/cases/cz2020371260\"],[\"the_current_covid19_pandemic\"],[\"legislator\"],[\"powers\"],[\"the_\\\"emergency_contingency_measures\"],[\"the_coronavirus\"],[\"partial_reimbursement\"],[\"i\"],[\"the_intervention_measures\"],[\"the_legislative_act\"],[\"the_dutch_government\"],[\"the_declaration\"],[\"the_legislative_act_20_march_2020_urgent_measures\"],[\"response\"],[\"legislative_measures\"],[\"ii\"],[\"dutch\"],[\"existing_legislation\"],[\"the_economy\"],[\"mitigation\"],[\"socalled\"],[\"roadmap\"],[\"the_emergency_measures\"],[\"the_background\"]],\"hovertemplate\":\"word_cluster=covid<br>X=%{x}<br>Y=%{y}<br>word=%{customdata[0]}<extra></extra>\",\"legendgroup\":\"covid\",\"marker\":{\"color\":\"#EF553B\",\"symbol\":\"circle\"},\"mode\":\"markers\",\"name\":\"covid\",\"orientation\":\"v\",\"showlegend\":true,\"type\":\"scatter\",\"x\":[-18.468114852905273,-15.742619514465332,-23.834083557128906,-54.56793975830078,-77.86587524414062,-57.805091857910156,-58.00279998779297,-76.41756439208984,-80.7138671875,-31.758329391479492,-56.595069885253906,63.81773376464844,-53.732948303222656,14.98543643951416,-21.834327697753906,-41.57417678833008,-21.420509338378906,-23.328712463378906,-53.71535873413086,76.84593963623047,-78.60697174072266,15.759333610534668,-16.232221603393555,-58.186729431152344,59.00458526611328,-23.05716896057129,-10.834307670593262,-58.09178161621094,-46.03022766113281,-30.045591354370117],\"xaxis\":\"x\",\"y\":[32.946475982666016,31.660076141357422,18.70818328857422,19.427736282348633,14.794466018676758,11.54146671295166,18.865943908691406,12.785601615905762,15.267904281616211,17.563262939453125,9.962167739868164,10.7664794921875,16.05433464050293,20.823518753051758,18.37469482421875,23.8428897857666,32.29376983642578,22.357633590698242,11.00110912322998,2.2032220363616943,11.613572120666504,18.5137939453125,34.8907585144043,7.656955718994141,-1.864664077758789,16.505861282348633,27.05069923400879,16.777359008789062,14.447033882141113,14.322975158691406],\"yaxis\":\"y\"},{\"customdata\":[[\"impacts\"],[\"hardship\"],[\"situations\"],[\"the_virus\"],[\"governance\"],[\"exclusion\"],[\"vulnerability\"],[\"the_covid19_epidemic\"],[\"the_consequences\"],[\"covid19_crisis\"],[\"effects\"],[\"protection\"],[\"the_covid19\"],[\"the_background\"],[\"the_covid19_virus\"],[\"reality\"],[\"covid19_coronavirus\"],[\"its\"],[\"infection\"],[\"policy\"],[\"nationallevel\"],[\"the_coronavirus_pandemic\"],[\"the_economic_crisis\"],[\"reacting\"],[\"disease\"],[\"the_health_authorities\"],[\"the_covid19_pandemic\"],[\"navigate\"],[\"the_coronavirus\"],[\"the_effects\"]],\"hovertemplate\":\"word_cluster=economic<br>X=%{x}<br>Y=%{y}<br>word=%{customdata[0]}<extra></extra>\",\"legendgroup\":\"economic\",\"marker\":{\"color\":\"#00cc96\",\"symbol\":\"circle\"},\"mode\":\"markers\",\"name\":\"economic\",\"orientation\":\"v\",\"showlegend\":true,\"type\":\"scatter\",\"x\":[-19.535037994384766,-17.61475944519043,42.8985710144043,56.315452575683594,-69.63324737548828,-16.712604522705078,-18.571496963500977,58.21474838256836,63.98775863647461,-25.659284591674805,78.239013671875,64.51570892333984,60.76722717285156,-31.38664436340332,-31.97473907470703,-47.301151275634766,-33.21976852416992,81.09026336669922,72.15266418457031,54.67696762084961,-71.87159729003906,-22.017770767211914,-44.71762466430664,-48.92963409423828,59.72134017944336,-85.29417419433594,85.75847625732422,-82.51948547363281,63.81773376464844,71.15753936767578],\"xaxis\":\"x\",\"y\":[15.369065284729004,13.781084060668945,-6.485842704772949,9.355366706848145,-4.621911525726318,3.3003604412078857,4.997928619384766,8.088342666625977,6.548085689544678,9.261201858520508,4.932558059692383,-13.316818237304688,9.981797218322754,13.961762428283691,10.477062225341797,4.0342512130737305,8.695613861083984,23.013534545898438,10.855256080627441,-5.492574691772461,-1.6861616373062134,9.12353229522705,12.03073787689209,8.616989135742188,3.356456995010376,12.12910270690918,16.697322845458984,6.673312187194824,10.7664794921875,7.380706787109375],\"yaxis\":\"y\"},{\"customdata\":[[\"the_country\"],[\"effort\"],[\"areas\"],[\"workforce\"],[\"demand\"],[\"fear\"],[\"efforts\"],[\"guide\"],[\"public_health\"],[\"parts\"],[\"working_conditions\"],[\"course\"],[\"the_community\"],[\"situations\"],[\"its_employees\"],[\"the_production\"],[\"uk\"],[\"future\"],[\"region\"],[\"addressing\"],[\"potential\"],[\"unlike\"],[\"public_services\"],[\"presence\"],[\"foa\"],[\"operations\"],[\"the_region\"],[\"fact\"],[\"southern\"],[\"huge\"]],\"hovertemplate\":\"word_cluster=country<br>X=%{x}<br>Y=%{y}<br>word=%{customdata[0]}<extra></extra>\",\"legendgroup\":\"country\",\"marker\":{\"color\":\"#ab63fa\",\"symbol\":\"circle\"},\"mode\":\"markers\",\"name\":\"country\",\"orientation\":\"v\",\"showlegend\":true,\"type\":\"scatter\",\"x\":[39.794002532958984,-16.31171226501465,51.401493072509766,23.171810150146484,34.71517562866211,-47.62433624267578,19.843503952026367,-12.936036109924316,-21.429790496826172,18.663145065307617,-24.71873664855957,-16.28974723815918,-20.941232681274414,42.8985710144043,-9.472002029418945,30.42963409423828,15.521699905395508,34.51151657104492,15.19168758392334,-13.271279335021973,22.539674758911133,-34.40401077270508,-39.65015411376953,-8.024738311767578,-63.957984924316406,38.8767204284668,-17.93718910217285,39.8453254699707,-74.5169677734375,-41.2818489074707],\"xaxis\":\"x\",\"y\":[-0.30665522813796997,-10.200356483459473,-16.225603103637695,-13.988197326660156,-14.82558536529541,5.702739715576172,-9.080124855041504,-7.549124240875244,-3.269645929336548,-18.831645965576172,5.860960483551025,-3.409614086151123,-7.604846477508545,-6.485842704772949,-9.168493270874023,-14.722894668579102,-16.828765869140625,-17.692392349243164,-11.21567153930664,-10.4539794921875,-9.274584770202637,-17.352222442626953,-12.648770332336426,-11.971763610839844,-6.03786563873291,-11.493891716003418,-8.128756523132324,1.26236891746521,8.161104202270508,-16.400653839111328],\"yaxis\":\"y\"},{\"customdata\":[[\"groups\"],[\"employees\"],[\"staff\"],[\"people\"],[\"conditions\"],[\"all\"],[\"those\"],[\"personnel\"],[\"vulnerable\"],[\"airfield\"],[\"persons\"],[\"customers\"],[\"sectors\"],[\"blended\"],[\"them\"],[\"workplaces\"],[\"individuals\"],[\"care\"],[\"those_workers\"],[\"family_members\"],[\"a_service\"],[\"public_hospitals\"],[\"parents\"],[\"its_services\"],[\"a_fixedterm_contract\"],[\"accomodation\"],[\"jobs\"],[\"covid19_patients\"],[\"its_workforce\"],[\"entrepreneurs\"]],\"hovertemplate\":\"word_cluster=workers<br>X=%{x}<br>Y=%{y}<br>word=%{customdata[0]}<extra></extra>\",\"legendgroup\":\"workers\",\"marker\":{\"color\":\"#FFA15A\",\"symbol\":\"circle\"},\"mode\":\"markers\",\"name\":\"workers\",\"orientation\":\"v\",\"showlegend\":true,\"type\":\"scatter\",\"x\":[51.243221282958984,49.15077590942383,51.12255096435547,49.58523178100586,48.909210205078125,53.05457305908203,47.009605407714844,44.807071685791016,52.25114440917969,-84.69498443603516,47.1895751953125,48.23736572265625,55.06476593017578,-80.79761505126953,47.773990631103516,35.52427673339844,42.736488342285156,53.319637298583984,-71.3163833618164,-79.00492095947266,-81.35039520263672,-78.70783996582031,43.35063171386719,-66.42364501953125,-82.79087829589844,-81.34442901611328,58.13014221191406,-71.82225799560547,-77.55201721191406,38.18315887451172],\"xaxis\":\"x\",\"y\":[-29.889427185058594,-39.570960998535156,-35.38544464111328,-44.433937072753906,-30.906410217285156,-32.20906066894531,-43.27915573120117,-27.841140747070312,-27.927438735961914,-1.8383466005325317,-44.940589904785156,-25.799768447875977,-26.83260154724121,3.5610291957855225,-35.21269989013672,-10.00305461883545,-41.75691604614258,-37.032840728759766,-12.733953475952148,-7.338102340698242,-1.92401123046875,-0.5331816077232361,-39.847476959228516,-8.846566200256348,1.2193713188171387,-3.9696691036224365,-27.633596420288086,-15.155362129211426,-9.114298820495605,-42.75581741333008],\"yaxis\":\"y\"},{\"customdata\":[[\"safety\"],[\"the_health\"],[\"public\"],[\"protection\"],[\"wellbeing\"],[\"occupational\"],[\"prevention\"],[\"crisis.third\"],[\"market\"],[\"the_protection\"],[\"occupational_health\"],[\"harmful\"],[\"functioning\"],[\"employees'_health\"],[\"the_adaptation\"],[\"mental\"],[\"smooth\"],[\"protecting\"],[\"economic_development\"],[\"other_agents\"],[\"awareness\"],[\"workers_health\"],[\"civil\"],[\"threats\"],[\"the_workplaces\"],[\"leadership\"],[\"labor_and_social_policies\"],[\"directorate\"],[\"authorities\"],[\"society\"]],\"hovertemplate\":\"word_cluster=health<br>X=%{x}<br>Y=%{y}<br>word=%{customdata[0]}<extra></extra>\",\"legendgroup\":\"health\",\"marker\":{\"color\":\"#19d3f3\",\"symbol\":\"circle\"},\"mode\":\"markers\",\"name\":\"health\",\"orientation\":\"v\",\"showlegend\":true,\"type\":\"scatter\",\"x\":[59.76253128051758,12.283302307128906,60.452247619628906,64.19562530517578,15.110082626342773,52.63804244995117,56.64315414428711,-83.33844757080078,57.202117919921875,6.358312129974365,-44.91709518432617,-23.6307373046875,4.639081954956055,-85.80687713623047,-50.17619323730469,16.928001403808594,-26.248489379882812,10.704489707946777,-43.525386810302734,-53.584754943847656,-44.35869598388672,-47.86021423339844,29.862838745117188,-81.07003021240234,-52.129554748535156,-56.237213134765625,-57.52590560913086,-41.7850341796875,51.4622688293457,58.76420593261719],\"xaxis\":\"x\",\"y\":[-14.293008804321289,-3.304051399230957,-12.298471450805664,-14.656991004943848,-3.7071006298065186,-11.713068962097168,-7.803199291229248,8.962970733642578,-10.641594886779785,-6.9849853515625,-3.9555299282073975,-1.3680533170700073,-5.235663890838623,9.196057319641113,-1.2600090503692627,-4.11455774307251,-1.1384797096252441,-4.844011306762695,-0.6718200445175171,-0.5409280061721802,-5.802174091339111,-4.518007278442383,-3.42486834526062,9.68492317199707,0.9573719501495361,1.8162767887115479,5.070822238922119,0.4401871860027313,-8.98930549621582,1.1895946264266968],\"yaxis\":\"y\"},{\"customdata\":[[\"pandemic\"],[\"the_pandemic\"],[\"outbreak\"],[\"epidemic\"],[\"the_crisis\"],[\"the_covid19_crisis\"],[\"the_covid19_pandemic\"],[\"corona\"],[\"virus\"],[\"situation\"],[\"the_health_crisis\"],[\"the_outbreak\"],[\"coronavirus\"],[\"the_corona_crisis\"],[\"the_current_covid19_crisis\"],[\"impact\"],[\"the_covid19\"],[\"lockdown\"],[\"covid19_crisis\"],[\"caused\"],[\"restrictions\"],[\"spread\"],[\"the_covid19_outbreak\"],[\"covid19_pandemic\"],[\"the_coronavirus\"],[\"this_crisis\"],[\"current\"],[\"consequences\"],[\"the_covid19_emergency\"],[\"effects\"]],\"hovertemplate\":\"word_cluster=crisis<br>X=%{x}<br>Y=%{y}<br>word=%{customdata[0]}<extra></extra>\",\"legendgroup\":\"crisis\",\"marker\":{\"color\":\"#FF6692\",\"symbol\":\"circle\"},\"mode\":\"markers\",\"name\":\"crisis\",\"orientation\":\"v\",\"showlegend\":true,\"type\":\"scatter\",\"x\":[89.01768493652344,84.10731506347656,79.0028076171875,77.17098236083984,80.30621337890625,81.91234588623047,85.75847625732422,83.02994537353516,74.28144073486328,80.76934814453125,53.36669921875,59.86026382446289,85.10027313232422,57.796058654785156,-84.08517456054688,75.17176055908203,60.76722717285156,72.21707916259766,-26.905105590820312,82.71405029296875,74.20503234863281,81.31242370605469,52.075767517089844,56.0377197265625,62.70292282104492,-41.40997314453125,71.38257598876953,78.52181243896484,-27.555423736572266,76.60408020019531],\"xaxis\":\"x\",\"y\":[14.725799560546875,18.725961685180664,11.005256652832031,11.792625427246094,19.90174102783203,19.1154842376709,16.697322845458984,14.51168155670166,10.927783012390137,15.258415222167969,12.52400016784668,15.059775352478027,13.125683784484863,15.906575202941895,15.892925262451172,7.870515823364258,9.981797218322754,17.078289031982422,8.414226531982422,9.092754364013672,15.402570724487305,5.131811141967773,13.807612419128418,11.68875503540039,12.64649486541748,10.671721458435059,15.332536697387695,7.16422700881958,11.438959121704102,5.460958003997803],\"yaxis\":\"y\"},{\"customdata\":[[\"payments\"],[\"taxes\"],[\"payment\"],[\"deferral\"],[\"rent\"],[\"interest\"],[\"vat\"],[\"the_payment\"],[\"repayment\"],[\"advance\"],[\"installments\"],[\"income\"],[\"exemption\"],[\"lumpsum\"],[\"compensations\"],[\"tax_payments\"],[\"instalments\"],[\"debts\"],[\"a_period\"],[\"paying\"],[\"the_reimbursement\"],[\"building_charge\"],[\"social_security_contributions\"],[\"liabilities\"],[\"an_indemnity\"],[\"three_months\"],[\"technical_unemployment\"],[\"deferred\"],[\"deferred_payment\"],[\"family_reasons\"]],\"hovertemplate\":\"word_cluster=tax<br>X=%{x}<br>Y=%{y}<br>word=%{customdata[0]}<extra></extra>\",\"legendgroup\":\"tax\",\"marker\":{\"color\":\"#B6E880\",\"symbol\":\"circle\"},\"mode\":\"markers\",\"name\":\"tax\",\"orientation\":\"v\",\"showlegend\":true,\"type\":\"scatter\",\"x\":[22.003402709960938,15.934493064880371,26.123794555664062,14.076953887939453,22.959646224975586,24.375699996948242,13.173007011413574,16.179283142089844,11.37862491607666,8.438435554504395,5.575638771057129,22.78369140625,10.029547691345215,-53.902095794677734,-53.198280334472656,-56.0566291809082,-10.9395170211792,2.5505034923553467,10.329264640808105,19.761966705322266,-58.27717208862305,-67.74576568603516,7.314173698425293,6.620469093322754,-65.75135803222656,7.28741979598999,-68.81193542480469,8.792597770690918,-67.49284362792969,-57.469661712646484],\"xaxis\":\"x\",\"y\":[-53.48051452636719,-49.39381790161133,-57.812164306640625,-45.644203186035156,-48.39649200439453,-52.798545837402344,-48.84233856201172,-45.739662170410156,-46.28119659423828,-39.75734329223633,-40.160579681396484,-61.06644058227539,-37.52978515625,-22.88621711730957,-24.99420166015625,-20.123273849487305,-28.432065963745117,-32.151695251464844,-43.259605407714844,-49.42814636230469,-19.514123916625977,7.484537124633789,-32.543304443359375,-29.779443740844727,9.290066719055176,-42.111412048339844,10.833632469177246,-47.57967758178711,12.045409202575684,-22.986886978149414],\"yaxis\":\"y\"},{\"customdata\":[[\"the_law\"],[\"decree\"],[\"act\"],[\"9/2020\"],[\"the_act\"],[\"ordinance\"],[\"30/2020\"],[\"decreelaw\"],[\"issued\"],[\"amendments\"],[\"7/2009\"],[\"the_decree\"],[\"royal\"],[\"article\"],[\"21112\"],[\"18/2020\"],[\"63/2020\"],[\"legislative\"],[\"10a/2020\"],[\"coll\"],[\"amending\"],[\"lithuania\"],[\"the_4th_covid19_act\"],[\"section\"],[\"11.03.2020/2020\"],[\"the_law_decree\"],[\"regulation\"],[\"decree_law\"],[\"ministerial\"],[\"296\"]],\"hovertemplate\":\"word_cluster=law<br>X=%{x}<br>Y=%{y}<br>word=%{customdata[0]}<extra></extra>\",\"legendgroup\":\"law\",\"marker\":{\"color\":\"#FF97FF\",\"symbol\":\"circle\"},\"mode\":\"markers\",\"name\":\"law\",\"orientation\":\"v\",\"showlegend\":true,\"type\":\"scatter\",\"x\":[-4.20001220703125,-5.467654228210449,-2.9053847789764404,-38.93413543701172,-5.051123142242432,-7.4061384201049805,-49.10995101928711,-10.29542064666748,-3.258432388305664,-3.5248398780822754,-44.824928283691406,-20.875139236450195,-8.741518020629883,-8.032732009887695,-47.14198303222656,-35.233123779296875,-74.62104034423828,-4.866884231567383,-34.38692092895508,-30.370380401611328,-5.212202072143555,-0.6817566752433777,-74.45880126953125,-8.163665771484375,-44.383140563964844,-45.75611877441406,-5.922839164733887,-38.853729248046875,-31.998371124267578,-72.0955581665039],\"xaxis\":\"x\",\"y\":[56.24908447265625,60.570980072021484,61.97800827026367,33.65952682495117,47.71592330932617,46.13163375854492,32.235008239746094,54.74029541015625,58.89019012451172,45.36436080932617,34.32999801635742,40.587154388427734,56.65803527832031,60.91558837890625,27.125961303710938,38.568965911865234,19.6370792388916,50.13066864013672,34.28231430053711,39.73861312866211,52.32254409790039,53.53510284423828,17.12129783630371,51.79036331176758,28.321752548217773,35.84194564819336,44.048954010009766,36.697120666503906,36.972450256347656,20.305282592773438],\"yaxis\":\"y\"},{\"customdata\":[[\"fixed_costs\"],[\"expenses\"],[\"reimbursement\"],[\"rent\"],[\"financing\"],[\"working_capital\"],[\"fixed\"],[\"grants\"],[\"compensation\"],[\"allowance\"],[\"subsidy\"],[\"financial_support\"],[\"loans\"],[\"percentage\"],[\"loss\"],[\"operating_costs\"],[\"income\"],[\"basic\"],[\"indemnity\"],[\"the_selfemployed\"],[\"additional\"],[\"variable\"],[\"earners\"],[\"liquidity\"],[\"the_costs\"],[\"receiving\"],[\"job\"],[\"capital\"],[\"grant\"],[\"benefit.compared\"]],\"hovertemplate\":\"word_cluster=costs<br>X=%{x}<br>Y=%{y}<br>word=%{customdata[0]}<extra></extra>\",\"legendgroup\":\"costs\",\"marker\":{\"color\":\"#FECB52\",\"symbol\":\"circle\"},\"mode\":\"markers\",\"name\":\"costs\",\"orientation\":\"v\",\"showlegend\":true,\"type\":\"scatter\",\"x\":[-20.009408950805664,23.647296905517578,14.557243347167969,22.959646224975586,35.21274948120117,-18.632959365844727,28.306055068969727,34.21809768676758,28.970497131347656,29.26881217956543,31.3554744720459,0.0459328256547451,35.248016357421875,-3.8736205101013184,20.87020492553711,-60.37178039550781,23.968381881713867,26.364164352416992,-1.9313240051269531,-1.3221049308776855,31.465009689331055,-58.640445709228516,-62.89876937866211,60.40283203125,-0.016535917297005653,27.727876663208008,42.048179626464844,28.838014602661133,32.15076446533203,-78.18124389648438],\"xaxis\":\"x\",\"y\":[-32.21407699584961,-45.861328125,-42.512733459472656,-48.39649200439453,-44.360816955566406,-31.64371109008789,-46.601539611816406,-46.56238555908203,-56.5421142578125,-58.262062072753906,-54.81837463378906,-38.45818328857422,-50.97998046875,-31.622509002685547,-44.45840072631836,-18.124635696411133,-61.94263458251953,-44.47089385986328,-33.3655891418457,-39.25493621826172,-48.60785675048828,-15.043752670288086,-17.2714900970459,-30.305721282958984,-32.348899841308594,-48.64912033081055,-31.357343673706055,-40.719879150390625,-53.111270904541016,3.4226315021514893],\"yaxis\":\"y\"},{\"customdata\":[[\"permanent\"],[\"fixedterm\"],[\"rights\"],[\"dismissal\"],[\"contract\"],[\"employment_contracts\"],[\"the_purposes\"],[\"certain\"],[\"the_advance_payments\"],[\"the_terms\"],[\"their_home\"],[\"temporary_layoffs\"],[\"material\"],[\"personnel\"],[\"dependent\"],[\"young_people\"],[\"different\"],[\"constraints\"],[\"rehabilitation\"],[\"schemes\"],[\"arrangements\"],[\"operation\"],[\"housing\"],[\"public_transport\"],[\"apprenticeship\"],[\"survival\"],[\"shock_plans\"],[\"delivery\"],[\"terms\"],[\"regime\"]],\"hovertemplate\":\"word_cluster=legal<br>X=%{x}<br>Y=%{y}<br>word=%{customdata[0]}<extra></extra>\",\"legendgroup\":\"legal\",\"marker\":{\"color\":\"#636efa\",\"symbol\":\"circle\"},\"mode\":\"markers\",\"name\":\"legal\",\"orientation\":\"v\",\"showlegend\":true,\"type\":\"scatter\",\"x\":[30.640674591064453,22.709449768066406,40.075225830078125,11.845178604125977,39.520362854003906,-12.09579849243164,-60.73756790161133,32.074092864990234,-62.15203094482422,-14.527010917663574,-56.76948547363281,-43.48344802856445,26.284093856811523,45.224517822265625,22.301603317260742,-1.5577809810638428,48.32197952270508,-59.04985046386719,0.31792664527893066,35.805931091308594,38.753665924072266,45.10689163208008,34.81287384033203,-22.651077270507812,8.161332130432129,-49.434547424316406,-79.45780181884766,33.358489990234375,45.32675552368164,16.37042236328125],\"xaxis\":\"x\",\"y\":[-21.886493682861328,-21.624073028564453,-20.559446334838867,-25.705900192260742,-31.3799991607666,-23.108768463134766,-11.345184326171875,-24.702428817749023,-8.519861221313477,-25.216331481933594,-10.79423999786377,-13.240257263183594,-11.31933307647705,-29.146507263183594,-25.008804321289062,-18.46514129638672,-20.75263023376465,-8.641164779663086,-18.586088180541992,-22.830366134643555,-17.85411834716797,-14.934245109558105,-21.09762191772461,-12.101298332214355,-26.195796966552734,-10.233448028564453,5.553938865661621,-4.908940315246582,-19.742197036743164,-25.068208694458008],\"yaxis\":\"y\"},{\"customdata\":[[\"chain\"],[\"house\"],[\"the_companys\"],[\"core\"],[\"increasing\"],[\"respective\"],[\"employment_contracts\"],[\"authorized\"],[\"sprava\"],[\"conditionality\"],[\"leading\"],[\"atena\"],[\"fuel\"],[\"plant\"],[\"distribution\"],[\"respirators\"],[\"this_adjustment\"],[\"unit\"],[\"degree\"],[\"a_workplace\"],[\"fluids\"],[\"operation\"],[\"particularly_active_circulation\"],[\"longterm\"],[\"world\"],[\"sa\"],[\"creating\"],[\"concluding\"],[\"replacing\"],[\"sudden\"]],\"hovertemplate\":\"word_cluster=companys<br>X=%{x}<br>Y=%{y}<br>word=%{customdata[0]}<extra></extra>\",\"legendgroup\":\"companys\",\"marker\":{\"color\":\"#EF553B\",\"symbol\":\"circle\"},\"mode\":\"markers\",\"name\":\"companys\",\"orientation\":\"v\",\"showlegend\":true,\"type\":\"scatter\",\"x\":[15.678815841674805,-12.279375076293945,-9.972609519958496,-37.8126106262207,28.482791900634766,15.252490043640137,-11.206489562988281,-1.958665132522583,-72.565673828125,-59.19123077392578,12.758545875549316,-72.07746887207031,-36.540592193603516,-3.6473658084869385,11.009230613708496,-12.333047866821289,-74.90875244140625,-5.740452289581299,-3.8163249492645264,-66.16090393066406,-60.235313415527344,45.10689163208008,-70.27386474609375,26.9775333404541,1.9815400838851929,-29.321489334106445,23.747333526611328,-15.135687828063965,-26.00229835510254,-18.05080223083496],\"xaxis\":\"x\",\"y\":[-14.092509269714355,-19.588298797607422,-17.378395080566406,-15.427173614501953,-16.0540714263916,-22.539138793945312,-24.185543060302734,-10.653870582580566,5.352816104888916,-5.4288482666015625,-14.459829330444336,2.8201487064361572,-13.607637405395508,-11.893915176391602,-17.73104476928711,-12.834056854248047,4.308848857879639,-19.839948654174805,-24.32425880432129,-0.19562497735023499,-3.7644145488739014,-14.934245109558105,4.338043689727783,-19.89202117919922,-11.877068519592285,-17.115203857421875,-16.949365615844727,-19.966196060180664,-17.463258743286133,-13.92403507232666],\"yaxis\":\"y\"},{\"customdata\":[[\"retail\"],[\"entertainment\"],[\"19.9\"],[\"food\"],[\"theatre\"],[\"construction\"],[\"wholesale\"],[\"arts\"],[\"aquaculture\"],[\"catering\"],[\"hospitality\"],[\"nace\"],[\"hotels\"],[\"attractions\"],[\"leisure\"],[\"producers\"],[\"gas\"],[\"mandatory_local_purchases\"],[\"gambling\"],[\"repairs\"],[\"agricultural\"],[\"logistics\"],[\"recreational\"],[\"industrial\"],[\"agencies\"],[\"human_health\"],[\"beverages\"],[\"transportation\"],[\"electricity\"],[\"resorts\"]],\"hovertemplate\":\"word_cluster=manufacturing<br>X=%{x}<br>Y=%{y}<br>word=%{customdata[0]}<extra></extra>\",\"legendgroup\":\"manufacturing\",\"marker\":{\"color\":\"#00cc96\",\"symbol\":\"circle\"},\"mode\":\"markers\",\"name\":\"manufacturing\",\"orientation\":\"v\",\"showlegend\":true,\"type\":\"scatter\",\"x\":[28.9350528717041,24.925058364868164,-62.05247116088867,30.85209846496582,-31.915782928466797,26.801578521728516,20.24384117126465,23.08601188659668,-30.777666091918945,29.50092315673828,19.042808532714844,28.125539779663086,25.89533233642578,-36.992679595947266,-3.516834020614624,19.685108184814453,23.046768188476562,-77.01646423339844,-29.003408432006836,-35.18012237548828,28.033935546875,-1.928135871887207,-34.5843505859375,29.6594181060791,22.397998809814453,-39.76876449584961,-5.360431671142578,0.3549222946166992,25.878530502319336,-32.843013763427734],\"xaxis\":\"x\",\"y\":[14.89691162109375,9.930429458618164,-1.1209614276885986,15.167472839355469,-5.8101420402526855,10.468185424804688,6.429785251617432,9.41370677947998,-4.174191474914551,10.388129234313965,3.7129478454589844,7.261950969696045,13.301371574401855,-8.306876182556152,-2.2055890560150146,0.5950290560722351,3.199040651321411,6.8364057540893555,-6.40401029586792,-10.198607444763184,1.4987270832061768,-0.8162230253219604,-6.492090225219727,2.146332263946533,-0.08773835003376007,-7.929325103759766,-3.7309248447418213,-1.3174867630004883,5.371330261230469,-8.386819839477539],\"yaxis\":\"y\"},{\"customdata\":[[\"sudden\"],[\"shields\"],[\"the_taxpayers\"],[\"installation\"],[\"solutions\"],[\"plastic\"],[\"acquisition\"],[\"educational\"],[\"capable\"],[\"this_economic_sector\"],[\"technological_innovation\"],[\"inspection\"],[\"agents\"],[\"creating\"],[\"corporate\"],[\"learning\"],[\"clusters\"],[\"opportunities\"],[\"university\"],[\"ensuring\"],[\"mortgage\"],[\"improvement\"],[\"sports_clubs\"],[\"webinars\"],[\"orders\"],[\"sustaining\"],[\"the_regeneration\"],[\"primary\"],[\"building\"],[\"technical\"]],\"hovertemplate\":\"word_cluster=property<br>X=%{x}<br>Y=%{y}<br>word=%{customdata[0]}<extra></extra>\",\"legendgroup\":\"property\",\"marker\":{\"color\":\"#ab63fa\",\"symbol\":\"circle\"},\"mode\":\"markers\",\"name\":\"property\",\"orientation\":\"v\",\"showlegend\":true,\"type\":\"scatter\",\"x\":[-18.634246826171875,-4.289623737335205,-67.53315734863281,-29.852947235107422,32.60014724731445,-53.927616119384766,3.9521548748016357,4.4870781898498535,-53.07999801635742,-68.99214172363281,-65.37705993652344,-32.28121566772461,-13.351248741149902,24.848737716674805,8.434412002563477,31.767560958862305,-41.562278747558594,28.527074813842773,-2.0660059452056885,51.913997650146484,5.231958389282227,-0.31279247999191284,-55.61789321899414,-24.707168579101562,20.116796493530273,-25.640422821044922,-77.9781265258789,19.320083618164062,26.817052841186523,27.97191047668457],\"xaxis\":\"x\",\"y\":[-15.206951141357422,-15.71930980682373,3.8263118267059326,-12.42553424835205,-11.009913444519043,-7.762760162353516,-23.44570541381836,-21.042036056518555,-6.081518173217773,1.2477341890335083,2.4882147312164307,-13.320927619934082,-15.38734245300293,-16.124065399169922,-20.43368148803711,-8.083395004272461,-10.52674674987793,-10.6687593460083,-14.247881889343262,-13.463258743286133,-25.5792179107666,-15.748126983642578,-5.66616678237915,-10.951899528503418,-15.973127365112305,-15.535744667053223,8.39321517944336,-13.802937507629395,-4.491645812988281,-5.805574893951416],\"yaxis\":\"y\"}],                        {\"legend\":{\"title\":{\"text\":\"word_cluster\"},\"tracegroupgap\":0},\"margin\":{\"t\":60},\"template\":{\"data\":{\"bar\":[{\"error_x\":{\"color\":\"#2a3f5f\"},\"error_y\":{\"color\":\"#2a3f5f\"},\"marker\":{\"line\":{\"color\":\"#E5ECF6\",\"width\":0.5},\"pattern\":{\"fillmode\":\"overlay\",\"size\":10,\"solidity\":0.2}},\"type\":\"bar\"}],\"barpolar\":[{\"marker\":{\"line\":{\"color\":\"#E5ECF6\",\"width\":0.5},\"pattern\":{\"fillmode\":\"overlay\",\"size\":10,\"solidity\":0.2}},\"type\":\"barpolar\"}],\"carpet\":[{\"aaxis\":{\"endlinecolor\":\"#2a3f5f\",\"gridcolor\":\"white\",\"linecolor\":\"white\",\"minorgridcolor\":\"white\",\"startlinecolor\":\"#2a3f5f\"},\"baxis\":{\"endlinecolor\":\"#2a3f5f\",\"gridcolor\":\"white\",\"linecolor\":\"white\",\"minorgridcolor\":\"white\",\"startlinecolor\":\"#2a3f5f\"},\"type\":\"carpet\"}],\"choropleth\":[{\"colorbar\":{\"outlinewidth\":0,\"ticks\":\"\"},\"type\":\"choropleth\"}],\"contour\":[{\"colorbar\":{\"outlinewidth\":0,\"ticks\":\"\"},\"colorscale\":[[0.0,\"#0d0887\"],[0.1111111111111111,\"#46039f\"],[0.2222222222222222,\"#7201a8\"],[0.3333333333333333,\"#9c179e\"],[0.4444444444444444,\"#bd3786\"],[0.5555555555555556,\"#d8576b\"],[0.6666666666666666,\"#ed7953\"],[0.7777777777777778,\"#fb9f3a\"],[0.8888888888888888,\"#fdca26\"],[1.0,\"#f0f921\"]],\"type\":\"contour\"}],\"contourcarpet\":[{\"colorbar\":{\"outlinewidth\":0,\"ticks\":\"\"},\"type\":\"contourcarpet\"}],\"heatmap\":[{\"colorbar\":{\"outlinewidth\":0,\"ticks\":\"\"},\"colorscale\":[[0.0,\"#0d0887\"],[0.1111111111111111,\"#46039f\"],[0.2222222222222222,\"#7201a8\"],[0.3333333333333333,\"#9c179e\"],[0.4444444444444444,\"#bd3786\"],[0.5555555555555556,\"#d8576b\"],[0.6666666666666666,\"#ed7953\"],[0.7777777777777778,\"#fb9f3a\"],[0.8888888888888888,\"#fdca26\"],[1.0,\"#f0f921\"]],\"type\":\"heatmap\"}],\"heatmapgl\":[{\"colorbar\":{\"outlinewidth\":0,\"ticks\":\"\"},\"colorscale\":[[0.0,\"#0d0887\"],[0.1111111111111111,\"#46039f\"],[0.2222222222222222,\"#7201a8\"],[0.3333333333333333,\"#9c179e\"],[0.4444444444444444,\"#bd3786\"],[0.5555555555555556,\"#d8576b\"],[0.6666666666666666,\"#ed7953\"],[0.7777777777777778,\"#fb9f3a\"],[0.8888888888888888,\"#fdca26\"],[1.0,\"#f0f921\"]],\"type\":\"heatmapgl\"}],\"histogram\":[{\"marker\":{\"pattern\":{\"fillmode\":\"overlay\",\"size\":10,\"solidity\":0.2}},\"type\":\"histogram\"}],\"histogram2d\":[{\"colorbar\":{\"outlinewidth\":0,\"ticks\":\"\"},\"colorscale\":[[0.0,\"#0d0887\"],[0.1111111111111111,\"#46039f\"],[0.2222222222222222,\"#7201a8\"],[0.3333333333333333,\"#9c179e\"],[0.4444444444444444,\"#bd3786\"],[0.5555555555555556,\"#d8576b\"],[0.6666666666666666,\"#ed7953\"],[0.7777777777777778,\"#fb9f3a\"],[0.8888888888888888,\"#fdca26\"],[1.0,\"#f0f921\"]],\"type\":\"histogram2d\"}],\"histogram2dcontour\":[{\"colorbar\":{\"outlinewidth\":0,\"ticks\":\"\"},\"colorscale\":[[0.0,\"#0d0887\"],[0.1111111111111111,\"#46039f\"],[0.2222222222222222,\"#7201a8\"],[0.3333333333333333,\"#9c179e\"],[0.4444444444444444,\"#bd3786\"],[0.5555555555555556,\"#d8576b\"],[0.6666666666666666,\"#ed7953\"],[0.7777777777777778,\"#fb9f3a\"],[0.8888888888888888,\"#fdca26\"],[1.0,\"#f0f921\"]],\"type\":\"histogram2dcontour\"}],\"mesh3d\":[{\"colorbar\":{\"outlinewidth\":0,\"ticks\":\"\"},\"type\":\"mesh3d\"}],\"parcoords\":[{\"line\":{\"colorbar\":{\"outlinewidth\":0,\"ticks\":\"\"}},\"type\":\"parcoords\"}],\"pie\":[{\"automargin\":true,\"type\":\"pie\"}],\"scatter\":[{\"marker\":{\"colorbar\":{\"outlinewidth\":0,\"ticks\":\"\"}},\"type\":\"scatter\"}],\"scatter3d\":[{\"line\":{\"colorbar\":{\"outlinewidth\":0,\"ticks\":\"\"}},\"marker\":{\"colorbar\":{\"outlinewidth\":0,\"ticks\":\"\"}},\"type\":\"scatter3d\"}],\"scattercarpet\":[{\"marker\":{\"colorbar\":{\"outlinewidth\":0,\"ticks\":\"\"}},\"type\":\"scattercarpet\"}],\"scattergeo\":[{\"marker\":{\"colorbar\":{\"outlinewidth\":0,\"ticks\":\"\"}},\"type\":\"scattergeo\"}],\"scattergl\":[{\"marker\":{\"colorbar\":{\"outlinewidth\":0,\"ticks\":\"\"}},\"type\":\"scattergl\"}],\"scattermapbox\":[{\"marker\":{\"colorbar\":{\"outlinewidth\":0,\"ticks\":\"\"}},\"type\":\"scattermapbox\"}],\"scatterpolar\":[{\"marker\":{\"colorbar\":{\"outlinewidth\":0,\"ticks\":\"\"}},\"type\":\"scatterpolar\"}],\"scatterpolargl\":[{\"marker\":{\"colorbar\":{\"outlinewidth\":0,\"ticks\":\"\"}},\"type\":\"scatterpolargl\"}],\"scatterternary\":[{\"marker\":{\"colorbar\":{\"outlinewidth\":0,\"ticks\":\"\"}},\"type\":\"scatterternary\"}],\"surface\":[{\"colorbar\":{\"outlinewidth\":0,\"ticks\":\"\"},\"colorscale\":[[0.0,\"#0d0887\"],[0.1111111111111111,\"#46039f\"],[0.2222222222222222,\"#7201a8\"],[0.3333333333333333,\"#9c179e\"],[0.4444444444444444,\"#bd3786\"],[0.5555555555555556,\"#d8576b\"],[0.6666666666666666,\"#ed7953\"],[0.7777777777777778,\"#fb9f3a\"],[0.8888888888888888,\"#fdca26\"],[1.0,\"#f0f921\"]],\"type\":\"surface\"}],\"table\":[{\"cells\":{\"fill\":{\"color\":\"#EBF0F8\"},\"line\":{\"color\":\"white\"}},\"header\":{\"fill\":{\"color\":\"#C8D4E3\"},\"line\":{\"color\":\"white\"}},\"type\":\"table\"}]},\"layout\":{\"annotationdefaults\":{\"arrowcolor\":\"#2a3f5f\",\"arrowhead\":0,\"arrowwidth\":1},\"autotypenumbers\":\"strict\",\"coloraxis\":{\"colorbar\":{\"outlinewidth\":0,\"ticks\":\"\"}},\"colorscale\":{\"diverging\":[[0,\"#8e0152\"],[0.1,\"#c51b7d\"],[0.2,\"#de77ae\"],[0.3,\"#f1b6da\"],[0.4,\"#fde0ef\"],[0.5,\"#f7f7f7\"],[0.6,\"#e6f5d0\"],[0.7,\"#b8e186\"],[0.8,\"#7fbc41\"],[0.9,\"#4d9221\"],[1,\"#276419\"]],\"sequential\":[[0.0,\"#0d0887\"],[0.1111111111111111,\"#46039f\"],[0.2222222222222222,\"#7201a8\"],[0.3333333333333333,\"#9c179e\"],[0.4444444444444444,\"#bd3786\"],[0.5555555555555556,\"#d8576b\"],[0.6666666666666666,\"#ed7953\"],[0.7777777777777778,\"#fb9f3a\"],[0.8888888888888888,\"#fdca26\"],[1.0,\"#f0f921\"]],\"sequentialminus\":[[0.0,\"#0d0887\"],[0.1111111111111111,\"#46039f\"],[0.2222222222222222,\"#7201a8\"],[0.3333333333333333,\"#9c179e\"],[0.4444444444444444,\"#bd3786\"],[0.5555555555555556,\"#d8576b\"],[0.6666666666666666,\"#ed7953\"],[0.7777777777777778,\"#fb9f3a\"],[0.8888888888888888,\"#fdca26\"],[1.0,\"#f0f921\"]]},\"colorway\":[\"#636efa\",\"#EF553B\",\"#00cc96\",\"#ab63fa\",\"#FFA15A\",\"#19d3f3\",\"#FF6692\",\"#B6E880\",\"#FF97FF\",\"#FECB52\"],\"font\":{\"color\":\"#2a3f5f\"},\"geo\":{\"bgcolor\":\"white\",\"lakecolor\":\"white\",\"landcolor\":\"#E5ECF6\",\"showlakes\":true,\"showland\":true,\"subunitcolor\":\"white\"},\"hoverlabel\":{\"align\":\"left\"},\"hovermode\":\"closest\",\"mapbox\":{\"style\":\"light\"},\"paper_bgcolor\":\"white\",\"plot_bgcolor\":\"#E5ECF6\",\"polar\":{\"angularaxis\":{\"gridcolor\":\"white\",\"linecolor\":\"white\",\"ticks\":\"\"},\"bgcolor\":\"#E5ECF6\",\"radialaxis\":{\"gridcolor\":\"white\",\"linecolor\":\"white\",\"ticks\":\"\"}},\"scene\":{\"xaxis\":{\"backgroundcolor\":\"#E5ECF6\",\"gridcolor\":\"white\",\"gridwidth\":2,\"linecolor\":\"white\",\"showbackground\":true,\"ticks\":\"\",\"zerolinecolor\":\"white\"},\"yaxis\":{\"backgroundcolor\":\"#E5ECF6\",\"gridcolor\":\"white\",\"gridwidth\":2,\"linecolor\":\"white\",\"showbackground\":true,\"ticks\":\"\",\"zerolinecolor\":\"white\"},\"zaxis\":{\"backgroundcolor\":\"#E5ECF6\",\"gridcolor\":\"white\",\"gridwidth\":2,\"linecolor\":\"white\",\"showbackground\":true,\"ticks\":\"\",\"zerolinecolor\":\"white\"}},\"shapedefaults\":{\"line\":{\"color\":\"#2a3f5f\"}},\"ternary\":{\"aaxis\":{\"gridcolor\":\"white\",\"linecolor\":\"white\",\"ticks\":\"\"},\"baxis\":{\"gridcolor\":\"white\",\"linecolor\":\"white\",\"ticks\":\"\"},\"bgcolor\":\"#E5ECF6\",\"caxis\":{\"gridcolor\":\"white\",\"linecolor\":\"white\",\"ticks\":\"\"}},\"title\":{\"x\":0.05},\"xaxis\":{\"automargin\":true,\"gridcolor\":\"white\",\"linecolor\":\"white\",\"ticks\":\"\",\"title\":{\"standoff\":15},\"zerolinecolor\":\"white\",\"zerolinewidth\":2},\"yaxis\":{\"automargin\":true,\"gridcolor\":\"white\",\"linecolor\":\"white\",\"ticks\":\"\",\"title\":{\"standoff\":15},\"zerolinecolor\":\"white\",\"zerolinewidth\":2}}},\"xaxis\":{\"anchor\":\"y\",\"domain\":[0.0,1.0],\"title\":{\"text\":\"X\"}},\"yaxis\":{\"anchor\":\"x\",\"domain\":[0.0,1.0],\"title\":{\"text\":\"Y\"}}},                        {\"responsive\": true}                    ).then(function(){\n                            \nvar gd = document.getElementById('29f797c8-a71d-4bcd-a055-4d75f7f96a3e');\nvar x = new MutationObserver(function (mutations, observer) {{\n        var display = window.getComputedStyle(gd).display;\n        if (!display || display === 'none') {{\n            console.log([gd, 'removed!']);\n            Plotly.purge(gd);\n            observer.disconnect();\n        }}\n}});\n\n// Listen for the removal of the full notebook cells\nvar notebookContainer = gd.closest('#notebook-container');\nif (notebookContainer) {{\n    x.observe(notebookContainer, {childList: true});\n}}\n\n// Listen for the clearing of the current output cell\nvar outputEl = gd.closest('.output');\nif (outputEl) {{\n    x.observe(outputEl, {childList: true});\n}}\n\n                        })                };                });            </script>        </div>"
     },
     "metadata": {},
     "output_type": "display_data"
    }
   ],
   "source": [
    "# Scatter plot of specific words clusters\n",
    "fig = px.scatter(df, x='X', y='Y',\n",
    "                 color=df.word_cluster,\n",
    "                 labels={'color': 'word'},\n",
    "                 hover_data=[\"word\"])\n",
    "fig"
   ],
   "metadata": {
    "collapsed": false,
    "pycharm": {
     "name": "#%%\n"
    }
   }
  },
  {
   "cell_type": "code",
   "execution_count": null,
   "outputs": [],
   "source": [],
   "metadata": {
    "collapsed": false,
    "pycharm": {
     "name": "#%%\n"
    }
   }
  }
 ],
 "metadata": {
  "kernelspec": {
   "display_name": "Python 3",
   "language": "python",
   "name": "python3"
  },
  "language_info": {
   "codemirror_mode": {
    "name": "ipython",
    "version": 2
   },
   "file_extension": ".py",
   "mimetype": "text/x-python",
   "name": "python",
   "nbconvert_exporter": "python",
   "pygments_lexer": "ipython2",
   "version": "2.7.6"
  }
 },
 "nbformat": 4,
 "nbformat_minor": 0
}