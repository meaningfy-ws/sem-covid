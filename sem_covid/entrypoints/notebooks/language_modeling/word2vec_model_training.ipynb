{
 "cells": [
  {
   "cell_type": "markdown",
   "source": [
    "## Word2vec model training\n",
    "#### Model training based on three datasets' text data:\n",
    "- M1: pwdb + eu_timeline  ( +  ireland_timeline )\n",
    "- M2: ds_eu_cellar\n",
    "- M3: M1+M2\n",
    "\n",
    "#### Extract NOUN and NOUN PHRASES from each text data\n",
    "#### Train the word2vec model with each dataset's textual data"
   ],
   "metadata": {
    "collapsed": false
   }
  },
  {
   "cell_type": "markdown",
   "source": [
    "### Import libraries"
   ],
   "metadata": {
    "collapsed": false
   }
  },
  {
   "cell_type": "code",
   "execution_count": 1,
   "outputs": [],
   "source": [
    "import sys\n",
    "\n",
    "sys.path.append(\"/home/jovyan/work/sem-covid/\")\n",
    "sys.path = list(set(sys.path))\n",
    "\n",
    "import os\n",
    "\n",
    "os.getcwd()\n",
    "os.chdir('/home/jovyan/work/sem-covid/')\n",
    "\n",
    "import warnings\n",
    "\n",
    "warnings.filterwarnings(\"ignore\")\n",
    "\n",
    "import numpy as np\n",
    "\n",
    "from sem_covid.services.store_registry import store_registry\n",
    "from sem_covid.services.language_model_execution_steps import LanguageModelExecutionSteps\n",
    "from sem_covid.entrypoints.notebooks.language_modeling.language_model_tools.graph_handling import (\n",
    "    create_graph_for_language_model_key_words)\n",
    "from typing import List\n",
    "import time"
   ],
   "metadata": {
    "collapsed": false,
    "pycharm": {
     "name": "#%%\n"
    }
   }
  },
  {
   "cell_type": "code",
   "execution_count": 106,
   "outputs": [],
   "source": [
    "\n",
    "import pickle\n",
    "import re\n",
    "from typing import List, Tuple\n",
    "\n",
    "import pandas as pd\n",
    "import spacy\n",
    "from gensim.models import Word2Vec\n",
    "from gensim.parsing.preprocessing import remove_stopwords\n",
    "\n",
    "from sem_covid.services.store_registry import store_registry\n",
    "\n",
    "from sem_covid.adapters.embedding_models import BasicSentenceSplitterModel\n",
    "\n",
    "from nltk.corpus import words\n",
    "import enchant\n",
    "\n",
    "en_words = set(words.words())\n",
    "d = enchant.Dict(\"en_US\")\n",
    "\n",
    "nlp = spacy.load('en_core_web_sm')\n",
    "nlp.max_length = 5000000\n",
    "WINDOW = 5\n",
    "MIN_COUNT = 1\n",
    "VECTOR_SIZE = 300\n",
    "LANGUAGE_MODEL_MINIO_FOLDER = 'word2vec/'\n",
    "LANGUAGE_MODEL_BUCKET_NAME = 'mdl-language'\n",
    "\n",
    "\n",
    "\n",
    "\n",
    "\n",
    "def apply_cleaning_functions(document_corpus: list) -> list:\n",
    "    \"\"\"\n",
    "    This function receives the document and leads through cleaning steps\n",
    "    Args:\n",
    "        document_corpus: dataset document corpus\n",
    "\n",
    "    Returns: clean document corpus\n",
    "    \"\"\"\n",
    "    splitter = BasicSentenceSplitterModel()\n",
    "    textual_data = '. '.join(document_corpus)\n",
    "    splitted_text = splitter.split(textual_data)\n",
    "    splitted_long_text = [sent for sent in splitted_text if len(sent) > 10]\n",
    "    cleaned_text = list(set([sent for sent in list(map(clean_text, splitted_long_text)) if sent]))\n",
    "    return cleaned_text\n"
   ],
   "metadata": {
    "collapsed": false,
    "pycharm": {
     "name": "#%%\n"
    }
   }
  },
  {
   "cell_type": "code",
   "execution_count": 184,
   "outputs": [],
   "source": [
    "def clean_text(text: str) -> str:\n",
    "    tmp_text = re.sub(' +', ' ', re.sub(r',', ' , ', re.sub(r'[^a-zA-Z_ ]', ' ', text))).lower()\n",
    "    tmp_words = tmp_text.split(' ')\n",
    "    result_words = []\n",
    "    for word in tmp_words:\n",
    "        if word==\",\":\n",
    "            result_words.append(word)\n",
    "        elif len(word)>3 and (word in en_words or d.check(word)):\n",
    "            result_words.append(word)\n",
    "    if len(result_words) > 3:\n",
    "        return ' '.join(result_words)\n",
    "    else:\n",
    "        return ''"
   ],
   "metadata": {
    "collapsed": false,
    "pycharm": {
     "name": "#%%\n"
    }
   }
  },
  {
   "cell_type": "markdown",
   "source": [
    "# economic\n",
    "## Define constants"
   ],
   "metadata": {
    "collapsed": false
   }
  },
  {
   "cell_type": "code",
   "execution_count": 2,
   "outputs": [],
   "source": [
    "DEFAULT_TEXTUAL_CLASS = ['Title', 'Content']\n",
    "\n",
    "PWDB_TEXTUAL_CLASS = ['title', 'background_info_description', 'content_of_measure_description',\n",
    "                      'country', 'category', 'subcategory', 'target_groups']\n",
    "\n",
    "EU_CELLAR_TEXTUAL_CLASS = ['title', 'content', 'eurovoc_concept_labels', 'subject_matter_labels',\n",
    "                           'directory_codes_labels']\n",
    "\n",
    "IRELAND_ACTION_TIMELINE_CLASS = ['title', 'content', 'keyword']\n",
    "\n",
    "EU_ACTION_TIMELINE_CLASS = ['abstract', 'title', 'topics', 'detail_content']\n",
    "\n",
    "KEY_WORDS_FOR_ALL_MODELS = [\"eu\", \"national\", \"work\", \"aid\", \"coronavirus\", \"covid19\", \"measures\",\n",
    "                            \"vaccine\", \"minister\", \"government\", \"organisations\",\n",
    "                            \"agreement\", \"unemployment\", \"insurance\", \"reorientation\", \"economy\",\n",
    "                            \"economic\", \"innovation\", \"research\", \"development\", \"risk\", \"transport\"]\n",
    "\n",
    "COUNTRIES = ['austria', 'belgium', 'bulgaria', 'croatia', 'cyprus', 'czechia', 'denmark', 'estonia',\n",
    "             'european_union', 'finland', 'france', 'germany', 'greece', 'hungary', 'ireland', 'italy',\n",
    "             'latvia', 'lithuania', 'luxembourg', 'malta', 'netherlands', 'norway', 'poland', 'portugal',\n",
    "             'romania', 'slovakia', 'slovenia', 'spain', 'sweden', 'united_kingdom']\n",
    "\n",
    "CATEGORY = ['retention', 'workplace', 'labour', 'recovery', 'adaptation',\n",
    "            'protection', 'essential', 'business_continuity',\n",
    "            'services', 'social', 'market']\n",
    "\n",
    "SUBCATEGORY = ['safety', 'arrangements', 'health', 'spending', 'working', 'support', 'occupational',\n",
    "               'stimulus_packages', 'access', 'time', 'finance', 'remote', 'flexibility',\n",
    "               'essential_services', 'remuneration']\n",
    "\n",
    "TARGET_GROUPS_L1 = ['businesses', 'workers', 'citizens']\n",
    "\n",
    "TARGET_GROUPS_L2 = ['company', 'older', 'people', 'female', 'aged', 'corporations',\n",
    "                    'single', 'person', 'forms', 'smes', 'ups', 'single_parents',\n",
    "                    'citizens', 'professions', 'parents', 'groups', 'youth',\n",
    "                    'sector', 'women', 'unemployed', 'care', 'facilities', 'standard',\n",
    "                    'specific', 'contractors', 'children', 'border', 'refugees',\n",
    "                    'minors', 'platform', 'employment', 'seasonal', 'disabled', 'migrants',\n",
    "                    'risk_group', 'commuters']\n",
    "\n",
    "FUNDING = ['companies', 'national_funds', 'employer', 'funds', 'european_funds', 'no_special_funding_required',\n",
    "           'regional_funds', 'local_funds', 'employers_organization', 'employees']\n",
    "\n",
    "WORDS_PACK1 = {'category': CATEGORY,\n",
    "               'subcategory': SUBCATEGORY,\n",
    "               'countries': COUNTRIES,\n",
    "               'target_groups_l1': TARGET_GROUPS_L1,\n",
    "               'target_groups_l2': TARGET_GROUPS_L2,\n",
    "               'funding': FUNDING}\n",
    "\n",
    "WORDS_PACK2 = {'keywords': KEY_WORDS_FOR_ALL_MODELS}\n",
    "\n",
    "MODEL_WORDS_PACKS = (WORDS_PACK1, WORDS_PACK1, WORDS_PACK2)\n",
    "\n",
    "MODEL_NAMES = ('model1', 'model2', 'model3')\n",
    "\n",
    "FILE_NAMES = ('model1_language_model.model',\n",
    "              'model2_language_model.model',\n",
    "              'model3_language_model.model'\n",
    "              )\n",
    "\n",
    "SIMILARITY_MATRIX_BUCKET_NAME = 'semantic-similarity-matrices'\n",
    "\n",
    "COSINE_SIMILARITY_MATRICES = ('model1_cosine_matrix.pkl',\n",
    "                              'model2_cosine_matrix.pkl',\n",
    "                              'model3_cosine_matrix.pkl'\n",
    "                              )"
   ],
   "metadata": {
    "collapsed": false,
    "pycharm": {
     "name": "#%%\n"
    }
   }
  },
  {
   "cell_type": "markdown",
   "source": [
    "## Data preprocessing\n",
    "- data cleanup\n",
    "- turn corpus into spacy document\n"
   ],
   "metadata": {
    "collapsed": false
   }
  },
  {
   "cell_type": "markdown",
   "source": [
    "## Experiment Nr#1 language model based on:\n",
    "- PWDB\n",
    "- eu-timeline\n",
    "- ireland-timeline\n",
    "\n",
    "## Experiment Nr#2 language model based on:\n",
    "- eu-cellar\n",
    "\n",
    "## Experiment Nr#3 language model based on:\n",
    "- PWDB\n",
    "- eu-timeline\n",
    "- ireland-timeline\n",
    "- eu-cellar\n"
   ],
   "metadata": {
    "collapsed": false
   }
  },
  {
   "cell_type": "code",
   "execution_count": 3,
   "outputs": [
    {
     "name": "stderr",
     "output_type": "stream",
     "text": [
      "100% (4126 of 4126) |####################| Elapsed Time: 0:00:00 Time:  0:00:00\n"
     ]
    }
   ],
   "source": [
    "ds_unified = store_registry.es_index_store().get_dataframe('ds_unified_datasets')"
   ],
   "metadata": {
    "collapsed": false,
    "pycharm": {
     "name": "#%%\n"
    }
   }
  },
  {
   "cell_type": "code",
   "execution_count": 4,
   "outputs": [],
   "source": [
    "model1_df = ds_unified.query('Document_source != \"eu_cellar\"')\n",
    "model2_df = ds_unified.query('Document_source == \"eu_cellar\"')\n",
    "model3_df = ds_unified\n"
   ],
   "metadata": {
    "collapsed": false,
    "pycharm": {
     "name": "#%%\n"
    }
   }
  },
  {
   "cell_type": "code",
   "execution_count": 5,
   "outputs": [],
   "source": [
    "MODEL_DATASET_SOURCES_CONFIGS = (\n",
    "    [\n",
    "        (model1_df, DEFAULT_TEXTUAL_CLASS),\n",
    "    ],\n",
    "    [\n",
    "        (model2_df, DEFAULT_TEXTUAL_CLASS),\n",
    "    ],\n",
    "    [\n",
    "        (model3_df, DEFAULT_TEXTUAL_CLASS),\n",
    "    ]\n",
    ")\n"
   ],
   "metadata": {
    "collapsed": false,
    "pycharm": {
     "name": "#%%\n"
    }
   }
  },
  {
   "cell_type": "code",
   "execution_count": 225,
   "outputs": [],
   "source": [
    "\n",
    "\n",
    "\n",
    "from spacy.tokens.doc import Doc\n",
    "\n",
    "\n",
    "def document_atomization_noun_phrases(document: Doc) -> str:\n",
    "    \"\"\"\n",
    "        Detects each noun phrase from inserted spacy document and transforms it\n",
    "        into integrate single token\n",
    "        :document: spacy document\n",
    "        :return: The same document, but with atomized noun phrases\n",
    "    \"\"\"\n",
    "    sentence = ' '.join([word.lemma_ for word in document])\n",
    "    for noun_phrase in document.noun_chunks:\n",
    "        noun_phrase_lemma = [x.lemma_ for x in noun_phrase]\n",
    "        sequence = \" \".join(\n",
    "            [token for token in noun_phrase_lemma if token != \"\" and token != \" \"])\n",
    "        sequence_without_stopwords = remove_stopwords(sequence)\n",
    "        sentence = sentence.replace(sequence, sequence_without_stopwords.replace(' ', '_'))\n",
    "\n",
    "    return sentence"
   ],
   "metadata": {
    "collapsed": false,
    "pycharm": {
     "name": "#%%\n"
    }
   }
  },
  {
   "cell_type": "code",
   "execution_count": 223,
   "outputs": [],
   "source": [
    "doc = nlp('I am the president of unitated states')\n"
   ],
   "metadata": {
    "collapsed": false,
    "pycharm": {
     "name": "#%%\n"
    }
   }
  },
  {
   "cell_type": "code",
   "execution_count": 230,
   "outputs": [
    {
     "name": "stdout",
     "output_type": "stream",
     "text": [
      "0\n",
      "1\n",
      "5\n",
      "18\n",
      "22\n",
      "37\n"
     ]
    }
   ],
   "source": [
    "for noun_phrase in doc.noun_chunks:\n",
    "    print(noun_phrase.start_char)\n",
    "    print(noun_phrase.end_char)\n"
   ],
   "metadata": {
    "collapsed": false,
    "pycharm": {
     "name": "#%%\n"
    }
   }
  },
  {
   "cell_type": "code",
   "execution_count": 226,
   "outputs": [
    {
     "data": {
      "text/plain": "'I be president of unitated_state'"
     },
     "execution_count": 226,
     "metadata": {},
     "output_type": "execute_result"
    }
   ],
   "source": [
    "document_atomization_noun_phrases(doc)"
   ],
   "metadata": {
    "collapsed": false,
    "pycharm": {
     "name": "#%%\n"
    }
   }
  },
  {
   "cell_type": "code",
   "execution_count": 175,
   "outputs": [],
   "source": [
    "class LanguageModelPipeline:\n",
    "    \"\"\"\n",
    "        This pipeline executes the steps for word2vec language training.\n",
    "    \"\"\"\n",
    "\n",
    "    def __init__(self, dataset_source: pd.DataFrame, textual_columns: List[str], language_model_name: str):\n",
    "        \"\"\"\n",
    "            :param dataset_sources: represents the source of the datasets.\n",
    "        \"\"\"\n",
    "        self.dataset_source = dataset_source\n",
    "        self.textual_columns = textual_columns\n",
    "        self.language_model_name = language_model_name\n",
    "        self.documents_corpus = pd.Series()\n",
    "        self.word2vec = None\n",
    "        self.steps = [self.extract_textual_data,\n",
    "                      self.clean_textual_data,\n",
    "                      self.transform_to_spacy_doc,\n",
    "                      self.extract_features,\n",
    "                      self.model_training,\n",
    "                      self.save_language_model\n",
    "                      ]\n",
    "\n",
    "    def extract_textual_data(self):\n",
    "        \"\"\"\n",
    "            After downloading the datasets, the textual data will be found and and concatenated\n",
    "            with executing of several steps as well. It will fill the NaN values with empty space,\n",
    "            add a dot at the end of each concatenated column and reset the index.\n",
    "        \"\"\"\n",
    "        self.documents_corpus = (self.dataset_source[self.textual_columns]\n",
    "                                 .fillna(value=\"\")\n",
    "                                 .agg('. '.join, axis=1).values\n",
    "                                 )\n",
    "\n",
    "    def clean_textual_data(self):\n",
    "        \"\"\"\n",
    "            The next step is data cleaning. In this step the function \"apply_cleaning_functions\"\n",
    "            applies the following actions:\n",
    "                - clean the document from specific characters\n",
    "                - delete unicode\n",
    "                - removes emails and URLs and currency symbols\n",
    "        \"\"\"\n",
    "        self.documents_corpus = apply_cleaning_functions(self.documents_corpus)\n",
    "\n",
    "\n",
    "    def transform_to_spacy_doc(self):\n",
    "        \"\"\"\n",
    "            When the document is clean, is going to be transform into spacy document\n",
    "        \"\"\"\n",
    "        self.documents_corpus = list(nlp.pipe(self.documents_corpus))\n",
    "\n",
    "    def extract_features(self):\n",
    "        \"\"\"\n",
    "            To extract the parts of speech, below it was defined classes for each token is necessary.\n",
    "        \"\"\"\n",
    "        self.documents_corpus = list(map(document_atomization_noun_phrases, self.documents_corpus))\n",
    "        self.documents_corpus = list(map(remove_stopwords,self.documents_corpus))\n",
    "\n",
    "\n",
    "\n",
    "    def model_training(self):\n",
    "        \"\"\"\n",
    "            When the data is prepared it's stored into Word2Vec model.\n",
    "        \"\"\"\n",
    "        self.word2vec = Word2Vec(sentences=list(map(lambda x: x.split(' '), self.documents_corpus)),\n",
    "                                 window=WINDOW,\n",
    "                                 min_count=MIN_COUNT, vector_size=VECTOR_SIZE)\n",
    "\n",
    "    def save_language_model(self):\n",
    "        \"\"\"\n",
    "            Saves trained model in MinIO\n",
    "        \"\"\"\n",
    "        minio = store_registry.minio_object_store(LANGUAGE_MODEL_BUCKET_NAME)\n",
    "        minio.put_object(LANGUAGE_MODEL_MINIO_FOLDER + self.language_model_name, pickle.dumps(self.word2vec))\n",
    "\n",
    "    def execute(self):\n",
    "        \"\"\"\n",
    "            The final step is execution, where are stored each step and it will be executed in a row\n",
    "        \"\"\"\n",
    "        for step in self.steps:\n",
    "            start_time = time.time()\n",
    "            print(f'Start: {step.__name__}')\n",
    "            step()\n",
    "            end_time = time.time()\n",
    "            print(f'Finish: {step.__name__}')\n",
    "            print(f'Time elapsed: {round(end_time - start_time, 4)} seconds')\n"
   ],
   "metadata": {
    "collapsed": false,
    "pycharm": {
     "name": "#%%\n"
    }
   }
  },
  {
   "cell_type": "code",
   "execution_count": 185,
   "outputs": [
    {
     "name": "stdout",
     "output_type": "stream",
     "text": [
      "Start: extract_textual_data\n",
      "Finish: extract_textual_data\n",
      "Time elapsed: 0.1087 seconds\n",
      "Start: clean_textual_data\n",
      "Finish: clean_textual_data\n",
      "Time elapsed: 3.6553 seconds\n",
      "Start: transform_to_spacy_doc\n",
      "Finish: transform_to_spacy_doc\n",
      "Time elapsed: 58.8227 seconds\n",
      "Start: extract_features\n",
      "Finish: extract_features\n",
      "Time elapsed: 1.7391 seconds\n",
      "Start: model_training\n",
      "Finish: model_training\n",
      "Time elapsed: 4.0717 seconds\n",
      "Start: save_language_model\n",
      "Finish: save_language_model\n",
      "Time elapsed: 1.0615 seconds\n"
     ]
    }
   ],
   "source": [
    "lang_model_pipeline = LanguageModelPipeline(dataset_source=model1_df,\n",
    "                                            textual_columns=DEFAULT_TEXTUAL_CLASS,\n",
    "                                            language_model_name=MODEL_NAMES[0])\n",
    "\n",
    "lang_model_pipeline.execute()"
   ],
   "metadata": {
    "collapsed": false,
    "pycharm": {
     "name": "#%%\n"
    }
   }
  },
  {
   "cell_type": "code",
   "execution_count": 151,
   "outputs": [],
   "source": [
    "minio = store_registry.minio_object_store(LANGUAGE_MODEL_BUCKET_NAME)"
   ],
   "metadata": {
    "collapsed": false,
    "pycharm": {
     "name": "#%%\n"
    }
   }
  },
  {
   "cell_type": "code",
   "execution_count": 186,
   "outputs": [],
   "source": [
    "keyed_vector = pickle.loads(minio.get_object(LANGUAGE_MODEL_MINIO_FOLDER + 'model1'))"
   ],
   "metadata": {
    "collapsed": false,
    "pycharm": {
     "name": "#%%\n"
    }
   }
  },
  {
   "cell_type": "code",
   "execution_count": 187,
   "outputs": [
    {
     "data": {
      "text/plain": "118320"
     },
     "execution_count": 187,
     "metadata": {},
     "output_type": "execute_result"
    }
   ],
   "source": [
    "len(keyed_vector.wv.index_to_key)"
   ],
   "metadata": {
    "collapsed": false,
    "pycharm": {
     "name": "#%%\n"
    }
   }
  },
  {
   "cell_type": "code",
   "execution_count": 188,
   "outputs": [],
   "source": [
    "words = keyed_vector.wv.index_to_key"
   ],
   "metadata": {
    "collapsed": false,
    "pycharm": {
     "name": "#%%\n"
    }
   }
  },
  {
   "cell_type": "code",
   "execution_count": 189,
   "outputs": [
    {
     "data": {
      "text/plain": "['',\n 'abandon',\n 'abandon_loyalty',\n 'abate',\n 'abattoir_blood_sample',\n 'abbey',\n 'abbey_arts_council_screen',\n 'abbey_convenience_retail_consulting_green_cross_pharmacy_limerick_university_pharmacy_blackberry',\n 'abbreviate',\n 'abbreviate_special_follow_initial_regulation',\n 'abdicate',\n 'abdominal_pain_nausea_fatigue',\n 'abhorrent',\n 'abide',\n 'abide_government_guideline',\n 'abide_health_safety_precaution',\n 'abide_medical_advice_self_isolate',\n 'abide_public_health_advice',\n 'abigail',\n 'ability',\n 'ability_analyse_knowledge',\n 'ability_company',\n 'ability_condense_idea',\n 'ability_county_county',\n 'ability_enterprise',\n 'ability_institution',\n 'ability_mount_immune_response',\n 'ability_nation',\n 'ability_point',\n 'ability_provider',\n 'ability_purchase_grocery',\n 'ability_recover',\n 'ability_transform_bathroom',\n 'ability_virus_cause',\n 'ability_west',\n 'ability_work',\n 'able',\n 'able_access',\n 'able_access_care',\n 'able_access_subject_percentage_mark',\n 'able_access_support',\n 'able_apply_trading_company',\n 'able_approve_funding_project',\n 'able_benefit',\n 'able_charter_special_flight',\n 'able_claim_benefit',\n 'able_defer_payment_employer_contribution_preliminary_salary_value',\n 'able_demonstrate_satisfaction_revenue_minimum_decline_turnover',\n 'able_escape_go_college_early_study_library',\n 'able_fund_final_phase',\n 'able_generate_revenue',\n 'able_guarantee_care_task',\n 'able_home',\n 'able_hotel_accommodation',\n 'able_implement_measure',\n 'able_launch',\n 'able_match',\n 'able_maximum_final_price_good_service',\n 'able_meet_employment_requirement_order',\n 'able_nice_meal_cinema',\n 'able_offer_work',\n 'able_open_same_level_activity',\n 'able_order',\n 'able_overcome_address',\n 'able_provide_help',\n 'able_receive_certificate_temporary_suspension_citizenship_ceremony',\n 'able_reclaim_expenditure_employee',\n 'able_recruit_staff',\n 'able_reopen',\n 'able_respond_date',\n 'able_restart',\n 'able_restart_collection',\n 'able_resume',\n 'able_return_normality',\n 'able_return_school',\n 'able_same_delivery',\n 'able_secure_funding',\n 'able_service',\n 'able_show',\n 'able_spot_change_virus',\n 'able_support',\n 'able_support_project',\n 'able_transfer_airport_onward_flight',\n 'able_travel',\n 'able_travel_experience_wealth_cultural_heritage_attraction',\n 'able_warehouse_certain_liability',\n 'able_withstand_attack_antimicrobial_drug',\n 'able_work',\n 'ably_district_engineer_team',\n 'abnormal_brain_activity',\n 'abnormal_situation',\n 'abnormally_high_level_crime_child',\n 'abolish',\n 'abolish_obligation_employer',\n 'abort',\n 'about_always_coast_cliff',\n 'about_billion_month_period_estimation',\n 'about_choice_long_work',\n 'about_early_possible_issue_college_place',\n 'about_half_company_employee',\n 'about_half_respondent',\n 'about_half_these_company',\n 'about_hundred_activity',\n 'about_million_amount',\n 'about_million_death',\n 'about_million_employee',\n 'about_million_person',\n 'about_most_your_idea',\n 'about_quarter_private_sector_employee',\n 'about_sudden_seismic_change_work_arrangement',\n 'about_which_roughly_cover_fund',\n 'about_zero_project_award_zero_project',\n 'above_importance_budgetary_stability',\n 'above_mention_country',\n 'above_mention_hotel_management',\n 'above_provision',\n 'above_provision_taxpayer',\n 'abreast_development_technology',\n 'abroad',\n 'abroad_accordance',\n 'abroad_city',\n 'abroad_know_contact',\n 'abroad_work_limited_period',\n 'abrupt',\n 'abrupt_reduction_activity',\n 'abrupt_sharp_decrease_activity',\n 'abrupt_sharp_decrease_activity_least_revenue',\n 'absence',\n 'absence_agreement_article',\n 'absence_emergency_stock',\n 'absence_family_care',\n 'absence_firearm',\n 'absence_period',\n 'absence_provision',\n 'absence_symptom',\n 'absence_vaccine_economy_broad_society',\n 'absence_year',\n 'absent',\n 'absent_worker',\n 'absentee_rate',\n 'absolute',\n 'absolute_circumstance',\n 'absolute_commitment_government',\n 'absolute_consensus',\n 'absolute_level_indebtedness_high_rise_financing_condition',\n 'absolute_maximum_weekly_maximum_hour',\n 'absolute_minimum',\n 'absolute_minimum_keep_physical_distance',\n 'absolute_necessity',\n 'absolute_number_case',\n 'absolute_number_people',\n 'absolute_priority',\n 'absolute_priority_battle_covid',\n 'absolute_priority_government',\n 'absolute_priority_overall_response',\n 'absolute_right_move',\n 'absolutely',\n 'absolutely_accurate_term',\n 'absolutely_essential_employee',\n 'absolutely_essential_essential_retail_outlet',\n 'absolutely_initiative_trade_union',\n 'absolutely_necessary_appointment',\n 'absolutely_necessary_attend_person',\n 'absolutely_necessary_attend_person_public_transport_capacity',\n 'absolutely_necessary_comprehensive_list_measure',\n 'absolutely_necessary_need_essential_purpose_wear_mask',\n 'absolutely_necessary_protect_people',\n 'absolutely_necessary_school',\n 'absolutely_necessary_those_people_high_risk',\n 'absolutely_right_thing_order',\n 'absolutely_room_complacency',\n 'absolutely_supportive_policy_measure_long_term_impact',\n 'absolutely_value_contribution',\n 'absolutely_vital_local_community',\n 'absorb',\n 'abstain',\n 'abstract',\n 'abstractly',\n 'abuse',\n 'abuse_disabled_dependent',\n 'abuse_survivor',\n 'abuse_violence',\n 'abused',\n 'abuser',\n 'abusive_employer',\n 'abusive_partner',\n 'abusive_relationship',\n 'abusive_relationship_minister_justice',\n 'abut',\n 'academia',\n 'academia_government_industry',\n 'academia_industry',\n 'academia_industry_government',\n 'academia_tourism',\n 'academic',\n 'academic_achievement',\n 'academic_background',\n 'academic_category_pillar',\n 'academic_category_total_place',\n 'academic_clinical_partnership',\n 'academic_community_sector',\n 'academic_expert',\n 'academic_institution',\n 'academic_institution_hospital',\n 'academic_institution_university_college_trinity_college_royal_college_surgeon_university_college_cork_national_university_university_limerick',\n 'academic_literature_theme',\n 'academic_partner_program',\n 'academic_perspective',\n 'academic_professional_achievement_doctorate_governance_master_management_behaviour',\n 'academic_qualification',\n 'academic_representative_business_farming_community_interest_group',\n 'academic_research',\n 'academic_term',\n 'academic_university_college',\n 'academic_year',\n 'academically',\n 'academy',\n 'academy_gastronomic_association_vets_association_hotel',\n 'academy_national_employer',\n 'academy_place',\n 'academy_social_entrepreneur',\n 'accede',\n 'accede_protocol',\n 'accelerate',\n 'accelerate_access_structural_partial_unemployment',\n 'accelerate_arrival',\n 'accelerate_capital_allowance',\n 'accelerate_delivery',\n 'accelerate_delivery_project',\n 'accelerate_implementation_national_strategy',\n 'accelerate_measure_town_village_renewal_scheme',\n 'accelerate_plan',\n 'accelerate_procedure',\n 'accelerate_procedure_company',\n 'accelerate_progress',\n 'accelerate_return_growth_business_fund',\n 'accelerate_roll_network',\n 'accelerate_roll_vaccine',\n 'accelerate_support_town_village',\n 'accelerate_vaccination',\n 'accelerate_vaccine',\n 'accelerated_measure',\n 'accelerated_project_plan',\n 'acceleration',\n 'acceleration_brain',\n 'acceleration_country',\n 'acceleration_country_vaccination',\n 'acceleration_covid',\n 'acceleration_covid_vaccine',\n 'acceleration_funding',\n 'acceleration_national_broadband_plan_review_treatment_remote_working_purpose',\n 'acceleration_vaccination',\n 'accelerator',\n 'accelerator_criterion',\n 'accelerator_tangent',\n 'accentuate',\n 'accept',\n 'accept_booking',\n 'accept_evidence',\n 'accept_extension_public_health_measure',\n 'accept_plan',\n 'accept_resignation',\n 'accept_stake',\n 'accept_three_quarter_member_state_order',\n 'accept_transfer_proposal_person',\n 'acceptable',\n 'acceptable_alternative_hand',\n 'acceptable_ground_cancellation_employment_relationship',\n 'acceptable_level_vaccination',\n 'acceptable_short_term_long_term_solution',\n 'acceptable_society',\n 'acceptable_standard_good_practice',\n 'acceptable_subject_ability_nursing_home_manage',\n 'acceptance',\n 'acceptance_application',\n 'acceptance_individual_agreement',\n 'acceptance_personal_responsibility_future_care_planning_illness_management',\n 'acceptance_resilience',\n 'access',\n 'access_advanced_procurement_opportunity',\n 'access_advice',\n 'access_advice_training',\n 'access_alternative_support_service_community',\n 'access_amount_rent_subsidy',\n 'access_appeal_process',\n 'access_appropriate_mental_health_service',\n 'access_appropriate_personal_protective_equipment_worker',\n 'access_appropriate_prevention_promotion_service',\n 'access_appropriate_welfare_entitlement_search_assistance_training_opportunity',\n 'access_approve_researcher_data_limit_agree_period',\n 'access_availability_medicine',\n 'access_bank_financing_company',\n 'access_bank_loan',\n 'access_basic_income_scheme',\n 'access_bathroom',\n 'access_benefit_case_cessation_activity',\n 'access_book',\n 'access_bridge_amenity_area',\n 'access_calculate_grade_student_portal',\n 'access_capital_funding',\n 'access_care',\n 'access_care_child',\n 'access_care_child_adolescent',\n 'access_child_benefit_payment',\n 'access_child_benefit_summer',\n 'access_childcare_facility_line',\n 'access_citizen',\n 'access_civil_justice_state',\n 'access_clean_water_basic_health_service',\n 'access_clinical_trial_patient',\n 'access_community_base_drug_alcohol_service',\n 'access_compensation_fix_cost_supplier',\n 'access_consultancy_support',\n 'access_consumer',\n 'access_content_employee_assistance',\n 'access_contractor',\n 'access_control',\n 'access_cost_involve_fight',\n 'access_covid',\n 'access_covid_capital_interest',\n 'access_covid_datum_research',\n 'access_covid_research',\n 'access_covid_vaccine',\n 'access_credit',\n 'access_credit_guarantee_enterprise',\n 'access_credit_guarantee_scheme',\n 'access_credit_novel_business_market_technology_requirement',\n 'access_critical_care_nurse_education_foundation_post_graduate_level',\n 'access_critical_lead_edge_equipment',\n 'access_critical_lead_edge_equipment_infrastructure',\n 'access_cultural_sector_exist_future_cross_sector_instrument',\n 'access_customer',\n 'access_cycle_walk_trail',\n 'access_datum',\n 'access_datum_research_purpose',\n 'access_datum_researcher_datum_portal',\n 'access_department_foreign_affair_website',\n 'access_device',\n 'access_device_essential_learning_platform',\n 'access_diagnostic_service',\n 'access_digital_device',\n 'access_direct_wheel',\n 'access_disability_office_guidance_service_minister',\n 'access_education',\n 'access_educational_opportunity',\n 'access_educational_opportunity_income_household',\n 'access_efficiency_provision',\n 'access_emerge_treatment',\n 'access_employee',\n 'access_employment',\n 'access_employment_advisor_case_officer',\n 'access_employment_quality_job',\n 'access_employment_scheme_scheme_government_employment_training_agency_foster_recruitment',\n 'access_employment_self_employment_people',\n 'access_engagement',\n 'access_enterprise_support_grant',\n 'access_enterprise_website',\n 'access_entire_range_support',\n 'access_entitlement',\n 'access_equality',\n 'access_essential_consumable',\n 'access_essential_medicine',\n 'access_essential_service',\n 'access_essential_supply',\n 'access_exist_benefit_child_supplement',\n 'access_expert_advice_training',\n 'access_expertise',\n 'access_extraordinary_payroll_subsidy',\n 'access_facility',\n 'access_facility_order',\n 'access_facility_physical_activity_local_level',\n 'access_finance',\n 'access_finance_capital_market',\n 'access_finance_commence_ramp_online_trading_activity_reconfigure_business_model_cost',\n 'access_finance_small_medium_sized_enterprise',\n 'access_finance_support_turnover_activity_small_medium_sized_enterprise',\n 'access_financial_resource',\n 'access_financing',\n 'access_financing_instability_financial_market',\n 'access_forensic_procedure',\n 'access_fund',\n 'access_funding',\n 'access_good_class_technology',\n 'access_government',\n 'access_government_liquidity_investment_response_covid_impact',\n 'access_grant',\n 'access_grant_come_week',\n 'access_guarantee',\n 'access_health_address_health_inequality',\n 'access_health_care_social_support',\n 'access_health_service',\n 'access_health_service_asylum_seeker',\n 'access_healthcare_educational_resource_website',\n 'access_heart_disease_cancer_screening',\n 'access_high_education',\n 'access_high_education_fund_path',\n 'access_high_education_people',\n 'access_high_education_student',\n 'access_high_speed_broadband',\n 'access_hold_vermin_wild_bird',\n 'access_identity_basic_right',\n 'access_important_medicine',\n 'access_inclusion_model',\n 'access_income',\n 'access_income_saving_credit_payment_service',\n 'access_independent_appeal_scrutineer_service',\n 'access_individual_level_datum',\n 'access_information',\n 'access_information_advice',\n 'access_initial_teacher',\n 'access_initial_teacher_education_student',\n 'access_innovation_total_framework',\n 'access_insure_person_benefit',\n 'access_interest_loan',\n 'access_internet_home',\n 'access_island',\n 'access_issue',\n 'access_justice',\n 'access_justice_court_system',\n 'access_justice_court_system_recommendation',\n 'access_labour_market',\n 'access_learn_resource',\n 'access_library_time',\n 'access_lifelong_education_training',\n 'access_liquidity',\n 'access_loan',\n 'access_loan_facility',\n 'access_loan_financial_assistance_company',\n 'access_loan_help',\n 'access_market',\n 'access_market_educate_skilled_workforce_attractive_environment',\n 'access_measure',\n 'access_medical_card',\n 'access_medical_card_person',\n 'access_medical_care',\n 'access_mental_health_service_scheme',\n 'access_million_public_guarantee',\n 'access_minority_group',\n 'access_national_service_former_resident',\n 'access_necessary_health_service',\n 'access_necessary_liquidity_sustain_business',\n 'access_number_financial_support',\n 'access_office',\n 'access_online_event_host_wheel_association_community_voluntary_charity',\n 'access_outdoor_area',\n 'access_overtime',\n 'access_oxygen',\n 'access_paper',\n 'access_partial_activity',\n 'access_partnership',\n 'access_patient_advocacy_liaison_support_service',\n 'access_payment',\n 'access_percentage',\n 'access_personal_information',\n 'access_personal_protective_equipment',\n 'access_plan',\n 'access_podcast_blog_topic',\n 'access_population',\n 'access_portfolio_vaccine',\n 'access_potential_vaccine',\n 'access_premise',\n 'access_primary_care',\n 'access_private_hospital_capacity',\n 'access_procurement_framework_funding_support_hand_hygiene',\n 'access_professional_good_transport_driver',\n 'access_public_original',\n 'access_public_service_social_inclusion',\n 'access_range_grocery_good',\n 'access_range_health_service_time',\n 'access_reader',\n 'access_record',\n 'access_remote_work_future',\n 'access_research_infrastructure_technical_expertise_experimentation',\n 'access_researcher',\n 'access_resident',\n 'access_respective_benefit',\n 'access_response_service',\n 'access_restriction',\n 'access_result',\n 'access_retain_work_flourish_work_environment',\n 'access_road_junction_work_access_road',\n 'access_rural_unique_natural_amenity',\n 'access_sample_datum',\n 'access_sanitary_product',\n 'access_scheme',\n 'access_scheme_business',\n 'access_school_value_money_basis_secure_supply_chain_personal_protective_equipment_consumable_equipment',\n 'access_service',\n 'access_service_child',\n 'access_service_legal_group',\n 'access_service_people',\n 'access_shelter_workshop',\n 'access_site',\n 'access_site_union_representative_complaint_procedure_covid_issue',\n 'access_social_assistance_payment',\n 'access_social_insurance_benefit',\n 'access_solidarity_fund_mortgage',\n 'access_special_rate',\n 'access_specialist_training',\n 'access_sport',\n 'access_standard_cloud_base_communal_platform',\n 'access_state_child_right_residence_spouse_civil_partner',\n 'access_state_fund_service',\n 'access_state_guarantee_loan',\n 'access_subsidy',\n 'access_subsidy_exhaustion_contributory_benefit',\n 'access_sufficient_technology_continuation_service',\n 'access_summer_increase_saving_threshold',\n 'access_support',\n 'access_support_extraordinary_training_plan',\n 'access_support_service',\n 'access_talent',\n 'access_taxi_driver',\n 'access_teacher',\n 'access_team',\n 'access_technology',\n 'access_temporary_exemption_payment_social_security_contribution_employer',\n 'access_temporary_extraordinary_financial_incentive_support_activity',\n 'access_test_capability',\n 'access_testing_spirometry_service',\n 'access_thing',\n 'access_third_level_education',\n 'access_three_vaccine_approve_commission',\n 'access_tourism_service',\n 'access_training',\n 'access_transport_parking',\n 'access_treatment_covid',\n 'access_unemployment_benefit',\n 'access_unemployment_benefit_period',\n 'access_unit_outsider',\n 'access_upgrade_project',\n 'access_usual_appeal_process',\n 'access_utility_water_electricity',\n 'access_vaccination',\n 'access_vaccine',\n 'access_vaccine_conflict_affect_area',\n 'access_value_money_basis_secure_supply',\n 'access_variety',\n 'access_vehicular_traffic',\n 'access_vital_funding',\n 'access_water',\n 'access_work',\n 'access_world_class_research',\n 'accessibility',\n 'accessibility_audit',\n 'accessibility_availability_affordability_medicine',\n 'accessibility_city',\n 'accessibility_local_service',\n 'accessibility_people',\n 'accessibility_personal_mobility',\n 'accessibility_requirement',\n 'accessibility_universal_design_physical_accessibility_contribution_sectoral_project_national_university',\n 'accessibility_wheelchair_user',\n 'accessible',\n 'accessible_affordable_childcare_art_culture_film_increase',\n 'accessible_affordable_everyone',\n 'accessible_affordable_vaccine',\n 'accessible_campus_assistive_technology',\n 'accessible_citizen',\n 'accessible_company',\n 'accessible_comprehensive_usable_toolkit_format',\n 'accessible_cultural_company',\n 'accessible_efficient_manner',\n 'accessible_escape_route',\n 'accessible_local',\n 'accessible_people',\n 'accessible_public',\n 'accessible_shelving_workstation',\n 'accessible_vehicle',\n 'accessing',\n 'accessing_market',\n 'accessing_material',\n 'accessing_service',\n 'accession_withdrawal',\n 'accessory',\n 'accessory_shop_jewelry_store',\n 'accident',\n 'accident_event',\n 'accident_farm_accident_road',\n 'accident_insurance',\n 'accident_insurance_protection_employee',\n 'accident_nuclear_plant_terrorist_attack_nuclear_plant_nuclear_explosion',\n 'accident_work',\n 'accident_work_article',\n 'accidentally',\n 'accommodate',\n 'accommodate_increase',\n 'accommodate_salary',\n 'accommodate_shift_worker_participant',\n 'accommodation',\n 'accommodation_camp_site',\n 'accommodation_cater_service',\n 'accommodation_catering_service',\n 'accommodation_company',\n 'accommodation_facility_extremely_limited_island_staff',\n 'accommodation_food_alcoholic_drink',\n 'accommodation_food_art_recreation_entertainment_essential_retail_hair_beauty',\n 'accommodation_food_beverage_service',\n 'accommodation_food_service',\n 'accommodation_food_service_activity',\n 'accommodation_food_service_activity_sector',\n 'accommodation_food_service_sector',\n 'accommodation_food_service_sector_employer',\n 'accommodation_food_service_sector_high_proportion_employment',\n 'accommodation_hospitality_recreation_measure',\n 'accommodation_housing_asylum_seeker_refugee',\n 'accommodation_industry_catering_industry_mediation_industry',\n 'accommodation_international_protection_applicant_international_protection_office',\n 'accommodation_logistic_manufacturing_industry',\n 'accommodation_person_international_protection_process',\n 'accommodation_preparation',\n 'accommodation_pressure',\n 'accommodation_provider_employer',\n 'accommodation_restaurant',\n 'accommodation_service',\n 'accommodation_service_travel_agency_tour_operator',\n 'accommodation_structure_minor',\n 'accommodation_structure_reduction_turnover',\n 'accommodation_student',\n 'accommodation_student_minister_state_chamber',\n 'accommodation_student_worker',\n 'accommodation_transport_choice',\n 'accommodation_very_small_number_case',\n 'accompanied',\n 'accompanied_commercial_document_accordance',\n 'accompanied_northern_minister_infrastructure',\n 'accompaniment',\n 'accompany',\n 'accompany_allowance_cancellation',\n 'accompany_child',\n 'accompany_costing_risk_analysis_mitigation',\n 'accompany_description',\n 'accompany_document_rural_future_rural_development_policy_vision',\n 'accompany_documentation',\n 'accompany_employee',\n 'accompany_grow_hand',\n 'accompany_guidance_support',\n 'accompany_guideline_school',\n 'accompany_implementation',\n 'accompany_internal_mobility',\n 'accompany_measure',\n 'accompany_measure_funding',\n 'accompany_measure_work_foundation_employment_scheme',\n 'accompany_minister_tourism_culture_art_sport_media_martin',\n 'accompany_platform_order',\n 'accompany_responsible_adult_form',\n 'accompany_revision_company_health_protocol',\n 'accompany_series_conversational_prompt',\n 'accompany_transit_health_certificate',\n 'accompany_vaccinated_recover_adult_parent_guardian',\n 'accompanying_increase',\n 'accomplishment_work_presence_patient',\n 'accord',\n 'accord_consortium',\n 'accord_fact',\n 'accord_step_change_weather_prediction',\n 'accordance',\n 'accordance_number_employee_beneficiary',\n 'according',\n 'accordingly',\n 'accordingly_exception',\n 'accordingly_requirement_face_covering',\n 'account',\n 'account_activity_authority_fifth_year_operation',\n 'account_announcement',\n 'account_attrition_turnover_workforce',\n 'account_barrier',\n 'account_benefit_vaccination',\n 'account_business_pressure',\n 'account_calculation',\n 'account_calculation_hourly_allowance_fact',\n 'account_calculation_maximum_duration_payment',\n 'account_calculation_period',\n 'account_capacity',\n 'account_car',\n 'account_case',\n 'account_change_circumstance',\n 'account_change_payment_method_request',\n 'account_change_situation',\n 'account_circumstance',\n 'account_claim',\n 'account_climate_action_environmental_obligation',\n 'account_climate_action_plan',\n 'account_comment',\n 'account_commitment_employee_hour',\n 'account_company',\n 'account_complex_nature_breadth_issue_committee_representation',\n 'account_compliance',\n 'account_context',\n 'account_conviction',\n 'account_coordination',\n 'account_country',\n 'account_covid',\n 'account_covid_crisis_support_purchase_power_employee',\n 'account_credit_institution',\n 'account_criminal_justice_victim_crime',\n 'account_date',\n 'account_declaration_action',\n 'account_delay',\n 'account_department',\n 'account_department_health',\n 'account_department_health_covid_information_dashboard_late_case_information',\n 'account_detail',\n 'account_deterioration_health_situation_restoration',\n 'account_development',\n 'account_development_crisis',\n 'account_difference',\n 'account_emerge_legislation',\n 'account_employee',\n 'account_enterprise',\n 'account_expenditure_trend',\n 'account_fact',\n 'account_family',\n 'account_finding_consultation',\n 'account_general_public_health_advice_necessary_infection_prevention_control_measure',\n 'account_government_return_work',\n 'account_gradual_return_site_modulation_number_day',\n 'account_hardship',\n 'account_high_incidence_covid_population',\n 'account_hospital_statistic',\n 'account_impact',\n 'account_impact_covid_crisis_labour_market',\n 'account_impact_covid_operation',\n 'account_impact_fiscal_measure',\n 'account_increase_number_case',\n 'account_international_practice',\n 'account_investment',\n 'account_issue',\n 'account_lesson',\n 'account_measure_place_respect',\n 'account_need',\n 'account_nominate_financial_institution',\n 'account_number_family',\n 'account_number_hour',\n 'account_opportunity',\n 'account_opportunity_challenge',\n 'account_order',\n 'account_part',\n 'account_potential_impact_loss_fundraising_income',\n 'account_present_situation',\n 'account_production',\n 'account_professor_chair_epidemiological_advisory_group',\n 'account_progress',\n 'account_progress_open_society',\n 'account_propose_project',\n 'account_protect_water_website_person',\n 'account_public_health_situation',\n 'account_public_money',\n 'account_pupil',\n 'account_purpose',\n 'account_qualification',\n 'account_range_issue',\n 'account_recommendation_case_officer',\n 'account_requirement',\n 'account_research',\n 'account_restriction',\n 'account_restriction_measure',\n 'account_restriction_prohibition_activity',\n 'account_risk',\n 'account_school',\n 'account_service_user',\n 'account_special_role',\n 'account_specific_nature',\n 'account_specific_requirement',\n 'account_tenant',\n 'account_total_employment',\n 'account_trajectory_virus_progress_vaccine',\n 'account_trajectory_virus_progress_vaccine_roll_progress',\n 'account_unprecedented_success',\n 'account_vaccination',\n 'account_validation_case',\n 'account_view_range_stakeholder',\n 'account_weather_warning',\n 'account_work',\n 'accountability',\n 'accountability_continuous_improvement',\n 'accountability_taxpayer_money',\n 'accountable',\n 'accountable_achieve_goal_meeting_expectation',\n 'accountable_employer',\n 'accountable_person',\n 'accountancy',\n 'accountancy_profession',\n 'accountancy_relate_service',\n 'accountancy_training',\n 'accountant',\n 'accountant_auditor_auditor_accountant',\n 'accountant_board_director_business_leader',\n 'accountant_years_variety_company',\n 'accounting',\n 'accounting_accordance',\n 'accounting_adoption',\n 'accounting_loss',\n 'accounting_profession',\n 'accredit',\n 'accredit_experienced_therapist_service',\n 'accredit_grade',\n 'accredit_grade_aide',\n 'accredit_grade_student',\n 'accredit_industry_standard_training',\n 'accredit_lender_scheme',\n 'accredit_medical_device_manufacturer',\n 'accredit_process_student',\n 'accredit_qualification',\n 'accreditation',\n 'accreditation_policy_manager_quality_assurance_department_agriculture_food_marine',\n 'accredited',\n 'accredited_commercial_bank',\n 'accredited_grade',\n 'accredited_grade_process_student',\n 'accredited_status_route',\n 'accrual',\n 'accrual_additional_interest',\n 'accrual_base_system',\n 'accrual_period_case_company',\n 'accrue',\n 'accrue_entitlement',\n 'accrue_revenue',\n 'accumulate',\n 'accumulate_datum',\n 'accumulate_employee',\n 'accumulated_enormous_experience_expertise',\n 'accumulation',\n 'accumulation_debt_state',\n 'accumulation_public_debt',\n 'accuracy',\n 'accurate',\n 'accurate_count',\n 'accurate_date_information_guidance_government_response',\n 'accurate_independent_information',\n 'accurate_information',\n 'accurate_judgment_student_performance_high_stake',\n 'accurate_production_schedule',\n 'accurate_reliable_information_order',\n 'accurate_reliable_satellite_datum_weather_climate_environment',\n 'accurate_reporting',\n 'accurate_weather_information',\n 'accurately',\n 'accusation',\n 'accusation_fake_news',\n 'accuse',\n 'achievable',\n 'achieve',\n 'achieve_goal',\n 'achieve_negotiation_annexe',\n 'achieve_vision_transform_quality_life_opportunity_people',\n 'achieve_week_week_improvement',\n 'achievement',\n 'achievement_agenda_sustainable_development_agreement',\n 'achievement_climate_ambition',\n 'achievement_efficiency_target_disability_sector',\n 'achievement_field_vision',\n 'achievement_national_energy_climate_plan',\n 'achievement_target',\n 'achievement_vision_change',\n 'achill_tourism_hearth_community_festival',\n 'acid_supplementation',\n 'acknowledge',\n 'acknowledge_impact_covid_crisis_citizen',\n 'acknowledge_input_revenue_commissioner',\n 'acknowledge_personnel',\n 'acknowledge_showcase',\n 'acknowledgment_receipt',\n 'acorn',\n 'acorns',\n 'acoustic',\n 'acoustic_material_community_resource_network_cork_environmental_forum_green_building_council_marine_application_pace_technology',\n 'acquire',\n 'acquire_credit_magnitude',\n 'acquire_employee',\n 'acquire_healthcare_associate_infection',\n 'acquire_right',\n 'acquire_skill_knowledge',\n 'acquisition',\n 'acquisition_design_development_sporting_facility_trinity_college',\n 'acquisition_financial_commitment',\n 'acquisition_installation_adaptation',\n 'acquisition_possibly_conversion',\n 'acquisition_product_material',\n 'acquisition_restructuring',\n 'acre',\n 'acre_folly_enhancement_repair_restoration_work',\n 'acre_midland',\n 'acrobatic_parkour_tricking_circus',\n 'across_four_university_trinity_college_university_college_university_college_cork',\n 'across_fourteen_separate_government_department',\n 'across_third_level_sector',\n 'act',\n 'act_amend_will_loan_fund_investment_fund',\n 'act_chief_medical_officer',\n 'act_chief_medical_officer_department_health',\n 'act_chief_medical_officer_department_health_chief_executive_officer',\n 'act_chief_medical_officer_parent',\n 'act_chief_medical_officer_press_conference',\n 'act_chief_medical_officer_republic_chief_medical_officer',\n 'act_chief_medical_officer_republic_chief_medical_officer_northern_statement',\n 'act_consortium',\n 'act_ensure',\n 'act_further_state',\n 'act_role_general_manager_primary_care_service',\n 'act_suppress',\n 'acting',\n 'action',\n 'action_activity',\n 'action_advance',\n 'action_amount',\n 'action_area',\n 'action_assign_department',\n 'action_base_fact',\n 'action_budget_reality_region',\n 'action_call',\n 'action_carbon_development_amendment_bill',\n 'action_change',\n 'action_circular_economy',\n 'action_city_university',\n 'action_civil_service_renewal_plan_civil_service',\n 'action_climate_action_location_revival',\n 'action_coalition',\n 'action_company',\n 'action_concern',\n 'action_consideration_part_consultation_process',\n 'action_cover_form',\n 'action_decision',\n 'action_department',\n 'action_download',\n 'action_food',\n 'action_framework',\n 'action_framework_cabinet',\n 'action_government_action_plan_online_safety',\n 'action_government_department_agencie_justice_equality_sector',\n 'action_government_department_agency_equality_sector',\n 'action_halt_scourge_litter_beautiful_countryside',\n 'action_importance_diversity_relationship',\n 'action_justice_plan',\n 'action_modify_payment_order_transfer',\n 'action_national_level',\n 'action_number_area',\n 'action_number_front',\n 'action_part',\n 'action_phase',\n 'action_plan',\n 'action_plan_apprenticeship',\n 'action_plan_consent_sexual_violence_harassment',\n 'action_plan_government_work',\n 'action_plan_recommendation',\n 'action_plan_rural_development',\n 'action_plan_sector',\n 'action_plan_traveller_participation',\n 'action_proposal_fund',\n 'action_repayable_grant_form_work_capital',\n 'action_repayable_grant_necessary_work_capital',\n 'action_research',\n 'action_research_approach',\n 'action_research_project_research_evidence',\n 'action_respond',\n 'action_respond_crisis',\n 'action_respond_crisis_refugee_camp',\n 'action_review',\n 'action_strategy',\n 'action_subsidy_retail_sector_order',\n 'action_tackle_disinformation',\n 'action_work',\n 'activate',\n 'activate_cell',\n 'activate_part_military_reserve_civilian_service_case',\n 'activate_region',\n 'activate_repatriation_citizen',\n 'activation',\n 'activation_case_management',\n 'activation_crisis_management_local_ordination_arrangement',\n 'activation_employment',\n 'activation_employment_contract',\n 'activation_general_escape_clause_stability_growth_pact',\n 'activation_general_escape_clause_stability_growth_pact_part_strategy_respond',\n 'activation_protocol',\n 'activation_section_line',\n 'activation_specific_measure',\n 'active',\n 'active_action_support_active_international_coordination_research_infectious_animal_disease',\n 'active_addiction',\n 'active_agriculture_horticulture_sector',\n 'active_airport_annex_collective_agreement',\n 'active_animal_health_welfare_inactive_emerge_major_infectious_disease',\n 'active_area',\n 'active_board_committee_member_hold_officer_position',\n 'active_both_consultancy_relate_service',\n 'active_calm',\n 'active_cancer',\n 'active_case',\n 'active_case_death',\n 'active_challenge_youth_service_staff',\n 'active_class',\n 'active_collaborative_partner_vision_change_oversight_group',\n 'active_communication_plan',\n 'active_community_event',\n 'active_connection',\n 'active_consent',\n 'active_consent_active_consent_multidisciplinary_senior_lecturer_school_psychology',\n 'active_consent_lead',\n 'active_consent_message',\n ...]"
     },
     "execution_count": 189,
     "metadata": {},
     "output_type": "execute_result"
    }
   ],
   "source": [
    "words.sort()\n",
    "words"
   ],
   "metadata": {
    "collapsed": false,
    "pycharm": {
     "name": "#%%\n"
    }
   }
  },
  {
   "cell_type": "code",
   "execution_count": 190,
   "outputs": [],
   "source": [
    "from sklearn.feature_extraction.text import TfidfVectorizer\n",
    "\n",
    "tfidf_vec = TfidfVectorizer()"
   ],
   "metadata": {
    "collapsed": false,
    "pycharm": {
     "name": "#%%\n"
    }
   }
  },
  {
   "cell_type": "code",
   "execution_count": 191,
   "outputs": [],
   "source": [
    "transformed = tfidf_vec.fit_transform(raw_documents=lang_model_pipeline.documents_corpus)"
   ],
   "metadata": {
    "collapsed": false,
    "pycharm": {
     "name": "#%%\n"
    }
   }
  },
  {
   "cell_type": "code",
   "execution_count": 203,
   "outputs": [],
   "source": [
    "tmp_words = list(tfidf_vec.vocabulary_.items())"
   ],
   "metadata": {
    "collapsed": false,
    "pycharm": {
     "name": "#%%\n"
    }
   }
  },
  {
   "cell_type": "code",
   "execution_count": 199,
   "outputs": [
    {
     "data": {
      "text/plain": "[('covid_specific_support', 19746),\n ('assume', 6422),\n ('unwound', 111571),\n ('only_exception', 65504),\n ('this_provision_seasonal_worker', 106346),\n ('temporary_contract', 98484),\n ('minister', 58485),\n ('very_glad_government', 112757),\n ('agree', 3056),\n ('phase_reopening_construction_sector', 71677),\n ('similarly_labour_market_number_person', 89117),\n ('pandemic_unemployment_payment', 68813),\n ('fall', 33552),\n ('cent', 11703),\n ('peak', 70734),\n ('early', 26643),\n ('large_decline', 50766),\n ('early_august', 26657),\n ('come', 14435),\n ('know', 50311),\n ('hard', 41846),\n ('continue', 17328),\n ('adhere_public_health_measure', 2325),\n ('individual', 46854),\n ('effort', 27866),\n ('need', 62832),\n ('risk_delta', 84087),\n ('variant_highly_transmissible_strain', 112339),\n ('pose', 72725),\n ('significant_threat', 88912),\n ('unvaccinate', 111553),\n ('partially', 69505),\n ('vaccinate', 112030),\n ('introduction', 49191),\n ('phase_june_level_payment_structure_link_pandemic_unemployment_payment_level_prior_earning',\n  71651),\n ('loan_term', 53172),\n ('range', 78232),\n ('year_three_year_loan', 117515),\n ('unsecured', 111500),\n ('more_information', 60017),\n ('restrict', 83111),\n ('your_movement', 117983),\n ('click', 13486),\n ('establishment_technological_university', 30738),\n ('stimulate', 93835),\n ('more_balanced_growth_population_employment', 59761),\n ('stay', 93704),\n ('course', 18595),\n ('spread', 92678),\n ('this_virus', 107146),\n ('control', 17741),\n ('main_teaching_union_national_education_union_teacher_union', 54335),\n ('very_active_campaigning_school_safety', 112646),\n ('concomitantly_provision_advice_guidance_member', 16218),\n ('crisis', 20242),\n ('pandemic_unemployment_payment_taxation', 68845),\n ('like', 52481),\n ('clarify', 13262),\n ('situation', 89334),\n ('regard', 79860),\n ('taxation', 98064),\n ('million_culture_entrepreneurship_foundation', 57723),\n ('provide', 76282),\n ('loan_entrepreneur', 53130),\n ('sector', 86497),\n ('only_loan_company', 65564),\n ('available', 6885),\n ('particular_mandate_committee', 69763),\n ('engage', 29401),\n ('widely', 116176),\n ('society_crucial_importance_inform_proposal', 90707),\n ('ultimately', 110578),\n ('government', 39985),\n ('plan', 72119),\n ('referendum', 79745),\n ('ensure', 29684),\n ('citizen_business', 12983),\n ('ready', 78599),\n ('possible_scenario', 73103),\n ('secure', 86682),\n ('access_treatment_covid', 525),\n ('datum_government_fund_community_energy_grant_award_project', 21790),\n ('support', 96574),\n ('administer', 2376),\n ('community_energy_grant_scheme', 15121),\n ('first_part', 35157),\n ('such_plan', 95828),\n ('receive', 78945),\n ('evaluate', 30884),\n ('employment_project_midland', 29127),\n ('green_enterprise_other_employment_tourism_potential', 41125),\n ('national_plan_maritime_area', 62114),\n ('set', 87555),\n ('want', 114192),\n ('protect', 76081),\n ('enjoy', 29598),\n ('sea', 86076),\n ('this_be_challenge_time_student', 104425),\n ('their_family_school_community', 100706),\n ('progress_report', 75675),\n ('publish', 77579),\n ('month', 59536),\n ('accountability', 773),\n ('transparency', 109959),\n ('delivery', 22589),\n ('funding_application', 38077),\n ('submit', 94806),\n ('electronically', 28142),\n ('this_platform_heating_device', 106191),\n ('minister_tourism_culture_art_sport_media_martin', 58952),\n ('today', 108687),\n ('announce', 4358),\n ('range_funding', 78278),\n ('approximately', 5694),\n ('assist', 6271),\n ('local_authority', 53203),\n ('develop', 23770),\n ('community_commemorative_initiative', 15091),\n ('remembrance', 81261),\n ('significant_event', 88648),\n ('occur', 64587),\n ('cork', 17988),\n ('country', 18381),\n ('approach_centenary_state', 5354),\n ('this_report_demonstration', 106477),\n ('celebrate', 11678),\n ('rest_day', 83023),\n ('deposit', 23309),\n ('time', 108446),\n ('save', 85415),\n ('account', 661),\n ('minister_children_youth_affair', 58545),\n ('acknowledge', 856),\n ('many_childcare_practitioner', 54982),\n ('their_parenting_care_responsibility', 101608),\n ('ask', 6171),\n ('those_position', 107728),\n ('contribute', 17677),\n ('this_element_emergency_call', 104947),\n ('consider', 16662),\n ('administration_vaccine', 2416),\n ('recommenced', 79221),\n ('age', 2947),\n ('work', 116517),\n ('very_much_team_effort', 112883),\n ('involve', 49462),\n ('scientist', 86001),\n ('school_department_official', 85778),\n ('particular', 69631),\n ('closely', 13864),\n ('offer', 64607),\n ('sincere_congratulation', 89193),\n ('thank', 99027),\n ('launch', 51308),\n ('this_call_minister', 104482),\n ('comment', 14548),\n ('research_innovation', 82261),\n ('absolutely', 155),\n ('critical', 20352),\n ('agriculture', 3233),\n ('prosper', 76074),\n ('respond', 82739),\n ('effectively', 27815),\n ('overarch', 68284),\n ('challenge_time', 12324),\n ('million_covid_adaptation_town_village', 57705),\n ('june_death_case', 49919),\n ('confirm', 16409),\n ('health_protection_surveillance', 42328),\n ('notify', 63785),\n ('covid_death', 18926),\n ('hour', 44234),\n ('hospice_hospice_movement', 44067),\n ('south_hospice_movement_hospice_team_laura_hospice_jack_children_foundation_hospice_foundation_institute_hospice_palliative_care_cancer_society_night_nursing_service_total',\n  91667),\n ('learn', 51541),\n ('live', 52929),\n ('covid', 18709),\n ('concern', 16128),\n ('health', 42096),\n ('love', 53981),\n ('this_time', 106963),\n ('bottom_initiative', 9740),\n ('complement_national_level_policy', 15764),\n ('emanate', 28421),\n ('such_national_enterprise_policy_enterprise', 95768),\n ('renew', 81453),\n ('future_job_initiative', 38846),\n ('demonstrate', 22728),\n ('seriousness', 87389),\n ('euro_member_state', 30870),\n ('view', 113223),\n ('current_crisis', 20854),\n ('funding_stream', 38195),\n ('end', 29311),\n ('notes_editor_period_poverty_discussion_paper_period_poverty_committee_national_strategy_woman',\n  63732),\n ('girl', 39435),\n ('main_finding', 54245),\n ('report', 81765),\n ('international_measure_combat_period_poverty', 48930),\n ('include', 46101),\n ('zero_reduced_rate_sale_period_product_number_jurisdiction', 118304),\n ('case', 11358),\n ('freelancer', 37322),\n ('report_income', 81801),\n ('minimum_wage', 58471),\n ('request', 81966),\n ('their_income', 101050),\n ('victim', 113163),\n ('abuse', 177),\n ('sexual_violence', 87889),\n ('crime', 20186),\n ('single_measure', 89247),\n ('these_package', 103671),\n ('different_timeline', 24363),\n ('date', 21614),\n ('this_entry', 104998),\n ('billion_million_earmark_bonus', 8731),\n ('which_sufficient_reward_worker', 115561),\n ('administrative_assistant', 2422),\n ('business_technical_support_staff', 10647),\n ('temporary', 98439),\n ('valid', 112138),\n ('epidemic', 30120),\n ('scheme', 85506),\n ('aim', 3296),\n ('register_eligible_employee', 80189),\n ('base', 7828),\n ('march', 55435),\n ('estimate', 30744),\n ('people', 70882),\n ('temporary_unemployment_scheme', 98700),\n ('this_initiative', 105582),\n ('additional_capacity', 1606),\n ('high_education_sector', 43106),\n ('meet', 56933),\n ('priority_skill', 74834),\n ('enterprise', 29702),\n ('represent', 81855),\n ('additional_investment', 1862),\n ('surplus_line', 97245),\n ('recommendation', 79239),\n ('contain', 17161),\n ('independent_review_surplus_development_labour_market_skill', 46775),\n ('prof_team', 75404),\n ('responsible', 82931),\n ('instrument_datum_processing_analysis_software', 48290),\n ('scale', 85436),\n ('this_stream', 106806),\n ('fund_scale', 37984),\n ('prove', 76275),\n ('technology_initiative', 98289),\n ('this_measure', 105780),\n ('complement', 15758),\n ('banking_measure', 7754),\n ('spend', 92479),\n ('covid_direct_income', 18942),\n ('date_minister_finance_paschal', 21705),\n ('important_business', 45639),\n ('employment_wage_subsidy_scheme_covid_restriction_support_scheme', 29210),\n ('remain', 81152),\n ('place', 71977),\n ('june', 49888),\n ('further_regional_day', 38609),\n ('fund_student_device', 37999),\n ('worth', 117365),\n ('million', 57554),\n ('package', 68513),\n ('far_high_education_sector', 33747),\n ('deal', 21912),\n ('impact', 45228),\n ('more_depth_work', 59848),\n ('explore', 32677),\n ('issue', 49574),\n ('sustainability_connectivity', 97464),\n ('use', 111870),\n ('place_base_approach_documenting_live_experience_border_region', 71985),\n ('small_important_change', 89628),\n ('many_business', 54965),\n ('limit', 52559),\n ('credit_card_payment', 20101),\n ('raise', 78211),\n ('next_meeting_task_force', 63199),\n ('schedule', 85489),\n ('grocery_retailer', 41199),\n ('discuss', 25198),\n ('their_business', 100096),\n ('prepare', 73801),\n ('safety', 84988),\n ('their_employee', 100563),\n ('continuation_business_food_supply', 17306),\n ('chain', 12195),\n ('their_customer', 100407),\n ('thirdly', 104219),\n ('despite', 23540),\n ('wide_scale_closure_construction_sector_spring', 116137),\n ('encourage', 29288),\n ('overall', 68105),\n ('house', 44289),\n ('building', 10282),\n ('considerably', 16714),\n ('expect', 32426),\n ('cent_decline', 11715),\n ('year', 117430),\n ('responsibility_policy_maker', 82900),\n ('environment', 30024),\n ('right', 83788),\n ('communique', 15044),\n ('refer', 79711),\n ('explore_option_policy_measure', 32678),\n ('improve', 45918),\n ('sustainability_food_system', 97472),\n ('range_measure', 78305),\n ('promote', 75857),\n ('healthy_childhood', 42643),\n ('provision', 76337),\n ('highly_practical_element', 43551),\n ('challenge', 12295),\n ('important_note', 45737),\n ('lay', 51403),\n ('worker', 117033),\n ('avail', 6821),\n ('employ', 28664),\n ('bath_fitter_contact_info_director_communication', 8201),\n ('million_fund_vehicle_community', 57838),\n ('person', 71290),\n ('grant', 40688),\n ('maternity_paternity_childcare_benefit', 56058),\n ('apply', 5215),\n ('more_recalculation', 60180),\n ('thereof', 103034),\n ('these_action', 103057),\n ('vital', 113573),\n ('collective_effort_suppress', 14289),\n ('this_highly_infectious_disease_work', 105417),\n ('reopen_school_healthcare_service', 81619),\n ('healthcare_worker', 42615),\n ('pandemic', 68586),\n ('past_month', 70205),\n ('this_model', 105844),\n ('facilitate', 33388),\n ('payment', 70456),\n ('farmer', 33861),\n ('reflect', 79759),\n ('their_contribution_priority_habitat_species_carbon_sequestration_storage_water_quality_other_system_service',\n  100319),\n ('result', 83183),\n ('locally', 53622),\n ('adapt', 1263),\n ('deliver', 22580),\n ('successfully', 95201),\n ('broad_range_landscape', 9994),\n ('drawing', 25993),\n ('business', 10374),\n ('these_assess_cash_income', 103115),\n ('look', 53887),\n ('mental_health', 57187),\n ('supervise', 96438),\n ('probation_service_justice_plan', 75102),\n ('commit', 14824),\n ('establish', 30640),\n ('cross', 20488),\n ('departmental', 23219),\n ('task', 98038),\n ('force', 36385),\n ('virtual', 113326),\n ('event', 30997),\n ('morning', 60487),\n ('minister_justice', 58740),\n ('forward', 36784),\n ('probation_service', 75101),\n ('author', 6719),\n ('case_above_mention_business', 11359),\n ('reach', 78552),\n ('certain_rate_occupancy', 12035),\n ('oblige', 64461),\n ('revoke', 83748),\n ('permanently', 71240),\n ('suspension', 97366),\n ('their_employee_contract', 100565),\n ('join', 49725),\n ('special_support_mechanism', 92034),\n ('applicable', 4971),\n ('only_employee', 65490),\n ('whose_employment_contract', 115796),\n ('suspend', 97353),\n ('their_suspension', 102340),\n ('this_guidance', 105370),\n ('ongoing_review', 65055),\n ('meal_allowance_insurance', 56395),\n ('accident_work_article', 582),\n ('around_month_later_march_company', 5916),\n ('this_support_accumulate_datum', 106850),\n ('initiate', 47799),\n ('implement', 45363),\n ('trade', 109526),\n ('union_congress', 111049),\n ('committee_member', 14894),\n ('abigail', 17),\n ('collin', 14363),\n ('capacity', 11012),\n ('member', 57001),\n ('national', 61581),\n ('newborn', 63065),\n ('governance', 39968),\n ('group', 41275),\n ('committee', 14887),\n ('current', 20791),\n ('evidence', 31367),\n ('addition', 1353),\n ('screening', 86064),\n ('public_employer', 76695),\n ('participate', 69532),\n ('purchase', 77661),\n ('phone_exchange', 71728),\n ('allow', 3540),\n ('employment_blind_worker', 29033),\n ('access_covid', 317),\n ('enhance', 29456),\n ('illness', 44983),\n ('benefit', 8472),\n ('unemployment', 110874),\n ('direct', 24699),\n ('head', 42044),\n ('food_safety_authority', 36245),\n ('first_country', 34942),\n ('react', 78557),\n ('infect_pregnant_mare', 47268),\n ('likely', 52485),\n ('suffer', 96195),\n ('late_term_abortion', 51257),\n ('their_pregnancy', 101781),\n ('million_reintegration_people', 58106),\n ('social_support', 90590),\n ('sincerely', 89196),\n ('stakeholder', 92955),\n ('advisory_group_process', 2801),\n ('continue_work', 17498),\n ('come_month', 14451),\n ('far', 33696),\n ('these_plan', 103707),\n ('assessment', 6224),\n ('this_response', 106517),\n ('effective', 27729),\n ('household_firm', 44336),\n ('welcome', 114541),\n ('finally', 34408),\n ('company', 15338),\n ('partial_unemployment', 69494),\n ('their_workforce', 102636),\n ('condition', 16250),\n ('recovery_plan_case', 79399),\n ('small_company', 89589),\n ('retention_plan_case_company', 83412),\n ('employee', 28696),\n ('strict_adherence_public_health_measure_family', 94215),\n ('childcare_provider', 12804),\n ('urge', 111772),\n ('support_period_administrative_board_employment_service', 96946),\n ('decide', 22009),\n ('each_month_extension_measure', 26456),\n ('maximum_award', 56139),\n ('good_people', 39822),\n ('buy', 10690),\n ('collective', 14225),\n ('necessary', 62609),\n ('partners_bank_bank_international_asset_bank_municipal_bank_first_investment_bank_commerce_bank_central_cooperative_bank',\n  70103),\n ('region', 80021),\n ('worldwide', 117331),\n ('million_fund_rural_school_community', 57832),\n ('town_village_renewal_scheme_town', 109479),\n ('village', 113280),\n ('country_measure', 18453),\n ('immediately', 45147),\n ('delighted', 22559),\n ('welcome_appointment_interim_president_university_limerick', 114556),\n ('chair_event', 12227),\n ('closing_remark', 13880),\n ('capture', 11150),\n ('positivity_energy_room', 72917),\n ('participant_network', 69522),\n ('each_other_harness_power_experience', 26477),\n ('exist_network', 32198),\n ('total_budget', 108987),\n ('extent', 33008),\n ('applicant', 4998),\n ('seek', 86800),\n ('ordinate_action', 66537),\n ('other_group', 67034),\n ('other_initiative', 67140),\n ('create', 19941),\n ('wide_impact', 116011),\n ('network', 63000),\n ('formal_engagement', 36607),\n ('creation', 19956),\n ('synergy', 97733),\n ('partnership', 70106),\n ('department', 22770),\n ('examine', 31491),\n ('alternative_method', 3939),\n ('pandemic_look', 68698),\n ('resume', 83271),\n ('person_ceremony', 71297),\n ('public_administration_asset_support_government', 76557),\n ('citizen', 12977),\n ('increase_care_benefit_current_situation', 46343),\n ('major_financial_consequence_employer_business_community', 54469),\n ('ovine_caprine_flock_herd', 68457),\n ('inspect', 48107),\n ('ovine_caprine_identification_registration_requirement', 68458),\n ('national_flock_herd', 61883),\n ('hospital_statistic', 44134),\n ('total_number_case', 109148),\n ('total_number_total_number', 109166),\n ('admit', 2489),\n ('total_number_death_total_number_healthcare_worker_number_cluster', 109156),\n ('associate', 6368),\n ('cluster_median_statistic', 13943),\n ('measure', 56459),\n ('midnight', 57460),\n ('mean', 56408),\n ('whose_driving', 115789),\n ('expire', 32628),\n ('march_august', 55448),\n ('validity', 112200),\n ('extend', 32760),\n ('seven', 87570),\n ('total', 108915),\n ('june_reason_failure_system', 49995),\n ('propose', 76016),\n ('systemic_reform_occupational_medicine', 97790),\n ('more_protection_beneficiary', 60173),\n ('high_base_case_work_accident', 43005),\n ('case_temporary_disability', 11478),\n ('this_public_insurance_fund', 106359),\n ('german_hospital_society_interest_hospital', 39400),\n ('federal_minister_health_debate', 34042),\n ('scheme_fund_scheme', 85599),\n ('proposal', 75995),\n ('convey', 17831),\n ('strong_message', 94380),\n ('tree_woodland', 110189),\n ('wide_range_environmental_resource_service', 116071),\n ('society', 90702),\n ('job_protection_plan_partial_response', 49666),\n ('government_furlough_scheme', 40223),\n ('discussion_economic_development', 25214),\n ('add', 1308),\n ('this_scheme', 106588),\n ('design', 23405),\n ('application_process_user', 5171),\n ('friendly', 37394),\n ('accessible', 552),\n ('possible', 72967),\n ('eligible_payment_apply', 28329),\n ('delay', 22517),\n ('innovation_hub', 47918),\n ('desk_space', 23532),\n ('other_event', 66945),\n ('place_wedding_maximum_guest_service', 72102),\n ('their_credit_union', 100375),\n ('digital_telephone_channel', 24628),\n ('software_solution', 90749),\n ('local', 53184),\n ('office', 64624),\n ('city', 13023),\n ('provider', 76317),\n ('minister_health', 58659),\n ('confirmation', 16431),\n ('available_increase_direct_access_diagnostic_service', 7002),\n ('this_week', 107211),\n ('xiii', 117425),\n ('amend', 4055),\n ('article', 6032),\n ('article_tourism_republic', 6076),\n ('ongoing_regulatory_reform_public_procurement_environmental_labour_other_area_order',\n  65043),\n ('streamline', 94151),\n ('achieve', 841),\n ('competitiveness_sustainability', 15743),\n ('this_campaign', 104489),\n ('coordinate', 17874),\n ('relevant', 80894),\n ('communicate', 15004),\n ('message', 57338),\n ('their_network', 101459),\n ('available_talk_radio', 7139),\n ('there_will_festival_language', 102968),\n ('happen', 41836),\n ('workshop_language_class', 117217),\n ('student', 94524),\n ('lot', 53962),\n ('local_speaker', 53577),\n ('getting', 39428),\n ('play', 72276),\n ('lead_role_fight', 51480),\n ('council', 18297),\n ('able', 35),\n ('funding', 38062),\n ('further_discretionary_support_vulnerable_people', 38359),\n ('other_support_arrangement', 67619),\n ('such_local_welfare_scheme', 95709),\n ('employer_responsibility', 28967),\n ('pay', 70377),\n ('care_benefit_day', 11198),\n ('reduce', 79534),\n ('day', 21855),\n ('regularly', 80419),\n ('school', 85720),\n ('update_guidance_help', 111625),\n ('operate', 65992),\n ('school_meal', 85843),\n ('amid', 4106),\n ('extended_covid_restriction', 32810),\n ('president_federation_nursing_profession', 73977),\n ('number_social_integration_initiative', 64166),\n ('this_fund', 105234),\n ('over_million_project', 68080),\n ('contribution', 17689),\n ('social_partner', 90349),\n ('outside', 67958),\n ('workplace', 117155),\n ('example', 31503),\n ('vehicle_owner', 112577),\n ('affect', 2838),\n ('vehicle_lift_issue', 112576),\n ('complete', 15782),\n ('their_test', 102381),\n ('note_editor', 63661),\n ('currently', 21148),\n ('rate', 78487),\n ('effect', 27694),\n ('prior_earning_rate_recipient', 74705),\n ('access_heart_disease_cancer_screening', 392),\n ('diabetes', 24130),\n ('prevention_management_workshop', 74167),\n ('place_community_base_medical_environment', 71994),\n ('easy_member', 26996),\n ('access', 277),\n ('wait', 114104),\n ('fully', 37833),\n ('follow', 35983),\n ('public_health_advice', 76768),\n ('every_early_education_childcare_service_staff_member', 31151),\n ('position', 72727),\n ('volunteer', 113832),\n ('their_service', 102159),\n ('greatly', 41085),\n ('value', 112272),\n ('derogatory_compensation_condition', 23384),\n ('mention_person', 57313),\n ('meeting', 56970),\n ('entitlement_benefit', 29915),\n ('consultant_psychiatrist_integrate_care_lead', 16966),\n ('phase_response', 71681),\n ('opportunity_increase_exercise_activity', 66222),\n ('friend', 37387),\n ('outside_household', 67973),\n ('facility', 33431),\n ('business_support_agency', 10638),\n ('email_address', 28405),\n ('register', 80168),\n ('their_activity', 99907),\n ('debt_social_security_office', 21975),\n ('comment_result', 14600),\n ('relate', 80623),\n ('alcohol_minister', 3415),\n ('survey_result', 97290),\n ('previous_day_year', 74228),\n ('survey', 97267),\n ('alcohol', 3393),\n ('consume', 17035),\n ('more_alcoholic_drink', 59744),\n ('occasion', 64498),\n ('entitlement', 29914),\n ('permanent_residence_state', 71224),\n ('variety_healthy_food', 112366),\n ('your_child', 117701),\n ('read', 78577),\n ('list_town_village', 52849),\n ('approve', 5630),\n ('standard_town_village_renewal_scheme_funding', 93059),\n ('today_addition', 108688),\n ('model', 59341),\n ('start_point_teacher', 93133),\n ('estimate_mark', 30774),\n ('historical_pattern', 43630),\n ('achievement', 846),\n ('each_school', 26552),\n ('start_point', 93132),\n ('this_highlight_importance_level_virus_community_primary_measure', 105412),\n ('nursing_home', 64273),\n ('innovation_skill_voucher', 47942),\n ('mentor', 57315),\n ('fund_employment_incentive_investment_scheme', 37931),\n ('individual_investor', 46962),\n ('obtain', 64486),\n ('income_relief_investment', 46223),\n ('certify_qualifying_company', 12182),\n ('compensation_scheme', 15617),\n ('administration', 2397),\n ('highly_dependable_tourism', 43535),\n ('payment_easter_bonus', 70519),\n ('cover', 18652),\n ('state_budget', 93201),\n ('average', 7175),\n ('county', 18501),\n ('average_case_incidence_rate_population_case', 7186),\n ('last_day', 51005),\n ('renewable_energy_credit_technology_gateway_late_addition_enterprise_technology_gateway',\n  81485),\n ('amendment_emergency_legislation', 4082),\n ('adopt', 2498),\n ('introduce_possibility', 49182),\n ('conclude', 16195),\n ('temporary_employment_contract', 98513),\n ('similar_contract', 89012),\n ('hire', 43583),\n ('activity', 1121),\n ('harvesting', 41962),\n ('state_security_times_state_state_emergency', 93463),\n ('inform', 47363),\n ('generally', 39275),\n ('much_consultation', 61096),\n ('positive_step', 72895),\n ('conclusion_exploratory_talk', 16208),\n ('taxi_industry', 98088),\n ('pick', 71890),\n ('recent', 78963),\n ('project', 75724),\n ('today_project', 108784),\n ('assistance', 6304),\n ('fund', 37900),\n ('community_business', 15067),\n ('cash_injection', 11527),\n ('boost', 9144),\n ('economic_activity', 27031),\n ('many_area_region', 54948),\n ('suspect', 97335),\n ('isolate', 49536),\n ('away', 7481),\n ('your_household', 117890),\n ('your_close_contact', 117727),\n ('test', 98911),\n ('soon', 91576),\n ('increase_reserve_capital', 46539),\n ('funding_measure', 38134),\n ('partner', 70047),\n ('parent_carer', 68940),\n ('arguably_this_trickiest_moment', 5876),\n ('misstep', 59229),\n ('resident', 82426),\n ('nurse', 64248),\n ('home', 43729),\n ('vulnerable', 113912),\n ('their_underlie_medical_condition', 102469),\n ('care_need', 11220),\n ('close_physical_contact', 13803),\n ('encourage_community', 29291),\n ('share', 87922),\n ('their_culture_heritage', 100387),\n ('wide_public_sense', 116042),\n ('identify', 44922),\n ('domestic_violence', 25751),\n ('three_critical_service_area', 108067),\n ('entire_energy_partner', 29848),\n ('focus', 35870),\n ('this_public_health_emergency', 106353),\n ('psychological', 76511),\n ('help', 42852),\n ('teacher', 98107),\n ('student_parent', 94581),\n ('emotional_stress', 28641),\n ('significantly', 88936),\n ('increase', 46298),\n ('this_survey', 106870),\n ('gain', 38967),\n ('high_response_rate', 43381),\n ('three_survey', 108283),\n ('conduct', 16317),\n ('civil_servant_workforce', 13171),\n ('northern', 63569),\n ('great', 40804),\n ('eligible', 28204),\n ('online_service', 65341),\n ('these_statistic', 103921),\n ('midnight_march', 57468),\n ('last_statistic', 51104),\n ('million_refugee', 58096),\n ('population_refugee', 72661),\n ('family_application', 33591),\n ('article_employment_republic', 6044),\n ('force_june', 36401),\n ('high_wage_subsidy', 43499),\n ('payable_employer_employee', 70436),\n ('downtime', 25898),\n ('context_covid_pandemic_compete_trade_union', 17224),\n ('jointly', 49827),\n ('agreement', 3107),\n ('mitigate_pandemic_impact', 59251),\n ('essential', 30440),\n ('purpose', 77701),\n ('close', 13668),\n ('attention_local_condition_advice', 6508),\n ('first_step', 35267),\n ('online_application_farmer_contact_registration', 65123),\n ('another_step', 4735),\n ('reopen_society', 81626),\n ('their_part', 101609),\n ('requirement', 82088),\n ('public_health_business_customer', 76829),\n ('alike', 3461),\n ('country_people', 18462),\n ('worry', 117348),\n ('concerned', 16161),\n ('retain', 83392),\n ('ongoing_protection_support_nursing_home_resident', 65032),\n ('incidence_rate', 46080),\n ('excess_checkpoint', 31809),\n ('connection', 16539),\n ('positive_development_situation_individual_country_company', 72808),\n ('gradually', 40632),\n ('open', 65775),\n ('those_employee', 107487),\n ('various_reason', 112482),\n ('return_office', 83493),\n ('funding_model', 38145),\n ('reform', 79778),\n ('approach', 5350),\n ('reinforce', 80578),\n ('silos', 88979),\n ('resource', 82573),\n ('flexibly', 35813),\n ('outcome', 67779),\n ('much_simple_pathway_learner', 61238),\n ('opportunity', 66177),\n ('ministerial_official_level', 58997),\n ('appropriate_partner', 5483),\n ('such_business_farming_fishery', 95293),\n ('amplify', 4208),\n ('their_platform', 101743),\n ('covid_evolve_pandemic_commit_adapt_advice_guideline', 19018),\n ('emerge_evidence', 28455),\n ('easily_accessible_online_survey', 26897),\n ('principal', 74584),\n ('wild_bird', 116229),\n ('carry', 11345),\n ('avian_influenza_virus', 7337),\n ('traditionally', 109667),\n ('migrate', 57500),\n ('east_atlantic_flyway', 26905),\n ('cold_part', 14082),\n ('northern_eastern_western_country', 63578),\n ('lose', 53913),\n ('their_commuter_status', 100254),\n ('enter', 29694),\n ('quarantine', 77965),\n ('their_home_country', 100958),\n ('that_there_will_individual_need', 99790),\n ('determine', 23741),\n ('affect_person', 2851),\n ('disability', 24974),\n ('access_shelter_workshop', 490),\n ('another_facility', 4623),\n ('danger', 21509),\n ('this_drug', 104922),\n ('document', 25643),\n ('those_addict_drug', 107332),\n ('perceive', 70949),\n ('common', 14906),\n ('response', 82762),\n ('patient', 70292),\n ('large_scale_repair', 50928),\n ('upgrade', 111671),\n ('strategic_trail_amenity_development_grant', 94087),\n ('increasingly', 46607),\n ('clear', 13358),\n ('only_global_effort', 65533),\n ('covid_pandemic', 19300),\n ('vaccination', 112038),\n ('roll', 84379),\n ('globally', 39620),\n ('financial_report_company', 34623),\n ('state', 93164),\n ('that_company_rapid_growth_base_focus_commerce', 99178),\n ('attract', 6528),\n ('retail_customer', 83321),\n ('especially', 30343),\n ('product', 75241),\n ('checklist_project', 12596),\n ('risk_life_health', 84132),\n ('this_community', 104604),\n ('bring', 9936),\n ('public_health_county_city_management_association', 76841),\n ('local_authority_traveller_health_unit', 53259),\n ('thus_primary_healthcare_traveller_project', 108389),\n ('integrate_care', 48384),\n ('old_people_same_goal', 64806),\n ('especially_old_people', 30390),\n ('wants', 114196),\n ('hospital_stay', 44136),\n ('continuous_long_term', 17583),\n ('care', 11189),\n ('strictly', 94255),\n ('adhere', 2312),\n ('public_health_measure', 76910),\n ('real_progress_term', 78711),\n ('flatten', 35723),\n ('curve', 21256),\n ('lower', 54092),\n ('current_trend_hospital', 21126),\n ('majority', 54569),\n ('most_need_protective_equipment', 60754),\n ('import', 45527),\n ('china', 12840),\n ('insurable', 48308),\n ('self_employment', 86970),\n ('their_contribution_history', 100318),\n ('accept_evidence', 257),\n ('notice', 63747),\n ('further_detail_application_form', 38328),\n ('website', 114381),\n ('minister_martin', 58763),\n ('safe_travel_initiative', 84939),\n ('continue_support_tourism_industry', 17483),\n ('manage_department_foreign_affair', 54661),\n ('cost', 18204),\n ('this_donation', 104908),\n ('medical_part_million_contribution', 56760),\n ('global_public_health', 39572),\n ('first_million_mask', 35110),\n ('donate', 25776),\n ('health_elderly_care_services_national_board_health_welfare', 42211),\n ('contact_detail', 17097),\n ('alcohol_treatment_service', 3429),\n ('note', 63648),\n ('editor_funding', 27461),\n ('successful_project_county_council_south_east_food_tourism_cluster_achill_island_salt_council',\n  95178),\n ('discover', 25171),\n ('food_experience_county_council_food_network_marketing_taste_county_festival_food',\n  36159),\n ('start', 93087),\n ('register_decrease_turnover', 80184),\n ('correspond', 18150),\n ('compare_same_period', 15519),\n ('previous', 74194),\n ('these_configure_mixed_employment_training_program_main_objective', 103218),\n ('employability_unemployed_people_order', 28695),\n ('their_insertion', 101098),\n ('labor_market', 50385),\n ('line', 52684),\n ('intend_service_crisis_emergency_service', 48483),\n ('hope', 44001),\n ('this_additional_telephone_support_service', 104283),\n ('assistance_guidance', 6322),\n ('question', 78055),\n ('information', 47415),\n ('service', 87412),\n ('differ', 24179),\n ('current_standard', 21078),\n ('only_macro_scoring_system', 65565),\n ('exist', 32021),\n ('witness', 116434),\n ('enormous_innovative_capacity_public_service', 29630),\n ('last_year', 51142),\n ('datum', 21764),\n ('finding', 34774),\n ('relevant_interest_deal', 80979),\n ('impact_covid_society_employment', 45254),\n ('failure', 33484),\n ('continue_eligibility', 17363),\n ('stop', 93893),\n ('fourth_quarter', 37034),\n ('still_many_people', 93815),\n ('employment_result', 29150),\n ('pandemic_meet_international_labour_definition', 68702),\n ('unemployed', 110818),\n ('detailed_information_leaflet_instructional_video', 23659),\n ('consent_document', 16591),\n ('archbishops', 5822),\n ('their_support', 102324),\n ('importance_church_community_people', 45564),\n ('stress', 94195),\n ('negotiate', 62955),\n ('insure', 48340),\n ('monitor', 59503),\n ('same_time', 85332),\n ('several_other_industry', 87722),\n ('minister_children_equality_disability_integration_youth', 58542),\n ('national_online_campaign_event', 62081),\n ('young_people', 117590),\n ('culture', 20702),\n ('sport', 92554),\n ('credit', 20092),\n ('their_qualification_time', 101892),\n ('study', 94617),\n ('abroad', 117),\n ('covid_response', 19653),\n ('consist', 16752),\n ('team_volunteer', 98178),\n ('scientific_research_background', 85998),\n ('upper', 111701),\n ('solution_problem', 90904),\n ('arise', 5879),\n ('editor', 27412),\n ...]"
     },
     "execution_count": 199,
     "metadata": {},
     "output_type": "execute_result"
    }
   ],
   "source": [
    "list(tfidf_vec.vocabulary_.items())"
   ],
   "metadata": {
    "collapsed": false,
    "pycharm": {
     "name": "#%%\n"
    }
   }
  },
  {
   "cell_type": "code",
   "execution_count": 207,
   "outputs": [
    {
     "data": {
      "text/plain": "[('covid_specific_support', 19746),\n ('assume', 6422),\n ('unwound', 111571),\n ('only_exception', 65504),\n ('this_provision_seasonal_worker', 106346),\n ('temporary_contract', 98484),\n ('minister', 58485),\n ('very_glad_government', 112757),\n ('agree', 3056),\n ('phase_reopening_construction_sector', 71677),\n ('similarly_labour_market_number_person', 89117),\n ('pandemic_unemployment_payment', 68813),\n ('fall', 33552),\n ('cent', 11703),\n ('peak', 70734),\n ('early', 26643),\n ('large_decline', 50766),\n ('early_august', 26657),\n ('come', 14435),\n ('know', 50311),\n ('hard', 41846),\n ('continue', 17328),\n ('adhere_public_health_measure', 2325),\n ('individual', 46854),\n ('effort', 27866),\n ('need', 62832),\n ('risk_delta', 84087),\n ('variant_highly_transmissible_strain', 112339),\n ('pose', 72725),\n ('significant_threat', 88912),\n ('unvaccinate', 111553),\n ('partially', 69505),\n ('vaccinate', 112030),\n ('introduction', 49191),\n ('phase_june_level_payment_structure_link_pandemic_unemployment_payment_level_prior_earning',\n  71651),\n ('loan_term', 53172),\n ('range', 78232),\n ('year_three_year_loan', 117515),\n ('unsecured', 111500),\n ('more_information', 60017),\n ('restrict', 83111),\n ('your_movement', 117983),\n ('click', 13486),\n ('establishment_technological_university', 30738),\n ('stimulate', 93835),\n ('more_balanced_growth_population_employment', 59761),\n ('stay', 93704),\n ('course', 18595),\n ('spread', 92678),\n ('this_virus', 107146),\n ('control', 17741),\n ('main_teaching_union_national_education_union_teacher_union', 54335),\n ('very_active_campaigning_school_safety', 112646),\n ('concomitantly_provision_advice_guidance_member', 16218),\n ('crisis', 20242),\n ('pandemic_unemployment_payment_taxation', 68845),\n ('like', 52481),\n ('clarify', 13262),\n ('situation', 89334),\n ('regard', 79860),\n ('taxation', 98064),\n ('million_culture_entrepreneurship_foundation', 57723),\n ('provide', 76282),\n ('loan_entrepreneur', 53130),\n ('sector', 86497),\n ('only_loan_company', 65564),\n ('available', 6885),\n ('particular_mandate_committee', 69763),\n ('engage', 29401),\n ('widely', 116176),\n ('society_crucial_importance_inform_proposal', 90707),\n ('ultimately', 110578),\n ('government', 39985),\n ('plan', 72119),\n ('referendum', 79745),\n ('ensure', 29684),\n ('citizen_business', 12983),\n ('ready', 78599),\n ('possible_scenario', 73103),\n ('secure', 86682),\n ('access_treatment_covid', 525),\n ('datum_government_fund_community_energy_grant_award_project', 21790),\n ('support', 96574),\n ('administer', 2376),\n ('community_energy_grant_scheme', 15121),\n ('first_part', 35157),\n ('such_plan', 95828),\n ('receive', 78945),\n ('evaluate', 30884),\n ('employment_project_midland', 29127),\n ('green_enterprise_other_employment_tourism_potential', 41125),\n ('national_plan_maritime_area', 62114),\n ('set', 87555),\n ('want', 114192),\n ('protect', 76081),\n ('enjoy', 29598),\n ('sea', 86076),\n ('this_be_challenge_time_student', 104425),\n ('their_family_school_community', 100706),\n ('progress_report', 75675),\n ('publish', 77579),\n ('month', 59536),\n ('accountability', 773),\n ('transparency', 109959),\n ('delivery', 22589),\n ('funding_application', 38077),\n ('submit', 94806),\n ('electronically', 28142),\n ('this_platform_heating_device', 106191),\n ('minister_tourism_culture_art_sport_media_martin', 58952),\n ('today', 108687),\n ('announce', 4358),\n ('range_funding', 78278),\n ('approximately', 5694),\n ('assist', 6271),\n ('local_authority', 53203),\n ('develop', 23770),\n ('community_commemorative_initiative', 15091),\n ('remembrance', 81261),\n ('significant_event', 88648),\n ('occur', 64587),\n ('cork', 17988),\n ('country', 18381),\n ('approach_centenary_state', 5354),\n ('this_report_demonstration', 106477),\n ('celebrate', 11678),\n ('rest_day', 83023),\n ('deposit', 23309),\n ('time', 108446),\n ('save', 85415),\n ('account', 661),\n ('minister_children_youth_affair', 58545),\n ('acknowledge', 856),\n ('many_childcare_practitioner', 54982),\n ('their_parenting_care_responsibility', 101608),\n ('ask', 6171),\n ('those_position', 107728),\n ('contribute', 17677),\n ('this_element_emergency_call', 104947),\n ('consider', 16662),\n ('administration_vaccine', 2416),\n ('recommenced', 79221),\n ('age', 2947),\n ('work', 116517),\n ('very_much_team_effort', 112883),\n ('involve', 49462),\n ('scientist', 86001),\n ('school_department_official', 85778),\n ('particular', 69631),\n ('closely', 13864),\n ('offer', 64607),\n ('sincere_congratulation', 89193),\n ('thank', 99027),\n ('launch', 51308),\n ('this_call_minister', 104482),\n ('comment', 14548),\n ('research_innovation', 82261),\n ('absolutely', 155),\n ('critical', 20352),\n ('agriculture', 3233),\n ('prosper', 76074),\n ('respond', 82739),\n ('effectively', 27815),\n ('overarch', 68284),\n ('challenge_time', 12324),\n ('million_covid_adaptation_town_village', 57705),\n ('june_death_case', 49919),\n ('confirm', 16409),\n ('health_protection_surveillance', 42328),\n ('notify', 63785),\n ('covid_death', 18926),\n ('hour', 44234),\n ('hospice_hospice_movement', 44067),\n ('south_hospice_movement_hospice_team_laura_hospice_jack_children_foundation_hospice_foundation_institute_hospice_palliative_care_cancer_society_night_nursing_service_total',\n  91667),\n ('learn', 51541),\n ('live', 52929),\n ('covid', 18709),\n ('concern', 16128),\n ('health', 42096),\n ('love', 53981),\n ('this_time', 106963),\n ('bottom_initiative', 9740),\n ('complement_national_level_policy', 15764),\n ('emanate', 28421),\n ('such_national_enterprise_policy_enterprise', 95768),\n ('renew', 81453),\n ('future_job_initiative', 38846),\n ('demonstrate', 22728),\n ('seriousness', 87389),\n ('euro_member_state', 30870),\n ('view', 113223),\n ('current_crisis', 20854),\n ('funding_stream', 38195),\n ('end', 29311),\n ('notes_editor_period_poverty_discussion_paper_period_poverty_committee_national_strategy_woman',\n  63732),\n ('girl', 39435),\n ('main_finding', 54245),\n ('report', 81765),\n ('international_measure_combat_period_poverty', 48930),\n ('include', 46101),\n ('zero_reduced_rate_sale_period_product_number_jurisdiction', 118304),\n ('case', 11358),\n ('freelancer', 37322),\n ('report_income', 81801),\n ('minimum_wage', 58471),\n ('request', 81966),\n ('their_income', 101050),\n ('victim', 113163),\n ('abuse', 177),\n ('sexual_violence', 87889),\n ('crime', 20186),\n ('single_measure', 89247),\n ('these_package', 103671),\n ('different_timeline', 24363),\n ('date', 21614),\n ('this_entry', 104998),\n ('billion_million_earmark_bonus', 8731),\n ('which_sufficient_reward_worker', 115561),\n ('administrative_assistant', 2422),\n ('business_technical_support_staff', 10647),\n ('temporary', 98439),\n ('valid', 112138),\n ('epidemic', 30120),\n ('scheme', 85506),\n ('aim', 3296),\n ('register_eligible_employee', 80189),\n ('base', 7828),\n ('march', 55435),\n ('estimate', 30744),\n ('people', 70882),\n ('temporary_unemployment_scheme', 98700),\n ('this_initiative', 105582),\n ('additional_capacity', 1606),\n ('high_education_sector', 43106),\n ('meet', 56933),\n ('priority_skill', 74834),\n ('enterprise', 29702),\n ('represent', 81855),\n ('additional_investment', 1862),\n ('surplus_line', 97245),\n ('recommendation', 79239),\n ('contain', 17161),\n ('independent_review_surplus_development_labour_market_skill', 46775),\n ('prof_team', 75404),\n ('responsible', 82931),\n ('instrument_datum_processing_analysis_software', 48290),\n ('scale', 85436),\n ('this_stream', 106806),\n ('fund_scale', 37984),\n ('prove', 76275),\n ('technology_initiative', 98289),\n ('this_measure', 105780),\n ('complement', 15758),\n ('banking_measure', 7754),\n ('spend', 92479),\n ('covid_direct_income', 18942),\n ('date_minister_finance_paschal', 21705),\n ('important_business', 45639),\n ('employment_wage_subsidy_scheme_covid_restriction_support_scheme', 29210),\n ('remain', 81152),\n ('place', 71977),\n ('june', 49888),\n ('further_regional_day', 38609),\n ('fund_student_device', 37999),\n ('worth', 117365),\n ('million', 57554),\n ('package', 68513),\n ('far_high_education_sector', 33747),\n ('deal', 21912),\n ('impact', 45228),\n ('more_depth_work', 59848),\n ('explore', 32677),\n ('issue', 49574),\n ('sustainability_connectivity', 97464),\n ('use', 111870),\n ('place_base_approach_documenting_live_experience_border_region', 71985),\n ('small_important_change', 89628),\n ('many_business', 54965),\n ('limit', 52559),\n ('credit_card_payment', 20101),\n ('raise', 78211),\n ('next_meeting_task_force', 63199),\n ('schedule', 85489),\n ('grocery_retailer', 41199),\n ('discuss', 25198),\n ('their_business', 100096),\n ('prepare', 73801),\n ('safety', 84988),\n ('their_employee', 100563),\n ('continuation_business_food_supply', 17306),\n ('chain', 12195),\n ('their_customer', 100407),\n ('thirdly', 104219),\n ('despite', 23540),\n ('wide_scale_closure_construction_sector_spring', 116137),\n ('encourage', 29288),\n ('overall', 68105),\n ('house', 44289),\n ('building', 10282),\n ('considerably', 16714),\n ('expect', 32426),\n ('cent_decline', 11715),\n ('year', 117430),\n ('responsibility_policy_maker', 82900),\n ('environment', 30024),\n ('right', 83788),\n ('communique', 15044),\n ('refer', 79711),\n ('explore_option_policy_measure', 32678),\n ('improve', 45918),\n ('sustainability_food_system', 97472),\n ('range_measure', 78305),\n ('promote', 75857),\n ('healthy_childhood', 42643),\n ('provision', 76337),\n ('highly_practical_element', 43551),\n ('challenge', 12295),\n ('important_note', 45737),\n ('lay', 51403),\n ('worker', 117033),\n ('avail', 6821),\n ('employ', 28664),\n ('bath_fitter_contact_info_director_communication', 8201),\n ('million_fund_vehicle_community', 57838),\n ('person', 71290),\n ('grant', 40688),\n ('maternity_paternity_childcare_benefit', 56058),\n ('apply', 5215),\n ('more_recalculation', 60180),\n ('thereof', 103034),\n ('these_action', 103057),\n ('vital', 113573),\n ('collective_effort_suppress', 14289),\n ('this_highly_infectious_disease_work', 105417),\n ('reopen_school_healthcare_service', 81619),\n ('healthcare_worker', 42615),\n ('pandemic', 68586),\n ('past_month', 70205),\n ('this_model', 105844),\n ('facilitate', 33388),\n ('payment', 70456),\n ('farmer', 33861),\n ('reflect', 79759),\n ('their_contribution_priority_habitat_species_carbon_sequestration_storage_water_quality_other_system_service',\n  100319),\n ('result', 83183),\n ('locally', 53622),\n ('adapt', 1263),\n ('deliver', 22580),\n ('successfully', 95201),\n ('broad_range_landscape', 9994),\n ('drawing', 25993),\n ('business', 10374),\n ('these_assess_cash_income', 103115),\n ('look', 53887),\n ('mental_health', 57187),\n ('supervise', 96438),\n ('probation_service_justice_plan', 75102),\n ('commit', 14824),\n ('establish', 30640),\n ('cross', 20488),\n ('departmental', 23219),\n ('task', 98038),\n ('force', 36385),\n ('virtual', 113326),\n ('event', 30997),\n ('morning', 60487),\n ('minister_justice', 58740),\n ('forward', 36784),\n ('probation_service', 75101),\n ('author', 6719),\n ('case_above_mention_business', 11359),\n ('reach', 78552),\n ('certain_rate_occupancy', 12035),\n ('oblige', 64461),\n ('revoke', 83748),\n ('permanently', 71240),\n ('suspension', 97366),\n ('their_employee_contract', 100565),\n ('join', 49725),\n ('special_support_mechanism', 92034),\n ('applicable', 4971),\n ('only_employee', 65490),\n ('whose_employment_contract', 115796),\n ('suspend', 97353),\n ('their_suspension', 102340),\n ('this_guidance', 105370),\n ('ongoing_review', 65055),\n ('meal_allowance_insurance', 56395),\n ('accident_work_article', 582),\n ('around_month_later_march_company', 5916),\n ('this_support_accumulate_datum', 106850),\n ('initiate', 47799),\n ('implement', 45363),\n ('trade', 109526),\n ('union_congress', 111049),\n ('committee_member', 14894),\n ('abigail', 17),\n ('collin', 14363),\n ('capacity', 11012),\n ('member', 57001),\n ('national', 61581),\n ('newborn', 63065),\n ('governance', 39968),\n ('group', 41275),\n ('committee', 14887),\n ('current', 20791),\n ('evidence', 31367),\n ('addition', 1353),\n ('screening', 86064),\n ('public_employer', 76695),\n ('participate', 69532),\n ('purchase', 77661),\n ('phone_exchange', 71728),\n ('allow', 3540),\n ('employment_blind_worker', 29033),\n ('access_covid', 317),\n ('enhance', 29456),\n ('illness', 44983),\n ('benefit', 8472),\n ('unemployment', 110874),\n ('direct', 24699),\n ('head', 42044),\n ('food_safety_authority', 36245),\n ('first_country', 34942),\n ('react', 78557),\n ('infect_pregnant_mare', 47268),\n ('likely', 52485),\n ('suffer', 96195),\n ('late_term_abortion', 51257),\n ('their_pregnancy', 101781),\n ('million_reintegration_people', 58106),\n ('social_support', 90590),\n ('sincerely', 89196),\n ('stakeholder', 92955),\n ('advisory_group_process', 2801),\n ('continue_work', 17498),\n ('come_month', 14451),\n ('far', 33696),\n ('these_plan', 103707),\n ('assessment', 6224),\n ('this_response', 106517),\n ('effective', 27729),\n ('household_firm', 44336),\n ('welcome', 114541),\n ('finally', 34408),\n ('company', 15338),\n ('partial_unemployment', 69494),\n ('their_workforce', 102636),\n ('condition', 16250),\n ('recovery_plan_case', 79399),\n ('small_company', 89589),\n ('retention_plan_case_company', 83412),\n ('employee', 28696),\n ('strict_adherence_public_health_measure_family', 94215),\n ('childcare_provider', 12804),\n ('urge', 111772),\n ('support_period_administrative_board_employment_service', 96946),\n ('decide', 22009),\n ('each_month_extension_measure', 26456),\n ('maximum_award', 56139),\n ('good_people', 39822),\n ('buy', 10690),\n ('collective', 14225),\n ('necessary', 62609),\n ('partners_bank_bank_international_asset_bank_municipal_bank_first_investment_bank_commerce_bank_central_cooperative_bank',\n  70103),\n ('region', 80021),\n ('worldwide', 117331),\n ('million_fund_rural_school_community', 57832),\n ('town_village_renewal_scheme_town', 109479),\n ('village', 113280),\n ('country_measure', 18453),\n ('immediately', 45147),\n ('delighted', 22559),\n ('welcome_appointment_interim_president_university_limerick', 114556),\n ('chair_event', 12227),\n ('closing_remark', 13880),\n ('capture', 11150),\n ('positivity_energy_room', 72917),\n ('participant_network', 69522),\n ('each_other_harness_power_experience', 26477),\n ('exist_network', 32198),\n ('total_budget', 108987),\n ('extent', 33008),\n ('applicant', 4998),\n ('seek', 86800),\n ('ordinate_action', 66537),\n ('other_group', 67034),\n ('other_initiative', 67140),\n ('create', 19941),\n ('wide_impact', 116011),\n ('network', 63000),\n ('formal_engagement', 36607),\n ('creation', 19956),\n ('synergy', 97733),\n ('partnership', 70106),\n ('department', 22770),\n ('examine', 31491),\n ('alternative_method', 3939),\n ('pandemic_look', 68698),\n ('resume', 83271),\n ('person_ceremony', 71297),\n ('public_administration_asset_support_government', 76557),\n ('citizen', 12977),\n ('increase_care_benefit_current_situation', 46343),\n ('major_financial_consequence_employer_business_community', 54469),\n ('ovine_caprine_flock_herd', 68457),\n ('inspect', 48107),\n ('ovine_caprine_identification_registration_requirement', 68458),\n ('national_flock_herd', 61883),\n ('hospital_statistic', 44134),\n ('total_number_case', 109148),\n ('total_number_total_number', 109166),\n ('admit', 2489),\n ('total_number_death_total_number_healthcare_worker_number_cluster', 109156),\n ('associate', 6368),\n ('cluster_median_statistic', 13943),\n ('measure', 56459),\n ('midnight', 57460),\n ('mean', 56408),\n ('whose_driving', 115789),\n ('expire', 32628),\n ('march_august', 55448),\n ('validity', 112200),\n ('extend', 32760),\n ('seven', 87570),\n ('total', 108915),\n ('june_reason_failure_system', 49995),\n ('propose', 76016),\n ('systemic_reform_occupational_medicine', 97790),\n ('more_protection_beneficiary', 60173),\n ('high_base_case_work_accident', 43005),\n ('case_temporary_disability', 11478),\n ('this_public_insurance_fund', 106359),\n ('german_hospital_society_interest_hospital', 39400),\n ('federal_minister_health_debate', 34042),\n ('scheme_fund_scheme', 85599),\n ('proposal', 75995),\n ('convey', 17831),\n ('strong_message', 94380),\n ('tree_woodland', 110189),\n ('wide_range_environmental_resource_service', 116071),\n ('society', 90702),\n ('job_protection_plan_partial_response', 49666),\n ('government_furlough_scheme', 40223),\n ('discussion_economic_development', 25214),\n ('add', 1308),\n ('this_scheme', 106588),\n ('design', 23405),\n ('application_process_user', 5171),\n ('friendly', 37394),\n ('accessible', 552),\n ('possible', 72967),\n ('eligible_payment_apply', 28329),\n ('delay', 22517),\n ('innovation_hub', 47918),\n ('desk_space', 23532),\n ('other_event', 66945),\n ('place_wedding_maximum_guest_service', 72102),\n ('their_credit_union', 100375),\n ('digital_telephone_channel', 24628),\n ('software_solution', 90749),\n ('local', 53184),\n ('office', 64624),\n ('city', 13023),\n ('provider', 76317),\n ('minister_health', 58659),\n ('confirmation', 16431),\n ('available_increase_direct_access_diagnostic_service', 7002),\n ('this_week', 107211),\n ('xiii', 117425),\n ('amend', 4055),\n ('article', 6032),\n ('article_tourism_republic', 6076),\n ('ongoing_regulatory_reform_public_procurement_environmental_labour_other_area_order',\n  65043),\n ('streamline', 94151),\n ('achieve', 841),\n ('competitiveness_sustainability', 15743),\n ('this_campaign', 104489),\n ('coordinate', 17874),\n ('relevant', 80894),\n ('communicate', 15004),\n ('message', 57338),\n ('their_network', 101459),\n ('available_talk_radio', 7139),\n ('there_will_festival_language', 102968),\n ('happen', 41836),\n ('workshop_language_class', 117217),\n ('student', 94524),\n ('lot', 53962),\n ('local_speaker', 53577),\n ('getting', 39428),\n ('play', 72276),\n ('lead_role_fight', 51480),\n ('council', 18297),\n ('able', 35),\n ('funding', 38062),\n ('further_discretionary_support_vulnerable_people', 38359),\n ('other_support_arrangement', 67619),\n ('such_local_welfare_scheme', 95709),\n ('employer_responsibility', 28967),\n ('pay', 70377),\n ('care_benefit_day', 11198),\n ('reduce', 79534),\n ('day', 21855),\n ('regularly', 80419),\n ('school', 85720),\n ('update_guidance_help', 111625),\n ('operate', 65992),\n ('school_meal', 85843),\n ('amid', 4106),\n ('extended_covid_restriction', 32810),\n ('president_federation_nursing_profession', 73977),\n ('number_social_integration_initiative', 64166),\n ('this_fund', 105234),\n ('over_million_project', 68080),\n ('contribution', 17689),\n ('social_partner', 90349),\n ('outside', 67958),\n ('workplace', 117155),\n ('example', 31503),\n ('vehicle_owner', 112577),\n ('affect', 2838),\n ('vehicle_lift_issue', 112576),\n ('complete', 15782),\n ('their_test', 102381),\n ('note_editor', 63661),\n ('currently', 21148),\n ('rate', 78487),\n ('effect', 27694),\n ('prior_earning_rate_recipient', 74705),\n ('access_heart_disease_cancer_screening', 392),\n ('diabetes', 24130),\n ('prevention_management_workshop', 74167),\n ('place_community_base_medical_environment', 71994),\n ('easy_member', 26996),\n ('access', 277),\n ('wait', 114104),\n ('fully', 37833),\n ('follow', 35983),\n ('public_health_advice', 76768),\n ('every_early_education_childcare_service_staff_member', 31151),\n ('position', 72727),\n ('volunteer', 113832),\n ('their_service', 102159),\n ('greatly', 41085),\n ('value', 112272),\n ('derogatory_compensation_condition', 23384),\n ('mention_person', 57313),\n ('meeting', 56970),\n ('entitlement_benefit', 29915),\n ('consultant_psychiatrist_integrate_care_lead', 16966),\n ('phase_response', 71681),\n ('opportunity_increase_exercise_activity', 66222),\n ('friend', 37387),\n ('outside_household', 67973),\n ('facility', 33431),\n ('business_support_agency', 10638),\n ('email_address', 28405),\n ('register', 80168),\n ('their_activity', 99907),\n ('debt_social_security_office', 21975),\n ('comment_result', 14600),\n ('relate', 80623),\n ('alcohol_minister', 3415),\n ('survey_result', 97290),\n ('previous_day_year', 74228),\n ('survey', 97267),\n ('alcohol', 3393),\n ('consume', 17035),\n ('more_alcoholic_drink', 59744),\n ('occasion', 64498),\n ('entitlement', 29914),\n ('permanent_residence_state', 71224),\n ('variety_healthy_food', 112366),\n ('your_child', 117701),\n ('read', 78577),\n ('list_town_village', 52849),\n ('approve', 5630),\n ('standard_town_village_renewal_scheme_funding', 93059),\n ('today_addition', 108688),\n ('model', 59341),\n ('start_point_teacher', 93133),\n ('estimate_mark', 30774),\n ('historical_pattern', 43630),\n ('achievement', 846),\n ('each_school', 26552),\n ('start_point', 93132),\n ('this_highlight_importance_level_virus_community_primary_measure', 105412),\n ('nursing_home', 64273),\n ('innovation_skill_voucher', 47942),\n ('mentor', 57315),\n ('fund_employment_incentive_investment_scheme', 37931),\n ('individual_investor', 46962),\n ('obtain', 64486),\n ('income_relief_investment', 46223),\n ('certify_qualifying_company', 12182),\n ('compensation_scheme', 15617),\n ('administration', 2397),\n ('highly_dependable_tourism', 43535),\n ('payment_easter_bonus', 70519),\n ('cover', 18652),\n ('state_budget', 93201),\n ('average', 7175),\n ('county', 18501),\n ('average_case_incidence_rate_population_case', 7186),\n ('last_day', 51005),\n ('renewable_energy_credit_technology_gateway_late_addition_enterprise_technology_gateway',\n  81485),\n ('amendment_emergency_legislation', 4082),\n ('adopt', 2498),\n ('introduce_possibility', 49182),\n ('conclude', 16195),\n ('temporary_employment_contract', 98513),\n ('similar_contract', 89012),\n ('hire', 43583),\n ('activity', 1121),\n ('harvesting', 41962),\n ('state_security_times_state_state_emergency', 93463),\n ('inform', 47363),\n ('generally', 39275),\n ('much_consultation', 61096),\n ('positive_step', 72895),\n ('conclusion_exploratory_talk', 16208),\n ('taxi_industry', 98088),\n ('pick', 71890),\n ('recent', 78963),\n ('project', 75724),\n ('today_project', 108784),\n ('assistance', 6304),\n ('fund', 37900),\n ('community_business', 15067),\n ('cash_injection', 11527),\n ('boost', 9144),\n ('economic_activity', 27031),\n ('many_area_region', 54948),\n ('suspect', 97335),\n ('isolate', 49536),\n ('away', 7481),\n ('your_household', 117890),\n ('your_close_contact', 117727),\n ('test', 98911),\n ('soon', 91576),\n ('increase_reserve_capital', 46539),\n ('funding_measure', 38134),\n ('partner', 70047),\n ('parent_carer', 68940),\n ('arguably_this_trickiest_moment', 5876),\n ('misstep', 59229),\n ('resident', 82426),\n ('nurse', 64248),\n ('home', 43729),\n ('vulnerable', 113912),\n ('their_underlie_medical_condition', 102469),\n ('care_need', 11220),\n ('close_physical_contact', 13803),\n ('encourage_community', 29291),\n ('share', 87922),\n ('their_culture_heritage', 100387),\n ('wide_public_sense', 116042),\n ('identify', 44922),\n ('domestic_violence', 25751),\n ('three_critical_service_area', 108067),\n ('entire_energy_partner', 29848),\n ('focus', 35870),\n ('this_public_health_emergency', 106353),\n ('psychological', 76511),\n ('help', 42852),\n ('teacher', 98107),\n ('student_parent', 94581),\n ('emotional_stress', 28641),\n ('significantly', 88936),\n ('increase', 46298),\n ('this_survey', 106870),\n ('gain', 38967),\n ('high_response_rate', 43381),\n ('three_survey', 108283),\n ('conduct', 16317),\n ('civil_servant_workforce', 13171),\n ('northern', 63569),\n ('great', 40804),\n ('eligible', 28204),\n ('online_service', 65341),\n ('these_statistic', 103921),\n ('midnight_march', 57468),\n ('last_statistic', 51104),\n ('million_refugee', 58096),\n ('population_refugee', 72661),\n ('family_application', 33591),\n ('article_employment_republic', 6044),\n ('force_june', 36401),\n ('high_wage_subsidy', 43499),\n ('payable_employer_employee', 70436),\n ('downtime', 25898),\n ('context_covid_pandemic_compete_trade_union', 17224),\n ('jointly', 49827),\n ('agreement', 3107),\n ('mitigate_pandemic_impact', 59251),\n ('essential', 30440),\n ('purpose', 77701),\n ('close', 13668),\n ('attention_local_condition_advice', 6508),\n ('first_step', 35267),\n ('online_application_farmer_contact_registration', 65123),\n ('another_step', 4735),\n ('reopen_society', 81626),\n ('their_part', 101609),\n ('requirement', 82088),\n ('public_health_business_customer', 76829),\n ('alike', 3461),\n ('country_people', 18462),\n ('worry', 117348),\n ('concerned', 16161),\n ('retain', 83392),\n ('ongoing_protection_support_nursing_home_resident', 65032),\n ('incidence_rate', 46080),\n ('excess_checkpoint', 31809),\n ('connection', 16539),\n ('positive_development_situation_individual_country_company', 72808),\n ('gradually', 40632),\n ('open', 65775),\n ('those_employee', 107487),\n ('various_reason', 112482),\n ('return_office', 83493),\n ('funding_model', 38145),\n ('reform', 79778),\n ('approach', 5350),\n ('reinforce', 80578),\n ('silos', 88979),\n ('resource', 82573),\n ('flexibly', 35813),\n ('outcome', 67779),\n ('much_simple_pathway_learner', 61238),\n ('opportunity', 66177),\n ('ministerial_official_level', 58997),\n ('appropriate_partner', 5483),\n ('such_business_farming_fishery', 95293),\n ('amplify', 4208),\n ('their_platform', 101743),\n ('covid_evolve_pandemic_commit_adapt_advice_guideline', 19018),\n ('emerge_evidence', 28455),\n ('easily_accessible_online_survey', 26897),\n ('principal', 74584),\n ('wild_bird', 116229),\n ('carry', 11345),\n ('avian_influenza_virus', 7337),\n ('traditionally', 109667),\n ('migrate', 57500),\n ('east_atlantic_flyway', 26905),\n ('cold_part', 14082),\n ('northern_eastern_western_country', 63578),\n ('lose', 53913),\n ('their_commuter_status', 100254),\n ('enter', 29694),\n ('quarantine', 77965),\n ('their_home_country', 100958),\n ('that_there_will_individual_need', 99790),\n ('determine', 23741),\n ('affect_person', 2851),\n ('disability', 24974),\n ('access_shelter_workshop', 490),\n ('another_facility', 4623),\n ('danger', 21509),\n ('this_drug', 104922),\n ('document', 25643),\n ('those_addict_drug', 107332),\n ('perceive', 70949),\n ('common', 14906),\n ('response', 82762),\n ('patient', 70292),\n ('large_scale_repair', 50928),\n ('upgrade', 111671),\n ('strategic_trail_amenity_development_grant', 94087),\n ('increasingly', 46607),\n ('clear', 13358),\n ('only_global_effort', 65533),\n ('covid_pandemic', 19300),\n ('vaccination', 112038),\n ('roll', 84379),\n ('globally', 39620),\n ('financial_report_company', 34623),\n ('state', 93164),\n ('that_company_rapid_growth_base_focus_commerce', 99178),\n ('attract', 6528),\n ('retail_customer', 83321),\n ('especially', 30343),\n ('product', 75241),\n ('checklist_project', 12596),\n ('risk_life_health', 84132),\n ('this_community', 104604),\n ('bring', 9936),\n ('public_health_county_city_management_association', 76841),\n ('local_authority_traveller_health_unit', 53259),\n ('thus_primary_healthcare_traveller_project', 108389),\n ('integrate_care', 48384),\n ('old_people_same_goal', 64806),\n ('especially_old_people', 30390),\n ('wants', 114196),\n ('hospital_stay', 44136),\n ('continuous_long_term', 17583),\n ('care', 11189),\n ('strictly', 94255),\n ('adhere', 2312),\n ('public_health_measure', 76910),\n ('real_progress_term', 78711),\n ('flatten', 35723),\n ('curve', 21256),\n ('lower', 54092),\n ('current_trend_hospital', 21126),\n ('majority', 54569),\n ('most_need_protective_equipment', 60754),\n ('import', 45527),\n ('china', 12840),\n ('insurable', 48308),\n ('self_employment', 86970),\n ('their_contribution_history', 100318),\n ('accept_evidence', 257),\n ('notice', 63747),\n ('further_detail_application_form', 38328),\n ('website', 114381),\n ('minister_martin', 58763),\n ('safe_travel_initiative', 84939),\n ('continue_support_tourism_industry', 17483),\n ('manage_department_foreign_affair', 54661),\n ('cost', 18204),\n ('this_donation', 104908),\n ('medical_part_million_contribution', 56760),\n ('global_public_health', 39572),\n ('first_million_mask', 35110),\n ('donate', 25776),\n ('health_elderly_care_services_national_board_health_welfare', 42211),\n ('contact_detail', 17097),\n ('alcohol_treatment_service', 3429),\n ('note', 63648),\n ('editor_funding', 27461),\n ('successful_project_county_council_south_east_food_tourism_cluster_achill_island_salt_council',\n  95178),\n ('discover', 25171),\n ('food_experience_county_council_food_network_marketing_taste_county_festival_food',\n  36159),\n ('start', 93087),\n ('register_decrease_turnover', 80184),\n ('correspond', 18150),\n ('compare_same_period', 15519),\n ('previous', 74194),\n ('these_configure_mixed_employment_training_program_main_objective', 103218),\n ('employability_unemployed_people_order', 28695),\n ('their_insertion', 101098),\n ('labor_market', 50385),\n ('line', 52684),\n ('intend_service_crisis_emergency_service', 48483),\n ('hope', 44001),\n ('this_additional_telephone_support_service', 104283),\n ('assistance_guidance', 6322),\n ('question', 78055),\n ('information', 47415),\n ('service', 87412),\n ('differ', 24179),\n ('current_standard', 21078),\n ('only_macro_scoring_system', 65565),\n ('exist', 32021),\n ('witness', 116434),\n ('enormous_innovative_capacity_public_service', 29630),\n ('last_year', 51142),\n ('datum', 21764),\n ('finding', 34774),\n ('relevant_interest_deal', 80979),\n ('impact_covid_society_employment', 45254),\n ('failure', 33484),\n ('continue_eligibility', 17363),\n ('stop', 93893),\n ('fourth_quarter', 37034),\n ('still_many_people', 93815),\n ('employment_result', 29150),\n ('pandemic_meet_international_labour_definition', 68702),\n ('unemployed', 110818),\n ('detailed_information_leaflet_instructional_video', 23659),\n ('consent_document', 16591),\n ('archbishops', 5822),\n ('their_support', 102324),\n ('importance_church_community_people', 45564),\n ('stress', 94195),\n ('negotiate', 62955),\n ('insure', 48340),\n ('monitor', 59503),\n ('same_time', 85332),\n ('several_other_industry', 87722),\n ('minister_children_equality_disability_integration_youth', 58542),\n ('national_online_campaign_event', 62081),\n ('young_people', 117590),\n ('culture', 20702),\n ('sport', 92554),\n ('credit', 20092),\n ('their_qualification_time', 101892),\n ('study', 94617),\n ('abroad', 117),\n ('covid_response', 19653),\n ('consist', 16752),\n ('team_volunteer', 98178),\n ('scientific_research_background', 85998),\n ('upper', 111701),\n ('solution_problem', 90904),\n ('arise', 5879),\n ('editor', 27412),\n ...]"
     },
     "execution_count": 207,
     "metadata": {},
     "output_type": "execute_result"
    }
   ],
   "source": [
    "tmp_words"
   ],
   "metadata": {
    "collapsed": false,
    "pycharm": {
     "name": "#%%\n"
    }
   }
  },
  {
   "cell_type": "code",
   "execution_count": 194,
   "outputs": [],
   "source": [
    "def custom_cmp(item1, item2):\n",
    "    return item1[1] - item2[1]"
   ],
   "metadata": {
    "collapsed": false,
    "pycharm": {
     "name": "#%%\n"
    }
   }
  },
  {
   "cell_type": "code",
   "execution_count": 195,
   "outputs": [],
   "source": [
    "from functools import cmp_to_key"
   ],
   "metadata": {
    "collapsed": false,
    "pycharm": {
     "name": "#%%\n"
    }
   }
  },
  {
   "cell_type": "code",
   "execution_count": 206,
   "outputs": [
    {
     "data": {
      "text/plain": "[('zoom_video_call', 118317),\n ('zoom_provision', 118316),\n ('zoom_available_people', 118315),\n ('zoom', 118314),\n ('zoo_animal_park_summer_camp', 118313),\n ('zoo', 118312),\n ('zone', 118311),\n ('zinc_mine_output', 118310),\n ('zinc_lead_copper_gold_bearing_quartz_vein', 118309),\n ('zimbabwe', 118308),\n ('zest', 118307),\n ('zero_three_year', 118306),\n ('zero_risk_option_reopen_school', 118305),\n ('zero_reduced_rate_sale_period_product_number_jurisdiction', 118304),\n ('zero_rate_website', 118303),\n ('zero_rate_personal_protective_equipment', 118302),\n ('zero_project_annual_conference', 118301),\n ('zero_project', 118300),\n ('zero_policy', 118299),\n ('zero_percent_repayment_period', 118298),\n ('zero_interest_rate', 118297),\n ('zero_interest_phase', 118296),\n ('zero_hour_contract_call_contract', 118295),\n ('zero_hour_contract', 118294),\n ('zero_hour', 118293),\n ('zero_greenhouse_emission', 118292),\n ('zero_enhance_biodiversity', 118291),\n ('zero_employee', 118290),\n ('zero_emission_government', 118289),\n ('zero_emission_challenge', 118288),\n ('zero_emission_capable_electric_alternative', 118287),\n ('zero_emission', 118286),\n ('zero_carbon_reform', 118285),\n ('zero_carbon_community_building_sustainability', 118284),\n ('zero_arrear_water_charge', 118283),\n ('zero_arrear', 118282),\n ('zero', 118281),\n ('youth_world', 118280),\n ('youth_worker_volunteer', 118279),\n ('youth_worker_peer', 118278),\n ('youth_worker', 118277),\n ('youth_work_youth_cafe', 118276),\n ('youth_work_total', 118275),\n ('youth_work', 118274),\n ('youth_unemployment_rate', 118273),\n ('youth_unemployment', 118272),\n ('youth_strand', 118271),\n ('youth_sport_art_educational_body', 118270),\n ('youth_sport_art', 118269),\n ('youth_social_support', 118268),\n ('youth_social_inclusion_integrate_foot_protection_network_self_management_support_chronic_disease',\n  118267),\n ('youth_service_young_people', 118266),\n ('youth_service_purchase', 118265),\n ('youth_service_county_limerick_partnership_company_limit_guarantee_county',\n  118264),\n ('youth_service_club', 118263),\n ('youth_service', 118262),\n ('youth_sector_oversight_group', 118261),\n ('youth_sector_guidance_phase_introduction', 118260),\n ('youth_sector_guidance', 118259),\n ('youth_sector_digital_youth_information', 118258),\n ('youth_sector', 118257),\n ('youth_relate_activity', 118256),\n ('youth_quarantine_festival_quarantine_festival', 118255),\n ('youth_project', 118254),\n ('youth_practitioner_capacity', 118253),\n ('youth_package', 118252),\n ('youth_officer', 118251),\n ('youth_national_online_campaign', 118250),\n ('youth_minority_community', 118249),\n ('youth_minister', 118248),\n ('youth_message_thank_mater_hospital_staff', 118247),\n ('youth_member_youth_work_county_partnership', 118246),\n ('youth_march', 118245),\n ('youth_live_group', 118244),\n ('youth_justice_worker_academic', 118243),\n ('youth_justice_system', 118242),\n ('youth_justice_strategy', 118241),\n ('youth_justice_policy', 118240),\n ('youth_justice_area', 118239),\n ('youth_justice_action_plan', 118238),\n ('youth_information', 118237),\n ('youth_group_sport_club_art_cultural_body', 118236),\n ('youth_group_club_climate_justice', 118235),\n ('youth_group', 118234),\n ('youth_funding', 118233),\n ('youth_friendly_signpost_exist_local_service_activity', 118232),\n ('youth_forum_group_young_people', 118231),\n ('youth_forum_event', 118230),\n ('youth_forum', 118229),\n ('youth_federal_ministry', 118228),\n ('youth_entrepreneurship', 118227),\n ('youth_engagement_part', 118226),\n ('youth_employment_education', 118225),\n ('youth_employment_dutch_government', 118224),\n ('youth_employment', 118223),\n ('youth_crime_obvious_proportion_child', 118222),\n ('youth_crime', 118221),\n ('youth_consultation_partnership', 118220),\n ('youth_community_development_facility_example_action_site_community',\n  118219),\n ('youth_community_development_facility', 118218),\n ('youth_communique', 118217),\n ('youth_club_service', 118216),\n ('youth_club_cork', 118215),\n ('youth_club', 118214),\n ('youth_climate_justice_fund', 118213),\n ('youth_citizenship_leadership_life', 118212),\n ('youth_case', 118211),\n ('youth_affairs_relation_mother_baby_home', 118210),\n ('youth_affairs_minister_finance_pathway', 118209),\n ('youth_affair_virgin_medium_department_rural_community_development_national_youth_council_rights_alliance_prince_trust',\n  118208),\n ('youth_affair_support', 118207),\n ('youth_affair_scheme_service_covid', 118206),\n ('youth_affair_minister_public_expenditure_finance_measure_childcare_sector',\n  118205),\n ('youth_affair_message', 118204),\n ('youth_affair_innovation_success', 118203),\n ('youth_affair_health_education_skill', 118202),\n ('youth_affair', 118201),\n ('youth_advisory_group_member_youth_advisory_group', 118200),\n ('youth_advisory_group', 118199),\n ('youth', 118198),\n ('yourself_initiative', 118197),\n ('your_your_pharmacist', 118196),\n ('your_workplace_open_work', 118195),\n ('your_workplace_country', 118194),\n ('your_workplace', 118193),\n ('your_workforce', 118192),\n ('your_worker_customer', 118191),\n ('your_worker', 118190),\n ('your_work_experience', 118189),\n ('your_work', 118188),\n ('your_widow_contributory_pension', 118187),\n ('your_well_risk', 118186),\n ('your_weekly_rate_payment', 118185),\n ('your_weekly_mean', 118184),\n ('your_vulnerable_family_member', 118183),\n ('your_view', 118182),\n ('your_video', 118181),\n ('your_veterinary_surgeon', 118180),\n ('your_veterinary_practitioner_advice', 118179),\n ('your_very_first_sign', 118178),\n ('your_verdict_problem', 118177),\n ('your_vehicle_port', 118176),\n ('your_value_dedication_community', 118175),\n ('your_vaccine_schedule', 118174),\n ('your_vaccine', 118173),\n ('your_vaccination_status', 118172),\n ('your_vaccination_certificate', 118171),\n ('your_usual_household_cleaning_agent', 118170),\n ('your_unemployment_claim', 118169),\n ('your_turn', 118168),\n ('your_trip', 118167),\n ('your_travel_agent', 118166),\n ('your_travel', 118165),\n ('your_transit', 118164),\n ('your_training', 118163),\n ('your_trade_representative_body_relevant_state_agency', 118162),\n ('your_time_shop', 118161),\n ('your_time', 118160),\n ('your_ticket_change_aircraft', 118159),\n ('your_thought_question', 118158),\n ('your_thought', 118157),\n ('your_think', 118156),\n ('your_these_covid_related_consultation_referral_test', 118155),\n ('your_test_provider', 118154),\n ('your_test_assessment', 118153),\n ('your_test', 118152),\n ('your_telephone_consultation', 118151),\n ('your_team', 118150),\n ('your_taste', 118149),\n ('your_table', 118148),\n ('your_system', 118147),\n ('your_symptom', 118146),\n ('your_swiss_spouse_civil_partner_family_member', 118145),\n ('your_swiss_family_member_base_treaty_right', 118144),\n ('your_support_safety', 118143),\n ('your_support_healthcare_staff', 118142),\n ('your_support_bubble_support', 118141),\n ('your_support', 118140),\n ('your_supplier_logistic_agent', 118139),\n ('your_supplier', 118138),\n ('your_success', 118137),\n ('your_submit_query', 118136),\n ('your_submission_subject_line', 118135),\n ('your_submission', 118134),\n ('your_study', 118133),\n ('your_story', 118132),\n ('your_store_number', 118131),\n ('your_store', 118130),\n ('your_staying', 118129),\n ('your_stationary_mobile_home_caravan', 118128),\n ('your_statement_provisional_result', 118127),\n ('your_start', 118126),\n ('your_standard', 118125),\n ('your_staff_workplace', 118124),\n ('your_staff_customer', 118123),\n ('your_staff', 118122),\n ('your_spouse_civil_partner_partner', 118121),\n ('your_spouse_civil_partner_child', 118120),\n ('your_spouse', 118119),\n ('your_sport_youth_club', 118118),\n ('your_specific_calculate_grade', 118117),\n ('your_solidarity', 118116),\n ('your_social_welfare_payment', 118115),\n ('your_social_network', 118114),\n ('your_social_life', 118113),\n ('your_social_interaction', 118112),\n ('your_social_distance', 118111),\n ('your_social_contact_limit', 118110),\n ('your_social_contact', 118109),\n ('your_social_circle', 118108),\n ('your_smell', 118107),\n ('your_sleeve', 118106),\n ('your_skin', 118105),\n ('your_situation', 118104),\n ('your_sister', 118103),\n ('your_sick', 118102),\n ('your_septic_tank', 118101),\n ('your_sense_smell_taste', 118100),\n ('your_sense', 118099),\n ('your_seller_country_origin', 118098),\n ('your_second_vaccine', 118097),\n ('your_second_dose_week', 118096),\n ('your_second_dose_vaccine', 118095),\n ('your_second_dose_order', 118094),\n ('your_second_dose', 118093),\n ('your_second_covid_vaccination', 118092),\n ('your_script_advance', 118091),\n ('your_school_several_measure_place_support', 118090),\n ('your_school_fund_service_provider', 118089),\n ('your_school_detail_arrangement', 118088),\n ('your_school_candidate', 118087),\n ('your_school', 118086),\n ('your_saving_investment', 118085),\n ('your_sake', 118084),\n ('your_safety_circumstance', 118083),\n ('your_safety', 118082),\n ('your_safe_passage', 118081),\n ('your_safe_meaningful_memorable_right_reason', 118080),\n ('your_safe_action', 118079),\n ('your_sacrifice', 118078),\n ('your_route_check', 118077),\n ('your_room_phone', 118076),\n ('your_room', 118075),\n ('your_role_stakeholder_department_health', 118074),\n ('your_role', 118073),\n ('your_risk_infection', 118072),\n ('your_risk_assess_leave', 118071),\n ('your_risk', 118070),\n ('your_right_social_welfare_record', 118069),\n ('your_right_event_travel_disruption', 118068),\n ('your_right', 118067),\n ('your_revenue', 118066),\n ('your_return', 118065),\n ('your_retail_business_contact', 118064),\n ('your_result', 118063),\n ('your_resource', 118062),\n ('your_residence', 118061),\n ('your_reservation', 118060),\n ('your_representative_advice', 118059),\n ('your_relationship', 118058),\n ('your_register_partner', 118057),\n ('your_region', 118056),\n ('your_recovery_certificate', 118055),\n ('your_record_involvement_forestry_promotion', 118054),\n ('your_quick_guide_provisional_vaccine_allocation_group', 118053),\n ('your_quick_guide_change', 118052),\n ('your_question_comment', 118051),\n ('your_question', 118050),\n ('your_query_product_contact_point', 118049),\n ('your_query_email_agriculture', 118048),\n ('your_query', 118047),\n ('your_qualification', 118046),\n ('your_project', 118045),\n ('your_professional_path_company', 118044),\n ('your_product', 118043),\n ('your_private_test_provider', 118042),\n ('your_privacy', 118041),\n ('your_priority', 118040),\n ('your_prior_earning', 118039),\n ('your_premise', 118038),\n ('your_pregnancy', 118037),\n ('your_practice_arrange', 118036),\n ('your_poultry', 118035),\n ('your_posting', 118034),\n ('your_post_office_local_social_welfare_office', 118033),\n ('your_post_office_financial_institution', 118032),\n ('your_positive_action', 118031),\n ('your_podcast', 118030),\n ('your_planning_question_series_online_planning_information_leaflet', 118029),\n ('your_plan', 118028),\n ('your_place_work', 118027),\n ('your_physical_presence_essential_workplace', 118026),\n ('your_phone', 118025),\n ('your_pharmacist', 118024),\n ('your_perspective', 118023),\n ('your_personal_information', 118022),\n ('your_personal_datum', 118021),\n ('your_perseverance_short_term', 118020),\n ('your_perseverance', 118019),\n ('your_permission_registration', 118018),\n ('your_period_home_quarantine', 118017),\n ('your_pension_reference_number', 118016),\n ('your_pension_claim_number', 118015),\n ('your_pension', 118014),\n ('your_peer', 118013),\n ('your_payment', 118012),\n ('your_patron_client', 118011),\n ('your_patience', 118010),\n ('your_passport', 118009),\n ('your_passenger_right_passenger_right', 118008),\n ('your_passenger_right', 118007),\n ('your_part', 118006),\n ('your_parent_guardian_consent_consent_part', 118005),\n ('your_parent', 118004),\n ('your_outer_clothing_leave_area', 118003),\n ('your_outdoor_space_winter_month', 118002),\n ('your_other_permission_condition', 118001),\n ('your_online_trading_activity_subscription', 118000),\n ('your_ongoing_work_support', 117999),\n ('your_old_person', 117998),\n ('your_office_workplace', 117997),\n ('your_offer_statement_application_email', 117996),\n ('your_obstetrician_midwife_guidance_bespoke_health_advice', 117995),\n ('your_number_daily_contact', 117994),\n ('your_number', 117993),\n ('your_nose_mouth', 117992),\n ('your_nose', 117991),\n ('your_network_time', 117990),\n ('your_need_test', 117989),\n ('your_need', 117988),\n ('your_national_qualification', 117987),\n ('your_national_family_member', 117986),\n ('your_name', 117985),\n ('your_movement_day', 117984),\n ('your_movement', 117983),\n ('your_move', 117982),\n ('your_mouth_nose', 117981),\n ('your_mouth_eye', 117980),\n ('your_mouth', 117979),\n ('your_motorbike_bicycle', 117978),\n ('your_mood_theme_campaign', 117977),\n ('your_mood', 117976),\n ('your_mind', 117975),\n ('your_mental_physical_health_know', 117974),\n ('your_mental_health_information', 117973),\n ('your_mental_health', 117972),\n ('your_mental_faculty', 117971),\n ('your_mental_exercise', 117970),\n ('your_member', 117969),\n ('your_means', 117968),\n ('your_mean_income', 117967),\n ('your_mean', 117966),\n ('your_meal', 117965),\n ('your_mask', 117964),\n ('your_main_profession', 117963),\n ('your_love_one', 117962),\n ('your_long_term', 117961),\n ('your_location', 117960),\n ('your_locality', 117959),\n ('your_local_youth_service', 117958),\n ('your_local_talk', 117957),\n ('your_local_social_welfare_office', 117956),\n ('your_local_social_welfare_inspector', 117955),\n ('your_local_park_locality', 117954),\n ('your_local_opening_hour', 117953),\n ('your_local_national_history', 117952),\n ('your_local_minister', 117951),\n ('your_local_library', 117950),\n ('your_local_hospital', 117949),\n ('your_local_helpline_number', 117948),\n ('your_local_district_veterinary_office_department_agriculture_website',\n  117947),\n ('your_local_department_public_health', 117946),\n ('your_local_dentist_request', 117945),\n ('your_local_credit_guarantee_scheme', 117944),\n ('your_local_community', 117943),\n ('your_local_city_county_childcare_committee', 117942),\n ('your_local_authority_website', 117941),\n ('your_local_authority_application', 117940),\n ('your_local_authority', 117939),\n ('your_local_area', 117938),\n ('your_local_apply', 117937),\n ('your_livelihood', 117936),\n ('your_limited_network', 117935),\n ('your_light_solstice', 117934),\n ('your_light_candle', 117933),\n ('your_light', 117932),\n ('your_life', 117931),\n ('your_library_phone_email', 117930),\n ('your_library', 117929),\n ('your_liability_anticipation_low_income', 117928),\n ('your_level', 117927),\n ('your_legal_status_country', 117926),\n ('your_lead', 117925),\n ('your_late_spouse_partner_receipt_household_benefit', 117924),\n ('your_late_spouse_civil_partner_birth_certificate', 117923),\n ('your_junior_cycle_exam_result', 117922),\n ('your_journey_transfer', 117921),\n ('your_journey_detail', 117920),\n ('your_journey_check_boarding_flight', 117919),\n ('your_journey', 117918),\n ('your_item', 117917),\n ('your_interim_report', 117916),\n ('your_interaction', 117915),\n ('your_insurance_policy_confirm', 117914),\n ('your_insurance_policy', 117913),\n ('your_instrument', 117912),\n ('your_input', 117911),\n ('your_innovation', 117910),\n ('your_information', 117909),\n ('your_individual_junior_cycle_result', 117908),\n ('your_individual_action', 117907),\n ('your_importer', 117906),\n ('your_immunity', 117905),\n ('your_immune_system', 117904),\n ('your_immigration_permission', 117903),\n ('your_immigration_international_protection_permission', 117902),\n ('your_immediately_well_advance', 117901),\n ('your_immediately_public_health_advice_citizen', 117900),\n ('your_immediately_crucial_component', 117899),\n ('your_image_video', 117898),\n ('your_identity', 117897),\n ('your_household_pick', 117896),\n ('your_household_physical_distance', 117895),\n ('your_household_experience', 117894),\n ('your_household_essential_purpose', 117893),\n ('your_household_date', 117892),\n ('your_household_contact', 117891),\n ('your_household', 117890),\n ('your_house_work', 117889),\n ('your_house_garden', 117888),\n ('your_hour_service_arrange_test', 117887),\n ('your_host_country', 117886),\n ('your_home_workplace', 117885),\n ('your_home_wear_face', 117884),\n ('your_home_shop_pharmacy', 117883),\n ('your_home_restaurant', 117882),\n ('your_home_rental_income', 117881),\n ('your_home_quarantine', 117880),\n ('your_home_medical_reason', 117879),\n ('your_home_indoor_outdoor', 117878),\n ('your_home_increase', 117877),\n ('your_home_income', 117876),\n ('your_home_group', 117875),\n ('your_home_garden', 117874),\n ('your_home_crossing_county_boundary', 117873),\n ('your_home_country', 117872),\n ('your_home_continue_work', 117871),\n ('your_home_conserve_period_feature', 117870),\n ('your_home_cash_income', 117869),\n ('your_home_asset', 117868),\n ('your_home', 117867),\n ('your_historic_home', 117866),\n ('your_heroic_effort', 117865),\n ('your_help', 117864),\n ('your_heart', 117863),\n ('your_healthcare_worker', 117862),\n ('your_health_service', 117861),\n ('your_health_covid_covid', 117860),\n ('your_health', 117859),\n ('your_head_young_voice', 117858),\n ('your_head', 117857),\n ('your_have_symptom', 117856),\n ('your_hard_work_perseverance', 117855),\n ('your_hard_work', 117854),\n ('your_hand_good_cough_etiquette', 117853),\n ('your_hand', 117852),\n ('your_hairdresser', 117851),\n ('your_guide_upcoming_change_school_childcare', 117850),\n ('your_guard', 117849),\n ('your_growth_resilience', 117848),\n ('your_gross_earning', 117847),\n ('your_great_statesman_fathers_union', 117846),\n ('your_grandparent', 117845),\n ('your_grandchild', 117844),\n ('your_good', 117843),\n ('your_gathering', 117842),\n ('your_garden_ready_spring_ideal_outdoor_activity_people', 117841),\n ('your_garden_creative_mindfulness_young_family', 117840),\n ('your_future_sea', 117839),\n ('your_further_advice', 117838),\n ('your_fundamental_dignity_right_mother_child', 117837),\n ('your_full_report_credit_statement', 117836),\n ('your_friend_family_colleague', 117835),\n ('your_friend', 117834),\n ('your_free_digital_covid_certificate', 117833),\n ('your_free_covid_test', 117832),\n ('your_foreign_language_skill', 117831),\n ('your_flock', 117830),\n ('your_flight_information', 117829),\n ('your_first_sign', 117828),\n ('your_first_priority', 117827),\n ('your_first_instance', 117826),\n ('your_first_dose', 117825),\n ('your_financing_need', 117824),\n ('your_financial_obligation', 117823),\n ('your_final_leaving_certificate', 117822),\n ('your_final_certificate', 117821),\n ('your_fellow_citizen', 117820),\n ('your_family_member_refugee', 117819),\n ('your_family_member', 117818),\n ('your_family_life', 117817),\n ('your_family_host_member_state', 117816),\n ('your_family_friend', 117815),\n ('your_family_community', 117814),\n ('your_family', 117813),\n ('your_face_cough', 117812),\n ('your_face', 117811),\n ('your_eye_nose_mouth', 117810),\n ('your_eye', 117809),\n ('your_expectation', 117808),\n ('your_exist_permission', 117807),\n ('your_exist_brick_mortar_business', 117806),\n ('your_examination', 117805),\n ('your_estimate_percentage_mark', 117804),\n ('your_estate', 117803),\n ('your_establishment', 117802),\n ('your_equipment', 117801),\n ('your_environment', 117800),\n ('your_entrepreneurial_journey', 117799),\n ('your_entitlement_pension', 117798),\n ('your_entitlement', 117797),\n ('your_engagement', 117796),\n ('your_energy_commitment_passion_issue', 117795),\n ('your_employment', 117794),\n ('your_employer_position', 117793),\n ('your_employer', 117792),\n ('your_employee', 117791),\n ('your_emergency', 117790),\n ('your_email_review', 117789),\n ('your_email_address', 117788),\n ('your_eligibility_benefit', 117787),\n ('your_eligibility', 117786),\n ('your_elbow_tissue_covid_tracker', 117785),\n ('your_elbow_tissue', 117784),\n ('your_elbow', 117783),\n ('your_effort_sacrifice', 117782),\n ('your_effort_date', 117781),\n ('your_effort', 117780),\n ('your_education', 117779),\n ('your_dose_schedule', 117778),\n ('your_doorstep_initiative', 117777),\n ('your_doctor_arrange_test_people', 117776),\n ('your_distance_campaign', 117775),\n ('your_distance_advice', 117774),\n ('your_distance', 117773),\n ('your_detail', 117772),\n ('your_destination_flight', 117771),\n ('your_destination_connect_flight_journey', 117770),\n ('your_destination_available_fare', 117769),\n ('your_destination', 117768),\n ('your_department_regional_veterinary_office', 117767),\n ('your_decision', 117766),\n ('your_decide', 117765),\n ('your_death', 117764),\n ('your_daily_life', 117763),\n ('your_daily_exercise', 117762),\n ('your_customer_number', 117761),\n ('your_customer', 117760),\n ('your_custom_process', 117759),\n ('your_current_digital_readiness_order', 117758),\n ('your_creativity', 117757),\n ('your_covid_vaccine', 117756),\n ('your_covid_test', 117755),\n ('your_covid_relate_prevention_recovery_measure', 117754),\n ('your_covid_pandemic_unemployment_payment_claim', 117753),\n ('your_county', 117752),\n ('your_country_employment', 117751),\n ('your_country', 117750),\n ('your_council', 117749),\n ('your_cough', 117748),\n ('your_convenience', 117747),\n ('your_contribution_community_call', 117746),\n ('your_contract_employment', 117745),\n ('your_continued_effort', 117744),\n ('your_continue_eligibility', 117743),\n ('your_continue_effort_position', 117742),\n ('your_contact_detail', 117741),\n ('your_contact', 117740),\n ('your_condolence', 117739),\n ('your_concern_principal_school', 117738),\n ('your_concern', 117737),\n ('your_competent_authority', 117736),\n ('your_company_year', 117735),\n ('your_community_school', 117734),\n ('your_community_people', 117733),\n ('your_community_page', 117732),\n ('your_community', 117731),\n ('your_college_look_help', 117730),\n ('your_colleague', 117729),\n ('your_close_network_social_visitor', 117728),\n ('your_close_contact', 117727),\n ('your_class_rank_information', 117726),\n ('your_claim', 117725),\n ('your_civil_marriage_partnership_certificate', 117724),\n ('your_circumstance', 117723),\n ('your_choice', 117722),\n ('your_chin', 117721),\n ('your_child_tooth', 117720),\n ('your_child_time', 117719),\n ('your_child_teacher', 117718),\n ('your_child_symptom', 117717),\n ('your_child_support', 117716),\n ('your_child_special_educational_need', 117715),\n ('your_child_special_education', 117714),\n ('your_child_school_childcare', 117713),\n ('your_child_portion', 117712),\n ('your_child_motivating', 117711),\n ('your_child_learning_address_concern', 117710),\n ('your_child_learning', 117709),\n ('your_child_follow_rule', 117708),\n ('your_child_diet_play', 117707),\n ('your_child_complete_amount_work', 117706),\n ('your_child_class_teacher_principal', 117705),\n ('your_child_citizen', 117704),\n ('your_child_appetite', 117703),\n ('your_child_ability', 117702),\n ('your_child', 117701),\n ('your_change_redundancy_scheme', 117700),\n ('your_chance', 117699),\n ('your_certificate_stage', 117698),\n ('your_cash_need', 117697),\n ('your_case', 117696),\n ('your_capital', 117695),\n ('your_capacity_experience', 117694),\n ('your_capability', 117693),\n ('your_cancellation_policy_case_country_region_destination', 117692),\n ('your_calculate_grade', 117691),\n ('your_business_trade', 117690),\n ('your_business_tough_experience', 117689),\n ('your_business_temporary_business_closure', 117688),\n ('your_business_recover', 117687),\n ('your_business_ready_campaign', 117686),\n ('your_business_earning', 117685),\n ('your_business_custom_workshop', 117684),\n ('your_business_custom_mentor', 117683),\n ('your_business_activity', 117682),\n ('your_business', 117681),\n ('your_bubble', 117680),\n ('your_breathing_heart_rate_perspiration_dizziness_blur_vision_skin_tone',\n  117679),\n ('your_booking_test', 117678),\n ('your_booking_contact', 117677),\n ('your_body_time_readjust', 117676),\n ('your_body_clothe', 117675),\n ('your_body', 117674),\n ('your_birth', 117673),\n ('your_bird', 117672),\n ('your_bill', 117671),\n ('your_bent_elbow_tissue', 117670),\n ('your_bent_elbow', 117669),\n ('your_benefit', 117668),\n ('your_behalf', 117667),\n ('your_bank_finance_provider', 117666),\n ('your_bank_building_society', 117665),\n ('your_bank_account_payment_issue', 117664),\n ('your_bank_account', 117663),\n ('your_bank', 117662),\n ('your_back_road', 117661),\n ('your_baby_routine', 117660),\n ('your_attention_respiratory_hygiene', 117659),\n ('your_attention_potential_scam', 117658),\n ('your_attention', 117657),\n ('your_attend_testing', 117656),\n ('your_arrange_test', 117655),\n ('your_arrange_free_test', 117654),\n ('your_area_customer', 117653),\n ('your_area', 117652),\n ('your_appointment_vice_chair', 117651),\n ('your_appointment_chair', 117650),\n ('your_application_pension', 117649),\n ('your_application_form_evidence', 117648),\n ('your_application', 117647),\n ('your_appeal', 117646),\n ('your_ancestor', 117645),\n ('your_alarm', 117644),\n ('your_advice', 117643),\n ('your_advance', 117642),\n ('your_activity_water', 117641),\n ('your_activity', 117640),\n ('your_action_part', 117639),\n ('your_action', 117638),\n ('your_achievement', 117637),\n ('your_accountant_advisory_support', 117636),\n ('youngster', 117635),\n ('youngest', 117634),\n ('young_working_person', 117633),\n ('young_worker', 117632),\n ('young_work', 117631),\n ('young_woman', 117630),\n ('young_voice', 117629),\n ('young_unemployed_incentive', 117628),\n ('young_sport_star', 117627),\n ('young_social_innovator', 117626),\n ('young_skilled_part_time_worker', 117625),\n ('young_scout', 117624),\n ('young_scientist_technology_exhibition_mark_year_young_scientist_technology_exhibition',\n  117623),\n ('young_schoolchildren', 117622),\n ('young_population_term', 117621),\n ('young_population', 117620),\n ('young_person_year', 117619),\n ('young_person_solution_plan', 117618),\n ('young_person', 117617),\n ('young_people_youth_community', 117616),\n ('young_people_vital_partner_education', 117615),\n ('young_people_student', 117614),\n ('young_people_service', 117613),\n ('young_people_school', 117612),\n ('young_people_rural_remote_area', 117611),\n ('young_people_restriction_contact_training', 117610),\n ('young_people_personal_growth_self_advocacy', 117609),\n ('young_people_parent', 117608),\n ('young_people_opportunity', 117607),\n ('young_people_national_youth', 117606),\n ('young_people_minister_sport', 117605),\n ('young_people_individual', 117604),\n ('young_people_health_environment', 117603),\n ('young_people_group', 117602),\n ('young_people_family', 117601),\n ('young_people_county', 117600),\n ('young_people_community', 117599),\n ('young_people_child_welfare_institution', 117598),\n ('young_people_child', 117597),\n ('young_people_champion', 117596),\n ('young_people_apprenticeship', 117595),\n ('young_people_anxiety', 117594),\n ('young_people_adult_group', 117593),\n ('young_people_adult', 117592),\n ('young_people_action', 117591),\n ('young_people', 117590),\n ('young_participant', 117589),\n ('young_outdoor_gathering', 117588),\n ('young_old_people', 117587),\n ('young_offender', 117586),\n ('young_national_third_country_regular_situation', 117585),\n ('young_mother', 117584),\n ('young_learner', 117583),\n ('young_leader', 117582),\n ('young_group', 117581),\n ('young_girl', 117580),\n ('young_generation', 117579),\n ('young_fundamental_importance_play', 117578),\n ('young_farmer_woman_agriculture', 117577),\n ('young_farmer_inspection', 117576),\n ('young_family', 117575),\n ('young_exceptionally_vulnerable_death_injury_farm', 117574),\n ('young_entrepreneur_program_internationalization_program', 117573),\n ('young_entrant_farmer_well_small_farmer', 117572),\n ('young_emerge_series_artist', 117571),\n ('young_company', 117570),\n ('young_cohort', 117569),\n ('young_child_year', 117568),\n ('young_child_resource', 117567),\n ('young_child_minister_children_equality_disability_integration_youth',\n  117566),\n ('young_child_baby', 117565),\n ('young_child', 117564),\n ('young_carer_person', 117563),\n ('young_carer_maximum_grant', 117562),\n ('young_carer', 117561),\n ('young_benefit', 117560),\n ('young_audience', 117559),\n ('young_apprentice', 117558),\n ('young_adult', 117557),\n ('young', 117556),\n ('yorker', 117555),\n ('york_times', 117554),\n ('york_jersey', 117553),\n ('york_house', 117552),\n ('york', 117551),\n ('yoga_meditation', 117550),\n ('yield', 117549),\n ('yesterday_york_jersey', 117548),\n ('yesterday_report', 117547),\n ('yesterday_meeting_expert_group', 117546),\n ('yesterday_march', 117545),\n ('yesterday_foot_advice', 117544),\n ('yesterday_evening_government_reopen_society_business', 117543),\n ('yesterday_acceleration_vaccination', 117542),\n ('yesterday', 117541),\n ('yellow_weather_warning_snow_wind_place', 117540),\n ('yellow_rain_warning', 117539),\n ('yellow_colour', 117538),\n ('years', 117537),\n ('yearly_value', 117536),\n ('yearly_review', 117535),\n ('yearly_income', 117534),\n ('yearly_event', 117533),\n ('yearly_basis', 117532),\n ('yearly', 117531),\n ('year_year_term', 117530),\n ('year_year_increase_initial_allocation', 117529),\n ('year_year_comparison', 117528),\n ('year_year_basis', 117527),\n ('year_year', 117526),\n ('year_worth_application_month', 117525),\n ('year_worth_application', 117524),\n ('year_work_time', 117523),\n ('year_work_supplement_beneficiary_receipt_work_benefit', 117522),\n ('year_week', 117521),\n ('year_unsecured_loan', 117520),\n ('year_trend_expenditure_number_recipient_beneficiary', 117519),\n ('year_trend', 117518),\n ('year_today_covid_patient', 117517),\n ('year_time_essence', 117516),\n ('year_three_year_loan', 117515),\n ('year_term_mental_health_landscape', 117514),\n ('year_term', 117513),\n ('year_successful_applicant', 117512),\n ('year_strong_economic_time', 117511),\n ('year_strategy_language', 117510),\n ('year_strategy', 117509),\n ('year_state_agreement', 117508),\n ('year_staff', 117507),\n ('year_spa', 117506),\n ('year_scale', 117505),\n ('year_round_operation', 117504),\n ('year_round_commitment', 117503),\n ('year_review', 117502),\n ('year_return_covid_profitability_level', 117501),\n ('year_retail_experience', 117500),\n ('year_restoration_period', 117499),\n ('year_residence', 117498),\n ('year_regulation', 117497),\n ('year_register_seeker', 117496),\n ('year_purpose', 117495),\n ('year_project', 117494),\n ('year_prior_declaration_state_emergency_covid_pandemic', 117493),\n ('year_positive_outcome', 117492),\n ('year_period_experiment', 117491),\n ('year_period', 117490),\n ('year_partnership', 117489),\n ('year_pandemic_unemployment_payment', 117488),\n ('year_order', 117487),\n ('year_old_time_rule_change', 117486),\n ('year_oblige', 117485),\n ('year_nursing_experience', 117484),\n ('year_monthly_repayment_cost_guarantee_commission', 117483),\n ('year_month', 117482),\n ('year_minister', 117481),\n ('year_membership_nurse_practice_nurse_education_committee_project_leader_initiative',\n  117480),\n ('year_maximum_period_language_study', 117479),\n ('year_loan', 117478),\n ('year_line', 117477),\n ('year_lifetime_policy', 117476),\n ('year_liability', 117475),\n ('year_last_contract', 117474),\n ('year_investment_finance', 117473),\n ('year_indigenous_export', 117472),\n ('year_holiday', 117471),\n ('year_group_alone_participation_rate', 117470),\n ('year_group', 117469),\n ('year_graduation_ceremony_sixth_year_student', 117468),\n ('year_graduation_celebration', 117467),\n ('year_fund', 117466),\n ('year_first_instance', 117465),\n ('year_facilitate_redeployment_additional_qualified_nurse', 117464),\n ('year_extension_rate', 117463),\n ('year_exposure', 117462),\n ('year_experience_profession', 117461),\n ('year_expenditure_report', 117460),\n ('year_exchequer_return', 117459),\n ('year_event', 117458),\n ('year_enterprise_capacity_building', 117457),\n ('year_early_year', 117456),\n ('year_duration', 117455),\n ('year_disabled_person_subject_isolation_eviction_home_maintenance_measure',\n  117454),\n ('year_department', 117453),\n ('year_delivery', 117452),\n ('year_day', 117451),\n ('year_date_application', 117450),\n ('year_date', 117449),\n ('year_cycle_final_examination', 117448),\n ('year_county', 117447),\n ('year_cost_reduction', 117446),\n ('year_control', 117445),\n ('year_condition', 117444),\n ('year_company', 117443),\n ('year_committee', 117442),\n ('year_commission_high_representative_plan', 117441),\n ('year_child', 117440),\n ('year_case', 117439),\n ('year_career_enterprise', 117438),\n ('year_bond', 117437),\n ('year_benefit', 117436),\n ('year_augmented_programming_capacity', 117435),\n ('year_analysis', 117434),\n ('year_agreement_execution_state_housing_plan', 117433),\n ('year_acute_service', 117432),\n ('year_action_research_project', 117431),\n ('year', 117430),\n ('yard_supervision_risk_transmission', 117429),\n ('yard', 117428),\n ('xiii_republic_amend_article', 117427),\n ('xiii_amendment', 117426),\n ('xiii', 117425),\n ('wrongdoe', 117424),\n ('wrong_young_people', 117423),\n ('wrong_expectation', 117422),\n ('wrong_direction', 117421),\n ('wrong_approach_recovery_risk', 117420),\n ('wrong', 117419),\n ('writing_welfare', 117418),\n ('writing_record', 117417),\n ('writing_protocol', 117416),\n ('writing_decision', 117415),\n ('writing', 117414),\n ('writer_residence', 117413),\n ('writer_musician', 117412),\n ('writer_documentary_filmmaker_area_music_art_professor_media_economic_film_television_study',\n  117411),\n ('writer_director', 117410),\n ('writer_collaboration', 117409),\n ('writer', 117408),\n ('write_word', 117407),\n ('write_undertaking', 117406),\n ('write_submission_part', 117405),\n ('write_submission_observation', 117404),\n ('write_submission', 117403),\n ('write_resource', 117402),\n ('write_referral', 117401),\n ('write_procedure', 117400),\n ('write_order_overtime_work', 117399),\n ('write_opinion', 117398),\n ('write_notice_demand_employee', 117397),\n ('write_minister_health_expert_work_group_rapid_testing', 117396),\n ('write_letter_poem', 117395),\n ('write_feedback', 117394),\n ('write_exchange', 117393),\n ('write_examination_exam', 117392),\n ('write_examination', 117391),\n ('write_exam', 117390),\n ('write_description', 117389),\n ('write_declaration_form', 117388),\n ('write_consultation_process', 117387),\n ('write_consent_work', 117386),\n ('write_confirmation', 117385),\n ('write_commissioner_agriculture', 117384),\n ('write_approval_employee', 117383),\n ('write_agreement_employer_employee', 117382),\n ('write_agreement_employee_equipment', 117381),\n ('write', 117380),\n ('wreath', 117379),\n ('wreak_havoc_society_economy', 117378),\n ('wreak_havoc', 117377),\n ('wreak', 117376),\n ('wrap', 117375),\n ('wound', 117374),\n ('would_difficult_measure_activity', 117373),\n ('would_around_percentage_point_low_relative_hypothetical_status_scenario',\n  117372),\n ('worthy', 117371),\n ('worthwhile', 117370),\n ('worth_person', 117369),\n ('worth_order', 117368),\n ('worth_billion_order_support_company', 117367),\n ('worth_average_monthly_trading_profit', 117366),\n ('worth', 117365),\n ('worst', 117364),\n ('worship', 117363),\n ('worsen_economic_climate_employer', 117362),\n ('worsen_deficit', 117361),\n ('worsen_covid_outbreak', 117360),\n ('worsen', 117359),\n ('worryingly', 117358),\n ('worrying_trend', 117357),\n ('worrying_sign', 117356),\n ('worrying_increase_incidence_daily_case_number', 117355),\n ('worrying_attack_farm_livestock_number_dog', 117354),\n ('worry_trend_time', 117353),\n ('worry_trend_progression_covid', 117352),\n ('worry_trend', 117351),\n ('worry_increase_number_pedestrian_death', 117350),\n ('worry_anxiety', 117349),\n ('worry', 117348),\n ('worried', 117347),\n ('worn_place', 117346),\n ('worn', 117345),\n ('worm_marina_lugworm_blow_lugworm_black_king_common_harbour_white_white_snake',\n  117344),\n ('worm_liver_fluke_survive_dose_antiparasitic_drug', 117343),\n ('worm', 117342),\n ('worldwide_strategy', 117341),\n ('worldwide_pandemic_covid', 117340),\n ('worldwide_leader_site_service', 117339),\n ('worldwide_goal_work_innovative_partnership', 117338),\n ('worldwide_goal_global_covid', 117337),\n ('worldwide_global_fight', 117336),\n ('worldwide_epidemic', 117335),\n ('worldwide_basis', 117334),\n ('worldwide_audience_person', 117333),\n ('worldwide_audience', 117332),\n ('worldwide', 117331),\n ('world_work_cookery_demonstration', 117330),\n ('world_wide_importance', 117329),\n ('world_vaccine_trial', 117328),\n ('world_trade_term', 117327),\n ('world_trade_organization', 117326),\n ('world_trade_fair_expo_continuous_development_smart_flood_management_scheme_innovative_work_area_design',\n  117325),\n ('world_trade', 117324),\n ('world_tobacco', 117323),\n ('world_times_pandemics_climate_change', 117322),\n ('world_time', 117321),\n ('world_standard_national_earth_science', 117320),\n ('world_south_united_states', 117319),\n ('world_shipping_fleet', 117318),\n ...]"
     },
     "execution_count": 206,
     "metadata": {},
     "output_type": "execute_result"
    }
   ],
   "source": [
    "sorted(tmp_words, key=lambda x: x[1], reverse=True)"
   ],
   "metadata": {
    "collapsed": false,
    "pycharm": {
     "name": "#%%\n"
    }
   }
  },
  {
   "cell_type": "markdown",
   "source": [
    "### Generate D3 Graphs"
   ],
   "metadata": {
    "collapsed": false
   }
  },
  {
   "cell_type": "markdown",
   "source": [
    "#### Cosine similarity graph"
   ],
   "metadata": {
    "collapsed": false
   }
  },
  {
   "cell_type": "code",
   "execution_count": 6,
   "outputs": [],
   "source": [
    "def plot_graphs(pipeline: LanguageModelExecutionSteps, model_name: str, model_file_name: str,\n",
    "                threshold: np.float64, word_graph_configs: dict, normalize_func) -> None:\n",
    "    \"\"\"\n",
    "        steps of generating d3 graph, calling the similarity matrix from minio and normalizing it.\n",
    "    Args:\n",
    "        pipeline: Pipeline of language model execution stems\n",
    "        model_name: the name of the model\n",
    "        model_file_name: word2vec file name from MinIO\n",
    "        threshold: the minimum of similarity number\n",
    "        word_graph_configs: dictionary of key words\n",
    "        normalize_func: function of similarity normalization\n",
    "    \"\"\"\n",
    "    model_cosine_matrix = store_registry.minio_feature_store(SIMILARITY_MATRIX_BUCKET_NAME).get_features(\n",
    "        model_file_name)\n",
    "    model_cosine_matrix = model_cosine_matrix.applymap(normalize_func)\n",
    "    for key in word_graph_configs.keys():\n",
    "        create_graph_for_language_model_key_words(model_cosine_matrix,\n",
    "                                                  pipeline.filter_language_model_words().select_key_words(\n",
    "                                                      key_words=word_graph_configs[key]),\n",
    "                                                  model_name=model_name,\n",
    "                                                  metric_threshold=threshold, column_name=key)"
   ],
   "metadata": {
    "collapsed": false,
    "pycharm": {
     "name": "#%%\n"
    }
   }
  },
  {
   "cell_type": "code",
   "execution_count": 7,
   "outputs": [],
   "source": [
    "def execute_language_model_pipeline(model_file_name: str,\n",
    "                                    model_name: str,\n",
    "                                    model_dataset_sources_config: List[tuple],\n",
    "                                    #model_words_pack: dict,\n",
    "                                    #cosine_similarity_matrix: str\n",
    "                                    ):\n",
    "    start = time.time()\n",
    "    print(f'Start execution for {model_name}:')\n",
    "    model_execution_steps = LanguageModelExecutionSteps(language_model_file_name=model_file_name,\n",
    "                                                        model_name=model_name)\n",
    "    model_execution_steps.train_language_model(model_dataset_sources_config)\n",
    "    model_execution_steps.train_similarity_matrices()\n",
    "    # plot_graphs(pipeline=model_execution_steps,\n",
    "    #             model_name=model_name,\n",
    "    #             model_file_name=cosine_similarity_matrix,\n",
    "    #             threshold=0.6,\n",
    "    #             word_graph_configs=model_words_pack,\n",
    "    #             normalize_func=lambda x: 1 - x)\n",
    "    del model_execution_steps\n",
    "    end = time.time()\n",
    "    print(f'Execution finish for {model_name} in:')\n",
    "    print(round((end - start), 4), 'seconds')\n",
    "\n"
   ],
   "metadata": {
    "collapsed": false,
    "pycharm": {
     "name": "#%%\n"
    }
   }
  },
  {
   "cell_type": "code",
   "execution_count": 8,
   "outputs": [],
   "source": [
    "start = 0\n",
    "end = 1"
   ],
   "metadata": {
    "collapsed": false,
    "pycharm": {
     "name": "#%%\n"
    }
   }
  },
  {
   "cell_type": "code",
   "execution_count": null,
   "outputs": [],
   "source": [],
   "metadata": {
    "collapsed": false,
    "pycharm": {
     "name": "#%%\n"
    }
   }
  },
  {
   "cell_type": "code",
   "execution_count": 9,
   "outputs": [
    {
     "name": "stdout",
     "output_type": "stream",
     "text": [
      "Start execution for model1:\n"
     ]
    },
    {
     "ename": "KeyboardInterrupt",
     "evalue": "",
     "output_type": "error",
     "traceback": [
      "\u001B[0;31m---------------------------------------------------------------------------\u001B[0m",
      "\u001B[0;31mKeyboardInterrupt\u001B[0m                         Traceback (most recent call last)",
      "\u001B[0;32m/tmp/ipykernel_445085/3156040882.py\u001B[0m in \u001B[0;36m<module>\u001B[0;34m\u001B[0m\n\u001B[1;32m      5\u001B[0m         \u001B[0;31m#COSINE_SIMILARITY_MATRICES\u001B[0m\u001B[0;34m\u001B[0m\u001B[0;34m\u001B[0m\u001B[0;34m\u001B[0m\u001B[0m\n\u001B[1;32m      6\u001B[0m     ):\n\u001B[0;32m----> 7\u001B[0;31m     execute_language_model_pipeline(model_file_name=model_file_name,\n\u001B[0m\u001B[1;32m      8\u001B[0m                                     \u001B[0mmodel_name\u001B[0m\u001B[0;34m=\u001B[0m\u001B[0mmodel_name\u001B[0m\u001B[0;34m,\u001B[0m\u001B[0;34m\u001B[0m\u001B[0;34m\u001B[0m\u001B[0m\n\u001B[1;32m      9\u001B[0m                                     \u001B[0mmodel_dataset_sources_config\u001B[0m\u001B[0;34m=\u001B[0m\u001B[0mmodel_dataset_sources_config\u001B[0m\u001B[0;34m,\u001B[0m\u001B[0;34m\u001B[0m\u001B[0;34m\u001B[0m\u001B[0m\n",
      "\u001B[0;32m/tmp/ipykernel_445085/4284288090.py\u001B[0m in \u001B[0;36mexecute_language_model_pipeline\u001B[0;34m(model_file_name, model_name, model_dataset_sources_config)\u001B[0m\n\u001B[1;32m      9\u001B[0m     model_execution_steps = LanguageModelExecutionSteps(language_model_file_name=model_file_name,\n\u001B[1;32m     10\u001B[0m                                                         model_name=model_name)\n\u001B[0;32m---> 11\u001B[0;31m     \u001B[0mmodel_execution_steps\u001B[0m\u001B[0;34m.\u001B[0m\u001B[0mtrain_language_model\u001B[0m\u001B[0;34m(\u001B[0m\u001B[0mmodel_dataset_sources_config\u001B[0m\u001B[0;34m)\u001B[0m\u001B[0;34m\u001B[0m\u001B[0;34m\u001B[0m\u001B[0m\n\u001B[0m\u001B[1;32m     12\u001B[0m     \u001B[0mmodel_execution_steps\u001B[0m\u001B[0;34m.\u001B[0m\u001B[0mtrain_similarity_matrices\u001B[0m\u001B[0;34m(\u001B[0m\u001B[0;34m)\u001B[0m\u001B[0;34m\u001B[0m\u001B[0;34m\u001B[0m\u001B[0m\n\u001B[1;32m     13\u001B[0m     \u001B[0;31m# plot_graphs(pipeline=model_execution_steps,\u001B[0m\u001B[0;34m\u001B[0m\u001B[0;34m\u001B[0m\u001B[0;34m\u001B[0m\u001B[0m\n",
      "\u001B[0;32m~/work/sem-covid/sem_covid/services/language_model_execution_steps.py\u001B[0m in \u001B[0;36mtrain_language_model\u001B[0;34m(self, dataset_sources_config)\u001B[0m\n\u001B[1;32m     32\u001B[0m         model_language_model_pipeline = LanguageModelPipeline(dataset_sources=dataset_sources_config,\n\u001B[1;32m     33\u001B[0m                                                               language_model_name=self.language_model_file_name)\n\u001B[0;32m---> 34\u001B[0;31m         \u001B[0mmodel_language_model_pipeline\u001B[0m\u001B[0;34m.\u001B[0m\u001B[0mexecute\u001B[0m\u001B[0;34m(\u001B[0m\u001B[0;34m)\u001B[0m\u001B[0;34m\u001B[0m\u001B[0;34m\u001B[0m\u001B[0m\n\u001B[0m\u001B[1;32m     35\u001B[0m         \u001B[0mself\u001B[0m\u001B[0;34m.\u001B[0m\u001B[0mword2vec\u001B[0m \u001B[0;34m=\u001B[0m \u001B[0mmodel_language_model_pipeline\u001B[0m\u001B[0;34m.\u001B[0m\u001B[0mword2vec\u001B[0m\u001B[0;34m\u001B[0m\u001B[0;34m\u001B[0m\u001B[0m\n\u001B[1;32m     36\u001B[0m \u001B[0;34m\u001B[0m\u001B[0m\n",
      "\u001B[0;32m~/work/sem-covid/sem_covid/services/language_model_pipeline.py\u001B[0m in \u001B[0;36mexecute\u001B[0;34m(self)\u001B[0m\n\u001B[1;32m    141\u001B[0m         \u001B[0mself\u001B[0m\u001B[0;34m.\u001B[0m\u001B[0mclean_textual_data\u001B[0m\u001B[0;34m(\u001B[0m\u001B[0;34m)\u001B[0m\u001B[0;34m\u001B[0m\u001B[0;34m\u001B[0m\u001B[0m\n\u001B[1;32m    142\u001B[0m         \u001B[0mself\u001B[0m\u001B[0;34m.\u001B[0m\u001B[0mtransform_to_spacy_doc\u001B[0m\u001B[0;34m(\u001B[0m\u001B[0;34m)\u001B[0m\u001B[0;34m\u001B[0m\u001B[0;34m\u001B[0m\u001B[0m\n\u001B[0;32m--> 143\u001B[0;31m         \u001B[0mself\u001B[0m\u001B[0;34m.\u001B[0m\u001B[0mextract_features\u001B[0m\u001B[0;34m(\u001B[0m\u001B[0;34m)\u001B[0m\u001B[0;34m\u001B[0m\u001B[0;34m\u001B[0m\u001B[0m\n\u001B[0m\u001B[1;32m    144\u001B[0m         \u001B[0mself\u001B[0m\u001B[0;34m.\u001B[0m\u001B[0mmodel_training\u001B[0m\u001B[0;34m(\u001B[0m\u001B[0;34m)\u001B[0m\u001B[0;34m\u001B[0m\u001B[0;34m\u001B[0m\u001B[0m\n\u001B[1;32m    145\u001B[0m         \u001B[0mself\u001B[0m\u001B[0;34m.\u001B[0m\u001B[0msave_language_model\u001B[0m\u001B[0;34m(\u001B[0m\u001B[0;34m)\u001B[0m\u001B[0;34m\u001B[0m\u001B[0;34m\u001B[0m\u001B[0m\n",
      "\u001B[0;32m~/work/sem-covid/sem_covid/services/language_model_pipeline.py\u001B[0m in \u001B[0;36mextract_features\u001B[0;34m(self)\u001B[0m\n\u001B[1;32m    113\u001B[0m             \u001B[0mTo\u001B[0m \u001B[0mextract\u001B[0m \u001B[0mthe\u001B[0m \u001B[0mparts\u001B[0m \u001B[0mof\u001B[0m \u001B[0mspeech\u001B[0m\u001B[0;34m,\u001B[0m \u001B[0mbelow\u001B[0m \u001B[0mit\u001B[0m \u001B[0mwas\u001B[0m \u001B[0mdefined\u001B[0m \u001B[0mclasses\u001B[0m \u001B[0;32mfor\u001B[0m \u001B[0meach\u001B[0m \u001B[0mtoken\u001B[0m \u001B[0;32mis\u001B[0m \u001B[0mnecessary\u001B[0m\u001B[0;34m.\u001B[0m\u001B[0;34m\u001B[0m\u001B[0;34m\u001B[0m\u001B[0m\n\u001B[1;32m    114\u001B[0m         \"\"\"\n\u001B[0;32m--> 115\u001B[0;31m         self.documents_corpus = pd.concat([self.documents_corpus\n\u001B[0m\u001B[1;32m    116\u001B[0m                                           \u001B[0;34m.\u001B[0m\u001B[0mapply\u001B[0m\u001B[0;34m(\u001B[0m\u001B[0mdocument_atomization_noun_phrases\u001B[0m\u001B[0;34m)\u001B[0m\u001B[0;34m\u001B[0m\u001B[0;34m\u001B[0m\u001B[0m\n\u001B[1;32m    117\u001B[0m                                           .apply(lemmatize_document)], ignore_index=True)\n",
      "\u001B[0;32m/opt/conda/lib/python3.8/site-packages/pandas/core/series.py\u001B[0m in \u001B[0;36mapply\u001B[0;34m(self, func, convert_dtype, args, **kwargs)\u001B[0m\n\u001B[1;32m   4354\u001B[0m         \u001B[0mdtype\u001B[0m\u001B[0;34m:\u001B[0m \u001B[0mfloat64\u001B[0m\u001B[0;34m\u001B[0m\u001B[0;34m\u001B[0m\u001B[0m\n\u001B[1;32m   4355\u001B[0m         \"\"\"\n\u001B[0;32m-> 4356\u001B[0;31m         \u001B[0;32mreturn\u001B[0m \u001B[0mSeriesApply\u001B[0m\u001B[0;34m(\u001B[0m\u001B[0mself\u001B[0m\u001B[0;34m,\u001B[0m \u001B[0mfunc\u001B[0m\u001B[0;34m,\u001B[0m \u001B[0mconvert_dtype\u001B[0m\u001B[0;34m,\u001B[0m \u001B[0margs\u001B[0m\u001B[0;34m,\u001B[0m \u001B[0mkwargs\u001B[0m\u001B[0;34m)\u001B[0m\u001B[0;34m.\u001B[0m\u001B[0mapply\u001B[0m\u001B[0;34m(\u001B[0m\u001B[0;34m)\u001B[0m\u001B[0;34m\u001B[0m\u001B[0;34m\u001B[0m\u001B[0m\n\u001B[0m\u001B[1;32m   4357\u001B[0m \u001B[0;34m\u001B[0m\u001B[0m\n\u001B[1;32m   4358\u001B[0m     def _reduce(\n",
      "\u001B[0;32m/opt/conda/lib/python3.8/site-packages/pandas/core/apply.py\u001B[0m in \u001B[0;36mapply\u001B[0;34m(self)\u001B[0m\n\u001B[1;32m   1034\u001B[0m             \u001B[0;32mreturn\u001B[0m \u001B[0mself\u001B[0m\u001B[0;34m.\u001B[0m\u001B[0mapply_str\u001B[0m\u001B[0;34m(\u001B[0m\u001B[0;34m)\u001B[0m\u001B[0;34m\u001B[0m\u001B[0;34m\u001B[0m\u001B[0m\n\u001B[1;32m   1035\u001B[0m \u001B[0;34m\u001B[0m\u001B[0m\n\u001B[0;32m-> 1036\u001B[0;31m         \u001B[0;32mreturn\u001B[0m \u001B[0mself\u001B[0m\u001B[0;34m.\u001B[0m\u001B[0mapply_standard\u001B[0m\u001B[0;34m(\u001B[0m\u001B[0;34m)\u001B[0m\u001B[0;34m\u001B[0m\u001B[0;34m\u001B[0m\u001B[0m\n\u001B[0m\u001B[1;32m   1037\u001B[0m \u001B[0;34m\u001B[0m\u001B[0m\n\u001B[1;32m   1038\u001B[0m     \u001B[0;32mdef\u001B[0m \u001B[0magg\u001B[0m\u001B[0;34m(\u001B[0m\u001B[0mself\u001B[0m\u001B[0;34m)\u001B[0m\u001B[0;34m:\u001B[0m\u001B[0;34m\u001B[0m\u001B[0;34m\u001B[0m\u001B[0m\n",
      "\u001B[0;32m/opt/conda/lib/python3.8/site-packages/pandas/core/apply.py\u001B[0m in \u001B[0;36mapply_standard\u001B[0;34m(self)\u001B[0m\n\u001B[1;32m   1090\u001B[0m                 \u001B[0;31m# List[Union[Callable[..., Any], str]]]]]\"; expected\u001B[0m\u001B[0;34m\u001B[0m\u001B[0;34m\u001B[0m\u001B[0;34m\u001B[0m\u001B[0m\n\u001B[1;32m   1091\u001B[0m                 \u001B[0;31m# \"Callable[[Any], Any]\"\u001B[0m\u001B[0;34m\u001B[0m\u001B[0;34m\u001B[0m\u001B[0;34m\u001B[0m\u001B[0m\n\u001B[0;32m-> 1092\u001B[0;31m                 mapped = lib.map_infer(\n\u001B[0m\u001B[1;32m   1093\u001B[0m                     \u001B[0mvalues\u001B[0m\u001B[0;34m,\u001B[0m\u001B[0;34m\u001B[0m\u001B[0;34m\u001B[0m\u001B[0m\n\u001B[1;32m   1094\u001B[0m                     \u001B[0mf\u001B[0m\u001B[0;34m,\u001B[0m  \u001B[0;31m# type: ignore[arg-type]\u001B[0m\u001B[0;34m\u001B[0m\u001B[0;34m\u001B[0m\u001B[0m\n",
      "\u001B[0;32m/opt/conda/lib/python3.8/site-packages/pandas/_libs/lib.pyx\u001B[0m in \u001B[0;36mpandas._libs.lib.map_infer\u001B[0;34m()\u001B[0m\n",
      "\u001B[0;32m~/work/sem-covid/sem_covid/entrypoints/notebooks/language_modeling/language_model_tools/document_handling_tools.py\u001B[0m in \u001B[0;36mdocument_atomization_noun_phrases\u001B[0;34m(document)\u001B[0m\n\u001B[1;32m     19\u001B[0m         \u001B[0msentence\u001B[0m \u001B[0;34m=\u001B[0m \u001B[0msentence\u001B[0m\u001B[0;34m.\u001B[0m\u001B[0mreplace\u001B[0m\u001B[0;34m(\u001B[0m\u001B[0msequence\u001B[0m\u001B[0;34m,\u001B[0m \u001B[0msequence\u001B[0m\u001B[0;34m.\u001B[0m\u001B[0mreplace\u001B[0m\u001B[0;34m(\u001B[0m\u001B[0;34m' '\u001B[0m\u001B[0;34m,\u001B[0m \u001B[0;34m'_'\u001B[0m\u001B[0;34m)\u001B[0m\u001B[0;34m)\u001B[0m\u001B[0;34m\u001B[0m\u001B[0;34m\u001B[0m\u001B[0m\n\u001B[1;32m     20\u001B[0m \u001B[0;34m\u001B[0m\u001B[0m\n\u001B[0;32m---> 21\u001B[0;31m     \u001B[0;32mreturn\u001B[0m \u001B[0mnlp\u001B[0m\u001B[0;34m(\u001B[0m\u001B[0msentence\u001B[0m\u001B[0;34m)\u001B[0m\u001B[0;34m\u001B[0m\u001B[0;34m\u001B[0m\u001B[0m\n\u001B[0m\u001B[1;32m     22\u001B[0m \u001B[0;34m\u001B[0m\u001B[0m\n\u001B[1;32m     23\u001B[0m \u001B[0;34m\u001B[0m\u001B[0m\n",
      "\u001B[0;32m/opt/conda/lib/python3.8/site-packages/spacy/language.py\u001B[0m in \u001B[0;36m__call__\u001B[0;34m(self, text, disable, component_cfg)\u001B[0m\n\u001B[1;32m    998\u001B[0m                 \u001B[0merror_handler\u001B[0m \u001B[0;34m=\u001B[0m \u001B[0mproc\u001B[0m\u001B[0;34m.\u001B[0m\u001B[0mget_error_handler\u001B[0m\u001B[0;34m(\u001B[0m\u001B[0;34m)\u001B[0m\u001B[0;34m\u001B[0m\u001B[0;34m\u001B[0m\u001B[0m\n\u001B[1;32m    999\u001B[0m             \u001B[0;32mtry\u001B[0m\u001B[0;34m:\u001B[0m\u001B[0;34m\u001B[0m\u001B[0;34m\u001B[0m\u001B[0m\n\u001B[0;32m-> 1000\u001B[0;31m                 \u001B[0mdoc\u001B[0m \u001B[0;34m=\u001B[0m \u001B[0mproc\u001B[0m\u001B[0;34m(\u001B[0m\u001B[0mdoc\u001B[0m\u001B[0;34m,\u001B[0m \u001B[0;34m**\u001B[0m\u001B[0mcomponent_cfg\u001B[0m\u001B[0;34m.\u001B[0m\u001B[0mget\u001B[0m\u001B[0;34m(\u001B[0m\u001B[0mname\u001B[0m\u001B[0;34m,\u001B[0m \u001B[0;34m{\u001B[0m\u001B[0;34m}\u001B[0m\u001B[0;34m)\u001B[0m\u001B[0;34m)\u001B[0m\u001B[0;34m\u001B[0m\u001B[0;34m\u001B[0m\u001B[0m\n\u001B[0m\u001B[1;32m   1001\u001B[0m             \u001B[0;32mexcept\u001B[0m \u001B[0mKeyError\u001B[0m \u001B[0;32mas\u001B[0m \u001B[0me\u001B[0m\u001B[0;34m:\u001B[0m\u001B[0;34m\u001B[0m\u001B[0;34m\u001B[0m\u001B[0m\n\u001B[1;32m   1002\u001B[0m                 \u001B[0;31m# This typically happens if a component is not initialized\u001B[0m\u001B[0;34m\u001B[0m\u001B[0;34m\u001B[0m\u001B[0;34m\u001B[0m\u001B[0m\n",
      "\u001B[0;32m/opt/conda/lib/python3.8/site-packages/spacy/pipeline/lemmatizer.py\u001B[0m in \u001B[0;36m__call__\u001B[0;34m(self, doc)\u001B[0m\n\u001B[1;32m    109\u001B[0m             \u001B[0;32mfor\u001B[0m \u001B[0mtoken\u001B[0m \u001B[0;32min\u001B[0m \u001B[0mdoc\u001B[0m\u001B[0;34m:\u001B[0m\u001B[0;34m\u001B[0m\u001B[0;34m\u001B[0m\u001B[0m\n\u001B[1;32m    110\u001B[0m                 \u001B[0;32mif\u001B[0m \u001B[0mself\u001B[0m\u001B[0;34m.\u001B[0m\u001B[0moverwrite\u001B[0m \u001B[0;32mor\u001B[0m \u001B[0mtoken\u001B[0m\u001B[0;34m.\u001B[0m\u001B[0mlemma\u001B[0m \u001B[0;34m==\u001B[0m \u001B[0;36m0\u001B[0m\u001B[0;34m:\u001B[0m\u001B[0;34m\u001B[0m\u001B[0;34m\u001B[0m\u001B[0m\n\u001B[0;32m--> 111\u001B[0;31m                     \u001B[0mtoken\u001B[0m\u001B[0;34m.\u001B[0m\u001B[0mlemma_\u001B[0m \u001B[0;34m=\u001B[0m \u001B[0mself\u001B[0m\u001B[0;34m.\u001B[0m\u001B[0mlemmatize\u001B[0m\u001B[0;34m(\u001B[0m\u001B[0mtoken\u001B[0m\u001B[0;34m)\u001B[0m\u001B[0;34m[\u001B[0m\u001B[0;36m0\u001B[0m\u001B[0;34m]\u001B[0m\u001B[0;34m\u001B[0m\u001B[0;34m\u001B[0m\u001B[0m\n\u001B[0m\u001B[1;32m    112\u001B[0m             \u001B[0;32mreturn\u001B[0m \u001B[0mdoc\u001B[0m\u001B[0;34m\u001B[0m\u001B[0;34m\u001B[0m\u001B[0m\n\u001B[1;32m    113\u001B[0m         \u001B[0;32mexcept\u001B[0m \u001B[0mException\u001B[0m \u001B[0;32mas\u001B[0m \u001B[0me\u001B[0m\u001B[0;34m:\u001B[0m\u001B[0;34m\u001B[0m\u001B[0;34m\u001B[0m\u001B[0m\n",
      "\u001B[0;32m/opt/conda/lib/python3.8/site-packages/spacy/pipeline/lemmatizer.py\u001B[0m in \u001B[0;36mrule_lemmatize\u001B[0;34m(self, token)\u001B[0m\n\u001B[1;32m    217\u001B[0m                 \u001B[0;32mif\u001B[0m \u001B[0;32mnot\u001B[0m \u001B[0mform\u001B[0m\u001B[0;34m:\u001B[0m\u001B[0;34m\u001B[0m\u001B[0;34m\u001B[0m\u001B[0m\n\u001B[1;32m    218\u001B[0m                     \u001B[0;32mpass\u001B[0m\u001B[0;34m\u001B[0m\u001B[0;34m\u001B[0m\u001B[0m\n\u001B[0;32m--> 219\u001B[0;31m                 \u001B[0;32melif\u001B[0m \u001B[0mform\u001B[0m \u001B[0;32min\u001B[0m \u001B[0mindex\u001B[0m \u001B[0;32mor\u001B[0m \u001B[0;32mnot\u001B[0m \u001B[0mform\u001B[0m\u001B[0;34m.\u001B[0m\u001B[0misalpha\u001B[0m\u001B[0;34m(\u001B[0m\u001B[0;34m)\u001B[0m\u001B[0;34m:\u001B[0m\u001B[0;34m\u001B[0m\u001B[0;34m\u001B[0m\u001B[0m\n\u001B[0m\u001B[1;32m    220\u001B[0m                     \u001B[0mforms\u001B[0m\u001B[0;34m.\u001B[0m\u001B[0mappend\u001B[0m\u001B[0;34m(\u001B[0m\u001B[0mform\u001B[0m\u001B[0;34m)\u001B[0m\u001B[0;34m\u001B[0m\u001B[0;34m\u001B[0m\u001B[0m\n\u001B[1;32m    221\u001B[0m                 \u001B[0;32melse\u001B[0m\u001B[0;34m:\u001B[0m\u001B[0;34m\u001B[0m\u001B[0;34m\u001B[0m\u001B[0m\n",
      "\u001B[0;31mKeyboardInterrupt\u001B[0m: "
     ]
    }
   ],
   "source": [
    "for model_file_name, model_name, model_dataset_sources_config in zip(\n",
    "        FILE_NAMES[start:end], MODEL_NAMES[start:end],\n",
    "        MODEL_DATASET_SOURCES_CONFIGS[start:end],\n",
    "        #MODEL_WORDS_PACKS,\n",
    "        #COSINE_SIMILARITY_MATRICES\n",
    "):\n",
    "    execute_language_model_pipeline(model_file_name=model_file_name,\n",
    "                                    model_name=model_name,\n",
    "                                    model_dataset_sources_config=model_dataset_sources_config,\n",
    "                                    #model_words_pack=model_words_pack,\n",
    "                                    #cosine_similarity_matrix=cosine_similarity_matrix\n",
    "                                    )\n",
    "\n"
   ],
   "metadata": {
    "collapsed": false,
    "pycharm": {
     "name": "#%%\n"
    }
   }
  },
  {
   "cell_type": "code",
   "execution_count": 217,
   "outputs": [],
   "source": [
    "p = nlp('I am the president of united states')"
   ],
   "metadata": {
    "collapsed": false,
    "pycharm": {
     "name": "#%%\n"
    }
   }
  },
  {
   "cell_type": "code",
   "execution_count": 221,
   "outputs": [
    {
     "data": {
      "text/plain": "'president'"
     },
     "execution_count": 221,
     "metadata": {},
     "output_type": "execute_result"
    }
   ],
   "source": [
    "remove_stopwords(str(list(p.noun_chunks)[1]))"
   ],
   "metadata": {
    "collapsed": false,
    "pycharm": {
     "name": "#%%\n"
    }
   }
  }
 ],
 "metadata": {
  "kernelspec": {
   "display_name": "Python 3",
   "language": "python",
   "name": "python3"
  },
  "language_info": {
   "codemirror_mode": {
    "name": "ipython",
    "version": 2
   },
   "file_extension": ".py",
   "mimetype": "text/x-python",
   "name": "python",
   "nbconvert_exporter": "python",
   "pygments_lexer": "ipython2",
   "version": "2.7.6"
  }
 },
 "nbformat": 4,
 "nbformat_minor": 0
}