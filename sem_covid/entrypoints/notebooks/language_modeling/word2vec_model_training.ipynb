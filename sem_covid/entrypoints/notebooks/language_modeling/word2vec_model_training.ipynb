{
 "cells": [
  {
   "cell_type": "markdown",
   "source": [
    "## Word2vec model training\n",
    "#### Model training based on three datasets' text data:\n",
    "- M1: pwdb + eu_timeline  ( +  ireland_timeline )\n",
    "- M2: ds_eu_cellar\n",
    "- M3: M1+M2\n",
    "\n",
    "#### Extract NOUN and NOUN PHRASES from each text data\n",
    "#### Train the word2vec model with each dataset's textual data"
   ],
   "metadata": {
    "collapsed": false
   }
  },
  {
   "cell_type": "markdown",
   "source": [
    "### Import libraries"
   ],
   "metadata": {
    "collapsed": false
   }
  },
  {
   "cell_type": "code",
   "execution_count": 2,
   "outputs": [
    {
     "name": "stderr",
     "output_type": "stream",
     "text": [
      "2021-08-25 09:27:31.212273: W tensorflow/stream_executor/platform/default/dso_loader.cc:64] Could not load dynamic library 'libcudart.so.11.0'; dlerror: libcudart.so.11.0: cannot open shared object file: No such file or directory\n",
      "2021-08-25 09:27:31.212325: I tensorflow/stream_executor/cuda/cudart_stub.cc:29] Ignore above cudart dlerror if you do not have a GPU set up on your machine.\n",
      "Since the GPL-licensed package `unidecode` is not installed, using Python's `unicodedata` package which yields worse results.\n"
     ]
    }
   ],
   "source": [
    "import sys\n",
    "sys.path.append(\"/home/jovyan/work/sem-covid/\")\n",
    "sys.path = list(set(sys.path))\n",
    "\n",
    "import os\n",
    "os.getcwd()\n",
    "os.chdir('/home/jovyan/work/sem-covid/')\n",
    "\n",
    "import warnings\n",
    "warnings.filterwarnings(\"ignore\")\n",
    "\n",
    "from typing import List\n",
    "\n",
    "import numpy as np\n",
    "import pandas as pd\n",
    "\n",
    "from sem_covid.services.data_registry import Dataset\n",
    "from sem_covid.services.store_registry import store_registry\n",
    "from sem_covid.services.language_model_execution_steps import LanguageModelExecutionSteps\n",
    "from sem_covid.entrypoints.notebooks.language_modeling.language_model_tools.graph_handling import create_graph_for_language_model_key_words"
   ],
   "metadata": {
    "collapsed": false,
    "pycharm": {
     "name": "#%%\n"
    }
   }
  },
  {
   "cell_type": "markdown",
   "source": [
    "## Define constants"
   ],
   "metadata": {
    "collapsed": false
   }
  },
  {
   "cell_type": "code",
   "execution_count": 3,
   "outputs": [],
   "source": [
    "PWDB_TEXTUAL_CLASS = ['title', 'background_info_description', 'content_of_measure_description',\n",
    "                      'use_of_measure_description', 'involvement_of_social_partners_description']\n",
    "\n",
    "DEFAULT_TEXTUAL_COLUMN = ['title']\n",
    "\n",
    "KEY_WORDS_FOR_ALL_MODELS =  [\"work\", \"aid\", \"coronavirus\", \"covid19\", \"health\", \"measures\", \"vaccine\",\n",
    "                             \"spain\", \"italy\", \"ireland\", \"government\", \"sector\", \"organisations\",\n",
    "                             \"companies\", \"businesses\", \"workers\", \"citizens\", \"employees\", \"unemployment\",\n",
    "                             \"protection\", \"support\", \"insurance\", \"reorientation\", \"adaptation\", \"economy\",\n",
    "                             \"economic\", \"social\", \"funds\", \"innovation\", \"research\", \"development\",\n",
    "                             \"risk\", \"transport\"]\n",
    "\n",
    "KEY_WORDS_FOR_MODEL1_AND_2 = ['work', 'agreement', 'measures', 'temporary', 'covid19',\n",
    "                              'public', 'national', 'statement', 'announce', 'minister', 'coronavirus',\n",
    "                              'vaccine', 'commission']\n",
    "\n",
    "\n",
    "\n",
    "COUNTRIES = ['austria', 'belgium', 'bulgaria', 'croatia', 'cyprus', 'czechia', 'denmark', 'estonia',\n",
    "             'european_union', 'finland', 'france', 'germany', 'greece', 'hungary', 'ireland', 'italy',\n",
    "             'latvia', 'lithuania', 'luxembourg', 'malta', 'netherlands', 'norway', 'poland', 'portugal',\n",
    "             'romania', 'slovakia', 'slovenia', 'spain', 'sweden', 'united_kingdom']\n",
    "\n",
    "CATEGORY = ['retention', 'workplace', 'labour', 'recovery', 'economic', 'adaptation',\n",
    "            'businesses', 'protection', 'essential', 'workers', 'business_continuity',\n",
    "            'services', 'social', 'market']\n",
    "\n",
    "SUBCATEGORY = ['safety', 'arrangements', 'health', 'spending', 'working', 'support', 'occupational',\n",
    "               'stimulus_packages', 'access', 'time', 'finance', 'remote', 'flexibility', 'workers',\n",
    "               'essential_services', 'remuneration']\n",
    "\n",
    "TARGET_GROUPS_L1 = ['businesses', 'workers', 'citizens']\n",
    "\n",
    "TARGET_GROUPS_L2 = ['company', 'older', 'people', 'female', 'aged', 'corporations', 'businesses',\n",
    "                    'single', 'person', 'forms', 'smes', 'ups', 'single_parents',\n",
    "                    'citizens', 'professions', 'parents', 'groups', 'youth', 'workers', 'essential_services',\n",
    "                    'sector', 'women', 'workplace', 'unemployed', 'care', 'facilities', 'standard',\n",
    "                    'specific', 'companies', 'contractors', 'children', 'border', 'refugees',\n",
    "                    'minors', 'platform', 'employment', 'seasonal', 'disabled', 'migrants',\n",
    "                    'risk_group', 'commuters', 'employees']\n",
    "\n",
    "FUNDING = ['companies', 'national_funds', 'employer', 'funds', 'european_funds', 'no_special_funding_required',\n",
    "           'regional_funds', 'local_funds', 'employers_organization', 'employees']\n",
    "\n",
    "def call_word_graph_configs(key_words_list: List[str]) -> dict:\n",
    "    return {'category': CATEGORY,\n",
    "            'key_words': key_words_list,\n",
    "            'subcategory': SUBCATEGORY,\n",
    "            'countries': COUNTRIES,\n",
    "            'target_groups_l1': TARGET_GROUPS_L1,\n",
    "            'target_groups_l2': TARGET_GROUPS_L2,\n",
    "            'funding': FUNDING}\n",
    "\n",
    "NR1_MODEL_NAME = 'model1'\n",
    "NR2_MODEL_NAME = 'model2'\n",
    "NR3_MODEL_NAME = 'model3'\n",
    "\n",
    "MODEL1_FILE_NAME = 'model1_language_model.model'\n",
    "MODEL2_FILE_NAME = 'model2_language_model.model'\n",
    "MODEL3_FILE_NAME = 'model3_language_model.model'\n",
    "\n",
    "COSINE_METRIC_NAME = 'cosine_matrix'\n",
    "EUCLIDEAN_METRIC_NAME = 'euclidean_matrix'\n",
    "HAMMING_METRIC_NAME = 'hamming_matrix'"
   ],
   "metadata": {
    "collapsed": false,
    "pycharm": {
     "name": "#%%\n"
    }
   }
  },
  {
   "cell_type": "markdown",
   "source": [
    "## Data preprocessing\n",
    "- data cleanup\n",
    "- turn corpus into spacy document\n"
   ],
   "metadata": {
    "collapsed": false
   }
  },
  {
   "cell_type": "code",
   "execution_count": 4,
   "outputs": [],
   "source": [
    "def plot_graphs(pipeline: LanguageModelExecutionSteps, model_name: str, model_file_name: str, metric_name: str,\n",
    "                threshold: np.float64, word_graph_configs: dict, normalize_func) -> None:\n",
    "    \"\"\"\n",
    "        steps of generating d3 graph, calling the similarity matrix from minio and normalizing it.\n",
    "    Args:\n",
    "        pipeline: Pipeline of language model execution stems\n",
    "        model_name: the name of the model\n",
    "        model_file_name: word2vec file name from MinIO\n",
    "        metric_name: the name of used metric\n",
    "        threshold: the minimum of similarity number\n",
    "        word_graph_configs: dictionary of key words\n",
    "        normalize_func: function of similarity normalization\n",
    "    \"\"\"\n",
    "    model_cosine_matrix = store_registry.minio_object_store('semantic-similarity-matrices').get_object(model_file_name)\n",
    "    for key in word_graph_configs.keys():\n",
    "        create_graph_for_language_model_key_words(pd.read_json(model_cosine_matrix).applymap(normalize_func),\n",
    "                                                  pipeline.filter_language_model_words().select_key_words(key_words=word_graph_configs[key]),\n",
    "                                                  model_name=model_name, metrics_name=metric_name,\n",
    "                                                  metric_threshold=threshold, column_name=key)"
   ],
   "metadata": {
    "collapsed": false,
    "pycharm": {
     "name": "#%%\n"
    }
   }
  },
  {
   "cell_type": "markdown",
   "source": [
    "## Experiment Nr#1 language model based on:\n",
    "- PWDB\n",
    "- eu-timeline\n",
    "- ireland-timeline\n",
    "\n",
    "## Experiment Nr#2 language model based on:\n",
    "- eu-cellar\n",
    "\n",
    "## Experiment Nr#3 language model based on:\n",
    "- PWDB\n",
    "- eu-timeline\n",
    "- ireland-timeline\n",
    "- eu-cellar\n"
   ],
   "metadata": {
    "collapsed": false
   }
  },
  {
   "cell_type": "code",
   "execution_count": 5,
   "outputs": [],
   "source": [
    "model1_dataset_sources_config = [\n",
    "    (Dataset.PWDB, PWDB_TEXTUAL_CLASS),\n",
    "    (Dataset.EU_ACTION_TIMELINE, DEFAULT_TEXTUAL_COLUMN),\n",
    "    (Dataset.IRELAND_ACTION_TIMELINE, DEFAULT_TEXTUAL_COLUMN)\n",
    "]\n",
    "\n",
    "model2_dataset_sources_config = [\n",
    "    (Dataset.EU_CELLAR_ENRICHED, DEFAULT_TEXTUAL_COLUMN),\n",
    "]\n",
    "\n",
    "model3_dataset_sources_config = [\n",
    "    (Dataset.PWDB, PWDB_TEXTUAL_CLASS),\n",
    "    (Dataset.EU_ACTION_TIMELINE, DEFAULT_TEXTUAL_COLUMN),\n",
    "    (Dataset.EU_CELLAR_ENRICHED, DEFAULT_TEXTUAL_COLUMN),\n",
    "    (Dataset.IRELAND_ACTION_TIMELINE, DEFAULT_TEXTUAL_COLUMN)\n",
    "]"
   ],
   "metadata": {
    "collapsed": false,
    "pycharm": {
     "name": "#%%\n"
    }
   }
  },
  {
   "cell_type": "code",
   "execution_count": 6,
   "outputs": [],
   "source": [
    "model1_execution_steps = LanguageModelExecutionSteps(language_model_file_name=MODEL1_FILE_NAME, model_name=NR1_MODEL_NAME)\n",
    "# model1_execution_steps.train_language_model(model1_dataset_sources_config)\n",
    "# model1_execution_steps.train_similarity_matrices()"
   ],
   "metadata": {
    "collapsed": false,
    "pycharm": {
     "name": "#%%\n"
    }
   }
  },
  {
   "cell_type": "code",
   "execution_count": 7,
   "outputs": [],
   "source": [
    "model2_execution_steps = LanguageModelExecutionSteps(language_model_file_name=MODEL2_FILE_NAME, model_name=NR2_MODEL_NAME)\n",
    "# model2_execution_steps.train_language_model(model2_dataset_sources_config)\n",
    "# model2_execution_steps.train_similarity_matrices()"
   ],
   "metadata": {
    "collapsed": false,
    "pycharm": {
     "name": "#%%\n"
    }
   }
  },
  {
   "cell_type": "code",
   "execution_count": 8,
   "outputs": [],
   "source": [
    "model3_execution_steps = LanguageModelExecutionSteps(language_model_file_name=MODEL3_FILE_NAME, model_name=NR3_MODEL_NAME)\n",
    "# model3_execution_steps.train_language_model(model3_dataset_sources_config)\n",
    "# model3_execution_steps.train_similarity_matrices()"
   ],
   "metadata": {
    "collapsed": false,
    "pycharm": {
     "name": "#%%\n"
    }
   }
  },
  {
   "cell_type": "markdown",
   "source": [
    "### Generate D3 Graphs"
   ],
   "metadata": {
    "collapsed": false
   }
  },
  {
   "cell_type": "markdown",
   "source": [
    "#### Cosine similarity graph"
   ],
   "metadata": {
    "collapsed": false,
    "pycharm": {
     "name": "#%% md\n"
    }
   }
  },
  {
   "cell_type": "code",
   "execution_count": null,
   "outputs": [],
   "source": [
    "plot_graphs(pipeline=model1_execution_steps,\n",
    "            model_name=NR1_MODEL_NAME,\n",
    "            model_file_name='model1_cosine_matrix.json',\n",
    "            threshold=0.6,\n",
    "            metric_name=COSINE_METRIC_NAME,\n",
    "            word_graph_configs=call_word_graph_configs(KEY_WORDS_FOR_MODEL1_AND_2),\n",
    "            normalize_func=lambda x: 1 - x)"
   ],
   "metadata": {
    "collapsed": false,
    "pycharm": {
     "name": "#%%\n",
     "is_executing": true
    }
   }
  },
  {
   "cell_type": "code",
   "execution_count": null,
   "outputs": [],
   "source": [
    "plot_graphs(pipeline=model2_execution_steps,\n",
    "            model_name=NR2_MODEL_NAME,\n",
    "            model_file_name='model2_cosine_matrix.json',\n",
    "            threshold=0.6,\n",
    "            metric_name=COSINE_METRIC_NAME,\n",
    "            word_graph_configs=call_word_graph_configs(KEY_WORDS_FOR_MODEL1_AND_2),\n",
    "            normalize_func=lambda x: 1 - x)"
   ],
   "metadata": {
    "collapsed": false,
    "pycharm": {
     "name": "#%%\n",
     "is_executing": true
    }
   }
  },
  {
   "cell_type": "code",
   "execution_count": null,
   "outputs": [],
   "source": [
    "plot_graphs(pipeline=model3_execution_steps,\n",
    "            model_name=NR3_MODEL_NAME,\n",
    "            model_file_name='model3_cosine_matrix.json',\n",
    "            threshold=0.6,\n",
    "            metric_name=COSINE_METRIC_NAME,\n",
    "            word_graph_configs=call_word_graph_configs(KEY_WORDS_FOR_ALL_MODELS),\n",
    "            normalize_func=lambda x: 1 - x)"
   ],
   "metadata": {
    "collapsed": false,
    "pycharm": {
     "name": "#%%\n",
     "is_executing": true
    }
   }
  },
  {
   "cell_type": "code",
   "execution_count": null,
   "outputs": [],
   "source": [],
   "metadata": {
    "collapsed": false,
    "pycharm": {
     "name": "#%%\n"
    }
   }
  }
 ],
 "metadata": {
  "kernelspec": {
   "display_name": "Python 3",
   "language": "python",
   "name": "python3"
  },
  "language_info": {
   "codemirror_mode": {
    "name": "ipython",
    "version": 2
   },
   "file_extension": ".py",
   "mimetype": "text/x-python",
   "name": "python",
   "nbconvert_exporter": "python",
   "pygments_lexer": "ipython2",
   "version": "2.7.6"
  }
 },
 "nbformat": 4,
 "nbformat_minor": 0
}