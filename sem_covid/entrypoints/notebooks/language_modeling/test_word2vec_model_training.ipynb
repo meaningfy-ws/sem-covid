{
 "cells": [
  {
   "cell_type": "code",
   "execution_count": 76,
   "metadata": {
    "collapsed": true
   },
   "outputs": [
    {
     "name": "stderr",
     "output_type": "stream",
     "text": [
      "[nltk_data] Downloading package words to /home/jovyan/nltk_data...\n",
      "[nltk_data]   Package words is already up-to-date!\n"
     ]
    }
   ],
   "source": [
    "import sys\n",
    "\n",
    "sys.path.append(\"/home/jovyan/work/sem-covid/\")\n",
    "sys.path = list(set(sys.path))\n",
    "\n",
    "import os\n",
    "\n",
    "os.getcwd()\n",
    "os.chdir('/home/jovyan/work/sem-covid/')\n",
    "\n",
    "import re\n",
    "import warnings\n",
    "warnings.filterwarnings(\"ignore\")\n",
    "\n",
    "import spacy\n",
    "from spacy.tokens.doc import Doc\n",
    "import nltk\n",
    "from nltk.corpus import words\n",
    "import enchant\n",
    "\n",
    "import pandas as pd\n",
    "from sklearn.feature_extraction.text import TfidfVectorizer\n",
    "\n",
    "from sem_covid.services.sc_wrangling.json_transformer import transform_pwdb\n",
    "from sem_covid.services.language_model_pipelines.language_model_execution_steps import LanguageModelExecutionSteps\n",
    "from sem_covid.entrypoints.notebooks.language_modeling.language_model_tools.document_handling_tools import (\n",
    "    document_atomization_noun_phrases)\n",
    "from sem_covid.services.language_model_pipelines.language_model_pipeline import (LanguageModelPipeline,\n",
    "                                                                                 apply_cleaning_functions)\n",
    "\n",
    "d = enchant.Dict(\"en_US\")\n",
    "nltk.download('words')\n",
    "nlp = spacy.load('en_core_web_sm')\n",
    "en_words = set(words.words())\n"
   ]
  },
  {
   "cell_type": "code",
   "execution_count": 33,
   "outputs": [],
   "source": [
    "def raw_pwdb_data():\n",
    "    raw_sample = [{\n",
    "        \"fieldData\": {\n",
    "            \"title\": \"Hardship case fund: Safety net for self-employed\",\n",
    "            \"title_nationalLanguage\": \"H\\u00e4rtefall-Fonds: Sicherheitnetz f\\u00fcr Selbstst\\u00e4ndige\",\n",
    "            \"d_startDate\": \"03/27/2020\",\n",
    "            \"d_endDate\": \"04/30/2021\",\n",
    "            \"calc_country\": \"Austria\",\n",
    "            \"calc_minorCategory\": \"Income protection beyond short-time work\",\n",
    "            \"calc_subMinorCategory\": \"Extensions of  income support to workers not covered by any kind of protection scheme\",\n",
    "            \"calc_identifier\": \"AT-2020-13/212\",\n",
    "            \"dateType\": \"Temporary\",\n",
    "            \"calc_creationDay\": \"03/31/2020\",\n",
    "            \"calc_lastUpdate\": \"01/04/2021\",\n",
    "            \"descriptionBackgroundInfo\": \"As part of the \\u20ac4 billion fund to mitigate the effects of the Corona crisis, which the Austrian national government and the social partners presented on 14 March 2020, they also presented two hardship funds: one for self-employed in one person companies; and the other for family-run businesses. This was complementary to other measures (see case AT-2020-12-/229), as those two target groups would not be able to profit from the short-time working schemes.\\r\\r\",\n",
    "            \"descriptionContentOfMeasure\": \"The support is a one-off payment and does not have to be paid back. In addition, affected owners of one person companies may also obtain funds from the 'emergency fund' (Notfallfonds). The payments cannot be accumulated though. The hardship fund for self-employed is divided in two phases:\\r\\r* **Phase 1**: Applications are possible until 17 April 2020. Eligible are those who can prove that they are no longer able to cover the running costs or are affected by an officially ordered ban on entry due to COVID-19 or have a drop in sales of at least 50% compared to the same month of the previous year. The amount of the funding is \\u20ac500 if the net income p.a. was below \\u20ac6,000 and \\u20ac1,000 if it was above \\u20ac6,000. The upper income threshold (above which no grant is paid) is \\u20ac33,812 net in the last year for which a tax assessment is available. It essentially applies to one person enterprises (including agricultural and forestry and private accommodation rents) and freelance workers.\\r* **Phase 2**: Applications start on 20 April 2020. The grant depends on the income loss and lies at maximum at \\u20ac2,000 per month for up to three months. No upper income threshold applies, and small companies with less than ten employees and liberal professions are eligible in addition to the group eligible in phase 1. Negotiations with NGOs are currently ongoing.\\rAll applicants (regardless of whether an application has already been submitted in phase 1) will have the same maximum total amount of funding of up to \\u20ac6,000. \\r\\rIn general, applications for the Hardship Fund can be submitted until 31 January 2021. \",\n",
    "            \"descriptionUseOfMeasure\": \"Information from 1 April: Around 100,000 applications for phase 1 were counted so far. The total funds for the hardship fund were increased from \\u20ac1 to 2 billion.\\r\\rInformation from 20 April: The first phase has been completed with 144,000 applications made. A total of \\u20ac121 million. was paid out in the first phase. \\r\\rAs of mid-September, a total of almost 195,000 people have been supported in phases one and two and around \\u20ac528.7 million have been paid out. In the most recent period under review (mid-July to mid-August), an average of around \\u20ac1,200 was paid out in each case.\\r\\rAs of mid-October 2020, around 203,000 people have applied for assistance from the Corona hardship fund since the beginning and \\u20ac700 million have been spent. On average, \\u20ac1,200 euros were paid per individual in the period between 16 September and 15 October 2020. \\rAccording to a survey conducted in July and August 2020 by KMU Research Austria, 57 percent of one-person enterprises have taken advantage of government support measures in connection with the COVID-19 crisis. Of these, almost all entrepreneurs have applied for the hardship fund. Significantly fewer have also applied for tax and duty deferrals (36%), installment payments or deferrals of social security contributions (35%) and fixed cost subsidies (29%). \",\n",
    "            \"descriptionInvolvementOfSocialPartners\": \"The Federal Economic Chamber was involved.\",\n",
    "            \"socialPartner_form\": \"Direct consultation\",\n",
    "            \"socialPartner_role\": \"Agreed (outcome)\",\n",
    "            \"calc_githubURL\": \"https://static.eurofound.europa.eu/covid19db/cases/AT-2020-13_212.html\",\n",
    "            \"isOccupation\": \"No\",\n",
    "            \"isSector\": \"No\",\n",
    "            \"sector_privateOrPublic\": \"Not specified\",\n",
    "            \"calc_type\": \"Legislations or other statutory regulations\",\n",
    "            \"statusOfRegulation\": \"Entirely new measure \"\n",
    "        },\n",
    "        \"portalData\": {\n",
    "            \"sources\": [\n",
    "                {\n",
    "                    \"recordId\": \"74\",\n",
    "                    \"sources::title\": \"Hardship fund: safety net for the self-employed (H\\u00e4rtefall-Fonds: Sicherheitsnetz f\\u00fcr Selbst\\u00e4ndige)\",\n",
    "                    \"sources::url\": \"https://www.wko.at/service/haertefall-fonds-epu-kleinunternehmen.html\",\n",
    "                    \"sources::d_date\": \"03/31/2020\",\n",
    "                    \"modId\": \"7\"\n",
    "                },\n",
    "                {\n",
    "                    \"recordId\": \"76\",\n",
    "                    \"sources::title\": \"Haertefallfonds - Regulation\",\n",
    "                    \"sources::url\": \"https://www.wko.at/service/haertefall-fonds-phase-2.html\",\n",
    "                    \"sources::d_date\": \"03/31/2020\",\n",
    "                    \"modId\": \"7\"\n",
    "                },\n",
    "                {\n",
    "                    \"recordId\": \"77\",\n",
    "                    \"sources::title\": \"H\\u00e4rtefallfonds soll bis zu 6.000 Euro auszahlen\",\n",
    "                    \"sources::url\": \"https://orf.at/stories/3159474/\",\n",
    "                    \"sources::d_date\": \"03/26/2020\",\n",
    "                    \"modId\": \"6\"\n",
    "                },\n",
    "                {\n",
    "                    \"recordId\": \"665\",\n",
    "                    \"sources::title\": \"Uptake of hardship fund - first phase\",\n",
    "                    \"sources::url\": \"https://www.ots.at/presseaussendung/OTS_20200419_OTS0021/haertefall-fonds-geht-in-zweite-phase-informationen-und-services\",\n",
    "                    \"sources::d_date\": \"04/20/2020\",\n",
    "                    \"modId\": \"1\"\n",
    "                },\n",
    "                {\n",
    "                    \"recordId\": \"890\",\n",
    "                    \"sources::title\": \"Improvements in the hardship fund: comeback bonus and higher minimum support for the self-employed\",\n",
    "                    \"sources::url\": \"https://news.wko.at/news/oesterreich/Nachbesserungen-im-Haertefall-Fonds:-Comeback-Bonus-und-h.html\",\n",
    "                    \"sources::d_date\": \"05/27/2020\",\n",
    "                    \"modId\": \"0\"\n",
    "                },\n",
    "                {\n",
    "                    \"recordId\": \"1557\",\n",
    "                    \"sources::title\": \"WKO calls for extension of hardship case fund\",\n",
    "                    \"sources::url\": \"https://kurier.at/wirtschaft/haertefallfonds-wirtschaftskammer-will-laengeren-foerderzeitraum/401033111\",\n",
    "                    \"sources::d_date\": \"09/16/2020\",\n",
    "                    \"modId\": \"0\"\n",
    "                },\n",
    "                {\n",
    "                    \"recordId\": \"1751\",\n",
    "                    \"sources::title\": \"NPO and hoardship fund are extended\",\n",
    "                    \"sources::url\": \"https://www.ots.at/presseaussendung/OTS_20201007_OTS0113/koestinger-npo-und-haertefall-fonds-werden-verlaengert\",\n",
    "                    \"sources::d_date\": \"10/07/2020\",\n",
    "                    \"modId\": \"0\"\n",
    "                },\n",
    "                {\n",
    "                    \"recordId\": \"1808\",\n",
    "                    \"sources::title\": \"Bundesministerium f\\u00fcr Finanzen - Information\",\n",
    "                    \"sources::url\": \"https://www.bmf.gv.at/public/top-themen/corona-hilfspaket-faq.html\",\n",
    "                    \"sources::d_date\": \"10/13/2020\",\n",
    "                    \"modId\": \"0\"\n",
    "                },\n",
    "                {\n",
    "                    \"recordId\": \"2370\",\n",
    "                    \"sources::title\": \"On average \\u20ac1,200 paid\",\n",
    "                    \"sources::url\": \"https://orf.at/stories/3189639/\",\n",
    "                    \"sources::d_date\": \"11/13/2020\",\n",
    "                    \"modId\": \"0\"\n",
    "                }\n",
    "            ],\n",
    "            \"actors\": [\n",
    "                {\n",
    "                    \"recordId\": \"1\",\n",
    "                    \"actors::name\": \"National government\",\n",
    "                    \"modId\": \"3\"\n",
    "                },\n",
    "                {\n",
    "                    \"recordId\": \"4\",\n",
    "                    \"actors::name\": \"Employers' organisations\",\n",
    "                    \"modId\": \"3\"\n",
    "                }\n",
    "            ],\n",
    "            \"targetGroups\": [\n",
    "                {\n",
    "                    \"recordId\": \"31\",\n",
    "                    \"targetGroups::name\": \"Self-employed\",\n",
    "                    \"modId\": \"15\"\n",
    "                },\n",
    "                {\n",
    "                    \"recordId\": \"55\",\n",
    "                    \"targetGroups::name\": \"Solo-self-employed\",\n",
    "                    \"modId\": \"16\"\n",
    "                },\n",
    "                {\n",
    "                    \"recordId\": \"63\",\n",
    "                    \"targetGroups::name\": \"One person or microenterprises\",\n",
    "                    \"modId\": \"12\"\n",
    "                }\n",
    "            ],\n",
    "            \"funding\": [\n",
    "                {\n",
    "                    \"recordId\": \"7\",\n",
    "                    \"funding::name\": \"National funds\",\n",
    "                    \"modId\": \"0\"\n",
    "                }\n",
    "            ],\n",
    "            \"occupations\": [{\n",
    "                'recordId': '36',\n",
    "                'occupations::name': 'Agricultural, forestry and fishery labourers',\n",
    "                'modId': '0'\n",
    "            }],\n",
    "            \"sectors\": [],\n",
    "            \"updates\": [\n",
    "                {\n",
    "                    \"recordId\": \"42\",\n",
    "                    \"updates::d_date\": \"05/27/2020\",\n",
    "                    \"updates::description\": \"An expansion of the safety net self-employed was announced on 27 May. Next to the prolongation of the period over which grants can be obtained from three to six months, a so called 'come back bonus' of \\u20ac500 was introduced. This will be added automatically to already existing grants. Including this bonus the minimum amount of the grant will be raised to \\u20ac1,000. Another novelty is that also pensioners in marginal employment are going to be eligible for the grant. \",\n",
    "                    \"modId\": \"2\"\n",
    "                },\n",
    "                {\n",
    "                    \"recordId\": \"284\",\n",
    "                    \"updates::d_date\": \"09/16/2020\",\n",
    "                    \"updates::description\": \"The Federal Economic Chamber (WKO) has called for an extension of the measure - an application should be possible for twelve instead of six months. \",\n",
    "                    \"modId\": \"1\"\n",
    "                },\n",
    "                {\n",
    "                    \"recordId\": \"349\",\n",
    "                    \"updates::d_date\": \"10/07/2020\",\n",
    "                    \"updates::description\": \"The Council of Ministers agreed on the extension of the measure as requested by the WKO on 7 October 2020. The duration is extended to twelve months, i.e. from 16 March 2020 to 15 March 2021. The maximum amount received is \\u20ac2,500 per month, i.e. \\u20ac30,000 in total. The hardship fund is intended to help micro-enterprises, freelancers and farmers who have financial difficulties due to the corona crisis.\",\n",
    "                    \"modId\": \"3\"\n",
    "                }\n",
    "            ],\n",
    "            \"regions\": []\n",
    "        },\n",
    "        \"recordId\": \"95\",\n",
    "        \"modId\": \"137\"\n",
    "    },\n",
    "        {\n",
    "            \"fieldData\": {\n",
    "                \"title\": \"State support for tourism - Access to finance\",\n",
    "                \"title_nationalLanguage\": \"Massnahmenpaket fuer den Tourismus - Bank\",\n",
    "                \"d_startDate\": \"03/06/2020\",\n",
    "                \"d_endDate\": \"12/31/2020\",\n",
    "                \"calc_country\": \"Austria\",\n",
    "                \"calc_minorCategory\": \"Supporting businesses to stay afloat\",\n",
    "                \"calc_subMinorCategory\": \"Access to finance\",\n",
    "                \"calc_identifier\": \"AT-2020-10/213\",\n",
    "                \"dateType\": \"Temporary\",\n",
    "                \"calc_creationDay\": \"03/31/2020\",\n",
    "                \"calc_lastUpdate\": \"01/04/2021\",\n",
    "                \"descriptionBackgroundInfo\": \"As the tourism industry was among the first sectors to be affected by the closure of enterprises and travel restrictions, the Austrian government - following dialogue with the social partners - announced a support package on 4 March to help ensure the liquidity of small and medium sized enterprises operating in tourism as well as in related business activities (i.e. leisure activities or transport services related to tourism). \\r\\rNext to this measure, also the other support measures (short-time work, 'Haertefallfonds', subsidy for fixed costs) are available to companies in the tourism industry.\\r\\r\\r\",\n",
    "                \"descriptionContentOfMeasure\": \"Initially, bank guarantees amounting to \\u20ac100 million were foreseen, but this was increased to around \\u20ac1 billion on 22 March 2020. Also the costs for issuing the bank guarantees (1% administration fee and 0.8% recurring provision) will be covered by the state. The financial measures are administered by the specialised Austrian Bank for Tourism (OHT).\\r\\rIn addition, some regional states (Bundeslaender) have declared they they will support companies by taking on the payment of interest on the loans and some banks have announced they will keep interest rates low (at 1%). The administrative application has been simplified via an online form.\\r\\rFor companies which were already holding loans from the OHT bank (so called 'TOP-tourism-loans'), the repayment of the outstanding capital can be stopped during 2020 upon application.\\r\\r\",\n",
    "                \"descriptionUseOfMeasure\": \"\\rSince 11 March 2020 (until 31 March), 4,000 requests for support were received and by 26 March, more than 150 bank guarantees, with a volume of \\u20ac32.5 million had been drafted.\",\n",
    "                \"descriptionInvolvementOfSocialPartners\": \"The social partners were consulted.\",\n",
    "                \"socialPartner_form\": \"Direct consultation\",\n",
    "                \"socialPartner_role\": \"Consulted\",\n",
    "                \"calc_githubURL\": \"https://static.eurofound.europa.eu/covid19db/cases/AT-2020-10_213.html\",\n",
    "                \"isOccupation\": \"No\",\n",
    "                \"isSector\": \"Yes\",\n",
    "                \"sector_privateOrPublic\": \"Not specified\",\n",
    "                \"calc_type\": \"Legislations or other statutory regulations\",\n",
    "                \"statusOfRegulation\": \"New aspects included into existing measure\"\n",
    "            },\n",
    "            \"portalData\": {\n",
    "                \"sources\": [\n",
    "                    {\n",
    "                        \"recordId\": \"62\",\n",
    "                        \"sources::title\": \"State support for Tourism\",\n",
    "                        \"sources::url\": \"https://orf.at/stories/3159574/\",\n",
    "                        \"sources::d_date\": \"03/27/2020\",\n",
    "                        \"modId\": \"5\"\n",
    "                    },\n",
    "                    {\n",
    "                        \"recordId\": \"63\",\n",
    "                        \"sources::title\": \"Package of measures for tourism (Ma\\u00dfnahmenpaket f\\u00fcr den Tourismus)\",\n",
    "                        \"sources::url\": \"https://www.bmlrt.gv.at/tourismus/corona-tourismus/corona-ma%C3%9Fnahmenpaket.html\",\n",
    "                        \"sources::d_date\": \"03/30/2020\",\n",
    "                        \"modId\": \"7\"\n",
    "                    },\n",
    "                    {\n",
    "                        \"recordId\": \"64\",\n",
    "                        \"sources::title\": \"WKO information on Tourism package\",\n",
    "                        \"sources::url\": \"https://www.wko.at/service/coronavirus-ueberbrueckungsfinanzierung.html\",\n",
    "                        \"sources::d_date\": \"03/31/2020\",\n",
    "                        \"modId\": \"6\"\n",
    "                    }\n",
    "                ],\n",
    "                \"actors\": [\n",
    "                    {\n",
    "                        \"recordId\": \"1\",\n",
    "                        \"actors::name\": \"National government\",\n",
    "                        \"modId\": \"3\"\n",
    "                    },\n",
    "                    {\n",
    "                        \"recordId\": \"12\",\n",
    "                        \"actors::name\": \"Public support service providers\",\n",
    "                        \"modId\": \"1\"\n",
    "                    }\n",
    "                ],\n",
    "                \"targetGroups\": [\n",
    "                    {\n",
    "                        \"recordId\": \"60\",\n",
    "                        \"targetGroups::name\": \"Sector specific set of companies\",\n",
    "                        \"modId\": \"12\"\n",
    "                    },\n",
    "                    {\n",
    "                        \"recordId\": \"62\",\n",
    "                        \"targetGroups::name\": \"SMEs\",\n",
    "                        \"modId\": \"12\"\n",
    "                    }\n",
    "                ],\n",
    "                \"funding\": [\n",
    "                    {\n",
    "                        \"recordId\": \"7\",\n",
    "                        \"funding::name\": \"National funds\",\n",
    "                        \"modId\": \"0\"\n",
    "                    }\n",
    "                ],\n",
    "                \"occupations\": [],\n",
    "                \"sectors\": [\n",
    "                    {\n",
    "                        \"recordId\": \"83\",\n",
    "                        \"sectors::code\": \"I55\",\n",
    "                        \"sectors::name\": \"Accommodation\",\n",
    "                        \"modId\": \"0\"\n",
    "                    },\n",
    "                    {\n",
    "                        \"recordId\": \"84\",\n",
    "                        \"sectors::code\": \"I56\",\n",
    "                        \"sectors::name\": \"Food and beverage service activities\",\n",
    "                        \"modId\": \"0\"\n",
    "                    },\n",
    "                    {\n",
    "                        \"recordId\": \"125\",\n",
    "                        \"sectors::code\": \"R93\",\n",
    "                        \"sectors::name\": \"Sports activities and amusement and recreation activities\",\n",
    "                        \"modId\": \"0\"\n",
    "                    }\n",
    "                ],\n",
    "                \"updates\": [],\n",
    "                \"regions\": []\n",
    "            },\n",
    "            \"recordId\": \"96\",\n",
    "            \"modId\": \"117\"\n",
    "        }]\n",
    "\n",
    "    return raw_sample\n",
    "def transformed_pwdb_json():\n",
    "    return transform_pwdb(raw_pwdb_data())\n",
    "def transformed_pwdb_dataframe():\n",
    "    return pd.DataFrame.from_records(transformed_pwdb_json())"
   ],
   "metadata": {
    "collapsed": false,
    "pycharm": {
     "name": "#%%\n"
    }
   }
  },
  {
   "cell_type": "markdown",
   "source": [
    "### Test Language Model Pipeline"
   ],
   "metadata": {
    "collapsed": false,
    "pycharm": {
     "name": "#%% md\n"
    }
   }
  },
  {
   "cell_type": "code",
   "execution_count": 31,
   "outputs": [
    {
     "name": "stdout",
     "output_type": "stream",
     "text": [
      "----------------------\n",
      "Test extraction method\n",
      "----------------------\n",
      "True\n",
      "True\n",
      "True\n",
      "--------------------\n",
      "Test cleaning method\n",
      "--------------------\n",
      "True\n",
      "True\n",
      "True\n",
      "True\n",
      "True\n",
      "True\n",
      "True\n",
      "True\n",
      "True\n",
      "True\n",
      "True\n",
      "True\n",
      "True\n",
      "True\n",
      "True\n",
      "True\n",
      "True\n",
      "True\n",
      "True\n",
      "True\n",
      "True\n",
      "True\n",
      "True\n",
      "--------------------------\n",
      "Test transformation method\n",
      "--------------------------\n",
      "True\n",
      "True\n",
      "----------------------------\n",
      "Test extract features method\n",
      "----------------------------\n",
      "True\n",
      "True\n",
      "True\n",
      "----------------------------\n"
     ]
    }
   ],
   "source": [
    "unused_characters = [\"\\\\r\", \">\", \"\\n\", \"\\\\\", \"<\", \"''\", \"%\", \"...\", \"\\'\", '\"', \"(\", \"\\n\", \"*\", \"1)\", \"2)\", \"3)\",\n",
    "                         \"[\", \"]\", \"-\", \"_\", \"\\r\", '®', '..']\n",
    "test_model_name = 'test_model'\n",
    "textual_data = ['title', 'background_info_description']\n",
    "test_model = [(transformed_pwdb_dataframe, textual_data)]\n",
    "language_model_pipeline = LanguageModelPipeline(dataset_source=transformed_pwdb_dataframe(),\n",
    "                                                textual_columns=textual_data,\n",
    "                                                language_model_name=test_model_name)\n",
    "\n",
    "extraction = language_model_pipeline.extract_textual_data()\n",
    "print('----------------------')\n",
    "print('Test extraction method')\n",
    "print('----------------------')\n",
    "print(2 == len(language_model_pipeline.documents_corpus))\n",
    "print('Hardship case fund: Safety net for self-employed' in language_model_pipeline.documents_corpus[0])\n",
    "print('State support for tourism - Access to finance' in language_model_pipeline.documents_corpus[1])\n",
    "print('--------------------')\n",
    "\n",
    "cleaning = language_model_pipeline.clean_textual_data()\n",
    "print('Test cleaning method')\n",
    "print('--------------------')\n",
    "for character in unused_characters:\n",
    "    print(character not in language_model_pipeline.documents_corpus)\n",
    "print('--------------------------')\n",
    "\n",
    "transformation = language_model_pipeline.transform_to_spacy_doc()\n",
    "print('Test transformation method')\n",
    "print('--------------------------')\n",
    "print('complementary measures case target groups' in str(language_model_pipeline.documents_corpus[0]))\n",
    "print('hardship case fund safety self employed' in str(language_model_pipeline.documents_corpus[1]))\n",
    "print('----------------------------')\n",
    "\n",
    "featuring = language_model_pipeline.extract_features()\n",
    "print('Test extract features method')\n",
    "print('----------------------------')\n",
    "print(list == type(language_model_pipeline.documents_corpus))\n",
    "print(str == type(language_model_pipeline.documents_corpus[0]))\n",
    "print(str == type(language_model_pipeline.documents_corpus[1]))\n",
    "print('----------------------------')"
   ],
   "metadata": {
    "collapsed": false,
    "pycharm": {
     "name": "#%%\n"
    }
   }
  },
  {
   "cell_type": "markdown",
   "source": [
    "### Test document_atomization_noun_phrases"
   ],
   "metadata": {
    "collapsed": false,
    "pycharm": {
     "name": "#%% md\n"
    }
   }
  },
  {
   "cell_type": "code",
   "execution_count": 62,
   "outputs": [
    {
     "name": "stdout",
     "output_type": "stream",
     "text": [
      "Constitution United_States supreme_law United_States America .\n",
      "True\n",
      "True\n",
      "True\n",
      "True\n"
     ]
    }
   ],
   "source": [
    "sentence = \"The Constitution of the United States is the supreme law of the United States of America.\"\n",
    "doc = nlp(sentence)\n",
    "\n",
    "atomized_document = document_atomization_noun_phrases(doc)\n",
    "print(atomized_document)\n",
    "print(str == type(atomized_document))\n",
    "print('United_States' in atomized_document)\n",
    "print('supreme_law' in atomized_document)\n",
    "print('United_States' in atomized_document)"
   ],
   "metadata": {
    "collapsed": false,
    "pycharm": {
     "name": "#%%\n"
    }
   }
  },
  {
   "cell_type": "markdown",
   "source": [
    "### Test apply_cleaning_functions"
   ],
   "metadata": {
    "collapsed": false,
    "pycharm": {
     "name": "#%% md\n"
    }
   }
  },
  {
   "cell_type": "code",
   "execution_count": 49,
   "outputs": [
    {
     "name": "stdout",
     "output_type": "stream",
     "text": [
      "True\n",
      "True\n"
     ]
    }
   ],
   "source": [
    "textual_cleaning = apply_cleaning_functions(transformed_pwdb_dataframe()['title'])\n",
    "print('state support tourism access finance' == textual_cleaning[0])\n",
    "print('hardship case fund safety self employed' == textual_cleaning[1])"
   ],
   "metadata": {
    "collapsed": false,
    "pycharm": {
     "name": "#%%\n"
    }
   }
  },
  {
   "cell_type": "code",
   "execution_count": 58,
   "outputs": [],
   "source": [
    "def get_filtered_words(corpus) -> list:\n",
    "    \"\"\"\n",
    "    Using TF-IDF it normalizes the corpus and gets nouns and adjectives from it and put them into a list\n",
    "    Args:\n",
    "        corpus: the iterable object with words that will be handled\n",
    "\n",
    "    Returns: the list with handled words\n",
    "    \"\"\"\n",
    "    tfidf_vec = TfidfVectorizer(use_idf=True)\n",
    "    transformed = tfidf_vec.fit_transform(raw_documents=corpus)\n",
    "    words = list(tfidf_vec.vocabulary_.items())\n",
    "    tmp_df = pd.DataFrame([(pair[0], tfidf_vec.idf_[pair[1]]) for pair in words], columns=['word', 'idf'])\n",
    "    filter_limit = tmp_df.groupby(by='idf').agg(['count']).tail(2).index[0]\n",
    "    words = tmp_df[tmp_df.idf < filter_limit].word.values.tolist()\n",
    "    return [str(word) for document in list(nlp.pipe(words)) for word in document if word.pos_ in ['NOUN', 'ADJ']]\n"
   ],
   "metadata": {
    "collapsed": false,
    "pycharm": {
     "name": "#%%\n"
    }
   }
  },
  {
   "cell_type": "markdown",
   "source": [
    "### Test get_filtered_words"
   ],
   "metadata": {
    "collapsed": false,
    "pycharm": {
     "name": "#%% md\n"
    }
   }
  },
  {
   "cell_type": "code",
   "execution_count": 72,
   "outputs": [
    {
     "name": "stdout",
     "output_type": "stream",
     "text": [
      "True\n"
     ]
    }
   ],
   "source": [
    "filter = get_filtered_words(language_model_pipeline.documents_corpus)\n",
    "print(['hardship', 'case', 'self', 'tourism', 'support'] == filter)"
   ],
   "metadata": {
    "collapsed": false,
    "pycharm": {
     "name": "#%%\n"
    }
   }
  },
  {
   "cell_type": "markdown",
   "source": [
    "### Test clean_text"
   ],
   "metadata": {
    "collapsed": false,
    "pycharm": {
     "name": "#%% md\n"
    }
   }
  },
  {
   "cell_type": "code",
   "execution_count": 74,
   "outputs": [],
   "source": [
    "\n",
    "def clean_text(text: str) -> str:\n",
    "    \"\"\"\n",
    "    It cleans the inserted string from punctuations and symbols.\n",
    "    After that it transforms into lower case and splits them.\n",
    "    Args:\n",
    "        text: inserted string\n",
    "\n",
    "    Returns: modified string\n",
    "    \"\"\"\n",
    "    tmp_word_list = re.sub(' +', ' ', re.sub(r'[^a-zA-Z_ ]', ' ', text)).lower().split(' ')\n",
    "    result_words = [word\n",
    "                    for word in tmp_word_list\n",
    "                    if len(word) > 3 and (word in en_words or d.check(word))]\n",
    "    if len(result_words) > 3:\n",
    "        return ' '.join(result_words)\n",
    "    else:\n",
    "        return ''"
   ],
   "metadata": {
    "collapsed": false,
    "pycharm": {
     "name": "#%%\n"
    }
   }
  },
  {
   "cell_type": "code",
   "execution_count": 78,
   "outputs": [],
   "source": [
    "cleaner = clean_text(transformed_pwdb_dataframe()['title'][0])\n",
    "print('hardship case fund safety self employed' == cleaner)"
   ],
   "metadata": {
    "collapsed": false,
    "pycharm": {
     "name": "#%%\n"
    }
   }
  },
  {
   "cell_type": "code",
   "execution_count": null,
   "outputs": [],
   "source": [],
   "metadata": {
    "collapsed": false,
    "pycharm": {
     "name": "#%%\n"
    }
   }
  }
 ],
 "metadata": {
  "kernelspec": {
   "display_name": "Python 3",
   "language": "python",
   "name": "python3"
  },
  "language_info": {
   "codemirror_mode": {
    "name": "ipython",
    "version": 2
   },
   "file_extension": ".py",
   "mimetype": "text/x-python",
   "name": "python",
   "nbconvert_exporter": "python",
   "pygments_lexer": "ipython2",
   "version": "2.7.6"
  }
 },
 "nbformat": 4,
 "nbformat_minor": 0
}