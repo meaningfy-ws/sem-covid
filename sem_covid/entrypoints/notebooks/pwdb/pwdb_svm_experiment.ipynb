{
 "cells": [
  {
   "cell_type": "code",
   "execution_count": 1,
   "metadata": {
    "collapsed": true
   },
   "outputs": [
    {
     "name": "stderr",
     "output_type": "stream",
     "text": [
      "/opt/conda/lib/python3.8/site-packages/gensim/similarities/__init__.py:15: UserWarning: The gensim.similarities.levenshtein submodule is disabled, because the optional Levenshtein package <https://pypi.org/project/python-Levenshtein/> is unavailable. Install Levenhstein (e.g. `pip install python-Levenshtein`) to suppress this warning.\n",
      "  warnings.warn(msg)\n"
     ]
    },
    {
     "name": "stdout",
     "output_type": "stream",
     "text": [
      "Debug BinaryDataSource:  law2vec/law2vec-200d.txt\n",
      "Debug BinaryDataSource:  jrc-word2vec/vectors-300-2019-11.txt\n"
     ]
    }
   ],
   "source": [
    "import sys\n",
    "\n",
    "sys.path.append(\"/home/jovyan/work/sem-covid/\")\n",
    "sys.path = list(set(sys.path))\n",
    "import os\n",
    "\n",
    "os.getcwd()\n",
    "os.chdir('/home/jovyan/work/sem-covid/')\n",
    "import numpy as np\n",
    "from numpy import array\n",
    "from sklearn import model_selection\n",
    "from sklearn.ensemble import AdaBoostClassifier, RandomForestClassifier\n",
    "from sklearn.multioutput import MultiOutputClassifier\n",
    "from sklearn.neighbors import KNeighborsClassifier\n",
    "from sklearn.pipeline import Pipeline\n",
    "from sklearn.svm import LinearSVC, SVC\n",
    "from sklearn.tree import DecisionTreeClassifier\n",
    "\n",
    "from sem_covid.services.sc_wrangling.evaluation_metrics import model_evaluation_metrics\n",
    "from sem_covid.services.sc_wrangling.mean_vectorizer import MeanEmbeddingVectorizer\n",
    "\n",
    "\n",
    "from sem_covid.services.data_registry import Dataset, LanguageModel\n",
    "import pandas as pd\n",
    "from gensim.models import KeyedVectors"
   ]
  },
  {
   "cell_type": "markdown",
   "source": [
    "# Define constants"
   ],
   "metadata": {
    "collapsed": false,
    "pycharm": {
     "name": "#%% md\n"
    }
   }
  },
  {
   "cell_type": "code",
   "execution_count": 357,
   "outputs": [],
   "source": [
    "BUSINESSES = {'Companies providing essential services', 'Contractors of a company', 'Larger corporations',\n",
    "              'One person or microenterprises', 'Other businesses', 'SMEs', 'Sector specific set of companies',\n",
    "              'Solo-self-employed', 'Start-ups'}\n",
    "\n",
    "CITIZENS = {'Children (minors)', 'Disabled', 'Migrants', 'Older citizens', 'Other groups of citizens', 'Parents',\n",
    "            'People in care facilities', 'Refugees', 'Single parents', 'The COVID-19 risk group', 'Women',\n",
    "            'Youth (18-25)'}\n",
    "\n",
    "WORKERS = {'Cross-border commuters', 'Disabled workers', 'Employees in standard employment', 'Female workers',\n",
    "           'Migrants in employment', 'Older people in employment (aged 55+)', 'Other groups of workers',\n",
    "           'Parents in employment', 'Particular professions', 'Platform workers', 'Posted workers',\n",
    "           'Refugees in employment', 'Seasonal workers', 'Self-employed', 'Single parents in employment',\n",
    "           'The COVID-19 risk group at the workplace', 'Undeclared workers', 'Unemployed', 'Workers in care facilities',\n",
    "           'Workers in essential services', 'Workers in non-standard forms of employment',\n",
    "           'Youth (18-25) in employment'}\n",
    "\n",
    "TEXTUAL_COLUMNS = ['title', 'background_info_description', 'content_of_measure_description',\n",
    "                   'use_of_measure_description', 'involvement_of_social_partners_description']\n",
    "\n",
    "CLASS_COLUMNS = ['businesses', 'citizens', 'workers']"
   ],
   "metadata": {
    "collapsed": false,
    "pycharm": {
     "name": "#%%\n"
    }
   }
  },
  {
   "cell_type": "code",
   "execution_count": 358,
   "outputs": [],
   "source": [
    "def target_group_refactoring(pwdb_dataframe: pd.DataFrame,\n",
    "                             target_group_column_name: str = 'target_groups') -> pd.DataFrame:\n",
    "    \"\"\"\n",
    "        The target group available in the original dataset is very granular. For the purpose of this exercise\n",
    "        we would benefit from aggregating the target groups into a more generic sets. As a result we will obtain\n",
    "        target groups on two levels: L1, L2.\n",
    "        L1: workers, businesses, citizens\n",
    "        L2: the original set of categories\n",
    "\n",
    "        :return: the given dataset with an extra column containing the aggregated (L1) values\n",
    "    \"\"\"\n",
    "    new_columns = {'businesses': BUSINESSES, 'citizens': CITIZENS, 'workers': WORKERS}\n",
    "    refactored_pwdb_df = pwdb_dataframe[target_group_column_name]\n",
    "    for column, class_set in new_columns.items():\n",
    "        pwdb_dataframe[column] = refactored_pwdb_df.apply(lambda x: any(item in class_set for item in x))\n",
    "        pwdb_dataframe[column].replace({True: 1, False: 0}, inplace=True)\n",
    "    return pwdb_dataframe"
   ],
   "metadata": {
    "collapsed": false,
    "pycharm": {
     "name": "#%%\n"
    }
   }
  },
  {
   "cell_type": "code",
   "execution_count": 2,
   "outputs": [
    {
     "name": "stderr",
     "output_type": "stream",
     "text": [
      "100% (1288 of 1288) |####################| Elapsed Time: 0:00:00 Time:  0:00:00\n"
     ]
    }
   ],
   "source": [
    "df = Dataset.PWDB.fetch()\n",
    "law2vec = LanguageModel.LAW2VEC.fetch()"
   ],
   "metadata": {
    "collapsed": false,
    "pycharm": {
     "name": "#%%\n"
    }
   }
  },
  {
   "cell_type": "code",
   "execution_count": 3,
   "outputs": [
    {
     "data": {
      "text/plain": "bytes"
     },
     "execution_count": 3,
     "metadata": {},
     "output_type": "execute_result"
    }
   ],
   "source": [
    "type(law2vec)"
   ],
   "metadata": {
    "collapsed": false,
    "pycharm": {
     "name": "#%%\n"
    }
   }
  },
  {
   "cell_type": "code",
   "execution_count": 5,
   "outputs": [],
   "source": [
    "law2vec_path = LanguageModel.LAW2VEC.path_to_local_cache()\n",
    "law2vec_format = KeyedVectors.load_word2vec_format(law2vec_path, encoding=\"utf-8\")\n",
    "l2v_dict = {w: vec for w, vec in zip(law2vec_format.index_to_key, law2vec_format.vectors)}"
   ],
   "metadata": {
    "collapsed": false,
    "pycharm": {
     "name": "#%%\n"
    }
   }
  },
  {
   "cell_type": "code",
   "execution_count": 264,
   "outputs": [
    {
     "data": {
      "text/plain": "identifier\n1297    [[0.0, 0.0, 0.0, 0.0, 0.0, 0.0, 0.0, 0.0, 0.0,...\n864     [[0.0, 0.0, 0.0, 0.0, 0.0, 0.0, 0.0, 0.0, 0.0,...\n1228    [[0.0, 0.0, 0.0, 0.0, 0.0, 0.0, 0.0, 0.0, 0.0,...\n183     [[0.0, 0.0, 0.0, 0.0, 0.0, 0.0, 0.0, 0.0, 0.0,...\n1550    [[0.0, 0.0, 0.0, 0.0, 0.0, 0.0, 0.0, 0.0, 0.0,...\n                              ...                        \n451     [[0.0, 0.0, 0.0, 0.0, 0.0, 0.0, 0.0, 0.0, 0.0,...\n889     [[0.0, 0.0, 0.0, 0.0, 0.0, 0.0, 0.0, 0.0, 0.0,...\n658     [[0.0, 0.0, 0.0, 0.0, 0.0, 0.0, 0.0, 0.0, 0.0,...\n1115    [[0.0, 0.0, 0.0, 0.0, 0.0, 0.0, 0.0, 0.0, 0.0,...\n1049    [[0.0, 0.0, 0.0, 0.0, 0.0, 0.0, 0.0, 0.0, 0.0,...\nName: text_data, Length: 1288, dtype: object"
     },
     "execution_count": 264,
     "metadata": {},
     "output_type": "execute_result"
    }
   ],
   "source": [
    "df = target_group_refactoring(df)\n",
    "df = df.set_index(df.columns[0])\n",
    "\n"
   ],
   "metadata": {
    "collapsed": false,
    "pycharm": {
     "name": "#%%\n"
    }
   }
  },
  {
   "cell_type": "code",
   "execution_count": 331,
   "outputs": [],
   "source": [
    "df[\"text_data\"] = df[TEXTUAL_COLUMNS].agg(\" \".join, axis=1)"
   ],
   "metadata": {
    "collapsed": false,
    "pycharm": {
     "name": "#%%\n"
    }
   }
  },
  {
   "cell_type": "code",
   "execution_count": 332,
   "outputs": [],
   "source": [
    "df[\"text_data\"] = df[\"text_data\"].apply(lambda x: text_to_vector(x))\n"
   ],
   "metadata": {
    "collapsed": false,
    "pycharm": {
     "name": "#%%\n"
    }
   }
  },
  {
   "cell_type": "code",
   "execution_count": 328,
   "outputs": [],
   "source": [
    "def text_to_vector(text: str):\n",
    "    return list(np.mean([l2v_dict[word] for word in text.split() if word in l2v_dict], axis=0))"
   ],
   "metadata": {
    "collapsed": false,
    "pycharm": {
     "name": "#%%\n"
    }
   }
  },
  {
   "cell_type": "code",
   "execution_count": 285,
   "outputs": [
    {
     "name": "stdout",
     "output_type": "stream",
     "text": [
      "[ 0.02545931  0.06653013  0.02339859  0.06355191 -0.01755772  0.10998537\n",
      "  0.0063006  -0.2567684   0.05525973  0.00441868 -0.06974691 -0.16998082\n",
      " -0.16435541 -0.10855313  0.05459474  0.19679487 -0.24379154  0.02307621\n",
      "  0.12596805 -0.20902404  0.00382822 -0.19417858  0.08447942  0.05687957\n",
      " -0.17167118 -0.04357034  0.15568979 -0.06187607 -0.11538222 -0.15128207\n",
      "  0.35370547 -0.11019868 -0.23292814 -0.00622284  0.03836507  0.08357991\n",
      "  0.05910455  0.05823036 -0.13042156 -0.00968329 -0.0725482  -0.0980014\n",
      "  0.12952572  0.11194758  0.0283453   0.00061622 -0.12272678  0.12974879\n",
      "  0.01398437  0.20155644 -0.02581969  0.1963244  -0.01750274 -0.04084431\n",
      " -0.13908987 -0.00317987 -0.21313736 -0.07175594  0.11640672 -0.04132283\n",
      " -0.01584359  0.04143398 -0.04355407  0.14294216 -0.00199252 -0.02342331\n",
      "  0.06641872 -0.27542517  0.13968018 -0.01161421 -0.08233781 -0.11091176\n",
      "  0.07202396 -0.24298942 -0.02012934 -0.03967017  0.04766052  0.08584447\n",
      " -0.14345793  0.03357938  0.00665812 -0.00816896 -0.0617836   0.13476133\n",
      "  0.02741068  0.24564338 -0.11361265 -0.09912302  0.29288182 -0.13983989\n",
      "  0.13274261  0.04796963  0.16396177 -0.09512334  0.16028458  0.03592982\n",
      "  0.2857344  -0.04441513 -0.0113276  -0.05081823 -0.24611557  0.0476056\n",
      "  0.01584085 -0.21979313  0.07600144  0.02317641  0.34097126  0.01696592\n",
      " -0.0608612   0.0950575  -0.01568762 -0.05223224  0.16817898 -0.07501592\n",
      " -0.02298945  0.03479338  0.10877747 -0.08307472  0.01064401  0.15431735\n",
      " -0.10971951 -0.0359464   0.07360175 -0.06952628 -0.20011567  0.0728806\n",
      " -0.03541453  0.05206596 -0.13077089  0.05198921  0.17580563  0.0632368\n",
      " -0.20008227 -0.11622553  0.08235337  0.07098413 -0.06395775  0.13499549\n",
      "  0.09564354 -0.06861407  0.1938      0.01529073 -0.22626345  0.00292149\n",
      "  0.12860459 -0.1686768  -0.21924232  0.07225505 -0.02107958 -0.16582415\n",
      "  0.40356174  0.17797545  0.10232573  0.05548966 -0.01607042  0.02982792\n",
      "  0.1534112   0.09134983  0.02425621  0.00441712 -0.08064317 -0.24423473\n",
      "  0.10867965 -0.43843395 -0.2851118   0.07055643 -0.10700073  0.02572278\n",
      " -0.06905583 -0.05488148 -0.00414955  0.19306074 -0.03393602 -0.14115529\n",
      " -0.0052932  -0.0548662   0.03830748  0.05497627  0.03875667  0.15556541\n",
      "  0.08156578  0.0681873  -0.06951077 -0.04825106 -0.03652314  0.01329481\n",
      " -0.0986236   0.17470728  0.04162783 -0.0271059   0.01130499 -0.10035548\n",
      "  0.23521104 -0.03393456  0.09990596  0.00219962 -0.05743428 -0.11272822\n",
      "  0.05595717  0.11252729]\n"
     ]
    }
   ],
   "source": [
    "text_to_vector(df[\"text_data\"].values[0])"
   ],
   "metadata": {
    "collapsed": false,
    "pycharm": {
     "name": "#%%\n"
    }
   }
  },
  {
   "cell_type": "code",
   "execution_count": 333,
   "outputs": [],
   "source": [
    "x_train_list = list()\n",
    "x_test_list = list()\n",
    "y_train_list = list()\n",
    "y_test_list = list()\n",
    "for column in CLASS_COLUMNS:\n",
    "    x_train, x_test, y_train, y_test = model_selection.train_test_split(df[\"text_data\"].values, df[column].values,\n",
    "                                                                        random_state=42, test_size=0.3,\n",
    "                                                                        shuffle=True)\n",
    "    x_train_list.append(list(x_train))\n",
    "    x_test_list.append(list(x_test))\n",
    "    y_train_list.append(list(y_train))\n",
    "    y_test_list.append(list(y_test))\n",
    "train_test_dataset = {\"x_train\": x_train_list, \"x_test\": x_test_list, \"y_train\": y_train_list, \"y_test\": y_test_list,\n",
    "                      \"class_name\": CLASS_COLUMNS}"
   ],
   "metadata": {
    "collapsed": false,
    "pycharm": {
     "name": "#%%\n"
    }
   }
  },
  {
   "cell_type": "code",
   "execution_count": 339,
   "outputs": [
    {
     "data": {
      "text/plain": "                                             x_train  \\\n0  [[0.05028788, 0.11401862, -0.012204234, 0.0503...   \n1  [[0.05028788, 0.11401862, -0.012204234, 0.0503...   \n2  [[0.05028788, 0.11401862, -0.012204234, 0.0503...   \n\n                                              x_test  \\\n0  [[0.02076964, 0.06914482, -0.00045922917, 0.08...   \n1  [[0.02076964, 0.06914482, -0.00045922917, 0.08...   \n2  [[0.02076964, 0.06914482, -0.00045922917, 0.08...   \n\n                                             y_train  \\\n0  [1, 1, 0, 0, 0, 0, 0, 0, 1, 1, 1, 0, 0, 0, 0, ...   \n1  [0, 0, 0, 1, 0, 0, 0, 0, 0, 0, 0, 0, 0, 0, 1, ...   \n2  [1, 0, 1, 1, 1, 1, 1, 0, 0, 1, 0, 1, 0, 0, 1, ...   \n\n                                              y_test  class_name  \n0  [1, 0, 1, 0, 1, 0, 0, 0, 1, 0, 0, 0, 0, 1, 1, ...  businesses  \n1  [0, 0, 0, 0, 0, 1, 0, 0, 0, 1, 0, 0, 0, 0, 0, ...    citizens  \n2  [1, 0, 0, 1, 0, 0, 1, 1, 0, 0, 0, 0, 1, 1, 1, ...     workers  ",
      "text/html": "<div>\n<style scoped>\n    .dataframe tbody tr th:only-of-type {\n        vertical-align: middle;\n    }\n\n    .dataframe tbody tr th {\n        vertical-align: top;\n    }\n\n    .dataframe thead th {\n        text-align: right;\n    }\n</style>\n<table border=\"1\" class=\"dataframe\">\n  <thead>\n    <tr style=\"text-align: right;\">\n      <th></th>\n      <th>x_train</th>\n      <th>x_test</th>\n      <th>y_train</th>\n      <th>y_test</th>\n      <th>class_name</th>\n    </tr>\n  </thead>\n  <tbody>\n    <tr>\n      <th>0</th>\n      <td>[[0.05028788, 0.11401862, -0.012204234, 0.0503...</td>\n      <td>[[0.02076964, 0.06914482, -0.00045922917, 0.08...</td>\n      <td>[1, 1, 0, 0, 0, 0, 0, 0, 1, 1, 1, 0, 0, 0, 0, ...</td>\n      <td>[1, 0, 1, 0, 1, 0, 0, 0, 1, 0, 0, 0, 0, 1, 1, ...</td>\n      <td>businesses</td>\n    </tr>\n    <tr>\n      <th>1</th>\n      <td>[[0.05028788, 0.11401862, -0.012204234, 0.0503...</td>\n      <td>[[0.02076964, 0.06914482, -0.00045922917, 0.08...</td>\n      <td>[0, 0, 0, 1, 0, 0, 0, 0, 0, 0, 0, 0, 0, 0, 1, ...</td>\n      <td>[0, 0, 0, 0, 0, 1, 0, 0, 0, 1, 0, 0, 0, 0, 0, ...</td>\n      <td>citizens</td>\n    </tr>\n    <tr>\n      <th>2</th>\n      <td>[[0.05028788, 0.11401862, -0.012204234, 0.0503...</td>\n      <td>[[0.02076964, 0.06914482, -0.00045922917, 0.08...</td>\n      <td>[1, 0, 1, 1, 1, 1, 1, 0, 0, 1, 0, 1, 0, 0, 1, ...</td>\n      <td>[1, 0, 0, 1, 0, 0, 1, 1, 0, 0, 0, 0, 1, 1, 1, ...</td>\n      <td>workers</td>\n    </tr>\n  </tbody>\n</table>\n</div>"
     },
     "execution_count": 339,
     "metadata": {},
     "output_type": "execute_result"
    }
   ],
   "source": [
    "tmp = pd.DataFrame.from_dict(train_test_dataset)\n",
    "tmp.head()  #[\"workers\"]\n",
    "#tmp_dict = tmp.to_dict()\n",
    "#print(x_train.values)\n"
   ],
   "metadata": {
    "collapsed": false,
    "pycharm": {
     "name": "#%%\n"
    }
   }
  },
  {
   "cell_type": "code",
   "execution_count": 341,
   "outputs": [
    {
     "data": {
      "text/plain": "  hey\na   a",
      "text/html": "<div>\n<style scoped>\n    .dataframe tbody tr th:only-of-type {\n        vertical-align: middle;\n    }\n\n    .dataframe tbody tr th {\n        vertical-align: top;\n    }\n\n    .dataframe thead th {\n        text-align: right;\n    }\n</style>\n<table border=\"1\" class=\"dataframe\">\n  <thead>\n    <tr style=\"text-align: right;\">\n      <th></th>\n      <th>hey</th>\n    </tr>\n  </thead>\n  <tbody>\n    <tr>\n      <th>a</th>\n      <td>a</td>\n    </tr>\n  </tbody>\n</table>\n</div>"
     },
     "execution_count": 341,
     "metadata": {},
     "output_type": "execute_result"
    }
   ],
   "source": [],
   "metadata": {
    "collapsed": false,
    "pycharm": {
     "name": "#%%\n"
    }
   }
  },
  {
   "cell_type": "code",
   "execution_count": 335,
   "outputs": [
    {
     "name": "stdout",
     "output_type": "stream",
     "text": [
      "t\n"
     ]
    }
   ],
   "source": [
    "train_test_dataset[\"x_train\"][0]\n",
    "print(\"t\")\n"
   ],
   "metadata": {
    "collapsed": false,
    "pycharm": {
     "name": "#%%\n"
    }
   }
  },
  {
   "cell_type": "code",
   "execution_count": null,
   "outputs": [],
   "source": [
    "linear_svc_l2v_1 = Pipeline([\n",
    "    (\"word2vec vectorizer\", MeanEmbeddingVectorizer(l2v_dict)),\n",
    "    (\"Multi-label classifier\", RandomForestClassifier())])"
   ],
   "metadata": {
    "collapsed": false,
    "pycharm": {
     "name": "#%%\n"
    }
   }
  },
  {
   "cell_type": "code",
   "execution_count": 352,
   "outputs": [
    {
     "data": {
      "text/plain": "                     businesses  citizens   workers\nAccuracy               0.764858  0.945736  0.744186\nPrecision              0.755991  0.724026  0.745771\nRecall                 0.689913  0.522443  0.742420\nF1-Score               0.703543  0.529497  0.742640\nMean Absolute Error    0.235142  0.054264  0.255814\nMean Squared Error     0.235142  0.054264  0.255814",
      "text/html": "<div>\n<style scoped>\n    .dataframe tbody tr th:only-of-type {\n        vertical-align: middle;\n    }\n\n    .dataframe tbody tr th {\n        vertical-align: top;\n    }\n\n    .dataframe thead th {\n        text-align: right;\n    }\n</style>\n<table border=\"1\" class=\"dataframe\">\n  <thead>\n    <tr style=\"text-align: right;\">\n      <th></th>\n      <th>businesses</th>\n      <th>citizens</th>\n      <th>workers</th>\n    </tr>\n  </thead>\n  <tbody>\n    <tr>\n      <th>Accuracy</th>\n      <td>0.764858</td>\n      <td>0.945736</td>\n      <td>0.744186</td>\n    </tr>\n    <tr>\n      <th>Precision</th>\n      <td>0.755991</td>\n      <td>0.724026</td>\n      <td>0.745771</td>\n    </tr>\n    <tr>\n      <th>Recall</th>\n      <td>0.689913</td>\n      <td>0.522443</td>\n      <td>0.742420</td>\n    </tr>\n    <tr>\n      <th>F1-Score</th>\n      <td>0.703543</td>\n      <td>0.529497</td>\n      <td>0.742640</td>\n    </tr>\n    <tr>\n      <th>Mean Absolute Error</th>\n      <td>0.235142</td>\n      <td>0.054264</td>\n      <td>0.255814</td>\n    </tr>\n    <tr>\n      <th>Mean Squared Error</th>\n      <td>0.235142</td>\n      <td>0.054264</td>\n      <td>0.255814</td>\n    </tr>\n  </tbody>\n</table>\n</div>"
     },
     "execution_count": 352,
     "metadata": {},
     "output_type": "execute_result"
    }
   ],
   "source": [
    "t = pd.DataFrame()\n",
    "for iter, row in tmp.iterrows():\n",
    "    model = RandomForestClassifier()\n",
    "    result = model.fit(row['x_train'],\n",
    "                       row['y_train'])\n",
    "    result.score(row['x_train'],\n",
    "                 row['y_train'])\n",
    "    prediction = result.predict(row['x_test'])\n",
    "    evaluation = model_evaluation_metrics(\n",
    "        row['y_test'], prediction)\n",
    "    class_name =row[\"class_name\"]\n",
    "    t[class_name] = pd.Series(evaluation)\n",
    "\n",
    "t"
   ],
   "metadata": {
    "collapsed": false,
    "pycharm": {
     "name": "#%%\n"
    }
   }
  },
  {
   "cell_type": "code",
   "execution_count": 206,
   "outputs": [],
   "source": [
    "l2v_target_groups_l1 = linear_svc_l2v_1.fit(train_test_dataset['x_train'],\n",
    "                                            train_test_dataset['y_train']['businesses'])"
   ],
   "metadata": {
    "collapsed": false,
    "pycharm": {
     "name": "#%%\n"
    }
   }
  },
  {
   "cell_type": "code",
   "execution_count": 207,
   "outputs": [
    {
     "data": {
      "text/plain": "1.0"
     },
     "execution_count": 207,
     "metadata": {},
     "output_type": "execute_result"
    }
   ],
   "source": [
    "l2v_target_groups_l1.score(train_test_dataset['x_train'],\n",
    "                           train_test_dataset['y_train']['businesses'])"
   ],
   "metadata": {
    "collapsed": false,
    "pycharm": {
     "name": "#%%\n"
    }
   }
  },
  {
   "cell_type": "code",
   "execution_count": 208,
   "outputs": [],
   "source": [
    "l2v_tg_l1_prediction = l2v_target_groups_l1.predict(train_test_dataset['x_test'])\n"
   ],
   "metadata": {
    "collapsed": false,
    "pycharm": {
     "name": "#%%\n"
    }
   }
  },
  {
   "cell_type": "code",
   "execution_count": 209,
   "outputs": [],
   "source": [
    "l2v_tg_l1_evaluation = model_evaluation_metrics(\n",
    "    train_test_dataset['y_test']['businesses'], l2v_tg_l1_prediction)"
   ],
   "metadata": {
    "collapsed": false,
    "pycharm": {
     "name": "#%%\n"
    }
   }
  },
  {
   "cell_type": "code",
   "execution_count": 210,
   "outputs": [
    {
     "data": {
      "text/plain": "{'Accuracy': 0.7209302325581395,\n 'Precision': 0.675,\n 'Recall': 0.6261086474501109,\n 'F1-Score': 0.6335227272727273,\n 'Mean Absolute Error': 0.27906976744186046,\n 'Mean Squared Error': 0.27906976744186046}"
     },
     "execution_count": 210,
     "metadata": {},
     "output_type": "execute_result"
    }
   ],
   "source": [
    "l2v_tg_l1_evaluation"
   ],
   "metadata": {
    "collapsed": false,
    "pycharm": {
     "name": "#%%\n"
    }
   }
  }
 ],
 "metadata": {
  "kernelspec": {
   "display_name": "Python 3",
   "language": "python",
   "name": "python3"
  },
  "language_info": {
   "codemirror_mode": {
    "name": "ipython",
    "version": 2
   },
   "file_extension": ".py",
   "mimetype": "text/x-python",
   "name": "python",
   "nbconvert_exporter": "python",
   "pygments_lexer": "ipython2",
   "version": "2.7.6"
  }
 },
 "nbformat": 4,
 "nbformat_minor": 0
}