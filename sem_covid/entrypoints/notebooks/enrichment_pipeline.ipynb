{
 "cells": [
  {
   "cell_type": "markdown",
   "metadata": {
    "collapsed": true,
    "pycharm": {
     "name": "#%% md\n"
    }
   },
   "source": [
    "## Import libraries"
   ]
  },
  {
   "cell_type": "code",
   "execution_count": 3,
   "outputs": [],
   "source": [
    "import sys\n",
    "\n",
    "sys.path.append(\"/home/jovyan/work/sem-covid/\")\n",
    "sys.path = list(set(sys.path))\n",
    "import os\n",
    "\n",
    "os.getcwd()\n",
    "os.chdir('/home/jovyan/work/sem-covid/')\n",
    "from sem_covid import config\n",
    "from sem_covid.services.enrich_pipelines.base_enrich_pipeline import (BaseEnrichPipeline, BasePrepareDatasetPipeline)"
   ],
   "metadata": {
    "collapsed": false,
    "pycharm": {
     "name": "#%%\n"
    }
   }
  },
  {
   "cell_type": "markdown",
   "source": [
    "## Define constants"
   ],
   "metadata": {
    "collapsed": false,
    "pycharm": {
     "name": "#%% md\n"
    }
   }
  },
  {
   "cell_type": "code",
   "execution_count": 4,
   "outputs": [],
   "source": [
    "TEXTUAL_COLUMNS = [['title'],\n",
    "                   ['title', 'abstract', 'detail_content'],\n",
    "                   ['title', 'content', 'keyword']\n",
    "                   ]\n",
    "DS_INDEXES = [config.EU_CELLAR_ELASTIC_SEARCH_INDEX_NAME,\n",
    "              config.EU_TIMELINE_ELASTIC_SEARCH_INDEX_NAME,\n",
    "              config.IRELAND_TIMELINE_ELASTIC_SEARCH_INDEX_NAME\n",
    "              ]\n",
    "FEATURE_STORE_NAMES = ['fs_eu_cellar',\n",
    "                       'fs_eu_timeline',\n",
    "                       'fs_ireland_timeline'\n",
    "                       ]"
   ],
   "metadata": {
    "collapsed": false,
    "pycharm": {
     "name": "#%%\n"
    }
   }
  },
  {
   "cell_type": "markdown",
   "source": [
    "### Execute preparation dataset pipeline and enrich pipeline for each dataset"
   ],
   "metadata": {
    "collapsed": false,
    "pycharm": {
     "name": "#%% md\n"
    }
   }
  },
  {
   "cell_type": "code",
   "execution_count": 4,
   "outputs": [
    {
     "name": "stderr",
     "output_type": "stream",
     "text": [
      "100% (3175 of 3175) |####################| Elapsed Time: 0:00:01 Time:  0:00:01\n",
      "100% (231 of 231) |######################| Elapsed Time: 0:00:00 Time:  0:00:00\n",
      "100% (1921 of 1921) |####################| Elapsed Time: 0:00:00 Time:  0:00:00\n",
      " 74% (1435 of 1921) |##############      | Elapsed Time: 0:00:00 ETA:   0:00:00"
     ]
    }
   ],
   "source": [
    "for index in range(0, len(FEATURE_STORE_NAMES)):\n",
    "    BasePrepareDatasetPipeline(textual_columns=TEXTUAL_COLUMNS[index],\n",
    "                               ds_es_index=DS_INDEXES[index],\n",
    "                               features_store_name=FEATURE_STORE_NAMES[index]\n",
    "                               ).execute()"
   ],
   "metadata": {
    "collapsed": false,
    "pycharm": {
     "name": "#%%\n"
    }
   }
  },
  {
   "cell_type": "code",
   "execution_count": 5,
   "outputs": [
    {
     "name": "stderr",
     "output_type": "stream",
     "text": [
      "100% (3175 of 3175) |####################| Elapsed Time: 0:00:01 Time:  0:00:01\n",
      "100% (3175 of 3175) |####################| Elapsed Time: 0:00:00 Time:  0:00:00\n",
      "100% (1381 of 1381) |####################| Elapsed Time: 0:00:00 Time:  0:00:00\n",
      "100% (231 of 231) |######################| Elapsed Time: 0:00:00 Time:  0:00:00\n",
      "100% (231 of 231) |######################| Elapsed Time: 0:00:00 Time:  0:00:00\n",
      "100% (1381 of 1381) |####################| Elapsed Time: 0:00:00 Time:  0:00:00\n",
      "100% (1921 of 1921) |####################| Elapsed Time: 0:00:00 Time:  0:00:00\n",
      "100% (1921 of 1921) |####################| Elapsed Time: 0:00:00 Time:  0:00:00\n",
      "100% (1381 of 1381) |####################| Elapsed Time: 0:00:00 Time:  0:00:00\n",
      " 77% (1484 of 1921) |###############     | Elapsed Time: 0:00:00 ETA:  00:00:00"
     ]
    }
   ],
   "source": [
    "for index in range(0, len(FEATURE_STORE_NAMES)):\n",
    "    BaseEnrichPipeline(ds_es_index=DS_INDEXES[index],\n",
    "                       feature_store_name=FEATURE_STORE_NAMES[index]\n",
    "                       ).execute()\n"
   ],
   "metadata": {
    "collapsed": false,
    "pycharm": {
     "name": "#%%\n"
    }
   }
  }
 ],
 "metadata": {
  "kernelspec": {
   "display_name": "Python 3",
   "language": "python",
   "name": "python3"
  },
  "language_info": {
   "codemirror_mode": {
    "name": "ipython",
    "version": 2
   },
   "file_extension": ".py",
   "mimetype": "text/x-python",
   "name": "python",
   "nbconvert_exporter": "python",
   "pygments_lexer": "ipython2",
   "version": "2.7.6"
  }
 },
 "nbformat": 4,
 "nbformat_minor": 0
}