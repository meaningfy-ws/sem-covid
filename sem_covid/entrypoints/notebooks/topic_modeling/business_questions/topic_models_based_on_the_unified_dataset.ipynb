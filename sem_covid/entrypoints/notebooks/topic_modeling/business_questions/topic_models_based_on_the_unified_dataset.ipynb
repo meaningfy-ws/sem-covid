{
 "cells": [
  {
   "cell_type": "markdown",
   "id": "3ad38d16",
   "metadata": {},
   "source": [
    "# Imports"
   ]
  },
  {
   "cell_type": "code",
   "execution_count": 1,
   "id": "d08eceed",
   "metadata": {},
   "outputs": [],
   "source": [
    "import sys\n",
    "sys.path.append('/home/jovyan/work/sem-covid/')\n",
    "sys.path = list(set(sys.path))\n",
    "\n",
    "import os\n",
    "os.getcwd()\n",
    "os.chdir('/home/jovyan/work/sem-covid/')\n",
    "\n",
    "import mlflow\n",
    "import numpy as np\n",
    "import pickle\n",
    "\n",
    "from sem_covid.services.store_registry import store_registry\n",
    "from sem_covid import config\n",
    "from umap import UMAP\n",
    "from bertopic import BERTopic"
   ]
  },
  {
   "cell_type": "markdown",
   "id": "6f0cf937",
   "metadata": {},
   "source": [
    "# Global variables"
   ]
  },
  {
   "cell_type": "code",
   "execution_count": 2,
   "id": "27c173bd",
   "metadata": {},
   "outputs": [],
   "source": [
    "CONTENT_CLEANED_TOPIC_MODELING_COLUMN_NAME = 'content_cleaned_topic_modeling'\n",
    "DOCUMENT_EMBEDDINGS_EURLEX_BERT_COLUMN_NAME = 'document_embeddings_eurlex_bert'\n",
    "\n",
    "EXPERIMENT_ID = '120'\n",
    "BUCKET_NAME = 'mlflow'\n",
    "\n",
    "MODEL_NR = ['model_1', 'model_2', 'model_3']\n",
    "UMAP_MODEL_RANDOM_STATE = 30\n",
    "UMAP_MODEL_N_NEIGHBORS = 15\n",
    "UMAP_MODEL_N_COMPONENTS = 1\n",
    "UMAP_MODEL_MIN_DIST = 0.0\n",
    "UMAP_MODEL_METRIC = 'cosine'"
   ]
  },
  {
   "cell_type": "markdown",
   "id": "061f3a11",
   "metadata": {},
   "source": [
    "# Fetch the data"
   ]
  },
  {
   "cell_type": "code",
   "execution_count": 3,
   "id": "21d3deae",
   "metadata": {},
   "outputs": [],
   "source": [
    "es_store = store_registry.es_index_store()"
   ]
  },
  {
   "cell_type": "code",
   "execution_count": 4,
   "id": "90c8eb4f",
   "metadata": {},
   "outputs": [
    {
     "name": "stderr",
     "output_type": "stream",
     "text": [
      "100% (6360 of 6360) |####################| Elapsed Time: 0:00:15 Time:  0:00:15\n"
     ]
    }
   ],
   "source": [
    "ds_unified = es_store.get_dataframe(index_name=config.UNIFIED_DATASET_ELASTIC_SEARCH_INDEX_NAME)"
   ]
  },
  {
   "cell_type": "code",
   "execution_count": 5,
   "id": "ec23e830",
   "metadata": {},
   "outputs": [
    {
     "data": {
      "text/plain": [
       "_id\n",
       "1624    commission staff work document accompany docum...\n",
       "1625    regulation eu european parliament council   fe...\n",
       "1626    communication commission european parliament c...\n",
       "1627    european parliament resolution new multiannual...\n",
       "1628    report commission european parliament council ...\n",
       "                              ...                        \n",
       "6355    statement national public health emergency tea...\n",
       "6356    ministers mcconalogue heydon launch code good ...\n",
       "6357    press release civil defence context covid-19 c...\n",
       "6358    minister o’gorman launch lgbti+ youth ireland ...\n",
       "6359    statement national public health emergency tea...\n",
       "Name: content_cleaned_topic_modeling, Length: 6360, dtype: object"
      ]
     },
     "execution_count": 5,
     "metadata": {},
     "output_type": "execute_result"
    }
   ],
   "source": [
    "ds_unified[CONTENT_CLEANED_TOPIC_MODELING_COLUMN_NAME]"
   ]
  },
  {
   "cell_type": "code",
   "execution_count": 6,
   "id": "f0972065",
   "metadata": {},
   "outputs": [
    {
     "data": {
      "text/plain": [
       "_id\n",
       "1624    [-0.151635021, 0.1485943347, 0.4740561545, -0....\n",
       "1625    [-0.1007091999, 0.1460110992, 0.603488028, -0....\n",
       "1626    [-0.1843583733, 0.1037103906, 0.325429529, -0....\n",
       "1627    [-0.1732776463, -0.0359608233, 0.5692273974, -...\n",
       "1628    [-0.0876726806, 0.0137052238, 0.4528407454, -0...\n",
       "                              ...                        \n",
       "6355    [-0.1895773709, 0.0278843828, 0.5813627839, -0...\n",
       "6356    [-0.3856111765, 0.1667531282, 0.2791038156, -0...\n",
       "6357    [-0.0512911826, 0.0993160307, 0.442119807, -0....\n",
       "6358    [-0.3278441727, 0.1178098619, 0.5096987486, -0...\n",
       "6359    [-0.0941892341, 0.0342305377, 0.5787585974, -0...\n",
       "Name: document_embeddings_eurlex_bert, Length: 6360, dtype: object"
      ]
     },
     "execution_count": 6,
     "metadata": {},
     "output_type": "execute_result"
    }
   ],
   "source": [
    "ds_unified[DOCUMENT_EMBEDDINGS_EURLEX_BERT_COLUMN_NAME]"
   ]
  },
  {
   "cell_type": "markdown",
   "id": "e8dd88ac",
   "metadata": {},
   "source": [
    "# Train BERTopic (Model 1 - ds_pwdb, ds_eu_timeline, ds_ireland_timeline)"
   ]
  },
  {
   "cell_type": "code",
   "execution_count": 7,
   "id": "39b2e5c7",
   "metadata": {},
   "outputs": [],
   "source": [
    "# To be implemented"
   ]
  },
  {
   "cell_type": "markdown",
   "id": "de2b06e3",
   "metadata": {},
   "source": [
    "# Train BERTopic (Model 2 - ds_eu_cellar)"
   ]
  },
  {
   "cell_type": "code",
   "execution_count": 8,
   "id": "95396815",
   "metadata": {},
   "outputs": [],
   "source": [
    "# To be implemented"
   ]
  },
  {
   "cell_type": "markdown",
   "id": "ee11d94c",
   "metadata": {},
   "source": [
    "# Train BERTopic (Model 3 - all 4 datasets considered)"
   ]
  },
  {
   "cell_type": "code",
   "execution_count": 9,
   "id": "233182e5",
   "metadata": {},
   "outputs": [],
   "source": [
    "with mlflow.start_run(experiment_id=EXPERIMENT_ID):\n",
    "    \n",
    "    umap_model = UMAP(random_state=np.random.RandomState(UMAP_MODEL_RANDOM_STATE), n_neighbors=UMAP_MODEL_N_NEIGHBORS, \n",
    "                      n_components=UMAP_MODEL_N_COMPONENTS, min_dist=UMAP_MODEL_MIN_DIST, metric=UMAP_MODEL_METRIC)\n",
    "    topic_model = BERTopic(nr_topics='auto', calculate_probabilities=True, umap_model=umap_model)\n",
    "    \n",
    "    topics, probabilities = topic_model.fit_transform(ds_unified[CONTENT_CLEANED_TOPIC_MODELING_COLUMN_NAME], \n",
    "                                                      np.array(list(ds_unified[DOCUMENT_EMBEDDINGS_EURLEX_BERT_COLUMN_NAME])))\n",
    "    \n",
    "    freq_topic_minus_1 = topic_model.get_topic_freq(topic=-1)\n",
    "    \n",
    "    mlflow.log_param('model_number', MODEL_NR[2])\n",
    "    mlflow.log_param('umap_model_random_state', UMAP_MODEL_RANDOM_STATE)\n",
    "    mlflow.log_param('umap_model_n_neighbors', UMAP_MODEL_N_NEIGHBORS)\n",
    "    mlflow.log_param('umap_model_n_components', UMAP_MODEL_N_COMPONENTS)\n",
    "    mlflow.log_param('umap_model_min_dist', UMAP_MODEL_MIN_DIST)\n",
    "    mlflow.log_param('umap_model_metric', UMAP_MODEL_METRIC)\n",
    "    mlflow.log_param('freq_topic_minus_1', freq_topic_minus_1)\n",
    "    mlflow.log_param('total_nr_of_docs', len(ds_unified))\n",
    "    \n",
    "    run_id = mlflow.active_run().info.run_id\n",
    "    store_registry.minio_object_store(BUCKET_NAME).put_object(object_name=f'{EXPERIMENT_ID}/{run_id}/artifacts/model/model.pkl',\n",
    "                                                              content=pickle.dumps(topic_model))"
   ]
  }
 ],
 "metadata": {
  "kernelspec": {
   "display_name": "Python 3 (ipykernel)",
   "language": "python",
   "name": "python3"
  },
  "language_info": {
   "codemirror_mode": {
    "name": "ipython",
    "version": 3
   },
   "file_extension": ".py",
   "mimetype": "text/x-python",
   "name": "python",
   "nbconvert_exporter": "python",
   "pygments_lexer": "ipython3",
   "version": "3.8.8"
  }
 },
 "nbformat": 4,
 "nbformat_minor": 5
}
