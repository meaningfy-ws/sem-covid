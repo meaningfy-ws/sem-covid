{
 "cells": [
  {
   "cell_type": "code",
   "execution_count": 3,
   "outputs": [],
   "source": [
    "import sys\n",
    "\n",
    "sys.path.append(\"/home/jovyan/work/sem-covid/\")\n",
    "sys.path = list(set(sys.path))\n",
    "import os\n",
    "\n",
    "os.getcwd()\n",
    "os.chdir('/home/jovyan/work/sem-covid/')"
   ],
   "metadata": {
    "collapsed": false,
    "pycharm": {
     "name": "#%%\n"
    }
   }
  },
  {
   "cell_type": "code",
   "execution_count": 4,
   "outputs": [],
   "source": [
    "import pandas as pd\n",
    "import numpy as np\n",
    "from sklearn.metrics import cohen_kappa_score"
   ],
   "metadata": {
    "collapsed": false,
    "pycharm": {
     "name": "#%%\n"
    }
   }
  },
  {
   "cell_type": "markdown",
   "source": [
    "### Load data"
   ],
   "metadata": {
    "collapsed": false
   }
  },
  {
   "cell_type": "code",
   "execution_count": 5,
   "metadata": {},
   "outputs": [],
   "source": [
    "df1 = pd.read_csv(\"sem_covid/entrypoints/notebooks/semantic_similarity_evaluation/annotator1_EG.csv\")\n",
    "df2 = pd.read_csv(\"sem_covid/entrypoints/notebooks/semantic_similarity_evaluation/annotator2_CP.csv\")"
   ]
  },
  {
   "cell_type": "code",
   "execution_count": 6,
   "outputs": [],
   "source": [
    "assert all(df1.columns == df2.columns)"
   ],
   "metadata": {
    "collapsed": false,
    "pycharm": {
     "name": "#%%\n"
    }
   }
  },
  {
   "cell_type": "markdown",
   "source": [],
   "metadata": {
    "collapsed": false
   }
  },
  {
   "cell_type": "code",
   "execution_count": 7,
   "outputs": [],
   "source": [
    "df1.Q1 = df1.Q1.apply(lambda x: x.replace(\" \", \"\"))\n",
    "df2.Q3 = df2.Q3.apply(lambda x: int(x) if not np.isnan(x) else 1)"
   ],
   "metadata": {
    "collapsed": false,
    "pycharm": {
     "name": "#%%\n"
    }
   }
  },
  {
   "cell_type": "code",
   "execution_count": 8,
   "outputs": [],
   "source": [
    "def shift_range(x):\n",
    "    if x > 3:\n",
    "        return 3\n",
    "    elif x < 3:\n",
    "        return 1\n",
    "    else:\n",
    "        return 2\n",
    "\n",
    "\n",
    "df2.Q2 = df2.Q2.apply(shift_range)\n",
    "df2.Q3 = df2.Q3.apply(shift_range)"
   ],
   "metadata": {
    "collapsed": false,
    "pycharm": {
     "name": "#%%\n"
    }
   }
  },
  {
   "cell_type": "code",
   "execution_count": 9,
   "outputs": [
    {
     "data": {
      "text/plain": "   target_id                                       target_title  \\\n0        333  Metal and electrical sector: Social partners s...   \n1        451                 State aid schemes for agriculture    \n2        735  Social support for artists, authors, technicia...   \n3        400  Cancellation of the unemployment allowance ded...   \n4        328             Regularisation of irregular employment   \n\n                                      target_content  ref1_id  \\\n0  Metal and electrical sector: Social partners s...      451   \n1  State aid schemes for agriculture  In the cont...      735   \n2  Social support for artists, authors, technicia...      388   \n3  Cancellation of the unemployment allowance ded...      328   \n4  Regularisation of irregular employment In orde...      800   \n\n                                          ref1_title  \\\n0                 State aid schemes for agriculture    \n1  Social support for artists, authors, technicia...   \n2  Wage support for job creation/workforce suppor...   \n3             Regularisation of irregular employment   \n4  Business rebellion and controversies surroundi...   \n\n                                        ref1_content  ref2_id  \\\n0  State aid schemes for agriculture  In the cont...      735   \n1  Social support for artists, authors, technicia...      388   \n2  Wage support for job creation/workforce suppor...      333   \n3  Regularisation of irregular employment In orde...      800   \n4  Business rebellion and controversies surroundi...       89   \n\n                                          ref2_title  \\\n0  Social support for artists, authors, technicia...   \n1  Wage support for job creation/workforce suppor...   \n2  Metal and electrical sector: Social partners s...   \n3  Business rebellion and controversies surroundi...   \n4                    State-guaranteed treasury loans   \n\n                                        ref2_content    Q1  Q2  Q3  \n0  Social support for artists, authors, technicia...  none   1   1  \n1  Wage support for job creation/workforce suppor...  ref1   3   2  \n2  Metal and electrical sector: Social partners s...  ref1   2   1  \n3  Business rebellion and controversies surroundi...  none   1   1  \n4  State-guaranteed treasury loans The government...  none   1   1  ",
      "text/html": "<div>\n<style scoped>\n    .dataframe tbody tr th:only-of-type {\n        vertical-align: middle;\n    }\n\n    .dataframe tbody tr th {\n        vertical-align: top;\n    }\n\n    .dataframe thead th {\n        text-align: right;\n    }\n</style>\n<table border=\"1\" class=\"dataframe\">\n  <thead>\n    <tr style=\"text-align: right;\">\n      <th></th>\n      <th>target_id</th>\n      <th>target_title</th>\n      <th>target_content</th>\n      <th>ref1_id</th>\n      <th>ref1_title</th>\n      <th>ref1_content</th>\n      <th>ref2_id</th>\n      <th>ref2_title</th>\n      <th>ref2_content</th>\n      <th>Q1</th>\n      <th>Q2</th>\n      <th>Q3</th>\n    </tr>\n  </thead>\n  <tbody>\n    <tr>\n      <th>0</th>\n      <td>333</td>\n      <td>Metal and electrical sector: Social partners s...</td>\n      <td>Metal and electrical sector: Social partners s...</td>\n      <td>451</td>\n      <td>State aid schemes for agriculture</td>\n      <td>State aid schemes for agriculture  In the cont...</td>\n      <td>735</td>\n      <td>Social support for artists, authors, technicia...</td>\n      <td>Social support for artists, authors, technicia...</td>\n      <td>none</td>\n      <td>1</td>\n      <td>1</td>\n    </tr>\n    <tr>\n      <th>1</th>\n      <td>451</td>\n      <td>State aid schemes for agriculture</td>\n      <td>State aid schemes for agriculture  In the cont...</td>\n      <td>735</td>\n      <td>Social support for artists, authors, technicia...</td>\n      <td>Social support for artists, authors, technicia...</td>\n      <td>388</td>\n      <td>Wage support for job creation/workforce suppor...</td>\n      <td>Wage support for job creation/workforce suppor...</td>\n      <td>ref1</td>\n      <td>3</td>\n      <td>2</td>\n    </tr>\n    <tr>\n      <th>2</th>\n      <td>735</td>\n      <td>Social support for artists, authors, technicia...</td>\n      <td>Social support for artists, authors, technicia...</td>\n      <td>388</td>\n      <td>Wage support for job creation/workforce suppor...</td>\n      <td>Wage support for job creation/workforce suppor...</td>\n      <td>333</td>\n      <td>Metal and electrical sector: Social partners s...</td>\n      <td>Metal and electrical sector: Social partners s...</td>\n      <td>ref1</td>\n      <td>2</td>\n      <td>1</td>\n    </tr>\n    <tr>\n      <th>3</th>\n      <td>400</td>\n      <td>Cancellation of the unemployment allowance ded...</td>\n      <td>Cancellation of the unemployment allowance ded...</td>\n      <td>328</td>\n      <td>Regularisation of irregular employment</td>\n      <td>Regularisation of irregular employment In orde...</td>\n      <td>800</td>\n      <td>Business rebellion and controversies surroundi...</td>\n      <td>Business rebellion and controversies surroundi...</td>\n      <td>none</td>\n      <td>1</td>\n      <td>1</td>\n    </tr>\n    <tr>\n      <th>4</th>\n      <td>328</td>\n      <td>Regularisation of irregular employment</td>\n      <td>Regularisation of irregular employment In orde...</td>\n      <td>800</td>\n      <td>Business rebellion and controversies surroundi...</td>\n      <td>Business rebellion and controversies surroundi...</td>\n      <td>89</td>\n      <td>State-guaranteed treasury loans</td>\n      <td>State-guaranteed treasury loans The government...</td>\n      <td>none</td>\n      <td>1</td>\n      <td>1</td>\n    </tr>\n  </tbody>\n</table>\n</div>"
     },
     "execution_count": 9,
     "metadata": {},
     "output_type": "execute_result"
    }
   ],
   "source": [
    "df1.head(5)"
   ],
   "metadata": {
    "collapsed": false,
    "pycharm": {
     "name": "#%%\n"
    }
   }
  },
  {
   "cell_type": "markdown",
   "source": [
    "### Define hypothesis"
   ],
   "metadata": {
    "collapsed": false
   }
  },
  {
   "cell_type": "code",
   "execution_count": 10,
   "outputs": [],
   "source": [
    "def test_hypothesis_1(data: pd.DataFrame):\n",
    "    counter = 0\n",
    "    for iter, row in data.iterrows():\n",
    "        if row.Q1 == 'ref1':\n",
    "            if row.Q2 >=row.Q3:\n",
    "                counter += 1\n",
    "        elif row.Q1 == 'ref2':\n",
    "            if row.Q2 <= row.Q3:\n",
    "                counter += 1\n",
    "        elif row.Q1 == 'none':\n",
    "            if (row.Q2 <= 2) and (row.Q3 <= 2):\n",
    "                counter += 1\n",
    "    return counter / len(data)\n"
   ],
   "metadata": {
    "collapsed": false,
    "pycharm": {
     "name": "#%%\n"
    }
   }
  },
  {
   "cell_type": "code",
   "execution_count": 11,
   "outputs": [],
   "source": [
    "def test_hypothesis_2(data: pd.DataFrame):\n",
    "    counter_ac = 0\n",
    "    counter_ab = 0\n",
    "    # A B C\n",
    "    # B C D\n",
    "    # C D A\n",
    "\n",
    "    for i in range(0,len(data),3):\n",
    "        ab = data.iloc[i]['Q2']\n",
    "        ac = data.iloc[i]['Q3']\n",
    "        bc = data.iloc[i+1]['Q2']\n",
    "        bd = data.iloc[i+1]['Q3']\n",
    "        cd = data.iloc[i+2]['Q2']\n",
    "        ca = data.iloc[i+2]['Q3']\n",
    "        if ac == ca:\n",
    "            counter_ac+=1\n",
    "        if bc == ab:\n",
    "            counter_ab+=1\n",
    "    return counter_ac/(len(data)//3), counter_ab/(len(data)//3)"
   ],
   "metadata": {
    "collapsed": false,
    "pycharm": {
     "name": "#%%\n"
    }
   }
  },
  {
   "cell_type": "code",
   "execution_count": 12,
   "outputs": [],
   "source": [
    "def test_hypothesis_3(data1: pd.DataFrame, data2: pd.DataFrame):\n",
    "    return pd.DataFrame({\"Agreement rate\":{\"Q1\": cohen_kappa_score(data1.Q1, data2.Q1),\n",
    "            \"Q2\": cohen_kappa_score(data1.Q2, data2.Q2),\n",
    "            \"Q3\": cohen_kappa_score(data1.Q3, data2.Q3)}})\n"
   ],
   "metadata": {
    "collapsed": false,
    "pycharm": {
     "name": "#%%\n"
    }
   }
  },
  {
   "cell_type": "markdown",
   "source": [
    "### T1: Is Q1, Q2, Q3 coherent to one another? Question cross-checking."
   ],
   "metadata": {
    "collapsed": false
   }
  },
  {
   "cell_type": "code",
   "execution_count": 13,
   "outputs": [
    {
     "name": "stdout",
     "output_type": "stream",
     "text": [
      "Result for first annotator:  0.9833333333333333\n",
      "Result for second annotator:  0.9333333333333333\n"
     ]
    }
   ],
   "source": [
    "t1_df1 = test_hypothesis_1(df1)\n",
    "t1_df2 = test_hypothesis_1(df2)\n",
    "print(\"Result for first annotator: \", t1_df1)\n",
    "print(\"Result for second annotator: \", t1_df2)"
   ],
   "metadata": {
    "collapsed": false,
    "pycharm": {
     "name": "#%%\n"
    }
   }
  },
  {
   "cell_type": "markdown",
   "source": [
    "### T2: Are responses of the 4 groups consistent with one another? Row cross-checking."
   ],
   "metadata": {
    "collapsed": false
   }
  },
  {
   "cell_type": "code",
   "execution_count": 14,
   "outputs": [
    {
     "name": "stdout",
     "output_type": "stream",
     "text": [
      "Result for first annotator:  (0.8, 0.5)\n",
      "Result for second annotator:  (0.65, 0.55)\n"
     ]
    }
   ],
   "source": [
    "t2_df1 = test_hypothesis_2(df1)\n",
    "t2_df2 = test_hypothesis_2(df2)\n",
    "print(\"Result for first annotator: \", t2_df1)\n",
    "print(\"Result for second annotator: \", t2_df2)"
   ],
   "metadata": {
    "collapsed": false,
    "pycharm": {
     "name": "#%%\n"
    }
   }
  },
  {
   "cell_type": "markdown",
   "source": [
    "### T3: What is the inter-annotation agreement between the two evaluation sets (per question Q1,Q2,Q3).\n",
    "[Interpretation Cohen Kappa Score](https://i.stack.imgur.com/kYNd6.png)"
   ],
   "metadata": {
    "collapsed": false
   }
  },
  {
   "cell_type": "code",
   "execution_count": 15,
   "outputs": [
    {
     "data": {
      "text/plain": "    Agreement rate\nQ1        0.081747\nQ2        0.039301\nQ3        0.123851",
      "text/html": "<div>\n<style scoped>\n    .dataframe tbody tr th:only-of-type {\n        vertical-align: middle;\n    }\n\n    .dataframe tbody tr th {\n        vertical-align: top;\n    }\n\n    .dataframe thead th {\n        text-align: right;\n    }\n</style>\n<table border=\"1\" class=\"dataframe\">\n  <thead>\n    <tr style=\"text-align: right;\">\n      <th></th>\n      <th>Agreement rate</th>\n    </tr>\n  </thead>\n  <tbody>\n    <tr>\n      <th>Q1</th>\n      <td>0.081747</td>\n    </tr>\n    <tr>\n      <th>Q2</th>\n      <td>0.039301</td>\n    </tr>\n    <tr>\n      <th>Q3</th>\n      <td>0.123851</td>\n    </tr>\n  </tbody>\n</table>\n</div>"
     },
     "execution_count": 15,
     "metadata": {},
     "output_type": "execute_result"
    }
   ],
   "source": [
    "test_hypothesis_3(df1,df2) # slight agreement"
   ],
   "metadata": {
    "collapsed": false,
    "pycharm": {
     "name": "#%%\n"
    }
   }
  },
  {
   "cell_type": "markdown",
   "source": [
    "### Automatic semantic similarity evaluation"
   ],
   "metadata": {
    "collapsed": false
   }
  },
  {
   "cell_type": "code",
   "execution_count": 16,
   "outputs": [
    {
     "data": {
      "text/plain": "True"
     },
     "execution_count": 16,
     "metadata": {},
     "output_type": "execute_result"
    }
   ],
   "source": [
    "lookup_similarity_map = pd.read_pickle(\"sem_covid/entrypoints/notebooks/semantic_similarity_evaluation/unified_dataset_similarity_matrix.pkl\")\n",
    "lookup_similarity_map.columns = list(map(lambda x: int(x),lookup_similarity_map.columns.values))\n",
    "lookup_similarity_map.index = list(map(lambda x: int(x),lookup_similarity_map.index.values))\n",
    "333 in lookup_similarity_map.columns.values"
   ],
   "metadata": {
    "collapsed": false,
    "pycharm": {
     "name": "#%%\n"
    }
   }
  },
  {
   "cell_type": "code",
   "execution_count": 17,
   "outputs": [],
   "source": [
    "machine_df = df1.copy()"
   ],
   "metadata": {
    "collapsed": false,
    "pycharm": {
     "name": "#%%\n"
    }
   }
  },
  {
   "cell_type": "code",
   "execution_count": 48,
   "outputs": [],
   "source": [
    "for index, row in machine_df.iterrows():\n",
    "    target_id = row['target_id']\n",
    "    ref1_id = row['ref1_id']\n",
    "    ref2_id = row['ref2_id']\n",
    "    sim_target_ref_1 = lookup_similarity_map.loc[target_id,ref1_id]\n",
    "    sim_target_ref_2 = lookup_similarity_map.loc[target_id,ref2_id]\n",
    "    # machine_df.at[index, 'Q2'] = sim_target_ref_1\n",
    "    # machine_df.at[index, 'Q3'] = sim_target_ref_2\n",
    "    # if sim_target_ref_1 > sim_target_ref_2:\n",
    "    #     machine_df.at[index, 'Q1'] = 'ref1'\n",
    "    # else:\n",
    "    #     machine_df.at[index, 'Q1'] = 'ref2'\n",
    "    if np.abs(sim_target_ref_1 - sim_target_ref_2) <= 0.0001:\n",
    "        machine_df.at[index, 'Q1'] = 'none'\n",
    "        machine_df.at[index, 'Q2'] = 2\n",
    "        machine_df.at[index, 'Q3'] = 2\n",
    "    elif sim_target_ref_1 > sim_target_ref_2:\n",
    "        machine_df.at[index, 'Q1'] = 'ref1'\n",
    "        machine_df.at[index, 'Q2'] = 3\n",
    "        machine_df.at[index, 'Q3'] = 1\n",
    "    else:\n",
    "        machine_df.at[index, 'Q1'] = 'ref2'\n",
    "        machine_df.at[index, 'Q2'] = 1\n",
    "        machine_df.at[index, 'Q3'] = 3"
   ],
   "metadata": {
    "collapsed": false,
    "pycharm": {
     "name": "#%%\n"
    }
   }
  },
  {
   "cell_type": "code",
   "execution_count": 42,
   "outputs": [
    {
     "data": {
      "text/plain": "1.0"
     },
     "execution_count": 42,
     "metadata": {},
     "output_type": "execute_result"
    }
   ],
   "source": [
    "test_hypothesis_1(machine_df)"
   ],
   "metadata": {
    "collapsed": false,
    "pycharm": {
     "name": "#%%\n"
    }
   }
  },
  {
   "cell_type": "code",
   "execution_count": 49,
   "outputs": [
    {
     "data": {
      "text/plain": "(0.6, 0.5)"
     },
     "execution_count": 49,
     "metadata": {},
     "output_type": "execute_result"
    }
   ],
   "source": [
    "test_hypothesis_2(machine_df)"
   ],
   "metadata": {
    "collapsed": false,
    "pycharm": {
     "name": "#%%\n"
    }
   }
  },
  {
   "cell_type": "code",
   "execution_count": 44,
   "outputs": [
    {
     "data": {
      "text/plain": "    Agreement rate\nQ1        0.123596\nQ2        0.113924\nQ3        0.000000",
      "text/html": "<div>\n<style scoped>\n    .dataframe tbody tr th:only-of-type {\n        vertical-align: middle;\n    }\n\n    .dataframe tbody tr th {\n        vertical-align: top;\n    }\n\n    .dataframe thead th {\n        text-align: right;\n    }\n</style>\n<table border=\"1\" class=\"dataframe\">\n  <thead>\n    <tr style=\"text-align: right;\">\n      <th></th>\n      <th>Agreement rate</th>\n    </tr>\n  </thead>\n  <tbody>\n    <tr>\n      <th>Q1</th>\n      <td>0.123596</td>\n    </tr>\n    <tr>\n      <th>Q2</th>\n      <td>0.113924</td>\n    </tr>\n    <tr>\n      <th>Q3</th>\n      <td>0.000000</td>\n    </tr>\n  </tbody>\n</table>\n</div>"
     },
     "execution_count": 44,
     "metadata": {},
     "output_type": "execute_result"
    }
   ],
   "source": [
    "test_hypothesis_3(df1,machine_df)"
   ],
   "metadata": {
    "collapsed": false,
    "pycharm": {
     "name": "#%%\n"
    }
   }
  },
  {
   "cell_type": "code",
   "execution_count": 45,
   "outputs": [
    {
     "data": {
      "text/plain": "    Agreement rate\nQ1        0.166667\nQ2        0.098592\nQ3       -0.038961",
      "text/html": "<div>\n<style scoped>\n    .dataframe tbody tr th:only-of-type {\n        vertical-align: middle;\n    }\n\n    .dataframe tbody tr th {\n        vertical-align: top;\n    }\n\n    .dataframe thead th {\n        text-align: right;\n    }\n</style>\n<table border=\"1\" class=\"dataframe\">\n  <thead>\n    <tr style=\"text-align: right;\">\n      <th></th>\n      <th>Agreement rate</th>\n    </tr>\n  </thead>\n  <tbody>\n    <tr>\n      <th>Q1</th>\n      <td>0.166667</td>\n    </tr>\n    <tr>\n      <th>Q2</th>\n      <td>0.098592</td>\n    </tr>\n    <tr>\n      <th>Q3</th>\n      <td>-0.038961</td>\n    </tr>\n  </tbody>\n</table>\n</div>"
     },
     "execution_count": 45,
     "metadata": {},
     "output_type": "execute_result"
    }
   ],
   "source": [
    "test_hypothesis_3(df2,machine_df)"
   ],
   "metadata": {
    "collapsed": false,
    "pycharm": {
     "name": "#%%\n"
    }
   }
  },
  {
   "cell_type": "markdown",
   "source": [],
   "metadata": {
    "collapsed": false,
    "pycharm": {
     "name": "#%% md\n"
    }
   }
  }
 ],
 "metadata": {
  "kernelspec": {
   "display_name": "Python 3 (ipykernel)",
   "language": "python",
   "name": "python3"
  },
  "language_info": {
   "codemirror_mode": {
    "name": "ipython",
    "version": 3
   },
   "file_extension": ".py",
   "mimetype": "text/x-python",
   "name": "python",
   "nbconvert_exporter": "python",
   "pygments_lexer": "ipython3",
   "version": "3.8.8"
  },
  "orig_nbformat": 4
 },
 "nbformat": 4,
 "nbformat_minor": 2
}