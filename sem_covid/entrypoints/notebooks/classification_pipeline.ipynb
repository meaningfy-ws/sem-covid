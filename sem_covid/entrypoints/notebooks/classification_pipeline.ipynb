{
 "cells": [
  {
   "cell_type": "markdown",
   "source": [
    "## Import libraries"
   ],
   "metadata": {
    "collapsed": false
   }
  },
  {
   "cell_type": "code",
   "execution_count": 1,
   "outputs": [],
   "source": [
    "import sys\n",
    "\n",
    "sys.path.append(\"/home/jovyan/work/sem-covid/\")\n",
    "sys.path = list(set(sys.path))\n",
    "import os\n",
    "\n",
    "os.getcwd()\n",
    "os.chdir('/home/jovyan/work/sem-covid/')\n",
    "from sem_covid.services.ml_pipelines.pwdb_classifiers_pipeline import (FeatureEngineering, FeatureEngineeringBERT)\n",
    "from sem_covid.services.ml_pipelines.pwdb_classifiers_pipeline import ModelTraining\n"
   ],
   "metadata": {
    "collapsed": false,
    "pycharm": {
     "name": "#%%\n"
    }
   }
  },
  {
   "cell_type": "markdown",
   "source": [
    "## Define constants"
   ],
   "metadata": {
    "collapsed": false,
    "pycharm": {
     "name": "#%% md\n"
    }
   }
  },
  {
   "cell_type": "code",
   "execution_count": 2,
   "outputs": [],
   "source": [
    "#FEATURE_STORE_NAME_LAW2VEC = 'fs_pwdb_law2vec'\n",
    "FEATURE_STORE_NAME_LAW2VEC = 'fs_pwdb'\n",
    "#EXPERIMENT_NAME_LAW2VEC = 'pwdb_law2vec'\n",
    "EXPERIMENT_NAME_LAW2VEC = 'PyCaret_pwdb'\n",
    "FEATURE_STORE_NAME_BERT = 'fs_pwdb_bert'\n",
    "EXPERIMENT_NAME_BERT = 'pwdb_bert'"
   ],
   "metadata": {
    "collapsed": false,
    "pycharm": {
     "name": "#%%\n"
    }
   }
  },
  {
   "cell_type": "markdown",
   "source": [
    "### Feature engineering with law2vec model"
   ],
   "metadata": {
    "collapsed": false
   }
  },
  {
   "cell_type": "code",
   "execution_count": 3,
   "outputs": [
    {
     "name": "stderr",
     "output_type": "stream",
     "text": [
      "100% (1381 of 1381) |####################| Elapsed Time: 0:00:00 Time:  0:00:00\n",
      "N/A% (0 of 1381) |                       | Elapsed Time: 0:00:00 ETA:  --:--:--"
     ]
    }
   ],
   "source": [
    "FeatureEngineering(feature_store_name=FEATURE_STORE_NAME_LAW2VEC).execute()"
   ],
   "metadata": {
    "collapsed": false,
    "pycharm": {
     "name": "#%%\n"
    }
   }
  },
  {
   "cell_type": "markdown",
   "source": [
    "### Model training with law2vec model"
   ],
   "metadata": {
    "collapsed": false
   }
  },
  {
   "cell_type": "code",
   "execution_count": 49,
   "outputs": [],
   "source": [
    "ModelTraining(feature_store_name=FEATURE_STORE_NAME_LAW2VEC,\n",
    "              experiment_name=EXPERIMENT_NAME_LAW2VEC).execute()"
   ],
   "metadata": {
    "collapsed": false,
    "pycharm": {
     "name": "#%%\n"
    }
   }
  },
  {
   "cell_type": "markdown",
   "source": [
    "### Feature engineering with bert model"
   ],
   "metadata": {
    "collapsed": false,
    "pycharm": {
     "name": "#%% md\n"
    }
   }
  },
  {
   "cell_type": "code",
   "execution_count": 1,
   "metadata": {
    "collapsed": true
   },
   "outputs": [],
   "source": [
    "FeatureEngineeringBERT(feature_store_name=FEATURE_STORE_NAME_BERT).execute()"
   ]
  },
  {
   "cell_type": "markdown",
   "source": [
    "### Model training with bert model"
   ],
   "metadata": {
    "collapsed": false,
    "pycharm": {
     "name": "#%% md\n"
    }
   }
  },
  {
   "cell_type": "code",
   "execution_count": null,
   "outputs": [],
   "source": [
    "ModelTraining(feature_store_name=FEATURE_STORE_NAME_BERT,\n",
    "              experiment_name=EXPERIMENT_NAME_BERT).execute()\n"
   ],
   "metadata": {
    "collapsed": false,
    "pycharm": {
     "name": "#%%\n"
    }
   }
  }
 ],
 "metadata": {
  "kernelspec": {
   "display_name": "Python 3",
   "language": "python",
   "name": "python3"
  },
  "language_info": {
   "codemirror_mode": {
    "name": "ipython",
    "version": 2
   },
   "file_extension": ".py",
   "mimetype": "text/x-python",
   "name": "python",
   "nbconvert_exporter": "python",
   "pygments_lexer": "ipython2",
   "version": "2.7.6"
  }
 },
 "nbformat": 4,
 "nbformat_minor": 0
}