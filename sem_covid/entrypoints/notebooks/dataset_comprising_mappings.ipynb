{
 "cells": [
  {
   "cell_type": "markdown",
   "source": [
    "## Import libraries"
   ],
   "metadata": {
    "collapsed": false
   }
  },
  {
   "cell_type": "code",
   "execution_count": 1,
   "outputs": [],
   "source": [
    "import sys\n",
    "sys.path.append(\"/home/jovyan/work/sem-covid/\")\n",
    "sys.path = list(set(sys.path))\n",
    "import os\n",
    "os.getcwd()\n",
    "os.chdir('/home/jovyan/work/sem-covid/')\n",
    "import pandas as pd\n",
    "from sklearn.metrics.pairwise import cosine_similarity\n",
    "from sem_covid.services.store_registry import store_registry"
   ],
   "metadata": {
    "collapsed": false,
    "pycharm": {
     "name": "#%%\n"
    }
   }
  },
  {
   "cell_type": "markdown",
   "source": [
    "## Define constants"
   ],
   "metadata": {
    "collapsed": false,
    "pycharm": {
     "name": "#%% md\n"
    }
   }
  },
  {
   "cell_type": "code",
   "execution_count": 2,
   "outputs": [],
   "source": [
    "EMBEDDING_COLUMN_NAME = 'document_embeddings_use'\n",
    "MINIO_SEMANTIC_SIMILARITY_BUCKET = 'semantic-similarity-matrices'"
   ],
   "metadata": {
    "collapsed": false,
    "pycharm": {
     "name": "#%%\n"
    }
   }
  },
  {
   "cell_type": "markdown",
   "source": [
    "## Load data"
   ],
   "metadata": {
    "collapsed": false,
    "pycharm": {
     "name": "#%% md\n"
    }
   }
  },
  {
   "cell_type": "code",
   "execution_count": 3,
   "outputs": [
    {
     "name": "stderr",
     "output_type": "stream",
     "text": [
      "100% (6360 of 6360) |####################| Elapsed Time: 0:00:16 Time:  0:00:16\n"
     ]
    }
   ],
   "source": [
    "df = store_registry.es_feature_store().get_features(features_name=\"ds_unified_dataset\")"
   ],
   "metadata": {
    "collapsed": false,
    "pycharm": {
     "name": "#%%\n"
    }
   }
  },
  {
   "cell_type": "markdown",
   "source": [
    "## Preprocess data"
   ],
   "metadata": {
    "collapsed": false,
    "pycharm": {
     "name": "#%% md\n"
    }
   }
  },
  {
   "cell_type": "code",
   "execution_count": 4,
   "outputs": [],
   "source": [
    "member_states = df[df['country']!='European Union'].copy()\n",
    "european_union = df[df['country']=='European Union'].copy()\n",
    "eu_timeline_european_union = european_union[european_union['doc_source']=='ds_eu_timeline'].copy()\n",
    "eu_cellar_european_union = european_union[european_union['doc_source']=='ds_eu_cellar'].copy()"
   ],
   "metadata": {
    "collapsed": false,
    "pycharm": {
     "name": "#%%\n"
    }
   }
  },
  {
   "cell_type": "markdown",
   "source": [
    "## Define helper functions"
   ],
   "metadata": {
    "collapsed": false,
    "pycharm": {
     "name": "#%% md\n"
    }
   }
  },
  {
   "cell_type": "code",
   "execution_count": 5,
   "outputs": [],
   "source": [
    "def create_similarity_matrix(x_df: pd.DataFrame, y_df: pd.DataFrame)->pd.DataFrame:\n",
    "    tmp_sim_matrix = cosine_similarity(x_df[EMBEDDING_COLUMN_NAME].values.tolist(),\n",
    "                                                       y_df[EMBEDDING_COLUMN_NAME].values.tolist())\n",
    "    return pd.DataFrame(tmp_sim_matrix, index = x_df.index.values , columns = y_df.index.values)"
   ],
   "metadata": {
    "collapsed": false,
    "pycharm": {
     "name": "#%%\n"
    }
   }
  },
  {
   "cell_type": "markdown",
   "source": [
    "## Compute semantic similarity"
   ],
   "metadata": {
    "collapsed": false
   }
  },
  {
   "cell_type": "code",
   "execution_count": 6,
   "outputs": [],
   "source": [
    "ms_x_timeline_sem_sim = create_similarity_matrix(x_df=member_states, y_df=eu_timeline_european_union)\n",
    "ms_x_cellar_sem_sim = create_similarity_matrix(x_df=member_states, y_df=eu_cellar_european_union)"
   ],
   "metadata": {
    "collapsed": false,
    "pycharm": {
     "name": "#%%\n"
    }
   }
  },
  {
   "cell_type": "markdown",
   "source": [
    "## Store results"
   ],
   "metadata": {
    "collapsed": false
   }
  },
  {
   "cell_type": "code",
   "execution_count": 7,
   "outputs": [
    {
     "data": {
      "text/plain": "184558323"
     },
     "execution_count": 7,
     "metadata": {},
     "output_type": "execute_result"
    }
   ],
   "source": [
    "minio_store = store_registry.minio_object_store(minio_bucket=MINIO_SEMANTIC_SIMILARITY_BUCKET)\n",
    "minio_store.put_object(object_name=\"member_states.json\",content=member_states.to_json(orient=\"index\"))\n",
    "minio_store.put_object(object_name=\"eu_timeline_european_union.json\",content=eu_timeline_european_union.to_json(orient=\"index\"))\n",
    "minio_store.put_object(object_name=\"eu_cellar_european_union.json\",content=eu_cellar_european_union.to_json(orient=\"index\"))\n",
    "minio_store.put_object(object_name=\"ms_x_timeline_sem_sim.json\",content=ms_x_timeline_sem_sim.to_json(orient=\"index\"))\n",
    "minio_store.put_object(object_name=\"ms_x_cellar_sem_sim.json\",content=ms_x_cellar_sem_sim.to_json(orient=\"index\"))"
   ],
   "metadata": {
    "collapsed": false,
    "pycharm": {
     "name": "#%%\n"
    }
   }
  }
 ],
 "metadata": {
  "kernelspec": {
   "display_name": "Python 3",
   "language": "python",
   "name": "python3"
  },
  "language_info": {
   "codemirror_mode": {
    "name": "ipython",
    "version": 2
   },
   "file_extension": ".py",
   "mimetype": "text/x-python",
   "name": "python",
   "nbconvert_exporter": "python",
   "pygments_lexer": "ipython2",
   "version": "2.7.6"
  }
 },
 "nbformat": 4,
 "nbformat_minor": 0
}