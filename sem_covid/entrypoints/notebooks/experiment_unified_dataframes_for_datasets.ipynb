{
 "cells": [
  {
   "cell_type": "code",
   "execution_count": 2,
   "outputs": [],
   "source": [
    "import sys\n",
    "sys.path.append(\"/home/jovyan/work/sem-covid/\")\n",
    "sys.path = list(set(sys.path))\n",
    "import os\n",
    "os.getcwd()\n",
    "os.chdir('/home/jovyan/work/sem-covid/')\n",
    "from sem_covid import config\n",
    "import numpy as np\n",
    "from langdetect import detect, detect_langs, DetectorFactory\n",
    "DetectorFactory.seed = 0\n",
    "import pandas as pd\n",
    "from sem_covid.services.model_registry import embedding_registry\n",
    "from sem_covid.services.store_registry import StoreRegistry, store_registry\n"
   ],
   "metadata": {
    "collapsed": false,
    "pycharm": {
     "name": "#%%\n"
    }
   }
  },
  {
   "cell_type": "code",
   "execution_count": 3,
   "outputs": [],
   "source": [
    "es_store = store_registry.es_index_store()\n",
    "emb_model = embedding_registry.sent2vec_universal_sent_encoding()"
   ],
   "metadata": {
    "collapsed": false,
    "pycharm": {
     "name": "#%%\n"
    }
   }
  },
  {
   "cell_type": "code",
   "execution_count": 6,
   "outputs": [],
   "source": [
    "def make_target_group_l1_column(dataset: pd.DataFrame):\n",
    "    for col in TARGET_GROUPS_L1:\n",
    "        dataset[col] = dataset[col].apply(lambda x: col if x == 1 else \"\")\n",
    "\n",
    "    dataset[\"pwdb_target_group_l1\"] = dataset[TARGET_GROUPS_L1].apply(lambda row: ' '.join(row.values.astype(str)),\n",
    "                                                                      axis=1).apply(lambda x: x.split())\n"
   ],
   "metadata": {
    "collapsed": false,
    "pycharm": {
     "name": "#%%\n"
    }
   }
  },
  {
   "cell_type": "code",
   "execution_count": 7,
   "outputs": [],
   "source": [
    "def make_document_embeddings_column(dataset: pd.DataFrame):\n",
    "    dataset[\"document_embeddings\"] = emb_model.encode(dataset.content.values)\n",
    "\n"
   ],
   "metadata": {
    "collapsed": false,
    "pycharm": {
     "name": "#%%\n"
    }
   }
  },
  {
   "cell_type": "code",
   "execution_count": 8,
   "outputs": [],
   "source": [
    "def make_topic_embeddings_column(dataset: pd.DataFrame):\n",
    "    dataset[\"topic_embeddings\"] = [[0] * 50] * len(dataset)"
   ],
   "metadata": {
    "collapsed": false,
    "pycharm": {
     "name": "#%%\n"
    }
   }
  },
  {
   "cell_type": "code",
   "execution_count": 9,
   "outputs": [],
   "source": [
    "def create_new_column_with_defined_value(dataset: pd.DataFrame, column_name: str, value=None, empty_array=False):\n",
    "    if empty_array:\n",
    "        dataset[column_name] = [np.empty(0, dtype=float)] * len(dataset)\n",
    "    else:\n",
    "        dataset[column_name] = value\n"
   ],
   "metadata": {
    "collapsed": false,
    "pycharm": {
     "name": "#%%\n"
    }
   }
  },
  {
   "cell_type": "code",
   "execution_count": 10,
   "outputs": [],
   "source": [
    "TARGET_GROUPS_L1 = [\"businesses\", \"workers\", \"citizens\"]\n",
    "COMMON_DATASET_COLUMNS = [\"title\", \"content\", \"date\", \"doc_source\", \"country\", \"pwdb_category\",\n",
    "                          \"pwdb_target_group_l1\", \"pwdb_funding\", \"pwdb_type_of_measure\",\n",
    "                          \"pwdb_actors\", \"document_embeddings\", \"topic_embeddings\"]\n",
    "\n",
    "SPECIFIC_DATASET_COLUMNS = [\"eu_cellar_subject_matter_labels\", \"eu_cellar_resource_type_labels\",\n",
    "                            \"eu_cellar_directory_code_labels\",\n",
    "                            \"eu_cellar_author_labels\", \"pwdb_target_group_l2\", \"ireland_keyword\",\n",
    "                            \"ireland_department_data\",\n",
    "                            \"ireland_campaign\", \"ireland_page_type\", \"eu_timeline_topic\"]"
   ],
   "metadata": {
    "collapsed": false,
    "pycharm": {
     "name": "#%%\n"
    }
   }
  },
  {
   "cell_type": "code",
   "execution_count": 11,
   "outputs": [
    {
     "name": "stderr",
     "output_type": "stream",
     "text": [
      "100% (1381 of 1381) |####################| Elapsed Time: 0:00:00 Time:  0:00:00\n",
      "100% (3175 of 3175) |####################| Elapsed Time: 0:00:02 Time:  0:00:02\n",
      "100% (231 of 231) |######################| Elapsed Time: 0:00:00 Time:  0:00:00\n",
      "100% (1921 of 1921) |####################| Elapsed Time: 0:00:00 Time:  0:00:00\n"
     ]
    }
   ],
   "source": [
    "# #Load dataframes from elastic\n",
    "pwdb_df = es_store.get_dataframe(index_name=config.PWDB_ELASTIC_SEARCH_INDEX_NAME)\n",
    "eu_cellar_df = es_store.get_dataframe(index_name=config.EU_CELLAR_ELASTIC_SEARCH_INDEX_NAME + \"_enriched\")\n",
    "eu_timeline_df = es_store.get_dataframe(index_name=config.EU_TIMELINE_ELASTIC_SEARCH_INDEX_NAME + \"_enriched\")\n",
    "ir_timeline_df = es_store.get_dataframe(index_name=config.IRELAND_TIMELINE_ELASTIC_SEARCH_INDEX_NAME + \"_enriched\")\n",
    "\n"
   ],
   "metadata": {
    "collapsed": false,
    "pycharm": {
     "name": "#%%\n"
    }
   }
  },
  {
   "cell_type": "code",
   "execution_count": 12,
   "outputs": [
    {
     "data": {
      "text/plain": "Index(['identifier', 'title', 'title_national_language', 'country',\n       'start_date', 'end_date', 'date_type', 'type_of_measure',\n       'status_of_regulation', 'category', 'subcategory', 'creation_date',\n       'background_info_description', 'content_of_measure_description',\n       'use_of_measure_description', 'actors', 'target_groups', 'funding',\n       'involvement_of_social_partners_description',\n       'social_partner_involvement_form', 'social_partner_role',\n       'is_sector_specific', 'private_or_public_sector',\n       'is_occupation_specific', 'sectors', 'occupations', 'sources',\n       'businesses', 'citizens', 'workers'],\n      dtype='object')"
     },
     "execution_count": 12,
     "metadata": {},
     "output_type": "execute_result"
    }
   ],
   "source": [
    "# columns in PWDB dataset\n",
    "pwdb_df.columns\n",
    "\n"
   ],
   "metadata": {
    "collapsed": false,
    "pycharm": {
     "name": "#%%\n"
    }
   }
  },
  {
   "cell_type": "code",
   "execution_count": 90,
   "outputs": [],
   "source": [
    "CONTENT_COLUMNS = [col for col in pwdb_df.columns if \"description\" in col]\n",
    "\n",
    "CONTENT_COLUMNS.insert(0, \"title\")"
   ],
   "metadata": {
    "collapsed": false,
    "pycharm": {
     "name": "#%%\n"
    }
   }
  },
  {
   "cell_type": "code",
   "execution_count": 91,
   "outputs": [
    {
     "data": {
      "text/plain": "['title',\n 'background_info_description',\n 'content_of_measure_description',\n 'use_of_measure_description',\n 'involvement_of_social_partners_description']"
     },
     "execution_count": 91,
     "metadata": {},
     "output_type": "execute_result"
    }
   ],
   "source": [
    "CONTENT_COLUMNS"
   ],
   "metadata": {
    "collapsed": false,
    "pycharm": {
     "name": "#%%\n"
    }
   }
  },
  {
   "cell_type": "code",
   "execution_count": 13,
   "outputs": [],
   "source": [
    "# create common columns\n",
    "CONTENT_COLUMNS = [col for col in pwdb_df.columns if \"description\" in col]\n",
    "\n",
    "CONTENT_COLUMNS.insert(0, \"title\")\n",
    "pwdb_df[\"content\"] = pwdb_df[CONTENT_COLUMNS].agg(lambda x: \" \".join(item if item else \"\" for item in x), axis=1)\n",
    "make_target_group_l1_column(pwdb_df)\n",
    "make_document_embeddings_column(pwdb_df)\n",
    "make_topic_embeddings_column(pwdb_df)\n",
    "\n",
    "create_new_column_with_defined_value(pwdb_df, \"doc_source\", \"ds_pwdb\")\n",
    "\n",
    "# create specific dataset columns\n",
    "\n",
    "for column in SPECIFIC_DATASET_COLUMNS:\n",
    "    create_new_column_with_defined_value(pwdb_df, column_name=column, empty_array=True)\n",
    "\n"
   ],
   "metadata": {
    "collapsed": false,
    "pycharm": {
     "name": "#%%\n"
    }
   }
  },
  {
   "cell_type": "code",
   "execution_count": 14,
   "outputs": [],
   "source": [
    "#add values if the specific column exists in the current dataset\n",
    "pwdb_df[\"pwdb_target_group_l2\"] = pwdb_df[\"target_groups\"]\n",
    "\n"
   ],
   "metadata": {
    "collapsed": false,
    "pycharm": {
     "name": "#%%\n"
    }
   }
  },
  {
   "cell_type": "code",
   "execution_count": 15,
   "outputs": [],
   "source": [
    "# rename columns in the current dataset and prepare new version for merging\n",
    "pwdb_df.rename(\n",
    "    columns={\"category\": \"pwdb_category\", \"funding\": \"pwdb_funding\", \"type_of_measure\": \"pwdb_type_of_measure\"\n",
    "        , \"actors\": \"pwdb_actors\", \"start_date\": \"date\"}, inplace=True)\n",
    "\n",
    "tmp_pwdb_df = pd.DataFrame(pwdb_df[COMMON_DATASET_COLUMNS + SPECIFIC_DATASET_COLUMNS])"
   ],
   "metadata": {
    "collapsed": false,
    "pycharm": {
     "name": "#%%\n"
    }
   }
  },
  {
   "cell_type": "code",
   "execution_count": 16,
   "outputs": [
    {
     "name": "stdout",
     "output_type": "stream",
     "text": [
      "ready for merge\n"
     ]
    }
   ],
   "source": [
    "# Verify if the new version has all the necessary columns\n",
    "if tmp_pwdb_df.columns.tolist() == COMMON_DATASET_COLUMNS + SPECIFIC_DATASET_COLUMNS:\n",
    "    print(\"ready for merge\")\n",
    "else:\n",
    "    raise ValueError(\"Some columns are missing!! Not ready for merge\")\n",
    "\n"
   ],
   "metadata": {
    "collapsed": false,
    "pycharm": {
     "name": "#%%\n"
    }
   }
  },
  {
   "cell_type": "code",
   "execution_count": 17,
   "outputs": [
    {
     "data": {
      "text/plain": "Index(['work', 'title', 'cdm_types', 'cdm_type_labels', 'resource_types',\n       'resource_type_labels', 'eurovoc_concepts', 'eurovoc_concept_labels',\n       'subject_matters', 'subject_matter_labels', 'directory_codes',\n       'directory_codes_labels', 'celex_numbers', 'legal_elis', 'id_documents',\n       'same_as_uris', 'authors', 'author_labels', 'full_ojs', 'oj_sectors',\n       'internal_comments', 'is_in_force', 'dates_document', 'dates_created',\n       'legal_dates_entry_into_force', 'legal_dates_signature', 'manifs_pdf',\n       'manifs_html', 'pdfs_to_download', 'htmls_to_download', 'dossiers',\n       'related_works', 'work_sequences', 'eu_cellar_core',\n       'eu_cellar_extended', 'metadata', 'content_path', 'content', 'language',\n       'businesses', 'citizens', 'workers', 'category', 'subcategory',\n       'type_of_measure', 'funding'],\n      dtype='object')"
     },
     "execution_count": 17,
     "metadata": {},
     "output_type": "execute_result"
    }
   ],
   "source": [
    "# Print dataframe columns\n",
    "eu_cellar_df.columns"
   ],
   "metadata": {
    "collapsed": false,
    "pycharm": {
     "name": "#%%\n"
    }
   }
  },
  {
   "cell_type": "code",
   "execution_count": 18,
   "outputs": [
    {
     "data": {
      "text/plain": "     eu_cellar_subject_matter_labels eu_cellar_resource_type_labels  \\\n_id                                                                   \n0                                 []                             []   \n1                                 []                             []   \n2                                 []                             []   \n3                                 []                             []   \n4                                 []                             []   \n...                              ...                            ...   \n3170                              []                             []   \n3171                              []                             []   \n3172                              []                             []   \n3173                              []                             []   \n3174                              []                             []   \n\n     eu_cellar_directory_code_labels eu_cellar_author_labels  \\\n_id                                                            \n0                                 []                      []   \n1                                 []                      []   \n2                                 []                      []   \n3                                 []                      []   \n4                                 []                      []   \n...                              ...                     ...   \n3170                              []                      []   \n3171                              []                      []   \n3172                              []                      []   \n3173                              []                      []   \n3174                              []                      []   \n\n     pwdb_target_group_l2 ireland_keyword ireland_department_data  \\\n_id                                                                 \n0                      []              []                      []   \n1                      []              []                      []   \n2                      []              []                      []   \n3                      []              []                      []   \n4                      []              []                      []   \n...                   ...             ...                     ...   \n3170                   []              []                      []   \n3171                   []              []                      []   \n3172                   []              []                      []   \n3173                   []              []                      []   \n3174                   []              []                      []   \n\n     ireland_campaign ireland_page_type eu_timeline_topic  \n_id                                                        \n0                  []                []                []  \n1                  []                []                []  \n2                  []                []                []  \n3                  []                []                []  \n4                  []                []                []  \n...               ...               ...               ...  \n3170               []                []                []  \n3171               []                []                []  \n3172               []                []                []  \n3173               []                []                []  \n3174               []                []                []  \n\n[3175 rows x 10 columns]",
      "text/html": "<div>\n<style scoped>\n    .dataframe tbody tr th:only-of-type {\n        vertical-align: middle;\n    }\n\n    .dataframe tbody tr th {\n        vertical-align: top;\n    }\n\n    .dataframe thead th {\n        text-align: right;\n    }\n</style>\n<table border=\"1\" class=\"dataframe\">\n  <thead>\n    <tr style=\"text-align: right;\">\n      <th></th>\n      <th>eu_cellar_subject_matter_labels</th>\n      <th>eu_cellar_resource_type_labels</th>\n      <th>eu_cellar_directory_code_labels</th>\n      <th>eu_cellar_author_labels</th>\n      <th>pwdb_target_group_l2</th>\n      <th>ireland_keyword</th>\n      <th>ireland_department_data</th>\n      <th>ireland_campaign</th>\n      <th>ireland_page_type</th>\n      <th>eu_timeline_topic</th>\n    </tr>\n    <tr>\n      <th>_id</th>\n      <th></th>\n      <th></th>\n      <th></th>\n      <th></th>\n      <th></th>\n      <th></th>\n      <th></th>\n      <th></th>\n      <th></th>\n      <th></th>\n    </tr>\n  </thead>\n  <tbody>\n    <tr>\n      <th>0</th>\n      <td>[]</td>\n      <td>[]</td>\n      <td>[]</td>\n      <td>[]</td>\n      <td>[]</td>\n      <td>[]</td>\n      <td>[]</td>\n      <td>[]</td>\n      <td>[]</td>\n      <td>[]</td>\n    </tr>\n    <tr>\n      <th>1</th>\n      <td>[]</td>\n      <td>[]</td>\n      <td>[]</td>\n      <td>[]</td>\n      <td>[]</td>\n      <td>[]</td>\n      <td>[]</td>\n      <td>[]</td>\n      <td>[]</td>\n      <td>[]</td>\n    </tr>\n    <tr>\n      <th>2</th>\n      <td>[]</td>\n      <td>[]</td>\n      <td>[]</td>\n      <td>[]</td>\n      <td>[]</td>\n      <td>[]</td>\n      <td>[]</td>\n      <td>[]</td>\n      <td>[]</td>\n      <td>[]</td>\n    </tr>\n    <tr>\n      <th>3</th>\n      <td>[]</td>\n      <td>[]</td>\n      <td>[]</td>\n      <td>[]</td>\n      <td>[]</td>\n      <td>[]</td>\n      <td>[]</td>\n      <td>[]</td>\n      <td>[]</td>\n      <td>[]</td>\n    </tr>\n    <tr>\n      <th>4</th>\n      <td>[]</td>\n      <td>[]</td>\n      <td>[]</td>\n      <td>[]</td>\n      <td>[]</td>\n      <td>[]</td>\n      <td>[]</td>\n      <td>[]</td>\n      <td>[]</td>\n      <td>[]</td>\n    </tr>\n    <tr>\n      <th>...</th>\n      <td>...</td>\n      <td>...</td>\n      <td>...</td>\n      <td>...</td>\n      <td>...</td>\n      <td>...</td>\n      <td>...</td>\n      <td>...</td>\n      <td>...</td>\n      <td>...</td>\n    </tr>\n    <tr>\n      <th>3170</th>\n      <td>[]</td>\n      <td>[]</td>\n      <td>[]</td>\n      <td>[]</td>\n      <td>[]</td>\n      <td>[]</td>\n      <td>[]</td>\n      <td>[]</td>\n      <td>[]</td>\n      <td>[]</td>\n    </tr>\n    <tr>\n      <th>3171</th>\n      <td>[]</td>\n      <td>[]</td>\n      <td>[]</td>\n      <td>[]</td>\n      <td>[]</td>\n      <td>[]</td>\n      <td>[]</td>\n      <td>[]</td>\n      <td>[]</td>\n      <td>[]</td>\n    </tr>\n    <tr>\n      <th>3172</th>\n      <td>[]</td>\n      <td>[]</td>\n      <td>[]</td>\n      <td>[]</td>\n      <td>[]</td>\n      <td>[]</td>\n      <td>[]</td>\n      <td>[]</td>\n      <td>[]</td>\n      <td>[]</td>\n    </tr>\n    <tr>\n      <th>3173</th>\n      <td>[]</td>\n      <td>[]</td>\n      <td>[]</td>\n      <td>[]</td>\n      <td>[]</td>\n      <td>[]</td>\n      <td>[]</td>\n      <td>[]</td>\n      <td>[]</td>\n      <td>[]</td>\n    </tr>\n    <tr>\n      <th>3174</th>\n      <td>[]</td>\n      <td>[]</td>\n      <td>[]</td>\n      <td>[]</td>\n      <td>[]</td>\n      <td>[]</td>\n      <td>[]</td>\n      <td>[]</td>\n      <td>[]</td>\n      <td>[]</td>\n    </tr>\n  </tbody>\n</table>\n<p>3175 rows × 10 columns</p>\n</div>"
     },
     "execution_count": 18,
     "metadata": {},
     "output_type": "execute_result"
    }
   ],
   "source": [
    "# create common columns\n",
    "CONTENT_COLUMNS = [\"title\", \"content\"]\n",
    "eu_cellar_df[\"content\"] = eu_cellar_df[CONTENT_COLUMNS].agg(lambda x: \" \".join(item if item else \"\" for item in x),\n",
    "                                                            axis=1)\n",
    "create_new_column_with_defined_value(eu_cellar_df, \"doc_source\", \"ds_eu_cellar\")\n",
    "create_new_column_with_defined_value(eu_cellar_df, \"country\", \"European Union\")\n",
    "create_new_column_with_defined_value(eu_cellar_df, \"pwdb_actors\", \"EU (Council, EC, EP)\")\n",
    "make_target_group_l1_column(eu_cellar_df)\n",
    "eu_cellar_df[\"date\"] = eu_cellar_df[\"dates_document\"]\n",
    "\n",
    "make_document_embeddings_column(eu_cellar_df)\n",
    "make_topic_embeddings_column(eu_cellar_df)\n",
    "# create specific dataset columns\n",
    "\n",
    "for column in SPECIFIC_DATASET_COLUMNS:\n",
    "    create_new_column_with_defined_value(eu_cellar_df, column_name=column, empty_array=True)\n",
    "\n",
    "eu_cellar_df[SPECIFIC_DATASET_COLUMNS]\n",
    "\n"
   ],
   "metadata": {
    "collapsed": false,
    "pycharm": {
     "name": "#%%\n"
    }
   }
  },
  {
   "cell_type": "code",
   "execution_count": 19,
   "outputs": [],
   "source": [
    "#add values if the specific column exists in the current dataset\n",
    "eu_cellar_specific_columns = [\"subject_matter_labels\",\n",
    "                              \"resource_type_labels\",\n",
    "                              \"directory_codes_labels\",\n",
    "                              \"author_labels\"]\n",
    "for column_name in eu_cellar_specific_columns:\n",
    "    eu_cellar_df[\"eu_cellar_\" + column_name] = eu_cellar_df[column_name]\n",
    "    eu_cellar_df[\"eu_cellar_\" + column_name] = eu_cellar_df[\"eu_cellar_\" + column_name].apply(lambda x: x if x else [])\n"
   ],
   "metadata": {
    "collapsed": false,
    "pycharm": {
     "name": "#%%\n"
    }
   }
  },
  {
   "cell_type": "code",
   "execution_count": 20,
   "outputs": [],
   "source": [
    "# rename columns in the current dataset and prepare new version for merging\n",
    "eu_cellar_df.rename(columns={\"category\": \"pwdb_category\", \"funding\": \"pwdb_funding\",\n",
    "                             \"type_of_measure\": \"pwdb_type_of_measure\"}, inplace=True)\n",
    "\n",
    "tmp_eu_cellar_df = pd.DataFrame(eu_cellar_df[COMMON_DATASET_COLUMNS + SPECIFIC_DATASET_COLUMNS])\n"
   ],
   "metadata": {
    "collapsed": false,
    "pycharm": {
     "name": "#%%\n"
    }
   }
  },
  {
   "cell_type": "code",
   "execution_count": 21,
   "outputs": [
    {
     "name": "stdout",
     "output_type": "stream",
     "text": [
      "ready for merge\n"
     ]
    }
   ],
   "source": [
    "# Verify if the new version has all the necessary columns\n",
    "if tmp_eu_cellar_df.columns.tolist() == COMMON_DATASET_COLUMNS + SPECIFIC_DATASET_COLUMNS:\n",
    "    print(\"ready for merge\")\n",
    "else:\n",
    "    raise ValueError(\"Some columns are missing!! Not ready for merge\")\n",
    "\n"
   ],
   "metadata": {
    "collapsed": false,
    "pycharm": {
     "name": "#%%\n"
    }
   }
  },
  {
   "cell_type": "code",
   "execution_count": 22,
   "outputs": [
    {
     "data": {
      "text/plain": "Index(['month_name', 'date', 'title', 'abstract', 'presscorner_links',\n       'all_links', 'detail_link', 'detail_type', 'detail_date',\n       'detail_location', 'detail_content', 'detail_title',\n       'for_more_information_links', 'detail_pdf_link', 'press_contacts',\n       'topics', 'businesses', 'citizens', 'workers', 'category',\n       'subcategory', 'type_of_measure', 'funding'],\n      dtype='object')"
     },
     "execution_count": 22,
     "metadata": {},
     "output_type": "execute_result"
    }
   ],
   "source": [
    "# Print dataframe columns\n",
    "eu_timeline_df.columns"
   ],
   "metadata": {
    "collapsed": false,
    "pycharm": {
     "name": "#%%\n"
    }
   }
  },
  {
   "cell_type": "code",
   "execution_count": 23,
   "outputs": [
    {
     "data": {
      "text/plain": "    eu_cellar_subject_matter_labels eu_cellar_resource_type_labels  \\\n_id                                                                  \n0                                []                             []   \n1                                []                             []   \n2                                []                             []   \n3                                []                             []   \n4                                []                             []   \n..                              ...                            ...   \n226                              []                             []   \n227                              []                             []   \n228                              []                             []   \n229                              []                             []   \n230                              []                             []   \n\n    eu_cellar_directory_code_labels eu_cellar_author_labels  \\\n_id                                                           \n0                                []                      []   \n1                                []                      []   \n2                                []                      []   \n3                                []                      []   \n4                                []                      []   \n..                              ...                     ...   \n226                              []                      []   \n227                              []                      []   \n228                              []                      []   \n229                              []                      []   \n230                              []                      []   \n\n    pwdb_target_group_l2 ireland_keyword ireland_department_data  \\\n_id                                                                \n0                     []              []                      []   \n1                     []              []                      []   \n2                     []              []                      []   \n3                     []              []                      []   \n4                     []              []                      []   \n..                   ...             ...                     ...   \n226                   []              []                      []   \n227                   []              []                      []   \n228                   []              []                      []   \n229                   []              []                      []   \n230                   []              []                      []   \n\n    ireland_campaign ireland_page_type eu_timeline_topic  \n_id                                                       \n0                 []                []                []  \n1                 []                []                []  \n2                 []                []                []  \n3                 []                []                []  \n4                 []                []                []  \n..               ...               ...               ...  \n226               []                []                []  \n227               []                []                []  \n228               []                []                []  \n229               []                []                []  \n230               []                []                []  \n\n[231 rows x 10 columns]",
      "text/html": "<div>\n<style scoped>\n    .dataframe tbody tr th:only-of-type {\n        vertical-align: middle;\n    }\n\n    .dataframe tbody tr th {\n        vertical-align: top;\n    }\n\n    .dataframe thead th {\n        text-align: right;\n    }\n</style>\n<table border=\"1\" class=\"dataframe\">\n  <thead>\n    <tr style=\"text-align: right;\">\n      <th></th>\n      <th>eu_cellar_subject_matter_labels</th>\n      <th>eu_cellar_resource_type_labels</th>\n      <th>eu_cellar_directory_code_labels</th>\n      <th>eu_cellar_author_labels</th>\n      <th>pwdb_target_group_l2</th>\n      <th>ireland_keyword</th>\n      <th>ireland_department_data</th>\n      <th>ireland_campaign</th>\n      <th>ireland_page_type</th>\n      <th>eu_timeline_topic</th>\n    </tr>\n    <tr>\n      <th>_id</th>\n      <th></th>\n      <th></th>\n      <th></th>\n      <th></th>\n      <th></th>\n      <th></th>\n      <th></th>\n      <th></th>\n      <th></th>\n      <th></th>\n    </tr>\n  </thead>\n  <tbody>\n    <tr>\n      <th>0</th>\n      <td>[]</td>\n      <td>[]</td>\n      <td>[]</td>\n      <td>[]</td>\n      <td>[]</td>\n      <td>[]</td>\n      <td>[]</td>\n      <td>[]</td>\n      <td>[]</td>\n      <td>[]</td>\n    </tr>\n    <tr>\n      <th>1</th>\n      <td>[]</td>\n      <td>[]</td>\n      <td>[]</td>\n      <td>[]</td>\n      <td>[]</td>\n      <td>[]</td>\n      <td>[]</td>\n      <td>[]</td>\n      <td>[]</td>\n      <td>[]</td>\n    </tr>\n    <tr>\n      <th>2</th>\n      <td>[]</td>\n      <td>[]</td>\n      <td>[]</td>\n      <td>[]</td>\n      <td>[]</td>\n      <td>[]</td>\n      <td>[]</td>\n      <td>[]</td>\n      <td>[]</td>\n      <td>[]</td>\n    </tr>\n    <tr>\n      <th>3</th>\n      <td>[]</td>\n      <td>[]</td>\n      <td>[]</td>\n      <td>[]</td>\n      <td>[]</td>\n      <td>[]</td>\n      <td>[]</td>\n      <td>[]</td>\n      <td>[]</td>\n      <td>[]</td>\n    </tr>\n    <tr>\n      <th>4</th>\n      <td>[]</td>\n      <td>[]</td>\n      <td>[]</td>\n      <td>[]</td>\n      <td>[]</td>\n      <td>[]</td>\n      <td>[]</td>\n      <td>[]</td>\n      <td>[]</td>\n      <td>[]</td>\n    </tr>\n    <tr>\n      <th>...</th>\n      <td>...</td>\n      <td>...</td>\n      <td>...</td>\n      <td>...</td>\n      <td>...</td>\n      <td>...</td>\n      <td>...</td>\n      <td>...</td>\n      <td>...</td>\n      <td>...</td>\n    </tr>\n    <tr>\n      <th>226</th>\n      <td>[]</td>\n      <td>[]</td>\n      <td>[]</td>\n      <td>[]</td>\n      <td>[]</td>\n      <td>[]</td>\n      <td>[]</td>\n      <td>[]</td>\n      <td>[]</td>\n      <td>[]</td>\n    </tr>\n    <tr>\n      <th>227</th>\n      <td>[]</td>\n      <td>[]</td>\n      <td>[]</td>\n      <td>[]</td>\n      <td>[]</td>\n      <td>[]</td>\n      <td>[]</td>\n      <td>[]</td>\n      <td>[]</td>\n      <td>[]</td>\n    </tr>\n    <tr>\n      <th>228</th>\n      <td>[]</td>\n      <td>[]</td>\n      <td>[]</td>\n      <td>[]</td>\n      <td>[]</td>\n      <td>[]</td>\n      <td>[]</td>\n      <td>[]</td>\n      <td>[]</td>\n      <td>[]</td>\n    </tr>\n    <tr>\n      <th>229</th>\n      <td>[]</td>\n      <td>[]</td>\n      <td>[]</td>\n      <td>[]</td>\n      <td>[]</td>\n      <td>[]</td>\n      <td>[]</td>\n      <td>[]</td>\n      <td>[]</td>\n      <td>[]</td>\n    </tr>\n    <tr>\n      <th>230</th>\n      <td>[]</td>\n      <td>[]</td>\n      <td>[]</td>\n      <td>[]</td>\n      <td>[]</td>\n      <td>[]</td>\n      <td>[]</td>\n      <td>[]</td>\n      <td>[]</td>\n      <td>[]</td>\n    </tr>\n  </tbody>\n</table>\n<p>231 rows × 10 columns</p>\n</div>"
     },
     "execution_count": 23,
     "metadata": {},
     "output_type": "execute_result"
    }
   ],
   "source": [
    "# create columns\n",
    "CONTENT_COLUMNS = [\"title\", \"abstract\", \"detail_content\"]\n",
    "eu_timeline_df[\"content\"] = eu_timeline_df[CONTENT_COLUMNS].agg(lambda x: \" \".join(item if item else \"\" for item in x),\n",
    "                                                                axis=1)\n",
    "create_new_column_with_defined_value(eu_timeline_df, \"doc_source\", \"ds_eu_timeline\")\n",
    "create_new_column_with_defined_value(eu_timeline_df, \"country\", \"European Union\")\n",
    "create_new_column_with_defined_value(eu_timeline_df, \"pwdb_actors\", \"EU (Council, EC, EP)\")\n",
    "make_target_group_l1_column(eu_timeline_df)\n",
    "\n",
    "make_document_embeddings_column(eu_timeline_df)\n",
    "make_topic_embeddings_column(eu_timeline_df)\n",
    "# create specific dataset columns\n",
    "\n",
    "for column in SPECIFIC_DATASET_COLUMNS:\n",
    "    create_new_column_with_defined_value(eu_timeline_df, column_name=column, empty_array=True)\n",
    "\n",
    "eu_timeline_df[SPECIFIC_DATASET_COLUMNS]"
   ],
   "metadata": {
    "collapsed": false,
    "pycharm": {
     "name": "#%%\n"
    }
   }
  },
  {
   "cell_type": "code",
   "execution_count": 24,
   "outputs": [],
   "source": [
    "#add values if the specific column exists in the current dataset\n",
    "eu_timeline_df[\"eu_timeline_topic\"] = eu_timeline_df[\"topics\"]"
   ],
   "metadata": {
    "collapsed": false,
    "pycharm": {
     "name": "#%%\n"
    }
   }
  },
  {
   "cell_type": "code",
   "execution_count": 25,
   "outputs": [],
   "source": [
    "# rename columns in the current dataset and prepare new version for merging\n",
    "eu_timeline_df.rename(columns={\"category\": \"pwdb_category\",\n",
    "                               \"funding\": \"pwdb_funding\",\n",
    "                               \"type_of_measure\": \"pwdb_type_of_measure\"}, inplace=True)\n",
    "\n",
    "tmp_eu_timeline_df = pd.DataFrame(eu_timeline_df[COMMON_DATASET_COLUMNS + SPECIFIC_DATASET_COLUMNS])\n"
   ],
   "metadata": {
    "collapsed": false,
    "pycharm": {
     "name": "#%%\n"
    }
   }
  },
  {
   "cell_type": "code",
   "execution_count": 26,
   "outputs": [
    {
     "name": "stdout",
     "output_type": "stream",
     "text": [
      "ready for merge\n"
     ]
    }
   ],
   "source": [
    "# Verify if the new version has all the necessary columns\n",
    "if tmp_eu_timeline_df.columns.tolist() == COMMON_DATASET_COLUMNS + SPECIFIC_DATASET_COLUMNS:\n",
    "    print(\"ready for merge\")\n",
    "else:\n",
    "    raise ValueError(\"Some columns are missing!! Not ready for merge\")\n",
    "\n"
   ],
   "metadata": {
    "collapsed": false,
    "pycharm": {
     "name": "#%%\n"
    }
   }
  },
  {
   "cell_type": "code",
   "execution_count": 27,
   "outputs": [
    {
     "data": {
      "text/plain": "Index(['keyword', 'page_type', 'page_link', 'department_data',\n       'published_date', 'updated_date', 'title', 'content', 'content_links',\n       'campaigns_links', 'part_of_links', 'documents', 'businesses',\n       'citizens', 'workers', 'category', 'subcategory', 'type_of_measure',\n       'funding'],\n      dtype='object')"
     },
     "execution_count": 27,
     "metadata": {},
     "output_type": "execute_result"
    }
   ],
   "source": [
    "# Print dataframe columns\n",
    "ir_timeline_df.columns\n",
    "\n"
   ],
   "metadata": {
    "collapsed": false,
    "pycharm": {
     "name": "#%%\n"
    }
   }
  },
  {
   "cell_type": "code",
   "execution_count": 28,
   "outputs": [
    {
     "data": {
      "text/plain": "     eu_cellar_subject_matter_labels eu_cellar_resource_type_labels  \\\n_id                                                                   \n0                                 []                             []   \n1                                 []                             []   \n2                                 []                             []   \n3                                 []                             []   \n4                                 []                             []   \n...                              ...                            ...   \n1916                              []                             []   \n1917                              []                             []   \n1918                              []                             []   \n1919                              []                             []   \n1920                              []                             []   \n\n     eu_cellar_directory_code_labels eu_cellar_author_labels  \\\n_id                                                            \n0                                 []                      []   \n1                                 []                      []   \n2                                 []                      []   \n3                                 []                      []   \n4                                 []                      []   \n...                              ...                     ...   \n1916                              []                      []   \n1917                              []                      []   \n1918                              []                      []   \n1919                              []                      []   \n1920                              []                      []   \n\n     pwdb_target_group_l2 ireland_keyword ireland_department_data  \\\n_id                                                                 \n0                      []              []                      []   \n1                      []              []                      []   \n2                      []              []                      []   \n3                      []              []                      []   \n4                      []              []                      []   \n...                   ...             ...                     ...   \n1916                   []              []                      []   \n1917                   []              []                      []   \n1918                   []              []                      []   \n1919                   []              []                      []   \n1920                   []              []                      []   \n\n     ireland_campaign ireland_page_type eu_timeline_topic  \n_id                                                        \n0                  []                []                []  \n1                  []                []                []  \n2                  []                []                []  \n3                  []                []                []  \n4                  []                []                []  \n...               ...               ...               ...  \n1916               []                []                []  \n1917               []                []                []  \n1918               []                []                []  \n1919               []                []                []  \n1920               []                []                []  \n\n[1921 rows x 10 columns]",
      "text/html": "<div>\n<style scoped>\n    .dataframe tbody tr th:only-of-type {\n        vertical-align: middle;\n    }\n\n    .dataframe tbody tr th {\n        vertical-align: top;\n    }\n\n    .dataframe thead th {\n        text-align: right;\n    }\n</style>\n<table border=\"1\" class=\"dataframe\">\n  <thead>\n    <tr style=\"text-align: right;\">\n      <th></th>\n      <th>eu_cellar_subject_matter_labels</th>\n      <th>eu_cellar_resource_type_labels</th>\n      <th>eu_cellar_directory_code_labels</th>\n      <th>eu_cellar_author_labels</th>\n      <th>pwdb_target_group_l2</th>\n      <th>ireland_keyword</th>\n      <th>ireland_department_data</th>\n      <th>ireland_campaign</th>\n      <th>ireland_page_type</th>\n      <th>eu_timeline_topic</th>\n    </tr>\n    <tr>\n      <th>_id</th>\n      <th></th>\n      <th></th>\n      <th></th>\n      <th></th>\n      <th></th>\n      <th></th>\n      <th></th>\n      <th></th>\n      <th></th>\n      <th></th>\n    </tr>\n  </thead>\n  <tbody>\n    <tr>\n      <th>0</th>\n      <td>[]</td>\n      <td>[]</td>\n      <td>[]</td>\n      <td>[]</td>\n      <td>[]</td>\n      <td>[]</td>\n      <td>[]</td>\n      <td>[]</td>\n      <td>[]</td>\n      <td>[]</td>\n    </tr>\n    <tr>\n      <th>1</th>\n      <td>[]</td>\n      <td>[]</td>\n      <td>[]</td>\n      <td>[]</td>\n      <td>[]</td>\n      <td>[]</td>\n      <td>[]</td>\n      <td>[]</td>\n      <td>[]</td>\n      <td>[]</td>\n    </tr>\n    <tr>\n      <th>2</th>\n      <td>[]</td>\n      <td>[]</td>\n      <td>[]</td>\n      <td>[]</td>\n      <td>[]</td>\n      <td>[]</td>\n      <td>[]</td>\n      <td>[]</td>\n      <td>[]</td>\n      <td>[]</td>\n    </tr>\n    <tr>\n      <th>3</th>\n      <td>[]</td>\n      <td>[]</td>\n      <td>[]</td>\n      <td>[]</td>\n      <td>[]</td>\n      <td>[]</td>\n      <td>[]</td>\n      <td>[]</td>\n      <td>[]</td>\n      <td>[]</td>\n    </tr>\n    <tr>\n      <th>4</th>\n      <td>[]</td>\n      <td>[]</td>\n      <td>[]</td>\n      <td>[]</td>\n      <td>[]</td>\n      <td>[]</td>\n      <td>[]</td>\n      <td>[]</td>\n      <td>[]</td>\n      <td>[]</td>\n    </tr>\n    <tr>\n      <th>...</th>\n      <td>...</td>\n      <td>...</td>\n      <td>...</td>\n      <td>...</td>\n      <td>...</td>\n      <td>...</td>\n      <td>...</td>\n      <td>...</td>\n      <td>...</td>\n      <td>...</td>\n    </tr>\n    <tr>\n      <th>1916</th>\n      <td>[]</td>\n      <td>[]</td>\n      <td>[]</td>\n      <td>[]</td>\n      <td>[]</td>\n      <td>[]</td>\n      <td>[]</td>\n      <td>[]</td>\n      <td>[]</td>\n      <td>[]</td>\n    </tr>\n    <tr>\n      <th>1917</th>\n      <td>[]</td>\n      <td>[]</td>\n      <td>[]</td>\n      <td>[]</td>\n      <td>[]</td>\n      <td>[]</td>\n      <td>[]</td>\n      <td>[]</td>\n      <td>[]</td>\n      <td>[]</td>\n    </tr>\n    <tr>\n      <th>1918</th>\n      <td>[]</td>\n      <td>[]</td>\n      <td>[]</td>\n      <td>[]</td>\n      <td>[]</td>\n      <td>[]</td>\n      <td>[]</td>\n      <td>[]</td>\n      <td>[]</td>\n      <td>[]</td>\n    </tr>\n    <tr>\n      <th>1919</th>\n      <td>[]</td>\n      <td>[]</td>\n      <td>[]</td>\n      <td>[]</td>\n      <td>[]</td>\n      <td>[]</td>\n      <td>[]</td>\n      <td>[]</td>\n      <td>[]</td>\n      <td>[]</td>\n    </tr>\n    <tr>\n      <th>1920</th>\n      <td>[]</td>\n      <td>[]</td>\n      <td>[]</td>\n      <td>[]</td>\n      <td>[]</td>\n      <td>[]</td>\n      <td>[]</td>\n      <td>[]</td>\n      <td>[]</td>\n      <td>[]</td>\n    </tr>\n  </tbody>\n</table>\n<p>1921 rows × 10 columns</p>\n</div>"
     },
     "execution_count": 28,
     "metadata": {},
     "output_type": "execute_result"
    }
   ],
   "source": [
    "# create columns\n",
    "CONTENT_COLUMNS = [\"title\", \"content\"]\n",
    "ir_timeline_df[\"content\"] = ir_timeline_df[CONTENT_COLUMNS].agg(lambda x: \" \".join(item if item else \"\" for item in x),\n",
    "                                                                axis=1)\n",
    "create_new_column_with_defined_value(ir_timeline_df, \"doc_source\", \"ds_eu_timeline\")\n",
    "create_new_column_with_defined_value(ir_timeline_df, \"country\", \"Ireland\")\n",
    "create_new_column_with_defined_value(ir_timeline_df, \"pwdb_actors\", \"National government\")\n",
    "make_target_group_l1_column(ir_timeline_df)\n",
    "\n",
    "make_document_embeddings_column(ir_timeline_df)\n",
    "make_topic_embeddings_column(ir_timeline_df)\n",
    "# create specific dataset columns\n",
    "\n",
    "for column in SPECIFIC_DATASET_COLUMNS:\n",
    "    create_new_column_with_defined_value(ir_timeline_df, column_name=column, empty_array=True)\n",
    "\n",
    "ir_timeline_df[SPECIFIC_DATASET_COLUMNS]\n"
   ],
   "metadata": {
    "collapsed": false,
    "pycharm": {
     "name": "#%%\n"
    }
   }
  },
  {
   "cell_type": "code",
   "execution_count": 29,
   "outputs": [],
   "source": [
    "#add values if the specific column exists in the current dataset\n",
    "ir_timeline_specific_columns = [\"keyword\",\n",
    "                                \"department_data\",\n",
    "                                \"campaigns_links\",\n",
    "                                \"page_type\"]\n",
    "for column_name in ir_timeline_specific_columns:\n",
    "    ir_timeline_df[\"ireland_\" + column_name] = ir_timeline_df[column_name]\n",
    "    ir_timeline_df[\"ireland_\" + column_name] = ir_timeline_df[\"ireland_\" + column_name].apply(lambda x: x if x else [])"
   ],
   "metadata": {
    "collapsed": false,
    "pycharm": {
     "name": "#%%\n"
    }
   }
  },
  {
   "cell_type": "code",
   "execution_count": 30,
   "outputs": [],
   "source": [
    "\n",
    "# rename columns in the current dataset and prepare new version for merging\n",
    "ir_timeline_df.rename(columns={\"category\": \"pwdb_category\",\n",
    "                               \"funding\": \"pwdb_funding\",\n",
    "                               \"type_of_measure\": \"pwdb_type_of_measure\"}, inplace=True)"
   ],
   "metadata": {
    "collapsed": false,
    "pycharm": {
     "name": "#%%\n"
    }
   }
  },
  {
   "cell_type": "code",
   "execution_count": 31,
   "outputs": [],
   "source": [
    "tmp_ir_timeline_df = pd.DataFrame(ir_timeline_df[COMMON_DATASET_COLUMNS + SPECIFIC_DATASET_COLUMNS])"
   ],
   "metadata": {
    "collapsed": false,
    "pycharm": {
     "name": "#%%\n"
    }
   }
  },
  {
   "cell_type": "code",
   "execution_count": 32,
   "outputs": [
    {
     "name": "stdout",
     "output_type": "stream",
     "text": [
      "ready for merge\n"
     ]
    }
   ],
   "source": [
    "\n",
    "# Verify if the new version has all the necessary columns\n",
    "if tmp_eu_timeline_df.columns.tolist() == COMMON_DATASET_COLUMNS + SPECIFIC_DATASET_COLUMNS:\n",
    "    print(\"ready for merge\")\n",
    "else:\n",
    "    raise ValueError(\"Some columns are missing!! Not ready for merge\")\n"
   ],
   "metadata": {
    "collapsed": false,
    "pycharm": {
     "name": "#%%\n"
    }
   }
  },
  {
   "cell_type": "code",
   "execution_count": 33,
   "outputs": [],
   "source": [
    "def replace_non_english_content(text):\n",
    "    if text is not None:\n",
    "        language = detect_langs(text)\n",
    "        language_details = str(language[0]).split(\":\")\n",
    "        if language_details[0] == \"en\" and float(language_details[1]) > 0.95:\n",
    "            return text\n",
    "        else:\n",
    "            return None\n",
    "\n",
    "\n"
   ],
   "metadata": {
    "collapsed": false,
    "pycharm": {
     "name": "#%%\n"
    }
   }
  },
  {
   "cell_type": "code",
   "execution_count": 34,
   "outputs": [],
   "source": [
    "#Dropping rows without content, title and date\n",
    "data_frames = [tmp_eu_cellar_df, tmp_eu_timeline_df, tmp_ir_timeline_df, tmp_pwdb_df]\n",
    "for data_frame in data_frames:\n",
    "    data_frame.columns = COMMON_DATASET_COLUMNS + SPECIFIC_DATASET_COLUMNS\n",
    "    data_frame[\"content\"] = data_frame[\"content\"].apply(lambda x: x if x not in [\"\", \" \"] else None)\n",
    "    data_frame[\"content\"] = data_frame[\"content\"].apply(lambda x: replace_non_english_content(x))\n",
    "    data_frame.dropna(subset=['content', 'title', 'date'], how=\"any\", inplace=True)\n",
    "\n",
    "\n",
    "\n",
    "\n"
   ],
   "metadata": {
    "collapsed": false,
    "pycharm": {
     "name": "#%%\n"
    }
   }
  },
  {
   "cell_type": "code",
   "execution_count": 35,
   "outputs": [
    {
     "data": {
      "text/plain": "                                                                                                title  \\\n_id                                                                                                     \n0                                                   Prior notification of a concentration (Case M....   \n1                                                   COMMISSION STAFF WORKING DOCUMENT […] Accompan...   \n2                                                   P9_TA(2020)0157 Amending Regulations (EU) No 5...   \n3                                                   Opinion No 6/2020 (pursuant to Article 287(4) ...   \n4                                                   Council Recommendation (EU) 2021/816 20 May 20...   \n...                                                                                               ...   \ntika/330d076853d0731e295d75f70841b445e4bc45061a...  Government support to assist the sports sector...   \ntika/ffaa29a24828dd01c81d66ece0f8f3c21451083be7...   National public sector collective agreement 2021   \ntika/3df93a8fb254187e8783d19760b465a98d88863e59...  Lifting of overtime work restrictions, extensi...   \ntika/71fc1cad3a3a8b9de4da7080acc3a8251fa8ff8c5b...     Exceptional regime suspending overtime limits    \ntika/417384d22c3c6f1768aed95a928111a4652fd832c8...               COVID-19: Income support for workers   \n\n                                                                                              content  \\\n_id                                                                                                     \n0                                                   Prior notification of a concentration (Case M....   \n1                                                   COMMISSION STAFF WORKING DOCUMENT […] Accompan...   \n2                                                   P9_TA(2020)0157 Amending Regulations (EU) No 5...   \n3                                                   Opinion No 6/2020 (pursuant to Article 287(4) ...   \n4                                                   Council Recommendation (EU) 2021/816 20 May 20...   \n...                                                                                               ...   \ntika/330d076853d0731e295d75f70841b445e4bc45061a...  Government support to assist the sports sector...   \ntika/ffaa29a24828dd01c81d66ece0f8f3c21451083be7...  National public sector collective agreement 20...   \ntika/3df93a8fb254187e8783d19760b465a98d88863e59...  Lifting of overtime work restrictions, extensi...   \ntika/71fc1cad3a3a8b9de4da7080acc3a8251fa8ff8c5b...  Exceptional regime suspending overtime limits ...   \ntika/417384d22c3c6f1768aed95a928111a4652fd832c8...  COVID-19: Income support for workers Key tax a...   \n\n                                                          date    doc_source  \\\n_id                                                                            \n0                                                   2020-01-30  ds_eu_cellar   \n1                                                   2021-08-30  ds_eu_cellar   \n2                                                   2020-06-18  ds_eu_cellar   \n3                                                   2020-09-07  ds_eu_cellar   \n4                                                   2021-05-20  ds_eu_cellar   \n...                                                        ...           ...   \ntika/330d076853d0731e295d75f70841b445e4bc45061a...  2020-04-09       ds_pwdb   \ntika/ffaa29a24828dd01c81d66ece0f8f3c21451083be7...  2021-01-01       ds_pwdb   \ntika/3df93a8fb254187e8783d19760b465a98d88863e59...  2020-03-14       ds_pwdb   \ntika/71fc1cad3a3a8b9de4da7080acc3a8251fa8ff8c5b...  2020-03-14       ds_pwdb   \ntika/417384d22c3c6f1768aed95a928111a4652fd832c8...  2020-03-13       ds_pwdb   \n\n                                                           country  \\\n_id                                                                  \n0                                                   European Union   \n1                                                   European Union   \n2                                                   European Union   \n3                                                   European Union   \n4                                                   European Union   \n...                                                            ...   \ntika/330d076853d0731e295d75f70841b445e4bc45061a...         Croatia   \ntika/ffaa29a24828dd01c81d66ece0f8f3c21451083be7...       Lithuania   \ntika/3df93a8fb254187e8783d19760b465a98d88863e59...          Greece   \ntika/71fc1cad3a3a8b9de4da7080acc3a8251fa8ff8c5b...        Portugal   \ntika/417384d22c3c6f1768aed95a928111a4652fd832c8...        Bulgaria   \n\n                                                                                        pwdb_category  \\\n_id                                                                                                     \n0                                                         Supporting businesses to get back to normal   \n1                                                   Promoting the economic, labour market and soci...   \n2                                                         Supporting businesses to get back to normal   \n3                                                   Promoting the economic, labour market and soci...   \n4                                                   Ensuring business continuity and support for e...   \n...                                                                                               ...   \ntika/330d076853d0731e295d75f70841b445e4bc45061a...                Employment protection and retention   \ntika/ffaa29a24828dd01c81d66ece0f8f3c21451083be7...     Protection of workers, adaptation of workplace   \ntika/3df93a8fb254187e8783d19760b465a98d88863e59...  Ensuring business continuity and support for e...   \ntika/71fc1cad3a3a8b9de4da7080acc3a8251fa8ff8c5b...  Ensuring business continuity and support for e...   \ntika/417384d22c3c6f1768aed95a928111a4652fd832c8...                Employment protection and retention   \n\n                                                   pwdb_target_group_l1  \\\n_id                                                                       \n0                                                                    []   \n1                                                                    []   \n2                                                                    []   \n3                                                                    []   \n4                                                                    []   \n...                                                                 ...   \ntika/330d076853d0731e295d75f70841b445e4bc45061a...         [businesses]   \ntika/ffaa29a24828dd01c81d66ece0f8f3c21451083be7...            [workers]   \ntika/3df93a8fb254187e8783d19760b465a98d88863e59...            [workers]   \ntika/71fc1cad3a3a8b9de4da7080acc3a8251fa8ff8c5b...            [workers]   \ntika/417384d22c3c6f1768aed95a928111a4652fd832c8...                   []   \n\n                                                                                         pwdb_funding  \\\n_id                                                                                                     \n0                                                                                      National funds   \n1                                                        European Funds|National funds|Regional funds   \n2                                                                         No special funding required   \n3                                                                         No special funding required   \n4                                                                         No special funding required   \n...                                                                                               ...   \ntika/330d076853d0731e295d75f70841b445e4bc45061a...                                   [National funds]   \ntika/ffaa29a24828dd01c81d66ece0f8f3c21451083be7...                         [Employer, National funds]   \ntika/3df93a8fb254187e8783d19760b465a98d88863e59...                                        [Companies]   \ntika/71fc1cad3a3a8b9de4da7080acc3a8251fa8ff8c5b...                      [No special funding required]   \ntika/417384d22c3c6f1768aed95a928111a4652fd832c8...  [Employers organisation, European Funds, Natio...   \n\n                                                                           pwdb_type_of_measure  \\\n_id                                                                                               \n0                                                   Legislations or other statutory regulations   \n1                                                   Legislations or other statutory regulations   \n2                                                   Legislations or other statutory regulations   \n3                                                   Legislations or other statutory regulations   \n4                                                   Legislations or other statutory regulations   \n...                                                                                         ...   \ntika/330d076853d0731e295d75f70841b445e4bc45061a...  Legislations or other statutory regulations   \ntika/ffaa29a24828dd01c81d66ece0f8f3c21451083be7...              Bipartite collective agreements   \ntika/3df93a8fb254187e8783d19760b465a98d88863e59...  Legislations or other statutory regulations   \ntika/71fc1cad3a3a8b9de4da7080acc3a8251fa8ff8c5b...  Legislations or other statutory regulations   \ntika/417384d22c3c6f1768aed95a928111a4652fd832c8...  Legislations or other statutory regulations   \n\n                                                                                          pwdb_actors  \\\n_id                                                                                                     \n0                                                                                EU (Council, EC, EP)   \n1                                                                                EU (Council, EC, EP)   \n2                                                                                EU (Council, EC, EP)   \n3                                                                                EU (Council, EC, EP)   \n4                                                                                EU (Council, EC, EP)   \n...                                                                                               ...   \ntika/330d076853d0731e295d75f70841b445e4bc45061a...                              [National government]   \ntika/ffaa29a24828dd01c81d66ece0f8f3c21451083be7...                [National government, Trade unions]   \ntika/3df93a8fb254187e8783d19760b465a98d88863e59...         [National government, Company / Companies]   \ntika/71fc1cad3a3a8b9de4da7080acc3a8251fa8ff8c5b...  [National government, Local / regional governm...   \ntika/417384d22c3c6f1768aed95a928111a4652fd832c8...  [National government, Trade unions, Employers'...   \n\n                                                    ...  \\\n_id                                                 ...   \n0                                                   ...   \n1                                                   ...   \n2                                                   ...   \n3                                                   ...   \n4                                                   ...   \n...                                                 ...   \ntika/330d076853d0731e295d75f70841b445e4bc45061a...  ...   \ntika/ffaa29a24828dd01c81d66ece0f8f3c21451083be7...  ...   \ntika/3df93a8fb254187e8783d19760b465a98d88863e59...  ...   \ntika/71fc1cad3a3a8b9de4da7080acc3a8251fa8ff8c5b...  ...   \ntika/417384d22c3c6f1768aed95a928111a4652fd832c8...  ...   \n\n                                                                      eu_cellar_subject_matter_labels  \\\n_id                                                                                                     \n0                                                   [Competition, Concentrations between undertaki...   \n1                                                                        [Commercial policy, Dumping]   \n2                                                   [Freedom of establishment, Internal market - P...   \n3                                                                                   [Economic policy]   \n4                                                   [Area of freedom, security and justice, Border...   \n...                                                                                               ...   \ntika/330d076853d0731e295d75f70841b445e4bc45061a...                                                 []   \ntika/ffaa29a24828dd01c81d66ece0f8f3c21451083be7...                                                 []   \ntika/3df93a8fb254187e8783d19760b465a98d88863e59...                                                 []   \ntika/71fc1cad3a3a8b9de4da7080acc3a8251fa8ff8c5b...                                                 []   \ntika/417384d22c3c6f1768aed95a928111a4652fd832c8...                                                 []   \n\n                                                   eu_cellar_resource_type_labels  \\\n_id                                                                                 \n0                                                                 [Announcements]   \n1                                                        [Staff working document]   \n2                                                        [Legislative resolution]   \n3                                                                       [Opinion]   \n4                                                                [Recommendation]   \n...                                                                           ...   \ntika/330d076853d0731e295d75f70841b445e4bc45061a...                             []   \ntika/ffaa29a24828dd01c81d66ece0f8f3c21451083be7...                             []   \ntika/3df93a8fb254187e8783d19760b465a98d88863e59...                             []   \ntika/71fc1cad3a3a8b9de4da7080acc3a8251fa8ff8c5b...                             []   \ntika/417384d22c3c6f1768aed95a928111a4652fd832c8...                             []   \n\n                                                   eu_cellar_directory_code_labels  \\\n_id                                                                                  \n0                                                                               []   \n1                                                                               []   \n2                                                                               []   \n3                                                                               []   \n4                                                                               []   \n...                                                                            ...   \ntika/330d076853d0731e295d75f70841b445e4bc45061a...                              []   \ntika/ffaa29a24828dd01c81d66ece0f8f3c21451083be7...                              []   \ntika/3df93a8fb254187e8783d19760b465a98d88863e59...                              []   \ntika/71fc1cad3a3a8b9de4da7080acc3a8251fa8ff8c5b...                              []   \ntika/417384d22c3c6f1768aed95a928111a4652fd832c8...                              []   \n\n                                                                              eu_cellar_author_labels  \\\n_id                                                                                                     \n0                                                   [Directorate-General for Competition, European...   \n1                                                   [Directorate-General for Trade, European Commi...   \n2                                                   [Committee on Economic and Monetary Affairs, E...   \n3                                                                        [European Court of Auditors]   \n4                                                                     [Council of the European Union]   \n...                                                                                               ...   \ntika/330d076853d0731e295d75f70841b445e4bc45061a...                                                 []   \ntika/ffaa29a24828dd01c81d66ece0f8f3c21451083be7...                                                 []   \ntika/3df93a8fb254187e8783d19760b465a98d88863e59...                                                 []   \ntika/71fc1cad3a3a8b9de4da7080acc3a8251fa8ff8c5b...                                                 []   \ntika/417384d22c3c6f1768aed95a928111a4652fd832c8...                                                 []   \n\n                                                                                 pwdb_target_group_l2  \\\n_id                                                                                                     \n0                                                                                                  []   \n1                                                                                                  []   \n2                                                                                                  []   \n3                                                                                                  []   \n4                                                                                                  []   \n...                                                                                               ...   \ntika/330d076853d0731e295d75f70841b445e4bc45061a...                 [Sector specific set of companies]   \ntika/ffaa29a24828dd01c81d66ece0f8f3c21451083be7...                          [Other groups of workers]   \ntika/3df93a8fb254187e8783d19760b465a98d88863e59...                 [Employees in standard employment]   \ntika/71fc1cad3a3a8b9de4da7080acc3a8251fa8ff8c5b...  [Other groups of workers, Workers in essential...   \ntika/417384d22c3c6f1768aed95a928111a4652fd832c8...                                                 []   \n\n                                                   ireland_keyword  \\\n_id                                                                  \n0                                                               []   \n1                                                               []   \n2                                                               []   \n3                                                               []   \n4                                                               []   \n...                                                            ...   \ntika/330d076853d0731e295d75f70841b445e4bc45061a...              []   \ntika/ffaa29a24828dd01c81d66ece0f8f3c21451083be7...              []   \ntika/3df93a8fb254187e8783d19760b465a98d88863e59...              []   \ntika/71fc1cad3a3a8b9de4da7080acc3a8251fa8ff8c5b...              []   \ntika/417384d22c3c6f1768aed95a928111a4652fd832c8...              []   \n\n                                                   ireland_department_data  \\\n_id                                                                          \n0                                                                       []   \n1                                                                       []   \n2                                                                       []   \n3                                                                       []   \n4                                                                       []   \n...                                                                    ...   \ntika/330d076853d0731e295d75f70841b445e4bc45061a...                      []   \ntika/ffaa29a24828dd01c81d66ece0f8f3c21451083be7...                      []   \ntika/3df93a8fb254187e8783d19760b465a98d88863e59...                      []   \ntika/71fc1cad3a3a8b9de4da7080acc3a8251fa8ff8c5b...                      []   \ntika/417384d22c3c6f1768aed95a928111a4652fd832c8...                      []   \n\n                                                   ireland_campaign  \\\n_id                                                                   \n0                                                                []   \n1                                                                []   \n2                                                                []   \n3                                                                []   \n4                                                                []   \n...                                                             ...   \ntika/330d076853d0731e295d75f70841b445e4bc45061a...               []   \ntika/ffaa29a24828dd01c81d66ece0f8f3c21451083be7...               []   \ntika/3df93a8fb254187e8783d19760b465a98d88863e59...               []   \ntika/71fc1cad3a3a8b9de4da7080acc3a8251fa8ff8c5b...               []   \ntika/417384d22c3c6f1768aed95a928111a4652fd832c8...               []   \n\n                                                   ireland_page_type  \\\n_id                                                                    \n0                                                                 []   \n1                                                                 []   \n2                                                                 []   \n3                                                                 []   \n4                                                                 []   \n...                                                              ...   \ntika/330d076853d0731e295d75f70841b445e4bc45061a...                []   \ntika/ffaa29a24828dd01c81d66ece0f8f3c21451083be7...                []   \ntika/3df93a8fb254187e8783d19760b465a98d88863e59...                []   \ntika/71fc1cad3a3a8b9de4da7080acc3a8251fa8ff8c5b...                []   \ntika/417384d22c3c6f1768aed95a928111a4652fd832c8...                []   \n\n                                                   eu_timeline_topic  \n_id                                                                   \n0                                                                 []  \n1                                                                 []  \n2                                                                 []  \n3                                                                 []  \n4                                                                 []  \n...                                                              ...  \ntika/330d076853d0731e295d75f70841b445e4bc45061a...                []  \ntika/ffaa29a24828dd01c81d66ece0f8f3c21451083be7...                []  \ntika/3df93a8fb254187e8783d19760b465a98d88863e59...                []  \ntika/71fc1cad3a3a8b9de4da7080acc3a8251fa8ff8c5b...                []  \ntika/417384d22c3c6f1768aed95a928111a4652fd832c8...                []  \n\n[4690 rows x 22 columns]",
      "text/html": "<div>\n<style scoped>\n    .dataframe tbody tr th:only-of-type {\n        vertical-align: middle;\n    }\n\n    .dataframe tbody tr th {\n        vertical-align: top;\n    }\n\n    .dataframe thead th {\n        text-align: right;\n    }\n</style>\n<table border=\"1\" class=\"dataframe\">\n  <thead>\n    <tr style=\"text-align: right;\">\n      <th></th>\n      <th>title</th>\n      <th>content</th>\n      <th>date</th>\n      <th>doc_source</th>\n      <th>country</th>\n      <th>pwdb_category</th>\n      <th>pwdb_target_group_l1</th>\n      <th>pwdb_funding</th>\n      <th>pwdb_type_of_measure</th>\n      <th>pwdb_actors</th>\n      <th>...</th>\n      <th>eu_cellar_subject_matter_labels</th>\n      <th>eu_cellar_resource_type_labels</th>\n      <th>eu_cellar_directory_code_labels</th>\n      <th>eu_cellar_author_labels</th>\n      <th>pwdb_target_group_l2</th>\n      <th>ireland_keyword</th>\n      <th>ireland_department_data</th>\n      <th>ireland_campaign</th>\n      <th>ireland_page_type</th>\n      <th>eu_timeline_topic</th>\n    </tr>\n    <tr>\n      <th>_id</th>\n      <th></th>\n      <th></th>\n      <th></th>\n      <th></th>\n      <th></th>\n      <th></th>\n      <th></th>\n      <th></th>\n      <th></th>\n      <th></th>\n      <th></th>\n      <th></th>\n      <th></th>\n      <th></th>\n      <th></th>\n      <th></th>\n      <th></th>\n      <th></th>\n      <th></th>\n      <th></th>\n      <th></th>\n    </tr>\n  </thead>\n  <tbody>\n    <tr>\n      <th>0</th>\n      <td>Prior notification of a concentration (Case M....</td>\n      <td>Prior notification of a concentration (Case M....</td>\n      <td>2020-01-30</td>\n      <td>ds_eu_cellar</td>\n      <td>European Union</td>\n      <td>Supporting businesses to get back to normal</td>\n      <td>[]</td>\n      <td>National funds</td>\n      <td>Legislations or other statutory regulations</td>\n      <td>EU (Council, EC, EP)</td>\n      <td>...</td>\n      <td>[Competition, Concentrations between undertaki...</td>\n      <td>[Announcements]</td>\n      <td>[]</td>\n      <td>[Directorate-General for Competition, European...</td>\n      <td>[]</td>\n      <td>[]</td>\n      <td>[]</td>\n      <td>[]</td>\n      <td>[]</td>\n      <td>[]</td>\n    </tr>\n    <tr>\n      <th>1</th>\n      <td>COMMISSION STAFF WORKING DOCUMENT […] Accompan...</td>\n      <td>COMMISSION STAFF WORKING DOCUMENT […] Accompan...</td>\n      <td>2021-08-30</td>\n      <td>ds_eu_cellar</td>\n      <td>European Union</td>\n      <td>Promoting the economic, labour market and soci...</td>\n      <td>[]</td>\n      <td>European Funds|National funds|Regional funds</td>\n      <td>Legislations or other statutory regulations</td>\n      <td>EU (Council, EC, EP)</td>\n      <td>...</td>\n      <td>[Commercial policy, Dumping]</td>\n      <td>[Staff working document]</td>\n      <td>[]</td>\n      <td>[Directorate-General for Trade, European Commi...</td>\n      <td>[]</td>\n      <td>[]</td>\n      <td>[]</td>\n      <td>[]</td>\n      <td>[]</td>\n      <td>[]</td>\n    </tr>\n    <tr>\n      <th>2</th>\n      <td>P9_TA(2020)0157 Amending Regulations (EU) No 5...</td>\n      <td>P9_TA(2020)0157 Amending Regulations (EU) No 5...</td>\n      <td>2020-06-18</td>\n      <td>ds_eu_cellar</td>\n      <td>European Union</td>\n      <td>Supporting businesses to get back to normal</td>\n      <td>[]</td>\n      <td>No special funding required</td>\n      <td>Legislations or other statutory regulations</td>\n      <td>EU (Council, EC, EP)</td>\n      <td>...</td>\n      <td>[Freedom of establishment, Internal market - P...</td>\n      <td>[Legislative resolution]</td>\n      <td>[]</td>\n      <td>[Committee on Economic and Monetary Affairs, E...</td>\n      <td>[]</td>\n      <td>[]</td>\n      <td>[]</td>\n      <td>[]</td>\n      <td>[]</td>\n      <td>[]</td>\n    </tr>\n    <tr>\n      <th>3</th>\n      <td>Opinion No 6/2020 (pursuant to Article 287(4) ...</td>\n      <td>Opinion No 6/2020 (pursuant to Article 287(4) ...</td>\n      <td>2020-09-07</td>\n      <td>ds_eu_cellar</td>\n      <td>European Union</td>\n      <td>Promoting the economic, labour market and soci...</td>\n      <td>[]</td>\n      <td>No special funding required</td>\n      <td>Legislations or other statutory regulations</td>\n      <td>EU (Council, EC, EP)</td>\n      <td>...</td>\n      <td>[Economic policy]</td>\n      <td>[Opinion]</td>\n      <td>[]</td>\n      <td>[European Court of Auditors]</td>\n      <td>[]</td>\n      <td>[]</td>\n      <td>[]</td>\n      <td>[]</td>\n      <td>[]</td>\n      <td>[]</td>\n    </tr>\n    <tr>\n      <th>4</th>\n      <td>Council Recommendation (EU) 2021/816 20 May 20...</td>\n      <td>Council Recommendation (EU) 2021/816 20 May 20...</td>\n      <td>2021-05-20</td>\n      <td>ds_eu_cellar</td>\n      <td>European Union</td>\n      <td>Ensuring business continuity and support for e...</td>\n      <td>[]</td>\n      <td>No special funding required</td>\n      <td>Legislations or other statutory regulations</td>\n      <td>EU (Council, EC, EP)</td>\n      <td>...</td>\n      <td>[Area of freedom, security and justice, Border...</td>\n      <td>[Recommendation]</td>\n      <td>[]</td>\n      <td>[Council of the European Union]</td>\n      <td>[]</td>\n      <td>[]</td>\n      <td>[]</td>\n      <td>[]</td>\n      <td>[]</td>\n      <td>[]</td>\n    </tr>\n    <tr>\n      <th>...</th>\n      <td>...</td>\n      <td>...</td>\n      <td>...</td>\n      <td>...</td>\n      <td>...</td>\n      <td>...</td>\n      <td>...</td>\n      <td>...</td>\n      <td>...</td>\n      <td>...</td>\n      <td>...</td>\n      <td>...</td>\n      <td>...</td>\n      <td>...</td>\n      <td>...</td>\n      <td>...</td>\n      <td>...</td>\n      <td>...</td>\n      <td>...</td>\n      <td>...</td>\n      <td>...</td>\n    </tr>\n    <tr>\n      <th>tika/330d076853d0731e295d75f70841b445e4bc45061a8ae1507766fa26d778cc6f</th>\n      <td>Government support to assist the sports sector...</td>\n      <td>Government support to assist the sports sector...</td>\n      <td>2020-04-09</td>\n      <td>ds_pwdb</td>\n      <td>Croatia</td>\n      <td>Employment protection and retention</td>\n      <td>[businesses]</td>\n      <td>[National funds]</td>\n      <td>Legislations or other statutory regulations</td>\n      <td>[National government]</td>\n      <td>...</td>\n      <td>[]</td>\n      <td>[]</td>\n      <td>[]</td>\n      <td>[]</td>\n      <td>[Sector specific set of companies]</td>\n      <td>[]</td>\n      <td>[]</td>\n      <td>[]</td>\n      <td>[]</td>\n      <td>[]</td>\n    </tr>\n    <tr>\n      <th>tika/ffaa29a24828dd01c81d66ece0f8f3c21451083be7a0b6d2f4ed954b9378b0e6</th>\n      <td>National public sector collective agreement 2021</td>\n      <td>National public sector collective agreement 20...</td>\n      <td>2021-01-01</td>\n      <td>ds_pwdb</td>\n      <td>Lithuania</td>\n      <td>Protection of workers, adaptation of workplace</td>\n      <td>[workers]</td>\n      <td>[Employer, National funds]</td>\n      <td>Bipartite collective agreements</td>\n      <td>[National government, Trade unions]</td>\n      <td>...</td>\n      <td>[]</td>\n      <td>[]</td>\n      <td>[]</td>\n      <td>[]</td>\n      <td>[Other groups of workers]</td>\n      <td>[]</td>\n      <td>[]</td>\n      <td>[]</td>\n      <td>[]</td>\n      <td>[]</td>\n    </tr>\n    <tr>\n      <th>tika/3df93a8fb254187e8783d19760b465a98d88863e59a513b35a4d8062248e4190</th>\n      <td>Lifting of overtime work restrictions, extensi...</td>\n      <td>Lifting of overtime work restrictions, extensi...</td>\n      <td>2020-03-14</td>\n      <td>ds_pwdb</td>\n      <td>Greece</td>\n      <td>Ensuring business continuity and support for e...</td>\n      <td>[workers]</td>\n      <td>[Companies]</td>\n      <td>Legislations or other statutory regulations</td>\n      <td>[National government, Company / Companies]</td>\n      <td>...</td>\n      <td>[]</td>\n      <td>[]</td>\n      <td>[]</td>\n      <td>[]</td>\n      <td>[Employees in standard employment]</td>\n      <td>[]</td>\n      <td>[]</td>\n      <td>[]</td>\n      <td>[]</td>\n      <td>[]</td>\n    </tr>\n    <tr>\n      <th>tika/71fc1cad3a3a8b9de4da7080acc3a8251fa8ff8c5b7514f082f18c1cf69ab140</th>\n      <td>Exceptional regime suspending overtime limits</td>\n      <td>Exceptional regime suspending overtime limits ...</td>\n      <td>2020-03-14</td>\n      <td>ds_pwdb</td>\n      <td>Portugal</td>\n      <td>Ensuring business continuity and support for e...</td>\n      <td>[workers]</td>\n      <td>[No special funding required]</td>\n      <td>Legislations or other statutory regulations</td>\n      <td>[National government, Local / regional governm...</td>\n      <td>...</td>\n      <td>[]</td>\n      <td>[]</td>\n      <td>[]</td>\n      <td>[]</td>\n      <td>[Other groups of workers, Workers in essential...</td>\n      <td>[]</td>\n      <td>[]</td>\n      <td>[]</td>\n      <td>[]</td>\n      <td>[]</td>\n    </tr>\n    <tr>\n      <th>tika/417384d22c3c6f1768aed95a928111a4652fd832c8d5ee38594ca661e53488ca</th>\n      <td>COVID-19: Income support for workers</td>\n      <td>COVID-19: Income support for workers Key tax a...</td>\n      <td>2020-03-13</td>\n      <td>ds_pwdb</td>\n      <td>Bulgaria</td>\n      <td>Employment protection and retention</td>\n      <td>[]</td>\n      <td>[Employers organisation, European Funds, Natio...</td>\n      <td>Legislations or other statutory regulations</td>\n      <td>[National government, Trade unions, Employers'...</td>\n      <td>...</td>\n      <td>[]</td>\n      <td>[]</td>\n      <td>[]</td>\n      <td>[]</td>\n      <td>[]</td>\n      <td>[]</td>\n      <td>[]</td>\n      <td>[]</td>\n      <td>[]</td>\n      <td>[]</td>\n    </tr>\n  </tbody>\n</table>\n<p>4690 rows × 22 columns</p>\n</div>"
     },
     "execution_count": 35,
     "metadata": {},
     "output_type": "execute_result"
    }
   ],
   "source": [
    "#Unified datasets dataframe\n",
    "unified_datasets_df = pd.DataFrame(pd.concat(data_frames))\n",
    "unified_datasets_df\n",
    "\n"
   ],
   "metadata": {
    "collapsed": false,
    "pycharm": {
     "name": "#%%\n"
    }
   }
  },
  {
   "cell_type": "code",
   "execution_count": 59,
   "outputs": [],
   "source": [
    "def filter_func(x):\n",
    "    if type(x) == str:\n",
    "        return x.split('|')\n",
    "    else:\n",
    "        return x\n",
    "\n",
    "\n",
    "unified_datasets_df.pwdb_funding = unified_datasets_df.pwdb_funding.apply(filter_func)"
   ],
   "metadata": {
    "collapsed": false,
    "pycharm": {
     "name": "#%%\n"
    }
   }
  },
  {
   "cell_type": "code",
   "execution_count": 65,
   "outputs": [],
   "source": [
    "unified_datasets_df.pwdb_actors = unified_datasets_df.pwdb_actors.apply(lambda x: x if type(x) == list else [x])"
   ],
   "metadata": {
    "collapsed": false,
    "pycharm": {
     "name": "#%%\n"
    }
   }
  },
  {
   "cell_type": "code",
   "execution_count": 67,
   "outputs": [
    {
     "data": {
      "text/plain": "array([list(['EU (Council, EC, EP)']), list(['EU (Council, EC, EP)']),\n       list(['EU (Council, EC, EP)']), ...,\n       list(['National government', 'Company / Companies']),\n       list(['National government', 'Local / regional government', 'Public support service providers']),\n       list(['National government', 'Trade unions', \"Employers' organisations\"])],\n      dtype=object)"
     },
     "execution_count": 67,
     "metadata": {},
     "output_type": "execute_result"
    }
   ],
   "source": [
    "unified_datasets_df.pwdb_actors.values"
   ],
   "metadata": {
    "collapsed": false,
    "pycharm": {
     "name": "#%%\n"
    }
   }
  },
  {
   "cell_type": "code",
   "execution_count": 68,
   "outputs": [],
   "source": [
    "test_unified_datasets_df = pd.DataFrame(unified_datasets_df.copy())"
   ],
   "metadata": {
    "collapsed": false,
    "pycharm": {
     "name": "#%%\n"
    }
   }
  },
  {
   "cell_type": "code",
   "execution_count": 69,
   "outputs": [],
   "source": [
    "test_unified_datasets_df.reset_index(inplace=True, drop=True)\n"
   ],
   "metadata": {
    "collapsed": false,
    "pycharm": {
     "name": "#%%\n"
    }
   }
  },
  {
   "cell_type": "code",
   "execution_count": 72,
   "outputs": [
    {
     "name": "stderr",
     "output_type": "stream",
     "text": [
      " 96% (4512 of 4690) |################### | Elapsed Time: 0:00:00 ETA:   0:00:00"
     ]
    },
    {
     "data": {
      "text/plain": "4690"
     },
     "execution_count": 72,
     "metadata": {},
     "output_type": "execute_result"
    }
   ],
   "source": [
    "#Upload to elastic\n",
    "store_registry.es_index_store().put_dataframe(index_name=config.UNIFIED_DATASET_ELASTIC_SEARCH_INDEX_NAME,\n",
    "                                              content=test_unified_datasets_df)\n",
    "\n",
    "\n"
   ],
   "metadata": {
    "collapsed": false,
    "pycharm": {
     "name": "#%%\n"
    }
   }
  },
  {
   "cell_type": "code",
   "execution_count": 73,
   "outputs": [
    {
     "ename": "SyntaxError",
     "evalue": "invalid syntax (269289113.py, line 6)",
     "output_type": "error",
     "traceback": [
      "\u001B[0;36m  File \u001B[0;32m\"/tmp/ipykernel_496765/269289113.py\"\u001B[0;36m, line \u001B[0;32m6\u001B[0m\n\u001B[0;31m    def load\u001B[0m\n\u001B[0m            ^\u001B[0m\n\u001B[0;31mSyntaxError\u001B[0m\u001B[0;31m:\u001B[0m invalid syntax\n"
     ]
    }
   ],
   "source": [
    "from typing import List\n",
    "from sem_covid.adapters.abstract_store import IndexStoreABC\n",
    "\n",
    "CONTENT_COLUMN_NAME = 'content'\n",
    "TITLE_COLUMN_NAME = 'title'\n",
    "DATE_COLUMN_NAME = 'date'\n",
    "DOCUMENT_SOURCE_COLUMN_NAME = 'doc_source'\n",
    "COUNTRY_COLUMN_NAME = 'country'\n",
    "PWDB_ACTORS_COLUMN_NAME = \"pwdb_actors\"\n",
    "\n",
    "#PWDB CONSTANTS\n",
    "PWDB_CONTENT_COLUMNS = ['title', 'background_info_description', 'content_of_measure_description',\n",
    "                        'use_of_measure_description', 'involvement_of_social_partners_description']\n",
    "PWDB_DOC_SOURCE = 'ds_pwdb'\n",
    "PWDB_RENAME_COLUMNS_MAPPING = {\"category\": \"pwdb_category\", \"funding\": \"pwdb_funding\",\n",
    "                               \"type_of_measure\": \"pwdb_type_of_measure\", \"actors\": \"pwdb_actors\", \"start_date\": \"date\"}\n",
    "\n",
    "#EU_CELLAR CONSTANTS\n",
    "EU_CELLAR_CONTENT_COLUMNS = [\"title\", \"content\"]\n",
    "EU_CELLAR_DOC_SOURCE = 'ds_eu_cellar'\n",
    "EU_CELLAR_COUNTRY_NAME = \"European Union\"\n",
    "EU_CELLAR_PWDB_ACTORS = \"EU (Council, EC, EP)\"\n",
    "EU_CELLAR_RENAME_COLUMNS_MAPPING = {\"category\": \"pwdb_category\", \"funding\": \"pwdb_funding\",\n",
    "                                    \"type_of_measure\": \"pwdb_type_of_measure\"}\n",
    "\n",
    "#EU_TIMELINE CONSTANTS\n",
    "EU_TIMELINE_CONTENT_COLUMNS = [\"title\", \"abstract\", \"detail_content\"]\n",
    "EU_TIMELINE_DOC_SOURCE = 'ds_eu_timeline'\n",
    "EU_TIMELINE_COUNTRY_NAME = \"European Union\"\n",
    "EU_TIMELINE_PWDB_ACTORS = \"EU (Council, EC, EP)\"\n",
    "EU_TIMELINE_RENAME_COLUMNS_MAPPING = {\"category\": \"pwdb_category\",\n",
    "                                      \"funding\": \"pwdb_funding\",\n",
    "                                      \"type_of_measure\": \"pwdb_type_of_measure\"}\n",
    "\n",
    "#IRELAND_TIMELINE CONSTANTS\n",
    "IRELAND_TIMELINE_CONTENT_COLUMNS = [\"title\", \"content\"]\n",
    "IRELAND_TIMELINE_DOC_SOURCE = 'ds_ireland_timeline'\n",
    "IRELAND_TIMELINE_COUNTRY_NAME = \"Ireland\"\n",
    "IRELAND_TIMELINE_PWDB_ACTORS = \"National government\"\n",
    "IRELAND_TIMELINE_RENAME_COLUMNS_MAPPING = {\"category\": \"pwdb_category\",\n",
    "                                           \"funding\": \"pwdb_funding\",\n",
    "                                           \"type_of_measure\": \"pwdb_type_of_measure\"}"
   ],
   "metadata": {
    "collapsed": false,
    "pycharm": {
     "name": "#%%\n"
    }
   }
  },
  {
   "cell_type": "code",
   "execution_count": null,
   "outputs": [],
   "source": [
    "def pwdb_replace_function(dataset: pd.DataFrame):\n",
    "    dataset[\"pwdb_target_group_l2\"] = dataset[\"target_groups\"]\n",
    "\n",
    "\n",
    "def eu_timeline_replace_function(dataset: pd.DataFrame):\n",
    "    dataset[\"eu_timeline_topic\"] = dataset[\"topics\"]\n",
    "\n",
    "\n",
    "def eu_cellar_replace_function(dataset: pd.DataFrame):\n",
    "    dataset_specific_columns = [\"subject_matter_labels\",\n",
    "                                \"resource_type_labels\",\n",
    "                                \"directory_codes_labels\",\n",
    "                                \"author_labels\"]\n",
    "    for column_name in dataset_specific_columns:\n",
    "        dataset[\"eu_cellar_\" + column_name] = dataset[column_name]\n",
    "        dataset[\"eu_cellar_\" + column_name] = dataset[\"eu_cellar_\" + column_name].apply(lambda x: x if x else [])\n",
    "\n",
    "\n",
    "def ireland_timeline_replace_function(dataset: pd.DataFrame):\n",
    "    dataset_specific_columns = [\"keyword\",\n",
    "                                \"department_data\",\n",
    "                                \"campaigns_links\",\n",
    "                                \"page_type\"]\n",
    "    for column_name in dataset_specific_columns:\n",
    "        dataset[\"ireland_\" + column_name] = dataset[column_name]\n",
    "        dataset[\"ireland_\" + column_name] = dataset[\"ireland_\" + column_name].apply(lambda x: x if x else [])\n",
    "\n"
   ],
   "metadata": {
    "collapsed": false,
    "pycharm": {
     "name": "#%%\n"
    }
   }
  },
  {
   "cell_type": "code",
   "execution_count": null,
   "outputs": [],
   "source": [
    "class DefaultDatasetStructureTransformer:\n",
    "\n",
    "    def __init__(self, dataset: pd.DataFrame,\n",
    "                 content_columns: List[str],\n",
    "                 doc_source: str,\n",
    "                 replace_function: callable,\n",
    "                 rename_columns_mapping: dict,\n",
    "                 country: str = None,\n",
    "                 pwdb_actors: str = None\n",
    "                 ):\n",
    "        self.dataset = dataset\n",
    "        self.content_columns = content_columns\n",
    "        self.doc_source = doc_source\n",
    "        self.country = country\n",
    "        self.pwdb_actors = pwdb_actors\n",
    "        self.replace_function = replace_function\n",
    "        self.rename_columns_mapping = rename_columns_mapping\n",
    "\n",
    "    def create_columns(self):\n",
    "        self.dataset[CONTENT_COLUMN_NAME] = self.dataset[self.content_columns].agg(\n",
    "            lambda x: \" \".join(item if item else \"\" for item in x),\n",
    "            axis=1)\n",
    "        create_new_column_with_defined_value(self.dataset, DOCUMENT_SOURCE_COLUMN_NAME, self.doc_source)\n",
    "        if self.country:\n",
    "            create_new_column_with_defined_value(self.dataset, COUNTRY_COLUMN_NAME, self.country)\n",
    "        if self.pwdb_actors:\n",
    "            create_new_column_with_defined_value(self.dataset, PWDB_ACTORS_COLUMN_NAME, self.pwdb_actors)\n",
    "        make_target_group_l1_column(self.dataset)\n",
    "        make_document_embeddings_column(self.dataset)\n",
    "        make_topic_embeddings_column(self.dataset)\n",
    "\n",
    "        for specific_column in SPECIFIC_DATASET_COLUMNS:\n",
    "            create_new_column_with_defined_value(self.dataset, column_name=specific_column, empty_array=True)\n",
    "\n",
    "    def replace_values(self):\n",
    "        self.replace_function(self.dataset)\n",
    "\n",
    "    def rename_columns(self):\n",
    "        self.dataset.rename(columns=self.rename_columns_mapping, inplace=True)\n",
    "\n",
    "    def execute(self) -> pd.DataFrame:\n",
    "        self.create_columns()\n",
    "        self.replace_values()\n",
    "        self.rename_columns()\n",
    "        return self.dataset\n",
    "\n",
    "\n",
    "class UnifiedDatasetPipeline:\n",
    "\n",
    "    def __init__(self, es_store: IndexStoreABC):\n",
    "        self.unified_dataset = pd.DataFrame()\n",
    "        self.es_store = es_store\n",
    "        self.pwdb_df = pd.DataFrame()\n",
    "        self.eu_cellar_df = pd.DataFrame()\n",
    "        self.eu_timeline_df = pd.DataFrame()\n",
    "        self.ir_timeline_df = pd.DataFrame()\n",
    "\n",
    "    def get_steps(self) -> list:\n",
    "        return [self.extract, self.transform, self.load]\n",
    "\n",
    "    def extract(self):\n",
    "        self.pwdb_df = self.es_store.get_dataframe(index_name=config.PWDB_ELASTIC_SEARCH_INDEX_NAME)\n",
    "        self.eu_cellar_df = self.es_store.get_dataframe(\n",
    "            index_name=config.EU_CELLAR_ELASTIC_SEARCH_INDEX_NAME + \"_enriched\")\n",
    "        self.eu_timeline_df = self.es_store.get_dataframe(\n",
    "            index_name=config.EU_TIMELINE_ELASTIC_SEARCH_INDEX_NAME + \"_enriched\")\n",
    "        self.ir_timeline_df = self.es_store.get_dataframe(\n",
    "            index_name=config.IRELAND_TIMELINE_ELASTIC_SEARCH_INDEX_NAME + \"_enriched\")\n",
    "\n",
    "    def transform(self):\n",
    "        self.pwdb_df = DefaultDatasetStructureTransformer(\n",
    "            dataset=self.pwdb_df,\n",
    "            content_columns=PWDB_CONTENT_COLUMNS,\n",
    "            doc_source=PWDB_DOC_SOURCE,\n",
    "            replace_function=pwdb_replace_function,\n",
    "            rename_columns_mapping=PWDB_RENAME_COLUMNS_MAPPING\n",
    "        ).execute()\n",
    "        self.eu_cellar_df = DefaultDatasetStructureTransformer(\n",
    "            dataset=self.eu_cellar_df,\n",
    "            content_columns=EU_CELLAR_CONTENT_COLUMNS,\n",
    "            doc_source=EU_CELLAR_DOC_SOURCE,\n",
    "            replace_function=eu_cellar_replace_function,\n",
    "            rename_columns_mapping=EU_CELLAR_RENAME_COLUMNS_MAPPING,\n",
    "            country=EU_CELLAR_COUNTRY_NAME,\n",
    "            pwdb_actors=EU_CELLAR_PWDB_ACTORS\n",
    "        ).execute()\n",
    "        self.eu_timeline_df = DefaultDatasetStructureTransformer(\n",
    "            dataset=self.eu_timeline_df,\n",
    "            content_columns=EU_TIMELINE_CONTENT_COLUMNS,\n",
    "            doc_source=EU_TIMELINE_DOC_SOURCE,\n",
    "            replace_function=eu_timeline_replace_function,\n",
    "            rename_columns_mapping=EU_TIMELINE_RENAME_COLUMNS_MAPPING,\n",
    "            country=EU_TIMELINE_COUNTRY_NAME,\n",
    "            pwdb_actors=EU_TIMELINE_PWDB_ACTORS\n",
    "        ).execute()\n",
    "        self.ir_timeline_df = DefaultDatasetStructureTransformer(\n",
    "            dataset=self.ir_timeline_df,\n",
    "            content_columns=IRELAND_TIMELINE_CONTENT_COLUMNS,\n",
    "            doc_source=IRELAND_TIMELINE_DOC_SOURCE,\n",
    "            replace_function=ireland_timeline_replace_function,\n",
    "            rename_columns_mapping=IRELAND_TIMELINE_RENAME_COLUMNS_MAPPING,\n",
    "            country=IRELAND_TIMELINE_COUNTRY_NAME,\n",
    "            pwdb_actors=IRELAND_TIMELINE_PWDB_ACTORS\n",
    "        ).execute()\n",
    "        data_frames = [pd.DataFrame(data_frame[COMMON_DATASET_COLUMNS + SPECIFIC_DATASET_COLUMNS].copy())\n",
    "                       for data_frame in [self.pwdb_df, self.eu_cellar_df, self.eu_timeline_df, self.ir_timeline_df]]\n",
    "        for data_frame in data_frames:\n",
    "            data_frame.columns = COMMON_DATASET_COLUMNS + SPECIFIC_DATASET_COLUMNS\n",
    "            data_frame[CONTENT_COLUMN_NAME] = data_frame[CONTENT_COLUMN_NAME].apply(\n",
    "                lambda x: x if x not in [\"\", \" \"] else None)\n",
    "            data_frame[CONTENT_COLUMN_NAME] = data_frame[CONTENT_COLUMN_NAME].apply(\n",
    "                lambda x: replace_non_english_content(x))\n",
    "            data_frame.dropna(subset=[CONTENT_COLUMN_NAME, 'title', 'date'], how=\"any\", inplace=True)\n",
    "        self.unified_dataset = pd.DataFrame(pd.concat(data_frames))\n",
    "        self.unified_dataset.pwdb_funding = self.unified_dataset.pwdb_funding.apply(\n",
    "            lambda x: x.split('|') if type(x) == str else x)\n",
    "        self.unified_dataset.pwdb_actors = self.unified_dataset.pwdb_actors.apply(\n",
    "            lambda x: x if type(x) == list else [x])\n",
    "        #Note:the index is reset because enriched datasets have numeric indexing\n",
    "        self.unified_dataset.reset_index(inplace=True, drop=True)\n",
    "\n",
    "    def load(self):\n",
    "        self.es_store.put_dataframe(index_name=config.UNIFIED_DATASET_ELASTIC_SEARCH_INDEX_NAME,\n",
    "                                    content=self.unified_dataset)\n",
    "\n",
    "\n"
   ],
   "metadata": {
    "collapsed": false,
    "pycharm": {
     "name": "#%%\n"
    }
   }
  }
 ],
 "metadata": {
  "kernelspec": {
   "display_name": "Python 3",
   "language": "python",
   "name": "python3"
  },
  "language_info": {
   "codemirror_mode": {
    "name": "ipython",
    "version": 2
   },
   "file_extension": ".py",
   "mimetype": "text/x-python",
   "name": "python",
   "nbconvert_exporter": "python",
   "pygments_lexer": "ipython2",
   "version": "2.7.6"
  }
 },
 "nbformat": 4,
 "nbformat_minor": 0
}